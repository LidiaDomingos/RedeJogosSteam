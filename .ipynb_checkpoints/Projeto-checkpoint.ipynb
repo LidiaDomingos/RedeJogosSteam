{
 "cells": [
  {
   "cell_type": "markdown",
   "metadata": {},
   "source": [
    "\n",
    "**Projeto | Construido uma rede com jogos da Steam** 🎮️\n",
    "\n",
    "    \n",
    "---------------------\n",
    "\n",
    "**Equipe**\n",
    "\n",
    "\n",
    " * Letícia Coêlho Barbosa       | [Github](https://github.com/leticiacb1)\n",
    " <br>\n",
    "\n",
    " * Lídia Alves Chagas Domingos  | [Github](https://github.com/LidiaDomingos)\n",
    " <br>\n",
    "\n",
    " * Lorran Caetano Lopes         | [Github](https://github.com/lorrancmlopes)\n",
    " <br>\n",
    " \n",
    " ---------------------\n",
    "\n",
    "* **Dataset escolhido** : [Jogos da Steam](https://www.kaggle.com/datasets/fronkongames/steam-games-dataset)"
   ]
  },
  {
   "cell_type": "markdown",
   "metadata": {},
   "source": [
    "### O DATASET\n",
    "\n",
    "-------\n",
    "\n",
    "O contexto do projeto engloba os jogos famosos para computadores disponíveis na Steam. Atualmente, a plataforma Steam possui aproximadamente 95 milhões de usuários no mundo todo e é sucesso entre os gamers, sendo a atual líder do mercado. \n",
    "\n",
    "\n",
    "#### Principais colunas\n",
    "\n",
    "O dataset escolhido possui 39 colunas, nesse tópico citaremos a descrições de algumas colunas de maior interesse para analise.\n",
    "\n",
    "* **name** : nome do jogo.\n",
    "\n",
    "* **releaseDate** : data de lançamento.\n",
    "\n",
    "* **price** : preço do jogo.\n",
    "\n",
    "* **metacritic_score** : media das notas dadas por avaliações de profissionais.\n",
    "\n",
    "* **user_score** : media das notas dadas pelos usuários do jogo.\n",
    "\n",
    "* **score_rank** : o ranke do jogo baseado nas avaliações dos usuários.\n",
    "\n",
    "* **developers** : desenvolvedores dos jogos.\n",
    "\n",
    "* **categories** : categoria dos jogos.\n",
    "\n",
    "* **genres** : genero do jogo.\n",
    "\n",
    "* **tags** : Tags do jogo.\n",
    " \n",
    " \n",
    " ### NOSSA REDE\n",
    "\n",
    "-------\n",
    "\n",
    "\n"
   ]
  },
  {
   "cell_type": "code",
   "execution_count": null,
   "metadata": {},
   "outputs": [],
   "source": []
  },
  {
   "cell_type": "code",
   "execution_count": null,
   "metadata": {},
   "outputs": [],
   "source": []
  },
  {
   "cell_type": "markdown",
   "metadata": {},
   "source": [
    "### Analisando os dados "
   ]
  },
  {
   "cell_type": "code",
   "execution_count": 95,
   "metadata": {},
   "outputs": [],
   "source": [
    "# Importanto bibliotecas utilizadas na aps\n",
    "import seaborn as sns\n",
    "from netpixi.integration.gt import *\n",
    "from regression.integration.gt import *\n",
    "import netpixi\n",
    "import pandas as pd\n",
    "\n",
    "# Grafo não direcional | Informação obtida via documentação\n",
    "g = Graph(directed=False)  # Não direcional - Documentação"
   ]
  },
  {
   "cell_type": "code",
   "execution_count": 96,
   "metadata": {
    "scrolled": true
   },
   "outputs": [
    {
     "data": {
      "text/plain": [
       "Index(['AppID', 'Name', 'Release date', 'Estimated owners', 'Peak CCU',\n",
       "       'Required age', 'Price', 'DLC count', 'About the game',\n",
       "       'Supported languages', 'Full audio languages', 'Reviews',\n",
       "       'Header image', 'Website', 'Support url', 'Support email', 'Windows',\n",
       "       'Mac', 'Linux', 'Metacritic score', 'Metacritic url', 'User score',\n",
       "       'Positive', 'Negative', 'Score rank', 'Achievements', 'Recommendations',\n",
       "       'Notes', 'Average playtime forever', 'Average playtime two weeks',\n",
       "       'Median playtime forever', 'Median playtime two weeks', 'Developers',\n",
       "       'Publishers', 'Categories', 'Genres', 'Tags', 'Screenshots', 'Movies'],\n",
       "      dtype='object')"
      ]
     },
     "execution_count": 96,
     "metadata": {},
     "output_type": "execute_result"
    }
   ],
   "source": [
    "# Lendo o arquivo\n",
    "df_principal = pd.read_csv('games.csv')\n",
    "df_principal.columns"
   ]
  },
  {
   "cell_type": "code",
   "execution_count": 97,
   "metadata": {},
   "outputs": [
    {
     "data": {
      "text/html": [
       "<div>\n",
       "<style scoped>\n",
       "    .dataframe tbody tr th:only-of-type {\n",
       "        vertical-align: middle;\n",
       "    }\n",
       "\n",
       "    .dataframe tbody tr th {\n",
       "        vertical-align: top;\n",
       "    }\n",
       "\n",
       "    .dataframe thead th {\n",
       "        text-align: right;\n",
       "    }\n",
       "</style>\n",
       "<table border=\"1\" class=\"dataframe\">\n",
       "  <thead>\n",
       "    <tr style=\"text-align: right;\">\n",
       "      <th></th>\n",
       "      <th>AppID</th>\n",
       "      <th>Name</th>\n",
       "      <th>Release date</th>\n",
       "      <th>Estimated owners</th>\n",
       "      <th>Peak CCU</th>\n",
       "      <th>Required age</th>\n",
       "      <th>Price</th>\n",
       "      <th>DLC count</th>\n",
       "      <th>About the game</th>\n",
       "      <th>Supported languages</th>\n",
       "      <th>...</th>\n",
       "      <th>Average playtime two weeks</th>\n",
       "      <th>Median playtime forever</th>\n",
       "      <th>Median playtime two weeks</th>\n",
       "      <th>Developers</th>\n",
       "      <th>Publishers</th>\n",
       "      <th>Categories</th>\n",
       "      <th>Genres</th>\n",
       "      <th>Tags</th>\n",
       "      <th>Screenshots</th>\n",
       "      <th>Movies</th>\n",
       "    </tr>\n",
       "  </thead>\n",
       "  <tbody>\n",
       "    <tr>\n",
       "      <th>0</th>\n",
       "      <td>20200</td>\n",
       "      <td>Galactic Bowling</td>\n",
       "      <td>Oct 21, 2008</td>\n",
       "      <td>0 - 20000</td>\n",
       "      <td>0</td>\n",
       "      <td>0</td>\n",
       "      <td>19.99</td>\n",
       "      <td>0</td>\n",
       "      <td>Galactic Bowling is an exaggerated and stylize...</td>\n",
       "      <td>['English']</td>\n",
       "      <td>...</td>\n",
       "      <td>0</td>\n",
       "      <td>0</td>\n",
       "      <td>0</td>\n",
       "      <td>Perpetual FX Creative</td>\n",
       "      <td>Perpetual FX Creative</td>\n",
       "      <td>Single-player,Multi-player,Steam Achievements,...</td>\n",
       "      <td>Casual,Indie,Sports</td>\n",
       "      <td>Indie,Casual,Sports,Bowling</td>\n",
       "      <td>https://cdn.akamai.steamstatic.com/steam/apps/...</td>\n",
       "      <td>http://cdn.akamai.steamstatic.com/steam/apps/2...</td>\n",
       "    </tr>\n",
       "    <tr>\n",
       "      <th>1</th>\n",
       "      <td>655370</td>\n",
       "      <td>Train Bandit</td>\n",
       "      <td>Oct 12, 2017</td>\n",
       "      <td>0 - 20000</td>\n",
       "      <td>0</td>\n",
       "      <td>0</td>\n",
       "      <td>0.99</td>\n",
       "      <td>0</td>\n",
       "      <td>THE LAW!! Looks to be a showdown atop a train....</td>\n",
       "      <td>['English', 'French', 'Italian', 'German', 'Sp...</td>\n",
       "      <td>...</td>\n",
       "      <td>0</td>\n",
       "      <td>0</td>\n",
       "      <td>0</td>\n",
       "      <td>Rusty Moyher</td>\n",
       "      <td>Wild Rooster</td>\n",
       "      <td>Single-player,Steam Achievements,Full controll...</td>\n",
       "      <td>Action,Indie</td>\n",
       "      <td>Indie,Action,Pixel Graphics,2D,Retro,Arcade,Sc...</td>\n",
       "      <td>https://cdn.akamai.steamstatic.com/steam/apps/...</td>\n",
       "      <td>http://cdn.akamai.steamstatic.com/steam/apps/2...</td>\n",
       "    </tr>\n",
       "    <tr>\n",
       "      <th>2</th>\n",
       "      <td>1732930</td>\n",
       "      <td>Jolt Project</td>\n",
       "      <td>Nov 17, 2021</td>\n",
       "      <td>0 - 20000</td>\n",
       "      <td>0</td>\n",
       "      <td>0</td>\n",
       "      <td>4.99</td>\n",
       "      <td>0</td>\n",
       "      <td>Jolt Project: The army now has a new robotics ...</td>\n",
       "      <td>['English', 'Portuguese - Brazil']</td>\n",
       "      <td>...</td>\n",
       "      <td>0</td>\n",
       "      <td>0</td>\n",
       "      <td>0</td>\n",
       "      <td>Campião Games</td>\n",
       "      <td>Campião Games</td>\n",
       "      <td>Single-player</td>\n",
       "      <td>Action,Adventure,Indie,Strategy</td>\n",
       "      <td>NaN</td>\n",
       "      <td>https://cdn.akamai.steamstatic.com/steam/apps/...</td>\n",
       "      <td>http://cdn.akamai.steamstatic.com/steam/apps/2...</td>\n",
       "    </tr>\n",
       "    <tr>\n",
       "      <th>3</th>\n",
       "      <td>1355720</td>\n",
       "      <td>Henosis™</td>\n",
       "      <td>Jul 23, 2020</td>\n",
       "      <td>0 - 20000</td>\n",
       "      <td>0</td>\n",
       "      <td>0</td>\n",
       "      <td>5.99</td>\n",
       "      <td>0</td>\n",
       "      <td>HENOSIS™ is a mysterious 2D Platform Puzzler w...</td>\n",
       "      <td>['English', 'French', 'Italian', 'German', 'Sp...</td>\n",
       "      <td>...</td>\n",
       "      <td>0</td>\n",
       "      <td>0</td>\n",
       "      <td>0</td>\n",
       "      <td>Odd Critter Games</td>\n",
       "      <td>Odd Critter Games</td>\n",
       "      <td>Single-player,Full controller support</td>\n",
       "      <td>Adventure,Casual,Indie</td>\n",
       "      <td>2D Platformer,Atmospheric,Surreal,Mystery,Puzz...</td>\n",
       "      <td>https://cdn.akamai.steamstatic.com/steam/apps/...</td>\n",
       "      <td>http://cdn.akamai.steamstatic.com/steam/apps/2...</td>\n",
       "    </tr>\n",
       "    <tr>\n",
       "      <th>4</th>\n",
       "      <td>1139950</td>\n",
       "      <td>Two Weeks in Painland</td>\n",
       "      <td>Feb 3, 2020</td>\n",
       "      <td>0 - 20000</td>\n",
       "      <td>0</td>\n",
       "      <td>0</td>\n",
       "      <td>0.00</td>\n",
       "      <td>0</td>\n",
       "      <td>ABOUT THE GAME Play as a hacker who has arrang...</td>\n",
       "      <td>['English', 'Spanish - Spain']</td>\n",
       "      <td>...</td>\n",
       "      <td>0</td>\n",
       "      <td>0</td>\n",
       "      <td>0</td>\n",
       "      <td>Unusual Games</td>\n",
       "      <td>Unusual Games</td>\n",
       "      <td>Single-player,Steam Achievements</td>\n",
       "      <td>Adventure,Indie</td>\n",
       "      <td>Indie,Adventure,Nudity,Violent,Sexual Content,...</td>\n",
       "      <td>https://cdn.akamai.steamstatic.com/steam/apps/...</td>\n",
       "      <td>http://cdn.akamai.steamstatic.com/steam/apps/2...</td>\n",
       "    </tr>\n",
       "    <tr>\n",
       "      <th>...</th>\n",
       "      <td>...</td>\n",
       "      <td>...</td>\n",
       "      <td>...</td>\n",
       "      <td>...</td>\n",
       "      <td>...</td>\n",
       "      <td>...</td>\n",
       "      <td>...</td>\n",
       "      <td>...</td>\n",
       "      <td>...</td>\n",
       "      <td>...</td>\n",
       "      <td>...</td>\n",
       "      <td>...</td>\n",
       "      <td>...</td>\n",
       "      <td>...</td>\n",
       "      <td>...</td>\n",
       "      <td>...</td>\n",
       "      <td>...</td>\n",
       "      <td>...</td>\n",
       "      <td>...</td>\n",
       "      <td>...</td>\n",
       "      <td>...</td>\n",
       "    </tr>\n",
       "    <tr>\n",
       "      <th>71711</th>\n",
       "      <td>2159120</td>\n",
       "      <td>SUR5</td>\n",
       "      <td>Apr 1, 2023</td>\n",
       "      <td>0 - 0</td>\n",
       "      <td>0</td>\n",
       "      <td>0</td>\n",
       "      <td>0.00</td>\n",
       "      <td>0</td>\n",
       "      <td>Innovative Gameplay SUR5 brings a brand new, f...</td>\n",
       "      <td>['English', 'Polish', 'Spanish - Latin America']</td>\n",
       "      <td>...</td>\n",
       "      <td>0</td>\n",
       "      <td>0</td>\n",
       "      <td>0</td>\n",
       "      <td>Katharsis</td>\n",
       "      <td>Katharsis</td>\n",
       "      <td>Single-player,Multi-player,PvP,Online PvP,Stea...</td>\n",
       "      <td>Free to Play,Indie,Massively Multiplayer,Strat...</td>\n",
       "      <td>NaN</td>\n",
       "      <td>https://cdn.akamai.steamstatic.com/steam/apps/...</td>\n",
       "      <td>http://cdn.akamai.steamstatic.com/steam/apps/2...</td>\n",
       "    </tr>\n",
       "    <tr>\n",
       "      <th>71712</th>\n",
       "      <td>2125160</td>\n",
       "      <td>Prison Life 2</td>\n",
       "      <td>Mar 30, 2023</td>\n",
       "      <td>0 - 20000</td>\n",
       "      <td>6</td>\n",
       "      <td>0</td>\n",
       "      <td>10.79</td>\n",
       "      <td>0</td>\n",
       "      <td>Core Features Real players only! All Guards an...</td>\n",
       "      <td>['English', 'French', 'Italian', 'German', 'Sp...</td>\n",
       "      <td>...</td>\n",
       "      <td>0</td>\n",
       "      <td>0</td>\n",
       "      <td>0</td>\n",
       "      <td>AO Games</td>\n",
       "      <td>AO Games</td>\n",
       "      <td>Single-player,Multi-player,PvP,Online PvP,Co-o...</td>\n",
       "      <td>Casual,Indie,RPG,Simulation,Strategy</td>\n",
       "      <td>First-Person,Detective,Social Deduction,Multip...</td>\n",
       "      <td>https://cdn.akamai.steamstatic.com/steam/apps/...</td>\n",
       "      <td>http://cdn.akamai.steamstatic.com/steam/apps/2...</td>\n",
       "    </tr>\n",
       "    <tr>\n",
       "      <th>71713</th>\n",
       "      <td>2318860</td>\n",
       "      <td>Architecture Zeitgeist</td>\n",
       "      <td>Mar 27, 2023</td>\n",
       "      <td>0 - 20000</td>\n",
       "      <td>0</td>\n",
       "      <td>0</td>\n",
       "      <td>5.99</td>\n",
       "      <td>0</td>\n",
       "      <td>Architecture Zeitgeist is a game created with ...</td>\n",
       "      <td>['English', 'Japanese', 'Portuguese - Brazil',...</td>\n",
       "      <td>...</td>\n",
       "      <td>0</td>\n",
       "      <td>0</td>\n",
       "      <td>0</td>\n",
       "      <td>Matheus Rudo</td>\n",
       "      <td>Rudo Studios</td>\n",
       "      <td>Single-player</td>\n",
       "      <td>Casual,Simulation,Early Access</td>\n",
       "      <td>Casual,Simulation,Puzzle,Exploration,Immersive...</td>\n",
       "      <td>https://cdn.akamai.steamstatic.com/steam/apps/...</td>\n",
       "      <td>http://cdn.akamai.steamstatic.com/steam/apps/2...</td>\n",
       "    </tr>\n",
       "    <tr>\n",
       "      <th>71714</th>\n",
       "      <td>2180330</td>\n",
       "      <td>Girl's Way to Survive 2: Bloody Museum</td>\n",
       "      <td>Apr 2, 2023</td>\n",
       "      <td>0 - 0</td>\n",
       "      <td>0</td>\n",
       "      <td>0</td>\n",
       "      <td>2.39</td>\n",
       "      <td>0</td>\n",
       "      <td>Development progress: prologue map (finished),...</td>\n",
       "      <td>['Simplified Chinese']</td>\n",
       "      <td>...</td>\n",
       "      <td>0</td>\n",
       "      <td>0</td>\n",
       "      <td>0</td>\n",
       "      <td>绅士游戏工坊</td>\n",
       "      <td>绅士游戏工坊</td>\n",
       "      <td>Single-player</td>\n",
       "      <td>Action,Casual,Indie,RPG,Early Access</td>\n",
       "      <td>NaN</td>\n",
       "      <td>https://cdn.akamai.steamstatic.com/steam/apps/...</td>\n",
       "      <td>http://cdn.akamai.steamstatic.com/steam/apps/2...</td>\n",
       "    </tr>\n",
       "    <tr>\n",
       "      <th>71715</th>\n",
       "      <td>2352890</td>\n",
       "      <td>Hentai Ariel</td>\n",
       "      <td>Mar 30, 2023</td>\n",
       "      <td>0 - 20000</td>\n",
       "      <td>1</td>\n",
       "      <td>0</td>\n",
       "      <td>0.74</td>\n",
       "      <td>0</td>\n",
       "      <td>'Hentai Ariel' is a unique puzzle in which the...</td>\n",
       "      <td>['English', 'French', 'Italian', 'German', 'Sp...</td>\n",
       "      <td>...</td>\n",
       "      <td>0</td>\n",
       "      <td>0</td>\n",
       "      <td>0</td>\n",
       "      <td>Cyber Keks</td>\n",
       "      <td>Cyber Keks</td>\n",
       "      <td>Single-player,Steam Achievements</td>\n",
       "      <td>Casual,Indie</td>\n",
       "      <td>NaN</td>\n",
       "      <td>https://cdn.akamai.steamstatic.com/steam/apps/...</td>\n",
       "      <td>http://cdn.akamai.steamstatic.com/steam/apps/2...</td>\n",
       "    </tr>\n",
       "  </tbody>\n",
       "</table>\n",
       "<p>71716 rows × 39 columns</p>\n",
       "</div>"
      ],
      "text/plain": [
       "         AppID                                    Name  Release date  \\\n",
       "0        20200                        Galactic Bowling  Oct 21, 2008   \n",
       "1       655370                            Train Bandit  Oct 12, 2017   \n",
       "2      1732930                            Jolt Project  Nov 17, 2021   \n",
       "3      1355720                                Henosis™  Jul 23, 2020   \n",
       "4      1139950                   Two Weeks in Painland   Feb 3, 2020   \n",
       "...        ...                                     ...           ...   \n",
       "71711  2159120                                    SUR5   Apr 1, 2023   \n",
       "71712  2125160                           Prison Life 2  Mar 30, 2023   \n",
       "71713  2318860                  Architecture Zeitgeist  Mar 27, 2023   \n",
       "71714  2180330  Girl's Way to Survive 2: Bloody Museum   Apr 2, 2023   \n",
       "71715  2352890                            Hentai Ariel  Mar 30, 2023   \n",
       "\n",
       "      Estimated owners  Peak CCU  Required age  Price  DLC count  \\\n",
       "0            0 - 20000         0             0  19.99          0   \n",
       "1            0 - 20000         0             0   0.99          0   \n",
       "2            0 - 20000         0             0   4.99          0   \n",
       "3            0 - 20000         0             0   5.99          0   \n",
       "4            0 - 20000         0             0   0.00          0   \n",
       "...                ...       ...           ...    ...        ...   \n",
       "71711            0 - 0         0             0   0.00          0   \n",
       "71712        0 - 20000         6             0  10.79          0   \n",
       "71713        0 - 20000         0             0   5.99          0   \n",
       "71714            0 - 0         0             0   2.39          0   \n",
       "71715        0 - 20000         1             0   0.74          0   \n",
       "\n",
       "                                          About the game  \\\n",
       "0      Galactic Bowling is an exaggerated and stylize...   \n",
       "1      THE LAW!! Looks to be a showdown atop a train....   \n",
       "2      Jolt Project: The army now has a new robotics ...   \n",
       "3      HENOSIS™ is a mysterious 2D Platform Puzzler w...   \n",
       "4      ABOUT THE GAME Play as a hacker who has arrang...   \n",
       "...                                                  ...   \n",
       "71711  Innovative Gameplay SUR5 brings a brand new, f...   \n",
       "71712  Core Features Real players only! All Guards an...   \n",
       "71713  Architecture Zeitgeist is a game created with ...   \n",
       "71714  Development progress: prologue map (finished),...   \n",
       "71715  'Hentai Ariel' is a unique puzzle in which the...   \n",
       "\n",
       "                                     Supported languages  ...  \\\n",
       "0                                            ['English']  ...   \n",
       "1      ['English', 'French', 'Italian', 'German', 'Sp...  ...   \n",
       "2                     ['English', 'Portuguese - Brazil']  ...   \n",
       "3      ['English', 'French', 'Italian', 'German', 'Sp...  ...   \n",
       "4                         ['English', 'Spanish - Spain']  ...   \n",
       "...                                                  ...  ...   \n",
       "71711   ['English', 'Polish', 'Spanish - Latin America']  ...   \n",
       "71712  ['English', 'French', 'Italian', 'German', 'Sp...  ...   \n",
       "71713  ['English', 'Japanese', 'Portuguese - Brazil',...  ...   \n",
       "71714                             ['Simplified Chinese']  ...   \n",
       "71715  ['English', 'French', 'Italian', 'German', 'Sp...  ...   \n",
       "\n",
       "      Average playtime two weeks Median playtime forever  \\\n",
       "0                              0                       0   \n",
       "1                              0                       0   \n",
       "2                              0                       0   \n",
       "3                              0                       0   \n",
       "4                              0                       0   \n",
       "...                          ...                     ...   \n",
       "71711                          0                       0   \n",
       "71712                          0                       0   \n",
       "71713                          0                       0   \n",
       "71714                          0                       0   \n",
       "71715                          0                       0   \n",
       "\n",
       "      Median playtime two weeks             Developers             Publishers  \\\n",
       "0                             0  Perpetual FX Creative  Perpetual FX Creative   \n",
       "1                             0           Rusty Moyher           Wild Rooster   \n",
       "2                             0          Campião Games          Campião Games   \n",
       "3                             0      Odd Critter Games      Odd Critter Games   \n",
       "4                             0          Unusual Games          Unusual Games   \n",
       "...                         ...                    ...                    ...   \n",
       "71711                         0              Katharsis              Katharsis   \n",
       "71712                         0               AO Games               AO Games   \n",
       "71713                         0           Matheus Rudo           Rudo Studios   \n",
       "71714                         0                 绅士游戏工坊                 绅士游戏工坊   \n",
       "71715                         0             Cyber Keks             Cyber Keks   \n",
       "\n",
       "                                              Categories  \\\n",
       "0      Single-player,Multi-player,Steam Achievements,...   \n",
       "1      Single-player,Steam Achievements,Full controll...   \n",
       "2                                          Single-player   \n",
       "3                  Single-player,Full controller support   \n",
       "4                       Single-player,Steam Achievements   \n",
       "...                                                  ...   \n",
       "71711  Single-player,Multi-player,PvP,Online PvP,Stea...   \n",
       "71712  Single-player,Multi-player,PvP,Online PvP,Co-o...   \n",
       "71713                                      Single-player   \n",
       "71714                                      Single-player   \n",
       "71715                   Single-player,Steam Achievements   \n",
       "\n",
       "                                                  Genres  \\\n",
       "0                                    Casual,Indie,Sports   \n",
       "1                                           Action,Indie   \n",
       "2                        Action,Adventure,Indie,Strategy   \n",
       "3                                 Adventure,Casual,Indie   \n",
       "4                                        Adventure,Indie   \n",
       "...                                                  ...   \n",
       "71711  Free to Play,Indie,Massively Multiplayer,Strat...   \n",
       "71712               Casual,Indie,RPG,Simulation,Strategy   \n",
       "71713                     Casual,Simulation,Early Access   \n",
       "71714               Action,Casual,Indie,RPG,Early Access   \n",
       "71715                                       Casual,Indie   \n",
       "\n",
       "                                                    Tags  \\\n",
       "0                            Indie,Casual,Sports,Bowling   \n",
       "1      Indie,Action,Pixel Graphics,2D,Retro,Arcade,Sc...   \n",
       "2                                                    NaN   \n",
       "3      2D Platformer,Atmospheric,Surreal,Mystery,Puzz...   \n",
       "4      Indie,Adventure,Nudity,Violent,Sexual Content,...   \n",
       "...                                                  ...   \n",
       "71711                                                NaN   \n",
       "71712  First-Person,Detective,Social Deduction,Multip...   \n",
       "71713  Casual,Simulation,Puzzle,Exploration,Immersive...   \n",
       "71714                                                NaN   \n",
       "71715                                                NaN   \n",
       "\n",
       "                                             Screenshots  \\\n",
       "0      https://cdn.akamai.steamstatic.com/steam/apps/...   \n",
       "1      https://cdn.akamai.steamstatic.com/steam/apps/...   \n",
       "2      https://cdn.akamai.steamstatic.com/steam/apps/...   \n",
       "3      https://cdn.akamai.steamstatic.com/steam/apps/...   \n",
       "4      https://cdn.akamai.steamstatic.com/steam/apps/...   \n",
       "...                                                  ...   \n",
       "71711  https://cdn.akamai.steamstatic.com/steam/apps/...   \n",
       "71712  https://cdn.akamai.steamstatic.com/steam/apps/...   \n",
       "71713  https://cdn.akamai.steamstatic.com/steam/apps/...   \n",
       "71714  https://cdn.akamai.steamstatic.com/steam/apps/...   \n",
       "71715  https://cdn.akamai.steamstatic.com/steam/apps/...   \n",
       "\n",
       "                                                  Movies  \n",
       "0      http://cdn.akamai.steamstatic.com/steam/apps/2...  \n",
       "1      http://cdn.akamai.steamstatic.com/steam/apps/2...  \n",
       "2      http://cdn.akamai.steamstatic.com/steam/apps/2...  \n",
       "3      http://cdn.akamai.steamstatic.com/steam/apps/2...  \n",
       "4      http://cdn.akamai.steamstatic.com/steam/apps/2...  \n",
       "...                                                  ...  \n",
       "71711  http://cdn.akamai.steamstatic.com/steam/apps/2...  \n",
       "71712  http://cdn.akamai.steamstatic.com/steam/apps/2...  \n",
       "71713  http://cdn.akamai.steamstatic.com/steam/apps/2...  \n",
       "71714  http://cdn.akamai.steamstatic.com/steam/apps/2...  \n",
       "71715  http://cdn.akamai.steamstatic.com/steam/apps/2...  \n",
       "\n",
       "[71716 rows x 39 columns]"
      ]
     },
     "execution_count": 97,
     "metadata": {},
     "output_type": "execute_result"
    }
   ],
   "source": [
    "df_principal"
   ]
  },
  {
   "cell_type": "code",
   "execution_count": 98,
   "metadata": {},
   "outputs": [
    {
     "name": "stdout",
     "output_type": "stream",
     "text": [
      " Valores únicos :\n",
      " [ 0 62 64 53 84 89 70 86 40 87 92 76 51 49 81 69 72 68 52 82 59 77 79 71\n",
      " 74 73 88 47 75 66 50 63 67 80 58 90 39 78 55 85 65 91 83 57 56 44 60 61\n",
      " 48 46 23 45 94 27 38 30 35 54 41 43 32 34 93 37 36 95 42 29 24 96 20 33\n",
      " 97]\n",
      "\n",
      " Distribuição :\n",
      " 0     67938\n",
      "80      183\n",
      "77      165\n",
      "76      164\n",
      "78      161\n",
      "      ...  \n",
      "23        1\n",
      "27        1\n",
      "24        1\n",
      "20        1\n",
      "33        1\n",
      "Name: Metacritic score, Length: 73, dtype: int64\n"
     ]
    }
   ],
   "source": [
    "# Verificando valores únicos das métricas\n",
    "# Muitos valores = 0\n",
    "print(f\" Valores únicos :\\n {df_principal['Metacritic score'].unique()}\\n\")\n",
    "print(f\" Distribuição :\\n {df_principal['Metacritic score'].value_counts()}\")"
   ]
  },
  {
   "cell_type": "code",
   "execution_count": 99,
   "metadata": {},
   "outputs": [
    {
     "data": {
      "text/plain": [
       "count    71716.000000\n",
       "mean         3.834207\n",
       "std         16.437707\n",
       "min          0.000000\n",
       "25%          0.000000\n",
       "50%          0.000000\n",
       "75%          0.000000\n",
       "max         97.000000\n",
       "Name: Metacritic score, dtype: float64"
      ]
     },
     "execution_count": 99,
     "metadata": {},
     "output_type": "execute_result"
    }
   ],
   "source": [
    "# Verificando a distribuição de valores do Metacritic score\n",
    "df_principal['Metacritic score'].describe()"
   ]
  },
  {
   "cell_type": "code",
   "execution_count": 100,
   "metadata": {},
   "outputs": [
    {
     "data": {
      "text/plain": [
       "(299, 39)"
      ]
     },
     "execution_count": 100,
     "metadata": {},
     "output_type": "execute_result"
    }
   ],
   "source": [
    "# Retira valores Nulos presentes nas colunas listas\n",
    "df_principal.dropna(subset=['Tags', 'User score', 'Metacritic score'], inplace=True)\n",
    "df_principal = df_principal[df_principal['Metacritic score'] != 0]    # Retirando valores nulos e valores = 1\n",
    "\n",
    "# Amostragem para anos > 2020 e < 2023\n",
    "df_principal = df_principal[ df_principal[\"Release date\"].map(lambda date: ((int(date.split(' ')[-1]) > 2020) and int(date.split(' ')[-1]) < 2023))== True]\n",
    "\n",
    "df_principal.reset_index(inplace=True, drop=True)\n",
    "df_principal.shape"
   ]
  },
  {
   "cell_type": "code",
   "execution_count": 101,
   "metadata": {},
   "outputs": [
    {
     "data": {
      "text/plain": [
       "count    299.000000\n",
       "mean      76.963211\n",
       "std        7.544186\n",
       "min       48.000000\n",
       "25%       73.000000\n",
       "50%       78.000000\n",
       "75%       82.000000\n",
       "max       97.000000\n",
       "Name: Metacritic score, dtype: float64"
      ]
     },
     "execution_count": 101,
     "metadata": {},
     "output_type": "execute_result"
    }
   ],
   "source": [
    "# Pós transformação\n",
    "df_principal['Metacritic score'].describe()"
   ]
  },
  {
   "cell_type": "code",
   "execution_count": 102,
   "metadata": {},
   "outputs": [
    {
     "data": {
      "text/plain": [
       "0      [Rhythm, VR, Multiplayer, Music, Racing, PvP, ...\n",
       "1      [Management, Simulation, Anime, Sexual Content...\n",
       "2      [Casual, Simulation, Strategy, Indie, Manageme...\n",
       "3      [Puzzle, Difficult, Indie, Singleplayer, Sokob...\n",
       "4      [RPG, Choices Matter, Story Rich, Detective, T...\n",
       "                             ...                        \n",
       "294    [Strategy, Post-apocalyptic, Survival, Colony ...\n",
       "295    [Atmospheric, Resource Management, Simulation,...\n",
       "296    [Metroidvania, Female Protagonist, Shoot 'Em U...\n",
       "297    [Colony Sim, Indie, Pixel Graphics, Simulation...\n",
       "298    [Indie, Rhythm, Action, Hand-drawn, Colorful, ...\n",
       "Name: Tags, Length: 299, dtype: object"
      ]
     },
     "execution_count": 102,
     "metadata": {},
     "output_type": "execute_result"
    }
   ],
   "source": [
    "# Transforma a coluna Tags em lista de Tags:\n",
    "df_principal['Tags'] = df_principal.Tags.apply(lambda x: str(x).split(','))\n",
    "df_principal['Tags']"
   ]
  },
  {
   "cell_type": "code",
   "execution_count": 103,
   "metadata": {},
   "outputs": [
    {
     "data": {
      "text/html": [
       "<div>\n",
       "<style scoped>\n",
       "    .dataframe tbody tr th:only-of-type {\n",
       "        vertical-align: middle;\n",
       "    }\n",
       "\n",
       "    .dataframe tbody tr th {\n",
       "        vertical-align: top;\n",
       "    }\n",
       "\n",
       "    .dataframe thead th {\n",
       "        text-align: right;\n",
       "    }\n",
       "</style>\n",
       "<table border=\"1\" class=\"dataframe\">\n",
       "  <thead>\n",
       "    <tr style=\"text-align: right;\">\n",
       "      <th></th>\n",
       "      <th>AppID</th>\n",
       "      <th>Name</th>\n",
       "      <th>Release date</th>\n",
       "      <th>Estimated owners</th>\n",
       "      <th>Peak CCU</th>\n",
       "      <th>Required age</th>\n",
       "      <th>Price</th>\n",
       "      <th>DLC count</th>\n",
       "      <th>About the game</th>\n",
       "      <th>Supported languages</th>\n",
       "      <th>...</th>\n",
       "      <th>Average playtime two weeks</th>\n",
       "      <th>Median playtime forever</th>\n",
       "      <th>Median playtime two weeks</th>\n",
       "      <th>Developers</th>\n",
       "      <th>Publishers</th>\n",
       "      <th>Categories</th>\n",
       "      <th>Genres</th>\n",
       "      <th>Tags</th>\n",
       "      <th>Screenshots</th>\n",
       "      <th>Movies</th>\n",
       "    </tr>\n",
       "  </thead>\n",
       "  <tbody>\n",
       "    <tr>\n",
       "      <th>0</th>\n",
       "      <td>1345820</td>\n",
       "      <td>Ragnarock</td>\n",
       "      <td>Jul 15, 2021</td>\n",
       "      <td>50000 - 100000</td>\n",
       "      <td>44</td>\n",
       "      <td>0</td>\n",
       "      <td>16.24</td>\n",
       "      <td>17</td>\n",
       "      <td>Are you ready to rock? Ragnarock is a solo/mul...</td>\n",
       "      <td>['English', 'French', 'Italian', 'German', 'Sp...</td>\n",
       "      <td>...</td>\n",
       "      <td>0</td>\n",
       "      <td>281</td>\n",
       "      <td>0</td>\n",
       "      <td>WanadevStudio</td>\n",
       "      <td>WanadevStudio</td>\n",
       "      <td>Single-player,Multi-player,PvP,Online PvP,Stea...</td>\n",
       "      <td>Casual,Indie,Racing,Sports</td>\n",
       "      <td>[Rhythm, VR, Multiplayer, Music, Racing, PvP, ...</td>\n",
       "      <td>https://cdn.akamai.steamstatic.com/steam/apps/...</td>\n",
       "      <td>http://cdn.akamai.steamstatic.com/steam/apps/2...</td>\n",
       "    </tr>\n",
       "    <tr>\n",
       "      <th>1</th>\n",
       "      <td>821880</td>\n",
       "      <td>Idol Manager</td>\n",
       "      <td>Jul 26, 2021</td>\n",
       "      <td>100000 - 200000</td>\n",
       "      <td>102</td>\n",
       "      <td>0</td>\n",
       "      <td>19.99</td>\n",
       "      <td>0</td>\n",
       "      <td>You take on the role of manager at a small (bu...</td>\n",
       "      <td>['English', 'Japanese', 'Russian', 'Simplified...</td>\n",
       "      <td>...</td>\n",
       "      <td>0</td>\n",
       "      <td>853</td>\n",
       "      <td>0</td>\n",
       "      <td>Glitch Pitch</td>\n",
       "      <td>PLAYISM</td>\n",
       "      <td>Single-player,Steam Achievements,Steam Worksho...</td>\n",
       "      <td>Indie,Simulation,Strategy</td>\n",
       "      <td>[Management, Simulation, Anime, Sexual Content...</td>\n",
       "      <td>https://cdn.akamai.steamstatic.com/steam/apps/...</td>\n",
       "      <td>http://cdn.akamai.steamstatic.com/steam/apps/2...</td>\n",
       "    </tr>\n",
       "    <tr>\n",
       "      <th>2</th>\n",
       "      <td>1127500</td>\n",
       "      <td>Mini Motorways</td>\n",
       "      <td>Jul 20, 2021</td>\n",
       "      <td>200000 - 500000</td>\n",
       "      <td>473</td>\n",
       "      <td>0</td>\n",
       "      <td>9.99</td>\n",
       "      <td>0</td>\n",
       "      <td>Have you ever been stuck in traffic and wished...</td>\n",
       "      <td>['English', 'French', 'Italian', 'German', 'Sp...</td>\n",
       "      <td>...</td>\n",
       "      <td>126</td>\n",
       "      <td>373</td>\n",
       "      <td>186</td>\n",
       "      <td>Dinosaur Polo Club</td>\n",
       "      <td>Dinosaur Polo Club</td>\n",
       "      <td>Single-player,Steam Achievements,Full controll...</td>\n",
       "      <td>Casual,Indie,Simulation,Strategy</td>\n",
       "      <td>[Casual, Simulation, Strategy, Indie, Manageme...</td>\n",
       "      <td>https://cdn.akamai.steamstatic.com/steam/apps/...</td>\n",
       "      <td>http://cdn.akamai.steamstatic.com/steam/apps/2...</td>\n",
       "    </tr>\n",
       "    <tr>\n",
       "      <th>3</th>\n",
       "      <td>1471960</td>\n",
       "      <td>Room to Grow</td>\n",
       "      <td>Feb 25, 2021</td>\n",
       "      <td>0 - 20000</td>\n",
       "      <td>1</td>\n",
       "      <td>0</td>\n",
       "      <td>9.99</td>\n",
       "      <td>0</td>\n",
       "      <td>Room to Grow is a puzzle game with unique mech...</td>\n",
       "      <td>['English', 'French', 'Italian', 'German', 'Sp...</td>\n",
       "      <td>...</td>\n",
       "      <td>0</td>\n",
       "      <td>91</td>\n",
       "      <td>0</td>\n",
       "      <td>Mischka Kamener</td>\n",
       "      <td>Mischka Kamener</td>\n",
       "      <td>Single-player,Full controller support,Steam Cl...</td>\n",
       "      <td>Casual,Indie,Strategy</td>\n",
       "      <td>[Puzzle, Difficult, Indie, Singleplayer, Sokob...</td>\n",
       "      <td>https://cdn.akamai.steamstatic.com/steam/apps/...</td>\n",
       "      <td>http://cdn.akamai.steamstatic.com/steam/apps/2...</td>\n",
       "    </tr>\n",
       "    <tr>\n",
       "      <th>4</th>\n",
       "      <td>979310</td>\n",
       "      <td>Disjunction</td>\n",
       "      <td>Jan 28, 2021</td>\n",
       "      <td>50000 - 100000</td>\n",
       "      <td>0</td>\n",
       "      <td>0</td>\n",
       "      <td>15.99</td>\n",
       "      <td>1</td>\n",
       "      <td>2048. Following the arrest of a prominent comm...</td>\n",
       "      <td>['English', 'French', 'German', 'Spanish - Spa...</td>\n",
       "      <td>...</td>\n",
       "      <td>0</td>\n",
       "      <td>732</td>\n",
       "      <td>0</td>\n",
       "      <td>Ape Tribe Games</td>\n",
       "      <td>Fireshine Games</td>\n",
       "      <td>Single-player,Steam Achievements,Full controll...</td>\n",
       "      <td>Action,Indie,RPG</td>\n",
       "      <td>[RPG, Choices Matter, Story Rich, Detective, T...</td>\n",
       "      <td>https://cdn.akamai.steamstatic.com/steam/apps/...</td>\n",
       "      <td>http://cdn.akamai.steamstatic.com/steam/apps/2...</td>\n",
       "    </tr>\n",
       "    <tr>\n",
       "      <th>...</th>\n",
       "      <td>...</td>\n",
       "      <td>...</td>\n",
       "      <td>...</td>\n",
       "      <td>...</td>\n",
       "      <td>...</td>\n",
       "      <td>...</td>\n",
       "      <td>...</td>\n",
       "      <td>...</td>\n",
       "      <td>...</td>\n",
       "      <td>...</td>\n",
       "      <td>...</td>\n",
       "      <td>...</td>\n",
       "      <td>...</td>\n",
       "      <td>...</td>\n",
       "      <td>...</td>\n",
       "      <td>...</td>\n",
       "      <td>...</td>\n",
       "      <td>...</td>\n",
       "      <td>...</td>\n",
       "      <td>...</td>\n",
       "      <td>...</td>\n",
       "    </tr>\n",
       "    <tr>\n",
       "      <th>294</th>\n",
       "      <td>1336180</td>\n",
       "      <td>Floodland</td>\n",
       "      <td>Nov 15, 2022</td>\n",
       "      <td>0 - 20000</td>\n",
       "      <td>300</td>\n",
       "      <td>0</td>\n",
       "      <td>29.99</td>\n",
       "      <td>0</td>\n",
       "      <td>Unite Humanity - Shape Society The climate cha...</td>\n",
       "      <td>['English', 'French', 'Italian', 'German', 'Sp...</td>\n",
       "      <td>...</td>\n",
       "      <td>0</td>\n",
       "      <td>0</td>\n",
       "      <td>0</td>\n",
       "      <td>Vile Monarch</td>\n",
       "      <td>Ravenscourt</td>\n",
       "      <td>Single-player,Steam Achievements,Steam Worksho...</td>\n",
       "      <td>Strategy</td>\n",
       "      <td>[Strategy, Post-apocalyptic, Survival, Colony ...</td>\n",
       "      <td>https://cdn.akamai.steamstatic.com/steam/apps/...</td>\n",
       "      <td>http://cdn.akamai.steamstatic.com/steam/apps/2...</td>\n",
       "    </tr>\n",
       "    <tr>\n",
       "      <th>295</th>\n",
       "      <td>1358840</td>\n",
       "      <td>Flat Eye</td>\n",
       "      <td>Nov 14, 2022</td>\n",
       "      <td>50000 - 100000</td>\n",
       "      <td>33</td>\n",
       "      <td>0</td>\n",
       "      <td>17.09</td>\n",
       "      <td>1</td>\n",
       "      <td>Managing the future of technology with humanit...</td>\n",
       "      <td>['English', 'French', 'German', 'Spanish - Spa...</td>\n",
       "      <td>...</td>\n",
       "      <td>0</td>\n",
       "      <td>0</td>\n",
       "      <td>0</td>\n",
       "      <td>Monkey Moon</td>\n",
       "      <td>Raw Fury</td>\n",
       "      <td>Single-player,Steam Achievements,Steam Cloud</td>\n",
       "      <td>Indie,Simulation</td>\n",
       "      <td>[Atmospheric, Resource Management, Simulation,...</td>\n",
       "      <td>https://cdn.akamai.steamstatic.com/steam/apps/...</td>\n",
       "      <td>http://cdn.akamai.steamstatic.com/steam/apps/2...</td>\n",
       "    </tr>\n",
       "    <tr>\n",
       "      <th>296</th>\n",
       "      <td>1872680</td>\n",
       "      <td>The Knight Witch</td>\n",
       "      <td>Nov 29, 2022</td>\n",
       "      <td>20000 - 50000</td>\n",
       "      <td>147</td>\n",
       "      <td>0</td>\n",
       "      <td>17.99</td>\n",
       "      <td>1</td>\n",
       "      <td>Shoot 'Em Up Spellcasting Sorcery! Encounter e...</td>\n",
       "      <td>['English', 'French', 'Italian', 'German', 'Sp...</td>\n",
       "      <td>...</td>\n",
       "      <td>0</td>\n",
       "      <td>0</td>\n",
       "      <td>0</td>\n",
       "      <td>Super Mega Team</td>\n",
       "      <td>Team17</td>\n",
       "      <td>Single-player,Steam Achievements,Full controll...</td>\n",
       "      <td>Action,Adventure,Indie</td>\n",
       "      <td>[Metroidvania, Female Protagonist, Shoot 'Em U...</td>\n",
       "      <td>https://cdn.akamai.steamstatic.com/steam/apps/...</td>\n",
       "      <td>http://cdn.akamai.steamstatic.com/steam/apps/2...</td>\n",
       "    </tr>\n",
       "    <tr>\n",
       "      <th>297</th>\n",
       "      <td>975370</td>\n",
       "      <td>Dwarf Fortress</td>\n",
       "      <td>Dec 6, 2022</td>\n",
       "      <td>500000 - 1000000</td>\n",
       "      <td>28026</td>\n",
       "      <td>0</td>\n",
       "      <td>29.99</td>\n",
       "      <td>1</td>\n",
       "      <td>Prepare for the deepest, most intricate simula...</td>\n",
       "      <td>['English']</td>\n",
       "      <td>...</td>\n",
       "      <td>681</td>\n",
       "      <td>548</td>\n",
       "      <td>548</td>\n",
       "      <td>Bay 12 Games</td>\n",
       "      <td>Kitfox Games</td>\n",
       "      <td>Single-player,Steam Workshop</td>\n",
       "      <td>RPG,Simulation,Strategy</td>\n",
       "      <td>[Colony Sim, Indie, Pixel Graphics, Simulation...</td>\n",
       "      <td>https://cdn.akamai.steamstatic.com/steam/apps/...</td>\n",
       "      <td>http://cdn.akamai.steamstatic.com/steam/apps/2...</td>\n",
       "    </tr>\n",
       "    <tr>\n",
       "      <th>298</th>\n",
       "      <td>1585220</td>\n",
       "      <td>Melatonin</td>\n",
       "      <td>Dec 15, 2022</td>\n",
       "      <td>0 - 20000</td>\n",
       "      <td>133</td>\n",
       "      <td>0</td>\n",
       "      <td>13.49</td>\n",
       "      <td>0</td>\n",
       "      <td>Melatonin is a rhythm game about dreams and re...</td>\n",
       "      <td>['English']</td>\n",
       "      <td>...</td>\n",
       "      <td>22</td>\n",
       "      <td>44</td>\n",
       "      <td>44</td>\n",
       "      <td>Half Asleep</td>\n",
       "      <td>Half Asleep</td>\n",
       "      <td>Single-player,Steam Achievements,Full controll...</td>\n",
       "      <td>Action,Indie</td>\n",
       "      <td>[Indie, Rhythm, Action, Hand-drawn, Colorful, ...</td>\n",
       "      <td>https://cdn.akamai.steamstatic.com/steam/apps/...</td>\n",
       "      <td>http://cdn.akamai.steamstatic.com/steam/apps/2...</td>\n",
       "    </tr>\n",
       "  </tbody>\n",
       "</table>\n",
       "<p>299 rows × 39 columns</p>\n",
       "</div>"
      ],
      "text/plain": [
       "       AppID              Name  Release date  Estimated owners  Peak CCU  \\\n",
       "0    1345820         Ragnarock  Jul 15, 2021    50000 - 100000        44   \n",
       "1     821880      Idol Manager  Jul 26, 2021   100000 - 200000       102   \n",
       "2    1127500    Mini Motorways  Jul 20, 2021   200000 - 500000       473   \n",
       "3    1471960      Room to Grow  Feb 25, 2021         0 - 20000         1   \n",
       "4     979310       Disjunction  Jan 28, 2021    50000 - 100000         0   \n",
       "..       ...               ...           ...               ...       ...   \n",
       "294  1336180         Floodland  Nov 15, 2022         0 - 20000       300   \n",
       "295  1358840          Flat Eye  Nov 14, 2022    50000 - 100000        33   \n",
       "296  1872680  The Knight Witch  Nov 29, 2022     20000 - 50000       147   \n",
       "297   975370    Dwarf Fortress   Dec 6, 2022  500000 - 1000000     28026   \n",
       "298  1585220         Melatonin  Dec 15, 2022         0 - 20000       133   \n",
       "\n",
       "     Required age  Price  DLC count  \\\n",
       "0               0  16.24         17   \n",
       "1               0  19.99          0   \n",
       "2               0   9.99          0   \n",
       "3               0   9.99          0   \n",
       "4               0  15.99          1   \n",
       "..            ...    ...        ...   \n",
       "294             0  29.99          0   \n",
       "295             0  17.09          1   \n",
       "296             0  17.99          1   \n",
       "297             0  29.99          1   \n",
       "298             0  13.49          0   \n",
       "\n",
       "                                        About the game  \\\n",
       "0    Are you ready to rock? Ragnarock is a solo/mul...   \n",
       "1    You take on the role of manager at a small (bu...   \n",
       "2    Have you ever been stuck in traffic and wished...   \n",
       "3    Room to Grow is a puzzle game with unique mech...   \n",
       "4    2048. Following the arrest of a prominent comm...   \n",
       "..                                                 ...   \n",
       "294  Unite Humanity - Shape Society The climate cha...   \n",
       "295  Managing the future of technology with humanit...   \n",
       "296  Shoot 'Em Up Spellcasting Sorcery! Encounter e...   \n",
       "297  Prepare for the deepest, most intricate simula...   \n",
       "298  Melatonin is a rhythm game about dreams and re...   \n",
       "\n",
       "                                   Supported languages  ...  \\\n",
       "0    ['English', 'French', 'Italian', 'German', 'Sp...  ...   \n",
       "1    ['English', 'Japanese', 'Russian', 'Simplified...  ...   \n",
       "2    ['English', 'French', 'Italian', 'German', 'Sp...  ...   \n",
       "3    ['English', 'French', 'Italian', 'German', 'Sp...  ...   \n",
       "4    ['English', 'French', 'German', 'Spanish - Spa...  ...   \n",
       "..                                                 ...  ...   \n",
       "294  ['English', 'French', 'Italian', 'German', 'Sp...  ...   \n",
       "295  ['English', 'French', 'German', 'Spanish - Spa...  ...   \n",
       "296  ['English', 'French', 'Italian', 'German', 'Sp...  ...   \n",
       "297                                        ['English']  ...   \n",
       "298                                        ['English']  ...   \n",
       "\n",
       "    Average playtime two weeks Median playtime forever  \\\n",
       "0                            0                     281   \n",
       "1                            0                     853   \n",
       "2                          126                     373   \n",
       "3                            0                      91   \n",
       "4                            0                     732   \n",
       "..                         ...                     ...   \n",
       "294                          0                       0   \n",
       "295                          0                       0   \n",
       "296                          0                       0   \n",
       "297                        681                     548   \n",
       "298                         22                      44   \n",
       "\n",
       "    Median playtime two weeks          Developers          Publishers  \\\n",
       "0                           0       WanadevStudio       WanadevStudio   \n",
       "1                           0        Glitch Pitch             PLAYISM   \n",
       "2                         186  Dinosaur Polo Club  Dinosaur Polo Club   \n",
       "3                           0     Mischka Kamener     Mischka Kamener   \n",
       "4                           0     Ape Tribe Games     Fireshine Games   \n",
       "..                        ...                 ...                 ...   \n",
       "294                         0        Vile Monarch         Ravenscourt   \n",
       "295                         0         Monkey Moon            Raw Fury   \n",
       "296                         0     Super Mega Team              Team17   \n",
       "297                       548        Bay 12 Games        Kitfox Games   \n",
       "298                        44         Half Asleep         Half Asleep   \n",
       "\n",
       "                                            Categories  \\\n",
       "0    Single-player,Multi-player,PvP,Online PvP,Stea...   \n",
       "1    Single-player,Steam Achievements,Steam Worksho...   \n",
       "2    Single-player,Steam Achievements,Full controll...   \n",
       "3    Single-player,Full controller support,Steam Cl...   \n",
       "4    Single-player,Steam Achievements,Full controll...   \n",
       "..                                                 ...   \n",
       "294  Single-player,Steam Achievements,Steam Worksho...   \n",
       "295       Single-player,Steam Achievements,Steam Cloud   \n",
       "296  Single-player,Steam Achievements,Full controll...   \n",
       "297                       Single-player,Steam Workshop   \n",
       "298  Single-player,Steam Achievements,Full controll...   \n",
       "\n",
       "                               Genres  \\\n",
       "0          Casual,Indie,Racing,Sports   \n",
       "1           Indie,Simulation,Strategy   \n",
       "2    Casual,Indie,Simulation,Strategy   \n",
       "3               Casual,Indie,Strategy   \n",
       "4                    Action,Indie,RPG   \n",
       "..                                ...   \n",
       "294                          Strategy   \n",
       "295                  Indie,Simulation   \n",
       "296            Action,Adventure,Indie   \n",
       "297           RPG,Simulation,Strategy   \n",
       "298                      Action,Indie   \n",
       "\n",
       "                                                  Tags  \\\n",
       "0    [Rhythm, VR, Multiplayer, Music, Racing, PvP, ...   \n",
       "1    [Management, Simulation, Anime, Sexual Content...   \n",
       "2    [Casual, Simulation, Strategy, Indie, Manageme...   \n",
       "3    [Puzzle, Difficult, Indie, Singleplayer, Sokob...   \n",
       "4    [RPG, Choices Matter, Story Rich, Detective, T...   \n",
       "..                                                 ...   \n",
       "294  [Strategy, Post-apocalyptic, Survival, Colony ...   \n",
       "295  [Atmospheric, Resource Management, Simulation,...   \n",
       "296  [Metroidvania, Female Protagonist, Shoot 'Em U...   \n",
       "297  [Colony Sim, Indie, Pixel Graphics, Simulation...   \n",
       "298  [Indie, Rhythm, Action, Hand-drawn, Colorful, ...   \n",
       "\n",
       "                                           Screenshots  \\\n",
       "0    https://cdn.akamai.steamstatic.com/steam/apps/...   \n",
       "1    https://cdn.akamai.steamstatic.com/steam/apps/...   \n",
       "2    https://cdn.akamai.steamstatic.com/steam/apps/...   \n",
       "3    https://cdn.akamai.steamstatic.com/steam/apps/...   \n",
       "4    https://cdn.akamai.steamstatic.com/steam/apps/...   \n",
       "..                                                 ...   \n",
       "294  https://cdn.akamai.steamstatic.com/steam/apps/...   \n",
       "295  https://cdn.akamai.steamstatic.com/steam/apps/...   \n",
       "296  https://cdn.akamai.steamstatic.com/steam/apps/...   \n",
       "297  https://cdn.akamai.steamstatic.com/steam/apps/...   \n",
       "298  https://cdn.akamai.steamstatic.com/steam/apps/...   \n",
       "\n",
       "                                                Movies  \n",
       "0    http://cdn.akamai.steamstatic.com/steam/apps/2...  \n",
       "1    http://cdn.akamai.steamstatic.com/steam/apps/2...  \n",
       "2    http://cdn.akamai.steamstatic.com/steam/apps/2...  \n",
       "3    http://cdn.akamai.steamstatic.com/steam/apps/2...  \n",
       "4    http://cdn.akamai.steamstatic.com/steam/apps/2...  \n",
       "..                                                 ...  \n",
       "294  http://cdn.akamai.steamstatic.com/steam/apps/2...  \n",
       "295  http://cdn.akamai.steamstatic.com/steam/apps/2...  \n",
       "296  http://cdn.akamai.steamstatic.com/steam/apps/2...  \n",
       "297  http://cdn.akamai.steamstatic.com/steam/apps/2...  \n",
       "298  http://cdn.akamai.steamstatic.com/steam/apps/2...  \n",
       "\n",
       "[299 rows x 39 columns]"
      ]
     },
     "execution_count": 103,
     "metadata": {},
     "output_type": "execute_result"
    }
   ],
   "source": [
    "# Verificando formato dataframe \n",
    "df_principal"
   ]
  },
  {
   "cell_type": "code",
   "execution_count": 104,
   "metadata": {},
   "outputs": [],
   "source": [
    "# Varre valores únicos das Tags e os mapeia em um número de 0 a n_tags \n",
    "\n",
    "tags_map = {}\n",
    "n_tags = df_principal.Tags.explode().unique().shape[0]\n",
    "\n",
    "for i, tag in enumerate(df_principal.Tags.explode().unique()):\n",
    "    tags_map[tag] = i"
   ]
  },
  {
   "cell_type": "code",
   "execution_count": 105,
   "metadata": {},
   "outputs": [
    {
     "data": {
      "text/html": [
       "<div>\n",
       "<style scoped>\n",
       "    .dataframe tbody tr th:only-of-type {\n",
       "        vertical-align: middle;\n",
       "    }\n",
       "\n",
       "    .dataframe tbody tr th {\n",
       "        vertical-align: top;\n",
       "    }\n",
       "\n",
       "    .dataframe thead th {\n",
       "        text-align: right;\n",
       "    }\n",
       "</style>\n",
       "<table border=\"1\" class=\"dataframe\">\n",
       "  <thead>\n",
       "    <tr style=\"text-align: right;\">\n",
       "      <th></th>\n",
       "      <th>AppID</th>\n",
       "      <th>Name</th>\n",
       "      <th>Release date</th>\n",
       "      <th>Estimated owners</th>\n",
       "      <th>Peak CCU</th>\n",
       "      <th>Required age</th>\n",
       "      <th>Price</th>\n",
       "      <th>DLC count</th>\n",
       "      <th>About the game</th>\n",
       "      <th>Supported languages</th>\n",
       "      <th>...</th>\n",
       "      <th>Median playtime forever</th>\n",
       "      <th>Median playtime two weeks</th>\n",
       "      <th>Developers</th>\n",
       "      <th>Publishers</th>\n",
       "      <th>Categories</th>\n",
       "      <th>Genres</th>\n",
       "      <th>Tags</th>\n",
       "      <th>Screenshots</th>\n",
       "      <th>Movies</th>\n",
       "      <th>tag_vector</th>\n",
       "    </tr>\n",
       "  </thead>\n",
       "  <tbody>\n",
       "    <tr>\n",
       "      <th>0</th>\n",
       "      <td>1345820</td>\n",
       "      <td>Ragnarock</td>\n",
       "      <td>Jul 15, 2021</td>\n",
       "      <td>50000 - 100000</td>\n",
       "      <td>44</td>\n",
       "      <td>0</td>\n",
       "      <td>16.24</td>\n",
       "      <td>17</td>\n",
       "      <td>Are you ready to rock? Ragnarock is a solo/mul...</td>\n",
       "      <td>['English', 'French', 'Italian', 'German', 'Sp...</td>\n",
       "      <td>...</td>\n",
       "      <td>281</td>\n",
       "      <td>0</td>\n",
       "      <td>WanadevStudio</td>\n",
       "      <td>WanadevStudio</td>\n",
       "      <td>Single-player,Multi-player,PvP,Online PvP,Stea...</td>\n",
       "      <td>Casual,Indie,Racing,Sports</td>\n",
       "      <td>[Rhythm, VR, Multiplayer, Music, Racing, PvP, ...</td>\n",
       "      <td>https://cdn.akamai.steamstatic.com/steam/apps/...</td>\n",
       "      <td>http://cdn.akamai.steamstatic.com/steam/apps/2...</td>\n",
       "      <td>[1, 1, 1, 1, 1, 1, 1, 1, 1, 1, 1, 1, 1, 1, 1, ...</td>\n",
       "    </tr>\n",
       "    <tr>\n",
       "      <th>1</th>\n",
       "      <td>821880</td>\n",
       "      <td>Idol Manager</td>\n",
       "      <td>Jul 26, 2021</td>\n",
       "      <td>100000 - 200000</td>\n",
       "      <td>102</td>\n",
       "      <td>0</td>\n",
       "      <td>19.99</td>\n",
       "      <td>0</td>\n",
       "      <td>You take on the role of manager at a small (bu...</td>\n",
       "      <td>['English', 'Japanese', 'Russian', 'Simplified...</td>\n",
       "      <td>...</td>\n",
       "      <td>853</td>\n",
       "      <td>0</td>\n",
       "      <td>Glitch Pitch</td>\n",
       "      <td>PLAYISM</td>\n",
       "      <td>Single-player,Steam Achievements,Steam Worksho...</td>\n",
       "      <td>Indie,Simulation,Strategy</td>\n",
       "      <td>[Management, Simulation, Anime, Sexual Content...</td>\n",
       "      <td>https://cdn.akamai.steamstatic.com/steam/apps/...</td>\n",
       "      <td>http://cdn.akamai.steamstatic.com/steam/apps/2...</td>\n",
       "      <td>[0, 0, 0, 0, 0, 0, 0, 0, 0, 0, 0, 0, 0, 0, 0, ...</td>\n",
       "    </tr>\n",
       "    <tr>\n",
       "      <th>2</th>\n",
       "      <td>1127500</td>\n",
       "      <td>Mini Motorways</td>\n",
       "      <td>Jul 20, 2021</td>\n",
       "      <td>200000 - 500000</td>\n",
       "      <td>473</td>\n",
       "      <td>0</td>\n",
       "      <td>9.99</td>\n",
       "      <td>0</td>\n",
       "      <td>Have you ever been stuck in traffic and wished...</td>\n",
       "      <td>['English', 'French', 'Italian', 'German', 'Sp...</td>\n",
       "      <td>...</td>\n",
       "      <td>373</td>\n",
       "      <td>186</td>\n",
       "      <td>Dinosaur Polo Club</td>\n",
       "      <td>Dinosaur Polo Club</td>\n",
       "      <td>Single-player,Steam Achievements,Full controll...</td>\n",
       "      <td>Casual,Indie,Simulation,Strategy</td>\n",
       "      <td>[Casual, Simulation, Strategy, Indie, Manageme...</td>\n",
       "      <td>https://cdn.akamai.steamstatic.com/steam/apps/...</td>\n",
       "      <td>http://cdn.akamai.steamstatic.com/steam/apps/2...</td>\n",
       "      <td>[0, 0, 1, 0, 0, 0, 1, 0, 0, 0, 0, 1, 0, 0, 0, ...</td>\n",
       "    </tr>\n",
       "    <tr>\n",
       "      <th>3</th>\n",
       "      <td>1471960</td>\n",
       "      <td>Room to Grow</td>\n",
       "      <td>Feb 25, 2021</td>\n",
       "      <td>0 - 20000</td>\n",
       "      <td>1</td>\n",
       "      <td>0</td>\n",
       "      <td>9.99</td>\n",
       "      <td>0</td>\n",
       "      <td>Room to Grow is a puzzle game with unique mech...</td>\n",
       "      <td>['English', 'French', 'Italian', 'German', 'Sp...</td>\n",
       "      <td>...</td>\n",
       "      <td>91</td>\n",
       "      <td>0</td>\n",
       "      <td>Mischka Kamener</td>\n",
       "      <td>Mischka Kamener</td>\n",
       "      <td>Single-player,Full controller support,Steam Cl...</td>\n",
       "      <td>Casual,Indie,Strategy</td>\n",
       "      <td>[Puzzle, Difficult, Indie, Singleplayer, Sokob...</td>\n",
       "      <td>https://cdn.akamai.steamstatic.com/steam/apps/...</td>\n",
       "      <td>http://cdn.akamai.steamstatic.com/steam/apps/2...</td>\n",
       "      <td>[0, 0, 0, 0, 0, 0, 1, 0, 0, 0, 0, 1, 0, 0, 0, ...</td>\n",
       "    </tr>\n",
       "    <tr>\n",
       "      <th>4</th>\n",
       "      <td>979310</td>\n",
       "      <td>Disjunction</td>\n",
       "      <td>Jan 28, 2021</td>\n",
       "      <td>50000 - 100000</td>\n",
       "      <td>0</td>\n",
       "      <td>0</td>\n",
       "      <td>15.99</td>\n",
       "      <td>1</td>\n",
       "      <td>2048. Following the arrest of a prominent comm...</td>\n",
       "      <td>['English', 'French', 'German', 'Spanish - Spa...</td>\n",
       "      <td>...</td>\n",
       "      <td>732</td>\n",
       "      <td>0</td>\n",
       "      <td>Ape Tribe Games</td>\n",
       "      <td>Fireshine Games</td>\n",
       "      <td>Single-player,Steam Achievements,Full controll...</td>\n",
       "      <td>Action,Indie,RPG</td>\n",
       "      <td>[RPG, Choices Matter, Story Rich, Detective, T...</td>\n",
       "      <td>https://cdn.akamai.steamstatic.com/steam/apps/...</td>\n",
       "      <td>http://cdn.akamai.steamstatic.com/steam/apps/2...</td>\n",
       "      <td>[0, 0, 0, 0, 0, 0, 0, 0, 0, 0, 0, 0, 0, 0, 1, ...</td>\n",
       "    </tr>\n",
       "    <tr>\n",
       "      <th>...</th>\n",
       "      <td>...</td>\n",
       "      <td>...</td>\n",
       "      <td>...</td>\n",
       "      <td>...</td>\n",
       "      <td>...</td>\n",
       "      <td>...</td>\n",
       "      <td>...</td>\n",
       "      <td>...</td>\n",
       "      <td>...</td>\n",
       "      <td>...</td>\n",
       "      <td>...</td>\n",
       "      <td>...</td>\n",
       "      <td>...</td>\n",
       "      <td>...</td>\n",
       "      <td>...</td>\n",
       "      <td>...</td>\n",
       "      <td>...</td>\n",
       "      <td>...</td>\n",
       "      <td>...</td>\n",
       "      <td>...</td>\n",
       "      <td>...</td>\n",
       "    </tr>\n",
       "    <tr>\n",
       "      <th>294</th>\n",
       "      <td>1336180</td>\n",
       "      <td>Floodland</td>\n",
       "      <td>Nov 15, 2022</td>\n",
       "      <td>0 - 20000</td>\n",
       "      <td>300</td>\n",
       "      <td>0</td>\n",
       "      <td>29.99</td>\n",
       "      <td>0</td>\n",
       "      <td>Unite Humanity - Shape Society The climate cha...</td>\n",
       "      <td>['English', 'French', 'Italian', 'German', 'Sp...</td>\n",
       "      <td>...</td>\n",
       "      <td>0</td>\n",
       "      <td>0</td>\n",
       "      <td>Vile Monarch</td>\n",
       "      <td>Ravenscourt</td>\n",
       "      <td>Single-player,Steam Achievements,Steam Worksho...</td>\n",
       "      <td>Strategy</td>\n",
       "      <td>[Strategy, Post-apocalyptic, Survival, Colony ...</td>\n",
       "      <td>https://cdn.akamai.steamstatic.com/steam/apps/...</td>\n",
       "      <td>http://cdn.akamai.steamstatic.com/steam/apps/2...</td>\n",
       "      <td>[0, 0, 0, 0, 0, 0, 0, 0, 0, 0, 0, 1, 0, 0, 1, ...</td>\n",
       "    </tr>\n",
       "    <tr>\n",
       "      <th>295</th>\n",
       "      <td>1358840</td>\n",
       "      <td>Flat Eye</td>\n",
       "      <td>Nov 14, 2022</td>\n",
       "      <td>50000 - 100000</td>\n",
       "      <td>33</td>\n",
       "      <td>0</td>\n",
       "      <td>17.09</td>\n",
       "      <td>1</td>\n",
       "      <td>Managing the future of technology with humanit...</td>\n",
       "      <td>['English', 'French', 'German', 'Spanish - Spa...</td>\n",
       "      <td>...</td>\n",
       "      <td>0</td>\n",
       "      <td>0</td>\n",
       "      <td>Monkey Moon</td>\n",
       "      <td>Raw Fury</td>\n",
       "      <td>Single-player,Steam Achievements,Steam Cloud</td>\n",
       "      <td>Indie,Simulation</td>\n",
       "      <td>[Atmospheric, Resource Management, Simulation,...</td>\n",
       "      <td>https://cdn.akamai.steamstatic.com/steam/apps/...</td>\n",
       "      <td>http://cdn.akamai.steamstatic.com/steam/apps/2...</td>\n",
       "      <td>[0, 0, 0, 0, 0, 0, 0, 0, 0, 0, 0, 1, 0, 0, 1, ...</td>\n",
       "    </tr>\n",
       "    <tr>\n",
       "      <th>296</th>\n",
       "      <td>1872680</td>\n",
       "      <td>The Knight Witch</td>\n",
       "      <td>Nov 29, 2022</td>\n",
       "      <td>20000 - 50000</td>\n",
       "      <td>147</td>\n",
       "      <td>0</td>\n",
       "      <td>17.99</td>\n",
       "      <td>1</td>\n",
       "      <td>Shoot 'Em Up Spellcasting Sorcery! Encounter e...</td>\n",
       "      <td>['English', 'French', 'Italian', 'German', 'Sp...</td>\n",
       "      <td>...</td>\n",
       "      <td>0</td>\n",
       "      <td>0</td>\n",
       "      <td>Super Mega Team</td>\n",
       "      <td>Team17</td>\n",
       "      <td>Single-player,Steam Achievements,Full controll...</td>\n",
       "      <td>Action,Adventure,Indie</td>\n",
       "      <td>[Metroidvania, Female Protagonist, Shoot 'Em U...</td>\n",
       "      <td>https://cdn.akamai.steamstatic.com/steam/apps/...</td>\n",
       "      <td>http://cdn.akamai.steamstatic.com/steam/apps/2...</td>\n",
       "      <td>[0, 0, 0, 0, 0, 0, 0, 0, 0, 0, 0, 0, 0, 0, 1, ...</td>\n",
       "    </tr>\n",
       "    <tr>\n",
       "      <th>297</th>\n",
       "      <td>975370</td>\n",
       "      <td>Dwarf Fortress</td>\n",
       "      <td>Dec 6, 2022</td>\n",
       "      <td>500000 - 1000000</td>\n",
       "      <td>28026</td>\n",
       "      <td>0</td>\n",
       "      <td>29.99</td>\n",
       "      <td>1</td>\n",
       "      <td>Prepare for the deepest, most intricate simula...</td>\n",
       "      <td>['English']</td>\n",
       "      <td>...</td>\n",
       "      <td>548</td>\n",
       "      <td>548</td>\n",
       "      <td>Bay 12 Games</td>\n",
       "      <td>Kitfox Games</td>\n",
       "      <td>Single-player,Steam Workshop</td>\n",
       "      <td>RPG,Simulation,Strategy</td>\n",
       "      <td>[Colony Sim, Indie, Pixel Graphics, Simulation...</td>\n",
       "      <td>https://cdn.akamai.steamstatic.com/steam/apps/...</td>\n",
       "      <td>http://cdn.akamai.steamstatic.com/steam/apps/2...</td>\n",
       "      <td>[0, 0, 0, 0, 0, 0, 0, 0, 0, 0, 0, 0, 0, 0, 0, ...</td>\n",
       "    </tr>\n",
       "    <tr>\n",
       "      <th>298</th>\n",
       "      <td>1585220</td>\n",
       "      <td>Melatonin</td>\n",
       "      <td>Dec 15, 2022</td>\n",
       "      <td>0 - 20000</td>\n",
       "      <td>133</td>\n",
       "      <td>0</td>\n",
       "      <td>13.49</td>\n",
       "      <td>0</td>\n",
       "      <td>Melatonin is a rhythm game about dreams and re...</td>\n",
       "      <td>['English']</td>\n",
       "      <td>...</td>\n",
       "      <td>44</td>\n",
       "      <td>44</td>\n",
       "      <td>Half Asleep</td>\n",
       "      <td>Half Asleep</td>\n",
       "      <td>Single-player,Steam Achievements,Full controll...</td>\n",
       "      <td>Action,Indie</td>\n",
       "      <td>[Indie, Rhythm, Action, Hand-drawn, Colorful, ...</td>\n",
       "      <td>https://cdn.akamai.steamstatic.com/steam/apps/...</td>\n",
       "      <td>http://cdn.akamai.steamstatic.com/steam/apps/2...</td>\n",
       "      <td>[1, 0, 0, 1, 0, 0, 0, 1, 0, 0, 0, 0, 0, 0, 0, ...</td>\n",
       "    </tr>\n",
       "  </tbody>\n",
       "</table>\n",
       "<p>299 rows × 40 columns</p>\n",
       "</div>"
      ],
      "text/plain": [
       "       AppID              Name  Release date  Estimated owners  Peak CCU  \\\n",
       "0    1345820         Ragnarock  Jul 15, 2021    50000 - 100000        44   \n",
       "1     821880      Idol Manager  Jul 26, 2021   100000 - 200000       102   \n",
       "2    1127500    Mini Motorways  Jul 20, 2021   200000 - 500000       473   \n",
       "3    1471960      Room to Grow  Feb 25, 2021         0 - 20000         1   \n",
       "4     979310       Disjunction  Jan 28, 2021    50000 - 100000         0   \n",
       "..       ...               ...           ...               ...       ...   \n",
       "294  1336180         Floodland  Nov 15, 2022         0 - 20000       300   \n",
       "295  1358840          Flat Eye  Nov 14, 2022    50000 - 100000        33   \n",
       "296  1872680  The Knight Witch  Nov 29, 2022     20000 - 50000       147   \n",
       "297   975370    Dwarf Fortress   Dec 6, 2022  500000 - 1000000     28026   \n",
       "298  1585220         Melatonin  Dec 15, 2022         0 - 20000       133   \n",
       "\n",
       "     Required age  Price  DLC count  \\\n",
       "0               0  16.24         17   \n",
       "1               0  19.99          0   \n",
       "2               0   9.99          0   \n",
       "3               0   9.99          0   \n",
       "4               0  15.99          1   \n",
       "..            ...    ...        ...   \n",
       "294             0  29.99          0   \n",
       "295             0  17.09          1   \n",
       "296             0  17.99          1   \n",
       "297             0  29.99          1   \n",
       "298             0  13.49          0   \n",
       "\n",
       "                                        About the game  \\\n",
       "0    Are you ready to rock? Ragnarock is a solo/mul...   \n",
       "1    You take on the role of manager at a small (bu...   \n",
       "2    Have you ever been stuck in traffic and wished...   \n",
       "3    Room to Grow is a puzzle game with unique mech...   \n",
       "4    2048. Following the arrest of a prominent comm...   \n",
       "..                                                 ...   \n",
       "294  Unite Humanity - Shape Society The climate cha...   \n",
       "295  Managing the future of technology with humanit...   \n",
       "296  Shoot 'Em Up Spellcasting Sorcery! Encounter e...   \n",
       "297  Prepare for the deepest, most intricate simula...   \n",
       "298  Melatonin is a rhythm game about dreams and re...   \n",
       "\n",
       "                                   Supported languages  ...  \\\n",
       "0    ['English', 'French', 'Italian', 'German', 'Sp...  ...   \n",
       "1    ['English', 'Japanese', 'Russian', 'Simplified...  ...   \n",
       "2    ['English', 'French', 'Italian', 'German', 'Sp...  ...   \n",
       "3    ['English', 'French', 'Italian', 'German', 'Sp...  ...   \n",
       "4    ['English', 'French', 'German', 'Spanish - Spa...  ...   \n",
       "..                                                 ...  ...   \n",
       "294  ['English', 'French', 'Italian', 'German', 'Sp...  ...   \n",
       "295  ['English', 'French', 'German', 'Spanish - Spa...  ...   \n",
       "296  ['English', 'French', 'Italian', 'German', 'Sp...  ...   \n",
       "297                                        ['English']  ...   \n",
       "298                                        ['English']  ...   \n",
       "\n",
       "    Median playtime forever Median playtime two weeks          Developers  \\\n",
       "0                       281                         0       WanadevStudio   \n",
       "1                       853                         0        Glitch Pitch   \n",
       "2                       373                       186  Dinosaur Polo Club   \n",
       "3                        91                         0     Mischka Kamener   \n",
       "4                       732                         0     Ape Tribe Games   \n",
       "..                      ...                       ...                 ...   \n",
       "294                       0                         0        Vile Monarch   \n",
       "295                       0                         0         Monkey Moon   \n",
       "296                       0                         0     Super Mega Team   \n",
       "297                     548                       548        Bay 12 Games   \n",
       "298                      44                        44         Half Asleep   \n",
       "\n",
       "             Publishers                                         Categories  \\\n",
       "0         WanadevStudio  Single-player,Multi-player,PvP,Online PvP,Stea...   \n",
       "1               PLAYISM  Single-player,Steam Achievements,Steam Worksho...   \n",
       "2    Dinosaur Polo Club  Single-player,Steam Achievements,Full controll...   \n",
       "3       Mischka Kamener  Single-player,Full controller support,Steam Cl...   \n",
       "4       Fireshine Games  Single-player,Steam Achievements,Full controll...   \n",
       "..                  ...                                                ...   \n",
       "294         Ravenscourt  Single-player,Steam Achievements,Steam Worksho...   \n",
       "295            Raw Fury       Single-player,Steam Achievements,Steam Cloud   \n",
       "296              Team17  Single-player,Steam Achievements,Full controll...   \n",
       "297        Kitfox Games                       Single-player,Steam Workshop   \n",
       "298         Half Asleep  Single-player,Steam Achievements,Full controll...   \n",
       "\n",
       "                               Genres  \\\n",
       "0          Casual,Indie,Racing,Sports   \n",
       "1           Indie,Simulation,Strategy   \n",
       "2    Casual,Indie,Simulation,Strategy   \n",
       "3               Casual,Indie,Strategy   \n",
       "4                    Action,Indie,RPG   \n",
       "..                                ...   \n",
       "294                          Strategy   \n",
       "295                  Indie,Simulation   \n",
       "296            Action,Adventure,Indie   \n",
       "297           RPG,Simulation,Strategy   \n",
       "298                      Action,Indie   \n",
       "\n",
       "                                                  Tags  \\\n",
       "0    [Rhythm, VR, Multiplayer, Music, Racing, PvP, ...   \n",
       "1    [Management, Simulation, Anime, Sexual Content...   \n",
       "2    [Casual, Simulation, Strategy, Indie, Manageme...   \n",
       "3    [Puzzle, Difficult, Indie, Singleplayer, Sokob...   \n",
       "4    [RPG, Choices Matter, Story Rich, Detective, T...   \n",
       "..                                                 ...   \n",
       "294  [Strategy, Post-apocalyptic, Survival, Colony ...   \n",
       "295  [Atmospheric, Resource Management, Simulation,...   \n",
       "296  [Metroidvania, Female Protagonist, Shoot 'Em U...   \n",
       "297  [Colony Sim, Indie, Pixel Graphics, Simulation...   \n",
       "298  [Indie, Rhythm, Action, Hand-drawn, Colorful, ...   \n",
       "\n",
       "                                           Screenshots  \\\n",
       "0    https://cdn.akamai.steamstatic.com/steam/apps/...   \n",
       "1    https://cdn.akamai.steamstatic.com/steam/apps/...   \n",
       "2    https://cdn.akamai.steamstatic.com/steam/apps/...   \n",
       "3    https://cdn.akamai.steamstatic.com/steam/apps/...   \n",
       "4    https://cdn.akamai.steamstatic.com/steam/apps/...   \n",
       "..                                                 ...   \n",
       "294  https://cdn.akamai.steamstatic.com/steam/apps/...   \n",
       "295  https://cdn.akamai.steamstatic.com/steam/apps/...   \n",
       "296  https://cdn.akamai.steamstatic.com/steam/apps/...   \n",
       "297  https://cdn.akamai.steamstatic.com/steam/apps/...   \n",
       "298  https://cdn.akamai.steamstatic.com/steam/apps/...   \n",
       "\n",
       "                                                Movies  \\\n",
       "0    http://cdn.akamai.steamstatic.com/steam/apps/2...   \n",
       "1    http://cdn.akamai.steamstatic.com/steam/apps/2...   \n",
       "2    http://cdn.akamai.steamstatic.com/steam/apps/2...   \n",
       "3    http://cdn.akamai.steamstatic.com/steam/apps/2...   \n",
       "4    http://cdn.akamai.steamstatic.com/steam/apps/2...   \n",
       "..                                                 ...   \n",
       "294  http://cdn.akamai.steamstatic.com/steam/apps/2...   \n",
       "295  http://cdn.akamai.steamstatic.com/steam/apps/2...   \n",
       "296  http://cdn.akamai.steamstatic.com/steam/apps/2...   \n",
       "297  http://cdn.akamai.steamstatic.com/steam/apps/2...   \n",
       "298  http://cdn.akamai.steamstatic.com/steam/apps/2...   \n",
       "\n",
       "                                            tag_vector  \n",
       "0    [1, 1, 1, 1, 1, 1, 1, 1, 1, 1, 1, 1, 1, 1, 1, ...  \n",
       "1    [0, 0, 0, 0, 0, 0, 0, 0, 0, 0, 0, 0, 0, 0, 0, ...  \n",
       "2    [0, 0, 1, 0, 0, 0, 1, 0, 0, 0, 0, 1, 0, 0, 0, ...  \n",
       "3    [0, 0, 0, 0, 0, 0, 1, 0, 0, 0, 0, 1, 0, 0, 0, ...  \n",
       "4    [0, 0, 0, 0, 0, 0, 0, 0, 0, 0, 0, 0, 0, 0, 1, ...  \n",
       "..                                                 ...  \n",
       "294  [0, 0, 0, 0, 0, 0, 0, 0, 0, 0, 0, 1, 0, 0, 1, ...  \n",
       "295  [0, 0, 0, 0, 0, 0, 0, 0, 0, 0, 0, 1, 0, 0, 1, ...  \n",
       "296  [0, 0, 0, 0, 0, 0, 0, 0, 0, 0, 0, 0, 0, 0, 1, ...  \n",
       "297  [0, 0, 0, 0, 0, 0, 0, 0, 0, 0, 0, 0, 0, 0, 0, ...  \n",
       "298  [1, 0, 0, 1, 0, 0, 0, 1, 0, 0, 0, 0, 0, 0, 0, ...  \n",
       "\n",
       "[299 rows x 40 columns]"
      ]
     },
     "execution_count": 105,
     "metadata": {},
     "output_type": "execute_result"
    }
   ],
   "source": [
    "# Cria veror de tags no formato:\n",
    "# [0 1 0 1  0 .. 0]\n",
    "# Sendo as posições na lista determinadas por tags_map -> {Retro : x , ...}\n",
    "\n",
    "# Similaridade a ser determinada pela distância de Manhattan entre as Tags de dois jogos\n",
    "# Quanto menor a distância mais similares são os jogos.\n",
    "\n",
    "output = []\n",
    "for i, r in df_principal.iterrows():\n",
    "    tag_vector = [0 for i in range(n_tags)]\n",
    "    for tag in r.Tags:\n",
    "        tag_vector[tags_map[tag]] = 1\n",
    "    output.append(tag_vector)\n",
    "    \n",
    "# Cria coluna [0 0 1 ... 0 1] para indicar as tags de cada jogo\n",
    "df_principal['tag_vector'] = output\n",
    "df_principal"
   ]
  },
  {
   "cell_type": "code",
   "execution_count": 106,
   "metadata": {},
   "outputs": [
    {
     "data": {
      "text/html": [
       "<div>\n",
       "<style scoped>\n",
       "    .dataframe tbody tr th:only-of-type {\n",
       "        vertical-align: middle;\n",
       "    }\n",
       "\n",
       "    .dataframe tbody tr th {\n",
       "        vertical-align: top;\n",
       "    }\n",
       "\n",
       "    .dataframe thead th {\n",
       "        text-align: right;\n",
       "    }\n",
       "</style>\n",
       "<table border=\"1\" class=\"dataframe\">\n",
       "  <thead>\n",
       "    <tr style=\"text-align: right;\">\n",
       "      <th></th>\n",
       "      <th>id</th>\n",
       "      <th>Tags</th>\n",
       "      <th>Metacritic score</th>\n",
       "    </tr>\n",
       "  </thead>\n",
       "  <tbody>\n",
       "    <tr>\n",
       "      <th>0</th>\n",
       "      <td>0</td>\n",
       "      <td>[Rhythm, VR, Multiplayer, Music, Racing, PvP, ...</td>\n",
       "      <td>87</td>\n",
       "    </tr>\n",
       "    <tr>\n",
       "      <th>1</th>\n",
       "      <td>1</td>\n",
       "      <td>[Management, Simulation, Anime, Sexual Content...</td>\n",
       "      <td>73</td>\n",
       "    </tr>\n",
       "    <tr>\n",
       "      <th>2</th>\n",
       "      <td>2</td>\n",
       "      <td>[Casual, Simulation, Strategy, Indie, Manageme...</td>\n",
       "      <td>87</td>\n",
       "    </tr>\n",
       "    <tr>\n",
       "      <th>3</th>\n",
       "      <td>3</td>\n",
       "      <td>[Puzzle, Difficult, Indie, Singleplayer, Sokob...</td>\n",
       "      <td>76</td>\n",
       "    </tr>\n",
       "    <tr>\n",
       "      <th>4</th>\n",
       "      <td>4</td>\n",
       "      <td>[RPG, Choices Matter, Story Rich, Detective, T...</td>\n",
       "      <td>67</td>\n",
       "    </tr>\n",
       "    <tr>\n",
       "      <th>...</th>\n",
       "      <td>...</td>\n",
       "      <td>...</td>\n",
       "      <td>...</td>\n",
       "    </tr>\n",
       "    <tr>\n",
       "      <th>294</th>\n",
       "      <td>294</td>\n",
       "      <td>[Strategy, Post-apocalyptic, Survival, Colony ...</td>\n",
       "      <td>76</td>\n",
       "    </tr>\n",
       "    <tr>\n",
       "      <th>295</th>\n",
       "      <td>295</td>\n",
       "      <td>[Atmospheric, Resource Management, Simulation,...</td>\n",
       "      <td>78</td>\n",
       "    </tr>\n",
       "    <tr>\n",
       "      <th>296</th>\n",
       "      <td>296</td>\n",
       "      <td>[Metroidvania, Female Protagonist, Shoot 'Em U...</td>\n",
       "      <td>82</td>\n",
       "    </tr>\n",
       "    <tr>\n",
       "      <th>297</th>\n",
       "      <td>297</td>\n",
       "      <td>[Colony Sim, Indie, Pixel Graphics, Simulation...</td>\n",
       "      <td>93</td>\n",
       "    </tr>\n",
       "    <tr>\n",
       "      <th>298</th>\n",
       "      <td>298</td>\n",
       "      <td>[Indie, Rhythm, Action, Hand-drawn, Colorful, ...</td>\n",
       "      <td>81</td>\n",
       "    </tr>\n",
       "  </tbody>\n",
       "</table>\n",
       "<p>299 rows × 3 columns</p>\n",
       "</div>"
      ],
      "text/plain": [
       "      id                                               Tags  Metacritic score\n",
       "0      0  [Rhythm, VR, Multiplayer, Music, Racing, PvP, ...                87\n",
       "1      1  [Management, Simulation, Anime, Sexual Content...                73\n",
       "2      2  [Casual, Simulation, Strategy, Indie, Manageme...                87\n",
       "3      3  [Puzzle, Difficult, Indie, Singleplayer, Sokob...                76\n",
       "4      4  [RPG, Choices Matter, Story Rich, Detective, T...                67\n",
       "..   ...                                                ...               ...\n",
       "294  294  [Strategy, Post-apocalyptic, Survival, Colony ...                76\n",
       "295  295  [Atmospheric, Resource Management, Simulation,...                78\n",
       "296  296  [Metroidvania, Female Protagonist, Shoot 'Em U...                82\n",
       "297  297  [Colony Sim, Indie, Pixel Graphics, Simulation...                93\n",
       "298  298  [Indie, Rhythm, Action, Hand-drawn, Colorful, ...                81\n",
       "\n",
       "[299 rows x 3 columns]"
      ]
     },
     "execution_count": 106,
     "metadata": {},
     "output_type": "execute_result"
    }
   ],
   "source": [
    "# Monta nó da rede (Caso jogos) - Tags como proximidade\n",
    "\n",
    "id = 0\n",
    "unique_name_values = df_principal['Name'].unique().tolist()\n",
    "node_data = []\n",
    "\n",
    "for _ , linha in  df_principal.iterrows():\n",
    "    \n",
    "    if(linha['Name'] in unique_name_values):\n",
    "        node_data.append([id ,linha['Tags'], linha['Metacritic score']])\n",
    "#         unique_name_values.remove(linha['Name'])\n",
    "        id+=1\n",
    "\n",
    "df_nodes = pd.DataFrame(node_data,columns=['id','Tags', 'Metacritic score']) \n",
    "df_nodes"
   ]
  },
  {
   "cell_type": "code",
   "execution_count": 107,
   "metadata": {},
   "outputs": [
    {
     "data": {
      "text/html": [
       "<div>\n",
       "<style scoped>\n",
       "    .dataframe tbody tr th:only-of-type {\n",
       "        vertical-align: middle;\n",
       "    }\n",
       "\n",
       "    .dataframe tbody tr th {\n",
       "        vertical-align: top;\n",
       "    }\n",
       "\n",
       "    .dataframe thead th {\n",
       "        text-align: right;\n",
       "    }\n",
       "</style>\n",
       "<table border=\"1\" class=\"dataframe\">\n",
       "  <thead>\n",
       "    <tr style=\"text-align: right;\">\n",
       "      <th></th>\n",
       "      <th>node_1</th>\n",
       "      <th>node_2</th>\n",
       "      <th>Tags_em_Comum</th>\n",
       "    </tr>\n",
       "  </thead>\n",
       "  <tbody>\n",
       "    <tr>\n",
       "      <th>0</th>\n",
       "      <td>0</td>\n",
       "      <td>1</td>\n",
       "      <td>2</td>\n",
       "    </tr>\n",
       "    <tr>\n",
       "      <th>1</th>\n",
       "      <td>0</td>\n",
       "      <td>2</td>\n",
       "      <td>5</td>\n",
       "    </tr>\n",
       "    <tr>\n",
       "      <th>2</th>\n",
       "      <td>0</td>\n",
       "      <td>3</td>\n",
       "      <td>4</td>\n",
       "    </tr>\n",
       "    <tr>\n",
       "      <th>3</th>\n",
       "      <td>0</td>\n",
       "      <td>4</td>\n",
       "      <td>3</td>\n",
       "    </tr>\n",
       "    <tr>\n",
       "      <th>4</th>\n",
       "      <td>0</td>\n",
       "      <td>5</td>\n",
       "      <td>2</td>\n",
       "    </tr>\n",
       "    <tr>\n",
       "      <th>...</th>\n",
       "      <td>...</td>\n",
       "      <td>...</td>\n",
       "      <td>...</td>\n",
       "    </tr>\n",
       "    <tr>\n",
       "      <th>44546</th>\n",
       "      <td>295</td>\n",
       "      <td>297</td>\n",
       "      <td>4</td>\n",
       "    </tr>\n",
       "    <tr>\n",
       "      <th>44547</th>\n",
       "      <td>295</td>\n",
       "      <td>298</td>\n",
       "      <td>1</td>\n",
       "    </tr>\n",
       "    <tr>\n",
       "      <th>44548</th>\n",
       "      <td>296</td>\n",
       "      <td>297</td>\n",
       "      <td>1</td>\n",
       "    </tr>\n",
       "    <tr>\n",
       "      <th>44549</th>\n",
       "      <td>296</td>\n",
       "      <td>298</td>\n",
       "      <td>4</td>\n",
       "    </tr>\n",
       "    <tr>\n",
       "      <th>44550</th>\n",
       "      <td>297</td>\n",
       "      <td>298</td>\n",
       "      <td>3</td>\n",
       "    </tr>\n",
       "  </tbody>\n",
       "</table>\n",
       "<p>44551 rows × 3 columns</p>\n",
       "</div>"
      ],
      "text/plain": [
       "       node_1  node_2  Tags_em_Comum\n",
       "0           0       1              2\n",
       "1           0       2              5\n",
       "2           0       3              4\n",
       "3           0       4              3\n",
       "4           0       5              2\n",
       "...       ...     ...            ...\n",
       "44546     295     297              4\n",
       "44547     295     298              1\n",
       "44548     296     297              1\n",
       "44549     296     298              4\n",
       "44550     297     298              3\n",
       "\n",
       "[44551 rows x 3 columns]"
      ]
     },
     "execution_count": 107,
     "metadata": {},
     "output_type": "execute_result"
    }
   ],
   "source": [
    "# Monta dataframe de relações:\n",
    "\n",
    "def count_tags(lista_tags_1, lista_tags_2):\n",
    "    \n",
    "    count_common_tags = 0\n",
    "        \n",
    "    for tag1 in lista_tags_1:\n",
    "        for tag2 in lista_tags_2:\n",
    "            \n",
    "            if(tag1 == tag2):\n",
    "                count_common_tags+=1\n",
    "    \n",
    "    return count_common_tags\n",
    "\n",
    "node_relation = []\n",
    "data_relation = []\n",
    "\n",
    "for _, linha1 in df_nodes.iterrows():\n",
    "    for _,linha2 in df_nodes.iterrows():\n",
    "        \n",
    "        proximidade = 0\n",
    "        \n",
    "        if(( [linha1['id'] , linha2['id']] not in node_relation) and \n",
    "           ([linha2['id'] , linha1['id']] not in node_relation) and (linha2['id'] != linha1['id'])):\n",
    "            \n",
    "            # Calculando TAGS em comum\n",
    "            proximidade = count_tags(linha1['Tags'], linha2['Tags'])\n",
    "            \n",
    "            #Adiciona valor na relação de nós:\n",
    "            node_relation.append([linha1['id'] , linha2['id']])\n",
    "        \n",
    "            data_relation.append([linha1['id'], linha2['id'], proximidade])\n",
    "            \n",
    "df_relation = pd.DataFrame(data_relation,columns=['node_1', 'node_2' , 'Tags_em_Comum'] ) \n",
    "df_relation"
   ]
  },
  {
   "cell_type": "code",
   "execution_count": 108,
   "metadata": {},
   "outputs": [
    {
     "data": {
      "text/plain": [
       "<AxesSubplot: >"
      ]
     },
     "execution_count": 108,
     "metadata": {},
     "output_type": "execute_result"
    },
    {
     "data": {
      "image/png": "[encoded data removed]",
      "text/plain": [
       "<Figure size 640x480 with 1 Axes>"
      ]
     },
     "metadata": {},
     "output_type": "display_data"
    }
   ],
   "source": [
    "# Quantos jogos possuem aquela quantidade de TAGS em comum\n",
    "df_relation['Tags_em_Comum'][df_relation['Tags_em_Comum'] != 0].value_counts().plot(kind='bar')"
   ]
  },
  {
   "cell_type": "code",
   "execution_count": 109,
   "metadata": {},
   "outputs": [],
   "source": [
    "# Criando nós:\n",
    "# Adiciona atributos aos nós\n",
    "\n",
    "g.add_vp('Metacritic score')\n",
    "# g.add_vp('Publishers')\n",
    "# g.add_vp('Genres')\n",
    "\n",
    "aux = []\n",
    "for _, infos in df_nodes.iterrows():\n",
    "    \n",
    "    #Adiciona vértices:\n",
    "    infos = infos.astype(object)\n",
    "    g.add_vertex(infos['id'])\n",
    "    \n",
    "    # Adiciona atributos:\n",
    "    vertice = g.get_vertex(infos['id'])\n",
    "    vertice['Metacritic score'] = infos['Metacritic score']\n",
    "#     vertice['Publishers'] = infos['Publishers']\n",
    "#     vertice['Genres'] = infos['Genres']"
   ]
  },
  {
   "cell_type": "code",
   "execution_count": 110,
   "metadata": {},
   "outputs": [],
   "source": [
    "threshold_proximidade = 5"
   ]
  },
  {
   "cell_type": "code",
   "execution_count": 111,
   "metadata": {},
   "outputs": [],
   "source": [
    "# Criando arestas:\n",
    "\n",
    "for _ , relacao in df_relation.iterrows():\n",
    "    \n",
    "    if(relacao['Tags_em_Comum'] > threshold_proximidade):\n",
    "        g.add_edge(relacao['node_1'], relacao['node_2'])"
   ]
  },
  {
   "cell_type": "code",
   "execution_count": 112,
   "metadata": {},
   "outputs": [
    {
     "name": "stdout",
     "output_type": "stream",
     "text": [
      "Número de vértices de g: 299\n",
      "Número de arestas de g: 9315\n",
      "Densidade: 0.20908621579762518\n"
     ]
    }
   ],
   "source": [
    "# Número de arestas, nós e densidade.\n",
    "\n",
    "n = g.num_vertices()\n",
    "m = g.num_edges()\n",
    "\n",
    "if g.is_directed():\n",
    "    max_edges = n * (n - 1)\n",
    "else:\n",
    "    max_edges = n * (n - 1) // 2\n",
    "d = m / max_edges\n",
    "\n",
    "# Checando se está de acordo com a documentação.\n",
    "print('Número de vértices de g:', n )\n",
    "print('Número de arestas de g:', m)\n",
    "print('Densidade:', d)"
   ]
  },
  {
   "cell_type": "code",
   "execution_count": 113,
   "metadata": {},
   "outputs": [
    {
     "data": {
      "text/plain": [
       "count    299.000000\n",
       "mean      62.307692\n",
       "std       36.408831\n",
       "min        0.000000\n",
       "25%       32.500000\n",
       "50%       55.000000\n",
       "75%       91.500000\n",
       "max      147.000000\n",
       "Name: degree, dtype: float64"
      ]
     },
     "execution_count": 113,
     "metadata": {},
     "output_type": "execute_result"
    }
   ],
   "source": [
    "# Propriedade dos vértices\n",
    "data = gt_data(g)\n",
    "\n",
    "# Calculando degrees\n",
    "in_degrees = []\n",
    "out_degrees = []\n",
    "degrees = []\n",
    "\n",
    "for v in g.all_vertices():\n",
    "    in_degrees.append(v.in_degree())\n",
    "for v in g.all_vertices():\n",
    "    out_degrees.append(v.out_degree())\n",
    "for v in g.all_vertices():\n",
    "    degrees.append(v.total_degree())\n",
    "    \n",
    "data['in_degree'] = in_degrees\n",
    "data['out_degree'] = out_degrees\n",
    "data['degree'] = degrees\n",
    "data['degree'].describe()"
   ]
  },
  {
   "cell_type": "code",
   "execution_count": 114,
   "metadata": {},
   "outputs": [
    {
     "data": {
      "text/plain": [
       "<AxesSubplot: xlabel='degree', ylabel='Count'>"
      ]
     },
     "execution_count": 114,
     "metadata": {},
     "output_type": "execute_result"
    },
    {
     "data": {
      "image/png": "[encoded data removed]",
      "text/plain": [
       "<Figure size 640x480 with 1 Axes>"
      ]
     },
     "metadata": {},
     "output_type": "display_data"
    }
   ],
   "source": [
    "sns.histplot(data['degree'])\n"
   ]
  },
  {
   "cell_type": "code",
   "execution_count": 116,
   "metadata": {
    "collapsed": true
   },
   "outputs": [
    {
     "data": {
      "text/html": [
       "\n",
       "        <div id=\"fZyttnKEFoTW6vqTnwXjdn\"></div>\n",
       "        <script>netpixi.render('fZyttnKEFoTW6vqTnwXjdn', '/projeto.net.gz', 1.7777777777777777, true, false, false);</script>\n",
       "    "
      ],
      "text/plain": [
       "<IPython.core.display.HTML object>"
      ]
     },
     "metadata": {},
     "output_type": "display_data"
    }
   ],
   "source": [
    "# ----- Salva e renderiza grafo -----\n",
    "gt_save(g, 'projeto.net.gz')\n",
    "\n",
    "r = netpixi.render('/projeto.net.gz')"
   ]
  },
  {
   "cell_type": "code",
   "execution_count": 117,
   "metadata": {},
   "outputs": [],
   "source": [
    "# r.vertex_set_key('Publishers')"
   ]
  },
  {
   "cell_type": "code",
   "execution_count": 119,
   "metadata": {
    "collapsed": true
   },
   "outputs": [
    {
     "data": {
      "text/html": [
       "\n",
       "        <div id=\"Dds9NkHZmJ4Wk4MNSQYHbb\"></div>\n",
       "        <script>netpixi.render('Dds9NkHZmJ4Wk4MNSQYHbb', 'projeto_frunch.net.gz', 1.7777777777777777, true, false, false);</script>\n",
       "    "
      ],
      "text/plain": [
       "<IPython.core.display.HTML object>"
      ]
     },
     "metadata": {},
     "output_type": "display_data"
    }
   ],
   "source": [
    "#Algoritmo baseado em force-directed graph drawingan : Reingold Fruchterm\n",
    "m = gt_draw.sfdp_layout(g)\n",
    "gt_move(g, m)\n",
    "gt_save(g, 'projeto_frunch.net.gz')\n",
    "r = netpixi.render('projeto_frunch.net.gz');"
   ]
  },
  {
   "cell_type": "code",
   "execution_count": 137,
   "metadata": {},
   "outputs": [
    {
     "data": {
      "text/html": [
       "\n",
       "        <div id=\"aYaDjt8sYFfok8AgGiXS7d\"></div>\n",
       "        <script>netpixi.call('aYaDjt8sYFfok8AgGiXS7d', 'Dds9NkHZmJ4Wk4MNSQYHbb', 'changeGraph', 'eyJpZCI6IDAsICJ0eXBlIjogInZlcnRleCIsICJwcm9wcyI6IHsiY29sb3IiOiA2NTI4MH19Cg==');</script>\n",
       "    "
      ],
      "text/plain": [
       "<IPython.core.display.HTML object>"
      ]
     },
     "metadata": {},
     "output_type": "display_data"
    },
    {
     "data": {
      "text/html": [
       "\n",
       "        <div id=\"Nq32K6De7BAhNf29Yky8eq\"></div>\n",
       "        <script>netpixi.call('Nq32K6De7BAhNf29Yky8eq', 'Dds9NkHZmJ4Wk4MNSQYHbb', 'changeGraph', 'eyJpZCI6IDEsICJ0eXBlIjogInZlcnRleCIsICJwcm9wcyI6IHsiY29sb3IiOiA2NTI4MH19Cg==');</script>\n",
       "    "
      ],
      "text/plain": [
       "<IPython.core.display.HTML object>"
      ]
     },
     "metadata": {},
     "output_type": "display_data"
    },
    {
     "data": {
      "text/html": [
       "\n",
       "        <div id=\"NQdtSP9uRCZYzAnUjJyXi3\"></div>\n",
       "        <script>netpixi.call('NQdtSP9uRCZYzAnUjJyXi3', 'Dds9NkHZmJ4Wk4MNSQYHbb', 'changeGraph', 'eyJpZCI6IDIsICJ0eXBlIjogInZlcnRleCIsICJwcm9wcyI6IHsiY29sb3IiOiA2NTI4MH19Cg==');</script>\n",
       "    "
      ],
      "text/plain": [
       "<IPython.core.display.HTML object>"
      ]
     },
     "metadata": {},
     "output_type": "display_data"
    },
    {
     "data": {
      "text/html": [
       "\n",
       "        <div id=\"Q45qV9uuouVu3k8HHQztRc\"></div>\n",
       "        <script>netpixi.call('Q45qV9uuouVu3k8HHQztRc', 'Dds9NkHZmJ4Wk4MNSQYHbb', 'changeGraph', 'eyJpZCI6IDMsICJ0eXBlIjogInZlcnRleCIsICJwcm9wcyI6IHsiY29sb3IiOiA2NTI4MH19Cg==');</script>\n",
       "    "
      ],
      "text/plain": [
       "<IPython.core.display.HTML object>"
      ]
     },
     "metadata": {},
     "output_type": "display_data"
    },
    {
     "data": {
      "text/html": [
       "\n",
       "        <div id=\"LzuUp37RB3X89rLnXrk33A\"></div>\n",
       "        <script>netpixi.call('LzuUp37RB3X89rLnXrk33A', 'Dds9NkHZmJ4Wk4MNSQYHbb', 'changeGraph', 'eyJpZCI6IDQsICJ0eXBlIjogInZlcnRleCIsICJwcm9wcyI6IHsiY29sb3IiOiAxNjcxMTY4MH19Cg==');</script>\n",
       "    "
      ],
      "text/plain": [
       "<IPython.core.display.HTML object>"
      ]
     },
     "metadata": {},
     "output_type": "display_data"
    },
    {
     "data": {
      "text/html": [
       "\n",
       "        <div id=\"iJK4ndGCN95AKYUqEAkJYq\"></div>\n",
       "        <script>netpixi.call('iJK4ndGCN95AKYUqEAkJYq', 'Dds9NkHZmJ4Wk4MNSQYHbb', 'changeGraph', 'eyJpZCI6IDUsICJ0eXBlIjogInZlcnRleCIsICJwcm9wcyI6IHsiY29sb3IiOiA2NTI4MH19Cg==');</script>\n",
       "    "
      ],
      "text/plain": [
       "<IPython.core.display.HTML object>"
      ]
     },
     "metadata": {},
     "output_type": "display_data"
    },
    {
     "data": {
      "text/html": [
       "\n",
       "        <div id=\"iP6c4V7jEGJAUauejNBPvf\"></div>\n",
       "        <script>netpixi.call('iP6c4V7jEGJAUauejNBPvf', 'Dds9NkHZmJ4Wk4MNSQYHbb', 'changeGraph', 'eyJpZCI6IDYsICJ0eXBlIjogInZlcnRleCIsICJwcm9wcyI6IHsiY29sb3IiOiA2NTI4MH19Cg==');</script>\n",
       "    "
      ],
      "text/plain": [
       "<IPython.core.display.HTML object>"
      ]
     },
     "metadata": {},
     "output_type": "display_data"
    },
    {
     "data": {
      "text/html": [
       "\n",
       "        <div id=\"R32JLHeJzN6iZsXyQV5oZi\"></div>\n",
       "        <script>netpixi.call('R32JLHeJzN6iZsXyQV5oZi', 'Dds9NkHZmJ4Wk4MNSQYHbb', 'changeGraph', 'eyJpZCI6IDcsICJ0eXBlIjogInZlcnRleCIsICJwcm9wcyI6IHsiY29sb3IiOiAxNjcxMTY4MH19Cg==');</script>\n",
       "    "
      ],
      "text/plain": [
       "<IPython.core.display.HTML object>"
      ]
     },
     "metadata": {},
     "output_type": "display_data"
    },
    {
     "data": {
      "text/html": [
       "\n",
       "        <div id=\"nBpMbtySH6zekGqVx5L4KX\"></div>\n",
       "        <script>netpixi.call('nBpMbtySH6zekGqVx5L4KX', 'Dds9NkHZmJ4Wk4MNSQYHbb', 'changeGraph', 'eyJpZCI6IDgsICJ0eXBlIjogInZlcnRleCIsICJwcm9wcyI6IHsiY29sb3IiOiA2NTI4MH19Cg==');</script>\n",
       "    "
      ],
      "text/plain": [
       "<IPython.core.display.HTML object>"
      ]
     },
     "metadata": {},
     "output_type": "display_data"
    },
    {
     "data": {
      "text/html": [
       "\n",
       "        <div id=\"Pt5PzqbA9gRsocvTBAbosf\"></div>\n",
       "        <script>netpixi.call('Pt5PzqbA9gRsocvTBAbosf', 'Dds9NkHZmJ4Wk4MNSQYHbb', 'changeGraph', 'eyJpZCI6IDksICJ0eXBlIjogInZlcnRleCIsICJwcm9wcyI6IHsiY29sb3IiOiAxNjcxMTY4MH19Cg==');</script>\n",
       "    "
      ],
      "text/plain": [
       "<IPython.core.display.HTML object>"
      ]
     },
     "metadata": {},
     "output_type": "display_data"
    },
    {
     "data": {
      "text/html": [
       "\n",
       "        <div id=\"Cb2MuDMLs9zianY7n92x3T\"></div>\n",
       "        <script>netpixi.call('Cb2MuDMLs9zianY7n92x3T', 'Dds9NkHZmJ4Wk4MNSQYHbb', 'changeGraph', 'eyJpZCI6IDEwLCAidHlwZSI6ICJ2ZXJ0ZXgiLCAicHJvcHMiOiB7ImNvbG9yIjogNjUyODB9fQo=');</script>\n",
       "    "
      ],
      "text/plain": [
       "<IPython.core.display.HTML object>"
      ]
     },
     "metadata": {},
     "output_type": "display_data"
    },
    {
     "data": {
      "text/html": [
       "\n",
       "        <div id=\"7Be3MwAmxcVVHBzyUk7yPP\"></div>\n",
       "        <script>netpixi.call('7Be3MwAmxcVVHBzyUk7yPP', 'Dds9NkHZmJ4Wk4MNSQYHbb', 'changeGraph', 'eyJpZCI6IDExLCAidHlwZSI6ICJ2ZXJ0ZXgiLCAicHJvcHMiOiB7ImNvbG9yIjogNjUyODB9fQo=');</script>\n",
       "    "
      ],
      "text/plain": [
       "<IPython.core.display.HTML object>"
      ]
     },
     "metadata": {},
     "output_type": "display_data"
    },
    {
     "data": {
      "text/html": [
       "\n",
       "        <div id=\"KantSuPkSdwRbbD6EkZeYZ\"></div>\n",
       "        <script>netpixi.call('KantSuPkSdwRbbD6EkZeYZ', 'Dds9NkHZmJ4Wk4MNSQYHbb', 'changeGraph', 'eyJpZCI6IDEyLCAidHlwZSI6ICJ2ZXJ0ZXgiLCAicHJvcHMiOiB7ImNvbG9yIjogMTY3MTE2ODB9fQo=');</script>\n",
       "    "
      ],
      "text/plain": [
       "<IPython.core.display.HTML object>"
      ]
     },
     "metadata": {},
     "output_type": "display_data"
    },
    {
     "data": {
      "text/html": [
       "\n",
       "        <div id=\"ccF3Z9WVHiKggbS4NcjP96\"></div>\n",
       "        <script>netpixi.call('ccF3Z9WVHiKggbS4NcjP96', 'Dds9NkHZmJ4Wk4MNSQYHbb', 'changeGraph', 'eyJpZCI6IDEzLCAidHlwZSI6ICJ2ZXJ0ZXgiLCAicHJvcHMiOiB7ImNvbG9yIjogMTY3MTE2ODB9fQo=');</script>\n",
       "    "
      ],
      "text/plain": [
       "<IPython.core.display.HTML object>"
      ]
     },
     "metadata": {},
     "output_type": "display_data"
    },
    {
     "data": {
      "text/html": [
       "\n",
       "        <div id=\"a4sedtbdYiHrxXHzwsN6ao\"></div>\n",
       "        <script>netpixi.call('a4sedtbdYiHrxXHzwsN6ao', 'Dds9NkHZmJ4Wk4MNSQYHbb', 'changeGraph', 'eyJpZCI6IDE0LCAidHlwZSI6ICJ2ZXJ0ZXgiLCAicHJvcHMiOiB7ImNvbG9yIjogNjUyODB9fQo=');</script>\n",
       "    "
      ],
      "text/plain": [
       "<IPython.core.display.HTML object>"
      ]
     },
     "metadata": {},
     "output_type": "display_data"
    },
    {
     "data": {
      "text/html": [
       "\n",
       "        <div id=\"knD9bofQ2M4Vb5PVTCuiNk\"></div>\n",
       "        <script>netpixi.call('knD9bofQ2M4Vb5PVTCuiNk', 'Dds9NkHZmJ4Wk4MNSQYHbb', 'changeGraph', 'eyJpZCI6IDE1LCAidHlwZSI6ICJ2ZXJ0ZXgiLCAicHJvcHMiOiB7ImNvbG9yIjogNjUyODB9fQo=');</script>\n",
       "    "
      ],
      "text/plain": [
       "<IPython.core.display.HTML object>"
      ]
     },
     "metadata": {},
     "output_type": "display_data"
    },
    {
     "data": {
      "text/html": [
       "\n",
       "        <div id=\"niCCUNt3ik6dzuh8ETihpd\"></div>\n",
       "        <script>netpixi.call('niCCUNt3ik6dzuh8ETihpd', 'Dds9NkHZmJ4Wk4MNSQYHbb', 'changeGraph', 'eyJpZCI6IDE2LCAidHlwZSI6ICJ2ZXJ0ZXgiLCAicHJvcHMiOiB7ImNvbG9yIjogMTY3MTE2ODB9fQo=');</script>\n",
       "    "
      ],
      "text/plain": [
       "<IPython.core.display.HTML object>"
      ]
     },
     "metadata": {},
     "output_type": "display_data"
    },
    {
     "data": {
      "text/html": [
       "\n",
       "        <div id=\"6oZ2bX9NxcpWZUT7qU57Ue\"></div>\n",
       "        <script>netpixi.call('6oZ2bX9NxcpWZUT7qU57Ue', 'Dds9NkHZmJ4Wk4MNSQYHbb', 'changeGraph', 'eyJpZCI6IDE3LCAidHlwZSI6ICJ2ZXJ0ZXgiLCAicHJvcHMiOiB7ImNvbG9yIjogNjUyODB9fQo=');</script>\n",
       "    "
      ],
      "text/plain": [
       "<IPython.core.display.HTML object>"
      ]
     },
     "metadata": {},
     "output_type": "display_data"
    },
    {
     "data": {
      "text/html": [
       "\n",
       "        <div id=\"6kkxGG74h892FFySUAZE6c\"></div>\n",
       "        <script>netpixi.call('6kkxGG74h892FFySUAZE6c', 'Dds9NkHZmJ4Wk4MNSQYHbb', 'changeGraph', 'eyJpZCI6IDE4LCAidHlwZSI6ICJ2ZXJ0ZXgiLCAicHJvcHMiOiB7ImNvbG9yIjogMTY3MTE2ODB9fQo=');</script>\n",
       "    "
      ],
      "text/plain": [
       "<IPython.core.display.HTML object>"
      ]
     },
     "metadata": {},
     "output_type": "display_data"
    },
    {
     "data": {
      "text/html": [
       "\n",
       "        <div id=\"kp57gfNUtHWyFfRD6mjqYL\"></div>\n",
       "        <script>netpixi.call('kp57gfNUtHWyFfRD6mjqYL', 'Dds9NkHZmJ4Wk4MNSQYHbb', 'changeGraph', 'eyJpZCI6IDE5LCAidHlwZSI6ICJ2ZXJ0ZXgiLCAicHJvcHMiOiB7ImNvbG9yIjogMTY3MTE2ODB9fQo=');</script>\n",
       "    "
      ],
      "text/plain": [
       "<IPython.core.display.HTML object>"
      ]
     },
     "metadata": {},
     "output_type": "display_data"
    },
    {
     "data": {
      "text/html": [
       "\n",
       "        <div id=\"TX2LdQgooQcZgWD8bYbuDC\"></div>\n",
       "        <script>netpixi.call('TX2LdQgooQcZgWD8bYbuDC', 'Dds9NkHZmJ4Wk4MNSQYHbb', 'changeGraph', 'eyJpZCI6IDIwLCAidHlwZSI6ICJ2ZXJ0ZXgiLCAicHJvcHMiOiB7ImNvbG9yIjogNjUyODB9fQo=');</script>\n",
       "    "
      ],
      "text/plain": [
       "<IPython.core.display.HTML object>"
      ]
     },
     "metadata": {},
     "output_type": "display_data"
    },
    {
     "data": {
      "text/html": [
       "\n",
       "        <div id=\"nAPV5UzRcNMSXLjFH5fKCv\"></div>\n",
       "        <script>netpixi.call('nAPV5UzRcNMSXLjFH5fKCv', 'Dds9NkHZmJ4Wk4MNSQYHbb', 'changeGraph', 'eyJpZCI6IDIxLCAidHlwZSI6ICJ2ZXJ0ZXgiLCAicHJvcHMiOiB7ImNvbG9yIjogMTY3MTE2ODB9fQo=');</script>\n",
       "    "
      ],
      "text/plain": [
       "<IPython.core.display.HTML object>"
      ]
     },
     "metadata": {},
     "output_type": "display_data"
    },
    {
     "data": {
      "text/html": [
       "\n",
       "        <div id=\"NjAVRvAC9s3Q4HZvhU9KFh\"></div>\n",
       "        <script>netpixi.call('NjAVRvAC9s3Q4HZvhU9KFh', 'Dds9NkHZmJ4Wk4MNSQYHbb', 'changeGraph', 'eyJpZCI6IDIyLCAidHlwZSI6ICJ2ZXJ0ZXgiLCAicHJvcHMiOiB7ImNvbG9yIjogMTY3MTE2ODB9fQo=');</script>\n",
       "    "
      ],
      "text/plain": [
       "<IPython.core.display.HTML object>"
      ]
     },
     "metadata": {},
     "output_type": "display_data"
    },
    {
     "data": {
      "text/html": [
       "\n",
       "        <div id=\"STznQMNA5FFf4HTqbimAk8\"></div>\n",
       "        <script>netpixi.call('STznQMNA5FFf4HTqbimAk8', 'Dds9NkHZmJ4Wk4MNSQYHbb', 'changeGraph', 'eyJpZCI6IDIzLCAidHlwZSI6ICJ2ZXJ0ZXgiLCAicHJvcHMiOiB7ImNvbG9yIjogNjUyODB9fQo=');</script>\n",
       "    "
      ],
      "text/plain": [
       "<IPython.core.display.HTML object>"
      ]
     },
     "metadata": {},
     "output_type": "display_data"
    },
    {
     "data": {
      "text/html": [
       "\n",
       "        <div id=\"CDBfSefFiywALRh2TbTUzN\"></div>\n",
       "        <script>netpixi.call('CDBfSefFiywALRh2TbTUzN', 'Dds9NkHZmJ4Wk4MNSQYHbb', 'changeGraph', 'eyJpZCI6IDI0LCAidHlwZSI6ICJ2ZXJ0ZXgiLCAicHJvcHMiOiB7ImNvbG9yIjogMTY3MTE2ODB9fQo=');</script>\n",
       "    "
      ],
      "text/plain": [
       "<IPython.core.display.HTML object>"
      ]
     },
     "metadata": {},
     "output_type": "display_data"
    },
    {
     "data": {
      "text/html": [
       "\n",
       "        <div id=\"5o3zpTG7CxhUphRev5qChy\"></div>\n",
       "        <script>netpixi.call('5o3zpTG7CxhUphRev5qChy', 'Dds9NkHZmJ4Wk4MNSQYHbb', 'changeGraph', 'eyJpZCI6IDI1LCAidHlwZSI6ICJ2ZXJ0ZXgiLCAicHJvcHMiOiB7ImNvbG9yIjogNjUyODB9fQo=');</script>\n",
       "    "
      ],
      "text/plain": [
       "<IPython.core.display.HTML object>"
      ]
     },
     "metadata": {},
     "output_type": "display_data"
    },
    {
     "data": {
      "text/html": [
       "\n",
       "        <div id=\"RVTHNP95JVYGapwhSQn66W\"></div>\n",
       "        <script>netpixi.call('RVTHNP95JVYGapwhSQn66W', 'Dds9NkHZmJ4Wk4MNSQYHbb', 'changeGraph', 'eyJpZCI6IDI2LCAidHlwZSI6ICJ2ZXJ0ZXgiLCAicHJvcHMiOiB7ImNvbG9yIjogMTY3MTE2ODB9fQo=');</script>\n",
       "    "
      ],
      "text/plain": [
       "<IPython.core.display.HTML object>"
      ]
     },
     "metadata": {},
     "output_type": "display_data"
    },
    {
     "data": {
      "text/html": [
       "\n",
       "        <div id=\"GhT38HGksarJ3hEtYEboMf\"></div>\n",
       "        <script>netpixi.call('GhT38HGksarJ3hEtYEboMf', 'Dds9NkHZmJ4Wk4MNSQYHbb', 'changeGraph', 'eyJpZCI6IDI3LCAidHlwZSI6ICJ2ZXJ0ZXgiLCAicHJvcHMiOiB7ImNvbG9yIjogMTY3MTE2ODB9fQo=');</script>\n",
       "    "
      ],
      "text/plain": [
       "<IPython.core.display.HTML object>"
      ]
     },
     "metadata": {},
     "output_type": "display_data"
    },
    {
     "data": {
      "text/html": [
       "\n",
       "        <div id=\"P8V78imsiisUKNgYZrX2mf\"></div>\n",
       "        <script>netpixi.call('P8V78imsiisUKNgYZrX2mf', 'Dds9NkHZmJ4Wk4MNSQYHbb', 'changeGraph', 'eyJpZCI6IDI4LCAidHlwZSI6ICJ2ZXJ0ZXgiLCAicHJvcHMiOiB7ImNvbG9yIjogMTY3MTE2ODB9fQo=');</script>\n",
       "    "
      ],
      "text/plain": [
       "<IPython.core.display.HTML object>"
      ]
     },
     "metadata": {},
     "output_type": "display_data"
    },
    {
     "data": {
      "text/html": [
       "\n",
       "        <div id=\"jU47UjZ7CjhopUsuusnfzw\"></div>\n",
       "        <script>netpixi.call('jU47UjZ7CjhopUsuusnfzw', 'Dds9NkHZmJ4Wk4MNSQYHbb', 'changeGraph', 'eyJpZCI6IDI5LCAidHlwZSI6ICJ2ZXJ0ZXgiLCAicHJvcHMiOiB7ImNvbG9yIjogMTY3MTE2ODB9fQo=');</script>\n",
       "    "
      ],
      "text/plain": [
       "<IPython.core.display.HTML object>"
      ]
     },
     "metadata": {},
     "output_type": "display_data"
    },
    {
     "data": {
      "text/html": [
       "\n",
       "        <div id=\"jquGf2r8aiDnmHbvueJxpB\"></div>\n",
       "        <script>netpixi.call('jquGf2r8aiDnmHbvueJxpB', 'Dds9NkHZmJ4Wk4MNSQYHbb', 'changeGraph', 'eyJpZCI6IDMwLCAidHlwZSI6ICJ2ZXJ0ZXgiLCAicHJvcHMiOiB7ImNvbG9yIjogMTY3MTE2ODB9fQo=');</script>\n",
       "    "
      ],
      "text/plain": [
       "<IPython.core.display.HTML object>"
      ]
     },
     "metadata": {},
     "output_type": "display_data"
    },
    {
     "data": {
      "text/html": [
       "\n",
       "        <div id=\"FjiJxKsXvAKnoxpaocBLrN\"></div>\n",
       "        <script>netpixi.call('FjiJxKsXvAKnoxpaocBLrN', 'Dds9NkHZmJ4Wk4MNSQYHbb', 'changeGraph', 'eyJpZCI6IDMxLCAidHlwZSI6ICJ2ZXJ0ZXgiLCAicHJvcHMiOiB7ImNvbG9yIjogMTY3MTE2ODB9fQo=');</script>\n",
       "    "
      ],
      "text/plain": [
       "<IPython.core.display.HTML object>"
      ]
     },
     "metadata": {},
     "output_type": "display_data"
    },
    {
     "data": {
      "text/html": [
       "\n",
       "        <div id=\"dPNZNx5AuSPJaJwUSPsJ6D\"></div>\n",
       "        <script>netpixi.call('dPNZNx5AuSPJaJwUSPsJ6D', 'Dds9NkHZmJ4Wk4MNSQYHbb', 'changeGraph', 'eyJpZCI6IDMyLCAidHlwZSI6ICJ2ZXJ0ZXgiLCAicHJvcHMiOiB7ImNvbG9yIjogNjUyODB9fQo=');</script>\n",
       "    "
      ],
      "text/plain": [
       "<IPython.core.display.HTML object>"
      ]
     },
     "metadata": {},
     "output_type": "display_data"
    },
    {
     "data": {
      "text/html": [
       "\n",
       "        <div id=\"eixFNgdtcre76rYSRLXaaY\"></div>\n",
       "        <script>netpixi.call('eixFNgdtcre76rYSRLXaaY', 'Dds9NkHZmJ4Wk4MNSQYHbb', 'changeGraph', 'eyJpZCI6IDMzLCAidHlwZSI6ICJ2ZXJ0ZXgiLCAicHJvcHMiOiB7ImNvbG9yIjogMTY3MTE2ODB9fQo=');</script>\n",
       "    "
      ],
      "text/plain": [
       "<IPython.core.display.HTML object>"
      ]
     },
     "metadata": {},
     "output_type": "display_data"
    },
    {
     "data": {
      "text/html": [
       "\n",
       "        <div id=\"hQW2F5NDpwEiqf2h3Juytt\"></div>\n",
       "        <script>netpixi.call('hQW2F5NDpwEiqf2h3Juytt', 'Dds9NkHZmJ4Wk4MNSQYHbb', 'changeGraph', 'eyJpZCI6IDM0LCAidHlwZSI6ICJ2ZXJ0ZXgiLCAicHJvcHMiOiB7ImNvbG9yIjogMTY3MTE2ODB9fQo=');</script>\n",
       "    "
      ],
      "text/plain": [
       "<IPython.core.display.HTML object>"
      ]
     },
     "metadata": {},
     "output_type": "display_data"
    },
    {
     "data": {
      "text/html": [
       "\n",
       "        <div id=\"aq7ZA6nGnUvC9Nn7stRfcx\"></div>\n",
       "        <script>netpixi.call('aq7ZA6nGnUvC9Nn7stRfcx', 'Dds9NkHZmJ4Wk4MNSQYHbb', 'changeGraph', 'eyJpZCI6IDM1LCAidHlwZSI6ICJ2ZXJ0ZXgiLCAicHJvcHMiOiB7ImNvbG9yIjogMTY3MTE2ODB9fQo=');</script>\n",
       "    "
      ],
      "text/plain": [
       "<IPython.core.display.HTML object>"
      ]
     },
     "metadata": {},
     "output_type": "display_data"
    },
    {
     "data": {
      "text/html": [
       "\n",
       "        <div id=\"Yq9yq4yYQATcgQAnEa5CQs\"></div>\n",
       "        <script>netpixi.call('Yq9yq4yYQATcgQAnEa5CQs', 'Dds9NkHZmJ4Wk4MNSQYHbb', 'changeGraph', 'eyJpZCI6IDM2LCAidHlwZSI6ICJ2ZXJ0ZXgiLCAicHJvcHMiOiB7ImNvbG9yIjogNjUyODB9fQo=');</script>\n",
       "    "
      ],
      "text/plain": [
       "<IPython.core.display.HTML object>"
      ]
     },
     "metadata": {},
     "output_type": "display_data"
    },
    {
     "data": {
      "text/html": [
       "\n",
       "        <div id=\"GYHEFFEpBb9yKMmtsGU9dr\"></div>\n",
       "        <script>netpixi.call('GYHEFFEpBb9yKMmtsGU9dr', 'Dds9NkHZmJ4Wk4MNSQYHbb', 'changeGraph', 'eyJpZCI6IDM3LCAidHlwZSI6ICJ2ZXJ0ZXgiLCAicHJvcHMiOiB7ImNvbG9yIjogMTY3MTE2ODB9fQo=');</script>\n",
       "    "
      ],
      "text/plain": [
       "<IPython.core.display.HTML object>"
      ]
     },
     "metadata": {},
     "output_type": "display_data"
    },
    {
     "data": {
      "text/html": [
       "\n",
       "        <div id=\"AZoMgv4SUKdLFNMUR4B5eo\"></div>\n",
       "        <script>netpixi.call('AZoMgv4SUKdLFNMUR4B5eo', 'Dds9NkHZmJ4Wk4MNSQYHbb', 'changeGraph', 'eyJpZCI6IDM4LCAidHlwZSI6ICJ2ZXJ0ZXgiLCAicHJvcHMiOiB7ImNvbG9yIjogMTY3MTE2ODB9fQo=');</script>\n",
       "    "
      ],
      "text/plain": [
       "<IPython.core.display.HTML object>"
      ]
     },
     "metadata": {},
     "output_type": "display_data"
    },
    {
     "data": {
      "text/html": [
       "\n",
       "        <div id=\"5CA25XzmQ8W5wiXfFzRxXe\"></div>\n",
       "        <script>netpixi.call('5CA25XzmQ8W5wiXfFzRxXe', 'Dds9NkHZmJ4Wk4MNSQYHbb', 'changeGraph', 'eyJpZCI6IDM5LCAidHlwZSI6ICJ2ZXJ0ZXgiLCAicHJvcHMiOiB7ImNvbG9yIjogNjUyODB9fQo=');</script>\n",
       "    "
      ],
      "text/plain": [
       "<IPython.core.display.HTML object>"
      ]
     },
     "metadata": {},
     "output_type": "display_data"
    },
    {
     "data": {
      "text/html": [
       "\n",
       "        <div id=\"mgDFkwq9LApvQgmEf4XV33\"></div>\n",
       "        <script>netpixi.call('mgDFkwq9LApvQgmEf4XV33', 'Dds9NkHZmJ4Wk4MNSQYHbb', 'changeGraph', 'eyJpZCI6IDQwLCAidHlwZSI6ICJ2ZXJ0ZXgiLCAicHJvcHMiOiB7ImNvbG9yIjogNjUyODB9fQo=');</script>\n",
       "    "
      ],
      "text/plain": [
       "<IPython.core.display.HTML object>"
      ]
     },
     "metadata": {},
     "output_type": "display_data"
    },
    {
     "data": {
      "text/html": [
       "\n",
       "        <div id=\"XXVWYTCe5pbyx5dP4NYZ7b\"></div>\n",
       "        <script>netpixi.call('XXVWYTCe5pbyx5dP4NYZ7b', 'Dds9NkHZmJ4Wk4MNSQYHbb', 'changeGraph', 'eyJpZCI6IDQxLCAidHlwZSI6ICJ2ZXJ0ZXgiLCAicHJvcHMiOiB7ImNvbG9yIjogNjUyODB9fQo=');</script>\n",
       "    "
      ],
      "text/plain": [
       "<IPython.core.display.HTML object>"
      ]
     },
     "metadata": {},
     "output_type": "display_data"
    },
    {
     "data": {
      "text/html": [
       "\n",
       "        <div id=\"WfYP9Ey3Do23YRiZqXv7Mx\"></div>\n",
       "        <script>netpixi.call('WfYP9Ey3Do23YRiZqXv7Mx', 'Dds9NkHZmJ4Wk4MNSQYHbb', 'changeGraph', 'eyJpZCI6IDQyLCAidHlwZSI6ICJ2ZXJ0ZXgiLCAicHJvcHMiOiB7ImNvbG9yIjogNjUyODB9fQo=');</script>\n",
       "    "
      ],
      "text/plain": [
       "<IPython.core.display.HTML object>"
      ]
     },
     "metadata": {},
     "output_type": "display_data"
    },
    {
     "data": {
      "text/html": [
       "\n",
       "        <div id=\"SbKhwMGFEu4uVTRMFFbt3D\"></div>\n",
       "        <script>netpixi.call('SbKhwMGFEu4uVTRMFFbt3D', 'Dds9NkHZmJ4Wk4MNSQYHbb', 'changeGraph', 'eyJpZCI6IDQzLCAidHlwZSI6ICJ2ZXJ0ZXgiLCAicHJvcHMiOiB7ImNvbG9yIjogNjUyODB9fQo=');</script>\n",
       "    "
      ],
      "text/plain": [
       "<IPython.core.display.HTML object>"
      ]
     },
     "metadata": {},
     "output_type": "display_data"
    },
    {
     "data": {
      "text/html": [
       "\n",
       "        <div id=\"hzXf2qmJnS4UQX6RHAEbmb\"></div>\n",
       "        <script>netpixi.call('hzXf2qmJnS4UQX6RHAEbmb', 'Dds9NkHZmJ4Wk4MNSQYHbb', 'changeGraph', 'eyJpZCI6IDQ0LCAidHlwZSI6ICJ2ZXJ0ZXgiLCAicHJvcHMiOiB7ImNvbG9yIjogNjUyODB9fQo=');</script>\n",
       "    "
      ],
      "text/plain": [
       "<IPython.core.display.HTML object>"
      ]
     },
     "metadata": {},
     "output_type": "display_data"
    },
    {
     "data": {
      "text/html": [
       "\n",
       "        <div id=\"4j4CcNvhWwYURzMoDc6m2D\"></div>\n",
       "        <script>netpixi.call('4j4CcNvhWwYURzMoDc6m2D', 'Dds9NkHZmJ4Wk4MNSQYHbb', 'changeGraph', 'eyJpZCI6IDQ1LCAidHlwZSI6ICJ2ZXJ0ZXgiLCAicHJvcHMiOiB7ImNvbG9yIjogMTY3MTE2ODB9fQo=');</script>\n",
       "    "
      ],
      "text/plain": [
       "<IPython.core.display.HTML object>"
      ]
     },
     "metadata": {},
     "output_type": "display_data"
    },
    {
     "data": {
      "text/html": [
       "\n",
       "        <div id=\"VmfuxXMgvadbXDLr6NuEVd\"></div>\n",
       "        <script>netpixi.call('VmfuxXMgvadbXDLr6NuEVd', 'Dds9NkHZmJ4Wk4MNSQYHbb', 'changeGraph', 'eyJpZCI6IDQ2LCAidHlwZSI6ICJ2ZXJ0ZXgiLCAicHJvcHMiOiB7ImNvbG9yIjogNjUyODB9fQo=');</script>\n",
       "    "
      ],
      "text/plain": [
       "<IPython.core.display.HTML object>"
      ]
     },
     "metadata": {},
     "output_type": "display_data"
    },
    {
     "data": {
      "text/html": [
       "\n",
       "        <div id=\"8AZUge67g2LSK82voMfhKn\"></div>\n",
       "        <script>netpixi.call('8AZUge67g2LSK82voMfhKn', 'Dds9NkHZmJ4Wk4MNSQYHbb', 'changeGraph', 'eyJpZCI6IDQ3LCAidHlwZSI6ICJ2ZXJ0ZXgiLCAicHJvcHMiOiB7ImNvbG9yIjogMTY3MTE2ODB9fQo=');</script>\n",
       "    "
      ],
      "text/plain": [
       "<IPython.core.display.HTML object>"
      ]
     },
     "metadata": {},
     "output_type": "display_data"
    },
    {
     "data": {
      "text/html": [
       "\n",
       "        <div id=\"YJRya84SLEXEk8PYBjzv8W\"></div>\n",
       "        <script>netpixi.call('YJRya84SLEXEk8PYBjzv8W', 'Dds9NkHZmJ4Wk4MNSQYHbb', 'changeGraph', 'eyJpZCI6IDQ4LCAidHlwZSI6ICJ2ZXJ0ZXgiLCAicHJvcHMiOiB7ImNvbG9yIjogNjUyODB9fQo=');</script>\n",
       "    "
      ],
      "text/plain": [
       "<IPython.core.display.HTML object>"
      ]
     },
     "metadata": {},
     "output_type": "display_data"
    },
    {
     "data": {
      "text/html": [
       "\n",
       "        <div id=\"9sA92FqibEhiy6UYwQ9z2N\"></div>\n",
       "        <script>netpixi.call('9sA92FqibEhiy6UYwQ9z2N', 'Dds9NkHZmJ4Wk4MNSQYHbb', 'changeGraph', 'eyJpZCI6IDQ5LCAidHlwZSI6ICJ2ZXJ0ZXgiLCAicHJvcHMiOiB7ImNvbG9yIjogMTY3MTE2ODB9fQo=');</script>\n",
       "    "
      ],
      "text/plain": [
       "<IPython.core.display.HTML object>"
      ]
     },
     "metadata": {},
     "output_type": "display_data"
    },
    {
     "data": {
      "text/html": [
       "\n",
       "        <div id=\"Q7aarZMnZ3GsFBcPBxxcsP\"></div>\n",
       "        <script>netpixi.call('Q7aarZMnZ3GsFBcPBxxcsP', 'Dds9NkHZmJ4Wk4MNSQYHbb', 'changeGraph', 'eyJpZCI6IDUwLCAidHlwZSI6ICJ2ZXJ0ZXgiLCAicHJvcHMiOiB7ImNvbG9yIjogNjUyODB9fQo=');</script>\n",
       "    "
      ],
      "text/plain": [
       "<IPython.core.display.HTML object>"
      ]
     },
     "metadata": {},
     "output_type": "display_data"
    },
    {
     "data": {
      "text/html": [
       "\n",
       "        <div id=\"PCtRFtb2GyCTuhAC9jTdw6\"></div>\n",
       "        <script>netpixi.call('PCtRFtb2GyCTuhAC9jTdw6', 'Dds9NkHZmJ4Wk4MNSQYHbb', 'changeGraph', 'eyJpZCI6IDUxLCAidHlwZSI6ICJ2ZXJ0ZXgiLCAicHJvcHMiOiB7ImNvbG9yIjogMTY3MTE2ODB9fQo=');</script>\n",
       "    "
      ],
      "text/plain": [
       "<IPython.core.display.HTML object>"
      ]
     },
     "metadata": {},
     "output_type": "display_data"
    },
    {
     "data": {
      "text/html": [
       "\n",
       "        <div id=\"PaJ4GmBwytZKRFXtCBmcZU\"></div>\n",
       "        <script>netpixi.call('PaJ4GmBwytZKRFXtCBmcZU', 'Dds9NkHZmJ4Wk4MNSQYHbb', 'changeGraph', 'eyJpZCI6IDUyLCAidHlwZSI6ICJ2ZXJ0ZXgiLCAicHJvcHMiOiB7ImNvbG9yIjogNjUyODB9fQo=');</script>\n",
       "    "
      ],
      "text/plain": [
       "<IPython.core.display.HTML object>"
      ]
     },
     "metadata": {},
     "output_type": "display_data"
    },
    {
     "data": {
      "text/html": [
       "\n",
       "        <div id=\"ZqL8ShZqcuEfyoXNipnd3S\"></div>\n",
       "        <script>netpixi.call('ZqL8ShZqcuEfyoXNipnd3S', 'Dds9NkHZmJ4Wk4MNSQYHbb', 'changeGraph', 'eyJpZCI6IDUzLCAidHlwZSI6ICJ2ZXJ0ZXgiLCAicHJvcHMiOiB7ImNvbG9yIjogNjUyODB9fQo=');</script>\n",
       "    "
      ],
      "text/plain": [
       "<IPython.core.display.HTML object>"
      ]
     },
     "metadata": {},
     "output_type": "display_data"
    },
    {
     "data": {
      "text/html": [
       "\n",
       "        <div id=\"RrvaeKicmZSvcmdof8cdKA\"></div>\n",
       "        <script>netpixi.call('RrvaeKicmZSvcmdof8cdKA', 'Dds9NkHZmJ4Wk4MNSQYHbb', 'changeGraph', 'eyJpZCI6IDU0LCAidHlwZSI6ICJ2ZXJ0ZXgiLCAicHJvcHMiOiB7ImNvbG9yIjogMTY3MTE2ODB9fQo=');</script>\n",
       "    "
      ],
      "text/plain": [
       "<IPython.core.display.HTML object>"
      ]
     },
     "metadata": {},
     "output_type": "display_data"
    },
    {
     "data": {
      "text/html": [
       "\n",
       "        <div id=\"VepWsmANVFbXETnGHsDdJM\"></div>\n",
       "        <script>netpixi.call('VepWsmANVFbXETnGHsDdJM', 'Dds9NkHZmJ4Wk4MNSQYHbb', 'changeGraph', 'eyJpZCI6IDU1LCAidHlwZSI6ICJ2ZXJ0ZXgiLCAicHJvcHMiOiB7ImNvbG9yIjogNjUyODB9fQo=');</script>\n",
       "    "
      ],
      "text/plain": [
       "<IPython.core.display.HTML object>"
      ]
     },
     "metadata": {},
     "output_type": "display_data"
    },
    {
     "data": {
      "text/html": [
       "\n",
       "        <div id=\"2qgxZFmCJroyJL9JHYJG5t\"></div>\n",
       "        <script>netpixi.call('2qgxZFmCJroyJL9JHYJG5t', 'Dds9NkHZmJ4Wk4MNSQYHbb', 'changeGraph', 'eyJpZCI6IDU2LCAidHlwZSI6ICJ2ZXJ0ZXgiLCAicHJvcHMiOiB7ImNvbG9yIjogNjUyODB9fQo=');</script>\n",
       "    "
      ],
      "text/plain": [
       "<IPython.core.display.HTML object>"
      ]
     },
     "metadata": {},
     "output_type": "display_data"
    },
    {
     "data": {
      "text/html": [
       "\n",
       "        <div id=\"ZWpQmJULKDd5uBZuE4D8df\"></div>\n",
       "        <script>netpixi.call('ZWpQmJULKDd5uBZuE4D8df', 'Dds9NkHZmJ4Wk4MNSQYHbb', 'changeGraph', 'eyJpZCI6IDU3LCAidHlwZSI6ICJ2ZXJ0ZXgiLCAicHJvcHMiOiB7ImNvbG9yIjogNjUyODB9fQo=');</script>\n",
       "    "
      ],
      "text/plain": [
       "<IPython.core.display.HTML object>"
      ]
     },
     "metadata": {},
     "output_type": "display_data"
    },
    {
     "data": {
      "text/html": [
       "\n",
       "        <div id=\"CLPw9cLz9t3oN9ecXF8sQB\"></div>\n",
       "        <script>netpixi.call('CLPw9cLz9t3oN9ecXF8sQB', 'Dds9NkHZmJ4Wk4MNSQYHbb', 'changeGraph', 'eyJpZCI6IDU4LCAidHlwZSI6ICJ2ZXJ0ZXgiLCAicHJvcHMiOiB7ImNvbG9yIjogMTY3MTE2ODB9fQo=');</script>\n",
       "    "
      ],
      "text/plain": [
       "<IPython.core.display.HTML object>"
      ]
     },
     "metadata": {},
     "output_type": "display_data"
    },
    {
     "data": {
      "text/html": [
       "\n",
       "        <div id=\"RJMNGRH9TFyXRN8n8zsNcn\"></div>\n",
       "        <script>netpixi.call('RJMNGRH9TFyXRN8n8zsNcn', 'Dds9NkHZmJ4Wk4MNSQYHbb', 'changeGraph', 'eyJpZCI6IDU5LCAidHlwZSI6ICJ2ZXJ0ZXgiLCAicHJvcHMiOiB7ImNvbG9yIjogNjUyODB9fQo=');</script>\n",
       "    "
      ],
      "text/plain": [
       "<IPython.core.display.HTML object>"
      ]
     },
     "metadata": {},
     "output_type": "display_data"
    },
    {
     "data": {
      "text/html": [
       "\n",
       "        <div id=\"BHk9jx8zYehKA8zoRjN4N3\"></div>\n",
       "        <script>netpixi.call('BHk9jx8zYehKA8zoRjN4N3', 'Dds9NkHZmJ4Wk4MNSQYHbb', 'changeGraph', 'eyJpZCI6IDYwLCAidHlwZSI6ICJ2ZXJ0ZXgiLCAicHJvcHMiOiB7ImNvbG9yIjogNjUyODB9fQo=');</script>\n",
       "    "
      ],
      "text/plain": [
       "<IPython.core.display.HTML object>"
      ]
     },
     "metadata": {},
     "output_type": "display_data"
    },
    {
     "data": {
      "text/html": [
       "\n",
       "        <div id=\"SuCVmGhnTBrj4GqLyixsnR\"></div>\n",
       "        <script>netpixi.call('SuCVmGhnTBrj4GqLyixsnR', 'Dds9NkHZmJ4Wk4MNSQYHbb', 'changeGraph', 'eyJpZCI6IDYxLCAidHlwZSI6ICJ2ZXJ0ZXgiLCAicHJvcHMiOiB7ImNvbG9yIjogMTY3MTE2ODB9fQo=');</script>\n",
       "    "
      ],
      "text/plain": [
       "<IPython.core.display.HTML object>"
      ]
     },
     "metadata": {},
     "output_type": "display_data"
    },
    {
     "data": {
      "text/html": [
       "\n",
       "        <div id=\"emmXhooZUiGrEoBhX2SxHq\"></div>\n",
       "        <script>netpixi.call('emmXhooZUiGrEoBhX2SxHq', 'Dds9NkHZmJ4Wk4MNSQYHbb', 'changeGraph', 'eyJpZCI6IDYyLCAidHlwZSI6ICJ2ZXJ0ZXgiLCAicHJvcHMiOiB7ImNvbG9yIjogMTY3MTE2ODB9fQo=');</script>\n",
       "    "
      ],
      "text/plain": [
       "<IPython.core.display.HTML object>"
      ]
     },
     "metadata": {},
     "output_type": "display_data"
    },
    {
     "data": {
      "text/html": [
       "\n",
       "        <div id=\"GBGiLPZdiBLMBN5mShyoNc\"></div>\n",
       "        <script>netpixi.call('GBGiLPZdiBLMBN5mShyoNc', 'Dds9NkHZmJ4Wk4MNSQYHbb', 'changeGraph', 'eyJpZCI6IDYzLCAidHlwZSI6ICJ2ZXJ0ZXgiLCAicHJvcHMiOiB7ImNvbG9yIjogNjUyODB9fQo=');</script>\n",
       "    "
      ],
      "text/plain": [
       "<IPython.core.display.HTML object>"
      ]
     },
     "metadata": {},
     "output_type": "display_data"
    },
    {
     "data": {
      "text/html": [
       "\n",
       "        <div id=\"kmom8VMbKhnKbnZRUR2gp4\"></div>\n",
       "        <script>netpixi.call('kmom8VMbKhnKbnZRUR2gp4', 'Dds9NkHZmJ4Wk4MNSQYHbb', 'changeGraph', 'eyJpZCI6IDY0LCAidHlwZSI6ICJ2ZXJ0ZXgiLCAicHJvcHMiOiB7ImNvbG9yIjogNjUyODB9fQo=');</script>\n",
       "    "
      ],
      "text/plain": [
       "<IPython.core.display.HTML object>"
      ]
     },
     "metadata": {},
     "output_type": "display_data"
    },
    {
     "data": {
      "text/html": [
       "\n",
       "        <div id=\"8zcGyRUDy3hJD5iUiwdkC9\"></div>\n",
       "        <script>netpixi.call('8zcGyRUDy3hJD5iUiwdkC9', 'Dds9NkHZmJ4Wk4MNSQYHbb', 'changeGraph', 'eyJpZCI6IDY1LCAidHlwZSI6ICJ2ZXJ0ZXgiLCAicHJvcHMiOiB7ImNvbG9yIjogMTY3MTE2ODB9fQo=');</script>\n",
       "    "
      ],
      "text/plain": [
       "<IPython.core.display.HTML object>"
      ]
     },
     "metadata": {},
     "output_type": "display_data"
    },
    {
     "data": {
      "text/html": [
       "\n",
       "        <div id=\"7MncxvfEzRNkYrPGDQ5oy5\"></div>\n",
       "        <script>netpixi.call('7MncxvfEzRNkYrPGDQ5oy5', 'Dds9NkHZmJ4Wk4MNSQYHbb', 'changeGraph', 'eyJpZCI6IDY2LCAidHlwZSI6ICJ2ZXJ0ZXgiLCAicHJvcHMiOiB7ImNvbG9yIjogNjUyODB9fQo=');</script>\n",
       "    "
      ],
      "text/plain": [
       "<IPython.core.display.HTML object>"
      ]
     },
     "metadata": {},
     "output_type": "display_data"
    },
    {
     "data": {
      "text/html": [
       "\n",
       "        <div id=\"buLtt3PqXG7UdbawRx8HSE\"></div>\n",
       "        <script>netpixi.call('buLtt3PqXG7UdbawRx8HSE', 'Dds9NkHZmJ4Wk4MNSQYHbb', 'changeGraph', 'eyJpZCI6IDY3LCAidHlwZSI6ICJ2ZXJ0ZXgiLCAicHJvcHMiOiB7ImNvbG9yIjogMTY3MTE2ODB9fQo=');</script>\n",
       "    "
      ],
      "text/plain": [
       "<IPython.core.display.HTML object>"
      ]
     },
     "metadata": {},
     "output_type": "display_data"
    },
    {
     "data": {
      "text/html": [
       "\n",
       "        <div id=\"Ghcsh4fzTz8NxMVLgP7n3E\"></div>\n",
       "        <script>netpixi.call('Ghcsh4fzTz8NxMVLgP7n3E', 'Dds9NkHZmJ4Wk4MNSQYHbb', 'changeGraph', 'eyJpZCI6IDY4LCAidHlwZSI6ICJ2ZXJ0ZXgiLCAicHJvcHMiOiB7ImNvbG9yIjogNjUyODB9fQo=');</script>\n",
       "    "
      ],
      "text/plain": [
       "<IPython.core.display.HTML object>"
      ]
     },
     "metadata": {},
     "output_type": "display_data"
    },
    {
     "data": {
      "text/html": [
       "\n",
       "        <div id=\"V3yNnY7znp7A8hbChBK3Aa\"></div>\n",
       "        <script>netpixi.call('V3yNnY7znp7A8hbChBK3Aa', 'Dds9NkHZmJ4Wk4MNSQYHbb', 'changeGraph', 'eyJpZCI6IDY5LCAidHlwZSI6ICJ2ZXJ0ZXgiLCAicHJvcHMiOiB7ImNvbG9yIjogNjUyODB9fQo=');</script>\n",
       "    "
      ],
      "text/plain": [
       "<IPython.core.display.HTML object>"
      ]
     },
     "metadata": {},
     "output_type": "display_data"
    },
    {
     "data": {
      "text/html": [
       "\n",
       "        <div id=\"5NC4ECHbJcpkJKALZgHDzt\"></div>\n",
       "        <script>netpixi.call('5NC4ECHbJcpkJKALZgHDzt', 'Dds9NkHZmJ4Wk4MNSQYHbb', 'changeGraph', 'eyJpZCI6IDcwLCAidHlwZSI6ICJ2ZXJ0ZXgiLCAicHJvcHMiOiB7ImNvbG9yIjogNjUyODB9fQo=');</script>\n",
       "    "
      ],
      "text/plain": [
       "<IPython.core.display.HTML object>"
      ]
     },
     "metadata": {},
     "output_type": "display_data"
    },
    {
     "data": {
      "text/html": [
       "\n",
       "        <div id=\"YSPXHsWXccNPyZ8CkiSvM4\"></div>\n",
       "        <script>netpixi.call('YSPXHsWXccNPyZ8CkiSvM4', 'Dds9NkHZmJ4Wk4MNSQYHbb', 'changeGraph', 'eyJpZCI6IDcxLCAidHlwZSI6ICJ2ZXJ0ZXgiLCAicHJvcHMiOiB7ImNvbG9yIjogMTY3MTE2ODB9fQo=');</script>\n",
       "    "
      ],
      "text/plain": [
       "<IPython.core.display.HTML object>"
      ]
     },
     "metadata": {},
     "output_type": "display_data"
    },
    {
     "data": {
      "text/html": [
       "\n",
       "        <div id=\"3P6r4UqmQBWBhrBxBTkdB7\"></div>\n",
       "        <script>netpixi.call('3P6r4UqmQBWBhrBxBTkdB7', 'Dds9NkHZmJ4Wk4MNSQYHbb', 'changeGraph', 'eyJpZCI6IDcyLCAidHlwZSI6ICJ2ZXJ0ZXgiLCAicHJvcHMiOiB7ImNvbG9yIjogMTY3MTE2ODB9fQo=');</script>\n",
       "    "
      ],
      "text/plain": [
       "<IPython.core.display.HTML object>"
      ]
     },
     "metadata": {},
     "output_type": "display_data"
    },
    {
     "data": {
      "text/html": [
       "\n",
       "        <div id=\"gozZUHFtT5nps2rScwKvci\"></div>\n",
       "        <script>netpixi.call('gozZUHFtT5nps2rScwKvci', 'Dds9NkHZmJ4Wk4MNSQYHbb', 'changeGraph', 'eyJpZCI6IDczLCAidHlwZSI6ICJ2ZXJ0ZXgiLCAicHJvcHMiOiB7ImNvbG9yIjogMTY3MTE2ODB9fQo=');</script>\n",
       "    "
      ],
      "text/plain": [
       "<IPython.core.display.HTML object>"
      ]
     },
     "metadata": {},
     "output_type": "display_data"
    },
    {
     "data": {
      "text/html": [
       "\n",
       "        <div id=\"PJ2vwpfB4yzsNRcAG6eU5x\"></div>\n",
       "        <script>netpixi.call('PJ2vwpfB4yzsNRcAG6eU5x', 'Dds9NkHZmJ4Wk4MNSQYHbb', 'changeGraph', 'eyJpZCI6IDc0LCAidHlwZSI6ICJ2ZXJ0ZXgiLCAicHJvcHMiOiB7ImNvbG9yIjogNjUyODB9fQo=');</script>\n",
       "    "
      ],
      "text/plain": [
       "<IPython.core.display.HTML object>"
      ]
     },
     "metadata": {},
     "output_type": "display_data"
    },
    {
     "data": {
      "text/html": [
       "\n",
       "        <div id=\"7k8JGYrAFzWafowdTehvhQ\"></div>\n",
       "        <script>netpixi.call('7k8JGYrAFzWafowdTehvhQ', 'Dds9NkHZmJ4Wk4MNSQYHbb', 'changeGraph', 'eyJpZCI6IDc1LCAidHlwZSI6ICJ2ZXJ0ZXgiLCAicHJvcHMiOiB7ImNvbG9yIjogMTY3MTE2ODB9fQo=');</script>\n",
       "    "
      ],
      "text/plain": [
       "<IPython.core.display.HTML object>"
      ]
     },
     "metadata": {},
     "output_type": "display_data"
    },
    {
     "data": {
      "text/html": [
       "\n",
       "        <div id=\"Z7KdXeervDbHLkoCFCtbXz\"></div>\n",
       "        <script>netpixi.call('Z7KdXeervDbHLkoCFCtbXz', 'Dds9NkHZmJ4Wk4MNSQYHbb', 'changeGraph', 'eyJpZCI6IDc2LCAidHlwZSI6ICJ2ZXJ0ZXgiLCAicHJvcHMiOiB7ImNvbG9yIjogMTY3MTE2ODB9fQo=');</script>\n",
       "    "
      ],
      "text/plain": [
       "<IPython.core.display.HTML object>"
      ]
     },
     "metadata": {},
     "output_type": "display_data"
    },
    {
     "data": {
      "text/html": [
       "\n",
       "        <div id=\"9ffeLcPnVfEb49TPNrg6PT\"></div>\n",
       "        <script>netpixi.call('9ffeLcPnVfEb49TPNrg6PT', 'Dds9NkHZmJ4Wk4MNSQYHbb', 'changeGraph', 'eyJpZCI6IDc3LCAidHlwZSI6ICJ2ZXJ0ZXgiLCAicHJvcHMiOiB7ImNvbG9yIjogMTY3MTE2ODB9fQo=');</script>\n",
       "    "
      ],
      "text/plain": [
       "<IPython.core.display.HTML object>"
      ]
     },
     "metadata": {},
     "output_type": "display_data"
    },
    {
     "data": {
      "text/html": [
       "\n",
       "        <div id=\"8hmN6y67YP9fKTDtLCcLUQ\"></div>\n",
       "        <script>netpixi.call('8hmN6y67YP9fKTDtLCcLUQ', 'Dds9NkHZmJ4Wk4MNSQYHbb', 'changeGraph', 'eyJpZCI6IDc4LCAidHlwZSI6ICJ2ZXJ0ZXgiLCAicHJvcHMiOiB7ImNvbG9yIjogNjUyODB9fQo=');</script>\n",
       "    "
      ],
      "text/plain": [
       "<IPython.core.display.HTML object>"
      ]
     },
     "metadata": {},
     "output_type": "display_data"
    },
    {
     "data": {
      "text/html": [
       "\n",
       "        <div id=\"fhzGnsLc8fKwBLnCaxSQvs\"></div>\n",
       "        <script>netpixi.call('fhzGnsLc8fKwBLnCaxSQvs', 'Dds9NkHZmJ4Wk4MNSQYHbb', 'changeGraph', 'eyJpZCI6IDc5LCAidHlwZSI6ICJ2ZXJ0ZXgiLCAicHJvcHMiOiB7ImNvbG9yIjogMTY3MTE2ODB9fQo=');</script>\n",
       "    "
      ],
      "text/plain": [
       "<IPython.core.display.HTML object>"
      ]
     },
     "metadata": {},
     "output_type": "display_data"
    },
    {
     "data": {
      "text/html": [
       "\n",
       "        <div id=\"Nr39UDPjQg5uAHQK8GQcHE\"></div>\n",
       "        <script>netpixi.call('Nr39UDPjQg5uAHQK8GQcHE', 'Dds9NkHZmJ4Wk4MNSQYHbb', 'changeGraph', 'eyJpZCI6IDgwLCAidHlwZSI6ICJ2ZXJ0ZXgiLCAicHJvcHMiOiB7ImNvbG9yIjogMTY3MTE2ODB9fQo=');</script>\n",
       "    "
      ],
      "text/plain": [
       "<IPython.core.display.HTML object>"
      ]
     },
     "metadata": {},
     "output_type": "display_data"
    },
    {
     "data": {
      "text/html": [
       "\n",
       "        <div id=\"fqanNH2Kxap6HbTYEywCLj\"></div>\n",
       "        <script>netpixi.call('fqanNH2Kxap6HbTYEywCLj', 'Dds9NkHZmJ4Wk4MNSQYHbb', 'changeGraph', 'eyJpZCI6IDgxLCAidHlwZSI6ICJ2ZXJ0ZXgiLCAicHJvcHMiOiB7ImNvbG9yIjogNjUyODB9fQo=');</script>\n",
       "    "
      ],
      "text/plain": [
       "<IPython.core.display.HTML object>"
      ]
     },
     "metadata": {},
     "output_type": "display_data"
    },
    {
     "data": {
      "text/html": [
       "\n",
       "        <div id=\"iPQmLMUdCfM2WA9Pmanu6z\"></div>\n",
       "        <script>netpixi.call('iPQmLMUdCfM2WA9Pmanu6z', 'Dds9NkHZmJ4Wk4MNSQYHbb', 'changeGraph', 'eyJpZCI6IDgyLCAidHlwZSI6ICJ2ZXJ0ZXgiLCAicHJvcHMiOiB7ImNvbG9yIjogMTY3MTE2ODB9fQo=');</script>\n",
       "    "
      ],
      "text/plain": [
       "<IPython.core.display.HTML object>"
      ]
     },
     "metadata": {},
     "output_type": "display_data"
    },
    {
     "data": {
      "text/html": [
       "\n",
       "        <div id=\"n7VbnudqSPZP62yyNRBNvy\"></div>\n",
       "        <script>netpixi.call('n7VbnudqSPZP62yyNRBNvy', 'Dds9NkHZmJ4Wk4MNSQYHbb', 'changeGraph', 'eyJpZCI6IDgzLCAidHlwZSI6ICJ2ZXJ0ZXgiLCAicHJvcHMiOiB7ImNvbG9yIjogNjUyODB9fQo=');</script>\n",
       "    "
      ],
      "text/plain": [
       "<IPython.core.display.HTML object>"
      ]
     },
     "metadata": {},
     "output_type": "display_data"
    },
    {
     "data": {
      "text/html": [
       "\n",
       "        <div id=\"2A4swHf4MyDfAAs8XHxApm\"></div>\n",
       "        <script>netpixi.call('2A4swHf4MyDfAAs8XHxApm', 'Dds9NkHZmJ4Wk4MNSQYHbb', 'changeGraph', 'eyJpZCI6IDg0LCAidHlwZSI6ICJ2ZXJ0ZXgiLCAicHJvcHMiOiB7ImNvbG9yIjogNjUyODB9fQo=');</script>\n",
       "    "
      ],
      "text/plain": [
       "<IPython.core.display.HTML object>"
      ]
     },
     "metadata": {},
     "output_type": "display_data"
    },
    {
     "data": {
      "text/html": [
       "\n",
       "        <div id=\"Z9eCCeQuyyjhtdnQy7hV3a\"></div>\n",
       "        <script>netpixi.call('Z9eCCeQuyyjhtdnQy7hV3a', 'Dds9NkHZmJ4Wk4MNSQYHbb', 'changeGraph', 'eyJpZCI6IDg1LCAidHlwZSI6ICJ2ZXJ0ZXgiLCAicHJvcHMiOiB7ImNvbG9yIjogMTY3MTE2ODB9fQo=');</script>\n",
       "    "
      ],
      "text/plain": [
       "<IPython.core.display.HTML object>"
      ]
     },
     "metadata": {},
     "output_type": "display_data"
    },
    {
     "data": {
      "text/html": [
       "\n",
       "        <div id=\"MZXTkWyGbrcnAqATu5tdco\"></div>\n",
       "        <script>netpixi.call('MZXTkWyGbrcnAqATu5tdco', 'Dds9NkHZmJ4Wk4MNSQYHbb', 'changeGraph', 'eyJpZCI6IDg2LCAidHlwZSI6ICJ2ZXJ0ZXgiLCAicHJvcHMiOiB7ImNvbG9yIjogNjUyODB9fQo=');</script>\n",
       "    "
      ],
      "text/plain": [
       "<IPython.core.display.HTML object>"
      ]
     },
     "metadata": {},
     "output_type": "display_data"
    },
    {
     "data": {
      "text/html": [
       "\n",
       "        <div id=\"48f4z58wYNrhegBN63uTkP\"></div>\n",
       "        <script>netpixi.call('48f4z58wYNrhegBN63uTkP', 'Dds9NkHZmJ4Wk4MNSQYHbb', 'changeGraph', 'eyJpZCI6IDg3LCAidHlwZSI6ICJ2ZXJ0ZXgiLCAicHJvcHMiOiB7ImNvbG9yIjogMTY3MTE2ODB9fQo=');</script>\n",
       "    "
      ],
      "text/plain": [
       "<IPython.core.display.HTML object>"
      ]
     },
     "metadata": {},
     "output_type": "display_data"
    },
    {
     "data": {
      "text/html": [
       "\n",
       "        <div id=\"gA32ZtMbzQ7HFtFpi6m35r\"></div>\n",
       "        <script>netpixi.call('gA32ZtMbzQ7HFtFpi6m35r', 'Dds9NkHZmJ4Wk4MNSQYHbb', 'changeGraph', 'eyJpZCI6IDg4LCAidHlwZSI6ICJ2ZXJ0ZXgiLCAicHJvcHMiOiB7ImNvbG9yIjogMTY3MTE2ODB9fQo=');</script>\n",
       "    "
      ],
      "text/plain": [
       "<IPython.core.display.HTML object>"
      ]
     },
     "metadata": {},
     "output_type": "display_data"
    },
    {
     "data": {
      "text/html": [
       "\n",
       "        <div id=\"nWCmJJytPgPEPdEihWBcdv\"></div>\n",
       "        <script>netpixi.call('nWCmJJytPgPEPdEihWBcdv', 'Dds9NkHZmJ4Wk4MNSQYHbb', 'changeGraph', 'eyJpZCI6IDg5LCAidHlwZSI6ICJ2ZXJ0ZXgiLCAicHJvcHMiOiB7ImNvbG9yIjogMTY3MTE2ODB9fQo=');</script>\n",
       "    "
      ],
      "text/plain": [
       "<IPython.core.display.HTML object>"
      ]
     },
     "metadata": {},
     "output_type": "display_data"
    },
    {
     "data": {
      "text/html": [
       "\n",
       "        <div id=\"aGbgMhxsSjSsfN9tDyWTpa\"></div>\n",
       "        <script>netpixi.call('aGbgMhxsSjSsfN9tDyWTpa', 'Dds9NkHZmJ4Wk4MNSQYHbb', 'changeGraph', 'eyJpZCI6IDkwLCAidHlwZSI6ICJ2ZXJ0ZXgiLCAicHJvcHMiOiB7ImNvbG9yIjogMTY3MTE2ODB9fQo=');</script>\n",
       "    "
      ],
      "text/plain": [
       "<IPython.core.display.HTML object>"
      ]
     },
     "metadata": {},
     "output_type": "display_data"
    },
    {
     "data": {
      "text/html": [
       "\n",
       "        <div id=\"XgbzVKVaNw8bNCzmd27NZr\"></div>\n",
       "        <script>netpixi.call('XgbzVKVaNw8bNCzmd27NZr', 'Dds9NkHZmJ4Wk4MNSQYHbb', 'changeGraph', 'eyJpZCI6IDkxLCAidHlwZSI6ICJ2ZXJ0ZXgiLCAicHJvcHMiOiB7ImNvbG9yIjogNjUyODB9fQo=');</script>\n",
       "    "
      ],
      "text/plain": [
       "<IPython.core.display.HTML object>"
      ]
     },
     "metadata": {},
     "output_type": "display_data"
    },
    {
     "data": {
      "text/html": [
       "\n",
       "        <div id=\"6dagJYgVxW8RF3ZtmQiSn5\"></div>\n",
       "        <script>netpixi.call('6dagJYgVxW8RF3ZtmQiSn5', 'Dds9NkHZmJ4Wk4MNSQYHbb', 'changeGraph', 'eyJpZCI6IDkyLCAidHlwZSI6ICJ2ZXJ0ZXgiLCAicHJvcHMiOiB7ImNvbG9yIjogNjUyODB9fQo=');</script>\n",
       "    "
      ],
      "text/plain": [
       "<IPython.core.display.HTML object>"
      ]
     },
     "metadata": {},
     "output_type": "display_data"
    },
    {
     "data": {
      "text/html": [
       "\n",
       "        <div id=\"3mck4QgRa2aTe2Pec8AuBy\"></div>\n",
       "        <script>netpixi.call('3mck4QgRa2aTe2Pec8AuBy', 'Dds9NkHZmJ4Wk4MNSQYHbb', 'changeGraph', 'eyJpZCI6IDkzLCAidHlwZSI6ICJ2ZXJ0ZXgiLCAicHJvcHMiOiB7ImNvbG9yIjogNjUyODB9fQo=');</script>\n",
       "    "
      ],
      "text/plain": [
       "<IPython.core.display.HTML object>"
      ]
     },
     "metadata": {},
     "output_type": "display_data"
    },
    {
     "data": {
      "text/html": [
       "\n",
       "        <div id=\"ABNp96LzNi5hZshjggi7bQ\"></div>\n",
       "        <script>netpixi.call('ABNp96LzNi5hZshjggi7bQ', 'Dds9NkHZmJ4Wk4MNSQYHbb', 'changeGraph', 'eyJpZCI6IDk0LCAidHlwZSI6ICJ2ZXJ0ZXgiLCAicHJvcHMiOiB7ImNvbG9yIjogMTY3MTE2ODB9fQo=');</script>\n",
       "    "
      ],
      "text/plain": [
       "<IPython.core.display.HTML object>"
      ]
     },
     "metadata": {},
     "output_type": "display_data"
    },
    {
     "data": {
      "text/html": [
       "\n",
       "        <div id=\"mhkjK2zHfsodiAAcKDbb8U\"></div>\n",
       "        <script>netpixi.call('mhkjK2zHfsodiAAcKDbb8U', 'Dds9NkHZmJ4Wk4MNSQYHbb', 'changeGraph', 'eyJpZCI6IDk1LCAidHlwZSI6ICJ2ZXJ0ZXgiLCAicHJvcHMiOiB7ImNvbG9yIjogNjUyODB9fQo=');</script>\n",
       "    "
      ],
      "text/plain": [
       "<IPython.core.display.HTML object>"
      ]
     },
     "metadata": {},
     "output_type": "display_data"
    },
    {
     "data": {
      "text/html": [
       "\n",
       "        <div id=\"87nEvf7HtXS2T3aFdSMwQ6\"></div>\n",
       "        <script>netpixi.call('87nEvf7HtXS2T3aFdSMwQ6', 'Dds9NkHZmJ4Wk4MNSQYHbb', 'changeGraph', 'eyJpZCI6IDk2LCAidHlwZSI6ICJ2ZXJ0ZXgiLCAicHJvcHMiOiB7ImNvbG9yIjogMTY3MTE2ODB9fQo=');</script>\n",
       "    "
      ],
      "text/plain": [
       "<IPython.core.display.HTML object>"
      ]
     },
     "metadata": {},
     "output_type": "display_data"
    },
    {
     "data": {
      "text/html": [
       "\n",
       "        <div id=\"BKUe7XCvkEdW2MwMa2QVGg\"></div>\n",
       "        <script>netpixi.call('BKUe7XCvkEdW2MwMa2QVGg', 'Dds9NkHZmJ4Wk4MNSQYHbb', 'changeGraph', 'eyJpZCI6IDk3LCAidHlwZSI6ICJ2ZXJ0ZXgiLCAicHJvcHMiOiB7ImNvbG9yIjogNjUyODB9fQo=');</script>\n",
       "    "
      ],
      "text/plain": [
       "<IPython.core.display.HTML object>"
      ]
     },
     "metadata": {},
     "output_type": "display_data"
    },
    {
     "data": {
      "text/html": [
       "\n",
       "        <div id=\"aembRpvuzADg62YDBsQKJD\"></div>\n",
       "        <script>netpixi.call('aembRpvuzADg62YDBsQKJD', 'Dds9NkHZmJ4Wk4MNSQYHbb', 'changeGraph', 'eyJpZCI6IDk4LCAidHlwZSI6ICJ2ZXJ0ZXgiLCAicHJvcHMiOiB7ImNvbG9yIjogNjUyODB9fQo=');</script>\n",
       "    "
      ],
      "text/plain": [
       "<IPython.core.display.HTML object>"
      ]
     },
     "metadata": {},
     "output_type": "display_data"
    },
    {
     "data": {
      "text/html": [
       "\n",
       "        <div id=\"bKcqM5dVgzfwbRERPhUQdL\"></div>\n",
       "        <script>netpixi.call('bKcqM5dVgzfwbRERPhUQdL', 'Dds9NkHZmJ4Wk4MNSQYHbb', 'changeGraph', 'eyJpZCI6IDk5LCAidHlwZSI6ICJ2ZXJ0ZXgiLCAicHJvcHMiOiB7ImNvbG9yIjogNjUyODB9fQo=');</script>\n",
       "    "
      ],
      "text/plain": [
       "<IPython.core.display.HTML object>"
      ]
     },
     "metadata": {},
     "output_type": "display_data"
    },
    {
     "data": {
      "text/html": [
       "\n",
       "        <div id=\"Ztwknf9NMowEwcL75qMWF3\"></div>\n",
       "        <script>netpixi.call('Ztwknf9NMowEwcL75qMWF3', 'Dds9NkHZmJ4Wk4MNSQYHbb', 'changeGraph', 'eyJpZCI6IDEwMCwgInR5cGUiOiAidmVydGV4IiwgInByb3BzIjogeyJjb2xvciI6IDE2NzExNjgwfX0K');</script>\n",
       "    "
      ],
      "text/plain": [
       "<IPython.core.display.HTML object>"
      ]
     },
     "metadata": {},
     "output_type": "display_data"
    },
    {
     "data": {
      "text/html": [
       "\n",
       "        <div id=\"Fm5uCuKUWUQRWtDmEonkJa\"></div>\n",
       "        <script>netpixi.call('Fm5uCuKUWUQRWtDmEonkJa', 'Dds9NkHZmJ4Wk4MNSQYHbb', 'changeGraph', 'eyJpZCI6IDEwMSwgInR5cGUiOiAidmVydGV4IiwgInByb3BzIjogeyJjb2xvciI6IDY1MjgwfX0K');</script>\n",
       "    "
      ],
      "text/plain": [
       "<IPython.core.display.HTML object>"
      ]
     },
     "metadata": {},
     "output_type": "display_data"
    },
    {
     "data": {
      "text/html": [
       "\n",
       "        <div id=\"np3chaYQS3m4LSznZikQHy\"></div>\n",
       "        <script>netpixi.call('np3chaYQS3m4LSznZikQHy', 'Dds9NkHZmJ4Wk4MNSQYHbb', 'changeGraph', 'eyJpZCI6IDEwMiwgInR5cGUiOiAidmVydGV4IiwgInByb3BzIjogeyJjb2xvciI6IDY1MjgwfX0K');</script>\n",
       "    "
      ],
      "text/plain": [
       "<IPython.core.display.HTML object>"
      ]
     },
     "metadata": {},
     "output_type": "display_data"
    },
    {
     "data": {
      "text/html": [
       "\n",
       "        <div id=\"WejpQLfCMjJMthvouVf8Fi\"></div>\n",
       "        <script>netpixi.call('WejpQLfCMjJMthvouVf8Fi', 'Dds9NkHZmJ4Wk4MNSQYHbb', 'changeGraph', 'eyJpZCI6IDEwMywgInR5cGUiOiAidmVydGV4IiwgInByb3BzIjogeyJjb2xvciI6IDE2NzExNjgwfX0K');</script>\n",
       "    "
      ],
      "text/plain": [
       "<IPython.core.display.HTML object>"
      ]
     },
     "metadata": {},
     "output_type": "display_data"
    },
    {
     "data": {
      "text/html": [
       "\n",
       "        <div id=\"eAwFiBvNxppbrv3f3BvL4o\"></div>\n",
       "        <script>netpixi.call('eAwFiBvNxppbrv3f3BvL4o', 'Dds9NkHZmJ4Wk4MNSQYHbb', 'changeGraph', 'eyJpZCI6IDEwNCwgInR5cGUiOiAidmVydGV4IiwgInByb3BzIjogeyJjb2xvciI6IDY1MjgwfX0K');</script>\n",
       "    "
      ],
      "text/plain": [
       "<IPython.core.display.HTML object>"
      ]
     },
     "metadata": {},
     "output_type": "display_data"
    },
    {
     "data": {
      "text/html": [
       "\n",
       "        <div id=\"ePVj6kkDYznPFtNgDRoDdz\"></div>\n",
       "        <script>netpixi.call('ePVj6kkDYznPFtNgDRoDdz', 'Dds9NkHZmJ4Wk4MNSQYHbb', 'changeGraph', 'eyJpZCI6IDEwNSwgInR5cGUiOiAidmVydGV4IiwgInByb3BzIjogeyJjb2xvciI6IDE2NzExNjgwfX0K');</script>\n",
       "    "
      ],
      "text/plain": [
       "<IPython.core.display.HTML object>"
      ]
     },
     "metadata": {},
     "output_type": "display_data"
    },
    {
     "data": {
      "text/html": [
       "\n",
       "        <div id=\"Ubc8sEXPUdNhxYLSzMndJU\"></div>\n",
       "        <script>netpixi.call('Ubc8sEXPUdNhxYLSzMndJU', 'Dds9NkHZmJ4Wk4MNSQYHbb', 'changeGraph', 'eyJpZCI6IDEwNiwgInR5cGUiOiAidmVydGV4IiwgInByb3BzIjogeyJjb2xvciI6IDE2NzExNjgwfX0K');</script>\n",
       "    "
      ],
      "text/plain": [
       "<IPython.core.display.HTML object>"
      ]
     },
     "metadata": {},
     "output_type": "display_data"
    },
    {
     "data": {
      "text/html": [
       "\n",
       "        <div id=\"73iDuqzgi5QB8MjZxDrgi9\"></div>\n",
       "        <script>netpixi.call('73iDuqzgi5QB8MjZxDrgi9', 'Dds9NkHZmJ4Wk4MNSQYHbb', 'changeGraph', 'eyJpZCI6IDEwNywgInR5cGUiOiAidmVydGV4IiwgInByb3BzIjogeyJjb2xvciI6IDE2NzExNjgwfX0K');</script>\n",
       "    "
      ],
      "text/plain": [
       "<IPython.core.display.HTML object>"
      ]
     },
     "metadata": {},
     "output_type": "display_data"
    },
    {
     "data": {
      "text/html": [
       "\n",
       "        <div id=\"7dDWG2jiGywYXmibrxiu8m\"></div>\n",
       "        <script>netpixi.call('7dDWG2jiGywYXmibrxiu8m', 'Dds9NkHZmJ4Wk4MNSQYHbb', 'changeGraph', 'eyJpZCI6IDEwOCwgInR5cGUiOiAidmVydGV4IiwgInByb3BzIjogeyJjb2xvciI6IDY1MjgwfX0K');</script>\n",
       "    "
      ],
      "text/plain": [
       "<IPython.core.display.HTML object>"
      ]
     },
     "metadata": {},
     "output_type": "display_data"
    },
    {
     "data": {
      "text/html": [
       "\n",
       "        <div id=\"QDZyy62ppoRT6XU3wSK4R3\"></div>\n",
       "        <script>netpixi.call('QDZyy62ppoRT6XU3wSK4R3', 'Dds9NkHZmJ4Wk4MNSQYHbb', 'changeGraph', 'eyJpZCI6IDEwOSwgInR5cGUiOiAidmVydGV4IiwgInByb3BzIjogeyJjb2xvciI6IDE2NzExNjgwfX0K');</script>\n",
       "    "
      ],
      "text/plain": [
       "<IPython.core.display.HTML object>"
      ]
     },
     "metadata": {},
     "output_type": "display_data"
    },
    {
     "data": {
      "text/html": [
       "\n",
       "        <div id=\"gbtKkWUJRvNVpTk6R3STmj\"></div>\n",
       "        <script>netpixi.call('gbtKkWUJRvNVpTk6R3STmj', 'Dds9NkHZmJ4Wk4MNSQYHbb', 'changeGraph', 'eyJpZCI6IDExMCwgInR5cGUiOiAidmVydGV4IiwgInByb3BzIjogeyJjb2xvciI6IDY1MjgwfX0K');</script>\n",
       "    "
      ],
      "text/plain": [
       "<IPython.core.display.HTML object>"
      ]
     },
     "metadata": {},
     "output_type": "display_data"
    },
    {
     "data": {
      "text/html": [
       "\n",
       "        <div id=\"WZoV63srdimM7gcNijUmYd\"></div>\n",
       "        <script>netpixi.call('WZoV63srdimM7gcNijUmYd', 'Dds9NkHZmJ4Wk4MNSQYHbb', 'changeGraph', 'eyJpZCI6IDExMSwgInR5cGUiOiAidmVydGV4IiwgInByb3BzIjogeyJjb2xvciI6IDY1MjgwfX0K');</script>\n",
       "    "
      ],
      "text/plain": [
       "<IPython.core.display.HTML object>"
      ]
     },
     "metadata": {},
     "output_type": "display_data"
    },
    {
     "data": {
      "text/html": [
       "\n",
       "        <div id=\"3rfGD7A7cohLrT9pRyRdVg\"></div>\n",
       "        <script>netpixi.call('3rfGD7A7cohLrT9pRyRdVg', 'Dds9NkHZmJ4Wk4MNSQYHbb', 'changeGraph', 'eyJpZCI6IDExMiwgInR5cGUiOiAidmVydGV4IiwgInByb3BzIjogeyJjb2xvciI6IDE2NzExNjgwfX0K');</script>\n",
       "    "
      ],
      "text/plain": [
       "<IPython.core.display.HTML object>"
      ]
     },
     "metadata": {},
     "output_type": "display_data"
    },
    {
     "data": {
      "text/html": [
       "\n",
       "        <div id=\"e9n5tXdyeE3mMraqdHp5Mx\"></div>\n",
       "        <script>netpixi.call('e9n5tXdyeE3mMraqdHp5Mx', 'Dds9NkHZmJ4Wk4MNSQYHbb', 'changeGraph', 'eyJpZCI6IDExMywgInR5cGUiOiAidmVydGV4IiwgInByb3BzIjogeyJjb2xvciI6IDE2NzExNjgwfX0K');</script>\n",
       "    "
      ],
      "text/plain": [
       "<IPython.core.display.HTML object>"
      ]
     },
     "metadata": {},
     "output_type": "display_data"
    },
    {
     "data": {
      "text/html": [
       "\n",
       "        <div id=\"cyV3uRs73sqsPUddmko4EH\"></div>\n",
       "        <script>netpixi.call('cyV3uRs73sqsPUddmko4EH', 'Dds9NkHZmJ4Wk4MNSQYHbb', 'changeGraph', 'eyJpZCI6IDExNCwgInR5cGUiOiAidmVydGV4IiwgInByb3BzIjogeyJjb2xvciI6IDE2NzExNjgwfX0K');</script>\n",
       "    "
      ],
      "text/plain": [
       "<IPython.core.display.HTML object>"
      ]
     },
     "metadata": {},
     "output_type": "display_data"
    },
    {
     "data": {
      "text/html": [
       "\n",
       "        <div id=\"N62kG6dpMgMTh4LTkuDoHq\"></div>\n",
       "        <script>netpixi.call('N62kG6dpMgMTh4LTkuDoHq', 'Dds9NkHZmJ4Wk4MNSQYHbb', 'changeGraph', 'eyJpZCI6IDExNSwgInR5cGUiOiAidmVydGV4IiwgInByb3BzIjogeyJjb2xvciI6IDY1MjgwfX0K');</script>\n",
       "    "
      ],
      "text/plain": [
       "<IPython.core.display.HTML object>"
      ]
     },
     "metadata": {},
     "output_type": "display_data"
    },
    {
     "data": {
      "text/html": [
       "\n",
       "        <div id=\"gEgjqfzDeptxYZ49gjPJnZ\"></div>\n",
       "        <script>netpixi.call('gEgjqfzDeptxYZ49gjPJnZ', 'Dds9NkHZmJ4Wk4MNSQYHbb', 'changeGraph', 'eyJpZCI6IDExNiwgInR5cGUiOiAidmVydGV4IiwgInByb3BzIjogeyJjb2xvciI6IDE2NzExNjgwfX0K');</script>\n",
       "    "
      ],
      "text/plain": [
       "<IPython.core.display.HTML object>"
      ]
     },
     "metadata": {},
     "output_type": "display_data"
    },
    {
     "data": {
      "text/html": [
       "\n",
       "        <div id=\"EcUrJGcwH23yGZHzgeLyrZ\"></div>\n",
       "        <script>netpixi.call('EcUrJGcwH23yGZHzgeLyrZ', 'Dds9NkHZmJ4Wk4MNSQYHbb', 'changeGraph', 'eyJpZCI6IDExNywgInR5cGUiOiAidmVydGV4IiwgInByb3BzIjogeyJjb2xvciI6IDY1MjgwfX0K');</script>\n",
       "    "
      ],
      "text/plain": [
       "<IPython.core.display.HTML object>"
      ]
     },
     "metadata": {},
     "output_type": "display_data"
    },
    {
     "data": {
      "text/html": [
       "\n",
       "        <div id=\"i9HpjcBUjZTNjukurbsev8\"></div>\n",
       "        <script>netpixi.call('i9HpjcBUjZTNjukurbsev8', 'Dds9NkHZmJ4Wk4MNSQYHbb', 'changeGraph', 'eyJpZCI6IDExOCwgInR5cGUiOiAidmVydGV4IiwgInByb3BzIjogeyJjb2xvciI6IDE2NzExNjgwfX0K');</script>\n",
       "    "
      ],
      "text/plain": [
       "<IPython.core.display.HTML object>"
      ]
     },
     "metadata": {},
     "output_type": "display_data"
    },
    {
     "data": {
      "text/html": [
       "\n",
       "        <div id=\"Aq24Qt4uWGXkvEFrh8vpkj\"></div>\n",
       "        <script>netpixi.call('Aq24Qt4uWGXkvEFrh8vpkj', 'Dds9NkHZmJ4Wk4MNSQYHbb', 'changeGraph', 'eyJpZCI6IDExOSwgInR5cGUiOiAidmVydGV4IiwgInByb3BzIjogeyJjb2xvciI6IDY1MjgwfX0K');</script>\n",
       "    "
      ],
      "text/plain": [
       "<IPython.core.display.HTML object>"
      ]
     },
     "metadata": {},
     "output_type": "display_data"
    },
    {
     "data": {
      "text/html": [
       "\n",
       "        <div id=\"P3j2USQs755GFAEZieHsJp\"></div>\n",
       "        <script>netpixi.call('P3j2USQs755GFAEZieHsJp', 'Dds9NkHZmJ4Wk4MNSQYHbb', 'changeGraph', 'eyJpZCI6IDEyMCwgInR5cGUiOiAidmVydGV4IiwgInByb3BzIjogeyJjb2xvciI6IDY1MjgwfX0K');</script>\n",
       "    "
      ],
      "text/plain": [
       "<IPython.core.display.HTML object>"
      ]
     },
     "metadata": {},
     "output_type": "display_data"
    },
    {
     "data": {
      "text/html": [
       "\n",
       "        <div id=\"XWZTmE6xTdjDTSSxr7tQ6C\"></div>\n",
       "        <script>netpixi.call('XWZTmE6xTdjDTSSxr7tQ6C', 'Dds9NkHZmJ4Wk4MNSQYHbb', 'changeGraph', 'eyJpZCI6IDEyMSwgInR5cGUiOiAidmVydGV4IiwgInByb3BzIjogeyJjb2xvciI6IDE2NzExNjgwfX0K');</script>\n",
       "    "
      ],
      "text/plain": [
       "<IPython.core.display.HTML object>"
      ]
     },
     "metadata": {},
     "output_type": "display_data"
    },
    {
     "data": {
      "text/html": [
       "\n",
       "        <div id=\"E5nCD27SHGCFtmAgmxJyyD\"></div>\n",
       "        <script>netpixi.call('E5nCD27SHGCFtmAgmxJyyD', 'Dds9NkHZmJ4Wk4MNSQYHbb', 'changeGraph', 'eyJpZCI6IDEyMiwgInR5cGUiOiAidmVydGV4IiwgInByb3BzIjogeyJjb2xvciI6IDY1MjgwfX0K');</script>\n",
       "    "
      ],
      "text/plain": [
       "<IPython.core.display.HTML object>"
      ]
     },
     "metadata": {},
     "output_type": "display_data"
    },
    {
     "data": {
      "text/html": [
       "\n",
       "        <div id=\"VHxYeWcZqGyQd4of5HoCq8\"></div>\n",
       "        <script>netpixi.call('VHxYeWcZqGyQd4of5HoCq8', 'Dds9NkHZmJ4Wk4MNSQYHbb', 'changeGraph', 'eyJpZCI6IDEyMywgInR5cGUiOiAidmVydGV4IiwgInByb3BzIjogeyJjb2xvciI6IDY1MjgwfX0K');</script>\n",
       "    "
      ],
      "text/plain": [
       "<IPython.core.display.HTML object>"
      ]
     },
     "metadata": {},
     "output_type": "display_data"
    },
    {
     "data": {
      "text/html": [
       "\n",
       "        <div id=\"ihyLWsiSdNieqEGvszoC6u\"></div>\n",
       "        <script>netpixi.call('ihyLWsiSdNieqEGvszoC6u', 'Dds9NkHZmJ4Wk4MNSQYHbb', 'changeGraph', 'eyJpZCI6IDEyNCwgInR5cGUiOiAidmVydGV4IiwgInByb3BzIjogeyJjb2xvciI6IDE2NzExNjgwfX0K');</script>\n",
       "    "
      ],
      "text/plain": [
       "<IPython.core.display.HTML object>"
      ]
     },
     "metadata": {},
     "output_type": "display_data"
    },
    {
     "data": {
      "text/html": [
       "\n",
       "        <div id=\"nUYBrUbwHJWQpkZ3ssuC4F\"></div>\n",
       "        <script>netpixi.call('nUYBrUbwHJWQpkZ3ssuC4F', 'Dds9NkHZmJ4Wk4MNSQYHbb', 'changeGraph', 'eyJpZCI6IDEyNSwgInR5cGUiOiAidmVydGV4IiwgInByb3BzIjogeyJjb2xvciI6IDY1MjgwfX0K');</script>\n",
       "    "
      ],
      "text/plain": [
       "<IPython.core.display.HTML object>"
      ]
     },
     "metadata": {},
     "output_type": "display_data"
    },
    {
     "data": {
      "text/html": [
       "\n",
       "        <div id=\"DqBBmkWVhWkDwkijqGNG6C\"></div>\n",
       "        <script>netpixi.call('DqBBmkWVhWkDwkijqGNG6C', 'Dds9NkHZmJ4Wk4MNSQYHbb', 'changeGraph', 'eyJpZCI6IDEyNiwgInR5cGUiOiAidmVydGV4IiwgInByb3BzIjogeyJjb2xvciI6IDE2NzExNjgwfX0K');</script>\n",
       "    "
      ],
      "text/plain": [
       "<IPython.core.display.HTML object>"
      ]
     },
     "metadata": {},
     "output_type": "display_data"
    },
    {
     "data": {
      "text/html": [
       "\n",
       "        <div id=\"94SPEzyCVxH7m4MqFoLWam\"></div>\n",
       "        <script>netpixi.call('94SPEzyCVxH7m4MqFoLWam', 'Dds9NkHZmJ4Wk4MNSQYHbb', 'changeGraph', 'eyJpZCI6IDEyNywgInR5cGUiOiAidmVydGV4IiwgInByb3BzIjogeyJjb2xvciI6IDY1MjgwfX0K');</script>\n",
       "    "
      ],
      "text/plain": [
       "<IPython.core.display.HTML object>"
      ]
     },
     "metadata": {},
     "output_type": "display_data"
    },
    {
     "data": {
      "text/html": [
       "\n",
       "        <div id=\"EVYhxkxtQobWetZieuoFav\"></div>\n",
       "        <script>netpixi.call('EVYhxkxtQobWetZieuoFav', 'Dds9NkHZmJ4Wk4MNSQYHbb', 'changeGraph', 'eyJpZCI6IDEyOCwgInR5cGUiOiAidmVydGV4IiwgInByb3BzIjogeyJjb2xvciI6IDE2NzExNjgwfX0K');</script>\n",
       "    "
      ],
      "text/plain": [
       "<IPython.core.display.HTML object>"
      ]
     },
     "metadata": {},
     "output_type": "display_data"
    },
    {
     "data": {
      "text/html": [
       "\n",
       "        <div id=\"H97XP8emrTMH9vzSqYrAt9\"></div>\n",
       "        <script>netpixi.call('H97XP8emrTMH9vzSqYrAt9', 'Dds9NkHZmJ4Wk4MNSQYHbb', 'changeGraph', 'eyJpZCI6IDEyOSwgInR5cGUiOiAidmVydGV4IiwgInByb3BzIjogeyJjb2xvciI6IDE2NzExNjgwfX0K');</script>\n",
       "    "
      ],
      "text/plain": [
       "<IPython.core.display.HTML object>"
      ]
     },
     "metadata": {},
     "output_type": "display_data"
    },
    {
     "data": {
      "text/html": [
       "\n",
       "        <div id=\"675En3AG4r9ucaUBREHA3f\"></div>\n",
       "        <script>netpixi.call('675En3AG4r9ucaUBREHA3f', 'Dds9NkHZmJ4Wk4MNSQYHbb', 'changeGraph', 'eyJpZCI6IDEzMCwgInR5cGUiOiAidmVydGV4IiwgInByb3BzIjogeyJjb2xvciI6IDY1MjgwfX0K');</script>\n",
       "    "
      ],
      "text/plain": [
       "<IPython.core.display.HTML object>"
      ]
     },
     "metadata": {},
     "output_type": "display_data"
    },
    {
     "data": {
      "text/html": [
       "\n",
       "        <div id=\"Wipvx8waALsDRpcASHwguZ\"></div>\n",
       "        <script>netpixi.call('Wipvx8waALsDRpcASHwguZ', 'Dds9NkHZmJ4Wk4MNSQYHbb', 'changeGraph', 'eyJpZCI6IDEzMSwgInR5cGUiOiAidmVydGV4IiwgInByb3BzIjogeyJjb2xvciI6IDE2NzExNjgwfX0K');</script>\n",
       "    "
      ],
      "text/plain": [
       "<IPython.core.display.HTML object>"
      ]
     },
     "metadata": {},
     "output_type": "display_data"
    },
    {
     "data": {
      "text/html": [
       "\n",
       "        <div id=\"hpmiPongsLqnV2pkv44RJg\"></div>\n",
       "        <script>netpixi.call('hpmiPongsLqnV2pkv44RJg', 'Dds9NkHZmJ4Wk4MNSQYHbb', 'changeGraph', 'eyJpZCI6IDEzMiwgInR5cGUiOiAidmVydGV4IiwgInByb3BzIjogeyJjb2xvciI6IDE2NzExNjgwfX0K');</script>\n",
       "    "
      ],
      "text/plain": [
       "<IPython.core.display.HTML object>"
      ]
     },
     "metadata": {},
     "output_type": "display_data"
    },
    {
     "data": {
      "text/html": [
       "\n",
       "        <div id=\"Q74LLLq3Ju54PHtxQ9AVeJ\"></div>\n",
       "        <script>netpixi.call('Q74LLLq3Ju54PHtxQ9AVeJ', 'Dds9NkHZmJ4Wk4MNSQYHbb', 'changeGraph', 'eyJpZCI6IDEzMywgInR5cGUiOiAidmVydGV4IiwgInByb3BzIjogeyJjb2xvciI6IDY1MjgwfX0K');</script>\n",
       "    "
      ],
      "text/plain": [
       "<IPython.core.display.HTML object>"
      ]
     },
     "metadata": {},
     "output_type": "display_data"
    },
    {
     "data": {
      "text/html": [
       "\n",
       "        <div id=\"iPkWanzLYQWaJJ5bAEoJh8\"></div>\n",
       "        <script>netpixi.call('iPkWanzLYQWaJJ5bAEoJh8', 'Dds9NkHZmJ4Wk4MNSQYHbb', 'changeGraph', 'eyJpZCI6IDEzNCwgInR5cGUiOiAidmVydGV4IiwgInByb3BzIjogeyJjb2xvciI6IDE2NzExNjgwfX0K');</script>\n",
       "    "
      ],
      "text/plain": [
       "<IPython.core.display.HTML object>"
      ]
     },
     "metadata": {},
     "output_type": "display_data"
    },
    {
     "data": {
      "text/html": [
       "\n",
       "        <div id=\"gkZtB6KdYt6TRcxrUfkNcF\"></div>\n",
       "        <script>netpixi.call('gkZtB6KdYt6TRcxrUfkNcF', 'Dds9NkHZmJ4Wk4MNSQYHbb', 'changeGraph', 'eyJpZCI6IDEzNSwgInR5cGUiOiAidmVydGV4IiwgInByb3BzIjogeyJjb2xvciI6IDE2NzExNjgwfX0K');</script>\n",
       "    "
      ],
      "text/plain": [
       "<IPython.core.display.HTML object>"
      ]
     },
     "metadata": {},
     "output_type": "display_data"
    },
    {
     "data": {
      "text/html": [
       "\n",
       "        <div id=\"CVPpZGQT95m29oHXcYRTrP\"></div>\n",
       "        <script>netpixi.call('CVPpZGQT95m29oHXcYRTrP', 'Dds9NkHZmJ4Wk4MNSQYHbb', 'changeGraph', 'eyJpZCI6IDEzNiwgInR5cGUiOiAidmVydGV4IiwgInByb3BzIjogeyJjb2xvciI6IDY1MjgwfX0K');</script>\n",
       "    "
      ],
      "text/plain": [
       "<IPython.core.display.HTML object>"
      ]
     },
     "metadata": {},
     "output_type": "display_data"
    },
    {
     "data": {
      "text/html": [
       "\n",
       "        <div id=\"mxc6fhtU4ZhpE3uq4c6eby\"></div>\n",
       "        <script>netpixi.call('mxc6fhtU4ZhpE3uq4c6eby', 'Dds9NkHZmJ4Wk4MNSQYHbb', 'changeGraph', 'eyJpZCI6IDEzNywgInR5cGUiOiAidmVydGV4IiwgInByb3BzIjogeyJjb2xvciI6IDY1MjgwfX0K');</script>\n",
       "    "
      ],
      "text/plain": [
       "<IPython.core.display.HTML object>"
      ]
     },
     "metadata": {},
     "output_type": "display_data"
    },
    {
     "data": {
      "text/html": [
       "\n",
       "        <div id=\"7YwUn6QSDNvunCqo6ozej4\"></div>\n",
       "        <script>netpixi.call('7YwUn6QSDNvunCqo6ozej4', 'Dds9NkHZmJ4Wk4MNSQYHbb', 'changeGraph', 'eyJpZCI6IDEzOCwgInR5cGUiOiAidmVydGV4IiwgInByb3BzIjogeyJjb2xvciI6IDE2NzExNjgwfX0K');</script>\n",
       "    "
      ],
      "text/plain": [
       "<IPython.core.display.HTML object>"
      ]
     },
     "metadata": {},
     "output_type": "display_data"
    },
    {
     "data": {
      "text/html": [
       "\n",
       "        <div id=\"W4XC2Zu8bR7wmWjre4zxHT\"></div>\n",
       "        <script>netpixi.call('W4XC2Zu8bR7wmWjre4zxHT', 'Dds9NkHZmJ4Wk4MNSQYHbb', 'changeGraph', 'eyJpZCI6IDEzOSwgInR5cGUiOiAidmVydGV4IiwgInByb3BzIjogeyJjb2xvciI6IDE2NzExNjgwfX0K');</script>\n",
       "    "
      ],
      "text/plain": [
       "<IPython.core.display.HTML object>"
      ]
     },
     "metadata": {},
     "output_type": "display_data"
    },
    {
     "data": {
      "text/html": [
       "\n",
       "        <div id=\"FUXfgsuv8ZFsYPwfse64R5\"></div>\n",
       "        <script>netpixi.call('FUXfgsuv8ZFsYPwfse64R5', 'Dds9NkHZmJ4Wk4MNSQYHbb', 'changeGraph', 'eyJpZCI6IDE0MCwgInR5cGUiOiAidmVydGV4IiwgInByb3BzIjogeyJjb2xvciI6IDY1MjgwfX0K');</script>\n",
       "    "
      ],
      "text/plain": [
       "<IPython.core.display.HTML object>"
      ]
     },
     "metadata": {},
     "output_type": "display_data"
    },
    {
     "data": {
      "text/html": [
       "\n",
       "        <div id=\"SJXxqCEDQh4krebWqbRndd\"></div>\n",
       "        <script>netpixi.call('SJXxqCEDQh4krebWqbRndd', 'Dds9NkHZmJ4Wk4MNSQYHbb', 'changeGraph', 'eyJpZCI6IDE0MSwgInR5cGUiOiAidmVydGV4IiwgInByb3BzIjogeyJjb2xvciI6IDY1MjgwfX0K');</script>\n",
       "    "
      ],
      "text/plain": [
       "<IPython.core.display.HTML object>"
      ]
     },
     "metadata": {},
     "output_type": "display_data"
    },
    {
     "data": {
      "text/html": [
       "\n",
       "        <div id=\"aYeRq5pqbndc98XQxq5PHi\"></div>\n",
       "        <script>netpixi.call('aYeRq5pqbndc98XQxq5PHi', 'Dds9NkHZmJ4Wk4MNSQYHbb', 'changeGraph', 'eyJpZCI6IDE0MiwgInR5cGUiOiAidmVydGV4IiwgInByb3BzIjogeyJjb2xvciI6IDY1MjgwfX0K');</script>\n",
       "    "
      ],
      "text/plain": [
       "<IPython.core.display.HTML object>"
      ]
     },
     "metadata": {},
     "output_type": "display_data"
    },
    {
     "data": {
      "text/html": [
       "\n",
       "        <div id=\"8hB7t6EvDduaY63hAnh4we\"></div>\n",
       "        <script>netpixi.call('8hB7t6EvDduaY63hAnh4we', 'Dds9NkHZmJ4Wk4MNSQYHbb', 'changeGraph', 'eyJpZCI6IDE0MywgInR5cGUiOiAidmVydGV4IiwgInByb3BzIjogeyJjb2xvciI6IDE2NzExNjgwfX0K');</script>\n",
       "    "
      ],
      "text/plain": [
       "<IPython.core.display.HTML object>"
      ]
     },
     "metadata": {},
     "output_type": "display_data"
    },
    {
     "data": {
      "text/html": [
       "\n",
       "        <div id=\"WUZmQaXqrt57QvfXPqfqtH\"></div>\n",
       "        <script>netpixi.call('WUZmQaXqrt57QvfXPqfqtH', 'Dds9NkHZmJ4Wk4MNSQYHbb', 'changeGraph', 'eyJpZCI6IDE0NCwgInR5cGUiOiAidmVydGV4IiwgInByb3BzIjogeyJjb2xvciI6IDY1MjgwfX0K');</script>\n",
       "    "
      ],
      "text/plain": [
       "<IPython.core.display.HTML object>"
      ]
     },
     "metadata": {},
     "output_type": "display_data"
    },
    {
     "data": {
      "text/html": [
       "\n",
       "        <div id=\"hNRCVGViKbjjCh8aPKTwHo\"></div>\n",
       "        <script>netpixi.call('hNRCVGViKbjjCh8aPKTwHo', 'Dds9NkHZmJ4Wk4MNSQYHbb', 'changeGraph', 'eyJpZCI6IDE0NSwgInR5cGUiOiAidmVydGV4IiwgInByb3BzIjogeyJjb2xvciI6IDY1MjgwfX0K');</script>\n",
       "    "
      ],
      "text/plain": [
       "<IPython.core.display.HTML object>"
      ]
     },
     "metadata": {},
     "output_type": "display_data"
    },
    {
     "data": {
      "text/html": [
       "\n",
       "        <div id=\"ghD7t67DpVyEjb4LoDkiWE\"></div>\n",
       "        <script>netpixi.call('ghD7t67DpVyEjb4LoDkiWE', 'Dds9NkHZmJ4Wk4MNSQYHbb', 'changeGraph', 'eyJpZCI6IDE0NiwgInR5cGUiOiAidmVydGV4IiwgInByb3BzIjogeyJjb2xvciI6IDY1MjgwfX0K');</script>\n",
       "    "
      ],
      "text/plain": [
       "<IPython.core.display.HTML object>"
      ]
     },
     "metadata": {},
     "output_type": "display_data"
    },
    {
     "data": {
      "text/html": [
       "\n",
       "        <div id=\"gokMxBBFFH2NdYGzaCtiPv\"></div>\n",
       "        <script>netpixi.call('gokMxBBFFH2NdYGzaCtiPv', 'Dds9NkHZmJ4Wk4MNSQYHbb', 'changeGraph', 'eyJpZCI6IDE0NywgInR5cGUiOiAidmVydGV4IiwgInByb3BzIjogeyJjb2xvciI6IDY1MjgwfX0K');</script>\n",
       "    "
      ],
      "text/plain": [
       "<IPython.core.display.HTML object>"
      ]
     },
     "metadata": {},
     "output_type": "display_data"
    },
    {
     "data": {
      "text/html": [
       "\n",
       "        <div id=\"8GPWpfutPYPmA4F8eExjDX\"></div>\n",
       "        <script>netpixi.call('8GPWpfutPYPmA4F8eExjDX', 'Dds9NkHZmJ4Wk4MNSQYHbb', 'changeGraph', 'eyJpZCI6IDE0OCwgInR5cGUiOiAidmVydGV4IiwgInByb3BzIjogeyJjb2xvciI6IDY1MjgwfX0K');</script>\n",
       "    "
      ],
      "text/plain": [
       "<IPython.core.display.HTML object>"
      ]
     },
     "metadata": {},
     "output_type": "display_data"
    },
    {
     "data": {
      "text/html": [
       "\n",
       "        <div id=\"3rmoejM8Qh48uPLdJTSNiW\"></div>\n",
       "        <script>netpixi.call('3rmoejM8Qh48uPLdJTSNiW', 'Dds9NkHZmJ4Wk4MNSQYHbb', 'changeGraph', 'eyJpZCI6IDE0OSwgInR5cGUiOiAidmVydGV4IiwgInByb3BzIjogeyJjb2xvciI6IDE2NzExNjgwfX0K');</script>\n",
       "    "
      ],
      "text/plain": [
       "<IPython.core.display.HTML object>"
      ]
     },
     "metadata": {},
     "output_type": "display_data"
    },
    {
     "data": {
      "text/html": [
       "\n",
       "        <div id=\"C36r3zacJiRdEbAGq3RdkD\"></div>\n",
       "        <script>netpixi.call('C36r3zacJiRdEbAGq3RdkD', 'Dds9NkHZmJ4Wk4MNSQYHbb', 'changeGraph', 'eyJpZCI6IDE1MCwgInR5cGUiOiAidmVydGV4IiwgInByb3BzIjogeyJjb2xvciI6IDE2NzExNjgwfX0K');</script>\n",
       "    "
      ],
      "text/plain": [
       "<IPython.core.display.HTML object>"
      ]
     },
     "metadata": {},
     "output_type": "display_data"
    },
    {
     "data": {
      "text/html": [
       "\n",
       "        <div id=\"gQ4P9vqhiP2Q6DzEiM8H38\"></div>\n",
       "        <script>netpixi.call('gQ4P9vqhiP2Q6DzEiM8H38', 'Dds9NkHZmJ4Wk4MNSQYHbb', 'changeGraph', 'eyJpZCI6IDE1MSwgInR5cGUiOiAidmVydGV4IiwgInByb3BzIjogeyJjb2xvciI6IDE2NzExNjgwfX0K');</script>\n",
       "    "
      ],
      "text/plain": [
       "<IPython.core.display.HTML object>"
      ]
     },
     "metadata": {},
     "output_type": "display_data"
    },
    {
     "data": {
      "text/html": [
       "\n",
       "        <div id=\"YepHRqTWGXGwCHkEJuroDb\"></div>\n",
       "        <script>netpixi.call('YepHRqTWGXGwCHkEJuroDb', 'Dds9NkHZmJ4Wk4MNSQYHbb', 'changeGraph', 'eyJpZCI6IDE1MiwgInR5cGUiOiAidmVydGV4IiwgInByb3BzIjogeyJjb2xvciI6IDY1MjgwfX0K');</script>\n",
       "    "
      ],
      "text/plain": [
       "<IPython.core.display.HTML object>"
      ]
     },
     "metadata": {},
     "output_type": "display_data"
    },
    {
     "data": {
      "text/html": [
       "\n",
       "        <div id=\"ddDT3GmJYmYEAMdspYoHUT\"></div>\n",
       "        <script>netpixi.call('ddDT3GmJYmYEAMdspYoHUT', 'Dds9NkHZmJ4Wk4MNSQYHbb', 'changeGraph', 'eyJpZCI6IDE1MywgInR5cGUiOiAidmVydGV4IiwgInByb3BzIjogeyJjb2xvciI6IDY1MjgwfX0K');</script>\n",
       "    "
      ],
      "text/plain": [
       "<IPython.core.display.HTML object>"
      ]
     },
     "metadata": {},
     "output_type": "display_data"
    },
    {
     "data": {
      "text/html": [
       "\n",
       "        <div id=\"HzXYmxYC5wKW28Y7qhqWL6\"></div>\n",
       "        <script>netpixi.call('HzXYmxYC5wKW28Y7qhqWL6', 'Dds9NkHZmJ4Wk4MNSQYHbb', 'changeGraph', 'eyJpZCI6IDE1NCwgInR5cGUiOiAidmVydGV4IiwgInByb3BzIjogeyJjb2xvciI6IDE2NzExNjgwfX0K');</script>\n",
       "    "
      ],
      "text/plain": [
       "<IPython.core.display.HTML object>"
      ]
     },
     "metadata": {},
     "output_type": "display_data"
    },
    {
     "data": {
      "text/html": [
       "\n",
       "        <div id=\"hVBJUrS9KWZxSNQjHrAmaY\"></div>\n",
       "        <script>netpixi.call('hVBJUrS9KWZxSNQjHrAmaY', 'Dds9NkHZmJ4Wk4MNSQYHbb', 'changeGraph', 'eyJpZCI6IDE1NSwgInR5cGUiOiAidmVydGV4IiwgInByb3BzIjogeyJjb2xvciI6IDE2NzExNjgwfX0K');</script>\n",
       "    "
      ],
      "text/plain": [
       "<IPython.core.display.HTML object>"
      ]
     },
     "metadata": {},
     "output_type": "display_data"
    },
    {
     "data": {
      "text/html": [
       "\n",
       "        <div id=\"CfCMpWbtUbYnCv8xxZ8fZW\"></div>\n",
       "        <script>netpixi.call('CfCMpWbtUbYnCv8xxZ8fZW', 'Dds9NkHZmJ4Wk4MNSQYHbb', 'changeGraph', 'eyJpZCI6IDE1NiwgInR5cGUiOiAidmVydGV4IiwgInByb3BzIjogeyJjb2xvciI6IDE2NzExNjgwfX0K');</script>\n",
       "    "
      ],
      "text/plain": [
       "<IPython.core.display.HTML object>"
      ]
     },
     "metadata": {},
     "output_type": "display_data"
    },
    {
     "data": {
      "text/html": [
       "\n",
       "        <div id=\"W2dWqXFnbGwQUrAXFPpbvW\"></div>\n",
       "        <script>netpixi.call('W2dWqXFnbGwQUrAXFPpbvW', 'Dds9NkHZmJ4Wk4MNSQYHbb', 'changeGraph', 'eyJpZCI6IDE1NywgInR5cGUiOiAidmVydGV4IiwgInByb3BzIjogeyJjb2xvciI6IDY1MjgwfX0K');</script>\n",
       "    "
      ],
      "text/plain": [
       "<IPython.core.display.HTML object>"
      ]
     },
     "metadata": {},
     "output_type": "display_data"
    },
    {
     "data": {
      "text/html": [
       "\n",
       "        <div id=\"4osZ6PLAbFRYuARXCsBYP5\"></div>\n",
       "        <script>netpixi.call('4osZ6PLAbFRYuARXCsBYP5', 'Dds9NkHZmJ4Wk4MNSQYHbb', 'changeGraph', 'eyJpZCI6IDE1OCwgInR5cGUiOiAidmVydGV4IiwgInByb3BzIjogeyJjb2xvciI6IDY1MjgwfX0K');</script>\n",
       "    "
      ],
      "text/plain": [
       "<IPython.core.display.HTML object>"
      ]
     },
     "metadata": {},
     "output_type": "display_data"
    },
    {
     "data": {
      "text/html": [
       "\n",
       "        <div id=\"fZ623QxCDWsS46U9MRnLKy\"></div>\n",
       "        <script>netpixi.call('fZ623QxCDWsS46U9MRnLKy', 'Dds9NkHZmJ4Wk4MNSQYHbb', 'changeGraph', 'eyJpZCI6IDE1OSwgInR5cGUiOiAidmVydGV4IiwgInByb3BzIjogeyJjb2xvciI6IDY1MjgwfX0K');</script>\n",
       "    "
      ],
      "text/plain": [
       "<IPython.core.display.HTML object>"
      ]
     },
     "metadata": {},
     "output_type": "display_data"
    },
    {
     "data": {
      "text/html": [
       "\n",
       "        <div id=\"WtzKiCGs7ST9qc8TTYLQmA\"></div>\n",
       "        <script>netpixi.call('WtzKiCGs7ST9qc8TTYLQmA', 'Dds9NkHZmJ4Wk4MNSQYHbb', 'changeGraph', 'eyJpZCI6IDE2MCwgInR5cGUiOiAidmVydGV4IiwgInByb3BzIjogeyJjb2xvciI6IDE2NzExNjgwfX0K');</script>\n",
       "    "
      ],
      "text/plain": [
       "<IPython.core.display.HTML object>"
      ]
     },
     "metadata": {},
     "output_type": "display_data"
    },
    {
     "data": {
      "text/html": [
       "\n",
       "        <div id=\"2rEHwv5wcyYpayFJ5eTXUM\"></div>\n",
       "        <script>netpixi.call('2rEHwv5wcyYpayFJ5eTXUM', 'Dds9NkHZmJ4Wk4MNSQYHbb', 'changeGraph', 'eyJpZCI6IDE2MSwgInR5cGUiOiAidmVydGV4IiwgInByb3BzIjogeyJjb2xvciI6IDY1MjgwfX0K');</script>\n",
       "    "
      ],
      "text/plain": [
       "<IPython.core.display.HTML object>"
      ]
     },
     "metadata": {},
     "output_type": "display_data"
    },
    {
     "data": {
      "text/html": [
       "\n",
       "        <div id=\"9orpkcmddwkSRV8YB8M5QC\"></div>\n",
       "        <script>netpixi.call('9orpkcmddwkSRV8YB8M5QC', 'Dds9NkHZmJ4Wk4MNSQYHbb', 'changeGraph', 'eyJpZCI6IDE2MiwgInR5cGUiOiAidmVydGV4IiwgInByb3BzIjogeyJjb2xvciI6IDE2NzExNjgwfX0K');</script>\n",
       "    "
      ],
      "text/plain": [
       "<IPython.core.display.HTML object>"
      ]
     },
     "metadata": {},
     "output_type": "display_data"
    },
    {
     "data": {
      "text/html": [
       "\n",
       "        <div id=\"Byqp6uwshm462oEKdGYtkt\"></div>\n",
       "        <script>netpixi.call('Byqp6uwshm462oEKdGYtkt', 'Dds9NkHZmJ4Wk4MNSQYHbb', 'changeGraph', 'eyJpZCI6IDE2MywgInR5cGUiOiAidmVydGV4IiwgInByb3BzIjogeyJjb2xvciI6IDE2NzExNjgwfX0K');</script>\n",
       "    "
      ],
      "text/plain": [
       "<IPython.core.display.HTML object>"
      ]
     },
     "metadata": {},
     "output_type": "display_data"
    },
    {
     "data": {
      "text/html": [
       "\n",
       "        <div id=\"EpgBRTSgeNaiC6tbzzcZcT\"></div>\n",
       "        <script>netpixi.call('EpgBRTSgeNaiC6tbzzcZcT', 'Dds9NkHZmJ4Wk4MNSQYHbb', 'changeGraph', 'eyJpZCI6IDE2NCwgInR5cGUiOiAidmVydGV4IiwgInByb3BzIjogeyJjb2xvciI6IDY1MjgwfX0K');</script>\n",
       "    "
      ],
      "text/plain": [
       "<IPython.core.display.HTML object>"
      ]
     },
     "metadata": {},
     "output_type": "display_data"
    },
    {
     "data": {
      "text/html": [
       "\n",
       "        <div id=\"DaPe3eJ5Txwv3gaiupyRVZ\"></div>\n",
       "        <script>netpixi.call('DaPe3eJ5Txwv3gaiupyRVZ', 'Dds9NkHZmJ4Wk4MNSQYHbb', 'changeGraph', 'eyJpZCI6IDE2NSwgInR5cGUiOiAidmVydGV4IiwgInByb3BzIjogeyJjb2xvciI6IDY1MjgwfX0K');</script>\n",
       "    "
      ],
      "text/plain": [
       "<IPython.core.display.HTML object>"
      ]
     },
     "metadata": {},
     "output_type": "display_data"
    },
    {
     "data": {
      "text/html": [
       "\n",
       "        <div id=\"EwzCMYFvZSakHjUKPYfJaW\"></div>\n",
       "        <script>netpixi.call('EwzCMYFvZSakHjUKPYfJaW', 'Dds9NkHZmJ4Wk4MNSQYHbb', 'changeGraph', 'eyJpZCI6IDE2NiwgInR5cGUiOiAidmVydGV4IiwgInByb3BzIjogeyJjb2xvciI6IDE2NzExNjgwfX0K');</script>\n",
       "    "
      ],
      "text/plain": [
       "<IPython.core.display.HTML object>"
      ]
     },
     "metadata": {},
     "output_type": "display_data"
    },
    {
     "data": {
      "text/html": [
       "\n",
       "        <div id=\"WsxwM52d2Di6EvyEjvCMQ3\"></div>\n",
       "        <script>netpixi.call('WsxwM52d2Di6EvyEjvCMQ3', 'Dds9NkHZmJ4Wk4MNSQYHbb', 'changeGraph', 'eyJpZCI6IDE2NywgInR5cGUiOiAidmVydGV4IiwgInByb3BzIjogeyJjb2xvciI6IDE2NzExNjgwfX0K');</script>\n",
       "    "
      ],
      "text/plain": [
       "<IPython.core.display.HTML object>"
      ]
     },
     "metadata": {},
     "output_type": "display_data"
    },
    {
     "data": {
      "text/html": [
       "\n",
       "        <div id=\"VHkWFvra6b6cSYetHThnZS\"></div>\n",
       "        <script>netpixi.call('VHkWFvra6b6cSYetHThnZS', 'Dds9NkHZmJ4Wk4MNSQYHbb', 'changeGraph', 'eyJpZCI6IDE2OCwgInR5cGUiOiAidmVydGV4IiwgInByb3BzIjogeyJjb2xvciI6IDY1MjgwfX0K');</script>\n",
       "    "
      ],
      "text/plain": [
       "<IPython.core.display.HTML object>"
      ]
     },
     "metadata": {},
     "output_type": "display_data"
    },
    {
     "data": {
      "text/html": [
       "\n",
       "        <div id=\"SdR8MbvcpjBw3f9RVzv3Vp\"></div>\n",
       "        <script>netpixi.call('SdR8MbvcpjBw3f9RVzv3Vp', 'Dds9NkHZmJ4Wk4MNSQYHbb', 'changeGraph', 'eyJpZCI6IDE2OSwgInR5cGUiOiAidmVydGV4IiwgInByb3BzIjogeyJjb2xvciI6IDE2NzExNjgwfX0K');</script>\n",
       "    "
      ],
      "text/plain": [
       "<IPython.core.display.HTML object>"
      ]
     },
     "metadata": {},
     "output_type": "display_data"
    },
    {
     "data": {
      "text/html": [
       "\n",
       "        <div id=\"fYfctpTfP4FAusqsdu223o\"></div>\n",
       "        <script>netpixi.call('fYfctpTfP4FAusqsdu223o', 'Dds9NkHZmJ4Wk4MNSQYHbb', 'changeGraph', 'eyJpZCI6IDE3MCwgInR5cGUiOiAidmVydGV4IiwgInByb3BzIjogeyJjb2xvciI6IDE2NzExNjgwfX0K');</script>\n",
       "    "
      ],
      "text/plain": [
       "<IPython.core.display.HTML object>"
      ]
     },
     "metadata": {},
     "output_type": "display_data"
    },
    {
     "data": {
      "text/html": [
       "\n",
       "        <div id=\"9DHzHGdNGbPGPF24V5nff9\"></div>\n",
       "        <script>netpixi.call('9DHzHGdNGbPGPF24V5nff9', 'Dds9NkHZmJ4Wk4MNSQYHbb', 'changeGraph', 'eyJpZCI6IDE3MSwgInR5cGUiOiAidmVydGV4IiwgInByb3BzIjogeyJjb2xvciI6IDY1MjgwfX0K');</script>\n",
       "    "
      ],
      "text/plain": [
       "<IPython.core.display.HTML object>"
      ]
     },
     "metadata": {},
     "output_type": "display_data"
    },
    {
     "data": {
      "text/html": [
       "\n",
       "        <div id=\"DRjBW6FeXQPc4m7ez8UJh5\"></div>\n",
       "        <script>netpixi.call('DRjBW6FeXQPc4m7ez8UJh5', 'Dds9NkHZmJ4Wk4MNSQYHbb', 'changeGraph', 'eyJpZCI6IDE3MiwgInR5cGUiOiAidmVydGV4IiwgInByb3BzIjogeyJjb2xvciI6IDY1MjgwfX0K');</script>\n",
       "    "
      ],
      "text/plain": [
       "<IPython.core.display.HTML object>"
      ]
     },
     "metadata": {},
     "output_type": "display_data"
    },
    {
     "data": {
      "text/html": [
       "\n",
       "        <div id=\"FNPt6mN38wfGnMMwrcTT3c\"></div>\n",
       "        <script>netpixi.call('FNPt6mN38wfGnMMwrcTT3c', 'Dds9NkHZmJ4Wk4MNSQYHbb', 'changeGraph', 'eyJpZCI6IDE3MywgInR5cGUiOiAidmVydGV4IiwgInByb3BzIjogeyJjb2xvciI6IDE2NzExNjgwfX0K');</script>\n",
       "    "
      ],
      "text/plain": [
       "<IPython.core.display.HTML object>"
      ]
     },
     "metadata": {},
     "output_type": "display_data"
    },
    {
     "data": {
      "text/html": [
       "\n",
       "        <div id=\"PpafxMJYXcjnQaP2LmUBWV\"></div>\n",
       "        <script>netpixi.call('PpafxMJYXcjnQaP2LmUBWV', 'Dds9NkHZmJ4Wk4MNSQYHbb', 'changeGraph', 'eyJpZCI6IDE3NCwgInR5cGUiOiAidmVydGV4IiwgInByb3BzIjogeyJjb2xvciI6IDE2NzExNjgwfX0K');</script>\n",
       "    "
      ],
      "text/plain": [
       "<IPython.core.display.HTML object>"
      ]
     },
     "metadata": {},
     "output_type": "display_data"
    },
    {
     "data": {
      "text/html": [
       "\n",
       "        <div id=\"4nYbfnrYLcmzao9tuynXKg\"></div>\n",
       "        <script>netpixi.call('4nYbfnrYLcmzao9tuynXKg', 'Dds9NkHZmJ4Wk4MNSQYHbb', 'changeGraph', 'eyJpZCI6IDE3NSwgInR5cGUiOiAidmVydGV4IiwgInByb3BzIjogeyJjb2xvciI6IDE2NzExNjgwfX0K');</script>\n",
       "    "
      ],
      "text/plain": [
       "<IPython.core.display.HTML object>"
      ]
     },
     "metadata": {},
     "output_type": "display_data"
    },
    {
     "data": {
      "text/html": [
       "\n",
       "        <div id=\"V6NApedk2a6Hw5n79SZNYn\"></div>\n",
       "        <script>netpixi.call('V6NApedk2a6Hw5n79SZNYn', 'Dds9NkHZmJ4Wk4MNSQYHbb', 'changeGraph', 'eyJpZCI6IDE3NiwgInR5cGUiOiAidmVydGV4IiwgInByb3BzIjogeyJjb2xvciI6IDE2NzExNjgwfX0K');</script>\n",
       "    "
      ],
      "text/plain": [
       "<IPython.core.display.HTML object>"
      ]
     },
     "metadata": {},
     "output_type": "display_data"
    },
    {
     "data": {
      "text/html": [
       "\n",
       "        <div id=\"TNY2Y8epgczwyZVzVd3EcJ\"></div>\n",
       "        <script>netpixi.call('TNY2Y8epgczwyZVzVd3EcJ', 'Dds9NkHZmJ4Wk4MNSQYHbb', 'changeGraph', 'eyJpZCI6IDE3NywgInR5cGUiOiAidmVydGV4IiwgInByb3BzIjogeyJjb2xvciI6IDY1MjgwfX0K');</script>\n",
       "    "
      ],
      "text/plain": [
       "<IPython.core.display.HTML object>"
      ]
     },
     "metadata": {},
     "output_type": "display_data"
    },
    {
     "data": {
      "text/html": [
       "\n",
       "        <div id=\"n9qqUbmtkr3pPiUo6ipBJf\"></div>\n",
       "        <script>netpixi.call('n9qqUbmtkr3pPiUo6ipBJf', 'Dds9NkHZmJ4Wk4MNSQYHbb', 'changeGraph', 'eyJpZCI6IDE3OCwgInR5cGUiOiAidmVydGV4IiwgInByb3BzIjogeyJjb2xvciI6IDE2NzExNjgwfX0K');</script>\n",
       "    "
      ],
      "text/plain": [
       "<IPython.core.display.HTML object>"
      ]
     },
     "metadata": {},
     "output_type": "display_data"
    },
    {
     "data": {
      "text/html": [
       "\n",
       "        <div id=\"Y33pcv6KfQqx43cdo44k9o\"></div>\n",
       "        <script>netpixi.call('Y33pcv6KfQqx43cdo44k9o', 'Dds9NkHZmJ4Wk4MNSQYHbb', 'changeGraph', 'eyJpZCI6IDE3OSwgInR5cGUiOiAidmVydGV4IiwgInByb3BzIjogeyJjb2xvciI6IDY1MjgwfX0K');</script>\n",
       "    "
      ],
      "text/plain": [
       "<IPython.core.display.HTML object>"
      ]
     },
     "metadata": {},
     "output_type": "display_data"
    },
    {
     "data": {
      "text/html": [
       "\n",
       "        <div id=\"S9U5ysLPa7v3syrVFYLvb9\"></div>\n",
       "        <script>netpixi.call('S9U5ysLPa7v3syrVFYLvb9', 'Dds9NkHZmJ4Wk4MNSQYHbb', 'changeGraph', 'eyJpZCI6IDE4MCwgInR5cGUiOiAidmVydGV4IiwgInByb3BzIjogeyJjb2xvciI6IDE2NzExNjgwfX0K');</script>\n",
       "    "
      ],
      "text/plain": [
       "<IPython.core.display.HTML object>"
      ]
     },
     "metadata": {},
     "output_type": "display_data"
    },
    {
     "data": {
      "text/html": [
       "\n",
       "        <div id=\"fSZxgN6V6tsBoeRRKmc8NF\"></div>\n",
       "        <script>netpixi.call('fSZxgN6V6tsBoeRRKmc8NF', 'Dds9NkHZmJ4Wk4MNSQYHbb', 'changeGraph', 'eyJpZCI6IDE4MSwgInR5cGUiOiAidmVydGV4IiwgInByb3BzIjogeyJjb2xvciI6IDY1MjgwfX0K');</script>\n",
       "    "
      ],
      "text/plain": [
       "<IPython.core.display.HTML object>"
      ]
     },
     "metadata": {},
     "output_type": "display_data"
    },
    {
     "data": {
      "text/html": [
       "\n",
       "        <div id=\"3c4bnx527oTsENAxtKjtsh\"></div>\n",
       "        <script>netpixi.call('3c4bnx527oTsENAxtKjtsh', 'Dds9NkHZmJ4Wk4MNSQYHbb', 'changeGraph', 'eyJpZCI6IDE4MiwgInR5cGUiOiAidmVydGV4IiwgInByb3BzIjogeyJjb2xvciI6IDY1MjgwfX0K');</script>\n",
       "    "
      ],
      "text/plain": [
       "<IPython.core.display.HTML object>"
      ]
     },
     "metadata": {},
     "output_type": "display_data"
    },
    {
     "data": {
      "text/html": [
       "\n",
       "        <div id=\"Krx5doT9BCHacMmtKge5Um\"></div>\n",
       "        <script>netpixi.call('Krx5doT9BCHacMmtKge5Um', 'Dds9NkHZmJ4Wk4MNSQYHbb', 'changeGraph', 'eyJpZCI6IDE4MywgInR5cGUiOiAidmVydGV4IiwgInByb3BzIjogeyJjb2xvciI6IDE2NzExNjgwfX0K');</script>\n",
       "    "
      ],
      "text/plain": [
       "<IPython.core.display.HTML object>"
      ]
     },
     "metadata": {},
     "output_type": "display_data"
    },
    {
     "data": {
      "text/html": [
       "\n",
       "        <div id=\"fc3AVQiYHrEsyE5GEGCn3B\"></div>\n",
       "        <script>netpixi.call('fc3AVQiYHrEsyE5GEGCn3B', 'Dds9NkHZmJ4Wk4MNSQYHbb', 'changeGraph', 'eyJpZCI6IDE4NCwgInR5cGUiOiAidmVydGV4IiwgInByb3BzIjogeyJjb2xvciI6IDE2NzExNjgwfX0K');</script>\n",
       "    "
      ],
      "text/plain": [
       "<IPython.core.display.HTML object>"
      ]
     },
     "metadata": {},
     "output_type": "display_data"
    },
    {
     "data": {
      "text/html": [
       "\n",
       "        <div id=\"Asb4xXUm5QxgeWh4qtuZWR\"></div>\n",
       "        <script>netpixi.call('Asb4xXUm5QxgeWh4qtuZWR', 'Dds9NkHZmJ4Wk4MNSQYHbb', 'changeGraph', 'eyJpZCI6IDE4NSwgInR5cGUiOiAidmVydGV4IiwgInByb3BzIjogeyJjb2xvciI6IDE2NzExNjgwfX0K');</script>\n",
       "    "
      ],
      "text/plain": [
       "<IPython.core.display.HTML object>"
      ]
     },
     "metadata": {},
     "output_type": "display_data"
    },
    {
     "data": {
      "text/html": [
       "\n",
       "        <div id=\"VCE2FoCQez82sJyMatsWvc\"></div>\n",
       "        <script>netpixi.call('VCE2FoCQez82sJyMatsWvc', 'Dds9NkHZmJ4Wk4MNSQYHbb', 'changeGraph', 'eyJpZCI6IDE4NiwgInR5cGUiOiAidmVydGV4IiwgInByb3BzIjogeyJjb2xvciI6IDE2NzExNjgwfX0K');</script>\n",
       "    "
      ],
      "text/plain": [
       "<IPython.core.display.HTML object>"
      ]
     },
     "metadata": {},
     "output_type": "display_data"
    },
    {
     "data": {
      "text/html": [
       "\n",
       "        <div id=\"Xg8UiACtKMBn89kLXsAoXN\"></div>\n",
       "        <script>netpixi.call('Xg8UiACtKMBn89kLXsAoXN', 'Dds9NkHZmJ4Wk4MNSQYHbb', 'changeGraph', 'eyJpZCI6IDE4NywgInR5cGUiOiAidmVydGV4IiwgInByb3BzIjogeyJjb2xvciI6IDE2NzExNjgwfX0K');</script>\n",
       "    "
      ],
      "text/plain": [
       "<IPython.core.display.HTML object>"
      ]
     },
     "metadata": {},
     "output_type": "display_data"
    },
    {
     "data": {
      "text/html": [
       "\n",
       "        <div id=\"kvr9kysa8JboRV2RbZPkhD\"></div>\n",
       "        <script>netpixi.call('kvr9kysa8JboRV2RbZPkhD', 'Dds9NkHZmJ4Wk4MNSQYHbb', 'changeGraph', 'eyJpZCI6IDE4OCwgInR5cGUiOiAidmVydGV4IiwgInByb3BzIjogeyJjb2xvciI6IDY1MjgwfX0K');</script>\n",
       "    "
      ],
      "text/plain": [
       "<IPython.core.display.HTML object>"
      ]
     },
     "metadata": {},
     "output_type": "display_data"
    },
    {
     "data": {
      "text/html": [
       "\n",
       "        <div id=\"my8Htd2UcDASwXpXN99p4A\"></div>\n",
       "        <script>netpixi.call('my8Htd2UcDASwXpXN99p4A', 'Dds9NkHZmJ4Wk4MNSQYHbb', 'changeGraph', 'eyJpZCI6IDE4OSwgInR5cGUiOiAidmVydGV4IiwgInByb3BzIjogeyJjb2xvciI6IDY1MjgwfX0K');</script>\n",
       "    "
      ],
      "text/plain": [
       "<IPython.core.display.HTML object>"
      ]
     },
     "metadata": {},
     "output_type": "display_data"
    },
    {
     "data": {
      "text/html": [
       "\n",
       "        <div id=\"FBsCUiRiEinxTprCKj7oHC\"></div>\n",
       "        <script>netpixi.call('FBsCUiRiEinxTprCKj7oHC', 'Dds9NkHZmJ4Wk4MNSQYHbb', 'changeGraph', 'eyJpZCI6IDE5MCwgInR5cGUiOiAidmVydGV4IiwgInByb3BzIjogeyJjb2xvciI6IDY1MjgwfX0K');</script>\n",
       "    "
      ],
      "text/plain": [
       "<IPython.core.display.HTML object>"
      ]
     },
     "metadata": {},
     "output_type": "display_data"
    },
    {
     "data": {
      "text/html": [
       "\n",
       "        <div id=\"RiYt4qRW2XUPRkLRh2Hnn7\"></div>\n",
       "        <script>netpixi.call('RiYt4qRW2XUPRkLRh2Hnn7', 'Dds9NkHZmJ4Wk4MNSQYHbb', 'changeGraph', 'eyJpZCI6IDE5MSwgInR5cGUiOiAidmVydGV4IiwgInByb3BzIjogeyJjb2xvciI6IDY1MjgwfX0K');</script>\n",
       "    "
      ],
      "text/plain": [
       "<IPython.core.display.HTML object>"
      ]
     },
     "metadata": {},
     "output_type": "display_data"
    },
    {
     "data": {
      "text/html": [
       "\n",
       "        <div id=\"KULhHMrZorHFZ3MqYNqcKf\"></div>\n",
       "        <script>netpixi.call('KULhHMrZorHFZ3MqYNqcKf', 'Dds9NkHZmJ4Wk4MNSQYHbb', 'changeGraph', 'eyJpZCI6IDE5MiwgInR5cGUiOiAidmVydGV4IiwgInByb3BzIjogeyJjb2xvciI6IDE2NzExNjgwfX0K');</script>\n",
       "    "
      ],
      "text/plain": [
       "<IPython.core.display.HTML object>"
      ]
     },
     "metadata": {},
     "output_type": "display_data"
    },
    {
     "data": {
      "text/html": [
       "\n",
       "        <div id=\"3MKYrZhgDFZtGXCBkD3ZJC\"></div>\n",
       "        <script>netpixi.call('3MKYrZhgDFZtGXCBkD3ZJC', 'Dds9NkHZmJ4Wk4MNSQYHbb', 'changeGraph', 'eyJpZCI6IDE5MywgInR5cGUiOiAidmVydGV4IiwgInByb3BzIjogeyJjb2xvciI6IDY1MjgwfX0K');</script>\n",
       "    "
      ],
      "text/plain": [
       "<IPython.core.display.HTML object>"
      ]
     },
     "metadata": {},
     "output_type": "display_data"
    },
    {
     "data": {
      "text/html": [
       "\n",
       "        <div id=\"VFv3FLYuXG56sLUD8bQZtq\"></div>\n",
       "        <script>netpixi.call('VFv3FLYuXG56sLUD8bQZtq', 'Dds9NkHZmJ4Wk4MNSQYHbb', 'changeGraph', 'eyJpZCI6IDE5NCwgInR5cGUiOiAidmVydGV4IiwgInByb3BzIjogeyJjb2xvciI6IDY1MjgwfX0K');</script>\n",
       "    "
      ],
      "text/plain": [
       "<IPython.core.display.HTML object>"
      ]
     },
     "metadata": {},
     "output_type": "display_data"
    },
    {
     "data": {
      "text/html": [
       "\n",
       "        <div id=\"LZVDzsjkK8VCHp9bFfekuF\"></div>\n",
       "        <script>netpixi.call('LZVDzsjkK8VCHp9bFfekuF', 'Dds9NkHZmJ4Wk4MNSQYHbb', 'changeGraph', 'eyJpZCI6IDE5NSwgInR5cGUiOiAidmVydGV4IiwgInByb3BzIjogeyJjb2xvciI6IDE2NzExNjgwfX0K');</script>\n",
       "    "
      ],
      "text/plain": [
       "<IPython.core.display.HTML object>"
      ]
     },
     "metadata": {},
     "output_type": "display_data"
    },
    {
     "data": {
      "text/html": [
       "\n",
       "        <div id=\"SUVBsJRNS3NJHSrgJDAZr4\"></div>\n",
       "        <script>netpixi.call('SUVBsJRNS3NJHSrgJDAZr4', 'Dds9NkHZmJ4Wk4MNSQYHbb', 'changeGraph', 'eyJpZCI6IDE5NiwgInR5cGUiOiAidmVydGV4IiwgInByb3BzIjogeyJjb2xvciI6IDE2NzExNjgwfX0K');</script>\n",
       "    "
      ],
      "text/plain": [
       "<IPython.core.display.HTML object>"
      ]
     },
     "metadata": {},
     "output_type": "display_data"
    },
    {
     "data": {
      "text/html": [
       "\n",
       "        <div id=\"fXTDbHHHFonU6UUP2qL3yR\"></div>\n",
       "        <script>netpixi.call('fXTDbHHHFonU6UUP2qL3yR', 'Dds9NkHZmJ4Wk4MNSQYHbb', 'changeGraph', 'eyJpZCI6IDE5NywgInR5cGUiOiAidmVydGV4IiwgInByb3BzIjogeyJjb2xvciI6IDE2NzExNjgwfX0K');</script>\n",
       "    "
      ],
      "text/plain": [
       "<IPython.core.display.HTML object>"
      ]
     },
     "metadata": {},
     "output_type": "display_data"
    },
    {
     "data": {
      "text/html": [
       "\n",
       "        <div id=\"chfEF64iDLP8eRobJtGdXC\"></div>\n",
       "        <script>netpixi.call('chfEF64iDLP8eRobJtGdXC', 'Dds9NkHZmJ4Wk4MNSQYHbb', 'changeGraph', 'eyJpZCI6IDE5OCwgInR5cGUiOiAidmVydGV4IiwgInByb3BzIjogeyJjb2xvciI6IDE2NzExNjgwfX0K');</script>\n",
       "    "
      ],
      "text/plain": [
       "<IPython.core.display.HTML object>"
      ]
     },
     "metadata": {},
     "output_type": "display_data"
    },
    {
     "data": {
      "text/html": [
       "\n",
       "        <div id=\"8KdjeHHWi4PacjNAvYNRbm\"></div>\n",
       "        <script>netpixi.call('8KdjeHHWi4PacjNAvYNRbm', 'Dds9NkHZmJ4Wk4MNSQYHbb', 'changeGraph', 'eyJpZCI6IDE5OSwgInR5cGUiOiAidmVydGV4IiwgInByb3BzIjogeyJjb2xvciI6IDY1MjgwfX0K');</script>\n",
       "    "
      ],
      "text/plain": [
       "<IPython.core.display.HTML object>"
      ]
     },
     "metadata": {},
     "output_type": "display_data"
    },
    {
     "data": {
      "text/html": [
       "\n",
       "        <div id=\"Ysm2HWoBD5ByYZw8UrEsk8\"></div>\n",
       "        <script>netpixi.call('Ysm2HWoBD5ByYZw8UrEsk8', 'Dds9NkHZmJ4Wk4MNSQYHbb', 'changeGraph', 'eyJpZCI6IDIwMCwgInR5cGUiOiAidmVydGV4IiwgInByb3BzIjogeyJjb2xvciI6IDY1MjgwfX0K');</script>\n",
       "    "
      ],
      "text/plain": [
       "<IPython.core.display.HTML object>"
      ]
     },
     "metadata": {},
     "output_type": "display_data"
    },
    {
     "data": {
      "text/html": [
       "\n",
       "        <div id=\"XYUwGZM3b4fvUWYnePh7n5\"></div>\n",
       "        <script>netpixi.call('XYUwGZM3b4fvUWYnePh7n5', 'Dds9NkHZmJ4Wk4MNSQYHbb', 'changeGraph', 'eyJpZCI6IDIwMSwgInR5cGUiOiAidmVydGV4IiwgInByb3BzIjogeyJjb2xvciI6IDE2NzExNjgwfX0K');</script>\n",
       "    "
      ],
      "text/plain": [
       "<IPython.core.display.HTML object>"
      ]
     },
     "metadata": {},
     "output_type": "display_data"
    },
    {
     "data": {
      "text/html": [
       "\n",
       "        <div id=\"anst7ipKocfGTmsUnh5CnV\"></div>\n",
       "        <script>netpixi.call('anst7ipKocfGTmsUnh5CnV', 'Dds9NkHZmJ4Wk4MNSQYHbb', 'changeGraph', 'eyJpZCI6IDIwMiwgInR5cGUiOiAidmVydGV4IiwgInByb3BzIjogeyJjb2xvciI6IDE2NzExNjgwfX0K');</script>\n",
       "    "
      ],
      "text/plain": [
       "<IPython.core.display.HTML object>"
      ]
     },
     "metadata": {},
     "output_type": "display_data"
    },
    {
     "data": {
      "text/html": [
       "\n",
       "        <div id=\"beAtw5udQKqCccogTPkHfa\"></div>\n",
       "        <script>netpixi.call('beAtw5udQKqCccogTPkHfa', 'Dds9NkHZmJ4Wk4MNSQYHbb', 'changeGraph', 'eyJpZCI6IDIwMywgInR5cGUiOiAidmVydGV4IiwgInByb3BzIjogeyJjb2xvciI6IDY1MjgwfX0K');</script>\n",
       "    "
      ],
      "text/plain": [
       "<IPython.core.display.HTML object>"
      ]
     },
     "metadata": {},
     "output_type": "display_data"
    },
    {
     "data": {
      "text/html": [
       "\n",
       "        <div id=\"cUTmHxf2k6gCNds4Sb69yp\"></div>\n",
       "        <script>netpixi.call('cUTmHxf2k6gCNds4Sb69yp', 'Dds9NkHZmJ4Wk4MNSQYHbb', 'changeGraph', 'eyJpZCI6IDIwNCwgInR5cGUiOiAidmVydGV4IiwgInByb3BzIjogeyJjb2xvciI6IDY1MjgwfX0K');</script>\n",
       "    "
      ],
      "text/plain": [
       "<IPython.core.display.HTML object>"
      ]
     },
     "metadata": {},
     "output_type": "display_data"
    },
    {
     "data": {
      "text/html": [
       "\n",
       "        <div id=\"EkZqxqfmvzpe7ni3pouFWE\"></div>\n",
       "        <script>netpixi.call('EkZqxqfmvzpe7ni3pouFWE', 'Dds9NkHZmJ4Wk4MNSQYHbb', 'changeGraph', 'eyJpZCI6IDIwNSwgInR5cGUiOiAidmVydGV4IiwgInByb3BzIjogeyJjb2xvciI6IDE2NzExNjgwfX0K');</script>\n",
       "    "
      ],
      "text/plain": [
       "<IPython.core.display.HTML object>"
      ]
     },
     "metadata": {},
     "output_type": "display_data"
    },
    {
     "data": {
      "text/html": [
       "\n",
       "        <div id=\"FDRk2PCLiKnR3GfQiFPHAN\"></div>\n",
       "        <script>netpixi.call('FDRk2PCLiKnR3GfQiFPHAN', 'Dds9NkHZmJ4Wk4MNSQYHbb', 'changeGraph', 'eyJpZCI6IDIwNiwgInR5cGUiOiAidmVydGV4IiwgInByb3BzIjogeyJjb2xvciI6IDE2NzExNjgwfX0K');</script>\n",
       "    "
      ],
      "text/plain": [
       "<IPython.core.display.HTML object>"
      ]
     },
     "metadata": {},
     "output_type": "display_data"
    },
    {
     "data": {
      "text/html": [
       "\n",
       "        <div id=\"3AemxJdhsmoreR8vCh9Syp\"></div>\n",
       "        <script>netpixi.call('3AemxJdhsmoreR8vCh9Syp', 'Dds9NkHZmJ4Wk4MNSQYHbb', 'changeGraph', 'eyJpZCI6IDIwNywgInR5cGUiOiAidmVydGV4IiwgInByb3BzIjogeyJjb2xvciI6IDY1MjgwfX0K');</script>\n",
       "    "
      ],
      "text/plain": [
       "<IPython.core.display.HTML object>"
      ]
     },
     "metadata": {},
     "output_type": "display_data"
    },
    {
     "data": {
      "text/html": [
       "\n",
       "        <div id=\"fRgQ7psVhe7MDwPHVjFKWR\"></div>\n",
       "        <script>netpixi.call('fRgQ7psVhe7MDwPHVjFKWR', 'Dds9NkHZmJ4Wk4MNSQYHbb', 'changeGraph', 'eyJpZCI6IDIwOCwgInR5cGUiOiAidmVydGV4IiwgInByb3BzIjogeyJjb2xvciI6IDY1MjgwfX0K');</script>\n",
       "    "
      ],
      "text/plain": [
       "<IPython.core.display.HTML object>"
      ]
     },
     "metadata": {},
     "output_type": "display_data"
    },
    {
     "data": {
      "text/html": [
       "\n",
       "        <div id=\"USvGaPcuFwhfPZf9YjABw6\"></div>\n",
       "        <script>netpixi.call('USvGaPcuFwhfPZf9YjABw6', 'Dds9NkHZmJ4Wk4MNSQYHbb', 'changeGraph', 'eyJpZCI6IDIwOSwgInR5cGUiOiAidmVydGV4IiwgInByb3BzIjogeyJjb2xvciI6IDY1MjgwfX0K');</script>\n",
       "    "
      ],
      "text/plain": [
       "<IPython.core.display.HTML object>"
      ]
     },
     "metadata": {},
     "output_type": "display_data"
    },
    {
     "data": {
      "text/html": [
       "\n",
       "        <div id=\"h9kBXXFdRCKWfJT5PY5mEW\"></div>\n",
       "        <script>netpixi.call('h9kBXXFdRCKWfJT5PY5mEW', 'Dds9NkHZmJ4Wk4MNSQYHbb', 'changeGraph', 'eyJpZCI6IDIxMCwgInR5cGUiOiAidmVydGV4IiwgInByb3BzIjogeyJjb2xvciI6IDE2NzExNjgwfX0K');</script>\n",
       "    "
      ],
      "text/plain": [
       "<IPython.core.display.HTML object>"
      ]
     },
     "metadata": {},
     "output_type": "display_data"
    },
    {
     "data": {
      "text/html": [
       "\n",
       "        <div id=\"azHYGRVzEKC7EnrK73CaF5\"></div>\n",
       "        <script>netpixi.call('azHYGRVzEKC7EnrK73CaF5', 'Dds9NkHZmJ4Wk4MNSQYHbb', 'changeGraph', 'eyJpZCI6IDIxMSwgInR5cGUiOiAidmVydGV4IiwgInByb3BzIjogeyJjb2xvciI6IDY1MjgwfX0K');</script>\n",
       "    "
      ],
      "text/plain": [
       "<IPython.core.display.HTML object>"
      ]
     },
     "metadata": {},
     "output_type": "display_data"
    },
    {
     "data": {
      "text/html": [
       "\n",
       "        <div id=\"JkikC4k3aZQmkZS4creE9f\"></div>\n",
       "        <script>netpixi.call('JkikC4k3aZQmkZS4creE9f', 'Dds9NkHZmJ4Wk4MNSQYHbb', 'changeGraph', 'eyJpZCI6IDIxMiwgInR5cGUiOiAidmVydGV4IiwgInByb3BzIjogeyJjb2xvciI6IDY1MjgwfX0K');</script>\n",
       "    "
      ],
      "text/plain": [
       "<IPython.core.display.HTML object>"
      ]
     },
     "metadata": {},
     "output_type": "display_data"
    },
    {
     "data": {
      "text/html": [
       "\n",
       "        <div id=\"7zTYt6uRYjpu8ytfytNoYb\"></div>\n",
       "        <script>netpixi.call('7zTYt6uRYjpu8ytfytNoYb', 'Dds9NkHZmJ4Wk4MNSQYHbb', 'changeGraph', 'eyJpZCI6IDIxMywgInR5cGUiOiAidmVydGV4IiwgInByb3BzIjogeyJjb2xvciI6IDY1MjgwfX0K');</script>\n",
       "    "
      ],
      "text/plain": [
       "<IPython.core.display.HTML object>"
      ]
     },
     "metadata": {},
     "output_type": "display_data"
    },
    {
     "data": {
      "text/html": [
       "\n",
       "        <div id=\"eMKUosgE2dz3xuXhR5QneQ\"></div>\n",
       "        <script>netpixi.call('eMKUosgE2dz3xuXhR5QneQ', 'Dds9NkHZmJ4Wk4MNSQYHbb', 'changeGraph', 'eyJpZCI6IDIxNCwgInR5cGUiOiAidmVydGV4IiwgInByb3BzIjogeyJjb2xvciI6IDE2NzExNjgwfX0K');</script>\n",
       "    "
      ],
      "text/plain": [
       "<IPython.core.display.HTML object>"
      ]
     },
     "metadata": {},
     "output_type": "display_data"
    },
    {
     "data": {
      "text/html": [
       "\n",
       "        <div id=\"CrYBCyCDxLkwtV7MW2KSQe\"></div>\n",
       "        <script>netpixi.call('CrYBCyCDxLkwtV7MW2KSQe', 'Dds9NkHZmJ4Wk4MNSQYHbb', 'changeGraph', 'eyJpZCI6IDIxNSwgInR5cGUiOiAidmVydGV4IiwgInByb3BzIjogeyJjb2xvciI6IDE2NzExNjgwfX0K');</script>\n",
       "    "
      ],
      "text/plain": [
       "<IPython.core.display.HTML object>"
      ]
     },
     "metadata": {},
     "output_type": "display_data"
    },
    {
     "data": {
      "text/html": [
       "\n",
       "        <div id=\"64bAgqCEHbJcU5kSD3vCV2\"></div>\n",
       "        <script>netpixi.call('64bAgqCEHbJcU5kSD3vCV2', 'Dds9NkHZmJ4Wk4MNSQYHbb', 'changeGraph', 'eyJpZCI6IDIxNiwgInR5cGUiOiAidmVydGV4IiwgInByb3BzIjogeyJjb2xvciI6IDE2NzExNjgwfX0K');</script>\n",
       "    "
      ],
      "text/plain": [
       "<IPython.core.display.HTML object>"
      ]
     },
     "metadata": {},
     "output_type": "display_data"
    },
    {
     "data": {
      "text/html": [
       "\n",
       "        <div id=\"gcMgWYxWaSG6Dyzyqj2jw9\"></div>\n",
       "        <script>netpixi.call('gcMgWYxWaSG6Dyzyqj2jw9', 'Dds9NkHZmJ4Wk4MNSQYHbb', 'changeGraph', 'eyJpZCI6IDIxNywgInR5cGUiOiAidmVydGV4IiwgInByb3BzIjogeyJjb2xvciI6IDE2NzExNjgwfX0K');</script>\n",
       "    "
      ],
      "text/plain": [
       "<IPython.core.display.HTML object>"
      ]
     },
     "metadata": {},
     "output_type": "display_data"
    },
    {
     "data": {
      "text/html": [
       "\n",
       "        <div id=\"3NB4obzYZDBCixJVSaVTia\"></div>\n",
       "        <script>netpixi.call('3NB4obzYZDBCixJVSaVTia', 'Dds9NkHZmJ4Wk4MNSQYHbb', 'changeGraph', 'eyJpZCI6IDIxOCwgInR5cGUiOiAidmVydGV4IiwgInByb3BzIjogeyJjb2xvciI6IDE2NzExNjgwfX0K');</script>\n",
       "    "
      ],
      "text/plain": [
       "<IPython.core.display.HTML object>"
      ]
     },
     "metadata": {},
     "output_type": "display_data"
    },
    {
     "data": {
      "text/html": [
       "\n",
       "        <div id=\"K9thfQHHLDrWwGTj8NaRZb\"></div>\n",
       "        <script>netpixi.call('K9thfQHHLDrWwGTj8NaRZb', 'Dds9NkHZmJ4Wk4MNSQYHbb', 'changeGraph', 'eyJpZCI6IDIxOSwgInR5cGUiOiAidmVydGV4IiwgInByb3BzIjogeyJjb2xvciI6IDE2NzExNjgwfX0K');</script>\n",
       "    "
      ],
      "text/plain": [
       "<IPython.core.display.HTML object>"
      ]
     },
     "metadata": {},
     "output_type": "display_data"
    },
    {
     "data": {
      "text/html": [
       "\n",
       "        <div id=\"DYV8UYpBXWQYFcz3FjBA6r\"></div>\n",
       "        <script>netpixi.call('DYV8UYpBXWQYFcz3FjBA6r', 'Dds9NkHZmJ4Wk4MNSQYHbb', 'changeGraph', 'eyJpZCI6IDIyMCwgInR5cGUiOiAidmVydGV4IiwgInByb3BzIjogeyJjb2xvciI6IDE2NzExNjgwfX0K');</script>\n",
       "    "
      ],
      "text/plain": [
       "<IPython.core.display.HTML object>"
      ]
     },
     "metadata": {},
     "output_type": "display_data"
    },
    {
     "data": {
      "text/html": [
       "\n",
       "        <div id=\"d8E5ZE5Ynz2VSVxJRffShT\"></div>\n",
       "        <script>netpixi.call('d8E5ZE5Ynz2VSVxJRffShT', 'Dds9NkHZmJ4Wk4MNSQYHbb', 'changeGraph', 'eyJpZCI6IDIyMSwgInR5cGUiOiAidmVydGV4IiwgInByb3BzIjogeyJjb2xvciI6IDE2NzExNjgwfX0K');</script>\n",
       "    "
      ],
      "text/plain": [
       "<IPython.core.display.HTML object>"
      ]
     },
     "metadata": {},
     "output_type": "display_data"
    },
    {
     "data": {
      "text/html": [
       "\n",
       "        <div id=\"MFD9UQViFkvoCg3Qvwij8E\"></div>\n",
       "        <script>netpixi.call('MFD9UQViFkvoCg3Qvwij8E', 'Dds9NkHZmJ4Wk4MNSQYHbb', 'changeGraph', 'eyJpZCI6IDIyMiwgInR5cGUiOiAidmVydGV4IiwgInByb3BzIjogeyJjb2xvciI6IDY1MjgwfX0K');</script>\n",
       "    "
      ],
      "text/plain": [
       "<IPython.core.display.HTML object>"
      ]
     },
     "metadata": {},
     "output_type": "display_data"
    },
    {
     "data": {
      "text/html": [
       "\n",
       "        <div id=\"CfJEmEm69cPynd8o6ZueK5\"></div>\n",
       "        <script>netpixi.call('CfJEmEm69cPynd8o6ZueK5', 'Dds9NkHZmJ4Wk4MNSQYHbb', 'changeGraph', 'eyJpZCI6IDIyMywgInR5cGUiOiAidmVydGV4IiwgInByb3BzIjogeyJjb2xvciI6IDE2NzExNjgwfX0K');</script>\n",
       "    "
      ],
      "text/plain": [
       "<IPython.core.display.HTML object>"
      ]
     },
     "metadata": {},
     "output_type": "display_data"
    },
    {
     "data": {
      "text/html": [
       "\n",
       "        <div id=\"edDKDgDb6jMdAwjCRuzPRY\"></div>\n",
       "        <script>netpixi.call('edDKDgDb6jMdAwjCRuzPRY', 'Dds9NkHZmJ4Wk4MNSQYHbb', 'changeGraph', 'eyJpZCI6IDIyNCwgInR5cGUiOiAidmVydGV4IiwgInByb3BzIjogeyJjb2xvciI6IDE2NzExNjgwfX0K');</script>\n",
       "    "
      ],
      "text/plain": [
       "<IPython.core.display.HTML object>"
      ]
     },
     "metadata": {},
     "output_type": "display_data"
    },
    {
     "data": {
      "text/html": [
       "\n",
       "        <div id=\"NiQMykoTN3x4FgTUNruNo3\"></div>\n",
       "        <script>netpixi.call('NiQMykoTN3x4FgTUNruNo3', 'Dds9NkHZmJ4Wk4MNSQYHbb', 'changeGraph', 'eyJpZCI6IDIyNSwgInR5cGUiOiAidmVydGV4IiwgInByb3BzIjogeyJjb2xvciI6IDY1MjgwfX0K');</script>\n",
       "    "
      ],
      "text/plain": [
       "<IPython.core.display.HTML object>"
      ]
     },
     "metadata": {},
     "output_type": "display_data"
    },
    {
     "data": {
      "text/html": [
       "\n",
       "        <div id=\"b6QSRFexGq8pU2WEzKmosM\"></div>\n",
       "        <script>netpixi.call('b6QSRFexGq8pU2WEzKmosM', 'Dds9NkHZmJ4Wk4MNSQYHbb', 'changeGraph', 'eyJpZCI6IDIyNiwgInR5cGUiOiAidmVydGV4IiwgInByb3BzIjogeyJjb2xvciI6IDE2NzExNjgwfX0K');</script>\n",
       "    "
      ],
      "text/plain": [
       "<IPython.core.display.HTML object>"
      ]
     },
     "metadata": {},
     "output_type": "display_data"
    },
    {
     "data": {
      "text/html": [
       "\n",
       "        <div id=\"cBD4qwLiADMNAXuWVZnEnD\"></div>\n",
       "        <script>netpixi.call('cBD4qwLiADMNAXuWVZnEnD', 'Dds9NkHZmJ4Wk4MNSQYHbb', 'changeGraph', 'eyJpZCI6IDIyNywgInR5cGUiOiAidmVydGV4IiwgInByb3BzIjogeyJjb2xvciI6IDY1MjgwfX0K');</script>\n",
       "    "
      ],
      "text/plain": [
       "<IPython.core.display.HTML object>"
      ]
     },
     "metadata": {},
     "output_type": "display_data"
    },
    {
     "data": {
      "text/html": [
       "\n",
       "        <div id=\"JVscGDy6BPr2y3xLUNxXa6\"></div>\n",
       "        <script>netpixi.call('JVscGDy6BPr2y3xLUNxXa6', 'Dds9NkHZmJ4Wk4MNSQYHbb', 'changeGraph', 'eyJpZCI6IDIyOCwgInR5cGUiOiAidmVydGV4IiwgInByb3BzIjogeyJjb2xvciI6IDY1MjgwfX0K');</script>\n",
       "    "
      ],
      "text/plain": [
       "<IPython.core.display.HTML object>"
      ]
     },
     "metadata": {},
     "output_type": "display_data"
    },
    {
     "data": {
      "text/html": [
       "\n",
       "        <div id=\"bZekHF2GCVPYPyZxzKDKZD\"></div>\n",
       "        <script>netpixi.call('bZekHF2GCVPYPyZxzKDKZD', 'Dds9NkHZmJ4Wk4MNSQYHbb', 'changeGraph', 'eyJpZCI6IDIyOSwgInR5cGUiOiAidmVydGV4IiwgInByb3BzIjogeyJjb2xvciI6IDE2NzExNjgwfX0K');</script>\n",
       "    "
      ],
      "text/plain": [
       "<IPython.core.display.HTML object>"
      ]
     },
     "metadata": {},
     "output_type": "display_data"
    },
    {
     "data": {
      "text/html": [
       "\n",
       "        <div id=\"YksQUSMGHwfn95zquYLjzK\"></div>\n",
       "        <script>netpixi.call('YksQUSMGHwfn95zquYLjzK', 'Dds9NkHZmJ4Wk4MNSQYHbb', 'changeGraph', 'eyJpZCI6IDIzMCwgInR5cGUiOiAidmVydGV4IiwgInByb3BzIjogeyJjb2xvciI6IDE2NzExNjgwfX0K');</script>\n",
       "    "
      ],
      "text/plain": [
       "<IPython.core.display.HTML object>"
      ]
     },
     "metadata": {},
     "output_type": "display_data"
    },
    {
     "data": {
      "text/html": [
       "\n",
       "        <div id=\"2cRw9zjHGSepZGMwmzXZTx\"></div>\n",
       "        <script>netpixi.call('2cRw9zjHGSepZGMwmzXZTx', 'Dds9NkHZmJ4Wk4MNSQYHbb', 'changeGraph', 'eyJpZCI6IDIzMSwgInR5cGUiOiAidmVydGV4IiwgInByb3BzIjogeyJjb2xvciI6IDY1MjgwfX0K');</script>\n",
       "    "
      ],
      "text/plain": [
       "<IPython.core.display.HTML object>"
      ]
     },
     "metadata": {},
     "output_type": "display_data"
    },
    {
     "data": {
      "text/html": [
       "\n",
       "        <div id=\"oHdNJ4DC87LuMqZRmuwouW\"></div>\n",
       "        <script>netpixi.call('oHdNJ4DC87LuMqZRmuwouW', 'Dds9NkHZmJ4Wk4MNSQYHbb', 'changeGraph', 'eyJpZCI6IDIzMiwgInR5cGUiOiAidmVydGV4IiwgInByb3BzIjogeyJjb2xvciI6IDE2NzExNjgwfX0K');</script>\n",
       "    "
      ],
      "text/plain": [
       "<IPython.core.display.HTML object>"
      ]
     },
     "metadata": {},
     "output_type": "display_data"
    },
    {
     "data": {
      "text/html": [
       "\n",
       "        <div id=\"SeRtwCWPQHXuCVnDfjZDVj\"></div>\n",
       "        <script>netpixi.call('SeRtwCWPQHXuCVnDfjZDVj', 'Dds9NkHZmJ4Wk4MNSQYHbb', 'changeGraph', 'eyJpZCI6IDIzMywgInR5cGUiOiAidmVydGV4IiwgInByb3BzIjogeyJjb2xvciI6IDE2NzExNjgwfX0K');</script>\n",
       "    "
      ],
      "text/plain": [
       "<IPython.core.display.HTML object>"
      ]
     },
     "metadata": {},
     "output_type": "display_data"
    },
    {
     "data": {
      "text/html": [
       "\n",
       "        <div id=\"amz6ZmbTANR6uDhV3fnKHN\"></div>\n",
       "        <script>netpixi.call('amz6ZmbTANR6uDhV3fnKHN', 'Dds9NkHZmJ4Wk4MNSQYHbb', 'changeGraph', 'eyJpZCI6IDIzNCwgInR5cGUiOiAidmVydGV4IiwgInByb3BzIjogeyJjb2xvciI6IDE2NzExNjgwfX0K');</script>\n",
       "    "
      ],
      "text/plain": [
       "<IPython.core.display.HTML object>"
      ]
     },
     "metadata": {},
     "output_type": "display_data"
    },
    {
     "data": {
      "text/html": [
       "\n",
       "        <div id=\"SuSkM5YFRAmk4iCqyCjrjL\"></div>\n",
       "        <script>netpixi.call('SuSkM5YFRAmk4iCqyCjrjL', 'Dds9NkHZmJ4Wk4MNSQYHbb', 'changeGraph', 'eyJpZCI6IDIzNSwgInR5cGUiOiAidmVydGV4IiwgInByb3BzIjogeyJjb2xvciI6IDY1MjgwfX0K');</script>\n",
       "    "
      ],
      "text/plain": [
       "<IPython.core.display.HTML object>"
      ]
     },
     "metadata": {},
     "output_type": "display_data"
    },
    {
     "data": {
      "text/html": [
       "\n",
       "        <div id=\"32yCHWm3mAXNCzETxKFLof\"></div>\n",
       "        <script>netpixi.call('32yCHWm3mAXNCzETxKFLof', 'Dds9NkHZmJ4Wk4MNSQYHbb', 'changeGraph', 'eyJpZCI6IDIzNiwgInR5cGUiOiAidmVydGV4IiwgInByb3BzIjogeyJjb2xvciI6IDY1MjgwfX0K');</script>\n",
       "    "
      ],
      "text/plain": [
       "<IPython.core.display.HTML object>"
      ]
     },
     "metadata": {},
     "output_type": "display_data"
    },
    {
     "data": {
      "text/html": [
       "\n",
       "        <div id=\"N4s8vtGmN4i8q6AqDR2TWh\"></div>\n",
       "        <script>netpixi.call('N4s8vtGmN4i8q6AqDR2TWh', 'Dds9NkHZmJ4Wk4MNSQYHbb', 'changeGraph', 'eyJpZCI6IDIzNywgInR5cGUiOiAidmVydGV4IiwgInByb3BzIjogeyJjb2xvciI6IDE2NzExNjgwfX0K');</script>\n",
       "    "
      ],
      "text/plain": [
       "<IPython.core.display.HTML object>"
      ]
     },
     "metadata": {},
     "output_type": "display_data"
    },
    {
     "data": {
      "text/html": [
       "\n",
       "        <div id=\"bYRdMF2wdHuuL5gsZuwZrk\"></div>\n",
       "        <script>netpixi.call('bYRdMF2wdHuuL5gsZuwZrk', 'Dds9NkHZmJ4Wk4MNSQYHbb', 'changeGraph', 'eyJpZCI6IDIzOCwgInR5cGUiOiAidmVydGV4IiwgInByb3BzIjogeyJjb2xvciI6IDY1MjgwfX0K');</script>\n",
       "    "
      ],
      "text/plain": [
       "<IPython.core.display.HTML object>"
      ]
     },
     "metadata": {},
     "output_type": "display_data"
    },
    {
     "data": {
      "text/html": [
       "\n",
       "        <div id=\"aHXLsS7h6aBFiKidmpLCX5\"></div>\n",
       "        <script>netpixi.call('aHXLsS7h6aBFiKidmpLCX5', 'Dds9NkHZmJ4Wk4MNSQYHbb', 'changeGraph', 'eyJpZCI6IDIzOSwgInR5cGUiOiAidmVydGV4IiwgInByb3BzIjogeyJjb2xvciI6IDE2NzExNjgwfX0K');</script>\n",
       "    "
      ],
      "text/plain": [
       "<IPython.core.display.HTML object>"
      ]
     },
     "metadata": {},
     "output_type": "display_data"
    },
    {
     "data": {
      "text/html": [
       "\n",
       "        <div id=\"R48drvgADjKorMm5egHhpx\"></div>\n",
       "        <script>netpixi.call('R48drvgADjKorMm5egHhpx', 'Dds9NkHZmJ4Wk4MNSQYHbb', 'changeGraph', 'eyJpZCI6IDI0MCwgInR5cGUiOiAidmVydGV4IiwgInByb3BzIjogeyJjb2xvciI6IDY1MjgwfX0K');</script>\n",
       "    "
      ],
      "text/plain": [
       "<IPython.core.display.HTML object>"
      ]
     },
     "metadata": {},
     "output_type": "display_data"
    },
    {
     "data": {
      "text/html": [
       "\n",
       "        <div id=\"P4BZhYGYkDwJ6iC4gpj2gM\"></div>\n",
       "        <script>netpixi.call('P4BZhYGYkDwJ6iC4gpj2gM', 'Dds9NkHZmJ4Wk4MNSQYHbb', 'changeGraph', 'eyJpZCI6IDI0MSwgInR5cGUiOiAidmVydGV4IiwgInByb3BzIjogeyJjb2xvciI6IDE2NzExNjgwfX0K');</script>\n",
       "    "
      ],
      "text/plain": [
       "<IPython.core.display.HTML object>"
      ]
     },
     "metadata": {},
     "output_type": "display_data"
    },
    {
     "data": {
      "text/html": [
       "\n",
       "        <div id=\"TQUz8nS9JRscoGGQhukPxu\"></div>\n",
       "        <script>netpixi.call('TQUz8nS9JRscoGGQhukPxu', 'Dds9NkHZmJ4Wk4MNSQYHbb', 'changeGraph', 'eyJpZCI6IDI0MiwgInR5cGUiOiAidmVydGV4IiwgInByb3BzIjogeyJjb2xvciI6IDE2NzExNjgwfX0K');</script>\n",
       "    "
      ],
      "text/plain": [
       "<IPython.core.display.HTML object>"
      ]
     },
     "metadata": {},
     "output_type": "display_data"
    },
    {
     "data": {
      "text/html": [
       "\n",
       "        <div id=\"57coamKmcpTAPigjNptMRR\"></div>\n",
       "        <script>netpixi.call('57coamKmcpTAPigjNptMRR', 'Dds9NkHZmJ4Wk4MNSQYHbb', 'changeGraph', 'eyJpZCI6IDI0MywgInR5cGUiOiAidmVydGV4IiwgInByb3BzIjogeyJjb2xvciI6IDE2NzExNjgwfX0K');</script>\n",
       "    "
      ],
      "text/plain": [
       "<IPython.core.display.HTML object>"
      ]
     },
     "metadata": {},
     "output_type": "display_data"
    },
    {
     "data": {
      "text/html": [
       "\n",
       "        <div id=\"5pB2ZqH2cGZe48HD9e8P7r\"></div>\n",
       "        <script>netpixi.call('5pB2ZqH2cGZe48HD9e8P7r', 'Dds9NkHZmJ4Wk4MNSQYHbb', 'changeGraph', 'eyJpZCI6IDI0NCwgInR5cGUiOiAidmVydGV4IiwgInByb3BzIjogeyJjb2xvciI6IDY1MjgwfX0K');</script>\n",
       "    "
      ],
      "text/plain": [
       "<IPython.core.display.HTML object>"
      ]
     },
     "metadata": {},
     "output_type": "display_data"
    },
    {
     "data": {
      "text/html": [
       "\n",
       "        <div id=\"Y3tJCaUMmUvNQVhAdRfcq4\"></div>\n",
       "        <script>netpixi.call('Y3tJCaUMmUvNQVhAdRfcq4', 'Dds9NkHZmJ4Wk4MNSQYHbb', 'changeGraph', 'eyJpZCI6IDI0NSwgInR5cGUiOiAidmVydGV4IiwgInByb3BzIjogeyJjb2xvciI6IDY1MjgwfX0K');</script>\n",
       "    "
      ],
      "text/plain": [
       "<IPython.core.display.HTML object>"
      ]
     },
     "metadata": {},
     "output_type": "display_data"
    },
    {
     "data": {
      "text/html": [
       "\n",
       "        <div id=\"gP76hudPJyWqvpgzKMt7dm\"></div>\n",
       "        <script>netpixi.call('gP76hudPJyWqvpgzKMt7dm', 'Dds9NkHZmJ4Wk4MNSQYHbb', 'changeGraph', 'eyJpZCI6IDI0NiwgInR5cGUiOiAidmVydGV4IiwgInByb3BzIjogeyJjb2xvciI6IDE2NzExNjgwfX0K');</script>\n",
       "    "
      ],
      "text/plain": [
       "<IPython.core.display.HTML object>"
      ]
     },
     "metadata": {},
     "output_type": "display_data"
    },
    {
     "data": {
      "text/html": [
       "\n",
       "        <div id=\"Jo8NvNHQ2Xpb58Z4PrZQgE\"></div>\n",
       "        <script>netpixi.call('Jo8NvNHQ2Xpb58Z4PrZQgE', 'Dds9NkHZmJ4Wk4MNSQYHbb', 'changeGraph', 'eyJpZCI6IDI0NywgInR5cGUiOiAidmVydGV4IiwgInByb3BzIjogeyJjb2xvciI6IDE2NzExNjgwfX0K');</script>\n",
       "    "
      ],
      "text/plain": [
       "<IPython.core.display.HTML object>"
      ]
     },
     "metadata": {},
     "output_type": "display_data"
    },
    {
     "data": {
      "text/html": [
       "\n",
       "        <div id=\"VoYEMNi8dry95L3CJLTHfA\"></div>\n",
       "        <script>netpixi.call('VoYEMNi8dry95L3CJLTHfA', 'Dds9NkHZmJ4Wk4MNSQYHbb', 'changeGraph', 'eyJpZCI6IDI0OCwgInR5cGUiOiAidmVydGV4IiwgInByb3BzIjogeyJjb2xvciI6IDE2NzExNjgwfX0K');</script>\n",
       "    "
      ],
      "text/plain": [
       "<IPython.core.display.HTML object>"
      ]
     },
     "metadata": {},
     "output_type": "display_data"
    },
    {
     "data": {
      "text/html": [
       "\n",
       "        <div id=\"KGU528XoTSLhQR3MyzzHC2\"></div>\n",
       "        <script>netpixi.call('KGU528XoTSLhQR3MyzzHC2', 'Dds9NkHZmJ4Wk4MNSQYHbb', 'changeGraph', 'eyJpZCI6IDI0OSwgInR5cGUiOiAidmVydGV4IiwgInByb3BzIjogeyJjb2xvciI6IDE2NzExNjgwfX0K');</script>\n",
       "    "
      ],
      "text/plain": [
       "<IPython.core.display.HTML object>"
      ]
     },
     "metadata": {},
     "output_type": "display_data"
    },
    {
     "data": {
      "text/html": [
       "\n",
       "        <div id=\"FZSiL6eUS45aEezxsENkkj\"></div>\n",
       "        <script>netpixi.call('FZSiL6eUS45aEezxsENkkj', 'Dds9NkHZmJ4Wk4MNSQYHbb', 'changeGraph', 'eyJpZCI6IDI1MCwgInR5cGUiOiAidmVydGV4IiwgInByb3BzIjogeyJjb2xvciI6IDE2NzExNjgwfX0K');</script>\n",
       "    "
      ],
      "text/plain": [
       "<IPython.core.display.HTML object>"
      ]
     },
     "metadata": {},
     "output_type": "display_data"
    },
    {
     "data": {
      "text/html": [
       "\n",
       "        <div id=\"ZkBdNL42Dc6ntGURmsYCjB\"></div>\n",
       "        <script>netpixi.call('ZkBdNL42Dc6ntGURmsYCjB', 'Dds9NkHZmJ4Wk4MNSQYHbb', 'changeGraph', 'eyJpZCI6IDI1MSwgInR5cGUiOiAidmVydGV4IiwgInByb3BzIjogeyJjb2xvciI6IDE2NzExNjgwfX0K');</script>\n",
       "    "
      ],
      "text/plain": [
       "<IPython.core.display.HTML object>"
      ]
     },
     "metadata": {},
     "output_type": "display_data"
    },
    {
     "data": {
      "text/html": [
       "\n",
       "        <div id=\"7AX5o3s54oHcouvRdYdKTG\"></div>\n",
       "        <script>netpixi.call('7AX5o3s54oHcouvRdYdKTG', 'Dds9NkHZmJ4Wk4MNSQYHbb', 'changeGraph', 'eyJpZCI6IDI1MiwgInR5cGUiOiAidmVydGV4IiwgInByb3BzIjogeyJjb2xvciI6IDE2NzExNjgwfX0K');</script>\n",
       "    "
      ],
      "text/plain": [
       "<IPython.core.display.HTML object>"
      ]
     },
     "metadata": {},
     "output_type": "display_data"
    },
    {
     "data": {
      "text/html": [
       "\n",
       "        <div id=\"bXUDmryhoUjvTroiaXbAtT\"></div>\n",
       "        <script>netpixi.call('bXUDmryhoUjvTroiaXbAtT', 'Dds9NkHZmJ4Wk4MNSQYHbb', 'changeGraph', 'eyJpZCI6IDI1MywgInR5cGUiOiAidmVydGV4IiwgInByb3BzIjogeyJjb2xvciI6IDY1MjgwfX0K');</script>\n",
       "    "
      ],
      "text/plain": [
       "<IPython.core.display.HTML object>"
      ]
     },
     "metadata": {},
     "output_type": "display_data"
    },
    {
     "data": {
      "text/html": [
       "\n",
       "        <div id=\"S8pix8oQUdCrt2YrDZSX4G\"></div>\n",
       "        <script>netpixi.call('S8pix8oQUdCrt2YrDZSX4G', 'Dds9NkHZmJ4Wk4MNSQYHbb', 'changeGraph', 'eyJpZCI6IDI1NCwgInR5cGUiOiAidmVydGV4IiwgInByb3BzIjogeyJjb2xvciI6IDY1MjgwfX0K');</script>\n",
       "    "
      ],
      "text/plain": [
       "<IPython.core.display.HTML object>"
      ]
     },
     "metadata": {},
     "output_type": "display_data"
    },
    {
     "data": {
      "text/html": [
       "\n",
       "        <div id=\"T9YJ48eCz8c8Jt6zBiZFEr\"></div>\n",
       "        <script>netpixi.call('T9YJ48eCz8c8Jt6zBiZFEr', 'Dds9NkHZmJ4Wk4MNSQYHbb', 'changeGraph', 'eyJpZCI6IDI1NSwgInR5cGUiOiAidmVydGV4IiwgInByb3BzIjogeyJjb2xvciI6IDY1MjgwfX0K');</script>\n",
       "    "
      ],
      "text/plain": [
       "<IPython.core.display.HTML object>"
      ]
     },
     "metadata": {},
     "output_type": "display_data"
    },
    {
     "data": {
      "text/html": [
       "\n",
       "        <div id=\"6s2yn78AuthkYejH8rSzXd\"></div>\n",
       "        <script>netpixi.call('6s2yn78AuthkYejH8rSzXd', 'Dds9NkHZmJ4Wk4MNSQYHbb', 'changeGraph', 'eyJpZCI6IDI1NiwgInR5cGUiOiAidmVydGV4IiwgInByb3BzIjogeyJjb2xvciI6IDY1MjgwfX0K');</script>\n",
       "    "
      ],
      "text/plain": [
       "<IPython.core.display.HTML object>"
      ]
     },
     "metadata": {},
     "output_type": "display_data"
    },
    {
     "data": {
      "text/html": [
       "\n",
       "        <div id=\"DdbdrJ94sbL6aZzKJ3kEfr\"></div>\n",
       "        <script>netpixi.call('DdbdrJ94sbL6aZzKJ3kEfr', 'Dds9NkHZmJ4Wk4MNSQYHbb', 'changeGraph', 'eyJpZCI6IDI1NywgInR5cGUiOiAidmVydGV4IiwgInByb3BzIjogeyJjb2xvciI6IDE2NzExNjgwfX0K');</script>\n",
       "    "
      ],
      "text/plain": [
       "<IPython.core.display.HTML object>"
      ]
     },
     "metadata": {},
     "output_type": "display_data"
    },
    {
     "data": {
      "text/html": [
       "\n",
       "        <div id=\"iYsGdVJNdEciLNExu8Q5PC\"></div>\n",
       "        <script>netpixi.call('iYsGdVJNdEciLNExu8Q5PC', 'Dds9NkHZmJ4Wk4MNSQYHbb', 'changeGraph', 'eyJpZCI6IDI1OCwgInR5cGUiOiAidmVydGV4IiwgInByb3BzIjogeyJjb2xvciI6IDE2NzExNjgwfX0K');</script>\n",
       "    "
      ],
      "text/plain": [
       "<IPython.core.display.HTML object>"
      ]
     },
     "metadata": {},
     "output_type": "display_data"
    },
    {
     "data": {
      "text/html": [
       "\n",
       "        <div id=\"6tSwsAEMEjZkfxjbD9Srct\"></div>\n",
       "        <script>netpixi.call('6tSwsAEMEjZkfxjbD9Srct', 'Dds9NkHZmJ4Wk4MNSQYHbb', 'changeGraph', 'eyJpZCI6IDI1OSwgInR5cGUiOiAidmVydGV4IiwgInByb3BzIjogeyJjb2xvciI6IDE2NzExNjgwfX0K');</script>\n",
       "    "
      ],
      "text/plain": [
       "<IPython.core.display.HTML object>"
      ]
     },
     "metadata": {},
     "output_type": "display_data"
    },
    {
     "data": {
      "text/html": [
       "\n",
       "        <div id=\"jPwZuvEYRLiszaDgCSD9qq\"></div>\n",
       "        <script>netpixi.call('jPwZuvEYRLiszaDgCSD9qq', 'Dds9NkHZmJ4Wk4MNSQYHbb', 'changeGraph', 'eyJpZCI6IDI2MCwgInR5cGUiOiAidmVydGV4IiwgInByb3BzIjogeyJjb2xvciI6IDY1MjgwfX0K');</script>\n",
       "    "
      ],
      "text/plain": [
       "<IPython.core.display.HTML object>"
      ]
     },
     "metadata": {},
     "output_type": "display_data"
    },
    {
     "data": {
      "text/html": [
       "\n",
       "        <div id=\"ARUn467CVrrrQwcpjANoMm\"></div>\n",
       "        <script>netpixi.call('ARUn467CVrrrQwcpjANoMm', 'Dds9NkHZmJ4Wk4MNSQYHbb', 'changeGraph', 'eyJpZCI6IDI2MSwgInR5cGUiOiAidmVydGV4IiwgInByb3BzIjogeyJjb2xvciI6IDY1MjgwfX0K');</script>\n",
       "    "
      ],
      "text/plain": [
       "<IPython.core.display.HTML object>"
      ]
     },
     "metadata": {},
     "output_type": "display_data"
    },
    {
     "data": {
      "text/html": [
       "\n",
       "        <div id=\"MmzzQsd3G4YTKpGzaXANsv\"></div>\n",
       "        <script>netpixi.call('MmzzQsd3G4YTKpGzaXANsv', 'Dds9NkHZmJ4Wk4MNSQYHbb', 'changeGraph', 'eyJpZCI6IDI2MiwgInR5cGUiOiAidmVydGV4IiwgInByb3BzIjogeyJjb2xvciI6IDE2NzExNjgwfX0K');</script>\n",
       "    "
      ],
      "text/plain": [
       "<IPython.core.display.HTML object>"
      ]
     },
     "metadata": {},
     "output_type": "display_data"
    },
    {
     "data": {
      "text/html": [
       "\n",
       "        <div id=\"MBdShDWHWfJhZcdP9QRAbr\"></div>\n",
       "        <script>netpixi.call('MBdShDWHWfJhZcdP9QRAbr', 'Dds9NkHZmJ4Wk4MNSQYHbb', 'changeGraph', 'eyJpZCI6IDI2MywgInR5cGUiOiAidmVydGV4IiwgInByb3BzIjogeyJjb2xvciI6IDE2NzExNjgwfX0K');</script>\n",
       "    "
      ],
      "text/plain": [
       "<IPython.core.display.HTML object>"
      ]
     },
     "metadata": {},
     "output_type": "display_data"
    },
    {
     "data": {
      "text/html": [
       "\n",
       "        <div id=\"2979rawdmXE6Hjf8zjyDP9\"></div>\n",
       "        <script>netpixi.call('2979rawdmXE6Hjf8zjyDP9', 'Dds9NkHZmJ4Wk4MNSQYHbb', 'changeGraph', 'eyJpZCI6IDI2NCwgInR5cGUiOiAidmVydGV4IiwgInByb3BzIjogeyJjb2xvciI6IDE2NzExNjgwfX0K');</script>\n",
       "    "
      ],
      "text/plain": [
       "<IPython.core.display.HTML object>"
      ]
     },
     "metadata": {},
     "output_type": "display_data"
    },
    {
     "data": {
      "text/html": [
       "\n",
       "        <div id=\"kdt26x3w3Abz2KLu7PE4ga\"></div>\n",
       "        <script>netpixi.call('kdt26x3w3Abz2KLu7PE4ga', 'Dds9NkHZmJ4Wk4MNSQYHbb', 'changeGraph', 'eyJpZCI6IDI2NSwgInR5cGUiOiAidmVydGV4IiwgInByb3BzIjogeyJjb2xvciI6IDE2NzExNjgwfX0K');</script>\n",
       "    "
      ],
      "text/plain": [
       "<IPython.core.display.HTML object>"
      ]
     },
     "metadata": {},
     "output_type": "display_data"
    },
    {
     "data": {
      "text/html": [
       "\n",
       "        <div id=\"ZnuC4Nk7AuPdDhtY8yV5Fd\"></div>\n",
       "        <script>netpixi.call('ZnuC4Nk7AuPdDhtY8yV5Fd', 'Dds9NkHZmJ4Wk4MNSQYHbb', 'changeGraph', 'eyJpZCI6IDI2NiwgInR5cGUiOiAidmVydGV4IiwgInByb3BzIjogeyJjb2xvciI6IDE2NzExNjgwfX0K');</script>\n",
       "    "
      ],
      "text/plain": [
       "<IPython.core.display.HTML object>"
      ]
     },
     "metadata": {},
     "output_type": "display_data"
    },
    {
     "data": {
      "text/html": [
       "\n",
       "        <div id=\"4kEkP4wym83EGraJQJtpCS\"></div>\n",
       "        <script>netpixi.call('4kEkP4wym83EGraJQJtpCS', 'Dds9NkHZmJ4Wk4MNSQYHbb', 'changeGraph', 'eyJpZCI6IDI2NywgInR5cGUiOiAidmVydGV4IiwgInByb3BzIjogeyJjb2xvciI6IDY1MjgwfX0K');</script>\n",
       "    "
      ],
      "text/plain": [
       "<IPython.core.display.HTML object>"
      ]
     },
     "metadata": {},
     "output_type": "display_data"
    },
    {
     "data": {
      "text/html": [
       "\n",
       "        <div id=\"Su5qyfcr6DE5UpxAZUXESN\"></div>\n",
       "        <script>netpixi.call('Su5qyfcr6DE5UpxAZUXESN', 'Dds9NkHZmJ4Wk4MNSQYHbb', 'changeGraph', 'eyJpZCI6IDI2OCwgInR5cGUiOiAidmVydGV4IiwgInByb3BzIjogeyJjb2xvciI6IDY1MjgwfX0K');</script>\n",
       "    "
      ],
      "text/plain": [
       "<IPython.core.display.HTML object>"
      ]
     },
     "metadata": {},
     "output_type": "display_data"
    },
    {
     "data": {
      "text/html": [
       "\n",
       "        <div id=\"NP68WQbEc9P4L6YnMP9aSW\"></div>\n",
       "        <script>netpixi.call('NP68WQbEc9P4L6YnMP9aSW', 'Dds9NkHZmJ4Wk4MNSQYHbb', 'changeGraph', 'eyJpZCI6IDI2OSwgInR5cGUiOiAidmVydGV4IiwgInByb3BzIjogeyJjb2xvciI6IDY1MjgwfX0K');</script>\n",
       "    "
      ],
      "text/plain": [
       "<IPython.core.display.HTML object>"
      ]
     },
     "metadata": {},
     "output_type": "display_data"
    },
    {
     "data": {
      "text/html": [
       "\n",
       "        <div id=\"GkJMkkNaa22vXZPvMngCXW\"></div>\n",
       "        <script>netpixi.call('GkJMkkNaa22vXZPvMngCXW', 'Dds9NkHZmJ4Wk4MNSQYHbb', 'changeGraph', 'eyJpZCI6IDI3MCwgInR5cGUiOiAidmVydGV4IiwgInByb3BzIjogeyJjb2xvciI6IDE2NzExNjgwfX0K');</script>\n",
       "    "
      ],
      "text/plain": [
       "<IPython.core.display.HTML object>"
      ]
     },
     "metadata": {},
     "output_type": "display_data"
    },
    {
     "data": {
      "text/html": [
       "\n",
       "        <div id=\"KJ2G7ZGcZEx4jw8NXSbiJN\"></div>\n",
       "        <script>netpixi.call('KJ2G7ZGcZEx4jw8NXSbiJN', 'Dds9NkHZmJ4Wk4MNSQYHbb', 'changeGraph', 'eyJpZCI6IDI3MSwgInR5cGUiOiAidmVydGV4IiwgInByb3BzIjogeyJjb2xvciI6IDY1MjgwfX0K');</script>\n",
       "    "
      ],
      "text/plain": [
       "<IPython.core.display.HTML object>"
      ]
     },
     "metadata": {},
     "output_type": "display_data"
    },
    {
     "data": {
      "text/html": [
       "\n",
       "        <div id=\"nDJ6PQ5XoSjGpwxo42DfCh\"></div>\n",
       "        <script>netpixi.call('nDJ6PQ5XoSjGpwxo42DfCh', 'Dds9NkHZmJ4Wk4MNSQYHbb', 'changeGraph', 'eyJpZCI6IDI3MiwgInR5cGUiOiAidmVydGV4IiwgInByb3BzIjogeyJjb2xvciI6IDY1MjgwfX0K');</script>\n",
       "    "
      ],
      "text/plain": [
       "<IPython.core.display.HTML object>"
      ]
     },
     "metadata": {},
     "output_type": "display_data"
    },
    {
     "data": {
      "text/html": [
       "\n",
       "        <div id=\"8cDRVjWAYPgcHxuAxHZWA4\"></div>\n",
       "        <script>netpixi.call('8cDRVjWAYPgcHxuAxHZWA4', 'Dds9NkHZmJ4Wk4MNSQYHbb', 'changeGraph', 'eyJpZCI6IDI3MywgInR5cGUiOiAidmVydGV4IiwgInByb3BzIjogeyJjb2xvciI6IDY1MjgwfX0K');</script>\n",
       "    "
      ],
      "text/plain": [
       "<IPython.core.display.HTML object>"
      ]
     },
     "metadata": {},
     "output_type": "display_data"
    },
    {
     "data": {
      "text/html": [
       "\n",
       "        <div id=\"HbHp2NmEdkUvf6dDmrj5nt\"></div>\n",
       "        <script>netpixi.call('HbHp2NmEdkUvf6dDmrj5nt', 'Dds9NkHZmJ4Wk4MNSQYHbb', 'changeGraph', 'eyJpZCI6IDI3NCwgInR5cGUiOiAidmVydGV4IiwgInByb3BzIjogeyJjb2xvciI6IDE2NzExNjgwfX0K');</script>\n",
       "    "
      ],
      "text/plain": [
       "<IPython.core.display.HTML object>"
      ]
     },
     "metadata": {},
     "output_type": "display_data"
    },
    {
     "data": {
      "text/html": [
       "\n",
       "        <div id=\"oPBLAmxuh3VSwy8FJU9ujx\"></div>\n",
       "        <script>netpixi.call('oPBLAmxuh3VSwy8FJU9ujx', 'Dds9NkHZmJ4Wk4MNSQYHbb', 'changeGraph', 'eyJpZCI6IDI3NSwgInR5cGUiOiAidmVydGV4IiwgInByb3BzIjogeyJjb2xvciI6IDY1MjgwfX0K');</script>\n",
       "    "
      ],
      "text/plain": [
       "<IPython.core.display.HTML object>"
      ]
     },
     "metadata": {},
     "output_type": "display_data"
    },
    {
     "data": {
      "text/html": [
       "\n",
       "        <div id=\"hwgbmfAdv9MT8JvgEqF7rh\"></div>\n",
       "        <script>netpixi.call('hwgbmfAdv9MT8JvgEqF7rh', 'Dds9NkHZmJ4Wk4MNSQYHbb', 'changeGraph', 'eyJpZCI6IDI3NiwgInR5cGUiOiAidmVydGV4IiwgInByb3BzIjogeyJjb2xvciI6IDY1MjgwfX0K');</script>\n",
       "    "
      ],
      "text/plain": [
       "<IPython.core.display.HTML object>"
      ]
     },
     "metadata": {},
     "output_type": "display_data"
    },
    {
     "data": {
      "text/html": [
       "\n",
       "        <div id=\"TeXBsFcVxF9kmtsQs2oDw2\"></div>\n",
       "        <script>netpixi.call('TeXBsFcVxF9kmtsQs2oDw2', 'Dds9NkHZmJ4Wk4MNSQYHbb', 'changeGraph', 'eyJpZCI6IDI3NywgInR5cGUiOiAidmVydGV4IiwgInByb3BzIjogeyJjb2xvciI6IDY1MjgwfX0K');</script>\n",
       "    "
      ],
      "text/plain": [
       "<IPython.core.display.HTML object>"
      ]
     },
     "metadata": {},
     "output_type": "display_data"
    },
    {
     "data": {
      "text/html": [
       "\n",
       "        <div id=\"RWARAzQfFnQjbEYZ5yaNGK\"></div>\n",
       "        <script>netpixi.call('RWARAzQfFnQjbEYZ5yaNGK', 'Dds9NkHZmJ4Wk4MNSQYHbb', 'changeGraph', 'eyJpZCI6IDI3OCwgInR5cGUiOiAidmVydGV4IiwgInByb3BzIjogeyJjb2xvciI6IDY1MjgwfX0K');</script>\n",
       "    "
      ],
      "text/plain": [
       "<IPython.core.display.HTML object>"
      ]
     },
     "metadata": {},
     "output_type": "display_data"
    },
    {
     "data": {
      "text/html": [
       "\n",
       "        <div id=\"TFjrLrCaFAQXBQrQW4FcJb\"></div>\n",
       "        <script>netpixi.call('TFjrLrCaFAQXBQrQW4FcJb', 'Dds9NkHZmJ4Wk4MNSQYHbb', 'changeGraph', 'eyJpZCI6IDI3OSwgInR5cGUiOiAidmVydGV4IiwgInByb3BzIjogeyJjb2xvciI6IDE2NzExNjgwfX0K');</script>\n",
       "    "
      ],
      "text/plain": [
       "<IPython.core.display.HTML object>"
      ]
     },
     "metadata": {},
     "output_type": "display_data"
    },
    {
     "data": {
      "text/html": [
       "\n",
       "        <div id=\"ccmUacYqEaXxknyhL3Jrpt\"></div>\n",
       "        <script>netpixi.call('ccmUacYqEaXxknyhL3Jrpt', 'Dds9NkHZmJ4Wk4MNSQYHbb', 'changeGraph', 'eyJpZCI6IDI4MCwgInR5cGUiOiAidmVydGV4IiwgInByb3BzIjogeyJjb2xvciI6IDE2NzExNjgwfX0K');</script>\n",
       "    "
      ],
      "text/plain": [
       "<IPython.core.display.HTML object>"
      ]
     },
     "metadata": {},
     "output_type": "display_data"
    },
    {
     "data": {
      "text/html": [
       "\n",
       "        <div id=\"V84ywpSjUPM52jtWXCYaUL\"></div>\n",
       "        <script>netpixi.call('V84ywpSjUPM52jtWXCYaUL', 'Dds9NkHZmJ4Wk4MNSQYHbb', 'changeGraph', 'eyJpZCI6IDI4MSwgInR5cGUiOiAidmVydGV4IiwgInByb3BzIjogeyJjb2xvciI6IDY1MjgwfX0K');</script>\n",
       "    "
      ],
      "text/plain": [
       "<IPython.core.display.HTML object>"
      ]
     },
     "metadata": {},
     "output_type": "display_data"
    },
    {
     "data": {
      "text/html": [
       "\n",
       "        <div id=\"6MsEVdCAvsoFgpQhXbAZLR\"></div>\n",
       "        <script>netpixi.call('6MsEVdCAvsoFgpQhXbAZLR', 'Dds9NkHZmJ4Wk4MNSQYHbb', 'changeGraph', 'eyJpZCI6IDI4MiwgInR5cGUiOiAidmVydGV4IiwgInByb3BzIjogeyJjb2xvciI6IDE2NzExNjgwfX0K');</script>\n",
       "    "
      ],
      "text/plain": [
       "<IPython.core.display.HTML object>"
      ]
     },
     "metadata": {},
     "output_type": "display_data"
    },
    {
     "data": {
      "text/html": [
       "\n",
       "        <div id=\"LtEHvwJSkEG3PhC4fP9c8w\"></div>\n",
       "        <script>netpixi.call('LtEHvwJSkEG3PhC4fP9c8w', 'Dds9NkHZmJ4Wk4MNSQYHbb', 'changeGraph', 'eyJpZCI6IDI4MywgInR5cGUiOiAidmVydGV4IiwgInByb3BzIjogeyJjb2xvciI6IDY1MjgwfX0K');</script>\n",
       "    "
      ],
      "text/plain": [
       "<IPython.core.display.HTML object>"
      ]
     },
     "metadata": {},
     "output_type": "display_data"
    },
    {
     "data": {
      "text/html": [
       "\n",
       "        <div id=\"eEsVQzrmyCwLNPyHNiJfJM\"></div>\n",
       "        <script>netpixi.call('eEsVQzrmyCwLNPyHNiJfJM', 'Dds9NkHZmJ4Wk4MNSQYHbb', 'changeGraph', 'eyJpZCI6IDI4NCwgInR5cGUiOiAidmVydGV4IiwgInByb3BzIjogeyJjb2xvciI6IDY1MjgwfX0K');</script>\n",
       "    "
      ],
      "text/plain": [
       "<IPython.core.display.HTML object>"
      ]
     },
     "metadata": {},
     "output_type": "display_data"
    },
    {
     "data": {
      "text/html": [
       "\n",
       "        <div id=\"ShnSYpXSG2pTZpidutQYmM\"></div>\n",
       "        <script>netpixi.call('ShnSYpXSG2pTZpidutQYmM', 'Dds9NkHZmJ4Wk4MNSQYHbb', 'changeGraph', 'eyJpZCI6IDI4NSwgInR5cGUiOiAidmVydGV4IiwgInByb3BzIjogeyJjb2xvciI6IDY1MjgwfX0K');</script>\n",
       "    "
      ],
      "text/plain": [
       "<IPython.core.display.HTML object>"
      ]
     },
     "metadata": {},
     "output_type": "display_data"
    },
    {
     "data": {
      "text/html": [
       "\n",
       "        <div id=\"mdxw3X2rG9Lk8VB4vovVpx\"></div>\n",
       "        <script>netpixi.call('mdxw3X2rG9Lk8VB4vovVpx', 'Dds9NkHZmJ4Wk4MNSQYHbb', 'changeGraph', 'eyJpZCI6IDI4NiwgInR5cGUiOiAidmVydGV4IiwgInByb3BzIjogeyJjb2xvciI6IDY1MjgwfX0K');</script>\n",
       "    "
      ],
      "text/plain": [
       "<IPython.core.display.HTML object>"
      ]
     },
     "metadata": {},
     "output_type": "display_data"
    },
    {
     "data": {
      "text/html": [
       "\n",
       "        <div id=\"7N553R2sxqmyPSqeC2PjwF\"></div>\n",
       "        <script>netpixi.call('7N553R2sxqmyPSqeC2PjwF', 'Dds9NkHZmJ4Wk4MNSQYHbb', 'changeGraph', 'eyJpZCI6IDI4NywgInR5cGUiOiAidmVydGV4IiwgInByb3BzIjogeyJjb2xvciI6IDY1MjgwfX0K');</script>\n",
       "    "
      ],
      "text/plain": [
       "<IPython.core.display.HTML object>"
      ]
     },
     "metadata": {},
     "output_type": "display_data"
    },
    {
     "data": {
      "text/html": [
       "\n",
       "        <div id=\"kGMuG2TEM4CPPQDTCTDV2Q\"></div>\n",
       "        <script>netpixi.call('kGMuG2TEM4CPPQDTCTDV2Q', 'Dds9NkHZmJ4Wk4MNSQYHbb', 'changeGraph', 'eyJpZCI6IDI4OCwgInR5cGUiOiAidmVydGV4IiwgInByb3BzIjogeyJjb2xvciI6IDY1MjgwfX0K');</script>\n",
       "    "
      ],
      "text/plain": [
       "<IPython.core.display.HTML object>"
      ]
     },
     "metadata": {},
     "output_type": "display_data"
    },
    {
     "data": {
      "text/html": [
       "\n",
       "        <div id=\"dMr7jypaM4FnUKEsFh2a43\"></div>\n",
       "        <script>netpixi.call('dMr7jypaM4FnUKEsFh2a43', 'Dds9NkHZmJ4Wk4MNSQYHbb', 'changeGraph', 'eyJpZCI6IDI4OSwgInR5cGUiOiAidmVydGV4IiwgInByb3BzIjogeyJjb2xvciI6IDE2NzExNjgwfX0K');</script>\n",
       "    "
      ],
      "text/plain": [
       "<IPython.core.display.HTML object>"
      ]
     },
     "metadata": {},
     "output_type": "display_data"
    },
    {
     "data": {
      "text/html": [
       "\n",
       "        <div id=\"4hCXSGoSZRxkhHrPxkwrVP\"></div>\n",
       "        <script>netpixi.call('4hCXSGoSZRxkhHrPxkwrVP', 'Dds9NkHZmJ4Wk4MNSQYHbb', 'changeGraph', 'eyJpZCI6IDI5MCwgInR5cGUiOiAidmVydGV4IiwgInByb3BzIjogeyJjb2xvciI6IDY1MjgwfX0K');</script>\n",
       "    "
      ],
      "text/plain": [
       "<IPython.core.display.HTML object>"
      ]
     },
     "metadata": {},
     "output_type": "display_data"
    },
    {
     "data": {
      "text/html": [
       "\n",
       "        <div id=\"CfRmuJpQqpA9v4hkSvJQex\"></div>\n",
       "        <script>netpixi.call('CfRmuJpQqpA9v4hkSvJQex', 'Dds9NkHZmJ4Wk4MNSQYHbb', 'changeGraph', 'eyJpZCI6IDI5MSwgInR5cGUiOiAidmVydGV4IiwgInByb3BzIjogeyJjb2xvciI6IDE2NzExNjgwfX0K');</script>\n",
       "    "
      ],
      "text/plain": [
       "<IPython.core.display.HTML object>"
      ]
     },
     "metadata": {},
     "output_type": "display_data"
    },
    {
     "data": {
      "text/html": [
       "\n",
       "        <div id=\"n6sUbnZUKgMaA4RewFa272\"></div>\n",
       "        <script>netpixi.call('n6sUbnZUKgMaA4RewFa272', 'Dds9NkHZmJ4Wk4MNSQYHbb', 'changeGraph', 'eyJpZCI6IDI5MiwgInR5cGUiOiAidmVydGV4IiwgInByb3BzIjogeyJjb2xvciI6IDY1MjgwfX0K');</script>\n",
       "    "
      ],
      "text/plain": [
       "<IPython.core.display.HTML object>"
      ]
     },
     "metadata": {},
     "output_type": "display_data"
    },
    {
     "data": {
      "text/html": [
       "\n",
       "        <div id=\"UsebZYfMbQMqubCxwgzpCk\"></div>\n",
       "        <script>netpixi.call('UsebZYfMbQMqubCxwgzpCk', 'Dds9NkHZmJ4Wk4MNSQYHbb', 'changeGraph', 'eyJpZCI6IDI5MywgInR5cGUiOiAidmVydGV4IiwgInByb3BzIjogeyJjb2xvciI6IDE2NzExNjgwfX0K');</script>\n",
       "    "
      ],
      "text/plain": [
       "<IPython.core.display.HTML object>"
      ]
     },
     "metadata": {},
     "output_type": "display_data"
    },
    {
     "data": {
      "text/html": [
       "\n",
       "        <div id=\"CcPvyWkZnG4NndCHFr8H2A\"></div>\n",
       "        <script>netpixi.call('CcPvyWkZnG4NndCHFr8H2A', 'Dds9NkHZmJ4Wk4MNSQYHbb', 'changeGraph', 'eyJpZCI6IDI5NCwgInR5cGUiOiAidmVydGV4IiwgInByb3BzIjogeyJjb2xvciI6IDY1MjgwfX0K');</script>\n",
       "    "
      ],
      "text/plain": [
       "<IPython.core.display.HTML object>"
      ]
     },
     "metadata": {},
     "output_type": "display_data"
    },
    {
     "data": {
      "text/html": [
       "\n",
       "        <div id=\"ChGsmjyZF7WKfE28QnnfAt\"></div>\n",
       "        <script>netpixi.call('ChGsmjyZF7WKfE28QnnfAt', 'Dds9NkHZmJ4Wk4MNSQYHbb', 'changeGraph', 'eyJpZCI6IDI5NSwgInR5cGUiOiAidmVydGV4IiwgInByb3BzIjogeyJjb2xvciI6IDY1MjgwfX0K');</script>\n",
       "    "
      ],
      "text/plain": [
       "<IPython.core.display.HTML object>"
      ]
     },
     "metadata": {},
     "output_type": "display_data"
    },
    {
     "data": {
      "text/html": [
       "\n",
       "        <div id=\"XCVuqujx8KSwuDBbUhWCFs\"></div>\n",
       "        <script>netpixi.call('XCVuqujx8KSwuDBbUhWCFs', 'Dds9NkHZmJ4Wk4MNSQYHbb', 'changeGraph', 'eyJpZCI6IDI5NiwgInR5cGUiOiAidmVydGV4IiwgInByb3BzIjogeyJjb2xvciI6IDE2NzExNjgwfX0K');</script>\n",
       "    "
      ],
      "text/plain": [
       "<IPython.core.display.HTML object>"
      ]
     },
     "metadata": {},
     "output_type": "display_data"
    },
    {
     "data": {
      "text/html": [
       "\n",
       "        <div id=\"RASUdoFanKHYMQ4ejJkmnE\"></div>\n",
       "        <script>netpixi.call('RASUdoFanKHYMQ4ejJkmnE', 'Dds9NkHZmJ4Wk4MNSQYHbb', 'changeGraph', 'eyJpZCI6IDI5NywgInR5cGUiOiAidmVydGV4IiwgInByb3BzIjogeyJjb2xvciI6IDY1MjgwfX0K');</script>\n",
       "    "
      ],
      "text/plain": [
       "<IPython.core.display.HTML object>"
      ]
     },
     "metadata": {},
     "output_type": "display_data"
    },
    {
     "data": {
      "text/html": [
       "\n",
       "        <div id=\"QBozDdbxxNWyodt4MtcXfN\"></div>\n",
       "        <script>netpixi.call('QBozDdbxxNWyodt4MtcXfN', 'Dds9NkHZmJ4Wk4MNSQYHbb', 'changeGraph', 'eyJpZCI6IDI5OCwgInR5cGUiOiAidmVydGV4IiwgInByb3BzIjogeyJjb2xvciI6IDY1MjgwfX0K');</script>\n",
       "    "
      ],
      "text/plain": [
       "<IPython.core.display.HTML object>"
      ]
     },
     "metadata": {},
     "output_type": "display_data"
    }
   ],
   "source": [
    "import cpnet\n",
    "\n",
    "from graph_tool import spectral\n",
    "\n",
    "matrix = spectral.adjacency(g)\n",
    "\n",
    "# Além de cpnet.Surprise, há outras\n",
    "# opções de algoritmos discretos:\n",
    "# cpnet.BE\n",
    "# cpnet.Lip\n",
    "# cpnet.LapCore\n",
    "# cpnet.LapSgnCore\n",
    "# cpnet.LowRankCore\n",
    "lista2 = []\n",
    "\n",
    "\n",
    "algorithm = cpnet.Surprise()\n",
    "algorithm.detect(matrix)\n",
    "c = algorithm.get_coreness()\n",
    "\n",
    "# Depois do código acima, c é um dicionário\n",
    "# em que as chaves são índices de vértices e\n",
    "# valores são os atribuídos pelo algoritmo.\n",
    "\n",
    "g.add_vp('core')\n",
    "for i, coreness in c.items():\n",
    "    v = g.get_vertex_by_index(i)\n",
    "    v['core'] = int(coreness)\n",
    "    lista2.append(int(coreness))\n",
    "\n",
    "\n",
    "df_nodes['coreness2'] = lista2\n",
    "# Vamos pintar de vermelho todos os vértices\n",
    "# identificados como centro e de verde todos\n",
    "# os vértices identificados como periferia.\n",
    "    \n",
    "for v in g.all_vertices():\n",
    "    if v['core'] == 1:\n",
    "        r.vertex(v['id'], color=0xff0000)\n",
    "    else:\n",
    "        r.vertex(v['id'], color=0x00ff00)\n",
    "    \n",
    "\n",
    "# Quando a execução desta célula terminar,\n",
    "# veja como ficou a visualização acima."
   ]
  },
  {
   "cell_type": "code",
   "execution_count": null,
   "metadata": {},
   "outputs": [],
   "source": [
    "print(c.items())"
   ]
  },
  {
   "cell_type": "code",
   "execution_count": 138,
   "metadata": {},
   "outputs": [
    {
     "data": {
      "text/html": [
       "<div>\n",
       "<style scoped>\n",
       "    .dataframe tbody tr th:only-of-type {\n",
       "        vertical-align: middle;\n",
       "    }\n",
       "\n",
       "    .dataframe tbody tr th {\n",
       "        vertical-align: top;\n",
       "    }\n",
       "\n",
       "    .dataframe thead th {\n",
       "        text-align: right;\n",
       "    }\n",
       "</style>\n",
       "<table border=\"1\" class=\"dataframe\">\n",
       "  <thead>\n",
       "    <tr style=\"text-align: right;\">\n",
       "      <th></th>\n",
       "      <th>id</th>\n",
       "      <th>Tags</th>\n",
       "      <th>MetacriticScore</th>\n",
       "      <th>coreness</th>\n",
       "      <th>coreness2</th>\n",
       "    </tr>\n",
       "  </thead>\n",
       "  <tbody>\n",
       "    <tr>\n",
       "      <th>0</th>\n",
       "      <td>0</td>\n",
       "      <td>[Rhythm, VR, Multiplayer, Music, Racing, PvP, ...</td>\n",
       "      <td>87</td>\n",
       "      <td>0.079498</td>\n",
       "      <td>0</td>\n",
       "    </tr>\n",
       "    <tr>\n",
       "      <th>1</th>\n",
       "      <td>1</td>\n",
       "      <td>[Management, Simulation, Anime, Sexual Content...</td>\n",
       "      <td>73</td>\n",
       "      <td>0.066946</td>\n",
       "      <td>0</td>\n",
       "    </tr>\n",
       "    <tr>\n",
       "      <th>2</th>\n",
       "      <td>2</td>\n",
       "      <td>[Casual, Simulation, Strategy, Indie, Manageme...</td>\n",
       "      <td>87</td>\n",
       "      <td>0.105649</td>\n",
       "      <td>0</td>\n",
       "    </tr>\n",
       "    <tr>\n",
       "      <th>3</th>\n",
       "      <td>3</td>\n",
       "      <td>[Puzzle, Difficult, Indie, Singleplayer, Sokob...</td>\n",
       "      <td>76</td>\n",
       "      <td>0.158996</td>\n",
       "      <td>0</td>\n",
       "    </tr>\n",
       "    <tr>\n",
       "      <th>4</th>\n",
       "      <td>4</td>\n",
       "      <td>[RPG, Choices Matter, Story Rich, Detective, T...</td>\n",
       "      <td>67</td>\n",
       "      <td>0.216527</td>\n",
       "      <td>1</td>\n",
       "    </tr>\n",
       "    <tr>\n",
       "      <th>...</th>\n",
       "      <td>...</td>\n",
       "      <td>...</td>\n",
       "      <td>...</td>\n",
       "      <td>...</td>\n",
       "      <td>...</td>\n",
       "    </tr>\n",
       "    <tr>\n",
       "      <th>294</th>\n",
       "      <td>294</td>\n",
       "      <td>[Strategy, Post-apocalyptic, Survival, Colony ...</td>\n",
       "      <td>76</td>\n",
       "      <td>0.059623</td>\n",
       "      <td>0</td>\n",
       "    </tr>\n",
       "    <tr>\n",
       "      <th>295</th>\n",
       "      <td>295</td>\n",
       "      <td>[Atmospheric, Resource Management, Simulation,...</td>\n",
       "      <td>78</td>\n",
       "      <td>0.077406</td>\n",
       "      <td>0</td>\n",
       "    </tr>\n",
       "    <tr>\n",
       "      <th>296</th>\n",
       "      <td>296</td>\n",
       "      <td>[Metroidvania, Female Protagonist, Shoot 'Em U...</td>\n",
       "      <td>82</td>\n",
       "      <td>0.224895</td>\n",
       "      <td>1</td>\n",
       "    </tr>\n",
       "    <tr>\n",
       "      <th>297</th>\n",
       "      <td>297</td>\n",
       "      <td>[Colony Sim, Indie, Pixel Graphics, Simulation...</td>\n",
       "      <td>93</td>\n",
       "      <td>0.074268</td>\n",
       "      <td>0</td>\n",
       "    </tr>\n",
       "    <tr>\n",
       "      <th>298</th>\n",
       "      <td>298</td>\n",
       "      <td>[Indie, Rhythm, Action, Hand-drawn, Colorful, ...</td>\n",
       "      <td>81</td>\n",
       "      <td>0.145397</td>\n",
       "      <td>0</td>\n",
       "    </tr>\n",
       "  </tbody>\n",
       "</table>\n",
       "<p>299 rows × 5 columns</p>\n",
       "</div>"
      ],
      "text/plain": [
       "      id                                               Tags  MetacriticScore  \\\n",
       "0      0  [Rhythm, VR, Multiplayer, Music, Racing, PvP, ...               87   \n",
       "1      1  [Management, Simulation, Anime, Sexual Content...               73   \n",
       "2      2  [Casual, Simulation, Strategy, Indie, Manageme...               87   \n",
       "3      3  [Puzzle, Difficult, Indie, Singleplayer, Sokob...               76   \n",
       "4      4  [RPG, Choices Matter, Story Rich, Detective, T...               67   \n",
       "..   ...                                                ...              ...   \n",
       "294  294  [Strategy, Post-apocalyptic, Survival, Colony ...               76   \n",
       "295  295  [Atmospheric, Resource Management, Simulation,...               78   \n",
       "296  296  [Metroidvania, Female Protagonist, Shoot 'Em U...               82   \n",
       "297  297  [Colony Sim, Indie, Pixel Graphics, Simulation...               93   \n",
       "298  298  [Indie, Rhythm, Action, Hand-drawn, Colorful, ...               81   \n",
       "\n",
       "     coreness  coreness2  \n",
       "0    0.079498          0  \n",
       "1    0.066946          0  \n",
       "2    0.105649          0  \n",
       "3    0.158996          0  \n",
       "4    0.216527          1  \n",
       "..        ...        ...  \n",
       "294  0.059623          0  \n",
       "295  0.077406          0  \n",
       "296  0.224895          1  \n",
       "297  0.074268          0  \n",
       "298  0.145397          0  \n",
       "\n",
       "[299 rows x 5 columns]"
      ]
     },
     "execution_count": 138,
     "metadata": {},
     "output_type": "execute_result"
    }
   ],
   "source": [
    "df_nodes"
   ]
  },
  {
   "cell_type": "code",
   "execution_count": 132,
   "metadata": {},
   "outputs": [
    {
     "data": {
      "text/html": [
       "\n",
       "        <div id=\"CULsVm5dzqiaXpCrk9SkTm\"></div>\n",
       "        <script>netpixi.call('CULsVm5dzqiaXpCrk9SkTm', 'Dds9NkHZmJ4Wk4MNSQYHbb', 'changeGraph', 'eyJpZCI6IDAsICJ0eXBlIjogInZlcnRleCIsICJwcm9wcyI6IHsic2l6ZSI6IDEzLjE3OTkxNjMxNzk5MTYzMn19Cg==');</script>\n",
       "    "
      ],
      "text/plain": [
       "<IPython.core.display.HTML object>"
      ]
     },
     "metadata": {},
     "output_type": "display_data"
    },
    {
     "data": {
      "text/html": [
       "\n",
       "        <div id=\"87jPi9XSaFV9f9DFgDF4a3\"></div>\n",
       "        <script>netpixi.call('87jPi9XSaFV9f9DFgDF4a3', 'Dds9NkHZmJ4Wk4MNSQYHbb', 'changeGraph', 'eyJpZCI6IDg3LCAidHlwZSI6ICJ2ZXJ0ZXgiLCAicHJvcHMiOiB7ImNvbG9yIjogMTY3MTE2ODB9fQo=');</script>\n",
       "    "
      ],
      "text/plain": [
       "<IPython.core.display.HTML object>"
      ]
     },
     "metadata": {},
     "output_type": "display_data"
    },
    {
     "data": {
      "text/html": [
       "\n",
       "        <div id=\"2H3vNuK4LBv2AhCkFHQApr\"></div>\n",
       "        <script>netpixi.call('2H3vNuK4LBv2AhCkFHQApr', 'Dds9NkHZmJ4Wk4MNSQYHbb', 'changeGraph', 'eyJpZCI6IDEsICJ0eXBlIjogInZlcnRleCIsICJwcm9wcyI6IHsic2l6ZSI6IDEyLjY3NzgyNDI2Nzc4MjQyN319Cg==');</script>\n",
       "    "
      ],
      "text/plain": [
       "<IPython.core.display.HTML object>"
      ]
     },
     "metadata": {},
     "output_type": "display_data"
    },
    {
     "data": {
      "text/html": [
       "\n",
       "        <div id=\"cFJ8QUzGqgs9nYPqQrbTFf\"></div>\n",
       "        <script>netpixi.call('cFJ8QUzGqgs9nYPqQrbTFf', 'Dds9NkHZmJ4Wk4MNSQYHbb', 'changeGraph', 'eyJpZCI6IDczLCAidHlwZSI6ICJ2ZXJ0ZXgiLCAicHJvcHMiOiB7ImNvbG9yIjogMTY3MTE2ODB9fQo=');</script>\n",
       "    "
      ],
      "text/plain": [
       "<IPython.core.display.HTML object>"
      ]
     },
     "metadata": {},
     "output_type": "display_data"
    },
    {
     "data": {
      "text/html": [
       "\n",
       "        <div id=\"j5KbuPZyto9RdUThE5496G\"></div>\n",
       "        <script>netpixi.call('j5KbuPZyto9RdUThE5496G', 'Dds9NkHZmJ4Wk4MNSQYHbb', 'changeGraph', 'eyJpZCI6IDIsICJ0eXBlIjogInZlcnRleCIsICJwcm9wcyI6IHsic2l6ZSI6IDE0LjIyNTk0MTQyMjU5NDE0Mn19Cg==');</script>\n",
       "    "
      ],
      "text/plain": [
       "<IPython.core.display.HTML object>"
      ]
     },
     "metadata": {},
     "output_type": "display_data"
    },
    {
     "data": {
      "text/html": [
       "\n",
       "        <div id=\"kdu5caJFDFKTcwQm2YbDF3\"></div>\n",
       "        <script>netpixi.call('kdu5caJFDFKTcwQm2YbDF3', 'Dds9NkHZmJ4Wk4MNSQYHbb', 'changeGraph', 'eyJpZCI6IDg3LCAidHlwZSI6ICJ2ZXJ0ZXgiLCAicHJvcHMiOiB7ImNvbG9yIjogMTY3MTE2ODB9fQo=');</script>\n",
       "    "
      ],
      "text/plain": [
       "<IPython.core.display.HTML object>"
      ]
     },
     "metadata": {},
     "output_type": "display_data"
    },
    {
     "data": {
      "text/html": [
       "\n",
       "        <div id=\"X3mjGqtC4ocQGkCwAPgt7o\"></div>\n",
       "        <script>netpixi.call('X3mjGqtC4ocQGkCwAPgt7o', 'Dds9NkHZmJ4Wk4MNSQYHbb', 'changeGraph', 'eyJpZCI6IDMsICJ0eXBlIjogInZlcnRleCIsICJwcm9wcyI6IHsic2l6ZSI6IDE2LjM1OTgzMjYzNTk4MzI2M319Cg==');</script>\n",
       "    "
      ],
      "text/plain": [
       "<IPython.core.display.HTML object>"
      ]
     },
     "metadata": {},
     "output_type": "display_data"
    },
    {
     "data": {
      "text/html": [
       "\n",
       "        <div id=\"Va7WrzxyDXfJK6ijmK48Jd\"></div>\n",
       "        <script>netpixi.call('Va7WrzxyDXfJK6ijmK48Jd', 'Dds9NkHZmJ4Wk4MNSQYHbb', 'changeGraph', 'eyJpZCI6IDc2LCAidHlwZSI6ICJ2ZXJ0ZXgiLCAicHJvcHMiOiB7ImNvbG9yIjogMTY3MTE2ODB9fQo=');</script>\n",
       "    "
      ],
      "text/plain": [
       "<IPython.core.display.HTML object>"
      ]
     },
     "metadata": {},
     "output_type": "display_data"
    },
    {
     "data": {
      "text/html": [
       "\n",
       "        <div id=\"hZ8h5XyBVrJ2vhPyC8QXk3\"></div>\n",
       "        <script>netpixi.call('hZ8h5XyBVrJ2vhPyC8QXk3', 'Dds9NkHZmJ4Wk4MNSQYHbb', 'changeGraph', 'eyJpZCI6IDQsICJ0eXBlIjogInZlcnRleCIsICJwcm9wcyI6IHsic2l6ZSI6IDE4LjY2MTA4Nzg2NjEwODc4N319Cg==');</script>\n",
       "    "
      ],
      "text/plain": [
       "<IPython.core.display.HTML object>"
      ]
     },
     "metadata": {},
     "output_type": "display_data"
    },
    {
     "data": {
      "text/html": [
       "\n",
       "        <div id=\"Ruawfcd8BNQBmUMxVcbnt9\"></div>\n",
       "        <script>netpixi.call('Ruawfcd8BNQBmUMxVcbnt9', 'Dds9NkHZmJ4Wk4MNSQYHbb', 'changeGraph', 'eyJpZCI6IDY3LCAidHlwZSI6ICJ2ZXJ0ZXgiLCAicHJvcHMiOiB7ImNvbG9yIjogMTY3MTE2ODB9fQo=');</script>\n",
       "    "
      ],
      "text/plain": [
       "<IPython.core.display.HTML object>"
      ]
     },
     "metadata": {},
     "output_type": "display_data"
    },
    {
     "data": {
      "text/html": [
       "\n",
       "        <div id=\"nyNYSTswPA6tKtSrW7NCsA\"></div>\n",
       "        <script>netpixi.call('nyNYSTswPA6tKtSrW7NCsA', 'Dds9NkHZmJ4Wk4MNSQYHbb', 'changeGraph', 'eyJpZCI6IDUsICJ0eXBlIjogInZlcnRleCIsICJwcm9wcyI6IHsic2l6ZSI6IDEyLjU1MjMwMTI1NTIzMDEyNX19Cg==');</script>\n",
       "    "
      ],
      "text/plain": [
       "<IPython.core.display.HTML object>"
      ]
     },
     "metadata": {},
     "output_type": "display_data"
    },
    {
     "data": {
      "text/html": [
       "\n",
       "        <div id=\"VpDDZPyayBZ3AshAHsp9RS\"></div>\n",
       "        <script>netpixi.call('VpDDZPyayBZ3AshAHsp9RS', 'Dds9NkHZmJ4Wk4MNSQYHbb', 'changeGraph', 'eyJpZCI6IDcxLCAidHlwZSI6ICJ2ZXJ0ZXgiLCAicHJvcHMiOiB7ImNvbG9yIjogMTY3MTE2ODB9fQo=');</script>\n",
       "    "
      ],
      "text/plain": [
       "<IPython.core.display.HTML object>"
      ]
     },
     "metadata": {},
     "output_type": "display_data"
    },
    {
     "data": {
      "text/html": [
       "\n",
       "        <div id=\"EyJG6UTzdHVKuqDi9U7KHM\"></div>\n",
       "        <script>netpixi.call('EyJG6UTzdHVKuqDi9U7KHM', 'Dds9NkHZmJ4Wk4MNSQYHbb', 'changeGraph', 'eyJpZCI6IDYsICJ0eXBlIjogInZlcnRleCIsICJwcm9wcyI6IHsic2l6ZSI6IDE0LjM1MTQ2NDQzNTE0NjQ0M319Cg==');</script>\n",
       "    "
      ],
      "text/plain": [
       "<IPython.core.display.HTML object>"
      ]
     },
     "metadata": {},
     "output_type": "display_data"
    },
    {
     "data": {
      "text/html": [
       "\n",
       "        <div id=\"DzyNCqKj2upc3d2saZm9t2\"></div>\n",
       "        <script>netpixi.call('DzyNCqKj2upc3d2saZm9t2', 'Dds9NkHZmJ4Wk4MNSQYHbb', 'changeGraph', 'eyJpZCI6IDg3LCAidHlwZSI6ICJ2ZXJ0ZXgiLCAicHJvcHMiOiB7ImNvbG9yIjogMTY3MTE2ODB9fQo=');</script>\n",
       "    "
      ],
      "text/plain": [
       "<IPython.core.display.HTML object>"
      ]
     },
     "metadata": {},
     "output_type": "display_data"
    },
    {
     "data": {
      "text/html": [
       "\n",
       "        <div id=\"3YGgLgUTFuELBvsPGe7XES\"></div>\n",
       "        <script>netpixi.call('3YGgLgUTFuELBvsPGe7XES', 'Dds9NkHZmJ4Wk4MNSQYHbb', 'changeGraph', 'eyJpZCI6IDcsICJ0eXBlIjogInZlcnRleCIsICJwcm9wcyI6IHsic2l6ZSI6IDE4LjIwMDgzNjgyMDA4MzY4fX0K');</script>\n",
       "    "
      ],
      "text/plain": [
       "<IPython.core.display.HTML object>"
      ]
     },
     "metadata": {},
     "output_type": "display_data"
    },
    {
     "data": {
      "text/html": [
       "\n",
       "        <div id=\"LZFRhfpVkSwLtsAuw5XJBy\"></div>\n",
       "        <script>netpixi.call('LZFRhfpVkSwLtsAuw5XJBy', 'Dds9NkHZmJ4Wk4MNSQYHbb', 'changeGraph', 'eyJpZCI6IDcwLCAidHlwZSI6ICJ2ZXJ0ZXgiLCAicHJvcHMiOiB7ImNvbG9yIjogMTY3MTE2ODB9fQo=');</script>\n",
       "    "
      ],
      "text/plain": [
       "<IPython.core.display.HTML object>"
      ]
     },
     "metadata": {},
     "output_type": "display_data"
    },
    {
     "data": {
      "text/html": [
       "\n",
       "        <div id=\"fytTctJoh7KYrANSJUdZjZ\"></div>\n",
       "        <script>netpixi.call('fytTctJoh7KYrANSJUdZjZ', 'Dds9NkHZmJ4Wk4MNSQYHbb', 'changeGraph', 'eyJpZCI6IDgsICJ0eXBlIjogInZlcnRleCIsICJwcm9wcyI6IHsic2l6ZSI6IDE0LjE4NDEwMDQxODQxMDA0Mn19Cg==');</script>\n",
       "    "
      ],
      "text/plain": [
       "<IPython.core.display.HTML object>"
      ]
     },
     "metadata": {},
     "output_type": "display_data"
    },
    {
     "data": {
      "text/html": [
       "\n",
       "        <div id=\"CSD3sVVovBg9qGBDidSgyB\"></div>\n",
       "        <script>netpixi.call('CSD3sVVovBg9qGBDidSgyB', 'Dds9NkHZmJ4Wk4MNSQYHbb', 'changeGraph', 'eyJpZCI6IDc1LCAidHlwZSI6ICJ2ZXJ0ZXgiLCAicHJvcHMiOiB7ImNvbG9yIjogMTY3MTE2ODB9fQo=');</script>\n",
       "    "
      ],
      "text/plain": [
       "<IPython.core.display.HTML object>"
      ]
     },
     "metadata": {},
     "output_type": "display_data"
    },
    {
     "data": {
      "text/html": [
       "\n",
       "        <div id=\"JZfVQLSftnuPM9vcRJhvab\"></div>\n",
       "        <script>netpixi.call('JZfVQLSftnuPM9vcRJhvab', 'Dds9NkHZmJ4Wk4MNSQYHbb', 'changeGraph', 'eyJpZCI6IDksICJ0eXBlIjogInZlcnRleCIsICJwcm9wcyI6IHsic2l6ZSI6IDE3LjY1NjkwMzc2NTY5MDM3N319Cg==');</script>\n",
       "    "
      ],
      "text/plain": [
       "<IPython.core.display.HTML object>"
      ]
     },
     "metadata": {},
     "output_type": "display_data"
    },
    {
     "data": {
      "text/html": [
       "\n",
       "        <div id=\"JXLuuWti2vQX3un7L9qsHY\"></div>\n",
       "        <script>netpixi.call('JXLuuWti2vQX3un7L9qsHY', 'Dds9NkHZmJ4Wk4MNSQYHbb', 'changeGraph', 'eyJpZCI6IDY1LCAidHlwZSI6ICJ2ZXJ0ZXgiLCAicHJvcHMiOiB7ImNvbG9yIjogMTY3MTE2ODB9fQo=');</script>\n",
       "    "
      ],
      "text/plain": [
       "<IPython.core.display.HTML object>"
      ]
     },
     "metadata": {},
     "output_type": "display_data"
    },
    {
     "data": {
      "text/html": [
       "\n",
       "        <div id=\"EGyxZTMjKew99GVU8xS8iu\"></div>\n",
       "        <script>netpixi.call('EGyxZTMjKew99GVU8xS8iu', 'Dds9NkHZmJ4Wk4MNSQYHbb', 'changeGraph', 'eyJpZCI6IDEwLCAidHlwZSI6ICJ2ZXJ0ZXgiLCAicHJvcHMiOiB7InNpemUiOiAxMy40MzA5NjIzNDMwOTYyMzN9fQo=');</script>\n",
       "    "
      ],
      "text/plain": [
       "<IPython.core.display.HTML object>"
      ]
     },
     "metadata": {},
     "output_type": "display_data"
    },
    {
     "data": {
      "text/html": [
       "\n",
       "        <div id=\"MMLqCnFP8BjBrm7aDuAkSB\"></div>\n",
       "        <script>netpixi.call('MMLqCnFP8BjBrm7aDuAkSB', 'Dds9NkHZmJ4Wk4MNSQYHbb', 'changeGraph', 'eyJpZCI6IDgyLCAidHlwZSI6ICJ2ZXJ0ZXgiLCAicHJvcHMiOiB7ImNvbG9yIjogMTY3MTE2ODB9fQo=');</script>\n",
       "    "
      ],
      "text/plain": [
       "<IPython.core.display.HTML object>"
      ]
     },
     "metadata": {},
     "output_type": "display_data"
    },
    {
     "data": {
      "text/html": [
       "\n",
       "        <div id=\"DDMjcX7T4E7kFqZTQMroBD\"></div>\n",
       "        <script>netpixi.call('DDMjcX7T4E7kFqZTQMroBD', 'Dds9NkHZmJ4Wk4MNSQYHbb', 'changeGraph', 'eyJpZCI6IDExLCAidHlwZSI6ICJ2ZXJ0ZXgiLCAicHJvcHMiOiB7InNpemUiOiAxNS45ODMyNjM1OTgzMjYzNn19Cg==');</script>\n",
       "    "
      ],
      "text/plain": [
       "<IPython.core.display.HTML object>"
      ]
     },
     "metadata": {},
     "output_type": "display_data"
    },
    {
     "data": {
      "text/html": [
       "\n",
       "        <div id=\"4RZAFcxTwPiHqFUxxAzzDE\"></div>\n",
       "        <script>netpixi.call('4RZAFcxTwPiHqFUxxAzzDE', 'Dds9NkHZmJ4Wk4MNSQYHbb', 'changeGraph', 'eyJpZCI6IDY0LCAidHlwZSI6ICJ2ZXJ0ZXgiLCAicHJvcHMiOiB7ImNvbG9yIjogMTY3MTE2ODB9fQo=');</script>\n",
       "    "
      ],
      "text/plain": [
       "<IPython.core.display.HTML object>"
      ]
     },
     "metadata": {},
     "output_type": "display_data"
    },
    {
     "data": {
      "text/html": [
       "\n",
       "        <div id=\"BzbKoZrSsdzs7cqHmaEL46\"></div>\n",
       "        <script>netpixi.call('BzbKoZrSsdzs7cqHmaEL46', 'Dds9NkHZmJ4Wk4MNSQYHbb', 'changeGraph', 'eyJpZCI6IDEyLCAidHlwZSI6ICJ2ZXJ0ZXgiLCAicHJvcHMiOiB7InNpemUiOiAxNS41MjMwMTI1NTIzMDEyNTV9fQo=');</script>\n",
       "    "
      ],
      "text/plain": [
       "<IPython.core.display.HTML object>"
      ]
     },
     "metadata": {},
     "output_type": "display_data"
    },
    {
     "data": {
      "text/html": [
       "\n",
       "        <div id=\"GztY7siYFzr3WaGqvY6hPN\"></div>\n",
       "        <script>netpixi.call('GztY7siYFzr3WaGqvY6hPN', 'Dds9NkHZmJ4Wk4MNSQYHbb', 'changeGraph', 'eyJpZCI6IDgzLCAidHlwZSI6ICJ2ZXJ0ZXgiLCAicHJvcHMiOiB7ImNvbG9yIjogMTY3MTE2ODB9fQo=');</script>\n",
       "    "
      ],
      "text/plain": [
       "<IPython.core.display.HTML object>"
      ]
     },
     "metadata": {},
     "output_type": "display_data"
    },
    {
     "data": {
      "text/html": [
       "\n",
       "        <div id=\"54ZWwDZnvFJNFvhPj3tSob\"></div>\n",
       "        <script>netpixi.call('54ZWwDZnvFJNFvhPj3tSob', 'Dds9NkHZmJ4Wk4MNSQYHbb', 'changeGraph', 'eyJpZCI6IDEzLCAidHlwZSI6ICJ2ZXJ0ZXgiLCAicHJvcHMiOiB7InNpemUiOiA0NC42NjY2NjY2NjY2NjY2N319Cg==');</script>\n",
       "    "
      ],
      "text/plain": [
       "<IPython.core.display.HTML object>"
      ]
     },
     "metadata": {},
     "output_type": "display_data"
    },
    {
     "data": {
      "text/html": [
       "\n",
       "        <div id=\"59zQj24hA27jK6SCAaoing\"></div>\n",
       "        <script>netpixi.call('59zQj24hA27jK6SCAaoing', 'Dds9NkHZmJ4Wk4MNSQYHbb', 'changeGraph', 'eyJpZCI6IDc0LCAidHlwZSI6ICJ2ZXJ0ZXgiLCAicHJvcHMiOiB7ImNvbG9yIjogMTY3MTE2ODB9fQo=');</script>\n",
       "    "
      ],
      "text/plain": [
       "<IPython.core.display.HTML object>"
      ]
     },
     "metadata": {},
     "output_type": "display_data"
    },
    {
     "data": {
      "text/html": [
       "\n",
       "        <div id=\"h2zqAhuEfrKfrmNSeHjimu\"></div>\n",
       "        <script>netpixi.call('h2zqAhuEfrKfrmNSeHjimu', 'Dds9NkHZmJ4Wk4MNSQYHbb', 'changeGraph', 'eyJpZCI6IDE0LCAidHlwZSI6ICJ2ZXJ0ZXgiLCAicHJvcHMiOiB7InNpemUiOiAxMi40MjY3NzgyNDI2Nzc4MjN9fQo=');</script>\n",
       "    "
      ],
      "text/plain": [
       "<IPython.core.display.HTML object>"
      ]
     },
     "metadata": {},
     "output_type": "display_data"
    },
    {
     "data": {
      "text/html": [
       "\n",
       "        <div id=\"Q7D7TzYFcTUzgcCDXAcuRt\"></div>\n",
       "        <script>netpixi.call('Q7D7TzYFcTUzgcCDXAcuRt', 'Dds9NkHZmJ4Wk4MNSQYHbb', 'changeGraph', 'eyJpZCI6IDUyLCAidHlwZSI6ICJ2ZXJ0ZXgiLCAicHJvcHMiOiB7ImNvbG9yIjogMTY3MTE2ODB9fQo=');</script>\n",
       "    "
      ],
      "text/plain": [
       "<IPython.core.display.HTML object>"
      ]
     },
     "metadata": {},
     "output_type": "display_data"
    },
    {
     "data": {
      "text/html": [
       "\n",
       "        <div id=\"6zLYpb4AMAQsMVrDxhausQ\"></div>\n",
       "        <script>netpixi.call('6zLYpb4AMAQsMVrDxhausQ', 'Dds9NkHZmJ4Wk4MNSQYHbb', 'changeGraph', 'eyJpZCI6IDE1LCAidHlwZSI6ICJ2ZXJ0ZXgiLCAicHJvcHMiOiB7InNpemUiOiAxNC42MDI1MTA0NjAyNTEwNDd9fQo=');</script>\n",
       "    "
      ],
      "text/plain": [
       "<IPython.core.display.HTML object>"
      ]
     },
     "metadata": {},
     "output_type": "display_data"
    },
    {
     "data": {
      "text/html": [
       "\n",
       "        <div id=\"W97KeVdDtAZWYRrLKDRYw6\"></div>\n",
       "        <script>netpixi.call('W97KeVdDtAZWYRrLKDRYw6', 'Dds9NkHZmJ4Wk4MNSQYHbb', 'changeGraph', 'eyJpZCI6IDg0LCAidHlwZSI6ICJ2ZXJ0ZXgiLCAicHJvcHMiOiB7ImNvbG9yIjogMTY3MTE2ODB9fQo=');</script>\n",
       "    "
      ],
      "text/plain": [
       "<IPython.core.display.HTML object>"
      ]
     },
     "metadata": {},
     "output_type": "display_data"
    },
    {
     "data": {
      "text/html": [
       "\n",
       "        <div id=\"24VEdXZUGcQU6Vy4PrXcbp\"></div>\n",
       "        <script>netpixi.call('24VEdXZUGcQU6Vy4PrXcbp', 'Dds9NkHZmJ4Wk4MNSQYHbb', 'changeGraph', 'eyJpZCI6IDE2LCAidHlwZSI6ICJ2ZXJ0ZXgiLCAicHJvcHMiOiB7InNpemUiOiAxOC44Mjg0NTE4ODI4NDUxODd9fQo=');</script>\n",
       "    "
      ],
      "text/plain": [
       "<IPython.core.display.HTML object>"
      ]
     },
     "metadata": {},
     "output_type": "display_data"
    },
    {
     "data": {
      "text/html": [
       "\n",
       "        <div id=\"5xCX7Vz398PbkW5Wr4qxb5\"></div>\n",
       "        <script>netpixi.call('5xCX7Vz398PbkW5Wr4qxb5', 'Dds9NkHZmJ4Wk4MNSQYHbb', 'changeGraph', 'eyJpZCI6IDg5LCAidHlwZSI6ICJ2ZXJ0ZXgiLCAicHJvcHMiOiB7ImNvbG9yIjogMTY3MTE2ODB9fQo=');</script>\n",
       "    "
      ],
      "text/plain": [
       "<IPython.core.display.HTML object>"
      ]
     },
     "metadata": {},
     "output_type": "display_data"
    },
    {
     "data": {
      "text/html": [
       "\n",
       "        <div id=\"KrRNB9Uoccg9KAaY2WKXBD\"></div>\n",
       "        <script>netpixi.call('KrRNB9Uoccg9KAaY2WKXBD', 'Dds9NkHZmJ4Wk4MNSQYHbb', 'changeGraph', 'eyJpZCI6IDE3LCAidHlwZSI6ICJ2ZXJ0ZXgiLCAicHJvcHMiOiB7InNpemUiOiAxMC44MzY4MjAwODM2ODIwMDh9fQo=');</script>\n",
       "    "
      ],
      "text/plain": [
       "<IPython.core.display.HTML object>"
      ]
     },
     "metadata": {},
     "output_type": "display_data"
    },
    {
     "data": {
      "text/html": [
       "\n",
       "        <div id=\"6vAyGh5VKbGS8DFQXLuVTz\"></div>\n",
       "        <script>netpixi.call('6vAyGh5VKbGS8DFQXLuVTz', 'Dds9NkHZmJ4Wk4MNSQYHbb', 'changeGraph', 'eyJpZCI6IDgzLCAidHlwZSI6ICJ2ZXJ0ZXgiLCAicHJvcHMiOiB7ImNvbG9yIjogMTY3MTE2ODB9fQo=');</script>\n",
       "    "
      ],
      "text/plain": [
       "<IPython.core.display.HTML object>"
      ]
     },
     "metadata": {},
     "output_type": "display_data"
    },
    {
     "data": {
      "text/html": [
       "\n",
       "        <div id=\"knapcsL7EmGBacxMDJFAUY\"></div>\n",
       "        <script>netpixi.call('knapcsL7EmGBacxMDJFAUY', 'Dds9NkHZmJ4Wk4MNSQYHbb', 'changeGraph', 'eyJpZCI6IDE4LCAidHlwZSI6ICJ2ZXJ0ZXgiLCAicHJvcHMiOiB7InNpemUiOiA0Ni4wfX0K');</script>\n",
       "    "
      ],
      "text/plain": [
       "<IPython.core.display.HTML object>"
      ]
     },
     "metadata": {},
     "output_type": "display_data"
    },
    {
     "data": {
      "text/html": [
       "\n",
       "        <div id=\"ZrKpk8Hi93eTpNTxUXv2fB\"></div>\n",
       "        <script>netpixi.call('ZrKpk8Hi93eTpNTxUXv2fB', 'Dds9NkHZmJ4Wk4MNSQYHbb', 'changeGraph', 'eyJpZCI6IDcyLCAidHlwZSI6ICJ2ZXJ0ZXgiLCAicHJvcHMiOiB7ImNvbG9yIjogMTY3MTE2ODB9fQo=');</script>\n",
       "    "
      ],
      "text/plain": [
       "<IPython.core.display.HTML object>"
      ]
     },
     "metadata": {},
     "output_type": "display_data"
    },
    {
     "data": {
      "text/html": [
       "\n",
       "        <div id=\"8WQbvkKQte6k7zTPEKGocf\"></div>\n",
       "        <script>netpixi.call('8WQbvkKQte6k7zTPEKGocf', 'Dds9NkHZmJ4Wk4MNSQYHbb', 'changeGraph', 'eyJpZCI6IDE5LCAidHlwZSI6ICJ2ZXJ0ZXgiLCAicHJvcHMiOiB7InNpemUiOiAxNy43ODI0MjY3NzgyNDI2Nzd9fQo=');</script>\n",
       "    "
      ],
      "text/plain": [
       "<IPython.core.display.HTML object>"
      ]
     },
     "metadata": {},
     "output_type": "display_data"
    },
    {
     "data": {
      "text/html": [
       "\n",
       "        <div id=\"2KTDdmyJyGMnU5cc6rCvew\"></div>\n",
       "        <script>netpixi.call('2KTDdmyJyGMnU5cc6rCvew', 'Dds9NkHZmJ4Wk4MNSQYHbb', 'changeGraph', 'eyJpZCI6IDY2LCAidHlwZSI6ICJ2ZXJ0ZXgiLCAicHJvcHMiOiB7ImNvbG9yIjogMTY3MTE2ODB9fQo=');</script>\n",
       "    "
      ],
      "text/plain": [
       "<IPython.core.display.HTML object>"
      ]
     },
     "metadata": {},
     "output_type": "display_data"
    },
    {
     "data": {
      "text/html": [
       "\n",
       "        <div id=\"4oriC8BRWPYubXD7cVsKmi\"></div>\n",
       "        <script>netpixi.call('4oriC8BRWPYubXD7cVsKmi', 'Dds9NkHZmJ4Wk4MNSQYHbb', 'changeGraph', 'eyJpZCI6IDIwLCAidHlwZSI6ICJ2ZXJ0ZXgiLCAicHJvcHMiOiB7InNpemUiOiAxMy44OTEyMTMzODkxMjEzMzh9fQo=');</script>\n",
       "    "
      ],
      "text/plain": [
       "<IPython.core.display.HTML object>"
      ]
     },
     "metadata": {},
     "output_type": "display_data"
    },
    {
     "data": {
      "text/html": [
       "\n",
       "        <div id=\"bgMpUy3zZPcHZoBDsAuT4j\"></div>\n",
       "        <script>netpixi.call('bgMpUy3zZPcHZoBDsAuT4j', 'Dds9NkHZmJ4Wk4MNSQYHbb', 'changeGraph', 'eyJpZCI6IDcwLCAidHlwZSI6ICJ2ZXJ0ZXgiLCAicHJvcHMiOiB7ImNvbG9yIjogMTY3MTE2ODB9fQo=');</script>\n",
       "    "
      ],
      "text/plain": [
       "<IPython.core.display.HTML object>"
      ]
     },
     "metadata": {},
     "output_type": "display_data"
    },
    {
     "data": {
      "text/html": [
       "\n",
       "        <div id=\"AiYURTxTMpsrhD4EFZNVxS\"></div>\n",
       "        <script>netpixi.call('AiYURTxTMpsrhD4EFZNVxS', 'Dds9NkHZmJ4Wk4MNSQYHbb', 'changeGraph', 'eyJpZCI6IDIxLCAidHlwZSI6ICJ2ZXJ0ZXgiLCAicHJvcHMiOiB7InNpemUiOiAxNy41NzMyMjE3NTczMjIxNzN9fQo=');</script>\n",
       "    "
      ],
      "text/plain": [
       "<IPython.core.display.HTML object>"
      ]
     },
     "metadata": {},
     "output_type": "display_data"
    },
    {
     "data": {
      "text/html": [
       "\n",
       "        <div id=\"DmyoJm7KxhsoWXct8kPGuY\"></div>\n",
       "        <script>netpixi.call('DmyoJm7KxhsoWXct8kPGuY', 'Dds9NkHZmJ4Wk4MNSQYHbb', 'changeGraph', 'eyJpZCI6IDg0LCAidHlwZSI6ICJ2ZXJ0ZXgiLCAicHJvcHMiOiB7ImNvbG9yIjogMTY3MTE2ODB9fQo=');</script>\n",
       "    "
      ],
      "text/plain": [
       "<IPython.core.display.HTML object>"
      ]
     },
     "metadata": {},
     "output_type": "display_data"
    },
    {
     "data": {
      "text/html": [
       "\n",
       "        <div id=\"4bUdJpkBRLhmnHMWA7aSL4\"></div>\n",
       "        <script>netpixi.call('4bUdJpkBRLhmnHMWA7aSL4', 'Dds9NkHZmJ4Wk4MNSQYHbb', 'changeGraph', 'eyJpZCI6IDIyLCAidHlwZSI6ICJ2ZXJ0ZXgiLCAicHJvcHMiOiB7InNpemUiOiA0My4xNjY2NjY2NjY2NjY2NjR9fQo=');</script>\n",
       "    "
      ],
      "text/plain": [
       "<IPython.core.display.HTML object>"
      ]
     },
     "metadata": {},
     "output_type": "display_data"
    },
    {
     "data": {
      "text/html": [
       "\n",
       "        <div id=\"dz9iytTDWtNkcU73EFbfQJ\"></div>\n",
       "        <script>netpixi.call('dz9iytTDWtNkcU73EFbfQJ', 'Dds9NkHZmJ4Wk4MNSQYHbb', 'changeGraph', 'eyJpZCI6IDgwLCAidHlwZSI6ICJ2ZXJ0ZXgiLCAicHJvcHMiOiB7ImNvbG9yIjogMTY3MTE2ODB9fQo=');</script>\n",
       "    "
      ],
      "text/plain": [
       "<IPython.core.display.HTML object>"
      ]
     },
     "metadata": {},
     "output_type": "display_data"
    },
    {
     "data": {
      "text/html": [
       "\n",
       "        <div id=\"Qsgu4PGwhEMFb6dET4eMs7\"></div>\n",
       "        <script>netpixi.call('Qsgu4PGwhEMFb6dET4eMs7', 'Dds9NkHZmJ4Wk4MNSQYHbb', 'changeGraph', 'eyJpZCI6IDIzLCAidHlwZSI6ICJ2ZXJ0ZXgiLCAicHJvcHMiOiB7InNpemUiOiAxNi45MDM3NjU2OTAzNzY1Njd9fQo=');</script>\n",
       "    "
      ],
      "text/plain": [
       "<IPython.core.display.HTML object>"
      ]
     },
     "metadata": {},
     "output_type": "display_data"
    },
    {
     "data": {
      "text/html": [
       "\n",
       "        <div id=\"2Bw93QGJ6UccvnGmSrPxUC\"></div>\n",
       "        <script>netpixi.call('2Bw93QGJ6UccvnGmSrPxUC', 'Dds9NkHZmJ4Wk4MNSQYHbb', 'changeGraph', 'eyJpZCI6IDcwLCAidHlwZSI6ICJ2ZXJ0ZXgiLCAicHJvcHMiOiB7ImNvbG9yIjogMTY3MTE2ODB9fQo=');</script>\n",
       "    "
      ],
      "text/plain": [
       "<IPython.core.display.HTML object>"
      ]
     },
     "metadata": {},
     "output_type": "display_data"
    },
    {
     "data": {
      "text/html": [
       "\n",
       "        <div id=\"SPRxQfxEZpL53mM29itKqJ\"></div>\n",
       "        <script>netpixi.call('SPRxQfxEZpL53mM29itKqJ', 'Dds9NkHZmJ4Wk4MNSQYHbb', 'changeGraph', 'eyJpZCI6IDI0LCAidHlwZSI6ICJ2ZXJ0ZXgiLCAicHJvcHMiOiB7InNpemUiOiAxNy41MzEzODA3NTMxMzgwNzN9fQo=');</script>\n",
       "    "
      ],
      "text/plain": [
       "<IPython.core.display.HTML object>"
      ]
     },
     "metadata": {},
     "output_type": "display_data"
    },
    {
     "data": {
      "text/html": [
       "\n",
       "        <div id=\"3iGuEmvQG7fRtrxMNmtwGL\"></div>\n",
       "        <script>netpixi.call('3iGuEmvQG7fRtrxMNmtwGL', 'Dds9NkHZmJ4Wk4MNSQYHbb', 'changeGraph', 'eyJpZCI6IDg0LCAidHlwZSI6ICJ2ZXJ0ZXgiLCAicHJvcHMiOiB7ImNvbG9yIjogMTY3MTE2ODB9fQo=');</script>\n",
       "    "
      ],
      "text/plain": [
       "<IPython.core.display.HTML object>"
      ]
     },
     "metadata": {},
     "output_type": "display_data"
    },
    {
     "data": {
      "text/html": [
       "\n",
       "        <div id=\"UWrSjr4wsdtYKnPeWoPDZ3\"></div>\n",
       "        <script>netpixi.call('UWrSjr4wsdtYKnPeWoPDZ3', 'Dds9NkHZmJ4Wk4MNSQYHbb', 'changeGraph', 'eyJpZCI6IDI1LCAidHlwZSI6ICJ2ZXJ0ZXgiLCAicHJvcHMiOiB7InNpemUiOiAxMC4zNzY1NjkwMzc2NTY5MDN9fQo=');</script>\n",
       "    "
      ],
      "text/plain": [
       "<IPython.core.display.HTML object>"
      ]
     },
     "metadata": {},
     "output_type": "display_data"
    },
    {
     "data": {
      "text/html": [
       "\n",
       "        <div id=\"C4r2YbEEX6UgnX3ia8YmBe\"></div>\n",
       "        <script>netpixi.call('C4r2YbEEX6UgnX3ia8YmBe', 'Dds9NkHZmJ4Wk4MNSQYHbb', 'changeGraph', 'eyJpZCI6IDcwLCAidHlwZSI6ICJ2ZXJ0ZXgiLCAicHJvcHMiOiB7ImNvbG9yIjogMTY3MTE2ODB9fQo=');</script>\n",
       "    "
      ],
      "text/plain": [
       "<IPython.core.display.HTML object>"
      ]
     },
     "metadata": {},
     "output_type": "display_data"
    },
    {
     "data": {
      "text/html": [
       "\n",
       "        <div id=\"DyEHAdXR7tpGoHsvWn9PKQ\"></div>\n",
       "        <script>netpixi.call('DyEHAdXR7tpGoHsvWn9PKQ', 'Dds9NkHZmJ4Wk4MNSQYHbb', 'changeGraph', 'eyJpZCI6IDI2LCAidHlwZSI6ICJ2ZXJ0ZXgiLCAicHJvcHMiOiB7InNpemUiOiA0My41fX0K');</script>\n",
       "    "
      ],
      "text/plain": [
       "<IPython.core.display.HTML object>"
      ]
     },
     "metadata": {},
     "output_type": "display_data"
    },
    {
     "data": {
      "text/html": [
       "\n",
       "        <div id=\"bfHSSAx4QBnFVFQAEzt6qU\"></div>\n",
       "        <script>netpixi.call('bfHSSAx4QBnFVFQAEzt6qU', 'Dds9NkHZmJ4Wk4MNSQYHbb', 'changeGraph', 'eyJpZCI6IDgzLCAidHlwZSI6ICJ2ZXJ0ZXgiLCAicHJvcHMiOiB7ImNvbG9yIjogMTY3MTE2ODB9fQo=');</script>\n",
       "    "
      ],
      "text/plain": [
       "<IPython.core.display.HTML object>"
      ]
     },
     "metadata": {},
     "output_type": "display_data"
    },
    {
     "data": {
      "text/html": [
       "\n",
       "        <div id=\"jdoprshrWSUj6PuXZCjSeq\"></div>\n",
       "        <script>netpixi.call('jdoprshrWSUj6PuXZCjSeq', 'Dds9NkHZmJ4Wk4MNSQYHbb', 'changeGraph', 'eyJpZCI6IDI3LCAidHlwZSI6ICJ2ZXJ0ZXgiLCAicHJvcHMiOiB7InNpemUiOiAxNy40ODk1Mzk3NDg5NTM5NzN9fQo=');</script>\n",
       "    "
      ],
      "text/plain": [
       "<IPython.core.display.HTML object>"
      ]
     },
     "metadata": {},
     "output_type": "display_data"
    },
    {
     "data": {
      "text/html": [
       "\n",
       "        <div id=\"aE4n4qn9F9EwiSNxeB2DLC\"></div>\n",
       "        <script>netpixi.call('aE4n4qn9F9EwiSNxeB2DLC', 'Dds9NkHZmJ4Wk4MNSQYHbb', 'changeGraph', 'eyJpZCI6IDgxLCAidHlwZSI6ICJ2ZXJ0ZXgiLCAicHJvcHMiOiB7ImNvbG9yIjogMTY3MTE2ODB9fQo=');</script>\n",
       "    "
      ],
      "text/plain": [
       "<IPython.core.display.HTML object>"
      ]
     },
     "metadata": {},
     "output_type": "display_data"
    },
    {
     "data": {
      "text/html": [
       "\n",
       "        <div id=\"UmkvLHnjmmkG9kEWPXDtTA\"></div>\n",
       "        <script>netpixi.call('UmkvLHnjmmkG9kEWPXDtTA', 'Dds9NkHZmJ4Wk4MNSQYHbb', 'changeGraph', 'eyJpZCI6IDI4LCAidHlwZSI6ICJ2ZXJ0ZXgiLCAicHJvcHMiOiB7InNpemUiOiA0NS44MzMzMzMzMzMzMzMzMzZ9fQo=');</script>\n",
       "    "
      ],
      "text/plain": [
       "<IPython.core.display.HTML object>"
      ]
     },
     "metadata": {},
     "output_type": "display_data"
    },
    {
     "data": {
      "text/html": [
       "\n",
       "        <div id=\"5soR8e8dXMFa9FMzZZLx2V\"></div>\n",
       "        <script>netpixi.call('5soR8e8dXMFa9FMzZZLx2V', 'Dds9NkHZmJ4Wk4MNSQYHbb', 'changeGraph', 'eyJpZCI6IDkwLCAidHlwZSI6ICJ2ZXJ0ZXgiLCAicHJvcHMiOiB7ImNvbG9yIjogMTY3MTE2ODB9fQo=');</script>\n",
       "    "
      ],
      "text/plain": [
       "<IPython.core.display.HTML object>"
      ]
     },
     "metadata": {},
     "output_type": "display_data"
    },
    {
     "data": {
      "text/html": [
       "\n",
       "        <div id=\"PVktEnWrHbfpLQAnmZQmpB\"></div>\n",
       "        <script>netpixi.call('PVktEnWrHbfpLQAnmZQmpB', 'Dds9NkHZmJ4Wk4MNSQYHbb', 'changeGraph', 'eyJpZCI6IDI5LCAidHlwZSI6ICJ2ZXJ0ZXgiLCAicHJvcHMiOiB7InNpemUiOiAxOC43MDI5Mjg4NzAyOTI4ODd9fQo=');</script>\n",
       "    "
      ],
      "text/plain": [
       "<IPython.core.display.HTML object>"
      ]
     },
     "metadata": {},
     "output_type": "display_data"
    },
    {
     "data": {
      "text/html": [
       "\n",
       "        <div id=\"VdLWwqZqBLRpaA8nhPzNwy\"></div>\n",
       "        <script>netpixi.call('VdLWwqZqBLRpaA8nhPzNwy', 'Dds9NkHZmJ4Wk4MNSQYHbb', 'changeGraph', 'eyJpZCI6IDY1LCAidHlwZSI6ICJ2ZXJ0ZXgiLCAicHJvcHMiOiB7ImNvbG9yIjogMTY3MTE2ODB9fQo=');</script>\n",
       "    "
      ],
      "text/plain": [
       "<IPython.core.display.HTML object>"
      ]
     },
     "metadata": {},
     "output_type": "display_data"
    },
    {
     "data": {
      "text/html": [
       "\n",
       "        <div id=\"9mvFLAe5V89gyLha5YiAX8\"></div>\n",
       "        <script>netpixi.call('9mvFLAe5V89gyLha5YiAX8', 'Dds9NkHZmJ4Wk4MNSQYHbb', 'changeGraph', 'eyJpZCI6IDMwLCAidHlwZSI6ICJ2ZXJ0ZXgiLCAicHJvcHMiOiB7InNpemUiOiA0NS41fX0K');</script>\n",
       "    "
      ],
      "text/plain": [
       "<IPython.core.display.HTML object>"
      ]
     },
     "metadata": {},
     "output_type": "display_data"
    },
    {
     "data": {
      "text/html": [
       "\n",
       "        <div id=\"dn7miYGfMfTt38wAf2ax7w\"></div>\n",
       "        <script>netpixi.call('dn7miYGfMfTt38wAf2ax7w', 'Dds9NkHZmJ4Wk4MNSQYHbb', 'changeGraph', 'eyJpZCI6IDc3LCAidHlwZSI6ICJ2ZXJ0ZXgiLCAicHJvcHMiOiB7ImNvbG9yIjogMTY3MTE2ODB9fQo=');</script>\n",
       "    "
      ],
      "text/plain": [
       "<IPython.core.display.HTML object>"
      ]
     },
     "metadata": {},
     "output_type": "display_data"
    },
    {
     "data": {
      "text/html": [
       "\n",
       "        <div id=\"PRtXLrUYaM4ybbvD6aH9Lq\"></div>\n",
       "        <script>netpixi.call('PRtXLrUYaM4ybbvD6aH9Lq', 'Dds9NkHZmJ4Wk4MNSQYHbb', 'changeGraph', 'eyJpZCI6IDMxLCAidHlwZSI6ICJ2ZXJ0ZXgiLCAicHJvcHMiOiB7InNpemUiOiA0OS4wfX0K');</script>\n",
       "    "
      ],
      "text/plain": [
       "<IPython.core.display.HTML object>"
      ]
     },
     "metadata": {},
     "output_type": "display_data"
    },
    {
     "data": {
      "text/html": [
       "\n",
       "        <div id=\"JUYCXBWjo7VLsRxtJWBLVi\"></div>\n",
       "        <script>netpixi.call('JUYCXBWjo7VLsRxtJWBLVi', 'Dds9NkHZmJ4Wk4MNSQYHbb', 'changeGraph', 'eyJpZCI6IDczLCAidHlwZSI6ICJ2ZXJ0ZXgiLCAicHJvcHMiOiB7ImNvbG9yIjogMTY3MTE2ODB9fQo=');</script>\n",
       "    "
      ],
      "text/plain": [
       "<IPython.core.display.HTML object>"
      ]
     },
     "metadata": {},
     "output_type": "display_data"
    },
    {
     "data": {
      "text/html": [
       "\n",
       "        <div id=\"cYi7jUirsaCpFUEhsazX9Y\"></div>\n",
       "        <script>netpixi.call('cYi7jUirsaCpFUEhsazX9Y', 'Dds9NkHZmJ4Wk4MNSQYHbb', 'changeGraph', 'eyJpZCI6IDMyLCAidHlwZSI6ICJ2ZXJ0ZXgiLCAicHJvcHMiOiB7InNpemUiOiAxMy45NzQ4OTUzOTc0ODk1NH19Cg==');</script>\n",
       "    "
      ],
      "text/plain": [
       "<IPython.core.display.HTML object>"
      ]
     },
     "metadata": {},
     "output_type": "display_data"
    },
    {
     "data": {
      "text/html": [
       "\n",
       "        <div id=\"ajXJamzb2TksDwfMQ5ge6c\"></div>\n",
       "        <script>netpixi.call('ajXJamzb2TksDwfMQ5ge6c', 'Dds9NkHZmJ4Wk4MNSQYHbb', 'changeGraph', 'eyJpZCI6IDcwLCAidHlwZSI6ICJ2ZXJ0ZXgiLCAicHJvcHMiOiB7ImNvbG9yIjogMTY3MTE2ODB9fQo=');</script>\n",
       "    "
      ],
      "text/plain": [
       "<IPython.core.display.HTML object>"
      ]
     },
     "metadata": {},
     "output_type": "display_data"
    },
    {
     "data": {
      "text/html": [
       "\n",
       "        <div id=\"dG8r2y8vLzYnzFAUN9bHQe\"></div>\n",
       "        <script>netpixi.call('dG8r2y8vLzYnzFAUN9bHQe', 'Dds9NkHZmJ4Wk4MNSQYHbb', 'changeGraph', 'eyJpZCI6IDMzLCAidHlwZSI6ICJ2ZXJ0ZXgiLCAicHJvcHMiOiB7InNpemUiOiAxNi42MTA4Nzg2NjEwODc4Njd9fQo=');</script>\n",
       "    "
      ],
      "text/plain": [
       "<IPython.core.display.HTML object>"
      ]
     },
     "metadata": {},
     "output_type": "display_data"
    },
    {
     "data": {
      "text/html": [
       "\n",
       "        <div id=\"edkRVEwGPJ3emBzbeo86wj\"></div>\n",
       "        <script>netpixi.call('edkRVEwGPJ3emBzbeo86wj', 'Dds9NkHZmJ4Wk4MNSQYHbb', 'changeGraph', 'eyJpZCI6IDgzLCAidHlwZSI6ICJ2ZXJ0ZXgiLCAicHJvcHMiOiB7ImNvbG9yIjogMTY3MTE2ODB9fQo=');</script>\n",
       "    "
      ],
      "text/plain": [
       "<IPython.core.display.HTML object>"
      ]
     },
     "metadata": {},
     "output_type": "display_data"
    },
    {
     "data": {
      "text/html": [
       "\n",
       "        <div id=\"APKfgUXCtC4UuTDX42Dy3x\"></div>\n",
       "        <script>netpixi.call('APKfgUXCtC4UuTDX42Dy3x', 'Dds9NkHZmJ4Wk4MNSQYHbb', 'changeGraph', 'eyJpZCI6IDM0LCAidHlwZSI6ICJ2ZXJ0ZXgiLCAicHJvcHMiOiB7InNpemUiOiAxOC4xNTg5OTU4MTU4OTk1OH19Cg==');</script>\n",
       "    "
      ],
      "text/plain": [
       "<IPython.core.display.HTML object>"
      ]
     },
     "metadata": {},
     "output_type": "display_data"
    },
    {
     "data": {
      "text/html": [
       "\n",
       "        <div id=\"52xozwiMBkb7DXLRhyu9pM\"></div>\n",
       "        <script>netpixi.call('52xozwiMBkb7DXLRhyu9pM', 'Dds9NkHZmJ4Wk4MNSQYHbb', 'changeGraph', 'eyJpZCI6IDc5LCAidHlwZSI6ICJ2ZXJ0ZXgiLCAicHJvcHMiOiB7ImNvbG9yIjogMTY3MTE2ODB9fQo=');</script>\n",
       "    "
      ],
      "text/plain": [
       "<IPython.core.display.HTML object>"
      ]
     },
     "metadata": {},
     "output_type": "display_data"
    },
    {
     "data": {
      "text/html": [
       "\n",
       "        <div id=\"NuM85uRYyLKzWbeNH7JCev\"></div>\n",
       "        <script>netpixi.call('NuM85uRYyLKzWbeNH7JCev', 'Dds9NkHZmJ4Wk4MNSQYHbb', 'changeGraph', 'eyJpZCI6IDM1LCAidHlwZSI6ICJ2ZXJ0ZXgiLCAicHJvcHMiOiB7InNpemUiOiAxNy40NDc2OTg3NDQ3Njk4NzN9fQo=');</script>\n",
       "    "
      ],
      "text/plain": [
       "<IPython.core.display.HTML object>"
      ]
     },
     "metadata": {},
     "output_type": "display_data"
    },
    {
     "data": {
      "text/html": [
       "\n",
       "        <div id=\"9SyehhSstdNkPB5MUyqb7C\"></div>\n",
       "        <script>netpixi.call('9SyehhSstdNkPB5MUyqb7C', 'Dds9NkHZmJ4Wk4MNSQYHbb', 'changeGraph', 'eyJpZCI6IDc5LCAidHlwZSI6ICJ2ZXJ0ZXgiLCAicHJvcHMiOiB7ImNvbG9yIjogMTY3MTE2ODB9fQo=');</script>\n",
       "    "
      ],
      "text/plain": [
       "<IPython.core.display.HTML object>"
      ]
     },
     "metadata": {},
     "output_type": "display_data"
    },
    {
     "data": {
      "text/html": [
       "\n",
       "        <div id=\"m5dM9FdHL9mCSksBChoaKy\"></div>\n",
       "        <script>netpixi.call('m5dM9FdHL9mCSksBChoaKy', 'Dds9NkHZmJ4Wk4MNSQYHbb', 'changeGraph', 'eyJpZCI6IDM2LCAidHlwZSI6ICJ2ZXJ0ZXgiLCAicHJvcHMiOiB7InNpemUiOiAxMC4xNjczNjQwMTY3MzY0MDJ9fQo=');</script>\n",
       "    "
      ],
      "text/plain": [
       "<IPython.core.display.HTML object>"
      ]
     },
     "metadata": {},
     "output_type": "display_data"
    },
    {
     "data": {
      "text/html": [
       "\n",
       "        <div id=\"mcuwtATUhNEzHsVvmaR4cT\"></div>\n",
       "        <script>netpixi.call('mcuwtATUhNEzHsVvmaR4cT', 'Dds9NkHZmJ4Wk4MNSQYHbb', 'changeGraph', 'eyJpZCI6IDY4LCAidHlwZSI6ICJ2ZXJ0ZXgiLCAicHJvcHMiOiB7ImNvbG9yIjogMTY3MTE2ODB9fQo=');</script>\n",
       "    "
      ],
      "text/plain": [
       "<IPython.core.display.HTML object>"
      ]
     },
     "metadata": {},
     "output_type": "display_data"
    },
    {
     "data": {
      "text/html": [
       "\n",
       "        <div id=\"8ajUgfz9qZkAnQUiUfMiUd\"></div>\n",
       "        <script>netpixi.call('8ajUgfz9qZkAnQUiUfMiUd', 'Dds9NkHZmJ4Wk4MNSQYHbb', 'changeGraph', 'eyJpZCI6IDM3LCAidHlwZSI6ICJ2ZXJ0ZXgiLCAicHJvcHMiOiB7InNpemUiOiAxOC43NDQ3Njk4NzQ0NzY5ODd9fQo=');</script>\n",
       "    "
      ],
      "text/plain": [
       "<IPython.core.display.HTML object>"
      ]
     },
     "metadata": {},
     "output_type": "display_data"
    },
    {
     "data": {
      "text/html": [
       "\n",
       "        <div id=\"bHuTFBzah4iT38HWryV7SK\"></div>\n",
       "        <script>netpixi.call('bHuTFBzah4iT38HWryV7SK', 'Dds9NkHZmJ4Wk4MNSQYHbb', 'changeGraph', 'eyJpZCI6IDc5LCAidHlwZSI6ICJ2ZXJ0ZXgiLCAicHJvcHMiOiB7ImNvbG9yIjogMTY3MTE2ODB9fQo=');</script>\n",
       "    "
      ],
      "text/plain": [
       "<IPython.core.display.HTML object>"
      ]
     },
     "metadata": {},
     "output_type": "display_data"
    },
    {
     "data": {
      "text/html": [
       "\n",
       "        <div id=\"LPqFU4nPDM4CzBFmGx2EBJ\"></div>\n",
       "        <script>netpixi.call('LPqFU4nPDM4CzBFmGx2EBJ', 'Dds9NkHZmJ4Wk4MNSQYHbb', 'changeGraph', 'eyJpZCI6IDM4LCAidHlwZSI6ICJ2ZXJ0ZXgiLCAicHJvcHMiOiB7InNpemUiOiA0Mi42NjY2NjY2NjY2NjY2NjR9fQo=');</script>\n",
       "    "
      ],
      "text/plain": [
       "<IPython.core.display.HTML object>"
      ]
     },
     "metadata": {},
     "output_type": "display_data"
    },
    {
     "data": {
      "text/html": [
       "\n",
       "        <div id=\"SuKk7RGtZpBwyjRwqT4nDy\"></div>\n",
       "        <script>netpixi.call('SuKk7RGtZpBwyjRwqT4nDy', 'Dds9NkHZmJ4Wk4MNSQYHbb', 'changeGraph', 'eyJpZCI6IDczLCAidHlwZSI6ICJ2ZXJ0ZXgiLCAicHJvcHMiOiB7ImNvbG9yIjogMTY3MTE2ODB9fQo=');</script>\n",
       "    "
      ],
      "text/plain": [
       "<IPython.core.display.HTML object>"
      ]
     },
     "metadata": {},
     "output_type": "display_data"
    },
    {
     "data": {
      "text/html": [
       "\n",
       "        <div id=\"hw6jKSAiNta26JEwaVoxfW\"></div>\n",
       "        <script>netpixi.call('hw6jKSAiNta26JEwaVoxfW', 'Dds9NkHZmJ4Wk4MNSQYHbb', 'changeGraph', 'eyJpZCI6IDM5LCAidHlwZSI6ICJ2ZXJ0ZXgiLCAicHJvcHMiOiB7InNpemUiOiAxMC40MTg0MTAwNDE4NDEwMDN9fQo=');</script>\n",
       "    "
      ],
      "text/plain": [
       "<IPython.core.display.HTML object>"
      ]
     },
     "metadata": {},
     "output_type": "display_data"
    },
    {
     "data": {
      "text/html": [
       "\n",
       "        <div id=\"Bx2gMYsApAHSCavnk3VgAb\"></div>\n",
       "        <script>netpixi.call('Bx2gMYsApAHSCavnk3VgAb', 'Dds9NkHZmJ4Wk4MNSQYHbb', 'changeGraph', 'eyJpZCI6IDczLCAidHlwZSI6ICJ2ZXJ0ZXgiLCAicHJvcHMiOiB7ImNvbG9yIjogMTY3MTE2ODB9fQo=');</script>\n",
       "    "
      ],
      "text/plain": [
       "<IPython.core.display.HTML object>"
      ]
     },
     "metadata": {},
     "output_type": "display_data"
    },
    {
     "data": {
      "text/html": [
       "\n",
       "        <div id=\"EFKx5chZq8LEAn3sKWpPMu\"></div>\n",
       "        <script>netpixi.call('EFKx5chZq8LEAn3sKWpPMu', 'Dds9NkHZmJ4Wk4MNSQYHbb', 'changeGraph', 'eyJpZCI6IDQwLCAidHlwZSI6ICJ2ZXJ0ZXgiLCAicHJvcHMiOiB7InNpemUiOiAxNS4wMjA5MjA1MDIwOTIwNX19Cg==');</script>\n",
       "    "
      ],
      "text/plain": [
       "<IPython.core.display.HTML object>"
      ]
     },
     "metadata": {},
     "output_type": "display_data"
    },
    {
     "data": {
      "text/html": [
       "\n",
       "        <div id=\"eKESVM5EYKohWkRyBchiDV\"></div>\n",
       "        <script>netpixi.call('eKESVM5EYKohWkRyBchiDV', 'Dds9NkHZmJ4Wk4MNSQYHbb', 'changeGraph', 'eyJpZCI6IDg0LCAidHlwZSI6ICJ2ZXJ0ZXgiLCAicHJvcHMiOiB7ImNvbG9yIjogMTY3MTE2ODB9fQo=');</script>\n",
       "    "
      ],
      "text/plain": [
       "<IPython.core.display.HTML object>"
      ]
     },
     "metadata": {},
     "output_type": "display_data"
    },
    {
     "data": {
      "text/html": [
       "\n",
       "        <div id=\"UvrZCVsBebnr9uZJy7UTjG\"></div>\n",
       "        <script>netpixi.call('UvrZCVsBebnr9uZJy7UTjG', 'Dds9NkHZmJ4Wk4MNSQYHbb', 'changeGraph', 'eyJpZCI6IDQxLCAidHlwZSI6ICJ2ZXJ0ZXgiLCAicHJvcHMiOiB7InNpemUiOiAxNC45NzkwNzk0OTc5MDc5NX19Cg==');</script>\n",
       "    "
      ],
      "text/plain": [
       "<IPython.core.display.HTML object>"
      ]
     },
     "metadata": {},
     "output_type": "display_data"
    },
    {
     "data": {
      "text/html": [
       "\n",
       "        <div id=\"Xa3SVa9gp8s2zLJ4DidMtT\"></div>\n",
       "        <script>netpixi.call('Xa3SVa9gp8s2zLJ4DidMtT', 'Dds9NkHZmJ4Wk4MNSQYHbb', 'changeGraph', 'eyJpZCI6IDgxLCAidHlwZSI6ICJ2ZXJ0ZXgiLCAicHJvcHMiOiB7ImNvbG9yIjogMTY3MTE2ODB9fQo=');</script>\n",
       "    "
      ],
      "text/plain": [
       "<IPython.core.display.HTML object>"
      ]
     },
     "metadata": {},
     "output_type": "display_data"
    },
    {
     "data": {
      "text/html": [
       "\n",
       "        <div id=\"UkZj6sCNVjn2Jv8qFXx39U\"></div>\n",
       "        <script>netpixi.call('UkZj6sCNVjn2Jv8qFXx39U', 'Dds9NkHZmJ4Wk4MNSQYHbb', 'changeGraph', 'eyJpZCI6IDQyLCAidHlwZSI6ICJ2ZXJ0ZXgiLCAicHJvcHMiOiB7InNpemUiOiAxNi4yNzYxNTA2Mjc2MTUwNjN9fQo=');</script>\n",
       "    "
      ],
      "text/plain": [
       "<IPython.core.display.HTML object>"
      ]
     },
     "metadata": {},
     "output_type": "display_data"
    },
    {
     "data": {
      "text/html": [
       "\n",
       "        <div id=\"CrEm7vhmU6fjru97apUZWZ\"></div>\n",
       "        <script>netpixi.call('CrEm7vhmU6fjru97apUZWZ', 'Dds9NkHZmJ4Wk4MNSQYHbb', 'changeGraph', 'eyJpZCI6IDc4LCAidHlwZSI6ICJ2ZXJ0ZXgiLCAicHJvcHMiOiB7ImNvbG9yIjogMTY3MTE2ODB9fQo=');</script>\n",
       "    "
      ],
      "text/plain": [
       "<IPython.core.display.HTML object>"
      ]
     },
     "metadata": {},
     "output_type": "display_data"
    },
    {
     "data": {
      "text/html": [
       "\n",
       "        <div id=\"iWgvDF6E6SDQ23zeda4XNS\"></div>\n",
       "        <script>netpixi.call('iWgvDF6E6SDQ23zeda4XNS', 'Dds9NkHZmJ4Wk4MNSQYHbb', 'changeGraph', 'eyJpZCI6IDQzLCAidHlwZSI6ICJ2ZXJ0ZXgiLCAicHJvcHMiOiB7InNpemUiOiAxMy4yMjE3NTczMjIxNzU3MzJ9fQo=');</script>\n",
       "    "
      ],
      "text/plain": [
       "<IPython.core.display.HTML object>"
      ]
     },
     "metadata": {},
     "output_type": "display_data"
    },
    {
     "data": {
      "text/html": [
       "\n",
       "        <div id=\"ZUxSiuumeEegRiEEsTWyVm\"></div>\n",
       "        <script>netpixi.call('ZUxSiuumeEegRiEEsTWyVm', 'Dds9NkHZmJ4Wk4MNSQYHbb', 'changeGraph', 'eyJpZCI6IDc3LCAidHlwZSI6ICJ2ZXJ0ZXgiLCAicHJvcHMiOiB7ImNvbG9yIjogMTY3MTE2ODB9fQo=');</script>\n",
       "    "
      ],
      "text/plain": [
       "<IPython.core.display.HTML object>"
      ]
     },
     "metadata": {},
     "output_type": "display_data"
    },
    {
     "data": {
      "text/html": [
       "\n",
       "        <div id=\"oH3XtV2fneh8jR5jxHXMoa\"></div>\n",
       "        <script>netpixi.call('oH3XtV2fneh8jR5jxHXMoa', 'Dds9NkHZmJ4Wk4MNSQYHbb', 'changeGraph', 'eyJpZCI6IDQ0LCAidHlwZSI6ICJ2ZXJ0ZXgiLCAicHJvcHMiOiB7InNpemUiOiAxNS43MzIyMTc1NzMyMjE3NTd9fQo=');</script>\n",
       "    "
      ],
      "text/plain": [
       "<IPython.core.display.HTML object>"
      ]
     },
     "metadata": {},
     "output_type": "display_data"
    },
    {
     "data": {
      "text/html": [
       "\n",
       "        <div id=\"XgQLVtdD4cqCyyeqbQvUYc\"></div>\n",
       "        <script>netpixi.call('XgQLVtdD4cqCyyeqbQvUYc', 'Dds9NkHZmJ4Wk4MNSQYHbb', 'changeGraph', 'eyJpZCI6IDgwLCAidHlwZSI6ICJ2ZXJ0ZXgiLCAicHJvcHMiOiB7ImNvbG9yIjogMTY3MTE2ODB9fQo=');</script>\n",
       "    "
      ],
      "text/plain": [
       "<IPython.core.display.HTML object>"
      ]
     },
     "metadata": {},
     "output_type": "display_data"
    },
    {
     "data": {
      "text/html": [
       "\n",
       "        <div id=\"ahWYZpmsm9znRVFUCcxvBk\"></div>\n",
       "        <script>netpixi.call('ahWYZpmsm9znRVFUCcxvBk', 'Dds9NkHZmJ4Wk4MNSQYHbb', 'changeGraph', 'eyJpZCI6IDQ1LCAidHlwZSI6ICJ2ZXJ0ZXgiLCAicHJvcHMiOiB7InNpemUiOiAxOC43ODY2MTA4Nzg2NjEwODd9fQo=');</script>\n",
       "    "
      ],
      "text/plain": [
       "<IPython.core.display.HTML object>"
      ]
     },
     "metadata": {},
     "output_type": "display_data"
    },
    {
     "data": {
      "text/html": [
       "\n",
       "        <div id=\"9rHZqEdgtdP4BadjDF2Kz9\"></div>\n",
       "        <script>netpixi.call('9rHZqEdgtdP4BadjDF2Kz9', 'Dds9NkHZmJ4Wk4MNSQYHbb', 'changeGraph', 'eyJpZCI6IDgwLCAidHlwZSI6ICJ2ZXJ0ZXgiLCAicHJvcHMiOiB7ImNvbG9yIjogMTY3MTE2ODB9fQo=');</script>\n",
       "    "
      ],
      "text/plain": [
       "<IPython.core.display.HTML object>"
      ]
     },
     "metadata": {},
     "output_type": "display_data"
    },
    {
     "data": {
      "text/html": [
       "\n",
       "        <div id=\"gLkaAi6hkYPTkQ5EwPcnCt\"></div>\n",
       "        <script>netpixi.call('gLkaAi6hkYPTkQ5EwPcnCt', 'Dds9NkHZmJ4Wk4MNSQYHbb', 'changeGraph', 'eyJpZCI6IDQ2LCAidHlwZSI6ICJ2ZXJ0ZXgiLCAicHJvcHMiOiB7InNpemUiOiAxNi41NjkwMzc2NTY5MDM3Njd9fQo=');</script>\n",
       "    "
      ],
      "text/plain": [
       "<IPython.core.display.HTML object>"
      ]
     },
     "metadata": {},
     "output_type": "display_data"
    },
    {
     "data": {
      "text/html": [
       "\n",
       "        <div id=\"FbA2whdpuwEroNNogkcJUV\"></div>\n",
       "        <script>netpixi.call('FbA2whdpuwEroNNogkcJUV', 'Dds9NkHZmJ4Wk4MNSQYHbb', 'changeGraph', 'eyJpZCI6IDgzLCAidHlwZSI6ICJ2ZXJ0ZXgiLCAicHJvcHMiOiB7ImNvbG9yIjogMTY3MTE2ODB9fQo=');</script>\n",
       "    "
      ],
      "text/plain": [
       "<IPython.core.display.HTML object>"
      ]
     },
     "metadata": {},
     "output_type": "display_data"
    },
    {
     "data": {
      "text/html": [
       "\n",
       "        <div id=\"QzwZpd35r3GQwZG3MwMC4t\"></div>\n",
       "        <script>netpixi.call('QzwZpd35r3GQwZG3MwMC4t', 'Dds9NkHZmJ4Wk4MNSQYHbb', 'changeGraph', 'eyJpZCI6IDQ3LCAidHlwZSI6ICJ2ZXJ0ZXgiLCAicHJvcHMiOiB7InNpemUiOiAxOS4zMzA1NDM5MzMwNTQzOTN9fQo=');</script>\n",
       "    "
      ],
      "text/plain": [
       "<IPython.core.display.HTML object>"
      ]
     },
     "metadata": {},
     "output_type": "display_data"
    },
    {
     "data": {
      "text/html": [
       "\n",
       "        <div id=\"LzFKGrbur2zLyrUBd9VBSf\"></div>\n",
       "        <script>netpixi.call('LzFKGrbur2zLyrUBd9VBSf', 'Dds9NkHZmJ4Wk4MNSQYHbb', 'changeGraph', 'eyJpZCI6IDg0LCAidHlwZSI6ICJ2ZXJ0ZXgiLCAicHJvcHMiOiB7ImNvbG9yIjogMTY3MTE2ODB9fQo=');</script>\n",
       "    "
      ],
      "text/plain": [
       "<IPython.core.display.HTML object>"
      ]
     },
     "metadata": {},
     "output_type": "display_data"
    },
    {
     "data": {
      "text/html": [
       "\n",
       "        <div id=\"DwcnpKL69eyoJwcRECTxyz\"></div>\n",
       "        <script>netpixi.call('DwcnpKL69eyoJwcRECTxyz', 'Dds9NkHZmJ4Wk4MNSQYHbb', 'changeGraph', 'eyJpZCI6IDQ4LCAidHlwZSI6ICJ2ZXJ0ZXgiLCAicHJvcHMiOiB7InNpemUiOiAxNS42MDY2OTQ1NjA2Njk0NTV9fQo=');</script>\n",
       "    "
      ],
      "text/plain": [
       "<IPython.core.display.HTML object>"
      ]
     },
     "metadata": {},
     "output_type": "display_data"
    },
    {
     "data": {
      "text/html": [
       "\n",
       "        <div id=\"kXFxJ2rdFcZszeiXpkYJc8\"></div>\n",
       "        <script>netpixi.call('kXFxJ2rdFcZszeiXpkYJc8', 'Dds9NkHZmJ4Wk4MNSQYHbb', 'changeGraph', 'eyJpZCI6IDczLCAidHlwZSI6ICJ2ZXJ0ZXgiLCAicHJvcHMiOiB7ImNvbG9yIjogMTY3MTE2ODB9fQo=');</script>\n",
       "    "
      ],
      "text/plain": [
       "<IPython.core.display.HTML object>"
      ]
     },
     "metadata": {},
     "output_type": "display_data"
    },
    {
     "data": {
      "text/html": [
       "\n",
       "        <div id=\"MuAm768jbGVamFS6Mgm5oo\"></div>\n",
       "        <script>netpixi.call('MuAm768jbGVamFS6Mgm5oo', 'Dds9NkHZmJ4Wk4MNSQYHbb', 'changeGraph', 'eyJpZCI6IDQ5LCAidHlwZSI6ICJ2ZXJ0ZXgiLCAicHJvcHMiOiB7InNpemUiOiAxOC4xMTcxNTQ4MTE3MTU0OH19Cg==');</script>\n",
       "    "
      ],
      "text/plain": [
       "<IPython.core.display.HTML object>"
      ]
     },
     "metadata": {},
     "output_type": "display_data"
    },
    {
     "data": {
      "text/html": [
       "\n",
       "        <div id=\"ZVMRY6kPrV3S9eJG9YYNQY\"></div>\n",
       "        <script>netpixi.call('ZVMRY6kPrV3S9eJG9YYNQY', 'Dds9NkHZmJ4Wk4MNSQYHbb', 'changeGraph', 'eyJpZCI6IDg0LCAidHlwZSI6ICJ2ZXJ0ZXgiLCAicHJvcHMiOiB7ImNvbG9yIjogMTY3MTE2ODB9fQo=');</script>\n",
       "    "
      ],
      "text/plain": [
       "<IPython.core.display.HTML object>"
      ]
     },
     "metadata": {},
     "output_type": "display_data"
    },
    {
     "data": {
      "text/html": [
       "\n",
       "        <div id=\"ignwGdKqr9tweSTzXHAi9N\"></div>\n",
       "        <script>netpixi.call('ignwGdKqr9tweSTzXHAi9N', 'Dds9NkHZmJ4Wk4MNSQYHbb', 'changeGraph', 'eyJpZCI6IDUwLCAidHlwZSI6ICJ2ZXJ0ZXgiLCAicHJvcHMiOiB7InNpemUiOiAxMC42Mjc2MTUwNjI3NjE1MDd9fQo=');</script>\n",
       "    "
      ],
      "text/plain": [
       "<IPython.core.display.HTML object>"
      ]
     },
     "metadata": {},
     "output_type": "display_data"
    },
    {
     "data": {
      "text/html": [
       "\n",
       "        <div id=\"cLmRuELpkhMisu4DpyoYSx\"></div>\n",
       "        <script>netpixi.call('cLmRuELpkhMisu4DpyoYSx', 'Dds9NkHZmJ4Wk4MNSQYHbb', 'changeGraph', 'eyJpZCI6IDgwLCAidHlwZSI6ICJ2ZXJ0ZXgiLCAicHJvcHMiOiB7ImNvbG9yIjogMTY3MTE2ODB9fQo=');</script>\n",
       "    "
      ],
      "text/plain": [
       "<IPython.core.display.HTML object>"
      ]
     },
     "metadata": {},
     "output_type": "display_data"
    },
    {
     "data": {
      "text/html": [
       "\n",
       "        <div id=\"f5FWYsQDiv7vUk9N3fLD6X\"></div>\n",
       "        <script>netpixi.call('f5FWYsQDiv7vUk9N3fLD6X', 'Dds9NkHZmJ4Wk4MNSQYHbb', 'changeGraph', 'eyJpZCI6IDUxLCAidHlwZSI6ICJ2ZXJ0ZXgiLCAicHJvcHMiOiB7InNpemUiOiAxNy40MDU4NTc3NDA1ODU3NzN9fQo=');</script>\n",
       "    "
      ],
      "text/plain": [
       "<IPython.core.display.HTML object>"
      ]
     },
     "metadata": {},
     "output_type": "display_data"
    },
    {
     "data": {
      "text/html": [
       "\n",
       "        <div id=\"jwPYYy2pRkebogdUcMKBks\"></div>\n",
       "        <script>netpixi.call('jwPYYy2pRkebogdUcMKBks', 'Dds9NkHZmJ4Wk4MNSQYHbb', 'changeGraph', 'eyJpZCI6IDgwLCAidHlwZSI6ICJ2ZXJ0ZXgiLCAicHJvcHMiOiB7ImNvbG9yIjogMTY3MTE2ODB9fQo=');</script>\n",
       "    "
      ],
      "text/plain": [
       "<IPython.core.display.HTML object>"
      ]
     },
     "metadata": {},
     "output_type": "display_data"
    },
    {
     "data": {
      "text/html": [
       "\n",
       "        <div id=\"SUmjkCLcxwZHT5MmjfVsHw\"></div>\n",
       "        <script>netpixi.call('SUmjkCLcxwZHT5MmjfVsHw', 'Dds9NkHZmJ4Wk4MNSQYHbb', 'changeGraph', 'eyJpZCI6IDUyLCAidHlwZSI6ICJ2ZXJ0ZXgiLCAicHJvcHMiOiB7InNpemUiOiAxNS4xNDY0NDM1MTQ2NDQzNX19Cg==');</script>\n",
       "    "
      ],
      "text/plain": [
       "<IPython.core.display.HTML object>"
      ]
     },
     "metadata": {},
     "output_type": "display_data"
    },
    {
     "data": {
      "text/html": [
       "\n",
       "        <div id=\"JzJP7vBco4z7yhzF3pzYpf\"></div>\n",
       "        <script>netpixi.call('JzJP7vBco4z7yhzF3pzYpf', 'Dds9NkHZmJ4Wk4MNSQYHbb', 'changeGraph', 'eyJpZCI6IDczLCAidHlwZSI6ICJ2ZXJ0ZXgiLCAicHJvcHMiOiB7ImNvbG9yIjogMTY3MTE2ODB9fQo=');</script>\n",
       "    "
      ],
      "text/plain": [
       "<IPython.core.display.HTML object>"
      ]
     },
     "metadata": {},
     "output_type": "display_data"
    },
    {
     "data": {
      "text/html": [
       "\n",
       "        <div id=\"i8kNfJQ6uZnMu2gQCbXEyE\"></div>\n",
       "        <script>netpixi.call('i8kNfJQ6uZnMu2gQCbXEyE', 'Dds9NkHZmJ4Wk4MNSQYHbb', 'changeGraph', 'eyJpZCI6IDUzLCAidHlwZSI6ICJ2ZXJ0ZXgiLCAicHJvcHMiOiB7InNpemUiOiAxNi4zMTc5OTE2MzE3OTkxNjN9fQo=');</script>\n",
       "    "
      ],
      "text/plain": [
       "<IPython.core.display.HTML object>"
      ]
     },
     "metadata": {},
     "output_type": "display_data"
    },
    {
     "data": {
      "text/html": [
       "\n",
       "        <div id=\"XgPrvU4DHsYMFUqUHQXbsP\"></div>\n",
       "        <script>netpixi.call('XgPrvU4DHsYMFUqUHQXbsP', 'Dds9NkHZmJ4Wk4MNSQYHbb', 'changeGraph', 'eyJpZCI6IDc1LCAidHlwZSI6ICJ2ZXJ0ZXgiLCAicHJvcHMiOiB7ImNvbG9yIjogMTY3MTE2ODB9fQo=');</script>\n",
       "    "
      ],
      "text/plain": [
       "<IPython.core.display.HTML object>"
      ]
     },
     "metadata": {},
     "output_type": "display_data"
    },
    {
     "data": {
      "text/html": [
       "\n",
       "        <div id=\"cuDXn2qTXgmKNrkmiCWrNu\"></div>\n",
       "        <script>netpixi.call('cuDXn2qTXgmKNrkmiCWrNu', 'Dds9NkHZmJ4Wk4MNSQYHbb', 'changeGraph', 'eyJpZCI6IDU0LCAidHlwZSI6ICJ2ZXJ0ZXgiLCAicHJvcHMiOiB7InNpemUiOiA0Mi4wfX0K');</script>\n",
       "    "
      ],
      "text/plain": [
       "<IPython.core.display.HTML object>"
      ]
     },
     "metadata": {},
     "output_type": "display_data"
    },
    {
     "data": {
      "text/html": [
       "\n",
       "        <div id=\"j5WasnUtbrVCwRkRxEgQhr\"></div>\n",
       "        <script>netpixi.call('j5WasnUtbrVCwRkRxEgQhr', 'Dds9NkHZmJ4Wk4MNSQYHbb', 'changeGraph', 'eyJpZCI6IDc1LCAidHlwZSI6ICJ2ZXJ0ZXgiLCAicHJvcHMiOiB7ImNvbG9yIjogMTY3MTE2ODB9fQo=');</script>\n",
       "    "
      ],
      "text/plain": [
       "<IPython.core.display.HTML object>"
      ]
     },
     "metadata": {},
     "output_type": "display_data"
    },
    {
     "data": {
      "text/html": [
       "\n",
       "        <div id=\"VLuuCn7DL9gacCSHq2A5Ls\"></div>\n",
       "        <script>netpixi.call('VLuuCn7DL9gacCSHq2A5Ls', 'Dds9NkHZmJ4Wk4MNSQYHbb', 'changeGraph', 'eyJpZCI6IDU1LCAidHlwZSI6ICJ2ZXJ0ZXgiLCAicHJvcHMiOiB7InNpemUiOiAxMS4zMzg5MTIxMzM4OTEyMTN9fQo=');</script>\n",
       "    "
      ],
      "text/plain": [
       "<IPython.core.display.HTML object>"
      ]
     },
     "metadata": {},
     "output_type": "display_data"
    },
    {
     "data": {
      "text/html": [
       "\n",
       "        <div id=\"Ss9Dof7YS3uqg42De5HegP\"></div>\n",
       "        <script>netpixi.call('Ss9Dof7YS3uqg42De5HegP', 'Dds9NkHZmJ4Wk4MNSQYHbb', 'changeGraph', 'eyJpZCI6IDg2LCAidHlwZSI6ICJ2ZXJ0ZXgiLCAicHJvcHMiOiB7ImNvbG9yIjogMTY3MTE2ODB9fQo=');</script>\n",
       "    "
      ],
      "text/plain": [
       "<IPython.core.display.HTML object>"
      ]
     },
     "metadata": {},
     "output_type": "display_data"
    },
    {
     "data": {
      "text/html": [
       "\n",
       "        <div id=\"2RAoVRtLGS8iBrb5qmaUwe\"></div>\n",
       "        <script>netpixi.call('2RAoVRtLGS8iBrb5qmaUwe', 'Dds9NkHZmJ4Wk4MNSQYHbb', 'changeGraph', 'eyJpZCI6IDU2LCAidHlwZSI6ICJ2ZXJ0ZXgiLCAicHJvcHMiOiB7InNpemUiOiAxMC4wODM2ODIwMDgzNjgyfX0K');</script>\n",
       "    "
      ],
      "text/plain": [
       "<IPython.core.display.HTML object>"
      ]
     },
     "metadata": {},
     "output_type": "display_data"
    },
    {
     "data": {
      "text/html": [
       "\n",
       "        <div id=\"Rgp8Q9T3cHAjEZcuxDCmcZ\"></div>\n",
       "        <script>netpixi.call('Rgp8Q9T3cHAjEZcuxDCmcZ', 'Dds9NkHZmJ4Wk4MNSQYHbb', 'changeGraph', 'eyJpZCI6IDgwLCAidHlwZSI6ICJ2ZXJ0ZXgiLCAicHJvcHMiOiB7ImNvbG9yIjogMTY3MTE2ODB9fQo=');</script>\n",
       "    "
      ],
      "text/plain": [
       "<IPython.core.display.HTML object>"
      ]
     },
     "metadata": {},
     "output_type": "display_data"
    },
    {
     "data": {
      "text/html": [
       "\n",
       "        <div id=\"LuqW7SvFGbTcwYGXoFvMdH\"></div>\n",
       "        <script>netpixi.call('LuqW7SvFGbTcwYGXoFvMdH', 'Dds9NkHZmJ4Wk4MNSQYHbb', 'changeGraph', 'eyJpZCI6IDU3LCAidHlwZSI6ICJ2ZXJ0ZXgiLCAicHJvcHMiOiB7InNpemUiOiAxMC41MDIwOTIwNTAyMDkyMDV9fQo=');</script>\n",
       "    "
      ],
      "text/plain": [
       "<IPython.core.display.HTML object>"
      ]
     },
     "metadata": {},
     "output_type": "display_data"
    },
    {
     "data": {
      "text/html": [
       "\n",
       "        <div id=\"9BaxnbP3LJ9Ej3Q2NdmUxz\"></div>\n",
       "        <script>netpixi.call('9BaxnbP3LJ9Ej3Q2NdmUxz', 'Dds9NkHZmJ4Wk4MNSQYHbb', 'changeGraph', 'eyJpZCI6IDY5LCAidHlwZSI6ICJ2ZXJ0ZXgiLCAicHJvcHMiOiB7ImNvbG9yIjogMTY3MTE2ODB9fQo=');</script>\n",
       "    "
      ],
      "text/plain": [
       "<IPython.core.display.HTML object>"
      ]
     },
     "metadata": {},
     "output_type": "display_data"
    },
    {
     "data": {
      "text/html": [
       "\n",
       "        <div id=\"KwBxXPaXrEwrYMjBXJXBJi\"></div>\n",
       "        <script>netpixi.call('KwBxXPaXrEwrYMjBXJXBJi', 'Dds9NkHZmJ4Wk4MNSQYHbb', 'changeGraph', 'eyJpZCI6IDU4LCAidHlwZSI6ICJ2ZXJ0ZXgiLCAicHJvcHMiOiB7InNpemUiOiA0MS41fX0K');</script>\n",
       "    "
      ],
      "text/plain": [
       "<IPython.core.display.HTML object>"
      ]
     },
     "metadata": {},
     "output_type": "display_data"
    },
    {
     "data": {
      "text/html": [
       "\n",
       "        <div id=\"E8aJHSPWdNrJRn7Tz8nhA5\"></div>\n",
       "        <script>netpixi.call('E8aJHSPWdNrJRn7Tz8nhA5', 'Dds9NkHZmJ4Wk4MNSQYHbb', 'changeGraph', 'eyJpZCI6IDgxLCAidHlwZSI6ICJ2ZXJ0ZXgiLCAicHJvcHMiOiB7ImNvbG9yIjogMTY3MTE2ODB9fQo=');</script>\n",
       "    "
      ],
      "text/plain": [
       "<IPython.core.display.HTML object>"
      ]
     },
     "metadata": {},
     "output_type": "display_data"
    },
    {
     "data": {
      "text/html": [
       "\n",
       "        <div id=\"KHAJqgxXPpjEgn5hrpXa7d\"></div>\n",
       "        <script>netpixi.call('KHAJqgxXPpjEgn5hrpXa7d', 'Dds9NkHZmJ4Wk4MNSQYHbb', 'changeGraph', 'eyJpZCI6IDU5LCAidHlwZSI6ICJ2ZXJ0ZXgiLCAicHJvcHMiOiB7InNpemUiOiAxNi4xNTA2Mjc2MTUwNjI3Nn19Cg==');</script>\n",
       "    "
      ],
      "text/plain": [
       "<IPython.core.display.HTML object>"
      ]
     },
     "metadata": {},
     "output_type": "display_data"
    },
    {
     "data": {
      "text/html": [
       "\n",
       "        <div id=\"D7XHE6bCdV8VdLG2fKgqCW\"></div>\n",
       "        <script>netpixi.call('D7XHE6bCdV8VdLG2fKgqCW', 'Dds9NkHZmJ4Wk4MNSQYHbb', 'changeGraph', 'eyJpZCI6IDczLCAidHlwZSI6ICJ2ZXJ0ZXgiLCAicHJvcHMiOiB7ImNvbG9yIjogMTY3MTE2ODB9fQo=');</script>\n",
       "    "
      ],
      "text/plain": [
       "<IPython.core.display.HTML object>"
      ]
     },
     "metadata": {},
     "output_type": "display_data"
    },
    {
     "data": {
      "text/html": [
       "\n",
       "        <div id=\"5C5r6fvnfsfNbXAuvQdAAW\"></div>\n",
       "        <script>netpixi.call('5C5r6fvnfsfNbXAuvQdAAW', 'Dds9NkHZmJ4Wk4MNSQYHbb', 'changeGraph', 'eyJpZCI6IDYwLCAidHlwZSI6ICJ2ZXJ0ZXgiLCAicHJvcHMiOiB7InNpemUiOiAxMS4wNDYwMjUxMDQ2MDI1MX19Cg==');</script>\n",
       "    "
      ],
      "text/plain": [
       "<IPython.core.display.HTML object>"
      ]
     },
     "metadata": {},
     "output_type": "display_data"
    },
    {
     "data": {
      "text/html": [
       "\n",
       "        <div id=\"N3ottoKaPNLAk2QGvLZXqh\"></div>\n",
       "        <script>netpixi.call('N3ottoKaPNLAk2QGvLZXqh', 'Dds9NkHZmJ4Wk4MNSQYHbb', 'changeGraph', 'eyJpZCI6IDc5LCAidHlwZSI6ICJ2ZXJ0ZXgiLCAicHJvcHMiOiB7ImNvbG9yIjogMTY3MTE2ODB9fQo=');</script>\n",
       "    "
      ],
      "text/plain": [
       "<IPython.core.display.HTML object>"
      ]
     },
     "metadata": {},
     "output_type": "display_data"
    },
    {
     "data": {
      "text/html": [
       "\n",
       "        <div id=\"R3nxbcnVnYxgGoVdLhhXF4\"></div>\n",
       "        <script>netpixi.call('R3nxbcnVnYxgGoVdLhhXF4', 'Dds9NkHZmJ4Wk4MNSQYHbb', 'changeGraph', 'eyJpZCI6IDYxLCAidHlwZSI6ICJ2ZXJ0ZXgiLCAicHJvcHMiOiB7InNpemUiOiA0MC44MzMzMzMzMzMzMzMzMzZ9fQo=');</script>\n",
       "    "
      ],
      "text/plain": [
       "<IPython.core.display.HTML object>"
      ]
     },
     "metadata": {},
     "output_type": "display_data"
    },
    {
     "data": {
      "text/html": [
       "\n",
       "        <div id=\"DGt6EjWLgS5p82fzTLjJfn\"></div>\n",
       "        <script>netpixi.call('DGt6EjWLgS5p82fzTLjJfn', 'Dds9NkHZmJ4Wk4MNSQYHbb', 'changeGraph', 'eyJpZCI6IDY4LCAidHlwZSI6ICJ2ZXJ0ZXgiLCAicHJvcHMiOiB7ImNvbG9yIjogMTY3MTE2ODB9fQo=');</script>\n",
       "    "
      ],
      "text/plain": [
       "<IPython.core.display.HTML object>"
      ]
     },
     "metadata": {},
     "output_type": "display_data"
    },
    {
     "data": {
      "text/html": [
       "\n",
       "        <div id=\"MYQB3PtrxjUUSo4hmYJb6g\"></div>\n",
       "        <script>netpixi.call('MYQB3PtrxjUUSo4hmYJb6g', 'Dds9NkHZmJ4Wk4MNSQYHbb', 'changeGraph', 'eyJpZCI6IDYyLCAidHlwZSI6ICJ2ZXJ0ZXgiLCAicHJvcHMiOiB7InNpemUiOiA0My4zMzMzMzMzMzMzMzMzMzZ9fQo=');</script>\n",
       "    "
      ],
      "text/plain": [
       "<IPython.core.display.HTML object>"
      ]
     },
     "metadata": {},
     "output_type": "display_data"
    },
    {
     "data": {
      "text/html": [
       "\n",
       "        <div id=\"KiUGD5WM3mRcAxjxGa88C4\"></div>\n",
       "        <script>netpixi.call('KiUGD5WM3mRcAxjxGa88C4', 'Dds9NkHZmJ4Wk4MNSQYHbb', 'changeGraph', 'eyJpZCI6IDgxLCAidHlwZSI6ICJ2ZXJ0ZXgiLCAicHJvcHMiOiB7ImNvbG9yIjogMTY3MTE2ODB9fQo=');</script>\n",
       "    "
      ],
      "text/plain": [
       "<IPython.core.display.HTML object>"
      ]
     },
     "metadata": {},
     "output_type": "display_data"
    },
    {
     "data": {
      "text/html": [
       "\n",
       "        <div id=\"j3TGzMvaciXiAgsXtQQYwZ\"></div>\n",
       "        <script>netpixi.call('j3TGzMvaciXiAgsXtQQYwZ', 'Dds9NkHZmJ4Wk4MNSQYHbb', 'changeGraph', 'eyJpZCI6IDYzLCAidHlwZSI6ICJ2ZXJ0ZXgiLCAicHJvcHMiOiB7InNpemUiOiAxNC44OTUzOTc0ODk1Mzk3NDh9fQo=');</script>\n",
       "    "
      ],
      "text/plain": [
       "<IPython.core.display.HTML object>"
      ]
     },
     "metadata": {},
     "output_type": "display_data"
    },
    {
     "data": {
      "text/html": [
       "\n",
       "        <div id=\"dcmmUq4jLf8EbBr48yAXo4\"></div>\n",
       "        <script>netpixi.call('dcmmUq4jLf8EbBr48yAXo4', 'Dds9NkHZmJ4Wk4MNSQYHbb', 'changeGraph', 'eyJpZCI6IDgyLCAidHlwZSI6ICJ2ZXJ0ZXgiLCAicHJvcHMiOiB7ImNvbG9yIjogMTY3MTE2ODB9fQo=');</script>\n",
       "    "
      ],
      "text/plain": [
       "<IPython.core.display.HTML object>"
      ]
     },
     "metadata": {},
     "output_type": "display_data"
    },
    {
     "data": {
      "text/html": [
       "\n",
       "        <div id=\"TYnWRckUNyQXQpQpb2ZbZg\"></div>\n",
       "        <script>netpixi.call('TYnWRckUNyQXQpQpb2ZbZg', 'Dds9NkHZmJ4Wk4MNSQYHbb', 'changeGraph', 'eyJpZCI6IDY0LCAidHlwZSI6ICJ2ZXJ0ZXgiLCAicHJvcHMiOiB7InNpemUiOiAxNS43NzQwNTg1Nzc0MDU4NTd9fQo=');</script>\n",
       "    "
      ],
      "text/plain": [
       "<IPython.core.display.HTML object>"
      ]
     },
     "metadata": {},
     "output_type": "display_data"
    },
    {
     "data": {
      "text/html": [
       "\n",
       "        <div id=\"FMeFXyE4Z47PttqgSQUsEs\"></div>\n",
       "        <script>netpixi.call('FMeFXyE4Z47PttqgSQUsEs', 'Dds9NkHZmJ4Wk4MNSQYHbb', 'changeGraph', 'eyJpZCI6IDg1LCAidHlwZSI6ICJ2ZXJ0ZXgiLCAicHJvcHMiOiB7ImNvbG9yIjogMTY3MTE2ODB9fQo=');</script>\n",
       "    "
      ],
      "text/plain": [
       "<IPython.core.display.HTML object>"
      ]
     },
     "metadata": {},
     "output_type": "display_data"
    },
    {
     "data": {
      "text/html": [
       "\n",
       "        <div id=\"A8jw7XX9xqP3E3pB7X9jLk\"></div>\n",
       "        <script>netpixi.call('A8jw7XX9xqP3E3pB7X9jLk', 'Dds9NkHZmJ4Wk4MNSQYHbb', 'changeGraph', 'eyJpZCI6IDY1LCAidHlwZSI6ICJ2ZXJ0ZXgiLCAicHJvcHMiOiB7InNpemUiOiAxOS44MzI2MzU5ODMyNjM2fX0K');</script>\n",
       "    "
      ],
      "text/plain": [
       "<IPython.core.display.HTML object>"
      ]
     },
     "metadata": {},
     "output_type": "display_data"
    },
    {
     "data": {
      "text/html": [
       "\n",
       "        <div id=\"E6bNYUmzWG92CJAn8NAMMz\"></div>\n",
       "        <script>netpixi.call('E6bNYUmzWG92CJAn8NAMMz', 'Dds9NkHZmJ4Wk4MNSQYHbb', 'changeGraph', 'eyJpZCI6IDc3LCAidHlwZSI6ICJ2ZXJ0ZXgiLCAicHJvcHMiOiB7ImNvbG9yIjogMTY3MTE2ODB9fQo=');</script>\n",
       "    "
      ],
      "text/plain": [
       "<IPython.core.display.HTML object>"
      ]
     },
     "metadata": {},
     "output_type": "display_data"
    },
    {
     "data": {
      "text/html": [
       "\n",
       "        <div id=\"mkxLrTbwYVNpg7UDZB6eFx\"></div>\n",
       "        <script>netpixi.call('mkxLrTbwYVNpg7UDZB6eFx', 'Dds9NkHZmJ4Wk4MNSQYHbb', 'changeGraph', 'eyJpZCI6IDY2LCAidHlwZSI6ICJ2ZXJ0ZXgiLCAicHJvcHMiOiB7InNpemUiOiAxMS45NjY1MjcxOTY2NTI3Mn19Cg==');</script>\n",
       "    "
      ],
      "text/plain": [
       "<IPython.core.display.HTML object>"
      ]
     },
     "metadata": {},
     "output_type": "display_data"
    },
    {
     "data": {
      "text/html": [
       "\n",
       "        <div id=\"3h2AUNtMpdmVJtfUH9UTnM\"></div>\n",
       "        <script>netpixi.call('3h2AUNtMpdmVJtfUH9UTnM', 'Dds9NkHZmJ4Wk4MNSQYHbb', 'changeGraph', 'eyJpZCI6IDc5LCAidHlwZSI6ICJ2ZXJ0ZXgiLCAicHJvcHMiOiB7ImNvbG9yIjogMTY3MTE2ODB9fQo=');</script>\n",
       "    "
      ],
      "text/plain": [
       "<IPython.core.display.HTML object>"
      ]
     },
     "metadata": {},
     "output_type": "display_data"
    },
    {
     "data": {
      "text/html": [
       "\n",
       "        <div id=\"V4pC3bkHvfcjCMJmRqzNKg\"></div>\n",
       "        <script>netpixi.call('V4pC3bkHvfcjCMJmRqzNKg', 'Dds9NkHZmJ4Wk4MNSQYHbb', 'changeGraph', 'eyJpZCI6IDY3LCAidHlwZSI6ICJ2ZXJ0ZXgiLCAicHJvcHMiOiB7InNpemUiOiA0MS4zMzMzMzMzMzMzMzMzM319Cg==');</script>\n",
       "    "
      ],
      "text/plain": [
       "<IPython.core.display.HTML object>"
      ]
     },
     "metadata": {},
     "output_type": "display_data"
    },
    {
     "data": {
      "text/html": [
       "\n",
       "        <div id=\"jqDuwERnT5tJ3CpiuoByXo\"></div>\n",
       "        <script>netpixi.call('jqDuwERnT5tJ3CpiuoByXo', 'Dds9NkHZmJ4Wk4MNSQYHbb', 'changeGraph', 'eyJpZCI6IDgxLCAidHlwZSI6ICJ2ZXJ0ZXgiLCAicHJvcHMiOiB7ImNvbG9yIjogMTY3MTE2ODB9fQo=');</script>\n",
       "    "
      ],
      "text/plain": [
       "<IPython.core.display.HTML object>"
      ]
     },
     "metadata": {},
     "output_type": "display_data"
    },
    {
     "data": {
      "text/html": [
       "\n",
       "        <div id=\"eHrgGUvtERjNduqkhXuzuz\"></div>\n",
       "        <script>netpixi.call('eHrgGUvtERjNduqkhXuzuz', 'Dds9NkHZmJ4Wk4MNSQYHbb', 'changeGraph', 'eyJpZCI6IDY4LCAidHlwZSI6ICJ2ZXJ0ZXgiLCAicHJvcHMiOiB7InNpemUiOiAxMS41NDgxMTcxNTQ4MTE3MTV9fQo=');</script>\n",
       "    "
      ],
      "text/plain": [
       "<IPython.core.display.HTML object>"
      ]
     },
     "metadata": {},
     "output_type": "display_data"
    },
    {
     "data": {
      "text/html": [
       "\n",
       "        <div id=\"TRTNqKrmSJRcg5mLqMwe9R\"></div>\n",
       "        <script>netpixi.call('TRTNqKrmSJRcg5mLqMwe9R', 'Dds9NkHZmJ4Wk4MNSQYHbb', 'changeGraph', 'eyJpZCI6IDY4LCAidHlwZSI6ICJ2ZXJ0ZXgiLCAicHJvcHMiOiB7ImNvbG9yIjogMTY3MTE2ODB9fQo=');</script>\n",
       "    "
      ],
      "text/plain": [
       "<IPython.core.display.HTML object>"
      ]
     },
     "metadata": {},
     "output_type": "display_data"
    },
    {
     "data": {
      "text/html": [
       "\n",
       "        <div id=\"m7SQat4aeVA5mMWwcMMhur\"></div>\n",
       "        <script>netpixi.call('m7SQat4aeVA5mMWwcMMhur', 'Dds9NkHZmJ4Wk4MNSQYHbb', 'changeGraph', 'eyJpZCI6IDY5LCAidHlwZSI6ICJ2ZXJ0ZXgiLCAicHJvcHMiOiB7InNpemUiOiAxMi44NDUxODgyODQ1MTg4Mjh9fQo=');</script>\n",
       "    "
      ],
      "text/plain": [
       "<IPython.core.display.HTML object>"
      ]
     },
     "metadata": {},
     "output_type": "display_data"
    },
    {
     "data": {
      "text/html": [
       "\n",
       "        <div id=\"QgtPHKAfZE8gyGkzUjQKEy\"></div>\n",
       "        <script>netpixi.call('QgtPHKAfZE8gyGkzUjQKEy', 'Dds9NkHZmJ4Wk4MNSQYHbb', 'changeGraph', 'eyJpZCI6IDgwLCAidHlwZSI6ICJ2ZXJ0ZXgiLCAicHJvcHMiOiB7ImNvbG9yIjogMTY3MTE2ODB9fQo=');</script>\n",
       "    "
      ],
      "text/plain": [
       "<IPython.core.display.HTML object>"
      ]
     },
     "metadata": {},
     "output_type": "display_data"
    },
    {
     "data": {
      "text/html": [
       "\n",
       "        <div id=\"XsWhASm6LSZgS3YdjKrDUe\"></div>\n",
       "        <script>netpixi.call('XsWhASm6LSZgS3YdjKrDUe', 'Dds9NkHZmJ4Wk4MNSQYHbb', 'changeGraph', 'eyJpZCI6IDcwLCAidHlwZSI6ICJ2ZXJ0ZXgiLCAicHJvcHMiOiB7InNpemUiOiAxMS4yOTcwNzExMjk3MDcxMTN9fQo=');</script>\n",
       "    "
      ],
      "text/plain": [
       "<IPython.core.display.HTML object>"
      ]
     },
     "metadata": {},
     "output_type": "display_data"
    },
    {
     "data": {
      "text/html": [
       "\n",
       "        <div id=\"oUmJcxKRqBgTdvDEwvA8wt\"></div>\n",
       "        <script>netpixi.call('oUmJcxKRqBgTdvDEwvA8wt', 'Dds9NkHZmJ4Wk4MNSQYHbb', 'changeGraph', 'eyJpZCI6IDg2LCAidHlwZSI6ICJ2ZXJ0ZXgiLCAicHJvcHMiOiB7ImNvbG9yIjogMTY3MTE2ODB9fQo=');</script>\n",
       "    "
      ],
      "text/plain": [
       "<IPython.core.display.HTML object>"
      ]
     },
     "metadata": {},
     "output_type": "display_data"
    },
    {
     "data": {
      "text/html": [
       "\n",
       "        <div id=\"kfoQMiU6ZLqi4dmfPBV9c3\"></div>\n",
       "        <script>netpixi.call('kfoQMiU6ZLqi4dmfPBV9c3', 'Dds9NkHZmJ4Wk4MNSQYHbb', 'changeGraph', 'eyJpZCI6IDcxLCAidHlwZSI6ICJ2ZXJ0ZXgiLCAicHJvcHMiOiB7InNpemUiOiAxOC41MzU1NjQ4NTM1NTY0ODd9fQo=');</script>\n",
       "    "
      ],
      "text/plain": [
       "<IPython.core.display.HTML object>"
      ]
     },
     "metadata": {},
     "output_type": "display_data"
    },
    {
     "data": {
      "text/html": [
       "\n",
       "        <div id=\"L2oCAXokgTnMxPVuzcRsHP\"></div>\n",
       "        <script>netpixi.call('L2oCAXokgTnMxPVuzcRsHP', 'Dds9NkHZmJ4Wk4MNSQYHbb', 'changeGraph', 'eyJpZCI6IDgzLCAidHlwZSI6ICJ2ZXJ0ZXgiLCAicHJvcHMiOiB7ImNvbG9yIjogMTY3MTE2ODB9fQo=');</script>\n",
       "    "
      ],
      "text/plain": [
       "<IPython.core.display.HTML object>"
      ]
     },
     "metadata": {},
     "output_type": "display_data"
    },
    {
     "data": {
      "text/html": [
       "\n",
       "        <div id=\"CoMyk4KXvyDFtFES82sfAD\"></div>\n",
       "        <script>netpixi.call('CoMyk4KXvyDFtFES82sfAD', 'Dds9NkHZmJ4Wk4MNSQYHbb', 'changeGraph', 'eyJpZCI6IDcyLCAidHlwZSI6ICJ2ZXJ0ZXgiLCAicHJvcHMiOiB7InNpemUiOiAxOC40OTM3MjM4NDkzNzIzODd9fQo=');</script>\n",
       "    "
      ],
      "text/plain": [
       "<IPython.core.display.HTML object>"
      ]
     },
     "metadata": {},
     "output_type": "display_data"
    },
    {
     "data": {
      "text/html": [
       "\n",
       "        <div id=\"WPPDm67ACyN2JTizFRgxy9\"></div>\n",
       "        <script>netpixi.call('WPPDm67ACyN2JTizFRgxy9', 'Dds9NkHZmJ4Wk4MNSQYHbb', 'changeGraph', 'eyJpZCI6IDc2LCAidHlwZSI6ICJ2ZXJ0ZXgiLCAicHJvcHMiOiB7ImNvbG9yIjogMTY3MTE2ODB9fQo=');</script>\n",
       "    "
      ],
      "text/plain": [
       "<IPython.core.display.HTML object>"
      ]
     },
     "metadata": {},
     "output_type": "display_data"
    },
    {
     "data": {
      "text/html": [
       "\n",
       "        <div id=\"DttB3k8ziwdaDNjNvYH6tC\"></div>\n",
       "        <script>netpixi.call('DttB3k8ziwdaDNjNvYH6tC', 'Dds9NkHZmJ4Wk4MNSQYHbb', 'changeGraph', 'eyJpZCI6IDczLCAidHlwZSI6ICJ2ZXJ0ZXgiLCAicHJvcHMiOiB7InNpemUiOiAxOC4wNzUzMTM4MDc1MzEzOH19Cg==');</script>\n",
       "    "
      ],
      "text/plain": [
       "<IPython.core.display.HTML object>"
      ]
     },
     "metadata": {},
     "output_type": "display_data"
    },
    {
     "data": {
      "text/html": [
       "\n",
       "        <div id=\"cMMd59NQjUzcjCpZv9mdyT\"></div>\n",
       "        <script>netpixi.call('cMMd59NQjUzcjCpZv9mdyT', 'Dds9NkHZmJ4Wk4MNSQYHbb', 'changeGraph', 'eyJpZCI6IDgzLCAidHlwZSI6ICJ2ZXJ0ZXgiLCAicHJvcHMiOiB7ImNvbG9yIjogMTY3MTE2ODB9fQo=');</script>\n",
       "    "
      ],
      "text/plain": [
       "<IPython.core.display.HTML object>"
      ]
     },
     "metadata": {},
     "output_type": "display_data"
    },
    {
     "data": {
      "text/html": [
       "\n",
       "        <div id=\"DQmhuvbNQuqHHzBn4dXn52\"></div>\n",
       "        <script>netpixi.call('DQmhuvbNQuqHHzBn4dXn52', 'Dds9NkHZmJ4Wk4MNSQYHbb', 'changeGraph', 'eyJpZCI6IDc0LCAidHlwZSI6ICJ2ZXJ0ZXgiLCAicHJvcHMiOiB7InNpemUiOiAxNC4zMDk2MjM0MzA5NjIzNDN9fQo=');</script>\n",
       "    "
      ],
      "text/plain": [
       "<IPython.core.display.HTML object>"
      ]
     },
     "metadata": {},
     "output_type": "display_data"
    },
    {
     "data": {
      "text/html": [
       "\n",
       "        <div id=\"QJ9VkZrPsvhYd7FuZQUfzt\"></div>\n",
       "        <script>netpixi.call('QJ9VkZrPsvhYd7FuZQUfzt', 'Dds9NkHZmJ4Wk4MNSQYHbb', 'changeGraph', 'eyJpZCI6IDc5LCAidHlwZSI6ICJ2ZXJ0ZXgiLCAicHJvcHMiOiB7ImNvbG9yIjogMTY3MTE2ODB9fQo=');</script>\n",
       "    "
      ],
      "text/plain": [
       "<IPython.core.display.HTML object>"
      ]
     },
     "metadata": {},
     "output_type": "display_data"
    },
    {
     "data": {
      "text/html": [
       "\n",
       "        <div id=\"ih6yqvKLsUYXkU5G9Qzegy\"></div>\n",
       "        <script>netpixi.call('ih6yqvKLsUYXkU5G9Qzegy', 'Dds9NkHZmJ4Wk4MNSQYHbb', 'changeGraph', 'eyJpZCI6IDc1LCAidHlwZSI6ICJ2ZXJ0ZXgiLCAicHJvcHMiOiB7InNpemUiOiA0My4wfX0K');</script>\n",
       "    "
      ],
      "text/plain": [
       "<IPython.core.display.HTML object>"
      ]
     },
     "metadata": {},
     "output_type": "display_data"
    },
    {
     "data": {
      "text/html": [
       "\n",
       "        <div id=\"kPZ6KZAsjWV2oXjpi7NSp2\"></div>\n",
       "        <script>netpixi.call('kPZ6KZAsjWV2oXjpi7NSp2', 'Dds9NkHZmJ4Wk4MNSQYHbb', 'changeGraph', 'eyJpZCI6IDgxLCAidHlwZSI6ICJ2ZXJ0ZXgiLCAicHJvcHMiOiB7ImNvbG9yIjogMTY3MTE2ODB9fQo=');</script>\n",
       "    "
      ],
      "text/plain": [
       "<IPython.core.display.HTML object>"
      ]
     },
     "metadata": {},
     "output_type": "display_data"
    },
    {
     "data": {
      "text/html": [
       "\n",
       "        <div id=\"SqnVt3oFeogBtBUNazgwHi\"></div>\n",
       "        <script>netpixi.call('SqnVt3oFeogBtBUNazgwHi', 'Dds9NkHZmJ4Wk4MNSQYHbb', 'changeGraph', 'eyJpZCI6IDc2LCAidHlwZSI6ICJ2ZXJ0ZXgiLCAicHJvcHMiOiB7InNpemUiOiA0NS42NjY2NjY2NjY2NjY2NjR9fQo=');</script>\n",
       "    "
      ],
      "text/plain": [
       "<IPython.core.display.HTML object>"
      ]
     },
     "metadata": {},
     "output_type": "display_data"
    },
    {
     "data": {
      "text/html": [
       "\n",
       "        <div id=\"9WoKhkH66Yi5n6HszUazAC\"></div>\n",
       "        <script>netpixi.call('9WoKhkH66Yi5n6HszUazAC', 'Dds9NkHZmJ4Wk4MNSQYHbb', 'changeGraph', 'eyJpZCI6IDgyLCAidHlwZSI6ICJ2ZXJ0ZXgiLCAicHJvcHMiOiB7ImNvbG9yIjogMTY3MTE2ODB9fQo=');</script>\n",
       "    "
      ],
      "text/plain": [
       "<IPython.core.display.HTML object>"
      ]
     },
     "metadata": {},
     "output_type": "display_data"
    },
    {
     "data": {
      "text/html": [
       "\n",
       "        <div id=\"GcP9Zky94aXk7JiLq5VzHd\"></div>\n",
       "        <script>netpixi.call('GcP9Zky94aXk7JiLq5VzHd', 'Dds9NkHZmJ4Wk4MNSQYHbb', 'changeGraph', 'eyJpZCI6IDc3LCAidHlwZSI6ICJ2ZXJ0ZXgiLCAicHJvcHMiOiB7InNpemUiOiAxOS40MTQyMjU5NDE0MjI1OTN9fQo=');</script>\n",
       "    "
      ],
      "text/plain": [
       "<IPython.core.display.HTML object>"
      ]
     },
     "metadata": {},
     "output_type": "display_data"
    },
    {
     "data": {
      "text/html": [
       "\n",
       "        <div id=\"WkhdTqJv3BWirzUYXmQR3a\"></div>\n",
       "        <script>netpixi.call('WkhdTqJv3BWirzUYXmQR3a', 'Dds9NkHZmJ4Wk4MNSQYHbb', 'changeGraph', 'eyJpZCI6IDY3LCAidHlwZSI6ICJ2ZXJ0ZXgiLCAicHJvcHMiOiB7ImNvbG9yIjogMTY3MTE2ODB9fQo=');</script>\n",
       "    "
      ],
      "text/plain": [
       "<IPython.core.display.HTML object>"
      ]
     },
     "metadata": {},
     "output_type": "display_data"
    },
    {
     "data": {
      "text/html": [
       "\n",
       "        <div id=\"jsFANENvHYnP3jRWnG9Jwu\"></div>\n",
       "        <script>netpixi.call('jsFANENvHYnP3jRWnG9Jwu', 'Dds9NkHZmJ4Wk4MNSQYHbb', 'changeGraph', 'eyJpZCI6IDc4LCAidHlwZSI6ICJ2ZXJ0ZXgiLCAicHJvcHMiOiB7InNpemUiOiAxNC4zOTMzMDU0MzkzMzA1NDN9fQo=');</script>\n",
       "    "
      ],
      "text/plain": [
       "<IPython.core.display.HTML object>"
      ]
     },
     "metadata": {},
     "output_type": "display_data"
    },
    {
     "data": {
      "text/html": [
       "\n",
       "        <div id=\"SgxJapJtttENMiFbCbXgoX\"></div>\n",
       "        <script>netpixi.call('SgxJapJtttENMiFbCbXgoX', 'Dds9NkHZmJ4Wk4MNSQYHbb', 'changeGraph', 'eyJpZCI6IDc4LCAidHlwZSI6ICJ2ZXJ0ZXgiLCAicHJvcHMiOiB7ImNvbG9yIjogMTY3MTE2ODB9fQo=');</script>\n",
       "    "
      ],
      "text/plain": [
       "<IPython.core.display.HTML object>"
      ]
     },
     "metadata": {},
     "output_type": "display_data"
    },
    {
     "data": {
      "text/html": [
       "\n",
       "        <div id=\"Bez8zgRm6Mjm6vMvg6BSXp\"></div>\n",
       "        <script>netpixi.call('Bez8zgRm6Mjm6vMvg6BSXp', 'Dds9NkHZmJ4Wk4MNSQYHbb', 'changeGraph', 'eyJpZCI6IDc5LCAidHlwZSI6ICJ2ZXJ0ZXgiLCAicHJvcHMiOiB7InNpemUiOiAxOC4wMzM0NzI4MDMzNDcyOH19Cg==');</script>\n",
       "    "
      ],
      "text/plain": [
       "<IPython.core.display.HTML object>"
      ]
     },
     "metadata": {},
     "output_type": "display_data"
    },
    {
     "data": {
      "text/html": [
       "\n",
       "        <div id=\"cmxETnKnXK9bijzei95kZm\"></div>\n",
       "        <script>netpixi.call('cmxETnKnXK9bijzei95kZm', 'Dds9NkHZmJ4Wk4MNSQYHbb', 'changeGraph', 'eyJpZCI6IDgxLCAidHlwZSI6ICJ2ZXJ0ZXgiLCAicHJvcHMiOiB7ImNvbG9yIjogMTY3MTE2ODB9fQo=');</script>\n",
       "    "
      ],
      "text/plain": [
       "<IPython.core.display.HTML object>"
      ]
     },
     "metadata": {},
     "output_type": "display_data"
    },
    {
     "data": {
      "text/html": [
       "\n",
       "        <div id=\"XXDYHh7fhhMXddTuRFL4iu\"></div>\n",
       "        <script>netpixi.call('XXDYHh7fhhMXddTuRFL4iu', 'Dds9NkHZmJ4Wk4MNSQYHbb', 'changeGraph', 'eyJpZCI6IDgwLCAidHlwZSI6ICJ2ZXJ0ZXgiLCAicHJvcHMiOiB7InNpemUiOiA0NS4wfX0K');</script>\n",
       "    "
      ],
      "text/plain": [
       "<IPython.core.display.HTML object>"
      ]
     },
     "metadata": {},
     "output_type": "display_data"
    },
    {
     "data": {
      "text/html": [
       "\n",
       "        <div id=\"8EaoJXZJM6H5PaXe2R6Uer\"></div>\n",
       "        <script>netpixi.call('8EaoJXZJM6H5PaXe2R6Uer', 'Dds9NkHZmJ4Wk4MNSQYHbb', 'changeGraph', 'eyJpZCI6IDcxLCAidHlwZSI6ICJ2ZXJ0ZXgiLCAicHJvcHMiOiB7ImNvbG9yIjogMTY3MTE2ODB9fQo=');</script>\n",
       "    "
      ],
      "text/plain": [
       "<IPython.core.display.HTML object>"
      ]
     },
     "metadata": {},
     "output_type": "display_data"
    },
    {
     "data": {
      "text/html": [
       "\n",
       "        <div id=\"4xRpKHctTj5Mw6vTdyYRwq\"></div>\n",
       "        <script>netpixi.call('4xRpKHctTj5Mw6vTdyYRwq', 'Dds9NkHZmJ4Wk4MNSQYHbb', 'changeGraph', 'eyJpZCI6IDgxLCAidHlwZSI6ICJ2ZXJ0ZXgiLCAicHJvcHMiOiB7InNpemUiOiAxNi4yMzQzMDk2MjM0MzA5Nn19Cg==');</script>\n",
       "    "
      ],
      "text/plain": [
       "<IPython.core.display.HTML object>"
      ]
     },
     "metadata": {},
     "output_type": "display_data"
    },
    {
     "data": {
      "text/html": [
       "\n",
       "        <div id=\"axcNJCaZTbZnyaZV3dXjWW\"></div>\n",
       "        <script>netpixi.call('axcNJCaZTbZnyaZV3dXjWW', 'Dds9NkHZmJ4Wk4MNSQYHbb', 'changeGraph', 'eyJpZCI6IDUzLCAidHlwZSI6ICJ2ZXJ0ZXgiLCAicHJvcHMiOiB7ImNvbG9yIjogMTY3MTE2ODB9fQo=');</script>\n",
       "    "
      ],
      "text/plain": [
       "<IPython.core.display.HTML object>"
      ]
     },
     "metadata": {},
     "output_type": "display_data"
    },
    {
     "data": {
      "text/html": [
       "\n",
       "        <div id=\"7QBNbfvGTYMyeMAgfRNfB8\"></div>\n",
       "        <script>netpixi.call('7QBNbfvGTYMyeMAgfRNfB8', 'Dds9NkHZmJ4Wk4MNSQYHbb', 'changeGraph', 'eyJpZCI6IDgyLCAidHlwZSI6ICJ2ZXJ0ZXgiLCAicHJvcHMiOiB7InNpemUiOiA0NS4zMzMzMzMzMzMzMzMzM319Cg==');</script>\n",
       "    "
      ],
      "text/plain": [
       "<IPython.core.display.HTML object>"
      ]
     },
     "metadata": {},
     "output_type": "display_data"
    },
    {
     "data": {
      "text/html": [
       "\n",
       "        <div id=\"EoQi5Dg4CzYRufC9SCLjKA\"></div>\n",
       "        <script>netpixi.call('EoQi5Dg4CzYRufC9SCLjKA', 'Dds9NkHZmJ4Wk4MNSQYHbb', 'changeGraph', 'eyJpZCI6IDc0LCAidHlwZSI6ICJ2ZXJ0ZXgiLCAicHJvcHMiOiB7ImNvbG9yIjogMTY3MTE2ODB9fQo=');</script>\n",
       "    "
      ],
      "text/plain": [
       "<IPython.core.display.HTML object>"
      ]
     },
     "metadata": {},
     "output_type": "display_data"
    },
    {
     "data": {
      "text/html": [
       "\n",
       "        <div id=\"3tvai9Etr4JYyNVmXBwhH9\"></div>\n",
       "        <script>netpixi.call('3tvai9Etr4JYyNVmXBwhH9', 'Dds9NkHZmJ4Wk4MNSQYHbb', 'changeGraph', 'eyJpZCI6IDgzLCAidHlwZSI6ICJ2ZXJ0ZXgiLCAicHJvcHMiOiB7InNpemUiOiAxNC43Njk4NzQ0NzY5ODc0NDd9fQo=');</script>\n",
       "    "
      ],
      "text/plain": [
       "<IPython.core.display.HTML object>"
      ]
     },
     "metadata": {},
     "output_type": "display_data"
    },
    {
     "data": {
      "text/html": [
       "\n",
       "        <div id=\"AKEown9QwsktTU8Fid9f8n\"></div>\n",
       "        <script>netpixi.call('AKEown9QwsktTU8Fid9f8n', 'Dds9NkHZmJ4Wk4MNSQYHbb', 'changeGraph', 'eyJpZCI6IDgzLCAidHlwZSI6ICJ2ZXJ0ZXgiLCAicHJvcHMiOiB7ImNvbG9yIjogMTY3MTE2ODB9fQo=');</script>\n",
       "    "
      ],
      "text/plain": [
       "<IPython.core.display.HTML object>"
      ]
     },
     "metadata": {},
     "output_type": "display_data"
    },
    {
     "data": {
      "text/html": [
       "\n",
       "        <div id=\"hpQmyLHVEtmmpXFDj5oTPx\"></div>\n",
       "        <script>netpixi.call('hpQmyLHVEtmmpXFDj5oTPx', 'Dds9NkHZmJ4Wk4MNSQYHbb', 'changeGraph', 'eyJpZCI6IDg0LCAidHlwZSI6ICJ2ZXJ0ZXgiLCAicHJvcHMiOiB7InNpemUiOiAxMi4wOTIwNTAyMDkyMDUwMn19Cg==');</script>\n",
       "    "
      ],
      "text/plain": [
       "<IPython.core.display.HTML object>"
      ]
     },
     "metadata": {},
     "output_type": "display_data"
    },
    {
     "data": {
      "text/html": [
       "\n",
       "        <div id=\"YNBT7ZRbxYYRgzKKzF3cFP\"></div>\n",
       "        <script>netpixi.call('YNBT7ZRbxYYRgzKKzF3cFP', 'Dds9NkHZmJ4Wk4MNSQYHbb', 'changeGraph', 'eyJpZCI6IDgwLCAidHlwZSI6ICJ2ZXJ0ZXgiLCAicHJvcHMiOiB7ImNvbG9yIjogMTY3MTE2ODB9fQo=');</script>\n",
       "    "
      ],
      "text/plain": [
       "<IPython.core.display.HTML object>"
      ]
     },
     "metadata": {},
     "output_type": "display_data"
    },
    {
     "data": {
      "text/html": [
       "\n",
       "        <div id=\"85uNCa3jMUVMtfPrqqRb3K\"></div>\n",
       "        <script>netpixi.call('85uNCa3jMUVMtfPrqqRb3K', 'Dds9NkHZmJ4Wk4MNSQYHbb', 'changeGraph', 'eyJpZCI6IDg1LCAidHlwZSI6ICJ2ZXJ0ZXgiLCAicHJvcHMiOiB7InNpemUiOiA0Ni4xNjY2NjY2NjY2NjY2NjR9fQo=');</script>\n",
       "    "
      ],
      "text/plain": [
       "<IPython.core.display.HTML object>"
      ]
     },
     "metadata": {},
     "output_type": "display_data"
    },
    {
     "data": {
      "text/html": [
       "\n",
       "        <div id=\"C66KLD5Gaycn3rA5b3uTPL\"></div>\n",
       "        <script>netpixi.call('C66KLD5Gaycn3rA5b3uTPL', 'Dds9NkHZmJ4Wk4MNSQYHbb', 'changeGraph', 'eyJpZCI6IDg0LCAidHlwZSI6ICJ2ZXJ0ZXgiLCAicHJvcHMiOiB7ImNvbG9yIjogMTY3MTE2ODB9fQo=');</script>\n",
       "    "
      ],
      "text/plain": [
       "<IPython.core.display.HTML object>"
      ]
     },
     "metadata": {},
     "output_type": "display_data"
    },
    {
     "data": {
      "text/html": [
       "\n",
       "        <div id=\"nLrcv5TYn57RshzxVNT75N\"></div>\n",
       "        <script>netpixi.call('nLrcv5TYn57RshzxVNT75N', 'Dds9NkHZmJ4Wk4MNSQYHbb', 'changeGraph', 'eyJpZCI6IDg2LCAidHlwZSI6ICJ2ZXJ0ZXgiLCAicHJvcHMiOiB7InNpemUiOiAxNC4xMDA0MTg0MTAwNDE4NH19Cg==');</script>\n",
       "    "
      ],
      "text/plain": [
       "<IPython.core.display.HTML object>"
      ]
     },
     "metadata": {},
     "output_type": "display_data"
    },
    {
     "data": {
      "text/html": [
       "\n",
       "        <div id=\"gBDw8yJ3tnCakZL9N8z79R\"></div>\n",
       "        <script>netpixi.call('gBDw8yJ3tnCakZL9N8z79R', 'Dds9NkHZmJ4Wk4MNSQYHbb', 'changeGraph', 'eyJpZCI6IDkzLCAidHlwZSI6ICJ2ZXJ0ZXgiLCAicHJvcHMiOiB7ImNvbG9yIjogMTY3MTE2ODB9fQo=');</script>\n",
       "    "
      ],
      "text/plain": [
       "<IPython.core.display.HTML object>"
      ]
     },
     "metadata": {},
     "output_type": "display_data"
    },
    {
     "data": {
      "text/html": [
       "\n",
       "        <div id=\"UMdpui3Wz7QHEfUW9y9Ymq\"></div>\n",
       "        <script>netpixi.call('UMdpui3Wz7QHEfUW9y9Ymq', 'Dds9NkHZmJ4Wk4MNSQYHbb', 'changeGraph', 'eyJpZCI6IDg3LCAidHlwZSI6ICJ2ZXJ0ZXgiLCAicHJvcHMiOiB7InNpemUiOiAxNy4wNzExMjk3MDcxMTI5N319Cg==');</script>\n",
       "    "
      ],
      "text/plain": [
       "<IPython.core.display.HTML object>"
      ]
     },
     "metadata": {},
     "output_type": "display_data"
    },
    {
     "data": {
      "text/html": [
       "\n",
       "        <div id=\"Y4wZpfEMi9Qu6bGpG9h2M8\"></div>\n",
       "        <script>netpixi.call('Y4wZpfEMi9Qu6bGpG9h2M8', 'Dds9NkHZmJ4Wk4MNSQYHbb', 'changeGraph', 'eyJpZCI6IDc1LCAidHlwZSI6ICJ2ZXJ0ZXgiLCAicHJvcHMiOiB7ImNvbG9yIjogMTY3MTE2ODB9fQo=');</script>\n",
       "    "
      ],
      "text/plain": [
       "<IPython.core.display.HTML object>"
      ]
     },
     "metadata": {},
     "output_type": "display_data"
    },
    {
     "data": {
      "text/html": [
       "\n",
       "        <div id=\"45Mbrix7WcF89QpgyfhVdR\"></div>\n",
       "        <script>netpixi.call('45Mbrix7WcF89QpgyfhVdR', 'Dds9NkHZmJ4Wk4MNSQYHbb', 'changeGraph', 'eyJpZCI6IDg4LCAidHlwZSI6ICJ2ZXJ0ZXgiLCAicHJvcHMiOiB7InNpemUiOiA0MS4xNjY2NjY2NjY2NjY2N319Cg==');</script>\n",
       "    "
      ],
      "text/plain": [
       "<IPython.core.display.HTML object>"
      ]
     },
     "metadata": {},
     "output_type": "display_data"
    },
    {
     "data": {
      "text/html": [
       "\n",
       "        <div id=\"8PCiT2jbLaFsPGTxjiQNtt\"></div>\n",
       "        <script>netpixi.call('8PCiT2jbLaFsPGTxjiQNtt', 'Dds9NkHZmJ4Wk4MNSQYHbb', 'changeGraph', 'eyJpZCI6IDg1LCAidHlwZSI6ICJ2ZXJ0ZXgiLCAicHJvcHMiOiB7ImNvbG9yIjogMTY3MTE2ODB9fQo=');</script>\n",
       "    "
      ],
      "text/plain": [
       "<IPython.core.display.HTML object>"
      ]
     },
     "metadata": {},
     "output_type": "display_data"
    },
    {
     "data": {
      "text/html": [
       "\n",
       "        <div id=\"GXMgnMaE7Fm7kv4B3cHhT6\"></div>\n",
       "        <script>netpixi.call('GXMgnMaE7Fm7kv4B3cHhT6', 'Dds9NkHZmJ4Wk4MNSQYHbb', 'changeGraph', 'eyJpZCI6IDg5LCAidHlwZSI6ICJ2ZXJ0ZXgiLCAicHJvcHMiOiB7InNpemUiOiAxOS40NTYwNjY5NDU2MDY2OTN9fQo=');</script>\n",
       "    "
      ],
      "text/plain": [
       "<IPython.core.display.HTML object>"
      ]
     },
     "metadata": {},
     "output_type": "display_data"
    },
    {
     "data": {
      "text/html": [
       "\n",
       "        <div id=\"m2gb9fEFJffdJyx7YctgrU\"></div>\n",
       "        <script>netpixi.call('m2gb9fEFJffdJyx7YctgrU', 'Dds9NkHZmJ4Wk4MNSQYHbb', 'changeGraph', 'eyJpZCI6IDc5LCAidHlwZSI6ICJ2ZXJ0ZXgiLCAicHJvcHMiOiB7ImNvbG9yIjogMTY3MTE2ODB9fQo=');</script>\n",
       "    "
      ],
      "text/plain": [
       "<IPython.core.display.HTML object>"
      ]
     },
     "metadata": {},
     "output_type": "display_data"
    },
    {
     "data": {
      "text/html": [
       "\n",
       "        <div id=\"LLVxxpMe6TbrPQAU8ce3pw\"></div>\n",
       "        <script>netpixi.call('LLVxxpMe6TbrPQAU8ce3pw', 'Dds9NkHZmJ4Wk4MNSQYHbb', 'changeGraph', 'eyJpZCI6IDkwLCAidHlwZSI6ICJ2ZXJ0ZXgiLCAicHJvcHMiOiB7InNpemUiOiAxOS4xNjMxNzk5MTYzMTc5OX19Cg==');</script>\n",
       "    "
      ],
      "text/plain": [
       "<IPython.core.display.HTML object>"
      ]
     },
     "metadata": {},
     "output_type": "display_data"
    },
    {
     "data": {
      "text/html": [
       "\n",
       "        <div id=\"8RAxGJWDte54shFGHEEsGX\"></div>\n",
       "        <script>netpixi.call('8RAxGJWDte54shFGHEEsGX', 'Dds9NkHZmJ4Wk4MNSQYHbb', 'changeGraph', 'eyJpZCI6IDgyLCAidHlwZSI6ICJ2ZXJ0ZXgiLCAicHJvcHMiOiB7ImNvbG9yIjogMTY3MTE2ODB9fQo=');</script>\n",
       "    "
      ],
      "text/plain": [
       "<IPython.core.display.HTML object>"
      ]
     },
     "metadata": {},
     "output_type": "display_data"
    },
    {
     "data": {
      "text/html": [
       "\n",
       "        <div id=\"dtcsbBYBjxBztagG8mJ7r5\"></div>\n",
       "        <script>netpixi.call('dtcsbBYBjxBztagG8mJ7r5', 'Dds9NkHZmJ4Wk4MNSQYHbb', 'changeGraph', 'eyJpZCI6IDkxLCAidHlwZSI6ICJ2ZXJ0ZXgiLCAicHJvcHMiOiB7InNpemUiOiAxMy4zODkxMjEzMzg5MTIxMzN9fQo=');</script>\n",
       "    "
      ],
      "text/plain": [
       "<IPython.core.display.HTML object>"
      ]
     },
     "metadata": {},
     "output_type": "display_data"
    },
    {
     "data": {
      "text/html": [
       "\n",
       "        <div id=\"6STPnd8fDLaAZa4xDwBpjy\"></div>\n",
       "        <script>netpixi.call('6STPnd8fDLaAZa4xDwBpjy', 'Dds9NkHZmJ4Wk4MNSQYHbb', 'changeGraph', 'eyJpZCI6IDgzLCAidHlwZSI6ICJ2ZXJ0ZXgiLCAicHJvcHMiOiB7ImNvbG9yIjogMTY3MTE2ODB9fQo=');</script>\n",
       "    "
      ],
      "text/plain": [
       "<IPython.core.display.HTML object>"
      ]
     },
     "metadata": {},
     "output_type": "display_data"
    },
    {
     "data": {
      "text/html": [
       "\n",
       "        <div id=\"JpEayNcrj7a5Y7xewh754m\"></div>\n",
       "        <script>netpixi.call('JpEayNcrj7a5Y7xewh754m', 'Dds9NkHZmJ4Wk4MNSQYHbb', 'changeGraph', 'eyJpZCI6IDkyLCAidHlwZSI6ICJ2ZXJ0ZXgiLCAicHJvcHMiOiB7InNpemUiOiAxMC4yNTEwNDYwMjUxMDQ2MDN9fQo=');</script>\n",
       "    "
      ],
      "text/plain": [
       "<IPython.core.display.HTML object>"
      ]
     },
     "metadata": {},
     "output_type": "display_data"
    },
    {
     "data": {
      "text/html": [
       "\n",
       "        <div id=\"fG3D4PyXHUAm675qVrLDE5\"></div>\n",
       "        <script>netpixi.call('fG3D4PyXHUAm675qVrLDE5', 'Dds9NkHZmJ4Wk4MNSQYHbb', 'changeGraph', 'eyJpZCI6IDc2LCAidHlwZSI6ICJ2ZXJ0ZXgiLCAicHJvcHMiOiB7ImNvbG9yIjogMTY3MTE2ODB9fQo=');</script>\n",
       "    "
      ],
      "text/plain": [
       "<IPython.core.display.HTML object>"
      ]
     },
     "metadata": {},
     "output_type": "display_data"
    },
    {
     "data": {
      "text/html": [
       "\n",
       "        <div id=\"7wmEk3zmcpXkaob8Zrgobs\"></div>\n",
       "        <script>netpixi.call('7wmEk3zmcpXkaob8Zrgobs', 'Dds9NkHZmJ4Wk4MNSQYHbb', 'changeGraph', 'eyJpZCI6IDkzLCAidHlwZSI6ICJ2ZXJ0ZXgiLCAicHJvcHMiOiB7InNpemUiOiAxMC45NjIzNDMwOTYyMzQzMX19Cg==');</script>\n",
       "    "
      ],
      "text/plain": [
       "<IPython.core.display.HTML object>"
      ]
     },
     "metadata": {},
     "output_type": "display_data"
    },
    {
     "data": {
      "text/html": [
       "\n",
       "        <div id=\"8t2bbMsVUddkkgjEL8ciNb\"></div>\n",
       "        <script>netpixi.call('8t2bbMsVUddkkgjEL8ciNb', 'Dds9NkHZmJ4Wk4MNSQYHbb', 'changeGraph', 'eyJpZCI6IDgyLCAidHlwZSI6ICJ2ZXJ0ZXgiLCAicHJvcHMiOiB7ImNvbG9yIjogMTY3MTE2ODB9fQo=');</script>\n",
       "    "
      ],
      "text/plain": [
       "<IPython.core.display.HTML object>"
      ]
     },
     "metadata": {},
     "output_type": "display_data"
    },
    {
     "data": {
      "text/html": [
       "\n",
       "        <div id=\"AE8UjjvvssP8dCtXWVr4cw\"></div>\n",
       "        <script>netpixi.call('AE8UjjvvssP8dCtXWVr4cw', 'Dds9NkHZmJ4Wk4MNSQYHbb', 'changeGraph', 'eyJpZCI6IDk0LCAidHlwZSI6ICJ2ZXJ0ZXgiLCAicHJvcHMiOiB7InNpemUiOiAxOS44NzQ0NzY5ODc0NDc3fX0K');</script>\n",
       "    "
      ],
      "text/plain": [
       "<IPython.core.display.HTML object>"
      ]
     },
     "metadata": {},
     "output_type": "display_data"
    },
    {
     "data": {
      "text/html": [
       "\n",
       "        <div id=\"kPSw89bSRK5zb8zpjTFecR\"></div>\n",
       "        <script>netpixi.call('kPSw89bSRK5zb8zpjTFecR', 'Dds9NkHZmJ4Wk4MNSQYHbb', 'changeGraph', 'eyJpZCI6IDcxLCAidHlwZSI6ICJ2ZXJ0ZXgiLCAicHJvcHMiOiB7ImNvbG9yIjogMTY3MTE2ODB9fQo=');</script>\n",
       "    "
      ],
      "text/plain": [
       "<IPython.core.display.HTML object>"
      ]
     },
     "metadata": {},
     "output_type": "display_data"
    },
    {
     "data": {
      "text/html": [
       "\n",
       "        <div id=\"47XBpV6tGACkBTac8N7QmQ\"></div>\n",
       "        <script>netpixi.call('47XBpV6tGACkBTac8N7QmQ', 'Dds9NkHZmJ4Wk4MNSQYHbb', 'changeGraph', 'eyJpZCI6IDk1LCAidHlwZSI6ICJ2ZXJ0ZXgiLCAicHJvcHMiOiB7InNpemUiOiAxMC43NTMxMzgwNzUzMTM4MDd9fQo=');</script>\n",
       "    "
      ],
      "text/plain": [
       "<IPython.core.display.HTML object>"
      ]
     },
     "metadata": {},
     "output_type": "display_data"
    },
    {
     "data": {
      "text/html": [
       "\n",
       "        <div id=\"AAx7D4DpumBTFQqnxM5DPa\"></div>\n",
       "        <script>netpixi.call('AAx7D4DpumBTFQqnxM5DPa', 'Dds9NkHZmJ4Wk4MNSQYHbb', 'changeGraph', 'eyJpZCI6IDY1LCAidHlwZSI6ICJ2ZXJ0ZXgiLCAicHJvcHMiOiB7ImNvbG9yIjogMTY3MTE2ODB9fQo=');</script>\n",
       "    "
      ],
      "text/plain": [
       "<IPython.core.display.HTML object>"
      ]
     },
     "metadata": {},
     "output_type": "display_data"
    },
    {
     "data": {
      "text/html": [
       "\n",
       "        <div id=\"iGF932or76QUrsvzK8ZCJs\"></div>\n",
       "        <script>netpixi.call('iGF932or76QUrsvzK8ZCJs', 'Dds9NkHZmJ4Wk4MNSQYHbb', 'changeGraph', 'eyJpZCI6IDk2LCAidHlwZSI6ICJ2ZXJ0ZXgiLCAicHJvcHMiOiB7InNpemUiOiAxOS43NDg5NTM5NzQ4OTUzOTd9fQo=');</script>\n",
       "    "
      ],
      "text/plain": [
       "<IPython.core.display.HTML object>"
      ]
     },
     "metadata": {},
     "output_type": "display_data"
    },
    {
     "data": {
      "text/html": [
       "\n",
       "        <div id=\"DT3qQovLTTPusbLwx6Cftz\"></div>\n",
       "        <script>netpixi.call('DT3qQovLTTPusbLwx6Cftz', 'Dds9NkHZmJ4Wk4MNSQYHbb', 'changeGraph', 'eyJpZCI6IDg5LCAidHlwZSI6ICJ2ZXJ0ZXgiLCAicHJvcHMiOiB7ImNvbG9yIjogMTY3MTE2ODB9fQo=');</script>\n",
       "    "
      ],
      "text/plain": [
       "<IPython.core.display.HTML object>"
      ]
     },
     "metadata": {},
     "output_type": "display_data"
    },
    {
     "data": {
      "text/html": [
       "\n",
       "        <div id=\"iuznJBVZeX6kLqDHiWYj2C\"></div>\n",
       "        <script>netpixi.call('iuznJBVZeX6kLqDHiWYj2C', 'Dds9NkHZmJ4Wk4MNSQYHbb', 'changeGraph', 'eyJpZCI6IDk3LCAidHlwZSI6ICJ2ZXJ0ZXgiLCAicHJvcHMiOiB7InNpemUiOiAxMS4zODA3NTMxMzgwNzUzMTN9fQo=');</script>\n",
       "    "
      ],
      "text/plain": [
       "<IPython.core.display.HTML object>"
      ]
     },
     "metadata": {},
     "output_type": "display_data"
    },
    {
     "data": {
      "text/html": [
       "\n",
       "        <div id=\"fBKrRzULAStwBaiVBjst3e\"></div>\n",
       "        <script>netpixi.call('fBKrRzULAStwBaiVBjst3e', 'Dds9NkHZmJ4Wk4MNSQYHbb', 'changeGraph', 'eyJpZCI6IDczLCAidHlwZSI6ICJ2ZXJ0ZXgiLCAicHJvcHMiOiB7ImNvbG9yIjogMTY3MTE2ODB9fQo=');</script>\n",
       "    "
      ],
      "text/plain": [
       "<IPython.core.display.HTML object>"
      ]
     },
     "metadata": {},
     "output_type": "display_data"
    },
    {
     "data": {
      "text/html": [
       "\n",
       "        <div id=\"FnydosPfhzirj2dMsj2sEU\"></div>\n",
       "        <script>netpixi.call('FnydosPfhzirj2dMsj2sEU', 'Dds9NkHZmJ4Wk4MNSQYHbb', 'changeGraph', 'eyJpZCI6IDk4LCAidHlwZSI6ICJ2ZXJ0ZXgiLCAicHJvcHMiOiB7InNpemUiOiAxMi40Njg2MTkyNDY4NjE5MjV9fQo=');</script>\n",
       "    "
      ],
      "text/plain": [
       "<IPython.core.display.HTML object>"
      ]
     },
     "metadata": {},
     "output_type": "display_data"
    },
    {
     "data": {
      "text/html": [
       "\n",
       "        <div id=\"nwqEMpmjjm4hiJ6DRFdE6g\"></div>\n",
       "        <script>netpixi.call('nwqEMpmjjm4hiJ6DRFdE6g', 'Dds9NkHZmJ4Wk4MNSQYHbb', 'changeGraph', 'eyJpZCI6IDcyLCAidHlwZSI6ICJ2ZXJ0ZXgiLCAicHJvcHMiOiB7ImNvbG9yIjogMTY3MTE2ODB9fQo=');</script>\n",
       "    "
      ],
      "text/plain": [
       "<IPython.core.display.HTML object>"
      ]
     },
     "metadata": {},
     "output_type": "display_data"
    },
    {
     "data": {
      "text/html": [
       "\n",
       "        <div id=\"gYgSzg8hCJtG2ZuYkxQHiB\"></div>\n",
       "        <script>netpixi.call('gYgSzg8hCJtG2ZuYkxQHiB', 'Dds9NkHZmJ4Wk4MNSQYHbb', 'changeGraph', 'eyJpZCI6IDk5LCAidHlwZSI6ICJ2ZXJ0ZXgiLCAicHJvcHMiOiB7InNpemUiOiAxMS4yNTUyMzAxMjU1MjMwMTN9fQo=');</script>\n",
       "    "
      ],
      "text/plain": [
       "<IPython.core.display.HTML object>"
      ]
     },
     "metadata": {},
     "output_type": "display_data"
    },
    {
     "data": {
      "text/html": [
       "\n",
       "        <div id=\"DYCkCFRMi865BuTR6JwL4H\"></div>\n",
       "        <script>netpixi.call('DYCkCFRMi865BuTR6JwL4H', 'Dds9NkHZmJ4Wk4MNSQYHbb', 'changeGraph', 'eyJpZCI6IDc1LCAidHlwZSI6ICJ2ZXJ0ZXgiLCAicHJvcHMiOiB7ImNvbG9yIjogMTY3MTE2ODB9fQo=');</script>\n",
       "    "
      ],
      "text/plain": [
       "<IPython.core.display.HTML object>"
      ]
     },
     "metadata": {},
     "output_type": "display_data"
    },
    {
     "data": {
      "text/html": [
       "\n",
       "        <div id=\"Z3GcUG8zJQE97Qn2aigkSb\"></div>\n",
       "        <script>netpixi.call('Z3GcUG8zJQE97Qn2aigkSb', 'Dds9NkHZmJ4Wk4MNSQYHbb', 'changeGraph', 'eyJpZCI6IDEwMCwgInR5cGUiOiAidmVydGV4IiwgInByb3BzIjogeyJzaXplIjogNDkuODMzMzMzMzMzMzMzMzM2fX0K');</script>\n",
       "    "
      ],
      "text/plain": [
       "<IPython.core.display.HTML object>"
      ]
     },
     "metadata": {},
     "output_type": "display_data"
    },
    {
     "data": {
      "text/html": [
       "\n",
       "        <div id=\"5oo6S8tgLHX8mjB6WfbLY8\"></div>\n",
       "        <script>netpixi.call('5oo6S8tgLHX8mjB6WfbLY8', 'Dds9NkHZmJ4Wk4MNSQYHbb', 'changeGraph', 'eyJpZCI6IDc3LCAidHlwZSI6ICJ2ZXJ0ZXgiLCAicHJvcHMiOiB7ImNvbG9yIjogMTY3MTE2ODB9fQo=');</script>\n",
       "    "
      ],
      "text/plain": [
       "<IPython.core.display.HTML object>"
      ]
     },
     "metadata": {},
     "output_type": "display_data"
    },
    {
     "data": {
      "text/html": [
       "\n",
       "        <div id=\"bBvUCgXNe8yH9LeSYpxTt9\"></div>\n",
       "        <script>netpixi.call('bBvUCgXNe8yH9LeSYpxTt9', 'Dds9NkHZmJ4Wk4MNSQYHbb', 'changeGraph', 'eyJpZCI6IDEwMSwgInR5cGUiOiAidmVydGV4IiwgInByb3BzIjogeyJzaXplIjogMTIuODAzMzQ3MjgwMzM0NzI3fX0K');</script>\n",
       "    "
      ],
      "text/plain": [
       "<IPython.core.display.HTML object>"
      ]
     },
     "metadata": {},
     "output_type": "display_data"
    },
    {
     "data": {
      "text/html": [
       "\n",
       "        <div id=\"PJ6xF3isqcHxiRka9Quym8\"></div>\n",
       "        <script>netpixi.call('PJ6xF3isqcHxiRka9Quym8', 'Dds9NkHZmJ4Wk4MNSQYHbb', 'changeGraph', 'eyJpZCI6IDg1LCAidHlwZSI6ICJ2ZXJ0ZXgiLCAicHJvcHMiOiB7ImNvbG9yIjogMTY3MTE2ODB9fQo=');</script>\n",
       "    "
      ],
      "text/plain": [
       "<IPython.core.display.HTML object>"
      ]
     },
     "metadata": {},
     "output_type": "display_data"
    },
    {
     "data": {
      "text/html": [
       "\n",
       "        <div id=\"72BHwfV6MeF6Wo6JjgqHfm\"></div>\n",
       "        <script>netpixi.call('72BHwfV6MeF6Wo6JjgqHfm', 'Dds9NkHZmJ4Wk4MNSQYHbb', 'changeGraph', 'eyJpZCI6IDEwMiwgInR5cGUiOiAidmVydGV4IiwgInByb3BzIjogeyJzaXplIjogMTIuNjM1OTgzMjYzNTk4MzI3fX0K');</script>\n",
       "    "
      ],
      "text/plain": [
       "<IPython.core.display.HTML object>"
      ]
     },
     "metadata": {},
     "output_type": "display_data"
    },
    {
     "data": {
      "text/html": [
       "\n",
       "        <div id=\"biFk5UEGdeTNX7B3a3jAKk\"></div>\n",
       "        <script>netpixi.call('biFk5UEGdeTNX7B3a3jAKk', 'Dds9NkHZmJ4Wk4MNSQYHbb', 'changeGraph', 'eyJpZCI6IDc2LCAidHlwZSI6ICJ2ZXJ0ZXgiLCAicHJvcHMiOiB7ImNvbG9yIjogMTY3MTE2ODB9fQo=');</script>\n",
       "    "
      ],
      "text/plain": [
       "<IPython.core.display.HTML object>"
      ]
     },
     "metadata": {},
     "output_type": "display_data"
    },
    {
     "data": {
      "text/html": [
       "\n",
       "        <div id=\"mMWpipYtf2idyiNY4rUfwQ\"></div>\n",
       "        <script>netpixi.call('mMWpipYtf2idyiNY4rUfwQ', 'Dds9NkHZmJ4Wk4MNSQYHbb', 'changeGraph', 'eyJpZCI6IDEwMywgInR5cGUiOiAidmVydGV4IiwgInByb3BzIjogeyJzaXplIjogMTcuNjk4NzQ0NzY5ODc0NDc3fX0K');</script>\n",
       "    "
      ],
      "text/plain": [
       "<IPython.core.display.HTML object>"
      ]
     },
     "metadata": {},
     "output_type": "display_data"
    },
    {
     "data": {
      "text/html": [
       "\n",
       "        <div id=\"hn2JGaBf9gWwTgTbzijWZ8\"></div>\n",
       "        <script>netpixi.call('hn2JGaBf9gWwTgTbzijWZ8', 'Dds9NkHZmJ4Wk4MNSQYHbb', 'changeGraph', 'eyJpZCI6IDUzLCAidHlwZSI6ICJ2ZXJ0ZXgiLCAicHJvcHMiOiB7ImNvbG9yIjogMTY3MTE2ODB9fQo=');</script>\n",
       "    "
      ],
      "text/plain": [
       "<IPython.core.display.HTML object>"
      ]
     },
     "metadata": {},
     "output_type": "display_data"
    },
    {
     "data": {
      "text/html": [
       "\n",
       "        <div id=\"Fgwnx5BD7FUx9CUuPRfQCt\"></div>\n",
       "        <script>netpixi.call('Fgwnx5BD7FUx9CUuPRfQCt', 'Dds9NkHZmJ4Wk4MNSQYHbb', 'changeGraph', 'eyJpZCI6IDEwNCwgInR5cGUiOiAidmVydGV4IiwgInByb3BzIjogeyJzaXplIjogMTYuMTkyNDY4NjE5MjQ2ODZ9fQo=');</script>\n",
       "    "
      ],
      "text/plain": [
       "<IPython.core.display.HTML object>"
      ]
     },
     "metadata": {},
     "output_type": "display_data"
    },
    {
     "data": {
      "text/html": [
       "\n",
       "        <div id=\"GmSrCr33WgfMropNrkSdQG\"></div>\n",
       "        <script>netpixi.call('GmSrCr33WgfMropNrkSdQG', 'Dds9NkHZmJ4Wk4MNSQYHbb', 'changeGraph', 'eyJpZCI6IDY4LCAidHlwZSI6ICJ2ZXJ0ZXgiLCAicHJvcHMiOiB7ImNvbG9yIjogMTY3MTE2ODB9fQo=');</script>\n",
       "    "
      ],
      "text/plain": [
       "<IPython.core.display.HTML object>"
      ]
     },
     "metadata": {},
     "output_type": "display_data"
    },
    {
     "data": {
      "text/html": [
       "\n",
       "        <div id=\"iJ34HyyjGBTbLpehGPFdD9\"></div>\n",
       "        <script>netpixi.call('iJ34HyyjGBTbLpehGPFdD9', 'Dds9NkHZmJ4Wk4MNSQYHbb', 'changeGraph', 'eyJpZCI6IDEwNSwgInR5cGUiOiAidmVydGV4IiwgInByb3BzIjogeyJzaXplIjogMTkuNjIzNDMwOTYyMzQzMDk3fX0K');</script>\n",
       "    "
      ],
      "text/plain": [
       "<IPython.core.display.HTML object>"
      ]
     },
     "metadata": {},
     "output_type": "display_data"
    },
    {
     "data": {
      "text/html": [
       "\n",
       "        <div id=\"CCqxxjp2NeLmdiJYKyoh2G\"></div>\n",
       "        <script>netpixi.call('CCqxxjp2NeLmdiJYKyoh2G', 'Dds9NkHZmJ4Wk4MNSQYHbb', 'changeGraph', 'eyJpZCI6IDg4LCAidHlwZSI6ICJ2ZXJ0ZXgiLCAicHJvcHMiOiB7ImNvbG9yIjogMTY3MTE2ODB9fQo=');</script>\n",
       "    "
      ],
      "text/plain": [
       "<IPython.core.display.HTML object>"
      ]
     },
     "metadata": {},
     "output_type": "display_data"
    },
    {
     "data": {
      "text/html": [
       "\n",
       "        <div id=\"KzWf8Yg2LQEfAEwmR3sa3a\"></div>\n",
       "        <script>netpixi.call('KzWf8Yg2LQEfAEwmR3sa3a', 'Dds9NkHZmJ4Wk4MNSQYHbb', 'changeGraph', 'eyJpZCI6IDEwNiwgInR5cGUiOiAidmVydGV4IiwgInByb3BzIjogeyJzaXplIjogMTYuNzc4MjQyNjc3ODI0MjY3fX0K');</script>\n",
       "    "
      ],
      "text/plain": [
       "<IPython.core.display.HTML object>"
      ]
     },
     "metadata": {},
     "output_type": "display_data"
    },
    {
     "data": {
      "text/html": [
       "\n",
       "        <div id=\"Qgb2PQwTCUJsefMiN8HhdK\"></div>\n",
       "        <script>netpixi.call('Qgb2PQwTCUJsefMiN8HhdK', 'Dds9NkHZmJ4Wk4MNSQYHbb', 'changeGraph', 'eyJpZCI6IDc2LCAidHlwZSI6ICJ2ZXJ0ZXgiLCAicHJvcHMiOiB7ImNvbG9yIjogMTY3MTE2ODB9fQo=');</script>\n",
       "    "
      ],
      "text/plain": [
       "<IPython.core.display.HTML object>"
      ]
     },
     "metadata": {},
     "output_type": "display_data"
    },
    {
     "data": {
      "text/html": [
       "\n",
       "        <div id=\"4B9n8PdCQLZyWBQ9f4zao8\"></div>\n",
       "        <script>netpixi.call('4B9n8PdCQLZyWBQ9f4zao8', 'Dds9NkHZmJ4Wk4MNSQYHbb', 'changeGraph', 'eyJpZCI6IDEwNywgInR5cGUiOiAidmVydGV4IiwgInByb3BzIjogeyJzaXplIjogMTguMzI2MzU5ODMyNjM1OTh9fQo=');</script>\n",
       "    "
      ],
      "text/plain": [
       "<IPython.core.display.HTML object>"
      ]
     },
     "metadata": {},
     "output_type": "display_data"
    },
    {
     "data": {
      "text/html": [
       "\n",
       "        <div id=\"nZMVFdXrqw5hkcK6kERYYW\"></div>\n",
       "        <script>netpixi.call('nZMVFdXrqw5hkcK6kERYYW', 'Dds9NkHZmJ4Wk4MNSQYHbb', 'changeGraph', 'eyJpZCI6IDU3LCAidHlwZSI6ICJ2ZXJ0ZXgiLCAicHJvcHMiOiB7ImNvbG9yIjogMTY3MTE2ODB9fQo=');</script>\n",
       "    "
      ],
      "text/plain": [
       "<IPython.core.display.HTML object>"
      ]
     },
     "metadata": {},
     "output_type": "display_data"
    },
    {
     "data": {
      "text/html": [
       "\n",
       "        <div id=\"2ZsWw9k3Hu3s3L8wFNX65K\"></div>\n",
       "        <script>netpixi.call('2ZsWw9k3Hu3s3L8wFNX65K', 'Dds9NkHZmJ4Wk4MNSQYHbb', 'changeGraph', 'eyJpZCI6IDEwOCwgInR5cGUiOiAidmVydGV4IiwgInByb3BzIjogeyJzaXplIjogMTIuNzYxNTA2Mjc2MTUwNjI3fX0K');</script>\n",
       "    "
      ],
      "text/plain": [
       "<IPython.core.display.HTML object>"
      ]
     },
     "metadata": {},
     "output_type": "display_data"
    },
    {
     "data": {
      "text/html": [
       "\n",
       "        <div id=\"NWHKdN6fwvgtZQnTRxkfQx\"></div>\n",
       "        <script>netpixi.call('NWHKdN6fwvgtZQnTRxkfQx', 'Dds9NkHZmJ4Wk4MNSQYHbb', 'changeGraph', 'eyJpZCI6IDcyLCAidHlwZSI6ICJ2ZXJ0ZXgiLCAicHJvcHMiOiB7ImNvbG9yIjogMTY3MTE2ODB9fQo=');</script>\n",
       "    "
      ],
      "text/plain": [
       "<IPython.core.display.HTML object>"
      ]
     },
     "metadata": {},
     "output_type": "display_data"
    },
    {
     "data": {
      "text/html": [
       "\n",
       "        <div id=\"R3SnTabWsrvHtmSLKEE3oj\"></div>\n",
       "        <script>netpixi.call('R3SnTabWsrvHtmSLKEE3oj', 'Dds9NkHZmJ4Wk4MNSQYHbb', 'changeGraph', 'eyJpZCI6IDEwOSwgInR5cGUiOiAidmVydGV4IiwgInByb3BzIjogeyJzaXplIjogMTYuMTA4Nzg2NjEwODc4NjZ9fQo=');</script>\n",
       "    "
      ],
      "text/plain": [
       "<IPython.core.display.HTML object>"
      ]
     },
     "metadata": {},
     "output_type": "display_data"
    },
    {
     "data": {
      "text/html": [
       "\n",
       "        <div id=\"GUUsVqWwkxtdZjtcRHtA8A\"></div>\n",
       "        <script>netpixi.call('GUUsVqWwkxtdZjtcRHtA8A', 'Dds9NkHZmJ4Wk4MNSQYHbb', 'changeGraph', 'eyJpZCI6IDgwLCAidHlwZSI6ICJ2ZXJ0ZXgiLCAicHJvcHMiOiB7ImNvbG9yIjogMTY3MTE2ODB9fQo=');</script>\n",
       "    "
      ],
      "text/plain": [
       "<IPython.core.display.HTML object>"
      ]
     },
     "metadata": {},
     "output_type": "display_data"
    },
    {
     "data": {
      "text/html": [
       "\n",
       "        <div id=\"HPm2SXWJ2YsThSXmZEr5ho\"></div>\n",
       "        <script>netpixi.call('HPm2SXWJ2YsThSXmZEr5ho', 'Dds9NkHZmJ4Wk4MNSQYHbb', 'changeGraph', 'eyJpZCI6IDExMCwgInR5cGUiOiAidmVydGV4IiwgInByb3BzIjogeyJzaXplIjogMTUuMjcxOTY2NTI3MTk2NjUyfX0K');</script>\n",
       "    "
      ],
      "text/plain": [
       "<IPython.core.display.HTML object>"
      ]
     },
     "metadata": {},
     "output_type": "display_data"
    },
    {
     "data": {
      "text/html": [
       "\n",
       "        <div id=\"nB5UsgS5RTXd8rpVcbg8Fg\"></div>\n",
       "        <script>netpixi.call('nB5UsgS5RTXd8rpVcbg8Fg', 'Dds9NkHZmJ4Wk4MNSQYHbb', 'changeGraph', 'eyJpZCI6IDc4LCAidHlwZSI6ICJ2ZXJ0ZXgiLCAicHJvcHMiOiB7ImNvbG9yIjogMTY3MTE2ODB9fQo=');</script>\n",
       "    "
      ],
      "text/plain": [
       "<IPython.core.display.HTML object>"
      ]
     },
     "metadata": {},
     "output_type": "display_data"
    },
    {
     "data": {
      "text/html": [
       "\n",
       "        <div id=\"8P8g5XyarPwohxTcUNSzn5\"></div>\n",
       "        <script>netpixi.call('8P8g5XyarPwohxTcUNSzn5', 'Dds9NkHZmJ4Wk4MNSQYHbb', 'changeGraph', 'eyJpZCI6IDExMSwgInR5cGUiOiAidmVydGV4IiwgInByb3BzIjogeyJzaXplIjogMTMuNDcyODAzMzQ3MjgwMzMzfX0K');</script>\n",
       "    "
      ],
      "text/plain": [
       "<IPython.core.display.HTML object>"
      ]
     },
     "metadata": {},
     "output_type": "display_data"
    },
    {
     "data": {
      "text/html": [
       "\n",
       "        <div id=\"hdm8Zz6FsznMsb2rGNEmqu\"></div>\n",
       "        <script>netpixi.call('hdm8Zz6FsznMsb2rGNEmqu', 'Dds9NkHZmJ4Wk4MNSQYHbb', 'changeGraph', 'eyJpZCI6IDgyLCAidHlwZSI6ICJ2ZXJ0ZXgiLCAicHJvcHMiOiB7ImNvbG9yIjogMTY3MTE2ODB9fQo=');</script>\n",
       "    "
      ],
      "text/plain": [
       "<IPython.core.display.HTML object>"
      ]
     },
     "metadata": {},
     "output_type": "display_data"
    },
    {
     "data": {
      "text/html": [
       "\n",
       "        <div id=\"abJhV5HgqSJhxuzQM8Msgj\"></div>\n",
       "        <script>netpixi.call('abJhV5HgqSJhxuzQM8Msgj', 'Dds9NkHZmJ4Wk4MNSQYHbb', 'changeGraph', 'eyJpZCI6IDExMiwgInR5cGUiOiAidmVydGV4IiwgInByb3BzIjogeyJzaXplIjogNDguODMzMzMzMzMzMzMzMzM2fX0K');</script>\n",
       "    "
      ],
      "text/plain": [
       "<IPython.core.display.HTML object>"
      ]
     },
     "metadata": {},
     "output_type": "display_data"
    },
    {
     "data": {
      "text/html": [
       "\n",
       "        <div id=\"DFdRnKxLXUaUisPY4vE9ei\"></div>\n",
       "        <script>netpixi.call('DFdRnKxLXUaUisPY4vE9ei', 'Dds9NkHZmJ4Wk4MNSQYHbb', 'changeGraph', 'eyJpZCI6IDY2LCAidHlwZSI6ICJ2ZXJ0ZXgiLCAicHJvcHMiOiB7ImNvbG9yIjogMTY3MTE2ODB9fQo=');</script>\n",
       "    "
      ],
      "text/plain": [
       "<IPython.core.display.HTML object>"
      ]
     },
     "metadata": {},
     "output_type": "display_data"
    },
    {
     "data": {
      "text/html": [
       "\n",
       "        <div id=\"hpjTWUWCY6WCvERh8BNC2K\"></div>\n",
       "        <script>netpixi.call('hpjTWUWCY6WCvERh8BNC2K', 'Dds9NkHZmJ4Wk4MNSQYHbb', 'changeGraph', 'eyJpZCI6IDExMywgInR5cGUiOiAidmVydGV4IiwgInByb3BzIjogeyJzaXplIjogNDIuMzMzMzMzMzMzMzMzMzM2fX0K');</script>\n",
       "    "
      ],
      "text/plain": [
       "<IPython.core.display.HTML object>"
      ]
     },
     "metadata": {},
     "output_type": "display_data"
    },
    {
     "data": {
      "text/html": [
       "\n",
       "        <div id=\"jMbuzrHLrkbkgEpseDiPnD\"></div>\n",
       "        <script>netpixi.call('jMbuzrHLrkbkgEpseDiPnD', 'Dds9NkHZmJ4Wk4MNSQYHbb', 'changeGraph', 'eyJpZCI6IDc0LCAidHlwZSI6ICJ2ZXJ0ZXgiLCAicHJvcHMiOiB7ImNvbG9yIjogMTY3MTE2ODB9fQo=');</script>\n",
       "    "
      ],
      "text/plain": [
       "<IPython.core.display.HTML object>"
      ]
     },
     "metadata": {},
     "output_type": "display_data"
    },
    {
     "data": {
      "text/html": [
       "\n",
       "        <div id=\"dFESo5e57X5nc5x6ab8Gtc\"></div>\n",
       "        <script>netpixi.call('dFESo5e57X5nc5x6ab8Gtc', 'Dds9NkHZmJ4Wk4MNSQYHbb', 'changeGraph', 'eyJpZCI6IDExNCwgInR5cGUiOiAidmVydGV4IiwgInByb3BzIjogeyJzaXplIjogNDQuMH19Cg==');</script>\n",
       "    "
      ],
      "text/plain": [
       "<IPython.core.display.HTML object>"
      ]
     },
     "metadata": {},
     "output_type": "display_data"
    },
    {
     "data": {
      "text/html": [
       "\n",
       "        <div id=\"SXhS7cvMRae8qu7wmJUTPf\"></div>\n",
       "        <script>netpixi.call('SXhS7cvMRae8qu7wmJUTPf', 'Dds9NkHZmJ4Wk4MNSQYHbb', 'changeGraph', 'eyJpZCI6IDgxLCAidHlwZSI6ICJ2ZXJ0ZXgiLCAicHJvcHMiOiB7ImNvbG9yIjogMTY3MTE2ODB9fQo=');</script>\n",
       "    "
      ],
      "text/plain": [
       "<IPython.core.display.HTML object>"
      ]
     },
     "metadata": {},
     "output_type": "display_data"
    },
    {
     "data": {
      "text/html": [
       "\n",
       "        <div id=\"oKRvGfmfh56DazV4ifPvgm\"></div>\n",
       "        <script>netpixi.call('oKRvGfmfh56DazV4ifPvgm', 'Dds9NkHZmJ4Wk4MNSQYHbb', 'changeGraph', 'eyJpZCI6IDExNSwgInR5cGUiOiAidmVydGV4IiwgInByb3BzIjogeyJzaXplIjogMTQuNDM1MTQ2NDQzNTE0NjQzfX0K');</script>\n",
       "    "
      ],
      "text/plain": [
       "<IPython.core.display.HTML object>"
      ]
     },
     "metadata": {},
     "output_type": "display_data"
    },
    {
     "data": {
      "text/html": [
       "\n",
       "        <div id=\"Nv8WWeZ3jajw5XG77cEvAb\"></div>\n",
       "        <script>netpixi.call('Nv8WWeZ3jajw5XG77cEvAb', 'Dds9NkHZmJ4Wk4MNSQYHbb', 'changeGraph', 'eyJpZCI6IDgzLCAidHlwZSI6ICJ2ZXJ0ZXgiLCAicHJvcHMiOiB7ImNvbG9yIjogMTY3MTE2ODB9fQo=');</script>\n",
       "    "
      ],
      "text/plain": [
       "<IPython.core.display.HTML object>"
      ]
     },
     "metadata": {},
     "output_type": "display_data"
    },
    {
     "data": {
      "text/html": [
       "\n",
       "        <div id=\"hQuoE2ny7oNC7X6UVwakFK\"></div>\n",
       "        <script>netpixi.call('hQuoE2ny7oNC7X6UVwakFK', 'Dds9NkHZmJ4Wk4MNSQYHbb', 'changeGraph', 'eyJpZCI6IDExNiwgInR5cGUiOiAidmVydGV4IiwgInByb3BzIjogeyJzaXplIjogNDEuNjY2NjY2NjY2NjY2NjY0fX0K');</script>\n",
       "    "
      ],
      "text/plain": [
       "<IPython.core.display.HTML object>"
      ]
     },
     "metadata": {},
     "output_type": "display_data"
    },
    {
     "data": {
      "text/html": [
       "\n",
       "        <div id=\"fvMeUz4VR7VovqjbJFMiUa\"></div>\n",
       "        <script>netpixi.call('fvMeUz4VR7VovqjbJFMiUa', 'Dds9NkHZmJ4Wk4MNSQYHbb', 'changeGraph', 'eyJpZCI6IDc3LCAidHlwZSI6ICJ2ZXJ0ZXgiLCAicHJvcHMiOiB7ImNvbG9yIjogMTY3MTE2ODB9fQo=');</script>\n",
       "    "
      ],
      "text/plain": [
       "<IPython.core.display.HTML object>"
      ]
     },
     "metadata": {},
     "output_type": "display_data"
    },
    {
     "data": {
      "text/html": [
       "\n",
       "        <div id=\"HwSvSXPHZTxhHBj95QXVNF\"></div>\n",
       "        <script>netpixi.call('HwSvSXPHZTxhHBj95QXVNF', 'Dds9NkHZmJ4Wk4MNSQYHbb', 'changeGraph', 'eyJpZCI6IDExNywgInR5cGUiOiAidmVydGV4IiwgInByb3BzIjogeyJzaXplIjogMTEuODgyODQ1MTg4Mjg0NTE4fX0K');</script>\n",
       "    "
      ],
      "text/plain": [
       "<IPython.core.display.HTML object>"
      ]
     },
     "metadata": {},
     "output_type": "display_data"
    },
    {
     "data": {
      "text/html": [
       "\n",
       "        <div id=\"jdwwnWKht9y7fNCXhLhJek\"></div>\n",
       "        <script>netpixi.call('jdwwnWKht9y7fNCXhLhJek', 'Dds9NkHZmJ4Wk4MNSQYHbb', 'changeGraph', 'eyJpZCI6IDgyLCAidHlwZSI6ICJ2ZXJ0ZXgiLCAicHJvcHMiOiB7ImNvbG9yIjogMTY3MTE2ODB9fQo=');</script>\n",
       "    "
      ],
      "text/plain": [
       "<IPython.core.display.HTML object>"
      ]
     },
     "metadata": {},
     "output_type": "display_data"
    },
    {
     "data": {
      "text/html": [
       "\n",
       "        <div id=\"B37WiSQMm82riL6AmTP5rX\"></div>\n",
       "        <script>netpixi.call('B37WiSQMm82riL6AmTP5rX', 'Dds9NkHZmJ4Wk4MNSQYHbb', 'changeGraph', 'eyJpZCI6IDExOCwgInR5cGUiOiAidmVydGV4IiwgInByb3BzIjogeyJzaXplIjogNDYuNjY2NjY2NjY2NjY2NjY0fX0K');</script>\n",
       "    "
      ],
      "text/plain": [
       "<IPython.core.display.HTML object>"
      ]
     },
     "metadata": {},
     "output_type": "display_data"
    },
    {
     "data": {
      "text/html": [
       "\n",
       "        <div id=\"KDjpfeb9UJAStg9uVdvZwZ\"></div>\n",
       "        <script>netpixi.call('KDjpfeb9UJAStg9uVdvZwZ', 'Dds9NkHZmJ4Wk4MNSQYHbb', 'changeGraph', 'eyJpZCI6IDc4LCAidHlwZSI6ICJ2ZXJ0ZXgiLCAicHJvcHMiOiB7ImNvbG9yIjogMTY3MTE2ODB9fQo=');</script>\n",
       "    "
      ],
      "text/plain": [
       "<IPython.core.display.HTML object>"
      ]
     },
     "metadata": {},
     "output_type": "display_data"
    },
    {
     "data": {
      "text/html": [
       "\n",
       "        <div id=\"84Gv6ZiZYgsEztcxkGWd38\"></div>\n",
       "        <script>netpixi.call('84Gv6ZiZYgsEztcxkGWd38', 'Dds9NkHZmJ4Wk4MNSQYHbb', 'changeGraph', 'eyJpZCI6IDExOSwgInR5cGUiOiAidmVydGV4IiwgInByb3BzIjogeyJzaXplIjogMTIuMjE3NTczMjIxNzU3MzIyfX0K');</script>\n",
       "    "
      ],
      "text/plain": [
       "<IPython.core.display.HTML object>"
      ]
     },
     "metadata": {},
     "output_type": "display_data"
    },
    {
     "data": {
      "text/html": [
       "\n",
       "        <div id=\"2GhCt2c8pin8kdrgK9p46G\"></div>\n",
       "        <script>netpixi.call('2GhCt2c8pin8kdrgK9p46G', 'Dds9NkHZmJ4Wk4MNSQYHbb', 'changeGraph', 'eyJpZCI6IDcyLCAidHlwZSI6ICJ2ZXJ0ZXgiLCAicHJvcHMiOiB7ImNvbG9yIjogMTY3MTE2ODB9fQo=');</script>\n",
       "    "
      ],
      "text/plain": [
       "<IPython.core.display.HTML object>"
      ]
     },
     "metadata": {},
     "output_type": "display_data"
    },
    {
     "data": {
      "text/html": [
       "\n",
       "        <div id=\"aoM4LrpEo2ssMab6EQWXPc\"></div>\n",
       "        <script>netpixi.call('aoM4LrpEo2ssMab6EQWXPc', 'Dds9NkHZmJ4Wk4MNSQYHbb', 'changeGraph', 'eyJpZCI6IDEyMCwgInR5cGUiOiAidmVydGV4IiwgInByb3BzIjogeyJzaXplIjogMTEuNzU3MzIyMTc1NzMyMjE3fX0K');</script>\n",
       "    "
      ],
      "text/plain": [
       "<IPython.core.display.HTML object>"
      ]
     },
     "metadata": {},
     "output_type": "display_data"
    },
    {
     "data": {
      "text/html": [
       "\n",
       "        <div id=\"8m9dKp8jiLmvNS6pgC7SrZ\"></div>\n",
       "        <script>netpixi.call('8m9dKp8jiLmvNS6pgC7SrZ', 'Dds9NkHZmJ4Wk4MNSQYHbb', 'changeGraph', 'eyJpZCI6IDgyLCAidHlwZSI6ICJ2ZXJ0ZXgiLCAicHJvcHMiOiB7ImNvbG9yIjogMTY3MTE2ODB9fQo=');</script>\n",
       "    "
      ],
      "text/plain": [
       "<IPython.core.display.HTML object>"
      ]
     },
     "metadata": {},
     "output_type": "display_data"
    },
    {
     "data": {
      "text/html": [
       "\n",
       "        <div id=\"NAsVrnFmC3RGHZXc7Vp3qg\"></div>\n",
       "        <script>netpixi.call('NAsVrnFmC3RGHZXc7Vp3qg', 'Dds9NkHZmJ4Wk4MNSQYHbb', 'changeGraph', 'eyJpZCI6IDEyMSwgInR5cGUiOiAidmVydGV4IiwgInByb3BzIjogeyJzaXplIjogMTguODcwMjkyODg3MDI5Mjg3fX0K');</script>\n",
       "    "
      ],
      "text/plain": [
       "<IPython.core.display.HTML object>"
      ]
     },
     "metadata": {},
     "output_type": "display_data"
    },
    {
     "data": {
      "text/html": [
       "\n",
       "        <div id=\"D6i7NS9R9V2F5CUjvoA7CE\"></div>\n",
       "        <script>netpixi.call('D6i7NS9R9V2F5CUjvoA7CE', 'Dds9NkHZmJ4Wk4MNSQYHbb', 'changeGraph', 'eyJpZCI6IDgxLCAidHlwZSI6ICJ2ZXJ0ZXgiLCAicHJvcHMiOiB7ImNvbG9yIjogMTY3MTE2ODB9fQo=');</script>\n",
       "    "
      ],
      "text/plain": [
       "<IPython.core.display.HTML object>"
      ]
     },
     "metadata": {},
     "output_type": "display_data"
    },
    {
     "data": {
      "text/html": [
       "\n",
       "        <div id=\"cSJC4yxLKXEMgzekGCVKRP\"></div>\n",
       "        <script>netpixi.call('cSJC4yxLKXEMgzekGCVKRP', 'Dds9NkHZmJ4Wk4MNSQYHbb', 'changeGraph', 'eyJpZCI6IDEyMiwgInR5cGUiOiAidmVydGV4IiwgInByb3BzIjogeyJzaXplIjogMTMuNzIzODQ5MzcyMzg0OTM3fX0K');</script>\n",
       "    "
      ],
      "text/plain": [
       "<IPython.core.display.HTML object>"
      ]
     },
     "metadata": {},
     "output_type": "display_data"
    },
    {
     "data": {
      "text/html": [
       "\n",
       "        <div id=\"jFneZ6jWQbwnAxqfHxxWMt\"></div>\n",
       "        <script>netpixi.call('jFneZ6jWQbwnAxqfHxxWMt', 'Dds9NkHZmJ4Wk4MNSQYHbb', 'changeGraph', 'eyJpZCI6IDgwLCAidHlwZSI6ICJ2ZXJ0ZXgiLCAicHJvcHMiOiB7ImNvbG9yIjogMTY3MTE2ODB9fQo=');</script>\n",
       "    "
      ],
      "text/plain": [
       "<IPython.core.display.HTML object>"
      ]
     },
     "metadata": {},
     "output_type": "display_data"
    },
    {
     "data": {
      "text/html": [
       "\n",
       "        <div id=\"nRtn3iPnsX47yYdqLTk6YJ\"></div>\n",
       "        <script>netpixi.call('nRtn3iPnsX47yYdqLTk6YJ', 'Dds9NkHZmJ4Wk4MNSQYHbb', 'changeGraph', 'eyJpZCI6IDEyMywgInR5cGUiOiAidmVydGV4IiwgInByb3BzIjogeyJzaXplIjogMTMuMDEyNTUyMzAxMjU1MjN9fQo=');</script>\n",
       "    "
      ],
      "text/plain": [
       "<IPython.core.display.HTML object>"
      ]
     },
     "metadata": {},
     "output_type": "display_data"
    },
    {
     "data": {
      "text/html": [
       "\n",
       "        <div id=\"grpyVb9YQ9xpJzSwXKen7Z\"></div>\n",
       "        <script>netpixi.call('grpyVb9YQ9xpJzSwXKen7Z', 'Dds9NkHZmJ4Wk4MNSQYHbb', 'changeGraph', 'eyJpZCI6IDc0LCAidHlwZSI6ICJ2ZXJ0ZXgiLCAicHJvcHMiOiB7ImNvbG9yIjogMTY3MTE2ODB9fQo=');</script>\n",
       "    "
      ],
      "text/plain": [
       "<IPython.core.display.HTML object>"
      ]
     },
     "metadata": {},
     "output_type": "display_data"
    },
    {
     "data": {
      "text/html": [
       "\n",
       "        <div id=\"kz8SmTPNrEHUEGwDcL7pdB\"></div>\n",
       "        <script>netpixi.call('kz8SmTPNrEHUEGwDcL7pdB', 'Dds9NkHZmJ4Wk4MNSQYHbb', 'changeGraph', 'eyJpZCI6IDEyNCwgInR5cGUiOiAidmVydGV4IiwgInByb3BzIjogeyJzaXplIjogMTkuMDc5NDk3OTA3OTQ5Nzl9fQo=');</script>\n",
       "    "
      ],
      "text/plain": [
       "<IPython.core.display.HTML object>"
      ]
     },
     "metadata": {},
     "output_type": "display_data"
    },
    {
     "data": {
      "text/html": [
       "\n",
       "        <div id=\"U8yBo6VV5rqDYSM4TdU4UF\"></div>\n",
       "        <script>netpixi.call('U8yBo6VV5rqDYSM4TdU4UF', 'Dds9NkHZmJ4Wk4MNSQYHbb', 'changeGraph', 'eyJpZCI6IDgwLCAidHlwZSI6ICJ2ZXJ0ZXgiLCAicHJvcHMiOiB7ImNvbG9yIjogMTY3MTE2ODB9fQo=');</script>\n",
       "    "
      ],
      "text/plain": [
       "<IPython.core.display.HTML object>"
      ]
     },
     "metadata": {},
     "output_type": "display_data"
    },
    {
     "data": {
      "text/html": [
       "\n",
       "        <div id=\"8dfSkH92dfBKoCK3qy5REQ\"></div>\n",
       "        <script>netpixi.call('8dfSkH92dfBKoCK3qy5REQ', 'Dds9NkHZmJ4Wk4MNSQYHbb', 'changeGraph', 'eyJpZCI6IDEyNSwgInR5cGUiOiAidmVydGV4IiwgInByb3BzIjogeyJzaXplIjogMTMuMjYzNTk4MzI2MzU5ODMzfX0K');</script>\n",
       "    "
      ],
      "text/plain": [
       "<IPython.core.display.HTML object>"
      ]
     },
     "metadata": {},
     "output_type": "display_data"
    },
    {
     "data": {
      "text/html": [
       "\n",
       "        <div id=\"ncWEXMbZvewGqXoJbbqL8r\"></div>\n",
       "        <script>netpixi.call('ncWEXMbZvewGqXoJbbqL8r', 'Dds9NkHZmJ4Wk4MNSQYHbb', 'changeGraph', 'eyJpZCI6IDgyLCAidHlwZSI6ICJ2ZXJ0ZXgiLCAicHJvcHMiOiB7ImNvbG9yIjogMTY3MTE2ODB9fQo=');</script>\n",
       "    "
      ],
      "text/plain": [
       "<IPython.core.display.HTML object>"
      ]
     },
     "metadata": {},
     "output_type": "display_data"
    },
    {
     "data": {
      "text/html": [
       "\n",
       "        <div id=\"TutXKzdyRSZorBq5ujbAcn\"></div>\n",
       "        <script>netpixi.call('TutXKzdyRSZorBq5ujbAcn', 'Dds9NkHZmJ4Wk4MNSQYHbb', 'changeGraph', 'eyJpZCI6IDEyNiwgInR5cGUiOiAidmVydGV4IiwgInByb3BzIjogeyJzaXplIjogMTcuMzY0MDE2NzM2NDAxNjczfX0K');</script>\n",
       "    "
      ],
      "text/plain": [
       "<IPython.core.display.HTML object>"
      ]
     },
     "metadata": {},
     "output_type": "display_data"
    },
    {
     "data": {
      "text/html": [
       "\n",
       "        <div id=\"Bb3zSNacw5gwFBV3BmSwyN\"></div>\n",
       "        <script>netpixi.call('Bb3zSNacw5gwFBV3BmSwyN', 'Dds9NkHZmJ4Wk4MNSQYHbb', 'changeGraph', 'eyJpZCI6IDg3LCAidHlwZSI6ICJ2ZXJ0ZXgiLCAicHJvcHMiOiB7ImNvbG9yIjogMTY3MTE2ODB9fQo=');</script>\n",
       "    "
      ],
      "text/plain": [
       "<IPython.core.display.HTML object>"
      ]
     },
     "metadata": {},
     "output_type": "display_data"
    },
    {
     "data": {
      "text/html": [
       "\n",
       "        <div id=\"AubcpCCHd6RrVhQRSXLQRR\"></div>\n",
       "        <script>netpixi.call('AubcpCCHd6RrVhQRSXLQRR', 'Dds9NkHZmJ4Wk4MNSQYHbb', 'changeGraph', 'eyJpZCI6IDEyNywgInR5cGUiOiAidmVydGV4IiwgInByb3BzIjogeyJzaXplIjogMTMuMTM4MDc1MzEzODA3NTMyfX0K');</script>\n",
       "    "
      ],
      "text/plain": [
       "<IPython.core.display.HTML object>"
      ]
     },
     "metadata": {},
     "output_type": "display_data"
    },
    {
     "data": {
      "text/html": [
       "\n",
       "        <div id=\"JGa58jpEMcBTyNcz9BpgNT\"></div>\n",
       "        <script>netpixi.call('JGa58jpEMcBTyNcz9BpgNT', 'Dds9NkHZmJ4Wk4MNSQYHbb', 'changeGraph', 'eyJpZCI6IDc2LCAidHlwZSI6ICJ2ZXJ0ZXgiLCAicHJvcHMiOiB7ImNvbG9yIjogMTY3MTE2ODB9fQo=');</script>\n",
       "    "
      ],
      "text/plain": [
       "<IPython.core.display.HTML object>"
      ]
     },
     "metadata": {},
     "output_type": "display_data"
    },
    {
     "data": {
      "text/html": [
       "\n",
       "        <div id=\"2tdGUAv5T26goso7e8T54L\"></div>\n",
       "        <script>netpixi.call('2tdGUAv5T26goso7e8T54L', 'Dds9NkHZmJ4Wk4MNSQYHbb', 'changeGraph', 'eyJpZCI6IDEyOCwgInR5cGUiOiAidmVydGV4IiwgInByb3BzIjogeyJzaXplIjogNDIuMTY2NjY2NjY2NjY2Njd9fQo=');</script>\n",
       "    "
      ],
      "text/plain": [
       "<IPython.core.display.HTML object>"
      ]
     },
     "metadata": {},
     "output_type": "display_data"
    },
    {
     "data": {
      "text/html": [
       "\n",
       "        <div id=\"2R6J9xew2dGf7NjULphS3y\"></div>\n",
       "        <script>netpixi.call('2R6J9xew2dGf7NjULphS3y', 'Dds9NkHZmJ4Wk4MNSQYHbb', 'changeGraph', 'eyJpZCI6IDczLCAidHlwZSI6ICJ2ZXJ0ZXgiLCAicHJvcHMiOiB7ImNvbG9yIjogMTY3MTE2ODB9fQo=');</script>\n",
       "    "
      ],
      "text/plain": [
       "<IPython.core.display.HTML object>"
      ]
     },
     "metadata": {},
     "output_type": "display_data"
    },
    {
     "data": {
      "text/html": [
       "\n",
       "        <div id=\"Bv8TBgR2am2xrSAxeDPax9\"></div>\n",
       "        <script>netpixi.call('Bv8TBgR2am2xrSAxeDPax9', 'Dds9NkHZmJ4Wk4MNSQYHbb', 'changeGraph', 'eyJpZCI6IDEyOSwgInR5cGUiOiAidmVydGV4IiwgInByb3BzIjogeyJzaXplIjogMTkuNDk3OTA3OTQ5NzkwNzkzfX0K');</script>\n",
       "    "
      ],
      "text/plain": [
       "<IPython.core.display.HTML object>"
      ]
     },
     "metadata": {},
     "output_type": "display_data"
    },
    {
     "data": {
      "text/html": [
       "\n",
       "        <div id=\"gnCkzeWsWCCf63HMqGBM2n\"></div>\n",
       "        <script>netpixi.call('gnCkzeWsWCCf63HMqGBM2n', 'Dds9NkHZmJ4Wk4MNSQYHbb', 'changeGraph', 'eyJpZCI6IDg0LCAidHlwZSI6ICJ2ZXJ0ZXgiLCAicHJvcHMiOiB7ImNvbG9yIjogMTY3MTE2ODB9fQo=');</script>\n",
       "    "
      ],
      "text/plain": [
       "<IPython.core.display.HTML object>"
      ]
     },
     "metadata": {},
     "output_type": "display_data"
    },
    {
     "data": {
      "text/html": [
       "\n",
       "        <div id=\"VQPkHaoNfsbTR7PRLSpZ3R\"></div>\n",
       "        <script>netpixi.call('VQPkHaoNfsbTR7PRLSpZ3R', 'Dds9NkHZmJ4Wk4MNSQYHbb', 'changeGraph', 'eyJpZCI6IDEzMCwgInR5cGUiOiAidmVydGV4IiwgInByb3BzIjogeyJzaXplIjogMTEuNzk5MTYzMTc5OTE2MzE4fX0K');</script>\n",
       "    "
      ],
      "text/plain": [
       "<IPython.core.display.HTML object>"
      ]
     },
     "metadata": {},
     "output_type": "display_data"
    },
    {
     "data": {
      "text/html": [
       "\n",
       "        <div id=\"6J3oDEWgVbLqbyJoKmgvt8\"></div>\n",
       "        <script>netpixi.call('6J3oDEWgVbLqbyJoKmgvt8', 'Dds9NkHZmJ4Wk4MNSQYHbb', 'changeGraph', 'eyJpZCI6IDY0LCAidHlwZSI6ICJ2ZXJ0ZXgiLCAicHJvcHMiOiB7ImNvbG9yIjogMTY3MTE2ODB9fQo=');</script>\n",
       "    "
      ],
      "text/plain": [
       "<IPython.core.display.HTML object>"
      ]
     },
     "metadata": {},
     "output_type": "display_data"
    },
    {
     "data": {
      "text/html": [
       "\n",
       "        <div id=\"a48J2fWLgHvRjkGesLwD63\"></div>\n",
       "        <script>netpixi.call('a48J2fWLgHvRjkGesLwD63', 'Dds9NkHZmJ4Wk4MNSQYHbb', 'changeGraph', 'eyJpZCI6IDEzMSwgInR5cGUiOiAidmVydGV4IiwgInByb3BzIjogeyJzaXplIjogNDEuMH19Cg==');</script>\n",
       "    "
      ],
      "text/plain": [
       "<IPython.core.display.HTML object>"
      ]
     },
     "metadata": {},
     "output_type": "display_data"
    },
    {
     "data": {
      "text/html": [
       "\n",
       "        <div id=\"baaipSi63JMvwQaCF4T4L6\"></div>\n",
       "        <script>netpixi.call('baaipSi63JMvwQaCF4T4L6', 'Dds9NkHZmJ4Wk4MNSQYHbb', 'changeGraph', 'eyJpZCI6IDc5LCAidHlwZSI6ICJ2ZXJ0ZXgiLCAicHJvcHMiOiB7ImNvbG9yIjogMTY3MTE2ODB9fQo=');</script>\n",
       "    "
      ],
      "text/plain": [
       "<IPython.core.display.HTML object>"
      ]
     },
     "metadata": {},
     "output_type": "display_data"
    },
    {
     "data": {
      "text/html": [
       "\n",
       "        <div id=\"XjRfX7u3DstMnVyGuvFxeb\"></div>\n",
       "        <script>netpixi.call('XjRfX7u3DstMnVyGuvFxeb', 'Dds9NkHZmJ4Wk4MNSQYHbb', 'changeGraph', 'eyJpZCI6IDEzMiwgInR5cGUiOiAidmVydGV4IiwgInByb3BzIjogeyJzaXplIjogNDcuMH19Cg==');</script>\n",
       "    "
      ],
      "text/plain": [
       "<IPython.core.display.HTML object>"
      ]
     },
     "metadata": {},
     "output_type": "display_data"
    },
    {
     "data": {
      "text/html": [
       "\n",
       "        <div id=\"Qzz3QEU24AbEoY7Nd7DDNu\"></div>\n",
       "        <script>netpixi.call('Qzz3QEU24AbEoY7Nd7DDNu', 'Dds9NkHZmJ4Wk4MNSQYHbb', 'changeGraph', 'eyJpZCI6IDY2LCAidHlwZSI6ICJ2ZXJ0ZXgiLCAicHJvcHMiOiB7ImNvbG9yIjogMTY3MTE2ODB9fQo=');</script>\n",
       "    "
      ],
      "text/plain": [
       "<IPython.core.display.HTML object>"
      ]
     },
     "metadata": {},
     "output_type": "display_data"
    },
    {
     "data": {
      "text/html": [
       "\n",
       "        <div id=\"92FhEM6Xcxr3RMmixRs9Fu\"></div>\n",
       "        <script>netpixi.call('92FhEM6Xcxr3RMmixRs9Fu', 'Dds9NkHZmJ4Wk4MNSQYHbb', 'changeGraph', 'eyJpZCI6IDEzMywgInR5cGUiOiAidmVydGV4IiwgInByb3BzIjogeyJzaXplIjogMTUuODk5NTgxNTg5OTU4MTU4fX0K');</script>\n",
       "    "
      ],
      "text/plain": [
       "<IPython.core.display.HTML object>"
      ]
     },
     "metadata": {},
     "output_type": "display_data"
    },
    {
     "data": {
      "text/html": [
       "\n",
       "        <div id=\"fNNAmoPNvMW7KX2RoERJY5\"></div>\n",
       "        <script>netpixi.call('fNNAmoPNvMW7KX2RoERJY5', 'Dds9NkHZmJ4Wk4MNSQYHbb', 'changeGraph', 'eyJpZCI6IDc0LCAidHlwZSI6ICJ2ZXJ0ZXgiLCAicHJvcHMiOiB7ImNvbG9yIjogMTY3MTE2ODB9fQo=');</script>\n",
       "    "
      ],
      "text/plain": [
       "<IPython.core.display.HTML object>"
      ]
     },
     "metadata": {},
     "output_type": "display_data"
    },
    {
     "data": {
      "text/html": [
       "\n",
       "        <div id=\"UtYApMNZAXQCaLVtTpjjQg\"></div>\n",
       "        <script>netpixi.call('UtYApMNZAXQCaLVtTpjjQg', 'Dds9NkHZmJ4Wk4MNSQYHbb', 'changeGraph', 'eyJpZCI6IDEzNCwgInR5cGUiOiAidmVydGV4IiwgInByb3BzIjogeyJzaXplIjogMTkuMjQ2ODYxOTI0Njg2MTkzfX0K');</script>\n",
       "    "
      ],
      "text/plain": [
       "<IPython.core.display.HTML object>"
      ]
     },
     "metadata": {},
     "output_type": "display_data"
    },
    {
     "data": {
      "text/html": [
       "\n",
       "        <div id=\"G9waMAgjkxxXNXcw6VE562\"></div>\n",
       "        <script>netpixi.call('G9waMAgjkxxXNXcw6VE562', 'Dds9NkHZmJ4Wk4MNSQYHbb', 'changeGraph', 'eyJpZCI6IDcwLCAidHlwZSI6ICJ2ZXJ0ZXgiLCAicHJvcHMiOiB7ImNvbG9yIjogMTY3MTE2ODB9fQo=');</script>\n",
       "    "
      ],
      "text/plain": [
       "<IPython.core.display.HTML object>"
      ]
     },
     "metadata": {},
     "output_type": "display_data"
    },
    {
     "data": {
      "text/html": [
       "\n",
       "        <div id=\"aits6saaSJVw9vJF9WxuMd\"></div>\n",
       "        <script>netpixi.call('aits6saaSJVw9vJF9WxuMd', 'Dds9NkHZmJ4Wk4MNSQYHbb', 'changeGraph', 'eyJpZCI6IDEzNSwgInR5cGUiOiAidmVydGV4IiwgInByb3BzIjogeyJzaXplIjogMTguMjQyNjc3ODI0MjY3Nzh9fQo=');</script>\n",
       "    "
      ],
      "text/plain": [
       "<IPython.core.display.HTML object>"
      ]
     },
     "metadata": {},
     "output_type": "display_data"
    },
    {
     "data": {
      "text/html": [
       "\n",
       "        <div id=\"AJeSt6tEYxp38emvMKg687\"></div>\n",
       "        <script>netpixi.call('AJeSt6tEYxp38emvMKg687', 'Dds9NkHZmJ4Wk4MNSQYHbb', 'changeGraph', 'eyJpZCI6IDY0LCAidHlwZSI6ICJ2ZXJ0ZXgiLCAicHJvcHMiOiB7ImNvbG9yIjogMTY3MTE2ODB9fQo=');</script>\n",
       "    "
      ],
      "text/plain": [
       "<IPython.core.display.HTML object>"
      ]
     },
     "metadata": {},
     "output_type": "display_data"
    },
    {
     "data": {
      "text/html": [
       "\n",
       "        <div id=\"ZtKoU9pifiMXKf3YeDKn8S\"></div>\n",
       "        <script>netpixi.call('ZtKoU9pifiMXKf3YeDKn8S', 'Dds9NkHZmJ4Wk4MNSQYHbb', 'changeGraph', 'eyJpZCI6IDEzNiwgInR5cGUiOiAidmVydGV4IiwgInByb3BzIjogeyJzaXplIjogMTQuMTQyMjU5NDE0MjI1OTR9fQo=');</script>\n",
       "    "
      ],
      "text/plain": [
       "<IPython.core.display.HTML object>"
      ]
     },
     "metadata": {},
     "output_type": "display_data"
    },
    {
     "data": {
      "text/html": [
       "\n",
       "        <div id=\"o22Wo7szcV4Eh5WcxkrhuD\"></div>\n",
       "        <script>netpixi.call('o22Wo7szcV4Eh5WcxkrhuD', 'Dds9NkHZmJ4Wk4MNSQYHbb', 'changeGraph', 'eyJpZCI6IDgxLCAidHlwZSI6ICJ2ZXJ0ZXgiLCAicHJvcHMiOiB7ImNvbG9yIjogMTY3MTE2ODB9fQo=');</script>\n",
       "    "
      ],
      "text/plain": [
       "<IPython.core.display.HTML object>"
      ]
     },
     "metadata": {},
     "output_type": "display_data"
    },
    {
     "data": {
      "text/html": [
       "\n",
       "        <div id=\"eLpR7b5csREHZz3xJPW6L3\"></div>\n",
       "        <script>netpixi.call('eLpR7b5csREHZz3xJPW6L3', 'Dds9NkHZmJ4Wk4MNSQYHbb', 'changeGraph', 'eyJpZCI6IDEzNywgInR5cGUiOiAidmVydGV4IiwgInByb3BzIjogeyJzaXplIjogMTUuODU3NzQwNTg1Nzc0MDU4fX0K');</script>\n",
       "    "
      ],
      "text/plain": [
       "<IPython.core.display.HTML object>"
      ]
     },
     "metadata": {},
     "output_type": "display_data"
    },
    {
     "data": {
      "text/html": [
       "\n",
       "        <div id=\"5hkohnruU9FaeaYhmfkxty\"></div>\n",
       "        <script>netpixi.call('5hkohnruU9FaeaYhmfkxty', 'Dds9NkHZmJ4Wk4MNSQYHbb', 'changeGraph', 'eyJpZCI6IDc3LCAidHlwZSI6ICJ2ZXJ0ZXgiLCAicHJvcHMiOiB7ImNvbG9yIjogMTY3MTE2ODB9fQo=');</script>\n",
       "    "
      ],
      "text/plain": [
       "<IPython.core.display.HTML object>"
      ]
     },
     "metadata": {},
     "output_type": "display_data"
    },
    {
     "data": {
      "text/html": [
       "\n",
       "        <div id=\"YiowgZwY54VCWwvWFNCaNj\"></div>\n",
       "        <script>netpixi.call('YiowgZwY54VCWwvWFNCaNj', 'Dds9NkHZmJ4Wk4MNSQYHbb', 'changeGraph', 'eyJpZCI6IDEzOCwgInR5cGUiOiAidmVydGV4IiwgInByb3BzIjogeyJzaXplIjogNDUuMTY2NjY2NjY2NjY2NjY0fX0K');</script>\n",
       "    "
      ],
      "text/plain": [
       "<IPython.core.display.HTML object>"
      ]
     },
     "metadata": {},
     "output_type": "display_data"
    },
    {
     "data": {
      "text/html": [
       "\n",
       "        <div id=\"SCkHu3g8Hy64f95bXypHH7\"></div>\n",
       "        <script>netpixi.call('SCkHu3g8Hy64f95bXypHH7', 'Dds9NkHZmJ4Wk4MNSQYHbb', 'changeGraph', 'eyJpZCI6IDgzLCAidHlwZSI6ICJ2ZXJ0ZXgiLCAicHJvcHMiOiB7ImNvbG9yIjogMTY3MTE2ODB9fQo=');</script>\n",
       "    "
      ],
      "text/plain": [
       "<IPython.core.display.HTML object>"
      ]
     },
     "metadata": {},
     "output_type": "display_data"
    },
    {
     "data": {
      "text/html": [
       "\n",
       "        <div id=\"MWwUmeeH8hCsrCScikr4n2\"></div>\n",
       "        <script>netpixi.call('MWwUmeeH8hCsrCScikr4n2', 'Dds9NkHZmJ4Wk4MNSQYHbb', 'changeGraph', 'eyJpZCI6IDEzOSwgInR5cGUiOiAidmVydGV4IiwgInByb3BzIjogeyJzaXplIjogNDguMTY2NjY2NjY2NjY2NjY0fX0K');</script>\n",
       "    "
      ],
      "text/plain": [
       "<IPython.core.display.HTML object>"
      ]
     },
     "metadata": {},
     "output_type": "display_data"
    },
    {
     "data": {
      "text/html": [
       "\n",
       "        <div id=\"BnQFDvEwT8D9w8SrBo7i3J\"></div>\n",
       "        <script>netpixi.call('BnQFDvEwT8D9w8SrBo7i3J', 'Dds9NkHZmJ4Wk4MNSQYHbb', 'changeGraph', 'eyJpZCI6IDc4LCAidHlwZSI6ICJ2ZXJ0ZXgiLCAicHJvcHMiOiB7ImNvbG9yIjogMTY3MTE2ODB9fQo=');</script>\n",
       "    "
      ],
      "text/plain": [
       "<IPython.core.display.HTML object>"
      ]
     },
     "metadata": {},
     "output_type": "display_data"
    },
    {
     "data": {
      "text/html": [
       "\n",
       "        <div id=\"Uftt56233f2QdWBR6BriXM\"></div>\n",
       "        <script>netpixi.call('Uftt56233f2QdWBR6BriXM', 'Dds9NkHZmJ4Wk4MNSQYHbb', 'changeGraph', 'eyJpZCI6IDE0MCwgInR5cGUiOiAidmVydGV4IiwgInByb3BzIjogeyJzaXplIjogMTMuNTk4MzI2MzU5ODMyNjM3fX0K');</script>\n",
       "    "
      ],
      "text/plain": [
       "<IPython.core.display.HTML object>"
      ]
     },
     "metadata": {},
     "output_type": "display_data"
    },
    {
     "data": {
      "text/html": [
       "\n",
       "        <div id=\"icPdiM39ZzzsKiBUMyFHQk\"></div>\n",
       "        <script>netpixi.call('icPdiM39ZzzsKiBUMyFHQk', 'Dds9NkHZmJ4Wk4MNSQYHbb', 'changeGraph', 'eyJpZCI6IDgzLCAidHlwZSI6ICJ2ZXJ0ZXgiLCAicHJvcHMiOiB7ImNvbG9yIjogMTY3MTE2ODB9fQo=');</script>\n",
       "    "
      ],
      "text/plain": [
       "<IPython.core.display.HTML object>"
      ]
     },
     "metadata": {},
     "output_type": "display_data"
    },
    {
     "data": {
      "text/html": [
       "\n",
       "        <div id=\"ZAwveV7fV5wSFiyjizRp7F\"></div>\n",
       "        <script>netpixi.call('ZAwveV7fV5wSFiyjizRp7F', 'Dds9NkHZmJ4Wk4MNSQYHbb', 'changeGraph', 'eyJpZCI6IDE0MSwgInR5cGUiOiAidmVydGV4IiwgInByb3BzIjogeyJzaXplIjogMTIuMDA4MzY4MjAwODM2ODJ9fQo=');</script>\n",
       "    "
      ],
      "text/plain": [
       "<IPython.core.display.HTML object>"
      ]
     },
     "metadata": {},
     "output_type": "display_data"
    },
    {
     "data": {
      "text/html": [
       "\n",
       "        <div id=\"hPUdcSFnzHKRRSLvHDjPSk\"></div>\n",
       "        <script>netpixi.call('hPUdcSFnzHKRRSLvHDjPSk', 'Dds9NkHZmJ4Wk4MNSQYHbb', 'changeGraph', 'eyJpZCI6IDc4LCAidHlwZSI6ICJ2ZXJ0ZXgiLCAicHJvcHMiOiB7ImNvbG9yIjogMTY3MTE2ODB9fQo=');</script>\n",
       "    "
      ],
      "text/plain": [
       "<IPython.core.display.HTML object>"
      ]
     },
     "metadata": {},
     "output_type": "display_data"
    },
    {
     "data": {
      "text/html": [
       "\n",
       "        <div id=\"8S93YQXY3ZPdPGUUEnrPhU\"></div>\n",
       "        <script>netpixi.call('8S93YQXY3ZPdPGUUEnrPhU', 'Dds9NkHZmJ4Wk4MNSQYHbb', 'changeGraph', 'eyJpZCI6IDE0MiwgInR5cGUiOiAidmVydGV4IiwgInByb3BzIjogeyJzaXplIjogMTYuOTQ1NjA2Njk0NTYwNjY2fX0K');</script>\n",
       "    "
      ],
      "text/plain": [
       "<IPython.core.display.HTML object>"
      ]
     },
     "metadata": {},
     "output_type": "display_data"
    },
    {
     "data": {
      "text/html": [
       "\n",
       "        <div id=\"cPfRtnrPBvdFF2W3M2uLpE\"></div>\n",
       "        <script>netpixi.call('cPfRtnrPBvdFF2W3M2uLpE', 'Dds9NkHZmJ4Wk4MNSQYHbb', 'changeGraph', 'eyJpZCI6IDc4LCAidHlwZSI6ICJ2ZXJ0ZXgiLCAicHJvcHMiOiB7ImNvbG9yIjogMTY3MTE2ODB9fQo=');</script>\n",
       "    "
      ],
      "text/plain": [
       "<IPython.core.display.HTML object>"
      ]
     },
     "metadata": {},
     "output_type": "display_data"
    },
    {
     "data": {
      "text/html": [
       "\n",
       "        <div id=\"Wfej2AfC3TU7oPj2C3dSx4\"></div>\n",
       "        <script>netpixi.call('Wfej2AfC3TU7oPj2C3dSx4', 'Dds9NkHZmJ4Wk4MNSQYHbb', 'changeGraph', 'eyJpZCI6IDE0MywgInR5cGUiOiAidmVydGV4IiwgInByb3BzIjogeyJzaXplIjogMTcuMDI5Mjg4NzAyOTI4ODd9fQo=');</script>\n",
       "    "
      ],
      "text/plain": [
       "<IPython.core.display.HTML object>"
      ]
     },
     "metadata": {},
     "output_type": "display_data"
    },
    {
     "data": {
      "text/html": [
       "\n",
       "        <div id=\"2shaVoiSLCAEBHP6NNxdCQ\"></div>\n",
       "        <script>netpixi.call('2shaVoiSLCAEBHP6NNxdCQ', 'Dds9NkHZmJ4Wk4MNSQYHbb', 'changeGraph', 'eyJpZCI6IDc4LCAidHlwZSI6ICJ2ZXJ0ZXgiLCAicHJvcHMiOiB7ImNvbG9yIjogMTY3MTE2ODB9fQo=');</script>\n",
       "    "
      ],
      "text/plain": [
       "<IPython.core.display.HTML object>"
      ]
     },
     "metadata": {},
     "output_type": "display_data"
    },
    {
     "data": {
      "text/html": [
       "\n",
       "        <div id=\"aVPTyupK7vEEqhxdRXiJ6m\"></div>\n",
       "        <script>netpixi.call('aVPTyupK7vEEqhxdRXiJ6m', 'Dds9NkHZmJ4Wk4MNSQYHbb', 'changeGraph', 'eyJpZCI6IDE0NCwgInR5cGUiOiAidmVydGV4IiwgInByb3BzIjogeyJzaXplIjogMTIuMzQzMDk2MjM0MzA5NjIzfX0K');</script>\n",
       "    "
      ],
      "text/plain": [
       "<IPython.core.display.HTML object>"
      ]
     },
     "metadata": {},
     "output_type": "display_data"
    },
    {
     "data": {
      "text/html": [
       "\n",
       "        <div id=\"PGgr3D9bpWZQhbpX69nMTB\"></div>\n",
       "        <script>netpixi.call('PGgr3D9bpWZQhbpX69nMTB', 'Dds9NkHZmJ4Wk4MNSQYHbb', 'changeGraph', 'eyJpZCI6IDUzLCAidHlwZSI6ICJ2ZXJ0ZXgiLCAicHJvcHMiOiB7ImNvbG9yIjogMTY3MTE2ODB9fQo=');</script>\n",
       "    "
      ],
      "text/plain": [
       "<IPython.core.display.HTML object>"
      ]
     },
     "metadata": {},
     "output_type": "display_data"
    },
    {
     "data": {
      "text/html": [
       "\n",
       "        <div id=\"kjtmQu2EsPaq6iM3zHbSHd\"></div>\n",
       "        <script>netpixi.call('kjtmQu2EsPaq6iM3zHbSHd', 'Dds9NkHZmJ4Wk4MNSQYHbb', 'changeGraph', 'eyJpZCI6IDE0NSwgInR5cGUiOiAidmVydGV4IiwgInByb3BzIjogeyJzaXplIjogMTUuMzEzODA3NTMxMzgwNzUzfX0K');</script>\n",
       "    "
      ],
      "text/plain": [
       "<IPython.core.display.HTML object>"
      ]
     },
     "metadata": {},
     "output_type": "display_data"
    },
    {
     "data": {
      "text/html": [
       "\n",
       "        <div id=\"SxswQMHTrBsH3Hse6amDhr\"></div>\n",
       "        <script>netpixi.call('SxswQMHTrBsH3Hse6amDhr', 'Dds9NkHZmJ4Wk4MNSQYHbb', 'changeGraph', 'eyJpZCI6IDk0LCAidHlwZSI6ICJ2ZXJ0ZXgiLCAicHJvcHMiOiB7ImNvbG9yIjogMTY3MTE2ODB9fQo=');</script>\n",
       "    "
      ],
      "text/plain": [
       "<IPython.core.display.HTML object>"
      ]
     },
     "metadata": {},
     "output_type": "display_data"
    },
    {
     "data": {
      "text/html": [
       "\n",
       "        <div id=\"hC5tfSxdTYUJayRGLyTohk\"></div>\n",
       "        <script>netpixi.call('hC5tfSxdTYUJayRGLyTohk', 'Dds9NkHZmJ4Wk4MNSQYHbb', 'changeGraph', 'eyJpZCI6IDE0NiwgInR5cGUiOiAidmVydGV4IiwgInByb3BzIjogeyJzaXplIjogMTIuNzE5NjY1MjcxOTY2NTI3fX0K');</script>\n",
       "    "
      ],
      "text/plain": [
       "<IPython.core.display.HTML object>"
      ]
     },
     "metadata": {},
     "output_type": "display_data"
    },
    {
     "data": {
      "text/html": [
       "\n",
       "        <div id=\"LnPv2WPJkcQk2SXXjRtEE7\"></div>\n",
       "        <script>netpixi.call('LnPv2WPJkcQk2SXXjRtEE7', 'Dds9NkHZmJ4Wk4MNSQYHbb', 'changeGraph', 'eyJpZCI6IDc2LCAidHlwZSI6ICJ2ZXJ0ZXgiLCAicHJvcHMiOiB7ImNvbG9yIjogMTY3MTE2ODB9fQo=');</script>\n",
       "    "
      ],
      "text/plain": [
       "<IPython.core.display.HTML object>"
      ]
     },
     "metadata": {},
     "output_type": "display_data"
    },
    {
     "data": {
      "text/html": [
       "\n",
       "        <div id=\"SdFHbGpZE4VzKdDhCikfHn\"></div>\n",
       "        <script>netpixi.call('SdFHbGpZE4VzKdDhCikfHn', 'Dds9NkHZmJ4Wk4MNSQYHbb', 'changeGraph', 'eyJpZCI6IDE0NywgInR5cGUiOiAidmVydGV4IiwgInByb3BzIjogeyJzaXplIjogMTEuMDA0MTg0MTAwNDE4NDF9fQo=');</script>\n",
       "    "
      ],
      "text/plain": [
       "<IPython.core.display.HTML object>"
      ]
     },
     "metadata": {},
     "output_type": "display_data"
    },
    {
     "data": {
      "text/html": [
       "\n",
       "        <div id=\"DKJtQF9qCYGByJV8APoqqf\"></div>\n",
       "        <script>netpixi.call('DKJtQF9qCYGByJV8APoqqf', 'Dds9NkHZmJ4Wk4MNSQYHbb', 'changeGraph', 'eyJpZCI6IDU0LCAidHlwZSI6ICJ2ZXJ0ZXgiLCAicHJvcHMiOiB7ImNvbG9yIjogMTY3MTE2ODB9fQo=');</script>\n",
       "    "
      ],
      "text/plain": [
       "<IPython.core.display.HTML object>"
      ]
     },
     "metadata": {},
     "output_type": "display_data"
    },
    {
     "data": {
      "text/html": [
       "\n",
       "        <div id=\"FEB84AffsYLxnkjod5cpci\"></div>\n",
       "        <script>netpixi.call('FEB84AffsYLxnkjod5cpci', 'Dds9NkHZmJ4Wk4MNSQYHbb', 'changeGraph', 'eyJpZCI6IDE0OCwgInR5cGUiOiAidmVydGV4IiwgInByb3BzIjogeyJzaXplIjogMTAuMH19Cg==');</script>\n",
       "    "
      ],
      "text/plain": [
       "<IPython.core.display.HTML object>"
      ]
     },
     "metadata": {},
     "output_type": "display_data"
    },
    {
     "data": {
      "text/html": [
       "\n",
       "        <div id=\"DiyPRJhUzChwomfAifeRqj\"></div>\n",
       "        <script>netpixi.call('DiyPRJhUzChwomfAifeRqj', 'Dds9NkHZmJ4Wk4MNSQYHbb', 'changeGraph', 'eyJpZCI6IDY4LCAidHlwZSI6ICJ2ZXJ0ZXgiLCAicHJvcHMiOiB7ImNvbG9yIjogMTY3MTE2ODB9fQo=');</script>\n",
       "    "
      ],
      "text/plain": [
       "<IPython.core.display.HTML object>"
      ]
     },
     "metadata": {},
     "output_type": "display_data"
    },
    {
     "data": {
      "text/html": [
       "\n",
       "        <div id=\"eHpMygPDaYe2Pxw6HQAVkx\"></div>\n",
       "        <script>netpixi.call('eHpMygPDaYe2Pxw6HQAVkx', 'Dds9NkHZmJ4Wk4MNSQYHbb', 'changeGraph', 'eyJpZCI6IDE0OSwgInR5cGUiOiAidmVydGV4IiwgInByb3BzIjogeyJzaXplIjogMTkuNjY1MjcxOTY2NTI3MTk3fX0K');</script>\n",
       "    "
      ],
      "text/plain": [
       "<IPython.core.display.HTML object>"
      ]
     },
     "metadata": {},
     "output_type": "display_data"
    },
    {
     "data": {
      "text/html": [
       "\n",
       "        <div id=\"TGk3nEyPenSwTRE2sK7nj9\"></div>\n",
       "        <script>netpixi.call('TGk3nEyPenSwTRE2sK7nj9', 'Dds9NkHZmJ4Wk4MNSQYHbb', 'changeGraph', 'eyJpZCI6IDY1LCAidHlwZSI6ICJ2ZXJ0ZXgiLCAicHJvcHMiOiB7ImNvbG9yIjogMTY3MTE2ODB9fQo=');</script>\n",
       "    "
      ],
      "text/plain": [
       "<IPython.core.display.HTML object>"
      ]
     },
     "metadata": {},
     "output_type": "display_data"
    },
    {
     "data": {
      "text/html": [
       "\n",
       "        <div id=\"XgwZGFfeQsuqVryvkQGgHm\"></div>\n",
       "        <script>netpixi.call('XgwZGFfeQsuqVryvkQGgHm', 'Dds9NkHZmJ4Wk4MNSQYHbb', 'changeGraph', 'eyJpZCI6IDE1MCwgInR5cGUiOiAidmVydGV4IiwgInByb3BzIjogeyJzaXplIjogNDIuNX19Cg==');</script>\n",
       "    "
      ],
      "text/plain": [
       "<IPython.core.display.HTML object>"
      ]
     },
     "metadata": {},
     "output_type": "display_data"
    },
    {
     "data": {
      "text/html": [
       "\n",
       "        <div id=\"HhyVaQT8sUiTrbg7xF68kP\"></div>\n",
       "        <script>netpixi.call('HhyVaQT8sUiTrbg7xF68kP', 'Dds9NkHZmJ4Wk4MNSQYHbb', 'changeGraph', 'eyJpZCI6IDkwLCAidHlwZSI6ICJ2ZXJ0ZXgiLCAicHJvcHMiOiB7ImNvbG9yIjogMTY3MTE2ODB9fQo=');</script>\n",
       "    "
      ],
      "text/plain": [
       "<IPython.core.display.HTML object>"
      ]
     },
     "metadata": {},
     "output_type": "display_data"
    },
    {
     "data": {
      "text/html": [
       "\n",
       "        <div id=\"92YmTEJGZiGpQDwCVmiT7Y\"></div>\n",
       "        <script>netpixi.call('92YmTEJGZiGpQDwCVmiT7Y', 'Dds9NkHZmJ4Wk4MNSQYHbb', 'changeGraph', 'eyJpZCI6IDE1MSwgInR5cGUiOiAidmVydGV4IiwgInByb3BzIjogeyJzaXplIjogMTcuOTA3OTQ5NzkwNzk0OTh9fQo=');</script>\n",
       "    "
      ],
      "text/plain": [
       "<IPython.core.display.HTML object>"
      ]
     },
     "metadata": {},
     "output_type": "display_data"
    },
    {
     "data": {
      "text/html": [
       "\n",
       "        <div id=\"47aPNT8ckSWmppVU9YzM8C\"></div>\n",
       "        <script>netpixi.call('47aPNT8ckSWmppVU9YzM8C', 'Dds9NkHZmJ4Wk4MNSQYHbb', 'changeGraph', 'eyJpZCI6IDg4LCAidHlwZSI6ICJ2ZXJ0ZXgiLCAicHJvcHMiOiB7ImNvbG9yIjogMTY3MTE2ODB9fQo=');</script>\n",
       "    "
      ],
      "text/plain": [
       "<IPython.core.display.HTML object>"
      ]
     },
     "metadata": {},
     "output_type": "display_data"
    },
    {
     "data": {
      "text/html": [
       "\n",
       "        <div id=\"3SgkVWEka9MxaSeTfczimB\"></div>\n",
       "        <script>netpixi.call('3SgkVWEka9MxaSeTfczimB', 'Dds9NkHZmJ4Wk4MNSQYHbb', 'changeGraph', 'eyJpZCI6IDE1MiwgInR5cGUiOiAidmVydGV4IiwgInByb3BzIjogeyJzaXplIjogMTIuOTI4ODcwMjkyODg3MDN9fQo=');</script>\n",
       "    "
      ],
      "text/plain": [
       "<IPython.core.display.HTML object>"
      ]
     },
     "metadata": {},
     "output_type": "display_data"
    },
    {
     "data": {
      "text/html": [
       "\n",
       "        <div id=\"Wi9xRQVcA2oX3QEwnF8sPv\"></div>\n",
       "        <script>netpixi.call('Wi9xRQVcA2oX3QEwnF8sPv', 'Dds9NkHZmJ4Wk4MNSQYHbb', 'changeGraph', 'eyJpZCI6IDg2LCAidHlwZSI6ICJ2ZXJ0ZXgiLCAicHJvcHMiOiB7ImNvbG9yIjogMTY3MTE2ODB9fQo=');</script>\n",
       "    "
      ],
      "text/plain": [
       "<IPython.core.display.HTML object>"
      ]
     },
     "metadata": {},
     "output_type": "display_data"
    },
    {
     "data": {
      "text/html": [
       "\n",
       "        <div id=\"iT7o68yoeeXCnWrgCkVCqG\"></div>\n",
       "        <script>netpixi.call('iT7o68yoeeXCnWrgCkVCqG', 'Dds9NkHZmJ4Wk4MNSQYHbb', 'changeGraph', 'eyJpZCI6IDE1MywgInR5cGUiOiAidmVydGV4IiwgInByb3BzIjogeyJzaXplIjogMTQuNDc2OTg3NDQ3Njk4NzQzfX0K');</script>\n",
       "    "
      ],
      "text/plain": [
       "<IPython.core.display.HTML object>"
      ]
     },
     "metadata": {},
     "output_type": "display_data"
    },
    {
     "data": {
      "text/html": [
       "\n",
       "        <div id=\"TNo4ijeYyS87w4rThbAJAT\"></div>\n",
       "        <script>netpixi.call('TNo4ijeYyS87w4rThbAJAT', 'Dds9NkHZmJ4Wk4MNSQYHbb', 'changeGraph', 'eyJpZCI6IDcyLCAidHlwZSI6ICJ2ZXJ0ZXgiLCAicHJvcHMiOiB7ImNvbG9yIjogMTY3MTE2ODB9fQo=');</script>\n",
       "    "
      ],
      "text/plain": [
       "<IPython.core.display.HTML object>"
      ]
     },
     "metadata": {},
     "output_type": "display_data"
    },
    {
     "data": {
      "text/html": [
       "\n",
       "        <div id=\"D5hbuRDxULMLBPiBqBk3DM\"></div>\n",
       "        <script>netpixi.call('D5hbuRDxULMLBPiBqBk3DM', 'Dds9NkHZmJ4Wk4MNSQYHbb', 'changeGraph', 'eyJpZCI6IDE1NCwgInR5cGUiOiAidmVydGV4IiwgInByb3BzIjogeyJzaXplIjogMTkuNTgxNTg5OTU4MTU4OTkzfX0K');</script>\n",
       "    "
      ],
      "text/plain": [
       "<IPython.core.display.HTML object>"
      ]
     },
     "metadata": {},
     "output_type": "display_data"
    },
    {
     "data": {
      "text/html": [
       "\n",
       "        <div id=\"cuxwQafRQtp98YsP9YkHxH\"></div>\n",
       "        <script>netpixi.call('cuxwQafRQtp98YsP9YkHxH', 'Dds9NkHZmJ4Wk4MNSQYHbb', 'changeGraph', 'eyJpZCI6IDgyLCAidHlwZSI6ICJ2ZXJ0ZXgiLCAicHJvcHMiOiB7ImNvbG9yIjogMTY3MTE2ODB9fQo=');</script>\n",
       "    "
      ],
      "text/plain": [
       "<IPython.core.display.HTML object>"
      ]
     },
     "metadata": {},
     "output_type": "display_data"
    },
    {
     "data": {
      "text/html": [
       "\n",
       "        <div id=\"ZzApr4q2s9Ri93wV4S4sNd\"></div>\n",
       "        <script>netpixi.call('ZzApr4q2s9Ri93wV4S4sNd', 'Dds9NkHZmJ4Wk4MNSQYHbb', 'changeGraph', 'eyJpZCI6IDE1NSwgInR5cGUiOiAidmVydGV4IiwgInByb3BzIjogeyJzaXplIjogMTUuMTg4Mjg0NTE4ODI4NDV9fQo=');</script>\n",
       "    "
      ],
      "text/plain": [
       "<IPython.core.display.HTML object>"
      ]
     },
     "metadata": {},
     "output_type": "display_data"
    },
    {
     "data": {
      "text/html": [
       "\n",
       "        <div id=\"QZH9WPt7N2Jgr9rLAwttH2\"></div>\n",
       "        <script>netpixi.call('QZH9WPt7N2Jgr9rLAwttH2', 'Dds9NkHZmJ4Wk4MNSQYHbb', 'changeGraph', 'eyJpZCI6IDg2LCAidHlwZSI6ICJ2ZXJ0ZXgiLCAicHJvcHMiOiB7ImNvbG9yIjogMTY3MTE2ODB9fQo=');</script>\n",
       "    "
      ],
      "text/plain": [
       "<IPython.core.display.HTML object>"
      ]
     },
     "metadata": {},
     "output_type": "display_data"
    },
    {
     "data": {
      "text/html": [
       "\n",
       "        <div id=\"SYxZyYbxSqKcgXP2vNM7ht\"></div>\n",
       "        <script>netpixi.call('SYxZyYbxSqKcgXP2vNM7ht', 'Dds9NkHZmJ4Wk4MNSQYHbb', 'changeGraph', 'eyJpZCI6IDE1NiwgInR5cGUiOiAidmVydGV4IiwgInByb3BzIjogeyJzaXplIjogNDkuNjY2NjY2NjY2NjY2Njd9fQo=');</script>\n",
       "    "
      ],
      "text/plain": [
       "<IPython.core.display.HTML object>"
      ]
     },
     "metadata": {},
     "output_type": "display_data"
    },
    {
     "data": {
      "text/html": [
       "\n",
       "        <div id=\"YoDcXnDGGzWs8aAPC5cciP\"></div>\n",
       "        <script>netpixi.call('YoDcXnDGGzWs8aAPC5cciP', 'Dds9NkHZmJ4Wk4MNSQYHbb', 'changeGraph', 'eyJpZCI6IDgxLCAidHlwZSI6ICJ2ZXJ0ZXgiLCAicHJvcHMiOiB7ImNvbG9yIjogMTY3MTE2ODB9fQo=');</script>\n",
       "    "
      ],
      "text/plain": [
       "<IPython.core.display.HTML object>"
      ]
     },
     "metadata": {},
     "output_type": "display_data"
    },
    {
     "data": {
      "text/html": [
       "\n",
       "        <div id=\"ZcE7qqdRMcARhg6SYZVXBd\"></div>\n",
       "        <script>netpixi.call('ZcE7qqdRMcARhg6SYZVXBd', 'Dds9NkHZmJ4Wk4MNSQYHbb', 'changeGraph', 'eyJpZCI6IDE1NywgInR5cGUiOiAidmVydGV4IiwgInByb3BzIjogeyJzaXplIjogMTAuMzM0NzI4MDMzNDcyODAzfX0K');</script>\n",
       "    "
      ],
      "text/plain": [
       "<IPython.core.display.HTML object>"
      ]
     },
     "metadata": {},
     "output_type": "display_data"
    },
    {
     "data": {
      "text/html": [
       "\n",
       "        <div id=\"4LK3dNPNqCX78jPPGVm4jP\"></div>\n",
       "        <script>netpixi.call('4LK3dNPNqCX78jPPGVm4jP', 'Dds9NkHZmJ4Wk4MNSQYHbb', 'changeGraph', 'eyJpZCI6IDY5LCAidHlwZSI6ICJ2ZXJ0ZXgiLCAicHJvcHMiOiB7ImNvbG9yIjogMTY3MTE2ODB9fQo=');</script>\n",
       "    "
      ],
      "text/plain": [
       "<IPython.core.display.HTML object>"
      ]
     },
     "metadata": {},
     "output_type": "display_data"
    },
    {
     "data": {
      "text/html": [
       "\n",
       "        <div id=\"aZMTA9eH8ms7s57CqRb5uP\"></div>\n",
       "        <script>netpixi.call('aZMTA9eH8ms7s57CqRb5uP', 'Dds9NkHZmJ4Wk4MNSQYHbb', 'changeGraph', 'eyJpZCI6IDE1OCwgInR5cGUiOiAidmVydGV4IiwgInByb3BzIjogeyJzaXplIjogMTIuODg3MDI5Mjg4NzAyOTI4fX0K');</script>\n",
       "    "
      ],
      "text/plain": [
       "<IPython.core.display.HTML object>"
      ]
     },
     "metadata": {},
     "output_type": "display_data"
    },
    {
     "data": {
      "text/html": [
       "\n",
       "        <div id=\"UPt7VbNZnLKNt9X875qh6e\"></div>\n",
       "        <script>netpixi.call('UPt7VbNZnLKNt9X875qh6e', 'Dds9NkHZmJ4Wk4MNSQYHbb', 'changeGraph', 'eyJpZCI6IDcwLCAidHlwZSI6ICJ2ZXJ0ZXgiLCAicHJvcHMiOiB7ImNvbG9yIjogMTY3MTE2ODB9fQo=');</script>\n",
       "    "
      ],
      "text/plain": [
       "<IPython.core.display.HTML object>"
      ]
     },
     "metadata": {},
     "output_type": "display_data"
    },
    {
     "data": {
      "text/html": [
       "\n",
       "        <div id=\"HDTAnbfd6fLaEVoBfuoydt\"></div>\n",
       "        <script>netpixi.call('HDTAnbfd6fLaEVoBfuoydt', 'Dds9NkHZmJ4Wk4MNSQYHbb', 'changeGraph', 'eyJpZCI6IDE1OSwgInR5cGUiOiAidmVydGV4IiwgInByb3BzIjogeyJzaXplIjogMTAuNTg1Nzc0MDU4NTc3NDA3fX0K');</script>\n",
       "    "
      ],
      "text/plain": [
       "<IPython.core.display.HTML object>"
      ]
     },
     "metadata": {},
     "output_type": "display_data"
    },
    {
     "data": {
      "text/html": [
       "\n",
       "        <div id=\"Ry79nWNcUWJVUhZf6Rq9zz\"></div>\n",
       "        <script>netpixi.call('Ry79nWNcUWJVUhZf6Rq9zz', 'Dds9NkHZmJ4Wk4MNSQYHbb', 'changeGraph', 'eyJpZCI6IDY1LCAidHlwZSI6ICJ2ZXJ0ZXgiLCAicHJvcHMiOiB7ImNvbG9yIjogMTY3MTE2ODB9fQo=');</script>\n",
       "    "
      ],
      "text/plain": [
       "<IPython.core.display.HTML object>"
      ]
     },
     "metadata": {},
     "output_type": "display_data"
    },
    {
     "data": {
      "text/html": [
       "\n",
       "        <div id=\"7YokY3K4TBdh2g7VzriLoy\"></div>\n",
       "        <script>netpixi.call('7YokY3K4TBdh2g7VzriLoy', 'Dds9NkHZmJ4Wk4MNSQYHbb', 'changeGraph', 'eyJpZCI6IDE2MCwgInR5cGUiOiAidmVydGV4IiwgInByb3BzIjogeyJzaXplIjogNDMuNjY2NjY2NjY2NjY2NjY0fX0K');</script>\n",
       "    "
      ],
      "text/plain": [
       "<IPython.core.display.HTML object>"
      ]
     },
     "metadata": {},
     "output_type": "display_data"
    },
    {
     "data": {
      "text/html": [
       "\n",
       "        <div id=\"RhLNr7egLKNgATWcBiS8d5\"></div>\n",
       "        <script>netpixi.call('RhLNr7egLKNgATWcBiS8d5', 'Dds9NkHZmJ4Wk4MNSQYHbb', 'changeGraph', 'eyJpZCI6IDc2LCAidHlwZSI6ICJ2ZXJ0ZXgiLCAicHJvcHMiOiB7ImNvbG9yIjogMTY3MTE2ODB9fQo=');</script>\n",
       "    "
      ],
      "text/plain": [
       "<IPython.core.display.HTML object>"
      ]
     },
     "metadata": {},
     "output_type": "display_data"
    },
    {
     "data": {
      "text/html": [
       "\n",
       "        <div id=\"nTJbE3nnsQs5oecx7kyeUc\"></div>\n",
       "        <script>netpixi.call('nTJbE3nnsQs5oecx7kyeUc', 'Dds9NkHZmJ4Wk4MNSQYHbb', 'changeGraph', 'eyJpZCI6IDE2MSwgInR5cGUiOiAidmVydGV4IiwgInByb3BzIjogeyJzaXplIjogMTMuNjgyMDA4MzY4MjAwODM3fX0K');</script>\n",
       "    "
      ],
      "text/plain": [
       "<IPython.core.display.HTML object>"
      ]
     },
     "metadata": {},
     "output_type": "display_data"
    },
    {
     "data": {
      "text/html": [
       "\n",
       "        <div id=\"6WqqwZvVNTA9MQvJujYyGB\"></div>\n",
       "        <script>netpixi.call('6WqqwZvVNTA9MQvJujYyGB', 'Dds9NkHZmJ4Wk4MNSQYHbb', 'changeGraph', 'eyJpZCI6IDg0LCAidHlwZSI6ICJ2ZXJ0ZXgiLCAicHJvcHMiOiB7ImNvbG9yIjogMTY3MTE2ODB9fQo=');</script>\n",
       "    "
      ],
      "text/plain": [
       "<IPython.core.display.HTML object>"
      ]
     },
     "metadata": {},
     "output_type": "display_data"
    },
    {
     "data": {
      "text/html": [
       "\n",
       "        <div id=\"HGVKaVvYb2UqyMMGECy3WK\"></div>\n",
       "        <script>netpixi.call('HGVKaVvYb2UqyMMGECy3WK', 'Dds9NkHZmJ4Wk4MNSQYHbb', 'changeGraph', 'eyJpZCI6IDE2MiwgInR5cGUiOiAidmVydGV4IiwgInByb3BzIjogeyJzaXplIjogNDAuMTY2NjY2NjY2NjY2NjY0fX0K');</script>\n",
       "    "
      ],
      "text/plain": [
       "<IPython.core.display.HTML object>"
      ]
     },
     "metadata": {},
     "output_type": "display_data"
    },
    {
     "data": {
      "text/html": [
       "\n",
       "        <div id=\"JTfdRfDqkAoTRz2eyougCP\"></div>\n",
       "        <script>netpixi.call('JTfdRfDqkAoTRz2eyougCP', 'Dds9NkHZmJ4Wk4MNSQYHbb', 'changeGraph', 'eyJpZCI6IDczLCAidHlwZSI6ICJ2ZXJ0ZXgiLCAicHJvcHMiOiB7ImNvbG9yIjogMTY3MTE2ODB9fQo=');</script>\n",
       "    "
      ],
      "text/plain": [
       "<IPython.core.display.HTML object>"
      ]
     },
     "metadata": {},
     "output_type": "display_data"
    },
    {
     "data": {
      "text/html": [
       "\n",
       "        <div id=\"XZTLYN7DvKBk2DEz9Zq2GQ\"></div>\n",
       "        <script>netpixi.call('XZTLYN7DvKBk2DEz9Zq2GQ', 'Dds9NkHZmJ4Wk4MNSQYHbb', 'changeGraph', 'eyJpZCI6IDE2MywgInR5cGUiOiAidmVydGV4IiwgInByb3BzIjogeyJzaXplIjogMjAuMH19Cg==');</script>\n",
       "    "
      ],
      "text/plain": [
       "<IPython.core.display.HTML object>"
      ]
     },
     "metadata": {},
     "output_type": "display_data"
    },
    {
     "data": {
      "text/html": [
       "\n",
       "        <div id=\"dRthq7HucD6eK6PhZTCnnW\"></div>\n",
       "        <script>netpixi.call('dRthq7HucD6eK6PhZTCnnW', 'Dds9NkHZmJ4Wk4MNSQYHbb', 'changeGraph', 'eyJpZCI6IDgxLCAidHlwZSI6ICJ2ZXJ0ZXgiLCAicHJvcHMiOiB7ImNvbG9yIjogMTY3MTE2ODB9fQo=');</script>\n",
       "    "
      ],
      "text/plain": [
       "<IPython.core.display.HTML object>"
      ]
     },
     "metadata": {},
     "output_type": "display_data"
    },
    {
     "data": {
      "text/html": [
       "\n",
       "        <div id=\"XCDCqxKR983s7hXyKh6M2m\"></div>\n",
       "        <script>netpixi.call('XCDCqxKR983s7hXyKh6M2m', 'Dds9NkHZmJ4Wk4MNSQYHbb', 'changeGraph', 'eyJpZCI6IDE2NCwgInR5cGUiOiAidmVydGV4IiwgInByb3BzIjogeyJzaXplIjogMTQuNTYwNjY5NDU2MDY2OTQ1fX0K');</script>\n",
       "    "
      ],
      "text/plain": [
       "<IPython.core.display.HTML object>"
      ]
     },
     "metadata": {},
     "output_type": "display_data"
    },
    {
     "data": {
      "text/html": [
       "\n",
       "        <div id=\"SZaAjxF6ZqZJa3Kwrn5XuT\"></div>\n",
       "        <script>netpixi.call('SZaAjxF6ZqZJa3Kwrn5XuT', 'Dds9NkHZmJ4Wk4MNSQYHbb', 'changeGraph', 'eyJpZCI6IDg2LCAidHlwZSI6ICJ2ZXJ0ZXgiLCAicHJvcHMiOiB7ImNvbG9yIjogMTY3MTE2ODB9fQo=');</script>\n",
       "    "
      ],
      "text/plain": [
       "<IPython.core.display.HTML object>"
      ]
     },
     "metadata": {},
     "output_type": "display_data"
    },
    {
     "data": {
      "text/html": [
       "\n",
       "        <div id=\"nU94S7RKTTMwhpo85qaG4H\"></div>\n",
       "        <script>netpixi.call('nU94S7RKTTMwhpo85qaG4H', 'Dds9NkHZmJ4Wk4MNSQYHbb', 'changeGraph', 'eyJpZCI6IDE2NSwgInR5cGUiOiAidmVydGV4IiwgInByb3BzIjogeyJzaXplIjogMTUuOTQxNDIyNTk0MTQyMjZ9fQo=');</script>\n",
       "    "
      ],
      "text/plain": [
       "<IPython.core.display.HTML object>"
      ]
     },
     "metadata": {},
     "output_type": "display_data"
    },
    {
     "data": {
      "text/html": [
       "\n",
       "        <div id=\"NEcXZrBZwxykgXFJjxW7sT\"></div>\n",
       "        <script>netpixi.call('NEcXZrBZwxykgXFJjxW7sT', 'Dds9NkHZmJ4Wk4MNSQYHbb', 'changeGraph', 'eyJpZCI6IDg3LCAidHlwZSI6ICJ2ZXJ0ZXgiLCAicHJvcHMiOiB7ImNvbG9yIjogMTY3MTE2ODB9fQo=');</script>\n",
       "    "
      ],
      "text/plain": [
       "<IPython.core.display.HTML object>"
      ]
     },
     "metadata": {},
     "output_type": "display_data"
    },
    {
     "data": {
      "text/html": [
       "\n",
       "        <div id=\"cS4hUZoD3kXRXq8cqVv2n5\"></div>\n",
       "        <script>netpixi.call('cS4hUZoD3kXRXq8cqVv2n5', 'Dds9NkHZmJ4Wk4MNSQYHbb', 'changeGraph', 'eyJpZCI6IDE2NiwgInR5cGUiOiAidmVydGV4IiwgInByb3BzIjogeyJzaXplIjogMTcuOTQ5NzkwNzk0OTc5MDh9fQo=');</script>\n",
       "    "
      ],
      "text/plain": [
       "<IPython.core.display.HTML object>"
      ]
     },
     "metadata": {},
     "output_type": "display_data"
    },
    {
     "data": {
      "text/html": [
       "\n",
       "        <div id=\"FD5Ky6Px9Wgsh8SAhNJQu6\"></div>\n",
       "        <script>netpixi.call('FD5Ky6Px9Wgsh8SAhNJQu6', 'Dds9NkHZmJ4Wk4MNSQYHbb', 'changeGraph', 'eyJpZCI6IDg5LCAidHlwZSI6ICJ2ZXJ0ZXgiLCAicHJvcHMiOiB7ImNvbG9yIjogMTY3MTE2ODB9fQo=');</script>\n",
       "    "
      ],
      "text/plain": [
       "<IPython.core.display.HTML object>"
      ]
     },
     "metadata": {},
     "output_type": "display_data"
    },
    {
     "data": {
      "text/html": [
       "\n",
       "        <div id=\"H2UysoUJq8nmCVDhF6pCeh\"></div>\n",
       "        <script>netpixi.call('H2UysoUJq8nmCVDhF6pCeh', 'Dds9NkHZmJ4Wk4MNSQYHbb', 'changeGraph', 'eyJpZCI6IDE2NywgInR5cGUiOiAidmVydGV4IiwgInByb3BzIjogeyJzaXplIjogNDkuMzMzMzMzMzMzMzMzMzM2fX0K');</script>\n",
       "    "
      ],
      "text/plain": [
       "<IPython.core.display.HTML object>"
      ]
     },
     "metadata": {},
     "output_type": "display_data"
    },
    {
     "data": {
      "text/html": [
       "\n",
       "        <div id=\"KqdFrhYEtbpoYVaq5wpBE8\"></div>\n",
       "        <script>netpixi.call('KqdFrhYEtbpoYVaq5wpBE8', 'Dds9NkHZmJ4Wk4MNSQYHbb', 'changeGraph', 'eyJpZCI6IDczLCAidHlwZSI6ICJ2ZXJ0ZXgiLCAicHJvcHMiOiB7ImNvbG9yIjogMTY3MTE2ODB9fQo=');</script>\n",
       "    "
      ],
      "text/plain": [
       "<IPython.core.display.HTML object>"
      ]
     },
     "metadata": {},
     "output_type": "display_data"
    },
    {
     "data": {
      "text/html": [
       "\n",
       "        <div id=\"FQGJ6AFcqJE85dj7ro9DmM\"></div>\n",
       "        <script>netpixi.call('FQGJ6AFcqJE85dj7ro9DmM', 'Dds9NkHZmJ4Wk4MNSQYHbb', 'changeGraph', 'eyJpZCI6IDE2OCwgInR5cGUiOiAidmVydGV4IiwgInByb3BzIjogeyJzaXplIjogMTAuMjA5MjA1MDIwOTIwNTAyfX0K');</script>\n",
       "    "
      ],
      "text/plain": [
       "<IPython.core.display.HTML object>"
      ]
     },
     "metadata": {},
     "output_type": "display_data"
    },
    {
     "data": {
      "text/html": [
       "\n",
       "        <div id=\"QHqxwvWqkzALavWfcy8yjb\"></div>\n",
       "        <script>netpixi.call('QHqxwvWqkzALavWfcy8yjb', 'Dds9NkHZmJ4Wk4MNSQYHbb', 'changeGraph', 'eyJpZCI6IDgwLCAidHlwZSI6ICJ2ZXJ0ZXgiLCAicHJvcHMiOiB7ImNvbG9yIjogMTY3MTE2ODB9fQo=');</script>\n",
       "    "
      ],
      "text/plain": [
       "<IPython.core.display.HTML object>"
      ]
     },
     "metadata": {},
     "output_type": "display_data"
    },
    {
     "data": {
      "text/html": [
       "\n",
       "        <div id=\"j3zdzuX4uMT68BhQEpPWGx\"></div>\n",
       "        <script>netpixi.call('j3zdzuX4uMT68BhQEpPWGx', 'Dds9NkHZmJ4Wk4MNSQYHbb', 'changeGraph', 'eyJpZCI6IDE2OSwgInR5cGUiOiAidmVydGV4IiwgInByb3BzIjogeyJzaXplIjogMTguOTUzOTc0ODk1Mzk3NDg2fX0K');</script>\n",
       "    "
      ],
      "text/plain": [
       "<IPython.core.display.HTML object>"
      ]
     },
     "metadata": {},
     "output_type": "display_data"
    },
    {
     "data": {
      "text/html": [
       "\n",
       "        <div id=\"gue638pwxCpqZpjdiHNC9s\"></div>\n",
       "        <script>netpixi.call('gue638pwxCpqZpjdiHNC9s', 'Dds9NkHZmJ4Wk4MNSQYHbb', 'changeGraph', 'eyJpZCI6IDg1LCAidHlwZSI6ICJ2ZXJ0ZXgiLCAicHJvcHMiOiB7ImNvbG9yIjogMTY3MTE2ODB9fQo=');</script>\n",
       "    "
      ],
      "text/plain": [
       "<IPython.core.display.HTML object>"
      ]
     },
     "metadata": {},
     "output_type": "display_data"
    },
    {
     "data": {
      "text/html": [
       "\n",
       "        <div id=\"jKKa8ptpjPKKhturyqsrRS\"></div>\n",
       "        <script>netpixi.call('jKKa8ptpjPKKhturyqsrRS', 'Dds9NkHZmJ4Wk4MNSQYHbb', 'changeGraph', 'eyJpZCI6IDE3MCwgInR5cGUiOiAidmVydGV4IiwgInByb3BzIjogeyJzaXplIjogMTkuMTIxMzM4OTEyMTMzODl9fQo=');</script>\n",
       "    "
      ],
      "text/plain": [
       "<IPython.core.display.HTML object>"
      ]
     },
     "metadata": {},
     "output_type": "display_data"
    },
    {
     "data": {
      "text/html": [
       "\n",
       "        <div id=\"HM9wqRjXk9D9Bx9QJQRLa8\"></div>\n",
       "        <script>netpixi.call('HM9wqRjXk9D9Bx9QJQRLa8', 'Dds9NkHZmJ4Wk4MNSQYHbb', 'changeGraph', 'eyJpZCI6IDY4LCAidHlwZSI6ICJ2ZXJ0ZXgiLCAicHJvcHMiOiB7ImNvbG9yIjogMTY3MTE2ODB9fQo=');</script>\n",
       "    "
      ],
      "text/plain": [
       "<IPython.core.display.HTML object>"
      ]
     },
     "metadata": {},
     "output_type": "display_data"
    },
    {
     "data": {
      "text/html": [
       "\n",
       "        <div id=\"jamhJf3jRTko445vmMDZGQ\"></div>\n",
       "        <script>netpixi.call('jamhJf3jRTko445vmMDZGQ', 'Dds9NkHZmJ4Wk4MNSQYHbb', 'changeGraph', 'eyJpZCI6IDE3MSwgInR5cGUiOiAidmVydGV4IiwgInByb3BzIjogeyJzaXplIjogMTQuODExNzE1NDgxMTcxNTQ4fX0K');</script>\n",
       "    "
      ],
      "text/plain": [
       "<IPython.core.display.HTML object>"
      ]
     },
     "metadata": {},
     "output_type": "display_data"
    },
    {
     "data": {
      "text/html": [
       "\n",
       "        <div id=\"58Uc8FqST236E4btMiXrZb\"></div>\n",
       "        <script>netpixi.call('58Uc8FqST236E4btMiXrZb', 'Dds9NkHZmJ4Wk4MNSQYHbb', 'changeGraph', 'eyJpZCI6IDgyLCAidHlwZSI6ICJ2ZXJ0ZXgiLCAicHJvcHMiOiB7ImNvbG9yIjogMTY3MTE2ODB9fQo=');</script>\n",
       "    "
      ],
      "text/plain": [
       "<IPython.core.display.HTML object>"
      ]
     },
     "metadata": {},
     "output_type": "display_data"
    },
    {
     "data": {
      "text/html": [
       "\n",
       "        <div id=\"ZxGHJrY9c9KsCuQwoEV6Pm\"></div>\n",
       "        <script>netpixi.call('ZxGHJrY9c9KsCuQwoEV6Pm', 'Dds9NkHZmJ4Wk4MNSQYHbb', 'changeGraph', 'eyJpZCI6IDE3MiwgInR5cGUiOiAidmVydGV4IiwgInByb3BzIjogeyJzaXplIjogMTEuMDg3ODY2MTA4Nzg2NjF9fQo=');</script>\n",
       "    "
      ],
      "text/plain": [
       "<IPython.core.display.HTML object>"
      ]
     },
     "metadata": {},
     "output_type": "display_data"
    },
    {
     "data": {
      "text/html": [
       "\n",
       "        <div id=\"AJ5Ji7Ai388G52s7eR7Kmo\"></div>\n",
       "        <script>netpixi.call('AJ5Ji7Ai388G52s7eR7Kmo', 'Dds9NkHZmJ4Wk4MNSQYHbb', 'changeGraph', 'eyJpZCI6IDc4LCAidHlwZSI6ICJ2ZXJ0ZXgiLCAicHJvcHMiOiB7ImNvbG9yIjogMTY3MTE2ODB9fQo=');</script>\n",
       "    "
      ],
      "text/plain": [
       "<IPython.core.display.HTML object>"
      ]
     },
     "metadata": {},
     "output_type": "display_data"
    },
    {
     "data": {
      "text/html": [
       "\n",
       "        <div id=\"EvE76ktZa866BodxbgRkkY\"></div>\n",
       "        <script>netpixi.call('EvE76ktZa866BodxbgRkkY', 'Dds9NkHZmJ4Wk4MNSQYHbb', 'changeGraph', 'eyJpZCI6IDE3MywgInR5cGUiOiAidmVydGV4IiwgInByb3BzIjogeyJzaXplIjogMTYuNzM2NDAxNjczNjQwMTY3fX0K');</script>\n",
       "    "
      ],
      "text/plain": [
       "<IPython.core.display.HTML object>"
      ]
     },
     "metadata": {},
     "output_type": "display_data"
    },
    {
     "data": {
      "text/html": [
       "\n",
       "        <div id=\"6ZM2rPfz5tHfbvbJLkxFZJ\"></div>\n",
       "        <script>netpixi.call('6ZM2rPfz5tHfbvbJLkxFZJ', 'Dds9NkHZmJ4Wk4MNSQYHbb', 'changeGraph', 'eyJpZCI6IDgwLCAidHlwZSI6ICJ2ZXJ0ZXgiLCAicHJvcHMiOiB7ImNvbG9yIjogMTY3MTE2ODB9fQo=');</script>\n",
       "    "
      ],
      "text/plain": [
       "<IPython.core.display.HTML object>"
      ]
     },
     "metadata": {},
     "output_type": "display_data"
    },
    {
     "data": {
      "text/html": [
       "\n",
       "        <div id=\"W2To3E9ZGvhhunhVpQN22i\"></div>\n",
       "        <script>netpixi.call('W2To3E9ZGvhhunhVpQN22i', 'Dds9NkHZmJ4Wk4MNSQYHbb', 'changeGraph', 'eyJpZCI6IDE3NCwgInR5cGUiOiAidmVydGV4IiwgInByb3BzIjogeyJzaXplIjogMTguOTEyMTMzODkxMjEzMzg3fX0K');</script>\n",
       "    "
      ],
      "text/plain": [
       "<IPython.core.display.HTML object>"
      ]
     },
     "metadata": {},
     "output_type": "display_data"
    },
    {
     "data": {
      "text/html": [
       "\n",
       "        <div id=\"HdvxdgSC39ZGq6RKDref2B\"></div>\n",
       "        <script>netpixi.call('HdvxdgSC39ZGq6RKDref2B', 'Dds9NkHZmJ4Wk4MNSQYHbb', 'changeGraph', 'eyJpZCI6IDc1LCAidHlwZSI6ICJ2ZXJ0ZXgiLCAicHJvcHMiOiB7ImNvbG9yIjogMTY3MTE2ODB9fQo=');</script>\n",
       "    "
      ],
      "text/plain": [
       "<IPython.core.display.HTML object>"
      ]
     },
     "metadata": {},
     "output_type": "display_data"
    },
    {
     "data": {
      "text/html": [
       "\n",
       "        <div id=\"FYSWCTcLYQZdLKn7iznXXD\"></div>\n",
       "        <script>netpixi.call('FYSWCTcLYQZdLKn7iznXXD', 'Dds9NkHZmJ4Wk4MNSQYHbb', 'changeGraph', 'eyJpZCI6IDE3NSwgInR5cGUiOiAidmVydGV4IiwgInByb3BzIjogeyJzaXplIjogMTkuMjg4NzAyOTI4ODcwMjkzfX0K');</script>\n",
       "    "
      ],
      "text/plain": [
       "<IPython.core.display.HTML object>"
      ]
     },
     "metadata": {},
     "output_type": "display_data"
    },
    {
     "data": {
      "text/html": [
       "\n",
       "        <div id=\"dRJ8vkkg54yLiJx8iEnuxm\"></div>\n",
       "        <script>netpixi.call('dRJ8vkkg54yLiJx8iEnuxm', 'Dds9NkHZmJ4Wk4MNSQYHbb', 'changeGraph', 'eyJpZCI6IDg1LCAidHlwZSI6ICJ2ZXJ0ZXgiLCAicHJvcHMiOiB7ImNvbG9yIjogMTY3MTE2ODB9fQo=');</script>\n",
       "    "
      ],
      "text/plain": [
       "<IPython.core.display.HTML object>"
      ]
     },
     "metadata": {},
     "output_type": "display_data"
    },
    {
     "data": {
      "text/html": [
       "\n",
       "        <div id=\"Ak74axVrr6bnRPyJgY9hY2\"></div>\n",
       "        <script>netpixi.call('Ak74axVrr6bnRPyJgY9hY2', 'Dds9NkHZmJ4Wk4MNSQYHbb', 'changeGraph', 'eyJpZCI6IDE3NiwgInR5cGUiOiAidmVydGV4IiwgInByb3BzIjogeyJzaXplIjogNDQuMzMzMzMzMzMzMzMzMzM2fX0K');</script>\n",
       "    "
      ],
      "text/plain": [
       "<IPython.core.display.HTML object>"
      ]
     },
     "metadata": {},
     "output_type": "display_data"
    },
    {
     "data": {
      "text/html": [
       "\n",
       "        <div id=\"RTgyu8cfhfYsNB4JBvefvU\"></div>\n",
       "        <script>netpixi.call('RTgyu8cfhfYsNB4JBvefvU', 'Dds9NkHZmJ4Wk4MNSQYHbb', 'changeGraph', 'eyJpZCI6IDY4LCAidHlwZSI6ICJ2ZXJ0ZXgiLCAicHJvcHMiOiB7ImNvbG9yIjogMTY3MTE2ODB9fQo=');</script>\n",
       "    "
      ],
      "text/plain": [
       "<IPython.core.display.HTML object>"
      ]
     },
     "metadata": {},
     "output_type": "display_data"
    },
    {
     "data": {
      "text/html": [
       "\n",
       "        <div id=\"BSccfhrx3Sg6FbWtFmcBgU\"></div>\n",
       "        <script>netpixi.call('BSccfhrx3Sg6FbWtFmcBgU', 'Dds9NkHZmJ4Wk4MNSQYHbb', 'changeGraph', 'eyJpZCI6IDE3NywgInR5cGUiOiAidmVydGV4IiwgInByb3BzIjogeyJzaXplIjogMTEuNzE1NDgxMTcxNTQ4MTE3fX0K');</script>\n",
       "    "
      ],
      "text/plain": [
       "<IPython.core.display.HTML object>"
      ]
     },
     "metadata": {},
     "output_type": "display_data"
    },
    {
     "data": {
      "text/html": [
       "\n",
       "        <div id=\"nq97hzMtXzbGdSTHt7jbw5\"></div>\n",
       "        <script>netpixi.call('nq97hzMtXzbGdSTHt7jbw5', 'Dds9NkHZmJ4Wk4MNSQYHbb', 'changeGraph', 'eyJpZCI6IDczLCAidHlwZSI6ICJ2ZXJ0ZXgiLCAicHJvcHMiOiB7ImNvbG9yIjogMTY3MTE2ODB9fQo=');</script>\n",
       "    "
      ],
      "text/plain": [
       "<IPython.core.display.HTML object>"
      ]
     },
     "metadata": {},
     "output_type": "display_data"
    },
    {
     "data": {
      "text/html": [
       "\n",
       "        <div id=\"GW4gDqr4Jrchj8rdnjCSoT\"></div>\n",
       "        <script>netpixi.call('GW4gDqr4Jrchj8rdnjCSoT', 'Dds9NkHZmJ4Wk4MNSQYHbb', 'changeGraph', 'eyJpZCI6IDE3OCwgInR5cGUiOiAidmVydGV4IiwgInByb3BzIjogeyJzaXplIjogNDcuNX19Cg==');</script>\n",
       "    "
      ],
      "text/plain": [
       "<IPython.core.display.HTML object>"
      ]
     },
     "metadata": {},
     "output_type": "display_data"
    },
    {
     "data": {
      "text/html": [
       "\n",
       "        <div id=\"SCKYVG6UGSTmPcshkWg5Ae\"></div>\n",
       "        <script>netpixi.call('SCKYVG6UGSTmPcshkWg5Ae', 'Dds9NkHZmJ4Wk4MNSQYHbb', 'changeGraph', 'eyJpZCI6IDc3LCAidHlwZSI6ICJ2ZXJ0ZXgiLCAicHJvcHMiOiB7ImNvbG9yIjogMTY3MTE2ODB9fQo=');</script>\n",
       "    "
      ],
      "text/plain": [
       "<IPython.core.display.HTML object>"
      ]
     },
     "metadata": {},
     "output_type": "display_data"
    },
    {
     "data": {
      "text/html": [
       "\n",
       "        <div id=\"PMiNFV8ev6LsCFPbFZ9hEw\"></div>\n",
       "        <script>netpixi.call('PMiNFV8ev6LsCFPbFZ9hEw', 'Dds9NkHZmJ4Wk4MNSQYHbb', 'changeGraph', 'eyJpZCI6IDE3OSwgInR5cGUiOiAidmVydGV4IiwgInByb3BzIjogeyJzaXplIjogMTUuMTA0NjAyNTEwNDYwMjV9fQo=');</script>\n",
       "    "
      ],
      "text/plain": [
       "<IPython.core.display.HTML object>"
      ]
     },
     "metadata": {},
     "output_type": "display_data"
    },
    {
     "data": {
      "text/html": [
       "\n",
       "        <div id=\"aJYrzWDx7QfMyVXsqexyYW\"></div>\n",
       "        <script>netpixi.call('aJYrzWDx7QfMyVXsqexyYW', 'Dds9NkHZmJ4Wk4MNSQYHbb', 'changeGraph', 'eyJpZCI6IDg3LCAidHlwZSI6ICJ2ZXJ0ZXgiLCAicHJvcHMiOiB7ImNvbG9yIjogMTY3MTE2ODB9fQo=');</script>\n",
       "    "
      ],
      "text/plain": [
       "<IPython.core.display.HTML object>"
      ]
     },
     "metadata": {},
     "output_type": "display_data"
    },
    {
     "data": {
      "text/html": [
       "\n",
       "        <div id=\"hUQ9NUxCTbzVUoehf96bJd\"></div>\n",
       "        <script>netpixi.call('hUQ9NUxCTbzVUoehf96bJd', 'Dds9NkHZmJ4Wk4MNSQYHbb', 'changeGraph', 'eyJpZCI6IDE4MCwgInR5cGUiOiAidmVydGV4IiwgInByb3BzIjogeyJzaXplIjogMTYuNDAxNjczNjQwMTY3MzYzfX0K');</script>\n",
       "    "
      ],
      "text/plain": [
       "<IPython.core.display.HTML object>"
      ]
     },
     "metadata": {},
     "output_type": "display_data"
    },
    {
     "data": {
      "text/html": [
       "\n",
       "        <div id=\"guaMj9Ksv2LJz9hRpaojYa\"></div>\n",
       "        <script>netpixi.call('guaMj9Ksv2LJz9hRpaojYa', 'Dds9NkHZmJ4Wk4MNSQYHbb', 'changeGraph', 'eyJpZCI6IDg2LCAidHlwZSI6ICJ2ZXJ0ZXgiLCAicHJvcHMiOiB7ImNvbG9yIjogMTY3MTE2ODB9fQo=');</script>\n",
       "    "
      ],
      "text/plain": [
       "<IPython.core.display.HTML object>"
      ]
     },
     "metadata": {},
     "output_type": "display_data"
    },
    {
     "data": {
      "text/html": [
       "\n",
       "        <div id=\"7ZhXHbuuWvfWjwPPdxDVgg\"></div>\n",
       "        <script>netpixi.call('7ZhXHbuuWvfWjwPPdxDVgg', 'Dds9NkHZmJ4Wk4MNSQYHbb', 'changeGraph', 'eyJpZCI6IDE4MSwgInR5cGUiOiAidmVydGV4IiwgInByb3BzIjogeyJzaXplIjogMTEuNDIyNTk0MTQyMjU5NDEzfX0K');</script>\n",
       "    "
      ],
      "text/plain": [
       "<IPython.core.display.HTML object>"
      ]
     },
     "metadata": {},
     "output_type": "display_data"
    },
    {
     "data": {
      "text/html": [
       "\n",
       "        <div id=\"JNrbywwoCabkR8LNWv2bLY\"></div>\n",
       "        <script>netpixi.call('JNrbywwoCabkR8LNWv2bLY', 'Dds9NkHZmJ4Wk4MNSQYHbb', 'changeGraph', 'eyJpZCI6IDcyLCAidHlwZSI6ICJ2ZXJ0ZXgiLCAicHJvcHMiOiB7ImNvbG9yIjogMTY3MTE2ODB9fQo=');</script>\n",
       "    "
      ],
      "text/plain": [
       "<IPython.core.display.HTML object>"
      ]
     },
     "metadata": {},
     "output_type": "display_data"
    },
    {
     "data": {
      "text/html": [
       "\n",
       "        <div id=\"3XrJG3naG8YDVYgKVXuvMb\"></div>\n",
       "        <script>netpixi.call('3XrJG3naG8YDVYgKVXuvMb', 'Dds9NkHZmJ4Wk4MNSQYHbb', 'changeGraph', 'eyJpZCI6IDE4MiwgInR5cGUiOiAidmVydGV4IiwgInByb3BzIjogeyJzaXplIjogMTAuNjY5NDU2MDY2OTQ1NjA3fX0K');</script>\n",
       "    "
      ],
      "text/plain": [
       "<IPython.core.display.HTML object>"
      ]
     },
     "metadata": {},
     "output_type": "display_data"
    },
    {
     "data": {
      "text/html": [
       "\n",
       "        <div id=\"YsJybZUxAgQpQXaTg8vkxR\"></div>\n",
       "        <script>netpixi.call('YsJybZUxAgQpQXaTg8vkxR', 'Dds9NkHZmJ4Wk4MNSQYHbb', 'changeGraph', 'eyJpZCI6IDc2LCAidHlwZSI6ICJ2ZXJ0ZXgiLCAicHJvcHMiOiB7ImNvbG9yIjogMTY3MTE2ODB9fQo=');</script>\n",
       "    "
      ],
      "text/plain": [
       "<IPython.core.display.HTML object>"
      ]
     },
     "metadata": {},
     "output_type": "display_data"
    },
    {
     "data": {
      "text/html": [
       "\n",
       "        <div id=\"BCPjTGxv8H2Lp2xDtQ379v\"></div>\n",
       "        <script>netpixi.call('BCPjTGxv8H2Lp2xDtQ379v', 'Dds9NkHZmJ4Wk4MNSQYHbb', 'changeGraph', 'eyJpZCI6IDE4MywgInR5cGUiOiAidmVydGV4IiwgInByb3BzIjogeyJzaXplIjogMTguMjg0NTE4ODI4NDUxODh9fQo=');</script>\n",
       "    "
      ],
      "text/plain": [
       "<IPython.core.display.HTML object>"
      ]
     },
     "metadata": {},
     "output_type": "display_data"
    },
    {
     "data": {
      "text/html": [
       "\n",
       "        <div id=\"HBa9js5fwMXv6Aj3TYdRfe\"></div>\n",
       "        <script>netpixi.call('HBa9js5fwMXv6Aj3TYdRfe', 'Dds9NkHZmJ4Wk4MNSQYHbb', 'changeGraph', 'eyJpZCI6IDc4LCAidHlwZSI6ICJ2ZXJ0ZXgiLCAicHJvcHMiOiB7ImNvbG9yIjogMTY3MTE2ODB9fQo=');</script>\n",
       "    "
      ],
      "text/plain": [
       "<IPython.core.display.HTML object>"
      ]
     },
     "metadata": {},
     "output_type": "display_data"
    },
    {
     "data": {
      "text/html": [
       "\n",
       "        <div id=\"Yk6fSmcsyBdDj6cL5EuqXJ\"></div>\n",
       "        <script>netpixi.call('Yk6fSmcsyBdDj6cL5EuqXJ', 'Dds9NkHZmJ4Wk4MNSQYHbb', 'changeGraph', 'eyJpZCI6IDE4NCwgInR5cGUiOiAidmVydGV4IiwgInByb3BzIjogeyJzaXplIjogMTUuNDM5MzMwNTQzOTMzMDUzfX0K');</script>\n",
       "    "
      ],
      "text/plain": [
       "<IPython.core.display.HTML object>"
      ]
     },
     "metadata": {},
     "output_type": "display_data"
    },
    {
     "data": {
      "text/html": [
       "\n",
       "        <div id=\"RGZLTqaYuDPFSLWDLZjvyd\"></div>\n",
       "        <script>netpixi.call('RGZLTqaYuDPFSLWDLZjvyd', 'Dds9NkHZmJ4Wk4MNSQYHbb', 'changeGraph', 'eyJpZCI6IDc1LCAidHlwZSI6ICJ2ZXJ0ZXgiLCAicHJvcHMiOiB7ImNvbG9yIjogMTY3MTE2ODB9fQo=');</script>\n",
       "    "
      ],
      "text/plain": [
       "<IPython.core.display.HTML object>"
      ]
     },
     "metadata": {},
     "output_type": "display_data"
    },
    {
     "data": {
      "text/html": [
       "\n",
       "        <div id=\"dEe4YkfHkYBCjLqQHMFPuo\"></div>\n",
       "        <script>netpixi.call('dEe4YkfHkYBCjLqQHMFPuo', 'Dds9NkHZmJ4Wk4MNSQYHbb', 'changeGraph', 'eyJpZCI6IDE4NSwgInR5cGUiOiAidmVydGV4IiwgInByb3BzIjogeyJzaXplIjogMTUuNjQ4NTM1NTY0ODUzNTU3fX0K');</script>\n",
       "    "
      ],
      "text/plain": [
       "<IPython.core.display.HTML object>"
      ]
     },
     "metadata": {},
     "output_type": "display_data"
    },
    {
     "data": {
      "text/html": [
       "\n",
       "        <div id=\"9avdxLX5wdwsUgYRXMQra9\"></div>\n",
       "        <script>netpixi.call('9avdxLX5wdwsUgYRXMQra9', 'Dds9NkHZmJ4Wk4MNSQYHbb', 'changeGraph', 'eyJpZCI6IDQ4LCAidHlwZSI6ICJ2ZXJ0ZXgiLCAicHJvcHMiOiB7ImNvbG9yIjogMTY3MTE2ODB9fQo=');</script>\n",
       "    "
      ],
      "text/plain": [
       "<IPython.core.display.HTML object>"
      ]
     },
     "metadata": {},
     "output_type": "display_data"
    },
    {
     "data": {
      "text/html": [
       "\n",
       "        <div id=\"34ECvEviypknJ5NndMBWyY\"></div>\n",
       "        <script>netpixi.call('34ECvEviypknJ5NndMBWyY', 'Dds9NkHZmJ4Wk4MNSQYHbb', 'changeGraph', 'eyJpZCI6IDE4NiwgInR5cGUiOiAidmVydGV4IiwgInByb3BzIjogeyJzaXplIjogMTkuNzA3MTEyOTcwNzExMjk3fX0K');</script>\n",
       "    "
      ],
      "text/plain": [
       "<IPython.core.display.HTML object>"
      ]
     },
     "metadata": {},
     "output_type": "display_data"
    },
    {
     "data": {
      "text/html": [
       "\n",
       "        <div id=\"BtkGPfQe8agvLxhZSSz3gu\"></div>\n",
       "        <script>netpixi.call('BtkGPfQe8agvLxhZSSz3gu', 'Dds9NkHZmJ4Wk4MNSQYHbb', 'changeGraph', 'eyJpZCI6IDY5LCAidHlwZSI6ICJ2ZXJ0ZXgiLCAicHJvcHMiOiB7ImNvbG9yIjogMTY3MTE2ODB9fQo=');</script>\n",
       "    "
      ],
      "text/plain": [
       "<IPython.core.display.HTML object>"
      ]
     },
     "metadata": {},
     "output_type": "display_data"
    },
    {
     "data": {
      "text/html": [
       "\n",
       "        <div id=\"FMJM4sNYhKTvJnHhvAyL6D\"></div>\n",
       "        <script>netpixi.call('FMJM4sNYhKTvJnHhvAyL6D', 'Dds9NkHZmJ4Wk4MNSQYHbb', 'changeGraph', 'eyJpZCI6IDE4NywgInR5cGUiOiAidmVydGV4IiwgInByb3BzIjogeyJzaXplIjogNDYuODMzMzMzMzMzMzMzMzM2fX0K');</script>\n",
       "    "
      ],
      "text/plain": [
       "<IPython.core.display.HTML object>"
      ]
     },
     "metadata": {},
     "output_type": "display_data"
    },
    {
     "data": {
      "text/html": [
       "\n",
       "        <div id=\"PSLW3RG8LY8THm5HSTDWab\"></div>\n",
       "        <script>netpixi.call('PSLW3RG8LY8THm5HSTDWab', 'Dds9NkHZmJ4Wk4MNSQYHbb', 'changeGraph', 'eyJpZCI6IDYxLCAidHlwZSI6ICJ2ZXJ0ZXgiLCAicHJvcHMiOiB7ImNvbG9yIjogMTY3MTE2ODB9fQo=');</script>\n",
       "    "
      ],
      "text/plain": [
       "<IPython.core.display.HTML object>"
      ]
     },
     "metadata": {},
     "output_type": "display_data"
    },
    {
     "data": {
      "text/html": [
       "\n",
       "        <div id=\"FJgxsYXVMgwWYXj8qHSZu4\"></div>\n",
       "        <script>netpixi.call('FJgxsYXVMgwWYXj8qHSZu4', 'Dds9NkHZmJ4Wk4MNSQYHbb', 'changeGraph', 'eyJpZCI6IDE4OCwgInR5cGUiOiAidmVydGV4IiwgInByb3BzIjogeyJzaXplIjogMTQuOTM3MjM4NDkzNzIzODV9fQo=');</script>\n",
       "    "
      ],
      "text/plain": [
       "<IPython.core.display.HTML object>"
      ]
     },
     "metadata": {},
     "output_type": "display_data"
    },
    {
     "data": {
      "text/html": [
       "\n",
       "        <div id=\"NswB4CeGibeWKyT2LHSbhk\"></div>\n",
       "        <script>netpixi.call('NswB4CeGibeWKyT2LHSbhk', 'Dds9NkHZmJ4Wk4MNSQYHbb', 'changeGraph', 'eyJpZCI6IDczLCAidHlwZSI6ICJ2ZXJ0ZXgiLCAicHJvcHMiOiB7ImNvbG9yIjogMTY3MTE2ODB9fQo=');</script>\n",
       "    "
      ],
      "text/plain": [
       "<IPython.core.display.HTML object>"
      ]
     },
     "metadata": {},
     "output_type": "display_data"
    },
    {
     "data": {
      "text/html": [
       "\n",
       "        <div id=\"DqXA24vCL96QY9cAWMJa2h\"></div>\n",
       "        <script>netpixi.call('DqXA24vCL96QY9cAWMJa2h', 'Dds9NkHZmJ4Wk4MNSQYHbb', 'changeGraph', 'eyJpZCI6IDE4OSwgInR5cGUiOiAidmVydGV4IiwgInByb3BzIjogeyJzaXplIjogMTMuMDU0MzkzMzA1NDM5MzN9fQo=');</script>\n",
       "    "
      ],
      "text/plain": [
       "<IPython.core.display.HTML object>"
      ]
     },
     "metadata": {},
     "output_type": "display_data"
    },
    {
     "data": {
      "text/html": [
       "\n",
       "        <div id=\"Eu2s6fRPtnDiud4x28WZmP\"></div>\n",
       "        <script>netpixi.call('Eu2s6fRPtnDiud4x28WZmP', 'Dds9NkHZmJ4Wk4MNSQYHbb', 'changeGraph', 'eyJpZCI6IDc0LCAidHlwZSI6ICJ2ZXJ0ZXgiLCAicHJvcHMiOiB7ImNvbG9yIjogMTY3MTE2ODB9fQo=');</script>\n",
       "    "
      ],
      "text/plain": [
       "<IPython.core.display.HTML object>"
      ]
     },
     "metadata": {},
     "output_type": "display_data"
    },
    {
     "data": {
      "text/html": [
       "\n",
       "        <div id=\"H6GfmtU54jy2gWDk4GJuDZ\"></div>\n",
       "        <script>netpixi.call('H6GfmtU54jy2gWDk4GJuDZ', 'Dds9NkHZmJ4Wk4MNSQYHbb', 'changeGraph', 'eyJpZCI6IDE5MCwgInR5cGUiOiAidmVydGV4IiwgInByb3BzIjogeyJzaXplIjogMTAuNTQzOTMzMDU0MzkzMzA1fX0K');</script>\n",
       "    "
      ],
      "text/plain": [
       "<IPython.core.display.HTML object>"
      ]
     },
     "metadata": {},
     "output_type": "display_data"
    },
    {
     "data": {
      "text/html": [
       "\n",
       "        <div id=\"3jwKWvRCZPm9N8XUPvAugV\"></div>\n",
       "        <script>netpixi.call('3jwKWvRCZPm9N8XUPvAugV', 'Dds9NkHZmJ4Wk4MNSQYHbb', 'changeGraph', 'eyJpZCI6IDgxLCAidHlwZSI6ICJ2ZXJ0ZXgiLCAicHJvcHMiOiB7ImNvbG9yIjogMTY3MTE2ODB9fQo=');</script>\n",
       "    "
      ],
      "text/plain": [
       "<IPython.core.display.HTML object>"
      ]
     },
     "metadata": {},
     "output_type": "display_data"
    },
    {
     "data": {
      "text/html": [
       "\n",
       "        <div id=\"jM253qXi73QzPsEsGFcpwH\"></div>\n",
       "        <script>netpixi.call('jM253qXi73QzPsEsGFcpwH', 'Dds9NkHZmJ4Wk4MNSQYHbb', 'changeGraph', 'eyJpZCI6IDE5MSwgInR5cGUiOiAidmVydGV4IiwgInByb3BzIjogeyJzaXplIjogMTIuNTk0MTQyMjU5NDE0MjI1fX0K');</script>\n",
       "    "
      ],
      "text/plain": [
       "<IPython.core.display.HTML object>"
      ]
     },
     "metadata": {},
     "output_type": "display_data"
    },
    {
     "data": {
      "text/html": [
       "\n",
       "        <div id=\"ai4xWT4kFJLY4kDkharzLq\"></div>\n",
       "        <script>netpixi.call('ai4xWT4kFJLY4kDkharzLq', 'Dds9NkHZmJ4Wk4MNSQYHbb', 'changeGraph', 'eyJpZCI6IDc1LCAidHlwZSI6ICJ2ZXJ0ZXgiLCAicHJvcHMiOiB7ImNvbG9yIjogMTY3MTE2ODB9fQo=');</script>\n",
       "    "
      ],
      "text/plain": [
       "<IPython.core.display.HTML object>"
      ]
     },
     "metadata": {},
     "output_type": "display_data"
    },
    {
     "data": {
      "text/html": [
       "\n",
       "        <div id=\"UuwUCAdCgmM887U6xgrDjy\"></div>\n",
       "        <script>netpixi.call('UuwUCAdCgmM887U6xgrDjy', 'Dds9NkHZmJ4Wk4MNSQYHbb', 'changeGraph', 'eyJpZCI6IDE5MiwgInR5cGUiOiAidmVydGV4IiwgInByb3BzIjogeyJzaXplIjogMTUuMzk3NDg5NTM5NzQ4OTUzfX0K');</script>\n",
       "    "
      ],
      "text/plain": [
       "<IPython.core.display.HTML object>"
      ]
     },
     "metadata": {},
     "output_type": "display_data"
    },
    {
     "data": {
      "text/html": [
       "\n",
       "        <div id=\"kJtqYM73498ry6S6fgDmyM\"></div>\n",
       "        <script>netpixi.call('kJtqYM73498ry6S6fgDmyM', 'Dds9NkHZmJ4Wk4MNSQYHbb', 'changeGraph', 'eyJpZCI6IDc3LCAidHlwZSI6ICJ2ZXJ0ZXgiLCAicHJvcHMiOiB7ImNvbG9yIjogMTY3MTE2ODB9fQo=');</script>\n",
       "    "
      ],
      "text/plain": [
       "<IPython.core.display.HTML object>"
      ]
     },
     "metadata": {},
     "output_type": "display_data"
    },
    {
     "data": {
      "text/html": [
       "\n",
       "        <div id=\"kTz6B7kgjHwgCMwn7Fs8aV\"></div>\n",
       "        <script>netpixi.call('kTz6B7kgjHwgCMwn7Fs8aV', 'Dds9NkHZmJ4Wk4MNSQYHbb', 'changeGraph', 'eyJpZCI6IDE5MywgInR5cGUiOiAidmVydGV4IiwgInByb3BzIjogeyJzaXplIjogMTEuMTcxNTQ4MTE3MTU0ODEyfX0K');</script>\n",
       "    "
      ],
      "text/plain": [
       "<IPython.core.display.HTML object>"
      ]
     },
     "metadata": {},
     "output_type": "display_data"
    },
    {
     "data": {
      "text/html": [
       "\n",
       "        <div id=\"ST9kNiTKKepDieNXUj8rKH\"></div>\n",
       "        <script>netpixi.call('ST9kNiTKKepDieNXUj8rKH', 'Dds9NkHZmJ4Wk4MNSQYHbb', 'changeGraph', 'eyJpZCI6IDc0LCAidHlwZSI6ICJ2ZXJ0ZXgiLCAicHJvcHMiOiB7ImNvbG9yIjogMTY3MTE2ODB9fQo=');</script>\n",
       "    "
      ],
      "text/plain": [
       "<IPython.core.display.HTML object>"
      ]
     },
     "metadata": {},
     "output_type": "display_data"
    },
    {
     "data": {
      "text/html": [
       "\n",
       "        <div id=\"Fbi5Hm6cD6K4QxZ5LxeBwv\"></div>\n",
       "        <script>netpixi.call('Fbi5Hm6cD6K4QxZ5LxeBwv', 'Dds9NkHZmJ4Wk4MNSQYHbb', 'changeGraph', 'eyJpZCI6IDE5NCwgInR5cGUiOiAidmVydGV4IiwgInByb3BzIjogeyJzaXplIjogMTAuMDQxODQxMDA0MTg0MX19Cg==');</script>\n",
       "    "
      ],
      "text/plain": [
       "<IPython.core.display.HTML object>"
      ]
     },
     "metadata": {},
     "output_type": "display_data"
    },
    {
     "data": {
      "text/html": [
       "\n",
       "        <div id=\"PXbN35JSKSPwdz2X3o447G\"></div>\n",
       "        <script>netpixi.call('PXbN35JSKSPwdz2X3o447G', 'Dds9NkHZmJ4Wk4MNSQYHbb', 'changeGraph', 'eyJpZCI6IDY2LCAidHlwZSI6ICJ2ZXJ0ZXgiLCAicHJvcHMiOiB7ImNvbG9yIjogMTY3MTE2ODB9fQo=');</script>\n",
       "    "
      ],
      "text/plain": [
       "<IPython.core.display.HTML object>"
      ]
     },
     "metadata": {},
     "output_type": "display_data"
    },
    {
     "data": {
      "text/html": [
       "\n",
       "        <div id=\"UsjcbaBZFaQaFqXmMiWqvX\"></div>\n",
       "        <script>netpixi.call('UsjcbaBZFaQaFqXmMiWqvX', 'Dds9NkHZmJ4Wk4MNSQYHbb', 'changeGraph', 'eyJpZCI6IDE5NSwgInR5cGUiOiAidmVydGV4IiwgInByb3BzIjogeyJzaXplIjogNDAuMzMzMzMzMzMzMzMzMzN9fQo=');</script>\n",
       "    "
      ],
      "text/plain": [
       "<IPython.core.display.HTML object>"
      ]
     },
     "metadata": {},
     "output_type": "display_data"
    },
    {
     "data": {
      "text/html": [
       "\n",
       "        <div id=\"Cenh9zgB4WhjEtXNt8wDtr\"></div>\n",
       "        <script>netpixi.call('Cenh9zgB4WhjEtXNt8wDtr', 'Dds9NkHZmJ4Wk4MNSQYHbb', 'changeGraph', 'eyJpZCI6IDgwLCAidHlwZSI6ICJ2ZXJ0ZXgiLCAicHJvcHMiOiB7ImNvbG9yIjogMTY3MTE2ODB9fQo=');</script>\n",
       "    "
      ],
      "text/plain": [
       "<IPython.core.display.HTML object>"
      ]
     },
     "metadata": {},
     "output_type": "display_data"
    },
    {
     "data": {
      "text/html": [
       "\n",
       "        <div id=\"c7pFiunyGnziPfEB8yv8N6\"></div>\n",
       "        <script>netpixi.call('c7pFiunyGnziPfEB8yv8N6', 'Dds9NkHZmJ4Wk4MNSQYHbb', 'changeGraph', 'eyJpZCI6IDE5NiwgInR5cGUiOiAidmVydGV4IiwgInByb3BzIjogeyJzaXplIjogMTguNDUxODgyODQ1MTg4MjgzfX0K');</script>\n",
       "    "
      ],
      "text/plain": [
       "<IPython.core.display.HTML object>"
      ]
     },
     "metadata": {},
     "output_type": "display_data"
    },
    {
     "data": {
      "text/html": [
       "\n",
       "        <div id=\"TSAqQjPhhJyFzQnwMbXeka\"></div>\n",
       "        <script>netpixi.call('TSAqQjPhhJyFzQnwMbXeka', 'Dds9NkHZmJ4Wk4MNSQYHbb', 'changeGraph', 'eyJpZCI6IDgyLCAidHlwZSI6ICJ2ZXJ0ZXgiLCAicHJvcHMiOiB7ImNvbG9yIjogMTY3MTE2ODB9fQo=');</script>\n",
       "    "
      ],
      "text/plain": [
       "<IPython.core.display.HTML object>"
      ]
     },
     "metadata": {},
     "output_type": "display_data"
    },
    {
     "data": {
      "text/html": [
       "\n",
       "        <div id=\"jmirVkhtC4erCuifUGS5oa\"></div>\n",
       "        <script>netpixi.call('jmirVkhtC4erCuifUGS5oa', 'Dds9NkHZmJ4Wk4MNSQYHbb', 'changeGraph', 'eyJpZCI6IDE5NywgInR5cGUiOiAidmVydGV4IiwgInByb3BzIjogeyJzaXplIjogNDEuODMzMzMzMzMzMzMzMzN9fQo=');</script>\n",
       "    "
      ],
      "text/plain": [
       "<IPython.core.display.HTML object>"
      ]
     },
     "metadata": {},
     "output_type": "display_data"
    },
    {
     "data": {
      "text/html": [
       "\n",
       "        <div id=\"F9R2cmBsqrrabQF95neZJX\"></div>\n",
       "        <script>netpixi.call('F9R2cmBsqrrabQF95neZJX', 'Dds9NkHZmJ4Wk4MNSQYHbb', 'changeGraph', 'eyJpZCI6IDY3LCAidHlwZSI6ICJ2ZXJ0ZXgiLCAicHJvcHMiOiB7ImNvbG9yIjogMTY3MTE2ODB9fQo=');</script>\n",
       "    "
      ],
      "text/plain": [
       "<IPython.core.display.HTML object>"
      ]
     },
     "metadata": {},
     "output_type": "display_data"
    },
    {
     "data": {
      "text/html": [
       "\n",
       "        <div id=\"4iNiSXdYPHG24RbW8waeY3\"></div>\n",
       "        <script>netpixi.call('4iNiSXdYPHG24RbW8waeY3', 'Dds9NkHZmJ4Wk4MNSQYHbb', 'changeGraph', 'eyJpZCI6IDE5OCwgInR5cGUiOiAidmVydGV4IiwgInByb3BzIjogeyJzaXplIjogMTkuNTM5NzQ4OTUzOTc0ODkzfX0K');</script>\n",
       "    "
      ],
      "text/plain": [
       "<IPython.core.display.HTML object>"
      ]
     },
     "metadata": {},
     "output_type": "display_data"
    },
    {
     "data": {
      "text/html": [
       "\n",
       "        <div id=\"6kv8mYjuQ6doUsmyy2Zgft\"></div>\n",
       "        <script>netpixi.call('6kv8mYjuQ6doUsmyy2Zgft', 'Dds9NkHZmJ4Wk4MNSQYHbb', 'changeGraph', 'eyJpZCI6IDc0LCAidHlwZSI6ICJ2ZXJ0ZXgiLCAicHJvcHMiOiB7ImNvbG9yIjogMTY3MTE2ODB9fQo=');</script>\n",
       "    "
      ],
      "text/plain": [
       "<IPython.core.display.HTML object>"
      ]
     },
     "metadata": {},
     "output_type": "display_data"
    },
    {
     "data": {
      "text/html": [
       "\n",
       "        <div id=\"DE6X7sdGffY7FACRTrgnBY\"></div>\n",
       "        <script>netpixi.call('DE6X7sdGffY7FACRTrgnBY', 'Dds9NkHZmJ4Wk4MNSQYHbb', 'changeGraph', 'eyJpZCI6IDE5OSwgInR5cGUiOiAidmVydGV4IiwgInByb3BzIjogeyJzaXplIjogMTMuNzY1NjkwMzc2NTY5MDM3fX0K');</script>\n",
       "    "
      ],
      "text/plain": [
       "<IPython.core.display.HTML object>"
      ]
     },
     "metadata": {},
     "output_type": "display_data"
    },
    {
     "data": {
      "text/html": [
       "\n",
       "        <div id=\"HBWC6P537MeFnZhgvmqrm8\"></div>\n",
       "        <script>netpixi.call('HBWC6P537MeFnZhgvmqrm8', 'Dds9NkHZmJ4Wk4MNSQYHbb', 'changeGraph', 'eyJpZCI6IDcxLCAidHlwZSI6ICJ2ZXJ0ZXgiLCAicHJvcHMiOiB7ImNvbG9yIjogMTY3MTE2ODB9fQo=');</script>\n",
       "    "
      ],
      "text/plain": [
       "<IPython.core.display.HTML object>"
      ]
     },
     "metadata": {},
     "output_type": "display_data"
    },
    {
     "data": {
      "text/html": [
       "\n",
       "        <div id=\"nzQZn8JqSNVFEPUhHcJtzn\"></div>\n",
       "        <script>netpixi.call('nzQZn8JqSNVFEPUhHcJtzn', 'Dds9NkHZmJ4Wk4MNSQYHbb', 'changeGraph', 'eyJpZCI6IDIwMCwgInR5cGUiOiAidmVydGV4IiwgInByb3BzIjogeyJzaXplIjogMTQuNTE4ODI4NDUxODgyODQ1fX0K');</script>\n",
       "    "
      ],
      "text/plain": [
       "<IPython.core.display.HTML object>"
      ]
     },
     "metadata": {},
     "output_type": "display_data"
    },
    {
     "data": {
      "text/html": [
       "\n",
       "        <div id=\"kPfwnvRmuoJgTyQb4jVmEK\"></div>\n",
       "        <script>netpixi.call('kPfwnvRmuoJgTyQb4jVmEK', 'Dds9NkHZmJ4Wk4MNSQYHbb', 'changeGraph', 'eyJpZCI6IDgyLCAidHlwZSI6ICJ2ZXJ0ZXgiLCAicHJvcHMiOiB7ImNvbG9yIjogMTY3MTE2ODB9fQo=');</script>\n",
       "    "
      ],
      "text/plain": [
       "<IPython.core.display.HTML object>"
      ]
     },
     "metadata": {},
     "output_type": "display_data"
    },
    {
     "data": {
      "text/html": [
       "\n",
       "        <div id=\"MNn4ky3vFNXs5rscvu98jh\"></div>\n",
       "        <script>netpixi.call('MNn4ky3vFNXs5rscvu98jh', 'Dds9NkHZmJ4Wk4MNSQYHbb', 'changeGraph', 'eyJpZCI6IDIwMSwgInR5cGUiOiAidmVydGV4IiwgInByb3BzIjogeyJzaXplIjogMTUuNjkwMzc2NTY5MDM3NjU3fX0K');</script>\n",
       "    "
      ],
      "text/plain": [
       "<IPython.core.display.HTML object>"
      ]
     },
     "metadata": {},
     "output_type": "display_data"
    },
    {
     "data": {
      "text/html": [
       "\n",
       "        <div id=\"27WtndgDocuzuDhHWpNXrS\"></div>\n",
       "        <script>netpixi.call('27WtndgDocuzuDhHWpNXrS', 'Dds9NkHZmJ4Wk4MNSQYHbb', 'changeGraph', 'eyJpZCI6IDc4LCAidHlwZSI6ICJ2ZXJ0ZXgiLCAicHJvcHMiOiB7ImNvbG9yIjogMTY3MTE2ODB9fQo=');</script>\n",
       "    "
      ],
      "text/plain": [
       "<IPython.core.display.HTML object>"
      ]
     },
     "metadata": {},
     "output_type": "display_data"
    },
    {
     "data": {
      "text/html": [
       "\n",
       "        <div id=\"dtuQHdEH6o4rA2TweeEe2u\"></div>\n",
       "        <script>netpixi.call('dtuQHdEH6o4rA2TweeEe2u', 'Dds9NkHZmJ4Wk4MNSQYHbb', 'changeGraph', 'eyJpZCI6IDIwMiwgInR5cGUiOiAidmVydGV4IiwgInByb3BzIjogeyJzaXplIjogNDAuNX19Cg==');</script>\n",
       "    "
      ],
      "text/plain": [
       "<IPython.core.display.HTML object>"
      ]
     },
     "metadata": {},
     "output_type": "display_data"
    },
    {
     "data": {
      "text/html": [
       "\n",
       "        <div id=\"eN85gYNhhKS9D2xWFR6Ec8\"></div>\n",
       "        <script>netpixi.call('eN85gYNhhKS9D2xWFR6Ec8', 'Dds9NkHZmJ4Wk4MNSQYHbb', 'changeGraph', 'eyJpZCI6IDczLCAidHlwZSI6ICJ2ZXJ0ZXgiLCAicHJvcHMiOiB7ImNvbG9yIjogMTY3MTE2ODB9fQo=');</script>\n",
       "    "
      ],
      "text/plain": [
       "<IPython.core.display.HTML object>"
      ]
     },
     "metadata": {},
     "output_type": "display_data"
    },
    {
     "data": {
      "text/html": [
       "\n",
       "        <div id=\"XiGGyVJmSQtmcoKvQK7TKn\"></div>\n",
       "        <script>netpixi.call('XiGGyVJmSQtmcoKvQK7TKn', 'Dds9NkHZmJ4Wk4MNSQYHbb', 'changeGraph', 'eyJpZCI6IDIwMywgInR5cGUiOiAidmVydGV4IiwgInByb3BzIjogeyJzaXplIjogMTEuMTI5NzA3MTEyOTcwNzEyfX0K');</script>\n",
       "    "
      ],
      "text/plain": [
       "<IPython.core.display.HTML object>"
      ]
     },
     "metadata": {},
     "output_type": "display_data"
    },
    {
     "data": {
      "text/html": [
       "\n",
       "        <div id=\"aPgzRNaF7Nq5UmYSGcUeH4\"></div>\n",
       "        <script>netpixi.call('aPgzRNaF7Nq5UmYSGcUeH4', 'Dds9NkHZmJ4Wk4MNSQYHbb', 'changeGraph', 'eyJpZCI6IDc4LCAidHlwZSI6ICJ2ZXJ0ZXgiLCAicHJvcHMiOiB7ImNvbG9yIjogMTY3MTE2ODB9fQo=');</script>\n",
       "    "
      ],
      "text/plain": [
       "<IPython.core.display.HTML object>"
      ]
     },
     "metadata": {},
     "output_type": "display_data"
    },
    {
     "data": {
      "text/html": [
       "\n",
       "        <div id=\"AZ5FxKqgthTcuqpSeyVRqs\"></div>\n",
       "        <script>netpixi.call('AZ5FxKqgthTcuqpSeyVRqs', 'Dds9NkHZmJ4Wk4MNSQYHbb', 'changeGraph', 'eyJpZCI6IDIwNCwgInR5cGUiOiAidmVydGV4IiwgInByb3BzIjogeyJzaXplIjogMTEuMjEzMzg5MTIxMzM4OTEyfX0K');</script>\n",
       "    "
      ],
      "text/plain": [
       "<IPython.core.display.HTML object>"
      ]
     },
     "metadata": {},
     "output_type": "display_data"
    },
    {
     "data": {
      "text/html": [
       "\n",
       "        <div id=\"Mm82QZzdkzD9ruRRA44PLa\"></div>\n",
       "        <script>netpixi.call('Mm82QZzdkzD9ruRRA44PLa', 'Dds9NkHZmJ4Wk4MNSQYHbb', 'changeGraph', 'eyJpZCI6IDgxLCAidHlwZSI6ICJ2ZXJ0ZXgiLCAicHJvcHMiOiB7ImNvbG9yIjogMTY3MTE2ODB9fQo=');</script>\n",
       "    "
      ],
      "text/plain": [
       "<IPython.core.display.HTML object>"
      ]
     },
     "metadata": {},
     "output_type": "display_data"
    },
    {
     "data": {
      "text/html": [
       "\n",
       "        <div id=\"NCZGCxj2ZtanjS8dCXrdkb\"></div>\n",
       "        <script>netpixi.call('NCZGCxj2ZtanjS8dCXrdkb', 'Dds9NkHZmJ4Wk4MNSQYHbb', 'changeGraph', 'eyJpZCI6IDIwNSwgInR5cGUiOiAidmVydGV4IiwgInByb3BzIjogeyJzaXplIjogMTYuNjk0NTYwNjY5NDU2MDY3fX0K');</script>\n",
       "    "
      ],
      "text/plain": [
       "<IPython.core.display.HTML object>"
      ]
     },
     "metadata": {},
     "output_type": "display_data"
    },
    {
     "data": {
      "text/html": [
       "\n",
       "        <div id=\"HzBwJCpBjC3BxFgxpqhETg\"></div>\n",
       "        <script>netpixi.call('HzBwJCpBjC3BxFgxpqhETg', 'Dds9NkHZmJ4Wk4MNSQYHbb', 'changeGraph', 'eyJpZCI6IDg2LCAidHlwZSI6ICJ2ZXJ0ZXgiLCAicHJvcHMiOiB7ImNvbG9yIjogMTY3MTE2ODB9fQo=');</script>\n",
       "    "
      ],
      "text/plain": [
       "<IPython.core.display.HTML object>"
      ]
     },
     "metadata": {},
     "output_type": "display_data"
    },
    {
     "data": {
      "text/html": [
       "\n",
       "        <div id=\"6jRt3kqrc5VbAyfcBNThNf\"></div>\n",
       "        <script>netpixi.call('6jRt3kqrc5VbAyfcBNThNf', 'Dds9NkHZmJ4Wk4MNSQYHbb', 'changeGraph', 'eyJpZCI6IDIwNiwgInR5cGUiOiAidmVydGV4IiwgInByb3BzIjogeyJzaXplIjogMTcuMTEyOTcwNzExMjk3MDd9fQo=');</script>\n",
       "    "
      ],
      "text/plain": [
       "<IPython.core.display.HTML object>"
      ]
     },
     "metadata": {},
     "output_type": "display_data"
    },
    {
     "data": {
      "text/html": [
       "\n",
       "        <div id=\"fob86xqJBndUH7URmhRE73\"></div>\n",
       "        <script>netpixi.call('fob86xqJBndUH7URmhRE73', 'Dds9NkHZmJ4Wk4MNSQYHbb', 'changeGraph', 'eyJpZCI6IDg0LCAidHlwZSI6ICJ2ZXJ0ZXgiLCAicHJvcHMiOiB7ImNvbG9yIjogMTY3MTE2ODB9fQo=');</script>\n",
       "    "
      ],
      "text/plain": [
       "<IPython.core.display.HTML object>"
      ]
     },
     "metadata": {},
     "output_type": "display_data"
    },
    {
     "data": {
      "text/html": [
       "\n",
       "        <div id=\"GWanKisM8kWJAu7rE7pQDY\"></div>\n",
       "        <script>netpixi.call('GWanKisM8kWJAu7rE7pQDY', 'Dds9NkHZmJ4Wk4MNSQYHbb', 'changeGraph', 'eyJpZCI6IDIwNywgInR5cGUiOiAidmVydGV4IiwgInByb3BzIjogeyJzaXplIjogMTMuNTU2NDg1MzU1NjQ4NTM1fX0K');</script>\n",
       "    "
      ],
      "text/plain": [
       "<IPython.core.display.HTML object>"
      ]
     },
     "metadata": {},
     "output_type": "display_data"
    },
    {
     "data": {
      "text/html": [
       "\n",
       "        <div id=\"k3AhzBFm2qn9tydwb7CUG5\"></div>\n",
       "        <script>netpixi.call('k3AhzBFm2qn9tydwb7CUG5', 'Dds9NkHZmJ4Wk4MNSQYHbb', 'changeGraph', 'eyJpZCI6IDY1LCAidHlwZSI6ICJ2ZXJ0ZXgiLCAicHJvcHMiOiB7ImNvbG9yIjogMTY3MTE2ODB9fQo=');</script>\n",
       "    "
      ],
      "text/plain": [
       "<IPython.core.display.HTML object>"
      ]
     },
     "metadata": {},
     "output_type": "display_data"
    },
    {
     "data": {
      "text/html": [
       "\n",
       "        <div id=\"focWKbJYxB7RstWT8dBA6K\"></div>\n",
       "        <script>netpixi.call('focWKbJYxB7RstWT8dBA6K', 'Dds9NkHZmJ4Wk4MNSQYHbb', 'changeGraph', 'eyJpZCI6IDIwOCwgInR5cGUiOiAidmVydGV4IiwgInByb3BzIjogeyJzaXplIjogMTAuNzExMjk3MDcxMTI5NzA3fX0K');</script>\n",
       "    "
      ],
      "text/plain": [
       "<IPython.core.display.HTML object>"
      ]
     },
     "metadata": {},
     "output_type": "display_data"
    },
    {
     "data": {
      "text/html": [
       "\n",
       "        <div id=\"EDNzXT3L46rBcmrj2ViqtE\"></div>\n",
       "        <script>netpixi.call('EDNzXT3L46rBcmrj2ViqtE', 'Dds9NkHZmJ4Wk4MNSQYHbb', 'changeGraph', 'eyJpZCI6IDczLCAidHlwZSI6ICJ2ZXJ0ZXgiLCAicHJvcHMiOiB7ImNvbG9yIjogMTY3MTE2ODB9fQo=');</script>\n",
       "    "
      ],
      "text/plain": [
       "<IPython.core.display.HTML object>"
      ]
     },
     "metadata": {},
     "output_type": "display_data"
    },
    {
     "data": {
      "text/html": [
       "\n",
       "        <div id=\"cpCzpNS9ekcXE6wAvfwSJT\"></div>\n",
       "        <script>netpixi.call('cpCzpNS9ekcXE6wAvfwSJT', 'Dds9NkHZmJ4Wk4MNSQYHbb', 'changeGraph', 'eyJpZCI6IDIwOSwgInR5cGUiOiAidmVydGV4IiwgInByb3BzIjogeyJzaXplIjogMTIuNTEwNDYwMjUxMDQ2MDI1fX0K');</script>\n",
       "    "
      ],
      "text/plain": [
       "<IPython.core.display.HTML object>"
      ]
     },
     "metadata": {},
     "output_type": "display_data"
    },
    {
     "data": {
      "text/html": [
       "\n",
       "        <div id=\"6Truk6VQwWHDuunU3oThp5\"></div>\n",
       "        <script>netpixi.call('6Truk6VQwWHDuunU3oThp5', 'Dds9NkHZmJ4Wk4MNSQYHbb', 'changeGraph', 'eyJpZCI6IDcwLCAidHlwZSI6ICJ2ZXJ0ZXgiLCAicHJvcHMiOiB7ImNvbG9yIjogMTY3MTE2ODB9fQo=');</script>\n",
       "    "
      ],
      "text/plain": [
       "<IPython.core.display.HTML object>"
      ]
     },
     "metadata": {},
     "output_type": "display_data"
    },
    {
     "data": {
      "text/html": [
       "\n",
       "        <div id=\"KSYPWkWjVRuBNJBt3eaQfN\"></div>\n",
       "        <script>netpixi.call('KSYPWkWjVRuBNJBt3eaQfN', 'Dds9NkHZmJ4Wk4MNSQYHbb', 'changeGraph', 'eyJpZCI6IDIxMCwgInR5cGUiOiAidmVydGV4IiwgInByb3BzIjogeyJzaXplIjogMTguMzY4MjAwODM2ODIwMDgzfX0K');</script>\n",
       "    "
      ],
      "text/plain": [
       "<IPython.core.display.HTML object>"
      ]
     },
     "metadata": {},
     "output_type": "display_data"
    },
    {
     "data": {
      "text/html": [
       "\n",
       "        <div id=\"8ceotpVv6HboS48oHfhs3t\"></div>\n",
       "        <script>netpixi.call('8ceotpVv6HboS48oHfhs3t', 'Dds9NkHZmJ4Wk4MNSQYHbb', 'changeGraph', 'eyJpZCI6IDc0LCAidHlwZSI6ICJ2ZXJ0ZXgiLCAicHJvcHMiOiB7ImNvbG9yIjogMTY3MTE2ODB9fQo=');</script>\n",
       "    "
      ],
      "text/plain": [
       "<IPython.core.display.HTML object>"
      ]
     },
     "metadata": {},
     "output_type": "display_data"
    },
    {
     "data": {
      "text/html": [
       "\n",
       "        <div id=\"ZoY6wPr6d8btC5azadtbdB\"></div>\n",
       "        <script>netpixi.call('ZoY6wPr6d8btC5azadtbdB', 'Dds9NkHZmJ4Wk4MNSQYHbb', 'changeGraph', 'eyJpZCI6IDIxMSwgInR5cGUiOiAidmVydGV4IiwgInByb3BzIjogeyJzaXplIjogMTMuOTMzMDU0MzkzMzA1NDR9fQo=');</script>\n",
       "    "
      ],
      "text/plain": [
       "<IPython.core.display.HTML object>"
      ]
     },
     "metadata": {},
     "output_type": "display_data"
    },
    {
     "data": {
      "text/html": [
       "\n",
       "        <div id=\"Sw8TjUHte6KY7gEcKBddkm\"></div>\n",
       "        <script>netpixi.call('Sw8TjUHte6KY7gEcKBddkm', 'Dds9NkHZmJ4Wk4MNSQYHbb', 'changeGraph', 'eyJpZCI6IDc3LCAidHlwZSI6ICJ2ZXJ0ZXgiLCAicHJvcHMiOiB7ImNvbG9yIjogMTY3MTE2ODB9fQo=');</script>\n",
       "    "
      ],
      "text/plain": [
       "<IPython.core.display.HTML object>"
      ]
     },
     "metadata": {},
     "output_type": "display_data"
    },
    {
     "data": {
      "text/html": [
       "\n",
       "        <div id=\"ibgVwFLqKF4ttBRvZ3x8Y5\"></div>\n",
       "        <script>netpixi.call('ibgVwFLqKF4ttBRvZ3x8Y5', 'Dds9NkHZmJ4Wk4MNSQYHbb', 'changeGraph', 'eyJpZCI6IDIxMiwgInR5cGUiOiAidmVydGV4IiwgInByb3BzIjogeyJzaXplIjogMTQuMDE2NzM2NDAxNjczNjR9fQo=');</script>\n",
       "    "
      ],
      "text/plain": [
       "<IPython.core.display.HTML object>"
      ]
     },
     "metadata": {},
     "output_type": "display_data"
    },
    {
     "data": {
      "text/html": [
       "\n",
       "        <div id=\"NJtDKRPKqQyUos9ymLf39q\"></div>\n",
       "        <script>netpixi.call('NJtDKRPKqQyUos9ymLf39q', 'Dds9NkHZmJ4Wk4MNSQYHbb', 'changeGraph', 'eyJpZCI6IDY3LCAidHlwZSI6ICJ2ZXJ0ZXgiLCAicHJvcHMiOiB7ImNvbG9yIjogMTY3MTE2ODB9fQo=');</script>\n",
       "    "
      ],
      "text/plain": [
       "<IPython.core.display.HTML object>"
      ]
     },
     "metadata": {},
     "output_type": "display_data"
    },
    {
     "data": {
      "text/html": [
       "\n",
       "        <div id=\"NGsVT58DuV2TonXzwzfykh\"></div>\n",
       "        <script>netpixi.call('NGsVT58DuV2TonXzwzfykh', 'Dds9NkHZmJ4Wk4MNSQYHbb', 'changeGraph', 'eyJpZCI6IDIxMywgInR5cGUiOiAidmVydGV4IiwgInByb3BzIjogeyJzaXplIjogMTIuMjU5NDE0MjI1OTQxNDIzfX0K');</script>\n",
       "    "
      ],
      "text/plain": [
       "<IPython.core.display.HTML object>"
      ]
     },
     "metadata": {},
     "output_type": "display_data"
    },
    {
     "data": {
      "text/html": [
       "\n",
       "        <div id=\"QVYGJsg4Wy2yDTC9BysKZd\"></div>\n",
       "        <script>netpixi.call('QVYGJsg4Wy2yDTC9BysKZd', 'Dds9NkHZmJ4Wk4MNSQYHbb', 'changeGraph', 'eyJpZCI6IDc4LCAidHlwZSI6ICJ2ZXJ0ZXgiLCAicHJvcHMiOiB7ImNvbG9yIjogMTY3MTE2ODB9fQo=');</script>\n",
       "    "
      ],
      "text/plain": [
       "<IPython.core.display.HTML object>"
      ]
     },
     "metadata": {},
     "output_type": "display_data"
    },
    {
     "data": {
      "text/html": [
       "\n",
       "        <div id=\"hBa7iTuv8tytLW3FxXJjQV\"></div>\n",
       "        <script>netpixi.call('hBa7iTuv8tytLW3FxXJjQV', 'Dds9NkHZmJ4Wk4MNSQYHbb', 'changeGraph', 'eyJpZCI6IDIxNCwgInR5cGUiOiAidmVydGV4IiwgInByb3BzIjogeyJzaXplIjogMTUuNTY0ODUzNTU2NDg1MzU1fX0K');</script>\n",
       "    "
      ],
      "text/plain": [
       "<IPython.core.display.HTML object>"
      ]
     },
     "metadata": {},
     "output_type": "display_data"
    },
    {
     "data": {
      "text/html": [
       "\n",
       "        <div id=\"eJnqoruxuxqKAvUf8FERiM\"></div>\n",
       "        <script>netpixi.call('eJnqoruxuxqKAvUf8FERiM', 'Dds9NkHZmJ4Wk4MNSQYHbb', 'changeGraph', 'eyJpZCI6IDg0LCAidHlwZSI6ICJ2ZXJ0ZXgiLCAicHJvcHMiOiB7ImNvbG9yIjogMTY3MTE2ODB9fQo=');</script>\n",
       "    "
      ],
      "text/plain": [
       "<IPython.core.display.HTML object>"
      ]
     },
     "metadata": {},
     "output_type": "display_data"
    },
    {
     "data": {
      "text/html": [
       "\n",
       "        <div id=\"jDjaP9z4EbCt6Jdxed9KD6\"></div>\n",
       "        <script>netpixi.call('jDjaP9z4EbCt6Jdxed9KD6', 'Dds9NkHZmJ4Wk4MNSQYHbb', 'changeGraph', 'eyJpZCI6IDIxNSwgInR5cGUiOiAidmVydGV4IiwgInByb3BzIjogeyJzaXplIjogMTguNDEwMDQxODQxMDA0MTgzfX0K');</script>\n",
       "    "
      ],
      "text/plain": [
       "<IPython.core.display.HTML object>"
      ]
     },
     "metadata": {},
     "output_type": "display_data"
    },
    {
     "data": {
      "text/html": [
       "\n",
       "        <div id=\"TaoK8mQPA99H8us6S8qu9z\"></div>\n",
       "        <script>netpixi.call('TaoK8mQPA99H8us6S8qu9z', 'Dds9NkHZmJ4Wk4MNSQYHbb', 'changeGraph', 'eyJpZCI6IDc1LCAidHlwZSI6ICJ2ZXJ0ZXgiLCAicHJvcHMiOiB7ImNvbG9yIjogMTY3MTE2ODB9fQo=');</script>\n",
       "    "
      ],
      "text/plain": [
       "<IPython.core.display.HTML object>"
      ]
     },
     "metadata": {},
     "output_type": "display_data"
    },
    {
     "data": {
      "text/html": [
       "\n",
       "        <div id=\"TbgvMUJySjrBBRjBkowyLX\"></div>\n",
       "        <script>netpixi.call('TbgvMUJySjrBBRjBkowyLX', 'Dds9NkHZmJ4Wk4MNSQYHbb', 'changeGraph', 'eyJpZCI6IDIxNiwgInR5cGUiOiAidmVydGV4IiwgInByb3BzIjogeyJzaXplIjogMTQuNzI4MDMzNDcyODAzMzQ3fX0K');</script>\n",
       "    "
      ],
      "text/plain": [
       "<IPython.core.display.HTML object>"
      ]
     },
     "metadata": {},
     "output_type": "display_data"
    },
    {
     "data": {
      "text/html": [
       "\n",
       "        <div id=\"NeMiHcYkas5RtkMPhP2k7U\"></div>\n",
       "        <script>netpixi.call('NeMiHcYkas5RtkMPhP2k7U', 'Dds9NkHZmJ4Wk4MNSQYHbb', 'changeGraph', 'eyJpZCI6IDczLCAidHlwZSI6ICJ2ZXJ0ZXgiLCAicHJvcHMiOiB7ImNvbG9yIjogMTY3MTE2ODB9fQo=');</script>\n",
       "    "
      ],
      "text/plain": [
       "<IPython.core.display.HTML object>"
      ]
     },
     "metadata": {},
     "output_type": "display_data"
    },
    {
     "data": {
      "text/html": [
       "\n",
       "        <div id=\"bK37TceSpC3mjFvyGjai2U\"></div>\n",
       "        <script>netpixi.call('bK37TceSpC3mjFvyGjai2U', 'Dds9NkHZmJ4Wk4MNSQYHbb', 'changeGraph', 'eyJpZCI6IDIxNywgInR5cGUiOiAidmVydGV4IiwgInByb3BzIjogeyJzaXplIjogMTcuMTk2NjUyNzE5NjY1MjczfX0K');</script>\n",
       "    "
      ],
      "text/plain": [
       "<IPython.core.display.HTML object>"
      ]
     },
     "metadata": {},
     "output_type": "display_data"
    },
    {
     "data": {
      "text/html": [
       "\n",
       "        <div id=\"nvDkSZDRELCfEMAqs35miJ\"></div>\n",
       "        <script>netpixi.call('nvDkSZDRELCfEMAqs35miJ', 'Dds9NkHZmJ4Wk4MNSQYHbb', 'changeGraph', 'eyJpZCI6IDg0LCAidHlwZSI6ICJ2ZXJ0ZXgiLCAicHJvcHMiOiB7ImNvbG9yIjogMTY3MTE2ODB9fQo=');</script>\n",
       "    "
      ],
      "text/plain": [
       "<IPython.core.display.HTML object>"
      ]
     },
     "metadata": {},
     "output_type": "display_data"
    },
    {
     "data": {
      "text/html": [
       "\n",
       "        <div id=\"gFfENrEXqLvFVaPM4L7mkp\"></div>\n",
       "        <script>netpixi.call('gFfENrEXqLvFVaPM4L7mkp', 'Dds9NkHZmJ4Wk4MNSQYHbb', 'changeGraph', 'eyJpZCI6IDIxOCwgInR5cGUiOiAidmVydGV4IiwgInByb3BzIjogeyJzaXplIjogMTcuMzIyMTc1NzMyMjE3NTczfX0K');</script>\n",
       "    "
      ],
      "text/plain": [
       "<IPython.core.display.HTML object>"
      ]
     },
     "metadata": {},
     "output_type": "display_data"
    },
    {
     "data": {
      "text/html": [
       "\n",
       "        <div id=\"5tZfNZwXGQRJsmNYEJE9Y8\"></div>\n",
       "        <script>netpixi.call('5tZfNZwXGQRJsmNYEJE9Y8', 'Dds9NkHZmJ4Wk4MNSQYHbb', 'changeGraph', 'eyJpZCI6IDcyLCAidHlwZSI6ICJ2ZXJ0ZXgiLCAicHJvcHMiOiB7ImNvbG9yIjogMTY3MTE2ODB9fQo=');</script>\n",
       "    "
      ],
      "text/plain": [
       "<IPython.core.display.HTML object>"
      ]
     },
     "metadata": {},
     "output_type": "display_data"
    },
    {
     "data": {
      "text/html": [
       "\n",
       "        <div id=\"9y3sZwamSmPuk56ijLaNPo\"></div>\n",
       "        <script>netpixi.call('9y3sZwamSmPuk56ijLaNPo', 'Dds9NkHZmJ4Wk4MNSQYHbb', 'changeGraph', 'eyJpZCI6IDIxOSwgInR5cGUiOiAidmVydGV4IiwgInByb3BzIjogeyJzaXplIjogMTUuNDgxMTcxNTQ4MTE3MTUzfX0K');</script>\n",
       "    "
      ],
      "text/plain": [
       "<IPython.core.display.HTML object>"
      ]
     },
     "metadata": {},
     "output_type": "display_data"
    },
    {
     "data": {
      "text/html": [
       "\n",
       "        <div id=\"7AfJXd6MQhWrtRWnYSdrY3\"></div>\n",
       "        <script>netpixi.call('7AfJXd6MQhWrtRWnYSdrY3', 'Dds9NkHZmJ4Wk4MNSQYHbb', 'changeGraph', 'eyJpZCI6IDg2LCAidHlwZSI6ICJ2ZXJ0ZXgiLCAicHJvcHMiOiB7ImNvbG9yIjogMTY3MTE2ODB9fQo=');</script>\n",
       "    "
      ],
      "text/plain": [
       "<IPython.core.display.HTML object>"
      ]
     },
     "metadata": {},
     "output_type": "display_data"
    },
    {
     "data": {
      "text/html": [
       "\n",
       "        <div id=\"FDkTLkrekbzjAc3btwJsfE\"></div>\n",
       "        <script>netpixi.call('FDkTLkrekbzjAc3btwJsfE', 'Dds9NkHZmJ4Wk4MNSQYHbb', 'changeGraph', 'eyJpZCI6IDIyMCwgInR5cGUiOiAidmVydGV4IiwgInByb3BzIjogeyJzaXplIjogMTguNjE5MjQ2ODYxOTI0Njg3fX0K');</script>\n",
       "    "
      ],
      "text/plain": [
       "<IPython.core.display.HTML object>"
      ]
     },
     "metadata": {},
     "output_type": "display_data"
    },
    {
     "data": {
      "text/html": [
       "\n",
       "        <div id=\"T7jcbH8aXfH6DxYJwQ2Vvg\"></div>\n",
       "        <script>netpixi.call('T7jcbH8aXfH6DxYJwQ2Vvg', 'Dds9NkHZmJ4Wk4MNSQYHbb', 'changeGraph', 'eyJpZCI6IDc2LCAidHlwZSI6ICJ2ZXJ0ZXgiLCAicHJvcHMiOiB7ImNvbG9yIjogMTY3MTE2ODB9fQo=');</script>\n",
       "    "
      ],
      "text/plain": [
       "<IPython.core.display.HTML object>"
      ]
     },
     "metadata": {},
     "output_type": "display_data"
    },
    {
     "data": {
      "text/html": [
       "\n",
       "        <div id=\"gJYWg9Wx4bjUPbd3mr57KV\"></div>\n",
       "        <script>netpixi.call('gJYWg9Wx4bjUPbd3mr57KV', 'Dds9NkHZmJ4Wk4MNSQYHbb', 'changeGraph', 'eyJpZCI6IDIyMSwgInR5cGUiOiAidmVydGV4IiwgInByb3BzIjogeyJzaXplIjogNDQuMTY2NjY2NjY2NjY2NjY0fX0K');</script>\n",
       "    "
      ],
      "text/plain": [
       "<IPython.core.display.HTML object>"
      ]
     },
     "metadata": {},
     "output_type": "display_data"
    },
    {
     "data": {
      "text/html": [
       "\n",
       "        <div id=\"Y3MJBhvVQ49U3hGxjbsm72\"></div>\n",
       "        <script>netpixi.call('Y3MJBhvVQ49U3hGxjbsm72', 'Dds9NkHZmJ4Wk4MNSQYHbb', 'changeGraph', 'eyJpZCI6IDc2LCAidHlwZSI6ICJ2ZXJ0ZXgiLCAicHJvcHMiOiB7ImNvbG9yIjogMTY3MTE2ODB9fQo=');</script>\n",
       "    "
      ],
      "text/plain": [
       "<IPython.core.display.HTML object>"
      ]
     },
     "metadata": {},
     "output_type": "display_data"
    },
    {
     "data": {
      "text/html": [
       "\n",
       "        <div id=\"GDxSe4E3xUrZkTEF2vdKqF\"></div>\n",
       "        <script>netpixi.call('GDxSe4E3xUrZkTEF2vdKqF', 'Dds9NkHZmJ4Wk4MNSQYHbb', 'changeGraph', 'eyJpZCI6IDIyMiwgInR5cGUiOiAidmVydGV4IiwgInByb3BzIjogeyJzaXplIjogMTMuODA3NTMxMzgwNzUzMTM4fX0K');</script>\n",
       "    "
      ],
      "text/plain": [
       "<IPython.core.display.HTML object>"
      ]
     },
     "metadata": {},
     "output_type": "display_data"
    },
    {
     "data": {
      "text/html": [
       "\n",
       "        <div id=\"C3Vsr93YBzAtNwot2LVjs4\"></div>\n",
       "        <script>netpixi.call('C3Vsr93YBzAtNwot2LVjs4', 'Dds9NkHZmJ4Wk4MNSQYHbb', 'changeGraph', 'eyJpZCI6IDc5LCAidHlwZSI6ICJ2ZXJ0ZXgiLCAicHJvcHMiOiB7ImNvbG9yIjogMTY3MTE2ODB9fQo=');</script>\n",
       "    "
      ],
      "text/plain": [
       "<IPython.core.display.HTML object>"
      ]
     },
     "metadata": {},
     "output_type": "display_data"
    },
    {
     "data": {
      "text/html": [
       "\n",
       "        <div id=\"79UQQeJCCh875vbCAnd7G5\"></div>\n",
       "        <script>netpixi.call('79UQQeJCCh875vbCAnd7G5', 'Dds9NkHZmJ4Wk4MNSQYHbb', 'changeGraph', 'eyJpZCI6IDIyMywgInR5cGUiOiAidmVydGV4IiwgInByb3BzIjogeyJzaXplIjogNDAuNjY2NjY2NjY2NjY2Njd9fQo=');</script>\n",
       "    "
      ],
      "text/plain": [
       "<IPython.core.display.HTML object>"
      ]
     },
     "metadata": {},
     "output_type": "display_data"
    },
    {
     "data": {
      "text/html": [
       "\n",
       "        <div id=\"JicHgWq7Swh7rrycXZwVx5\"></div>\n",
       "        <script>netpixi.call('JicHgWq7Swh7rrycXZwVx5', 'Dds9NkHZmJ4Wk4MNSQYHbb', 'changeGraph', 'eyJpZCI6IDcwLCAidHlwZSI6ICJ2ZXJ0ZXgiLCAicHJvcHMiOiB7ImNvbG9yIjogMTY3MTE2ODB9fQo=');</script>\n",
       "    "
      ],
      "text/plain": [
       "<IPython.core.display.HTML object>"
      ]
     },
     "metadata": {},
     "output_type": "display_data"
    },
    {
     "data": {
      "text/html": [
       "\n",
       "        <div id=\"3JAETNeeJ9GWmu9PgRysoW\"></div>\n",
       "        <script>netpixi.call('3JAETNeeJ9GWmu9PgRysoW', 'Dds9NkHZmJ4Wk4MNSQYHbb', 'changeGraph', 'eyJpZCI6IDIyNCwgInR5cGUiOiAidmVydGV4IiwgInByb3BzIjogeyJzaXplIjogMTcuODY2MTA4Nzg2NjEwODh9fQo=');</script>\n",
       "    "
      ],
      "text/plain": [
       "<IPython.core.display.HTML object>"
      ]
     },
     "metadata": {},
     "output_type": "display_data"
    },
    {
     "data": {
      "text/html": [
       "\n",
       "        <div id=\"VeCCRg2Y3wwbWSw9FLBgQV\"></div>\n",
       "        <script>netpixi.call('VeCCRg2Y3wwbWSw9FLBgQV', 'Dds9NkHZmJ4Wk4MNSQYHbb', 'changeGraph', 'eyJpZCI6IDgxLCAidHlwZSI6ICJ2ZXJ0ZXgiLCAicHJvcHMiOiB7ImNvbG9yIjogMTY3MTE2ODB9fQo=');</script>\n",
       "    "
      ],
      "text/plain": [
       "<IPython.core.display.HTML object>"
      ]
     },
     "metadata": {},
     "output_type": "display_data"
    },
    {
     "data": {
      "text/html": [
       "\n",
       "        <div id=\"f9JCdUUiaTuqBTEacKPDWt\"></div>\n",
       "        <script>netpixi.call('f9JCdUUiaTuqBTEacKPDWt', 'Dds9NkHZmJ4Wk4MNSQYHbb', 'changeGraph', 'eyJpZCI6IDIyNSwgInR5cGUiOiAidmVydGV4IiwgInByb3BzIjogeyJzaXplIjogMTQuNjQ0MzUxNDY0NDM1MTQ3fX0K');</script>\n",
       "    "
      ],
      "text/plain": [
       "<IPython.core.display.HTML object>"
      ]
     },
     "metadata": {},
     "output_type": "display_data"
    },
    {
     "data": {
      "text/html": [
       "\n",
       "        <div id=\"AGdCHtStVwiHsXYB4qeeXY\"></div>\n",
       "        <script>netpixi.call('AGdCHtStVwiHsXYB4qeeXY', 'Dds9NkHZmJ4Wk4MNSQYHbb', 'changeGraph', 'eyJpZCI6IDgzLCAidHlwZSI6ICJ2ZXJ0ZXgiLCAicHJvcHMiOiB7ImNvbG9yIjogMTY3MTE2ODB9fQo=');</script>\n",
       "    "
      ],
      "text/plain": [
       "<IPython.core.display.HTML object>"
      ]
     },
     "metadata": {},
     "output_type": "display_data"
    },
    {
     "data": {
      "text/html": [
       "\n",
       "        <div id=\"PkddeQDgNG9xpyzTi5qBai\"></div>\n",
       "        <script>netpixi.call('PkddeQDgNG9xpyzTi5qBai', 'Dds9NkHZmJ4Wk4MNSQYHbb', 'changeGraph', 'eyJpZCI6IDIyNiwgInR5cGUiOiAidmVydGV4IiwgInByb3BzIjogeyJzaXplIjogNDguMzMzMzMzMzMzMzMzMzM2fX0K');</script>\n",
       "    "
      ],
      "text/plain": [
       "<IPython.core.display.HTML object>"
      ]
     },
     "metadata": {},
     "output_type": "display_data"
    },
    {
     "data": {
      "text/html": [
       "\n",
       "        <div id=\"2nvXJTCubkjMUYrXQWXeGh\"></div>\n",
       "        <script>netpixi.call('2nvXJTCubkjMUYrXQWXeGh', 'Dds9NkHZmJ4Wk4MNSQYHbb', 'changeGraph', 'eyJpZCI6IDc0LCAidHlwZSI6ICJ2ZXJ0ZXgiLCAicHJvcHMiOiB7ImNvbG9yIjogMTY3MTE2ODB9fQo=');</script>\n",
       "    "
      ],
      "text/plain": [
       "<IPython.core.display.HTML object>"
      ]
     },
     "metadata": {},
     "output_type": "display_data"
    },
    {
     "data": {
      "text/html": [
       "\n",
       "        <div id=\"fEZ7wdN9qAL5NgnweHgTcN\"></div>\n",
       "        <script>netpixi.call('fEZ7wdN9qAL5NgnweHgTcN', 'Dds9NkHZmJ4Wk4MNSQYHbb', 'changeGraph', 'eyJpZCI6IDIyNywgInR5cGUiOiAidmVydGV4IiwgInByb3BzIjogeyJzaXplIjogMTIuMTMzODkxMjEzMzg5MTIyfX0K');</script>\n",
       "    "
      ],
      "text/plain": [
       "<IPython.core.display.HTML object>"
      ]
     },
     "metadata": {},
     "output_type": "display_data"
    },
    {
     "data": {
      "text/html": [
       "\n",
       "        <div id=\"AVxNtkbWTZi4zNsxQ6TN5g\"></div>\n",
       "        <script>netpixi.call('AVxNtkbWTZi4zNsxQ6TN5g', 'Dds9NkHZmJ4Wk4MNSQYHbb', 'changeGraph', 'eyJpZCI6IDgxLCAidHlwZSI6ICJ2ZXJ0ZXgiLCAicHJvcHMiOiB7ImNvbG9yIjogMTY3MTE2ODB9fQo=');</script>\n",
       "    "
      ],
      "text/plain": [
       "<IPython.core.display.HTML object>"
      ]
     },
     "metadata": {},
     "output_type": "display_data"
    },
    {
     "data": {
      "text/html": [
       "\n",
       "        <div id=\"gqH2YmuLeSDUK2m7fARpqK\"></div>\n",
       "        <script>netpixi.call('gqH2YmuLeSDUK2m7fARpqK', 'Dds9NkHZmJ4Wk4MNSQYHbb', 'changeGraph', 'eyJpZCI6IDIyOCwgInR5cGUiOiAidmVydGV4IiwgInByb3BzIjogeyJzaXplIjogMTEuNTg5OTU4MTU4OTk1ODE3fX0K');</script>\n",
       "    "
      ],
      "text/plain": [
       "<IPython.core.display.HTML object>"
      ]
     },
     "metadata": {},
     "output_type": "display_data"
    },
    {
     "data": {
      "text/html": [
       "\n",
       "        <div id=\"LjXk2LDPZSViwe68HSg3tg\"></div>\n",
       "        <script>netpixi.call('LjXk2LDPZSViwe68HSg3tg', 'Dds9NkHZmJ4Wk4MNSQYHbb', 'changeGraph', 'eyJpZCI6IDgxLCAidHlwZSI6ICJ2ZXJ0ZXgiLCAicHJvcHMiOiB7ImNvbG9yIjogMTY3MTE2ODB9fQo=');</script>\n",
       "    "
      ],
      "text/plain": [
       "<IPython.core.display.HTML object>"
      ]
     },
     "metadata": {},
     "output_type": "display_data"
    },
    {
     "data": {
      "text/html": [
       "\n",
       "        <div id=\"ijjuDF9jbh55Qi3KN3veiH\"></div>\n",
       "        <script>netpixi.call('ijjuDF9jbh55Qi3KN3veiH', 'Dds9NkHZmJ4Wk4MNSQYHbb', 'changeGraph', 'eyJpZCI6IDIyOSwgInR5cGUiOiAidmVydGV4IiwgInByb3BzIjogeyJzaXplIjogMTcuOTkxNjMxNzk5MTYzMTh9fQo=');</script>\n",
       "    "
      ],
      "text/plain": [
       "<IPython.core.display.HTML object>"
      ]
     },
     "metadata": {},
     "output_type": "display_data"
    },
    {
     "data": {
      "text/html": [
       "\n",
       "        <div id=\"Gi2G6uVJNCyXnLAHPJioTa\"></div>\n",
       "        <script>netpixi.call('Gi2G6uVJNCyXnLAHPJioTa', 'Dds9NkHZmJ4Wk4MNSQYHbb', 'changeGraph', 'eyJpZCI6IDc2LCAidHlwZSI6ICJ2ZXJ0ZXgiLCAicHJvcHMiOiB7ImNvbG9yIjogMTY3MTE2ODB9fQo=');</script>\n",
       "    "
      ],
      "text/plain": [
       "<IPython.core.display.HTML object>"
      ]
     },
     "metadata": {},
     "output_type": "display_data"
    },
    {
     "data": {
      "text/html": [
       "\n",
       "        <div id=\"4oB8QWHZTzGGYRCMwqUQpr\"></div>\n",
       "        <script>netpixi.call('4oB8QWHZTzGGYRCMwqUQpr', 'Dds9NkHZmJ4Wk4MNSQYHbb', 'changeGraph', 'eyJpZCI6IDIzMCwgInR5cGUiOiAidmVydGV4IiwgInByb3BzIjogeyJzaXplIjogMTguNTc3NDA1ODU3NzQwNTg3fX0K');</script>\n",
       "    "
      ],
      "text/plain": [
       "<IPython.core.display.HTML object>"
      ]
     },
     "metadata": {},
     "output_type": "display_data"
    },
    {
     "data": {
      "text/html": [
       "\n",
       "        <div id=\"RsJjtCbc2qZcSufoW6t2SN\"></div>\n",
       "        <script>netpixi.call('RsJjtCbc2qZcSufoW6t2SN', 'Dds9NkHZmJ4Wk4MNSQYHbb', 'changeGraph', 'eyJpZCI6IDg0LCAidHlwZSI6ICJ2ZXJ0ZXgiLCAicHJvcHMiOiB7ImNvbG9yIjogMTY3MTE2ODB9fQo=');</script>\n",
       "    "
      ],
      "text/plain": [
       "<IPython.core.display.HTML object>"
      ]
     },
     "metadata": {},
     "output_type": "display_data"
    },
    {
     "data": {
      "text/html": [
       "\n",
       "        <div id=\"dSsUVarRTbFdxmw8poZbrc\"></div>\n",
       "        <script>netpixi.call('dSsUVarRTbFdxmw8poZbrc', 'Dds9NkHZmJ4Wk4MNSQYHbb', 'changeGraph', 'eyJpZCI6IDIzMSwgInR5cGUiOiAidmVydGV4IiwgInByb3BzIjogeyJzaXplIjogMTEuNjMxNzk5MTYzMTc5OTE3fX0K');</script>\n",
       "    "
      ],
      "text/plain": [
       "<IPython.core.display.HTML object>"
      ]
     },
     "metadata": {},
     "output_type": "display_data"
    },
    {
     "data": {
      "text/html": [
       "\n",
       "        <div id=\"9VFDR3NrA9wn6mbNHDYKLN\"></div>\n",
       "        <script>netpixi.call('9VFDR3NrA9wn6mbNHDYKLN', 'Dds9NkHZmJ4Wk4MNSQYHbb', 'changeGraph', 'eyJpZCI6IDcwLCAidHlwZSI6ICJ2ZXJ0ZXgiLCAicHJvcHMiOiB7ImNvbG9yIjogMTY3MTE2ODB9fQo=');</script>\n",
       "    "
      ],
      "text/plain": [
       "<IPython.core.display.HTML object>"
      ]
     },
     "metadata": {},
     "output_type": "display_data"
    },
    {
     "data": {
      "text/html": [
       "\n",
       "        <div id=\"QjaAjK8MmooRu9uAwaZitE\"></div>\n",
       "        <script>netpixi.call('QjaAjK8MmooRu9uAwaZitE', 'Dds9NkHZmJ4Wk4MNSQYHbb', 'changeGraph', 'eyJpZCI6IDIzMiwgInR5cGUiOiAidmVydGV4IiwgInByb3BzIjogeyJzaXplIjogMTYuODYxOTI0Njg2MTkyNDY3fX0K');</script>\n",
       "    "
      ],
      "text/plain": [
       "<IPython.core.display.HTML object>"
      ]
     },
     "metadata": {},
     "output_type": "display_data"
    },
    {
     "data": {
      "text/html": [
       "\n",
       "        <div id=\"6WMHsyrYfTpqxLeW4jBwqx\"></div>\n",
       "        <script>netpixi.call('6WMHsyrYfTpqxLeW4jBwqx', 'Dds9NkHZmJ4Wk4MNSQYHbb', 'changeGraph', 'eyJpZCI6IDc1LCAidHlwZSI6ICJ2ZXJ0ZXgiLCAicHJvcHMiOiB7ImNvbG9yIjogMTY3MTE2ODB9fQo=');</script>\n",
       "    "
      ],
      "text/plain": [
       "<IPython.core.display.HTML object>"
      ]
     },
     "metadata": {},
     "output_type": "display_data"
    },
    {
     "data": {
      "text/html": [
       "\n",
       "        <div id=\"FPEXFbCEzUEKy3Ei4MbQaZ\"></div>\n",
       "        <script>netpixi.call('FPEXFbCEzUEKy3Ei4MbQaZ', 'Dds9NkHZmJ4Wk4MNSQYHbb', 'changeGraph', 'eyJpZCI6IDIzMywgInR5cGUiOiAidmVydGV4IiwgInByb3BzIjogeyJzaXplIjogNDIuODMzMzMzMzMzMzMzMzN9fQo=');</script>\n",
       "    "
      ],
      "text/plain": [
       "<IPython.core.display.HTML object>"
      ]
     },
     "metadata": {},
     "output_type": "display_data"
    },
    {
     "data": {
      "text/html": [
       "\n",
       "        <div id=\"hxJuf2kRAmsLnVWj6ehNrr\"></div>\n",
       "        <script>netpixi.call('hxJuf2kRAmsLnVWj6ehNrr', 'Dds9NkHZmJ4Wk4MNSQYHbb', 'changeGraph', 'eyJpZCI6IDc4LCAidHlwZSI6ICJ2ZXJ0ZXgiLCAicHJvcHMiOiB7ImNvbG9yIjogMTY3MTE2ODB9fQo=');</script>\n",
       "    "
      ],
      "text/plain": [
       "<IPython.core.display.HTML object>"
      ]
     },
     "metadata": {},
     "output_type": "display_data"
    },
    {
     "data": {
      "text/html": [
       "\n",
       "        <div id=\"mJnxKRLXCL5tmNZWhGFWBa\"></div>\n",
       "        <script>netpixi.call('mJnxKRLXCL5tmNZWhGFWBa', 'Dds9NkHZmJ4Wk4MNSQYHbb', 'changeGraph', 'eyJpZCI6IDIzNCwgInR5cGUiOiAidmVydGV4IiwgInByb3BzIjogeyJzaXplIjogNDcuMzMzMzMzMzMzMzMzMzM2fX0K');</script>\n",
       "    "
      ],
      "text/plain": [
       "<IPython.core.display.HTML object>"
      ]
     },
     "metadata": {},
     "output_type": "display_data"
    },
    {
     "data": {
      "text/html": [
       "\n",
       "        <div id=\"YE8EzMEPqTsXho7Fv5LHwZ\"></div>\n",
       "        <script>netpixi.call('YE8EzMEPqTsXho7Fv5LHwZ', 'Dds9NkHZmJ4Wk4MNSQYHbb', 'changeGraph', 'eyJpZCI6IDgwLCAidHlwZSI6ICJ2ZXJ0ZXgiLCAicHJvcHMiOiB7ImNvbG9yIjogMTY3MTE2ODB9fQo=');</script>\n",
       "    "
      ],
      "text/plain": [
       "<IPython.core.display.HTML object>"
      ]
     },
     "metadata": {},
     "output_type": "display_data"
    },
    {
     "data": {
      "text/html": [
       "\n",
       "        <div id=\"MvufXN2RJiLHozVF4kXJEF\"></div>\n",
       "        <script>netpixi.call('MvufXN2RJiLHozVF4kXJEF', 'Dds9NkHZmJ4Wk4MNSQYHbb', 'changeGraph', 'eyJpZCI6IDIzNSwgInR5cGUiOiAidmVydGV4IiwgInByb3BzIjogeyJzaXplIjogMTMuMzQ3MjgwMzM0NzI4MDMzfX0K');</script>\n",
       "    "
      ],
      "text/plain": [
       "<IPython.core.display.HTML object>"
      ]
     },
     "metadata": {},
     "output_type": "display_data"
    },
    {
     "data": {
      "text/html": [
       "\n",
       "        <div id=\"XNLdSaj97CNYPMA6oq4P8E\"></div>\n",
       "        <script>netpixi.call('XNLdSaj97CNYPMA6oq4P8E', 'Dds9NkHZmJ4Wk4MNSQYHbb', 'changeGraph', 'eyJpZCI6IDgyLCAidHlwZSI6ICJ2ZXJ0ZXgiLCAicHJvcHMiOiB7ImNvbG9yIjogMTY3MTE2ODB9fQo=');</script>\n",
       "    "
      ],
      "text/plain": [
       "<IPython.core.display.HTML object>"
      ]
     },
     "metadata": {},
     "output_type": "display_data"
    },
    {
     "data": {
      "text/html": [
       "\n",
       "        <div id=\"Sp6yJQCJSyxPjaFVddVk4v\"></div>\n",
       "        <script>netpixi.call('Sp6yJQCJSyxPjaFVddVk4v', 'Dds9NkHZmJ4Wk4MNSQYHbb', 'changeGraph', 'eyJpZCI6IDIzNiwgInR5cGUiOiAidmVydGV4IiwgInByb3BzIjogeyJzaXplIjogMTUuMjMwMTI1NTIzMDEyNTUyfX0K');</script>\n",
       "    "
      ],
      "text/plain": [
       "<IPython.core.display.HTML object>"
      ]
     },
     "metadata": {},
     "output_type": "display_data"
    },
    {
     "data": {
      "text/html": [
       "\n",
       "        <div id=\"RYEJhs8gofqY3uw3s3HppF\"></div>\n",
       "        <script>netpixi.call('RYEJhs8gofqY3uw3s3HppF', 'Dds9NkHZmJ4Wk4MNSQYHbb', 'changeGraph', 'eyJpZCI6IDgwLCAidHlwZSI6ICJ2ZXJ0ZXgiLCAicHJvcHMiOiB7ImNvbG9yIjogMTY3MTE2ODB9fQo=');</script>\n",
       "    "
      ],
      "text/plain": [
       "<IPython.core.display.HTML object>"
      ]
     },
     "metadata": {},
     "output_type": "display_data"
    },
    {
     "data": {
      "text/html": [
       "\n",
       "        <div id=\"WEggQTD4c92iDkYmkkTGF2\"></div>\n",
       "        <script>netpixi.call('WEggQTD4c92iDkYmkkTGF2', 'Dds9NkHZmJ4Wk4MNSQYHbb', 'changeGraph', 'eyJpZCI6IDIzNywgInR5cGUiOiAidmVydGV4IiwgInByb3BzIjogeyJzaXplIjogMTcuMTU0ODExNzE1NDgxMTd9fQo=');</script>\n",
       "    "
      ],
      "text/plain": [
       "<IPython.core.display.HTML object>"
      ]
     },
     "metadata": {},
     "output_type": "display_data"
    },
    {
     "data": {
      "text/html": [
       "\n",
       "        <div id=\"7HELFnfxp28erJkXgDsxkm\"></div>\n",
       "        <script>netpixi.call('7HELFnfxp28erJkXgDsxkm', 'Dds9NkHZmJ4Wk4MNSQYHbb', 'changeGraph', 'eyJpZCI6IDcyLCAidHlwZSI6ICJ2ZXJ0ZXgiLCAicHJvcHMiOiB7ImNvbG9yIjogMTY3MTE2ODB9fQo=');</script>\n",
       "    "
      ],
      "text/plain": [
       "<IPython.core.display.HTML object>"
      ]
     },
     "metadata": {},
     "output_type": "display_data"
    },
    {
     "data": {
      "text/html": [
       "\n",
       "        <div id=\"mkD2PDFuRjXomz78iTUrp8\"></div>\n",
       "        <script>netpixi.call('mkD2PDFuRjXomz78iTUrp8', 'Dds9NkHZmJ4Wk4MNSQYHbb', 'changeGraph', 'eyJpZCI6IDIzOCwgInR5cGUiOiAidmVydGV4IiwgInByb3BzIjogeyJzaXplIjogMTQuODUzNTU2NDg1MzU1NjQ4fX0K');</script>\n",
       "    "
      ],
      "text/plain": [
       "<IPython.core.display.HTML object>"
      ]
     },
     "metadata": {},
     "output_type": "display_data"
    },
    {
     "data": {
      "text/html": [
       "\n",
       "        <div id=\"2ZocnWGntqgYMV9T9V3k9e\"></div>\n",
       "        <script>netpixi.call('2ZocnWGntqgYMV9T9V3k9e', 'Dds9NkHZmJ4Wk4MNSQYHbb', 'changeGraph', 'eyJpZCI6IDg3LCAidHlwZSI6ICJ2ZXJ0ZXgiLCAicHJvcHMiOiB7ImNvbG9yIjogMTY3MTE2ODB9fQo=');</script>\n",
       "    "
      ],
      "text/plain": [
       "<IPython.core.display.HTML object>"
      ]
     },
     "metadata": {},
     "output_type": "display_data"
    },
    {
     "data": {
      "text/html": [
       "\n",
       "        <div id=\"Cru5HxBCWwmKPeEBMWfHYH\"></div>\n",
       "        <script>netpixi.call('Cru5HxBCWwmKPeEBMWfHYH', 'Dds9NkHZmJ4Wk4MNSQYHbb', 'changeGraph', 'eyJpZCI6IDIzOSwgInR5cGUiOiAidmVydGV4IiwgInByb3BzIjogeyJzaXplIjogNDQuNX19Cg==');</script>\n",
       "    "
      ],
      "text/plain": [
       "<IPython.core.display.HTML object>"
      ]
     },
     "metadata": {},
     "output_type": "display_data"
    },
    {
     "data": {
      "text/html": [
       "\n",
       "        <div id=\"MmXDgW9VENfEWqeVqt5tUc\"></div>\n",
       "        <script>netpixi.call('MmXDgW9VENfEWqeVqt5tUc', 'Dds9NkHZmJ4Wk4MNSQYHbb', 'changeGraph', 'eyJpZCI6IDcwLCAidHlwZSI6ICJ2ZXJ0ZXgiLCAicHJvcHMiOiB7ImNvbG9yIjogMTY3MTE2ODB9fQo=');</script>\n",
       "    "
      ],
      "text/plain": [
       "<IPython.core.display.HTML object>"
      ]
     },
     "metadata": {},
     "output_type": "display_data"
    },
    {
     "data": {
      "text/html": [
       "\n",
       "        <div id=\"QssraCNk8TvX4iq8K5XWrJ\"></div>\n",
       "        <script>netpixi.call('QssraCNk8TvX4iq8K5XWrJ', 'Dds9NkHZmJ4Wk4MNSQYHbb', 'changeGraph', 'eyJpZCI6IDI0MCwgInR5cGUiOiAidmVydGV4IiwgInByb3BzIjogeyJzaXplIjogMTAuNDYwMjUxMDQ2MDI1MTA1fX0K');</script>\n",
       "    "
      ],
      "text/plain": [
       "<IPython.core.display.HTML object>"
      ]
     },
     "metadata": {},
     "output_type": "display_data"
    },
    {
     "data": {
      "text/html": [
       "\n",
       "        <div id=\"Lo6QMBMSgigiVrxsmKSuVX\"></div>\n",
       "        <script>netpixi.call('Lo6QMBMSgigiVrxsmKSuVX', 'Dds9NkHZmJ4Wk4MNSQYHbb', 'changeGraph', 'eyJpZCI6IDgyLCAidHlwZSI6ICJ2ZXJ0ZXgiLCAicHJvcHMiOiB7ImNvbG9yIjogMTY3MTE2ODB9fQo=');</script>\n",
       "    "
      ],
      "text/plain": [
       "<IPython.core.display.HTML object>"
      ]
     },
     "metadata": {},
     "output_type": "display_data"
    },
    {
     "data": {
      "text/html": [
       "\n",
       "        <div id=\"bZJDX44fURFRsaZGoEYmC5\"></div>\n",
       "        <script>netpixi.call('bZJDX44fURFRsaZGoEYmC5', 'Dds9NkHZmJ4Wk4MNSQYHbb', 'changeGraph', 'eyJpZCI6IDI0MSwgInR5cGUiOiAidmVydGV4IiwgInByb3BzIjogeyJzaXplIjogMTcuNzQwNTg1Nzc0MDU4NTc3fX0K');</script>\n",
       "    "
      ],
      "text/plain": [
       "<IPython.core.display.HTML object>"
      ]
     },
     "metadata": {},
     "output_type": "display_data"
    },
    {
     "data": {
      "text/html": [
       "\n",
       "        <div id=\"X3DvS8xnq4BUPBgqpHCDsC\"></div>\n",
       "        <script>netpixi.call('X3DvS8xnq4BUPBgqpHCDsC', 'Dds9NkHZmJ4Wk4MNSQYHbb', 'changeGraph', 'eyJpZCI6IDgwLCAidHlwZSI6ICJ2ZXJ0ZXgiLCAicHJvcHMiOiB7ImNvbG9yIjogMTY3MTE2ODB9fQo=');</script>\n",
       "    "
      ],
      "text/plain": [
       "<IPython.core.display.HTML object>"
      ]
     },
     "metadata": {},
     "output_type": "display_data"
    },
    {
     "data": {
      "text/html": [
       "\n",
       "        <div id=\"3tNdQw3KUt6vBVnjFGiDL7\"></div>\n",
       "        <script>netpixi.call('3tNdQw3KUt6vBVnjFGiDL7', 'Dds9NkHZmJ4Wk4MNSQYHbb', 'changeGraph', 'eyJpZCI6IDI0MiwgInR5cGUiOiAidmVydGV4IiwgInByb3BzIjogeyJzaXplIjogNDguNX19Cg==');</script>\n",
       "    "
      ],
      "text/plain": [
       "<IPython.core.display.HTML object>"
      ]
     },
     "metadata": {},
     "output_type": "display_data"
    },
    {
     "data": {
      "text/html": [
       "\n",
       "        <div id=\"hA48uhGujbQzedsVNQDn3t\"></div>\n",
       "        <script>netpixi.call('hA48uhGujbQzedsVNQDn3t', 'Dds9NkHZmJ4Wk4MNSQYHbb', 'changeGraph', 'eyJpZCI6IDc1LCAidHlwZSI6ICJ2ZXJ0ZXgiLCAicHJvcHMiOiB7ImNvbG9yIjogMTY3MTE2ODB9fQo=');</script>\n",
       "    "
      ],
      "text/plain": [
       "<IPython.core.display.HTML object>"
      ]
     },
     "metadata": {},
     "output_type": "display_data"
    },
    {
     "data": {
      "text/html": [
       "\n",
       "        <div id=\"CpX2oY8eEVff4qVQ9qYtob\"></div>\n",
       "        <script>netpixi.call('CpX2oY8eEVff4qVQ9qYtob', 'Dds9NkHZmJ4Wk4MNSQYHbb', 'changeGraph', 'eyJpZCI6IDI0MywgInR5cGUiOiAidmVydGV4IiwgInByb3BzIjogeyJzaXplIjogMTkuMzcyMzg0OTM3MjM4NDkzfX0K');</script>\n",
       "    "
      ],
      "text/plain": [
       "<IPython.core.display.HTML object>"
      ]
     },
     "metadata": {},
     "output_type": "display_data"
    },
    {
     "data": {
      "text/html": [
       "\n",
       "        <div id=\"bUrndprtNB35FxycTsswvH\"></div>\n",
       "        <script>netpixi.call('bUrndprtNB35FxycTsswvH', 'Dds9NkHZmJ4Wk4MNSQYHbb', 'changeGraph', 'eyJpZCI6IDg0LCAidHlwZSI6ICJ2ZXJ0ZXgiLCAicHJvcHMiOiB7ImNvbG9yIjogMTY3MTE2ODB9fQo=');</script>\n",
       "    "
      ],
      "text/plain": [
       "<IPython.core.display.HTML object>"
      ]
     },
     "metadata": {},
     "output_type": "display_data"
    },
    {
     "data": {
      "text/html": [
       "\n",
       "        <div id=\"56Cs9a8xjw79bvTkA2XFhz\"></div>\n",
       "        <script>netpixi.call('56Cs9a8xjw79bvTkA2XFhz', 'Dds9NkHZmJ4Wk4MNSQYHbb', 'changeGraph', 'eyJpZCI6IDI0NCwgInR5cGUiOiAidmVydGV4IiwgInByb3BzIjogeyJzaXplIjogMTYuNTI3MTk2NjUyNzE5NjY3fX0K');</script>\n",
       "    "
      ],
      "text/plain": [
       "<IPython.core.display.HTML object>"
      ]
     },
     "metadata": {},
     "output_type": "display_data"
    },
    {
     "data": {
      "text/html": [
       "\n",
       "        <div id=\"ZsQBcnCjX4mWbQV5nypbTQ\"></div>\n",
       "        <script>netpixi.call('ZsQBcnCjX4mWbQV5nypbTQ', 'Dds9NkHZmJ4Wk4MNSQYHbb', 'changeGraph', 'eyJpZCI6IDcyLCAidHlwZSI6ICJ2ZXJ0ZXgiLCAicHJvcHMiOiB7ImNvbG9yIjogMTY3MTE2ODB9fQo=');</script>\n",
       "    "
      ],
      "text/plain": [
       "<IPython.core.display.HTML object>"
      ]
     },
     "metadata": {},
     "output_type": "display_data"
    },
    {
     "data": {
      "text/html": [
       "\n",
       "        <div id=\"GFh8YpK2EYbs6C5PyfgBSk\"></div>\n",
       "        <script>netpixi.call('GFh8YpK2EYbs6C5PyfgBSk', 'Dds9NkHZmJ4Wk4MNSQYHbb', 'changeGraph', 'eyJpZCI6IDI0NSwgInR5cGUiOiAidmVydGV4IiwgInByb3BzIjogeyJzaXplIjogMTAuNzk0OTc5MDc5NDk3OTA4fX0K');</script>\n",
       "    "
      ],
      "text/plain": [
       "<IPython.core.display.HTML object>"
      ]
     },
     "metadata": {},
     "output_type": "display_data"
    },
    {
     "data": {
      "text/html": [
       "\n",
       "        <div id=\"ALXtc5X5GhdYySLpsq9tfo\"></div>\n",
       "        <script>netpixi.call('ALXtc5X5GhdYySLpsq9tfo', 'Dds9NkHZmJ4Wk4MNSQYHbb', 'changeGraph', 'eyJpZCI6IDczLCAidHlwZSI6ICJ2ZXJ0ZXgiLCAicHJvcHMiOiB7ImNvbG9yIjogMTY3MTE2ODB9fQo=');</script>\n",
       "    "
      ],
      "text/plain": [
       "<IPython.core.display.HTML object>"
      ]
     },
     "metadata": {},
     "output_type": "display_data"
    },
    {
     "data": {
      "text/html": [
       "\n",
       "        <div id=\"a7js9i8fPtGtRrE9Cykunj\"></div>\n",
       "        <script>netpixi.call('a7js9i8fPtGtRrE9Cykunj', 'Dds9NkHZmJ4Wk4MNSQYHbb', 'changeGraph', 'eyJpZCI6IDI0NiwgInR5cGUiOiAidmVydGV4IiwgInByb3BzIjogeyJzaXplIjogNDguNjY2NjY2NjY2NjY2NjY0fX0K');</script>\n",
       "    "
      ],
      "text/plain": [
       "<IPython.core.display.HTML object>"
      ]
     },
     "metadata": {},
     "output_type": "display_data"
    },
    {
     "data": {
      "text/html": [
       "\n",
       "        <div id=\"fyFWmrRwXcKRUwiF2hYKed\"></div>\n",
       "        <script>netpixi.call('fyFWmrRwXcKRUwiF2hYKed', 'Dds9NkHZmJ4Wk4MNSQYHbb', 'changeGraph', 'eyJpZCI6IDc4LCAidHlwZSI6ICJ2ZXJ0ZXgiLCAicHJvcHMiOiB7ImNvbG9yIjogMTY3MTE2ODB9fQo=');</script>\n",
       "    "
      ],
      "text/plain": [
       "<IPython.core.display.HTML object>"
      ]
     },
     "metadata": {},
     "output_type": "display_data"
    },
    {
     "data": {
      "text/html": [
       "\n",
       "        <div id=\"5RMxbb76GdrSscHSt2opmY\"></div>\n",
       "        <script>netpixi.call('5RMxbb76GdrSscHSt2opmY', 'Dds9NkHZmJ4Wk4MNSQYHbb', 'changeGraph', 'eyJpZCI6IDI0NywgInR5cGUiOiAidmVydGV4IiwgInByb3BzIjogeyJzaXplIjogNDcuODMzMzMzMzMzMzMzMzN9fQo=');</script>\n",
       "    "
      ],
      "text/plain": [
       "<IPython.core.display.HTML object>"
      ]
     },
     "metadata": {},
     "output_type": "display_data"
    },
    {
     "data": {
      "text/html": [
       "\n",
       "        <div id=\"5FSHWctqVMoGq7Cx6pnqy4\"></div>\n",
       "        <script>netpixi.call('5FSHWctqVMoGq7Cx6pnqy4', 'Dds9NkHZmJ4Wk4MNSQYHbb', 'changeGraph', 'eyJpZCI6IDcxLCAidHlwZSI6ICJ2ZXJ0ZXgiLCAicHJvcHMiOiB7ImNvbG9yIjogMTY3MTE2ODB9fQo=');</script>\n",
       "    "
      ],
      "text/plain": [
       "<IPython.core.display.HTML object>"
      ]
     },
     "metadata": {},
     "output_type": "display_data"
    },
    {
     "data": {
      "text/html": [
       "\n",
       "        <div id=\"VyNYMfPJCK5xHBvz9KvKAY\"></div>\n",
       "        <script>netpixi.call('VyNYMfPJCK5xHBvz9KvKAY', 'Dds9NkHZmJ4Wk4MNSQYHbb', 'changeGraph', 'eyJpZCI6IDI0OCwgInR5cGUiOiAidmVydGV4IiwgInByb3BzIjogeyJzaXplIjogMTkuOTU4MTU4OTk1ODE1OX19Cg==');</script>\n",
       "    "
      ],
      "text/plain": [
       "<IPython.core.display.HTML object>"
      ]
     },
     "metadata": {},
     "output_type": "display_data"
    },
    {
     "data": {
      "text/html": [
       "\n",
       "        <div id=\"nWeu6qz7TjYqqhkwxFSaEB\"></div>\n",
       "        <script>netpixi.call('nWeu6qz7TjYqqhkwxFSaEB', 'Dds9NkHZmJ4Wk4MNSQYHbb', 'changeGraph', 'eyJpZCI6IDcyLCAidHlwZSI6ICJ2ZXJ0ZXgiLCAicHJvcHMiOiB7ImNvbG9yIjogMTY3MTE2ODB9fQo=');</script>\n",
       "    "
      ],
      "text/plain": [
       "<IPython.core.display.HTML object>"
      ]
     },
     "metadata": {},
     "output_type": "display_data"
    },
    {
     "data": {
      "text/html": [
       "\n",
       "        <div id=\"RSxfyPqfNzZPTcWuNTmcvH\"></div>\n",
       "        <script>netpixi.call('RSxfyPqfNzZPTcWuNTmcvH', 'Dds9NkHZmJ4Wk4MNSQYHbb', 'changeGraph', 'eyJpZCI6IDI0OSwgInR5cGUiOiAidmVydGV4IiwgInByb3BzIjogeyJzaXplIjogMTcuODI0MjY3NzgyNDI2Nzh9fQo=');</script>\n",
       "    "
      ],
      "text/plain": [
       "<IPython.core.display.HTML object>"
      ]
     },
     "metadata": {},
     "output_type": "display_data"
    },
    {
     "data": {
      "text/html": [
       "\n",
       "        <div id=\"4veAiPMdTYDud6xQMBpgK8\"></div>\n",
       "        <script>netpixi.call('4veAiPMdTYDud6xQMBpgK8', 'Dds9NkHZmJ4Wk4MNSQYHbb', 'changeGraph', 'eyJpZCI6IDcxLCAidHlwZSI6ICJ2ZXJ0ZXgiLCAicHJvcHMiOiB7ImNvbG9yIjogMTY3MTE2ODB9fQo=');</script>\n",
       "    "
      ],
      "text/plain": [
       "<IPython.core.display.HTML object>"
      ]
     },
     "metadata": {},
     "output_type": "display_data"
    },
    {
     "data": {
      "text/html": [
       "\n",
       "        <div id=\"PaX8mVeDr8dihXLDDts75B\"></div>\n",
       "        <script>netpixi.call('PaX8mVeDr8dihXLDDts75B', 'Dds9NkHZmJ4Wk4MNSQYHbb', 'changeGraph', 'eyJpZCI6IDI1MCwgInR5cGUiOiAidmVydGV4IiwgInByb3BzIjogeyJzaXplIjogMTcuMjgwMzM0NzI4MDMzNDczfX0K');</script>\n",
       "    "
      ],
      "text/plain": [
       "<IPython.core.display.HTML object>"
      ]
     },
     "metadata": {},
     "output_type": "display_data"
    },
    {
     "data": {
      "text/html": [
       "\n",
       "        <div id=\"ghGcPRNo3piKM4to6ywpDH\"></div>\n",
       "        <script>netpixi.call('ghGcPRNo3piKM4to6ywpDH', 'Dds9NkHZmJ4Wk4MNSQYHbb', 'changeGraph', 'eyJpZCI6IDgyLCAidHlwZSI6ICJ2ZXJ0ZXgiLCAicHJvcHMiOiB7ImNvbG9yIjogMTY3MTE2ODB9fQo=');</script>\n",
       "    "
      ],
      "text/plain": [
       "<IPython.core.display.HTML object>"
      ]
     },
     "metadata": {},
     "output_type": "display_data"
    },
    {
     "data": {
      "text/html": [
       "\n",
       "        <div id=\"bqK9j5wr9VGwsnLRXV4RaZ\"></div>\n",
       "        <script>netpixi.call('bqK9j5wr9VGwsnLRXV4RaZ', 'Dds9NkHZmJ4Wk4MNSQYHbb', 'changeGraph', 'eyJpZCI6IDI1MSwgInR5cGUiOiAidmVydGV4IiwgInByb3BzIjogeyJzaXplIjogNDcuMTY2NjY2NjY2NjY2Njd9fQo=');</script>\n",
       "    "
      ],
      "text/plain": [
       "<IPython.core.display.HTML object>"
      ]
     },
     "metadata": {},
     "output_type": "display_data"
    },
    {
     "data": {
      "text/html": [
       "\n",
       "        <div id=\"jTajkE7iSUcvHPfxUgD9Jh\"></div>\n",
       "        <script>netpixi.call('jTajkE7iSUcvHPfxUgD9Jh', 'Dds9NkHZmJ4Wk4MNSQYHbb', 'changeGraph', 'eyJpZCI6IDc2LCAidHlwZSI6ICJ2ZXJ0ZXgiLCAicHJvcHMiOiB7ImNvbG9yIjogMTY3MTE2ODB9fQo=');</script>\n",
       "    "
      ],
      "text/plain": [
       "<IPython.core.display.HTML object>"
      ]
     },
     "metadata": {},
     "output_type": "display_data"
    },
    {
     "data": {
      "text/html": [
       "\n",
       "        <div id=\"AP9hN6WeAVxpW2ZBqesvnf\"></div>\n",
       "        <script>netpixi.call('AP9hN6WeAVxpW2ZBqesvnf', 'Dds9NkHZmJ4Wk4MNSQYHbb', 'changeGraph', 'eyJpZCI6IDI1MiwgInR5cGUiOiAidmVydGV4IiwgInByb3BzIjogeyJzaXplIjogNDguMH19Cg==');</script>\n",
       "    "
      ],
      "text/plain": [
       "<IPython.core.display.HTML object>"
      ]
     },
     "metadata": {},
     "output_type": "display_data"
    },
    {
     "data": {
      "text/html": [
       "\n",
       "        <div id=\"PoMApymgwwYEzNP8naNkyS\"></div>\n",
       "        <script>netpixi.call('PoMApymgwwYEzNP8naNkyS', 'Dds9NkHZmJ4Wk4MNSQYHbb', 'changeGraph', 'eyJpZCI6IDcxLCAidHlwZSI6ICJ2ZXJ0ZXgiLCAicHJvcHMiOiB7ImNvbG9yIjogMTY3MTE2ODB9fQo=');</script>\n",
       "    "
      ],
      "text/plain": [
       "<IPython.core.display.HTML object>"
      ]
     },
     "metadata": {},
     "output_type": "display_data"
    },
    {
     "data": {
      "text/html": [
       "\n",
       "        <div id=\"NDnACe3SofRT3HuNx4KiKE\"></div>\n",
       "        <script>netpixi.call('NDnACe3SofRT3HuNx4KiKE', 'Dds9NkHZmJ4Wk4MNSQYHbb', 'changeGraph', 'eyJpZCI6IDI1MywgInR5cGUiOiAidmVydGV4IiwgInByb3BzIjogeyJzaXplIjogMTAuOTIwNTAyMDkyMDUwMjF9fQo=');</script>\n",
       "    "
      ],
      "text/plain": [
       "<IPython.core.display.HTML object>"
      ]
     },
     "metadata": {},
     "output_type": "display_data"
    },
    {
     "data": {
      "text/html": [
       "\n",
       "        <div id=\"E77UgNJf2zwLSuBcCY3jkF\"></div>\n",
       "        <script>netpixi.call('E77UgNJf2zwLSuBcCY3jkF', 'Dds9NkHZmJ4Wk4MNSQYHbb', 'changeGraph', 'eyJpZCI6IDc2LCAidHlwZSI6ICJ2ZXJ0ZXgiLCAicHJvcHMiOiB7ImNvbG9yIjogMTY3MTE2ODB9fQo=');</script>\n",
       "    "
      ],
      "text/plain": [
       "<IPython.core.display.HTML object>"
      ]
     },
     "metadata": {},
     "output_type": "display_data"
    },
    {
     "data": {
      "text/html": [
       "\n",
       "        <div id=\"5WDCufwtLKtJd5X8aAmmjX\"></div>\n",
       "        <script>netpixi.call('5WDCufwtLKtJd5X8aAmmjX', 'Dds9NkHZmJ4Wk4MNSQYHbb', 'changeGraph', 'eyJpZCI6IDI1NCwgInR5cGUiOiAidmVydGV4IiwgInByb3BzIjogeyJzaXplIjogMTMuNjQwMTY3MzY0MDE2NzM3fX0K');</script>\n",
       "    "
      ],
      "text/plain": [
       "<IPython.core.display.HTML object>"
      ]
     },
     "metadata": {},
     "output_type": "display_data"
    },
    {
     "data": {
      "text/html": [
       "\n",
       "        <div id=\"SrWFLNe2ivGuxkLWBAZN9i\"></div>\n",
       "        <script>netpixi.call('SrWFLNe2ivGuxkLWBAZN9i', 'Dds9NkHZmJ4Wk4MNSQYHbb', 'changeGraph', 'eyJpZCI6IDgxLCAidHlwZSI6ICJ2ZXJ0ZXgiLCAicHJvcHMiOiB7ImNvbG9yIjogMTY3MTE2ODB9fQo=');</script>\n",
       "    "
      ],
      "text/plain": [
       "<IPython.core.display.HTML object>"
      ]
     },
     "metadata": {},
     "output_type": "display_data"
    },
    {
     "data": {
      "text/html": [
       "\n",
       "        <div id=\"dmPuBNxqazrmhoQTM6dpcA\"></div>\n",
       "        <script>netpixi.call('dmPuBNxqazrmhoQTM6dpcA', 'Dds9NkHZmJ4Wk4MNSQYHbb', 'changeGraph', 'eyJpZCI6IDI1NSwgInR5cGUiOiAidmVydGV4IiwgInByb3BzIjogeyJzaXplIjogMTYuMDY2OTQ1NjA2Njk0NTZ9fQo=');</script>\n",
       "    "
      ],
      "text/plain": [
       "<IPython.core.display.HTML object>"
      ]
     },
     "metadata": {},
     "output_type": "display_data"
    },
    {
     "data": {
      "text/html": [
       "\n",
       "        <div id=\"8vYtC2W9ZVihHK9aMWnHrE\"></div>\n",
       "        <script>netpixi.call('8vYtC2W9ZVihHK9aMWnHrE', 'Dds9NkHZmJ4Wk4MNSQYHbb', 'changeGraph', 'eyJpZCI6IDgyLCAidHlwZSI6ICJ2ZXJ0ZXgiLCAicHJvcHMiOiB7ImNvbG9yIjogMTY3MTE2ODB9fQo=');</script>\n",
       "    "
      ],
      "text/plain": [
       "<IPython.core.display.HTML object>"
      ]
     },
     "metadata": {},
     "output_type": "display_data"
    },
    {
     "data": {
      "text/html": [
       "\n",
       "        <div id=\"YHXBHKaUhvRmpLNGyajF5X\"></div>\n",
       "        <script>netpixi.call('YHXBHKaUhvRmpLNGyajF5X', 'Dds9NkHZmJ4Wk4MNSQYHbb', 'changeGraph', 'eyJpZCI6IDI1NiwgInR5cGUiOiAidmVydGV4IiwgInByb3BzIjogeyJzaXplIjogMTEuNTA2Mjc2MTUwNjI3NjE1fX0K');</script>\n",
       "    "
      ],
      "text/plain": [
       "<IPython.core.display.HTML object>"
      ]
     },
     "metadata": {},
     "output_type": "display_data"
    },
    {
     "data": {
      "text/html": [
       "\n",
       "        <div id=\"o49GP4xPksHKNRtSAe8MLJ\"></div>\n",
       "        <script>netpixi.call('o49GP4xPksHKNRtSAe8MLJ', 'Dds9NkHZmJ4Wk4MNSQYHbb', 'changeGraph', 'eyJpZCI6IDc0LCAidHlwZSI6ICJ2ZXJ0ZXgiLCAicHJvcHMiOiB7ImNvbG9yIjogMTY3MTE2ODB9fQo=');</script>\n",
       "    "
      ],
      "text/plain": [
       "<IPython.core.display.HTML object>"
      ]
     },
     "metadata": {},
     "output_type": "display_data"
    },
    {
     "data": {
      "text/html": [
       "\n",
       "        <div id=\"JBBnEJ5gy55YBTdS7Ec9Jy\"></div>\n",
       "        <script>netpixi.call('JBBnEJ5gy55YBTdS7Ec9Jy', 'Dds9NkHZmJ4Wk4MNSQYHbb', 'changeGraph', 'eyJpZCI6IDI1NywgInR5cGUiOiAidmVydGV4IiwgInByb3BzIjogeyJzaXplIjogMTYuNDQzNTE0NjQ0MzUxNDYzfX0K');</script>\n",
       "    "
      ],
      "text/plain": [
       "<IPython.core.display.HTML object>"
      ]
     },
     "metadata": {},
     "output_type": "display_data"
    },
    {
     "data": {
      "text/html": [
       "\n",
       "        <div id=\"MdGdDYGeXeJx4N2eoEDjgM\"></div>\n",
       "        <script>netpixi.call('MdGdDYGeXeJx4N2eoEDjgM', 'Dds9NkHZmJ4Wk4MNSQYHbb', 'changeGraph', 'eyJpZCI6IDg4LCAidHlwZSI6ICJ2ZXJ0ZXgiLCAicHJvcHMiOiB7ImNvbG9yIjogMTY3MTE2ODB9fQo=');</script>\n",
       "    "
      ],
      "text/plain": [
       "<IPython.core.display.HTML object>"
      ]
     },
     "metadata": {},
     "output_type": "display_data"
    },
    {
     "data": {
      "text/html": [
       "\n",
       "        <div id=\"9FWV2MRiNB438xfRBSxxJ6\"></div>\n",
       "        <script>netpixi.call('9FWV2MRiNB438xfRBSxxJ6', 'Dds9NkHZmJ4Wk4MNSQYHbb', 'changeGraph', 'eyJpZCI6IDI1OCwgInR5cGUiOiAidmVydGV4IiwgInByb3BzIjogeyJzaXplIjogNDcuNjY2NjY2NjY2NjY2NjY0fX0K');</script>\n",
       "    "
      ],
      "text/plain": [
       "<IPython.core.display.HTML object>"
      ]
     },
     "metadata": {},
     "output_type": "display_data"
    },
    {
     "data": {
      "text/html": [
       "\n",
       "        <div id=\"W8xWyosJ5R7rh8XQfqvz9u\"></div>\n",
       "        <script>netpixi.call('W8xWyosJ5R7rh8XQfqvz9u', 'Dds9NkHZmJ4Wk4MNSQYHbb', 'changeGraph', 'eyJpZCI6IDc2LCAidHlwZSI6ICJ2ZXJ0ZXgiLCAicHJvcHMiOiB7ImNvbG9yIjogMTY3MTE2ODB9fQo=');</script>\n",
       "    "
      ],
      "text/plain": [
       "<IPython.core.display.HTML object>"
      ]
     },
     "metadata": {},
     "output_type": "display_data"
    },
    {
     "data": {
      "text/html": [
       "\n",
       "        <div id=\"UGm3Afqa4y3e7nu7xpEeKQ\"></div>\n",
       "        <script>netpixi.call('UGm3Afqa4y3e7nu7xpEeKQ', 'Dds9NkHZmJ4Wk4MNSQYHbb', 'changeGraph', 'eyJpZCI6IDI1OSwgInR5cGUiOiAidmVydGV4IiwgInByb3BzIjogeyJzaXplIjogNDYuNX19Cg==');</script>\n",
       "    "
      ],
      "text/plain": [
       "<IPython.core.display.HTML object>"
      ]
     },
     "metadata": {},
     "output_type": "display_data"
    },
    {
     "data": {
      "text/html": [
       "\n",
       "        <div id=\"arvJy2MLJqyGXj3NiAXmeT\"></div>\n",
       "        <script>netpixi.call('arvJy2MLJqyGXj3NiAXmeT', 'Dds9NkHZmJ4Wk4MNSQYHbb', 'changeGraph', 'eyJpZCI6IDc4LCAidHlwZSI6ICJ2ZXJ0ZXgiLCAicHJvcHMiOiB7ImNvbG9yIjogMTY3MTE2ODB9fQo=');</script>\n",
       "    "
      ],
      "text/plain": [
       "<IPython.core.display.HTML object>"
      ]
     },
     "metadata": {},
     "output_type": "display_data"
    },
    {
     "data": {
      "text/html": [
       "\n",
       "        <div id=\"KFSvXc8YAGLo6zsYQfJjv9\"></div>\n",
       "        <script>netpixi.call('KFSvXc8YAGLo6zsYQfJjv9', 'Dds9NkHZmJ4Wk4MNSQYHbb', 'changeGraph', 'eyJpZCI6IDI2MCwgInR5cGUiOiAidmVydGV4IiwgInByb3BzIjogeyJzaXplIjogMTIuMTc1NzMyMjE3NTczMjIyfX0K');</script>\n",
       "    "
      ],
      "text/plain": [
       "<IPython.core.display.HTML object>"
      ]
     },
     "metadata": {},
     "output_type": "display_data"
    },
    {
     "data": {
      "text/html": [
       "\n",
       "        <div id=\"Ly5WLjc84A4JdpUD649tiA\"></div>\n",
       "        <script>netpixi.call('Ly5WLjc84A4JdpUD649tiA', 'Dds9NkHZmJ4Wk4MNSQYHbb', 'changeGraph', 'eyJpZCI6IDczLCAidHlwZSI6ICJ2ZXJ0ZXgiLCAicHJvcHMiOiB7ImNvbG9yIjogMTY3MTE2ODB9fQo=');</script>\n",
       "    "
      ],
      "text/plain": [
       "<IPython.core.display.HTML object>"
      ]
     },
     "metadata": {},
     "output_type": "display_data"
    },
    {
     "data": {
      "text/html": [
       "\n",
       "        <div id=\"RLz3szbbftYtAqrxSN22VK\"></div>\n",
       "        <script>netpixi.call('RLz3szbbftYtAqrxSN22VK', 'Dds9NkHZmJ4Wk4MNSQYHbb', 'changeGraph', 'eyJpZCI6IDI2MSwgInR5cGUiOiAidmVydGV4IiwgInByb3BzIjogeyJzaXplIjogMTYuMDI1MTA0NjAyNTEwNDZ9fQo=');</script>\n",
       "    "
      ],
      "text/plain": [
       "<IPython.core.display.HTML object>"
      ]
     },
     "metadata": {},
     "output_type": "display_data"
    },
    {
     "data": {
      "text/html": [
       "\n",
       "        <div id=\"mjw32E4qJemimz6bmALAdG\"></div>\n",
       "        <script>netpixi.call('mjw32E4qJemimz6bmALAdG', 'Dds9NkHZmJ4Wk4MNSQYHbb', 'changeGraph', 'eyJpZCI6IDgxLCAidHlwZSI6ICJ2ZXJ0ZXgiLCAicHJvcHMiOiB7ImNvbG9yIjogMTY3MTE2ODB9fQo=');</script>\n",
       "    "
      ],
      "text/plain": [
       "<IPython.core.display.HTML object>"
      ]
     },
     "metadata": {},
     "output_type": "display_data"
    },
    {
     "data": {
      "text/html": [
       "\n",
       "        <div id=\"WTABCZJ3JMMLm3GzDJpnpQ\"></div>\n",
       "        <script>netpixi.call('WTABCZJ3JMMLm3GzDJpnpQ', 'Dds9NkHZmJ4Wk4MNSQYHbb', 'changeGraph', 'eyJpZCI6IDI2MiwgInR5cGUiOiAidmVydGV4IiwgInByb3BzIjogeyJzaXplIjogMTkuOTE2MzE3OTkxNjMxOH19Cg==');</script>\n",
       "    "
      ],
      "text/plain": [
       "<IPython.core.display.HTML object>"
      ]
     },
     "metadata": {},
     "output_type": "display_data"
    },
    {
     "data": {
      "text/html": [
       "\n",
       "        <div id=\"fMgQtE7xZN6tRYTDbbRTM6\"></div>\n",
       "        <script>netpixi.call('fMgQtE7xZN6tRYTDbbRTM6', 'Dds9NkHZmJ4Wk4MNSQYHbb', 'changeGraph', 'eyJpZCI6IDc2LCAidHlwZSI6ICJ2ZXJ0ZXgiLCAicHJvcHMiOiB7ImNvbG9yIjogMTY3MTE2ODB9fQo=');</script>\n",
       "    "
      ],
      "text/plain": [
       "<IPython.core.display.HTML object>"
      ]
     },
     "metadata": {},
     "output_type": "display_data"
    },
    {
     "data": {
      "text/html": [
       "\n",
       "        <div id=\"8F86MWxtbfMP8zWQHkPidR\"></div>\n",
       "        <script>netpixi.call('8F86MWxtbfMP8zWQHkPidR', 'Dds9NkHZmJ4Wk4MNSQYHbb', 'changeGraph', 'eyJpZCI6IDI2MywgInR5cGUiOiAidmVydGV4IiwgInByb3BzIjogeyJzaXplIjogNDkuMTY2NjY2NjY2NjY2NjY0fX0K');</script>\n",
       "    "
      ],
      "text/plain": [
       "<IPython.core.display.HTML object>"
      ]
     },
     "metadata": {},
     "output_type": "display_data"
    },
    {
     "data": {
      "text/html": [
       "\n",
       "        <div id=\"WtUbbbjyC7n5xK44yeL96r\"></div>\n",
       "        <script>netpixi.call('WtUbbbjyC7n5xK44yeL96r', 'Dds9NkHZmJ4Wk4MNSQYHbb', 'changeGraph', 'eyJpZCI6IDgwLCAidHlwZSI6ICJ2ZXJ0ZXgiLCAicHJvcHMiOiB7ImNvbG9yIjogMTY3MTE2ODB9fQo=');</script>\n",
       "    "
      ],
      "text/plain": [
       "<IPython.core.display.HTML object>"
      ]
     },
     "metadata": {},
     "output_type": "display_data"
    },
    {
     "data": {
      "text/html": [
       "\n",
       "        <div id=\"oBq3cTVeVdTkHPYfTBzq9d\"></div>\n",
       "        <script>netpixi.call('oBq3cTVeVdTkHPYfTBzq9d', 'Dds9NkHZmJ4Wk4MNSQYHbb', 'changeGraph', 'eyJpZCI6IDI2NCwgInR5cGUiOiAidmVydGV4IiwgInByb3BzIjogeyJzaXplIjogMTYuODIwMDgzNjgyMDA4MzY3fX0K');</script>\n",
       "    "
      ],
      "text/plain": [
       "<IPython.core.display.HTML object>"
      ]
     },
     "metadata": {},
     "output_type": "display_data"
    },
    {
     "data": {
      "text/html": [
       "\n",
       "        <div id=\"HZEWjUXiPaz95GdN76YUHh\"></div>\n",
       "        <script>netpixi.call('HZEWjUXiPaz95GdN76YUHh', 'Dds9NkHZmJ4Wk4MNSQYHbb', 'changeGraph', 'eyJpZCI6IDYxLCAidHlwZSI6ICJ2ZXJ0ZXgiLCAicHJvcHMiOiB7ImNvbG9yIjogMTY3MTE2ODB9fQo=');</script>\n",
       "    "
      ],
      "text/plain": [
       "<IPython.core.display.HTML object>"
      ]
     },
     "metadata": {},
     "output_type": "display_data"
    },
    {
     "data": {
      "text/html": [
       "\n",
       "        <div id=\"4a5AS33w2svwHjVvQft6y5\"></div>\n",
       "        <script>netpixi.call('4a5AS33w2svwHjVvQft6y5', 'Dds9NkHZmJ4Wk4MNSQYHbb', 'changeGraph', 'eyJpZCI6IDI2NSwgInR5cGUiOiAidmVydGV4IiwgInByb3BzIjogeyJzaXplIjogNDkuNX19Cg==');</script>\n",
       "    "
      ],
      "text/plain": [
       "<IPython.core.display.HTML object>"
      ]
     },
     "metadata": {},
     "output_type": "display_data"
    },
    {
     "data": {
      "text/html": [
       "\n",
       "        <div id=\"eh5FHQFD67JPANxsoK2ncG\"></div>\n",
       "        <script>netpixi.call('eh5FHQFD67JPANxsoK2ncG', 'Dds9NkHZmJ4Wk4MNSQYHbb', 'changeGraph', 'eyJpZCI6IDcyLCAidHlwZSI6ICJ2ZXJ0ZXgiLCAicHJvcHMiOiB7ImNvbG9yIjogMTY3MTE2ODB9fQo=');</script>\n",
       "    "
      ],
      "text/plain": [
       "<IPython.core.display.HTML object>"
      ]
     },
     "metadata": {},
     "output_type": "display_data"
    },
    {
     "data": {
      "text/html": [
       "\n",
       "        <div id=\"7XMg4UYqjNrFpNazRpgysB\"></div>\n",
       "        <script>netpixi.call('7XMg4UYqjNrFpNazRpgysB', 'Dds9NkHZmJ4Wk4MNSQYHbb', 'changeGraph', 'eyJpZCI6IDI2NiwgInR5cGUiOiAidmVydGV4IiwgInByb3BzIjogeyJzaXplIjogMTcuNjE1MDYyNzYxNTA2Mjc3fX0K');</script>\n",
       "    "
      ],
      "text/plain": [
       "<IPython.core.display.HTML object>"
      ]
     },
     "metadata": {},
     "output_type": "display_data"
    },
    {
     "data": {
      "text/html": [
       "\n",
       "        <div id=\"MhQxZMMQTRqvoDVa8c4vm7\"></div>\n",
       "        <script>netpixi.call('MhQxZMMQTRqvoDVa8c4vm7', 'Dds9NkHZmJ4Wk4MNSQYHbb', 'changeGraph', 'eyJpZCI6IDczLCAidHlwZSI6ICJ2ZXJ0ZXgiLCAicHJvcHMiOiB7ImNvbG9yIjogMTY3MTE2ODB9fQo=');</script>\n",
       "    "
      ],
      "text/plain": [
       "<IPython.core.display.HTML object>"
      ]
     },
     "metadata": {},
     "output_type": "display_data"
    },
    {
     "data": {
      "text/html": [
       "\n",
       "        <div id=\"6ytVQTsoSBFPg2qXypzDU2\"></div>\n",
       "        <script>netpixi.call('6ytVQTsoSBFPg2qXypzDU2', 'Dds9NkHZmJ4Wk4MNSQYHbb', 'changeGraph', 'eyJpZCI6IDI2NywgInR5cGUiOiAidmVydGV4IiwgInByb3BzIjogeyJzaXplIjogMTAuMTI1NTIzMDEyNTUyMzAyfX0K');</script>\n",
       "    "
      ],
      "text/plain": [
       "<IPython.core.display.HTML object>"
      ]
     },
     "metadata": {},
     "output_type": "display_data"
    },
    {
     "data": {
      "text/html": [
       "\n",
       "        <div id=\"YqXH4MCn9UhUz3dvTzEsf6\"></div>\n",
       "        <script>netpixi.call('YqXH4MCn9UhUz3dvTzEsf6', 'Dds9NkHZmJ4Wk4MNSQYHbb', 'changeGraph', 'eyJpZCI6IDY2LCAidHlwZSI6ICJ2ZXJ0ZXgiLCAicHJvcHMiOiB7ImNvbG9yIjogMTY3MTE2ODB9fQo=');</script>\n",
       "    "
      ],
      "text/plain": [
       "<IPython.core.display.HTML object>"
      ]
     },
     "metadata": {},
     "output_type": "display_data"
    },
    {
     "data": {
      "text/html": [
       "\n",
       "        <div id=\"neWMnuzH5fpRevSxnBHGrg\"></div>\n",
       "        <script>netpixi.call('neWMnuzH5fpRevSxnBHGrg', 'Dds9NkHZmJ4Wk4MNSQYHbb', 'changeGraph', 'eyJpZCI6IDI2OCwgInR5cGUiOiAidmVydGV4IiwgInByb3BzIjogeyJzaXplIjogMTQuNjg2MTkyNDY4NjE5MjQ3fX0K');</script>\n",
       "    "
      ],
      "text/plain": [
       "<IPython.core.display.HTML object>"
      ]
     },
     "metadata": {},
     "output_type": "display_data"
    },
    {
     "data": {
      "text/html": [
       "\n",
       "        <div id=\"F5LF5zdBacAeMeUGonENfu\"></div>\n",
       "        <script>netpixi.call('F5LF5zdBacAeMeUGonENfu', 'Dds9NkHZmJ4Wk4MNSQYHbb', 'changeGraph', 'eyJpZCI6IDgxLCAidHlwZSI6ICJ2ZXJ0ZXgiLCAicHJvcHMiOiB7ImNvbG9yIjogMTY3MTE2ODB9fQo=');</script>\n",
       "    "
      ],
      "text/plain": [
       "<IPython.core.display.HTML object>"
      ]
     },
     "metadata": {},
     "output_type": "display_data"
    },
    {
     "data": {
      "text/html": [
       "\n",
       "        <div id=\"jUY4m8FTYipU6FsmjSpxkp\"></div>\n",
       "        <script>netpixi.call('jUY4m8FTYipU6FsmjSpxkp', 'Dds9NkHZmJ4Wk4MNSQYHbb', 'changeGraph', 'eyJpZCI6IDI2OSwgInR5cGUiOiAidmVydGV4IiwgInByb3BzIjogeyJzaXplIjogMTEuOTI0Njg2MTkyNDY4NjE4fX0K');</script>\n",
       "    "
      ],
      "text/plain": [
       "<IPython.core.display.HTML object>"
      ]
     },
     "metadata": {},
     "output_type": "display_data"
    },
    {
     "data": {
      "text/html": [
       "\n",
       "        <div id=\"RtUVKCMgjxYRiR24nyY6zb\"></div>\n",
       "        <script>netpixi.call('RtUVKCMgjxYRiR24nyY6zb', 'Dds9NkHZmJ4Wk4MNSQYHbb', 'changeGraph', 'eyJpZCI6IDgyLCAidHlwZSI6ICJ2ZXJ0ZXgiLCAicHJvcHMiOiB7ImNvbG9yIjogMTY3MTE2ODB9fQo=');</script>\n",
       "    "
      ],
      "text/plain": [
       "<IPython.core.display.HTML object>"
      ]
     },
     "metadata": {},
     "output_type": "display_data"
    },
    {
     "data": {
      "text/html": [
       "\n",
       "        <div id=\"M93BAWbXjNWLxu4LcC9wvy\"></div>\n",
       "        <script>netpixi.call('M93BAWbXjNWLxu4LcC9wvy', 'Dds9NkHZmJ4Wk4MNSQYHbb', 'changeGraph', 'eyJpZCI6IDI3MCwgInR5cGUiOiAidmVydGV4IiwgInByb3BzIjogeyJzaXplIjogMTYuOTg3NDQ3Njk4NzQ0Nzd9fQo=');</script>\n",
       "    "
      ],
      "text/plain": [
       "<IPython.core.display.HTML object>"
      ]
     },
     "metadata": {},
     "output_type": "display_data"
    },
    {
     "data": {
      "text/html": [
       "\n",
       "        <div id=\"Fz9wXNkau3mXEC4EGfmV6c\"></div>\n",
       "        <script>netpixi.call('Fz9wXNkau3mXEC4EGfmV6c', 'Dds9NkHZmJ4Wk4MNSQYHbb', 'changeGraph', 'eyJpZCI6IDcxLCAidHlwZSI6ICJ2ZXJ0ZXgiLCAicHJvcHMiOiB7ImNvbG9yIjogMTY3MTE2ODB9fQo=');</script>\n",
       "    "
      ],
      "text/plain": [
       "<IPython.core.display.HTML object>"
      ]
     },
     "metadata": {},
     "output_type": "display_data"
    },
    {
     "data": {
      "text/html": [
       "\n",
       "        <div id=\"SPLu6SMT6BKD3pz8RRFomP\"></div>\n",
       "        <script>netpixi.call('SPLu6SMT6BKD3pz8RRFomP', 'Dds9NkHZmJ4Wk4MNSQYHbb', 'changeGraph', 'eyJpZCI6IDI3MSwgInR5cGUiOiAidmVydGV4IiwgInByb3BzIjogeyJzaXplIjogMTMuMzA1NDM5MzMwNTQzOTMzfX0K');</script>\n",
       "    "
      ],
      "text/plain": [
       "<IPython.core.display.HTML object>"
      ]
     },
     "metadata": {},
     "output_type": "display_data"
    },
    {
     "data": {
      "text/html": [
       "\n",
       "        <div id=\"XmhWpczwp6PrNdFmeM9MGf\"></div>\n",
       "        <script>netpixi.call('XmhWpczwp6PrNdFmeM9MGf', 'Dds9NkHZmJ4Wk4MNSQYHbb', 'changeGraph', 'eyJpZCI6IDgxLCAidHlwZSI6ICJ2ZXJ0ZXgiLCAicHJvcHMiOiB7ImNvbG9yIjogMTY3MTE2ODB9fQo=');</script>\n",
       "    "
      ],
      "text/plain": [
       "<IPython.core.display.HTML object>"
      ]
     },
     "metadata": {},
     "output_type": "display_data"
    },
    {
     "data": {
      "text/html": [
       "\n",
       "        <div id=\"mSxErMj4nuGsyuY3ntJ52v\"></div>\n",
       "        <script>netpixi.call('mSxErMj4nuGsyuY3ntJ52v', 'Dds9NkHZmJ4Wk4MNSQYHbb', 'changeGraph', 'eyJpZCI6IDI3MiwgInR5cGUiOiAidmVydGV4IiwgInByb3BzIjogeyJzaXplIjogMTMuNTE0NjQ0MzUxNDY0NDM1fX0K');</script>\n",
       "    "
      ],
      "text/plain": [
       "<IPython.core.display.HTML object>"
      ]
     },
     "metadata": {},
     "output_type": "display_data"
    },
    {
     "data": {
      "text/html": [
       "\n",
       "        <div id=\"HaEaNKxnhEwzNHpv3Ev3FT\"></div>\n",
       "        <script>netpixi.call('HaEaNKxnhEwzNHpv3Ev3FT', 'Dds9NkHZmJ4Wk4MNSQYHbb', 'changeGraph', 'eyJpZCI6IDg3LCAidHlwZSI6ICJ2ZXJ0ZXgiLCAicHJvcHMiOiB7ImNvbG9yIjogMTY3MTE2ODB9fQo=');</script>\n",
       "    "
      ],
      "text/plain": [
       "<IPython.core.display.HTML object>"
      ]
     },
     "metadata": {},
     "output_type": "display_data"
    },
    {
     "data": {
      "text/html": [
       "\n",
       "        <div id=\"Y8Cx6hJ4ymfwa6bnDgQfPz\"></div>\n",
       "        <script>netpixi.call('Y8Cx6hJ4ymfwa6bnDgQfPz', 'Dds9NkHZmJ4Wk4MNSQYHbb', 'changeGraph', 'eyJpZCI6IDI3MywgInR5cGUiOiAidmVydGV4IiwgInByb3BzIjogeyJzaXplIjogMTAuODc4NjYxMDg3ODY2MTA4fX0K');</script>\n",
       "    "
      ],
      "text/plain": [
       "<IPython.core.display.HTML object>"
      ]
     },
     "metadata": {},
     "output_type": "display_data"
    },
    {
     "data": {
      "text/html": [
       "\n",
       "        <div id=\"JjmzszVRK73v5DJZ2mntGJ\"></div>\n",
       "        <script>netpixi.call('JjmzszVRK73v5DJZ2mntGJ', 'Dds9NkHZmJ4Wk4MNSQYHbb', 'changeGraph', 'eyJpZCI6IDc2LCAidHlwZSI6ICJ2ZXJ0ZXgiLCAicHJvcHMiOiB7ImNvbG9yIjogMTY3MTE2ODB9fQo=');</script>\n",
       "    "
      ],
      "text/plain": [
       "<IPython.core.display.HTML object>"
      ]
     },
     "metadata": {},
     "output_type": "display_data"
    },
    {
     "data": {
      "text/html": [
       "\n",
       "        <div id=\"NAmkPTXhmg3vrZyCVXD3xH\"></div>\n",
       "        <script>netpixi.call('NAmkPTXhmg3vrZyCVXD3xH', 'Dds9NkHZmJ4Wk4MNSQYHbb', 'changeGraph', 'eyJpZCI6IDI3NCwgInR5cGUiOiAidmVydGV4IiwgInByb3BzIjogeyJzaXplIjogMTkuMDM3NjU2OTAzNzY1Njl9fQo=');</script>\n",
       "    "
      ],
      "text/plain": [
       "<IPython.core.display.HTML object>"
      ]
     },
     "metadata": {},
     "output_type": "display_data"
    },
    {
     "data": {
      "text/html": [
       "\n",
       "        <div id=\"dZwf2xnVdKYMACJKccR7CH\"></div>\n",
       "        <script>netpixi.call('dZwf2xnVdKYMACJKccR7CH', 'Dds9NkHZmJ4Wk4MNSQYHbb', 'changeGraph', 'eyJpZCI6IDgzLCAidHlwZSI6ICJ2ZXJ0ZXgiLCAicHJvcHMiOiB7ImNvbG9yIjogMTY3MTE2ODB9fQo=');</script>\n",
       "    "
      ],
      "text/plain": [
       "<IPython.core.display.HTML object>"
      ]
     },
     "metadata": {},
     "output_type": "display_data"
    },
    {
     "data": {
      "text/html": [
       "\n",
       "        <div id=\"a3BUuc9UfUtBNi3REBcQmo\"></div>\n",
       "        <script>netpixi.call('a3BUuc9UfUtBNi3REBcQmo', 'Dds9NkHZmJ4Wk4MNSQYHbb', 'changeGraph', 'eyJpZCI6IDI3NSwgInR5cGUiOiAidmVydGV4IiwgInByb3BzIjogeyJzaXplIjogMTEuODQxMDA0MTg0MTAwNDE4fX0K');</script>\n",
       "    "
      ],
      "text/plain": [
       "<IPython.core.display.HTML object>"
      ]
     },
     "metadata": {},
     "output_type": "display_data"
    },
    {
     "data": {
      "text/html": [
       "\n",
       "        <div id=\"nhqnXF3Q7jK9JBU2FLC6q8\"></div>\n",
       "        <script>netpixi.call('nhqnXF3Q7jK9JBU2FLC6q8', 'Dds9NkHZmJ4Wk4MNSQYHbb', 'changeGraph', 'eyJpZCI6IDcyLCAidHlwZSI6ICJ2ZXJ0ZXgiLCAicHJvcHMiOiB7ImNvbG9yIjogMTY3MTE2ODB9fQo=');</script>\n",
       "    "
      ],
      "text/plain": [
       "<IPython.core.display.HTML object>"
      ]
     },
     "metadata": {},
     "output_type": "display_data"
    },
    {
     "data": {
      "text/html": [
       "\n",
       "        <div id=\"6cpeHmHFzWD7aBFmHF2iFc\"></div>\n",
       "        <script>netpixi.call('6cpeHmHFzWD7aBFmHF2iFc', 'Dds9NkHZmJ4Wk4MNSQYHbb', 'changeGraph', 'eyJpZCI6IDI3NiwgInR5cGUiOiAidmVydGV4IiwgInByb3BzIjogeyJzaXplIjogMTIuMDUwMjA5MjA1MDIwOTJ9fQo=');</script>\n",
       "    "
      ],
      "text/plain": [
       "<IPython.core.display.HTML object>"
      ]
     },
     "metadata": {},
     "output_type": "display_data"
    },
    {
     "data": {
      "text/html": [
       "\n",
       "        <div id=\"YP8RBcgQGiQyHegY3NDA2t\"></div>\n",
       "        <script>netpixi.call('YP8RBcgQGiQyHegY3NDA2t', 'Dds9NkHZmJ4Wk4MNSQYHbb', 'changeGraph', 'eyJpZCI6IDc1LCAidHlwZSI6ICJ2ZXJ0ZXgiLCAicHJvcHMiOiB7ImNvbG9yIjogMTY3MTE2ODB9fQo=');</script>\n",
       "    "
      ],
      "text/plain": [
       "<IPython.core.display.HTML object>"
      ]
     },
     "metadata": {},
     "output_type": "display_data"
    },
    {
     "data": {
      "text/html": [
       "\n",
       "        <div id=\"AWd7L9XRggDfkkHkQMkk2n\"></div>\n",
       "        <script>netpixi.call('AWd7L9XRggDfkkHkQMkk2n', 'Dds9NkHZmJ4Wk4MNSQYHbb', 'changeGraph', 'eyJpZCI6IDI3NywgInR5cGUiOiAidmVydGV4IiwgInByb3BzIjogeyJzaXplIjogMTYuNjUyNzE5NjY1MjcxOTY3fX0K');</script>\n",
       "    "
      ],
      "text/plain": [
       "<IPython.core.display.HTML object>"
      ]
     },
     "metadata": {},
     "output_type": "display_data"
    },
    {
     "data": {
      "text/html": [
       "\n",
       "        <div id=\"VQzwHDw6Xfkz5KYbBM8aaa\"></div>\n",
       "        <script>netpixi.call('VQzwHDw6Xfkz5KYbBM8aaa', 'Dds9NkHZmJ4Wk4MNSQYHbb', 'changeGraph', 'eyJpZCI6IDgwLCAidHlwZSI6ICJ2ZXJ0ZXgiLCAicHJvcHMiOiB7ImNvbG9yIjogMTY3MTE2ODB9fQo=');</script>\n",
       "    "
      ],
      "text/plain": [
       "<IPython.core.display.HTML object>"
      ]
     },
     "metadata": {},
     "output_type": "display_data"
    },
    {
     "data": {
      "text/html": [
       "\n",
       "        <div id=\"XBMFiMu9CgzbEuFWzHAHuw\"></div>\n",
       "        <script>netpixi.call('XBMFiMu9CgzbEuFWzHAHuw', 'Dds9NkHZmJ4Wk4MNSQYHbb', 'changeGraph', 'eyJpZCI6IDI3OCwgInR5cGUiOiAidmVydGV4IiwgInByb3BzIjogeyJzaXplIjogMTMuODQ5MzcyMzg0OTM3MjM4fX0K');</script>\n",
       "    "
      ],
      "text/plain": [
       "<IPython.core.display.HTML object>"
      ]
     },
     "metadata": {},
     "output_type": "display_data"
    },
    {
     "data": {
      "text/html": [
       "\n",
       "        <div id=\"H8g5CnC9eN8BfXDcFPLw78\"></div>\n",
       "        <script>netpixi.call('H8g5CnC9eN8BfXDcFPLw78', 'Dds9NkHZmJ4Wk4MNSQYHbb', 'changeGraph', 'eyJpZCI6IDYyLCAidHlwZSI6ICJ2ZXJ0ZXgiLCAicHJvcHMiOiB7ImNvbG9yIjogMTY3MTE2ODB9fQo=');</script>\n",
       "    "
      ],
      "text/plain": [
       "<IPython.core.display.HTML object>"
      ]
     },
     "metadata": {},
     "output_type": "display_data"
    },
    {
     "data": {
      "text/html": [
       "\n",
       "        <div id=\"NEnB2Lzw3TR9y3KHvBZFtR\"></div>\n",
       "        <script>netpixi.call('NEnB2Lzw3TR9y3KHvBZFtR', 'Dds9NkHZmJ4Wk4MNSQYHbb', 'changeGraph', 'eyJpZCI6IDI3OSwgInR5cGUiOiAidmVydGV4IiwgInByb3BzIjogeyJzaXplIjogMTcuMjM4NDkzNzIzODQ5MzczfX0K');</script>\n",
       "    "
      ],
      "text/plain": [
       "<IPython.core.display.HTML object>"
      ]
     },
     "metadata": {},
     "output_type": "display_data"
    },
    {
     "data": {
      "text/html": [
       "\n",
       "        <div id=\"h4tgRjxcBenoVMpgCTY87i\"></div>\n",
       "        <script>netpixi.call('h4tgRjxcBenoVMpgCTY87i', 'Dds9NkHZmJ4Wk4MNSQYHbb', 'changeGraph', 'eyJpZCI6IDczLCAidHlwZSI6ICJ2ZXJ0ZXgiLCAicHJvcHMiOiB7ImNvbG9yIjogMTY3MTE2ODB9fQo=');</script>\n",
       "    "
      ],
      "text/plain": [
       "<IPython.core.display.HTML object>"
      ]
     },
     "metadata": {},
     "output_type": "display_data"
    },
    {
     "data": {
      "text/html": [
       "\n",
       "        <div id=\"d2XSZQbswCQ8kTudAbMr45\"></div>\n",
       "        <script>netpixi.call('d2XSZQbswCQ8kTudAbMr45', 'Dds9NkHZmJ4Wk4MNSQYHbb', 'changeGraph', 'eyJpZCI6IDI4MCwgInR5cGUiOiAidmVydGV4IiwgInByb3BzIjogeyJzaXplIjogMTkuMjA1MDIwOTIwNTAyMDkzfX0K');</script>\n",
       "    "
      ],
      "text/plain": [
       "<IPython.core.display.HTML object>"
      ]
     },
     "metadata": {},
     "output_type": "display_data"
    },
    {
     "data": {
      "text/html": [
       "\n",
       "        <div id=\"76USVaiZR29hwSVVNeRHbC\"></div>\n",
       "        <script>netpixi.call('76USVaiZR29hwSVVNeRHbC', 'Dds9NkHZmJ4Wk4MNSQYHbb', 'changeGraph', 'eyJpZCI6IDc4LCAidHlwZSI6ICJ2ZXJ0ZXgiLCAicHJvcHMiOiB7ImNvbG9yIjogMTY3MTE2ODB9fQo=');</script>\n",
       "    "
      ],
      "text/plain": [
       "<IPython.core.display.HTML object>"
      ]
     },
     "metadata": {},
     "output_type": "display_data"
    },
    {
     "data": {
      "text/html": [
       "\n",
       "        <div id=\"jSBxiDhQXF7hv3wSSmwYV2\"></div>\n",
       "        <script>netpixi.call('jSBxiDhQXF7hv3wSSmwYV2', 'Dds9NkHZmJ4Wk4MNSQYHbb', 'changeGraph', 'eyJpZCI6IDI4MSwgInR5cGUiOiAidmVydGV4IiwgInByb3BzIjogeyJzaXplIjogMTEuNjczNjQwMTY3MzY0MDE3fX0K');</script>\n",
       "    "
      ],
      "text/plain": [
       "<IPython.core.display.HTML object>"
      ]
     },
     "metadata": {},
     "output_type": "display_data"
    },
    {
     "data": {
      "text/html": [
       "\n",
       "        <div id=\"GFaJs6Z6AG38nkfbWYcBPQ\"></div>\n",
       "        <script>netpixi.call('GFaJs6Z6AG38nkfbWYcBPQ', 'Dds9NkHZmJ4Wk4MNSQYHbb', 'changeGraph', 'eyJpZCI6IDY3LCAidHlwZSI6ICJ2ZXJ0ZXgiLCAicHJvcHMiOiB7ImNvbG9yIjogMTY3MTE2ODB9fQo=');</script>\n",
       "    "
      ],
      "text/plain": [
       "<IPython.core.display.HTML object>"
      ]
     },
     "metadata": {},
     "output_type": "display_data"
    },
    {
     "data": {
      "text/html": [
       "\n",
       "        <div id=\"nncg5vgdFupNJNJuKS6VHs\"></div>\n",
       "        <script>netpixi.call('nncg5vgdFupNJNJuKS6VHs', 'Dds9NkHZmJ4Wk4MNSQYHbb', 'changeGraph', 'eyJpZCI6IDI4MiwgInR5cGUiOiAidmVydGV4IiwgInByb3BzIjogeyJzaXplIjogNDQuODMzMzMzMzMzMzMzMzM2fX0K');</script>\n",
       "    "
      ],
      "text/plain": [
       "<IPython.core.display.HTML object>"
      ]
     },
     "metadata": {},
     "output_type": "display_data"
    },
    {
     "data": {
      "text/html": [
       "\n",
       "        <div id=\"PK8FB2BSTxP5dezugWjm2Y\"></div>\n",
       "        <script>netpixi.call('PK8FB2BSTxP5dezugWjm2Y', 'Dds9NkHZmJ4Wk4MNSQYHbb', 'changeGraph', 'eyJpZCI6IDkzLCAidHlwZSI6ICJ2ZXJ0ZXgiLCAicHJvcHMiOiB7ImNvbG9yIjogMTY3MTE2ODB9fQo=');</script>\n",
       "    "
      ],
      "text/plain": [
       "<IPython.core.display.HTML object>"
      ]
     },
     "metadata": {},
     "output_type": "display_data"
    },
    {
     "data": {
      "text/html": [
       "\n",
       "        <div id=\"ad3yBmFfG7DADc2b8W4mXi\"></div>\n",
       "        <script>netpixi.call('ad3yBmFfG7DADc2b8W4mXi', 'Dds9NkHZmJ4Wk4MNSQYHbb', 'changeGraph', 'eyJpZCI6IDI4MywgInR5cGUiOiAidmVydGV4IiwgInByb3BzIjogeyJzaXplIjogMTQuMDU4NTc3NDA1ODU3NzR9fQo=');</script>\n",
       "    "
      ],
      "text/plain": [
       "<IPython.core.display.HTML object>"
      ]
     },
     "metadata": {},
     "output_type": "display_data"
    },
    {
     "data": {
      "text/html": [
       "\n",
       "        <div id=\"hQ2nHuKkhbzd4a8bNyLkQQ\"></div>\n",
       "        <script>netpixi.call('hQ2nHuKkhbzd4a8bNyLkQQ', 'Dds9NkHZmJ4Wk4MNSQYHbb', 'changeGraph', 'eyJpZCI6IDY3LCAidHlwZSI6ICJ2ZXJ0ZXgiLCAicHJvcHMiOiB7ImNvbG9yIjogMTY3MTE2ODB9fQo=');</script>\n",
       "    "
      ],
      "text/plain": [
       "<IPython.core.display.HTML object>"
      ]
     },
     "metadata": {},
     "output_type": "display_data"
    },
    {
     "data": {
      "text/html": [
       "\n",
       "        <div id=\"cyGXwYPdKYzsNse59oP3xF\"></div>\n",
       "        <script>netpixi.call('cyGXwYPdKYzsNse59oP3xF', 'Dds9NkHZmJ4Wk4MNSQYHbb', 'changeGraph', 'eyJpZCI6IDI4NCwgInR5cGUiOiAidmVydGV4IiwgInByb3BzIjogeyJzaXplIjogMTQuMjY3NzgyNDI2Nzc4MjQzfX0K');</script>\n",
       "    "
      ],
      "text/plain": [
       "<IPython.core.display.HTML object>"
      ]
     },
     "metadata": {},
     "output_type": "display_data"
    },
    {
     "data": {
      "text/html": [
       "\n",
       "        <div id=\"eY4M2qgvoYxW5LCsfDsEh7\"></div>\n",
       "        <script>netpixi.call('eY4M2qgvoYxW5LCsfDsEh7', 'Dds9NkHZmJ4Wk4MNSQYHbb', 'changeGraph', 'eyJpZCI6IDgwLCAidHlwZSI6ICJ2ZXJ0ZXgiLCAicHJvcHMiOiB7ImNvbG9yIjogMTY3MTE2ODB9fQo=');</script>\n",
       "    "
      ],
      "text/plain": [
       "<IPython.core.display.HTML object>"
      ]
     },
     "metadata": {},
     "output_type": "display_data"
    },
    {
     "data": {
      "text/html": [
       "\n",
       "        <div id=\"Ng6fx4rM7kDU7fAhoEjs7b\"></div>\n",
       "        <script>netpixi.call('Ng6fx4rM7kDU7fAhoEjs7b', 'Dds9NkHZmJ4Wk4MNSQYHbb', 'changeGraph', 'eyJpZCI6IDI4NSwgInR5cGUiOiAidmVydGV4IiwgInByb3BzIjogeyJzaXplIjogMTIuMzAxMjU1MjMwMTI1NTIzfX0K');</script>\n",
       "    "
      ],
      "text/plain": [
       "<IPython.core.display.HTML object>"
      ]
     },
     "metadata": {},
     "output_type": "display_data"
    },
    {
     "data": {
      "text/html": [
       "\n",
       "        <div id=\"PLNUN7JPZcDaTDYQVB49o6\"></div>\n",
       "        <script>netpixi.call('PLNUN7JPZcDaTDYQVB49o6', 'Dds9NkHZmJ4Wk4MNSQYHbb', 'changeGraph', 'eyJpZCI6IDg0LCAidHlwZSI6ICJ2ZXJ0ZXgiLCAicHJvcHMiOiB7ImNvbG9yIjogMTY3MTE2ODB9fQo=');</script>\n",
       "    "
      ],
      "text/plain": [
       "<IPython.core.display.HTML object>"
      ]
     },
     "metadata": {},
     "output_type": "display_data"
    },
    {
     "data": {
      "text/html": [
       "\n",
       "        <div id=\"R3YmrQdXGMnPa3Wuie4Gzq\"></div>\n",
       "        <script>netpixi.call('R3YmrQdXGMnPa3Wuie4Gzq', 'Dds9NkHZmJ4Wk4MNSQYHbb', 'changeGraph', 'eyJpZCI6IDI4NiwgInR5cGUiOiAidmVydGV4IiwgInByb3BzIjogeyJzaXplIjogMTYuNDg1MzU1NjQ4NTM1NTY3fX0K');</script>\n",
       "    "
      ],
      "text/plain": [
       "<IPython.core.display.HTML object>"
      ]
     },
     "metadata": {},
     "output_type": "display_data"
    },
    {
     "data": {
      "text/html": [
       "\n",
       "        <div id=\"5ri2HePZWYiUCyhQBrbULL\"></div>\n",
       "        <script>netpixi.call('5ri2HePZWYiUCyhQBrbULL', 'Dds9NkHZmJ4Wk4MNSQYHbb', 'changeGraph', 'eyJpZCI6IDkwLCAidHlwZSI6ICJ2ZXJ0ZXgiLCAicHJvcHMiOiB7ImNvbG9yIjogMTY3MTE2ODB9fQo=');</script>\n",
       "    "
      ],
      "text/plain": [
       "<IPython.core.display.HTML object>"
      ]
     },
     "metadata": {},
     "output_type": "display_data"
    },
    {
     "data": {
      "text/html": [
       "\n",
       "        <div id=\"jvaNjoH5gfyhr5ttvnemvK\"></div>\n",
       "        <script>netpixi.call('jvaNjoH5gfyhr5ttvnemvK', 'Dds9NkHZmJ4Wk4MNSQYHbb', 'changeGraph', 'eyJpZCI6IDI4NywgInR5cGUiOiAidmVydGV4IiwgInByb3BzIjogeyJzaXplIjogMTEuNDY0NDM1MTQ2NDQzNTE1fX0K');</script>\n",
       "    "
      ],
      "text/plain": [
       "<IPython.core.display.HTML object>"
      ]
     },
     "metadata": {},
     "output_type": "display_data"
    },
    {
     "data": {
      "text/html": [
       "\n",
       "        <div id=\"gFQgTy5u4Q4cwnk4epAtZx\"></div>\n",
       "        <script>netpixi.call('gFQgTy5u4Q4cwnk4epAtZx', 'Dds9NkHZmJ4Wk4MNSQYHbb', 'changeGraph', 'eyJpZCI6IDY2LCAidHlwZSI6ICJ2ZXJ0ZXgiLCAicHJvcHMiOiB7ImNvbG9yIjogMTY3MTE2ODB9fQo=');</script>\n",
       "    "
      ],
      "text/plain": [
       "<IPython.core.display.HTML object>"
      ]
     },
     "metadata": {},
     "output_type": "display_data"
    },
    {
     "data": {
      "text/html": [
       "\n",
       "        <div id=\"LLiQc4UBevHqtafGiC9ff4\"></div>\n",
       "        <script>netpixi.call('LLiQc4UBevHqtafGiC9ff4', 'Dds9NkHZmJ4Wk4MNSQYHbb', 'changeGraph', 'eyJpZCI6IDI4OCwgInR5cGUiOiAidmVydGV4IiwgInByb3BzIjogeyJzaXplIjogMTAuMjkyODg3MDI5Mjg4NzAzfX0K');</script>\n",
       "    "
      ],
      "text/plain": [
       "<IPython.core.display.HTML object>"
      ]
     },
     "metadata": {},
     "output_type": "display_data"
    },
    {
     "data": {
      "text/html": [
       "\n",
       "        <div id=\"WcfMZ5N2SBrZwBMCedZXUg\"></div>\n",
       "        <script>netpixi.call('WcfMZ5N2SBrZwBMCedZXUg', 'Dds9NkHZmJ4Wk4MNSQYHbb', 'changeGraph', 'eyJpZCI6IDgwLCAidHlwZSI6ICJ2ZXJ0ZXgiLCAicHJvcHMiOiB7ImNvbG9yIjogMTY3MTE2ODB9fQo=');</script>\n",
       "    "
      ],
      "text/plain": [
       "<IPython.core.display.HTML object>"
      ]
     },
     "metadata": {},
     "output_type": "display_data"
    },
    {
     "data": {
      "text/html": [
       "\n",
       "        <div id=\"d9cq9JqYYpYTnRrqajoAmi\"></div>\n",
       "        <script>netpixi.call('d9cq9JqYYpYTnRrqajoAmi', 'Dds9NkHZmJ4Wk4MNSQYHbb', 'changeGraph', 'eyJpZCI6IDI4OSwgInR5cGUiOiAidmVydGV4IiwgInByb3BzIjogeyJzaXplIjogNDMuODMzMzMzMzMzMzMzMzM2fX0K');</script>\n",
       "    "
      ],
      "text/plain": [
       "<IPython.core.display.HTML object>"
      ]
     },
     "metadata": {},
     "output_type": "display_data"
    },
    {
     "data": {
      "text/html": [
       "\n",
       "        <div id=\"CoLnXWjSVKdckk7J8Ybupm\"></div>\n",
       "        <script>netpixi.call('CoLnXWjSVKdckk7J8Ybupm', 'Dds9NkHZmJ4Wk4MNSQYHbb', 'changeGraph', 'eyJpZCI6IDgzLCAidHlwZSI6ICJ2ZXJ0ZXgiLCAicHJvcHMiOiB7ImNvbG9yIjogMTY3MTE2ODB9fQo=');</script>\n",
       "    "
      ],
      "text/plain": [
       "<IPython.core.display.HTML object>"
      ]
     },
     "metadata": {},
     "output_type": "display_data"
    },
    {
     "data": {
      "text/html": [
       "\n",
       "        <div id=\"PQzeMvmbG3UDxVfTDJXZUN\"></div>\n",
       "        <script>netpixi.call('PQzeMvmbG3UDxVfTDJXZUN', 'Dds9NkHZmJ4Wk4MNSQYHbb', 'changeGraph', 'eyJpZCI6IDI5MCwgInR5cGUiOiAidmVydGV4IiwgInByb3BzIjogeyJzaXplIjogMTUuMzU1NjQ4NTM1NTY0ODUzfX0K');</script>\n",
       "    "
      ],
      "text/plain": [
       "<IPython.core.display.HTML object>"
      ]
     },
     "metadata": {},
     "output_type": "display_data"
    },
    {
     "data": {
      "text/html": [
       "\n",
       "        <div id=\"R9RX4v4ETAdt2bTRfA2CaV\"></div>\n",
       "        <script>netpixi.call('R9RX4v4ETAdt2bTRfA2CaV', 'Dds9NkHZmJ4Wk4MNSQYHbb', 'changeGraph', 'eyJpZCI6IDcxLCAidHlwZSI6ICJ2ZXJ0ZXgiLCAicHJvcHMiOiB7ImNvbG9yIjogMTY3MTE2ODB9fQo=');</script>\n",
       "    "
      ],
      "text/plain": [
       "<IPython.core.display.HTML object>"
      ]
     },
     "metadata": {},
     "output_type": "display_data"
    },
    {
     "data": {
      "text/html": [
       "\n",
       "        <div id=\"45mwSeX5Ah9xcMWPadN8t7\"></div>\n",
       "        <script>netpixi.call('45mwSeX5Ah9xcMWPadN8t7', 'Dds9NkHZmJ4Wk4MNSQYHbb', 'changeGraph', 'eyJpZCI6IDI5MSwgInR5cGUiOiAidmVydGV4IiwgInByb3BzIjogeyJzaXplIjogNDYuMzMzMzMzMzMzMzMzMzM2fX0K');</script>\n",
       "    "
      ],
      "text/plain": [
       "<IPython.core.display.HTML object>"
      ]
     },
     "metadata": {},
     "output_type": "display_data"
    },
    {
     "data": {
      "text/html": [
       "\n",
       "        <div id=\"Qa2JoMYqj3XFadqLnukaZa\"></div>\n",
       "        <script>netpixi.call('Qa2JoMYqj3XFadqLnukaZa', 'Dds9NkHZmJ4Wk4MNSQYHbb', 'changeGraph', 'eyJpZCI6IDc5LCAidHlwZSI6ICJ2ZXJ0ZXgiLCAicHJvcHMiOiB7ImNvbG9yIjogMTY3MTE2ODB9fQo=');</script>\n",
       "    "
      ],
      "text/plain": [
       "<IPython.core.display.HTML object>"
      ]
     },
     "metadata": {},
     "output_type": "display_data"
    },
    {
     "data": {
      "text/html": [
       "\n",
       "        <div id=\"PNCUsXmLtCLiUuKwwYDaUD\"></div>\n",
       "        <script>netpixi.call('PNCUsXmLtCLiUuKwwYDaUD', 'Dds9NkHZmJ4Wk4MNSQYHbb', 'changeGraph', 'eyJpZCI6IDI5MiwgInR5cGUiOiAidmVydGV4IiwgInByb3BzIjogeyJzaXplIjogMTUuMDYyNzYxNTA2Mjc2MTV9fQo=');</script>\n",
       "    "
      ],
      "text/plain": [
       "<IPython.core.display.HTML object>"
      ]
     },
     "metadata": {},
     "output_type": "display_data"
    },
    {
     "data": {
      "text/html": [
       "\n",
       "        <div id=\"9EGQA4xiMPCkhDehnJuh5e\"></div>\n",
       "        <script>netpixi.call('9EGQA4xiMPCkhDehnJuh5e', 'Dds9NkHZmJ4Wk4MNSQYHbb', 'changeGraph', 'eyJpZCI6IDk3LCAidHlwZSI6ICJ2ZXJ0ZXgiLCAicHJvcHMiOiB7ImNvbG9yIjogMTY3MTE2ODB9fQo=');</script>\n",
       "    "
      ],
      "text/plain": [
       "<IPython.core.display.HTML object>"
      ]
     },
     "metadata": {},
     "output_type": "display_data"
    },
    {
     "data": {
      "text/html": [
       "\n",
       "        <div id=\"a8vxVWe6vvJ3xMSwXmdvrE\"></div>\n",
       "        <script>netpixi.call('a8vxVWe6vvJ3xMSwXmdvrE', 'Dds9NkHZmJ4Wk4MNSQYHbb', 'changeGraph', 'eyJpZCI6IDI5MywgInR5cGUiOiAidmVydGV4IiwgInByb3BzIjogeyJzaXplIjogMTkuNzkwNzk0OTc5MDc5NDk3fX0K');</script>\n",
       "    "
      ],
      "text/plain": [
       "<IPython.core.display.HTML object>"
      ]
     },
     "metadata": {},
     "output_type": "display_data"
    },
    {
     "data": {
      "text/html": [
       "\n",
       "        <div id=\"dXmodZ2jzX2iUKESm2TvbU\"></div>\n",
       "        <script>netpixi.call('dXmodZ2jzX2iUKESm2TvbU', 'Dds9NkHZmJ4Wk4MNSQYHbb', 'changeGraph', 'eyJpZCI6IDg4LCAidHlwZSI6ICJ2ZXJ0ZXgiLCAicHJvcHMiOiB7ImNvbG9yIjogMTY3MTE2ODB9fQo=');</script>\n",
       "    "
      ],
      "text/plain": [
       "<IPython.core.display.HTML object>"
      ]
     },
     "metadata": {},
     "output_type": "display_data"
    },
    {
     "data": {
      "text/html": [
       "\n",
       "        <div id=\"CRhvUja3iWoRz9WCK8Mgra\"></div>\n",
       "        <script>netpixi.call('CRhvUja3iWoRz9WCK8Mgra', 'Dds9NkHZmJ4Wk4MNSQYHbb', 'changeGraph', 'eyJpZCI6IDI5NCwgInR5cGUiOiAidmVydGV4IiwgInByb3BzIjogeyJzaXplIjogMTIuMzg0OTM3MjM4NDkzNzIzfX0K');</script>\n",
       "    "
      ],
      "text/plain": [
       "<IPython.core.display.HTML object>"
      ]
     },
     "metadata": {},
     "output_type": "display_data"
    },
    {
     "data": {
      "text/html": [
       "\n",
       "        <div id=\"NugogszvPW4Qjmqni5iTyk\"></div>\n",
       "        <script>netpixi.call('NugogszvPW4Qjmqni5iTyk', 'Dds9NkHZmJ4Wk4MNSQYHbb', 'changeGraph', 'eyJpZCI6IDc2LCAidHlwZSI6ICJ2ZXJ0ZXgiLCAicHJvcHMiOiB7ImNvbG9yIjogMTY3MTE2ODB9fQo=');</script>\n",
       "    "
      ],
      "text/plain": [
       "<IPython.core.display.HTML object>"
      ]
     },
     "metadata": {},
     "output_type": "display_data"
    },
    {
     "data": {
      "text/html": [
       "\n",
       "        <div id=\"RhUqbN4m2UFMw7AHbyJcrP\"></div>\n",
       "        <script>netpixi.call('RhUqbN4m2UFMw7AHbyJcrP', 'Dds9NkHZmJ4Wk4MNSQYHbb', 'changeGraph', 'eyJpZCI6IDI5NSwgInR5cGUiOiAidmVydGV4IiwgInByb3BzIjogeyJzaXplIjogMTMuMDk2MjM0MzA5NjIzNDN9fQo=');</script>\n",
       "    "
      ],
      "text/plain": [
       "<IPython.core.display.HTML object>"
      ]
     },
     "metadata": {},
     "output_type": "display_data"
    },
    {
     "data": {
      "text/html": [
       "\n",
       "        <div id=\"j4vC84HBe2qUnhV9gXqR3X\"></div>\n",
       "        <script>netpixi.call('j4vC84HBe2qUnhV9gXqR3X', 'Dds9NkHZmJ4Wk4MNSQYHbb', 'changeGraph', 'eyJpZCI6IDc4LCAidHlwZSI6ICJ2ZXJ0ZXgiLCAicHJvcHMiOiB7ImNvbG9yIjogMTY3MTE2ODB9fQo=');</script>\n",
       "    "
      ],
      "text/plain": [
       "<IPython.core.display.HTML object>"
      ]
     },
     "metadata": {},
     "output_type": "display_data"
    },
    {
     "data": {
      "text/html": [
       "\n",
       "        <div id=\"ggBteWxUKKpgiUJZxvGHGv\"></div>\n",
       "        <script>netpixi.call('ggBteWxUKKpgiUJZxvGHGv', 'Dds9NkHZmJ4Wk4MNSQYHbb', 'changeGraph', 'eyJpZCI6IDI5NiwgInR5cGUiOiAidmVydGV4IiwgInByb3BzIjogeyJzaXplIjogMTguOTk1ODE1ODk5NTgxNTl9fQo=');</script>\n",
       "    "
      ],
      "text/plain": [
       "<IPython.core.display.HTML object>"
      ]
     },
     "metadata": {},
     "output_type": "display_data"
    },
    {
     "data": {
      "text/html": [
       "\n",
       "        <div id=\"94PUv9SCzC3xu4V4L3HENC\"></div>\n",
       "        <script>netpixi.call('94PUv9SCzC3xu4V4L3HENC', 'Dds9NkHZmJ4Wk4MNSQYHbb', 'changeGraph', 'eyJpZCI6IDgyLCAidHlwZSI6ICJ2ZXJ0ZXgiLCAicHJvcHMiOiB7ImNvbG9yIjogMTY3MTE2ODB9fQo=');</script>\n",
       "    "
      ],
      "text/plain": [
       "<IPython.core.display.HTML object>"
      ]
     },
     "metadata": {},
     "output_type": "display_data"
    },
    {
     "data": {
      "text/html": [
       "\n",
       "        <div id=\"gJmSkA9H3ujGgVToLcrMtj\"></div>\n",
       "        <script>netpixi.call('gJmSkA9H3ujGgVToLcrMtj', 'Dds9NkHZmJ4Wk4MNSQYHbb', 'changeGraph', 'eyJpZCI6IDI5NywgInR5cGUiOiAidmVydGV4IiwgInByb3BzIjogeyJzaXplIjogMTIuOTcwNzExMjk3MDcxMTN9fQo=');</script>\n",
       "    "
      ],
      "text/plain": [
       "<IPython.core.display.HTML object>"
      ]
     },
     "metadata": {},
     "output_type": "display_data"
    },
    {
     "data": {
      "text/html": [
       "\n",
       "        <div id=\"8jVNhSvMkuLTULhXtn7yUi\"></div>\n",
       "        <script>netpixi.call('8jVNhSvMkuLTULhXtn7yUi', 'Dds9NkHZmJ4Wk4MNSQYHbb', 'changeGraph', 'eyJpZCI6IDkzLCAidHlwZSI6ICJ2ZXJ0ZXgiLCAicHJvcHMiOiB7ImNvbG9yIjogMTY3MTE2ODB9fQo=');</script>\n",
       "    "
      ],
      "text/plain": [
       "<IPython.core.display.HTML object>"
      ]
     },
     "metadata": {},
     "output_type": "display_data"
    },
    {
     "data": {
      "text/html": [
       "\n",
       "        <div id=\"dq6ahLaUdNeutbEqestrhw\"></div>\n",
       "        <script>netpixi.call('dq6ahLaUdNeutbEqestrhw', 'Dds9NkHZmJ4Wk4MNSQYHbb', 'changeGraph', 'eyJpZCI6IDI5OCwgInR5cGUiOiAidmVydGV4IiwgInByb3BzIjogeyJzaXplIjogMTUuODE1ODk5NTgxNTg5OTU3fX0K');</script>\n",
       "    "
      ],
      "text/plain": [
       "<IPython.core.display.HTML object>"
      ]
     },
     "metadata": {},
     "output_type": "display_data"
    },
    {
     "data": {
      "text/html": [
       "\n",
       "        <div id=\"BUYn73vuZK7tgyiJ6XXfXU\"></div>\n",
       "        <script>netpixi.call('BUYn73vuZK7tgyiJ6XXfXU', 'Dds9NkHZmJ4Wk4MNSQYHbb', 'changeGraph', 'eyJpZCI6IDgxLCAidHlwZSI6ICJ2ZXJ0ZXgiLCAicHJvcHMiOiB7ImNvbG9yIjogMTY3MTE2ODB9fQo=');</script>\n",
       "    "
      ],
      "text/plain": [
       "<IPython.core.display.HTML object>"
      ]
     },
     "metadata": {},
     "output_type": "display_data"
    }
   ],
   "source": [
    "matrix = spectral.adjacency(g)\n",
    "\n",
    "# Além de cpnet.Rombach, há outras\n",
    "# opções de algoritmos contínuos:\n",
    "# cpnet.MINRES\n",
    "# cpnet.Rossa\n",
    "\n",
    "algorithm = cpnet.Rombach()\n",
    "algorithm.detect(matrix)\n",
    "c = algorithm.get_coreness()\n",
    "\n",
    "# Depois do código acima, c é um dicionário\n",
    "# em que as chaves são índices de vértices e\n",
    "# valores são os atribuídos pelo algoritmo.\n",
    "\n",
    "g.add_vp('coreness')\n",
    "for i, coreness in c.items():\n",
    "    v = g.get_vertex_by_index(i)\n",
    "    v['coreness'] = float(coreness)\n",
    "    lista.append(float(coreness))\n",
    "df_nodes['coreness'] = lista\n",
    "# Vamos usar coreness como referência para\n",
    "# o tamanho dos vértices. Estabelecemos 10\n",
    "# como o menor tamanho possível e 40 como\n",
    "# o maior tamanho possível. Como o coreness\n",
    "# está entre 0 e 1, a conta é bem simples.\n",
    "\n",
    "for v in g.all_vertices():\n",
    "    r.vertex(v['id'], size=(10 + 40 * v['coreness']))\n",
    "    r.vertex(v['Metacritic score'], color=0xff0000)\n",
    "\n",
    "\n",
    "# Quando a execução desta célula terminar,\n",
    "# veja como ficou a visualização acima."
   ]
  },
  {
   "cell_type": "code",
   "execution_count": 136,
   "metadata": {},
   "outputs": [
    {
     "data": {
      "text/html": [
       "<div>\n",
       "<style scoped>\n",
       "    .dataframe tbody tr th:only-of-type {\n",
       "        vertical-align: middle;\n",
       "    }\n",
       "\n",
       "    .dataframe tbody tr th {\n",
       "        vertical-align: top;\n",
       "    }\n",
       "\n",
       "    .dataframe thead th {\n",
       "        text-align: right;\n",
       "    }\n",
       "</style>\n",
       "<table border=\"1\" class=\"dataframe\">\n",
       "  <thead>\n",
       "    <tr style=\"text-align: right;\">\n",
       "      <th></th>\n",
       "      <th>id</th>\n",
       "      <th>Tags</th>\n",
       "      <th>MetacriticScore</th>\n",
       "      <th>coreness</th>\n",
       "      <th>coreness2</th>\n",
       "    </tr>\n",
       "  </thead>\n",
       "  <tbody>\n",
       "  </tbody>\n",
       "</table>\n",
       "</div>"
      ],
      "text/plain": [
       "Empty DataFrame\n",
       "Columns: [id, Tags, MetacriticScore, coreness, coreness2]\n",
       "Index: []"
      ]
     },
     "execution_count": 136,
     "metadata": {},
     "output_type": "execute_result"
    }
   ],
   "source": [
    "# Muda Nome\n",
    "df_nodes.rename(columns = {'Metacritic score':'MetacriticScore'}, inplace = True)\n",
    "df_nodes"
   ]
  },
  {
   "cell_type": "code",
   "execution_count": 159,
   "metadata": {},
   "outputs": [
    {
     "data": {
      "image/png": "[encoded data removed]",
      "text/plain": [
       "<Figure size 640x480 with 1 Axes>"
      ]
     },
     "metadata": {},
     "output_type": "display_data"
    }
   ],
   "source": [
    "import numpy as np\n",
    "import pandas as pd\n",
    "import seaborn as sns\n",
    "import regression as reg\n",
    "\n",
    "from scipy import stats\n",
    "from matplotlib import pyplot as plt\n",
    "\n",
    "sns.scatterplot(x=df_nodes['coreness'], y=df_nodes['Metacritic score']);"
   ]
  },
  {
   "cell_type": "code",
   "execution_count": null,
   "metadata": {},
   "outputs": [],
   "source": [
    "sns.regplot(x=df_nodes['coreness'], y=df_nodes['Metacritic score']);"
   ]
  },
  {
   "cell_type": "code",
   "execution_count": null,
   "metadata": {},
   "outputs": [],
   "source": [
    "result = reg.linear(data=df_nodes, formula='\"Metacritic score\" ~ coreness')\n",
    "result.summary()"
   ]
  },
  {
   "cell_type": "code",
   "execution_count": null,
   "metadata": {},
   "outputs": [],
   "source": [
    "result.micro_summary()"
   ]
  },
  {
   "cell_type": "code",
   "execution_count": null,
   "metadata": {},
   "outputs": [],
   "source": [
    "result.plot_residuals()"
   ]
  },
  {
   "cell_type": "code",
   "execution_count": null,
   "metadata": {},
   "outputs": [],
   "source": [
    "# Observa-se um treshold de divisão no coreness, dessa forma, podemos dividir esses dados em dois conjuntos\n",
    "# E assim aplicar uma regressão em cada metade.\n",
    "\n",
    "threshold_coreness = 0.5\n",
    "\n",
    "df_nodes_menor = df_nodes[df_nodes['coreness'] < threshold_coreness]\n",
    "df_nodes_maior =  df_nodes[df_nodes['coreness'] > threshold_coreness]"
   ]
  },
  {
   "cell_type": "code",
   "execution_count": 160,
   "metadata": {},
   "outputs": [
    {
     "data": {
      "image/png": "[encoded data removed]",
      "text/plain": [
       "<Figure size 640x480 with 1 Axes>"
      ]
     },
     "metadata": {},
     "output_type": "display_data"
    }
   ],
   "source": [
    "df_nodes_menor.head()\n",
    "df_nodes_maior.head()"
   ]
  },
  {
   "cell_type": "code",
   "execution_count": null,
   "metadata": {},
   "outputs": [],
   "source": [
    "# ------- Para a primeira metade  -------\n",
    "\n",
    "sns.regplot(x=df_nodes_menor['coreness'], y=df_nodes_menor['Metacritic score']);"
   ]
  },
  {
   "cell_type": "code",
   "execution_count": null,
   "metadata": {},
   "outputs": [],
   "source": [
    "result_menor = reg.linear(data=df_nodes_menor, formula='\"Metacritic score\" ~ coreness')"
   ]
  },
  {
   "cell_type": "code",
   "execution_count": null,
   "metadata": {},
   "outputs": [],
   "source": [
    "result_menor.micro_summary()"
   ]
  },
  {
   "cell_type": "code",
   "execution_count": null,
   "metadata": {},
   "outputs": [],
   "source": [
    "result_menor.plot_residuals()"
   ]
  },
  {
   "cell_type": "code",
   "execution_count": null,
   "metadata": {},
   "outputs": [],
   "source": [
    "# ------- Para a segunda metade  -------\n",
    "\n",
    "sns.regplot(x=df_nodes_maior['coreness'], y=df_nodes_maior['Metacritic score']);"
   ]
  },
  {
   "cell_type": "code",
   "execution_count": null,
   "metadata": {},
   "outputs": [],
   "source": [
    "result_maior = reg.linear(data=df_nodes_maior, formula='\"Metacritic score\" ~ coreness')"
   ]
  },
  {
   "cell_type": "code",
   "execution_count": null,
   "metadata": {},
   "outputs": [],
   "source": [
    "result_maior.micro_summary()"
   ]
  },
  {
   "cell_type": "code",
   "execution_count": null,
   "metadata": {},
   "outputs": [],
   "source": [
    "result_menor.plot_residuals()"
   ]
  }
 ],
 "metadata": {
  "kernelspec": {
   "display_name": "Python 3 (ipykernel)",
   "language": "python",
   "name": "python3"
  },
  "language_info": {
   "codemirror_mode": {
    "name": "ipython",
    "version": 3
   },
   "file_extension": ".py",
   "mimetype": "text/x-python",
   "name": "python",
   "nbconvert_exporter": "python",
   "pygments_lexer": "ipython3",
   "version": "3.10.10"
  }
 },
 "nbformat": 4,
 "nbformat_minor": 4
}
