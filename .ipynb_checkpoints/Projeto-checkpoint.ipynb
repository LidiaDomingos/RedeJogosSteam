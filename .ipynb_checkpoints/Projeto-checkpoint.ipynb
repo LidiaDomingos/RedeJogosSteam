{
 "cells": [
  {
   "cell_type": "markdown",
   "metadata": {},
   "source": [
    "\n",
    "## Projeto | Construido uma rede com jogos da Steam 🎮️\n",
    "\n",
    "    \n",
    "---------------------\n",
    "\n",
    "**Equipe**\n",
    "\n",
    "\n",
    " * Letícia Coêlho Barbosa       | [Github](https://github.com/leticiacb1)\n",
    " <br>\n",
    "\n",
    " * Lídia Alves Chagas Domingos  | [Github](https://github.com/LidiaDomingos)\n",
    " <br>\n",
    "\n",
    " * Lorran Caetano Lopes         | [Github](https://github.com/lorrancmlopes)\n",
    " <br>\n",
    " \n",
    " ---------------------\n",
    "\n",
    "* **Dataset escolhido** : [Jogos da Steam](https://www.kaggle.com/datasets/fronkongames/steam-games-dataset)\n",
    "  \n",
    "  \n",
    "  [Clique aqui](https://www.kaggle.com/datasets/fronkongames/steam-games-dataset) para baixar\n",
    "\n",
    "<br>\n",
    "\n",
    "* **Dataset auxiliar** : [Total Revenue Empresas]()\n",
    "  \n",
    "  \n",
    "  [Clique aqui](https://vginsights.com/publishers-database) para baixar\n",
    "\n",
    "<br>\n",
    "\n",
    "* **Dataset auxiliar | Modificado** : [Total Revenue Empresas Modificado](https://drive.google.com/file/d/1DUGhWPNJdPr30eo1oCH9RUPlG_FMHr3L/view?usp=sharing)"
   ]
  },
  {
   "cell_type": "markdown",
   "metadata": {},
   "source": [
    "### O DATASET\n",
    "\n",
    "-------\n",
    "\n",
    "O contexto do projeto engloba os jogos famosos para computadores disponíveis na Steam. Atualmente, a plataforma Steam possui aproximadamente 95 milhões de usuários no mundo todo e é sucesso entre os gamers, sendo a atual líder do mercado. \n",
    "\n",
    "\n",
    "#### Principais colunas\n",
    "<br>\n",
    "\n",
    "O dataset escolhido possui 39 colunas, nesse tópico citaremos a descrições de algumas colunas de maior interesse para analise.\n",
    "\n",
    "* **name** : nome do jogo.\n",
    "<br>\n",
    "\n",
    "* **releaseDate** : data de lançamento.\n",
    "<br>\n",
    "\n",
    "* **price** : preço do jogo.\n",
    "<br>\n",
    "\n",
    "* **metacritic_score** : media das notas dadas por avaliações de profissionais.\n",
    "<br>\n",
    "\n",
    "* **user_score** : media das notas dadas pelos usuários do jogo.\n",
    "<br>\n",
    "\n",
    "* **score_rank** : o ranke do jogo baseado nas avaliações dos usuários.\n",
    "<br>\n",
    "\n",
    "* **developers** : desenvolvedores dos jogos.\n",
    "<br>\n",
    "\n",
    "* **categories** : categoria dos jogos.\n",
    "<br>\n",
    "\n",
    "* **genres** : genero do jogo.\n",
    "<br>\n",
    "\n",
    "* **tags** : Tags do jogo.\n",
    "<br>\n",
    "\n",
    " \n",
    " ### NOSSA REDE\n",
    "\n",
    "-------\n",
    "\n",
    "* **Vértices** : Jogos da Steam.\n",
    "<br>\n",
    "\n",
    "* **Arestas**  : Existe uma aresta entre um jogo 1 e um jogo 2 se o número de tags em comum entre os jogos for superior ou igual a um **threadhold** (definido mais a frente)\n",
    "\n",
    "\n",
    " ### HIPOTESE\n",
    "\n",
    "-------\n",
    "\n",
    "\n",
    "`\"Quanto mais central é a sua posição na rede, maior a média de avaliações dos críticos profissionais.\"`\n",
    "<br>\n",
    "\n",
    "* **Variável de controle**: Tamanho da empresa.\n",
    "<br>\n",
    "\n",
    "* **Variável dependente**:  medida indicativa de centralidade do nó na rede (coreness).\n",
    "<br>\n",
    "\n",
    "* **Variável independente**: dataset[Metacritic score]\n",
    "\n",
    "\n",
    "\n",
    " ### MODELO\n",
    "\n",
    "-------\n",
    "\n",
    "` Metacrit Score ~ (Posição na Rede) + (Tamanho da Empresa) + (Ano de Lançamento) `"
   ]
  },
  {
   "cell_type": "markdown",
   "metadata": {},
   "source": [
    "### ANALISANDO OS DADOS \n",
    "\n",
    "-------"
   ]
  },
  {
   "cell_type": "code",
   "execution_count": 67,
   "metadata": {},
   "outputs": [],
   "source": [
    "# ---------------------------------\n",
    "# ------------ IMPORTS ------------\n",
    "# ---------------------------------\n",
    "\n",
    "import seaborn as sns\n",
    "from netpixi.integration.gt import *\n",
    "from regression.integration.gt import *\n",
    "import netpixi\n",
    "import pandas as pd\n",
    "\n",
    "import numpy as np\n",
    "import seaborn as sns\n",
    "import regression as reg\n",
    "\n",
    "from scipy import stats\n",
    "from matplotlib import pyplot as plt\n",
    "\n",
    "import cpnet\n",
    "from graph_tool import spectral"
   ]
  },
  {
   "cell_type": "code",
   "execution_count": 68,
   "metadata": {},
   "outputs": [],
   "source": [
    "# Grafo não direcional | Informação obtida via documentação\n",
    "g = Graph(directed=False) "
   ]
  },
  {
   "cell_type": "code",
   "execution_count": 69,
   "metadata": {
    "scrolled": false
   },
   "outputs": [
    {
     "name": "stdout",
     "output_type": "stream",
     "text": [
      "\n",
      "> Colunas : ['AppID', 'Name', 'Release date', 'Estimated owners', 'Peak CCU', 'Required age', 'Price', 'DLC count', 'About the game', 'Supported languages', 'Full audio languages', 'Reviews', 'Header image', 'Website', 'Support url', 'Support email', 'Windows', 'Mac', 'Linux', 'Metacritic score', 'Metacritic url', 'User score', 'Positive', 'Negative', 'Score rank', 'Achievements', 'Recommendations', 'Notes', 'Average playtime forever', 'Average playtime two weeks', 'Median playtime forever', 'Median playtime two weeks', 'Developers', 'Publishers', 'Categories', 'Genres', 'Tags', 'Screenshots', 'Movies']\n",
      "\n",
      "\n",
      "> Tamanho do dataset : (71716, 39)\n",
      "\n",
      "\n",
      "> Primeiras linhas dataset : \n",
      "\n"
     ]
    },
    {
     "data": {
      "text/html": [
       "<div>\n",
       "<style scoped>\n",
       "    .dataframe tbody tr th:only-of-type {\n",
       "        vertical-align: middle;\n",
       "    }\n",
       "\n",
       "    .dataframe tbody tr th {\n",
       "        vertical-align: top;\n",
       "    }\n",
       "\n",
       "    .dataframe thead th {\n",
       "        text-align: right;\n",
       "    }\n",
       "</style>\n",
       "<table border=\"1\" class=\"dataframe\">\n",
       "  <thead>\n",
       "    <tr style=\"text-align: right;\">\n",
       "      <th></th>\n",
       "      <th>AppID</th>\n",
       "      <th>Name</th>\n",
       "      <th>Release date</th>\n",
       "      <th>Estimated owners</th>\n",
       "      <th>Peak CCU</th>\n",
       "      <th>Required age</th>\n",
       "      <th>Price</th>\n",
       "      <th>DLC count</th>\n",
       "      <th>About the game</th>\n",
       "      <th>Supported languages</th>\n",
       "      <th>...</th>\n",
       "      <th>Average playtime two weeks</th>\n",
       "      <th>Median playtime forever</th>\n",
       "      <th>Median playtime two weeks</th>\n",
       "      <th>Developers</th>\n",
       "      <th>Publishers</th>\n",
       "      <th>Categories</th>\n",
       "      <th>Genres</th>\n",
       "      <th>Tags</th>\n",
       "      <th>Screenshots</th>\n",
       "      <th>Movies</th>\n",
       "    </tr>\n",
       "  </thead>\n",
       "  <tbody>\n",
       "    <tr>\n",
       "      <th>0</th>\n",
       "      <td>20200</td>\n",
       "      <td>Galactic Bowling</td>\n",
       "      <td>Oct 21, 2008</td>\n",
       "      <td>0 - 20000</td>\n",
       "      <td>0</td>\n",
       "      <td>0</td>\n",
       "      <td>19.99</td>\n",
       "      <td>0</td>\n",
       "      <td>Galactic Bowling is an exaggerated and stylize...</td>\n",
       "      <td>['English']</td>\n",
       "      <td>...</td>\n",
       "      <td>0</td>\n",
       "      <td>0</td>\n",
       "      <td>0</td>\n",
       "      <td>Perpetual FX Creative</td>\n",
       "      <td>Perpetual FX Creative</td>\n",
       "      <td>Single-player,Multi-player,Steam Achievements,...</td>\n",
       "      <td>Casual,Indie,Sports</td>\n",
       "      <td>Indie,Casual,Sports,Bowling</td>\n",
       "      <td>https://cdn.akamai.steamstatic.com/steam/apps/...</td>\n",
       "      <td>http://cdn.akamai.steamstatic.com/steam/apps/2...</td>\n",
       "    </tr>\n",
       "    <tr>\n",
       "      <th>1</th>\n",
       "      <td>655370</td>\n",
       "      <td>Train Bandit</td>\n",
       "      <td>Oct 12, 2017</td>\n",
       "      <td>0 - 20000</td>\n",
       "      <td>0</td>\n",
       "      <td>0</td>\n",
       "      <td>0.99</td>\n",
       "      <td>0</td>\n",
       "      <td>THE LAW!! Looks to be a showdown atop a train....</td>\n",
       "      <td>['English', 'French', 'Italian', 'German', 'Sp...</td>\n",
       "      <td>...</td>\n",
       "      <td>0</td>\n",
       "      <td>0</td>\n",
       "      <td>0</td>\n",
       "      <td>Rusty Moyher</td>\n",
       "      <td>Wild Rooster</td>\n",
       "      <td>Single-player,Steam Achievements,Full controll...</td>\n",
       "      <td>Action,Indie</td>\n",
       "      <td>Indie,Action,Pixel Graphics,2D,Retro,Arcade,Sc...</td>\n",
       "      <td>https://cdn.akamai.steamstatic.com/steam/apps/...</td>\n",
       "      <td>http://cdn.akamai.steamstatic.com/steam/apps/2...</td>\n",
       "    </tr>\n",
       "  </tbody>\n",
       "</table>\n",
       "<p>2 rows × 39 columns</p>\n",
       "</div>"
      ],
      "text/plain": [
       "    AppID              Name  Release date Estimated owners  Peak CCU  \\\n",
       "0   20200  Galactic Bowling  Oct 21, 2008        0 - 20000         0   \n",
       "1  655370      Train Bandit  Oct 12, 2017        0 - 20000         0   \n",
       "\n",
       "   Required age  Price  DLC count  \\\n",
       "0             0  19.99          0   \n",
       "1             0   0.99          0   \n",
       "\n",
       "                                      About the game  \\\n",
       "0  Galactic Bowling is an exaggerated and stylize...   \n",
       "1  THE LAW!! Looks to be a showdown atop a train....   \n",
       "\n",
       "                                 Supported languages  ...  \\\n",
       "0                                        ['English']  ...   \n",
       "1  ['English', 'French', 'Italian', 'German', 'Sp...  ...   \n",
       "\n",
       "  Average playtime two weeks Median playtime forever  \\\n",
       "0                          0                       0   \n",
       "1                          0                       0   \n",
       "\n",
       "  Median playtime two weeks             Developers             Publishers  \\\n",
       "0                         0  Perpetual FX Creative  Perpetual FX Creative   \n",
       "1                         0           Rusty Moyher           Wild Rooster   \n",
       "\n",
       "                                          Categories               Genres  \\\n",
       "0  Single-player,Multi-player,Steam Achievements,...  Casual,Indie,Sports   \n",
       "1  Single-player,Steam Achievements,Full controll...         Action,Indie   \n",
       "\n",
       "                                                Tags  \\\n",
       "0                        Indie,Casual,Sports,Bowling   \n",
       "1  Indie,Action,Pixel Graphics,2D,Retro,Arcade,Sc...   \n",
       "\n",
       "                                         Screenshots  \\\n",
       "0  https://cdn.akamai.steamstatic.com/steam/apps/...   \n",
       "1  https://cdn.akamai.steamstatic.com/steam/apps/...   \n",
       "\n",
       "                                              Movies  \n",
       "0  http://cdn.akamai.steamstatic.com/steam/apps/2...  \n",
       "1  http://cdn.akamai.steamstatic.com/steam/apps/2...  \n",
       "\n",
       "[2 rows x 39 columns]"
      ]
     },
     "execution_count": 69,
     "metadata": {},
     "output_type": "execute_result"
    }
   ],
   "source": [
    "# ----  Lendo o arquivo ----\n",
    "\n",
    "df_principal = pd.read_csv('games.csv')\n",
    "\n",
    "columns = [col for col in df_principal.columns]\n",
    "\n",
    "print(f\"\\n> Colunas : {columns}\\n\")\n",
    "\n",
    "print(f\"\\n> Tamanho do dataset : {df_principal.shape}\\n\")\n",
    "\n",
    "print(f\"\\n> Primeiras linhas dataset : \\n\")\n",
    "df_principal.head(2)"
   ]
  },
  {
   "cell_type": "markdown",
   "metadata": {},
   "source": [
    "\n",
    "\n",
    "#### Descrevendo melhor a coluna Metacritic score"
   ]
  },
  {
   "cell_type": "code",
   "execution_count": 70,
   "metadata": {},
   "outputs": [
    {
     "name": "stdout",
     "output_type": "stream",
     "text": [
      "\n",
      "> Valores únicos presentes:\n",
      "\n",
      " [ 0 62 64 53 84 89 70 86 40 87 92 76 51 49 81 69 72 68 52 82 59 77 79 71\n",
      " 74 73 88 47 75 66 50 63 67 80 58 90 39 78 55 85 65 91 83 57 56 44 60 61\n",
      " 48 46 23 45 94 27 38 30 35 54 41 43 32 34 93 37 36 95 42 29 24 96 20 33\n",
      " 97]\n",
      "\n",
      "\n",
      "> Distribuição dos valores :\n",
      "\n",
      " 0     67938\n",
      "80      183\n",
      "77      165\n",
      "76      164\n",
      "78      161\n",
      "      ...  \n",
      "23        1\n",
      "27        1\n",
      "24        1\n",
      "20        1\n",
      "33        1\n",
      "Name: Metacritic score, Length: 73, dtype: int64\n",
      "\n",
      "\n",
      "> Descrição:\n",
      "\n",
      "count    71716.000000\n",
      "mean         3.834207\n",
      "std         16.437707\n",
      "min          0.000000\n",
      "25%          0.000000\n",
      "50%          0.000000\n",
      "75%          0.000000\n",
      "max         97.000000\n",
      "Name: Metacritic score, dtype: float64\n",
      "\n"
     ]
    }
   ],
   "source": [
    "print(f\"\\n> Valores únicos presentes:\\n\\n {df_principal['Metacritic score'].unique()}\\n\")\n",
    "\n",
    "print(f\"\\n> Distribuição dos valores :\\n\\n {df_principal['Metacritic score'].value_counts()}\\n\")\n",
    "\n",
    "print(f\"\\n> Descrição:\\n\\n{df_principal['Metacritic score'].describe()}\\n\")"
   ]
  },
  {
   "cell_type": "markdown",
   "metadata": {},
   "source": [
    "### LIMPANDO DATASET\n",
    "\n",
    "-------"
   ]
  },
  {
   "cell_type": "code",
   "execution_count": 71,
   "metadata": {},
   "outputs": [
    {
     "name": "stdout",
     "output_type": "stream",
     "text": [
      "\n",
      "> Tamanho do dataset pós limpeza:\n",
      " (299, 40)\n",
      "\n",
      "\n",
      "> Descrição coluna Metacritic score:\n",
      "\n",
      " count    299.000000\n",
      "mean      76.963211\n",
      "std        7.544186\n",
      "min       48.000000\n",
      "25%       73.000000\n",
      "50%       78.000000\n",
      "75%       82.000000\n",
      "max       97.000000\n",
      "Name: Metacritic score, dtype: float64\n",
      "\n"
     ]
    }
   ],
   "source": [
    "# ---- Retirando alguns valores nulos ----\n",
    "\n",
    "df_principal.dropna(subset=['Tags', 'Metacritic score'], inplace=True)\n",
    "df_principal = df_principal[df_principal['Metacritic score'] != 0]\n",
    "\n",
    "\n",
    "# ---- AMOSTRAGEM para anos > 2019 e < 2023 ----\n",
    "\n",
    "df_principal = df_principal[ df_principal[\"Release date\"].map(lambda date: \n",
    "                                                              ((int(date.split(' ')[-1]) > 2020) and \n",
    "                                                               int(date.split(' ')[-1]) < 2023))== True]\n",
    "df_principal.reset_index(inplace=True, drop=True)\n",
    "\n",
    "# Adicionando coluna ReleaseYear\n",
    "df_principal[\"ReleaseYear\"] = df_principal[\"Release date\"].map(lambda date: (int(date.split(' ')[-1])))\n",
    "\n",
    "print(f\"\\n> Tamanho do dataset pós limpeza:\\n {df_principal.shape}\\n\")\n",
    "\n",
    "print(f\"\\n> Descrição coluna Metacritic score:\\n\\n {df_principal['Metacritic score'].describe()}\\n\")"
   ]
  },
  {
   "cell_type": "code",
   "execution_count": 72,
   "metadata": {},
   "outputs": [
    {
     "data": {
      "text/html": [
       "<div>\n",
       "<style scoped>\n",
       "    .dataframe tbody tr th:only-of-type {\n",
       "        vertical-align: middle;\n",
       "    }\n",
       "\n",
       "    .dataframe tbody tr th {\n",
       "        vertical-align: top;\n",
       "    }\n",
       "\n",
       "    .dataframe thead th {\n",
       "        text-align: right;\n",
       "    }\n",
       "</style>\n",
       "<table border=\"1\" class=\"dataframe\">\n",
       "  <thead>\n",
       "    <tr style=\"text-align: right;\">\n",
       "      <th></th>\n",
       "      <th>AppID</th>\n",
       "      <th>Name</th>\n",
       "      <th>Release date</th>\n",
       "      <th>Estimated owners</th>\n",
       "      <th>Peak CCU</th>\n",
       "      <th>Required age</th>\n",
       "      <th>Price</th>\n",
       "      <th>DLC count</th>\n",
       "      <th>About the game</th>\n",
       "      <th>Supported languages</th>\n",
       "      <th>...</th>\n",
       "      <th>Median playtime forever</th>\n",
       "      <th>Median playtime two weeks</th>\n",
       "      <th>Developers</th>\n",
       "      <th>Publishers</th>\n",
       "      <th>Categories</th>\n",
       "      <th>Genres</th>\n",
       "      <th>Tags</th>\n",
       "      <th>Screenshots</th>\n",
       "      <th>Movies</th>\n",
       "      <th>ReleaseYear</th>\n",
       "    </tr>\n",
       "  </thead>\n",
       "  <tbody>\n",
       "    <tr>\n",
       "      <th>0</th>\n",
       "      <td>1345820</td>\n",
       "      <td>Ragnarock</td>\n",
       "      <td>Jul 15, 2021</td>\n",
       "      <td>50000 - 100000</td>\n",
       "      <td>44</td>\n",
       "      <td>0</td>\n",
       "      <td>16.24</td>\n",
       "      <td>17</td>\n",
       "      <td>Are you ready to rock? Ragnarock is a solo/mul...</td>\n",
       "      <td>['English', 'French', 'Italian', 'German', 'Sp...</td>\n",
       "      <td>...</td>\n",
       "      <td>281</td>\n",
       "      <td>0</td>\n",
       "      <td>WanadevStudio</td>\n",
       "      <td>WanadevStudio</td>\n",
       "      <td>Single-player,Multi-player,PvP,Online PvP,Stea...</td>\n",
       "      <td>Casual,Indie,Racing,Sports</td>\n",
       "      <td>Rhythm,VR,Multiplayer,Music,Racing,PvP,Casual,...</td>\n",
       "      <td>https://cdn.akamai.steamstatic.com/steam/apps/...</td>\n",
       "      <td>http://cdn.akamai.steamstatic.com/steam/apps/2...</td>\n",
       "      <td>2021</td>\n",
       "    </tr>\n",
       "    <tr>\n",
       "      <th>1</th>\n",
       "      <td>821880</td>\n",
       "      <td>Idol Manager</td>\n",
       "      <td>Jul 26, 2021</td>\n",
       "      <td>100000 - 200000</td>\n",
       "      <td>102</td>\n",
       "      <td>0</td>\n",
       "      <td>19.99</td>\n",
       "      <td>0</td>\n",
       "      <td>You take on the role of manager at a small (bu...</td>\n",
       "      <td>['English', 'Japanese', 'Russian', 'Simplified...</td>\n",
       "      <td>...</td>\n",
       "      <td>853</td>\n",
       "      <td>0</td>\n",
       "      <td>Glitch Pitch</td>\n",
       "      <td>PLAYISM</td>\n",
       "      <td>Single-player,Steam Achievements,Steam Worksho...</td>\n",
       "      <td>Indie,Simulation,Strategy</td>\n",
       "      <td>Management,Simulation,Anime,Sexual Content,Str...</td>\n",
       "      <td>https://cdn.akamai.steamstatic.com/steam/apps/...</td>\n",
       "      <td>http://cdn.akamai.steamstatic.com/steam/apps/2...</td>\n",
       "      <td>2021</td>\n",
       "    </tr>\n",
       "  </tbody>\n",
       "</table>\n",
       "<p>2 rows × 40 columns</p>\n",
       "</div>"
      ],
      "text/plain": [
       "     AppID          Name  Release date Estimated owners  Peak CCU  \\\n",
       "0  1345820     Ragnarock  Jul 15, 2021   50000 - 100000        44   \n",
       "1   821880  Idol Manager  Jul 26, 2021  100000 - 200000       102   \n",
       "\n",
       "   Required age  Price  DLC count  \\\n",
       "0             0  16.24         17   \n",
       "1             0  19.99          0   \n",
       "\n",
       "                                      About the game  \\\n",
       "0  Are you ready to rock? Ragnarock is a solo/mul...   \n",
       "1  You take on the role of manager at a small (bu...   \n",
       "\n",
       "                                 Supported languages  ...  \\\n",
       "0  ['English', 'French', 'Italian', 'German', 'Sp...  ...   \n",
       "1  ['English', 'Japanese', 'Russian', 'Simplified...  ...   \n",
       "\n",
       "  Median playtime forever Median playtime two weeks     Developers  \\\n",
       "0                     281                         0  WanadevStudio   \n",
       "1                     853                         0   Glitch Pitch   \n",
       "\n",
       "      Publishers                                         Categories  \\\n",
       "0  WanadevStudio  Single-player,Multi-player,PvP,Online PvP,Stea...   \n",
       "1        PLAYISM  Single-player,Steam Achievements,Steam Worksho...   \n",
       "\n",
       "                       Genres  \\\n",
       "0  Casual,Indie,Racing,Sports   \n",
       "1   Indie,Simulation,Strategy   \n",
       "\n",
       "                                                Tags  \\\n",
       "0  Rhythm,VR,Multiplayer,Music,Racing,PvP,Casual,...   \n",
       "1  Management,Simulation,Anime,Sexual Content,Str...   \n",
       "\n",
       "                                         Screenshots  \\\n",
       "0  https://cdn.akamai.steamstatic.com/steam/apps/...   \n",
       "1  https://cdn.akamai.steamstatic.com/steam/apps/...   \n",
       "\n",
       "                                              Movies  ReleaseYear  \n",
       "0  http://cdn.akamai.steamstatic.com/steam/apps/2...         2021  \n",
       "1  http://cdn.akamai.steamstatic.com/steam/apps/2...         2021  \n",
       "\n",
       "[2 rows x 40 columns]"
      ]
     },
     "execution_count": 72,
     "metadata": {},
     "output_type": "execute_result"
    }
   ],
   "source": [
    "df_principal.head(2)"
   ]
  },
  {
   "cell_type": "markdown",
   "metadata": {},
   "source": [
    "### ADICIONANDO DATASET AUXILIAR\n",
    "\n",
    "---"
   ]
  },
  {
   "cell_type": "code",
   "execution_count": 73,
   "metadata": {},
   "outputs": [
    {
     "data": {
      "text/html": [
       "<div>\n",
       "<style scoped>\n",
       "    .dataframe tbody tr th:only-of-type {\n",
       "        vertical-align: middle;\n",
       "    }\n",
       "\n",
       "    .dataframe tbody tr th {\n",
       "        vertical-align: top;\n",
       "    }\n",
       "\n",
       "    .dataframe thead th {\n",
       "        text-align: right;\n",
       "    }\n",
       "</style>\n",
       "<table border=\"1\" class=\"dataframe\">\n",
       "  <thead>\n",
       "    <tr style=\"text-align: right;\">\n",
       "      <th></th>\n",
       "      <th>Name</th>\n",
       "      <th>Total revenue</th>\n",
       "    </tr>\n",
       "  </thead>\n",
       "  <tbody>\n",
       "    <tr>\n",
       "      <th>0</th>\n",
       "      <td>Ubisoft</td>\n",
       "      <td>2.500000e+09</td>\n",
       "    </tr>\n",
       "    <tr>\n",
       "      <th>1</th>\n",
       "      <td>Valve</td>\n",
       "      <td>2.400000e+09</td>\n",
       "    </tr>\n",
       "    <tr>\n",
       "      <th>2</th>\n",
       "      <td>2K</td>\n",
       "      <td>2.300000e+09</td>\n",
       "    </tr>\n",
       "    <tr>\n",
       "      <th>3</th>\n",
       "      <td>Electronic Arts</td>\n",
       "      <td>2.100000e+09</td>\n",
       "    </tr>\n",
       "    <tr>\n",
       "      <th>4</th>\n",
       "      <td>SEGA</td>\n",
       "      <td>2.100000e+09</td>\n",
       "    </tr>\n",
       "  </tbody>\n",
       "</table>\n",
       "</div>"
      ],
      "text/plain": [
       "              Name  Total revenue\n",
       "0          Ubisoft   2.500000e+09\n",
       "1            Valve   2.400000e+09\n",
       "2               2K   2.300000e+09\n",
       "3  Electronic Arts   2.100000e+09\n",
       "4             SEGA   2.100000e+09"
      ]
     },
     "execution_count": 73,
     "metadata": {},
     "output_type": "execute_result"
    }
   ],
   "source": [
    "df_total_revenue = pd.read_csv('total_revenue.csv')\n",
    "df_total_revenue.head()"
   ]
  },
  {
   "cell_type": "code",
   "execution_count": 74,
   "metadata": {},
   "outputs": [
    {
     "name": "stdout",
     "output_type": "stream",
     "text": [
      "Worldwalker Games LLC,WhisperGames\n",
      "Running With Scissors,Hyperstrange\n",
      "Mixed Realms Pte Ltd,Coconut Island Games\n",
      "Humble Games,WhisperGames\n",
      "Foreign Gnomes,Surefire.Games\n",
      "CAPCOM Co., Ltd.\n",
      "Digixart,Ravenscourt\n",
      "United Label,CI Games\n",
      "Merge Games,Maple Whispering Limited\n",
      "EXOR Studios,Surefire.Games\n",
      "META Publishing,Owlcat Games\n",
      "Modern Wolf,Fractale,WhisperGames\n",
      "FromSoftware Inc.,Bandai Namco Entertainment\n",
      "Games Operators,Modus Games\n",
      "Assemble Entertainment,WhisperGames,Mayflower Entertainment\n",
      "DANGEN Entertainment,Gamera Games,Intragames\n",
      "SEGA,Feral Interactive\n",
      "Fishing Cactus,PID Games,2PGames\n",
      "Sneaky Yak Studio,WhisperGames\n",
      "Movie Games S.A.,HeartBeat Games\n",
      "XSEED Games,Marvelous USA, Inc.,Marvelous\n",
      "Canada Media Fund,Ontario Creates,The Games Institute\n",
      "JanduSoft,Game Seer Ventures\n",
      "M-Theory,Oddboy\n",
      "Ravenscourt,Maple Whispering Limited\n",
      "Warner Bros. Games,Warner Bros. Interactive Entertainment\n",
      "Future Friends Games,StudioInkyfox\n",
      "Whitethorn Games,Gamious\n",
      "Rose City Games,wiip\n",
      "Freedom Games,Maple Whispering Limited\n",
      "Maze Theory,Another Indie\n",
      "Whitethorn Games,WhisperGames\n",
      "HypeTrain Digital,RedRuins Softworks\n"
     ]
    }
   ],
   "source": [
    "ausentes = []\n",
    "presentes = []\n",
    "\n",
    "# Verificando se cada valor da coluna do df1 está presente no df2\n",
    "for publi in df_principal['Publishers'].tolist():\n",
    "    if publi.lower() not in [name.lower() for name in df_total_revenue[\"Name\"].tolist()]:\n",
    "        if publi.lower() not in [name.lower() for name in ausentes]:\n",
    "            print(publi)\n",
    "            ausentes.append(publi)\n",
    "    else:\n",
    "        if publi.lower() not in [name.lower() for name in presentes]:\n",
    "            presentes.append(publi)   "
   ]
  },
  {
   "cell_type": "markdown",
   "metadata": {},
   "source": [
    "#### Vamos considerar que, quando há mais de um publisher por jogo, o valor a ser inserido na nova coluna \"Total revenue\" será a soma do total revenue de cada publisher."
   ]
  },
  {
   "cell_type": "code",
   "execution_count": 75,
   "metadata": {},
   "outputs": [],
   "source": [
    " # Verificar se cada valor da coluna 'Publishers' do df_principal está presente no df_total_revenue\n",
    "for index, row in df_principal.iterrows():\n",
    "    publishers = row['Publishers']\n",
    "    total_revenue = 0\n",
    "    \n",
    "    # Verificar se o valor de 'publishers' está presente na coluna 'Name' do df_total_revenue\n",
    "    for name in publishers.split(','):\n",
    "        mask = df_total_revenue['Name'].str.lower() == name.lower().strip()\n",
    "        revenue = df_total_revenue.loc[mask, 'Total revenue'].sum()\n",
    "        total_revenue += revenue\n",
    "    \n",
    "    # Inserir o valor total de receita na coluna 'Total revenue' do df_principal\n",
    "    df_principal.at[index, 'Total revenue'] = total_revenue"
   ]
  },
  {
   "cell_type": "code",
   "execution_count": 76,
   "metadata": {},
   "outputs": [
    {
     "data": {
      "text/html": [
       "<div>\n",
       "<style scoped>\n",
       "    .dataframe tbody tr th:only-of-type {\n",
       "        vertical-align: middle;\n",
       "    }\n",
       "\n",
       "    .dataframe tbody tr th {\n",
       "        vertical-align: top;\n",
       "    }\n",
       "\n",
       "    .dataframe thead th {\n",
       "        text-align: right;\n",
       "    }\n",
       "</style>\n",
       "<table border=\"1\" class=\"dataframe\">\n",
       "  <thead>\n",
       "    <tr style=\"text-align: right;\">\n",
       "      <th></th>\n",
       "      <th>AppID</th>\n",
       "      <th>Name</th>\n",
       "      <th>Release date</th>\n",
       "      <th>Estimated owners</th>\n",
       "      <th>Peak CCU</th>\n",
       "      <th>Required age</th>\n",
       "      <th>Price</th>\n",
       "      <th>DLC count</th>\n",
       "      <th>About the game</th>\n",
       "      <th>Supported languages</th>\n",
       "      <th>...</th>\n",
       "      <th>Median playtime two weeks</th>\n",
       "      <th>Developers</th>\n",
       "      <th>Publishers</th>\n",
       "      <th>Categories</th>\n",
       "      <th>Genres</th>\n",
       "      <th>Tags</th>\n",
       "      <th>Screenshots</th>\n",
       "      <th>Movies</th>\n",
       "      <th>ReleaseYear</th>\n",
       "      <th>Total revenue</th>\n",
       "    </tr>\n",
       "  </thead>\n",
       "  <tbody>\n",
       "    <tr>\n",
       "      <th>0</th>\n",
       "      <td>1345820</td>\n",
       "      <td>Ragnarock</td>\n",
       "      <td>Jul 15, 2021</td>\n",
       "      <td>50000 - 100000</td>\n",
       "      <td>44</td>\n",
       "      <td>0</td>\n",
       "      <td>16.24</td>\n",
       "      <td>17</td>\n",
       "      <td>Are you ready to rock? Ragnarock is a solo/mul...</td>\n",
       "      <td>['English', 'French', 'Italian', 'German', 'Sp...</td>\n",
       "      <td>...</td>\n",
       "      <td>0</td>\n",
       "      <td>WanadevStudio</td>\n",
       "      <td>WanadevStudio</td>\n",
       "      <td>Single-player,Multi-player,PvP,Online PvP,Stea...</td>\n",
       "      <td>Casual,Indie,Racing,Sports</td>\n",
       "      <td>Rhythm,VR,Multiplayer,Music,Racing,PvP,Casual,...</td>\n",
       "      <td>https://cdn.akamai.steamstatic.com/steam/apps/...</td>\n",
       "      <td>http://cdn.akamai.steamstatic.com/steam/apps/2...</td>\n",
       "      <td>2021</td>\n",
       "      <td>1200000.0</td>\n",
       "    </tr>\n",
       "    <tr>\n",
       "      <th>1</th>\n",
       "      <td>821880</td>\n",
       "      <td>Idol Manager</td>\n",
       "      <td>Jul 26, 2021</td>\n",
       "      <td>100000 - 200000</td>\n",
       "      <td>102</td>\n",
       "      <td>0</td>\n",
       "      <td>19.99</td>\n",
       "      <td>0</td>\n",
       "      <td>You take on the role of manager at a small (bu...</td>\n",
       "      <td>['English', 'Japanese', 'Russian', 'Simplified...</td>\n",
       "      <td>...</td>\n",
       "      <td>0</td>\n",
       "      <td>Glitch Pitch</td>\n",
       "      <td>PLAYISM</td>\n",
       "      <td>Single-player,Steam Achievements,Steam Worksho...</td>\n",
       "      <td>Indie,Simulation,Strategy</td>\n",
       "      <td>Management,Simulation,Anime,Sexual Content,Str...</td>\n",
       "      <td>https://cdn.akamai.steamstatic.com/steam/apps/...</td>\n",
       "      <td>http://cdn.akamai.steamstatic.com/steam/apps/2...</td>\n",
       "      <td>2021</td>\n",
       "      <td>58600000.0</td>\n",
       "    </tr>\n",
       "  </tbody>\n",
       "</table>\n",
       "<p>2 rows × 41 columns</p>\n",
       "</div>"
      ],
      "text/plain": [
       "     AppID          Name  Release date Estimated owners  Peak CCU  \\\n",
       "0  1345820     Ragnarock  Jul 15, 2021   50000 - 100000        44   \n",
       "1   821880  Idol Manager  Jul 26, 2021  100000 - 200000       102   \n",
       "\n",
       "   Required age  Price  DLC count  \\\n",
       "0             0  16.24         17   \n",
       "1             0  19.99          0   \n",
       "\n",
       "                                      About the game  \\\n",
       "0  Are you ready to rock? Ragnarock is a solo/mul...   \n",
       "1  You take on the role of manager at a small (bu...   \n",
       "\n",
       "                                 Supported languages  ...  \\\n",
       "0  ['English', 'French', 'Italian', 'German', 'Sp...  ...   \n",
       "1  ['English', 'Japanese', 'Russian', 'Simplified...  ...   \n",
       "\n",
       "  Median playtime two weeks     Developers     Publishers  \\\n",
       "0                         0  WanadevStudio  WanadevStudio   \n",
       "1                         0   Glitch Pitch        PLAYISM   \n",
       "\n",
       "                                          Categories  \\\n",
       "0  Single-player,Multi-player,PvP,Online PvP,Stea...   \n",
       "1  Single-player,Steam Achievements,Steam Worksho...   \n",
       "\n",
       "                       Genres  \\\n",
       "0  Casual,Indie,Racing,Sports   \n",
       "1   Indie,Simulation,Strategy   \n",
       "\n",
       "                                                Tags  \\\n",
       "0  Rhythm,VR,Multiplayer,Music,Racing,PvP,Casual,...   \n",
       "1  Management,Simulation,Anime,Sexual Content,Str...   \n",
       "\n",
       "                                         Screenshots  \\\n",
       "0  https://cdn.akamai.steamstatic.com/steam/apps/...   \n",
       "1  https://cdn.akamai.steamstatic.com/steam/apps/...   \n",
       "\n",
       "                                              Movies  ReleaseYear  \\\n",
       "0  http://cdn.akamai.steamstatic.com/steam/apps/2...         2021   \n",
       "1  http://cdn.akamai.steamstatic.com/steam/apps/2...         2021   \n",
       "\n",
       "   Total revenue  \n",
       "0      1200000.0  \n",
       "1     58600000.0  \n",
       "\n",
       "[2 rows x 41 columns]"
      ]
     },
     "execution_count": 76,
     "metadata": {},
     "output_type": "execute_result"
    }
   ],
   "source": [
    "# ------ Dataset original com a adição do dataset auxiliar ------\n",
    "df_principal.head(2)"
   ]
  },
  {
   "cell_type": "markdown",
   "metadata": {},
   "source": [
    "### Tags\n",
    "\n",
    "-------"
   ]
  },
  {
   "cell_type": "code",
   "execution_count": 77,
   "metadata": {},
   "outputs": [
    {
     "name": "stdout",
     "output_type": "stream",
     "text": [
      "\n",
      "> dataset[Tags] como lista:\n",
      "\n",
      "0      [Rhythm, VR, Multiplayer, Music, Racing, PvP, ...\n",
      "1      [Management, Simulation, Anime, Sexual Content...\n",
      "2      [Casual, Simulation, Strategy, Indie, Manageme...\n",
      "3      [Puzzle, Difficult, Indie, Singleplayer, Sokob...\n",
      "4      [RPG, Choices Matter, Story Rich, Detective, T...\n",
      "                             ...                        \n",
      "294    [Strategy, Post-apocalyptic, Survival, Colony ...\n",
      "295    [Atmospheric, Resource Management, Simulation,...\n",
      "296    [Metroidvania, Female Protagonist, Shoot 'Em U...\n",
      "297    [Colony Sim, Indie, Pixel Graphics, Simulation...\n",
      "298    [Indie, Rhythm, Action, Hand-drawn, Colorful, ...\n",
      "Name: Tags, Length: 299, dtype: object\n"
     ]
    }
   ],
   "source": [
    "# ---- Tranforma a coluna de Tags em lista ----\n",
    "\n",
    "df_principal['Tags'] = df_principal.Tags.apply(lambda x: str(x).split(','))\n",
    "print(f\"\\n> dataset[Tags] como lista:\\n\\n{df_principal['Tags']}\")\n"
   ]
  },
  {
   "cell_type": "markdown",
   "metadata": {},
   "source": [
    "### Montando os Nós da Rede\n",
    "\n",
    "-------"
   ]
  },
  {
   "cell_type": "code",
   "execution_count": 78,
   "metadata": {},
   "outputs": [
    {
     "data": {
      "text/html": [
       "<div>\n",
       "<style scoped>\n",
       "    .dataframe tbody tr th:only-of-type {\n",
       "        vertical-align: middle;\n",
       "    }\n",
       "\n",
       "    .dataframe tbody tr th {\n",
       "        vertical-align: top;\n",
       "    }\n",
       "\n",
       "    .dataframe thead th {\n",
       "        text-align: right;\n",
       "    }\n",
       "</style>\n",
       "<table border=\"1\" class=\"dataframe\">\n",
       "  <thead>\n",
       "    <tr style=\"text-align: right;\">\n",
       "      <th></th>\n",
       "      <th>id</th>\n",
       "      <th>Tags</th>\n",
       "      <th>MetacriticScore</th>\n",
       "      <th>TotalRevenue</th>\n",
       "      <th>ReleaseYear</th>\n",
       "    </tr>\n",
       "  </thead>\n",
       "  <tbody>\n",
       "    <tr>\n",
       "      <th>0</th>\n",
       "      <td>0</td>\n",
       "      <td>[Rhythm, VR, Multiplayer, Music, Racing, PvP, ...</td>\n",
       "      <td>87</td>\n",
       "      <td>1.200000e+06</td>\n",
       "      <td>2021</td>\n",
       "    </tr>\n",
       "    <tr>\n",
       "      <th>1</th>\n",
       "      <td>1</td>\n",
       "      <td>[Management, Simulation, Anime, Sexual Content...</td>\n",
       "      <td>73</td>\n",
       "      <td>5.860000e+07</td>\n",
       "      <td>2021</td>\n",
       "    </tr>\n",
       "    <tr>\n",
       "      <th>2</th>\n",
       "      <td>2</td>\n",
       "      <td>[Casual, Simulation, Strategy, Indie, Manageme...</td>\n",
       "      <td>87</td>\n",
       "      <td>9.100000e+06</td>\n",
       "      <td>2021</td>\n",
       "    </tr>\n",
       "    <tr>\n",
       "      <th>3</th>\n",
       "      <td>3</td>\n",
       "      <td>[Puzzle, Difficult, Indie, Singleplayer, Sokob...</td>\n",
       "      <td>76</td>\n",
       "      <td>2.610500e+01</td>\n",
       "      <td>2021</td>\n",
       "    </tr>\n",
       "    <tr>\n",
       "      <th>4</th>\n",
       "      <td>4</td>\n",
       "      <td>[RPG, Choices Matter, Story Rich, Detective, T...</td>\n",
       "      <td>67</td>\n",
       "      <td>2.640000e+07</td>\n",
       "      <td>2021</td>\n",
       "    </tr>\n",
       "    <tr>\n",
       "      <th>...</th>\n",
       "      <td>...</td>\n",
       "      <td>...</td>\n",
       "      <td>...</td>\n",
       "      <td>...</td>\n",
       "      <td>...</td>\n",
       "    </tr>\n",
       "    <tr>\n",
       "      <th>294</th>\n",
       "      <td>294</td>\n",
       "      <td>[Strategy, Post-apocalyptic, Survival, Colony ...</td>\n",
       "      <td>76</td>\n",
       "      <td>3.120000e+07</td>\n",
       "      <td>2022</td>\n",
       "    </tr>\n",
       "    <tr>\n",
       "      <th>295</th>\n",
       "      <td>295</td>\n",
       "      <td>[Atmospheric, Resource Management, Simulation,...</td>\n",
       "      <td>78</td>\n",
       "      <td>4.540000e+07</td>\n",
       "      <td>2022</td>\n",
       "    </tr>\n",
       "    <tr>\n",
       "      <th>296</th>\n",
       "      <td>296</td>\n",
       "      <td>[Metroidvania, Female Protagonist, Shoot 'Em U...</td>\n",
       "      <td>82</td>\n",
       "      <td>2.238000e+08</td>\n",
       "      <td>2022</td>\n",
       "    </tr>\n",
       "    <tr>\n",
       "      <th>297</th>\n",
       "      <td>297</td>\n",
       "      <td>[Colony Sim, Indie, Pixel Graphics, Simulation...</td>\n",
       "      <td>93</td>\n",
       "      <td>2.140000e+07</td>\n",
       "      <td>2022</td>\n",
       "    </tr>\n",
       "    <tr>\n",
       "      <th>298</th>\n",
       "      <td>298</td>\n",
       "      <td>[Indie, Rhythm, Action, Hand-drawn, Colorful, ...</td>\n",
       "      <td>81</td>\n",
       "      <td>8.810000e+05</td>\n",
       "      <td>2022</td>\n",
       "    </tr>\n",
       "  </tbody>\n",
       "</table>\n",
       "<p>299 rows × 5 columns</p>\n",
       "</div>"
      ],
      "text/plain": [
       "      id                                               Tags  MetacriticScore  \\\n",
       "0      0  [Rhythm, VR, Multiplayer, Music, Racing, PvP, ...               87   \n",
       "1      1  [Management, Simulation, Anime, Sexual Content...               73   \n",
       "2      2  [Casual, Simulation, Strategy, Indie, Manageme...               87   \n",
       "3      3  [Puzzle, Difficult, Indie, Singleplayer, Sokob...               76   \n",
       "4      4  [RPG, Choices Matter, Story Rich, Detective, T...               67   \n",
       "..   ...                                                ...              ...   \n",
       "294  294  [Strategy, Post-apocalyptic, Survival, Colony ...               76   \n",
       "295  295  [Atmospheric, Resource Management, Simulation,...               78   \n",
       "296  296  [Metroidvania, Female Protagonist, Shoot 'Em U...               82   \n",
       "297  297  [Colony Sim, Indie, Pixel Graphics, Simulation...               93   \n",
       "298  298  [Indie, Rhythm, Action, Hand-drawn, Colorful, ...               81   \n",
       "\n",
       "     TotalRevenue  ReleaseYear  \n",
       "0    1.200000e+06         2021  \n",
       "1    5.860000e+07         2021  \n",
       "2    9.100000e+06         2021  \n",
       "3    2.610500e+01         2021  \n",
       "4    2.640000e+07         2021  \n",
       "..            ...          ...  \n",
       "294  3.120000e+07         2022  \n",
       "295  4.540000e+07         2022  \n",
       "296  2.238000e+08         2022  \n",
       "297  2.140000e+07         2022  \n",
       "298  8.810000e+05         2022  \n",
       "\n",
       "[299 rows x 5 columns]"
      ]
     },
     "execution_count": 78,
     "metadata": {},
     "output_type": "execute_result"
    }
   ],
   "source": [
    "id = 0\n",
    "unique_name_values = df_principal['Name'].unique().tolist()\n",
    "node_data = []\n",
    "\n",
    "for _ , linha in  df_principal.iterrows():\n",
    "    \n",
    "    if(linha['Name'] in unique_name_values):\n",
    "        node_data.append([id ,linha['Tags'], linha['Metacritic score'] , linha['Total revenue'], linha['ReleaseYear']])\n",
    "        id+=1\n",
    "\n",
    "df_nodes = pd.DataFrame(node_data,columns=['id','Tags', 'MetacriticScore' , 'TotalRevenue' , 'ReleaseYear']) \n",
    "df_nodes"
   ]
  },
  {
   "cell_type": "code",
   "execution_count": 79,
   "metadata": {},
   "outputs": [],
   "source": [
    "# ---- Criando os nós e adiciona atributos aos nós ----\n",
    "\n",
    "g.add_vp('MetacriticScore')\n",
    "\n",
    "aux = []\n",
    "for _, infos in df_nodes.iterrows():\n",
    "    \n",
    "    #Adiciona vértices:\n",
    "    infos = infos.astype(object)\n",
    "    g.add_vertex(infos['id'])\n",
    "    \n",
    "    # Adiciona atributos:\n",
    "    vertice = g.get_vertex(infos['id'])\n",
    "    vertice['MetacriticScore'] = infos['MetacriticScore']"
   ]
  },
  {
   "cell_type": "markdown",
   "metadata": {},
   "source": [
    "### Montando as Arestas da Rede\n",
    "\n",
    "-------"
   ]
  },
  {
   "cell_type": "code",
   "execution_count": 80,
   "metadata": {},
   "outputs": [],
   "source": [
    "def count_tags(lista_tags_1, lista_tags_2):\n",
    "    '''\n",
    "    Retorna o número de tags em comum entre duas listas\n",
    "    '''    \n",
    "    count_common_tags = 0\n",
    "        \n",
    "    for tag1 in lista_tags_1:\n",
    "        for tag2 in lista_tags_2:\n",
    "            \n",
    "            if(tag1 == tag2):\n",
    "                count_common_tags+=1\n",
    "    \n",
    "    return count_common_tags"
   ]
  },
  {
   "cell_type": "code",
   "execution_count": 81,
   "metadata": {},
   "outputs": [
    {
     "data": {
      "text/html": [
       "<div>\n",
       "<style scoped>\n",
       "    .dataframe tbody tr th:only-of-type {\n",
       "        vertical-align: middle;\n",
       "    }\n",
       "\n",
       "    .dataframe tbody tr th {\n",
       "        vertical-align: top;\n",
       "    }\n",
       "\n",
       "    .dataframe thead th {\n",
       "        text-align: right;\n",
       "    }\n",
       "</style>\n",
       "<table border=\"1\" class=\"dataframe\">\n",
       "  <thead>\n",
       "    <tr style=\"text-align: right;\">\n",
       "      <th></th>\n",
       "      <th>node_1</th>\n",
       "      <th>node_2</th>\n",
       "      <th>Tags_em_Comum</th>\n",
       "    </tr>\n",
       "  </thead>\n",
       "  <tbody>\n",
       "    <tr>\n",
       "      <th>0</th>\n",
       "      <td>91</td>\n",
       "      <td>205</td>\n",
       "      <td>9</td>\n",
       "    </tr>\n",
       "    <tr>\n",
       "      <th>1</th>\n",
       "      <td>42</td>\n",
       "      <td>287</td>\n",
       "      <td>2</td>\n",
       "    </tr>\n",
       "    <tr>\n",
       "      <th>2</th>\n",
       "      <td>148</td>\n",
       "      <td>199</td>\n",
       "      <td>1</td>\n",
       "    </tr>\n",
       "    <tr>\n",
       "      <th>3</th>\n",
       "      <td>103</td>\n",
       "      <td>166</td>\n",
       "      <td>5</td>\n",
       "    </tr>\n",
       "    <tr>\n",
       "      <th>4</th>\n",
       "      <td>107</td>\n",
       "      <td>236</td>\n",
       "      <td>5</td>\n",
       "    </tr>\n",
       "    <tr>\n",
       "      <th>...</th>\n",
       "      <td>...</td>\n",
       "      <td>...</td>\n",
       "      <td>...</td>\n",
       "    </tr>\n",
       "    <tr>\n",
       "      <th>44546</th>\n",
       "      <td>18</td>\n",
       "      <td>267</td>\n",
       "      <td>1</td>\n",
       "    </tr>\n",
       "    <tr>\n",
       "      <th>44547</th>\n",
       "      <td>132</td>\n",
       "      <td>231</td>\n",
       "      <td>1</td>\n",
       "    </tr>\n",
       "    <tr>\n",
       "      <th>44548</th>\n",
       "      <td>104</td>\n",
       "      <td>187</td>\n",
       "      <td>4</td>\n",
       "    </tr>\n",
       "    <tr>\n",
       "      <th>44549</th>\n",
       "      <td>88</td>\n",
       "      <td>98</td>\n",
       "      <td>3</td>\n",
       "    </tr>\n",
       "    <tr>\n",
       "      <th>44550</th>\n",
       "      <td>88</td>\n",
       "      <td>273</td>\n",
       "      <td>4</td>\n",
       "    </tr>\n",
       "  </tbody>\n",
       "</table>\n",
       "<p>44551 rows × 3 columns</p>\n",
       "</div>"
      ],
      "text/plain": [
       "       node_1  node_2  Tags_em_Comum\n",
       "0          91     205              9\n",
       "1          42     287              2\n",
       "2         148     199              1\n",
       "3         103     166              5\n",
       "4         107     236              5\n",
       "...       ...     ...            ...\n",
       "44546      18     267              1\n",
       "44547     132     231              1\n",
       "44548     104     187              4\n",
       "44549      88      98              3\n",
       "44550      88     273              4\n",
       "\n",
       "[44551 rows x 3 columns]"
      ]
     },
     "execution_count": 81,
     "metadata": {},
     "output_type": "execute_result"
    }
   ],
   "source": [
    "node_relation = set()\n",
    "data_relation = set()\n",
    "\n",
    "for _, linha1 in df_nodes.iterrows():\n",
    "    for _,linha2 in df_nodes.iterrows():\n",
    "        \n",
    "        proximidade = 0\n",
    "        \n",
    "        if(( (linha1['id'] , linha2['id']) not in node_relation) and \n",
    "           ( (linha2['id'] , linha1['id']) not in node_relation) and (linha2['id'] != linha1['id'])):\n",
    "            \n",
    "            # Calculando TAGS em comum\n",
    "            proximidade = count_tags(linha1['Tags'], linha2['Tags'])\n",
    "            \n",
    "            # Adiciona valor na relação de nós:\n",
    "            node_relation.add((linha1['id'] , linha2['id']))\n",
    "        \n",
    "            data_relation.add((linha1['id'], linha2['id'], proximidade))\n",
    "            \n",
    "df_relation = pd.DataFrame(data_relation,columns=['node_1', 'node_2' , 'Tags_em_Comum'] ) \n",
    "df_relation"
   ]
  },
  {
   "cell_type": "markdown",
   "metadata": {},
   "source": [
    "#### Threadhold para a construção das Arestas"
   ]
  },
  {
   "cell_type": "code",
   "execution_count": 82,
   "metadata": {},
   "outputs": [
    {
     "data": {
      "image/png": "[encoded data removed]",
      "text/plain": [
       "<Figure size 640x480 with 1 Axes>"
      ]
     },
     "metadata": {},
     "output_type": "display_data"
    }
   ],
   "source": [
    "df_relation['Tags_em_Comum'][df_relation['Tags_em_Comum'] != 0].value_counts().plot(kind='bar');"
   ]
  },
  {
   "cell_type": "code",
   "execution_count": 83,
   "metadata": {},
   "outputs": [
    {
     "name": "stdout",
     "output_type": "stream",
     "text": [
      "\n",
      "> Threshold num_tags para arestas :  4\n",
      "\n"
     ]
    }
   ],
   "source": [
    "# ---- Escolhendo threshold para a criação das arestas a depender da distribuição ----\n",
    "\n",
    "list_num_tags = df_relation['Tags_em_Comum'][df_relation['Tags_em_Comum'] != 0].value_counts().index\n",
    "lista_num_jogos = df_relation['Tags_em_Comum'][df_relation['Tags_em_Comum'] != 0].value_counts().values\n",
    "\n",
    "def media_ponderada(lista_pesos , lista_valor):\n",
    "    \n",
    "    nominador = 0\n",
    "    denominador = sum(lista_pesos)\n",
    "    \n",
    "    for num_tags , num_jogos in zip(list_num_tags , lista_num_jogos):\n",
    "        nominador += num_tags*num_jogos\n",
    "        \n",
    "    return nominador/denominador\n",
    "        \n",
    "threshold_proximidade = media_ponderada(lista_num_jogos , list_num_tags)\n",
    "\n",
    "print(f\"\\n> Threshold num_tags para arestas :  {round(threshold_proximidade)}\\n\")"
   ]
  },
  {
   "cell_type": "code",
   "execution_count": 84,
   "metadata": {},
   "outputs": [],
   "source": [
    "# ---- Criando arestas ----\n",
    "\n",
    "for _ , relacao in df_relation.iterrows():\n",
    "    \n",
    "    if(relacao['Tags_em_Comum'] > threshold_proximidade):\n",
    "        g.add_edge(relacao['node_1'], relacao['node_2'])"
   ]
  },
  {
   "cell_type": "markdown",
   "metadata": {},
   "source": [
    "### Métricas da Rede\n",
    "\n",
    "-------"
   ]
  },
  {
   "cell_type": "code",
   "execution_count": 85,
   "metadata": {},
   "outputs": [
    {
     "name": "stdout",
     "output_type": "stream",
     "text": [
      "\n",
      " > Número de vértices de g: 299\n",
      "\n",
      " > Número de arestas de g: 22331\n",
      "\n",
      " > Densidade: 0.5012457632825301\n"
     ]
    }
   ],
   "source": [
    "# ---- Número de arestas, nós e densidade ----\n",
    "\n",
    "n = g.num_vertices()\n",
    "m = g.num_edges()\n",
    "\n",
    "if g.is_directed():\n",
    "    max_edges = n * (n - 1)\n",
    "else:\n",
    "    max_edges = n * (n - 1) // 2\n",
    "d = m / max_edges\n",
    "\n",
    "print('\\n > Número de vértices de g:', n )\n",
    "print('\\n > Número de arestas de g:', m)\n",
    "print('\\n > Densidade:', d)"
   ]
  },
  {
   "cell_type": "markdown",
   "metadata": {},
   "source": [
    "### Calculando Degree\n",
    "\n",
    "-------"
   ]
  },
  {
   "cell_type": "code",
   "execution_count": 86,
   "metadata": {},
   "outputs": [
    {
     "data": {
      "text/plain": [
       "count    299.000000\n",
       "mean     149.371237\n",
       "std       53.975628\n",
       "min        2.000000\n",
       "25%      108.000000\n",
       "50%      159.000000\n",
       "75%      193.500000\n",
       "max      252.000000\n",
       "Name: degree, dtype: float64"
      ]
     },
     "execution_count": 86,
     "metadata": {},
     "output_type": "execute_result"
    }
   ],
   "source": [
    "# Propriedade dos vértices\n",
    "data = gt_data(g)\n",
    "\n",
    "# Calculando degrees\n",
    "in_degrees = []\n",
    "out_degrees = []\n",
    "degrees = []\n",
    "\n",
    "for v in g.all_vertices():\n",
    "    in_degrees.append(v.in_degree())\n",
    "for v in g.all_vertices():\n",
    "    out_degrees.append(v.out_degree())\n",
    "for v in g.all_vertices():\n",
    "    degrees.append(v.total_degree())\n",
    "    \n",
    "data['in_degree'] = in_degrees\n",
    "data['out_degree'] = out_degrees\n",
    "data['degree'] = degrees\n",
    "data['degree'].describe()"
   ]
  },
  {
   "cell_type": "code",
   "execution_count": 87,
   "metadata": {},
   "outputs": [
    {
     "data": {
      "text/plain": [
       "<AxesSubplot: xlabel='degree', ylabel='Count'>"
      ]
     },
     "execution_count": 87,
     "metadata": {},
     "output_type": "execute_result"
    },
    {
     "data": {
      "image/png": "[encoded data removed]",
      "text/plain": [
       "<Figure size 640x480 with 1 Axes>"
      ]
     },
     "metadata": {},
     "output_type": "display_data"
    }
   ],
   "source": [
    "sns.histplot(data['degree'])"
   ]
  },
  {
   "cell_type": "markdown",
   "metadata": {},
   "source": [
    "### Grafo\n",
    "\n",
    "-------"
   ]
  },
  {
   "cell_type": "code",
   "execution_count": 92,
   "metadata": {
    "collapsed": true
   },
   "outputs": [
    {
     "data": {
      "text/html": [
       "\n",
       "        <div id=\"7KEirJ6Du3QUrecoVSpuUF\"></div>\n",
       "        <script>netpixi.render('7KEirJ6Du3QUrecoVSpuUF', '/projeto.net.gz', 1.7777777777777777, true, false, false);</script>\n",
       "    "
      ],
      "text/plain": [
       "<IPython.core.display.HTML object>"
      ]
     },
     "metadata": {},
     "output_type": "display_data"
    }
   ],
   "source": [
    "# ----- Salva e renderiza grafo -----\n",
    "gt_save(g, 'projeto.net.gz')\n",
    "\n",
    "r = netpixi.render('/projeto.net.gz')"
   ]
  },
  {
   "cell_type": "code",
   "execution_count": 93,
   "metadata": {
    "collapsed": true
   },
   "outputs": [
    {
     "data": {
      "text/html": [
       "\n",
       "        <div id=\"gFGaBMTAQdGaHJJQshijMZ\"></div>\n",
       "        <script>netpixi.render('gFGaBMTAQdGaHJJQshijMZ', 'projeto_frunch.net.gz', 1.7777777777777777, true, false, false);</script>\n",
       "    "
      ],
      "text/plain": [
       "<IPython.core.display.HTML object>"
      ]
     },
     "metadata": {},
     "output_type": "display_data"
    }
   ],
   "source": [
    "# ----- Algoritmo Reingold Fruchterm -----\n",
    "m = gt_draw.fruchterman_reingold_layout(g)\n",
    "gt_move(g, m)\n",
    "gt_save(g, 'projeto_frunch.net.gz')\n",
    "r = netpixi.render('projeto_frunch.net.gz');"
   ]
  },
  {
   "cell_type": "code",
   "execution_count": 95,
   "metadata": {},
   "outputs": [
    {
     "data": {
      "text/html": [
       "\n",
       "        <div id=\"G9imDjBknzovvemZ8y742C\"></div>\n",
       "        <script>netpixi.call('G9imDjBknzovvemZ8y742C', 'gFGaBMTAQdGaHJJQshijMZ', 'changeGraph', 'eyJpZCI6IDAsICJ0eXBlIjogInZlcnRleCIsICJwcm9wcyI6IHsiY29sb3IiOiA2NTI4MH19Cg==');</script>\n",
       "    "
      ],
      "text/plain": [
       "<IPython.core.display.HTML object>"
      ]
     },
     "metadata": {},
     "output_type": "display_data"
    },
    {
     "data": {
      "text/html": [
       "\n",
       "        <div id=\"oW6tZgtiv3bskckaEQTNYK\"></div>\n",
       "        <script>netpixi.call('oW6tZgtiv3bskckaEQTNYK', 'gFGaBMTAQdGaHJJQshijMZ', 'changeGraph', 'eyJpZCI6IDEsICJ0eXBlIjogInZlcnRleCIsICJwcm9wcyI6IHsiY29sb3IiOiA2NTI4MH19Cg==');</script>\n",
       "    "
      ],
      "text/plain": [
       "<IPython.core.display.HTML object>"
      ]
     },
     "metadata": {},
     "output_type": "display_data"
    },
    {
     "data": {
      "text/html": [
       "\n",
       "        <div id=\"WGDZxdfWZc4EBdtSpvV3p5\"></div>\n",
       "        <script>netpixi.call('WGDZxdfWZc4EBdtSpvV3p5', 'gFGaBMTAQdGaHJJQshijMZ', 'changeGraph', 'eyJpZCI6IDIsICJ0eXBlIjogInZlcnRleCIsICJwcm9wcyI6IHsiY29sb3IiOiA2NTI4MH19Cg==');</script>\n",
       "    "
      ],
      "text/plain": [
       "<IPython.core.display.HTML object>"
      ]
     },
     "metadata": {},
     "output_type": "display_data"
    },
    {
     "data": {
      "text/html": [
       "\n",
       "        <div id=\"43Vw6ukZAtYCgwhQRoaWuS\"></div>\n",
       "        <script>netpixi.call('43Vw6ukZAtYCgwhQRoaWuS', 'gFGaBMTAQdGaHJJQshijMZ', 'changeGraph', 'eyJpZCI6IDMsICJ0eXBlIjogInZlcnRleCIsICJwcm9wcyI6IHsiY29sb3IiOiA2NTI4MH19Cg==');</script>\n",
       "    "
      ],
      "text/plain": [
       "<IPython.core.display.HTML object>"
      ]
     },
     "metadata": {},
     "output_type": "display_data"
    },
    {
     "data": {
      "text/html": [
       "\n",
       "        <div id=\"2H8qcpHiwBVc5ZfsNrKswX\"></div>\n",
       "        <script>netpixi.call('2H8qcpHiwBVc5ZfsNrKswX', 'gFGaBMTAQdGaHJJQshijMZ', 'changeGraph', 'eyJpZCI6IDQsICJ0eXBlIjogInZlcnRleCIsICJwcm9wcyI6IHsiY29sb3IiOiAxNjcxMTY4MH19Cg==');</script>\n",
       "    "
      ],
      "text/plain": [
       "<IPython.core.display.HTML object>"
      ]
     },
     "metadata": {},
     "output_type": "display_data"
    },
    {
     "data": {
      "text/html": [
       "\n",
       "        <div id=\"UrUuUxeR7WiEtBgwevUNQ8\"></div>\n",
       "        <script>netpixi.call('UrUuUxeR7WiEtBgwevUNQ8', 'gFGaBMTAQdGaHJJQshijMZ', 'changeGraph', 'eyJpZCI6IDUsICJ0eXBlIjogInZlcnRleCIsICJwcm9wcyI6IHsiY29sb3IiOiA2NTI4MH19Cg==');</script>\n",
       "    "
      ],
      "text/plain": [
       "<IPython.core.display.HTML object>"
      ]
     },
     "metadata": {},
     "output_type": "display_data"
    },
    {
     "data": {
      "text/html": [
       "\n",
       "        <div id=\"KGF73byf46XLb6QyofVmeK\"></div>\n",
       "        <script>netpixi.call('KGF73byf46XLb6QyofVmeK', 'gFGaBMTAQdGaHJJQshijMZ', 'changeGraph', 'eyJpZCI6IDYsICJ0eXBlIjogInZlcnRleCIsICJwcm9wcyI6IHsiY29sb3IiOiA2NTI4MH19Cg==');</script>\n",
       "    "
      ],
      "text/plain": [
       "<IPython.core.display.HTML object>"
      ]
     },
     "metadata": {},
     "output_type": "display_data"
    },
    {
     "data": {
      "text/html": [
       "\n",
       "        <div id=\"WyAe58Xnh3WvR46Ugb2WGM\"></div>\n",
       "        <script>netpixi.call('WyAe58Xnh3WvR46Ugb2WGM', 'gFGaBMTAQdGaHJJQshijMZ', 'changeGraph', 'eyJpZCI6IDcsICJ0eXBlIjogInZlcnRleCIsICJwcm9wcyI6IHsiY29sb3IiOiAxNjcxMTY4MH19Cg==');</script>\n",
       "    "
      ],
      "text/plain": [
       "<IPython.core.display.HTML object>"
      ]
     },
     "metadata": {},
     "output_type": "display_data"
    },
    {
     "data": {
      "text/html": [
       "\n",
       "        <div id=\"T2BmPxhAZJPVQuEji4C8KA\"></div>\n",
       "        <script>netpixi.call('T2BmPxhAZJPVQuEji4C8KA', 'gFGaBMTAQdGaHJJQshijMZ', 'changeGraph', 'eyJpZCI6IDgsICJ0eXBlIjogInZlcnRleCIsICJwcm9wcyI6IHsiY29sb3IiOiA2NTI4MH19Cg==');</script>\n",
       "    "
      ],
      "text/plain": [
       "<IPython.core.display.HTML object>"
      ]
     },
     "metadata": {},
     "output_type": "display_data"
    },
    {
     "data": {
      "text/html": [
       "\n",
       "        <div id=\"a8MDCQEtHHsMmvqMuTTwNG\"></div>\n",
       "        <script>netpixi.call('a8MDCQEtHHsMmvqMuTTwNG', 'gFGaBMTAQdGaHJJQshijMZ', 'changeGraph', 'eyJpZCI6IDksICJ0eXBlIjogInZlcnRleCIsICJwcm9wcyI6IHsiY29sb3IiOiAxNjcxMTY4MH19Cg==');</script>\n",
       "    "
      ],
      "text/plain": [
       "<IPython.core.display.HTML object>"
      ]
     },
     "metadata": {},
     "output_type": "display_data"
    },
    {
     "data": {
      "text/html": [
       "\n",
       "        <div id=\"LZEXRFFvC3ozVv29UGuM2K\"></div>\n",
       "        <script>netpixi.call('LZEXRFFvC3ozVv29UGuM2K', 'gFGaBMTAQdGaHJJQshijMZ', 'changeGraph', 'eyJpZCI6IDEwLCAidHlwZSI6ICJ2ZXJ0ZXgiLCAicHJvcHMiOiB7ImNvbG9yIjogNjUyODB9fQo=');</script>\n",
       "    "
      ],
      "text/plain": [
       "<IPython.core.display.HTML object>"
      ]
     },
     "metadata": {},
     "output_type": "display_data"
    },
    {
     "data": {
      "text/html": [
       "\n",
       "        <div id=\"oQWeWNxGooKYbWfDAq58hV\"></div>\n",
       "        <script>netpixi.call('oQWeWNxGooKYbWfDAq58hV', 'gFGaBMTAQdGaHJJQshijMZ', 'changeGraph', 'eyJpZCI6IDExLCAidHlwZSI6ICJ2ZXJ0ZXgiLCAicHJvcHMiOiB7ImNvbG9yIjogNjUyODB9fQo=');</script>\n",
       "    "
      ],
      "text/plain": [
       "<IPython.core.display.HTML object>"
      ]
     },
     "metadata": {},
     "output_type": "display_data"
    },
    {
     "data": {
      "text/html": [
       "\n",
       "        <div id=\"QE3QVhZkuos2obx5sGUKUK\"></div>\n",
       "        <script>netpixi.call('QE3QVhZkuos2obx5sGUKUK', 'gFGaBMTAQdGaHJJQshijMZ', 'changeGraph', 'eyJpZCI6IDEyLCAidHlwZSI6ICJ2ZXJ0ZXgiLCAicHJvcHMiOiB7ImNvbG9yIjogMTY3MTE2ODB9fQo=');</script>\n",
       "    "
      ],
      "text/plain": [
       "<IPython.core.display.HTML object>"
      ]
     },
     "metadata": {},
     "output_type": "display_data"
    },
    {
     "data": {
      "text/html": [
       "\n",
       "        <div id=\"aGPtwYPWFTuJmSAqcAwQii\"></div>\n",
       "        <script>netpixi.call('aGPtwYPWFTuJmSAqcAwQii', 'gFGaBMTAQdGaHJJQshijMZ', 'changeGraph', 'eyJpZCI6IDEzLCAidHlwZSI6ICJ2ZXJ0ZXgiLCAicHJvcHMiOiB7ImNvbG9yIjogMTY3MTE2ODB9fQo=');</script>\n",
       "    "
      ],
      "text/plain": [
       "<IPython.core.display.HTML object>"
      ]
     },
     "metadata": {},
     "output_type": "display_data"
    },
    {
     "data": {
      "text/html": [
       "\n",
       "        <div id=\"a42RHUM9UTocfLGCzr3Vsz\"></div>\n",
       "        <script>netpixi.call('a42RHUM9UTocfLGCzr3Vsz', 'gFGaBMTAQdGaHJJQshijMZ', 'changeGraph', 'eyJpZCI6IDE0LCAidHlwZSI6ICJ2ZXJ0ZXgiLCAicHJvcHMiOiB7ImNvbG9yIjogNjUyODB9fQo=');</script>\n",
       "    "
      ],
      "text/plain": [
       "<IPython.core.display.HTML object>"
      ]
     },
     "metadata": {},
     "output_type": "display_data"
    },
    {
     "data": {
      "text/html": [
       "\n",
       "        <div id=\"B59buWytmHtqRax5gzMhdp\"></div>\n",
       "        <script>netpixi.call('B59buWytmHtqRax5gzMhdp', 'gFGaBMTAQdGaHJJQshijMZ', 'changeGraph', 'eyJpZCI6IDE1LCAidHlwZSI6ICJ2ZXJ0ZXgiLCAicHJvcHMiOiB7ImNvbG9yIjogNjUyODB9fQo=');</script>\n",
       "    "
      ],
      "text/plain": [
       "<IPython.core.display.HTML object>"
      ]
     },
     "metadata": {},
     "output_type": "display_data"
    },
    {
     "data": {
      "text/html": [
       "\n",
       "        <div id=\"KeDm79BEzEqJG4TmDq8gJC\"></div>\n",
       "        <script>netpixi.call('KeDm79BEzEqJG4TmDq8gJC', 'gFGaBMTAQdGaHJJQshijMZ', 'changeGraph', 'eyJpZCI6IDE2LCAidHlwZSI6ICJ2ZXJ0ZXgiLCAicHJvcHMiOiB7ImNvbG9yIjogMTY3MTE2ODB9fQo=');</script>\n",
       "    "
      ],
      "text/plain": [
       "<IPython.core.display.HTML object>"
      ]
     },
     "metadata": {},
     "output_type": "display_data"
    },
    {
     "data": {
      "text/html": [
       "\n",
       "        <div id=\"e5TQCFEhtA5CkoHtA3UgQu\"></div>\n",
       "        <script>netpixi.call('e5TQCFEhtA5CkoHtA3UgQu', 'gFGaBMTAQdGaHJJQshijMZ', 'changeGraph', 'eyJpZCI6IDE3LCAidHlwZSI6ICJ2ZXJ0ZXgiLCAicHJvcHMiOiB7ImNvbG9yIjogNjUyODB9fQo=');</script>\n",
       "    "
      ],
      "text/plain": [
       "<IPython.core.display.HTML object>"
      ]
     },
     "metadata": {},
     "output_type": "display_data"
    },
    {
     "data": {
      "text/html": [
       "\n",
       "        <div id=\"NekLiKfNw4FvFQNxuEEd2A\"></div>\n",
       "        <script>netpixi.call('NekLiKfNw4FvFQNxuEEd2A', 'gFGaBMTAQdGaHJJQshijMZ', 'changeGraph', 'eyJpZCI6IDE4LCAidHlwZSI6ICJ2ZXJ0ZXgiLCAicHJvcHMiOiB7ImNvbG9yIjogMTY3MTE2ODB9fQo=');</script>\n",
       "    "
      ],
      "text/plain": [
       "<IPython.core.display.HTML object>"
      ]
     },
     "metadata": {},
     "output_type": "display_data"
    },
    {
     "data": {
      "text/html": [
       "\n",
       "        <div id=\"ZhuD6x7uDVJwM6oZwgTZbA\"></div>\n",
       "        <script>netpixi.call('ZhuD6x7uDVJwM6oZwgTZbA', 'gFGaBMTAQdGaHJJQshijMZ', 'changeGraph', 'eyJpZCI6IDE5LCAidHlwZSI6ICJ2ZXJ0ZXgiLCAicHJvcHMiOiB7ImNvbG9yIjogMTY3MTE2ODB9fQo=');</script>\n",
       "    "
      ],
      "text/plain": [
       "<IPython.core.display.HTML object>"
      ]
     },
     "metadata": {},
     "output_type": "display_data"
    },
    {
     "data": {
      "text/html": [
       "\n",
       "        <div id=\"RyTHAr5X4y6cia8fBw8yfU\"></div>\n",
       "        <script>netpixi.call('RyTHAr5X4y6cia8fBw8yfU', 'gFGaBMTAQdGaHJJQshijMZ', 'changeGraph', 'eyJpZCI6IDIwLCAidHlwZSI6ICJ2ZXJ0ZXgiLCAicHJvcHMiOiB7ImNvbG9yIjogNjUyODB9fQo=');</script>\n",
       "    "
      ],
      "text/plain": [
       "<IPython.core.display.HTML object>"
      ]
     },
     "metadata": {},
     "output_type": "display_data"
    },
    {
     "data": {
      "text/html": [
       "\n",
       "        <div id=\"mVqSscohr3J2gwTo7vog9b\"></div>\n",
       "        <script>netpixi.call('mVqSscohr3J2gwTo7vog9b', 'gFGaBMTAQdGaHJJQshijMZ', 'changeGraph', 'eyJpZCI6IDIxLCAidHlwZSI6ICJ2ZXJ0ZXgiLCAicHJvcHMiOiB7ImNvbG9yIjogMTY3MTE2ODB9fQo=');</script>\n",
       "    "
      ],
      "text/plain": [
       "<IPython.core.display.HTML object>"
      ]
     },
     "metadata": {},
     "output_type": "display_data"
    },
    {
     "data": {
      "text/html": [
       "\n",
       "        <div id=\"X3E7jp9ZXYLNRuzQXBWnFH\"></div>\n",
       "        <script>netpixi.call('X3E7jp9ZXYLNRuzQXBWnFH', 'gFGaBMTAQdGaHJJQshijMZ', 'changeGraph', 'eyJpZCI6IDIyLCAidHlwZSI6ICJ2ZXJ0ZXgiLCAicHJvcHMiOiB7ImNvbG9yIjogMTY3MTE2ODB9fQo=');</script>\n",
       "    "
      ],
      "text/plain": [
       "<IPython.core.display.HTML object>"
      ]
     },
     "metadata": {},
     "output_type": "display_data"
    },
    {
     "data": {
      "text/html": [
       "\n",
       "        <div id=\"NbjzKBTGGAu2xY9Lo4Vz3b\"></div>\n",
       "        <script>netpixi.call('NbjzKBTGGAu2xY9Lo4Vz3b', 'gFGaBMTAQdGaHJJQshijMZ', 'changeGraph', 'eyJpZCI6IDIzLCAidHlwZSI6ICJ2ZXJ0ZXgiLCAicHJvcHMiOiB7ImNvbG9yIjogMTY3MTE2ODB9fQo=');</script>\n",
       "    "
      ],
      "text/plain": [
       "<IPython.core.display.HTML object>"
      ]
     },
     "metadata": {},
     "output_type": "display_data"
    },
    {
     "data": {
      "text/html": [
       "\n",
       "        <div id=\"ixHALsfVp2D3NJRpUZzfCL\"></div>\n",
       "        <script>netpixi.call('ixHALsfVp2D3NJRpUZzfCL', 'gFGaBMTAQdGaHJJQshijMZ', 'changeGraph', 'eyJpZCI6IDI0LCAidHlwZSI6ICJ2ZXJ0ZXgiLCAicHJvcHMiOiB7ImNvbG9yIjogMTY3MTE2ODB9fQo=');</script>\n",
       "    "
      ],
      "text/plain": [
       "<IPython.core.display.HTML object>"
      ]
     },
     "metadata": {},
     "output_type": "display_data"
    },
    {
     "data": {
      "text/html": [
       "\n",
       "        <div id=\"322uHfT3JhWQEWoLRe57TQ\"></div>\n",
       "        <script>netpixi.call('322uHfT3JhWQEWoLRe57TQ', 'gFGaBMTAQdGaHJJQshijMZ', 'changeGraph', 'eyJpZCI6IDI1LCAidHlwZSI6ICJ2ZXJ0ZXgiLCAicHJvcHMiOiB7ImNvbG9yIjogNjUyODB9fQo=');</script>\n",
       "    "
      ],
      "text/plain": [
       "<IPython.core.display.HTML object>"
      ]
     },
     "metadata": {},
     "output_type": "display_data"
    },
    {
     "data": {
      "text/html": [
       "\n",
       "        <div id=\"HwW5qLefXjJkT54uKdQpic\"></div>\n",
       "        <script>netpixi.call('HwW5qLefXjJkT54uKdQpic', 'gFGaBMTAQdGaHJJQshijMZ', 'changeGraph', 'eyJpZCI6IDI2LCAidHlwZSI6ICJ2ZXJ0ZXgiLCAicHJvcHMiOiB7ImNvbG9yIjogMTY3MTE2ODB9fQo=');</script>\n",
       "    "
      ],
      "text/plain": [
       "<IPython.core.display.HTML object>"
      ]
     },
     "metadata": {},
     "output_type": "display_data"
    },
    {
     "data": {
      "text/html": [
       "\n",
       "        <div id=\"EyoMNkj6weXgfhEUvtNDQ5\"></div>\n",
       "        <script>netpixi.call('EyoMNkj6weXgfhEUvtNDQ5', 'gFGaBMTAQdGaHJJQshijMZ', 'changeGraph', 'eyJpZCI6IDI3LCAidHlwZSI6ICJ2ZXJ0ZXgiLCAicHJvcHMiOiB7ImNvbG9yIjogMTY3MTE2ODB9fQo=');</script>\n",
       "    "
      ],
      "text/plain": [
       "<IPython.core.display.HTML object>"
      ]
     },
     "metadata": {},
     "output_type": "display_data"
    },
    {
     "data": {
      "text/html": [
       "\n",
       "        <div id=\"moTt6jZwWHYAutpBAtAt3w\"></div>\n",
       "        <script>netpixi.call('moTt6jZwWHYAutpBAtAt3w', 'gFGaBMTAQdGaHJJQshijMZ', 'changeGraph', 'eyJpZCI6IDI4LCAidHlwZSI6ICJ2ZXJ0ZXgiLCAicHJvcHMiOiB7ImNvbG9yIjogMTY3MTE2ODB9fQo=');</script>\n",
       "    "
      ],
      "text/plain": [
       "<IPython.core.display.HTML object>"
      ]
     },
     "metadata": {},
     "output_type": "display_data"
    },
    {
     "data": {
      "text/html": [
       "\n",
       "        <div id=\"BpfugmXAJJzKK6gbdqfTGn\"></div>\n",
       "        <script>netpixi.call('BpfugmXAJJzKK6gbdqfTGn', 'gFGaBMTAQdGaHJJQshijMZ', 'changeGraph', 'eyJpZCI6IDI5LCAidHlwZSI6ICJ2ZXJ0ZXgiLCAicHJvcHMiOiB7ImNvbG9yIjogMTY3MTE2ODB9fQo=');</script>\n",
       "    "
      ],
      "text/plain": [
       "<IPython.core.display.HTML object>"
      ]
     },
     "metadata": {},
     "output_type": "display_data"
    },
    {
     "data": {
      "text/html": [
       "\n",
       "        <div id=\"UpSAp9bXMSYMXpUSzdPznP\"></div>\n",
       "        <script>netpixi.call('UpSAp9bXMSYMXpUSzdPznP', 'gFGaBMTAQdGaHJJQshijMZ', 'changeGraph', 'eyJpZCI6IDMwLCAidHlwZSI6ICJ2ZXJ0ZXgiLCAicHJvcHMiOiB7ImNvbG9yIjogMTY3MTE2ODB9fQo=');</script>\n",
       "    "
      ],
      "text/plain": [
       "<IPython.core.display.HTML object>"
      ]
     },
     "metadata": {},
     "output_type": "display_data"
    },
    {
     "data": {
      "text/html": [
       "\n",
       "        <div id=\"EvKdjaZXgMpNK8P8F6bpyK\"></div>\n",
       "        <script>netpixi.call('EvKdjaZXgMpNK8P8F6bpyK', 'gFGaBMTAQdGaHJJQshijMZ', 'changeGraph', 'eyJpZCI6IDMxLCAidHlwZSI6ICJ2ZXJ0ZXgiLCAicHJvcHMiOiB7ImNvbG9yIjogMTY3MTE2ODB9fQo=');</script>\n",
       "    "
      ],
      "text/plain": [
       "<IPython.core.display.HTML object>"
      ]
     },
     "metadata": {},
     "output_type": "display_data"
    },
    {
     "data": {
      "text/html": [
       "\n",
       "        <div id=\"3BAhGksDwmFACdxpypbBfC\"></div>\n",
       "        <script>netpixi.call('3BAhGksDwmFACdxpypbBfC', 'gFGaBMTAQdGaHJJQshijMZ', 'changeGraph', 'eyJpZCI6IDMyLCAidHlwZSI6ICJ2ZXJ0ZXgiLCAicHJvcHMiOiB7ImNvbG9yIjogNjUyODB9fQo=');</script>\n",
       "    "
      ],
      "text/plain": [
       "<IPython.core.display.HTML object>"
      ]
     },
     "metadata": {},
     "output_type": "display_data"
    },
    {
     "data": {
      "text/html": [
       "\n",
       "        <div id=\"2wHNUxXHajyGtQPpeRwmQi\"></div>\n",
       "        <script>netpixi.call('2wHNUxXHajyGtQPpeRwmQi', 'gFGaBMTAQdGaHJJQshijMZ', 'changeGraph', 'eyJpZCI6IDMzLCAidHlwZSI6ICJ2ZXJ0ZXgiLCAicHJvcHMiOiB7ImNvbG9yIjogMTY3MTE2ODB9fQo=');</script>\n",
       "    "
      ],
      "text/plain": [
       "<IPython.core.display.HTML object>"
      ]
     },
     "metadata": {},
     "output_type": "display_data"
    },
    {
     "data": {
      "text/html": [
       "\n",
       "        <div id=\"eHceKtkPF44ZeioUSX2TP4\"></div>\n",
       "        <script>netpixi.call('eHceKtkPF44ZeioUSX2TP4', 'gFGaBMTAQdGaHJJQshijMZ', 'changeGraph', 'eyJpZCI6IDM0LCAidHlwZSI6ICJ2ZXJ0ZXgiLCAicHJvcHMiOiB7ImNvbG9yIjogMTY3MTE2ODB9fQo=');</script>\n",
       "    "
      ],
      "text/plain": [
       "<IPython.core.display.HTML object>"
      ]
     },
     "metadata": {},
     "output_type": "display_data"
    },
    {
     "data": {
      "text/html": [
       "\n",
       "        <div id=\"QKn4zunu96HBBzCarYRXf7\"></div>\n",
       "        <script>netpixi.call('QKn4zunu96HBBzCarYRXf7', 'gFGaBMTAQdGaHJJQshijMZ', 'changeGraph', 'eyJpZCI6IDM1LCAidHlwZSI6ICJ2ZXJ0ZXgiLCAicHJvcHMiOiB7ImNvbG9yIjogMTY3MTE2ODB9fQo=');</script>\n",
       "    "
      ],
      "text/plain": [
       "<IPython.core.display.HTML object>"
      ]
     },
     "metadata": {},
     "output_type": "display_data"
    },
    {
     "data": {
      "text/html": [
       "\n",
       "        <div id=\"k3sTgQa9wKtbzx8eASQ4ry\"></div>\n",
       "        <script>netpixi.call('k3sTgQa9wKtbzx8eASQ4ry', 'gFGaBMTAQdGaHJJQshijMZ', 'changeGraph', 'eyJpZCI6IDM2LCAidHlwZSI6ICJ2ZXJ0ZXgiLCAicHJvcHMiOiB7ImNvbG9yIjogNjUyODB9fQo=');</script>\n",
       "    "
      ],
      "text/plain": [
       "<IPython.core.display.HTML object>"
      ]
     },
     "metadata": {},
     "output_type": "display_data"
    },
    {
     "data": {
      "text/html": [
       "\n",
       "        <div id=\"WhdY3TdDBSbiTiWqdqbCCM\"></div>\n",
       "        <script>netpixi.call('WhdY3TdDBSbiTiWqdqbCCM', 'gFGaBMTAQdGaHJJQshijMZ', 'changeGraph', 'eyJpZCI6IDM3LCAidHlwZSI6ICJ2ZXJ0ZXgiLCAicHJvcHMiOiB7ImNvbG9yIjogMTY3MTE2ODB9fQo=');</script>\n",
       "    "
      ],
      "text/plain": [
       "<IPython.core.display.HTML object>"
      ]
     },
     "metadata": {},
     "output_type": "display_data"
    },
    {
     "data": {
      "text/html": [
       "\n",
       "        <div id=\"Xfg7sA5L6v2bt8yLzUCYvp\"></div>\n",
       "        <script>netpixi.call('Xfg7sA5L6v2bt8yLzUCYvp', 'gFGaBMTAQdGaHJJQshijMZ', 'changeGraph', 'eyJpZCI6IDM4LCAidHlwZSI6ICJ2ZXJ0ZXgiLCAicHJvcHMiOiB7ImNvbG9yIjogMTY3MTE2ODB9fQo=');</script>\n",
       "    "
      ],
      "text/plain": [
       "<IPython.core.display.HTML object>"
      ]
     },
     "metadata": {},
     "output_type": "display_data"
    },
    {
     "data": {
      "text/html": [
       "\n",
       "        <div id=\"HtdqJFJmvu65kPy5zNfMGa\"></div>\n",
       "        <script>netpixi.call('HtdqJFJmvu65kPy5zNfMGa', 'gFGaBMTAQdGaHJJQshijMZ', 'changeGraph', 'eyJpZCI6IDM5LCAidHlwZSI6ICJ2ZXJ0ZXgiLCAicHJvcHMiOiB7ImNvbG9yIjogNjUyODB9fQo=');</script>\n",
       "    "
      ],
      "text/plain": [
       "<IPython.core.display.HTML object>"
      ]
     },
     "metadata": {},
     "output_type": "display_data"
    },
    {
     "data": {
      "text/html": [
       "\n",
       "        <div id=\"naNiata272W9FhTUocpgmG\"></div>\n",
       "        <script>netpixi.call('naNiata272W9FhTUocpgmG', 'gFGaBMTAQdGaHJJQshijMZ', 'changeGraph', 'eyJpZCI6IDQwLCAidHlwZSI6ICJ2ZXJ0ZXgiLCAicHJvcHMiOiB7ImNvbG9yIjogNjUyODB9fQo=');</script>\n",
       "    "
      ],
      "text/plain": [
       "<IPython.core.display.HTML object>"
      ]
     },
     "metadata": {},
     "output_type": "display_data"
    },
    {
     "data": {
      "text/html": [
       "\n",
       "        <div id=\"5zvUjkuqHxPXUW9Bdt72qF\"></div>\n",
       "        <script>netpixi.call('5zvUjkuqHxPXUW9Bdt72qF', 'gFGaBMTAQdGaHJJQshijMZ', 'changeGraph', 'eyJpZCI6IDQxLCAidHlwZSI6ICJ2ZXJ0ZXgiLCAicHJvcHMiOiB7ImNvbG9yIjogNjUyODB9fQo=');</script>\n",
       "    "
      ],
      "text/plain": [
       "<IPython.core.display.HTML object>"
      ]
     },
     "metadata": {},
     "output_type": "display_data"
    },
    {
     "data": {
      "text/html": [
       "\n",
       "        <div id=\"oN8sjG32scK4VE3NMxNrML\"></div>\n",
       "        <script>netpixi.call('oN8sjG32scK4VE3NMxNrML', 'gFGaBMTAQdGaHJJQshijMZ', 'changeGraph', 'eyJpZCI6IDQyLCAidHlwZSI6ICJ2ZXJ0ZXgiLCAicHJvcHMiOiB7ImNvbG9yIjogMTY3MTE2ODB9fQo=');</script>\n",
       "    "
      ],
      "text/plain": [
       "<IPython.core.display.HTML object>"
      ]
     },
     "metadata": {},
     "output_type": "display_data"
    },
    {
     "data": {
      "text/html": [
       "\n",
       "        <div id=\"BE75LRFND3DaDACrDHS6Bv\"></div>\n",
       "        <script>netpixi.call('BE75LRFND3DaDACrDHS6Bv', 'gFGaBMTAQdGaHJJQshijMZ', 'changeGraph', 'eyJpZCI6IDQzLCAidHlwZSI6ICJ2ZXJ0ZXgiLCAicHJvcHMiOiB7ImNvbG9yIjogNjUyODB9fQo=');</script>\n",
       "    "
      ],
      "text/plain": [
       "<IPython.core.display.HTML object>"
      ]
     },
     "metadata": {},
     "output_type": "display_data"
    },
    {
     "data": {
      "text/html": [
       "\n",
       "        <div id=\"JdaYnQxyiMBC8srqnjSyPs\"></div>\n",
       "        <script>netpixi.call('JdaYnQxyiMBC8srqnjSyPs', 'gFGaBMTAQdGaHJJQshijMZ', 'changeGraph', 'eyJpZCI6IDQ0LCAidHlwZSI6ICJ2ZXJ0ZXgiLCAicHJvcHMiOiB7ImNvbG9yIjogNjUyODB9fQo=');</script>\n",
       "    "
      ],
      "text/plain": [
       "<IPython.core.display.HTML object>"
      ]
     },
     "metadata": {},
     "output_type": "display_data"
    },
    {
     "data": {
      "text/html": [
       "\n",
       "        <div id=\"ZMYQgbQhWCQU9M82dWV8e3\"></div>\n",
       "        <script>netpixi.call('ZMYQgbQhWCQU9M82dWV8e3', 'gFGaBMTAQdGaHJJQshijMZ', 'changeGraph', 'eyJpZCI6IDQ1LCAidHlwZSI6ICJ2ZXJ0ZXgiLCAicHJvcHMiOiB7ImNvbG9yIjogMTY3MTE2ODB9fQo=');</script>\n",
       "    "
      ],
      "text/plain": [
       "<IPython.core.display.HTML object>"
      ]
     },
     "metadata": {},
     "output_type": "display_data"
    },
    {
     "data": {
      "text/html": [
       "\n",
       "        <div id=\"LBbbVFjFXiGRpoAXm4MFPP\"></div>\n",
       "        <script>netpixi.call('LBbbVFjFXiGRpoAXm4MFPP', 'gFGaBMTAQdGaHJJQshijMZ', 'changeGraph', 'eyJpZCI6IDQ2LCAidHlwZSI6ICJ2ZXJ0ZXgiLCAicHJvcHMiOiB7ImNvbG9yIjogMTY3MTE2ODB9fQo=');</script>\n",
       "    "
      ],
      "text/plain": [
       "<IPython.core.display.HTML object>"
      ]
     },
     "metadata": {},
     "output_type": "display_data"
    },
    {
     "data": {
      "text/html": [
       "\n",
       "        <div id=\"dZ4Tr3k5pAh7Mrfd9sa3qn\"></div>\n",
       "        <script>netpixi.call('dZ4Tr3k5pAh7Mrfd9sa3qn', 'gFGaBMTAQdGaHJJQshijMZ', 'changeGraph', 'eyJpZCI6IDQ3LCAidHlwZSI6ICJ2ZXJ0ZXgiLCAicHJvcHMiOiB7ImNvbG9yIjogMTY3MTE2ODB9fQo=');</script>\n",
       "    "
      ],
      "text/plain": [
       "<IPython.core.display.HTML object>"
      ]
     },
     "metadata": {},
     "output_type": "display_data"
    },
    {
     "data": {
      "text/html": [
       "\n",
       "        <div id=\"jsP2KYjquag5odAsE5exZ9\"></div>\n",
       "        <script>netpixi.call('jsP2KYjquag5odAsE5exZ9', 'gFGaBMTAQdGaHJJQshijMZ', 'changeGraph', 'eyJpZCI6IDQ4LCAidHlwZSI6ICJ2ZXJ0ZXgiLCAicHJvcHMiOiB7ImNvbG9yIjogNjUyODB9fQo=');</script>\n",
       "    "
      ],
      "text/plain": [
       "<IPython.core.display.HTML object>"
      ]
     },
     "metadata": {},
     "output_type": "display_data"
    },
    {
     "data": {
      "text/html": [
       "\n",
       "        <div id=\"DNvfCrgv6ZMdCbjpPCzPxC\"></div>\n",
       "        <script>netpixi.call('DNvfCrgv6ZMdCbjpPCzPxC', 'gFGaBMTAQdGaHJJQshijMZ', 'changeGraph', 'eyJpZCI6IDQ5LCAidHlwZSI6ICJ2ZXJ0ZXgiLCAicHJvcHMiOiB7ImNvbG9yIjogMTY3MTE2ODB9fQo=');</script>\n",
       "    "
      ],
      "text/plain": [
       "<IPython.core.display.HTML object>"
      ]
     },
     "metadata": {},
     "output_type": "display_data"
    },
    {
     "data": {
      "text/html": [
       "\n",
       "        <div id=\"cc95wvanfTx2iZHGrPkAam\"></div>\n",
       "        <script>netpixi.call('cc95wvanfTx2iZHGrPkAam', 'gFGaBMTAQdGaHJJQshijMZ', 'changeGraph', 'eyJpZCI6IDUwLCAidHlwZSI6ICJ2ZXJ0ZXgiLCAicHJvcHMiOiB7ImNvbG9yIjogNjUyODB9fQo=');</script>\n",
       "    "
      ],
      "text/plain": [
       "<IPython.core.display.HTML object>"
      ]
     },
     "metadata": {},
     "output_type": "display_data"
    },
    {
     "data": {
      "text/html": [
       "\n",
       "        <div id=\"Ksy7BZDPWj4BkF4kFk2S7c\"></div>\n",
       "        <script>netpixi.call('Ksy7BZDPWj4BkF4kFk2S7c', 'gFGaBMTAQdGaHJJQshijMZ', 'changeGraph', 'eyJpZCI6IDUxLCAidHlwZSI6ICJ2ZXJ0ZXgiLCAicHJvcHMiOiB7ImNvbG9yIjogMTY3MTE2ODB9fQo=');</script>\n",
       "    "
      ],
      "text/plain": [
       "<IPython.core.display.HTML object>"
      ]
     },
     "metadata": {},
     "output_type": "display_data"
    },
    {
     "data": {
      "text/html": [
       "\n",
       "        <div id=\"4yr2J575jJGdwDWNKig7np\"></div>\n",
       "        <script>netpixi.call('4yr2J575jJGdwDWNKig7np', 'gFGaBMTAQdGaHJJQshijMZ', 'changeGraph', 'eyJpZCI6IDUyLCAidHlwZSI6ICJ2ZXJ0ZXgiLCAicHJvcHMiOiB7ImNvbG9yIjogNjUyODB9fQo=');</script>\n",
       "    "
      ],
      "text/plain": [
       "<IPython.core.display.HTML object>"
      ]
     },
     "metadata": {},
     "output_type": "display_data"
    },
    {
     "data": {
      "text/html": [
       "\n",
       "        <div id=\"8gHUouqy8hBEkFaJRwVXv4\"></div>\n",
       "        <script>netpixi.call('8gHUouqy8hBEkFaJRwVXv4', 'gFGaBMTAQdGaHJJQshijMZ', 'changeGraph', 'eyJpZCI6IDUzLCAidHlwZSI6ICJ2ZXJ0ZXgiLCAicHJvcHMiOiB7ImNvbG9yIjogMTY3MTE2ODB9fQo=');</script>\n",
       "    "
      ],
      "text/plain": [
       "<IPython.core.display.HTML object>"
      ]
     },
     "metadata": {},
     "output_type": "display_data"
    },
    {
     "data": {
      "text/html": [
       "\n",
       "        <div id=\"EC9dmNy66M7Td2nQ266F3f\"></div>\n",
       "        <script>netpixi.call('EC9dmNy66M7Td2nQ266F3f', 'gFGaBMTAQdGaHJJQshijMZ', 'changeGraph', 'eyJpZCI6IDU0LCAidHlwZSI6ICJ2ZXJ0ZXgiLCAicHJvcHMiOiB7ImNvbG9yIjogMTY3MTE2ODB9fQo=');</script>\n",
       "    "
      ],
      "text/plain": [
       "<IPython.core.display.HTML object>"
      ]
     },
     "metadata": {},
     "output_type": "display_data"
    },
    {
     "data": {
      "text/html": [
       "\n",
       "        <div id=\"TLA3W8BREQnFvkMZvvdgq5\"></div>\n",
       "        <script>netpixi.call('TLA3W8BREQnFvkMZvvdgq5', 'gFGaBMTAQdGaHJJQshijMZ', 'changeGraph', 'eyJpZCI6IDU1LCAidHlwZSI6ICJ2ZXJ0ZXgiLCAicHJvcHMiOiB7ImNvbG9yIjogNjUyODB9fQo=');</script>\n",
       "    "
      ],
      "text/plain": [
       "<IPython.core.display.HTML object>"
      ]
     },
     "metadata": {},
     "output_type": "display_data"
    },
    {
     "data": {
      "text/html": [
       "\n",
       "        <div id=\"MTH9PH2fpVedtAgqrCTinh\"></div>\n",
       "        <script>netpixi.call('MTH9PH2fpVedtAgqrCTinh', 'gFGaBMTAQdGaHJJQshijMZ', 'changeGraph', 'eyJpZCI6IDU2LCAidHlwZSI6ICJ2ZXJ0ZXgiLCAicHJvcHMiOiB7ImNvbG9yIjogNjUyODB9fQo=');</script>\n",
       "    "
      ],
      "text/plain": [
       "<IPython.core.display.HTML object>"
      ]
     },
     "metadata": {},
     "output_type": "display_data"
    },
    {
     "data": {
      "text/html": [
       "\n",
       "        <div id=\"QrtKrXwZuG33wmNHp4cegc\"></div>\n",
       "        <script>netpixi.call('QrtKrXwZuG33wmNHp4cegc', 'gFGaBMTAQdGaHJJQshijMZ', 'changeGraph', 'eyJpZCI6IDU3LCAidHlwZSI6ICJ2ZXJ0ZXgiLCAicHJvcHMiOiB7ImNvbG9yIjogNjUyODB9fQo=');</script>\n",
       "    "
      ],
      "text/plain": [
       "<IPython.core.display.HTML object>"
      ]
     },
     "metadata": {},
     "output_type": "display_data"
    },
    {
     "data": {
      "text/html": [
       "\n",
       "        <div id=\"YWjEsApWGhPNmCZUCymgJg\"></div>\n",
       "        <script>netpixi.call('YWjEsApWGhPNmCZUCymgJg', 'gFGaBMTAQdGaHJJQshijMZ', 'changeGraph', 'eyJpZCI6IDU4LCAidHlwZSI6ICJ2ZXJ0ZXgiLCAicHJvcHMiOiB7ImNvbG9yIjogMTY3MTE2ODB9fQo=');</script>\n",
       "    "
      ],
      "text/plain": [
       "<IPython.core.display.HTML object>"
      ]
     },
     "metadata": {},
     "output_type": "display_data"
    },
    {
     "data": {
      "text/html": [
       "\n",
       "        <div id=\"GxSCkcQeUStwDxKu5G6m92\"></div>\n",
       "        <script>netpixi.call('GxSCkcQeUStwDxKu5G6m92', 'gFGaBMTAQdGaHJJQshijMZ', 'changeGraph', 'eyJpZCI6IDU5LCAidHlwZSI6ICJ2ZXJ0ZXgiLCAicHJvcHMiOiB7ImNvbG9yIjogNjUyODB9fQo=');</script>\n",
       "    "
      ],
      "text/plain": [
       "<IPython.core.display.HTML object>"
      ]
     },
     "metadata": {},
     "output_type": "display_data"
    },
    {
     "data": {
      "text/html": [
       "\n",
       "        <div id=\"dAu58mjAS9ZymZKurzFkCf\"></div>\n",
       "        <script>netpixi.call('dAu58mjAS9ZymZKurzFkCf', 'gFGaBMTAQdGaHJJQshijMZ', 'changeGraph', 'eyJpZCI6IDYwLCAidHlwZSI6ICJ2ZXJ0ZXgiLCAicHJvcHMiOiB7ImNvbG9yIjogNjUyODB9fQo=');</script>\n",
       "    "
      ],
      "text/plain": [
       "<IPython.core.display.HTML object>"
      ]
     },
     "metadata": {},
     "output_type": "display_data"
    },
    {
     "data": {
      "text/html": [
       "\n",
       "        <div id=\"APBymF9uMENFSFszD9uPXw\"></div>\n",
       "        <script>netpixi.call('APBymF9uMENFSFszD9uPXw', 'gFGaBMTAQdGaHJJQshijMZ', 'changeGraph', 'eyJpZCI6IDYxLCAidHlwZSI6ICJ2ZXJ0ZXgiLCAicHJvcHMiOiB7ImNvbG9yIjogMTY3MTE2ODB9fQo=');</script>\n",
       "    "
      ],
      "text/plain": [
       "<IPython.core.display.HTML object>"
      ]
     },
     "metadata": {},
     "output_type": "display_data"
    },
    {
     "data": {
      "text/html": [
       "\n",
       "        <div id=\"g9zmJd8LGTrHdszG6nsQJX\"></div>\n",
       "        <script>netpixi.call('g9zmJd8LGTrHdszG6nsQJX', 'gFGaBMTAQdGaHJJQshijMZ', 'changeGraph', 'eyJpZCI6IDYyLCAidHlwZSI6ICJ2ZXJ0ZXgiLCAicHJvcHMiOiB7ImNvbG9yIjogMTY3MTE2ODB9fQo=');</script>\n",
       "    "
      ],
      "text/plain": [
       "<IPython.core.display.HTML object>"
      ]
     },
     "metadata": {},
     "output_type": "display_data"
    },
    {
     "data": {
      "text/html": [
       "\n",
       "        <div id=\"DAkPTvGC5pb8szwhncit82\"></div>\n",
       "        <script>netpixi.call('DAkPTvGC5pb8szwhncit82', 'gFGaBMTAQdGaHJJQshijMZ', 'changeGraph', 'eyJpZCI6IDYzLCAidHlwZSI6ICJ2ZXJ0ZXgiLCAicHJvcHMiOiB7ImNvbG9yIjogNjUyODB9fQo=');</script>\n",
       "    "
      ],
      "text/plain": [
       "<IPython.core.display.HTML object>"
      ]
     },
     "metadata": {},
     "output_type": "display_data"
    },
    {
     "data": {
      "text/html": [
       "\n",
       "        <div id=\"UGePsgHPgtf5QYU3ezXxPQ\"></div>\n",
       "        <script>netpixi.call('UGePsgHPgtf5QYU3ezXxPQ', 'gFGaBMTAQdGaHJJQshijMZ', 'changeGraph', 'eyJpZCI6IDY0LCAidHlwZSI6ICJ2ZXJ0ZXgiLCAicHJvcHMiOiB7ImNvbG9yIjogMTY3MTE2ODB9fQo=');</script>\n",
       "    "
      ],
      "text/plain": [
       "<IPython.core.display.HTML object>"
      ]
     },
     "metadata": {},
     "output_type": "display_data"
    },
    {
     "data": {
      "text/html": [
       "\n",
       "        <div id=\"9vp9ocSRyrMtQTycVEFGPE\"></div>\n",
       "        <script>netpixi.call('9vp9ocSRyrMtQTycVEFGPE', 'gFGaBMTAQdGaHJJQshijMZ', 'changeGraph', 'eyJpZCI6IDY1LCAidHlwZSI6ICJ2ZXJ0ZXgiLCAicHJvcHMiOiB7ImNvbG9yIjogMTY3MTE2ODB9fQo=');</script>\n",
       "    "
      ],
      "text/plain": [
       "<IPython.core.display.HTML object>"
      ]
     },
     "metadata": {},
     "output_type": "display_data"
    },
    {
     "data": {
      "text/html": [
       "\n",
       "        <div id=\"DciHeetG6uBML6WM5NKGWf\"></div>\n",
       "        <script>netpixi.call('DciHeetG6uBML6WM5NKGWf', 'gFGaBMTAQdGaHJJQshijMZ', 'changeGraph', 'eyJpZCI6IDY2LCAidHlwZSI6ICJ2ZXJ0ZXgiLCAicHJvcHMiOiB7ImNvbG9yIjogNjUyODB9fQo=');</script>\n",
       "    "
      ],
      "text/plain": [
       "<IPython.core.display.HTML object>"
      ]
     },
     "metadata": {},
     "output_type": "display_data"
    },
    {
     "data": {
      "text/html": [
       "\n",
       "        <div id=\"NDZ2N7rtS7ERXDqDFzeu6d\"></div>\n",
       "        <script>netpixi.call('NDZ2N7rtS7ERXDqDFzeu6d', 'gFGaBMTAQdGaHJJQshijMZ', 'changeGraph', 'eyJpZCI6IDY3LCAidHlwZSI6ICJ2ZXJ0ZXgiLCAicHJvcHMiOiB7ImNvbG9yIjogMTY3MTE2ODB9fQo=');</script>\n",
       "    "
      ],
      "text/plain": [
       "<IPython.core.display.HTML object>"
      ]
     },
     "metadata": {},
     "output_type": "display_data"
    },
    {
     "data": {
      "text/html": [
       "\n",
       "        <div id=\"E5QBsxCrHEaphygherZ2Kg\"></div>\n",
       "        <script>netpixi.call('E5QBsxCrHEaphygherZ2Kg', 'gFGaBMTAQdGaHJJQshijMZ', 'changeGraph', 'eyJpZCI6IDY4LCAidHlwZSI6ICJ2ZXJ0ZXgiLCAicHJvcHMiOiB7ImNvbG9yIjogNjUyODB9fQo=');</script>\n",
       "    "
      ],
      "text/plain": [
       "<IPython.core.display.HTML object>"
      ]
     },
     "metadata": {},
     "output_type": "display_data"
    },
    {
     "data": {
      "text/html": [
       "\n",
       "        <div id=\"ZFGTardsYBuaH5JBpRfHr8\"></div>\n",
       "        <script>netpixi.call('ZFGTardsYBuaH5JBpRfHr8', 'gFGaBMTAQdGaHJJQshijMZ', 'changeGraph', 'eyJpZCI6IDY5LCAidHlwZSI6ICJ2ZXJ0ZXgiLCAicHJvcHMiOiB7ImNvbG9yIjogNjUyODB9fQo=');</script>\n",
       "    "
      ],
      "text/plain": [
       "<IPython.core.display.HTML object>"
      ]
     },
     "metadata": {},
     "output_type": "display_data"
    },
    {
     "data": {
      "text/html": [
       "\n",
       "        <div id=\"3feDFM9mtHfK9SHS7raSyL\"></div>\n",
       "        <script>netpixi.call('3feDFM9mtHfK9SHS7raSyL', 'gFGaBMTAQdGaHJJQshijMZ', 'changeGraph', 'eyJpZCI6IDcwLCAidHlwZSI6ICJ2ZXJ0ZXgiLCAicHJvcHMiOiB7ImNvbG9yIjogNjUyODB9fQo=');</script>\n",
       "    "
      ],
      "text/plain": [
       "<IPython.core.display.HTML object>"
      ]
     },
     "metadata": {},
     "output_type": "display_data"
    },
    {
     "data": {
      "text/html": [
       "\n",
       "        <div id=\"6mTHRzH3XRjUScmiJNL4uG\"></div>\n",
       "        <script>netpixi.call('6mTHRzH3XRjUScmiJNL4uG', 'gFGaBMTAQdGaHJJQshijMZ', 'changeGraph', 'eyJpZCI6IDcxLCAidHlwZSI6ICJ2ZXJ0ZXgiLCAicHJvcHMiOiB7ImNvbG9yIjogMTY3MTE2ODB9fQo=');</script>\n",
       "    "
      ],
      "text/plain": [
       "<IPython.core.display.HTML object>"
      ]
     },
     "metadata": {},
     "output_type": "display_data"
    },
    {
     "data": {
      "text/html": [
       "\n",
       "        <div id=\"CHhfdLB6fA43XYFzZsRefs\"></div>\n",
       "        <script>netpixi.call('CHhfdLB6fA43XYFzZsRefs', 'gFGaBMTAQdGaHJJQshijMZ', 'changeGraph', 'eyJpZCI6IDcyLCAidHlwZSI6ICJ2ZXJ0ZXgiLCAicHJvcHMiOiB7ImNvbG9yIjogMTY3MTE2ODB9fQo=');</script>\n",
       "    "
      ],
      "text/plain": [
       "<IPython.core.display.HTML object>"
      ]
     },
     "metadata": {},
     "output_type": "display_data"
    },
    {
     "data": {
      "text/html": [
       "\n",
       "        <div id=\"EEZVMnhuNdzq2NTF9RXogT\"></div>\n",
       "        <script>netpixi.call('EEZVMnhuNdzq2NTF9RXogT', 'gFGaBMTAQdGaHJJQshijMZ', 'changeGraph', 'eyJpZCI6IDczLCAidHlwZSI6ICJ2ZXJ0ZXgiLCAicHJvcHMiOiB7ImNvbG9yIjogMTY3MTE2ODB9fQo=');</script>\n",
       "    "
      ],
      "text/plain": [
       "<IPython.core.display.HTML object>"
      ]
     },
     "metadata": {},
     "output_type": "display_data"
    },
    {
     "data": {
      "text/html": [
       "\n",
       "        <div id=\"6dG3rjrhKPVLjiqLgEs4WF\"></div>\n",
       "        <script>netpixi.call('6dG3rjrhKPVLjiqLgEs4WF', 'gFGaBMTAQdGaHJJQshijMZ', 'changeGraph', 'eyJpZCI6IDc0LCAidHlwZSI6ICJ2ZXJ0ZXgiLCAicHJvcHMiOiB7ImNvbG9yIjogNjUyODB9fQo=');</script>\n",
       "    "
      ],
      "text/plain": [
       "<IPython.core.display.HTML object>"
      ]
     },
     "metadata": {},
     "output_type": "display_data"
    },
    {
     "data": {
      "text/html": [
       "\n",
       "        <div id=\"5SA6cbdFFVAxqrXuKuXdVw\"></div>\n",
       "        <script>netpixi.call('5SA6cbdFFVAxqrXuKuXdVw', 'gFGaBMTAQdGaHJJQshijMZ', 'changeGraph', 'eyJpZCI6IDc1LCAidHlwZSI6ICJ2ZXJ0ZXgiLCAicHJvcHMiOiB7ImNvbG9yIjogMTY3MTE2ODB9fQo=');</script>\n",
       "    "
      ],
      "text/plain": [
       "<IPython.core.display.HTML object>"
      ]
     },
     "metadata": {},
     "output_type": "display_data"
    },
    {
     "data": {
      "text/html": [
       "\n",
       "        <div id=\"WT9DcjggmW9UYfe8XZtpPu\"></div>\n",
       "        <script>netpixi.call('WT9DcjggmW9UYfe8XZtpPu', 'gFGaBMTAQdGaHJJQshijMZ', 'changeGraph', 'eyJpZCI6IDc2LCAidHlwZSI6ICJ2ZXJ0ZXgiLCAicHJvcHMiOiB7ImNvbG9yIjogMTY3MTE2ODB9fQo=');</script>\n",
       "    "
      ],
      "text/plain": [
       "<IPython.core.display.HTML object>"
      ]
     },
     "metadata": {},
     "output_type": "display_data"
    },
    {
     "data": {
      "text/html": [
       "\n",
       "        <div id=\"kZbcLR8Sor4NuktTcHKwou\"></div>\n",
       "        <script>netpixi.call('kZbcLR8Sor4NuktTcHKwou', 'gFGaBMTAQdGaHJJQshijMZ', 'changeGraph', 'eyJpZCI6IDc3LCAidHlwZSI6ICJ2ZXJ0ZXgiLCAicHJvcHMiOiB7ImNvbG9yIjogMTY3MTE2ODB9fQo=');</script>\n",
       "    "
      ],
      "text/plain": [
       "<IPython.core.display.HTML object>"
      ]
     },
     "metadata": {},
     "output_type": "display_data"
    },
    {
     "data": {
      "text/html": [
       "\n",
       "        <div id=\"39zK78CbNYMToSZzXn2Tdb\"></div>\n",
       "        <script>netpixi.call('39zK78CbNYMToSZzXn2Tdb', 'gFGaBMTAQdGaHJJQshijMZ', 'changeGraph', 'eyJpZCI6IDc4LCAidHlwZSI6ICJ2ZXJ0ZXgiLCAicHJvcHMiOiB7ImNvbG9yIjogNjUyODB9fQo=');</script>\n",
       "    "
      ],
      "text/plain": [
       "<IPython.core.display.HTML object>"
      ]
     },
     "metadata": {},
     "output_type": "display_data"
    },
    {
     "data": {
      "text/html": [
       "\n",
       "        <div id=\"N6P566M2sUGiRDuagf7Arg\"></div>\n",
       "        <script>netpixi.call('N6P566M2sUGiRDuagf7Arg', 'gFGaBMTAQdGaHJJQshijMZ', 'changeGraph', 'eyJpZCI6IDc5LCAidHlwZSI6ICJ2ZXJ0ZXgiLCAicHJvcHMiOiB7ImNvbG9yIjogMTY3MTE2ODB9fQo=');</script>\n",
       "    "
      ],
      "text/plain": [
       "<IPython.core.display.HTML object>"
      ]
     },
     "metadata": {},
     "output_type": "display_data"
    },
    {
     "data": {
      "text/html": [
       "\n",
       "        <div id=\"ZmmKyS2ZMjTzMi8eAVEQfk\"></div>\n",
       "        <script>netpixi.call('ZmmKyS2ZMjTzMi8eAVEQfk', 'gFGaBMTAQdGaHJJQshijMZ', 'changeGraph', 'eyJpZCI6IDgwLCAidHlwZSI6ICJ2ZXJ0ZXgiLCAicHJvcHMiOiB7ImNvbG9yIjogMTY3MTE2ODB9fQo=');</script>\n",
       "    "
      ],
      "text/plain": [
       "<IPython.core.display.HTML object>"
      ]
     },
     "metadata": {},
     "output_type": "display_data"
    },
    {
     "data": {
      "text/html": [
       "\n",
       "        <div id=\"HWTZy8hnki9PqTNJmZcaMD\"></div>\n",
       "        <script>netpixi.call('HWTZy8hnki9PqTNJmZcaMD', 'gFGaBMTAQdGaHJJQshijMZ', 'changeGraph', 'eyJpZCI6IDgxLCAidHlwZSI6ICJ2ZXJ0ZXgiLCAicHJvcHMiOiB7ImNvbG9yIjogNjUyODB9fQo=');</script>\n",
       "    "
      ],
      "text/plain": [
       "<IPython.core.display.HTML object>"
      ]
     },
     "metadata": {},
     "output_type": "display_data"
    },
    {
     "data": {
      "text/html": [
       "\n",
       "        <div id=\"P5Wav6pLn8WxPEWxc3a2ZN\"></div>\n",
       "        <script>netpixi.call('P5Wav6pLn8WxPEWxc3a2ZN', 'gFGaBMTAQdGaHJJQshijMZ', 'changeGraph', 'eyJpZCI6IDgyLCAidHlwZSI6ICJ2ZXJ0ZXgiLCAicHJvcHMiOiB7ImNvbG9yIjogMTY3MTE2ODB9fQo=');</script>\n",
       "    "
      ],
      "text/plain": [
       "<IPython.core.display.HTML object>"
      ]
     },
     "metadata": {},
     "output_type": "display_data"
    },
    {
     "data": {
      "text/html": [
       "\n",
       "        <div id=\"3BuuG9Xm3LyfHaA7UMvKgw\"></div>\n",
       "        <script>netpixi.call('3BuuG9Xm3LyfHaA7UMvKgw', 'gFGaBMTAQdGaHJJQshijMZ', 'changeGraph', 'eyJpZCI6IDgzLCAidHlwZSI6ICJ2ZXJ0ZXgiLCAicHJvcHMiOiB7ImNvbG9yIjogNjUyODB9fQo=');</script>\n",
       "    "
      ],
      "text/plain": [
       "<IPython.core.display.HTML object>"
      ]
     },
     "metadata": {},
     "output_type": "display_data"
    },
    {
     "data": {
      "text/html": [
       "\n",
       "        <div id=\"RfeQ4qbDAEZ3bCH27kB7gi\"></div>\n",
       "        <script>netpixi.call('RfeQ4qbDAEZ3bCH27kB7gi', 'gFGaBMTAQdGaHJJQshijMZ', 'changeGraph', 'eyJpZCI6IDg0LCAidHlwZSI6ICJ2ZXJ0ZXgiLCAicHJvcHMiOiB7ImNvbG9yIjogNjUyODB9fQo=');</script>\n",
       "    "
      ],
      "text/plain": [
       "<IPython.core.display.HTML object>"
      ]
     },
     "metadata": {},
     "output_type": "display_data"
    },
    {
     "data": {
      "text/html": [
       "\n",
       "        <div id=\"oLkMRbARTfZdne77PXeNMA\"></div>\n",
       "        <script>netpixi.call('oLkMRbARTfZdne77PXeNMA', 'gFGaBMTAQdGaHJJQshijMZ', 'changeGraph', 'eyJpZCI6IDg1LCAidHlwZSI6ICJ2ZXJ0ZXgiLCAicHJvcHMiOiB7ImNvbG9yIjogMTY3MTE2ODB9fQo=');</script>\n",
       "    "
      ],
      "text/plain": [
       "<IPython.core.display.HTML object>"
      ]
     },
     "metadata": {},
     "output_type": "display_data"
    },
    {
     "data": {
      "text/html": [
       "\n",
       "        <div id=\"FRJPqiu7Jdks3RppRWoT2n\"></div>\n",
       "        <script>netpixi.call('FRJPqiu7Jdks3RppRWoT2n', 'gFGaBMTAQdGaHJJQshijMZ', 'changeGraph', 'eyJpZCI6IDg2LCAidHlwZSI6ICJ2ZXJ0ZXgiLCAicHJvcHMiOiB7ImNvbG9yIjogNjUyODB9fQo=');</script>\n",
       "    "
      ],
      "text/plain": [
       "<IPython.core.display.HTML object>"
      ]
     },
     "metadata": {},
     "output_type": "display_data"
    },
    {
     "data": {
      "text/html": [
       "\n",
       "        <div id=\"9YoWZTWJu45eN4RhyfPxbQ\"></div>\n",
       "        <script>netpixi.call('9YoWZTWJu45eN4RhyfPxbQ', 'gFGaBMTAQdGaHJJQshijMZ', 'changeGraph', 'eyJpZCI6IDg3LCAidHlwZSI6ICJ2ZXJ0ZXgiLCAicHJvcHMiOiB7ImNvbG9yIjogMTY3MTE2ODB9fQo=');</script>\n",
       "    "
      ],
      "text/plain": [
       "<IPython.core.display.HTML object>"
      ]
     },
     "metadata": {},
     "output_type": "display_data"
    },
    {
     "data": {
      "text/html": [
       "\n",
       "        <div id=\"WQfWWf2FJxCNeQWc3FrNui\"></div>\n",
       "        <script>netpixi.call('WQfWWf2FJxCNeQWc3FrNui', 'gFGaBMTAQdGaHJJQshijMZ', 'changeGraph', 'eyJpZCI6IDg4LCAidHlwZSI6ICJ2ZXJ0ZXgiLCAicHJvcHMiOiB7ImNvbG9yIjogMTY3MTE2ODB9fQo=');</script>\n",
       "    "
      ],
      "text/plain": [
       "<IPython.core.display.HTML object>"
      ]
     },
     "metadata": {},
     "output_type": "display_data"
    },
    {
     "data": {
      "text/html": [
       "\n",
       "        <div id=\"SNvELs8fXs4cZVQsobCeWR\"></div>\n",
       "        <script>netpixi.call('SNvELs8fXs4cZVQsobCeWR', 'gFGaBMTAQdGaHJJQshijMZ', 'changeGraph', 'eyJpZCI6IDg5LCAidHlwZSI6ICJ2ZXJ0ZXgiLCAicHJvcHMiOiB7ImNvbG9yIjogMTY3MTE2ODB9fQo=');</script>\n",
       "    "
      ],
      "text/plain": [
       "<IPython.core.display.HTML object>"
      ]
     },
     "metadata": {},
     "output_type": "display_data"
    },
    {
     "data": {
      "text/html": [
       "\n",
       "        <div id=\"2BpLJ4FvJfE6YbexBAftWc\"></div>\n",
       "        <script>netpixi.call('2BpLJ4FvJfE6YbexBAftWc', 'gFGaBMTAQdGaHJJQshijMZ', 'changeGraph', 'eyJpZCI6IDkwLCAidHlwZSI6ICJ2ZXJ0ZXgiLCAicHJvcHMiOiB7ImNvbG9yIjogMTY3MTE2ODB9fQo=');</script>\n",
       "    "
      ],
      "text/plain": [
       "<IPython.core.display.HTML object>"
      ]
     },
     "metadata": {},
     "output_type": "display_data"
    },
    {
     "data": {
      "text/html": [
       "\n",
       "        <div id=\"Ns6EQkTGjigFsHCEscBSqu\"></div>\n",
       "        <script>netpixi.call('Ns6EQkTGjigFsHCEscBSqu', 'gFGaBMTAQdGaHJJQshijMZ', 'changeGraph', 'eyJpZCI6IDkxLCAidHlwZSI6ICJ2ZXJ0ZXgiLCAicHJvcHMiOiB7ImNvbG9yIjogNjUyODB9fQo=');</script>\n",
       "    "
      ],
      "text/plain": [
       "<IPython.core.display.HTML object>"
      ]
     },
     "metadata": {},
     "output_type": "display_data"
    },
    {
     "data": {
      "text/html": [
       "\n",
       "        <div id=\"358N4KT7nBR8YTdRaQ6g2H\"></div>\n",
       "        <script>netpixi.call('358N4KT7nBR8YTdRaQ6g2H', 'gFGaBMTAQdGaHJJQshijMZ', 'changeGraph', 'eyJpZCI6IDkyLCAidHlwZSI6ICJ2ZXJ0ZXgiLCAicHJvcHMiOiB7ImNvbG9yIjogNjUyODB9fQo=');</script>\n",
       "    "
      ],
      "text/plain": [
       "<IPython.core.display.HTML object>"
      ]
     },
     "metadata": {},
     "output_type": "display_data"
    },
    {
     "data": {
      "text/html": [
       "\n",
       "        <div id=\"i8P3JG2tHe86UFjAi3bNZJ\"></div>\n",
       "        <script>netpixi.call('i8P3JG2tHe86UFjAi3bNZJ', 'gFGaBMTAQdGaHJJQshijMZ', 'changeGraph', 'eyJpZCI6IDkzLCAidHlwZSI6ICJ2ZXJ0ZXgiLCAicHJvcHMiOiB7ImNvbG9yIjogNjUyODB9fQo=');</script>\n",
       "    "
      ],
      "text/plain": [
       "<IPython.core.display.HTML object>"
      ]
     },
     "metadata": {},
     "output_type": "display_data"
    },
    {
     "data": {
      "text/html": [
       "\n",
       "        <div id=\"aNDhW9yHCSWT2fiHK5BzUJ\"></div>\n",
       "        <script>netpixi.call('aNDhW9yHCSWT2fiHK5BzUJ', 'gFGaBMTAQdGaHJJQshijMZ', 'changeGraph', 'eyJpZCI6IDk0LCAidHlwZSI6ICJ2ZXJ0ZXgiLCAicHJvcHMiOiB7ImNvbG9yIjogMTY3MTE2ODB9fQo=');</script>\n",
       "    "
      ],
      "text/plain": [
       "<IPython.core.display.HTML object>"
      ]
     },
     "metadata": {},
     "output_type": "display_data"
    },
    {
     "data": {
      "text/html": [
       "\n",
       "        <div id=\"nFebwDyNFohrMF6STKcFFk\"></div>\n",
       "        <script>netpixi.call('nFebwDyNFohrMF6STKcFFk', 'gFGaBMTAQdGaHJJQshijMZ', 'changeGraph', 'eyJpZCI6IDk1LCAidHlwZSI6ICJ2ZXJ0ZXgiLCAicHJvcHMiOiB7ImNvbG9yIjogNjUyODB9fQo=');</script>\n",
       "    "
      ],
      "text/plain": [
       "<IPython.core.display.HTML object>"
      ]
     },
     "metadata": {},
     "output_type": "display_data"
    },
    {
     "data": {
      "text/html": [
       "\n",
       "        <div id=\"VADV8nDaEjifbtxNeU8BzG\"></div>\n",
       "        <script>netpixi.call('VADV8nDaEjifbtxNeU8BzG', 'gFGaBMTAQdGaHJJQshijMZ', 'changeGraph', 'eyJpZCI6IDk2LCAidHlwZSI6ICJ2ZXJ0ZXgiLCAicHJvcHMiOiB7ImNvbG9yIjogMTY3MTE2ODB9fQo=');</script>\n",
       "    "
      ],
      "text/plain": [
       "<IPython.core.display.HTML object>"
      ]
     },
     "metadata": {},
     "output_type": "display_data"
    },
    {
     "data": {
      "text/html": [
       "\n",
       "        <div id=\"ZdCncEgXo3YtybTD4XnYcD\"></div>\n",
       "        <script>netpixi.call('ZdCncEgXo3YtybTD4XnYcD', 'gFGaBMTAQdGaHJJQshijMZ', 'changeGraph', 'eyJpZCI6IDk3LCAidHlwZSI6ICJ2ZXJ0ZXgiLCAicHJvcHMiOiB7ImNvbG9yIjogNjUyODB9fQo=');</script>\n",
       "    "
      ],
      "text/plain": [
       "<IPython.core.display.HTML object>"
      ]
     },
     "metadata": {},
     "output_type": "display_data"
    },
    {
     "data": {
      "text/html": [
       "\n",
       "        <div id=\"cgcbtPMJTXjAyBzzTYQpiW\"></div>\n",
       "        <script>netpixi.call('cgcbtPMJTXjAyBzzTYQpiW', 'gFGaBMTAQdGaHJJQshijMZ', 'changeGraph', 'eyJpZCI6IDk4LCAidHlwZSI6ICJ2ZXJ0ZXgiLCAicHJvcHMiOiB7ImNvbG9yIjogNjUyODB9fQo=');</script>\n",
       "    "
      ],
      "text/plain": [
       "<IPython.core.display.HTML object>"
      ]
     },
     "metadata": {},
     "output_type": "display_data"
    },
    {
     "data": {
      "text/html": [
       "\n",
       "        <div id=\"d7zi6g2G35Kcqua3tE47Jt\"></div>\n",
       "        <script>netpixi.call('d7zi6g2G35Kcqua3tE47Jt', 'gFGaBMTAQdGaHJJQshijMZ', 'changeGraph', 'eyJpZCI6IDk5LCAidHlwZSI6ICJ2ZXJ0ZXgiLCAicHJvcHMiOiB7ImNvbG9yIjogNjUyODB9fQo=');</script>\n",
       "    "
      ],
      "text/plain": [
       "<IPython.core.display.HTML object>"
      ]
     },
     "metadata": {},
     "output_type": "display_data"
    },
    {
     "data": {
      "text/html": [
       "\n",
       "        <div id=\"fo6a45L5gEZNSYg6B6XRxE\"></div>\n",
       "        <script>netpixi.call('fo6a45L5gEZNSYg6B6XRxE', 'gFGaBMTAQdGaHJJQshijMZ', 'changeGraph', 'eyJpZCI6IDEwMCwgInR5cGUiOiAidmVydGV4IiwgInByb3BzIjogeyJjb2xvciI6IDE2NzExNjgwfX0K');</script>\n",
       "    "
      ],
      "text/plain": [
       "<IPython.core.display.HTML object>"
      ]
     },
     "metadata": {},
     "output_type": "display_data"
    },
    {
     "data": {
      "text/html": [
       "\n",
       "        <div id=\"ELUwFdp5eANjFzZHgweHLJ\"></div>\n",
       "        <script>netpixi.call('ELUwFdp5eANjFzZHgweHLJ', 'gFGaBMTAQdGaHJJQshijMZ', 'changeGraph', 'eyJpZCI6IDEwMSwgInR5cGUiOiAidmVydGV4IiwgInByb3BzIjogeyJjb2xvciI6IDY1MjgwfX0K');</script>\n",
       "    "
      ],
      "text/plain": [
       "<IPython.core.display.HTML object>"
      ]
     },
     "metadata": {},
     "output_type": "display_data"
    },
    {
     "data": {
      "text/html": [
       "\n",
       "        <div id=\"YkyDcA7cefXy6eg6niHyoq\"></div>\n",
       "        <script>netpixi.call('YkyDcA7cefXy6eg6niHyoq', 'gFGaBMTAQdGaHJJQshijMZ', 'changeGraph', 'eyJpZCI6IDEwMiwgInR5cGUiOiAidmVydGV4IiwgInByb3BzIjogeyJjb2xvciI6IDY1MjgwfX0K');</script>\n",
       "    "
      ],
      "text/plain": [
       "<IPython.core.display.HTML object>"
      ]
     },
     "metadata": {},
     "output_type": "display_data"
    },
    {
     "data": {
      "text/html": [
       "\n",
       "        <div id=\"XpZufCsCozpQcHztzSxxN8\"></div>\n",
       "        <script>netpixi.call('XpZufCsCozpQcHztzSxxN8', 'gFGaBMTAQdGaHJJQshijMZ', 'changeGraph', 'eyJpZCI6IDEwMywgInR5cGUiOiAidmVydGV4IiwgInByb3BzIjogeyJjb2xvciI6IDE2NzExNjgwfX0K');</script>\n",
       "    "
      ],
      "text/plain": [
       "<IPython.core.display.HTML object>"
      ]
     },
     "metadata": {},
     "output_type": "display_data"
    },
    {
     "data": {
      "text/html": [
       "\n",
       "        <div id=\"TzrGqXxUgNcsrTXxwR4aFh\"></div>\n",
       "        <script>netpixi.call('TzrGqXxUgNcsrTXxwR4aFh', 'gFGaBMTAQdGaHJJQshijMZ', 'changeGraph', 'eyJpZCI6IDEwNCwgInR5cGUiOiAidmVydGV4IiwgInByb3BzIjogeyJjb2xvciI6IDE2NzExNjgwfX0K');</script>\n",
       "    "
      ],
      "text/plain": [
       "<IPython.core.display.HTML object>"
      ]
     },
     "metadata": {},
     "output_type": "display_data"
    },
    {
     "data": {
      "text/html": [
       "\n",
       "        <div id=\"K55anpwPPEJGbGfLSsyBfF\"></div>\n",
       "        <script>netpixi.call('K55anpwPPEJGbGfLSsyBfF', 'gFGaBMTAQdGaHJJQshijMZ', 'changeGraph', 'eyJpZCI6IDEwNSwgInR5cGUiOiAidmVydGV4IiwgInByb3BzIjogeyJjb2xvciI6IDE2NzExNjgwfX0K');</script>\n",
       "    "
      ],
      "text/plain": [
       "<IPython.core.display.HTML object>"
      ]
     },
     "metadata": {},
     "output_type": "display_data"
    },
    {
     "data": {
      "text/html": [
       "\n",
       "        <div id=\"cH8yja4iuLBBEsR9qKCV4H\"></div>\n",
       "        <script>netpixi.call('cH8yja4iuLBBEsR9qKCV4H', 'gFGaBMTAQdGaHJJQshijMZ', 'changeGraph', 'eyJpZCI6IDEwNiwgInR5cGUiOiAidmVydGV4IiwgInByb3BzIjogeyJjb2xvciI6IDE2NzExNjgwfX0K');</script>\n",
       "    "
      ],
      "text/plain": [
       "<IPython.core.display.HTML object>"
      ]
     },
     "metadata": {},
     "output_type": "display_data"
    },
    {
     "data": {
      "text/html": [
       "\n",
       "        <div id=\"RtoLuitqN8CtE9fGHTTcy8\"></div>\n",
       "        <script>netpixi.call('RtoLuitqN8CtE9fGHTTcy8', 'gFGaBMTAQdGaHJJQshijMZ', 'changeGraph', 'eyJpZCI6IDEwNywgInR5cGUiOiAidmVydGV4IiwgInByb3BzIjogeyJjb2xvciI6IDE2NzExNjgwfX0K');</script>\n",
       "    "
      ],
      "text/plain": [
       "<IPython.core.display.HTML object>"
      ]
     },
     "metadata": {},
     "output_type": "display_data"
    },
    {
     "data": {
      "text/html": [
       "\n",
       "        <div id=\"a9QCgGMmzhKXMXqZ9wFWd8\"></div>\n",
       "        <script>netpixi.call('a9QCgGMmzhKXMXqZ9wFWd8', 'gFGaBMTAQdGaHJJQshijMZ', 'changeGraph', 'eyJpZCI6IDEwOCwgInR5cGUiOiAidmVydGV4IiwgInByb3BzIjogeyJjb2xvciI6IDY1MjgwfX0K');</script>\n",
       "    "
      ],
      "text/plain": [
       "<IPython.core.display.HTML object>"
      ]
     },
     "metadata": {},
     "output_type": "display_data"
    },
    {
     "data": {
      "text/html": [
       "\n",
       "        <div id=\"R8XkxQSUez2ChEcQZjNC3X\"></div>\n",
       "        <script>netpixi.call('R8XkxQSUez2ChEcQZjNC3X', 'gFGaBMTAQdGaHJJQshijMZ', 'changeGraph', 'eyJpZCI6IDEwOSwgInR5cGUiOiAidmVydGV4IiwgInByb3BzIjogeyJjb2xvciI6IDE2NzExNjgwfX0K');</script>\n",
       "    "
      ],
      "text/plain": [
       "<IPython.core.display.HTML object>"
      ]
     },
     "metadata": {},
     "output_type": "display_data"
    },
    {
     "data": {
      "text/html": [
       "\n",
       "        <div id=\"eVZAL9RvCunFA7LPjHvAK8\"></div>\n",
       "        <script>netpixi.call('eVZAL9RvCunFA7LPjHvAK8', 'gFGaBMTAQdGaHJJQshijMZ', 'changeGraph', 'eyJpZCI6IDExMCwgInR5cGUiOiAidmVydGV4IiwgInByb3BzIjogeyJjb2xvciI6IDE2NzExNjgwfX0K');</script>\n",
       "    "
      ],
      "text/plain": [
       "<IPython.core.display.HTML object>"
      ]
     },
     "metadata": {},
     "output_type": "display_data"
    },
    {
     "data": {
      "text/html": [
       "\n",
       "        <div id=\"aXG7dTMPycWvoUCifj7yHq\"></div>\n",
       "        <script>netpixi.call('aXG7dTMPycWvoUCifj7yHq', 'gFGaBMTAQdGaHJJQshijMZ', 'changeGraph', 'eyJpZCI6IDExMSwgInR5cGUiOiAidmVydGV4IiwgInByb3BzIjogeyJjb2xvciI6IDE2NzExNjgwfX0K');</script>\n",
       "    "
      ],
      "text/plain": [
       "<IPython.core.display.HTML object>"
      ]
     },
     "metadata": {},
     "output_type": "display_data"
    },
    {
     "data": {
      "text/html": [
       "\n",
       "        <div id=\"TkqQCyZSM23Hb5BTmU5MSR\"></div>\n",
       "        <script>netpixi.call('TkqQCyZSM23Hb5BTmU5MSR', 'gFGaBMTAQdGaHJJQshijMZ', 'changeGraph', 'eyJpZCI6IDExMiwgInR5cGUiOiAidmVydGV4IiwgInByb3BzIjogeyJjb2xvciI6IDE2NzExNjgwfX0K');</script>\n",
       "    "
      ],
      "text/plain": [
       "<IPython.core.display.HTML object>"
      ]
     },
     "metadata": {},
     "output_type": "display_data"
    },
    {
     "data": {
      "text/html": [
       "\n",
       "        <div id=\"h2qo5uvcF6hGfRohAC6beM\"></div>\n",
       "        <script>netpixi.call('h2qo5uvcF6hGfRohAC6beM', 'gFGaBMTAQdGaHJJQshijMZ', 'changeGraph', 'eyJpZCI6IDExMywgInR5cGUiOiAidmVydGV4IiwgInByb3BzIjogeyJjb2xvciI6IDE2NzExNjgwfX0K');</script>\n",
       "    "
      ],
      "text/plain": [
       "<IPython.core.display.HTML object>"
      ]
     },
     "metadata": {},
     "output_type": "display_data"
    },
    {
     "data": {
      "text/html": [
       "\n",
       "        <div id=\"a3opyeUAEgB9tdotPYoDry\"></div>\n",
       "        <script>netpixi.call('a3opyeUAEgB9tdotPYoDry', 'gFGaBMTAQdGaHJJQshijMZ', 'changeGraph', 'eyJpZCI6IDExNCwgInR5cGUiOiAidmVydGV4IiwgInByb3BzIjogeyJjb2xvciI6IDE2NzExNjgwfX0K');</script>\n",
       "    "
      ],
      "text/plain": [
       "<IPython.core.display.HTML object>"
      ]
     },
     "metadata": {},
     "output_type": "display_data"
    },
    {
     "data": {
      "text/html": [
       "\n",
       "        <div id=\"JKmyFamQZSymJ4XLwb6wSG\"></div>\n",
       "        <script>netpixi.call('JKmyFamQZSymJ4XLwb6wSG', 'gFGaBMTAQdGaHJJQshijMZ', 'changeGraph', 'eyJpZCI6IDExNSwgInR5cGUiOiAidmVydGV4IiwgInByb3BzIjogeyJjb2xvciI6IDE2NzExNjgwfX0K');</script>\n",
       "    "
      ],
      "text/plain": [
       "<IPython.core.display.HTML object>"
      ]
     },
     "metadata": {},
     "output_type": "display_data"
    },
    {
     "data": {
      "text/html": [
       "\n",
       "        <div id=\"NgEJaimYfAJRbCK3rWBzb2\"></div>\n",
       "        <script>netpixi.call('NgEJaimYfAJRbCK3rWBzb2', 'gFGaBMTAQdGaHJJQshijMZ', 'changeGraph', 'eyJpZCI6IDExNiwgInR5cGUiOiAidmVydGV4IiwgInByb3BzIjogeyJjb2xvciI6IDE2NzExNjgwfX0K');</script>\n",
       "    "
      ],
      "text/plain": [
       "<IPython.core.display.HTML object>"
      ]
     },
     "metadata": {},
     "output_type": "display_data"
    },
    {
     "data": {
      "text/html": [
       "\n",
       "        <div id=\"evFg6hMrY9cQ6mPFe6W9DG\"></div>\n",
       "        <script>netpixi.call('evFg6hMrY9cQ6mPFe6W9DG', 'gFGaBMTAQdGaHJJQshijMZ', 'changeGraph', 'eyJpZCI6IDExNywgInR5cGUiOiAidmVydGV4IiwgInByb3BzIjogeyJjb2xvciI6IDY1MjgwfX0K');</script>\n",
       "    "
      ],
      "text/plain": [
       "<IPython.core.display.HTML object>"
      ]
     },
     "metadata": {},
     "output_type": "display_data"
    },
    {
     "data": {
      "text/html": [
       "\n",
       "        <div id=\"FcgvGdxa4ieyYBVXiSP4zU\"></div>\n",
       "        <script>netpixi.call('FcgvGdxa4ieyYBVXiSP4zU', 'gFGaBMTAQdGaHJJQshijMZ', 'changeGraph', 'eyJpZCI6IDExOCwgInR5cGUiOiAidmVydGV4IiwgInByb3BzIjogeyJjb2xvciI6IDE2NzExNjgwfX0K');</script>\n",
       "    "
      ],
      "text/plain": [
       "<IPython.core.display.HTML object>"
      ]
     },
     "metadata": {},
     "output_type": "display_data"
    },
    {
     "data": {
      "text/html": [
       "\n",
       "        <div id=\"g4wcUBbFpJrLRJdfCMh3wM\"></div>\n",
       "        <script>netpixi.call('g4wcUBbFpJrLRJdfCMh3wM', 'gFGaBMTAQdGaHJJQshijMZ', 'changeGraph', 'eyJpZCI6IDExOSwgInR5cGUiOiAidmVydGV4IiwgInByb3BzIjogeyJjb2xvciI6IDY1MjgwfX0K');</script>\n",
       "    "
      ],
      "text/plain": [
       "<IPython.core.display.HTML object>"
      ]
     },
     "metadata": {},
     "output_type": "display_data"
    },
    {
     "data": {
      "text/html": [
       "\n",
       "        <div id=\"VAKv7K7JeejDFzzptGWABK\"></div>\n",
       "        <script>netpixi.call('VAKv7K7JeejDFzzptGWABK', 'gFGaBMTAQdGaHJJQshijMZ', 'changeGraph', 'eyJpZCI6IDEyMCwgInR5cGUiOiAidmVydGV4IiwgInByb3BzIjogeyJjb2xvciI6IDY1MjgwfX0K');</script>\n",
       "    "
      ],
      "text/plain": [
       "<IPython.core.display.HTML object>"
      ]
     },
     "metadata": {},
     "output_type": "display_data"
    },
    {
     "data": {
      "text/html": [
       "\n",
       "        <div id=\"RULEZTsfz9sUqLzQP8gySJ\"></div>\n",
       "        <script>netpixi.call('RULEZTsfz9sUqLzQP8gySJ', 'gFGaBMTAQdGaHJJQshijMZ', 'changeGraph', 'eyJpZCI6IDEyMSwgInR5cGUiOiAidmVydGV4IiwgInByb3BzIjogeyJjb2xvciI6IDE2NzExNjgwfX0K');</script>\n",
       "    "
      ],
      "text/plain": [
       "<IPython.core.display.HTML object>"
      ]
     },
     "metadata": {},
     "output_type": "display_data"
    },
    {
     "data": {
      "text/html": [
       "\n",
       "        <div id=\"fHeVsxqBFCjmM8bYHRYWAr\"></div>\n",
       "        <script>netpixi.call('fHeVsxqBFCjmM8bYHRYWAr', 'gFGaBMTAQdGaHJJQshijMZ', 'changeGraph', 'eyJpZCI6IDEyMiwgInR5cGUiOiAidmVydGV4IiwgInByb3BzIjogeyJjb2xvciI6IDY1MjgwfX0K');</script>\n",
       "    "
      ],
      "text/plain": [
       "<IPython.core.display.HTML object>"
      ]
     },
     "metadata": {},
     "output_type": "display_data"
    },
    {
     "data": {
      "text/html": [
       "\n",
       "        <div id=\"WT2fFFfpFz2GsGTxSGiend\"></div>\n",
       "        <script>netpixi.call('WT2fFFfpFz2GsGTxSGiend', 'gFGaBMTAQdGaHJJQshijMZ', 'changeGraph', 'eyJpZCI6IDEyMywgInR5cGUiOiAidmVydGV4IiwgInByb3BzIjogeyJjb2xvciI6IDY1MjgwfX0K');</script>\n",
       "    "
      ],
      "text/plain": [
       "<IPython.core.display.HTML object>"
      ]
     },
     "metadata": {},
     "output_type": "display_data"
    },
    {
     "data": {
      "text/html": [
       "\n",
       "        <div id=\"XEsPQobGutXjMVhPH2ENFP\"></div>\n",
       "        <script>netpixi.call('XEsPQobGutXjMVhPH2ENFP', 'gFGaBMTAQdGaHJJQshijMZ', 'changeGraph', 'eyJpZCI6IDEyNCwgInR5cGUiOiAidmVydGV4IiwgInByb3BzIjogeyJjb2xvciI6IDE2NzExNjgwfX0K');</script>\n",
       "    "
      ],
      "text/plain": [
       "<IPython.core.display.HTML object>"
      ]
     },
     "metadata": {},
     "output_type": "display_data"
    },
    {
     "data": {
      "text/html": [
       "\n",
       "        <div id=\"WCSEciM7N6Yp5XgLDg9zup\"></div>\n",
       "        <script>netpixi.call('WCSEciM7N6Yp5XgLDg9zup', 'gFGaBMTAQdGaHJJQshijMZ', 'changeGraph', 'eyJpZCI6IDEyNSwgInR5cGUiOiAidmVydGV4IiwgInByb3BzIjogeyJjb2xvciI6IDY1MjgwfX0K');</script>\n",
       "    "
      ],
      "text/plain": [
       "<IPython.core.display.HTML object>"
      ]
     },
     "metadata": {},
     "output_type": "display_data"
    },
    {
     "data": {
      "text/html": [
       "\n",
       "        <div id=\"9rTtuPBYBCg8ofFCQyssab\"></div>\n",
       "        <script>netpixi.call('9rTtuPBYBCg8ofFCQyssab', 'gFGaBMTAQdGaHJJQshijMZ', 'changeGraph', 'eyJpZCI6IDEyNiwgInR5cGUiOiAidmVydGV4IiwgInByb3BzIjogeyJjb2xvciI6IDE2NzExNjgwfX0K');</script>\n",
       "    "
      ],
      "text/plain": [
       "<IPython.core.display.HTML object>"
      ]
     },
     "metadata": {},
     "output_type": "display_data"
    },
    {
     "data": {
      "text/html": [
       "\n",
       "        <div id=\"5SsqfQzFJtPBxsVSzPpcNW\"></div>\n",
       "        <script>netpixi.call('5SsqfQzFJtPBxsVSzPpcNW', 'gFGaBMTAQdGaHJJQshijMZ', 'changeGraph', 'eyJpZCI6IDEyNywgInR5cGUiOiAidmVydGV4IiwgInByb3BzIjogeyJjb2xvciI6IDY1MjgwfX0K');</script>\n",
       "    "
      ],
      "text/plain": [
       "<IPython.core.display.HTML object>"
      ]
     },
     "metadata": {},
     "output_type": "display_data"
    },
    {
     "data": {
      "text/html": [
       "\n",
       "        <div id=\"JKRSHtX9NmWeiMTSoaNudR\"></div>\n",
       "        <script>netpixi.call('JKRSHtX9NmWeiMTSoaNudR', 'gFGaBMTAQdGaHJJQshijMZ', 'changeGraph', 'eyJpZCI6IDEyOCwgInR5cGUiOiAidmVydGV4IiwgInByb3BzIjogeyJjb2xvciI6IDE2NzExNjgwfX0K');</script>\n",
       "    "
      ],
      "text/plain": [
       "<IPython.core.display.HTML object>"
      ]
     },
     "metadata": {},
     "output_type": "display_data"
    },
    {
     "data": {
      "text/html": [
       "\n",
       "        <div id=\"JGyhiHqvh2DhTuNuxvr4ri\"></div>\n",
       "        <script>netpixi.call('JGyhiHqvh2DhTuNuxvr4ri', 'gFGaBMTAQdGaHJJQshijMZ', 'changeGraph', 'eyJpZCI6IDEyOSwgInR5cGUiOiAidmVydGV4IiwgInByb3BzIjogeyJjb2xvciI6IDE2NzExNjgwfX0K');</script>\n",
       "    "
      ],
      "text/plain": [
       "<IPython.core.display.HTML object>"
      ]
     },
     "metadata": {},
     "output_type": "display_data"
    },
    {
     "data": {
      "text/html": [
       "\n",
       "        <div id=\"4jWYCL5uhEnnHxBu9hh9Ap\"></div>\n",
       "        <script>netpixi.call('4jWYCL5uhEnnHxBu9hh9Ap', 'gFGaBMTAQdGaHJJQshijMZ', 'changeGraph', 'eyJpZCI6IDEzMCwgInR5cGUiOiAidmVydGV4IiwgInByb3BzIjogeyJjb2xvciI6IDY1MjgwfX0K');</script>\n",
       "    "
      ],
      "text/plain": [
       "<IPython.core.display.HTML object>"
      ]
     },
     "metadata": {},
     "output_type": "display_data"
    },
    {
     "data": {
      "text/html": [
       "\n",
       "        <div id=\"aejydgq3fU5TJ4s8H3NaN2\"></div>\n",
       "        <script>netpixi.call('aejydgq3fU5TJ4s8H3NaN2', 'gFGaBMTAQdGaHJJQshijMZ', 'changeGraph', 'eyJpZCI6IDEzMSwgInR5cGUiOiAidmVydGV4IiwgInByb3BzIjogeyJjb2xvciI6IDE2NzExNjgwfX0K');</script>\n",
       "    "
      ],
      "text/plain": [
       "<IPython.core.display.HTML object>"
      ]
     },
     "metadata": {},
     "output_type": "display_data"
    },
    {
     "data": {
      "text/html": [
       "\n",
       "        <div id=\"hppN7CeKNMZVkuW4F8ph2v\"></div>\n",
       "        <script>netpixi.call('hppN7CeKNMZVkuW4F8ph2v', 'gFGaBMTAQdGaHJJQshijMZ', 'changeGraph', 'eyJpZCI6IDEzMiwgInR5cGUiOiAidmVydGV4IiwgInByb3BzIjogeyJjb2xvciI6IDE2NzExNjgwfX0K');</script>\n",
       "    "
      ],
      "text/plain": [
       "<IPython.core.display.HTML object>"
      ]
     },
     "metadata": {},
     "output_type": "display_data"
    },
    {
     "data": {
      "text/html": [
       "\n",
       "        <div id=\"VSrSmwNb3KGucTbejoTWcs\"></div>\n",
       "        <script>netpixi.call('VSrSmwNb3KGucTbejoTWcs', 'gFGaBMTAQdGaHJJQshijMZ', 'changeGraph', 'eyJpZCI6IDEzMywgInR5cGUiOiAidmVydGV4IiwgInByb3BzIjogeyJjb2xvciI6IDE2NzExNjgwfX0K');</script>\n",
       "    "
      ],
      "text/plain": [
       "<IPython.core.display.HTML object>"
      ]
     },
     "metadata": {},
     "output_type": "display_data"
    },
    {
     "data": {
      "text/html": [
       "\n",
       "        <div id=\"6L5htm2GjXJpYwzcAKdKQT\"></div>\n",
       "        <script>netpixi.call('6L5htm2GjXJpYwzcAKdKQT', 'gFGaBMTAQdGaHJJQshijMZ', 'changeGraph', 'eyJpZCI6IDEzNCwgInR5cGUiOiAidmVydGV4IiwgInByb3BzIjogeyJjb2xvciI6IDE2NzExNjgwfX0K');</script>\n",
       "    "
      ],
      "text/plain": [
       "<IPython.core.display.HTML object>"
      ]
     },
     "metadata": {},
     "output_type": "display_data"
    },
    {
     "data": {
      "text/html": [
       "\n",
       "        <div id=\"4YNQV3ze6KrZGCJECzEqBC\"></div>\n",
       "        <script>netpixi.call('4YNQV3ze6KrZGCJECzEqBC', 'gFGaBMTAQdGaHJJQshijMZ', 'changeGraph', 'eyJpZCI6IDEzNSwgInR5cGUiOiAidmVydGV4IiwgInByb3BzIjogeyJjb2xvciI6IDE2NzExNjgwfX0K');</script>\n",
       "    "
      ],
      "text/plain": [
       "<IPython.core.display.HTML object>"
      ]
     },
     "metadata": {},
     "output_type": "display_data"
    },
    {
     "data": {
      "text/html": [
       "\n",
       "        <div id=\"XdYrEsByBxUdWNrTt6VGsx\"></div>\n",
       "        <script>netpixi.call('XdYrEsByBxUdWNrTt6VGsx', 'gFGaBMTAQdGaHJJQshijMZ', 'changeGraph', 'eyJpZCI6IDEzNiwgInR5cGUiOiAidmVydGV4IiwgInByb3BzIjogeyJjb2xvciI6IDE2NzExNjgwfX0K');</script>\n",
       "    "
      ],
      "text/plain": [
       "<IPython.core.display.HTML object>"
      ]
     },
     "metadata": {},
     "output_type": "display_data"
    },
    {
     "data": {
      "text/html": [
       "\n",
       "        <div id=\"k8KTYM8EorDEyjkjMF3Lzd\"></div>\n",
       "        <script>netpixi.call('k8KTYM8EorDEyjkjMF3Lzd', 'gFGaBMTAQdGaHJJQshijMZ', 'changeGraph', 'eyJpZCI6IDEzNywgInR5cGUiOiAidmVydGV4IiwgInByb3BzIjogeyJjb2xvciI6IDY1MjgwfX0K');</script>\n",
       "    "
      ],
      "text/plain": [
       "<IPython.core.display.HTML object>"
      ]
     },
     "metadata": {},
     "output_type": "display_data"
    },
    {
     "data": {
      "text/html": [
       "\n",
       "        <div id=\"3pgSe9oaMgJAMKiEPvo7uQ\"></div>\n",
       "        <script>netpixi.call('3pgSe9oaMgJAMKiEPvo7uQ', 'gFGaBMTAQdGaHJJQshijMZ', 'changeGraph', 'eyJpZCI6IDEzOCwgInR5cGUiOiAidmVydGV4IiwgInByb3BzIjogeyJjb2xvciI6IDE2NzExNjgwfX0K');</script>\n",
       "    "
      ],
      "text/plain": [
       "<IPython.core.display.HTML object>"
      ]
     },
     "metadata": {},
     "output_type": "display_data"
    },
    {
     "data": {
      "text/html": [
       "\n",
       "        <div id=\"PtDZJPyobEJn5SKqAfNgAP\"></div>\n",
       "        <script>netpixi.call('PtDZJPyobEJn5SKqAfNgAP', 'gFGaBMTAQdGaHJJQshijMZ', 'changeGraph', 'eyJpZCI6IDEzOSwgInR5cGUiOiAidmVydGV4IiwgInByb3BzIjogeyJjb2xvciI6IDE2NzExNjgwfX0K');</script>\n",
       "    "
      ],
      "text/plain": [
       "<IPython.core.display.HTML object>"
      ]
     },
     "metadata": {},
     "output_type": "display_data"
    },
    {
     "data": {
      "text/html": [
       "\n",
       "        <div id=\"SdSuABf5ZCYKZv2Bcbi46V\"></div>\n",
       "        <script>netpixi.call('SdSuABf5ZCYKZv2Bcbi46V', 'gFGaBMTAQdGaHJJQshijMZ', 'changeGraph', 'eyJpZCI6IDE0MCwgInR5cGUiOiAidmVydGV4IiwgInByb3BzIjogeyJjb2xvciI6IDY1MjgwfX0K');</script>\n",
       "    "
      ],
      "text/plain": [
       "<IPython.core.display.HTML object>"
      ]
     },
     "metadata": {},
     "output_type": "display_data"
    },
    {
     "data": {
      "text/html": [
       "\n",
       "        <div id=\"RE56aXkeVchVP2FshMqKAv\"></div>\n",
       "        <script>netpixi.call('RE56aXkeVchVP2FshMqKAv', 'gFGaBMTAQdGaHJJQshijMZ', 'changeGraph', 'eyJpZCI6IDE0MSwgInR5cGUiOiAidmVydGV4IiwgInByb3BzIjogeyJjb2xvciI6IDY1MjgwfX0K');</script>\n",
       "    "
      ],
      "text/plain": [
       "<IPython.core.display.HTML object>"
      ]
     },
     "metadata": {},
     "output_type": "display_data"
    },
    {
     "data": {
      "text/html": [
       "\n",
       "        <div id=\"idLvMj85M4kAk7hFr7skDB\"></div>\n",
       "        <script>netpixi.call('idLvMj85M4kAk7hFr7skDB', 'gFGaBMTAQdGaHJJQshijMZ', 'changeGraph', 'eyJpZCI6IDE0MiwgInR5cGUiOiAidmVydGV4IiwgInByb3BzIjogeyJjb2xvciI6IDY1MjgwfX0K');</script>\n",
       "    "
      ],
      "text/plain": [
       "<IPython.core.display.HTML object>"
      ]
     },
     "metadata": {},
     "output_type": "display_data"
    },
    {
     "data": {
      "text/html": [
       "\n",
       "        <div id=\"mxSYsG9CyqT9rRxjcBRgde\"></div>\n",
       "        <script>netpixi.call('mxSYsG9CyqT9rRxjcBRgde', 'gFGaBMTAQdGaHJJQshijMZ', 'changeGraph', 'eyJpZCI6IDE0MywgInR5cGUiOiAidmVydGV4IiwgInByb3BzIjogeyJjb2xvciI6IDE2NzExNjgwfX0K');</script>\n",
       "    "
      ],
      "text/plain": [
       "<IPython.core.display.HTML object>"
      ]
     },
     "metadata": {},
     "output_type": "display_data"
    },
    {
     "data": {
      "text/html": [
       "\n",
       "        <div id=\"PrDy2Sm5sxcM3EXLRFddLD\"></div>\n",
       "        <script>netpixi.call('PrDy2Sm5sxcM3EXLRFddLD', 'gFGaBMTAQdGaHJJQshijMZ', 'changeGraph', 'eyJpZCI6IDE0NCwgInR5cGUiOiAidmVydGV4IiwgInByb3BzIjogeyJjb2xvciI6IDY1MjgwfX0K');</script>\n",
       "    "
      ],
      "text/plain": [
       "<IPython.core.display.HTML object>"
      ]
     },
     "metadata": {},
     "output_type": "display_data"
    },
    {
     "data": {
      "text/html": [
       "\n",
       "        <div id=\"fff2zGicugQdeMiahS8Hhf\"></div>\n",
       "        <script>netpixi.call('fff2zGicugQdeMiahS8Hhf', 'gFGaBMTAQdGaHJJQshijMZ', 'changeGraph', 'eyJpZCI6IDE0NSwgInR5cGUiOiAidmVydGV4IiwgInByb3BzIjogeyJjb2xvciI6IDE2NzExNjgwfX0K');</script>\n",
       "    "
      ],
      "text/plain": [
       "<IPython.core.display.HTML object>"
      ]
     },
     "metadata": {},
     "output_type": "display_data"
    },
    {
     "data": {
      "text/html": [
       "\n",
       "        <div id=\"nGniX3aZpuLiEgFaijWxL9\"></div>\n",
       "        <script>netpixi.call('nGniX3aZpuLiEgFaijWxL9', 'gFGaBMTAQdGaHJJQshijMZ', 'changeGraph', 'eyJpZCI6IDE0NiwgInR5cGUiOiAidmVydGV4IiwgInByb3BzIjogeyJjb2xvciI6IDY1MjgwfX0K');</script>\n",
       "    "
      ],
      "text/plain": [
       "<IPython.core.display.HTML object>"
      ]
     },
     "metadata": {},
     "output_type": "display_data"
    },
    {
     "data": {
      "text/html": [
       "\n",
       "        <div id=\"aQwrsKP6NiJf5jaBAiVY82\"></div>\n",
       "        <script>netpixi.call('aQwrsKP6NiJf5jaBAiVY82', 'gFGaBMTAQdGaHJJQshijMZ', 'changeGraph', 'eyJpZCI6IDE0NywgInR5cGUiOiAidmVydGV4IiwgInByb3BzIjogeyJjb2xvciI6IDY1MjgwfX0K');</script>\n",
       "    "
      ],
      "text/plain": [
       "<IPython.core.display.HTML object>"
      ]
     },
     "metadata": {},
     "output_type": "display_data"
    },
    {
     "data": {
      "text/html": [
       "\n",
       "        <div id=\"dbM9PL3nSu39bo2wZBMtu7\"></div>\n",
       "        <script>netpixi.call('dbM9PL3nSu39bo2wZBMtu7', 'gFGaBMTAQdGaHJJQshijMZ', 'changeGraph', 'eyJpZCI6IDE0OCwgInR5cGUiOiAidmVydGV4IiwgInByb3BzIjogeyJjb2xvciI6IDY1MjgwfX0K');</script>\n",
       "    "
      ],
      "text/plain": [
       "<IPython.core.display.HTML object>"
      ]
     },
     "metadata": {},
     "output_type": "display_data"
    },
    {
     "data": {
      "text/html": [
       "\n",
       "        <div id=\"h8AceJQLWNYFZ53hV2wWA8\"></div>\n",
       "        <script>netpixi.call('h8AceJQLWNYFZ53hV2wWA8', 'gFGaBMTAQdGaHJJQshijMZ', 'changeGraph', 'eyJpZCI6IDE0OSwgInR5cGUiOiAidmVydGV4IiwgInByb3BzIjogeyJjb2xvciI6IDE2NzExNjgwfX0K');</script>\n",
       "    "
      ],
      "text/plain": [
       "<IPython.core.display.HTML object>"
      ]
     },
     "metadata": {},
     "output_type": "display_data"
    },
    {
     "data": {
      "text/html": [
       "\n",
       "        <div id=\"Qf5sxnGLUpTzcz5gAscZb4\"></div>\n",
       "        <script>netpixi.call('Qf5sxnGLUpTzcz5gAscZb4', 'gFGaBMTAQdGaHJJQshijMZ', 'changeGraph', 'eyJpZCI6IDE1MCwgInR5cGUiOiAidmVydGV4IiwgInByb3BzIjogeyJjb2xvciI6IDE2NzExNjgwfX0K');</script>\n",
       "    "
      ],
      "text/plain": [
       "<IPython.core.display.HTML object>"
      ]
     },
     "metadata": {},
     "output_type": "display_data"
    },
    {
     "data": {
      "text/html": [
       "\n",
       "        <div id=\"DKYePbtH7j3KeEDMH7zzWi\"></div>\n",
       "        <script>netpixi.call('DKYePbtH7j3KeEDMH7zzWi', 'gFGaBMTAQdGaHJJQshijMZ', 'changeGraph', 'eyJpZCI6IDE1MSwgInR5cGUiOiAidmVydGV4IiwgInByb3BzIjogeyJjb2xvciI6IDE2NzExNjgwfX0K');</script>\n",
       "    "
      ],
      "text/plain": [
       "<IPython.core.display.HTML object>"
      ]
     },
     "metadata": {},
     "output_type": "display_data"
    },
    {
     "data": {
      "text/html": [
       "\n",
       "        <div id=\"MtfWj65JVB248viRHxn7Kj\"></div>\n",
       "        <script>netpixi.call('MtfWj65JVB248viRHxn7Kj', 'gFGaBMTAQdGaHJJQshijMZ', 'changeGraph', 'eyJpZCI6IDE1MiwgInR5cGUiOiAidmVydGV4IiwgInByb3BzIjogeyJjb2xvciI6IDY1MjgwfX0K');</script>\n",
       "    "
      ],
      "text/plain": [
       "<IPython.core.display.HTML object>"
      ]
     },
     "metadata": {},
     "output_type": "display_data"
    },
    {
     "data": {
      "text/html": [
       "\n",
       "        <div id=\"LGCVa7uShjeQHd7WYSZWBe\"></div>\n",
       "        <script>netpixi.call('LGCVa7uShjeQHd7WYSZWBe', 'gFGaBMTAQdGaHJJQshijMZ', 'changeGraph', 'eyJpZCI6IDE1MywgInR5cGUiOiAidmVydGV4IiwgInByb3BzIjogeyJjb2xvciI6IDY1MjgwfX0K');</script>\n",
       "    "
      ],
      "text/plain": [
       "<IPython.core.display.HTML object>"
      ]
     },
     "metadata": {},
     "output_type": "display_data"
    },
    {
     "data": {
      "text/html": [
       "\n",
       "        <div id=\"gtnRPwTBcyYhvheHQPu6FC\"></div>\n",
       "        <script>netpixi.call('gtnRPwTBcyYhvheHQPu6FC', 'gFGaBMTAQdGaHJJQshijMZ', 'changeGraph', 'eyJpZCI6IDE1NCwgInR5cGUiOiAidmVydGV4IiwgInByb3BzIjogeyJjb2xvciI6IDE2NzExNjgwfX0K');</script>\n",
       "    "
      ],
      "text/plain": [
       "<IPython.core.display.HTML object>"
      ]
     },
     "metadata": {},
     "output_type": "display_data"
    },
    {
     "data": {
      "text/html": [
       "\n",
       "        <div id=\"hM8rn6EXQKAjQovX68G3wY\"></div>\n",
       "        <script>netpixi.call('hM8rn6EXQKAjQovX68G3wY', 'gFGaBMTAQdGaHJJQshijMZ', 'changeGraph', 'eyJpZCI6IDE1NSwgInR5cGUiOiAidmVydGV4IiwgInByb3BzIjogeyJjb2xvciI6IDE2NzExNjgwfX0K');</script>\n",
       "    "
      ],
      "text/plain": [
       "<IPython.core.display.HTML object>"
      ]
     },
     "metadata": {},
     "output_type": "display_data"
    },
    {
     "data": {
      "text/html": [
       "\n",
       "        <div id=\"QAYgxwfMweQr38cjHyHMv2\"></div>\n",
       "        <script>netpixi.call('QAYgxwfMweQr38cjHyHMv2', 'gFGaBMTAQdGaHJJQshijMZ', 'changeGraph', 'eyJpZCI6IDE1NiwgInR5cGUiOiAidmVydGV4IiwgInByb3BzIjogeyJjb2xvciI6IDE2NzExNjgwfX0K');</script>\n",
       "    "
      ],
      "text/plain": [
       "<IPython.core.display.HTML object>"
      ]
     },
     "metadata": {},
     "output_type": "display_data"
    },
    {
     "data": {
      "text/html": [
       "\n",
       "        <div id=\"VSfc2wKqVjhxf2YvTeTf7L\"></div>\n",
       "        <script>netpixi.call('VSfc2wKqVjhxf2YvTeTf7L', 'gFGaBMTAQdGaHJJQshijMZ', 'changeGraph', 'eyJpZCI6IDE1NywgInR5cGUiOiAidmVydGV4IiwgInByb3BzIjogeyJjb2xvciI6IDY1MjgwfX0K');</script>\n",
       "    "
      ],
      "text/plain": [
       "<IPython.core.display.HTML object>"
      ]
     },
     "metadata": {},
     "output_type": "display_data"
    },
    {
     "data": {
      "text/html": [
       "\n",
       "        <div id=\"QPPQdLZoZrBKPLCPdD4bDR\"></div>\n",
       "        <script>netpixi.call('QPPQdLZoZrBKPLCPdD4bDR', 'gFGaBMTAQdGaHJJQshijMZ', 'changeGraph', 'eyJpZCI6IDE1OCwgInR5cGUiOiAidmVydGV4IiwgInByb3BzIjogeyJjb2xvciI6IDY1MjgwfX0K');</script>\n",
       "    "
      ],
      "text/plain": [
       "<IPython.core.display.HTML object>"
      ]
     },
     "metadata": {},
     "output_type": "display_data"
    },
    {
     "data": {
      "text/html": [
       "\n",
       "        <div id=\"28X2RB3BsAZxXmt4H2oPf7\"></div>\n",
       "        <script>netpixi.call('28X2RB3BsAZxXmt4H2oPf7', 'gFGaBMTAQdGaHJJQshijMZ', 'changeGraph', 'eyJpZCI6IDE1OSwgInR5cGUiOiAidmVydGV4IiwgInByb3BzIjogeyJjb2xvciI6IDY1MjgwfX0K');</script>\n",
       "    "
      ],
      "text/plain": [
       "<IPython.core.display.HTML object>"
      ]
     },
     "metadata": {},
     "output_type": "display_data"
    },
    {
     "data": {
      "text/html": [
       "\n",
       "        <div id=\"Mcv5dsYfdQ6a6Bmg8mJj6k\"></div>\n",
       "        <script>netpixi.call('Mcv5dsYfdQ6a6Bmg8mJj6k', 'gFGaBMTAQdGaHJJQshijMZ', 'changeGraph', 'eyJpZCI6IDE2MCwgInR5cGUiOiAidmVydGV4IiwgInByb3BzIjogeyJjb2xvciI6IDE2NzExNjgwfX0K');</script>\n",
       "    "
      ],
      "text/plain": [
       "<IPython.core.display.HTML object>"
      ]
     },
     "metadata": {},
     "output_type": "display_data"
    },
    {
     "data": {
      "text/html": [
       "\n",
       "        <div id=\"dv5MkYJ9PF99yFDewjPTy3\"></div>\n",
       "        <script>netpixi.call('dv5MkYJ9PF99yFDewjPTy3', 'gFGaBMTAQdGaHJJQshijMZ', 'changeGraph', 'eyJpZCI6IDE2MSwgInR5cGUiOiAidmVydGV4IiwgInByb3BzIjogeyJjb2xvciI6IDY1MjgwfX0K');</script>\n",
       "    "
      ],
      "text/plain": [
       "<IPython.core.display.HTML object>"
      ]
     },
     "metadata": {},
     "output_type": "display_data"
    },
    {
     "data": {
      "text/html": [
       "\n",
       "        <div id=\"KXWESk7oMefPaqfYZQg3uG\"></div>\n",
       "        <script>netpixi.call('KXWESk7oMefPaqfYZQg3uG', 'gFGaBMTAQdGaHJJQshijMZ', 'changeGraph', 'eyJpZCI6IDE2MiwgInR5cGUiOiAidmVydGV4IiwgInByb3BzIjogeyJjb2xvciI6IDE2NzExNjgwfX0K');</script>\n",
       "    "
      ],
      "text/plain": [
       "<IPython.core.display.HTML object>"
      ]
     },
     "metadata": {},
     "output_type": "display_data"
    },
    {
     "data": {
      "text/html": [
       "\n",
       "        <div id=\"KVnWSP5Fnd9xaJ3i4u7cUJ\"></div>\n",
       "        <script>netpixi.call('KVnWSP5Fnd9xaJ3i4u7cUJ', 'gFGaBMTAQdGaHJJQshijMZ', 'changeGraph', 'eyJpZCI6IDE2MywgInR5cGUiOiAidmVydGV4IiwgInByb3BzIjogeyJjb2xvciI6IDE2NzExNjgwfX0K');</script>\n",
       "    "
      ],
      "text/plain": [
       "<IPython.core.display.HTML object>"
      ]
     },
     "metadata": {},
     "output_type": "display_data"
    },
    {
     "data": {
      "text/html": [
       "\n",
       "        <div id=\"MLvMQLCG3xwnUMbG5zaKN6\"></div>\n",
       "        <script>netpixi.call('MLvMQLCG3xwnUMbG5zaKN6', 'gFGaBMTAQdGaHJJQshijMZ', 'changeGraph', 'eyJpZCI6IDE2NCwgInR5cGUiOiAidmVydGV4IiwgInByb3BzIjogeyJjb2xvciI6IDE2NzExNjgwfX0K');</script>\n",
       "    "
      ],
      "text/plain": [
       "<IPython.core.display.HTML object>"
      ]
     },
     "metadata": {},
     "output_type": "display_data"
    },
    {
     "data": {
      "text/html": [
       "\n",
       "        <div id=\"ezaNwPYRev5RT2563mdhBd\"></div>\n",
       "        <script>netpixi.call('ezaNwPYRev5RT2563mdhBd', 'gFGaBMTAQdGaHJJQshijMZ', 'changeGraph', 'eyJpZCI6IDE2NSwgInR5cGUiOiAidmVydGV4IiwgInByb3BzIjogeyJjb2xvciI6IDE2NzExNjgwfX0K');</script>\n",
       "    "
      ],
      "text/plain": [
       "<IPython.core.display.HTML object>"
      ]
     },
     "metadata": {},
     "output_type": "display_data"
    },
    {
     "data": {
      "text/html": [
       "\n",
       "        <div id=\"U4R8PUPzyVVShz6KNMv882\"></div>\n",
       "        <script>netpixi.call('U4R8PUPzyVVShz6KNMv882', 'gFGaBMTAQdGaHJJQshijMZ', 'changeGraph', 'eyJpZCI6IDE2NiwgInR5cGUiOiAidmVydGV4IiwgInByb3BzIjogeyJjb2xvciI6IDE2NzExNjgwfX0K');</script>\n",
       "    "
      ],
      "text/plain": [
       "<IPython.core.display.HTML object>"
      ]
     },
     "metadata": {},
     "output_type": "display_data"
    },
    {
     "data": {
      "text/html": [
       "\n",
       "        <div id=\"o5sGU56JSPQ94Yj9wrENn6\"></div>\n",
       "        <script>netpixi.call('o5sGU56JSPQ94Yj9wrENn6', 'gFGaBMTAQdGaHJJQshijMZ', 'changeGraph', 'eyJpZCI6IDE2NywgInR5cGUiOiAidmVydGV4IiwgInByb3BzIjogeyJjb2xvciI6IDE2NzExNjgwfX0K');</script>\n",
       "    "
      ],
      "text/plain": [
       "<IPython.core.display.HTML object>"
      ]
     },
     "metadata": {},
     "output_type": "display_data"
    },
    {
     "data": {
      "text/html": [
       "\n",
       "        <div id=\"AiHN2obfwTQnDfPoHCMtUE\"></div>\n",
       "        <script>netpixi.call('AiHN2obfwTQnDfPoHCMtUE', 'gFGaBMTAQdGaHJJQshijMZ', 'changeGraph', 'eyJpZCI6IDE2OCwgInR5cGUiOiAidmVydGV4IiwgInByb3BzIjogeyJjb2xvciI6IDY1MjgwfX0K');</script>\n",
       "    "
      ],
      "text/plain": [
       "<IPython.core.display.HTML object>"
      ]
     },
     "metadata": {},
     "output_type": "display_data"
    },
    {
     "data": {
      "text/html": [
       "\n",
       "        <div id=\"SsjVbrnHZSyKFCtucQcpex\"></div>\n",
       "        <script>netpixi.call('SsjVbrnHZSyKFCtucQcpex', 'gFGaBMTAQdGaHJJQshijMZ', 'changeGraph', 'eyJpZCI6IDE2OSwgInR5cGUiOiAidmVydGV4IiwgInByb3BzIjogeyJjb2xvciI6IDE2NzExNjgwfX0K');</script>\n",
       "    "
      ],
      "text/plain": [
       "<IPython.core.display.HTML object>"
      ]
     },
     "metadata": {},
     "output_type": "display_data"
    },
    {
     "data": {
      "text/html": [
       "\n",
       "        <div id=\"kadK9g5rFVJkeDxw2SXeD3\"></div>\n",
       "        <script>netpixi.call('kadK9g5rFVJkeDxw2SXeD3', 'gFGaBMTAQdGaHJJQshijMZ', 'changeGraph', 'eyJpZCI6IDE3MCwgInR5cGUiOiAidmVydGV4IiwgInByb3BzIjogeyJjb2xvciI6IDE2NzExNjgwfX0K');</script>\n",
       "    "
      ],
      "text/plain": [
       "<IPython.core.display.HTML object>"
      ]
     },
     "metadata": {},
     "output_type": "display_data"
    },
    {
     "data": {
      "text/html": [
       "\n",
       "        <div id=\"E79gmEsxAqfKbH77Ppu8S8\"></div>\n",
       "        <script>netpixi.call('E79gmEsxAqfKbH77Ppu8S8', 'gFGaBMTAQdGaHJJQshijMZ', 'changeGraph', 'eyJpZCI6IDE3MSwgInR5cGUiOiAidmVydGV4IiwgInByb3BzIjogeyJjb2xvciI6IDY1MjgwfX0K');</script>\n",
       "    "
      ],
      "text/plain": [
       "<IPython.core.display.HTML object>"
      ]
     },
     "metadata": {},
     "output_type": "display_data"
    },
    {
     "data": {
      "text/html": [
       "\n",
       "        <div id=\"5kwFUzvzG23b8TcdGTVHg7\"></div>\n",
       "        <script>netpixi.call('5kwFUzvzG23b8TcdGTVHg7', 'gFGaBMTAQdGaHJJQshijMZ', 'changeGraph', 'eyJpZCI6IDE3MiwgInR5cGUiOiAidmVydGV4IiwgInByb3BzIjogeyJjb2xvciI6IDY1MjgwfX0K');</script>\n",
       "    "
      ],
      "text/plain": [
       "<IPython.core.display.HTML object>"
      ]
     },
     "metadata": {},
     "output_type": "display_data"
    },
    {
     "data": {
      "text/html": [
       "\n",
       "        <div id=\"nftZraY68gToEidrTY95LB\"></div>\n",
       "        <script>netpixi.call('nftZraY68gToEidrTY95LB', 'gFGaBMTAQdGaHJJQshijMZ', 'changeGraph', 'eyJpZCI6IDE3MywgInR5cGUiOiAidmVydGV4IiwgInByb3BzIjogeyJjb2xvciI6IDE2NzExNjgwfX0K');</script>\n",
       "    "
      ],
      "text/plain": [
       "<IPython.core.display.HTML object>"
      ]
     },
     "metadata": {},
     "output_type": "display_data"
    },
    {
     "data": {
      "text/html": [
       "\n",
       "        <div id=\"dSGwmySiJN6NP2wkfEYqte\"></div>\n",
       "        <script>netpixi.call('dSGwmySiJN6NP2wkfEYqte', 'gFGaBMTAQdGaHJJQshijMZ', 'changeGraph', 'eyJpZCI6IDE3NCwgInR5cGUiOiAidmVydGV4IiwgInByb3BzIjogeyJjb2xvciI6IDE2NzExNjgwfX0K');</script>\n",
       "    "
      ],
      "text/plain": [
       "<IPython.core.display.HTML object>"
      ]
     },
     "metadata": {},
     "output_type": "display_data"
    },
    {
     "data": {
      "text/html": [
       "\n",
       "        <div id=\"TT5FS4TE4fZbzKrLfEvs6d\"></div>\n",
       "        <script>netpixi.call('TT5FS4TE4fZbzKrLfEvs6d', 'gFGaBMTAQdGaHJJQshijMZ', 'changeGraph', 'eyJpZCI6IDE3NSwgInR5cGUiOiAidmVydGV4IiwgInByb3BzIjogeyJjb2xvciI6IDE2NzExNjgwfX0K');</script>\n",
       "    "
      ],
      "text/plain": [
       "<IPython.core.display.HTML object>"
      ]
     },
     "metadata": {},
     "output_type": "display_data"
    },
    {
     "data": {
      "text/html": [
       "\n",
       "        <div id=\"4JpVu635ZNeCixHALgJa34\"></div>\n",
       "        <script>netpixi.call('4JpVu635ZNeCixHALgJa34', 'gFGaBMTAQdGaHJJQshijMZ', 'changeGraph', 'eyJpZCI6IDE3NiwgInR5cGUiOiAidmVydGV4IiwgInByb3BzIjogeyJjb2xvciI6IDE2NzExNjgwfX0K');</script>\n",
       "    "
      ],
      "text/plain": [
       "<IPython.core.display.HTML object>"
      ]
     },
     "metadata": {},
     "output_type": "display_data"
    },
    {
     "data": {
      "text/html": [
       "\n",
       "        <div id=\"eqQPHDpG2pyn8VJ9qCUShw\"></div>\n",
       "        <script>netpixi.call('eqQPHDpG2pyn8VJ9qCUShw', 'gFGaBMTAQdGaHJJQshijMZ', 'changeGraph', 'eyJpZCI6IDE3NywgInR5cGUiOiAidmVydGV4IiwgInByb3BzIjogeyJjb2xvciI6IDY1MjgwfX0K');</script>\n",
       "    "
      ],
      "text/plain": [
       "<IPython.core.display.HTML object>"
      ]
     },
     "metadata": {},
     "output_type": "display_data"
    },
    {
     "data": {
      "text/html": [
       "\n",
       "        <div id=\"Fvva655yuSfJSEodcLcJVm\"></div>\n",
       "        <script>netpixi.call('Fvva655yuSfJSEodcLcJVm', 'gFGaBMTAQdGaHJJQshijMZ', 'changeGraph', 'eyJpZCI6IDE3OCwgInR5cGUiOiAidmVydGV4IiwgInByb3BzIjogeyJjb2xvciI6IDE2NzExNjgwfX0K');</script>\n",
       "    "
      ],
      "text/plain": [
       "<IPython.core.display.HTML object>"
      ]
     },
     "metadata": {},
     "output_type": "display_data"
    },
    {
     "data": {
      "text/html": [
       "\n",
       "        <div id=\"CkKg6Snb4s3fcS83VFTLKi\"></div>\n",
       "        <script>netpixi.call('CkKg6Snb4s3fcS83VFTLKi', 'gFGaBMTAQdGaHJJQshijMZ', 'changeGraph', 'eyJpZCI6IDE3OSwgInR5cGUiOiAidmVydGV4IiwgInByb3BzIjogeyJjb2xvciI6IDE2NzExNjgwfX0K');</script>\n",
       "    "
      ],
      "text/plain": [
       "<IPython.core.display.HTML object>"
      ]
     },
     "metadata": {},
     "output_type": "display_data"
    },
    {
     "data": {
      "text/html": [
       "\n",
       "        <div id=\"Cha49QbVE7WQ4axx4z2FQz\"></div>\n",
       "        <script>netpixi.call('Cha49QbVE7WQ4axx4z2FQz', 'gFGaBMTAQdGaHJJQshijMZ', 'changeGraph', 'eyJpZCI6IDE4MCwgInR5cGUiOiAidmVydGV4IiwgInByb3BzIjogeyJjb2xvciI6IDE2NzExNjgwfX0K');</script>\n",
       "    "
      ],
      "text/plain": [
       "<IPython.core.display.HTML object>"
      ]
     },
     "metadata": {},
     "output_type": "display_data"
    },
    {
     "data": {
      "text/html": [
       "\n",
       "        <div id=\"Ps4mXQv3qZJwbSjZKKMxfM\"></div>\n",
       "        <script>netpixi.call('Ps4mXQv3qZJwbSjZKKMxfM', 'gFGaBMTAQdGaHJJQshijMZ', 'changeGraph', 'eyJpZCI6IDE4MSwgInR5cGUiOiAidmVydGV4IiwgInByb3BzIjogeyJjb2xvciI6IDY1MjgwfX0K');</script>\n",
       "    "
      ],
      "text/plain": [
       "<IPython.core.display.HTML object>"
      ]
     },
     "metadata": {},
     "output_type": "display_data"
    },
    {
     "data": {
      "text/html": [
       "\n",
       "        <div id=\"FRqK4cEJ9fMG9cHJDnmK3c\"></div>\n",
       "        <script>netpixi.call('FRqK4cEJ9fMG9cHJDnmK3c', 'gFGaBMTAQdGaHJJQshijMZ', 'changeGraph', 'eyJpZCI6IDE4MiwgInR5cGUiOiAidmVydGV4IiwgInByb3BzIjogeyJjb2xvciI6IDY1MjgwfX0K');</script>\n",
       "    "
      ],
      "text/plain": [
       "<IPython.core.display.HTML object>"
      ]
     },
     "metadata": {},
     "output_type": "display_data"
    },
    {
     "data": {
      "text/html": [
       "\n",
       "        <div id=\"TpBMgpadqRdEb2u3WmnbmA\"></div>\n",
       "        <script>netpixi.call('TpBMgpadqRdEb2u3WmnbmA', 'gFGaBMTAQdGaHJJQshijMZ', 'changeGraph', 'eyJpZCI6IDE4MywgInR5cGUiOiAidmVydGV4IiwgInByb3BzIjogeyJjb2xvciI6IDE2NzExNjgwfX0K');</script>\n",
       "    "
      ],
      "text/plain": [
       "<IPython.core.display.HTML object>"
      ]
     },
     "metadata": {},
     "output_type": "display_data"
    },
    {
     "data": {
      "text/html": [
       "\n",
       "        <div id=\"kXzruUFu4sxVnaUTBSdWew\"></div>\n",
       "        <script>netpixi.call('kXzruUFu4sxVnaUTBSdWew', 'gFGaBMTAQdGaHJJQshijMZ', 'changeGraph', 'eyJpZCI6IDE4NCwgInR5cGUiOiAidmVydGV4IiwgInByb3BzIjogeyJjb2xvciI6IDY1MjgwfX0K');</script>\n",
       "    "
      ],
      "text/plain": [
       "<IPython.core.display.HTML object>"
      ]
     },
     "metadata": {},
     "output_type": "display_data"
    },
    {
     "data": {
      "text/html": [
       "\n",
       "        <div id=\"CHHGyqSr3ys8rvVSzmXTLC\"></div>\n",
       "        <script>netpixi.call('CHHGyqSr3ys8rvVSzmXTLC', 'gFGaBMTAQdGaHJJQshijMZ', 'changeGraph', 'eyJpZCI6IDE4NSwgInR5cGUiOiAidmVydGV4IiwgInByb3BzIjogeyJjb2xvciI6IDE2NzExNjgwfX0K');</script>\n",
       "    "
      ],
      "text/plain": [
       "<IPython.core.display.HTML object>"
      ]
     },
     "metadata": {},
     "output_type": "display_data"
    },
    {
     "data": {
      "text/html": [
       "\n",
       "        <div id=\"Eq6gYfs8YUYMxdDMQjRSMd\"></div>\n",
       "        <script>netpixi.call('Eq6gYfs8YUYMxdDMQjRSMd', 'gFGaBMTAQdGaHJJQshijMZ', 'changeGraph', 'eyJpZCI6IDE4NiwgInR5cGUiOiAidmVydGV4IiwgInByb3BzIjogeyJjb2xvciI6IDE2NzExNjgwfX0K');</script>\n",
       "    "
      ],
      "text/plain": [
       "<IPython.core.display.HTML object>"
      ]
     },
     "metadata": {},
     "output_type": "display_data"
    },
    {
     "data": {
      "text/html": [
       "\n",
       "        <div id=\"ADDY5TSg3N2q9HWmSdHkso\"></div>\n",
       "        <script>netpixi.call('ADDY5TSg3N2q9HWmSdHkso', 'gFGaBMTAQdGaHJJQshijMZ', 'changeGraph', 'eyJpZCI6IDE4NywgInR5cGUiOiAidmVydGV4IiwgInByb3BzIjogeyJjb2xvciI6IDE2NzExNjgwfX0K');</script>\n",
       "    "
      ],
      "text/plain": [
       "<IPython.core.display.HTML object>"
      ]
     },
     "metadata": {},
     "output_type": "display_data"
    },
    {
     "data": {
      "text/html": [
       "\n",
       "        <div id=\"3VQzuiwDy5STE2gRVDtTgf\"></div>\n",
       "        <script>netpixi.call('3VQzuiwDy5STE2gRVDtTgf', 'gFGaBMTAQdGaHJJQshijMZ', 'changeGraph', 'eyJpZCI6IDE4OCwgInR5cGUiOiAidmVydGV4IiwgInByb3BzIjogeyJjb2xvciI6IDY1MjgwfX0K');</script>\n",
       "    "
      ],
      "text/plain": [
       "<IPython.core.display.HTML object>"
      ]
     },
     "metadata": {},
     "output_type": "display_data"
    },
    {
     "data": {
      "text/html": [
       "\n",
       "        <div id=\"LdLuaVuaYaefp4cTNMnfjn\"></div>\n",
       "        <script>netpixi.call('LdLuaVuaYaefp4cTNMnfjn', 'gFGaBMTAQdGaHJJQshijMZ', 'changeGraph', 'eyJpZCI6IDE4OSwgInR5cGUiOiAidmVydGV4IiwgInByb3BzIjogeyJjb2xvciI6IDY1MjgwfX0K');</script>\n",
       "    "
      ],
      "text/plain": [
       "<IPython.core.display.HTML object>"
      ]
     },
     "metadata": {},
     "output_type": "display_data"
    },
    {
     "data": {
      "text/html": [
       "\n",
       "        <div id=\"VRbetvJuzawDRbRDXUNaxk\"></div>\n",
       "        <script>netpixi.call('VRbetvJuzawDRbRDXUNaxk', 'gFGaBMTAQdGaHJJQshijMZ', 'changeGraph', 'eyJpZCI6IDE5MCwgInR5cGUiOiAidmVydGV4IiwgInByb3BzIjogeyJjb2xvciI6IDY1MjgwfX0K');</script>\n",
       "    "
      ],
      "text/plain": [
       "<IPython.core.display.HTML object>"
      ]
     },
     "metadata": {},
     "output_type": "display_data"
    },
    {
     "data": {
      "text/html": [
       "\n",
       "        <div id=\"2VgJefmd4LsytNVj8MSDWc\"></div>\n",
       "        <script>netpixi.call('2VgJefmd4LsytNVj8MSDWc', 'gFGaBMTAQdGaHJJQshijMZ', 'changeGraph', 'eyJpZCI6IDE5MSwgInR5cGUiOiAidmVydGV4IiwgInByb3BzIjogeyJjb2xvciI6IDY1MjgwfX0K');</script>\n",
       "    "
      ],
      "text/plain": [
       "<IPython.core.display.HTML object>"
      ]
     },
     "metadata": {},
     "output_type": "display_data"
    },
    {
     "data": {
      "text/html": [
       "\n",
       "        <div id=\"V3zBKM6FBKY6Fz72k5CBEx\"></div>\n",
       "        <script>netpixi.call('V3zBKM6FBKY6Fz72k5CBEx', 'gFGaBMTAQdGaHJJQshijMZ', 'changeGraph', 'eyJpZCI6IDE5MiwgInR5cGUiOiAidmVydGV4IiwgInByb3BzIjogeyJjb2xvciI6IDE2NzExNjgwfX0K');</script>\n",
       "    "
      ],
      "text/plain": [
       "<IPython.core.display.HTML object>"
      ]
     },
     "metadata": {},
     "output_type": "display_data"
    },
    {
     "data": {
      "text/html": [
       "\n",
       "        <div id=\"Gk8YvCeQtvxmDUCnWUWf73\"></div>\n",
       "        <script>netpixi.call('Gk8YvCeQtvxmDUCnWUWf73', 'gFGaBMTAQdGaHJJQshijMZ', 'changeGraph', 'eyJpZCI6IDE5MywgInR5cGUiOiAidmVydGV4IiwgInByb3BzIjogeyJjb2xvciI6IDY1MjgwfX0K');</script>\n",
       "    "
      ],
      "text/plain": [
       "<IPython.core.display.HTML object>"
      ]
     },
     "metadata": {},
     "output_type": "display_data"
    },
    {
     "data": {
      "text/html": [
       "\n",
       "        <div id=\"PTU2KdUW8aBsw7fkKxYmdD\"></div>\n",
       "        <script>netpixi.call('PTU2KdUW8aBsw7fkKxYmdD', 'gFGaBMTAQdGaHJJQshijMZ', 'changeGraph', 'eyJpZCI6IDE5NCwgInR5cGUiOiAidmVydGV4IiwgInByb3BzIjogeyJjb2xvciI6IDY1MjgwfX0K');</script>\n",
       "    "
      ],
      "text/plain": [
       "<IPython.core.display.HTML object>"
      ]
     },
     "metadata": {},
     "output_type": "display_data"
    },
    {
     "data": {
      "text/html": [
       "\n",
       "        <div id=\"D4RPdzG55oMxcz5ZumdJe4\"></div>\n",
       "        <script>netpixi.call('D4RPdzG55oMxcz5ZumdJe4', 'gFGaBMTAQdGaHJJQshijMZ', 'changeGraph', 'eyJpZCI6IDE5NSwgInR5cGUiOiAidmVydGV4IiwgInByb3BzIjogeyJjb2xvciI6IDE2NzExNjgwfX0K');</script>\n",
       "    "
      ],
      "text/plain": [
       "<IPython.core.display.HTML object>"
      ]
     },
     "metadata": {},
     "output_type": "display_data"
    },
    {
     "data": {
      "text/html": [
       "\n",
       "        <div id=\"EiFkoEdWzu56PAHz9tyRSa\"></div>\n",
       "        <script>netpixi.call('EiFkoEdWzu56PAHz9tyRSa', 'gFGaBMTAQdGaHJJQshijMZ', 'changeGraph', 'eyJpZCI6IDE5NiwgInR5cGUiOiAidmVydGV4IiwgInByb3BzIjogeyJjb2xvciI6IDE2NzExNjgwfX0K');</script>\n",
       "    "
      ],
      "text/plain": [
       "<IPython.core.display.HTML object>"
      ]
     },
     "metadata": {},
     "output_type": "display_data"
    },
    {
     "data": {
      "text/html": [
       "\n",
       "        <div id=\"dwEoCc3xjtjmy9TkbCtwMj\"></div>\n",
       "        <script>netpixi.call('dwEoCc3xjtjmy9TkbCtwMj', 'gFGaBMTAQdGaHJJQshijMZ', 'changeGraph', 'eyJpZCI6IDE5NywgInR5cGUiOiAidmVydGV4IiwgInByb3BzIjogeyJjb2xvciI6IDE2NzExNjgwfX0K');</script>\n",
       "    "
      ],
      "text/plain": [
       "<IPython.core.display.HTML object>"
      ]
     },
     "metadata": {},
     "output_type": "display_data"
    },
    {
     "data": {
      "text/html": [
       "\n",
       "        <div id=\"SHyFttTHqd9fMkoCrRG4Sk\"></div>\n",
       "        <script>netpixi.call('SHyFttTHqd9fMkoCrRG4Sk', 'gFGaBMTAQdGaHJJQshijMZ', 'changeGraph', 'eyJpZCI6IDE5OCwgInR5cGUiOiAidmVydGV4IiwgInByb3BzIjogeyJjb2xvciI6IDE2NzExNjgwfX0K');</script>\n",
       "    "
      ],
      "text/plain": [
       "<IPython.core.display.HTML object>"
      ]
     },
     "metadata": {},
     "output_type": "display_data"
    },
    {
     "data": {
      "text/html": [
       "\n",
       "        <div id=\"APZjApLmjfTQ9bMn4Z4nbs\"></div>\n",
       "        <script>netpixi.call('APZjApLmjfTQ9bMn4Z4nbs', 'gFGaBMTAQdGaHJJQshijMZ', 'changeGraph', 'eyJpZCI6IDE5OSwgInR5cGUiOiAidmVydGV4IiwgInByb3BzIjogeyJjb2xvciI6IDY1MjgwfX0K');</script>\n",
       "    "
      ],
      "text/plain": [
       "<IPython.core.display.HTML object>"
      ]
     },
     "metadata": {},
     "output_type": "display_data"
    },
    {
     "data": {
      "text/html": [
       "\n",
       "        <div id=\"GKJGfCkodQo8c2B7yNFKH3\"></div>\n",
       "        <script>netpixi.call('GKJGfCkodQo8c2B7yNFKH3', 'gFGaBMTAQdGaHJJQshijMZ', 'changeGraph', 'eyJpZCI6IDIwMCwgInR5cGUiOiAidmVydGV4IiwgInByb3BzIjogeyJjb2xvciI6IDY1MjgwfX0K');</script>\n",
       "    "
      ],
      "text/plain": [
       "<IPython.core.display.HTML object>"
      ]
     },
     "metadata": {},
     "output_type": "display_data"
    },
    {
     "data": {
      "text/html": [
       "\n",
       "        <div id=\"FdczBMQpybdoqHWbRUnkrk\"></div>\n",
       "        <script>netpixi.call('FdczBMQpybdoqHWbRUnkrk', 'gFGaBMTAQdGaHJJQshijMZ', 'changeGraph', 'eyJpZCI6IDIwMSwgInR5cGUiOiAidmVydGV4IiwgInByb3BzIjogeyJjb2xvciI6IDE2NzExNjgwfX0K');</script>\n",
       "    "
      ],
      "text/plain": [
       "<IPython.core.display.HTML object>"
      ]
     },
     "metadata": {},
     "output_type": "display_data"
    },
    {
     "data": {
      "text/html": [
       "\n",
       "        <div id=\"kdS8ktUbYjXToXS5rCpzYw\"></div>\n",
       "        <script>netpixi.call('kdS8ktUbYjXToXS5rCpzYw', 'gFGaBMTAQdGaHJJQshijMZ', 'changeGraph', 'eyJpZCI6IDIwMiwgInR5cGUiOiAidmVydGV4IiwgInByb3BzIjogeyJjb2xvciI6IDE2NzExNjgwfX0K');</script>\n",
       "    "
      ],
      "text/plain": [
       "<IPython.core.display.HTML object>"
      ]
     },
     "metadata": {},
     "output_type": "display_data"
    },
    {
     "data": {
      "text/html": [
       "\n",
       "        <div id=\"7J6cwas52rdDaoKUNyFTs5\"></div>\n",
       "        <script>netpixi.call('7J6cwas52rdDaoKUNyFTs5', 'gFGaBMTAQdGaHJJQshijMZ', 'changeGraph', 'eyJpZCI6IDIwMywgInR5cGUiOiAidmVydGV4IiwgInByb3BzIjogeyJjb2xvciI6IDY1MjgwfX0K');</script>\n",
       "    "
      ],
      "text/plain": [
       "<IPython.core.display.HTML object>"
      ]
     },
     "metadata": {},
     "output_type": "display_data"
    },
    {
     "data": {
      "text/html": [
       "\n",
       "        <div id=\"a6z2RAuxQVo7fH6L88a4Gj\"></div>\n",
       "        <script>netpixi.call('a6z2RAuxQVo7fH6L88a4Gj', 'gFGaBMTAQdGaHJJQshijMZ', 'changeGraph', 'eyJpZCI6IDIwNCwgInR5cGUiOiAidmVydGV4IiwgInByb3BzIjogeyJjb2xvciI6IDY1MjgwfX0K');</script>\n",
       "    "
      ],
      "text/plain": [
       "<IPython.core.display.HTML object>"
      ]
     },
     "metadata": {},
     "output_type": "display_data"
    },
    {
     "data": {
      "text/html": [
       "\n",
       "        <div id=\"BKyeSu6BQLSxybDeKtuEBB\"></div>\n",
       "        <script>netpixi.call('BKyeSu6BQLSxybDeKtuEBB', 'gFGaBMTAQdGaHJJQshijMZ', 'changeGraph', 'eyJpZCI6IDIwNSwgInR5cGUiOiAidmVydGV4IiwgInByb3BzIjogeyJjb2xvciI6IDE2NzExNjgwfX0K');</script>\n",
       "    "
      ],
      "text/plain": [
       "<IPython.core.display.HTML object>"
      ]
     },
     "metadata": {},
     "output_type": "display_data"
    },
    {
     "data": {
      "text/html": [
       "\n",
       "        <div id=\"Rje2gk75xE8nVYVfcyLjx5\"></div>\n",
       "        <script>netpixi.call('Rje2gk75xE8nVYVfcyLjx5', 'gFGaBMTAQdGaHJJQshijMZ', 'changeGraph', 'eyJpZCI6IDIwNiwgInR5cGUiOiAidmVydGV4IiwgInByb3BzIjogeyJjb2xvciI6IDE2NzExNjgwfX0K');</script>\n",
       "    "
      ],
      "text/plain": [
       "<IPython.core.display.HTML object>"
      ]
     },
     "metadata": {},
     "output_type": "display_data"
    },
    {
     "data": {
      "text/html": [
       "\n",
       "        <div id=\"2p7ZkuaH3WDQe5XKgNnuNa\"></div>\n",
       "        <script>netpixi.call('2p7ZkuaH3WDQe5XKgNnuNa', 'gFGaBMTAQdGaHJJQshijMZ', 'changeGraph', 'eyJpZCI6IDIwNywgInR5cGUiOiAidmVydGV4IiwgInByb3BzIjogeyJjb2xvciI6IDY1MjgwfX0K');</script>\n",
       "    "
      ],
      "text/plain": [
       "<IPython.core.display.HTML object>"
      ]
     },
     "metadata": {},
     "output_type": "display_data"
    },
    {
     "data": {
      "text/html": [
       "\n",
       "        <div id=\"34D9NFNu9K3CkQiziN3w7L\"></div>\n",
       "        <script>netpixi.call('34D9NFNu9K3CkQiziN3w7L', 'gFGaBMTAQdGaHJJQshijMZ', 'changeGraph', 'eyJpZCI6IDIwOCwgInR5cGUiOiAidmVydGV4IiwgInByb3BzIjogeyJjb2xvciI6IDY1MjgwfX0K');</script>\n",
       "    "
      ],
      "text/plain": [
       "<IPython.core.display.HTML object>"
      ]
     },
     "metadata": {},
     "output_type": "display_data"
    },
    {
     "data": {
      "text/html": [
       "\n",
       "        <div id=\"7Lf8AJJZ6oZ2q8mdEcAYBx\"></div>\n",
       "        <script>netpixi.call('7Lf8AJJZ6oZ2q8mdEcAYBx', 'gFGaBMTAQdGaHJJQshijMZ', 'changeGraph', 'eyJpZCI6IDIwOSwgInR5cGUiOiAidmVydGV4IiwgInByb3BzIjogeyJjb2xvciI6IDY1MjgwfX0K');</script>\n",
       "    "
      ],
      "text/plain": [
       "<IPython.core.display.HTML object>"
      ]
     },
     "metadata": {},
     "output_type": "display_data"
    },
    {
     "data": {
      "text/html": [
       "\n",
       "        <div id=\"LYLQu6TLCsVKmDYtB4BHXF\"></div>\n",
       "        <script>netpixi.call('LYLQu6TLCsVKmDYtB4BHXF', 'gFGaBMTAQdGaHJJQshijMZ', 'changeGraph', 'eyJpZCI6IDIxMCwgInR5cGUiOiAidmVydGV4IiwgInByb3BzIjogeyJjb2xvciI6IDE2NzExNjgwfX0K');</script>\n",
       "    "
      ],
      "text/plain": [
       "<IPython.core.display.HTML object>"
      ]
     },
     "metadata": {},
     "output_type": "display_data"
    },
    {
     "data": {
      "text/html": [
       "\n",
       "        <div id=\"Ydh9uZHzMoakctHFpvJvN5\"></div>\n",
       "        <script>netpixi.call('Ydh9uZHzMoakctHFpvJvN5', 'gFGaBMTAQdGaHJJQshijMZ', 'changeGraph', 'eyJpZCI6IDIxMSwgInR5cGUiOiAidmVydGV4IiwgInByb3BzIjogeyJjb2xvciI6IDY1MjgwfX0K');</script>\n",
       "    "
      ],
      "text/plain": [
       "<IPython.core.display.HTML object>"
      ]
     },
     "metadata": {},
     "output_type": "display_data"
    },
    {
     "data": {
      "text/html": [
       "\n",
       "        <div id=\"WQArgGZ7G85JEKU4hsAzNK\"></div>\n",
       "        <script>netpixi.call('WQArgGZ7G85JEKU4hsAzNK', 'gFGaBMTAQdGaHJJQshijMZ', 'changeGraph', 'eyJpZCI6IDIxMiwgInR5cGUiOiAidmVydGV4IiwgInByb3BzIjogeyJjb2xvciI6IDE2NzExNjgwfX0K');</script>\n",
       "    "
      ],
      "text/plain": [
       "<IPython.core.display.HTML object>"
      ]
     },
     "metadata": {},
     "output_type": "display_data"
    },
    {
     "data": {
      "text/html": [
       "\n",
       "        <div id=\"NqfTYJhPsqARzbPvb6DPqU\"></div>\n",
       "        <script>netpixi.call('NqfTYJhPsqARzbPvb6DPqU', 'gFGaBMTAQdGaHJJQshijMZ', 'changeGraph', 'eyJpZCI6IDIxMywgInR5cGUiOiAidmVydGV4IiwgInByb3BzIjogeyJjb2xvciI6IDY1MjgwfX0K');</script>\n",
       "    "
      ],
      "text/plain": [
       "<IPython.core.display.HTML object>"
      ]
     },
     "metadata": {},
     "output_type": "display_data"
    },
    {
     "data": {
      "text/html": [
       "\n",
       "        <div id=\"iWwx5MxzVgXcas2fEuuoSv\"></div>\n",
       "        <script>netpixi.call('iWwx5MxzVgXcas2fEuuoSv', 'gFGaBMTAQdGaHJJQshijMZ', 'changeGraph', 'eyJpZCI6IDIxNCwgInR5cGUiOiAidmVydGV4IiwgInByb3BzIjogeyJjb2xvciI6IDE2NzExNjgwfX0K');</script>\n",
       "    "
      ],
      "text/plain": [
       "<IPython.core.display.HTML object>"
      ]
     },
     "metadata": {},
     "output_type": "display_data"
    },
    {
     "data": {
      "text/html": [
       "\n",
       "        <div id=\"2FZqx2iM6JYXXAHuzeaLHg\"></div>\n",
       "        <script>netpixi.call('2FZqx2iM6JYXXAHuzeaLHg', 'gFGaBMTAQdGaHJJQshijMZ', 'changeGraph', 'eyJpZCI6IDIxNSwgInR5cGUiOiAidmVydGV4IiwgInByb3BzIjogeyJjb2xvciI6IDE2NzExNjgwfX0K');</script>\n",
       "    "
      ],
      "text/plain": [
       "<IPython.core.display.HTML object>"
      ]
     },
     "metadata": {},
     "output_type": "display_data"
    },
    {
     "data": {
      "text/html": [
       "\n",
       "        <div id=\"F8HxuEECVeK5SV5Vep6TE8\"></div>\n",
       "        <script>netpixi.call('F8HxuEECVeK5SV5Vep6TE8', 'gFGaBMTAQdGaHJJQshijMZ', 'changeGraph', 'eyJpZCI6IDIxNiwgInR5cGUiOiAidmVydGV4IiwgInByb3BzIjogeyJjb2xvciI6IDE2NzExNjgwfX0K');</script>\n",
       "    "
      ],
      "text/plain": [
       "<IPython.core.display.HTML object>"
      ]
     },
     "metadata": {},
     "output_type": "display_data"
    },
    {
     "data": {
      "text/html": [
       "\n",
       "        <div id=\"fscPzc92d78FQm4yAge6vb\"></div>\n",
       "        <script>netpixi.call('fscPzc92d78FQm4yAge6vb', 'gFGaBMTAQdGaHJJQshijMZ', 'changeGraph', 'eyJpZCI6IDIxNywgInR5cGUiOiAidmVydGV4IiwgInByb3BzIjogeyJjb2xvciI6IDE2NzExNjgwfX0K');</script>\n",
       "    "
      ],
      "text/plain": [
       "<IPython.core.display.HTML object>"
      ]
     },
     "metadata": {},
     "output_type": "display_data"
    },
    {
     "data": {
      "text/html": [
       "\n",
       "        <div id=\"RvJUTC25LCPGTm2BMqUJjo\"></div>\n",
       "        <script>netpixi.call('RvJUTC25LCPGTm2BMqUJjo', 'gFGaBMTAQdGaHJJQshijMZ', 'changeGraph', 'eyJpZCI6IDIxOCwgInR5cGUiOiAidmVydGV4IiwgInByb3BzIjogeyJjb2xvciI6IDE2NzExNjgwfX0K');</script>\n",
       "    "
      ],
      "text/plain": [
       "<IPython.core.display.HTML object>"
      ]
     },
     "metadata": {},
     "output_type": "display_data"
    },
    {
     "data": {
      "text/html": [
       "\n",
       "        <div id=\"aZPx2PY4DudDN8Yoh9fBn6\"></div>\n",
       "        <script>netpixi.call('aZPx2PY4DudDN8Yoh9fBn6', 'gFGaBMTAQdGaHJJQshijMZ', 'changeGraph', 'eyJpZCI6IDIxOSwgInR5cGUiOiAidmVydGV4IiwgInByb3BzIjogeyJjb2xvciI6IDE2NzExNjgwfX0K');</script>\n",
       "    "
      ],
      "text/plain": [
       "<IPython.core.display.HTML object>"
      ]
     },
     "metadata": {},
     "output_type": "display_data"
    },
    {
     "data": {
      "text/html": [
       "\n",
       "        <div id=\"Nk7boELgQMZwAiyPDeJXKy\"></div>\n",
       "        <script>netpixi.call('Nk7boELgQMZwAiyPDeJXKy', 'gFGaBMTAQdGaHJJQshijMZ', 'changeGraph', 'eyJpZCI6IDIyMCwgInR5cGUiOiAidmVydGV4IiwgInByb3BzIjogeyJjb2xvciI6IDE2NzExNjgwfX0K');</script>\n",
       "    "
      ],
      "text/plain": [
       "<IPython.core.display.HTML object>"
      ]
     },
     "metadata": {},
     "output_type": "display_data"
    },
    {
     "data": {
      "text/html": [
       "\n",
       "        <div id=\"ZiswXtNs2fE7k3YH45qRLZ\"></div>\n",
       "        <script>netpixi.call('ZiswXtNs2fE7k3YH45qRLZ', 'gFGaBMTAQdGaHJJQshijMZ', 'changeGraph', 'eyJpZCI6IDIyMSwgInR5cGUiOiAidmVydGV4IiwgInByb3BzIjogeyJjb2xvciI6IDE2NzExNjgwfX0K');</script>\n",
       "    "
      ],
      "text/plain": [
       "<IPython.core.display.HTML object>"
      ]
     },
     "metadata": {},
     "output_type": "display_data"
    },
    {
     "data": {
      "text/html": [
       "\n",
       "        <div id=\"agT7iNsnhmxL6QcTRerCmc\"></div>\n",
       "        <script>netpixi.call('agT7iNsnhmxL6QcTRerCmc', 'gFGaBMTAQdGaHJJQshijMZ', 'changeGraph', 'eyJpZCI6IDIyMiwgInR5cGUiOiAidmVydGV4IiwgInByb3BzIjogeyJjb2xvciI6IDE2NzExNjgwfX0K');</script>\n",
       "    "
      ],
      "text/plain": [
       "<IPython.core.display.HTML object>"
      ]
     },
     "metadata": {},
     "output_type": "display_data"
    },
    {
     "data": {
      "text/html": [
       "\n",
       "        <div id=\"JV3DpHHvswTUDkKC8PzyMJ\"></div>\n",
       "        <script>netpixi.call('JV3DpHHvswTUDkKC8PzyMJ', 'gFGaBMTAQdGaHJJQshijMZ', 'changeGraph', 'eyJpZCI6IDIyMywgInR5cGUiOiAidmVydGV4IiwgInByb3BzIjogeyJjb2xvciI6IDE2NzExNjgwfX0K');</script>\n",
       "    "
      ],
      "text/plain": [
       "<IPython.core.display.HTML object>"
      ]
     },
     "metadata": {},
     "output_type": "display_data"
    },
    {
     "data": {
      "text/html": [
       "\n",
       "        <div id=\"jsYu3Vo6JYEVG53aSVTASJ\"></div>\n",
       "        <script>netpixi.call('jsYu3Vo6JYEVG53aSVTASJ', 'gFGaBMTAQdGaHJJQshijMZ', 'changeGraph', 'eyJpZCI6IDIyNCwgInR5cGUiOiAidmVydGV4IiwgInByb3BzIjogeyJjb2xvciI6IDE2NzExNjgwfX0K');</script>\n",
       "    "
      ],
      "text/plain": [
       "<IPython.core.display.HTML object>"
      ]
     },
     "metadata": {},
     "output_type": "display_data"
    },
    {
     "data": {
      "text/html": [
       "\n",
       "        <div id=\"eo3hGDmRh4MEbcmxhzyCY8\"></div>\n",
       "        <script>netpixi.call('eo3hGDmRh4MEbcmxhzyCY8', 'gFGaBMTAQdGaHJJQshijMZ', 'changeGraph', 'eyJpZCI6IDIyNSwgInR5cGUiOiAidmVydGV4IiwgInByb3BzIjogeyJjb2xvciI6IDE2NzExNjgwfX0K');</script>\n",
       "    "
      ],
      "text/plain": [
       "<IPython.core.display.HTML object>"
      ]
     },
     "metadata": {},
     "output_type": "display_data"
    },
    {
     "data": {
      "text/html": [
       "\n",
       "        <div id=\"d6H8VPxpZ5g6UkKcR7Kmdw\"></div>\n",
       "        <script>netpixi.call('d6H8VPxpZ5g6UkKcR7Kmdw', 'gFGaBMTAQdGaHJJQshijMZ', 'changeGraph', 'eyJpZCI6IDIyNiwgInR5cGUiOiAidmVydGV4IiwgInByb3BzIjogeyJjb2xvciI6IDE2NzExNjgwfX0K');</script>\n",
       "    "
      ],
      "text/plain": [
       "<IPython.core.display.HTML object>"
      ]
     },
     "metadata": {},
     "output_type": "display_data"
    },
    {
     "data": {
      "text/html": [
       "\n",
       "        <div id=\"AVWjDK86enMY4WqQwavCxr\"></div>\n",
       "        <script>netpixi.call('AVWjDK86enMY4WqQwavCxr', 'gFGaBMTAQdGaHJJQshijMZ', 'changeGraph', 'eyJpZCI6IDIyNywgInR5cGUiOiAidmVydGV4IiwgInByb3BzIjogeyJjb2xvciI6IDY1MjgwfX0K');</script>\n",
       "    "
      ],
      "text/plain": [
       "<IPython.core.display.HTML object>"
      ]
     },
     "metadata": {},
     "output_type": "display_data"
    },
    {
     "data": {
      "text/html": [
       "\n",
       "        <div id=\"VtD3fa7ahS3pyRaMvwdeUA\"></div>\n",
       "        <script>netpixi.call('VtD3fa7ahS3pyRaMvwdeUA', 'gFGaBMTAQdGaHJJQshijMZ', 'changeGraph', 'eyJpZCI6IDIyOCwgInR5cGUiOiAidmVydGV4IiwgInByb3BzIjogeyJjb2xvciI6IDY1MjgwfX0K');</script>\n",
       "    "
      ],
      "text/plain": [
       "<IPython.core.display.HTML object>"
      ]
     },
     "metadata": {},
     "output_type": "display_data"
    },
    {
     "data": {
      "text/html": [
       "\n",
       "        <div id=\"DjFyESw4uCEv2qYt7syEXq\"></div>\n",
       "        <script>netpixi.call('DjFyESw4uCEv2qYt7syEXq', 'gFGaBMTAQdGaHJJQshijMZ', 'changeGraph', 'eyJpZCI6IDIyOSwgInR5cGUiOiAidmVydGV4IiwgInByb3BzIjogeyJjb2xvciI6IDE2NzExNjgwfX0K');</script>\n",
       "    "
      ],
      "text/plain": [
       "<IPython.core.display.HTML object>"
      ]
     },
     "metadata": {},
     "output_type": "display_data"
    },
    {
     "data": {
      "text/html": [
       "\n",
       "        <div id=\"GQqFyD4xQxWHcRoDBj6YH3\"></div>\n",
       "        <script>netpixi.call('GQqFyD4xQxWHcRoDBj6YH3', 'gFGaBMTAQdGaHJJQshijMZ', 'changeGraph', 'eyJpZCI6IDIzMCwgInR5cGUiOiAidmVydGV4IiwgInByb3BzIjogeyJjb2xvciI6IDE2NzExNjgwfX0K');</script>\n",
       "    "
      ],
      "text/plain": [
       "<IPython.core.display.HTML object>"
      ]
     },
     "metadata": {},
     "output_type": "display_data"
    },
    {
     "data": {
      "text/html": [
       "\n",
       "        <div id=\"BUu9wipa3dDzLR9RriqKJg\"></div>\n",
       "        <script>netpixi.call('BUu9wipa3dDzLR9RriqKJg', 'gFGaBMTAQdGaHJJQshijMZ', 'changeGraph', 'eyJpZCI6IDIzMSwgInR5cGUiOiAidmVydGV4IiwgInByb3BzIjogeyJjb2xvciI6IDY1MjgwfX0K');</script>\n",
       "    "
      ],
      "text/plain": [
       "<IPython.core.display.HTML object>"
      ]
     },
     "metadata": {},
     "output_type": "display_data"
    },
    {
     "data": {
      "text/html": [
       "\n",
       "        <div id=\"PKBeZRcTFBwtERZvtLZBvC\"></div>\n",
       "        <script>netpixi.call('PKBeZRcTFBwtERZvtLZBvC', 'gFGaBMTAQdGaHJJQshijMZ', 'changeGraph', 'eyJpZCI6IDIzMiwgInR5cGUiOiAidmVydGV4IiwgInByb3BzIjogeyJjb2xvciI6IDE2NzExNjgwfX0K');</script>\n",
       "    "
      ],
      "text/plain": [
       "<IPython.core.display.HTML object>"
      ]
     },
     "metadata": {},
     "output_type": "display_data"
    },
    {
     "data": {
      "text/html": [
       "\n",
       "        <div id=\"3b48B6rtQJzHMXXX9Xumco\"></div>\n",
       "        <script>netpixi.call('3b48B6rtQJzHMXXX9Xumco', 'gFGaBMTAQdGaHJJQshijMZ', 'changeGraph', 'eyJpZCI6IDIzMywgInR5cGUiOiAidmVydGV4IiwgInByb3BzIjogeyJjb2xvciI6IDE2NzExNjgwfX0K');</script>\n",
       "    "
      ],
      "text/plain": [
       "<IPython.core.display.HTML object>"
      ]
     },
     "metadata": {},
     "output_type": "display_data"
    },
    {
     "data": {
      "text/html": [
       "\n",
       "        <div id=\"3rvM2TTby7AtyNMEGYWyKh\"></div>\n",
       "        <script>netpixi.call('3rvM2TTby7AtyNMEGYWyKh', 'gFGaBMTAQdGaHJJQshijMZ', 'changeGraph', 'eyJpZCI6IDIzNCwgInR5cGUiOiAidmVydGV4IiwgInByb3BzIjogeyJjb2xvciI6IDE2NzExNjgwfX0K');</script>\n",
       "    "
      ],
      "text/plain": [
       "<IPython.core.display.HTML object>"
      ]
     },
     "metadata": {},
     "output_type": "display_data"
    },
    {
     "data": {
      "text/html": [
       "\n",
       "        <div id=\"QBcU8CZbUpF5ZZEnwbEnMM\"></div>\n",
       "        <script>netpixi.call('QBcU8CZbUpF5ZZEnwbEnMM', 'gFGaBMTAQdGaHJJQshijMZ', 'changeGraph', 'eyJpZCI6IDIzNSwgInR5cGUiOiAidmVydGV4IiwgInByb3BzIjogeyJjb2xvciI6IDY1MjgwfX0K');</script>\n",
       "    "
      ],
      "text/plain": [
       "<IPython.core.display.HTML object>"
      ]
     },
     "metadata": {},
     "output_type": "display_data"
    },
    {
     "data": {
      "text/html": [
       "\n",
       "        <div id=\"TxcMdtuRZbC57aiF66Nosg\"></div>\n",
       "        <script>netpixi.call('TxcMdtuRZbC57aiF66Nosg', 'gFGaBMTAQdGaHJJQshijMZ', 'changeGraph', 'eyJpZCI6IDIzNiwgInR5cGUiOiAidmVydGV4IiwgInByb3BzIjogeyJjb2xvciI6IDY1MjgwfX0K');</script>\n",
       "    "
      ],
      "text/plain": [
       "<IPython.core.display.HTML object>"
      ]
     },
     "metadata": {},
     "output_type": "display_data"
    },
    {
     "data": {
      "text/html": [
       "\n",
       "        <div id=\"7uKxWrESiavFfuunmSAmhq\"></div>\n",
       "        <script>netpixi.call('7uKxWrESiavFfuunmSAmhq', 'gFGaBMTAQdGaHJJQshijMZ', 'changeGraph', 'eyJpZCI6IDIzNywgInR5cGUiOiAidmVydGV4IiwgInByb3BzIjogeyJjb2xvciI6IDE2NzExNjgwfX0K');</script>\n",
       "    "
      ],
      "text/plain": [
       "<IPython.core.display.HTML object>"
      ]
     },
     "metadata": {},
     "output_type": "display_data"
    },
    {
     "data": {
      "text/html": [
       "\n",
       "        <div id=\"VzAWjBPsFmEMgYbnUirkP5\"></div>\n",
       "        <script>netpixi.call('VzAWjBPsFmEMgYbnUirkP5', 'gFGaBMTAQdGaHJJQshijMZ', 'changeGraph', 'eyJpZCI6IDIzOCwgInR5cGUiOiAidmVydGV4IiwgInByb3BzIjogeyJjb2xvciI6IDY1MjgwfX0K');</script>\n",
       "    "
      ],
      "text/plain": [
       "<IPython.core.display.HTML object>"
      ]
     },
     "metadata": {},
     "output_type": "display_data"
    },
    {
     "data": {
      "text/html": [
       "\n",
       "        <div id=\"AxTBXeSggNDDf9zg4hZPqA\"></div>\n",
       "        <script>netpixi.call('AxTBXeSggNDDf9zg4hZPqA', 'gFGaBMTAQdGaHJJQshijMZ', 'changeGraph', 'eyJpZCI6IDIzOSwgInR5cGUiOiAidmVydGV4IiwgInByb3BzIjogeyJjb2xvciI6IDE2NzExNjgwfX0K');</script>\n",
       "    "
      ],
      "text/plain": [
       "<IPython.core.display.HTML object>"
      ]
     },
     "metadata": {},
     "output_type": "display_data"
    },
    {
     "data": {
      "text/html": [
       "\n",
       "        <div id=\"M9CVpCx58TtLoL8dsVMgxJ\"></div>\n",
       "        <script>netpixi.call('M9CVpCx58TtLoL8dsVMgxJ', 'gFGaBMTAQdGaHJJQshijMZ', 'changeGraph', 'eyJpZCI6IDI0MCwgInR5cGUiOiAidmVydGV4IiwgInByb3BzIjogeyJjb2xvciI6IDY1MjgwfX0K');</script>\n",
       "    "
      ],
      "text/plain": [
       "<IPython.core.display.HTML object>"
      ]
     },
     "metadata": {},
     "output_type": "display_data"
    },
    {
     "data": {
      "text/html": [
       "\n",
       "        <div id=\"9tYp8dkjNPnRSCAynTQpbJ\"></div>\n",
       "        <script>netpixi.call('9tYp8dkjNPnRSCAynTQpbJ', 'gFGaBMTAQdGaHJJQshijMZ', 'changeGraph', 'eyJpZCI6IDI0MSwgInR5cGUiOiAidmVydGV4IiwgInByb3BzIjogeyJjb2xvciI6IDE2NzExNjgwfX0K');</script>\n",
       "    "
      ],
      "text/plain": [
       "<IPython.core.display.HTML object>"
      ]
     },
     "metadata": {},
     "output_type": "display_data"
    },
    {
     "data": {
      "text/html": [
       "\n",
       "        <div id=\"5ybi3dBEH7N5iFdVv6wiAQ\"></div>\n",
       "        <script>netpixi.call('5ybi3dBEH7N5iFdVv6wiAQ', 'gFGaBMTAQdGaHJJQshijMZ', 'changeGraph', 'eyJpZCI6IDI0MiwgInR5cGUiOiAidmVydGV4IiwgInByb3BzIjogeyJjb2xvciI6IDE2NzExNjgwfX0K');</script>\n",
       "    "
      ],
      "text/plain": [
       "<IPython.core.display.HTML object>"
      ]
     },
     "metadata": {},
     "output_type": "display_data"
    },
    {
     "data": {
      "text/html": [
       "\n",
       "        <div id=\"Cb4QaxcXPTWHHW5UEYpVEQ\"></div>\n",
       "        <script>netpixi.call('Cb4QaxcXPTWHHW5UEYpVEQ', 'gFGaBMTAQdGaHJJQshijMZ', 'changeGraph', 'eyJpZCI6IDI0MywgInR5cGUiOiAidmVydGV4IiwgInByb3BzIjogeyJjb2xvciI6IDE2NzExNjgwfX0K');</script>\n",
       "    "
      ],
      "text/plain": [
       "<IPython.core.display.HTML object>"
      ]
     },
     "metadata": {},
     "output_type": "display_data"
    },
    {
     "data": {
      "text/html": [
       "\n",
       "        <div id=\"XMpoterCo4QexG83iyreJW\"></div>\n",
       "        <script>netpixi.call('XMpoterCo4QexG83iyreJW', 'gFGaBMTAQdGaHJJQshijMZ', 'changeGraph', 'eyJpZCI6IDI0NCwgInR5cGUiOiAidmVydGV4IiwgInByb3BzIjogeyJjb2xvciI6IDE2NzExNjgwfX0K');</script>\n",
       "    "
      ],
      "text/plain": [
       "<IPython.core.display.HTML object>"
      ]
     },
     "metadata": {},
     "output_type": "display_data"
    },
    {
     "data": {
      "text/html": [
       "\n",
       "        <div id=\"fRZ6awcfukEkjJNmQ5bn2E\"></div>\n",
       "        <script>netpixi.call('fRZ6awcfukEkjJNmQ5bn2E', 'gFGaBMTAQdGaHJJQshijMZ', 'changeGraph', 'eyJpZCI6IDI0NSwgInR5cGUiOiAidmVydGV4IiwgInByb3BzIjogeyJjb2xvciI6IDY1MjgwfX0K');</script>\n",
       "    "
      ],
      "text/plain": [
       "<IPython.core.display.HTML object>"
      ]
     },
     "metadata": {},
     "output_type": "display_data"
    },
    {
     "data": {
      "text/html": [
       "\n",
       "        <div id=\"iEjLUBXXhMrxGDd4rnfjsX\"></div>\n",
       "        <script>netpixi.call('iEjLUBXXhMrxGDd4rnfjsX', 'gFGaBMTAQdGaHJJQshijMZ', 'changeGraph', 'eyJpZCI6IDI0NiwgInR5cGUiOiAidmVydGV4IiwgInByb3BzIjogeyJjb2xvciI6IDE2NzExNjgwfX0K');</script>\n",
       "    "
      ],
      "text/plain": [
       "<IPython.core.display.HTML object>"
      ]
     },
     "metadata": {},
     "output_type": "display_data"
    },
    {
     "data": {
      "text/html": [
       "\n",
       "        <div id=\"bm8nSp5tJDPJSiH8FFRnoy\"></div>\n",
       "        <script>netpixi.call('bm8nSp5tJDPJSiH8FFRnoy', 'gFGaBMTAQdGaHJJQshijMZ', 'changeGraph', 'eyJpZCI6IDI0NywgInR5cGUiOiAidmVydGV4IiwgInByb3BzIjogeyJjb2xvciI6IDE2NzExNjgwfX0K');</script>\n",
       "    "
      ],
      "text/plain": [
       "<IPython.core.display.HTML object>"
      ]
     },
     "metadata": {},
     "output_type": "display_data"
    },
    {
     "data": {
      "text/html": [
       "\n",
       "        <div id=\"SV9Do74KU4fzDr7PtnDMM9\"></div>\n",
       "        <script>netpixi.call('SV9Do74KU4fzDr7PtnDMM9', 'gFGaBMTAQdGaHJJQshijMZ', 'changeGraph', 'eyJpZCI6IDI0OCwgInR5cGUiOiAidmVydGV4IiwgInByb3BzIjogeyJjb2xvciI6IDE2NzExNjgwfX0K');</script>\n",
       "    "
      ],
      "text/plain": [
       "<IPython.core.display.HTML object>"
      ]
     },
     "metadata": {},
     "output_type": "display_data"
    },
    {
     "data": {
      "text/html": [
       "\n",
       "        <div id=\"BmDsCoz6w7hfaNvwMVeRT7\"></div>\n",
       "        <script>netpixi.call('BmDsCoz6w7hfaNvwMVeRT7', 'gFGaBMTAQdGaHJJQshijMZ', 'changeGraph', 'eyJpZCI6IDI0OSwgInR5cGUiOiAidmVydGV4IiwgInByb3BzIjogeyJjb2xvciI6IDE2NzExNjgwfX0K');</script>\n",
       "    "
      ],
      "text/plain": [
       "<IPython.core.display.HTML object>"
      ]
     },
     "metadata": {},
     "output_type": "display_data"
    },
    {
     "data": {
      "text/html": [
       "\n",
       "        <div id=\"CmGUPN4ZD9B5EbeB3tkkqc\"></div>\n",
       "        <script>netpixi.call('CmGUPN4ZD9B5EbeB3tkkqc', 'gFGaBMTAQdGaHJJQshijMZ', 'changeGraph', 'eyJpZCI6IDI1MCwgInR5cGUiOiAidmVydGV4IiwgInByb3BzIjogeyJjb2xvciI6IDE2NzExNjgwfX0K');</script>\n",
       "    "
      ],
      "text/plain": [
       "<IPython.core.display.HTML object>"
      ]
     },
     "metadata": {},
     "output_type": "display_data"
    },
    {
     "data": {
      "text/html": [
       "\n",
       "        <div id=\"eujGJybmouFHCXUuKJ2xNt\"></div>\n",
       "        <script>netpixi.call('eujGJybmouFHCXUuKJ2xNt', 'gFGaBMTAQdGaHJJQshijMZ', 'changeGraph', 'eyJpZCI6IDI1MSwgInR5cGUiOiAidmVydGV4IiwgInByb3BzIjogeyJjb2xvciI6IDE2NzExNjgwfX0K');</script>\n",
       "    "
      ],
      "text/plain": [
       "<IPython.core.display.HTML object>"
      ]
     },
     "metadata": {},
     "output_type": "display_data"
    },
    {
     "data": {
      "text/html": [
       "\n",
       "        <div id=\"DiaoUz9rbcqRwyG7jgHn8n\"></div>\n",
       "        <script>netpixi.call('DiaoUz9rbcqRwyG7jgHn8n', 'gFGaBMTAQdGaHJJQshijMZ', 'changeGraph', 'eyJpZCI6IDI1MiwgInR5cGUiOiAidmVydGV4IiwgInByb3BzIjogeyJjb2xvciI6IDE2NzExNjgwfX0K');</script>\n",
       "    "
      ],
      "text/plain": [
       "<IPython.core.display.HTML object>"
      ]
     },
     "metadata": {},
     "output_type": "display_data"
    },
    {
     "data": {
      "text/html": [
       "\n",
       "        <div id=\"2NsLu7KuTJjoPvtVU2AG28\"></div>\n",
       "        <script>netpixi.call('2NsLu7KuTJjoPvtVU2AG28', 'gFGaBMTAQdGaHJJQshijMZ', 'changeGraph', 'eyJpZCI6IDI1MywgInR5cGUiOiAidmVydGV4IiwgInByb3BzIjogeyJjb2xvciI6IDY1MjgwfX0K');</script>\n",
       "    "
      ],
      "text/plain": [
       "<IPython.core.display.HTML object>"
      ]
     },
     "metadata": {},
     "output_type": "display_data"
    },
    {
     "data": {
      "text/html": [
       "\n",
       "        <div id=\"3NzqELt4iLGPfoBfzWrexu\"></div>\n",
       "        <script>netpixi.call('3NzqELt4iLGPfoBfzWrexu', 'gFGaBMTAQdGaHJJQshijMZ', 'changeGraph', 'eyJpZCI6IDI1NCwgInR5cGUiOiAidmVydGV4IiwgInByb3BzIjogeyJjb2xvciI6IDE2NzExNjgwfX0K');</script>\n",
       "    "
      ],
      "text/plain": [
       "<IPython.core.display.HTML object>"
      ]
     },
     "metadata": {},
     "output_type": "display_data"
    },
    {
     "data": {
      "text/html": [
       "\n",
       "        <div id=\"NjkSJbB5JwVT6fRQksaXY7\"></div>\n",
       "        <script>netpixi.call('NjkSJbB5JwVT6fRQksaXY7', 'gFGaBMTAQdGaHJJQshijMZ', 'changeGraph', 'eyJpZCI6IDI1NSwgInR5cGUiOiAidmVydGV4IiwgInByb3BzIjogeyJjb2xvciI6IDY1MjgwfX0K');</script>\n",
       "    "
      ],
      "text/plain": [
       "<IPython.core.display.HTML object>"
      ]
     },
     "metadata": {},
     "output_type": "display_data"
    },
    {
     "data": {
      "text/html": [
       "\n",
       "        <div id=\"GJbP4kG55Wk7fBjtu6gXtw\"></div>\n",
       "        <script>netpixi.call('GJbP4kG55Wk7fBjtu6gXtw', 'gFGaBMTAQdGaHJJQshijMZ', 'changeGraph', 'eyJpZCI6IDI1NiwgInR5cGUiOiAidmVydGV4IiwgInByb3BzIjogeyJjb2xvciI6IDY1MjgwfX0K');</script>\n",
       "    "
      ],
      "text/plain": [
       "<IPython.core.display.HTML object>"
      ]
     },
     "metadata": {},
     "output_type": "display_data"
    },
    {
     "data": {
      "text/html": [
       "\n",
       "        <div id=\"KeWFGjiZsgrDFtAf7ZdiH3\"></div>\n",
       "        <script>netpixi.call('KeWFGjiZsgrDFtAf7ZdiH3', 'gFGaBMTAQdGaHJJQshijMZ', 'changeGraph', 'eyJpZCI6IDI1NywgInR5cGUiOiAidmVydGV4IiwgInByb3BzIjogeyJjb2xvciI6IDE2NzExNjgwfX0K');</script>\n",
       "    "
      ],
      "text/plain": [
       "<IPython.core.display.HTML object>"
      ]
     },
     "metadata": {},
     "output_type": "display_data"
    },
    {
     "data": {
      "text/html": [
       "\n",
       "        <div id=\"JPshUcRxGoizhT3JrjHDAy\"></div>\n",
       "        <script>netpixi.call('JPshUcRxGoizhT3JrjHDAy', 'gFGaBMTAQdGaHJJQshijMZ', 'changeGraph', 'eyJpZCI6IDI1OCwgInR5cGUiOiAidmVydGV4IiwgInByb3BzIjogeyJjb2xvciI6IDE2NzExNjgwfX0K');</script>\n",
       "    "
      ],
      "text/plain": [
       "<IPython.core.display.HTML object>"
      ]
     },
     "metadata": {},
     "output_type": "display_data"
    },
    {
     "data": {
      "text/html": [
       "\n",
       "        <div id=\"EwXPyP9NgNAf336mDD7YcP\"></div>\n",
       "        <script>netpixi.call('EwXPyP9NgNAf336mDD7YcP', 'gFGaBMTAQdGaHJJQshijMZ', 'changeGraph', 'eyJpZCI6IDI1OSwgInR5cGUiOiAidmVydGV4IiwgInByb3BzIjogeyJjb2xvciI6IDE2NzExNjgwfX0K');</script>\n",
       "    "
      ],
      "text/plain": [
       "<IPython.core.display.HTML object>"
      ]
     },
     "metadata": {},
     "output_type": "display_data"
    },
    {
     "data": {
      "text/html": [
       "\n",
       "        <div id=\"PtxiyxuQjRZeKC2yc4S786\"></div>\n",
       "        <script>netpixi.call('PtxiyxuQjRZeKC2yc4S786', 'gFGaBMTAQdGaHJJQshijMZ', 'changeGraph', 'eyJpZCI6IDI2MCwgInR5cGUiOiAidmVydGV4IiwgInByb3BzIjogeyJjb2xvciI6IDY1MjgwfX0K');</script>\n",
       "    "
      ],
      "text/plain": [
       "<IPython.core.display.HTML object>"
      ]
     },
     "metadata": {},
     "output_type": "display_data"
    },
    {
     "data": {
      "text/html": [
       "\n",
       "        <div id=\"HYUEv7pY2pHdPemUoWXvyZ\"></div>\n",
       "        <script>netpixi.call('HYUEv7pY2pHdPemUoWXvyZ', 'gFGaBMTAQdGaHJJQshijMZ', 'changeGraph', 'eyJpZCI6IDI2MSwgInR5cGUiOiAidmVydGV4IiwgInByb3BzIjogeyJjb2xvciI6IDE2NzExNjgwfX0K');</script>\n",
       "    "
      ],
      "text/plain": [
       "<IPython.core.display.HTML object>"
      ]
     },
     "metadata": {},
     "output_type": "display_data"
    },
    {
     "data": {
      "text/html": [
       "\n",
       "        <div id=\"a8a42T7si3jvW4DUR4CdCD\"></div>\n",
       "        <script>netpixi.call('a8a42T7si3jvW4DUR4CdCD', 'gFGaBMTAQdGaHJJQshijMZ', 'changeGraph', 'eyJpZCI6IDI2MiwgInR5cGUiOiAidmVydGV4IiwgInByb3BzIjogeyJjb2xvciI6IDE2NzExNjgwfX0K');</script>\n",
       "    "
      ],
      "text/plain": [
       "<IPython.core.display.HTML object>"
      ]
     },
     "metadata": {},
     "output_type": "display_data"
    },
    {
     "data": {
      "text/html": [
       "\n",
       "        <div id=\"2v3yumHVkSZs5JzFoe2Quo\"></div>\n",
       "        <script>netpixi.call('2v3yumHVkSZs5JzFoe2Quo', 'gFGaBMTAQdGaHJJQshijMZ', 'changeGraph', 'eyJpZCI6IDI2MywgInR5cGUiOiAidmVydGV4IiwgInByb3BzIjogeyJjb2xvciI6IDE2NzExNjgwfX0K');</script>\n",
       "    "
      ],
      "text/plain": [
       "<IPython.core.display.HTML object>"
      ]
     },
     "metadata": {},
     "output_type": "display_data"
    },
    {
     "data": {
      "text/html": [
       "\n",
       "        <div id=\"KzLBaSUvZgZa3tjCjDamKp\"></div>\n",
       "        <script>netpixi.call('KzLBaSUvZgZa3tjCjDamKp', 'gFGaBMTAQdGaHJJQshijMZ', 'changeGraph', 'eyJpZCI6IDI2NCwgInR5cGUiOiAidmVydGV4IiwgInByb3BzIjogeyJjb2xvciI6IDE2NzExNjgwfX0K');</script>\n",
       "    "
      ],
      "text/plain": [
       "<IPython.core.display.HTML object>"
      ]
     },
     "metadata": {},
     "output_type": "display_data"
    },
    {
     "data": {
      "text/html": [
       "\n",
       "        <div id=\"hUn9KcTVMvoJ66Po8pnCx6\"></div>\n",
       "        <script>netpixi.call('hUn9KcTVMvoJ66Po8pnCx6', 'gFGaBMTAQdGaHJJQshijMZ', 'changeGraph', 'eyJpZCI6IDI2NSwgInR5cGUiOiAidmVydGV4IiwgInByb3BzIjogeyJjb2xvciI6IDE2NzExNjgwfX0K');</script>\n",
       "    "
      ],
      "text/plain": [
       "<IPython.core.display.HTML object>"
      ]
     },
     "metadata": {},
     "output_type": "display_data"
    },
    {
     "data": {
      "text/html": [
       "\n",
       "        <div id=\"o9GeJaz7YifammKczCBYt2\"></div>\n",
       "        <script>netpixi.call('o9GeJaz7YifammKczCBYt2', 'gFGaBMTAQdGaHJJQshijMZ', 'changeGraph', 'eyJpZCI6IDI2NiwgInR5cGUiOiAidmVydGV4IiwgInByb3BzIjogeyJjb2xvciI6IDE2NzExNjgwfX0K');</script>\n",
       "    "
      ],
      "text/plain": [
       "<IPython.core.display.HTML object>"
      ]
     },
     "metadata": {},
     "output_type": "display_data"
    },
    {
     "data": {
      "text/html": [
       "\n",
       "        <div id=\"8ZczHPBgbhRWFzVAVAmYyM\"></div>\n",
       "        <script>netpixi.call('8ZczHPBgbhRWFzVAVAmYyM', 'gFGaBMTAQdGaHJJQshijMZ', 'changeGraph', 'eyJpZCI6IDI2NywgInR5cGUiOiAidmVydGV4IiwgInByb3BzIjogeyJjb2xvciI6IDY1MjgwfX0K');</script>\n",
       "    "
      ],
      "text/plain": [
       "<IPython.core.display.HTML object>"
      ]
     },
     "metadata": {},
     "output_type": "display_data"
    },
    {
     "data": {
      "text/html": [
       "\n",
       "        <div id=\"iNsmNmimJ5vLasxDwagJjz\"></div>\n",
       "        <script>netpixi.call('iNsmNmimJ5vLasxDwagJjz', 'gFGaBMTAQdGaHJJQshijMZ', 'changeGraph', 'eyJpZCI6IDI2OCwgInR5cGUiOiAidmVydGV4IiwgInByb3BzIjogeyJjb2xvciI6IDY1MjgwfX0K');</script>\n",
       "    "
      ],
      "text/plain": [
       "<IPython.core.display.HTML object>"
      ]
     },
     "metadata": {},
     "output_type": "display_data"
    },
    {
     "data": {
      "text/html": [
       "\n",
       "        <div id=\"25oYskUiF5WBv8SG6FF7xS\"></div>\n",
       "        <script>netpixi.call('25oYskUiF5WBv8SG6FF7xS', 'gFGaBMTAQdGaHJJQshijMZ', 'changeGraph', 'eyJpZCI6IDI2OSwgInR5cGUiOiAidmVydGV4IiwgInByb3BzIjogeyJjb2xvciI6IDY1MjgwfX0K');</script>\n",
       "    "
      ],
      "text/plain": [
       "<IPython.core.display.HTML object>"
      ]
     },
     "metadata": {},
     "output_type": "display_data"
    },
    {
     "data": {
      "text/html": [
       "\n",
       "        <div id=\"UHGbsLyB5wqYG2cWhVTWYq\"></div>\n",
       "        <script>netpixi.call('UHGbsLyB5wqYG2cWhVTWYq', 'gFGaBMTAQdGaHJJQshijMZ', 'changeGraph', 'eyJpZCI6IDI3MCwgInR5cGUiOiAidmVydGV4IiwgInByb3BzIjogeyJjb2xvciI6IDE2NzExNjgwfX0K');</script>\n",
       "    "
      ],
      "text/plain": [
       "<IPython.core.display.HTML object>"
      ]
     },
     "metadata": {},
     "output_type": "display_data"
    },
    {
     "data": {
      "text/html": [
       "\n",
       "        <div id=\"7BoUKn4CPqzxZqaieAKDyk\"></div>\n",
       "        <script>netpixi.call('7BoUKn4CPqzxZqaieAKDyk', 'gFGaBMTAQdGaHJJQshijMZ', 'changeGraph', 'eyJpZCI6IDI3MSwgInR5cGUiOiAidmVydGV4IiwgInByb3BzIjogeyJjb2xvciI6IDY1MjgwfX0K');</script>\n",
       "    "
      ],
      "text/plain": [
       "<IPython.core.display.HTML object>"
      ]
     },
     "metadata": {},
     "output_type": "display_data"
    },
    {
     "data": {
      "text/html": [
       "\n",
       "        <div id=\"jGh3qiRBoG5SiNnr8gMnTd\"></div>\n",
       "        <script>netpixi.call('jGh3qiRBoG5SiNnr8gMnTd', 'gFGaBMTAQdGaHJJQshijMZ', 'changeGraph', 'eyJpZCI6IDI3MiwgInR5cGUiOiAidmVydGV4IiwgInByb3BzIjogeyJjb2xvciI6IDY1MjgwfX0K');</script>\n",
       "    "
      ],
      "text/plain": [
       "<IPython.core.display.HTML object>"
      ]
     },
     "metadata": {},
     "output_type": "display_data"
    },
    {
     "data": {
      "text/html": [
       "\n",
       "        <div id=\"NLvbrymTt4amC8d4ztZhrk\"></div>\n",
       "        <script>netpixi.call('NLvbrymTt4amC8d4ztZhrk', 'gFGaBMTAQdGaHJJQshijMZ', 'changeGraph', 'eyJpZCI6IDI3MywgInR5cGUiOiAidmVydGV4IiwgInByb3BzIjogeyJjb2xvciI6IDY1MjgwfX0K');</script>\n",
       "    "
      ],
      "text/plain": [
       "<IPython.core.display.HTML object>"
      ]
     },
     "metadata": {},
     "output_type": "display_data"
    },
    {
     "data": {
      "text/html": [
       "\n",
       "        <div id=\"cFPXyWehaFdDe98t4DK8qm\"></div>\n",
       "        <script>netpixi.call('cFPXyWehaFdDe98t4DK8qm', 'gFGaBMTAQdGaHJJQshijMZ', 'changeGraph', 'eyJpZCI6IDI3NCwgInR5cGUiOiAidmVydGV4IiwgInByb3BzIjogeyJjb2xvciI6IDE2NzExNjgwfX0K');</script>\n",
       "    "
      ],
      "text/plain": [
       "<IPython.core.display.HTML object>"
      ]
     },
     "metadata": {},
     "output_type": "display_data"
    },
    {
     "data": {
      "text/html": [
       "\n",
       "        <div id=\"JKqZ8aaQg4LAoWJqKoURoL\"></div>\n",
       "        <script>netpixi.call('JKqZ8aaQg4LAoWJqKoURoL', 'gFGaBMTAQdGaHJJQshijMZ', 'changeGraph', 'eyJpZCI6IDI3NSwgInR5cGUiOiAidmVydGV4IiwgInByb3BzIjogeyJjb2xvciI6IDY1MjgwfX0K');</script>\n",
       "    "
      ],
      "text/plain": [
       "<IPython.core.display.HTML object>"
      ]
     },
     "metadata": {},
     "output_type": "display_data"
    },
    {
     "data": {
      "text/html": [
       "\n",
       "        <div id=\"B3pYqtuHDuuCUHCr4Z2jf6\"></div>\n",
       "        <script>netpixi.call('B3pYqtuHDuuCUHCr4Z2jf6', 'gFGaBMTAQdGaHJJQshijMZ', 'changeGraph', 'eyJpZCI6IDI3NiwgInR5cGUiOiAidmVydGV4IiwgInByb3BzIjogeyJjb2xvciI6IDY1MjgwfX0K');</script>\n",
       "    "
      ],
      "text/plain": [
       "<IPython.core.display.HTML object>"
      ]
     },
     "metadata": {},
     "output_type": "display_data"
    },
    {
     "data": {
      "text/html": [
       "\n",
       "        <div id=\"ZFYunTZV5SBy3rE9aCvaQg\"></div>\n",
       "        <script>netpixi.call('ZFYunTZV5SBy3rE9aCvaQg', 'gFGaBMTAQdGaHJJQshijMZ', 'changeGraph', 'eyJpZCI6IDI3NywgInR5cGUiOiAidmVydGV4IiwgInByb3BzIjogeyJjb2xvciI6IDE2NzExNjgwfX0K');</script>\n",
       "    "
      ],
      "text/plain": [
       "<IPython.core.display.HTML object>"
      ]
     },
     "metadata": {},
     "output_type": "display_data"
    },
    {
     "data": {
      "text/html": [
       "\n",
       "        <div id=\"Ps3bz5SCMtNjJGsgQSL5He\"></div>\n",
       "        <script>netpixi.call('Ps3bz5SCMtNjJGsgQSL5He', 'gFGaBMTAQdGaHJJQshijMZ', 'changeGraph', 'eyJpZCI6IDI3OCwgInR5cGUiOiAidmVydGV4IiwgInByb3BzIjogeyJjb2xvciI6IDY1MjgwfX0K');</script>\n",
       "    "
      ],
      "text/plain": [
       "<IPython.core.display.HTML object>"
      ]
     },
     "metadata": {},
     "output_type": "display_data"
    },
    {
     "data": {
      "text/html": [
       "\n",
       "        <div id=\"amHTtNKGw5wtfrukRoPid7\"></div>\n",
       "        <script>netpixi.call('amHTtNKGw5wtfrukRoPid7', 'gFGaBMTAQdGaHJJQshijMZ', 'changeGraph', 'eyJpZCI6IDI3OSwgInR5cGUiOiAidmVydGV4IiwgInByb3BzIjogeyJjb2xvciI6IDE2NzExNjgwfX0K');</script>\n",
       "    "
      ],
      "text/plain": [
       "<IPython.core.display.HTML object>"
      ]
     },
     "metadata": {},
     "output_type": "display_data"
    },
    {
     "data": {
      "text/html": [
       "\n",
       "        <div id=\"ZHtuh5owUXyuSmmNVfAKQo\"></div>\n",
       "        <script>netpixi.call('ZHtuh5owUXyuSmmNVfAKQo', 'gFGaBMTAQdGaHJJQshijMZ', 'changeGraph', 'eyJpZCI6IDI4MCwgInR5cGUiOiAidmVydGV4IiwgInByb3BzIjogeyJjb2xvciI6IDE2NzExNjgwfX0K');</script>\n",
       "    "
      ],
      "text/plain": [
       "<IPython.core.display.HTML object>"
      ]
     },
     "metadata": {},
     "output_type": "display_data"
    },
    {
     "data": {
      "text/html": [
       "\n",
       "        <div id=\"2cKQ8dd9zr9nL7Y965E7WY\"></div>\n",
       "        <script>netpixi.call('2cKQ8dd9zr9nL7Y965E7WY', 'gFGaBMTAQdGaHJJQshijMZ', 'changeGraph', 'eyJpZCI6IDI4MSwgInR5cGUiOiAidmVydGV4IiwgInByb3BzIjogeyJjb2xvciI6IDY1MjgwfX0K');</script>\n",
       "    "
      ],
      "text/plain": [
       "<IPython.core.display.HTML object>"
      ]
     },
     "metadata": {},
     "output_type": "display_data"
    },
    {
     "data": {
      "text/html": [
       "\n",
       "        <div id=\"nCgxSYrgnwBwdfFRqaznbA\"></div>\n",
       "        <script>netpixi.call('nCgxSYrgnwBwdfFRqaznbA', 'gFGaBMTAQdGaHJJQshijMZ', 'changeGraph', 'eyJpZCI6IDI4MiwgInR5cGUiOiAidmVydGV4IiwgInByb3BzIjogeyJjb2xvciI6IDE2NzExNjgwfX0K');</script>\n",
       "    "
      ],
      "text/plain": [
       "<IPython.core.display.HTML object>"
      ]
     },
     "metadata": {},
     "output_type": "display_data"
    },
    {
     "data": {
      "text/html": [
       "\n",
       "        <div id=\"efavvwvXzQnpfQnQo5AKaS\"></div>\n",
       "        <script>netpixi.call('efavvwvXzQnpfQnQo5AKaS', 'gFGaBMTAQdGaHJJQshijMZ', 'changeGraph', 'eyJpZCI6IDI4MywgInR5cGUiOiAidmVydGV4IiwgInByb3BzIjogeyJjb2xvciI6IDY1MjgwfX0K');</script>\n",
       "    "
      ],
      "text/plain": [
       "<IPython.core.display.HTML object>"
      ]
     },
     "metadata": {},
     "output_type": "display_data"
    },
    {
     "data": {
      "text/html": [
       "\n",
       "        <div id=\"U5CfpX7VaW396x49VthUo8\"></div>\n",
       "        <script>netpixi.call('U5CfpX7VaW396x49VthUo8', 'gFGaBMTAQdGaHJJQshijMZ', 'changeGraph', 'eyJpZCI6IDI4NCwgInR5cGUiOiAidmVydGV4IiwgInByb3BzIjogeyJjb2xvciI6IDY1MjgwfX0K');</script>\n",
       "    "
      ],
      "text/plain": [
       "<IPython.core.display.HTML object>"
      ]
     },
     "metadata": {},
     "output_type": "display_data"
    },
    {
     "data": {
      "text/html": [
       "\n",
       "        <div id=\"nzhC7VE6zUrCTLAthLRsPo\"></div>\n",
       "        <script>netpixi.call('nzhC7VE6zUrCTLAthLRsPo', 'gFGaBMTAQdGaHJJQshijMZ', 'changeGraph', 'eyJpZCI6IDI4NSwgInR5cGUiOiAidmVydGV4IiwgInByb3BzIjogeyJjb2xvciI6IDY1MjgwfX0K');</script>\n",
       "    "
      ],
      "text/plain": [
       "<IPython.core.display.HTML object>"
      ]
     },
     "metadata": {},
     "output_type": "display_data"
    },
    {
     "data": {
      "text/html": [
       "\n",
       "        <div id=\"eFWcmX2o9UpG4dUKQS5tB8\"></div>\n",
       "        <script>netpixi.call('eFWcmX2o9UpG4dUKQS5tB8', 'gFGaBMTAQdGaHJJQshijMZ', 'changeGraph', 'eyJpZCI6IDI4NiwgInR5cGUiOiAidmVydGV4IiwgInByb3BzIjogeyJjb2xvciI6IDE2NzExNjgwfX0K');</script>\n",
       "    "
      ],
      "text/plain": [
       "<IPython.core.display.HTML object>"
      ]
     },
     "metadata": {},
     "output_type": "display_data"
    },
    {
     "data": {
      "text/html": [
       "\n",
       "        <div id=\"4X2Y9LDUNXJma2z44WWngv\"></div>\n",
       "        <script>netpixi.call('4X2Y9LDUNXJma2z44WWngv', 'gFGaBMTAQdGaHJJQshijMZ', 'changeGraph', 'eyJpZCI6IDI4NywgInR5cGUiOiAidmVydGV4IiwgInByb3BzIjogeyJjb2xvciI6IDY1MjgwfX0K');</script>\n",
       "    "
      ],
      "text/plain": [
       "<IPython.core.display.HTML object>"
      ]
     },
     "metadata": {},
     "output_type": "display_data"
    },
    {
     "data": {
      "text/html": [
       "\n",
       "        <div id=\"FqVeEttbH7khWZU4FgggrD\"></div>\n",
       "        <script>netpixi.call('FqVeEttbH7khWZU4FgggrD', 'gFGaBMTAQdGaHJJQshijMZ', 'changeGraph', 'eyJpZCI6IDI4OCwgInR5cGUiOiAidmVydGV4IiwgInByb3BzIjogeyJjb2xvciI6IDY1MjgwfX0K');</script>\n",
       "    "
      ],
      "text/plain": [
       "<IPython.core.display.HTML object>"
      ]
     },
     "metadata": {},
     "output_type": "display_data"
    },
    {
     "data": {
      "text/html": [
       "\n",
       "        <div id=\"FapHn532ah5MdiCsidwR6p\"></div>\n",
       "        <script>netpixi.call('FapHn532ah5MdiCsidwR6p', 'gFGaBMTAQdGaHJJQshijMZ', 'changeGraph', 'eyJpZCI6IDI4OSwgInR5cGUiOiAidmVydGV4IiwgInByb3BzIjogeyJjb2xvciI6IDE2NzExNjgwfX0K');</script>\n",
       "    "
      ],
      "text/plain": [
       "<IPython.core.display.HTML object>"
      ]
     },
     "metadata": {},
     "output_type": "display_data"
    },
    {
     "data": {
      "text/html": [
       "\n",
       "        <div id=\"VHFbByWjZ9KXsdBaYvmRr8\"></div>\n",
       "        <script>netpixi.call('VHFbByWjZ9KXsdBaYvmRr8', 'gFGaBMTAQdGaHJJQshijMZ', 'changeGraph', 'eyJpZCI6IDI5MCwgInR5cGUiOiAidmVydGV4IiwgInByb3BzIjogeyJjb2xvciI6IDY1MjgwfX0K');</script>\n",
       "    "
      ],
      "text/plain": [
       "<IPython.core.display.HTML object>"
      ]
     },
     "metadata": {},
     "output_type": "display_data"
    },
    {
     "data": {
      "text/html": [
       "\n",
       "        <div id=\"aXHSUxFih6QtV3SZzKJAfE\"></div>\n",
       "        <script>netpixi.call('aXHSUxFih6QtV3SZzKJAfE', 'gFGaBMTAQdGaHJJQshijMZ', 'changeGraph', 'eyJpZCI6IDI5MSwgInR5cGUiOiAidmVydGV4IiwgInByb3BzIjogeyJjb2xvciI6IDE2NzExNjgwfX0K');</script>\n",
       "    "
      ],
      "text/plain": [
       "<IPython.core.display.HTML object>"
      ]
     },
     "metadata": {},
     "output_type": "display_data"
    },
    {
     "data": {
      "text/html": [
       "\n",
       "        <div id=\"aqGkQ9fhojPckXUZXVt3pv\"></div>\n",
       "        <script>netpixi.call('aqGkQ9fhojPckXUZXVt3pv', 'gFGaBMTAQdGaHJJQshijMZ', 'changeGraph', 'eyJpZCI6IDI5MiwgInR5cGUiOiAidmVydGV4IiwgInByb3BzIjogeyJjb2xvciI6IDE2NzExNjgwfX0K');</script>\n",
       "    "
      ],
      "text/plain": [
       "<IPython.core.display.HTML object>"
      ]
     },
     "metadata": {},
     "output_type": "display_data"
    },
    {
     "data": {
      "text/html": [
       "\n",
       "        <div id=\"oMgMhzWetooNxJyGUVA8Bf\"></div>\n",
       "        <script>netpixi.call('oMgMhzWetooNxJyGUVA8Bf', 'gFGaBMTAQdGaHJJQshijMZ', 'changeGraph', 'eyJpZCI6IDI5MywgInR5cGUiOiAidmVydGV4IiwgInByb3BzIjogeyJjb2xvciI6IDE2NzExNjgwfX0K');</script>\n",
       "    "
      ],
      "text/plain": [
       "<IPython.core.display.HTML object>"
      ]
     },
     "metadata": {},
     "output_type": "display_data"
    },
    {
     "data": {
      "text/html": [
       "\n",
       "        <div id=\"K6Z37Ek2tBaqFzLWnerkso\"></div>\n",
       "        <script>netpixi.call('K6Z37Ek2tBaqFzLWnerkso', 'gFGaBMTAQdGaHJJQshijMZ', 'changeGraph', 'eyJpZCI6IDI5NCwgInR5cGUiOiAidmVydGV4IiwgInByb3BzIjogeyJjb2xvciI6IDY1MjgwfX0K');</script>\n",
       "    "
      ],
      "text/plain": [
       "<IPython.core.display.HTML object>"
      ]
     },
     "metadata": {},
     "output_type": "display_data"
    },
    {
     "data": {
      "text/html": [
       "\n",
       "        <div id=\"MbN35d6bYCkNoLbQA5TBbj\"></div>\n",
       "        <script>netpixi.call('MbN35d6bYCkNoLbQA5TBbj', 'gFGaBMTAQdGaHJJQshijMZ', 'changeGraph', 'eyJpZCI6IDI5NSwgInR5cGUiOiAidmVydGV4IiwgInByb3BzIjogeyJjb2xvciI6IDY1MjgwfX0K');</script>\n",
       "    "
      ],
      "text/plain": [
       "<IPython.core.display.HTML object>"
      ]
     },
     "metadata": {},
     "output_type": "display_data"
    },
    {
     "data": {
      "text/html": [
       "\n",
       "        <div id=\"4mbzFQuMtdZWXAMo62EKjK\"></div>\n",
       "        <script>netpixi.call('4mbzFQuMtdZWXAMo62EKjK', 'gFGaBMTAQdGaHJJQshijMZ', 'changeGraph', 'eyJpZCI6IDI5NiwgInR5cGUiOiAidmVydGV4IiwgInByb3BzIjogeyJjb2xvciI6IDE2NzExNjgwfX0K');</script>\n",
       "    "
      ],
      "text/plain": [
       "<IPython.core.display.HTML object>"
      ]
     },
     "metadata": {},
     "output_type": "display_data"
    },
    {
     "data": {
      "text/html": [
       "\n",
       "        <div id=\"C7CMryozpuVUtH9bripBFv\"></div>\n",
       "        <script>netpixi.call('C7CMryozpuVUtH9bripBFv', 'gFGaBMTAQdGaHJJQshijMZ', 'changeGraph', 'eyJpZCI6IDI5NywgInR5cGUiOiAidmVydGV4IiwgInByb3BzIjogeyJjb2xvciI6IDY1MjgwfX0K');</script>\n",
       "    "
      ],
      "text/plain": [
       "<IPython.core.display.HTML object>"
      ]
     },
     "metadata": {},
     "output_type": "display_data"
    },
    {
     "data": {
      "text/html": [
       "\n",
       "        <div id=\"MbZYCGdfQk8aEfc76ESysc\"></div>\n",
       "        <script>netpixi.call('MbZYCGdfQk8aEfc76ESysc', 'gFGaBMTAQdGaHJJQshijMZ', 'changeGraph', 'eyJpZCI6IDI5OCwgInR5cGUiOiAidmVydGV4IiwgInByb3BzIjogeyJjb2xvciI6IDY1MjgwfX0K');</script>\n",
       "    "
      ],
      "text/plain": [
       "<IPython.core.display.HTML object>"
      ]
     },
     "metadata": {},
     "output_type": "display_data"
    },
    {
     "data": {
      "text/html": [
       "\n",
       "        <div id=\"mDbcBPNTyXiPnPzbWZ2HNm\"></div>\n",
       "        <script>netpixi.call('mDbcBPNTyXiPnPzbWZ2HNm', 'gFGaBMTAQdGaHJJQshijMZ', 'changeGraph', 'eyJpZCI6IDAsICJ0eXBlIjogInZlcnRleCIsICJwcm9wcyI6IHsic2l6ZSI6IDE0LjM1MTQ2NDQzNTE0NjQ0M319Cg==');</script>\n",
       "    "
      ],
      "text/plain": [
       "<IPython.core.display.HTML object>"
      ]
     },
     "metadata": {},
     "output_type": "display_data"
    },
    {
     "data": {
      "text/html": [
       "\n",
       "        <div id=\"g56YXf99iqXjx8pfXJ7GKQ\"></div>\n",
       "        <script>netpixi.call('g56YXf99iqXjx8pfXJ7GKQ', 'gFGaBMTAQdGaHJJQshijMZ', 'changeGraph', 'eyJpZCI6IDg3LCAidHlwZSI6ICJ2ZXJ0ZXgiLCAicHJvcHMiOiB7ImNvbG9yIjogMTY3MTE2ODB9fQo=');</script>\n",
       "    "
      ],
      "text/plain": [
       "<IPython.core.display.HTML object>"
      ]
     },
     "metadata": {},
     "output_type": "display_data"
    },
    {
     "data": {
      "text/html": [
       "\n",
       "        <div id=\"SYTJGx5t5nTiQP5kAqBAYb\"></div>\n",
       "        <script>netpixi.call('SYTJGx5t5nTiQP5kAqBAYb', 'gFGaBMTAQdGaHJJQshijMZ', 'changeGraph', 'eyJpZCI6IDEsICJ0eXBlIjogInZlcnRleCIsICJwcm9wcyI6IHsic2l6ZSI6IDEyLjM4NDkzNzIzODQ5MzcyM319Cg==');</script>\n",
       "    "
      ],
      "text/plain": [
       "<IPython.core.display.HTML object>"
      ]
     },
     "metadata": {},
     "output_type": "display_data"
    },
    {
     "data": {
      "text/html": [
       "\n",
       "        <div id=\"5vR2EuStjVmFvUisceBCXD\"></div>\n",
       "        <script>netpixi.call('5vR2EuStjVmFvUisceBCXD', 'gFGaBMTAQdGaHJJQshijMZ', 'changeGraph', 'eyJpZCI6IDczLCAidHlwZSI6ICJ2ZXJ0ZXgiLCAicHJvcHMiOiB7ImNvbG9yIjogMTY3MTE2ODB9fQo=');</script>\n",
       "    "
      ],
      "text/plain": [
       "<IPython.core.display.HTML object>"
      ]
     },
     "metadata": {},
     "output_type": "display_data"
    },
    {
     "data": {
      "text/html": [
       "\n",
       "        <div id=\"7F6tXuHSinuFUngQMQfijf\"></div>\n",
       "        <script>netpixi.call('7F6tXuHSinuFUngQMQfijf', 'gFGaBMTAQdGaHJJQshijMZ', 'changeGraph', 'eyJpZCI6IDIsICJ0eXBlIjogInZlcnRleCIsICJwcm9wcyI6IHsic2l6ZSI6IDEyLjQyNjc3ODI0MjY3NzgyM319Cg==');</script>\n",
       "    "
      ],
      "text/plain": [
       "<IPython.core.display.HTML object>"
      ]
     },
     "metadata": {},
     "output_type": "display_data"
    },
    {
     "data": {
      "text/html": [
       "\n",
       "        <div id=\"9zvopG9fViMgkPGrAZ9NzK\"></div>\n",
       "        <script>netpixi.call('9zvopG9fViMgkPGrAZ9NzK', 'gFGaBMTAQdGaHJJQshijMZ', 'changeGraph', 'eyJpZCI6IDg3LCAidHlwZSI6ICJ2ZXJ0ZXgiLCAicHJvcHMiOiB7ImNvbG9yIjogMTY3MTE2ODB9fQo=');</script>\n",
       "    "
      ],
      "text/plain": [
       "<IPython.core.display.HTML object>"
      ]
     },
     "metadata": {},
     "output_type": "display_data"
    },
    {
     "data": {
      "text/html": [
       "\n",
       "        <div id=\"eXXXUaQEmL2xxXeHso2o5p\"></div>\n",
       "        <script>netpixi.call('eXXXUaQEmL2xxXeHso2o5p', 'gFGaBMTAQdGaHJJQshijMZ', 'changeGraph', 'eyJpZCI6IDMsICJ0eXBlIjogInZlcnRleCIsICJwcm9wcyI6IHsic2l6ZSI6IDEyLjU5NDE0MjI1OTQxNDIyNX19Cg==');</script>\n",
       "    "
      ],
      "text/plain": [
       "<IPython.core.display.HTML object>"
      ]
     },
     "metadata": {},
     "output_type": "display_data"
    },
    {
     "data": {
      "text/html": [
       "\n",
       "        <div id=\"QRkamcBdYXPkMEaY6Jsw7E\"></div>\n",
       "        <script>netpixi.call('QRkamcBdYXPkMEaY6Jsw7E', 'gFGaBMTAQdGaHJJQshijMZ', 'changeGraph', 'eyJpZCI6IDc2LCAidHlwZSI6ICJ2ZXJ0ZXgiLCAicHJvcHMiOiB7ImNvbG9yIjogMTY3MTE2ODB9fQo=');</script>\n",
       "    "
      ],
      "text/plain": [
       "<IPython.core.display.HTML object>"
      ]
     },
     "metadata": {},
     "output_type": "display_data"
    },
    {
     "data": {
      "text/html": [
       "\n",
       "        <div id=\"npUN6EPpTJLPrx7EgGuZzi\"></div>\n",
       "        <script>netpixi.call('npUN6EPpTJLPrx7EgGuZzi', 'gFGaBMTAQdGaHJJQshijMZ', 'changeGraph', 'eyJpZCI6IDQsICJ0eXBlIjogInZlcnRleCIsICJwcm9wcyI6IHsic2l6ZSI6IDQ0LjE2NjY2NjY2NjY2NjY2NH19Cg==');</script>\n",
       "    "
      ],
      "text/plain": [
       "<IPython.core.display.HTML object>"
      ]
     },
     "metadata": {},
     "output_type": "display_data"
    },
    {
     "data": {
      "text/html": [
       "\n",
       "        <div id=\"PXHWEfLNF4nB5hyVMC83uW\"></div>\n",
       "        <script>netpixi.call('PXHWEfLNF4nB5hyVMC83uW', 'gFGaBMTAQdGaHJJQshijMZ', 'changeGraph', 'eyJpZCI6IDY3LCAidHlwZSI6ICJ2ZXJ0ZXgiLCAicHJvcHMiOiB7ImNvbG9yIjogMTY3MTE2ODB9fQo=');</script>\n",
       "    "
      ],
      "text/plain": [
       "<IPython.core.display.HTML object>"
      ]
     },
     "metadata": {},
     "output_type": "display_data"
    },
    {
     "data": {
      "text/html": [
       "\n",
       "        <div id=\"k4pCb5WFUqXDgahVYrvH9Y\"></div>\n",
       "        <script>netpixi.call('k4pCb5WFUqXDgahVYrvH9Y', 'gFGaBMTAQdGaHJJQshijMZ', 'changeGraph', 'eyJpZCI6IDUsICJ0eXBlIjogInZlcnRleCIsICJwcm9wcyI6IHsic2l6ZSI6IDExLjg0MTAwNDE4NDEwMDQxOH19Cg==');</script>\n",
       "    "
      ],
      "text/plain": [
       "<IPython.core.display.HTML object>"
      ]
     },
     "metadata": {},
     "output_type": "display_data"
    },
    {
     "data": {
      "text/html": [
       "\n",
       "        <div id=\"SRPrMGLqTciYMegxkcZASB\"></div>\n",
       "        <script>netpixi.call('SRPrMGLqTciYMegxkcZASB', 'gFGaBMTAQdGaHJJQshijMZ', 'changeGraph', 'eyJpZCI6IDcxLCAidHlwZSI6ICJ2ZXJ0ZXgiLCAicHJvcHMiOiB7ImNvbG9yIjogMTY3MTE2ODB9fQo=');</script>\n",
       "    "
      ],
      "text/plain": [
       "<IPython.core.display.HTML object>"
      ]
     },
     "metadata": {},
     "output_type": "display_data"
    },
    {
     "data": {
      "text/html": [
       "\n",
       "        <div id=\"gA4yp5TjonowrfJupwnpeK\"></div>\n",
       "        <script>netpixi.call('gA4yp5TjonowrfJupwnpeK', 'gFGaBMTAQdGaHJJQshijMZ', 'changeGraph', 'eyJpZCI6IDYsICJ0eXBlIjogInZlcnRleCIsICJwcm9wcyI6IHsic2l6ZSI6IDE1LjY5MDM3NjU2OTAzNzY1N319Cg==');</script>\n",
       "    "
      ],
      "text/plain": [
       "<IPython.core.display.HTML object>"
      ]
     },
     "metadata": {},
     "output_type": "display_data"
    },
    {
     "data": {
      "text/html": [
       "\n",
       "        <div id=\"FpxQD9MyoPCZBtPCBv2sMp\"></div>\n",
       "        <script>netpixi.call('FpxQD9MyoPCZBtPCBv2sMp', 'gFGaBMTAQdGaHJJQshijMZ', 'changeGraph', 'eyJpZCI6IDg3LCAidHlwZSI6ICJ2ZXJ0ZXgiLCAicHJvcHMiOiB7ImNvbG9yIjogMTY3MTE2ODB9fQo=');</script>\n",
       "    "
      ],
      "text/plain": [
       "<IPython.core.display.HTML object>"
      ]
     },
     "metadata": {},
     "output_type": "display_data"
    },
    {
     "data": {
      "text/html": [
       "\n",
       "        <div id=\"a4XYoU8T3kUdiKnjrBw5yo\"></div>\n",
       "        <script>netpixi.call('a4XYoU8T3kUdiKnjrBw5yo', 'gFGaBMTAQdGaHJJQshijMZ', 'changeGraph', 'eyJpZCI6IDcsICJ0eXBlIjogInZlcnRleCIsICJwcm9wcyI6IHsic2l6ZSI6IDE2LjQwMTY3MzY0MDE2NzM2M319Cg==');</script>\n",
       "    "
      ],
      "text/plain": [
       "<IPython.core.display.HTML object>"
      ]
     },
     "metadata": {},
     "output_type": "display_data"
    },
    {
     "data": {
      "text/html": [
       "\n",
       "        <div id=\"dHTtBmizG2B5NRW9UTf7Fn\"></div>\n",
       "        <script>netpixi.call('dHTtBmizG2B5NRW9UTf7Fn', 'gFGaBMTAQdGaHJJQshijMZ', 'changeGraph', 'eyJpZCI6IDcwLCAidHlwZSI6ICJ2ZXJ0ZXgiLCAicHJvcHMiOiB7ImNvbG9yIjogMTY3MTE2ODB9fQo=');</script>\n",
       "    "
      ],
      "text/plain": [
       "<IPython.core.display.HTML object>"
      ]
     },
     "metadata": {},
     "output_type": "display_data"
    },
    {
     "data": {
      "text/html": [
       "\n",
       "        <div id=\"k3Ej4byF5Lc7RZvRPR2LDq\"></div>\n",
       "        <script>netpixi.call('k3Ej4byF5Lc7RZvRPR2LDq', 'gFGaBMTAQdGaHJJQshijMZ', 'changeGraph', 'eyJpZCI6IDgsICJ0eXBlIjogInZlcnRleCIsICJwcm9wcyI6IHsic2l6ZSI6IDE0Ljg1MzU1NjQ4NTM1NTY0OH19Cg==');</script>\n",
       "    "
      ],
      "text/plain": [
       "<IPython.core.display.HTML object>"
      ]
     },
     "metadata": {},
     "output_type": "display_data"
    },
    {
     "data": {
      "text/html": [
       "\n",
       "        <div id=\"MdMaEkCMdqxs3MrLpnTJX4\"></div>\n",
       "        <script>netpixi.call('MdMaEkCMdqxs3MrLpnTJX4', 'gFGaBMTAQdGaHJJQshijMZ', 'changeGraph', 'eyJpZCI6IDc1LCAidHlwZSI6ICJ2ZXJ0ZXgiLCAicHJvcHMiOiB7ImNvbG9yIjogMTY3MTE2ODB9fQo=');</script>\n",
       "    "
      ],
      "text/plain": [
       "<IPython.core.display.HTML object>"
      ]
     },
     "metadata": {},
     "output_type": "display_data"
    },
    {
     "data": {
      "text/html": [
       "\n",
       "        <div id=\"TbTYpfZ6as9f8cMePhpQgE\"></div>\n",
       "        <script>netpixi.call('TbTYpfZ6as9f8cMePhpQgE', 'gFGaBMTAQdGaHJJQshijMZ', 'changeGraph', 'eyJpZCI6IDksICJ0eXBlIjogInZlcnRleCIsICJwcm9wcyI6IHsic2l6ZSI6IDE1Ljg5OTU4MTU4OTk1ODE1OH19Cg==');</script>\n",
       "    "
      ],
      "text/plain": [
       "<IPython.core.display.HTML object>"
      ]
     },
     "metadata": {},
     "output_type": "display_data"
    },
    {
     "data": {
      "text/html": [
       "\n",
       "        <div id=\"btbgckp3cePWMkKRQDxhyV\"></div>\n",
       "        <script>netpixi.call('btbgckp3cePWMkKRQDxhyV', 'gFGaBMTAQdGaHJJQshijMZ', 'changeGraph', 'eyJpZCI6IDY1LCAidHlwZSI6ICJ2ZXJ0ZXgiLCAicHJvcHMiOiB7ImNvbG9yIjogMTY3MTE2ODB9fQo=');</script>\n",
       "    "
      ],
      "text/plain": [
       "<IPython.core.display.HTML object>"
      ]
     },
     "metadata": {},
     "output_type": "display_data"
    },
    {
     "data": {
      "text/html": [
       "\n",
       "        <div id=\"9ZZmxtFkvTd8suQs3RLhbk\"></div>\n",
       "        <script>netpixi.call('9ZZmxtFkvTd8suQs3RLhbk', 'gFGaBMTAQdGaHJJQshijMZ', 'changeGraph', 'eyJpZCI6IDEwLCAidHlwZSI6ICJ2ZXJ0ZXgiLCAicHJvcHMiOiB7InNpemUiOiAxNC40NzY5ODc0NDc2OTg3NDN9fQo=');</script>\n",
       "    "
      ],
      "text/plain": [
       "<IPython.core.display.HTML object>"
      ]
     },
     "metadata": {},
     "output_type": "display_data"
    },
    {
     "data": {
      "text/html": [
       "\n",
       "        <div id=\"VpnxqWTDZ9RN64pLqSpDp2\"></div>\n",
       "        <script>netpixi.call('VpnxqWTDZ9RN64pLqSpDp2', 'gFGaBMTAQdGaHJJQshijMZ', 'changeGraph', 'eyJpZCI6IDgyLCAidHlwZSI6ICJ2ZXJ0ZXgiLCAicHJvcHMiOiB7ImNvbG9yIjogMTY3MTE2ODB9fQo=');</script>\n",
       "    "
      ],
      "text/plain": [
       "<IPython.core.display.HTML object>"
      ]
     },
     "metadata": {},
     "output_type": "display_data"
    },
    {
     "data": {
      "text/html": [
       "\n",
       "        <div id=\"NNs4xV4rmt8MPHaQSYBFvp\"></div>\n",
       "        <script>netpixi.call('NNs4xV4rmt8MPHaQSYBFvp', 'gFGaBMTAQdGaHJJQshijMZ', 'changeGraph', 'eyJpZCI6IDExLCAidHlwZSI6ICJ2ZXJ0ZXgiLCAicHJvcHMiOiB7InNpemUiOiAxNS4wMjA5MjA1MDIwOTIwNX19Cg==');</script>\n",
       "    "
      ],
      "text/plain": [
       "<IPython.core.display.HTML object>"
      ]
     },
     "metadata": {},
     "output_type": "display_data"
    },
    {
     "data": {
      "text/html": [
       "\n",
       "        <div id=\"NYCVnj8ejMtfWuBVDKEjCM\"></div>\n",
       "        <script>netpixi.call('NYCVnj8ejMtfWuBVDKEjCM', 'gFGaBMTAQdGaHJJQshijMZ', 'changeGraph', 'eyJpZCI6IDY0LCAidHlwZSI6ICJ2ZXJ0ZXgiLCAicHJvcHMiOiB7ImNvbG9yIjogMTY3MTE2ODB9fQo=');</script>\n",
       "    "
      ],
      "text/plain": [
       "<IPython.core.display.HTML object>"
      ]
     },
     "metadata": {},
     "output_type": "display_data"
    },
    {
     "data": {
      "text/html": [
       "\n",
       "        <div id=\"3iR6Y3EUhgzZ5HnKditixR\"></div>\n",
       "        <script>netpixi.call('3iR6Y3EUhgzZ5HnKditixR', 'gFGaBMTAQdGaHJJQshijMZ', 'changeGraph', 'eyJpZCI6IDEyLCAidHlwZSI6ICJ2ZXJ0ZXgiLCAicHJvcHMiOiB7InNpemUiOiAxNy41NzMyMjE3NTczMjIxNzN9fQo=');</script>\n",
       "    "
      ],
      "text/plain": [
       "<IPython.core.display.HTML object>"
      ]
     },
     "metadata": {},
     "output_type": "display_data"
    },
    {
     "data": {
      "text/html": [
       "\n",
       "        <div id=\"HPd8WsfhtmXgMvxby4imsY\"></div>\n",
       "        <script>netpixi.call('HPd8WsfhtmXgMvxby4imsY', 'gFGaBMTAQdGaHJJQshijMZ', 'changeGraph', 'eyJpZCI6IDgzLCAidHlwZSI6ICJ2ZXJ0ZXgiLCAicHJvcHMiOiB7ImNvbG9yIjogMTY3MTE2ODB9fQo=');</script>\n",
       "    "
      ],
      "text/plain": [
       "<IPython.core.display.HTML object>"
      ]
     },
     "metadata": {},
     "output_type": "display_data"
    },
    {
     "data": {
      "text/html": [
       "\n",
       "        <div id=\"3wUqDCwJWmCw7LS7j5MxDH\"></div>\n",
       "        <script>netpixi.call('3wUqDCwJWmCw7LS7j5MxDH', 'gFGaBMTAQdGaHJJQshijMZ', 'changeGraph', 'eyJpZCI6IDEzLCAidHlwZSI6ICJ2ZXJ0ZXgiLCAicHJvcHMiOiB7InNpemUiOiA0Ny4xNjY2NjY2NjY2NjY2N319Cg==');</script>\n",
       "    "
      ],
      "text/plain": [
       "<IPython.core.display.HTML object>"
      ]
     },
     "metadata": {},
     "output_type": "display_data"
    },
    {
     "data": {
      "text/html": [
       "\n",
       "        <div id=\"6PQXkVto3thvmUWC9Dmrpq\"></div>\n",
       "        <script>netpixi.call('6PQXkVto3thvmUWC9Dmrpq', 'gFGaBMTAQdGaHJJQshijMZ', 'changeGraph', 'eyJpZCI6IDc0LCAidHlwZSI6ICJ2ZXJ0ZXgiLCAicHJvcHMiOiB7ImNvbG9yIjogMTY3MTE2ODB9fQo=');</script>\n",
       "    "
      ],
      "text/plain": [
       "<IPython.core.display.HTML object>"
      ]
     },
     "metadata": {},
     "output_type": "display_data"
    },
    {
     "data": {
      "text/html": [
       "\n",
       "        <div id=\"3ZTv6onsAkvChPgLMdUWMb\"></div>\n",
       "        <script>netpixi.call('3ZTv6onsAkvChPgLMdUWMb', 'gFGaBMTAQdGaHJJQshijMZ', 'changeGraph', 'eyJpZCI6IDE0LCAidHlwZSI6ICJ2ZXJ0ZXgiLCAicHJvcHMiOiB7InNpemUiOiAxNC4wNTg1Nzc0MDU4NTc3NH19Cg==');</script>\n",
       "    "
      ],
      "text/plain": [
       "<IPython.core.display.HTML object>"
      ]
     },
     "metadata": {},
     "output_type": "display_data"
    },
    {
     "data": {
      "text/html": [
       "\n",
       "        <div id=\"CFhKmhemmRDkYYaJW2F9u5\"></div>\n",
       "        <script>netpixi.call('CFhKmhemmRDkYYaJW2F9u5', 'gFGaBMTAQdGaHJJQshijMZ', 'changeGraph', 'eyJpZCI6IDUyLCAidHlwZSI6ICJ2ZXJ0ZXgiLCAicHJvcHMiOiB7ImNvbG9yIjogMTY3MTE2ODB9fQo=');</script>\n",
       "    "
      ],
      "text/plain": [
       "<IPython.core.display.HTML object>"
      ]
     },
     "metadata": {},
     "output_type": "display_data"
    },
    {
     "data": {
      "text/html": [
       "\n",
       "        <div id=\"Gi86u4FmdHjavRaZkjz23B\"></div>\n",
       "        <script>netpixi.call('Gi86u4FmdHjavRaZkjz23B', 'gFGaBMTAQdGaHJJQshijMZ', 'changeGraph', 'eyJpZCI6IDE1LCAidHlwZSI6ICJ2ZXJ0ZXgiLCAicHJvcHMiOiB7InNpemUiOiAxMy40NzI4MDMzNDcyODAzMzN9fQo=');</script>\n",
       "    "
      ],
      "text/plain": [
       "<IPython.core.display.HTML object>"
      ]
     },
     "metadata": {},
     "output_type": "display_data"
    },
    {
     "data": {
      "text/html": [
       "\n",
       "        <div id=\"7HbZfLhNbX2B9AbMVrTExV\"></div>\n",
       "        <script>netpixi.call('7HbZfLhNbX2B9AbMVrTExV', 'gFGaBMTAQdGaHJJQshijMZ', 'changeGraph', 'eyJpZCI6IDg0LCAidHlwZSI6ICJ2ZXJ0ZXgiLCAicHJvcHMiOiB7ImNvbG9yIjogMTY3MTE2ODB9fQo=');</script>\n",
       "    "
      ],
      "text/plain": [
       "<IPython.core.display.HTML object>"
      ]
     },
     "metadata": {},
     "output_type": "display_data"
    },
    {
     "data": {
      "text/html": [
       "\n",
       "        <div id=\"EbrZNpaDUKdA3xSna7YkxJ\"></div>\n",
       "        <script>netpixi.call('EbrZNpaDUKdA3xSna7YkxJ', 'gFGaBMTAQdGaHJJQshijMZ', 'changeGraph', 'eyJpZCI6IDE2LCAidHlwZSI6ICJ2ZXJ0ZXgiLCAicHJvcHMiOiB7InNpemUiOiAxOS4xNjMxNzk5MTYzMTc5OX19Cg==');</script>\n",
       "    "
      ],
      "text/plain": [
       "<IPython.core.display.HTML object>"
      ]
     },
     "metadata": {},
     "output_type": "display_data"
    },
    {
     "data": {
      "text/html": [
       "\n",
       "        <div id=\"URTauC8k7hk7ywZs83hcze\"></div>\n",
       "        <script>netpixi.call('URTauC8k7hk7ywZs83hcze', 'gFGaBMTAQdGaHJJQshijMZ', 'changeGraph', 'eyJpZCI6IDg5LCAidHlwZSI6ICJ2ZXJ0ZXgiLCAicHJvcHMiOiB7ImNvbG9yIjogMTY3MTE2ODB9fQo=');</script>\n",
       "    "
      ],
      "text/plain": [
       "<IPython.core.display.HTML object>"
      ]
     },
     "metadata": {},
     "output_type": "display_data"
    },
    {
     "data": {
      "text/html": [
       "\n",
       "        <div id=\"TiZYhSjxCYHVopbXbUGnES\"></div>\n",
       "        <script>netpixi.call('TiZYhSjxCYHVopbXbUGnES', 'gFGaBMTAQdGaHJJQshijMZ', 'changeGraph', 'eyJpZCI6IDE3LCAidHlwZSI6ICJ2ZXJ0ZXgiLCAicHJvcHMiOiB7InNpemUiOiAxMi4wOTIwNTAyMDkyMDUwMn19Cg==');</script>\n",
       "    "
      ],
      "text/plain": [
       "<IPython.core.display.HTML object>"
      ]
     },
     "metadata": {},
     "output_type": "display_data"
    },
    {
     "data": {
      "text/html": [
       "\n",
       "        <div id=\"SDnkFk59HR4vSxWWe2hL5F\"></div>\n",
       "        <script>netpixi.call('SDnkFk59HR4vSxWWe2hL5F', 'gFGaBMTAQdGaHJJQshijMZ', 'changeGraph', 'eyJpZCI6IDgzLCAidHlwZSI6ICJ2ZXJ0ZXgiLCAicHJvcHMiOiB7ImNvbG9yIjogMTY3MTE2ODB9fQo=');</script>\n",
       "    "
      ],
      "text/plain": [
       "<IPython.core.display.HTML object>"
      ]
     },
     "metadata": {},
     "output_type": "display_data"
    },
    {
     "data": {
      "text/html": [
       "\n",
       "        <div id=\"DRe8kMmVcywiR4pkaU5oss\"></div>\n",
       "        <script>netpixi.call('DRe8kMmVcywiR4pkaU5oss', 'gFGaBMTAQdGaHJJQshijMZ', 'changeGraph', 'eyJpZCI6IDE4LCAidHlwZSI6ICJ2ZXJ0ZXgiLCAicHJvcHMiOiB7InNpemUiOiA0MC44MzMzMzMzMzMzMzMzMzZ9fQo=');</script>\n",
       "    "
      ],
      "text/plain": [
       "<IPython.core.display.HTML object>"
      ]
     },
     "metadata": {},
     "output_type": "display_data"
    },
    {
     "data": {
      "text/html": [
       "\n",
       "        <div id=\"5rknhFxHvETvLU6n6oSd9K\"></div>\n",
       "        <script>netpixi.call('5rknhFxHvETvLU6n6oSd9K', 'gFGaBMTAQdGaHJJQshijMZ', 'changeGraph', 'eyJpZCI6IDcyLCAidHlwZSI6ICJ2ZXJ0ZXgiLCAicHJvcHMiOiB7ImNvbG9yIjogMTY3MTE2ODB9fQo=');</script>\n",
       "    "
      ],
      "text/plain": [
       "<IPython.core.display.HTML object>"
      ]
     },
     "metadata": {},
     "output_type": "display_data"
    },
    {
     "data": {
      "text/html": [
       "\n",
       "        <div id=\"J9xihBmpUPFUdm9Us47ccu\"></div>\n",
       "        <script>netpixi.call('J9xihBmpUPFUdm9Us47ccu', 'gFGaBMTAQdGaHJJQshijMZ', 'changeGraph', 'eyJpZCI6IDE5LCAidHlwZSI6ICJ2ZXJ0ZXgiLCAicHJvcHMiOiB7InNpemUiOiAxOC45MTIxMzM4OTEyMTMzODd9fQo=');</script>\n",
       "    "
      ],
      "text/plain": [
       "<IPython.core.display.HTML object>"
      ]
     },
     "metadata": {},
     "output_type": "display_data"
    },
    {
     "data": {
      "text/html": [
       "\n",
       "        <div id=\"5Q9f4d9wLPuE5GAVwdspoh\"></div>\n",
       "        <script>netpixi.call('5Q9f4d9wLPuE5GAVwdspoh', 'gFGaBMTAQdGaHJJQshijMZ', 'changeGraph', 'eyJpZCI6IDY2LCAidHlwZSI6ICJ2ZXJ0ZXgiLCAicHJvcHMiOiB7ImNvbG9yIjogMTY3MTE2ODB9fQo=');</script>\n",
       "    "
      ],
      "text/plain": [
       "<IPython.core.display.HTML object>"
      ]
     },
     "metadata": {},
     "output_type": "display_data"
    },
    {
     "data": {
      "text/html": [
       "\n",
       "        <div id=\"jSqsXLTs4tmGTynqmPBa96\"></div>\n",
       "        <script>netpixi.call('jSqsXLTs4tmGTynqmPBa96', 'gFGaBMTAQdGaHJJQshijMZ', 'changeGraph', 'eyJpZCI6IDIwLCAidHlwZSI6ICJ2ZXJ0ZXgiLCAicHJvcHMiOiB7InNpemUiOiAxMy41OTgzMjYzNTk4MzI2Mzd9fQo=');</script>\n",
       "    "
      ],
      "text/plain": [
       "<IPython.core.display.HTML object>"
      ]
     },
     "metadata": {},
     "output_type": "display_data"
    },
    {
     "data": {
      "text/html": [
       "\n",
       "        <div id=\"eKEzhXchMy5x9sRBvNFete\"></div>\n",
       "        <script>netpixi.call('eKEzhXchMy5x9sRBvNFete', 'gFGaBMTAQdGaHJJQshijMZ', 'changeGraph', 'eyJpZCI6IDcwLCAidHlwZSI6ICJ2ZXJ0ZXgiLCAicHJvcHMiOiB7ImNvbG9yIjogMTY3MTE2ODB9fQo=');</script>\n",
       "    "
      ],
      "text/plain": [
       "<IPython.core.display.HTML object>"
      ]
     },
     "metadata": {},
     "output_type": "display_data"
    },
    {
     "data": {
      "text/html": [
       "\n",
       "        <div id=\"VnHvALueoX6iR65LjEEddM\"></div>\n",
       "        <script>netpixi.call('VnHvALueoX6iR65LjEEddM', 'gFGaBMTAQdGaHJJQshijMZ', 'changeGraph', 'eyJpZCI6IDIxLCAidHlwZSI6ICJ2ZXJ0ZXgiLCAicHJvcHMiOiB7InNpemUiOiAxOS4zMzA1NDM5MzMwNTQzOTN9fQo=');</script>\n",
       "    "
      ],
      "text/plain": [
       "<IPython.core.display.HTML object>"
      ]
     },
     "metadata": {},
     "output_type": "display_data"
    },
    {
     "data": {
      "text/html": [
       "\n",
       "        <div id=\"azkEDg9d7tGeE5gGCocaec\"></div>\n",
       "        <script>netpixi.call('azkEDg9d7tGeE5gGCocaec', 'gFGaBMTAQdGaHJJQshijMZ', 'changeGraph', 'eyJpZCI6IDg0LCAidHlwZSI6ICJ2ZXJ0ZXgiLCAicHJvcHMiOiB7ImNvbG9yIjogMTY3MTE2ODB9fQo=');</script>\n",
       "    "
      ],
      "text/plain": [
       "<IPython.core.display.HTML object>"
      ]
     },
     "metadata": {},
     "output_type": "display_data"
    },
    {
     "data": {
      "text/html": [
       "\n",
       "        <div id=\"N5vaE7GwpxgenoptpJxZS3\"></div>\n",
       "        <script>netpixi.call('N5vaE7GwpxgenoptpJxZS3', 'gFGaBMTAQdGaHJJQshijMZ', 'changeGraph', 'eyJpZCI6IDIyLCAidHlwZSI6ICJ2ZXJ0ZXgiLCAicHJvcHMiOiB7InNpemUiOiA0NC44MzMzMzMzMzMzMzMzMzZ9fQo=');</script>\n",
       "    "
      ],
      "text/plain": [
       "<IPython.core.display.HTML object>"
      ]
     },
     "metadata": {},
     "output_type": "display_data"
    },
    {
     "data": {
      "text/html": [
       "\n",
       "        <div id=\"LiewHUbQgVTaJwbhwWotw2\"></div>\n",
       "        <script>netpixi.call('LiewHUbQgVTaJwbhwWotw2', 'gFGaBMTAQdGaHJJQshijMZ', 'changeGraph', 'eyJpZCI6IDgwLCAidHlwZSI6ICJ2ZXJ0ZXgiLCAicHJvcHMiOiB7ImNvbG9yIjogMTY3MTE2ODB9fQo=');</script>\n",
       "    "
      ],
      "text/plain": [
       "<IPython.core.display.HTML object>"
      ]
     },
     "metadata": {},
     "output_type": "display_data"
    },
    {
     "data": {
      "text/html": [
       "\n",
       "        <div id=\"LxXyaA8hjCiYL5HqgoQMuq\"></div>\n",
       "        <script>netpixi.call('LxXyaA8hjCiYL5HqgoQMuq', 'gFGaBMTAQdGaHJJQshijMZ', 'changeGraph', 'eyJpZCI6IDIzLCAidHlwZSI6ICJ2ZXJ0ZXgiLCAicHJvcHMiOiB7InNpemUiOiAxNy4xNTQ4MTE3MTU0ODExN319Cg==');</script>\n",
       "    "
      ],
      "text/plain": [
       "<IPython.core.display.HTML object>"
      ]
     },
     "metadata": {},
     "output_type": "display_data"
    },
    {
     "data": {
      "text/html": [
       "\n",
       "        <div id=\"8r8TVWMzSM7MrKodJceK3X\"></div>\n",
       "        <script>netpixi.call('8r8TVWMzSM7MrKodJceK3X', 'gFGaBMTAQdGaHJJQshijMZ', 'changeGraph', 'eyJpZCI6IDcwLCAidHlwZSI6ICJ2ZXJ0ZXgiLCAicHJvcHMiOiB7ImNvbG9yIjogMTY3MTE2ODB9fQo=');</script>\n",
       "    "
      ],
      "text/plain": [
       "<IPython.core.display.HTML object>"
      ]
     },
     "metadata": {},
     "output_type": "display_data"
    },
    {
     "data": {
      "text/html": [
       "\n",
       "        <div id=\"Yk8PaY9GsPFS67CnRcwDpG\"></div>\n",
       "        <script>netpixi.call('Yk8PaY9GsPFS67CnRcwDpG', 'gFGaBMTAQdGaHJJQshijMZ', 'changeGraph', 'eyJpZCI6IDI0LCAidHlwZSI6ICJ2ZXJ0ZXgiLCAicHJvcHMiOiB7InNpemUiOiAxNy43NDA1ODU3NzQwNTg1Nzd9fQo=');</script>\n",
       "    "
      ],
      "text/plain": [
       "<IPython.core.display.HTML object>"
      ]
     },
     "metadata": {},
     "output_type": "display_data"
    },
    {
     "data": {
      "text/html": [
       "\n",
       "        <div id=\"2egEp3XFFXbds665yfSPCb\"></div>\n",
       "        <script>netpixi.call('2egEp3XFFXbds665yfSPCb', 'gFGaBMTAQdGaHJJQshijMZ', 'changeGraph', 'eyJpZCI6IDg0LCAidHlwZSI6ICJ2ZXJ0ZXgiLCAicHJvcHMiOiB7ImNvbG9yIjogMTY3MTE2ODB9fQo=');</script>\n",
       "    "
      ],
      "text/plain": [
       "<IPython.core.display.HTML object>"
      ]
     },
     "metadata": {},
     "output_type": "display_data"
    },
    {
     "data": {
      "text/html": [
       "\n",
       "        <div id=\"RX8HMnXRYNTNVzgQFDCbsF\"></div>\n",
       "        <script>netpixi.call('RX8HMnXRYNTNVzgQFDCbsF', 'gFGaBMTAQdGaHJJQshijMZ', 'changeGraph', 'eyJpZCI6IDI1LCAidHlwZSI6ICJ2ZXJ0ZXgiLCAicHJvcHMiOiB7InNpemUiOiAxMC43MTEyOTcwNzExMjk3MDd9fQo=');</script>\n",
       "    "
      ],
      "text/plain": [
       "<IPython.core.display.HTML object>"
      ]
     },
     "metadata": {},
     "output_type": "display_data"
    },
    {
     "data": {
      "text/html": [
       "\n",
       "        <div id=\"SnPxtbkQfJfor69WzDxT6t\"></div>\n",
       "        <script>netpixi.call('SnPxtbkQfJfor69WzDxT6t', 'gFGaBMTAQdGaHJJQshijMZ', 'changeGraph', 'eyJpZCI6IDcwLCAidHlwZSI6ICJ2ZXJ0ZXgiLCAicHJvcHMiOiB7ImNvbG9yIjogMTY3MTE2ODB9fQo=');</script>\n",
       "    "
      ],
      "text/plain": [
       "<IPython.core.display.HTML object>"
      ]
     },
     "metadata": {},
     "output_type": "display_data"
    },
    {
     "data": {
      "text/html": [
       "\n",
       "        <div id=\"VtYzQYr9CZhSqQc8CuFBt5\"></div>\n",
       "        <script>netpixi.call('VtYzQYr9CZhSqQc8CuFBt5', 'gFGaBMTAQdGaHJJQshijMZ', 'changeGraph', 'eyJpZCI6IDI2LCAidHlwZSI6ICJ2ZXJ0ZXgiLCAicHJvcHMiOiB7InNpemUiOiA0My4wfX0K');</script>\n",
       "    "
      ],
      "text/plain": [
       "<IPython.core.display.HTML object>"
      ]
     },
     "metadata": {},
     "output_type": "display_data"
    },
    {
     "data": {
      "text/html": [
       "\n",
       "        <div id=\"nXNwqKa4JrPntry4eNCjQL\"></div>\n",
       "        <script>netpixi.call('nXNwqKa4JrPntry4eNCjQL', 'gFGaBMTAQdGaHJJQshijMZ', 'changeGraph', 'eyJpZCI6IDgzLCAidHlwZSI6ICJ2ZXJ0ZXgiLCAicHJvcHMiOiB7ImNvbG9yIjogMTY3MTE2ODB9fQo=');</script>\n",
       "    "
      ],
      "text/plain": [
       "<IPython.core.display.HTML object>"
      ]
     },
     "metadata": {},
     "output_type": "display_data"
    },
    {
     "data": {
      "text/html": [
       "\n",
       "        <div id=\"cRoYXixA5kNX6PCDjmZs7j\"></div>\n",
       "        <script>netpixi.call('cRoYXixA5kNX6PCDjmZs7j', 'gFGaBMTAQdGaHJJQshijMZ', 'changeGraph', 'eyJpZCI6IDI3LCAidHlwZSI6ICJ2ZXJ0ZXgiLCAicHJvcHMiOiB7InNpemUiOiAxOC4xMTcxNTQ4MTE3MTU0OH19Cg==');</script>\n",
       "    "
      ],
      "text/plain": [
       "<IPython.core.display.HTML object>"
      ]
     },
     "metadata": {},
     "output_type": "display_data"
    },
    {
     "data": {
      "text/html": [
       "\n",
       "        <div id=\"USRqwEuL2vyvx8JA9t95qR\"></div>\n",
       "        <script>netpixi.call('USRqwEuL2vyvx8JA9t95qR', 'gFGaBMTAQdGaHJJQshijMZ', 'changeGraph', 'eyJpZCI6IDgxLCAidHlwZSI6ICJ2ZXJ0ZXgiLCAicHJvcHMiOiB7ImNvbG9yIjogMTY3MTE2ODB9fQo=');</script>\n",
       "    "
      ],
      "text/plain": [
       "<IPython.core.display.HTML object>"
      ]
     },
     "metadata": {},
     "output_type": "display_data"
    },
    {
     "data": {
      "text/html": [
       "\n",
       "        <div id=\"XEnnSkeFRBYa4o4tGjq9zx\"></div>\n",
       "        <script>netpixi.call('XEnnSkeFRBYa4o4tGjq9zx', 'gFGaBMTAQdGaHJJQshijMZ', 'changeGraph', 'eyJpZCI6IDI4LCAidHlwZSI6ICJ2ZXJ0ZXgiLCAicHJvcHMiOiB7InNpemUiOiA0NC41fX0K');</script>\n",
       "    "
      ],
      "text/plain": [
       "<IPython.core.display.HTML object>"
      ]
     },
     "metadata": {},
     "output_type": "display_data"
    },
    {
     "data": {
      "text/html": [
       "\n",
       "        <div id=\"gaTbFa6eF7W8ScF7hATr3V\"></div>\n",
       "        <script>netpixi.call('gaTbFa6eF7W8ScF7hATr3V', 'gFGaBMTAQdGaHJJQshijMZ', 'changeGraph', 'eyJpZCI6IDkwLCAidHlwZSI6ICJ2ZXJ0ZXgiLCAicHJvcHMiOiB7ImNvbG9yIjogMTY3MTE2ODB9fQo=');</script>\n",
       "    "
      ],
      "text/plain": [
       "<IPython.core.display.HTML object>"
      ]
     },
     "metadata": {},
     "output_type": "display_data"
    },
    {
     "data": {
      "text/html": [
       "\n",
       "        <div id=\"cGnfMzuQtF62HD4rWxK9XY\"></div>\n",
       "        <script>netpixi.call('cGnfMzuQtF62HD4rWxK9XY', 'gFGaBMTAQdGaHJJQshijMZ', 'changeGraph', 'eyJpZCI6IDI5LCAidHlwZSI6ICJ2ZXJ0ZXgiLCAicHJvcHMiOiB7InNpemUiOiAxOC40NTE4ODI4NDUxODgyODN9fQo=');</script>\n",
       "    "
      ],
      "text/plain": [
       "<IPython.core.display.HTML object>"
      ]
     },
     "metadata": {},
     "output_type": "display_data"
    },
    {
     "data": {
      "text/html": [
       "\n",
       "        <div id=\"LdrzCHnbyoAKXH8MA7w66r\"></div>\n",
       "        <script>netpixi.call('LdrzCHnbyoAKXH8MA7w66r', 'gFGaBMTAQdGaHJJQshijMZ', 'changeGraph', 'eyJpZCI6IDY1LCAidHlwZSI6ICJ2ZXJ0ZXgiLCAicHJvcHMiOiB7ImNvbG9yIjogMTY3MTE2ODB9fQo=');</script>\n",
       "    "
      ],
      "text/plain": [
       "<IPython.core.display.HTML object>"
      ]
     },
     "metadata": {},
     "output_type": "display_data"
    },
    {
     "data": {
      "text/html": [
       "\n",
       "        <div id=\"mWnUtdEgMc4YH6MT4JyVah\"></div>\n",
       "        <script>netpixi.call('mWnUtdEgMc4YH6MT4JyVah', 'gFGaBMTAQdGaHJJQshijMZ', 'changeGraph', 'eyJpZCI6IDMwLCAidHlwZSI6ICJ2ZXJ0ZXgiLCAicHJvcHMiOiB7InNpemUiOiAxNy44NjYxMDg3ODY2MTA4OH19Cg==');</script>\n",
       "    "
      ],
      "text/plain": [
       "<IPython.core.display.HTML object>"
      ]
     },
     "metadata": {},
     "output_type": "display_data"
    },
    {
     "data": {
      "text/html": [
       "\n",
       "        <div id=\"4dmt6XcfXHheJpq2BxPVMJ\"></div>\n",
       "        <script>netpixi.call('4dmt6XcfXHheJpq2BxPVMJ', 'gFGaBMTAQdGaHJJQshijMZ', 'changeGraph', 'eyJpZCI6IDc3LCAidHlwZSI6ICJ2ZXJ0ZXgiLCAicHJvcHMiOiB7ImNvbG9yIjogMTY3MTE2ODB9fQo=');</script>\n",
       "    "
      ],
      "text/plain": [
       "<IPython.core.display.HTML object>"
      ]
     },
     "metadata": {},
     "output_type": "display_data"
    },
    {
     "data": {
      "text/html": [
       "\n",
       "        <div id=\"jX9ac9EmLQhhFJZ4iaPybQ\"></div>\n",
       "        <script>netpixi.call('jX9ac9EmLQhhFJZ4iaPybQ', 'gFGaBMTAQdGaHJJQshijMZ', 'changeGraph', 'eyJpZCI6IDMxLCAidHlwZSI6ICJ2ZXJ0ZXgiLCAicHJvcHMiOiB7InNpemUiOiA0OC41fX0K');</script>\n",
       "    "
      ],
      "text/plain": [
       "<IPython.core.display.HTML object>"
      ]
     },
     "metadata": {},
     "output_type": "display_data"
    },
    {
     "data": {
      "text/html": [
       "\n",
       "        <div id=\"MMERYkNCRCp3hcdWZgMt2e\"></div>\n",
       "        <script>netpixi.call('MMERYkNCRCp3hcdWZgMt2e', 'gFGaBMTAQdGaHJJQshijMZ', 'changeGraph', 'eyJpZCI6IDczLCAidHlwZSI6ICJ2ZXJ0ZXgiLCAicHJvcHMiOiB7ImNvbG9yIjogMTY3MTE2ODB9fQo=');</script>\n",
       "    "
      ],
      "text/plain": [
       "<IPython.core.display.HTML object>"
      ]
     },
     "metadata": {},
     "output_type": "display_data"
    },
    {
     "data": {
      "text/html": [
       "\n",
       "        <div id=\"krTC8vdSWWd8CHsYuF8giv\"></div>\n",
       "        <script>netpixi.call('krTC8vdSWWd8CHsYuF8giv', 'gFGaBMTAQdGaHJJQshijMZ', 'changeGraph', 'eyJpZCI6IDMyLCAidHlwZSI6ICJ2ZXJ0ZXgiLCAicHJvcHMiOiB7InNpemUiOiAxMi4yMTc1NzMyMjE3NTczMjJ9fQo=');</script>\n",
       "    "
      ],
      "text/plain": [
       "<IPython.core.display.HTML object>"
      ]
     },
     "metadata": {},
     "output_type": "display_data"
    },
    {
     "data": {
      "text/html": [
       "\n",
       "        <div id=\"cpQgsn7mb7orNXwKv5Rvk7\"></div>\n",
       "        <script>netpixi.call('cpQgsn7mb7orNXwKv5Rvk7', 'gFGaBMTAQdGaHJJQshijMZ', 'changeGraph', 'eyJpZCI6IDcwLCAidHlwZSI6ICJ2ZXJ0ZXgiLCAicHJvcHMiOiB7ImNvbG9yIjogMTY3MTE2ODB9fQo=');</script>\n",
       "    "
      ],
      "text/plain": [
       "<IPython.core.display.HTML object>"
      ]
     },
     "metadata": {},
     "output_type": "display_data"
    },
    {
     "data": {
      "text/html": [
       "\n",
       "        <div id=\"cWfsaveeAVpRhyAUpiWbbt\"></div>\n",
       "        <script>netpixi.call('cWfsaveeAVpRhyAUpiWbbt', 'gFGaBMTAQdGaHJJQshijMZ', 'changeGraph', 'eyJpZCI6IDMzLCAidHlwZSI6ICJ2ZXJ0ZXgiLCAicHJvcHMiOiB7InNpemUiOiAxOC4wMzM0NzI4MDMzNDcyOH19Cg==');</script>\n",
       "    "
      ],
      "text/plain": [
       "<IPython.core.display.HTML object>"
      ]
     },
     "metadata": {},
     "output_type": "display_data"
    },
    {
     "data": {
      "text/html": [
       "\n",
       "        <div id=\"QzMnXgX8LyAJYnrWVBVyQ5\"></div>\n",
       "        <script>netpixi.call('QzMnXgX8LyAJYnrWVBVyQ5', 'gFGaBMTAQdGaHJJQshijMZ', 'changeGraph', 'eyJpZCI6IDgzLCAidHlwZSI6ICJ2ZXJ0ZXgiLCAicHJvcHMiOiB7ImNvbG9yIjogMTY3MTE2ODB9fQo=');</script>\n",
       "    "
      ],
      "text/plain": [
       "<IPython.core.display.HTML object>"
      ]
     },
     "metadata": {},
     "output_type": "display_data"
    },
    {
     "data": {
      "text/html": [
       "\n",
       "        <div id=\"JubSe3kDmS2XVVVRrBSadV\"></div>\n",
       "        <script>netpixi.call('JubSe3kDmS2XVVVRrBSadV', 'gFGaBMTAQdGaHJJQshijMZ', 'changeGraph', 'eyJpZCI6IDM0LCAidHlwZSI6ICJ2ZXJ0ZXgiLCAicHJvcHMiOiB7InNpemUiOiAxOS45MTYzMTc5OTE2MzE4fX0K');</script>\n",
       "    "
      ],
      "text/plain": [
       "<IPython.core.display.HTML object>"
      ]
     },
     "metadata": {},
     "output_type": "display_data"
    },
    {
     "data": {
      "text/html": [
       "\n",
       "        <div id=\"e6hv7FugtGUEXAcPeNEZDr\"></div>\n",
       "        <script>netpixi.call('e6hv7FugtGUEXAcPeNEZDr', 'gFGaBMTAQdGaHJJQshijMZ', 'changeGraph', 'eyJpZCI6IDc5LCAidHlwZSI6ICJ2ZXJ0ZXgiLCAicHJvcHMiOiB7ImNvbG9yIjogMTY3MTE2ODB9fQo=');</script>\n",
       "    "
      ],
      "text/plain": [
       "<IPython.core.display.HTML object>"
      ]
     },
     "metadata": {},
     "output_type": "display_data"
    },
    {
     "data": {
      "text/html": [
       "\n",
       "        <div id=\"kufs6o39C7uLGHe32nmnWa\"></div>\n",
       "        <script>netpixi.call('kufs6o39C7uLGHe32nmnWa', 'gFGaBMTAQdGaHJJQshijMZ', 'changeGraph', 'eyJpZCI6IDM1LCAidHlwZSI6ICJ2ZXJ0ZXgiLCAicHJvcHMiOiB7InNpemUiOiAxNy40MDU4NTc3NDA1ODU3NzN9fQo=');</script>\n",
       "    "
      ],
      "text/plain": [
       "<IPython.core.display.HTML object>"
      ]
     },
     "metadata": {},
     "output_type": "display_data"
    },
    {
     "data": {
      "text/html": [
       "\n",
       "        <div id=\"XAxxWK7Ds4SSbEg7akyVAe\"></div>\n",
       "        <script>netpixi.call('XAxxWK7Ds4SSbEg7akyVAe', 'gFGaBMTAQdGaHJJQshijMZ', 'changeGraph', 'eyJpZCI6IDc5LCAidHlwZSI6ICJ2ZXJ0ZXgiLCAicHJvcHMiOiB7ImNvbG9yIjogMTY3MTE2ODB9fQo=');</script>\n",
       "    "
      ],
      "text/plain": [
       "<IPython.core.display.HTML object>"
      ]
     },
     "metadata": {},
     "output_type": "display_data"
    },
    {
     "data": {
      "text/html": [
       "\n",
       "        <div id=\"4kxD9QAmkufmfUz5wkYvkN\"></div>\n",
       "        <script>netpixi.call('4kxD9QAmkufmfUz5wkYvkN', 'gFGaBMTAQdGaHJJQshijMZ', 'changeGraph', 'eyJpZCI6IDM2LCAidHlwZSI6ICJ2ZXJ0ZXgiLCAicHJvcHMiOiB7InNpemUiOiAxMC4zMzQ3MjgwMzM0NzI4MDN9fQo=');</script>\n",
       "    "
      ],
      "text/plain": [
       "<IPython.core.display.HTML object>"
      ]
     },
     "metadata": {},
     "output_type": "display_data"
    },
    {
     "data": {
      "text/html": [
       "\n",
       "        <div id=\"j2TZEuPtNgZCHzCRxDf9eg\"></div>\n",
       "        <script>netpixi.call('j2TZEuPtNgZCHzCRxDf9eg', 'gFGaBMTAQdGaHJJQshijMZ', 'changeGraph', 'eyJpZCI6IDY4LCAidHlwZSI6ICJ2ZXJ0ZXgiLCAicHJvcHMiOiB7ImNvbG9yIjogMTY3MTE2ODB9fQo=');</script>\n",
       "    "
      ],
      "text/plain": [
       "<IPython.core.display.HTML object>"
      ]
     },
     "metadata": {},
     "output_type": "display_data"
    },
    {
     "data": {
      "text/html": [
       "\n",
       "        <div id=\"NsDaex3jQtriewSPFmvtpd\"></div>\n",
       "        <script>netpixi.call('NsDaex3jQtriewSPFmvtpd', 'gFGaBMTAQdGaHJJQshijMZ', 'changeGraph', 'eyJpZCI6IDM3LCAidHlwZSI6ICJ2ZXJ0ZXgiLCAicHJvcHMiOiB7InNpemUiOiAxNi4zNTk4MzI2MzU5ODMyNjN9fQo=');</script>\n",
       "    "
      ],
      "text/plain": [
       "<IPython.core.display.HTML object>"
      ]
     },
     "metadata": {},
     "output_type": "display_data"
    },
    {
     "data": {
      "text/html": [
       "\n",
       "        <div id=\"CLu5v8JnNis7BBQorxQwJt\"></div>\n",
       "        <script>netpixi.call('CLu5v8JnNis7BBQorxQwJt', 'gFGaBMTAQdGaHJJQshijMZ', 'changeGraph', 'eyJpZCI6IDc5LCAidHlwZSI6ICJ2ZXJ0ZXgiLCAicHJvcHMiOiB7ImNvbG9yIjogMTY3MTE2ODB9fQo=');</script>\n",
       "    "
      ],
      "text/plain": [
       "<IPython.core.display.HTML object>"
      ]
     },
     "metadata": {},
     "output_type": "display_data"
    },
    {
     "data": {
      "text/html": [
       "\n",
       "        <div id=\"ifZi5e3Cn8yyCXB3MeAqWa\"></div>\n",
       "        <script>netpixi.call('ifZi5e3Cn8yyCXB3MeAqWa', 'gFGaBMTAQdGaHJJQshijMZ', 'changeGraph', 'eyJpZCI6IDM4LCAidHlwZSI6ICJ2ZXJ0ZXgiLCAicHJvcHMiOiB7InNpemUiOiA0MC4xNjY2NjY2NjY2NjY2NjR9fQo=');</script>\n",
       "    "
      ],
      "text/plain": [
       "<IPython.core.display.HTML object>"
      ]
     },
     "metadata": {},
     "output_type": "display_data"
    },
    {
     "data": {
      "text/html": [
       "\n",
       "        <div id=\"MuUG6TZTmGtVDdaZ8wu6qY\"></div>\n",
       "        <script>netpixi.call('MuUG6TZTmGtVDdaZ8wu6qY', 'gFGaBMTAQdGaHJJQshijMZ', 'changeGraph', 'eyJpZCI6IDczLCAidHlwZSI6ICJ2ZXJ0ZXgiLCAicHJvcHMiOiB7ImNvbG9yIjogMTY3MTE2ODB9fQo=');</script>\n",
       "    "
      ],
      "text/plain": [
       "<IPython.core.display.HTML object>"
      ]
     },
     "metadata": {},
     "output_type": "display_data"
    },
    {
     "data": {
      "text/html": [
       "\n",
       "        <div id=\"jWoB4SKb5ahfJ9PJgAJWrT\"></div>\n",
       "        <script>netpixi.call('jWoB4SKb5ahfJ9PJgAJWrT', 'gFGaBMTAQdGaHJJQshijMZ', 'changeGraph', 'eyJpZCI6IDM5LCAidHlwZSI6ICJ2ZXJ0ZXgiLCAicHJvcHMiOiB7InNpemUiOiAxMC4zNzY1NjkwMzc2NTY5MDN9fQo=');</script>\n",
       "    "
      ],
      "text/plain": [
       "<IPython.core.display.HTML object>"
      ]
     },
     "metadata": {},
     "output_type": "display_data"
    },
    {
     "data": {
      "text/html": [
       "\n",
       "        <div id=\"bBYnCzFDUwJCbeGLjXMTRc\"></div>\n",
       "        <script>netpixi.call('bBYnCzFDUwJCbeGLjXMTRc', 'gFGaBMTAQdGaHJJQshijMZ', 'changeGraph', 'eyJpZCI6IDczLCAidHlwZSI6ICJ2ZXJ0ZXgiLCAicHJvcHMiOiB7ImNvbG9yIjogMTY3MTE2ODB9fQo=');</script>\n",
       "    "
      ],
      "text/plain": [
       "<IPython.core.display.HTML object>"
      ]
     },
     "metadata": {},
     "output_type": "display_data"
    },
    {
     "data": {
      "text/html": [
       "\n",
       "        <div id=\"Nzcz8nop6TdY4ZqoxL29gp\"></div>\n",
       "        <script>netpixi.call('Nzcz8nop6TdY4ZqoxL29gp', 'gFGaBMTAQdGaHJJQshijMZ', 'changeGraph', 'eyJpZCI6IDQwLCAidHlwZSI6ICJ2ZXJ0ZXgiLCAicHJvcHMiOiB7InNpemUiOiAxNi42NTI3MTk2NjUyNzE5Njd9fQo=');</script>\n",
       "    "
      ],
      "text/plain": [
       "<IPython.core.display.HTML object>"
      ]
     },
     "metadata": {},
     "output_type": "display_data"
    },
    {
     "data": {
      "text/html": [
       "\n",
       "        <div id=\"Fsj2mCBrDJ8bWLNwFcRejU\"></div>\n",
       "        <script>netpixi.call('Fsj2mCBrDJ8bWLNwFcRejU', 'gFGaBMTAQdGaHJJQshijMZ', 'changeGraph', 'eyJpZCI6IDg0LCAidHlwZSI6ICJ2ZXJ0ZXgiLCAicHJvcHMiOiB7ImNvbG9yIjogMTY3MTE2ODB9fQo=');</script>\n",
       "    "
      ],
      "text/plain": [
       "<IPython.core.display.HTML object>"
      ]
     },
     "metadata": {},
     "output_type": "display_data"
    },
    {
     "data": {
      "text/html": [
       "\n",
       "        <div id=\"BMzttgujnTBbCKTQ8NidDd\"></div>\n",
       "        <script>netpixi.call('BMzttgujnTBbCKTQ8NidDd', 'gFGaBMTAQdGaHJJQshijMZ', 'changeGraph', 'eyJpZCI6IDQxLCAidHlwZSI6ICJ2ZXJ0ZXgiLCAicHJvcHMiOiB7InNpemUiOiAxNC4xODQxMDA0MTg0MTAwNDJ9fQo=');</script>\n",
       "    "
      ],
      "text/plain": [
       "<IPython.core.display.HTML object>"
      ]
     },
     "metadata": {},
     "output_type": "display_data"
    },
    {
     "data": {
      "text/html": [
       "\n",
       "        <div id=\"MubCkUG42gRUJaeAibSUvD\"></div>\n",
       "        <script>netpixi.call('MubCkUG42gRUJaeAibSUvD', 'gFGaBMTAQdGaHJJQshijMZ', 'changeGraph', 'eyJpZCI6IDgxLCAidHlwZSI6ICJ2ZXJ0ZXgiLCAicHJvcHMiOiB7ImNvbG9yIjogMTY3MTE2ODB9fQo=');</script>\n",
       "    "
      ],
      "text/plain": [
       "<IPython.core.display.HTML object>"
      ]
     },
     "metadata": {},
     "output_type": "display_data"
    },
    {
     "data": {
      "text/html": [
       "\n",
       "        <div id=\"gCJfgXNsrapks2uBS3TmQV\"></div>\n",
       "        <script>netpixi.call('gCJfgXNsrapks2uBS3TmQV', 'gFGaBMTAQdGaHJJQshijMZ', 'changeGraph', 'eyJpZCI6IDQyLCAidHlwZSI6ICJ2ZXJ0ZXgiLCAicHJvcHMiOiB7InNpemUiOiAxNy44MjQyNjc3ODI0MjY3OH19Cg==');</script>\n",
       "    "
      ],
      "text/plain": [
       "<IPython.core.display.HTML object>"
      ]
     },
     "metadata": {},
     "output_type": "display_data"
    },
    {
     "data": {
      "text/html": [
       "\n",
       "        <div id=\"QzKAjAwAb4x76h7ZrYqMUU\"></div>\n",
       "        <script>netpixi.call('QzKAjAwAb4x76h7ZrYqMUU', 'gFGaBMTAQdGaHJJQshijMZ', 'changeGraph', 'eyJpZCI6IDc4LCAidHlwZSI6ICJ2ZXJ0ZXgiLCAicHJvcHMiOiB7ImNvbG9yIjogMTY3MTE2ODB9fQo=');</script>\n",
       "    "
      ],
      "text/plain": [
       "<IPython.core.display.HTML object>"
      ]
     },
     "metadata": {},
     "output_type": "display_data"
    },
    {
     "data": {
      "text/html": [
       "\n",
       "        <div id=\"2bRcwNEpAvtGrX9hTNKUjF\"></div>\n",
       "        <script>netpixi.call('2bRcwNEpAvtGrX9hTNKUjF', 'gFGaBMTAQdGaHJJQshijMZ', 'changeGraph', 'eyJpZCI6IDQzLCAidHlwZSI6ICJ2ZXJ0ZXgiLCAicHJvcHMiOiB7InNpemUiOiAxMy4wOTYyMzQzMDk2MjM0M319Cg==');</script>\n",
       "    "
      ],
      "text/plain": [
       "<IPython.core.display.HTML object>"
      ]
     },
     "metadata": {},
     "output_type": "display_data"
    },
    {
     "data": {
      "text/html": [
       "\n",
       "        <div id=\"VRpCE9oeQLoGgE7mrCC8tw\"></div>\n",
       "        <script>netpixi.call('VRpCE9oeQLoGgE7mrCC8tw', 'gFGaBMTAQdGaHJJQshijMZ', 'changeGraph', 'eyJpZCI6IDc3LCAidHlwZSI6ICJ2ZXJ0ZXgiLCAicHJvcHMiOiB7ImNvbG9yIjogMTY3MTE2ODB9fQo=');</script>\n",
       "    "
      ],
      "text/plain": [
       "<IPython.core.display.HTML object>"
      ]
     },
     "metadata": {},
     "output_type": "display_data"
    },
    {
     "data": {
      "text/html": [
       "\n",
       "        <div id=\"o4U7C7nMxJeE8zYxhgqMF6\"></div>\n",
       "        <script>netpixi.call('o4U7C7nMxJeE8zYxhgqMF6', 'gFGaBMTAQdGaHJJQshijMZ', 'changeGraph', 'eyJpZCI6IDQ0LCAidHlwZSI6ICJ2ZXJ0ZXgiLCAicHJvcHMiOiB7InNpemUiOiAxNS41NjQ4NTM1NTY0ODUzNTV9fQo=');</script>\n",
       "    "
      ],
      "text/plain": [
       "<IPython.core.display.HTML object>"
      ]
     },
     "metadata": {},
     "output_type": "display_data"
    },
    {
     "data": {
      "text/html": [
       "\n",
       "        <div id=\"E3Ti4CWFn3MBbCcm4jyhRK\"></div>\n",
       "        <script>netpixi.call('E3Ti4CWFn3MBbCcm4jyhRK', 'gFGaBMTAQdGaHJJQshijMZ', 'changeGraph', 'eyJpZCI6IDgwLCAidHlwZSI6ICJ2ZXJ0ZXgiLCAicHJvcHMiOiB7ImNvbG9yIjogMTY3MTE2ODB9fQo=');</script>\n",
       "    "
      ],
      "text/plain": [
       "<IPython.core.display.HTML object>"
      ]
     },
     "metadata": {},
     "output_type": "display_data"
    },
    {
     "data": {
      "text/html": [
       "\n",
       "        <div id=\"RMfgAJJkCXQWat8wj2BHG6\"></div>\n",
       "        <script>netpixi.call('RMfgAJJkCXQWat8wj2BHG6', 'gFGaBMTAQdGaHJJQshijMZ', 'changeGraph', 'eyJpZCI6IDQ1LCAidHlwZSI6ICJ2ZXJ0ZXgiLCAicHJvcHMiOiB7InNpemUiOiAxNy4yMzg0OTM3MjM4NDkzNzN9fQo=');</script>\n",
       "    "
      ],
      "text/plain": [
       "<IPython.core.display.HTML object>"
      ]
     },
     "metadata": {},
     "output_type": "display_data"
    },
    {
     "data": {
      "text/html": [
       "\n",
       "        <div id=\"7dtNXGGAcKXQrFYKvN8iqX\"></div>\n",
       "        <script>netpixi.call('7dtNXGGAcKXQrFYKvN8iqX', 'gFGaBMTAQdGaHJJQshijMZ', 'changeGraph', 'eyJpZCI6IDgwLCAidHlwZSI6ICJ2ZXJ0ZXgiLCAicHJvcHMiOiB7ImNvbG9yIjogMTY3MTE2ODB9fQo=');</script>\n",
       "    "
      ],
      "text/plain": [
       "<IPython.core.display.HTML object>"
      ]
     },
     "metadata": {},
     "output_type": "display_data"
    },
    {
     "data": {
      "text/html": [
       "\n",
       "        <div id=\"fUo2JPfrTLji7qcEuhFXu7\"></div>\n",
       "        <script>netpixi.call('fUo2JPfrTLji7qcEuhFXu7', 'gFGaBMTAQdGaHJJQshijMZ', 'changeGraph', 'eyJpZCI6IDQ2LCAidHlwZSI6ICJ2ZXJ0ZXgiLCAicHJvcHMiOiB7InNpemUiOiAxOS40OTc5MDc5NDk3OTA3OTN9fQo=');</script>\n",
       "    "
      ],
      "text/plain": [
       "<IPython.core.display.HTML object>"
      ]
     },
     "metadata": {},
     "output_type": "display_data"
    },
    {
     "data": {
      "text/html": [
       "\n",
       "        <div id=\"RKE9jrTEE5hMxHYQDAmVdW\"></div>\n",
       "        <script>netpixi.call('RKE9jrTEE5hMxHYQDAmVdW', 'gFGaBMTAQdGaHJJQshijMZ', 'changeGraph', 'eyJpZCI6IDgzLCAidHlwZSI6ICJ2ZXJ0ZXgiLCAicHJvcHMiOiB7ImNvbG9yIjogMTY3MTE2ODB9fQo=');</script>\n",
       "    "
      ],
      "text/plain": [
       "<IPython.core.display.HTML object>"
      ]
     },
     "metadata": {},
     "output_type": "display_data"
    },
    {
     "data": {
      "text/html": [
       "\n",
       "        <div id=\"LRi2bD9T3UdSYiCm2Yn2LJ\"></div>\n",
       "        <script>netpixi.call('LRi2bD9T3UdSYiCm2Yn2LJ', 'gFGaBMTAQdGaHJJQshijMZ', 'changeGraph', 'eyJpZCI6IDQ3LCAidHlwZSI6ICJ2ZXJ0ZXgiLCAicHJvcHMiOiB7InNpemUiOiAxOS41ODE1ODk5NTgxNTg5OTN9fQo=');</script>\n",
       "    "
      ],
      "text/plain": [
       "<IPython.core.display.HTML object>"
      ]
     },
     "metadata": {},
     "output_type": "display_data"
    },
    {
     "data": {
      "text/html": [
       "\n",
       "        <div id=\"VFPFVZr72tpyyxnnRWaGtr\"></div>\n",
       "        <script>netpixi.call('VFPFVZr72tpyyxnnRWaGtr', 'gFGaBMTAQdGaHJJQshijMZ', 'changeGraph', 'eyJpZCI6IDg0LCAidHlwZSI6ICJ2ZXJ0ZXgiLCAicHJvcHMiOiB7ImNvbG9yIjogMTY3MTE2ODB9fQo=');</script>\n",
       "    "
      ],
      "text/plain": [
       "<IPython.core.display.HTML object>"
      ]
     },
     "metadata": {},
     "output_type": "display_data"
    },
    {
     "data": {
      "text/html": [
       "\n",
       "        <div id=\"iqKmqEm4j8SjYBpFJKmA3d\"></div>\n",
       "        <script>netpixi.call('iqKmqEm4j8SjYBpFJKmA3d', 'gFGaBMTAQdGaHJJQshijMZ', 'changeGraph', 'eyJpZCI6IDQ4LCAidHlwZSI6ICJ2ZXJ0ZXgiLCAicHJvcHMiOiB7InNpemUiOiAxNi4xMDg3ODY2MTA4Nzg2Nn19Cg==');</script>\n",
       "    "
      ],
      "text/plain": [
       "<IPython.core.display.HTML object>"
      ]
     },
     "metadata": {},
     "output_type": "display_data"
    },
    {
     "data": {
      "text/html": [
       "\n",
       "        <div id=\"57jLQbhJsFSx9SFTKPXcNf\"></div>\n",
       "        <script>netpixi.call('57jLQbhJsFSx9SFTKPXcNf', 'gFGaBMTAQdGaHJJQshijMZ', 'changeGraph', 'eyJpZCI6IDczLCAidHlwZSI6ICJ2ZXJ0ZXgiLCAicHJvcHMiOiB7ImNvbG9yIjogMTY3MTE2ODB9fQo=');</script>\n",
       "    "
      ],
      "text/plain": [
       "<IPython.core.display.HTML object>"
      ]
     },
     "metadata": {},
     "output_type": "display_data"
    },
    {
     "data": {
      "text/html": [
       "\n",
       "        <div id=\"7HVkQj8gNZCw5hJRV5RGrq\"></div>\n",
       "        <script>netpixi.call('7HVkQj8gNZCw5hJRV5RGrq', 'gFGaBMTAQdGaHJJQshijMZ', 'changeGraph', 'eyJpZCI6IDQ5LCAidHlwZSI6ICJ2ZXJ0ZXgiLCAicHJvcHMiOiB7InNpemUiOiAxNy42MTUwNjI3NjE1MDYyNzd9fQo=');</script>\n",
       "    "
      ],
      "text/plain": [
       "<IPython.core.display.HTML object>"
      ]
     },
     "metadata": {},
     "output_type": "display_data"
    },
    {
     "data": {
      "text/html": [
       "\n",
       "        <div id=\"ER6fB2dN5dNtYDNyS7mBYL\"></div>\n",
       "        <script>netpixi.call('ER6fB2dN5dNtYDNyS7mBYL', 'gFGaBMTAQdGaHJJQshijMZ', 'changeGraph', 'eyJpZCI6IDg0LCAidHlwZSI6ICJ2ZXJ0ZXgiLCAicHJvcHMiOiB7ImNvbG9yIjogMTY3MTE2ODB9fQo=');</script>\n",
       "    "
      ],
      "text/plain": [
       "<IPython.core.display.HTML object>"
      ]
     },
     "metadata": {},
     "output_type": "display_data"
    },
    {
     "data": {
      "text/html": [
       "\n",
       "        <div id=\"Fa8zZP2CCWhGS7qMdCz2DJ\"></div>\n",
       "        <script>netpixi.call('Fa8zZP2CCWhGS7qMdCz2DJ', 'gFGaBMTAQdGaHJJQshijMZ', 'changeGraph', 'eyJpZCI6IDUwLCAidHlwZSI6ICJ2ZXJ0ZXgiLCAicHJvcHMiOiB7InNpemUiOiAxMC4xNjczNjQwMTY3MzY0MDJ9fQo=');</script>\n",
       "    "
      ],
      "text/plain": [
       "<IPython.core.display.HTML object>"
      ]
     },
     "metadata": {},
     "output_type": "display_data"
    },
    {
     "data": {
      "text/html": [
       "\n",
       "        <div id=\"5gjevNeZUzEhnZCyD3a6f9\"></div>\n",
       "        <script>netpixi.call('5gjevNeZUzEhnZCyD3a6f9', 'gFGaBMTAQdGaHJJQshijMZ', 'changeGraph', 'eyJpZCI6IDgwLCAidHlwZSI6ICJ2ZXJ0ZXgiLCAicHJvcHMiOiB7ImNvbG9yIjogMTY3MTE2ODB9fQo=');</script>\n",
       "    "
      ],
      "text/plain": [
       "<IPython.core.display.HTML object>"
      ]
     },
     "metadata": {},
     "output_type": "display_data"
    },
    {
     "data": {
      "text/html": [
       "\n",
       "        <div id=\"XJFZ72po6BiGQMUpaEQdX9\"></div>\n",
       "        <script>netpixi.call('XJFZ72po6BiGQMUpaEQdX9', 'gFGaBMTAQdGaHJJQshijMZ', 'changeGraph', 'eyJpZCI6IDUxLCAidHlwZSI6ICJ2ZXJ0ZXgiLCAicHJvcHMiOiB7InNpemUiOiAxNC42MDI1MTA0NjAyNTEwNDd9fQo=');</script>\n",
       "    "
      ],
      "text/plain": [
       "<IPython.core.display.HTML object>"
      ]
     },
     "metadata": {},
     "output_type": "display_data"
    },
    {
     "data": {
      "text/html": [
       "\n",
       "        <div id=\"U7iMDDcg9rkG3CfD97Q2Dk\"></div>\n",
       "        <script>netpixi.call('U7iMDDcg9rkG3CfD97Q2Dk', 'gFGaBMTAQdGaHJJQshijMZ', 'changeGraph', 'eyJpZCI6IDgwLCAidHlwZSI6ICJ2ZXJ0ZXgiLCAicHJvcHMiOiB7ImNvbG9yIjogMTY3MTE2ODB9fQo=');</script>\n",
       "    "
      ],
      "text/plain": [
       "<IPython.core.display.HTML object>"
      ]
     },
     "metadata": {},
     "output_type": "display_data"
    },
    {
     "data": {
      "text/html": [
       "\n",
       "        <div id=\"G2MC9os43gPmXXxrKxgLRd\"></div>\n",
       "        <script>netpixi.call('G2MC9os43gPmXXxrKxgLRd', 'gFGaBMTAQdGaHJJQshijMZ', 'changeGraph', 'eyJpZCI6IDUyLCAidHlwZSI6ICJ2ZXJ0ZXgiLCAicHJvcHMiOiB7InNpemUiOiAxMy4zNDcyODAzMzQ3MjgwMzN9fQo=');</script>\n",
       "    "
      ],
      "text/plain": [
       "<IPython.core.display.HTML object>"
      ]
     },
     "metadata": {},
     "output_type": "display_data"
    },
    {
     "data": {
      "text/html": [
       "\n",
       "        <div id=\"KhkmoKkVY2p4QSsHNPwz3P\"></div>\n",
       "        <script>netpixi.call('KhkmoKkVY2p4QSsHNPwz3P', 'gFGaBMTAQdGaHJJQshijMZ', 'changeGraph', 'eyJpZCI6IDczLCAidHlwZSI6ICJ2ZXJ0ZXgiLCAicHJvcHMiOiB7ImNvbG9yIjogMTY3MTE2ODB9fQo=');</script>\n",
       "    "
      ],
      "text/plain": [
       "<IPython.core.display.HTML object>"
      ]
     },
     "metadata": {},
     "output_type": "display_data"
    },
    {
     "data": {
      "text/html": [
       "\n",
       "        <div id=\"bbTXGL3CGsnLVKaxjAXXTn\"></div>\n",
       "        <script>netpixi.call('bbTXGL3CGsnLVKaxjAXXTn', 'gFGaBMTAQdGaHJJQshijMZ', 'changeGraph', 'eyJpZCI6IDUzLCAidHlwZSI6ICJ2ZXJ0ZXgiLCAicHJvcHMiOiB7InNpemUiOiAxNy4zNjQwMTY3MzY0MDE2NzN9fQo=');</script>\n",
       "    "
      ],
      "text/plain": [
       "<IPython.core.display.HTML object>"
      ]
     },
     "metadata": {},
     "output_type": "display_data"
    },
    {
     "data": {
      "text/html": [
       "\n",
       "        <div id=\"d5BHSy5uRT4wwe7kDxasUZ\"></div>\n",
       "        <script>netpixi.call('d5BHSy5uRT4wwe7kDxasUZ', 'gFGaBMTAQdGaHJJQshijMZ', 'changeGraph', 'eyJpZCI6IDc1LCAidHlwZSI6ICJ2ZXJ0ZXgiLCAicHJvcHMiOiB7ImNvbG9yIjogMTY3MTE2ODB9fQo=');</script>\n",
       "    "
      ],
      "text/plain": [
       "<IPython.core.display.HTML object>"
      ]
     },
     "metadata": {},
     "output_type": "display_data"
    },
    {
     "data": {
      "text/html": [
       "\n",
       "        <div id=\"RVvGP94mWzmiyLAFxFkbY6\"></div>\n",
       "        <script>netpixi.call('RVvGP94mWzmiyLAFxFkbY6', 'gFGaBMTAQdGaHJJQshijMZ', 'changeGraph', 'eyJpZCI6IDU0LCAidHlwZSI6ICJ2ZXJ0ZXgiLCAicHJvcHMiOiB7InNpemUiOiA0MC41fX0K');</script>\n",
       "    "
      ],
      "text/plain": [
       "<IPython.core.display.HTML object>"
      ]
     },
     "metadata": {},
     "output_type": "display_data"
    },
    {
     "data": {
      "text/html": [
       "\n",
       "        <div id=\"3RQPvmvAHVimJS4o4xEp6N\"></div>\n",
       "        <script>netpixi.call('3RQPvmvAHVimJS4o4xEp6N', 'gFGaBMTAQdGaHJJQshijMZ', 'changeGraph', 'eyJpZCI6IDc1LCAidHlwZSI6ICJ2ZXJ0ZXgiLCAicHJvcHMiOiB7ImNvbG9yIjogMTY3MTE2ODB9fQo=');</script>\n",
       "    "
      ],
      "text/plain": [
       "<IPython.core.display.HTML object>"
      ]
     },
     "metadata": {},
     "output_type": "display_data"
    },
    {
     "data": {
      "text/html": [
       "\n",
       "        <div id=\"CLoFPs3ySS3Dy63qY3Prqu\"></div>\n",
       "        <script>netpixi.call('CLoFPs3ySS3Dy63qY3Prqu', 'gFGaBMTAQdGaHJJQshijMZ', 'changeGraph', 'eyJpZCI6IDU1LCAidHlwZSI6ICJ2ZXJ0ZXgiLCAicHJvcHMiOiB7InNpemUiOiAxMC4yNTEwNDYwMjUxMDQ2MDN9fQo=');</script>\n",
       "    "
      ],
      "text/plain": [
       "<IPython.core.display.HTML object>"
      ]
     },
     "metadata": {},
     "output_type": "display_data"
    },
    {
     "data": {
      "text/html": [
       "\n",
       "        <div id=\"Y7u28adrrSkkUSm76NViJc\"></div>\n",
       "        <script>netpixi.call('Y7u28adrrSkkUSm76NViJc', 'gFGaBMTAQdGaHJJQshijMZ', 'changeGraph', 'eyJpZCI6IDg2LCAidHlwZSI6ICJ2ZXJ0ZXgiLCAicHJvcHMiOiB7ImNvbG9yIjogMTY3MTE2ODB9fQo=');</script>\n",
       "    "
      ],
      "text/plain": [
       "<IPython.core.display.HTML object>"
      ]
     },
     "metadata": {},
     "output_type": "display_data"
    },
    {
     "data": {
      "text/html": [
       "\n",
       "        <div id=\"A5tJ4TPT7xr6SEgfv4YBtq\"></div>\n",
       "        <script>netpixi.call('A5tJ4TPT7xr6SEgfv4YBtq', 'gFGaBMTAQdGaHJJQshijMZ', 'changeGraph', 'eyJpZCI6IDU2LCAidHlwZSI6ICJ2ZXJ0ZXgiLCAicHJvcHMiOiB7InNpemUiOiAxMC4yOTI4ODcwMjkyODg3MDN9fQo=');</script>\n",
       "    "
      ],
      "text/plain": [
       "<IPython.core.display.HTML object>"
      ]
     },
     "metadata": {},
     "output_type": "display_data"
    },
    {
     "data": {
      "text/html": [
       "\n",
       "        <div id=\"BXVVYAey4TUWGWeDKT9s5Z\"></div>\n",
       "        <script>netpixi.call('BXVVYAey4TUWGWeDKT9s5Z', 'gFGaBMTAQdGaHJJQshijMZ', 'changeGraph', 'eyJpZCI6IDgwLCAidHlwZSI6ICJ2ZXJ0ZXgiLCAicHJvcHMiOiB7ImNvbG9yIjogMTY3MTE2ODB9fQo=');</script>\n",
       "    "
      ],
      "text/plain": [
       "<IPython.core.display.HTML object>"
      ]
     },
     "metadata": {},
     "output_type": "display_data"
    },
    {
     "data": {
      "text/html": [
       "\n",
       "        <div id=\"8bsnZtXDmR3EybRZihXZiH\"></div>\n",
       "        <script>netpixi.call('8bsnZtXDmR3EybRZihXZiH', 'gFGaBMTAQdGaHJJQshijMZ', 'changeGraph', 'eyJpZCI6IDU3LCAidHlwZSI6ICJ2ZXJ0ZXgiLCAicHJvcHMiOiB7InNpemUiOiAxMy41MTQ2NDQzNTE0NjQ0MzV9fQo=');</script>\n",
       "    "
      ],
      "text/plain": [
       "<IPython.core.display.HTML object>"
      ]
     },
     "metadata": {},
     "output_type": "display_data"
    },
    {
     "data": {
      "text/html": [
       "\n",
       "        <div id=\"jKbASXJDWkUWWytjTt293t\"></div>\n",
       "        <script>netpixi.call('jKbASXJDWkUWWytjTt293t', 'gFGaBMTAQdGaHJJQshijMZ', 'changeGraph', 'eyJpZCI6IDY5LCAidHlwZSI6ICJ2ZXJ0ZXgiLCAicHJvcHMiOiB7ImNvbG9yIjogMTY3MTE2ODB9fQo=');</script>\n",
       "    "
      ],
      "text/plain": [
       "<IPython.core.display.HTML object>"
      ]
     },
     "metadata": {},
     "output_type": "display_data"
    },
    {
     "data": {
      "text/html": [
       "\n",
       "        <div id=\"5kMSugpB9pTcDbXra5Lfmy\"></div>\n",
       "        <script>netpixi.call('5kMSugpB9pTcDbXra5Lfmy', 'gFGaBMTAQdGaHJJQshijMZ', 'changeGraph', 'eyJpZCI6IDU4LCAidHlwZSI6ICJ2ZXJ0ZXgiLCAicHJvcHMiOiB7InNpemUiOiA0MS4zMzMzMzMzMzMzMzMzM319Cg==');</script>\n",
       "    "
      ],
      "text/plain": [
       "<IPython.core.display.HTML object>"
      ]
     },
     "metadata": {},
     "output_type": "display_data"
    },
    {
     "data": {
      "text/html": [
       "\n",
       "        <div id=\"kzBDtDzKuaSbt7LbYHt735\"></div>\n",
       "        <script>netpixi.call('kzBDtDzKuaSbt7LbYHt735', 'gFGaBMTAQdGaHJJQshijMZ', 'changeGraph', 'eyJpZCI6IDgxLCAidHlwZSI6ICJ2ZXJ0ZXgiLCAicHJvcHMiOiB7ImNvbG9yIjogMTY3MTE2ODB9fQo=');</script>\n",
       "    "
      ],
      "text/plain": [
       "<IPython.core.display.HTML object>"
      ]
     },
     "metadata": {},
     "output_type": "display_data"
    },
    {
     "data": {
      "text/html": [
       "\n",
       "        <div id=\"87QHybxDPdWc8FPnoJVNGu\"></div>\n",
       "        <script>netpixi.call('87QHybxDPdWc8FPnoJVNGu', 'gFGaBMTAQdGaHJJQshijMZ', 'changeGraph', 'eyJpZCI6IDU5LCAidHlwZSI6ICJ2ZXJ0ZXgiLCAicHJvcHMiOiB7InNpemUiOiAxMy4yNjM1OTgzMjYzNTk4MzN9fQo=');</script>\n",
       "    "
      ],
      "text/plain": [
       "<IPython.core.display.HTML object>"
      ]
     },
     "metadata": {},
     "output_type": "display_data"
    },
    {
     "data": {
      "text/html": [
       "\n",
       "        <div id=\"2ihCr9orEC8N6V7D3Wa834\"></div>\n",
       "        <script>netpixi.call('2ihCr9orEC8N6V7D3Wa834', 'gFGaBMTAQdGaHJJQshijMZ', 'changeGraph', 'eyJpZCI6IDczLCAidHlwZSI6ICJ2ZXJ0ZXgiLCAicHJvcHMiOiB7ImNvbG9yIjogMTY3MTE2ODB9fQo=');</script>\n",
       "    "
      ],
      "text/plain": [
       "<IPython.core.display.HTML object>"
      ]
     },
     "metadata": {},
     "output_type": "display_data"
    },
    {
     "data": {
      "text/html": [
       "\n",
       "        <div id=\"Ts5nE67DvGSjpQgorfBTqb\"></div>\n",
       "        <script>netpixi.call('Ts5nE67DvGSjpQgorfBTqb', 'gFGaBMTAQdGaHJJQshijMZ', 'changeGraph', 'eyJpZCI6IDYwLCAidHlwZSI6ICJ2ZXJ0ZXgiLCAicHJvcHMiOiB7InNpemUiOiAxMi44NDUxODgyODQ1MTg4Mjh9fQo=');</script>\n",
       "    "
      ],
      "text/plain": [
       "<IPython.core.display.HTML object>"
      ]
     },
     "metadata": {},
     "output_type": "display_data"
    },
    {
     "data": {
      "text/html": [
       "\n",
       "        <div id=\"VUPB9CiysHCMKjqyxLaH5e\"></div>\n",
       "        <script>netpixi.call('VUPB9CiysHCMKjqyxLaH5e', 'gFGaBMTAQdGaHJJQshijMZ', 'changeGraph', 'eyJpZCI6IDc5LCAidHlwZSI6ICJ2ZXJ0ZXgiLCAicHJvcHMiOiB7ImNvbG9yIjogMTY3MTE2ODB9fQo=');</script>\n",
       "    "
      ],
      "text/plain": [
       "<IPython.core.display.HTML object>"
      ]
     },
     "metadata": {},
     "output_type": "display_data"
    },
    {
     "data": {
      "text/html": [
       "\n",
       "        <div id=\"CtqRYr29i7jhwfHRYWUJqZ\"></div>\n",
       "        <script>netpixi.call('CtqRYr29i7jhwfHRYWUJqZ', 'gFGaBMTAQdGaHJJQshijMZ', 'changeGraph', 'eyJpZCI6IDYxLCAidHlwZSI6ICJ2ZXJ0ZXgiLCAicHJvcHMiOiB7InNpemUiOiA0Ni4zMzMzMzMzMzMzMzMzMzZ9fQo=');</script>\n",
       "    "
      ],
      "text/plain": [
       "<IPython.core.display.HTML object>"
      ]
     },
     "metadata": {},
     "output_type": "display_data"
    },
    {
     "data": {
      "text/html": [
       "\n",
       "        <div id=\"QcHBmAnoacGNcfwyVdPtv7\"></div>\n",
       "        <script>netpixi.call('QcHBmAnoacGNcfwyVdPtv7', 'gFGaBMTAQdGaHJJQshijMZ', 'changeGraph', 'eyJpZCI6IDY4LCAidHlwZSI6ICJ2ZXJ0ZXgiLCAicHJvcHMiOiB7ImNvbG9yIjogMTY3MTE2ODB9fQo=');</script>\n",
       "    "
      ],
      "text/plain": [
       "<IPython.core.display.HTML object>"
      ]
     },
     "metadata": {},
     "output_type": "display_data"
    },
    {
     "data": {
      "text/html": [
       "\n",
       "        <div id=\"82j4qN95B5gPtkfjqzMvCw\"></div>\n",
       "        <script>netpixi.call('82j4qN95B5gPtkfjqzMvCw', 'gFGaBMTAQdGaHJJQshijMZ', 'changeGraph', 'eyJpZCI6IDYyLCAidHlwZSI6ICJ2ZXJ0ZXgiLCAicHJvcHMiOiB7InNpemUiOiAxOS44MzI2MzU5ODMyNjM2fX0K');</script>\n",
       "    "
      ],
      "text/plain": [
       "<IPython.core.display.HTML object>"
      ]
     },
     "metadata": {},
     "output_type": "display_data"
    },
    {
     "data": {
      "text/html": [
       "\n",
       "        <div id=\"JfsSyiKZLTeJSDXDEeUkyH\"></div>\n",
       "        <script>netpixi.call('JfsSyiKZLTeJSDXDEeUkyH', 'gFGaBMTAQdGaHJJQshijMZ', 'changeGraph', 'eyJpZCI6IDgxLCAidHlwZSI6ICJ2ZXJ0ZXgiLCAicHJvcHMiOiB7ImNvbG9yIjogMTY3MTE2ODB9fQo=');</script>\n",
       "    "
      ],
      "text/plain": [
       "<IPython.core.display.HTML object>"
      ]
     },
     "metadata": {},
     "output_type": "display_data"
    },
    {
     "data": {
      "text/html": [
       "\n",
       "        <div id=\"Un2uRyFGLFdeZirLAWaygY\"></div>\n",
       "        <script>netpixi.call('Un2uRyFGLFdeZirLAWaygY', 'gFGaBMTAQdGaHJJQshijMZ', 'changeGraph', 'eyJpZCI6IDYzLCAidHlwZSI6ICJ2ZXJ0ZXgiLCAicHJvcHMiOiB7InNpemUiOiAxNi4xOTI0Njg2MTkyNDY4Nn19Cg==');</script>\n",
       "    "
      ],
      "text/plain": [
       "<IPython.core.display.HTML object>"
      ]
     },
     "metadata": {},
     "output_type": "display_data"
    },
    {
     "data": {
      "text/html": [
       "\n",
       "        <div id=\"cNQWuA5sYv7LdMsepMVaZe\"></div>\n",
       "        <script>netpixi.call('cNQWuA5sYv7LdMsepMVaZe', 'gFGaBMTAQdGaHJJQshijMZ', 'changeGraph', 'eyJpZCI6IDgyLCAidHlwZSI6ICJ2ZXJ0ZXgiLCAicHJvcHMiOiB7ImNvbG9yIjogMTY3MTE2ODB9fQo=');</script>\n",
       "    "
      ],
      "text/plain": [
       "<IPython.core.display.HTML object>"
      ]
     },
     "metadata": {},
     "output_type": "display_data"
    },
    {
     "data": {
      "text/html": [
       "\n",
       "        <div id=\"62w3HWCNAoM9UfaV8RZ9qd\"></div>\n",
       "        <script>netpixi.call('62w3HWCNAoM9UfaV8RZ9qd', 'gFGaBMTAQdGaHJJQshijMZ', 'changeGraph', 'eyJpZCI6IDY0LCAidHlwZSI6ICJ2ZXJ0ZXgiLCAicHJvcHMiOiB7InNpemUiOiAxNi42OTQ1NjA2Njk0NTYwNjd9fQo=');</script>\n",
       "    "
      ],
      "text/plain": [
       "<IPython.core.display.HTML object>"
      ]
     },
     "metadata": {},
     "output_type": "display_data"
    },
    {
     "data": {
      "text/html": [
       "\n",
       "        <div id=\"XvnLaz3AEYXinQwkF32on4\"></div>\n",
       "        <script>netpixi.call('XvnLaz3AEYXinQwkF32on4', 'gFGaBMTAQdGaHJJQshijMZ', 'changeGraph', 'eyJpZCI6IDg1LCAidHlwZSI6ICJ2ZXJ0ZXgiLCAicHJvcHMiOiB7ImNvbG9yIjogMTY3MTE2ODB9fQo=');</script>\n",
       "    "
      ],
      "text/plain": [
       "<IPython.core.display.HTML object>"
      ]
     },
     "metadata": {},
     "output_type": "display_data"
    },
    {
     "data": {
      "text/html": [
       "\n",
       "        <div id=\"GbdHBxcekCjwanXvsWrZ5L\"></div>\n",
       "        <script>netpixi.call('GbdHBxcekCjwanXvsWrZ5L', 'gFGaBMTAQdGaHJJQshijMZ', 'changeGraph', 'eyJpZCI6IDY1LCAidHlwZSI6ICJ2ZXJ0ZXgiLCAicHJvcHMiOiB7InNpemUiOiAxNy4zMjIxNzU3MzIyMTc1NzN9fQo=');</script>\n",
       "    "
      ],
      "text/plain": [
       "<IPython.core.display.HTML object>"
      ]
     },
     "metadata": {},
     "output_type": "display_data"
    },
    {
     "data": {
      "text/html": [
       "\n",
       "        <div id=\"RgJhUqGevgJnwyWnchwHn2\"></div>\n",
       "        <script>netpixi.call('RgJhUqGevgJnwyWnchwHn2', 'gFGaBMTAQdGaHJJQshijMZ', 'changeGraph', 'eyJpZCI6IDc3LCAidHlwZSI6ICJ2ZXJ0ZXgiLCAicHJvcHMiOiB7ImNvbG9yIjogMTY3MTE2ODB9fQo=');</script>\n",
       "    "
      ],
      "text/plain": [
       "<IPython.core.display.HTML object>"
      ]
     },
     "metadata": {},
     "output_type": "display_data"
    },
    {
     "data": {
      "text/html": [
       "\n",
       "        <div id=\"G2cHopdTCeeJAjh36dF9Hk\"></div>\n",
       "        <script>netpixi.call('G2cHopdTCeeJAjh36dF9Hk', 'gFGaBMTAQdGaHJJQshijMZ', 'changeGraph', 'eyJpZCI6IDY2LCAidHlwZSI6ICJ2ZXJ0ZXgiLCAicHJvcHMiOiB7InNpemUiOiAxMi4zMDEyNTUyMzAxMjU1MjN9fQo=');</script>\n",
       "    "
      ],
      "text/plain": [
       "<IPython.core.display.HTML object>"
      ]
     },
     "metadata": {},
     "output_type": "display_data"
    },
    {
     "data": {
      "text/html": [
       "\n",
       "        <div id=\"gZqYRWgKQRandzr5BaXKYf\"></div>\n",
       "        <script>netpixi.call('gZqYRWgKQRandzr5BaXKYf', 'gFGaBMTAQdGaHJJQshijMZ', 'changeGraph', 'eyJpZCI6IDc5LCAidHlwZSI6ICJ2ZXJ0ZXgiLCAicHJvcHMiOiB7ImNvbG9yIjogMTY3MTE2ODB9fQo=');</script>\n",
       "    "
      ],
      "text/plain": [
       "<IPython.core.display.HTML object>"
      ]
     },
     "metadata": {},
     "output_type": "display_data"
    },
    {
     "data": {
      "text/html": [
       "\n",
       "        <div id=\"KSWMFrZshGJXJgBSrdwUME\"></div>\n",
       "        <script>netpixi.call('KSWMFrZshGJXJgBSrdwUME', 'gFGaBMTAQdGaHJJQshijMZ', 'changeGraph', 'eyJpZCI6IDY3LCAidHlwZSI6ICJ2ZXJ0ZXgiLCAicHJvcHMiOiB7InNpemUiOiA0My4zMzMzMzMzMzMzMzMzMzZ9fQo=');</script>\n",
       "    "
      ],
      "text/plain": [
       "<IPython.core.display.HTML object>"
      ]
     },
     "metadata": {},
     "output_type": "display_data"
    },
    {
     "data": {
      "text/html": [
       "\n",
       "        <div id=\"ZJ7o4kzdqstS36HGKt3Zvv\"></div>\n",
       "        <script>netpixi.call('ZJ7o4kzdqstS36HGKt3Zvv', 'gFGaBMTAQdGaHJJQshijMZ', 'changeGraph', 'eyJpZCI6IDgxLCAidHlwZSI6ICJ2ZXJ0ZXgiLCAicHJvcHMiOiB7ImNvbG9yIjogMTY3MTE2ODB9fQo=');</script>\n",
       "    "
      ],
      "text/plain": [
       "<IPython.core.display.HTML object>"
      ]
     },
     "metadata": {},
     "output_type": "display_data"
    },
    {
     "data": {
      "text/html": [
       "\n",
       "        <div id=\"djJzC8b6pjgf4dPj8KVNnw\"></div>\n",
       "        <script>netpixi.call('djJzC8b6pjgf4dPj8KVNnw', 'gFGaBMTAQdGaHJJQshijMZ', 'changeGraph', 'eyJpZCI6IDY4LCAidHlwZSI6ICJ2ZXJ0ZXgiLCAicHJvcHMiOiB7InNpemUiOiAxMy42NDAxNjczNjQwMTY3Mzd9fQo=');</script>\n",
       "    "
      ],
      "text/plain": [
       "<IPython.core.display.HTML object>"
      ]
     },
     "metadata": {},
     "output_type": "display_data"
    },
    {
     "data": {
      "text/html": [
       "\n",
       "        <div id=\"SGwWPaxF3dS4r2suH6KF4y\"></div>\n",
       "        <script>netpixi.call('SGwWPaxF3dS4r2suH6KF4y', 'gFGaBMTAQdGaHJJQshijMZ', 'changeGraph', 'eyJpZCI6IDY4LCAidHlwZSI6ICJ2ZXJ0ZXgiLCAicHJvcHMiOiB7ImNvbG9yIjogMTY3MTE2ODB9fQo=');</script>\n",
       "    "
      ],
      "text/plain": [
       "<IPython.core.display.HTML object>"
      ]
     },
     "metadata": {},
     "output_type": "display_data"
    },
    {
     "data": {
      "text/html": [
       "\n",
       "        <div id=\"LunZy8m7ED6zTnU9FivUPU\"></div>\n",
       "        <script>netpixi.call('LunZy8m7ED6zTnU9FivUPU', 'gFGaBMTAQdGaHJJQshijMZ', 'changeGraph', 'eyJpZCI6IDY5LCAidHlwZSI6ICJ2ZXJ0ZXgiLCAicHJvcHMiOiB7InNpemUiOiAxNC41NjA2Njk0NTYwNjY5NDV9fQo=');</script>\n",
       "    "
      ],
      "text/plain": [
       "<IPython.core.display.HTML object>"
      ]
     },
     "metadata": {},
     "output_type": "display_data"
    },
    {
     "data": {
      "text/html": [
       "\n",
       "        <div id=\"Hrr9jfQ4RfWQwg7VMwzwgu\"></div>\n",
       "        <script>netpixi.call('Hrr9jfQ4RfWQwg7VMwzwgu', 'gFGaBMTAQdGaHJJQshijMZ', 'changeGraph', 'eyJpZCI6IDgwLCAidHlwZSI6ICJ2ZXJ0ZXgiLCAicHJvcHMiOiB7ImNvbG9yIjogMTY3MTE2ODB9fQo=');</script>\n",
       "    "
      ],
      "text/plain": [
       "<IPython.core.display.HTML object>"
      ]
     },
     "metadata": {},
     "output_type": "display_data"
    },
    {
     "data": {
      "text/html": [
       "\n",
       "        <div id=\"apydXqHgwpZxRSkkUrWHFK\"></div>\n",
       "        <script>netpixi.call('apydXqHgwpZxRSkkUrWHFK', 'gFGaBMTAQdGaHJJQshijMZ', 'changeGraph', 'eyJpZCI6IDcwLCAidHlwZSI6ICJ2ZXJ0ZXgiLCAicHJvcHMiOiB7InNpemUiOiAxMC45NjIzNDMwOTYyMzQzMX19Cg==');</script>\n",
       "    "
      ],
      "text/plain": [
       "<IPython.core.display.HTML object>"
      ]
     },
     "metadata": {},
     "output_type": "display_data"
    },
    {
     "data": {
      "text/html": [
       "\n",
       "        <div id=\"SoJPC27R82YjGyrpXfHphe\"></div>\n",
       "        <script>netpixi.call('SoJPC27R82YjGyrpXfHphe', 'gFGaBMTAQdGaHJJQshijMZ', 'changeGraph', 'eyJpZCI6IDg2LCAidHlwZSI6ICJ2ZXJ0ZXgiLCAicHJvcHMiOiB7ImNvbG9yIjogMTY3MTE2ODB9fQo=');</script>\n",
       "    "
      ],
      "text/plain": [
       "<IPython.core.display.HTML object>"
      ]
     },
     "metadata": {},
     "output_type": "display_data"
    },
    {
     "data": {
      "text/html": [
       "\n",
       "        <div id=\"Jhs3awaJFovqsPDZBH2dw2\"></div>\n",
       "        <script>netpixi.call('Jhs3awaJFovqsPDZBH2dw2', 'gFGaBMTAQdGaHJJQshijMZ', 'changeGraph', 'eyJpZCI6IDcxLCAidHlwZSI6ICJ2ZXJ0ZXgiLCAicHJvcHMiOiB7InNpemUiOiAxOC44Mjg0NTE4ODI4NDUxODd9fQo=');</script>\n",
       "    "
      ],
      "text/plain": [
       "<IPython.core.display.HTML object>"
      ]
     },
     "metadata": {},
     "output_type": "display_data"
    },
    {
     "data": {
      "text/html": [
       "\n",
       "        <div id=\"48Dw5AjUMZ5pJKSNN5kzSD\"></div>\n",
       "        <script>netpixi.call('48Dw5AjUMZ5pJKSNN5kzSD', 'gFGaBMTAQdGaHJJQshijMZ', 'changeGraph', 'eyJpZCI6IDgzLCAidHlwZSI6ICJ2ZXJ0ZXgiLCAicHJvcHMiOiB7ImNvbG9yIjogMTY3MTE2ODB9fQo=');</script>\n",
       "    "
      ],
      "text/plain": [
       "<IPython.core.display.HTML object>"
      ]
     },
     "metadata": {},
     "output_type": "display_data"
    },
    {
     "data": {
      "text/html": [
       "\n",
       "        <div id=\"bfiWGLWVQYrKnKbVeCDqeM\"></div>\n",
       "        <script>netpixi.call('bfiWGLWVQYrKnKbVeCDqeM', 'gFGaBMTAQdGaHJJQshijMZ', 'changeGraph', 'eyJpZCI6IDcyLCAidHlwZSI6ICJ2ZXJ0ZXgiLCAicHJvcHMiOiB7InNpemUiOiAxOS4wNzk0OTc5MDc5NDk3OX19Cg==');</script>\n",
       "    "
      ],
      "text/plain": [
       "<IPython.core.display.HTML object>"
      ]
     },
     "metadata": {},
     "output_type": "display_data"
    },
    {
     "data": {
      "text/html": [
       "\n",
       "        <div id=\"hLDZfwdwmRhxenpb2Zx5hV\"></div>\n",
       "        <script>netpixi.call('hLDZfwdwmRhxenpb2Zx5hV', 'gFGaBMTAQdGaHJJQshijMZ', 'changeGraph', 'eyJpZCI6IDc2LCAidHlwZSI6ICJ2ZXJ0ZXgiLCAicHJvcHMiOiB7ImNvbG9yIjogMTY3MTE2ODB9fQo=');</script>\n",
       "    "
      ],
      "text/plain": [
       "<IPython.core.display.HTML object>"
      ]
     },
     "metadata": {},
     "output_type": "display_data"
    },
    {
     "data": {
      "text/html": [
       "\n",
       "        <div id=\"MX4neyiexXqpZuHAX2vfEj\"></div>\n",
       "        <script>netpixi.call('MX4neyiexXqpZuHAX2vfEj', 'gFGaBMTAQdGaHJJQshijMZ', 'changeGraph', 'eyJpZCI6IDczLCAidHlwZSI6ICJ2ZXJ0ZXgiLCAicHJvcHMiOiB7InNpemUiOiAxNy4wNzExMjk3MDcxMTI5N319Cg==');</script>\n",
       "    "
      ],
      "text/plain": [
       "<IPython.core.display.HTML object>"
      ]
     },
     "metadata": {},
     "output_type": "display_data"
    },
    {
     "data": {
      "text/html": [
       "\n",
       "        <div id=\"Kw6TLoqkJYK29MVUrNhUxC\"></div>\n",
       "        <script>netpixi.call('Kw6TLoqkJYK29MVUrNhUxC', 'gFGaBMTAQdGaHJJQshijMZ', 'changeGraph', 'eyJpZCI6IDgzLCAidHlwZSI6ICJ2ZXJ0ZXgiLCAicHJvcHMiOiB7ImNvbG9yIjogMTY3MTE2ODB9fQo=');</script>\n",
       "    "
      ],
      "text/plain": [
       "<IPython.core.display.HTML object>"
      ]
     },
     "metadata": {},
     "output_type": "display_data"
    },
    {
     "data": {
      "text/html": [
       "\n",
       "        <div id=\"49f4yy87DVS77EE2KxfA3h\"></div>\n",
       "        <script>netpixi.call('49f4yy87DVS77EE2KxfA3h', 'gFGaBMTAQdGaHJJQshijMZ', 'changeGraph', 'eyJpZCI6IDc0LCAidHlwZSI6ICJ2ZXJ0ZXgiLCAicHJvcHMiOiB7InNpemUiOiAxNC4xNDIyNTk0MTQyMjU5NH19Cg==');</script>\n",
       "    "
      ],
      "text/plain": [
       "<IPython.core.display.HTML object>"
      ]
     },
     "metadata": {},
     "output_type": "display_data"
    },
    {
     "data": {
      "text/html": [
       "\n",
       "        <div id=\"DpnLKUTjyoprh7RMXdFS6w\"></div>\n",
       "        <script>netpixi.call('DpnLKUTjyoprh7RMXdFS6w', 'gFGaBMTAQdGaHJJQshijMZ', 'changeGraph', 'eyJpZCI6IDc5LCAidHlwZSI6ICJ2ZXJ0ZXgiLCAicHJvcHMiOiB7ImNvbG9yIjogMTY3MTE2ODB9fQo=');</script>\n",
       "    "
      ],
      "text/plain": [
       "<IPython.core.display.HTML object>"
      ]
     },
     "metadata": {},
     "output_type": "display_data"
    },
    {
     "data": {
      "text/html": [
       "\n",
       "        <div id=\"ETS9yMVjK6hNEjQ6tuGKDV\"></div>\n",
       "        <script>netpixi.call('ETS9yMVjK6hNEjQ6tuGKDV', 'gFGaBMTAQdGaHJJQshijMZ', 'changeGraph', 'eyJpZCI6IDc1LCAidHlwZSI6ICJ2ZXJ0ZXgiLCAicHJvcHMiOiB7InNpemUiOiA0Mi4zMzMzMzMzMzMzMzMzMzZ9fQo=');</script>\n",
       "    "
      ],
      "text/plain": [
       "<IPython.core.display.HTML object>"
      ]
     },
     "metadata": {},
     "output_type": "display_data"
    },
    {
     "data": {
      "text/html": [
       "\n",
       "        <div id=\"9Dfn4HAmTMuTPMQQpKCL4U\"></div>\n",
       "        <script>netpixi.call('9Dfn4HAmTMuTPMQQpKCL4U', 'gFGaBMTAQdGaHJJQshijMZ', 'changeGraph', 'eyJpZCI6IDgxLCAidHlwZSI6ICJ2ZXJ0ZXgiLCAicHJvcHMiOiB7ImNvbG9yIjogMTY3MTE2ODB9fQo=');</script>\n",
       "    "
      ],
      "text/plain": [
       "<IPython.core.display.HTML object>"
      ]
     },
     "metadata": {},
     "output_type": "display_data"
    },
    {
     "data": {
      "text/html": [
       "\n",
       "        <div id=\"YXPDrpR9Mk78wKtoFBAx5M\"></div>\n",
       "        <script>netpixi.call('YXPDrpR9Mk78wKtoFBAx5M', 'gFGaBMTAQdGaHJJQshijMZ', 'changeGraph', 'eyJpZCI6IDc2LCAidHlwZSI6ICJ2ZXJ0ZXgiLCAicHJvcHMiOiB7InNpemUiOiA0OS41fX0K');</script>\n",
       "    "
      ],
      "text/plain": [
       "<IPython.core.display.HTML object>"
      ]
     },
     "metadata": {},
     "output_type": "display_data"
    },
    {
     "data": {
      "text/html": [
       "\n",
       "        <div id=\"P48ZULUcgZSN6VhJR7YoS6\"></div>\n",
       "        <script>netpixi.call('P48ZULUcgZSN6VhJR7YoS6', 'gFGaBMTAQdGaHJJQshijMZ', 'changeGraph', 'eyJpZCI6IDgyLCAidHlwZSI6ICJ2ZXJ0ZXgiLCAicHJvcHMiOiB7ImNvbG9yIjogMTY3MTE2ODB9fQo=');</script>\n",
       "    "
      ],
      "text/plain": [
       "<IPython.core.display.HTML object>"
      ]
     },
     "metadata": {},
     "output_type": "display_data"
    },
    {
     "data": {
      "text/html": [
       "\n",
       "        <div id=\"maS4vamro59fvMB9DBA7Z9\"></div>\n",
       "        <script>netpixi.call('maS4vamro59fvMB9DBA7Z9', 'gFGaBMTAQdGaHJJQshijMZ', 'changeGraph', 'eyJpZCI6IDc3LCAidHlwZSI6ICJ2ZXJ0ZXgiLCAicHJvcHMiOiB7InNpemUiOiAxOC4wNzUzMTM4MDc1MzEzOH19Cg==');</script>\n",
       "    "
      ],
      "text/plain": [
       "<IPython.core.display.HTML object>"
      ]
     },
     "metadata": {},
     "output_type": "display_data"
    },
    {
     "data": {
      "text/html": [
       "\n",
       "        <div id=\"EHJneb4CnMVkk8ix73iKVB\"></div>\n",
       "        <script>netpixi.call('EHJneb4CnMVkk8ix73iKVB', 'gFGaBMTAQdGaHJJQshijMZ', 'changeGraph', 'eyJpZCI6IDY3LCAidHlwZSI6ICJ2ZXJ0ZXgiLCAicHJvcHMiOiB7ImNvbG9yIjogMTY3MTE2ODB9fQo=');</script>\n",
       "    "
      ],
      "text/plain": [
       "<IPython.core.display.HTML object>"
      ]
     },
     "metadata": {},
     "output_type": "display_data"
    },
    {
     "data": {
      "text/html": [
       "\n",
       "        <div id=\"Q5yKbS4vwQUypSQ5atNxeP\"></div>\n",
       "        <script>netpixi.call('Q5yKbS4vwQUypSQ5atNxeP', 'gFGaBMTAQdGaHJJQshijMZ', 'changeGraph', 'eyJpZCI6IDc4LCAidHlwZSI6ICJ2ZXJ0ZXgiLCAicHJvcHMiOiB7InNpemUiOiAxNS4xODgyODQ1MTg4Mjg0NX19Cg==');</script>\n",
       "    "
      ],
      "text/plain": [
       "<IPython.core.display.HTML object>"
      ]
     },
     "metadata": {},
     "output_type": "display_data"
    },
    {
     "data": {
      "text/html": [
       "\n",
       "        <div id=\"4XoKdhFUr4tEDCCc6BqAm3\"></div>\n",
       "        <script>netpixi.call('4XoKdhFUr4tEDCCc6BqAm3', 'gFGaBMTAQdGaHJJQshijMZ', 'changeGraph', 'eyJpZCI6IDc4LCAidHlwZSI6ICJ2ZXJ0ZXgiLCAicHJvcHMiOiB7ImNvbG9yIjogMTY3MTE2ODB9fQo=');</script>\n",
       "    "
      ],
      "text/plain": [
       "<IPython.core.display.HTML object>"
      ]
     },
     "metadata": {},
     "output_type": "display_data"
    },
    {
     "data": {
      "text/html": [
       "\n",
       "        <div id=\"T4ophct9x7xw2xYxJW7yJF\"></div>\n",
       "        <script>netpixi.call('T4ophct9x7xw2xYxJW7yJF', 'gFGaBMTAQdGaHJJQshijMZ', 'changeGraph', 'eyJpZCI6IDc5LCAidHlwZSI6ICJ2ZXJ0ZXgiLCAicHJvcHMiOiB7InNpemUiOiAxOS41Mzk3NDg5NTM5NzQ4OTN9fQo=');</script>\n",
       "    "
      ],
      "text/plain": [
       "<IPython.core.display.HTML object>"
      ]
     },
     "metadata": {},
     "output_type": "display_data"
    },
    {
     "data": {
      "text/html": [
       "\n",
       "        <div id=\"hCZ6dtZL9h8F8p4LqEm7dt\"></div>\n",
       "        <script>netpixi.call('hCZ6dtZL9h8F8p4LqEm7dt', 'gFGaBMTAQdGaHJJQshijMZ', 'changeGraph', 'eyJpZCI6IDgxLCAidHlwZSI6ICJ2ZXJ0ZXgiLCAicHJvcHMiOiB7ImNvbG9yIjogMTY3MTE2ODB9fQo=');</script>\n",
       "    "
      ],
      "text/plain": [
       "<IPython.core.display.HTML object>"
      ]
     },
     "metadata": {},
     "output_type": "display_data"
    },
    {
     "data": {
      "text/html": [
       "\n",
       "        <div id=\"9TYadDCXJ9wgYLfiuqQidm\"></div>\n",
       "        <script>netpixi.call('9TYadDCXJ9wgYLfiuqQidm', 'gFGaBMTAQdGaHJJQshijMZ', 'changeGraph', 'eyJpZCI6IDgwLCAidHlwZSI6ICJ2ZXJ0ZXgiLCAicHJvcHMiOiB7InNpemUiOiA0NS4zMzMzMzMzMzMzMzMzM319Cg==');</script>\n",
       "    "
      ],
      "text/plain": [
       "<IPython.core.display.HTML object>"
      ]
     },
     "metadata": {},
     "output_type": "display_data"
    },
    {
     "data": {
      "text/html": [
       "\n",
       "        <div id=\"7dzipD5UihzCxNqrL4oVam\"></div>\n",
       "        <script>netpixi.call('7dzipD5UihzCxNqrL4oVam', 'gFGaBMTAQdGaHJJQshijMZ', 'changeGraph', 'eyJpZCI6IDcxLCAidHlwZSI6ICJ2ZXJ0ZXgiLCAicHJvcHMiOiB7ImNvbG9yIjogMTY3MTE2ODB9fQo=');</script>\n",
       "    "
      ],
      "text/plain": [
       "<IPython.core.display.HTML object>"
      ]
     },
     "metadata": {},
     "output_type": "display_data"
    },
    {
     "data": {
      "text/html": [
       "\n",
       "        <div id=\"mXg9XZH4Re3Vit4oSFxgEH\"></div>\n",
       "        <script>netpixi.call('mXg9XZH4Re3Vit4oSFxgEH', 'gFGaBMTAQdGaHJJQshijMZ', 'changeGraph', 'eyJpZCI6IDgxLCAidHlwZSI6ICJ2ZXJ0ZXgiLCAicHJvcHMiOiB7InNpemUiOiAxNS44MTU4OTk1ODE1ODk5NTd9fQo=');</script>\n",
       "    "
      ],
      "text/plain": [
       "<IPython.core.display.HTML object>"
      ]
     },
     "metadata": {},
     "output_type": "display_data"
    },
    {
     "data": {
      "text/html": [
       "\n",
       "        <div id=\"JP7jd3oH4evsCyXhXPqkED\"></div>\n",
       "        <script>netpixi.call('JP7jd3oH4evsCyXhXPqkED', 'gFGaBMTAQdGaHJJQshijMZ', 'changeGraph', 'eyJpZCI6IDUzLCAidHlwZSI6ICJ2ZXJ0ZXgiLCAicHJvcHMiOiB7ImNvbG9yIjogMTY3MTE2ODB9fQo=');</script>\n",
       "    "
      ],
      "text/plain": [
       "<IPython.core.display.HTML object>"
      ]
     },
     "metadata": {},
     "output_type": "display_data"
    },
    {
     "data": {
      "text/html": [
       "\n",
       "        <div id=\"AJNjbZwbGZWB5z8WpXey5Y\"></div>\n",
       "        <script>netpixi.call('AJNjbZwbGZWB5z8WpXey5Y', 'gFGaBMTAQdGaHJJQshijMZ', 'changeGraph', 'eyJpZCI6IDgyLCAidHlwZSI6ICJ2ZXJ0ZXgiLCAicHJvcHMiOiB7InNpemUiOiA0MC42NjY2NjY2NjY2NjY2N319Cg==');</script>\n",
       "    "
      ],
      "text/plain": [
       "<IPython.core.display.HTML object>"
      ]
     },
     "metadata": {},
     "output_type": "display_data"
    },
    {
     "data": {
      "text/html": [
       "\n",
       "        <div id=\"XL49jJBtjFBdCfCBrczkJq\"></div>\n",
       "        <script>netpixi.call('XL49jJBtjFBdCfCBrczkJq', 'gFGaBMTAQdGaHJJQshijMZ', 'changeGraph', 'eyJpZCI6IDc0LCAidHlwZSI6ICJ2ZXJ0ZXgiLCAicHJvcHMiOiB7ImNvbG9yIjogMTY3MTE2ODB9fQo=');</script>\n",
       "    "
      ],
      "text/plain": [
       "<IPython.core.display.HTML object>"
      ]
     },
     "metadata": {},
     "output_type": "display_data"
    },
    {
     "data": {
      "text/html": [
       "\n",
       "        <div id=\"knPsxJ8AGmxNQNqz6xTDmB\"></div>\n",
       "        <script>netpixi.call('knPsxJ8AGmxNQNqz6xTDmB', 'gFGaBMTAQdGaHJJQshijMZ', 'changeGraph', 'eyJpZCI6IDgzLCAidHlwZSI6ICJ2ZXJ0ZXgiLCAicHJvcHMiOiB7InNpemUiOiAxNC44OTUzOTc0ODk1Mzk3NDh9fQo=');</script>\n",
       "    "
      ],
      "text/plain": [
       "<IPython.core.display.HTML object>"
      ]
     },
     "metadata": {},
     "output_type": "display_data"
    },
    {
     "data": {
      "text/html": [
       "\n",
       "        <div id=\"RwLtWb2iFQTKg6aM2uKRvG\"></div>\n",
       "        <script>netpixi.call('RwLtWb2iFQTKg6aM2uKRvG', 'gFGaBMTAQdGaHJJQshijMZ', 'changeGraph', 'eyJpZCI6IDgzLCAidHlwZSI6ICJ2ZXJ0ZXgiLCAicHJvcHMiOiB7ImNvbG9yIjogMTY3MTE2ODB9fQo=');</script>\n",
       "    "
      ],
      "text/plain": [
       "<IPython.core.display.HTML object>"
      ]
     },
     "metadata": {},
     "output_type": "display_data"
    },
    {
     "data": {
      "text/html": [
       "\n",
       "        <div id=\"Aho4Ukvp6gUeWqF4aR7KFV\"></div>\n",
       "        <script>netpixi.call('Aho4Ukvp6gUeWqF4aR7KFV', 'gFGaBMTAQdGaHJJQshijMZ', 'changeGraph', 'eyJpZCI6IDg0LCAidHlwZSI6ICJ2ZXJ0ZXgiLCAicHJvcHMiOiB7InNpemUiOiAxMy44NDkzNzIzODQ5MzcyMzh9fQo=');</script>\n",
       "    "
      ],
      "text/plain": [
       "<IPython.core.display.HTML object>"
      ]
     },
     "metadata": {},
     "output_type": "display_data"
    },
    {
     "data": {
      "text/html": [
       "\n",
       "        <div id=\"GxnqwFJQxVsUZHsBnEDPZK\"></div>\n",
       "        <script>netpixi.call('GxnqwFJQxVsUZHsBnEDPZK', 'gFGaBMTAQdGaHJJQshijMZ', 'changeGraph', 'eyJpZCI6IDgwLCAidHlwZSI6ICJ2ZXJ0ZXgiLCAicHJvcHMiOiB7ImNvbG9yIjogMTY3MTE2ODB9fQo=');</script>\n",
       "    "
      ],
      "text/plain": [
       "<IPython.core.display.HTML object>"
      ]
     },
     "metadata": {},
     "output_type": "display_data"
    },
    {
     "data": {
      "text/html": [
       "\n",
       "        <div id=\"dPeKRRG2xrJxBsu5JSmHt4\"></div>\n",
       "        <script>netpixi.call('dPeKRRG2xrJxBsu5JSmHt4', 'gFGaBMTAQdGaHJJQshijMZ', 'changeGraph', 'eyJpZCI6IDg1LCAidHlwZSI6ICJ2ZXJ0ZXgiLCAicHJvcHMiOiB7InNpemUiOiA0NS4wfX0K');</script>\n",
       "    "
      ],
      "text/plain": [
       "<IPython.core.display.HTML object>"
      ]
     },
     "metadata": {},
     "output_type": "display_data"
    },
    {
     "data": {
      "text/html": [
       "\n",
       "        <div id=\"XW3x2G7Y786FbCER6r7BMe\"></div>\n",
       "        <script>netpixi.call('XW3x2G7Y786FbCER6r7BMe', 'gFGaBMTAQdGaHJJQshijMZ', 'changeGraph', 'eyJpZCI6IDg0LCAidHlwZSI6ICJ2ZXJ0ZXgiLCAicHJvcHMiOiB7ImNvbG9yIjogMTY3MTE2ODB9fQo=');</script>\n",
       "    "
      ],
      "text/plain": [
       "<IPython.core.display.HTML object>"
      ]
     },
     "metadata": {},
     "output_type": "display_data"
    },
    {
     "data": {
      "text/html": [
       "\n",
       "        <div id=\"Lj7AZiRWkXafr775HUyefo\"></div>\n",
       "        <script>netpixi.call('Lj7AZiRWkXafr775HUyefo', 'gFGaBMTAQdGaHJJQshijMZ', 'changeGraph', 'eyJpZCI6IDg2LCAidHlwZSI6ICJ2ZXJ0ZXgiLCAicHJvcHMiOiB7InNpemUiOiAxMy4wMTI1NTIzMDEyNTUyM319Cg==');</script>\n",
       "    "
      ],
      "text/plain": [
       "<IPython.core.display.HTML object>"
      ]
     },
     "metadata": {},
     "output_type": "display_data"
    },
    {
     "data": {
      "text/html": [
       "\n",
       "        <div id=\"nfDLy465pYPCwuPbzNncYU\"></div>\n",
       "        <script>netpixi.call('nfDLy465pYPCwuPbzNncYU', 'gFGaBMTAQdGaHJJQshijMZ', 'changeGraph', 'eyJpZCI6IDkzLCAidHlwZSI6ICJ2ZXJ0ZXgiLCAicHJvcHMiOiB7ImNvbG9yIjogMTY3MTE2ODB9fQo=');</script>\n",
       "    "
      ],
      "text/plain": [
       "<IPython.core.display.HTML object>"
      ]
     },
     "metadata": {},
     "output_type": "display_data"
    },
    {
     "data": {
      "text/html": [
       "\n",
       "        <div id=\"HSP2Li4SrY5G3WxF8aqhRz\"></div>\n",
       "        <script>netpixi.call('HSP2Li4SrY5G3WxF8aqhRz', 'gFGaBMTAQdGaHJJQshijMZ', 'changeGraph', 'eyJpZCI6IDg3LCAidHlwZSI6ICJ2ZXJ0ZXgiLCAicHJvcHMiOiB7InNpemUiOiAxNi40ODUzNTU2NDg1MzU1Njd9fQo=');</script>\n",
       "    "
      ],
      "text/plain": [
       "<IPython.core.display.HTML object>"
      ]
     },
     "metadata": {},
     "output_type": "display_data"
    },
    {
     "data": {
      "text/html": [
       "\n",
       "        <div id=\"HRetVVh4TCfZmcC9DQEqVm\"></div>\n",
       "        <script>netpixi.call('HRetVVh4TCfZmcC9DQEqVm', 'gFGaBMTAQdGaHJJQshijMZ', 'changeGraph', 'eyJpZCI6IDc1LCAidHlwZSI6ICJ2ZXJ0ZXgiLCAicHJvcHMiOiB7ImNvbG9yIjogMTY3MTE2ODB9fQo=');</script>\n",
       "    "
      ],
      "text/plain": [
       "<IPython.core.display.HTML object>"
      ]
     },
     "metadata": {},
     "output_type": "display_data"
    },
    {
     "data": {
      "text/html": [
       "\n",
       "        <div id=\"Eh9YAnrQn4hFV3zjqWb2y5\"></div>\n",
       "        <script>netpixi.call('Eh9YAnrQn4hFV3zjqWb2y5', 'gFGaBMTAQdGaHJJQshijMZ', 'changeGraph', 'eyJpZCI6IDg4LCAidHlwZSI6ICJ2ZXJ0ZXgiLCAicHJvcHMiOiB7InNpemUiOiA0MS41fX0K');</script>\n",
       "    "
      ],
      "text/plain": [
       "<IPython.core.display.HTML object>"
      ]
     },
     "metadata": {},
     "output_type": "display_data"
    },
    {
     "data": {
      "text/html": [
       "\n",
       "        <div id=\"k8MtguNbjkSNUjyMrw9DsG\"></div>\n",
       "        <script>netpixi.call('k8MtguNbjkSNUjyMrw9DsG', 'gFGaBMTAQdGaHJJQshijMZ', 'changeGraph', 'eyJpZCI6IDg1LCAidHlwZSI6ICJ2ZXJ0ZXgiLCAicHJvcHMiOiB7ImNvbG9yIjogMTY3MTE2ODB9fQo=');</script>\n",
       "    "
      ],
      "text/plain": [
       "<IPython.core.display.HTML object>"
      ]
     },
     "metadata": {},
     "output_type": "display_data"
    },
    {
     "data": {
      "text/html": [
       "\n",
       "        <div id=\"Yiyv6jbinhM7XSEsGVuzEN\"></div>\n",
       "        <script>netpixi.call('Yiyv6jbinhM7XSEsGVuzEN', 'gFGaBMTAQdGaHJJQshijMZ', 'changeGraph', 'eyJpZCI6IDg5LCAidHlwZSI6ICJ2ZXJ0ZXgiLCAicHJvcHMiOiB7InNpemUiOiAxOC40MTAwNDE4NDEwMDQxODN9fQo=');</script>\n",
       "    "
      ],
      "text/plain": [
       "<IPython.core.display.HTML object>"
      ]
     },
     "metadata": {},
     "output_type": "display_data"
    },
    {
     "data": {
      "text/html": [
       "\n",
       "        <div id=\"edBr8zQKH8fgn2C8CRRkS7\"></div>\n",
       "        <script>netpixi.call('edBr8zQKH8fgn2C8CRRkS7', 'gFGaBMTAQdGaHJJQshijMZ', 'changeGraph', 'eyJpZCI6IDc5LCAidHlwZSI6ICJ2ZXJ0ZXgiLCAicHJvcHMiOiB7ImNvbG9yIjogMTY3MTE2ODB9fQo=');</script>\n",
       "    "
      ],
      "text/plain": [
       "<IPython.core.display.HTML object>"
      ]
     },
     "metadata": {},
     "output_type": "display_data"
    },
    {
     "data": {
      "text/html": [
       "\n",
       "        <div id=\"Fr2cCVEFXauVzZsVwUhPwU\"></div>\n",
       "        <script>netpixi.call('Fr2cCVEFXauVzZsVwUhPwU', 'gFGaBMTAQdGaHJJQshijMZ', 'changeGraph', 'eyJpZCI6IDkwLCAidHlwZSI6ICJ2ZXJ0ZXgiLCAicHJvcHMiOiB7InNpemUiOiAxOS4wMzc2NTY5MDM3NjU2OX19Cg==');</script>\n",
       "    "
      ],
      "text/plain": [
       "<IPython.core.display.HTML object>"
      ]
     },
     "metadata": {},
     "output_type": "display_data"
    },
    {
     "data": {
      "text/html": [
       "\n",
       "        <div id=\"cTnNohmFmHddkYZTbTsBhn\"></div>\n",
       "        <script>netpixi.call('cTnNohmFmHddkYZTbTsBhn', 'gFGaBMTAQdGaHJJQshijMZ', 'changeGraph', 'eyJpZCI6IDgyLCAidHlwZSI6ICJ2ZXJ0ZXgiLCAicHJvcHMiOiB7ImNvbG9yIjogMTY3MTE2ODB9fQo=');</script>\n",
       "    "
      ],
      "text/plain": [
       "<IPython.core.display.HTML object>"
      ]
     },
     "metadata": {},
     "output_type": "display_data"
    },
    {
     "data": {
      "text/html": [
       "\n",
       "        <div id=\"bNdiPzwsK9gndCvjLe6vzQ\"></div>\n",
       "        <script>netpixi.call('bNdiPzwsK9gndCvjLe6vzQ', 'gFGaBMTAQdGaHJJQshijMZ', 'changeGraph', 'eyJpZCI6IDkxLCAidHlwZSI6ICJ2ZXJ0ZXgiLCAicHJvcHMiOiB7InNpemUiOiAxNS4yMzAxMjU1MjMwMTI1NTJ9fQo=');</script>\n",
       "    "
      ],
      "text/plain": [
       "<IPython.core.display.HTML object>"
      ]
     },
     "metadata": {},
     "output_type": "display_data"
    },
    {
     "data": {
      "text/html": [
       "\n",
       "        <div id=\"bf7dzhNxi4CZ3PekmZWuYv\"></div>\n",
       "        <script>netpixi.call('bf7dzhNxi4CZ3PekmZWuYv', 'gFGaBMTAQdGaHJJQshijMZ', 'changeGraph', 'eyJpZCI6IDgzLCAidHlwZSI6ICJ2ZXJ0ZXgiLCAicHJvcHMiOiB7ImNvbG9yIjogMTY3MTE2ODB9fQo=');</script>\n",
       "    "
      ],
      "text/plain": [
       "<IPython.core.display.HTML object>"
      ]
     },
     "metadata": {},
     "output_type": "display_data"
    },
    {
     "data": {
      "text/html": [
       "\n",
       "        <div id=\"gzVmnvFiJCQ7mAuxnNdEZc\"></div>\n",
       "        <script>netpixi.call('gzVmnvFiJCQ7mAuxnNdEZc', 'gFGaBMTAQdGaHJJQshijMZ', 'changeGraph', 'eyJpZCI6IDkyLCAidHlwZSI6ICJ2ZXJ0ZXgiLCAicHJvcHMiOiB7InNpemUiOiAxMC44MzY4MjAwODM2ODIwMDh9fQo=');</script>\n",
       "    "
      ],
      "text/plain": [
       "<IPython.core.display.HTML object>"
      ]
     },
     "metadata": {},
     "output_type": "display_data"
    },
    {
     "data": {
      "text/html": [
       "\n",
       "        <div id=\"bofECgZsJMMJbtapJq4apL\"></div>\n",
       "        <script>netpixi.call('bofECgZsJMMJbtapJq4apL', 'gFGaBMTAQdGaHJJQshijMZ', 'changeGraph', 'eyJpZCI6IDc2LCAidHlwZSI6ICJ2ZXJ0ZXgiLCAicHJvcHMiOiB7ImNvbG9yIjogMTY3MTE2ODB9fQo=');</script>\n",
       "    "
      ],
      "text/plain": [
       "<IPython.core.display.HTML object>"
      ]
     },
     "metadata": {},
     "output_type": "display_data"
    },
    {
     "data": {
      "text/html": [
       "\n",
       "        <div id=\"5oLGvpiEvqDG9xDzP2qkp5\"></div>\n",
       "        <script>netpixi.call('5oLGvpiEvqDG9xDzP2qkp5', 'gFGaBMTAQdGaHJJQshijMZ', 'changeGraph', 'eyJpZCI6IDkzLCAidHlwZSI6ICJ2ZXJ0ZXgiLCAicHJvcHMiOiB7InNpemUiOiAxMS40NjQ0MzUxNDY0NDM1MTV9fQo=');</script>\n",
       "    "
      ],
      "text/plain": [
       "<IPython.core.display.HTML object>"
      ]
     },
     "metadata": {},
     "output_type": "display_data"
    },
    {
     "data": {
      "text/html": [
       "\n",
       "        <div id=\"TUE75oFGhZPiaS9Kre845v\"></div>\n",
       "        <script>netpixi.call('TUE75oFGhZPiaS9Kre845v', 'gFGaBMTAQdGaHJJQshijMZ', 'changeGraph', 'eyJpZCI6IDgyLCAidHlwZSI6ICJ2ZXJ0ZXgiLCAicHJvcHMiOiB7ImNvbG9yIjogMTY3MTE2ODB9fQo=');</script>\n",
       "    "
      ],
      "text/plain": [
       "<IPython.core.display.HTML object>"
      ]
     },
     "metadata": {},
     "output_type": "display_data"
    },
    {
     "data": {
      "text/html": [
       "\n",
       "        <div id=\"N6i35vPMmzTNGvRv8p5KXB\"></div>\n",
       "        <script>netpixi.call('N6i35vPMmzTNGvRv8p5KXB', 'gFGaBMTAQdGaHJJQshijMZ', 'changeGraph', 'eyJpZCI6IDk0LCAidHlwZSI6ICJ2ZXJ0ZXgiLCAicHJvcHMiOiB7InNpemUiOiA0My41fX0K');</script>\n",
       "    "
      ],
      "text/plain": [
       "<IPython.core.display.HTML object>"
      ]
     },
     "metadata": {},
     "output_type": "display_data"
    },
    {
     "data": {
      "text/html": [
       "\n",
       "        <div id=\"TvymLu5zCVYuh23Y9vhmV6\"></div>\n",
       "        <script>netpixi.call('TvymLu5zCVYuh23Y9vhmV6', 'gFGaBMTAQdGaHJJQshijMZ', 'changeGraph', 'eyJpZCI6IDcxLCAidHlwZSI6ICJ2ZXJ0ZXgiLCAicHJvcHMiOiB7ImNvbG9yIjogMTY3MTE2ODB9fQo=');</script>\n",
       "    "
      ],
      "text/plain": [
       "<IPython.core.display.HTML object>"
      ]
     },
     "metadata": {},
     "output_type": "display_data"
    },
    {
     "data": {
      "text/html": [
       "\n",
       "        <div id=\"7jjei8WDzhxt74TLXCmjVG\"></div>\n",
       "        <script>netpixi.call('7jjei8WDzhxt74TLXCmjVG', 'gFGaBMTAQdGaHJJQshijMZ', 'changeGraph', 'eyJpZCI6IDk1LCAidHlwZSI6ICJ2ZXJ0ZXgiLCAicHJvcHMiOiB7InNpemUiOiAxMS45NjY1MjcxOTY2NTI3Mn19Cg==');</script>\n",
       "    "
      ],
      "text/plain": [
       "<IPython.core.display.HTML object>"
      ]
     },
     "metadata": {},
     "output_type": "display_data"
    },
    {
     "data": {
      "text/html": [
       "\n",
       "        <div id=\"AqR8p8ED4xSfZh56ETkQ4k\"></div>\n",
       "        <script>netpixi.call('AqR8p8ED4xSfZh56ETkQ4k', 'gFGaBMTAQdGaHJJQshijMZ', 'changeGraph', 'eyJpZCI6IDY1LCAidHlwZSI6ICJ2ZXJ0ZXgiLCAicHJvcHMiOiB7ImNvbG9yIjogMTY3MTE2ODB9fQo=');</script>\n",
       "    "
      ],
      "text/plain": [
       "<IPython.core.display.HTML object>"
      ]
     },
     "metadata": {},
     "output_type": "display_data"
    },
    {
     "data": {
      "text/html": [
       "\n",
       "        <div id=\"BQ9qFXbGF953ueAi5Kdo2A\"></div>\n",
       "        <script>netpixi.call('BQ9qFXbGF953ueAi5Kdo2A', 'gFGaBMTAQdGaHJJQshijMZ', 'changeGraph', 'eyJpZCI6IDk2LCAidHlwZSI6ICJ2ZXJ0ZXgiLCAicHJvcHMiOiB7InNpemUiOiAxNi40NDM1MTQ2NDQzNTE0NjN9fQo=');</script>\n",
       "    "
      ],
      "text/plain": [
       "<IPython.core.display.HTML object>"
      ]
     },
     "metadata": {},
     "output_type": "display_data"
    },
    {
     "data": {
      "text/html": [
       "\n",
       "        <div id=\"9tcC22shbEFEN2kzqtRBMR\"></div>\n",
       "        <script>netpixi.call('9tcC22shbEFEN2kzqtRBMR', 'gFGaBMTAQdGaHJJQshijMZ', 'changeGraph', 'eyJpZCI6IDg5LCAidHlwZSI6ICJ2ZXJ0ZXgiLCAicHJvcHMiOiB7ImNvbG9yIjogMTY3MTE2ODB9fQo=');</script>\n",
       "    "
      ],
      "text/plain": [
       "<IPython.core.display.HTML object>"
      ]
     },
     "metadata": {},
     "output_type": "display_data"
    },
    {
     "data": {
      "text/html": [
       "\n",
       "        <div id=\"aayTSnuaWz6XtDjAfrnrCK\"></div>\n",
       "        <script>netpixi.call('aayTSnuaWz6XtDjAfrnrCK', 'gFGaBMTAQdGaHJJQshijMZ', 'changeGraph', 'eyJpZCI6IDk3LCAidHlwZSI6ICJ2ZXJ0ZXgiLCAicHJvcHMiOiB7InNpemUiOiAxNS4xMDQ2MDI1MTA0NjAyNX19Cg==');</script>\n",
       "    "
      ],
      "text/plain": [
       "<IPython.core.display.HTML object>"
      ]
     },
     "metadata": {},
     "output_type": "display_data"
    },
    {
     "data": {
      "text/html": [
       "\n",
       "        <div id=\"bSXygFQXwGEa67rwRMQFeg\"></div>\n",
       "        <script>netpixi.call('bSXygFQXwGEa67rwRMQFeg', 'gFGaBMTAQdGaHJJQshijMZ', 'changeGraph', 'eyJpZCI6IDczLCAidHlwZSI6ICJ2ZXJ0ZXgiLCAicHJvcHMiOiB7ImNvbG9yIjogMTY3MTE2ODB9fQo=');</script>\n",
       "    "
      ],
      "text/plain": [
       "<IPython.core.display.HTML object>"
      ]
     },
     "metadata": {},
     "output_type": "display_data"
    },
    {
     "data": {
      "text/html": [
       "\n",
       "        <div id=\"ME6E4VqbFEc6HQR2NdDeWZ\"></div>\n",
       "        <script>netpixi.call('ME6E4VqbFEc6HQR2NdDeWZ', 'gFGaBMTAQdGaHJJQshijMZ', 'changeGraph', 'eyJpZCI6IDk4LCAidHlwZSI6ICJ2ZXJ0ZXgiLCAicHJvcHMiOiB7InNpemUiOiAxMi4xNzU3MzIyMTc1NzMyMjJ9fQo=');</script>\n",
       "    "
      ],
      "text/plain": [
       "<IPython.core.display.HTML object>"
      ]
     },
     "metadata": {},
     "output_type": "display_data"
    },
    {
     "data": {
      "text/html": [
       "\n",
       "        <div id=\"4aV6onoa3T2kG54nMsv78i\"></div>\n",
       "        <script>netpixi.call('4aV6onoa3T2kG54nMsv78i', 'gFGaBMTAQdGaHJJQshijMZ', 'changeGraph', 'eyJpZCI6IDcyLCAidHlwZSI6ICJ2ZXJ0ZXgiLCAicHJvcHMiOiB7ImNvbG9yIjogMTY3MTE2ODB9fQo=');</script>\n",
       "    "
      ],
      "text/plain": [
       "<IPython.core.display.HTML object>"
      ]
     },
     "metadata": {},
     "output_type": "display_data"
    },
    {
     "data": {
      "text/html": [
       "\n",
       "        <div id=\"nt64M72VWk7LcH8KNuS7aM\"></div>\n",
       "        <script>netpixi.call('nt64M72VWk7LcH8KNuS7aM', 'gFGaBMTAQdGaHJJQshijMZ', 'changeGraph', 'eyJpZCI6IDk5LCAidHlwZSI6ICJ2ZXJ0ZXgiLCAicHJvcHMiOiB7InNpemUiOiAxMS40MjI1OTQxNDIyNTk0MTN9fQo=');</script>\n",
       "    "
      ],
      "text/plain": [
       "<IPython.core.display.HTML object>"
      ]
     },
     "metadata": {},
     "output_type": "display_data"
    },
    {
     "data": {
      "text/html": [
       "\n",
       "        <div id=\"dxs2P7urz24dPFz8vmohub\"></div>\n",
       "        <script>netpixi.call('dxs2P7urz24dPFz8vmohub', 'gFGaBMTAQdGaHJJQshijMZ', 'changeGraph', 'eyJpZCI6IDc1LCAidHlwZSI6ICJ2ZXJ0ZXgiLCAicHJvcHMiOiB7ImNvbG9yIjogMTY3MTE2ODB9fQo=');</script>\n",
       "    "
      ],
      "text/plain": [
       "<IPython.core.display.HTML object>"
      ]
     },
     "metadata": {},
     "output_type": "display_data"
    },
    {
     "data": {
      "text/html": [
       "\n",
       "        <div id=\"ErS844MvBnFcWNhZVAhJnj\"></div>\n",
       "        <script>netpixi.call('ErS844MvBnFcWNhZVAhJnj', 'gFGaBMTAQdGaHJJQshijMZ', 'changeGraph', 'eyJpZCI6IDEwMCwgInR5cGUiOiAidmVydGV4IiwgInByb3BzIjogeyJzaXplIjogNDguNjY2NjY2NjY2NjY2NjY0fX0K');</script>\n",
       "    "
      ],
      "text/plain": [
       "<IPython.core.display.HTML object>"
      ]
     },
     "metadata": {},
     "output_type": "display_data"
    },
    {
     "data": {
      "text/html": [
       "\n",
       "        <div id=\"EeRg2QLsdRgatP3XYrGCzs\"></div>\n",
       "        <script>netpixi.call('EeRg2QLsdRgatP3XYrGCzs', 'gFGaBMTAQdGaHJJQshijMZ', 'changeGraph', 'eyJpZCI6IDc3LCAidHlwZSI6ICJ2ZXJ0ZXgiLCAicHJvcHMiOiB7ImNvbG9yIjogMTY3MTE2ODB9fQo=');</script>\n",
       "    "
      ],
      "text/plain": [
       "<IPython.core.display.HTML object>"
      ]
     },
     "metadata": {},
     "output_type": "display_data"
    },
    {
     "data": {
      "text/html": [
       "\n",
       "        <div id=\"4zPSy5Ho8n6sW4tUqzA2zg\"></div>\n",
       "        <script>netpixi.call('4zPSy5Ho8n6sW4tUqzA2zg', 'gFGaBMTAQdGaHJJQshijMZ', 'changeGraph', 'eyJpZCI6IDEwMSwgInR5cGUiOiAidmVydGV4IiwgInByb3BzIjogeyJzaXplIjogMTEuMTcxNTQ4MTE3MTU0ODEyfX0K');</script>\n",
       "    "
      ],
      "text/plain": [
       "<IPython.core.display.HTML object>"
      ]
     },
     "metadata": {},
     "output_type": "display_data"
    },
    {
     "data": {
      "text/html": [
       "\n",
       "        <div id=\"RW96tdFcQAVfNbmqLSNfiN\"></div>\n",
       "        <script>netpixi.call('RW96tdFcQAVfNbmqLSNfiN', 'gFGaBMTAQdGaHJJQshijMZ', 'changeGraph', 'eyJpZCI6IDg1LCAidHlwZSI6ICJ2ZXJ0ZXgiLCAicHJvcHMiOiB7ImNvbG9yIjogMTY3MTE2ODB9fQo=');</script>\n",
       "    "
      ],
      "text/plain": [
       "<IPython.core.display.HTML object>"
      ]
     },
     "metadata": {},
     "output_type": "display_data"
    },
    {
     "data": {
      "text/html": [
       "\n",
       "        <div id=\"SVqZpUcbHpB7mwDVPttCiw\"></div>\n",
       "        <script>netpixi.call('SVqZpUcbHpB7mwDVPttCiw', 'gFGaBMTAQdGaHJJQshijMZ', 'changeGraph', 'eyJpZCI6IDEwMiwgInR5cGUiOiAidmVydGV4IiwgInByb3BzIjogeyJzaXplIjogMTIuNTUyMzAxMjU1MjMwMTI1fX0K');</script>\n",
       "    "
      ],
      "text/plain": [
       "<IPython.core.display.HTML object>"
      ]
     },
     "metadata": {},
     "output_type": "display_data"
    },
    {
     "data": {
      "text/html": [
       "\n",
       "        <div id=\"CXDaHfHvkTdNukzfzirvEZ\"></div>\n",
       "        <script>netpixi.call('CXDaHfHvkTdNukzfzirvEZ', 'gFGaBMTAQdGaHJJQshijMZ', 'changeGraph', 'eyJpZCI6IDc2LCAidHlwZSI6ICJ2ZXJ0ZXgiLCAicHJvcHMiOiB7ImNvbG9yIjogMTY3MTE2ODB9fQo=');</script>\n",
       "    "
      ],
      "text/plain": [
       "<IPython.core.display.HTML object>"
      ]
     },
     "metadata": {},
     "output_type": "display_data"
    },
    {
     "data": {
      "text/html": [
       "\n",
       "        <div id=\"nRwxFQwujL6GB82cFJjsBu\"></div>\n",
       "        <script>netpixi.call('nRwxFQwujL6GB82cFJjsBu', 'gFGaBMTAQdGaHJJQshijMZ', 'changeGraph', 'eyJpZCI6IDEwMywgInR5cGUiOiAidmVydGV4IiwgInByb3BzIjogeyJzaXplIjogMTkuNjY1MjcxOTY2NTI3MTk3fX0K');</script>\n",
       "    "
      ],
      "text/plain": [
       "<IPython.core.display.HTML object>"
      ]
     },
     "metadata": {},
     "output_type": "display_data"
    },
    {
     "data": {
      "text/html": [
       "\n",
       "        <div id=\"9iRSf6X3tF6NU6TVagSwNs\"></div>\n",
       "        <script>netpixi.call('9iRSf6X3tF6NU6TVagSwNs', 'gFGaBMTAQdGaHJJQshijMZ', 'changeGraph', 'eyJpZCI6IDUzLCAidHlwZSI6ICJ2ZXJ0ZXgiLCAicHJvcHMiOiB7ImNvbG9yIjogMTY3MTE2ODB9fQo=');</script>\n",
       "    "
      ],
      "text/plain": [
       "<IPython.core.display.HTML object>"
      ]
     },
     "metadata": {},
     "output_type": "display_data"
    },
    {
     "data": {
      "text/html": [
       "\n",
       "        <div id=\"UFdonFYpkrkXTaAq3WqBAy\"></div>\n",
       "        <script>netpixi.call('UFdonFYpkrkXTaAq3WqBAy', 'gFGaBMTAQdGaHJJQshijMZ', 'changeGraph', 'eyJpZCI6IDEwNCwgInR5cGUiOiAidmVydGV4IiwgInByb3BzIjogeyJzaXplIjogMTUuMzU1NjQ4NTM1NTY0ODUzfX0K');</script>\n",
       "    "
      ],
      "text/plain": [
       "<IPython.core.display.HTML object>"
      ]
     },
     "metadata": {},
     "output_type": "display_data"
    },
    {
     "data": {
      "text/html": [
       "\n",
       "        <div id=\"cfKBVSCsCnrYf3D8VRchVQ\"></div>\n",
       "        <script>netpixi.call('cfKBVSCsCnrYf3D8VRchVQ', 'gFGaBMTAQdGaHJJQshijMZ', 'changeGraph', 'eyJpZCI6IDY4LCAidHlwZSI6ICJ2ZXJ0ZXgiLCAicHJvcHMiOiB7ImNvbG9yIjogMTY3MTE2ODB9fQo=');</script>\n",
       "    "
      ],
      "text/plain": [
       "<IPython.core.display.HTML object>"
      ]
     },
     "metadata": {},
     "output_type": "display_data"
    },
    {
     "data": {
      "text/html": [
       "\n",
       "        <div id=\"FDi9nvwYWjzAVaWcxzqLqn\"></div>\n",
       "        <script>netpixi.call('FDi9nvwYWjzAVaWcxzqLqn', 'gFGaBMTAQdGaHJJQshijMZ', 'changeGraph', 'eyJpZCI6IDEwNSwgInR5cGUiOiAidmVydGV4IiwgInByb3BzIjogeyJzaXplIjogMTguNjYxMDg3ODY2MTA4Nzg3fX0K');</script>\n",
       "    "
      ],
      "text/plain": [
       "<IPython.core.display.HTML object>"
      ]
     },
     "metadata": {},
     "output_type": "display_data"
    },
    {
     "data": {
      "text/html": [
       "\n",
       "        <div id=\"RxH8dXLcfZVqHaN2qwugxX\"></div>\n",
       "        <script>netpixi.call('RxH8dXLcfZVqHaN2qwugxX', 'gFGaBMTAQdGaHJJQshijMZ', 'changeGraph', 'eyJpZCI6IDg4LCAidHlwZSI6ICJ2ZXJ0ZXgiLCAicHJvcHMiOiB7ImNvbG9yIjogMTY3MTE2ODB9fQo=');</script>\n",
       "    "
      ],
      "text/plain": [
       "<IPython.core.display.HTML object>"
      ]
     },
     "metadata": {},
     "output_type": "display_data"
    },
    {
     "data": {
      "text/html": [
       "\n",
       "        <div id=\"aSMV5p6HMLZVcukwHFWRPZ\"></div>\n",
       "        <script>netpixi.call('aSMV5p6HMLZVcukwHFWRPZ', 'gFGaBMTAQdGaHJJQshijMZ', 'changeGraph', 'eyJpZCI6IDEwNiwgInR5cGUiOiAidmVydGV4IiwgInByb3BzIjogeyJzaXplIjogMTcuMTk2NjUyNzE5NjY1MjczfX0K');</script>\n",
       "    "
      ],
      "text/plain": [
       "<IPython.core.display.HTML object>"
      ]
     },
     "metadata": {},
     "output_type": "display_data"
    },
    {
     "data": {
      "text/html": [
       "\n",
       "        <div id=\"VikJ2oPrEmcfULeT53a6WS\"></div>\n",
       "        <script>netpixi.call('VikJ2oPrEmcfULeT53a6WS', 'gFGaBMTAQdGaHJJQshijMZ', 'changeGraph', 'eyJpZCI6IDc2LCAidHlwZSI6ICJ2ZXJ0ZXgiLCAicHJvcHMiOiB7ImNvbG9yIjogMTY3MTE2ODB9fQo=');</script>\n",
       "    "
      ],
      "text/plain": [
       "<IPython.core.display.HTML object>"
      ]
     },
     "metadata": {},
     "output_type": "display_data"
    },
    {
     "data": {
      "text/html": [
       "\n",
       "        <div id=\"c6eivnWVuTW2twBuCwYs9y\"></div>\n",
       "        <script>netpixi.call('c6eivnWVuTW2twBuCwYs9y', 'gFGaBMTAQdGaHJJQshijMZ', 'changeGraph', 'eyJpZCI6IDEwNywgInR5cGUiOiAidmVydGV4IiwgInByb3BzIjogeyJzaXplIjogMTcuOTQ5NzkwNzk0OTc5MDh9fQo=');</script>\n",
       "    "
      ],
      "text/plain": [
       "<IPython.core.display.HTML object>"
      ]
     },
     "metadata": {},
     "output_type": "display_data"
    },
    {
     "data": {
      "text/html": [
       "\n",
       "        <div id=\"PGDB48XAweytDQwzankv3q\"></div>\n",
       "        <script>netpixi.call('PGDB48XAweytDQwzankv3q', 'gFGaBMTAQdGaHJJQshijMZ', 'changeGraph', 'eyJpZCI6IDU3LCAidHlwZSI6ICJ2ZXJ0ZXgiLCAicHJvcHMiOiB7ImNvbG9yIjogMTY3MTE2ODB9fQo=');</script>\n",
       "    "
      ],
      "text/plain": [
       "<IPython.core.display.HTML object>"
      ]
     },
     "metadata": {},
     "output_type": "display_data"
    },
    {
     "data": {
      "text/html": [
       "\n",
       "        <div id=\"GnuMJwamZErp5z2vGe6Ppb\"></div>\n",
       "        <script>netpixi.call('GnuMJwamZErp5z2vGe6Ppb', 'gFGaBMTAQdGaHJJQshijMZ', 'changeGraph', 'eyJpZCI6IDEwOCwgInR5cGUiOiAidmVydGV4IiwgInByb3BzIjogeyJzaXplIjogMTMuMzA1NDM5MzMwNTQzOTMzfX0K');</script>\n",
       "    "
      ],
      "text/plain": [
       "<IPython.core.display.HTML object>"
      ]
     },
     "metadata": {},
     "output_type": "display_data"
    },
    {
     "data": {
      "text/html": [
       "\n",
       "        <div id=\"7qWxuZ6jZ7L9YAHo8PhrWQ\"></div>\n",
       "        <script>netpixi.call('7qWxuZ6jZ7L9YAHo8PhrWQ', 'gFGaBMTAQdGaHJJQshijMZ', 'changeGraph', 'eyJpZCI6IDcyLCAidHlwZSI6ICJ2ZXJ0ZXgiLCAicHJvcHMiOiB7ImNvbG9yIjogMTY3MTE2ODB9fQo=');</script>\n",
       "    "
      ],
      "text/plain": [
       "<IPython.core.display.HTML object>"
      ]
     },
     "metadata": {},
     "output_type": "display_data"
    },
    {
     "data": {
      "text/html": [
       "\n",
       "        <div id=\"aCMxfFPqGVU8fiAHnmtexG\"></div>\n",
       "        <script>netpixi.call('aCMxfFPqGVU8fiAHnmtexG', 'gFGaBMTAQdGaHJJQshijMZ', 'changeGraph', 'eyJpZCI6IDEwOSwgInR5cGUiOiAidmVydGV4IiwgInByb3BzIjogeyJzaXplIjogMTcuNDg5NTM5NzQ4OTUzOTczfX0K');</script>\n",
       "    "
      ],
      "text/plain": [
       "<IPython.core.display.HTML object>"
      ]
     },
     "metadata": {},
     "output_type": "display_data"
    },
    {
     "data": {
      "text/html": [
       "\n",
       "        <div id=\"EuiNG7KBCvbq5EexxNdVwB\"></div>\n",
       "        <script>netpixi.call('EuiNG7KBCvbq5EexxNdVwB', 'gFGaBMTAQdGaHJJQshijMZ', 'changeGraph', 'eyJpZCI6IDgwLCAidHlwZSI6ICJ2ZXJ0ZXgiLCAicHJvcHMiOiB7ImNvbG9yIjogMTY3MTE2ODB9fQo=');</script>\n",
       "    "
      ],
      "text/plain": [
       "<IPython.core.display.HTML object>"
      ]
     },
     "metadata": {},
     "output_type": "display_data"
    },
    {
     "data": {
      "text/html": [
       "\n",
       "        <div id=\"LZ4HMEon7vSbWQUJNwG55C\"></div>\n",
       "        <script>netpixi.call('LZ4HMEon7vSbWQUJNwG55C', 'gFGaBMTAQdGaHJJQshijMZ', 'changeGraph', 'eyJpZCI6IDExMCwgInR5cGUiOiAidmVydGV4IiwgInByb3BzIjogeyJzaXplIjogMTUuNjQ4NTM1NTY0ODUzNTU3fX0K');</script>\n",
       "    "
      ],
      "text/plain": [
       "<IPython.core.display.HTML object>"
      ]
     },
     "metadata": {},
     "output_type": "display_data"
    },
    {
     "data": {
      "text/html": [
       "\n",
       "        <div id=\"kWbPEHfwW2RTztoBK4GZhu\"></div>\n",
       "        <script>netpixi.call('kWbPEHfwW2RTztoBK4GZhu', 'gFGaBMTAQdGaHJJQshijMZ', 'changeGraph', 'eyJpZCI6IDc4LCAidHlwZSI6ICJ2ZXJ0ZXgiLCAicHJvcHMiOiB7ImNvbG9yIjogMTY3MTE2ODB9fQo=');</script>\n",
       "    "
      ],
      "text/plain": [
       "<IPython.core.display.HTML object>"
      ]
     },
     "metadata": {},
     "output_type": "display_data"
    },
    {
     "data": {
      "text/html": [
       "\n",
       "        <div id=\"3H2TvAqZ73aezvjB9vKXBR\"></div>\n",
       "        <script>netpixi.call('3H2TvAqZ73aezvjB9vKXBR', 'gFGaBMTAQdGaHJJQshijMZ', 'changeGraph', 'eyJpZCI6IDExMSwgInR5cGUiOiAidmVydGV4IiwgInByb3BzIjogeyJzaXplIjogMTUuNTIzMDEyNTUyMzAxMjU1fX0K');</script>\n",
       "    "
      ],
      "text/plain": [
       "<IPython.core.display.HTML object>"
      ]
     },
     "metadata": {},
     "output_type": "display_data"
    },
    {
     "data": {
      "text/html": [
       "\n",
       "        <div id=\"DeHVp5bqBdWrQD96PSdPaC\"></div>\n",
       "        <script>netpixi.call('DeHVp5bqBdWrQD96PSdPaC', 'gFGaBMTAQdGaHJJQshijMZ', 'changeGraph', 'eyJpZCI6IDgyLCAidHlwZSI6ICJ2ZXJ0ZXgiLCAicHJvcHMiOiB7ImNvbG9yIjogMTY3MTE2ODB9fQo=');</script>\n",
       "    "
      ],
      "text/plain": [
       "<IPython.core.display.HTML object>"
      ]
     },
     "metadata": {},
     "output_type": "display_data"
    },
    {
     "data": {
      "text/html": [
       "\n",
       "        <div id=\"8J5VjXff2T47cRtvxeDZ4A\"></div>\n",
       "        <script>netpixi.call('8J5VjXff2T47cRtvxeDZ4A', 'gFGaBMTAQdGaHJJQshijMZ', 'changeGraph', 'eyJpZCI6IDExMiwgInR5cGUiOiAidmVydGV4IiwgInByb3BzIjogeyJzaXplIjogNDkuODMzMzMzMzMzMzMzMzM2fX0K');</script>\n",
       "    "
      ],
      "text/plain": [
       "<IPython.core.display.HTML object>"
      ]
     },
     "metadata": {},
     "output_type": "display_data"
    },
    {
     "data": {
      "text/html": [
       "\n",
       "        <div id=\"iJezzvavtfnfAz4qei7ySJ\"></div>\n",
       "        <script>netpixi.call('iJezzvavtfnfAz4qei7ySJ', 'gFGaBMTAQdGaHJJQshijMZ', 'changeGraph', 'eyJpZCI6IDY2LCAidHlwZSI6ICJ2ZXJ0ZXgiLCAicHJvcHMiOiB7ImNvbG9yIjogMTY3MTE2ODB9fQo=');</script>\n",
       "    "
      ],
      "text/plain": [
       "<IPython.core.display.HTML object>"
      ]
     },
     "metadata": {},
     "output_type": "display_data"
    },
    {
     "data": {
      "text/html": [
       "\n",
       "        <div id=\"2q7NyWnXBiEpWcN4BMoaa6\"></div>\n",
       "        <script>netpixi.call('2q7NyWnXBiEpWcN4BMoaa6', 'gFGaBMTAQdGaHJJQshijMZ', 'changeGraph', 'eyJpZCI6IDExMywgInR5cGUiOiAidmVydGV4IiwgInByb3BzIjogeyJzaXplIjogNDEuMTY2NjY2NjY2NjY2Njd9fQo=');</script>\n",
       "    "
      ],
      "text/plain": [
       "<IPython.core.display.HTML object>"
      ]
     },
     "metadata": {},
     "output_type": "display_data"
    },
    {
     "data": {
      "text/html": [
       "\n",
       "        <div id=\"mYhsnX7UovyeMhv9T7oPPH\"></div>\n",
       "        <script>netpixi.call('mYhsnX7UovyeMhv9T7oPPH', 'gFGaBMTAQdGaHJJQshijMZ', 'changeGraph', 'eyJpZCI6IDc0LCAidHlwZSI6ICJ2ZXJ0ZXgiLCAicHJvcHMiOiB7ImNvbG9yIjogMTY3MTE2ODB9fQo=');</script>\n",
       "    "
      ],
      "text/plain": [
       "<IPython.core.display.HTML object>"
      ]
     },
     "metadata": {},
     "output_type": "display_data"
    },
    {
     "data": {
      "text/html": [
       "\n",
       "        <div id=\"oTpeFf7tptVB7qjeLkN648\"></div>\n",
       "        <script>netpixi.call('oTpeFf7tptVB7qjeLkN648', 'gFGaBMTAQdGaHJJQshijMZ', 'changeGraph', 'eyJpZCI6IDExNCwgInR5cGUiOiAidmVydGV4IiwgInByb3BzIjogeyJzaXplIjogNDUuNjY2NjY2NjY2NjY2NjY0fX0K');</script>\n",
       "    "
      ],
      "text/plain": [
       "<IPython.core.display.HTML object>"
      ]
     },
     "metadata": {},
     "output_type": "display_data"
    },
    {
     "data": {
      "text/html": [
       "\n",
       "        <div id=\"YtmZZziK93tz4AUzSsRVES\"></div>\n",
       "        <script>netpixi.call('YtmZZziK93tz4AUzSsRVES', 'gFGaBMTAQdGaHJJQshijMZ', 'changeGraph', 'eyJpZCI6IDgxLCAidHlwZSI6ICJ2ZXJ0ZXgiLCAicHJvcHMiOiB7ImNvbG9yIjogMTY3MTE2ODB9fQo=');</script>\n",
       "    "
      ],
      "text/plain": [
       "<IPython.core.display.HTML object>"
      ]
     },
     "metadata": {},
     "output_type": "display_data"
    },
    {
     "data": {
      "text/html": [
       "\n",
       "        <div id=\"gQXRwuna9KSLQwgpgbhywB\"></div>\n",
       "        <script>netpixi.call('gQXRwuna9KSLQwgpgbhywB', 'gFGaBMTAQdGaHJJQshijMZ', 'changeGraph', 'eyJpZCI6IDExNSwgInR5cGUiOiAidmVydGV4IiwgInByb3BzIjogeyJzaXplIjogMTYuMTUwNjI3NjE1MDYyNzZ9fQo=');</script>\n",
       "    "
      ],
      "text/plain": [
       "<IPython.core.display.HTML object>"
      ]
     },
     "metadata": {},
     "output_type": "display_data"
    },
    {
     "data": {
      "text/html": [
       "\n",
       "        <div id=\"3Ebbkt9W8sgUvpZWWvApSb\"></div>\n",
       "        <script>netpixi.call('3Ebbkt9W8sgUvpZWWvApSb', 'gFGaBMTAQdGaHJJQshijMZ', 'changeGraph', 'eyJpZCI6IDgzLCAidHlwZSI6ICJ2ZXJ0ZXgiLCAicHJvcHMiOiB7ImNvbG9yIjogMTY3MTE2ODB9fQo=');</script>\n",
       "    "
      ],
      "text/plain": [
       "<IPython.core.display.HTML object>"
      ]
     },
     "metadata": {},
     "output_type": "display_data"
    },
    {
     "data": {
      "text/html": [
       "\n",
       "        <div id=\"S7k37gAVjpcbGsqHBmR9aa\"></div>\n",
       "        <script>netpixi.call('S7k37gAVjpcbGsqHBmR9aa', 'gFGaBMTAQdGaHJJQshijMZ', 'changeGraph', 'eyJpZCI6IDExNiwgInR5cGUiOiAidmVydGV4IiwgInByb3BzIjogeyJzaXplIjogMTguOTk1ODE1ODk5NTgxNTl9fQo=');</script>\n",
       "    "
      ],
      "text/plain": [
       "<IPython.core.display.HTML object>"
      ]
     },
     "metadata": {},
     "output_type": "display_data"
    },
    {
     "data": {
      "text/html": [
       "\n",
       "        <div id=\"oSeks9dhWGu2aYDGUBbPwk\"></div>\n",
       "        <script>netpixi.call('oSeks9dhWGu2aYDGUBbPwk', 'gFGaBMTAQdGaHJJQshijMZ', 'changeGraph', 'eyJpZCI6IDc3LCAidHlwZSI6ICJ2ZXJ0ZXgiLCAicHJvcHMiOiB7ImNvbG9yIjogMTY3MTE2ODB9fQo=');</script>\n",
       "    "
      ],
      "text/plain": [
       "<IPython.core.display.HTML object>"
      ]
     },
     "metadata": {},
     "output_type": "display_data"
    },
    {
     "data": {
      "text/html": [
       "\n",
       "        <div id=\"cy2aqLWbesFSt2knEi4k7N\"></div>\n",
       "        <script>netpixi.call('cy2aqLWbesFSt2knEi4k7N', 'gFGaBMTAQdGaHJJQshijMZ', 'changeGraph', 'eyJpZCI6IDExNywgInR5cGUiOiAidmVydGV4IiwgInByb3BzIjogeyJzaXplIjogMTIuNjc3ODI0MjY3NzgyNDI3fX0K');</script>\n",
       "    "
      ],
      "text/plain": [
       "<IPython.core.display.HTML object>"
      ]
     },
     "metadata": {},
     "output_type": "display_data"
    },
    {
     "data": {
      "text/html": [
       "\n",
       "        <div id=\"8Xg4QNmo4DdsLvRfewTguJ\"></div>\n",
       "        <script>netpixi.call('8Xg4QNmo4DdsLvRfewTguJ', 'gFGaBMTAQdGaHJJQshijMZ', 'changeGraph', 'eyJpZCI6IDgyLCAidHlwZSI6ICJ2ZXJ0ZXgiLCAicHJvcHMiOiB7ImNvbG9yIjogMTY3MTE2ODB9fQo=');</script>\n",
       "    "
      ],
      "text/plain": [
       "<IPython.core.display.HTML object>"
      ]
     },
     "metadata": {},
     "output_type": "display_data"
    },
    {
     "data": {
      "text/html": [
       "\n",
       "        <div id=\"WLRQC82SWfBWC35xrhmhBm\"></div>\n",
       "        <script>netpixi.call('WLRQC82SWfBWC35xrhmhBm', 'gFGaBMTAQdGaHJJQshijMZ', 'changeGraph', 'eyJpZCI6IDExOCwgInR5cGUiOiAidmVydGV4IiwgInByb3BzIjogeyJzaXplIjogNDIuNjY2NjY2NjY2NjY2NjY0fX0K');</script>\n",
       "    "
      ],
      "text/plain": [
       "<IPython.core.display.HTML object>"
      ]
     },
     "metadata": {},
     "output_type": "display_data"
    },
    {
     "data": {
      "text/html": [
       "\n",
       "        <div id=\"DzZEJKZGvsn8nRdesdUUhi\"></div>\n",
       "        <script>netpixi.call('DzZEJKZGvsn8nRdesdUUhi', 'gFGaBMTAQdGaHJJQshijMZ', 'changeGraph', 'eyJpZCI6IDc4LCAidHlwZSI6ICJ2ZXJ0ZXgiLCAicHJvcHMiOiB7ImNvbG9yIjogMTY3MTE2ODB9fQo=');</script>\n",
       "    "
      ],
      "text/plain": [
       "<IPython.core.display.HTML object>"
      ]
     },
     "metadata": {},
     "output_type": "display_data"
    },
    {
     "data": {
      "text/html": [
       "\n",
       "        <div id=\"KuEFLcYabPgLsGDC7SJKYv\"></div>\n",
       "        <script>netpixi.call('KuEFLcYabPgLsGDC7SJKYv', 'gFGaBMTAQdGaHJJQshijMZ', 'changeGraph', 'eyJpZCI6IDExOSwgInR5cGUiOiAidmVydGV4IiwgInByb3BzIjogeyJzaXplIjogMTMuODA3NTMxMzgwNzUzMTM4fX0K');</script>\n",
       "    "
      ],
      "text/plain": [
       "<IPython.core.display.HTML object>"
      ]
     },
     "metadata": {},
     "output_type": "display_data"
    },
    {
     "data": {
      "text/html": [
       "\n",
       "        <div id=\"9au9uLLuvVNBic7GrPTorX\"></div>\n",
       "        <script>netpixi.call('9au9uLLuvVNBic7GrPTorX', 'gFGaBMTAQdGaHJJQshijMZ', 'changeGraph', 'eyJpZCI6IDcyLCAidHlwZSI6ICJ2ZXJ0ZXgiLCAicHJvcHMiOiB7ImNvbG9yIjogMTY3MTE2ODB9fQo=');</script>\n",
       "    "
      ],
      "text/plain": [
       "<IPython.core.display.HTML object>"
      ]
     },
     "metadata": {},
     "output_type": "display_data"
    },
    {
     "data": {
      "text/html": [
       "\n",
       "        <div id=\"iVoTtVZzBPxwRkRFtdNETR\"></div>\n",
       "        <script>netpixi.call('iVoTtVZzBPxwRkRFtdNETR', 'gFGaBMTAQdGaHJJQshijMZ', 'changeGraph', 'eyJpZCI6IDEyMCwgInR5cGUiOiAidmVydGV4IiwgInByb3BzIjogeyJzaXplIjogMTEuMTI5NzA3MTEyOTcwNzEyfX0K');</script>\n",
       "    "
      ],
      "text/plain": [
       "<IPython.core.display.HTML object>"
      ]
     },
     "metadata": {},
     "output_type": "display_data"
    },
    {
     "data": {
      "text/html": [
       "\n",
       "        <div id=\"e588Txd3QYHyQ22yWywDhQ\"></div>\n",
       "        <script>netpixi.call('e588Txd3QYHyQ22yWywDhQ', 'gFGaBMTAQdGaHJJQshijMZ', 'changeGraph', 'eyJpZCI6IDgyLCAidHlwZSI6ICJ2ZXJ0ZXgiLCAicHJvcHMiOiB7ImNvbG9yIjogMTY3MTE2ODB9fQo=');</script>\n",
       "    "
      ],
      "text/plain": [
       "<IPython.core.display.HTML object>"
      ]
     },
     "metadata": {},
     "output_type": "display_data"
    },
    {
     "data": {
      "text/html": [
       "\n",
       "        <div id=\"J5g8HaPBf4KAsANZcsaNRH\"></div>\n",
       "        <script>netpixi.call('J5g8HaPBf4KAsANZcsaNRH', 'gFGaBMTAQdGaHJJQshijMZ', 'changeGraph', 'eyJpZCI6IDEyMSwgInR5cGUiOiAidmVydGV4IiwgInByb3BzIjogeyJzaXplIjogMTcuMDI5Mjg4NzAyOTI4ODd9fQo=');</script>\n",
       "    "
      ],
      "text/plain": [
       "<IPython.core.display.HTML object>"
      ]
     },
     "metadata": {},
     "output_type": "display_data"
    },
    {
     "data": {
      "text/html": [
       "\n",
       "        <div id=\"gW3CGcpxX6ibVDG9bk5qsZ\"></div>\n",
       "        <script>netpixi.call('gW3CGcpxX6ibVDG9bk5qsZ', 'gFGaBMTAQdGaHJJQshijMZ', 'changeGraph', 'eyJpZCI6IDgxLCAidHlwZSI6ICJ2ZXJ0ZXgiLCAicHJvcHMiOiB7ImNvbG9yIjogMTY3MTE2ODB9fQo=');</script>\n",
       "    "
      ],
      "text/plain": [
       "<IPython.core.display.HTML object>"
      ]
     },
     "metadata": {},
     "output_type": "display_data"
    },
    {
     "data": {
      "text/html": [
       "\n",
       "        <div id=\"XFKsn8pnfaR4WTrFbf5Tz4\"></div>\n",
       "        <script>netpixi.call('XFKsn8pnfaR4WTrFbf5Tz4', 'gFGaBMTAQdGaHJJQshijMZ', 'changeGraph', 'eyJpZCI6IDEyMiwgInR5cGUiOiAidmVydGV4IiwgInByb3BzIjogeyJzaXplIjogMTQuMDE2NzM2NDAxNjczNjR9fQo=');</script>\n",
       "    "
      ],
      "text/plain": [
       "<IPython.core.display.HTML object>"
      ]
     },
     "metadata": {},
     "output_type": "display_data"
    },
    {
     "data": {
      "text/html": [
       "\n",
       "        <div id=\"DeSyygvWUZHKAMx356REi6\"></div>\n",
       "        <script>netpixi.call('DeSyygvWUZHKAMx356REi6', 'gFGaBMTAQdGaHJJQshijMZ', 'changeGraph', 'eyJpZCI6IDgwLCAidHlwZSI6ICJ2ZXJ0ZXgiLCAicHJvcHMiOiB7ImNvbG9yIjogMTY3MTE2ODB9fQo=');</script>\n",
       "    "
      ],
      "text/plain": [
       "<IPython.core.display.HTML object>"
      ]
     },
     "metadata": {},
     "output_type": "display_data"
    },
    {
     "data": {
      "text/html": [
       "\n",
       "        <div id=\"Lm3niDhDA5WHvv2bYejPDd\"></div>\n",
       "        <script>netpixi.call('Lm3niDhDA5WHvv2bYejPDd', 'gFGaBMTAQdGaHJJQshijMZ', 'changeGraph', 'eyJpZCI6IDEyMywgInR5cGUiOiAidmVydGV4IiwgInByb3BzIjogeyJzaXplIjogMTIuODg3MDI5Mjg4NzAyOTI4fX0K');</script>\n",
       "    "
      ],
      "text/plain": [
       "<IPython.core.display.HTML object>"
      ]
     },
     "metadata": {},
     "output_type": "display_data"
    },
    {
     "data": {
      "text/html": [
       "\n",
       "        <div id=\"3FhKx2oeGAViZc5dif6uan\"></div>\n",
       "        <script>netpixi.call('3FhKx2oeGAViZc5dif6uan', 'gFGaBMTAQdGaHJJQshijMZ', 'changeGraph', 'eyJpZCI6IDc0LCAidHlwZSI6ICJ2ZXJ0ZXgiLCAicHJvcHMiOiB7ImNvbG9yIjogMTY3MTE2ODB9fQo=');</script>\n",
       "    "
      ],
      "text/plain": [
       "<IPython.core.display.HTML object>"
      ]
     },
     "metadata": {},
     "output_type": "display_data"
    },
    {
     "data": {
      "text/html": [
       "\n",
       "        <div id=\"2x2LQkrmzzjWs3L4GcojqN\"></div>\n",
       "        <script>netpixi.call('2x2LQkrmzzjWs3L4GcojqN', 'gFGaBMTAQdGaHJJQshijMZ', 'changeGraph', 'eyJpZCI6IDEyNCwgInR5cGUiOiAidmVydGV4IiwgInByb3BzIjogeyJzaXplIjogNDYuNX19Cg==');</script>\n",
       "    "
      ],
      "text/plain": [
       "<IPython.core.display.HTML object>"
      ]
     },
     "metadata": {},
     "output_type": "display_data"
    },
    {
     "data": {
      "text/html": [
       "\n",
       "        <div id=\"XDBJQrvUn4AqWfDpeF4atF\"></div>\n",
       "        <script>netpixi.call('XDBJQrvUn4AqWfDpeF4atF', 'gFGaBMTAQdGaHJJQshijMZ', 'changeGraph', 'eyJpZCI6IDgwLCAidHlwZSI6ICJ2ZXJ0ZXgiLCAicHJvcHMiOiB7ImNvbG9yIjogMTY3MTE2ODB9fQo=');</script>\n",
       "    "
      ],
      "text/plain": [
       "<IPython.core.display.HTML object>"
      ]
     },
     "metadata": {},
     "output_type": "display_data"
    },
    {
     "data": {
      "text/html": [
       "\n",
       "        <div id=\"M3dj4gjMQvnZvCreXjgz9p\"></div>\n",
       "        <script>netpixi.call('M3dj4gjMQvnZvCreXjgz9p', 'gFGaBMTAQdGaHJJQshijMZ', 'changeGraph', 'eyJpZCI6IDEyNSwgInR5cGUiOiAidmVydGV4IiwgInByb3BzIjogeyJzaXplIjogMTIuMDA4MzY4MjAwODM2ODJ9fQo=');</script>\n",
       "    "
      ],
      "text/plain": [
       "<IPython.core.display.HTML object>"
      ]
     },
     "metadata": {},
     "output_type": "display_data"
    },
    {
     "data": {
      "text/html": [
       "\n",
       "        <div id=\"FQddPgndH3HNaj6a37Jwsd\"></div>\n",
       "        <script>netpixi.call('FQddPgndH3HNaj6a37Jwsd', 'gFGaBMTAQdGaHJJQshijMZ', 'changeGraph', 'eyJpZCI6IDgyLCAidHlwZSI6ICJ2ZXJ0ZXgiLCAicHJvcHMiOiB7ImNvbG9yIjogMTY3MTE2ODB9fQo=');</script>\n",
       "    "
      ],
      "text/plain": [
       "<IPython.core.display.HTML object>"
      ]
     },
     "metadata": {},
     "output_type": "display_data"
    },
    {
     "data": {
      "text/html": [
       "\n",
       "        <div id=\"QyhdrJXttdBjufxzTQhKn5\"></div>\n",
       "        <script>netpixi.call('QyhdrJXttdBjufxzTQhKn5', 'gFGaBMTAQdGaHJJQshijMZ', 'changeGraph', 'eyJpZCI6IDEyNiwgInR5cGUiOiAidmVydGV4IiwgInByb3BzIjogeyJzaXplIjogMTkuMzcyMzg0OTM3MjM4NDkzfX0K');</script>\n",
       "    "
      ],
      "text/plain": [
       "<IPython.core.display.HTML object>"
      ]
     },
     "metadata": {},
     "output_type": "display_data"
    },
    {
     "data": {
      "text/html": [
       "\n",
       "        <div id=\"TfWBPv8TCYRqthrnyFCcaT\"></div>\n",
       "        <script>netpixi.call('TfWBPv8TCYRqthrnyFCcaT', 'gFGaBMTAQdGaHJJQshijMZ', 'changeGraph', 'eyJpZCI6IDg3LCAidHlwZSI6ICJ2ZXJ0ZXgiLCAicHJvcHMiOiB7ImNvbG9yIjogMTY3MTE2ODB9fQo=');</script>\n",
       "    "
      ],
      "text/plain": [
       "<IPython.core.display.HTML object>"
      ]
     },
     "metadata": {},
     "output_type": "display_data"
    },
    {
     "data": {
      "text/html": [
       "\n",
       "        <div id=\"XvZzJXuCZWgozYfnQXNJCg\"></div>\n",
       "        <script>netpixi.call('XvZzJXuCZWgozYfnQXNJCg', 'gFGaBMTAQdGaHJJQshijMZ', 'changeGraph', 'eyJpZCI6IDEyNywgInR5cGUiOiAidmVydGV4IiwgInByb3BzIjogeyJzaXplIjogMTMuNTU2NDg1MzU1NjQ4NTM1fX0K');</script>\n",
       "    "
      ],
      "text/plain": [
       "<IPython.core.display.HTML object>"
      ]
     },
     "metadata": {},
     "output_type": "display_data"
    },
    {
     "data": {
      "text/html": [
       "\n",
       "        <div id=\"QawNX6636XzfAfgbxxFHw5\"></div>\n",
       "        <script>netpixi.call('QawNX6636XzfAfgbxxFHw5', 'gFGaBMTAQdGaHJJQshijMZ', 'changeGraph', 'eyJpZCI6IDc2LCAidHlwZSI6ICJ2ZXJ0ZXgiLCAicHJvcHMiOiB7ImNvbG9yIjogMTY3MTE2ODB9fQo=');</script>\n",
       "    "
      ],
      "text/plain": [
       "<IPython.core.display.HTML object>"
      ]
     },
     "metadata": {},
     "output_type": "display_data"
    },
    {
     "data": {
      "text/html": [
       "\n",
       "        <div id=\"gaMazA9jkmkfG4LHFsPg3Y\"></div>\n",
       "        <script>netpixi.call('gaMazA9jkmkfG4LHFsPg3Y', 'gFGaBMTAQdGaHJJQshijMZ', 'changeGraph', 'eyJpZCI6IDEyOCwgInR5cGUiOiAidmVydGV4IiwgInByb3BzIjogeyJzaXplIjogMTguNzQ0NzY5ODc0NDc2OTg3fX0K');</script>\n",
       "    "
      ],
      "text/plain": [
       "<IPython.core.display.HTML object>"
      ]
     },
     "metadata": {},
     "output_type": "display_data"
    },
    {
     "data": {
      "text/html": [
       "\n",
       "        <div id=\"LAE4LrWwiJy7uAh6Vm72BU\"></div>\n",
       "        <script>netpixi.call('LAE4LrWwiJy7uAh6Vm72BU', 'gFGaBMTAQdGaHJJQshijMZ', 'changeGraph', 'eyJpZCI6IDczLCAidHlwZSI6ICJ2ZXJ0ZXgiLCAicHJvcHMiOiB7ImNvbG9yIjogMTY3MTE2ODB9fQo=');</script>\n",
       "    "
      ],
      "text/plain": [
       "<IPython.core.display.HTML object>"
      ]
     },
     "metadata": {},
     "output_type": "display_data"
    },
    {
     "data": {
      "text/html": [
       "\n",
       "        <div id=\"96ejbDcXmHFiJiUWx3mNzZ\"></div>\n",
       "        <script>netpixi.call('96ejbDcXmHFiJiUWx3mNzZ', 'gFGaBMTAQdGaHJJQshijMZ', 'changeGraph', 'eyJpZCI6IDEyOSwgInR5cGUiOiAidmVydGV4IiwgInByb3BzIjogeyJzaXplIjogNDMuODMzMzMzMzMzMzMzMzM2fX0K');</script>\n",
       "    "
      ],
      "text/plain": [
       "<IPython.core.display.HTML object>"
      ]
     },
     "metadata": {},
     "output_type": "display_data"
    },
    {
     "data": {
      "text/html": [
       "\n",
       "        <div id=\"SGMG4KZN9YQB2udwRj3GTb\"></div>\n",
       "        <script>netpixi.call('SGMG4KZN9YQB2udwRj3GTb', 'gFGaBMTAQdGaHJJQshijMZ', 'changeGraph', 'eyJpZCI6IDg0LCAidHlwZSI6ICJ2ZXJ0ZXgiLCAicHJvcHMiOiB7ImNvbG9yIjogMTY3MTE2ODB9fQo=');</script>\n",
       "    "
      ],
      "text/plain": [
       "<IPython.core.display.HTML object>"
      ]
     },
     "metadata": {},
     "output_type": "display_data"
    },
    {
     "data": {
      "text/html": [
       "\n",
       "        <div id=\"avSKhA69xDnQY9X9YzmcZU\"></div>\n",
       "        <script>netpixi.call('avSKhA69xDnQY9X9YzmcZU', 'gFGaBMTAQdGaHJJQshijMZ', 'changeGraph', 'eyJpZCI6IDEzMCwgInR5cGUiOiAidmVydGV4IiwgInByb3BzIjogeyJzaXplIjogMTEuNzE1NDgxMTcxNTQ4MTE3fX0K');</script>\n",
       "    "
      ],
      "text/plain": [
       "<IPython.core.display.HTML object>"
      ]
     },
     "metadata": {},
     "output_type": "display_data"
    },
    {
     "data": {
      "text/html": [
       "\n",
       "        <div id=\"U9UN9jkbPKDooQ5TogyeFS\"></div>\n",
       "        <script>netpixi.call('U9UN9jkbPKDooQ5TogyeFS', 'gFGaBMTAQdGaHJJQshijMZ', 'changeGraph', 'eyJpZCI6IDY0LCAidHlwZSI6ICJ2ZXJ0ZXgiLCAicHJvcHMiOiB7ImNvbG9yIjogMTY3MTE2ODB9fQo=');</script>\n",
       "    "
      ],
      "text/plain": [
       "<IPython.core.display.HTML object>"
      ]
     },
     "metadata": {},
     "output_type": "display_data"
    },
    {
     "data": {
      "text/html": [
       "\n",
       "        <div id=\"fQc7gGeeoys4vQKsJTdzAo\"></div>\n",
       "        <script>netpixi.call('fQc7gGeeoys4vQKsJTdzAo', 'gFGaBMTAQdGaHJJQshijMZ', 'changeGraph', 'eyJpZCI6IDEzMSwgInR5cGUiOiAidmVydGV4IiwgInByb3BzIjogeyJzaXplIjogMTguMzY4MjAwODM2ODIwMDgzfX0K');</script>\n",
       "    "
      ],
      "text/plain": [
       "<IPython.core.display.HTML object>"
      ]
     },
     "metadata": {},
     "output_type": "display_data"
    },
    {
     "data": {
      "text/html": [
       "\n",
       "        <div id=\"QfLRCR5dQbTteaqyyrf3sJ\"></div>\n",
       "        <script>netpixi.call('QfLRCR5dQbTteaqyyrf3sJ', 'gFGaBMTAQdGaHJJQshijMZ', 'changeGraph', 'eyJpZCI6IDc5LCAidHlwZSI6ICJ2ZXJ0ZXgiLCAicHJvcHMiOiB7ImNvbG9yIjogMTY3MTE2ODB9fQo=');</script>\n",
       "    "
      ],
      "text/plain": [
       "<IPython.core.display.HTML object>"
      ]
     },
     "metadata": {},
     "output_type": "display_data"
    },
    {
     "data": {
      "text/html": [
       "\n",
       "        <div id=\"a5jrDW9jYohmueit4dUN6n\"></div>\n",
       "        <script>netpixi.call('a5jrDW9jYohmueit4dUN6n', 'gFGaBMTAQdGaHJJQshijMZ', 'changeGraph', 'eyJpZCI6IDEzMiwgInR5cGUiOiAidmVydGV4IiwgInByb3BzIjogeyJzaXplIjogNDUuNX19Cg==');</script>\n",
       "    "
      ],
      "text/plain": [
       "<IPython.core.display.HTML object>"
      ]
     },
     "metadata": {},
     "output_type": "display_data"
    },
    {
     "data": {
      "text/html": [
       "\n",
       "        <div id=\"kPcBRopmugDqA3ci57Viiw\"></div>\n",
       "        <script>netpixi.call('kPcBRopmugDqA3ci57Viiw', 'gFGaBMTAQdGaHJJQshijMZ', 'changeGraph', 'eyJpZCI6IDY2LCAidHlwZSI6ICJ2ZXJ0ZXgiLCAicHJvcHMiOiB7ImNvbG9yIjogMTY3MTE2ODB9fQo=');</script>\n",
       "    "
      ],
      "text/plain": [
       "<IPython.core.display.HTML object>"
      ]
     },
     "metadata": {},
     "output_type": "display_data"
    },
    {
     "data": {
      "text/html": [
       "\n",
       "        <div id=\"SAMvMLAMw4fsSG6c9i8n6Y\"></div>\n",
       "        <script>netpixi.call('SAMvMLAMw4fsSG6c9i8n6Y', 'gFGaBMTAQdGaHJJQshijMZ', 'changeGraph', 'eyJpZCI6IDEzMywgInR5cGUiOiAidmVydGV4IiwgInByb3BzIjogeyJzaXplIjogMTguOTUzOTc0ODk1Mzk3NDg2fX0K');</script>\n",
       "    "
      ],
      "text/plain": [
       "<IPython.core.display.HTML object>"
      ]
     },
     "metadata": {},
     "output_type": "display_data"
    },
    {
     "data": {
      "text/html": [
       "\n",
       "        <div id=\"BddHVHCpHPedoMFmGvZ2nV\"></div>\n",
       "        <script>netpixi.call('BddHVHCpHPedoMFmGvZ2nV', 'gFGaBMTAQdGaHJJQshijMZ', 'changeGraph', 'eyJpZCI6IDc0LCAidHlwZSI6ICJ2ZXJ0ZXgiLCAicHJvcHMiOiB7ImNvbG9yIjogMTY3MTE2ODB9fQo=');</script>\n",
       "    "
      ],
      "text/plain": [
       "<IPython.core.display.HTML object>"
      ]
     },
     "metadata": {},
     "output_type": "display_data"
    },
    {
     "data": {
      "text/html": [
       "\n",
       "        <div id=\"eCjoEv6Jr3a23uuAMx93nZ\"></div>\n",
       "        <script>netpixi.call('eCjoEv6Jr3a23uuAMx93nZ', 'gFGaBMTAQdGaHJJQshijMZ', 'changeGraph', 'eyJpZCI6IDEzNCwgInR5cGUiOiAidmVydGV4IiwgInByb3BzIjogeyJzaXplIjogMTkuNjIzNDMwOTYyMzQzMDk3fX0K');</script>\n",
       "    "
      ],
      "text/plain": [
       "<IPython.core.display.HTML object>"
      ]
     },
     "metadata": {},
     "output_type": "display_data"
    },
    {
     "data": {
      "text/html": [
       "\n",
       "        <div id=\"XDuoUCSxqK8RUFxoxB8Cw7\"></div>\n",
       "        <script>netpixi.call('XDuoUCSxqK8RUFxoxB8Cw7', 'gFGaBMTAQdGaHJJQshijMZ', 'changeGraph', 'eyJpZCI6IDcwLCAidHlwZSI6ICJ2ZXJ0ZXgiLCAicHJvcHMiOiB7ImNvbG9yIjogMTY3MTE2ODB9fQo=');</script>\n",
       "    "
      ],
      "text/plain": [
       "<IPython.core.display.HTML object>"
      ]
     },
     "metadata": {},
     "output_type": "display_data"
    },
    {
     "data": {
      "text/html": [
       "\n",
       "        <div id=\"nMbhXYL5tC24G2GW56sX4u\"></div>\n",
       "        <script>netpixi.call('nMbhXYL5tC24G2GW56sX4u', 'gFGaBMTAQdGaHJJQshijMZ', 'changeGraph', 'eyJpZCI6IDEzNSwgInR5cGUiOiAidmVydGV4IiwgInByb3BzIjogeyJzaXplIjogMTcuNzgyNDI2Nzc4MjQyNjc3fX0K');</script>\n",
       "    "
      ],
      "text/plain": [
       "<IPython.core.display.HTML object>"
      ]
     },
     "metadata": {},
     "output_type": "display_data"
    },
    {
     "data": {
      "text/html": [
       "\n",
       "        <div id=\"enskTtBT4RX2oXvQxMagzZ\"></div>\n",
       "        <script>netpixi.call('enskTtBT4RX2oXvQxMagzZ', 'gFGaBMTAQdGaHJJQshijMZ', 'changeGraph', 'eyJpZCI6IDY0LCAidHlwZSI6ICJ2ZXJ0ZXgiLCAicHJvcHMiOiB7ImNvbG9yIjogMTY3MTE2ODB9fQo=');</script>\n",
       "    "
      ],
      "text/plain": [
       "<IPython.core.display.HTML object>"
      ]
     },
     "metadata": {},
     "output_type": "display_data"
    },
    {
     "data": {
      "text/html": [
       "\n",
       "        <div id=\"m9LxcAhgMNwAjDm8m3wyWq\"></div>\n",
       "        <script>netpixi.call('m9LxcAhgMNwAjDm8m3wyWq', 'gFGaBMTAQdGaHJJQshijMZ', 'changeGraph', 'eyJpZCI6IDEzNiwgInR5cGUiOiAidmVydGV4IiwgInByb3BzIjogeyJzaXplIjogMTguNjE5MjQ2ODYxOTI0Njg3fX0K');</script>\n",
       "    "
      ],
      "text/plain": [
       "<IPython.core.display.HTML object>"
      ]
     },
     "metadata": {},
     "output_type": "display_data"
    },
    {
     "data": {
      "text/html": [
       "\n",
       "        <div id=\"Bgmp9C8C4MM99HVb32mWhD\"></div>\n",
       "        <script>netpixi.call('Bgmp9C8C4MM99HVb32mWhD', 'gFGaBMTAQdGaHJJQshijMZ', 'changeGraph', 'eyJpZCI6IDgxLCAidHlwZSI6ICJ2ZXJ0ZXgiLCAicHJvcHMiOiB7ImNvbG9yIjogMTY3MTE2ODB9fQo=');</script>\n",
       "    "
      ],
      "text/plain": [
       "<IPython.core.display.HTML object>"
      ]
     },
     "metadata": {},
     "output_type": "display_data"
    },
    {
     "data": {
      "text/html": [
       "\n",
       "        <div id=\"FWjwaEXcdG88cLC4xoFzb2\"></div>\n",
       "        <script>netpixi.call('FWjwaEXcdG88cLC4xoFzb2', 'gFGaBMTAQdGaHJJQshijMZ', 'changeGraph', 'eyJpZCI6IDEzNywgInR5cGUiOiAidmVydGV4IiwgInByb3BzIjogeyJzaXplIjogMTQuNjQ0MzUxNDY0NDM1MTQ3fX0K');</script>\n",
       "    "
      ],
      "text/plain": [
       "<IPython.core.display.HTML object>"
      ]
     },
     "metadata": {},
     "output_type": "display_data"
    },
    {
     "data": {
      "text/html": [
       "\n",
       "        <div id=\"WYMknk2GFyvmUmz75rhF5Y\"></div>\n",
       "        <script>netpixi.call('WYMknk2GFyvmUmz75rhF5Y', 'gFGaBMTAQdGaHJJQshijMZ', 'changeGraph', 'eyJpZCI6IDc3LCAidHlwZSI6ICJ2ZXJ0ZXgiLCAicHJvcHMiOiB7ImNvbG9yIjogMTY3MTE2ODB9fQo=');</script>\n",
       "    "
      ],
      "text/plain": [
       "<IPython.core.display.HTML object>"
      ]
     },
     "metadata": {},
     "output_type": "display_data"
    },
    {
     "data": {
      "text/html": [
       "\n",
       "        <div id=\"bKngLvh4J7MgATGb2egQXV\"></div>\n",
       "        <script>netpixi.call('bKngLvh4J7MgATGb2egQXV', 'gFGaBMTAQdGaHJJQshijMZ', 'changeGraph', 'eyJpZCI6IDEzOCwgInR5cGUiOiAidmVydGV4IiwgInByb3BzIjogeyJzaXplIjogNDcuNjY2NjY2NjY2NjY2NjY0fX0K');</script>\n",
       "    "
      ],
      "text/plain": [
       "<IPython.core.display.HTML object>"
      ]
     },
     "metadata": {},
     "output_type": "display_data"
    },
    {
     "data": {
      "text/html": [
       "\n",
       "        <div id=\"YYcL2cfKDJ27HjZMZknkFE\"></div>\n",
       "        <script>netpixi.call('YYcL2cfKDJ27HjZMZknkFE', 'gFGaBMTAQdGaHJJQshijMZ', 'changeGraph', 'eyJpZCI6IDgzLCAidHlwZSI6ICJ2ZXJ0ZXgiLCAicHJvcHMiOiB7ImNvbG9yIjogMTY3MTE2ODB9fQo=');</script>\n",
       "    "
      ],
      "text/plain": [
       "<IPython.core.display.HTML object>"
      ]
     },
     "metadata": {},
     "output_type": "display_data"
    },
    {
     "data": {
      "text/html": [
       "\n",
       "        <div id=\"mtMCjHBB9u9NaoZ9e4X5tA\"></div>\n",
       "        <script>netpixi.call('mtMCjHBB9u9NaoZ9e4X5tA', 'gFGaBMTAQdGaHJJQshijMZ', 'changeGraph', 'eyJpZCI6IDEzOSwgInR5cGUiOiAidmVydGV4IiwgInByb3BzIjogeyJzaXplIjogNDguMTY2NjY2NjY2NjY2NjY0fX0K');</script>\n",
       "    "
      ],
      "text/plain": [
       "<IPython.core.display.HTML object>"
      ]
     },
     "metadata": {},
     "output_type": "display_data"
    },
    {
     "data": {
      "text/html": [
       "\n",
       "        <div id=\"EiFBCkWFazzs8QpviS4kD9\"></div>\n",
       "        <script>netpixi.call('EiFBCkWFazzs8QpviS4kD9', 'gFGaBMTAQdGaHJJQshijMZ', 'changeGraph', 'eyJpZCI6IDc4LCAidHlwZSI6ICJ2ZXJ0ZXgiLCAicHJvcHMiOiB7ImNvbG9yIjogMTY3MTE2ODB9fQo=');</script>\n",
       "    "
      ],
      "text/plain": [
       "<IPython.core.display.HTML object>"
      ]
     },
     "metadata": {},
     "output_type": "display_data"
    },
    {
     "data": {
      "text/html": [
       "\n",
       "        <div id=\"YndkJxNttJBxg5BNiNeVj6\"></div>\n",
       "        <script>netpixi.call('YndkJxNttJBxg5BNiNeVj6', 'gFGaBMTAQdGaHJJQshijMZ', 'changeGraph', 'eyJpZCI6IDE0MCwgInR5cGUiOiAidmVydGV4IiwgInByb3BzIjogeyJzaXplIjogMTQuODExNzE1NDgxMTcxNTQ4fX0K');</script>\n",
       "    "
      ],
      "text/plain": [
       "<IPython.core.display.HTML object>"
      ]
     },
     "metadata": {},
     "output_type": "display_data"
    },
    {
     "data": {
      "text/html": [
       "\n",
       "        <div id=\"mtztJxXnuZUWiVEkauPSny\"></div>\n",
       "        <script>netpixi.call('mtztJxXnuZUWiVEkauPSny', 'gFGaBMTAQdGaHJJQshijMZ', 'changeGraph', 'eyJpZCI6IDgzLCAidHlwZSI6ICJ2ZXJ0ZXgiLCAicHJvcHMiOiB7ImNvbG9yIjogMTY3MTE2ODB9fQo=');</script>\n",
       "    "
      ],
      "text/plain": [
       "<IPython.core.display.HTML object>"
      ]
     },
     "metadata": {},
     "output_type": "display_data"
    },
    {
     "data": {
      "text/html": [
       "\n",
       "        <div id=\"fvEzKo4FSr8Dzb5sYzosWG\"></div>\n",
       "        <script>netpixi.call('fvEzKo4FSr8Dzb5sYzosWG', 'gFGaBMTAQdGaHJJQshijMZ', 'changeGraph', 'eyJpZCI6IDE0MSwgInR5cGUiOiAidmVydGV4IiwgInByb3BzIjogeyJzaXplIjogMTEuMjU1MjMwMTI1NTIzMDEzfX0K');</script>\n",
       "    "
      ],
      "text/plain": [
       "<IPython.core.display.HTML object>"
      ]
     },
     "metadata": {},
     "output_type": "display_data"
    },
    {
     "data": {
      "text/html": [
       "\n",
       "        <div id=\"Jm3vrQ38bC3kjpEMV2SQpo\"></div>\n",
       "        <script>netpixi.call('Jm3vrQ38bC3kjpEMV2SQpo', 'gFGaBMTAQdGaHJJQshijMZ', 'changeGraph', 'eyJpZCI6IDc4LCAidHlwZSI6ICJ2ZXJ0ZXgiLCAicHJvcHMiOiB7ImNvbG9yIjogMTY3MTE2ODB9fQo=');</script>\n",
       "    "
      ],
      "text/plain": [
       "<IPython.core.display.HTML object>"
      ]
     },
     "metadata": {},
     "output_type": "display_data"
    },
    {
     "data": {
      "text/html": [
       "\n",
       "        <div id=\"gYv7oLBMDxqHGPkhW9bX3i\"></div>\n",
       "        <script>netpixi.call('gYv7oLBMDxqHGPkhW9bX3i', 'gFGaBMTAQdGaHJJQshijMZ', 'changeGraph', 'eyJpZCI6IDE0MiwgInR5cGUiOiAidmVydGV4IiwgInByb3BzIjogeyJzaXplIjogMTMuNzIzODQ5MzcyMzg0OTM3fX0K');</script>\n",
       "    "
      ],
      "text/plain": [
       "<IPython.core.display.HTML object>"
      ]
     },
     "metadata": {},
     "output_type": "display_data"
    },
    {
     "data": {
      "text/html": [
       "\n",
       "        <div id=\"iLZDqQaDVaxR5Yso5r58p7\"></div>\n",
       "        <script>netpixi.call('iLZDqQaDVaxR5Yso5r58p7', 'gFGaBMTAQdGaHJJQshijMZ', 'changeGraph', 'eyJpZCI6IDc4LCAidHlwZSI6ICJ2ZXJ0ZXgiLCAicHJvcHMiOiB7ImNvbG9yIjogMTY3MTE2ODB9fQo=');</script>\n",
       "    "
      ],
      "text/plain": [
       "<IPython.core.display.HTML object>"
      ]
     },
     "metadata": {},
     "output_type": "display_data"
    },
    {
     "data": {
      "text/html": [
       "\n",
       "        <div id=\"hQ5JoJP9sLHaz6fxYRLFAf\"></div>\n",
       "        <script>netpixi.call('hQ5JoJP9sLHaz6fxYRLFAf', 'gFGaBMTAQdGaHJJQshijMZ', 'changeGraph', 'eyJpZCI6IDE0MywgInR5cGUiOiAidmVydGV4IiwgInByb3BzIjogeyJzaXplIjogMTUuNjA2Njk0NTYwNjY5NDU1fX0K');</script>\n",
       "    "
      ],
      "text/plain": [
       "<IPython.core.display.HTML object>"
      ]
     },
     "metadata": {},
     "output_type": "display_data"
    },
    {
     "data": {
      "text/html": [
       "\n",
       "        <div id=\"Y95wkHrpNG3JtSkPCsaeUU\"></div>\n",
       "        <script>netpixi.call('Y95wkHrpNG3JtSkPCsaeUU', 'gFGaBMTAQdGaHJJQshijMZ', 'changeGraph', 'eyJpZCI6IDc4LCAidHlwZSI6ICJ2ZXJ0ZXgiLCAicHJvcHMiOiB7ImNvbG9yIjogMTY3MTE2ODB9fQo=');</script>\n",
       "    "
      ],
      "text/plain": [
       "<IPython.core.display.HTML object>"
      ]
     },
     "metadata": {},
     "output_type": "display_data"
    },
    {
     "data": {
      "text/html": [
       "\n",
       "        <div id=\"2ZF7wzP8yqDdC5XiCMH69j\"></div>\n",
       "        <script>netpixi.call('2ZF7wzP8yqDdC5XiCMH69j', 'gFGaBMTAQdGaHJJQshijMZ', 'changeGraph', 'eyJpZCI6IDE0NCwgInR5cGUiOiAidmVydGV4IiwgInByb3BzIjogeyJzaXplIjogMTEuMzM4OTEyMTMzODkxMjEzfX0K');</script>\n",
       "    "
      ],
      "text/plain": [
       "<IPython.core.display.HTML object>"
      ]
     },
     "metadata": {},
     "output_type": "display_data"
    },
    {
     "data": {
      "text/html": [
       "\n",
       "        <div id=\"DbpnA3Sm2yqZLseubRQmJR\"></div>\n",
       "        <script>netpixi.call('DbpnA3Sm2yqZLseubRQmJR', 'gFGaBMTAQdGaHJJQshijMZ', 'changeGraph', 'eyJpZCI6IDUzLCAidHlwZSI6ICJ2ZXJ0ZXgiLCAicHJvcHMiOiB7ImNvbG9yIjogMTY3MTE2ODB9fQo=');</script>\n",
       "    "
      ],
      "text/plain": [
       "<IPython.core.display.HTML object>"
      ]
     },
     "metadata": {},
     "output_type": "display_data"
    },
    {
     "data": {
      "text/html": [
       "\n",
       "        <div id=\"nwXPUMaJ79BWrWd5NP39oX\"></div>\n",
       "        <script>netpixi.call('nwXPUMaJ79BWrWd5NP39oX', 'gFGaBMTAQdGaHJJQshijMZ', 'changeGraph', 'eyJpZCI6IDE0NSwgInR5cGUiOiAidmVydGV4IiwgInByb3BzIjogeyJzaXplIjogMTYuMDI1MTA0NjAyNTEwNDZ9fQo=');</script>\n",
       "    "
      ],
      "text/plain": [
       "<IPython.core.display.HTML object>"
      ]
     },
     "metadata": {},
     "output_type": "display_data"
    },
    {
     "data": {
      "text/html": [
       "\n",
       "        <div id=\"558XJACYrmYdBi2PtP93nD\"></div>\n",
       "        <script>netpixi.call('558XJACYrmYdBi2PtP93nD', 'gFGaBMTAQdGaHJJQshijMZ', 'changeGraph', 'eyJpZCI6IDk0LCAidHlwZSI6ICJ2ZXJ0ZXgiLCAicHJvcHMiOiB7ImNvbG9yIjogMTY3MTE2ODB9fQo=');</script>\n",
       "    "
      ],
      "text/plain": [
       "<IPython.core.display.HTML object>"
      ]
     },
     "metadata": {},
     "output_type": "display_data"
    },
    {
     "data": {
      "text/html": [
       "\n",
       "        <div id=\"bDL4sdkqTyrWVBiLnViCD9\"></div>\n",
       "        <script>netpixi.call('bDL4sdkqTyrWVBiLnViCD9', 'gFGaBMTAQdGaHJJQshijMZ', 'changeGraph', 'eyJpZCI6IDE0NiwgInR5cGUiOiAidmVydGV4IiwgInByb3BzIjogeyJzaXplIjogMTMuODkxMjEzMzg5MTIxMzM4fX0K');</script>\n",
       "    "
      ],
      "text/plain": [
       "<IPython.core.display.HTML object>"
      ]
     },
     "metadata": {},
     "output_type": "display_data"
    },
    {
     "data": {
      "text/html": [
       "\n",
       "        <div id=\"i8HTSHYUgfosvtq8X4hKk6\"></div>\n",
       "        <script>netpixi.call('i8HTSHYUgfosvtq8X4hKk6', 'gFGaBMTAQdGaHJJQshijMZ', 'changeGraph', 'eyJpZCI6IDc2LCAidHlwZSI6ICJ2ZXJ0ZXgiLCAicHJvcHMiOiB7ImNvbG9yIjogMTY3MTE2ODB9fQo=');</script>\n",
       "    "
      ],
      "text/plain": [
       "<IPython.core.display.HTML object>"
      ]
     },
     "metadata": {},
     "output_type": "display_data"
    },
    {
     "data": {
      "text/html": [
       "\n",
       "        <div id=\"5Qi43F2GXv2b6HTJ7Errh8\"></div>\n",
       "        <script>netpixi.call('5Qi43F2GXv2b6HTJ7Errh8', 'gFGaBMTAQdGaHJJQshijMZ', 'changeGraph', 'eyJpZCI6IDE0NywgInR5cGUiOiAidmVydGV4IiwgInByb3BzIjogeyJzaXplIjogMTMuNDMwOTYyMzQzMDk2MjMzfX0K');</script>\n",
       "    "
      ],
      "text/plain": [
       "<IPython.core.display.HTML object>"
      ]
     },
     "metadata": {},
     "output_type": "display_data"
    },
    {
     "data": {
      "text/html": [
       "\n",
       "        <div id=\"EwZn5gdkd9a3Fbwxpmov6R\"></div>\n",
       "        <script>netpixi.call('EwZn5gdkd9a3Fbwxpmov6R', 'gFGaBMTAQdGaHJJQshijMZ', 'changeGraph', 'eyJpZCI6IDU0LCAidHlwZSI6ICJ2ZXJ0ZXgiLCAicHJvcHMiOiB7ImNvbG9yIjogMTY3MTE2ODB9fQo=');</script>\n",
       "    "
      ],
      "text/plain": [
       "<IPython.core.display.HTML object>"
      ]
     },
     "metadata": {},
     "output_type": "display_data"
    },
    {
     "data": {
      "text/html": [
       "\n",
       "        <div id=\"Qwp5GCAn66ZjD7LNCyo67G\"></div>\n",
       "        <script>netpixi.call('Qwp5GCAn66ZjD7LNCyo67G', 'gFGaBMTAQdGaHJJQshijMZ', 'changeGraph', 'eyJpZCI6IDE0OCwgInR5cGUiOiAidmVydGV4IiwgInByb3BzIjogeyJzaXplIjogMTAuODc4NjYxMDg3ODY2MTA4fX0K');</script>\n",
       "    "
      ],
      "text/plain": [
       "<IPython.core.display.HTML object>"
      ]
     },
     "metadata": {},
     "output_type": "display_data"
    },
    {
     "data": {
      "text/html": [
       "\n",
       "        <div id=\"EkjAcqvCHQELcSpfWm3KSt\"></div>\n",
       "        <script>netpixi.call('EkjAcqvCHQELcSpfWm3KSt', 'gFGaBMTAQdGaHJJQshijMZ', 'changeGraph', 'eyJpZCI6IDY4LCAidHlwZSI6ICJ2ZXJ0ZXgiLCAicHJvcHMiOiB7ImNvbG9yIjogMTY3MTE2ODB9fQo=');</script>\n",
       "    "
      ],
      "text/plain": [
       "<IPython.core.display.HTML object>"
      ]
     },
     "metadata": {},
     "output_type": "display_data"
    },
    {
     "data": {
      "text/html": [
       "\n",
       "        <div id=\"cyeXUFqmHJiK7GYvtE9zLn\"></div>\n",
       "        <script>netpixi.call('cyeXUFqmHJiK7GYvtE9zLn', 'gFGaBMTAQdGaHJJQshijMZ', 'changeGraph', 'eyJpZCI6IDE0OSwgInR5cGUiOiAidmVydGV4IiwgInByb3BzIjogeyJzaXplIjogNDYuMH19Cg==');</script>\n",
       "    "
      ],
      "text/plain": [
       "<IPython.core.display.HTML object>"
      ]
     },
     "metadata": {},
     "output_type": "display_data"
    },
    {
     "data": {
      "text/html": [
       "\n",
       "        <div id=\"668exBdWLEpLdzQGNSRFiJ\"></div>\n",
       "        <script>netpixi.call('668exBdWLEpLdzQGNSRFiJ', 'gFGaBMTAQdGaHJJQshijMZ', 'changeGraph', 'eyJpZCI6IDY1LCAidHlwZSI6ICJ2ZXJ0ZXgiLCAicHJvcHMiOiB7ImNvbG9yIjogMTY3MTE2ODB9fQo=');</script>\n",
       "    "
      ],
      "text/plain": [
       "<IPython.core.display.HTML object>"
      ]
     },
     "metadata": {},
     "output_type": "display_data"
    },
    {
     "data": {
      "text/html": [
       "\n",
       "        <div id=\"3rUjzzwkGaV7wErRAruMwn\"></div>\n",
       "        <script>netpixi.call('3rUjzzwkGaV7wErRAruMwn', 'gFGaBMTAQdGaHJJQshijMZ', 'changeGraph', 'eyJpZCI6IDE1MCwgInR5cGUiOiAidmVydGV4IiwgInByb3BzIjogeyJzaXplIjogNDUuMTY2NjY2NjY2NjY2NjY0fX0K');</script>\n",
       "    "
      ],
      "text/plain": [
       "<IPython.core.display.HTML object>"
      ]
     },
     "metadata": {},
     "output_type": "display_data"
    },
    {
     "data": {
      "text/html": [
       "\n",
       "        <div id=\"gXeFBNN4sSH5d6cg3fqFLi\"></div>\n",
       "        <script>netpixi.call('gXeFBNN4sSH5d6cg3fqFLi', 'gFGaBMTAQdGaHJJQshijMZ', 'changeGraph', 'eyJpZCI6IDkwLCAidHlwZSI6ICJ2ZXJ0ZXgiLCAicHJvcHMiOiB7ImNvbG9yIjogMTY3MTE2ODB9fQo=');</script>\n",
       "    "
      ],
      "text/plain": [
       "<IPython.core.display.HTML object>"
      ]
     },
     "metadata": {},
     "output_type": "display_data"
    },
    {
     "data": {
      "text/html": [
       "\n",
       "        <div id=\"Puz6MSxcQT45SwYkERr45z\"></div>\n",
       "        <script>netpixi.call('Puz6MSxcQT45SwYkERr45z', 'gFGaBMTAQdGaHJJQshijMZ', 'changeGraph', 'eyJpZCI6IDE1MSwgInR5cGUiOiAidmVydGV4IiwgInByb3BzIjogeyJzaXplIjogMTguMzI2MzU5ODMyNjM1OTh9fQo=');</script>\n",
       "    "
      ],
      "text/plain": [
       "<IPython.core.display.HTML object>"
      ]
     },
     "metadata": {},
     "output_type": "display_data"
    },
    {
     "data": {
      "text/html": [
       "\n",
       "        <div id=\"AVhRuAmcra7vHkciPmBtge\"></div>\n",
       "        <script>netpixi.call('AVhRuAmcra7vHkciPmBtge', 'gFGaBMTAQdGaHJJQshijMZ', 'changeGraph', 'eyJpZCI6IDg4LCAidHlwZSI6ICJ2ZXJ0ZXgiLCAicHJvcHMiOiB7ImNvbG9yIjogMTY3MTE2ODB9fQo=');</script>\n",
       "    "
      ],
      "text/plain": [
       "<IPython.core.display.HTML object>"
      ]
     },
     "metadata": {},
     "output_type": "display_data"
    },
    {
     "data": {
      "text/html": [
       "\n",
       "        <div id=\"ZyNZYXcUFYKdHGKJaRKVyH\"></div>\n",
       "        <script>netpixi.call('ZyNZYXcUFYKdHGKJaRKVyH', 'gFGaBMTAQdGaHJJQshijMZ', 'changeGraph', 'eyJpZCI6IDE1MiwgInR5cGUiOiAidmVydGV4IiwgInByb3BzIjogeyJzaXplIjogMTIuNDY4NjE5MjQ2ODYxOTI1fX0K');</script>\n",
       "    "
      ],
      "text/plain": [
       "<IPython.core.display.HTML object>"
      ]
     },
     "metadata": {},
     "output_type": "display_data"
    },
    {
     "data": {
      "text/html": [
       "\n",
       "        <div id=\"8pZWqQU6AZDMYSArMGSwFn\"></div>\n",
       "        <script>netpixi.call('8pZWqQU6AZDMYSArMGSwFn', 'gFGaBMTAQdGaHJJQshijMZ', 'changeGraph', 'eyJpZCI6IDg2LCAidHlwZSI6ICJ2ZXJ0ZXgiLCAicHJvcHMiOiB7ImNvbG9yIjogMTY3MTE2ODB9fQo=');</script>\n",
       "    "
      ],
      "text/plain": [
       "<IPython.core.display.HTML object>"
      ]
     },
     "metadata": {},
     "output_type": "display_data"
    },
    {
     "data": {
      "text/html": [
       "\n",
       "        <div id=\"a32AaME8Tv59va5a8fibkB\"></div>\n",
       "        <script>netpixi.call('a32AaME8Tv59va5a8fibkB', 'gFGaBMTAQdGaHJJQshijMZ', 'changeGraph', 'eyJpZCI6IDE1MywgInR5cGUiOiAidmVydGV4IiwgInByb3BzIjogeyJzaXplIjogMTMuMjIxNzU3MzIyMTc1NzMyfX0K');</script>\n",
       "    "
      ],
      "text/plain": [
       "<IPython.core.display.HTML object>"
      ]
     },
     "metadata": {},
     "output_type": "display_data"
    },
    {
     "data": {
      "text/html": [
       "\n",
       "        <div id=\"VFwRnLfaNEk5vmdZfYrzvU\"></div>\n",
       "        <script>netpixi.call('VFwRnLfaNEk5vmdZfYrzvU', 'gFGaBMTAQdGaHJJQshijMZ', 'changeGraph', 'eyJpZCI6IDcyLCAidHlwZSI6ICJ2ZXJ0ZXgiLCAicHJvcHMiOiB7ImNvbG9yIjogMTY3MTE2ODB9fQo=');</script>\n",
       "    "
      ],
      "text/plain": [
       "<IPython.core.display.HTML object>"
      ]
     },
     "metadata": {},
     "output_type": "display_data"
    },
    {
     "data": {
      "text/html": [
       "\n",
       "        <div id=\"gVkrdujt7MPhxU9UnjQp2t\"></div>\n",
       "        <script>netpixi.call('gVkrdujt7MPhxU9UnjQp2t', 'gFGaBMTAQdGaHJJQshijMZ', 'changeGraph', 'eyJpZCI6IDE1NCwgInR5cGUiOiAidmVydGV4IiwgInByb3BzIjogeyJzaXplIjogMTguNzAyOTI4ODcwMjkyODg3fX0K');</script>\n",
       "    "
      ],
      "text/plain": [
       "<IPython.core.display.HTML object>"
      ]
     },
     "metadata": {},
     "output_type": "display_data"
    },
    {
     "data": {
      "text/html": [
       "\n",
       "        <div id=\"nG3wyDpWCw6Q2fbBM8mBga\"></div>\n",
       "        <script>netpixi.call('nG3wyDpWCw6Q2fbBM8mBga', 'gFGaBMTAQdGaHJJQshijMZ', 'changeGraph', 'eyJpZCI6IDgyLCAidHlwZSI6ICJ2ZXJ0ZXgiLCAicHJvcHMiOiB7ImNvbG9yIjogMTY3MTE2ODB9fQo=');</script>\n",
       "    "
      ],
      "text/plain": [
       "<IPython.core.display.HTML object>"
      ]
     },
     "metadata": {},
     "output_type": "display_data"
    },
    {
     "data": {
      "text/html": [
       "\n",
       "        <div id=\"bmtmL6hSmSYBnzLihFiKy5\"></div>\n",
       "        <script>netpixi.call('bmtmL6hSmSYBnzLihFiKy5', 'gFGaBMTAQdGaHJJQshijMZ', 'changeGraph', 'eyJpZCI6IDE1NSwgInR5cGUiOiAidmVydGV4IiwgInByb3BzIjogeyJzaXplIjogMTYuOTAzNzY1NjkwMzc2NTY3fX0K');</script>\n",
       "    "
      ],
      "text/plain": [
       "<IPython.core.display.HTML object>"
      ]
     },
     "metadata": {},
     "output_type": "display_data"
    },
    {
     "data": {
      "text/html": [
       "\n",
       "        <div id=\"CR2rir6KRiWyGSknqpzdiR\"></div>\n",
       "        <script>netpixi.call('CR2rir6KRiWyGSknqpzdiR', 'gFGaBMTAQdGaHJJQshijMZ', 'changeGraph', 'eyJpZCI6IDg2LCAidHlwZSI6ICJ2ZXJ0ZXgiLCAicHJvcHMiOiB7ImNvbG9yIjogMTY3MTE2ODB9fQo=');</script>\n",
       "    "
      ],
      "text/plain": [
       "<IPython.core.display.HTML object>"
      ]
     },
     "metadata": {},
     "output_type": "display_data"
    },
    {
     "data": {
      "text/html": [
       "\n",
       "        <div id=\"QWwAPGmZP9xKBDwmCXU4sc\"></div>\n",
       "        <script>netpixi.call('QWwAPGmZP9xKBDwmCXU4sc', 'gFGaBMTAQdGaHJJQshijMZ', 'changeGraph', 'eyJpZCI6IDE1NiwgInR5cGUiOiAidmVydGV4IiwgInByb3BzIjogeyJzaXplIjogNDcuNX19Cg==');</script>\n",
       "    "
      ],
      "text/plain": [
       "<IPython.core.display.HTML object>"
      ]
     },
     "metadata": {},
     "output_type": "display_data"
    },
    {
     "data": {
      "text/html": [
       "\n",
       "        <div id=\"JggzZixiut5XvDrGsRVUJk\"></div>\n",
       "        <script>netpixi.call('JggzZixiut5XvDrGsRVUJk', 'gFGaBMTAQdGaHJJQshijMZ', 'changeGraph', 'eyJpZCI6IDgxLCAidHlwZSI6ICJ2ZXJ0ZXgiLCAicHJvcHMiOiB7ImNvbG9yIjogMTY3MTE2ODB9fQo=');</script>\n",
       "    "
      ],
      "text/plain": [
       "<IPython.core.display.HTML object>"
      ]
     },
     "metadata": {},
     "output_type": "display_data"
    },
    {
     "data": {
      "text/html": [
       "\n",
       "        <div id=\"bceBWeXDov9iKGWmVuL7CX\"></div>\n",
       "        <script>netpixi.call('bceBWeXDov9iKGWmVuL7CX', 'gFGaBMTAQdGaHJJQshijMZ', 'changeGraph', 'eyJpZCI6IDE1NywgInR5cGUiOiAidmVydGV4IiwgInByb3BzIjogeyJzaXplIjogMTAuNTQzOTMzMDU0MzkzMzA1fX0K');</script>\n",
       "    "
      ],
      "text/plain": [
       "<IPython.core.display.HTML object>"
      ]
     },
     "metadata": {},
     "output_type": "display_data"
    },
    {
     "data": {
      "text/html": [
       "\n",
       "        <div id=\"Tx7zZCTrRWBpcGryt3F4tN\"></div>\n",
       "        <script>netpixi.call('Tx7zZCTrRWBpcGryt3F4tN', 'gFGaBMTAQdGaHJJQshijMZ', 'changeGraph', 'eyJpZCI6IDY5LCAidHlwZSI6ICJ2ZXJ0ZXgiLCAicHJvcHMiOiB7ImNvbG9yIjogMTY3MTE2ODB9fQo=');</script>\n",
       "    "
      ],
      "text/plain": [
       "<IPython.core.display.HTML object>"
      ]
     },
     "metadata": {},
     "output_type": "display_data"
    },
    {
     "data": {
      "text/html": [
       "\n",
       "        <div id=\"WeMEtVmaQHcQWWKRBcCPRA\"></div>\n",
       "        <script>netpixi.call('WeMEtVmaQHcQWWKRBcCPRA', 'gFGaBMTAQdGaHJJQshijMZ', 'changeGraph', 'eyJpZCI6IDE1OCwgInR5cGUiOiAidmVydGV4IiwgInByb3BzIjogeyJzaXplIjogMTEuNzU3MzIyMTc1NzMyMjE3fX0K');</script>\n",
       "    "
      ],
      "text/plain": [
       "<IPython.core.display.HTML object>"
      ]
     },
     "metadata": {},
     "output_type": "display_data"
    },
    {
     "data": {
      "text/html": [
       "\n",
       "        <div id=\"e8HUDT2h6zKzZARQC2Mt23\"></div>\n",
       "        <script>netpixi.call('e8HUDT2h6zKzZARQC2Mt23', 'gFGaBMTAQdGaHJJQshijMZ', 'changeGraph', 'eyJpZCI6IDcwLCAidHlwZSI6ICJ2ZXJ0ZXgiLCAicHJvcHMiOiB7ImNvbG9yIjogMTY3MTE2ODB9fQo=');</script>\n",
       "    "
      ],
      "text/plain": [
       "<IPython.core.display.HTML object>"
      ]
     },
     "metadata": {},
     "output_type": "display_data"
    },
    {
     "data": {
      "text/html": [
       "\n",
       "        <div id=\"YF6At4XTu6PodY8NimqAMP\"></div>\n",
       "        <script>netpixi.call('YF6At4XTu6PodY8NimqAMP', 'gFGaBMTAQdGaHJJQshijMZ', 'changeGraph', 'eyJpZCI6IDE1OSwgInR5cGUiOiAidmVydGV4IiwgInByb3BzIjogeyJzaXplIjogMTAuMTI1NTIzMDEyNTUyMzAyfX0K');</script>\n",
       "    "
      ],
      "text/plain": [
       "<IPython.core.display.HTML object>"
      ]
     },
     "metadata": {},
     "output_type": "display_data"
    },
    {
     "data": {
      "text/html": [
       "\n",
       "        <div id=\"fyX2TtcFnn7sqcsbufewcg\"></div>\n",
       "        <script>netpixi.call('fyX2TtcFnn7sqcsbufewcg', 'gFGaBMTAQdGaHJJQshijMZ', 'changeGraph', 'eyJpZCI6IDY1LCAidHlwZSI6ICJ2ZXJ0ZXgiLCAicHJvcHMiOiB7ImNvbG9yIjogMTY3MTE2ODB9fQo=');</script>\n",
       "    "
      ],
      "text/plain": [
       "<IPython.core.display.HTML object>"
      ]
     },
     "metadata": {},
     "output_type": "display_data"
    },
    {
     "data": {
      "text/html": [
       "\n",
       "        <div id=\"mRtKJgqRXR44G3FVdS9HGL\"></div>\n",
       "        <script>netpixi.call('mRtKJgqRXR44G3FVdS9HGL', 'gFGaBMTAQdGaHJJQshijMZ', 'changeGraph', 'eyJpZCI6IDE2MCwgInR5cGUiOiAidmVydGV4IiwgInByb3BzIjogeyJzaXplIjogNDguMH19Cg==');</script>\n",
       "    "
      ],
      "text/plain": [
       "<IPython.core.display.HTML object>"
      ]
     },
     "metadata": {},
     "output_type": "display_data"
    },
    {
     "data": {
      "text/html": [
       "\n",
       "        <div id=\"G2besyAAHyWSsXk29ZVj76\"></div>\n",
       "        <script>netpixi.call('G2besyAAHyWSsXk29ZVj76', 'gFGaBMTAQdGaHJJQshijMZ', 'changeGraph', 'eyJpZCI6IDc2LCAidHlwZSI6ICJ2ZXJ0ZXgiLCAicHJvcHMiOiB7ImNvbG9yIjogMTY3MTE2ODB9fQo=');</script>\n",
       "    "
      ],
      "text/plain": [
       "<IPython.core.display.HTML object>"
      ]
     },
     "metadata": {},
     "output_type": "display_data"
    },
    {
     "data": {
      "text/html": [
       "\n",
       "        <div id=\"cA8p8P9zNYuxwMnwUFTH3X\"></div>\n",
       "        <script>netpixi.call('cA8p8P9zNYuxwMnwUFTH3X', 'gFGaBMTAQdGaHJJQshijMZ', 'changeGraph', 'eyJpZCI6IDE2MSwgInR5cGUiOiAidmVydGV4IiwgInByb3BzIjogeyJzaXplIjogMTMuOTMzMDU0MzkzMzA1NDR9fQo=');</script>\n",
       "    "
      ],
      "text/plain": [
       "<IPython.core.display.HTML object>"
      ]
     },
     "metadata": {},
     "output_type": "display_data"
    },
    {
     "data": {
      "text/html": [
       "\n",
       "        <div id=\"amZJk2d6SELRxaKECBj8Gj\"></div>\n",
       "        <script>netpixi.call('amZJk2d6SELRxaKECBj8Gj', 'gFGaBMTAQdGaHJJQshijMZ', 'changeGraph', 'eyJpZCI6IDg0LCAidHlwZSI6ICJ2ZXJ0ZXgiLCAicHJvcHMiOiB7ImNvbG9yIjogMTY3MTE2ODB9fQo=');</script>\n",
       "    "
      ],
      "text/plain": [
       "<IPython.core.display.HTML object>"
      ]
     },
     "metadata": {},
     "output_type": "display_data"
    },
    {
     "data": {
      "text/html": [
       "\n",
       "        <div id=\"P4qbqeC2ytaJzw6pqvy6EX\"></div>\n",
       "        <script>netpixi.call('P4qbqeC2ytaJzw6pqvy6EX', 'gFGaBMTAQdGaHJJQshijMZ', 'changeGraph', 'eyJpZCI6IDE2MiwgInR5cGUiOiAidmVydGV4IiwgInByb3BzIjogeyJzaXplIjogNDUuODMzMzMzMzMzMzMzMzM2fX0K');</script>\n",
       "    "
      ],
      "text/plain": [
       "<IPython.core.display.HTML object>"
      ]
     },
     "metadata": {},
     "output_type": "display_data"
    },
    {
     "data": {
      "text/html": [
       "\n",
       "        <div id=\"LWKMb4Ext9aRTYPM3W6V98\"></div>\n",
       "        <script>netpixi.call('LWKMb4Ext9aRTYPM3W6V98', 'gFGaBMTAQdGaHJJQshijMZ', 'changeGraph', 'eyJpZCI6IDczLCAidHlwZSI6ICJ2ZXJ0ZXgiLCAicHJvcHMiOiB7ImNvbG9yIjogMTY3MTE2ODB9fQo=');</script>\n",
       "    "
      ],
      "text/plain": [
       "<IPython.core.display.HTML object>"
      ]
     },
     "metadata": {},
     "output_type": "display_data"
    },
    {
     "data": {
      "text/html": [
       "\n",
       "        <div id=\"DG6ev3AEASfVj6XQm7He5L\"></div>\n",
       "        <script>netpixi.call('DG6ev3AEASfVj6XQm7He5L', 'gFGaBMTAQdGaHJJQshijMZ', 'changeGraph', 'eyJpZCI6IDE2MywgInR5cGUiOiAidmVydGV4IiwgInByb3BzIjogeyJzaXplIjogMTguNTM1NTY0ODUzNTU2NDg3fX0K');</script>\n",
       "    "
      ],
      "text/plain": [
       "<IPython.core.display.HTML object>"
      ]
     },
     "metadata": {},
     "output_type": "display_data"
    },
    {
     "data": {
      "text/html": [
       "\n",
       "        <div id=\"2ZenhyfJJevnbngb9zMS6D\"></div>\n",
       "        <script>netpixi.call('2ZenhyfJJevnbngb9zMS6D', 'gFGaBMTAQdGaHJJQshijMZ', 'changeGraph', 'eyJpZCI6IDgxLCAidHlwZSI6ICJ2ZXJ0ZXgiLCAicHJvcHMiOiB7ImNvbG9yIjogMTY3MTE2ODB9fQo=');</script>\n",
       "    "
      ],
      "text/plain": [
       "<IPython.core.display.HTML object>"
      ]
     },
     "metadata": {},
     "output_type": "display_data"
    },
    {
     "data": {
      "text/html": [
       "\n",
       "        <div id=\"BYi7BvkPBaftdPJJxNgsMt\"></div>\n",
       "        <script>netpixi.call('BYi7BvkPBaftdPJJxNgsMt', 'gFGaBMTAQdGaHJJQshijMZ', 'changeGraph', 'eyJpZCI6IDE2NCwgInR5cGUiOiAidmVydGV4IiwgInByb3BzIjogeyJzaXplIjogMTQuNzY5ODc0NDc2OTg3NDQ3fX0K');</script>\n",
       "    "
      ],
      "text/plain": [
       "<IPython.core.display.HTML object>"
      ]
     },
     "metadata": {},
     "output_type": "display_data"
    },
    {
     "data": {
      "text/html": [
       "\n",
       "        <div id=\"XUTvtDEk3XdbGhcsmEfAMB\"></div>\n",
       "        <script>netpixi.call('XUTvtDEk3XdbGhcsmEfAMB', 'gFGaBMTAQdGaHJJQshijMZ', 'changeGraph', 'eyJpZCI6IDg2LCAidHlwZSI6ICJ2ZXJ0ZXgiLCAicHJvcHMiOiB7ImNvbG9yIjogMTY3MTE2ODB9fQo=');</script>\n",
       "    "
      ],
      "text/plain": [
       "<IPython.core.display.HTML object>"
      ]
     },
     "metadata": {},
     "output_type": "display_data"
    },
    {
     "data": {
      "text/html": [
       "\n",
       "        <div id=\"HJBnXG2Hvhx7fgFFKgkCsa\"></div>\n",
       "        <script>netpixi.call('HJBnXG2Hvhx7fgFFKgkCsa', 'gFGaBMTAQdGaHJJQshijMZ', 'changeGraph', 'eyJpZCI6IDE2NSwgInR5cGUiOiAidmVydGV4IiwgInByb3BzIjogeyJzaXplIjogMTQuNTE4ODI4NDUxODgyODQ1fX0K');</script>\n",
       "    "
      ],
      "text/plain": [
       "<IPython.core.display.HTML object>"
      ]
     },
     "metadata": {},
     "output_type": "display_data"
    },
    {
     "data": {
      "text/html": [
       "\n",
       "        <div id=\"Ck7YgXQ5Y38FLCHAETLTCY\"></div>\n",
       "        <script>netpixi.call('Ck7YgXQ5Y38FLCHAETLTCY', 'gFGaBMTAQdGaHJJQshijMZ', 'changeGraph', 'eyJpZCI6IDg3LCAidHlwZSI6ICJ2ZXJ0ZXgiLCAicHJvcHMiOiB7ImNvbG9yIjogMTY3MTE2ODB9fQo=');</script>\n",
       "    "
      ],
      "text/plain": [
       "<IPython.core.display.HTML object>"
      ]
     },
     "metadata": {},
     "output_type": "display_data"
    },
    {
     "data": {
      "text/html": [
       "\n",
       "        <div id=\"gMBUF8aYMP24CGi3vXdkSV\"></div>\n",
       "        <script>netpixi.call('gMBUF8aYMP24CGi3vXdkSV', 'gFGaBMTAQdGaHJJQshijMZ', 'changeGraph', 'eyJpZCI6IDE2NiwgInR5cGUiOiAidmVydGV4IiwgInByb3BzIjogeyJzaXplIjogMTcuMTEyOTcwNzExMjk3MDd9fQo=');</script>\n",
       "    "
      ],
      "text/plain": [
       "<IPython.core.display.HTML object>"
      ]
     },
     "metadata": {},
     "output_type": "display_data"
    },
    {
     "data": {
      "text/html": [
       "\n",
       "        <div id=\"Bqqxxvm4XuoMWZJGcz6tJM\"></div>\n",
       "        <script>netpixi.call('Bqqxxvm4XuoMWZJGcz6tJM', 'gFGaBMTAQdGaHJJQshijMZ', 'changeGraph', 'eyJpZCI6IDg5LCAidHlwZSI6ICJ2ZXJ0ZXgiLCAicHJvcHMiOiB7ImNvbG9yIjogMTY3MTE2ODB9fQo=');</script>\n",
       "    "
      ],
      "text/plain": [
       "<IPython.core.display.HTML object>"
      ]
     },
     "metadata": {},
     "output_type": "display_data"
    },
    {
     "data": {
      "text/html": [
       "\n",
       "        <div id=\"ewrQdUH76PB8ppZZmJbAaQ\"></div>\n",
       "        <script>netpixi.call('ewrQdUH76PB8ppZZmJbAaQ', 'gFGaBMTAQdGaHJJQshijMZ', 'changeGraph', 'eyJpZCI6IDE2NywgInR5cGUiOiAidmVydGV4IiwgInByb3BzIjogeyJzaXplIjogNDYuMTY2NjY2NjY2NjY2NjY0fX0K');</script>\n",
       "    "
      ],
      "text/plain": [
       "<IPython.core.display.HTML object>"
      ]
     },
     "metadata": {},
     "output_type": "display_data"
    },
    {
     "data": {
      "text/html": [
       "\n",
       "        <div id=\"d53RoxMnE5EPHiZ93y3STp\"></div>\n",
       "        <script>netpixi.call('d53RoxMnE5EPHiZ93y3STp', 'gFGaBMTAQdGaHJJQshijMZ', 'changeGraph', 'eyJpZCI6IDczLCAidHlwZSI6ICJ2ZXJ0ZXgiLCAicHJvcHMiOiB7ImNvbG9yIjogMTY3MTE2ODB9fQo=');</script>\n",
       "    "
      ],
      "text/plain": [
       "<IPython.core.display.HTML object>"
      ]
     },
     "metadata": {},
     "output_type": "display_data"
    },
    {
     "data": {
      "text/html": [
       "\n",
       "        <div id=\"CQEgmfr8Y6GivQRtVt8W7s\"></div>\n",
       "        <script>netpixi.call('CQEgmfr8Y6GivQRtVt8W7s', 'gFGaBMTAQdGaHJJQshijMZ', 'changeGraph', 'eyJpZCI6IDE2OCwgInR5cGUiOiAidmVydGV4IiwgInByb3BzIjogeyJzaXplIjogMTAuOTIwNTAyMDkyMDUwMjF9fQo=');</script>\n",
       "    "
      ],
      "text/plain": [
       "<IPython.core.display.HTML object>"
      ]
     },
     "metadata": {},
     "output_type": "display_data"
    },
    {
     "data": {
      "text/html": [
       "\n",
       "        <div id=\"P8pNwYE2yeZY5uK4awB6fp\"></div>\n",
       "        <script>netpixi.call('P8pNwYE2yeZY5uK4awB6fp', 'gFGaBMTAQdGaHJJQshijMZ', 'changeGraph', 'eyJpZCI6IDgwLCAidHlwZSI6ICJ2ZXJ0ZXgiLCAicHJvcHMiOiB7ImNvbG9yIjogMTY3MTE2ODB9fQo=');</script>\n",
       "    "
      ],
      "text/plain": [
       "<IPython.core.display.HTML object>"
      ]
     },
     "metadata": {},
     "output_type": "display_data"
    },
    {
     "data": {
      "text/html": [
       "\n",
       "        <div id=\"47rmhFPufatvetgLvDSQjD\"></div>\n",
       "        <script>netpixi.call('47rmhFPufatvetgLvDSQjD', 'gFGaBMTAQdGaHJJQshijMZ', 'changeGraph', 'eyJpZCI6IDE2OSwgInR5cGUiOiAidmVydGV4IiwgInByb3BzIjogeyJzaXplIjogMTguMjg0NTE4ODI4NDUxODh9fQo=');</script>\n",
       "    "
      ],
      "text/plain": [
       "<IPython.core.display.HTML object>"
      ]
     },
     "metadata": {},
     "output_type": "display_data"
    },
    {
     "data": {
      "text/html": [
       "\n",
       "        <div id=\"mPt4Kvo7uXj82fA8aWtnGy\"></div>\n",
       "        <script>netpixi.call('mPt4Kvo7uXj82fA8aWtnGy', 'gFGaBMTAQdGaHJJQshijMZ', 'changeGraph', 'eyJpZCI6IDg1LCAidHlwZSI6ICJ2ZXJ0ZXgiLCAicHJvcHMiOiB7ImNvbG9yIjogMTY3MTE2ODB9fQo=');</script>\n",
       "    "
      ],
      "text/plain": [
       "<IPython.core.display.HTML object>"
      ]
     },
     "metadata": {},
     "output_type": "display_data"
    },
    {
     "data": {
      "text/html": [
       "\n",
       "        <div id=\"9HFuGrTgm9xjajcH25Msfs\"></div>\n",
       "        <script>netpixi.call('9HFuGrTgm9xjajcH25Msfs', 'gFGaBMTAQdGaHJJQshijMZ', 'changeGraph', 'eyJpZCI6IDE3MCwgInR5cGUiOiAidmVydGV4IiwgInByb3BzIjogeyJzaXplIjogMTkuMjg4NzAyOTI4ODcwMjkzfX0K');</script>\n",
       "    "
      ],
      "text/plain": [
       "<IPython.core.display.HTML object>"
      ]
     },
     "metadata": {},
     "output_type": "display_data"
    },
    {
     "data": {
      "text/html": [
       "\n",
       "        <div id=\"gu5BGHFLhe5yyenWD9YXi5\"></div>\n",
       "        <script>netpixi.call('gu5BGHFLhe5yyenWD9YXi5', 'gFGaBMTAQdGaHJJQshijMZ', 'changeGraph', 'eyJpZCI6IDY4LCAidHlwZSI6ICJ2ZXJ0ZXgiLCAicHJvcHMiOiB7ImNvbG9yIjogMTY3MTE2ODB9fQo=');</script>\n",
       "    "
      ],
      "text/plain": [
       "<IPython.core.display.HTML object>"
      ]
     },
     "metadata": {},
     "output_type": "display_data"
    },
    {
     "data": {
      "text/html": [
       "\n",
       "        <div id=\"Lm2LstutBWS2sXuy3ZYLHC\"></div>\n",
       "        <script>netpixi.call('Lm2LstutBWS2sXuy3ZYLHC', 'gFGaBMTAQdGaHJJQshijMZ', 'changeGraph', 'eyJpZCI6IDE3MSwgInR5cGUiOiAidmVydGV4IiwgInByb3BzIjogeyJzaXplIjogMTEuOTI0Njg2MTkyNDY4NjE4fX0K');</script>\n",
       "    "
      ],
      "text/plain": [
       "<IPython.core.display.HTML object>"
      ]
     },
     "metadata": {},
     "output_type": "display_data"
    },
    {
     "data": {
      "text/html": [
       "\n",
       "        <div id=\"6cxvchFAfUEm77wcsq4G5Y\"></div>\n",
       "        <script>netpixi.call('6cxvchFAfUEm77wcsq4G5Y', 'gFGaBMTAQdGaHJJQshijMZ', 'changeGraph', 'eyJpZCI6IDgyLCAidHlwZSI6ICJ2ZXJ0ZXgiLCAicHJvcHMiOiB7ImNvbG9yIjogMTY3MTE2ODB9fQo=');</script>\n",
       "    "
      ],
      "text/plain": [
       "<IPython.core.display.HTML object>"
      ]
     },
     "metadata": {},
     "output_type": "display_data"
    },
    {
     "data": {
      "text/html": [
       "\n",
       "        <div id=\"HrF9KHSx88ZhuTwmAcpjL5\"></div>\n",
       "        <script>netpixi.call('HrF9KHSx88ZhuTwmAcpjL5', 'gFGaBMTAQdGaHJJQshijMZ', 'changeGraph', 'eyJpZCI6IDE3MiwgInR5cGUiOiAidmVydGV4IiwgInByb3BzIjogeyJzaXplIjogMTIuODAzMzQ3MjgwMzM0NzI3fX0K');</script>\n",
       "    "
      ],
      "text/plain": [
       "<IPython.core.display.HTML object>"
      ]
     },
     "metadata": {},
     "output_type": "display_data"
    },
    {
     "data": {
      "text/html": [
       "\n",
       "        <div id=\"7Y5arSBkagvG4L6U8FwqyF\"></div>\n",
       "        <script>netpixi.call('7Y5arSBkagvG4L6U8FwqyF', 'gFGaBMTAQdGaHJJQshijMZ', 'changeGraph', 'eyJpZCI6IDc4LCAidHlwZSI6ICJ2ZXJ0ZXgiLCAicHJvcHMiOiB7ImNvbG9yIjogMTY3MTE2ODB9fQo=');</script>\n",
       "    "
      ],
      "text/plain": [
       "<IPython.core.display.HTML object>"
      ]
     },
     "metadata": {},
     "output_type": "display_data"
    },
    {
     "data": {
      "text/html": [
       "\n",
       "        <div id=\"h7SRhrWkfUedUbypo7L5Bp\"></div>\n",
       "        <script>netpixi.call('h7SRhrWkfUedUbypo7L5Bp', 'gFGaBMTAQdGaHJJQshijMZ', 'changeGraph', 'eyJpZCI6IDE3MywgInR5cGUiOiAidmVydGV4IiwgInByb3BzIjogeyJzaXplIjogMTYuODIwMDgzNjgyMDA4MzY3fX0K');</script>\n",
       "    "
      ],
      "text/plain": [
       "<IPython.core.display.HTML object>"
      ]
     },
     "metadata": {},
     "output_type": "display_data"
    },
    {
     "data": {
      "text/html": [
       "\n",
       "        <div id=\"8fuzajbyxsavxEELFK3Gg7\"></div>\n",
       "        <script>netpixi.call('8fuzajbyxsavxEELFK3Gg7', 'gFGaBMTAQdGaHJJQshijMZ', 'changeGraph', 'eyJpZCI6IDgwLCAidHlwZSI6ICJ2ZXJ0ZXgiLCAicHJvcHMiOiB7ImNvbG9yIjogMTY3MTE2ODB9fQo=');</script>\n",
       "    "
      ],
      "text/plain": [
       "<IPython.core.display.HTML object>"
      ]
     },
     "metadata": {},
     "output_type": "display_data"
    },
    {
     "data": {
      "text/html": [
       "\n",
       "        <div id=\"gTz42uqEjsQCcDuA95ep26\"></div>\n",
       "        <script>netpixi.call('gTz42uqEjsQCcDuA95ep26', 'gFGaBMTAQdGaHJJQshijMZ', 'changeGraph', 'eyJpZCI6IDE3NCwgInR5cGUiOiAidmVydGV4IiwgInByb3BzIjogeyJzaXplIjogMTcuNjk4NzQ0NzY5ODc0NDc3fX0K');</script>\n",
       "    "
      ],
      "text/plain": [
       "<IPython.core.display.HTML object>"
      ]
     },
     "metadata": {},
     "output_type": "display_data"
    },
    {
     "data": {
      "text/html": [
       "\n",
       "        <div id=\"FbGNhYVGXjDkejLS3Rfh7W\"></div>\n",
       "        <script>netpixi.call('FbGNhYVGXjDkejLS3Rfh7W', 'gFGaBMTAQdGaHJJQshijMZ', 'changeGraph', 'eyJpZCI6IDc1LCAidHlwZSI6ICJ2ZXJ0ZXgiLCAicHJvcHMiOiB7ImNvbG9yIjogMTY3MTE2ODB9fQo=');</script>\n",
       "    "
      ],
      "text/plain": [
       "<IPython.core.display.HTML object>"
      ]
     },
     "metadata": {},
     "output_type": "display_data"
    },
    {
     "data": {
      "text/html": [
       "\n",
       "        <div id=\"iDgJUhJCFvjran92MDPy8c\"></div>\n",
       "        <script>netpixi.call('iDgJUhJCFvjran92MDPy8c', 'gFGaBMTAQdGaHJJQshijMZ', 'changeGraph', 'eyJpZCI6IDE3NSwgInR5cGUiOiAidmVydGV4IiwgInByb3BzIjogeyJzaXplIjogNDEuMH19Cg==');</script>\n",
       "    "
      ],
      "text/plain": [
       "<IPython.core.display.HTML object>"
      ]
     },
     "metadata": {},
     "output_type": "display_data"
    },
    {
     "data": {
      "text/html": [
       "\n",
       "        <div id=\"EFNNFjn4jtoyLV3ed5v3Pd\"></div>\n",
       "        <script>netpixi.call('EFNNFjn4jtoyLV3ed5v3Pd', 'gFGaBMTAQdGaHJJQshijMZ', 'changeGraph', 'eyJpZCI6IDg1LCAidHlwZSI6ICJ2ZXJ0ZXgiLCAicHJvcHMiOiB7ImNvbG9yIjogMTY3MTE2ODB9fQo=');</script>\n",
       "    "
      ],
      "text/plain": [
       "<IPython.core.display.HTML object>"
      ]
     },
     "metadata": {},
     "output_type": "display_data"
    },
    {
     "data": {
      "text/html": [
       "\n",
       "        <div id=\"NTxRSkw4V7QgtnmykUcPgC\"></div>\n",
       "        <script>netpixi.call('NTxRSkw4V7QgtnmykUcPgC', 'gFGaBMTAQdGaHJJQshijMZ', 'changeGraph', 'eyJpZCI6IDE3NiwgInR5cGUiOiAidmVydGV4IiwgInByb3BzIjogeyJzaXplIjogMTkuNDE0MjI1OTQxNDIyNTkzfX0K');</script>\n",
       "    "
      ],
      "text/plain": [
       "<IPython.core.display.HTML object>"
      ]
     },
     "metadata": {},
     "output_type": "display_data"
    },
    {
     "data": {
      "text/html": [
       "\n",
       "        <div id=\"jTSUG76VY5mrARbbsdzoxa\"></div>\n",
       "        <script>netpixi.call('jTSUG76VY5mrARbbsdzoxa', 'gFGaBMTAQdGaHJJQshijMZ', 'changeGraph', 'eyJpZCI6IDY4LCAidHlwZSI6ICJ2ZXJ0ZXgiLCAicHJvcHMiOiB7ImNvbG9yIjogMTY3MTE2ODB9fQo=');</script>\n",
       "    "
      ],
      "text/plain": [
       "<IPython.core.display.HTML object>"
      ]
     },
     "metadata": {},
     "output_type": "display_data"
    },
    {
     "data": {
      "text/html": [
       "\n",
       "        <div id=\"FRACkmPedeNmD6FbsQmr82\"></div>\n",
       "        <script>netpixi.call('FRACkmPedeNmD6FbsQmr82', 'gFGaBMTAQdGaHJJQshijMZ', 'changeGraph', 'eyJpZCI6IDE3NywgInR5cGUiOiAidmVydGV4IiwgInByb3BzIjogeyJzaXplIjogMTEuODgyODQ1MTg4Mjg0NTE4fX0K');</script>\n",
       "    "
      ],
      "text/plain": [
       "<IPython.core.display.HTML object>"
      ]
     },
     "metadata": {},
     "output_type": "display_data"
    },
    {
     "data": {
      "text/html": [
       "\n",
       "        <div id=\"oV336iZf6sfscNcR2y2fzc\"></div>\n",
       "        <script>netpixi.call('oV336iZf6sfscNcR2y2fzc', 'gFGaBMTAQdGaHJJQshijMZ', 'changeGraph', 'eyJpZCI6IDczLCAidHlwZSI6ICJ2ZXJ0ZXgiLCAicHJvcHMiOiB7ImNvbG9yIjogMTY3MTE2ODB9fQo=');</script>\n",
       "    "
      ],
      "text/plain": [
       "<IPython.core.display.HTML object>"
      ]
     },
     "metadata": {},
     "output_type": "display_data"
    },
    {
     "data": {
      "text/html": [
       "\n",
       "        <div id=\"CNamsfX35QNzH5iSwSDCBd\"></div>\n",
       "        <script>netpixi.call('CNamsfX35QNzH5iSwSDCBd', 'gFGaBMTAQdGaHJJQshijMZ', 'changeGraph', 'eyJpZCI6IDE3OCwgInR5cGUiOiAidmVydGV4IiwgInByb3BzIjogeyJzaXplIjogNDQuNjY2NjY2NjY2NjY2Njd9fQo=');</script>\n",
       "    "
      ],
      "text/plain": [
       "<IPython.core.display.HTML object>"
      ]
     },
     "metadata": {},
     "output_type": "display_data"
    },
    {
     "data": {
      "text/html": [
       "\n",
       "        <div id=\"QV8dDdta5oNYu9U7efvHPK\"></div>\n",
       "        <script>netpixi.call('QV8dDdta5oNYu9U7efvHPK', 'gFGaBMTAQdGaHJJQshijMZ', 'changeGraph', 'eyJpZCI6IDc3LCAidHlwZSI6ICJ2ZXJ0ZXgiLCAicHJvcHMiOiB7ImNvbG9yIjogMTY3MTE2ODB9fQo=');</script>\n",
       "    "
      ],
      "text/plain": [
       "<IPython.core.display.HTML object>"
      ]
     },
     "metadata": {},
     "output_type": "display_data"
    },
    {
     "data": {
      "text/html": [
       "\n",
       "        <div id=\"5gD4ALJFMsyo86rpX274mn\"></div>\n",
       "        <script>netpixi.call('5gD4ALJFMsyo86rpX274mn', 'gFGaBMTAQdGaHJJQshijMZ', 'changeGraph', 'eyJpZCI6IDE3OSwgInR5cGUiOiAidmVydGV4IiwgInByb3BzIjogeyJzaXplIjogMTUuNDgxMTcxNTQ4MTE3MTUzfX0K');</script>\n",
       "    "
      ],
      "text/plain": [
       "<IPython.core.display.HTML object>"
      ]
     },
     "metadata": {},
     "output_type": "display_data"
    },
    {
     "data": {
      "text/html": [
       "\n",
       "        <div id=\"kyyvRtFnFunEhNML7MV5MN\"></div>\n",
       "        <script>netpixi.call('kyyvRtFnFunEhNML7MV5MN', 'gFGaBMTAQdGaHJJQshijMZ', 'changeGraph', 'eyJpZCI6IDg3LCAidHlwZSI6ICJ2ZXJ0ZXgiLCAicHJvcHMiOiB7ImNvbG9yIjogMTY3MTE2ODB9fQo=');</script>\n",
       "    "
      ],
      "text/plain": [
       "<IPython.core.display.HTML object>"
      ]
     },
     "metadata": {},
     "output_type": "display_data"
    },
    {
     "data": {
      "text/html": [
       "\n",
       "        <div id=\"dQePtwUAxCuXQw5egJgacy\"></div>\n",
       "        <script>netpixi.call('dQePtwUAxCuXQw5egJgacy', 'gFGaBMTAQdGaHJJQshijMZ', 'changeGraph', 'eyJpZCI6IDE4MCwgInR5cGUiOiAidmVydGV4IiwgInByb3BzIjogeyJzaXplIjogMTkuNDU2MDY2OTQ1NjA2NjkzfX0K');</script>\n",
       "    "
      ],
      "text/plain": [
       "<IPython.core.display.HTML object>"
      ]
     },
     "metadata": {},
     "output_type": "display_data"
    },
    {
     "data": {
      "text/html": [
       "\n",
       "        <div id=\"665jxDDQaPCo33dFZJKKSn\"></div>\n",
       "        <script>netpixi.call('665jxDDQaPCo33dFZJKKSn', 'gFGaBMTAQdGaHJJQshijMZ', 'changeGraph', 'eyJpZCI6IDg2LCAidHlwZSI6ICJ2ZXJ0ZXgiLCAicHJvcHMiOiB7ImNvbG9yIjogMTY3MTE2ODB9fQo=');</script>\n",
       "    "
      ],
      "text/plain": [
       "<IPython.core.display.HTML object>"
      ]
     },
     "metadata": {},
     "output_type": "display_data"
    },
    {
     "data": {
      "text/html": [
       "\n",
       "        <div id=\"5AJyGqDbuETRGSqtTmqWXh\"></div>\n",
       "        <script>netpixi.call('5AJyGqDbuETRGSqtTmqWXh', 'gFGaBMTAQdGaHJJQshijMZ', 'changeGraph', 'eyJpZCI6IDE4MSwgInR5cGUiOiAidmVydGV4IiwgInByb3BzIjogeyJzaXplIjogMTIuNjM1OTgzMjYzNTk4MzI3fX0K');</script>\n",
       "    "
      ],
      "text/plain": [
       "<IPython.core.display.HTML object>"
      ]
     },
     "metadata": {},
     "output_type": "display_data"
    },
    {
     "data": {
      "text/html": [
       "\n",
       "        <div id=\"6EATsbxWWP8s2zZctLRP9h\"></div>\n",
       "        <script>netpixi.call('6EATsbxWWP8s2zZctLRP9h', 'gFGaBMTAQdGaHJJQshijMZ', 'changeGraph', 'eyJpZCI6IDcyLCAidHlwZSI6ICJ2ZXJ0ZXgiLCAicHJvcHMiOiB7ImNvbG9yIjogMTY3MTE2ODB9fQo=');</script>\n",
       "    "
      ],
      "text/plain": [
       "<IPython.core.display.HTML object>"
      ]
     },
     "metadata": {},
     "output_type": "display_data"
    },
    {
     "data": {
      "text/html": [
       "\n",
       "        <div id=\"HRUSP4AGouvWmy5uMKs5fr\"></div>\n",
       "        <script>netpixi.call('HRUSP4AGouvWmy5uMKs5fr', 'gFGaBMTAQdGaHJJQshijMZ', 'changeGraph', 'eyJpZCI6IDE4MiwgInR5cGUiOiAidmVydGV4IiwgInByb3BzIjogeyJzaXplIjogMTAuNjY5NDU2MDY2OTQ1NjA3fX0K');</script>\n",
       "    "
      ],
      "text/plain": [
       "<IPython.core.display.HTML object>"
      ]
     },
     "metadata": {},
     "output_type": "display_data"
    },
    {
     "data": {
      "text/html": [
       "\n",
       "        <div id=\"dV9d5iyJEgauXv5N3BvME4\"></div>\n",
       "        <script>netpixi.call('dV9d5iyJEgauXv5N3BvME4', 'gFGaBMTAQdGaHJJQshijMZ', 'changeGraph', 'eyJpZCI6IDc2LCAidHlwZSI6ICJ2ZXJ0ZXgiLCAicHJvcHMiOiB7ImNvbG9yIjogMTY3MTE2ODB9fQo=');</script>\n",
       "    "
      ],
      "text/plain": [
       "<IPython.core.display.HTML object>"
      ]
     },
     "metadata": {},
     "output_type": "display_data"
    },
    {
     "data": {
      "text/html": [
       "\n",
       "        <div id=\"gUDWv87CsRryy5SbzgtF49\"></div>\n",
       "        <script>netpixi.call('gUDWv87CsRryy5SbzgtF49', 'gFGaBMTAQdGaHJJQshijMZ', 'changeGraph', 'eyJpZCI6IDE4MywgInR5cGUiOiAidmVydGV4IiwgInByb3BzIjogeyJzaXplIjogMTYuODYxOTI0Njg2MTkyNDY3fX0K');</script>\n",
       "    "
      ],
      "text/plain": [
       "<IPython.core.display.HTML object>"
      ]
     },
     "metadata": {},
     "output_type": "display_data"
    },
    {
     "data": {
      "text/html": [
       "\n",
       "        <div id=\"2GxEfBZNEbpT2uNmMkc7fS\"></div>\n",
       "        <script>netpixi.call('2GxEfBZNEbpT2uNmMkc7fS', 'gFGaBMTAQdGaHJJQshijMZ', 'changeGraph', 'eyJpZCI6IDc4LCAidHlwZSI6ICJ2ZXJ0ZXgiLCAicHJvcHMiOiB7ImNvbG9yIjogMTY3MTE2ODB9fQo=');</script>\n",
       "    "
      ],
      "text/plain": [
       "<IPython.core.display.HTML object>"
      ]
     },
     "metadata": {},
     "output_type": "display_data"
    },
    {
     "data": {
      "text/html": [
       "\n",
       "        <div id=\"haPooUwH4zk2sCGf6LTrva\"></div>\n",
       "        <script>netpixi.call('haPooUwH4zk2sCGf6LTrva', 'gFGaBMTAQdGaHJJQshijMZ', 'changeGraph', 'eyJpZCI6IDE4NCwgInR5cGUiOiAidmVydGV4IiwgInByb3BzIjogeyJzaXplIjogMTQuOTM3MjM4NDkzNzIzODV9fQo=');</script>\n",
       "    "
      ],
      "text/plain": [
       "<IPython.core.display.HTML object>"
      ]
     },
     "metadata": {},
     "output_type": "display_data"
    },
    {
     "data": {
      "text/html": [
       "\n",
       "        <div id=\"EmyML3ZSpgm24aTAqA9qxb\"></div>\n",
       "        <script>netpixi.call('EmyML3ZSpgm24aTAqA9qxb', 'gFGaBMTAQdGaHJJQshijMZ', 'changeGraph', 'eyJpZCI6IDc1LCAidHlwZSI6ICJ2ZXJ0ZXgiLCAicHJvcHMiOiB7ImNvbG9yIjogMTY3MTE2ODB9fQo=');</script>\n",
       "    "
      ],
      "text/plain": [
       "<IPython.core.display.HTML object>"
      ]
     },
     "metadata": {},
     "output_type": "display_data"
    },
    {
     "data": {
      "text/html": [
       "\n",
       "        <div id=\"4xR6Aoip4dCzsromFWCYGw\"></div>\n",
       "        <script>netpixi.call('4xR6Aoip4dCzsromFWCYGw', 'gFGaBMTAQdGaHJJQshijMZ', 'changeGraph', 'eyJpZCI6IDE4NSwgInR5cGUiOiAidmVydGV4IiwgInByb3BzIjogeyJzaXplIjogMTcuNDQ3Njk4NzQ0NzY5ODczfX0K');</script>\n",
       "    "
      ],
      "text/plain": [
       "<IPython.core.display.HTML object>"
      ]
     },
     "metadata": {},
     "output_type": "display_data"
    },
    {
     "data": {
      "text/html": [
       "\n",
       "        <div id=\"3dVrbMeqXyWRwaLm3BbVvE\"></div>\n",
       "        <script>netpixi.call('3dVrbMeqXyWRwaLm3BbVvE', 'gFGaBMTAQdGaHJJQshijMZ', 'changeGraph', 'eyJpZCI6IDQ4LCAidHlwZSI6ICJ2ZXJ0ZXgiLCAicHJvcHMiOiB7ImNvbG9yIjogMTY3MTE2ODB9fQo=');</script>\n",
       "    "
      ],
      "text/plain": [
       "<IPython.core.display.HTML object>"
      ]
     },
     "metadata": {},
     "output_type": "display_data"
    },
    {
     "data": {
      "text/html": [
       "\n",
       "        <div id=\"aXUDFVnDueSGmGWD5ZFx3r\"></div>\n",
       "        <script>netpixi.call('aXUDFVnDueSGmGWD5ZFx3r', 'gFGaBMTAQdGaHJJQshijMZ', 'changeGraph', 'eyJpZCI6IDE4NiwgInR5cGUiOiAidmVydGV4IiwgInByb3BzIjogeyJzaXplIjogMTcuMjgwMzM0NzI4MDMzNDczfX0K');</script>\n",
       "    "
      ],
      "text/plain": [
       "<IPython.core.display.HTML object>"
      ]
     },
     "metadata": {},
     "output_type": "display_data"
    },
    {
     "data": {
      "text/html": [
       "\n",
       "        <div id=\"DnBkacps4zBfGJZB2KL8va\"></div>\n",
       "        <script>netpixi.call('DnBkacps4zBfGJZB2KL8va', 'gFGaBMTAQdGaHJJQshijMZ', 'changeGraph', 'eyJpZCI6IDY5LCAidHlwZSI6ICJ2ZXJ0ZXgiLCAicHJvcHMiOiB7ImNvbG9yIjogMTY3MTE2ODB9fQo=');</script>\n",
       "    "
      ],
      "text/plain": [
       "<IPython.core.display.HTML object>"
      ]
     },
     "metadata": {},
     "output_type": "display_data"
    },
    {
     "data": {
      "text/html": [
       "\n",
       "        <div id=\"6PiytgUU7btBbBivS7fWQx\"></div>\n",
       "        <script>netpixi.call('6PiytgUU7btBbBivS7fWQx', 'gFGaBMTAQdGaHJJQshijMZ', 'changeGraph', 'eyJpZCI6IDE4NywgInR5cGUiOiAidmVydGV4IiwgInByb3BzIjogeyJzaXplIjogNDQuMzMzMzMzMzMzMzMzMzM2fX0K');</script>\n",
       "    "
      ],
      "text/plain": [
       "<IPython.core.display.HTML object>"
      ]
     },
     "metadata": {},
     "output_type": "display_data"
    },
    {
     "data": {
      "text/html": [
       "\n",
       "        <div id=\"6o5kdZAcJr3yL2N5r5cnhJ\"></div>\n",
       "        <script>netpixi.call('6o5kdZAcJr3yL2N5r5cnhJ', 'gFGaBMTAQdGaHJJQshijMZ', 'changeGraph', 'eyJpZCI6IDYxLCAidHlwZSI6ICJ2ZXJ0ZXgiLCAicHJvcHMiOiB7ImNvbG9yIjogMTY3MTE2ODB9fQo=');</script>\n",
       "    "
      ],
      "text/plain": [
       "<IPython.core.display.HTML object>"
      ]
     },
     "metadata": {},
     "output_type": "display_data"
    },
    {
     "data": {
      "text/html": [
       "\n",
       "        <div id=\"N5UmHG8rD4NbPFPyYvYmqr\"></div>\n",
       "        <script>netpixi.call('N5UmHG8rD4NbPFPyYvYmqr', 'gFGaBMTAQdGaHJJQshijMZ', 'changeGraph', 'eyJpZCI6IDE4OCwgInR5cGUiOiAidmVydGV4IiwgInByb3BzIjogeyJzaXplIjogMTQuMzkzMzA1NDM5MzMwNTQzfX0K');</script>\n",
       "    "
      ],
      "text/plain": [
       "<IPython.core.display.HTML object>"
      ]
     },
     "metadata": {},
     "output_type": "display_data"
    },
    {
     "data": {
      "text/html": [
       "\n",
       "        <div id=\"g6NuzAQgSDhQpFicgHc5Ao\"></div>\n",
       "        <script>netpixi.call('g6NuzAQgSDhQpFicgHc5Ao', 'gFGaBMTAQdGaHJJQshijMZ', 'changeGraph', 'eyJpZCI6IDczLCAidHlwZSI6ICJ2ZXJ0ZXgiLCAicHJvcHMiOiB7ImNvbG9yIjogMTY3MTE2ODB9fQo=');</script>\n",
       "    "
      ],
      "text/plain": [
       "<IPython.core.display.HTML object>"
      ]
     },
     "metadata": {},
     "output_type": "display_data"
    },
    {
     "data": {
      "text/html": [
       "\n",
       "        <div id=\"na2a2AhQ7yQBisqkPqyYJw\"></div>\n",
       "        <script>netpixi.call('na2a2AhQ7yQBisqkPqyYJw', 'gFGaBMTAQdGaHJJQshijMZ', 'changeGraph', 'eyJpZCI6IDE4OSwgInR5cGUiOiAidmVydGV4IiwgInByb3BzIjogeyJzaXplIjogMTIuMjU5NDE0MjI1OTQxNDIzfX0K');</script>\n",
       "    "
      ],
      "text/plain": [
       "<IPython.core.display.HTML object>"
      ]
     },
     "metadata": {},
     "output_type": "display_data"
    },
    {
     "data": {
      "text/html": [
       "\n",
       "        <div id=\"DbzDQPWVsvtKEiRQTuhdH3\"></div>\n",
       "        <script>netpixi.call('DbzDQPWVsvtKEiRQTuhdH3', 'gFGaBMTAQdGaHJJQshijMZ', 'changeGraph', 'eyJpZCI6IDc0LCAidHlwZSI6ICJ2ZXJ0ZXgiLCAicHJvcHMiOiB7ImNvbG9yIjogMTY3MTE2ODB9fQo=');</script>\n",
       "    "
      ],
      "text/plain": [
       "<IPython.core.display.HTML object>"
      ]
     },
     "metadata": {},
     "output_type": "display_data"
    },
    {
     "data": {
      "text/html": [
       "\n",
       "        <div id=\"FKvYGtkTXS7tLcKWX7nqEY\"></div>\n",
       "        <script>netpixi.call('FKvYGtkTXS7tLcKWX7nqEY', 'gFGaBMTAQdGaHJJQshijMZ', 'changeGraph', 'eyJpZCI6IDE5MCwgInR5cGUiOiAidmVydGV4IiwgInByb3BzIjogeyJzaXplIjogMTQuMTAwNDE4NDEwMDQxODR9fQo=');</script>\n",
       "    "
      ],
      "text/plain": [
       "<IPython.core.display.HTML object>"
      ]
     },
     "metadata": {},
     "output_type": "display_data"
    },
    {
     "data": {
      "text/html": [
       "\n",
       "        <div id=\"ctixBhv53znQRZJgh9FMr2\"></div>\n",
       "        <script>netpixi.call('ctixBhv53znQRZJgh9FMr2', 'gFGaBMTAQdGaHJJQshijMZ', 'changeGraph', 'eyJpZCI6IDgxLCAidHlwZSI6ICJ2ZXJ0ZXgiLCAicHJvcHMiOiB7ImNvbG9yIjogMTY3MTE2ODB9fQo=');</script>\n",
       "    "
      ],
      "text/plain": [
       "<IPython.core.display.HTML object>"
      ]
     },
     "metadata": {},
     "output_type": "display_data"
    },
    {
     "data": {
      "text/html": [
       "\n",
       "        <div id=\"Z8KT5sSUX7XmfQYyeh8DdS\"></div>\n",
       "        <script>netpixi.call('Z8KT5sSUX7XmfQYyeh8DdS', 'gFGaBMTAQdGaHJJQshijMZ', 'changeGraph', 'eyJpZCI6IDE5MSwgInR5cGUiOiAidmVydGV4IiwgInByb3BzIjogeyJzaXplIjogMTIuOTcwNzExMjk3MDcxMTN9fQo=');</script>\n",
       "    "
      ],
      "text/plain": [
       "<IPython.core.display.HTML object>"
      ]
     },
     "metadata": {},
     "output_type": "display_data"
    },
    {
     "data": {
      "text/html": [
       "\n",
       "        <div id=\"YRYU7JzkDBuaDrCyq8HbHd\"></div>\n",
       "        <script>netpixi.call('YRYU7JzkDBuaDrCyq8HbHd', 'gFGaBMTAQdGaHJJQshijMZ', 'changeGraph', 'eyJpZCI6IDc1LCAidHlwZSI6ICJ2ZXJ0ZXgiLCAicHJvcHMiOiB7ImNvbG9yIjogMTY3MTE2ODB9fQo=');</script>\n",
       "    "
      ],
      "text/plain": [
       "<IPython.core.display.HTML object>"
      ]
     },
     "metadata": {},
     "output_type": "display_data"
    },
    {
     "data": {
      "text/html": [
       "\n",
       "        <div id=\"UHkH7GYf5TcW9H8ie3jDnd\"></div>\n",
       "        <script>netpixi.call('UHkH7GYf5TcW9H8ie3jDnd', 'gFGaBMTAQdGaHJJQshijMZ', 'changeGraph', 'eyJpZCI6IDE5MiwgInR5cGUiOiAidmVydGV4IiwgInByb3BzIjogeyJzaXplIjogMTQuMzA5NjIzNDMwOTYyMzQzfX0K');</script>\n",
       "    "
      ],
      "text/plain": [
       "<IPython.core.display.HTML object>"
      ]
     },
     "metadata": {},
     "output_type": "display_data"
    },
    {
     "data": {
      "text/html": [
       "\n",
       "        <div id=\"7tPiFZugkaWfr688hZ7N2E\"></div>\n",
       "        <script>netpixi.call('7tPiFZugkaWfr688hZ7N2E', 'gFGaBMTAQdGaHJJQshijMZ', 'changeGraph', 'eyJpZCI6IDc3LCAidHlwZSI6ICJ2ZXJ0ZXgiLCAicHJvcHMiOiB7ImNvbG9yIjogMTY3MTE2ODB9fQo=');</script>\n",
       "    "
      ],
      "text/plain": [
       "<IPython.core.display.HTML object>"
      ]
     },
     "metadata": {},
     "output_type": "display_data"
    },
    {
     "data": {
      "text/html": [
       "\n",
       "        <div id=\"PeDbmFoZYoeyX29LfShq7T\"></div>\n",
       "        <script>netpixi.call('PeDbmFoZYoeyX29LfShq7T', 'gFGaBMTAQdGaHJJQshijMZ', 'changeGraph', 'eyJpZCI6IDE5MywgInR5cGUiOiAidmVydGV4IiwgInByb3BzIjogeyJzaXplIjogMTAuMjA5MjA1MDIwOTIwNTAyfX0K');</script>\n",
       "    "
      ],
      "text/plain": [
       "<IPython.core.display.HTML object>"
      ]
     },
     "metadata": {},
     "output_type": "display_data"
    },
    {
     "data": {
      "text/html": [
       "\n",
       "        <div id=\"KuyprgMT7QHxz6LyF5gwWA\"></div>\n",
       "        <script>netpixi.call('KuyprgMT7QHxz6LyF5gwWA', 'gFGaBMTAQdGaHJJQshijMZ', 'changeGraph', 'eyJpZCI6IDc0LCAidHlwZSI6ICJ2ZXJ0ZXgiLCAicHJvcHMiOiB7ImNvbG9yIjogMTY3MTE2ODB9fQo=');</script>\n",
       "    "
      ],
      "text/plain": [
       "<IPython.core.display.HTML object>"
      ]
     },
     "metadata": {},
     "output_type": "display_data"
    },
    {
     "data": {
      "text/html": [
       "\n",
       "        <div id=\"RgFMC8eEFNYpMbXa7JHKpe\"></div>\n",
       "        <script>netpixi.call('RgFMC8eEFNYpMbXa7JHKpe', 'gFGaBMTAQdGaHJJQshijMZ', 'changeGraph', 'eyJpZCI6IDE5NCwgInR5cGUiOiAidmVydGV4IiwgInByb3BzIjogeyJzaXplIjogMTAuMH19Cg==');</script>\n",
       "    "
      ],
      "text/plain": [
       "<IPython.core.display.HTML object>"
      ]
     },
     "metadata": {},
     "output_type": "display_data"
    },
    {
     "data": {
      "text/html": [
       "\n",
       "        <div id=\"Dsik5FNwynC28T7F5aXwM4\"></div>\n",
       "        <script>netpixi.call('Dsik5FNwynC28T7F5aXwM4', 'gFGaBMTAQdGaHJJQshijMZ', 'changeGraph', 'eyJpZCI6IDY2LCAidHlwZSI6ICJ2ZXJ0ZXgiLCAicHJvcHMiOiB7ImNvbG9yIjogMTY3MTE2ODB9fQo=');</script>\n",
       "    "
      ],
      "text/plain": [
       "<IPython.core.display.HTML object>"
      ]
     },
     "metadata": {},
     "output_type": "display_data"
    },
    {
     "data": {
      "text/html": [
       "\n",
       "        <div id=\"SPSg5AodouLsHe6QkpqFHX\"></div>\n",
       "        <script>netpixi.call('SPSg5AodouLsHe6QkpqFHX', 'gFGaBMTAQdGaHJJQshijMZ', 'changeGraph', 'eyJpZCI6IDE5NSwgInR5cGUiOiAidmVydGV4IiwgInByb3BzIjogeyJzaXplIjogNDAuMzMzMzMzMzMzMzMzMzN9fQo=');</script>\n",
       "    "
      ],
      "text/plain": [
       "<IPython.core.display.HTML object>"
      ]
     },
     "metadata": {},
     "output_type": "display_data"
    },
    {
     "data": {
      "text/html": [
       "\n",
       "        <div id=\"HaXdbikwPLKpEkfJpw7YWx\"></div>\n",
       "        <script>netpixi.call('HaXdbikwPLKpEkfJpw7YWx', 'gFGaBMTAQdGaHJJQshijMZ', 'changeGraph', 'eyJpZCI6IDgwLCAidHlwZSI6ICJ2ZXJ0ZXgiLCAicHJvcHMiOiB7ImNvbG9yIjogMTY3MTE2ODB9fQo=');</script>\n",
       "    "
      ],
      "text/plain": [
       "<IPython.core.display.HTML object>"
      ]
     },
     "metadata": {},
     "output_type": "display_data"
    },
    {
     "data": {
      "text/html": [
       "\n",
       "        <div id=\"DbivgoQVvyzu9Nkf7t3roC\"></div>\n",
       "        <script>netpixi.call('DbivgoQVvyzu9Nkf7t3roC', 'gFGaBMTAQdGaHJJQshijMZ', 'changeGraph', 'eyJpZCI6IDE5NiwgInR5cGUiOiAidmVydGV4IiwgInByb3BzIjogeyJzaXplIjogNDEuODMzMzMzMzMzMzMzMzN9fQo=');</script>\n",
       "    "
      ],
      "text/plain": [
       "<IPython.core.display.HTML object>"
      ]
     },
     "metadata": {},
     "output_type": "display_data"
    },
    {
     "data": {
      "text/html": [
       "\n",
       "        <div id=\"59mCMGc5C5vntYZwPBibwS\"></div>\n",
       "        <script>netpixi.call('59mCMGc5C5vntYZwPBibwS', 'gFGaBMTAQdGaHJJQshijMZ', 'changeGraph', 'eyJpZCI6IDgyLCAidHlwZSI6ICJ2ZXJ0ZXgiLCAicHJvcHMiOiB7ImNvbG9yIjogMTY3MTE2ODB9fQo=');</script>\n",
       "    "
      ],
      "text/plain": [
       "<IPython.core.display.HTML object>"
      ]
     },
     "metadata": {},
     "output_type": "display_data"
    },
    {
     "data": {
      "text/html": [
       "\n",
       "        <div id=\"CEeC6EtivMUaRfW6v7Xay6\"></div>\n",
       "        <script>netpixi.call('CEeC6EtivMUaRfW6v7Xay6', 'gFGaBMTAQdGaHJJQshijMZ', 'changeGraph', 'eyJpZCI6IDE5NywgInR5cGUiOiAidmVydGV4IiwgInByb3BzIjogeyJzaXplIjogNDIuODMzMzMzMzMzMzMzMzN9fQo=');</script>\n",
       "    "
      ],
      "text/plain": [
       "<IPython.core.display.HTML object>"
      ]
     },
     "metadata": {},
     "output_type": "display_data"
    },
    {
     "data": {
      "text/html": [
       "\n",
       "        <div id=\"AbiRf3rs4ENpmSA9FWcb5s\"></div>\n",
       "        <script>netpixi.call('AbiRf3rs4ENpmSA9FWcb5s', 'gFGaBMTAQdGaHJJQshijMZ', 'changeGraph', 'eyJpZCI6IDY3LCAidHlwZSI6ICJ2ZXJ0ZXgiLCAicHJvcHMiOiB7ImNvbG9yIjogMTY3MTE2ODB9fQo=');</script>\n",
       "    "
      ],
      "text/plain": [
       "<IPython.core.display.HTML object>"
      ]
     },
     "metadata": {},
     "output_type": "display_data"
    },
    {
     "data": {
      "text/html": [
       "\n",
       "        <div id=\"Er4wWmRVDcrGfH4yC6Cr3N\"></div>\n",
       "        <script>netpixi.call('Er4wWmRVDcrGfH4yC6Cr3N', 'gFGaBMTAQdGaHJJQshijMZ', 'changeGraph', 'eyJpZCI6IDE5OCwgInR5cGUiOiAidmVydGV4IiwgInByb3BzIjogeyJzaXplIjogMTcuOTA3OTQ5NzkwNzk0OTh9fQo=');</script>\n",
       "    "
      ],
      "text/plain": [
       "<IPython.core.display.HTML object>"
      ]
     },
     "metadata": {},
     "output_type": "display_data"
    },
    {
     "data": {
      "text/html": [
       "\n",
       "        <div id=\"Y5A3UyrUnht4Vp3A33hfHV\"></div>\n",
       "        <script>netpixi.call('Y5A3UyrUnht4Vp3A33hfHV', 'gFGaBMTAQdGaHJJQshijMZ', 'changeGraph', 'eyJpZCI6IDc0LCAidHlwZSI6ICJ2ZXJ0ZXgiLCAicHJvcHMiOiB7ImNvbG9yIjogMTY3MTE2ODB9fQo=');</script>\n",
       "    "
      ],
      "text/plain": [
       "<IPython.core.display.HTML object>"
      ]
     },
     "metadata": {},
     "output_type": "display_data"
    },
    {
     "data": {
      "text/html": [
       "\n",
       "        <div id=\"WaVU3m6bdMz8bZnVgqoS2r\"></div>\n",
       "        <script>netpixi.call('WaVU3m6bdMz8bZnVgqoS2r', 'gFGaBMTAQdGaHJJQshijMZ', 'changeGraph', 'eyJpZCI6IDE5OSwgInR5cGUiOiAidmVydGV4IiwgInByb3BzIjogeyJzaXplIjogMTMuNjgyMDA4MzY4MjAwODM3fX0K');</script>\n",
       "    "
      ],
      "text/plain": [
       "<IPython.core.display.HTML object>"
      ]
     },
     "metadata": {},
     "output_type": "display_data"
    },
    {
     "data": {
      "text/html": [
       "\n",
       "        <div id=\"PtgCBiQEmU6rLXiQc7CAuL\"></div>\n",
       "        <script>netpixi.call('PtgCBiQEmU6rLXiQc7CAuL', 'gFGaBMTAQdGaHJJQshijMZ', 'changeGraph', 'eyJpZCI6IDcxLCAidHlwZSI6ICJ2ZXJ0ZXgiLCAicHJvcHMiOiB7ImNvbG9yIjogMTY3MTE2ODB9fQo=');</script>\n",
       "    "
      ],
      "text/plain": [
       "<IPython.core.display.HTML object>"
      ]
     },
     "metadata": {},
     "output_type": "display_data"
    },
    {
     "data": {
      "text/html": [
       "\n",
       "        <div id=\"F7qsq4xNZvUTxKjVdgUfMY\"></div>\n",
       "        <script>netpixi.call('F7qsq4xNZvUTxKjVdgUfMY', 'gFGaBMTAQdGaHJJQshijMZ', 'changeGraph', 'eyJpZCI6IDIwMCwgInR5cGUiOiAidmVydGV4IiwgInByb3BzIjogeyJzaXplIjogMTQuNDM1MTQ2NDQzNTE0NjQzfX0K');</script>\n",
       "    "
      ],
      "text/plain": [
       "<IPython.core.display.HTML object>"
      ]
     },
     "metadata": {},
     "output_type": "display_data"
    },
    {
     "data": {
      "text/html": [
       "\n",
       "        <div id=\"8YvReQSm8b8ekkfF6yMyVy\"></div>\n",
       "        <script>netpixi.call('8YvReQSm8b8ekkfF6yMyVy', 'gFGaBMTAQdGaHJJQshijMZ', 'changeGraph', 'eyJpZCI6IDgyLCAidHlwZSI6ICJ2ZXJ0ZXgiLCAicHJvcHMiOiB7ImNvbG9yIjogMTY3MTE2ODB9fQo=');</script>\n",
       "    "
      ],
      "text/plain": [
       "<IPython.core.display.HTML object>"
      ]
     },
     "metadata": {},
     "output_type": "display_data"
    },
    {
     "data": {
      "text/html": [
       "\n",
       "        <div id=\"9zZ5VUjJEFtqjzjbqt3mmY\"></div>\n",
       "        <script>netpixi.call('9zZ5VUjJEFtqjzjbqt3mmY', 'gFGaBMTAQdGaHJJQshijMZ', 'changeGraph', 'eyJpZCI6IDIwMSwgInR5cGUiOiAidmVydGV4IiwgInByb3BzIjogeyJzaXplIjogMTYuNTI3MTk2NjUyNzE5NjY3fX0K');</script>\n",
       "    "
      ],
      "text/plain": [
       "<IPython.core.display.HTML object>"
      ]
     },
     "metadata": {},
     "output_type": "display_data"
    },
    {
     "data": {
      "text/html": [
       "\n",
       "        <div id=\"aE9Hxin4VwHNEJQBz6Mnky\"></div>\n",
       "        <script>netpixi.call('aE9Hxin4VwHNEJQBz6Mnky', 'gFGaBMTAQdGaHJJQshijMZ', 'changeGraph', 'eyJpZCI6IDc4LCAidHlwZSI6ICJ2ZXJ0ZXgiLCAicHJvcHMiOiB7ImNvbG9yIjogMTY3MTE2ODB9fQo=');</script>\n",
       "    "
      ],
      "text/plain": [
       "<IPython.core.display.HTML object>"
      ]
     },
     "metadata": {},
     "output_type": "display_data"
    },
    {
     "data": {
      "text/html": [
       "\n",
       "        <div id=\"dt8z5E5tXbS3Po5mRvHDyv\"></div>\n",
       "        <script>netpixi.call('dt8z5E5tXbS3Po5mRvHDyv', 'gFGaBMTAQdGaHJJQshijMZ', 'changeGraph', 'eyJpZCI6IDIwMiwgInR5cGUiOiAidmVydGV4IiwgInByb3BzIjogeyJzaXplIjogNDEuNjY2NjY2NjY2NjY2NjY0fX0K');</script>\n",
       "    "
      ],
      "text/plain": [
       "<IPython.core.display.HTML object>"
      ]
     },
     "metadata": {},
     "output_type": "display_data"
    },
    {
     "data": {
      "text/html": [
       "\n",
       "        <div id=\"jzk8PouQvP5UBKMfRUMwGd\"></div>\n",
       "        <script>netpixi.call('jzk8PouQvP5UBKMfRUMwGd', 'gFGaBMTAQdGaHJJQshijMZ', 'changeGraph', 'eyJpZCI6IDczLCAidHlwZSI6ICJ2ZXJ0ZXgiLCAicHJvcHMiOiB7ImNvbG9yIjogMTY3MTE2ODB9fQo=');</script>\n",
       "    "
      ],
      "text/plain": [
       "<IPython.core.display.HTML object>"
      ]
     },
     "metadata": {},
     "output_type": "display_data"
    },
    {
     "data": {
      "text/html": [
       "\n",
       "        <div id=\"nxzEmSVXbdVfbjQg6tHmGv\"></div>\n",
       "        <script>netpixi.call('nxzEmSVXbdVfbjQg6tHmGv', 'gFGaBMTAQdGaHJJQshijMZ', 'changeGraph', 'eyJpZCI6IDIwMywgInR5cGUiOiAidmVydGV4IiwgInByb3BzIjogeyJzaXplIjogMTAuNDE4NDEwMDQxODQxMDAzfX0K');</script>\n",
       "    "
      ],
      "text/plain": [
       "<IPython.core.display.HTML object>"
      ]
     },
     "metadata": {},
     "output_type": "display_data"
    },
    {
     "data": {
      "text/html": [
       "\n",
       "        <div id=\"WKHRVEo4Q6fHvTBzwBNjzB\"></div>\n",
       "        <script>netpixi.call('WKHRVEo4Q6fHvTBzwBNjzB', 'gFGaBMTAQdGaHJJQshijMZ', 'changeGraph', 'eyJpZCI6IDc4LCAidHlwZSI6ICJ2ZXJ0ZXgiLCAicHJvcHMiOiB7ImNvbG9yIjogMTY3MTE2ODB9fQo=');</script>\n",
       "    "
      ],
      "text/plain": [
       "<IPython.core.display.HTML object>"
      ]
     },
     "metadata": {},
     "output_type": "display_data"
    },
    {
     "data": {
      "text/html": [
       "\n",
       "        <div id=\"FnmzYGBQwJbVf8GsqEquEy\"></div>\n",
       "        <script>netpixi.call('FnmzYGBQwJbVf8GsqEquEy', 'gFGaBMTAQdGaHJJQshijMZ', 'changeGraph', 'eyJpZCI6IDIwNCwgInR5cGUiOiAidmVydGV4IiwgInByb3BzIjogeyJzaXplIjogMTAuNzUzMTM4MDc1MzEzODA3fX0K');</script>\n",
       "    "
      ],
      "text/plain": [
       "<IPython.core.display.HTML object>"
      ]
     },
     "metadata": {},
     "output_type": "display_data"
    },
    {
     "data": {
      "text/html": [
       "\n",
       "        <div id=\"R5kN5WTwUnHXdXHfF42hS2\"></div>\n",
       "        <script>netpixi.call('R5kN5WTwUnHXdXHfF42hS2', 'gFGaBMTAQdGaHJJQshijMZ', 'changeGraph', 'eyJpZCI6IDgxLCAidHlwZSI6ICJ2ZXJ0ZXgiLCAicHJvcHMiOiB7ImNvbG9yIjogMTY3MTE2ODB9fQo=');</script>\n",
       "    "
      ],
      "text/plain": [
       "<IPython.core.display.HTML object>"
      ]
     },
     "metadata": {},
     "output_type": "display_data"
    },
    {
     "data": {
      "text/html": [
       "\n",
       "        <div id=\"AunVAcbRJzcsBXviwg4MbS\"></div>\n",
       "        <script>netpixi.call('AunVAcbRJzcsBXviwg4MbS', 'gFGaBMTAQdGaHJJQshijMZ', 'changeGraph', 'eyJpZCI6IDIwNSwgInR5cGUiOiAidmVydGV4IiwgInByb3BzIjogeyJzaXplIjogMTUuODU3NzQwNTg1Nzc0MDU4fX0K');</script>\n",
       "    "
      ],
      "text/plain": [
       "<IPython.core.display.HTML object>"
      ]
     },
     "metadata": {},
     "output_type": "display_data"
    },
    {
     "data": {
      "text/html": [
       "\n",
       "        <div id=\"PH8jjNbpQxy8DrZTnMtFWM\"></div>\n",
       "        <script>netpixi.call('PH8jjNbpQxy8DrZTnMtFWM', 'gFGaBMTAQdGaHJJQshijMZ', 'changeGraph', 'eyJpZCI6IDg2LCAidHlwZSI6ICJ2ZXJ0ZXgiLCAicHJvcHMiOiB7ImNvbG9yIjogMTY3MTE2ODB9fQo=');</script>\n",
       "    "
      ],
      "text/plain": [
       "<IPython.core.display.HTML object>"
      ]
     },
     "metadata": {},
     "output_type": "display_data"
    },
    {
     "data": {
      "text/html": [
       "\n",
       "        <div id=\"ar3zQFy9rbFppx9o99zCRC\"></div>\n",
       "        <script>netpixi.call('ar3zQFy9rbFppx9o99zCRC', 'gFGaBMTAQdGaHJJQshijMZ', 'changeGraph', 'eyJpZCI6IDIwNiwgInR5cGUiOiAidmVydGV4IiwgInByb3BzIjogeyJzaXplIjogMTguNTc3NDA1ODU3NzQwNTg3fX0K');</script>\n",
       "    "
      ],
      "text/plain": [
       "<IPython.core.display.HTML object>"
      ]
     },
     "metadata": {},
     "output_type": "display_data"
    },
    {
     "data": {
      "text/html": [
       "\n",
       "        <div id=\"Nxpe4LhwEmtyigRbEvhoUV\"></div>\n",
       "        <script>netpixi.call('Nxpe4LhwEmtyigRbEvhoUV', 'gFGaBMTAQdGaHJJQshijMZ', 'changeGraph', 'eyJpZCI6IDg0LCAidHlwZSI6ICJ2ZXJ0ZXgiLCAicHJvcHMiOiB7ImNvbG9yIjogMTY3MTE2ODB9fQo=');</script>\n",
       "    "
      ],
      "text/plain": [
       "<IPython.core.display.HTML object>"
      ]
     },
     "metadata": {},
     "output_type": "display_data"
    },
    {
     "data": {
      "text/html": [
       "\n",
       "        <div id=\"b8gZQDCZ3duuGHFq64vS3T\"></div>\n",
       "        <script>netpixi.call('b8gZQDCZ3duuGHFq64vS3T', 'gFGaBMTAQdGaHJJQshijMZ', 'changeGraph', 'eyJpZCI6IDIwNywgInR5cGUiOiAidmVydGV4IiwgInByb3BzIjogeyJzaXplIjogMTIuMzQzMDk2MjM0MzA5NjIzfX0K');</script>\n",
       "    "
      ],
      "text/plain": [
       "<IPython.core.display.HTML object>"
      ]
     },
     "metadata": {},
     "output_type": "display_data"
    },
    {
     "data": {
      "text/html": [
       "\n",
       "        <div id=\"npUbhZB8dfZxVzs2NvcE3H\"></div>\n",
       "        <script>netpixi.call('npUbhZB8dfZxVzs2NvcE3H', 'gFGaBMTAQdGaHJJQshijMZ', 'changeGraph', 'eyJpZCI6IDY1LCAidHlwZSI6ICJ2ZXJ0ZXgiLCAicHJvcHMiOiB7ImNvbG9yIjogMTY3MTE2ODB9fQo=');</script>\n",
       "    "
      ],
      "text/plain": [
       "<IPython.core.display.HTML object>"
      ]
     },
     "metadata": {},
     "output_type": "display_data"
    },
    {
     "data": {
      "text/html": [
       "\n",
       "        <div id=\"6MgkQvTCqCCgaGwCJkT2oZ\"></div>\n",
       "        <script>netpixi.call('6MgkQvTCqCCgaGwCJkT2oZ', 'gFGaBMTAQdGaHJJQshijMZ', 'changeGraph', 'eyJpZCI6IDIwOCwgInR5cGUiOiAidmVydGV4IiwgInByb3BzIjogeyJzaXplIjogMTEuNzk5MTYzMTc5OTE2MzE4fX0K');</script>\n",
       "    "
      ],
      "text/plain": [
       "<IPython.core.display.HTML object>"
      ]
     },
     "metadata": {},
     "output_type": "display_data"
    },
    {
     "data": {
      "text/html": [
       "\n",
       "        <div id=\"LdDRF5cUwXyGAUrVnrZtAb\"></div>\n",
       "        <script>netpixi.call('LdDRF5cUwXyGAUrVnrZtAb', 'gFGaBMTAQdGaHJJQshijMZ', 'changeGraph', 'eyJpZCI6IDczLCAidHlwZSI6ICJ2ZXJ0ZXgiLCAicHJvcHMiOiB7ImNvbG9yIjogMTY3MTE2ODB9fQo=');</script>\n",
       "    "
      ],
      "text/plain": [
       "<IPython.core.display.HTML object>"
      ]
     },
     "metadata": {},
     "output_type": "display_data"
    },
    {
     "data": {
      "text/html": [
       "\n",
       "        <div id=\"4E633sX8J2QnMoHFgLkLn3\"></div>\n",
       "        <script>netpixi.call('4E633sX8J2QnMoHFgLkLn3', 'gFGaBMTAQdGaHJJQshijMZ', 'changeGraph', 'eyJpZCI6IDIwOSwgInR5cGUiOiAidmVydGV4IiwgInByb3BzIjogeyJzaXplIjogMTEuNTg5OTU4MTU4OTk1ODE3fX0K');</script>\n",
       "    "
      ],
      "text/plain": [
       "<IPython.core.display.HTML object>"
      ]
     },
     "metadata": {},
     "output_type": "display_data"
    },
    {
     "data": {
      "text/html": [
       "\n",
       "        <div id=\"iaMYUvRNb6LhuHbwgtwuDh\"></div>\n",
       "        <script>netpixi.call('iaMYUvRNb6LhuHbwgtwuDh', 'gFGaBMTAQdGaHJJQshijMZ', 'changeGraph', 'eyJpZCI6IDcwLCAidHlwZSI6ICJ2ZXJ0ZXgiLCAicHJvcHMiOiB7ImNvbG9yIjogMTY3MTE2ODB9fQo=');</script>\n",
       "    "
      ],
      "text/plain": [
       "<IPython.core.display.HTML object>"
      ]
     },
     "metadata": {},
     "output_type": "display_data"
    },
    {
     "data": {
      "text/html": [
       "\n",
       "        <div id=\"HRMK6e66tECT98q8LPxHec\"></div>\n",
       "        <script>netpixi.call('HRMK6e66tECT98q8LPxHec', 'gFGaBMTAQdGaHJJQshijMZ', 'changeGraph', 'eyJpZCI6IDIxMCwgInR5cGUiOiAidmVydGV4IiwgInByb3BzIjogeyJzaXplIjogMTYuNzM2NDAxNjczNjQwMTY3fX0K');</script>\n",
       "    "
      ],
      "text/plain": [
       "<IPython.core.display.HTML object>"
      ]
     },
     "metadata": {},
     "output_type": "display_data"
    },
    {
     "data": {
      "text/html": [
       "\n",
       "        <div id=\"d9XzYYNtgAQ8upeZo6H8xa\"></div>\n",
       "        <script>netpixi.call('d9XzYYNtgAQ8upeZo6H8xa', 'gFGaBMTAQdGaHJJQshijMZ', 'changeGraph', 'eyJpZCI6IDc0LCAidHlwZSI6ICJ2ZXJ0ZXgiLCAicHJvcHMiOiB7ImNvbG9yIjogMTY3MTE2ODB9fQo=');</script>\n",
       "    "
      ],
      "text/plain": [
       "<IPython.core.display.HTML object>"
      ]
     },
     "metadata": {},
     "output_type": "display_data"
    },
    {
     "data": {
      "text/html": [
       "\n",
       "        <div id=\"44u3bNCnsWH9gDiwKZEpmJ\"></div>\n",
       "        <script>netpixi.call('44u3bNCnsWH9gDiwKZEpmJ', 'gFGaBMTAQdGaHJJQshijMZ', 'changeGraph', 'eyJpZCI6IDIxMSwgInR5cGUiOiAidmVydGV4IiwgInByb3BzIjogeyJzaXplIjogMTMuMTM4MDc1MzEzODA3NTMyfX0K');</script>\n",
       "    "
      ],
      "text/plain": [
       "<IPython.core.display.HTML object>"
      ]
     },
     "metadata": {},
     "output_type": "display_data"
    },
    {
     "data": {
      "text/html": [
       "\n",
       "        <div id=\"KFuL98GniJZPAEDmQ5LG74\"></div>\n",
       "        <script>netpixi.call('KFuL98GniJZPAEDmQ5LG74', 'gFGaBMTAQdGaHJJQshijMZ', 'changeGraph', 'eyJpZCI6IDc3LCAidHlwZSI6ICJ2ZXJ0ZXgiLCAicHJvcHMiOiB7ImNvbG9yIjogMTY3MTE2ODB9fQo=');</script>\n",
       "    "
      ],
      "text/plain": [
       "<IPython.core.display.HTML object>"
      ]
     },
     "metadata": {},
     "output_type": "display_data"
    },
    {
     "data": {
      "text/html": [
       "\n",
       "        <div id=\"6pgSf4zGnMAWsxFUEL5yr4\"></div>\n",
       "        <script>netpixi.call('6pgSf4zGnMAWsxFUEL5yr4', 'gFGaBMTAQdGaHJJQshijMZ', 'changeGraph', 'eyJpZCI6IDIxMiwgInR5cGUiOiAidmVydGV4IiwgInByb3BzIjogeyJzaXplIjogMTUuMzk3NDg5NTM5NzQ4OTUzfX0K');</script>\n",
       "    "
      ],
      "text/plain": [
       "<IPython.core.display.HTML object>"
      ]
     },
     "metadata": {},
     "output_type": "display_data"
    },
    {
     "data": {
      "text/html": [
       "\n",
       "        <div id=\"WPjBbUyvwXtswVVoMLCkqe\"></div>\n",
       "        <script>netpixi.call('WPjBbUyvwXtswVVoMLCkqe', 'gFGaBMTAQdGaHJJQshijMZ', 'changeGraph', 'eyJpZCI6IDY3LCAidHlwZSI6ICJ2ZXJ0ZXgiLCAicHJvcHMiOiB7ImNvbG9yIjogMTY3MTE2ODB9fQo=');</script>\n",
       "    "
      ],
      "text/plain": [
       "<IPython.core.display.HTML object>"
      ]
     },
     "metadata": {},
     "output_type": "display_data"
    },
    {
     "data": {
      "text/html": [
       "\n",
       "        <div id=\"TpoTP6ZiyNRLwsrgnSQt8j\"></div>\n",
       "        <script>netpixi.call('TpoTP6ZiyNRLwsrgnSQt8j', 'gFGaBMTAQdGaHJJQshijMZ', 'changeGraph', 'eyJpZCI6IDIxMywgInR5cGUiOiAidmVydGV4IiwgInByb3BzIjogeyJzaXplIjogMTIuNTEwNDYwMjUxMDQ2MDI1fX0K');</script>\n",
       "    "
      ],
      "text/plain": [
       "<IPython.core.display.HTML object>"
      ]
     },
     "metadata": {},
     "output_type": "display_data"
    },
    {
     "data": {
      "text/html": [
       "\n",
       "        <div id=\"D2nt8jgJHPhpNbz7gAvVLS\"></div>\n",
       "        <script>netpixi.call('D2nt8jgJHPhpNbz7gAvVLS', 'gFGaBMTAQdGaHJJQshijMZ', 'changeGraph', 'eyJpZCI6IDc4LCAidHlwZSI6ICJ2ZXJ0ZXgiLCAicHJvcHMiOiB7ImNvbG9yIjogMTY3MTE2ODB9fQo=');</script>\n",
       "    "
      ],
      "text/plain": [
       "<IPython.core.display.HTML object>"
      ]
     },
     "metadata": {},
     "output_type": "display_data"
    },
    {
     "data": {
      "text/html": [
       "\n",
       "        <div id=\"haHbavK3yKZYw7Vb3CAk4q\"></div>\n",
       "        <script>netpixi.call('haHbavK3yKZYw7Vb3CAk4q', 'gFGaBMTAQdGaHJJQshijMZ', 'changeGraph', 'eyJpZCI6IDIxNCwgInR5cGUiOiAidmVydGV4IiwgInByb3BzIjogeyJzaXplIjogMTUuNzMyMjE3NTczMjIxNzU3fX0K');</script>\n",
       "    "
      ],
      "text/plain": [
       "<IPython.core.display.HTML object>"
      ]
     },
     "metadata": {},
     "output_type": "display_data"
    },
    {
     "data": {
      "text/html": [
       "\n",
       "        <div id=\"eZbC2rLexonB7WLfSuzxBE\"></div>\n",
       "        <script>netpixi.call('eZbC2rLexonB7WLfSuzxBE', 'gFGaBMTAQdGaHJJQshijMZ', 'changeGraph', 'eyJpZCI6IDg0LCAidHlwZSI6ICJ2ZXJ0ZXgiLCAicHJvcHMiOiB7ImNvbG9yIjogMTY3MTE2ODB9fQo=');</script>\n",
       "    "
      ],
      "text/plain": [
       "<IPython.core.display.HTML object>"
      ]
     },
     "metadata": {},
     "output_type": "display_data"
    },
    {
     "data": {
      "text/html": [
       "\n",
       "        <div id=\"WhoDkovCfdhKNo5Uid7oaW\"></div>\n",
       "        <script>netpixi.call('WhoDkovCfdhKNo5Uid7oaW', 'gFGaBMTAQdGaHJJQshijMZ', 'changeGraph', 'eyJpZCI6IDIxNSwgInR5cGUiOiAidmVydGV4IiwgInByb3BzIjogeyJzaXplIjogMTkuNzA3MTEyOTcwNzExMjk3fX0K');</script>\n",
       "    "
      ],
      "text/plain": [
       "<IPython.core.display.HTML object>"
      ]
     },
     "metadata": {},
     "output_type": "display_data"
    },
    {
     "data": {
      "text/html": [
       "\n",
       "        <div id=\"4NikogzYjjsRa9F3qZFMMC\"></div>\n",
       "        <script>netpixi.call('4NikogzYjjsRa9F3qZFMMC', 'gFGaBMTAQdGaHJJQshijMZ', 'changeGraph', 'eyJpZCI6IDc1LCAidHlwZSI6ICJ2ZXJ0ZXgiLCAicHJvcHMiOiB7ImNvbG9yIjogMTY3MTE2ODB9fQo=');</script>\n",
       "    "
      ],
      "text/plain": [
       "<IPython.core.display.HTML object>"
      ]
     },
     "metadata": {},
     "output_type": "display_data"
    },
    {
     "data": {
      "text/html": [
       "\n",
       "        <div id=\"WnyeTE8QXEKTu8THJgH3kP\"></div>\n",
       "        <script>netpixi.call('WnyeTE8QXEKTu8THJgH3kP', 'gFGaBMTAQdGaHJJQshijMZ', 'changeGraph', 'eyJpZCI6IDIxNiwgInR5cGUiOiAidmVydGV4IiwgInByb3BzIjogeyJzaXplIjogMTUuNzc0MDU4NTc3NDA1ODU3fX0K');</script>\n",
       "    "
      ],
      "text/plain": [
       "<IPython.core.display.HTML object>"
      ]
     },
     "metadata": {},
     "output_type": "display_data"
    },
    {
     "data": {
      "text/html": [
       "\n",
       "        <div id=\"ea493hALzwPBM6PgSdT4s3\"></div>\n",
       "        <script>netpixi.call('ea493hALzwPBM6PgSdT4s3', 'gFGaBMTAQdGaHJJQshijMZ', 'changeGraph', 'eyJpZCI6IDczLCAidHlwZSI6ICJ2ZXJ0ZXgiLCAicHJvcHMiOiB7ImNvbG9yIjogMTY3MTE2ODB9fQo=');</script>\n",
       "    "
      ],
      "text/plain": [
       "<IPython.core.display.HTML object>"
      ]
     },
     "metadata": {},
     "output_type": "display_data"
    },
    {
     "data": {
      "text/html": [
       "\n",
       "        <div id=\"PWmxFAvxKoKubrJuEhD5gg\"></div>\n",
       "        <script>netpixi.call('PWmxFAvxKoKubrJuEhD5gg', 'gFGaBMTAQdGaHJJQshijMZ', 'changeGraph', 'eyJpZCI6IDIxNywgInR5cGUiOiAidmVydGV4IiwgInByb3BzIjogeyJzaXplIjogMTYuMjM0MzA5NjIzNDMwOTZ9fQo=');</script>\n",
       "    "
      ],
      "text/plain": [
       "<IPython.core.display.HTML object>"
      ]
     },
     "metadata": {},
     "output_type": "display_data"
    },
    {
     "data": {
      "text/html": [
       "\n",
       "        <div id=\"ayisT3nhPZGqtm3TxNhz6Z\"></div>\n",
       "        <script>netpixi.call('ayisT3nhPZGqtm3TxNhz6Z', 'gFGaBMTAQdGaHJJQshijMZ', 'changeGraph', 'eyJpZCI6IDg0LCAidHlwZSI6ICJ2ZXJ0ZXgiLCAicHJvcHMiOiB7ImNvbG9yIjogMTY3MTE2ODB9fQo=');</script>\n",
       "    "
      ],
      "text/plain": [
       "<IPython.core.display.HTML object>"
      ]
     },
     "metadata": {},
     "output_type": "display_data"
    },
    {
     "data": {
      "text/html": [
       "\n",
       "        <div id=\"HgKgk2UeYgcWEjqLFCB4gM\"></div>\n",
       "        <script>netpixi.call('HgKgk2UeYgcWEjqLFCB4gM', 'gFGaBMTAQdGaHJJQshijMZ', 'changeGraph', 'eyJpZCI6IDIxOCwgInR5cGUiOiAidmVydGV4IiwgInByb3BzIjogeyJzaXplIjogMTguMjAwODM2ODIwMDgzNjh9fQo=');</script>\n",
       "    "
      ],
      "text/plain": [
       "<IPython.core.display.HTML object>"
      ]
     },
     "metadata": {},
     "output_type": "display_data"
    },
    {
     "data": {
      "text/html": [
       "\n",
       "        <div id=\"TD3uh5syx9m3WkrfJF3zNy\"></div>\n",
       "        <script>netpixi.call('TD3uh5syx9m3WkrfJF3zNy', 'gFGaBMTAQdGaHJJQshijMZ', 'changeGraph', 'eyJpZCI6IDcyLCAidHlwZSI6ICJ2ZXJ0ZXgiLCAicHJvcHMiOiB7ImNvbG9yIjogMTY3MTE2ODB9fQo=');</script>\n",
       "    "
      ],
      "text/plain": [
       "<IPython.core.display.HTML object>"
      ]
     },
     "metadata": {},
     "output_type": "display_data"
    },
    {
     "data": {
      "text/html": [
       "\n",
       "        <div id=\"VMpJU3AphYgtYttrE8XspE\"></div>\n",
       "        <script>netpixi.call('VMpJU3AphYgtYttrE8XspE', 'gFGaBMTAQdGaHJJQshijMZ', 'changeGraph', 'eyJpZCI6IDIxOSwgInR5cGUiOiAidmVydGV4IiwgInByb3BzIjogeyJzaXplIjogMTguMjQyNjc3ODI0MjY3Nzh9fQo=');</script>\n",
       "    "
      ],
      "text/plain": [
       "<IPython.core.display.HTML object>"
      ]
     },
     "metadata": {},
     "output_type": "display_data"
    },
    {
     "data": {
      "text/html": [
       "\n",
       "        <div id=\"Qyk8dAqyQGxZULTYkNjviq\"></div>\n",
       "        <script>netpixi.call('Qyk8dAqyQGxZULTYkNjviq', 'gFGaBMTAQdGaHJJQshijMZ', 'changeGraph', 'eyJpZCI6IDg2LCAidHlwZSI6ICJ2ZXJ0ZXgiLCAicHJvcHMiOiB7ImNvbG9yIjogMTY3MTE2ODB9fQo=');</script>\n",
       "    "
      ],
      "text/plain": [
       "<IPython.core.display.HTML object>"
      ]
     },
     "metadata": {},
     "output_type": "display_data"
    },
    {
     "data": {
      "text/html": [
       "\n",
       "        <div id=\"hJP5mqRotFNvPDANpXaa4X\"></div>\n",
       "        <script>netpixi.call('hJP5mqRotFNvPDANpXaa4X', 'gFGaBMTAQdGaHJJQshijMZ', 'changeGraph', 'eyJpZCI6IDIyMCwgInR5cGUiOiAidmVydGV4IiwgInByb3BzIjogeyJzaXplIjogNDIuNX19Cg==');</script>\n",
       "    "
      ],
      "text/plain": [
       "<IPython.core.display.HTML object>"
      ]
     },
     "metadata": {},
     "output_type": "display_data"
    },
    {
     "data": {
      "text/html": [
       "\n",
       "        <div id=\"2FgpxA3VTanSKmBHzmniEL\"></div>\n",
       "        <script>netpixi.call('2FgpxA3VTanSKmBHzmniEL', 'gFGaBMTAQdGaHJJQshijMZ', 'changeGraph', 'eyJpZCI6IDc2LCAidHlwZSI6ICJ2ZXJ0ZXgiLCAicHJvcHMiOiB7ImNvbG9yIjogMTY3MTE2ODB9fQo=');</script>\n",
       "    "
      ],
      "text/plain": [
       "<IPython.core.display.HTML object>"
      ]
     },
     "metadata": {},
     "output_type": "display_data"
    },
    {
     "data": {
      "text/html": [
       "\n",
       "        <div id=\"JQxygABMt5kPsv6Awr9x6n\"></div>\n",
       "        <script>netpixi.call('JQxygABMt5kPsv6Awr9x6n', 'gFGaBMTAQdGaHJJQshijMZ', 'changeGraph', 'eyJpZCI6IDIyMSwgInR5cGUiOiAidmVydGV4IiwgInByb3BzIjogeyJzaXplIjogNDkuMzMzMzMzMzMzMzMzMzM2fX0K');</script>\n",
       "    "
      ],
      "text/plain": [
       "<IPython.core.display.HTML object>"
      ]
     },
     "metadata": {},
     "output_type": "display_data"
    },
    {
     "data": {
      "text/html": [
       "\n",
       "        <div id=\"Q6HYqEoWhEEuusF86cmeGh\"></div>\n",
       "        <script>netpixi.call('Q6HYqEoWhEEuusF86cmeGh', 'gFGaBMTAQdGaHJJQshijMZ', 'changeGraph', 'eyJpZCI6IDc2LCAidHlwZSI6ICJ2ZXJ0ZXgiLCAicHJvcHMiOiB7ImNvbG9yIjogMTY3MTE2ODB9fQo=');</script>\n",
       "    "
      ],
      "text/plain": [
       "<IPython.core.display.HTML object>"
      ]
     },
     "metadata": {},
     "output_type": "display_data"
    },
    {
     "data": {
      "text/html": [
       "\n",
       "        <div id=\"A98RTjtmUrz8FG5LLQuRKY\"></div>\n",
       "        <script>netpixi.call('A98RTjtmUrz8FG5LLQuRKY', 'gFGaBMTAQdGaHJJQshijMZ', 'changeGraph', 'eyJpZCI6IDIyMiwgInR5cGUiOiAidmVydGV4IiwgInByb3BzIjogeyJzaXplIjogMTguODcwMjkyODg3MDI5Mjg3fX0K');</script>\n",
       "    "
      ],
      "text/plain": [
       "<IPython.core.display.HTML object>"
      ]
     },
     "metadata": {},
     "output_type": "display_data"
    },
    {
     "data": {
      "text/html": [
       "\n",
       "        <div id=\"jYtA9FhwoCviWxAQyMQHPd\"></div>\n",
       "        <script>netpixi.call('jYtA9FhwoCviWxAQyMQHPd', 'gFGaBMTAQdGaHJJQshijMZ', 'changeGraph', 'eyJpZCI6IDc5LCAidHlwZSI6ICJ2ZXJ0ZXgiLCAicHJvcHMiOiB7ImNvbG9yIjogMTY3MTE2ODB9fQo=');</script>\n",
       "    "
      ],
      "text/plain": [
       "<IPython.core.display.HTML object>"
      ]
     },
     "metadata": {},
     "output_type": "display_data"
    },
    {
     "data": {
      "text/html": [
       "\n",
       "        <div id=\"E3kzeAyMKtHuJXxxcoabZJ\"></div>\n",
       "        <script>netpixi.call('E3kzeAyMKtHuJXxxcoabZJ', 'gFGaBMTAQdGaHJJQshijMZ', 'changeGraph', 'eyJpZCI6IDIyMywgInR5cGUiOiAidmVydGV4IiwgInByb3BzIjogeyJzaXplIjogNDIuMTY2NjY2NjY2NjY2Njd9fQo=');</script>\n",
       "    "
      ],
      "text/plain": [
       "<IPython.core.display.HTML object>"
      ]
     },
     "metadata": {},
     "output_type": "display_data"
    },
    {
     "data": {
      "text/html": [
       "\n",
       "        <div id=\"KQLu2emvBbf3CTmmnzX8hN\"></div>\n",
       "        <script>netpixi.call('KQLu2emvBbf3CTmmnzX8hN', 'gFGaBMTAQdGaHJJQshijMZ', 'changeGraph', 'eyJpZCI6IDcwLCAidHlwZSI6ICJ2ZXJ0ZXgiLCAicHJvcHMiOiB7ImNvbG9yIjogMTY3MTE2ODB9fQo=');</script>\n",
       "    "
      ],
      "text/plain": [
       "<IPython.core.display.HTML object>"
      ]
     },
     "metadata": {},
     "output_type": "display_data"
    },
    {
     "data": {
      "text/html": [
       "\n",
       "        <div id=\"VLaR7X7qdEnCfS4s9JUosB\"></div>\n",
       "        <script>netpixi.call('VLaR7X7qdEnCfS4s9JUosB', 'gFGaBMTAQdGaHJJQshijMZ', 'changeGraph', 'eyJpZCI6IDIyNCwgInR5cGUiOiAidmVydGV4IiwgInByb3BzIjogeyJzaXplIjogMTQuMjI1OTQxNDIyNTk0MTQyfX0K');</script>\n",
       "    "
      ],
      "text/plain": [
       "<IPython.core.display.HTML object>"
      ]
     },
     "metadata": {},
     "output_type": "display_data"
    },
    {
     "data": {
      "text/html": [
       "\n",
       "        <div id=\"QYyrYar62WLYCdH5WcsbSD\"></div>\n",
       "        <script>netpixi.call('QYyrYar62WLYCdH5WcsbSD', 'gFGaBMTAQdGaHJJQshijMZ', 'changeGraph', 'eyJpZCI6IDgxLCAidHlwZSI6ICJ2ZXJ0ZXgiLCAicHJvcHMiOiB7ImNvbG9yIjogMTY3MTE2ODB9fQo=');</script>\n",
       "    "
      ],
      "text/plain": [
       "<IPython.core.display.HTML object>"
      ]
     },
     "metadata": {},
     "output_type": "display_data"
    },
    {
     "data": {
      "text/html": [
       "\n",
       "        <div id=\"NXBzfdkUV5hXrwkwEXmx9P\"></div>\n",
       "        <script>netpixi.call('NXBzfdkUV5hXrwkwEXmx9P', 'gFGaBMTAQdGaHJJQshijMZ', 'changeGraph', 'eyJpZCI6IDIyNSwgInR5cGUiOiAidmVydGV4IiwgInByb3BzIjogeyJzaXplIjogMTQuOTc5MDc5NDk3OTA3OTV9fQo=');</script>\n",
       "    "
      ],
      "text/plain": [
       "<IPython.core.display.HTML object>"
      ]
     },
     "metadata": {},
     "output_type": "display_data"
    },
    {
     "data": {
      "text/html": [
       "\n",
       "        <div id=\"nV7NDRcyVxbB4Lws7H8LeH\"></div>\n",
       "        <script>netpixi.call('nV7NDRcyVxbB4Lws7H8LeH', 'gFGaBMTAQdGaHJJQshijMZ', 'changeGraph', 'eyJpZCI6IDgzLCAidHlwZSI6ICJ2ZXJ0ZXgiLCAicHJvcHMiOiB7ImNvbG9yIjogMTY3MTE2ODB9fQo=');</script>\n",
       "    "
      ],
      "text/plain": [
       "<IPython.core.display.HTML object>"
      ]
     },
     "metadata": {},
     "output_type": "display_data"
    },
    {
     "data": {
      "text/html": [
       "\n",
       "        <div id=\"NhJt86SP84sVjx2LtjuaNv\"></div>\n",
       "        <script>netpixi.call('NhJt86SP84sVjx2LtjuaNv', 'gFGaBMTAQdGaHJJQshijMZ', 'changeGraph', 'eyJpZCI6IDIyNiwgInR5cGUiOiAidmVydGV4IiwgInByb3BzIjogeyJzaXplIjogNDMuNjY2NjY2NjY2NjY2NjY0fX0K');</script>\n",
       "    "
      ],
      "text/plain": [
       "<IPython.core.display.HTML object>"
      ]
     },
     "metadata": {},
     "output_type": "display_data"
    },
    {
     "data": {
      "text/html": [
       "\n",
       "        <div id=\"QMpcDMaH5vck2HN5FxGfYp\"></div>\n",
       "        <script>netpixi.call('QMpcDMaH5vck2HN5FxGfYp', 'gFGaBMTAQdGaHJJQshijMZ', 'changeGraph', 'eyJpZCI6IDc0LCAidHlwZSI6ICJ2ZXJ0ZXgiLCAicHJvcHMiOiB7ImNvbG9yIjogMTY3MTE2ODB9fQo=');</script>\n",
       "    "
      ],
      "text/plain": [
       "<IPython.core.display.HTML object>"
      ]
     },
     "metadata": {},
     "output_type": "display_data"
    },
    {
     "data": {
      "text/html": [
       "\n",
       "        <div id=\"HyqrkGvw3so9xzmqFMLXpY\"></div>\n",
       "        <script>netpixi.call('HyqrkGvw3so9xzmqFMLXpY', 'gFGaBMTAQdGaHJJQshijMZ', 'changeGraph', 'eyJpZCI6IDIyNywgInR5cGUiOiAidmVydGV4IiwgInByb3BzIjogeyJzaXplIjogMTEuMjk3MDcxMTI5NzA3MTEzfX0K');</script>\n",
       "    "
      ],
      "text/plain": [
       "<IPython.core.display.HTML object>"
      ]
     },
     "metadata": {},
     "output_type": "display_data"
    },
    {
     "data": {
      "text/html": [
       "\n",
       "        <div id=\"MFkXEFsSmRFNNFUnKBAZFW\"></div>\n",
       "        <script>netpixi.call('MFkXEFsSmRFNNFUnKBAZFW', 'gFGaBMTAQdGaHJJQshijMZ', 'changeGraph', 'eyJpZCI6IDgxLCAidHlwZSI6ICJ2ZXJ0ZXgiLCAicHJvcHMiOiB7ImNvbG9yIjogMTY3MTE2ODB9fQo=');</script>\n",
       "    "
      ],
      "text/plain": [
       "<IPython.core.display.HTML object>"
      ]
     },
     "metadata": {},
     "output_type": "display_data"
    },
    {
     "data": {
      "text/html": [
       "\n",
       "        <div id=\"UUTDQZFcxZsYN4HwJZJcdp\"></div>\n",
       "        <script>netpixi.call('UUTDQZFcxZsYN4HwJZJcdp', 'gFGaBMTAQdGaHJJQshijMZ', 'changeGraph', 'eyJpZCI6IDIyOCwgInR5cGUiOiAidmVydGV4IiwgInByb3BzIjogeyJzaXplIjogMTAuNTg1Nzc0MDU4NTc3NDA3fX0K');</script>\n",
       "    "
      ],
      "text/plain": [
       "<IPython.core.display.HTML object>"
      ]
     },
     "metadata": {},
     "output_type": "display_data"
    },
    {
     "data": {
      "text/html": [
       "\n",
       "        <div id=\"QfXAijydHpkWzjkZmNNXKn\"></div>\n",
       "        <script>netpixi.call('QfXAijydHpkWzjkZmNNXKn', 'gFGaBMTAQdGaHJJQshijMZ', 'changeGraph', 'eyJpZCI6IDgxLCAidHlwZSI6ICJ2ZXJ0ZXgiLCAicHJvcHMiOiB7ImNvbG9yIjogMTY3MTE2ODB9fQo=');</script>\n",
       "    "
      ],
      "text/plain": [
       "<IPython.core.display.HTML object>"
      ]
     },
     "metadata": {},
     "output_type": "display_data"
    },
    {
     "data": {
      "text/html": [
       "\n",
       "        <div id=\"5p9B4FfYZN4KeQ3ptRzHxq\"></div>\n",
       "        <script>netpixi.call('5p9B4FfYZN4KeQ3ptRzHxq', 'gFGaBMTAQdGaHJJQshijMZ', 'changeGraph', 'eyJpZCI6IDIyOSwgInR5cGUiOiAidmVydGV4IiwgInByb3BzIjogeyJzaXplIjogMTYuOTQ1NjA2Njk0NTYwNjY2fX0K');</script>\n",
       "    "
      ],
      "text/plain": [
       "<IPython.core.display.HTML object>"
      ]
     },
     "metadata": {},
     "output_type": "display_data"
    },
    {
     "data": {
      "text/html": [
       "\n",
       "        <div id=\"9LNQTEesfeUyuZnC8EjsLP\"></div>\n",
       "        <script>netpixi.call('9LNQTEesfeUyuZnC8EjsLP', 'gFGaBMTAQdGaHJJQshijMZ', 'changeGraph', 'eyJpZCI6IDc2LCAidHlwZSI6ICJ2ZXJ0ZXgiLCAicHJvcHMiOiB7ImNvbG9yIjogMTY3MTE2ODB9fQo=');</script>\n",
       "    "
      ],
      "text/plain": [
       "<IPython.core.display.HTML object>"
      ]
     },
     "metadata": {},
     "output_type": "display_data"
    },
    {
     "data": {
      "text/html": [
       "\n",
       "        <div id=\"2es8qy3qFFHWAvw2CQvuY7\"></div>\n",
       "        <script>netpixi.call('2es8qy3qFFHWAvw2CQvuY7', 'gFGaBMTAQdGaHJJQshijMZ', 'changeGraph', 'eyJpZCI6IDIzMCwgInR5cGUiOiAidmVydGV4IiwgInByb3BzIjogeyJzaXplIjogMTUuMTQ2NDQzNTE0NjQ0MzV9fQo=');</script>\n",
       "    "
      ],
      "text/plain": [
       "<IPython.core.display.HTML object>"
      ]
     },
     "metadata": {},
     "output_type": "display_data"
    },
    {
     "data": {
      "text/html": [
       "\n",
       "        <div id=\"oAiWqSsNf53gpa8kjFWMCw\"></div>\n",
       "        <script>netpixi.call('oAiWqSsNf53gpa8kjFWMCw', 'gFGaBMTAQdGaHJJQshijMZ', 'changeGraph', 'eyJpZCI6IDg0LCAidHlwZSI6ICJ2ZXJ0ZXgiLCAicHJvcHMiOiB7ImNvbG9yIjogMTY3MTE2ODB9fQo=');</script>\n",
       "    "
      ],
      "text/plain": [
       "<IPython.core.display.HTML object>"
      ]
     },
     "metadata": {},
     "output_type": "display_data"
    },
    {
     "data": {
      "text/html": [
       "\n",
       "        <div id=\"PrYa2ejmgWTk2475s7Lg5E\"></div>\n",
       "        <script>netpixi.call('PrYa2ejmgWTk2475s7Lg5E', 'gFGaBMTAQdGaHJJQshijMZ', 'changeGraph', 'eyJpZCI6IDIzMSwgInR5cGUiOiAidmVydGV4IiwgInByb3BzIjogeyJzaXplIjogMTEuMDA0MTg0MTAwNDE4NDF9fQo=');</script>\n",
       "    "
      ],
      "text/plain": [
       "<IPython.core.display.HTML object>"
      ]
     },
     "metadata": {},
     "output_type": "display_data"
    },
    {
     "data": {
      "text/html": [
       "\n",
       "        <div id=\"b59kRB8dQFULvjt4XNup4v\"></div>\n",
       "        <script>netpixi.call('b59kRB8dQFULvjt4XNup4v', 'gFGaBMTAQdGaHJJQshijMZ', 'changeGraph', 'eyJpZCI6IDcwLCAidHlwZSI6ICJ2ZXJ0ZXgiLCAicHJvcHMiOiB7ImNvbG9yIjogMTY3MTE2ODB9fQo=');</script>\n",
       "    "
      ],
      "text/plain": [
       "<IPython.core.display.HTML object>"
      ]
     },
     "metadata": {},
     "output_type": "display_data"
    },
    {
     "data": {
      "text/html": [
       "\n",
       "        <div id=\"RzJC5UATtfcnSzTQBriDLF\"></div>\n",
       "        <script>netpixi.call('RzJC5UATtfcnSzTQBriDLF', 'gFGaBMTAQdGaHJJQshijMZ', 'changeGraph', 'eyJpZCI6IDIzMiwgInR5cGUiOiAidmVydGV4IiwgInByb3BzIjogeyJzaXplIjogMTkuMjA1MDIwOTIwNTAyMDkzfX0K');</script>\n",
       "    "
      ],
      "text/plain": [
       "<IPython.core.display.HTML object>"
      ]
     },
     "metadata": {},
     "output_type": "display_data"
    },
    {
     "data": {
      "text/html": [
       "\n",
       "        <div id=\"Ehw6MYVA9T4QDA7HkQ62YN\"></div>\n",
       "        <script>netpixi.call('Ehw6MYVA9T4QDA7HkQ62YN', 'gFGaBMTAQdGaHJJQshijMZ', 'changeGraph', 'eyJpZCI6IDc1LCAidHlwZSI6ICJ2ZXJ0ZXgiLCAicHJvcHMiOiB7ImNvbG9yIjogMTY3MTE2ODB9fQo=');</script>\n",
       "    "
      ],
      "text/plain": [
       "<IPython.core.display.HTML object>"
      ]
     },
     "metadata": {},
     "output_type": "display_data"
    },
    {
     "data": {
      "text/html": [
       "\n",
       "        <div id=\"DZcuoccFZ5XDvVf9PPZCk2\"></div>\n",
       "        <script>netpixi.call('DZcuoccFZ5XDvVf9PPZCk2', 'gFGaBMTAQdGaHJJQshijMZ', 'changeGraph', 'eyJpZCI6IDIzMywgInR5cGUiOiAidmVydGV4IiwgInByb3BzIjogeyJzaXplIjogMTguMTU4OTk1ODE1ODk5NTh9fQo=');</script>\n",
       "    "
      ],
      "text/plain": [
       "<IPython.core.display.HTML object>"
      ]
     },
     "metadata": {},
     "output_type": "display_data"
    },
    {
     "data": {
      "text/html": [
       "\n",
       "        <div id=\"WRMLxpR5CQz7dE2YYrEMQJ\"></div>\n",
       "        <script>netpixi.call('WRMLxpR5CQz7dE2YYrEMQJ', 'gFGaBMTAQdGaHJJQshijMZ', 'changeGraph', 'eyJpZCI6IDc4LCAidHlwZSI6ICJ2ZXJ0ZXgiLCAicHJvcHMiOiB7ImNvbG9yIjogMTY3MTE2ODB9fQo=');</script>\n",
       "    "
      ],
      "text/plain": [
       "<IPython.core.display.HTML object>"
      ]
     },
     "metadata": {},
     "output_type": "display_data"
    },
    {
     "data": {
      "text/html": [
       "\n",
       "        <div id=\"7RSHNQvSzgkuMQfv93fgf6\"></div>\n",
       "        <script>netpixi.call('7RSHNQvSzgkuMQfv93fgf6', 'gFGaBMTAQdGaHJJQshijMZ', 'changeGraph', 'eyJpZCI6IDIzNCwgInR5cGUiOiAidmVydGV4IiwgInByb3BzIjogeyJzaXplIjogNDIuMH19Cg==');</script>\n",
       "    "
      ],
      "text/plain": [
       "<IPython.core.display.HTML object>"
      ]
     },
     "metadata": {},
     "output_type": "display_data"
    },
    {
     "data": {
      "text/html": [
       "\n",
       "        <div id=\"AQoirnuUJrccXBG4wggREh\"></div>\n",
       "        <script>netpixi.call('AQoirnuUJrccXBG4wggREh', 'gFGaBMTAQdGaHJJQshijMZ', 'changeGraph', 'eyJpZCI6IDgwLCAidHlwZSI6ICJ2ZXJ0ZXgiLCAicHJvcHMiOiB7ImNvbG9yIjogMTY3MTE2ODB9fQo=');</script>\n",
       "    "
      ],
      "text/plain": [
       "<IPython.core.display.HTML object>"
      ]
     },
     "metadata": {},
     "output_type": "display_data"
    },
    {
     "data": {
      "text/html": [
       "\n",
       "        <div id=\"3Nby4RuSVSugw3mDXGeknZ\"></div>\n",
       "        <script>netpixi.call('3Nby4RuSVSugw3mDXGeknZ', 'gFGaBMTAQdGaHJJQshijMZ', 'changeGraph', 'eyJpZCI6IDIzNSwgInR5cGUiOiAidmVydGV4IiwgInByb3BzIjogeyJzaXplIjogMTIuNzE5NjY1MjcxOTY2NTI3fX0K');</script>\n",
       "    "
      ],
      "text/plain": [
       "<IPython.core.display.HTML object>"
      ]
     },
     "metadata": {},
     "output_type": "display_data"
    },
    {
     "data": {
      "text/html": [
       "\n",
       "        <div id=\"3WR2jf99wcCD59qA3WytGU\"></div>\n",
       "        <script>netpixi.call('3WR2jf99wcCD59qA3WytGU', 'gFGaBMTAQdGaHJJQshijMZ', 'changeGraph', 'eyJpZCI6IDgyLCAidHlwZSI6ICJ2ZXJ0ZXgiLCAicHJvcHMiOiB7ImNvbG9yIjogMTY3MTE2ODB9fQo=');</script>\n",
       "    "
      ],
      "text/plain": [
       "<IPython.core.display.HTML object>"
      ]
     },
     "metadata": {},
     "output_type": "display_data"
    },
    {
     "data": {
      "text/html": [
       "\n",
       "        <div id=\"PCzSFHomERTWdywfeDttzr\"></div>\n",
       "        <script>netpixi.call('PCzSFHomERTWdywfeDttzr', 'gFGaBMTAQdGaHJJQshijMZ', 'changeGraph', 'eyJpZCI6IDIzNiwgInR5cGUiOiAidmVydGV4IiwgInByb3BzIjogeyJzaXplIjogMTMuNzY1NjkwMzc2NTY5MDM3fX0K');</script>\n",
       "    "
      ],
      "text/plain": [
       "<IPython.core.display.HTML object>"
      ]
     },
     "metadata": {},
     "output_type": "display_data"
    },
    {
     "data": {
      "text/html": [
       "\n",
       "        <div id=\"f5SceauiMAS7bbzWnMvZiF\"></div>\n",
       "        <script>netpixi.call('f5SceauiMAS7bbzWnMvZiF', 'gFGaBMTAQdGaHJJQshijMZ', 'changeGraph', 'eyJpZCI6IDgwLCAidHlwZSI6ICJ2ZXJ0ZXgiLCAicHJvcHMiOiB7ImNvbG9yIjogMTY3MTE2ODB9fQo=');</script>\n",
       "    "
      ],
      "text/plain": [
       "<IPython.core.display.HTML object>"
      ]
     },
     "metadata": {},
     "output_type": "display_data"
    },
    {
     "data": {
      "text/html": [
       "\n",
       "        <div id=\"3gcfGyMDAC3hcYh5JjEveq\"></div>\n",
       "        <script>netpixi.call('3gcfGyMDAC3hcYh5JjEveq', 'gFGaBMTAQdGaHJJQshijMZ', 'changeGraph', 'eyJpZCI6IDIzNywgInR5cGUiOiAidmVydGV4IiwgInByb3BzIjogeyJzaXplIjogMTYuMzE3OTkxNjMxNzk5MTYzfX0K');</script>\n",
       "    "
      ],
      "text/plain": [
       "<IPython.core.display.HTML object>"
      ]
     },
     "metadata": {},
     "output_type": "display_data"
    },
    {
     "data": {
      "text/html": [
       "\n",
       "        <div id=\"bzN7BP7D5NV6BMD55JhSmL\"></div>\n",
       "        <script>netpixi.call('bzN7BP7D5NV6BMD55JhSmL', 'gFGaBMTAQdGaHJJQshijMZ', 'changeGraph', 'eyJpZCI6IDcyLCAidHlwZSI6ICJ2ZXJ0ZXgiLCAicHJvcHMiOiB7ImNvbG9yIjogMTY3MTE2ODB9fQo=');</script>\n",
       "    "
      ],
      "text/plain": [
       "<IPython.core.display.HTML object>"
      ]
     },
     "metadata": {},
     "output_type": "display_data"
    },
    {
     "data": {
      "text/html": [
       "\n",
       "        <div id=\"UJiB5YnzTeNmVamiPE3wy2\"></div>\n",
       "        <script>netpixi.call('UJiB5YnzTeNmVamiPE3wy2', 'gFGaBMTAQdGaHJJQshijMZ', 'changeGraph', 'eyJpZCI6IDIzOCwgInR5cGUiOiAidmVydGV4IiwgInByb3BzIjogeyJzaXplIjogMTMuOTc0ODk1Mzk3NDg5NTR9fQo=');</script>\n",
       "    "
      ],
      "text/plain": [
       "<IPython.core.display.HTML object>"
      ]
     },
     "metadata": {},
     "output_type": "display_data"
    },
    {
     "data": {
      "text/html": [
       "\n",
       "        <div id=\"behN3ARRiTyCcmD8rj2zuD\"></div>\n",
       "        <script>netpixi.call('behN3ARRiTyCcmD8rj2zuD', 'gFGaBMTAQdGaHJJQshijMZ', 'changeGraph', 'eyJpZCI6IDg3LCAidHlwZSI6ICJ2ZXJ0ZXgiLCAicHJvcHMiOiB7ImNvbG9yIjogMTY3MTE2ODB9fQo=');</script>\n",
       "    "
      ],
      "text/plain": [
       "<IPython.core.display.HTML object>"
      ]
     },
     "metadata": {},
     "output_type": "display_data"
    },
    {
     "data": {
      "text/html": [
       "\n",
       "        <div id=\"mGAm3dmjuRnkDjUB4Dawjf\"></div>\n",
       "        <script>netpixi.call('mGAm3dmjuRnkDjUB4Dawjf', 'gFGaBMTAQdGaHJJQshijMZ', 'changeGraph', 'eyJpZCI6IDIzOSwgInR5cGUiOiAidmVydGV4IiwgInByb3BzIjogeyJzaXplIjogMTcuNjU2OTAzNzY1NjkwMzc3fX0K');</script>\n",
       "    "
      ],
      "text/plain": [
       "<IPython.core.display.HTML object>"
      ]
     },
     "metadata": {},
     "output_type": "display_data"
    },
    {
     "data": {
      "text/html": [
       "\n",
       "        <div id=\"UzqDgcCjaGWjyjMP8Lnbtc\"></div>\n",
       "        <script>netpixi.call('UzqDgcCjaGWjyjMP8Lnbtc', 'gFGaBMTAQdGaHJJQshijMZ', 'changeGraph', 'eyJpZCI6IDcwLCAidHlwZSI6ICJ2ZXJ0ZXgiLCAicHJvcHMiOiB7ImNvbG9yIjogMTY3MTE2ODB9fQo=');</script>\n",
       "    "
      ],
      "text/plain": [
       "<IPython.core.display.HTML object>"
      ]
     },
     "metadata": {},
     "output_type": "display_data"
    },
    {
     "data": {
      "text/html": [
       "\n",
       "        <div id=\"DAiFCH2iTLtHo5wMpp3uDz\"></div>\n",
       "        <script>netpixi.call('DAiFCH2iTLtHo5wMpp3uDz', 'gFGaBMTAQdGaHJJQshijMZ', 'changeGraph', 'eyJpZCI6IDI0MCwgInR5cGUiOiAidmVydGV4IiwgInByb3BzIjogeyJzaXplIjogMTAuNDYwMjUxMDQ2MDI1MTA1fX0K');</script>\n",
       "    "
      ],
      "text/plain": [
       "<IPython.core.display.HTML object>"
      ]
     },
     "metadata": {},
     "output_type": "display_data"
    },
    {
     "data": {
      "text/html": [
       "\n",
       "        <div id=\"WzWvPvgv5cCTekzk3ZFqFV\"></div>\n",
       "        <script>netpixi.call('WzWvPvgv5cCTekzk3ZFqFV', 'gFGaBMTAQdGaHJJQshijMZ', 'changeGraph', 'eyJpZCI6IDgyLCAidHlwZSI6ICJ2ZXJ0ZXgiLCAicHJvcHMiOiB7ImNvbG9yIjogMTY3MTE2ODB9fQo=');</script>\n",
       "    "
      ],
      "text/plain": [
       "<IPython.core.display.HTML object>"
      ]
     },
     "metadata": {},
     "output_type": "display_data"
    },
    {
     "data": {
      "text/html": [
       "\n",
       "        <div id=\"GFBuqirahYBDPu9zn7kj4m\"></div>\n",
       "        <script>netpixi.call('GFBuqirahYBDPu9zn7kj4m', 'gFGaBMTAQdGaHJJQshijMZ', 'changeGraph', 'eyJpZCI6IDI0MSwgInR5cGUiOiAidmVydGV4IiwgInByb3BzIjogeyJzaXplIjogMTYuNjEwODc4NjYxMDg3ODY3fX0K');</script>\n",
       "    "
      ],
      "text/plain": [
       "<IPython.core.display.HTML object>"
      ]
     },
     "metadata": {},
     "output_type": "display_data"
    },
    {
     "data": {
      "text/html": [
       "\n",
       "        <div id=\"GBmJHyJh4sRK9oUSHL6eQW\"></div>\n",
       "        <script>netpixi.call('GBmJHyJh4sRK9oUSHL6eQW', 'gFGaBMTAQdGaHJJQshijMZ', 'changeGraph', 'eyJpZCI6IDgwLCAidHlwZSI6ICJ2ZXJ0ZXgiLCAicHJvcHMiOiB7ImNvbG9yIjogMTY3MTE2ODB9fQo=');</script>\n",
       "    "
      ],
      "text/plain": [
       "<IPython.core.display.HTML object>"
      ]
     },
     "metadata": {},
     "output_type": "display_data"
    },
    {
     "data": {
      "text/html": [
       "\n",
       "        <div id=\"Vn2ShedAaGzCpNyohMU827\"></div>\n",
       "        <script>netpixi.call('Vn2ShedAaGzCpNyohMU827', 'gFGaBMTAQdGaHJJQshijMZ', 'changeGraph', 'eyJpZCI6IDI0MiwgInR5cGUiOiAidmVydGV4IiwgInByb3BzIjogeyJzaXplIjogNDYuNjY2NjY2NjY2NjY2NjY0fX0K');</script>\n",
       "    "
      ],
      "text/plain": [
       "<IPython.core.display.HTML object>"
      ]
     },
     "metadata": {},
     "output_type": "display_data"
    },
    {
     "data": {
      "text/html": [
       "\n",
       "        <div id=\"SA42H6v9ZVur98dGeyXFMr\"></div>\n",
       "        <script>netpixi.call('SA42H6v9ZVur98dGeyXFMr', 'gFGaBMTAQdGaHJJQshijMZ', 'changeGraph', 'eyJpZCI6IDc1LCAidHlwZSI6ICJ2ZXJ0ZXgiLCAicHJvcHMiOiB7ImNvbG9yIjogMTY3MTE2ODB9fQo=');</script>\n",
       "    "
      ],
      "text/plain": [
       "<IPython.core.display.HTML object>"
      ]
     },
     "metadata": {},
     "output_type": "display_data"
    },
    {
     "data": {
      "text/html": [
       "\n",
       "        <div id=\"fYCHwMwRGhUey62dif7bGX\"></div>\n",
       "        <script>netpixi.call('fYCHwMwRGhUey62dif7bGX', 'gFGaBMTAQdGaHJJQshijMZ', 'changeGraph', 'eyJpZCI6IDI0MywgInR5cGUiOiAidmVydGV4IiwgInByb3BzIjogeyJzaXplIjogMTguNzg2NjEwODc4NjYxMDg3fX0K');</script>\n",
       "    "
      ],
      "text/plain": [
       "<IPython.core.display.HTML object>"
      ]
     },
     "metadata": {},
     "output_type": "display_data"
    },
    {
     "data": {
      "text/html": [
       "\n",
       "        <div id=\"WrLMKDhL8ixD2QCja7koAM\"></div>\n",
       "        <script>netpixi.call('WrLMKDhL8ixD2QCja7koAM', 'gFGaBMTAQdGaHJJQshijMZ', 'changeGraph', 'eyJpZCI6IDg0LCAidHlwZSI6ICJ2ZXJ0ZXgiLCAicHJvcHMiOiB7ImNvbG9yIjogMTY3MTE2ODB9fQo=');</script>\n",
       "    "
      ],
      "text/plain": [
       "<IPython.core.display.HTML object>"
      ]
     },
     "metadata": {},
     "output_type": "display_data"
    },
    {
     "data": {
      "text/html": [
       "\n",
       "        <div id=\"Jb3SLw3adThT4nFfTAR5rH\"></div>\n",
       "        <script>netpixi.call('Jb3SLw3adThT4nFfTAR5rH', 'gFGaBMTAQdGaHJJQshijMZ', 'changeGraph', 'eyJpZCI6IDI0NCwgInR5cGUiOiAidmVydGV4IiwgInByb3BzIjogeyJzaXplIjogMTUuMjcxOTY2NTI3MTk2NjUyfX0K');</script>\n",
       "    "
      ],
      "text/plain": [
       "<IPython.core.display.HTML object>"
      ]
     },
     "metadata": {},
     "output_type": "display_data"
    },
    {
     "data": {
      "text/html": [
       "\n",
       "        <div id=\"ASeBtFHBTzQSkLNgLeiBeF\"></div>\n",
       "        <script>netpixi.call('ASeBtFHBTzQSkLNgLeiBeF', 'gFGaBMTAQdGaHJJQshijMZ', 'changeGraph', 'eyJpZCI6IDcyLCAidHlwZSI6ICJ2ZXJ0ZXgiLCAicHJvcHMiOiB7ImNvbG9yIjogMTY3MTE2ODB9fQo=');</script>\n",
       "    "
      ],
      "text/plain": [
       "<IPython.core.display.HTML object>"
      ]
     },
     "metadata": {},
     "output_type": "display_data"
    },
    {
     "data": {
      "text/html": [
       "\n",
       "        <div id=\"XkwdUmRC7SbsDN48UwrX6Z\"></div>\n",
       "        <script>netpixi.call('XkwdUmRC7SbsDN48UwrX6Z', 'gFGaBMTAQdGaHJJQshijMZ', 'changeGraph', 'eyJpZCI6IDI0NSwgInR5cGUiOiAidmVydGV4IiwgInByb3BzIjogeyJzaXplIjogMTAuNzk0OTc5MDc5NDk3OTA4fX0K');</script>\n",
       "    "
      ],
      "text/plain": [
       "<IPython.core.display.HTML object>"
      ]
     },
     "metadata": {},
     "output_type": "display_data"
    },
    {
     "data": {
      "text/html": [
       "\n",
       "        <div id=\"9ziP5xpQE4VMbF7bwwxPDL\"></div>\n",
       "        <script>netpixi.call('9ziP5xpQE4VMbF7bwwxPDL', 'gFGaBMTAQdGaHJJQshijMZ', 'changeGraph', 'eyJpZCI6IDczLCAidHlwZSI6ICJ2ZXJ0ZXgiLCAicHJvcHMiOiB7ImNvbG9yIjogMTY3MTE2ODB9fQo=');</script>\n",
       "    "
      ],
      "text/plain": [
       "<IPython.core.display.HTML object>"
      ]
     },
     "metadata": {},
     "output_type": "display_data"
    },
    {
     "data": {
      "text/html": [
       "\n",
       "        <div id=\"ScbHKGLRQyuvWtdHHnHSZE\"></div>\n",
       "        <script>netpixi.call('ScbHKGLRQyuvWtdHHnHSZE', 'gFGaBMTAQdGaHJJQshijMZ', 'changeGraph', 'eyJpZCI6IDI0NiwgInR5cGUiOiAidmVydGV4IiwgInByb3BzIjogeyJzaXplIjogNDguMzMzMzMzMzMzMzMzMzM2fX0K');</script>\n",
       "    "
      ],
      "text/plain": [
       "<IPython.core.display.HTML object>"
      ]
     },
     "metadata": {},
     "output_type": "display_data"
    },
    {
     "data": {
      "text/html": [
       "\n",
       "        <div id=\"F6J9PFGHk9cGXkxpTFdHoe\"></div>\n",
       "        <script>netpixi.call('F6J9PFGHk9cGXkxpTFdHoe', 'gFGaBMTAQdGaHJJQshijMZ', 'changeGraph', 'eyJpZCI6IDc4LCAidHlwZSI6ICJ2ZXJ0ZXgiLCAicHJvcHMiOiB7ImNvbG9yIjogMTY3MTE2ODB9fQo=');</script>\n",
       "    "
      ],
      "text/plain": [
       "<IPython.core.display.HTML object>"
      ]
     },
     "metadata": {},
     "output_type": "display_data"
    },
    {
     "data": {
      "text/html": [
       "\n",
       "        <div id=\"nyBM4LqoThVJkJQxJ6n4yc\"></div>\n",
       "        <script>netpixi.call('nyBM4LqoThVJkJQxJ6n4yc', 'gFGaBMTAQdGaHJJQshijMZ', 'changeGraph', 'eyJpZCI6IDI0NywgInR5cGUiOiAidmVydGV4IiwgInByb3BzIjogeyJzaXplIjogNDkuMH19Cg==');</script>\n",
       "    "
      ],
      "text/plain": [
       "<IPython.core.display.HTML object>"
      ]
     },
     "metadata": {},
     "output_type": "display_data"
    },
    {
     "data": {
      "text/html": [
       "\n",
       "        <div id=\"dEZ4AhMDNKAbXpAbTdH9x2\"></div>\n",
       "        <script>netpixi.call('dEZ4AhMDNKAbXpAbTdH9x2', 'gFGaBMTAQdGaHJJQshijMZ', 'changeGraph', 'eyJpZCI6IDcxLCAidHlwZSI6ICJ2ZXJ0ZXgiLCAicHJvcHMiOiB7ImNvbG9yIjogMTY3MTE2ODB9fQo=');</script>\n",
       "    "
      ],
      "text/plain": [
       "<IPython.core.display.HTML object>"
      ]
     },
     "metadata": {},
     "output_type": "display_data"
    },
    {
     "data": {
      "text/html": [
       "\n",
       "        <div id=\"9eJmtzNpyZoYrJc3sH42k4\"></div>\n",
       "        <script>netpixi.call('9eJmtzNpyZoYrJc3sH42k4', 'gFGaBMTAQdGaHJJQshijMZ', 'changeGraph', 'eyJpZCI6IDI0OCwgInR5cGUiOiAidmVydGV4IiwgInByb3BzIjogeyJzaXplIjogMjAuMH19Cg==');</script>\n",
       "    "
      ],
      "text/plain": [
       "<IPython.core.display.HTML object>"
      ]
     },
     "metadata": {},
     "output_type": "display_data"
    },
    {
     "data": {
      "text/html": [
       "\n",
       "        <div id=\"QnmLRL4pJTqq2ijtm4sT9p\"></div>\n",
       "        <script>netpixi.call('QnmLRL4pJTqq2ijtm4sT9p', 'gFGaBMTAQdGaHJJQshijMZ', 'changeGraph', 'eyJpZCI6IDcyLCAidHlwZSI6ICJ2ZXJ0ZXgiLCAicHJvcHMiOiB7ImNvbG9yIjogMTY3MTE2ODB9fQo=');</script>\n",
       "    "
      ],
      "text/plain": [
       "<IPython.core.display.HTML object>"
      ]
     },
     "metadata": {},
     "output_type": "display_data"
    },
    {
     "data": {
      "text/html": [
       "\n",
       "        <div id=\"oRycZL3BRKmowJnNwYVXAy\"></div>\n",
       "        <script>netpixi.call('oRycZL3BRKmowJnNwYVXAy', 'gFGaBMTAQdGaHJJQshijMZ', 'changeGraph', 'eyJpZCI6IDI0OSwgInR5cGUiOiAidmVydGV4IiwgInByb3BzIjogeyJzaXplIjogMTguNDkzNzIzODQ5MzcyMzg3fX0K');</script>\n",
       "    "
      ],
      "text/plain": [
       "<IPython.core.display.HTML object>"
      ]
     },
     "metadata": {},
     "output_type": "display_data"
    },
    {
     "data": {
      "text/html": [
       "\n",
       "        <div id=\"QUfu2MuPcFg8ufGLQz9iQj\"></div>\n",
       "        <script>netpixi.call('QUfu2MuPcFg8ufGLQz9iQj', 'gFGaBMTAQdGaHJJQshijMZ', 'changeGraph', 'eyJpZCI6IDcxLCAidHlwZSI6ICJ2ZXJ0ZXgiLCAicHJvcHMiOiB7ImNvbG9yIjogMTY3MTE2ODB9fQo=');</script>\n",
       "    "
      ],
      "text/plain": [
       "<IPython.core.display.HTML object>"
      ]
     },
     "metadata": {},
     "output_type": "display_data"
    },
    {
     "data": {
      "text/html": [
       "\n",
       "        <div id=\"ej9AN3E9K4aZKkJZz7Sqyk\"></div>\n",
       "        <script>netpixi.call('ej9AN3E9K4aZKkJZz7Sqyk', 'gFGaBMTAQdGaHJJQshijMZ', 'changeGraph', 'eyJpZCI6IDI1MCwgInR5cGUiOiAidmVydGV4IiwgInByb3BzIjogeyJzaXplIjogMTUuNDM5MzMwNTQzOTMzMDUzfX0K');</script>\n",
       "    "
      ],
      "text/plain": [
       "<IPython.core.display.HTML object>"
      ]
     },
     "metadata": {},
     "output_type": "display_data"
    },
    {
     "data": {
      "text/html": [
       "\n",
       "        <div id=\"jmJT3BATuaPWVEoYXh2Js4\"></div>\n",
       "        <script>netpixi.call('jmJT3BATuaPWVEoYXh2Js4', 'gFGaBMTAQdGaHJJQshijMZ', 'changeGraph', 'eyJpZCI6IDgyLCAidHlwZSI6ICJ2ZXJ0ZXgiLCAicHJvcHMiOiB7ImNvbG9yIjogMTY3MTE2ODB9fQo=');</script>\n",
       "    "
      ],
      "text/plain": [
       "<IPython.core.display.HTML object>"
      ]
     },
     "metadata": {},
     "output_type": "display_data"
    },
    {
     "data": {
      "text/html": [
       "\n",
       "        <div id=\"Cyy9zcG2twXhYMtVTfc7DA\"></div>\n",
       "        <script>netpixi.call('Cyy9zcG2twXhYMtVTfc7DA', 'gFGaBMTAQdGaHJJQshijMZ', 'changeGraph', 'eyJpZCI6IDI1MSwgInR5cGUiOiAidmVydGV4IiwgInByb3BzIjogeyJzaXplIjogNDcuMzMzMzMzMzMzMzMzMzM2fX0K');</script>\n",
       "    "
      ],
      "text/plain": [
       "<IPython.core.display.HTML object>"
      ]
     },
     "metadata": {},
     "output_type": "display_data"
    },
    {
     "data": {
      "text/html": [
       "\n",
       "        <div id=\"f8KdwdeyBweP9rdEvtwTCk\"></div>\n",
       "        <script>netpixi.call('f8KdwdeyBweP9rdEvtwTCk', 'gFGaBMTAQdGaHJJQshijMZ', 'changeGraph', 'eyJpZCI6IDc2LCAidHlwZSI6ICJ2ZXJ0ZXgiLCAicHJvcHMiOiB7ImNvbG9yIjogMTY3MTE2ODB9fQo=');</script>\n",
       "    "
      ],
      "text/plain": [
       "<IPython.core.display.HTML object>"
      ]
     },
     "metadata": {},
     "output_type": "display_data"
    },
    {
     "data": {
      "text/html": [
       "\n",
       "        <div id=\"LffBQViqgdqkS8CrgTWW8Y\"></div>\n",
       "        <script>netpixi.call('LffBQViqgdqkS8CrgTWW8Y', 'gFGaBMTAQdGaHJJQshijMZ', 'changeGraph', 'eyJpZCI6IDI1MiwgInR5cGUiOiAidmVydGV4IiwgInByb3BzIjogeyJzaXplIjogNDQuMH19Cg==');</script>\n",
       "    "
      ],
      "text/plain": [
       "<IPython.core.display.HTML object>"
      ]
     },
     "metadata": {},
     "output_type": "display_data"
    },
    {
     "data": {
      "text/html": [
       "\n",
       "        <div id=\"Fp3GwXwbKCNoCFSyLwBQt6\"></div>\n",
       "        <script>netpixi.call('Fp3GwXwbKCNoCFSyLwBQt6', 'gFGaBMTAQdGaHJJQshijMZ', 'changeGraph', 'eyJpZCI6IDcxLCAidHlwZSI6ICJ2ZXJ0ZXgiLCAicHJvcHMiOiB7ImNvbG9yIjogMTY3MTE2ODB9fQo=');</script>\n",
       "    "
      ],
      "text/plain": [
       "<IPython.core.display.HTML object>"
      ]
     },
     "metadata": {},
     "output_type": "display_data"
    },
    {
     "data": {
      "text/html": [
       "\n",
       "        <div id=\"f5Vq9hf7R4Uzr5LgVY4xJf\"></div>\n",
       "        <script>netpixi.call('f5Vq9hf7R4Uzr5LgVY4xJf', 'gFGaBMTAQdGaHJJQshijMZ', 'changeGraph', 'eyJpZCI6IDI1MywgInR5cGUiOiAidmVydGV4IiwgInByb3BzIjogeyJzaXplIjogMTAuNTAyMDkyMDUwMjA5MjA1fX0K');</script>\n",
       "    "
      ],
      "text/plain": [
       "<IPython.core.display.HTML object>"
      ]
     },
     "metadata": {},
     "output_type": "display_data"
    },
    {
     "data": {
      "text/html": [
       "\n",
       "        <div id=\"csGn9mbaxSk5fSH4w8x9Xf\"></div>\n",
       "        <script>netpixi.call('csGn9mbaxSk5fSH4w8x9Xf', 'gFGaBMTAQdGaHJJQshijMZ', 'changeGraph', 'eyJpZCI6IDc2LCAidHlwZSI6ICJ2ZXJ0ZXgiLCAicHJvcHMiOiB7ImNvbG9yIjogMTY3MTE2ODB9fQo=');</script>\n",
       "    "
      ],
      "text/plain": [
       "<IPython.core.display.HTML object>"
      ]
     },
     "metadata": {},
     "output_type": "display_data"
    },
    {
     "data": {
      "text/html": [
       "\n",
       "        <div id=\"CTcxYs2ra3GmQx4TNiNFiB\"></div>\n",
       "        <script>netpixi.call('CTcxYs2ra3GmQx4TNiNFiB', 'gFGaBMTAQdGaHJJQshijMZ', 'changeGraph', 'eyJpZCI6IDI1NCwgInR5cGUiOiAidmVydGV4IiwgInByb3BzIjogeyJzaXplIjogMTQuNzI4MDMzNDcyODAzMzQ3fX0K');</script>\n",
       "    "
      ],
      "text/plain": [
       "<IPython.core.display.HTML object>"
      ]
     },
     "metadata": {},
     "output_type": "display_data"
    },
    {
     "data": {
      "text/html": [
       "\n",
       "        <div id=\"6Kta6W9HrH5VLBQZtVDpPf\"></div>\n",
       "        <script>netpixi.call('6Kta6W9HrH5VLBQZtVDpPf', 'gFGaBMTAQdGaHJJQshijMZ', 'changeGraph', 'eyJpZCI6IDgxLCAidHlwZSI6ICJ2ZXJ0ZXgiLCAicHJvcHMiOiB7ImNvbG9yIjogMTY3MTE2ODB9fQo=');</script>\n",
       "    "
      ],
      "text/plain": [
       "<IPython.core.display.HTML object>"
      ]
     },
     "metadata": {},
     "output_type": "display_data"
    },
    {
     "data": {
      "text/html": [
       "\n",
       "        <div id=\"nNqHZnQtFif7cCWYDSkRhX\"></div>\n",
       "        <script>netpixi.call('nNqHZnQtFif7cCWYDSkRhX', 'gFGaBMTAQdGaHJJQshijMZ', 'changeGraph', 'eyJpZCI6IDI1NSwgInR5cGUiOiAidmVydGV4IiwgInByb3BzIjogeyJzaXplIjogMTIuNzYxNTA2Mjc2MTUwNjI3fX0K');</script>\n",
       "    "
      ],
      "text/plain": [
       "<IPython.core.display.HTML object>"
      ]
     },
     "metadata": {},
     "output_type": "display_data"
    },
    {
     "data": {
      "text/html": [
       "\n",
       "        <div id=\"3Fvho3ofPxwP2ZiCGM4mBG\"></div>\n",
       "        <script>netpixi.call('3Fvho3ofPxwP2ZiCGM4mBG', 'gFGaBMTAQdGaHJJQshijMZ', 'changeGraph', 'eyJpZCI6IDgyLCAidHlwZSI6ICJ2ZXJ0ZXgiLCAicHJvcHMiOiB7ImNvbG9yIjogMTY3MTE2ODB9fQo=');</script>\n",
       "    "
      ],
      "text/plain": [
       "<IPython.core.display.HTML object>"
      ]
     },
     "metadata": {},
     "output_type": "display_data"
    },
    {
     "data": {
      "text/html": [
       "\n",
       "        <div id=\"6ouf6Sk2R8BG4t23w6McqW\"></div>\n",
       "        <script>netpixi.call('6ouf6Sk2R8BG4t23w6McqW', 'gFGaBMTAQdGaHJJQshijMZ', 'changeGraph', 'eyJpZCI6IDI1NiwgInR5cGUiOiAidmVydGV4IiwgInByb3BzIjogeyJzaXplIjogMTEuNTA2Mjc2MTUwNjI3NjE1fX0K');</script>\n",
       "    "
      ],
      "text/plain": [
       "<IPython.core.display.HTML object>"
      ]
     },
     "metadata": {},
     "output_type": "display_data"
    },
    {
     "data": {
      "text/html": [
       "\n",
       "        <div id=\"4jbmhUTiW5rT6e3fxWku4q\"></div>\n",
       "        <script>netpixi.call('4jbmhUTiW5rT6e3fxWku4q', 'gFGaBMTAQdGaHJJQshijMZ', 'changeGraph', 'eyJpZCI6IDc0LCAidHlwZSI6ICJ2ZXJ0ZXgiLCAicHJvcHMiOiB7ImNvbG9yIjogMTY3MTE2ODB9fQo=');</script>\n",
       "    "
      ],
      "text/plain": [
       "<IPython.core.display.HTML object>"
      ]
     },
     "metadata": {},
     "output_type": "display_data"
    },
    {
     "data": {
      "text/html": [
       "\n",
       "        <div id=\"4DQqJFRY8ALEDgmTd2CNaf\"></div>\n",
       "        <script>netpixi.call('4DQqJFRY8ALEDgmTd2CNaf', 'gFGaBMTAQdGaHJJQshijMZ', 'changeGraph', 'eyJpZCI6IDI1NywgInR5cGUiOiAidmVydGV4IiwgInByb3BzIjogeyJzaXplIjogMTcuOTkxNjMxNzk5MTYzMTh9fQo=');</script>\n",
       "    "
      ],
      "text/plain": [
       "<IPython.core.display.HTML object>"
      ]
     },
     "metadata": {},
     "output_type": "display_data"
    },
    {
     "data": {
      "text/html": [
       "\n",
       "        <div id=\"Nqs3yqkdK8kyNBXtg5ukJS\"></div>\n",
       "        <script>netpixi.call('Nqs3yqkdK8kyNBXtg5ukJS', 'gFGaBMTAQdGaHJJQshijMZ', 'changeGraph', 'eyJpZCI6IDg4LCAidHlwZSI6ICJ2ZXJ0ZXgiLCAicHJvcHMiOiB7ImNvbG9yIjogMTY3MTE2ODB9fQo=');</script>\n",
       "    "
      ],
      "text/plain": [
       "<IPython.core.display.HTML object>"
      ]
     },
     "metadata": {},
     "output_type": "display_data"
    },
    {
     "data": {
      "text/html": [
       "\n",
       "        <div id=\"gtcUid6xRF4zGnEQcju7AC\"></div>\n",
       "        <script>netpixi.call('gtcUid6xRF4zGnEQcju7AC', 'gFGaBMTAQdGaHJJQshijMZ', 'changeGraph', 'eyJpZCI6IDI1OCwgInR5cGUiOiAidmVydGV4IiwgInByb3BzIjogeyJzaXplIjogNDYuODMzMzMzMzMzMzMzMzM2fX0K');</script>\n",
       "    "
      ],
      "text/plain": [
       "<IPython.core.display.HTML object>"
      ]
     },
     "metadata": {},
     "output_type": "display_data"
    },
    {
     "data": {
      "text/html": [
       "\n",
       "        <div id=\"5bV2L4xyqiUhTE4fYyATkW\"></div>\n",
       "        <script>netpixi.call('5bV2L4xyqiUhTE4fYyATkW', 'gFGaBMTAQdGaHJJQshijMZ', 'changeGraph', 'eyJpZCI6IDc2LCAidHlwZSI6ICJ2ZXJ0ZXgiLCAicHJvcHMiOiB7ImNvbG9yIjogMTY3MTE2ODB9fQo=');</script>\n",
       "    "
      ],
      "text/plain": [
       "<IPython.core.display.HTML object>"
      ]
     },
     "metadata": {},
     "output_type": "display_data"
    },
    {
     "data": {
      "text/html": [
       "\n",
       "        <div id=\"GFEWEPYdQjrgf7LH8nfcwc\"></div>\n",
       "        <script>netpixi.call('GFEWEPYdQjrgf7LH8nfcwc', 'gFGaBMTAQdGaHJJQshijMZ', 'changeGraph', 'eyJpZCI6IDI1OSwgInR5cGUiOiAidmVydGV4IiwgInByb3BzIjogeyJzaXplIjogNDcuMH19Cg==');</script>\n",
       "    "
      ],
      "text/plain": [
       "<IPython.core.display.HTML object>"
      ]
     },
     "metadata": {},
     "output_type": "display_data"
    },
    {
     "data": {
      "text/html": [
       "\n",
       "        <div id=\"Bt9yaBGgBZ7fXgazM3oQm7\"></div>\n",
       "        <script>netpixi.call('Bt9yaBGgBZ7fXgazM3oQm7', 'gFGaBMTAQdGaHJJQshijMZ', 'changeGraph', 'eyJpZCI6IDc4LCAidHlwZSI6ICJ2ZXJ0ZXgiLCAicHJvcHMiOiB7ImNvbG9yIjogMTY3MTE2ODB9fQo=');</script>\n",
       "    "
      ],
      "text/plain": [
       "<IPython.core.display.HTML object>"
      ]
     },
     "metadata": {},
     "output_type": "display_data"
    },
    {
     "data": {
      "text/html": [
       "\n",
       "        <div id=\"nQgwH5LGWZDk7WsebuZTfh\"></div>\n",
       "        <script>netpixi.call('nQgwH5LGWZDk7WsebuZTfh', 'gFGaBMTAQdGaHJJQshijMZ', 'changeGraph', 'eyJpZCI6IDI2MCwgInR5cGUiOiAidmVydGV4IiwgInByb3BzIjogeyJzaXplIjogMTEuNTQ4MTE3MTU0ODExNzE1fX0K');</script>\n",
       "    "
      ],
      "text/plain": [
       "<IPython.core.display.HTML object>"
      ]
     },
     "metadata": {},
     "output_type": "display_data"
    },
    {
     "data": {
      "text/html": [
       "\n",
       "        <div id=\"bjAHWZhrpLLwNyrJ9weY6V\"></div>\n",
       "        <script>netpixi.call('bjAHWZhrpLLwNyrJ9weY6V', 'gFGaBMTAQdGaHJJQshijMZ', 'changeGraph', 'eyJpZCI6IDczLCAidHlwZSI6ICJ2ZXJ0ZXgiLCAicHJvcHMiOiB7ImNvbG9yIjogMTY3MTE2ODB9fQo=');</script>\n",
       "    "
      ],
      "text/plain": [
       "<IPython.core.display.HTML object>"
      ]
     },
     "metadata": {},
     "output_type": "display_data"
    },
    {
     "data": {
      "text/html": [
       "\n",
       "        <div id=\"breymjBxWSnFqJ9EuinnuS\"></div>\n",
       "        <script>netpixi.call('breymjBxWSnFqJ9EuinnuS', 'gFGaBMTAQdGaHJJQshijMZ', 'changeGraph', 'eyJpZCI6IDI2MSwgInR5cGUiOiAidmVydGV4IiwgInByb3BzIjogeyJzaXplIjogMTQuMjY3NzgyNDI2Nzc4MjQzfX0K');</script>\n",
       "    "
      ],
      "text/plain": [
       "<IPython.core.display.HTML object>"
      ]
     },
     "metadata": {},
     "output_type": "display_data"
    },
    {
     "data": {
      "text/html": [
       "\n",
       "        <div id=\"42NmbfoX2No9nEowgXkEob\"></div>\n",
       "        <script>netpixi.call('42NmbfoX2No9nEowgXkEob', 'gFGaBMTAQdGaHJJQshijMZ', 'changeGraph', 'eyJpZCI6IDgxLCAidHlwZSI6ICJ2ZXJ0ZXgiLCAicHJvcHMiOiB7ImNvbG9yIjogMTY3MTE2ODB9fQo=');</script>\n",
       "    "
      ],
      "text/plain": [
       "<IPython.core.display.HTML object>"
      ]
     },
     "metadata": {},
     "output_type": "display_data"
    },
    {
     "data": {
      "text/html": [
       "\n",
       "        <div id=\"kauoiLQfGz5ijUxyBQ4Xkb\"></div>\n",
       "        <script>netpixi.call('kauoiLQfGz5ijUxyBQ4Xkb', 'gFGaBMTAQdGaHJJQshijMZ', 'changeGraph', 'eyJpZCI6IDI2MiwgInR5cGUiOiAidmVydGV4IiwgInByb3BzIjogeyJzaXplIjogNDguODMzMzMzMzMzMzMzMzM2fX0K');</script>\n",
       "    "
      ],
      "text/plain": [
       "<IPython.core.display.HTML object>"
      ]
     },
     "metadata": {},
     "output_type": "display_data"
    },
    {
     "data": {
      "text/html": [
       "\n",
       "        <div id=\"ZcQ3Di9GvGesJTmTGEpT8j\"></div>\n",
       "        <script>netpixi.call('ZcQ3Di9GvGesJTmTGEpT8j', 'gFGaBMTAQdGaHJJQshijMZ', 'changeGraph', 'eyJpZCI6IDc2LCAidHlwZSI6ICJ2ZXJ0ZXgiLCAicHJvcHMiOiB7ImNvbG9yIjogMTY3MTE2ODB9fQo=');</script>\n",
       "    "
      ],
      "text/plain": [
       "<IPython.core.display.HTML object>"
      ]
     },
     "metadata": {},
     "output_type": "display_data"
    },
    {
     "data": {
      "text/html": [
       "\n",
       "        <div id=\"VezRD5dyx9azASngvYTgwR\"></div>\n",
       "        <script>netpixi.call('VezRD5dyx9azASngvYTgwR', 'gFGaBMTAQdGaHJJQshijMZ', 'changeGraph', 'eyJpZCI6IDI2MywgInR5cGUiOiAidmVydGV4IiwgInByb3BzIjogeyJzaXplIjogNDkuMTY2NjY2NjY2NjY2NjY0fX0K');</script>\n",
       "    "
      ],
      "text/plain": [
       "<IPython.core.display.HTML object>"
      ]
     },
     "metadata": {},
     "output_type": "display_data"
    },
    {
     "data": {
      "text/html": [
       "\n",
       "        <div id=\"Xh4chzusoPeuRJnid4ZPMz\"></div>\n",
       "        <script>netpixi.call('Xh4chzusoPeuRJnid4ZPMz', 'gFGaBMTAQdGaHJJQshijMZ', 'changeGraph', 'eyJpZCI6IDgwLCAidHlwZSI6ICJ2ZXJ0ZXgiLCAicHJvcHMiOiB7ImNvbG9yIjogMTY3MTE2ODB9fQo=');</script>\n",
       "    "
      ],
      "text/plain": [
       "<IPython.core.display.HTML object>"
      ]
     },
     "metadata": {},
     "output_type": "display_data"
    },
    {
     "data": {
      "text/html": [
       "\n",
       "        <div id=\"eAVsfwgdt8XEzDeNxrpsPw\"></div>\n",
       "        <script>netpixi.call('eAVsfwgdt8XEzDeNxrpsPw', 'gFGaBMTAQdGaHJJQshijMZ', 'changeGraph', 'eyJpZCI6IDI2NCwgInR5cGUiOiAidmVydGV4IiwgInByb3BzIjogeyJzaXplIjogMTcuNTMxMzgwNzUzMTM4MDczfX0K');</script>\n",
       "    "
      ],
      "text/plain": [
       "<IPython.core.display.HTML object>"
      ]
     },
     "metadata": {},
     "output_type": "display_data"
    },
    {
     "data": {
      "text/html": [
       "\n",
       "        <div id=\"4HWz7GnnUE22z4dNAvtGJ5\"></div>\n",
       "        <script>netpixi.call('4HWz7GnnUE22z4dNAvtGJ5', 'gFGaBMTAQdGaHJJQshijMZ', 'changeGraph', 'eyJpZCI6IDYxLCAidHlwZSI6ICJ2ZXJ0ZXgiLCAicHJvcHMiOiB7ImNvbG9yIjogMTY3MTE2ODB9fQo=');</script>\n",
       "    "
      ],
      "text/plain": [
       "<IPython.core.display.HTML object>"
      ]
     },
     "metadata": {},
     "output_type": "display_data"
    },
    {
     "data": {
      "text/html": [
       "\n",
       "        <div id=\"gVfPkrrj8wK7NoYotZKtTt\"></div>\n",
       "        <script>netpixi.call('gVfPkrrj8wK7NoYotZKtTt', 'gFGaBMTAQdGaHJJQshijMZ', 'changeGraph', 'eyJpZCI6IDI2NSwgInR5cGUiOiAidmVydGV4IiwgInByb3BzIjogeyJzaXplIjogNDkuNjY2NjY2NjY2NjY2Njd9fQo=');</script>\n",
       "    "
      ],
      "text/plain": [
       "<IPython.core.display.HTML object>"
      ]
     },
     "metadata": {},
     "output_type": "display_data"
    },
    {
     "data": {
      "text/html": [
       "\n",
       "        <div id=\"Jo9iVnzsRWTwEEVdcbib9g\"></div>\n",
       "        <script>netpixi.call('Jo9iVnzsRWTwEEVdcbib9g', 'gFGaBMTAQdGaHJJQshijMZ', 'changeGraph', 'eyJpZCI6IDcyLCAidHlwZSI6ICJ2ZXJ0ZXgiLCAicHJvcHMiOiB7ImNvbG9yIjogMTY3MTE2ODB9fQo=');</script>\n",
       "    "
      ],
      "text/plain": [
       "<IPython.core.display.HTML object>"
      ]
     },
     "metadata": {},
     "output_type": "display_data"
    },
    {
     "data": {
      "text/html": [
       "\n",
       "        <div id=\"ky7fe6QuJ9rkYMCosPmb5g\"></div>\n",
       "        <script>netpixi.call('ky7fe6QuJ9rkYMCosPmb5g', 'gFGaBMTAQdGaHJJQshijMZ', 'changeGraph', 'eyJpZCI6IDI2NiwgInR5cGUiOiAidmVydGV4IiwgInByb3BzIjogeyJzaXplIjogMTYuMjc2MTUwNjI3NjE1MDYzfX0K');</script>\n",
       "    "
      ],
      "text/plain": [
       "<IPython.core.display.HTML object>"
      ]
     },
     "metadata": {},
     "output_type": "display_data"
    },
    {
     "data": {
      "text/html": [
       "\n",
       "        <div id=\"KXkLq6a3gLPQqJAAFToEnk\"></div>\n",
       "        <script>netpixi.call('KXkLq6a3gLPQqJAAFToEnk', 'gFGaBMTAQdGaHJJQshijMZ', 'changeGraph', 'eyJpZCI6IDczLCAidHlwZSI6ICJ2ZXJ0ZXgiLCAicHJvcHMiOiB7ImNvbG9yIjogMTY3MTE2ODB9fQo=');</script>\n",
       "    "
      ],
      "text/plain": [
       "<IPython.core.display.HTML object>"
      ]
     },
     "metadata": {},
     "output_type": "display_data"
    },
    {
     "data": {
      "text/html": [
       "\n",
       "        <div id=\"cGXRRHDbxyT5X2eK75jZTj\"></div>\n",
       "        <script>netpixi.call('cGXRRHDbxyT5X2eK75jZTj', 'gFGaBMTAQdGaHJJQshijMZ', 'changeGraph', 'eyJpZCI6IDI2NywgInR5cGUiOiAidmVydGV4IiwgInByb3BzIjogeyJzaXplIjogMTAuMDQxODQxMDA0MTg0MX19Cg==');</script>\n",
       "    "
      ],
      "text/plain": [
       "<IPython.core.display.HTML object>"
      ]
     },
     "metadata": {},
     "output_type": "display_data"
    },
    {
     "data": {
      "text/html": [
       "\n",
       "        <div id=\"j3WosMtnKgscas6rhs24Uv\"></div>\n",
       "        <script>netpixi.call('j3WosMtnKgscas6rhs24Uv', 'gFGaBMTAQdGaHJJQshijMZ', 'changeGraph', 'eyJpZCI6IDY2LCAidHlwZSI6ICJ2ZXJ0ZXgiLCAicHJvcHMiOiB7ImNvbG9yIjogMTY3MTE2ODB9fQo=');</script>\n",
       "    "
      ],
      "text/plain": [
       "<IPython.core.display.HTML object>"
      ]
     },
     "metadata": {},
     "output_type": "display_data"
    },
    {
     "data": {
      "text/html": [
       "\n",
       "        <div id=\"QVS4qvMY22ZssoewupSUEJ\"></div>\n",
       "        <script>netpixi.call('QVS4qvMY22ZssoewupSUEJ', 'gFGaBMTAQdGaHJJQshijMZ', 'changeGraph', 'eyJpZCI6IDI2OCwgInR5cGUiOiAidmVydGV4IiwgInByb3BzIjogeyJzaXplIjogMTIuMDUwMjA5MjA1MDIwOTJ9fQo=');</script>\n",
       "    "
      ],
      "text/plain": [
       "<IPython.core.display.HTML object>"
      ]
     },
     "metadata": {},
     "output_type": "display_data"
    },
    {
     "data": {
      "text/html": [
       "\n",
       "        <div id=\"VHvmRLv7HxL5HhE2AojVNg\"></div>\n",
       "        <script>netpixi.call('VHvmRLv7HxL5HhE2AojVNg', 'gFGaBMTAQdGaHJJQshijMZ', 'changeGraph', 'eyJpZCI6IDgxLCAidHlwZSI6ICJ2ZXJ0ZXgiLCAicHJvcHMiOiB7ImNvbG9yIjogMTY3MTE2ODB9fQo=');</script>\n",
       "    "
      ],
      "text/plain": [
       "<IPython.core.display.HTML object>"
      ]
     },
     "metadata": {},
     "output_type": "display_data"
    },
    {
     "data": {
      "text/html": [
       "\n",
       "        <div id=\"WC6KsgHnS9yDdrrFYpmp9k\"></div>\n",
       "        <script>netpixi.call('WC6KsgHnS9yDdrrFYpmp9k', 'gFGaBMTAQdGaHJJQshijMZ', 'changeGraph', 'eyJpZCI6IDI2OSwgInR5cGUiOiAidmVydGV4IiwgInByb3BzIjogeyJzaXplIjogMTMuMzg5MTIxMzM4OTEyMTMzfX0K');</script>\n",
       "    "
      ],
      "text/plain": [
       "<IPython.core.display.HTML object>"
      ]
     },
     "metadata": {},
     "output_type": "display_data"
    },
    {
     "data": {
      "text/html": [
       "\n",
       "        <div id=\"HZtkeNP9bQwUrGqupii4Vr\"></div>\n",
       "        <script>netpixi.call('HZtkeNP9bQwUrGqupii4Vr', 'gFGaBMTAQdGaHJJQshijMZ', 'changeGraph', 'eyJpZCI6IDgyLCAidHlwZSI6ICJ2ZXJ0ZXgiLCAicHJvcHMiOiB7ImNvbG9yIjogMTY3MTE2ODB9fQo=');</script>\n",
       "    "
      ],
      "text/plain": [
       "<IPython.core.display.HTML object>"
      ]
     },
     "metadata": {},
     "output_type": "display_data"
    },
    {
     "data": {
      "text/html": [
       "\n",
       "        <div id=\"QdEHFWyxB6N7v58gDevZdD\"></div>\n",
       "        <script>netpixi.call('QdEHFWyxB6N7v58gDevZdD', 'gFGaBMTAQdGaHJJQshijMZ', 'changeGraph', 'eyJpZCI6IDI3MCwgInR5cGUiOiAidmVydGV4IiwgInByb3BzIjogeyJzaXplIjogMTkuODc0NDc2OTg3NDQ3N319Cg==');</script>\n",
       "    "
      ],
      "text/plain": [
       "<IPython.core.display.HTML object>"
      ]
     },
     "metadata": {},
     "output_type": "display_data"
    },
    {
     "data": {
      "text/html": [
       "\n",
       "        <div id=\"f4Gw6Wsfho33aBcj62x87a\"></div>\n",
       "        <script>netpixi.call('f4Gw6Wsfho33aBcj62x87a', 'gFGaBMTAQdGaHJJQshijMZ', 'changeGraph', 'eyJpZCI6IDcxLCAidHlwZSI6ICJ2ZXJ0ZXgiLCAicHJvcHMiOiB7ImNvbG9yIjogMTY3MTE2ODB9fQo=');</script>\n",
       "    "
      ],
      "text/plain": [
       "<IPython.core.display.HTML object>"
      ]
     },
     "metadata": {},
     "output_type": "display_data"
    },
    {
     "data": {
      "text/html": [
       "\n",
       "        <div id=\"Za8rQ2wNTCzZ9ePhUeNfQ5\"></div>\n",
       "        <script>netpixi.call('Za8rQ2wNTCzZ9ePhUeNfQ5', 'gFGaBMTAQdGaHJJQshijMZ', 'changeGraph', 'eyJpZCI6IDI3MSwgInR5cGUiOiAidmVydGV4IiwgInByb3BzIjogeyJzaXplIjogMTEuNjMxNzk5MTYzMTc5OTE3fX0K');</script>\n",
       "    "
      ],
      "text/plain": [
       "<IPython.core.display.HTML object>"
      ]
     },
     "metadata": {},
     "output_type": "display_data"
    },
    {
     "data": {
      "text/html": [
       "\n",
       "        <div id=\"Qifag8QEoE3rsThyVe4ihM\"></div>\n",
       "        <script>netpixi.call('Qifag8QEoE3rsThyVe4ihM', 'gFGaBMTAQdGaHJJQshijMZ', 'changeGraph', 'eyJpZCI6IDgxLCAidHlwZSI6ICJ2ZXJ0ZXgiLCAicHJvcHMiOiB7ImNvbG9yIjogMTY3MTE2ODB9fQo=');</script>\n",
       "    "
      ],
      "text/plain": [
       "<IPython.core.display.HTML object>"
      ]
     },
     "metadata": {},
     "output_type": "display_data"
    },
    {
     "data": {
      "text/html": [
       "\n",
       "        <div id=\"A2V8e4kaG6M7zAobfwFPGA\"></div>\n",
       "        <script>netpixi.call('A2V8e4kaG6M7zAobfwFPGA', 'gFGaBMTAQdGaHJJQshijMZ', 'changeGraph', 'eyJpZCI6IDI3MiwgInR5cGUiOiAidmVydGV4IiwgInByb3BzIjogeyJzaXplIjogMTIuOTI4ODcwMjkyODg3MDN9fQo=');</script>\n",
       "    "
      ],
      "text/plain": [
       "<IPython.core.display.HTML object>"
      ]
     },
     "metadata": {},
     "output_type": "display_data"
    },
    {
     "data": {
      "text/html": [
       "\n",
       "        <div id=\"4ftCkHJDY5jPi2ycwuC5A5\"></div>\n",
       "        <script>netpixi.call('4ftCkHJDY5jPi2ycwuC5A5', 'gFGaBMTAQdGaHJJQshijMZ', 'changeGraph', 'eyJpZCI6IDg3LCAidHlwZSI6ICJ2ZXJ0ZXgiLCAicHJvcHMiOiB7ImNvbG9yIjogMTY3MTE2ODB9fQo=');</script>\n",
       "    "
      ],
      "text/plain": [
       "<IPython.core.display.HTML object>"
      ]
     },
     "metadata": {},
     "output_type": "display_data"
    },
    {
     "data": {
      "text/html": [
       "\n",
       "        <div id=\"crhfPpGRFc2PC26t7oCRV9\"></div>\n",
       "        <script>netpixi.call('crhfPpGRFc2PC26t7oCRV9', 'gFGaBMTAQdGaHJJQshijMZ', 'changeGraph', 'eyJpZCI6IDI3MywgInR5cGUiOiAidmVydGV4IiwgInByb3BzIjogeyJzaXplIjogMTAuNjI3NjE1MDYyNzYxNTA3fX0K');</script>\n",
       "    "
      ],
      "text/plain": [
       "<IPython.core.display.HTML object>"
      ]
     },
     "metadata": {},
     "output_type": "display_data"
    },
    {
     "data": {
      "text/html": [
       "\n",
       "        <div id=\"ME4hVpmD4JaXxzRTrA7n3b\"></div>\n",
       "        <script>netpixi.call('ME4hVpmD4JaXxzRTrA7n3b', 'gFGaBMTAQdGaHJJQshijMZ', 'changeGraph', 'eyJpZCI6IDc2LCAidHlwZSI6ICJ2ZXJ0ZXgiLCAicHJvcHMiOiB7ImNvbG9yIjogMTY3MTE2ODB9fQo=');</script>\n",
       "    "
      ],
      "text/plain": [
       "<IPython.core.display.HTML object>"
      ]
     },
     "metadata": {},
     "output_type": "display_data"
    },
    {
     "data": {
      "text/html": [
       "\n",
       "        <div id=\"fyZAfAjSg8nndVK65RBsRR\"></div>\n",
       "        <script>netpixi.call('fyZAfAjSg8nndVK65RBsRR', 'gFGaBMTAQdGaHJJQshijMZ', 'changeGraph', 'eyJpZCI6IDI3NCwgInR5cGUiOiAidmVydGV4IiwgInByb3BzIjogeyJzaXplIjogNDMuMTY2NjY2NjY2NjY2NjY0fX0K');</script>\n",
       "    "
      ],
      "text/plain": [
       "<IPython.core.display.HTML object>"
      ]
     },
     "metadata": {},
     "output_type": "display_data"
    },
    {
     "data": {
      "text/html": [
       "\n",
       "        <div id=\"CPJm59qe8MgisHTHtQsf7e\"></div>\n",
       "        <script>netpixi.call('CPJm59qe8MgisHTHtQsf7e', 'gFGaBMTAQdGaHJJQshijMZ', 'changeGraph', 'eyJpZCI6IDgzLCAidHlwZSI6ICJ2ZXJ0ZXgiLCAicHJvcHMiOiB7ImNvbG9yIjogMTY3MTE2ODB9fQo=');</script>\n",
       "    "
      ],
      "text/plain": [
       "<IPython.core.display.HTML object>"
      ]
     },
     "metadata": {},
     "output_type": "display_data"
    },
    {
     "data": {
      "text/html": [
       "\n",
       "        <div id=\"dV3qxgSo3BvdD2apGw3y4X\"></div>\n",
       "        <script>netpixi.call('dV3qxgSo3BvdD2apGw3y4X', 'gFGaBMTAQdGaHJJQshijMZ', 'changeGraph', 'eyJpZCI6IDI3NSwgInR5cGUiOiAidmVydGV4IiwgInByb3BzIjogeyJzaXplIjogMTIuMTMzODkxMjEzMzg5MTIyfX0K');</script>\n",
       "    "
      ],
      "text/plain": [
       "<IPython.core.display.HTML object>"
      ]
     },
     "metadata": {},
     "output_type": "display_data"
    },
    {
     "data": {
      "text/html": [
       "\n",
       "        <div id=\"jGuETQ69CZUR28byA6UNcN\"></div>\n",
       "        <script>netpixi.call('jGuETQ69CZUR28byA6UNcN', 'gFGaBMTAQdGaHJJQshijMZ', 'changeGraph', 'eyJpZCI6IDcyLCAidHlwZSI6ICJ2ZXJ0ZXgiLCAicHJvcHMiOiB7ImNvbG9yIjogMTY3MTE2ODB9fQo=');</script>\n",
       "    "
      ],
      "text/plain": [
       "<IPython.core.display.HTML object>"
      ]
     },
     "metadata": {},
     "output_type": "display_data"
    },
    {
     "data": {
      "text/html": [
       "\n",
       "        <div id=\"iJTBqip7ifGAooymTjDqrV\"></div>\n",
       "        <script>netpixi.call('iJTBqip7ifGAooymTjDqrV', 'gFGaBMTAQdGaHJJQshijMZ', 'changeGraph', 'eyJpZCI6IDI3NiwgInR5cGUiOiAidmVydGV4IiwgInByb3BzIjogeyJzaXplIjogMTEuMjEzMzg5MTIxMzM4OTEyfX0K');</script>\n",
       "    "
      ],
      "text/plain": [
       "<IPython.core.display.HTML object>"
      ]
     },
     "metadata": {},
     "output_type": "display_data"
    },
    {
     "data": {
      "text/html": [
       "\n",
       "        <div id=\"BZhTQrMQd4bYHqR3bXyJB6\"></div>\n",
       "        <script>netpixi.call('BZhTQrMQd4bYHqR3bXyJB6', 'gFGaBMTAQdGaHJJQshijMZ', 'changeGraph', 'eyJpZCI6IDc1LCAidHlwZSI6ICJ2ZXJ0ZXgiLCAicHJvcHMiOiB7ImNvbG9yIjogMTY3MTE2ODB9fQo=');</script>\n",
       "    "
      ],
      "text/plain": [
       "<IPython.core.display.HTML object>"
      ]
     },
     "metadata": {},
     "output_type": "display_data"
    },
    {
     "data": {
      "text/html": [
       "\n",
       "        <div id=\"2bhS9EPHZsJ5SP2hHTWdCh\"></div>\n",
       "        <script>netpixi.call('2bhS9EPHZsJ5SP2hHTWdCh', 'gFGaBMTAQdGaHJJQshijMZ', 'changeGraph', 'eyJpZCI6IDI3NywgInR5cGUiOiAidmVydGV4IiwgInByb3BzIjogeyJzaXplIjogMTYuOTg3NDQ3Njk4NzQ0Nzd9fQo=');</script>\n",
       "    "
      ],
      "text/plain": [
       "<IPython.core.display.HTML object>"
      ]
     },
     "metadata": {},
     "output_type": "display_data"
    },
    {
     "data": {
      "text/html": [
       "\n",
       "        <div id=\"hTCai8e95VYPPRsmN7R2or\"></div>\n",
       "        <script>netpixi.call('hTCai8e95VYPPRsmN7R2or', 'gFGaBMTAQdGaHJJQshijMZ', 'changeGraph', 'eyJpZCI6IDgwLCAidHlwZSI6ICJ2ZXJ0ZXgiLCAicHJvcHMiOiB7ImNvbG9yIjogMTY3MTE2ODB9fQo=');</script>\n",
       "    "
      ],
      "text/plain": [
       "<IPython.core.display.HTML object>"
      ]
     },
     "metadata": {},
     "output_type": "display_data"
    },
    {
     "data": {
      "text/html": [
       "\n",
       "        <div id=\"gvnHphuwQroNmDb2cfZGFQ\"></div>\n",
       "        <script>netpixi.call('gvnHphuwQroNmDb2cfZGFQ', 'gFGaBMTAQdGaHJJQshijMZ', 'changeGraph', 'eyJpZCI6IDI3OCwgInR5cGUiOiAidmVydGV4IiwgInByb3BzIjogeyJzaXplIjogMTEuMDQ2MDI1MTA0NjAyNTF9fQo=');</script>\n",
       "    "
      ],
      "text/plain": [
       "<IPython.core.display.HTML object>"
      ]
     },
     "metadata": {},
     "output_type": "display_data"
    },
    {
     "data": {
      "text/html": [
       "\n",
       "        <div id=\"mh7CCviTRVZdpkvjvMvb9p\"></div>\n",
       "        <script>netpixi.call('mh7CCviTRVZdpkvjvMvb9p', 'gFGaBMTAQdGaHJJQshijMZ', 'changeGraph', 'eyJpZCI6IDYyLCAidHlwZSI6ICJ2ZXJ0ZXgiLCAicHJvcHMiOiB7ImNvbG9yIjogMTY3MTE2ODB9fQo=');</script>\n",
       "    "
      ],
      "text/plain": [
       "<IPython.core.display.HTML object>"
      ]
     },
     "metadata": {},
     "output_type": "display_data"
    },
    {
     "data": {
      "text/html": [
       "\n",
       "        <div id=\"4rsixH3UFvZ8Y5x2eRdqBd\"></div>\n",
       "        <script>netpixi.call('4rsixH3UFvZ8Y5x2eRdqBd', 'gFGaBMTAQdGaHJJQshijMZ', 'changeGraph', 'eyJpZCI6IDI3OSwgInR5cGUiOiAidmVydGV4IiwgInByb3BzIjogeyJzaXplIjogMTkuNzQ4OTUzOTc0ODk1Mzk3fX0K');</script>\n",
       "    "
      ],
      "text/plain": [
       "<IPython.core.display.HTML object>"
      ]
     },
     "metadata": {},
     "output_type": "display_data"
    },
    {
     "data": {
      "text/html": [
       "\n",
       "        <div id=\"6eoCZJ8dTXxDgoUa4Y829w\"></div>\n",
       "        <script>netpixi.call('6eoCZJ8dTXxDgoUa4Y829w', 'gFGaBMTAQdGaHJJQshijMZ', 'changeGraph', 'eyJpZCI6IDczLCAidHlwZSI6ICJ2ZXJ0ZXgiLCAicHJvcHMiOiB7ImNvbG9yIjogMTY3MTE2ODB9fQo=');</script>\n",
       "    "
      ],
      "text/plain": [
       "<IPython.core.display.HTML object>"
      ]
     },
     "metadata": {},
     "output_type": "display_data"
    },
    {
     "data": {
      "text/html": [
       "\n",
       "        <div id=\"78ttS8qPYathXMhFGY7DDz\"></div>\n",
       "        <script>netpixi.call('78ttS8qPYathXMhFGY7DDz', 'gFGaBMTAQdGaHJJQshijMZ', 'changeGraph', 'eyJpZCI6IDI4MCwgInR5cGUiOiAidmVydGV4IiwgInByb3BzIjogeyJzaXplIjogMTYuNzc4MjQyNjc3ODI0MjY3fX0K');</script>\n",
       "    "
      ],
      "text/plain": [
       "<IPython.core.display.HTML object>"
      ]
     },
     "metadata": {},
     "output_type": "display_data"
    },
    {
     "data": {
      "text/html": [
       "\n",
       "        <div id=\"gmts4JkgNcFY8dsDfdcGmP\"></div>\n",
       "        <script>netpixi.call('gmts4JkgNcFY8dsDfdcGmP', 'gFGaBMTAQdGaHJJQshijMZ', 'changeGraph', 'eyJpZCI6IDc4LCAidHlwZSI6ICJ2ZXJ0ZXgiLCAicHJvcHMiOiB7ImNvbG9yIjogMTY3MTE2ODB9fQo=');</script>\n",
       "    "
      ],
      "text/plain": [
       "<IPython.core.display.HTML object>"
      ]
     },
     "metadata": {},
     "output_type": "display_data"
    },
    {
     "data": {
      "text/html": [
       "\n",
       "        <div id=\"LNftEEZEWghkeVuboWSzK9\"></div>\n",
       "        <script>netpixi.call('LNftEEZEWghkeVuboWSzK9', 'gFGaBMTAQdGaHJJQshijMZ', 'changeGraph', 'eyJpZCI6IDI4MSwgInR5cGUiOiAidmVydGV4IiwgInByb3BzIjogeyJzaXplIjogMTEuMDg3ODY2MTA4Nzg2NjF9fQo=');</script>\n",
       "    "
      ],
      "text/plain": [
       "<IPython.core.display.HTML object>"
      ]
     },
     "metadata": {},
     "output_type": "display_data"
    },
    {
     "data": {
      "text/html": [
       "\n",
       "        <div id=\"hmz7TbJWnmubcnhgdaGpMr\"></div>\n",
       "        <script>netpixi.call('hmz7TbJWnmubcnhgdaGpMr', 'gFGaBMTAQdGaHJJQshijMZ', 'changeGraph', 'eyJpZCI6IDY3LCAidHlwZSI6ICJ2ZXJ0ZXgiLCAicHJvcHMiOiB7ImNvbG9yIjogMTY3MTE2ODB9fQo=');</script>\n",
       "    "
      ],
      "text/plain": [
       "<IPython.core.display.HTML object>"
      ]
     },
     "metadata": {},
     "output_type": "display_data"
    },
    {
     "data": {
      "text/html": [
       "\n",
       "        <div id=\"d5DL5W85BUCPQmFvMeBeEc\"></div>\n",
       "        <script>netpixi.call('d5DL5W85BUCPQmFvMeBeEc', 'gFGaBMTAQdGaHJJQshijMZ', 'changeGraph', 'eyJpZCI6IDI4MiwgInR5cGUiOiAidmVydGV4IiwgInByb3BzIjogeyJzaXplIjogMTkuMTIxMzM4OTEyMTMzODl9fQo=');</script>\n",
       "    "
      ],
      "text/plain": [
       "<IPython.core.display.HTML object>"
      ]
     },
     "metadata": {},
     "output_type": "display_data"
    },
    {
     "data": {
      "text/html": [
       "\n",
       "        <div id=\"jk8ysvjy6aUhNhRKetby7K\"></div>\n",
       "        <script>netpixi.call('jk8ysvjy6aUhNhRKetby7K', 'gFGaBMTAQdGaHJJQshijMZ', 'changeGraph', 'eyJpZCI6IDkzLCAidHlwZSI6ICJ2ZXJ0ZXgiLCAicHJvcHMiOiB7ImNvbG9yIjogMTY3MTE2ODB9fQo=');</script>\n",
       "    "
      ],
      "text/plain": [
       "<IPython.core.display.HTML object>"
      ]
     },
     "metadata": {},
     "output_type": "display_data"
    },
    {
     "data": {
      "text/html": [
       "\n",
       "        <div id=\"NZGZMymPTns7tcYhJQjBei\"></div>\n",
       "        <script>netpixi.call('NZGZMymPTns7tcYhJQjBei', 'gFGaBMTAQdGaHJJQshijMZ', 'changeGraph', 'eyJpZCI6IDI4MywgInR5cGUiOiAidmVydGV4IiwgInByb3BzIjogeyJzaXplIjogMTMuMTc5OTE2MzE3OTkxNjMyfX0K');</script>\n",
       "    "
      ],
      "text/plain": [
       "<IPython.core.display.HTML object>"
      ]
     },
     "metadata": {},
     "output_type": "display_data"
    },
    {
     "data": {
      "text/html": [
       "\n",
       "        <div id=\"JNrTojFwZcj4fnJfJHuNMc\"></div>\n",
       "        <script>netpixi.call('JNrTojFwZcj4fnJfJHuNMc', 'gFGaBMTAQdGaHJJQshijMZ', 'changeGraph', 'eyJpZCI6IDY3LCAidHlwZSI6ICJ2ZXJ0ZXgiLCAicHJvcHMiOiB7ImNvbG9yIjogMTY3MTE2ODB9fQo=');</script>\n",
       "    "
      ],
      "text/plain": [
       "<IPython.core.display.HTML object>"
      ]
     },
     "metadata": {},
     "output_type": "display_data"
    },
    {
     "data": {
      "text/html": [
       "\n",
       "        <div id=\"kwdJ9LdvsyXS6BhNvScuRM\"></div>\n",
       "        <script>netpixi.call('kwdJ9LdvsyXS6BhNvScuRM', 'gFGaBMTAQdGaHJJQshijMZ', 'changeGraph', 'eyJpZCI6IDI4NCwgInR5cGUiOiAidmVydGV4IiwgInByb3BzIjogeyJzaXplIjogMTQuNjg2MTkyNDY4NjE5MjQ3fX0K');</script>\n",
       "    "
      ],
      "text/plain": [
       "<IPython.core.display.HTML object>"
      ]
     },
     "metadata": {},
     "output_type": "display_data"
    },
    {
     "data": {
      "text/html": [
       "\n",
       "        <div id=\"EdMjnmNjqsvyEXert2Y4U6\"></div>\n",
       "        <script>netpixi.call('EdMjnmNjqsvyEXert2Y4U6', 'gFGaBMTAQdGaHJJQshijMZ', 'changeGraph', 'eyJpZCI6IDgwLCAidHlwZSI6ICJ2ZXJ0ZXgiLCAicHJvcHMiOiB7ImNvbG9yIjogMTY3MTE2ODB9fQo=');</script>\n",
       "    "
      ],
      "text/plain": [
       "<IPython.core.display.HTML object>"
      ]
     },
     "metadata": {},
     "output_type": "display_data"
    },
    {
     "data": {
      "text/html": [
       "\n",
       "        <div id=\"AnsbWmixdhgkq94jCVhDwY\"></div>\n",
       "        <script>netpixi.call('AnsbWmixdhgkq94jCVhDwY', 'gFGaBMTAQdGaHJJQshijMZ', 'changeGraph', 'eyJpZCI6IDI4NSwgInR5cGUiOiAidmVydGV4IiwgInByb3BzIjogeyJzaXplIjogMTEuNjczNjQwMTY3MzY0MDE3fX0K');</script>\n",
       "    "
      ],
      "text/plain": [
       "<IPython.core.display.HTML object>"
      ]
     },
     "metadata": {},
     "output_type": "display_data"
    },
    {
     "data": {
      "text/html": [
       "\n",
       "        <div id=\"k7RA4GQzLrBGHcrKkAyX9d\"></div>\n",
       "        <script>netpixi.call('k7RA4GQzLrBGHcrKkAyX9d', 'gFGaBMTAQdGaHJJQshijMZ', 'changeGraph', 'eyJpZCI6IDg0LCAidHlwZSI6ICJ2ZXJ0ZXgiLCAicHJvcHMiOiB7ImNvbG9yIjogMTY3MTE2ODB9fQo=');</script>\n",
       "    "
      ],
      "text/plain": [
       "<IPython.core.display.HTML object>"
      ]
     },
     "metadata": {},
     "output_type": "display_data"
    },
    {
     "data": {
      "text/html": [
       "\n",
       "        <div id=\"LHXNbJt9qQrwbWa5kCfpoT\"></div>\n",
       "        <script>netpixi.call('LHXNbJt9qQrwbWa5kCfpoT', 'gFGaBMTAQdGaHJJQshijMZ', 'changeGraph', 'eyJpZCI6IDI4NiwgInR5cGUiOiAidmVydGV4IiwgInByb3BzIjogeyJzaXplIjogMTkuMjQ2ODYxOTI0Njg2MTkzfX0K');</script>\n",
       "    "
      ],
      "text/plain": [
       "<IPython.core.display.HTML object>"
      ]
     },
     "metadata": {},
     "output_type": "display_data"
    },
    {
     "data": {
      "text/html": [
       "\n",
       "        <div id=\"7N5TgJYB3oG6FLTiGr6McP\"></div>\n",
       "        <script>netpixi.call('7N5TgJYB3oG6FLTiGr6McP', 'gFGaBMTAQdGaHJJQshijMZ', 'changeGraph', 'eyJpZCI6IDkwLCAidHlwZSI6ICJ2ZXJ0ZXgiLCAicHJvcHMiOiB7ImNvbG9yIjogMTY3MTE2ODB9fQo=');</script>\n",
       "    "
      ],
      "text/plain": [
       "<IPython.core.display.HTML object>"
      ]
     },
     "metadata": {},
     "output_type": "display_data"
    },
    {
     "data": {
      "text/html": [
       "\n",
       "        <div id=\"GaNL29QQnaehxtdo2Sfr6D\"></div>\n",
       "        <script>netpixi.call('GaNL29QQnaehxtdo2Sfr6D', 'gFGaBMTAQdGaHJJQshijMZ', 'changeGraph', 'eyJpZCI6IDI4NywgInR5cGUiOiAidmVydGV4IiwgInByb3BzIjogeyJzaXplIjogMTEuMzgwNzUzMTM4MDc1MzEzfX0K');</script>\n",
       "    "
      ],
      "text/plain": [
       "<IPython.core.display.HTML object>"
      ]
     },
     "metadata": {},
     "output_type": "display_data"
    },
    {
     "data": {
      "text/html": [
       "\n",
       "        <div id=\"mptSXGn4Ljp6QDHgS3RVKc\"></div>\n",
       "        <script>netpixi.call('mptSXGn4Ljp6QDHgS3RVKc', 'gFGaBMTAQdGaHJJQshijMZ', 'changeGraph', 'eyJpZCI6IDY2LCAidHlwZSI6ICJ2ZXJ0ZXgiLCAicHJvcHMiOiB7ImNvbG9yIjogMTY3MTE2ODB9fQo=');</script>\n",
       "    "
      ],
      "text/plain": [
       "<IPython.core.display.HTML object>"
      ]
     },
     "metadata": {},
     "output_type": "display_data"
    },
    {
     "data": {
      "text/html": [
       "\n",
       "        <div id=\"CT7s3XqUxqNzfQhQn5Bf27\"></div>\n",
       "        <script>netpixi.call('CT7s3XqUxqNzfQhQn5Bf27', 'gFGaBMTAQdGaHJJQshijMZ', 'changeGraph', 'eyJpZCI6IDI4OCwgInR5cGUiOiAidmVydGV4IiwgInByb3BzIjogeyJzaXplIjogMTAuMDgzNjgyMDA4MzY4Mn19Cg==');</script>\n",
       "    "
      ],
      "text/plain": [
       "<IPython.core.display.HTML object>"
      ]
     },
     "metadata": {},
     "output_type": "display_data"
    },
    {
     "data": {
      "text/html": [
       "\n",
       "        <div id=\"kXkCGyDrQUop8Qf9tLjr5T\"></div>\n",
       "        <script>netpixi.call('kXkCGyDrQUop8Qf9tLjr5T', 'gFGaBMTAQdGaHJJQshijMZ', 'changeGraph', 'eyJpZCI6IDgwLCAidHlwZSI6ICJ2ZXJ0ZXgiLCAicHJvcHMiOiB7ImNvbG9yIjogMTY3MTE2ODB9fQo=');</script>\n",
       "    "
      ],
      "text/plain": [
       "<IPython.core.display.HTML object>"
      ]
     },
     "metadata": {},
     "output_type": "display_data"
    },
    {
     "data": {
      "text/html": [
       "\n",
       "        <div id=\"Cjmcw79wWmrSGkc9SjW3iU\"></div>\n",
       "        <script>netpixi.call('Cjmcw79wWmrSGkc9SjW3iU', 'gFGaBMTAQdGaHJJQshijMZ', 'changeGraph', 'eyJpZCI6IDI4OSwgInR5cGUiOiAidmVydGV4IiwgInByb3BzIjogeyJzaXplIjogNDcuODMzMzMzMzMzMzMzMzN9fQo=');</script>\n",
       "    "
      ],
      "text/plain": [
       "<IPython.core.display.HTML object>"
      ]
     },
     "metadata": {},
     "output_type": "display_data"
    },
    {
     "data": {
      "text/html": [
       "\n",
       "        <div id=\"fPHZ7SvytJB22sAVizkb8N\"></div>\n",
       "        <script>netpixi.call('fPHZ7SvytJB22sAVizkb8N', 'gFGaBMTAQdGaHJJQshijMZ', 'changeGraph', 'eyJpZCI6IDgzLCAidHlwZSI6ICJ2ZXJ0ZXgiLCAicHJvcHMiOiB7ImNvbG9yIjogMTY3MTE2ODB9fQo=');</script>\n",
       "    "
      ],
      "text/plain": [
       "<IPython.core.display.HTML object>"
      ]
     },
     "metadata": {},
     "output_type": "display_data"
    },
    {
     "data": {
      "text/html": [
       "\n",
       "        <div id=\"TiZy6ixR27GhnFSNvXW5Vy\"></div>\n",
       "        <script>netpixi.call('TiZy6ixR27GhnFSNvXW5Vy', 'gFGaBMTAQdGaHJJQshijMZ', 'changeGraph', 'eyJpZCI6IDI5MCwgInR5cGUiOiAidmVydGV4IiwgInByb3BzIjogeyJzaXplIjogMTUuOTgzMjYzNTk4MzI2MzZ9fQo=');</script>\n",
       "    "
      ],
      "text/plain": [
       "<IPython.core.display.HTML object>"
      ]
     },
     "metadata": {},
     "output_type": "display_data"
    },
    {
     "data": {
      "text/html": [
       "\n",
       "        <div id=\"oHmbqmFCAacGt4Cwy5X9rx\"></div>\n",
       "        <script>netpixi.call('oHmbqmFCAacGt4Cwy5X9rx', 'gFGaBMTAQdGaHJJQshijMZ', 'changeGraph', 'eyJpZCI6IDcxLCAidHlwZSI6ICJ2ZXJ0ZXgiLCAicHJvcHMiOiB7ImNvbG9yIjogMTY3MTE2ODB9fQo=');</script>\n",
       "    "
      ],
      "text/plain": [
       "<IPython.core.display.HTML object>"
      ]
     },
     "metadata": {},
     "output_type": "display_data"
    },
    {
     "data": {
      "text/html": [
       "\n",
       "        <div id=\"WJ4H6uFDTYA5xymPEiRvtf\"></div>\n",
       "        <script>netpixi.call('WJ4H6uFDTYA5xymPEiRvtf', 'gFGaBMTAQdGaHJJQshijMZ', 'changeGraph', 'eyJpZCI6IDI5MSwgInR5cGUiOiAidmVydGV4IiwgInByb3BzIjogeyJzaXplIjogMTkuOTU4MTU4OTk1ODE1OX19Cg==');</script>\n",
       "    "
      ],
      "text/plain": [
       "<IPython.core.display.HTML object>"
      ]
     },
     "metadata": {},
     "output_type": "display_data"
    },
    {
     "data": {
      "text/html": [
       "\n",
       "        <div id=\"biTKZrkzxrxMsBwxgbjreY\"></div>\n",
       "        <script>netpixi.call('biTKZrkzxrxMsBwxgbjreY', 'gFGaBMTAQdGaHJJQshijMZ', 'changeGraph', 'eyJpZCI6IDc5LCAidHlwZSI6ICJ2ZXJ0ZXgiLCAicHJvcHMiOiB7ImNvbG9yIjogMTY3MTE2ODB9fQo=');</script>\n",
       "    "
      ],
      "text/plain": [
       "<IPython.core.display.HTML object>"
      ]
     },
     "metadata": {},
     "output_type": "display_data"
    },
    {
     "data": {
      "text/html": [
       "\n",
       "        <div id=\"9tAREsneuxpuREin8eQSvJ\"></div>\n",
       "        <script>netpixi.call('9tAREsneuxpuREin8eQSvJ', 'gFGaBMTAQdGaHJJQshijMZ', 'changeGraph', 'eyJpZCI6IDI5MiwgInR5cGUiOiAidmVydGV4IiwgInByb3BzIjogeyJzaXplIjogMTUuMzEzODA3NTMxMzgwNzUzfX0K');</script>\n",
       "    "
      ],
      "text/plain": [
       "<IPython.core.display.HTML object>"
      ]
     },
     "metadata": {},
     "output_type": "display_data"
    },
    {
     "data": {
      "text/html": [
       "\n",
       "        <div id=\"9jhTv63ButxDnt4UAPyhDb\"></div>\n",
       "        <script>netpixi.call('9jhTv63ButxDnt4UAPyhDb', 'gFGaBMTAQdGaHJJQshijMZ', 'changeGraph', 'eyJpZCI6IDk3LCAidHlwZSI6ICJ2ZXJ0ZXgiLCAicHJvcHMiOiB7ImNvbG9yIjogMTY3MTE2ODB9fQo=');</script>\n",
       "    "
      ],
      "text/plain": [
       "<IPython.core.display.HTML object>"
      ]
     },
     "metadata": {},
     "output_type": "display_data"
    },
    {
     "data": {
      "text/html": [
       "\n",
       "        <div id=\"2VQABnRkiZF34hCmzKYE68\"></div>\n",
       "        <script>netpixi.call('2VQABnRkiZF34hCmzKYE68', 'gFGaBMTAQdGaHJJQshijMZ', 'changeGraph', 'eyJpZCI6IDI5MywgInR5cGUiOiAidmVydGV4IiwgInByb3BzIjogeyJzaXplIjogMTkuNzkwNzk0OTc5MDc5NDk3fX0K');</script>\n",
       "    "
      ],
      "text/plain": [
       "<IPython.core.display.HTML object>"
      ]
     },
     "metadata": {},
     "output_type": "display_data"
    },
    {
     "data": {
      "text/html": [
       "\n",
       "        <div id=\"iqXhP6CuzgxymGuJCbgCAv\"></div>\n",
       "        <script>netpixi.call('iqXhP6CuzgxymGuJCbgCAv', 'gFGaBMTAQdGaHJJQshijMZ', 'changeGraph', 'eyJpZCI6IDg4LCAidHlwZSI6ICJ2ZXJ0ZXgiLCAicHJvcHMiOiB7ImNvbG9yIjogMTY3MTE2ODB9fQo=');</script>\n",
       "    "
      ],
      "text/plain": [
       "<IPython.core.display.HTML object>"
      ]
     },
     "metadata": {},
     "output_type": "display_data"
    },
    {
     "data": {
      "text/html": [
       "\n",
       "        <div id=\"UgqtCK7WP6RQQYk7kmM9N3\"></div>\n",
       "        <script>netpixi.call('UgqtCK7WP6RQQYk7kmM9N3', 'gFGaBMTAQdGaHJJQshijMZ', 'changeGraph', 'eyJpZCI6IDI5NCwgInR5cGUiOiAidmVydGV4IiwgInByb3BzIjogeyJzaXplIjogMTMuMDU0MzkzMzA1NDM5MzN9fQo=');</script>\n",
       "    "
      ],
      "text/plain": [
       "<IPython.core.display.HTML object>"
      ]
     },
     "metadata": {},
     "output_type": "display_data"
    },
    {
     "data": {
      "text/html": [
       "\n",
       "        <div id=\"5GELKXhUPAC5fWb6NxEVCo\"></div>\n",
       "        <script>netpixi.call('5GELKXhUPAC5fWb6NxEVCo', 'gFGaBMTAQdGaHJJQshijMZ', 'changeGraph', 'eyJpZCI6IDc2LCAidHlwZSI6ICJ2ZXJ0ZXgiLCAicHJvcHMiOiB7ImNvbG9yIjogMTY3MTE2ODB9fQo=');</script>\n",
       "    "
      ],
      "text/plain": [
       "<IPython.core.display.HTML object>"
      ]
     },
     "metadata": {},
     "output_type": "display_data"
    },
    {
     "data": {
      "text/html": [
       "\n",
       "        <div id=\"g4JgL5YmgmTs8E5q3mGgDh\"></div>\n",
       "        <script>netpixi.call('g4JgL5YmgmTs8E5q3mGgDh', 'gFGaBMTAQdGaHJJQshijMZ', 'changeGraph', 'eyJpZCI6IDI5NSwgInR5cGUiOiAidmVydGV4IiwgInByb3BzIjogeyJzaXplIjogMTUuOTQxNDIyNTk0MTQyMjZ9fQo=');</script>\n",
       "    "
      ],
      "text/plain": [
       "<IPython.core.display.HTML object>"
      ]
     },
     "metadata": {},
     "output_type": "display_data"
    },
    {
     "data": {
      "text/html": [
       "\n",
       "        <div id=\"3Npvp363aCywFVHCrtJbLm\"></div>\n",
       "        <script>netpixi.call('3Npvp363aCywFVHCrtJbLm', 'gFGaBMTAQdGaHJJQshijMZ', 'changeGraph', 'eyJpZCI6IDc4LCAidHlwZSI6ICJ2ZXJ0ZXgiLCAicHJvcHMiOiB7ImNvbG9yIjogMTY3MTE2ODB9fQo=');</script>\n",
       "    "
      ],
      "text/plain": [
       "<IPython.core.display.HTML object>"
      ]
     },
     "metadata": {},
     "output_type": "display_data"
    },
    {
     "data": {
      "text/html": [
       "\n",
       "        <div id=\"3Y7kT338YKVRpBJp4V63CB\"></div>\n",
       "        <script>netpixi.call('3Y7kT338YKVRpBJp4V63CB', 'gFGaBMTAQdGaHJJQshijMZ', 'changeGraph', 'eyJpZCI6IDI5NiwgInR5cGUiOiAidmVydGV4IiwgInByb3BzIjogeyJzaXplIjogMTYuNTY5MDM3NjU2OTAzNzY3fX0K');</script>\n",
       "    "
      ],
      "text/plain": [
       "<IPython.core.display.HTML object>"
      ]
     },
     "metadata": {},
     "output_type": "display_data"
    },
    {
     "data": {
      "text/html": [
       "\n",
       "        <div id=\"f7cQGaLoPp4UQT4AstX3AA\"></div>\n",
       "        <script>netpixi.call('f7cQGaLoPp4UQT4AstX3AA', 'gFGaBMTAQdGaHJJQshijMZ', 'changeGraph', 'eyJpZCI6IDgyLCAidHlwZSI6ICJ2ZXJ0ZXgiLCAicHJvcHMiOiB7ImNvbG9yIjogMTY3MTE2ODB9fQo=');</script>\n",
       "    "
      ],
      "text/plain": [
       "<IPython.core.display.HTML object>"
      ]
     },
     "metadata": {},
     "output_type": "display_data"
    },
    {
     "data": {
      "text/html": [
       "\n",
       "        <div id=\"A3WDcC7RmVYNqoiWs7nigy\"></div>\n",
       "        <script>netpixi.call('A3WDcC7RmVYNqoiWs7nigy', 'gFGaBMTAQdGaHJJQshijMZ', 'changeGraph', 'eyJpZCI6IDI5NywgInR5cGUiOiAidmVydGV4IiwgInByb3BzIjogeyJzaXplIjogMTUuMDYyNzYxNTA2Mjc2MTV9fQo=');</script>\n",
       "    "
      ],
      "text/plain": [
       "<IPython.core.display.HTML object>"
      ]
     },
     "metadata": {},
     "output_type": "display_data"
    },
    {
     "data": {
      "text/html": [
       "\n",
       "        <div id=\"aX3weKQ9SLs5bZoTrSBVf3\"></div>\n",
       "        <script>netpixi.call('aX3weKQ9SLs5bZoTrSBVf3', 'gFGaBMTAQdGaHJJQshijMZ', 'changeGraph', 'eyJpZCI6IDkzLCAidHlwZSI6ICJ2ZXJ0ZXgiLCAicHJvcHMiOiB7ImNvbG9yIjogMTY3MTE2ODB9fQo=');</script>\n",
       "    "
      ],
      "text/plain": [
       "<IPython.core.display.HTML object>"
      ]
     },
     "metadata": {},
     "output_type": "display_data"
    },
    {
     "data": {
      "text/html": [
       "\n",
       "        <div id=\"7pHkrBMhRveZcgLaKnZo8w\"></div>\n",
       "        <script>netpixi.call('7pHkrBMhRveZcgLaKnZo8w', 'gFGaBMTAQdGaHJJQshijMZ', 'changeGraph', 'eyJpZCI6IDI5OCwgInR5cGUiOiAidmVydGV4IiwgInByb3BzIjogeyJzaXplIjogMTYuMDY2OTQ1NjA2Njk0NTZ9fQo=');</script>\n",
       "    "
      ],
      "text/plain": [
       "<IPython.core.display.HTML object>"
      ]
     },
     "metadata": {},
     "output_type": "display_data"
    },
    {
     "data": {
      "text/html": [
       "\n",
       "        <div id=\"B4WxsCibJieruvJnkP8XHH\"></div>\n",
       "        <script>netpixi.call('B4WxsCibJieruvJnkP8XHH', 'gFGaBMTAQdGaHJJQshijMZ', 'changeGraph', 'eyJpZCI6IDgxLCAidHlwZSI6ICJ2ZXJ0ZXgiLCAicHJvcHMiOiB7ImNvbG9yIjogMTY3MTE2ODB9fQo=');</script>\n",
       "    "
      ],
      "text/plain": [
       "<IPython.core.display.HTML object>"
      ]
     },
     "metadata": {},
     "output_type": "display_data"
    }
   ],
   "source": [
    "lista_int_coreness = []\n",
    "lista_float_coreness = []\n",
    "\n",
    "# Adiciona propriedades ao nó\n",
    "g.add_vp('core')\n",
    "g.add_vp('coreness')\n",
    "\n",
    "# ---- Funções ----\n",
    "\n",
    "def surprise():\n",
    "    matrix = spectral.adjacency(g)\n",
    "    algorithm = cpnet.Surprise()\n",
    "    algorithm.detect(matrix)\n",
    "    return algorithm.get_coreness()\n",
    "\n",
    "def rombach():\n",
    "    matrix = spectral.adjacency(g)\n",
    "    algorithm = cpnet.Rombach()\n",
    "    algorithm.detect(matrix)\n",
    "    return algorithm.get_coreness()\n",
    "\n",
    "# ---- Roda Algorítimo ----\n",
    "c_core = surprise()\n",
    "c_coreness = rombach()\n",
    "\n",
    "\n",
    "for i, coreness in c_core.items():\n",
    "    v = g.get_vertex_by_index(i)\n",
    "    v['core'] = int(coreness)\n",
    "    lista_int_coreness.append(int(coreness))\n",
    "df_nodes['core'] = lista_int_coreness\n",
    "\n",
    "for i, coreness in c_coreness.items():\n",
    "    v = g.get_vertex_by_index(i)\n",
    "    v['coreness'] = float(coreness)\n",
    "    lista_float_coreness.append(float(coreness))\n",
    "df_nodes['coreness'] = lista_float_coreness\n",
    "\n",
    "\n",
    "# ---- Modifica cor ----\n",
    "for v in g.all_vertices():\n",
    "    if v['core'] == 1:\n",
    "        r.vertex(v['id'], color=0xff0000)\n",
    "    else:\n",
    "        r.vertex(v['id'], color=0x00ff00)\n",
    "        \n",
    "# ---- Modifica tamanho ----\n",
    "\n",
    "for v in g.all_vertices():\n",
    "    r.vertex(v['id'], size=(10 + 40 * v['coreness']))\n",
    "    r.vertex(v['MetacriticScore'], color=0xff0000)    "
   ]
  },
  {
   "cell_type": "markdown",
   "metadata": {},
   "source": [
    "### Regressão Linear\n",
    "\n",
    "-------"
   ]
  },
  {
   "cell_type": "code",
   "execution_count": 97,
   "metadata": {},
   "outputs": [
    {
     "data": {
      "text/html": [
       "<div>\n",
       "<style scoped>\n",
       "    .dataframe tbody tr th:only-of-type {\n",
       "        vertical-align: middle;\n",
       "    }\n",
       "\n",
       "    .dataframe tbody tr th {\n",
       "        vertical-align: top;\n",
       "    }\n",
       "\n",
       "    .dataframe thead th {\n",
       "        text-align: right;\n",
       "    }\n",
       "</style>\n",
       "<table border=\"1\" class=\"dataframe\">\n",
       "  <thead>\n",
       "    <tr style=\"text-align: right;\">\n",
       "      <th></th>\n",
       "      <th>id</th>\n",
       "      <th>Tags</th>\n",
       "      <th>MetacriticScore</th>\n",
       "      <th>TotalRevenue</th>\n",
       "      <th>ReleaseYear</th>\n",
       "      <th>core</th>\n",
       "      <th>coreness</th>\n",
       "    </tr>\n",
       "  </thead>\n",
       "  <tbody>\n",
       "    <tr>\n",
       "      <th>0</th>\n",
       "      <td>0</td>\n",
       "      <td>[Rhythm, VR, Multiplayer, Music, Racing, PvP, ...</td>\n",
       "      <td>87</td>\n",
       "      <td>1200000.0</td>\n",
       "      <td>2021</td>\n",
       "      <td>0</td>\n",
       "      <td>0.108787</td>\n",
       "    </tr>\n",
       "    <tr>\n",
       "      <th>1</th>\n",
       "      <td>1</td>\n",
       "      <td>[Management, Simulation, Anime, Sexual Content...</td>\n",
       "      <td>73</td>\n",
       "      <td>58600000.0</td>\n",
       "      <td>2021</td>\n",
       "      <td>0</td>\n",
       "      <td>0.059623</td>\n",
       "    </tr>\n",
       "  </tbody>\n",
       "</table>\n",
       "</div>"
      ],
      "text/plain": [
       "   id                                               Tags  MetacriticScore  \\\n",
       "0   0  [Rhythm, VR, Multiplayer, Music, Racing, PvP, ...               87   \n",
       "1   1  [Management, Simulation, Anime, Sexual Content...               73   \n",
       "\n",
       "   TotalRevenue  ReleaseYear  core  coreness  \n",
       "0     1200000.0         2021     0  0.108787  \n",
       "1    58600000.0         2021     0  0.059623  "
      ]
     },
     "execution_count": 97,
     "metadata": {},
     "output_type": "execute_result"
    }
   ],
   "source": [
    "# Nodes\n",
    "df_nodes.head(2)"
   ]
  },
  {
   "cell_type": "code",
   "execution_count": 98,
   "metadata": {},
   "outputs": [
    {
     "data": {
      "image/png": "[encoded data removed]",
      "text/plain": [
       "<Figure size 640x480 with 1 Axes>"
      ]
     },
     "metadata": {},
     "output_type": "display_data"
    }
   ],
   "source": [
    "sns.scatterplot(x=df_nodes['coreness'], y=df_nodes['MetacriticScore']);"
   ]
  },
  {
   "cell_type": "code",
   "execution_count": 60,
   "metadata": {},
   "outputs": [
    {
     "data": {
      "image/png": "[encoded data removed]",
      "text/plain": [
       "<Figure size 640x480 with 1 Axes>"
      ]
     },
     "metadata": {},
     "output_type": "display_data"
    }
   ],
   "source": [
    "sns.regplot(x=df_nodes['coreness'], y=df_nodes['MetacriticScore']);"
   ]
  },
  {
   "cell_type": "code",
   "execution_count": 99,
   "metadata": {},
   "outputs": [],
   "source": [
    "result = reg.linear(data=df_nodes, formula=\"MetacriticScore ~ coreness + ReleaseYear + TotalRevenue\")"
   ]
  },
  {
   "cell_type": "code",
   "execution_count": 100,
   "metadata": {},
   "outputs": [
    {
     "data": {
      "text/html": [
       "<table class=\"simpletable\">\n",
       "<caption>OLS Regression Results</caption>\n",
       "<tr>\n",
       "  <th>Dep. Variable:</th>     <td>MetacriticScore</td> <th>  R-squared:         </th> <td>   0.061</td>\n",
       "</tr>\n",
       "<tr>\n",
       "  <th>Model:</th>                   <td>OLS</td>       <th>  Adj. R-squared:    </th> <td>   0.052</td>\n",
       "</tr>\n",
       "<tr>\n",
       "  <th>Method:</th>             <td>Least Squares</td>  <th>  F-statistic:       </th> <td>   6.443</td>\n",
       "</tr>\n",
       "<tr>\n",
       "  <th>Date:</th>             <td>Sat, 27 May 2023</td> <th>  Prob (F-statistic):</th> <td>0.000307</td>\n",
       "</tr>\n",
       "<tr>\n",
       "  <th>Time:</th>                 <td>17:32:53</td>     <th>  Log-Likelihood:    </th> <td> -1018.5</td>\n",
       "</tr>\n",
       "<tr>\n",
       "  <th>No. Observations:</th>      <td>   299</td>      <th>  AIC:               </th> <td>   2045.</td>\n",
       "</tr>\n",
       "<tr>\n",
       "  <th>Df Residuals:</th>          <td>   295</td>      <th>  BIC:               </th> <td>   2060.</td>\n",
       "</tr>\n",
       "<tr>\n",
       "  <th>Df Model:</th>              <td>     3</td>      <th>                     </th>     <td> </td>   \n",
       "</tr>\n",
       "<tr>\n",
       "  <th>Covariance Type:</th>      <td>nonrobust</td>    <th>                     </th>     <td> </td>   \n",
       "</tr>\n",
       "</table>\n",
       "<table class=\"simpletable\">\n",
       "<tr>\n",
       "        <td></td>          <th>coef</th>     <th>std err</th>      <th>t</th>      <th>P>|t|</th>  <th>[0.025</th>    <th>0.975]</th>  \n",
       "</tr>\n",
       "<tr>\n",
       "  <th>Intercept</th>    <td>-3059.8283</td> <td> 1990.321</td> <td>   -1.537</td> <td> 0.125</td> <td>-6976.855</td> <td>  857.199</td>\n",
       "</tr>\n",
       "<tr>\n",
       "  <th>coreness</th>     <td>    0.1019</td> <td>    1.399</td> <td>    0.073</td> <td> 0.942</td> <td>   -2.651</td> <td>    2.854</td>\n",
       "</tr>\n",
       "<tr>\n",
       "  <th>ReleaseYear</th>  <td>    1.5516</td> <td>    0.985</td> <td>    1.576</td> <td> 0.116</td> <td>   -0.386</td> <td>    3.489</td>\n",
       "</tr>\n",
       "<tr>\n",
       "  <th>TotalRevenue</th> <td> 2.846e-09</td> <td> 7.15e-10</td> <td>    3.977</td> <td> 0.000</td> <td> 1.44e-09</td> <td> 4.25e-09</td>\n",
       "</tr>\n",
       "</table>\n",
       "<table class=\"simpletable\">\n",
       "<tr>\n",
       "  <th>Omnibus:</th>       <td>35.716</td> <th>  Durbin-Watson:     </th> <td>   1.911</td>\n",
       "</tr>\n",
       "<tr>\n",
       "  <th>Prob(Omnibus):</th> <td> 0.000</td> <th>  Jarque-Bera (JB):  </th> <td>  50.317</td>\n",
       "</tr>\n",
       "<tr>\n",
       "  <th>Skew:</th>          <td>-0.784</td> <th>  Prob(JB):          </th> <td>1.19e-11</td>\n",
       "</tr>\n",
       "<tr>\n",
       "  <th>Kurtosis:</th>      <td> 4.257</td> <th>  Cond. No.          </th> <td>2.98e+12</td>\n",
       "</tr>\n",
       "</table><br/><br/>Notes:<br/>[1] Standard Errors assume that the covariance matrix of the errors is correctly specified.<br/>[2] The condition number is large, 2.98e+12. This might indicate that there are<br/>strong multicollinearity or other numerical problems."
      ],
      "text/plain": [
       "<class 'statsmodels.iolib.summary.Summary'>\n",
       "\"\"\"\n",
       "                            OLS Regression Results                            \n",
       "==============================================================================\n",
       "Dep. Variable:        MetacriticScore   R-squared:                       0.061\n",
       "Model:                            OLS   Adj. R-squared:                  0.052\n",
       "Method:                 Least Squares   F-statistic:                     6.443\n",
       "Date:                Sat, 27 May 2023   Prob (F-statistic):           0.000307\n",
       "Time:                        17:32:53   Log-Likelihood:                -1018.5\n",
       "No. Observations:                 299   AIC:                             2045.\n",
       "Df Residuals:                     295   BIC:                             2060.\n",
       "Df Model:                           3                                         \n",
       "Covariance Type:            nonrobust                                         \n",
       "================================================================================\n",
       "                   coef    std err          t      P>|t|      [0.025      0.975]\n",
       "--------------------------------------------------------------------------------\n",
       "Intercept    -3059.8283   1990.321     -1.537      0.125   -6976.855     857.199\n",
       "coreness         0.1019      1.399      0.073      0.942      -2.651       2.854\n",
       "ReleaseYear      1.5516      0.985      1.576      0.116      -0.386       3.489\n",
       "TotalRevenue  2.846e-09   7.15e-10      3.977      0.000    1.44e-09    4.25e-09\n",
       "==============================================================================\n",
       "Omnibus:                       35.716   Durbin-Watson:                   1.911\n",
       "Prob(Omnibus):                  0.000   Jarque-Bera (JB):               50.317\n",
       "Skew:                          -0.784   Prob(JB):                     1.19e-11\n",
       "Kurtosis:                       4.257   Cond. No.                     2.98e+12\n",
       "==============================================================================\n",
       "\n",
       "Notes:\n",
       "[1] Standard Errors assume that the covariance matrix of the errors is correctly specified.\n",
       "[2] The condition number is large, 2.98e+12. This might indicate that there are\n",
       "strong multicollinearity or other numerical problems.\n",
       "\"\"\""
      ]
     },
     "execution_count": 100,
     "metadata": {},
     "output_type": "execute_result"
    }
   ],
   "source": [
    "result.summary()"
   ]
  },
  {
   "cell_type": "code",
   "execution_count": 101,
   "metadata": {},
   "outputs": [
    {
     "data": {
      "text/html": [
       "<style type=\"text/css\">\n",
       "</style>\n",
       "<table id=\"T_df1d0\">\n",
       "  <thead>\n",
       "    <tr>\n",
       "      <th id=\"T_df1d0_level0_col0\" class=\"col_heading level0 col0\" >variable</th>\n",
       "      <th id=\"T_df1d0_level0_col1\" class=\"col_heading level0 col1\" >coefficient</th>\n",
       "      <th id=\"T_df1d0_level0_col2\" class=\"col_heading level0 col2\" >std error</th>\n",
       "      <th id=\"T_df1d0_level0_col3\" class=\"col_heading level0 col3\" >p-value</th>\n",
       "    </tr>\n",
       "  </thead>\n",
       "  <tbody>\n",
       "    <tr>\n",
       "      <td id=\"T_df1d0_row0_col0\" class=\"data row0 col0\" >coreness</td>\n",
       "      <td id=\"T_df1d0_row0_col1\" class=\"data row0 col1\" >0.101913</td>\n",
       "      <td id=\"T_df1d0_row0_col2\" class=\"data row0 col2\" >1.398571</td>\n",
       "      <td id=\"T_df1d0_row0_col3\" class=\"data row0 col3\" >0.941959</td>\n",
       "    </tr>\n",
       "    <tr>\n",
       "      <td id=\"T_df1d0_row1_col0\" class=\"data row1 col0\" >ReleaseYear</td>\n",
       "      <td id=\"T_df1d0_row1_col1\" class=\"data row1 col1\" >1.551575</td>\n",
       "      <td id=\"T_df1d0_row1_col2\" class=\"data row1 col2\" >0.984672</td>\n",
       "      <td id=\"T_df1d0_row1_col3\" class=\"data row1 col3\" >0.116160</td>\n",
       "    </tr>\n",
       "    <tr>\n",
       "      <td id=\"T_df1d0_row2_col0\" class=\"data row2 col0\" >TotalRevenue</td>\n",
       "      <td id=\"T_df1d0_row2_col1\" class=\"data row2 col1\" >0.000000</td>\n",
       "      <td id=\"T_df1d0_row2_col2\" class=\"data row2 col2\" >0.000000</td>\n",
       "      <td id=\"T_df1d0_row2_col3\" class=\"data row2 col3\" >0.000088</td>\n",
       "    </tr>\n",
       "  </tbody>\n",
       "</table>\n"
      ],
      "text/plain": [
       "<pandas.io.formats.style.Styler at 0x7f042c840310>"
      ]
     },
     "execution_count": 101,
     "metadata": {},
     "output_type": "execute_result"
    }
   ],
   "source": [
    "result.micro_summary()"
   ]
  },
  {
   "cell_type": "code",
   "execution_count": 102,
   "metadata": {},
   "outputs": [
    {
     "data": {
      "image/png": "[encoded data removed]",
      "text/plain": [
       "<Figure size 1280x480 with 2 Axes>"
      ]
     },
     "metadata": {},
     "output_type": "display_data"
    }
   ],
   "source": [
    "result.plot_residuals()"
   ]
  },
  {
   "cell_type": "code",
   "execution_count": 103,
   "metadata": {},
   "outputs": [],
   "source": [
    "# Observa-se um treshold de divisão no coreness, dessa forma, podemos dividir esses dados em dois conjuntos\n",
    "# E assim aplicar uma regressão em cada metade.\n",
    "\n",
    "threshold_coreness = 0.5\n",
    "\n",
    "df_nodes_menor = df_nodes[df_nodes['coreness'] < threshold_coreness]\n",
    "df_nodes_maior =  df_nodes[df_nodes['coreness'] > threshold_coreness]"
   ]
  },
  {
   "cell_type": "code",
   "execution_count": 104,
   "metadata": {},
   "outputs": [
    {
     "data": {
      "text/html": [
       "<div>\n",
       "<style scoped>\n",
       "    .dataframe tbody tr th:only-of-type {\n",
       "        vertical-align: middle;\n",
       "    }\n",
       "\n",
       "    .dataframe tbody tr th {\n",
       "        vertical-align: top;\n",
       "    }\n",
       "\n",
       "    .dataframe thead th {\n",
       "        text-align: right;\n",
       "    }\n",
       "</style>\n",
       "<table border=\"1\" class=\"dataframe\">\n",
       "  <thead>\n",
       "    <tr style=\"text-align: right;\">\n",
       "      <th></th>\n",
       "      <th>id</th>\n",
       "      <th>Tags</th>\n",
       "      <th>MetacriticScore</th>\n",
       "      <th>TotalRevenue</th>\n",
       "      <th>ReleaseYear</th>\n",
       "      <th>core</th>\n",
       "      <th>coreness</th>\n",
       "    </tr>\n",
       "  </thead>\n",
       "  <tbody>\n",
       "    <tr>\n",
       "      <th>0</th>\n",
       "      <td>0</td>\n",
       "      <td>[Rhythm, VR, Multiplayer, Music, Racing, PvP, ...</td>\n",
       "      <td>87</td>\n",
       "      <td>1.200000e+06</td>\n",
       "      <td>2021</td>\n",
       "      <td>0</td>\n",
       "      <td>0.108787</td>\n",
       "    </tr>\n",
       "    <tr>\n",
       "      <th>1</th>\n",
       "      <td>1</td>\n",
       "      <td>[Management, Simulation, Anime, Sexual Content...</td>\n",
       "      <td>73</td>\n",
       "      <td>5.860000e+07</td>\n",
       "      <td>2021</td>\n",
       "      <td>0</td>\n",
       "      <td>0.059623</td>\n",
       "    </tr>\n",
       "    <tr>\n",
       "      <th>2</th>\n",
       "      <td>2</td>\n",
       "      <td>[Casual, Simulation, Strategy, Indie, Manageme...</td>\n",
       "      <td>87</td>\n",
       "      <td>9.100000e+06</td>\n",
       "      <td>2021</td>\n",
       "      <td>0</td>\n",
       "      <td>0.060669</td>\n",
       "    </tr>\n",
       "    <tr>\n",
       "      <th>3</th>\n",
       "      <td>3</td>\n",
       "      <td>[Puzzle, Difficult, Indie, Singleplayer, Sokob...</td>\n",
       "      <td>76</td>\n",
       "      <td>2.610500e+01</td>\n",
       "      <td>2021</td>\n",
       "      <td>0</td>\n",
       "      <td>0.064854</td>\n",
       "    </tr>\n",
       "    <tr>\n",
       "      <th>5</th>\n",
       "      <td>5</td>\n",
       "      <td>[Battle Royale, Sexual Content, Multiplayer, M...</td>\n",
       "      <td>71</td>\n",
       "      <td>0.000000e+00</td>\n",
       "      <td>2021</td>\n",
       "      <td>0</td>\n",
       "      <td>0.046025</td>\n",
       "    </tr>\n",
       "  </tbody>\n",
       "</table>\n",
       "</div>"
      ],
      "text/plain": [
       "   id                                               Tags  MetacriticScore  \\\n",
       "0   0  [Rhythm, VR, Multiplayer, Music, Racing, PvP, ...               87   \n",
       "1   1  [Management, Simulation, Anime, Sexual Content...               73   \n",
       "2   2  [Casual, Simulation, Strategy, Indie, Manageme...               87   \n",
       "3   3  [Puzzle, Difficult, Indie, Singleplayer, Sokob...               76   \n",
       "5   5  [Battle Royale, Sexual Content, Multiplayer, M...               71   \n",
       "\n",
       "   TotalRevenue  ReleaseYear  core  coreness  \n",
       "0  1.200000e+06         2021     0  0.108787  \n",
       "1  5.860000e+07         2021     0  0.059623  \n",
       "2  9.100000e+06         2021     0  0.060669  \n",
       "3  2.610500e+01         2021     0  0.064854  \n",
       "5  0.000000e+00         2021     0  0.046025  "
      ]
     },
     "execution_count": 104,
     "metadata": {},
     "output_type": "execute_result"
    }
   ],
   "source": [
    "df_nodes_menor.head()"
   ]
  },
  {
   "cell_type": "code",
   "execution_count": 105,
   "metadata": {},
   "outputs": [
    {
     "data": {
      "text/html": [
       "<div>\n",
       "<style scoped>\n",
       "    .dataframe tbody tr th:only-of-type {\n",
       "        vertical-align: middle;\n",
       "    }\n",
       "\n",
       "    .dataframe tbody tr th {\n",
       "        vertical-align: top;\n",
       "    }\n",
       "\n",
       "    .dataframe thead th {\n",
       "        text-align: right;\n",
       "    }\n",
       "</style>\n",
       "<table border=\"1\" class=\"dataframe\">\n",
       "  <thead>\n",
       "    <tr style=\"text-align: right;\">\n",
       "      <th></th>\n",
       "      <th>id</th>\n",
       "      <th>Tags</th>\n",
       "      <th>MetacriticScore</th>\n",
       "      <th>TotalRevenue</th>\n",
       "      <th>ReleaseYear</th>\n",
       "      <th>core</th>\n",
       "      <th>coreness</th>\n",
       "    </tr>\n",
       "  </thead>\n",
       "  <tbody>\n",
       "    <tr>\n",
       "      <th>4</th>\n",
       "      <td>4</td>\n",
       "      <td>[RPG, Choices Matter, Story Rich, Detective, T...</td>\n",
       "      <td>67</td>\n",
       "      <td>26400000.0</td>\n",
       "      <td>2021</td>\n",
       "      <td>1</td>\n",
       "      <td>0.854167</td>\n",
       "    </tr>\n",
       "    <tr>\n",
       "      <th>13</th>\n",
       "      <td>13</td>\n",
       "      <td>[RPG, Adventure, Female Protagonist, JRPG, Act...</td>\n",
       "      <td>74</td>\n",
       "      <td>34600000.0</td>\n",
       "      <td>2021</td>\n",
       "      <td>1</td>\n",
       "      <td>0.929167</td>\n",
       "    </tr>\n",
       "    <tr>\n",
       "      <th>18</th>\n",
       "      <td>18</td>\n",
       "      <td>[Casual, Point &amp; Click, Female Protagonist, Cu...</td>\n",
       "      <td>72</td>\n",
       "      <td>23700000.0</td>\n",
       "      <td>2021</td>\n",
       "      <td>1</td>\n",
       "      <td>0.770833</td>\n",
       "    </tr>\n",
       "    <tr>\n",
       "      <th>22</th>\n",
       "      <td>22</td>\n",
       "      <td>[Indie, Action, Action Roguelike, Pixel Graphi...</td>\n",
       "      <td>80</td>\n",
       "      <td>48800000.0</td>\n",
       "      <td>2021</td>\n",
       "      <td>1</td>\n",
       "      <td>0.870833</td>\n",
       "    </tr>\n",
       "    <tr>\n",
       "      <th>26</th>\n",
       "      <td>26</td>\n",
       "      <td>[Great Soundtrack, Music, Story Rich, Singlepl...</td>\n",
       "      <td>83</td>\n",
       "      <td>39100000.0</td>\n",
       "      <td>2021</td>\n",
       "      <td>1</td>\n",
       "      <td>0.825000</td>\n",
       "    </tr>\n",
       "  </tbody>\n",
       "</table>\n",
       "</div>"
      ],
      "text/plain": [
       "    id                                               Tags  MetacriticScore  \\\n",
       "4    4  [RPG, Choices Matter, Story Rich, Detective, T...               67   \n",
       "13  13  [RPG, Adventure, Female Protagonist, JRPG, Act...               74   \n",
       "18  18  [Casual, Point & Click, Female Protagonist, Cu...               72   \n",
       "22  22  [Indie, Action, Action Roguelike, Pixel Graphi...               80   \n",
       "26  26  [Great Soundtrack, Music, Story Rich, Singlepl...               83   \n",
       "\n",
       "    TotalRevenue  ReleaseYear  core  coreness  \n",
       "4     26400000.0         2021     1  0.854167  \n",
       "13    34600000.0         2021     1  0.929167  \n",
       "18    23700000.0         2021     1  0.770833  \n",
       "22    48800000.0         2021     1  0.870833  \n",
       "26    39100000.0         2021     1  0.825000  "
      ]
     },
     "execution_count": 105,
     "metadata": {},
     "output_type": "execute_result"
    }
   ],
   "source": [
    "df_nodes_maior.head()"
   ]
  },
  {
   "cell_type": "code",
   "execution_count": 106,
   "metadata": {},
   "outputs": [
    {
     "data": {
      "image/png": "[encoded data removed]",
      "text/plain": [
       "<Figure size 640x480 with 1 Axes>"
      ]
     },
     "metadata": {},
     "output_type": "display_data"
    }
   ],
   "source": [
    "# ------- Para a primeira metade  -------\n",
    "\n",
    "sns.regplot(x=df_nodes_menor['coreness'], y=df_nodes_menor['MetacriticScore']);"
   ]
  },
  {
   "cell_type": "code",
   "execution_count": 107,
   "metadata": {},
   "outputs": [],
   "source": [
    "result_menor = reg.linear(data=df_nodes_menor, formula='MetacriticScore ~ coreness + ReleaseYear + TotalRevenue')"
   ]
  },
  {
   "cell_type": "code",
   "execution_count": 108,
   "metadata": {},
   "outputs": [
    {
     "data": {
      "text/html": [
       "<style type=\"text/css\">\n",
       "</style>\n",
       "<table id=\"T_a0585\">\n",
       "  <thead>\n",
       "    <tr>\n",
       "      <th id=\"T_a0585_level0_col0\" class=\"col_heading level0 col0\" >variable</th>\n",
       "      <th id=\"T_a0585_level0_col1\" class=\"col_heading level0 col1\" >coefficient</th>\n",
       "      <th id=\"T_a0585_level0_col2\" class=\"col_heading level0 col2\" >std error</th>\n",
       "      <th id=\"T_a0585_level0_col3\" class=\"col_heading level0 col3\" >p-value</th>\n",
       "    </tr>\n",
       "  </thead>\n",
       "  <tbody>\n",
       "    <tr>\n",
       "      <td id=\"T_a0585_row0_col0\" class=\"data row0 col0\" >coreness</td>\n",
       "      <td id=\"T_a0585_row0_col1\" class=\"data row0 col1\" >16.085749</td>\n",
       "      <td id=\"T_a0585_row0_col2\" class=\"data row0 col2\" >6.707867</td>\n",
       "      <td id=\"T_a0585_row0_col3\" class=\"data row0 col3\" >0.017261</td>\n",
       "    </tr>\n",
       "    <tr>\n",
       "      <td id=\"T_a0585_row1_col0\" class=\"data row1 col0\" >ReleaseYear</td>\n",
       "      <td id=\"T_a0585_row1_col1\" class=\"data row1 col1\" >2.007881</td>\n",
       "      <td id=\"T_a0585_row1_col2\" class=\"data row1 col2\" >1.078800</td>\n",
       "      <td id=\"T_a0585_row1_col3\" class=\"data row1 col3\" >0.063957</td>\n",
       "    </tr>\n",
       "    <tr>\n",
       "      <td id=\"T_a0585_row2_col0\" class=\"data row2 col0\" >TotalRevenue</td>\n",
       "      <td id=\"T_a0585_row2_col1\" class=\"data row2 col1\" >0.000000</td>\n",
       "      <td id=\"T_a0585_row2_col2\" class=\"data row2 col2\" >0.000000</td>\n",
       "      <td id=\"T_a0585_row2_col3\" class=\"data row2 col3\" >0.000162</td>\n",
       "    </tr>\n",
       "  </tbody>\n",
       "</table>\n"
      ],
      "text/plain": [
       "<pandas.io.formats.style.Styler at 0x7f042c5b8460>"
      ]
     },
     "execution_count": 108,
     "metadata": {},
     "output_type": "execute_result"
    }
   ],
   "source": [
    "result_menor.micro_summary()"
   ]
  },
  {
   "cell_type": "code",
   "execution_count": 109,
   "metadata": {},
   "outputs": [
    {
     "data": {
      "image/png": "[encoded data removed]",
      "text/plain": [
       "<Figure size 1280x480 with 2 Axes>"
      ]
     },
     "metadata": {},
     "output_type": "display_data"
    }
   ],
   "source": [
    "result_menor.plot_residuals()"
   ]
  },
  {
   "cell_type": "code",
   "execution_count": 110,
   "metadata": {},
   "outputs": [
    {
     "data": {
      "image/png": "[encoded data removed]",
      "text/plain": [
       "<Figure size 640x480 with 1 Axes>"
      ]
     },
     "metadata": {},
     "output_type": "display_data"
    }
   ],
   "source": [
    "# ------- Para a segunda metade  -------\n",
    "\n",
    "sns.regplot(x=df_nodes_maior['coreness'], y=df_nodes_maior['MetacriticScore']);"
   ]
  },
  {
   "cell_type": "code",
   "execution_count": 111,
   "metadata": {},
   "outputs": [],
   "source": [
    "result_maior = reg.linear(data=df_nodes_maior, formula='MetacriticScore ~ coreness + ReleaseYear + TotalRevenue')"
   ]
  },
  {
   "cell_type": "code",
   "execution_count": 112,
   "metadata": {},
   "outputs": [
    {
     "data": {
      "text/html": [
       "<style type=\"text/css\">\n",
       "</style>\n",
       "<table id=\"T_3ba2e\">\n",
       "  <thead>\n",
       "    <tr>\n",
       "      <th id=\"T_3ba2e_level0_col0\" class=\"col_heading level0 col0\" >variable</th>\n",
       "      <th id=\"T_3ba2e_level0_col1\" class=\"col_heading level0 col1\" >coefficient</th>\n",
       "      <th id=\"T_3ba2e_level0_col2\" class=\"col_heading level0 col2\" >std error</th>\n",
       "      <th id=\"T_3ba2e_level0_col3\" class=\"col_heading level0 col3\" >p-value</th>\n",
       "    </tr>\n",
       "  </thead>\n",
       "  <tbody>\n",
       "    <tr>\n",
       "      <td id=\"T_3ba2e_row0_col0\" class=\"data row0 col0\" >coreness</td>\n",
       "      <td id=\"T_3ba2e_row0_col1\" class=\"data row0 col1\" >-12.620269</td>\n",
       "      <td id=\"T_3ba2e_row0_col2\" class=\"data row0 col2\" >11.645103</td>\n",
       "      <td id=\"T_3ba2e_row0_col3\" class=\"data row0 col3\" >0.283208</td>\n",
       "    </tr>\n",
       "    <tr>\n",
       "      <td id=\"T_3ba2e_row1_col0\" class=\"data row1 col0\" >ReleaseYear</td>\n",
       "      <td id=\"T_3ba2e_row1_col1\" class=\"data row1 col1\" >-2.327404</td>\n",
       "      <td id=\"T_3ba2e_row1_col2\" class=\"data row1 col2\" >2.348189</td>\n",
       "      <td id=\"T_3ba2e_row1_col3\" class=\"data row1 col3\" >0.325954</td>\n",
       "    </tr>\n",
       "    <tr>\n",
       "      <td id=\"T_3ba2e_row2_col0\" class=\"data row2 col0\" >TotalRevenue</td>\n",
       "      <td id=\"T_3ba2e_row2_col1\" class=\"data row2 col1\" >0.000000</td>\n",
       "      <td id=\"T_3ba2e_row2_col2\" class=\"data row2 col2\" >0.000000</td>\n",
       "      <td id=\"T_3ba2e_row2_col3\" class=\"data row2 col3\" >0.188626</td>\n",
       "    </tr>\n",
       "  </tbody>\n",
       "</table>\n"
      ],
      "text/plain": [
       "<pandas.io.formats.style.Styler at 0x7f042c54ba90>"
      ]
     },
     "execution_count": 112,
     "metadata": {},
     "output_type": "execute_result"
    }
   ],
   "source": [
    "result_maior.micro_summary()"
   ]
  },
  {
   "cell_type": "code",
   "execution_count": 113,
   "metadata": {},
   "outputs": [
    {
     "data": {
      "image/png": "[encoded data removed]",
      "text/plain": [
       "<Figure size 1280x480 with 2 Axes>"
      ]
     },
     "metadata": {},
     "output_type": "display_data"
    }
   ],
   "source": [
    "result_menor.plot_residuals()"
   ]
  },
  {
   "cell_type": "markdown",
   "metadata": {},
   "source": [
    "### Recortes | Por Região"
   ]
  },
  {
   "cell_type": "code",
   "execution_count": 115,
   "metadata": {},
   "outputs": [],
   "source": [
    "# ---- Dicionario com Países e Regiões ----\n",
    "country_and_regions = {\n",
    "\"North_Africa\" : [\"Bahrain\",  \"Egypt\", \"Jordan\",  \"Kuwait\",  \"Lebanon\", \"Mauritania\",\n",
    "\"Morocco\",  \"Oman\",  \"Pakistan\", \"Qatar\",  \"Saudi Arabia\", \"Tunisia\", \"United Arab Emirates\"],\n",
    "\n",
    "\"Latin_America\" : [\"Argentina\" , \"Bahamas\"  , \"Belize\" , \"Bermuda\" , \"Bolivia\" , \"Brazil\" , \"Chile\" ,\n",
    "\"Colombia\" , \"Costa Rica\" , \"Dominican Republic\" ,  \"Ecuador\",  \"El Salvador\", \"Guatemala\",\n",
    "\"Honduras\", \"Mexico\", \"Panama\", \"Paraguay\", \"Peru\" , \"Suriname\" , \"Trinidad and Tobago\" , \"Uruguay\"],\n",
    "\n",
    "\"North_America\" : [\"Canada\" , \"United States\"],\n",
    "\n",
    "\"Europe\" : [\"Armenia\", \"Austria\", \"Belgium\" , \"Bulgaria\" , \"Croatia\" , \"Cyprus\" , \"Czech Republic\",\n",
    "\"Denmark\", \"Estonia\" , \"Finland\", \"France\" , \"Georgia\" , \"Germany\", \"Greece\", \"Hungary\",\n",
    "\"Iceland\",\"Ireland\" , \"Israel\" , \"Italy\", \"Kazakhstan\", \"Kyrgyz Republic\",\n",
    "\"Latvia\", \"Liechtenstein\", \"Lithuania\", \"Luxembourg\", \"Malta\", \"Moldova\", \"Monaco\",\n",
    "\"Montenegro\", \"Netherlands\" , \"North Macedonia\" , \"Norway\", \"Poland\", \"Portugal\", \"Romania\",\n",
    "\"Russia\", \"Serbia, The Republic of\", \"Slovak Republic\" , \"Slovenia\",\n",
    "\"Spain\", \"Sweden\", \"Switzerland\", \"Turkey\" , \"Ukraine\" , \"United Kingdom\"],\n",
    "\n",
    "\"Asia\" : [\"Australia\" , \"Bangladesh\", \"Bhutan\" , \"Fiji\" , \"India\" , \"Japan\" , \"Maldives\" , \"Marshall Islands\",\n",
    "\"Micronesia\" , \"Mongolia\" , \"Nepal\" , \"New Zealand\", \"Palau\" ,\"Philippines\" , \"Republic of Korea\" , \"Sri Lanka\",\n",
    "\"Taiwan Partnership\" , \"Thailand\" , \"Vietnam\"],\n",
    "\n",
    "\"Africa\" : [\"Benin\" , \"Botswana\" , \"Burkina Faso\" , \"Cameroon\" , \"Cape Verde\" , \"Chad\" , \"Congo, The Republic of\" , \"Ethiopia\" , \"Gabon\",\n",
    "\"Gambia\" , \"Ghana\" , \"Guinea\" , \"Kenya\" , \"Liberia\" , \"Madagascar\" , \"Mali\" , \"Mauritius\" , \"Namibia\" , \"Niger\" , \"Nigeria\" , \"Rwanda\",\n",
    "\"Senegal\", \"Seychelles\" , \"South Africa\" , \"Tanzania\" , \"Togo\" , \"Uganda\"]\n",
    "}"
   ]
  },
  {
   "cell_type": "code",
   "execution_count": 120,
   "metadata": {},
   "outputs": [
    {
     "data": {
      "text/html": [
       "<div>\n",
       "<style scoped>\n",
       "    .dataframe tbody tr th:only-of-type {\n",
       "        vertical-align: middle;\n",
       "    }\n",
       "\n",
       "    .dataframe tbody tr th {\n",
       "        vertical-align: top;\n",
       "    }\n",
       "\n",
       "    .dataframe thead th {\n",
       "        text-align: right;\n",
       "    }\n",
       "</style>\n",
       "<table border=\"1\" class=\"dataframe\">\n",
       "  <thead>\n",
       "    <tr style=\"text-align: right;\">\n",
       "      <th></th>\n",
       "      <th>Name</th>\n",
       "      <th>Total revenue</th>\n",
       "      <th>Regions</th>\n",
       "    </tr>\n",
       "  </thead>\n",
       "  <tbody>\n",
       "    <tr>\n",
       "      <th>0</th>\n",
       "      <td>Ubisoft</td>\n",
       "      <td>2500000000.0</td>\n",
       "      <td>France</td>\n",
       "    </tr>\n",
       "    <tr>\n",
       "      <th>1</th>\n",
       "      <td>Valve</td>\n",
       "      <td>2400000000.0</td>\n",
       "      <td>United States</td>\n",
       "    </tr>\n",
       "  </tbody>\n",
       "</table>\n",
       "</div>"
      ],
      "text/plain": [
       "      Name Total revenue        Regions\n",
       "0  Ubisoft  2500000000.0         France\n",
       "1    Valve  2400000000.0  United States"
      ]
     },
     "execution_count": 120,
     "metadata": {},
     "output_type": "execute_result"
    }
   ],
   "source": [
    "df_regions= pd.read_csv('dataset_regions.csv' , delimiter = \";\" , usecols=[\"Name\" , \"Total revenue\", \"Regions\"])\n",
    "df_regions.head(2)"
   ]
  },
  {
   "cell_type": "code",
   "execution_count": 137,
   "metadata": {},
   "outputs": [
    {
     "name": "stdout",
     "output_type": "stream",
     "text": [
      "WanadevStudio France\n",
      "PLAYISM Japan\n",
      "Dinosaur Polo Club New Zealand\n",
      "Mischka Kamener nan\n",
      "Fireshine Games United Kingdom\n",
      "NetEase Games Montréal nan\n",
      "Team Meat United States\n",
      "Secret Mode nan\n",
      "Square Enix Japan\n",
      "WhisperGames China\n",
      "Modus Games United States\n",
      "Might and Delight Sweden\n",
      "Annapurna Interactive United States\n",
      "Resolution Games Sweden\n",
      "The Irregular Corporation United Kingdom\n",
      "Kitfox Games Canada\n",
      "Dear Villagers France\n",
      "Way Down Deep nan\n",
      "Skunkape Games nan\n",
      "Nimble Giant Entertainment nan\n",
      "Clockwork Bird nan\n",
      "SIGONO INC. nan\n",
      "34BigThings srl nan\n",
      "Devolver Digital United States\n",
      "Mixtvision nan\n",
      "Amazon Games United States\n",
      "META Publishing Cyprus\n",
      "AtomicHorde nan\n",
      "Something We Made nan\n",
      "Freedom Games nan\n",
      "THQ Nordic Austria\n",
      "Klei Entertainment Canada\n",
      "Serenity Forge nan\n",
      "MyDearest Inc. nan\n",
      "Frontier Developments United Kingdom\n",
      "Team17 United Kingdom\n",
      "Daedalic Entertainment Germany\n",
      "Humble Games United States\n",
      "Toplitz Productions Germany\n",
      "NamaTakahashi nan\n",
      "Hooded Horse nan\n",
      "Devolver Digital United States\n",
      "Novarama nan\n",
      "All in! Games Poland\n",
      "Digerati nan\n",
      "Electronic Arts United States\n",
      "Wargaming Group Limited nan\n",
      "Fellow Traveller nan\n",
      "Antiidelay nan\n",
      "Fireshine Games United Kingdom\n",
      "Dotemu nan\n",
      "Redlock Studio nan\n",
      "Akupara Games nan\n",
      "Bethesda Softworks United States\n",
      "Team17 United Kingdom\n",
      "Flat Hill Games nan\n",
      "THQ Nordic Austria\n",
      "Resolution Games Sweden\n",
      "Krillbite Studio nan\n",
      "Iceberg Interactive Netherlands\n",
      "Secret Mode nan\n",
      "Humble Games United States\n",
      "Chucklefish United Kingdom\n",
      "Thunderful Publishing nan\n",
      "Nacon France\n",
      "Draknek nan\n",
      "Jelle van Doorne nan\n",
      "Application Systems Heidelberg nan\n",
      "Tuxedo Labs Sweden\n",
      "Humble Games United States\n",
      "Enhance nan\n",
      "Dionous Games nan\n",
      "Nordcurrent Labs nan\n",
      "SOEDESCO nan\n",
      "Paper Cult nan\n",
      "Tripwire Presents nan\n",
      "Application Systems Heidelberg nan\n",
      "KRAFTON, Inc. South Korea\n",
      "Electronic Arts United States\n",
      "Armor Games Studios nan\n",
      "Anshar Publishing nan\n",
      "HypeTrain Digital Cyprus\n",
      "CRITICAL REFLEX nan\n",
      "Coffee Stain Publishing Sweden\n",
      "Galdra Studios nan\n",
      "GATO STUDIO nan\n",
      "Cereal Games nan\n",
      "Super Rare Originals nan\n",
      "Funcom Norway\n",
      "Riot Forge nan\n",
      "17-BIT nan\n",
      "hyperparadise nan\n",
      "THQ Nordic Austria\n",
      "Team17 United Kingdom\n",
      "Amanita Design nan\n",
      "Fellow Traveller nan\n",
      "Focus Entertainment France\n",
      "HitGrab nan\n",
      "Aspyr nan\n",
      "Resolution Games Sweden\n",
      "Microids France\n",
      "Rebellion United Kingdom\n",
      "Digerati nan\n",
      "Hello Games United Kingdom\n",
      "LegendOri Productions nan\n",
      "Lo-Fi People nan\n",
      "Mastiff nan\n",
      "Fellow Traveller nan\n",
      "2pt Interactive nan\n",
      "Team17 Digital nan\n",
      "Untold Tales nan\n",
      "Daedalic Entertainment Germany\n",
      "Tripwire Interactive United States\n",
      "Super.com nan\n",
      "Devolver Digital United States\n",
      "Axel Fox (Fortuna Imperatore) nan\n",
      "Electronic Arts United States\n",
      "KOEI TECMO GAMES CO., LTD. Japan\n",
      "10 Chambers Sweden\n",
      "GameTomo Co., Ltd. nan\n",
      "Ammobox Studios nan\n",
      "Thunderful Publishing nan\n",
      "Prime Matter Germany\n",
      "cpsoft nan\n",
      "Finji nan\n",
      "Cellar Door Games Canada\n",
      "Brawsome nan\n",
      "Yacht Club Games nan\n",
      "Skystone Games Inc. nan\n",
      "Annapurna Interactive United States\n",
      "Kalypso Media Germany\n",
      "Kitfox Games Canada\n",
      "FireFly Studios United Kingdom\n",
      "SEGA Japan\n",
      "CyberConnect2 nan\n",
      "Triple Topping nan\n",
      "Bethesda Softworks United States\n",
      "Xbox Game Studios United States\n",
      "Alawar Premium nan\n",
      "[2.21] nan\n",
      "Finji nan\n",
      "Dear Villagers France\n",
      "Asmodee Digital nan\n",
      "No More Robots nan\n",
      "Neon Doctrine nan\n",
      "Modus Games United States\n",
      "Devolver Digital United States\n",
      "Skybound Games United States\n",
      "Binary Haze Interactive nan\n",
      "Cowleyfornia Studios nan\n",
      "SNEG nan\n",
      "Assemble Entertainment nan\n",
      "Oddworld Inhabitants nan\n",
      "Rebellion United Kingdom\n",
      "Iceberg Interactive Netherlands\n",
      "Hero Concept nan\n",
      "Konami Digital Entertainment Japan\n",
      "Retrosoft Studios nan\n",
      "Freebird Games nan\n",
      "101XP nan\n",
      "Headup nan\n",
      "Mixtvision nan\n",
      "Devolver Digital United States\n",
      "Hatinh Interactive nan\n",
      "Serious Bros. nan\n",
      "Whatboy Games nan\n",
      "KOEI TECMO GAMES CO., LTD. Japan\n",
      "KOEI TECMO GAMES CO., LTD. Japan\n",
      "astragon Entertainment Germany\n",
      "Neon Doctrine nan\n",
      "Gunfish Games nan\n",
      "Hyperstrange Poland\n",
      "Akupara Games nan\n",
      "PQube nan\n",
      "Wired Productions nan\n",
      "Bandai Namco Entertainment Japan\n",
      "Alessandro Guzzo nan\n",
      "Electronic Arts United States\n",
      "Annapurna Interactive United States\n",
      "Iceberg Interactive Netherlands\n",
      "Pixmain nan\n",
      "HandyGames nan\n",
      "Frontier Foundry nan\n",
      "Xbox Game Studios United States\n",
      "Deep Silver Germany\n",
      "DANGEN Entertainment nan\n",
      "Hyperstrange Poland\n",
      "The Farm 51 Poland\n",
      "Bonus Stage Publishing nan\n",
      "Electronic Arts United States\n",
      "Freedom Games nan\n",
      "MWM Interactive nan\n",
      "IO Interactive A/S nan\n",
      "Rose City Games nan\n",
      "Catze nan\n",
      "AtomTeam nan\n",
      "Cordens Interactive nan\n",
      "The Arcade Crew nan\n",
      "Curve Games United Kingdom\n",
      "Fireshine Games United Kingdom\n",
      "Alien Pixel Studios nan\n",
      "Big Blue Bubble nan\n",
      "Raw Fury Sweden\n",
      "Nacon France\n",
      "Versus Evil United States\n",
      "Humble Games United States\n",
      "Lightning Games China\n",
      "Yogscast Games nan\n",
      "Skybound Games United States\n",
      "Broken Arms Games nan\n",
      "Raw Fury Sweden\n",
      "Raw Fury Sweden\n",
      "Nepos Games nan\n",
      "Charles Games nan\n",
      "Devolver Digital United States\n",
      "Annapurna Interactive United States\n",
      "Strategy First nan\n",
      "Graffiti Games nan\n",
      "Devolver Digital United States\n",
      "Devolver Digital United States\n",
      "Gearbox Publishing United States\n",
      "Doborog Games nan\n",
      "inkle Ltd nan\n",
      "Private Division United States\n",
      "Fast Travel Games nan\n",
      "Petums nan\n",
      "Team17 United Kingdom\n",
      "Vertigo Games nan\n",
      "Velan Studios nan\n",
      "All in! Games Poland\n",
      "Secret Mode nan\n",
      "Thunderful Publishing nan\n",
      "THQ Nordic Austria\n",
      "PlayStation PC LLC Japan\n",
      "Sigma Team Inc. nan\n",
      "11 bit studios Poland\n",
      "SEGA Japan\n",
      "NCSOFT nan\n",
      "Kwalee nan\n",
      "Frontier Developments United Kingdom\n",
      "Ember Lab nan\n",
      "Ocean Drive Studio, Inc. nan\n",
      "Good Shepherd Entertainment Netherlands\n",
      "SEGA Japan\n",
      "Humble Games United States\n",
      "Ravenscourt nan\n",
      "Raw Fury Sweden\n",
      "Team17 United Kingdom\n",
      "Kitfox Games Canada\n",
      "Half Asleep nan\n",
      "['Europe', 'Asia', 'Asia', 'NaN', 'Europe', 'NaN', 'NaN', 'NaN', 'Asia', 'NaN', 'NaN', 'Europe', 'NaN', 'Europe', 'Europe', 'North_America', 'Europe', 'NaN', 'NaN', 'NaN', 'NaN', 'NaN', 'NaN', 'NaN', 'NaN', 'NaN', 'Europe', 'NaN', 'NaN', 'NaN', 'Europe', 'North_America', 'NaN', 'NaN', 'Europe', 'Europe', 'Europe', 'NaN', 'Europe', 'NaN', 'NaN', 'NaN', 'NaN', 'Europe', 'NaN', 'NaN', 'NaN', 'NaN', 'NaN', 'Europe', 'NaN', 'NaN', 'NaN', 'NaN', 'Europe', 'NaN', 'Europe', 'Europe', 'NaN', 'Europe', 'NaN', 'NaN', 'Europe', 'NaN', 'Europe', 'NaN', 'NaN', 'NaN', 'Europe', 'NaN', 'NaN', 'NaN', 'NaN', 'NaN', 'NaN', 'NaN', 'NaN', 'NaN', 'NaN', 'NaN', 'NaN', 'Europe', 'NaN', 'Europe', 'NaN', 'NaN', 'NaN', 'NaN', 'Europe', 'NaN', 'NaN', 'NaN', 'Europe', 'Europe', 'NaN', 'NaN', 'Europe', 'NaN', 'NaN', 'Europe', 'Europe', 'Europe', 'NaN', 'Europe', 'NaN', 'NaN', 'NaN', 'NaN', 'NaN', 'NaN', 'NaN', 'Europe', 'NaN', 'NaN', 'NaN', 'NaN', 'NaN', 'Asia', 'Europe', 'NaN', 'NaN', 'NaN', 'Europe', 'NaN', 'NaN', 'North_America', 'NaN', 'NaN', 'NaN', 'NaN', 'Europe', 'North_America', 'Europe', 'Asia', 'NaN', 'NaN', 'NaN', 'NaN', 'NaN', 'NaN', 'NaN', 'Europe', 'NaN', 'NaN', 'NaN', 'NaN', 'NaN', 'NaN', 'NaN', 'NaN', 'NaN', 'NaN', 'NaN', 'Europe', 'Europe', 'NaN', 'Asia', 'NaN', 'NaN', 'NaN', 'NaN', 'NaN', 'NaN', 'NaN', 'NaN', 'NaN', 'Asia', 'Asia', 'Europe', 'NaN', 'NaN', 'Europe', 'NaN', 'NaN', 'NaN', 'Asia', 'NaN', 'NaN', 'NaN', 'Europe', 'NaN', 'NaN', 'NaN', 'NaN', 'Europe', 'NaN', 'Europe', 'Europe', 'NaN', 'NaN', 'NaN', 'NaN', 'NaN', 'NaN', 'NaN', 'NaN', 'NaN', 'NaN', 'Europe', 'Europe', 'NaN', 'NaN', 'Europe', 'Europe', 'NaN', 'NaN', 'NaN', 'NaN', 'NaN', 'NaN', 'Europe', 'Europe', 'NaN', 'NaN', 'NaN', 'NaN', 'NaN', 'NaN', 'NaN', 'NaN', 'NaN', 'NaN', 'NaN', 'NaN', 'NaN', 'NaN', 'Europe', 'NaN', 'NaN', 'Europe', 'NaN', 'NaN', 'Europe', 'Asia', 'NaN', 'Europe', 'Asia', 'NaN', 'NaN', 'Europe', 'NaN', 'NaN', 'Europe', 'Asia', 'NaN', 'NaN', 'Europe', 'Europe', 'North_America', 'NaN']\n",
      "174\n"
     ]
    }
   ],
   "source": [
    "list_regions = []\n",
    "count_NAN = 0\n",
    "for idx , linha in df_principal.iterrows():\n",
    "    if (linha['Publishers'] in list(df_regions['Name'])):\n",
    "        indexs = list(df_regions['Name']).index(linha['Publishers'])\n",
    "        \n",
    "        # País do Publisher\n",
    "        country =  df_regions.iloc[indexs]['Regions']\n",
    "        print(linha['Publishers'] , country)\n",
    "        \n",
    "        # Pega região do publisher\n",
    "        achou_regiao = False\n",
    "        for key, values in country_and_regions.items():\n",
    "            if(country in values):\n",
    "                list_regions.append(key)\n",
    "                achou_regiao  = True\n",
    "        \n",
    "        if not achou_regiao : \n",
    "            list_regions.append(\"NaN\")\n",
    "            count_NAN+=1\n",
    "            \n",
    "print(list_regions)\n",
    "print(count_NAN)"
   ]
  },
  {
   "cell_type": "code",
   "execution_count": 138,
   "metadata": {},
   "outputs": [
    {
     "ename": "ValueError",
     "evalue": "Length of values (250) does not match length of index (299)",
     "output_type": "error",
     "traceback": [
      "\u001b[0;31m---------------------------------------------------------------------------\u001b[0m",
      "\u001b[0;31mValueError\u001b[0m                                Traceback (most recent call last)",
      "Cell \u001b[0;32mIn[138], line 1\u001b[0m\n\u001b[0;32m----> 1\u001b[0m \u001b[43mdf_principal\u001b[49m\u001b[43m[\u001b[49m\u001b[38;5;124;43m'\u001b[39;49m\u001b[38;5;124;43mRegion\u001b[39;49m\u001b[38;5;124;43m'\u001b[39;49m\u001b[43m]\u001b[49m \u001b[38;5;241m=\u001b[39m list_regions\n\u001b[1;32m      2\u001b[0m df_principal\u001b[38;5;241m.\u001b[39mhead(\u001b[38;5;241m5\u001b[39m)\n",
      "File \u001b[0;32m/usr/local/lib/python3.10/site-packages/pandas/core/frame.py:3980\u001b[0m, in \u001b[0;36mDataFrame.__setitem__\u001b[0;34m(self, key, value)\u001b[0m\n\u001b[1;32m   3977\u001b[0m     \u001b[38;5;28mself\u001b[39m\u001b[38;5;241m.\u001b[39m_setitem_array([key], value)\n\u001b[1;32m   3978\u001b[0m \u001b[38;5;28;01melse\u001b[39;00m:\n\u001b[1;32m   3979\u001b[0m     \u001b[38;5;66;03m# set column\u001b[39;00m\n\u001b[0;32m-> 3980\u001b[0m     \u001b[38;5;28;43mself\u001b[39;49m\u001b[38;5;241;43m.\u001b[39;49m\u001b[43m_set_item\u001b[49m\u001b[43m(\u001b[49m\u001b[43mkey\u001b[49m\u001b[43m,\u001b[49m\u001b[43m \u001b[49m\u001b[43mvalue\u001b[49m\u001b[43m)\u001b[49m\n",
      "File \u001b[0;32m/usr/local/lib/python3.10/site-packages/pandas/core/frame.py:4174\u001b[0m, in \u001b[0;36mDataFrame._set_item\u001b[0;34m(self, key, value)\u001b[0m\n\u001b[1;32m   4164\u001b[0m \u001b[38;5;28;01mdef\u001b[39;00m \u001b[38;5;21m_set_item\u001b[39m(\u001b[38;5;28mself\u001b[39m, key, value) \u001b[38;5;241m-\u001b[39m\u001b[38;5;241m>\u001b[39m \u001b[38;5;28;01mNone\u001b[39;00m:\n\u001b[1;32m   4165\u001b[0m \u001b[38;5;250m    \u001b[39m\u001b[38;5;124;03m\"\"\"\u001b[39;00m\n\u001b[1;32m   4166\u001b[0m \u001b[38;5;124;03m    Add series to DataFrame in specified column.\u001b[39;00m\n\u001b[1;32m   4167\u001b[0m \n\u001b[0;32m   (...)\u001b[0m\n\u001b[1;32m   4172\u001b[0m \u001b[38;5;124;03m    ensure homogeneity.\u001b[39;00m\n\u001b[1;32m   4173\u001b[0m \u001b[38;5;124;03m    \"\"\"\u001b[39;00m\n\u001b[0;32m-> 4174\u001b[0m     value \u001b[38;5;241m=\u001b[39m \u001b[38;5;28;43mself\u001b[39;49m\u001b[38;5;241;43m.\u001b[39;49m\u001b[43m_sanitize_column\u001b[49m\u001b[43m(\u001b[49m\u001b[43mvalue\u001b[49m\u001b[43m)\u001b[49m\n\u001b[1;32m   4176\u001b[0m     \u001b[38;5;28;01mif\u001b[39;00m (\n\u001b[1;32m   4177\u001b[0m         key \u001b[38;5;129;01min\u001b[39;00m \u001b[38;5;28mself\u001b[39m\u001b[38;5;241m.\u001b[39mcolumns\n\u001b[1;32m   4178\u001b[0m         \u001b[38;5;129;01mand\u001b[39;00m value\u001b[38;5;241m.\u001b[39mndim \u001b[38;5;241m==\u001b[39m \u001b[38;5;241m1\u001b[39m\n\u001b[1;32m   4179\u001b[0m         \u001b[38;5;129;01mand\u001b[39;00m \u001b[38;5;129;01mnot\u001b[39;00m is_extension_array_dtype(value)\n\u001b[1;32m   4180\u001b[0m     ):\n\u001b[1;32m   4181\u001b[0m         \u001b[38;5;66;03m# broadcast across multiple columns if necessary\u001b[39;00m\n\u001b[1;32m   4182\u001b[0m         \u001b[38;5;28;01mif\u001b[39;00m \u001b[38;5;129;01mnot\u001b[39;00m \u001b[38;5;28mself\u001b[39m\u001b[38;5;241m.\u001b[39mcolumns\u001b[38;5;241m.\u001b[39mis_unique \u001b[38;5;129;01mor\u001b[39;00m \u001b[38;5;28misinstance\u001b[39m(\u001b[38;5;28mself\u001b[39m\u001b[38;5;241m.\u001b[39mcolumns, MultiIndex):\n",
      "File \u001b[0;32m/usr/local/lib/python3.10/site-packages/pandas/core/frame.py:4915\u001b[0m, in \u001b[0;36mDataFrame._sanitize_column\u001b[0;34m(self, value)\u001b[0m\n\u001b[1;32m   4912\u001b[0m     \u001b[38;5;28;01mreturn\u001b[39;00m _reindex_for_setitem(Series(value), \u001b[38;5;28mself\u001b[39m\u001b[38;5;241m.\u001b[39mindex)\n\u001b[1;32m   4914\u001b[0m \u001b[38;5;28;01mif\u001b[39;00m is_list_like(value):\n\u001b[0;32m-> 4915\u001b[0m     \u001b[43mcom\u001b[49m\u001b[38;5;241;43m.\u001b[39;49m\u001b[43mrequire_length_match\u001b[49m\u001b[43m(\u001b[49m\u001b[43mvalue\u001b[49m\u001b[43m,\u001b[49m\u001b[43m \u001b[49m\u001b[38;5;28;43mself\u001b[39;49m\u001b[38;5;241;43m.\u001b[39;49m\u001b[43mindex\u001b[49m\u001b[43m)\u001b[49m\n\u001b[1;32m   4916\u001b[0m \u001b[38;5;28;01mreturn\u001b[39;00m sanitize_array(value, \u001b[38;5;28mself\u001b[39m\u001b[38;5;241m.\u001b[39mindex, copy\u001b[38;5;241m=\u001b[39m\u001b[38;5;28;01mTrue\u001b[39;00m, allow_2d\u001b[38;5;241m=\u001b[39m\u001b[38;5;28;01mTrue\u001b[39;00m)\n",
      "File \u001b[0;32m/usr/local/lib/python3.10/site-packages/pandas/core/common.py:571\u001b[0m, in \u001b[0;36mrequire_length_match\u001b[0;34m(data, index)\u001b[0m\n\u001b[1;32m    567\u001b[0m \u001b[38;5;250m\u001b[39m\u001b[38;5;124;03m\"\"\"\u001b[39;00m\n\u001b[1;32m    568\u001b[0m \u001b[38;5;124;03mCheck the length of data matches the length of the index.\u001b[39;00m\n\u001b[1;32m    569\u001b[0m \u001b[38;5;124;03m\"\"\"\u001b[39;00m\n\u001b[1;32m    570\u001b[0m \u001b[38;5;28;01mif\u001b[39;00m \u001b[38;5;28mlen\u001b[39m(data) \u001b[38;5;241m!=\u001b[39m \u001b[38;5;28mlen\u001b[39m(index):\n\u001b[0;32m--> 571\u001b[0m     \u001b[38;5;28;01mraise\u001b[39;00m \u001b[38;5;167;01mValueError\u001b[39;00m(\n\u001b[1;32m    572\u001b[0m         \u001b[38;5;124m\"\u001b[39m\u001b[38;5;124mLength of values \u001b[39m\u001b[38;5;124m\"\u001b[39m\n\u001b[1;32m    573\u001b[0m         \u001b[38;5;124mf\u001b[39m\u001b[38;5;124m\"\u001b[39m\u001b[38;5;124m(\u001b[39m\u001b[38;5;132;01m{\u001b[39;00m\u001b[38;5;28mlen\u001b[39m(data)\u001b[38;5;132;01m}\u001b[39;00m\u001b[38;5;124m) \u001b[39m\u001b[38;5;124m\"\u001b[39m\n\u001b[1;32m    574\u001b[0m         \u001b[38;5;124m\"\u001b[39m\u001b[38;5;124mdoes not match length of index \u001b[39m\u001b[38;5;124m\"\u001b[39m\n\u001b[1;32m    575\u001b[0m         \u001b[38;5;124mf\u001b[39m\u001b[38;5;124m\"\u001b[39m\u001b[38;5;124m(\u001b[39m\u001b[38;5;132;01m{\u001b[39;00m\u001b[38;5;28mlen\u001b[39m(index)\u001b[38;5;132;01m}\u001b[39;00m\u001b[38;5;124m)\u001b[39m\u001b[38;5;124m\"\u001b[39m\n\u001b[1;32m    576\u001b[0m     )\n",
      "\u001b[0;31mValueError\u001b[0m: Length of values (250) does not match length of index (299)"
     ]
    }
   ],
   "source": [
    "df_principal['Region'] = list_regions\n",
    "df_principal.head(5)"
   ]
  },
  {
   "cell_type": "code",
   "execution_count": null,
   "metadata": {},
   "outputs": [],
   "source": []
  }
 ],
 "metadata": {
  "kernelspec": {
   "display_name": "Python 3 (ipykernel)",
   "language": "python",
   "name": "python3"
  },
  "language_info": {
   "codemirror_mode": {
    "name": "ipython",
    "version": 3
   },
   "file_extension": ".py",
   "mimetype": "text/x-python",
   "name": "python",
   "nbconvert_exporter": "python",
   "pygments_lexer": "ipython3",
   "version": "3.10.10"
  }
 },
 "nbformat": 4,
 "nbformat_minor": 4
}
