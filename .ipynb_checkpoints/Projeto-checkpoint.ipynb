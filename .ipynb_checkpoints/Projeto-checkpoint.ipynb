{
 "cells": [
  {
   "cell_type": "markdown",
   "metadata": {},
   "source": [
    "\n",
    "## Projeto | Construido uma rede com jogos da Steam 🎮️\n",
    "\n",
    "    \n",
    "---------------------\n",
    "\n",
    "**Equipe**\n",
    "\n",
    "\n",
    " * Letícia Coêlho Barbosa       | [Github](https://github.com/leticiacb1)\n",
    " <br>\n",
    "\n",
    " * Lídia Alves Chagas Domingos  | [Github](https://github.com/LidiaDomingos)\n",
    " <br>\n",
    "\n",
    " * Lorran Caetano Lopes         | [Github](https://github.com/lorrancmlopes)\n",
    " <br>\n",
    " \n",
    " ---------------------\n",
    "\n",
    "* **Dataset escolhido** : [Jogos da Steam](https://www.kaggle.com/datasets/fronkongames/steam-games-dataset)\n",
    "  \n",
    "  \n",
    "  [Clique aqui](https://www.kaggle.com/datasets/fronkongames/steam-games-dataset) para baixar\n",
    "\n",
    "<br>\n",
    "\n",
    "* **Dataset auxiliar** : [Total Revenue Empresas com Países  | Baixe AQUI](https://drive.google.com/file/d/1DUGhWPNJdPr30eo1oCH9RUPlG_FMHr3L/view?usp=sharin)\n",
    "\n",
    "  [Clique aqui](https://vginsights.com/publishers-database) para visualizar original"
   ]
  },
  {
   "cell_type": "markdown",
   "metadata": {},
   "source": [
    "### O DATASET ESCOLHIDO\n",
    "\n",
    "-------\n",
    "\n",
    "O contexto do projeto engloba os jogos famosos para computadores disponíveis na Steam. Atualmente, a plataforma Steam possui aproximadamente 95 milhões de usuários no mundo todo e é sucesso entre os gamers, sendo a atual líder do mercado. \n",
    "\n",
    "\n",
    "#### Principais colunas\n",
    "<br>\n",
    "\n",
    "O dataset escolhido possui 39 colunas, nesse tópico citaremos a descrições de algumas colunas de maior interesse para analise.\n",
    "\n",
    "* **name** : nome do jogo.\n",
    "<br>\n",
    "\n",
    "* **releaseDate** : data de lançamento.\n",
    "<br>\n",
    "\n",
    "* **price** : preço do jogo.\n",
    "<br>\n",
    "\n",
    "* **metacritic_score** : media das notas dadas por avaliações de profissionais.\n",
    "<br>\n",
    "\n",
    "* **user_score** : media das notas dadas pelos usuários do jogo.\n",
    "<br>\n",
    "\n",
    "* **score_rank** : o ranke do jogo baseado nas avaliações dos usuários.\n",
    "<br>\n",
    "\n",
    "* **developers** : desenvolvedores dos jogos.\n",
    "<br>\n",
    "\n",
    "* **categories** : categoria dos jogos.\n",
    "<br>\n",
    "\n",
    "* **genres** : genero do jogo.\n",
    "<br>\n",
    "\n",
    "* **tags** : Tags do jogo.\n",
    "<br>\n",
    "\n",
    " \n",
    " ### NOSSA REDE\n",
    "\n",
    "-------\n",
    "\n",
    "* **Vértices** : Jogos da Steam.\n",
    "<br>\n",
    "\n",
    "* **Arestas**  : Existe uma aresta entre um jogo 1 e um jogo 2 se o número de tags em comum entre os jogos for superior ou igual a um **threadhold** (definido mais a frente)\n",
    "\n",
    "\n",
    " ### HIPOTESE\n",
    "\n",
    "-------\n",
    "\n",
    "\n",
    "`\"Quanto mais central é a sua posição na rede, maior a média de avaliações dos críticos profissionais.\"`\n",
    "<br>\n",
    "\n",
    "* **Variável de controle**: Tamanho da empresa.\n",
    "<br>\n",
    "\n",
    "* **Variável dependente**:  medida indicativa de centralidade do nó na rede (coreness).\n",
    "<br>\n",
    "\n",
    "* **Variável independente**: dataset[Metacritic score]\n",
    "\n",
    "\n",
    "\n",
    " ### MODELO\n",
    "\n",
    "-------\n",
    "\n",
    "` Metacrit Score ~ (Posição na Rede) + (Tamanho da Empresa) + (Ano de Lançamento) `"
   ]
  },
  {
   "cell_type": "markdown",
   "metadata": {},
   "source": [
    "### ANALISANDO OS DADOS \n",
    "\n",
    "-------"
   ]
  },
  {
   "cell_type": "code",
   "execution_count": 100,
   "metadata": {},
   "outputs": [],
   "source": [
    "# ---------------------------------\n",
    "# ------------ IMPORTS ------------\n",
    "# ---------------------------------\n",
    "\n",
    "import seaborn as sns\n",
    "from netpixi.integration.gt import *\n",
    "from regression.integration.gt import *\n",
    "import netpixi\n",
    "import pandas as pd\n",
    "\n",
    "import numpy as np\n",
    "import seaborn as sns\n",
    "import regression as reg\n",
    "\n",
    "from scipy import stats\n",
    "from matplotlib import pyplot as plt\n",
    "\n",
    "import cpnet\n",
    "from graph_tool import spectral"
   ]
  },
  {
   "cell_type": "code",
   "execution_count": 101,
   "metadata": {},
   "outputs": [],
   "source": [
    "# Grafo não direcional | Informação obtida via documentação\n",
    "g = Graph(directed=False) "
   ]
  },
  {
   "cell_type": "code",
   "execution_count": 102,
   "metadata": {
    "scrolled": false
   },
   "outputs": [
    {
     "name": "stdout",
     "output_type": "stream",
     "text": [
      "\n",
      "> Colunas : ['AppID', 'Name', 'Release date', 'Estimated owners', 'Peak CCU', 'Required age', 'Price', 'DLC count', 'About the game', 'Supported languages', 'Full audio languages', 'Reviews', 'Header image', 'Website', 'Support url', 'Support email', 'Windows', 'Mac', 'Linux', 'Metacritic score', 'Metacritic url', 'User score', 'Positive', 'Negative', 'Score rank', 'Achievements', 'Recommendations', 'Notes', 'Average playtime forever', 'Average playtime two weeks', 'Median playtime forever', 'Median playtime two weeks', 'Developers', 'Publishers', 'Categories', 'Genres', 'Tags', 'Screenshots', 'Movies']\n",
      "\n",
      "\n",
      "> Tamanho do dataset : (71716, 39)\n",
      "\n",
      "\n",
      "> Primeiras linhas dataset : \n",
      "\n"
     ]
    },
    {
     "data": {
      "text/html": [
       "<div>\n",
       "<style scoped>\n",
       "    .dataframe tbody tr th:only-of-type {\n",
       "        vertical-align: middle;\n",
       "    }\n",
       "\n",
       "    .dataframe tbody tr th {\n",
       "        vertical-align: top;\n",
       "    }\n",
       "\n",
       "    .dataframe thead th {\n",
       "        text-align: right;\n",
       "    }\n",
       "</style>\n",
       "<table border=\"1\" class=\"dataframe\">\n",
       "  <thead>\n",
       "    <tr style=\"text-align: right;\">\n",
       "      <th></th>\n",
       "      <th>AppID</th>\n",
       "      <th>Name</th>\n",
       "      <th>Release date</th>\n",
       "      <th>Estimated owners</th>\n",
       "      <th>Peak CCU</th>\n",
       "      <th>Required age</th>\n",
       "      <th>Price</th>\n",
       "      <th>DLC count</th>\n",
       "      <th>About the game</th>\n",
       "      <th>Supported languages</th>\n",
       "      <th>...</th>\n",
       "      <th>Average playtime two weeks</th>\n",
       "      <th>Median playtime forever</th>\n",
       "      <th>Median playtime two weeks</th>\n",
       "      <th>Developers</th>\n",
       "      <th>Publishers</th>\n",
       "      <th>Categories</th>\n",
       "      <th>Genres</th>\n",
       "      <th>Tags</th>\n",
       "      <th>Screenshots</th>\n",
       "      <th>Movies</th>\n",
       "    </tr>\n",
       "  </thead>\n",
       "  <tbody>\n",
       "    <tr>\n",
       "      <th>0</th>\n",
       "      <td>20200</td>\n",
       "      <td>Galactic Bowling</td>\n",
       "      <td>Oct 21, 2008</td>\n",
       "      <td>0 - 20000</td>\n",
       "      <td>0</td>\n",
       "      <td>0</td>\n",
       "      <td>19.99</td>\n",
       "      <td>0</td>\n",
       "      <td>Galactic Bowling is an exaggerated and stylize...</td>\n",
       "      <td>['English']</td>\n",
       "      <td>...</td>\n",
       "      <td>0</td>\n",
       "      <td>0</td>\n",
       "      <td>0</td>\n",
       "      <td>Perpetual FX Creative</td>\n",
       "      <td>Perpetual FX Creative</td>\n",
       "      <td>Single-player,Multi-player,Steam Achievements,...</td>\n",
       "      <td>Casual,Indie,Sports</td>\n",
       "      <td>Indie,Casual,Sports,Bowling</td>\n",
       "      <td>https://cdn.akamai.steamstatic.com/steam/apps/...</td>\n",
       "      <td>http://cdn.akamai.steamstatic.com/steam/apps/2...</td>\n",
       "    </tr>\n",
       "    <tr>\n",
       "      <th>1</th>\n",
       "      <td>655370</td>\n",
       "      <td>Train Bandit</td>\n",
       "      <td>Oct 12, 2017</td>\n",
       "      <td>0 - 20000</td>\n",
       "      <td>0</td>\n",
       "      <td>0</td>\n",
       "      <td>0.99</td>\n",
       "      <td>0</td>\n",
       "      <td>THE LAW!! Looks to be a showdown atop a train....</td>\n",
       "      <td>['English', 'French', 'Italian', 'German', 'Sp...</td>\n",
       "      <td>...</td>\n",
       "      <td>0</td>\n",
       "      <td>0</td>\n",
       "      <td>0</td>\n",
       "      <td>Rusty Moyher</td>\n",
       "      <td>Wild Rooster</td>\n",
       "      <td>Single-player,Steam Achievements,Full controll...</td>\n",
       "      <td>Action,Indie</td>\n",
       "      <td>Indie,Action,Pixel Graphics,2D,Retro,Arcade,Sc...</td>\n",
       "      <td>https://cdn.akamai.steamstatic.com/steam/apps/...</td>\n",
       "      <td>http://cdn.akamai.steamstatic.com/steam/apps/2...</td>\n",
       "    </tr>\n",
       "  </tbody>\n",
       "</table>\n",
       "<p>2 rows × 39 columns</p>\n",
       "</div>"
      ],
      "text/plain": [
       "    AppID              Name  Release date Estimated owners  Peak CCU  \\\n",
       "0   20200  Galactic Bowling  Oct 21, 2008        0 - 20000         0   \n",
       "1  655370      Train Bandit  Oct 12, 2017        0 - 20000         0   \n",
       "\n",
       "   Required age  Price  DLC count  \\\n",
       "0             0  19.99          0   \n",
       "1             0   0.99          0   \n",
       "\n",
       "                                      About the game  \\\n",
       "0  Galactic Bowling is an exaggerated and stylize...   \n",
       "1  THE LAW!! Looks to be a showdown atop a train....   \n",
       "\n",
       "                                 Supported languages  ...  \\\n",
       "0                                        ['English']  ...   \n",
       "1  ['English', 'French', 'Italian', 'German', 'Sp...  ...   \n",
       "\n",
       "  Average playtime two weeks Median playtime forever  \\\n",
       "0                          0                       0   \n",
       "1                          0                       0   \n",
       "\n",
       "  Median playtime two weeks             Developers             Publishers  \\\n",
       "0                         0  Perpetual FX Creative  Perpetual FX Creative   \n",
       "1                         0           Rusty Moyher           Wild Rooster   \n",
       "\n",
       "                                          Categories               Genres  \\\n",
       "0  Single-player,Multi-player,Steam Achievements,...  Casual,Indie,Sports   \n",
       "1  Single-player,Steam Achievements,Full controll...         Action,Indie   \n",
       "\n",
       "                                                Tags  \\\n",
       "0                        Indie,Casual,Sports,Bowling   \n",
       "1  Indie,Action,Pixel Graphics,2D,Retro,Arcade,Sc...   \n",
       "\n",
       "                                         Screenshots  \\\n",
       "0  https://cdn.akamai.steamstatic.com/steam/apps/...   \n",
       "1  https://cdn.akamai.steamstatic.com/steam/apps/...   \n",
       "\n",
       "                                              Movies  \n",
       "0  http://cdn.akamai.steamstatic.com/steam/apps/2...  \n",
       "1  http://cdn.akamai.steamstatic.com/steam/apps/2...  \n",
       "\n",
       "[2 rows x 39 columns]"
      ]
     },
     "execution_count": 102,
     "metadata": {},
     "output_type": "execute_result"
    }
   ],
   "source": [
    "# ----  Lendo o arquivo ----\n",
    "\n",
    "df_principal = pd.read_csv('games.csv')\n",
    "\n",
    "columns = [col for col in df_principal.columns]\n",
    "\n",
    "print(f\"\\n> Colunas : {columns}\\n\")\n",
    "\n",
    "print(f\"\\n> Tamanho do dataset : {df_principal.shape}\\n\")\n",
    "\n",
    "print(f\"\\n> Primeiras linhas dataset : \\n\")\n",
    "df_principal.head(2)"
   ]
  },
  {
   "cell_type": "markdown",
   "metadata": {},
   "source": [
    "\n",
    "\n",
    "#### Descrevendo melhor a coluna Metacritic score"
   ]
  },
  {
   "cell_type": "code",
   "execution_count": 103,
   "metadata": {},
   "outputs": [
    {
     "name": "stdout",
     "output_type": "stream",
     "text": [
      "\n",
      "> Valores únicos presentes:\n",
      "\n",
      " [ 0 62 64 53 84 89 70 86 40 87 92 76 51 49 81 69 72 68 52 82 59 77 79 71\n",
      " 74 73 88 47 75 66 50 63 67 80 58 90 39 78 55 85 65 91 83 57 56 44 60 61\n",
      " 48 46 23 45 94 27 38 30 35 54 41 43 32 34 93 37 36 95 42 29 24 96 20 33\n",
      " 97]\n",
      "\n",
      "\n",
      "> Distribuição dos valores :\n",
      "\n",
      " 0     67938\n",
      "80      183\n",
      "77      165\n",
      "76      164\n",
      "78      161\n",
      "      ...  \n",
      "23        1\n",
      "27        1\n",
      "24        1\n",
      "20        1\n",
      "33        1\n",
      "Name: Metacritic score, Length: 73, dtype: int64\n",
      "\n",
      "\n",
      "> Descrição:\n",
      "\n",
      "count    71716.000000\n",
      "mean         3.834207\n",
      "std         16.437707\n",
      "min          0.000000\n",
      "25%          0.000000\n",
      "50%          0.000000\n",
      "75%          0.000000\n",
      "max         97.000000\n",
      "Name: Metacritic score, dtype: float64\n",
      "\n"
     ]
    }
   ],
   "source": [
    "print(f\"\\n> Valores únicos presentes:\\n\\n {df_principal['Metacritic score'].unique()}\\n\")\n",
    "\n",
    "print(f\"\\n> Distribuição dos valores :\\n\\n {df_principal['Metacritic score'].value_counts()}\\n\")\n",
    "\n",
    "print(f\"\\n> Descrição:\\n\\n{df_principal['Metacritic score'].describe()}\\n\")"
   ]
  },
  {
   "cell_type": "markdown",
   "metadata": {},
   "source": [
    "### LIMPANDO DATASET\n",
    "\n",
    "-------"
   ]
  },
  {
   "cell_type": "code",
   "execution_count": 104,
   "metadata": {},
   "outputs": [
    {
     "name": "stdout",
     "output_type": "stream",
     "text": [
      "\n",
      "> Tamanho do dataset pós limpeza:\n",
      " (299, 40)\n",
      "\n",
      "\n",
      "> Descrição coluna Metacritic score:\n",
      "\n",
      " count    299.000000\n",
      "mean      76.963211\n",
      "std        7.544186\n",
      "min       48.000000\n",
      "25%       73.000000\n",
      "50%       78.000000\n",
      "75%       82.000000\n",
      "max       97.000000\n",
      "Name: Metacritic score, dtype: float64\n",
      "\n"
     ]
    }
   ],
   "source": [
    "# ---- Retirando alguns valores nulos ----\n",
    "\n",
    "df_principal.dropna(subset=['Tags', 'Metacritic score'], inplace=True)\n",
    "df_principal = df_principal[df_principal['Metacritic score'] != 0]\n",
    "\n",
    "\n",
    "# ---- AMOSTRAGEM para anos > 2019 e < 2023 ----\n",
    "\n",
    "df_principal = df_principal[ df_principal[\"Release date\"].map(lambda date: \n",
    "                                                              ((int(date.split(' ')[-1]) > 2020) and \n",
    "                                                               int(date.split(' ')[-1]) < 2023))== True]\n",
    "df_principal.reset_index(inplace=True, drop=True)\n",
    "\n",
    "# Adicionando coluna ReleaseYear\n",
    "df_principal[\"ReleaseYear\"] = df_principal[\"Release date\"].map(lambda date: (int(date.split(' ')[-1])))\n",
    "\n",
    "print(f\"\\n> Tamanho do dataset pós limpeza:\\n {df_principal.shape}\\n\")\n",
    "\n",
    "print(f\"\\n> Descrição coluna Metacritic score:\\n\\n {df_principal['Metacritic score'].describe()}\\n\")"
   ]
  },
  {
   "cell_type": "code",
   "execution_count": 105,
   "metadata": {},
   "outputs": [
    {
     "data": {
      "text/html": [
       "<div>\n",
       "<style scoped>\n",
       "    .dataframe tbody tr th:only-of-type {\n",
       "        vertical-align: middle;\n",
       "    }\n",
       "\n",
       "    .dataframe tbody tr th {\n",
       "        vertical-align: top;\n",
       "    }\n",
       "\n",
       "    .dataframe thead th {\n",
       "        text-align: right;\n",
       "    }\n",
       "</style>\n",
       "<table border=\"1\" class=\"dataframe\">\n",
       "  <thead>\n",
       "    <tr style=\"text-align: right;\">\n",
       "      <th></th>\n",
       "      <th>AppID</th>\n",
       "      <th>Name</th>\n",
       "      <th>Release date</th>\n",
       "      <th>Estimated owners</th>\n",
       "      <th>Peak CCU</th>\n",
       "      <th>Required age</th>\n",
       "      <th>Price</th>\n",
       "      <th>DLC count</th>\n",
       "      <th>About the game</th>\n",
       "      <th>Supported languages</th>\n",
       "      <th>...</th>\n",
       "      <th>Median playtime forever</th>\n",
       "      <th>Median playtime two weeks</th>\n",
       "      <th>Developers</th>\n",
       "      <th>Publishers</th>\n",
       "      <th>Categories</th>\n",
       "      <th>Genres</th>\n",
       "      <th>Tags</th>\n",
       "      <th>Screenshots</th>\n",
       "      <th>Movies</th>\n",
       "      <th>ReleaseYear</th>\n",
       "    </tr>\n",
       "  </thead>\n",
       "  <tbody>\n",
       "    <tr>\n",
       "      <th>0</th>\n",
       "      <td>1345820</td>\n",
       "      <td>Ragnarock</td>\n",
       "      <td>Jul 15, 2021</td>\n",
       "      <td>50000 - 100000</td>\n",
       "      <td>44</td>\n",
       "      <td>0</td>\n",
       "      <td>16.24</td>\n",
       "      <td>17</td>\n",
       "      <td>Are you ready to rock? Ragnarock is a solo/mul...</td>\n",
       "      <td>['English', 'French', 'Italian', 'German', 'Sp...</td>\n",
       "      <td>...</td>\n",
       "      <td>281</td>\n",
       "      <td>0</td>\n",
       "      <td>WanadevStudio</td>\n",
       "      <td>WanadevStudio</td>\n",
       "      <td>Single-player,Multi-player,PvP,Online PvP,Stea...</td>\n",
       "      <td>Casual,Indie,Racing,Sports</td>\n",
       "      <td>Rhythm,VR,Multiplayer,Music,Racing,PvP,Casual,...</td>\n",
       "      <td>https://cdn.akamai.steamstatic.com/steam/apps/...</td>\n",
       "      <td>http://cdn.akamai.steamstatic.com/steam/apps/2...</td>\n",
       "      <td>2021</td>\n",
       "    </tr>\n",
       "    <tr>\n",
       "      <th>1</th>\n",
       "      <td>821880</td>\n",
       "      <td>Idol Manager</td>\n",
       "      <td>Jul 26, 2021</td>\n",
       "      <td>100000 - 200000</td>\n",
       "      <td>102</td>\n",
       "      <td>0</td>\n",
       "      <td>19.99</td>\n",
       "      <td>0</td>\n",
       "      <td>You take on the role of manager at a small (bu...</td>\n",
       "      <td>['English', 'Japanese', 'Russian', 'Simplified...</td>\n",
       "      <td>...</td>\n",
       "      <td>853</td>\n",
       "      <td>0</td>\n",
       "      <td>Glitch Pitch</td>\n",
       "      <td>PLAYISM</td>\n",
       "      <td>Single-player,Steam Achievements,Steam Worksho...</td>\n",
       "      <td>Indie,Simulation,Strategy</td>\n",
       "      <td>Management,Simulation,Anime,Sexual Content,Str...</td>\n",
       "      <td>https://cdn.akamai.steamstatic.com/steam/apps/...</td>\n",
       "      <td>http://cdn.akamai.steamstatic.com/steam/apps/2...</td>\n",
       "      <td>2021</td>\n",
       "    </tr>\n",
       "  </tbody>\n",
       "</table>\n",
       "<p>2 rows × 40 columns</p>\n",
       "</div>"
      ],
      "text/plain": [
       "     AppID          Name  Release date Estimated owners  Peak CCU  \\\n",
       "0  1345820     Ragnarock  Jul 15, 2021   50000 - 100000        44   \n",
       "1   821880  Idol Manager  Jul 26, 2021  100000 - 200000       102   \n",
       "\n",
       "   Required age  Price  DLC count  \\\n",
       "0             0  16.24         17   \n",
       "1             0  19.99          0   \n",
       "\n",
       "                                      About the game  \\\n",
       "0  Are you ready to rock? Ragnarock is a solo/mul...   \n",
       "1  You take on the role of manager at a small (bu...   \n",
       "\n",
       "                                 Supported languages  ...  \\\n",
       "0  ['English', 'French', 'Italian', 'German', 'Sp...  ...   \n",
       "1  ['English', 'Japanese', 'Russian', 'Simplified...  ...   \n",
       "\n",
       "  Median playtime forever Median playtime two weeks     Developers  \\\n",
       "0                     281                         0  WanadevStudio   \n",
       "1                     853                         0   Glitch Pitch   \n",
       "\n",
       "      Publishers                                         Categories  \\\n",
       "0  WanadevStudio  Single-player,Multi-player,PvP,Online PvP,Stea...   \n",
       "1        PLAYISM  Single-player,Steam Achievements,Steam Worksho...   \n",
       "\n",
       "                       Genres  \\\n",
       "0  Casual,Indie,Racing,Sports   \n",
       "1   Indie,Simulation,Strategy   \n",
       "\n",
       "                                                Tags  \\\n",
       "0  Rhythm,VR,Multiplayer,Music,Racing,PvP,Casual,...   \n",
       "1  Management,Simulation,Anime,Sexual Content,Str...   \n",
       "\n",
       "                                         Screenshots  \\\n",
       "0  https://cdn.akamai.steamstatic.com/steam/apps/...   \n",
       "1  https://cdn.akamai.steamstatic.com/steam/apps/...   \n",
       "\n",
       "                                              Movies  ReleaseYear  \n",
       "0  http://cdn.akamai.steamstatic.com/steam/apps/2...         2021  \n",
       "1  http://cdn.akamai.steamstatic.com/steam/apps/2...         2021  \n",
       "\n",
       "[2 rows x 40 columns]"
      ]
     },
     "execution_count": 105,
     "metadata": {},
     "output_type": "execute_result"
    }
   ],
   "source": [
    "df_principal.head(2)"
   ]
  },
  {
   "cell_type": "markdown",
   "metadata": {},
   "source": [
    "### ADICIONANDO DATASET AUXILIAR\n",
    "\n",
    "---"
   ]
  },
  {
   "cell_type": "code",
   "execution_count": 106,
   "metadata": {},
   "outputs": [
    {
     "data": {
      "text/html": [
       "<div>\n",
       "<style scoped>\n",
       "    .dataframe tbody tr th:only-of-type {\n",
       "        vertical-align: middle;\n",
       "    }\n",
       "\n",
       "    .dataframe tbody tr th {\n",
       "        vertical-align: top;\n",
       "    }\n",
       "\n",
       "    .dataframe thead th {\n",
       "        text-align: right;\n",
       "    }\n",
       "</style>\n",
       "<table border=\"1\" class=\"dataframe\">\n",
       "  <thead>\n",
       "    <tr style=\"text-align: right;\">\n",
       "      <th></th>\n",
       "      <th>Name</th>\n",
       "      <th>Total revenue</th>\n",
       "      <th>Country</th>\n",
       "    </tr>\n",
       "  </thead>\n",
       "  <tbody>\n",
       "    <tr>\n",
       "      <th>0</th>\n",
       "      <td>Ubisoft</td>\n",
       "      <td>2500000000.0</td>\n",
       "      <td>France</td>\n",
       "    </tr>\n",
       "    <tr>\n",
       "      <th>1</th>\n",
       "      <td>Valve</td>\n",
       "      <td>2400000000.0</td>\n",
       "      <td>United States</td>\n",
       "    </tr>\n",
       "    <tr>\n",
       "      <th>2</th>\n",
       "      <td>2K</td>\n",
       "      <td>2300000000.0</td>\n",
       "      <td>United States</td>\n",
       "    </tr>\n",
       "    <tr>\n",
       "      <th>3</th>\n",
       "      <td>Electronic Arts</td>\n",
       "      <td>2100000000.0</td>\n",
       "      <td>United States</td>\n",
       "    </tr>\n",
       "    <tr>\n",
       "      <th>4</th>\n",
       "      <td>SEGA</td>\n",
       "      <td>2100000000.0</td>\n",
       "      <td>Japan</td>\n",
       "    </tr>\n",
       "  </tbody>\n",
       "</table>\n",
       "</div>"
      ],
      "text/plain": [
       "              Name Total revenue        Country\n",
       "0          Ubisoft  2500000000.0         France\n",
       "1            Valve  2400000000.0  United States\n",
       "2               2K  2300000000.0  United States\n",
       "3  Electronic Arts  2100000000.0  United States\n",
       "4             SEGA  2100000000.0          Japan"
      ]
     },
     "execution_count": 106,
     "metadata": {},
     "output_type": "execute_result"
    }
   ],
   "source": [
    "df_total_revenue = pd.read_csv('total_revenue_and_country.csv')\n",
    "df_total_revenue = df_total_revenue.drop_duplicates()\n",
    "\n",
    "df_total_revenue.head()"
   ]
  },
  {
   "cell_type": "code",
   "execution_count": 107,
   "metadata": {},
   "outputs": [
    {
     "name": "stdout",
     "output_type": "stream",
     "text": [
      "Worldwalker Games LLC,WhisperGames\n",
      "Running With Scissors,Hyperstrange\n",
      "Mixed Realms Pte Ltd,Coconut Island Games\n",
      "Humble Games,WhisperGames\n",
      "Foreign Gnomes,Surefire.Games\n",
      "Digixart,Ravenscourt\n",
      "United Label,CI Games\n",
      "Merge Games,Maple Whispering Limited\n",
      "EXOR Studios,Surefire.Games\n",
      "META Publishing,Owlcat Games\n",
      "Modern Wolf,Fractale,WhisperGames\n",
      "FromSoftware Inc.,Bandai Namco Entertainment\n",
      "Games Operators,Modus Games\n",
      "Assemble Entertainment,WhisperGames,Mayflower Entertainment\n",
      "DANGEN Entertainment,Gamera Games,Intragames\n",
      "SEGA,Feral Interactive\n",
      "Fishing Cactus,PID Games,2PGames\n",
      "Sneaky Yak Studio,WhisperGames\n",
      "Movie Games S.A.,HeartBeat Games\n",
      "XSEED Games,Marvelous USA, Inc.,Marvelous\n",
      "Canada Media Fund,Ontario Creates,The Games Institute\n",
      "JanduSoft,Game Seer Ventures\n",
      "M-Theory,Oddboy\n",
      "Ravenscourt,Maple Whispering Limited\n",
      "Warner Bros. Games,Warner Bros. Interactive Entertainment\n",
      "Future Friends Games,StudioInkyfox\n",
      "Whitethorn Games,Gamious\n",
      "Rose City Games,wiip\n",
      "Freedom Games,Maple Whispering Limited\n",
      "Maze Theory,Another Indie\n",
      "Whitethorn Games,WhisperGames\n",
      "HypeTrain Digital,RedRuins Softworks\n"
     ]
    }
   ],
   "source": [
    "ausentes = []\n",
    "presentes = []\n",
    "\n",
    "# Verificando se cada valor da coluna do df1 está presente no df2\n",
    "for publi in df_principal['Publishers'].tolist():\n",
    "    if publi.lower() not in [name.lower() for name in df_total_revenue[\"Name\"].tolist()]:\n",
    "        if publi.lower() not in [name.lower() for name in ausentes]:\n",
    "            print(publi)\n",
    "            ausentes.append(publi)\n",
    "    else:\n",
    "        if publi.lower() not in [name.lower() for name in presentes]:\n",
    "            presentes.append(publi)   "
   ]
  },
  {
   "cell_type": "markdown",
   "metadata": {},
   "source": [
    "#### Vamos considerar que, quando há mais de um publisher por jogo, o valor a ser inserido na nova coluna \"Total revenue\" será a soma do total revenue de cada publisher."
   ]
  },
  {
   "cell_type": "code",
   "execution_count": 108,
   "metadata": {},
   "outputs": [
    {
     "data": {
      "text/html": [
       "<div>\n",
       "<style scoped>\n",
       "    .dataframe tbody tr th:only-of-type {\n",
       "        vertical-align: middle;\n",
       "    }\n",
       "\n",
       "    .dataframe tbody tr th {\n",
       "        vertical-align: top;\n",
       "    }\n",
       "\n",
       "    .dataframe thead th {\n",
       "        text-align: right;\n",
       "    }\n",
       "</style>\n",
       "<table border=\"1\" class=\"dataframe\">\n",
       "  <thead>\n",
       "    <tr style=\"text-align: right;\">\n",
       "      <th></th>\n",
       "      <th>Name</th>\n",
       "      <th>Total revenue</th>\n",
       "      <th>Country</th>\n",
       "    </tr>\n",
       "  </thead>\n",
       "  <tbody>\n",
       "    <tr>\n",
       "      <th>0</th>\n",
       "      <td>Ubisoft</td>\n",
       "      <td>2500000000.0</td>\n",
       "      <td>France</td>\n",
       "    </tr>\n",
       "    <tr>\n",
       "      <th>1</th>\n",
       "      <td>Valve</td>\n",
       "      <td>2400000000.0</td>\n",
       "      <td>United States</td>\n",
       "    </tr>\n",
       "  </tbody>\n",
       "</table>\n",
       "</div>"
      ],
      "text/plain": [
       "      Name Total revenue        Country\n",
       "0  Ubisoft  2500000000.0         France\n",
       "1    Valve  2400000000.0  United States"
      ]
     },
     "execution_count": 108,
     "metadata": {},
     "output_type": "execute_result"
    }
   ],
   "source": [
    "df_total_revenue.head(2)"
   ]
  },
  {
   "cell_type": "code",
   "execution_count": 110,
   "metadata": {},
   "outputs": [],
   "source": [
    "# Verificar se cada valor da coluna 'Publishers' do df_principal está presente no df_total_revenue\n",
    "for index, row in df_principal.iterrows():\n",
    "    publishers = row['Publishers']\n",
    "    total_revenue = 0\n",
    "    countries = []\n",
    "    \n",
    "    # Verificar se o valor de 'publishers' está presente na coluna 'Name' do df_total_revenue\n",
    "    for name in publishers.split(','):\n",
    "        mask = df_total_revenue['Name'].str.lower() == name.lower().strip()\n",
    "        revenue = df_total_revenue.loc[mask, 'Total revenue']\n",
    "        \n",
    "        # Converter os valores de 'revenue' para o tipo numérico\n",
    "        revenue = pd.to_numeric(revenue, errors='coerce')\n",
    "        revenue = revenue.sum()\n",
    "        total_revenue += revenue\n",
    "        \n",
    "        #Casos com virgula no nome\n",
    "        if (name == \"CAPCOM Co.\" or name == \"KRAFTON\" or name == \"KOEI TECMO GAMES CO.\" or name == \"GameTomo Co.\" or name ==\"Ocean Drive Studio\") and (len(publishers.split(','))==2):\n",
    "            mask = df_total_revenue['Name'].str.lower() == publishers.lower().strip()\n",
    "            country = ', '.join(df_total_revenue.loc[mask, 'Country'])\n",
    "            countries.append(country)\n",
    "            break\n",
    "            \n",
    "        country = ', '.join(df_total_revenue.loc[mask, 'Country'])\n",
    "        countries.append(country)\n",
    "\n",
    "    # Inserir o valor total de receita na coluna 'Total revenue' do df_principal\n",
    "    df_principal.at[index, 'Total revenue'] = total_revenue\n",
    "    \n",
    "    # Inserir a string de países no df_principal\n",
    "    df_principal.at[index, 'Country'] = ', '.join(countries)"
   ]
  },
  {
   "cell_type": "markdown",
   "metadata": {},
   "source": [
    "#### Fazendo uma verificação com um caso que tem 2 publishers\n",
    "* `Considerações` : Para o caso em que temos 2 ou mais publishers , o Total revenue foi calculado com a soma do revenue individual desses publishers."
   ]
  },
  {
   "cell_type": "code",
   "execution_count": 111,
   "metadata": {},
   "outputs": [
    {
     "data": {
      "text/plain": [
       "35200000.0"
      ]
     },
     "execution_count": 111,
     "metadata": {},
     "output_type": "execute_result"
    }
   ],
   "source": [
    "df_principal.iloc[8][\"Total revenue\"]"
   ]
  },
  {
   "cell_type": "code",
   "execution_count": 112,
   "metadata": {},
   "outputs": [
    {
     "data": {
      "text/html": [
       "<div>\n",
       "<style scoped>\n",
       "    .dataframe tbody tr th:only-of-type {\n",
       "        vertical-align: middle;\n",
       "    }\n",
       "\n",
       "    .dataframe tbody tr th {\n",
       "        vertical-align: top;\n",
       "    }\n",
       "\n",
       "    .dataframe thead th {\n",
       "        text-align: right;\n",
       "    }\n",
       "</style>\n",
       "<table border=\"1\" class=\"dataframe\">\n",
       "  <thead>\n",
       "    <tr style=\"text-align: right;\">\n",
       "      <th></th>\n",
       "      <th>Name</th>\n",
       "      <th>Total revenue</th>\n",
       "      <th>Country</th>\n",
       "    </tr>\n",
       "  </thead>\n",
       "  <tbody>\n",
       "    <tr>\n",
       "      <th>265</th>\n",
       "      <td>Hyperstrange</td>\n",
       "      <td>6300000.0</td>\n",
       "      <td>Poland</td>\n",
       "    </tr>\n",
       "  </tbody>\n",
       "</table>\n",
       "</div>"
      ],
      "text/plain": [
       "             Name Total revenue Country\n",
       "265  Hyperstrange     6300000.0  Poland"
      ]
     },
     "execution_count": 112,
     "metadata": {},
     "output_type": "execute_result"
    }
   ],
   "source": [
    "df_total_revenue.loc[df_total_revenue[\"Name\"]==\"Hyperstrange\"]"
   ]
  },
  {
   "cell_type": "code",
   "execution_count": 113,
   "metadata": {},
   "outputs": [
    {
     "data": {
      "text/html": [
       "<div>\n",
       "<style scoped>\n",
       "    .dataframe tbody tr th:only-of-type {\n",
       "        vertical-align: middle;\n",
       "    }\n",
       "\n",
       "    .dataframe tbody tr th {\n",
       "        vertical-align: top;\n",
       "    }\n",
       "\n",
       "    .dataframe thead th {\n",
       "        text-align: right;\n",
       "    }\n",
       "</style>\n",
       "<table border=\"1\" class=\"dataframe\">\n",
       "  <thead>\n",
       "    <tr style=\"text-align: right;\">\n",
       "      <th></th>\n",
       "      <th>Name</th>\n",
       "      <th>Total revenue</th>\n",
       "      <th>Country</th>\n",
       "    </tr>\n",
       "  </thead>\n",
       "  <tbody>\n",
       "    <tr>\n",
       "      <th>210</th>\n",
       "      <td>Running With Scissors</td>\n",
       "      <td>28900000.0</td>\n",
       "      <td>United States</td>\n",
       "    </tr>\n",
       "  </tbody>\n",
       "</table>\n",
       "</div>"
      ],
      "text/plain": [
       "                      Name Total revenue        Country\n",
       "210  Running With Scissors    28900000.0  United States"
      ]
     },
     "execution_count": 113,
     "metadata": {},
     "output_type": "execute_result"
    }
   ],
   "source": [
    "df_total_revenue.loc[df_total_revenue[\"Name\"]==\"Running With Scissors\"]"
   ]
  },
  {
   "cell_type": "code",
   "execution_count": 114,
   "metadata": {},
   "outputs": [
    {
     "data": {
      "text/plain": [
       "35200000.0"
      ]
     },
     "execution_count": 114,
     "metadata": {},
     "output_type": "execute_result"
    }
   ],
   "source": [
    "(6300000.0+28900000.0)"
   ]
  },
  {
   "cell_type": "code",
   "execution_count": 115,
   "metadata": {},
   "outputs": [
    {
     "data": {
      "text/plain": [
       "'United States, Poland'"
      ]
     },
     "execution_count": 115,
     "metadata": {},
     "output_type": "execute_result"
    }
   ],
   "source": [
    "df_principal.iloc[8][\"Country\"]"
   ]
  },
  {
   "cell_type": "markdown",
   "metadata": {},
   "source": [
    "### Tags\n",
    "\n",
    "-------"
   ]
  },
  {
   "cell_type": "code",
   "execution_count": 116,
   "metadata": {},
   "outputs": [
    {
     "name": "stdout",
     "output_type": "stream",
     "text": [
      "\n",
      "> dataset[Tags] como lista:\n",
      "\n",
      "0      [Rhythm, VR, Multiplayer, Music, Racing, PvP, ...\n",
      "1      [Management, Simulation, Anime, Sexual Content...\n",
      "2      [Casual, Simulation, Strategy, Indie, Manageme...\n",
      "3      [Puzzle, Difficult, Indie, Singleplayer, Sokob...\n",
      "4      [RPG, Choices Matter, Story Rich, Detective, T...\n",
      "                             ...                        \n",
      "294    [Strategy, Post-apocalyptic, Survival, Colony ...\n",
      "295    [Atmospheric, Resource Management, Simulation,...\n",
      "296    [Metroidvania, Female Protagonist, Shoot 'Em U...\n",
      "297    [Colony Sim, Indie, Pixel Graphics, Simulation...\n",
      "298    [Indie, Rhythm, Action, Hand-drawn, Colorful, ...\n",
      "Name: Tags, Length: 299, dtype: object\n"
     ]
    }
   ],
   "source": [
    "# ---- Tranforma a coluna de Tags em lista ----\n",
    "\n",
    "df_principal['Tags'] = df_principal.Tags.apply(lambda x: str(x).split(','))\n",
    "print(f\"\\n> dataset[Tags] como lista:\\n\\n{df_principal['Tags']}\")\n"
   ]
  },
  {
   "cell_type": "markdown",
   "metadata": {},
   "source": [
    "### Montando os Nós da Rede\n",
    "\n",
    "-------"
   ]
  },
  {
   "cell_type": "code",
   "execution_count": 117,
   "metadata": {},
   "outputs": [
    {
     "data": {
      "text/html": [
       "<div>\n",
       "<style scoped>\n",
       "    .dataframe tbody tr th:only-of-type {\n",
       "        vertical-align: middle;\n",
       "    }\n",
       "\n",
       "    .dataframe tbody tr th {\n",
       "        vertical-align: top;\n",
       "    }\n",
       "\n",
       "    .dataframe thead th {\n",
       "        text-align: right;\n",
       "    }\n",
       "</style>\n",
       "<table border=\"1\" class=\"dataframe\">\n",
       "  <thead>\n",
       "    <tr style=\"text-align: right;\">\n",
       "      <th></th>\n",
       "      <th>id</th>\n",
       "      <th>Tags</th>\n",
       "      <th>MetacriticScore</th>\n",
       "      <th>Publishers</th>\n",
       "      <th>TotalRevenue</th>\n",
       "      <th>ReleaseYear</th>\n",
       "      <th>Country</th>\n",
       "    </tr>\n",
       "  </thead>\n",
       "  <tbody>\n",
       "    <tr>\n",
       "      <th>0</th>\n",
       "      <td>0</td>\n",
       "      <td>[Rhythm, VR, Multiplayer, Music, Racing, PvP, ...</td>\n",
       "      <td>87</td>\n",
       "      <td>WanadevStudio</td>\n",
       "      <td>1200000.0</td>\n",
       "      <td>2021</td>\n",
       "      <td>France</td>\n",
       "    </tr>\n",
       "    <tr>\n",
       "      <th>1</th>\n",
       "      <td>1</td>\n",
       "      <td>[Management, Simulation, Anime, Sexual Content...</td>\n",
       "      <td>73</td>\n",
       "      <td>PLAYISM</td>\n",
       "      <td>58600000.0</td>\n",
       "      <td>2021</td>\n",
       "      <td>Japan</td>\n",
       "    </tr>\n",
       "    <tr>\n",
       "      <th>2</th>\n",
       "      <td>2</td>\n",
       "      <td>[Casual, Simulation, Strategy, Indie, Manageme...</td>\n",
       "      <td>87</td>\n",
       "      <td>Dinosaur Polo Club</td>\n",
       "      <td>9100000.0</td>\n",
       "      <td>2021</td>\n",
       "      <td>New Zealand</td>\n",
       "    </tr>\n",
       "    <tr>\n",
       "      <th>3</th>\n",
       "      <td>3</td>\n",
       "      <td>[Puzzle, Difficult, Indie, Singleplayer, Sokob...</td>\n",
       "      <td>76</td>\n",
       "      <td>Mischka Kamener</td>\n",
       "      <td>0.0</td>\n",
       "      <td>2021</td>\n",
       "      <td>Australia</td>\n",
       "    </tr>\n",
       "    <tr>\n",
       "      <th>4</th>\n",
       "      <td>4</td>\n",
       "      <td>[RPG, Choices Matter, Story Rich, Detective, T...</td>\n",
       "      <td>67</td>\n",
       "      <td>Fireshine Games</td>\n",
       "      <td>26400000.0</td>\n",
       "      <td>2021</td>\n",
       "      <td>United Kingdom</td>\n",
       "    </tr>\n",
       "    <tr>\n",
       "      <th>...</th>\n",
       "      <td>...</td>\n",
       "      <td>...</td>\n",
       "      <td>...</td>\n",
       "      <td>...</td>\n",
       "      <td>...</td>\n",
       "      <td>...</td>\n",
       "      <td>...</td>\n",
       "    </tr>\n",
       "    <tr>\n",
       "      <th>294</th>\n",
       "      <td>294</td>\n",
       "      <td>[Strategy, Post-apocalyptic, Survival, Colony ...</td>\n",
       "      <td>76</td>\n",
       "      <td>Ravenscourt</td>\n",
       "      <td>10400000.0</td>\n",
       "      <td>2022</td>\n",
       "      <td>Germany</td>\n",
       "    </tr>\n",
       "    <tr>\n",
       "      <th>295</th>\n",
       "      <td>295</td>\n",
       "      <td>[Atmospheric, Resource Management, Simulation,...</td>\n",
       "      <td>78</td>\n",
       "      <td>Raw Fury</td>\n",
       "      <td>45400000.0</td>\n",
       "      <td>2022</td>\n",
       "      <td>Sweden</td>\n",
       "    </tr>\n",
       "    <tr>\n",
       "      <th>296</th>\n",
       "      <td>296</td>\n",
       "      <td>[Metroidvania, Female Protagonist, Shoot 'Em U...</td>\n",
       "      <td>82</td>\n",
       "      <td>Team17</td>\n",
       "      <td>223800000.0</td>\n",
       "      <td>2022</td>\n",
       "      <td>United Kingdom</td>\n",
       "    </tr>\n",
       "    <tr>\n",
       "      <th>297</th>\n",
       "      <td>297</td>\n",
       "      <td>[Colony Sim, Indie, Pixel Graphics, Simulation...</td>\n",
       "      <td>93</td>\n",
       "      <td>Kitfox Games</td>\n",
       "      <td>21400000.0</td>\n",
       "      <td>2022</td>\n",
       "      <td>Canada</td>\n",
       "    </tr>\n",
       "    <tr>\n",
       "      <th>298</th>\n",
       "      <td>298</td>\n",
       "      <td>[Indie, Rhythm, Action, Hand-drawn, Colorful, ...</td>\n",
       "      <td>81</td>\n",
       "      <td>Half Asleep</td>\n",
       "      <td>881000.0</td>\n",
       "      <td>2022</td>\n",
       "      <td>Canada</td>\n",
       "    </tr>\n",
       "  </tbody>\n",
       "</table>\n",
       "<p>299 rows × 7 columns</p>\n",
       "</div>"
      ],
      "text/plain": [
       "      id                                               Tags  MetacriticScore  \\\n",
       "0      0  [Rhythm, VR, Multiplayer, Music, Racing, PvP, ...               87   \n",
       "1      1  [Management, Simulation, Anime, Sexual Content...               73   \n",
       "2      2  [Casual, Simulation, Strategy, Indie, Manageme...               87   \n",
       "3      3  [Puzzle, Difficult, Indie, Singleplayer, Sokob...               76   \n",
       "4      4  [RPG, Choices Matter, Story Rich, Detective, T...               67   \n",
       "..   ...                                                ...              ...   \n",
       "294  294  [Strategy, Post-apocalyptic, Survival, Colony ...               76   \n",
       "295  295  [Atmospheric, Resource Management, Simulation,...               78   \n",
       "296  296  [Metroidvania, Female Protagonist, Shoot 'Em U...               82   \n",
       "297  297  [Colony Sim, Indie, Pixel Graphics, Simulation...               93   \n",
       "298  298  [Indie, Rhythm, Action, Hand-drawn, Colorful, ...               81   \n",
       "\n",
       "             Publishers  TotalRevenue  ReleaseYear         Country  \n",
       "0         WanadevStudio     1200000.0         2021          France  \n",
       "1               PLAYISM    58600000.0         2021           Japan  \n",
       "2    Dinosaur Polo Club     9100000.0         2021     New Zealand  \n",
       "3       Mischka Kamener           0.0         2021       Australia  \n",
       "4       Fireshine Games    26400000.0         2021  United Kingdom  \n",
       "..                  ...           ...          ...             ...  \n",
       "294         Ravenscourt    10400000.0         2022         Germany  \n",
       "295            Raw Fury    45400000.0         2022          Sweden  \n",
       "296              Team17   223800000.0         2022  United Kingdom  \n",
       "297        Kitfox Games    21400000.0         2022          Canada  \n",
       "298         Half Asleep      881000.0         2022          Canada  \n",
       "\n",
       "[299 rows x 7 columns]"
      ]
     },
     "execution_count": 117,
     "metadata": {},
     "output_type": "execute_result"
    }
   ],
   "source": [
    "id = 0\n",
    "unique_name_values = df_principal['Name'].unique().tolist()\n",
    "node_data = []\n",
    "\n",
    "for _ , linha in  df_principal.iterrows():\n",
    "    \n",
    "    if(linha['Name'] in unique_name_values):\n",
    "        node_data.append([id ,linha['Tags'], linha['Metacritic score'] ,  linha['Publishers'], linha['Total revenue'], linha['ReleaseYear'] , linha['Country']])\n",
    "        id+=1\n",
    "\n",
    "df_nodes = pd.DataFrame(node_data,columns=['id','Tags', 'MetacriticScore' , 'Publishers' , 'TotalRevenue' , 'ReleaseYear' , 'Country']) \n",
    "df_nodes"
   ]
  },
  {
   "cell_type": "code",
   "execution_count": 118,
   "metadata": {},
   "outputs": [],
   "source": [
    "# ---- Criando os nós e adiciona atributos aos nós ----\n",
    "\n",
    "g.add_vp('MetacriticScore')\n",
    "\n",
    "aux = []\n",
    "for _, infos in df_nodes.iterrows():\n",
    "    \n",
    "    #Adiciona vértices:\n",
    "    infos = infos.astype(object)\n",
    "    g.add_vertex(infos['id'])\n",
    "    \n",
    "    # Adiciona atributos:\n",
    "    vertice = g.get_vertex(infos['id'])\n",
    "    vertice['MetacriticScore'] = infos['MetacriticScore']"
   ]
  },
  {
   "cell_type": "markdown",
   "metadata": {},
   "source": [
    "### Montando as Arestas da Rede\n",
    "\n",
    "-------"
   ]
  },
  {
   "cell_type": "code",
   "execution_count": 18,
   "metadata": {},
   "outputs": [],
   "source": [
    "def count_tags(lista_tags_1, lista_tags_2):\n",
    "    '''\n",
    "    Retorna o número de tags em comum entre duas listas\n",
    "    '''    \n",
    "    count_common_tags = 0\n",
    "        \n",
    "    for tag1 in lista_tags_1:\n",
    "        for tag2 in lista_tags_2:\n",
    "            \n",
    "            if(tag1 == tag2):\n",
    "                count_common_tags+=1\n",
    "    \n",
    "    return count_common_tags"
   ]
  },
  {
   "cell_type": "code",
   "execution_count": 19,
   "metadata": {},
   "outputs": [
    {
     "data": {
      "text/html": [
       "<div>\n",
       "<style scoped>\n",
       "    .dataframe tbody tr th:only-of-type {\n",
       "        vertical-align: middle;\n",
       "    }\n",
       "\n",
       "    .dataframe tbody tr th {\n",
       "        vertical-align: top;\n",
       "    }\n",
       "\n",
       "    .dataframe thead th {\n",
       "        text-align: right;\n",
       "    }\n",
       "</style>\n",
       "<table border=\"1\" class=\"dataframe\">\n",
       "  <thead>\n",
       "    <tr style=\"text-align: right;\">\n",
       "      <th></th>\n",
       "      <th>node_1</th>\n",
       "      <th>node_2</th>\n",
       "      <th>Tags_em_Comum</th>\n",
       "    </tr>\n",
       "  </thead>\n",
       "  <tbody>\n",
       "    <tr>\n",
       "      <th>0</th>\n",
       "      <td>91</td>\n",
       "      <td>205</td>\n",
       "      <td>9</td>\n",
       "    </tr>\n",
       "    <tr>\n",
       "      <th>1</th>\n",
       "      <td>42</td>\n",
       "      <td>287</td>\n",
       "      <td>2</td>\n",
       "    </tr>\n",
       "    <tr>\n",
       "      <th>2</th>\n",
       "      <td>148</td>\n",
       "      <td>199</td>\n",
       "      <td>1</td>\n",
       "    </tr>\n",
       "    <tr>\n",
       "      <th>3</th>\n",
       "      <td>103</td>\n",
       "      <td>166</td>\n",
       "      <td>5</td>\n",
       "    </tr>\n",
       "    <tr>\n",
       "      <th>4</th>\n",
       "      <td>107</td>\n",
       "      <td>236</td>\n",
       "      <td>5</td>\n",
       "    </tr>\n",
       "    <tr>\n",
       "      <th>...</th>\n",
       "      <td>...</td>\n",
       "      <td>...</td>\n",
       "      <td>...</td>\n",
       "    </tr>\n",
       "    <tr>\n",
       "      <th>44546</th>\n",
       "      <td>18</td>\n",
       "      <td>267</td>\n",
       "      <td>1</td>\n",
       "    </tr>\n",
       "    <tr>\n",
       "      <th>44547</th>\n",
       "      <td>132</td>\n",
       "      <td>231</td>\n",
       "      <td>1</td>\n",
       "    </tr>\n",
       "    <tr>\n",
       "      <th>44548</th>\n",
       "      <td>104</td>\n",
       "      <td>187</td>\n",
       "      <td>4</td>\n",
       "    </tr>\n",
       "    <tr>\n",
       "      <th>44549</th>\n",
       "      <td>88</td>\n",
       "      <td>98</td>\n",
       "      <td>3</td>\n",
       "    </tr>\n",
       "    <tr>\n",
       "      <th>44550</th>\n",
       "      <td>88</td>\n",
       "      <td>273</td>\n",
       "      <td>4</td>\n",
       "    </tr>\n",
       "  </tbody>\n",
       "</table>\n",
       "<p>44551 rows × 3 columns</p>\n",
       "</div>"
      ],
      "text/plain": [
       "       node_1  node_2  Tags_em_Comum\n",
       "0          91     205              9\n",
       "1          42     287              2\n",
       "2         148     199              1\n",
       "3         103     166              5\n",
       "4         107     236              5\n",
       "...       ...     ...            ...\n",
       "44546      18     267              1\n",
       "44547     132     231              1\n",
       "44548     104     187              4\n",
       "44549      88      98              3\n",
       "44550      88     273              4\n",
       "\n",
       "[44551 rows x 3 columns]"
      ]
     },
     "execution_count": 19,
     "metadata": {},
     "output_type": "execute_result"
    }
   ],
   "source": [
    "node_relation = set()\n",
    "data_relation = set()\n",
    "\n",
    "for _, linha1 in df_nodes.iterrows():\n",
    "    for _,linha2 in df_nodes.iterrows():\n",
    "        \n",
    "        proximidade = 0\n",
    "        \n",
    "        if(( (linha1['id'] , linha2['id']) not in node_relation) and \n",
    "           ( (linha2['id'] , linha1['id']) not in node_relation) and (linha2['id'] != linha1['id'])):\n",
    "            \n",
    "            # Calculando TAGS em comum\n",
    "            proximidade = count_tags(linha1['Tags'], linha2['Tags'])\n",
    "            \n",
    "            # Adiciona valor na relação de nós:\n",
    "            node_relation.add((linha1['id'] , linha2['id']))\n",
    "        \n",
    "            data_relation.add((linha1['id'], linha2['id'], proximidade))\n",
    "            \n",
    "df_relation = pd.DataFrame(data_relation,columns=['node_1', 'node_2' , 'Tags_em_Comum'] ) \n",
    "df_relation"
   ]
  },
  {
   "cell_type": "markdown",
   "metadata": {},
   "source": [
    "#### Threadhold para a construção das Arestas"
   ]
  },
  {
   "cell_type": "code",
   "execution_count": 20,
   "metadata": {},
   "outputs": [
    {
     "data": {
      "image/png": "[encoded data removed]",
      "text/plain": [
       "<Figure size 640x480 with 1 Axes>"
      ]
     },
     "metadata": {},
     "output_type": "display_data"
    }
   ],
   "source": [
    "df_relation['Tags_em_Comum'][df_relation['Tags_em_Comum'] != 0].value_counts().plot(kind='bar');"
   ]
  },
  {
   "cell_type": "code",
   "execution_count": 21,
   "metadata": {},
   "outputs": [
    {
     "name": "stdout",
     "output_type": "stream",
     "text": [
      "\n",
      "> Threshold num_tags para arestas :  4\n",
      "\n"
     ]
    }
   ],
   "source": [
    "# ---- Escolhendo threshold para a criação das arestas a depender da distribuição ----\n",
    "\n",
    "list_num_tags = df_relation['Tags_em_Comum'][df_relation['Tags_em_Comum'] != 0].value_counts().index\n",
    "lista_num_jogos = df_relation['Tags_em_Comum'][df_relation['Tags_em_Comum'] != 0].value_counts().values\n",
    "\n",
    "def media_ponderada(lista_pesos , lista_valor):\n",
    "    \n",
    "    nominador = 0\n",
    "    denominador = sum(lista_pesos)\n",
    "    \n",
    "    for num_tags , num_jogos in zip(list_num_tags , lista_num_jogos):\n",
    "        nominador += num_tags*num_jogos\n",
    "        \n",
    "    return nominador/denominador\n",
    "        \n",
    "threshold_proximidade = media_ponderada(lista_num_jogos , list_num_tags)\n",
    "\n",
    "print(f\"\\n> Threshold num_tags para arestas :  {round(threshold_proximidade)}\\n\")"
   ]
  },
  {
   "cell_type": "code",
   "execution_count": 22,
   "metadata": {},
   "outputs": [],
   "source": [
    "# ---- Criando arestas ----\n",
    "\n",
    "for _ , relacao in df_relation.iterrows():\n",
    "    \n",
    "    if(relacao['Tags_em_Comum'] > threshold_proximidade):\n",
    "        g.add_edge(relacao['node_1'], relacao['node_2'])"
   ]
  },
  {
   "cell_type": "markdown",
   "metadata": {},
   "source": [
    "### Métricas da Rede\n",
    "\n",
    "-------"
   ]
  },
  {
   "cell_type": "code",
   "execution_count": 23,
   "metadata": {},
   "outputs": [
    {
     "name": "stdout",
     "output_type": "stream",
     "text": [
      "\n",
      " > Número de vértices de g: 299\n",
      "\n",
      " > Número de arestas de g: 22331\n",
      "\n",
      " > Densidade: 0.5012457632825301\n"
     ]
    }
   ],
   "source": [
    "# ---- Número de arestas, nós e densidade ----\n",
    "\n",
    "n = g.num_vertices()\n",
    "m = g.num_edges()\n",
    "\n",
    "if g.is_directed():\n",
    "    max_edges = n * (n - 1)\n",
    "else:\n",
    "    max_edges = n * (n - 1) // 2\n",
    "d = m / max_edges\n",
    "\n",
    "print('\\n > Número de vértices de g:', n )\n",
    "print('\\n > Número de arestas de g:', m)\n",
    "print('\\n > Densidade:', d)"
   ]
  },
  {
   "cell_type": "markdown",
   "metadata": {},
   "source": [
    "### Calculando Degree\n",
    "\n",
    "-------"
   ]
  },
  {
   "cell_type": "code",
   "execution_count": 24,
   "metadata": {},
   "outputs": [
    {
     "data": {
      "text/plain": [
       "count    299.000000\n",
       "mean     149.371237\n",
       "std       53.975628\n",
       "min        2.000000\n",
       "25%      108.000000\n",
       "50%      159.000000\n",
       "75%      193.500000\n",
       "max      252.000000\n",
       "Name: degree, dtype: float64"
      ]
     },
     "execution_count": 24,
     "metadata": {},
     "output_type": "execute_result"
    }
   ],
   "source": [
    "# Propriedade dos vértices\n",
    "data = gt_data(g)\n",
    "\n",
    "# Calculando degrees\n",
    "in_degrees = []\n",
    "out_degrees = []\n",
    "degrees = []\n",
    "\n",
    "for v in g.all_vertices():\n",
    "    in_degrees.append(v.in_degree())\n",
    "for v in g.all_vertices():\n",
    "    out_degrees.append(v.out_degree())\n",
    "for v in g.all_vertices():\n",
    "    degrees.append(v.total_degree())\n",
    "    \n",
    "data['in_degree'] = in_degrees\n",
    "data['out_degree'] = out_degrees\n",
    "data['degree'] = degrees\n",
    "data['degree'].describe()"
   ]
  },
  {
   "cell_type": "code",
   "execution_count": 25,
   "metadata": {},
   "outputs": [
    {
     "data": {
      "text/plain": [
       "<AxesSubplot: xlabel='degree', ylabel='Count'>"
      ]
     },
     "execution_count": 25,
     "metadata": {},
     "output_type": "execute_result"
    },
    {
     "data": {
      "image/png": "[encoded data removed]",
      "text/plain": [
       "<Figure size 640x480 with 1 Axes>"
      ]
     },
     "metadata": {},
     "output_type": "display_data"
    }
   ],
   "source": [
    "sns.histplot(data['degree'])"
   ]
  },
  {
   "cell_type": "markdown",
   "metadata": {},
   "source": [
    "### Grafo\n",
    "\n",
    "-------"
   ]
  },
  {
   "cell_type": "code",
   "execution_count": 26,
   "metadata": {
    "collapsed": true
   },
   "outputs": [
    {
     "data": {
      "text/html": [
       "\n",
       "        <div id=\"nbqTNbFp2rMwDDTjusYDJo\"></div>\n",
       "        <script>netpixi.render('nbqTNbFp2rMwDDTjusYDJo', '/projeto.net.gz', 1.7777777777777777, true, false, false);</script>\n",
       "    "
      ],
      "text/plain": [
       "<IPython.core.display.HTML object>"
      ]
     },
     "metadata": {},
     "output_type": "display_data"
    }
   ],
   "source": [
    "# ----- Salva e renderiza grafo -----\n",
    "gt_save(g, 'projeto.net.gz')\n",
    "\n",
    "r = netpixi.render('/projeto.net.gz')"
   ]
  },
  {
   "cell_type": "code",
   "execution_count": 27,
   "metadata": {
    "collapsed": true
   },
   "outputs": [
    {
     "data": {
      "text/html": [
       "\n",
       "        <div id=\"6TdJewpHMtn6cJBSwgXbcW\"></div>\n",
       "        <script>netpixi.render('6TdJewpHMtn6cJBSwgXbcW', 'projeto_frunch.net.gz', 1.7777777777777777, true, false, false);</script>\n",
       "    "
      ],
      "text/plain": [
       "<IPython.core.display.HTML object>"
      ]
     },
     "metadata": {},
     "output_type": "display_data"
    }
   ],
   "source": [
    "# ----- Algoritmo Reingold Fruchterm -----\n",
    "m = gt_draw.fruchterman_reingold_layout(g)\n",
    "gt_move(g, m)\n",
    "gt_save(g, 'projeto_frunch.net.gz')\n",
    "r = netpixi.render('projeto_frunch.net.gz');"
   ]
  },
  {
   "cell_type": "code",
   "execution_count": 28,
   "metadata": {},
   "outputs": [
    {
     "name": "stderr",
     "output_type": "stream",
     "text": [
      "<frozen importlib._bootstrap>:914: ImportWarning: VendorImporter.find_spec() not found; falling back to find_module()\n"
     ]
    },
    {
     "data": {
      "text/html": [
       "\n",
       "        <div id=\"2HKhQHTrRc3cs3YwxRVLsT\"></div>\n",
       "        <script>netpixi.call('2HKhQHTrRc3cs3YwxRVLsT', '6TdJewpHMtn6cJBSwgXbcW', 'changeGraph', 'eyJpZCI6IDAsICJ0eXBlIjogInZlcnRleCIsICJwcm9wcyI6IHsiY29sb3IiOiA2NTI4MH19Cg==');</script>\n",
       "    "
      ],
      "text/plain": [
       "<IPython.core.display.HTML object>"
      ]
     },
     "metadata": {},
     "output_type": "display_data"
    },
    {
     "data": {
      "text/html": [
       "\n",
       "        <div id=\"YzEb2ThtMZkU8goPxg97Yz\"></div>\n",
       "        <script>netpixi.call('YzEb2ThtMZkU8goPxg97Yz', '6TdJewpHMtn6cJBSwgXbcW', 'changeGraph', 'eyJpZCI6IDEsICJ0eXBlIjogInZlcnRleCIsICJwcm9wcyI6IHsiY29sb3IiOiA2NTI4MH19Cg==');</script>\n",
       "    "
      ],
      "text/plain": [
       "<IPython.core.display.HTML object>"
      ]
     },
     "metadata": {},
     "output_type": "display_data"
    },
    {
     "data": {
      "text/html": [
       "\n",
       "        <div id=\"NkbbFSbd8EYMGrRKHQGbkc\"></div>\n",
       "        <script>netpixi.call('NkbbFSbd8EYMGrRKHQGbkc', '6TdJewpHMtn6cJBSwgXbcW', 'changeGraph', 'eyJpZCI6IDIsICJ0eXBlIjogInZlcnRleCIsICJwcm9wcyI6IHsiY29sb3IiOiA2NTI4MH19Cg==');</script>\n",
       "    "
      ],
      "text/plain": [
       "<IPython.core.display.HTML object>"
      ]
     },
     "metadata": {},
     "output_type": "display_data"
    },
    {
     "data": {
      "text/html": [
       "\n",
       "        <div id=\"jjFFndBzngxhnYkpqyFf7d\"></div>\n",
       "        <script>netpixi.call('jjFFndBzngxhnYkpqyFf7d', '6TdJewpHMtn6cJBSwgXbcW', 'changeGraph', 'eyJpZCI6IDMsICJ0eXBlIjogInZlcnRleCIsICJwcm9wcyI6IHsiY29sb3IiOiA2NTI4MH19Cg==');</script>\n",
       "    "
      ],
      "text/plain": [
       "<IPython.core.display.HTML object>"
      ]
     },
     "metadata": {},
     "output_type": "display_data"
    },
    {
     "data": {
      "text/html": [
       "\n",
       "        <div id=\"aFuf82zTzcdSNiQzQx3rSw\"></div>\n",
       "        <script>netpixi.call('aFuf82zTzcdSNiQzQx3rSw', '6TdJewpHMtn6cJBSwgXbcW', 'changeGraph', 'eyJpZCI6IDQsICJ0eXBlIjogInZlcnRleCIsICJwcm9wcyI6IHsiY29sb3IiOiAxNjcxMTY4MH19Cg==');</script>\n",
       "    "
      ],
      "text/plain": [
       "<IPython.core.display.HTML object>"
      ]
     },
     "metadata": {},
     "output_type": "display_data"
    },
    {
     "data": {
      "text/html": [
       "\n",
       "        <div id=\"65rLYNsaTyR7JdnXQTsEcw\"></div>\n",
       "        <script>netpixi.call('65rLYNsaTyR7JdnXQTsEcw', '6TdJewpHMtn6cJBSwgXbcW', 'changeGraph', 'eyJpZCI6IDUsICJ0eXBlIjogInZlcnRleCIsICJwcm9wcyI6IHsiY29sb3IiOiA2NTI4MH19Cg==');</script>\n",
       "    "
      ],
      "text/plain": [
       "<IPython.core.display.HTML object>"
      ]
     },
     "metadata": {},
     "output_type": "display_data"
    },
    {
     "data": {
      "text/html": [
       "\n",
       "        <div id=\"W7nypxkeUHPwLXJxb2saGD\"></div>\n",
       "        <script>netpixi.call('W7nypxkeUHPwLXJxb2saGD', '6TdJewpHMtn6cJBSwgXbcW', 'changeGraph', 'eyJpZCI6IDYsICJ0eXBlIjogInZlcnRleCIsICJwcm9wcyI6IHsiY29sb3IiOiA2NTI4MH19Cg==');</script>\n",
       "    "
      ],
      "text/plain": [
       "<IPython.core.display.HTML object>"
      ]
     },
     "metadata": {},
     "output_type": "display_data"
    },
    {
     "data": {
      "text/html": [
       "\n",
       "        <div id=\"b5iNT7tU7KxsPuEmCshUqr\"></div>\n",
       "        <script>netpixi.call('b5iNT7tU7KxsPuEmCshUqr', '6TdJewpHMtn6cJBSwgXbcW', 'changeGraph', 'eyJpZCI6IDcsICJ0eXBlIjogInZlcnRleCIsICJwcm9wcyI6IHsiY29sb3IiOiAxNjcxMTY4MH19Cg==');</script>\n",
       "    "
      ],
      "text/plain": [
       "<IPython.core.display.HTML object>"
      ]
     },
     "metadata": {},
     "output_type": "display_data"
    },
    {
     "data": {
      "text/html": [
       "\n",
       "        <div id=\"cf6nSKora8ohkDGBAiaSgF\"></div>\n",
       "        <script>netpixi.call('cf6nSKora8ohkDGBAiaSgF', '6TdJewpHMtn6cJBSwgXbcW', 'changeGraph', 'eyJpZCI6IDgsICJ0eXBlIjogInZlcnRleCIsICJwcm9wcyI6IHsiY29sb3IiOiA2NTI4MH19Cg==');</script>\n",
       "    "
      ],
      "text/plain": [
       "<IPython.core.display.HTML object>"
      ]
     },
     "metadata": {},
     "output_type": "display_data"
    },
    {
     "data": {
      "text/html": [
       "\n",
       "        <div id=\"UJRC252JKdBZWCYZm4Q83v\"></div>\n",
       "        <script>netpixi.call('UJRC252JKdBZWCYZm4Q83v', '6TdJewpHMtn6cJBSwgXbcW', 'changeGraph', 'eyJpZCI6IDksICJ0eXBlIjogInZlcnRleCIsICJwcm9wcyI6IHsiY29sb3IiOiAxNjcxMTY4MH19Cg==');</script>\n",
       "    "
      ],
      "text/plain": [
       "<IPython.core.display.HTML object>"
      ]
     },
     "metadata": {},
     "output_type": "display_data"
    },
    {
     "data": {
      "text/html": [
       "\n",
       "        <div id=\"JvMSXMeHvdFKmuvmiSxNL5\"></div>\n",
       "        <script>netpixi.call('JvMSXMeHvdFKmuvmiSxNL5', '6TdJewpHMtn6cJBSwgXbcW', 'changeGraph', 'eyJpZCI6IDEwLCAidHlwZSI6ICJ2ZXJ0ZXgiLCAicHJvcHMiOiB7ImNvbG9yIjogNjUyODB9fQo=');</script>\n",
       "    "
      ],
      "text/plain": [
       "<IPython.core.display.HTML object>"
      ]
     },
     "metadata": {},
     "output_type": "display_data"
    },
    {
     "data": {
      "text/html": [
       "\n",
       "        <div id=\"DNtNsraZGPKiXC6g8zS9XT\"></div>\n",
       "        <script>netpixi.call('DNtNsraZGPKiXC6g8zS9XT', '6TdJewpHMtn6cJBSwgXbcW', 'changeGraph', 'eyJpZCI6IDExLCAidHlwZSI6ICJ2ZXJ0ZXgiLCAicHJvcHMiOiB7ImNvbG9yIjogNjUyODB9fQo=');</script>\n",
       "    "
      ],
      "text/plain": [
       "<IPython.core.display.HTML object>"
      ]
     },
     "metadata": {},
     "output_type": "display_data"
    },
    {
     "data": {
      "text/html": [
       "\n",
       "        <div id=\"3UXJdXQd7rEcqHL84thrM4\"></div>\n",
       "        <script>netpixi.call('3UXJdXQd7rEcqHL84thrM4', '6TdJewpHMtn6cJBSwgXbcW', 'changeGraph', 'eyJpZCI6IDEyLCAidHlwZSI6ICJ2ZXJ0ZXgiLCAicHJvcHMiOiB7ImNvbG9yIjogMTY3MTE2ODB9fQo=');</script>\n",
       "    "
      ],
      "text/plain": [
       "<IPython.core.display.HTML object>"
      ]
     },
     "metadata": {},
     "output_type": "display_data"
    },
    {
     "data": {
      "text/html": [
       "\n",
       "        <div id=\"YvcVjUFGc2z7tAZZxQXQCH\"></div>\n",
       "        <script>netpixi.call('YvcVjUFGc2z7tAZZxQXQCH', '6TdJewpHMtn6cJBSwgXbcW', 'changeGraph', 'eyJpZCI6IDEzLCAidHlwZSI6ICJ2ZXJ0ZXgiLCAicHJvcHMiOiB7ImNvbG9yIjogMTY3MTE2ODB9fQo=');</script>\n",
       "    "
      ],
      "text/plain": [
       "<IPython.core.display.HTML object>"
      ]
     },
     "metadata": {},
     "output_type": "display_data"
    },
    {
     "data": {
      "text/html": [
       "\n",
       "        <div id=\"FVwzhGtjCwMYuUiKV54t2c\"></div>\n",
       "        <script>netpixi.call('FVwzhGtjCwMYuUiKV54t2c', '6TdJewpHMtn6cJBSwgXbcW', 'changeGraph', 'eyJpZCI6IDE0LCAidHlwZSI6ICJ2ZXJ0ZXgiLCAicHJvcHMiOiB7ImNvbG9yIjogNjUyODB9fQo=');</script>\n",
       "    "
      ],
      "text/plain": [
       "<IPython.core.display.HTML object>"
      ]
     },
     "metadata": {},
     "output_type": "display_data"
    },
    {
     "data": {
      "text/html": [
       "\n",
       "        <div id=\"gSFVAHPhb6ykaT9scH3HPT\"></div>\n",
       "        <script>netpixi.call('gSFVAHPhb6ykaT9scH3HPT', '6TdJewpHMtn6cJBSwgXbcW', 'changeGraph', 'eyJpZCI6IDE1LCAidHlwZSI6ICJ2ZXJ0ZXgiLCAicHJvcHMiOiB7ImNvbG9yIjogNjUyODB9fQo=');</script>\n",
       "    "
      ],
      "text/plain": [
       "<IPython.core.display.HTML object>"
      ]
     },
     "metadata": {},
     "output_type": "display_data"
    },
    {
     "data": {
      "text/html": [
       "\n",
       "        <div id=\"aijBaPuFRFXmRHWDQjQnqN\"></div>\n",
       "        <script>netpixi.call('aijBaPuFRFXmRHWDQjQnqN', '6TdJewpHMtn6cJBSwgXbcW', 'changeGraph', 'eyJpZCI6IDE2LCAidHlwZSI6ICJ2ZXJ0ZXgiLCAicHJvcHMiOiB7ImNvbG9yIjogMTY3MTE2ODB9fQo=');</script>\n",
       "    "
      ],
      "text/plain": [
       "<IPython.core.display.HTML object>"
      ]
     },
     "metadata": {},
     "output_type": "display_data"
    },
    {
     "data": {
      "text/html": [
       "\n",
       "        <div id=\"PCtofQxivdDFz7cVRuqRac\"></div>\n",
       "        <script>netpixi.call('PCtofQxivdDFz7cVRuqRac', '6TdJewpHMtn6cJBSwgXbcW', 'changeGraph', 'eyJpZCI6IDE3LCAidHlwZSI6ICJ2ZXJ0ZXgiLCAicHJvcHMiOiB7ImNvbG9yIjogNjUyODB9fQo=');</script>\n",
       "    "
      ],
      "text/plain": [
       "<IPython.core.display.HTML object>"
      ]
     },
     "metadata": {},
     "output_type": "display_data"
    },
    {
     "data": {
      "text/html": [
       "\n",
       "        <div id=\"9W3Ua6krYTowvj9UpPTtH6\"></div>\n",
       "        <script>netpixi.call('9W3Ua6krYTowvj9UpPTtH6', '6TdJewpHMtn6cJBSwgXbcW', 'changeGraph', 'eyJpZCI6IDE4LCAidHlwZSI6ICJ2ZXJ0ZXgiLCAicHJvcHMiOiB7ImNvbG9yIjogMTY3MTE2ODB9fQo=');</script>\n",
       "    "
      ],
      "text/plain": [
       "<IPython.core.display.HTML object>"
      ]
     },
     "metadata": {},
     "output_type": "display_data"
    },
    {
     "data": {
      "text/html": [
       "\n",
       "        <div id=\"iBdvoHQojpRCM8Jv6UFmEC\"></div>\n",
       "        <script>netpixi.call('iBdvoHQojpRCM8Jv6UFmEC', '6TdJewpHMtn6cJBSwgXbcW', 'changeGraph', 'eyJpZCI6IDE5LCAidHlwZSI6ICJ2ZXJ0ZXgiLCAicHJvcHMiOiB7ImNvbG9yIjogMTY3MTE2ODB9fQo=');</script>\n",
       "    "
      ],
      "text/plain": [
       "<IPython.core.display.HTML object>"
      ]
     },
     "metadata": {},
     "output_type": "display_data"
    },
    {
     "data": {
      "text/html": [
       "\n",
       "        <div id=\"e3c2EUVPjgoRmfELFEpnHb\"></div>\n",
       "        <script>netpixi.call('e3c2EUVPjgoRmfELFEpnHb', '6TdJewpHMtn6cJBSwgXbcW', 'changeGraph', 'eyJpZCI6IDIwLCAidHlwZSI6ICJ2ZXJ0ZXgiLCAicHJvcHMiOiB7ImNvbG9yIjogNjUyODB9fQo=');</script>\n",
       "    "
      ],
      "text/plain": [
       "<IPython.core.display.HTML object>"
      ]
     },
     "metadata": {},
     "output_type": "display_data"
    },
    {
     "data": {
      "text/html": [
       "\n",
       "        <div id=\"3GhnM5dGP9YoW6eEETH5XE\"></div>\n",
       "        <script>netpixi.call('3GhnM5dGP9YoW6eEETH5XE', '6TdJewpHMtn6cJBSwgXbcW', 'changeGraph', 'eyJpZCI6IDIxLCAidHlwZSI6ICJ2ZXJ0ZXgiLCAicHJvcHMiOiB7ImNvbG9yIjogMTY3MTE2ODB9fQo=');</script>\n",
       "    "
      ],
      "text/plain": [
       "<IPython.core.display.HTML object>"
      ]
     },
     "metadata": {},
     "output_type": "display_data"
    },
    {
     "data": {
      "text/html": [
       "\n",
       "        <div id=\"hgz4qviw2K68tm9uBjbZgr\"></div>\n",
       "        <script>netpixi.call('hgz4qviw2K68tm9uBjbZgr', '6TdJewpHMtn6cJBSwgXbcW', 'changeGraph', 'eyJpZCI6IDIyLCAidHlwZSI6ICJ2ZXJ0ZXgiLCAicHJvcHMiOiB7ImNvbG9yIjogMTY3MTE2ODB9fQo=');</script>\n",
       "    "
      ],
      "text/plain": [
       "<IPython.core.display.HTML object>"
      ]
     },
     "metadata": {},
     "output_type": "display_data"
    },
    {
     "data": {
      "text/html": [
       "\n",
       "        <div id=\"FnyMrsAtiMUZb2V5TA7eWW\"></div>\n",
       "        <script>netpixi.call('FnyMrsAtiMUZb2V5TA7eWW', '6TdJewpHMtn6cJBSwgXbcW', 'changeGraph', 'eyJpZCI6IDIzLCAidHlwZSI6ICJ2ZXJ0ZXgiLCAicHJvcHMiOiB7ImNvbG9yIjogMTY3MTE2ODB9fQo=');</script>\n",
       "    "
      ],
      "text/plain": [
       "<IPython.core.display.HTML object>"
      ]
     },
     "metadata": {},
     "output_type": "display_data"
    },
    {
     "data": {
      "text/html": [
       "\n",
       "        <div id=\"MkVaCLmxbkMBUUU6AgmRd8\"></div>\n",
       "        <script>netpixi.call('MkVaCLmxbkMBUUU6AgmRd8', '6TdJewpHMtn6cJBSwgXbcW', 'changeGraph', 'eyJpZCI6IDI0LCAidHlwZSI6ICJ2ZXJ0ZXgiLCAicHJvcHMiOiB7ImNvbG9yIjogMTY3MTE2ODB9fQo=');</script>\n",
       "    "
      ],
      "text/plain": [
       "<IPython.core.display.HTML object>"
      ]
     },
     "metadata": {},
     "output_type": "display_data"
    },
    {
     "data": {
      "text/html": [
       "\n",
       "        <div id=\"HD8sjubB6iJbsHLUJnWGw2\"></div>\n",
       "        <script>netpixi.call('HD8sjubB6iJbsHLUJnWGw2', '6TdJewpHMtn6cJBSwgXbcW', 'changeGraph', 'eyJpZCI6IDI1LCAidHlwZSI6ICJ2ZXJ0ZXgiLCAicHJvcHMiOiB7ImNvbG9yIjogNjUyODB9fQo=');</script>\n",
       "    "
      ],
      "text/plain": [
       "<IPython.core.display.HTML object>"
      ]
     },
     "metadata": {},
     "output_type": "display_data"
    },
    {
     "data": {
      "text/html": [
       "\n",
       "        <div id=\"LGHCwUYT2mnXPQAnKS5Xjy\"></div>\n",
       "        <script>netpixi.call('LGHCwUYT2mnXPQAnKS5Xjy', '6TdJewpHMtn6cJBSwgXbcW', 'changeGraph', 'eyJpZCI6IDI2LCAidHlwZSI6ICJ2ZXJ0ZXgiLCAicHJvcHMiOiB7ImNvbG9yIjogMTY3MTE2ODB9fQo=');</script>\n",
       "    "
      ],
      "text/plain": [
       "<IPython.core.display.HTML object>"
      ]
     },
     "metadata": {},
     "output_type": "display_data"
    },
    {
     "data": {
      "text/html": [
       "\n",
       "        <div id=\"m2uucoeGHEZWVxyM2Qi4rL\"></div>\n",
       "        <script>netpixi.call('m2uucoeGHEZWVxyM2Qi4rL', '6TdJewpHMtn6cJBSwgXbcW', 'changeGraph', 'eyJpZCI6IDI3LCAidHlwZSI6ICJ2ZXJ0ZXgiLCAicHJvcHMiOiB7ImNvbG9yIjogMTY3MTE2ODB9fQo=');</script>\n",
       "    "
      ],
      "text/plain": [
       "<IPython.core.display.HTML object>"
      ]
     },
     "metadata": {},
     "output_type": "display_data"
    },
    {
     "data": {
      "text/html": [
       "\n",
       "        <div id=\"7DchmNFLWvWvn77BvLDvUF\"></div>\n",
       "        <script>netpixi.call('7DchmNFLWvWvn77BvLDvUF', '6TdJewpHMtn6cJBSwgXbcW', 'changeGraph', 'eyJpZCI6IDI4LCAidHlwZSI6ICJ2ZXJ0ZXgiLCAicHJvcHMiOiB7ImNvbG9yIjogMTY3MTE2ODB9fQo=');</script>\n",
       "    "
      ],
      "text/plain": [
       "<IPython.core.display.HTML object>"
      ]
     },
     "metadata": {},
     "output_type": "display_data"
    },
    {
     "data": {
      "text/html": [
       "\n",
       "        <div id=\"me2H7HDLdczbXgojshNS2J\"></div>\n",
       "        <script>netpixi.call('me2H7HDLdczbXgojshNS2J', '6TdJewpHMtn6cJBSwgXbcW', 'changeGraph', 'eyJpZCI6IDI5LCAidHlwZSI6ICJ2ZXJ0ZXgiLCAicHJvcHMiOiB7ImNvbG9yIjogMTY3MTE2ODB9fQo=');</script>\n",
       "    "
      ],
      "text/plain": [
       "<IPython.core.display.HTML object>"
      ]
     },
     "metadata": {},
     "output_type": "display_data"
    },
    {
     "data": {
      "text/html": [
       "\n",
       "        <div id=\"Kf83eVLpRUcTPC4VmbrnhV\"></div>\n",
       "        <script>netpixi.call('Kf83eVLpRUcTPC4VmbrnhV', '6TdJewpHMtn6cJBSwgXbcW', 'changeGraph', 'eyJpZCI6IDMwLCAidHlwZSI6ICJ2ZXJ0ZXgiLCAicHJvcHMiOiB7ImNvbG9yIjogMTY3MTE2ODB9fQo=');</script>\n",
       "    "
      ],
      "text/plain": [
       "<IPython.core.display.HTML object>"
      ]
     },
     "metadata": {},
     "output_type": "display_data"
    },
    {
     "data": {
      "text/html": [
       "\n",
       "        <div id=\"eGFkwRFa9uwX2kU6QmzXKy\"></div>\n",
       "        <script>netpixi.call('eGFkwRFa9uwX2kU6QmzXKy', '6TdJewpHMtn6cJBSwgXbcW', 'changeGraph', 'eyJpZCI6IDMxLCAidHlwZSI6ICJ2ZXJ0ZXgiLCAicHJvcHMiOiB7ImNvbG9yIjogMTY3MTE2ODB9fQo=');</script>\n",
       "    "
      ],
      "text/plain": [
       "<IPython.core.display.HTML object>"
      ]
     },
     "metadata": {},
     "output_type": "display_data"
    },
    {
     "data": {
      "text/html": [
       "\n",
       "        <div id=\"LFxS8uEVbc8JgV8ZMMonr7\"></div>\n",
       "        <script>netpixi.call('LFxS8uEVbc8JgV8ZMMonr7', '6TdJewpHMtn6cJBSwgXbcW', 'changeGraph', 'eyJpZCI6IDMyLCAidHlwZSI6ICJ2ZXJ0ZXgiLCAicHJvcHMiOiB7ImNvbG9yIjogNjUyODB9fQo=');</script>\n",
       "    "
      ],
      "text/plain": [
       "<IPython.core.display.HTML object>"
      ]
     },
     "metadata": {},
     "output_type": "display_data"
    },
    {
     "data": {
      "text/html": [
       "\n",
       "        <div id=\"mjjMxcNdjfYHqcXsYg8vTA\"></div>\n",
       "        <script>netpixi.call('mjjMxcNdjfYHqcXsYg8vTA', '6TdJewpHMtn6cJBSwgXbcW', 'changeGraph', 'eyJpZCI6IDMzLCAidHlwZSI6ICJ2ZXJ0ZXgiLCAicHJvcHMiOiB7ImNvbG9yIjogMTY3MTE2ODB9fQo=');</script>\n",
       "    "
      ],
      "text/plain": [
       "<IPython.core.display.HTML object>"
      ]
     },
     "metadata": {},
     "output_type": "display_data"
    },
    {
     "data": {
      "text/html": [
       "\n",
       "        <div id=\"WiND85Sm2KEzihCPR8prTA\"></div>\n",
       "        <script>netpixi.call('WiND85Sm2KEzihCPR8prTA', '6TdJewpHMtn6cJBSwgXbcW', 'changeGraph', 'eyJpZCI6IDM0LCAidHlwZSI6ICJ2ZXJ0ZXgiLCAicHJvcHMiOiB7ImNvbG9yIjogMTY3MTE2ODB9fQo=');</script>\n",
       "    "
      ],
      "text/plain": [
       "<IPython.core.display.HTML object>"
      ]
     },
     "metadata": {},
     "output_type": "display_data"
    },
    {
     "data": {
      "text/html": [
       "\n",
       "        <div id=\"H4ugjZhUv3vbELJMkdVkDd\"></div>\n",
       "        <script>netpixi.call('H4ugjZhUv3vbELJMkdVkDd', '6TdJewpHMtn6cJBSwgXbcW', 'changeGraph', 'eyJpZCI6IDM1LCAidHlwZSI6ICJ2ZXJ0ZXgiLCAicHJvcHMiOiB7ImNvbG9yIjogMTY3MTE2ODB9fQo=');</script>\n",
       "    "
      ],
      "text/plain": [
       "<IPython.core.display.HTML object>"
      ]
     },
     "metadata": {},
     "output_type": "display_data"
    },
    {
     "data": {
      "text/html": [
       "\n",
       "        <div id=\"U8QShq3dQiWPhE4Y3i3wTB\"></div>\n",
       "        <script>netpixi.call('U8QShq3dQiWPhE4Y3i3wTB', '6TdJewpHMtn6cJBSwgXbcW', 'changeGraph', 'eyJpZCI6IDM2LCAidHlwZSI6ICJ2ZXJ0ZXgiLCAicHJvcHMiOiB7ImNvbG9yIjogNjUyODB9fQo=');</script>\n",
       "    "
      ],
      "text/plain": [
       "<IPython.core.display.HTML object>"
      ]
     },
     "metadata": {},
     "output_type": "display_data"
    },
    {
     "data": {
      "text/html": [
       "\n",
       "        <div id=\"3HWST6sMvLfaSrG9oLbrui\"></div>\n",
       "        <script>netpixi.call('3HWST6sMvLfaSrG9oLbrui', '6TdJewpHMtn6cJBSwgXbcW', 'changeGraph', 'eyJpZCI6IDM3LCAidHlwZSI6ICJ2ZXJ0ZXgiLCAicHJvcHMiOiB7ImNvbG9yIjogMTY3MTE2ODB9fQo=');</script>\n",
       "    "
      ],
      "text/plain": [
       "<IPython.core.display.HTML object>"
      ]
     },
     "metadata": {},
     "output_type": "display_data"
    },
    {
     "data": {
      "text/html": [
       "\n",
       "        <div id=\"D34wsjaCBiBXLnKL7zpi4y\"></div>\n",
       "        <script>netpixi.call('D34wsjaCBiBXLnKL7zpi4y', '6TdJewpHMtn6cJBSwgXbcW', 'changeGraph', 'eyJpZCI6IDM4LCAidHlwZSI6ICJ2ZXJ0ZXgiLCAicHJvcHMiOiB7ImNvbG9yIjogMTY3MTE2ODB9fQo=');</script>\n",
       "    "
      ],
      "text/plain": [
       "<IPython.core.display.HTML object>"
      ]
     },
     "metadata": {},
     "output_type": "display_data"
    },
    {
     "data": {
      "text/html": [
       "\n",
       "        <div id=\"BFrrwKXmcrL2SD7zTmYKjt\"></div>\n",
       "        <script>netpixi.call('BFrrwKXmcrL2SD7zTmYKjt', '6TdJewpHMtn6cJBSwgXbcW', 'changeGraph', 'eyJpZCI6IDM5LCAidHlwZSI6ICJ2ZXJ0ZXgiLCAicHJvcHMiOiB7ImNvbG9yIjogNjUyODB9fQo=');</script>\n",
       "    "
      ],
      "text/plain": [
       "<IPython.core.display.HTML object>"
      ]
     },
     "metadata": {},
     "output_type": "display_data"
    },
    {
     "data": {
      "text/html": [
       "\n",
       "        <div id=\"EFnxn877VpUwjNfcc9YyEK\"></div>\n",
       "        <script>netpixi.call('EFnxn877VpUwjNfcc9YyEK', '6TdJewpHMtn6cJBSwgXbcW', 'changeGraph', 'eyJpZCI6IDQwLCAidHlwZSI6ICJ2ZXJ0ZXgiLCAicHJvcHMiOiB7ImNvbG9yIjogNjUyODB9fQo=');</script>\n",
       "    "
      ],
      "text/plain": [
       "<IPython.core.display.HTML object>"
      ]
     },
     "metadata": {},
     "output_type": "display_data"
    },
    {
     "data": {
      "text/html": [
       "\n",
       "        <div id=\"5xWwVhfoRzbYgpheBXZScP\"></div>\n",
       "        <script>netpixi.call('5xWwVhfoRzbYgpheBXZScP', '6TdJewpHMtn6cJBSwgXbcW', 'changeGraph', 'eyJpZCI6IDQxLCAidHlwZSI6ICJ2ZXJ0ZXgiLCAicHJvcHMiOiB7ImNvbG9yIjogNjUyODB9fQo=');</script>\n",
       "    "
      ],
      "text/plain": [
       "<IPython.core.display.HTML object>"
      ]
     },
     "metadata": {},
     "output_type": "display_data"
    },
    {
     "data": {
      "text/html": [
       "\n",
       "        <div id=\"e9SNioFkUjueLRRk6Mv9j4\"></div>\n",
       "        <script>netpixi.call('e9SNioFkUjueLRRk6Mv9j4', '6TdJewpHMtn6cJBSwgXbcW', 'changeGraph', 'eyJpZCI6IDQyLCAidHlwZSI6ICJ2ZXJ0ZXgiLCAicHJvcHMiOiB7ImNvbG9yIjogMTY3MTE2ODB9fQo=');</script>\n",
       "    "
      ],
      "text/plain": [
       "<IPython.core.display.HTML object>"
      ]
     },
     "metadata": {},
     "output_type": "display_data"
    },
    {
     "data": {
      "text/html": [
       "\n",
       "        <div id=\"kkzVsty956BvhXt9rfbjMw\"></div>\n",
       "        <script>netpixi.call('kkzVsty956BvhXt9rfbjMw', '6TdJewpHMtn6cJBSwgXbcW', 'changeGraph', 'eyJpZCI6IDQzLCAidHlwZSI6ICJ2ZXJ0ZXgiLCAicHJvcHMiOiB7ImNvbG9yIjogNjUyODB9fQo=');</script>\n",
       "    "
      ],
      "text/plain": [
       "<IPython.core.display.HTML object>"
      ]
     },
     "metadata": {},
     "output_type": "display_data"
    },
    {
     "data": {
      "text/html": [
       "\n",
       "        <div id=\"iJu7UnStTUzRMRRdVpGif7\"></div>\n",
       "        <script>netpixi.call('iJu7UnStTUzRMRRdVpGif7', '6TdJewpHMtn6cJBSwgXbcW', 'changeGraph', 'eyJpZCI6IDQ0LCAidHlwZSI6ICJ2ZXJ0ZXgiLCAicHJvcHMiOiB7ImNvbG9yIjogNjUyODB9fQo=');</script>\n",
       "    "
      ],
      "text/plain": [
       "<IPython.core.display.HTML object>"
      ]
     },
     "metadata": {},
     "output_type": "display_data"
    },
    {
     "data": {
      "text/html": [
       "\n",
       "        <div id=\"MFWSf3ACBXsxfz3ybvzuQX\"></div>\n",
       "        <script>netpixi.call('MFWSf3ACBXsxfz3ybvzuQX', '6TdJewpHMtn6cJBSwgXbcW', 'changeGraph', 'eyJpZCI6IDQ1LCAidHlwZSI6ICJ2ZXJ0ZXgiLCAicHJvcHMiOiB7ImNvbG9yIjogMTY3MTE2ODB9fQo=');</script>\n",
       "    "
      ],
      "text/plain": [
       "<IPython.core.display.HTML object>"
      ]
     },
     "metadata": {},
     "output_type": "display_data"
    },
    {
     "data": {
      "text/html": [
       "\n",
       "        <div id=\"EKHRBr55v5FmYWjpd6pwjf\"></div>\n",
       "        <script>netpixi.call('EKHRBr55v5FmYWjpd6pwjf', '6TdJewpHMtn6cJBSwgXbcW', 'changeGraph', 'eyJpZCI6IDQ2LCAidHlwZSI6ICJ2ZXJ0ZXgiLCAicHJvcHMiOiB7ImNvbG9yIjogMTY3MTE2ODB9fQo=');</script>\n",
       "    "
      ],
      "text/plain": [
       "<IPython.core.display.HTML object>"
      ]
     },
     "metadata": {},
     "output_type": "display_data"
    },
    {
     "data": {
      "text/html": [
       "\n",
       "        <div id=\"DRZojwLjRSUcy6uyezVouF\"></div>\n",
       "        <script>netpixi.call('DRZojwLjRSUcy6uyezVouF', '6TdJewpHMtn6cJBSwgXbcW', 'changeGraph', 'eyJpZCI6IDQ3LCAidHlwZSI6ICJ2ZXJ0ZXgiLCAicHJvcHMiOiB7ImNvbG9yIjogMTY3MTE2ODB9fQo=');</script>\n",
       "    "
      ],
      "text/plain": [
       "<IPython.core.display.HTML object>"
      ]
     },
     "metadata": {},
     "output_type": "display_data"
    },
    {
     "data": {
      "text/html": [
       "\n",
       "        <div id=\"GXmB7vfx6ePVTYbXrMAu9b\"></div>\n",
       "        <script>netpixi.call('GXmB7vfx6ePVTYbXrMAu9b', '6TdJewpHMtn6cJBSwgXbcW', 'changeGraph', 'eyJpZCI6IDQ4LCAidHlwZSI6ICJ2ZXJ0ZXgiLCAicHJvcHMiOiB7ImNvbG9yIjogNjUyODB9fQo=');</script>\n",
       "    "
      ],
      "text/plain": [
       "<IPython.core.display.HTML object>"
      ]
     },
     "metadata": {},
     "output_type": "display_data"
    },
    {
     "data": {
      "text/html": [
       "\n",
       "        <div id=\"RWgXQe4YcE73dfs3vsmisH\"></div>\n",
       "        <script>netpixi.call('RWgXQe4YcE73dfs3vsmisH', '6TdJewpHMtn6cJBSwgXbcW', 'changeGraph', 'eyJpZCI6IDQ5LCAidHlwZSI6ICJ2ZXJ0ZXgiLCAicHJvcHMiOiB7ImNvbG9yIjogMTY3MTE2ODB9fQo=');</script>\n",
       "    "
      ],
      "text/plain": [
       "<IPython.core.display.HTML object>"
      ]
     },
     "metadata": {},
     "output_type": "display_data"
    },
    {
     "data": {
      "text/html": [
       "\n",
       "        <div id=\"4pk2mbFRLNhvg7df5vd5nJ\"></div>\n",
       "        <script>netpixi.call('4pk2mbFRLNhvg7df5vd5nJ', '6TdJewpHMtn6cJBSwgXbcW', 'changeGraph', 'eyJpZCI6IDUwLCAidHlwZSI6ICJ2ZXJ0ZXgiLCAicHJvcHMiOiB7ImNvbG9yIjogNjUyODB9fQo=');</script>\n",
       "    "
      ],
      "text/plain": [
       "<IPython.core.display.HTML object>"
      ]
     },
     "metadata": {},
     "output_type": "display_data"
    },
    {
     "data": {
      "text/html": [
       "\n",
       "        <div id=\"akxMmdgu8U7bgWSkbgmxZf\"></div>\n",
       "        <script>netpixi.call('akxMmdgu8U7bgWSkbgmxZf', '6TdJewpHMtn6cJBSwgXbcW', 'changeGraph', 'eyJpZCI6IDUxLCAidHlwZSI6ICJ2ZXJ0ZXgiLCAicHJvcHMiOiB7ImNvbG9yIjogMTY3MTE2ODB9fQo=');</script>\n",
       "    "
      ],
      "text/plain": [
       "<IPython.core.display.HTML object>"
      ]
     },
     "metadata": {},
     "output_type": "display_data"
    },
    {
     "data": {
      "text/html": [
       "\n",
       "        <div id=\"Ax34g4hCbjLEsRpoyjyXyC\"></div>\n",
       "        <script>netpixi.call('Ax34g4hCbjLEsRpoyjyXyC', '6TdJewpHMtn6cJBSwgXbcW', 'changeGraph', 'eyJpZCI6IDUyLCAidHlwZSI6ICJ2ZXJ0ZXgiLCAicHJvcHMiOiB7ImNvbG9yIjogNjUyODB9fQo=');</script>\n",
       "    "
      ],
      "text/plain": [
       "<IPython.core.display.HTML object>"
      ]
     },
     "metadata": {},
     "output_type": "display_data"
    },
    {
     "data": {
      "text/html": [
       "\n",
       "        <div id=\"kJLgHSPMWsMiACRD3xDmER\"></div>\n",
       "        <script>netpixi.call('kJLgHSPMWsMiACRD3xDmER', '6TdJewpHMtn6cJBSwgXbcW', 'changeGraph', 'eyJpZCI6IDUzLCAidHlwZSI6ICJ2ZXJ0ZXgiLCAicHJvcHMiOiB7ImNvbG9yIjogMTY3MTE2ODB9fQo=');</script>\n",
       "    "
      ],
      "text/plain": [
       "<IPython.core.display.HTML object>"
      ]
     },
     "metadata": {},
     "output_type": "display_data"
    },
    {
     "data": {
      "text/html": [
       "\n",
       "        <div id=\"fQGiLT4hRQkvRyMTLg9YYn\"></div>\n",
       "        <script>netpixi.call('fQGiLT4hRQkvRyMTLg9YYn', '6TdJewpHMtn6cJBSwgXbcW', 'changeGraph', 'eyJpZCI6IDU0LCAidHlwZSI6ICJ2ZXJ0ZXgiLCAicHJvcHMiOiB7ImNvbG9yIjogMTY3MTE2ODB9fQo=');</script>\n",
       "    "
      ],
      "text/plain": [
       "<IPython.core.display.HTML object>"
      ]
     },
     "metadata": {},
     "output_type": "display_data"
    },
    {
     "data": {
      "text/html": [
       "\n",
       "        <div id=\"T96yeBYeY2Sv62MToEuqCA\"></div>\n",
       "        <script>netpixi.call('T96yeBYeY2Sv62MToEuqCA', '6TdJewpHMtn6cJBSwgXbcW', 'changeGraph', 'eyJpZCI6IDU1LCAidHlwZSI6ICJ2ZXJ0ZXgiLCAicHJvcHMiOiB7ImNvbG9yIjogNjUyODB9fQo=');</script>\n",
       "    "
      ],
      "text/plain": [
       "<IPython.core.display.HTML object>"
      ]
     },
     "metadata": {},
     "output_type": "display_data"
    },
    {
     "data": {
      "text/html": [
       "\n",
       "        <div id=\"Noa4qEMUvLfPvjbWR5uPeR\"></div>\n",
       "        <script>netpixi.call('Noa4qEMUvLfPvjbWR5uPeR', '6TdJewpHMtn6cJBSwgXbcW', 'changeGraph', 'eyJpZCI6IDU2LCAidHlwZSI6ICJ2ZXJ0ZXgiLCAicHJvcHMiOiB7ImNvbG9yIjogNjUyODB9fQo=');</script>\n",
       "    "
      ],
      "text/plain": [
       "<IPython.core.display.HTML object>"
      ]
     },
     "metadata": {},
     "output_type": "display_data"
    },
    {
     "data": {
      "text/html": [
       "\n",
       "        <div id=\"CexKxVy32fFZVAMTAEyVV4\"></div>\n",
       "        <script>netpixi.call('CexKxVy32fFZVAMTAEyVV4', '6TdJewpHMtn6cJBSwgXbcW', 'changeGraph', 'eyJpZCI6IDU3LCAidHlwZSI6ICJ2ZXJ0ZXgiLCAicHJvcHMiOiB7ImNvbG9yIjogNjUyODB9fQo=');</script>\n",
       "    "
      ],
      "text/plain": [
       "<IPython.core.display.HTML object>"
      ]
     },
     "metadata": {},
     "output_type": "display_data"
    },
    {
     "data": {
      "text/html": [
       "\n",
       "        <div id=\"4hTjtq5U9BAQeShKZ4knNS\"></div>\n",
       "        <script>netpixi.call('4hTjtq5U9BAQeShKZ4knNS', '6TdJewpHMtn6cJBSwgXbcW', 'changeGraph', 'eyJpZCI6IDU4LCAidHlwZSI6ICJ2ZXJ0ZXgiLCAicHJvcHMiOiB7ImNvbG9yIjogMTY3MTE2ODB9fQo=');</script>\n",
       "    "
      ],
      "text/plain": [
       "<IPython.core.display.HTML object>"
      ]
     },
     "metadata": {},
     "output_type": "display_data"
    },
    {
     "data": {
      "text/html": [
       "\n",
       "        <div id=\"dKKfFTdhJkFrceRPKDQsyb\"></div>\n",
       "        <script>netpixi.call('dKKfFTdhJkFrceRPKDQsyb', '6TdJewpHMtn6cJBSwgXbcW', 'changeGraph', 'eyJpZCI6IDU5LCAidHlwZSI6ICJ2ZXJ0ZXgiLCAicHJvcHMiOiB7ImNvbG9yIjogNjUyODB9fQo=');</script>\n",
       "    "
      ],
      "text/plain": [
       "<IPython.core.display.HTML object>"
      ]
     },
     "metadata": {},
     "output_type": "display_data"
    },
    {
     "data": {
      "text/html": [
       "\n",
       "        <div id=\"njKdGdrmeiH2N8jebdtSFi\"></div>\n",
       "        <script>netpixi.call('njKdGdrmeiH2N8jebdtSFi', '6TdJewpHMtn6cJBSwgXbcW', 'changeGraph', 'eyJpZCI6IDYwLCAidHlwZSI6ICJ2ZXJ0ZXgiLCAicHJvcHMiOiB7ImNvbG9yIjogNjUyODB9fQo=');</script>\n",
       "    "
      ],
      "text/plain": [
       "<IPython.core.display.HTML object>"
      ]
     },
     "metadata": {},
     "output_type": "display_data"
    },
    {
     "data": {
      "text/html": [
       "\n",
       "        <div id=\"NCFjz3jQvX5C2Kxb7rCYBw\"></div>\n",
       "        <script>netpixi.call('NCFjz3jQvX5C2Kxb7rCYBw', '6TdJewpHMtn6cJBSwgXbcW', 'changeGraph', 'eyJpZCI6IDYxLCAidHlwZSI6ICJ2ZXJ0ZXgiLCAicHJvcHMiOiB7ImNvbG9yIjogMTY3MTE2ODB9fQo=');</script>\n",
       "    "
      ],
      "text/plain": [
       "<IPython.core.display.HTML object>"
      ]
     },
     "metadata": {},
     "output_type": "display_data"
    },
    {
     "data": {
      "text/html": [
       "\n",
       "        <div id=\"U3FZFjFcB3QBcC5e7KxSpn\"></div>\n",
       "        <script>netpixi.call('U3FZFjFcB3QBcC5e7KxSpn', '6TdJewpHMtn6cJBSwgXbcW', 'changeGraph', 'eyJpZCI6IDYyLCAidHlwZSI6ICJ2ZXJ0ZXgiLCAicHJvcHMiOiB7ImNvbG9yIjogMTY3MTE2ODB9fQo=');</script>\n",
       "    "
      ],
      "text/plain": [
       "<IPython.core.display.HTML object>"
      ]
     },
     "metadata": {},
     "output_type": "display_data"
    },
    {
     "data": {
      "text/html": [
       "\n",
       "        <div id=\"GAPEW2avmHZVw83FAuy4Nn\"></div>\n",
       "        <script>netpixi.call('GAPEW2avmHZVw83FAuy4Nn', '6TdJewpHMtn6cJBSwgXbcW', 'changeGraph', 'eyJpZCI6IDYzLCAidHlwZSI6ICJ2ZXJ0ZXgiLCAicHJvcHMiOiB7ImNvbG9yIjogNjUyODB9fQo=');</script>\n",
       "    "
      ],
      "text/plain": [
       "<IPython.core.display.HTML object>"
      ]
     },
     "metadata": {},
     "output_type": "display_data"
    },
    {
     "data": {
      "text/html": [
       "\n",
       "        <div id=\"CprtjBzqvm72FMrCxJbnS9\"></div>\n",
       "        <script>netpixi.call('CprtjBzqvm72FMrCxJbnS9', '6TdJewpHMtn6cJBSwgXbcW', 'changeGraph', 'eyJpZCI6IDY0LCAidHlwZSI6ICJ2ZXJ0ZXgiLCAicHJvcHMiOiB7ImNvbG9yIjogMTY3MTE2ODB9fQo=');</script>\n",
       "    "
      ],
      "text/plain": [
       "<IPython.core.display.HTML object>"
      ]
     },
     "metadata": {},
     "output_type": "display_data"
    },
    {
     "data": {
      "text/html": [
       "\n",
       "        <div id=\"PFJA5kF94V8PQmfzWkb8UH\"></div>\n",
       "        <script>netpixi.call('PFJA5kF94V8PQmfzWkb8UH', '6TdJewpHMtn6cJBSwgXbcW', 'changeGraph', 'eyJpZCI6IDY1LCAidHlwZSI6ICJ2ZXJ0ZXgiLCAicHJvcHMiOiB7ImNvbG9yIjogMTY3MTE2ODB9fQo=');</script>\n",
       "    "
      ],
      "text/plain": [
       "<IPython.core.display.HTML object>"
      ]
     },
     "metadata": {},
     "output_type": "display_data"
    },
    {
     "data": {
      "text/html": [
       "\n",
       "        <div id=\"f5N8mRo99TDBv8PBJNiXQo\"></div>\n",
       "        <script>netpixi.call('f5N8mRo99TDBv8PBJNiXQo', '6TdJewpHMtn6cJBSwgXbcW', 'changeGraph', 'eyJpZCI6IDY2LCAidHlwZSI6ICJ2ZXJ0ZXgiLCAicHJvcHMiOiB7ImNvbG9yIjogNjUyODB9fQo=');</script>\n",
       "    "
      ],
      "text/plain": [
       "<IPython.core.display.HTML object>"
      ]
     },
     "metadata": {},
     "output_type": "display_data"
    },
    {
     "data": {
      "text/html": [
       "\n",
       "        <div id=\"QHY3FKA2ZQguADbcfHZzWv\"></div>\n",
       "        <script>netpixi.call('QHY3FKA2ZQguADbcfHZzWv', '6TdJewpHMtn6cJBSwgXbcW', 'changeGraph', 'eyJpZCI6IDY3LCAidHlwZSI6ICJ2ZXJ0ZXgiLCAicHJvcHMiOiB7ImNvbG9yIjogMTY3MTE2ODB9fQo=');</script>\n",
       "    "
      ],
      "text/plain": [
       "<IPython.core.display.HTML object>"
      ]
     },
     "metadata": {},
     "output_type": "display_data"
    },
    {
     "data": {
      "text/html": [
       "\n",
       "        <div id=\"fYQUDt5tdAKvBvhWNV3dLd\"></div>\n",
       "        <script>netpixi.call('fYQUDt5tdAKvBvhWNV3dLd', '6TdJewpHMtn6cJBSwgXbcW', 'changeGraph', 'eyJpZCI6IDY4LCAidHlwZSI6ICJ2ZXJ0ZXgiLCAicHJvcHMiOiB7ImNvbG9yIjogNjUyODB9fQo=');</script>\n",
       "    "
      ],
      "text/plain": [
       "<IPython.core.display.HTML object>"
      ]
     },
     "metadata": {},
     "output_type": "display_data"
    },
    {
     "data": {
      "text/html": [
       "\n",
       "        <div id=\"PVZw92742gbQRx92666yDc\"></div>\n",
       "        <script>netpixi.call('PVZw92742gbQRx92666yDc', '6TdJewpHMtn6cJBSwgXbcW', 'changeGraph', 'eyJpZCI6IDY5LCAidHlwZSI6ICJ2ZXJ0ZXgiLCAicHJvcHMiOiB7ImNvbG9yIjogNjUyODB9fQo=');</script>\n",
       "    "
      ],
      "text/plain": [
       "<IPython.core.display.HTML object>"
      ]
     },
     "metadata": {},
     "output_type": "display_data"
    },
    {
     "data": {
      "text/html": [
       "\n",
       "        <div id=\"9cC3P28iXQFobPvFGjkfg6\"></div>\n",
       "        <script>netpixi.call('9cC3P28iXQFobPvFGjkfg6', '6TdJewpHMtn6cJBSwgXbcW', 'changeGraph', 'eyJpZCI6IDcwLCAidHlwZSI6ICJ2ZXJ0ZXgiLCAicHJvcHMiOiB7ImNvbG9yIjogNjUyODB9fQo=');</script>\n",
       "    "
      ],
      "text/plain": [
       "<IPython.core.display.HTML object>"
      ]
     },
     "metadata": {},
     "output_type": "display_data"
    },
    {
     "data": {
      "text/html": [
       "\n",
       "        <div id=\"2BFDRh4js6tGe266Ssr2q3\"></div>\n",
       "        <script>netpixi.call('2BFDRh4js6tGe266Ssr2q3', '6TdJewpHMtn6cJBSwgXbcW', 'changeGraph', 'eyJpZCI6IDcxLCAidHlwZSI6ICJ2ZXJ0ZXgiLCAicHJvcHMiOiB7ImNvbG9yIjogMTY3MTE2ODB9fQo=');</script>\n",
       "    "
      ],
      "text/plain": [
       "<IPython.core.display.HTML object>"
      ]
     },
     "metadata": {},
     "output_type": "display_data"
    },
    {
     "data": {
      "text/html": [
       "\n",
       "        <div id=\"7sPjRcHJEC8fYzLMGyMgQ4\"></div>\n",
       "        <script>netpixi.call('7sPjRcHJEC8fYzLMGyMgQ4', '6TdJewpHMtn6cJBSwgXbcW', 'changeGraph', 'eyJpZCI6IDcyLCAidHlwZSI6ICJ2ZXJ0ZXgiLCAicHJvcHMiOiB7ImNvbG9yIjogMTY3MTE2ODB9fQo=');</script>\n",
       "    "
      ],
      "text/plain": [
       "<IPython.core.display.HTML object>"
      ]
     },
     "metadata": {},
     "output_type": "display_data"
    },
    {
     "data": {
      "text/html": [
       "\n",
       "        <div id=\"WekkB7wPbDcG4c6xdxZcQS\"></div>\n",
       "        <script>netpixi.call('WekkB7wPbDcG4c6xdxZcQS', '6TdJewpHMtn6cJBSwgXbcW', 'changeGraph', 'eyJpZCI6IDczLCAidHlwZSI6ICJ2ZXJ0ZXgiLCAicHJvcHMiOiB7ImNvbG9yIjogMTY3MTE2ODB9fQo=');</script>\n",
       "    "
      ],
      "text/plain": [
       "<IPython.core.display.HTML object>"
      ]
     },
     "metadata": {},
     "output_type": "display_data"
    },
    {
     "data": {
      "text/html": [
       "\n",
       "        <div id=\"T6Yb7teHazbDM5N56uEbSe\"></div>\n",
       "        <script>netpixi.call('T6Yb7teHazbDM5N56uEbSe', '6TdJewpHMtn6cJBSwgXbcW', 'changeGraph', 'eyJpZCI6IDc0LCAidHlwZSI6ICJ2ZXJ0ZXgiLCAicHJvcHMiOiB7ImNvbG9yIjogNjUyODB9fQo=');</script>\n",
       "    "
      ],
      "text/plain": [
       "<IPython.core.display.HTML object>"
      ]
     },
     "metadata": {},
     "output_type": "display_data"
    },
    {
     "data": {
      "text/html": [
       "\n",
       "        <div id=\"VNsnHEqaYw3wa9B3GDtpMK\"></div>\n",
       "        <script>netpixi.call('VNsnHEqaYw3wa9B3GDtpMK', '6TdJewpHMtn6cJBSwgXbcW', 'changeGraph', 'eyJpZCI6IDc1LCAidHlwZSI6ICJ2ZXJ0ZXgiLCAicHJvcHMiOiB7ImNvbG9yIjogMTY3MTE2ODB9fQo=');</script>\n",
       "    "
      ],
      "text/plain": [
       "<IPython.core.display.HTML object>"
      ]
     },
     "metadata": {},
     "output_type": "display_data"
    },
    {
     "data": {
      "text/html": [
       "\n",
       "        <div id=\"cPFnW3NAskys7FYvfhsaZP\"></div>\n",
       "        <script>netpixi.call('cPFnW3NAskys7FYvfhsaZP', '6TdJewpHMtn6cJBSwgXbcW', 'changeGraph', 'eyJpZCI6IDc2LCAidHlwZSI6ICJ2ZXJ0ZXgiLCAicHJvcHMiOiB7ImNvbG9yIjogMTY3MTE2ODB9fQo=');</script>\n",
       "    "
      ],
      "text/plain": [
       "<IPython.core.display.HTML object>"
      ]
     },
     "metadata": {},
     "output_type": "display_data"
    },
    {
     "data": {
      "text/html": [
       "\n",
       "        <div id=\"3yfvhKBoygbK54nr8hZBKC\"></div>\n",
       "        <script>netpixi.call('3yfvhKBoygbK54nr8hZBKC', '6TdJewpHMtn6cJBSwgXbcW', 'changeGraph', 'eyJpZCI6IDc3LCAidHlwZSI6ICJ2ZXJ0ZXgiLCAicHJvcHMiOiB7ImNvbG9yIjogMTY3MTE2ODB9fQo=');</script>\n",
       "    "
      ],
      "text/plain": [
       "<IPython.core.display.HTML object>"
      ]
     },
     "metadata": {},
     "output_type": "display_data"
    },
    {
     "data": {
      "text/html": [
       "\n",
       "        <div id=\"frFW65soCHBfb9D2PnzQLz\"></div>\n",
       "        <script>netpixi.call('frFW65soCHBfb9D2PnzQLz', '6TdJewpHMtn6cJBSwgXbcW', 'changeGraph', 'eyJpZCI6IDc4LCAidHlwZSI6ICJ2ZXJ0ZXgiLCAicHJvcHMiOiB7ImNvbG9yIjogNjUyODB9fQo=');</script>\n",
       "    "
      ],
      "text/plain": [
       "<IPython.core.display.HTML object>"
      ]
     },
     "metadata": {},
     "output_type": "display_data"
    },
    {
     "data": {
      "text/html": [
       "\n",
       "        <div id=\"bZ447dxyZf4Q46RNFV9a5Q\"></div>\n",
       "        <script>netpixi.call('bZ447dxyZf4Q46RNFV9a5Q', '6TdJewpHMtn6cJBSwgXbcW', 'changeGraph', 'eyJpZCI6IDc5LCAidHlwZSI6ICJ2ZXJ0ZXgiLCAicHJvcHMiOiB7ImNvbG9yIjogMTY3MTE2ODB9fQo=');</script>\n",
       "    "
      ],
      "text/plain": [
       "<IPython.core.display.HTML object>"
      ]
     },
     "metadata": {},
     "output_type": "display_data"
    },
    {
     "data": {
      "text/html": [
       "\n",
       "        <div id=\"9GAmNCe3Dz4XECtkBFwXrm\"></div>\n",
       "        <script>netpixi.call('9GAmNCe3Dz4XECtkBFwXrm', '6TdJewpHMtn6cJBSwgXbcW', 'changeGraph', 'eyJpZCI6IDgwLCAidHlwZSI6ICJ2ZXJ0ZXgiLCAicHJvcHMiOiB7ImNvbG9yIjogMTY3MTE2ODB9fQo=');</script>\n",
       "    "
      ],
      "text/plain": [
       "<IPython.core.display.HTML object>"
      ]
     },
     "metadata": {},
     "output_type": "display_data"
    },
    {
     "data": {
      "text/html": [
       "\n",
       "        <div id=\"YER2CULPGscYVMRBPhrTFb\"></div>\n",
       "        <script>netpixi.call('YER2CULPGscYVMRBPhrTFb', '6TdJewpHMtn6cJBSwgXbcW', 'changeGraph', 'eyJpZCI6IDgxLCAidHlwZSI6ICJ2ZXJ0ZXgiLCAicHJvcHMiOiB7ImNvbG9yIjogNjUyODB9fQo=');</script>\n",
       "    "
      ],
      "text/plain": [
       "<IPython.core.display.HTML object>"
      ]
     },
     "metadata": {},
     "output_type": "display_data"
    },
    {
     "data": {
      "text/html": [
       "\n",
       "        <div id=\"JCxUKTnN3vUUpGTQrzQi7A\"></div>\n",
       "        <script>netpixi.call('JCxUKTnN3vUUpGTQrzQi7A', '6TdJewpHMtn6cJBSwgXbcW', 'changeGraph', 'eyJpZCI6IDgyLCAidHlwZSI6ICJ2ZXJ0ZXgiLCAicHJvcHMiOiB7ImNvbG9yIjogMTY3MTE2ODB9fQo=');</script>\n",
       "    "
      ],
      "text/plain": [
       "<IPython.core.display.HTML object>"
      ]
     },
     "metadata": {},
     "output_type": "display_data"
    },
    {
     "data": {
      "text/html": [
       "\n",
       "        <div id=\"6bSu9W9giHvmmfsdMcPYTJ\"></div>\n",
       "        <script>netpixi.call('6bSu9W9giHvmmfsdMcPYTJ', '6TdJewpHMtn6cJBSwgXbcW', 'changeGraph', 'eyJpZCI6IDgzLCAidHlwZSI6ICJ2ZXJ0ZXgiLCAicHJvcHMiOiB7ImNvbG9yIjogNjUyODB9fQo=');</script>\n",
       "    "
      ],
      "text/plain": [
       "<IPython.core.display.HTML object>"
      ]
     },
     "metadata": {},
     "output_type": "display_data"
    },
    {
     "data": {
      "text/html": [
       "\n",
       "        <div id=\"JogcdaEg3mzZJzu6bA23y2\"></div>\n",
       "        <script>netpixi.call('JogcdaEg3mzZJzu6bA23y2', '6TdJewpHMtn6cJBSwgXbcW', 'changeGraph', 'eyJpZCI6IDg0LCAidHlwZSI6ICJ2ZXJ0ZXgiLCAicHJvcHMiOiB7ImNvbG9yIjogNjUyODB9fQo=');</script>\n",
       "    "
      ],
      "text/plain": [
       "<IPython.core.display.HTML object>"
      ]
     },
     "metadata": {},
     "output_type": "display_data"
    },
    {
     "data": {
      "text/html": [
       "\n",
       "        <div id=\"cZ5vwVZV2NvH8QUhtXoavN\"></div>\n",
       "        <script>netpixi.call('cZ5vwVZV2NvH8QUhtXoavN', '6TdJewpHMtn6cJBSwgXbcW', 'changeGraph', 'eyJpZCI6IDg1LCAidHlwZSI6ICJ2ZXJ0ZXgiLCAicHJvcHMiOiB7ImNvbG9yIjogMTY3MTE2ODB9fQo=');</script>\n",
       "    "
      ],
      "text/plain": [
       "<IPython.core.display.HTML object>"
      ]
     },
     "metadata": {},
     "output_type": "display_data"
    },
    {
     "data": {
      "text/html": [
       "\n",
       "        <div id=\"TDLuGZVZaSjtE2XNw8JWZY\"></div>\n",
       "        <script>netpixi.call('TDLuGZVZaSjtE2XNw8JWZY', '6TdJewpHMtn6cJBSwgXbcW', 'changeGraph', 'eyJpZCI6IDg2LCAidHlwZSI6ICJ2ZXJ0ZXgiLCAicHJvcHMiOiB7ImNvbG9yIjogNjUyODB9fQo=');</script>\n",
       "    "
      ],
      "text/plain": [
       "<IPython.core.display.HTML object>"
      ]
     },
     "metadata": {},
     "output_type": "display_data"
    },
    {
     "data": {
      "text/html": [
       "\n",
       "        <div id=\"hqjDP7YHmsR3Yce3k6awhK\"></div>\n",
       "        <script>netpixi.call('hqjDP7YHmsR3Yce3k6awhK', '6TdJewpHMtn6cJBSwgXbcW', 'changeGraph', 'eyJpZCI6IDg3LCAidHlwZSI6ICJ2ZXJ0ZXgiLCAicHJvcHMiOiB7ImNvbG9yIjogMTY3MTE2ODB9fQo=');</script>\n",
       "    "
      ],
      "text/plain": [
       "<IPython.core.display.HTML object>"
      ]
     },
     "metadata": {},
     "output_type": "display_data"
    },
    {
     "data": {
      "text/html": [
       "\n",
       "        <div id=\"G5P9MMN3RQphGMb7zyysQ6\"></div>\n",
       "        <script>netpixi.call('G5P9MMN3RQphGMb7zyysQ6', '6TdJewpHMtn6cJBSwgXbcW', 'changeGraph', 'eyJpZCI6IDg4LCAidHlwZSI6ICJ2ZXJ0ZXgiLCAicHJvcHMiOiB7ImNvbG9yIjogMTY3MTE2ODB9fQo=');</script>\n",
       "    "
      ],
      "text/plain": [
       "<IPython.core.display.HTML object>"
      ]
     },
     "metadata": {},
     "output_type": "display_data"
    },
    {
     "data": {
      "text/html": [
       "\n",
       "        <div id=\"SiUwutxioqrL8DbYuoA73e\"></div>\n",
       "        <script>netpixi.call('SiUwutxioqrL8DbYuoA73e', '6TdJewpHMtn6cJBSwgXbcW', 'changeGraph', 'eyJpZCI6IDg5LCAidHlwZSI6ICJ2ZXJ0ZXgiLCAicHJvcHMiOiB7ImNvbG9yIjogMTY3MTE2ODB9fQo=');</script>\n",
       "    "
      ],
      "text/plain": [
       "<IPython.core.display.HTML object>"
      ]
     },
     "metadata": {},
     "output_type": "display_data"
    },
    {
     "data": {
      "text/html": [
       "\n",
       "        <div id=\"Nr5YQLo5XAW6bj3QZFFt3C\"></div>\n",
       "        <script>netpixi.call('Nr5YQLo5XAW6bj3QZFFt3C', '6TdJewpHMtn6cJBSwgXbcW', 'changeGraph', 'eyJpZCI6IDkwLCAidHlwZSI6ICJ2ZXJ0ZXgiLCAicHJvcHMiOiB7ImNvbG9yIjogMTY3MTE2ODB9fQo=');</script>\n",
       "    "
      ],
      "text/plain": [
       "<IPython.core.display.HTML object>"
      ]
     },
     "metadata": {},
     "output_type": "display_data"
    },
    {
     "data": {
      "text/html": [
       "\n",
       "        <div id=\"GnFTuvgvPxt5fK45qypy8c\"></div>\n",
       "        <script>netpixi.call('GnFTuvgvPxt5fK45qypy8c', '6TdJewpHMtn6cJBSwgXbcW', 'changeGraph', 'eyJpZCI6IDkxLCAidHlwZSI6ICJ2ZXJ0ZXgiLCAicHJvcHMiOiB7ImNvbG9yIjogNjUyODB9fQo=');</script>\n",
       "    "
      ],
      "text/plain": [
       "<IPython.core.display.HTML object>"
      ]
     },
     "metadata": {},
     "output_type": "display_data"
    },
    {
     "data": {
      "text/html": [
       "\n",
       "        <div id=\"GZ6kAScZUaauihPsDUg2yh\"></div>\n",
       "        <script>netpixi.call('GZ6kAScZUaauihPsDUg2yh', '6TdJewpHMtn6cJBSwgXbcW', 'changeGraph', 'eyJpZCI6IDkyLCAidHlwZSI6ICJ2ZXJ0ZXgiLCAicHJvcHMiOiB7ImNvbG9yIjogNjUyODB9fQo=');</script>\n",
       "    "
      ],
      "text/plain": [
       "<IPython.core.display.HTML object>"
      ]
     },
     "metadata": {},
     "output_type": "display_data"
    },
    {
     "data": {
      "text/html": [
       "\n",
       "        <div id=\"SpdDTwvnKHCZEYeofwgMz7\"></div>\n",
       "        <script>netpixi.call('SpdDTwvnKHCZEYeofwgMz7', '6TdJewpHMtn6cJBSwgXbcW', 'changeGraph', 'eyJpZCI6IDkzLCAidHlwZSI6ICJ2ZXJ0ZXgiLCAicHJvcHMiOiB7ImNvbG9yIjogNjUyODB9fQo=');</script>\n",
       "    "
      ],
      "text/plain": [
       "<IPython.core.display.HTML object>"
      ]
     },
     "metadata": {},
     "output_type": "display_data"
    },
    {
     "data": {
      "text/html": [
       "\n",
       "        <div id=\"bG9C97JM9xoZrPj3ckbmgt\"></div>\n",
       "        <script>netpixi.call('bG9C97JM9xoZrPj3ckbmgt', '6TdJewpHMtn6cJBSwgXbcW', 'changeGraph', 'eyJpZCI6IDk0LCAidHlwZSI6ICJ2ZXJ0ZXgiLCAicHJvcHMiOiB7ImNvbG9yIjogMTY3MTE2ODB9fQo=');</script>\n",
       "    "
      ],
      "text/plain": [
       "<IPython.core.display.HTML object>"
      ]
     },
     "metadata": {},
     "output_type": "display_data"
    },
    {
     "data": {
      "text/html": [
       "\n",
       "        <div id=\"PeaHnVikHDABWVDB7BdXqU\"></div>\n",
       "        <script>netpixi.call('PeaHnVikHDABWVDB7BdXqU', '6TdJewpHMtn6cJBSwgXbcW', 'changeGraph', 'eyJpZCI6IDk1LCAidHlwZSI6ICJ2ZXJ0ZXgiLCAicHJvcHMiOiB7ImNvbG9yIjogNjUyODB9fQo=');</script>\n",
       "    "
      ],
      "text/plain": [
       "<IPython.core.display.HTML object>"
      ]
     },
     "metadata": {},
     "output_type": "display_data"
    },
    {
     "data": {
      "text/html": [
       "\n",
       "        <div id=\"LMPjUm88jrvP9L6AiVaE9M\"></div>\n",
       "        <script>netpixi.call('LMPjUm88jrvP9L6AiVaE9M', '6TdJewpHMtn6cJBSwgXbcW', 'changeGraph', 'eyJpZCI6IDk2LCAidHlwZSI6ICJ2ZXJ0ZXgiLCAicHJvcHMiOiB7ImNvbG9yIjogMTY3MTE2ODB9fQo=');</script>\n",
       "    "
      ],
      "text/plain": [
       "<IPython.core.display.HTML object>"
      ]
     },
     "metadata": {},
     "output_type": "display_data"
    },
    {
     "data": {
      "text/html": [
       "\n",
       "        <div id=\"3PuSGxweLmHkGQ7Sfk8VsT\"></div>\n",
       "        <script>netpixi.call('3PuSGxweLmHkGQ7Sfk8VsT', '6TdJewpHMtn6cJBSwgXbcW', 'changeGraph', 'eyJpZCI6IDk3LCAidHlwZSI6ICJ2ZXJ0ZXgiLCAicHJvcHMiOiB7ImNvbG9yIjogNjUyODB9fQo=');</script>\n",
       "    "
      ],
      "text/plain": [
       "<IPython.core.display.HTML object>"
      ]
     },
     "metadata": {},
     "output_type": "display_data"
    },
    {
     "data": {
      "text/html": [
       "\n",
       "        <div id=\"GX8mEum2PJgSDWu3WUspRK\"></div>\n",
       "        <script>netpixi.call('GX8mEum2PJgSDWu3WUspRK', '6TdJewpHMtn6cJBSwgXbcW', 'changeGraph', 'eyJpZCI6IDk4LCAidHlwZSI6ICJ2ZXJ0ZXgiLCAicHJvcHMiOiB7ImNvbG9yIjogNjUyODB9fQo=');</script>\n",
       "    "
      ],
      "text/plain": [
       "<IPython.core.display.HTML object>"
      ]
     },
     "metadata": {},
     "output_type": "display_data"
    },
    {
     "data": {
      "text/html": [
       "\n",
       "        <div id=\"P9dVkuNFMVXqUKgqTV5A9G\"></div>\n",
       "        <script>netpixi.call('P9dVkuNFMVXqUKgqTV5A9G', '6TdJewpHMtn6cJBSwgXbcW', 'changeGraph', 'eyJpZCI6IDk5LCAidHlwZSI6ICJ2ZXJ0ZXgiLCAicHJvcHMiOiB7ImNvbG9yIjogNjUyODB9fQo=');</script>\n",
       "    "
      ],
      "text/plain": [
       "<IPython.core.display.HTML object>"
      ]
     },
     "metadata": {},
     "output_type": "display_data"
    },
    {
     "data": {
      "text/html": [
       "\n",
       "        <div id=\"4RCk9RZwAKADbcvdzwm4Ei\"></div>\n",
       "        <script>netpixi.call('4RCk9RZwAKADbcvdzwm4Ei', '6TdJewpHMtn6cJBSwgXbcW', 'changeGraph', 'eyJpZCI6IDEwMCwgInR5cGUiOiAidmVydGV4IiwgInByb3BzIjogeyJjb2xvciI6IDE2NzExNjgwfX0K');</script>\n",
       "    "
      ],
      "text/plain": [
       "<IPython.core.display.HTML object>"
      ]
     },
     "metadata": {},
     "output_type": "display_data"
    },
    {
     "data": {
      "text/html": [
       "\n",
       "        <div id=\"9k2YTmaapaGzpjHpoDbMGA\"></div>\n",
       "        <script>netpixi.call('9k2YTmaapaGzpjHpoDbMGA', '6TdJewpHMtn6cJBSwgXbcW', 'changeGraph', 'eyJpZCI6IDEwMSwgInR5cGUiOiAidmVydGV4IiwgInByb3BzIjogeyJjb2xvciI6IDY1MjgwfX0K');</script>\n",
       "    "
      ],
      "text/plain": [
       "<IPython.core.display.HTML object>"
      ]
     },
     "metadata": {},
     "output_type": "display_data"
    },
    {
     "data": {
      "text/html": [
       "\n",
       "        <div id=\"A8eHFREYZrNaCGGPM56C6h\"></div>\n",
       "        <script>netpixi.call('A8eHFREYZrNaCGGPM56C6h', '6TdJewpHMtn6cJBSwgXbcW', 'changeGraph', 'eyJpZCI6IDEwMiwgInR5cGUiOiAidmVydGV4IiwgInByb3BzIjogeyJjb2xvciI6IDY1MjgwfX0K');</script>\n",
       "    "
      ],
      "text/plain": [
       "<IPython.core.display.HTML object>"
      ]
     },
     "metadata": {},
     "output_type": "display_data"
    },
    {
     "data": {
      "text/html": [
       "\n",
       "        <div id=\"UCFDVGxPeEpHdGAPG5PNWp\"></div>\n",
       "        <script>netpixi.call('UCFDVGxPeEpHdGAPG5PNWp', '6TdJewpHMtn6cJBSwgXbcW', 'changeGraph', 'eyJpZCI6IDEwMywgInR5cGUiOiAidmVydGV4IiwgInByb3BzIjogeyJjb2xvciI6IDE2NzExNjgwfX0K');</script>\n",
       "    "
      ],
      "text/plain": [
       "<IPython.core.display.HTML object>"
      ]
     },
     "metadata": {},
     "output_type": "display_data"
    },
    {
     "data": {
      "text/html": [
       "\n",
       "        <div id=\"BP9rBo5xh6ZT3dx5fc85jx\"></div>\n",
       "        <script>netpixi.call('BP9rBo5xh6ZT3dx5fc85jx', '6TdJewpHMtn6cJBSwgXbcW', 'changeGraph', 'eyJpZCI6IDEwNCwgInR5cGUiOiAidmVydGV4IiwgInByb3BzIjogeyJjb2xvciI6IDE2NzExNjgwfX0K');</script>\n",
       "    "
      ],
      "text/plain": [
       "<IPython.core.display.HTML object>"
      ]
     },
     "metadata": {},
     "output_type": "display_data"
    },
    {
     "data": {
      "text/html": [
       "\n",
       "        <div id=\"D7iszEhTWSfzStxotKvkXd\"></div>\n",
       "        <script>netpixi.call('D7iszEhTWSfzStxotKvkXd', '6TdJewpHMtn6cJBSwgXbcW', 'changeGraph', 'eyJpZCI6IDEwNSwgInR5cGUiOiAidmVydGV4IiwgInByb3BzIjogeyJjb2xvciI6IDE2NzExNjgwfX0K');</script>\n",
       "    "
      ],
      "text/plain": [
       "<IPython.core.display.HTML object>"
      ]
     },
     "metadata": {},
     "output_type": "display_data"
    },
    {
     "data": {
      "text/html": [
       "\n",
       "        <div id=\"gsSXAkH96RqmavNM2G3kkk\"></div>\n",
       "        <script>netpixi.call('gsSXAkH96RqmavNM2G3kkk', '6TdJewpHMtn6cJBSwgXbcW', 'changeGraph', 'eyJpZCI6IDEwNiwgInR5cGUiOiAidmVydGV4IiwgInByb3BzIjogeyJjb2xvciI6IDE2NzExNjgwfX0K');</script>\n",
       "    "
      ],
      "text/plain": [
       "<IPython.core.display.HTML object>"
      ]
     },
     "metadata": {},
     "output_type": "display_data"
    },
    {
     "data": {
      "text/html": [
       "\n",
       "        <div id=\"7hz9ehUpGhxwnDwPbPse4Y\"></div>\n",
       "        <script>netpixi.call('7hz9ehUpGhxwnDwPbPse4Y', '6TdJewpHMtn6cJBSwgXbcW', 'changeGraph', 'eyJpZCI6IDEwNywgInR5cGUiOiAidmVydGV4IiwgInByb3BzIjogeyJjb2xvciI6IDE2NzExNjgwfX0K');</script>\n",
       "    "
      ],
      "text/plain": [
       "<IPython.core.display.HTML object>"
      ]
     },
     "metadata": {},
     "output_type": "display_data"
    },
    {
     "data": {
      "text/html": [
       "\n",
       "        <div id=\"ZWdoLYxMPoeBJfNXyHpnbz\"></div>\n",
       "        <script>netpixi.call('ZWdoLYxMPoeBJfNXyHpnbz', '6TdJewpHMtn6cJBSwgXbcW', 'changeGraph', 'eyJpZCI6IDEwOCwgInR5cGUiOiAidmVydGV4IiwgInByb3BzIjogeyJjb2xvciI6IDY1MjgwfX0K');</script>\n",
       "    "
      ],
      "text/plain": [
       "<IPython.core.display.HTML object>"
      ]
     },
     "metadata": {},
     "output_type": "display_data"
    },
    {
     "data": {
      "text/html": [
       "\n",
       "        <div id=\"4T7tr7SBHPsFXfUEHU4U3o\"></div>\n",
       "        <script>netpixi.call('4T7tr7SBHPsFXfUEHU4U3o', '6TdJewpHMtn6cJBSwgXbcW', 'changeGraph', 'eyJpZCI6IDEwOSwgInR5cGUiOiAidmVydGV4IiwgInByb3BzIjogeyJjb2xvciI6IDE2NzExNjgwfX0K');</script>\n",
       "    "
      ],
      "text/plain": [
       "<IPython.core.display.HTML object>"
      ]
     },
     "metadata": {},
     "output_type": "display_data"
    },
    {
     "data": {
      "text/html": [
       "\n",
       "        <div id=\"J22Yhj65oiBwzFT3UCj3MN\"></div>\n",
       "        <script>netpixi.call('J22Yhj65oiBwzFT3UCj3MN', '6TdJewpHMtn6cJBSwgXbcW', 'changeGraph', 'eyJpZCI6IDExMCwgInR5cGUiOiAidmVydGV4IiwgInByb3BzIjogeyJjb2xvciI6IDE2NzExNjgwfX0K');</script>\n",
       "    "
      ],
      "text/plain": [
       "<IPython.core.display.HTML object>"
      ]
     },
     "metadata": {},
     "output_type": "display_data"
    },
    {
     "data": {
      "text/html": [
       "\n",
       "        <div id=\"nfwiFcCebE6gbrJLNSgxRY\"></div>\n",
       "        <script>netpixi.call('nfwiFcCebE6gbrJLNSgxRY', '6TdJewpHMtn6cJBSwgXbcW', 'changeGraph', 'eyJpZCI6IDExMSwgInR5cGUiOiAidmVydGV4IiwgInByb3BzIjogeyJjb2xvciI6IDE2NzExNjgwfX0K');</script>\n",
       "    "
      ],
      "text/plain": [
       "<IPython.core.display.HTML object>"
      ]
     },
     "metadata": {},
     "output_type": "display_data"
    },
    {
     "data": {
      "text/html": [
       "\n",
       "        <div id=\"YZCG7dwgEQa52FppJELxRg\"></div>\n",
       "        <script>netpixi.call('YZCG7dwgEQa52FppJELxRg', '6TdJewpHMtn6cJBSwgXbcW', 'changeGraph', 'eyJpZCI6IDExMiwgInR5cGUiOiAidmVydGV4IiwgInByb3BzIjogeyJjb2xvciI6IDE2NzExNjgwfX0K');</script>\n",
       "    "
      ],
      "text/plain": [
       "<IPython.core.display.HTML object>"
      ]
     },
     "metadata": {},
     "output_type": "display_data"
    },
    {
     "data": {
      "text/html": [
       "\n",
       "        <div id=\"YxNGNwJBuK9rqeisz2QakZ\"></div>\n",
       "        <script>netpixi.call('YxNGNwJBuK9rqeisz2QakZ', '6TdJewpHMtn6cJBSwgXbcW', 'changeGraph', 'eyJpZCI6IDExMywgInR5cGUiOiAidmVydGV4IiwgInByb3BzIjogeyJjb2xvciI6IDE2NzExNjgwfX0K');</script>\n",
       "    "
      ],
      "text/plain": [
       "<IPython.core.display.HTML object>"
      ]
     },
     "metadata": {},
     "output_type": "display_data"
    },
    {
     "data": {
      "text/html": [
       "\n",
       "        <div id=\"mpkststbjFfge4WmtifoUV\"></div>\n",
       "        <script>netpixi.call('mpkststbjFfge4WmtifoUV', '6TdJewpHMtn6cJBSwgXbcW', 'changeGraph', 'eyJpZCI6IDExNCwgInR5cGUiOiAidmVydGV4IiwgInByb3BzIjogeyJjb2xvciI6IDE2NzExNjgwfX0K');</script>\n",
       "    "
      ],
      "text/plain": [
       "<IPython.core.display.HTML object>"
      ]
     },
     "metadata": {},
     "output_type": "display_data"
    },
    {
     "data": {
      "text/html": [
       "\n",
       "        <div id=\"C8Df7tMT99emqDfgNXfBwQ\"></div>\n",
       "        <script>netpixi.call('C8Df7tMT99emqDfgNXfBwQ', '6TdJewpHMtn6cJBSwgXbcW', 'changeGraph', 'eyJpZCI6IDExNSwgInR5cGUiOiAidmVydGV4IiwgInByb3BzIjogeyJjb2xvciI6IDE2NzExNjgwfX0K');</script>\n",
       "    "
      ],
      "text/plain": [
       "<IPython.core.display.HTML object>"
      ]
     },
     "metadata": {},
     "output_type": "display_data"
    },
    {
     "data": {
      "text/html": [
       "\n",
       "        <div id=\"Hd25PdkTEwa2wYpoRpMQQj\"></div>\n",
       "        <script>netpixi.call('Hd25PdkTEwa2wYpoRpMQQj', '6TdJewpHMtn6cJBSwgXbcW', 'changeGraph', 'eyJpZCI6IDExNiwgInR5cGUiOiAidmVydGV4IiwgInByb3BzIjogeyJjb2xvciI6IDE2NzExNjgwfX0K');</script>\n",
       "    "
      ],
      "text/plain": [
       "<IPython.core.display.HTML object>"
      ]
     },
     "metadata": {},
     "output_type": "display_data"
    },
    {
     "data": {
      "text/html": [
       "\n",
       "        <div id=\"N852eNGBZyzBDAVYxcFc5N\"></div>\n",
       "        <script>netpixi.call('N852eNGBZyzBDAVYxcFc5N', '6TdJewpHMtn6cJBSwgXbcW', 'changeGraph', 'eyJpZCI6IDExNywgInR5cGUiOiAidmVydGV4IiwgInByb3BzIjogeyJjb2xvciI6IDY1MjgwfX0K');</script>\n",
       "    "
      ],
      "text/plain": [
       "<IPython.core.display.HTML object>"
      ]
     },
     "metadata": {},
     "output_type": "display_data"
    },
    {
     "data": {
      "text/html": [
       "\n",
       "        <div id=\"aFYikfNVPkBDn6qgECa65M\"></div>\n",
       "        <script>netpixi.call('aFYikfNVPkBDn6qgECa65M', '6TdJewpHMtn6cJBSwgXbcW', 'changeGraph', 'eyJpZCI6IDExOCwgInR5cGUiOiAidmVydGV4IiwgInByb3BzIjogeyJjb2xvciI6IDE2NzExNjgwfX0K');</script>\n",
       "    "
      ],
      "text/plain": [
       "<IPython.core.display.HTML object>"
      ]
     },
     "metadata": {},
     "output_type": "display_data"
    },
    {
     "data": {
      "text/html": [
       "\n",
       "        <div id=\"TgSEr6dL6V4Y7jNqfCwrhv\"></div>\n",
       "        <script>netpixi.call('TgSEr6dL6V4Y7jNqfCwrhv', '6TdJewpHMtn6cJBSwgXbcW', 'changeGraph', 'eyJpZCI6IDExOSwgInR5cGUiOiAidmVydGV4IiwgInByb3BzIjogeyJjb2xvciI6IDY1MjgwfX0K');</script>\n",
       "    "
      ],
      "text/plain": [
       "<IPython.core.display.HTML object>"
      ]
     },
     "metadata": {},
     "output_type": "display_data"
    },
    {
     "data": {
      "text/html": [
       "\n",
       "        <div id=\"Tp8mZwXLqstx2uvnCudKkH\"></div>\n",
       "        <script>netpixi.call('Tp8mZwXLqstx2uvnCudKkH', '6TdJewpHMtn6cJBSwgXbcW', 'changeGraph', 'eyJpZCI6IDEyMCwgInR5cGUiOiAidmVydGV4IiwgInByb3BzIjogeyJjb2xvciI6IDY1MjgwfX0K');</script>\n",
       "    "
      ],
      "text/plain": [
       "<IPython.core.display.HTML object>"
      ]
     },
     "metadata": {},
     "output_type": "display_data"
    },
    {
     "data": {
      "text/html": [
       "\n",
       "        <div id=\"DWogPwbngCNLPeoJvCop3W\"></div>\n",
       "        <script>netpixi.call('DWogPwbngCNLPeoJvCop3W', '6TdJewpHMtn6cJBSwgXbcW', 'changeGraph', 'eyJpZCI6IDEyMSwgInR5cGUiOiAidmVydGV4IiwgInByb3BzIjogeyJjb2xvciI6IDE2NzExNjgwfX0K');</script>\n",
       "    "
      ],
      "text/plain": [
       "<IPython.core.display.HTML object>"
      ]
     },
     "metadata": {},
     "output_type": "display_data"
    },
    {
     "data": {
      "text/html": [
       "\n",
       "        <div id=\"ZhUUzGx4u9KC9kChjHr7tV\"></div>\n",
       "        <script>netpixi.call('ZhUUzGx4u9KC9kChjHr7tV', '6TdJewpHMtn6cJBSwgXbcW', 'changeGraph', 'eyJpZCI6IDEyMiwgInR5cGUiOiAidmVydGV4IiwgInByb3BzIjogeyJjb2xvciI6IDY1MjgwfX0K');</script>\n",
       "    "
      ],
      "text/plain": [
       "<IPython.core.display.HTML object>"
      ]
     },
     "metadata": {},
     "output_type": "display_data"
    },
    {
     "data": {
      "text/html": [
       "\n",
       "        <div id=\"coHUXXh6LSNjKPec7a4xT6\"></div>\n",
       "        <script>netpixi.call('coHUXXh6LSNjKPec7a4xT6', '6TdJewpHMtn6cJBSwgXbcW', 'changeGraph', 'eyJpZCI6IDEyMywgInR5cGUiOiAidmVydGV4IiwgInByb3BzIjogeyJjb2xvciI6IDY1MjgwfX0K');</script>\n",
       "    "
      ],
      "text/plain": [
       "<IPython.core.display.HTML object>"
      ]
     },
     "metadata": {},
     "output_type": "display_data"
    },
    {
     "data": {
      "text/html": [
       "\n",
       "        <div id=\"ST3huS4LonTZfpS87Bo4os\"></div>\n",
       "        <script>netpixi.call('ST3huS4LonTZfpS87Bo4os', '6TdJewpHMtn6cJBSwgXbcW', 'changeGraph', 'eyJpZCI6IDEyNCwgInR5cGUiOiAidmVydGV4IiwgInByb3BzIjogeyJjb2xvciI6IDE2NzExNjgwfX0K');</script>\n",
       "    "
      ],
      "text/plain": [
       "<IPython.core.display.HTML object>"
      ]
     },
     "metadata": {},
     "output_type": "display_data"
    },
    {
     "data": {
      "text/html": [
       "\n",
       "        <div id=\"C4wR8XSXzjKSrmbGerwXdL\"></div>\n",
       "        <script>netpixi.call('C4wR8XSXzjKSrmbGerwXdL', '6TdJewpHMtn6cJBSwgXbcW', 'changeGraph', 'eyJpZCI6IDEyNSwgInR5cGUiOiAidmVydGV4IiwgInByb3BzIjogeyJjb2xvciI6IDY1MjgwfX0K');</script>\n",
       "    "
      ],
      "text/plain": [
       "<IPython.core.display.HTML object>"
      ]
     },
     "metadata": {},
     "output_type": "display_data"
    },
    {
     "data": {
      "text/html": [
       "\n",
       "        <div id=\"PmN7HRCMD9bRNJa7RixYXu\"></div>\n",
       "        <script>netpixi.call('PmN7HRCMD9bRNJa7RixYXu', '6TdJewpHMtn6cJBSwgXbcW', 'changeGraph', 'eyJpZCI6IDEyNiwgInR5cGUiOiAidmVydGV4IiwgInByb3BzIjogeyJjb2xvciI6IDE2NzExNjgwfX0K');</script>\n",
       "    "
      ],
      "text/plain": [
       "<IPython.core.display.HTML object>"
      ]
     },
     "metadata": {},
     "output_type": "display_data"
    },
    {
     "data": {
      "text/html": [
       "\n",
       "        <div id=\"fsUVDFARp8K9KhccoQkR68\"></div>\n",
       "        <script>netpixi.call('fsUVDFARp8K9KhccoQkR68', '6TdJewpHMtn6cJBSwgXbcW', 'changeGraph', 'eyJpZCI6IDEyNywgInR5cGUiOiAidmVydGV4IiwgInByb3BzIjogeyJjb2xvciI6IDY1MjgwfX0K');</script>\n",
       "    "
      ],
      "text/plain": [
       "<IPython.core.display.HTML object>"
      ]
     },
     "metadata": {},
     "output_type": "display_data"
    },
    {
     "data": {
      "text/html": [
       "\n",
       "        <div id=\"hBtWR7ppnYvwe99MADFxRx\"></div>\n",
       "        <script>netpixi.call('hBtWR7ppnYvwe99MADFxRx', '6TdJewpHMtn6cJBSwgXbcW', 'changeGraph', 'eyJpZCI6IDEyOCwgInR5cGUiOiAidmVydGV4IiwgInByb3BzIjogeyJjb2xvciI6IDE2NzExNjgwfX0K');</script>\n",
       "    "
      ],
      "text/plain": [
       "<IPython.core.display.HTML object>"
      ]
     },
     "metadata": {},
     "output_type": "display_data"
    },
    {
     "data": {
      "text/html": [
       "\n",
       "        <div id=\"3q4JQSSJgdKV7c9zLSwhBY\"></div>\n",
       "        <script>netpixi.call('3q4JQSSJgdKV7c9zLSwhBY', '6TdJewpHMtn6cJBSwgXbcW', 'changeGraph', 'eyJpZCI6IDEyOSwgInR5cGUiOiAidmVydGV4IiwgInByb3BzIjogeyJjb2xvciI6IDE2NzExNjgwfX0K');</script>\n",
       "    "
      ],
      "text/plain": [
       "<IPython.core.display.HTML object>"
      ]
     },
     "metadata": {},
     "output_type": "display_data"
    },
    {
     "data": {
      "text/html": [
       "\n",
       "        <div id=\"ijcsoTp9CMiBbmjrt9woGL\"></div>\n",
       "        <script>netpixi.call('ijcsoTp9CMiBbmjrt9woGL', '6TdJewpHMtn6cJBSwgXbcW', 'changeGraph', 'eyJpZCI6IDEzMCwgInR5cGUiOiAidmVydGV4IiwgInByb3BzIjogeyJjb2xvciI6IDY1MjgwfX0K');</script>\n",
       "    "
      ],
      "text/plain": [
       "<IPython.core.display.HTML object>"
      ]
     },
     "metadata": {},
     "output_type": "display_data"
    },
    {
     "data": {
      "text/html": [
       "\n",
       "        <div id=\"G2PskVetd7advFXuVW7Nmd\"></div>\n",
       "        <script>netpixi.call('G2PskVetd7advFXuVW7Nmd', '6TdJewpHMtn6cJBSwgXbcW', 'changeGraph', 'eyJpZCI6IDEzMSwgInR5cGUiOiAidmVydGV4IiwgInByb3BzIjogeyJjb2xvciI6IDE2NzExNjgwfX0K');</script>\n",
       "    "
      ],
      "text/plain": [
       "<IPython.core.display.HTML object>"
      ]
     },
     "metadata": {},
     "output_type": "display_data"
    },
    {
     "data": {
      "text/html": [
       "\n",
       "        <div id=\"YucGFVEf492fEJwT3N6t2Y\"></div>\n",
       "        <script>netpixi.call('YucGFVEf492fEJwT3N6t2Y', '6TdJewpHMtn6cJBSwgXbcW', 'changeGraph', 'eyJpZCI6IDEzMiwgInR5cGUiOiAidmVydGV4IiwgInByb3BzIjogeyJjb2xvciI6IDE2NzExNjgwfX0K');</script>\n",
       "    "
      ],
      "text/plain": [
       "<IPython.core.display.HTML object>"
      ]
     },
     "metadata": {},
     "output_type": "display_data"
    },
    {
     "data": {
      "text/html": [
       "\n",
       "        <div id=\"9yTVtknXT7X3L8tTVscobc\"></div>\n",
       "        <script>netpixi.call('9yTVtknXT7X3L8tTVscobc', '6TdJewpHMtn6cJBSwgXbcW', 'changeGraph', 'eyJpZCI6IDEzMywgInR5cGUiOiAidmVydGV4IiwgInByb3BzIjogeyJjb2xvciI6IDE2NzExNjgwfX0K');</script>\n",
       "    "
      ],
      "text/plain": [
       "<IPython.core.display.HTML object>"
      ]
     },
     "metadata": {},
     "output_type": "display_data"
    },
    {
     "data": {
      "text/html": [
       "\n",
       "        <div id=\"gQ9xgTHywUJJYBgSstYGZf\"></div>\n",
       "        <script>netpixi.call('gQ9xgTHywUJJYBgSstYGZf', '6TdJewpHMtn6cJBSwgXbcW', 'changeGraph', 'eyJpZCI6IDEzNCwgInR5cGUiOiAidmVydGV4IiwgInByb3BzIjogeyJjb2xvciI6IDE2NzExNjgwfX0K');</script>\n",
       "    "
      ],
      "text/plain": [
       "<IPython.core.display.HTML object>"
      ]
     },
     "metadata": {},
     "output_type": "display_data"
    },
    {
     "data": {
      "text/html": [
       "\n",
       "        <div id=\"WqUTvkEN9PiPS5KUmjuRYy\"></div>\n",
       "        <script>netpixi.call('WqUTvkEN9PiPS5KUmjuRYy', '6TdJewpHMtn6cJBSwgXbcW', 'changeGraph', 'eyJpZCI6IDEzNSwgInR5cGUiOiAidmVydGV4IiwgInByb3BzIjogeyJjb2xvciI6IDE2NzExNjgwfX0K');</script>\n",
       "    "
      ],
      "text/plain": [
       "<IPython.core.display.HTML object>"
      ]
     },
     "metadata": {},
     "output_type": "display_data"
    },
    {
     "data": {
      "text/html": [
       "\n",
       "        <div id=\"MtpBjYw5dngzsr93ramZCQ\"></div>\n",
       "        <script>netpixi.call('MtpBjYw5dngzsr93ramZCQ', '6TdJewpHMtn6cJBSwgXbcW', 'changeGraph', 'eyJpZCI6IDEzNiwgInR5cGUiOiAidmVydGV4IiwgInByb3BzIjogeyJjb2xvciI6IDE2NzExNjgwfX0K');</script>\n",
       "    "
      ],
      "text/plain": [
       "<IPython.core.display.HTML object>"
      ]
     },
     "metadata": {},
     "output_type": "display_data"
    },
    {
     "data": {
      "text/html": [
       "\n",
       "        <div id=\"joLKRrmmnDj8KBRsUcnLjC\"></div>\n",
       "        <script>netpixi.call('joLKRrmmnDj8KBRsUcnLjC', '6TdJewpHMtn6cJBSwgXbcW', 'changeGraph', 'eyJpZCI6IDEzNywgInR5cGUiOiAidmVydGV4IiwgInByb3BzIjogeyJjb2xvciI6IDY1MjgwfX0K');</script>\n",
       "    "
      ],
      "text/plain": [
       "<IPython.core.display.HTML object>"
      ]
     },
     "metadata": {},
     "output_type": "display_data"
    },
    {
     "data": {
      "text/html": [
       "\n",
       "        <div id=\"3guZBZ4VtDfRS8JyvuVfHJ\"></div>\n",
       "        <script>netpixi.call('3guZBZ4VtDfRS8JyvuVfHJ', '6TdJewpHMtn6cJBSwgXbcW', 'changeGraph', 'eyJpZCI6IDEzOCwgInR5cGUiOiAidmVydGV4IiwgInByb3BzIjogeyJjb2xvciI6IDE2NzExNjgwfX0K');</script>\n",
       "    "
      ],
      "text/plain": [
       "<IPython.core.display.HTML object>"
      ]
     },
     "metadata": {},
     "output_type": "display_data"
    },
    {
     "data": {
      "text/html": [
       "\n",
       "        <div id=\"fCwJ6dS4VLyxfB6ULuNGKh\"></div>\n",
       "        <script>netpixi.call('fCwJ6dS4VLyxfB6ULuNGKh', '6TdJewpHMtn6cJBSwgXbcW', 'changeGraph', 'eyJpZCI6IDEzOSwgInR5cGUiOiAidmVydGV4IiwgInByb3BzIjogeyJjb2xvciI6IDE2NzExNjgwfX0K');</script>\n",
       "    "
      ],
      "text/plain": [
       "<IPython.core.display.HTML object>"
      ]
     },
     "metadata": {},
     "output_type": "display_data"
    },
    {
     "data": {
      "text/html": [
       "\n",
       "        <div id=\"UuBXLssz35TmgPKrYK9ZpY\"></div>\n",
       "        <script>netpixi.call('UuBXLssz35TmgPKrYK9ZpY', '6TdJewpHMtn6cJBSwgXbcW', 'changeGraph', 'eyJpZCI6IDE0MCwgInR5cGUiOiAidmVydGV4IiwgInByb3BzIjogeyJjb2xvciI6IDY1MjgwfX0K');</script>\n",
       "    "
      ],
      "text/plain": [
       "<IPython.core.display.HTML object>"
      ]
     },
     "metadata": {},
     "output_type": "display_data"
    },
    {
     "data": {
      "text/html": [
       "\n",
       "        <div id=\"EmvzXMvQzRKQvaKFPVrj9G\"></div>\n",
       "        <script>netpixi.call('EmvzXMvQzRKQvaKFPVrj9G', '6TdJewpHMtn6cJBSwgXbcW', 'changeGraph', 'eyJpZCI6IDE0MSwgInR5cGUiOiAidmVydGV4IiwgInByb3BzIjogeyJjb2xvciI6IDY1MjgwfX0K');</script>\n",
       "    "
      ],
      "text/plain": [
       "<IPython.core.display.HTML object>"
      ]
     },
     "metadata": {},
     "output_type": "display_data"
    },
    {
     "data": {
      "text/html": [
       "\n",
       "        <div id=\"NUqbhPTAswhZDToMmfkQnV\"></div>\n",
       "        <script>netpixi.call('NUqbhPTAswhZDToMmfkQnV', '6TdJewpHMtn6cJBSwgXbcW', 'changeGraph', 'eyJpZCI6IDE0MiwgInR5cGUiOiAidmVydGV4IiwgInByb3BzIjogeyJjb2xvciI6IDY1MjgwfX0K');</script>\n",
       "    "
      ],
      "text/plain": [
       "<IPython.core.display.HTML object>"
      ]
     },
     "metadata": {},
     "output_type": "display_data"
    },
    {
     "data": {
      "text/html": [
       "\n",
       "        <div id=\"UjVyQap5CePrQAyzdLT232\"></div>\n",
       "        <script>netpixi.call('UjVyQap5CePrQAyzdLT232', '6TdJewpHMtn6cJBSwgXbcW', 'changeGraph', 'eyJpZCI6IDE0MywgInR5cGUiOiAidmVydGV4IiwgInByb3BzIjogeyJjb2xvciI6IDE2NzExNjgwfX0K');</script>\n",
       "    "
      ],
      "text/plain": [
       "<IPython.core.display.HTML object>"
      ]
     },
     "metadata": {},
     "output_type": "display_data"
    },
    {
     "data": {
      "text/html": [
       "\n",
       "        <div id=\"m2JgTUAsz6Ho9TTDNNASQ2\"></div>\n",
       "        <script>netpixi.call('m2JgTUAsz6Ho9TTDNNASQ2', '6TdJewpHMtn6cJBSwgXbcW', 'changeGraph', 'eyJpZCI6IDE0NCwgInR5cGUiOiAidmVydGV4IiwgInByb3BzIjogeyJjb2xvciI6IDY1MjgwfX0K');</script>\n",
       "    "
      ],
      "text/plain": [
       "<IPython.core.display.HTML object>"
      ]
     },
     "metadata": {},
     "output_type": "display_data"
    },
    {
     "data": {
      "text/html": [
       "\n",
       "        <div id=\"KVksgESC9xGhFdLDGrhTVN\"></div>\n",
       "        <script>netpixi.call('KVksgESC9xGhFdLDGrhTVN', '6TdJewpHMtn6cJBSwgXbcW', 'changeGraph', 'eyJpZCI6IDE0NSwgInR5cGUiOiAidmVydGV4IiwgInByb3BzIjogeyJjb2xvciI6IDE2NzExNjgwfX0K');</script>\n",
       "    "
      ],
      "text/plain": [
       "<IPython.core.display.HTML object>"
      ]
     },
     "metadata": {},
     "output_type": "display_data"
    },
    {
     "data": {
      "text/html": [
       "\n",
       "        <div id=\"2HYWy3GfePE6TwVcEcELpK\"></div>\n",
       "        <script>netpixi.call('2HYWy3GfePE6TwVcEcELpK', '6TdJewpHMtn6cJBSwgXbcW', 'changeGraph', 'eyJpZCI6IDE0NiwgInR5cGUiOiAidmVydGV4IiwgInByb3BzIjogeyJjb2xvciI6IDY1MjgwfX0K');</script>\n",
       "    "
      ],
      "text/plain": [
       "<IPython.core.display.HTML object>"
      ]
     },
     "metadata": {},
     "output_type": "display_data"
    },
    {
     "data": {
      "text/html": [
       "\n",
       "        <div id=\"amuWsVkgsr9K9ZNH6enXjx\"></div>\n",
       "        <script>netpixi.call('amuWsVkgsr9K9ZNH6enXjx', '6TdJewpHMtn6cJBSwgXbcW', 'changeGraph', 'eyJpZCI6IDE0NywgInR5cGUiOiAidmVydGV4IiwgInByb3BzIjogeyJjb2xvciI6IDY1MjgwfX0K');</script>\n",
       "    "
      ],
      "text/plain": [
       "<IPython.core.display.HTML object>"
      ]
     },
     "metadata": {},
     "output_type": "display_data"
    },
    {
     "data": {
      "text/html": [
       "\n",
       "        <div id=\"EkBKFPpUXFPUfTQveqYNyE\"></div>\n",
       "        <script>netpixi.call('EkBKFPpUXFPUfTQveqYNyE', '6TdJewpHMtn6cJBSwgXbcW', 'changeGraph', 'eyJpZCI6IDE0OCwgInR5cGUiOiAidmVydGV4IiwgInByb3BzIjogeyJjb2xvciI6IDY1MjgwfX0K');</script>\n",
       "    "
      ],
      "text/plain": [
       "<IPython.core.display.HTML object>"
      ]
     },
     "metadata": {},
     "output_type": "display_data"
    },
    {
     "data": {
      "text/html": [
       "\n",
       "        <div id=\"hEBwRkCjUHwLQPUeddtw54\"></div>\n",
       "        <script>netpixi.call('hEBwRkCjUHwLQPUeddtw54', '6TdJewpHMtn6cJBSwgXbcW', 'changeGraph', 'eyJpZCI6IDE0OSwgInR5cGUiOiAidmVydGV4IiwgInByb3BzIjogeyJjb2xvciI6IDE2NzExNjgwfX0K');</script>\n",
       "    "
      ],
      "text/plain": [
       "<IPython.core.display.HTML object>"
      ]
     },
     "metadata": {},
     "output_type": "display_data"
    },
    {
     "data": {
      "text/html": [
       "\n",
       "        <div id=\"ERi5EcNJbWdZC37XX7dmwM\"></div>\n",
       "        <script>netpixi.call('ERi5EcNJbWdZC37XX7dmwM', '6TdJewpHMtn6cJBSwgXbcW', 'changeGraph', 'eyJpZCI6IDE1MCwgInR5cGUiOiAidmVydGV4IiwgInByb3BzIjogeyJjb2xvciI6IDE2NzExNjgwfX0K');</script>\n",
       "    "
      ],
      "text/plain": [
       "<IPython.core.display.HTML object>"
      ]
     },
     "metadata": {},
     "output_type": "display_data"
    },
    {
     "data": {
      "text/html": [
       "\n",
       "        <div id=\"fZVZZCyuKPwfmGNWnujsnv\"></div>\n",
       "        <script>netpixi.call('fZVZZCyuKPwfmGNWnujsnv', '6TdJewpHMtn6cJBSwgXbcW', 'changeGraph', 'eyJpZCI6IDE1MSwgInR5cGUiOiAidmVydGV4IiwgInByb3BzIjogeyJjb2xvciI6IDE2NzExNjgwfX0K');</script>\n",
       "    "
      ],
      "text/plain": [
       "<IPython.core.display.HTML object>"
      ]
     },
     "metadata": {},
     "output_type": "display_data"
    },
    {
     "data": {
      "text/html": [
       "\n",
       "        <div id=\"gJjRvy47SJE5GS2wgfjRDY\"></div>\n",
       "        <script>netpixi.call('gJjRvy47SJE5GS2wgfjRDY', '6TdJewpHMtn6cJBSwgXbcW', 'changeGraph', 'eyJpZCI6IDE1MiwgInR5cGUiOiAidmVydGV4IiwgInByb3BzIjogeyJjb2xvciI6IDY1MjgwfX0K');</script>\n",
       "    "
      ],
      "text/plain": [
       "<IPython.core.display.HTML object>"
      ]
     },
     "metadata": {},
     "output_type": "display_data"
    },
    {
     "data": {
      "text/html": [
       "\n",
       "        <div id=\"PwJJZTJo2ReFbGWDrJM6TR\"></div>\n",
       "        <script>netpixi.call('PwJJZTJo2ReFbGWDrJM6TR', '6TdJewpHMtn6cJBSwgXbcW', 'changeGraph', 'eyJpZCI6IDE1MywgInR5cGUiOiAidmVydGV4IiwgInByb3BzIjogeyJjb2xvciI6IDY1MjgwfX0K');</script>\n",
       "    "
      ],
      "text/plain": [
       "<IPython.core.display.HTML object>"
      ]
     },
     "metadata": {},
     "output_type": "display_data"
    },
    {
     "data": {
      "text/html": [
       "\n",
       "        <div id=\"a7EuprnpqSibsQU47tbhfx\"></div>\n",
       "        <script>netpixi.call('a7EuprnpqSibsQU47tbhfx', '6TdJewpHMtn6cJBSwgXbcW', 'changeGraph', 'eyJpZCI6IDE1NCwgInR5cGUiOiAidmVydGV4IiwgInByb3BzIjogeyJjb2xvciI6IDE2NzExNjgwfX0K');</script>\n",
       "    "
      ],
      "text/plain": [
       "<IPython.core.display.HTML object>"
      ]
     },
     "metadata": {},
     "output_type": "display_data"
    },
    {
     "data": {
      "text/html": [
       "\n",
       "        <div id=\"biQfwzL7rFFNo2dxkSHNMU\"></div>\n",
       "        <script>netpixi.call('biQfwzL7rFFNo2dxkSHNMU', '6TdJewpHMtn6cJBSwgXbcW', 'changeGraph', 'eyJpZCI6IDE1NSwgInR5cGUiOiAidmVydGV4IiwgInByb3BzIjogeyJjb2xvciI6IDE2NzExNjgwfX0K');</script>\n",
       "    "
      ],
      "text/plain": [
       "<IPython.core.display.HTML object>"
      ]
     },
     "metadata": {},
     "output_type": "display_data"
    },
    {
     "data": {
      "text/html": [
       "\n",
       "        <div id=\"BNeQLeRq8RTgVkVJdJKEaJ\"></div>\n",
       "        <script>netpixi.call('BNeQLeRq8RTgVkVJdJKEaJ', '6TdJewpHMtn6cJBSwgXbcW', 'changeGraph', 'eyJpZCI6IDE1NiwgInR5cGUiOiAidmVydGV4IiwgInByb3BzIjogeyJjb2xvciI6IDE2NzExNjgwfX0K');</script>\n",
       "    "
      ],
      "text/plain": [
       "<IPython.core.display.HTML object>"
      ]
     },
     "metadata": {},
     "output_type": "display_data"
    },
    {
     "data": {
      "text/html": [
       "\n",
       "        <div id=\"gqsGQyFFf5VCt8gTCAS4CB\"></div>\n",
       "        <script>netpixi.call('gqsGQyFFf5VCt8gTCAS4CB', '6TdJewpHMtn6cJBSwgXbcW', 'changeGraph', 'eyJpZCI6IDE1NywgInR5cGUiOiAidmVydGV4IiwgInByb3BzIjogeyJjb2xvciI6IDY1MjgwfX0K');</script>\n",
       "    "
      ],
      "text/plain": [
       "<IPython.core.display.HTML object>"
      ]
     },
     "metadata": {},
     "output_type": "display_data"
    },
    {
     "data": {
      "text/html": [
       "\n",
       "        <div id=\"AiVBsnFFJswNZZwRUZm7rP\"></div>\n",
       "        <script>netpixi.call('AiVBsnFFJswNZZwRUZm7rP', '6TdJewpHMtn6cJBSwgXbcW', 'changeGraph', 'eyJpZCI6IDE1OCwgInR5cGUiOiAidmVydGV4IiwgInByb3BzIjogeyJjb2xvciI6IDY1MjgwfX0K');</script>\n",
       "    "
      ],
      "text/plain": [
       "<IPython.core.display.HTML object>"
      ]
     },
     "metadata": {},
     "output_type": "display_data"
    },
    {
     "data": {
      "text/html": [
       "\n",
       "        <div id=\"j8HNHav7XrqhSgVeHjq3Rp\"></div>\n",
       "        <script>netpixi.call('j8HNHav7XrqhSgVeHjq3Rp', '6TdJewpHMtn6cJBSwgXbcW', 'changeGraph', 'eyJpZCI6IDE1OSwgInR5cGUiOiAidmVydGV4IiwgInByb3BzIjogeyJjb2xvciI6IDY1MjgwfX0K');</script>\n",
       "    "
      ],
      "text/plain": [
       "<IPython.core.display.HTML object>"
      ]
     },
     "metadata": {},
     "output_type": "display_data"
    },
    {
     "data": {
      "text/html": [
       "\n",
       "        <div id=\"hup3mFJcyUjKycjyGsTi4p\"></div>\n",
       "        <script>netpixi.call('hup3mFJcyUjKycjyGsTi4p', '6TdJewpHMtn6cJBSwgXbcW', 'changeGraph', 'eyJpZCI6IDE2MCwgInR5cGUiOiAidmVydGV4IiwgInByb3BzIjogeyJjb2xvciI6IDE2NzExNjgwfX0K');</script>\n",
       "    "
      ],
      "text/plain": [
       "<IPython.core.display.HTML object>"
      ]
     },
     "metadata": {},
     "output_type": "display_data"
    },
    {
     "data": {
      "text/html": [
       "\n",
       "        <div id=\"CeoUoKZwMgsh9ymR2ejYPx\"></div>\n",
       "        <script>netpixi.call('CeoUoKZwMgsh9ymR2ejYPx', '6TdJewpHMtn6cJBSwgXbcW', 'changeGraph', 'eyJpZCI6IDE2MSwgInR5cGUiOiAidmVydGV4IiwgInByb3BzIjogeyJjb2xvciI6IDY1MjgwfX0K');</script>\n",
       "    "
      ],
      "text/plain": [
       "<IPython.core.display.HTML object>"
      ]
     },
     "metadata": {},
     "output_type": "display_data"
    },
    {
     "data": {
      "text/html": [
       "\n",
       "        <div id=\"6HjPXteZezBCqkfT2jsFpo\"></div>\n",
       "        <script>netpixi.call('6HjPXteZezBCqkfT2jsFpo', '6TdJewpHMtn6cJBSwgXbcW', 'changeGraph', 'eyJpZCI6IDE2MiwgInR5cGUiOiAidmVydGV4IiwgInByb3BzIjogeyJjb2xvciI6IDE2NzExNjgwfX0K');</script>\n",
       "    "
      ],
      "text/plain": [
       "<IPython.core.display.HTML object>"
      ]
     },
     "metadata": {},
     "output_type": "display_data"
    },
    {
     "data": {
      "text/html": [
       "\n",
       "        <div id=\"RRdfbtrxEStHBFKamZmi8S\"></div>\n",
       "        <script>netpixi.call('RRdfbtrxEStHBFKamZmi8S', '6TdJewpHMtn6cJBSwgXbcW', 'changeGraph', 'eyJpZCI6IDE2MywgInR5cGUiOiAidmVydGV4IiwgInByb3BzIjogeyJjb2xvciI6IDE2NzExNjgwfX0K');</script>\n",
       "    "
      ],
      "text/plain": [
       "<IPython.core.display.HTML object>"
      ]
     },
     "metadata": {},
     "output_type": "display_data"
    },
    {
     "data": {
      "text/html": [
       "\n",
       "        <div id=\"c22XhdBHnV2esXzgsNBvZp\"></div>\n",
       "        <script>netpixi.call('c22XhdBHnV2esXzgsNBvZp', '6TdJewpHMtn6cJBSwgXbcW', 'changeGraph', 'eyJpZCI6IDE2NCwgInR5cGUiOiAidmVydGV4IiwgInByb3BzIjogeyJjb2xvciI6IDE2NzExNjgwfX0K');</script>\n",
       "    "
      ],
      "text/plain": [
       "<IPython.core.display.HTML object>"
      ]
     },
     "metadata": {},
     "output_type": "display_data"
    },
    {
     "data": {
      "text/html": [
       "\n",
       "        <div id=\"3mYPkqRRbtdFqJoCYuNGmy\"></div>\n",
       "        <script>netpixi.call('3mYPkqRRbtdFqJoCYuNGmy', '6TdJewpHMtn6cJBSwgXbcW', 'changeGraph', 'eyJpZCI6IDE2NSwgInR5cGUiOiAidmVydGV4IiwgInByb3BzIjogeyJjb2xvciI6IDE2NzExNjgwfX0K');</script>\n",
       "    "
      ],
      "text/plain": [
       "<IPython.core.display.HTML object>"
      ]
     },
     "metadata": {},
     "output_type": "display_data"
    },
    {
     "data": {
      "text/html": [
       "\n",
       "        <div id=\"Nik7CJSEs2XHvDu9xd8zex\"></div>\n",
       "        <script>netpixi.call('Nik7CJSEs2XHvDu9xd8zex', '6TdJewpHMtn6cJBSwgXbcW', 'changeGraph', 'eyJpZCI6IDE2NiwgInR5cGUiOiAidmVydGV4IiwgInByb3BzIjogeyJjb2xvciI6IDE2NzExNjgwfX0K');</script>\n",
       "    "
      ],
      "text/plain": [
       "<IPython.core.display.HTML object>"
      ]
     },
     "metadata": {},
     "output_type": "display_data"
    },
    {
     "data": {
      "text/html": [
       "\n",
       "        <div id=\"Uoe6UJMChK6botu3RgP4hJ\"></div>\n",
       "        <script>netpixi.call('Uoe6UJMChK6botu3RgP4hJ', '6TdJewpHMtn6cJBSwgXbcW', 'changeGraph', 'eyJpZCI6IDE2NywgInR5cGUiOiAidmVydGV4IiwgInByb3BzIjogeyJjb2xvciI6IDE2NzExNjgwfX0K');</script>\n",
       "    "
      ],
      "text/plain": [
       "<IPython.core.display.HTML object>"
      ]
     },
     "metadata": {},
     "output_type": "display_data"
    },
    {
     "data": {
      "text/html": [
       "\n",
       "        <div id=\"XHDkWqGhEsyXHvB3A9SyiW\"></div>\n",
       "        <script>netpixi.call('XHDkWqGhEsyXHvB3A9SyiW', '6TdJewpHMtn6cJBSwgXbcW', 'changeGraph', 'eyJpZCI6IDE2OCwgInR5cGUiOiAidmVydGV4IiwgInByb3BzIjogeyJjb2xvciI6IDY1MjgwfX0K');</script>\n",
       "    "
      ],
      "text/plain": [
       "<IPython.core.display.HTML object>"
      ]
     },
     "metadata": {},
     "output_type": "display_data"
    },
    {
     "data": {
      "text/html": [
       "\n",
       "        <div id=\"AM5izh8TJ4DQuFGpGa6iXw\"></div>\n",
       "        <script>netpixi.call('AM5izh8TJ4DQuFGpGa6iXw', '6TdJewpHMtn6cJBSwgXbcW', 'changeGraph', 'eyJpZCI6IDE2OSwgInR5cGUiOiAidmVydGV4IiwgInByb3BzIjogeyJjb2xvciI6IDE2NzExNjgwfX0K');</script>\n",
       "    "
      ],
      "text/plain": [
       "<IPython.core.display.HTML object>"
      ]
     },
     "metadata": {},
     "output_type": "display_data"
    },
    {
     "data": {
      "text/html": [
       "\n",
       "        <div id=\"VniNrwETaVFjd5sV5783nY\"></div>\n",
       "        <script>netpixi.call('VniNrwETaVFjd5sV5783nY', '6TdJewpHMtn6cJBSwgXbcW', 'changeGraph', 'eyJpZCI6IDE3MCwgInR5cGUiOiAidmVydGV4IiwgInByb3BzIjogeyJjb2xvciI6IDE2NzExNjgwfX0K');</script>\n",
       "    "
      ],
      "text/plain": [
       "<IPython.core.display.HTML object>"
      ]
     },
     "metadata": {},
     "output_type": "display_data"
    },
    {
     "data": {
      "text/html": [
       "\n",
       "        <div id=\"Vah4vLmrvtf7h8oy8geo6d\"></div>\n",
       "        <script>netpixi.call('Vah4vLmrvtf7h8oy8geo6d', '6TdJewpHMtn6cJBSwgXbcW', 'changeGraph', 'eyJpZCI6IDE3MSwgInR5cGUiOiAidmVydGV4IiwgInByb3BzIjogeyJjb2xvciI6IDY1MjgwfX0K');</script>\n",
       "    "
      ],
      "text/plain": [
       "<IPython.core.display.HTML object>"
      ]
     },
     "metadata": {},
     "output_type": "display_data"
    },
    {
     "data": {
      "text/html": [
       "\n",
       "        <div id=\"EEomiwqCnyYahf2hANBSaM\"></div>\n",
       "        <script>netpixi.call('EEomiwqCnyYahf2hANBSaM', '6TdJewpHMtn6cJBSwgXbcW', 'changeGraph', 'eyJpZCI6IDE3MiwgInR5cGUiOiAidmVydGV4IiwgInByb3BzIjogeyJjb2xvciI6IDY1MjgwfX0K');</script>\n",
       "    "
      ],
      "text/plain": [
       "<IPython.core.display.HTML object>"
      ]
     },
     "metadata": {},
     "output_type": "display_data"
    },
    {
     "data": {
      "text/html": [
       "\n",
       "        <div id=\"JAC8eJrtSHsC5AT3Bn3cZu\"></div>\n",
       "        <script>netpixi.call('JAC8eJrtSHsC5AT3Bn3cZu', '6TdJewpHMtn6cJBSwgXbcW', 'changeGraph', 'eyJpZCI6IDE3MywgInR5cGUiOiAidmVydGV4IiwgInByb3BzIjogeyJjb2xvciI6IDE2NzExNjgwfX0K');</script>\n",
       "    "
      ],
      "text/plain": [
       "<IPython.core.display.HTML object>"
      ]
     },
     "metadata": {},
     "output_type": "display_data"
    },
    {
     "data": {
      "text/html": [
       "\n",
       "        <div id=\"cPxpZDSjdonBgQzWor5Bz3\"></div>\n",
       "        <script>netpixi.call('cPxpZDSjdonBgQzWor5Bz3', '6TdJewpHMtn6cJBSwgXbcW', 'changeGraph', 'eyJpZCI6IDE3NCwgInR5cGUiOiAidmVydGV4IiwgInByb3BzIjogeyJjb2xvciI6IDE2NzExNjgwfX0K');</script>\n",
       "    "
      ],
      "text/plain": [
       "<IPython.core.display.HTML object>"
      ]
     },
     "metadata": {},
     "output_type": "display_data"
    },
    {
     "data": {
      "text/html": [
       "\n",
       "        <div id=\"4HUKcyWexpXhnDz56VPpBL\"></div>\n",
       "        <script>netpixi.call('4HUKcyWexpXhnDz56VPpBL', '6TdJewpHMtn6cJBSwgXbcW', 'changeGraph', 'eyJpZCI6IDE3NSwgInR5cGUiOiAidmVydGV4IiwgInByb3BzIjogeyJjb2xvciI6IDE2NzExNjgwfX0K');</script>\n",
       "    "
      ],
      "text/plain": [
       "<IPython.core.display.HTML object>"
      ]
     },
     "metadata": {},
     "output_type": "display_data"
    },
    {
     "data": {
      "text/html": [
       "\n",
       "        <div id=\"hzRd4dwVPDYXASWfcE88bP\"></div>\n",
       "        <script>netpixi.call('hzRd4dwVPDYXASWfcE88bP', '6TdJewpHMtn6cJBSwgXbcW', 'changeGraph', 'eyJpZCI6IDE3NiwgInR5cGUiOiAidmVydGV4IiwgInByb3BzIjogeyJjb2xvciI6IDE2NzExNjgwfX0K');</script>\n",
       "    "
      ],
      "text/plain": [
       "<IPython.core.display.HTML object>"
      ]
     },
     "metadata": {},
     "output_type": "display_data"
    },
    {
     "data": {
      "text/html": [
       "\n",
       "        <div id=\"GBgsso8pWBR4qVLabBiJy6\"></div>\n",
       "        <script>netpixi.call('GBgsso8pWBR4qVLabBiJy6', '6TdJewpHMtn6cJBSwgXbcW', 'changeGraph', 'eyJpZCI6IDE3NywgInR5cGUiOiAidmVydGV4IiwgInByb3BzIjogeyJjb2xvciI6IDY1MjgwfX0K');</script>\n",
       "    "
      ],
      "text/plain": [
       "<IPython.core.display.HTML object>"
      ]
     },
     "metadata": {},
     "output_type": "display_data"
    },
    {
     "data": {
      "text/html": [
       "\n",
       "        <div id=\"JBpispdk67LiajizdUJkTh\"></div>\n",
       "        <script>netpixi.call('JBpispdk67LiajizdUJkTh', '6TdJewpHMtn6cJBSwgXbcW', 'changeGraph', 'eyJpZCI6IDE3OCwgInR5cGUiOiAidmVydGV4IiwgInByb3BzIjogeyJjb2xvciI6IDE2NzExNjgwfX0K');</script>\n",
       "    "
      ],
      "text/plain": [
       "<IPython.core.display.HTML object>"
      ]
     },
     "metadata": {},
     "output_type": "display_data"
    },
    {
     "data": {
      "text/html": [
       "\n",
       "        <div id=\"PQJ9uq78X3yYDgLehpsXrM\"></div>\n",
       "        <script>netpixi.call('PQJ9uq78X3yYDgLehpsXrM', '6TdJewpHMtn6cJBSwgXbcW', 'changeGraph', 'eyJpZCI6IDE3OSwgInR5cGUiOiAidmVydGV4IiwgInByb3BzIjogeyJjb2xvciI6IDE2NzExNjgwfX0K');</script>\n",
       "    "
      ],
      "text/plain": [
       "<IPython.core.display.HTML object>"
      ]
     },
     "metadata": {},
     "output_type": "display_data"
    },
    {
     "data": {
      "text/html": [
       "\n",
       "        <div id=\"CMAYG4WZEQKnURHHYn2QDq\"></div>\n",
       "        <script>netpixi.call('CMAYG4WZEQKnURHHYn2QDq', '6TdJewpHMtn6cJBSwgXbcW', 'changeGraph', 'eyJpZCI6IDE4MCwgInR5cGUiOiAidmVydGV4IiwgInByb3BzIjogeyJjb2xvciI6IDE2NzExNjgwfX0K');</script>\n",
       "    "
      ],
      "text/plain": [
       "<IPython.core.display.HTML object>"
      ]
     },
     "metadata": {},
     "output_type": "display_data"
    },
    {
     "data": {
      "text/html": [
       "\n",
       "        <div id=\"A8mRq3ot6QP6w6Urk2t2WN\"></div>\n",
       "        <script>netpixi.call('A8mRq3ot6QP6w6Urk2t2WN', '6TdJewpHMtn6cJBSwgXbcW', 'changeGraph', 'eyJpZCI6IDE4MSwgInR5cGUiOiAidmVydGV4IiwgInByb3BzIjogeyJjb2xvciI6IDY1MjgwfX0K');</script>\n",
       "    "
      ],
      "text/plain": [
       "<IPython.core.display.HTML object>"
      ]
     },
     "metadata": {},
     "output_type": "display_data"
    },
    {
     "data": {
      "text/html": [
       "\n",
       "        <div id=\"TSmhaWx8iyMfJ6gk2NtWy9\"></div>\n",
       "        <script>netpixi.call('TSmhaWx8iyMfJ6gk2NtWy9', '6TdJewpHMtn6cJBSwgXbcW', 'changeGraph', 'eyJpZCI6IDE4MiwgInR5cGUiOiAidmVydGV4IiwgInByb3BzIjogeyJjb2xvciI6IDY1MjgwfX0K');</script>\n",
       "    "
      ],
      "text/plain": [
       "<IPython.core.display.HTML object>"
      ]
     },
     "metadata": {},
     "output_type": "display_data"
    },
    {
     "data": {
      "text/html": [
       "\n",
       "        <div id=\"55WKoboN4G7CYzjW4NAKYY\"></div>\n",
       "        <script>netpixi.call('55WKoboN4G7CYzjW4NAKYY', '6TdJewpHMtn6cJBSwgXbcW', 'changeGraph', 'eyJpZCI6IDE4MywgInR5cGUiOiAidmVydGV4IiwgInByb3BzIjogeyJjb2xvciI6IDE2NzExNjgwfX0K');</script>\n",
       "    "
      ],
      "text/plain": [
       "<IPython.core.display.HTML object>"
      ]
     },
     "metadata": {},
     "output_type": "display_data"
    },
    {
     "data": {
      "text/html": [
       "\n",
       "        <div id=\"PqqkM9UiTrUB9Xoky6W4BK\"></div>\n",
       "        <script>netpixi.call('PqqkM9UiTrUB9Xoky6W4BK', '6TdJewpHMtn6cJBSwgXbcW', 'changeGraph', 'eyJpZCI6IDE4NCwgInR5cGUiOiAidmVydGV4IiwgInByb3BzIjogeyJjb2xvciI6IDY1MjgwfX0K');</script>\n",
       "    "
      ],
      "text/plain": [
       "<IPython.core.display.HTML object>"
      ]
     },
     "metadata": {},
     "output_type": "display_data"
    },
    {
     "data": {
      "text/html": [
       "\n",
       "        <div id=\"DEU7nzN3JJduCb2nQy784D\"></div>\n",
       "        <script>netpixi.call('DEU7nzN3JJduCb2nQy784D', '6TdJewpHMtn6cJBSwgXbcW', 'changeGraph', 'eyJpZCI6IDE4NSwgInR5cGUiOiAidmVydGV4IiwgInByb3BzIjogeyJjb2xvciI6IDE2NzExNjgwfX0K');</script>\n",
       "    "
      ],
      "text/plain": [
       "<IPython.core.display.HTML object>"
      ]
     },
     "metadata": {},
     "output_type": "display_data"
    },
    {
     "data": {
      "text/html": [
       "\n",
       "        <div id=\"kcG92MPDDGJP7LAu2d6wFS\"></div>\n",
       "        <script>netpixi.call('kcG92MPDDGJP7LAu2d6wFS', '6TdJewpHMtn6cJBSwgXbcW', 'changeGraph', 'eyJpZCI6IDE4NiwgInR5cGUiOiAidmVydGV4IiwgInByb3BzIjogeyJjb2xvciI6IDE2NzExNjgwfX0K');</script>\n",
       "    "
      ],
      "text/plain": [
       "<IPython.core.display.HTML object>"
      ]
     },
     "metadata": {},
     "output_type": "display_data"
    },
    {
     "data": {
      "text/html": [
       "\n",
       "        <div id=\"mytviySduxT7DGYktXzZf6\"></div>\n",
       "        <script>netpixi.call('mytviySduxT7DGYktXzZf6', '6TdJewpHMtn6cJBSwgXbcW', 'changeGraph', 'eyJpZCI6IDE4NywgInR5cGUiOiAidmVydGV4IiwgInByb3BzIjogeyJjb2xvciI6IDE2NzExNjgwfX0K');</script>\n",
       "    "
      ],
      "text/plain": [
       "<IPython.core.display.HTML object>"
      ]
     },
     "metadata": {},
     "output_type": "display_data"
    },
    {
     "data": {
      "text/html": [
       "\n",
       "        <div id=\"NiBbUBtLHwtNzcnjpMo4Jx\"></div>\n",
       "        <script>netpixi.call('NiBbUBtLHwtNzcnjpMo4Jx', '6TdJewpHMtn6cJBSwgXbcW', 'changeGraph', 'eyJpZCI6IDE4OCwgInR5cGUiOiAidmVydGV4IiwgInByb3BzIjogeyJjb2xvciI6IDY1MjgwfX0K');</script>\n",
       "    "
      ],
      "text/plain": [
       "<IPython.core.display.HTML object>"
      ]
     },
     "metadata": {},
     "output_type": "display_data"
    },
    {
     "data": {
      "text/html": [
       "\n",
       "        <div id=\"aGF3nFMXqNgBEG3josP4w7\"></div>\n",
       "        <script>netpixi.call('aGF3nFMXqNgBEG3josP4w7', '6TdJewpHMtn6cJBSwgXbcW', 'changeGraph', 'eyJpZCI6IDE4OSwgInR5cGUiOiAidmVydGV4IiwgInByb3BzIjogeyJjb2xvciI6IDY1MjgwfX0K');</script>\n",
       "    "
      ],
      "text/plain": [
       "<IPython.core.display.HTML object>"
      ]
     },
     "metadata": {},
     "output_type": "display_data"
    },
    {
     "data": {
      "text/html": [
       "\n",
       "        <div id=\"7ZLdH2n76pbTGxXmxAq3KU\"></div>\n",
       "        <script>netpixi.call('7ZLdH2n76pbTGxXmxAq3KU', '6TdJewpHMtn6cJBSwgXbcW', 'changeGraph', 'eyJpZCI6IDE5MCwgInR5cGUiOiAidmVydGV4IiwgInByb3BzIjogeyJjb2xvciI6IDY1MjgwfX0K');</script>\n",
       "    "
      ],
      "text/plain": [
       "<IPython.core.display.HTML object>"
      ]
     },
     "metadata": {},
     "output_type": "display_data"
    },
    {
     "data": {
      "text/html": [
       "\n",
       "        <div id=\"i58QckMBeAMNZc6PdbFwiV\"></div>\n",
       "        <script>netpixi.call('i58QckMBeAMNZc6PdbFwiV', '6TdJewpHMtn6cJBSwgXbcW', 'changeGraph', 'eyJpZCI6IDE5MSwgInR5cGUiOiAidmVydGV4IiwgInByb3BzIjogeyJjb2xvciI6IDY1MjgwfX0K');</script>\n",
       "    "
      ],
      "text/plain": [
       "<IPython.core.display.HTML object>"
      ]
     },
     "metadata": {},
     "output_type": "display_data"
    },
    {
     "data": {
      "text/html": [
       "\n",
       "        <div id=\"FK4KW3Hdnv4schNP4SHyJG\"></div>\n",
       "        <script>netpixi.call('FK4KW3Hdnv4schNP4SHyJG', '6TdJewpHMtn6cJBSwgXbcW', 'changeGraph', 'eyJpZCI6IDE5MiwgInR5cGUiOiAidmVydGV4IiwgInByb3BzIjogeyJjb2xvciI6IDE2NzExNjgwfX0K');</script>\n",
       "    "
      ],
      "text/plain": [
       "<IPython.core.display.HTML object>"
      ]
     },
     "metadata": {},
     "output_type": "display_data"
    },
    {
     "data": {
      "text/html": [
       "\n",
       "        <div id=\"enrgGaMMsgpM4TT3AmW74J\"></div>\n",
       "        <script>netpixi.call('enrgGaMMsgpM4TT3AmW74J', '6TdJewpHMtn6cJBSwgXbcW', 'changeGraph', 'eyJpZCI6IDE5MywgInR5cGUiOiAidmVydGV4IiwgInByb3BzIjogeyJjb2xvciI6IDY1MjgwfX0K');</script>\n",
       "    "
      ],
      "text/plain": [
       "<IPython.core.display.HTML object>"
      ]
     },
     "metadata": {},
     "output_type": "display_data"
    },
    {
     "data": {
      "text/html": [
       "\n",
       "        <div id=\"9CuvL6YxL6oEKUrQXDCXdN\"></div>\n",
       "        <script>netpixi.call('9CuvL6YxL6oEKUrQXDCXdN', '6TdJewpHMtn6cJBSwgXbcW', 'changeGraph', 'eyJpZCI6IDE5NCwgInR5cGUiOiAidmVydGV4IiwgInByb3BzIjogeyJjb2xvciI6IDY1MjgwfX0K');</script>\n",
       "    "
      ],
      "text/plain": [
       "<IPython.core.display.HTML object>"
      ]
     },
     "metadata": {},
     "output_type": "display_data"
    },
    {
     "data": {
      "text/html": [
       "\n",
       "        <div id=\"Wed7RQJDBpznapcXn4aFv3\"></div>\n",
       "        <script>netpixi.call('Wed7RQJDBpznapcXn4aFv3', '6TdJewpHMtn6cJBSwgXbcW', 'changeGraph', 'eyJpZCI6IDE5NSwgInR5cGUiOiAidmVydGV4IiwgInByb3BzIjogeyJjb2xvciI6IDE2NzExNjgwfX0K');</script>\n",
       "    "
      ],
      "text/plain": [
       "<IPython.core.display.HTML object>"
      ]
     },
     "metadata": {},
     "output_type": "display_data"
    },
    {
     "data": {
      "text/html": [
       "\n",
       "        <div id=\"LeYa27v8E3yVtoEvMZgJQD\"></div>\n",
       "        <script>netpixi.call('LeYa27v8E3yVtoEvMZgJQD', '6TdJewpHMtn6cJBSwgXbcW', 'changeGraph', 'eyJpZCI6IDE5NiwgInR5cGUiOiAidmVydGV4IiwgInByb3BzIjogeyJjb2xvciI6IDE2NzExNjgwfX0K');</script>\n",
       "    "
      ],
      "text/plain": [
       "<IPython.core.display.HTML object>"
      ]
     },
     "metadata": {},
     "output_type": "display_data"
    },
    {
     "data": {
      "text/html": [
       "\n",
       "        <div id=\"HPBUJ4rgu9f2WV6guFzxwu\"></div>\n",
       "        <script>netpixi.call('HPBUJ4rgu9f2WV6guFzxwu', '6TdJewpHMtn6cJBSwgXbcW', 'changeGraph', 'eyJpZCI6IDE5NywgInR5cGUiOiAidmVydGV4IiwgInByb3BzIjogeyJjb2xvciI6IDE2NzExNjgwfX0K');</script>\n",
       "    "
      ],
      "text/plain": [
       "<IPython.core.display.HTML object>"
      ]
     },
     "metadata": {},
     "output_type": "display_data"
    },
    {
     "data": {
      "text/html": [
       "\n",
       "        <div id=\"aL8MjTewQPEqaWJMxHMA8C\"></div>\n",
       "        <script>netpixi.call('aL8MjTewQPEqaWJMxHMA8C', '6TdJewpHMtn6cJBSwgXbcW', 'changeGraph', 'eyJpZCI6IDE5OCwgInR5cGUiOiAidmVydGV4IiwgInByb3BzIjogeyJjb2xvciI6IDE2NzExNjgwfX0K');</script>\n",
       "    "
      ],
      "text/plain": [
       "<IPython.core.display.HTML object>"
      ]
     },
     "metadata": {},
     "output_type": "display_data"
    },
    {
     "data": {
      "text/html": [
       "\n",
       "        <div id=\"B9xibWdSpbSs6zTuYxXSDX\"></div>\n",
       "        <script>netpixi.call('B9xibWdSpbSs6zTuYxXSDX', '6TdJewpHMtn6cJBSwgXbcW', 'changeGraph', 'eyJpZCI6IDE5OSwgInR5cGUiOiAidmVydGV4IiwgInByb3BzIjogeyJjb2xvciI6IDY1MjgwfX0K');</script>\n",
       "    "
      ],
      "text/plain": [
       "<IPython.core.display.HTML object>"
      ]
     },
     "metadata": {},
     "output_type": "display_data"
    },
    {
     "data": {
      "text/html": [
       "\n",
       "        <div id=\"ArhmAGnENtRHyvMSB6qZfy\"></div>\n",
       "        <script>netpixi.call('ArhmAGnENtRHyvMSB6qZfy', '6TdJewpHMtn6cJBSwgXbcW', 'changeGraph', 'eyJpZCI6IDIwMCwgInR5cGUiOiAidmVydGV4IiwgInByb3BzIjogeyJjb2xvciI6IDY1MjgwfX0K');</script>\n",
       "    "
      ],
      "text/plain": [
       "<IPython.core.display.HTML object>"
      ]
     },
     "metadata": {},
     "output_type": "display_data"
    },
    {
     "data": {
      "text/html": [
       "\n",
       "        <div id=\"2VWdQMgSDvrANJT4kYkAFJ\"></div>\n",
       "        <script>netpixi.call('2VWdQMgSDvrANJT4kYkAFJ', '6TdJewpHMtn6cJBSwgXbcW', 'changeGraph', 'eyJpZCI6IDIwMSwgInR5cGUiOiAidmVydGV4IiwgInByb3BzIjogeyJjb2xvciI6IDE2NzExNjgwfX0K');</script>\n",
       "    "
      ],
      "text/plain": [
       "<IPython.core.display.HTML object>"
      ]
     },
     "metadata": {},
     "output_type": "display_data"
    },
    {
     "data": {
      "text/html": [
       "\n",
       "        <div id=\"TXdum9Hq7AyV2oEgLRfT95\"></div>\n",
       "        <script>netpixi.call('TXdum9Hq7AyV2oEgLRfT95', '6TdJewpHMtn6cJBSwgXbcW', 'changeGraph', 'eyJpZCI6IDIwMiwgInR5cGUiOiAidmVydGV4IiwgInByb3BzIjogeyJjb2xvciI6IDE2NzExNjgwfX0K');</script>\n",
       "    "
      ],
      "text/plain": [
       "<IPython.core.display.HTML object>"
      ]
     },
     "metadata": {},
     "output_type": "display_data"
    },
    {
     "data": {
      "text/html": [
       "\n",
       "        <div id=\"m7mK6qQ39D7fGLNrLkrbYG\"></div>\n",
       "        <script>netpixi.call('m7mK6qQ39D7fGLNrLkrbYG', '6TdJewpHMtn6cJBSwgXbcW', 'changeGraph', 'eyJpZCI6IDIwMywgInR5cGUiOiAidmVydGV4IiwgInByb3BzIjogeyJjb2xvciI6IDY1MjgwfX0K');</script>\n",
       "    "
      ],
      "text/plain": [
       "<IPython.core.display.HTML object>"
      ]
     },
     "metadata": {},
     "output_type": "display_data"
    },
    {
     "data": {
      "text/html": [
       "\n",
       "        <div id=\"bRmkasXccfggyTodERAgdh\"></div>\n",
       "        <script>netpixi.call('bRmkasXccfggyTodERAgdh', '6TdJewpHMtn6cJBSwgXbcW', 'changeGraph', 'eyJpZCI6IDIwNCwgInR5cGUiOiAidmVydGV4IiwgInByb3BzIjogeyJjb2xvciI6IDY1MjgwfX0K');</script>\n",
       "    "
      ],
      "text/plain": [
       "<IPython.core.display.HTML object>"
      ]
     },
     "metadata": {},
     "output_type": "display_data"
    },
    {
     "data": {
      "text/html": [
       "\n",
       "        <div id=\"dbH9vTBPTPucAfHRtzcozy\"></div>\n",
       "        <script>netpixi.call('dbH9vTBPTPucAfHRtzcozy', '6TdJewpHMtn6cJBSwgXbcW', 'changeGraph', 'eyJpZCI6IDIwNSwgInR5cGUiOiAidmVydGV4IiwgInByb3BzIjogeyJjb2xvciI6IDE2NzExNjgwfX0K');</script>\n",
       "    "
      ],
      "text/plain": [
       "<IPython.core.display.HTML object>"
      ]
     },
     "metadata": {},
     "output_type": "display_data"
    },
    {
     "data": {
      "text/html": [
       "\n",
       "        <div id=\"ggyqkthvWeMV8sKh9KzfGW\"></div>\n",
       "        <script>netpixi.call('ggyqkthvWeMV8sKh9KzfGW', '6TdJewpHMtn6cJBSwgXbcW', 'changeGraph', 'eyJpZCI6IDIwNiwgInR5cGUiOiAidmVydGV4IiwgInByb3BzIjogeyJjb2xvciI6IDE2NzExNjgwfX0K');</script>\n",
       "    "
      ],
      "text/plain": [
       "<IPython.core.display.HTML object>"
      ]
     },
     "metadata": {},
     "output_type": "display_data"
    },
    {
     "data": {
      "text/html": [
       "\n",
       "        <div id=\"JjTAy2jWqGuog7Emusf3jX\"></div>\n",
       "        <script>netpixi.call('JjTAy2jWqGuog7Emusf3jX', '6TdJewpHMtn6cJBSwgXbcW', 'changeGraph', 'eyJpZCI6IDIwNywgInR5cGUiOiAidmVydGV4IiwgInByb3BzIjogeyJjb2xvciI6IDY1MjgwfX0K');</script>\n",
       "    "
      ],
      "text/plain": [
       "<IPython.core.display.HTML object>"
      ]
     },
     "metadata": {},
     "output_type": "display_data"
    },
    {
     "data": {
      "text/html": [
       "\n",
       "        <div id=\"FZUZPYwZv2GuX7SpNipfeK\"></div>\n",
       "        <script>netpixi.call('FZUZPYwZv2GuX7SpNipfeK', '6TdJewpHMtn6cJBSwgXbcW', 'changeGraph', 'eyJpZCI6IDIwOCwgInR5cGUiOiAidmVydGV4IiwgInByb3BzIjogeyJjb2xvciI6IDY1MjgwfX0K');</script>\n",
       "    "
      ],
      "text/plain": [
       "<IPython.core.display.HTML object>"
      ]
     },
     "metadata": {},
     "output_type": "display_data"
    },
    {
     "data": {
      "text/html": [
       "\n",
       "        <div id=\"FsNvvEmSJAWpNFRn9sDCSu\"></div>\n",
       "        <script>netpixi.call('FsNvvEmSJAWpNFRn9sDCSu', '6TdJewpHMtn6cJBSwgXbcW', 'changeGraph', 'eyJpZCI6IDIwOSwgInR5cGUiOiAidmVydGV4IiwgInByb3BzIjogeyJjb2xvciI6IDY1MjgwfX0K');</script>\n",
       "    "
      ],
      "text/plain": [
       "<IPython.core.display.HTML object>"
      ]
     },
     "metadata": {},
     "output_type": "display_data"
    },
    {
     "data": {
      "text/html": [
       "\n",
       "        <div id=\"Erf2ioK6DGFRHELW4oDxZT\"></div>\n",
       "        <script>netpixi.call('Erf2ioK6DGFRHELW4oDxZT', '6TdJewpHMtn6cJBSwgXbcW', 'changeGraph', 'eyJpZCI6IDIxMCwgInR5cGUiOiAidmVydGV4IiwgInByb3BzIjogeyJjb2xvciI6IDE2NzExNjgwfX0K');</script>\n",
       "    "
      ],
      "text/plain": [
       "<IPython.core.display.HTML object>"
      ]
     },
     "metadata": {},
     "output_type": "display_data"
    },
    {
     "data": {
      "text/html": [
       "\n",
       "        <div id=\"5SjWkQCwXdi9GkVdcjvCVX\"></div>\n",
       "        <script>netpixi.call('5SjWkQCwXdi9GkVdcjvCVX', '6TdJewpHMtn6cJBSwgXbcW', 'changeGraph', 'eyJpZCI6IDIxMSwgInR5cGUiOiAidmVydGV4IiwgInByb3BzIjogeyJjb2xvciI6IDY1MjgwfX0K');</script>\n",
       "    "
      ],
      "text/plain": [
       "<IPython.core.display.HTML object>"
      ]
     },
     "metadata": {},
     "output_type": "display_data"
    },
    {
     "data": {
      "text/html": [
       "\n",
       "        <div id=\"5waPebwZKs4qreM4Mfj2he\"></div>\n",
       "        <script>netpixi.call('5waPebwZKs4qreM4Mfj2he', '6TdJewpHMtn6cJBSwgXbcW', 'changeGraph', 'eyJpZCI6IDIxMiwgInR5cGUiOiAidmVydGV4IiwgInByb3BzIjogeyJjb2xvciI6IDE2NzExNjgwfX0K');</script>\n",
       "    "
      ],
      "text/plain": [
       "<IPython.core.display.HTML object>"
      ]
     },
     "metadata": {},
     "output_type": "display_data"
    },
    {
     "data": {
      "text/html": [
       "\n",
       "        <div id=\"5aSxx3dzSopN3ErQ4P7MNK\"></div>\n",
       "        <script>netpixi.call('5aSxx3dzSopN3ErQ4P7MNK', '6TdJewpHMtn6cJBSwgXbcW', 'changeGraph', 'eyJpZCI6IDIxMywgInR5cGUiOiAidmVydGV4IiwgInByb3BzIjogeyJjb2xvciI6IDY1MjgwfX0K');</script>\n",
       "    "
      ],
      "text/plain": [
       "<IPython.core.display.HTML object>"
      ]
     },
     "metadata": {},
     "output_type": "display_data"
    },
    {
     "data": {
      "text/html": [
       "\n",
       "        <div id=\"BP4WXBaivcobvf5FL76pn7\"></div>\n",
       "        <script>netpixi.call('BP4WXBaivcobvf5FL76pn7', '6TdJewpHMtn6cJBSwgXbcW', 'changeGraph', 'eyJpZCI6IDIxNCwgInR5cGUiOiAidmVydGV4IiwgInByb3BzIjogeyJjb2xvciI6IDE2NzExNjgwfX0K');</script>\n",
       "    "
      ],
      "text/plain": [
       "<IPython.core.display.HTML object>"
      ]
     },
     "metadata": {},
     "output_type": "display_data"
    },
    {
     "data": {
      "text/html": [
       "\n",
       "        <div id=\"5hgqTptgtJHL3Wst6HJLrb\"></div>\n",
       "        <script>netpixi.call('5hgqTptgtJHL3Wst6HJLrb', '6TdJewpHMtn6cJBSwgXbcW', 'changeGraph', 'eyJpZCI6IDIxNSwgInR5cGUiOiAidmVydGV4IiwgInByb3BzIjogeyJjb2xvciI6IDE2NzExNjgwfX0K');</script>\n",
       "    "
      ],
      "text/plain": [
       "<IPython.core.display.HTML object>"
      ]
     },
     "metadata": {},
     "output_type": "display_data"
    },
    {
     "data": {
      "text/html": [
       "\n",
       "        <div id=\"M2shzbxcxHCSCfNAcxJmpU\"></div>\n",
       "        <script>netpixi.call('M2shzbxcxHCSCfNAcxJmpU', '6TdJewpHMtn6cJBSwgXbcW', 'changeGraph', 'eyJpZCI6IDIxNiwgInR5cGUiOiAidmVydGV4IiwgInByb3BzIjogeyJjb2xvciI6IDE2NzExNjgwfX0K');</script>\n",
       "    "
      ],
      "text/plain": [
       "<IPython.core.display.HTML object>"
      ]
     },
     "metadata": {},
     "output_type": "display_data"
    },
    {
     "data": {
      "text/html": [
       "\n",
       "        <div id=\"StWGhfaJK5VXm3BoK8raVZ\"></div>\n",
       "        <script>netpixi.call('StWGhfaJK5VXm3BoK8raVZ', '6TdJewpHMtn6cJBSwgXbcW', 'changeGraph', 'eyJpZCI6IDIxNywgInR5cGUiOiAidmVydGV4IiwgInByb3BzIjogeyJjb2xvciI6IDE2NzExNjgwfX0K');</script>\n",
       "    "
      ],
      "text/plain": [
       "<IPython.core.display.HTML object>"
      ]
     },
     "metadata": {},
     "output_type": "display_data"
    },
    {
     "data": {
      "text/html": [
       "\n",
       "        <div id=\"PQmYpADRfA6czWi68PMhRL\"></div>\n",
       "        <script>netpixi.call('PQmYpADRfA6czWi68PMhRL', '6TdJewpHMtn6cJBSwgXbcW', 'changeGraph', 'eyJpZCI6IDIxOCwgInR5cGUiOiAidmVydGV4IiwgInByb3BzIjogeyJjb2xvciI6IDE2NzExNjgwfX0K');</script>\n",
       "    "
      ],
      "text/plain": [
       "<IPython.core.display.HTML object>"
      ]
     },
     "metadata": {},
     "output_type": "display_data"
    },
    {
     "data": {
      "text/html": [
       "\n",
       "        <div id=\"dXk4MwRyqA4LXsHeRUP28y\"></div>\n",
       "        <script>netpixi.call('dXk4MwRyqA4LXsHeRUP28y', '6TdJewpHMtn6cJBSwgXbcW', 'changeGraph', 'eyJpZCI6IDIxOSwgInR5cGUiOiAidmVydGV4IiwgInByb3BzIjogeyJjb2xvciI6IDE2NzExNjgwfX0K');</script>\n",
       "    "
      ],
      "text/plain": [
       "<IPython.core.display.HTML object>"
      ]
     },
     "metadata": {},
     "output_type": "display_data"
    },
    {
     "data": {
      "text/html": [
       "\n",
       "        <div id=\"GVyoUy4fPgYdW3x7eJ4Bqg\"></div>\n",
       "        <script>netpixi.call('GVyoUy4fPgYdW3x7eJ4Bqg', '6TdJewpHMtn6cJBSwgXbcW', 'changeGraph', 'eyJpZCI6IDIyMCwgInR5cGUiOiAidmVydGV4IiwgInByb3BzIjogeyJjb2xvciI6IDE2NzExNjgwfX0K');</script>\n",
       "    "
      ],
      "text/plain": [
       "<IPython.core.display.HTML object>"
      ]
     },
     "metadata": {},
     "output_type": "display_data"
    },
    {
     "data": {
      "text/html": [
       "\n",
       "        <div id=\"JAgqqMmrrWANqNXH2Tg2QC\"></div>\n",
       "        <script>netpixi.call('JAgqqMmrrWANqNXH2Tg2QC', '6TdJewpHMtn6cJBSwgXbcW', 'changeGraph', 'eyJpZCI6IDIyMSwgInR5cGUiOiAidmVydGV4IiwgInByb3BzIjogeyJjb2xvciI6IDE2NzExNjgwfX0K');</script>\n",
       "    "
      ],
      "text/plain": [
       "<IPython.core.display.HTML object>"
      ]
     },
     "metadata": {},
     "output_type": "display_data"
    },
    {
     "data": {
      "text/html": [
       "\n",
       "        <div id=\"QUiKyEumYYToMm9TGwpdi9\"></div>\n",
       "        <script>netpixi.call('QUiKyEumYYToMm9TGwpdi9', '6TdJewpHMtn6cJBSwgXbcW', 'changeGraph', 'eyJpZCI6IDIyMiwgInR5cGUiOiAidmVydGV4IiwgInByb3BzIjogeyJjb2xvciI6IDE2NzExNjgwfX0K');</script>\n",
       "    "
      ],
      "text/plain": [
       "<IPython.core.display.HTML object>"
      ]
     },
     "metadata": {},
     "output_type": "display_data"
    },
    {
     "data": {
      "text/html": [
       "\n",
       "        <div id=\"LWcpWmvEXgNjY9RCabKZA8\"></div>\n",
       "        <script>netpixi.call('LWcpWmvEXgNjY9RCabKZA8', '6TdJewpHMtn6cJBSwgXbcW', 'changeGraph', 'eyJpZCI6IDIyMywgInR5cGUiOiAidmVydGV4IiwgInByb3BzIjogeyJjb2xvciI6IDE2NzExNjgwfX0K');</script>\n",
       "    "
      ],
      "text/plain": [
       "<IPython.core.display.HTML object>"
      ]
     },
     "metadata": {},
     "output_type": "display_data"
    },
    {
     "data": {
      "text/html": [
       "\n",
       "        <div id=\"Ec8r6GtGDQeAoETK5DGyBM\"></div>\n",
       "        <script>netpixi.call('Ec8r6GtGDQeAoETK5DGyBM', '6TdJewpHMtn6cJBSwgXbcW', 'changeGraph', 'eyJpZCI6IDIyNCwgInR5cGUiOiAidmVydGV4IiwgInByb3BzIjogeyJjb2xvciI6IDE2NzExNjgwfX0K');</script>\n",
       "    "
      ],
      "text/plain": [
       "<IPython.core.display.HTML object>"
      ]
     },
     "metadata": {},
     "output_type": "display_data"
    },
    {
     "data": {
      "text/html": [
       "\n",
       "        <div id=\"cTjLJbNGrikPAsspWa6EkP\"></div>\n",
       "        <script>netpixi.call('cTjLJbNGrikPAsspWa6EkP', '6TdJewpHMtn6cJBSwgXbcW', 'changeGraph', 'eyJpZCI6IDIyNSwgInR5cGUiOiAidmVydGV4IiwgInByb3BzIjogeyJjb2xvciI6IDE2NzExNjgwfX0K');</script>\n",
       "    "
      ],
      "text/plain": [
       "<IPython.core.display.HTML object>"
      ]
     },
     "metadata": {},
     "output_type": "display_data"
    },
    {
     "data": {
      "text/html": [
       "\n",
       "        <div id=\"3DfDSGqXo2XMtY2VqFyCDt\"></div>\n",
       "        <script>netpixi.call('3DfDSGqXo2XMtY2VqFyCDt', '6TdJewpHMtn6cJBSwgXbcW', 'changeGraph', 'eyJpZCI6IDIyNiwgInR5cGUiOiAidmVydGV4IiwgInByb3BzIjogeyJjb2xvciI6IDE2NzExNjgwfX0K');</script>\n",
       "    "
      ],
      "text/plain": [
       "<IPython.core.display.HTML object>"
      ]
     },
     "metadata": {},
     "output_type": "display_data"
    },
    {
     "data": {
      "text/html": [
       "\n",
       "        <div id=\"gnkUPHSNmNqAa5k2CBKVJV\"></div>\n",
       "        <script>netpixi.call('gnkUPHSNmNqAa5k2CBKVJV', '6TdJewpHMtn6cJBSwgXbcW', 'changeGraph', 'eyJpZCI6IDIyNywgInR5cGUiOiAidmVydGV4IiwgInByb3BzIjogeyJjb2xvciI6IDY1MjgwfX0K');</script>\n",
       "    "
      ],
      "text/plain": [
       "<IPython.core.display.HTML object>"
      ]
     },
     "metadata": {},
     "output_type": "display_data"
    },
    {
     "data": {
      "text/html": [
       "\n",
       "        <div id=\"jZvWypBzpHmBhSFsrYAPYZ\"></div>\n",
       "        <script>netpixi.call('jZvWypBzpHmBhSFsrYAPYZ', '6TdJewpHMtn6cJBSwgXbcW', 'changeGraph', 'eyJpZCI6IDIyOCwgInR5cGUiOiAidmVydGV4IiwgInByb3BzIjogeyJjb2xvciI6IDY1MjgwfX0K');</script>\n",
       "    "
      ],
      "text/plain": [
       "<IPython.core.display.HTML object>"
      ]
     },
     "metadata": {},
     "output_type": "display_data"
    },
    {
     "data": {
      "text/html": [
       "\n",
       "        <div id=\"cu6o88QqZnDoBGDvfzsTbf\"></div>\n",
       "        <script>netpixi.call('cu6o88QqZnDoBGDvfzsTbf', '6TdJewpHMtn6cJBSwgXbcW', 'changeGraph', 'eyJpZCI6IDIyOSwgInR5cGUiOiAidmVydGV4IiwgInByb3BzIjogeyJjb2xvciI6IDE2NzExNjgwfX0K');</script>\n",
       "    "
      ],
      "text/plain": [
       "<IPython.core.display.HTML object>"
      ]
     },
     "metadata": {},
     "output_type": "display_data"
    },
    {
     "data": {
      "text/html": [
       "\n",
       "        <div id=\"M5DS4nUWVcq9rV5aJC5o9h\"></div>\n",
       "        <script>netpixi.call('M5DS4nUWVcq9rV5aJC5o9h', '6TdJewpHMtn6cJBSwgXbcW', 'changeGraph', 'eyJpZCI6IDIzMCwgInR5cGUiOiAidmVydGV4IiwgInByb3BzIjogeyJjb2xvciI6IDE2NzExNjgwfX0K');</script>\n",
       "    "
      ],
      "text/plain": [
       "<IPython.core.display.HTML object>"
      ]
     },
     "metadata": {},
     "output_type": "display_data"
    },
    {
     "data": {
      "text/html": [
       "\n",
       "        <div id=\"WAW2FieY9xwHYLfiAXyqQg\"></div>\n",
       "        <script>netpixi.call('WAW2FieY9xwHYLfiAXyqQg', '6TdJewpHMtn6cJBSwgXbcW', 'changeGraph', 'eyJpZCI6IDIzMSwgInR5cGUiOiAidmVydGV4IiwgInByb3BzIjogeyJjb2xvciI6IDY1MjgwfX0K');</script>\n",
       "    "
      ],
      "text/plain": [
       "<IPython.core.display.HTML object>"
      ]
     },
     "metadata": {},
     "output_type": "display_data"
    },
    {
     "data": {
      "text/html": [
       "\n",
       "        <div id=\"R5LSbaC35S7KWFsiuh67r2\"></div>\n",
       "        <script>netpixi.call('R5LSbaC35S7KWFsiuh67r2', '6TdJewpHMtn6cJBSwgXbcW', 'changeGraph', 'eyJpZCI6IDIzMiwgInR5cGUiOiAidmVydGV4IiwgInByb3BzIjogeyJjb2xvciI6IDE2NzExNjgwfX0K');</script>\n",
       "    "
      ],
      "text/plain": [
       "<IPython.core.display.HTML object>"
      ]
     },
     "metadata": {},
     "output_type": "display_data"
    },
    {
     "data": {
      "text/html": [
       "\n",
       "        <div id=\"ngey2MzhYqAKCqQYL56954\"></div>\n",
       "        <script>netpixi.call('ngey2MzhYqAKCqQYL56954', '6TdJewpHMtn6cJBSwgXbcW', 'changeGraph', 'eyJpZCI6IDIzMywgInR5cGUiOiAidmVydGV4IiwgInByb3BzIjogeyJjb2xvciI6IDE2NzExNjgwfX0K');</script>\n",
       "    "
      ],
      "text/plain": [
       "<IPython.core.display.HTML object>"
      ]
     },
     "metadata": {},
     "output_type": "display_data"
    },
    {
     "data": {
      "text/html": [
       "\n",
       "        <div id=\"DSMLXsFcTMaVkekNJp7hfP\"></div>\n",
       "        <script>netpixi.call('DSMLXsFcTMaVkekNJp7hfP', '6TdJewpHMtn6cJBSwgXbcW', 'changeGraph', 'eyJpZCI6IDIzNCwgInR5cGUiOiAidmVydGV4IiwgInByb3BzIjogeyJjb2xvciI6IDE2NzExNjgwfX0K');</script>\n",
       "    "
      ],
      "text/plain": [
       "<IPython.core.display.HTML object>"
      ]
     },
     "metadata": {},
     "output_type": "display_data"
    },
    {
     "data": {
      "text/html": [
       "\n",
       "        <div id=\"3eXm5wBF7YfTcN3qfEUW9m\"></div>\n",
       "        <script>netpixi.call('3eXm5wBF7YfTcN3qfEUW9m', '6TdJewpHMtn6cJBSwgXbcW', 'changeGraph', 'eyJpZCI6IDIzNSwgInR5cGUiOiAidmVydGV4IiwgInByb3BzIjogeyJjb2xvciI6IDY1MjgwfX0K');</script>\n",
       "    "
      ],
      "text/plain": [
       "<IPython.core.display.HTML object>"
      ]
     },
     "metadata": {},
     "output_type": "display_data"
    },
    {
     "data": {
      "text/html": [
       "\n",
       "        <div id=\"dLepdzLSqfUJFHaeKDX49G\"></div>\n",
       "        <script>netpixi.call('dLepdzLSqfUJFHaeKDX49G', '6TdJewpHMtn6cJBSwgXbcW', 'changeGraph', 'eyJpZCI6IDIzNiwgInR5cGUiOiAidmVydGV4IiwgInByb3BzIjogeyJjb2xvciI6IDY1MjgwfX0K');</script>\n",
       "    "
      ],
      "text/plain": [
       "<IPython.core.display.HTML object>"
      ]
     },
     "metadata": {},
     "output_type": "display_data"
    },
    {
     "data": {
      "text/html": [
       "\n",
       "        <div id=\"8N2NVwXbjNyPNoc4NX9BX5\"></div>\n",
       "        <script>netpixi.call('8N2NVwXbjNyPNoc4NX9BX5', '6TdJewpHMtn6cJBSwgXbcW', 'changeGraph', 'eyJpZCI6IDIzNywgInR5cGUiOiAidmVydGV4IiwgInByb3BzIjogeyJjb2xvciI6IDE2NzExNjgwfX0K');</script>\n",
       "    "
      ],
      "text/plain": [
       "<IPython.core.display.HTML object>"
      ]
     },
     "metadata": {},
     "output_type": "display_data"
    },
    {
     "data": {
      "text/html": [
       "\n",
       "        <div id=\"Qs8vMTZ5kndyuMRq7zNm5J\"></div>\n",
       "        <script>netpixi.call('Qs8vMTZ5kndyuMRq7zNm5J', '6TdJewpHMtn6cJBSwgXbcW', 'changeGraph', 'eyJpZCI6IDIzOCwgInR5cGUiOiAidmVydGV4IiwgInByb3BzIjogeyJjb2xvciI6IDY1MjgwfX0K');</script>\n",
       "    "
      ],
      "text/plain": [
       "<IPython.core.display.HTML object>"
      ]
     },
     "metadata": {},
     "output_type": "display_data"
    },
    {
     "data": {
      "text/html": [
       "\n",
       "        <div id=\"CXdrBoWLoMfDws4vWcJhrs\"></div>\n",
       "        <script>netpixi.call('CXdrBoWLoMfDws4vWcJhrs', '6TdJewpHMtn6cJBSwgXbcW', 'changeGraph', 'eyJpZCI6IDIzOSwgInR5cGUiOiAidmVydGV4IiwgInByb3BzIjogeyJjb2xvciI6IDE2NzExNjgwfX0K');</script>\n",
       "    "
      ],
      "text/plain": [
       "<IPython.core.display.HTML object>"
      ]
     },
     "metadata": {},
     "output_type": "display_data"
    },
    {
     "data": {
      "text/html": [
       "\n",
       "        <div id=\"AydHeb86CmabtBQ7DX4Km2\"></div>\n",
       "        <script>netpixi.call('AydHeb86CmabtBQ7DX4Km2', '6TdJewpHMtn6cJBSwgXbcW', 'changeGraph', 'eyJpZCI6IDI0MCwgInR5cGUiOiAidmVydGV4IiwgInByb3BzIjogeyJjb2xvciI6IDY1MjgwfX0K');</script>\n",
       "    "
      ],
      "text/plain": [
       "<IPython.core.display.HTML object>"
      ]
     },
     "metadata": {},
     "output_type": "display_data"
    },
    {
     "data": {
      "text/html": [
       "\n",
       "        <div id=\"G6Cwh9uSQqeribHAbajkqE\"></div>\n",
       "        <script>netpixi.call('G6Cwh9uSQqeribHAbajkqE', '6TdJewpHMtn6cJBSwgXbcW', 'changeGraph', 'eyJpZCI6IDI0MSwgInR5cGUiOiAidmVydGV4IiwgInByb3BzIjogeyJjb2xvciI6IDE2NzExNjgwfX0K');</script>\n",
       "    "
      ],
      "text/plain": [
       "<IPython.core.display.HTML object>"
      ]
     },
     "metadata": {},
     "output_type": "display_data"
    },
    {
     "data": {
      "text/html": [
       "\n",
       "        <div id=\"ctXULQKRJkq6hwQaqYmZcL\"></div>\n",
       "        <script>netpixi.call('ctXULQKRJkq6hwQaqYmZcL', '6TdJewpHMtn6cJBSwgXbcW', 'changeGraph', 'eyJpZCI6IDI0MiwgInR5cGUiOiAidmVydGV4IiwgInByb3BzIjogeyJjb2xvciI6IDE2NzExNjgwfX0K');</script>\n",
       "    "
      ],
      "text/plain": [
       "<IPython.core.display.HTML object>"
      ]
     },
     "metadata": {},
     "output_type": "display_data"
    },
    {
     "data": {
      "text/html": [
       "\n",
       "        <div id=\"DmGNPg9hjtY5SFH3mXxQ7n\"></div>\n",
       "        <script>netpixi.call('DmGNPg9hjtY5SFH3mXxQ7n', '6TdJewpHMtn6cJBSwgXbcW', 'changeGraph', 'eyJpZCI6IDI0MywgInR5cGUiOiAidmVydGV4IiwgInByb3BzIjogeyJjb2xvciI6IDE2NzExNjgwfX0K');</script>\n",
       "    "
      ],
      "text/plain": [
       "<IPython.core.display.HTML object>"
      ]
     },
     "metadata": {},
     "output_type": "display_data"
    },
    {
     "data": {
      "text/html": [
       "\n",
       "        <div id=\"Q9ovMFt8N5ZmygTadzFmNd\"></div>\n",
       "        <script>netpixi.call('Q9ovMFt8N5ZmygTadzFmNd', '6TdJewpHMtn6cJBSwgXbcW', 'changeGraph', 'eyJpZCI6IDI0NCwgInR5cGUiOiAidmVydGV4IiwgInByb3BzIjogeyJjb2xvciI6IDE2NzExNjgwfX0K');</script>\n",
       "    "
      ],
      "text/plain": [
       "<IPython.core.display.HTML object>"
      ]
     },
     "metadata": {},
     "output_type": "display_data"
    },
    {
     "data": {
      "text/html": [
       "\n",
       "        <div id=\"bEwmTWofgdZQ2pyVW7BFDN\"></div>\n",
       "        <script>netpixi.call('bEwmTWofgdZQ2pyVW7BFDN', '6TdJewpHMtn6cJBSwgXbcW', 'changeGraph', 'eyJpZCI6IDI0NSwgInR5cGUiOiAidmVydGV4IiwgInByb3BzIjogeyJjb2xvciI6IDY1MjgwfX0K');</script>\n",
       "    "
      ],
      "text/plain": [
       "<IPython.core.display.HTML object>"
      ]
     },
     "metadata": {},
     "output_type": "display_data"
    },
    {
     "data": {
      "text/html": [
       "\n",
       "        <div id=\"Ef33FmcFN5bJC5HrZPfsPv\"></div>\n",
       "        <script>netpixi.call('Ef33FmcFN5bJC5HrZPfsPv', '6TdJewpHMtn6cJBSwgXbcW', 'changeGraph', 'eyJpZCI6IDI0NiwgInR5cGUiOiAidmVydGV4IiwgInByb3BzIjogeyJjb2xvciI6IDE2NzExNjgwfX0K');</script>\n",
       "    "
      ],
      "text/plain": [
       "<IPython.core.display.HTML object>"
      ]
     },
     "metadata": {},
     "output_type": "display_data"
    },
    {
     "data": {
      "text/html": [
       "\n",
       "        <div id=\"K4YtFmu4jeRHHSxX82Ej5q\"></div>\n",
       "        <script>netpixi.call('K4YtFmu4jeRHHSxX82Ej5q', '6TdJewpHMtn6cJBSwgXbcW', 'changeGraph', 'eyJpZCI6IDI0NywgInR5cGUiOiAidmVydGV4IiwgInByb3BzIjogeyJjb2xvciI6IDE2NzExNjgwfX0K');</script>\n",
       "    "
      ],
      "text/plain": [
       "<IPython.core.display.HTML object>"
      ]
     },
     "metadata": {},
     "output_type": "display_data"
    },
    {
     "data": {
      "text/html": [
       "\n",
       "        <div id=\"RYRQ3FPJzasN3LTFESLBit\"></div>\n",
       "        <script>netpixi.call('RYRQ3FPJzasN3LTFESLBit', '6TdJewpHMtn6cJBSwgXbcW', 'changeGraph', 'eyJpZCI6IDI0OCwgInR5cGUiOiAidmVydGV4IiwgInByb3BzIjogeyJjb2xvciI6IDE2NzExNjgwfX0K');</script>\n",
       "    "
      ],
      "text/plain": [
       "<IPython.core.display.HTML object>"
      ]
     },
     "metadata": {},
     "output_type": "display_data"
    },
    {
     "data": {
      "text/html": [
       "\n",
       "        <div id=\"iSMsvoVpR9SWjnsBU3MmHL\"></div>\n",
       "        <script>netpixi.call('iSMsvoVpR9SWjnsBU3MmHL', '6TdJewpHMtn6cJBSwgXbcW', 'changeGraph', 'eyJpZCI6IDI0OSwgInR5cGUiOiAidmVydGV4IiwgInByb3BzIjogeyJjb2xvciI6IDE2NzExNjgwfX0K');</script>\n",
       "    "
      ],
      "text/plain": [
       "<IPython.core.display.HTML object>"
      ]
     },
     "metadata": {},
     "output_type": "display_data"
    },
    {
     "data": {
      "text/html": [
       "\n",
       "        <div id=\"PpeosQgChrMbAhzyb9FPQf\"></div>\n",
       "        <script>netpixi.call('PpeosQgChrMbAhzyb9FPQf', '6TdJewpHMtn6cJBSwgXbcW', 'changeGraph', 'eyJpZCI6IDI1MCwgInR5cGUiOiAidmVydGV4IiwgInByb3BzIjogeyJjb2xvciI6IDE2NzExNjgwfX0K');</script>\n",
       "    "
      ],
      "text/plain": [
       "<IPython.core.display.HTML object>"
      ]
     },
     "metadata": {},
     "output_type": "display_data"
    },
    {
     "data": {
      "text/html": [
       "\n",
       "        <div id=\"dgGnEvJRmwmUx44huoxsos\"></div>\n",
       "        <script>netpixi.call('dgGnEvJRmwmUx44huoxsos', '6TdJewpHMtn6cJBSwgXbcW', 'changeGraph', 'eyJpZCI6IDI1MSwgInR5cGUiOiAidmVydGV4IiwgInByb3BzIjogeyJjb2xvciI6IDE2NzExNjgwfX0K');</script>\n",
       "    "
      ],
      "text/plain": [
       "<IPython.core.display.HTML object>"
      ]
     },
     "metadata": {},
     "output_type": "display_data"
    },
    {
     "data": {
      "text/html": [
       "\n",
       "        <div id=\"9nhEca3Fg2ovE9zW8kJHRU\"></div>\n",
       "        <script>netpixi.call('9nhEca3Fg2ovE9zW8kJHRU', '6TdJewpHMtn6cJBSwgXbcW', 'changeGraph', 'eyJpZCI6IDI1MiwgInR5cGUiOiAidmVydGV4IiwgInByb3BzIjogeyJjb2xvciI6IDE2NzExNjgwfX0K');</script>\n",
       "    "
      ],
      "text/plain": [
       "<IPython.core.display.HTML object>"
      ]
     },
     "metadata": {},
     "output_type": "display_data"
    },
    {
     "data": {
      "text/html": [
       "\n",
       "        <div id=\"YJ84N7mCchrfbMRAhHCgHy\"></div>\n",
       "        <script>netpixi.call('YJ84N7mCchrfbMRAhHCgHy', '6TdJewpHMtn6cJBSwgXbcW', 'changeGraph', 'eyJpZCI6IDI1MywgInR5cGUiOiAidmVydGV4IiwgInByb3BzIjogeyJjb2xvciI6IDY1MjgwfX0K');</script>\n",
       "    "
      ],
      "text/plain": [
       "<IPython.core.display.HTML object>"
      ]
     },
     "metadata": {},
     "output_type": "display_data"
    },
    {
     "data": {
      "text/html": [
       "\n",
       "        <div id=\"QsAb7ZmYMnmS5KY2PqNQHq\"></div>\n",
       "        <script>netpixi.call('QsAb7ZmYMnmS5KY2PqNQHq', '6TdJewpHMtn6cJBSwgXbcW', 'changeGraph', 'eyJpZCI6IDI1NCwgInR5cGUiOiAidmVydGV4IiwgInByb3BzIjogeyJjb2xvciI6IDE2NzExNjgwfX0K');</script>\n",
       "    "
      ],
      "text/plain": [
       "<IPython.core.display.HTML object>"
      ]
     },
     "metadata": {},
     "output_type": "display_data"
    },
    {
     "data": {
      "text/html": [
       "\n",
       "        <div id=\"DLCBQJJYf377UdKABAdtPQ\"></div>\n",
       "        <script>netpixi.call('DLCBQJJYf377UdKABAdtPQ', '6TdJewpHMtn6cJBSwgXbcW', 'changeGraph', 'eyJpZCI6IDI1NSwgInR5cGUiOiAidmVydGV4IiwgInByb3BzIjogeyJjb2xvciI6IDY1MjgwfX0K');</script>\n",
       "    "
      ],
      "text/plain": [
       "<IPython.core.display.HTML object>"
      ]
     },
     "metadata": {},
     "output_type": "display_data"
    },
    {
     "data": {
      "text/html": [
       "\n",
       "        <div id=\"K4Y73oyrBwkWKXZwfkcYYm\"></div>\n",
       "        <script>netpixi.call('K4Y73oyrBwkWKXZwfkcYYm', '6TdJewpHMtn6cJBSwgXbcW', 'changeGraph', 'eyJpZCI6IDI1NiwgInR5cGUiOiAidmVydGV4IiwgInByb3BzIjogeyJjb2xvciI6IDY1MjgwfX0K');</script>\n",
       "    "
      ],
      "text/plain": [
       "<IPython.core.display.HTML object>"
      ]
     },
     "metadata": {},
     "output_type": "display_data"
    },
    {
     "data": {
      "text/html": [
       "\n",
       "        <div id=\"GJkiJEaYXF2LQFCoSb26hB\"></div>\n",
       "        <script>netpixi.call('GJkiJEaYXF2LQFCoSb26hB', '6TdJewpHMtn6cJBSwgXbcW', 'changeGraph', 'eyJpZCI6IDI1NywgInR5cGUiOiAidmVydGV4IiwgInByb3BzIjogeyJjb2xvciI6IDE2NzExNjgwfX0K');</script>\n",
       "    "
      ],
      "text/plain": [
       "<IPython.core.display.HTML object>"
      ]
     },
     "metadata": {},
     "output_type": "display_data"
    },
    {
     "data": {
      "text/html": [
       "\n",
       "        <div id=\"MfqTFwx3PkKGESisiV6vHb\"></div>\n",
       "        <script>netpixi.call('MfqTFwx3PkKGESisiV6vHb', '6TdJewpHMtn6cJBSwgXbcW', 'changeGraph', 'eyJpZCI6IDI1OCwgInR5cGUiOiAidmVydGV4IiwgInByb3BzIjogeyJjb2xvciI6IDE2NzExNjgwfX0K');</script>\n",
       "    "
      ],
      "text/plain": [
       "<IPython.core.display.HTML object>"
      ]
     },
     "metadata": {},
     "output_type": "display_data"
    },
    {
     "data": {
      "text/html": [
       "\n",
       "        <div id=\"KDCEcKfHpHHdNZvuGjRM8u\"></div>\n",
       "        <script>netpixi.call('KDCEcKfHpHHdNZvuGjRM8u', '6TdJewpHMtn6cJBSwgXbcW', 'changeGraph', 'eyJpZCI6IDI1OSwgInR5cGUiOiAidmVydGV4IiwgInByb3BzIjogeyJjb2xvciI6IDE2NzExNjgwfX0K');</script>\n",
       "    "
      ],
      "text/plain": [
       "<IPython.core.display.HTML object>"
      ]
     },
     "metadata": {},
     "output_type": "display_data"
    },
    {
     "data": {
      "text/html": [
       "\n",
       "        <div id=\"cucqNHJ439T4ykNuGXVeeg\"></div>\n",
       "        <script>netpixi.call('cucqNHJ439T4ykNuGXVeeg', '6TdJewpHMtn6cJBSwgXbcW', 'changeGraph', 'eyJpZCI6IDI2MCwgInR5cGUiOiAidmVydGV4IiwgInByb3BzIjogeyJjb2xvciI6IDY1MjgwfX0K');</script>\n",
       "    "
      ],
      "text/plain": [
       "<IPython.core.display.HTML object>"
      ]
     },
     "metadata": {},
     "output_type": "display_data"
    },
    {
     "data": {
      "text/html": [
       "\n",
       "        <div id=\"5GSuQJYdvsoZ5F4piZVpz2\"></div>\n",
       "        <script>netpixi.call('5GSuQJYdvsoZ5F4piZVpz2', '6TdJewpHMtn6cJBSwgXbcW', 'changeGraph', 'eyJpZCI6IDI2MSwgInR5cGUiOiAidmVydGV4IiwgInByb3BzIjogeyJjb2xvciI6IDE2NzExNjgwfX0K');</script>\n",
       "    "
      ],
      "text/plain": [
       "<IPython.core.display.HTML object>"
      ]
     },
     "metadata": {},
     "output_type": "display_data"
    },
    {
     "data": {
      "text/html": [
       "\n",
       "        <div id=\"LwAY3NSGx7HhoL5nPjEXxg\"></div>\n",
       "        <script>netpixi.call('LwAY3NSGx7HhoL5nPjEXxg', '6TdJewpHMtn6cJBSwgXbcW', 'changeGraph', 'eyJpZCI6IDI2MiwgInR5cGUiOiAidmVydGV4IiwgInByb3BzIjogeyJjb2xvciI6IDE2NzExNjgwfX0K');</script>\n",
       "    "
      ],
      "text/plain": [
       "<IPython.core.display.HTML object>"
      ]
     },
     "metadata": {},
     "output_type": "display_data"
    },
    {
     "data": {
      "text/html": [
       "\n",
       "        <div id=\"EYVZ536bRPZ49yfcicBJUu\"></div>\n",
       "        <script>netpixi.call('EYVZ536bRPZ49yfcicBJUu', '6TdJewpHMtn6cJBSwgXbcW', 'changeGraph', 'eyJpZCI6IDI2MywgInR5cGUiOiAidmVydGV4IiwgInByb3BzIjogeyJjb2xvciI6IDE2NzExNjgwfX0K');</script>\n",
       "    "
      ],
      "text/plain": [
       "<IPython.core.display.HTML object>"
      ]
     },
     "metadata": {},
     "output_type": "display_data"
    },
    {
     "data": {
      "text/html": [
       "\n",
       "        <div id=\"hhUHJWorcGzdpfn69Z8sNo\"></div>\n",
       "        <script>netpixi.call('hhUHJWorcGzdpfn69Z8sNo', '6TdJewpHMtn6cJBSwgXbcW', 'changeGraph', 'eyJpZCI6IDI2NCwgInR5cGUiOiAidmVydGV4IiwgInByb3BzIjogeyJjb2xvciI6IDE2NzExNjgwfX0K');</script>\n",
       "    "
      ],
      "text/plain": [
       "<IPython.core.display.HTML object>"
      ]
     },
     "metadata": {},
     "output_type": "display_data"
    },
    {
     "data": {
      "text/html": [
       "\n",
       "        <div id=\"4NrxvxmGKern6QeU9aogwz\"></div>\n",
       "        <script>netpixi.call('4NrxvxmGKern6QeU9aogwz', '6TdJewpHMtn6cJBSwgXbcW', 'changeGraph', 'eyJpZCI6IDI2NSwgInR5cGUiOiAidmVydGV4IiwgInByb3BzIjogeyJjb2xvciI6IDE2NzExNjgwfX0K');</script>\n",
       "    "
      ],
      "text/plain": [
       "<IPython.core.display.HTML object>"
      ]
     },
     "metadata": {},
     "output_type": "display_data"
    },
    {
     "data": {
      "text/html": [
       "\n",
       "        <div id=\"LN8xsqKLvfB6FvNDPcLhQN\"></div>\n",
       "        <script>netpixi.call('LN8xsqKLvfB6FvNDPcLhQN', '6TdJewpHMtn6cJBSwgXbcW', 'changeGraph', 'eyJpZCI6IDI2NiwgInR5cGUiOiAidmVydGV4IiwgInByb3BzIjogeyJjb2xvciI6IDE2NzExNjgwfX0K');</script>\n",
       "    "
      ],
      "text/plain": [
       "<IPython.core.display.HTML object>"
      ]
     },
     "metadata": {},
     "output_type": "display_data"
    },
    {
     "data": {
      "text/html": [
       "\n",
       "        <div id=\"MaqbgLFM4DBZdwNqsFDhkY\"></div>\n",
       "        <script>netpixi.call('MaqbgLFM4DBZdwNqsFDhkY', '6TdJewpHMtn6cJBSwgXbcW', 'changeGraph', 'eyJpZCI6IDI2NywgInR5cGUiOiAidmVydGV4IiwgInByb3BzIjogeyJjb2xvciI6IDY1MjgwfX0K');</script>\n",
       "    "
      ],
      "text/plain": [
       "<IPython.core.display.HTML object>"
      ]
     },
     "metadata": {},
     "output_type": "display_data"
    },
    {
     "data": {
      "text/html": [
       "\n",
       "        <div id=\"KqkUx8nefGYPYrYNWb34N5\"></div>\n",
       "        <script>netpixi.call('KqkUx8nefGYPYrYNWb34N5', '6TdJewpHMtn6cJBSwgXbcW', 'changeGraph', 'eyJpZCI6IDI2OCwgInR5cGUiOiAidmVydGV4IiwgInByb3BzIjogeyJjb2xvciI6IDY1MjgwfX0K');</script>\n",
       "    "
      ],
      "text/plain": [
       "<IPython.core.display.HTML object>"
      ]
     },
     "metadata": {},
     "output_type": "display_data"
    },
    {
     "data": {
      "text/html": [
       "\n",
       "        <div id=\"mcGxa2Bnte7vy7Ldc8VZep\"></div>\n",
       "        <script>netpixi.call('mcGxa2Bnte7vy7Ldc8VZep', '6TdJewpHMtn6cJBSwgXbcW', 'changeGraph', 'eyJpZCI6IDI2OSwgInR5cGUiOiAidmVydGV4IiwgInByb3BzIjogeyJjb2xvciI6IDY1MjgwfX0K');</script>\n",
       "    "
      ],
      "text/plain": [
       "<IPython.core.display.HTML object>"
      ]
     },
     "metadata": {},
     "output_type": "display_data"
    },
    {
     "data": {
      "text/html": [
       "\n",
       "        <div id=\"itDfmb3kyEd66ZxSSSYCFv\"></div>\n",
       "        <script>netpixi.call('itDfmb3kyEd66ZxSSSYCFv', '6TdJewpHMtn6cJBSwgXbcW', 'changeGraph', 'eyJpZCI6IDI3MCwgInR5cGUiOiAidmVydGV4IiwgInByb3BzIjogeyJjb2xvciI6IDE2NzExNjgwfX0K');</script>\n",
       "    "
      ],
      "text/plain": [
       "<IPython.core.display.HTML object>"
      ]
     },
     "metadata": {},
     "output_type": "display_data"
    },
    {
     "data": {
      "text/html": [
       "\n",
       "        <div id=\"HUHwXFEcqfnqA3XrqvidLo\"></div>\n",
       "        <script>netpixi.call('HUHwXFEcqfnqA3XrqvidLo', '6TdJewpHMtn6cJBSwgXbcW', 'changeGraph', 'eyJpZCI6IDI3MSwgInR5cGUiOiAidmVydGV4IiwgInByb3BzIjogeyJjb2xvciI6IDY1MjgwfX0K');</script>\n",
       "    "
      ],
      "text/plain": [
       "<IPython.core.display.HTML object>"
      ]
     },
     "metadata": {},
     "output_type": "display_data"
    },
    {
     "data": {
      "text/html": [
       "\n",
       "        <div id=\"JZerUp99vpbSE3huzxT83W\"></div>\n",
       "        <script>netpixi.call('JZerUp99vpbSE3huzxT83W', '6TdJewpHMtn6cJBSwgXbcW', 'changeGraph', 'eyJpZCI6IDI3MiwgInR5cGUiOiAidmVydGV4IiwgInByb3BzIjogeyJjb2xvciI6IDY1MjgwfX0K');</script>\n",
       "    "
      ],
      "text/plain": [
       "<IPython.core.display.HTML object>"
      ]
     },
     "metadata": {},
     "output_type": "display_data"
    },
    {
     "data": {
      "text/html": [
       "\n",
       "        <div id=\"cmJcjyHeveNikFcpfMebbN\"></div>\n",
       "        <script>netpixi.call('cmJcjyHeveNikFcpfMebbN', '6TdJewpHMtn6cJBSwgXbcW', 'changeGraph', 'eyJpZCI6IDI3MywgInR5cGUiOiAidmVydGV4IiwgInByb3BzIjogeyJjb2xvciI6IDY1MjgwfX0K');</script>\n",
       "    "
      ],
      "text/plain": [
       "<IPython.core.display.HTML object>"
      ]
     },
     "metadata": {},
     "output_type": "display_data"
    },
    {
     "data": {
      "text/html": [
       "\n",
       "        <div id=\"aKD58hB89Akx6fpf8j5kSL\"></div>\n",
       "        <script>netpixi.call('aKD58hB89Akx6fpf8j5kSL', '6TdJewpHMtn6cJBSwgXbcW', 'changeGraph', 'eyJpZCI6IDI3NCwgInR5cGUiOiAidmVydGV4IiwgInByb3BzIjogeyJjb2xvciI6IDE2NzExNjgwfX0K');</script>\n",
       "    "
      ],
      "text/plain": [
       "<IPython.core.display.HTML object>"
      ]
     },
     "metadata": {},
     "output_type": "display_data"
    },
    {
     "data": {
      "text/html": [
       "\n",
       "        <div id=\"g9gDVbncZwrSpxfPU2CHmS\"></div>\n",
       "        <script>netpixi.call('g9gDVbncZwrSpxfPU2CHmS', '6TdJewpHMtn6cJBSwgXbcW', 'changeGraph', 'eyJpZCI6IDI3NSwgInR5cGUiOiAidmVydGV4IiwgInByb3BzIjogeyJjb2xvciI6IDY1MjgwfX0K');</script>\n",
       "    "
      ],
      "text/plain": [
       "<IPython.core.display.HTML object>"
      ]
     },
     "metadata": {},
     "output_type": "display_data"
    },
    {
     "data": {
      "text/html": [
       "\n",
       "        <div id=\"aG3ee8huGUywNHtq2xzetN\"></div>\n",
       "        <script>netpixi.call('aG3ee8huGUywNHtq2xzetN', '6TdJewpHMtn6cJBSwgXbcW', 'changeGraph', 'eyJpZCI6IDI3NiwgInR5cGUiOiAidmVydGV4IiwgInByb3BzIjogeyJjb2xvciI6IDY1MjgwfX0K');</script>\n",
       "    "
      ],
      "text/plain": [
       "<IPython.core.display.HTML object>"
      ]
     },
     "metadata": {},
     "output_type": "display_data"
    },
    {
     "data": {
      "text/html": [
       "\n",
       "        <div id=\"mCHZwyoUcQZTUN3NbACUGK\"></div>\n",
       "        <script>netpixi.call('mCHZwyoUcQZTUN3NbACUGK', '6TdJewpHMtn6cJBSwgXbcW', 'changeGraph', 'eyJpZCI6IDI3NywgInR5cGUiOiAidmVydGV4IiwgInByb3BzIjogeyJjb2xvciI6IDE2NzExNjgwfX0K');</script>\n",
       "    "
      ],
      "text/plain": [
       "<IPython.core.display.HTML object>"
      ]
     },
     "metadata": {},
     "output_type": "display_data"
    },
    {
     "data": {
      "text/html": [
       "\n",
       "        <div id=\"P57gwJZ7Jd3uL7SfU5VjyG\"></div>\n",
       "        <script>netpixi.call('P57gwJZ7Jd3uL7SfU5VjyG', '6TdJewpHMtn6cJBSwgXbcW', 'changeGraph', 'eyJpZCI6IDI3OCwgInR5cGUiOiAidmVydGV4IiwgInByb3BzIjogeyJjb2xvciI6IDY1MjgwfX0K');</script>\n",
       "    "
      ],
      "text/plain": [
       "<IPython.core.display.HTML object>"
      ]
     },
     "metadata": {},
     "output_type": "display_data"
    },
    {
     "data": {
      "text/html": [
       "\n",
       "        <div id=\"UjJ68U77TY2gGEAE9YS5nQ\"></div>\n",
       "        <script>netpixi.call('UjJ68U77TY2gGEAE9YS5nQ', '6TdJewpHMtn6cJBSwgXbcW', 'changeGraph', 'eyJpZCI6IDI3OSwgInR5cGUiOiAidmVydGV4IiwgInByb3BzIjogeyJjb2xvciI6IDE2NzExNjgwfX0K');</script>\n",
       "    "
      ],
      "text/plain": [
       "<IPython.core.display.HTML object>"
      ]
     },
     "metadata": {},
     "output_type": "display_data"
    },
    {
     "data": {
      "text/html": [
       "\n",
       "        <div id=\"JtdMgtdc67j8TE4AdjRm2V\"></div>\n",
       "        <script>netpixi.call('JtdMgtdc67j8TE4AdjRm2V', '6TdJewpHMtn6cJBSwgXbcW', 'changeGraph', 'eyJpZCI6IDI4MCwgInR5cGUiOiAidmVydGV4IiwgInByb3BzIjogeyJjb2xvciI6IDE2NzExNjgwfX0K');</script>\n",
       "    "
      ],
      "text/plain": [
       "<IPython.core.display.HTML object>"
      ]
     },
     "metadata": {},
     "output_type": "display_data"
    },
    {
     "data": {
      "text/html": [
       "\n",
       "        <div id=\"9jc5gwPDiCXY6oy2puzr9C\"></div>\n",
       "        <script>netpixi.call('9jc5gwPDiCXY6oy2puzr9C', '6TdJewpHMtn6cJBSwgXbcW', 'changeGraph', 'eyJpZCI6IDI4MSwgInR5cGUiOiAidmVydGV4IiwgInByb3BzIjogeyJjb2xvciI6IDY1MjgwfX0K');</script>\n",
       "    "
      ],
      "text/plain": [
       "<IPython.core.display.HTML object>"
      ]
     },
     "metadata": {},
     "output_type": "display_data"
    },
    {
     "data": {
      "text/html": [
       "\n",
       "        <div id=\"iYvKEhXii2Cc5uUAjuiz4u\"></div>\n",
       "        <script>netpixi.call('iYvKEhXii2Cc5uUAjuiz4u', '6TdJewpHMtn6cJBSwgXbcW', 'changeGraph', 'eyJpZCI6IDI4MiwgInR5cGUiOiAidmVydGV4IiwgInByb3BzIjogeyJjb2xvciI6IDE2NzExNjgwfX0K');</script>\n",
       "    "
      ],
      "text/plain": [
       "<IPython.core.display.HTML object>"
      ]
     },
     "metadata": {},
     "output_type": "display_data"
    },
    {
     "data": {
      "text/html": [
       "\n",
       "        <div id=\"DZFrF8vDH8QpxjNwfbBhaP\"></div>\n",
       "        <script>netpixi.call('DZFrF8vDH8QpxjNwfbBhaP', '6TdJewpHMtn6cJBSwgXbcW', 'changeGraph', 'eyJpZCI6IDI4MywgInR5cGUiOiAidmVydGV4IiwgInByb3BzIjogeyJjb2xvciI6IDY1MjgwfX0K');</script>\n",
       "    "
      ],
      "text/plain": [
       "<IPython.core.display.HTML object>"
      ]
     },
     "metadata": {},
     "output_type": "display_data"
    },
    {
     "data": {
      "text/html": [
       "\n",
       "        <div id=\"JV8ofWQevxxUMQgpJggZ3E\"></div>\n",
       "        <script>netpixi.call('JV8ofWQevxxUMQgpJggZ3E', '6TdJewpHMtn6cJBSwgXbcW', 'changeGraph', 'eyJpZCI6IDI4NCwgInR5cGUiOiAidmVydGV4IiwgInByb3BzIjogeyJjb2xvciI6IDY1MjgwfX0K');</script>\n",
       "    "
      ],
      "text/plain": [
       "<IPython.core.display.HTML object>"
      ]
     },
     "metadata": {},
     "output_type": "display_data"
    },
    {
     "data": {
      "text/html": [
       "\n",
       "        <div id=\"WkYy3rzF2ZFKo2FN9oYSKY\"></div>\n",
       "        <script>netpixi.call('WkYy3rzF2ZFKo2FN9oYSKY', '6TdJewpHMtn6cJBSwgXbcW', 'changeGraph', 'eyJpZCI6IDI4NSwgInR5cGUiOiAidmVydGV4IiwgInByb3BzIjogeyJjb2xvciI6IDY1MjgwfX0K');</script>\n",
       "    "
      ],
      "text/plain": [
       "<IPython.core.display.HTML object>"
      ]
     },
     "metadata": {},
     "output_type": "display_data"
    },
    {
     "data": {
      "text/html": [
       "\n",
       "        <div id=\"oATT4q8KmEMY7eCZJmBnaJ\"></div>\n",
       "        <script>netpixi.call('oATT4q8KmEMY7eCZJmBnaJ', '6TdJewpHMtn6cJBSwgXbcW', 'changeGraph', 'eyJpZCI6IDI4NiwgInR5cGUiOiAidmVydGV4IiwgInByb3BzIjogeyJjb2xvciI6IDE2NzExNjgwfX0K');</script>\n",
       "    "
      ],
      "text/plain": [
       "<IPython.core.display.HTML object>"
      ]
     },
     "metadata": {},
     "output_type": "display_data"
    },
    {
     "data": {
      "text/html": [
       "\n",
       "        <div id=\"JTT3otk9ShSvufaBvNL8JN\"></div>\n",
       "        <script>netpixi.call('JTT3otk9ShSvufaBvNL8JN', '6TdJewpHMtn6cJBSwgXbcW', 'changeGraph', 'eyJpZCI6IDI4NywgInR5cGUiOiAidmVydGV4IiwgInByb3BzIjogeyJjb2xvciI6IDY1MjgwfX0K');</script>\n",
       "    "
      ],
      "text/plain": [
       "<IPython.core.display.HTML object>"
      ]
     },
     "metadata": {},
     "output_type": "display_data"
    },
    {
     "data": {
      "text/html": [
       "\n",
       "        <div id=\"j7oLFJh4ob2jthMzgcp8Xc\"></div>\n",
       "        <script>netpixi.call('j7oLFJh4ob2jthMzgcp8Xc', '6TdJewpHMtn6cJBSwgXbcW', 'changeGraph', 'eyJpZCI6IDI4OCwgInR5cGUiOiAidmVydGV4IiwgInByb3BzIjogeyJjb2xvciI6IDY1MjgwfX0K');</script>\n",
       "    "
      ],
      "text/plain": [
       "<IPython.core.display.HTML object>"
      ]
     },
     "metadata": {},
     "output_type": "display_data"
    },
    {
     "data": {
      "text/html": [
       "\n",
       "        <div id=\"2kwdJziyp2AWTXRFe6JnED\"></div>\n",
       "        <script>netpixi.call('2kwdJziyp2AWTXRFe6JnED', '6TdJewpHMtn6cJBSwgXbcW', 'changeGraph', 'eyJpZCI6IDI4OSwgInR5cGUiOiAidmVydGV4IiwgInByb3BzIjogeyJjb2xvciI6IDE2NzExNjgwfX0K');</script>\n",
       "    "
      ],
      "text/plain": [
       "<IPython.core.display.HTML object>"
      ]
     },
     "metadata": {},
     "output_type": "display_data"
    },
    {
     "data": {
      "text/html": [
       "\n",
       "        <div id=\"6wwZvXf6wy2boDii6izCfG\"></div>\n",
       "        <script>netpixi.call('6wwZvXf6wy2boDii6izCfG', '6TdJewpHMtn6cJBSwgXbcW', 'changeGraph', 'eyJpZCI6IDI5MCwgInR5cGUiOiAidmVydGV4IiwgInByb3BzIjogeyJjb2xvciI6IDY1MjgwfX0K');</script>\n",
       "    "
      ],
      "text/plain": [
       "<IPython.core.display.HTML object>"
      ]
     },
     "metadata": {},
     "output_type": "display_data"
    },
    {
     "data": {
      "text/html": [
       "\n",
       "        <div id=\"2enHDCffQM5vHakMbkpVKQ\"></div>\n",
       "        <script>netpixi.call('2enHDCffQM5vHakMbkpVKQ', '6TdJewpHMtn6cJBSwgXbcW', 'changeGraph', 'eyJpZCI6IDI5MSwgInR5cGUiOiAidmVydGV4IiwgInByb3BzIjogeyJjb2xvciI6IDE2NzExNjgwfX0K');</script>\n",
       "    "
      ],
      "text/plain": [
       "<IPython.core.display.HTML object>"
      ]
     },
     "metadata": {},
     "output_type": "display_data"
    },
    {
     "data": {
      "text/html": [
       "\n",
       "        <div id=\"A7uU3rRznQmcJkWdLYKuk2\"></div>\n",
       "        <script>netpixi.call('A7uU3rRznQmcJkWdLYKuk2', '6TdJewpHMtn6cJBSwgXbcW', 'changeGraph', 'eyJpZCI6IDI5MiwgInR5cGUiOiAidmVydGV4IiwgInByb3BzIjogeyJjb2xvciI6IDE2NzExNjgwfX0K');</script>\n",
       "    "
      ],
      "text/plain": [
       "<IPython.core.display.HTML object>"
      ]
     },
     "metadata": {},
     "output_type": "display_data"
    },
    {
     "data": {
      "text/html": [
       "\n",
       "        <div id=\"PvtsZKQGu4or3AZtRjHxgm\"></div>\n",
       "        <script>netpixi.call('PvtsZKQGu4or3AZtRjHxgm', '6TdJewpHMtn6cJBSwgXbcW', 'changeGraph', 'eyJpZCI6IDI5MywgInR5cGUiOiAidmVydGV4IiwgInByb3BzIjogeyJjb2xvciI6IDE2NzExNjgwfX0K');</script>\n",
       "    "
      ],
      "text/plain": [
       "<IPython.core.display.HTML object>"
      ]
     },
     "metadata": {},
     "output_type": "display_data"
    },
    {
     "data": {
      "text/html": [
       "\n",
       "        <div id=\"YMXc4umyK2gw7JbLjyouTS\"></div>\n",
       "        <script>netpixi.call('YMXc4umyK2gw7JbLjyouTS', '6TdJewpHMtn6cJBSwgXbcW', 'changeGraph', 'eyJpZCI6IDI5NCwgInR5cGUiOiAidmVydGV4IiwgInByb3BzIjogeyJjb2xvciI6IDY1MjgwfX0K');</script>\n",
       "    "
      ],
      "text/plain": [
       "<IPython.core.display.HTML object>"
      ]
     },
     "metadata": {},
     "output_type": "display_data"
    },
    {
     "data": {
      "text/html": [
       "\n",
       "        <div id=\"iVrW8zR4Czkqoj7ZhGUkBu\"></div>\n",
       "        <script>netpixi.call('iVrW8zR4Czkqoj7ZhGUkBu', '6TdJewpHMtn6cJBSwgXbcW', 'changeGraph', 'eyJpZCI6IDI5NSwgInR5cGUiOiAidmVydGV4IiwgInByb3BzIjogeyJjb2xvciI6IDY1MjgwfX0K');</script>\n",
       "    "
      ],
      "text/plain": [
       "<IPython.core.display.HTML object>"
      ]
     },
     "metadata": {},
     "output_type": "display_data"
    },
    {
     "data": {
      "text/html": [
       "\n",
       "        <div id=\"gepeBqba28HF5VZ3mYjp7E\"></div>\n",
       "        <script>netpixi.call('gepeBqba28HF5VZ3mYjp7E', '6TdJewpHMtn6cJBSwgXbcW', 'changeGraph', 'eyJpZCI6IDI5NiwgInR5cGUiOiAidmVydGV4IiwgInByb3BzIjogeyJjb2xvciI6IDE2NzExNjgwfX0K');</script>\n",
       "    "
      ],
      "text/plain": [
       "<IPython.core.display.HTML object>"
      ]
     },
     "metadata": {},
     "output_type": "display_data"
    },
    {
     "data": {
      "text/html": [
       "\n",
       "        <div id=\"C2WAss4JGrBVmMRWYGZzHk\"></div>\n",
       "        <script>netpixi.call('C2WAss4JGrBVmMRWYGZzHk', '6TdJewpHMtn6cJBSwgXbcW', 'changeGraph', 'eyJpZCI6IDI5NywgInR5cGUiOiAidmVydGV4IiwgInByb3BzIjogeyJjb2xvciI6IDY1MjgwfX0K');</script>\n",
       "    "
      ],
      "text/plain": [
       "<IPython.core.display.HTML object>"
      ]
     },
     "metadata": {},
     "output_type": "display_data"
    },
    {
     "data": {
      "text/html": [
       "\n",
       "        <div id=\"RCxnNS7qjgJ7c4iPvd8pQi\"></div>\n",
       "        <script>netpixi.call('RCxnNS7qjgJ7c4iPvd8pQi', '6TdJewpHMtn6cJBSwgXbcW', 'changeGraph', 'eyJpZCI6IDI5OCwgInR5cGUiOiAidmVydGV4IiwgInByb3BzIjogeyJjb2xvciI6IDY1MjgwfX0K');</script>\n",
       "    "
      ],
      "text/plain": [
       "<IPython.core.display.HTML object>"
      ]
     },
     "metadata": {},
     "output_type": "display_data"
    },
    {
     "data": {
      "text/html": [
       "\n",
       "        <div id=\"FFmEXP8Xo2LURYZq4FXNVV\"></div>\n",
       "        <script>netpixi.call('FFmEXP8Xo2LURYZq4FXNVV', '6TdJewpHMtn6cJBSwgXbcW', 'changeGraph', 'eyJpZCI6IDAsICJ0eXBlIjogInZlcnRleCIsICJwcm9wcyI6IHsic2l6ZSI6IDEzLjg5MTIxMzM4OTEyMTMzOH19Cg==');</script>\n",
       "    "
      ],
      "text/plain": [
       "<IPython.core.display.HTML object>"
      ]
     },
     "metadata": {},
     "output_type": "display_data"
    },
    {
     "data": {
      "text/html": [
       "\n",
       "        <div id=\"QQBCPPMZckkgDW8XuZS2ji\"></div>\n",
       "        <script>netpixi.call('QQBCPPMZckkgDW8XuZS2ji', '6TdJewpHMtn6cJBSwgXbcW', 'changeGraph', 'eyJpZCI6IDg3LCAidHlwZSI6ICJ2ZXJ0ZXgiLCAicHJvcHMiOiB7ImNvbG9yIjogMTY3MTE2ODB9fQo=');</script>\n",
       "    "
      ],
      "text/plain": [
       "<IPython.core.display.HTML object>"
      ]
     },
     "metadata": {},
     "output_type": "display_data"
    },
    {
     "data": {
      "text/html": [
       "\n",
       "        <div id=\"4xkAh8ZdkTHvUotDP2bTTz\"></div>\n",
       "        <script>netpixi.call('4xkAh8ZdkTHvUotDP2bTTz', '6TdJewpHMtn6cJBSwgXbcW', 'changeGraph', 'eyJpZCI6IDEsICJ0eXBlIjogInZlcnRleCIsICJwcm9wcyI6IHsic2l6ZSI6IDEyLjA5MjA1MDIwOTIwNTAyfX0K');</script>\n",
       "    "
      ],
      "text/plain": [
       "<IPython.core.display.HTML object>"
      ]
     },
     "metadata": {},
     "output_type": "display_data"
    },
    {
     "data": {
      "text/html": [
       "\n",
       "        <div id=\"PrFftqmaEXsdfujjonWEDC\"></div>\n",
       "        <script>netpixi.call('PrFftqmaEXsdfujjonWEDC', '6TdJewpHMtn6cJBSwgXbcW', 'changeGraph', 'eyJpZCI6IDczLCAidHlwZSI6ICJ2ZXJ0ZXgiLCAicHJvcHMiOiB7ImNvbG9yIjogMTY3MTE2ODB9fQo=');</script>\n",
       "    "
      ],
      "text/plain": [
       "<IPython.core.display.HTML object>"
      ]
     },
     "metadata": {},
     "output_type": "display_data"
    },
    {
     "data": {
      "text/html": [
       "\n",
       "        <div id=\"VKPzyxxVno3QfcmAau5nsd\"></div>\n",
       "        <script>netpixi.call('VKPzyxxVno3QfcmAau5nsd', '6TdJewpHMtn6cJBSwgXbcW', 'changeGraph', 'eyJpZCI6IDIsICJ0eXBlIjogInZlcnRleCIsICJwcm9wcyI6IHsic2l6ZSI6IDE0LjMwOTYyMzQzMDk2MjM0M319Cg==');</script>\n",
       "    "
      ],
      "text/plain": [
       "<IPython.core.display.HTML object>"
      ]
     },
     "metadata": {},
     "output_type": "display_data"
    },
    {
     "data": {
      "text/html": [
       "\n",
       "        <div id=\"M9xWfzsDbrow3bvAqnM5MA\"></div>\n",
       "        <script>netpixi.call('M9xWfzsDbrow3bvAqnM5MA', '6TdJewpHMtn6cJBSwgXbcW', 'changeGraph', 'eyJpZCI6IDg3LCAidHlwZSI6ICJ2ZXJ0ZXgiLCAicHJvcHMiOiB7ImNvbG9yIjogMTY3MTE2ODB9fQo=');</script>\n",
       "    "
      ],
      "text/plain": [
       "<IPython.core.display.HTML object>"
      ]
     },
     "metadata": {},
     "output_type": "display_data"
    },
    {
     "data": {
      "text/html": [
       "\n",
       "        <div id=\"Wub3U5iDobq5DfhpYVMTXr\"></div>\n",
       "        <script>netpixi.call('Wub3U5iDobq5DfhpYVMTXr', '6TdJewpHMtn6cJBSwgXbcW', 'changeGraph', 'eyJpZCI6IDMsICJ0eXBlIjogInZlcnRleCIsICJwcm9wcyI6IHsic2l6ZSI6IDEzLjM4OTEyMTMzODkxMjEzM319Cg==');</script>\n",
       "    "
      ],
      "text/plain": [
       "<IPython.core.display.HTML object>"
      ]
     },
     "metadata": {},
     "output_type": "display_data"
    },
    {
     "data": {
      "text/html": [
       "\n",
       "        <div id=\"e4RN62mdujq2teFbauaPou\"></div>\n",
       "        <script>netpixi.call('e4RN62mdujq2teFbauaPou', '6TdJewpHMtn6cJBSwgXbcW', 'changeGraph', 'eyJpZCI6IDc2LCAidHlwZSI6ICJ2ZXJ0ZXgiLCAicHJvcHMiOiB7ImNvbG9yIjogMTY3MTE2ODB9fQo=');</script>\n",
       "    "
      ],
      "text/plain": [
       "<IPython.core.display.HTML object>"
      ]
     },
     "metadata": {},
     "output_type": "display_data"
    },
    {
     "data": {
      "text/html": [
       "\n",
       "        <div id=\"8mkjV9HgK6ZAe9aNyXKbj3\"></div>\n",
       "        <script>netpixi.call('8mkjV9HgK6ZAe9aNyXKbj3', '6TdJewpHMtn6cJBSwgXbcW', 'changeGraph', 'eyJpZCI6IDQsICJ0eXBlIjogInZlcnRleCIsICJwcm9wcyI6IHsic2l6ZSI6IDQwLjY2NjY2NjY2NjY2NjY3fX0K');</script>\n",
       "    "
      ],
      "text/plain": [
       "<IPython.core.display.HTML object>"
      ]
     },
     "metadata": {},
     "output_type": "display_data"
    },
    {
     "data": {
      "text/html": [
       "\n",
       "        <div id=\"GLKaQtdRJ5bH3CzEcKuiXx\"></div>\n",
       "        <script>netpixi.call('GLKaQtdRJ5bH3CzEcKuiXx', '6TdJewpHMtn6cJBSwgXbcW', 'changeGraph', 'eyJpZCI6IDY3LCAidHlwZSI6ICJ2ZXJ0ZXgiLCAicHJvcHMiOiB7ImNvbG9yIjogMTY3MTE2ODB9fQo=');</script>\n",
       "    "
      ],
      "text/plain": [
       "<IPython.core.display.HTML object>"
      ]
     },
     "metadata": {},
     "output_type": "display_data"
    },
    {
     "data": {
      "text/html": [
       "\n",
       "        <div id=\"AT27Ei48oLHoQB6VWWDK8T\"></div>\n",
       "        <script>netpixi.call('AT27Ei48oLHoQB6VWWDK8T', '6TdJewpHMtn6cJBSwgXbcW', 'changeGraph', 'eyJpZCI6IDUsICJ0eXBlIjogInZlcnRleCIsICJwcm9wcyI6IHsic2l6ZSI6IDExLjk2NjUyNzE5NjY1MjcyfX0K');</script>\n",
       "    "
      ],
      "text/plain": [
       "<IPython.core.display.HTML object>"
      ]
     },
     "metadata": {},
     "output_type": "display_data"
    },
    {
     "data": {
      "text/html": [
       "\n",
       "        <div id=\"XDyqQrKGXovUKxhYgMuZoQ\"></div>\n",
       "        <script>netpixi.call('XDyqQrKGXovUKxhYgMuZoQ', '6TdJewpHMtn6cJBSwgXbcW', 'changeGraph', 'eyJpZCI6IDcxLCAidHlwZSI6ICJ2ZXJ0ZXgiLCAicHJvcHMiOiB7ImNvbG9yIjogMTY3MTE2ODB9fQo=');</script>\n",
       "    "
      ],
      "text/plain": [
       "<IPython.core.display.HTML object>"
      ]
     },
     "metadata": {},
     "output_type": "display_data"
    },
    {
     "data": {
      "text/html": [
       "\n",
       "        <div id=\"85MjXMwWWueVdgJCsAgPim\"></div>\n",
       "        <script>netpixi.call('85MjXMwWWueVdgJCsAgPim', '6TdJewpHMtn6cJBSwgXbcW', 'changeGraph', 'eyJpZCI6IDYsICJ0eXBlIjogInZlcnRleCIsICJwcm9wcyI6IHsic2l6ZSI6IDE1LjAyMDkyMDUwMjA5MjA1fX0K');</script>\n",
       "    "
      ],
      "text/plain": [
       "<IPython.core.display.HTML object>"
      ]
     },
     "metadata": {},
     "output_type": "display_data"
    },
    {
     "data": {
      "text/html": [
       "\n",
       "        <div id=\"NZjTqTYsAGDAtQ8Tk3CRKt\"></div>\n",
       "        <script>netpixi.call('NZjTqTYsAGDAtQ8Tk3CRKt', '6TdJewpHMtn6cJBSwgXbcW', 'changeGraph', 'eyJpZCI6IDg3LCAidHlwZSI6ICJ2ZXJ0ZXgiLCAicHJvcHMiOiB7ImNvbG9yIjogMTY3MTE2ODB9fQo=');</script>\n",
       "    "
      ],
      "text/plain": [
       "<IPython.core.display.HTML object>"
      ]
     },
     "metadata": {},
     "output_type": "display_data"
    },
    {
     "data": {
      "text/html": [
       "\n",
       "        <div id=\"fCwynMB3W5gkHpTM945vQF\"></div>\n",
       "        <script>netpixi.call('fCwynMB3W5gkHpTM945vQF', '6TdJewpHMtn6cJBSwgXbcW', 'changeGraph', 'eyJpZCI6IDcsICJ0eXBlIjogInZlcnRleCIsICJwcm9wcyI6IHsic2l6ZSI6IDE5LjIwNTAyMDkyMDUwMjA5M319Cg==');</script>\n",
       "    "
      ],
      "text/plain": [
       "<IPython.core.display.HTML object>"
      ]
     },
     "metadata": {},
     "output_type": "display_data"
    },
    {
     "data": {
      "text/html": [
       "\n",
       "        <div id=\"TWUFm5CardsBJjgkuUFc7M\"></div>\n",
       "        <script>netpixi.call('TWUFm5CardsBJjgkuUFc7M', '6TdJewpHMtn6cJBSwgXbcW', 'changeGraph', 'eyJpZCI6IDcwLCAidHlwZSI6ICJ2ZXJ0ZXgiLCAicHJvcHMiOiB7ImNvbG9yIjogMTY3MTE2ODB9fQo=');</script>\n",
       "    "
      ],
      "text/plain": [
       "<IPython.core.display.HTML object>"
      ]
     },
     "metadata": {},
     "output_type": "display_data"
    },
    {
     "data": {
      "text/html": [
       "\n",
       "        <div id=\"Th25LFsjrhg4dc5quCB3v7\"></div>\n",
       "        <script>netpixi.call('Th25LFsjrhg4dc5quCB3v7', '6TdJewpHMtn6cJBSwgXbcW', 'changeGraph', 'eyJpZCI6IDgsICJ0eXBlIjogInZlcnRleCIsICJwcm9wcyI6IHsic2l6ZSI6IDEzLjg0OTM3MjM4NDkzNzIzOH19Cg==');</script>\n",
       "    "
      ],
      "text/plain": [
       "<IPython.core.display.HTML object>"
      ]
     },
     "metadata": {},
     "output_type": "display_data"
    },
    {
     "data": {
      "text/html": [
       "\n",
       "        <div id=\"mji45svQgPEVUHXNJYM5u5\"></div>\n",
       "        <script>netpixi.call('mji45svQgPEVUHXNJYM5u5', '6TdJewpHMtn6cJBSwgXbcW', 'changeGraph', 'eyJpZCI6IDc1LCAidHlwZSI6ICJ2ZXJ0ZXgiLCAicHJvcHMiOiB7ImNvbG9yIjogMTY3MTE2ODB9fQo=');</script>\n",
       "    "
      ],
      "text/plain": [
       "<IPython.core.display.HTML object>"
      ]
     },
     "metadata": {},
     "output_type": "display_data"
    },
    {
     "data": {
      "text/html": [
       "\n",
       "        <div id=\"BU56sSbH2tpoQBxsduguFx\"></div>\n",
       "        <script>netpixi.call('BU56sSbH2tpoQBxsduguFx', '6TdJewpHMtn6cJBSwgXbcW', 'changeGraph', 'eyJpZCI6IDksICJ0eXBlIjogInZlcnRleCIsICJwcm9wcyI6IHsic2l6ZSI6IDE2LjQwMTY3MzY0MDE2NzM2M319Cg==');</script>\n",
       "    "
      ],
      "text/plain": [
       "<IPython.core.display.HTML object>"
      ]
     },
     "metadata": {},
     "output_type": "display_data"
    },
    {
     "data": {
      "text/html": [
       "\n",
       "        <div id=\"RtfZkBm8KpmkkphxkvBdwo\"></div>\n",
       "        <script>netpixi.call('RtfZkBm8KpmkkphxkvBdwo', '6TdJewpHMtn6cJBSwgXbcW', 'changeGraph', 'eyJpZCI6IDY1LCAidHlwZSI6ICJ2ZXJ0ZXgiLCAicHJvcHMiOiB7ImNvbG9yIjogMTY3MTE2ODB9fQo=');</script>\n",
       "    "
      ],
      "text/plain": [
       "<IPython.core.display.HTML object>"
      ]
     },
     "metadata": {},
     "output_type": "display_data"
    },
    {
     "data": {
      "text/html": [
       "\n",
       "        <div id=\"BDcwxUwMPfPmGRK4NnRaVf\"></div>\n",
       "        <script>netpixi.call('BDcwxUwMPfPmGRK4NnRaVf', '6TdJewpHMtn6cJBSwgXbcW', 'changeGraph', 'eyJpZCI6IDEwLCAidHlwZSI6ICJ2ZXJ0ZXgiLCAicHJvcHMiOiB7InNpemUiOiAxMy43NjU2OTAzNzY1NjkwMzd9fQo=');</script>\n",
       "    "
      ],
      "text/plain": [
       "<IPython.core.display.HTML object>"
      ]
     },
     "metadata": {},
     "output_type": "display_data"
    },
    {
     "data": {
      "text/html": [
       "\n",
       "        <div id=\"CHsQTuWddPmygY8W5bhvZb\"></div>\n",
       "        <script>netpixi.call('CHsQTuWddPmygY8W5bhvZb', '6TdJewpHMtn6cJBSwgXbcW', 'changeGraph', 'eyJpZCI6IDgyLCAidHlwZSI6ICJ2ZXJ0ZXgiLCAicHJvcHMiOiB7ImNvbG9yIjogMTY3MTE2ODB9fQo=');</script>\n",
       "    "
      ],
      "text/plain": [
       "<IPython.core.display.HTML object>"
      ]
     },
     "metadata": {},
     "output_type": "display_data"
    },
    {
     "data": {
      "text/html": [
       "\n",
       "        <div id=\"2NfDfSvnq6BCrkKDH3piUA\"></div>\n",
       "        <script>netpixi.call('2NfDfSvnq6BCrkKDH3piUA', '6TdJewpHMtn6cJBSwgXbcW', 'changeGraph', 'eyJpZCI6IDExLCAidHlwZSI6ICJ2ZXJ0ZXgiLCAicHJvcHMiOiB7InNpemUiOiAxMi42Nzc4MjQyNjc3ODI0Mjd9fQo=');</script>\n",
       "    "
      ],
      "text/plain": [
       "<IPython.core.display.HTML object>"
      ]
     },
     "metadata": {},
     "output_type": "display_data"
    },
    {
     "data": {
      "text/html": [
       "\n",
       "        <div id=\"ZyQg9prUka6aV7kBaXaGEX\"></div>\n",
       "        <script>netpixi.call('ZyQg9prUka6aV7kBaXaGEX', '6TdJewpHMtn6cJBSwgXbcW', 'changeGraph', 'eyJpZCI6IDY0LCAidHlwZSI6ICJ2ZXJ0ZXgiLCAicHJvcHMiOiB7ImNvbG9yIjogMTY3MTE2ODB9fQo=');</script>\n",
       "    "
      ],
      "text/plain": [
       "<IPython.core.display.HTML object>"
      ]
     },
     "metadata": {},
     "output_type": "display_data"
    },
    {
     "data": {
      "text/html": [
       "\n",
       "        <div id=\"UNFDo6NK6wTKxSq8cwgmu8\"></div>\n",
       "        <script>netpixi.call('UNFDo6NK6wTKxSq8cwgmu8', '6TdJewpHMtn6cJBSwgXbcW', 'changeGraph', 'eyJpZCI6IDEyLCAidHlwZSI6ICJ2ZXJ0ZXgiLCAicHJvcHMiOiB7InNpemUiOiAxNS43MzIyMTc1NzMyMjE3NTd9fQo=');</script>\n",
       "    "
      ],
      "text/plain": [
       "<IPython.core.display.HTML object>"
      ]
     },
     "metadata": {},
     "output_type": "display_data"
    },
    {
     "data": {
      "text/html": [
       "\n",
       "        <div id=\"3rXeoYHqXPrP44neyjVhBQ\"></div>\n",
       "        <script>netpixi.call('3rXeoYHqXPrP44neyjVhBQ', '6TdJewpHMtn6cJBSwgXbcW', 'changeGraph', 'eyJpZCI6IDgzLCAidHlwZSI6ICJ2ZXJ0ZXgiLCAicHJvcHMiOiB7ImNvbG9yIjogMTY3MTE2ODB9fQo=');</script>\n",
       "    "
      ],
      "text/plain": [
       "<IPython.core.display.HTML object>"
      ]
     },
     "metadata": {},
     "output_type": "display_data"
    },
    {
     "data": {
      "text/html": [
       "\n",
       "        <div id=\"BLL2GdmzGUkJ2NDkZDj545\"></div>\n",
       "        <script>netpixi.call('BLL2GdmzGUkJ2NDkZDj545', '6TdJewpHMtn6cJBSwgXbcW', 'changeGraph', 'eyJpZCI6IDEzLCAidHlwZSI6ICJ2ZXJ0ZXgiLCAicHJvcHMiOiB7InNpemUiOiA0MS4wfX0K');</script>\n",
       "    "
      ],
      "text/plain": [
       "<IPython.core.display.HTML object>"
      ]
     },
     "metadata": {},
     "output_type": "display_data"
    },
    {
     "data": {
      "text/html": [
       "\n",
       "        <div id=\"6KbhtBDH3tzCb6mq8oMc2g\"></div>\n",
       "        <script>netpixi.call('6KbhtBDH3tzCb6mq8oMc2g', '6TdJewpHMtn6cJBSwgXbcW', 'changeGraph', 'eyJpZCI6IDc0LCAidHlwZSI6ICJ2ZXJ0ZXgiLCAicHJvcHMiOiB7ImNvbG9yIjogMTY3MTE2ODB9fQo=');</script>\n",
       "    "
      ],
      "text/plain": [
       "<IPython.core.display.HTML object>"
      ]
     },
     "metadata": {},
     "output_type": "display_data"
    },
    {
     "data": {
      "text/html": [
       "\n",
       "        <div id=\"UsaSy2RcDrvuJMYHUMdXrf\"></div>\n",
       "        <script>netpixi.call('UsaSy2RcDrvuJMYHUMdXrf', '6TdJewpHMtn6cJBSwgXbcW', 'changeGraph', 'eyJpZCI6IDE0LCAidHlwZSI6ICJ2ZXJ0ZXgiLCAicHJvcHMiOiB7InNpemUiOiAxNC4xMDA0MTg0MTAwNDE4NH19Cg==');</script>\n",
       "    "
      ],
      "text/plain": [
       "<IPython.core.display.HTML object>"
      ]
     },
     "metadata": {},
     "output_type": "display_data"
    },
    {
     "data": {
      "text/html": [
       "\n",
       "        <div id=\"2VWRXpGJNoswJ5N4YdHbu3\"></div>\n",
       "        <script>netpixi.call('2VWRXpGJNoswJ5N4YdHbu3', '6TdJewpHMtn6cJBSwgXbcW', 'changeGraph', 'eyJpZCI6IDUyLCAidHlwZSI6ICJ2ZXJ0ZXgiLCAicHJvcHMiOiB7ImNvbG9yIjogMTY3MTE2ODB9fQo=');</script>\n",
       "    "
      ],
      "text/plain": [
       "<IPython.core.display.HTML object>"
      ]
     },
     "metadata": {},
     "output_type": "display_data"
    },
    {
     "data": {
      "text/html": [
       "\n",
       "        <div id=\"EcQijY77QMFJM6rupZMYsD\"></div>\n",
       "        <script>netpixi.call('EcQijY77QMFJM6rupZMYsD', '6TdJewpHMtn6cJBSwgXbcW', 'changeGraph', 'eyJpZCI6IDE1LCAidHlwZSI6ICJ2ZXJ0ZXgiLCAicHJvcHMiOiB7InNpemUiOiAxMi44ODcwMjkyODg3MDI5Mjh9fQo=');</script>\n",
       "    "
      ],
      "text/plain": [
       "<IPython.core.display.HTML object>"
      ]
     },
     "metadata": {},
     "output_type": "display_data"
    },
    {
     "data": {
      "text/html": [
       "\n",
       "        <div id=\"Fzc5kUNbVuPEXwZrh36rpb\"></div>\n",
       "        <script>netpixi.call('Fzc5kUNbVuPEXwZrh36rpb', '6TdJewpHMtn6cJBSwgXbcW', 'changeGraph', 'eyJpZCI6IDg0LCAidHlwZSI6ICJ2ZXJ0ZXgiLCAicHJvcHMiOiB7ImNvbG9yIjogMTY3MTE2ODB9fQo=');</script>\n",
       "    "
      ],
      "text/plain": [
       "<IPython.core.display.HTML object>"
      ]
     },
     "metadata": {},
     "output_type": "display_data"
    },
    {
     "data": {
      "text/html": [
       "\n",
       "        <div id=\"Cwg52wRjqibfhSifEsHuFM\"></div>\n",
       "        <script>netpixi.call('Cwg52wRjqibfhSifEsHuFM', '6TdJewpHMtn6cJBSwgXbcW', 'changeGraph', 'eyJpZCI6IDE2LCAidHlwZSI6ICJ2ZXJ0ZXgiLCAicHJvcHMiOiB7InNpemUiOiA0MS42NjY2NjY2NjY2NjY2NjR9fQo=');</script>\n",
       "    "
      ],
      "text/plain": [
       "<IPython.core.display.HTML object>"
      ]
     },
     "metadata": {},
     "output_type": "display_data"
    },
    {
     "data": {
      "text/html": [
       "\n",
       "        <div id=\"dyKhdQ8Jqc5NdzLpp7gebQ\"></div>\n",
       "        <script>netpixi.call('dyKhdQ8Jqc5NdzLpp7gebQ', '6TdJewpHMtn6cJBSwgXbcW', 'changeGraph', 'eyJpZCI6IDg5LCAidHlwZSI6ICJ2ZXJ0ZXgiLCAicHJvcHMiOiB7ImNvbG9yIjogMTY3MTE2ODB9fQo=');</script>\n",
       "    "
      ],
      "text/plain": [
       "<IPython.core.display.HTML object>"
      ]
     },
     "metadata": {},
     "output_type": "display_data"
    },
    {
     "data": {
      "text/html": [
       "\n",
       "        <div id=\"gCF6dFnf5ztcYayn6EQaaD\"></div>\n",
       "        <script>netpixi.call('gCF6dFnf5ztcYayn6EQaaD', '6TdJewpHMtn6cJBSwgXbcW', 'changeGraph', 'eyJpZCI6IDE3LCAidHlwZSI6ICJ2ZXJ0ZXgiLCAicHJvcHMiOiB7InNpemUiOiAxMS42MzE3OTkxNjMxNzk5MTd9fQo=');</script>\n",
       "    "
      ],
      "text/plain": [
       "<IPython.core.display.HTML object>"
      ]
     },
     "metadata": {},
     "output_type": "display_data"
    },
    {
     "data": {
      "text/html": [
       "\n",
       "        <div id=\"kRQNM2mZ2nSYRaTHNfFHtW\"></div>\n",
       "        <script>netpixi.call('kRQNM2mZ2nSYRaTHNfFHtW', '6TdJewpHMtn6cJBSwgXbcW', 'changeGraph', 'eyJpZCI6IDgzLCAidHlwZSI6ICJ2ZXJ0ZXgiLCAicHJvcHMiOiB7ImNvbG9yIjogMTY3MTE2ODB9fQo=');</script>\n",
       "    "
      ],
      "text/plain": [
       "<IPython.core.display.HTML object>"
      ]
     },
     "metadata": {},
     "output_type": "display_data"
    },
    {
     "data": {
      "text/html": [
       "\n",
       "        <div id=\"Zp9P6rmYW9o8sgjjMhgUno\"></div>\n",
       "        <script>netpixi.call('Zp9P6rmYW9o8sgjjMhgUno', '6TdJewpHMtn6cJBSwgXbcW', 'changeGraph', 'eyJpZCI6IDE4LCAidHlwZSI6ICJ2ZXJ0ZXgiLCAicHJvcHMiOiB7InNpemUiOiA0NS4xNjY2NjY2NjY2NjY2NjR9fQo=');</script>\n",
       "    "
      ],
      "text/plain": [
       "<IPython.core.display.HTML object>"
      ]
     },
     "metadata": {},
     "output_type": "display_data"
    },
    {
     "data": {
      "text/html": [
       "\n",
       "        <div id=\"gNLVZynePDZUW6ZLESynRT\"></div>\n",
       "        <script>netpixi.call('gNLVZynePDZUW6ZLESynRT', '6TdJewpHMtn6cJBSwgXbcW', 'changeGraph', 'eyJpZCI6IDcyLCAidHlwZSI6ICJ2ZXJ0ZXgiLCAicHJvcHMiOiB7ImNvbG9yIjogMTY3MTE2ODB9fQo=');</script>\n",
       "    "
      ],
      "text/plain": [
       "<IPython.core.display.HTML object>"
      ]
     },
     "metadata": {},
     "output_type": "display_data"
    },
    {
     "data": {
      "text/html": [
       "\n",
       "        <div id=\"8TPWa28yJceGWAXnHWZr8k\"></div>\n",
       "        <script>netpixi.call('8TPWa28yJceGWAXnHWZr8k', '6TdJewpHMtn6cJBSwgXbcW', 'changeGraph', 'eyJpZCI6IDE5LCAidHlwZSI6ICJ2ZXJ0ZXgiLCAicHJvcHMiOiB7InNpemUiOiAxOC42NjEwODc4NjYxMDg3ODd9fQo=');</script>\n",
       "    "
      ],
      "text/plain": [
       "<IPython.core.display.HTML object>"
      ]
     },
     "metadata": {},
     "output_type": "display_data"
    },
    {
     "data": {
      "text/html": [
       "\n",
       "        <div id=\"RmYVMRBvzLowuv48Y6WMoD\"></div>\n",
       "        <script>netpixi.call('RmYVMRBvzLowuv48Y6WMoD', '6TdJewpHMtn6cJBSwgXbcW', 'changeGraph', 'eyJpZCI6IDY2LCAidHlwZSI6ICJ2ZXJ0ZXgiLCAicHJvcHMiOiB7ImNvbG9yIjogMTY3MTE2ODB9fQo=');</script>\n",
       "    "
      ],
      "text/plain": [
       "<IPython.core.display.HTML object>"
      ]
     },
     "metadata": {},
     "output_type": "display_data"
    },
    {
     "data": {
      "text/html": [
       "\n",
       "        <div id=\"dhLwjV5QbwU5SXsu44GM8U\"></div>\n",
       "        <script>netpixi.call('dhLwjV5QbwU5SXsu44GM8U', '6TdJewpHMtn6cJBSwgXbcW', 'changeGraph', 'eyJpZCI6IDIwLCAidHlwZSI6ICJ2ZXJ0ZXgiLCAicHJvcHMiOiB7InNpemUiOiAxMi43NjE1MDYyNzYxNTA2Mjd9fQo=');</script>\n",
       "    "
      ],
      "text/plain": [
       "<IPython.core.display.HTML object>"
      ]
     },
     "metadata": {},
     "output_type": "display_data"
    },
    {
     "data": {
      "text/html": [
       "\n",
       "        <div id=\"jztYXKz3tLgpitJDLnM2dW\"></div>\n",
       "        <script>netpixi.call('jztYXKz3tLgpitJDLnM2dW', '6TdJewpHMtn6cJBSwgXbcW', 'changeGraph', 'eyJpZCI6IDcwLCAidHlwZSI6ICJ2ZXJ0ZXgiLCAicHJvcHMiOiB7ImNvbG9yIjogMTY3MTE2ODB9fQo=');</script>\n",
       "    "
      ],
      "text/plain": [
       "<IPython.core.display.HTML object>"
      ]
     },
     "metadata": {},
     "output_type": "display_data"
    },
    {
     "data": {
      "text/html": [
       "\n",
       "        <div id=\"ck5V8SNHc7rXv5S2KNnT7N\"></div>\n",
       "        <script>netpixi.call('ck5V8SNHc7rXv5S2KNnT7N', '6TdJewpHMtn6cJBSwgXbcW', 'changeGraph', 'eyJpZCI6IDIxLCAidHlwZSI6ICJ2ZXJ0ZXgiLCAicHJvcHMiOiB7InNpemUiOiAxNy42NTY5MDM3NjU2OTAzNzd9fQo=');</script>\n",
       "    "
      ],
      "text/plain": [
       "<IPython.core.display.HTML object>"
      ]
     },
     "metadata": {},
     "output_type": "display_data"
    },
    {
     "data": {
      "text/html": [
       "\n",
       "        <div id=\"jLRQ3ZzWCKdxSofxHp9ASB\"></div>\n",
       "        <script>netpixi.call('jLRQ3ZzWCKdxSofxHp9ASB', '6TdJewpHMtn6cJBSwgXbcW', 'changeGraph', 'eyJpZCI6IDg0LCAidHlwZSI6ICJ2ZXJ0ZXgiLCAicHJvcHMiOiB7ImNvbG9yIjogMTY3MTE2ODB9fQo=');</script>\n",
       "    "
      ],
      "text/plain": [
       "<IPython.core.display.HTML object>"
      ]
     },
     "metadata": {},
     "output_type": "display_data"
    },
    {
     "data": {
      "text/html": [
       "\n",
       "        <div id=\"hjMeHGJbEjhmQumQRCVPcD\"></div>\n",
       "        <script>netpixi.call('hjMeHGJbEjhmQumQRCVPcD', '6TdJewpHMtn6cJBSwgXbcW', 'changeGraph', 'eyJpZCI6IDIyLCAidHlwZSI6ICJ2ZXJ0ZXgiLCAicHJvcHMiOiB7InNpemUiOiA0NS41fX0K');</script>\n",
       "    "
      ],
      "text/plain": [
       "<IPython.core.display.HTML object>"
      ]
     },
     "metadata": {},
     "output_type": "display_data"
    },
    {
     "data": {
      "text/html": [
       "\n",
       "        <div id=\"ieC2PCfTGBE4FeFphZLFrc\"></div>\n",
       "        <script>netpixi.call('ieC2PCfTGBE4FeFphZLFrc', '6TdJewpHMtn6cJBSwgXbcW', 'changeGraph', 'eyJpZCI6IDgwLCAidHlwZSI6ICJ2ZXJ0ZXgiLCAicHJvcHMiOiB7ImNvbG9yIjogMTY3MTE2ODB9fQo=');</script>\n",
       "    "
      ],
      "text/plain": [
       "<IPython.core.display.HTML object>"
      ]
     },
     "metadata": {},
     "output_type": "display_data"
    },
    {
     "data": {
      "text/html": [
       "\n",
       "        <div id=\"b39tKbKf8t5TnvWggZhhbt\"></div>\n",
       "        <script>netpixi.call('b39tKbKf8t5TnvWggZhhbt', '6TdJewpHMtn6cJBSwgXbcW', 'changeGraph', 'eyJpZCI6IDIzLCAidHlwZSI6ICJ2ZXJ0ZXgiLCAicHJvcHMiOiB7InNpemUiOiAxNi44MjAwODM2ODIwMDgzNjd9fQo=');</script>\n",
       "    "
      ],
      "text/plain": [
       "<IPython.core.display.HTML object>"
      ]
     },
     "metadata": {},
     "output_type": "display_data"
    },
    {
     "data": {
      "text/html": [
       "\n",
       "        <div id=\"BrA8weUaVuJ3VcGf6E55zd\"></div>\n",
       "        <script>netpixi.call('BrA8weUaVuJ3VcGf6E55zd', '6TdJewpHMtn6cJBSwgXbcW', 'changeGraph', 'eyJpZCI6IDcwLCAidHlwZSI6ICJ2ZXJ0ZXgiLCAicHJvcHMiOiB7ImNvbG9yIjogMTY3MTE2ODB9fQo=');</script>\n",
       "    "
      ],
      "text/plain": [
       "<IPython.core.display.HTML object>"
      ]
     },
     "metadata": {},
     "output_type": "display_data"
    },
    {
     "data": {
      "text/html": [
       "\n",
       "        <div id=\"eaAYV5W9YYcxSCKQK4BiBd\"></div>\n",
       "        <script>netpixi.call('eaAYV5W9YYcxSCKQK4BiBd', '6TdJewpHMtn6cJBSwgXbcW', 'changeGraph', 'eyJpZCI6IDI0LCAidHlwZSI6ICJ2ZXJ0ZXgiLCAicHJvcHMiOiB7InNpemUiOiAxNi42OTQ1NjA2Njk0NTYwNjd9fQo=');</script>\n",
       "    "
      ],
      "text/plain": [
       "<IPython.core.display.HTML object>"
      ]
     },
     "metadata": {},
     "output_type": "display_data"
    },
    {
     "data": {
      "text/html": [
       "\n",
       "        <div id=\"czsbv3cAqDfEQZGgPRYeVR\"></div>\n",
       "        <script>netpixi.call('czsbv3cAqDfEQZGgPRYeVR', '6TdJewpHMtn6cJBSwgXbcW', 'changeGraph', 'eyJpZCI6IDg0LCAidHlwZSI6ICJ2ZXJ0ZXgiLCAicHJvcHMiOiB7ImNvbG9yIjogMTY3MTE2ODB9fQo=');</script>\n",
       "    "
      ],
      "text/plain": [
       "<IPython.core.display.HTML object>"
      ]
     },
     "metadata": {},
     "output_type": "display_data"
    },
    {
     "data": {
      "text/html": [
       "\n",
       "        <div id=\"MHZwsjs8ANTXrHjYMEg8gi\"></div>\n",
       "        <script>netpixi.call('MHZwsjs8ANTXrHjYMEg8gi', '6TdJewpHMtn6cJBSwgXbcW', 'changeGraph', 'eyJpZCI6IDI1LCAidHlwZSI6ICJ2ZXJ0ZXgiLCAicHJvcHMiOiB7InNpemUiOiAxMC44MzY4MjAwODM2ODIwMDh9fQo=');</script>\n",
       "    "
      ],
      "text/plain": [
       "<IPython.core.display.HTML object>"
      ]
     },
     "metadata": {},
     "output_type": "display_data"
    },
    {
     "data": {
      "text/html": [
       "\n",
       "        <div id=\"H5Z5ninvjDeJ2DhMrsfNDY\"></div>\n",
       "        <script>netpixi.call('H5Z5ninvjDeJ2DhMrsfNDY', '6TdJewpHMtn6cJBSwgXbcW', 'changeGraph', 'eyJpZCI6IDcwLCAidHlwZSI6ICJ2ZXJ0ZXgiLCAicHJvcHMiOiB7ImNvbG9yIjogMTY3MTE2ODB9fQo=');</script>\n",
       "    "
      ],
      "text/plain": [
       "<IPython.core.display.HTML object>"
      ]
     },
     "metadata": {},
     "output_type": "display_data"
    },
    {
     "data": {
      "text/html": [
       "\n",
       "        <div id=\"kSFaAk7oGfSpM2unNJrg59\"></div>\n",
       "        <script>netpixi.call('kSFaAk7oGfSpM2unNJrg59', '6TdJewpHMtn6cJBSwgXbcW', 'changeGraph', 'eyJpZCI6IDI2LCAidHlwZSI6ICJ2ZXJ0ZXgiLCAicHJvcHMiOiB7InNpemUiOiA0MC4zMzMzMzMzMzMzMzMzM319Cg==');</script>\n",
       "    "
      ],
      "text/plain": [
       "<IPython.core.display.HTML object>"
      ]
     },
     "metadata": {},
     "output_type": "display_data"
    },
    {
     "data": {
      "text/html": [
       "\n",
       "        <div id=\"5DARyPjDcdnrUwjY9zeyaS\"></div>\n",
       "        <script>netpixi.call('5DARyPjDcdnrUwjY9zeyaS', '6TdJewpHMtn6cJBSwgXbcW', 'changeGraph', 'eyJpZCI6IDgzLCAidHlwZSI6ICJ2ZXJ0ZXgiLCAicHJvcHMiOiB7ImNvbG9yIjogMTY3MTE2ODB9fQo=');</script>\n",
       "    "
      ],
      "text/plain": [
       "<IPython.core.display.HTML object>"
      ]
     },
     "metadata": {},
     "output_type": "display_data"
    },
    {
     "data": {
      "text/html": [
       "\n",
       "        <div id=\"A7dMAzA36ggGFj3QaTZpH8\"></div>\n",
       "        <script>netpixi.call('A7dMAzA36ggGFj3QaTZpH8', '6TdJewpHMtn6cJBSwgXbcW', 'changeGraph', 'eyJpZCI6IDI3LCAidHlwZSI6ICJ2ZXJ0ZXgiLCAicHJvcHMiOiB7InNpemUiOiAxOC4wMzM0NzI4MDMzNDcyOH19Cg==');</script>\n",
       "    "
      ],
      "text/plain": [
       "<IPython.core.display.HTML object>"
      ]
     },
     "metadata": {},
     "output_type": "display_data"
    },
    {
     "data": {
      "text/html": [
       "\n",
       "        <div id=\"YAaL2A3XPPiJ4o9pc2G7bJ\"></div>\n",
       "        <script>netpixi.call('YAaL2A3XPPiJ4o9pc2G7bJ', '6TdJewpHMtn6cJBSwgXbcW', 'changeGraph', 'eyJpZCI6IDgxLCAidHlwZSI6ICJ2ZXJ0ZXgiLCAicHJvcHMiOiB7ImNvbG9yIjogMTY3MTE2ODB9fQo=');</script>\n",
       "    "
      ],
      "text/plain": [
       "<IPython.core.display.HTML object>"
      ]
     },
     "metadata": {},
     "output_type": "display_data"
    },
    {
     "data": {
      "text/html": [
       "\n",
       "        <div id=\"UZgkVcrnsKoMSu2W9hmiyq\"></div>\n",
       "        <script>netpixi.call('UZgkVcrnsKoMSu2W9hmiyq', '6TdJewpHMtn6cJBSwgXbcW', 'changeGraph', 'eyJpZCI6IDI4LCAidHlwZSI6ICJ2ZXJ0ZXgiLCAicHJvcHMiOiB7InNpemUiOiA0Mi41fX0K');</script>\n",
       "    "
      ],
      "text/plain": [
       "<IPython.core.display.HTML object>"
      ]
     },
     "metadata": {},
     "output_type": "display_data"
    },
    {
     "data": {
      "text/html": [
       "\n",
       "        <div id=\"aY8M8JqSENRkcAARojyLo9\"></div>\n",
       "        <script>netpixi.call('aY8M8JqSENRkcAARojyLo9', '6TdJewpHMtn6cJBSwgXbcW', 'changeGraph', 'eyJpZCI6IDkwLCAidHlwZSI6ICJ2ZXJ0ZXgiLCAicHJvcHMiOiB7ImNvbG9yIjogMTY3MTE2ODB9fQo=');</script>\n",
       "    "
      ],
      "text/plain": [
       "<IPython.core.display.HTML object>"
      ]
     },
     "metadata": {},
     "output_type": "display_data"
    },
    {
     "data": {
      "text/html": [
       "\n",
       "        <div id=\"PQhpN8jao7ZxaGSUANyEBN\"></div>\n",
       "        <script>netpixi.call('PQhpN8jao7ZxaGSUANyEBN', '6TdJewpHMtn6cJBSwgXbcW', 'changeGraph', 'eyJpZCI6IDI5LCAidHlwZSI6ICJ2ZXJ0ZXgiLCAicHJvcHMiOiB7InNpemUiOiAxOC4xNTg5OTU4MTU4OTk1OH19Cg==');</script>\n",
       "    "
      ],
      "text/plain": [
       "<IPython.core.display.HTML object>"
      ]
     },
     "metadata": {},
     "output_type": "display_data"
    },
    {
     "data": {
      "text/html": [
       "\n",
       "        <div id=\"ENeAAFFcEeSwTkBJnLkJ9G\"></div>\n",
       "        <script>netpixi.call('ENeAAFFcEeSwTkBJnLkJ9G', '6TdJewpHMtn6cJBSwgXbcW', 'changeGraph', 'eyJpZCI6IDY1LCAidHlwZSI6ICJ2ZXJ0ZXgiLCAicHJvcHMiOiB7ImNvbG9yIjogMTY3MTE2ODB9fQo=');</script>\n",
       "    "
      ],
      "text/plain": [
       "<IPython.core.display.HTML object>"
      ]
     },
     "metadata": {},
     "output_type": "display_data"
    },
    {
     "data": {
      "text/html": [
       "\n",
       "        <div id=\"BwekBNywRPEyRUfnqmaawn\"></div>\n",
       "        <script>netpixi.call('BwekBNywRPEyRUfnqmaawn', '6TdJewpHMtn6cJBSwgXbcW', 'changeGraph', 'eyJpZCI6IDMwLCAidHlwZSI6ICJ2ZXJ0ZXgiLCAicHJvcHMiOiB7InNpemUiOiAxOS45NTgxNTg5OTU4MTU5fX0K');</script>\n",
       "    "
      ],
      "text/plain": [
       "<IPython.core.display.HTML object>"
      ]
     },
     "metadata": {},
     "output_type": "display_data"
    },
    {
     "data": {
      "text/html": [
       "\n",
       "        <div id=\"W2MUSC8zg6MFjMgN4nZmfg\"></div>\n",
       "        <script>netpixi.call('W2MUSC8zg6MFjMgN4nZmfg', '6TdJewpHMtn6cJBSwgXbcW', 'changeGraph', 'eyJpZCI6IDc3LCAidHlwZSI6ICJ2ZXJ0ZXgiLCAicHJvcHMiOiB7ImNvbG9yIjogMTY3MTE2ODB9fQo=');</script>\n",
       "    "
      ],
      "text/plain": [
       "<IPython.core.display.HTML object>"
      ]
     },
     "metadata": {},
     "output_type": "display_data"
    },
    {
     "data": {
      "text/html": [
       "\n",
       "        <div id=\"6Ksdxkf86ZXw3tYj9qrzix\"></div>\n",
       "        <script>netpixi.call('6Ksdxkf86ZXw3tYj9qrzix', '6TdJewpHMtn6cJBSwgXbcW', 'changeGraph', 'eyJpZCI6IDMxLCAidHlwZSI6ICJ2ZXJ0ZXgiLCAicHJvcHMiOiB7InNpemUiOiA0OC42NjY2NjY2NjY2NjY2NjR9fQo=');</script>\n",
       "    "
      ],
      "text/plain": [
       "<IPython.core.display.HTML object>"
      ]
     },
     "metadata": {},
     "output_type": "display_data"
    },
    {
     "data": {
      "text/html": [
       "\n",
       "        <div id=\"3dCuY7CUxddQws4jJSPC3V\"></div>\n",
       "        <script>netpixi.call('3dCuY7CUxddQws4jJSPC3V', '6TdJewpHMtn6cJBSwgXbcW', 'changeGraph', 'eyJpZCI6IDczLCAidHlwZSI6ICJ2ZXJ0ZXgiLCAicHJvcHMiOiB7ImNvbG9yIjogMTY3MTE2ODB9fQo=');</script>\n",
       "    "
      ],
      "text/plain": [
       "<IPython.core.display.HTML object>"
      ]
     },
     "metadata": {},
     "output_type": "display_data"
    },
    {
     "data": {
      "text/html": [
       "\n",
       "        <div id=\"CxF6iUMeU3YizfSCkAHQ3D\"></div>\n",
       "        <script>netpixi.call('CxF6iUMeU3YizfSCkAHQ3D', '6TdJewpHMtn6cJBSwgXbcW', 'changeGraph', 'eyJpZCI6IDMyLCAidHlwZSI6ICJ2ZXJ0ZXgiLCAicHJvcHMiOiB7InNpemUiOiAxMi4zMDEyNTUyMzAxMjU1MjN9fQo=');</script>\n",
       "    "
      ],
      "text/plain": [
       "<IPython.core.display.HTML object>"
      ]
     },
     "metadata": {},
     "output_type": "display_data"
    },
    {
     "data": {
      "text/html": [
       "\n",
       "        <div id=\"FK4hTaxx8gmtz2EGxqDSu9\"></div>\n",
       "        <script>netpixi.call('FK4hTaxx8gmtz2EGxqDSu9', '6TdJewpHMtn6cJBSwgXbcW', 'changeGraph', 'eyJpZCI6IDcwLCAidHlwZSI6ICJ2ZXJ0ZXgiLCAicHJvcHMiOiB7ImNvbG9yIjogMTY3MTE2ODB9fQo=');</script>\n",
       "    "
      ],
      "text/plain": [
       "<IPython.core.display.HTML object>"
      ]
     },
     "metadata": {},
     "output_type": "display_data"
    },
    {
     "data": {
      "text/html": [
       "\n",
       "        <div id=\"5miqiQSuswuFDUy6aM3WyN\"></div>\n",
       "        <script>netpixi.call('5miqiQSuswuFDUy6aM3WyN', '6TdJewpHMtn6cJBSwgXbcW', 'changeGraph', 'eyJpZCI6IDMzLCAidHlwZSI6ICJ2ZXJ0ZXgiLCAicHJvcHMiOiB7InNpemUiOiAxNy45NDk3OTA3OTQ5NzkwOH19Cg==');</script>\n",
       "    "
      ],
      "text/plain": [
       "<IPython.core.display.HTML object>"
      ]
     },
     "metadata": {},
     "output_type": "display_data"
    },
    {
     "data": {
      "text/html": [
       "\n",
       "        <div id=\"4ovMDHcJBXRoWno5kHfMNq\"></div>\n",
       "        <script>netpixi.call('4ovMDHcJBXRoWno5kHfMNq', '6TdJewpHMtn6cJBSwgXbcW', 'changeGraph', 'eyJpZCI6IDgzLCAidHlwZSI6ICJ2ZXJ0ZXgiLCAicHJvcHMiOiB7ImNvbG9yIjogMTY3MTE2ODB9fQo=');</script>\n",
       "    "
      ],
      "text/plain": [
       "<IPython.core.display.HTML object>"
      ]
     },
     "metadata": {},
     "output_type": "display_data"
    },
    {
     "data": {
      "text/html": [
       "\n",
       "        <div id=\"MjgDX6YoMxYCDBQVLdcwFd\"></div>\n",
       "        <script>netpixi.call('MjgDX6YoMxYCDBQVLdcwFd', '6TdJewpHMtn6cJBSwgXbcW', 'changeGraph', 'eyJpZCI6IDM0LCAidHlwZSI6ICJ2ZXJ0ZXgiLCAicHJvcHMiOiB7InNpemUiOiAxOS41ODE1ODk5NTgxNTg5OTN9fQo=');</script>\n",
       "    "
      ],
      "text/plain": [
       "<IPython.core.display.HTML object>"
      ]
     },
     "metadata": {},
     "output_type": "display_data"
    },
    {
     "data": {
      "text/html": [
       "\n",
       "        <div id=\"PLzJ8CLe2z3g4imQ9euvHV\"></div>\n",
       "        <script>netpixi.call('PLzJ8CLe2z3g4imQ9euvHV', '6TdJewpHMtn6cJBSwgXbcW', 'changeGraph', 'eyJpZCI6IDc5LCAidHlwZSI6ICJ2ZXJ0ZXgiLCAicHJvcHMiOiB7ImNvbG9yIjogMTY3MTE2ODB9fQo=');</script>\n",
       "    "
      ],
      "text/plain": [
       "<IPython.core.display.HTML object>"
      ]
     },
     "metadata": {},
     "output_type": "display_data"
    },
    {
     "data": {
      "text/html": [
       "\n",
       "        <div id=\"aQiTw3xVXAyAiERmWNELCE\"></div>\n",
       "        <script>netpixi.call('aQiTw3xVXAyAiERmWNELCE', '6TdJewpHMtn6cJBSwgXbcW', 'changeGraph', 'eyJpZCI6IDM1LCAidHlwZSI6ICJ2ZXJ0ZXgiLCAicHJvcHMiOiB7InNpemUiOiAxNy40ODk1Mzk3NDg5NTM5NzN9fQo=');</script>\n",
       "    "
      ],
      "text/plain": [
       "<IPython.core.display.HTML object>"
      ]
     },
     "metadata": {},
     "output_type": "display_data"
    },
    {
     "data": {
      "text/html": [
       "\n",
       "        <div id=\"cCczLJNnKrxWZ7LubkkTKR\"></div>\n",
       "        <script>netpixi.call('cCczLJNnKrxWZ7LubkkTKR', '6TdJewpHMtn6cJBSwgXbcW', 'changeGraph', 'eyJpZCI6IDc5LCAidHlwZSI6ICJ2ZXJ0ZXgiLCAicHJvcHMiOiB7ImNvbG9yIjogMTY3MTE2ODB9fQo=');</script>\n",
       "    "
      ],
      "text/plain": [
       "<IPython.core.display.HTML object>"
      ]
     },
     "metadata": {},
     "output_type": "display_data"
    },
    {
     "data": {
      "text/html": [
       "\n",
       "        <div id=\"eDtBQ4Fzj4CZkAv7VbBuYz\"></div>\n",
       "        <script>netpixi.call('eDtBQ4Fzj4CZkAv7VbBuYz', '6TdJewpHMtn6cJBSwgXbcW', 'changeGraph', 'eyJpZCI6IDM2LCAidHlwZSI6ICJ2ZXJ0ZXgiLCAicHJvcHMiOiB7InNpemUiOiAxMC4wfX0K');</script>\n",
       "    "
      ],
      "text/plain": [
       "<IPython.core.display.HTML object>"
      ]
     },
     "metadata": {},
     "output_type": "display_data"
    },
    {
     "data": {
      "text/html": [
       "\n",
       "        <div id=\"ZXTnn7b8D5SaYNazCV5eyA\"></div>\n",
       "        <script>netpixi.call('ZXTnn7b8D5SaYNazCV5eyA', '6TdJewpHMtn6cJBSwgXbcW', 'changeGraph', 'eyJpZCI6IDY4LCAidHlwZSI6ICJ2ZXJ0ZXgiLCAicHJvcHMiOiB7ImNvbG9yIjogMTY3MTE2ODB9fQo=');</script>\n",
       "    "
      ],
      "text/plain": [
       "<IPython.core.display.HTML object>"
      ]
     },
     "metadata": {},
     "output_type": "display_data"
    },
    {
     "data": {
      "text/html": [
       "\n",
       "        <div id=\"4Ez7E82vYaPAqjnCDYmDbQ\"></div>\n",
       "        <script>netpixi.call('4Ez7E82vYaPAqjnCDYmDbQ', '6TdJewpHMtn6cJBSwgXbcW', 'changeGraph', 'eyJpZCI6IDM3LCAidHlwZSI6ICJ2ZXJ0ZXgiLCAicHJvcHMiOiB7InNpemUiOiAxNy42OTg3NDQ3Njk4NzQ0Nzd9fQo=');</script>\n",
       "    "
      ],
      "text/plain": [
       "<IPython.core.display.HTML object>"
      ]
     },
     "metadata": {},
     "output_type": "display_data"
    },
    {
     "data": {
      "text/html": [
       "\n",
       "        <div id=\"44TYBAo8nqxXxjNxRN5zcL\"></div>\n",
       "        <script>netpixi.call('44TYBAo8nqxXxjNxRN5zcL', '6TdJewpHMtn6cJBSwgXbcW', 'changeGraph', 'eyJpZCI6IDc5LCAidHlwZSI6ICJ2ZXJ0ZXgiLCAicHJvcHMiOiB7ImNvbG9yIjogMTY3MTE2ODB9fQo=');</script>\n",
       "    "
      ],
      "text/plain": [
       "<IPython.core.display.HTML object>"
      ]
     },
     "metadata": {},
     "output_type": "display_data"
    },
    {
     "data": {
      "text/html": [
       "\n",
       "        <div id=\"9WYBUbQRf6gigb57PCpAw6\"></div>\n",
       "        <script>netpixi.call('9WYBUbQRf6gigb57PCpAw6', '6TdJewpHMtn6cJBSwgXbcW', 'changeGraph', 'eyJpZCI6IDM4LCAidHlwZSI6ICJ2ZXJ0ZXgiLCAicHJvcHMiOiB7InNpemUiOiA0Ni42NjY2NjY2NjY2NjY2NjR9fQo=');</script>\n",
       "    "
      ],
      "text/plain": [
       "<IPython.core.display.HTML object>"
      ]
     },
     "metadata": {},
     "output_type": "display_data"
    },
    {
     "data": {
      "text/html": [
       "\n",
       "        <div id=\"4BKVuavMx4zcC5ir4LhRQY\"></div>\n",
       "        <script>netpixi.call('4BKVuavMx4zcC5ir4LhRQY', '6TdJewpHMtn6cJBSwgXbcW', 'changeGraph', 'eyJpZCI6IDczLCAidHlwZSI6ICJ2ZXJ0ZXgiLCAicHJvcHMiOiB7ImNvbG9yIjogMTY3MTE2ODB9fQo=');</script>\n",
       "    "
      ],
      "text/plain": [
       "<IPython.core.display.HTML object>"
      ]
     },
     "metadata": {},
     "output_type": "display_data"
    },
    {
     "data": {
      "text/html": [
       "\n",
       "        <div id=\"mc2We4YwoXC5VyfysnmV29\"></div>\n",
       "        <script>netpixi.call('mc2We4YwoXC5VyfysnmV29', '6TdJewpHMtn6cJBSwgXbcW', 'changeGraph', 'eyJpZCI6IDM5LCAidHlwZSI6ICJ2ZXJ0ZXgiLCAicHJvcHMiOiB7InNpemUiOiAxMC40MTg0MTAwNDE4NDEwMDN9fQo=');</script>\n",
       "    "
      ],
      "text/plain": [
       "<IPython.core.display.HTML object>"
      ]
     },
     "metadata": {},
     "output_type": "display_data"
    },
    {
     "data": {
      "text/html": [
       "\n",
       "        <div id=\"epkwfBUJbS4uYoS8S9wTr6\"></div>\n",
       "        <script>netpixi.call('epkwfBUJbS4uYoS8S9wTr6', '6TdJewpHMtn6cJBSwgXbcW', 'changeGraph', 'eyJpZCI6IDczLCAidHlwZSI6ICJ2ZXJ0ZXgiLCAicHJvcHMiOiB7ImNvbG9yIjogMTY3MTE2ODB9fQo=');</script>\n",
       "    "
      ],
      "text/plain": [
       "<IPython.core.display.HTML object>"
      ]
     },
     "metadata": {},
     "output_type": "display_data"
    },
    {
     "data": {
      "text/html": [
       "\n",
       "        <div id=\"gcDmCDyVb5yrdKn4KXaUtb\"></div>\n",
       "        <script>netpixi.call('gcDmCDyVb5yrdKn4KXaUtb', '6TdJewpHMtn6cJBSwgXbcW', 'changeGraph', 'eyJpZCI6IDQwLCAidHlwZSI6ICJ2ZXJ0ZXgiLCAicHJvcHMiOiB7InNpemUiOiAxNi4wMjUxMDQ2MDI1MTA0Nn19Cg==');</script>\n",
       "    "
      ],
      "text/plain": [
       "<IPython.core.display.HTML object>"
      ]
     },
     "metadata": {},
     "output_type": "display_data"
    },
    {
     "data": {
      "text/html": [
       "\n",
       "        <div id=\"WJrpJegBPQ24qBGoTrKujv\"></div>\n",
       "        <script>netpixi.call('WJrpJegBPQ24qBGoTrKujv', '6TdJewpHMtn6cJBSwgXbcW', 'changeGraph', 'eyJpZCI6IDg0LCAidHlwZSI6ICJ2ZXJ0ZXgiLCAicHJvcHMiOiB7ImNvbG9yIjogMTY3MTE2ODB9fQo=');</script>\n",
       "    "
      ],
      "text/plain": [
       "<IPython.core.display.HTML object>"
      ]
     },
     "metadata": {},
     "output_type": "display_data"
    },
    {
     "data": {
      "text/html": [
       "\n",
       "        <div id=\"PyPkLKGSzKiqTXYixrPqma\"></div>\n",
       "        <script>netpixi.call('PyPkLKGSzKiqTXYixrPqma', '6TdJewpHMtn6cJBSwgXbcW', 'changeGraph', 'eyJpZCI6IDQxLCAidHlwZSI6ICJ2ZXJ0ZXgiLCAicHJvcHMiOiB7InNpemUiOiAxNS44OTk1ODE1ODk5NTgxNTh9fQo=');</script>\n",
       "    "
      ],
      "text/plain": [
       "<IPython.core.display.HTML object>"
      ]
     },
     "metadata": {},
     "output_type": "display_data"
    },
    {
     "data": {
      "text/html": [
       "\n",
       "        <div id=\"8Pa6UgKAjktKGj9aKWyQ4R\"></div>\n",
       "        <script>netpixi.call('8Pa6UgKAjktKGj9aKWyQ4R', '6TdJewpHMtn6cJBSwgXbcW', 'changeGraph', 'eyJpZCI6IDgxLCAidHlwZSI6ICJ2ZXJ0ZXgiLCAicHJvcHMiOiB7ImNvbG9yIjogMTY3MTE2ODB9fQo=');</script>\n",
       "    "
      ],
      "text/plain": [
       "<IPython.core.display.HTML object>"
      ]
     },
     "metadata": {},
     "output_type": "display_data"
    },
    {
     "data": {
      "text/html": [
       "\n",
       "        <div id=\"eDcazGMiYdcwfNxcPmEKNJ\"></div>\n",
       "        <script>netpixi.call('eDcazGMiYdcwfNxcPmEKNJ', '6TdJewpHMtn6cJBSwgXbcW', 'changeGraph', 'eyJpZCI6IDQyLCAidHlwZSI6ICJ2ZXJ0ZXgiLCAicHJvcHMiOiB7InNpemUiOiAxNi42NTI3MTk2NjUyNzE5Njd9fQo=');</script>\n",
       "    "
      ],
      "text/plain": [
       "<IPython.core.display.HTML object>"
      ]
     },
     "metadata": {},
     "output_type": "display_data"
    },
    {
     "data": {
      "text/html": [
       "\n",
       "        <div id=\"cQC6nyfksB5sPsniV7pnAY\"></div>\n",
       "        <script>netpixi.call('cQC6nyfksB5sPsniV7pnAY', '6TdJewpHMtn6cJBSwgXbcW', 'changeGraph', 'eyJpZCI6IDc4LCAidHlwZSI6ICJ2ZXJ0ZXgiLCAicHJvcHMiOiB7ImNvbG9yIjogMTY3MTE2ODB9fQo=');</script>\n",
       "    "
      ],
      "text/plain": [
       "<IPython.core.display.HTML object>"
      ]
     },
     "metadata": {},
     "output_type": "display_data"
    },
    {
     "data": {
      "text/html": [
       "\n",
       "        <div id=\"DNSv9PeKRqRQcDugLV2kNz\"></div>\n",
       "        <script>netpixi.call('DNSv9PeKRqRQcDugLV2kNz', '6TdJewpHMtn6cJBSwgXbcW', 'changeGraph', 'eyJpZCI6IDQzLCAidHlwZSI6ICJ2ZXJ0ZXgiLCAicHJvcHMiOiB7InNpemUiOiAxNC42NDQzNTE0NjQ0MzUxNDd9fQo=');</script>\n",
       "    "
      ],
      "text/plain": [
       "<IPython.core.display.HTML object>"
      ]
     },
     "metadata": {},
     "output_type": "display_data"
    },
    {
     "data": {
      "text/html": [
       "\n",
       "        <div id=\"WCMQwyJGHSb8FURzX59Kqi\"></div>\n",
       "        <script>netpixi.call('WCMQwyJGHSb8FURzX59Kqi', '6TdJewpHMtn6cJBSwgXbcW', 'changeGraph', 'eyJpZCI6IDc3LCAidHlwZSI6ICJ2ZXJ0ZXgiLCAicHJvcHMiOiB7ImNvbG9yIjogMTY3MTE2ODB9fQo=');</script>\n",
       "    "
      ],
      "text/plain": [
       "<IPython.core.display.HTML object>"
      ]
     },
     "metadata": {},
     "output_type": "display_data"
    },
    {
     "data": {
      "text/html": [
       "\n",
       "        <div id=\"FeZuEkKv9NiKk3BFJUgrc7\"></div>\n",
       "        <script>netpixi.call('FeZuEkKv9NiKk3BFJUgrc7', '6TdJewpHMtn6cJBSwgXbcW', 'changeGraph', 'eyJpZCI6IDQ0LCAidHlwZSI6ICJ2ZXJ0ZXgiLCAicHJvcHMiOiB7InNpemUiOiAxNi4wNjY5NDU2MDY2OTQ1Nn19Cg==');</script>\n",
       "    "
      ],
      "text/plain": [
       "<IPython.core.display.HTML object>"
      ]
     },
     "metadata": {},
     "output_type": "display_data"
    },
    {
     "data": {
      "text/html": [
       "\n",
       "        <div id=\"BrH8kzJsxkVatVSJyoocoo\"></div>\n",
       "        <script>netpixi.call('BrH8kzJsxkVatVSJyoocoo', '6TdJewpHMtn6cJBSwgXbcW', 'changeGraph', 'eyJpZCI6IDgwLCAidHlwZSI6ICJ2ZXJ0ZXgiLCAicHJvcHMiOiB7ImNvbG9yIjogMTY3MTE2ODB9fQo=');</script>\n",
       "    "
      ],
      "text/plain": [
       "<IPython.core.display.HTML object>"
      ]
     },
     "metadata": {},
     "output_type": "display_data"
    },
    {
     "data": {
      "text/html": [
       "\n",
       "        <div id=\"Pc6inyy6AahnRnJ7uPGMnG\"></div>\n",
       "        <script>netpixi.call('Pc6inyy6AahnRnJ7uPGMnG', '6TdJewpHMtn6cJBSwgXbcW', 'changeGraph', 'eyJpZCI6IDQ1LCAidHlwZSI6ICJ2ZXJ0ZXgiLCAicHJvcHMiOiB7InNpemUiOiAxNi4zMTc5OTE2MzE3OTkxNjN9fQo=');</script>\n",
       "    "
      ],
      "text/plain": [
       "<IPython.core.display.HTML object>"
      ]
     },
     "metadata": {},
     "output_type": "display_data"
    },
    {
     "data": {
      "text/html": [
       "\n",
       "        <div id=\"NhZP6mVDuWhfLR4tdaKgv4\"></div>\n",
       "        <script>netpixi.call('NhZP6mVDuWhfLR4tdaKgv4', '6TdJewpHMtn6cJBSwgXbcW', 'changeGraph', 'eyJpZCI6IDgwLCAidHlwZSI6ICJ2ZXJ0ZXgiLCAicHJvcHMiOiB7ImNvbG9yIjogMTY3MTE2ODB9fQo=');</script>\n",
       "    "
      ],
      "text/plain": [
       "<IPython.core.display.HTML object>"
      ]
     },
     "metadata": {},
     "output_type": "display_data"
    },
    {
     "data": {
      "text/html": [
       "\n",
       "        <div id=\"C5mea99a6gWv5UL6oxnFCT\"></div>\n",
       "        <script>netpixi.call('C5mea99a6gWv5UL6oxnFCT', '6TdJewpHMtn6cJBSwgXbcW', 'changeGraph', 'eyJpZCI6IDQ2LCAidHlwZSI6ICJ2ZXJ0ZXgiLCAicHJvcHMiOiB7InNpemUiOiAyMC4wfX0K');</script>\n",
       "    "
      ],
      "text/plain": [
       "<IPython.core.display.HTML object>"
      ]
     },
     "metadata": {},
     "output_type": "display_data"
    },
    {
     "data": {
      "text/html": [
       "\n",
       "        <div id=\"hrxwwsea4sGmX3KY3XZGdc\"></div>\n",
       "        <script>netpixi.call('hrxwwsea4sGmX3KY3XZGdc', '6TdJewpHMtn6cJBSwgXbcW', 'changeGraph', 'eyJpZCI6IDgzLCAidHlwZSI6ICJ2ZXJ0ZXgiLCAicHJvcHMiOiB7ImNvbG9yIjogMTY3MTE2ODB9fQo=');</script>\n",
       "    "
      ],
      "text/plain": [
       "<IPython.core.display.HTML object>"
      ]
     },
     "metadata": {},
     "output_type": "display_data"
    },
    {
     "data": {
      "text/html": [
       "\n",
       "        <div id=\"Mss997v6fEsGuRyJzWb4NY\"></div>\n",
       "        <script>netpixi.call('Mss997v6fEsGuRyJzWb4NY', '6TdJewpHMtn6cJBSwgXbcW', 'changeGraph', 'eyJpZCI6IDQ3LCAidHlwZSI6ICJ2ZXJ0ZXgiLCAicHJvcHMiOiB7InNpemUiOiAxNy45OTE2MzE3OTkxNjMxOH19Cg==');</script>\n",
       "    "
      ],
      "text/plain": [
       "<IPython.core.display.HTML object>"
      ]
     },
     "metadata": {},
     "output_type": "display_data"
    },
    {
     "data": {
      "text/html": [
       "\n",
       "        <div id=\"oD6a33ggijjKtGuqjnu6sk\"></div>\n",
       "        <script>netpixi.call('oD6a33ggijjKtGuqjnu6sk', '6TdJewpHMtn6cJBSwgXbcW', 'changeGraph', 'eyJpZCI6IDg0LCAidHlwZSI6ICJ2ZXJ0ZXgiLCAicHJvcHMiOiB7ImNvbG9yIjogMTY3MTE2ODB9fQo=');</script>\n",
       "    "
      ],
      "text/plain": [
       "<IPython.core.display.HTML object>"
      ]
     },
     "metadata": {},
     "output_type": "display_data"
    },
    {
     "data": {
      "text/html": [
       "\n",
       "        <div id=\"JbUW4zrn5NwjdyKxBqrqSs\"></div>\n",
       "        <script>netpixi.call('JbUW4zrn5NwjdyKxBqrqSs', '6TdJewpHMtn6cJBSwgXbcW', 'changeGraph', 'eyJpZCI6IDQ4LCAidHlwZSI6ICJ2ZXJ0ZXgiLCAicHJvcHMiOiB7InNpemUiOiAxNS43NzQwNTg1Nzc0MDU4NTd9fQo=');</script>\n",
       "    "
      ],
      "text/plain": [
       "<IPython.core.display.HTML object>"
      ]
     },
     "metadata": {},
     "output_type": "display_data"
    },
    {
     "data": {
      "text/html": [
       "\n",
       "        <div id=\"m989KdgTM8Ps3QtcbuTHhA\"></div>\n",
       "        <script>netpixi.call('m989KdgTM8Ps3QtcbuTHhA', '6TdJewpHMtn6cJBSwgXbcW', 'changeGraph', 'eyJpZCI6IDczLCAidHlwZSI6ICJ2ZXJ0ZXgiLCAicHJvcHMiOiB7ImNvbG9yIjogMTY3MTE2ODB9fQo=');</script>\n",
       "    "
      ],
      "text/plain": [
       "<IPython.core.display.HTML object>"
      ]
     },
     "metadata": {},
     "output_type": "display_data"
    },
    {
     "data": {
      "text/html": [
       "\n",
       "        <div id=\"fnq7YyDhBU3yqdXWSjR7cH\"></div>\n",
       "        <script>netpixi.call('fnq7YyDhBU3yqdXWSjR7cH', '6TdJewpHMtn6cJBSwgXbcW', 'changeGraph', 'eyJpZCI6IDQ5LCAidHlwZSI6ICJ2ZXJ0ZXgiLCAicHJvcHMiOiB7InNpemUiOiAxNy4zMjIxNzU3MzIyMTc1NzN9fQo=');</script>\n",
       "    "
      ],
      "text/plain": [
       "<IPython.core.display.HTML object>"
      ]
     },
     "metadata": {},
     "output_type": "display_data"
    },
    {
     "data": {
      "text/html": [
       "\n",
       "        <div id=\"PH37JzLZVfVJhXXFUZyjeP\"></div>\n",
       "        <script>netpixi.call('PH37JzLZVfVJhXXFUZyjeP', '6TdJewpHMtn6cJBSwgXbcW', 'changeGraph', 'eyJpZCI6IDg0LCAidHlwZSI6ICJ2ZXJ0ZXgiLCAicHJvcHMiOiB7ImNvbG9yIjogMTY3MTE2ODB9fQo=');</script>\n",
       "    "
      ],
      "text/plain": [
       "<IPython.core.display.HTML object>"
      ]
     },
     "metadata": {},
     "output_type": "display_data"
    },
    {
     "data": {
      "text/html": [
       "\n",
       "        <div id=\"jPLtRbTxbsfWxaoLpkxuHD\"></div>\n",
       "        <script>netpixi.call('jPLtRbTxbsfWxaoLpkxuHD', '6TdJewpHMtn6cJBSwgXbcW', 'changeGraph', 'eyJpZCI6IDUwLCAidHlwZSI6ICJ2ZXJ0ZXgiLCAicHJvcHMiOiB7InNpemUiOiAxMC40NjAyNTEwNDYwMjUxMDV9fQo=');</script>\n",
       "    "
      ],
      "text/plain": [
       "<IPython.core.display.HTML object>"
      ]
     },
     "metadata": {},
     "output_type": "display_data"
    },
    {
     "data": {
      "text/html": [
       "\n",
       "        <div id=\"Lf9VxNb2wHVTy3hc84Q3Ss\"></div>\n",
       "        <script>netpixi.call('Lf9VxNb2wHVTy3hc84Q3Ss', '6TdJewpHMtn6cJBSwgXbcW', 'changeGraph', 'eyJpZCI6IDgwLCAidHlwZSI6ICJ2ZXJ0ZXgiLCAicHJvcHMiOiB7ImNvbG9yIjogMTY3MTE2ODB9fQo=');</script>\n",
       "    "
      ],
      "text/plain": [
       "<IPython.core.display.HTML object>"
      ]
     },
     "metadata": {},
     "output_type": "display_data"
    },
    {
     "data": {
      "text/html": [
       "\n",
       "        <div id=\"AiPumK5b2doLEvp5NDkHDR\"></div>\n",
       "        <script>netpixi.call('AiPumK5b2doLEvp5NDkHDR', '6TdJewpHMtn6cJBSwgXbcW', 'changeGraph', 'eyJpZCI6IDUxLCAidHlwZSI6ICJ2ZXJ0ZXgiLCAicHJvcHMiOiB7InNpemUiOiAxNi4xOTI0Njg2MTkyNDY4Nn19Cg==');</script>\n",
       "    "
      ],
      "text/plain": [
       "<IPython.core.display.HTML object>"
      ]
     },
     "metadata": {},
     "output_type": "display_data"
    },
    {
     "data": {
      "text/html": [
       "\n",
       "        <div id=\"aLuWc6LQpUutSjz6hod8rm\"></div>\n",
       "        <script>netpixi.call('aLuWc6LQpUutSjz6hod8rm', '6TdJewpHMtn6cJBSwgXbcW', 'changeGraph', 'eyJpZCI6IDgwLCAidHlwZSI6ICJ2ZXJ0ZXgiLCAicHJvcHMiOiB7ImNvbG9yIjogMTY3MTE2ODB9fQo=');</script>\n",
       "    "
      ],
      "text/plain": [
       "<IPython.core.display.HTML object>"
      ]
     },
     "metadata": {},
     "output_type": "display_data"
    },
    {
     "data": {
      "text/html": [
       "\n",
       "        <div id=\"LymZG73Frj5ntTz78fN8ZU\"></div>\n",
       "        <script>netpixi.call('LymZG73Frj5ntTz78fN8ZU', '6TdJewpHMtn6cJBSwgXbcW', 'changeGraph', 'eyJpZCI6IDUyLCAidHlwZSI6ICJ2ZXJ0ZXgiLCAicHJvcHMiOiB7InNpemUiOiAxNC44OTUzOTc0ODk1Mzk3NDh9fQo=');</script>\n",
       "    "
      ],
      "text/plain": [
       "<IPython.core.display.HTML object>"
      ]
     },
     "metadata": {},
     "output_type": "display_data"
    },
    {
     "data": {
      "text/html": [
       "\n",
       "        <div id=\"YxtwMEXrSAEFqqqyY6N3c2\"></div>\n",
       "        <script>netpixi.call('YxtwMEXrSAEFqqqyY6N3c2', '6TdJewpHMtn6cJBSwgXbcW', 'changeGraph', 'eyJpZCI6IDczLCAidHlwZSI6ICJ2ZXJ0ZXgiLCAicHJvcHMiOiB7ImNvbG9yIjogMTY3MTE2ODB9fQo=');</script>\n",
       "    "
      ],
      "text/plain": [
       "<IPython.core.display.HTML object>"
      ]
     },
     "metadata": {},
     "output_type": "display_data"
    },
    {
     "data": {
      "text/html": [
       "\n",
       "        <div id=\"WNjB22M6cUkfBHQAYdujdv\"></div>\n",
       "        <script>netpixi.call('WNjB22M6cUkfBHQAYdujdv', '6TdJewpHMtn6cJBSwgXbcW', 'changeGraph', 'eyJpZCI6IDUzLCAidHlwZSI6ICJ2ZXJ0ZXgiLCAicHJvcHMiOiB7InNpemUiOiAxNy41NzMyMjE3NTczMjIxNzN9fQo=');</script>\n",
       "    "
      ],
      "text/plain": [
       "<IPython.core.display.HTML object>"
      ]
     },
     "metadata": {},
     "output_type": "display_data"
    },
    {
     "data": {
      "text/html": [
       "\n",
       "        <div id=\"YYH8W5zTR3CBieK5whvahk\"></div>\n",
       "        <script>netpixi.call('YYH8W5zTR3CBieK5whvahk', '6TdJewpHMtn6cJBSwgXbcW', 'changeGraph', 'eyJpZCI6IDc1LCAidHlwZSI6ICJ2ZXJ0ZXgiLCAicHJvcHMiOiB7ImNvbG9yIjogMTY3MTE2ODB9fQo=');</script>\n",
       "    "
      ],
      "text/plain": [
       "<IPython.core.display.HTML object>"
      ]
     },
     "metadata": {},
     "output_type": "display_data"
    },
    {
     "data": {
      "text/html": [
       "\n",
       "        <div id=\"kVNSrivZdULP7eQqDDzfbH\"></div>\n",
       "        <script>netpixi.call('kVNSrivZdULP7eQqDDzfbH', '6TdJewpHMtn6cJBSwgXbcW', 'changeGraph', 'eyJpZCI6IDU0LCAidHlwZSI6ICJ2ZXJ0ZXgiLCAicHJvcHMiOiB7InNpemUiOiA0MS44MzMzMzMzMzMzMzMzM319Cg==');</script>\n",
       "    "
      ],
      "text/plain": [
       "<IPython.core.display.HTML object>"
      ]
     },
     "metadata": {},
     "output_type": "display_data"
    },
    {
     "data": {
      "text/html": [
       "\n",
       "        <div id=\"CPAuDEmyJe2fJpToTcwCix\"></div>\n",
       "        <script>netpixi.call('CPAuDEmyJe2fJpToTcwCix', '6TdJewpHMtn6cJBSwgXbcW', 'changeGraph', 'eyJpZCI6IDc1LCAidHlwZSI6ICJ2ZXJ0ZXgiLCAicHJvcHMiOiB7ImNvbG9yIjogMTY3MTE2ODB9fQo=');</script>\n",
       "    "
      ],
      "text/plain": [
       "<IPython.core.display.HTML object>"
      ]
     },
     "metadata": {},
     "output_type": "display_data"
    },
    {
     "data": {
      "text/html": [
       "\n",
       "        <div id=\"oX2fbmwcHC5jR87iKneJxm\"></div>\n",
       "        <script>netpixi.call('oX2fbmwcHC5jR87iKneJxm', '6TdJewpHMtn6cJBSwgXbcW', 'changeGraph', 'eyJpZCI6IDU1LCAidHlwZSI6ICJ2ZXJ0ZXgiLCAicHJvcHMiOiB7InNpemUiOiAxMC4yOTI4ODcwMjkyODg3MDN9fQo=');</script>\n",
       "    "
      ],
      "text/plain": [
       "<IPython.core.display.HTML object>"
      ]
     },
     "metadata": {},
     "output_type": "display_data"
    },
    {
     "data": {
      "text/html": [
       "\n",
       "        <div id=\"42FEmoQW9pCESZhw6rXLZW\"></div>\n",
       "        <script>netpixi.call('42FEmoQW9pCESZhw6rXLZW', '6TdJewpHMtn6cJBSwgXbcW', 'changeGraph', 'eyJpZCI6IDg2LCAidHlwZSI6ICJ2ZXJ0ZXgiLCAicHJvcHMiOiB7ImNvbG9yIjogMTY3MTE2ODB9fQo=');</script>\n",
       "    "
      ],
      "text/plain": [
       "<IPython.core.display.HTML object>"
      ]
     },
     "metadata": {},
     "output_type": "display_data"
    },
    {
     "data": {
      "text/html": [
       "\n",
       "        <div id=\"WDqUAswwsNmT98ur4FXiEY\"></div>\n",
       "        <script>netpixi.call('WDqUAswwsNmT98ur4FXiEY', '6TdJewpHMtn6cJBSwgXbcW', 'changeGraph', 'eyJpZCI6IDU2LCAidHlwZSI6ICJ2ZXJ0ZXgiLCAicHJvcHMiOiB7InNpemUiOiAxMC4xMjU1MjMwMTI1NTIzMDJ9fQo=');</script>\n",
       "    "
      ],
      "text/plain": [
       "<IPython.core.display.HTML object>"
      ]
     },
     "metadata": {},
     "output_type": "display_data"
    },
    {
     "data": {
      "text/html": [
       "\n",
       "        <div id=\"D2ubZaGSFeXkYWQoPRAMYV\"></div>\n",
       "        <script>netpixi.call('D2ubZaGSFeXkYWQoPRAMYV', '6TdJewpHMtn6cJBSwgXbcW', 'changeGraph', 'eyJpZCI6IDgwLCAidHlwZSI6ICJ2ZXJ0ZXgiLCAicHJvcHMiOiB7ImNvbG9yIjogMTY3MTE2ODB9fQo=');</script>\n",
       "    "
      ],
      "text/plain": [
       "<IPython.core.display.HTML object>"
      ]
     },
     "metadata": {},
     "output_type": "display_data"
    },
    {
     "data": {
      "text/html": [
       "\n",
       "        <div id=\"iUj9z8iUi4QXQbowbE4hcu\"></div>\n",
       "        <script>netpixi.call('iUj9z8iUi4QXQbowbE4hcu', '6TdJewpHMtn6cJBSwgXbcW', 'changeGraph', 'eyJpZCI6IDU3LCAidHlwZSI6ICJ2ZXJ0ZXgiLCAicHJvcHMiOiB7InNpemUiOiAxMy41MTQ2NDQzNTE0NjQ0MzV9fQo=');</script>\n",
       "    "
      ],
      "text/plain": [
       "<IPython.core.display.HTML object>"
      ]
     },
     "metadata": {},
     "output_type": "display_data"
    },
    {
     "data": {
      "text/html": [
       "\n",
       "        <div id=\"WwPAajf83CVuG9yYESVKE4\"></div>\n",
       "        <script>netpixi.call('WwPAajf83CVuG9yYESVKE4', '6TdJewpHMtn6cJBSwgXbcW', 'changeGraph', 'eyJpZCI6IDY5LCAidHlwZSI6ICJ2ZXJ0ZXgiLCAicHJvcHMiOiB7ImNvbG9yIjogMTY3MTE2ODB9fQo=');</script>\n",
       "    "
      ],
      "text/plain": [
       "<IPython.core.display.HTML object>"
      ]
     },
     "metadata": {},
     "output_type": "display_data"
    },
    {
     "data": {
      "text/html": [
       "\n",
       "        <div id=\"cQMkZUxrEKurwMYhnNyxMS\"></div>\n",
       "        <script>netpixi.call('cQMkZUxrEKurwMYhnNyxMS', '6TdJewpHMtn6cJBSwgXbcW', 'changeGraph', 'eyJpZCI6IDU4LCAidHlwZSI6ICJ2ZXJ0ZXgiLCAicHJvcHMiOiB7InNpemUiOiA0Ni41fX0K');</script>\n",
       "    "
      ],
      "text/plain": [
       "<IPython.core.display.HTML object>"
      ]
     },
     "metadata": {},
     "output_type": "display_data"
    },
    {
     "data": {
      "text/html": [
       "\n",
       "        <div id=\"mruQCYt8W6YWpNwnpkBkzw\"></div>\n",
       "        <script>netpixi.call('mruQCYt8W6YWpNwnpkBkzw', '6TdJewpHMtn6cJBSwgXbcW', 'changeGraph', 'eyJpZCI6IDgxLCAidHlwZSI6ICJ2ZXJ0ZXgiLCAicHJvcHMiOiB7ImNvbG9yIjogMTY3MTE2ODB9fQo=');</script>\n",
       "    "
      ],
      "text/plain": [
       "<IPython.core.display.HTML object>"
      ]
     },
     "metadata": {},
     "output_type": "display_data"
    },
    {
     "data": {
      "text/html": [
       "\n",
       "        <div id=\"Gmyu7p6RLsedTVotQHpqrb\"></div>\n",
       "        <script>netpixi.call('Gmyu7p6RLsedTVotQHpqrb', '6TdJewpHMtn6cJBSwgXbcW', 'changeGraph', 'eyJpZCI6IDU5LCAidHlwZSI6ICJ2ZXJ0ZXgiLCAicHJvcHMiOiB7InNpemUiOiAxNC4wNTg1Nzc0MDU4NTc3NH19Cg==');</script>\n",
       "    "
      ],
      "text/plain": [
       "<IPython.core.display.HTML object>"
      ]
     },
     "metadata": {},
     "output_type": "display_data"
    },
    {
     "data": {
      "text/html": [
       "\n",
       "        <div id=\"JdqJSDhqGnDZ6mSuUn4gku\"></div>\n",
       "        <script>netpixi.call('JdqJSDhqGnDZ6mSuUn4gku', '6TdJewpHMtn6cJBSwgXbcW', 'changeGraph', 'eyJpZCI6IDczLCAidHlwZSI6ICJ2ZXJ0ZXgiLCAicHJvcHMiOiB7ImNvbG9yIjogMTY3MTE2ODB9fQo=');</script>\n",
       "    "
      ],
      "text/plain": [
       "<IPython.core.display.HTML object>"
      ]
     },
     "metadata": {},
     "output_type": "display_data"
    },
    {
     "data": {
      "text/html": [
       "\n",
       "        <div id=\"JQLPbD8YjXM9CEtamZyd6F\"></div>\n",
       "        <script>netpixi.call('JQLPbD8YjXM9CEtamZyd6F', '6TdJewpHMtn6cJBSwgXbcW', 'changeGraph', 'eyJpZCI6IDYwLCAidHlwZSI6ICJ2ZXJ0ZXgiLCAicHJvcHMiOiB7InNpemUiOiAxMS4yNTUyMzAxMjU1MjMwMTN9fQo=');</script>\n",
       "    "
      ],
      "text/plain": [
       "<IPython.core.display.HTML object>"
      ]
     },
     "metadata": {},
     "output_type": "display_data"
    },
    {
     "data": {
      "text/html": [
       "\n",
       "        <div id=\"97rk3LodWRhZDD5nMSY5De\"></div>\n",
       "        <script>netpixi.call('97rk3LodWRhZDD5nMSY5De', '6TdJewpHMtn6cJBSwgXbcW', 'changeGraph', 'eyJpZCI6IDc5LCAidHlwZSI6ICJ2ZXJ0ZXgiLCAicHJvcHMiOiB7ImNvbG9yIjogMTY3MTE2ODB9fQo=');</script>\n",
       "    "
      ],
      "text/plain": [
       "<IPython.core.display.HTML object>"
      ]
     },
     "metadata": {},
     "output_type": "display_data"
    },
    {
     "data": {
      "text/html": [
       "\n",
       "        <div id=\"PiukJXMXHyJGqU2Kp4qo2v\"></div>\n",
       "        <script>netpixi.call('PiukJXMXHyJGqU2Kp4qo2v', '6TdJewpHMtn6cJBSwgXbcW', 'changeGraph', 'eyJpZCI6IDYxLCAidHlwZSI6ICJ2ZXJ0ZXgiLCAicHJvcHMiOiB7InNpemUiOiA0MC44MzMzMzMzMzMzMzMzMzZ9fQo=');</script>\n",
       "    "
      ],
      "text/plain": [
       "<IPython.core.display.HTML object>"
      ]
     },
     "metadata": {},
     "output_type": "display_data"
    },
    {
     "data": {
      "text/html": [
       "\n",
       "        <div id=\"7rCCCXhg3ANzvhfxUFztkR\"></div>\n",
       "        <script>netpixi.call('7rCCCXhg3ANzvhfxUFztkR', '6TdJewpHMtn6cJBSwgXbcW', 'changeGraph', 'eyJpZCI6IDY4LCAidHlwZSI6ICJ2ZXJ0ZXgiLCAicHJvcHMiOiB7ImNvbG9yIjogMTY3MTE2ODB9fQo=');</script>\n",
       "    "
      ],
      "text/plain": [
       "<IPython.core.display.HTML object>"
      ]
     },
     "metadata": {},
     "output_type": "display_data"
    },
    {
     "data": {
      "text/html": [
       "\n",
       "        <div id=\"Byu76qx9aQMNEdjtxUVYCn\"></div>\n",
       "        <script>netpixi.call('Byu76qx9aQMNEdjtxUVYCn', '6TdJewpHMtn6cJBSwgXbcW', 'changeGraph', 'eyJpZCI6IDYyLCAidHlwZSI6ICJ2ZXJ0ZXgiLCAicHJvcHMiOiB7InNpemUiOiAxOC45NTM5NzQ4OTUzOTc0ODZ9fQo=');</script>\n",
       "    "
      ],
      "text/plain": [
       "<IPython.core.display.HTML object>"
      ]
     },
     "metadata": {},
     "output_type": "display_data"
    },
    {
     "data": {
      "text/html": [
       "\n",
       "        <div id=\"4CpDYoDU5uXWEfE2a8YZPZ\"></div>\n",
       "        <script>netpixi.call('4CpDYoDU5uXWEfE2a8YZPZ', '6TdJewpHMtn6cJBSwgXbcW', 'changeGraph', 'eyJpZCI6IDgxLCAidHlwZSI6ICJ2ZXJ0ZXgiLCAicHJvcHMiOiB7ImNvbG9yIjogMTY3MTE2ODB9fQo=');</script>\n",
       "    "
      ],
      "text/plain": [
       "<IPython.core.display.HTML object>"
      ]
     },
     "metadata": {},
     "output_type": "display_data"
    },
    {
     "data": {
      "text/html": [
       "\n",
       "        <div id=\"LUESnuFvEgNus8Zimt3Qoy\"></div>\n",
       "        <script>netpixi.call('LUESnuFvEgNus8Zimt3Qoy', '6TdJewpHMtn6cJBSwgXbcW', 'changeGraph', 'eyJpZCI6IDYzLCAidHlwZSI6ICJ2ZXJ0ZXgiLCAicHJvcHMiOiB7InNpemUiOiAxNC40MzUxNDY0NDM1MTQ2NDN9fQo=');</script>\n",
       "    "
      ],
      "text/plain": [
       "<IPython.core.display.HTML object>"
      ]
     },
     "metadata": {},
     "output_type": "display_data"
    },
    {
     "data": {
      "text/html": [
       "\n",
       "        <div id=\"BXcujmNC6bJAjNcFTvFoKL\"></div>\n",
       "        <script>netpixi.call('BXcujmNC6bJAjNcFTvFoKL', '6TdJewpHMtn6cJBSwgXbcW', 'changeGraph', 'eyJpZCI6IDgyLCAidHlwZSI6ICJ2ZXJ0ZXgiLCAicHJvcHMiOiB7ImNvbG9yIjogMTY3MTE2ODB9fQo=');</script>\n",
       "    "
      ],
      "text/plain": [
       "<IPython.core.display.HTML object>"
      ]
     },
     "metadata": {},
     "output_type": "display_data"
    },
    {
     "data": {
      "text/html": [
       "\n",
       "        <div id=\"8RZqPWEAXdmRGxPbdqJC6e\"></div>\n",
       "        <script>netpixi.call('8RZqPWEAXdmRGxPbdqJC6e', '6TdJewpHMtn6cJBSwgXbcW', 'changeGraph', 'eyJpZCI6IDY0LCAidHlwZSI6ICJ2ZXJ0ZXgiLCAicHJvcHMiOiB7InNpemUiOiAxNi4zNTk4MzI2MzU5ODMyNjN9fQo=');</script>\n",
       "    "
      ],
      "text/plain": [
       "<IPython.core.display.HTML object>"
      ]
     },
     "metadata": {},
     "output_type": "display_data"
    },
    {
     "data": {
      "text/html": [
       "\n",
       "        <div id=\"MUg3xPUc4mGAH4HSMcAtH5\"></div>\n",
       "        <script>netpixi.call('MUg3xPUc4mGAH4HSMcAtH5', '6TdJewpHMtn6cJBSwgXbcW', 'changeGraph', 'eyJpZCI6IDg1LCAidHlwZSI6ICJ2ZXJ0ZXgiLCAicHJvcHMiOiB7ImNvbG9yIjogMTY3MTE2ODB9fQo=');</script>\n",
       "    "
      ],
      "text/plain": [
       "<IPython.core.display.HTML object>"
      ]
     },
     "metadata": {},
     "output_type": "display_data"
    },
    {
     "data": {
      "text/html": [
       "\n",
       "        <div id=\"GBtdeBr8wGPtCYsG3mrFUF\"></div>\n",
       "        <script>netpixi.call('GBtdeBr8wGPtCYsG3mrFUF', '6TdJewpHMtn6cJBSwgXbcW', 'changeGraph', 'eyJpZCI6IDY1LCAidHlwZSI6ICJ2ZXJ0ZXgiLCAicHJvcHMiOiB7InNpemUiOiAxOC43ODY2MTA4Nzg2NjEwODd9fQo=');</script>\n",
       "    "
      ],
      "text/plain": [
       "<IPython.core.display.HTML object>"
      ]
     },
     "metadata": {},
     "output_type": "display_data"
    },
    {
     "data": {
      "text/html": [
       "\n",
       "        <div id=\"AU8WzwKBgFtrpmizQD9WrV\"></div>\n",
       "        <script>netpixi.call('AU8WzwKBgFtrpmizQD9WrV', '6TdJewpHMtn6cJBSwgXbcW', 'changeGraph', 'eyJpZCI6IDc3LCAidHlwZSI6ICJ2ZXJ0ZXgiLCAicHJvcHMiOiB7ImNvbG9yIjogMTY3MTE2ODB9fQo=');</script>\n",
       "    "
      ],
      "text/plain": [
       "<IPython.core.display.HTML object>"
      ]
     },
     "metadata": {},
     "output_type": "display_data"
    },
    {
     "data": {
      "text/html": [
       "\n",
       "        <div id=\"hExMG7Wyt6kaoDaFaBnDwR\"></div>\n",
       "        <script>netpixi.call('hExMG7Wyt6kaoDaFaBnDwR', '6TdJewpHMtn6cJBSwgXbcW', 'changeGraph', 'eyJpZCI6IDY2LCAidHlwZSI6ICJ2ZXJ0ZXgiLCAicHJvcHMiOiB7InNpemUiOiAxMy4yNjM1OTgzMjYzNTk4MzN9fQo=');</script>\n",
       "    "
      ],
      "text/plain": [
       "<IPython.core.display.HTML object>"
      ]
     },
     "metadata": {},
     "output_type": "display_data"
    },
    {
     "data": {
      "text/html": [
       "\n",
       "        <div id=\"VSJsKoZYE4FhL3Kc3d8bWt\"></div>\n",
       "        <script>netpixi.call('VSJsKoZYE4FhL3Kc3d8bWt', '6TdJewpHMtn6cJBSwgXbcW', 'changeGraph', 'eyJpZCI6IDc5LCAidHlwZSI6ICJ2ZXJ0ZXgiLCAicHJvcHMiOiB7ImNvbG9yIjogMTY3MTE2ODB9fQo=');</script>\n",
       "    "
      ],
      "text/plain": [
       "<IPython.core.display.HTML object>"
      ]
     },
     "metadata": {},
     "output_type": "display_data"
    },
    {
     "data": {
      "text/html": [
       "\n",
       "        <div id=\"VncfVc3HPnjLb7pGKhsvgp\"></div>\n",
       "        <script>netpixi.call('VncfVc3HPnjLb7pGKhsvgp', '6TdJewpHMtn6cJBSwgXbcW', 'changeGraph', 'eyJpZCI6IDY3LCAidHlwZSI6ICJ2ZXJ0ZXgiLCAicHJvcHMiOiB7InNpemUiOiA0NC4xNjY2NjY2NjY2NjY2NjR9fQo=');</script>\n",
       "    "
      ],
      "text/plain": [
       "<IPython.core.display.HTML object>"
      ]
     },
     "metadata": {},
     "output_type": "display_data"
    },
    {
     "data": {
      "text/html": [
       "\n",
       "        <div id=\"mPmKsZqwaz5EHVgx6cEQCD\"></div>\n",
       "        <script>netpixi.call('mPmKsZqwaz5EHVgx6cEQCD', '6TdJewpHMtn6cJBSwgXbcW', 'changeGraph', 'eyJpZCI6IDgxLCAidHlwZSI6ICJ2ZXJ0ZXgiLCAicHJvcHMiOiB7ImNvbG9yIjogMTY3MTE2ODB9fQo=');</script>\n",
       "    "
      ],
      "text/plain": [
       "<IPython.core.display.HTML object>"
      ]
     },
     "metadata": {},
     "output_type": "display_data"
    },
    {
     "data": {
      "text/html": [
       "\n",
       "        <div id=\"3maxqmNVoKbThvfuYn2P4N\"></div>\n",
       "        <script>netpixi.call('3maxqmNVoKbThvfuYn2P4N', '6TdJewpHMtn6cJBSwgXbcW', 'changeGraph', 'eyJpZCI6IDY4LCAidHlwZSI6ICJ2ZXJ0ZXgiLCAicHJvcHMiOiB7InNpemUiOiAxNC4wMTY3MzY0MDE2NzM2NH19Cg==');</script>\n",
       "    "
      ],
      "text/plain": [
       "<IPython.core.display.HTML object>"
      ]
     },
     "metadata": {},
     "output_type": "display_data"
    },
    {
     "data": {
      "text/html": [
       "\n",
       "        <div id=\"LAt25hrjBQce8q32VXb8Cr\"></div>\n",
       "        <script>netpixi.call('LAt25hrjBQce8q32VXb8Cr', '6TdJewpHMtn6cJBSwgXbcW', 'changeGraph', 'eyJpZCI6IDY4LCAidHlwZSI6ICJ2ZXJ0ZXgiLCAicHJvcHMiOiB7ImNvbG9yIjogMTY3MTE2ODB9fQo=');</script>\n",
       "    "
      ],
      "text/plain": [
       "<IPython.core.display.HTML object>"
      ]
     },
     "metadata": {},
     "output_type": "display_data"
    },
    {
     "data": {
      "text/html": [
       "\n",
       "        <div id=\"i9divfvZfHfrb335oZnwQo\"></div>\n",
       "        <script>netpixi.call('i9divfvZfHfrb335oZnwQo', '6TdJewpHMtn6cJBSwgXbcW', 'changeGraph', 'eyJpZCI6IDY5LCAidHlwZSI6ICJ2ZXJ0ZXgiLCAicHJvcHMiOiB7InNpemUiOiAxNS4wNjI3NjE1MDYyNzYxNX19Cg==');</script>\n",
       "    "
      ],
      "text/plain": [
       "<IPython.core.display.HTML object>"
      ]
     },
     "metadata": {},
     "output_type": "display_data"
    },
    {
     "data": {
      "text/html": [
       "\n",
       "        <div id=\"fYv3dDBpWeAGE3PsXcwBeF\"></div>\n",
       "        <script>netpixi.call('fYv3dDBpWeAGE3PsXcwBeF', '6TdJewpHMtn6cJBSwgXbcW', 'changeGraph', 'eyJpZCI6IDgwLCAidHlwZSI6ICJ2ZXJ0ZXgiLCAicHJvcHMiOiB7ImNvbG9yIjogMTY3MTE2ODB9fQo=');</script>\n",
       "    "
      ],
      "text/plain": [
       "<IPython.core.display.HTML object>"
      ]
     },
     "metadata": {},
     "output_type": "display_data"
    },
    {
     "data": {
      "text/html": [
       "\n",
       "        <div id=\"eqMSkqUs62xqkPd45nVsxA\"></div>\n",
       "        <script>netpixi.call('eqMSkqUs62xqkPd45nVsxA', '6TdJewpHMtn6cJBSwgXbcW', 'changeGraph', 'eyJpZCI6IDcwLCAidHlwZSI6ICJ2ZXJ0ZXgiLCAicHJvcHMiOiB7InNpemUiOiAxMC4zNzY1NjkwMzc2NTY5MDN9fQo=');</script>\n",
       "    "
      ],
      "text/plain": [
       "<IPython.core.display.HTML object>"
      ]
     },
     "metadata": {},
     "output_type": "display_data"
    },
    {
     "data": {
      "text/html": [
       "\n",
       "        <div id=\"QRNunJdiQ9js3vyZdYGWFP\"></div>\n",
       "        <script>netpixi.call('QRNunJdiQ9js3vyZdYGWFP', '6TdJewpHMtn6cJBSwgXbcW', 'changeGraph', 'eyJpZCI6IDg2LCAidHlwZSI6ICJ2ZXJ0ZXgiLCAicHJvcHMiOiB7ImNvbG9yIjogMTY3MTE2ODB9fQo=');</script>\n",
       "    "
      ],
      "text/plain": [
       "<IPython.core.display.HTML object>"
      ]
     },
     "metadata": {},
     "output_type": "display_data"
    },
    {
     "data": {
      "text/html": [
       "\n",
       "        <div id=\"nhG8QoTnXzKJwXCeQX95pT\"></div>\n",
       "        <script>netpixi.call('nhG8QoTnXzKJwXCeQX95pT', '6TdJewpHMtn6cJBSwgXbcW', 'changeGraph', 'eyJpZCI6IDcxLCAidHlwZSI6ICJ2ZXJ0ZXgiLCAicHJvcHMiOiB7InNpemUiOiAxOS4yODg3MDI5Mjg4NzAyOTN9fQo=');</script>\n",
       "    "
      ],
      "text/plain": [
       "<IPython.core.display.HTML object>"
      ]
     },
     "metadata": {},
     "output_type": "display_data"
    },
    {
     "data": {
      "text/html": [
       "\n",
       "        <div id=\"f8UFsKjsRXKznDXx88ngzG\"></div>\n",
       "        <script>netpixi.call('f8UFsKjsRXKznDXx88ngzG', '6TdJewpHMtn6cJBSwgXbcW', 'changeGraph', 'eyJpZCI6IDgzLCAidHlwZSI6ICJ2ZXJ0ZXgiLCAicHJvcHMiOiB7ImNvbG9yIjogMTY3MTE2ODB9fQo=');</script>\n",
       "    "
      ],
      "text/plain": [
       "<IPython.core.display.HTML object>"
      ]
     },
     "metadata": {},
     "output_type": "display_data"
    },
    {
     "data": {
      "text/html": [
       "\n",
       "        <div id=\"9yaB4yihQdUrbAFEx57pYA\"></div>\n",
       "        <script>netpixi.call('9yaB4yihQdUrbAFEx57pYA', '6TdJewpHMtn6cJBSwgXbcW', 'changeGraph', 'eyJpZCI6IDcyLCAidHlwZSI6ICJ2ZXJ0ZXgiLCAicHJvcHMiOiB7InNpemUiOiAxOS45MTYzMTc5OTE2MzE4fX0K');</script>\n",
       "    "
      ],
      "text/plain": [
       "<IPython.core.display.HTML object>"
      ]
     },
     "metadata": {},
     "output_type": "display_data"
    },
    {
     "data": {
      "text/html": [
       "\n",
       "        <div id=\"N8e48ohTi3fkfzvs8ijZu4\"></div>\n",
       "        <script>netpixi.call('N8e48ohTi3fkfzvs8ijZu4', '6TdJewpHMtn6cJBSwgXbcW', 'changeGraph', 'eyJpZCI6IDc2LCAidHlwZSI6ICJ2ZXJ0ZXgiLCAicHJvcHMiOiB7ImNvbG9yIjogMTY3MTE2ODB9fQo=');</script>\n",
       "    "
      ],
      "text/plain": [
       "<IPython.core.display.HTML object>"
      ]
     },
     "metadata": {},
     "output_type": "display_data"
    },
    {
     "data": {
      "text/html": [
       "\n",
       "        <div id=\"TGAdgVSpczf7kzSHoN2Py4\"></div>\n",
       "        <script>netpixi.call('TGAdgVSpczf7kzSHoN2Py4', '6TdJewpHMtn6cJBSwgXbcW', 'changeGraph', 'eyJpZCI6IDczLCAidHlwZSI6ICJ2ZXJ0ZXgiLCAicHJvcHMiOiB7InNpemUiOiAxNy4wMjkyODg3MDI5Mjg4N319Cg==');</script>\n",
       "    "
      ],
      "text/plain": [
       "<IPython.core.display.HTML object>"
      ]
     },
     "metadata": {},
     "output_type": "display_data"
    },
    {
     "data": {
      "text/html": [
       "\n",
       "        <div id=\"gpTTfYriCj3JEMnXBUWukm\"></div>\n",
       "        <script>netpixi.call('gpTTfYriCj3JEMnXBUWukm', '6TdJewpHMtn6cJBSwgXbcW', 'changeGraph', 'eyJpZCI6IDgzLCAidHlwZSI6ICJ2ZXJ0ZXgiLCAicHJvcHMiOiB7ImNvbG9yIjogMTY3MTE2ODB9fQo=');</script>\n",
       "    "
      ],
      "text/plain": [
       "<IPython.core.display.HTML object>"
      ]
     },
     "metadata": {},
     "output_type": "display_data"
    },
    {
     "data": {
      "text/html": [
       "\n",
       "        <div id=\"B3szMLAN6CcjkmN3gmUetw\"></div>\n",
       "        <script>netpixi.call('B3szMLAN6CcjkmN3gmUetw', '6TdJewpHMtn6cJBSwgXbcW', 'changeGraph', 'eyJpZCI6IDc0LCAidHlwZSI6ICJ2ZXJ0ZXgiLCAicHJvcHMiOiB7InNpemUiOiAxMi42MzU5ODMyNjM1OTgzMjd9fQo=');</script>\n",
       "    "
      ],
      "text/plain": [
       "<IPython.core.display.HTML object>"
      ]
     },
     "metadata": {},
     "output_type": "display_data"
    },
    {
     "data": {
      "text/html": [
       "\n",
       "        <div id=\"AKtKen3nu8w99JzfuFhLuo\"></div>\n",
       "        <script>netpixi.call('AKtKen3nu8w99JzfuFhLuo', '6TdJewpHMtn6cJBSwgXbcW', 'changeGraph', 'eyJpZCI6IDc5LCAidHlwZSI6ICJ2ZXJ0ZXgiLCAicHJvcHMiOiB7ImNvbG9yIjogMTY3MTE2ODB9fQo=');</script>\n",
       "    "
      ],
      "text/plain": [
       "<IPython.core.display.HTML object>"
      ]
     },
     "metadata": {},
     "output_type": "display_data"
    },
    {
     "data": {
      "text/html": [
       "\n",
       "        <div id=\"Uzs4LFpU4z9JdQxrYPgLWr\"></div>\n",
       "        <script>netpixi.call('Uzs4LFpU4z9JdQxrYPgLWr', '6TdJewpHMtn6cJBSwgXbcW', 'changeGraph', 'eyJpZCI6IDc1LCAidHlwZSI6ICJ2ZXJ0ZXgiLCAicHJvcHMiOiB7InNpemUiOiA0My44MzMzMzMzMzMzMzMzMzZ9fQo=');</script>\n",
       "    "
      ],
      "text/plain": [
       "<IPython.core.display.HTML object>"
      ]
     },
     "metadata": {},
     "output_type": "display_data"
    },
    {
     "data": {
      "text/html": [
       "\n",
       "        <div id=\"74zr9LUfnbQHFx3G4C7DZM\"></div>\n",
       "        <script>netpixi.call('74zr9LUfnbQHFx3G4C7DZM', '6TdJewpHMtn6cJBSwgXbcW', 'changeGraph', 'eyJpZCI6IDgxLCAidHlwZSI6ICJ2ZXJ0ZXgiLCAicHJvcHMiOiB7ImNvbG9yIjogMTY3MTE2ODB9fQo=');</script>\n",
       "    "
      ],
      "text/plain": [
       "<IPython.core.display.HTML object>"
      ]
     },
     "metadata": {},
     "output_type": "display_data"
    },
    {
     "data": {
      "text/html": [
       "\n",
       "        <div id=\"LpS9vtFdiCtKpgDELpXWtq\"></div>\n",
       "        <script>netpixi.call('LpS9vtFdiCtKpgDELpXWtq', '6TdJewpHMtn6cJBSwgXbcW', 'changeGraph', 'eyJpZCI6IDc2LCAidHlwZSI6ICJ2ZXJ0ZXgiLCAicHJvcHMiOiB7InNpemUiOiA0OS42NjY2NjY2NjY2NjY2N319Cg==');</script>\n",
       "    "
      ],
      "text/plain": [
       "<IPython.core.display.HTML object>"
      ]
     },
     "metadata": {},
     "output_type": "display_data"
    },
    {
     "data": {
      "text/html": [
       "\n",
       "        <div id=\"BfdzMJdBMMdNRMtsUSg8ZR\"></div>\n",
       "        <script>netpixi.call('BfdzMJdBMMdNRMtsUSg8ZR', '6TdJewpHMtn6cJBSwgXbcW', 'changeGraph', 'eyJpZCI6IDgyLCAidHlwZSI6ICJ2ZXJ0ZXgiLCAicHJvcHMiOiB7ImNvbG9yIjogMTY3MTE2ODB9fQo=');</script>\n",
       "    "
      ],
      "text/plain": [
       "<IPython.core.display.HTML object>"
      ]
     },
     "metadata": {},
     "output_type": "display_data"
    },
    {
     "data": {
      "text/html": [
       "\n",
       "        <div id=\"jjmKD4QUMpmJyr5DQoT5Dc\"></div>\n",
       "        <script>netpixi.call('jjmKD4QUMpmJyr5DQoT5Dc', '6TdJewpHMtn6cJBSwgXbcW', 'changeGraph', 'eyJpZCI6IDc3LCAidHlwZSI6ICJ2ZXJ0ZXgiLCAicHJvcHMiOiB7InNpemUiOiAxOS4wMzc2NTY5MDM3NjU2OX19Cg==');</script>\n",
       "    "
      ],
      "text/plain": [
       "<IPython.core.display.HTML object>"
      ]
     },
     "metadata": {},
     "output_type": "display_data"
    },
    {
     "data": {
      "text/html": [
       "\n",
       "        <div id=\"TxUuVp9TgrSHYoWCE6J7Hk\"></div>\n",
       "        <script>netpixi.call('TxUuVp9TgrSHYoWCE6J7Hk', '6TdJewpHMtn6cJBSwgXbcW', 'changeGraph', 'eyJpZCI6IDY3LCAidHlwZSI6ICJ2ZXJ0ZXgiLCAicHJvcHMiOiB7ImNvbG9yIjogMTY3MTE2ODB9fQo=');</script>\n",
       "    "
      ],
      "text/plain": [
       "<IPython.core.display.HTML object>"
      ]
     },
     "metadata": {},
     "output_type": "display_data"
    },
    {
     "data": {
      "text/html": [
       "\n",
       "        <div id=\"CmikPiH6A9R5vouGKSvZJo\"></div>\n",
       "        <script>netpixi.call('CmikPiH6A9R5vouGKSvZJo', '6TdJewpHMtn6cJBSwgXbcW', 'changeGraph', 'eyJpZCI6IDc4LCAidHlwZSI6ICJ2ZXJ0ZXgiLCAicHJvcHMiOiB7InNpemUiOiAxNC42MDI1MTA0NjAyNTEwNDd9fQo=');</script>\n",
       "    "
      ],
      "text/plain": [
       "<IPython.core.display.HTML object>"
      ]
     },
     "metadata": {},
     "output_type": "display_data"
    },
    {
     "data": {
      "text/html": [
       "\n",
       "        <div id=\"kx4wMBCUkNts757GKcCDu2\"></div>\n",
       "        <script>netpixi.call('kx4wMBCUkNts757GKcCDu2', '6TdJewpHMtn6cJBSwgXbcW', 'changeGraph', 'eyJpZCI6IDc4LCAidHlwZSI6ICJ2ZXJ0ZXgiLCAicHJvcHMiOiB7ImNvbG9yIjogMTY3MTE2ODB9fQo=');</script>\n",
       "    "
      ],
      "text/plain": [
       "<IPython.core.display.HTML object>"
      ]
     },
     "metadata": {},
     "output_type": "display_data"
    },
    {
     "data": {
      "text/html": [
       "\n",
       "        <div id=\"btE87DpYcx9qhtz4tHQpKR\"></div>\n",
       "        <script>netpixi.call('btE87DpYcx9qhtz4tHQpKR', '6TdJewpHMtn6cJBSwgXbcW', 'changeGraph', 'eyJpZCI6IDc5LCAidHlwZSI6ICJ2ZXJ0ZXgiLCAicHJvcHMiOiB7InNpemUiOiAxOS44MzI2MzU5ODMyNjM2fX0K');</script>\n",
       "    "
      ],
      "text/plain": [
       "<IPython.core.display.HTML object>"
      ]
     },
     "metadata": {},
     "output_type": "display_data"
    },
    {
     "data": {
      "text/html": [
       "\n",
       "        <div id=\"47TaUkcJvBqHjPsErB6oRr\"></div>\n",
       "        <script>netpixi.call('47TaUkcJvBqHjPsErB6oRr', '6TdJewpHMtn6cJBSwgXbcW', 'changeGraph', 'eyJpZCI6IDgxLCAidHlwZSI6ICJ2ZXJ0ZXgiLCAicHJvcHMiOiB7ImNvbG9yIjogMTY3MTE2ODB9fQo=');</script>\n",
       "    "
      ],
      "text/plain": [
       "<IPython.core.display.HTML object>"
      ]
     },
     "metadata": {},
     "output_type": "display_data"
    },
    {
     "data": {
      "text/html": [
       "\n",
       "        <div id=\"VKEaGJgzeLhRSLj3Sm4C7q\"></div>\n",
       "        <script>netpixi.call('VKEaGJgzeLhRSLj3Sm4C7q', '6TdJewpHMtn6cJBSwgXbcW', 'changeGraph', 'eyJpZCI6IDgwLCAidHlwZSI6ICJ2ZXJ0ZXgiLCAicHJvcHMiOiB7InNpemUiOiA0Mi4wfX0K');</script>\n",
       "    "
      ],
      "text/plain": [
       "<IPython.core.display.HTML object>"
      ]
     },
     "metadata": {},
     "output_type": "display_data"
    },
    {
     "data": {
      "text/html": [
       "\n",
       "        <div id=\"XAGJALoLerkqKFxEDBMpgZ\"></div>\n",
       "        <script>netpixi.call('XAGJALoLerkqKFxEDBMpgZ', '6TdJewpHMtn6cJBSwgXbcW', 'changeGraph', 'eyJpZCI6IDcxLCAidHlwZSI6ICJ2ZXJ0ZXgiLCAicHJvcHMiOiB7ImNvbG9yIjogMTY3MTE2ODB9fQo=');</script>\n",
       "    "
      ],
      "text/plain": [
       "<IPython.core.display.HTML object>"
      ]
     },
     "metadata": {},
     "output_type": "display_data"
    },
    {
     "data": {
      "text/html": [
       "\n",
       "        <div id=\"JXoCbMKvXjWD7iP9fSygbS\"></div>\n",
       "        <script>netpixi.call('JXoCbMKvXjWD7iP9fSygbS', '6TdJewpHMtn6cJBSwgXbcW', 'changeGraph', 'eyJpZCI6IDgxLCAidHlwZSI6ICJ2ZXJ0ZXgiLCAicHJvcHMiOiB7InNpemUiOiAxNS4yMzAxMjU1MjMwMTI1NTJ9fQo=');</script>\n",
       "    "
      ],
      "text/plain": [
       "<IPython.core.display.HTML object>"
      ]
     },
     "metadata": {},
     "output_type": "display_data"
    },
    {
     "data": {
      "text/html": [
       "\n",
       "        <div id=\"CTDe2oNueLcWAs44AbQnLE\"></div>\n",
       "        <script>netpixi.call('CTDe2oNueLcWAs44AbQnLE', '6TdJewpHMtn6cJBSwgXbcW', 'changeGraph', 'eyJpZCI6IDUzLCAidHlwZSI6ICJ2ZXJ0ZXgiLCAicHJvcHMiOiB7ImNvbG9yIjogMTY3MTE2ODB9fQo=');</script>\n",
       "    "
      ],
      "text/plain": [
       "<IPython.core.display.HTML object>"
      ]
     },
     "metadata": {},
     "output_type": "display_data"
    },
    {
     "data": {
      "text/html": [
       "\n",
       "        <div id=\"hyEf8RqWga4RL8fMGqxRRn\"></div>\n",
       "        <script>netpixi.call('hyEf8RqWga4RL8fMGqxRRn', '6TdJewpHMtn6cJBSwgXbcW', 'changeGraph', 'eyJpZCI6IDgyLCAidHlwZSI6ICJ2ZXJ0ZXgiLCAicHJvcHMiOiB7InNpemUiOiA0MS4xNjY2NjY2NjY2NjY2N319Cg==');</script>\n",
       "    "
      ],
      "text/plain": [
       "<IPython.core.display.HTML object>"
      ]
     },
     "metadata": {},
     "output_type": "display_data"
    },
    {
     "data": {
      "text/html": [
       "\n",
       "        <div id=\"m4TyRyKhKnmbYxJTrkk3LB\"></div>\n",
       "        <script>netpixi.call('m4TyRyKhKnmbYxJTrkk3LB', '6TdJewpHMtn6cJBSwgXbcW', 'changeGraph', 'eyJpZCI6IDc0LCAidHlwZSI6ICJ2ZXJ0ZXgiLCAicHJvcHMiOiB7ImNvbG9yIjogMTY3MTE2ODB9fQo=');</script>\n",
       "    "
      ],
      "text/plain": [
       "<IPython.core.display.HTML object>"
      ]
     },
     "metadata": {},
     "output_type": "display_data"
    },
    {
     "data": {
      "text/html": [
       "\n",
       "        <div id=\"2YeKb8qA8gccqCp5HSBnCs\"></div>\n",
       "        <script>netpixi.call('2YeKb8qA8gccqCp5HSBnCs', '6TdJewpHMtn6cJBSwgXbcW', 'changeGraph', 'eyJpZCI6IDgzLCAidHlwZSI6ICJ2ZXJ0ZXgiLCAicHJvcHMiOiB7InNpemUiOiAxNS42NDg1MzU1NjQ4NTM1NTd9fQo=');</script>\n",
       "    "
      ],
      "text/plain": [
       "<IPython.core.display.HTML object>"
      ]
     },
     "metadata": {},
     "output_type": "display_data"
    },
    {
     "data": {
      "text/html": [
       "\n",
       "        <div id=\"dVfaVXXRzuwQ3Zp7WHSThj\"></div>\n",
       "        <script>netpixi.call('dVfaVXXRzuwQ3Zp7WHSThj', '6TdJewpHMtn6cJBSwgXbcW', 'changeGraph', 'eyJpZCI6IDgzLCAidHlwZSI6ICJ2ZXJ0ZXgiLCAicHJvcHMiOiB7ImNvbG9yIjogMTY3MTE2ODB9fQo=');</script>\n",
       "    "
      ],
      "text/plain": [
       "<IPython.core.display.HTML object>"
      ]
     },
     "metadata": {},
     "output_type": "display_data"
    },
    {
     "data": {
      "text/html": [
       "\n",
       "        <div id=\"XUiPJyvekB27gCw2b35cxa\"></div>\n",
       "        <script>netpixi.call('XUiPJyvekB27gCw2b35cxa', '6TdJewpHMtn6cJBSwgXbcW', 'changeGraph', 'eyJpZCI6IDg0LCAidHlwZSI6ICJ2ZXJ0ZXgiLCAicHJvcHMiOiB7InNpemUiOiAxNC4zOTMzMDU0MzkzMzA1NDN9fQo=');</script>\n",
       "    "
      ],
      "text/plain": [
       "<IPython.core.display.HTML object>"
      ]
     },
     "metadata": {},
     "output_type": "display_data"
    },
    {
     "data": {
      "text/html": [
       "\n",
       "        <div id=\"kDa8UZxXB3YekkVeQvi2Sf\"></div>\n",
       "        <script>netpixi.call('kDa8UZxXB3YekkVeQvi2Sf', '6TdJewpHMtn6cJBSwgXbcW', 'changeGraph', 'eyJpZCI6IDgwLCAidHlwZSI6ICJ2ZXJ0ZXgiLCAicHJvcHMiOiB7ImNvbG9yIjogMTY3MTE2ODB9fQo=');</script>\n",
       "    "
      ],
      "text/plain": [
       "<IPython.core.display.HTML object>"
      ]
     },
     "metadata": {},
     "output_type": "display_data"
    },
    {
     "data": {
      "text/html": [
       "\n",
       "        <div id=\"Cg6c5MRBDrj6N9BJv8wfg6\"></div>\n",
       "        <script>netpixi.call('Cg6c5MRBDrj6N9BJv8wfg6', '6TdJewpHMtn6cJBSwgXbcW', 'changeGraph', 'eyJpZCI6IDg1LCAidHlwZSI6ICJ2ZXJ0ZXgiLCAicHJvcHMiOiB7InNpemUiOiA0OC4xNjY2NjY2NjY2NjY2NjR9fQo=');</script>\n",
       "    "
      ],
      "text/plain": [
       "<IPython.core.display.HTML object>"
      ]
     },
     "metadata": {},
     "output_type": "display_data"
    },
    {
     "data": {
      "text/html": [
       "\n",
       "        <div id=\"a8vwENQuiHqurqiMgjmpKn\"></div>\n",
       "        <script>netpixi.call('a8vwENQuiHqurqiMgjmpKn', '6TdJewpHMtn6cJBSwgXbcW', 'changeGraph', 'eyJpZCI6IDg0LCAidHlwZSI6ICJ2ZXJ0ZXgiLCAicHJvcHMiOiB7ImNvbG9yIjogMTY3MTE2ODB9fQo=');</script>\n",
       "    "
      ],
      "text/plain": [
       "<IPython.core.display.HTML object>"
      ]
     },
     "metadata": {},
     "output_type": "display_data"
    },
    {
     "data": {
      "text/html": [
       "\n",
       "        <div id=\"iz2gfZuqvxyuMvvZADDjeF\"></div>\n",
       "        <script>netpixi.call('iz2gfZuqvxyuMvvZADDjeF', '6TdJewpHMtn6cJBSwgXbcW', 'changeGraph', 'eyJpZCI6IDg2LCAidHlwZSI6ICJ2ZXJ0ZXgiLCAicHJvcHMiOiB7InNpemUiOiAxMi4wNTAyMDkyMDUwMjA5Mn19Cg==');</script>\n",
       "    "
      ],
      "text/plain": [
       "<IPython.core.display.HTML object>"
      ]
     },
     "metadata": {},
     "output_type": "display_data"
    },
    {
     "data": {
      "text/html": [
       "\n",
       "        <div id=\"C69R6FGBGXvf8QBEyhHwTS\"></div>\n",
       "        <script>netpixi.call('C69R6FGBGXvf8QBEyhHwTS', '6TdJewpHMtn6cJBSwgXbcW', 'changeGraph', 'eyJpZCI6IDkzLCAidHlwZSI6ICJ2ZXJ0ZXgiLCAicHJvcHMiOiB7ImNvbG9yIjogMTY3MTE2ODB9fQo=');</script>\n",
       "    "
      ],
      "text/plain": [
       "<IPython.core.display.HTML object>"
      ]
     },
     "metadata": {},
     "output_type": "display_data"
    },
    {
     "data": {
      "text/html": [
       "\n",
       "        <div id=\"jrixZFDYKLwbv7hNqx9BNE\"></div>\n",
       "        <script>netpixi.call('jrixZFDYKLwbv7hNqx9BNE', '6TdJewpHMtn6cJBSwgXbcW', 'changeGraph', 'eyJpZCI6IDg3LCAidHlwZSI6ICJ2ZXJ0ZXgiLCAicHJvcHMiOiB7InNpemUiOiAxOC4yODQ1MTg4Mjg0NTE4OH19Cg==');</script>\n",
       "    "
      ],
      "text/plain": [
       "<IPython.core.display.HTML object>"
      ]
     },
     "metadata": {},
     "output_type": "display_data"
    },
    {
     "data": {
      "text/html": [
       "\n",
       "        <div id=\"KvViq9ACdDtUJJkUd6v6R4\"></div>\n",
       "        <script>netpixi.call('KvViq9ACdDtUJJkUd6v6R4', '6TdJewpHMtn6cJBSwgXbcW', 'changeGraph', 'eyJpZCI6IDc1LCAidHlwZSI6ICJ2ZXJ0ZXgiLCAicHJvcHMiOiB7ImNvbG9yIjogMTY3MTE2ODB9fQo=');</script>\n",
       "    "
      ],
      "text/plain": [
       "<IPython.core.display.HTML object>"
      ]
     },
     "metadata": {},
     "output_type": "display_data"
    },
    {
     "data": {
      "text/html": [
       "\n",
       "        <div id=\"3cjWMXakHXJ39FqAzbevpt\"></div>\n",
       "        <script>netpixi.call('3cjWMXakHXJ39FqAzbevpt', '6TdJewpHMtn6cJBSwgXbcW', 'changeGraph', 'eyJpZCI6IDg4LCAidHlwZSI6ICJ2ZXJ0ZXgiLCAicHJvcHMiOiB7InNpemUiOiA0Mi4xNjY2NjY2NjY2NjY2N319Cg==');</script>\n",
       "    "
      ],
      "text/plain": [
       "<IPython.core.display.HTML object>"
      ]
     },
     "metadata": {},
     "output_type": "display_data"
    },
    {
     "data": {
      "text/html": [
       "\n",
       "        <div id=\"2xuknci7HNRnMVMF3iZmqG\"></div>\n",
       "        <script>netpixi.call('2xuknci7HNRnMVMF3iZmqG', '6TdJewpHMtn6cJBSwgXbcW', 'changeGraph', 'eyJpZCI6IDg1LCAidHlwZSI6ICJ2ZXJ0ZXgiLCAicHJvcHMiOiB7ImNvbG9yIjogMTY3MTE2ODB9fQo=');</script>\n",
       "    "
      ],
      "text/plain": [
       "<IPython.core.display.HTML object>"
      ]
     },
     "metadata": {},
     "output_type": "display_data"
    },
    {
     "data": {
      "text/html": [
       "\n",
       "        <div id=\"oMQtonmJ4qSxnLuBsrvhNk\"></div>\n",
       "        <script>netpixi.call('oMQtonmJ4qSxnLuBsrvhNk', '6TdJewpHMtn6cJBSwgXbcW', 'changeGraph', 'eyJpZCI6IDg5LCAidHlwZSI6ICJ2ZXJ0ZXgiLCAicHJvcHMiOiB7InNpemUiOiAxNy4yMzg0OTM3MjM4NDkzNzN9fQo=');</script>\n",
       "    "
      ],
      "text/plain": [
       "<IPython.core.display.HTML object>"
      ]
     },
     "metadata": {},
     "output_type": "display_data"
    },
    {
     "data": {
      "text/html": [
       "\n",
       "        <div id=\"BYwagYYCLHPvLooeRWPr8y\"></div>\n",
       "        <script>netpixi.call('BYwagYYCLHPvLooeRWPr8y', '6TdJewpHMtn6cJBSwgXbcW', 'changeGraph', 'eyJpZCI6IDc5LCAidHlwZSI6ICJ2ZXJ0ZXgiLCAicHJvcHMiOiB7ImNvbG9yIjogMTY3MTE2ODB9fQo=');</script>\n",
       "    "
      ],
      "text/plain": [
       "<IPython.core.display.HTML object>"
      ]
     },
     "metadata": {},
     "output_type": "display_data"
    },
    {
     "data": {
      "text/html": [
       "\n",
       "        <div id=\"NxFVCe2VYWk5dtFb8Dj7M9\"></div>\n",
       "        <script>netpixi.call('NxFVCe2VYWk5dtFb8Dj7M9', '6TdJewpHMtn6cJBSwgXbcW', 'changeGraph', 'eyJpZCI6IDkwLCAidHlwZSI6ICJ2ZXJ0ZXgiLCAicHJvcHMiOiB7InNpemUiOiAxNy4xNTQ4MTE3MTU0ODExN319Cg==');</script>\n",
       "    "
      ],
      "text/plain": [
       "<IPython.core.display.HTML object>"
      ]
     },
     "metadata": {},
     "output_type": "display_data"
    },
    {
     "data": {
      "text/html": [
       "\n",
       "        <div id=\"6iTo933RXjFg8GrdCfRAtp\"></div>\n",
       "        <script>netpixi.call('6iTo933RXjFg8GrdCfRAtp', '6TdJewpHMtn6cJBSwgXbcW', 'changeGraph', 'eyJpZCI6IDgyLCAidHlwZSI6ICJ2ZXJ0ZXgiLCAicHJvcHMiOiB7ImNvbG9yIjogMTY3MTE2ODB9fQo=');</script>\n",
       "    "
      ],
      "text/plain": [
       "<IPython.core.display.HTML object>"
      ]
     },
     "metadata": {},
     "output_type": "display_data"
    },
    {
     "data": {
      "text/html": [
       "\n",
       "        <div id=\"Z8dW9xc3TUNkvem7tw9x5C\"></div>\n",
       "        <script>netpixi.call('Z8dW9xc3TUNkvem7tw9x5C', '6TdJewpHMtn6cJBSwgXbcW', 'changeGraph', 'eyJpZCI6IDkxLCAidHlwZSI6ICJ2ZXJ0ZXgiLCAicHJvcHMiOiB7InNpemUiOiAxMy40NzI4MDMzNDcyODAzMzN9fQo=');</script>\n",
       "    "
      ],
      "text/plain": [
       "<IPython.core.display.HTML object>"
      ]
     },
     "metadata": {},
     "output_type": "display_data"
    },
    {
     "data": {
      "text/html": [
       "\n",
       "        <div id=\"A2VBXq2bLq4mKZAVVeCfBD\"></div>\n",
       "        <script>netpixi.call('A2VBXq2bLq4mKZAVVeCfBD', '6TdJewpHMtn6cJBSwgXbcW', 'changeGraph', 'eyJpZCI6IDgzLCAidHlwZSI6ICJ2ZXJ0ZXgiLCAicHJvcHMiOiB7ImNvbG9yIjogMTY3MTE2ODB9fQo=');</script>\n",
       "    "
      ],
      "text/plain": [
       "<IPython.core.display.HTML object>"
      ]
     },
     "metadata": {},
     "output_type": "display_data"
    },
    {
     "data": {
      "text/html": [
       "\n",
       "        <div id=\"3ShkG3Mg4W7K4TQRFWesZP\"></div>\n",
       "        <script>netpixi.call('3ShkG3Mg4W7K4TQRFWesZP', '6TdJewpHMtn6cJBSwgXbcW', 'changeGraph', 'eyJpZCI6IDkyLCAidHlwZSI6ICJ2ZXJ0ZXgiLCAicHJvcHMiOiB7InNpemUiOiAxMC44Nzg2NjEwODc4NjYxMDh9fQo=');</script>\n",
       "    "
      ],
      "text/plain": [
       "<IPython.core.display.HTML object>"
      ]
     },
     "metadata": {},
     "output_type": "display_data"
    },
    {
     "data": {
      "text/html": [
       "\n",
       "        <div id=\"Xy86p8KUoSExqP6jH6re6R\"></div>\n",
       "        <script>netpixi.call('Xy86p8KUoSExqP6jH6re6R', '6TdJewpHMtn6cJBSwgXbcW', 'changeGraph', 'eyJpZCI6IDc2LCAidHlwZSI6ICJ2ZXJ0ZXgiLCAicHJvcHMiOiB7ImNvbG9yIjogMTY3MTE2ODB9fQo=');</script>\n",
       "    "
      ],
      "text/plain": [
       "<IPython.core.display.HTML object>"
      ]
     },
     "metadata": {},
     "output_type": "display_data"
    },
    {
     "data": {
      "text/html": [
       "\n",
       "        <div id=\"epb7FWxNLP52XidLRu7fu4\"></div>\n",
       "        <script>netpixi.call('epb7FWxNLP52XidLRu7fu4', '6TdJewpHMtn6cJBSwgXbcW', 'changeGraph', 'eyJpZCI6IDkzLCAidHlwZSI6ICJ2ZXJ0ZXgiLCAicHJvcHMiOiB7InNpemUiOiAxMS42NzM2NDAxNjczNjQwMTd9fQo=');</script>\n",
       "    "
      ],
      "text/plain": [
       "<IPython.core.display.HTML object>"
      ]
     },
     "metadata": {},
     "output_type": "display_data"
    },
    {
     "data": {
      "text/html": [
       "\n",
       "        <div id=\"NJ3G6Smnan5x86uRW7ky2G\"></div>\n",
       "        <script>netpixi.call('NJ3G6Smnan5x86uRW7ky2G', '6TdJewpHMtn6cJBSwgXbcW', 'changeGraph', 'eyJpZCI6IDgyLCAidHlwZSI6ICJ2ZXJ0ZXgiLCAicHJvcHMiOiB7ImNvbG9yIjogMTY3MTE2ODB9fQo=');</script>\n",
       "    "
      ],
      "text/plain": [
       "<IPython.core.display.HTML object>"
      ]
     },
     "metadata": {},
     "output_type": "display_data"
    },
    {
     "data": {
      "text/html": [
       "\n",
       "        <div id=\"JXwwUJ4RUXXtYAyYK544yk\"></div>\n",
       "        <script>netpixi.call('JXwwUJ4RUXXtYAyYK544yk', '6TdJewpHMtn6cJBSwgXbcW', 'changeGraph', 'eyJpZCI6IDk0LCAidHlwZSI6ICJ2ZXJ0ZXgiLCAicHJvcHMiOiB7InNpemUiOiA0Ny4wfX0K');</script>\n",
       "    "
      ],
      "text/plain": [
       "<IPython.core.display.HTML object>"
      ]
     },
     "metadata": {},
     "output_type": "display_data"
    },
    {
     "data": {
      "text/html": [
       "\n",
       "        <div id=\"7vgjKscNt6gHnmHvXqmAW7\"></div>\n",
       "        <script>netpixi.call('7vgjKscNt6gHnmHvXqmAW7', '6TdJewpHMtn6cJBSwgXbcW', 'changeGraph', 'eyJpZCI6IDcxLCAidHlwZSI6ICJ2ZXJ0ZXgiLCAicHJvcHMiOiB7ImNvbG9yIjogMTY3MTE2ODB9fQo=');</script>\n",
       "    "
      ],
      "text/plain": [
       "<IPython.core.display.HTML object>"
      ]
     },
     "metadata": {},
     "output_type": "display_data"
    },
    {
     "data": {
      "text/html": [
       "\n",
       "        <div id=\"j4fRoLPGGPnU25dBffeGST\"></div>\n",
       "        <script>netpixi.call('j4fRoLPGGPnU25dBffeGST', '6TdJewpHMtn6cJBSwgXbcW', 'changeGraph', 'eyJpZCI6IDk1LCAidHlwZSI6ICJ2ZXJ0ZXgiLCAicHJvcHMiOiB7InNpemUiOiAxMS4xNzE1NDgxMTcxNTQ4MTJ9fQo=');</script>\n",
       "    "
      ],
      "text/plain": [
       "<IPython.core.display.HTML object>"
      ]
     },
     "metadata": {},
     "output_type": "display_data"
    },
    {
     "data": {
      "text/html": [
       "\n",
       "        <div id=\"KsLypVbuHa7VoiGMdpvDNW\"></div>\n",
       "        <script>netpixi.call('KsLypVbuHa7VoiGMdpvDNW', '6TdJewpHMtn6cJBSwgXbcW', 'changeGraph', 'eyJpZCI6IDY1LCAidHlwZSI6ICJ2ZXJ0ZXgiLCAicHJvcHMiOiB7ImNvbG9yIjogMTY3MTE2ODB9fQo=');</script>\n",
       "    "
      ],
      "text/plain": [
       "<IPython.core.display.HTML object>"
      ]
     },
     "metadata": {},
     "output_type": "display_data"
    },
    {
     "data": {
      "text/html": [
       "\n",
       "        <div id=\"UL7Ve7Uv8DSWuw9nKsWuY4\"></div>\n",
       "        <script>netpixi.call('UL7Ve7Uv8DSWuw9nKsWuY4', '6TdJewpHMtn6cJBSwgXbcW', 'changeGraph', 'eyJpZCI6IDk2LCAidHlwZSI6ICJ2ZXJ0ZXgiLCAicHJvcHMiOiB7InNpemUiOiAxNi40ODUzNTU2NDg1MzU1Njd9fQo=');</script>\n",
       "    "
      ],
      "text/plain": [
       "<IPython.core.display.HTML object>"
      ]
     },
     "metadata": {},
     "output_type": "display_data"
    },
    {
     "data": {
      "text/html": [
       "\n",
       "        <div id=\"2NPtKk47C3VKxt7jYyQvDX\"></div>\n",
       "        <script>netpixi.call('2NPtKk47C3VKxt7jYyQvDX', '6TdJewpHMtn6cJBSwgXbcW', 'changeGraph', 'eyJpZCI6IDg5LCAidHlwZSI6ICJ2ZXJ0ZXgiLCAicHJvcHMiOiB7ImNvbG9yIjogMTY3MTE2ODB9fQo=');</script>\n",
       "    "
      ],
      "text/plain": [
       "<IPython.core.display.HTML object>"
      ]
     },
     "metadata": {},
     "output_type": "display_data"
    },
    {
     "data": {
      "text/html": [
       "\n",
       "        <div id=\"5nGXLL3Qc57vnsF6njdWzC\"></div>\n",
       "        <script>netpixi.call('5nGXLL3Qc57vnsF6njdWzC', '6TdJewpHMtn6cJBSwgXbcW', 'changeGraph', 'eyJpZCI6IDk3LCAidHlwZSI6ICJ2ZXJ0ZXgiLCAicHJvcHMiOiB7InNpemUiOiAxNS4zMTM4MDc1MzEzODA3NTN9fQo=');</script>\n",
       "    "
      ],
      "text/plain": [
       "<IPython.core.display.HTML object>"
      ]
     },
     "metadata": {},
     "output_type": "display_data"
    },
    {
     "data": {
      "text/html": [
       "\n",
       "        <div id=\"fZDMyJ75HFJoQQJFfbZTo7\"></div>\n",
       "        <script>netpixi.call('fZDMyJ75HFJoQQJFfbZTo7', '6TdJewpHMtn6cJBSwgXbcW', 'changeGraph', 'eyJpZCI6IDczLCAidHlwZSI6ICJ2ZXJ0ZXgiLCAicHJvcHMiOiB7ImNvbG9yIjogMTY3MTE2ODB9fQo=');</script>\n",
       "    "
      ],
      "text/plain": [
       "<IPython.core.display.HTML object>"
      ]
     },
     "metadata": {},
     "output_type": "display_data"
    },
    {
     "data": {
      "text/html": [
       "\n",
       "        <div id=\"U2tg8Ycqh5yLDYykyPT7EX\"></div>\n",
       "        <script>netpixi.call('U2tg8Ycqh5yLDYykyPT7EX', '6TdJewpHMtn6cJBSwgXbcW', 'changeGraph', 'eyJpZCI6IDk4LCAidHlwZSI6ICJ2ZXJ0ZXgiLCAicHJvcHMiOiB7InNpemUiOiAxMi4xMzM4OTEyMTMzODkxMjJ9fQo=');</script>\n",
       "    "
      ],
      "text/plain": [
       "<IPython.core.display.HTML object>"
      ]
     },
     "metadata": {},
     "output_type": "display_data"
    },
    {
     "data": {
      "text/html": [
       "\n",
       "        <div id=\"aTZZhtqntdhXzaycK6UfrD\"></div>\n",
       "        <script>netpixi.call('aTZZhtqntdhXzaycK6UfrD', '6TdJewpHMtn6cJBSwgXbcW', 'changeGraph', 'eyJpZCI6IDcyLCAidHlwZSI6ICJ2ZXJ0ZXgiLCAicHJvcHMiOiB7ImNvbG9yIjogMTY3MTE2ODB9fQo=');</script>\n",
       "    "
      ],
      "text/plain": [
       "<IPython.core.display.HTML object>"
      ]
     },
     "metadata": {},
     "output_type": "display_data"
    },
    {
     "data": {
      "text/html": [
       "\n",
       "        <div id=\"25nYgamd45rrJfQSVy7ac9\"></div>\n",
       "        <script>netpixi.call('25nYgamd45rrJfQSVy7ac9', '6TdJewpHMtn6cJBSwgXbcW', 'changeGraph', 'eyJpZCI6IDk5LCAidHlwZSI6ICJ2ZXJ0ZXgiLCAicHJvcHMiOiB7InNpemUiOiAxMS41NDgxMTcxNTQ4MTE3MTV9fQo=');</script>\n",
       "    "
      ],
      "text/plain": [
       "<IPython.core.display.HTML object>"
      ]
     },
     "metadata": {},
     "output_type": "display_data"
    },
    {
     "data": {
      "text/html": [
       "\n",
       "        <div id=\"RLHCpr7ksG6waQPEraH7Hk\"></div>\n",
       "        <script>netpixi.call('RLHCpr7ksG6waQPEraH7Hk', '6TdJewpHMtn6cJBSwgXbcW', 'changeGraph', 'eyJpZCI6IDc1LCAidHlwZSI6ICJ2ZXJ0ZXgiLCAicHJvcHMiOiB7ImNvbG9yIjogMTY3MTE2ODB9fQo=');</script>\n",
       "    "
      ],
      "text/plain": [
       "<IPython.core.display.HTML object>"
      ]
     },
     "metadata": {},
     "output_type": "display_data"
    },
    {
     "data": {
      "text/html": [
       "\n",
       "        <div id=\"MFeAG8MxLUT94FTkr5DTLQ\"></div>\n",
       "        <script>netpixi.call('MFeAG8MxLUT94FTkr5DTLQ', '6TdJewpHMtn6cJBSwgXbcW', 'changeGraph', 'eyJpZCI6IDEwMCwgInR5cGUiOiAidmVydGV4IiwgInByb3BzIjogeyJzaXplIjogNDguODMzMzMzMzMzMzMzMzM2fX0K');</script>\n",
       "    "
      ],
      "text/plain": [
       "<IPython.core.display.HTML object>"
      ]
     },
     "metadata": {},
     "output_type": "display_data"
    },
    {
     "data": {
      "text/html": [
       "\n",
       "        <div id=\"fFdHUKcfiWGimNcSjDQwWt\"></div>\n",
       "        <script>netpixi.call('fFdHUKcfiWGimNcSjDQwWt', '6TdJewpHMtn6cJBSwgXbcW', 'changeGraph', 'eyJpZCI6IDc3LCAidHlwZSI6ICJ2ZXJ0ZXgiLCAicHJvcHMiOiB7ImNvbG9yIjogMTY3MTE2ODB9fQo=');</script>\n",
       "    "
      ],
      "text/plain": [
       "<IPython.core.display.HTML object>"
      ]
     },
     "metadata": {},
     "output_type": "display_data"
    },
    {
     "data": {
      "text/html": [
       "\n",
       "        <div id=\"4aogxVwGxmgQqaUcHjUdYw\"></div>\n",
       "        <script>netpixi.call('4aogxVwGxmgQqaUcHjUdYw', '6TdJewpHMtn6cJBSwgXbcW', 'changeGraph', 'eyJpZCI6IDEwMSwgInR5cGUiOiAidmVydGV4IiwgInByb3BzIjogeyJzaXplIjogMTEuNTA2Mjc2MTUwNjI3NjE1fX0K');</script>\n",
       "    "
      ],
      "text/plain": [
       "<IPython.core.display.HTML object>"
      ]
     },
     "metadata": {},
     "output_type": "display_data"
    },
    {
     "data": {
      "text/html": [
       "\n",
       "        <div id=\"3gKKj3apx3NPAJmT8eAhbn\"></div>\n",
       "        <script>netpixi.call('3gKKj3apx3NPAJmT8eAhbn', '6TdJewpHMtn6cJBSwgXbcW', 'changeGraph', 'eyJpZCI6IDg1LCAidHlwZSI6ICJ2ZXJ0ZXgiLCAicHJvcHMiOiB7ImNvbG9yIjogMTY3MTE2ODB9fQo=');</script>\n",
       "    "
      ],
      "text/plain": [
       "<IPython.core.display.HTML object>"
      ]
     },
     "metadata": {},
     "output_type": "display_data"
    },
    {
     "data": {
      "text/html": [
       "\n",
       "        <div id=\"A5LYpywDuNG96csQKfDvaR\"></div>\n",
       "        <script>netpixi.call('A5LYpywDuNG96csQKfDvaR', '6TdJewpHMtn6cJBSwgXbcW', 'changeGraph', 'eyJpZCI6IDEwMiwgInR5cGUiOiAidmVydGV4IiwgInByb3BzIjogeyJzaXplIjogMTIuNTEwNDYwMjUxMDQ2MDI1fX0K');</script>\n",
       "    "
      ],
      "text/plain": [
       "<IPython.core.display.HTML object>"
      ]
     },
     "metadata": {},
     "output_type": "display_data"
    },
    {
     "data": {
      "text/html": [
       "\n",
       "        <div id=\"3yhg8cJEPmx5TFEyNxvHC4\"></div>\n",
       "        <script>netpixi.call('3yhg8cJEPmx5TFEyNxvHC4', '6TdJewpHMtn6cJBSwgXbcW', 'changeGraph', 'eyJpZCI6IDc2LCAidHlwZSI6ICJ2ZXJ0ZXgiLCAicHJvcHMiOiB7ImNvbG9yIjogMTY3MTE2ODB9fQo=');</script>\n",
       "    "
      ],
      "text/plain": [
       "<IPython.core.display.HTML object>"
      ]
     },
     "metadata": {},
     "output_type": "display_data"
    },
    {
     "data": {
      "text/html": [
       "\n",
       "        <div id=\"fRugwReW9xWRuKvDhTDLTn\"></div>\n",
       "        <script>netpixi.call('fRugwReW9xWRuKvDhTDLTn', '6TdJewpHMtn6cJBSwgXbcW', 'changeGraph', 'eyJpZCI6IDEwMywgInR5cGUiOiAidmVydGV4IiwgInByb3BzIjogeyJzaXplIjogMTkuMzMwNTQzOTMzMDU0MzkzfX0K');</script>\n",
       "    "
      ],
      "text/plain": [
       "<IPython.core.display.HTML object>"
      ]
     },
     "metadata": {},
     "output_type": "display_data"
    },
    {
     "data": {
      "text/html": [
       "\n",
       "        <div id=\"4h6D6YemyBTboSvVLgXobS\"></div>\n",
       "        <script>netpixi.call('4h6D6YemyBTboSvVLgXobS', '6TdJewpHMtn6cJBSwgXbcW', 'changeGraph', 'eyJpZCI6IDUzLCAidHlwZSI6ICJ2ZXJ0ZXgiLCAicHJvcHMiOiB7ImNvbG9yIjogMTY3MTE2ODB9fQo=');</script>\n",
       "    "
      ],
      "text/plain": [
       "<IPython.core.display.HTML object>"
      ]
     },
     "metadata": {},
     "output_type": "display_data"
    },
    {
     "data": {
      "text/html": [
       "\n",
       "        <div id=\"Wv6qMHsCKs7fw9KW8o9JSv\"></div>\n",
       "        <script>netpixi.call('Wv6qMHsCKs7fw9KW8o9JSv', '6TdJewpHMtn6cJBSwgXbcW', 'changeGraph', 'eyJpZCI6IDEwNCwgInR5cGUiOiAidmVydGV4IiwgInByb3BzIjogeyJzaXplIjogMTYuOTQ1NjA2Njk0NTYwNjY2fX0K');</script>\n",
       "    "
      ],
      "text/plain": [
       "<IPython.core.display.HTML object>"
      ]
     },
     "metadata": {},
     "output_type": "display_data"
    },
    {
     "data": {
      "text/html": [
       "\n",
       "        <div id=\"9uPTAMVXZxB7JxaQpz9c2T\"></div>\n",
       "        <script>netpixi.call('9uPTAMVXZxB7JxaQpz9c2T', '6TdJewpHMtn6cJBSwgXbcW', 'changeGraph', 'eyJpZCI6IDY4LCAidHlwZSI6ICJ2ZXJ0ZXgiLCAicHJvcHMiOiB7ImNvbG9yIjogMTY3MTE2ODB9fQo=');</script>\n",
       "    "
      ],
      "text/plain": [
       "<IPython.core.display.HTML object>"
      ]
     },
     "metadata": {},
     "output_type": "display_data"
    },
    {
     "data": {
      "text/html": [
       "\n",
       "        <div id=\"AbEALSmUDCVH4BgGkHZqd9\"></div>\n",
       "        <script>netpixi.call('AbEALSmUDCVH4BgGkHZqd9', '6TdJewpHMtn6cJBSwgXbcW', 'changeGraph', 'eyJpZCI6IDEwNSwgInR5cGUiOiAidmVydGV4IiwgInByb3BzIjogeyJzaXplIjogMTguMTE3MTU0ODExNzE1NDh9fQo=');</script>\n",
       "    "
      ],
      "text/plain": [
       "<IPython.core.display.HTML object>"
      ]
     },
     "metadata": {},
     "output_type": "display_data"
    },
    {
     "data": {
      "text/html": [
       "\n",
       "        <div id=\"Q6FhR32seHKWor7bVM7jga\"></div>\n",
       "        <script>netpixi.call('Q6FhR32seHKWor7bVM7jga', '6TdJewpHMtn6cJBSwgXbcW', 'changeGraph', 'eyJpZCI6IDg4LCAidHlwZSI6ICJ2ZXJ0ZXgiLCAicHJvcHMiOiB7ImNvbG9yIjogMTY3MTE2ODB9fQo=');</script>\n",
       "    "
      ],
      "text/plain": [
       "<IPython.core.display.HTML object>"
      ]
     },
     "metadata": {},
     "output_type": "display_data"
    },
    {
     "data": {
      "text/html": [
       "\n",
       "        <div id=\"5Zph7J8tm6uJFXTVKmqiQa\"></div>\n",
       "        <script>netpixi.call('5Zph7J8tm6uJFXTVKmqiQa', '6TdJewpHMtn6cJBSwgXbcW', 'changeGraph', 'eyJpZCI6IDEwNiwgInR5cGUiOiAidmVydGV4IiwgInByb3BzIjogeyJzaXplIjogMTcuNjE1MDYyNzYxNTA2Mjc3fX0K');</script>\n",
       "    "
      ],
      "text/plain": [
       "<IPython.core.display.HTML object>"
      ]
     },
     "metadata": {},
     "output_type": "display_data"
    },
    {
     "data": {
      "text/html": [
       "\n",
       "        <div id=\"DmtNaafk4SwwrEztgrNozF\"></div>\n",
       "        <script>netpixi.call('DmtNaafk4SwwrEztgrNozF', '6TdJewpHMtn6cJBSwgXbcW', 'changeGraph', 'eyJpZCI6IDc2LCAidHlwZSI6ICJ2ZXJ0ZXgiLCAicHJvcHMiOiB7ImNvbG9yIjogMTY3MTE2ODB9fQo=');</script>\n",
       "    "
      ],
      "text/plain": [
       "<IPython.core.display.HTML object>"
      ]
     },
     "metadata": {},
     "output_type": "display_data"
    },
    {
     "data": {
      "text/html": [
       "\n",
       "        <div id=\"US7o2hpdhLnngbUnSd2SgA\"></div>\n",
       "        <script>netpixi.call('US7o2hpdhLnngbUnSd2SgA', '6TdJewpHMtn6cJBSwgXbcW', 'changeGraph', 'eyJpZCI6IDEwNywgInR5cGUiOiAidmVydGV4IiwgInByb3BzIjogeyJzaXplIjogMTguNzQ0NzY5ODc0NDc2OTg3fX0K');</script>\n",
       "    "
      ],
      "text/plain": [
       "<IPython.core.display.HTML object>"
      ]
     },
     "metadata": {},
     "output_type": "display_data"
    },
    {
     "data": {
      "text/html": [
       "\n",
       "        <div id=\"X86GbaHSNoNs2x4XXcSM7W\"></div>\n",
       "        <script>netpixi.call('X86GbaHSNoNs2x4XXcSM7W', '6TdJewpHMtn6cJBSwgXbcW', 'changeGraph', 'eyJpZCI6IDU3LCAidHlwZSI6ICJ2ZXJ0ZXgiLCAicHJvcHMiOiB7ImNvbG9yIjogMTY3MTE2ODB9fQo=');</script>\n",
       "    "
      ],
      "text/plain": [
       "<IPython.core.display.HTML object>"
      ]
     },
     "metadata": {},
     "output_type": "display_data"
    },
    {
     "data": {
      "text/html": [
       "\n",
       "        <div id=\"eo8XhrT7jHhcSwqn5Q23ur\"></div>\n",
       "        <script>netpixi.call('eo8XhrT7jHhcSwqn5Q23ur', '6TdJewpHMtn6cJBSwgXbcW', 'changeGraph', 'eyJpZCI6IDEwOCwgInR5cGUiOiAidmVydGV4IiwgInByb3BzIjogeyJzaXplIjogMTMuMjIxNzU3MzIyMTc1NzMyfX0K');</script>\n",
       "    "
      ],
      "text/plain": [
       "<IPython.core.display.HTML object>"
      ]
     },
     "metadata": {},
     "output_type": "display_data"
    },
    {
     "data": {
      "text/html": [
       "\n",
       "        <div id=\"fMtGtMLeBE9BAbcospUwYR\"></div>\n",
       "        <script>netpixi.call('fMtGtMLeBE9BAbcospUwYR', '6TdJewpHMtn6cJBSwgXbcW', 'changeGraph', 'eyJpZCI6IDcyLCAidHlwZSI6ICJ2ZXJ0ZXgiLCAicHJvcHMiOiB7ImNvbG9yIjogMTY3MTE2ODB9fQo=');</script>\n",
       "    "
      ],
      "text/plain": [
       "<IPython.core.display.HTML object>"
      ]
     },
     "metadata": {},
     "output_type": "display_data"
    },
    {
     "data": {
      "text/html": [
       "\n",
       "        <div id=\"ER4Q6dPa8WDiGY2ZyJMXiV\"></div>\n",
       "        <script>netpixi.call('ER4Q6dPa8WDiGY2ZyJMXiV', '6TdJewpHMtn6cJBSwgXbcW', 'changeGraph', 'eyJpZCI6IDEwOSwgInR5cGUiOiAidmVydGV4IiwgInByb3BzIjogeyJzaXplIjogMTYuNTY5MDM3NjU2OTAzNzY3fX0K');</script>\n",
       "    "
      ],
      "text/plain": [
       "<IPython.core.display.HTML object>"
      ]
     },
     "metadata": {},
     "output_type": "display_data"
    },
    {
     "data": {
      "text/html": [
       "\n",
       "        <div id=\"BFgCb6JAuoYCpTZsTh6vpX\"></div>\n",
       "        <script>netpixi.call('BFgCb6JAuoYCpTZsTh6vpX', '6TdJewpHMtn6cJBSwgXbcW', 'changeGraph', 'eyJpZCI6IDgwLCAidHlwZSI6ICJ2ZXJ0ZXgiLCAicHJvcHMiOiB7ImNvbG9yIjogMTY3MTE2ODB9fQo=');</script>\n",
       "    "
      ],
      "text/plain": [
       "<IPython.core.display.HTML object>"
      ]
     },
     "metadata": {},
     "output_type": "display_data"
    },
    {
     "data": {
      "text/html": [
       "\n",
       "        <div id=\"QRwpedhRVjZVwVWTMhiby3\"></div>\n",
       "        <script>netpixi.call('QRwpedhRVjZVwVWTMhiby3', '6TdJewpHMtn6cJBSwgXbcW', 'changeGraph', 'eyJpZCI6IDExMCwgInR5cGUiOiAidmVydGV4IiwgInByb3BzIjogeyJzaXplIjogMTUuNTY0ODUzNTU2NDg1MzU1fX0K');</script>\n",
       "    "
      ],
      "text/plain": [
       "<IPython.core.display.HTML object>"
      ]
     },
     "metadata": {},
     "output_type": "display_data"
    },
    {
     "data": {
      "text/html": [
       "\n",
       "        <div id=\"gNTSSgNErLVGcsRtA5ygN8\"></div>\n",
       "        <script>netpixi.call('gNTSSgNErLVGcsRtA5ygN8', '6TdJewpHMtn6cJBSwgXbcW', 'changeGraph', 'eyJpZCI6IDc4LCAidHlwZSI6ICJ2ZXJ0ZXgiLCAicHJvcHMiOiB7ImNvbG9yIjogMTY3MTE2ODB9fQo=');</script>\n",
       "    "
      ],
      "text/plain": [
       "<IPython.core.display.HTML object>"
      ]
     },
     "metadata": {},
     "output_type": "display_data"
    },
    {
     "data": {
      "text/html": [
       "\n",
       "        <div id=\"9rZkURCWsRY36b4kg7JEd4\"></div>\n",
       "        <script>netpixi.call('9rZkURCWsRY36b4kg7JEd4', '6TdJewpHMtn6cJBSwgXbcW', 'changeGraph', 'eyJpZCI6IDExMSwgInR5cGUiOiAidmVydGV4IiwgInByb3BzIjogeyJzaXplIjogMTYuNDQzNTE0NjQ0MzUxNDYzfX0K');</script>\n",
       "    "
      ],
      "text/plain": [
       "<IPython.core.display.HTML object>"
      ]
     },
     "metadata": {},
     "output_type": "display_data"
    },
    {
     "data": {
      "text/html": [
       "\n",
       "        <div id=\"ARGcAV3FS3JHtq3HJkRBy2\"></div>\n",
       "        <script>netpixi.call('ARGcAV3FS3JHtq3HJkRBy2', '6TdJewpHMtn6cJBSwgXbcW', 'changeGraph', 'eyJpZCI6IDgyLCAidHlwZSI6ICJ2ZXJ0ZXgiLCAicHJvcHMiOiB7ImNvbG9yIjogMTY3MTE2ODB9fQo=');</script>\n",
       "    "
      ],
      "text/plain": [
       "<IPython.core.display.HTML object>"
      ]
     },
     "metadata": {},
     "output_type": "display_data"
    },
    {
     "data": {
      "text/html": [
       "\n",
       "        <div id=\"4UgpYe4BQ6yHXQeY5ofQgS\"></div>\n",
       "        <script>netpixi.call('4UgpYe4BQ6yHXQeY5ofQgS', '6TdJewpHMtn6cJBSwgXbcW', 'changeGraph', 'eyJpZCI6IDExMiwgInR5cGUiOiAidmVydGV4IiwgInByb3BzIjogeyJzaXplIjogNDkuODMzMzMzMzMzMzMzMzM2fX0K');</script>\n",
       "    "
      ],
      "text/plain": [
       "<IPython.core.display.HTML object>"
      ]
     },
     "metadata": {},
     "output_type": "display_data"
    },
    {
     "data": {
      "text/html": [
       "\n",
       "        <div id=\"f4sMhB4WN2Mjdy94oHDwie\"></div>\n",
       "        <script>netpixi.call('f4sMhB4WN2Mjdy94oHDwie', '6TdJewpHMtn6cJBSwgXbcW', 'changeGraph', 'eyJpZCI6IDY2LCAidHlwZSI6ICJ2ZXJ0ZXgiLCAicHJvcHMiOiB7ImNvbG9yIjogMTY3MTE2ODB9fQo=');</script>\n",
       "    "
      ],
      "text/plain": [
       "<IPython.core.display.HTML object>"
      ]
     },
     "metadata": {},
     "output_type": "display_data"
    },
    {
     "data": {
      "text/html": [
       "\n",
       "        <div id=\"EFNSgMhuQcgVBFUYqoJgiV\"></div>\n",
       "        <script>netpixi.call('EFNSgMhuQcgVBFUYqoJgiV', '6TdJewpHMtn6cJBSwgXbcW', 'changeGraph', 'eyJpZCI6IDExMywgInR5cGUiOiAidmVydGV4IiwgInByb3BzIjogeyJzaXplIjogNDIuNjY2NjY2NjY2NjY2NjY0fX0K');</script>\n",
       "    "
      ],
      "text/plain": [
       "<IPython.core.display.HTML object>"
      ]
     },
     "metadata": {},
     "output_type": "display_data"
    },
    {
     "data": {
      "text/html": [
       "\n",
       "        <div id=\"HbAp3tEebkhCbwyAK4aSom\"></div>\n",
       "        <script>netpixi.call('HbAp3tEebkhCbwyAK4aSom', '6TdJewpHMtn6cJBSwgXbcW', 'changeGraph', 'eyJpZCI6IDc0LCAidHlwZSI6ICJ2ZXJ0ZXgiLCAicHJvcHMiOiB7ImNvbG9yIjogMTY3MTE2ODB9fQo=');</script>\n",
       "    "
      ],
      "text/plain": [
       "<IPython.core.display.HTML object>"
      ]
     },
     "metadata": {},
     "output_type": "display_data"
    },
    {
     "data": {
      "text/html": [
       "\n",
       "        <div id=\"3sJ2WpKT3brtwifAiKcRnr\"></div>\n",
       "        <script>netpixi.call('3sJ2WpKT3brtwifAiKcRnr', '6TdJewpHMtn6cJBSwgXbcW', 'changeGraph', 'eyJpZCI6IDExNCwgInR5cGUiOiAidmVydGV4IiwgInByb3BzIjogeyJzaXplIjogNDguMH19Cg==');</script>\n",
       "    "
      ],
      "text/plain": [
       "<IPython.core.display.HTML object>"
      ]
     },
     "metadata": {},
     "output_type": "display_data"
    },
    {
     "data": {
      "text/html": [
       "\n",
       "        <div id=\"cJ8jah6Ub9LR5KVxNApEse\"></div>\n",
       "        <script>netpixi.call('cJ8jah6Ub9LR5KVxNApEse', '6TdJewpHMtn6cJBSwgXbcW', 'changeGraph', 'eyJpZCI6IDgxLCAidHlwZSI6ICJ2ZXJ0ZXgiLCAicHJvcHMiOiB7ImNvbG9yIjogMTY3MTE2ODB9fQo=');</script>\n",
       "    "
      ],
      "text/plain": [
       "<IPython.core.display.HTML object>"
      ]
     },
     "metadata": {},
     "output_type": "display_data"
    },
    {
     "data": {
      "text/html": [
       "\n",
       "        <div id=\"BCxhksuHAVbbmEHFemn9kp\"></div>\n",
       "        <script>netpixi.call('BCxhksuHAVbbmEHFemn9kp', '6TdJewpHMtn6cJBSwgXbcW', 'changeGraph', 'eyJpZCI6IDExNSwgInR5cGUiOiAidmVydGV4IiwgInByb3BzIjogeyJzaXplIjogMTUuODU3NzQwNTg1Nzc0MDU4fX0K');</script>\n",
       "    "
      ],
      "text/plain": [
       "<IPython.core.display.HTML object>"
      ]
     },
     "metadata": {},
     "output_type": "display_data"
    },
    {
     "data": {
      "text/html": [
       "\n",
       "        <div id=\"hdNvtbbKuzYEnCH5Cfmnqj\"></div>\n",
       "        <script>netpixi.call('hdNvtbbKuzYEnCH5Cfmnqj', '6TdJewpHMtn6cJBSwgXbcW', 'changeGraph', 'eyJpZCI6IDgzLCAidHlwZSI6ICJ2ZXJ0ZXgiLCAicHJvcHMiOiB7ImNvbG9yIjogMTY3MTE2ODB9fQo=');</script>\n",
       "    "
      ],
      "text/plain": [
       "<IPython.core.display.HTML object>"
      ]
     },
     "metadata": {},
     "output_type": "display_data"
    },
    {
     "data": {
      "text/html": [
       "\n",
       "        <div id=\"VeWdYBeufrgcvxfxSqqJqQ\"></div>\n",
       "        <script>netpixi.call('VeWdYBeufrgcvxfxSqqJqQ', '6TdJewpHMtn6cJBSwgXbcW', 'changeGraph', 'eyJpZCI6IDExNiwgInR5cGUiOiAidmVydGV4IiwgInByb3BzIjogeyJzaXplIjogMTkuMTIxMzM4OTEyMTMzODl9fQo=');</script>\n",
       "    "
      ],
      "text/plain": [
       "<IPython.core.display.HTML object>"
      ]
     },
     "metadata": {},
     "output_type": "display_data"
    },
    {
     "data": {
      "text/html": [
       "\n",
       "        <div id=\"Bjcnd85qbXt53qaTepdhqR\"></div>\n",
       "        <script>netpixi.call('Bjcnd85qbXt53qaTepdhqR', '6TdJewpHMtn6cJBSwgXbcW', 'changeGraph', 'eyJpZCI6IDc3LCAidHlwZSI6ICJ2ZXJ0ZXgiLCAicHJvcHMiOiB7ImNvbG9yIjogMTY3MTE2ODB9fQo=');</script>\n",
       "    "
      ],
      "text/plain": [
       "<IPython.core.display.HTML object>"
      ]
     },
     "metadata": {},
     "output_type": "display_data"
    },
    {
     "data": {
      "text/html": [
       "\n",
       "        <div id=\"RkmGKow9srRduLBfrcadd3\"></div>\n",
       "        <script>netpixi.call('RkmGKow9srRduLBfrcadd3', '6TdJewpHMtn6cJBSwgXbcW', 'changeGraph', 'eyJpZCI6IDExNywgInR5cGUiOiAidmVydGV4IiwgInByb3BzIjogeyJzaXplIjogMTEuNzU3MzIyMTc1NzMyMjE3fX0K');</script>\n",
       "    "
      ],
      "text/plain": [
       "<IPython.core.display.HTML object>"
      ]
     },
     "metadata": {},
     "output_type": "display_data"
    },
    {
     "data": {
      "text/html": [
       "\n",
       "        <div id=\"SMjEREonXX4ggBtEqdzsmH\"></div>\n",
       "        <script>netpixi.call('SMjEREonXX4ggBtEqdzsmH', '6TdJewpHMtn6cJBSwgXbcW', 'changeGraph', 'eyJpZCI6IDgyLCAidHlwZSI6ICJ2ZXJ0ZXgiLCAicHJvcHMiOiB7ImNvbG9yIjogMTY3MTE2ODB9fQo=');</script>\n",
       "    "
      ],
      "text/plain": [
       "<IPython.core.display.HTML object>"
      ]
     },
     "metadata": {},
     "output_type": "display_data"
    },
    {
     "data": {
      "text/html": [
       "\n",
       "        <div id=\"SHq9WXGyK5yt7vxCDa32fi\"></div>\n",
       "        <script>netpixi.call('SHq9WXGyK5yt7vxCDa32fi', '6TdJewpHMtn6cJBSwgXbcW', 'changeGraph', 'eyJpZCI6IDExOCwgInR5cGUiOiAidmVydGV4IiwgInByb3BzIjogeyJzaXplIjogMTguOTEyMTMzODkxMjEzMzg3fX0K');</script>\n",
       "    "
      ],
      "text/plain": [
       "<IPython.core.display.HTML object>"
      ]
     },
     "metadata": {},
     "output_type": "display_data"
    },
    {
     "data": {
      "text/html": [
       "\n",
       "        <div id=\"4MPfv2eJozcvdCLN8yRB5X\"></div>\n",
       "        <script>netpixi.call('4MPfv2eJozcvdCLN8yRB5X', '6TdJewpHMtn6cJBSwgXbcW', 'changeGraph', 'eyJpZCI6IDc4LCAidHlwZSI6ICJ2ZXJ0ZXgiLCAicHJvcHMiOiB7ImNvbG9yIjogMTY3MTE2ODB9fQo=');</script>\n",
       "    "
      ],
      "text/plain": [
       "<IPython.core.display.HTML object>"
      ]
     },
     "metadata": {},
     "output_type": "display_data"
    },
    {
     "data": {
      "text/html": [
       "\n",
       "        <div id=\"gqY3nNrZx53Tyyvx8Q8Qbk\"></div>\n",
       "        <script>netpixi.call('gqY3nNrZx53Tyyvx8Q8Qbk', '6TdJewpHMtn6cJBSwgXbcW', 'changeGraph', 'eyJpZCI6IDExOSwgInR5cGUiOiAidmVydGV4IiwgInByb3BzIjogeyJzaXplIjogMTQuOTM3MjM4NDkzNzIzODV9fQo=');</script>\n",
       "    "
      ],
      "text/plain": [
       "<IPython.core.display.HTML object>"
      ]
     },
     "metadata": {},
     "output_type": "display_data"
    },
    {
     "data": {
      "text/html": [
       "\n",
       "        <div id=\"mgdna3G93QSi8ASMMFuswK\"></div>\n",
       "        <script>netpixi.call('mgdna3G93QSi8ASMMFuswK', '6TdJewpHMtn6cJBSwgXbcW', 'changeGraph', 'eyJpZCI6IDcyLCAidHlwZSI6ICJ2ZXJ0ZXgiLCAicHJvcHMiOiB7ImNvbG9yIjogMTY3MTE2ODB9fQo=');</script>\n",
       "    "
      ],
      "text/plain": [
       "<IPython.core.display.HTML object>"
      ]
     },
     "metadata": {},
     "output_type": "display_data"
    },
    {
     "data": {
      "text/html": [
       "\n",
       "        <div id=\"kkCJQB2bZUrEeXQBTwzGys\"></div>\n",
       "        <script>netpixi.call('kkCJQB2bZUrEeXQBTwzGys', '6TdJewpHMtn6cJBSwgXbcW', 'changeGraph', 'eyJpZCI6IDEyMCwgInR5cGUiOiAidmVydGV4IiwgInByb3BzIjogeyJzaXplIjogMTAuNTg1Nzc0MDU4NTc3NDA3fX0K');</script>\n",
       "    "
      ],
      "text/plain": [
       "<IPython.core.display.HTML object>"
      ]
     },
     "metadata": {},
     "output_type": "display_data"
    },
    {
     "data": {
      "text/html": [
       "\n",
       "        <div id=\"8eVvXKdnbbVuYhviJMkMAS\"></div>\n",
       "        <script>netpixi.call('8eVvXKdnbbVuYhviJMkMAS', '6TdJewpHMtn6cJBSwgXbcW', 'changeGraph', 'eyJpZCI6IDgyLCAidHlwZSI6ICJ2ZXJ0ZXgiLCAicHJvcHMiOiB7ImNvbG9yIjogMTY3MTE2ODB9fQo=');</script>\n",
       "    "
      ],
      "text/plain": [
       "<IPython.core.display.HTML object>"
      ]
     },
     "metadata": {},
     "output_type": "display_data"
    },
    {
     "data": {
      "text/html": [
       "\n",
       "        <div id=\"bJkL4GKeWZKjWNk2TEdkWj\"></div>\n",
       "        <script>netpixi.call('bJkL4GKeWZKjWNk2TEdkWj', '6TdJewpHMtn6cJBSwgXbcW', 'changeGraph', 'eyJpZCI6IDEyMSwgInR5cGUiOiAidmVydGV4IiwgInByb3BzIjogeyJzaXplIjogMTcuODY2MTA4Nzg2NjEwODh9fQo=');</script>\n",
       "    "
      ],
      "text/plain": [
       "<IPython.core.display.HTML object>"
      ]
     },
     "metadata": {},
     "output_type": "display_data"
    },
    {
     "data": {
      "text/html": [
       "\n",
       "        <div id=\"VoBheur9gxRN3yuLja5kJo\"></div>\n",
       "        <script>netpixi.call('VoBheur9gxRN3yuLja5kJo', '6TdJewpHMtn6cJBSwgXbcW', 'changeGraph', 'eyJpZCI6IDgxLCAidHlwZSI6ICJ2ZXJ0ZXgiLCAicHJvcHMiOiB7ImNvbG9yIjogMTY3MTE2ODB9fQo=');</script>\n",
       "    "
      ],
      "text/plain": [
       "<IPython.core.display.HTML object>"
      ]
     },
     "metadata": {},
     "output_type": "display_data"
    },
    {
     "data": {
      "text/html": [
       "\n",
       "        <div id=\"cQYiDBTusFsAVHA2NzdYeG\"></div>\n",
       "        <script>netpixi.call('cQYiDBTusFsAVHA2NzdYeG', '6TdJewpHMtn6cJBSwgXbcW', 'changeGraph', 'eyJpZCI6IDEyMiwgInR5cGUiOiAidmVydGV4IiwgInByb3BzIjogeyJzaXplIjogMTMuMzQ3MjgwMzM0NzI4MDMzfX0K');</script>\n",
       "    "
      ],
      "text/plain": [
       "<IPython.core.display.HTML object>"
      ]
     },
     "metadata": {},
     "output_type": "display_data"
    },
    {
     "data": {
      "text/html": [
       "\n",
       "        <div id=\"n6Tqvss9QBzzVwEFi5JDDq\"></div>\n",
       "        <script>netpixi.call('n6Tqvss9QBzzVwEFi5JDDq', '6TdJewpHMtn6cJBSwgXbcW', 'changeGraph', 'eyJpZCI6IDgwLCAidHlwZSI6ICJ2ZXJ0ZXgiLCAicHJvcHMiOiB7ImNvbG9yIjogMTY3MTE2ODB9fQo=');</script>\n",
       "    "
      ],
      "text/plain": [
       "<IPython.core.display.HTML object>"
      ]
     },
     "metadata": {},
     "output_type": "display_data"
    },
    {
     "data": {
      "text/html": [
       "\n",
       "        <div id=\"jtbmAUtJMV3xHWRX2e2xjb\"></div>\n",
       "        <script>netpixi.call('jtbmAUtJMV3xHWRX2e2xjb', '6TdJewpHMtn6cJBSwgXbcW', 'changeGraph', 'eyJpZCI6IDEyMywgInR5cGUiOiAidmVydGV4IiwgInByb3BzIjogeyJzaXplIjogMTMuMDk2MjM0MzA5NjIzNDN9fQo=');</script>\n",
       "    "
      ],
      "text/plain": [
       "<IPython.core.display.HTML object>"
      ]
     },
     "metadata": {},
     "output_type": "display_data"
    },
    {
     "data": {
      "text/html": [
       "\n",
       "        <div id=\"EBsDG8iG6i8e3nBZN6D4hp\"></div>\n",
       "        <script>netpixi.call('EBsDG8iG6i8e3nBZN6D4hp', '6TdJewpHMtn6cJBSwgXbcW', 'changeGraph', 'eyJpZCI6IDc0LCAidHlwZSI6ICJ2ZXJ0ZXgiLCAicHJvcHMiOiB7ImNvbG9yIjogMTY3MTE2ODB9fQo=');</script>\n",
       "    "
      ],
      "text/plain": [
       "<IPython.core.display.HTML object>"
      ]
     },
     "metadata": {},
     "output_type": "display_data"
    },
    {
     "data": {
      "text/html": [
       "\n",
       "        <div id=\"chinfY66pL7NbTwUY8NsdV\"></div>\n",
       "        <script>netpixi.call('chinfY66pL7NbTwUY8NsdV', '6TdJewpHMtn6cJBSwgXbcW', 'changeGraph', 'eyJpZCI6IDEyNCwgInR5cGUiOiAidmVydGV4IiwgInByb3BzIjogeyJzaXplIjogNDMuMTY2NjY2NjY2NjY2NjY0fX0K');</script>\n",
       "    "
      ],
      "text/plain": [
       "<IPython.core.display.HTML object>"
      ]
     },
     "metadata": {},
     "output_type": "display_data"
    },
    {
     "data": {
      "text/html": [
       "\n",
       "        <div id=\"MDyQTkMCCf3kGg5tn5BpJP\"></div>\n",
       "        <script>netpixi.call('MDyQTkMCCf3kGg5tn5BpJP', '6TdJewpHMtn6cJBSwgXbcW', 'changeGraph', 'eyJpZCI6IDgwLCAidHlwZSI6ICJ2ZXJ0ZXgiLCAicHJvcHMiOiB7ImNvbG9yIjogMTY3MTE2ODB9fQo=');</script>\n",
       "    "
      ],
      "text/plain": [
       "<IPython.core.display.HTML object>"
      ]
     },
     "metadata": {},
     "output_type": "display_data"
    },
    {
     "data": {
      "text/html": [
       "\n",
       "        <div id=\"ENLSjxfm6Ej3KQm9CjQYg6\"></div>\n",
       "        <script>netpixi.call('ENLSjxfm6Ej3KQm9CjQYg6', '6TdJewpHMtn6cJBSwgXbcW', 'changeGraph', 'eyJpZCI6IDEyNSwgInR5cGUiOiAidmVydGV4IiwgInByb3BzIjogeyJzaXplIjogMTIuODQ1MTg4Mjg0NTE4ODI4fX0K');</script>\n",
       "    "
      ],
      "text/plain": [
       "<IPython.core.display.HTML object>"
      ]
     },
     "metadata": {},
     "output_type": "display_data"
    },
    {
     "data": {
      "text/html": [
       "\n",
       "        <div id=\"EQPMFd547WQgF72sEh2KHD\"></div>\n",
       "        <script>netpixi.call('EQPMFd547WQgF72sEh2KHD', '6TdJewpHMtn6cJBSwgXbcW', 'changeGraph', 'eyJpZCI6IDgyLCAidHlwZSI6ICJ2ZXJ0ZXgiLCAicHJvcHMiOiB7ImNvbG9yIjogMTY3MTE2ODB9fQo=');</script>\n",
       "    "
      ],
      "text/plain": [
       "<IPython.core.display.HTML object>"
      ]
     },
     "metadata": {},
     "output_type": "display_data"
    },
    {
     "data": {
      "text/html": [
       "\n",
       "        <div id=\"FX6WrKA7D8K7cywoCV8h5N\"></div>\n",
       "        <script>netpixi.call('FX6WrKA7D8K7cywoCV8h5N', '6TdJewpHMtn6cJBSwgXbcW', 'changeGraph', 'eyJpZCI6IDEyNiwgInR5cGUiOiAidmVydGV4IiwgInByb3BzIjogeyJzaXplIjogMTguMjAwODM2ODIwMDgzNjh9fQo=');</script>\n",
       "    "
      ],
      "text/plain": [
       "<IPython.core.display.HTML object>"
      ]
     },
     "metadata": {},
     "output_type": "display_data"
    },
    {
     "data": {
      "text/html": [
       "\n",
       "        <div id=\"PyEccQybF5Whd3r7H6k4Gk\"></div>\n",
       "        <script>netpixi.call('PyEccQybF5Whd3r7H6k4Gk', '6TdJewpHMtn6cJBSwgXbcW', 'changeGraph', 'eyJpZCI6IDg3LCAidHlwZSI6ICJ2ZXJ0ZXgiLCAicHJvcHMiOiB7ImNvbG9yIjogMTY3MTE2ODB9fQo=');</script>\n",
       "    "
      ],
      "text/plain": [
       "<IPython.core.display.HTML object>"
      ]
     },
     "metadata": {},
     "output_type": "display_data"
    },
    {
     "data": {
      "text/html": [
       "\n",
       "        <div id=\"TbAESPcgJLfu8MzmNeMXCa\"></div>\n",
       "        <script>netpixi.call('TbAESPcgJLfu8MzmNeMXCa', '6TdJewpHMtn6cJBSwgXbcW', 'changeGraph', 'eyJpZCI6IDEyNywgInR5cGUiOiAidmVydGV4IiwgInByb3BzIjogeyJzaXplIjogMTMuMDU0MzkzMzA1NDM5MzN9fQo=');</script>\n",
       "    "
      ],
      "text/plain": [
       "<IPython.core.display.HTML object>"
      ]
     },
     "metadata": {},
     "output_type": "display_data"
    },
    {
     "data": {
      "text/html": [
       "\n",
       "        <div id=\"dJrV8z9tYnidEQmuM9ZEuG\"></div>\n",
       "        <script>netpixi.call('dJrV8z9tYnidEQmuM9ZEuG', '6TdJewpHMtn6cJBSwgXbcW', 'changeGraph', 'eyJpZCI6IDc2LCAidHlwZSI6ICJ2ZXJ0ZXgiLCAicHJvcHMiOiB7ImNvbG9yIjogMTY3MTE2ODB9fQo=');</script>\n",
       "    "
      ],
      "text/plain": [
       "<IPython.core.display.HTML object>"
      ]
     },
     "metadata": {},
     "output_type": "display_data"
    },
    {
     "data": {
      "text/html": [
       "\n",
       "        <div id=\"RLhVuLXo99GPshCu6qrQqs\"></div>\n",
       "        <script>netpixi.call('RLhVuLXo99GPshCu6qrQqs', '6TdJewpHMtn6cJBSwgXbcW', 'changeGraph', 'eyJpZCI6IDEyOCwgInR5cGUiOiAidmVydGV4IiwgInByb3BzIjogeyJzaXplIjogMTkuNTM5NzQ4OTUzOTc0ODkzfX0K');</script>\n",
       "    "
      ],
      "text/plain": [
       "<IPython.core.display.HTML object>"
      ]
     },
     "metadata": {},
     "output_type": "display_data"
    },
    {
     "data": {
      "text/html": [
       "\n",
       "        <div id=\"Ki9DpWGdTqbMPrRYUk7R6R\"></div>\n",
       "        <script>netpixi.call('Ki9DpWGdTqbMPrRYUk7R6R', '6TdJewpHMtn6cJBSwgXbcW', 'changeGraph', 'eyJpZCI6IDczLCAidHlwZSI6ICJ2ZXJ0ZXgiLCAicHJvcHMiOiB7ImNvbG9yIjogMTY3MTE2ODB9fQo=');</script>\n",
       "    "
      ],
      "text/plain": [
       "<IPython.core.display.HTML object>"
      ]
     },
     "metadata": {},
     "output_type": "display_data"
    },
    {
     "data": {
      "text/html": [
       "\n",
       "        <div id=\"CxztZv66y36g9DzgvR4dum\"></div>\n",
       "        <script>netpixi.call('CxztZv66y36g9DzgvR4dum', '6TdJewpHMtn6cJBSwgXbcW', 'changeGraph', 'eyJpZCI6IDEyOSwgInR5cGUiOiAidmVydGV4IiwgInByb3BzIjogeyJzaXplIjogNDUuMH19Cg==');</script>\n",
       "    "
      ],
      "text/plain": [
       "<IPython.core.display.HTML object>"
      ]
     },
     "metadata": {},
     "output_type": "display_data"
    },
    {
     "data": {
      "text/html": [
       "\n",
       "        <div id=\"hPAykU9533FzLbqYMHxzU7\"></div>\n",
       "        <script>netpixi.call('hPAykU9533FzLbqYMHxzU7', '6TdJewpHMtn6cJBSwgXbcW', 'changeGraph', 'eyJpZCI6IDg0LCAidHlwZSI6ICJ2ZXJ0ZXgiLCAicHJvcHMiOiB7ImNvbG9yIjogMTY3MTE2ODB9fQo=');</script>\n",
       "    "
      ],
      "text/plain": [
       "<IPython.core.display.HTML object>"
      ]
     },
     "metadata": {},
     "output_type": "display_data"
    },
    {
     "data": {
      "text/html": [
       "\n",
       "        <div id=\"bVJa8w74y7XbcA8iSR5aMu\"></div>\n",
       "        <script>netpixi.call('bVJa8w74y7XbcA8iSR5aMu', '6TdJewpHMtn6cJBSwgXbcW', 'changeGraph', 'eyJpZCI6IDEzMCwgInR5cGUiOiAidmVydGV4IiwgInByb3BzIjogeyJzaXplIjogMTIuMzg0OTM3MjM4NDkzNzIzfX0K');</script>\n",
       "    "
      ],
      "text/plain": [
       "<IPython.core.display.HTML object>"
      ]
     },
     "metadata": {},
     "output_type": "display_data"
    },
    {
     "data": {
      "text/html": [
       "\n",
       "        <div id=\"5Ye9P6T8SpVh7QEt4ppWqQ\"></div>\n",
       "        <script>netpixi.call('5Ye9P6T8SpVh7QEt4ppWqQ', '6TdJewpHMtn6cJBSwgXbcW', 'changeGraph', 'eyJpZCI6IDY0LCAidHlwZSI6ICJ2ZXJ0ZXgiLCAicHJvcHMiOiB7ImNvbG9yIjogMTY3MTE2ODB9fQo=');</script>\n",
       "    "
      ],
      "text/plain": [
       "<IPython.core.display.HTML object>"
      ]
     },
     "metadata": {},
     "output_type": "display_data"
    },
    {
     "data": {
      "text/html": [
       "\n",
       "        <div id=\"76Yhkwk4SiPpH8Kb3jGyJW\"></div>\n",
       "        <script>netpixi.call('76Yhkwk4SiPpH8Kb3jGyJW', '6TdJewpHMtn6cJBSwgXbcW', 'changeGraph', 'eyJpZCI6IDEzMSwgInR5cGUiOiAidmVydGV4IiwgInByb3BzIjogeyJzaXplIjogMTcuNTMxMzgwNzUzMTM4MDczfX0K');</script>\n",
       "    "
      ],
      "text/plain": [
       "<IPython.core.display.HTML object>"
      ]
     },
     "metadata": {},
     "output_type": "display_data"
    },
    {
     "data": {
      "text/html": [
       "\n",
       "        <div id=\"Y4ajjDjqxyG6G92KX8FyJZ\"></div>\n",
       "        <script>netpixi.call('Y4ajjDjqxyG6G92KX8FyJZ', '6TdJewpHMtn6cJBSwgXbcW', 'changeGraph', 'eyJpZCI6IDc5LCAidHlwZSI6ICJ2ZXJ0ZXgiLCAicHJvcHMiOiB7ImNvbG9yIjogMTY3MTE2ODB9fQo=');</script>\n",
       "    "
      ],
      "text/plain": [
       "<IPython.core.display.HTML object>"
      ]
     },
     "metadata": {},
     "output_type": "display_data"
    },
    {
     "data": {
      "text/html": [
       "\n",
       "        <div id=\"FF2APGofPpXv9GWbrNbEoX\"></div>\n",
       "        <script>netpixi.call('FF2APGofPpXv9GWbrNbEoX', '6TdJewpHMtn6cJBSwgXbcW', 'changeGraph', 'eyJpZCI6IDEzMiwgInR5cGUiOiAidmVydGV4IiwgInByb3BzIjogeyJzaXplIjogNDQuNX19Cg==');</script>\n",
       "    "
      ],
      "text/plain": [
       "<IPython.core.display.HTML object>"
      ]
     },
     "metadata": {},
     "output_type": "display_data"
    },
    {
     "data": {
      "text/html": [
       "\n",
       "        <div id=\"hT5Sdkb7TMXMBxduNGGGAa\"></div>\n",
       "        <script>netpixi.call('hT5Sdkb7TMXMBxduNGGGAa', '6TdJewpHMtn6cJBSwgXbcW', 'changeGraph', 'eyJpZCI6IDY2LCAidHlwZSI6ICJ2ZXJ0ZXgiLCAicHJvcHMiOiB7ImNvbG9yIjogMTY3MTE2ODB9fQo=');</script>\n",
       "    "
      ],
      "text/plain": [
       "<IPython.core.display.HTML object>"
      ]
     },
     "metadata": {},
     "output_type": "display_data"
    },
    {
     "data": {
      "text/html": [
       "\n",
       "        <div id=\"fh25Sensx3a6ApDaPcxSWB\"></div>\n",
       "        <script>netpixi.call('fh25Sensx3a6ApDaPcxSWB', '6TdJewpHMtn6cJBSwgXbcW', 'changeGraph', 'eyJpZCI6IDEzMywgInR5cGUiOiAidmVydGV4IiwgInByb3BzIjogeyJzaXplIjogMTYuNzc4MjQyNjc3ODI0MjY3fX0K');</script>\n",
       "    "
      ],
      "text/plain": [
       "<IPython.core.display.HTML object>"
      ]
     },
     "metadata": {},
     "output_type": "display_data"
    },
    {
     "data": {
      "text/html": [
       "\n",
       "        <div id=\"Z6GmUbU9hR9svMmMYs3SKP\"></div>\n",
       "        <script>netpixi.call('Z6GmUbU9hR9svMmMYs3SKP', '6TdJewpHMtn6cJBSwgXbcW', 'changeGraph', 'eyJpZCI6IDc0LCAidHlwZSI6ICJ2ZXJ0ZXgiLCAicHJvcHMiOiB7ImNvbG9yIjogMTY3MTE2ODB9fQo=');</script>\n",
       "    "
      ],
      "text/plain": [
       "<IPython.core.display.HTML object>"
      ]
     },
     "metadata": {},
     "output_type": "display_data"
    },
    {
     "data": {
      "text/html": [
       "\n",
       "        <div id=\"KCsp2GV4hizLoKKDLemjbm\"></div>\n",
       "        <script>netpixi.call('KCsp2GV4hizLoKKDLemjbm', '6TdJewpHMtn6cJBSwgXbcW', 'changeGraph', 'eyJpZCI6IDEzNCwgInR5cGUiOiAidmVydGV4IiwgInByb3BzIjogeyJzaXplIjogMTkuMzcyMzg0OTM3MjM4NDkzfX0K');</script>\n",
       "    "
      ],
      "text/plain": [
       "<IPython.core.display.HTML object>"
      ]
     },
     "metadata": {},
     "output_type": "display_data"
    },
    {
     "data": {
      "text/html": [
       "\n",
       "        <div id=\"SHCT6Q8K5ftr6wz4nta2Ru\"></div>\n",
       "        <script>netpixi.call('SHCT6Q8K5ftr6wz4nta2Ru', '6TdJewpHMtn6cJBSwgXbcW', 'changeGraph', 'eyJpZCI6IDcwLCAidHlwZSI6ICJ2ZXJ0ZXgiLCAicHJvcHMiOiB7ImNvbG9yIjogMTY3MTE2ODB9fQo=');</script>\n",
       "    "
      ],
      "text/plain": [
       "<IPython.core.display.HTML object>"
      ]
     },
     "metadata": {},
     "output_type": "display_data"
    },
    {
     "data": {
      "text/html": [
       "\n",
       "        <div id=\"4SBYmwCLgmnAkkffPz3SGh\"></div>\n",
       "        <script>netpixi.call('4SBYmwCLgmnAkkffPz3SGh', '6TdJewpHMtn6cJBSwgXbcW', 'changeGraph', 'eyJpZCI6IDEzNSwgInR5cGUiOiAidmVydGV4IiwgInByb3BzIjogeyJzaXplIjogMTcuOTA3OTQ5NzkwNzk0OTh9fQo=');</script>\n",
       "    "
      ],
      "text/plain": [
       "<IPython.core.display.HTML object>"
      ]
     },
     "metadata": {},
     "output_type": "display_data"
    },
    {
     "data": {
      "text/html": [
       "\n",
       "        <div id=\"WGoWR8qGwDdveBtkgnFZmf\"></div>\n",
       "        <script>netpixi.call('WGoWR8qGwDdveBtkgnFZmf', '6TdJewpHMtn6cJBSwgXbcW', 'changeGraph', 'eyJpZCI6IDY0LCAidHlwZSI6ICJ2ZXJ0ZXgiLCAicHJvcHMiOiB7ImNvbG9yIjogMTY3MTE2ODB9fQo=');</script>\n",
       "    "
      ],
      "text/plain": [
       "<IPython.core.display.HTML object>"
      ]
     },
     "metadata": {},
     "output_type": "display_data"
    },
    {
     "data": {
      "text/html": [
       "\n",
       "        <div id=\"Fa9TNKirMhcwfzKhAyoMmZ\"></div>\n",
       "        <script>netpixi.call('Fa9TNKirMhcwfzKhAyoMmZ', '6TdJewpHMtn6cJBSwgXbcW', 'changeGraph', 'eyJpZCI6IDEzNiwgInR5cGUiOiAidmVydGV4IiwgInByb3BzIjogeyJzaXplIjogMTguNDkzNzIzODQ5MzcyMzg3fX0K');</script>\n",
       "    "
      ],
      "text/plain": [
       "<IPython.core.display.HTML object>"
      ]
     },
     "metadata": {},
     "output_type": "display_data"
    },
    {
     "data": {
      "text/html": [
       "\n",
       "        <div id=\"EFZJYCNcKBd4bicJ6EWGz7\"></div>\n",
       "        <script>netpixi.call('EFZJYCNcKBd4bicJ6EWGz7', '6TdJewpHMtn6cJBSwgXbcW', 'changeGraph', 'eyJpZCI6IDgxLCAidHlwZSI6ICJ2ZXJ0ZXgiLCAicHJvcHMiOiB7ImNvbG9yIjogMTY3MTE2ODB9fQo=');</script>\n",
       "    "
      ],
      "text/plain": [
       "<IPython.core.display.HTML object>"
      ]
     },
     "metadata": {},
     "output_type": "display_data"
    },
    {
     "data": {
      "text/html": [
       "\n",
       "        <div id=\"f7mxZvEYv9E6Wm38rDQwcd\"></div>\n",
       "        <script>netpixi.call('f7mxZvEYv9E6Wm38rDQwcd', '6TdJewpHMtn6cJBSwgXbcW', 'changeGraph', 'eyJpZCI6IDEzNywgInR5cGUiOiAidmVydGV4IiwgInByb3BzIjogeyJzaXplIjogMTQuNzI4MDMzNDcyODAzMzQ3fX0K');</script>\n",
       "    "
      ],
      "text/plain": [
       "<IPython.core.display.HTML object>"
      ]
     },
     "metadata": {},
     "output_type": "display_data"
    },
    {
     "data": {
      "text/html": [
       "\n",
       "        <div id=\"m8ustomwwCWx2RintpgjHG\"></div>\n",
       "        <script>netpixi.call('m8ustomwwCWx2RintpgjHG', '6TdJewpHMtn6cJBSwgXbcW', 'changeGraph', 'eyJpZCI6IDc3LCAidHlwZSI6ICJ2ZXJ0ZXgiLCAicHJvcHMiOiB7ImNvbG9yIjogMTY3MTE2ODB9fQo=');</script>\n",
       "    "
      ],
      "text/plain": [
       "<IPython.core.display.HTML object>"
      ]
     },
     "metadata": {},
     "output_type": "display_data"
    },
    {
     "data": {
      "text/html": [
       "\n",
       "        <div id=\"LWaHdvbXtP9Yf8P5A4XTG9\"></div>\n",
       "        <script>netpixi.call('LWaHdvbXtP9Yf8P5A4XTG9', '6TdJewpHMtn6cJBSwgXbcW', 'changeGraph', 'eyJpZCI6IDEzOCwgInR5cGUiOiAidmVydGV4IiwgInByb3BzIjogeyJzaXplIjogNDYuMzMzMzMzMzMzMzMzMzM2fX0K');</script>\n",
       "    "
      ],
      "text/plain": [
       "<IPython.core.display.HTML object>"
      ]
     },
     "metadata": {},
     "output_type": "display_data"
    },
    {
     "data": {
      "text/html": [
       "\n",
       "        <div id=\"FWFdpNcuv3BqNnETmuAAJC\"></div>\n",
       "        <script>netpixi.call('FWFdpNcuv3BqNnETmuAAJC', '6TdJewpHMtn6cJBSwgXbcW', 'changeGraph', 'eyJpZCI6IDgzLCAidHlwZSI6ICJ2ZXJ0ZXgiLCAicHJvcHMiOiB7ImNvbG9yIjogMTY3MTE2ODB9fQo=');</script>\n",
       "    "
      ],
      "text/plain": [
       "<IPython.core.display.HTML object>"
      ]
     },
     "metadata": {},
     "output_type": "display_data"
    },
    {
     "data": {
      "text/html": [
       "\n",
       "        <div id=\"V6jQFXdJ2ZShepE7DNKNva\"></div>\n",
       "        <script>netpixi.call('V6jQFXdJ2ZShepE7DNKNva', '6TdJewpHMtn6cJBSwgXbcW', 'changeGraph', 'eyJpZCI6IDEzOSwgInR5cGUiOiAidmVydGV4IiwgInByb3BzIjogeyJzaXplIjogNDguMzMzMzMzMzMzMzMzMzM2fX0K');</script>\n",
       "    "
      ],
      "text/plain": [
       "<IPython.core.display.HTML object>"
      ]
     },
     "metadata": {},
     "output_type": "display_data"
    },
    {
     "data": {
      "text/html": [
       "\n",
       "        <div id=\"E3wyqFcB3hZ56BqaXQnpWQ\"></div>\n",
       "        <script>netpixi.call('E3wyqFcB3hZ56BqaXQnpWQ', '6TdJewpHMtn6cJBSwgXbcW', 'changeGraph', 'eyJpZCI6IDc4LCAidHlwZSI6ICJ2ZXJ0ZXgiLCAicHJvcHMiOiB7ImNvbG9yIjogMTY3MTE2ODB9fQo=');</script>\n",
       "    "
      ],
      "text/plain": [
       "<IPython.core.display.HTML object>"
      ]
     },
     "metadata": {},
     "output_type": "display_data"
    },
    {
     "data": {
      "text/html": [
       "\n",
       "        <div id=\"F7mP3uArijUQmHxnCzgth5\"></div>\n",
       "        <script>netpixi.call('F7mP3uArijUQmHxnCzgth5', '6TdJewpHMtn6cJBSwgXbcW', 'changeGraph', 'eyJpZCI6IDE0MCwgInR5cGUiOiAidmVydGV4IiwgInByb3BzIjogeyJzaXplIjogMTMuNTk4MzI2MzU5ODMyNjM3fX0K');</script>\n",
       "    "
      ],
      "text/plain": [
       "<IPython.core.display.HTML object>"
      ]
     },
     "metadata": {},
     "output_type": "display_data"
    },
    {
     "data": {
      "text/html": [
       "\n",
       "        <div id=\"8Grntasy3jqBcLfDutYgh2\"></div>\n",
       "        <script>netpixi.call('8Grntasy3jqBcLfDutYgh2', '6TdJewpHMtn6cJBSwgXbcW', 'changeGraph', 'eyJpZCI6IDgzLCAidHlwZSI6ICJ2ZXJ0ZXgiLCAicHJvcHMiOiB7ImNvbG9yIjogMTY3MTE2ODB9fQo=');</script>\n",
       "    "
      ],
      "text/plain": [
       "<IPython.core.display.HTML object>"
      ]
     },
     "metadata": {},
     "output_type": "display_data"
    },
    {
     "data": {
      "text/html": [
       "\n",
       "        <div id=\"hnSg3rZbkjbt3RKYHmLvHQ\"></div>\n",
       "        <script>netpixi.call('hnSg3rZbkjbt3RKYHmLvHQ', '6TdJewpHMtn6cJBSwgXbcW', 'changeGraph', 'eyJpZCI6IDE0MSwgInR5cGUiOiAidmVydGV4IiwgInByb3BzIjogeyJzaXplIjogMTIuOTI4ODcwMjkyODg3MDN9fQo=');</script>\n",
       "    "
      ],
      "text/plain": [
       "<IPython.core.display.HTML object>"
      ]
     },
     "metadata": {},
     "output_type": "display_data"
    },
    {
     "data": {
      "text/html": [
       "\n",
       "        <div id=\"FBwKLnBXCdxDR7CMikCyCq\"></div>\n",
       "        <script>netpixi.call('FBwKLnBXCdxDR7CMikCyCq', '6TdJewpHMtn6cJBSwgXbcW', 'changeGraph', 'eyJpZCI6IDc4LCAidHlwZSI6ICJ2ZXJ0ZXgiLCAicHJvcHMiOiB7ImNvbG9yIjogMTY3MTE2ODB9fQo=');</script>\n",
       "    "
      ],
      "text/plain": [
       "<IPython.core.display.HTML object>"
      ]
     },
     "metadata": {},
     "output_type": "display_data"
    },
    {
     "data": {
      "text/html": [
       "\n",
       "        <div id=\"Ar7Eo5XR5EVjvcMHDxewKe\"></div>\n",
       "        <script>netpixi.call('Ar7Eo5XR5EVjvcMHDxewKe', '6TdJewpHMtn6cJBSwgXbcW', 'changeGraph', 'eyJpZCI6IDE0MiwgInR5cGUiOiAidmVydGV4IiwgInByb3BzIjogeyJzaXplIjogMTQuMjY3NzgyNDI2Nzc4MjQzfX0K');</script>\n",
       "    "
      ],
      "text/plain": [
       "<IPython.core.display.HTML object>"
      ]
     },
     "metadata": {},
     "output_type": "display_data"
    },
    {
     "data": {
      "text/html": [
       "\n",
       "        <div id=\"ABKdFYXhCQ4wiiWHKqUgKF\"></div>\n",
       "        <script>netpixi.call('ABKdFYXhCQ4wiiWHKqUgKF', '6TdJewpHMtn6cJBSwgXbcW', 'changeGraph', 'eyJpZCI6IDc4LCAidHlwZSI6ICJ2ZXJ0ZXgiLCAicHJvcHMiOiB7ImNvbG9yIjogMTY3MTE2ODB9fQo=');</script>\n",
       "    "
      ],
      "text/plain": [
       "<IPython.core.display.HTML object>"
      ]
     },
     "metadata": {},
     "output_type": "display_data"
    },
    {
     "data": {
      "text/html": [
       "\n",
       "        <div id=\"oRSDcV2hFfeo2J7JatoExb\"></div>\n",
       "        <script>netpixi.call('oRSDcV2hFfeo2J7JatoExb', '6TdJewpHMtn6cJBSwgXbcW', 'changeGraph', 'eyJpZCI6IDE0MywgInR5cGUiOiAidmVydGV4IiwgInByb3BzIjogeyJzaXplIjogMTUuMTQ2NDQzNTE0NjQ0MzV9fQo=');</script>\n",
       "    "
      ],
      "text/plain": [
       "<IPython.core.display.HTML object>"
      ]
     },
     "metadata": {},
     "output_type": "display_data"
    },
    {
     "data": {
      "text/html": [
       "\n",
       "        <div id=\"gag2zNcN9x8JYy4nmqnMR9\"></div>\n",
       "        <script>netpixi.call('gag2zNcN9x8JYy4nmqnMR9', '6TdJewpHMtn6cJBSwgXbcW', 'changeGraph', 'eyJpZCI6IDc4LCAidHlwZSI6ICJ2ZXJ0ZXgiLCAicHJvcHMiOiB7ImNvbG9yIjogMTY3MTE2ODB9fQo=');</script>\n",
       "    "
      ],
      "text/plain": [
       "<IPython.core.display.HTML object>"
      ]
     },
     "metadata": {},
     "output_type": "display_data"
    },
    {
     "data": {
      "text/html": [
       "\n",
       "        <div id=\"eHyqgcxNhgxHyLFRtJdxo4\"></div>\n",
       "        <script>netpixi.call('eHyqgcxNhgxHyLFRtJdxo4', '6TdJewpHMtn6cJBSwgXbcW', 'changeGraph', 'eyJpZCI6IDE0NCwgInR5cGUiOiAidmVydGV4IiwgInByb3BzIjogeyJzaXplIjogMTEuMDA0MTg0MTAwNDE4NDF9fQo=');</script>\n",
       "    "
      ],
      "text/plain": [
       "<IPython.core.display.HTML object>"
      ]
     },
     "metadata": {},
     "output_type": "display_data"
    },
    {
     "data": {
      "text/html": [
       "\n",
       "        <div id=\"R4LjS54qqVnkXwZD4RSt9S\"></div>\n",
       "        <script>netpixi.call('R4LjS54qqVnkXwZD4RSt9S', '6TdJewpHMtn6cJBSwgXbcW', 'changeGraph', 'eyJpZCI6IDUzLCAidHlwZSI6ICJ2ZXJ0ZXgiLCAicHJvcHMiOiB7ImNvbG9yIjogMTY3MTE2ODB9fQo=');</script>\n",
       "    "
      ],
      "text/plain": [
       "<IPython.core.display.HTML object>"
      ]
     },
     "metadata": {},
     "output_type": "display_data"
    },
    {
     "data": {
      "text/html": [
       "\n",
       "        <div id=\"moXojBSs9rfehyVRLRU9UX\"></div>\n",
       "        <script>netpixi.call('moXojBSs9rfehyVRLRU9UX', '6TdJewpHMtn6cJBSwgXbcW', 'changeGraph', 'eyJpZCI6IDE0NSwgInR5cGUiOiAidmVydGV4IiwgInByb3BzIjogeyJzaXplIjogMTYuMjM0MzA5NjIzNDMwOTZ9fQo=');</script>\n",
       "    "
      ],
      "text/plain": [
       "<IPython.core.display.HTML object>"
      ]
     },
     "metadata": {},
     "output_type": "display_data"
    },
    {
     "data": {
      "text/html": [
       "\n",
       "        <div id=\"haimKtYaZvHh4aakCF5mTQ\"></div>\n",
       "        <script>netpixi.call('haimKtYaZvHh4aakCF5mTQ', '6TdJewpHMtn6cJBSwgXbcW', 'changeGraph', 'eyJpZCI6IDk0LCAidHlwZSI6ICJ2ZXJ0ZXgiLCAicHJvcHMiOiB7ImNvbG9yIjogMTY3MTE2ODB9fQo=');</script>\n",
       "    "
      ],
      "text/plain": [
       "<IPython.core.display.HTML object>"
      ]
     },
     "metadata": {},
     "output_type": "display_data"
    },
    {
     "data": {
      "text/html": [
       "\n",
       "        <div id=\"bV9mySfjAzxeFZ3QZBvNXQ\"></div>\n",
       "        <script>netpixi.call('bV9mySfjAzxeFZ3QZBvNXQ', '6TdJewpHMtn6cJBSwgXbcW', 'changeGraph', 'eyJpZCI6IDE0NiwgInR5cGUiOiAidmVydGV4IiwgInByb3BzIjogeyJzaXplIjogMTQuMTQyMjU5NDE0MjI1OTR9fQo=');</script>\n",
       "    "
      ],
      "text/plain": [
       "<IPython.core.display.HTML object>"
      ]
     },
     "metadata": {},
     "output_type": "display_data"
    },
    {
     "data": {
      "text/html": [
       "\n",
       "        <div id=\"4neuLE5DcVhmMaXDZknqxb\"></div>\n",
       "        <script>netpixi.call('4neuLE5DcVhmMaXDZknqxb', '6TdJewpHMtn6cJBSwgXbcW', 'changeGraph', 'eyJpZCI6IDc2LCAidHlwZSI6ICJ2ZXJ0ZXgiLCAicHJvcHMiOiB7ImNvbG9yIjogMTY3MTE2ODB9fQo=');</script>\n",
       "    "
      ],
      "text/plain": [
       "<IPython.core.display.HTML object>"
      ]
     },
     "metadata": {},
     "output_type": "display_data"
    },
    {
     "data": {
      "text/html": [
       "\n",
       "        <div id=\"3KaQ9vK8bF7xtaqLt6Tgo8\"></div>\n",
       "        <script>netpixi.call('3KaQ9vK8bF7xtaqLt6Tgo8', '6TdJewpHMtn6cJBSwgXbcW', 'changeGraph', 'eyJpZCI6IDE0NywgInR5cGUiOiAidmVydGV4IiwgInByb3BzIjogeyJzaXplIjogMTIuOTcwNzExMjk3MDcxMTN9fQo=');</script>\n",
       "    "
      ],
      "text/plain": [
       "<IPython.core.display.HTML object>"
      ]
     },
     "metadata": {},
     "output_type": "display_data"
    },
    {
     "data": {
      "text/html": [
       "\n",
       "        <div id=\"WRcYuGtSkAATjXnvFQ9PSE\"></div>\n",
       "        <script>netpixi.call('WRcYuGtSkAATjXnvFQ9PSE', '6TdJewpHMtn6cJBSwgXbcW', 'changeGraph', 'eyJpZCI6IDU0LCAidHlwZSI6ICJ2ZXJ0ZXgiLCAicHJvcHMiOiB7ImNvbG9yIjogMTY3MTE2ODB9fQo=');</script>\n",
       "    "
      ],
      "text/plain": [
       "<IPython.core.display.HTML object>"
      ]
     },
     "metadata": {},
     "output_type": "display_data"
    },
    {
     "data": {
      "text/html": [
       "\n",
       "        <div id=\"VRPhpDZXQrhaEXQniQZZdf\"></div>\n",
       "        <script>netpixi.call('VRPhpDZXQrhaEXQniQZZdf', '6TdJewpHMtn6cJBSwgXbcW', 'changeGraph', 'eyJpZCI6IDE0OCwgInR5cGUiOiAidmVydGV4IiwgInByb3BzIjogeyJzaXplIjogMTEuMDQ2MDI1MTA0NjAyNTF9fQo=');</script>\n",
       "    "
      ],
      "text/plain": [
       "<IPython.core.display.HTML object>"
      ]
     },
     "metadata": {},
     "output_type": "display_data"
    },
    {
     "data": {
      "text/html": [
       "\n",
       "        <div id=\"kn85ttZ9xyQ2UzURGQghTF\"></div>\n",
       "        <script>netpixi.call('kn85ttZ9xyQ2UzURGQghTF', '6TdJewpHMtn6cJBSwgXbcW', 'changeGraph', 'eyJpZCI6IDY4LCAidHlwZSI6ICJ2ZXJ0ZXgiLCAicHJvcHMiOiB7ImNvbG9yIjogMTY3MTE2ODB9fQo=');</script>\n",
       "    "
      ],
      "text/plain": [
       "<IPython.core.display.HTML object>"
      ]
     },
     "metadata": {},
     "output_type": "display_data"
    },
    {
     "data": {
      "text/html": [
       "\n",
       "        <div id=\"ZbVcAxQethPrSj6WxU4yrR\"></div>\n",
       "        <script>netpixi.call('ZbVcAxQethPrSj6WxU4yrR', '6TdJewpHMtn6cJBSwgXbcW', 'changeGraph', 'eyJpZCI6IDE0OSwgInR5cGUiOiAidmVydGV4IiwgInByb3BzIjogeyJzaXplIjogNDQuNjY2NjY2NjY2NjY2Njd9fQo=');</script>\n",
       "    "
      ],
      "text/plain": [
       "<IPython.core.display.HTML object>"
      ]
     },
     "metadata": {},
     "output_type": "display_data"
    },
    {
     "data": {
      "text/html": [
       "\n",
       "        <div id=\"YDH4JTLPKhSb3qNPUuczYP\"></div>\n",
       "        <script>netpixi.call('YDH4JTLPKhSb3qNPUuczYP', '6TdJewpHMtn6cJBSwgXbcW', 'changeGraph', 'eyJpZCI6IDY1LCAidHlwZSI6ICJ2ZXJ0ZXgiLCAicHJvcHMiOiB7ImNvbG9yIjogMTY3MTE2ODB9fQo=');</script>\n",
       "    "
      ],
      "text/plain": [
       "<IPython.core.display.HTML object>"
      ]
     },
     "metadata": {},
     "output_type": "display_data"
    },
    {
     "data": {
      "text/html": [
       "\n",
       "        <div id=\"WHJb6uJanpHxvxAD4hGqe2\"></div>\n",
       "        <script>netpixi.call('WHJb6uJanpHxvxAD4hGqe2', '6TdJewpHMtn6cJBSwgXbcW', 'changeGraph', 'eyJpZCI6IDE1MCwgInR5cGUiOiAidmVydGV4IiwgInByb3BzIjogeyJzaXplIjogNDQuODMzMzMzMzMzMzMzMzM2fX0K');</script>\n",
       "    "
      ],
      "text/plain": [
       "<IPython.core.display.HTML object>"
      ]
     },
     "metadata": {},
     "output_type": "display_data"
    },
    {
     "data": {
      "text/html": [
       "\n",
       "        <div id=\"UHpLvTKSUW2bRZ2e2gLuin\"></div>\n",
       "        <script>netpixi.call('UHpLvTKSUW2bRZ2e2gLuin', '6TdJewpHMtn6cJBSwgXbcW', 'changeGraph', 'eyJpZCI6IDkwLCAidHlwZSI6ICJ2ZXJ0ZXgiLCAicHJvcHMiOiB7ImNvbG9yIjogMTY3MTE2ODB9fQo=');</script>\n",
       "    "
      ],
      "text/plain": [
       "<IPython.core.display.HTML object>"
      ]
     },
     "metadata": {},
     "output_type": "display_data"
    },
    {
     "data": {
      "text/html": [
       "\n",
       "        <div id=\"gAZhg3pM5ze4w9k35dWrKq\"></div>\n",
       "        <script>netpixi.call('gAZhg3pM5ze4w9k35dWrKq', '6TdJewpHMtn6cJBSwgXbcW', 'changeGraph', 'eyJpZCI6IDE1MSwgInR5cGUiOiAidmVydGV4IiwgInByb3BzIjogeyJzaXplIjogMTguNDUxODgyODQ1MTg4MjgzfX0K');</script>\n",
       "    "
      ],
      "text/plain": [
       "<IPython.core.display.HTML object>"
      ]
     },
     "metadata": {},
     "output_type": "display_data"
    },
    {
     "data": {
      "text/html": [
       "\n",
       "        <div id=\"gdqdQGjYv5ordXGAd59J7n\"></div>\n",
       "        <script>netpixi.call('gdqdQGjYv5ordXGAd59J7n', '6TdJewpHMtn6cJBSwgXbcW', 'changeGraph', 'eyJpZCI6IDg4LCAidHlwZSI6ICJ2ZXJ0ZXgiLCAicHJvcHMiOiB7ImNvbG9yIjogMTY3MTE2ODB9fQo=');</script>\n",
       "    "
      ],
      "text/plain": [
       "<IPython.core.display.HTML object>"
      ]
     },
     "metadata": {},
     "output_type": "display_data"
    },
    {
     "data": {
      "text/html": [
       "\n",
       "        <div id=\"kiyYGUoPNVJ2xRNvYdq2r9\"></div>\n",
       "        <script>netpixi.call('kiyYGUoPNVJ2xRNvYdq2r9', '6TdJewpHMtn6cJBSwgXbcW', 'changeGraph', 'eyJpZCI6IDE1MiwgInR5cGUiOiAidmVydGV4IiwgInByb3BzIjogeyJzaXplIjogMTQuMzUxNDY0NDM1MTQ2NDQzfX0K');</script>\n",
       "    "
      ],
      "text/plain": [
       "<IPython.core.display.HTML object>"
      ]
     },
     "metadata": {},
     "output_type": "display_data"
    },
    {
     "data": {
      "text/html": [
       "\n",
       "        <div id=\"nPL5mvpCvTqDS3yMBDSE3X\"></div>\n",
       "        <script>netpixi.call('nPL5mvpCvTqDS3yMBDSE3X', '6TdJewpHMtn6cJBSwgXbcW', 'changeGraph', 'eyJpZCI6IDg2LCAidHlwZSI6ICJ2ZXJ0ZXgiLCAicHJvcHMiOiB7ImNvbG9yIjogMTY3MTE2ODB9fQo=');</script>\n",
       "    "
      ],
      "text/plain": [
       "<IPython.core.display.HTML object>"
      ]
     },
     "metadata": {},
     "output_type": "display_data"
    },
    {
     "data": {
      "text/html": [
       "\n",
       "        <div id=\"Qq8LRNmkjX4vhGq6kuEyzp\"></div>\n",
       "        <script>netpixi.call('Qq8LRNmkjX4vhGq6kuEyzp', '6TdJewpHMtn6cJBSwgXbcW', 'changeGraph', 'eyJpZCI6IDE1MywgInR5cGUiOiAidmVydGV4IiwgInByb3BzIjogeyJzaXplIjogMTQuODUzNTU2NDg1MzU1NjQ4fX0K');</script>\n",
       "    "
      ],
      "text/plain": [
       "<IPython.core.display.HTML object>"
      ]
     },
     "metadata": {},
     "output_type": "display_data"
    },
    {
     "data": {
      "text/html": [
       "\n",
       "        <div id=\"Z4pCvLnLgvtXB4mPyqQhsH\"></div>\n",
       "        <script>netpixi.call('Z4pCvLnLgvtXB4mPyqQhsH', '6TdJewpHMtn6cJBSwgXbcW', 'changeGraph', 'eyJpZCI6IDcyLCAidHlwZSI6ICJ2ZXJ0ZXgiLCAicHJvcHMiOiB7ImNvbG9yIjogMTY3MTE2ODB9fQo=');</script>\n",
       "    "
      ],
      "text/plain": [
       "<IPython.core.display.HTML object>"
      ]
     },
     "metadata": {},
     "output_type": "display_data"
    },
    {
     "data": {
      "text/html": [
       "\n",
       "        <div id=\"QDaUJVHBTPoohJrkBTCL4L\"></div>\n",
       "        <script>netpixi.call('QDaUJVHBTPoohJrkBTCL4L', '6TdJewpHMtn6cJBSwgXbcW', 'changeGraph', 'eyJpZCI6IDE1NCwgInR5cGUiOiAidmVydGV4IiwgInByb3BzIjogeyJzaXplIjogMTguMDc1MzEzODA3NTMxMzh9fQo=');</script>\n",
       "    "
      ],
      "text/plain": [
       "<IPython.core.display.HTML object>"
      ]
     },
     "metadata": {},
     "output_type": "display_data"
    },
    {
     "data": {
      "text/html": [
       "\n",
       "        <div id=\"QQLrR9T4JF78vRuECNLgxR\"></div>\n",
       "        <script>netpixi.call('QQLrR9T4JF78vRuECNLgxR', '6TdJewpHMtn6cJBSwgXbcW', 'changeGraph', 'eyJpZCI6IDgyLCAidHlwZSI6ICJ2ZXJ0ZXgiLCAicHJvcHMiOiB7ImNvbG9yIjogMTY3MTE2ODB9fQo=');</script>\n",
       "    "
      ],
      "text/plain": [
       "<IPython.core.display.HTML object>"
      ]
     },
     "metadata": {},
     "output_type": "display_data"
    },
    {
     "data": {
      "text/html": [
       "\n",
       "        <div id=\"9jQv2EQ5bk8VKiLeJBCHJL\"></div>\n",
       "        <script>netpixi.call('9jQv2EQ5bk8VKiLeJBCHJL', '6TdJewpHMtn6cJBSwgXbcW', 'changeGraph', 'eyJpZCI6IDE1NSwgInR5cGUiOiAidmVydGV4IiwgInByb3BzIjogeyJzaXplIjogMTYuMTUwNjI3NjE1MDYyNzZ9fQo=');</script>\n",
       "    "
      ],
      "text/plain": [
       "<IPython.core.display.HTML object>"
      ]
     },
     "metadata": {},
     "output_type": "display_data"
    },
    {
     "data": {
      "text/html": [
       "\n",
       "        <div id=\"Ra6ba8KQFmjHzYX3sFWg6E\"></div>\n",
       "        <script>netpixi.call('Ra6ba8KQFmjHzYX3sFWg6E', '6TdJewpHMtn6cJBSwgXbcW', 'changeGraph', 'eyJpZCI6IDg2LCAidHlwZSI6ICJ2ZXJ0ZXgiLCAicHJvcHMiOiB7ImNvbG9yIjogMTY3MTE2ODB9fQo=');</script>\n",
       "    "
      ],
      "text/plain": [
       "<IPython.core.display.HTML object>"
      ]
     },
     "metadata": {},
     "output_type": "display_data"
    },
    {
     "data": {
      "text/html": [
       "\n",
       "        <div id=\"kAonpbr5fMUhhWaKP3w85d\"></div>\n",
       "        <script>netpixi.call('kAonpbr5fMUhhWaKP3w85d', '6TdJewpHMtn6cJBSwgXbcW', 'changeGraph', 'eyJpZCI6IDE1NiwgInR5cGUiOiAidmVydGV4IiwgInByb3BzIjogeyJzaXplIjogNDkuMH19Cg==');</script>\n",
       "    "
      ],
      "text/plain": [
       "<IPython.core.display.HTML object>"
      ]
     },
     "metadata": {},
     "output_type": "display_data"
    },
    {
     "data": {
      "text/html": [
       "\n",
       "        <div id=\"jFgwPYuucCTEXfTdMPvnDP\"></div>\n",
       "        <script>netpixi.call('jFgwPYuucCTEXfTdMPvnDP', '6TdJewpHMtn6cJBSwgXbcW', 'changeGraph', 'eyJpZCI6IDgxLCAidHlwZSI6ICJ2ZXJ0ZXgiLCAicHJvcHMiOiB7ImNvbG9yIjogMTY3MTE2ODB9fQo=');</script>\n",
       "    "
      ],
      "text/plain": [
       "<IPython.core.display.HTML object>"
      ]
     },
     "metadata": {},
     "output_type": "display_data"
    },
    {
     "data": {
      "text/html": [
       "\n",
       "        <div id=\"TT38Wzs9ECprq3WPZWaL9d\"></div>\n",
       "        <script>netpixi.call('TT38Wzs9ECprq3WPZWaL9d', '6TdJewpHMtn6cJBSwgXbcW', 'changeGraph', 'eyJpZCI6IDE1NywgInR5cGUiOiAidmVydGV4IiwgInByb3BzIjogeyJzaXplIjogMTAuNTQzOTMzMDU0MzkzMzA1fX0K');</script>\n",
       "    "
      ],
      "text/plain": [
       "<IPython.core.display.HTML object>"
      ]
     },
     "metadata": {},
     "output_type": "display_data"
    },
    {
     "data": {
      "text/html": [
       "\n",
       "        <div id=\"nWCupAYuvjsx8GVFKJ8gAr\"></div>\n",
       "        <script>netpixi.call('nWCupAYuvjsx8GVFKJ8gAr', '6TdJewpHMtn6cJBSwgXbcW', 'changeGraph', 'eyJpZCI6IDY5LCAidHlwZSI6ICJ2ZXJ0ZXgiLCAicHJvcHMiOiB7ImNvbG9yIjogMTY3MTE2ODB9fQo=');</script>\n",
       "    "
      ],
      "text/plain": [
       "<IPython.core.display.HTML object>"
      ]
     },
     "metadata": {},
     "output_type": "display_data"
    },
    {
     "data": {
      "text/html": [
       "\n",
       "        <div id=\"DrUmTsFDtzJRqN3PbjW8Xu\"></div>\n",
       "        <script>netpixi.call('DrUmTsFDtzJRqN3PbjW8Xu', '6TdJewpHMtn6cJBSwgXbcW', 'changeGraph', 'eyJpZCI6IDE1OCwgInR5cGUiOiAidmVydGV4IiwgInByb3BzIjogeyJzaXplIjogMTEuMTI5NzA3MTEyOTcwNzEyfX0K');</script>\n",
       "    "
      ],
      "text/plain": [
       "<IPython.core.display.HTML object>"
      ]
     },
     "metadata": {},
     "output_type": "display_data"
    },
    {
     "data": {
      "text/html": [
       "\n",
       "        <div id=\"7Zi57QSJwuHZKF3jmvRBiJ\"></div>\n",
       "        <script>netpixi.call('7Zi57QSJwuHZKF3jmvRBiJ', '6TdJewpHMtn6cJBSwgXbcW', 'changeGraph', 'eyJpZCI6IDcwLCAidHlwZSI6ICJ2ZXJ0ZXgiLCAicHJvcHMiOiB7ImNvbG9yIjogMTY3MTE2ODB9fQo=');</script>\n",
       "    "
      ],
      "text/plain": [
       "<IPython.core.display.HTML object>"
      ]
     },
     "metadata": {},
     "output_type": "display_data"
    },
    {
     "data": {
      "text/html": [
       "\n",
       "        <div id=\"4NgPvRwMRNvbuwdPbuFZYi\"></div>\n",
       "        <script>netpixi.call('4NgPvRwMRNvbuwdPbuFZYi', '6TdJewpHMtn6cJBSwgXbcW', 'changeGraph', 'eyJpZCI6IDE1OSwgInR5cGUiOiAidmVydGV4IiwgInByb3BzIjogeyJzaXplIjogMTAuNTAyMDkyMDUwMjA5MjA1fX0K');</script>\n",
       "    "
      ],
      "text/plain": [
       "<IPython.core.display.HTML object>"
      ]
     },
     "metadata": {},
     "output_type": "display_data"
    },
    {
     "data": {
      "text/html": [
       "\n",
       "        <div id=\"2bNDMyaqeYDwEVUpPXn3nb\"></div>\n",
       "        <script>netpixi.call('2bNDMyaqeYDwEVUpPXn3nb', '6TdJewpHMtn6cJBSwgXbcW', 'changeGraph', 'eyJpZCI6IDY1LCAidHlwZSI6ICJ2ZXJ0ZXgiLCAicHJvcHMiOiB7ImNvbG9yIjogMTY3MTE2ODB9fQo=');</script>\n",
       "    "
      ],
      "text/plain": [
       "<IPython.core.display.HTML object>"
      ]
     },
     "metadata": {},
     "output_type": "display_data"
    },
    {
     "data": {
      "text/html": [
       "\n",
       "        <div id=\"X8M6E5Ag3sAWhimMxzHD5J\"></div>\n",
       "        <script>netpixi.call('X8M6E5Ag3sAWhimMxzHD5J', '6TdJewpHMtn6cJBSwgXbcW', 'changeGraph', 'eyJpZCI6IDE2MCwgInR5cGUiOiAidmVydGV4IiwgInByb3BzIjogeyJzaXplIjogNDcuODMzMzMzMzMzMzMzMzN9fQo=');</script>\n",
       "    "
      ],
      "text/plain": [
       "<IPython.core.display.HTML object>"
      ]
     },
     "metadata": {},
     "output_type": "display_data"
    },
    {
     "data": {
      "text/html": [
       "\n",
       "        <div id=\"bYWryVyZqPgcXsouDkuq9t\"></div>\n",
       "        <script>netpixi.call('bYWryVyZqPgcXsouDkuq9t', '6TdJewpHMtn6cJBSwgXbcW', 'changeGraph', 'eyJpZCI6IDc2LCAidHlwZSI6ICJ2ZXJ0ZXgiLCAicHJvcHMiOiB7ImNvbG9yIjogMTY3MTE2ODB9fQo=');</script>\n",
       "    "
      ],
      "text/plain": [
       "<IPython.core.display.HTML object>"
      ]
     },
     "metadata": {},
     "output_type": "display_data"
    },
    {
     "data": {
      "text/html": [
       "\n",
       "        <div id=\"jag5XGeZVYL8nnefJXnKP9\"></div>\n",
       "        <script>netpixi.call('jag5XGeZVYL8nnefJXnKP9', '6TdJewpHMtn6cJBSwgXbcW', 'changeGraph', 'eyJpZCI6IDE2MSwgInR5cGUiOiAidmVydGV4IiwgInByb3BzIjogeyJzaXplIjogMTMuODA3NTMxMzgwNzUzMTM4fX0K');</script>\n",
       "    "
      ],
      "text/plain": [
       "<IPython.core.display.HTML object>"
      ]
     },
     "metadata": {},
     "output_type": "display_data"
    },
    {
     "data": {
      "text/html": [
       "\n",
       "        <div id=\"XVEkvag8rjDd436aaooLuN\"></div>\n",
       "        <script>netpixi.call('XVEkvag8rjDd436aaooLuN', '6TdJewpHMtn6cJBSwgXbcW', 'changeGraph', 'eyJpZCI6IDg0LCAidHlwZSI6ICJ2ZXJ0ZXgiLCAicHJvcHMiOiB7ImNvbG9yIjogMTY3MTE2ODB9fQo=');</script>\n",
       "    "
      ],
      "text/plain": [
       "<IPython.core.display.HTML object>"
      ]
     },
     "metadata": {},
     "output_type": "display_data"
    },
    {
     "data": {
      "text/html": [
       "\n",
       "        <div id=\"CJxJUazFsVjomXTXaKcQw2\"></div>\n",
       "        <script>netpixi.call('CJxJUazFsVjomXTXaKcQw2', '6TdJewpHMtn6cJBSwgXbcW', 'changeGraph', 'eyJpZCI6IDE2MiwgInR5cGUiOiAidmVydGV4IiwgInByb3BzIjogeyJzaXplIjogNDQuMzMzMzMzMzMzMzMzMzM2fX0K');</script>\n",
       "    "
      ],
      "text/plain": [
       "<IPython.core.display.HTML object>"
      ]
     },
     "metadata": {},
     "output_type": "display_data"
    },
    {
     "data": {
      "text/html": [
       "\n",
       "        <div id=\"RkURqw4Taa9Le3AMRomWmA\"></div>\n",
       "        <script>netpixi.call('RkURqw4Taa9Le3AMRomWmA', '6TdJewpHMtn6cJBSwgXbcW', 'changeGraph', 'eyJpZCI6IDczLCAidHlwZSI6ICJ2ZXJ0ZXgiLCAicHJvcHMiOiB7ImNvbG9yIjogMTY3MTE2ODB9fQo=');</script>\n",
       "    "
      ],
      "text/plain": [
       "<IPython.core.display.HTML object>"
      ]
     },
     "metadata": {},
     "output_type": "display_data"
    },
    {
     "data": {
      "text/html": [
       "\n",
       "        <div id=\"gdPpLDVZRrnheNcqS9GULg\"></div>\n",
       "        <script>netpixi.call('gdPpLDVZRrnheNcqS9GULg', '6TdJewpHMtn6cJBSwgXbcW', 'changeGraph', 'eyJpZCI6IDE2MywgInR5cGUiOiAidmVydGV4IiwgInByb3BzIjogeyJzaXplIjogMTguMzY4MjAwODM2ODIwMDgzfX0K');</script>\n",
       "    "
      ],
      "text/plain": [
       "<IPython.core.display.HTML object>"
      ]
     },
     "metadata": {},
     "output_type": "display_data"
    },
    {
     "data": {
      "text/html": [
       "\n",
       "        <div id=\"i9VGykU8E87nZtKpjgdxXG\"></div>\n",
       "        <script>netpixi.call('i9VGykU8E87nZtKpjgdxXG', '6TdJewpHMtn6cJBSwgXbcW', 'changeGraph', 'eyJpZCI6IDgxLCAidHlwZSI6ICJ2ZXJ0ZXgiLCAicHJvcHMiOiB7ImNvbG9yIjogMTY3MTE2ODB9fQo=');</script>\n",
       "    "
      ],
      "text/plain": [
       "<IPython.core.display.HTML object>"
      ]
     },
     "metadata": {},
     "output_type": "display_data"
    },
    {
     "data": {
      "text/html": [
       "\n",
       "        <div id=\"K5o2nuNa9s7hSuBojKbBT4\"></div>\n",
       "        <script>netpixi.call('K5o2nuNa9s7hSuBojKbBT4', '6TdJewpHMtn6cJBSwgXbcW', 'changeGraph', 'eyJpZCI6IDE2NCwgInR5cGUiOiAidmVydGV4IiwgInByb3BzIjogeyJzaXplIjogMTQuOTc5MDc5NDk3OTA3OTV9fQo=');</script>\n",
       "    "
      ],
      "text/plain": [
       "<IPython.core.display.HTML object>"
      ]
     },
     "metadata": {},
     "output_type": "display_data"
    },
    {
     "data": {
      "text/html": [
       "\n",
       "        <div id=\"58qUiA8YCUNmhY6pHC6xLo\"></div>\n",
       "        <script>netpixi.call('58qUiA8YCUNmhY6pHC6xLo', '6TdJewpHMtn6cJBSwgXbcW', 'changeGraph', 'eyJpZCI6IDg2LCAidHlwZSI6ICJ2ZXJ0ZXgiLCAicHJvcHMiOiB7ImNvbG9yIjogMTY3MTE2ODB9fQo=');</script>\n",
       "    "
      ],
      "text/plain": [
       "<IPython.core.display.HTML object>"
      ]
     },
     "metadata": {},
     "output_type": "display_data"
    },
    {
     "data": {
      "text/html": [
       "\n",
       "        <div id=\"8iSLe8a25tSxzEbC7b5WKh\"></div>\n",
       "        <script>netpixi.call('8iSLe8a25tSxzEbC7b5WKh', '6TdJewpHMtn6cJBSwgXbcW', 'changeGraph', 'eyJpZCI6IDE2NSwgInR5cGUiOiAidmVydGV4IiwgInByb3BzIjogeyJzaXplIjogMTUuNTIzMDEyNTUyMzAxMjU1fX0K');</script>\n",
       "    "
      ],
      "text/plain": [
       "<IPython.core.display.HTML object>"
      ]
     },
     "metadata": {},
     "output_type": "display_data"
    },
    {
     "data": {
      "text/html": [
       "\n",
       "        <div id=\"7WSLntaeQ6CwF3pD95bomY\"></div>\n",
       "        <script>netpixi.call('7WSLntaeQ6CwF3pD95bomY', '6TdJewpHMtn6cJBSwgXbcW', 'changeGraph', 'eyJpZCI6IDg3LCAidHlwZSI6ICJ2ZXJ0ZXgiLCAicHJvcHMiOiB7ImNvbG9yIjogMTY3MTE2ODB9fQo=');</script>\n",
       "    "
      ],
      "text/plain": [
       "<IPython.core.display.HTML object>"
      ]
     },
     "metadata": {},
     "output_type": "display_data"
    },
    {
     "data": {
      "text/html": [
       "\n",
       "        <div id=\"irdcaVEckz8hrHotmUMf9Q\"></div>\n",
       "        <script>netpixi.call('irdcaVEckz8hrHotmUMf9Q', '6TdJewpHMtn6cJBSwgXbcW', 'changeGraph', 'eyJpZCI6IDE2NiwgInR5cGUiOiAidmVydGV4IiwgInByb3BzIjogeyJzaXplIjogMTguNzAyOTI4ODcwMjkyODg3fX0K');</script>\n",
       "    "
      ],
      "text/plain": [
       "<IPython.core.display.HTML object>"
      ]
     },
     "metadata": {},
     "output_type": "display_data"
    },
    {
     "data": {
      "text/html": [
       "\n",
       "        <div id=\"C9XJFHGEsP9cyQD4qV9Nuk\"></div>\n",
       "        <script>netpixi.call('C9XJFHGEsP9cyQD4qV9Nuk', '6TdJewpHMtn6cJBSwgXbcW', 'changeGraph', 'eyJpZCI6IDg5LCAidHlwZSI6ICJ2ZXJ0ZXgiLCAicHJvcHMiOiB7ImNvbG9yIjogMTY3MTE2ODB9fQo=');</script>\n",
       "    "
      ],
      "text/plain": [
       "<IPython.core.display.HTML object>"
      ]
     },
     "metadata": {},
     "output_type": "display_data"
    },
    {
     "data": {
      "text/html": [
       "\n",
       "        <div id=\"SXu9jAPgfnUaExSbwFQJD8\"></div>\n",
       "        <script>netpixi.call('SXu9jAPgfnUaExSbwFQJD8', '6TdJewpHMtn6cJBSwgXbcW', 'changeGraph', 'eyJpZCI6IDE2NywgInR5cGUiOiAidmVydGV4IiwgInByb3BzIjogeyJzaXplIjogNDcuNjY2NjY2NjY2NjY2NjY0fX0K');</script>\n",
       "    "
      ],
      "text/plain": [
       "<IPython.core.display.HTML object>"
      ]
     },
     "metadata": {},
     "output_type": "display_data"
    },
    {
     "data": {
      "text/html": [
       "\n",
       "        <div id=\"KbodD7GutLRAX44s4SAnBB\"></div>\n",
       "        <script>netpixi.call('KbodD7GutLRAX44s4SAnBB', '6TdJewpHMtn6cJBSwgXbcW', 'changeGraph', 'eyJpZCI6IDczLCAidHlwZSI6ICJ2ZXJ0ZXgiLCAicHJvcHMiOiB7ImNvbG9yIjogMTY3MTE2ODB9fQo=');</script>\n",
       "    "
      ],
      "text/plain": [
       "<IPython.core.display.HTML object>"
      ]
     },
     "metadata": {},
     "output_type": "display_data"
    },
    {
     "data": {
      "text/html": [
       "\n",
       "        <div id=\"edpKgJrRRyoqmXp8QcTaFv\"></div>\n",
       "        <script>netpixi.call('edpKgJrRRyoqmXp8QcTaFv', '6TdJewpHMtn6cJBSwgXbcW', 'changeGraph', 'eyJpZCI6IDE2OCwgInR5cGUiOiAidmVydGV4IiwgInByb3BzIjogeyJzaXplIjogMTAuNzk0OTc5MDc5NDk3OTA4fX0K');</script>\n",
       "    "
      ],
      "text/plain": [
       "<IPython.core.display.HTML object>"
      ]
     },
     "metadata": {},
     "output_type": "display_data"
    },
    {
     "data": {
      "text/html": [
       "\n",
       "        <div id=\"i2TuhTSH7PokRvqiQTwgnS\"></div>\n",
       "        <script>netpixi.call('i2TuhTSH7PokRvqiQTwgnS', '6TdJewpHMtn6cJBSwgXbcW', 'changeGraph', 'eyJpZCI6IDgwLCAidHlwZSI6ICJ2ZXJ0ZXgiLCAicHJvcHMiOiB7ImNvbG9yIjogMTY3MTE2ODB9fQo=');</script>\n",
       "    "
      ],
      "text/plain": [
       "<IPython.core.display.HTML object>"
      ]
     },
     "metadata": {},
     "output_type": "display_data"
    },
    {
     "data": {
      "text/html": [
       "\n",
       "        <div id=\"BpCjY6fSNnuCHTZpvATeWr\"></div>\n",
       "        <script>netpixi.call('BpCjY6fSNnuCHTZpvATeWr', '6TdJewpHMtn6cJBSwgXbcW', 'changeGraph', 'eyJpZCI6IDE2OSwgInR5cGUiOiAidmVydGV4IiwgInByb3BzIjogeyJzaXplIjogMTUuODE1ODk5NTgxNTg5OTU3fX0K');</script>\n",
       "    "
      ],
      "text/plain": [
       "<IPython.core.display.HTML object>"
      ]
     },
     "metadata": {},
     "output_type": "display_data"
    },
    {
     "data": {
      "text/html": [
       "\n",
       "        <div id=\"2fV42jZqjc4qyJPKZ8SgxN\"></div>\n",
       "        <script>netpixi.call('2fV42jZqjc4qyJPKZ8SgxN', '6TdJewpHMtn6cJBSwgXbcW', 'changeGraph', 'eyJpZCI6IDg1LCAidHlwZSI6ICJ2ZXJ0ZXgiLCAicHJvcHMiOiB7ImNvbG9yIjogMTY3MTE2ODB9fQo=');</script>\n",
       "    "
      ],
      "text/plain": [
       "<IPython.core.display.HTML object>"
      ]
     },
     "metadata": {},
     "output_type": "display_data"
    },
    {
     "data": {
      "text/html": [
       "\n",
       "        <div id=\"U5RLd7LvBFoE4AXpjujtSQ\"></div>\n",
       "        <script>netpixi.call('U5RLd7LvBFoE4AXpjujtSQ', '6TdJewpHMtn6cJBSwgXbcW', 'changeGraph', 'eyJpZCI6IDE3MCwgInR5cGUiOiAidmVydGV4IiwgInByb3BzIjogeyJzaXplIjogNDIuMzMzMzMzMzMzMzMzMzM2fX0K');</script>\n",
       "    "
      ],
      "text/plain": [
       "<IPython.core.display.HTML object>"
      ]
     },
     "metadata": {},
     "output_type": "display_data"
    },
    {
     "data": {
      "text/html": [
       "\n",
       "        <div id=\"kb7C4VJBbKHLLjZH3aSeec\"></div>\n",
       "        <script>netpixi.call('kb7C4VJBbKHLLjZH3aSeec', '6TdJewpHMtn6cJBSwgXbcW', 'changeGraph', 'eyJpZCI6IDY4LCAidHlwZSI6ICJ2ZXJ0ZXgiLCAicHJvcHMiOiB7ImNvbG9yIjogMTY3MTE2ODB9fQo=');</script>\n",
       "    "
      ],
      "text/plain": [
       "<IPython.core.display.HTML object>"
      ]
     },
     "metadata": {},
     "output_type": "display_data"
    },
    {
     "data": {
      "text/html": [
       "\n",
       "        <div id=\"FHtiHqphSUNg7VDLfArygN\"></div>\n",
       "        <script>netpixi.call('FHtiHqphSUNg7VDLfArygN', '6TdJewpHMtn6cJBSwgXbcW', 'changeGraph', 'eyJpZCI6IDE3MSwgInR5cGUiOiAidmVydGV4IiwgInByb3BzIjogeyJzaXplIjogMTEuNzE1NDgxMTcxNTQ4MTE3fX0K');</script>\n",
       "    "
      ],
      "text/plain": [
       "<IPython.core.display.HTML object>"
      ]
     },
     "metadata": {},
     "output_type": "display_data"
    },
    {
     "data": {
      "text/html": [
       "\n",
       "        <div id=\"T8daFSroCazC9osbGz2hrr\"></div>\n",
       "        <script>netpixi.call('T8daFSroCazC9osbGz2hrr', '6TdJewpHMtn6cJBSwgXbcW', 'changeGraph', 'eyJpZCI6IDgyLCAidHlwZSI6ICJ2ZXJ0ZXgiLCAicHJvcHMiOiB7ImNvbG9yIjogMTY3MTE2ODB9fQo=');</script>\n",
       "    "
      ],
      "text/plain": [
       "<IPython.core.display.HTML object>"
      ]
     },
     "metadata": {},
     "output_type": "display_data"
    },
    {
     "data": {
      "text/html": [
       "\n",
       "        <div id=\"UFGCWpNeXheoB5uQmVKWj8\"></div>\n",
       "        <script>netpixi.call('UFGCWpNeXheoB5uQmVKWj8', '6TdJewpHMtn6cJBSwgXbcW', 'changeGraph', 'eyJpZCI6IDE3MiwgInR5cGUiOiAidmVydGV4IiwgInByb3BzIjogeyJzaXplIjogMTMuMTM4MDc1MzEzODA3NTMyfX0K');</script>\n",
       "    "
      ],
      "text/plain": [
       "<IPython.core.display.HTML object>"
      ]
     },
     "metadata": {},
     "output_type": "display_data"
    },
    {
     "data": {
      "text/html": [
       "\n",
       "        <div id=\"MUMaUmqF8Bdsgp5iNH4pjT\"></div>\n",
       "        <script>netpixi.call('MUMaUmqF8Bdsgp5iNH4pjT', '6TdJewpHMtn6cJBSwgXbcW', 'changeGraph', 'eyJpZCI6IDc4LCAidHlwZSI6ICJ2ZXJ0ZXgiLCAicHJvcHMiOiB7ImNvbG9yIjogMTY3MTE2ODB9fQo=');</script>\n",
       "    "
      ],
      "text/plain": [
       "<IPython.core.display.HTML object>"
      ]
     },
     "metadata": {},
     "output_type": "display_data"
    },
    {
     "data": {
      "text/html": [
       "\n",
       "        <div id=\"dkhQmKaE4zQoqDLAEUAzTn\"></div>\n",
       "        <script>netpixi.call('dkhQmKaE4zQoqDLAEUAzTn', '6TdJewpHMtn6cJBSwgXbcW', 'changeGraph', 'eyJpZCI6IDE3MywgInR5cGUiOiAidmVydGV4IiwgInByb3BzIjogeyJzaXplIjogMTcuNzQwNTg1Nzc0MDU4NTc3fX0K');</script>\n",
       "    "
      ],
      "text/plain": [
       "<IPython.core.display.HTML object>"
      ]
     },
     "metadata": {},
     "output_type": "display_data"
    },
    {
     "data": {
      "text/html": [
       "\n",
       "        <div id=\"bnvyoZ5UwSBVr2Z44GkzKP\"></div>\n",
       "        <script>netpixi.call('bnvyoZ5UwSBVr2Z44GkzKP', '6TdJewpHMtn6cJBSwgXbcW', 'changeGraph', 'eyJpZCI6IDgwLCAidHlwZSI6ICJ2ZXJ0ZXgiLCAicHJvcHMiOiB7ImNvbG9yIjogMTY3MTE2ODB9fQo=');</script>\n",
       "    "
      ],
      "text/plain": [
       "<IPython.core.display.HTML object>"
      ]
     },
     "metadata": {},
     "output_type": "display_data"
    },
    {
     "data": {
      "text/html": [
       "\n",
       "        <div id=\"eWvgT2L2o7Hm5PDzzsKs25\"></div>\n",
       "        <script>netpixi.call('eWvgT2L2o7Hm5PDzzsKs25', '6TdJewpHMtn6cJBSwgXbcW', 'changeGraph', 'eyJpZCI6IDE3NCwgInR5cGUiOiAidmVydGV4IiwgInByb3BzIjogeyJzaXplIjogMTkuNzA3MTEyOTcwNzExMjk3fX0K');</script>\n",
       "    "
      ],
      "text/plain": [
       "<IPython.core.display.HTML object>"
      ]
     },
     "metadata": {},
     "output_type": "display_data"
    },
    {
     "data": {
      "text/html": [
       "\n",
       "        <div id=\"6bAUPsy86Q35NSGFisNM2A\"></div>\n",
       "        <script>netpixi.call('6bAUPsy86Q35NSGFisNM2A', '6TdJewpHMtn6cJBSwgXbcW', 'changeGraph', 'eyJpZCI6IDc1LCAidHlwZSI6ICJ2ZXJ0ZXgiLCAicHJvcHMiOiB7ImNvbG9yIjogMTY3MTE2ODB9fQo=');</script>\n",
       "    "
      ],
      "text/plain": [
       "<IPython.core.display.HTML object>"
      ]
     },
     "metadata": {},
     "output_type": "display_data"
    },
    {
     "data": {
      "text/html": [
       "\n",
       "        <div id=\"9oxCwN4W6VpM3fUuw7mPm6\"></div>\n",
       "        <script>netpixi.call('9oxCwN4W6VpM3fUuw7mPm6', '6TdJewpHMtn6cJBSwgXbcW', 'changeGraph', 'eyJpZCI6IDE3NSwgInR5cGUiOiAidmVydGV4IiwgInByb3BzIjogeyJzaXplIjogNDMuMH19Cg==');</script>\n",
       "    "
      ],
      "text/plain": [
       "<IPython.core.display.HTML object>"
      ]
     },
     "metadata": {},
     "output_type": "display_data"
    },
    {
     "data": {
      "text/html": [
       "\n",
       "        <div id=\"9RrtHXEgcC456aLeFs4axh\"></div>\n",
       "        <script>netpixi.call('9RrtHXEgcC456aLeFs4axh', '6TdJewpHMtn6cJBSwgXbcW', 'changeGraph', 'eyJpZCI6IDg1LCAidHlwZSI6ICJ2ZXJ0ZXgiLCAicHJvcHMiOiB7ImNvbG9yIjogMTY3MTE2ODB9fQo=');</script>\n",
       "    "
      ],
      "text/plain": [
       "<IPython.core.display.HTML object>"
      ]
     },
     "metadata": {},
     "output_type": "display_data"
    },
    {
     "data": {
      "text/html": [
       "\n",
       "        <div id=\"GTnbmL9Xm2LYrQFxmHQ32Y\"></div>\n",
       "        <script>netpixi.call('GTnbmL9Xm2LYrQFxmHQ32Y', '6TdJewpHMtn6cJBSwgXbcW', 'changeGraph', 'eyJpZCI6IDE3NiwgInR5cGUiOiAidmVydGV4IiwgInByb3BzIjogeyJzaXplIjogMTkuNDE0MjI1OTQxNDIyNTkzfX0K');</script>\n",
       "    "
      ],
      "text/plain": [
       "<IPython.core.display.HTML object>"
      ]
     },
     "metadata": {},
     "output_type": "display_data"
    },
    {
     "data": {
      "text/html": [
       "\n",
       "        <div id=\"myGMdtVGBV75L6pRrGPXhM\"></div>\n",
       "        <script>netpixi.call('myGMdtVGBV75L6pRrGPXhM', '6TdJewpHMtn6cJBSwgXbcW', 'changeGraph', 'eyJpZCI6IDY4LCAidHlwZSI6ICJ2ZXJ0ZXgiLCAicHJvcHMiOiB7ImNvbG9yIjogMTY3MTE2ODB9fQo=');</script>\n",
       "    "
      ],
      "text/plain": [
       "<IPython.core.display.HTML object>"
      ]
     },
     "metadata": {},
     "output_type": "display_data"
    },
    {
     "data": {
      "text/html": [
       "\n",
       "        <div id=\"DDJKKhNfcNAZsxU9ERRwt9\"></div>\n",
       "        <script>netpixi.call('DDJKKhNfcNAZsxU9ERRwt9', '6TdJewpHMtn6cJBSwgXbcW', 'changeGraph', 'eyJpZCI6IDE3NywgInR5cGUiOiAidmVydGV4IiwgInByb3BzIjogeyJzaXplIjogMTAuOTIwNTAyMDkyMDUwMjF9fQo=');</script>\n",
       "    "
      ],
      "text/plain": [
       "<IPython.core.display.HTML object>"
      ]
     },
     "metadata": {},
     "output_type": "display_data"
    },
    {
     "data": {
      "text/html": [
       "\n",
       "        <div id=\"Yq5bu27xZp5QreEKAn6ZM3\"></div>\n",
       "        <script>netpixi.call('Yq5bu27xZp5QreEKAn6ZM3', '6TdJewpHMtn6cJBSwgXbcW', 'changeGraph', 'eyJpZCI6IDczLCAidHlwZSI6ICJ2ZXJ0ZXgiLCAicHJvcHMiOiB7ImNvbG9yIjogMTY3MTE2ODB9fQo=');</script>\n",
       "    "
      ],
      "text/plain": [
       "<IPython.core.display.HTML object>"
      ]
     },
     "metadata": {},
     "output_type": "display_data"
    },
    {
     "data": {
      "text/html": [
       "\n",
       "        <div id=\"69S3Xgt6JYPGqnxKaZJ7FK\"></div>\n",
       "        <script>netpixi.call('69S3Xgt6JYPGqnxKaZJ7FK', '6TdJewpHMtn6cJBSwgXbcW', 'changeGraph', 'eyJpZCI6IDE3OCwgInR5cGUiOiAidmVydGV4IiwgInByb3BzIjogeyJzaXplIjogNDUuNjY2NjY2NjY2NjY2NjY0fX0K');</script>\n",
       "    "
      ],
      "text/plain": [
       "<IPython.core.display.HTML object>"
      ]
     },
     "metadata": {},
     "output_type": "display_data"
    },
    {
     "data": {
      "text/html": [
       "\n",
       "        <div id=\"cYFrVnfWRQPPNV5cZsW4un\"></div>\n",
       "        <script>netpixi.call('cYFrVnfWRQPPNV5cZsW4un', '6TdJewpHMtn6cJBSwgXbcW', 'changeGraph', 'eyJpZCI6IDc3LCAidHlwZSI6ICJ2ZXJ0ZXgiLCAicHJvcHMiOiB7ImNvbG9yIjogMTY3MTE2ODB9fQo=');</script>\n",
       "    "
      ],
      "text/plain": [
       "<IPython.core.display.HTML object>"
      ]
     },
     "metadata": {},
     "output_type": "display_data"
    },
    {
     "data": {
      "text/html": [
       "\n",
       "        <div id=\"jA2ZsMZjnmpjPnTqV7kWQB\"></div>\n",
       "        <script>netpixi.call('jA2ZsMZjnmpjPnTqV7kWQB', '6TdJewpHMtn6cJBSwgXbcW', 'changeGraph', 'eyJpZCI6IDE3OSwgInR5cGUiOiAidmVydGV4IiwgInByb3BzIjogeyJzaXplIjogMTcuMjgwMzM0NzI4MDMzNDczfX0K');</script>\n",
       "    "
      ],
      "text/plain": [
       "<IPython.core.display.HTML object>"
      ]
     },
     "metadata": {},
     "output_type": "display_data"
    },
    {
     "data": {
      "text/html": [
       "\n",
       "        <div id=\"WmwuUWGBskZox6jDmqA9Bs\"></div>\n",
       "        <script>netpixi.call('WmwuUWGBskZox6jDmqA9Bs', '6TdJewpHMtn6cJBSwgXbcW', 'changeGraph', 'eyJpZCI6IDg3LCAidHlwZSI6ICJ2ZXJ0ZXgiLCAicHJvcHMiOiB7ImNvbG9yIjogMTY3MTE2ODB9fQo=');</script>\n",
       "    "
      ],
      "text/plain": [
       "<IPython.core.display.HTML object>"
      ]
     },
     "metadata": {},
     "output_type": "display_data"
    },
    {
     "data": {
      "text/html": [
       "\n",
       "        <div id=\"XQfWS4msWFed9UXrn9LVgR\"></div>\n",
       "        <script>netpixi.call('XQfWS4msWFed9UXrn9LVgR', '6TdJewpHMtn6cJBSwgXbcW', 'changeGraph', 'eyJpZCI6IDE4MCwgInR5cGUiOiAidmVydGV4IiwgInByb3BzIjogeyJzaXplIjogMTguNTc3NDA1ODU3NzQwNTg3fX0K');</script>\n",
       "    "
      ],
      "text/plain": [
       "<IPython.core.display.HTML object>"
      ]
     },
     "metadata": {},
     "output_type": "display_data"
    },
    {
     "data": {
      "text/html": [
       "\n",
       "        <div id=\"mnRVACKfsHBHQL3ELv5GwQ\"></div>\n",
       "        <script>netpixi.call('mnRVACKfsHBHQL3ELv5GwQ', '6TdJewpHMtn6cJBSwgXbcW', 'changeGraph', 'eyJpZCI6IDg2LCAidHlwZSI6ICJ2ZXJ0ZXgiLCAicHJvcHMiOiB7ImNvbG9yIjogMTY3MTE2ODB9fQo=');</script>\n",
       "    "
      ],
      "text/plain": [
       "<IPython.core.display.HTML object>"
      ]
     },
     "metadata": {},
     "output_type": "display_data"
    },
    {
     "data": {
      "text/html": [
       "\n",
       "        <div id=\"CnzNp8dfeEBaaD5DCiruWG\"></div>\n",
       "        <script>netpixi.call('CnzNp8dfeEBaaD5DCiruWG', '6TdJewpHMtn6cJBSwgXbcW', 'changeGraph', 'eyJpZCI6IDE4MSwgInR5cGUiOiAidmVydGV4IiwgInByb3BzIjogeyJzaXplIjogMTEuNTg5OTU4MTU4OTk1ODE3fX0K');</script>\n",
       "    "
      ],
      "text/plain": [
       "<IPython.core.display.HTML object>"
      ]
     },
     "metadata": {},
     "output_type": "display_data"
    },
    {
     "data": {
      "text/html": [
       "\n",
       "        <div id=\"EK4NpW3JFoJjS88TSWH8mg\"></div>\n",
       "        <script>netpixi.call('EK4NpW3JFoJjS88TSWH8mg', '6TdJewpHMtn6cJBSwgXbcW', 'changeGraph', 'eyJpZCI6IDcyLCAidHlwZSI6ICJ2ZXJ0ZXgiLCAicHJvcHMiOiB7ImNvbG9yIjogMTY3MTE2ODB9fQo=');</script>\n",
       "    "
      ],
      "text/plain": [
       "<IPython.core.display.HTML object>"
      ]
     },
     "metadata": {},
     "output_type": "display_data"
    },
    {
     "data": {
      "text/html": [
       "\n",
       "        <div id=\"Yd7aWKVqwypugRmxUoqfu3\"></div>\n",
       "        <script>netpixi.call('Yd7aWKVqwypugRmxUoqfu3', '6TdJewpHMtn6cJBSwgXbcW', 'changeGraph', 'eyJpZCI6IDE4MiwgInR5cGUiOiAidmVydGV4IiwgInByb3BzIjogeyJzaXplIjogMTAuNzExMjk3MDcxMTI5NzA3fX0K');</script>\n",
       "    "
      ],
      "text/plain": [
       "<IPython.core.display.HTML object>"
      ]
     },
     "metadata": {},
     "output_type": "display_data"
    },
    {
     "data": {
      "text/html": [
       "\n",
       "        <div id=\"V9r2Fpxe7fvE8zAhVgMgoG\"></div>\n",
       "        <script>netpixi.call('V9r2Fpxe7fvE8zAhVgMgoG', '6TdJewpHMtn6cJBSwgXbcW', 'changeGraph', 'eyJpZCI6IDc2LCAidHlwZSI6ICJ2ZXJ0ZXgiLCAicHJvcHMiOiB7ImNvbG9yIjogMTY3MTE2ODB9fQo=');</script>\n",
       "    "
      ],
      "text/plain": [
       "<IPython.core.display.HTML object>"
      ]
     },
     "metadata": {},
     "output_type": "display_data"
    },
    {
     "data": {
      "text/html": [
       "\n",
       "        <div id=\"S7NS7NPzfGgUSASQyRf9Pe\"></div>\n",
       "        <script>netpixi.call('S7NS7NPzfGgUSASQyRf9Pe', '6TdJewpHMtn6cJBSwgXbcW', 'changeGraph', 'eyJpZCI6IDE4MywgInR5cGUiOiAidmVydGV4IiwgInByb3BzIjogeyJzaXplIjogMTcuODI0MjY3NzgyNDI2Nzh9fQo=');</script>\n",
       "    "
      ],
      "text/plain": [
       "<IPython.core.display.HTML object>"
      ]
     },
     "metadata": {},
     "output_type": "display_data"
    },
    {
     "data": {
      "text/html": [
       "\n",
       "        <div id=\"ckJsLBpAg7aW2E5b7Kv72A\"></div>\n",
       "        <script>netpixi.call('ckJsLBpAg7aW2E5b7Kv72A', '6TdJewpHMtn6cJBSwgXbcW', 'changeGraph', 'eyJpZCI6IDc4LCAidHlwZSI6ICJ2ZXJ0ZXgiLCAicHJvcHMiOiB7ImNvbG9yIjogMTY3MTE2ODB9fQo=');</script>\n",
       "    "
      ],
      "text/plain": [
       "<IPython.core.display.HTML object>"
      ]
     },
     "metadata": {},
     "output_type": "display_data"
    },
    {
     "data": {
      "text/html": [
       "\n",
       "        <div id=\"cU2Xf7tnzuGsaJnSkRiXXh\"></div>\n",
       "        <script>netpixi.call('cU2Xf7tnzuGsaJnSkRiXXh', '6TdJewpHMtn6cJBSwgXbcW', 'changeGraph', 'eyJpZCI6IDE4NCwgInR5cGUiOiAidmVydGV4IiwgInByb3BzIjogeyJzaXplIjogMTQuNDc2OTg3NDQ3Njk4NzQzfX0K');</script>\n",
       "    "
      ],
      "text/plain": [
       "<IPython.core.display.HTML object>"
      ]
     },
     "metadata": {},
     "output_type": "display_data"
    },
    {
     "data": {
      "text/html": [
       "\n",
       "        <div id=\"fiCaxG8tNYacANZbmLPZUS\"></div>\n",
       "        <script>netpixi.call('fiCaxG8tNYacANZbmLPZUS', '6TdJewpHMtn6cJBSwgXbcW', 'changeGraph', 'eyJpZCI6IDc1LCAidHlwZSI6ICJ2ZXJ0ZXgiLCAicHJvcHMiOiB7ImNvbG9yIjogMTY3MTE2ODB9fQo=');</script>\n",
       "    "
      ],
      "text/plain": [
       "<IPython.core.display.HTML object>"
      ]
     },
     "metadata": {},
     "output_type": "display_data"
    },
    {
     "data": {
      "text/html": [
       "\n",
       "        <div id=\"SSjj5DF6gEERTSGF3Ms5Zj\"></div>\n",
       "        <script>netpixi.call('SSjj5DF6gEERTSGF3Ms5Zj', '6TdJewpHMtn6cJBSwgXbcW', 'changeGraph', 'eyJpZCI6IDE4NSwgInR5cGUiOiAidmVydGV4IiwgInByb3BzIjogeyJzaXplIjogMTguMzI2MzU5ODMyNjM1OTh9fQo=');</script>\n",
       "    "
      ],
      "text/plain": [
       "<IPython.core.display.HTML object>"
      ]
     },
     "metadata": {},
     "output_type": "display_data"
    },
    {
     "data": {
      "text/html": [
       "\n",
       "        <div id=\"jgGfvrdG29PfZipoj9rc6V\"></div>\n",
       "        <script>netpixi.call('jgGfvrdG29PfZipoj9rc6V', '6TdJewpHMtn6cJBSwgXbcW', 'changeGraph', 'eyJpZCI6IDQ4LCAidHlwZSI6ICJ2ZXJ0ZXgiLCAicHJvcHMiOiB7ImNvbG9yIjogMTY3MTE2ODB9fQo=');</script>\n",
       "    "
      ],
      "text/plain": [
       "<IPython.core.display.HTML object>"
      ]
     },
     "metadata": {},
     "output_type": "display_data"
    },
    {
     "data": {
      "text/html": [
       "\n",
       "        <div id=\"a5RUogaWLiHdD8EXtYaY7j\"></div>\n",
       "        <script>netpixi.call('a5RUogaWLiHdD8EXtYaY7j', '6TdJewpHMtn6cJBSwgXbcW', 'changeGraph', 'eyJpZCI6IDE4NiwgInR5cGUiOiAidmVydGV4IiwgInByb3BzIjogeyJzaXplIjogMTkuODc0NDc2OTg3NDQ3N319Cg==');</script>\n",
       "    "
      ],
      "text/plain": [
       "<IPython.core.display.HTML object>"
      ]
     },
     "metadata": {},
     "output_type": "display_data"
    },
    {
     "data": {
      "text/html": [
       "\n",
       "        <div id=\"NDsfJPTPnywEki9bAoooi4\"></div>\n",
       "        <script>netpixi.call('NDsfJPTPnywEki9bAoooi4', '6TdJewpHMtn6cJBSwgXbcW', 'changeGraph', 'eyJpZCI6IDY5LCAidHlwZSI6ICJ2ZXJ0ZXgiLCAicHJvcHMiOiB7ImNvbG9yIjogMTY3MTE2ODB9fQo=');</script>\n",
       "    "
      ],
      "text/plain": [
       "<IPython.core.display.HTML object>"
      ]
     },
     "metadata": {},
     "output_type": "display_data"
    },
    {
     "data": {
      "text/html": [
       "\n",
       "        <div id=\"Gvt4areosKCeQVPWowGNDx\"></div>\n",
       "        <script>netpixi.call('Gvt4areosKCeQVPWowGNDx', '6TdJewpHMtn6cJBSwgXbcW', 'changeGraph', 'eyJpZCI6IDE4NywgInR5cGUiOiAidmVydGV4IiwgInByb3BzIjogeyJzaXplIjogNDMuNX19Cg==');</script>\n",
       "    "
      ],
      "text/plain": [
       "<IPython.core.display.HTML object>"
      ]
     },
     "metadata": {},
     "output_type": "display_data"
    },
    {
     "data": {
      "text/html": [
       "\n",
       "        <div id=\"dWss8vM8yZC8FLTtnEqwKg\"></div>\n",
       "        <script>netpixi.call('dWss8vM8yZC8FLTtnEqwKg', '6TdJewpHMtn6cJBSwgXbcW', 'changeGraph', 'eyJpZCI6IDYxLCAidHlwZSI6ICJ2ZXJ0ZXgiLCAicHJvcHMiOiB7ImNvbG9yIjogMTY3MTE2ODB9fQo=');</script>\n",
       "    "
      ],
      "text/plain": [
       "<IPython.core.display.HTML object>"
      ]
     },
     "metadata": {},
     "output_type": "display_data"
    },
    {
     "data": {
      "text/html": [
       "\n",
       "        <div id=\"Ku5TYDc5YnR4rFqPmZ8zZ3\"></div>\n",
       "        <script>netpixi.call('Ku5TYDc5YnR4rFqPmZ8zZ3', '6TdJewpHMtn6cJBSwgXbcW', 'changeGraph', 'eyJpZCI6IDE4OCwgInR5cGUiOiAidmVydGV4IiwgInByb3BzIjogeyJzaXplIjogMTUuNjA2Njk0NTYwNjY5NDU1fX0K');</script>\n",
       "    "
      ],
      "text/plain": [
       "<IPython.core.display.HTML object>"
      ]
     },
     "metadata": {},
     "output_type": "display_data"
    },
    {
     "data": {
      "text/html": [
       "\n",
       "        <div id=\"jqTFSurFc4mDJQx5azmBVD\"></div>\n",
       "        <script>netpixi.call('jqTFSurFc4mDJQx5azmBVD', '6TdJewpHMtn6cJBSwgXbcW', 'changeGraph', 'eyJpZCI6IDczLCAidHlwZSI6ICJ2ZXJ0ZXgiLCAicHJvcHMiOiB7ImNvbG9yIjogMTY3MTE2ODB9fQo=');</script>\n",
       "    "
      ],
      "text/plain": [
       "<IPython.core.display.HTML object>"
      ]
     },
     "metadata": {},
     "output_type": "display_data"
    },
    {
     "data": {
      "text/html": [
       "\n",
       "        <div id=\"iSRxpNt9pyzCawrJDkKN7y\"></div>\n",
       "        <script>netpixi.call('iSRxpNt9pyzCawrJDkKN7y', '6TdJewpHMtn6cJBSwgXbcW', 'changeGraph', 'eyJpZCI6IDE4OSwgInR5cGUiOiAidmVydGV4IiwgInByb3BzIjogeyJzaXplIjogMTMuNzIzODQ5MzcyMzg0OTM3fX0K');</script>\n",
       "    "
      ],
      "text/plain": [
       "<IPython.core.display.HTML object>"
      ]
     },
     "metadata": {},
     "output_type": "display_data"
    },
    {
     "data": {
      "text/html": [
       "\n",
       "        <div id=\"hSrfHHXrhfbUzJB7tiHLSw\"></div>\n",
       "        <script>netpixi.call('hSrfHHXrhfbUzJB7tiHLSw', '6TdJewpHMtn6cJBSwgXbcW', 'changeGraph', 'eyJpZCI6IDc0LCAidHlwZSI6ICJ2ZXJ0ZXgiLCAicHJvcHMiOiB7ImNvbG9yIjogMTY3MTE2ODB9fQo=');</script>\n",
       "    "
      ],
      "text/plain": [
       "<IPython.core.display.HTML object>"
      ]
     },
     "metadata": {},
     "output_type": "display_data"
    },
    {
     "data": {
      "text/html": [
       "\n",
       "        <div id=\"VrtLmWrYoVSbf2voqDeLpL\"></div>\n",
       "        <script>netpixi.call('VrtLmWrYoVSbf2voqDeLpL', '6TdJewpHMtn6cJBSwgXbcW', 'changeGraph', 'eyJpZCI6IDE5MCwgInR5cGUiOiAidmVydGV4IiwgInByb3BzIjogeyJzaXplIjogMTMuNjgyMDA4MzY4MjAwODM3fX0K');</script>\n",
       "    "
      ],
      "text/plain": [
       "<IPython.core.display.HTML object>"
      ]
     },
     "metadata": {},
     "output_type": "display_data"
    },
    {
     "data": {
      "text/html": [
       "\n",
       "        <div id=\"biFcuTiLUzuPTSs4nRSbvf\"></div>\n",
       "        <script>netpixi.call('biFcuTiLUzuPTSs4nRSbvf', '6TdJewpHMtn6cJBSwgXbcW', 'changeGraph', 'eyJpZCI6IDgxLCAidHlwZSI6ICJ2ZXJ0ZXgiLCAicHJvcHMiOiB7ImNvbG9yIjogMTY3MTE2ODB9fQo=');</script>\n",
       "    "
      ],
      "text/plain": [
       "<IPython.core.display.HTML object>"
      ]
     },
     "metadata": {},
     "output_type": "display_data"
    },
    {
     "data": {
      "text/html": [
       "\n",
       "        <div id=\"Hm8M2hLJYXTermu5iNWJre\"></div>\n",
       "        <script>netpixi.call('Hm8M2hLJYXTermu5iNWJre', '6TdJewpHMtn6cJBSwgXbcW', 'changeGraph', 'eyJpZCI6IDE5MSwgInR5cGUiOiAidmVydGV4IiwgInByb3BzIjogeyJzaXplIjogMTQuMjI1OTQxNDIyNTk0MTQyfX0K');</script>\n",
       "    "
      ],
      "text/plain": [
       "<IPython.core.display.HTML object>"
      ]
     },
     "metadata": {},
     "output_type": "display_data"
    },
    {
     "data": {
      "text/html": [
       "\n",
       "        <div id=\"Wc4GtKCxMShhJQyFhEr2Um\"></div>\n",
       "        <script>netpixi.call('Wc4GtKCxMShhJQyFhEr2Um', '6TdJewpHMtn6cJBSwgXbcW', 'changeGraph', 'eyJpZCI6IDc1LCAidHlwZSI6ICJ2ZXJ0ZXgiLCAicHJvcHMiOiB7ImNvbG9yIjogMTY3MTE2ODB9fQo=');</script>\n",
       "    "
      ],
      "text/plain": [
       "<IPython.core.display.HTML object>"
      ]
     },
     "metadata": {},
     "output_type": "display_data"
    },
    {
     "data": {
      "text/html": [
       "\n",
       "        <div id=\"a97owuNp6GRnFkPPwF3LJs\"></div>\n",
       "        <script>netpixi.call('a97owuNp6GRnFkPPwF3LJs', '6TdJewpHMtn6cJBSwgXbcW', 'changeGraph', 'eyJpZCI6IDE5MiwgInR5cGUiOiAidmVydGV4IiwgInByb3BzIjogeyJzaXplIjogMTUuMTg4Mjg0NTE4ODI4NDV9fQo=');</script>\n",
       "    "
      ],
      "text/plain": [
       "<IPython.core.display.HTML object>"
      ]
     },
     "metadata": {},
     "output_type": "display_data"
    },
    {
     "data": {
      "text/html": [
       "\n",
       "        <div id=\"jvZSRaHhbA3Ju6xRNhEcvp\"></div>\n",
       "        <script>netpixi.call('jvZSRaHhbA3Ju6xRNhEcvp', '6TdJewpHMtn6cJBSwgXbcW', 'changeGraph', 'eyJpZCI6IDc3LCAidHlwZSI6ICJ2ZXJ0ZXgiLCAicHJvcHMiOiB7ImNvbG9yIjogMTY3MTE2ODB9fQo=');</script>\n",
       "    "
      ],
      "text/plain": [
       "<IPython.core.display.HTML object>"
      ]
     },
     "metadata": {},
     "output_type": "display_data"
    },
    {
     "data": {
      "text/html": [
       "\n",
       "        <div id=\"g5WK4EiHYSvxFnf4hAGzzv\"></div>\n",
       "        <script>netpixi.call('g5WK4EiHYSvxFnf4hAGzzv', '6TdJewpHMtn6cJBSwgXbcW', 'changeGraph', 'eyJpZCI6IDE5MywgInR5cGUiOiAidmVydGV4IiwgInByb3BzIjogeyJzaXplIjogMTAuMjUxMDQ2MDI1MTA0NjAzfX0K');</script>\n",
       "    "
      ],
      "text/plain": [
       "<IPython.core.display.HTML object>"
      ]
     },
     "metadata": {},
     "output_type": "display_data"
    },
    {
     "data": {
      "text/html": [
       "\n",
       "        <div id=\"gtVZRjGU9VJYhURPKEhyCU\"></div>\n",
       "        <script>netpixi.call('gtVZRjGU9VJYhURPKEhyCU', '6TdJewpHMtn6cJBSwgXbcW', 'changeGraph', 'eyJpZCI6IDc0LCAidHlwZSI6ICJ2ZXJ0ZXgiLCAicHJvcHMiOiB7ImNvbG9yIjogMTY3MTE2ODB9fQo=');</script>\n",
       "    "
      ],
      "text/plain": [
       "<IPython.core.display.HTML object>"
      ]
     },
     "metadata": {},
     "output_type": "display_data"
    },
    {
     "data": {
      "text/html": [
       "\n",
       "        <div id=\"ZUjZwGLJVsmA4uEqaGzY2V\"></div>\n",
       "        <script>netpixi.call('ZUjZwGLJVsmA4uEqaGzY2V', '6TdJewpHMtn6cJBSwgXbcW', 'changeGraph', 'eyJpZCI6IDE5NCwgInR5cGUiOiAidmVydGV4IiwgInByb3BzIjogeyJzaXplIjogMTAuMDQxODQxMDA0MTg0MX19Cg==');</script>\n",
       "    "
      ],
      "text/plain": [
       "<IPython.core.display.HTML object>"
      ]
     },
     "metadata": {},
     "output_type": "display_data"
    },
    {
     "data": {
      "text/html": [
       "\n",
       "        <div id=\"VYJruDUjfREd78LGdSqDbS\"></div>\n",
       "        <script>netpixi.call('VYJruDUjfREd78LGdSqDbS', '6TdJewpHMtn6cJBSwgXbcW', 'changeGraph', 'eyJpZCI6IDY2LCAidHlwZSI6ICJ2ZXJ0ZXgiLCAicHJvcHMiOiB7ImNvbG9yIjogMTY3MTE2ODB9fQo=');</script>\n",
       "    "
      ],
      "text/plain": [
       "<IPython.core.display.HTML object>"
      ]
     },
     "metadata": {},
     "output_type": "display_data"
    },
    {
     "data": {
      "text/html": [
       "\n",
       "        <div id=\"7uS5RuVq6WYhsfmSBpadVM\"></div>\n",
       "        <script>netpixi.call('7uS5RuVq6WYhsfmSBpadVM', '6TdJewpHMtn6cJBSwgXbcW', 'changeGraph', 'eyJpZCI6IDE5NSwgInR5cGUiOiAidmVydGV4IiwgInByb3BzIjogeyJzaXplIjogNDAuMTY2NjY2NjY2NjY2NjY0fX0K');</script>\n",
       "    "
      ],
      "text/plain": [
       "<IPython.core.display.HTML object>"
      ]
     },
     "metadata": {},
     "output_type": "display_data"
    },
    {
     "data": {
      "text/html": [
       "\n",
       "        <div id=\"nAWdLpyGE5d7ZUWCEniY69\"></div>\n",
       "        <script>netpixi.call('nAWdLpyGE5d7ZUWCEniY69', '6TdJewpHMtn6cJBSwgXbcW', 'changeGraph', 'eyJpZCI6IDgwLCAidHlwZSI6ICJ2ZXJ0ZXgiLCAicHJvcHMiOiB7ImNvbG9yIjogMTY3MTE2ODB9fQo=');</script>\n",
       "    "
      ],
      "text/plain": [
       "<IPython.core.display.HTML object>"
      ]
     },
     "metadata": {},
     "output_type": "display_data"
    },
    {
     "data": {
      "text/html": [
       "\n",
       "        <div id=\"bXbm5kvx4wKYeLWVE2Zx4P\"></div>\n",
       "        <script>netpixi.call('bXbm5kvx4wKYeLWVE2Zx4P', '6TdJewpHMtn6cJBSwgXbcW', 'changeGraph', 'eyJpZCI6IDE5NiwgInR5cGUiOiAidmVydGV4IiwgInByb3BzIjogeyJzaXplIjogNDYuMH19Cg==');</script>\n",
       "    "
      ],
      "text/plain": [
       "<IPython.core.display.HTML object>"
      ]
     },
     "metadata": {},
     "output_type": "display_data"
    },
    {
     "data": {
      "text/html": [
       "\n",
       "        <div id=\"ViA6yvW8zfP6PQCmAYG5uP\"></div>\n",
       "        <script>netpixi.call('ViA6yvW8zfP6PQCmAYG5uP', '6TdJewpHMtn6cJBSwgXbcW', 'changeGraph', 'eyJpZCI6IDgyLCAidHlwZSI6ICJ2ZXJ0ZXgiLCAicHJvcHMiOiB7ImNvbG9yIjogMTY3MTE2ODB9fQo=');</script>\n",
       "    "
      ],
      "text/plain": [
       "<IPython.core.display.HTML object>"
      ]
     },
     "metadata": {},
     "output_type": "display_data"
    },
    {
     "data": {
      "text/html": [
       "\n",
       "        <div id=\"Q4GMBKCa3LD95Zx6sLgnX7\"></div>\n",
       "        <script>netpixi.call('Q4GMBKCa3LD95Zx6sLgnX7', '6TdJewpHMtn6cJBSwgXbcW', 'changeGraph', 'eyJpZCI6IDE5NywgInR5cGUiOiAidmVydGV4IiwgInByb3BzIjogeyJzaXplIjogNDMuNjY2NjY2NjY2NjY2NjY0fX0K');</script>\n",
       "    "
      ],
      "text/plain": [
       "<IPython.core.display.HTML object>"
      ]
     },
     "metadata": {},
     "output_type": "display_data"
    },
    {
     "data": {
      "text/html": [
       "\n",
       "        <div id=\"SsnRnggwjmWFYZEx9aoLqU\"></div>\n",
       "        <script>netpixi.call('SsnRnggwjmWFYZEx9aoLqU', '6TdJewpHMtn6cJBSwgXbcW', 'changeGraph', 'eyJpZCI6IDY3LCAidHlwZSI6ICJ2ZXJ0ZXgiLCAicHJvcHMiOiB7ImNvbG9yIjogMTY3MTE2ODB9fQo=');</script>\n",
       "    "
      ],
      "text/plain": [
       "<IPython.core.display.HTML object>"
      ]
     },
     "metadata": {},
     "output_type": "display_data"
    },
    {
     "data": {
      "text/html": [
       "\n",
       "        <div id=\"8dkJa6BDooKzEwKZcn2Tyt\"></div>\n",
       "        <script>netpixi.call('8dkJa6BDooKzEwKZcn2Tyt', '6TdJewpHMtn6cJBSwgXbcW', 'changeGraph', 'eyJpZCI6IDE5OCwgInR5cGUiOiAidmVydGV4IiwgInByb3BzIjogeyJzaXplIjogMTguOTk1ODE1ODk5NTgxNTl9fQo=');</script>\n",
       "    "
      ],
      "text/plain": [
       "<IPython.core.display.HTML object>"
      ]
     },
     "metadata": {},
     "output_type": "display_data"
    },
    {
     "data": {
      "text/html": [
       "\n",
       "        <div id=\"AzJRi3FAVnp9LhRfJyo7b8\"></div>\n",
       "        <script>netpixi.call('AzJRi3FAVnp9LhRfJyo7b8', '6TdJewpHMtn6cJBSwgXbcW', 'changeGraph', 'eyJpZCI6IDc0LCAidHlwZSI6ICJ2ZXJ0ZXgiLCAicHJvcHMiOiB7ImNvbG9yIjogMTY3MTE2ODB9fQo=');</script>\n",
       "    "
      ],
      "text/plain": [
       "<IPython.core.display.HTML object>"
      ]
     },
     "metadata": {},
     "output_type": "display_data"
    },
    {
     "data": {
      "text/html": [
       "\n",
       "        <div id=\"NUeKZmyZgWhAUqqZRPY4HK\"></div>\n",
       "        <script>netpixi.call('NUeKZmyZgWhAUqqZRPY4HK', '6TdJewpHMtn6cJBSwgXbcW', 'changeGraph', 'eyJpZCI6IDE5OSwgInR5cGUiOiAidmVydGV4IiwgInByb3BzIjogeyJzaXplIjogMTMuNDMwOTYyMzQzMDk2MjMzfX0K');</script>\n",
       "    "
      ],
      "text/plain": [
       "<IPython.core.display.HTML object>"
      ]
     },
     "metadata": {},
     "output_type": "display_data"
    },
    {
     "data": {
      "text/html": [
       "\n",
       "        <div id=\"mWGAyR5KG3WVfLrYR4PSsc\"></div>\n",
       "        <script>netpixi.call('mWGAyR5KG3WVfLrYR4PSsc', '6TdJewpHMtn6cJBSwgXbcW', 'changeGraph', 'eyJpZCI6IDcxLCAidHlwZSI6ICJ2ZXJ0ZXgiLCAicHJvcHMiOiB7ImNvbG9yIjogMTY3MTE2ODB9fQo=');</script>\n",
       "    "
      ],
      "text/plain": [
       "<IPython.core.display.HTML object>"
      ]
     },
     "metadata": {},
     "output_type": "display_data"
    },
    {
     "data": {
      "text/html": [
       "\n",
       "        <div id=\"BCaLBKkxVcrhJzbsaBKWgt\"></div>\n",
       "        <script>netpixi.call('BCaLBKkxVcrhJzbsaBKWgt', '6TdJewpHMtn6cJBSwgXbcW', 'changeGraph', 'eyJpZCI6IDIwMCwgInR5cGUiOiAidmVydGV4IiwgInByb3BzIjogeyJzaXplIjogMTUuNjkwMzc2NTY5MDM3NjU3fX0K');</script>\n",
       "    "
      ],
      "text/plain": [
       "<IPython.core.display.HTML object>"
      ]
     },
     "metadata": {},
     "output_type": "display_data"
    },
    {
     "data": {
      "text/html": [
       "\n",
       "        <div id=\"cLoAD9TYXkNCUFeq26Yf6Q\"></div>\n",
       "        <script>netpixi.call('cLoAD9TYXkNCUFeq26Yf6Q', '6TdJewpHMtn6cJBSwgXbcW', 'changeGraph', 'eyJpZCI6IDgyLCAidHlwZSI6ICJ2ZXJ0ZXgiLCAicHJvcHMiOiB7ImNvbG9yIjogMTY3MTE2ODB9fQo=');</script>\n",
       "    "
      ],
      "text/plain": [
       "<IPython.core.display.HTML object>"
      ]
     },
     "metadata": {},
     "output_type": "display_data"
    },
    {
     "data": {
      "text/html": [
       "\n",
       "        <div id=\"fvZTXXu4niHC9BponDiFB2\"></div>\n",
       "        <script>netpixi.call('fvZTXXu4niHC9BponDiFB2', '6TdJewpHMtn6cJBSwgXbcW', 'changeGraph', 'eyJpZCI6IDIwMSwgInR5cGUiOiAidmVydGV4IiwgInByb3BzIjogeyJzaXplIjogMTUuMTA0NjAyNTEwNDYwMjV9fQo=');</script>\n",
       "    "
      ],
      "text/plain": [
       "<IPython.core.display.HTML object>"
      ]
     },
     "metadata": {},
     "output_type": "display_data"
    },
    {
     "data": {
      "text/html": [
       "\n",
       "        <div id=\"G8KXVUpzAgHjDqEqqrUGtZ\"></div>\n",
       "        <script>netpixi.call('G8KXVUpzAgHjDqEqqrUGtZ', '6TdJewpHMtn6cJBSwgXbcW', 'changeGraph', 'eyJpZCI6IDc4LCAidHlwZSI6ICJ2ZXJ0ZXgiLCAicHJvcHMiOiB7ImNvbG9yIjogMTY3MTE2ODB9fQo=');</script>\n",
       "    "
      ],
      "text/plain": [
       "<IPython.core.display.HTML object>"
      ]
     },
     "metadata": {},
     "output_type": "display_data"
    },
    {
     "data": {
      "text/html": [
       "\n",
       "        <div id=\"2stArLkdpNqKeh4CN4QZVh\"></div>\n",
       "        <script>netpixi.call('2stArLkdpNqKeh4CN4QZVh', '6TdJewpHMtn6cJBSwgXbcW', 'changeGraph', 'eyJpZCI6IDIwMiwgInR5cGUiOiAidmVydGV4IiwgInByb3BzIjogeyJzaXplIjogNDUuODMzMzMzMzMzMzMzMzM2fX0K');</script>\n",
       "    "
      ],
      "text/plain": [
       "<IPython.core.display.HTML object>"
      ]
     },
     "metadata": {},
     "output_type": "display_data"
    },
    {
     "data": {
      "text/html": [
       "\n",
       "        <div id=\"F2TrzAzryNjDP9Zw4wafBv\"></div>\n",
       "        <script>netpixi.call('F2TrzAzryNjDP9Zw4wafBv', '6TdJewpHMtn6cJBSwgXbcW', 'changeGraph', 'eyJpZCI6IDczLCAidHlwZSI6ICJ2ZXJ0ZXgiLCAicHJvcHMiOiB7ImNvbG9yIjogMTY3MTE2ODB9fQo=');</script>\n",
       "    "
      ],
      "text/plain": [
       "<IPython.core.display.HTML object>"
      ]
     },
     "metadata": {},
     "output_type": "display_data"
    },
    {
     "data": {
      "text/html": [
       "\n",
       "        <div id=\"R3uEdzWcuAWaURsnyppsmn\"></div>\n",
       "        <script>netpixi.call('R3uEdzWcuAWaURsnyppsmn', '6TdJewpHMtn6cJBSwgXbcW', 'changeGraph', 'eyJpZCI6IDIwMywgInR5cGUiOiAidmVydGV4IiwgInByb3BzIjogeyJzaXplIjogMTAuMjA5MjA1MDIwOTIwNTAyfX0K');</script>\n",
       "    "
      ],
      "text/plain": [
       "<IPython.core.display.HTML object>"
      ]
     },
     "metadata": {},
     "output_type": "display_data"
    },
    {
     "data": {
      "text/html": [
       "\n",
       "        <div id=\"YmUEEtzzsAKEfGHkZucy6X\"></div>\n",
       "        <script>netpixi.call('YmUEEtzzsAKEfGHkZucy6X', '6TdJewpHMtn6cJBSwgXbcW', 'changeGraph', 'eyJpZCI6IDc4LCAidHlwZSI6ICJ2ZXJ0ZXgiLCAicHJvcHMiOiB7ImNvbG9yIjogMTY3MTE2ODB9fQo=');</script>\n",
       "    "
      ],
      "text/plain": [
       "<IPython.core.display.HTML object>"
      ]
     },
     "metadata": {},
     "output_type": "display_data"
    },
    {
     "data": {
      "text/html": [
       "\n",
       "        <div id=\"JeEUmS9Px55eE4ah2Jtdhs\"></div>\n",
       "        <script>netpixi.call('JeEUmS9Px55eE4ah2Jtdhs', '6TdJewpHMtn6cJBSwgXbcW', 'changeGraph', 'eyJpZCI6IDIwNCwgInR5cGUiOiAidmVydGV4IiwgInByb3BzIjogeyJzaXplIjogMTAuNjI3NjE1MDYyNzYxNTA3fX0K');</script>\n",
       "    "
      ],
      "text/plain": [
       "<IPython.core.display.HTML object>"
      ]
     },
     "metadata": {},
     "output_type": "display_data"
    },
    {
     "data": {
      "text/html": [
       "\n",
       "        <div id=\"j4H9cABUSpXgwzb7VkCi9f\"></div>\n",
       "        <script>netpixi.call('j4H9cABUSpXgwzb7VkCi9f', '6TdJewpHMtn6cJBSwgXbcW', 'changeGraph', 'eyJpZCI6IDgxLCAidHlwZSI6ICJ2ZXJ0ZXgiLCAicHJvcHMiOiB7ImNvbG9yIjogMTY3MTE2ODB9fQo=');</script>\n",
       "    "
      ],
      "text/plain": [
       "<IPython.core.display.HTML object>"
      ]
     },
     "metadata": {},
     "output_type": "display_data"
    },
    {
     "data": {
      "text/html": [
       "\n",
       "        <div id=\"akWNE8px2pjRRet6bnkPrh\"></div>\n",
       "        <script>netpixi.call('akWNE8px2pjRRet6bnkPrh', '6TdJewpHMtn6cJBSwgXbcW', 'changeGraph', 'eyJpZCI6IDIwNSwgInR5cGUiOiAidmVydGV4IiwgInByb3BzIjogeyJzaXplIjogMTYuMTA4Nzg2NjEwODc4NjZ9fQo=');</script>\n",
       "    "
      ],
      "text/plain": [
       "<IPython.core.display.HTML object>"
      ]
     },
     "metadata": {},
     "output_type": "display_data"
    },
    {
     "data": {
      "text/html": [
       "\n",
       "        <div id=\"QjASVxSuG62djDvsrMmXjn\"></div>\n",
       "        <script>netpixi.call('QjASVxSuG62djDvsrMmXjn', '6TdJewpHMtn6cJBSwgXbcW', 'changeGraph', 'eyJpZCI6IDg2LCAidHlwZSI6ICJ2ZXJ0ZXgiLCAicHJvcHMiOiB7ImNvbG9yIjogMTY3MTE2ODB9fQo=');</script>\n",
       "    "
      ],
      "text/plain": [
       "<IPython.core.display.HTML object>"
      ]
     },
     "metadata": {},
     "output_type": "display_data"
    },
    {
     "data": {
      "text/html": [
       "\n",
       "        <div id=\"6ePYrm2FJ9nwicZb5Ncdbx\"></div>\n",
       "        <script>netpixi.call('6ePYrm2FJ9nwicZb5Ncdbx', '6TdJewpHMtn6cJBSwgXbcW', 'changeGraph', 'eyJpZCI6IDIwNiwgInR5cGUiOiAidmVydGV4IiwgInByb3BzIjogeyJzaXplIjogMTcuMzY0MDE2NzM2NDAxNjczfX0K');</script>\n",
       "    "
      ],
      "text/plain": [
       "<IPython.core.display.HTML object>"
      ]
     },
     "metadata": {},
     "output_type": "display_data"
    },
    {
     "data": {
      "text/html": [
       "\n",
       "        <div id=\"4nRKxzZPp2H9VNbEXCapSA\"></div>\n",
       "        <script>netpixi.call('4nRKxzZPp2H9VNbEXCapSA', '6TdJewpHMtn6cJBSwgXbcW', 'changeGraph', 'eyJpZCI6IDg0LCAidHlwZSI6ICJ2ZXJ0ZXgiLCAicHJvcHMiOiB7ImNvbG9yIjogMTY3MTE2ODB9fQo=');</script>\n",
       "    "
      ],
      "text/plain": [
       "<IPython.core.display.HTML object>"
      ]
     },
     "metadata": {},
     "output_type": "display_data"
    },
    {
     "data": {
      "text/html": [
       "\n",
       "        <div id=\"58eYmRs2qGzG5hCRg6uYsp\"></div>\n",
       "        <script>netpixi.call('58eYmRs2qGzG5hCRg6uYsp', '6TdJewpHMtn6cJBSwgXbcW', 'changeGraph', 'eyJpZCI6IDIwNywgInR5cGUiOiAidmVydGV4IiwgInByb3BzIjogeyJzaXplIjogMTEuODQxMDA0MTg0MTAwNDE4fX0K');</script>\n",
       "    "
      ],
      "text/plain": [
       "<IPython.core.display.HTML object>"
      ]
     },
     "metadata": {},
     "output_type": "display_data"
    },
    {
     "data": {
      "text/html": [
       "\n",
       "        <div id=\"Z3e39ZBEmsbRMhZKvAQuM2\"></div>\n",
       "        <script>netpixi.call('Z3e39ZBEmsbRMhZKvAQuM2', '6TdJewpHMtn6cJBSwgXbcW', 'changeGraph', 'eyJpZCI6IDY1LCAidHlwZSI6ICJ2ZXJ0ZXgiLCAicHJvcHMiOiB7ImNvbG9yIjogMTY3MTE2ODB9fQo=');</script>\n",
       "    "
      ],
      "text/plain": [
       "<IPython.core.display.HTML object>"
      ]
     },
     "metadata": {},
     "output_type": "display_data"
    },
    {
     "data": {
      "text/html": [
       "\n",
       "        <div id=\"c2zMhAZEHs9kmk8cPtKWZK\"></div>\n",
       "        <script>netpixi.call('c2zMhAZEHs9kmk8cPtKWZK', '6TdJewpHMtn6cJBSwgXbcW', 'changeGraph', 'eyJpZCI6IDIwOCwgInR5cGUiOiAidmVydGV4IiwgInByb3BzIjogeyJzaXplIjogMTEuNDIyNTk0MTQyMjU5NDEzfX0K');</script>\n",
       "    "
      ],
      "text/plain": [
       "<IPython.core.display.HTML object>"
      ]
     },
     "metadata": {},
     "output_type": "display_data"
    },
    {
     "data": {
      "text/html": [
       "\n",
       "        <div id=\"b3gF8uBUe89ZQ8DLP67c2v\"></div>\n",
       "        <script>netpixi.call('b3gF8uBUe89ZQ8DLP67c2v', '6TdJewpHMtn6cJBSwgXbcW', 'changeGraph', 'eyJpZCI6IDczLCAidHlwZSI6ICJ2ZXJ0ZXgiLCAicHJvcHMiOiB7ImNvbG9yIjogMTY3MTE2ODB9fQo=');</script>\n",
       "    "
      ],
      "text/plain": [
       "<IPython.core.display.HTML object>"
      ]
     },
     "metadata": {},
     "output_type": "display_data"
    },
    {
     "data": {
      "text/html": [
       "\n",
       "        <div id=\"NX4yySEYxkKrRz7SCYd27W\"></div>\n",
       "        <script>netpixi.call('NX4yySEYxkKrRz7SCYd27W', '6TdJewpHMtn6cJBSwgXbcW', 'changeGraph', 'eyJpZCI6IDIwOSwgInR5cGUiOiAidmVydGV4IiwgInByb3BzIjogeyJzaXplIjogMTAuNjY5NDU2MDY2OTQ1NjA3fX0K');</script>\n",
       "    "
      ],
      "text/plain": [
       "<IPython.core.display.HTML object>"
      ]
     },
     "metadata": {},
     "output_type": "display_data"
    },
    {
     "data": {
      "text/html": [
       "\n",
       "        <div id=\"7Re6a5DAYjCyYTcvZweNTL\"></div>\n",
       "        <script>netpixi.call('7Re6a5DAYjCyYTcvZweNTL', '6TdJewpHMtn6cJBSwgXbcW', 'changeGraph', 'eyJpZCI6IDcwLCAidHlwZSI6ICJ2ZXJ0ZXgiLCAicHJvcHMiOiB7ImNvbG9yIjogMTY3MTE2ODB9fQo=');</script>\n",
       "    "
      ],
      "text/plain": [
       "<IPython.core.display.HTML object>"
      ]
     },
     "metadata": {},
     "output_type": "display_data"
    },
    {
     "data": {
      "text/html": [
       "\n",
       "        <div id=\"WSHqucEupNFJ5erkg86AER\"></div>\n",
       "        <script>netpixi.call('WSHqucEupNFJ5erkg86AER', '6TdJewpHMtn6cJBSwgXbcW', 'changeGraph', 'eyJpZCI6IDIxMCwgInR5cGUiOiAidmVydGV4IiwgInByb3BzIjogeyJzaXplIjogMTcuMTk2NjUyNzE5NjY1MjczfX0K');</script>\n",
       "    "
      ],
      "text/plain": [
       "<IPython.core.display.HTML object>"
      ]
     },
     "metadata": {},
     "output_type": "display_data"
    },
    {
     "data": {
      "text/html": [
       "\n",
       "        <div id=\"ZWCZtL9yA55AFZn7WojMK2\"></div>\n",
       "        <script>netpixi.call('ZWCZtL9yA55AFZn7WojMK2', '6TdJewpHMtn6cJBSwgXbcW', 'changeGraph', 'eyJpZCI6IDc0LCAidHlwZSI6ICJ2ZXJ0ZXgiLCAicHJvcHMiOiB7ImNvbG9yIjogMTY3MTE2ODB9fQo=');</script>\n",
       "    "
      ],
      "text/plain": [
       "<IPython.core.display.HTML object>"
      ]
     },
     "metadata": {},
     "output_type": "display_data"
    },
    {
     "data": {
      "text/html": [
       "\n",
       "        <div id=\"NdReQjbhxmcjnATJpkMXaC\"></div>\n",
       "        <script>netpixi.call('NdReQjbhxmcjnATJpkMXaC', '6TdJewpHMtn6cJBSwgXbcW', 'changeGraph', 'eyJpZCI6IDIxMSwgInR5cGUiOiAidmVydGV4IiwgInByb3BzIjogeyJzaXplIjogMTEuOTI0Njg2MTkyNDY4NjE4fX0K');</script>\n",
       "    "
      ],
      "text/plain": [
       "<IPython.core.display.HTML object>"
      ]
     },
     "metadata": {},
     "output_type": "display_data"
    },
    {
     "data": {
      "text/html": [
       "\n",
       "        <div id=\"2zxkWvY8Uche4vVoYZLiER\"></div>\n",
       "        <script>netpixi.call('2zxkWvY8Uche4vVoYZLiER', '6TdJewpHMtn6cJBSwgXbcW', 'changeGraph', 'eyJpZCI6IDc3LCAidHlwZSI6ICJ2ZXJ0ZXgiLCAicHJvcHMiOiB7ImNvbG9yIjogMTY3MTE2ODB9fQo=');</script>\n",
       "    "
      ],
      "text/plain": [
       "<IPython.core.display.HTML object>"
      ]
     },
     "metadata": {},
     "output_type": "display_data"
    },
    {
     "data": {
      "text/html": [
       "\n",
       "        <div id=\"CQSgJCDTzySxcFFUv7jtJS\"></div>\n",
       "        <script>netpixi.call('CQSgJCDTzySxcFFUv7jtJS', '6TdJewpHMtn6cJBSwgXbcW', 'changeGraph', 'eyJpZCI6IDIxMiwgInR5cGUiOiAidmVydGV4IiwgInByb3BzIjogeyJzaXplIjogMTUuMzk3NDg5NTM5NzQ4OTUzfX0K');</script>\n",
       "    "
      ],
      "text/plain": [
       "<IPython.core.display.HTML object>"
      ]
     },
     "metadata": {},
     "output_type": "display_data"
    },
    {
     "data": {
      "text/html": [
       "\n",
       "        <div id=\"HPUk3kZdQkDDvV9jtRC9cn\"></div>\n",
       "        <script>netpixi.call('HPUk3kZdQkDDvV9jtRC9cn', '6TdJewpHMtn6cJBSwgXbcW', 'changeGraph', 'eyJpZCI6IDY3LCAidHlwZSI6ICJ2ZXJ0ZXgiLCAicHJvcHMiOiB7ImNvbG9yIjogMTY3MTE2ODB9fQo=');</script>\n",
       "    "
      ],
      "text/plain": [
       "<IPython.core.display.HTML object>"
      ]
     },
     "metadata": {},
     "output_type": "display_data"
    },
    {
     "data": {
      "text/html": [
       "\n",
       "        <div id=\"Mbuu4LFSjtGhQZrcT2CRrW\"></div>\n",
       "        <script>netpixi.call('Mbuu4LFSjtGhQZrcT2CRrW', '6TdJewpHMtn6cJBSwgXbcW', 'changeGraph', 'eyJpZCI6IDIxMywgInR5cGUiOiAidmVydGV4IiwgInByb3BzIjogeyJzaXplIjogMTIuNzE5NjY1MjcxOTY2NTI3fX0K');</script>\n",
       "    "
      ],
      "text/plain": [
       "<IPython.core.display.HTML object>"
      ]
     },
     "metadata": {},
     "output_type": "display_data"
    },
    {
     "data": {
      "text/html": [
       "\n",
       "        <div id=\"GuCRHJDggdaCYgATgVUEKF\"></div>\n",
       "        <script>netpixi.call('GuCRHJDggdaCYgATgVUEKF', '6TdJewpHMtn6cJBSwgXbcW', 'changeGraph', 'eyJpZCI6IDc4LCAidHlwZSI6ICJ2ZXJ0ZXgiLCAicHJvcHMiOiB7ImNvbG9yIjogMTY3MTE2ODB9fQo=');</script>\n",
       "    "
      ],
      "text/plain": [
       "<IPython.core.display.HTML object>"
      ]
     },
     "metadata": {},
     "output_type": "display_data"
    },
    {
     "data": {
      "text/html": [
       "\n",
       "        <div id=\"Mx9DVG6PLSKcpPtYs73xGv\"></div>\n",
       "        <script>netpixi.call('Mx9DVG6PLSKcpPtYs73xGv', '6TdJewpHMtn6cJBSwgXbcW', 'changeGraph', 'eyJpZCI6IDIxNCwgInR5cGUiOiAidmVydGV4IiwgInByb3BzIjogeyJzaXplIjogMTUuOTgzMjYzNTk4MzI2MzZ9fQo=');</script>\n",
       "    "
      ],
      "text/plain": [
       "<IPython.core.display.HTML object>"
      ]
     },
     "metadata": {},
     "output_type": "display_data"
    },
    {
     "data": {
      "text/html": [
       "\n",
       "        <div id=\"mT6eoYdemf7g6q9xw6HaXN\"></div>\n",
       "        <script>netpixi.call('mT6eoYdemf7g6q9xw6HaXN', '6TdJewpHMtn6cJBSwgXbcW', 'changeGraph', 'eyJpZCI6IDg0LCAidHlwZSI6ICJ2ZXJ0ZXgiLCAicHJvcHMiOiB7ImNvbG9yIjogMTY3MTE2ODB9fQo=');</script>\n",
       "    "
      ],
      "text/plain": [
       "<IPython.core.display.HTML object>"
      ]
     },
     "metadata": {},
     "output_type": "display_data"
    },
    {
     "data": {
      "text/html": [
       "\n",
       "        <div id=\"GYvVMQkQYJ7eXBcuZTHZLX\"></div>\n",
       "        <script>netpixi.call('GYvVMQkQYJ7eXBcuZTHZLX', '6TdJewpHMtn6cJBSwgXbcW', 'changeGraph', 'eyJpZCI6IDIxNSwgInR5cGUiOiAidmVydGV4IiwgInByb3BzIjogeyJzaXplIjogMTYuNjEwODc4NjYxMDg3ODY3fX0K');</script>\n",
       "    "
      ],
      "text/plain": [
       "<IPython.core.display.HTML object>"
      ]
     },
     "metadata": {},
     "output_type": "display_data"
    },
    {
     "data": {
      "text/html": [
       "\n",
       "        <div id=\"AwRFfwimTUxWiu4eCqaQdY\"></div>\n",
       "        <script>netpixi.call('AwRFfwimTUxWiu4eCqaQdY', '6TdJewpHMtn6cJBSwgXbcW', 'changeGraph', 'eyJpZCI6IDc1LCAidHlwZSI6ICJ2ZXJ0ZXgiLCAicHJvcHMiOiB7ImNvbG9yIjogMTY3MTE2ODB9fQo=');</script>\n",
       "    "
      ],
      "text/plain": [
       "<IPython.core.display.HTML object>"
      ]
     },
     "metadata": {},
     "output_type": "display_data"
    },
    {
     "data": {
      "text/html": [
       "\n",
       "        <div id=\"2FYsR7nEiaEuACmGVsoP6p\"></div>\n",
       "        <script>netpixi.call('2FYsR7nEiaEuACmGVsoP6p', '6TdJewpHMtn6cJBSwgXbcW', 'changeGraph', 'eyJpZCI6IDIxNiwgInR5cGUiOiAidmVydGV4IiwgInByb3BzIjogeyJzaXplIjogMTQuNzY5ODc0NDc2OTg3NDQ3fX0K');</script>\n",
       "    "
      ],
      "text/plain": [
       "<IPython.core.display.HTML object>"
      ]
     },
     "metadata": {},
     "output_type": "display_data"
    },
    {
     "data": {
      "text/html": [
       "\n",
       "        <div id=\"eNMCQqbJ3wASp2Jvv2SAbc\"></div>\n",
       "        <script>netpixi.call('eNMCQqbJ3wASp2Jvv2SAbc', '6TdJewpHMtn6cJBSwgXbcW', 'changeGraph', 'eyJpZCI6IDczLCAidHlwZSI6ICJ2ZXJ0ZXgiLCAicHJvcHMiOiB7ImNvbG9yIjogMTY3MTE2ODB9fQo=');</script>\n",
       "    "
      ],
      "text/plain": [
       "<IPython.core.display.HTML object>"
      ]
     },
     "metadata": {},
     "output_type": "display_data"
    },
    {
     "data": {
      "text/html": [
       "\n",
       "        <div id=\"ZGngsNBKo8jcJBHVJVLHzK\"></div>\n",
       "        <script>netpixi.call('ZGngsNBKo8jcJBHVJVLHzK', '6TdJewpHMtn6cJBSwgXbcW', 'changeGraph', 'eyJpZCI6IDIxNywgInR5cGUiOiAidmVydGV4IiwgInByb3BzIjogeyJzaXplIjogMTcuMDcxMTI5NzA3MTEyOTd9fQo=');</script>\n",
       "    "
      ],
      "text/plain": [
       "<IPython.core.display.HTML object>"
      ]
     },
     "metadata": {},
     "output_type": "display_data"
    },
    {
     "data": {
      "text/html": [
       "\n",
       "        <div id=\"iCwyXj3KncG5AGJ5LbSahc\"></div>\n",
       "        <script>netpixi.call('iCwyXj3KncG5AGJ5LbSahc', '6TdJewpHMtn6cJBSwgXbcW', 'changeGraph', 'eyJpZCI6IDg0LCAidHlwZSI6ICJ2ZXJ0ZXgiLCAicHJvcHMiOiB7ImNvbG9yIjogMTY3MTE2ODB9fQo=');</script>\n",
       "    "
      ],
      "text/plain": [
       "<IPython.core.display.HTML object>"
      ]
     },
     "metadata": {},
     "output_type": "display_data"
    },
    {
     "data": {
      "text/html": [
       "\n",
       "        <div id=\"LoNrwyXqB5dTn7TEF5pGK6\"></div>\n",
       "        <script>netpixi.call('LoNrwyXqB5dTn7TEF5pGK6', '6TdJewpHMtn6cJBSwgXbcW', 'changeGraph', 'eyJpZCI6IDIxOCwgInR5cGUiOiAidmVydGV4IiwgInByb3BzIjogeyJzaXplIjogMTcuNDA1ODU3NzQwNTg1NzczfX0K');</script>\n",
       "    "
      ],
      "text/plain": [
       "<IPython.core.display.HTML object>"
      ]
     },
     "metadata": {},
     "output_type": "display_data"
    },
    {
     "data": {
      "text/html": [
       "\n",
       "        <div id=\"BkRDdQcRjnQPZaieCTU86m\"></div>\n",
       "        <script>netpixi.call('BkRDdQcRjnQPZaieCTU86m', '6TdJewpHMtn6cJBSwgXbcW', 'changeGraph', 'eyJpZCI6IDcyLCAidHlwZSI6ICJ2ZXJ0ZXgiLCAicHJvcHMiOiB7ImNvbG9yIjogMTY3MTE2ODB9fQo=');</script>\n",
       "    "
      ],
      "text/plain": [
       "<IPython.core.display.HTML object>"
      ]
     },
     "metadata": {},
     "output_type": "display_data"
    },
    {
     "data": {
      "text/html": [
       "\n",
       "        <div id=\"SKjstxK6ovtstYWG8JMMne\"></div>\n",
       "        <script>netpixi.call('SKjstxK6ovtstYWG8JMMne', '6TdJewpHMtn6cJBSwgXbcW', 'changeGraph', 'eyJpZCI6IDIxOSwgInR5cGUiOiAidmVydGV4IiwgInByb3BzIjogeyJzaXplIjogMTUuMzU1NjQ4NTM1NTY0ODUzfX0K');</script>\n",
       "    "
      ],
      "text/plain": [
       "<IPython.core.display.HTML object>"
      ]
     },
     "metadata": {},
     "output_type": "display_data"
    },
    {
     "data": {
      "text/html": [
       "\n",
       "        <div id=\"GuMJUtiqdPb4rHQSzmFE2G\"></div>\n",
       "        <script>netpixi.call('GuMJUtiqdPb4rHQSzmFE2G', '6TdJewpHMtn6cJBSwgXbcW', 'changeGraph', 'eyJpZCI6IDg2LCAidHlwZSI6ICJ2ZXJ0ZXgiLCAicHJvcHMiOiB7ImNvbG9yIjogMTY3MTE2ODB9fQo=');</script>\n",
       "    "
      ],
      "text/plain": [
       "<IPython.core.display.HTML object>"
      ]
     },
     "metadata": {},
     "output_type": "display_data"
    },
    {
     "data": {
      "text/html": [
       "\n",
       "        <div id=\"TkQAWPaVE8vhEyKm8vJzmq\"></div>\n",
       "        <script>netpixi.call('TkQAWPaVE8vhEyKm8vJzmq', '6TdJewpHMtn6cJBSwgXbcW', 'changeGraph', 'eyJpZCI6IDIyMCwgInR5cGUiOiAidmVydGV4IiwgInByb3BzIjogeyJzaXplIjogNDAuNX19Cg==');</script>\n",
       "    "
      ],
      "text/plain": [
       "<IPython.core.display.HTML object>"
      ]
     },
     "metadata": {},
     "output_type": "display_data"
    },
    {
     "data": {
      "text/html": [
       "\n",
       "        <div id=\"nSGJZFafR9wrB2T7NvV3Ls\"></div>\n",
       "        <script>netpixi.call('nSGJZFafR9wrB2T7NvV3Ls', '6TdJewpHMtn6cJBSwgXbcW', 'changeGraph', 'eyJpZCI6IDc2LCAidHlwZSI6ICJ2ZXJ0ZXgiLCAicHJvcHMiOiB7ImNvbG9yIjogMTY3MTE2ODB9fQo=');</script>\n",
       "    "
      ],
      "text/plain": [
       "<IPython.core.display.HTML object>"
      ]
     },
     "metadata": {},
     "output_type": "display_data"
    },
    {
     "data": {
      "text/html": [
       "\n",
       "        <div id=\"Cpe6d8b5RZx8bkCt7Et2yP\"></div>\n",
       "        <script>netpixi.call('Cpe6d8b5RZx8bkCt7Et2yP', '6TdJewpHMtn6cJBSwgXbcW', 'changeGraph', 'eyJpZCI6IDIyMSwgInR5cGUiOiAidmVydGV4IiwgInByb3BzIjogeyJzaXplIjogNDkuMzMzMzMzMzMzMzMzMzM2fX0K');</script>\n",
       "    "
      ],
      "text/plain": [
       "<IPython.core.display.HTML object>"
      ]
     },
     "metadata": {},
     "output_type": "display_data"
    },
    {
     "data": {
      "text/html": [
       "\n",
       "        <div id=\"bmb9FoidqTLT6Csk6NrYm8\"></div>\n",
       "        <script>netpixi.call('bmb9FoidqTLT6Csk6NrYm8', '6TdJewpHMtn6cJBSwgXbcW', 'changeGraph', 'eyJpZCI6IDc2LCAidHlwZSI6ICJ2ZXJ0ZXgiLCAicHJvcHMiOiB7ImNvbG9yIjogMTY3MTE2ODB9fQo=');</script>\n",
       "    "
      ],
      "text/plain": [
       "<IPython.core.display.HTML object>"
      ]
     },
     "metadata": {},
     "output_type": "display_data"
    },
    {
     "data": {
      "text/html": [
       "\n",
       "        <div id=\"JXtfVMFtV9ymVExe68DtYh\"></div>\n",
       "        <script>netpixi.call('JXtfVMFtV9ymVExe68DtYh', '6TdJewpHMtn6cJBSwgXbcW', 'changeGraph', 'eyJpZCI6IDIyMiwgInR5cGUiOiAidmVydGV4IiwgInByb3BzIjogeyJzaXplIjogMTYuOTg3NDQ3Njk4NzQ0Nzd9fQo=');</script>\n",
       "    "
      ],
      "text/plain": [
       "<IPython.core.display.HTML object>"
      ]
     },
     "metadata": {},
     "output_type": "display_data"
    },
    {
     "data": {
      "text/html": [
       "\n",
       "        <div id=\"nr2zSStgLPKSu3U8hfCo7m\"></div>\n",
       "        <script>netpixi.call('nr2zSStgLPKSu3U8hfCo7m', '6TdJewpHMtn6cJBSwgXbcW', 'changeGraph', 'eyJpZCI6IDc5LCAidHlwZSI6ICJ2ZXJ0ZXgiLCAicHJvcHMiOiB7ImNvbG9yIjogMTY3MTE2ODB9fQo=');</script>\n",
       "    "
      ],
      "text/plain": [
       "<IPython.core.display.HTML object>"
      ]
     },
     "metadata": {},
     "output_type": "display_data"
    },
    {
     "data": {
      "text/html": [
       "\n",
       "        <div id=\"EuM3UVnLkS2jXzCXycQ4qQ\"></div>\n",
       "        <script>netpixi.call('EuM3UVnLkS2jXzCXycQ4qQ', '6TdJewpHMtn6cJBSwgXbcW', 'changeGraph', 'eyJpZCI6IDIyMywgInR5cGUiOiAidmVydGV4IiwgInByb3BzIjogeyJzaXplIjogNDEuMzMzMzMzMzMzMzMzMzN9fQo=');</script>\n",
       "    "
      ],
      "text/plain": [
       "<IPython.core.display.HTML object>"
      ]
     },
     "metadata": {},
     "output_type": "display_data"
    },
    {
     "data": {
      "text/html": [
       "\n",
       "        <div id=\"NxynybvwyD6EXnfmeAG2zN\"></div>\n",
       "        <script>netpixi.call('NxynybvwyD6EXnfmeAG2zN', '6TdJewpHMtn6cJBSwgXbcW', 'changeGraph', 'eyJpZCI6IDcwLCAidHlwZSI6ICJ2ZXJ0ZXgiLCAicHJvcHMiOiB7ImNvbG9yIjogMTY3MTE2ODB9fQo=');</script>\n",
       "    "
      ],
      "text/plain": [
       "<IPython.core.display.HTML object>"
      ]
     },
     "metadata": {},
     "output_type": "display_data"
    },
    {
     "data": {
      "text/html": [
       "\n",
       "        <div id=\"bmawUTNJVTshSybMYeBpdL\"></div>\n",
       "        <script>netpixi.call('bmawUTNJVTshSybMYeBpdL', '6TdJewpHMtn6cJBSwgXbcW', 'changeGraph', 'eyJpZCI6IDIyNCwgInR5cGUiOiAidmVydGV4IiwgInByb3BzIjogeyJzaXplIjogMTUuNDgxMTcxNTQ4MTE3MTUzfX0K');</script>\n",
       "    "
      ],
      "text/plain": [
       "<IPython.core.display.HTML object>"
      ]
     },
     "metadata": {},
     "output_type": "display_data"
    },
    {
     "data": {
      "text/html": [
       "\n",
       "        <div id=\"U7xN66ZXFQHB3ecHaAeXEd\"></div>\n",
       "        <script>netpixi.call('U7xN66ZXFQHB3ecHaAeXEd', '6TdJewpHMtn6cJBSwgXbcW', 'changeGraph', 'eyJpZCI6IDgxLCAidHlwZSI6ICJ2ZXJ0ZXgiLCAicHJvcHMiOiB7ImNvbG9yIjogMTY3MTE2ODB9fQo=');</script>\n",
       "    "
      ],
      "text/plain": [
       "<IPython.core.display.HTML object>"
      ]
     },
     "metadata": {},
     "output_type": "display_data"
    },
    {
     "data": {
      "text/html": [
       "\n",
       "        <div id=\"ZqhLsJGHnGGKdVb2YvJFLo\"></div>\n",
       "        <script>netpixi.call('ZqhLsJGHnGGKdVb2YvJFLo', '6TdJewpHMtn6cJBSwgXbcW', 'changeGraph', 'eyJpZCI6IDIyNSwgInR5cGUiOiAidmVydGV4IiwgInByb3BzIjogeyJzaXplIjogMTQuNjg2MTkyNDY4NjE5MjQ3fX0K');</script>\n",
       "    "
      ],
      "text/plain": [
       "<IPython.core.display.HTML object>"
      ]
     },
     "metadata": {},
     "output_type": "display_data"
    },
    {
     "data": {
      "text/html": [
       "\n",
       "        <div id=\"fzkLtyJw5qRBufWn33X8Sx\"></div>\n",
       "        <script>netpixi.call('fzkLtyJw5qRBufWn33X8Sx', '6TdJewpHMtn6cJBSwgXbcW', 'changeGraph', 'eyJpZCI6IDgzLCAidHlwZSI6ICJ2ZXJ0ZXgiLCAicHJvcHMiOiB7ImNvbG9yIjogMTY3MTE2ODB9fQo=');</script>\n",
       "    "
      ],
      "text/plain": [
       "<IPython.core.display.HTML object>"
      ]
     },
     "metadata": {},
     "output_type": "display_data"
    },
    {
     "data": {
      "text/html": [
       "\n",
       "        <div id=\"P2atGvj3AaLzRXcnwiETUg\"></div>\n",
       "        <script>netpixi.call('P2atGvj3AaLzRXcnwiETUg', '6TdJewpHMtn6cJBSwgXbcW', 'changeGraph', 'eyJpZCI6IDIyNiwgInR5cGUiOiAidmVydGV4IiwgInByb3BzIjogeyJzaXplIjogNDEuNX19Cg==');</script>\n",
       "    "
      ],
      "text/plain": [
       "<IPython.core.display.HTML object>"
      ]
     },
     "metadata": {},
     "output_type": "display_data"
    },
    {
     "data": {
      "text/html": [
       "\n",
       "        <div id=\"jifmrRGSwTmhWopb5x5FZu\"></div>\n",
       "        <script>netpixi.call('jifmrRGSwTmhWopb5x5FZu', '6TdJewpHMtn6cJBSwgXbcW', 'changeGraph', 'eyJpZCI6IDc0LCAidHlwZSI6ICJ2ZXJ0ZXgiLCAicHJvcHMiOiB7ImNvbG9yIjogMTY3MTE2ODB9fQo=');</script>\n",
       "    "
      ],
      "text/plain": [
       "<IPython.core.display.HTML object>"
      ]
     },
     "metadata": {},
     "output_type": "display_data"
    },
    {
     "data": {
      "text/html": [
       "\n",
       "        <div id=\"GnM9Fbv6fbrjJUELzvhbn2\"></div>\n",
       "        <script>netpixi.call('GnM9Fbv6fbrjJUELzvhbn2', '6TdJewpHMtn6cJBSwgXbcW', 'changeGraph', 'eyJpZCI6IDIyNywgInR5cGUiOiAidmVydGV4IiwgInByb3BzIjogeyJzaXplIjogMTEuNDY0NDM1MTQ2NDQzNTE1fX0K');</script>\n",
       "    "
      ],
      "text/plain": [
       "<IPython.core.display.HTML object>"
      ]
     },
     "metadata": {},
     "output_type": "display_data"
    },
    {
     "data": {
      "text/html": [
       "\n",
       "        <div id=\"XaC74zL9UW7TJF3iSioENZ\"></div>\n",
       "        <script>netpixi.call('XaC74zL9UW7TJF3iSioENZ', '6TdJewpHMtn6cJBSwgXbcW', 'changeGraph', 'eyJpZCI6IDgxLCAidHlwZSI6ICJ2ZXJ0ZXgiLCAicHJvcHMiOiB7ImNvbG9yIjogMTY3MTE2ODB9fQo=');</script>\n",
       "    "
      ],
      "text/plain": [
       "<IPython.core.display.HTML object>"
      ]
     },
     "metadata": {},
     "output_type": "display_data"
    },
    {
     "data": {
      "text/html": [
       "\n",
       "        <div id=\"CcB3jLg8yFxdd2Wj3EEvRy\"></div>\n",
       "        <script>netpixi.call('CcB3jLg8yFxdd2Wj3EEvRy', '6TdJewpHMtn6cJBSwgXbcW', 'changeGraph', 'eyJpZCI6IDIyOCwgInR5cGUiOiAidmVydGV4IiwgInByb3BzIjogeyJzaXplIjogMTAuNzUzMTM4MDc1MzEzODA3fX0K');</script>\n",
       "    "
      ],
      "text/plain": [
       "<IPython.core.display.HTML object>"
      ]
     },
     "metadata": {},
     "output_type": "display_data"
    },
    {
     "data": {
      "text/html": [
       "\n",
       "        <div id=\"J4WhQjzpaUFCFhNyk38WYL\"></div>\n",
       "        <script>netpixi.call('J4WhQjzpaUFCFhNyk38WYL', '6TdJewpHMtn6cJBSwgXbcW', 'changeGraph', 'eyJpZCI6IDgxLCAidHlwZSI6ICJ2ZXJ0ZXgiLCAicHJvcHMiOiB7ImNvbG9yIjogMTY3MTE2ODB9fQo=');</script>\n",
       "    "
      ],
      "text/plain": [
       "<IPython.core.display.HTML object>"
      ]
     },
     "metadata": {},
     "output_type": "display_data"
    },
    {
     "data": {
      "text/html": [
       "\n",
       "        <div id=\"gCxEsHYG2Ac6ykzikTuPBA\"></div>\n",
       "        <script>netpixi.call('gCxEsHYG2Ac6ykzikTuPBA', '6TdJewpHMtn6cJBSwgXbcW', 'changeGraph', 'eyJpZCI6IDIyOSwgInR5cGUiOiAidmVydGV4IiwgInByb3BzIjogeyJzaXplIjogMTcuMTEyOTcwNzExMjk3MDd9fQo=');</script>\n",
       "    "
      ],
      "text/plain": [
       "<IPython.core.display.HTML object>"
      ]
     },
     "metadata": {},
     "output_type": "display_data"
    },
    {
     "data": {
      "text/html": [
       "\n",
       "        <div id=\"7x44QxsCCyrhsnSrJCphMw\"></div>\n",
       "        <script>netpixi.call('7x44QxsCCyrhsnSrJCphMw', '6TdJewpHMtn6cJBSwgXbcW', 'changeGraph', 'eyJpZCI6IDc2LCAidHlwZSI6ICJ2ZXJ0ZXgiLCAicHJvcHMiOiB7ImNvbG9yIjogMTY3MTE2ODB9fQo=');</script>\n",
       "    "
      ],
      "text/plain": [
       "<IPython.core.display.HTML object>"
      ]
     },
     "metadata": {},
     "output_type": "display_data"
    },
    {
     "data": {
      "text/html": [
       "\n",
       "        <div id=\"2DMfrYDY8Qunumpr7Hwrpo\"></div>\n",
       "        <script>netpixi.call('2DMfrYDY8Qunumpr7Hwrpo', '6TdJewpHMtn6cJBSwgXbcW', 'changeGraph', 'eyJpZCI6IDIzMCwgInR5cGUiOiAidmVydGV4IiwgInByb3BzIjogeyJzaXplIjogMTcuNzgyNDI2Nzc4MjQyNjc3fX0K');</script>\n",
       "    "
      ],
      "text/plain": [
       "<IPython.core.display.HTML object>"
      ]
     },
     "metadata": {},
     "output_type": "display_data"
    },
    {
     "data": {
      "text/html": [
       "\n",
       "        <div id=\"88k452NGmgRGmeH9uH2nsD\"></div>\n",
       "        <script>netpixi.call('88k452NGmgRGmeH9uH2nsD', '6TdJewpHMtn6cJBSwgXbcW', 'changeGraph', 'eyJpZCI6IDg0LCAidHlwZSI6ICJ2ZXJ0ZXgiLCAicHJvcHMiOiB7ImNvbG9yIjogMTY3MTE2ODB9fQo=');</script>\n",
       "    "
      ],
      "text/plain": [
       "<IPython.core.display.HTML object>"
      ]
     },
     "metadata": {},
     "output_type": "display_data"
    },
    {
     "data": {
      "text/html": [
       "\n",
       "        <div id=\"2wS5jnxQfPStjrvrvVHoUf\"></div>\n",
       "        <script>netpixi.call('2wS5jnxQfPStjrvrvVHoUf', '6TdJewpHMtn6cJBSwgXbcW', 'changeGraph', 'eyJpZCI6IDIzMSwgInR5cGUiOiAidmVydGV4IiwgInByb3BzIjogeyJzaXplIjogMTAuOTYyMzQzMDk2MjM0MzF9fQo=');</script>\n",
       "    "
      ],
      "text/plain": [
       "<IPython.core.display.HTML object>"
      ]
     },
     "metadata": {},
     "output_type": "display_data"
    },
    {
     "data": {
      "text/html": [
       "\n",
       "        <div id=\"96k8GhzybQ38KBCX3Ra7LN\"></div>\n",
       "        <script>netpixi.call('96k8GhzybQ38KBCX3Ra7LN', '6TdJewpHMtn6cJBSwgXbcW', 'changeGraph', 'eyJpZCI6IDcwLCAidHlwZSI6ICJ2ZXJ0ZXgiLCAicHJvcHMiOiB7ImNvbG9yIjogMTY3MTE2ODB9fQo=');</script>\n",
       "    "
      ],
      "text/plain": [
       "<IPython.core.display.HTML object>"
      ]
     },
     "metadata": {},
     "output_type": "display_data"
    },
    {
     "data": {
      "text/html": [
       "\n",
       "        <div id=\"P9wMdfb3jyzZGen2W67aQg\"></div>\n",
       "        <script>netpixi.call('P9wMdfb3jyzZGen2W67aQg', '6TdJewpHMtn6cJBSwgXbcW', 'changeGraph', 'eyJpZCI6IDIzMiwgInR5cGUiOiAidmVydGV4IiwgInByb3BzIjogeyJzaXplIjogMTguNDEwMDQxODQxMDA0MTgzfX0K');</script>\n",
       "    "
      ],
      "text/plain": [
       "<IPython.core.display.HTML object>"
      ]
     },
     "metadata": {},
     "output_type": "display_data"
    },
    {
     "data": {
      "text/html": [
       "\n",
       "        <div id=\"UQCkRVtDErSBZMore6HsWZ\"></div>\n",
       "        <script>netpixi.call('UQCkRVtDErSBZMore6HsWZ', '6TdJewpHMtn6cJBSwgXbcW', 'changeGraph', 'eyJpZCI6IDc1LCAidHlwZSI6ICJ2ZXJ0ZXgiLCAicHJvcHMiOiB7ImNvbG9yIjogMTY3MTE2ODB9fQo=');</script>\n",
       "    "
      ],
      "text/plain": [
       "<IPython.core.display.HTML object>"
      ]
     },
     "metadata": {},
     "output_type": "display_data"
    },
    {
     "data": {
      "text/html": [
       "\n",
       "        <div id=\"APKumxbeCrjxYu78nhwnwy\"></div>\n",
       "        <script>netpixi.call('APKumxbeCrjxYu78nhwnwy', '6TdJewpHMtn6cJBSwgXbcW', 'changeGraph', 'eyJpZCI6IDIzMywgInR5cGUiOiAidmVydGV4IiwgInByb3BzIjogeyJzaXplIjogMTguODcwMjkyODg3MDI5Mjg3fX0K');</script>\n",
       "    "
      ],
      "text/plain": [
       "<IPython.core.display.HTML object>"
      ]
     },
     "metadata": {},
     "output_type": "display_data"
    },
    {
     "data": {
      "text/html": [
       "\n",
       "        <div id=\"agJDmdeKEsVBdpLyRSg5fR\"></div>\n",
       "        <script>netpixi.call('agJDmdeKEsVBdpLyRSg5fR', '6TdJewpHMtn6cJBSwgXbcW', 'changeGraph', 'eyJpZCI6IDc4LCAidHlwZSI6ICJ2ZXJ0ZXgiLCAicHJvcHMiOiB7ImNvbG9yIjogMTY3MTE2ODB9fQo=');</script>\n",
       "    "
      ],
      "text/plain": [
       "<IPython.core.display.HTML object>"
      ]
     },
     "metadata": {},
     "output_type": "display_data"
    },
    {
     "data": {
      "text/html": [
       "\n",
       "        <div id=\"N3geXMEe7PSBXt6tENJMtX\"></div>\n",
       "        <script>netpixi.call('N3geXMEe7PSBXt6tENJMtX', '6TdJewpHMtn6cJBSwgXbcW', 'changeGraph', 'eyJpZCI6IDIzNCwgInR5cGUiOiAidmVydGV4IiwgInByb3BzIjogeyJzaXplIjogNDcuMTY2NjY2NjY2NjY2Njd9fQo=');</script>\n",
       "    "
      ],
      "text/plain": [
       "<IPython.core.display.HTML object>"
      ]
     },
     "metadata": {},
     "output_type": "display_data"
    },
    {
     "data": {
      "text/html": [
       "\n",
       "        <div id=\"EEDMhpVKvqByFFc2KMrZFK\"></div>\n",
       "        <script>netpixi.call('EEDMhpVKvqByFFc2KMrZFK', '6TdJewpHMtn6cJBSwgXbcW', 'changeGraph', 'eyJpZCI6IDgwLCAidHlwZSI6ICJ2ZXJ0ZXgiLCAicHJvcHMiOiB7ImNvbG9yIjogMTY3MTE2ODB9fQo=');</script>\n",
       "    "
      ],
      "text/plain": [
       "<IPython.core.display.HTML object>"
      ]
     },
     "metadata": {},
     "output_type": "display_data"
    },
    {
     "data": {
      "text/html": [
       "\n",
       "        <div id=\"Lv8xNJsnjdvg4xr9PBtFxT\"></div>\n",
       "        <script>netpixi.call('Lv8xNJsnjdvg4xr9PBtFxT', '6TdJewpHMtn6cJBSwgXbcW', 'changeGraph', 'eyJpZCI6IDIzNSwgInR5cGUiOiAidmVydGV4IiwgInByb3BzIjogeyJzaXplIjogMTIuMjE3NTczMjIxNzU3MzIyfX0K');</script>\n",
       "    "
      ],
      "text/plain": [
       "<IPython.core.display.HTML object>"
      ]
     },
     "metadata": {},
     "output_type": "display_data"
    },
    {
     "data": {
      "text/html": [
       "\n",
       "        <div id=\"ZTwbWwwcyQGo8LCRFRyRBT\"></div>\n",
       "        <script>netpixi.call('ZTwbWwwcyQGo8LCRFRyRBT', '6TdJewpHMtn6cJBSwgXbcW', 'changeGraph', 'eyJpZCI6IDgyLCAidHlwZSI6ICJ2ZXJ0ZXgiLCAicHJvcHMiOiB7ImNvbG9yIjogMTY3MTE2ODB9fQo=');</script>\n",
       "    "
      ],
      "text/plain": [
       "<IPython.core.display.HTML object>"
      ]
     },
     "metadata": {},
     "output_type": "display_data"
    },
    {
     "data": {
      "text/html": [
       "\n",
       "        <div id=\"Zc7Yr7LpKJPoDgywyKLQSY\"></div>\n",
       "        <script>netpixi.call('Zc7Yr7LpKJPoDgywyKLQSY', '6TdJewpHMtn6cJBSwgXbcW', 'changeGraph', 'eyJpZCI6IDIzNiwgInR5cGUiOiAidmVydGV4IiwgInByb3BzIjogeyJzaXplIjogMTMuOTc0ODk1Mzk3NDg5NTR9fQo=');</script>\n",
       "    "
      ],
      "text/plain": [
       "<IPython.core.display.HTML object>"
      ]
     },
     "metadata": {},
     "output_type": "display_data"
    },
    {
     "data": {
      "text/html": [
       "\n",
       "        <div id=\"4gBr3H8ayMLpbGvSGv25pb\"></div>\n",
       "        <script>netpixi.call('4gBr3H8ayMLpbGvSGv25pb', '6TdJewpHMtn6cJBSwgXbcW', 'changeGraph', 'eyJpZCI6IDgwLCAidHlwZSI6ICJ2ZXJ0ZXgiLCAicHJvcHMiOiB7ImNvbG9yIjogMTY3MTE2ODB9fQo=');</script>\n",
       "    "
      ],
      "text/plain": [
       "<IPython.core.display.HTML object>"
      ]
     },
     "metadata": {},
     "output_type": "display_data"
    },
    {
     "data": {
      "text/html": [
       "\n",
       "        <div id=\"9JPzunbzaJbr4FEExQd4qp\"></div>\n",
       "        <script>netpixi.call('9JPzunbzaJbr4FEExQd4qp', '6TdJewpHMtn6cJBSwgXbcW', 'changeGraph', 'eyJpZCI6IDIzNywgInR5cGUiOiAidmVydGV4IiwgInByb3BzIjogeyJzaXplIjogMTYuMjc2MTUwNjI3NjE1MDYzfX0K');</script>\n",
       "    "
      ],
      "text/plain": [
       "<IPython.core.display.HTML object>"
      ]
     },
     "metadata": {},
     "output_type": "display_data"
    },
    {
     "data": {
      "text/html": [
       "\n",
       "        <div id=\"jnEJFjKdvyvjBjP9Wz7xsn\"></div>\n",
       "        <script>netpixi.call('jnEJFjKdvyvjBjP9Wz7xsn', '6TdJewpHMtn6cJBSwgXbcW', 'changeGraph', 'eyJpZCI6IDcyLCAidHlwZSI6ICJ2ZXJ0ZXgiLCAicHJvcHMiOiB7ImNvbG9yIjogMTY3MTE2ODB9fQo=');</script>\n",
       "    "
      ],
      "text/plain": [
       "<IPython.core.display.HTML object>"
      ]
     },
     "metadata": {},
     "output_type": "display_data"
    },
    {
     "data": {
      "text/html": [
       "\n",
       "        <div id=\"mGNu46vEn5d5tg3TssUkfw\"></div>\n",
       "        <script>netpixi.call('mGNu46vEn5d5tg3TssUkfw', '6TdJewpHMtn6cJBSwgXbcW', 'changeGraph', 'eyJpZCI6IDIzOCwgInR5cGUiOiAidmVydGV4IiwgInByb3BzIjogeyJzaXplIjogMTMuNjQwMTY3MzY0MDE2NzM3fX0K');</script>\n",
       "    "
      ],
      "text/plain": [
       "<IPython.core.display.HTML object>"
      ]
     },
     "metadata": {},
     "output_type": "display_data"
    },
    {
     "data": {
      "text/html": [
       "\n",
       "        <div id=\"8vevXtRdK25Vr7ckx7aV6W\"></div>\n",
       "        <script>netpixi.call('8vevXtRdK25Vr7ckx7aV6W', '6TdJewpHMtn6cJBSwgXbcW', 'changeGraph', 'eyJpZCI6IDg3LCAidHlwZSI6ICJ2ZXJ0ZXgiLCAicHJvcHMiOiB7ImNvbG9yIjogMTY3MTE2ODB9fQo=');</script>\n",
       "    "
      ],
      "text/plain": [
       "<IPython.core.display.HTML object>"
      ]
     },
     "metadata": {},
     "output_type": "display_data"
    },
    {
     "data": {
      "text/html": [
       "\n",
       "        <div id=\"EKhwAZKF4EMsKCCxSmrFaz\"></div>\n",
       "        <script>netpixi.call('EKhwAZKF4EMsKCCxSmrFaz', '6TdJewpHMtn6cJBSwgXbcW', 'changeGraph', 'eyJpZCI6IDIzOSwgInR5cGUiOiAidmVydGV4IiwgInByb3BzIjogeyJzaXplIjogMTkuNzQ4OTUzOTc0ODk1Mzk3fX0K');</script>\n",
       "    "
      ],
      "text/plain": [
       "<IPython.core.display.HTML object>"
      ]
     },
     "metadata": {},
     "output_type": "display_data"
    },
    {
     "data": {
      "text/html": [
       "\n",
       "        <div id=\"XgUMjsM6pHZHVQgUDkagxx\"></div>\n",
       "        <script>netpixi.call('XgUMjsM6pHZHVQgUDkagxx', '6TdJewpHMtn6cJBSwgXbcW', 'changeGraph', 'eyJpZCI6IDcwLCAidHlwZSI6ICJ2ZXJ0ZXgiLCAicHJvcHMiOiB7ImNvbG9yIjogMTY3MTE2ODB9fQo=');</script>\n",
       "    "
      ],
      "text/plain": [
       "<IPython.core.display.HTML object>"
      ]
     },
     "metadata": {},
     "output_type": "display_data"
    },
    {
     "data": {
      "text/html": [
       "\n",
       "        <div id=\"TWJGst9Tnqd4Lg4yqEBLdx\"></div>\n",
       "        <script>netpixi.call('TWJGst9Tnqd4Lg4yqEBLdx', '6TdJewpHMtn6cJBSwgXbcW', 'changeGraph', 'eyJpZCI6IDI0MCwgInR5cGUiOiAidmVydGV4IiwgInByb3BzIjogeyJzaXplIjogMTAuMzM0NzI4MDMzNDcyODAzfX0K');</script>\n",
       "    "
      ],
      "text/plain": [
       "<IPython.core.display.HTML object>"
      ]
     },
     "metadata": {},
     "output_type": "display_data"
    },
    {
     "data": {
      "text/html": [
       "\n",
       "        <div id=\"R7JTF7gku3sHuPio4t8FAW\"></div>\n",
       "        <script>netpixi.call('R7JTF7gku3sHuPio4t8FAW', '6TdJewpHMtn6cJBSwgXbcW', 'changeGraph', 'eyJpZCI6IDgyLCAidHlwZSI6ICJ2ZXJ0ZXgiLCAicHJvcHMiOiB7ImNvbG9yIjogMTY3MTE2ODB9fQo=');</script>\n",
       "    "
      ],
      "text/plain": [
       "<IPython.core.display.HTML object>"
      ]
     },
     "metadata": {},
     "output_type": "display_data"
    },
    {
     "data": {
      "text/html": [
       "\n",
       "        <div id=\"MjinnYZCFVonD4Xe654mav\"></div>\n",
       "        <script>netpixi.call('MjinnYZCFVonD4Xe654mav', '6TdJewpHMtn6cJBSwgXbcW', 'changeGraph', 'eyJpZCI6IDI0MSwgInR5cGUiOiAidmVydGV4IiwgInByb3BzIjogeyJzaXplIjogMTYuODYxOTI0Njg2MTkyNDY3fX0K');</script>\n",
       "    "
      ],
      "text/plain": [
       "<IPython.core.display.HTML object>"
      ]
     },
     "metadata": {},
     "output_type": "display_data"
    },
    {
     "data": {
      "text/html": [
       "\n",
       "        <div id=\"mBi6Lw499iSD6qvyqdnbrH\"></div>\n",
       "        <script>netpixi.call('mBi6Lw499iSD6qvyqdnbrH', '6TdJewpHMtn6cJBSwgXbcW', 'changeGraph', 'eyJpZCI6IDgwLCAidHlwZSI6ICJ2ZXJ0ZXgiLCAicHJvcHMiOiB7ImNvbG9yIjogMTY3MTE2ODB9fQo=');</script>\n",
       "    "
      ],
      "text/plain": [
       "<IPython.core.display.HTML object>"
      ]
     },
     "metadata": {},
     "output_type": "display_data"
    },
    {
     "data": {
      "text/html": [
       "\n",
       "        <div id=\"LHBxNsy9dsgnDxSCNQC8eP\"></div>\n",
       "        <script>netpixi.call('LHBxNsy9dsgnDxSCNQC8eP', '6TdJewpHMtn6cJBSwgXbcW', 'changeGraph', 'eyJpZCI6IDI0MiwgInR5cGUiOiAidmVydGV4IiwgInByb3BzIjogeyJzaXplIjogNDQuMH19Cg==');</script>\n",
       "    "
      ],
      "text/plain": [
       "<IPython.core.display.HTML object>"
      ]
     },
     "metadata": {},
     "output_type": "display_data"
    },
    {
     "data": {
      "text/html": [
       "\n",
       "        <div id=\"BwKTY6WG9ik7NgoxAdjDdD\"></div>\n",
       "        <script>netpixi.call('BwKTY6WG9ik7NgoxAdjDdD', '6TdJewpHMtn6cJBSwgXbcW', 'changeGraph', 'eyJpZCI6IDc1LCAidHlwZSI6ICJ2ZXJ0ZXgiLCAicHJvcHMiOiB7ImNvbG9yIjogMTY3MTE2ODB9fQo=');</script>\n",
       "    "
      ],
      "text/plain": [
       "<IPython.core.display.HTML object>"
      ]
     },
     "metadata": {},
     "output_type": "display_data"
    },
    {
     "data": {
      "text/html": [
       "\n",
       "        <div id=\"ehqfX56fRicoECcj4U6dXs\"></div>\n",
       "        <script>netpixi.call('ehqfX56fRicoECcj4U6dXs', '6TdJewpHMtn6cJBSwgXbcW', 'changeGraph', 'eyJpZCI6IDI0MywgInR5cGUiOiAidmVydGV4IiwgInByb3BzIjogeyJzaXplIjogMTkuNzkwNzk0OTc5MDc5NDk3fX0K');</script>\n",
       "    "
      ],
      "text/plain": [
       "<IPython.core.display.HTML object>"
      ]
     },
     "metadata": {},
     "output_type": "display_data"
    },
    {
     "data": {
      "text/html": [
       "\n",
       "        <div id=\"TbyhyNN5cGsDhAgw8FB9n3\"></div>\n",
       "        <script>netpixi.call('TbyhyNN5cGsDhAgw8FB9n3', '6TdJewpHMtn6cJBSwgXbcW', 'changeGraph', 'eyJpZCI6IDg0LCAidHlwZSI6ICJ2ZXJ0ZXgiLCAicHJvcHMiOiB7ImNvbG9yIjogMTY3MTE2ODB9fQo=');</script>\n",
       "    "
      ],
      "text/plain": [
       "<IPython.core.display.HTML object>"
      ]
     },
     "metadata": {},
     "output_type": "display_data"
    },
    {
     "data": {
      "text/html": [
       "\n",
       "        <div id=\"C9Zro5ne2UA9k8HcqN5YxB\"></div>\n",
       "        <script>netpixi.call('C9Zro5ne2UA9k8HcqN5YxB', '6TdJewpHMtn6cJBSwgXbcW', 'changeGraph', 'eyJpZCI6IDI0NCwgInR5cGUiOiAidmVydGV4IiwgInByb3BzIjogeyJzaXplIjogMTYuNTI3MTk2NjUyNzE5NjY3fX0K');</script>\n",
       "    "
      ],
      "text/plain": [
       "<IPython.core.display.HTML object>"
      ]
     },
     "metadata": {},
     "output_type": "display_data"
    },
    {
     "data": {
      "text/html": [
       "\n",
       "        <div id=\"A8uGANhUbox36qfJsLRVD4\"></div>\n",
       "        <script>netpixi.call('A8uGANhUbox36qfJsLRVD4', '6TdJewpHMtn6cJBSwgXbcW', 'changeGraph', 'eyJpZCI6IDcyLCAidHlwZSI6ICJ2ZXJ0ZXgiLCAicHJvcHMiOiB7ImNvbG9yIjogMTY3MTE2ODB9fQo=');</script>\n",
       "    "
      ],
      "text/plain": [
       "<IPython.core.display.HTML object>"
      ]
     },
     "metadata": {},
     "output_type": "display_data"
    },
    {
     "data": {
      "text/html": [
       "\n",
       "        <div id=\"oBEsEoKAyXbDGAWmizEM9r\"></div>\n",
       "        <script>netpixi.call('oBEsEoKAyXbDGAWmizEM9r', '6TdJewpHMtn6cJBSwgXbcW', 'changeGraph', 'eyJpZCI6IDI0NSwgInR5cGUiOiAidmVydGV4IiwgInByb3BzIjogeyJzaXplIjogMTEuMzgwNzUzMTM4MDc1MzEzfX0K');</script>\n",
       "    "
      ],
      "text/plain": [
       "<IPython.core.display.HTML object>"
      ]
     },
     "metadata": {},
     "output_type": "display_data"
    },
    {
     "data": {
      "text/html": [
       "\n",
       "        <div id=\"7C3oFEnqK42PB6ovPYQK3b\"></div>\n",
       "        <script>netpixi.call('7C3oFEnqK42PB6ovPYQK3b', '6TdJewpHMtn6cJBSwgXbcW', 'changeGraph', 'eyJpZCI6IDczLCAidHlwZSI6ICJ2ZXJ0ZXgiLCAicHJvcHMiOiB7ImNvbG9yIjogMTY3MTE2ODB9fQo=');</script>\n",
       "    "
      ],
      "text/plain": [
       "<IPython.core.display.HTML object>"
      ]
     },
     "metadata": {},
     "output_type": "display_data"
    },
    {
     "data": {
      "text/html": [
       "\n",
       "        <div id=\"DkP8zBeRuM7JKVhtyxiUbD\"></div>\n",
       "        <script>netpixi.call('DkP8zBeRuM7JKVhtyxiUbD', '6TdJewpHMtn6cJBSwgXbcW', 'changeGraph', 'eyJpZCI6IDI0NiwgInR5cGUiOiAidmVydGV4IiwgInByb3BzIjogeyJzaXplIjogNDcuMzMzMzMzMzMzMzMzMzM2fX0K');</script>\n",
       "    "
      ],
      "text/plain": [
       "<IPython.core.display.HTML object>"
      ]
     },
     "metadata": {},
     "output_type": "display_data"
    },
    {
     "data": {
      "text/html": [
       "\n",
       "        <div id=\"RpEncCdQwHQaxsquhHMRJD\"></div>\n",
       "        <script>netpixi.call('RpEncCdQwHQaxsquhHMRJD', '6TdJewpHMtn6cJBSwgXbcW', 'changeGraph', 'eyJpZCI6IDc4LCAidHlwZSI6ICJ2ZXJ0ZXgiLCAicHJvcHMiOiB7ImNvbG9yIjogMTY3MTE2ODB9fQo=');</script>\n",
       "    "
      ],
      "text/plain": [
       "<IPython.core.display.HTML object>"
      ]
     },
     "metadata": {},
     "output_type": "display_data"
    },
    {
     "data": {
      "text/html": [
       "\n",
       "        <div id=\"aax8CR8dGC7oEBc4pADmX8\"></div>\n",
       "        <script>netpixi.call('aax8CR8dGC7oEBc4pADmX8', '6TdJewpHMtn6cJBSwgXbcW', 'changeGraph', 'eyJpZCI6IDI0NywgInR5cGUiOiAidmVydGV4IiwgInByb3BzIjogeyJzaXplIjogNDkuMTY2NjY2NjY2NjY2NjY0fX0K');</script>\n",
       "    "
      ],
      "text/plain": [
       "<IPython.core.display.HTML object>"
      ]
     },
     "metadata": {},
     "output_type": "display_data"
    },
    {
     "data": {
      "text/html": [
       "\n",
       "        <div id=\"GDJfy5WtKv3Lba6gC68wne\"></div>\n",
       "        <script>netpixi.call('GDJfy5WtKv3Lba6gC68wne', '6TdJewpHMtn6cJBSwgXbcW', 'changeGraph', 'eyJpZCI6IDcxLCAidHlwZSI6ICJ2ZXJ0ZXgiLCAicHJvcHMiOiB7ImNvbG9yIjogMTY3MTE2ODB9fQo=');</script>\n",
       "    "
      ],
      "text/plain": [
       "<IPython.core.display.HTML object>"
      ]
     },
     "metadata": {},
     "output_type": "display_data"
    },
    {
     "data": {
      "text/html": [
       "\n",
       "        <div id=\"JpSCnAGKHoy5WaFbnJURkq\"></div>\n",
       "        <script>netpixi.call('JpSCnAGKHoy5WaFbnJURkq', '6TdJewpHMtn6cJBSwgXbcW', 'changeGraph', 'eyJpZCI6IDI0OCwgInR5cGUiOiAidmVydGV4IiwgInByb3BzIjogeyJzaXplIjogMTkuNjIzNDMwOTYyMzQzMDk3fX0K');</script>\n",
       "    "
      ],
      "text/plain": [
       "<IPython.core.display.HTML object>"
      ]
     },
     "metadata": {},
     "output_type": "display_data"
    },
    {
     "data": {
      "text/html": [
       "\n",
       "        <div id=\"PtGJ6e6sN5bQf57qj5PMqT\"></div>\n",
       "        <script>netpixi.call('PtGJ6e6sN5bQf57qj5PMqT', '6TdJewpHMtn6cJBSwgXbcW', 'changeGraph', 'eyJpZCI6IDcyLCAidHlwZSI6ICJ2ZXJ0ZXgiLCAicHJvcHMiOiB7ImNvbG9yIjogMTY3MTE2ODB9fQo=');</script>\n",
       "    "
      ],
      "text/plain": [
       "<IPython.core.display.HTML object>"
      ]
     },
     "metadata": {},
     "output_type": "display_data"
    },
    {
     "data": {
      "text/html": [
       "\n",
       "        <div id=\"BsZ5iBskEWJimYZAeryjsM\"></div>\n",
       "        <script>netpixi.call('BsZ5iBskEWJimYZAeryjsM', '6TdJewpHMtn6cJBSwgXbcW', 'changeGraph', 'eyJpZCI6IDI0OSwgInR5cGUiOiAidmVydGV4IiwgInByb3BzIjogeyJzaXplIjogMTguODI4NDUxODgyODQ1MTg3fX0K');</script>\n",
       "    "
      ],
      "text/plain": [
       "<IPython.core.display.HTML object>"
      ]
     },
     "metadata": {},
     "output_type": "display_data"
    },
    {
     "data": {
      "text/html": [
       "\n",
       "        <div id=\"8rVcC2J5VRwtEYvaGu7Lm8\"></div>\n",
       "        <script>netpixi.call('8rVcC2J5VRwtEYvaGu7Lm8', '6TdJewpHMtn6cJBSwgXbcW', 'changeGraph', 'eyJpZCI6IDcxLCAidHlwZSI6ICJ2ZXJ0ZXgiLCAicHJvcHMiOiB7ImNvbG9yIjogMTY3MTE2ODB9fQo=');</script>\n",
       "    "
      ],
      "text/plain": [
       "<IPython.core.display.HTML object>"
      ]
     },
     "metadata": {},
     "output_type": "display_data"
    },
    {
     "data": {
      "text/html": [
       "\n",
       "        <div id=\"5heXaiVcLqpM7hWH8kLm5G\"></div>\n",
       "        <script>netpixi.call('5heXaiVcLqpM7hWH8kLm5G', '6TdJewpHMtn6cJBSwgXbcW', 'changeGraph', 'eyJpZCI6IDI1MCwgInR5cGUiOiAidmVydGV4IiwgInByb3BzIjogeyJzaXplIjogMTUuOTQxNDIyNTk0MTQyMjZ9fQo=');</script>\n",
       "    "
      ],
      "text/plain": [
       "<IPython.core.display.HTML object>"
      ]
     },
     "metadata": {},
     "output_type": "display_data"
    },
    {
     "data": {
      "text/html": [
       "\n",
       "        <div id=\"PsXbKx2a9T5hEawKVBaCLt\"></div>\n",
       "        <script>netpixi.call('PsXbKx2a9T5hEawKVBaCLt', '6TdJewpHMtn6cJBSwgXbcW', 'changeGraph', 'eyJpZCI6IDgyLCAidHlwZSI6ICJ2ZXJ0ZXgiLCAicHJvcHMiOiB7ImNvbG9yIjogMTY3MTE2ODB9fQo=');</script>\n",
       "    "
      ],
      "text/plain": [
       "<IPython.core.display.HTML object>"
      ]
     },
     "metadata": {},
     "output_type": "display_data"
    },
    {
     "data": {
      "text/html": [
       "\n",
       "        <div id=\"XTCJYvrFeMoS3ahuNxEhee\"></div>\n",
       "        <script>netpixi.call('XTCJYvrFeMoS3ahuNxEhee', '6TdJewpHMtn6cJBSwgXbcW', 'changeGraph', 'eyJpZCI6IDI1MSwgInR5cGUiOiAidmVydGV4IiwgInByb3BzIjogeyJzaXplIjogNDYuODMzMzMzMzMzMzMzMzM2fX0K');</script>\n",
       "    "
      ],
      "text/plain": [
       "<IPython.core.display.HTML object>"
      ]
     },
     "metadata": {},
     "output_type": "display_data"
    },
    {
     "data": {
      "text/html": [
       "\n",
       "        <div id=\"DSLXcLounSE77hKFfVCp9j\"></div>\n",
       "        <script>netpixi.call('DSLXcLounSE77hKFfVCp9j', '6TdJewpHMtn6cJBSwgXbcW', 'changeGraph', 'eyJpZCI6IDc2LCAidHlwZSI6ICJ2ZXJ0ZXgiLCAicHJvcHMiOiB7ImNvbG9yIjogMTY3MTE2ODB9fQo=');</script>\n",
       "    "
      ],
      "text/plain": [
       "<IPython.core.display.HTML object>"
      ]
     },
     "metadata": {},
     "output_type": "display_data"
    },
    {
     "data": {
      "text/html": [
       "\n",
       "        <div id=\"4HRFQBQTPddhEXTDKXFaxa\"></div>\n",
       "        <script>netpixi.call('4HRFQBQTPddhEXTDKXFaxa', '6TdJewpHMtn6cJBSwgXbcW', 'changeGraph', 'eyJpZCI6IDI1MiwgInR5cGUiOiAidmVydGV4IiwgInByb3BzIjogeyJzaXplIjogNDYuMTY2NjY2NjY2NjY2NjY0fX0K');</script>\n",
       "    "
      ],
      "text/plain": [
       "<IPython.core.display.HTML object>"
      ]
     },
     "metadata": {},
     "output_type": "display_data"
    },
    {
     "data": {
      "text/html": [
       "\n",
       "        <div id=\"MjkmqmumBxdvN6b2cUU4iR\"></div>\n",
       "        <script>netpixi.call('MjkmqmumBxdvN6b2cUU4iR', '6TdJewpHMtn6cJBSwgXbcW', 'changeGraph', 'eyJpZCI6IDcxLCAidHlwZSI6ICJ2ZXJ0ZXgiLCAicHJvcHMiOiB7ImNvbG9yIjogMTY3MTE2ODB9fQo=');</script>\n",
       "    "
      ],
      "text/plain": [
       "<IPython.core.display.HTML object>"
      ]
     },
     "metadata": {},
     "output_type": "display_data"
    },
    {
     "data": {
      "text/html": [
       "\n",
       "        <div id=\"5y4Y9gU93p86SjFZkWQjrK\"></div>\n",
       "        <script>netpixi.call('5y4Y9gU93p86SjFZkWQjrK', '6TdJewpHMtn6cJBSwgXbcW', 'changeGraph', 'eyJpZCI6IDI1MywgInR5cGUiOiAidmVydGV4IiwgInByb3BzIjogeyJzaXplIjogMTEuODgyODQ1MTg4Mjg0NTE4fX0K');</script>\n",
       "    "
      ],
      "text/plain": [
       "<IPython.core.display.HTML object>"
      ]
     },
     "metadata": {},
     "output_type": "display_data"
    },
    {
     "data": {
      "text/html": [
       "\n",
       "        <div id=\"kZyKzWi5cakw6kEvKXKzwA\"></div>\n",
       "        <script>netpixi.call('kZyKzWi5cakw6kEvKXKzwA', '6TdJewpHMtn6cJBSwgXbcW', 'changeGraph', 'eyJpZCI6IDc2LCAidHlwZSI6ICJ2ZXJ0ZXgiLCAicHJvcHMiOiB7ImNvbG9yIjogMTY3MTE2ODB9fQo=');</script>\n",
       "    "
      ],
      "text/plain": [
       "<IPython.core.display.HTML object>"
      ]
     },
     "metadata": {},
     "output_type": "display_data"
    },
    {
     "data": {
      "text/html": [
       "\n",
       "        <div id=\"n7bH5obxUuFPQKja8oqUTf\"></div>\n",
       "        <script>netpixi.call('n7bH5obxUuFPQKja8oqUTf', '6TdJewpHMtn6cJBSwgXbcW', 'changeGraph', 'eyJpZCI6IDI1NCwgInR5cGUiOiAidmVydGV4IiwgInByb3BzIjogeyJzaXplIjogMTQuMTg0MTAwNDE4NDEwMDQyfX0K');</script>\n",
       "    "
      ],
      "text/plain": [
       "<IPython.core.display.HTML object>"
      ]
     },
     "metadata": {},
     "output_type": "display_data"
    },
    {
     "data": {
      "text/html": [
       "\n",
       "        <div id=\"Lq3FZALYzWEchG3nxWJFs7\"></div>\n",
       "        <script>netpixi.call('Lq3FZALYzWEchG3nxWJFs7', '6TdJewpHMtn6cJBSwgXbcW', 'changeGraph', 'eyJpZCI6IDgxLCAidHlwZSI6ICJ2ZXJ0ZXgiLCAicHJvcHMiOiB7ImNvbG9yIjogMTY3MTE2ODB9fQo=');</script>\n",
       "    "
      ],
      "text/plain": [
       "<IPython.core.display.HTML object>"
      ]
     },
     "metadata": {},
     "output_type": "display_data"
    },
    {
     "data": {
      "text/html": [
       "\n",
       "        <div id=\"cew4zqGWGmzgxnR4JFWowj\"></div>\n",
       "        <script>netpixi.call('cew4zqGWGmzgxnR4JFWowj', '6TdJewpHMtn6cJBSwgXbcW', 'changeGraph', 'eyJpZCI6IDI1NSwgInR5cGUiOiAidmVydGV4IiwgInByb3BzIjogeyJzaXplIjogMTIuNDI2Nzc4MjQyNjc3ODIzfX0K');</script>\n",
       "    "
      ],
      "text/plain": [
       "<IPython.core.display.HTML object>"
      ]
     },
     "metadata": {},
     "output_type": "display_data"
    },
    {
     "data": {
      "text/html": [
       "\n",
       "        <div id=\"XMfUXuAVPDdbFoHLQgfefw\"></div>\n",
       "        <script>netpixi.call('XMfUXuAVPDdbFoHLQgfefw', '6TdJewpHMtn6cJBSwgXbcW', 'changeGraph', 'eyJpZCI6IDgyLCAidHlwZSI6ICJ2ZXJ0ZXgiLCAicHJvcHMiOiB7ImNvbG9yIjogMTY3MTE2ODB9fQo=');</script>\n",
       "    "
      ],
      "text/plain": [
       "<IPython.core.display.HTML object>"
      ]
     },
     "metadata": {},
     "output_type": "display_data"
    },
    {
     "data": {
      "text/html": [
       "\n",
       "        <div id=\"NaDNRCotGm22uMyd2sC8dP\"></div>\n",
       "        <script>netpixi.call('NaDNRCotGm22uMyd2sC8dP', '6TdJewpHMtn6cJBSwgXbcW', 'changeGraph', 'eyJpZCI6IDI1NiwgInR5cGUiOiAidmVydGV4IiwgInByb3BzIjogeyJzaXplIjogMTEuMjk3MDcxMTI5NzA3MTEzfX0K');</script>\n",
       "    "
      ],
      "text/plain": [
       "<IPython.core.display.HTML object>"
      ]
     },
     "metadata": {},
     "output_type": "display_data"
    },
    {
     "data": {
      "text/html": [
       "\n",
       "        <div id=\"ZeTVYupdgwdP2Xxgn4iLfC\"></div>\n",
       "        <script>netpixi.call('ZeTVYupdgwdP2Xxgn4iLfC', '6TdJewpHMtn6cJBSwgXbcW', 'changeGraph', 'eyJpZCI6IDc0LCAidHlwZSI6ICJ2ZXJ0ZXgiLCAicHJvcHMiOiB7ImNvbG9yIjogMTY3MTE2ODB9fQo=');</script>\n",
       "    "
      ],
      "text/plain": [
       "<IPython.core.display.HTML object>"
      ]
     },
     "metadata": {},
     "output_type": "display_data"
    },
    {
     "data": {
      "text/html": [
       "\n",
       "        <div id=\"cQWoETHkccXZE6Tmve8V7P\"></div>\n",
       "        <script>netpixi.call('cQWoETHkccXZE6Tmve8V7P', '6TdJewpHMtn6cJBSwgXbcW', 'changeGraph', 'eyJpZCI6IDI1NywgInR5cGUiOiAidmVydGV4IiwgInByb3BzIjogeyJzaXplIjogMTkuNDk3OTA3OTQ5NzkwNzkzfX0K');</script>\n",
       "    "
      ],
      "text/plain": [
       "<IPython.core.display.HTML object>"
      ]
     },
     "metadata": {},
     "output_type": "display_data"
    },
    {
     "data": {
      "text/html": [
       "\n",
       "        <div id=\"eFkpGQg2X89GMRsu6YhP3L\"></div>\n",
       "        <script>netpixi.call('eFkpGQg2X89GMRsu6YhP3L', '6TdJewpHMtn6cJBSwgXbcW', 'changeGraph', 'eyJpZCI6IDg4LCAidHlwZSI6ICJ2ZXJ0ZXgiLCAicHJvcHMiOiB7ImNvbG9yIjogMTY3MTE2ODB9fQo=');</script>\n",
       "    "
      ],
      "text/plain": [
       "<IPython.core.display.HTML object>"
      ]
     },
     "metadata": {},
     "output_type": "display_data"
    },
    {
     "data": {
      "text/html": [
       "\n",
       "        <div id=\"BTUm5W5JvwD3zeuALLtQAZ\"></div>\n",
       "        <script>netpixi.call('BTUm5W5JvwD3zeuALLtQAZ', '6TdJewpHMtn6cJBSwgXbcW', 'changeGraph', 'eyJpZCI6IDI1OCwgInR5cGUiOiAidmVydGV4IiwgInByb3BzIjogeyJzaXplIjogNDUuMzMzMzMzMzMzMzMzMzN9fQo=');</script>\n",
       "    "
      ],
      "text/plain": [
       "<IPython.core.display.HTML object>"
      ]
     },
     "metadata": {},
     "output_type": "display_data"
    },
    {
     "data": {
      "text/html": [
       "\n",
       "        <div id=\"h8HwhMNHUsEGevnnHcMrXS\"></div>\n",
       "        <script>netpixi.call('h8HwhMNHUsEGevnnHcMrXS', '6TdJewpHMtn6cJBSwgXbcW', 'changeGraph', 'eyJpZCI6IDc2LCAidHlwZSI6ICJ2ZXJ0ZXgiLCAicHJvcHMiOiB7ImNvbG9yIjogMTY3MTE2ODB9fQo=');</script>\n",
       "    "
      ],
      "text/plain": [
       "<IPython.core.display.HTML object>"
      ]
     },
     "metadata": {},
     "output_type": "display_data"
    },
    {
     "data": {
      "text/html": [
       "\n",
       "        <div id=\"fzHC7uTpN3tfvGSZ323j7u\"></div>\n",
       "        <script>netpixi.call('fzHC7uTpN3tfvGSZ323j7u', '6TdJewpHMtn6cJBSwgXbcW', 'changeGraph', 'eyJpZCI6IDI1OSwgInR5cGUiOiAidmVydGV4IiwgInByb3BzIjogeyJzaXplIjogNDIuODMzMzMzMzMzMzMzMzN9fQo=');</script>\n",
       "    "
      ],
      "text/plain": [
       "<IPython.core.display.HTML object>"
      ]
     },
     "metadata": {},
     "output_type": "display_data"
    },
    {
     "data": {
      "text/html": [
       "\n",
       "        <div id=\"VQYk6vXo5wRaA864ceGYMY\"></div>\n",
       "        <script>netpixi.call('VQYk6vXo5wRaA864ceGYMY', '6TdJewpHMtn6cJBSwgXbcW', 'changeGraph', 'eyJpZCI6IDc4LCAidHlwZSI6ICJ2ZXJ0ZXgiLCAicHJvcHMiOiB7ImNvbG9yIjogMTY3MTE2ODB9fQo=');</script>\n",
       "    "
      ],
      "text/plain": [
       "<IPython.core.display.HTML object>"
      ]
     },
     "metadata": {},
     "output_type": "display_data"
    },
    {
     "data": {
      "text/html": [
       "\n",
       "        <div id=\"93zwdvW8AgQMNQfNVhXTDM\"></div>\n",
       "        <script>netpixi.call('93zwdvW8AgQMNQfNVhXTDM', '6TdJewpHMtn6cJBSwgXbcW', 'changeGraph', 'eyJpZCI6IDI2MCwgInR5cGUiOiAidmVydGV4IiwgInByb3BzIjogeyJzaXplIjogMTIuMzQzMDk2MjM0MzA5NjIzfX0K');</script>\n",
       "    "
      ],
      "text/plain": [
       "<IPython.core.display.HTML object>"
      ]
     },
     "metadata": {},
     "output_type": "display_data"
    },
    {
     "data": {
      "text/html": [
       "\n",
       "        <div id=\"AjbBXXVcJsEoR7edCy7agE\"></div>\n",
       "        <script>netpixi.call('AjbBXXVcJsEoR7edCy7agE', '6TdJewpHMtn6cJBSwgXbcW', 'changeGraph', 'eyJpZCI6IDczLCAidHlwZSI6ICJ2ZXJ0ZXgiLCAicHJvcHMiOiB7ImNvbG9yIjogMTY3MTE2ODB9fQo=');</script>\n",
       "    "
      ],
      "text/plain": [
       "<IPython.core.display.HTML object>"
      ]
     },
     "metadata": {},
     "output_type": "display_data"
    },
    {
     "data": {
      "text/html": [
       "\n",
       "        <div id=\"8Qo7AAuXz5zdWWf8QFRgzs\"></div>\n",
       "        <script>netpixi.call('8Qo7AAuXz5zdWWf8QFRgzs', '6TdJewpHMtn6cJBSwgXbcW', 'changeGraph', 'eyJpZCI6IDI2MSwgInR5cGUiOiAidmVydGV4IiwgInByb3BzIjogeyJzaXplIjogMTMuNTU2NDg1MzU1NjQ4NTM1fX0K');</script>\n",
       "    "
      ],
      "text/plain": [
       "<IPython.core.display.HTML object>"
      ]
     },
     "metadata": {},
     "output_type": "display_data"
    },
    {
     "data": {
      "text/html": [
       "\n",
       "        <div id=\"W98PoNR73nHzurq2nW6PTk\"></div>\n",
       "        <script>netpixi.call('W98PoNR73nHzurq2nW6PTk', '6TdJewpHMtn6cJBSwgXbcW', 'changeGraph', 'eyJpZCI6IDgxLCAidHlwZSI6ICJ2ZXJ0ZXgiLCAicHJvcHMiOiB7ImNvbG9yIjogMTY3MTE2ODB9fQo=');</script>\n",
       "    "
      ],
      "text/plain": [
       "<IPython.core.display.HTML object>"
      ]
     },
     "metadata": {},
     "output_type": "display_data"
    },
    {
     "data": {
      "text/html": [
       "\n",
       "        <div id=\"HTMx6U6o7GxXj6JbrFa8LJ\"></div>\n",
       "        <script>netpixi.call('HTMx6U6o7GxXj6JbrFa8LJ', '6TdJewpHMtn6cJBSwgXbcW', 'changeGraph', 'eyJpZCI6IDI2MiwgInR5cGUiOiAidmVydGV4IiwgInByb3BzIjogeyJzaXplIjogNDcuNX19Cg==');</script>\n",
       "    "
      ],
      "text/plain": [
       "<IPython.core.display.HTML object>"
      ]
     },
     "metadata": {},
     "output_type": "display_data"
    },
    {
     "data": {
      "text/html": [
       "\n",
       "        <div id=\"23v6nq4H369HdNzmkua3X6\"></div>\n",
       "        <script>netpixi.call('23v6nq4H369HdNzmkua3X6', '6TdJewpHMtn6cJBSwgXbcW', 'changeGraph', 'eyJpZCI6IDc2LCAidHlwZSI6ICJ2ZXJ0ZXgiLCAicHJvcHMiOiB7ImNvbG9yIjogMTY3MTE2ODB9fQo=');</script>\n",
       "    "
      ],
      "text/plain": [
       "<IPython.core.display.HTML object>"
      ]
     },
     "metadata": {},
     "output_type": "display_data"
    },
    {
     "data": {
      "text/html": [
       "\n",
       "        <div id=\"NXuJjpXPxE2Zca7KKDDJtw\"></div>\n",
       "        <script>netpixi.call('NXuJjpXPxE2Zca7KKDDJtw', '6TdJewpHMtn6cJBSwgXbcW', 'changeGraph', 'eyJpZCI6IDI2MywgInR5cGUiOiAidmVydGV4IiwgInByb3BzIjogeyJzaXplIjogNDguNX19Cg==');</script>\n",
       "    "
      ],
      "text/plain": [
       "<IPython.core.display.HTML object>"
      ]
     },
     "metadata": {},
     "output_type": "display_data"
    },
    {
     "data": {
      "text/html": [
       "\n",
       "        <div id=\"9irE4gvxDvFXgGsmcYoyzj\"></div>\n",
       "        <script>netpixi.call('9irE4gvxDvFXgGsmcYoyzj', '6TdJewpHMtn6cJBSwgXbcW', 'changeGraph', 'eyJpZCI6IDgwLCAidHlwZSI6ICJ2ZXJ0ZXgiLCAicHJvcHMiOiB7ImNvbG9yIjogMTY3MTE2ODB9fQo=');</script>\n",
       "    "
      ],
      "text/plain": [
       "<IPython.core.display.HTML object>"
      ]
     },
     "metadata": {},
     "output_type": "display_data"
    },
    {
     "data": {
      "text/html": [
       "\n",
       "        <div id=\"nvKPEjerzxLHrUmGSnwMkW\"></div>\n",
       "        <script>netpixi.call('nvKPEjerzxLHrUmGSnwMkW', '6TdJewpHMtn6cJBSwgXbcW', 'changeGraph', 'eyJpZCI6IDI2NCwgInR5cGUiOiAidmVydGV4IiwgInByb3BzIjogeyJzaXplIjogMTcuNDQ3Njk4NzQ0NzY5ODczfX0K');</script>\n",
       "    "
      ],
      "text/plain": [
       "<IPython.core.display.HTML object>"
      ]
     },
     "metadata": {},
     "output_type": "display_data"
    },
    {
     "data": {
      "text/html": [
       "\n",
       "        <div id=\"nzjttUL2Cun7LKwGPwSwbD\"></div>\n",
       "        <script>netpixi.call('nzjttUL2Cun7LKwGPwSwbD', '6TdJewpHMtn6cJBSwgXbcW', 'changeGraph', 'eyJpZCI6IDYxLCAidHlwZSI6ICJ2ZXJ0ZXgiLCAicHJvcHMiOiB7ImNvbG9yIjogMTY3MTE2ODB9fQo=');</script>\n",
       "    "
      ],
      "text/plain": [
       "<IPython.core.display.HTML object>"
      ]
     },
     "metadata": {},
     "output_type": "display_data"
    },
    {
     "data": {
      "text/html": [
       "\n",
       "        <div id=\"k5Jvdu77nY2sJSDQ62gKYj\"></div>\n",
       "        <script>netpixi.call('k5Jvdu77nY2sJSDQ62gKYj', '6TdJewpHMtn6cJBSwgXbcW', 'changeGraph', 'eyJpZCI6IDI2NSwgInR5cGUiOiAidmVydGV4IiwgInByb3BzIjogeyJzaXplIjogNDkuNX19Cg==');</script>\n",
       "    "
      ],
      "text/plain": [
       "<IPython.core.display.HTML object>"
      ]
     },
     "metadata": {},
     "output_type": "display_data"
    },
    {
     "data": {
      "text/html": [
       "\n",
       "        <div id=\"5facP9UjDGJTCGaF8yvim4\"></div>\n",
       "        <script>netpixi.call('5facP9UjDGJTCGaF8yvim4', '6TdJewpHMtn6cJBSwgXbcW', 'changeGraph', 'eyJpZCI6IDcyLCAidHlwZSI6ICJ2ZXJ0ZXgiLCAicHJvcHMiOiB7ImNvbG9yIjogMTY3MTE2ODB9fQo=');</script>\n",
       "    "
      ],
      "text/plain": [
       "<IPython.core.display.HTML object>"
      ]
     },
     "metadata": {},
     "output_type": "display_data"
    },
    {
     "data": {
      "text/html": [
       "\n",
       "        <div id=\"HgrrYQP7JFTXd5ZG4qwuUT\"></div>\n",
       "        <script>netpixi.call('HgrrYQP7JFTXd5ZG4qwuUT', '6TdJewpHMtn6cJBSwgXbcW', 'changeGraph', 'eyJpZCI6IDI2NiwgInR5cGUiOiAidmVydGV4IiwgInByb3BzIjogeyJzaXplIjogMTUuMjcxOTY2NTI3MTk2NjUyfX0K');</script>\n",
       "    "
      ],
      "text/plain": [
       "<IPython.core.display.HTML object>"
      ]
     },
     "metadata": {},
     "output_type": "display_data"
    },
    {
     "data": {
      "text/html": [
       "\n",
       "        <div id=\"gNNGQshBGRvNq2FENc3a55\"></div>\n",
       "        <script>netpixi.call('gNNGQshBGRvNq2FENc3a55', '6TdJewpHMtn6cJBSwgXbcW', 'changeGraph', 'eyJpZCI6IDczLCAidHlwZSI6ICJ2ZXJ0ZXgiLCAicHJvcHMiOiB7ImNvbG9yIjogMTY3MTE2ODB9fQo=');</script>\n",
       "    "
      ],
      "text/plain": [
       "<IPython.core.display.HTML object>"
      ]
     },
     "metadata": {},
     "output_type": "display_data"
    },
    {
     "data": {
      "text/html": [
       "\n",
       "        <div id=\"LL49xRuYCMBxQifN9YDbvS\"></div>\n",
       "        <script>netpixi.call('LL49xRuYCMBxQifN9YDbvS', '6TdJewpHMtn6cJBSwgXbcW', 'changeGraph', 'eyJpZCI6IDI2NywgInR5cGUiOiAidmVydGV4IiwgInByb3BzIjogeyJzaXplIjogMTAuMDgzNjgyMDA4MzY4Mn19Cg==');</script>\n",
       "    "
      ],
      "text/plain": [
       "<IPython.core.display.HTML object>"
      ]
     },
     "metadata": {},
     "output_type": "display_data"
    },
    {
     "data": {
      "text/html": [
       "\n",
       "        <div id=\"ixG3cwdCfZjibppiZHFwKj\"></div>\n",
       "        <script>netpixi.call('ixG3cwdCfZjibppiZHFwKj', '6TdJewpHMtn6cJBSwgXbcW', 'changeGraph', 'eyJpZCI6IDY2LCAidHlwZSI6ICJ2ZXJ0ZXgiLCAicHJvcHMiOiB7ImNvbG9yIjogMTY3MTE2ODB9fQo=');</script>\n",
       "    "
      ],
      "text/plain": [
       "<IPython.core.display.HTML object>"
      ]
     },
     "metadata": {},
     "output_type": "display_data"
    },
    {
     "data": {
      "text/html": [
       "\n",
       "        <div id=\"MYiMnHWCna5CFGrEFAfzVD\"></div>\n",
       "        <script>netpixi.call('MYiMnHWCna5CFGrEFAfzVD', '6TdJewpHMtn6cJBSwgXbcW', 'changeGraph', 'eyJpZCI6IDI2OCwgInR5cGUiOiAidmVydGV4IiwgInByb3BzIjogeyJzaXplIjogMTIuODAzMzQ3MjgwMzM0NzI3fX0K');</script>\n",
       "    "
      ],
      "text/plain": [
       "<IPython.core.display.HTML object>"
      ]
     },
     "metadata": {},
     "output_type": "display_data"
    },
    {
     "data": {
      "text/html": [
       "\n",
       "        <div id=\"miWQBNXrAfP6NhAhDSFMKy\"></div>\n",
       "        <script>netpixi.call('miWQBNXrAfP6NhAhDSFMKy', '6TdJewpHMtn6cJBSwgXbcW', 'changeGraph', 'eyJpZCI6IDgxLCAidHlwZSI6ICJ2ZXJ0ZXgiLCAicHJvcHMiOiB7ImNvbG9yIjogMTY3MTE2ODB9fQo=');</script>\n",
       "    "
      ],
      "text/plain": [
       "<IPython.core.display.HTML object>"
      ]
     },
     "metadata": {},
     "output_type": "display_data"
    },
    {
     "data": {
      "text/html": [
       "\n",
       "        <div id=\"5keMCshCRaBMVV2ZBRTxm3\"></div>\n",
       "        <script>netpixi.call('5keMCshCRaBMVV2ZBRTxm3', '6TdJewpHMtn6cJBSwgXbcW', 'changeGraph', 'eyJpZCI6IDI2OSwgInR5cGUiOiAidmVydGV4IiwgInByb3BzIjogeyJzaXplIjogMTIuNTk0MTQyMjU5NDE0MjI1fX0K');</script>\n",
       "    "
      ],
      "text/plain": [
       "<IPython.core.display.HTML object>"
      ]
     },
     "metadata": {},
     "output_type": "display_data"
    },
    {
     "data": {
      "text/html": [
       "\n",
       "        <div id=\"9P5jt69V6dSzrTmNC3Y4Ab\"></div>\n",
       "        <script>netpixi.call('9P5jt69V6dSzrTmNC3Y4Ab', '6TdJewpHMtn6cJBSwgXbcW', 'changeGraph', 'eyJpZCI6IDgyLCAidHlwZSI6ICJ2ZXJ0ZXgiLCAicHJvcHMiOiB7ImNvbG9yIjogMTY3MTE2ODB9fQo=');</script>\n",
       "    "
      ],
      "text/plain": [
       "<IPython.core.display.HTML object>"
      ]
     },
     "metadata": {},
     "output_type": "display_data"
    },
    {
     "data": {
      "text/html": [
       "\n",
       "        <div id=\"7Gyrk9PqSSGXVPgdrgLjQU\"></div>\n",
       "        <script>netpixi.call('7Gyrk9PqSSGXVPgdrgLjQU', '6TdJewpHMtn6cJBSwgXbcW', 'changeGraph', 'eyJpZCI6IDI3MCwgInR5cGUiOiAidmVydGV4IiwgInByb3BzIjogeyJzaXplIjogMTkuMTYzMTc5OTE2MzE3OTl9fQo=');</script>\n",
       "    "
      ],
      "text/plain": [
       "<IPython.core.display.HTML object>"
      ]
     },
     "metadata": {},
     "output_type": "display_data"
    },
    {
     "data": {
      "text/html": [
       "\n",
       "        <div id=\"gsb9dPwDfDS6keXEGZGUFF\"></div>\n",
       "        <script>netpixi.call('gsb9dPwDfDS6keXEGZGUFF', '6TdJewpHMtn6cJBSwgXbcW', 'changeGraph', 'eyJpZCI6IDcxLCAidHlwZSI6ICJ2ZXJ0ZXgiLCAicHJvcHMiOiB7ImNvbG9yIjogMTY3MTE2ODB9fQo=');</script>\n",
       "    "
      ],
      "text/plain": [
       "<IPython.core.display.HTML object>"
      ]
     },
     "metadata": {},
     "output_type": "display_data"
    },
    {
     "data": {
      "text/html": [
       "\n",
       "        <div id=\"Li2uHcjkjXmLX4ynMcNt8M\"></div>\n",
       "        <script>netpixi.call('Li2uHcjkjXmLX4ynMcNt8M', '6TdJewpHMtn6cJBSwgXbcW', 'changeGraph', 'eyJpZCI6IDI3MSwgInR5cGUiOiAidmVydGV4IiwgInByb3BzIjogeyJzaXplIjogMTEuMjEzMzg5MTIxMzM4OTEyfX0K');</script>\n",
       "    "
      ],
      "text/plain": [
       "<IPython.core.display.HTML object>"
      ]
     },
     "metadata": {},
     "output_type": "display_data"
    },
    {
     "data": {
      "text/html": [
       "\n",
       "        <div id=\"gCsKVdV2b8LnLXvxVRvhyC\"></div>\n",
       "        <script>netpixi.call('gCsKVdV2b8LnLXvxVRvhyC', '6TdJewpHMtn6cJBSwgXbcW', 'changeGraph', 'eyJpZCI6IDgxLCAidHlwZSI6ICJ2ZXJ0ZXgiLCAicHJvcHMiOiB7ImNvbG9yIjogMTY3MTE2ODB9fQo=');</script>\n",
       "    "
      ],
      "text/plain": [
       "<IPython.core.display.HTML object>"
      ]
     },
     "metadata": {},
     "output_type": "display_data"
    },
    {
     "data": {
      "text/html": [
       "\n",
       "        <div id=\"5TtJRywpCTRNKfipVppqZT\"></div>\n",
       "        <script>netpixi.call('5TtJRywpCTRNKfipVppqZT', '6TdJewpHMtn6cJBSwgXbcW', 'changeGraph', 'eyJpZCI6IDI3MiwgInR5cGUiOiAidmVydGV4IiwgInByb3BzIjogeyJzaXplIjogMTMuMTc5OTE2MzE3OTkxNjMyfX0K');</script>\n",
       "    "
      ],
      "text/plain": [
       "<IPython.core.display.HTML object>"
      ]
     },
     "metadata": {},
     "output_type": "display_data"
    },
    {
     "data": {
      "text/html": [
       "\n",
       "        <div id=\"gVn7hsFtdGNzzkGWSsdEGV\"></div>\n",
       "        <script>netpixi.call('gVn7hsFtdGNzzkGWSsdEGV', '6TdJewpHMtn6cJBSwgXbcW', 'changeGraph', 'eyJpZCI6IDg3LCAidHlwZSI6ICJ2ZXJ0ZXgiLCAicHJvcHMiOiB7ImNvbG9yIjogMTY3MTE2ODB9fQo=');</script>\n",
       "    "
      ],
      "text/plain": [
       "<IPython.core.display.HTML object>"
      ]
     },
     "metadata": {},
     "output_type": "display_data"
    },
    {
     "data": {
      "text/html": [
       "\n",
       "        <div id=\"49J6ggsuBEzNbckDZzG9rV\"></div>\n",
       "        <script>netpixi.call('49J6ggsuBEzNbckDZzG9rV', '6TdJewpHMtn6cJBSwgXbcW', 'changeGraph', 'eyJpZCI6IDI3MywgInR5cGUiOiAidmVydGV4IiwgInByb3BzIjogeyJzaXplIjogMTEuMzM4OTEyMTMzODkxMjEzfX0K');</script>\n",
       "    "
      ],
      "text/plain": [
       "<IPython.core.display.HTML object>"
      ]
     },
     "metadata": {},
     "output_type": "display_data"
    },
    {
     "data": {
      "text/html": [
       "\n",
       "        <div id=\"UzfGaKWNrjpDJag7jrkJZ9\"></div>\n",
       "        <script>netpixi.call('UzfGaKWNrjpDJag7jrkJZ9', '6TdJewpHMtn6cJBSwgXbcW', 'changeGraph', 'eyJpZCI6IDc2LCAidHlwZSI6ICJ2ZXJ0ZXgiLCAicHJvcHMiOiB7ImNvbG9yIjogMTY3MTE2ODB9fQo=');</script>\n",
       "    "
      ],
      "text/plain": [
       "<IPython.core.display.HTML object>"
      ]
     },
     "metadata": {},
     "output_type": "display_data"
    },
    {
     "data": {
      "text/html": [
       "\n",
       "        <div id=\"MyRs9ixZaUrSkTD4h2ip2t\"></div>\n",
       "        <script>netpixi.call('MyRs9ixZaUrSkTD4h2ip2t', '6TdJewpHMtn6cJBSwgXbcW', 'changeGraph', 'eyJpZCI6IDI3NCwgInR5cGUiOiAidmVydGV4IiwgInByb3BzIjogeyJzaXplIjogMTkuNDU2MDY2OTQ1NjA2NjkzfX0K');</script>\n",
       "    "
      ],
      "text/plain": [
       "<IPython.core.display.HTML object>"
      ]
     },
     "metadata": {},
     "output_type": "display_data"
    },
    {
     "data": {
      "text/html": [
       "\n",
       "        <div id=\"RWrEKFwSY7XukiqBNLbqnf\"></div>\n",
       "        <script>netpixi.call('RWrEKFwSY7XukiqBNLbqnf', '6TdJewpHMtn6cJBSwgXbcW', 'changeGraph', 'eyJpZCI6IDgzLCAidHlwZSI6ICJ2ZXJ0ZXgiLCAicHJvcHMiOiB7ImNvbG9yIjogMTY3MTE2ODB9fQo=');</script>\n",
       "    "
      ],
      "text/plain": [
       "<IPython.core.display.HTML object>"
      ]
     },
     "metadata": {},
     "output_type": "display_data"
    },
    {
     "data": {
      "text/html": [
       "\n",
       "        <div id=\"gZwDnzSRps9Bxwtn4sBqXz\"></div>\n",
       "        <script>netpixi.call('gZwDnzSRps9Bxwtn4sBqXz', '6TdJewpHMtn6cJBSwgXbcW', 'changeGraph', 'eyJpZCI6IDI3NSwgInR5cGUiOiAidmVydGV4IiwgInByb3BzIjogeyJzaXplIjogMTIuNTUyMzAxMjU1MjMwMTI1fX0K');</script>\n",
       "    "
      ],
      "text/plain": [
       "<IPython.core.display.HTML object>"
      ]
     },
     "metadata": {},
     "output_type": "display_data"
    },
    {
     "data": {
      "text/html": [
       "\n",
       "        <div id=\"XiyjBFBVzFXto2cxmX2LWD\"></div>\n",
       "        <script>netpixi.call('XiyjBFBVzFXto2cxmX2LWD', '6TdJewpHMtn6cJBSwgXbcW', 'changeGraph', 'eyJpZCI6IDcyLCAidHlwZSI6ICJ2ZXJ0ZXgiLCAicHJvcHMiOiB7ImNvbG9yIjogMTY3MTE2ODB9fQo=');</script>\n",
       "    "
      ],
      "text/plain": [
       "<IPython.core.display.HTML object>"
      ]
     },
     "metadata": {},
     "output_type": "display_data"
    },
    {
     "data": {
      "text/html": [
       "\n",
       "        <div id=\"howUTmhQa4XiuNCZYznvRG\"></div>\n",
       "        <script>netpixi.call('howUTmhQa4XiuNCZYznvRG', '6TdJewpHMtn6cJBSwgXbcW', 'changeGraph', 'eyJpZCI6IDI3NiwgInR5cGUiOiAidmVydGV4IiwgInByb3BzIjogeyJzaXplIjogMTIuMjU5NDE0MjI1OTQxNDIzfX0K');</script>\n",
       "    "
      ],
      "text/plain": [
       "<IPython.core.display.HTML object>"
      ]
     },
     "metadata": {},
     "output_type": "display_data"
    },
    {
     "data": {
      "text/html": [
       "\n",
       "        <div id=\"8MWAgQjRoBnrAYrHjxrps8\"></div>\n",
       "        <script>netpixi.call('8MWAgQjRoBnrAYrHjxrps8', '6TdJewpHMtn6cJBSwgXbcW', 'changeGraph', 'eyJpZCI6IDc1LCAidHlwZSI6ICJ2ZXJ0ZXgiLCAicHJvcHMiOiB7ImNvbG9yIjogMTY3MTE2ODB9fQo=');</script>\n",
       "    "
      ],
      "text/plain": [
       "<IPython.core.display.HTML object>"
      ]
     },
     "metadata": {},
     "output_type": "display_data"
    },
    {
     "data": {
      "text/html": [
       "\n",
       "        <div id=\"UUAyDcAiExJs8fMq5ae3AN\"></div>\n",
       "        <script>netpixi.call('UUAyDcAiExJs8fMq5ae3AN', '6TdJewpHMtn6cJBSwgXbcW', 'changeGraph', 'eyJpZCI6IDI3NywgInR5cGUiOiAidmVydGV4IiwgInByb3BzIjogeyJzaXplIjogMTYuNzM2NDAxNjczNjQwMTY3fX0K');</script>\n",
       "    "
      ],
      "text/plain": [
       "<IPython.core.display.HTML object>"
      ]
     },
     "metadata": {},
     "output_type": "display_data"
    },
    {
     "data": {
      "text/html": [
       "\n",
       "        <div id=\"BYKqgAK9eT6J2NQuosJevk\"></div>\n",
       "        <script>netpixi.call('BYKqgAK9eT6J2NQuosJevk', '6TdJewpHMtn6cJBSwgXbcW', 'changeGraph', 'eyJpZCI6IDgwLCAidHlwZSI6ICJ2ZXJ0ZXgiLCAicHJvcHMiOiB7ImNvbG9yIjogMTY3MTE2ODB9fQo=');</script>\n",
       "    "
      ],
      "text/plain": [
       "<IPython.core.display.HTML object>"
      ]
     },
     "metadata": {},
     "output_type": "display_data"
    },
    {
     "data": {
      "text/html": [
       "\n",
       "        <div id=\"gMYPMRH3NWqzXZZ2zUz47F\"></div>\n",
       "        <script>netpixi.call('gMYPMRH3NWqzXZZ2zUz47F', '6TdJewpHMtn6cJBSwgXbcW', 'changeGraph', 'eyJpZCI6IDI3OCwgInR5cGUiOiAidmVydGV4IiwgInByb3BzIjogeyJzaXplIjogMTIuNDY4NjE5MjQ2ODYxOTI1fX0K');</script>\n",
       "    "
      ],
      "text/plain": [
       "<IPython.core.display.HTML object>"
      ]
     },
     "metadata": {},
     "output_type": "display_data"
    },
    {
     "data": {
      "text/html": [
       "\n",
       "        <div id=\"ApEJ7jV8PBVVtqhh6fYtdp\"></div>\n",
       "        <script>netpixi.call('ApEJ7jV8PBVVtqhh6fYtdp', '6TdJewpHMtn6cJBSwgXbcW', 'changeGraph', 'eyJpZCI6IDYyLCAidHlwZSI6ICJ2ZXJ0ZXgiLCAicHJvcHMiOiB7ImNvbG9yIjogMTY3MTE2ODB9fQo=');</script>\n",
       "    "
      ],
      "text/plain": [
       "<IPython.core.display.HTML object>"
      ]
     },
     "metadata": {},
     "output_type": "display_data"
    },
    {
     "data": {
      "text/html": [
       "\n",
       "        <div id=\"nu3zXiNwnczUxc6ERGopzi\"></div>\n",
       "        <script>netpixi.call('nu3zXiNwnczUxc6ERGopzi', '6TdJewpHMtn6cJBSwgXbcW', 'changeGraph', 'eyJpZCI6IDI3OSwgInR5cGUiOiAidmVydGV4IiwgInByb3BzIjogeyJzaXplIjogMTkuNjY1MjcxOTY2NTI3MTk3fX0K');</script>\n",
       "    "
      ],
      "text/plain": [
       "<IPython.core.display.HTML object>"
      ]
     },
     "metadata": {},
     "output_type": "display_data"
    },
    {
     "data": {
      "text/html": [
       "\n",
       "        <div id=\"cpVTEUnLvBivoiJV96kX88\"></div>\n",
       "        <script>netpixi.call('cpVTEUnLvBivoiJV96kX88', '6TdJewpHMtn6cJBSwgXbcW', 'changeGraph', 'eyJpZCI6IDczLCAidHlwZSI6ICJ2ZXJ0ZXgiLCAicHJvcHMiOiB7ImNvbG9yIjogMTY3MTE2ODB9fQo=');</script>\n",
       "    "
      ],
      "text/plain": [
       "<IPython.core.display.HTML object>"
      ]
     },
     "metadata": {},
     "output_type": "display_data"
    },
    {
     "data": {
      "text/html": [
       "\n",
       "        <div id=\"94yYeRr8ZYegzmtSjN6Le2\"></div>\n",
       "        <script>netpixi.call('94yYeRr8ZYegzmtSjN6Le2', '6TdJewpHMtn6cJBSwgXbcW', 'changeGraph', 'eyJpZCI6IDI4MCwgInR5cGUiOiAidmVydGV4IiwgInByb3BzIjogeyJzaXplIjogMTguMjQyNjc3ODI0MjY3Nzh9fQo=');</script>\n",
       "    "
      ],
      "text/plain": [
       "<IPython.core.display.HTML object>"
      ]
     },
     "metadata": {},
     "output_type": "display_data"
    },
    {
     "data": {
      "text/html": [
       "\n",
       "        <div id=\"kiwXzyNTka4kyN7izYEx7V\"></div>\n",
       "        <script>netpixi.call('kiwXzyNTka4kyN7izYEx7V', '6TdJewpHMtn6cJBSwgXbcW', 'changeGraph', 'eyJpZCI6IDc4LCAidHlwZSI6ICJ2ZXJ0ZXgiLCAicHJvcHMiOiB7ImNvbG9yIjogMTY3MTE2ODB9fQo=');</script>\n",
       "    "
      ],
      "text/plain": [
       "<IPython.core.display.HTML object>"
      ]
     },
     "metadata": {},
     "output_type": "display_data"
    },
    {
     "data": {
      "text/html": [
       "\n",
       "        <div id=\"58vYmyUrpro7tnpLieWjNG\"></div>\n",
       "        <script>netpixi.call('58vYmyUrpro7tnpLieWjNG', '6TdJewpHMtn6cJBSwgXbcW', 'changeGraph', 'eyJpZCI6IDI4MSwgInR5cGUiOiAidmVydGV4IiwgInByb3BzIjogeyJzaXplIjogMTIuMTc1NzMyMjE3NTczMjIyfX0K');</script>\n",
       "    "
      ],
      "text/plain": [
       "<IPython.core.display.HTML object>"
      ]
     },
     "metadata": {},
     "output_type": "display_data"
    },
    {
     "data": {
      "text/html": [
       "\n",
       "        <div id=\"9rR4KtKzq65RkfXF87bqrY\"></div>\n",
       "        <script>netpixi.call('9rR4KtKzq65RkfXF87bqrY', '6TdJewpHMtn6cJBSwgXbcW', 'changeGraph', 'eyJpZCI6IDY3LCAidHlwZSI6ICJ2ZXJ0ZXgiLCAicHJvcHMiOiB7ImNvbG9yIjogMTY3MTE2ODB9fQo=');</script>\n",
       "    "
      ],
      "text/plain": [
       "<IPython.core.display.HTML object>"
      ]
     },
     "metadata": {},
     "output_type": "display_data"
    },
    {
     "data": {
      "text/html": [
       "\n",
       "        <div id=\"XEFqNKn9F4ajUJ95xF7HA8\"></div>\n",
       "        <script>netpixi.call('XEFqNKn9F4ajUJ95xF7HA8', '6TdJewpHMtn6cJBSwgXbcW', 'changeGraph', 'eyJpZCI6IDI4MiwgInR5cGUiOiAidmVydGV4IiwgInByb3BzIjogeyJzaXplIjogMTkuMjQ2ODYxOTI0Njg2MTkzfX0K');</script>\n",
       "    "
      ],
      "text/plain": [
       "<IPython.core.display.HTML object>"
      ]
     },
     "metadata": {},
     "output_type": "display_data"
    },
    {
     "data": {
      "text/html": [
       "\n",
       "        <div id=\"LXvbEd9RAXPnbEQLjKsCXD\"></div>\n",
       "        <script>netpixi.call('LXvbEd9RAXPnbEQLjKsCXD', '6TdJewpHMtn6cJBSwgXbcW', 'changeGraph', 'eyJpZCI6IDkzLCAidHlwZSI6ICJ2ZXJ0ZXgiLCAicHJvcHMiOiB7ImNvbG9yIjogMTY3MTE2ODB9fQo=');</script>\n",
       "    "
      ],
      "text/plain": [
       "<IPython.core.display.HTML object>"
      ]
     },
     "metadata": {},
     "output_type": "display_data"
    },
    {
     "data": {
      "text/html": [
       "\n",
       "        <div id=\"UT5MBN6Yk3brhkiSX5J6mB\"></div>\n",
       "        <script>netpixi.call('UT5MBN6Yk3brhkiSX5J6mB', '6TdJewpHMtn6cJBSwgXbcW', 'changeGraph', 'eyJpZCI6IDI4MywgInR5cGUiOiAidmVydGV4IiwgInByb3BzIjogeyJzaXplIjogMTMuMDEyNTUyMzAxMjU1MjN9fQo=');</script>\n",
       "    "
      ],
      "text/plain": [
       "<IPython.core.display.HTML object>"
      ]
     },
     "metadata": {},
     "output_type": "display_data"
    },
    {
     "data": {
      "text/html": [
       "\n",
       "        <div id=\"WxjqSUgKF5x2bLA6xCRBXG\"></div>\n",
       "        <script>netpixi.call('WxjqSUgKF5x2bLA6xCRBXG', '6TdJewpHMtn6cJBSwgXbcW', 'changeGraph', 'eyJpZCI6IDY3LCAidHlwZSI6ICJ2ZXJ0ZXgiLCAicHJvcHMiOiB7ImNvbG9yIjogMTY3MTE2ODB9fQo=');</script>\n",
       "    "
      ],
      "text/plain": [
       "<IPython.core.display.HTML object>"
      ]
     },
     "metadata": {},
     "output_type": "display_data"
    },
    {
     "data": {
      "text/html": [
       "\n",
       "        <div id=\"3crSAWtfctfuNXmed6cf7D\"></div>\n",
       "        <script>netpixi.call('3crSAWtfctfuNXmed6cf7D', '6TdJewpHMtn6cJBSwgXbcW', 'changeGraph', 'eyJpZCI6IDI4NCwgInR5cGUiOiAidmVydGV4IiwgInByb3BzIjogeyJzaXplIjogMTQuNTE4ODI4NDUxODgyODQ1fX0K');</script>\n",
       "    "
      ],
      "text/plain": [
       "<IPython.core.display.HTML object>"
      ]
     },
     "metadata": {},
     "output_type": "display_data"
    },
    {
     "data": {
      "text/html": [
       "\n",
       "        <div id=\"XrMustkVb3eSnAmbnRyLTa\"></div>\n",
       "        <script>netpixi.call('XrMustkVb3eSnAmbnRyLTa', '6TdJewpHMtn6cJBSwgXbcW', 'changeGraph', 'eyJpZCI6IDgwLCAidHlwZSI6ICJ2ZXJ0ZXgiLCAicHJvcHMiOiB7ImNvbG9yIjogMTY3MTE2ODB9fQo=');</script>\n",
       "    "
      ],
      "text/plain": [
       "<IPython.core.display.HTML object>"
      ]
     },
     "metadata": {},
     "output_type": "display_data"
    },
    {
     "data": {
      "text/html": [
       "\n",
       "        <div id=\"A8wRmhqyJxhrU88S38D73f\"></div>\n",
       "        <script>netpixi.call('A8wRmhqyJxhrU88S38D73f', '6TdJewpHMtn6cJBSwgXbcW', 'changeGraph', 'eyJpZCI6IDI4NSwgInR5cGUiOiAidmVydGV4IiwgInByb3BzIjogeyJzaXplIjogMTEuNzk5MTYzMTc5OTE2MzE4fX0K');</script>\n",
       "    "
      ],
      "text/plain": [
       "<IPython.core.display.HTML object>"
      ]
     },
     "metadata": {},
     "output_type": "display_data"
    },
    {
     "data": {
      "text/html": [
       "\n",
       "        <div id=\"ntBtZokoeyx8m6XxnvNXFm\"></div>\n",
       "        <script>netpixi.call('ntBtZokoeyx8m6XxnvNXFm', '6TdJewpHMtn6cJBSwgXbcW', 'changeGraph', 'eyJpZCI6IDg0LCAidHlwZSI6ICJ2ZXJ0ZXgiLCAicHJvcHMiOiB7ImNvbG9yIjogMTY3MTE2ODB9fQo=');</script>\n",
       "    "
      ],
      "text/plain": [
       "<IPython.core.display.HTML object>"
      ]
     },
     "metadata": {},
     "output_type": "display_data"
    },
    {
     "data": {
      "text/html": [
       "\n",
       "        <div id=\"LEnhnE237UoP5USf9t6SAS\"></div>\n",
       "        <script>netpixi.call('LEnhnE237UoP5USf9t6SAS', '6TdJewpHMtn6cJBSwgXbcW', 'changeGraph', 'eyJpZCI6IDI4NiwgInR5cGUiOiAidmVydGV4IiwgInByb3BzIjogeyJzaXplIjogMTYuOTAzNzY1NjkwMzc2NTY3fX0K');</script>\n",
       "    "
      ],
      "text/plain": [
       "<IPython.core.display.HTML object>"
      ]
     },
     "metadata": {},
     "output_type": "display_data"
    },
    {
     "data": {
      "text/html": [
       "\n",
       "        <div id=\"grqJwKjajvfxmsojhvR8dC\"></div>\n",
       "        <script>netpixi.call('grqJwKjajvfxmsojhvR8dC', '6TdJewpHMtn6cJBSwgXbcW', 'changeGraph', 'eyJpZCI6IDkwLCAidHlwZSI6ICJ2ZXJ0ZXgiLCAicHJvcHMiOiB7ImNvbG9yIjogMTY3MTE2ODB9fQo=');</script>\n",
       "    "
      ],
      "text/plain": [
       "<IPython.core.display.HTML object>"
      ]
     },
     "metadata": {},
     "output_type": "display_data"
    },
    {
     "data": {
      "text/html": [
       "\n",
       "        <div id=\"8GYMCohPj3JGF5sXwVpxCJ\"></div>\n",
       "        <script>netpixi.call('8GYMCohPj3JGF5sXwVpxCJ', '6TdJewpHMtn6cJBSwgXbcW', 'changeGraph', 'eyJpZCI6IDI4NywgInR5cGUiOiAidmVydGV4IiwgInByb3BzIjogeyJzaXplIjogMTEuMDg3ODY2MTA4Nzg2NjF9fQo=');</script>\n",
       "    "
      ],
      "text/plain": [
       "<IPython.core.display.HTML object>"
      ]
     },
     "metadata": {},
     "output_type": "display_data"
    },
    {
     "data": {
      "text/html": [
       "\n",
       "        <div id=\"2z5AA3jmcBvcK2mAmXrVaY\"></div>\n",
       "        <script>netpixi.call('2z5AA3jmcBvcK2mAmXrVaY', '6TdJewpHMtn6cJBSwgXbcW', 'changeGraph', 'eyJpZCI6IDY2LCAidHlwZSI6ICJ2ZXJ0ZXgiLCAicHJvcHMiOiB7ImNvbG9yIjogMTY3MTE2ODB9fQo=');</script>\n",
       "    "
      ],
      "text/plain": [
       "<IPython.core.display.HTML object>"
      ]
     },
     "metadata": {},
     "output_type": "display_data"
    },
    {
     "data": {
      "text/html": [
       "\n",
       "        <div id=\"CTjqaT7Atqx3Xv5Cu9qWPZ\"></div>\n",
       "        <script>netpixi.call('CTjqaT7Atqx3Xv5Cu9qWPZ', '6TdJewpHMtn6cJBSwgXbcW', 'changeGraph', 'eyJpZCI6IDI4OCwgInR5cGUiOiAidmVydGV4IiwgInByb3BzIjogeyJzaXplIjogMTAuMTY3MzY0MDE2NzM2NDAyfX0K');</script>\n",
       "    "
      ],
      "text/plain": [
       "<IPython.core.display.HTML object>"
      ]
     },
     "metadata": {},
     "output_type": "display_data"
    },
    {
     "data": {
      "text/html": [
       "\n",
       "        <div id=\"FLeS7WPGcufw4VwAuEa9FT\"></div>\n",
       "        <script>netpixi.call('FLeS7WPGcufw4VwAuEa9FT', '6TdJewpHMtn6cJBSwgXbcW', 'changeGraph', 'eyJpZCI6IDgwLCAidHlwZSI6ICJ2ZXJ0ZXgiLCAicHJvcHMiOiB7ImNvbG9yIjogMTY3MTE2ODB9fQo=');</script>\n",
       "    "
      ],
      "text/plain": [
       "<IPython.core.display.HTML object>"
      ]
     },
     "metadata": {},
     "output_type": "display_data"
    },
    {
     "data": {
      "text/html": [
       "\n",
       "        <div id=\"fMe78ycwriGvAyMyCspHFY\"></div>\n",
       "        <script>netpixi.call('fMe78ycwriGvAyMyCspHFY', '6TdJewpHMtn6cJBSwgXbcW', 'changeGraph', 'eyJpZCI6IDI4OSwgInR5cGUiOiAidmVydGV4IiwgInByb3BzIjogeyJzaXplIjogNDMuMzMzMzMzMzMzMzMzMzM2fX0K');</script>\n",
       "    "
      ],
      "text/plain": [
       "<IPython.core.display.HTML object>"
      ]
     },
     "metadata": {},
     "output_type": "display_data"
    },
    {
     "data": {
      "text/html": [
       "\n",
       "        <div id=\"QqMJyUtXaaZ9EaM9xURUWA\"></div>\n",
       "        <script>netpixi.call('QqMJyUtXaaZ9EaM9xURUWA', '6TdJewpHMtn6cJBSwgXbcW', 'changeGraph', 'eyJpZCI6IDgzLCAidHlwZSI6ICJ2ZXJ0ZXgiLCAicHJvcHMiOiB7ImNvbG9yIjogMTY3MTE2ODB9fQo=');</script>\n",
       "    "
      ],
      "text/plain": [
       "<IPython.core.display.HTML object>"
      ]
     },
     "metadata": {},
     "output_type": "display_data"
    },
    {
     "data": {
      "text/html": [
       "\n",
       "        <div id=\"EC5WaynfZbei7LT2m3QrxE\"></div>\n",
       "        <script>netpixi.call('EC5WaynfZbei7LT2m3QrxE', '6TdJewpHMtn6cJBSwgXbcW', 'changeGraph', 'eyJpZCI6IDI5MCwgInR5cGUiOiAidmVydGV4IiwgInByb3BzIjogeyJzaXplIjogMTUuNDM5MzMwNTQzOTMzMDUzfX0K');</script>\n",
       "    "
      ],
      "text/plain": [
       "<IPython.core.display.HTML object>"
      ]
     },
     "metadata": {},
     "output_type": "display_data"
    },
    {
     "data": {
      "text/html": [
       "\n",
       "        <div id=\"mreVz9RoimmVMfyUsJPRSE\"></div>\n",
       "        <script>netpixi.call('mreVz9RoimmVMfyUsJPRSE', '6TdJewpHMtn6cJBSwgXbcW', 'changeGraph', 'eyJpZCI6IDcxLCAidHlwZSI6ICJ2ZXJ0ZXgiLCAicHJvcHMiOiB7ImNvbG9yIjogMTY3MTE2ODB9fQo=');</script>\n",
       "    "
      ],
      "text/plain": [
       "<IPython.core.display.HTML object>"
      ]
     },
     "metadata": {},
     "output_type": "display_data"
    },
    {
     "data": {
      "text/html": [
       "\n",
       "        <div id=\"Ujk4LBTxLMTKTKvGYapTmR\"></div>\n",
       "        <script>netpixi.call('Ujk4LBTxLMTKTKvGYapTmR', '6TdJewpHMtn6cJBSwgXbcW', 'changeGraph', 'eyJpZCI6IDI5MSwgInR5cGUiOiAidmVydGV4IiwgInByb3BzIjogeyJzaXplIjogMTguNjE5MjQ2ODYxOTI0Njg3fX0K');</script>\n",
       "    "
      ],
      "text/plain": [
       "<IPython.core.display.HTML object>"
      ]
     },
     "metadata": {},
     "output_type": "display_data"
    },
    {
     "data": {
      "text/html": [
       "\n",
       "        <div id=\"jqiKyEXgDTbRgT6Ca4ueBM\"></div>\n",
       "        <script>netpixi.call('jqiKyEXgDTbRgT6Ca4ueBM', '6TdJewpHMtn6cJBSwgXbcW', 'changeGraph', 'eyJpZCI6IDc5LCAidHlwZSI6ICJ2ZXJ0ZXgiLCAicHJvcHMiOiB7ImNvbG9yIjogMTY3MTE2ODB9fQo=');</script>\n",
       "    "
      ],
      "text/plain": [
       "<IPython.core.display.HTML object>"
      ]
     },
     "metadata": {},
     "output_type": "display_data"
    },
    {
     "data": {
      "text/html": [
       "\n",
       "        <div id=\"mT9vDjMaHtPnWeZBdQdKBC\"></div>\n",
       "        <script>netpixi.call('mT9vDjMaHtPnWeZBdQdKBC', '6TdJewpHMtn6cJBSwgXbcW', 'changeGraph', 'eyJpZCI6IDI5MiwgInR5cGUiOiAidmVydGV4IiwgInByb3BzIjogeyJzaXplIjogMTQuODExNzE1NDgxMTcxNTQ4fX0K');</script>\n",
       "    "
      ],
      "text/plain": [
       "<IPython.core.display.HTML object>"
      ]
     },
     "metadata": {},
     "output_type": "display_data"
    },
    {
     "data": {
      "text/html": [
       "\n",
       "        <div id=\"DnPJfpfXsHzqwteHoVRqwx\"></div>\n",
       "        <script>netpixi.call('DnPJfpfXsHzqwteHoVRqwx', '6TdJewpHMtn6cJBSwgXbcW', 'changeGraph', 'eyJpZCI6IDk3LCAidHlwZSI6ICJ2ZXJ0ZXgiLCAicHJvcHMiOiB7ImNvbG9yIjogMTY3MTE2ODB9fQo=');</script>\n",
       "    "
      ],
      "text/plain": [
       "<IPython.core.display.HTML object>"
      ]
     },
     "metadata": {},
     "output_type": "display_data"
    },
    {
     "data": {
      "text/html": [
       "\n",
       "        <div id=\"GYJ9Z5hAiSb2gZoPR5Xtid\"></div>\n",
       "        <script>netpixi.call('GYJ9Z5hAiSb2gZoPR5Xtid', '6TdJewpHMtn6cJBSwgXbcW', 'changeGraph', 'eyJpZCI6IDI5MywgInR5cGUiOiAidmVydGV4IiwgInByb3BzIjogeyJzaXplIjogMTkuMDc5NDk3OTA3OTQ5Nzl9fQo=');</script>\n",
       "    "
      ],
      "text/plain": [
       "<IPython.core.display.HTML object>"
      ]
     },
     "metadata": {},
     "output_type": "display_data"
    },
    {
     "data": {
      "text/html": [
       "\n",
       "        <div id=\"HQ7pfU47AkiQWUhJJQKi5b\"></div>\n",
       "        <script>netpixi.call('HQ7pfU47AkiQWUhJJQKi5b', '6TdJewpHMtn6cJBSwgXbcW', 'changeGraph', 'eyJpZCI6IDg4LCAidHlwZSI6ICJ2ZXJ0ZXgiLCAicHJvcHMiOiB7ImNvbG9yIjogMTY3MTE2ODB9fQo=');</script>\n",
       "    "
      ],
      "text/plain": [
       "<IPython.core.display.HTML object>"
      ]
     },
     "metadata": {},
     "output_type": "display_data"
    },
    {
     "data": {
      "text/html": [
       "\n",
       "        <div id=\"fsX2LPoVJaAWHoD3W6hFjw\"></div>\n",
       "        <script>netpixi.call('fsX2LPoVJaAWHoD3W6hFjw', '6TdJewpHMtn6cJBSwgXbcW', 'changeGraph', 'eyJpZCI6IDI5NCwgInR5cGUiOiAidmVydGV4IiwgInByb3BzIjogeyJzaXplIjogMTIuMDA4MzY4MjAwODM2ODJ9fQo=');</script>\n",
       "    "
      ],
      "text/plain": [
       "<IPython.core.display.HTML object>"
      ]
     },
     "metadata": {},
     "output_type": "display_data"
    },
    {
     "data": {
      "text/html": [
       "\n",
       "        <div id=\"fVRxQ7YGyHCGBYvGZDkcFY\"></div>\n",
       "        <script>netpixi.call('fVRxQ7YGyHCGBYvGZDkcFY', '6TdJewpHMtn6cJBSwgXbcW', 'changeGraph', 'eyJpZCI6IDc2LCAidHlwZSI6ICJ2ZXJ0ZXgiLCAicHJvcHMiOiB7ImNvbG9yIjogMTY3MTE2ODB9fQo=');</script>\n",
       "    "
      ],
      "text/plain": [
       "<IPython.core.display.HTML object>"
      ]
     },
     "metadata": {},
     "output_type": "display_data"
    },
    {
     "data": {
      "text/html": [
       "\n",
       "        <div id=\"kukxbYQjeabWz2MqPT6rat\"></div>\n",
       "        <script>netpixi.call('kukxbYQjeabWz2MqPT6rat', '6TdJewpHMtn6cJBSwgXbcW', 'changeGraph', 'eyJpZCI6IDI5NSwgInR5cGUiOiAidmVydGV4IiwgInByb3BzIjogeyJzaXplIjogMTMuOTMzMDU0MzkzMzA1NDR9fQo=');</script>\n",
       "    "
      ],
      "text/plain": [
       "<IPython.core.display.HTML object>"
      ]
     },
     "metadata": {},
     "output_type": "display_data"
    },
    {
     "data": {
      "text/html": [
       "\n",
       "        <div id=\"co4Gm2sJAnmxvN3uWDJNyr\"></div>\n",
       "        <script>netpixi.call('co4Gm2sJAnmxvN3uWDJNyr', '6TdJewpHMtn6cJBSwgXbcW', 'changeGraph', 'eyJpZCI6IDc4LCAidHlwZSI6ICJ2ZXJ0ZXgiLCAicHJvcHMiOiB7ImNvbG9yIjogMTY3MTE2ODB9fQo=');</script>\n",
       "    "
      ],
      "text/plain": [
       "<IPython.core.display.HTML object>"
      ]
     },
     "metadata": {},
     "output_type": "display_data"
    },
    {
     "data": {
      "text/html": [
       "\n",
       "        <div id=\"cYNWxKaa2X3YNb2YyhtiBB\"></div>\n",
       "        <script>netpixi.call('cYNWxKaa2X3YNb2YyhtiBB', '6TdJewpHMtn6cJBSwgXbcW', 'changeGraph', 'eyJpZCI6IDI5NiwgInR5cGUiOiAidmVydGV4IiwgInByb3BzIjogeyJzaXplIjogMTguNTM1NTY0ODUzNTU2NDg3fX0K');</script>\n",
       "    "
      ],
      "text/plain": [
       "<IPython.core.display.HTML object>"
      ]
     },
     "metadata": {},
     "output_type": "display_data"
    },
    {
     "data": {
      "text/html": [
       "\n",
       "        <div id=\"BrLyf7ezgLRSBwaWVMUHTR\"></div>\n",
       "        <script>netpixi.call('BrLyf7ezgLRSBwaWVMUHTR', '6TdJewpHMtn6cJBSwgXbcW', 'changeGraph', 'eyJpZCI6IDgyLCAidHlwZSI6ICJ2ZXJ0ZXgiLCAicHJvcHMiOiB7ImNvbG9yIjogMTY3MTE2ODB9fQo=');</script>\n",
       "    "
      ],
      "text/plain": [
       "<IPython.core.display.HTML object>"
      ]
     },
     "metadata": {},
     "output_type": "display_data"
    },
    {
     "data": {
      "text/html": [
       "\n",
       "        <div id=\"mamyVegtaRTEWKox5vaF8c\"></div>\n",
       "        <script>netpixi.call('mamyVegtaRTEWKox5vaF8c', '6TdJewpHMtn6cJBSwgXbcW', 'changeGraph', 'eyJpZCI6IDI5NywgInR5cGUiOiAidmVydGV4IiwgInByb3BzIjogeyJzaXplIjogMTMuMzA1NDM5MzMwNTQzOTMzfX0K');</script>\n",
       "    "
      ],
      "text/plain": [
       "<IPython.core.display.HTML object>"
      ]
     },
     "metadata": {},
     "output_type": "display_data"
    },
    {
     "data": {
      "text/html": [
       "\n",
       "        <div id=\"6rz8oS4PwZKJZzXFUQ6TSp\"></div>\n",
       "        <script>netpixi.call('6rz8oS4PwZKJZzXFUQ6TSp', '6TdJewpHMtn6cJBSwgXbcW', 'changeGraph', 'eyJpZCI6IDkzLCAidHlwZSI6ICJ2ZXJ0ZXgiLCAicHJvcHMiOiB7ImNvbG9yIjogMTY3MTE2ODB9fQo=');</script>\n",
       "    "
      ],
      "text/plain": [
       "<IPython.core.display.HTML object>"
      ]
     },
     "metadata": {},
     "output_type": "display_data"
    },
    {
     "data": {
      "text/html": [
       "\n",
       "        <div id=\"8RRmP4TPV9ABaF3pkuMmrC\"></div>\n",
       "        <script>netpixi.call('8RRmP4TPV9ABaF3pkuMmrC', '6TdJewpHMtn6cJBSwgXbcW', 'changeGraph', 'eyJpZCI6IDI5OCwgInR5cGUiOiAidmVydGV4IiwgInByb3BzIjogeyJzaXplIjogMTQuNTYwNjY5NDU2MDY2OTQ1fX0K');</script>\n",
       "    "
      ],
      "text/plain": [
       "<IPython.core.display.HTML object>"
      ]
     },
     "metadata": {},
     "output_type": "display_data"
    },
    {
     "data": {
      "text/html": [
       "\n",
       "        <div id=\"RC7FGnxTnLAdLvozaa9LU6\"></div>\n",
       "        <script>netpixi.call('RC7FGnxTnLAdLvozaa9LU6', '6TdJewpHMtn6cJBSwgXbcW', 'changeGraph', 'eyJpZCI6IDgxLCAidHlwZSI6ICJ2ZXJ0ZXgiLCAicHJvcHMiOiB7ImNvbG9yIjogMTY3MTE2ODB9fQo=');</script>\n",
       "    "
      ],
      "text/plain": [
       "<IPython.core.display.HTML object>"
      ]
     },
     "metadata": {},
     "output_type": "display_data"
    }
   ],
   "source": [
    "lista_int_coreness = []\n",
    "lista_float_coreness = []\n",
    "\n",
    "# Adiciona propriedades ao nó\n",
    "g.add_vp('core')\n",
    "g.add_vp('coreness')\n",
    "\n",
    "# ---- Funções ----\n",
    "\n",
    "def surprise():\n",
    "    matrix = spectral.adjacency(g)\n",
    "    algorithm = cpnet.Surprise()\n",
    "    algorithm.detect(matrix)\n",
    "    return algorithm.get_coreness()\n",
    "\n",
    "def rombach():\n",
    "    matrix = spectral.adjacency(g)\n",
    "    algorithm = cpnet.Rombach()\n",
    "    algorithm.detect(matrix)\n",
    "    return algorithm.get_coreness()\n",
    "\n",
    "# ---- Roda Algorítimo ----\n",
    "c_core = surprise()\n",
    "c_coreness = rombach()\n",
    "\n",
    "\n",
    "for i, coreness in c_core.items():\n",
    "    v = g.get_vertex_by_index(i)\n",
    "    v['core'] = int(coreness)\n",
    "    lista_int_coreness.append(int(coreness))\n",
    "df_nodes['core'] = lista_int_coreness\n",
    "\n",
    "for i, coreness in c_coreness.items():\n",
    "    v = g.get_vertex_by_index(i)\n",
    "    v['coreness'] = float(coreness)\n",
    "    lista_float_coreness.append(float(coreness))\n",
    "df_nodes['coreness'] = lista_float_coreness\n",
    "\n",
    "\n",
    "# ---- Modifica cor ----\n",
    "for v in g.all_vertices():\n",
    "    if v['core'] == 1:\n",
    "        r.vertex(v['id'], color=0xff0000)\n",
    "    else:\n",
    "        r.vertex(v['id'], color=0x00ff00)\n",
    "        \n",
    "# ---- Modifica tamanho ----\n",
    "\n",
    "for v in g.all_vertices():\n",
    "    r.vertex(v['id'], size=(10 + 40 * v['coreness']))\n",
    "    r.vertex(v['MetacriticScore'], color=0xff0000)    "
   ]
  },
  {
   "cell_type": "markdown",
   "metadata": {},
   "source": [
    "### Regressão Linear\n",
    "\n",
    "-------"
   ]
  },
  {
   "cell_type": "code",
   "execution_count": 29,
   "metadata": {},
   "outputs": [
    {
     "data": {
      "text/html": [
       "<div>\n",
       "<style scoped>\n",
       "    .dataframe tbody tr th:only-of-type {\n",
       "        vertical-align: middle;\n",
       "    }\n",
       "\n",
       "    .dataframe tbody tr th {\n",
       "        vertical-align: top;\n",
       "    }\n",
       "\n",
       "    .dataframe thead th {\n",
       "        text-align: right;\n",
       "    }\n",
       "</style>\n",
       "<table border=\"1\" class=\"dataframe\">\n",
       "  <thead>\n",
       "    <tr style=\"text-align: right;\">\n",
       "      <th></th>\n",
       "      <th>id</th>\n",
       "      <th>Tags</th>\n",
       "      <th>MetacriticScore</th>\n",
       "      <th>Publishers</th>\n",
       "      <th>TotalRevenue</th>\n",
       "      <th>ReleaseYear</th>\n",
       "      <th>Country</th>\n",
       "      <th>core</th>\n",
       "      <th>coreness</th>\n",
       "    </tr>\n",
       "  </thead>\n",
       "  <tbody>\n",
       "    <tr>\n",
       "      <th>0</th>\n",
       "      <td>0</td>\n",
       "      <td>[Rhythm, VR, Multiplayer, Music, Racing, PvP, ...</td>\n",
       "      <td>87</td>\n",
       "      <td>WanadevStudio</td>\n",
       "      <td>1200000.0</td>\n",
       "      <td>2021</td>\n",
       "      <td>France</td>\n",
       "      <td>0</td>\n",
       "      <td>0.097280</td>\n",
       "    </tr>\n",
       "    <tr>\n",
       "      <th>1</th>\n",
       "      <td>1</td>\n",
       "      <td>[Management, Simulation, Anime, Sexual Content...</td>\n",
       "      <td>73</td>\n",
       "      <td>PLAYISM</td>\n",
       "      <td>58600000.0</td>\n",
       "      <td>2021</td>\n",
       "      <td>Japan</td>\n",
       "      <td>0</td>\n",
       "      <td>0.052301</td>\n",
       "    </tr>\n",
       "  </tbody>\n",
       "</table>\n",
       "</div>"
      ],
      "text/plain": [
       "   id                                               Tags  MetacriticScore  \\\n",
       "0   0  [Rhythm, VR, Multiplayer, Music, Racing, PvP, ...               87   \n",
       "1   1  [Management, Simulation, Anime, Sexual Content...               73   \n",
       "\n",
       "      Publishers  TotalRevenue  ReleaseYear Country  core  coreness  \n",
       "0  WanadevStudio     1200000.0         2021  France     0  0.097280  \n",
       "1        PLAYISM    58600000.0         2021   Japan     0  0.052301  "
      ]
     },
     "execution_count": 29,
     "metadata": {},
     "output_type": "execute_result"
    }
   ],
   "source": [
    "# Nodes\n",
    "df_nodes.head(2)"
   ]
  },
  {
   "cell_type": "code",
   "execution_count": 30,
   "metadata": {},
   "outputs": [
    {
     "data": {
      "image/png": "[encoded data removed]",
      "text/plain": [
       "<Figure size 640x480 with 1 Axes>"
      ]
     },
     "metadata": {},
     "output_type": "display_data"
    }
   ],
   "source": [
    "sns.scatterplot(x=df_nodes['coreness'], y=df_nodes['MetacriticScore']);"
   ]
  },
  {
   "cell_type": "code",
   "execution_count": 31,
   "metadata": {},
   "outputs": [
    {
     "data": {
      "image/png": "[encoded data removed]",
      "text/plain": [
       "<Figure size 640x480 with 1 Axes>"
      ]
     },
     "metadata": {},
     "output_type": "display_data"
    }
   ],
   "source": [
    "sns.regplot(x=df_nodes['coreness'], y=df_nodes['MetacriticScore']);"
   ]
  },
  {
   "cell_type": "code",
   "execution_count": 32,
   "metadata": {},
   "outputs": [],
   "source": [
    "result = reg.linear(data=df_nodes, formula=\"MetacriticScore ~ coreness + ReleaseYear + TotalRevenue\")"
   ]
  },
  {
   "cell_type": "code",
   "execution_count": 33,
   "metadata": {},
   "outputs": [
    {
     "data": {
      "text/html": [
       "<table class=\"simpletable\">\n",
       "<caption>OLS Regression Results</caption>\n",
       "<tr>\n",
       "  <th>Dep. Variable:</th>     <td>MetacriticScore</td> <th>  R-squared:         </th> <td>   0.066</td>\n",
       "</tr>\n",
       "<tr>\n",
       "  <th>Model:</th>                   <td>OLS</td>       <th>  Adj. R-squared:    </th> <td>   0.057</td>\n",
       "</tr>\n",
       "<tr>\n",
       "  <th>Method:</th>             <td>Least Squares</td>  <th>  F-statistic:       </th> <td>   6.973</td>\n",
       "</tr>\n",
       "<tr>\n",
       "  <th>Date:</th>             <td>Tue, 30 May 2023</td> <th>  Prob (F-statistic):</th> <td>0.000151</td>\n",
       "</tr>\n",
       "<tr>\n",
       "  <th>Time:</th>                 <td>14:02:27</td>     <th>  Log-Likelihood:    </th> <td> -1017.7</td>\n",
       "</tr>\n",
       "<tr>\n",
       "  <th>No. Observations:</th>      <td>   299</td>      <th>  AIC:               </th> <td>   2043.</td>\n",
       "</tr>\n",
       "<tr>\n",
       "  <th>Df Residuals:</th>          <td>   295</td>      <th>  BIC:               </th> <td>   2058.</td>\n",
       "</tr>\n",
       "<tr>\n",
       "  <th>Df Model:</th>              <td>     3</td>      <th>                     </th>     <td> </td>   \n",
       "</tr>\n",
       "<tr>\n",
       "  <th>Covariance Type:</th>      <td>nonrobust</td>    <th>                     </th>     <td> </td>   \n",
       "</tr>\n",
       "</table>\n",
       "<table class=\"simpletable\">\n",
       "<tr>\n",
       "        <td></td>          <th>coef</th>     <th>std err</th>      <th>t</th>      <th>P>|t|</th>  <th>[0.025</th>    <th>0.975]</th>  \n",
       "</tr>\n",
       "<tr>\n",
       "  <th>Intercept</th>    <td>-2812.5641</td> <td> 1985.783</td> <td>   -1.416</td> <td> 0.158</td> <td>-6720.661</td> <td> 1095.533</td>\n",
       "</tr>\n",
       "<tr>\n",
       "  <th>coreness</th>     <td>   -0.0901</td> <td>    1.393</td> <td>   -0.065</td> <td> 0.948</td> <td>   -2.831</td> <td>    2.651</td>\n",
       "</tr>\n",
       "<tr>\n",
       "  <th>ReleaseYear</th>  <td>    1.4292</td> <td>    0.982</td> <td>    1.455</td> <td> 0.147</td> <td>   -0.504</td> <td>    3.363</td>\n",
       "</tr>\n",
       "<tr>\n",
       "  <th>TotalRevenue</th> <td> 3.836e-09</td> <td> 9.19e-10</td> <td>    4.172</td> <td> 0.000</td> <td> 2.03e-09</td> <td> 5.65e-09</td>\n",
       "</tr>\n",
       "</table>\n",
       "<table class=\"simpletable\">\n",
       "<tr>\n",
       "  <th>Omnibus:</th>       <td>35.070</td> <th>  Durbin-Watson:     </th> <td>   1.951</td>\n",
       "</tr>\n",
       "<tr>\n",
       "  <th>Prob(Omnibus):</th> <td> 0.000</td> <th>  Jarque-Bera (JB):  </th> <td>  49.221</td>\n",
       "</tr>\n",
       "<tr>\n",
       "  <th>Skew:</th>          <td>-0.774</td> <th>  Prob(JB):          </th> <td>2.05e-11</td>\n",
       "</tr>\n",
       "<tr>\n",
       "  <th>Kurtosis:</th>      <td> 4.247</td> <th>  Cond. No.          </th> <td>2.33e+12</td>\n",
       "</tr>\n",
       "</table><br/><br/>Notes:<br/>[1] Standard Errors assume that the covariance matrix of the errors is correctly specified.<br/>[2] The condition number is large, 2.33e+12. This might indicate that there are<br/>strong multicollinearity or other numerical problems."
      ],
      "text/plain": [
       "<class 'statsmodels.iolib.summary.Summary'>\n",
       "\"\"\"\n",
       "                            OLS Regression Results                            \n",
       "==============================================================================\n",
       "Dep. Variable:        MetacriticScore   R-squared:                       0.066\n",
       "Model:                            OLS   Adj. R-squared:                  0.057\n",
       "Method:                 Least Squares   F-statistic:                     6.973\n",
       "Date:                Tue, 30 May 2023   Prob (F-statistic):           0.000151\n",
       "Time:                        14:02:27   Log-Likelihood:                -1017.7\n",
       "No. Observations:                 299   AIC:                             2043.\n",
       "Df Residuals:                     295   BIC:                             2058.\n",
       "Df Model:                           3                                         \n",
       "Covariance Type:            nonrobust                                         \n",
       "================================================================================\n",
       "                   coef    std err          t      P>|t|      [0.025      0.975]\n",
       "--------------------------------------------------------------------------------\n",
       "Intercept    -2812.5641   1985.783     -1.416      0.158   -6720.661    1095.533\n",
       "coreness        -0.0901      1.393     -0.065      0.948      -2.831       2.651\n",
       "ReleaseYear      1.4292      0.982      1.455      0.147      -0.504       3.363\n",
       "TotalRevenue  3.836e-09   9.19e-10      4.172      0.000    2.03e-09    5.65e-09\n",
       "==============================================================================\n",
       "Omnibus:                       35.070   Durbin-Watson:                   1.951\n",
       "Prob(Omnibus):                  0.000   Jarque-Bera (JB):               49.221\n",
       "Skew:                          -0.774   Prob(JB):                     2.05e-11\n",
       "Kurtosis:                       4.247   Cond. No.                     2.33e+12\n",
       "==============================================================================\n",
       "\n",
       "Notes:\n",
       "[1] Standard Errors assume that the covariance matrix of the errors is correctly specified.\n",
       "[2] The condition number is large, 2.33e+12. This might indicate that there are\n",
       "strong multicollinearity or other numerical problems.\n",
       "\"\"\""
      ]
     },
     "execution_count": 33,
     "metadata": {},
     "output_type": "execute_result"
    }
   ],
   "source": [
    "result.summary()"
   ]
  },
  {
   "cell_type": "code",
   "execution_count": 34,
   "metadata": {},
   "outputs": [
    {
     "data": {
      "text/html": [
       "<style type=\"text/css\">\n",
       "</style>\n",
       "<table id=\"T_119a8\">\n",
       "  <thead>\n",
       "    <tr>\n",
       "      <th id=\"T_119a8_level0_col0\" class=\"col_heading level0 col0\" >variable</th>\n",
       "      <th id=\"T_119a8_level0_col1\" class=\"col_heading level0 col1\" >coefficient</th>\n",
       "      <th id=\"T_119a8_level0_col2\" class=\"col_heading level0 col2\" >std error</th>\n",
       "      <th id=\"T_119a8_level0_col3\" class=\"col_heading level0 col3\" >p-value</th>\n",
       "    </tr>\n",
       "  </thead>\n",
       "  <tbody>\n",
       "    <tr>\n",
       "      <td id=\"T_119a8_row0_col0\" class=\"data row0 col0\" >coreness</td>\n",
       "      <td id=\"T_119a8_row0_col1\" class=\"data row0 col1\" >-0.090063</td>\n",
       "      <td id=\"T_119a8_row0_col2\" class=\"data row0 col2\" >1.392857</td>\n",
       "      <td id=\"T_119a8_row0_col3\" class=\"data row0 col3\" >0.948488</td>\n",
       "    </tr>\n",
       "    <tr>\n",
       "      <td id=\"T_119a8_row1_col0\" class=\"data row1 col0\" >ReleaseYear</td>\n",
       "      <td id=\"T_119a8_row1_col1\" class=\"data row1 col1\" >1.429235</td>\n",
       "      <td id=\"T_119a8_row1_col2\" class=\"data row1 col2\" >0.982432</td>\n",
       "      <td id=\"T_119a8_row1_col3\" class=\"data row1 col3\" >0.146789</td>\n",
       "    </tr>\n",
       "    <tr>\n",
       "      <td id=\"T_119a8_row2_col0\" class=\"data row2 col0\" >TotalRevenue</td>\n",
       "      <td id=\"T_119a8_row2_col1\" class=\"data row2 col1\" >0.000000</td>\n",
       "      <td id=\"T_119a8_row2_col2\" class=\"data row2 col2\" >0.000000</td>\n",
       "      <td id=\"T_119a8_row2_col3\" class=\"data row2 col3\" >0.000040</td>\n",
       "    </tr>\n",
       "  </tbody>\n",
       "</table>\n"
      ],
      "text/plain": [
       "<pandas.io.formats.style.Styler at 0x7f98d95f15d0>"
      ]
     },
     "execution_count": 34,
     "metadata": {},
     "output_type": "execute_result"
    }
   ],
   "source": [
    "result.micro_summary()"
   ]
  },
  {
   "cell_type": "code",
   "execution_count": 35,
   "metadata": {},
   "outputs": [
    {
     "data": {
      "image/png": "[encoded data removed]",
      "text/plain": [
       "<Figure size 1280x480 with 2 Axes>"
      ]
     },
     "metadata": {},
     "output_type": "display_data"
    }
   ],
   "source": [
    "result.plot_residuals()"
   ]
  },
  {
   "cell_type": "code",
   "execution_count": 36,
   "metadata": {},
   "outputs": [],
   "source": [
    "# Observa-se um treshold de divisão no coreness, dessa forma, podemos dividir esses dados em dois conjuntos\n",
    "# E assim aplicar uma regressão em cada metade.\n",
    "\n",
    "threshold_coreness = 0.5\n",
    "\n",
    "df_nodes_periferia = df_nodes[df_nodes['coreness'] < threshold_coreness]\n",
    "df_nodes_centro =  df_nodes[df_nodes['coreness'] > threshold_coreness]"
   ]
  },
  {
   "cell_type": "code",
   "execution_count": 37,
   "metadata": {},
   "outputs": [
    {
     "data": {
      "text/html": [
       "<div>\n",
       "<style scoped>\n",
       "    .dataframe tbody tr th:only-of-type {\n",
       "        vertical-align: middle;\n",
       "    }\n",
       "\n",
       "    .dataframe tbody tr th {\n",
       "        vertical-align: top;\n",
       "    }\n",
       "\n",
       "    .dataframe thead th {\n",
       "        text-align: right;\n",
       "    }\n",
       "</style>\n",
       "<table border=\"1\" class=\"dataframe\">\n",
       "  <thead>\n",
       "    <tr style=\"text-align: right;\">\n",
       "      <th></th>\n",
       "      <th>id</th>\n",
       "      <th>Tags</th>\n",
       "      <th>MetacriticScore</th>\n",
       "      <th>Publishers</th>\n",
       "      <th>TotalRevenue</th>\n",
       "      <th>ReleaseYear</th>\n",
       "      <th>Country</th>\n",
       "      <th>core</th>\n",
       "      <th>coreness</th>\n",
       "    </tr>\n",
       "  </thead>\n",
       "  <tbody>\n",
       "    <tr>\n",
       "      <th>0</th>\n",
       "      <td>0</td>\n",
       "      <td>[Rhythm, VR, Multiplayer, Music, Racing, PvP, ...</td>\n",
       "      <td>87</td>\n",
       "      <td>WanadevStudio</td>\n",
       "      <td>1200000.0</td>\n",
       "      <td>2021</td>\n",
       "      <td>France</td>\n",
       "      <td>0</td>\n",
       "      <td>0.097280</td>\n",
       "    </tr>\n",
       "    <tr>\n",
       "      <th>1</th>\n",
       "      <td>1</td>\n",
       "      <td>[Management, Simulation, Anime, Sexual Content...</td>\n",
       "      <td>73</td>\n",
       "      <td>PLAYISM</td>\n",
       "      <td>58600000.0</td>\n",
       "      <td>2021</td>\n",
       "      <td>Japan</td>\n",
       "      <td>0</td>\n",
       "      <td>0.052301</td>\n",
       "    </tr>\n",
       "  </tbody>\n",
       "</table>\n",
       "</div>"
      ],
      "text/plain": [
       "   id                                               Tags  MetacriticScore  \\\n",
       "0   0  [Rhythm, VR, Multiplayer, Music, Racing, PvP, ...               87   \n",
       "1   1  [Management, Simulation, Anime, Sexual Content...               73   \n",
       "\n",
       "      Publishers  TotalRevenue  ReleaseYear Country  core  coreness  \n",
       "0  WanadevStudio     1200000.0         2021  France     0  0.097280  \n",
       "1        PLAYISM    58600000.0         2021   Japan     0  0.052301  "
      ]
     },
     "execution_count": 37,
     "metadata": {},
     "output_type": "execute_result"
    }
   ],
   "source": [
    "df_nodes_periferia.head(2)"
   ]
  },
  {
   "cell_type": "code",
   "execution_count": 38,
   "metadata": {},
   "outputs": [
    {
     "data": {
      "text/html": [
       "<div>\n",
       "<style scoped>\n",
       "    .dataframe tbody tr th:only-of-type {\n",
       "        vertical-align: middle;\n",
       "    }\n",
       "\n",
       "    .dataframe tbody tr th {\n",
       "        vertical-align: top;\n",
       "    }\n",
       "\n",
       "    .dataframe thead th {\n",
       "        text-align: right;\n",
       "    }\n",
       "</style>\n",
       "<table border=\"1\" class=\"dataframe\">\n",
       "  <thead>\n",
       "    <tr style=\"text-align: right;\">\n",
       "      <th></th>\n",
       "      <th>id</th>\n",
       "      <th>Tags</th>\n",
       "      <th>MetacriticScore</th>\n",
       "      <th>Publishers</th>\n",
       "      <th>TotalRevenue</th>\n",
       "      <th>ReleaseYear</th>\n",
       "      <th>Country</th>\n",
       "      <th>core</th>\n",
       "      <th>coreness</th>\n",
       "    </tr>\n",
       "  </thead>\n",
       "  <tbody>\n",
       "    <tr>\n",
       "      <th>4</th>\n",
       "      <td>4</td>\n",
       "      <td>[RPG, Choices Matter, Story Rich, Detective, T...</td>\n",
       "      <td>67</td>\n",
       "      <td>Fireshine Games</td>\n",
       "      <td>26400000.0</td>\n",
       "      <td>2021</td>\n",
       "      <td>United Kingdom</td>\n",
       "      <td>1</td>\n",
       "      <td>0.766667</td>\n",
       "    </tr>\n",
       "    <tr>\n",
       "      <th>13</th>\n",
       "      <td>13</td>\n",
       "      <td>[RPG, Adventure, Female Protagonist, JRPG, Act...</td>\n",
       "      <td>74</td>\n",
       "      <td>Modus Games</td>\n",
       "      <td>17300000.0</td>\n",
       "      <td>2021</td>\n",
       "      <td>United States</td>\n",
       "      <td>1</td>\n",
       "      <td>0.775000</td>\n",
       "    </tr>\n",
       "  </tbody>\n",
       "</table>\n",
       "</div>"
      ],
      "text/plain": [
       "    id                                               Tags  MetacriticScore  \\\n",
       "4    4  [RPG, Choices Matter, Story Rich, Detective, T...               67   \n",
       "13  13  [RPG, Adventure, Female Protagonist, JRPG, Act...               74   \n",
       "\n",
       "         Publishers  TotalRevenue  ReleaseYear         Country  core  coreness  \n",
       "4   Fireshine Games    26400000.0         2021  United Kingdom     1  0.766667  \n",
       "13      Modus Games    17300000.0         2021   United States     1  0.775000  "
      ]
     },
     "execution_count": 38,
     "metadata": {},
     "output_type": "execute_result"
    }
   ],
   "source": [
    "df_nodes_centro.head(2)"
   ]
  },
  {
   "cell_type": "code",
   "execution_count": 39,
   "metadata": {},
   "outputs": [
    {
     "data": {
      "image/png": "[encoded data removed]",
      "text/plain": [
       "<Figure size 640x480 with 1 Axes>"
      ]
     },
     "metadata": {},
     "output_type": "display_data"
    }
   ],
   "source": [
    "# ------- Para a periferia  -------\n",
    "\n",
    "sns.regplot(x=df_nodes_periferia['coreness'], y=df_nodes_periferia['MetacriticScore']);"
   ]
  },
  {
   "cell_type": "code",
   "execution_count": 40,
   "metadata": {},
   "outputs": [],
   "source": [
    "result_periferia = reg.linear(data=df_nodes_periferia, formula='MetacriticScore ~ coreness + ReleaseYear + TotalRevenue')"
   ]
  },
  {
   "cell_type": "code",
   "execution_count": 41,
   "metadata": {},
   "outputs": [
    {
     "data": {
      "text/html": [
       "<style type=\"text/css\">\n",
       "</style>\n",
       "<table id=\"T_95904\">\n",
       "  <thead>\n",
       "    <tr>\n",
       "      <th id=\"T_95904_level0_col0\" class=\"col_heading level0 col0\" >variable</th>\n",
       "      <th id=\"T_95904_level0_col1\" class=\"col_heading level0 col1\" >coefficient</th>\n",
       "      <th id=\"T_95904_level0_col2\" class=\"col_heading level0 col2\" >std error</th>\n",
       "      <th id=\"T_95904_level0_col3\" class=\"col_heading level0 col3\" >p-value</th>\n",
       "    </tr>\n",
       "  </thead>\n",
       "  <tbody>\n",
       "    <tr>\n",
       "      <td id=\"T_95904_row0_col0\" class=\"data row0 col0\" >coreness</td>\n",
       "      <td id=\"T_95904_row0_col1\" class=\"data row0 col1\" >12.994690</td>\n",
       "      <td id=\"T_95904_row0_col2\" class=\"data row0 col2\" >6.687485</td>\n",
       "      <td id=\"T_95904_row0_col3\" class=\"data row0 col3\" >0.053189</td>\n",
       "    </tr>\n",
       "    <tr>\n",
       "      <td id=\"T_95904_row1_col0\" class=\"data row1 col0\" >ReleaseYear</td>\n",
       "      <td id=\"T_95904_row1_col1\" class=\"data row1 col1\" >1.679988</td>\n",
       "      <td id=\"T_95904_row1_col2\" class=\"data row1 col2\" >1.082522</td>\n",
       "      <td id=\"T_95904_row1_col3\" class=\"data row1 col3\" >0.122021</td>\n",
       "    </tr>\n",
       "    <tr>\n",
       "      <td id=\"T_95904_row2_col0\" class=\"data row2 col0\" >TotalRevenue</td>\n",
       "      <td id=\"T_95904_row2_col1\" class=\"data row2 col1\" >0.000000</td>\n",
       "      <td id=\"T_95904_row2_col2\" class=\"data row2 col2\" >0.000000</td>\n",
       "      <td id=\"T_95904_row2_col3\" class=\"data row2 col3\" >0.000050</td>\n",
       "    </tr>\n",
       "  </tbody>\n",
       "</table>\n"
      ],
      "text/plain": [
       "<pandas.io.formats.style.Styler at 0x7f98d92db0d0>"
      ]
     },
     "execution_count": 41,
     "metadata": {},
     "output_type": "execute_result"
    }
   ],
   "source": [
    "result_periferia.micro_summary()"
   ]
  },
  {
   "cell_type": "code",
   "execution_count": 42,
   "metadata": {},
   "outputs": [
    {
     "data": {
      "image/png": "[encoded data removed]",
      "text/plain": [
       "<Figure size 1280x480 with 2 Axes>"
      ]
     },
     "metadata": {},
     "output_type": "display_data"
    }
   ],
   "source": [
    "result_periferia.plot_residuals()"
   ]
  },
  {
   "cell_type": "code",
   "execution_count": 43,
   "metadata": {},
   "outputs": [
    {
     "data": {
      "image/png": "[encoded data removed]",
      "text/plain": [
       "<Figure size 640x480 with 1 Axes>"
      ]
     },
     "metadata": {},
     "output_type": "display_data"
    }
   ],
   "source": [
    "# ------- Para o centro -------\n",
    "\n",
    "sns.regplot(x=df_nodes_centro['coreness'], y=df_nodes_centro['MetacriticScore']);"
   ]
  },
  {
   "cell_type": "code",
   "execution_count": 44,
   "metadata": {},
   "outputs": [],
   "source": [
    "result_centro = reg.linear(data=df_nodes_centro, formula='MetacriticScore ~ coreness + ReleaseYear + TotalRevenue')"
   ]
  },
  {
   "cell_type": "code",
   "execution_count": 45,
   "metadata": {},
   "outputs": [
    {
     "data": {
      "text/html": [
       "<style type=\"text/css\">\n",
       "</style>\n",
       "<table id=\"T_bb831\">\n",
       "  <thead>\n",
       "    <tr>\n",
       "      <th id=\"T_bb831_level0_col0\" class=\"col_heading level0 col0\" >variable</th>\n",
       "      <th id=\"T_bb831_level0_col1\" class=\"col_heading level0 col1\" >coefficient</th>\n",
       "      <th id=\"T_bb831_level0_col2\" class=\"col_heading level0 col2\" >std error</th>\n",
       "      <th id=\"T_bb831_level0_col3\" class=\"col_heading level0 col3\" >p-value</th>\n",
       "    </tr>\n",
       "  </thead>\n",
       "  <tbody>\n",
       "    <tr>\n",
       "      <td id=\"T_bb831_row0_col0\" class=\"data row0 col0\" >coreness</td>\n",
       "      <td id=\"T_bb831_row0_col1\" class=\"data row0 col1\" >-0.978247</td>\n",
       "      <td id=\"T_bb831_row0_col2\" class=\"data row0 col2\" >12.389081</td>\n",
       "      <td id=\"T_bb831_row0_col3\" class=\"data row0 col3\" >0.937351</td>\n",
       "    </tr>\n",
       "    <tr>\n",
       "      <td id=\"T_bb831_row1_col0\" class=\"data row1 col0\" >ReleaseYear</td>\n",
       "      <td id=\"T_bb831_row1_col1\" class=\"data row1 col1\" >-0.112711</td>\n",
       "      <td id=\"T_bb831_row1_col2\" class=\"data row1 col2\" >2.389058</td>\n",
       "      <td id=\"T_bb831_row1_col3\" class=\"data row1 col3\" >0.962542</td>\n",
       "    </tr>\n",
       "    <tr>\n",
       "      <td id=\"T_bb831_row2_col0\" class=\"data row2 col0\" >TotalRevenue</td>\n",
       "      <td id=\"T_bb831_row2_col1\" class=\"data row2 col1\" >0.000000</td>\n",
       "      <td id=\"T_bb831_row2_col2\" class=\"data row2 col2\" >0.000000</td>\n",
       "      <td id=\"T_bb831_row2_col3\" class=\"data row2 col3\" >0.348871</td>\n",
       "    </tr>\n",
       "  </tbody>\n",
       "</table>\n"
      ],
      "text/plain": [
       "<pandas.io.formats.style.Styler at 0x7f98d91ac880>"
      ]
     },
     "execution_count": 45,
     "metadata": {},
     "output_type": "execute_result"
    }
   ],
   "source": [
    "result_centro.micro_summary()"
   ]
  },
  {
   "cell_type": "code",
   "execution_count": 46,
   "metadata": {},
   "outputs": [
    {
     "data": {
      "image/png": "[encoded data removed]",
      "text/plain": [
       "<Figure size 1280x480 with 2 Axes>"
      ]
     },
     "metadata": {},
     "output_type": "display_data"
    }
   ],
   "source": [
    "result_centro.plot_residuals()"
   ]
  },
  {
   "cell_type": "markdown",
   "metadata": {},
   "source": [
    "### Recortes | Por Região"
   ]
  },
  {
   "cell_type": "code",
   "execution_count": 47,
   "metadata": {},
   "outputs": [],
   "source": [
    "# ---- Dicionario com Países e Regiões ----\n",
    "country_and_regions = {\n",
    "\"North_Africa\" : [\"Bahrain\",  \"Egypt\", \"Jordan\",  \"Kuwait\",  \"Lebanon\", \"Mauritania\",\n",
    "\"Morocco\",  \"Oman\",  \"Pakistan\", \"Qatar\",  \"Saudi Arabia\", \"Tunisia\", \"United Arab Emirates\"],\n",
    "\n",
    "\"Latin_America\" : [\"Argentina\" , \"Bahamas\"  , \"Belize\" , \"Bermuda\" , \"Bolivia\" , \"Brazil\" , \"Chile\" ,\n",
    "\"Colombia\" , \"Costa Rica\" , \"Dominican Republic\" ,  \"Ecuador\",  \"El Salvador\", \"Guatemala\",\n",
    "\"Honduras\", \"Mexico\", \"Panama\", \"Paraguay\", \"Peru\" , \"Suriname\" , \"Trinidad and Tobago\" , \"Uruguay\"],\n",
    "\n",
    "\"North_America\" : [\"Canada\" , \"United States\"],\n",
    "\n",
    "\"Europe\" : [\"Armenia\", \"Austria\", \"Belgium\" , \"Bulgaria\" , \"Croatia\" , \"Cyprus\" , \"Czech Republic\",\n",
    "\"Denmark\", \"Estonia\" , \"Finland\", \"France\" , \"Georgia\" , \"Germany\", \"Greece\", \"Hungary\",\n",
    "\"Iceland\",\"Ireland\" , \"Israel\" , \"Italy\", \"Kazakhstan\", \"Kyrgyz Republic\",\n",
    "\"Latvia\", \"Liechtenstein\", \"Lithuania\", \"Luxembourg\", \"Malta\", \"Moldova\", \"Monaco\",\n",
    "\"Montenegro\", \"Netherlands\" , \"North Macedonia\" , \"Norway\", \"Poland\", \"Portugal\", \"Romania\",\n",
    "\"Russia\", \"Serbia, The Republic of\", \"Slovak Republic\" , \"Slovenia\",\n",
    "\"Spain\", \"Sweden\", \"Switzerland\", \"Turkey\" , \"Ukraine\" , \"United Kingdom\", \"England\" , \"Serbia\"],\n",
    "\n",
    "\"Asia\" : [\"Australia\" , \"Bangladesh\", \"Bhutan\" , \"Fiji\" , \"India\" , \"Japan\" , \"Maldives\" , \"Marshall Islands\",\n",
    "\"Micronesia\" , \"Mongolia\" , \"Nepal\" , \"New Zealand\", \"Palau\" ,\"Philippines\" , \"Republic of Korea\" , \"Sri Lanka\",\n",
    "\"Taiwan Partnership\" , \"Thailand\" , \"Vietnam\" , \"China\", \"Taiwan\" , \"Malaysia\", \"South Korea\"],\n",
    "\n",
    "\"Africa\" : [\"Benin\" , \"Botswana\" , \"Burkina Faso\" , \"Cameroon\" , \"Cape Verde\" , \"Chad\" , \"Congo, The Republic of\" , \"Ethiopia\" , \"Gabon\",\n",
    "\"Gambia\" , \"Ghana\" , \"Guinea\" , \"Kenya\" , \"Liberia\" , \"Madagascar\" , \"Mali\" , \"Mauritius\" , \"Namibia\" , \"Niger\" , \"Nigeria\" , \"Rwanda\",\n",
    "\"Senegal\", \"Seychelles\" , \"South Africa\" , \"Tanzania\" , \"Togo\" , \"Uganda\"]\n",
    "}"
   ]
  },
  {
   "cell_type": "code",
   "execution_count": 48,
   "metadata": {},
   "outputs": [
    {
     "data": {
      "text/html": [
       "<div>\n",
       "<style scoped>\n",
       "    .dataframe tbody tr th:only-of-type {\n",
       "        vertical-align: middle;\n",
       "    }\n",
       "\n",
       "    .dataframe tbody tr th {\n",
       "        vertical-align: top;\n",
       "    }\n",
       "\n",
       "    .dataframe thead th {\n",
       "        text-align: right;\n",
       "    }\n",
       "</style>\n",
       "<table border=\"1\" class=\"dataframe\">\n",
       "  <thead>\n",
       "    <tr style=\"text-align: right;\">\n",
       "      <th></th>\n",
       "      <th>id</th>\n",
       "      <th>Tags</th>\n",
       "      <th>MetacriticScore</th>\n",
       "      <th>Publishers</th>\n",
       "      <th>TotalRevenue</th>\n",
       "      <th>ReleaseYear</th>\n",
       "      <th>Country</th>\n",
       "      <th>core</th>\n",
       "      <th>coreness</th>\n",
       "    </tr>\n",
       "  </thead>\n",
       "  <tbody>\n",
       "    <tr>\n",
       "      <th>0</th>\n",
       "      <td>0</td>\n",
       "      <td>[Rhythm, VR, Multiplayer, Music, Racing, PvP, ...</td>\n",
       "      <td>87</td>\n",
       "      <td>WanadevStudio</td>\n",
       "      <td>1200000.0</td>\n",
       "      <td>2021</td>\n",
       "      <td>France</td>\n",
       "      <td>0</td>\n",
       "      <td>0.097280</td>\n",
       "    </tr>\n",
       "    <tr>\n",
       "      <th>1</th>\n",
       "      <td>1</td>\n",
       "      <td>[Management, Simulation, Anime, Sexual Content...</td>\n",
       "      <td>73</td>\n",
       "      <td>PLAYISM</td>\n",
       "      <td>58600000.0</td>\n",
       "      <td>2021</td>\n",
       "      <td>Japan</td>\n",
       "      <td>0</td>\n",
       "      <td>0.052301</td>\n",
       "    </tr>\n",
       "  </tbody>\n",
       "</table>\n",
       "</div>"
      ],
      "text/plain": [
       "   id                                               Tags  MetacriticScore  \\\n",
       "0   0  [Rhythm, VR, Multiplayer, Music, Racing, PvP, ...               87   \n",
       "1   1  [Management, Simulation, Anime, Sexual Content...               73   \n",
       "\n",
       "      Publishers  TotalRevenue  ReleaseYear Country  core  coreness  \n",
       "0  WanadevStudio     1200000.0         2021  France     0  0.097280  \n",
       "1        PLAYISM    58600000.0         2021   Japan     0  0.052301  "
      ]
     },
     "execution_count": 48,
     "metadata": {},
     "output_type": "execute_result"
    }
   ],
   "source": [
    "df_nodes.head(2)"
   ]
  },
  {
   "cell_type": "code",
   "execution_count": 119,
   "metadata": {},
   "outputs": [
    {
     "name": "stdout",
     "output_type": "stream",
     "text": [
      "\n",
      "> Lista de Regiões : ['Europe', 'Asia', 'Asia', 'Asia', 'Europe', 'North_America', ['Asia', 'North_America'], 'North_America', ['North_America', 'Europe'], 'Europe', 'Asia', 'North_America', ['Asia'], 'North_America', 'Europe', ['Asia'], 'North_America', 'Europe', 'Europe', ['Asia', 'North_America'], 'North_America', 'Europe', 'Asia', 'Asia', 'North_America', 'Latin_America', ['Asia', 'Europe'], 'Europe', 'Asia', 'Europe', 'North_America', 'Europe', 'North_America', 'Asia', 'Europe', ['Europe'], 'Europe', 'Europe', 'North_America', 'Europe', 'North_America', 'North_America', 'Asia', 'Europe', 'Asia', 'Europe', 'Europe', 'North_America', 'Europe', 'Asia', 'North_America', 'North_America', 'Europe', 'Europe', 'North_America', 'North_America', 'Europe', 'Asia', 'Asia', 'Europe', 'Europe', 'Europe', 'North_America', 'Asia', 'Asia', 'North_America', 'Europe', ['Europe'], 'Europe', 'Europe', 'Europe', 'Europe', 'North_America', 'Europe', 'Europe', 'North_America', 'Europe', 'Europe', 'Europe', 'Europe', 'Europe', ['Asia', 'Europe'], 'Europe', ['Asia', 'Europe'], 'Europe', 'North_America', 'Asia', 'Europe', 'North_America', 'Europe', 'Europe', ['Europe'], 'North_America', 'North_America', 'Europe', 'Asia', 'North_America', 'North_America', 'Europe', 'Europe', 'Europe', 'Europe', 'Europe', 'Europe', 'Europe', 'Europe', ['Europe'], ['Asia', 'North_America', 'Europe'], 'Europe', 'North_America', 'North_America', 'North_America', 'Europe', 'Europe', 'Europe', 'Asia', 'Asia', 'Europe', 'North_America', 'North_America', 'Europe', 'Europe', 'Europe', 'North_America', 'Europe', 'North_America', 'Europe', 'North_America', 'Asia', 'Asia', 'Europe', 'Europe', 'North_America', 'Europe', 'North_America', 'Europe', 'North_America', 'Europe', 'Asia', 'North_America', 'Asia', 'Europe', 'Asia', 'Asia', 'Asia', ['Asia'], 'Europe', 'Europe', 'Europe', ['North_America', 'Europe'], 'North_America', 'North_America', ['Asia', 'Europe'], 'Asia', 'North_America', 'North_America', 'North_America', 'Europe', 'North_America', 'Europe', 'Asia', 'Asia', ['Asia', 'Europe'], 'Europe', ['Asia', 'Europe'], 'North_America', 'North_America', 'Europe', 'Europe', 'North_America', 'Europe', 'Europe', 'Europe', 'Asia', 'North_America', 'North_America', ['Europe'], ['Asia', 'Europe'], 'North_America', 'Asia', 'Asia', ['Asia', 'Europe'], ['Asia', 'North_America'], 'Europe', 'Europe', ['North_America'], ['Europe'], 'Europe', 'North_America', 'Europe', ['Asia'], 'Europe', 'Europe', 'Asia', 'North_America', 'North_America', 'Europe', 'Europe', 'Europe', 'North_America', 'North_America', 'North_America', 'Europe', 'Europe', 'Europe', 'Asia', 'Asia', 'North_America', 'Europe', ['Asia', 'Europe'], 'Asia', ['North_America'], 'Europe', 'Europe', 'North_America', 'Europe', 'Europe', 'Asia', 'Europe', 'North_America', 'North_America', ['Europe'], 'Europe', ['North_America', 'Europe'], 'Europe', ['North_America'], 'Europe', 'North_America', 'North_America', 'Europe', 'Asia', 'Europe', 'Europe', 'Europe', ['Asia', 'North_America'], 'North_America', 'North_America', 'North_America', 'Europe', 'North_America', 'Europe', 'Europe', 'Europe', 'Europe', 'Europe', 'Europe', 'Europe', 'North_America', 'Europe', 'Europe', 'North_America', 'North_America', 'Asia', 'Europe', ['Asia', 'Europe'], 'North_America', 'Europe', 'Europe', 'Europe', ['Asia', 'North_America'], 'Europe', 'Europe', 'North_America', 'North_America', 'North_America', 'North_America', 'North_America', 'North_America', 'North_America', 'North_America', ['Europe'], 'Europe', 'North_America', 'Europe', 'Europe', 'Europe', 'Europe', 'North_America', 'Europe', 'Europe', 'Europe', 'Europe', 'Asia', 'Europe', 'Europe', 'Asia', 'Asia', 'North_America', 'Europe', 'North_America', 'Asia', 'Europe', 'Asia', 'North_America', 'Europe', 'Europe', 'Europe', 'North_America', 'North_America']\n",
      "\n",
      "\n",
      "> Países identificados como NaN : []\n",
      "\n",
      "\n",
      "> Quantidade de NaN : 0\n",
      "\n"
     ]
    }
   ],
   "source": [
    "# ------ Região do Publisher ------\n",
    "\n",
    "list_regions = []\n",
    "list_NAN = []\n",
    "count_NAN = 0\n",
    "for idx , linha in df_nodes.iterrows():\n",
    "    \n",
    "    # Lista auxiliar para mais de 1 país\n",
    "    aux_list = set()\n",
    "    \n",
    "    # País ou países ?\n",
    "    country = linha['Country'].strip()\n",
    "    \n",
    "    # Lista de Países\n",
    "    country_list = country.split(\",\")\n",
    "    country_list = [country.strip() for country in country_list]\n",
    "    \n",
    "    achou_regiao = False\n",
    "    for key, values in country_and_regions.items():\n",
    "        \n",
    "        if(len(country_list) == 1):\n",
    "            if(country in values):\n",
    "                list_regions.append(key)\n",
    "                achou_regiao  = True\n",
    "                break\n",
    "        else: \n",
    "            for c in country_list:\n",
    "                if(c in values): \n",
    "                    if key not in aux_list:\n",
    "                        aux_list.add(key)\n",
    "                        achou_regiao  = True\n",
    "    \n",
    "    # Adiciona lista auxiliar na lista de região\n",
    "    if(len(country_list) > 1):\n",
    "        \n",
    "        if(len(aux_list) >= 1):\n",
    "            list_regions.append(list(aux_list))\n",
    "        else:\n",
    "            print(f\" * Lista auxiliar vazia para : {country_list} , idx = {idx}\")\n",
    "    \n",
    "    if not achou_regiao : \n",
    "        list_NAN.append(country)\n",
    "        list_regions.append(\"NaN\")\n",
    "        count_NAN+=1\n",
    "            \n",
    "print(f\"\\n> Lista de Regiões : {list_regions}\\n\")\n",
    "print(f\"\\n> Países identificados como NaN : {list_NAN}\\n\")\n",
    "print(f\"\\n> Quantidade de NaN : {count_NAN}\\n\")"
   ]
  },
  {
   "cell_type": "code",
   "execution_count": null,
   "metadata": {},
   "outputs": [],
   "source": []
  }
 ],
 "metadata": {
  "kernelspec": {
   "display_name": "Python 3 (ipykernel)",
   "language": "python",
   "name": "python3"
  },
  "language_info": {
   "codemirror_mode": {
    "name": "ipython",
    "version": 3
   },
   "file_extension": ".py",
   "mimetype": "text/x-python",
   "name": "python",
   "nbconvert_exporter": "python",
   "pygments_lexer": "ipython3",
   "version": "3.10.10"
  }
 },
 "nbformat": 4,
 "nbformat_minor": 4
}
