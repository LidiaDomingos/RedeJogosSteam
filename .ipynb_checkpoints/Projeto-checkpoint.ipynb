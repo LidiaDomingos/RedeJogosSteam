{
 "cells": [
  {
   "cell_type": "markdown",
   "metadata": {},
   "source": [
    "\n",
    "## Projeto | Construido uma rede com jogos da Steam 🎮️\n",
    "\n",
    "    \n",
    "---------------------\n",
    "\n",
    "**Equipe**\n",
    "\n",
    "\n",
    " * Letícia Coêlho Barbosa       | [Github](https://github.com/leticiacb1)\n",
    " <br>\n",
    "\n",
    " * Lídia Alves Chagas Domingos  | [Github](https://github.com/LidiaDomingos)\n",
    " <br>\n",
    "\n",
    " * Lorran Caetano Lopes         | [Github](https://github.com/lorrancmlopes)\n",
    " <br>\n",
    " \n",
    " ---------------------\n",
    "\n",
    "* **Dataset escolhido** : [Jogos da Steam](https://www.kaggle.com/datasets/fronkongames/steam-games-dataset)\n",
    "  \n",
    "  \n",
    "  [Clique aqui](https://www.kaggle.com/datasets/fronkongames/steam-games-dataset) para baixar\n",
    "\n",
    "<br>\n",
    "\n",
    "* **Dataset auxiliar** : [Total Revenue Empresas]()\n",
    "  \n",
    "  \n",
    "  [Clique aqui](https://vginsights.com/publishers-database) para baixar\n",
    "\n",
    "<br>\n",
    "\n",
    "* **Dataset auxiliar | Modificado** : [Total Revenue Empresas Modificado](https://drive.google.com/file/d/1DUGhWPNJdPr30eo1oCH9RUPlG_FMHr3L/view?usp=sharing)"
   ]
  },
  {
   "cell_type": "markdown",
   "metadata": {},
   "source": [
    "### O DATASET\n",
    "\n",
    "-------\n",
    "\n",
    "O contexto do projeto engloba os jogos famosos para computadores disponíveis na Steam. Atualmente, a plataforma Steam possui aproximadamente 95 milhões de usuários no mundo todo e é sucesso entre os gamers, sendo a atual líder do mercado. \n",
    "\n",
    "\n",
    "#### Principais colunas\n",
    "<br>\n",
    "\n",
    "O dataset escolhido possui 39 colunas, nesse tópico citaremos a descrições de algumas colunas de maior interesse para analise.\n",
    "\n",
    "* **name** : nome do jogo.\n",
    "<br>\n",
    "\n",
    "* **releaseDate** : data de lançamento.\n",
    "<br>\n",
    "\n",
    "* **price** : preço do jogo.\n",
    "<br>\n",
    "\n",
    "* **metacritic_score** : media das notas dadas por avaliações de profissionais.\n",
    "<br>\n",
    "\n",
    "* **user_score** : media das notas dadas pelos usuários do jogo.\n",
    "<br>\n",
    "\n",
    "* **score_rank** : o ranke do jogo baseado nas avaliações dos usuários.\n",
    "<br>\n",
    "\n",
    "* **developers** : desenvolvedores dos jogos.\n",
    "<br>\n",
    "\n",
    "* **categories** : categoria dos jogos.\n",
    "<br>\n",
    "\n",
    "* **genres** : genero do jogo.\n",
    "<br>\n",
    "\n",
    "* **tags** : Tags do jogo.\n",
    "<br>\n",
    "\n",
    " \n",
    " ### NOSSA REDE\n",
    "\n",
    "-------\n",
    "\n",
    "* **Vértices** : Jogos da Steam.\n",
    "<br>\n",
    "\n",
    "* **Arestas**  : Existe uma aresta entre um jogo 1 e um jogo 2 se o número de tags em comum entre os jogos for superior ou igual a um **threadhold** (definido mais a frente)\n",
    "\n",
    "\n",
    " ### HIPOTESE\n",
    "\n",
    "-------\n",
    "\n",
    "\n",
    "`\"Quanto mais central é a sua posição na rede, maior a média de avaliações dos críticos profissionais.\"`\n",
    "<br>\n",
    "\n",
    "* **Variável de controle**: Tamanho da empresa.\n",
    "<br>\n",
    "\n",
    "* **Variável dependente**:  medida indicativa de centralidade do nó na rede (coreness).\n",
    "<br>\n",
    "\n",
    "* **Variável independente**: dataset[Metacritic score]\n",
    "\n",
    "\n",
    "\n",
    " ### MODELO\n",
    "\n",
    "-------\n",
    "\n",
    "` Metacrit Score ~ (Posição na Rede) + (Tamanho da Empresa) + (Ano de Lançamento) `"
   ]
  },
  {
   "cell_type": "markdown",
   "metadata": {},
   "source": [
    "### ANALISANDO OS DADOS \n",
    "\n",
    "-------"
   ]
  },
  {
   "cell_type": "code",
   "execution_count": 47,
   "metadata": {},
   "outputs": [],
   "source": [
    "# ---------------------------------\n",
    "# ------------ IMPORTS ------------\n",
    "# ---------------------------------\n",
    "\n",
    "import seaborn as sns\n",
    "from netpixi.integration.gt import *\n",
    "from regression.integration.gt import *\n",
    "import netpixi\n",
    "import pandas as pd\n",
    "\n",
    "import numpy as np\n",
    "import seaborn as sns\n",
    "import regression as reg\n",
    "\n",
    "from scipy import stats\n",
    "from matplotlib import pyplot as plt\n",
    "\n",
    "import cpnet\n",
    "from graph_tool import spectral"
   ]
  },
  {
   "cell_type": "code",
   "execution_count": 48,
   "metadata": {},
   "outputs": [],
   "source": [
    "# Grafo não direcional | Informação obtida via documentação\n",
    "g = Graph(directed=False) "
   ]
  },
  {
   "cell_type": "code",
   "execution_count": 49,
   "metadata": {
    "scrolled": false
   },
   "outputs": [
    {
     "name": "stdout",
     "output_type": "stream",
     "text": [
      "\n",
      "> Colunas : ['AppID', 'Name', 'Release date', 'Estimated owners', 'Peak CCU', 'Required age', 'Price', 'DLC count', 'About the game', 'Supported languages', 'Full audio languages', 'Reviews', 'Header image', 'Website', 'Support url', 'Support email', 'Windows', 'Mac', 'Linux', 'Metacritic score', 'Metacritic url', 'User score', 'Positive', 'Negative', 'Score rank', 'Achievements', 'Recommendations', 'Notes', 'Average playtime forever', 'Average playtime two weeks', 'Median playtime forever', 'Median playtime two weeks', 'Developers', 'Publishers', 'Categories', 'Genres', 'Tags', 'Screenshots', 'Movies']\n",
      "\n",
      "\n",
      "> Tamanho do dataset : (71716, 39)\n",
      "\n",
      "\n",
      "> Primeiras linhas dataset : \n",
      "\n"
     ]
    },
    {
     "data": {
      "text/html": [
       "<div>\n",
       "<style scoped>\n",
       "    .dataframe tbody tr th:only-of-type {\n",
       "        vertical-align: middle;\n",
       "    }\n",
       "\n",
       "    .dataframe tbody tr th {\n",
       "        vertical-align: top;\n",
       "    }\n",
       "\n",
       "    .dataframe thead th {\n",
       "        text-align: right;\n",
       "    }\n",
       "</style>\n",
       "<table border=\"1\" class=\"dataframe\">\n",
       "  <thead>\n",
       "    <tr style=\"text-align: right;\">\n",
       "      <th></th>\n",
       "      <th>AppID</th>\n",
       "      <th>Name</th>\n",
       "      <th>Release date</th>\n",
       "      <th>Estimated owners</th>\n",
       "      <th>Peak CCU</th>\n",
       "      <th>Required age</th>\n",
       "      <th>Price</th>\n",
       "      <th>DLC count</th>\n",
       "      <th>About the game</th>\n",
       "      <th>Supported languages</th>\n",
       "      <th>...</th>\n",
       "      <th>Average playtime two weeks</th>\n",
       "      <th>Median playtime forever</th>\n",
       "      <th>Median playtime two weeks</th>\n",
       "      <th>Developers</th>\n",
       "      <th>Publishers</th>\n",
       "      <th>Categories</th>\n",
       "      <th>Genres</th>\n",
       "      <th>Tags</th>\n",
       "      <th>Screenshots</th>\n",
       "      <th>Movies</th>\n",
       "    </tr>\n",
       "  </thead>\n",
       "  <tbody>\n",
       "    <tr>\n",
       "      <th>0</th>\n",
       "      <td>20200</td>\n",
       "      <td>Galactic Bowling</td>\n",
       "      <td>Oct 21, 2008</td>\n",
       "      <td>0 - 20000</td>\n",
       "      <td>0</td>\n",
       "      <td>0</td>\n",
       "      <td>19.99</td>\n",
       "      <td>0</td>\n",
       "      <td>Galactic Bowling is an exaggerated and stylize...</td>\n",
       "      <td>['English']</td>\n",
       "      <td>...</td>\n",
       "      <td>0</td>\n",
       "      <td>0</td>\n",
       "      <td>0</td>\n",
       "      <td>Perpetual FX Creative</td>\n",
       "      <td>Perpetual FX Creative</td>\n",
       "      <td>Single-player,Multi-player,Steam Achievements,...</td>\n",
       "      <td>Casual,Indie,Sports</td>\n",
       "      <td>Indie,Casual,Sports,Bowling</td>\n",
       "      <td>https://cdn.akamai.steamstatic.com/steam/apps/...</td>\n",
       "      <td>http://cdn.akamai.steamstatic.com/steam/apps/2...</td>\n",
       "    </tr>\n",
       "    <tr>\n",
       "      <th>1</th>\n",
       "      <td>655370</td>\n",
       "      <td>Train Bandit</td>\n",
       "      <td>Oct 12, 2017</td>\n",
       "      <td>0 - 20000</td>\n",
       "      <td>0</td>\n",
       "      <td>0</td>\n",
       "      <td>0.99</td>\n",
       "      <td>0</td>\n",
       "      <td>THE LAW!! Looks to be a showdown atop a train....</td>\n",
       "      <td>['English', 'French', 'Italian', 'German', 'Sp...</td>\n",
       "      <td>...</td>\n",
       "      <td>0</td>\n",
       "      <td>0</td>\n",
       "      <td>0</td>\n",
       "      <td>Rusty Moyher</td>\n",
       "      <td>Wild Rooster</td>\n",
       "      <td>Single-player,Steam Achievements,Full controll...</td>\n",
       "      <td>Action,Indie</td>\n",
       "      <td>Indie,Action,Pixel Graphics,2D,Retro,Arcade,Sc...</td>\n",
       "      <td>https://cdn.akamai.steamstatic.com/steam/apps/...</td>\n",
       "      <td>http://cdn.akamai.steamstatic.com/steam/apps/2...</td>\n",
       "    </tr>\n",
       "  </tbody>\n",
       "</table>\n",
       "<p>2 rows × 39 columns</p>\n",
       "</div>"
      ],
      "text/plain": [
       "    AppID              Name  Release date Estimated owners  Peak CCU  \\\n",
       "0   20200  Galactic Bowling  Oct 21, 2008        0 - 20000         0   \n",
       "1  655370      Train Bandit  Oct 12, 2017        0 - 20000         0   \n",
       "\n",
       "   Required age  Price  DLC count  \\\n",
       "0             0  19.99          0   \n",
       "1             0   0.99          0   \n",
       "\n",
       "                                      About the game  \\\n",
       "0  Galactic Bowling is an exaggerated and stylize...   \n",
       "1  THE LAW!! Looks to be a showdown atop a train....   \n",
       "\n",
       "                                 Supported languages  ...  \\\n",
       "0                                        ['English']  ...   \n",
       "1  ['English', 'French', 'Italian', 'German', 'Sp...  ...   \n",
       "\n",
       "  Average playtime two weeks Median playtime forever  \\\n",
       "0                          0                       0   \n",
       "1                          0                       0   \n",
       "\n",
       "  Median playtime two weeks             Developers             Publishers  \\\n",
       "0                         0  Perpetual FX Creative  Perpetual FX Creative   \n",
       "1                         0           Rusty Moyher           Wild Rooster   \n",
       "\n",
       "                                          Categories               Genres  \\\n",
       "0  Single-player,Multi-player,Steam Achievements,...  Casual,Indie,Sports   \n",
       "1  Single-player,Steam Achievements,Full controll...         Action,Indie   \n",
       "\n",
       "                                                Tags  \\\n",
       "0                        Indie,Casual,Sports,Bowling   \n",
       "1  Indie,Action,Pixel Graphics,2D,Retro,Arcade,Sc...   \n",
       "\n",
       "                                         Screenshots  \\\n",
       "0  https://cdn.akamai.steamstatic.com/steam/apps/...   \n",
       "1  https://cdn.akamai.steamstatic.com/steam/apps/...   \n",
       "\n",
       "                                              Movies  \n",
       "0  http://cdn.akamai.steamstatic.com/steam/apps/2...  \n",
       "1  http://cdn.akamai.steamstatic.com/steam/apps/2...  \n",
       "\n",
       "[2 rows x 39 columns]"
      ]
     },
     "execution_count": 49,
     "metadata": {},
     "output_type": "execute_result"
    }
   ],
   "source": [
    "# ----  Lendo o arquivo ----\n",
    "\n",
    "df_principal = pd.read_csv('games.csv')\n",
    "\n",
    "columns = [col for col in df_principal.columns]\n",
    "\n",
    "print(f\"\\n> Colunas : {columns}\\n\")\n",
    "\n",
    "print(f\"\\n> Tamanho do dataset : {df_principal.shape}\\n\")\n",
    "\n",
    "print(f\"\\n> Primeiras linhas dataset : \\n\")\n",
    "df_principal.head(2)"
   ]
  },
  {
   "cell_type": "markdown",
   "metadata": {},
   "source": [
    "\n",
    "\n",
    "#### Descrevendo melhor a coluna Metacritic score"
   ]
  },
  {
   "cell_type": "code",
   "execution_count": 50,
   "metadata": {},
   "outputs": [
    {
     "name": "stdout",
     "output_type": "stream",
     "text": [
      "\n",
      "> Valores únicos presentes:\n",
      "\n",
      " [ 0 62 64 53 84 89 70 86 40 87 92 76 51 49 81 69 72 68 52 82 59 77 79 71\n",
      " 74 73 88 47 75 66 50 63 67 80 58 90 39 78 55 85 65 91 83 57 56 44 60 61\n",
      " 48 46 23 45 94 27 38 30 35 54 41 43 32 34 93 37 36 95 42 29 24 96 20 33\n",
      " 97]\n",
      "\n",
      "\n",
      "> Distribuição dos valores :\n",
      "\n",
      " 0     67938\n",
      "80      183\n",
      "77      165\n",
      "76      164\n",
      "78      161\n",
      "      ...  \n",
      "23        1\n",
      "27        1\n",
      "24        1\n",
      "20        1\n",
      "33        1\n",
      "Name: Metacritic score, Length: 73, dtype: int64\n",
      "\n",
      "\n",
      "> Descrição:\n",
      "\n",
      "count    71716.000000\n",
      "mean         3.834207\n",
      "std         16.437707\n",
      "min          0.000000\n",
      "25%          0.000000\n",
      "50%          0.000000\n",
      "75%          0.000000\n",
      "max         97.000000\n",
      "Name: Metacritic score, dtype: float64\n",
      "\n"
     ]
    }
   ],
   "source": [
    "print(f\"\\n> Valores únicos presentes:\\n\\n {df_principal['Metacritic score'].unique()}\\n\")\n",
    "\n",
    "print(f\"\\n> Distribuição dos valores :\\n\\n {df_principal['Metacritic score'].value_counts()}\\n\")\n",
    "\n",
    "print(f\"\\n> Descrição:\\n\\n{df_principal['Metacritic score'].describe()}\\n\")"
   ]
  },
  {
   "cell_type": "markdown",
   "metadata": {},
   "source": [
    "### LIMPANDO DATASET\n",
    "\n",
    "-------"
   ]
  },
  {
   "cell_type": "code",
   "execution_count": 51,
   "metadata": {},
   "outputs": [
    {
     "name": "stdout",
     "output_type": "stream",
     "text": [
      "\n",
      "> Tamanho do dataset pós limpeza:\n",
      " (299, 40)\n",
      "\n",
      "\n",
      "> Descrição coluna Metacritic score:\n",
      "\n",
      " count    299.000000\n",
      "mean      76.963211\n",
      "std        7.544186\n",
      "min       48.000000\n",
      "25%       73.000000\n",
      "50%       78.000000\n",
      "75%       82.000000\n",
      "max       97.000000\n",
      "Name: Metacritic score, dtype: float64\n",
      "\n"
     ]
    }
   ],
   "source": [
    "# ---- Retirando alguns valores nulos ----\n",
    "\n",
    "df_principal.dropna(subset=['Tags', 'Metacritic score'], inplace=True)\n",
    "df_principal = df_principal[df_principal['Metacritic score'] != 0]\n",
    "\n",
    "\n",
    "# ---- AMOSTRAGEM para anos > 2019 e < 2023 ----\n",
    "\n",
    "df_principal = df_principal[ df_principal[\"Release date\"].map(lambda date: \n",
    "                                                              ((int(date.split(' ')[-1]) > 2020) and \n",
    "                                                               int(date.split(' ')[-1]) < 2023))== True]\n",
    "df_principal.reset_index(inplace=True, drop=True)\n",
    "\n",
    "# Adicionando coluna ReleaseYear\n",
    "df_principal[\"ReleaseYear\"] = df_principal[\"Release date\"].map(lambda date: (int(date.split(' ')[-1])))\n",
    "\n",
    "print(f\"\\n> Tamanho do dataset pós limpeza:\\n {df_principal.shape}\\n\")\n",
    "\n",
    "print(f\"\\n> Descrição coluna Metacritic score:\\n\\n {df_principal['Metacritic score'].describe()}\\n\")"
   ]
  },
  {
   "cell_type": "code",
   "execution_count": 52,
   "metadata": {},
   "outputs": [
    {
     "data": {
      "text/html": [
       "<div>\n",
       "<style scoped>\n",
       "    .dataframe tbody tr th:only-of-type {\n",
       "        vertical-align: middle;\n",
       "    }\n",
       "\n",
       "    .dataframe tbody tr th {\n",
       "        vertical-align: top;\n",
       "    }\n",
       "\n",
       "    .dataframe thead th {\n",
       "        text-align: right;\n",
       "    }\n",
       "</style>\n",
       "<table border=\"1\" class=\"dataframe\">\n",
       "  <thead>\n",
       "    <tr style=\"text-align: right;\">\n",
       "      <th></th>\n",
       "      <th>AppID</th>\n",
       "      <th>Name</th>\n",
       "      <th>Release date</th>\n",
       "      <th>Estimated owners</th>\n",
       "      <th>Peak CCU</th>\n",
       "      <th>Required age</th>\n",
       "      <th>Price</th>\n",
       "      <th>DLC count</th>\n",
       "      <th>About the game</th>\n",
       "      <th>Supported languages</th>\n",
       "      <th>...</th>\n",
       "      <th>Median playtime forever</th>\n",
       "      <th>Median playtime two weeks</th>\n",
       "      <th>Developers</th>\n",
       "      <th>Publishers</th>\n",
       "      <th>Categories</th>\n",
       "      <th>Genres</th>\n",
       "      <th>Tags</th>\n",
       "      <th>Screenshots</th>\n",
       "      <th>Movies</th>\n",
       "      <th>ReleaseYear</th>\n",
       "    </tr>\n",
       "  </thead>\n",
       "  <tbody>\n",
       "    <tr>\n",
       "      <th>0</th>\n",
       "      <td>1345820</td>\n",
       "      <td>Ragnarock</td>\n",
       "      <td>Jul 15, 2021</td>\n",
       "      <td>50000 - 100000</td>\n",
       "      <td>44</td>\n",
       "      <td>0</td>\n",
       "      <td>16.24</td>\n",
       "      <td>17</td>\n",
       "      <td>Are you ready to rock? Ragnarock is a solo/mul...</td>\n",
       "      <td>['English', 'French', 'Italian', 'German', 'Sp...</td>\n",
       "      <td>...</td>\n",
       "      <td>281</td>\n",
       "      <td>0</td>\n",
       "      <td>WanadevStudio</td>\n",
       "      <td>WanadevStudio</td>\n",
       "      <td>Single-player,Multi-player,PvP,Online PvP,Stea...</td>\n",
       "      <td>Casual,Indie,Racing,Sports</td>\n",
       "      <td>Rhythm,VR,Multiplayer,Music,Racing,PvP,Casual,...</td>\n",
       "      <td>https://cdn.akamai.steamstatic.com/steam/apps/...</td>\n",
       "      <td>http://cdn.akamai.steamstatic.com/steam/apps/2...</td>\n",
       "      <td>2021</td>\n",
       "    </tr>\n",
       "    <tr>\n",
       "      <th>1</th>\n",
       "      <td>821880</td>\n",
       "      <td>Idol Manager</td>\n",
       "      <td>Jul 26, 2021</td>\n",
       "      <td>100000 - 200000</td>\n",
       "      <td>102</td>\n",
       "      <td>0</td>\n",
       "      <td>19.99</td>\n",
       "      <td>0</td>\n",
       "      <td>You take on the role of manager at a small (bu...</td>\n",
       "      <td>['English', 'Japanese', 'Russian', 'Simplified...</td>\n",
       "      <td>...</td>\n",
       "      <td>853</td>\n",
       "      <td>0</td>\n",
       "      <td>Glitch Pitch</td>\n",
       "      <td>PLAYISM</td>\n",
       "      <td>Single-player,Steam Achievements,Steam Worksho...</td>\n",
       "      <td>Indie,Simulation,Strategy</td>\n",
       "      <td>Management,Simulation,Anime,Sexual Content,Str...</td>\n",
       "      <td>https://cdn.akamai.steamstatic.com/steam/apps/...</td>\n",
       "      <td>http://cdn.akamai.steamstatic.com/steam/apps/2...</td>\n",
       "      <td>2021</td>\n",
       "    </tr>\n",
       "  </tbody>\n",
       "</table>\n",
       "<p>2 rows × 40 columns</p>\n",
       "</div>"
      ],
      "text/plain": [
       "     AppID          Name  Release date Estimated owners  Peak CCU  \\\n",
       "0  1345820     Ragnarock  Jul 15, 2021   50000 - 100000        44   \n",
       "1   821880  Idol Manager  Jul 26, 2021  100000 - 200000       102   \n",
       "\n",
       "   Required age  Price  DLC count  \\\n",
       "0             0  16.24         17   \n",
       "1             0  19.99          0   \n",
       "\n",
       "                                      About the game  \\\n",
       "0  Are you ready to rock? Ragnarock is a solo/mul...   \n",
       "1  You take on the role of manager at a small (bu...   \n",
       "\n",
       "                                 Supported languages  ...  \\\n",
       "0  ['English', 'French', 'Italian', 'German', 'Sp...  ...   \n",
       "1  ['English', 'Japanese', 'Russian', 'Simplified...  ...   \n",
       "\n",
       "  Median playtime forever Median playtime two weeks     Developers  \\\n",
       "0                     281                         0  WanadevStudio   \n",
       "1                     853                         0   Glitch Pitch   \n",
       "\n",
       "      Publishers                                         Categories  \\\n",
       "0  WanadevStudio  Single-player,Multi-player,PvP,Online PvP,Stea...   \n",
       "1        PLAYISM  Single-player,Steam Achievements,Steam Worksho...   \n",
       "\n",
       "                       Genres  \\\n",
       "0  Casual,Indie,Racing,Sports   \n",
       "1   Indie,Simulation,Strategy   \n",
       "\n",
       "                                                Tags  \\\n",
       "0  Rhythm,VR,Multiplayer,Music,Racing,PvP,Casual,...   \n",
       "1  Management,Simulation,Anime,Sexual Content,Str...   \n",
       "\n",
       "                                         Screenshots  \\\n",
       "0  https://cdn.akamai.steamstatic.com/steam/apps/...   \n",
       "1  https://cdn.akamai.steamstatic.com/steam/apps/...   \n",
       "\n",
       "                                              Movies  ReleaseYear  \n",
       "0  http://cdn.akamai.steamstatic.com/steam/apps/2...         2021  \n",
       "1  http://cdn.akamai.steamstatic.com/steam/apps/2...         2021  \n",
       "\n",
       "[2 rows x 40 columns]"
      ]
     },
     "execution_count": 52,
     "metadata": {},
     "output_type": "execute_result"
    }
   ],
   "source": [
    "df_principal.head(2)"
   ]
  },
  {
   "cell_type": "markdown",
   "metadata": {},
   "source": [
    "### ADICIONANDO DATASET AUXILIAR\n",
    "\n",
    "---"
   ]
  },
  {
   "cell_type": "code",
   "execution_count": 53,
   "metadata": {},
   "outputs": [
    {
     "data": {
      "text/html": [
       "<div>\n",
       "<style scoped>\n",
       "    .dataframe tbody tr th:only-of-type {\n",
       "        vertical-align: middle;\n",
       "    }\n",
       "\n",
       "    .dataframe tbody tr th {\n",
       "        vertical-align: top;\n",
       "    }\n",
       "\n",
       "    .dataframe thead th {\n",
       "        text-align: right;\n",
       "    }\n",
       "</style>\n",
       "<table border=\"1\" class=\"dataframe\">\n",
       "  <thead>\n",
       "    <tr style=\"text-align: right;\">\n",
       "      <th></th>\n",
       "      <th>Name</th>\n",
       "      <th>Total revenue</th>\n",
       "    </tr>\n",
       "  </thead>\n",
       "  <tbody>\n",
       "    <tr>\n",
       "      <th>0</th>\n",
       "      <td>Ubisoft</td>\n",
       "      <td>2.500000e+09</td>\n",
       "    </tr>\n",
       "    <tr>\n",
       "      <th>1</th>\n",
       "      <td>Valve</td>\n",
       "      <td>2.400000e+09</td>\n",
       "    </tr>\n",
       "    <tr>\n",
       "      <th>2</th>\n",
       "      <td>2K</td>\n",
       "      <td>2.300000e+09</td>\n",
       "    </tr>\n",
       "    <tr>\n",
       "      <th>3</th>\n",
       "      <td>Electronic Arts</td>\n",
       "      <td>2.100000e+09</td>\n",
       "    </tr>\n",
       "    <tr>\n",
       "      <th>4</th>\n",
       "      <td>SEGA</td>\n",
       "      <td>2.100000e+09</td>\n",
       "    </tr>\n",
       "  </tbody>\n",
       "</table>\n",
       "</div>"
      ],
      "text/plain": [
       "              Name  Total revenue\n",
       "0          Ubisoft   2.500000e+09\n",
       "1            Valve   2.400000e+09\n",
       "2               2K   2.300000e+09\n",
       "3  Electronic Arts   2.100000e+09\n",
       "4             SEGA   2.100000e+09"
      ]
     },
     "execution_count": 53,
     "metadata": {},
     "output_type": "execute_result"
    }
   ],
   "source": [
    "df_total_revenue = pd.read_csv('total_revenue.csv')\n",
    "df_total_revenue.head()"
   ]
  },
  {
   "cell_type": "code",
   "execution_count": 54,
   "metadata": {},
   "outputs": [
    {
     "name": "stdout",
     "output_type": "stream",
     "text": [
      "Worldwalker Games LLC,WhisperGames\n",
      "Running With Scissors,Hyperstrange\n",
      "Mixed Realms Pte Ltd,Coconut Island Games\n",
      "Humble Games,WhisperGames\n",
      "Foreign Gnomes,Surefire.Games\n",
      "CAPCOM Co., Ltd.\n",
      "Digixart,Ravenscourt\n",
      "United Label,CI Games\n",
      "Merge Games,Maple Whispering Limited\n",
      "EXOR Studios,Surefire.Games\n",
      "META Publishing,Owlcat Games\n",
      "Modern Wolf,Fractale,WhisperGames\n",
      "FromSoftware Inc.,Bandai Namco Entertainment\n",
      "Games Operators,Modus Games\n",
      "Assemble Entertainment,WhisperGames,Mayflower Entertainment\n",
      "DANGEN Entertainment,Gamera Games,Intragames\n",
      "SEGA,Feral Interactive\n",
      "Fishing Cactus,PID Games,2PGames\n",
      "Sneaky Yak Studio,WhisperGames\n",
      "Movie Games S.A.,HeartBeat Games\n",
      "XSEED Games,Marvelous USA, Inc.,Marvelous\n",
      "Canada Media Fund,Ontario Creates,The Games Institute\n",
      "JanduSoft,Game Seer Ventures\n",
      "M-Theory,Oddboy\n",
      "Ravenscourt,Maple Whispering Limited\n",
      "Warner Bros. Games,Warner Bros. Interactive Entertainment\n",
      "Future Friends Games,StudioInkyfox\n",
      "Whitethorn Games,Gamious\n",
      "Rose City Games,wiip\n",
      "Freedom Games,Maple Whispering Limited\n",
      "Maze Theory,Another Indie\n",
      "Whitethorn Games,WhisperGames\n",
      "HypeTrain Digital,RedRuins Softworks\n"
     ]
    }
   ],
   "source": [
    "ausentes = []\n",
    "presentes = []\n",
    "\n",
    "# Verificando se cada valor da coluna do df1 está presente no df2\n",
    "for publi in df_principal['Publishers'].tolist():\n",
    "    if publi.lower() not in [name.lower() for name in df_total_revenue[\"Name\"].tolist()]:\n",
    "        if publi.lower() not in [name.lower() for name in ausentes]:\n",
    "            print(publi)\n",
    "            ausentes.append(publi)\n",
    "    else:\n",
    "        if publi.lower() not in [name.lower() for name in presentes]:\n",
    "            presentes.append(publi)   "
   ]
  },
  {
   "cell_type": "markdown",
   "metadata": {},
   "source": [
    "#### Vamos considerar que, quando há mais de um publisher por jogo, o valor a ser inserido na nova coluna \"Total revenue\" será a soma do total revenue de cada publisher."
   ]
  },
  {
   "cell_type": "code",
   "execution_count": 56,
   "metadata": {},
   "outputs": [],
   "source": [
    " # Verificar se cada valor da coluna 'Publishers' do df_principal está presente no df_total_revenue\n",
    "for index, row in df_principal.iterrows():\n",
    "    publishers = row['Publishers']\n",
    "    total_revenue = 0\n",
    "    \n",
    "    # Verificar se o valor de 'publishers' está presente na coluna 'Name' do df_total_revenue\n",
    "    for name in publishers.split(','):\n",
    "        mask = df_total_revenue['Name'].str.lower() == name.lower().strip()\n",
    "        revenue = df_total_revenue.loc[mask, 'Total revenue'].sum()\n",
    "        total_revenue += revenue\n",
    "    \n",
    "    # Inserir o valor total de receita na coluna 'Total revenue' do df_principal\n",
    "    df_principal.at[index, 'Total revenue'] = total_revenue"
   ]
  },
  {
   "cell_type": "code",
   "execution_count": 57,
   "metadata": {},
   "outputs": [
    {
     "data": {
      "text/html": [
       "<div>\n",
       "<style scoped>\n",
       "    .dataframe tbody tr th:only-of-type {\n",
       "        vertical-align: middle;\n",
       "    }\n",
       "\n",
       "    .dataframe tbody tr th {\n",
       "        vertical-align: top;\n",
       "    }\n",
       "\n",
       "    .dataframe thead th {\n",
       "        text-align: right;\n",
       "    }\n",
       "</style>\n",
       "<table border=\"1\" class=\"dataframe\">\n",
       "  <thead>\n",
       "    <tr style=\"text-align: right;\">\n",
       "      <th></th>\n",
       "      <th>AppID</th>\n",
       "      <th>Name</th>\n",
       "      <th>Release date</th>\n",
       "      <th>Estimated owners</th>\n",
       "      <th>Peak CCU</th>\n",
       "      <th>Required age</th>\n",
       "      <th>Price</th>\n",
       "      <th>DLC count</th>\n",
       "      <th>About the game</th>\n",
       "      <th>Supported languages</th>\n",
       "      <th>...</th>\n",
       "      <th>Median playtime two weeks</th>\n",
       "      <th>Developers</th>\n",
       "      <th>Publishers</th>\n",
       "      <th>Categories</th>\n",
       "      <th>Genres</th>\n",
       "      <th>Tags</th>\n",
       "      <th>Screenshots</th>\n",
       "      <th>Movies</th>\n",
       "      <th>ReleaseYear</th>\n",
       "      <th>Total revenue</th>\n",
       "    </tr>\n",
       "  </thead>\n",
       "  <tbody>\n",
       "    <tr>\n",
       "      <th>0</th>\n",
       "      <td>1345820</td>\n",
       "      <td>Ragnarock</td>\n",
       "      <td>Jul 15, 2021</td>\n",
       "      <td>50000 - 100000</td>\n",
       "      <td>44</td>\n",
       "      <td>0</td>\n",
       "      <td>16.24</td>\n",
       "      <td>17</td>\n",
       "      <td>Are you ready to rock? Ragnarock is a solo/mul...</td>\n",
       "      <td>['English', 'French', 'Italian', 'German', 'Sp...</td>\n",
       "      <td>...</td>\n",
       "      <td>0</td>\n",
       "      <td>WanadevStudio</td>\n",
       "      <td>WanadevStudio</td>\n",
       "      <td>Single-player,Multi-player,PvP,Online PvP,Stea...</td>\n",
       "      <td>Casual,Indie,Racing,Sports</td>\n",
       "      <td>Rhythm,VR,Multiplayer,Music,Racing,PvP,Casual,...</td>\n",
       "      <td>https://cdn.akamai.steamstatic.com/steam/apps/...</td>\n",
       "      <td>http://cdn.akamai.steamstatic.com/steam/apps/2...</td>\n",
       "      <td>2021</td>\n",
       "      <td>1200000.0</td>\n",
       "    </tr>\n",
       "    <tr>\n",
       "      <th>1</th>\n",
       "      <td>821880</td>\n",
       "      <td>Idol Manager</td>\n",
       "      <td>Jul 26, 2021</td>\n",
       "      <td>100000 - 200000</td>\n",
       "      <td>102</td>\n",
       "      <td>0</td>\n",
       "      <td>19.99</td>\n",
       "      <td>0</td>\n",
       "      <td>You take on the role of manager at a small (bu...</td>\n",
       "      <td>['English', 'Japanese', 'Russian', 'Simplified...</td>\n",
       "      <td>...</td>\n",
       "      <td>0</td>\n",
       "      <td>Glitch Pitch</td>\n",
       "      <td>PLAYISM</td>\n",
       "      <td>Single-player,Steam Achievements,Steam Worksho...</td>\n",
       "      <td>Indie,Simulation,Strategy</td>\n",
       "      <td>Management,Simulation,Anime,Sexual Content,Str...</td>\n",
       "      <td>https://cdn.akamai.steamstatic.com/steam/apps/...</td>\n",
       "      <td>http://cdn.akamai.steamstatic.com/steam/apps/2...</td>\n",
       "      <td>2021</td>\n",
       "      <td>58600000.0</td>\n",
       "    </tr>\n",
       "  </tbody>\n",
       "</table>\n",
       "<p>2 rows × 41 columns</p>\n",
       "</div>"
      ],
      "text/plain": [
       "     AppID          Name  Release date Estimated owners  Peak CCU  \\\n",
       "0  1345820     Ragnarock  Jul 15, 2021   50000 - 100000        44   \n",
       "1   821880  Idol Manager  Jul 26, 2021  100000 - 200000       102   \n",
       "\n",
       "   Required age  Price  DLC count  \\\n",
       "0             0  16.24         17   \n",
       "1             0  19.99          0   \n",
       "\n",
       "                                      About the game  \\\n",
       "0  Are you ready to rock? Ragnarock is a solo/mul...   \n",
       "1  You take on the role of manager at a small (bu...   \n",
       "\n",
       "                                 Supported languages  ...  \\\n",
       "0  ['English', 'French', 'Italian', 'German', 'Sp...  ...   \n",
       "1  ['English', 'Japanese', 'Russian', 'Simplified...  ...   \n",
       "\n",
       "  Median playtime two weeks     Developers     Publishers  \\\n",
       "0                         0  WanadevStudio  WanadevStudio   \n",
       "1                         0   Glitch Pitch        PLAYISM   \n",
       "\n",
       "                                          Categories  \\\n",
       "0  Single-player,Multi-player,PvP,Online PvP,Stea...   \n",
       "1  Single-player,Steam Achievements,Steam Worksho...   \n",
       "\n",
       "                       Genres  \\\n",
       "0  Casual,Indie,Racing,Sports   \n",
       "1   Indie,Simulation,Strategy   \n",
       "\n",
       "                                                Tags  \\\n",
       "0  Rhythm,VR,Multiplayer,Music,Racing,PvP,Casual,...   \n",
       "1  Management,Simulation,Anime,Sexual Content,Str...   \n",
       "\n",
       "                                         Screenshots  \\\n",
       "0  https://cdn.akamai.steamstatic.com/steam/apps/...   \n",
       "1  https://cdn.akamai.steamstatic.com/steam/apps/...   \n",
       "\n",
       "                                              Movies  ReleaseYear  \\\n",
       "0  http://cdn.akamai.steamstatic.com/steam/apps/2...         2021   \n",
       "1  http://cdn.akamai.steamstatic.com/steam/apps/2...         2021   \n",
       "\n",
       "   Total revenue  \n",
       "0      1200000.0  \n",
       "1     58600000.0  \n",
       "\n",
       "[2 rows x 41 columns]"
      ]
     },
     "execution_count": 57,
     "metadata": {},
     "output_type": "execute_result"
    }
   ],
   "source": [
    "# ------ Dataset original com a adição do dataset auxiliar ------\n",
    "df_principal.head(2)"
   ]
  },
  {
   "cell_type": "markdown",
   "metadata": {},
   "source": [
    "### Tags\n",
    "\n",
    "-------"
   ]
  },
  {
   "cell_type": "code",
   "execution_count": 11,
   "metadata": {},
   "outputs": [
    {
     "name": "stdout",
     "output_type": "stream",
     "text": [
      "\n",
      "> dataset[Tags] como lista:\n",
      "\n",
      "0      [Rhythm, VR, Multiplayer, Music, Racing, PvP, ...\n",
      "1      [Management, Simulation, Anime, Sexual Content...\n",
      "2      [Casual, Simulation, Strategy, Indie, Manageme...\n",
      "3      [Puzzle, Difficult, Indie, Singleplayer, Sokob...\n",
      "4      [RPG, Choices Matter, Story Rich, Detective, T...\n",
      "                             ...                        \n",
      "294    [Strategy, Post-apocalyptic, Survival, Colony ...\n",
      "295    [Atmospheric, Resource Management, Simulation,...\n",
      "296    [Metroidvania, Female Protagonist, Shoot 'Em U...\n",
      "297    [Colony Sim, Indie, Pixel Graphics, Simulation...\n",
      "298    [Indie, Rhythm, Action, Hand-drawn, Colorful, ...\n",
      "Name: Tags, Length: 299, dtype: object\n"
     ]
    }
   ],
   "source": [
    "# ---- Tranforma a coluna de Tags em lista ----\n",
    "\n",
    "df_principal['Tags'] = df_principal.Tags.apply(lambda x: str(x).split(','))\n",
    "print(f\"\\n> dataset[Tags] como lista:\\n\\n{df_principal['Tags']}\")\n"
   ]
  },
  {
   "cell_type": "markdown",
   "metadata": {},
   "source": [
    "### Montando os Nós da Rede\n",
    "\n",
    "-------"
   ]
  },
  {
   "cell_type": "code",
   "execution_count": 64,
   "metadata": {},
   "outputs": [
    {
     "data": {
      "text/html": [
       "<div>\n",
       "<style scoped>\n",
       "    .dataframe tbody tr th:only-of-type {\n",
       "        vertical-align: middle;\n",
       "    }\n",
       "\n",
       "    .dataframe tbody tr th {\n",
       "        vertical-align: top;\n",
       "    }\n",
       "\n",
       "    .dataframe thead th {\n",
       "        text-align: right;\n",
       "    }\n",
       "</style>\n",
       "<table border=\"1\" class=\"dataframe\">\n",
       "  <thead>\n",
       "    <tr style=\"text-align: right;\">\n",
       "      <th></th>\n",
       "      <th>id</th>\n",
       "      <th>Tags</th>\n",
       "      <th>MetacriticScore</th>\n",
       "      <th>TotalRevenue</th>\n",
       "      <th>ReleaseYear</th>\n",
       "    </tr>\n",
       "  </thead>\n",
       "  <tbody>\n",
       "    <tr>\n",
       "      <th>0</th>\n",
       "      <td>0</td>\n",
       "      <td>Rhythm,VR,Multiplayer,Music,Racing,PvP,Casual,...</td>\n",
       "      <td>87</td>\n",
       "      <td>1.200000e+06</td>\n",
       "      <td>2021</td>\n",
       "    </tr>\n",
       "    <tr>\n",
       "      <th>1</th>\n",
       "      <td>1</td>\n",
       "      <td>Management,Simulation,Anime,Sexual Content,Str...</td>\n",
       "      <td>73</td>\n",
       "      <td>5.860000e+07</td>\n",
       "      <td>2021</td>\n",
       "    </tr>\n",
       "    <tr>\n",
       "      <th>2</th>\n",
       "      <td>2</td>\n",
       "      <td>Casual,Simulation,Strategy,Indie,Management,Pu...</td>\n",
       "      <td>87</td>\n",
       "      <td>9.100000e+06</td>\n",
       "      <td>2021</td>\n",
       "    </tr>\n",
       "    <tr>\n",
       "      <th>3</th>\n",
       "      <td>3</td>\n",
       "      <td>Puzzle,Difficult,Indie,Singleplayer,Sokoban,Ca...</td>\n",
       "      <td>76</td>\n",
       "      <td>2.610500e+01</td>\n",
       "      <td>2021</td>\n",
       "    </tr>\n",
       "    <tr>\n",
       "      <th>4</th>\n",
       "      <td>4</td>\n",
       "      <td>RPG,Choices Matter,Story Rich,Detective,Top-Do...</td>\n",
       "      <td>67</td>\n",
       "      <td>2.640000e+07</td>\n",
       "      <td>2021</td>\n",
       "    </tr>\n",
       "    <tr>\n",
       "      <th>...</th>\n",
       "      <td>...</td>\n",
       "      <td>...</td>\n",
       "      <td>...</td>\n",
       "      <td>...</td>\n",
       "      <td>...</td>\n",
       "    </tr>\n",
       "    <tr>\n",
       "      <th>294</th>\n",
       "      <td>294</td>\n",
       "      <td>Strategy,Post-apocalyptic,Survival,Colony Sim,...</td>\n",
       "      <td>76</td>\n",
       "      <td>3.120000e+07</td>\n",
       "      <td>2022</td>\n",
       "    </tr>\n",
       "    <tr>\n",
       "      <th>295</th>\n",
       "      <td>295</td>\n",
       "      <td>Atmospheric,Resource Management,Simulation,Str...</td>\n",
       "      <td>78</td>\n",
       "      <td>4.540000e+07</td>\n",
       "      <td>2022</td>\n",
       "    </tr>\n",
       "    <tr>\n",
       "      <th>296</th>\n",
       "      <td>296</td>\n",
       "      <td>Metroidvania,Female Protagonist,Shoot 'Em Up,C...</td>\n",
       "      <td>82</td>\n",
       "      <td>2.238000e+08</td>\n",
       "      <td>2022</td>\n",
       "    </tr>\n",
       "    <tr>\n",
       "      <th>297</th>\n",
       "      <td>297</td>\n",
       "      <td>Colony Sim,Indie,Pixel Graphics,Simulation,Eco...</td>\n",
       "      <td>93</td>\n",
       "      <td>2.140000e+07</td>\n",
       "      <td>2022</td>\n",
       "    </tr>\n",
       "    <tr>\n",
       "      <th>298</th>\n",
       "      <td>298</td>\n",
       "      <td>Indie,Rhythm,Action,Hand-drawn,Colorful,2D,Cut...</td>\n",
       "      <td>81</td>\n",
       "      <td>8.810000e+05</td>\n",
       "      <td>2022</td>\n",
       "    </tr>\n",
       "  </tbody>\n",
       "</table>\n",
       "<p>299 rows × 5 columns</p>\n",
       "</div>"
      ],
      "text/plain": [
       "      id                                               Tags  MetacriticScore  \\\n",
       "0      0  Rhythm,VR,Multiplayer,Music,Racing,PvP,Casual,...               87   \n",
       "1      1  Management,Simulation,Anime,Sexual Content,Str...               73   \n",
       "2      2  Casual,Simulation,Strategy,Indie,Management,Pu...               87   \n",
       "3      3  Puzzle,Difficult,Indie,Singleplayer,Sokoban,Ca...               76   \n",
       "4      4  RPG,Choices Matter,Story Rich,Detective,Top-Do...               67   \n",
       "..   ...                                                ...              ...   \n",
       "294  294  Strategy,Post-apocalyptic,Survival,Colony Sim,...               76   \n",
       "295  295  Atmospheric,Resource Management,Simulation,Str...               78   \n",
       "296  296  Metroidvania,Female Protagonist,Shoot 'Em Up,C...               82   \n",
       "297  297  Colony Sim,Indie,Pixel Graphics,Simulation,Eco...               93   \n",
       "298  298  Indie,Rhythm,Action,Hand-drawn,Colorful,2D,Cut...               81   \n",
       "\n",
       "     TotalRevenue  ReleaseYear  \n",
       "0    1.200000e+06         2021  \n",
       "1    5.860000e+07         2021  \n",
       "2    9.100000e+06         2021  \n",
       "3    2.610500e+01         2021  \n",
       "4    2.640000e+07         2021  \n",
       "..            ...          ...  \n",
       "294  3.120000e+07         2022  \n",
       "295  4.540000e+07         2022  \n",
       "296  2.238000e+08         2022  \n",
       "297  2.140000e+07         2022  \n",
       "298  8.810000e+05         2022  \n",
       "\n",
       "[299 rows x 5 columns]"
      ]
     },
     "execution_count": 64,
     "metadata": {},
     "output_type": "execute_result"
    }
   ],
   "source": [
    "id = 0\n",
    "unique_name_values = df_principal['Name'].unique().tolist()\n",
    "node_data = []\n",
    "\n",
    "for _ , linha in  df_principal.iterrows():\n",
    "    \n",
    "    if(linha['Name'] in unique_name_values):\n",
    "        node_data.append([id ,linha['Tags'], linha['Metacritic score'] , linha['Total revenue'], linha['ReleaseYear']])\n",
    "        id+=1\n",
    "\n",
    "df_nodes = pd.DataFrame(node_data,columns=['id','Tags', 'MetacriticScore' , 'TotalRevenue' , 'ReleaseYear']) \n",
    "df_nodes"
   ]
  },
  {
   "cell_type": "code",
   "execution_count": 66,
   "metadata": {},
   "outputs": [
    {
     "ename": "ValueError",
     "evalue": "Vertex with id 0 already exists",
     "output_type": "error",
     "traceback": [
      "\u001b[0;31m---------------------------------------------------------------------------\u001b[0m",
      "\u001b[0;31mValueError\u001b[0m                                Traceback (most recent call last)",
      "Cell \u001b[0;32mIn[66], line 10\u001b[0m\n\u001b[1;32m      6\u001b[0m \u001b[38;5;28;01mfor\u001b[39;00m _, infos \u001b[38;5;129;01min\u001b[39;00m df_nodes\u001b[38;5;241m.\u001b[39miterrows():\n\u001b[1;32m      7\u001b[0m     \n\u001b[1;32m      8\u001b[0m     \u001b[38;5;66;03m#Adiciona vértices:\u001b[39;00m\n\u001b[1;32m      9\u001b[0m     infos \u001b[38;5;241m=\u001b[39m infos\u001b[38;5;241m.\u001b[39mastype(\u001b[38;5;28mobject\u001b[39m)\n\u001b[0;32m---> 10\u001b[0m     \u001b[43mg\u001b[49m\u001b[38;5;241;43m.\u001b[39;49m\u001b[43madd_vertex\u001b[49m\u001b[43m(\u001b[49m\u001b[43minfos\u001b[49m\u001b[43m[\u001b[49m\u001b[38;5;124;43m'\u001b[39;49m\u001b[38;5;124;43mid\u001b[39;49m\u001b[38;5;124;43m'\u001b[39;49m\u001b[43m]\u001b[49m\u001b[43m)\u001b[49m\n\u001b[1;32m     12\u001b[0m     \u001b[38;5;66;03m# Adiciona atributos:\u001b[39;00m\n\u001b[1;32m     13\u001b[0m     vertice \u001b[38;5;241m=\u001b[39m g\u001b[38;5;241m.\u001b[39mget_vertex(infos[\u001b[38;5;124m'\u001b[39m\u001b[38;5;124mid\u001b[39m\u001b[38;5;124m'\u001b[39m])\n",
      "File \u001b[0;32m/home/jupyter/netpixi/integration/gt/wrapper.py:255\u001b[0m, in \u001b[0;36mGraph.add_vertex\u001b[0;34m(self, id)\u001b[0m\n\u001b[1;32m    253\u001b[0m \u001b[38;5;28;01mdef\u001b[39;00m \u001b[38;5;21madd_vertex\u001b[39m(\u001b[38;5;28mself\u001b[39m, \u001b[38;5;28mid\u001b[39m):\n\u001b[1;32m    254\u001b[0m     \u001b[38;5;28;01mif\u001b[39;00m \u001b[38;5;28mid\u001b[39m \u001b[38;5;129;01min\u001b[39;00m \u001b[38;5;28mself\u001b[39m\u001b[38;5;241m.\u001b[39mvi:\n\u001b[0;32m--> 255\u001b[0m         \u001b[38;5;28;01mraise\u001b[39;00m \u001b[38;5;167;01mValueError\u001b[39;00m(\u001b[38;5;124mf\u001b[39m\u001b[38;5;124m'\u001b[39m\u001b[38;5;124mVertex with id \u001b[39m\u001b[38;5;132;01m{\u001b[39;00m\u001b[38;5;28mid\u001b[39m\u001b[38;5;132;01m}\u001b[39;00m\u001b[38;5;124m already exists\u001b[39m\u001b[38;5;124m'\u001b[39m)\n\u001b[1;32m    256\u001b[0m     v \u001b[38;5;241m=\u001b[39m \u001b[38;5;28mself\u001b[39m\u001b[38;5;241m.\u001b[39m__wrapped__\u001b[38;5;241m.\u001b[39madd_vertex()\n\u001b[1;32m    257\u001b[0m     \u001b[38;5;28mself\u001b[39m\u001b[38;5;241m.\u001b[39mvp\u001b[38;5;241m.\u001b[39mid[v] \u001b[38;5;241m=\u001b[39m \u001b[38;5;28mid\u001b[39m\n",
      "\u001b[0;31mValueError\u001b[0m: Vertex with id 0 already exists"
     ]
    }
   ],
   "source": [
    "# ---- Criando os nós e adiciona atributos aos nós ----\n",
    "\n",
    "g.add_vp('MetacriticScore')\n",
    "\n",
    "aux = []\n",
    "for _, infos in df_nodes.iterrows():\n",
    "    \n",
    "    #Adiciona vértices:\n",
    "    infos = infos.astype(object)\n",
    "    g.add_vertex(infos['id'])\n",
    "    \n",
    "    # Adiciona atributos:\n",
    "    vertice = g.get_vertex(infos['id'])\n",
    "    vertice['MetacriticScore'] = infos['MetacriticScore']"
   ]
  },
  {
   "cell_type": "markdown",
   "metadata": {},
   "source": [
    "### Montando as Arestas da Rede\n",
    "\n",
    "-------"
   ]
  },
  {
   "cell_type": "code",
   "execution_count": 14,
   "metadata": {},
   "outputs": [],
   "source": [
    "def count_tags(lista_tags_1, lista_tags_2):\n",
    "    '''\n",
    "    Retorna o número de tags em comum entre duas listas\n",
    "    '''    \n",
    "    count_common_tags = 0\n",
    "        \n",
    "    for tag1 in lista_tags_1:\n",
    "        for tag2 in lista_tags_2:\n",
    "            \n",
    "            if(tag1 == tag2):\n",
    "                count_common_tags+=1\n",
    "    \n",
    "    return count_common_tags"
   ]
  },
  {
   "cell_type": "code",
   "execution_count": 15,
   "metadata": {},
   "outputs": [
    {
     "data": {
      "text/html": [
       "<div>\n",
       "<style scoped>\n",
       "    .dataframe tbody tr th:only-of-type {\n",
       "        vertical-align: middle;\n",
       "    }\n",
       "\n",
       "    .dataframe tbody tr th {\n",
       "        vertical-align: top;\n",
       "    }\n",
       "\n",
       "    .dataframe thead th {\n",
       "        text-align: right;\n",
       "    }\n",
       "</style>\n",
       "<table border=\"1\" class=\"dataframe\">\n",
       "  <thead>\n",
       "    <tr style=\"text-align: right;\">\n",
       "      <th></th>\n",
       "      <th>node_1</th>\n",
       "      <th>node_2</th>\n",
       "      <th>Tags_em_Comum</th>\n",
       "    </tr>\n",
       "  </thead>\n",
       "  <tbody>\n",
       "    <tr>\n",
       "      <th>0</th>\n",
       "      <td>91</td>\n",
       "      <td>205</td>\n",
       "      <td>9</td>\n",
       "    </tr>\n",
       "    <tr>\n",
       "      <th>1</th>\n",
       "      <td>42</td>\n",
       "      <td>287</td>\n",
       "      <td>2</td>\n",
       "    </tr>\n",
       "    <tr>\n",
       "      <th>2</th>\n",
       "      <td>148</td>\n",
       "      <td>199</td>\n",
       "      <td>1</td>\n",
       "    </tr>\n",
       "    <tr>\n",
       "      <th>3</th>\n",
       "      <td>103</td>\n",
       "      <td>166</td>\n",
       "      <td>5</td>\n",
       "    </tr>\n",
       "    <tr>\n",
       "      <th>4</th>\n",
       "      <td>107</td>\n",
       "      <td>236</td>\n",
       "      <td>5</td>\n",
       "    </tr>\n",
       "    <tr>\n",
       "      <th>...</th>\n",
       "      <td>...</td>\n",
       "      <td>...</td>\n",
       "      <td>...</td>\n",
       "    </tr>\n",
       "    <tr>\n",
       "      <th>44546</th>\n",
       "      <td>18</td>\n",
       "      <td>267</td>\n",
       "      <td>1</td>\n",
       "    </tr>\n",
       "    <tr>\n",
       "      <th>44547</th>\n",
       "      <td>132</td>\n",
       "      <td>231</td>\n",
       "      <td>1</td>\n",
       "    </tr>\n",
       "    <tr>\n",
       "      <th>44548</th>\n",
       "      <td>104</td>\n",
       "      <td>187</td>\n",
       "      <td>4</td>\n",
       "    </tr>\n",
       "    <tr>\n",
       "      <th>44549</th>\n",
       "      <td>88</td>\n",
       "      <td>98</td>\n",
       "      <td>3</td>\n",
       "    </tr>\n",
       "    <tr>\n",
       "      <th>44550</th>\n",
       "      <td>88</td>\n",
       "      <td>273</td>\n",
       "      <td>4</td>\n",
       "    </tr>\n",
       "  </tbody>\n",
       "</table>\n",
       "<p>44551 rows × 3 columns</p>\n",
       "</div>"
      ],
      "text/plain": [
       "       node_1  node_2  Tags_em_Comum\n",
       "0          91     205              9\n",
       "1          42     287              2\n",
       "2         148     199              1\n",
       "3         103     166              5\n",
       "4         107     236              5\n",
       "...       ...     ...            ...\n",
       "44546      18     267              1\n",
       "44547     132     231              1\n",
       "44548     104     187              4\n",
       "44549      88      98              3\n",
       "44550      88     273              4\n",
       "\n",
       "[44551 rows x 3 columns]"
      ]
     },
     "execution_count": 15,
     "metadata": {},
     "output_type": "execute_result"
    }
   ],
   "source": [
    "node_relation = set()\n",
    "data_relation = set()\n",
    "\n",
    "for _, linha1 in df_nodes.iterrows():\n",
    "    for _,linha2 in df_nodes.iterrows():\n",
    "        \n",
    "        proximidade = 0\n",
    "        \n",
    "        if(( (linha1['id'] , linha2['id']) not in node_relation) and \n",
    "           ( (linha2['id'] , linha1['id']) not in node_relation) and (linha2['id'] != linha1['id'])):\n",
    "            \n",
    "            # Calculando TAGS em comum\n",
    "            proximidade = count_tags(linha1['Tags'], linha2['Tags'])\n",
    "            \n",
    "            # Adiciona valor na relação de nós:\n",
    "            node_relation.add((linha1['id'] , linha2['id']))\n",
    "        \n",
    "            data_relation.add((linha1['id'], linha2['id'], proximidade))\n",
    "            \n",
    "df_relation = pd.DataFrame(data_relation,columns=['node_1', 'node_2' , 'Tags_em_Comum'] ) \n",
    "df_relation"
   ]
  },
  {
   "cell_type": "markdown",
   "metadata": {},
   "source": [
    "#### Threadhold para a construção das Arestas"
   ]
  },
  {
   "cell_type": "code",
   "execution_count": 30,
   "metadata": {},
   "outputs": [
    {
     "data": {
      "image/png": "[encoded data removed]",
      "text/plain": [
       "<Figure size 640x480 with 1 Axes>"
      ]
     },
     "metadata": {},
     "output_type": "display_data"
    }
   ],
   "source": [
    "df_relation['Tags_em_Comum'][df_relation['Tags_em_Comum'] != 0].value_counts().plot(kind='bar');"
   ]
  },
  {
   "cell_type": "code",
   "execution_count": 39,
   "metadata": {},
   "outputs": [
    {
     "name": "stdout",
     "output_type": "stream",
     "text": [
      "\n",
      "> Threshold num_tags para arestas :  4\n",
      "\n"
     ]
    }
   ],
   "source": [
    "# ---- Escolhendo threshold para a criação das arestas a depender da distribuição ----\n",
    "\n",
    "list_num_tags = df_relation['Tags_em_Comum'][df_relation['Tags_em_Comum'] != 0].value_counts().index\n",
    "lista_num_jogos = df_relation['Tags_em_Comum'][df_relation['Tags_em_Comum'] != 0].value_counts().values\n",
    "\n",
    "def media_ponderada(lista_pesos , lista_valor):\n",
    "    \n",
    "    nominador = 0\n",
    "    denominador = sum(lista_pesos)\n",
    "    \n",
    "    for num_tags , num_jogos in zip(list_num_tags , lista_num_jogos):\n",
    "        nominador += num_tags*num_jogos\n",
    "        \n",
    "    return nominador/denominador\n",
    "        \n",
    "threshold_proximidade = media_ponderada(lista_num_jogos , list_num_tags)\n",
    "\n",
    "print(f\"\\n> Threshold num_tags para arestas :  {round(threshold_proximidade)}\\n\")"
   ]
  },
  {
   "cell_type": "code",
   "execution_count": 40,
   "metadata": {},
   "outputs": [],
   "source": [
    "# ---- Criando arestas ----\n",
    "\n",
    "for _ , relacao in df_relation.iterrows():\n",
    "    \n",
    "    if(relacao['Tags_em_Comum'] > threshold_proximidade):\n",
    "        g.add_edge(relacao['node_1'], relacao['node_2'])"
   ]
  },
  {
   "cell_type": "markdown",
   "metadata": {},
   "source": [
    "### Métricas da Rede\n",
    "\n",
    "-------"
   ]
  },
  {
   "cell_type": "code",
   "execution_count": 41,
   "metadata": {},
   "outputs": [
    {
     "name": "stdout",
     "output_type": "stream",
     "text": [
      "\n",
      " > Número de vértices de g: 299\n",
      "\n",
      " > Número de arestas de g: 22331\n",
      "\n",
      " > Densidade: 0.5012457632825301\n"
     ]
    }
   ],
   "source": [
    "# ---- Número de arestas, nós e densidade ----\n",
    "\n",
    "n = g.num_vertices()\n",
    "m = g.num_edges()\n",
    "\n",
    "if g.is_directed():\n",
    "    max_edges = n * (n - 1)\n",
    "else:\n",
    "    max_edges = n * (n - 1) // 2\n",
    "d = m / max_edges\n",
    "\n",
    "print('\\n > Número de vértices de g:', n )\n",
    "print('\\n > Número de arestas de g:', m)\n",
    "print('\\n > Densidade:', d)"
   ]
  },
  {
   "cell_type": "markdown",
   "metadata": {},
   "source": [
    "### Calculando Degree\n",
    "\n",
    "-------"
   ]
  },
  {
   "cell_type": "code",
   "execution_count": 42,
   "metadata": {},
   "outputs": [
    {
     "data": {
      "text/plain": [
       "count    299.000000\n",
       "mean     149.371237\n",
       "std       53.975628\n",
       "min        2.000000\n",
       "25%      108.000000\n",
       "50%      159.000000\n",
       "75%      193.500000\n",
       "max      252.000000\n",
       "Name: degree, dtype: float64"
      ]
     },
     "execution_count": 42,
     "metadata": {},
     "output_type": "execute_result"
    }
   ],
   "source": [
    "# Propriedade dos vértices\n",
    "data = gt_data(g)\n",
    "\n",
    "# Calculando degrees\n",
    "in_degrees = []\n",
    "out_degrees = []\n",
    "degrees = []\n",
    "\n",
    "for v in g.all_vertices():\n",
    "    in_degrees.append(v.in_degree())\n",
    "for v in g.all_vertices():\n",
    "    out_degrees.append(v.out_degree())\n",
    "for v in g.all_vertices():\n",
    "    degrees.append(v.total_degree())\n",
    "    \n",
    "data['in_degree'] = in_degrees\n",
    "data['out_degree'] = out_degrees\n",
    "data['degree'] = degrees\n",
    "data['degree'].describe()"
   ]
  },
  {
   "cell_type": "code",
   "execution_count": 43,
   "metadata": {},
   "outputs": [
    {
     "data": {
      "text/plain": [
       "<AxesSubplot: xlabel='degree', ylabel='Count'>"
      ]
     },
     "execution_count": 43,
     "metadata": {},
     "output_type": "execute_result"
    },
    {
     "data": {
      "image/png": "[encoded data removed]",
      "text/plain": [
       "<Figure size 640x480 with 1 Axes>"
      ]
     },
     "metadata": {},
     "output_type": "display_data"
    }
   ],
   "source": [
    "sns.histplot(data['degree'])"
   ]
  },
  {
   "cell_type": "markdown",
   "metadata": {},
   "source": [
    "### Grafo\n",
    "\n",
    "-------"
   ]
  },
  {
   "cell_type": "code",
   "execution_count": 44,
   "metadata": {
    "collapsed": true
   },
   "outputs": [
    {
     "data": {
      "text/html": [
       "\n",
       "        <div id=\"YPshpLT6nMqEN7JFQHLc4z\"></div>\n",
       "        <script>netpixi.render('YPshpLT6nMqEN7JFQHLc4z', '/projeto.net.gz', 1.7777777777777777, true, false, false);</script>\n",
       "    "
      ],
      "text/plain": [
       "<IPython.core.display.HTML object>"
      ]
     },
     "metadata": {},
     "output_type": "display_data"
    }
   ],
   "source": [
    "# ----- Salva e renderiza grafo -----\n",
    "gt_save(g, 'projeto.net.gz')\n",
    "\n",
    "r = netpixi.render('/projeto.net.gz')"
   ]
  },
  {
   "cell_type": "code",
   "execution_count": 45,
   "metadata": {
    "collapsed": true
   },
   "outputs": [
    {
     "data": {
      "text/html": [
       "\n",
       "        <div id=\"kMevSyjrf3B8vGoFZ2Jz4A\"></div>\n",
       "        <script>netpixi.render('kMevSyjrf3B8vGoFZ2Jz4A', 'projeto_frunch.net.gz', 1.7777777777777777, true, false, false);</script>\n",
       "    "
      ],
      "text/plain": [
       "<IPython.core.display.HTML object>"
      ]
     },
     "metadata": {},
     "output_type": "display_data"
    }
   ],
   "source": [
    "# ----- Algoritmo Reingold Fruchterm -----\n",
    "m = gt_draw.fruchterman_reingold_layout(g)\n",
    "gt_move(g, m)\n",
    "gt_save(g, 'projeto_frunch.net.gz')\n",
    "r = netpixi.render('projeto_frunch.net.gz');"
   ]
  },
  {
   "cell_type": "code",
   "execution_count": 46,
   "metadata": {},
   "outputs": [
    {
     "name": "stderr",
     "output_type": "stream",
     "text": [
      "<frozen importlib._bootstrap>:914: ImportWarning: VendorImporter.find_spec() not found; falling back to find_module()\n"
     ]
    },
    {
     "data": {
      "text/html": [
       "\n",
       "        <div id=\"QZP2joyTfjonxFZdxTYcvu\"></div>\n",
       "        <script>netpixi.call('QZP2joyTfjonxFZdxTYcvu', 'kMevSyjrf3B8vGoFZ2Jz4A', 'changeGraph', 'eyJpZCI6IDAsICJ0eXBlIjogInZlcnRleCIsICJwcm9wcyI6IHsiY29sb3IiOiA2NTI4MH19Cg==');</script>\n",
       "    "
      ],
      "text/plain": [
       "<IPython.core.display.HTML object>"
      ]
     },
     "metadata": {},
     "output_type": "display_data"
    },
    {
     "data": {
      "text/html": [
       "\n",
       "        <div id=\"abUa9CFZmLjjoz4FTZX3WS\"></div>\n",
       "        <script>netpixi.call('abUa9CFZmLjjoz4FTZX3WS', 'kMevSyjrf3B8vGoFZ2Jz4A', 'changeGraph', 'eyJpZCI6IDEsICJ0eXBlIjogInZlcnRleCIsICJwcm9wcyI6IHsiY29sb3IiOiA2NTI4MH19Cg==');</script>\n",
       "    "
      ],
      "text/plain": [
       "<IPython.core.display.HTML object>"
      ]
     },
     "metadata": {},
     "output_type": "display_data"
    },
    {
     "data": {
      "text/html": [
       "\n",
       "        <div id=\"W8nH6Xg6Us8ejQfVBB476L\"></div>\n",
       "        <script>netpixi.call('W8nH6Xg6Us8ejQfVBB476L', 'kMevSyjrf3B8vGoFZ2Jz4A', 'changeGraph', 'eyJpZCI6IDIsICJ0eXBlIjogInZlcnRleCIsICJwcm9wcyI6IHsiY29sb3IiOiA2NTI4MH19Cg==');</script>\n",
       "    "
      ],
      "text/plain": [
       "<IPython.core.display.HTML object>"
      ]
     },
     "metadata": {},
     "output_type": "display_data"
    },
    {
     "data": {
      "text/html": [
       "\n",
       "        <div id=\"EmCFmmtiaTLVkkwMD4VJeg\"></div>\n",
       "        <script>netpixi.call('EmCFmmtiaTLVkkwMD4VJeg', 'kMevSyjrf3B8vGoFZ2Jz4A', 'changeGraph', 'eyJpZCI6IDMsICJ0eXBlIjogInZlcnRleCIsICJwcm9wcyI6IHsiY29sb3IiOiA2NTI4MH19Cg==');</script>\n",
       "    "
      ],
      "text/plain": [
       "<IPython.core.display.HTML object>"
      ]
     },
     "metadata": {},
     "output_type": "display_data"
    },
    {
     "data": {
      "text/html": [
       "\n",
       "        <div id=\"EXbjYBgMsBuYSbVs8dtuZx\"></div>\n",
       "        <script>netpixi.call('EXbjYBgMsBuYSbVs8dtuZx', 'kMevSyjrf3B8vGoFZ2Jz4A', 'changeGraph', 'eyJpZCI6IDQsICJ0eXBlIjogInZlcnRleCIsICJwcm9wcyI6IHsiY29sb3IiOiAxNjcxMTY4MH19Cg==');</script>\n",
       "    "
      ],
      "text/plain": [
       "<IPython.core.display.HTML object>"
      ]
     },
     "metadata": {},
     "output_type": "display_data"
    },
    {
     "data": {
      "text/html": [
       "\n",
       "        <div id=\"Edzvcb8nFnsFd5gA7WgyUm\"></div>\n",
       "        <script>netpixi.call('Edzvcb8nFnsFd5gA7WgyUm', 'kMevSyjrf3B8vGoFZ2Jz4A', 'changeGraph', 'eyJpZCI6IDUsICJ0eXBlIjogInZlcnRleCIsICJwcm9wcyI6IHsiY29sb3IiOiA2NTI4MH19Cg==');</script>\n",
       "    "
      ],
      "text/plain": [
       "<IPython.core.display.HTML object>"
      ]
     },
     "metadata": {},
     "output_type": "display_data"
    },
    {
     "data": {
      "text/html": [
       "\n",
       "        <div id=\"3NcTMXmmuqtxtdREqG9dyM\"></div>\n",
       "        <script>netpixi.call('3NcTMXmmuqtxtdREqG9dyM', 'kMevSyjrf3B8vGoFZ2Jz4A', 'changeGraph', 'eyJpZCI6IDYsICJ0eXBlIjogInZlcnRleCIsICJwcm9wcyI6IHsiY29sb3IiOiA2NTI4MH19Cg==');</script>\n",
       "    "
      ],
      "text/plain": [
       "<IPython.core.display.HTML object>"
      ]
     },
     "metadata": {},
     "output_type": "display_data"
    },
    {
     "data": {
      "text/html": [
       "\n",
       "        <div id=\"2NVbVu2ASddkVPErCUdQoL\"></div>\n",
       "        <script>netpixi.call('2NVbVu2ASddkVPErCUdQoL', 'kMevSyjrf3B8vGoFZ2Jz4A', 'changeGraph', 'eyJpZCI6IDcsICJ0eXBlIjogInZlcnRleCIsICJwcm9wcyI6IHsiY29sb3IiOiAxNjcxMTY4MH19Cg==');</script>\n",
       "    "
      ],
      "text/plain": [
       "<IPython.core.display.HTML object>"
      ]
     },
     "metadata": {},
     "output_type": "display_data"
    },
    {
     "data": {
      "text/html": [
       "\n",
       "        <div id=\"CNm3PX5fZNsmur8mRpGYZW\"></div>\n",
       "        <script>netpixi.call('CNm3PX5fZNsmur8mRpGYZW', 'kMevSyjrf3B8vGoFZ2Jz4A', 'changeGraph', 'eyJpZCI6IDgsICJ0eXBlIjogInZlcnRleCIsICJwcm9wcyI6IHsiY29sb3IiOiA2NTI4MH19Cg==');</script>\n",
       "    "
      ],
      "text/plain": [
       "<IPython.core.display.HTML object>"
      ]
     },
     "metadata": {},
     "output_type": "display_data"
    },
    {
     "data": {
      "text/html": [
       "\n",
       "        <div id=\"RCMzDQ3B6famZVxh8gX8LE\"></div>\n",
       "        <script>netpixi.call('RCMzDQ3B6famZVxh8gX8LE', 'kMevSyjrf3B8vGoFZ2Jz4A', 'changeGraph', 'eyJpZCI6IDksICJ0eXBlIjogInZlcnRleCIsICJwcm9wcyI6IHsiY29sb3IiOiAxNjcxMTY4MH19Cg==');</script>\n",
       "    "
      ],
      "text/plain": [
       "<IPython.core.display.HTML object>"
      ]
     },
     "metadata": {},
     "output_type": "display_data"
    },
    {
     "data": {
      "text/html": [
       "\n",
       "        <div id=\"RZkEatQjMKo9o3TBQzVPTp\"></div>\n",
       "        <script>netpixi.call('RZkEatQjMKo9o3TBQzVPTp', 'kMevSyjrf3B8vGoFZ2Jz4A', 'changeGraph', 'eyJpZCI6IDEwLCAidHlwZSI6ICJ2ZXJ0ZXgiLCAicHJvcHMiOiB7ImNvbG9yIjogNjUyODB9fQo=');</script>\n",
       "    "
      ],
      "text/plain": [
       "<IPython.core.display.HTML object>"
      ]
     },
     "metadata": {},
     "output_type": "display_data"
    },
    {
     "data": {
      "text/html": [
       "\n",
       "        <div id=\"bmUpZtuPhmzpzhAeFKjHHs\"></div>\n",
       "        <script>netpixi.call('bmUpZtuPhmzpzhAeFKjHHs', 'kMevSyjrf3B8vGoFZ2Jz4A', 'changeGraph', 'eyJpZCI6IDExLCAidHlwZSI6ICJ2ZXJ0ZXgiLCAicHJvcHMiOiB7ImNvbG9yIjogNjUyODB9fQo=');</script>\n",
       "    "
      ],
      "text/plain": [
       "<IPython.core.display.HTML object>"
      ]
     },
     "metadata": {},
     "output_type": "display_data"
    },
    {
     "data": {
      "text/html": [
       "\n",
       "        <div id=\"YWmkTTF8qt3VPzc6T24B2G\"></div>\n",
       "        <script>netpixi.call('YWmkTTF8qt3VPzc6T24B2G', 'kMevSyjrf3B8vGoFZ2Jz4A', 'changeGraph', 'eyJpZCI6IDEyLCAidHlwZSI6ICJ2ZXJ0ZXgiLCAicHJvcHMiOiB7ImNvbG9yIjogMTY3MTE2ODB9fQo=');</script>\n",
       "    "
      ],
      "text/plain": [
       "<IPython.core.display.HTML object>"
      ]
     },
     "metadata": {},
     "output_type": "display_data"
    },
    {
     "data": {
      "text/html": [
       "\n",
       "        <div id=\"8SfSPzg7Uze5ZYBxUv9n9R\"></div>\n",
       "        <script>netpixi.call('8SfSPzg7Uze5ZYBxUv9n9R', 'kMevSyjrf3B8vGoFZ2Jz4A', 'changeGraph', 'eyJpZCI6IDEzLCAidHlwZSI6ICJ2ZXJ0ZXgiLCAicHJvcHMiOiB7ImNvbG9yIjogMTY3MTE2ODB9fQo=');</script>\n",
       "    "
      ],
      "text/plain": [
       "<IPython.core.display.HTML object>"
      ]
     },
     "metadata": {},
     "output_type": "display_data"
    },
    {
     "data": {
      "text/html": [
       "\n",
       "        <div id=\"mPWYHL3TtTxzcjfrSL4ves\"></div>\n",
       "        <script>netpixi.call('mPWYHL3TtTxzcjfrSL4ves', 'kMevSyjrf3B8vGoFZ2Jz4A', 'changeGraph', 'eyJpZCI6IDE0LCAidHlwZSI6ICJ2ZXJ0ZXgiLCAicHJvcHMiOiB7ImNvbG9yIjogNjUyODB9fQo=');</script>\n",
       "    "
      ],
      "text/plain": [
       "<IPython.core.display.HTML object>"
      ]
     },
     "metadata": {},
     "output_type": "display_data"
    },
    {
     "data": {
      "text/html": [
       "\n",
       "        <div id=\"GUt9ZJsbBqDm2yGaQns6Yo\"></div>\n",
       "        <script>netpixi.call('GUt9ZJsbBqDm2yGaQns6Yo', 'kMevSyjrf3B8vGoFZ2Jz4A', 'changeGraph', 'eyJpZCI6IDE1LCAidHlwZSI6ICJ2ZXJ0ZXgiLCAicHJvcHMiOiB7ImNvbG9yIjogNjUyODB9fQo=');</script>\n",
       "    "
      ],
      "text/plain": [
       "<IPython.core.display.HTML object>"
      ]
     },
     "metadata": {},
     "output_type": "display_data"
    },
    {
     "data": {
      "text/html": [
       "\n",
       "        <div id=\"ViLxKDBMWp9J8CfoceuyDz\"></div>\n",
       "        <script>netpixi.call('ViLxKDBMWp9J8CfoceuyDz', 'kMevSyjrf3B8vGoFZ2Jz4A', 'changeGraph', 'eyJpZCI6IDE2LCAidHlwZSI6ICJ2ZXJ0ZXgiLCAicHJvcHMiOiB7ImNvbG9yIjogMTY3MTE2ODB9fQo=');</script>\n",
       "    "
      ],
      "text/plain": [
       "<IPython.core.display.HTML object>"
      ]
     },
     "metadata": {},
     "output_type": "display_data"
    },
    {
     "data": {
      "text/html": [
       "\n",
       "        <div id=\"Jm4twhveBu8xb4XTCXgJ9t\"></div>\n",
       "        <script>netpixi.call('Jm4twhveBu8xb4XTCXgJ9t', 'kMevSyjrf3B8vGoFZ2Jz4A', 'changeGraph', 'eyJpZCI6IDE3LCAidHlwZSI6ICJ2ZXJ0ZXgiLCAicHJvcHMiOiB7ImNvbG9yIjogNjUyODB9fQo=');</script>\n",
       "    "
      ],
      "text/plain": [
       "<IPython.core.display.HTML object>"
      ]
     },
     "metadata": {},
     "output_type": "display_data"
    },
    {
     "data": {
      "text/html": [
       "\n",
       "        <div id=\"nAgPC6cAUpSvKS2fTBfUt5\"></div>\n",
       "        <script>netpixi.call('nAgPC6cAUpSvKS2fTBfUt5', 'kMevSyjrf3B8vGoFZ2Jz4A', 'changeGraph', 'eyJpZCI6IDE4LCAidHlwZSI6ICJ2ZXJ0ZXgiLCAicHJvcHMiOiB7ImNvbG9yIjogMTY3MTE2ODB9fQo=');</script>\n",
       "    "
      ],
      "text/plain": [
       "<IPython.core.display.HTML object>"
      ]
     },
     "metadata": {},
     "output_type": "display_data"
    },
    {
     "data": {
      "text/html": [
       "\n",
       "        <div id=\"ZoCfZCaCbQE54xCc3kNaZd\"></div>\n",
       "        <script>netpixi.call('ZoCfZCaCbQE54xCc3kNaZd', 'kMevSyjrf3B8vGoFZ2Jz4A', 'changeGraph', 'eyJpZCI6IDE5LCAidHlwZSI6ICJ2ZXJ0ZXgiLCAicHJvcHMiOiB7ImNvbG9yIjogMTY3MTE2ODB9fQo=');</script>\n",
       "    "
      ],
      "text/plain": [
       "<IPython.core.display.HTML object>"
      ]
     },
     "metadata": {},
     "output_type": "display_data"
    },
    {
     "data": {
      "text/html": [
       "\n",
       "        <div id=\"joULfxtwHwEfHxaWV8WY6f\"></div>\n",
       "        <script>netpixi.call('joULfxtwHwEfHxaWV8WY6f', 'kMevSyjrf3B8vGoFZ2Jz4A', 'changeGraph', 'eyJpZCI6IDIwLCAidHlwZSI6ICJ2ZXJ0ZXgiLCAicHJvcHMiOiB7ImNvbG9yIjogNjUyODB9fQo=');</script>\n",
       "    "
      ],
      "text/plain": [
       "<IPython.core.display.HTML object>"
      ]
     },
     "metadata": {},
     "output_type": "display_data"
    },
    {
     "data": {
      "text/html": [
       "\n",
       "        <div id=\"Wpz7FLZJUphPGee3Hjeqnr\"></div>\n",
       "        <script>netpixi.call('Wpz7FLZJUphPGee3Hjeqnr', 'kMevSyjrf3B8vGoFZ2Jz4A', 'changeGraph', 'eyJpZCI6IDIxLCAidHlwZSI6ICJ2ZXJ0ZXgiLCAicHJvcHMiOiB7ImNvbG9yIjogMTY3MTE2ODB9fQo=');</script>\n",
       "    "
      ],
      "text/plain": [
       "<IPython.core.display.HTML object>"
      ]
     },
     "metadata": {},
     "output_type": "display_data"
    },
    {
     "data": {
      "text/html": [
       "\n",
       "        <div id=\"mkaaBzrS88cf93gdsShaYs\"></div>\n",
       "        <script>netpixi.call('mkaaBzrS88cf93gdsShaYs', 'kMevSyjrf3B8vGoFZ2Jz4A', 'changeGraph', 'eyJpZCI6IDIyLCAidHlwZSI6ICJ2ZXJ0ZXgiLCAicHJvcHMiOiB7ImNvbG9yIjogMTY3MTE2ODB9fQo=');</script>\n",
       "    "
      ],
      "text/plain": [
       "<IPython.core.display.HTML object>"
      ]
     },
     "metadata": {},
     "output_type": "display_data"
    },
    {
     "data": {
      "text/html": [
       "\n",
       "        <div id=\"mtTeai9pwHXXR5vNo4sgyE\"></div>\n",
       "        <script>netpixi.call('mtTeai9pwHXXR5vNo4sgyE', 'kMevSyjrf3B8vGoFZ2Jz4A', 'changeGraph', 'eyJpZCI6IDIzLCAidHlwZSI6ICJ2ZXJ0ZXgiLCAicHJvcHMiOiB7ImNvbG9yIjogMTY3MTE2ODB9fQo=');</script>\n",
       "    "
      ],
      "text/plain": [
       "<IPython.core.display.HTML object>"
      ]
     },
     "metadata": {},
     "output_type": "display_data"
    },
    {
     "data": {
      "text/html": [
       "\n",
       "        <div id=\"HccrqUtyiobc9yfvEEFyy4\"></div>\n",
       "        <script>netpixi.call('HccrqUtyiobc9yfvEEFyy4', 'kMevSyjrf3B8vGoFZ2Jz4A', 'changeGraph', 'eyJpZCI6IDI0LCAidHlwZSI6ICJ2ZXJ0ZXgiLCAicHJvcHMiOiB7ImNvbG9yIjogMTY3MTE2ODB9fQo=');</script>\n",
       "    "
      ],
      "text/plain": [
       "<IPython.core.display.HTML object>"
      ]
     },
     "metadata": {},
     "output_type": "display_data"
    },
    {
     "data": {
      "text/html": [
       "\n",
       "        <div id=\"ST4axQbthYbtxMMY3WQpFk\"></div>\n",
       "        <script>netpixi.call('ST4axQbthYbtxMMY3WQpFk', 'kMevSyjrf3B8vGoFZ2Jz4A', 'changeGraph', 'eyJpZCI6IDI1LCAidHlwZSI6ICJ2ZXJ0ZXgiLCAicHJvcHMiOiB7ImNvbG9yIjogNjUyODB9fQo=');</script>\n",
       "    "
      ],
      "text/plain": [
       "<IPython.core.display.HTML object>"
      ]
     },
     "metadata": {},
     "output_type": "display_data"
    },
    {
     "data": {
      "text/html": [
       "\n",
       "        <div id=\"kj4zbhP3o8ceKNdgRjXuzP\"></div>\n",
       "        <script>netpixi.call('kj4zbhP3o8ceKNdgRjXuzP', 'kMevSyjrf3B8vGoFZ2Jz4A', 'changeGraph', 'eyJpZCI6IDI2LCAidHlwZSI6ICJ2ZXJ0ZXgiLCAicHJvcHMiOiB7ImNvbG9yIjogMTY3MTE2ODB9fQo=');</script>\n",
       "    "
      ],
      "text/plain": [
       "<IPython.core.display.HTML object>"
      ]
     },
     "metadata": {},
     "output_type": "display_data"
    },
    {
     "data": {
      "text/html": [
       "\n",
       "        <div id=\"a4fz4T2AnSBbrtVh5KKcoE\"></div>\n",
       "        <script>netpixi.call('a4fz4T2AnSBbrtVh5KKcoE', 'kMevSyjrf3B8vGoFZ2Jz4A', 'changeGraph', 'eyJpZCI6IDI3LCAidHlwZSI6ICJ2ZXJ0ZXgiLCAicHJvcHMiOiB7ImNvbG9yIjogMTY3MTE2ODB9fQo=');</script>\n",
       "    "
      ],
      "text/plain": [
       "<IPython.core.display.HTML object>"
      ]
     },
     "metadata": {},
     "output_type": "display_data"
    },
    {
     "data": {
      "text/html": [
       "\n",
       "        <div id=\"LWUT3iuLcLTpWLpsQ3Mz7r\"></div>\n",
       "        <script>netpixi.call('LWUT3iuLcLTpWLpsQ3Mz7r', 'kMevSyjrf3B8vGoFZ2Jz4A', 'changeGraph', 'eyJpZCI6IDI4LCAidHlwZSI6ICJ2ZXJ0ZXgiLCAicHJvcHMiOiB7ImNvbG9yIjogMTY3MTE2ODB9fQo=');</script>\n",
       "    "
      ],
      "text/plain": [
       "<IPython.core.display.HTML object>"
      ]
     },
     "metadata": {},
     "output_type": "display_data"
    },
    {
     "data": {
      "text/html": [
       "\n",
       "        <div id=\"KCnR7sb6EzTXE6Zm8UQbQu\"></div>\n",
       "        <script>netpixi.call('KCnR7sb6EzTXE6Zm8UQbQu', 'kMevSyjrf3B8vGoFZ2Jz4A', 'changeGraph', 'eyJpZCI6IDI5LCAidHlwZSI6ICJ2ZXJ0ZXgiLCAicHJvcHMiOiB7ImNvbG9yIjogMTY3MTE2ODB9fQo=');</script>\n",
       "    "
      ],
      "text/plain": [
       "<IPython.core.display.HTML object>"
      ]
     },
     "metadata": {},
     "output_type": "display_data"
    },
    {
     "data": {
      "text/html": [
       "\n",
       "        <div id=\"mQ5cE8V8AcXCmYEGefDAEh\"></div>\n",
       "        <script>netpixi.call('mQ5cE8V8AcXCmYEGefDAEh', 'kMevSyjrf3B8vGoFZ2Jz4A', 'changeGraph', 'eyJpZCI6IDMwLCAidHlwZSI6ICJ2ZXJ0ZXgiLCAicHJvcHMiOiB7ImNvbG9yIjogMTY3MTE2ODB9fQo=');</script>\n",
       "    "
      ],
      "text/plain": [
       "<IPython.core.display.HTML object>"
      ]
     },
     "metadata": {},
     "output_type": "display_data"
    },
    {
     "data": {
      "text/html": [
       "\n",
       "        <div id=\"nbevyhfNSKCsDhnaAACdZ5\"></div>\n",
       "        <script>netpixi.call('nbevyhfNSKCsDhnaAACdZ5', 'kMevSyjrf3B8vGoFZ2Jz4A', 'changeGraph', 'eyJpZCI6IDMxLCAidHlwZSI6ICJ2ZXJ0ZXgiLCAicHJvcHMiOiB7ImNvbG9yIjogMTY3MTE2ODB9fQo=');</script>\n",
       "    "
      ],
      "text/plain": [
       "<IPython.core.display.HTML object>"
      ]
     },
     "metadata": {},
     "output_type": "display_data"
    },
    {
     "data": {
      "text/html": [
       "\n",
       "        <div id=\"GdDoR8w5tPdWe36dExHa7F\"></div>\n",
       "        <script>netpixi.call('GdDoR8w5tPdWe36dExHa7F', 'kMevSyjrf3B8vGoFZ2Jz4A', 'changeGraph', 'eyJpZCI6IDMyLCAidHlwZSI6ICJ2ZXJ0ZXgiLCAicHJvcHMiOiB7ImNvbG9yIjogNjUyODB9fQo=');</script>\n",
       "    "
      ],
      "text/plain": [
       "<IPython.core.display.HTML object>"
      ]
     },
     "metadata": {},
     "output_type": "display_data"
    },
    {
     "data": {
      "text/html": [
       "\n",
       "        <div id=\"8WXKAp9EtHeaVBPVH7ubhQ\"></div>\n",
       "        <script>netpixi.call('8WXKAp9EtHeaVBPVH7ubhQ', 'kMevSyjrf3B8vGoFZ2Jz4A', 'changeGraph', 'eyJpZCI6IDMzLCAidHlwZSI6ICJ2ZXJ0ZXgiLCAicHJvcHMiOiB7ImNvbG9yIjogMTY3MTE2ODB9fQo=');</script>\n",
       "    "
      ],
      "text/plain": [
       "<IPython.core.display.HTML object>"
      ]
     },
     "metadata": {},
     "output_type": "display_data"
    },
    {
     "data": {
      "text/html": [
       "\n",
       "        <div id=\"8b5vygKG2qm9bcfMfxJSLd\"></div>\n",
       "        <script>netpixi.call('8b5vygKG2qm9bcfMfxJSLd', 'kMevSyjrf3B8vGoFZ2Jz4A', 'changeGraph', 'eyJpZCI6IDM0LCAidHlwZSI6ICJ2ZXJ0ZXgiLCAicHJvcHMiOiB7ImNvbG9yIjogMTY3MTE2ODB9fQo=');</script>\n",
       "    "
      ],
      "text/plain": [
       "<IPython.core.display.HTML object>"
      ]
     },
     "metadata": {},
     "output_type": "display_data"
    },
    {
     "data": {
      "text/html": [
       "\n",
       "        <div id=\"4wTzXPzwx47TSKdtSdPbVk\"></div>\n",
       "        <script>netpixi.call('4wTzXPzwx47TSKdtSdPbVk', 'kMevSyjrf3B8vGoFZ2Jz4A', 'changeGraph', 'eyJpZCI6IDM1LCAidHlwZSI6ICJ2ZXJ0ZXgiLCAicHJvcHMiOiB7ImNvbG9yIjogMTY3MTE2ODB9fQo=');</script>\n",
       "    "
      ],
      "text/plain": [
       "<IPython.core.display.HTML object>"
      ]
     },
     "metadata": {},
     "output_type": "display_data"
    },
    {
     "data": {
      "text/html": [
       "\n",
       "        <div id=\"Ec9g4ZiV2eZfYkKf6rdSy3\"></div>\n",
       "        <script>netpixi.call('Ec9g4ZiV2eZfYkKf6rdSy3', 'kMevSyjrf3B8vGoFZ2Jz4A', 'changeGraph', 'eyJpZCI6IDM2LCAidHlwZSI6ICJ2ZXJ0ZXgiLCAicHJvcHMiOiB7ImNvbG9yIjogNjUyODB9fQo=');</script>\n",
       "    "
      ],
      "text/plain": [
       "<IPython.core.display.HTML object>"
      ]
     },
     "metadata": {},
     "output_type": "display_data"
    },
    {
     "data": {
      "text/html": [
       "\n",
       "        <div id=\"XWnUhRRjLXa5fFT5rYkvsp\"></div>\n",
       "        <script>netpixi.call('XWnUhRRjLXa5fFT5rYkvsp', 'kMevSyjrf3B8vGoFZ2Jz4A', 'changeGraph', 'eyJpZCI6IDM3LCAidHlwZSI6ICJ2ZXJ0ZXgiLCAicHJvcHMiOiB7ImNvbG9yIjogMTY3MTE2ODB9fQo=');</script>\n",
       "    "
      ],
      "text/plain": [
       "<IPython.core.display.HTML object>"
      ]
     },
     "metadata": {},
     "output_type": "display_data"
    },
    {
     "data": {
      "text/html": [
       "\n",
       "        <div id=\"CFYArZFNJrqk6mJMnkmGkA\"></div>\n",
       "        <script>netpixi.call('CFYArZFNJrqk6mJMnkmGkA', 'kMevSyjrf3B8vGoFZ2Jz4A', 'changeGraph', 'eyJpZCI6IDM4LCAidHlwZSI6ICJ2ZXJ0ZXgiLCAicHJvcHMiOiB7ImNvbG9yIjogMTY3MTE2ODB9fQo=');</script>\n",
       "    "
      ],
      "text/plain": [
       "<IPython.core.display.HTML object>"
      ]
     },
     "metadata": {},
     "output_type": "display_data"
    },
    {
     "data": {
      "text/html": [
       "\n",
       "        <div id=\"GsNaVUzgr2ypvP4ruN9oYZ\"></div>\n",
       "        <script>netpixi.call('GsNaVUzgr2ypvP4ruN9oYZ', 'kMevSyjrf3B8vGoFZ2Jz4A', 'changeGraph', 'eyJpZCI6IDM5LCAidHlwZSI6ICJ2ZXJ0ZXgiLCAicHJvcHMiOiB7ImNvbG9yIjogNjUyODB9fQo=');</script>\n",
       "    "
      ],
      "text/plain": [
       "<IPython.core.display.HTML object>"
      ]
     },
     "metadata": {},
     "output_type": "display_data"
    },
    {
     "data": {
      "text/html": [
       "\n",
       "        <div id=\"iLWjRdLfiZ7skHy52sxEQa\"></div>\n",
       "        <script>netpixi.call('iLWjRdLfiZ7skHy52sxEQa', 'kMevSyjrf3B8vGoFZ2Jz4A', 'changeGraph', 'eyJpZCI6IDQwLCAidHlwZSI6ICJ2ZXJ0ZXgiLCAicHJvcHMiOiB7ImNvbG9yIjogNjUyODB9fQo=');</script>\n",
       "    "
      ],
      "text/plain": [
       "<IPython.core.display.HTML object>"
      ]
     },
     "metadata": {},
     "output_type": "display_data"
    },
    {
     "data": {
      "text/html": [
       "\n",
       "        <div id=\"5tmFaaiCn8PuuWoRtbFPJL\"></div>\n",
       "        <script>netpixi.call('5tmFaaiCn8PuuWoRtbFPJL', 'kMevSyjrf3B8vGoFZ2Jz4A', 'changeGraph', 'eyJpZCI6IDQxLCAidHlwZSI6ICJ2ZXJ0ZXgiLCAicHJvcHMiOiB7ImNvbG9yIjogNjUyODB9fQo=');</script>\n",
       "    "
      ],
      "text/plain": [
       "<IPython.core.display.HTML object>"
      ]
     },
     "metadata": {},
     "output_type": "display_data"
    },
    {
     "data": {
      "text/html": [
       "\n",
       "        <div id=\"ScUwQcELUqoxqaL2cozee4\"></div>\n",
       "        <script>netpixi.call('ScUwQcELUqoxqaL2cozee4', 'kMevSyjrf3B8vGoFZ2Jz4A', 'changeGraph', 'eyJpZCI6IDQyLCAidHlwZSI6ICJ2ZXJ0ZXgiLCAicHJvcHMiOiB7ImNvbG9yIjogMTY3MTE2ODB9fQo=');</script>\n",
       "    "
      ],
      "text/plain": [
       "<IPython.core.display.HTML object>"
      ]
     },
     "metadata": {},
     "output_type": "display_data"
    },
    {
     "data": {
      "text/html": [
       "\n",
       "        <div id=\"h4H6pXRXLsiobSQJvW2PR5\"></div>\n",
       "        <script>netpixi.call('h4H6pXRXLsiobSQJvW2PR5', 'kMevSyjrf3B8vGoFZ2Jz4A', 'changeGraph', 'eyJpZCI6IDQzLCAidHlwZSI6ICJ2ZXJ0ZXgiLCAicHJvcHMiOiB7ImNvbG9yIjogNjUyODB9fQo=');</script>\n",
       "    "
      ],
      "text/plain": [
       "<IPython.core.display.HTML object>"
      ]
     },
     "metadata": {},
     "output_type": "display_data"
    },
    {
     "data": {
      "text/html": [
       "\n",
       "        <div id=\"4Fu2Z3rVnVxrVU3L7Xsai6\"></div>\n",
       "        <script>netpixi.call('4Fu2Z3rVnVxrVU3L7Xsai6', 'kMevSyjrf3B8vGoFZ2Jz4A', 'changeGraph', 'eyJpZCI6IDQ0LCAidHlwZSI6ICJ2ZXJ0ZXgiLCAicHJvcHMiOiB7ImNvbG9yIjogNjUyODB9fQo=');</script>\n",
       "    "
      ],
      "text/plain": [
       "<IPython.core.display.HTML object>"
      ]
     },
     "metadata": {},
     "output_type": "display_data"
    },
    {
     "data": {
      "text/html": [
       "\n",
       "        <div id=\"EBXnZszmDz9AfQaVUyZPzV\"></div>\n",
       "        <script>netpixi.call('EBXnZszmDz9AfQaVUyZPzV', 'kMevSyjrf3B8vGoFZ2Jz4A', 'changeGraph', 'eyJpZCI6IDQ1LCAidHlwZSI6ICJ2ZXJ0ZXgiLCAicHJvcHMiOiB7ImNvbG9yIjogMTY3MTE2ODB9fQo=');</script>\n",
       "    "
      ],
      "text/plain": [
       "<IPython.core.display.HTML object>"
      ]
     },
     "metadata": {},
     "output_type": "display_data"
    },
    {
     "data": {
      "text/html": [
       "\n",
       "        <div id=\"3xymCqdygFV7aWkKaoUd7e\"></div>\n",
       "        <script>netpixi.call('3xymCqdygFV7aWkKaoUd7e', 'kMevSyjrf3B8vGoFZ2Jz4A', 'changeGraph', 'eyJpZCI6IDQ2LCAidHlwZSI6ICJ2ZXJ0ZXgiLCAicHJvcHMiOiB7ImNvbG9yIjogMTY3MTE2ODB9fQo=');</script>\n",
       "    "
      ],
      "text/plain": [
       "<IPython.core.display.HTML object>"
      ]
     },
     "metadata": {},
     "output_type": "display_data"
    },
    {
     "data": {
      "text/html": [
       "\n",
       "        <div id=\"CLeBkKqkgm3dqh6tD3DJbu\"></div>\n",
       "        <script>netpixi.call('CLeBkKqkgm3dqh6tD3DJbu', 'kMevSyjrf3B8vGoFZ2Jz4A', 'changeGraph', 'eyJpZCI6IDQ3LCAidHlwZSI6ICJ2ZXJ0ZXgiLCAicHJvcHMiOiB7ImNvbG9yIjogMTY3MTE2ODB9fQo=');</script>\n",
       "    "
      ],
      "text/plain": [
       "<IPython.core.display.HTML object>"
      ]
     },
     "metadata": {},
     "output_type": "display_data"
    },
    {
     "data": {
      "text/html": [
       "\n",
       "        <div id=\"Cc536c4genDrAi3qf2cdHL\"></div>\n",
       "        <script>netpixi.call('Cc536c4genDrAi3qf2cdHL', 'kMevSyjrf3B8vGoFZ2Jz4A', 'changeGraph', 'eyJpZCI6IDQ4LCAidHlwZSI6ICJ2ZXJ0ZXgiLCAicHJvcHMiOiB7ImNvbG9yIjogNjUyODB9fQo=');</script>\n",
       "    "
      ],
      "text/plain": [
       "<IPython.core.display.HTML object>"
      ]
     },
     "metadata": {},
     "output_type": "display_data"
    },
    {
     "data": {
      "text/html": [
       "\n",
       "        <div id=\"Gr74WtL74cTUVHhY58rcDv\"></div>\n",
       "        <script>netpixi.call('Gr74WtL74cTUVHhY58rcDv', 'kMevSyjrf3B8vGoFZ2Jz4A', 'changeGraph', 'eyJpZCI6IDQ5LCAidHlwZSI6ICJ2ZXJ0ZXgiLCAicHJvcHMiOiB7ImNvbG9yIjogMTY3MTE2ODB9fQo=');</script>\n",
       "    "
      ],
      "text/plain": [
       "<IPython.core.display.HTML object>"
      ]
     },
     "metadata": {},
     "output_type": "display_data"
    },
    {
     "data": {
      "text/html": [
       "\n",
       "        <div id=\"2cfTgSb9JWr2rHdSCG6X5n\"></div>\n",
       "        <script>netpixi.call('2cfTgSb9JWr2rHdSCG6X5n', 'kMevSyjrf3B8vGoFZ2Jz4A', 'changeGraph', 'eyJpZCI6IDUwLCAidHlwZSI6ICJ2ZXJ0ZXgiLCAicHJvcHMiOiB7ImNvbG9yIjogNjUyODB9fQo=');</script>\n",
       "    "
      ],
      "text/plain": [
       "<IPython.core.display.HTML object>"
      ]
     },
     "metadata": {},
     "output_type": "display_data"
    },
    {
     "data": {
      "text/html": [
       "\n",
       "        <div id=\"haMfakxr47jQ9BY2sEEtGm\"></div>\n",
       "        <script>netpixi.call('haMfakxr47jQ9BY2sEEtGm', 'kMevSyjrf3B8vGoFZ2Jz4A', 'changeGraph', 'eyJpZCI6IDUxLCAidHlwZSI6ICJ2ZXJ0ZXgiLCAicHJvcHMiOiB7ImNvbG9yIjogMTY3MTE2ODB9fQo=');</script>\n",
       "    "
      ],
      "text/plain": [
       "<IPython.core.display.HTML object>"
      ]
     },
     "metadata": {},
     "output_type": "display_data"
    },
    {
     "data": {
      "text/html": [
       "\n",
       "        <div id=\"gNqFj8UhL2pHZBCdzAcJU9\"></div>\n",
       "        <script>netpixi.call('gNqFj8UhL2pHZBCdzAcJU9', 'kMevSyjrf3B8vGoFZ2Jz4A', 'changeGraph', 'eyJpZCI6IDUyLCAidHlwZSI6ICJ2ZXJ0ZXgiLCAicHJvcHMiOiB7ImNvbG9yIjogNjUyODB9fQo=');</script>\n",
       "    "
      ],
      "text/plain": [
       "<IPython.core.display.HTML object>"
      ]
     },
     "metadata": {},
     "output_type": "display_data"
    },
    {
     "data": {
      "text/html": [
       "\n",
       "        <div id=\"VhzgdY2rLhmvBoUo6sqR6i\"></div>\n",
       "        <script>netpixi.call('VhzgdY2rLhmvBoUo6sqR6i', 'kMevSyjrf3B8vGoFZ2Jz4A', 'changeGraph', 'eyJpZCI6IDUzLCAidHlwZSI6ICJ2ZXJ0ZXgiLCAicHJvcHMiOiB7ImNvbG9yIjogMTY3MTE2ODB9fQo=');</script>\n",
       "    "
      ],
      "text/plain": [
       "<IPython.core.display.HTML object>"
      ]
     },
     "metadata": {},
     "output_type": "display_data"
    },
    {
     "data": {
      "text/html": [
       "\n",
       "        <div id=\"JxzzU7THM7bxAaVxHSEw7a\"></div>\n",
       "        <script>netpixi.call('JxzzU7THM7bxAaVxHSEw7a', 'kMevSyjrf3B8vGoFZ2Jz4A', 'changeGraph', 'eyJpZCI6IDU0LCAidHlwZSI6ICJ2ZXJ0ZXgiLCAicHJvcHMiOiB7ImNvbG9yIjogMTY3MTE2ODB9fQo=');</script>\n",
       "    "
      ],
      "text/plain": [
       "<IPython.core.display.HTML object>"
      ]
     },
     "metadata": {},
     "output_type": "display_data"
    },
    {
     "data": {
      "text/html": [
       "\n",
       "        <div id=\"Uhcgq6Jas7WHPk6QD7y4zo\"></div>\n",
       "        <script>netpixi.call('Uhcgq6Jas7WHPk6QD7y4zo', 'kMevSyjrf3B8vGoFZ2Jz4A', 'changeGraph', 'eyJpZCI6IDU1LCAidHlwZSI6ICJ2ZXJ0ZXgiLCAicHJvcHMiOiB7ImNvbG9yIjogNjUyODB9fQo=');</script>\n",
       "    "
      ],
      "text/plain": [
       "<IPython.core.display.HTML object>"
      ]
     },
     "metadata": {},
     "output_type": "display_data"
    },
    {
     "data": {
      "text/html": [
       "\n",
       "        <div id=\"c6kLSiPQp6akKYQSLkwPMj\"></div>\n",
       "        <script>netpixi.call('c6kLSiPQp6akKYQSLkwPMj', 'kMevSyjrf3B8vGoFZ2Jz4A', 'changeGraph', 'eyJpZCI6IDU2LCAidHlwZSI6ICJ2ZXJ0ZXgiLCAicHJvcHMiOiB7ImNvbG9yIjogNjUyODB9fQo=');</script>\n",
       "    "
      ],
      "text/plain": [
       "<IPython.core.display.HTML object>"
      ]
     },
     "metadata": {},
     "output_type": "display_data"
    },
    {
     "data": {
      "text/html": [
       "\n",
       "        <div id=\"fS678VFnSoBBGANv8Y8fzi\"></div>\n",
       "        <script>netpixi.call('fS678VFnSoBBGANv8Y8fzi', 'kMevSyjrf3B8vGoFZ2Jz4A', 'changeGraph', 'eyJpZCI6IDU3LCAidHlwZSI6ICJ2ZXJ0ZXgiLCAicHJvcHMiOiB7ImNvbG9yIjogNjUyODB9fQo=');</script>\n",
       "    "
      ],
      "text/plain": [
       "<IPython.core.display.HTML object>"
      ]
     },
     "metadata": {},
     "output_type": "display_data"
    },
    {
     "data": {
      "text/html": [
       "\n",
       "        <div id=\"MJGbpsDvfNa8zg9pKKD4uV\"></div>\n",
       "        <script>netpixi.call('MJGbpsDvfNa8zg9pKKD4uV', 'kMevSyjrf3B8vGoFZ2Jz4A', 'changeGraph', 'eyJpZCI6IDU4LCAidHlwZSI6ICJ2ZXJ0ZXgiLCAicHJvcHMiOiB7ImNvbG9yIjogMTY3MTE2ODB9fQo=');</script>\n",
       "    "
      ],
      "text/plain": [
       "<IPython.core.display.HTML object>"
      ]
     },
     "metadata": {},
     "output_type": "display_data"
    },
    {
     "data": {
      "text/html": [
       "\n",
       "        <div id=\"dBD82dxTR5e3R6tbHwWx4Q\"></div>\n",
       "        <script>netpixi.call('dBD82dxTR5e3R6tbHwWx4Q', 'kMevSyjrf3B8vGoFZ2Jz4A', 'changeGraph', 'eyJpZCI6IDU5LCAidHlwZSI6ICJ2ZXJ0ZXgiLCAicHJvcHMiOiB7ImNvbG9yIjogNjUyODB9fQo=');</script>\n",
       "    "
      ],
      "text/plain": [
       "<IPython.core.display.HTML object>"
      ]
     },
     "metadata": {},
     "output_type": "display_data"
    },
    {
     "data": {
      "text/html": [
       "\n",
       "        <div id=\"e7G5KMdGK4mUE6MEWQHeRx\"></div>\n",
       "        <script>netpixi.call('e7G5KMdGK4mUE6MEWQHeRx', 'kMevSyjrf3B8vGoFZ2Jz4A', 'changeGraph', 'eyJpZCI6IDYwLCAidHlwZSI6ICJ2ZXJ0ZXgiLCAicHJvcHMiOiB7ImNvbG9yIjogNjUyODB9fQo=');</script>\n",
       "    "
      ],
      "text/plain": [
       "<IPython.core.display.HTML object>"
      ]
     },
     "metadata": {},
     "output_type": "display_data"
    },
    {
     "data": {
      "text/html": [
       "\n",
       "        <div id=\"8cArwFRYeQ2q4p3sQMtyRz\"></div>\n",
       "        <script>netpixi.call('8cArwFRYeQ2q4p3sQMtyRz', 'kMevSyjrf3B8vGoFZ2Jz4A', 'changeGraph', 'eyJpZCI6IDYxLCAidHlwZSI6ICJ2ZXJ0ZXgiLCAicHJvcHMiOiB7ImNvbG9yIjogMTY3MTE2ODB9fQo=');</script>\n",
       "    "
      ],
      "text/plain": [
       "<IPython.core.display.HTML object>"
      ]
     },
     "metadata": {},
     "output_type": "display_data"
    },
    {
     "data": {
      "text/html": [
       "\n",
       "        <div id=\"kSZZnwGugzyxPYbMWiPiPs\"></div>\n",
       "        <script>netpixi.call('kSZZnwGugzyxPYbMWiPiPs', 'kMevSyjrf3B8vGoFZ2Jz4A', 'changeGraph', 'eyJpZCI6IDYyLCAidHlwZSI6ICJ2ZXJ0ZXgiLCAicHJvcHMiOiB7ImNvbG9yIjogMTY3MTE2ODB9fQo=');</script>\n",
       "    "
      ],
      "text/plain": [
       "<IPython.core.display.HTML object>"
      ]
     },
     "metadata": {},
     "output_type": "display_data"
    },
    {
     "data": {
      "text/html": [
       "\n",
       "        <div id=\"PeRuptgMkhkc3EMPfQigJs\"></div>\n",
       "        <script>netpixi.call('PeRuptgMkhkc3EMPfQigJs', 'kMevSyjrf3B8vGoFZ2Jz4A', 'changeGraph', 'eyJpZCI6IDYzLCAidHlwZSI6ICJ2ZXJ0ZXgiLCAicHJvcHMiOiB7ImNvbG9yIjogNjUyODB9fQo=');</script>\n",
       "    "
      ],
      "text/plain": [
       "<IPython.core.display.HTML object>"
      ]
     },
     "metadata": {},
     "output_type": "display_data"
    },
    {
     "data": {
      "text/html": [
       "\n",
       "        <div id=\"EKEvAqEnWz4M4TsRjLVvaK\"></div>\n",
       "        <script>netpixi.call('EKEvAqEnWz4M4TsRjLVvaK', 'kMevSyjrf3B8vGoFZ2Jz4A', 'changeGraph', 'eyJpZCI6IDY0LCAidHlwZSI6ICJ2ZXJ0ZXgiLCAicHJvcHMiOiB7ImNvbG9yIjogMTY3MTE2ODB9fQo=');</script>\n",
       "    "
      ],
      "text/plain": [
       "<IPython.core.display.HTML object>"
      ]
     },
     "metadata": {},
     "output_type": "display_data"
    },
    {
     "data": {
      "text/html": [
       "\n",
       "        <div id=\"QK9agtHmwRVuViHRdDucaa\"></div>\n",
       "        <script>netpixi.call('QK9agtHmwRVuViHRdDucaa', 'kMevSyjrf3B8vGoFZ2Jz4A', 'changeGraph', 'eyJpZCI6IDY1LCAidHlwZSI6ICJ2ZXJ0ZXgiLCAicHJvcHMiOiB7ImNvbG9yIjogMTY3MTE2ODB9fQo=');</script>\n",
       "    "
      ],
      "text/plain": [
       "<IPython.core.display.HTML object>"
      ]
     },
     "metadata": {},
     "output_type": "display_data"
    },
    {
     "data": {
      "text/html": [
       "\n",
       "        <div id=\"NaM3LXcAexZom5mBGTThM3\"></div>\n",
       "        <script>netpixi.call('NaM3LXcAexZom5mBGTThM3', 'kMevSyjrf3B8vGoFZ2Jz4A', 'changeGraph', 'eyJpZCI6IDY2LCAidHlwZSI6ICJ2ZXJ0ZXgiLCAicHJvcHMiOiB7ImNvbG9yIjogNjUyODB9fQo=');</script>\n",
       "    "
      ],
      "text/plain": [
       "<IPython.core.display.HTML object>"
      ]
     },
     "metadata": {},
     "output_type": "display_data"
    },
    {
     "data": {
      "text/html": [
       "\n",
       "        <div id=\"S3jCKP2brkWCwKzUudnVh7\"></div>\n",
       "        <script>netpixi.call('S3jCKP2brkWCwKzUudnVh7', 'kMevSyjrf3B8vGoFZ2Jz4A', 'changeGraph', 'eyJpZCI6IDY3LCAidHlwZSI6ICJ2ZXJ0ZXgiLCAicHJvcHMiOiB7ImNvbG9yIjogMTY3MTE2ODB9fQo=');</script>\n",
       "    "
      ],
      "text/plain": [
       "<IPython.core.display.HTML object>"
      ]
     },
     "metadata": {},
     "output_type": "display_data"
    },
    {
     "data": {
      "text/html": [
       "\n",
       "        <div id=\"2fMNZmxvz9hqCpHU3USZTc\"></div>\n",
       "        <script>netpixi.call('2fMNZmxvz9hqCpHU3USZTc', 'kMevSyjrf3B8vGoFZ2Jz4A', 'changeGraph', 'eyJpZCI6IDY4LCAidHlwZSI6ICJ2ZXJ0ZXgiLCAicHJvcHMiOiB7ImNvbG9yIjogNjUyODB9fQo=');</script>\n",
       "    "
      ],
      "text/plain": [
       "<IPython.core.display.HTML object>"
      ]
     },
     "metadata": {},
     "output_type": "display_data"
    },
    {
     "data": {
      "text/html": [
       "\n",
       "        <div id=\"bxri6cvB8tRQy8yWzYgCnf\"></div>\n",
       "        <script>netpixi.call('bxri6cvB8tRQy8yWzYgCnf', 'kMevSyjrf3B8vGoFZ2Jz4A', 'changeGraph', 'eyJpZCI6IDY5LCAidHlwZSI6ICJ2ZXJ0ZXgiLCAicHJvcHMiOiB7ImNvbG9yIjogNjUyODB9fQo=');</script>\n",
       "    "
      ],
      "text/plain": [
       "<IPython.core.display.HTML object>"
      ]
     },
     "metadata": {},
     "output_type": "display_data"
    },
    {
     "data": {
      "text/html": [
       "\n",
       "        <div id=\"buTWg8FQX3pvBoX2Qs5QEp\"></div>\n",
       "        <script>netpixi.call('buTWg8FQX3pvBoX2Qs5QEp', 'kMevSyjrf3B8vGoFZ2Jz4A', 'changeGraph', 'eyJpZCI6IDcwLCAidHlwZSI6ICJ2ZXJ0ZXgiLCAicHJvcHMiOiB7ImNvbG9yIjogNjUyODB9fQo=');</script>\n",
       "    "
      ],
      "text/plain": [
       "<IPython.core.display.HTML object>"
      ]
     },
     "metadata": {},
     "output_type": "display_data"
    },
    {
     "data": {
      "text/html": [
       "\n",
       "        <div id=\"TwhUojysQiw8WfEu3pUPZN\"></div>\n",
       "        <script>netpixi.call('TwhUojysQiw8WfEu3pUPZN', 'kMevSyjrf3B8vGoFZ2Jz4A', 'changeGraph', 'eyJpZCI6IDcxLCAidHlwZSI6ICJ2ZXJ0ZXgiLCAicHJvcHMiOiB7ImNvbG9yIjogMTY3MTE2ODB9fQo=');</script>\n",
       "    "
      ],
      "text/plain": [
       "<IPython.core.display.HTML object>"
      ]
     },
     "metadata": {},
     "output_type": "display_data"
    },
    {
     "data": {
      "text/html": [
       "\n",
       "        <div id=\"Y3RbwbBRRyfqaMz7ycb9YN\"></div>\n",
       "        <script>netpixi.call('Y3RbwbBRRyfqaMz7ycb9YN', 'kMevSyjrf3B8vGoFZ2Jz4A', 'changeGraph', 'eyJpZCI6IDcyLCAidHlwZSI6ICJ2ZXJ0ZXgiLCAicHJvcHMiOiB7ImNvbG9yIjogMTY3MTE2ODB9fQo=');</script>\n",
       "    "
      ],
      "text/plain": [
       "<IPython.core.display.HTML object>"
      ]
     },
     "metadata": {},
     "output_type": "display_data"
    },
    {
     "data": {
      "text/html": [
       "\n",
       "        <div id=\"LrXBe7SugmAfvWDVF4uWdb\"></div>\n",
       "        <script>netpixi.call('LrXBe7SugmAfvWDVF4uWdb', 'kMevSyjrf3B8vGoFZ2Jz4A', 'changeGraph', 'eyJpZCI6IDczLCAidHlwZSI6ICJ2ZXJ0ZXgiLCAicHJvcHMiOiB7ImNvbG9yIjogMTY3MTE2ODB9fQo=');</script>\n",
       "    "
      ],
      "text/plain": [
       "<IPython.core.display.HTML object>"
      ]
     },
     "metadata": {},
     "output_type": "display_data"
    },
    {
     "data": {
      "text/html": [
       "\n",
       "        <div id=\"XSWV2Eadx6XeRoLiCo7Z8Q\"></div>\n",
       "        <script>netpixi.call('XSWV2Eadx6XeRoLiCo7Z8Q', 'kMevSyjrf3B8vGoFZ2Jz4A', 'changeGraph', 'eyJpZCI6IDc0LCAidHlwZSI6ICJ2ZXJ0ZXgiLCAicHJvcHMiOiB7ImNvbG9yIjogNjUyODB9fQo=');</script>\n",
       "    "
      ],
      "text/plain": [
       "<IPython.core.display.HTML object>"
      ]
     },
     "metadata": {},
     "output_type": "display_data"
    },
    {
     "data": {
      "text/html": [
       "\n",
       "        <div id=\"kwSwDXAfzUt5mWaJJGoVv9\"></div>\n",
       "        <script>netpixi.call('kwSwDXAfzUt5mWaJJGoVv9', 'kMevSyjrf3B8vGoFZ2Jz4A', 'changeGraph', 'eyJpZCI6IDc1LCAidHlwZSI6ICJ2ZXJ0ZXgiLCAicHJvcHMiOiB7ImNvbG9yIjogMTY3MTE2ODB9fQo=');</script>\n",
       "    "
      ],
      "text/plain": [
       "<IPython.core.display.HTML object>"
      ]
     },
     "metadata": {},
     "output_type": "display_data"
    },
    {
     "data": {
      "text/html": [
       "\n",
       "        <div id=\"hevTJkQEcCgvvcwxvhtae4\"></div>\n",
       "        <script>netpixi.call('hevTJkQEcCgvvcwxvhtae4', 'kMevSyjrf3B8vGoFZ2Jz4A', 'changeGraph', 'eyJpZCI6IDc2LCAidHlwZSI6ICJ2ZXJ0ZXgiLCAicHJvcHMiOiB7ImNvbG9yIjogMTY3MTE2ODB9fQo=');</script>\n",
       "    "
      ],
      "text/plain": [
       "<IPython.core.display.HTML object>"
      ]
     },
     "metadata": {},
     "output_type": "display_data"
    },
    {
     "data": {
      "text/html": [
       "\n",
       "        <div id=\"UjFNbiNMwutcCcWWAhsdAW\"></div>\n",
       "        <script>netpixi.call('UjFNbiNMwutcCcWWAhsdAW', 'kMevSyjrf3B8vGoFZ2Jz4A', 'changeGraph', 'eyJpZCI6IDc3LCAidHlwZSI6ICJ2ZXJ0ZXgiLCAicHJvcHMiOiB7ImNvbG9yIjogMTY3MTE2ODB9fQo=');</script>\n",
       "    "
      ],
      "text/plain": [
       "<IPython.core.display.HTML object>"
      ]
     },
     "metadata": {},
     "output_type": "display_data"
    },
    {
     "data": {
      "text/html": [
       "\n",
       "        <div id=\"SJkK4TypAdx2PeJghPVKJt\"></div>\n",
       "        <script>netpixi.call('SJkK4TypAdx2PeJghPVKJt', 'kMevSyjrf3B8vGoFZ2Jz4A', 'changeGraph', 'eyJpZCI6IDc4LCAidHlwZSI6ICJ2ZXJ0ZXgiLCAicHJvcHMiOiB7ImNvbG9yIjogNjUyODB9fQo=');</script>\n",
       "    "
      ],
      "text/plain": [
       "<IPython.core.display.HTML object>"
      ]
     },
     "metadata": {},
     "output_type": "display_data"
    },
    {
     "data": {
      "text/html": [
       "\n",
       "        <div id=\"JkLLMea9UifqfxFtNLffTY\"></div>\n",
       "        <script>netpixi.call('JkLLMea9UifqfxFtNLffTY', 'kMevSyjrf3B8vGoFZ2Jz4A', 'changeGraph', 'eyJpZCI6IDc5LCAidHlwZSI6ICJ2ZXJ0ZXgiLCAicHJvcHMiOiB7ImNvbG9yIjogMTY3MTE2ODB9fQo=');</script>\n",
       "    "
      ],
      "text/plain": [
       "<IPython.core.display.HTML object>"
      ]
     },
     "metadata": {},
     "output_type": "display_data"
    },
    {
     "data": {
      "text/html": [
       "\n",
       "        <div id=\"ewxXjGc8VRrZSe9R2ivYdA\"></div>\n",
       "        <script>netpixi.call('ewxXjGc8VRrZSe9R2ivYdA', 'kMevSyjrf3B8vGoFZ2Jz4A', 'changeGraph', 'eyJpZCI6IDgwLCAidHlwZSI6ICJ2ZXJ0ZXgiLCAicHJvcHMiOiB7ImNvbG9yIjogMTY3MTE2ODB9fQo=');</script>\n",
       "    "
      ],
      "text/plain": [
       "<IPython.core.display.HTML object>"
      ]
     },
     "metadata": {},
     "output_type": "display_data"
    },
    {
     "data": {
      "text/html": [
       "\n",
       "        <div id=\"3jjRocacwoegBLQRFu34UP\"></div>\n",
       "        <script>netpixi.call('3jjRocacwoegBLQRFu34UP', 'kMevSyjrf3B8vGoFZ2Jz4A', 'changeGraph', 'eyJpZCI6IDgxLCAidHlwZSI6ICJ2ZXJ0ZXgiLCAicHJvcHMiOiB7ImNvbG9yIjogNjUyODB9fQo=');</script>\n",
       "    "
      ],
      "text/plain": [
       "<IPython.core.display.HTML object>"
      ]
     },
     "metadata": {},
     "output_type": "display_data"
    },
    {
     "data": {
      "text/html": [
       "\n",
       "        <div id=\"9UfEgw9LhmfzE5DCK3pBnM\"></div>\n",
       "        <script>netpixi.call('9UfEgw9LhmfzE5DCK3pBnM', 'kMevSyjrf3B8vGoFZ2Jz4A', 'changeGraph', 'eyJpZCI6IDgyLCAidHlwZSI6ICJ2ZXJ0ZXgiLCAicHJvcHMiOiB7ImNvbG9yIjogMTY3MTE2ODB9fQo=');</script>\n",
       "    "
      ],
      "text/plain": [
       "<IPython.core.display.HTML object>"
      ]
     },
     "metadata": {},
     "output_type": "display_data"
    },
    {
     "data": {
      "text/html": [
       "\n",
       "        <div id=\"XSsSBxCnrMsZWxtqeRPqgk\"></div>\n",
       "        <script>netpixi.call('XSsSBxCnrMsZWxtqeRPqgk', 'kMevSyjrf3B8vGoFZ2Jz4A', 'changeGraph', 'eyJpZCI6IDgzLCAidHlwZSI6ICJ2ZXJ0ZXgiLCAicHJvcHMiOiB7ImNvbG9yIjogNjUyODB9fQo=');</script>\n",
       "    "
      ],
      "text/plain": [
       "<IPython.core.display.HTML object>"
      ]
     },
     "metadata": {},
     "output_type": "display_data"
    },
    {
     "data": {
      "text/html": [
       "\n",
       "        <div id=\"Lp7BfMEUFRMMCSe5FgA8LA\"></div>\n",
       "        <script>netpixi.call('Lp7BfMEUFRMMCSe5FgA8LA', 'kMevSyjrf3B8vGoFZ2Jz4A', 'changeGraph', 'eyJpZCI6IDg0LCAidHlwZSI6ICJ2ZXJ0ZXgiLCAicHJvcHMiOiB7ImNvbG9yIjogNjUyODB9fQo=');</script>\n",
       "    "
      ],
      "text/plain": [
       "<IPython.core.display.HTML object>"
      ]
     },
     "metadata": {},
     "output_type": "display_data"
    },
    {
     "data": {
      "text/html": [
       "\n",
       "        <div id=\"ETRqss9N2UANkJoQQ34wDY\"></div>\n",
       "        <script>netpixi.call('ETRqss9N2UANkJoQQ34wDY', 'kMevSyjrf3B8vGoFZ2Jz4A', 'changeGraph', 'eyJpZCI6IDg1LCAidHlwZSI6ICJ2ZXJ0ZXgiLCAicHJvcHMiOiB7ImNvbG9yIjogMTY3MTE2ODB9fQo=');</script>\n",
       "    "
      ],
      "text/plain": [
       "<IPython.core.display.HTML object>"
      ]
     },
     "metadata": {},
     "output_type": "display_data"
    },
    {
     "data": {
      "text/html": [
       "\n",
       "        <div id=\"Rr4B2cAkDccT2Zi8sVvLUc\"></div>\n",
       "        <script>netpixi.call('Rr4B2cAkDccT2Zi8sVvLUc', 'kMevSyjrf3B8vGoFZ2Jz4A', 'changeGraph', 'eyJpZCI6IDg2LCAidHlwZSI6ICJ2ZXJ0ZXgiLCAicHJvcHMiOiB7ImNvbG9yIjogNjUyODB9fQo=');</script>\n",
       "    "
      ],
      "text/plain": [
       "<IPython.core.display.HTML object>"
      ]
     },
     "metadata": {},
     "output_type": "display_data"
    },
    {
     "data": {
      "text/html": [
       "\n",
       "        <div id=\"o67cxq3aJQPuqWmob4pg4w\"></div>\n",
       "        <script>netpixi.call('o67cxq3aJQPuqWmob4pg4w', 'kMevSyjrf3B8vGoFZ2Jz4A', 'changeGraph', 'eyJpZCI6IDg3LCAidHlwZSI6ICJ2ZXJ0ZXgiLCAicHJvcHMiOiB7ImNvbG9yIjogMTY3MTE2ODB9fQo=');</script>\n",
       "    "
      ],
      "text/plain": [
       "<IPython.core.display.HTML object>"
      ]
     },
     "metadata": {},
     "output_type": "display_data"
    },
    {
     "data": {
      "text/html": [
       "\n",
       "        <div id=\"i7JCdMaTjGJq4VWw9PZtgy\"></div>\n",
       "        <script>netpixi.call('i7JCdMaTjGJq4VWw9PZtgy', 'kMevSyjrf3B8vGoFZ2Jz4A', 'changeGraph', 'eyJpZCI6IDg4LCAidHlwZSI6ICJ2ZXJ0ZXgiLCAicHJvcHMiOiB7ImNvbG9yIjogMTY3MTE2ODB9fQo=');</script>\n",
       "    "
      ],
      "text/plain": [
       "<IPython.core.display.HTML object>"
      ]
     },
     "metadata": {},
     "output_type": "display_data"
    },
    {
     "data": {
      "text/html": [
       "\n",
       "        <div id=\"PmfxDWw5cBY48WYggQhpWd\"></div>\n",
       "        <script>netpixi.call('PmfxDWw5cBY48WYggQhpWd', 'kMevSyjrf3B8vGoFZ2Jz4A', 'changeGraph', 'eyJpZCI6IDg5LCAidHlwZSI6ICJ2ZXJ0ZXgiLCAicHJvcHMiOiB7ImNvbG9yIjogMTY3MTE2ODB9fQo=');</script>\n",
       "    "
      ],
      "text/plain": [
       "<IPython.core.display.HTML object>"
      ]
     },
     "metadata": {},
     "output_type": "display_data"
    },
    {
     "data": {
      "text/html": [
       "\n",
       "        <div id=\"cPxArVU5kFnMyo9zbvsxTD\"></div>\n",
       "        <script>netpixi.call('cPxArVU5kFnMyo9zbvsxTD', 'kMevSyjrf3B8vGoFZ2Jz4A', 'changeGraph', 'eyJpZCI6IDkwLCAidHlwZSI6ICJ2ZXJ0ZXgiLCAicHJvcHMiOiB7ImNvbG9yIjogMTY3MTE2ODB9fQo=');</script>\n",
       "    "
      ],
      "text/plain": [
       "<IPython.core.display.HTML object>"
      ]
     },
     "metadata": {},
     "output_type": "display_data"
    },
    {
     "data": {
      "text/html": [
       "\n",
       "        <div id=\"NkrbGApThQLzSVN2nEawqk\"></div>\n",
       "        <script>netpixi.call('NkrbGApThQLzSVN2nEawqk', 'kMevSyjrf3B8vGoFZ2Jz4A', 'changeGraph', 'eyJpZCI6IDkxLCAidHlwZSI6ICJ2ZXJ0ZXgiLCAicHJvcHMiOiB7ImNvbG9yIjogNjUyODB9fQo=');</script>\n",
       "    "
      ],
      "text/plain": [
       "<IPython.core.display.HTML object>"
      ]
     },
     "metadata": {},
     "output_type": "display_data"
    },
    {
     "data": {
      "text/html": [
       "\n",
       "        <div id=\"dGRDSoKRwCfhzUky6epa9V\"></div>\n",
       "        <script>netpixi.call('dGRDSoKRwCfhzUky6epa9V', 'kMevSyjrf3B8vGoFZ2Jz4A', 'changeGraph', 'eyJpZCI6IDkyLCAidHlwZSI6ICJ2ZXJ0ZXgiLCAicHJvcHMiOiB7ImNvbG9yIjogNjUyODB9fQo=');</script>\n",
       "    "
      ],
      "text/plain": [
       "<IPython.core.display.HTML object>"
      ]
     },
     "metadata": {},
     "output_type": "display_data"
    },
    {
     "data": {
      "text/html": [
       "\n",
       "        <div id=\"gGdvWzjmXNehAwLGYKGt4C\"></div>\n",
       "        <script>netpixi.call('gGdvWzjmXNehAwLGYKGt4C', 'kMevSyjrf3B8vGoFZ2Jz4A', 'changeGraph', 'eyJpZCI6IDkzLCAidHlwZSI6ICJ2ZXJ0ZXgiLCAicHJvcHMiOiB7ImNvbG9yIjogNjUyODB9fQo=');</script>\n",
       "    "
      ],
      "text/plain": [
       "<IPython.core.display.HTML object>"
      ]
     },
     "metadata": {},
     "output_type": "display_data"
    },
    {
     "data": {
      "text/html": [
       "\n",
       "        <div id=\"aL6rkkHmVrcTtroNJygbSy\"></div>\n",
       "        <script>netpixi.call('aL6rkkHmVrcTtroNJygbSy', 'kMevSyjrf3B8vGoFZ2Jz4A', 'changeGraph', 'eyJpZCI6IDk0LCAidHlwZSI6ICJ2ZXJ0ZXgiLCAicHJvcHMiOiB7ImNvbG9yIjogMTY3MTE2ODB9fQo=');</script>\n",
       "    "
      ],
      "text/plain": [
       "<IPython.core.display.HTML object>"
      ]
     },
     "metadata": {},
     "output_type": "display_data"
    },
    {
     "data": {
      "text/html": [
       "\n",
       "        <div id=\"P7XosTVmsu6wnFexJAqgS3\"></div>\n",
       "        <script>netpixi.call('P7XosTVmsu6wnFexJAqgS3', 'kMevSyjrf3B8vGoFZ2Jz4A', 'changeGraph', 'eyJpZCI6IDk1LCAidHlwZSI6ICJ2ZXJ0ZXgiLCAicHJvcHMiOiB7ImNvbG9yIjogNjUyODB9fQo=');</script>\n",
       "    "
      ],
      "text/plain": [
       "<IPython.core.display.HTML object>"
      ]
     },
     "metadata": {},
     "output_type": "display_data"
    },
    {
     "data": {
      "text/html": [
       "\n",
       "        <div id=\"ZQqudZxRwBAuop2YEZQXNX\"></div>\n",
       "        <script>netpixi.call('ZQqudZxRwBAuop2YEZQXNX', 'kMevSyjrf3B8vGoFZ2Jz4A', 'changeGraph', 'eyJpZCI6IDk2LCAidHlwZSI6ICJ2ZXJ0ZXgiLCAicHJvcHMiOiB7ImNvbG9yIjogMTY3MTE2ODB9fQo=');</script>\n",
       "    "
      ],
      "text/plain": [
       "<IPython.core.display.HTML object>"
      ]
     },
     "metadata": {},
     "output_type": "display_data"
    },
    {
     "data": {
      "text/html": [
       "\n",
       "        <div id=\"i7ND6LtR8gwjxeBSt33nw2\"></div>\n",
       "        <script>netpixi.call('i7ND6LtR8gwjxeBSt33nw2', 'kMevSyjrf3B8vGoFZ2Jz4A', 'changeGraph', 'eyJpZCI6IDk3LCAidHlwZSI6ICJ2ZXJ0ZXgiLCAicHJvcHMiOiB7ImNvbG9yIjogNjUyODB9fQo=');</script>\n",
       "    "
      ],
      "text/plain": [
       "<IPython.core.display.HTML object>"
      ]
     },
     "metadata": {},
     "output_type": "display_data"
    },
    {
     "data": {
      "text/html": [
       "\n",
       "        <div id=\"FbKjtoQQ3dKj7pzB4QTNsA\"></div>\n",
       "        <script>netpixi.call('FbKjtoQQ3dKj7pzB4QTNsA', 'kMevSyjrf3B8vGoFZ2Jz4A', 'changeGraph', 'eyJpZCI6IDk4LCAidHlwZSI6ICJ2ZXJ0ZXgiLCAicHJvcHMiOiB7ImNvbG9yIjogNjUyODB9fQo=');</script>\n",
       "    "
      ],
      "text/plain": [
       "<IPython.core.display.HTML object>"
      ]
     },
     "metadata": {},
     "output_type": "display_data"
    },
    {
     "data": {
      "text/html": [
       "\n",
       "        <div id=\"Wem28c9pbxq7p8ZyEf83VC\"></div>\n",
       "        <script>netpixi.call('Wem28c9pbxq7p8ZyEf83VC', 'kMevSyjrf3B8vGoFZ2Jz4A', 'changeGraph', 'eyJpZCI6IDk5LCAidHlwZSI6ICJ2ZXJ0ZXgiLCAicHJvcHMiOiB7ImNvbG9yIjogNjUyODB9fQo=');</script>\n",
       "    "
      ],
      "text/plain": [
       "<IPython.core.display.HTML object>"
      ]
     },
     "metadata": {},
     "output_type": "display_data"
    },
    {
     "data": {
      "text/html": [
       "\n",
       "        <div id=\"RKBxx65HfQiBCZg85U7PjB\"></div>\n",
       "        <script>netpixi.call('RKBxx65HfQiBCZg85U7PjB', 'kMevSyjrf3B8vGoFZ2Jz4A', 'changeGraph', 'eyJpZCI6IDEwMCwgInR5cGUiOiAidmVydGV4IiwgInByb3BzIjogeyJjb2xvciI6IDE2NzExNjgwfX0K');</script>\n",
       "    "
      ],
      "text/plain": [
       "<IPython.core.display.HTML object>"
      ]
     },
     "metadata": {},
     "output_type": "display_data"
    },
    {
     "data": {
      "text/html": [
       "\n",
       "        <div id=\"8d8LWnyzvgryZzEHc7Bk6o\"></div>\n",
       "        <script>netpixi.call('8d8LWnyzvgryZzEHc7Bk6o', 'kMevSyjrf3B8vGoFZ2Jz4A', 'changeGraph', 'eyJpZCI6IDEwMSwgInR5cGUiOiAidmVydGV4IiwgInByb3BzIjogeyJjb2xvciI6IDY1MjgwfX0K');</script>\n",
       "    "
      ],
      "text/plain": [
       "<IPython.core.display.HTML object>"
      ]
     },
     "metadata": {},
     "output_type": "display_data"
    },
    {
     "data": {
      "text/html": [
       "\n",
       "        <div id=\"oMQMsruWZ2zn3SFp99F6Mx\"></div>\n",
       "        <script>netpixi.call('oMQMsruWZ2zn3SFp99F6Mx', 'kMevSyjrf3B8vGoFZ2Jz4A', 'changeGraph', 'eyJpZCI6IDEwMiwgInR5cGUiOiAidmVydGV4IiwgInByb3BzIjogeyJjb2xvciI6IDY1MjgwfX0K');</script>\n",
       "    "
      ],
      "text/plain": [
       "<IPython.core.display.HTML object>"
      ]
     },
     "metadata": {},
     "output_type": "display_data"
    },
    {
     "data": {
      "text/html": [
       "\n",
       "        <div id=\"hHeMo8xhVP3DTk8n9LRYtG\"></div>\n",
       "        <script>netpixi.call('hHeMo8xhVP3DTk8n9LRYtG', 'kMevSyjrf3B8vGoFZ2Jz4A', 'changeGraph', 'eyJpZCI6IDEwMywgInR5cGUiOiAidmVydGV4IiwgInByb3BzIjogeyJjb2xvciI6IDE2NzExNjgwfX0K');</script>\n",
       "    "
      ],
      "text/plain": [
       "<IPython.core.display.HTML object>"
      ]
     },
     "metadata": {},
     "output_type": "display_data"
    },
    {
     "data": {
      "text/html": [
       "\n",
       "        <div id=\"h9rJc39nWykqciE3W8YYKr\"></div>\n",
       "        <script>netpixi.call('h9rJc39nWykqciE3W8YYKr', 'kMevSyjrf3B8vGoFZ2Jz4A', 'changeGraph', 'eyJpZCI6IDEwNCwgInR5cGUiOiAidmVydGV4IiwgInByb3BzIjogeyJjb2xvciI6IDE2NzExNjgwfX0K');</script>\n",
       "    "
      ],
      "text/plain": [
       "<IPython.core.display.HTML object>"
      ]
     },
     "metadata": {},
     "output_type": "display_data"
    },
    {
     "data": {
      "text/html": [
       "\n",
       "        <div id=\"aob4KMR5uanWpdWwhzB6Gp\"></div>\n",
       "        <script>netpixi.call('aob4KMR5uanWpdWwhzB6Gp', 'kMevSyjrf3B8vGoFZ2Jz4A', 'changeGraph', 'eyJpZCI6IDEwNSwgInR5cGUiOiAidmVydGV4IiwgInByb3BzIjogeyJjb2xvciI6IDE2NzExNjgwfX0K');</script>\n",
       "    "
      ],
      "text/plain": [
       "<IPython.core.display.HTML object>"
      ]
     },
     "metadata": {},
     "output_type": "display_data"
    },
    {
     "data": {
      "text/html": [
       "\n",
       "        <div id=\"aFDm873JxuqEXYtmDmMhBH\"></div>\n",
       "        <script>netpixi.call('aFDm873JxuqEXYtmDmMhBH', 'kMevSyjrf3B8vGoFZ2Jz4A', 'changeGraph', 'eyJpZCI6IDEwNiwgInR5cGUiOiAidmVydGV4IiwgInByb3BzIjogeyJjb2xvciI6IDE2NzExNjgwfX0K');</script>\n",
       "    "
      ],
      "text/plain": [
       "<IPython.core.display.HTML object>"
      ]
     },
     "metadata": {},
     "output_type": "display_data"
    },
    {
     "data": {
      "text/html": [
       "\n",
       "        <div id=\"8Ty279947j7VPsunVuUZ4e\"></div>\n",
       "        <script>netpixi.call('8Ty279947j7VPsunVuUZ4e', 'kMevSyjrf3B8vGoFZ2Jz4A', 'changeGraph', 'eyJpZCI6IDEwNywgInR5cGUiOiAidmVydGV4IiwgInByb3BzIjogeyJjb2xvciI6IDE2NzExNjgwfX0K');</script>\n",
       "    "
      ],
      "text/plain": [
       "<IPython.core.display.HTML object>"
      ]
     },
     "metadata": {},
     "output_type": "display_data"
    },
    {
     "data": {
      "text/html": [
       "\n",
       "        <div id=\"Mg5emDinUwc8d3ey2P2Pz3\"></div>\n",
       "        <script>netpixi.call('Mg5emDinUwc8d3ey2P2Pz3', 'kMevSyjrf3B8vGoFZ2Jz4A', 'changeGraph', 'eyJpZCI6IDEwOCwgInR5cGUiOiAidmVydGV4IiwgInByb3BzIjogeyJjb2xvciI6IDY1MjgwfX0K');</script>\n",
       "    "
      ],
      "text/plain": [
       "<IPython.core.display.HTML object>"
      ]
     },
     "metadata": {},
     "output_type": "display_data"
    },
    {
     "data": {
      "text/html": [
       "\n",
       "        <div id=\"RCdzRcspmjTjRALhZQDMHg\"></div>\n",
       "        <script>netpixi.call('RCdzRcspmjTjRALhZQDMHg', 'kMevSyjrf3B8vGoFZ2Jz4A', 'changeGraph', 'eyJpZCI6IDEwOSwgInR5cGUiOiAidmVydGV4IiwgInByb3BzIjogeyJjb2xvciI6IDE2NzExNjgwfX0K');</script>\n",
       "    "
      ],
      "text/plain": [
       "<IPython.core.display.HTML object>"
      ]
     },
     "metadata": {},
     "output_type": "display_data"
    },
    {
     "data": {
      "text/html": [
       "\n",
       "        <div id=\"kfbbQvAUtoQH7FQUtgRVu5\"></div>\n",
       "        <script>netpixi.call('kfbbQvAUtoQH7FQUtgRVu5', 'kMevSyjrf3B8vGoFZ2Jz4A', 'changeGraph', 'eyJpZCI6IDExMCwgInR5cGUiOiAidmVydGV4IiwgInByb3BzIjogeyJjb2xvciI6IDE2NzExNjgwfX0K');</script>\n",
       "    "
      ],
      "text/plain": [
       "<IPython.core.display.HTML object>"
      ]
     },
     "metadata": {},
     "output_type": "display_data"
    },
    {
     "data": {
      "text/html": [
       "\n",
       "        <div id=\"5wxHcavp79AmpHEzFuqguw\"></div>\n",
       "        <script>netpixi.call('5wxHcavp79AmpHEzFuqguw', 'kMevSyjrf3B8vGoFZ2Jz4A', 'changeGraph', 'eyJpZCI6IDExMSwgInR5cGUiOiAidmVydGV4IiwgInByb3BzIjogeyJjb2xvciI6IDE2NzExNjgwfX0K');</script>\n",
       "    "
      ],
      "text/plain": [
       "<IPython.core.display.HTML object>"
      ]
     },
     "metadata": {},
     "output_type": "display_data"
    },
    {
     "data": {
      "text/html": [
       "\n",
       "        <div id=\"HNoUjZBfs2azKyKActuCiP\"></div>\n",
       "        <script>netpixi.call('HNoUjZBfs2azKyKActuCiP', 'kMevSyjrf3B8vGoFZ2Jz4A', 'changeGraph', 'eyJpZCI6IDExMiwgInR5cGUiOiAidmVydGV4IiwgInByb3BzIjogeyJjb2xvciI6IDE2NzExNjgwfX0K');</script>\n",
       "    "
      ],
      "text/plain": [
       "<IPython.core.display.HTML object>"
      ]
     },
     "metadata": {},
     "output_type": "display_data"
    },
    {
     "data": {
      "text/html": [
       "\n",
       "        <div id=\"ZhKGZmdbL6hwBHRSuaUXSF\"></div>\n",
       "        <script>netpixi.call('ZhKGZmdbL6hwBHRSuaUXSF', 'kMevSyjrf3B8vGoFZ2Jz4A', 'changeGraph', 'eyJpZCI6IDExMywgInR5cGUiOiAidmVydGV4IiwgInByb3BzIjogeyJjb2xvciI6IDE2NzExNjgwfX0K');</script>\n",
       "    "
      ],
      "text/plain": [
       "<IPython.core.display.HTML object>"
      ]
     },
     "metadata": {},
     "output_type": "display_data"
    },
    {
     "data": {
      "text/html": [
       "\n",
       "        <div id=\"5CrG82gcNXLBX9y8nYfgSD\"></div>\n",
       "        <script>netpixi.call('5CrG82gcNXLBX9y8nYfgSD', 'kMevSyjrf3B8vGoFZ2Jz4A', 'changeGraph', 'eyJpZCI6IDExNCwgInR5cGUiOiAidmVydGV4IiwgInByb3BzIjogeyJjb2xvciI6IDE2NzExNjgwfX0K');</script>\n",
       "    "
      ],
      "text/plain": [
       "<IPython.core.display.HTML object>"
      ]
     },
     "metadata": {},
     "output_type": "display_data"
    },
    {
     "data": {
      "text/html": [
       "\n",
       "        <div id=\"YXU6jF7mwxLkKtKZsJmLhw\"></div>\n",
       "        <script>netpixi.call('YXU6jF7mwxLkKtKZsJmLhw', 'kMevSyjrf3B8vGoFZ2Jz4A', 'changeGraph', 'eyJpZCI6IDExNSwgInR5cGUiOiAidmVydGV4IiwgInByb3BzIjogeyJjb2xvciI6IDE2NzExNjgwfX0K');</script>\n",
       "    "
      ],
      "text/plain": [
       "<IPython.core.display.HTML object>"
      ]
     },
     "metadata": {},
     "output_type": "display_data"
    },
    {
     "data": {
      "text/html": [
       "\n",
       "        <div id=\"XLSfi7NffsiHpStahqktjf\"></div>\n",
       "        <script>netpixi.call('XLSfi7NffsiHpStahqktjf', 'kMevSyjrf3B8vGoFZ2Jz4A', 'changeGraph', 'eyJpZCI6IDExNiwgInR5cGUiOiAidmVydGV4IiwgInByb3BzIjogeyJjb2xvciI6IDE2NzExNjgwfX0K');</script>\n",
       "    "
      ],
      "text/plain": [
       "<IPython.core.display.HTML object>"
      ]
     },
     "metadata": {},
     "output_type": "display_data"
    },
    {
     "data": {
      "text/html": [
       "\n",
       "        <div id=\"FgKheN2kcdFFxgg5tNHmJq\"></div>\n",
       "        <script>netpixi.call('FgKheN2kcdFFxgg5tNHmJq', 'kMevSyjrf3B8vGoFZ2Jz4A', 'changeGraph', 'eyJpZCI6IDExNywgInR5cGUiOiAidmVydGV4IiwgInByb3BzIjogeyJjb2xvciI6IDY1MjgwfX0K');</script>\n",
       "    "
      ],
      "text/plain": [
       "<IPython.core.display.HTML object>"
      ]
     },
     "metadata": {},
     "output_type": "display_data"
    },
    {
     "data": {
      "text/html": [
       "\n",
       "        <div id=\"nmSarydRVgXEmi2xcqtXWr\"></div>\n",
       "        <script>netpixi.call('nmSarydRVgXEmi2xcqtXWr', 'kMevSyjrf3B8vGoFZ2Jz4A', 'changeGraph', 'eyJpZCI6IDExOCwgInR5cGUiOiAidmVydGV4IiwgInByb3BzIjogeyJjb2xvciI6IDE2NzExNjgwfX0K');</script>\n",
       "    "
      ],
      "text/plain": [
       "<IPython.core.display.HTML object>"
      ]
     },
     "metadata": {},
     "output_type": "display_data"
    },
    {
     "data": {
      "text/html": [
       "\n",
       "        <div id=\"XT9Kq5zhN9HEyAAnuKvtGe\"></div>\n",
       "        <script>netpixi.call('XT9Kq5zhN9HEyAAnuKvtGe', 'kMevSyjrf3B8vGoFZ2Jz4A', 'changeGraph', 'eyJpZCI6IDExOSwgInR5cGUiOiAidmVydGV4IiwgInByb3BzIjogeyJjb2xvciI6IDY1MjgwfX0K');</script>\n",
       "    "
      ],
      "text/plain": [
       "<IPython.core.display.HTML object>"
      ]
     },
     "metadata": {},
     "output_type": "display_data"
    },
    {
     "data": {
      "text/html": [
       "\n",
       "        <div id=\"VZZFuKEMCag9Z3WPNgtcV5\"></div>\n",
       "        <script>netpixi.call('VZZFuKEMCag9Z3WPNgtcV5', 'kMevSyjrf3B8vGoFZ2Jz4A', 'changeGraph', 'eyJpZCI6IDEyMCwgInR5cGUiOiAidmVydGV4IiwgInByb3BzIjogeyJjb2xvciI6IDY1MjgwfX0K');</script>\n",
       "    "
      ],
      "text/plain": [
       "<IPython.core.display.HTML object>"
      ]
     },
     "metadata": {},
     "output_type": "display_data"
    },
    {
     "data": {
      "text/html": [
       "\n",
       "        <div id=\"BsPrSvNandqbtHN3T96GdT\"></div>\n",
       "        <script>netpixi.call('BsPrSvNandqbtHN3T96GdT', 'kMevSyjrf3B8vGoFZ2Jz4A', 'changeGraph', 'eyJpZCI6IDEyMSwgInR5cGUiOiAidmVydGV4IiwgInByb3BzIjogeyJjb2xvciI6IDE2NzExNjgwfX0K');</script>\n",
       "    "
      ],
      "text/plain": [
       "<IPython.core.display.HTML object>"
      ]
     },
     "metadata": {},
     "output_type": "display_data"
    },
    {
     "data": {
      "text/html": [
       "\n",
       "        <div id=\"RfrWbb8owYXNBj2s5Dkev4\"></div>\n",
       "        <script>netpixi.call('RfrWbb8owYXNBj2s5Dkev4', 'kMevSyjrf3B8vGoFZ2Jz4A', 'changeGraph', 'eyJpZCI6IDEyMiwgInR5cGUiOiAidmVydGV4IiwgInByb3BzIjogeyJjb2xvciI6IDY1MjgwfX0K');</script>\n",
       "    "
      ],
      "text/plain": [
       "<IPython.core.display.HTML object>"
      ]
     },
     "metadata": {},
     "output_type": "display_data"
    },
    {
     "data": {
      "text/html": [
       "\n",
       "        <div id=\"QqUkrezTZSZYXE2F3ZDhHx\"></div>\n",
       "        <script>netpixi.call('QqUkrezTZSZYXE2F3ZDhHx', 'kMevSyjrf3B8vGoFZ2Jz4A', 'changeGraph', 'eyJpZCI6IDEyMywgInR5cGUiOiAidmVydGV4IiwgInByb3BzIjogeyJjb2xvciI6IDY1MjgwfX0K');</script>\n",
       "    "
      ],
      "text/plain": [
       "<IPython.core.display.HTML object>"
      ]
     },
     "metadata": {},
     "output_type": "display_data"
    },
    {
     "data": {
      "text/html": [
       "\n",
       "        <div id=\"JBytwWqM6UmhttyHHKerpM\"></div>\n",
       "        <script>netpixi.call('JBytwWqM6UmhttyHHKerpM', 'kMevSyjrf3B8vGoFZ2Jz4A', 'changeGraph', 'eyJpZCI6IDEyNCwgInR5cGUiOiAidmVydGV4IiwgInByb3BzIjogeyJjb2xvciI6IDE2NzExNjgwfX0K');</script>\n",
       "    "
      ],
      "text/plain": [
       "<IPython.core.display.HTML object>"
      ]
     },
     "metadata": {},
     "output_type": "display_data"
    },
    {
     "data": {
      "text/html": [
       "\n",
       "        <div id=\"AmVxzmMgnTRq2HptmTu3Hj\"></div>\n",
       "        <script>netpixi.call('AmVxzmMgnTRq2HptmTu3Hj', 'kMevSyjrf3B8vGoFZ2Jz4A', 'changeGraph', 'eyJpZCI6IDEyNSwgInR5cGUiOiAidmVydGV4IiwgInByb3BzIjogeyJjb2xvciI6IDY1MjgwfX0K');</script>\n",
       "    "
      ],
      "text/plain": [
       "<IPython.core.display.HTML object>"
      ]
     },
     "metadata": {},
     "output_type": "display_data"
    },
    {
     "data": {
      "text/html": [
       "\n",
       "        <div id=\"Rdxy6kiCYeqWAHnhabo3fN\"></div>\n",
       "        <script>netpixi.call('Rdxy6kiCYeqWAHnhabo3fN', 'kMevSyjrf3B8vGoFZ2Jz4A', 'changeGraph', 'eyJpZCI6IDEyNiwgInR5cGUiOiAidmVydGV4IiwgInByb3BzIjogeyJjb2xvciI6IDE2NzExNjgwfX0K');</script>\n",
       "    "
      ],
      "text/plain": [
       "<IPython.core.display.HTML object>"
      ]
     },
     "metadata": {},
     "output_type": "display_data"
    },
    {
     "data": {
      "text/html": [
       "\n",
       "        <div id=\"9iijXQLMoLkZpkDWW4BT5b\"></div>\n",
       "        <script>netpixi.call('9iijXQLMoLkZpkDWW4BT5b', 'kMevSyjrf3B8vGoFZ2Jz4A', 'changeGraph', 'eyJpZCI6IDEyNywgInR5cGUiOiAidmVydGV4IiwgInByb3BzIjogeyJjb2xvciI6IDY1MjgwfX0K');</script>\n",
       "    "
      ],
      "text/plain": [
       "<IPython.core.display.HTML object>"
      ]
     },
     "metadata": {},
     "output_type": "display_data"
    },
    {
     "data": {
      "text/html": [
       "\n",
       "        <div id=\"afxjRv9Py2VEbZBqqNNPaj\"></div>\n",
       "        <script>netpixi.call('afxjRv9Py2VEbZBqqNNPaj', 'kMevSyjrf3B8vGoFZ2Jz4A', 'changeGraph', 'eyJpZCI6IDEyOCwgInR5cGUiOiAidmVydGV4IiwgInByb3BzIjogeyJjb2xvciI6IDE2NzExNjgwfX0K');</script>\n",
       "    "
      ],
      "text/plain": [
       "<IPython.core.display.HTML object>"
      ]
     },
     "metadata": {},
     "output_type": "display_data"
    },
    {
     "data": {
      "text/html": [
       "\n",
       "        <div id=\"HhVHHVWntxoLXjfrxji9zM\"></div>\n",
       "        <script>netpixi.call('HhVHHVWntxoLXjfrxji9zM', 'kMevSyjrf3B8vGoFZ2Jz4A', 'changeGraph', 'eyJpZCI6IDEyOSwgInR5cGUiOiAidmVydGV4IiwgInByb3BzIjogeyJjb2xvciI6IDE2NzExNjgwfX0K');</script>\n",
       "    "
      ],
      "text/plain": [
       "<IPython.core.display.HTML object>"
      ]
     },
     "metadata": {},
     "output_type": "display_data"
    },
    {
     "data": {
      "text/html": [
       "\n",
       "        <div id=\"KSgNwmWC7YpAA2VZUuheF6\"></div>\n",
       "        <script>netpixi.call('KSgNwmWC7YpAA2VZUuheF6', 'kMevSyjrf3B8vGoFZ2Jz4A', 'changeGraph', 'eyJpZCI6IDEzMCwgInR5cGUiOiAidmVydGV4IiwgInByb3BzIjogeyJjb2xvciI6IDY1MjgwfX0K');</script>\n",
       "    "
      ],
      "text/plain": [
       "<IPython.core.display.HTML object>"
      ]
     },
     "metadata": {},
     "output_type": "display_data"
    },
    {
     "data": {
      "text/html": [
       "\n",
       "        <div id=\"j8aswkATZTFjMHzsR66Qen\"></div>\n",
       "        <script>netpixi.call('j8aswkATZTFjMHzsR66Qen', 'kMevSyjrf3B8vGoFZ2Jz4A', 'changeGraph', 'eyJpZCI6IDEzMSwgInR5cGUiOiAidmVydGV4IiwgInByb3BzIjogeyJjb2xvciI6IDE2NzExNjgwfX0K');</script>\n",
       "    "
      ],
      "text/plain": [
       "<IPython.core.display.HTML object>"
      ]
     },
     "metadata": {},
     "output_type": "display_data"
    },
    {
     "data": {
      "text/html": [
       "\n",
       "        <div id=\"4qCauQYMbkecE6Dy4qbqN6\"></div>\n",
       "        <script>netpixi.call('4qCauQYMbkecE6Dy4qbqN6', 'kMevSyjrf3B8vGoFZ2Jz4A', 'changeGraph', 'eyJpZCI6IDEzMiwgInR5cGUiOiAidmVydGV4IiwgInByb3BzIjogeyJjb2xvciI6IDE2NzExNjgwfX0K');</script>\n",
       "    "
      ],
      "text/plain": [
       "<IPython.core.display.HTML object>"
      ]
     },
     "metadata": {},
     "output_type": "display_data"
    },
    {
     "data": {
      "text/html": [
       "\n",
       "        <div id=\"AbZbKNmhs4BehvjvoaX8eM\"></div>\n",
       "        <script>netpixi.call('AbZbKNmhs4BehvjvoaX8eM', 'kMevSyjrf3B8vGoFZ2Jz4A', 'changeGraph', 'eyJpZCI6IDEzMywgInR5cGUiOiAidmVydGV4IiwgInByb3BzIjogeyJjb2xvciI6IDE2NzExNjgwfX0K');</script>\n",
       "    "
      ],
      "text/plain": [
       "<IPython.core.display.HTML object>"
      ]
     },
     "metadata": {},
     "output_type": "display_data"
    },
    {
     "data": {
      "text/html": [
       "\n",
       "        <div id=\"e7Kou8XZHp46qJSt6Qkfwg\"></div>\n",
       "        <script>netpixi.call('e7Kou8XZHp46qJSt6Qkfwg', 'kMevSyjrf3B8vGoFZ2Jz4A', 'changeGraph', 'eyJpZCI6IDEzNCwgInR5cGUiOiAidmVydGV4IiwgInByb3BzIjogeyJjb2xvciI6IDE2NzExNjgwfX0K');</script>\n",
       "    "
      ],
      "text/plain": [
       "<IPython.core.display.HTML object>"
      ]
     },
     "metadata": {},
     "output_type": "display_data"
    },
    {
     "data": {
      "text/html": [
       "\n",
       "        <div id=\"hRSZfbcpy5Bdheq7fcbd2Y\"></div>\n",
       "        <script>netpixi.call('hRSZfbcpy5Bdheq7fcbd2Y', 'kMevSyjrf3B8vGoFZ2Jz4A', 'changeGraph', 'eyJpZCI6IDEzNSwgInR5cGUiOiAidmVydGV4IiwgInByb3BzIjogeyJjb2xvciI6IDE2NzExNjgwfX0K');</script>\n",
       "    "
      ],
      "text/plain": [
       "<IPython.core.display.HTML object>"
      ]
     },
     "metadata": {},
     "output_type": "display_data"
    },
    {
     "data": {
      "text/html": [
       "\n",
       "        <div id=\"iSGhH4ixtTGCjUoi8kARGG\"></div>\n",
       "        <script>netpixi.call('iSGhH4ixtTGCjUoi8kARGG', 'kMevSyjrf3B8vGoFZ2Jz4A', 'changeGraph', 'eyJpZCI6IDEzNiwgInR5cGUiOiAidmVydGV4IiwgInByb3BzIjogeyJjb2xvciI6IDE2NzExNjgwfX0K');</script>\n",
       "    "
      ],
      "text/plain": [
       "<IPython.core.display.HTML object>"
      ]
     },
     "metadata": {},
     "output_type": "display_data"
    },
    {
     "data": {
      "text/html": [
       "\n",
       "        <div id=\"e2E4bNRCa4syoFUEon3tCx\"></div>\n",
       "        <script>netpixi.call('e2E4bNRCa4syoFUEon3tCx', 'kMevSyjrf3B8vGoFZ2Jz4A', 'changeGraph', 'eyJpZCI6IDEzNywgInR5cGUiOiAidmVydGV4IiwgInByb3BzIjogeyJjb2xvciI6IDY1MjgwfX0K');</script>\n",
       "    "
      ],
      "text/plain": [
       "<IPython.core.display.HTML object>"
      ]
     },
     "metadata": {},
     "output_type": "display_data"
    },
    {
     "data": {
      "text/html": [
       "\n",
       "        <div id=\"Azdf75asJ5jmLW6nLRS5C8\"></div>\n",
       "        <script>netpixi.call('Azdf75asJ5jmLW6nLRS5C8', 'kMevSyjrf3B8vGoFZ2Jz4A', 'changeGraph', 'eyJpZCI6IDEzOCwgInR5cGUiOiAidmVydGV4IiwgInByb3BzIjogeyJjb2xvciI6IDE2NzExNjgwfX0K');</script>\n",
       "    "
      ],
      "text/plain": [
       "<IPython.core.display.HTML object>"
      ]
     },
     "metadata": {},
     "output_type": "display_data"
    },
    {
     "data": {
      "text/html": [
       "\n",
       "        <div id=\"bor8XDRDN3pUHtQHB3HWtM\"></div>\n",
       "        <script>netpixi.call('bor8XDRDN3pUHtQHB3HWtM', 'kMevSyjrf3B8vGoFZ2Jz4A', 'changeGraph', 'eyJpZCI6IDEzOSwgInR5cGUiOiAidmVydGV4IiwgInByb3BzIjogeyJjb2xvciI6IDE2NzExNjgwfX0K');</script>\n",
       "    "
      ],
      "text/plain": [
       "<IPython.core.display.HTML object>"
      ]
     },
     "metadata": {},
     "output_type": "display_data"
    },
    {
     "data": {
      "text/html": [
       "\n",
       "        <div id=\"VnmYJZwgwFcWRUGf9BLkcj\"></div>\n",
       "        <script>netpixi.call('VnmYJZwgwFcWRUGf9BLkcj', 'kMevSyjrf3B8vGoFZ2Jz4A', 'changeGraph', 'eyJpZCI6IDE0MCwgInR5cGUiOiAidmVydGV4IiwgInByb3BzIjogeyJjb2xvciI6IDY1MjgwfX0K');</script>\n",
       "    "
      ],
      "text/plain": [
       "<IPython.core.display.HTML object>"
      ]
     },
     "metadata": {},
     "output_type": "display_data"
    },
    {
     "data": {
      "text/html": [
       "\n",
       "        <div id=\"YcnhDvJvY3obuLtpSGz3Lt\"></div>\n",
       "        <script>netpixi.call('YcnhDvJvY3obuLtpSGz3Lt', 'kMevSyjrf3B8vGoFZ2Jz4A', 'changeGraph', 'eyJpZCI6IDE0MSwgInR5cGUiOiAidmVydGV4IiwgInByb3BzIjogeyJjb2xvciI6IDY1MjgwfX0K');</script>\n",
       "    "
      ],
      "text/plain": [
       "<IPython.core.display.HTML object>"
      ]
     },
     "metadata": {},
     "output_type": "display_data"
    },
    {
     "data": {
      "text/html": [
       "\n",
       "        <div id=\"bEeh8hxynTLg4bUwN3uZVu\"></div>\n",
       "        <script>netpixi.call('bEeh8hxynTLg4bUwN3uZVu', 'kMevSyjrf3B8vGoFZ2Jz4A', 'changeGraph', 'eyJpZCI6IDE0MiwgInR5cGUiOiAidmVydGV4IiwgInByb3BzIjogeyJjb2xvciI6IDY1MjgwfX0K');</script>\n",
       "    "
      ],
      "text/plain": [
       "<IPython.core.display.HTML object>"
      ]
     },
     "metadata": {},
     "output_type": "display_data"
    },
    {
     "data": {
      "text/html": [
       "\n",
       "        <div id=\"kGmgbusFYdZ4usbTPgoMXu\"></div>\n",
       "        <script>netpixi.call('kGmgbusFYdZ4usbTPgoMXu', 'kMevSyjrf3B8vGoFZ2Jz4A', 'changeGraph', 'eyJpZCI6IDE0MywgInR5cGUiOiAidmVydGV4IiwgInByb3BzIjogeyJjb2xvciI6IDE2NzExNjgwfX0K');</script>\n",
       "    "
      ],
      "text/plain": [
       "<IPython.core.display.HTML object>"
      ]
     },
     "metadata": {},
     "output_type": "display_data"
    },
    {
     "data": {
      "text/html": [
       "\n",
       "        <div id=\"m6KVEtH8H8tZ7PEBZbapT8\"></div>\n",
       "        <script>netpixi.call('m6KVEtH8H8tZ7PEBZbapT8', 'kMevSyjrf3B8vGoFZ2Jz4A', 'changeGraph', 'eyJpZCI6IDE0NCwgInR5cGUiOiAidmVydGV4IiwgInByb3BzIjogeyJjb2xvciI6IDY1MjgwfX0K');</script>\n",
       "    "
      ],
      "text/plain": [
       "<IPython.core.display.HTML object>"
      ]
     },
     "metadata": {},
     "output_type": "display_data"
    },
    {
     "data": {
      "text/html": [
       "\n",
       "        <div id=\"aeLx3zNj4bU7NjNGtRcDhh\"></div>\n",
       "        <script>netpixi.call('aeLx3zNj4bU7NjNGtRcDhh', 'kMevSyjrf3B8vGoFZ2Jz4A', 'changeGraph', 'eyJpZCI6IDE0NSwgInR5cGUiOiAidmVydGV4IiwgInByb3BzIjogeyJjb2xvciI6IDE2NzExNjgwfX0K');</script>\n",
       "    "
      ],
      "text/plain": [
       "<IPython.core.display.HTML object>"
      ]
     },
     "metadata": {},
     "output_type": "display_data"
    },
    {
     "data": {
      "text/html": [
       "\n",
       "        <div id=\"c9V4PwSpH62iudKuj9TLKu\"></div>\n",
       "        <script>netpixi.call('c9V4PwSpH62iudKuj9TLKu', 'kMevSyjrf3B8vGoFZ2Jz4A', 'changeGraph', 'eyJpZCI6IDE0NiwgInR5cGUiOiAidmVydGV4IiwgInByb3BzIjogeyJjb2xvciI6IDY1MjgwfX0K');</script>\n",
       "    "
      ],
      "text/plain": [
       "<IPython.core.display.HTML object>"
      ]
     },
     "metadata": {},
     "output_type": "display_data"
    },
    {
     "data": {
      "text/html": [
       "\n",
       "        <div id=\"5qZrdu2wnqLGdAfuBRXzaB\"></div>\n",
       "        <script>netpixi.call('5qZrdu2wnqLGdAfuBRXzaB', 'kMevSyjrf3B8vGoFZ2Jz4A', 'changeGraph', 'eyJpZCI6IDE0NywgInR5cGUiOiAidmVydGV4IiwgInByb3BzIjogeyJjb2xvciI6IDY1MjgwfX0K');</script>\n",
       "    "
      ],
      "text/plain": [
       "<IPython.core.display.HTML object>"
      ]
     },
     "metadata": {},
     "output_type": "display_data"
    },
    {
     "data": {
      "text/html": [
       "\n",
       "        <div id=\"6THKaQA6dqGg5TNpyx5deu\"></div>\n",
       "        <script>netpixi.call('6THKaQA6dqGg5TNpyx5deu', 'kMevSyjrf3B8vGoFZ2Jz4A', 'changeGraph', 'eyJpZCI6IDE0OCwgInR5cGUiOiAidmVydGV4IiwgInByb3BzIjogeyJjb2xvciI6IDY1MjgwfX0K');</script>\n",
       "    "
      ],
      "text/plain": [
       "<IPython.core.display.HTML object>"
      ]
     },
     "metadata": {},
     "output_type": "display_data"
    },
    {
     "data": {
      "text/html": [
       "\n",
       "        <div id=\"8hJJHLPxLahwUCvdxwbpy3\"></div>\n",
       "        <script>netpixi.call('8hJJHLPxLahwUCvdxwbpy3', 'kMevSyjrf3B8vGoFZ2Jz4A', 'changeGraph', 'eyJpZCI6IDE0OSwgInR5cGUiOiAidmVydGV4IiwgInByb3BzIjogeyJjb2xvciI6IDE2NzExNjgwfX0K');</script>\n",
       "    "
      ],
      "text/plain": [
       "<IPython.core.display.HTML object>"
      ]
     },
     "metadata": {},
     "output_type": "display_data"
    },
    {
     "data": {
      "text/html": [
       "\n",
       "        <div id=\"CaYD8V6ywVkGWZBTpS8Kf3\"></div>\n",
       "        <script>netpixi.call('CaYD8V6ywVkGWZBTpS8Kf3', 'kMevSyjrf3B8vGoFZ2Jz4A', 'changeGraph', 'eyJpZCI6IDE1MCwgInR5cGUiOiAidmVydGV4IiwgInByb3BzIjogeyJjb2xvciI6IDE2NzExNjgwfX0K');</script>\n",
       "    "
      ],
      "text/plain": [
       "<IPython.core.display.HTML object>"
      ]
     },
     "metadata": {},
     "output_type": "display_data"
    },
    {
     "data": {
      "text/html": [
       "\n",
       "        <div id=\"EDqfuiizUmga6jgDBXQrUf\"></div>\n",
       "        <script>netpixi.call('EDqfuiizUmga6jgDBXQrUf', 'kMevSyjrf3B8vGoFZ2Jz4A', 'changeGraph', 'eyJpZCI6IDE1MSwgInR5cGUiOiAidmVydGV4IiwgInByb3BzIjogeyJjb2xvciI6IDE2NzExNjgwfX0K');</script>\n",
       "    "
      ],
      "text/plain": [
       "<IPython.core.display.HTML object>"
      ]
     },
     "metadata": {},
     "output_type": "display_data"
    },
    {
     "data": {
      "text/html": [
       "\n",
       "        <div id=\"E97KfNhMxSYuWoxaDbbbQk\"></div>\n",
       "        <script>netpixi.call('E97KfNhMxSYuWoxaDbbbQk', 'kMevSyjrf3B8vGoFZ2Jz4A', 'changeGraph', 'eyJpZCI6IDE1MiwgInR5cGUiOiAidmVydGV4IiwgInByb3BzIjogeyJjb2xvciI6IDY1MjgwfX0K');</script>\n",
       "    "
      ],
      "text/plain": [
       "<IPython.core.display.HTML object>"
      ]
     },
     "metadata": {},
     "output_type": "display_data"
    },
    {
     "data": {
      "text/html": [
       "\n",
       "        <div id=\"fGF5u8mTZr4qjtcduCvgwb\"></div>\n",
       "        <script>netpixi.call('fGF5u8mTZr4qjtcduCvgwb', 'kMevSyjrf3B8vGoFZ2Jz4A', 'changeGraph', 'eyJpZCI6IDE1MywgInR5cGUiOiAidmVydGV4IiwgInByb3BzIjogeyJjb2xvciI6IDY1MjgwfX0K');</script>\n",
       "    "
      ],
      "text/plain": [
       "<IPython.core.display.HTML object>"
      ]
     },
     "metadata": {},
     "output_type": "display_data"
    },
    {
     "data": {
      "text/html": [
       "\n",
       "        <div id=\"9G87HchEjCKSbDG6tZZXvc\"></div>\n",
       "        <script>netpixi.call('9G87HchEjCKSbDG6tZZXvc', 'kMevSyjrf3B8vGoFZ2Jz4A', 'changeGraph', 'eyJpZCI6IDE1NCwgInR5cGUiOiAidmVydGV4IiwgInByb3BzIjogeyJjb2xvciI6IDE2NzExNjgwfX0K');</script>\n",
       "    "
      ],
      "text/plain": [
       "<IPython.core.display.HTML object>"
      ]
     },
     "metadata": {},
     "output_type": "display_data"
    },
    {
     "data": {
      "text/html": [
       "\n",
       "        <div id=\"EMBtzjRgnwH2h7BqsQLWNa\"></div>\n",
       "        <script>netpixi.call('EMBtzjRgnwH2h7BqsQLWNa', 'kMevSyjrf3B8vGoFZ2Jz4A', 'changeGraph', 'eyJpZCI6IDE1NSwgInR5cGUiOiAidmVydGV4IiwgInByb3BzIjogeyJjb2xvciI6IDE2NzExNjgwfX0K');</script>\n",
       "    "
      ],
      "text/plain": [
       "<IPython.core.display.HTML object>"
      ]
     },
     "metadata": {},
     "output_type": "display_data"
    },
    {
     "data": {
      "text/html": [
       "\n",
       "        <div id=\"jwpMpGRwTKxYhpwqucmQtM\"></div>\n",
       "        <script>netpixi.call('jwpMpGRwTKxYhpwqucmQtM', 'kMevSyjrf3B8vGoFZ2Jz4A', 'changeGraph', 'eyJpZCI6IDE1NiwgInR5cGUiOiAidmVydGV4IiwgInByb3BzIjogeyJjb2xvciI6IDE2NzExNjgwfX0K');</script>\n",
       "    "
      ],
      "text/plain": [
       "<IPython.core.display.HTML object>"
      ]
     },
     "metadata": {},
     "output_type": "display_data"
    },
    {
     "data": {
      "text/html": [
       "\n",
       "        <div id=\"dFDmk7wrC8motCEhqBcNsB\"></div>\n",
       "        <script>netpixi.call('dFDmk7wrC8motCEhqBcNsB', 'kMevSyjrf3B8vGoFZ2Jz4A', 'changeGraph', 'eyJpZCI6IDE1NywgInR5cGUiOiAidmVydGV4IiwgInByb3BzIjogeyJjb2xvciI6IDY1MjgwfX0K');</script>\n",
       "    "
      ],
      "text/plain": [
       "<IPython.core.display.HTML object>"
      ]
     },
     "metadata": {},
     "output_type": "display_data"
    },
    {
     "data": {
      "text/html": [
       "\n",
       "        <div id=\"4SchmZ8T5YaQnpYZkWn9AD\"></div>\n",
       "        <script>netpixi.call('4SchmZ8T5YaQnpYZkWn9AD', 'kMevSyjrf3B8vGoFZ2Jz4A', 'changeGraph', 'eyJpZCI6IDE1OCwgInR5cGUiOiAidmVydGV4IiwgInByb3BzIjogeyJjb2xvciI6IDY1MjgwfX0K');</script>\n",
       "    "
      ],
      "text/plain": [
       "<IPython.core.display.HTML object>"
      ]
     },
     "metadata": {},
     "output_type": "display_data"
    },
    {
     "data": {
      "text/html": [
       "\n",
       "        <div id=\"UJgAnvhnR74xrWT8r74zFA\"></div>\n",
       "        <script>netpixi.call('UJgAnvhnR74xrWT8r74zFA', 'kMevSyjrf3B8vGoFZ2Jz4A', 'changeGraph', 'eyJpZCI6IDE1OSwgInR5cGUiOiAidmVydGV4IiwgInByb3BzIjogeyJjb2xvciI6IDY1MjgwfX0K');</script>\n",
       "    "
      ],
      "text/plain": [
       "<IPython.core.display.HTML object>"
      ]
     },
     "metadata": {},
     "output_type": "display_data"
    },
    {
     "data": {
      "text/html": [
       "\n",
       "        <div id=\"SUQwUzMsMS3QiEspBbEQMK\"></div>\n",
       "        <script>netpixi.call('SUQwUzMsMS3QiEspBbEQMK', 'kMevSyjrf3B8vGoFZ2Jz4A', 'changeGraph', 'eyJpZCI6IDE2MCwgInR5cGUiOiAidmVydGV4IiwgInByb3BzIjogeyJjb2xvciI6IDE2NzExNjgwfX0K');</script>\n",
       "    "
      ],
      "text/plain": [
       "<IPython.core.display.HTML object>"
      ]
     },
     "metadata": {},
     "output_type": "display_data"
    },
    {
     "data": {
      "text/html": [
       "\n",
       "        <div id=\"g5GZ3jNrbaBqNeCTayQ8Zu\"></div>\n",
       "        <script>netpixi.call('g5GZ3jNrbaBqNeCTayQ8Zu', 'kMevSyjrf3B8vGoFZ2Jz4A', 'changeGraph', 'eyJpZCI6IDE2MSwgInR5cGUiOiAidmVydGV4IiwgInByb3BzIjogeyJjb2xvciI6IDY1MjgwfX0K');</script>\n",
       "    "
      ],
      "text/plain": [
       "<IPython.core.display.HTML object>"
      ]
     },
     "metadata": {},
     "output_type": "display_data"
    },
    {
     "data": {
      "text/html": [
       "\n",
       "        <div id=\"DTxJGewVwGcWK6nJL5MNWr\"></div>\n",
       "        <script>netpixi.call('DTxJGewVwGcWK6nJL5MNWr', 'kMevSyjrf3B8vGoFZ2Jz4A', 'changeGraph', 'eyJpZCI6IDE2MiwgInR5cGUiOiAidmVydGV4IiwgInByb3BzIjogeyJjb2xvciI6IDE2NzExNjgwfX0K');</script>\n",
       "    "
      ],
      "text/plain": [
       "<IPython.core.display.HTML object>"
      ]
     },
     "metadata": {},
     "output_type": "display_data"
    },
    {
     "data": {
      "text/html": [
       "\n",
       "        <div id=\"7aoFxpM3zQLqP2TiAhkXPF\"></div>\n",
       "        <script>netpixi.call('7aoFxpM3zQLqP2TiAhkXPF', 'kMevSyjrf3B8vGoFZ2Jz4A', 'changeGraph', 'eyJpZCI6IDE2MywgInR5cGUiOiAidmVydGV4IiwgInByb3BzIjogeyJjb2xvciI6IDE2NzExNjgwfX0K');</script>\n",
       "    "
      ],
      "text/plain": [
       "<IPython.core.display.HTML object>"
      ]
     },
     "metadata": {},
     "output_type": "display_data"
    },
    {
     "data": {
      "text/html": [
       "\n",
       "        <div id=\"ThzVRN8VyrCyX5SXtbySb8\"></div>\n",
       "        <script>netpixi.call('ThzVRN8VyrCyX5SXtbySb8', 'kMevSyjrf3B8vGoFZ2Jz4A', 'changeGraph', 'eyJpZCI6IDE2NCwgInR5cGUiOiAidmVydGV4IiwgInByb3BzIjogeyJjb2xvciI6IDE2NzExNjgwfX0K');</script>\n",
       "    "
      ],
      "text/plain": [
       "<IPython.core.display.HTML object>"
      ]
     },
     "metadata": {},
     "output_type": "display_data"
    },
    {
     "data": {
      "text/html": [
       "\n",
       "        <div id=\"RqpXYnLyubUjiNzU2qjPhH\"></div>\n",
       "        <script>netpixi.call('RqpXYnLyubUjiNzU2qjPhH', 'kMevSyjrf3B8vGoFZ2Jz4A', 'changeGraph', 'eyJpZCI6IDE2NSwgInR5cGUiOiAidmVydGV4IiwgInByb3BzIjogeyJjb2xvciI6IDE2NzExNjgwfX0K');</script>\n",
       "    "
      ],
      "text/plain": [
       "<IPython.core.display.HTML object>"
      ]
     },
     "metadata": {},
     "output_type": "display_data"
    },
    {
     "data": {
      "text/html": [
       "\n",
       "        <div id=\"VrzpPWhstUR6UvAfTkEApU\"></div>\n",
       "        <script>netpixi.call('VrzpPWhstUR6UvAfTkEApU', 'kMevSyjrf3B8vGoFZ2Jz4A', 'changeGraph', 'eyJpZCI6IDE2NiwgInR5cGUiOiAidmVydGV4IiwgInByb3BzIjogeyJjb2xvciI6IDE2NzExNjgwfX0K');</script>\n",
       "    "
      ],
      "text/plain": [
       "<IPython.core.display.HTML object>"
      ]
     },
     "metadata": {},
     "output_type": "display_data"
    },
    {
     "data": {
      "text/html": [
       "\n",
       "        <div id=\"CsW8cFdccRBWX9TFUvV6sA\"></div>\n",
       "        <script>netpixi.call('CsW8cFdccRBWX9TFUvV6sA', 'kMevSyjrf3B8vGoFZ2Jz4A', 'changeGraph', 'eyJpZCI6IDE2NywgInR5cGUiOiAidmVydGV4IiwgInByb3BzIjogeyJjb2xvciI6IDE2NzExNjgwfX0K');</script>\n",
       "    "
      ],
      "text/plain": [
       "<IPython.core.display.HTML object>"
      ]
     },
     "metadata": {},
     "output_type": "display_data"
    },
    {
     "data": {
      "text/html": [
       "\n",
       "        <div id=\"XX6G3mnAEygQGA6KHQBG5W\"></div>\n",
       "        <script>netpixi.call('XX6G3mnAEygQGA6KHQBG5W', 'kMevSyjrf3B8vGoFZ2Jz4A', 'changeGraph', 'eyJpZCI6IDE2OCwgInR5cGUiOiAidmVydGV4IiwgInByb3BzIjogeyJjb2xvciI6IDY1MjgwfX0K');</script>\n",
       "    "
      ],
      "text/plain": [
       "<IPython.core.display.HTML object>"
      ]
     },
     "metadata": {},
     "output_type": "display_data"
    },
    {
     "data": {
      "text/html": [
       "\n",
       "        <div id=\"5DBMEoSfMbwCHMCPVdEJLV\"></div>\n",
       "        <script>netpixi.call('5DBMEoSfMbwCHMCPVdEJLV', 'kMevSyjrf3B8vGoFZ2Jz4A', 'changeGraph', 'eyJpZCI6IDE2OSwgInR5cGUiOiAidmVydGV4IiwgInByb3BzIjogeyJjb2xvciI6IDE2NzExNjgwfX0K');</script>\n",
       "    "
      ],
      "text/plain": [
       "<IPython.core.display.HTML object>"
      ]
     },
     "metadata": {},
     "output_type": "display_data"
    },
    {
     "data": {
      "text/html": [
       "\n",
       "        <div id=\"MHVodDrVNjte4V9H6Gpvs6\"></div>\n",
       "        <script>netpixi.call('MHVodDrVNjte4V9H6Gpvs6', 'kMevSyjrf3B8vGoFZ2Jz4A', 'changeGraph', 'eyJpZCI6IDE3MCwgInR5cGUiOiAidmVydGV4IiwgInByb3BzIjogeyJjb2xvciI6IDE2NzExNjgwfX0K');</script>\n",
       "    "
      ],
      "text/plain": [
       "<IPython.core.display.HTML object>"
      ]
     },
     "metadata": {},
     "output_type": "display_data"
    },
    {
     "data": {
      "text/html": [
       "\n",
       "        <div id=\"kcGGi2GdCoyZwmFRqzZQQn\"></div>\n",
       "        <script>netpixi.call('kcGGi2GdCoyZwmFRqzZQQn', 'kMevSyjrf3B8vGoFZ2Jz4A', 'changeGraph', 'eyJpZCI6IDE3MSwgInR5cGUiOiAidmVydGV4IiwgInByb3BzIjogeyJjb2xvciI6IDY1MjgwfX0K');</script>\n",
       "    "
      ],
      "text/plain": [
       "<IPython.core.display.HTML object>"
      ]
     },
     "metadata": {},
     "output_type": "display_data"
    },
    {
     "data": {
      "text/html": [
       "\n",
       "        <div id=\"JRAVATdEqJ2RMCQtdquxit\"></div>\n",
       "        <script>netpixi.call('JRAVATdEqJ2RMCQtdquxit', 'kMevSyjrf3B8vGoFZ2Jz4A', 'changeGraph', 'eyJpZCI6IDE3MiwgInR5cGUiOiAidmVydGV4IiwgInByb3BzIjogeyJjb2xvciI6IDY1MjgwfX0K');</script>\n",
       "    "
      ],
      "text/plain": [
       "<IPython.core.display.HTML object>"
      ]
     },
     "metadata": {},
     "output_type": "display_data"
    },
    {
     "data": {
      "text/html": [
       "\n",
       "        <div id=\"VWTohhimtAr8cPAmWiAuzC\"></div>\n",
       "        <script>netpixi.call('VWTohhimtAr8cPAmWiAuzC', 'kMevSyjrf3B8vGoFZ2Jz4A', 'changeGraph', 'eyJpZCI6IDE3MywgInR5cGUiOiAidmVydGV4IiwgInByb3BzIjogeyJjb2xvciI6IDE2NzExNjgwfX0K');</script>\n",
       "    "
      ],
      "text/plain": [
       "<IPython.core.display.HTML object>"
      ]
     },
     "metadata": {},
     "output_type": "display_data"
    },
    {
     "data": {
      "text/html": [
       "\n",
       "        <div id=\"9gvW7h8jW25MfaRygumZM2\"></div>\n",
       "        <script>netpixi.call('9gvW7h8jW25MfaRygumZM2', 'kMevSyjrf3B8vGoFZ2Jz4A', 'changeGraph', 'eyJpZCI6IDE3NCwgInR5cGUiOiAidmVydGV4IiwgInByb3BzIjogeyJjb2xvciI6IDE2NzExNjgwfX0K');</script>\n",
       "    "
      ],
      "text/plain": [
       "<IPython.core.display.HTML object>"
      ]
     },
     "metadata": {},
     "output_type": "display_data"
    },
    {
     "data": {
      "text/html": [
       "\n",
       "        <div id=\"kLyqP5swLzHqWhgbvsmpWD\"></div>\n",
       "        <script>netpixi.call('kLyqP5swLzHqWhgbvsmpWD', 'kMevSyjrf3B8vGoFZ2Jz4A', 'changeGraph', 'eyJpZCI6IDE3NSwgInR5cGUiOiAidmVydGV4IiwgInByb3BzIjogeyJjb2xvciI6IDE2NzExNjgwfX0K');</script>\n",
       "    "
      ],
      "text/plain": [
       "<IPython.core.display.HTML object>"
      ]
     },
     "metadata": {},
     "output_type": "display_data"
    },
    {
     "data": {
      "text/html": [
       "\n",
       "        <div id=\"CUxPGww6K38ssaw9LBzGGv\"></div>\n",
       "        <script>netpixi.call('CUxPGww6K38ssaw9LBzGGv', 'kMevSyjrf3B8vGoFZ2Jz4A', 'changeGraph', 'eyJpZCI6IDE3NiwgInR5cGUiOiAidmVydGV4IiwgInByb3BzIjogeyJjb2xvciI6IDE2NzExNjgwfX0K');</script>\n",
       "    "
      ],
      "text/plain": [
       "<IPython.core.display.HTML object>"
      ]
     },
     "metadata": {},
     "output_type": "display_data"
    },
    {
     "data": {
      "text/html": [
       "\n",
       "        <div id=\"auRndkoxqneZEZi9ha6WCK\"></div>\n",
       "        <script>netpixi.call('auRndkoxqneZEZi9ha6WCK', 'kMevSyjrf3B8vGoFZ2Jz4A', 'changeGraph', 'eyJpZCI6IDE3NywgInR5cGUiOiAidmVydGV4IiwgInByb3BzIjogeyJjb2xvciI6IDY1MjgwfX0K');</script>\n",
       "    "
      ],
      "text/plain": [
       "<IPython.core.display.HTML object>"
      ]
     },
     "metadata": {},
     "output_type": "display_data"
    },
    {
     "data": {
      "text/html": [
       "\n",
       "        <div id=\"F4aNSV2Xoq3u5w3MPq3Siu\"></div>\n",
       "        <script>netpixi.call('F4aNSV2Xoq3u5w3MPq3Siu', 'kMevSyjrf3B8vGoFZ2Jz4A', 'changeGraph', 'eyJpZCI6IDE3OCwgInR5cGUiOiAidmVydGV4IiwgInByb3BzIjogeyJjb2xvciI6IDE2NzExNjgwfX0K');</script>\n",
       "    "
      ],
      "text/plain": [
       "<IPython.core.display.HTML object>"
      ]
     },
     "metadata": {},
     "output_type": "display_data"
    },
    {
     "data": {
      "text/html": [
       "\n",
       "        <div id=\"LpEQSEf5RxkLMpsZYkoAb5\"></div>\n",
       "        <script>netpixi.call('LpEQSEf5RxkLMpsZYkoAb5', 'kMevSyjrf3B8vGoFZ2Jz4A', 'changeGraph', 'eyJpZCI6IDE3OSwgInR5cGUiOiAidmVydGV4IiwgInByb3BzIjogeyJjb2xvciI6IDE2NzExNjgwfX0K');</script>\n",
       "    "
      ],
      "text/plain": [
       "<IPython.core.display.HTML object>"
      ]
     },
     "metadata": {},
     "output_type": "display_data"
    },
    {
     "data": {
      "text/html": [
       "\n",
       "        <div id=\"YvhuUPi6sahfauZdkxpoPE\"></div>\n",
       "        <script>netpixi.call('YvhuUPi6sahfauZdkxpoPE', 'kMevSyjrf3B8vGoFZ2Jz4A', 'changeGraph', 'eyJpZCI6IDE4MCwgInR5cGUiOiAidmVydGV4IiwgInByb3BzIjogeyJjb2xvciI6IDE2NzExNjgwfX0K');</script>\n",
       "    "
      ],
      "text/plain": [
       "<IPython.core.display.HTML object>"
      ]
     },
     "metadata": {},
     "output_type": "display_data"
    },
    {
     "data": {
      "text/html": [
       "\n",
       "        <div id=\"SGGjVFjZzoRpQqLwUUnFLo\"></div>\n",
       "        <script>netpixi.call('SGGjVFjZzoRpQqLwUUnFLo', 'kMevSyjrf3B8vGoFZ2Jz4A', 'changeGraph', 'eyJpZCI6IDE4MSwgInR5cGUiOiAidmVydGV4IiwgInByb3BzIjogeyJjb2xvciI6IDY1MjgwfX0K');</script>\n",
       "    "
      ],
      "text/plain": [
       "<IPython.core.display.HTML object>"
      ]
     },
     "metadata": {},
     "output_type": "display_data"
    },
    {
     "data": {
      "text/html": [
       "\n",
       "        <div id=\"iuNzzjc5rZNuYuB3wd84tU\"></div>\n",
       "        <script>netpixi.call('iuNzzjc5rZNuYuB3wd84tU', 'kMevSyjrf3B8vGoFZ2Jz4A', 'changeGraph', 'eyJpZCI6IDE4MiwgInR5cGUiOiAidmVydGV4IiwgInByb3BzIjogeyJjb2xvciI6IDY1MjgwfX0K');</script>\n",
       "    "
      ],
      "text/plain": [
       "<IPython.core.display.HTML object>"
      ]
     },
     "metadata": {},
     "output_type": "display_data"
    },
    {
     "data": {
      "text/html": [
       "\n",
       "        <div id=\"kfFfFhgzPhRrss4eZz4tpd\"></div>\n",
       "        <script>netpixi.call('kfFfFhgzPhRrss4eZz4tpd', 'kMevSyjrf3B8vGoFZ2Jz4A', 'changeGraph', 'eyJpZCI6IDE4MywgInR5cGUiOiAidmVydGV4IiwgInByb3BzIjogeyJjb2xvciI6IDE2NzExNjgwfX0K');</script>\n",
       "    "
      ],
      "text/plain": [
       "<IPython.core.display.HTML object>"
      ]
     },
     "metadata": {},
     "output_type": "display_data"
    },
    {
     "data": {
      "text/html": [
       "\n",
       "        <div id=\"3SZRb3JWzpqTPrcF9qmAha\"></div>\n",
       "        <script>netpixi.call('3SZRb3JWzpqTPrcF9qmAha', 'kMevSyjrf3B8vGoFZ2Jz4A', 'changeGraph', 'eyJpZCI6IDE4NCwgInR5cGUiOiAidmVydGV4IiwgInByb3BzIjogeyJjb2xvciI6IDY1MjgwfX0K');</script>\n",
       "    "
      ],
      "text/plain": [
       "<IPython.core.display.HTML object>"
      ]
     },
     "metadata": {},
     "output_type": "display_data"
    },
    {
     "data": {
      "text/html": [
       "\n",
       "        <div id=\"EQuwKd7gRTWsyj5oo2AVyY\"></div>\n",
       "        <script>netpixi.call('EQuwKd7gRTWsyj5oo2AVyY', 'kMevSyjrf3B8vGoFZ2Jz4A', 'changeGraph', 'eyJpZCI6IDE4NSwgInR5cGUiOiAidmVydGV4IiwgInByb3BzIjogeyJjb2xvciI6IDE2NzExNjgwfX0K');</script>\n",
       "    "
      ],
      "text/plain": [
       "<IPython.core.display.HTML object>"
      ]
     },
     "metadata": {},
     "output_type": "display_data"
    },
    {
     "data": {
      "text/html": [
       "\n",
       "        <div id=\"TkcD2vGE236BYqWuarY6qD\"></div>\n",
       "        <script>netpixi.call('TkcD2vGE236BYqWuarY6qD', 'kMevSyjrf3B8vGoFZ2Jz4A', 'changeGraph', 'eyJpZCI6IDE4NiwgInR5cGUiOiAidmVydGV4IiwgInByb3BzIjogeyJjb2xvciI6IDE2NzExNjgwfX0K');</script>\n",
       "    "
      ],
      "text/plain": [
       "<IPython.core.display.HTML object>"
      ]
     },
     "metadata": {},
     "output_type": "display_data"
    },
    {
     "data": {
      "text/html": [
       "\n",
       "        <div id=\"EiTkNjpy8ttdbPr5kNoryu\"></div>\n",
       "        <script>netpixi.call('EiTkNjpy8ttdbPr5kNoryu', 'kMevSyjrf3B8vGoFZ2Jz4A', 'changeGraph', 'eyJpZCI6IDE4NywgInR5cGUiOiAidmVydGV4IiwgInByb3BzIjogeyJjb2xvciI6IDE2NzExNjgwfX0K');</script>\n",
       "    "
      ],
      "text/plain": [
       "<IPython.core.display.HTML object>"
      ]
     },
     "metadata": {},
     "output_type": "display_data"
    },
    {
     "data": {
      "text/html": [
       "\n",
       "        <div id=\"SJfxKUFHwmThry4iDbVEHK\"></div>\n",
       "        <script>netpixi.call('SJfxKUFHwmThry4iDbVEHK', 'kMevSyjrf3B8vGoFZ2Jz4A', 'changeGraph', 'eyJpZCI6IDE4OCwgInR5cGUiOiAidmVydGV4IiwgInByb3BzIjogeyJjb2xvciI6IDY1MjgwfX0K');</script>\n",
       "    "
      ],
      "text/plain": [
       "<IPython.core.display.HTML object>"
      ]
     },
     "metadata": {},
     "output_type": "display_data"
    },
    {
     "data": {
      "text/html": [
       "\n",
       "        <div id=\"jnQQHPL9xgFo7vRr6MmKoU\"></div>\n",
       "        <script>netpixi.call('jnQQHPL9xgFo7vRr6MmKoU', 'kMevSyjrf3B8vGoFZ2Jz4A', 'changeGraph', 'eyJpZCI6IDE4OSwgInR5cGUiOiAidmVydGV4IiwgInByb3BzIjogeyJjb2xvciI6IDY1MjgwfX0K');</script>\n",
       "    "
      ],
      "text/plain": [
       "<IPython.core.display.HTML object>"
      ]
     },
     "metadata": {},
     "output_type": "display_data"
    },
    {
     "data": {
      "text/html": [
       "\n",
       "        <div id=\"DDTpNqwrySPatGiFtGWoHU\"></div>\n",
       "        <script>netpixi.call('DDTpNqwrySPatGiFtGWoHU', 'kMevSyjrf3B8vGoFZ2Jz4A', 'changeGraph', 'eyJpZCI6IDE5MCwgInR5cGUiOiAidmVydGV4IiwgInByb3BzIjogeyJjb2xvciI6IDY1MjgwfX0K');</script>\n",
       "    "
      ],
      "text/plain": [
       "<IPython.core.display.HTML object>"
      ]
     },
     "metadata": {},
     "output_type": "display_data"
    },
    {
     "data": {
      "text/html": [
       "\n",
       "        <div id=\"KqBpJSQVwqPg7oU4gsifyr\"></div>\n",
       "        <script>netpixi.call('KqBpJSQVwqPg7oU4gsifyr', 'kMevSyjrf3B8vGoFZ2Jz4A', 'changeGraph', 'eyJpZCI6IDE5MSwgInR5cGUiOiAidmVydGV4IiwgInByb3BzIjogeyJjb2xvciI6IDY1MjgwfX0K');</script>\n",
       "    "
      ],
      "text/plain": [
       "<IPython.core.display.HTML object>"
      ]
     },
     "metadata": {},
     "output_type": "display_data"
    },
    {
     "data": {
      "text/html": [
       "\n",
       "        <div id=\"PRsDxG8jCm6qPwjBJFcgxf\"></div>\n",
       "        <script>netpixi.call('PRsDxG8jCm6qPwjBJFcgxf', 'kMevSyjrf3B8vGoFZ2Jz4A', 'changeGraph', 'eyJpZCI6IDE5MiwgInR5cGUiOiAidmVydGV4IiwgInByb3BzIjogeyJjb2xvciI6IDE2NzExNjgwfX0K');</script>\n",
       "    "
      ],
      "text/plain": [
       "<IPython.core.display.HTML object>"
      ]
     },
     "metadata": {},
     "output_type": "display_data"
    },
    {
     "data": {
      "text/html": [
       "\n",
       "        <div id=\"576kpVizuBTfDToLUQhRH5\"></div>\n",
       "        <script>netpixi.call('576kpVizuBTfDToLUQhRH5', 'kMevSyjrf3B8vGoFZ2Jz4A', 'changeGraph', 'eyJpZCI6IDE5MywgInR5cGUiOiAidmVydGV4IiwgInByb3BzIjogeyJjb2xvciI6IDY1MjgwfX0K');</script>\n",
       "    "
      ],
      "text/plain": [
       "<IPython.core.display.HTML object>"
      ]
     },
     "metadata": {},
     "output_type": "display_data"
    },
    {
     "data": {
      "text/html": [
       "\n",
       "        <div id=\"7ZyuibaEEusNQDoy2ZfzAG\"></div>\n",
       "        <script>netpixi.call('7ZyuibaEEusNQDoy2ZfzAG', 'kMevSyjrf3B8vGoFZ2Jz4A', 'changeGraph', 'eyJpZCI6IDE5NCwgInR5cGUiOiAidmVydGV4IiwgInByb3BzIjogeyJjb2xvciI6IDY1MjgwfX0K');</script>\n",
       "    "
      ],
      "text/plain": [
       "<IPython.core.display.HTML object>"
      ]
     },
     "metadata": {},
     "output_type": "display_data"
    },
    {
     "data": {
      "text/html": [
       "\n",
       "        <div id=\"NpmS64wU49NfeD7ex8WhNm\"></div>\n",
       "        <script>netpixi.call('NpmS64wU49NfeD7ex8WhNm', 'kMevSyjrf3B8vGoFZ2Jz4A', 'changeGraph', 'eyJpZCI6IDE5NSwgInR5cGUiOiAidmVydGV4IiwgInByb3BzIjogeyJjb2xvciI6IDE2NzExNjgwfX0K');</script>\n",
       "    "
      ],
      "text/plain": [
       "<IPython.core.display.HTML object>"
      ]
     },
     "metadata": {},
     "output_type": "display_data"
    },
    {
     "data": {
      "text/html": [
       "\n",
       "        <div id=\"RYZerh2ATHQZAe63pD4ct8\"></div>\n",
       "        <script>netpixi.call('RYZerh2ATHQZAe63pD4ct8', 'kMevSyjrf3B8vGoFZ2Jz4A', 'changeGraph', 'eyJpZCI6IDE5NiwgInR5cGUiOiAidmVydGV4IiwgInByb3BzIjogeyJjb2xvciI6IDE2NzExNjgwfX0K');</script>\n",
       "    "
      ],
      "text/plain": [
       "<IPython.core.display.HTML object>"
      ]
     },
     "metadata": {},
     "output_type": "display_data"
    },
    {
     "data": {
      "text/html": [
       "\n",
       "        <div id=\"BMzh354xAudyAfNTumrSXj\"></div>\n",
       "        <script>netpixi.call('BMzh354xAudyAfNTumrSXj', 'kMevSyjrf3B8vGoFZ2Jz4A', 'changeGraph', 'eyJpZCI6IDE5NywgInR5cGUiOiAidmVydGV4IiwgInByb3BzIjogeyJjb2xvciI6IDE2NzExNjgwfX0K');</script>\n",
       "    "
      ],
      "text/plain": [
       "<IPython.core.display.HTML object>"
      ]
     },
     "metadata": {},
     "output_type": "display_data"
    },
    {
     "data": {
      "text/html": [
       "\n",
       "        <div id=\"3ETKn4EXkHJZ7NCmDrzsx9\"></div>\n",
       "        <script>netpixi.call('3ETKn4EXkHJZ7NCmDrzsx9', 'kMevSyjrf3B8vGoFZ2Jz4A', 'changeGraph', 'eyJpZCI6IDE5OCwgInR5cGUiOiAidmVydGV4IiwgInByb3BzIjogeyJjb2xvciI6IDE2NzExNjgwfX0K');</script>\n",
       "    "
      ],
      "text/plain": [
       "<IPython.core.display.HTML object>"
      ]
     },
     "metadata": {},
     "output_type": "display_data"
    },
    {
     "data": {
      "text/html": [
       "\n",
       "        <div id=\"36A8esyjhnzdGNDaQcUUoU\"></div>\n",
       "        <script>netpixi.call('36A8esyjhnzdGNDaQcUUoU', 'kMevSyjrf3B8vGoFZ2Jz4A', 'changeGraph', 'eyJpZCI6IDE5OSwgInR5cGUiOiAidmVydGV4IiwgInByb3BzIjogeyJjb2xvciI6IDY1MjgwfX0K');</script>\n",
       "    "
      ],
      "text/plain": [
       "<IPython.core.display.HTML object>"
      ]
     },
     "metadata": {},
     "output_type": "display_data"
    },
    {
     "data": {
      "text/html": [
       "\n",
       "        <div id=\"jYNYQsEtEi8GmTkfRsNaRU\"></div>\n",
       "        <script>netpixi.call('jYNYQsEtEi8GmTkfRsNaRU', 'kMevSyjrf3B8vGoFZ2Jz4A', 'changeGraph', 'eyJpZCI6IDIwMCwgInR5cGUiOiAidmVydGV4IiwgInByb3BzIjogeyJjb2xvciI6IDY1MjgwfX0K');</script>\n",
       "    "
      ],
      "text/plain": [
       "<IPython.core.display.HTML object>"
      ]
     },
     "metadata": {},
     "output_type": "display_data"
    },
    {
     "data": {
      "text/html": [
       "\n",
       "        <div id=\"9bKNWjp2yiSXqx6cgDAWza\"></div>\n",
       "        <script>netpixi.call('9bKNWjp2yiSXqx6cgDAWza', 'kMevSyjrf3B8vGoFZ2Jz4A', 'changeGraph', 'eyJpZCI6IDIwMSwgInR5cGUiOiAidmVydGV4IiwgInByb3BzIjogeyJjb2xvciI6IDE2NzExNjgwfX0K');</script>\n",
       "    "
      ],
      "text/plain": [
       "<IPython.core.display.HTML object>"
      ]
     },
     "metadata": {},
     "output_type": "display_data"
    },
    {
     "data": {
      "text/html": [
       "\n",
       "        <div id=\"oKspnqohgvahQioSPZParj\"></div>\n",
       "        <script>netpixi.call('oKspnqohgvahQioSPZParj', 'kMevSyjrf3B8vGoFZ2Jz4A', 'changeGraph', 'eyJpZCI6IDIwMiwgInR5cGUiOiAidmVydGV4IiwgInByb3BzIjogeyJjb2xvciI6IDE2NzExNjgwfX0K');</script>\n",
       "    "
      ],
      "text/plain": [
       "<IPython.core.display.HTML object>"
      ]
     },
     "metadata": {},
     "output_type": "display_data"
    },
    {
     "data": {
      "text/html": [
       "\n",
       "        <div id=\"CEUzTbRAHgP4rtppVEsFok\"></div>\n",
       "        <script>netpixi.call('CEUzTbRAHgP4rtppVEsFok', 'kMevSyjrf3B8vGoFZ2Jz4A', 'changeGraph', 'eyJpZCI6IDIwMywgInR5cGUiOiAidmVydGV4IiwgInByb3BzIjogeyJjb2xvciI6IDY1MjgwfX0K');</script>\n",
       "    "
      ],
      "text/plain": [
       "<IPython.core.display.HTML object>"
      ]
     },
     "metadata": {},
     "output_type": "display_data"
    },
    {
     "data": {
      "text/html": [
       "\n",
       "        <div id=\"QKx3W4yob5mwM7JJe7rS9U\"></div>\n",
       "        <script>netpixi.call('QKx3W4yob5mwM7JJe7rS9U', 'kMevSyjrf3B8vGoFZ2Jz4A', 'changeGraph', 'eyJpZCI6IDIwNCwgInR5cGUiOiAidmVydGV4IiwgInByb3BzIjogeyJjb2xvciI6IDY1MjgwfX0K');</script>\n",
       "    "
      ],
      "text/plain": [
       "<IPython.core.display.HTML object>"
      ]
     },
     "metadata": {},
     "output_type": "display_data"
    },
    {
     "data": {
      "text/html": [
       "\n",
       "        <div id=\"Mzx6k96dQzERocNzbavU36\"></div>\n",
       "        <script>netpixi.call('Mzx6k96dQzERocNzbavU36', 'kMevSyjrf3B8vGoFZ2Jz4A', 'changeGraph', 'eyJpZCI6IDIwNSwgInR5cGUiOiAidmVydGV4IiwgInByb3BzIjogeyJjb2xvciI6IDE2NzExNjgwfX0K');</script>\n",
       "    "
      ],
      "text/plain": [
       "<IPython.core.display.HTML object>"
      ]
     },
     "metadata": {},
     "output_type": "display_data"
    },
    {
     "data": {
      "text/html": [
       "\n",
       "        <div id=\"cSEbCBwmEhvBJ7Ht5b6YHx\"></div>\n",
       "        <script>netpixi.call('cSEbCBwmEhvBJ7Ht5b6YHx', 'kMevSyjrf3B8vGoFZ2Jz4A', 'changeGraph', 'eyJpZCI6IDIwNiwgInR5cGUiOiAidmVydGV4IiwgInByb3BzIjogeyJjb2xvciI6IDE2NzExNjgwfX0K');</script>\n",
       "    "
      ],
      "text/plain": [
       "<IPython.core.display.HTML object>"
      ]
     },
     "metadata": {},
     "output_type": "display_data"
    },
    {
     "data": {
      "text/html": [
       "\n",
       "        <div id=\"TwcCquVLmbPHDsk9FJyCiq\"></div>\n",
       "        <script>netpixi.call('TwcCquVLmbPHDsk9FJyCiq', 'kMevSyjrf3B8vGoFZ2Jz4A', 'changeGraph', 'eyJpZCI6IDIwNywgInR5cGUiOiAidmVydGV4IiwgInByb3BzIjogeyJjb2xvciI6IDY1MjgwfX0K');</script>\n",
       "    "
      ],
      "text/plain": [
       "<IPython.core.display.HTML object>"
      ]
     },
     "metadata": {},
     "output_type": "display_data"
    },
    {
     "data": {
      "text/html": [
       "\n",
       "        <div id=\"oDPNpF7wjZvHd8tW7Jd8Vb\"></div>\n",
       "        <script>netpixi.call('oDPNpF7wjZvHd8tW7Jd8Vb', 'kMevSyjrf3B8vGoFZ2Jz4A', 'changeGraph', 'eyJpZCI6IDIwOCwgInR5cGUiOiAidmVydGV4IiwgInByb3BzIjogeyJjb2xvciI6IDY1MjgwfX0K');</script>\n",
       "    "
      ],
      "text/plain": [
       "<IPython.core.display.HTML object>"
      ]
     },
     "metadata": {},
     "output_type": "display_data"
    },
    {
     "data": {
      "text/html": [
       "\n",
       "        <div id=\"fWzZRcBk2BDQDk2mbn7zXv\"></div>\n",
       "        <script>netpixi.call('fWzZRcBk2BDQDk2mbn7zXv', 'kMevSyjrf3B8vGoFZ2Jz4A', 'changeGraph', 'eyJpZCI6IDIwOSwgInR5cGUiOiAidmVydGV4IiwgInByb3BzIjogeyJjb2xvciI6IDY1MjgwfX0K');</script>\n",
       "    "
      ],
      "text/plain": [
       "<IPython.core.display.HTML object>"
      ]
     },
     "metadata": {},
     "output_type": "display_data"
    },
    {
     "data": {
      "text/html": [
       "\n",
       "        <div id=\"bFRJaHuRjjtQGjZZpcDWWj\"></div>\n",
       "        <script>netpixi.call('bFRJaHuRjjtQGjZZpcDWWj', 'kMevSyjrf3B8vGoFZ2Jz4A', 'changeGraph', 'eyJpZCI6IDIxMCwgInR5cGUiOiAidmVydGV4IiwgInByb3BzIjogeyJjb2xvciI6IDE2NzExNjgwfX0K');</script>\n",
       "    "
      ],
      "text/plain": [
       "<IPython.core.display.HTML object>"
      ]
     },
     "metadata": {},
     "output_type": "display_data"
    },
    {
     "data": {
      "text/html": [
       "\n",
       "        <div id=\"f2ava2NDxiSPudL39LDDr3\"></div>\n",
       "        <script>netpixi.call('f2ava2NDxiSPudL39LDDr3', 'kMevSyjrf3B8vGoFZ2Jz4A', 'changeGraph', 'eyJpZCI6IDIxMSwgInR5cGUiOiAidmVydGV4IiwgInByb3BzIjogeyJjb2xvciI6IDY1MjgwfX0K');</script>\n",
       "    "
      ],
      "text/plain": [
       "<IPython.core.display.HTML object>"
      ]
     },
     "metadata": {},
     "output_type": "display_data"
    },
    {
     "data": {
      "text/html": [
       "\n",
       "        <div id=\"6NRUoqREQ8rni58ZoPFXaE\"></div>\n",
       "        <script>netpixi.call('6NRUoqREQ8rni58ZoPFXaE', 'kMevSyjrf3B8vGoFZ2Jz4A', 'changeGraph', 'eyJpZCI6IDIxMiwgInR5cGUiOiAidmVydGV4IiwgInByb3BzIjogeyJjb2xvciI6IDE2NzExNjgwfX0K');</script>\n",
       "    "
      ],
      "text/plain": [
       "<IPython.core.display.HTML object>"
      ]
     },
     "metadata": {},
     "output_type": "display_data"
    },
    {
     "data": {
      "text/html": [
       "\n",
       "        <div id=\"9Jbg63MGXrvZCeEQdZtKbD\"></div>\n",
       "        <script>netpixi.call('9Jbg63MGXrvZCeEQdZtKbD', 'kMevSyjrf3B8vGoFZ2Jz4A', 'changeGraph', 'eyJpZCI6IDIxMywgInR5cGUiOiAidmVydGV4IiwgInByb3BzIjogeyJjb2xvciI6IDY1MjgwfX0K');</script>\n",
       "    "
      ],
      "text/plain": [
       "<IPython.core.display.HTML object>"
      ]
     },
     "metadata": {},
     "output_type": "display_data"
    },
    {
     "data": {
      "text/html": [
       "\n",
       "        <div id=\"hpYeaWPrRwJPJDUs5xKPCG\"></div>\n",
       "        <script>netpixi.call('hpYeaWPrRwJPJDUs5xKPCG', 'kMevSyjrf3B8vGoFZ2Jz4A', 'changeGraph', 'eyJpZCI6IDIxNCwgInR5cGUiOiAidmVydGV4IiwgInByb3BzIjogeyJjb2xvciI6IDE2NzExNjgwfX0K');</script>\n",
       "    "
      ],
      "text/plain": [
       "<IPython.core.display.HTML object>"
      ]
     },
     "metadata": {},
     "output_type": "display_data"
    },
    {
     "data": {
      "text/html": [
       "\n",
       "        <div id=\"4rC6eGibZrJQrf3KoL4Skr\"></div>\n",
       "        <script>netpixi.call('4rC6eGibZrJQrf3KoL4Skr', 'kMevSyjrf3B8vGoFZ2Jz4A', 'changeGraph', 'eyJpZCI6IDIxNSwgInR5cGUiOiAidmVydGV4IiwgInByb3BzIjogeyJjb2xvciI6IDE2NzExNjgwfX0K');</script>\n",
       "    "
      ],
      "text/plain": [
       "<IPython.core.display.HTML object>"
      ]
     },
     "metadata": {},
     "output_type": "display_data"
    },
    {
     "data": {
      "text/html": [
       "\n",
       "        <div id=\"g9BfsRw5EcE6peHnxkvJzf\"></div>\n",
       "        <script>netpixi.call('g9BfsRw5EcE6peHnxkvJzf', 'kMevSyjrf3B8vGoFZ2Jz4A', 'changeGraph', 'eyJpZCI6IDIxNiwgInR5cGUiOiAidmVydGV4IiwgInByb3BzIjogeyJjb2xvciI6IDE2NzExNjgwfX0K');</script>\n",
       "    "
      ],
      "text/plain": [
       "<IPython.core.display.HTML object>"
      ]
     },
     "metadata": {},
     "output_type": "display_data"
    },
    {
     "data": {
      "text/html": [
       "\n",
       "        <div id=\"RcHUp4JBXDyTynKde5BkQj\"></div>\n",
       "        <script>netpixi.call('RcHUp4JBXDyTynKde5BkQj', 'kMevSyjrf3B8vGoFZ2Jz4A', 'changeGraph', 'eyJpZCI6IDIxNywgInR5cGUiOiAidmVydGV4IiwgInByb3BzIjogeyJjb2xvciI6IDE2NzExNjgwfX0K');</script>\n",
       "    "
      ],
      "text/plain": [
       "<IPython.core.display.HTML object>"
      ]
     },
     "metadata": {},
     "output_type": "display_data"
    },
    {
     "data": {
      "text/html": [
       "\n",
       "        <div id=\"Kn6Lu9H3AMhRWN7dFT2rug\"></div>\n",
       "        <script>netpixi.call('Kn6Lu9H3AMhRWN7dFT2rug', 'kMevSyjrf3B8vGoFZ2Jz4A', 'changeGraph', 'eyJpZCI6IDIxOCwgInR5cGUiOiAidmVydGV4IiwgInByb3BzIjogeyJjb2xvciI6IDE2NzExNjgwfX0K');</script>\n",
       "    "
      ],
      "text/plain": [
       "<IPython.core.display.HTML object>"
      ]
     },
     "metadata": {},
     "output_type": "display_data"
    },
    {
     "data": {
      "text/html": [
       "\n",
       "        <div id=\"D95ctCgqYBkybb7E3Yv2LR\"></div>\n",
       "        <script>netpixi.call('D95ctCgqYBkybb7E3Yv2LR', 'kMevSyjrf3B8vGoFZ2Jz4A', 'changeGraph', 'eyJpZCI6IDIxOSwgInR5cGUiOiAidmVydGV4IiwgInByb3BzIjogeyJjb2xvciI6IDE2NzExNjgwfX0K');</script>\n",
       "    "
      ],
      "text/plain": [
       "<IPython.core.display.HTML object>"
      ]
     },
     "metadata": {},
     "output_type": "display_data"
    },
    {
     "data": {
      "text/html": [
       "\n",
       "        <div id=\"HhKN6uNRWDRkyoj9Vyjv4S\"></div>\n",
       "        <script>netpixi.call('HhKN6uNRWDRkyoj9Vyjv4S', 'kMevSyjrf3B8vGoFZ2Jz4A', 'changeGraph', 'eyJpZCI6IDIyMCwgInR5cGUiOiAidmVydGV4IiwgInByb3BzIjogeyJjb2xvciI6IDE2NzExNjgwfX0K');</script>\n",
       "    "
      ],
      "text/plain": [
       "<IPython.core.display.HTML object>"
      ]
     },
     "metadata": {},
     "output_type": "display_data"
    },
    {
     "data": {
      "text/html": [
       "\n",
       "        <div id=\"cshWHjfgXt262tDArcmt3r\"></div>\n",
       "        <script>netpixi.call('cshWHjfgXt262tDArcmt3r', 'kMevSyjrf3B8vGoFZ2Jz4A', 'changeGraph', 'eyJpZCI6IDIyMSwgInR5cGUiOiAidmVydGV4IiwgInByb3BzIjogeyJjb2xvciI6IDE2NzExNjgwfX0K');</script>\n",
       "    "
      ],
      "text/plain": [
       "<IPython.core.display.HTML object>"
      ]
     },
     "metadata": {},
     "output_type": "display_data"
    },
    {
     "data": {
      "text/html": [
       "\n",
       "        <div id=\"gpzsCfnB83j8mwY9kLbhHD\"></div>\n",
       "        <script>netpixi.call('gpzsCfnB83j8mwY9kLbhHD', 'kMevSyjrf3B8vGoFZ2Jz4A', 'changeGraph', 'eyJpZCI6IDIyMiwgInR5cGUiOiAidmVydGV4IiwgInByb3BzIjogeyJjb2xvciI6IDE2NzExNjgwfX0K');</script>\n",
       "    "
      ],
      "text/plain": [
       "<IPython.core.display.HTML object>"
      ]
     },
     "metadata": {},
     "output_type": "display_data"
    },
    {
     "data": {
      "text/html": [
       "\n",
       "        <div id=\"aNtGwdXD7iJB4JibXrKhtz\"></div>\n",
       "        <script>netpixi.call('aNtGwdXD7iJB4JibXrKhtz', 'kMevSyjrf3B8vGoFZ2Jz4A', 'changeGraph', 'eyJpZCI6IDIyMywgInR5cGUiOiAidmVydGV4IiwgInByb3BzIjogeyJjb2xvciI6IDE2NzExNjgwfX0K');</script>\n",
       "    "
      ],
      "text/plain": [
       "<IPython.core.display.HTML object>"
      ]
     },
     "metadata": {},
     "output_type": "display_data"
    },
    {
     "data": {
      "text/html": [
       "\n",
       "        <div id=\"Um3h2W7CdFDThPsn6Y2Rc7\"></div>\n",
       "        <script>netpixi.call('Um3h2W7CdFDThPsn6Y2Rc7', 'kMevSyjrf3B8vGoFZ2Jz4A', 'changeGraph', 'eyJpZCI6IDIyNCwgInR5cGUiOiAidmVydGV4IiwgInByb3BzIjogeyJjb2xvciI6IDE2NzExNjgwfX0K');</script>\n",
       "    "
      ],
      "text/plain": [
       "<IPython.core.display.HTML object>"
      ]
     },
     "metadata": {},
     "output_type": "display_data"
    },
    {
     "data": {
      "text/html": [
       "\n",
       "        <div id=\"f3sMb75vveQby2sS6M9oKq\"></div>\n",
       "        <script>netpixi.call('f3sMb75vveQby2sS6M9oKq', 'kMevSyjrf3B8vGoFZ2Jz4A', 'changeGraph', 'eyJpZCI6IDIyNSwgInR5cGUiOiAidmVydGV4IiwgInByb3BzIjogeyJjb2xvciI6IDE2NzExNjgwfX0K');</script>\n",
       "    "
      ],
      "text/plain": [
       "<IPython.core.display.HTML object>"
      ]
     },
     "metadata": {},
     "output_type": "display_data"
    },
    {
     "data": {
      "text/html": [
       "\n",
       "        <div id=\"KxjRUEcUNRBcaYfjhbubwx\"></div>\n",
       "        <script>netpixi.call('KxjRUEcUNRBcaYfjhbubwx', 'kMevSyjrf3B8vGoFZ2Jz4A', 'changeGraph', 'eyJpZCI6IDIyNiwgInR5cGUiOiAidmVydGV4IiwgInByb3BzIjogeyJjb2xvciI6IDE2NzExNjgwfX0K');</script>\n",
       "    "
      ],
      "text/plain": [
       "<IPython.core.display.HTML object>"
      ]
     },
     "metadata": {},
     "output_type": "display_data"
    },
    {
     "data": {
      "text/html": [
       "\n",
       "        <div id=\"3Ykem3HM8PoRzfSjqqV5x9\"></div>\n",
       "        <script>netpixi.call('3Ykem3HM8PoRzfSjqqV5x9', 'kMevSyjrf3B8vGoFZ2Jz4A', 'changeGraph', 'eyJpZCI6IDIyNywgInR5cGUiOiAidmVydGV4IiwgInByb3BzIjogeyJjb2xvciI6IDY1MjgwfX0K');</script>\n",
       "    "
      ],
      "text/plain": [
       "<IPython.core.display.HTML object>"
      ]
     },
     "metadata": {},
     "output_type": "display_data"
    },
    {
     "data": {
      "text/html": [
       "\n",
       "        <div id=\"brGKKYdeCuHzqkupi9w4gq\"></div>\n",
       "        <script>netpixi.call('brGKKYdeCuHzqkupi9w4gq', 'kMevSyjrf3B8vGoFZ2Jz4A', 'changeGraph', 'eyJpZCI6IDIyOCwgInR5cGUiOiAidmVydGV4IiwgInByb3BzIjogeyJjb2xvciI6IDY1MjgwfX0K');</script>\n",
       "    "
      ],
      "text/plain": [
       "<IPython.core.display.HTML object>"
      ]
     },
     "metadata": {},
     "output_type": "display_data"
    },
    {
     "data": {
      "text/html": [
       "\n",
       "        <div id=\"ED4cEQFHrx82VYoUqwPq9c\"></div>\n",
       "        <script>netpixi.call('ED4cEQFHrx82VYoUqwPq9c', 'kMevSyjrf3B8vGoFZ2Jz4A', 'changeGraph', 'eyJpZCI6IDIyOSwgInR5cGUiOiAidmVydGV4IiwgInByb3BzIjogeyJjb2xvciI6IDE2NzExNjgwfX0K');</script>\n",
       "    "
      ],
      "text/plain": [
       "<IPython.core.display.HTML object>"
      ]
     },
     "metadata": {},
     "output_type": "display_data"
    },
    {
     "data": {
      "text/html": [
       "\n",
       "        <div id=\"Z8mjwAc595R8Bs6wPRTdgc\"></div>\n",
       "        <script>netpixi.call('Z8mjwAc595R8Bs6wPRTdgc', 'kMevSyjrf3B8vGoFZ2Jz4A', 'changeGraph', 'eyJpZCI6IDIzMCwgInR5cGUiOiAidmVydGV4IiwgInByb3BzIjogeyJjb2xvciI6IDE2NzExNjgwfX0K');</script>\n",
       "    "
      ],
      "text/plain": [
       "<IPython.core.display.HTML object>"
      ]
     },
     "metadata": {},
     "output_type": "display_data"
    },
    {
     "data": {
      "text/html": [
       "\n",
       "        <div id=\"7rDKdptcWmywxeo7v4ewhp\"></div>\n",
       "        <script>netpixi.call('7rDKdptcWmywxeo7v4ewhp', 'kMevSyjrf3B8vGoFZ2Jz4A', 'changeGraph', 'eyJpZCI6IDIzMSwgInR5cGUiOiAidmVydGV4IiwgInByb3BzIjogeyJjb2xvciI6IDY1MjgwfX0K');</script>\n",
       "    "
      ],
      "text/plain": [
       "<IPython.core.display.HTML object>"
      ]
     },
     "metadata": {},
     "output_type": "display_data"
    },
    {
     "data": {
      "text/html": [
       "\n",
       "        <div id=\"oBXBN97ATkJuAvWER3EVbt\"></div>\n",
       "        <script>netpixi.call('oBXBN97ATkJuAvWER3EVbt', 'kMevSyjrf3B8vGoFZ2Jz4A', 'changeGraph', 'eyJpZCI6IDIzMiwgInR5cGUiOiAidmVydGV4IiwgInByb3BzIjogeyJjb2xvciI6IDE2NzExNjgwfX0K');</script>\n",
       "    "
      ],
      "text/plain": [
       "<IPython.core.display.HTML object>"
      ]
     },
     "metadata": {},
     "output_type": "display_data"
    },
    {
     "data": {
      "text/html": [
       "\n",
       "        <div id=\"d9ohcAGhRm5Dosar2cC27Z\"></div>\n",
       "        <script>netpixi.call('d9ohcAGhRm5Dosar2cC27Z', 'kMevSyjrf3B8vGoFZ2Jz4A', 'changeGraph', 'eyJpZCI6IDIzMywgInR5cGUiOiAidmVydGV4IiwgInByb3BzIjogeyJjb2xvciI6IDE2NzExNjgwfX0K');</script>\n",
       "    "
      ],
      "text/plain": [
       "<IPython.core.display.HTML object>"
      ]
     },
     "metadata": {},
     "output_type": "display_data"
    },
    {
     "data": {
      "text/html": [
       "\n",
       "        <div id=\"4rQpXtKGZbMsAmcFyi6UTv\"></div>\n",
       "        <script>netpixi.call('4rQpXtKGZbMsAmcFyi6UTv', 'kMevSyjrf3B8vGoFZ2Jz4A', 'changeGraph', 'eyJpZCI6IDIzNCwgInR5cGUiOiAidmVydGV4IiwgInByb3BzIjogeyJjb2xvciI6IDE2NzExNjgwfX0K');</script>\n",
       "    "
      ],
      "text/plain": [
       "<IPython.core.display.HTML object>"
      ]
     },
     "metadata": {},
     "output_type": "display_data"
    },
    {
     "data": {
      "text/html": [
       "\n",
       "        <div id=\"MTYxS2HZqeBzCUoMPS457y\"></div>\n",
       "        <script>netpixi.call('MTYxS2HZqeBzCUoMPS457y', 'kMevSyjrf3B8vGoFZ2Jz4A', 'changeGraph', 'eyJpZCI6IDIzNSwgInR5cGUiOiAidmVydGV4IiwgInByb3BzIjogeyJjb2xvciI6IDY1MjgwfX0K');</script>\n",
       "    "
      ],
      "text/plain": [
       "<IPython.core.display.HTML object>"
      ]
     },
     "metadata": {},
     "output_type": "display_data"
    },
    {
     "data": {
      "text/html": [
       "\n",
       "        <div id=\"7Eimz9PzXL6tp45dck6Nhw\"></div>\n",
       "        <script>netpixi.call('7Eimz9PzXL6tp45dck6Nhw', 'kMevSyjrf3B8vGoFZ2Jz4A', 'changeGraph', 'eyJpZCI6IDIzNiwgInR5cGUiOiAidmVydGV4IiwgInByb3BzIjogeyJjb2xvciI6IDY1MjgwfX0K');</script>\n",
       "    "
      ],
      "text/plain": [
       "<IPython.core.display.HTML object>"
      ]
     },
     "metadata": {},
     "output_type": "display_data"
    },
    {
     "data": {
      "text/html": [
       "\n",
       "        <div id=\"hjzWKB97ckJMW8rbQ8qrTD\"></div>\n",
       "        <script>netpixi.call('hjzWKB97ckJMW8rbQ8qrTD', 'kMevSyjrf3B8vGoFZ2Jz4A', 'changeGraph', 'eyJpZCI6IDIzNywgInR5cGUiOiAidmVydGV4IiwgInByb3BzIjogeyJjb2xvciI6IDE2NzExNjgwfX0K');</script>\n",
       "    "
      ],
      "text/plain": [
       "<IPython.core.display.HTML object>"
      ]
     },
     "metadata": {},
     "output_type": "display_data"
    },
    {
     "data": {
      "text/html": [
       "\n",
       "        <div id=\"WnREjuExD3LczkR3fmVbft\"></div>\n",
       "        <script>netpixi.call('WnREjuExD3LczkR3fmVbft', 'kMevSyjrf3B8vGoFZ2Jz4A', 'changeGraph', 'eyJpZCI6IDIzOCwgInR5cGUiOiAidmVydGV4IiwgInByb3BzIjogeyJjb2xvciI6IDY1MjgwfX0K');</script>\n",
       "    "
      ],
      "text/plain": [
       "<IPython.core.display.HTML object>"
      ]
     },
     "metadata": {},
     "output_type": "display_data"
    },
    {
     "data": {
      "text/html": [
       "\n",
       "        <div id=\"4wruWHxCExqXiQ7m7KDbTt\"></div>\n",
       "        <script>netpixi.call('4wruWHxCExqXiQ7m7KDbTt', 'kMevSyjrf3B8vGoFZ2Jz4A', 'changeGraph', 'eyJpZCI6IDIzOSwgInR5cGUiOiAidmVydGV4IiwgInByb3BzIjogeyJjb2xvciI6IDE2NzExNjgwfX0K');</script>\n",
       "    "
      ],
      "text/plain": [
       "<IPython.core.display.HTML object>"
      ]
     },
     "metadata": {},
     "output_type": "display_data"
    },
    {
     "data": {
      "text/html": [
       "\n",
       "        <div id=\"YH5xyuHfwAfE5WgM7dQbT9\"></div>\n",
       "        <script>netpixi.call('YH5xyuHfwAfE5WgM7dQbT9', 'kMevSyjrf3B8vGoFZ2Jz4A', 'changeGraph', 'eyJpZCI6IDI0MCwgInR5cGUiOiAidmVydGV4IiwgInByb3BzIjogeyJjb2xvciI6IDY1MjgwfX0K');</script>\n",
       "    "
      ],
      "text/plain": [
       "<IPython.core.display.HTML object>"
      ]
     },
     "metadata": {},
     "output_type": "display_data"
    },
    {
     "data": {
      "text/html": [
       "\n",
       "        <div id=\"9BESiv3pRq8MKcX8DpeqPd\"></div>\n",
       "        <script>netpixi.call('9BESiv3pRq8MKcX8DpeqPd', 'kMevSyjrf3B8vGoFZ2Jz4A', 'changeGraph', 'eyJpZCI6IDI0MSwgInR5cGUiOiAidmVydGV4IiwgInByb3BzIjogeyJjb2xvciI6IDE2NzExNjgwfX0K');</script>\n",
       "    "
      ],
      "text/plain": [
       "<IPython.core.display.HTML object>"
      ]
     },
     "metadata": {},
     "output_type": "display_data"
    },
    {
     "data": {
      "text/html": [
       "\n",
       "        <div id=\"FXCcTC85bj6AcLBFxiz9ee\"></div>\n",
       "        <script>netpixi.call('FXCcTC85bj6AcLBFxiz9ee', 'kMevSyjrf3B8vGoFZ2Jz4A', 'changeGraph', 'eyJpZCI6IDI0MiwgInR5cGUiOiAidmVydGV4IiwgInByb3BzIjogeyJjb2xvciI6IDE2NzExNjgwfX0K');</script>\n",
       "    "
      ],
      "text/plain": [
       "<IPython.core.display.HTML object>"
      ]
     },
     "metadata": {},
     "output_type": "display_data"
    },
    {
     "data": {
      "text/html": [
       "\n",
       "        <div id=\"htsWkzWRXLb44xSwQUoHzk\"></div>\n",
       "        <script>netpixi.call('htsWkzWRXLb44xSwQUoHzk', 'kMevSyjrf3B8vGoFZ2Jz4A', 'changeGraph', 'eyJpZCI6IDI0MywgInR5cGUiOiAidmVydGV4IiwgInByb3BzIjogeyJjb2xvciI6IDE2NzExNjgwfX0K');</script>\n",
       "    "
      ],
      "text/plain": [
       "<IPython.core.display.HTML object>"
      ]
     },
     "metadata": {},
     "output_type": "display_data"
    },
    {
     "data": {
      "text/html": [
       "\n",
       "        <div id=\"NPgwUb47ZJcvWScKFWRtcV\"></div>\n",
       "        <script>netpixi.call('NPgwUb47ZJcvWScKFWRtcV', 'kMevSyjrf3B8vGoFZ2Jz4A', 'changeGraph', 'eyJpZCI6IDI0NCwgInR5cGUiOiAidmVydGV4IiwgInByb3BzIjogeyJjb2xvciI6IDE2NzExNjgwfX0K');</script>\n",
       "    "
      ],
      "text/plain": [
       "<IPython.core.display.HTML object>"
      ]
     },
     "metadata": {},
     "output_type": "display_data"
    },
    {
     "data": {
      "text/html": [
       "\n",
       "        <div id=\"SLHyYnAvsnLEcU76xqJybw\"></div>\n",
       "        <script>netpixi.call('SLHyYnAvsnLEcU76xqJybw', 'kMevSyjrf3B8vGoFZ2Jz4A', 'changeGraph', 'eyJpZCI6IDI0NSwgInR5cGUiOiAidmVydGV4IiwgInByb3BzIjogeyJjb2xvciI6IDY1MjgwfX0K');</script>\n",
       "    "
      ],
      "text/plain": [
       "<IPython.core.display.HTML object>"
      ]
     },
     "metadata": {},
     "output_type": "display_data"
    },
    {
     "data": {
      "text/html": [
       "\n",
       "        <div id=\"KXMyMBRpKAeF2qpbpnduQC\"></div>\n",
       "        <script>netpixi.call('KXMyMBRpKAeF2qpbpnduQC', 'kMevSyjrf3B8vGoFZ2Jz4A', 'changeGraph', 'eyJpZCI6IDI0NiwgInR5cGUiOiAidmVydGV4IiwgInByb3BzIjogeyJjb2xvciI6IDE2NzExNjgwfX0K');</script>\n",
       "    "
      ],
      "text/plain": [
       "<IPython.core.display.HTML object>"
      ]
     },
     "metadata": {},
     "output_type": "display_data"
    },
    {
     "data": {
      "text/html": [
       "\n",
       "        <div id=\"HRzmEwSGNUezYPYYdt7SE4\"></div>\n",
       "        <script>netpixi.call('HRzmEwSGNUezYPYYdt7SE4', 'kMevSyjrf3B8vGoFZ2Jz4A', 'changeGraph', 'eyJpZCI6IDI0NywgInR5cGUiOiAidmVydGV4IiwgInByb3BzIjogeyJjb2xvciI6IDE2NzExNjgwfX0K');</script>\n",
       "    "
      ],
      "text/plain": [
       "<IPython.core.display.HTML object>"
      ]
     },
     "metadata": {},
     "output_type": "display_data"
    },
    {
     "data": {
      "text/html": [
       "\n",
       "        <div id=\"ck4yyvqSqm7NReUujCrPw9\"></div>\n",
       "        <script>netpixi.call('ck4yyvqSqm7NReUujCrPw9', 'kMevSyjrf3B8vGoFZ2Jz4A', 'changeGraph', 'eyJpZCI6IDI0OCwgInR5cGUiOiAidmVydGV4IiwgInByb3BzIjogeyJjb2xvciI6IDE2NzExNjgwfX0K');</script>\n",
       "    "
      ],
      "text/plain": [
       "<IPython.core.display.HTML object>"
      ]
     },
     "metadata": {},
     "output_type": "display_data"
    },
    {
     "data": {
      "text/html": [
       "\n",
       "        <div id=\"W2WbZdQyE3dDzPUCbRLyMe\"></div>\n",
       "        <script>netpixi.call('W2WbZdQyE3dDzPUCbRLyMe', 'kMevSyjrf3B8vGoFZ2Jz4A', 'changeGraph', 'eyJpZCI6IDI0OSwgInR5cGUiOiAidmVydGV4IiwgInByb3BzIjogeyJjb2xvciI6IDE2NzExNjgwfX0K');</script>\n",
       "    "
      ],
      "text/plain": [
       "<IPython.core.display.HTML object>"
      ]
     },
     "metadata": {},
     "output_type": "display_data"
    },
    {
     "data": {
      "text/html": [
       "\n",
       "        <div id=\"G9MeuyWncFtA5JfH82Gptf\"></div>\n",
       "        <script>netpixi.call('G9MeuyWncFtA5JfH82Gptf', 'kMevSyjrf3B8vGoFZ2Jz4A', 'changeGraph', 'eyJpZCI6IDI1MCwgInR5cGUiOiAidmVydGV4IiwgInByb3BzIjogeyJjb2xvciI6IDE2NzExNjgwfX0K');</script>\n",
       "    "
      ],
      "text/plain": [
       "<IPython.core.display.HTML object>"
      ]
     },
     "metadata": {},
     "output_type": "display_data"
    },
    {
     "data": {
      "text/html": [
       "\n",
       "        <div id=\"N9th9QeHT2r9Q3jGqG9hz3\"></div>\n",
       "        <script>netpixi.call('N9th9QeHT2r9Q3jGqG9hz3', 'kMevSyjrf3B8vGoFZ2Jz4A', 'changeGraph', 'eyJpZCI6IDI1MSwgInR5cGUiOiAidmVydGV4IiwgInByb3BzIjogeyJjb2xvciI6IDE2NzExNjgwfX0K');</script>\n",
       "    "
      ],
      "text/plain": [
       "<IPython.core.display.HTML object>"
      ]
     },
     "metadata": {},
     "output_type": "display_data"
    },
    {
     "data": {
      "text/html": [
       "\n",
       "        <div id=\"WdLnWe2DskKyeHNgpSN6oD\"></div>\n",
       "        <script>netpixi.call('WdLnWe2DskKyeHNgpSN6oD', 'kMevSyjrf3B8vGoFZ2Jz4A', 'changeGraph', 'eyJpZCI6IDI1MiwgInR5cGUiOiAidmVydGV4IiwgInByb3BzIjogeyJjb2xvciI6IDE2NzExNjgwfX0K');</script>\n",
       "    "
      ],
      "text/plain": [
       "<IPython.core.display.HTML object>"
      ]
     },
     "metadata": {},
     "output_type": "display_data"
    },
    {
     "data": {
      "text/html": [
       "\n",
       "        <div id=\"n8UQCSaKXyNZAcxWb6Zeqe\"></div>\n",
       "        <script>netpixi.call('n8UQCSaKXyNZAcxWb6Zeqe', 'kMevSyjrf3B8vGoFZ2Jz4A', 'changeGraph', 'eyJpZCI6IDI1MywgInR5cGUiOiAidmVydGV4IiwgInByb3BzIjogeyJjb2xvciI6IDY1MjgwfX0K');</script>\n",
       "    "
      ],
      "text/plain": [
       "<IPython.core.display.HTML object>"
      ]
     },
     "metadata": {},
     "output_type": "display_data"
    },
    {
     "data": {
      "text/html": [
       "\n",
       "        <div id=\"6LncRGu393QLmvMMyBzgPG\"></div>\n",
       "        <script>netpixi.call('6LncRGu393QLmvMMyBzgPG', 'kMevSyjrf3B8vGoFZ2Jz4A', 'changeGraph', 'eyJpZCI6IDI1NCwgInR5cGUiOiAidmVydGV4IiwgInByb3BzIjogeyJjb2xvciI6IDE2NzExNjgwfX0K');</script>\n",
       "    "
      ],
      "text/plain": [
       "<IPython.core.display.HTML object>"
      ]
     },
     "metadata": {},
     "output_type": "display_data"
    },
    {
     "data": {
      "text/html": [
       "\n",
       "        <div id=\"3bAwMkLKxvvDJ4YNZJuLc4\"></div>\n",
       "        <script>netpixi.call('3bAwMkLKxvvDJ4YNZJuLc4', 'kMevSyjrf3B8vGoFZ2Jz4A', 'changeGraph', 'eyJpZCI6IDI1NSwgInR5cGUiOiAidmVydGV4IiwgInByb3BzIjogeyJjb2xvciI6IDY1MjgwfX0K');</script>\n",
       "    "
      ],
      "text/plain": [
       "<IPython.core.display.HTML object>"
      ]
     },
     "metadata": {},
     "output_type": "display_data"
    },
    {
     "data": {
      "text/html": [
       "\n",
       "        <div id=\"4QrGJXjxt3kZXB8ucoDbam\"></div>\n",
       "        <script>netpixi.call('4QrGJXjxt3kZXB8ucoDbam', 'kMevSyjrf3B8vGoFZ2Jz4A', 'changeGraph', 'eyJpZCI6IDI1NiwgInR5cGUiOiAidmVydGV4IiwgInByb3BzIjogeyJjb2xvciI6IDY1MjgwfX0K');</script>\n",
       "    "
      ],
      "text/plain": [
       "<IPython.core.display.HTML object>"
      ]
     },
     "metadata": {},
     "output_type": "display_data"
    },
    {
     "data": {
      "text/html": [
       "\n",
       "        <div id=\"jLWmrw5UrbQhcMR8mTceWv\"></div>\n",
       "        <script>netpixi.call('jLWmrw5UrbQhcMR8mTceWv', 'kMevSyjrf3B8vGoFZ2Jz4A', 'changeGraph', 'eyJpZCI6IDI1NywgInR5cGUiOiAidmVydGV4IiwgInByb3BzIjogeyJjb2xvciI6IDE2NzExNjgwfX0K');</script>\n",
       "    "
      ],
      "text/plain": [
       "<IPython.core.display.HTML object>"
      ]
     },
     "metadata": {},
     "output_type": "display_data"
    },
    {
     "data": {
      "text/html": [
       "\n",
       "        <div id=\"9C5v2BLDW6EgpgedkdfJdg\"></div>\n",
       "        <script>netpixi.call('9C5v2BLDW6EgpgedkdfJdg', 'kMevSyjrf3B8vGoFZ2Jz4A', 'changeGraph', 'eyJpZCI6IDI1OCwgInR5cGUiOiAidmVydGV4IiwgInByb3BzIjogeyJjb2xvciI6IDE2NzExNjgwfX0K');</script>\n",
       "    "
      ],
      "text/plain": [
       "<IPython.core.display.HTML object>"
      ]
     },
     "metadata": {},
     "output_type": "display_data"
    },
    {
     "data": {
      "text/html": [
       "\n",
       "        <div id=\"9QodYACFWXBvHb2h3fcKg4\"></div>\n",
       "        <script>netpixi.call('9QodYACFWXBvHb2h3fcKg4', 'kMevSyjrf3B8vGoFZ2Jz4A', 'changeGraph', 'eyJpZCI6IDI1OSwgInR5cGUiOiAidmVydGV4IiwgInByb3BzIjogeyJjb2xvciI6IDE2NzExNjgwfX0K');</script>\n",
       "    "
      ],
      "text/plain": [
       "<IPython.core.display.HTML object>"
      ]
     },
     "metadata": {},
     "output_type": "display_data"
    },
    {
     "data": {
      "text/html": [
       "\n",
       "        <div id=\"HV3TLVxqN2NJHeyhs8BLLX\"></div>\n",
       "        <script>netpixi.call('HV3TLVxqN2NJHeyhs8BLLX', 'kMevSyjrf3B8vGoFZ2Jz4A', 'changeGraph', 'eyJpZCI6IDI2MCwgInR5cGUiOiAidmVydGV4IiwgInByb3BzIjogeyJjb2xvciI6IDY1MjgwfX0K');</script>\n",
       "    "
      ],
      "text/plain": [
       "<IPython.core.display.HTML object>"
      ]
     },
     "metadata": {},
     "output_type": "display_data"
    },
    {
     "data": {
      "text/html": [
       "\n",
       "        <div id=\"SdvdDaZJmrLsGkAjmGGH7F\"></div>\n",
       "        <script>netpixi.call('SdvdDaZJmrLsGkAjmGGH7F', 'kMevSyjrf3B8vGoFZ2Jz4A', 'changeGraph', 'eyJpZCI6IDI2MSwgInR5cGUiOiAidmVydGV4IiwgInByb3BzIjogeyJjb2xvciI6IDE2NzExNjgwfX0K');</script>\n",
       "    "
      ],
      "text/plain": [
       "<IPython.core.display.HTML object>"
      ]
     },
     "metadata": {},
     "output_type": "display_data"
    },
    {
     "data": {
      "text/html": [
       "\n",
       "        <div id=\"a8eo2B2Zw4ATeykQ2wmFgr\"></div>\n",
       "        <script>netpixi.call('a8eo2B2Zw4ATeykQ2wmFgr', 'kMevSyjrf3B8vGoFZ2Jz4A', 'changeGraph', 'eyJpZCI6IDI2MiwgInR5cGUiOiAidmVydGV4IiwgInByb3BzIjogeyJjb2xvciI6IDE2NzExNjgwfX0K');</script>\n",
       "    "
      ],
      "text/plain": [
       "<IPython.core.display.HTML object>"
      ]
     },
     "metadata": {},
     "output_type": "display_data"
    },
    {
     "data": {
      "text/html": [
       "\n",
       "        <div id=\"QwojavLux7RDKFyG5A3Bcv\"></div>\n",
       "        <script>netpixi.call('QwojavLux7RDKFyG5A3Bcv', 'kMevSyjrf3B8vGoFZ2Jz4A', 'changeGraph', 'eyJpZCI6IDI2MywgInR5cGUiOiAidmVydGV4IiwgInByb3BzIjogeyJjb2xvciI6IDE2NzExNjgwfX0K');</script>\n",
       "    "
      ],
      "text/plain": [
       "<IPython.core.display.HTML object>"
      ]
     },
     "metadata": {},
     "output_type": "display_data"
    },
    {
     "data": {
      "text/html": [
       "\n",
       "        <div id=\"UuxNdyEWsQnekxksL9rmtq\"></div>\n",
       "        <script>netpixi.call('UuxNdyEWsQnekxksL9rmtq', 'kMevSyjrf3B8vGoFZ2Jz4A', 'changeGraph', 'eyJpZCI6IDI2NCwgInR5cGUiOiAidmVydGV4IiwgInByb3BzIjogeyJjb2xvciI6IDE2NzExNjgwfX0K');</script>\n",
       "    "
      ],
      "text/plain": [
       "<IPython.core.display.HTML object>"
      ]
     },
     "metadata": {},
     "output_type": "display_data"
    },
    {
     "data": {
      "text/html": [
       "\n",
       "        <div id=\"NHp8MTaGVgnTPZbHvabFcP\"></div>\n",
       "        <script>netpixi.call('NHp8MTaGVgnTPZbHvabFcP', 'kMevSyjrf3B8vGoFZ2Jz4A', 'changeGraph', 'eyJpZCI6IDI2NSwgInR5cGUiOiAidmVydGV4IiwgInByb3BzIjogeyJjb2xvciI6IDE2NzExNjgwfX0K');</script>\n",
       "    "
      ],
      "text/plain": [
       "<IPython.core.display.HTML object>"
      ]
     },
     "metadata": {},
     "output_type": "display_data"
    },
    {
     "data": {
      "text/html": [
       "\n",
       "        <div id=\"3Ahk8gbitGDvuSmaDWnDvs\"></div>\n",
       "        <script>netpixi.call('3Ahk8gbitGDvuSmaDWnDvs', 'kMevSyjrf3B8vGoFZ2Jz4A', 'changeGraph', 'eyJpZCI6IDI2NiwgInR5cGUiOiAidmVydGV4IiwgInByb3BzIjogeyJjb2xvciI6IDE2NzExNjgwfX0K');</script>\n",
       "    "
      ],
      "text/plain": [
       "<IPython.core.display.HTML object>"
      ]
     },
     "metadata": {},
     "output_type": "display_data"
    },
    {
     "data": {
      "text/html": [
       "\n",
       "        <div id=\"mdhwL8YAJ9bDfgbpXGxRLq\"></div>\n",
       "        <script>netpixi.call('mdhwL8YAJ9bDfgbpXGxRLq', 'kMevSyjrf3B8vGoFZ2Jz4A', 'changeGraph', 'eyJpZCI6IDI2NywgInR5cGUiOiAidmVydGV4IiwgInByb3BzIjogeyJjb2xvciI6IDY1MjgwfX0K');</script>\n",
       "    "
      ],
      "text/plain": [
       "<IPython.core.display.HTML object>"
      ]
     },
     "metadata": {},
     "output_type": "display_data"
    },
    {
     "data": {
      "text/html": [
       "\n",
       "        <div id=\"aNvRaRFfVyeEDeHQx9wLX9\"></div>\n",
       "        <script>netpixi.call('aNvRaRFfVyeEDeHQx9wLX9', 'kMevSyjrf3B8vGoFZ2Jz4A', 'changeGraph', 'eyJpZCI6IDI2OCwgInR5cGUiOiAidmVydGV4IiwgInByb3BzIjogeyJjb2xvciI6IDY1MjgwfX0K');</script>\n",
       "    "
      ],
      "text/plain": [
       "<IPython.core.display.HTML object>"
      ]
     },
     "metadata": {},
     "output_type": "display_data"
    },
    {
     "data": {
      "text/html": [
       "\n",
       "        <div id=\"TKdKdQYkae5ztynSj6vksF\"></div>\n",
       "        <script>netpixi.call('TKdKdQYkae5ztynSj6vksF', 'kMevSyjrf3B8vGoFZ2Jz4A', 'changeGraph', 'eyJpZCI6IDI2OSwgInR5cGUiOiAidmVydGV4IiwgInByb3BzIjogeyJjb2xvciI6IDY1MjgwfX0K');</script>\n",
       "    "
      ],
      "text/plain": [
       "<IPython.core.display.HTML object>"
      ]
     },
     "metadata": {},
     "output_type": "display_data"
    },
    {
     "data": {
      "text/html": [
       "\n",
       "        <div id=\"6rJmgdWXxXoLfS7SYREtGT\"></div>\n",
       "        <script>netpixi.call('6rJmgdWXxXoLfS7SYREtGT', 'kMevSyjrf3B8vGoFZ2Jz4A', 'changeGraph', 'eyJpZCI6IDI3MCwgInR5cGUiOiAidmVydGV4IiwgInByb3BzIjogeyJjb2xvciI6IDE2NzExNjgwfX0K');</script>\n",
       "    "
      ],
      "text/plain": [
       "<IPython.core.display.HTML object>"
      ]
     },
     "metadata": {},
     "output_type": "display_data"
    },
    {
     "data": {
      "text/html": [
       "\n",
       "        <div id=\"Krs6da9HAWVezNzkDfVXNP\"></div>\n",
       "        <script>netpixi.call('Krs6da9HAWVezNzkDfVXNP', 'kMevSyjrf3B8vGoFZ2Jz4A', 'changeGraph', 'eyJpZCI6IDI3MSwgInR5cGUiOiAidmVydGV4IiwgInByb3BzIjogeyJjb2xvciI6IDY1MjgwfX0K');</script>\n",
       "    "
      ],
      "text/plain": [
       "<IPython.core.display.HTML object>"
      ]
     },
     "metadata": {},
     "output_type": "display_data"
    },
    {
     "data": {
      "text/html": [
       "\n",
       "        <div id=\"SephKfuMstHTHRb6gwReQn\"></div>\n",
       "        <script>netpixi.call('SephKfuMstHTHRb6gwReQn', 'kMevSyjrf3B8vGoFZ2Jz4A', 'changeGraph', 'eyJpZCI6IDI3MiwgInR5cGUiOiAidmVydGV4IiwgInByb3BzIjogeyJjb2xvciI6IDY1MjgwfX0K');</script>\n",
       "    "
      ],
      "text/plain": [
       "<IPython.core.display.HTML object>"
      ]
     },
     "metadata": {},
     "output_type": "display_data"
    },
    {
     "data": {
      "text/html": [
       "\n",
       "        <div id=\"VTiPqwoAGv7zJpXzsBdXxp\"></div>\n",
       "        <script>netpixi.call('VTiPqwoAGv7zJpXzsBdXxp', 'kMevSyjrf3B8vGoFZ2Jz4A', 'changeGraph', 'eyJpZCI6IDI3MywgInR5cGUiOiAidmVydGV4IiwgInByb3BzIjogeyJjb2xvciI6IDY1MjgwfX0K');</script>\n",
       "    "
      ],
      "text/plain": [
       "<IPython.core.display.HTML object>"
      ]
     },
     "metadata": {},
     "output_type": "display_data"
    },
    {
     "data": {
      "text/html": [
       "\n",
       "        <div id=\"4Cj8oizKHGLUfmYE7ENCVY\"></div>\n",
       "        <script>netpixi.call('4Cj8oizKHGLUfmYE7ENCVY', 'kMevSyjrf3B8vGoFZ2Jz4A', 'changeGraph', 'eyJpZCI6IDI3NCwgInR5cGUiOiAidmVydGV4IiwgInByb3BzIjogeyJjb2xvciI6IDE2NzExNjgwfX0K');</script>\n",
       "    "
      ],
      "text/plain": [
       "<IPython.core.display.HTML object>"
      ]
     },
     "metadata": {},
     "output_type": "display_data"
    },
    {
     "data": {
      "text/html": [
       "\n",
       "        <div id=\"XH449BSUVjsuT6fk5n8pYz\"></div>\n",
       "        <script>netpixi.call('XH449BSUVjsuT6fk5n8pYz', 'kMevSyjrf3B8vGoFZ2Jz4A', 'changeGraph', 'eyJpZCI6IDI3NSwgInR5cGUiOiAidmVydGV4IiwgInByb3BzIjogeyJjb2xvciI6IDY1MjgwfX0K');</script>\n",
       "    "
      ],
      "text/plain": [
       "<IPython.core.display.HTML object>"
      ]
     },
     "metadata": {},
     "output_type": "display_data"
    },
    {
     "data": {
      "text/html": [
       "\n",
       "        <div id=\"5JZ6ktStRDG5JeTuGFpafH\"></div>\n",
       "        <script>netpixi.call('5JZ6ktStRDG5JeTuGFpafH', 'kMevSyjrf3B8vGoFZ2Jz4A', 'changeGraph', 'eyJpZCI6IDI3NiwgInR5cGUiOiAidmVydGV4IiwgInByb3BzIjogeyJjb2xvciI6IDY1MjgwfX0K');</script>\n",
       "    "
      ],
      "text/plain": [
       "<IPython.core.display.HTML object>"
      ]
     },
     "metadata": {},
     "output_type": "display_data"
    },
    {
     "data": {
      "text/html": [
       "\n",
       "        <div id=\"XRSsnQ5Xq5UdrgMw3J2MBR\"></div>\n",
       "        <script>netpixi.call('XRSsnQ5Xq5UdrgMw3J2MBR', 'kMevSyjrf3B8vGoFZ2Jz4A', 'changeGraph', 'eyJpZCI6IDI3NywgInR5cGUiOiAidmVydGV4IiwgInByb3BzIjogeyJjb2xvciI6IDE2NzExNjgwfX0K');</script>\n",
       "    "
      ],
      "text/plain": [
       "<IPython.core.display.HTML object>"
      ]
     },
     "metadata": {},
     "output_type": "display_data"
    },
    {
     "data": {
      "text/html": [
       "\n",
       "        <div id=\"3BVRm2xTsuVgQEBoPnWRJr\"></div>\n",
       "        <script>netpixi.call('3BVRm2xTsuVgQEBoPnWRJr', 'kMevSyjrf3B8vGoFZ2Jz4A', 'changeGraph', 'eyJpZCI6IDI3OCwgInR5cGUiOiAidmVydGV4IiwgInByb3BzIjogeyJjb2xvciI6IDY1MjgwfX0K');</script>\n",
       "    "
      ],
      "text/plain": [
       "<IPython.core.display.HTML object>"
      ]
     },
     "metadata": {},
     "output_type": "display_data"
    },
    {
     "data": {
      "text/html": [
       "\n",
       "        <div id=\"Z7JXcpNEzVL78PXz3cksH6\"></div>\n",
       "        <script>netpixi.call('Z7JXcpNEzVL78PXz3cksH6', 'kMevSyjrf3B8vGoFZ2Jz4A', 'changeGraph', 'eyJpZCI6IDI3OSwgInR5cGUiOiAidmVydGV4IiwgInByb3BzIjogeyJjb2xvciI6IDE2NzExNjgwfX0K');</script>\n",
       "    "
      ],
      "text/plain": [
       "<IPython.core.display.HTML object>"
      ]
     },
     "metadata": {},
     "output_type": "display_data"
    },
    {
     "data": {
      "text/html": [
       "\n",
       "        <div id=\"dzJRsYtoyqEGgp45AQ4V7R\"></div>\n",
       "        <script>netpixi.call('dzJRsYtoyqEGgp45AQ4V7R', 'kMevSyjrf3B8vGoFZ2Jz4A', 'changeGraph', 'eyJpZCI6IDI4MCwgInR5cGUiOiAidmVydGV4IiwgInByb3BzIjogeyJjb2xvciI6IDE2NzExNjgwfX0K');</script>\n",
       "    "
      ],
      "text/plain": [
       "<IPython.core.display.HTML object>"
      ]
     },
     "metadata": {},
     "output_type": "display_data"
    },
    {
     "data": {
      "text/html": [
       "\n",
       "        <div id=\"JqmocyRQBrKSAoPwxxcQFW\"></div>\n",
       "        <script>netpixi.call('JqmocyRQBrKSAoPwxxcQFW', 'kMevSyjrf3B8vGoFZ2Jz4A', 'changeGraph', 'eyJpZCI6IDI4MSwgInR5cGUiOiAidmVydGV4IiwgInByb3BzIjogeyJjb2xvciI6IDY1MjgwfX0K');</script>\n",
       "    "
      ],
      "text/plain": [
       "<IPython.core.display.HTML object>"
      ]
     },
     "metadata": {},
     "output_type": "display_data"
    },
    {
     "data": {
      "text/html": [
       "\n",
       "        <div id=\"T5wRLoHgu2W6MgNujSfn7W\"></div>\n",
       "        <script>netpixi.call('T5wRLoHgu2W6MgNujSfn7W', 'kMevSyjrf3B8vGoFZ2Jz4A', 'changeGraph', 'eyJpZCI6IDI4MiwgInR5cGUiOiAidmVydGV4IiwgInByb3BzIjogeyJjb2xvciI6IDE2NzExNjgwfX0K');</script>\n",
       "    "
      ],
      "text/plain": [
       "<IPython.core.display.HTML object>"
      ]
     },
     "metadata": {},
     "output_type": "display_data"
    },
    {
     "data": {
      "text/html": [
       "\n",
       "        <div id=\"RRRZ8dri4JNckptuEu7FAC\"></div>\n",
       "        <script>netpixi.call('RRRZ8dri4JNckptuEu7FAC', 'kMevSyjrf3B8vGoFZ2Jz4A', 'changeGraph', 'eyJpZCI6IDI4MywgInR5cGUiOiAidmVydGV4IiwgInByb3BzIjogeyJjb2xvciI6IDY1MjgwfX0K');</script>\n",
       "    "
      ],
      "text/plain": [
       "<IPython.core.display.HTML object>"
      ]
     },
     "metadata": {},
     "output_type": "display_data"
    },
    {
     "data": {
      "text/html": [
       "\n",
       "        <div id=\"J4WmqgoCN4L2W9egUwFmDu\"></div>\n",
       "        <script>netpixi.call('J4WmqgoCN4L2W9egUwFmDu', 'kMevSyjrf3B8vGoFZ2Jz4A', 'changeGraph', 'eyJpZCI6IDI4NCwgInR5cGUiOiAidmVydGV4IiwgInByb3BzIjogeyJjb2xvciI6IDY1MjgwfX0K');</script>\n",
       "    "
      ],
      "text/plain": [
       "<IPython.core.display.HTML object>"
      ]
     },
     "metadata": {},
     "output_type": "display_data"
    },
    {
     "data": {
      "text/html": [
       "\n",
       "        <div id=\"cct5ApSscWShiJ5sATFaK8\"></div>\n",
       "        <script>netpixi.call('cct5ApSscWShiJ5sATFaK8', 'kMevSyjrf3B8vGoFZ2Jz4A', 'changeGraph', 'eyJpZCI6IDI4NSwgInR5cGUiOiAidmVydGV4IiwgInByb3BzIjogeyJjb2xvciI6IDY1MjgwfX0K');</script>\n",
       "    "
      ],
      "text/plain": [
       "<IPython.core.display.HTML object>"
      ]
     },
     "metadata": {},
     "output_type": "display_data"
    },
    {
     "data": {
      "text/html": [
       "\n",
       "        <div id=\"XgrtWiiLesphwJZJfuisji\"></div>\n",
       "        <script>netpixi.call('XgrtWiiLesphwJZJfuisji', 'kMevSyjrf3B8vGoFZ2Jz4A', 'changeGraph', 'eyJpZCI6IDI4NiwgInR5cGUiOiAidmVydGV4IiwgInByb3BzIjogeyJjb2xvciI6IDE2NzExNjgwfX0K');</script>\n",
       "    "
      ],
      "text/plain": [
       "<IPython.core.display.HTML object>"
      ]
     },
     "metadata": {},
     "output_type": "display_data"
    },
    {
     "data": {
      "text/html": [
       "\n",
       "        <div id=\"6s2jgH9gnutdjuHE8dQz8N\"></div>\n",
       "        <script>netpixi.call('6s2jgH9gnutdjuHE8dQz8N', 'kMevSyjrf3B8vGoFZ2Jz4A', 'changeGraph', 'eyJpZCI6IDI4NywgInR5cGUiOiAidmVydGV4IiwgInByb3BzIjogeyJjb2xvciI6IDY1MjgwfX0K');</script>\n",
       "    "
      ],
      "text/plain": [
       "<IPython.core.display.HTML object>"
      ]
     },
     "metadata": {},
     "output_type": "display_data"
    },
    {
     "data": {
      "text/html": [
       "\n",
       "        <div id=\"V6DG5e8gD2Ts9Gjnz9cQuL\"></div>\n",
       "        <script>netpixi.call('V6DG5e8gD2Ts9Gjnz9cQuL', 'kMevSyjrf3B8vGoFZ2Jz4A', 'changeGraph', 'eyJpZCI6IDI4OCwgInR5cGUiOiAidmVydGV4IiwgInByb3BzIjogeyJjb2xvciI6IDY1MjgwfX0K');</script>\n",
       "    "
      ],
      "text/plain": [
       "<IPython.core.display.HTML object>"
      ]
     },
     "metadata": {},
     "output_type": "display_data"
    },
    {
     "data": {
      "text/html": [
       "\n",
       "        <div id=\"G39LYgXbwdURu3nk6ThpTC\"></div>\n",
       "        <script>netpixi.call('G39LYgXbwdURu3nk6ThpTC', 'kMevSyjrf3B8vGoFZ2Jz4A', 'changeGraph', 'eyJpZCI6IDI4OSwgInR5cGUiOiAidmVydGV4IiwgInByb3BzIjogeyJjb2xvciI6IDE2NzExNjgwfX0K');</script>\n",
       "    "
      ],
      "text/plain": [
       "<IPython.core.display.HTML object>"
      ]
     },
     "metadata": {},
     "output_type": "display_data"
    },
    {
     "data": {
      "text/html": [
       "\n",
       "        <div id=\"PtAZhgoq4tBhT8G2TuYmzA\"></div>\n",
       "        <script>netpixi.call('PtAZhgoq4tBhT8G2TuYmzA', 'kMevSyjrf3B8vGoFZ2Jz4A', 'changeGraph', 'eyJpZCI6IDI5MCwgInR5cGUiOiAidmVydGV4IiwgInByb3BzIjogeyJjb2xvciI6IDY1MjgwfX0K');</script>\n",
       "    "
      ],
      "text/plain": [
       "<IPython.core.display.HTML object>"
      ]
     },
     "metadata": {},
     "output_type": "display_data"
    },
    {
     "data": {
      "text/html": [
       "\n",
       "        <div id=\"nqee2MkcPdfjbCN4iQvrMy\"></div>\n",
       "        <script>netpixi.call('nqee2MkcPdfjbCN4iQvrMy', 'kMevSyjrf3B8vGoFZ2Jz4A', 'changeGraph', 'eyJpZCI6IDI5MSwgInR5cGUiOiAidmVydGV4IiwgInByb3BzIjogeyJjb2xvciI6IDE2NzExNjgwfX0K');</script>\n",
       "    "
      ],
      "text/plain": [
       "<IPython.core.display.HTML object>"
      ]
     },
     "metadata": {},
     "output_type": "display_data"
    },
    {
     "data": {
      "text/html": [
       "\n",
       "        <div id=\"J9xByPJmnsVrZ7h54t8PdH\"></div>\n",
       "        <script>netpixi.call('J9xByPJmnsVrZ7h54t8PdH', 'kMevSyjrf3B8vGoFZ2Jz4A', 'changeGraph', 'eyJpZCI6IDI5MiwgInR5cGUiOiAidmVydGV4IiwgInByb3BzIjogeyJjb2xvciI6IDE2NzExNjgwfX0K');</script>\n",
       "    "
      ],
      "text/plain": [
       "<IPython.core.display.HTML object>"
      ]
     },
     "metadata": {},
     "output_type": "display_data"
    },
    {
     "data": {
      "text/html": [
       "\n",
       "        <div id=\"JWruyacNZcLkxBbBSjNLLj\"></div>\n",
       "        <script>netpixi.call('JWruyacNZcLkxBbBSjNLLj', 'kMevSyjrf3B8vGoFZ2Jz4A', 'changeGraph', 'eyJpZCI6IDI5MywgInR5cGUiOiAidmVydGV4IiwgInByb3BzIjogeyJjb2xvciI6IDE2NzExNjgwfX0K');</script>\n",
       "    "
      ],
      "text/plain": [
       "<IPython.core.display.HTML object>"
      ]
     },
     "metadata": {},
     "output_type": "display_data"
    },
    {
     "data": {
      "text/html": [
       "\n",
       "        <div id=\"V5MCmsvStEPeUvpa7qmqFY\"></div>\n",
       "        <script>netpixi.call('V5MCmsvStEPeUvpa7qmqFY', 'kMevSyjrf3B8vGoFZ2Jz4A', 'changeGraph', 'eyJpZCI6IDI5NCwgInR5cGUiOiAidmVydGV4IiwgInByb3BzIjogeyJjb2xvciI6IDY1MjgwfX0K');</script>\n",
       "    "
      ],
      "text/plain": [
       "<IPython.core.display.HTML object>"
      ]
     },
     "metadata": {},
     "output_type": "display_data"
    },
    {
     "data": {
      "text/html": [
       "\n",
       "        <div id=\"Jaj59XiTAZtizsqK6nsxPy\"></div>\n",
       "        <script>netpixi.call('Jaj59XiTAZtizsqK6nsxPy', 'kMevSyjrf3B8vGoFZ2Jz4A', 'changeGraph', 'eyJpZCI6IDI5NSwgInR5cGUiOiAidmVydGV4IiwgInByb3BzIjogeyJjb2xvciI6IDY1MjgwfX0K');</script>\n",
       "    "
      ],
      "text/plain": [
       "<IPython.core.display.HTML object>"
      ]
     },
     "metadata": {},
     "output_type": "display_data"
    },
    {
     "data": {
      "text/html": [
       "\n",
       "        <div id=\"8RApdzRp2b5PpxGEc9GDam\"></div>\n",
       "        <script>netpixi.call('8RApdzRp2b5PpxGEc9GDam', 'kMevSyjrf3B8vGoFZ2Jz4A', 'changeGraph', 'eyJpZCI6IDI5NiwgInR5cGUiOiAidmVydGV4IiwgInByb3BzIjogeyJjb2xvciI6IDE2NzExNjgwfX0K');</script>\n",
       "    "
      ],
      "text/plain": [
       "<IPython.core.display.HTML object>"
      ]
     },
     "metadata": {},
     "output_type": "display_data"
    },
    {
     "data": {
      "text/html": [
       "\n",
       "        <div id=\"QZNVrpcoM8PfptafobGqYP\"></div>\n",
       "        <script>netpixi.call('QZNVrpcoM8PfptafobGqYP', 'kMevSyjrf3B8vGoFZ2Jz4A', 'changeGraph', 'eyJpZCI6IDI5NywgInR5cGUiOiAidmVydGV4IiwgInByb3BzIjogeyJjb2xvciI6IDY1MjgwfX0K');</script>\n",
       "    "
      ],
      "text/plain": [
       "<IPython.core.display.HTML object>"
      ]
     },
     "metadata": {},
     "output_type": "display_data"
    },
    {
     "data": {
      "text/html": [
       "\n",
       "        <div id=\"JHN4SWDZHq9rndT2KfMYXF\"></div>\n",
       "        <script>netpixi.call('JHN4SWDZHq9rndT2KfMYXF', 'kMevSyjrf3B8vGoFZ2Jz4A', 'changeGraph', 'eyJpZCI6IDI5OCwgInR5cGUiOiAidmVydGV4IiwgInByb3BzIjogeyJjb2xvciI6IDY1MjgwfX0K');</script>\n",
       "    "
      ],
      "text/plain": [
       "<IPython.core.display.HTML object>"
      ]
     },
     "metadata": {},
     "output_type": "display_data"
    },
    {
     "data": {
      "text/html": [
       "\n",
       "        <div id=\"QHp5ycSCHcDrz2NjzoeJir\"></div>\n",
       "        <script>netpixi.call('QHp5ycSCHcDrz2NjzoeJir', 'kMevSyjrf3B8vGoFZ2Jz4A', 'changeGraph', 'eyJpZCI6IDAsICJ0eXBlIjogInZlcnRleCIsICJwcm9wcyI6IHsic2l6ZSI6IDE0LjU2MDY2OTQ1NjA2Njk0NX19Cg==');</script>\n",
       "    "
      ],
      "text/plain": [
       "<IPython.core.display.HTML object>"
      ]
     },
     "metadata": {},
     "output_type": "display_data"
    },
    {
     "data": {
      "text/html": [
       "\n",
       "        <div id=\"hzNnw6nHzYn6ZGxrGuve6N\"></div>\n",
       "        <script>netpixi.call('hzNnw6nHzYn6ZGxrGuve6N', 'kMevSyjrf3B8vGoFZ2Jz4A', 'changeGraph', 'eyJpZCI6IDg3LCAidHlwZSI6ICJ2ZXJ0ZXgiLCAicHJvcHMiOiB7ImNvbG9yIjogMTY3MTE2ODB9fQo=');</script>\n",
       "    "
      ],
      "text/plain": [
       "<IPython.core.display.HTML object>"
      ]
     },
     "metadata": {},
     "output_type": "display_data"
    },
    {
     "data": {
      "text/html": [
       "\n",
       "        <div id=\"StN6zUw7K7ArGum5agNVR7\"></div>\n",
       "        <script>netpixi.call('StN6zUw7K7ArGum5agNVR7', 'kMevSyjrf3B8vGoFZ2Jz4A', 'changeGraph', 'eyJpZCI6IDEsICJ0eXBlIjogInZlcnRleCIsICJwcm9wcyI6IHsic2l6ZSI6IDEyLjQ2ODYxOTI0Njg2MTkyNX19Cg==');</script>\n",
       "    "
      ],
      "text/plain": [
       "<IPython.core.display.HTML object>"
      ]
     },
     "metadata": {},
     "output_type": "display_data"
    },
    {
     "data": {
      "text/html": [
       "\n",
       "        <div id=\"YC8JY3xgV3Jmz36ZuTNej7\"></div>\n",
       "        <script>netpixi.call('YC8JY3xgV3Jmz36ZuTNej7', 'kMevSyjrf3B8vGoFZ2Jz4A', 'changeGraph', 'eyJpZCI6IDczLCAidHlwZSI6ICJ2ZXJ0ZXgiLCAicHJvcHMiOiB7ImNvbG9yIjogMTY3MTE2ODB9fQo=');</script>\n",
       "    "
      ],
      "text/plain": [
       "<IPython.core.display.HTML object>"
      ]
     },
     "metadata": {},
     "output_type": "display_data"
    },
    {
     "data": {
      "text/html": [
       "\n",
       "        <div id=\"CXc64jbfbn3XKebCWQFfoj\"></div>\n",
       "        <script>netpixi.call('CXc64jbfbn3XKebCWQFfoj', 'kMevSyjrf3B8vGoFZ2Jz4A', 'changeGraph', 'eyJpZCI6IDIsICJ0eXBlIjogInZlcnRleCIsICJwcm9wcyI6IHsic2l6ZSI6IDEzLjIyMTc1NzMyMjE3NTczMn19Cg==');</script>\n",
       "    "
      ],
      "text/plain": [
       "<IPython.core.display.HTML object>"
      ]
     },
     "metadata": {},
     "output_type": "display_data"
    },
    {
     "data": {
      "text/html": [
       "\n",
       "        <div id=\"oJWtx4wT3Gd83ahCU92EWT\"></div>\n",
       "        <script>netpixi.call('oJWtx4wT3Gd83ahCU92EWT', 'kMevSyjrf3B8vGoFZ2Jz4A', 'changeGraph', 'eyJpZCI6IDg3LCAidHlwZSI6ICJ2ZXJ0ZXgiLCAicHJvcHMiOiB7ImNvbG9yIjogMTY3MTE2ODB9fQo=');</script>\n",
       "    "
      ],
      "text/plain": [
       "<IPython.core.display.HTML object>"
      ]
     },
     "metadata": {},
     "output_type": "display_data"
    },
    {
     "data": {
      "text/html": [
       "\n",
       "        <div id=\"6RqgXZnmmSZBTWBA6poryx\"></div>\n",
       "        <script>netpixi.call('6RqgXZnmmSZBTWBA6poryx', 'kMevSyjrf3B8vGoFZ2Jz4A', 'changeGraph', 'eyJpZCI6IDMsICJ0eXBlIjogInZlcnRleCIsICJwcm9wcyI6IHsic2l6ZSI6IDEzLjY0MDE2NzM2NDAxNjczN319Cg==');</script>\n",
       "    "
      ],
      "text/plain": [
       "<IPython.core.display.HTML object>"
      ]
     },
     "metadata": {},
     "output_type": "display_data"
    },
    {
     "data": {
      "text/html": [
       "\n",
       "        <div id=\"K6tUwUx3ji5tde79XgxTHZ\"></div>\n",
       "        <script>netpixi.call('K6tUwUx3ji5tde79XgxTHZ', 'kMevSyjrf3B8vGoFZ2Jz4A', 'changeGraph', 'eyJpZCI6IDc2LCAidHlwZSI6ICJ2ZXJ0ZXgiLCAicHJvcHMiOiB7ImNvbG9yIjogMTY3MTE2ODB9fQo=');</script>\n",
       "    "
      ],
      "text/plain": [
       "<IPython.core.display.HTML object>"
      ]
     },
     "metadata": {},
     "output_type": "display_data"
    },
    {
     "data": {
      "text/html": [
       "\n",
       "        <div id=\"JvDoq6GGRbX6RiuC3TGYfz\"></div>\n",
       "        <script>netpixi.call('JvDoq6GGRbX6RiuC3TGYfz', 'kMevSyjrf3B8vGoFZ2Jz4A', 'changeGraph', 'eyJpZCI6IDQsICJ0eXBlIjogInZlcnRleCIsICJwcm9wcyI6IHsic2l6ZSI6IDQwLjE2NjY2NjY2NjY2NjY2NH19Cg==');</script>\n",
       "    "
      ],
      "text/plain": [
       "<IPython.core.display.HTML object>"
      ]
     },
     "metadata": {},
     "output_type": "display_data"
    },
    {
     "data": {
      "text/html": [
       "\n",
       "        <div id=\"mLL5jgLbSEJMnvPwBAWeR5\"></div>\n",
       "        <script>netpixi.call('mLL5jgLbSEJMnvPwBAWeR5', 'kMevSyjrf3B8vGoFZ2Jz4A', 'changeGraph', 'eyJpZCI6IDY3LCAidHlwZSI6ICJ2ZXJ0ZXgiLCAicHJvcHMiOiB7ImNvbG9yIjogMTY3MTE2ODB9fQo=');</script>\n",
       "    "
      ],
      "text/plain": [
       "<IPython.core.display.HTML object>"
      ]
     },
     "metadata": {},
     "output_type": "display_data"
    },
    {
     "data": {
      "text/html": [
       "\n",
       "        <div id=\"mTAUYhbjxgBft6bwxNX6DA\"></div>\n",
       "        <script>netpixi.call('mTAUYhbjxgBft6bwxNX6DA', 'kMevSyjrf3B8vGoFZ2Jz4A', 'changeGraph', 'eyJpZCI6IDUsICJ0eXBlIjogInZlcnRleCIsICJwcm9wcyI6IHsic2l6ZSI6IDEyLjk3MDcxMTI5NzA3MTEzfX0K');</script>\n",
       "    "
      ],
      "text/plain": [
       "<IPython.core.display.HTML object>"
      ]
     },
     "metadata": {},
     "output_type": "display_data"
    },
    {
     "data": {
      "text/html": [
       "\n",
       "        <div id=\"eA5pPHrRYy3so93X8h2piS\"></div>\n",
       "        <script>netpixi.call('eA5pPHrRYy3so93X8h2piS', 'kMevSyjrf3B8vGoFZ2Jz4A', 'changeGraph', 'eyJpZCI6IDcxLCAidHlwZSI6ICJ2ZXJ0ZXgiLCAicHJvcHMiOiB7ImNvbG9yIjogMTY3MTE2ODB9fQo=');</script>\n",
       "    "
      ],
      "text/plain": [
       "<IPython.core.display.HTML object>"
      ]
     },
     "metadata": {},
     "output_type": "display_data"
    },
    {
     "data": {
      "text/html": [
       "\n",
       "        <div id=\"BXpbHva8z64bB7Eoqbdd8D\"></div>\n",
       "        <script>netpixi.call('BXpbHva8z64bB7Eoqbdd8D', 'kMevSyjrf3B8vGoFZ2Jz4A', 'changeGraph', 'eyJpZCI6IDYsICJ0eXBlIjogInZlcnRleCIsICJwcm9wcyI6IHsic2l6ZSI6IDE0LjIyNTk0MTQyMjU5NDE0Mn19Cg==');</script>\n",
       "    "
      ],
      "text/plain": [
       "<IPython.core.display.HTML object>"
      ]
     },
     "metadata": {},
     "output_type": "display_data"
    },
    {
     "data": {
      "text/html": [
       "\n",
       "        <div id=\"96GZtkTjkkJZ3Kqxn7QZkc\"></div>\n",
       "        <script>netpixi.call('96GZtkTjkkJZ3Kqxn7QZkc', 'kMevSyjrf3B8vGoFZ2Jz4A', 'changeGraph', 'eyJpZCI6IDg3LCAidHlwZSI6ICJ2ZXJ0ZXgiLCAicHJvcHMiOiB7ImNvbG9yIjogMTY3MTE2ODB9fQo=');</script>\n",
       "    "
      ],
      "text/plain": [
       "<IPython.core.display.HTML object>"
      ]
     },
     "metadata": {},
     "output_type": "display_data"
    },
    {
     "data": {
      "text/html": [
       "\n",
       "        <div id=\"YcygxcFGrHN5pQz443J256\"></div>\n",
       "        <script>netpixi.call('YcygxcFGrHN5pQz443J256', 'kMevSyjrf3B8vGoFZ2Jz4A', 'changeGraph', 'eyJpZCI6IDcsICJ0eXBlIjogInZlcnRleCIsICJwcm9wcyI6IHsic2l6ZSI6IDE3LjIzODQ5MzcyMzg0OTM3M319Cg==');</script>\n",
       "    "
      ],
      "text/plain": [
       "<IPython.core.display.HTML object>"
      ]
     },
     "metadata": {},
     "output_type": "display_data"
    },
    {
     "data": {
      "text/html": [
       "\n",
       "        <div id=\"bpnc4N78Lf9oPhKYS8CNko\"></div>\n",
       "        <script>netpixi.call('bpnc4N78Lf9oPhKYS8CNko', 'kMevSyjrf3B8vGoFZ2Jz4A', 'changeGraph', 'eyJpZCI6IDcwLCAidHlwZSI6ICJ2ZXJ0ZXgiLCAicHJvcHMiOiB7ImNvbG9yIjogMTY3MTE2ODB9fQo=');</script>\n",
       "    "
      ],
      "text/plain": [
       "<IPython.core.display.HTML object>"
      ]
     },
     "metadata": {},
     "output_type": "display_data"
    },
    {
     "data": {
      "text/html": [
       "\n",
       "        <div id=\"5XeExzz98aVYeHjeuZfir5\"></div>\n",
       "        <script>netpixi.call('5XeExzz98aVYeHjeuZfir5', 'kMevSyjrf3B8vGoFZ2Jz4A', 'changeGraph', 'eyJpZCI6IDgsICJ0eXBlIjogInZlcnRleCIsICJwcm9wcyI6IHsic2l6ZSI6IDE0LjAxNjczNjQwMTY3MzY0fX0K');</script>\n",
       "    "
      ],
      "text/plain": [
       "<IPython.core.display.HTML object>"
      ]
     },
     "metadata": {},
     "output_type": "display_data"
    },
    {
     "data": {
      "text/html": [
       "\n",
       "        <div id=\"k6FTwxYJqrzLUevyyqQyC9\"></div>\n",
       "        <script>netpixi.call('k6FTwxYJqrzLUevyyqQyC9', 'kMevSyjrf3B8vGoFZ2Jz4A', 'changeGraph', 'eyJpZCI6IDc1LCAidHlwZSI6ICJ2ZXJ0ZXgiLCAicHJvcHMiOiB7ImNvbG9yIjogMTY3MTE2ODB9fQo=');</script>\n",
       "    "
      ],
      "text/plain": [
       "<IPython.core.display.HTML object>"
      ]
     },
     "metadata": {},
     "output_type": "display_data"
    },
    {
     "data": {
      "text/html": [
       "\n",
       "        <div id=\"FdeTZTfNAQQpEDZT2PUWPK\"></div>\n",
       "        <script>netpixi.call('FdeTZTfNAQQpEDZT2PUWPK', 'kMevSyjrf3B8vGoFZ2Jz4A', 'changeGraph', 'eyJpZCI6IDksICJ0eXBlIjogInZlcnRleCIsICJwcm9wcyI6IHsic2l6ZSI6IDE1LjU2NDg1MzU1NjQ4NTM1NX19Cg==');</script>\n",
       "    "
      ],
      "text/plain": [
       "<IPython.core.display.HTML object>"
      ]
     },
     "metadata": {},
     "output_type": "display_data"
    },
    {
     "data": {
      "text/html": [
       "\n",
       "        <div id=\"egkSVaMU5M3EfHapWEtENn\"></div>\n",
       "        <script>netpixi.call('egkSVaMU5M3EfHapWEtENn', 'kMevSyjrf3B8vGoFZ2Jz4A', 'changeGraph', 'eyJpZCI6IDY1LCAidHlwZSI6ICJ2ZXJ0ZXgiLCAicHJvcHMiOiB7ImNvbG9yIjogMTY3MTE2ODB9fQo=');</script>\n",
       "    "
      ],
      "text/plain": [
       "<IPython.core.display.HTML object>"
      ]
     },
     "metadata": {},
     "output_type": "display_data"
    },
    {
     "data": {
      "text/html": [
       "\n",
       "        <div id=\"ajDQGegd6BDN5rX8CRCVuk\"></div>\n",
       "        <script>netpixi.call('ajDQGegd6BDN5rX8CRCVuk', 'kMevSyjrf3B8vGoFZ2Jz4A', 'changeGraph', 'eyJpZCI6IDEwLCAidHlwZSI6ICJ2ZXJ0ZXgiLCAicHJvcHMiOiB7InNpemUiOiAxNC4zOTMzMDU0MzkzMzA1NDN9fQo=');</script>\n",
       "    "
      ],
      "text/plain": [
       "<IPython.core.display.HTML object>"
      ]
     },
     "metadata": {},
     "output_type": "display_data"
    },
    {
     "data": {
      "text/html": [
       "\n",
       "        <div id=\"Tr2skJd3J2EKecJFHHovss\"></div>\n",
       "        <script>netpixi.call('Tr2skJd3J2EKecJFHHovss', 'kMevSyjrf3B8vGoFZ2Jz4A', 'changeGraph', 'eyJpZCI6IDgyLCAidHlwZSI6ICJ2ZXJ0ZXgiLCAicHJvcHMiOiB7ImNvbG9yIjogMTY3MTE2ODB9fQo=');</script>\n",
       "    "
      ],
      "text/plain": [
       "<IPython.core.display.HTML object>"
      ]
     },
     "metadata": {},
     "output_type": "display_data"
    },
    {
     "data": {
      "text/html": [
       "\n",
       "        <div id=\"BAPg7RY2GwNw24adUwSrza\"></div>\n",
       "        <script>netpixi.call('BAPg7RY2GwNw24adUwSrza', 'kMevSyjrf3B8vGoFZ2Jz4A', 'changeGraph', 'eyJpZCI6IDExLCAidHlwZSI6ICJ2ZXJ0ZXgiLCAicHJvcHMiOiB7InNpemUiOiAxNC44MTE3MTU0ODExNzE1NDh9fQo=');</script>\n",
       "    "
      ],
      "text/plain": [
       "<IPython.core.display.HTML object>"
      ]
     },
     "metadata": {},
     "output_type": "display_data"
    },
    {
     "data": {
      "text/html": [
       "\n",
       "        <div id=\"L3ivNMjVwoXdPLrJcREdog\"></div>\n",
       "        <script>netpixi.call('L3ivNMjVwoXdPLrJcREdog', 'kMevSyjrf3B8vGoFZ2Jz4A', 'changeGraph', 'eyJpZCI6IDY0LCAidHlwZSI6ICJ2ZXJ0ZXgiLCAicHJvcHMiOiB7ImNvbG9yIjogMTY3MTE2ODB9fQo=');</script>\n",
       "    "
      ],
      "text/plain": [
       "<IPython.core.display.HTML object>"
      ]
     },
     "metadata": {},
     "output_type": "display_data"
    },
    {
     "data": {
      "text/html": [
       "\n",
       "        <div id=\"kLygdVdGHCfwN6A2kTiKXL\"></div>\n",
       "        <script>netpixi.call('kLygdVdGHCfwN6A2kTiKXL', 'kMevSyjrf3B8vGoFZ2Jz4A', 'changeGraph', 'eyJpZCI6IDEyLCAidHlwZSI6ICJ2ZXJ0ZXgiLCAicHJvcHMiOiB7InNpemUiOiAxOC4zNjgyMDA4MzY4MjAwODN9fQo=');</script>\n",
       "    "
      ],
      "text/plain": [
       "<IPython.core.display.HTML object>"
      ]
     },
     "metadata": {},
     "output_type": "display_data"
    },
    {
     "data": {
      "text/html": [
       "\n",
       "        <div id=\"hupgs2hy9mG4fidYs4PBKb\"></div>\n",
       "        <script>netpixi.call('hupgs2hy9mG4fidYs4PBKb', 'kMevSyjrf3B8vGoFZ2Jz4A', 'changeGraph', 'eyJpZCI6IDgzLCAidHlwZSI6ICJ2ZXJ0ZXgiLCAicHJvcHMiOiB7ImNvbG9yIjogMTY3MTE2ODB9fQo=');</script>\n",
       "    "
      ],
      "text/plain": [
       "<IPython.core.display.HTML object>"
      ]
     },
     "metadata": {},
     "output_type": "display_data"
    },
    {
     "data": {
      "text/html": [
       "\n",
       "        <div id=\"TS233FH7pL5wAMsw4CZrjt\"></div>\n",
       "        <script>netpixi.call('TS233FH7pL5wAMsw4CZrjt', 'kMevSyjrf3B8vGoFZ2Jz4A', 'changeGraph', 'eyJpZCI6IDEzLCAidHlwZSI6ICJ2ZXJ0ZXgiLCAicHJvcHMiOiB7InNpemUiOiA0Mi4zMzMzMzMzMzMzMzMzMzZ9fQo=');</script>\n",
       "    "
      ],
      "text/plain": [
       "<IPython.core.display.HTML object>"
      ]
     },
     "metadata": {},
     "output_type": "display_data"
    },
    {
     "data": {
      "text/html": [
       "\n",
       "        <div id=\"njKafWpPANbtqFBfgtiCrT\"></div>\n",
       "        <script>netpixi.call('njKafWpPANbtqFBfgtiCrT', 'kMevSyjrf3B8vGoFZ2Jz4A', 'changeGraph', 'eyJpZCI6IDc0LCAidHlwZSI6ICJ2ZXJ0ZXgiLCAicHJvcHMiOiB7ImNvbG9yIjogMTY3MTE2ODB9fQo=');</script>\n",
       "    "
      ],
      "text/plain": [
       "<IPython.core.display.HTML object>"
      ]
     },
     "metadata": {},
     "output_type": "display_data"
    },
    {
     "data": {
      "text/html": [
       "\n",
       "        <div id=\"bmoYbkboawtdZcDaxcJPRa\"></div>\n",
       "        <script>netpixi.call('bmoYbkboawtdZcDaxcJPRa', 'kMevSyjrf3B8vGoFZ2Jz4A', 'changeGraph', 'eyJpZCI6IDE0LCAidHlwZSI6ICJ2ZXJ0ZXgiLCAicHJvcHMiOiB7InNpemUiOiAxNC41MTg4Mjg0NTE4ODI4NDV9fQo=');</script>\n",
       "    "
      ],
      "text/plain": [
       "<IPython.core.display.HTML object>"
      ]
     },
     "metadata": {},
     "output_type": "display_data"
    },
    {
     "data": {
      "text/html": [
       "\n",
       "        <div id=\"SPac7i9GUnvV87kb3oWdAE\"></div>\n",
       "        <script>netpixi.call('SPac7i9GUnvV87kb3oWdAE', 'kMevSyjrf3B8vGoFZ2Jz4A', 'changeGraph', 'eyJpZCI6IDUyLCAidHlwZSI6ICJ2ZXJ0ZXgiLCAicHJvcHMiOiB7ImNvbG9yIjogMTY3MTE2ODB9fQo=');</script>\n",
       "    "
      ],
      "text/plain": [
       "<IPython.core.display.HTML object>"
      ]
     },
     "metadata": {},
     "output_type": "display_data"
    },
    {
     "data": {
      "text/html": [
       "\n",
       "        <div id=\"EEiiWVSgCKdkewdpzyu2ev\"></div>\n",
       "        <script>netpixi.call('EEiiWVSgCKdkewdpzyu2ev', 'kMevSyjrf3B8vGoFZ2Jz4A', 'changeGraph', 'eyJpZCI6IDE1LCAidHlwZSI6ICJ2ZXJ0ZXgiLCAicHJvcHMiOiB7InNpemUiOiAxMy40NzI4MDMzNDcyODAzMzN9fQo=');</script>\n",
       "    "
      ],
      "text/plain": [
       "<IPython.core.display.HTML object>"
      ]
     },
     "metadata": {},
     "output_type": "display_data"
    },
    {
     "data": {
      "text/html": [
       "\n",
       "        <div id=\"Dp9JnVS5ZCgYQspuPoAwwC\"></div>\n",
       "        <script>netpixi.call('Dp9JnVS5ZCgYQspuPoAwwC', 'kMevSyjrf3B8vGoFZ2Jz4A', 'changeGraph', 'eyJpZCI6IDg0LCAidHlwZSI6ICJ2ZXJ0ZXgiLCAicHJvcHMiOiB7ImNvbG9yIjogMTY3MTE2ODB9fQo=');</script>\n",
       "    "
      ],
      "text/plain": [
       "<IPython.core.display.HTML object>"
      ]
     },
     "metadata": {},
     "output_type": "display_data"
    },
    {
     "data": {
      "text/html": [
       "\n",
       "        <div id=\"57VmouHzUY32yqHZzT6fEH\"></div>\n",
       "        <script>netpixi.call('57VmouHzUY32yqHZzT6fEH', 'kMevSyjrf3B8vGoFZ2Jz4A', 'changeGraph', 'eyJpZCI6IDE2LCAidHlwZSI6ICJ2ZXJ0ZXgiLCAicHJvcHMiOiB7InNpemUiOiA0My4xNjY2NjY2NjY2NjY2NjR9fQo=');</script>\n",
       "    "
      ],
      "text/plain": [
       "<IPython.core.display.HTML object>"
      ]
     },
     "metadata": {},
     "output_type": "display_data"
    },
    {
     "data": {
      "text/html": [
       "\n",
       "        <div id=\"JLT3XXYy62rjFkQtDNanZy\"></div>\n",
       "        <script>netpixi.call('JLT3XXYy62rjFkQtDNanZy', 'kMevSyjrf3B8vGoFZ2Jz4A', 'changeGraph', 'eyJpZCI6IDg5LCAidHlwZSI6ICJ2ZXJ0ZXgiLCAicHJvcHMiOiB7ImNvbG9yIjogMTY3MTE2ODB9fQo=');</script>\n",
       "    "
      ],
      "text/plain": [
       "<IPython.core.display.HTML object>"
      ]
     },
     "metadata": {},
     "output_type": "display_data"
    },
    {
     "data": {
      "text/html": [
       "\n",
       "        <div id=\"KisiVcEHigk4BKLPXwBKEq\"></div>\n",
       "        <script>netpixi.call('KisiVcEHigk4BKLPXwBKEq', 'kMevSyjrf3B8vGoFZ2Jz4A', 'changeGraph', 'eyJpZCI6IDE3LCAidHlwZSI6ICJ2ZXJ0ZXgiLCAicHJvcHMiOiB7InNpemUiOiAxMC43MTEyOTcwNzExMjk3MDd9fQo=');</script>\n",
       "    "
      ],
      "text/plain": [
       "<IPython.core.display.HTML object>"
      ]
     },
     "metadata": {},
     "output_type": "display_data"
    },
    {
     "data": {
      "text/html": [
       "\n",
       "        <div id=\"BvCS6vGuGWJNKsfE8tsGSK\"></div>\n",
       "        <script>netpixi.call('BvCS6vGuGWJNKsfE8tsGSK', 'kMevSyjrf3B8vGoFZ2Jz4A', 'changeGraph', 'eyJpZCI6IDgzLCAidHlwZSI6ICJ2ZXJ0ZXgiLCAicHJvcHMiOiB7ImNvbG9yIjogMTY3MTE2ODB9fQo=');</script>\n",
       "    "
      ],
      "text/plain": [
       "<IPython.core.display.HTML object>"
      ]
     },
     "metadata": {},
     "output_type": "display_data"
    },
    {
     "data": {
      "text/html": [
       "\n",
       "        <div id=\"XqfwChqMHZt5qxCTdCpAes\"></div>\n",
       "        <script>netpixi.call('XqfwChqMHZt5qxCTdCpAes', 'kMevSyjrf3B8vGoFZ2Jz4A', 'changeGraph', 'eyJpZCI6IDE4LCAidHlwZSI6ICJ2ZXJ0ZXgiLCAicHJvcHMiOiB7InNpemUiOiA0OS4wfX0K');</script>\n",
       "    "
      ],
      "text/plain": [
       "<IPython.core.display.HTML object>"
      ]
     },
     "metadata": {},
     "output_type": "display_data"
    },
    {
     "data": {
      "text/html": [
       "\n",
       "        <div id=\"Z5GUgn8Ub7FbNrYqd2Bra6\"></div>\n",
       "        <script>netpixi.call('Z5GUgn8Ub7FbNrYqd2Bra6', 'kMevSyjrf3B8vGoFZ2Jz4A', 'changeGraph', 'eyJpZCI6IDcyLCAidHlwZSI6ICJ2ZXJ0ZXgiLCAicHJvcHMiOiB7ImNvbG9yIjogMTY3MTE2ODB9fQo=');</script>\n",
       "    "
      ],
      "text/plain": [
       "<IPython.core.display.HTML object>"
      ]
     },
     "metadata": {},
     "output_type": "display_data"
    },
    {
     "data": {
      "text/html": [
       "\n",
       "        <div id=\"CFKXhisDcri9iYjt9bbWQh\"></div>\n",
       "        <script>netpixi.call('CFKXhisDcri9iYjt9bbWQh', 'kMevSyjrf3B8vGoFZ2Jz4A', 'changeGraph', 'eyJpZCI6IDE5LCAidHlwZSI6ICJ2ZXJ0ZXgiLCAicHJvcHMiOiB7InNpemUiOiAxOC44Mjg0NTE4ODI4NDUxODd9fQo=');</script>\n",
       "    "
      ],
      "text/plain": [
       "<IPython.core.display.HTML object>"
      ]
     },
     "metadata": {},
     "output_type": "display_data"
    },
    {
     "data": {
      "text/html": [
       "\n",
       "        <div id=\"NWNHK37bMxd3erjHAu4Nie\"></div>\n",
       "        <script>netpixi.call('NWNHK37bMxd3erjHAu4Nie', 'kMevSyjrf3B8vGoFZ2Jz4A', 'changeGraph', 'eyJpZCI6IDY2LCAidHlwZSI6ICJ2ZXJ0ZXgiLCAicHJvcHMiOiB7ImNvbG9yIjogMTY3MTE2ODB9fQo=');</script>\n",
       "    "
      ],
      "text/plain": [
       "<IPython.core.display.HTML object>"
      ]
     },
     "metadata": {},
     "output_type": "display_data"
    },
    {
     "data": {
      "text/html": [
       "\n",
       "        <div id=\"hbQCaaLbPXU5KUg5Fge2L6\"></div>\n",
       "        <script>netpixi.call('hbQCaaLbPXU5KUg5Fge2L6', 'kMevSyjrf3B8vGoFZ2Jz4A', 'changeGraph', 'eyJpZCI6IDIwLCAidHlwZSI6ICJ2ZXJ0ZXgiLCAicHJvcHMiOiB7InNpemUiOiAxMy44OTEyMTMzODkxMjEzMzh9fQo=');</script>\n",
       "    "
      ],
      "text/plain": [
       "<IPython.core.display.HTML object>"
      ]
     },
     "metadata": {},
     "output_type": "display_data"
    },
    {
     "data": {
      "text/html": [
       "\n",
       "        <div id=\"Zmx72B9DyWEVohBL5r7Za8\"></div>\n",
       "        <script>netpixi.call('Zmx72B9DyWEVohBL5r7Za8', 'kMevSyjrf3B8vGoFZ2Jz4A', 'changeGraph', 'eyJpZCI6IDcwLCAidHlwZSI6ICJ2ZXJ0ZXgiLCAicHJvcHMiOiB7ImNvbG9yIjogMTY3MTE2ODB9fQo=');</script>\n",
       "    "
      ],
      "text/plain": [
       "<IPython.core.display.HTML object>"
      ]
     },
     "metadata": {},
     "output_type": "display_data"
    },
    {
     "data": {
      "text/html": [
       "\n",
       "        <div id=\"RgXNkowUrxgM7ZwLaCjznG\"></div>\n",
       "        <script>netpixi.call('RgXNkowUrxgM7ZwLaCjznG', 'kMevSyjrf3B8vGoFZ2Jz4A', 'changeGraph', 'eyJpZCI6IDIxLCAidHlwZSI6ICJ2ZXJ0ZXgiLCAicHJvcHMiOiB7InNpemUiOiAxNy45MDc5NDk3OTA3OTQ5OH19Cg==');</script>\n",
       "    "
      ],
      "text/plain": [
       "<IPython.core.display.HTML object>"
      ]
     },
     "metadata": {},
     "output_type": "display_data"
    },
    {
     "data": {
      "text/html": [
       "\n",
       "        <div id=\"7XpBu4mzFd33DektKMR2a2\"></div>\n",
       "        <script>netpixi.call('7XpBu4mzFd33DektKMR2a2', 'kMevSyjrf3B8vGoFZ2Jz4A', 'changeGraph', 'eyJpZCI6IDg0LCAidHlwZSI6ICJ2ZXJ0ZXgiLCAicHJvcHMiOiB7ImNvbG9yIjogMTY3MTE2ODB9fQo=');</script>\n",
       "    "
      ],
      "text/plain": [
       "<IPython.core.display.HTML object>"
      ]
     },
     "metadata": {},
     "output_type": "display_data"
    },
    {
     "data": {
      "text/html": [
       "\n",
       "        <div id=\"SGTXSK3kSkBRpvdYyZtSRs\"></div>\n",
       "        <script>netpixi.call('SGTXSK3kSkBRpvdYyZtSRs', 'kMevSyjrf3B8vGoFZ2Jz4A', 'changeGraph', 'eyJpZCI6IDIyLCAidHlwZSI6ICJ2ZXJ0ZXgiLCAicHJvcHMiOiB7InNpemUiOiA0My41fX0K');</script>\n",
       "    "
      ],
      "text/plain": [
       "<IPython.core.display.HTML object>"
      ]
     },
     "metadata": {},
     "output_type": "display_data"
    },
    {
     "data": {
      "text/html": [
       "\n",
       "        <div id=\"fUR3Gs9x8vzrt9SWKWeBe5\"></div>\n",
       "        <script>netpixi.call('fUR3Gs9x8vzrt9SWKWeBe5', 'kMevSyjrf3B8vGoFZ2Jz4A', 'changeGraph', 'eyJpZCI6IDgwLCAidHlwZSI6ICJ2ZXJ0ZXgiLCAicHJvcHMiOiB7ImNvbG9yIjogMTY3MTE2ODB9fQo=');</script>\n",
       "    "
      ],
      "text/plain": [
       "<IPython.core.display.HTML object>"
      ]
     },
     "metadata": {},
     "output_type": "display_data"
    },
    {
     "data": {
      "text/html": [
       "\n",
       "        <div id=\"7W7jgzgwkAUDMk3gXThgJW\"></div>\n",
       "        <script>netpixi.call('7W7jgzgwkAUDMk3gXThgJW', 'kMevSyjrf3B8vGoFZ2Jz4A', 'changeGraph', 'eyJpZCI6IDIzLCAidHlwZSI6ICJ2ZXJ0ZXgiLCAicHJvcHMiOiB7InNpemUiOiAxNi41NjkwMzc2NTY5MDM3Njd9fQo=');</script>\n",
       "    "
      ],
      "text/plain": [
       "<IPython.core.display.HTML object>"
      ]
     },
     "metadata": {},
     "output_type": "display_data"
    },
    {
     "data": {
      "text/html": [
       "\n",
       "        <div id=\"P7XuYwWwBeQKdhSMswuaCU\"></div>\n",
       "        <script>netpixi.call('P7XuYwWwBeQKdhSMswuaCU', 'kMevSyjrf3B8vGoFZ2Jz4A', 'changeGraph', 'eyJpZCI6IDcwLCAidHlwZSI6ICJ2ZXJ0ZXgiLCAicHJvcHMiOiB7ImNvbG9yIjogMTY3MTE2ODB9fQo=');</script>\n",
       "    "
      ],
      "text/plain": [
       "<IPython.core.display.HTML object>"
      ]
     },
     "metadata": {},
     "output_type": "display_data"
    },
    {
     "data": {
      "text/html": [
       "\n",
       "        <div id=\"c9J5EBj6wnkpc8QBSp9y9M\"></div>\n",
       "        <script>netpixi.call('c9J5EBj6wnkpc8QBSp9y9M', 'kMevSyjrf3B8vGoFZ2Jz4A', 'changeGraph', 'eyJpZCI6IDI0LCAidHlwZSI6ICJ2ZXJ0ZXgiLCAicHJvcHMiOiB7InNpemUiOiAxOC4zMjYzNTk4MzI2MzU5OH19Cg==');</script>\n",
       "    "
      ],
      "text/plain": [
       "<IPython.core.display.HTML object>"
      ]
     },
     "metadata": {},
     "output_type": "display_data"
    },
    {
     "data": {
      "text/html": [
       "\n",
       "        <div id=\"ApZ65FpFaQjfAiAPxtaR3H\"></div>\n",
       "        <script>netpixi.call('ApZ65FpFaQjfAiAPxtaR3H', 'kMevSyjrf3B8vGoFZ2Jz4A', 'changeGraph', 'eyJpZCI6IDg0LCAidHlwZSI6ICJ2ZXJ0ZXgiLCAicHJvcHMiOiB7ImNvbG9yIjogMTY3MTE2ODB9fQo=');</script>\n",
       "    "
      ],
      "text/plain": [
       "<IPython.core.display.HTML object>"
      ]
     },
     "metadata": {},
     "output_type": "display_data"
    },
    {
     "data": {
      "text/html": [
       "\n",
       "        <div id=\"CawzR5aDj3Btgg2gdsUM8F\"></div>\n",
       "        <script>netpixi.call('CawzR5aDj3Btgg2gdsUM8F', 'kMevSyjrf3B8vGoFZ2Jz4A', 'changeGraph', 'eyJpZCI6IDI1LCAidHlwZSI6ICJ2ZXJ0ZXgiLCAicHJvcHMiOiB7InNpemUiOiAxMC41ODU3NzQwNTg1Nzc0MDd9fQo=');</script>\n",
       "    "
      ],
      "text/plain": [
       "<IPython.core.display.HTML object>"
      ]
     },
     "metadata": {},
     "output_type": "display_data"
    },
    {
     "data": {
      "text/html": [
       "\n",
       "        <div id=\"U64oMhzAYzHqTauFqq8YGW\"></div>\n",
       "        <script>netpixi.call('U64oMhzAYzHqTauFqq8YGW', 'kMevSyjrf3B8vGoFZ2Jz4A', 'changeGraph', 'eyJpZCI6IDcwLCAidHlwZSI6ICJ2ZXJ0ZXgiLCAicHJvcHMiOiB7ImNvbG9yIjogMTY3MTE2ODB9fQo=');</script>\n",
       "    "
      ],
      "text/plain": [
       "<IPython.core.display.HTML object>"
      ]
     },
     "metadata": {},
     "output_type": "display_data"
    },
    {
     "data": {
      "text/html": [
       "\n",
       "        <div id=\"k4kXnZcEaj6cgNiwoHYbfk\"></div>\n",
       "        <script>netpixi.call('k4kXnZcEaj6cgNiwoHYbfk', 'kMevSyjrf3B8vGoFZ2Jz4A', 'changeGraph', 'eyJpZCI6IDI2LCAidHlwZSI6ICJ2ZXJ0ZXgiLCAicHJvcHMiOiB7InNpemUiOiA0MC41fX0K');</script>\n",
       "    "
      ],
      "text/plain": [
       "<IPython.core.display.HTML object>"
      ]
     },
     "metadata": {},
     "output_type": "display_data"
    },
    {
     "data": {
      "text/html": [
       "\n",
       "        <div id=\"K3EFtL7Gj9GQYpeZmzHNsE\"></div>\n",
       "        <script>netpixi.call('K3EFtL7Gj9GQYpeZmzHNsE', 'kMevSyjrf3B8vGoFZ2Jz4A', 'changeGraph', 'eyJpZCI6IDgzLCAidHlwZSI6ICJ2ZXJ0ZXgiLCAicHJvcHMiOiB7ImNvbG9yIjogMTY3MTE2ODB9fQo=');</script>\n",
       "    "
      ],
      "text/plain": [
       "<IPython.core.display.HTML object>"
      ]
     },
     "metadata": {},
     "output_type": "display_data"
    },
    {
     "data": {
      "text/html": [
       "\n",
       "        <div id=\"6jm2keJFP5UAYzFahwi5CQ\"></div>\n",
       "        <script>netpixi.call('6jm2keJFP5UAYzFahwi5CQ', 'kMevSyjrf3B8vGoFZ2Jz4A', 'changeGraph', 'eyJpZCI6IDI3LCAidHlwZSI6ICJ2ZXJ0ZXgiLCAicHJvcHMiOiB7InNpemUiOiAxOC43NDQ3Njk4NzQ0NzY5ODd9fQo=');</script>\n",
       "    "
      ],
      "text/plain": [
       "<IPython.core.display.HTML object>"
      ]
     },
     "metadata": {},
     "output_type": "display_data"
    },
    {
     "data": {
      "text/html": [
       "\n",
       "        <div id=\"ay8bg95dcdxNawEsUTLAu3\"></div>\n",
       "        <script>netpixi.call('ay8bg95dcdxNawEsUTLAu3', 'kMevSyjrf3B8vGoFZ2Jz4A', 'changeGraph', 'eyJpZCI6IDgxLCAidHlwZSI6ICJ2ZXJ0ZXgiLCAicHJvcHMiOiB7ImNvbG9yIjogMTY3MTE2ODB9fQo=');</script>\n",
       "    "
      ],
      "text/plain": [
       "<IPython.core.display.HTML object>"
      ]
     },
     "metadata": {},
     "output_type": "display_data"
    },
    {
     "data": {
      "text/html": [
       "\n",
       "        <div id=\"mag3N2qYTkgHUExjK7LNUW\"></div>\n",
       "        <script>netpixi.call('mag3N2qYTkgHUExjK7LNUW', 'kMevSyjrf3B8vGoFZ2Jz4A', 'changeGraph', 'eyJpZCI6IDI4LCAidHlwZSI6ICJ2ZXJ0ZXgiLCAicHJvcHMiOiB7InNpemUiOiA0Mi42NjY2NjY2NjY2NjY2NjR9fQo=');</script>\n",
       "    "
      ],
      "text/plain": [
       "<IPython.core.display.HTML object>"
      ]
     },
     "metadata": {},
     "output_type": "display_data"
    },
    {
     "data": {
      "text/html": [
       "\n",
       "        <div id=\"ceZnszS2SBzNuTFV8VqGDw\"></div>\n",
       "        <script>netpixi.call('ceZnszS2SBzNuTFV8VqGDw', 'kMevSyjrf3B8vGoFZ2Jz4A', 'changeGraph', 'eyJpZCI6IDkwLCAidHlwZSI6ICJ2ZXJ0ZXgiLCAicHJvcHMiOiB7ImNvbG9yIjogMTY3MTE2ODB9fQo=');</script>\n",
       "    "
      ],
      "text/plain": [
       "<IPython.core.display.HTML object>"
      ]
     },
     "metadata": {},
     "output_type": "display_data"
    },
    {
     "data": {
      "text/html": [
       "\n",
       "        <div id=\"cBd5vAMbMBEqWGettTS5eq\"></div>\n",
       "        <script>netpixi.call('cBd5vAMbMBEqWGettTS5eq', 'kMevSyjrf3B8vGoFZ2Jz4A', 'changeGraph', 'eyJpZCI6IDI5LCAidHlwZSI6ICJ2ZXJ0ZXgiLCAicHJvcHMiOiB7InNpemUiOiAxNy41NzMyMjE3NTczMjIxNzN9fQo=');</script>\n",
       "    "
      ],
      "text/plain": [
       "<IPython.core.display.HTML object>"
      ]
     },
     "metadata": {},
     "output_type": "display_data"
    },
    {
     "data": {
      "text/html": [
       "\n",
       "        <div id=\"EX6RVmmZJqA5PKvkSjMgYJ\"></div>\n",
       "        <script>netpixi.call('EX6RVmmZJqA5PKvkSjMgYJ', 'kMevSyjrf3B8vGoFZ2Jz4A', 'changeGraph', 'eyJpZCI6IDY1LCAidHlwZSI6ICJ2ZXJ0ZXgiLCAicHJvcHMiOiB7ImNvbG9yIjogMTY3MTE2ODB9fQo=');</script>\n",
       "    "
      ],
      "text/plain": [
       "<IPython.core.display.HTML object>"
      ]
     },
     "metadata": {},
     "output_type": "display_data"
    },
    {
     "data": {
      "text/html": [
       "\n",
       "        <div id=\"BaszwDs7XhcwCWBUNfzthN\"></div>\n",
       "        <script>netpixi.call('BaszwDs7XhcwCWBUNfzthN', 'kMevSyjrf3B8vGoFZ2Jz4A', 'changeGraph', 'eyJpZCI6IDMwLCAidHlwZSI6ICJ2ZXJ0ZXgiLCAicHJvcHMiOiB7InNpemUiOiAxOS41ODE1ODk5NTgxNTg5OTN9fQo=');</script>\n",
       "    "
      ],
      "text/plain": [
       "<IPython.core.display.HTML object>"
      ]
     },
     "metadata": {},
     "output_type": "display_data"
    },
    {
     "data": {
      "text/html": [
       "\n",
       "        <div id=\"EsUcAamRZ67KSfYcgX4quc\"></div>\n",
       "        <script>netpixi.call('EsUcAamRZ67KSfYcgX4quc', 'kMevSyjrf3B8vGoFZ2Jz4A', 'changeGraph', 'eyJpZCI6IDc3LCAidHlwZSI6ICJ2ZXJ0ZXgiLCAicHJvcHMiOiB7ImNvbG9yIjogMTY3MTE2ODB9fQo=');</script>\n",
       "    "
      ],
      "text/plain": [
       "<IPython.core.display.HTML object>"
      ]
     },
     "metadata": {},
     "output_type": "display_data"
    },
    {
     "data": {
      "text/html": [
       "\n",
       "        <div id=\"Yvte5BRmcK99V8zXqyRD9X\"></div>\n",
       "        <script>netpixi.call('Yvte5BRmcK99V8zXqyRD9X', 'kMevSyjrf3B8vGoFZ2Jz4A', 'changeGraph', 'eyJpZCI6IDMxLCAidHlwZSI6ICJ2ZXJ0ZXgiLCAicHJvcHMiOiB7InNpemUiOiA0Ny4zMzMzMzMzMzMzMzMzMzZ9fQo=');</script>\n",
       "    "
      ],
      "text/plain": [
       "<IPython.core.display.HTML object>"
      ]
     },
     "metadata": {},
     "output_type": "display_data"
    },
    {
     "data": {
      "text/html": [
       "\n",
       "        <div id=\"QLmjR4cEnz2vWykiLjuXGe\"></div>\n",
       "        <script>netpixi.call('QLmjR4cEnz2vWykiLjuXGe', 'kMevSyjrf3B8vGoFZ2Jz4A', 'changeGraph', 'eyJpZCI6IDczLCAidHlwZSI6ICJ2ZXJ0ZXgiLCAicHJvcHMiOiB7ImNvbG9yIjogMTY3MTE2ODB9fQo=');</script>\n",
       "    "
      ],
      "text/plain": [
       "<IPython.core.display.HTML object>"
      ]
     },
     "metadata": {},
     "output_type": "display_data"
    },
    {
     "data": {
      "text/html": [
       "\n",
       "        <div id=\"HKxEcifnywSeiPUQHqznnH\"></div>\n",
       "        <script>netpixi.call('HKxEcifnywSeiPUQHqznnH', 'kMevSyjrf3B8vGoFZ2Jz4A', 'changeGraph', 'eyJpZCI6IDMyLCAidHlwZSI6ICJ2ZXJ0ZXgiLCAicHJvcHMiOiB7InNpemUiOiAxMi44ODcwMjkyODg3MDI5Mjh9fQo=');</script>\n",
       "    "
      ],
      "text/plain": [
       "<IPython.core.display.HTML object>"
      ]
     },
     "metadata": {},
     "output_type": "display_data"
    },
    {
     "data": {
      "text/html": [
       "\n",
       "        <div id=\"o8t8UQR6g9PnbyTtbF2bbZ\"></div>\n",
       "        <script>netpixi.call('o8t8UQR6g9PnbyTtbF2bbZ', 'kMevSyjrf3B8vGoFZ2Jz4A', 'changeGraph', 'eyJpZCI6IDcwLCAidHlwZSI6ICJ2ZXJ0ZXgiLCAicHJvcHMiOiB7ImNvbG9yIjogMTY3MTE2ODB9fQo=');</script>\n",
       "    "
      ],
      "text/plain": [
       "<IPython.core.display.HTML object>"
      ]
     },
     "metadata": {},
     "output_type": "display_data"
    },
    {
     "data": {
      "text/html": [
       "\n",
       "        <div id=\"mpWdTaV3gyDuVodVpdSV22\"></div>\n",
       "        <script>netpixi.call('mpWdTaV3gyDuVodVpdSV22', 'kMevSyjrf3B8vGoFZ2Jz4A', 'changeGraph', 'eyJpZCI6IDMzLCAidHlwZSI6ICJ2ZXJ0ZXgiLCAicHJvcHMiOiB7InNpemUiOiAxNS41MjMwMTI1NTIzMDEyNTV9fQo=');</script>\n",
       "    "
      ],
      "text/plain": [
       "<IPython.core.display.HTML object>"
      ]
     },
     "metadata": {},
     "output_type": "display_data"
    },
    {
     "data": {
      "text/html": [
       "\n",
       "        <div id=\"79uuKxhjZ4sZG6b3FMki2E\"></div>\n",
       "        <script>netpixi.call('79uuKxhjZ4sZG6b3FMki2E', 'kMevSyjrf3B8vGoFZ2Jz4A', 'changeGraph', 'eyJpZCI6IDgzLCAidHlwZSI6ICJ2ZXJ0ZXgiLCAicHJvcHMiOiB7ImNvbG9yIjogMTY3MTE2ODB9fQo=');</script>\n",
       "    "
      ],
      "text/plain": [
       "<IPython.core.display.HTML object>"
      ]
     },
     "metadata": {},
     "output_type": "display_data"
    },
    {
     "data": {
      "text/html": [
       "\n",
       "        <div id=\"gFJVkXxVSTR7paQEKLPyxb\"></div>\n",
       "        <script>netpixi.call('gFJVkXxVSTR7paQEKLPyxb', 'kMevSyjrf3B8vGoFZ2Jz4A', 'changeGraph', 'eyJpZCI6IDM0LCAidHlwZSI6ICJ2ZXJ0ZXgiLCAicHJvcHMiOiB7InNpemUiOiAxNy4xNTQ4MTE3MTU0ODExN319Cg==');</script>\n",
       "    "
      ],
      "text/plain": [
       "<IPython.core.display.HTML object>"
      ]
     },
     "metadata": {},
     "output_type": "display_data"
    },
    {
     "data": {
      "text/html": [
       "\n",
       "        <div id=\"9AvuzngEJt5CHTpN3NQ8Yh\"></div>\n",
       "        <script>netpixi.call('9AvuzngEJt5CHTpN3NQ8Yh', 'kMevSyjrf3B8vGoFZ2Jz4A', 'changeGraph', 'eyJpZCI6IDc5LCAidHlwZSI6ICJ2ZXJ0ZXgiLCAicHJvcHMiOiB7ImNvbG9yIjogMTY3MTE2ODB9fQo=');</script>\n",
       "    "
      ],
      "text/plain": [
       "<IPython.core.display.HTML object>"
      ]
     },
     "metadata": {},
     "output_type": "display_data"
    },
    {
     "data": {
      "text/html": [
       "\n",
       "        <div id=\"H66NM7fjV4pgmKsXJNpLTC\"></div>\n",
       "        <script>netpixi.call('H66NM7fjV4pgmKsXJNpLTC', 'kMevSyjrf3B8vGoFZ2Jz4A', 'changeGraph', 'eyJpZCI6IDM1LCAidHlwZSI6ICJ2ZXJ0ZXgiLCAicHJvcHMiOiB7InNpemUiOiAxOC4wNzUzMTM4MDc1MzEzOH19Cg==');</script>\n",
       "    "
      ],
      "text/plain": [
       "<IPython.core.display.HTML object>"
      ]
     },
     "metadata": {},
     "output_type": "display_data"
    },
    {
     "data": {
      "text/html": [
       "\n",
       "        <div id=\"m5dr2at8VTAdq6i5LRrnXG\"></div>\n",
       "        <script>netpixi.call('m5dr2at8VTAdq6i5LRrnXG', 'kMevSyjrf3B8vGoFZ2Jz4A', 'changeGraph', 'eyJpZCI6IDc5LCAidHlwZSI6ICJ2ZXJ0ZXgiLCAicHJvcHMiOiB7ImNvbG9yIjogMTY3MTE2ODB9fQo=');</script>\n",
       "    "
      ],
      "text/plain": [
       "<IPython.core.display.HTML object>"
      ]
     },
     "metadata": {},
     "output_type": "display_data"
    },
    {
     "data": {
      "text/html": [
       "\n",
       "        <div id=\"HfhEBNqBJmW8hGfcnpRF7i\"></div>\n",
       "        <script>netpixi.call('HfhEBNqBJmW8hGfcnpRF7i', 'kMevSyjrf3B8vGoFZ2Jz4A', 'changeGraph', 'eyJpZCI6IDM2LCAidHlwZSI6ICJ2ZXJ0ZXgiLCAicHJvcHMiOiB7InNpemUiOiAxMC4wNDE4NDEwMDQxODQxfX0K');</script>\n",
       "    "
      ],
      "text/plain": [
       "<IPython.core.display.HTML object>"
      ]
     },
     "metadata": {},
     "output_type": "display_data"
    },
    {
     "data": {
      "text/html": [
       "\n",
       "        <div id=\"hubs2AZioFzhoogyVptxTb\"></div>\n",
       "        <script>netpixi.call('hubs2AZioFzhoogyVptxTb', 'kMevSyjrf3B8vGoFZ2Jz4A', 'changeGraph', 'eyJpZCI6IDY4LCAidHlwZSI6ICJ2ZXJ0ZXgiLCAicHJvcHMiOiB7ImNvbG9yIjogMTY3MTE2ODB9fQo=');</script>\n",
       "    "
      ],
      "text/plain": [
       "<IPython.core.display.HTML object>"
      ]
     },
     "metadata": {},
     "output_type": "display_data"
    },
    {
     "data": {
      "text/html": [
       "\n",
       "        <div id=\"L5gT7dx7Ae4ynnBoqSqVnk\"></div>\n",
       "        <script>netpixi.call('L5gT7dx7Ae4ynnBoqSqVnk', 'kMevSyjrf3B8vGoFZ2Jz4A', 'changeGraph', 'eyJpZCI6IDM3LCAidHlwZSI6ICJ2ZXJ0ZXgiLCAicHJvcHMiOiB7InNpemUiOiAxOC40MTAwNDE4NDEwMDQxODN9fQo=');</script>\n",
       "    "
      ],
      "text/plain": [
       "<IPython.core.display.HTML object>"
      ]
     },
     "metadata": {},
     "output_type": "display_data"
    },
    {
     "data": {
      "text/html": [
       "\n",
       "        <div id=\"jo35b2CnCwjYxxyvZJHsdt\"></div>\n",
       "        <script>netpixi.call('jo35b2CnCwjYxxyvZJHsdt', 'kMevSyjrf3B8vGoFZ2Jz4A', 'changeGraph', 'eyJpZCI6IDc5LCAidHlwZSI6ICJ2ZXJ0ZXgiLCAicHJvcHMiOiB7ImNvbG9yIjogMTY3MTE2ODB9fQo=');</script>\n",
       "    "
      ],
      "text/plain": [
       "<IPython.core.display.HTML object>"
      ]
     },
     "metadata": {},
     "output_type": "display_data"
    },
    {
     "data": {
      "text/html": [
       "\n",
       "        <div id=\"Ushc58byAfHTdhPRBwUffp\"></div>\n",
       "        <script>netpixi.call('Ushc58byAfHTdhPRBwUffp', 'kMevSyjrf3B8vGoFZ2Jz4A', 'changeGraph', 'eyJpZCI6IDM4LCAidHlwZSI6ICJ2ZXJ0ZXgiLCAicHJvcHMiOiB7InNpemUiOiA0NS41fX0K');</script>\n",
       "    "
      ],
      "text/plain": [
       "<IPython.core.display.HTML object>"
      ]
     },
     "metadata": {},
     "output_type": "display_data"
    },
    {
     "data": {
      "text/html": [
       "\n",
       "        <div id=\"aMh9ae53UALMhLArNZYSqi\"></div>\n",
       "        <script>netpixi.call('aMh9ae53UALMhLArNZYSqi', 'kMevSyjrf3B8vGoFZ2Jz4A', 'changeGraph', 'eyJpZCI6IDczLCAidHlwZSI6ICJ2ZXJ0ZXgiLCAicHJvcHMiOiB7ImNvbG9yIjogMTY3MTE2ODB9fQo=');</script>\n",
       "    "
      ],
      "text/plain": [
       "<IPython.core.display.HTML object>"
      ]
     },
     "metadata": {},
     "output_type": "display_data"
    },
    {
     "data": {
      "text/html": [
       "\n",
       "        <div id=\"GUVQqf5W9MwzeLz2S6nDeK\"></div>\n",
       "        <script>netpixi.call('GUVQqf5W9MwzeLz2S6nDeK', 'kMevSyjrf3B8vGoFZ2Jz4A', 'changeGraph', 'eyJpZCI6IDM5LCAidHlwZSI6ICJ2ZXJ0ZXgiLCAicHJvcHMiOiB7InNpemUiOiAxMC4xNjczNjQwMTY3MzY0MDJ9fQo=');</script>\n",
       "    "
      ],
      "text/plain": [
       "<IPython.core.display.HTML object>"
      ]
     },
     "metadata": {},
     "output_type": "display_data"
    },
    {
     "data": {
      "text/html": [
       "\n",
       "        <div id=\"mKGta9UPWVA3a2YaBGB7VQ\"></div>\n",
       "        <script>netpixi.call('mKGta9UPWVA3a2YaBGB7VQ', 'kMevSyjrf3B8vGoFZ2Jz4A', 'changeGraph', 'eyJpZCI6IDczLCAidHlwZSI6ICJ2ZXJ0ZXgiLCAicHJvcHMiOiB7ImNvbG9yIjogMTY3MTE2ODB9fQo=');</script>\n",
       "    "
      ],
      "text/plain": [
       "<IPython.core.display.HTML object>"
      ]
     },
     "metadata": {},
     "output_type": "display_data"
    },
    {
     "data": {
      "text/html": [
       "\n",
       "        <div id=\"RNDQnCM7HUpnspV5khcFdw\"></div>\n",
       "        <script>netpixi.call('RNDQnCM7HUpnspV5khcFdw', 'kMevSyjrf3B8vGoFZ2Jz4A', 'changeGraph', 'eyJpZCI6IDQwLCAidHlwZSI6ICJ2ZXJ0ZXgiLCAicHJvcHMiOiB7InNpemUiOiAxNi4xNTA2Mjc2MTUwNjI3Nn19Cg==');</script>\n",
       "    "
      ],
      "text/plain": [
       "<IPython.core.display.HTML object>"
      ]
     },
     "metadata": {},
     "output_type": "display_data"
    },
    {
     "data": {
      "text/html": [
       "\n",
       "        <div id=\"auFRAM3oYPtPfyeAmZqWar\"></div>\n",
       "        <script>netpixi.call('auFRAM3oYPtPfyeAmZqWar', 'kMevSyjrf3B8vGoFZ2Jz4A', 'changeGraph', 'eyJpZCI6IDg0LCAidHlwZSI6ICJ2ZXJ0ZXgiLCAicHJvcHMiOiB7ImNvbG9yIjogMTY3MTE2ODB9fQo=');</script>\n",
       "    "
      ],
      "text/plain": [
       "<IPython.core.display.HTML object>"
      ]
     },
     "metadata": {},
     "output_type": "display_data"
    },
    {
     "data": {
      "text/html": [
       "\n",
       "        <div id=\"FaiviAQ56kYnrB889gqwKz\"></div>\n",
       "        <script>netpixi.call('FaiviAQ56kYnrB889gqwKz', 'kMevSyjrf3B8vGoFZ2Jz4A', 'changeGraph', 'eyJpZCI6IDQxLCAidHlwZSI6ICJ2ZXJ0ZXgiLCAicHJvcHMiOiB7InNpemUiOiAxNS4wMjA5MjA1MDIwOTIwNX19Cg==');</script>\n",
       "    "
      ],
      "text/plain": [
       "<IPython.core.display.HTML object>"
      ]
     },
     "metadata": {},
     "output_type": "display_data"
    },
    {
     "data": {
      "text/html": [
       "\n",
       "        <div id=\"LrjePZ6ZcYsrS8XFi5jp88\"></div>\n",
       "        <script>netpixi.call('LrjePZ6ZcYsrS8XFi5jp88', 'kMevSyjrf3B8vGoFZ2Jz4A', 'changeGraph', 'eyJpZCI6IDgxLCAidHlwZSI6ICJ2ZXJ0ZXgiLCAicHJvcHMiOiB7ImNvbG9yIjogMTY3MTE2ODB9fQo=');</script>\n",
       "    "
      ],
      "text/plain": [
       "<IPython.core.display.HTML object>"
      ]
     },
     "metadata": {},
     "output_type": "display_data"
    },
    {
     "data": {
      "text/html": [
       "\n",
       "        <div id=\"B9MBUWXBpto4s3hKygszwV\"></div>\n",
       "        <script>netpixi.call('B9MBUWXBpto4s3hKygszwV', 'kMevSyjrf3B8vGoFZ2Jz4A', 'changeGraph', 'eyJpZCI6IDQyLCAidHlwZSI6ICJ2ZXJ0ZXgiLCAicHJvcHMiOiB7InNpemUiOiAxNy4wMjkyODg3MDI5Mjg4N319Cg==');</script>\n",
       "    "
      ],
      "text/plain": [
       "<IPython.core.display.HTML object>"
      ]
     },
     "metadata": {},
     "output_type": "display_data"
    },
    {
     "data": {
      "text/html": [
       "\n",
       "        <div id=\"9B26ruikHyVXLMZhykpGw6\"></div>\n",
       "        <script>netpixi.call('9B26ruikHyVXLMZhykpGw6', 'kMevSyjrf3B8vGoFZ2Jz4A', 'changeGraph', 'eyJpZCI6IDc4LCAidHlwZSI6ICJ2ZXJ0ZXgiLCAicHJvcHMiOiB7ImNvbG9yIjogMTY3MTE2ODB9fQo=');</script>\n",
       "    "
      ],
      "text/plain": [
       "<IPython.core.display.HTML object>"
      ]
     },
     "metadata": {},
     "output_type": "display_data"
    },
    {
     "data": {
      "text/html": [
       "\n",
       "        <div id=\"5gfgYpzwF7kat4H2wYcUCo\"></div>\n",
       "        <script>netpixi.call('5gfgYpzwF7kat4H2wYcUCo', 'kMevSyjrf3B8vGoFZ2Jz4A', 'changeGraph', 'eyJpZCI6IDQzLCAidHlwZSI6ICJ2ZXJ0ZXgiLCAicHJvcHMiOiB7InNpemUiOiAxMy4wOTYyMzQzMDk2MjM0M319Cg==');</script>\n",
       "    "
      ],
      "text/plain": [
       "<IPython.core.display.HTML object>"
      ]
     },
     "metadata": {},
     "output_type": "display_data"
    },
    {
     "data": {
      "text/html": [
       "\n",
       "        <div id=\"J6m2EUEtvUQm2Sj4CXtznQ\"></div>\n",
       "        <script>netpixi.call('J6m2EUEtvUQm2Sj4CXtznQ', 'kMevSyjrf3B8vGoFZ2Jz4A', 'changeGraph', 'eyJpZCI6IDc3LCAidHlwZSI6ICJ2ZXJ0ZXgiLCAicHJvcHMiOiB7ImNvbG9yIjogMTY3MTE2ODB9fQo=');</script>\n",
       "    "
      ],
      "text/plain": [
       "<IPython.core.display.HTML object>"
      ]
     },
     "metadata": {},
     "output_type": "display_data"
    },
    {
     "data": {
      "text/html": [
       "\n",
       "        <div id=\"msZFxCfaWoy99AKTCxdqAo\"></div>\n",
       "        <script>netpixi.call('msZFxCfaWoy99AKTCxdqAo', 'kMevSyjrf3B8vGoFZ2Jz4A', 'changeGraph', 'eyJpZCI6IDQ0LCAidHlwZSI6ICJ2ZXJ0ZXgiLCAicHJvcHMiOiB7InNpemUiOiAxNi45NDU2MDY2OTQ1NjA2NjZ9fQo=');</script>\n",
       "    "
      ],
      "text/plain": [
       "<IPython.core.display.HTML object>"
      ]
     },
     "metadata": {},
     "output_type": "display_data"
    },
    {
     "data": {
      "text/html": [
       "\n",
       "        <div id=\"mYKB9XaRQ9wQjdVLFbPKhG\"></div>\n",
       "        <script>netpixi.call('mYKB9XaRQ9wQjdVLFbPKhG', 'kMevSyjrf3B8vGoFZ2Jz4A', 'changeGraph', 'eyJpZCI6IDgwLCAidHlwZSI6ICJ2ZXJ0ZXgiLCAicHJvcHMiOiB7ImNvbG9yIjogMTY3MTE2ODB9fQo=');</script>\n",
       "    "
      ],
      "text/plain": [
       "<IPython.core.display.HTML object>"
      ]
     },
     "metadata": {},
     "output_type": "display_data"
    },
    {
     "data": {
      "text/html": [
       "\n",
       "        <div id=\"8TTqZRdgid8beuoF4845bB\"></div>\n",
       "        <script>netpixi.call('8TTqZRdgid8beuoF4845bB', 'kMevSyjrf3B8vGoFZ2Jz4A', 'changeGraph', 'eyJpZCI6IDQ1LCAidHlwZSI6ICJ2ZXJ0ZXgiLCAicHJvcHMiOiB7InNpemUiOiAxOC4xMTcxNTQ4MTE3MTU0OH19Cg==');</script>\n",
       "    "
      ],
      "text/plain": [
       "<IPython.core.display.HTML object>"
      ]
     },
     "metadata": {},
     "output_type": "display_data"
    },
    {
     "data": {
      "text/html": [
       "\n",
       "        <div id=\"MPEjk45UcSD4hkzYELNLHQ\"></div>\n",
       "        <script>netpixi.call('MPEjk45UcSD4hkzYELNLHQ', 'kMevSyjrf3B8vGoFZ2Jz4A', 'changeGraph', 'eyJpZCI6IDgwLCAidHlwZSI6ICJ2ZXJ0ZXgiLCAicHJvcHMiOiB7ImNvbG9yIjogMTY3MTE2ODB9fQo=');</script>\n",
       "    "
      ],
      "text/plain": [
       "<IPython.core.display.HTML object>"
      ]
     },
     "metadata": {},
     "output_type": "display_data"
    },
    {
     "data": {
      "text/html": [
       "\n",
       "        <div id=\"gyjVGTWcSqPEmY75aJh4nb\"></div>\n",
       "        <script>netpixi.call('gyjVGTWcSqPEmY75aJh4nb', 'kMevSyjrf3B8vGoFZ2Jz4A', 'changeGraph', 'eyJpZCI6IDQ2LCAidHlwZSI6ICJ2ZXJ0ZXgiLCAicHJvcHMiOiB7InNpemUiOiAxOS44MzI2MzU5ODMyNjM2fX0K');</script>\n",
       "    "
      ],
      "text/plain": [
       "<IPython.core.display.HTML object>"
      ]
     },
     "metadata": {},
     "output_type": "display_data"
    },
    {
     "data": {
      "text/html": [
       "\n",
       "        <div id=\"EianZikbNssu9qq3WiCWhD\"></div>\n",
       "        <script>netpixi.call('EianZikbNssu9qq3WiCWhD', 'kMevSyjrf3B8vGoFZ2Jz4A', 'changeGraph', 'eyJpZCI6IDgzLCAidHlwZSI6ICJ2ZXJ0ZXgiLCAicHJvcHMiOiB7ImNvbG9yIjogMTY3MTE2ODB9fQo=');</script>\n",
       "    "
      ],
      "text/plain": [
       "<IPython.core.display.HTML object>"
      ]
     },
     "metadata": {},
     "output_type": "display_data"
    },
    {
     "data": {
      "text/html": [
       "\n",
       "        <div id=\"ELrQ9SHW542Pi9id4XZjai\"></div>\n",
       "        <script>netpixi.call('ELrQ9SHW542Pi9id4XZjai', 'kMevSyjrf3B8vGoFZ2Jz4A', 'changeGraph', 'eyJpZCI6IDQ3LCAidHlwZSI6ICJ2ZXJ0ZXgiLCAicHJvcHMiOiB7InNpemUiOiAxOC42NjEwODc4NjYxMDg3ODd9fQo=');</script>\n",
       "    "
      ],
      "text/plain": [
       "<IPython.core.display.HTML object>"
      ]
     },
     "metadata": {},
     "output_type": "display_data"
    },
    {
     "data": {
      "text/html": [
       "\n",
       "        <div id=\"E7eaFAeSL7YN6eAqYLP6gE\"></div>\n",
       "        <script>netpixi.call('E7eaFAeSL7YN6eAqYLP6gE', 'kMevSyjrf3B8vGoFZ2Jz4A', 'changeGraph', 'eyJpZCI6IDg0LCAidHlwZSI6ICJ2ZXJ0ZXgiLCAicHJvcHMiOiB7ImNvbG9yIjogMTY3MTE2ODB9fQo=');</script>\n",
       "    "
      ],
      "text/plain": [
       "<IPython.core.display.HTML object>"
      ]
     },
     "metadata": {},
     "output_type": "display_data"
    },
    {
     "data": {
      "text/html": [
       "\n",
       "        <div id=\"U3fp9hfsShgS8XNsg5j7f8\"></div>\n",
       "        <script>netpixi.call('U3fp9hfsShgS8XNsg5j7f8', 'kMevSyjrf3B8vGoFZ2Jz4A', 'changeGraph', 'eyJpZCI6IDQ4LCAidHlwZSI6ICJ2ZXJ0ZXgiLCAicHJvcHMiOiB7InNpemUiOiAxNC4xNDIyNTk0MTQyMjU5NH19Cg==');</script>\n",
       "    "
      ],
      "text/plain": [
       "<IPython.core.display.HTML object>"
      ]
     },
     "metadata": {},
     "output_type": "display_data"
    },
    {
     "data": {
      "text/html": [
       "\n",
       "        <div id=\"gF8sFRtj8RtpJRyUu895Cb\"></div>\n",
       "        <script>netpixi.call('gF8sFRtj8RtpJRyUu895Cb', 'kMevSyjrf3B8vGoFZ2Jz4A', 'changeGraph', 'eyJpZCI6IDczLCAidHlwZSI6ICJ2ZXJ0ZXgiLCAicHJvcHMiOiB7ImNvbG9yIjogMTY3MTE2ODB9fQo=');</script>\n",
       "    "
      ],
      "text/plain": [
       "<IPython.core.display.HTML object>"
      ]
     },
     "metadata": {},
     "output_type": "display_data"
    },
    {
     "data": {
      "text/html": [
       "\n",
       "        <div id=\"6dsFxziqFjKC6DTXwyEPrJ\"></div>\n",
       "        <script>netpixi.call('6dsFxziqFjKC6DTXwyEPrJ', 'kMevSyjrf3B8vGoFZ2Jz4A', 'changeGraph', 'eyJpZCI6IDQ5LCAidHlwZSI6ICJ2ZXJ0ZXgiLCAicHJvcHMiOiB7InNpemUiOiAxNy4xMTI5NzA3MTEyOTcwN319Cg==');</script>\n",
       "    "
      ],
      "text/plain": [
       "<IPython.core.display.HTML object>"
      ]
     },
     "metadata": {},
     "output_type": "display_data"
    },
    {
     "data": {
      "text/html": [
       "\n",
       "        <div id=\"ZWEZCmvhJivevS5aC2vNCu\"></div>\n",
       "        <script>netpixi.call('ZWEZCmvhJivevS5aC2vNCu', 'kMevSyjrf3B8vGoFZ2Jz4A', 'changeGraph', 'eyJpZCI6IDg0LCAidHlwZSI6ICJ2ZXJ0ZXgiLCAicHJvcHMiOiB7ImNvbG9yIjogMTY3MTE2ODB9fQo=');</script>\n",
       "    "
      ],
      "text/plain": [
       "<IPython.core.display.HTML object>"
      ]
     },
     "metadata": {},
     "output_type": "display_data"
    },
    {
     "data": {
      "text/html": [
       "\n",
       "        <div id=\"3QaeS6n8UZXeAGspvHsxiJ\"></div>\n",
       "        <script>netpixi.call('3QaeS6n8UZXeAGspvHsxiJ', 'kMevSyjrf3B8vGoFZ2Jz4A', 'changeGraph', 'eyJpZCI6IDUwLCAidHlwZSI6ICJ2ZXJ0ZXgiLCAicHJvcHMiOiB7InNpemUiOiAxMC4yOTI4ODcwMjkyODg3MDN9fQo=');</script>\n",
       "    "
      ],
      "text/plain": [
       "<IPython.core.display.HTML object>"
      ]
     },
     "metadata": {},
     "output_type": "display_data"
    },
    {
     "data": {
      "text/html": [
       "\n",
       "        <div id=\"SeCcrt9FKJrj5mSH3hzdqW\"></div>\n",
       "        <script>netpixi.call('SeCcrt9FKJrj5mSH3hzdqW', 'kMevSyjrf3B8vGoFZ2Jz4A', 'changeGraph', 'eyJpZCI6IDgwLCAidHlwZSI6ICJ2ZXJ0ZXgiLCAicHJvcHMiOiB7ImNvbG9yIjogMTY3MTE2ODB9fQo=');</script>\n",
       "    "
      ],
      "text/plain": [
       "<IPython.core.display.HTML object>"
      ]
     },
     "metadata": {},
     "output_type": "display_data"
    },
    {
     "data": {
      "text/html": [
       "\n",
       "        <div id=\"Z7f7ivtmqHM5PdhVhyKHf9\"></div>\n",
       "        <script>netpixi.call('Z7f7ivtmqHM5PdhVhyKHf9', 'kMevSyjrf3B8vGoFZ2Jz4A', 'changeGraph', 'eyJpZCI6IDUxLCAidHlwZSI6ICJ2ZXJ0ZXgiLCAicHJvcHMiOiB7InNpemUiOiAxNS4yNzE5NjY1MjcxOTY2NTJ9fQo=');</script>\n",
       "    "
      ],
      "text/plain": [
       "<IPython.core.display.HTML object>"
      ]
     },
     "metadata": {},
     "output_type": "display_data"
    },
    {
     "data": {
      "text/html": [
       "\n",
       "        <div id=\"kCsgohfNdJyd9n9E4iMUKL\"></div>\n",
       "        <script>netpixi.call('kCsgohfNdJyd9n9E4iMUKL', 'kMevSyjrf3B8vGoFZ2Jz4A', 'changeGraph', 'eyJpZCI6IDgwLCAidHlwZSI6ICJ2ZXJ0ZXgiLCAicHJvcHMiOiB7ImNvbG9yIjogMTY3MTE2ODB9fQo=');</script>\n",
       "    "
      ],
      "text/plain": [
       "<IPython.core.display.HTML object>"
      ]
     },
     "metadata": {},
     "output_type": "display_data"
    },
    {
     "data": {
      "text/html": [
       "\n",
       "        <div id=\"LDJ44v6Cou55A4XixrEzaV\"></div>\n",
       "        <script>netpixi.call('LDJ44v6Cou55A4XixrEzaV', 'kMevSyjrf3B8vGoFZ2Jz4A', 'changeGraph', 'eyJpZCI6IDUyLCAidHlwZSI6ICJ2ZXJ0ZXgiLCAicHJvcHMiOiB7InNpemUiOiAxMy45NzQ4OTUzOTc0ODk1NH19Cg==');</script>\n",
       "    "
      ],
      "text/plain": [
       "<IPython.core.display.HTML object>"
      ]
     },
     "metadata": {},
     "output_type": "display_data"
    },
    {
     "data": {
      "text/html": [
       "\n",
       "        <div id=\"SRKhEYemjBLdtcX6WNyRom\"></div>\n",
       "        <script>netpixi.call('SRKhEYemjBLdtcX6WNyRom', 'kMevSyjrf3B8vGoFZ2Jz4A', 'changeGraph', 'eyJpZCI6IDczLCAidHlwZSI6ICJ2ZXJ0ZXgiLCAicHJvcHMiOiB7ImNvbG9yIjogMTY3MTE2ODB9fQo=');</script>\n",
       "    "
      ],
      "text/plain": [
       "<IPython.core.display.HTML object>"
      ]
     },
     "metadata": {},
     "output_type": "display_data"
    },
    {
     "data": {
      "text/html": [
       "\n",
       "        <div id=\"crietAVAvANupVYiZaagrd\"></div>\n",
       "        <script>netpixi.call('crietAVAvANupVYiZaagrd', 'kMevSyjrf3B8vGoFZ2Jz4A', 'changeGraph', 'eyJpZCI6IDUzLCAidHlwZSI6ICJ2ZXJ0ZXgiLCAicHJvcHMiOiB7InNpemUiOiAxNy4zMjIxNzU3MzIyMTc1NzN9fQo=');</script>\n",
       "    "
      ],
      "text/plain": [
       "<IPython.core.display.HTML object>"
      ]
     },
     "metadata": {},
     "output_type": "display_data"
    },
    {
     "data": {
      "text/html": [
       "\n",
       "        <div id=\"iKbT3ZGxK7j8v7Q83kd4sz\"></div>\n",
       "        <script>netpixi.call('iKbT3ZGxK7j8v7Q83kd4sz', 'kMevSyjrf3B8vGoFZ2Jz4A', 'changeGraph', 'eyJpZCI6IDc1LCAidHlwZSI6ICJ2ZXJ0ZXgiLCAicHJvcHMiOiB7ImNvbG9yIjogMTY3MTE2ODB9fQo=');</script>\n",
       "    "
      ],
      "text/plain": [
       "<IPython.core.display.HTML object>"
      ]
     },
     "metadata": {},
     "output_type": "display_data"
    },
    {
     "data": {
      "text/html": [
       "\n",
       "        <div id=\"aAJwhNbbBHmobwM7DFHBdX\"></div>\n",
       "        <script>netpixi.call('aAJwhNbbBHmobwM7DFHBdX', 'kMevSyjrf3B8vGoFZ2Jz4A', 'changeGraph', 'eyJpZCI6IDU0LCAidHlwZSI6ICJ2ZXJ0ZXgiLCAicHJvcHMiOiB7InNpemUiOiA0Ny4wfX0K');</script>\n",
       "    "
      ],
      "text/plain": [
       "<IPython.core.display.HTML object>"
      ]
     },
     "metadata": {},
     "output_type": "display_data"
    },
    {
     "data": {
      "text/html": [
       "\n",
       "        <div id=\"HakTHjWuxbMzqaRwM3u2kV\"></div>\n",
       "        <script>netpixi.call('HakTHjWuxbMzqaRwM3u2kV', 'kMevSyjrf3B8vGoFZ2Jz4A', 'changeGraph', 'eyJpZCI6IDc1LCAidHlwZSI6ICJ2ZXJ0ZXgiLCAicHJvcHMiOiB7ImNvbG9yIjogMTY3MTE2ODB9fQo=');</script>\n",
       "    "
      ],
      "text/plain": [
       "<IPython.core.display.HTML object>"
      ]
     },
     "metadata": {},
     "output_type": "display_data"
    },
    {
     "data": {
      "text/html": [
       "\n",
       "        <div id=\"NP4WYi5F7PfDyReseFJJR9\"></div>\n",
       "        <script>netpixi.call('NP4WYi5F7PfDyReseFJJR9', 'kMevSyjrf3B8vGoFZ2Jz4A', 'changeGraph', 'eyJpZCI6IDU1LCAidHlwZSI6ICJ2ZXJ0ZXgiLCAicHJvcHMiOiB7InNpemUiOiAxMC43OTQ5NzkwNzk0OTc5MDh9fQo=');</script>\n",
       "    "
      ],
      "text/plain": [
       "<IPython.core.display.HTML object>"
      ]
     },
     "metadata": {},
     "output_type": "display_data"
    },
    {
     "data": {
      "text/html": [
       "\n",
       "        <div id=\"FxtVJrZ38wS4TPSc9rgNSn\"></div>\n",
       "        <script>netpixi.call('FxtVJrZ38wS4TPSc9rgNSn', 'kMevSyjrf3B8vGoFZ2Jz4A', 'changeGraph', 'eyJpZCI6IDg2LCAidHlwZSI6ICJ2ZXJ0ZXgiLCAicHJvcHMiOiB7ImNvbG9yIjogMTY3MTE2ODB9fQo=');</script>\n",
       "    "
      ],
      "text/plain": [
       "<IPython.core.display.HTML object>"
      ]
     },
     "metadata": {},
     "output_type": "display_data"
    },
    {
     "data": {
      "text/html": [
       "\n",
       "        <div id=\"EgkhSxa3hhvfe5dhLMPXHd\"></div>\n",
       "        <script>netpixi.call('EgkhSxa3hhvfe5dhLMPXHd', 'kMevSyjrf3B8vGoFZ2Jz4A', 'changeGraph', 'eyJpZCI6IDU2LCAidHlwZSI6ICJ2ZXJ0ZXgiLCAicHJvcHMiOiB7InNpemUiOiAxMC41MDIwOTIwNTAyMDkyMDV9fQo=');</script>\n",
       "    "
      ],
      "text/plain": [
       "<IPython.core.display.HTML object>"
      ]
     },
     "metadata": {},
     "output_type": "display_data"
    },
    {
     "data": {
      "text/html": [
       "\n",
       "        <div id=\"LbgyLFn98Gqs89ZpKqagYp\"></div>\n",
       "        <script>netpixi.call('LbgyLFn98Gqs89ZpKqagYp', 'kMevSyjrf3B8vGoFZ2Jz4A', 'changeGraph', 'eyJpZCI6IDgwLCAidHlwZSI6ICJ2ZXJ0ZXgiLCAicHJvcHMiOiB7ImNvbG9yIjogMTY3MTE2ODB9fQo=');</script>\n",
       "    "
      ],
      "text/plain": [
       "<IPython.core.display.HTML object>"
      ]
     },
     "metadata": {},
     "output_type": "display_data"
    },
    {
     "data": {
      "text/html": [
       "\n",
       "        <div id=\"PebhCmMUx764bjaveJAitd\"></div>\n",
       "        <script>netpixi.call('PebhCmMUx764bjaveJAitd', 'kMevSyjrf3B8vGoFZ2Jz4A', 'changeGraph', 'eyJpZCI6IDU3LCAidHlwZSI6ICJ2ZXJ0ZXgiLCAicHJvcHMiOiB7InNpemUiOiAxMi4xNzU3MzIyMTc1NzMyMjJ9fQo=');</script>\n",
       "    "
      ],
      "text/plain": [
       "<IPython.core.display.HTML object>"
      ]
     },
     "metadata": {},
     "output_type": "display_data"
    },
    {
     "data": {
      "text/html": [
       "\n",
       "        <div id=\"7xamwKYzamhjhUKdCwxPeY\"></div>\n",
       "        <script>netpixi.call('7xamwKYzamhjhUKdCwxPeY', 'kMevSyjrf3B8vGoFZ2Jz4A', 'changeGraph', 'eyJpZCI6IDY5LCAidHlwZSI6ICJ2ZXJ0ZXgiLCAicHJvcHMiOiB7ImNvbG9yIjogMTY3MTE2ODB9fQo=');</script>\n",
       "    "
      ],
      "text/plain": [
       "<IPython.core.display.HTML object>"
      ]
     },
     "metadata": {},
     "output_type": "display_data"
    },
    {
     "data": {
      "text/html": [
       "\n",
       "        <div id=\"baTEE4UPrayMNXGqarNZtM\"></div>\n",
       "        <script>netpixi.call('baTEE4UPrayMNXGqarNZtM', 'kMevSyjrf3B8vGoFZ2Jz4A', 'changeGraph', 'eyJpZCI6IDU4LCAidHlwZSI6ICJ2ZXJ0ZXgiLCAicHJvcHMiOiB7InNpemUiOiA0NC4xNjY2NjY2NjY2NjY2NjR9fQo=');</script>\n",
       "    "
      ],
      "text/plain": [
       "<IPython.core.display.HTML object>"
      ]
     },
     "metadata": {},
     "output_type": "display_data"
    },
    {
     "data": {
      "text/html": [
       "\n",
       "        <div id=\"JtaPunxqwcWxkEG6NJnKRg\"></div>\n",
       "        <script>netpixi.call('JtaPunxqwcWxkEG6NJnKRg', 'kMevSyjrf3B8vGoFZ2Jz4A', 'changeGraph', 'eyJpZCI6IDgxLCAidHlwZSI6ICJ2ZXJ0ZXgiLCAicHJvcHMiOiB7ImNvbG9yIjogMTY3MTE2ODB9fQo=');</script>\n",
       "    "
      ],
      "text/plain": [
       "<IPython.core.display.HTML object>"
      ]
     },
     "metadata": {},
     "output_type": "display_data"
    },
    {
     "data": {
      "text/html": [
       "\n",
       "        <div id=\"RpNKNsc755hauK5Zr4Ybgz\"></div>\n",
       "        <script>netpixi.call('RpNKNsc755hauK5Zr4Ybgz', 'kMevSyjrf3B8vGoFZ2Jz4A', 'changeGraph', 'eyJpZCI6IDU5LCAidHlwZSI6ICJ2ZXJ0ZXgiLCAicHJvcHMiOiB7InNpemUiOiAxMy40MzA5NjIzNDMwOTYyMzN9fQo=');</script>\n",
       "    "
      ],
      "text/plain": [
       "<IPython.core.display.HTML object>"
      ]
     },
     "metadata": {},
     "output_type": "display_data"
    },
    {
     "data": {
      "text/html": [
       "\n",
       "        <div id=\"CgojbwLxdUbtf76exzEdsg\"></div>\n",
       "        <script>netpixi.call('CgojbwLxdUbtf76exzEdsg', 'kMevSyjrf3B8vGoFZ2Jz4A', 'changeGraph', 'eyJpZCI6IDczLCAidHlwZSI6ICJ2ZXJ0ZXgiLCAicHJvcHMiOiB7ImNvbG9yIjogMTY3MTE2ODB9fQo=');</script>\n",
       "    "
      ],
      "text/plain": [
       "<IPython.core.display.HTML object>"
      ]
     },
     "metadata": {},
     "output_type": "display_data"
    },
    {
     "data": {
      "text/html": [
       "\n",
       "        <div id=\"fJrzPuehJLLLVBR5bJet7f\"></div>\n",
       "        <script>netpixi.call('fJrzPuehJLLLVBR5bJet7f', 'kMevSyjrf3B8vGoFZ2Jz4A', 'changeGraph', 'eyJpZCI6IDYwLCAidHlwZSI6ICJ2ZXJ0ZXgiLCAicHJvcHMiOiB7InNpemUiOiAxMS43OTkxNjMxNzk5MTYzMTh9fQo=');</script>\n",
       "    "
      ],
      "text/plain": [
       "<IPython.core.display.HTML object>"
      ]
     },
     "metadata": {},
     "output_type": "display_data"
    },
    {
     "data": {
      "text/html": [
       "\n",
       "        <div id=\"YL9JQ6vefkhM2kXRwUCZt7\"></div>\n",
       "        <script>netpixi.call('YL9JQ6vefkhM2kXRwUCZt7', 'kMevSyjrf3B8vGoFZ2Jz4A', 'changeGraph', 'eyJpZCI6IDc5LCAidHlwZSI6ICJ2ZXJ0ZXgiLCAicHJvcHMiOiB7ImNvbG9yIjogMTY3MTE2ODB9fQo=');</script>\n",
       "    "
      ],
      "text/plain": [
       "<IPython.core.display.HTML object>"
      ]
     },
     "metadata": {},
     "output_type": "display_data"
    },
    {
     "data": {
      "text/html": [
       "\n",
       "        <div id=\"dapzhFDeZZx7u6RydTg88a\"></div>\n",
       "        <script>netpixi.call('dapzhFDeZZx7u6RydTg88a', 'kMevSyjrf3B8vGoFZ2Jz4A', 'changeGraph', 'eyJpZCI6IDYxLCAidHlwZSI6ICJ2ZXJ0ZXgiLCAicHJvcHMiOiB7InNpemUiOiA0Ny42NjY2NjY2NjY2NjY2NjR9fQo=');</script>\n",
       "    "
      ],
      "text/plain": [
       "<IPython.core.display.HTML object>"
      ]
     },
     "metadata": {},
     "output_type": "display_data"
    },
    {
     "data": {
      "text/html": [
       "\n",
       "        <div id=\"73vvNDPZkdUwSnz8Yuaj5x\"></div>\n",
       "        <script>netpixi.call('73vvNDPZkdUwSnz8Yuaj5x', 'kMevSyjrf3B8vGoFZ2Jz4A', 'changeGraph', 'eyJpZCI6IDY4LCAidHlwZSI6ICJ2ZXJ0ZXgiLCAicHJvcHMiOiB7ImNvbG9yIjogMTY3MTE2ODB9fQo=');</script>\n",
       "    "
      ],
      "text/plain": [
       "<IPython.core.display.HTML object>"
      ]
     },
     "metadata": {},
     "output_type": "display_data"
    },
    {
     "data": {
      "text/html": [
       "\n",
       "        <div id=\"UsgHKCCpqxLQmwNv522rTk\"></div>\n",
       "        <script>netpixi.call('UsgHKCCpqxLQmwNv522rTk', 'kMevSyjrf3B8vGoFZ2Jz4A', 'changeGraph', 'eyJpZCI6IDYyLCAidHlwZSI6ICJ2ZXJ0ZXgiLCAicHJvcHMiOiB7InNpemUiOiAxOS4zMzA1NDM5MzMwNTQzOTN9fQo=');</script>\n",
       "    "
      ],
      "text/plain": [
       "<IPython.core.display.HTML object>"
      ]
     },
     "metadata": {},
     "output_type": "display_data"
    },
    {
     "data": {
      "text/html": [
       "\n",
       "        <div id=\"Dvp9b8cuq3938KQbGRu3ar\"></div>\n",
       "        <script>netpixi.call('Dvp9b8cuq3938KQbGRu3ar', 'kMevSyjrf3B8vGoFZ2Jz4A', 'changeGraph', 'eyJpZCI6IDgxLCAidHlwZSI6ICJ2ZXJ0ZXgiLCAicHJvcHMiOiB7ImNvbG9yIjogMTY3MTE2ODB9fQo=');</script>\n",
       "    "
      ],
      "text/plain": [
       "<IPython.core.display.HTML object>"
      ]
     },
     "metadata": {},
     "output_type": "display_data"
    },
    {
     "data": {
      "text/html": [
       "\n",
       "        <div id=\"Ym8W94FzJeF8JMR3MsSXPx\"></div>\n",
       "        <script>netpixi.call('Ym8W94FzJeF8JMR3MsSXPx', 'kMevSyjrf3B8vGoFZ2Jz4A', 'changeGraph', 'eyJpZCI6IDYzLCAidHlwZSI6ICJ2ZXJ0ZXgiLCAicHJvcHMiOiB7InNpemUiOiAxNC42NDQzNTE0NjQ0MzUxNDd9fQo=');</script>\n",
       "    "
      ],
      "text/plain": [
       "<IPython.core.display.HTML object>"
      ]
     },
     "metadata": {},
     "output_type": "display_data"
    },
    {
     "data": {
      "text/html": [
       "\n",
       "        <div id=\"5VTe5cFFYiTL8SbNgWCQox\"></div>\n",
       "        <script>netpixi.call('5VTe5cFFYiTL8SbNgWCQox', 'kMevSyjrf3B8vGoFZ2Jz4A', 'changeGraph', 'eyJpZCI6IDgyLCAidHlwZSI6ICJ2ZXJ0ZXgiLCAicHJvcHMiOiB7ImNvbG9yIjogMTY3MTE2ODB9fQo=');</script>\n",
       "    "
      ],
      "text/plain": [
       "<IPython.core.display.HTML object>"
      ]
     },
     "metadata": {},
     "output_type": "display_data"
    },
    {
     "data": {
      "text/html": [
       "\n",
       "        <div id=\"QcWEDdZcuHmjaWwLjvPPBk\"></div>\n",
       "        <script>netpixi.call('QcWEDdZcuHmjaWwLjvPPBk', 'kMevSyjrf3B8vGoFZ2Jz4A', 'changeGraph', 'eyJpZCI6IDY0LCAidHlwZSI6ICJ2ZXJ0ZXgiLCAicHJvcHMiOiB7InNpemUiOiAxNi4wMjUxMDQ2MDI1MTA0Nn19Cg==');</script>\n",
       "    "
      ],
      "text/plain": [
       "<IPython.core.display.HTML object>"
      ]
     },
     "metadata": {},
     "output_type": "display_data"
    },
    {
     "data": {
      "text/html": [
       "\n",
       "        <div id=\"cVwYNqMpE3VRv5mbqgyaia\"></div>\n",
       "        <script>netpixi.call('cVwYNqMpE3VRv5mbqgyaia', 'kMevSyjrf3B8vGoFZ2Jz4A', 'changeGraph', 'eyJpZCI6IDg1LCAidHlwZSI6ICJ2ZXJ0ZXgiLCAicHJvcHMiOiB7ImNvbG9yIjogMTY3MTE2ODB9fQo=');</script>\n",
       "    "
      ],
      "text/plain": [
       "<IPython.core.display.HTML object>"
      ]
     },
     "metadata": {},
     "output_type": "display_data"
    },
    {
     "data": {
      "text/html": [
       "\n",
       "        <div id=\"XAURL6ixMp5yGJPXXPuxeS\"></div>\n",
       "        <script>netpixi.call('XAURL6ixMp5yGJPXXPuxeS', 'kMevSyjrf3B8vGoFZ2Jz4A', 'changeGraph', 'eyJpZCI6IDY1LCAidHlwZSI6ICJ2ZXJ0ZXgiLCAicHJvcHMiOiB7InNpemUiOiAxOS43OTA3OTQ5NzkwNzk0OTd9fQo=');</script>\n",
       "    "
      ],
      "text/plain": [
       "<IPython.core.display.HTML object>"
      ]
     },
     "metadata": {},
     "output_type": "display_data"
    },
    {
     "data": {
      "text/html": [
       "\n",
       "        <div id=\"TN6hNdLe95Y6uEH9waU4a4\"></div>\n",
       "        <script>netpixi.call('TN6hNdLe95Y6uEH9waU4a4', 'kMevSyjrf3B8vGoFZ2Jz4A', 'changeGraph', 'eyJpZCI6IDc3LCAidHlwZSI6ICJ2ZXJ0ZXgiLCAicHJvcHMiOiB7ImNvbG9yIjogMTY3MTE2ODB9fQo=');</script>\n",
       "    "
      ],
      "text/plain": [
       "<IPython.core.display.HTML object>"
      ]
     },
     "metadata": {},
     "output_type": "display_data"
    },
    {
     "data": {
      "text/html": [
       "\n",
       "        <div id=\"9AEXvWdVEC6gakAvMdHvoi\"></div>\n",
       "        <script>netpixi.call('9AEXvWdVEC6gakAvMdHvoi', 'kMevSyjrf3B8vGoFZ2Jz4A', 'changeGraph', 'eyJpZCI6IDY2LCAidHlwZSI6ICJ2ZXJ0ZXgiLCAicHJvcHMiOiB7InNpemUiOiAxMS41ODk5NTgxNTg5OTU4MTd9fQo=');</script>\n",
       "    "
      ],
      "text/plain": [
       "<IPython.core.display.HTML object>"
      ]
     },
     "metadata": {},
     "output_type": "display_data"
    },
    {
     "data": {
      "text/html": [
       "\n",
       "        <div id=\"Pew3pEeKG799DgLtvTPnbe\"></div>\n",
       "        <script>netpixi.call('Pew3pEeKG799DgLtvTPnbe', 'kMevSyjrf3B8vGoFZ2Jz4A', 'changeGraph', 'eyJpZCI6IDc5LCAidHlwZSI6ICJ2ZXJ0ZXgiLCAicHJvcHMiOiB7ImNvbG9yIjogMTY3MTE2ODB9fQo=');</script>\n",
       "    "
      ],
      "text/plain": [
       "<IPython.core.display.HTML object>"
      ]
     },
     "metadata": {},
     "output_type": "display_data"
    },
    {
     "data": {
      "text/html": [
       "\n",
       "        <div id=\"34paWeNp8roaBGADADtbAj\"></div>\n",
       "        <script>netpixi.call('34paWeNp8roaBGADADtbAj', 'kMevSyjrf3B8vGoFZ2Jz4A', 'changeGraph', 'eyJpZCI6IDY3LCAidHlwZSI6ICJ2ZXJ0ZXgiLCAicHJvcHMiOiB7InNpemUiOiA0Mi41fX0K');</script>\n",
       "    "
      ],
      "text/plain": [
       "<IPython.core.display.HTML object>"
      ]
     },
     "metadata": {},
     "output_type": "display_data"
    },
    {
     "data": {
      "text/html": [
       "\n",
       "        <div id=\"Dg4rkAsEcrHhkVg3siiaWA\"></div>\n",
       "        <script>netpixi.call('Dg4rkAsEcrHhkVg3siiaWA', 'kMevSyjrf3B8vGoFZ2Jz4A', 'changeGraph', 'eyJpZCI6IDgxLCAidHlwZSI6ICJ2ZXJ0ZXgiLCAicHJvcHMiOiB7ImNvbG9yIjogMTY3MTE2ODB9fQo=');</script>\n",
       "    "
      ],
      "text/plain": [
       "<IPython.core.display.HTML object>"
      ]
     },
     "metadata": {},
     "output_type": "display_data"
    },
    {
     "data": {
      "text/html": [
       "\n",
       "        <div id=\"UY3gh7Aa85CEhiwBrJq3jK\"></div>\n",
       "        <script>netpixi.call('UY3gh7Aa85CEhiwBrJq3jK', 'kMevSyjrf3B8vGoFZ2Jz4A', 'changeGraph', 'eyJpZCI6IDY4LCAidHlwZSI6ICJ2ZXJ0ZXgiLCAicHJvcHMiOiB7InNpemUiOiAxMi41MTA0NjAyNTEwNDYwMjV9fQo=');</script>\n",
       "    "
      ],
      "text/plain": [
       "<IPython.core.display.HTML object>"
      ]
     },
     "metadata": {},
     "output_type": "display_data"
    },
    {
     "data": {
      "text/html": [
       "\n",
       "        <div id=\"FYzgyFFxdLwk5UF8eXYbiQ\"></div>\n",
       "        <script>netpixi.call('FYzgyFFxdLwk5UF8eXYbiQ', 'kMevSyjrf3B8vGoFZ2Jz4A', 'changeGraph', 'eyJpZCI6IDY4LCAidHlwZSI6ICJ2ZXJ0ZXgiLCAicHJvcHMiOiB7ImNvbG9yIjogMTY3MTE2ODB9fQo=');</script>\n",
       "    "
      ],
      "text/plain": [
       "<IPython.core.display.HTML object>"
      ]
     },
     "metadata": {},
     "output_type": "display_data"
    },
    {
     "data": {
      "text/html": [
       "\n",
       "        <div id=\"2xnL5q8pRUdkRAT8D6vQtx\"></div>\n",
       "        <script>netpixi.call('2xnL5q8pRUdkRAT8D6vQtx', 'kMevSyjrf3B8vGoFZ2Jz4A', 'changeGraph', 'eyJpZCI6IDY5LCAidHlwZSI6ICJ2ZXJ0ZXgiLCAicHJvcHMiOiB7InNpemUiOiAxMy44MDc1MzEzODA3NTMxMzh9fQo=');</script>\n",
       "    "
      ],
      "text/plain": [
       "<IPython.core.display.HTML object>"
      ]
     },
     "metadata": {},
     "output_type": "display_data"
    },
    {
     "data": {
      "text/html": [
       "\n",
       "        <div id=\"mjCUnKUy7ieCCJUC3DE8oL\"></div>\n",
       "        <script>netpixi.call('mjCUnKUy7ieCCJUC3DE8oL', 'kMevSyjrf3B8vGoFZ2Jz4A', 'changeGraph', 'eyJpZCI6IDgwLCAidHlwZSI6ICJ2ZXJ0ZXgiLCAicHJvcHMiOiB7ImNvbG9yIjogMTY3MTE2ODB9fQo=');</script>\n",
       "    "
      ],
      "text/plain": [
       "<IPython.core.display.HTML object>"
      ]
     },
     "metadata": {},
     "output_type": "display_data"
    },
    {
     "data": {
      "text/html": [
       "\n",
       "        <div id=\"GtZhXacs9CPQQHspskGeU6\"></div>\n",
       "        <script>netpixi.call('GtZhXacs9CPQQHspskGeU6', 'kMevSyjrf3B8vGoFZ2Jz4A', 'changeGraph', 'eyJpZCI6IDcwLCAidHlwZSI6ICJ2ZXJ0ZXgiLCAicHJvcHMiOiB7InNpemUiOiAxMC45NjIzNDMwOTYyMzQzMX19Cg==');</script>\n",
       "    "
      ],
      "text/plain": [
       "<IPython.core.display.HTML object>"
      ]
     },
     "metadata": {},
     "output_type": "display_data"
    },
    {
     "data": {
      "text/html": [
       "\n",
       "        <div id=\"nYEmzSySw8TsHixmFaMino\"></div>\n",
       "        <script>netpixi.call('nYEmzSySw8TsHixmFaMino', 'kMevSyjrf3B8vGoFZ2Jz4A', 'changeGraph', 'eyJpZCI6IDg2LCAidHlwZSI6ICJ2ZXJ0ZXgiLCAicHJvcHMiOiB7ImNvbG9yIjogMTY3MTE2ODB9fQo=');</script>\n",
       "    "
      ],
      "text/plain": [
       "<IPython.core.display.HTML object>"
      ]
     },
     "metadata": {},
     "output_type": "display_data"
    },
    {
     "data": {
      "text/html": [
       "\n",
       "        <div id=\"7HR8tuxQiZVMeuo69q4r8P\"></div>\n",
       "        <script>netpixi.call('7HR8tuxQiZVMeuo69q4r8P', 'kMevSyjrf3B8vGoFZ2Jz4A', 'changeGraph', 'eyJpZCI6IDcxLCAidHlwZSI6ICJ2ZXJ0ZXgiLCAicHJvcHMiOiB7InNpemUiOiAxNi43NzgyNDI2Nzc4MjQyNjd9fQo=');</script>\n",
       "    "
      ],
      "text/plain": [
       "<IPython.core.display.HTML object>"
      ]
     },
     "metadata": {},
     "output_type": "display_data"
    },
    {
     "data": {
      "text/html": [
       "\n",
       "        <div id=\"RCoDKjY5b7FbzidTJtegQj\"></div>\n",
       "        <script>netpixi.call('RCoDKjY5b7FbzidTJtegQj', 'kMevSyjrf3B8vGoFZ2Jz4A', 'changeGraph', 'eyJpZCI6IDgzLCAidHlwZSI6ICJ2ZXJ0ZXgiLCAicHJvcHMiOiB7ImNvbG9yIjogMTY3MTE2ODB9fQo=');</script>\n",
       "    "
      ],
      "text/plain": [
       "<IPython.core.display.HTML object>"
      ]
     },
     "metadata": {},
     "output_type": "display_data"
    },
    {
     "data": {
      "text/html": [
       "\n",
       "        <div id=\"7JHfpCCtJYkrakCdegRdSk\"></div>\n",
       "        <script>netpixi.call('7JHfpCCtJYkrakCdegRdSk', 'kMevSyjrf3B8vGoFZ2Jz4A', 'changeGraph', 'eyJpZCI6IDcyLCAidHlwZSI6ICJ2ZXJ0ZXgiLCAicHJvcHMiOiB7InNpemUiOiAxNy45OTE2MzE3OTkxNjMxOH19Cg==');</script>\n",
       "    "
      ],
      "text/plain": [
       "<IPython.core.display.HTML object>"
      ]
     },
     "metadata": {},
     "output_type": "display_data"
    },
    {
     "data": {
      "text/html": [
       "\n",
       "        <div id=\"jiW755uhv7xQVaYaZukr8F\"></div>\n",
       "        <script>netpixi.call('jiW755uhv7xQVaYaZukr8F', 'kMevSyjrf3B8vGoFZ2Jz4A', 'changeGraph', 'eyJpZCI6IDc2LCAidHlwZSI6ICJ2ZXJ0ZXgiLCAicHJvcHMiOiB7ImNvbG9yIjogMTY3MTE2ODB9fQo=');</script>\n",
       "    "
      ],
      "text/plain": [
       "<IPython.core.display.HTML object>"
      ]
     },
     "metadata": {},
     "output_type": "display_data"
    },
    {
     "data": {
      "text/html": [
       "\n",
       "        <div id=\"eJJMXCUiE2zFMiZPVsdSD7\"></div>\n",
       "        <script>netpixi.call('eJJMXCUiE2zFMiZPVsdSD7', 'kMevSyjrf3B8vGoFZ2Jz4A', 'changeGraph', 'eyJpZCI6IDczLCAidHlwZSI6ICJ2ZXJ0ZXgiLCAicHJvcHMiOiB7InNpemUiOiAxNy42MTUwNjI3NjE1MDYyNzd9fQo=');</script>\n",
       "    "
      ],
      "text/plain": [
       "<IPython.core.display.HTML object>"
      ]
     },
     "metadata": {},
     "output_type": "display_data"
    },
    {
     "data": {
      "text/html": [
       "\n",
       "        <div id=\"kYqe6P76jSvu7zjUMJXq5t\"></div>\n",
       "        <script>netpixi.call('kYqe6P76jSvu7zjUMJXq5t', 'kMevSyjrf3B8vGoFZ2Jz4A', 'changeGraph', 'eyJpZCI6IDgzLCAidHlwZSI6ICJ2ZXJ0ZXgiLCAicHJvcHMiOiB7ImNvbG9yIjogMTY3MTE2ODB9fQo=');</script>\n",
       "    "
      ],
      "text/plain": [
       "<IPython.core.display.HTML object>"
      ]
     },
     "metadata": {},
     "output_type": "display_data"
    },
    {
     "data": {
      "text/html": [
       "\n",
       "        <div id=\"ZgFS8UaoYioTPw9HKRoR4x\"></div>\n",
       "        <script>netpixi.call('ZgFS8UaoYioTPw9HKRoR4x', 'kMevSyjrf3B8vGoFZ2Jz4A', 'changeGraph', 'eyJpZCI6IDc0LCAidHlwZSI6ICJ2ZXJ0ZXgiLCAicHJvcHMiOiB7InNpemUiOiAxMy43MjM4NDkzNzIzODQ5Mzd9fQo=');</script>\n",
       "    "
      ],
      "text/plain": [
       "<IPython.core.display.HTML object>"
      ]
     },
     "metadata": {},
     "output_type": "display_data"
    },
    {
     "data": {
      "text/html": [
       "\n",
       "        <div id=\"8D4ZyytuCM4obDVVsoFDaW\"></div>\n",
       "        <script>netpixi.call('8D4ZyytuCM4obDVVsoFDaW', 'kMevSyjrf3B8vGoFZ2Jz4A', 'changeGraph', 'eyJpZCI6IDc5LCAidHlwZSI6ICJ2ZXJ0ZXgiLCAicHJvcHMiOiB7ImNvbG9yIjogMTY3MTE2ODB9fQo=');</script>\n",
       "    "
      ],
      "text/plain": [
       "<IPython.core.display.HTML object>"
      ]
     },
     "metadata": {},
     "output_type": "display_data"
    },
    {
     "data": {
      "text/html": [
       "\n",
       "        <div id=\"iGF9pzKm2EBHkkUDYHj3Lf\"></div>\n",
       "        <script>netpixi.call('iGF9pzKm2EBHkkUDYHj3Lf', 'kMevSyjrf3B8vGoFZ2Jz4A', 'changeGraph', 'eyJpZCI6IDc1LCAidHlwZSI6ICJ2ZXJ0ZXgiLCAicHJvcHMiOiB7InNpemUiOiA0MC4zMzMzMzMzMzMzMzMzM319Cg==');</script>\n",
       "    "
      ],
      "text/plain": [
       "<IPython.core.display.HTML object>"
      ]
     },
     "metadata": {},
     "output_type": "display_data"
    },
    {
     "data": {
      "text/html": [
       "\n",
       "        <div id=\"KKUNLTKJFxfQiPrDpC4pNc\"></div>\n",
       "        <script>netpixi.call('KKUNLTKJFxfQiPrDpC4pNc', 'kMevSyjrf3B8vGoFZ2Jz4A', 'changeGraph', 'eyJpZCI6IDgxLCAidHlwZSI6ICJ2ZXJ0ZXgiLCAicHJvcHMiOiB7ImNvbG9yIjogMTY3MTE2ODB9fQo=');</script>\n",
       "    "
      ],
      "text/plain": [
       "<IPython.core.display.HTML object>"
      ]
     },
     "metadata": {},
     "output_type": "display_data"
    },
    {
     "data": {
      "text/html": [
       "\n",
       "        <div id=\"PNX9Nev2H85L5d2ETQWNhe\"></div>\n",
       "        <script>netpixi.call('PNX9Nev2H85L5d2ETQWNhe', 'kMevSyjrf3B8vGoFZ2Jz4A', 'changeGraph', 'eyJpZCI6IDc2LCAidHlwZSI6ICJ2ZXJ0ZXgiLCAicHJvcHMiOiB7InNpemUiOiA0OS41fX0K');</script>\n",
       "    "
      ],
      "text/plain": [
       "<IPython.core.display.HTML object>"
      ]
     },
     "metadata": {},
     "output_type": "display_data"
    },
    {
     "data": {
      "text/html": [
       "\n",
       "        <div id=\"QR2gjmDTy6zrTuAiH77xoG\"></div>\n",
       "        <script>netpixi.call('QR2gjmDTy6zrTuAiH77xoG', 'kMevSyjrf3B8vGoFZ2Jz4A', 'changeGraph', 'eyJpZCI6IDgyLCAidHlwZSI6ICJ2ZXJ0ZXgiLCAicHJvcHMiOiB7ImNvbG9yIjogMTY3MTE2ODB9fQo=');</script>\n",
       "    "
      ],
      "text/plain": [
       "<IPython.core.display.HTML object>"
      ]
     },
     "metadata": {},
     "output_type": "display_data"
    },
    {
     "data": {
      "text/html": [
       "\n",
       "        <div id=\"6u7tnmXQBnikfVdfEjSpfL\"></div>\n",
       "        <script>netpixi.call('6u7tnmXQBnikfVdfEjSpfL', 'kMevSyjrf3B8vGoFZ2Jz4A', 'changeGraph', 'eyJpZCI6IDc3LCAidHlwZSI6ICJ2ZXJ0ZXgiLCAicHJvcHMiOiB7InNpemUiOiAxOS40MTQyMjU5NDE0MjI1OTN9fQo=');</script>\n",
       "    "
      ],
      "text/plain": [
       "<IPython.core.display.HTML object>"
      ]
     },
     "metadata": {},
     "output_type": "display_data"
    },
    {
     "data": {
      "text/html": [
       "\n",
       "        <div id=\"6C78YKfDaQ7TrymTq4hjrN\"></div>\n",
       "        <script>netpixi.call('6C78YKfDaQ7TrymTq4hjrN', 'kMevSyjrf3B8vGoFZ2Jz4A', 'changeGraph', 'eyJpZCI6IDY3LCAidHlwZSI6ICJ2ZXJ0ZXgiLCAicHJvcHMiOiB7ImNvbG9yIjogMTY3MTE2ODB9fQo=');</script>\n",
       "    "
      ],
      "text/plain": [
       "<IPython.core.display.HTML object>"
      ]
     },
     "metadata": {},
     "output_type": "display_data"
    },
    {
     "data": {
      "text/html": [
       "\n",
       "        <div id=\"nzyDihnu2yNDB8nroForUb\"></div>\n",
       "        <script>netpixi.call('nzyDihnu2yNDB8nroForUb', 'kMevSyjrf3B8vGoFZ2Jz4A', 'changeGraph', 'eyJpZCI6IDc4LCAidHlwZSI6ICJ2ZXJ0ZXgiLCAicHJvcHMiOiB7InNpemUiOiAxNC45NzkwNzk0OTc5MDc5NX19Cg==');</script>\n",
       "    "
      ],
      "text/plain": [
       "<IPython.core.display.HTML object>"
      ]
     },
     "metadata": {},
     "output_type": "display_data"
    },
    {
     "data": {
      "text/html": [
       "\n",
       "        <div id=\"BU6VojdVeFpT54GyPd9vxB\"></div>\n",
       "        <script>netpixi.call('BU6VojdVeFpT54GyPd9vxB', 'kMevSyjrf3B8vGoFZ2Jz4A', 'changeGraph', 'eyJpZCI6IDc4LCAidHlwZSI6ICJ2ZXJ0ZXgiLCAicHJvcHMiOiB7ImNvbG9yIjogMTY3MTE2ODB9fQo=');</script>\n",
       "    "
      ],
      "text/plain": [
       "<IPython.core.display.HTML object>"
      ]
     },
     "metadata": {},
     "output_type": "display_data"
    },
    {
     "data": {
      "text/html": [
       "\n",
       "        <div id=\"YrU5XbkndKsMP3ZKaxhsV9\"></div>\n",
       "        <script>netpixi.call('YrU5XbkndKsMP3ZKaxhsV9', 'kMevSyjrf3B8vGoFZ2Jz4A', 'changeGraph', 'eyJpZCI6IDc5LCAidHlwZSI6ICJ2ZXJ0ZXgiLCAicHJvcHMiOiB7InNpemUiOiAxOS45NTgxNTg5OTU4MTU5fX0K');</script>\n",
       "    "
      ],
      "text/plain": [
       "<IPython.core.display.HTML object>"
      ]
     },
     "metadata": {},
     "output_type": "display_data"
    },
    {
     "data": {
      "text/html": [
       "\n",
       "        <div id=\"Qrb35gioLXGSwQ84ySVqFi\"></div>\n",
       "        <script>netpixi.call('Qrb35gioLXGSwQ84ySVqFi', 'kMevSyjrf3B8vGoFZ2Jz4A', 'changeGraph', 'eyJpZCI6IDgxLCAidHlwZSI6ICJ2ZXJ0ZXgiLCAicHJvcHMiOiB7ImNvbG9yIjogMTY3MTE2ODB9fQo=');</script>\n",
       "    "
      ],
      "text/plain": [
       "<IPython.core.display.HTML object>"
      ]
     },
     "metadata": {},
     "output_type": "display_data"
    },
    {
     "data": {
      "text/html": [
       "\n",
       "        <div id=\"MTJcYLPWmRrwtgjGkTAYoJ\"></div>\n",
       "        <script>netpixi.call('MTJcYLPWmRrwtgjGkTAYoJ', 'kMevSyjrf3B8vGoFZ2Jz4A', 'changeGraph', 'eyJpZCI6IDgwLCAidHlwZSI6ICJ2ZXJ0ZXgiLCAicHJvcHMiOiB7InNpemUiOiA0MS42NjY2NjY2NjY2NjY2NjR9fQo=');</script>\n",
       "    "
      ],
      "text/plain": [
       "<IPython.core.display.HTML object>"
      ]
     },
     "metadata": {},
     "output_type": "display_data"
    },
    {
     "data": {
      "text/html": [
       "\n",
       "        <div id=\"h5R4vsUhKxWd7UvTUZa526\"></div>\n",
       "        <script>netpixi.call('h5R4vsUhKxWd7UvTUZa526', 'kMevSyjrf3B8vGoFZ2Jz4A', 'changeGraph', 'eyJpZCI6IDcxLCAidHlwZSI6ICJ2ZXJ0ZXgiLCAicHJvcHMiOiB7ImNvbG9yIjogMTY3MTE2ODB9fQo=');</script>\n",
       "    "
      ],
      "text/plain": [
       "<IPython.core.display.HTML object>"
      ]
     },
     "metadata": {},
     "output_type": "display_data"
    },
    {
     "data": {
      "text/html": [
       "\n",
       "        <div id=\"Sbr49fxksBNZ7E4FXeSraA\"></div>\n",
       "        <script>netpixi.call('Sbr49fxksBNZ7E4FXeSraA', 'kMevSyjrf3B8vGoFZ2Jz4A', 'changeGraph', 'eyJpZCI6IDgxLCAidHlwZSI6ICJ2ZXJ0ZXgiLCAicHJvcHMiOiB7InNpemUiOiAxNi4xMDg3ODY2MTA4Nzg2Nn19Cg==');</script>\n",
       "    "
      ],
      "text/plain": [
       "<IPython.core.display.HTML object>"
      ]
     },
     "metadata": {},
     "output_type": "display_data"
    },
    {
     "data": {
      "text/html": [
       "\n",
       "        <div id=\"fXRD5yUiXMFtXcNAZD4mK5\"></div>\n",
       "        <script>netpixi.call('fXRD5yUiXMFtXcNAZD4mK5', 'kMevSyjrf3B8vGoFZ2Jz4A', 'changeGraph', 'eyJpZCI6IDUzLCAidHlwZSI6ICJ2ZXJ0ZXgiLCAicHJvcHMiOiB7ImNvbG9yIjogMTY3MTE2ODB9fQo=');</script>\n",
       "    "
      ],
      "text/plain": [
       "<IPython.core.display.HTML object>"
      ]
     },
     "metadata": {},
     "output_type": "display_data"
    },
    {
     "data": {
      "text/html": [
       "\n",
       "        <div id=\"Pob5hJTRFqcB3gQQGgmX54\"></div>\n",
       "        <script>netpixi.call('Pob5hJTRFqcB3gQQGgmX54', 'kMevSyjrf3B8vGoFZ2Jz4A', 'changeGraph', 'eyJpZCI6IDgyLCAidHlwZSI6ICJ2ZXJ0ZXgiLCAicHJvcHMiOiB7InNpemUiOiA0MS44MzMzMzMzMzMzMzMzM319Cg==');</script>\n",
       "    "
      ],
      "text/plain": [
       "<IPython.core.display.HTML object>"
      ]
     },
     "metadata": {},
     "output_type": "display_data"
    },
    {
     "data": {
      "text/html": [
       "\n",
       "        <div id=\"CEVxmSjzQgovxXuAxiFbvJ\"></div>\n",
       "        <script>netpixi.call('CEVxmSjzQgovxXuAxiFbvJ', 'kMevSyjrf3B8vGoFZ2Jz4A', 'changeGraph', 'eyJpZCI6IDc0LCAidHlwZSI6ICJ2ZXJ0ZXgiLCAicHJvcHMiOiB7ImNvbG9yIjogMTY3MTE2ODB9fQo=');</script>\n",
       "    "
      ],
      "text/plain": [
       "<IPython.core.display.HTML object>"
      ]
     },
     "metadata": {},
     "output_type": "display_data"
    },
    {
     "data": {
      "text/html": [
       "\n",
       "        <div id=\"UTCw9veGavaDddqEUvcY2V\"></div>\n",
       "        <script>netpixi.call('UTCw9veGavaDddqEUvcY2V', 'kMevSyjrf3B8vGoFZ2Jz4A', 'changeGraph', 'eyJpZCI6IDgzLCAidHlwZSI6ICJ2ZXJ0ZXgiLCAicHJvcHMiOiB7InNpemUiOiAxNC44OTUzOTc0ODk1Mzk3NDh9fQo=');</script>\n",
       "    "
      ],
      "text/plain": [
       "<IPython.core.display.HTML object>"
      ]
     },
     "metadata": {},
     "output_type": "display_data"
    },
    {
     "data": {
      "text/html": [
       "\n",
       "        <div id=\"X5ezieZ7zFdLLNMuwwwUkm\"></div>\n",
       "        <script>netpixi.call('X5ezieZ7zFdLLNMuwwwUkm', 'kMevSyjrf3B8vGoFZ2Jz4A', 'changeGraph', 'eyJpZCI6IDgzLCAidHlwZSI6ICJ2ZXJ0ZXgiLCAicHJvcHMiOiB7ImNvbG9yIjogMTY3MTE2ODB9fQo=');</script>\n",
       "    "
      ],
      "text/plain": [
       "<IPython.core.display.HTML object>"
      ]
     },
     "metadata": {},
     "output_type": "display_data"
    },
    {
     "data": {
      "text/html": [
       "\n",
       "        <div id=\"h2S4NdEEUVNXer57K6CB7i\"></div>\n",
       "        <script>netpixi.call('h2S4NdEEUVNXer57K6CB7i', 'kMevSyjrf3B8vGoFZ2Jz4A', 'changeGraph', 'eyJpZCI6IDg0LCAidHlwZSI6ICJ2ZXJ0ZXgiLCAicHJvcHMiOiB7InNpemUiOiAxNC40NzY5ODc0NDc2OTg3NDN9fQo=');</script>\n",
       "    "
      ],
      "text/plain": [
       "<IPython.core.display.HTML object>"
      ]
     },
     "metadata": {},
     "output_type": "display_data"
    },
    {
     "data": {
      "text/html": [
       "\n",
       "        <div id=\"9Tqatcbu6hMh3yo8QjkcZZ\"></div>\n",
       "        <script>netpixi.call('9Tqatcbu6hMh3yo8QjkcZZ', 'kMevSyjrf3B8vGoFZ2Jz4A', 'changeGraph', 'eyJpZCI6IDgwLCAidHlwZSI6ICJ2ZXJ0ZXgiLCAicHJvcHMiOiB7ImNvbG9yIjogMTY3MTE2ODB9fQo=');</script>\n",
       "    "
      ],
      "text/plain": [
       "<IPython.core.display.HTML object>"
      ]
     },
     "metadata": {},
     "output_type": "display_data"
    },
    {
     "data": {
      "text/html": [
       "\n",
       "        <div id=\"fMkymvjvUmkVvbreupNjvs\"></div>\n",
       "        <script>netpixi.call('fMkymvjvUmkVvbreupNjvs', 'kMevSyjrf3B8vGoFZ2Jz4A', 'changeGraph', 'eyJpZCI6IDg1LCAidHlwZSI6ICJ2ZXJ0ZXgiLCAicHJvcHMiOiB7InNpemUiOiA0MS4zMzMzMzMzMzMzMzMzM319Cg==');</script>\n",
       "    "
      ],
      "text/plain": [
       "<IPython.core.display.HTML object>"
      ]
     },
     "metadata": {},
     "output_type": "display_data"
    },
    {
     "data": {
      "text/html": [
       "\n",
       "        <div id=\"R4aCCeBWUiM6uGFRAdB7zb\"></div>\n",
       "        <script>netpixi.call('R4aCCeBWUiM6uGFRAdB7zb', 'kMevSyjrf3B8vGoFZ2Jz4A', 'changeGraph', 'eyJpZCI6IDg0LCAidHlwZSI6ICJ2ZXJ0ZXgiLCAicHJvcHMiOiB7ImNvbG9yIjogMTY3MTE2ODB9fQo=');</script>\n",
       "    "
      ],
      "text/plain": [
       "<IPython.core.display.HTML object>"
      ]
     },
     "metadata": {},
     "output_type": "display_data"
    },
    {
     "data": {
      "text/html": [
       "\n",
       "        <div id=\"Asc743ZmNE9ZrvKdLdHKA8\"></div>\n",
       "        <script>netpixi.call('Asc743ZmNE9ZrvKdLdHKA8', 'kMevSyjrf3B8vGoFZ2Jz4A', 'changeGraph', 'eyJpZCI6IDg2LCAidHlwZSI6ICJ2ZXJ0ZXgiLCAicHJvcHMiOiB7InNpemUiOiAxMy4yNjM1OTgzMjYzNTk4MzN9fQo=');</script>\n",
       "    "
      ],
      "text/plain": [
       "<IPython.core.display.HTML object>"
      ]
     },
     "metadata": {},
     "output_type": "display_data"
    },
    {
     "data": {
      "text/html": [
       "\n",
       "        <div id=\"LwVEpU9ZjkvurYXa3NuF3E\"></div>\n",
       "        <script>netpixi.call('LwVEpU9ZjkvurYXa3NuF3E', 'kMevSyjrf3B8vGoFZ2Jz4A', 'changeGraph', 'eyJpZCI6IDkzLCAidHlwZSI6ICJ2ZXJ0ZXgiLCAicHJvcHMiOiB7ImNvbG9yIjogMTY3MTE2ODB9fQo=');</script>\n",
       "    "
      ],
      "text/plain": [
       "<IPython.core.display.HTML object>"
      ]
     },
     "metadata": {},
     "output_type": "display_data"
    },
    {
     "data": {
      "text/html": [
       "\n",
       "        <div id=\"6RvaFDb2usjx92Ddb3rHLw\"></div>\n",
       "        <script>netpixi.call('6RvaFDb2usjx92Ddb3rHLw', 'kMevSyjrf3B8vGoFZ2Jz4A', 'changeGraph', 'eyJpZCI6IDg3LCAidHlwZSI6ICJ2ZXJ0ZXgiLCAicHJvcHMiOiB7InNpemUiOiAxOC45OTU4MTU4OTk1ODE1OX19Cg==');</script>\n",
       "    "
      ],
      "text/plain": [
       "<IPython.core.display.HTML object>"
      ]
     },
     "metadata": {},
     "output_type": "display_data"
    },
    {
     "data": {
      "text/html": [
       "\n",
       "        <div id=\"huCHaYM7MfbVf2CnoNx3E8\"></div>\n",
       "        <script>netpixi.call('huCHaYM7MfbVf2CnoNx3E8', 'kMevSyjrf3B8vGoFZ2Jz4A', 'changeGraph', 'eyJpZCI6IDc1LCAidHlwZSI6ICJ2ZXJ0ZXgiLCAicHJvcHMiOiB7ImNvbG9yIjogMTY3MTE2ODB9fQo=');</script>\n",
       "    "
      ],
      "text/plain": [
       "<IPython.core.display.HTML object>"
      ]
     },
     "metadata": {},
     "output_type": "display_data"
    },
    {
     "data": {
      "text/html": [
       "\n",
       "        <div id=\"9BZ2SSnM9omejAfDwLRQix\"></div>\n",
       "        <script>netpixi.call('9BZ2SSnM9omejAfDwLRQix', 'kMevSyjrf3B8vGoFZ2Jz4A', 'changeGraph', 'eyJpZCI6IDg4LCAidHlwZSI6ICJ2ZXJ0ZXgiLCAicHJvcHMiOiB7InNpemUiOiA0MS4xNjY2NjY2NjY2NjY2N319Cg==');</script>\n",
       "    "
      ],
      "text/plain": [
       "<IPython.core.display.HTML object>"
      ]
     },
     "metadata": {},
     "output_type": "display_data"
    },
    {
     "data": {
      "text/html": [
       "\n",
       "        <div id=\"gNX9EZuw5nA3tMDVsdDbXb\"></div>\n",
       "        <script>netpixi.call('gNX9EZuw5nA3tMDVsdDbXb', 'kMevSyjrf3B8vGoFZ2Jz4A', 'changeGraph', 'eyJpZCI6IDg1LCAidHlwZSI6ICJ2ZXJ0ZXgiLCAicHJvcHMiOiB7ImNvbG9yIjogMTY3MTE2ODB9fQo=');</script>\n",
       "    "
      ],
      "text/plain": [
       "<IPython.core.display.HTML object>"
      ]
     },
     "metadata": {},
     "output_type": "display_data"
    },
    {
     "data": {
      "text/html": [
       "\n",
       "        <div id=\"Q5D4Yo2eX8qLPgyjV4Xbkc\"></div>\n",
       "        <script>netpixi.call('Q5D4Yo2eX8qLPgyjV4Xbkc', 'kMevSyjrf3B8vGoFZ2Jz4A', 'changeGraph', 'eyJpZCI6IDg5LCAidHlwZSI6ICJ2ZXJ0ZXgiLCAicHJvcHMiOiB7InNpemUiOiAxOC4yNDI2Nzc4MjQyNjc3OH19Cg==');</script>\n",
       "    "
      ],
      "text/plain": [
       "<IPython.core.display.HTML object>"
      ]
     },
     "metadata": {},
     "output_type": "display_data"
    },
    {
     "data": {
      "text/html": [
       "\n",
       "        <div id=\"5CjEVmskrZJqci3UYxwVLK\"></div>\n",
       "        <script>netpixi.call('5CjEVmskrZJqci3UYxwVLK', 'kMevSyjrf3B8vGoFZ2Jz4A', 'changeGraph', 'eyJpZCI6IDc5LCAidHlwZSI6ICJ2ZXJ0ZXgiLCAicHJvcHMiOiB7ImNvbG9yIjogMTY3MTE2ODB9fQo=');</script>\n",
       "    "
      ],
      "text/plain": [
       "<IPython.core.display.HTML object>"
      ]
     },
     "metadata": {},
     "output_type": "display_data"
    },
    {
     "data": {
      "text/html": [
       "\n",
       "        <div id=\"7J2KxKzCxsrZ69jAy9nQUH\"></div>\n",
       "        <script>netpixi.call('7J2KxKzCxsrZ69jAy9nQUH', 'kMevSyjrf3B8vGoFZ2Jz4A', 'changeGraph', 'eyJpZCI6IDkwLCAidHlwZSI6ICJ2ZXJ0ZXgiLCAicHJvcHMiOiB7InNpemUiOiAxOC40OTM3MjM4NDkzNzIzODd9fQo=');</script>\n",
       "    "
      ],
      "text/plain": [
       "<IPython.core.display.HTML object>"
      ]
     },
     "metadata": {},
     "output_type": "display_data"
    },
    {
     "data": {
      "text/html": [
       "\n",
       "        <div id=\"XrLT5nLJG2rJQgScZH5EbG\"></div>\n",
       "        <script>netpixi.call('XrLT5nLJG2rJQgScZH5EbG', 'kMevSyjrf3B8vGoFZ2Jz4A', 'changeGraph', 'eyJpZCI6IDgyLCAidHlwZSI6ICJ2ZXJ0ZXgiLCAicHJvcHMiOiB7ImNvbG9yIjogMTY3MTE2ODB9fQo=');</script>\n",
       "    "
      ],
      "text/plain": [
       "<IPython.core.display.HTML object>"
      ]
     },
     "metadata": {},
     "output_type": "display_data"
    },
    {
     "data": {
      "text/html": [
       "\n",
       "        <div id=\"Lne4QzXmnGcgBLp7MA8bDn\"></div>\n",
       "        <script>netpixi.call('Lne4QzXmnGcgBLp7MA8bDn', 'kMevSyjrf3B8vGoFZ2Jz4A', 'changeGraph', 'eyJpZCI6IDkxLCAidHlwZSI6ICJ2ZXJ0ZXgiLCAicHJvcHMiOiB7InNpemUiOiAxMi45Mjg4NzAyOTI4ODcwM319Cg==');</script>\n",
       "    "
      ],
      "text/plain": [
       "<IPython.core.display.HTML object>"
      ]
     },
     "metadata": {},
     "output_type": "display_data"
    },
    {
     "data": {
      "text/html": [
       "\n",
       "        <div id=\"74C2EmduwazAkaVU8SnxKn\"></div>\n",
       "        <script>netpixi.call('74C2EmduwazAkaVU8SnxKn', 'kMevSyjrf3B8vGoFZ2Jz4A', 'changeGraph', 'eyJpZCI6IDgzLCAidHlwZSI6ICJ2ZXJ0ZXgiLCAicHJvcHMiOiB7ImNvbG9yIjogMTY3MTE2ODB9fQo=');</script>\n",
       "    "
      ],
      "text/plain": [
       "<IPython.core.display.HTML object>"
      ]
     },
     "metadata": {},
     "output_type": "display_data"
    },
    {
     "data": {
      "text/html": [
       "\n",
       "        <div id=\"4xqCnbfcLVASBKmyg78hMy\"></div>\n",
       "        <script>netpixi.call('4xqCnbfcLVASBKmyg78hMy', 'kMevSyjrf3B8vGoFZ2Jz4A', 'changeGraph', 'eyJpZCI6IDkyLCAidHlwZSI6ICJ2ZXJ0ZXgiLCAicHJvcHMiOiB7InNpemUiOiAxMC44Nzg2NjEwODc4NjYxMDh9fQo=');</script>\n",
       "    "
      ],
      "text/plain": [
       "<IPython.core.display.HTML object>"
      ]
     },
     "metadata": {},
     "output_type": "display_data"
    },
    {
     "data": {
      "text/html": [
       "\n",
       "        <div id=\"A9iA2ufxKtpgGaRdxHFMsg\"></div>\n",
       "        <script>netpixi.call('A9iA2ufxKtpgGaRdxHFMsg', 'kMevSyjrf3B8vGoFZ2Jz4A', 'changeGraph', 'eyJpZCI6IDc2LCAidHlwZSI6ICJ2ZXJ0ZXgiLCAicHJvcHMiOiB7ImNvbG9yIjogMTY3MTE2ODB9fQo=');</script>\n",
       "    "
      ],
      "text/plain": [
       "<IPython.core.display.HTML object>"
      ]
     },
     "metadata": {},
     "output_type": "display_data"
    },
    {
     "data": {
      "text/html": [
       "\n",
       "        <div id=\"mVAqZJboyhAZ2cVmNpdw7x\"></div>\n",
       "        <script>netpixi.call('mVAqZJboyhAZ2cVmNpdw7x', 'kMevSyjrf3B8vGoFZ2Jz4A', 'changeGraph', 'eyJpZCI6IDkzLCAidHlwZSI6ICJ2ZXJ0ZXgiLCAicHJvcHMiOiB7InNpemUiOiAxMS40NjQ0MzUxNDY0NDM1MTV9fQo=');</script>\n",
       "    "
      ],
      "text/plain": [
       "<IPython.core.display.HTML object>"
      ]
     },
     "metadata": {},
     "output_type": "display_data"
    },
    {
     "data": {
      "text/html": [
       "\n",
       "        <div id=\"bgLE8GcXpEBHV795SBhmr3\"></div>\n",
       "        <script>netpixi.call('bgLE8GcXpEBHV795SBhmr3', 'kMevSyjrf3B8vGoFZ2Jz4A', 'changeGraph', 'eyJpZCI6IDgyLCAidHlwZSI6ICJ2ZXJ0ZXgiLCAicHJvcHMiOiB7ImNvbG9yIjogMTY3MTE2ODB9fQo=');</script>\n",
       "    "
      ],
      "text/plain": [
       "<IPython.core.display.HTML object>"
      ]
     },
     "metadata": {},
     "output_type": "display_data"
    },
    {
     "data": {
      "text/html": [
       "\n",
       "        <div id=\"fgfFuRvenxLSFVZBunmcep\"></div>\n",
       "        <script>netpixi.call('fgfFuRvenxLSFVZBunmcep', 'kMevSyjrf3B8vGoFZ2Jz4A', 'changeGraph', 'eyJpZCI6IDk0LCAidHlwZSI6ICJ2ZXJ0ZXgiLCAicHJvcHMiOiB7InNpemUiOiA0NS4wfX0K');</script>\n",
       "    "
      ],
      "text/plain": [
       "<IPython.core.display.HTML object>"
      ]
     },
     "metadata": {},
     "output_type": "display_data"
    },
    {
     "data": {
      "text/html": [
       "\n",
       "        <div id=\"MK3AJ5iYdAGr8xkqei6PYp\"></div>\n",
       "        <script>netpixi.call('MK3AJ5iYdAGr8xkqei6PYp', 'kMevSyjrf3B8vGoFZ2Jz4A', 'changeGraph', 'eyJpZCI6IDcxLCAidHlwZSI6ICJ2ZXJ0ZXgiLCAicHJvcHMiOiB7ImNvbG9yIjogMTY3MTE2ODB9fQo=');</script>\n",
       "    "
      ],
      "text/plain": [
       "<IPython.core.display.HTML object>"
      ]
     },
     "metadata": {},
     "output_type": "display_data"
    },
    {
     "data": {
      "text/html": [
       "\n",
       "        <div id=\"QiaMj4WcPuU5NNihjhooBn\"></div>\n",
       "        <script>netpixi.call('QiaMj4WcPuU5NNihjhooBn', 'kMevSyjrf3B8vGoFZ2Jz4A', 'changeGraph', 'eyJpZCI6IDk1LCAidHlwZSI6ICJ2ZXJ0ZXgiLCAicHJvcHMiOiB7InNpemUiOiAxMS42MzE3OTkxNjMxNzk5MTd9fQo=');</script>\n",
       "    "
      ],
      "text/plain": [
       "<IPython.core.display.HTML object>"
      ]
     },
     "metadata": {},
     "output_type": "display_data"
    },
    {
     "data": {
      "text/html": [
       "\n",
       "        <div id=\"ADtuzoNsBYdkr6GKzkai4a\"></div>\n",
       "        <script>netpixi.call('ADtuzoNsBYdkr6GKzkai4a', 'kMevSyjrf3B8vGoFZ2Jz4A', 'changeGraph', 'eyJpZCI6IDY1LCAidHlwZSI6ICJ2ZXJ0ZXgiLCAicHJvcHMiOiB7ImNvbG9yIjogMTY3MTE2ODB9fQo=');</script>\n",
       "    "
      ],
      "text/plain": [
       "<IPython.core.display.HTML object>"
      ]
     },
     "metadata": {},
     "output_type": "display_data"
    },
    {
     "data": {
      "text/html": [
       "\n",
       "        <div id=\"9swPMv4ZFLggTy2sFFMYwt\"></div>\n",
       "        <script>netpixi.call('9swPMv4ZFLggTy2sFFMYwt', 'kMevSyjrf3B8vGoFZ2Jz4A', 'changeGraph', 'eyJpZCI6IDk2LCAidHlwZSI6ICJ2ZXJ0ZXgiLCAicHJvcHMiOiB7InNpemUiOiAxNy4zNjQwMTY3MzY0MDE2NzN9fQo=');</script>\n",
       "    "
      ],
      "text/plain": [
       "<IPython.core.display.HTML object>"
      ]
     },
     "metadata": {},
     "output_type": "display_data"
    },
    {
     "data": {
      "text/html": [
       "\n",
       "        <div id=\"ar2pQrhNRZQPH8ieVMwuiw\"></div>\n",
       "        <script>netpixi.call('ar2pQrhNRZQPH8ieVMwuiw', 'kMevSyjrf3B8vGoFZ2Jz4A', 'changeGraph', 'eyJpZCI6IDg5LCAidHlwZSI6ICJ2ZXJ0ZXgiLCAicHJvcHMiOiB7ImNvbG9yIjogMTY3MTE2ODB9fQo=');</script>\n",
       "    "
      ],
      "text/plain": [
       "<IPython.core.display.HTML object>"
      ]
     },
     "metadata": {},
     "output_type": "display_data"
    },
    {
     "data": {
      "text/html": [
       "\n",
       "        <div id=\"mqrmGZk5AuYHCA3vD2haaQ\"></div>\n",
       "        <script>netpixi.call('mqrmGZk5AuYHCA3vD2haaQ', 'kMevSyjrf3B8vGoFZ2Jz4A', 'changeGraph', 'eyJpZCI6IDk3LCAidHlwZSI6ICJ2ZXJ0ZXgiLCAicHJvcHMiOiB7InNpemUiOiAxNC42MDI1MTA0NjAyNTEwNDd9fQo=');</script>\n",
       "    "
      ],
      "text/plain": [
       "<IPython.core.display.HTML object>"
      ]
     },
     "metadata": {},
     "output_type": "display_data"
    },
    {
     "data": {
      "text/html": [
       "\n",
       "        <div id=\"RhUorGPN9oT3sMfkvjsWYk\"></div>\n",
       "        <script>netpixi.call('RhUorGPN9oT3sMfkvjsWYk', 'kMevSyjrf3B8vGoFZ2Jz4A', 'changeGraph', 'eyJpZCI6IDczLCAidHlwZSI6ICJ2ZXJ0ZXgiLCAicHJvcHMiOiB7ImNvbG9yIjogMTY3MTE2ODB9fQo=');</script>\n",
       "    "
      ],
      "text/plain": [
       "<IPython.core.display.HTML object>"
      ]
     },
     "metadata": {},
     "output_type": "display_data"
    },
    {
     "data": {
      "text/html": [
       "\n",
       "        <div id=\"5ijFsziDPaJ7BYJCE3fFau\"></div>\n",
       "        <script>netpixi.call('5ijFsziDPaJ7BYJCE3fFau', 'kMevSyjrf3B8vGoFZ2Jz4A', 'changeGraph', 'eyJpZCI6IDk4LCAidHlwZSI6ICJ2ZXJ0ZXgiLCAicHJvcHMiOiB7InNpemUiOiAxMi41NTIzMDEyNTUyMzAxMjV9fQo=');</script>\n",
       "    "
      ],
      "text/plain": [
       "<IPython.core.display.HTML object>"
      ]
     },
     "metadata": {},
     "output_type": "display_data"
    },
    {
     "data": {
      "text/html": [
       "\n",
       "        <div id=\"TRWk9DELn6JP6K6f5aUJG4\"></div>\n",
       "        <script>netpixi.call('TRWk9DELn6JP6K6f5aUJG4', 'kMevSyjrf3B8vGoFZ2Jz4A', 'changeGraph', 'eyJpZCI6IDcyLCAidHlwZSI6ICJ2ZXJ0ZXgiLCAicHJvcHMiOiB7ImNvbG9yIjogMTY3MTE2ODB9fQo=');</script>\n",
       "    "
      ],
      "text/plain": [
       "<IPython.core.display.HTML object>"
      ]
     },
     "metadata": {},
     "output_type": "display_data"
    },
    {
     "data": {
      "text/html": [
       "\n",
       "        <div id=\"m8ZyNS5svPkNKhNwTQwhEH\"></div>\n",
       "        <script>netpixi.call('m8ZyNS5svPkNKhNwTQwhEH', 'kMevSyjrf3B8vGoFZ2Jz4A', 'changeGraph', 'eyJpZCI6IDk5LCAidHlwZSI6ICJ2ZXJ0ZXgiLCAicHJvcHMiOiB7InNpemUiOiAxMS4zODA3NTMxMzgwNzUzMTN9fQo=');</script>\n",
       "    "
      ],
      "text/plain": [
       "<IPython.core.display.HTML object>"
      ]
     },
     "metadata": {},
     "output_type": "display_data"
    },
    {
     "data": {
      "text/html": [
       "\n",
       "        <div id=\"Je3fi2RWFRDFcKexReLiXt\"></div>\n",
       "        <script>netpixi.call('Je3fi2RWFRDFcKexReLiXt', 'kMevSyjrf3B8vGoFZ2Jz4A', 'changeGraph', 'eyJpZCI6IDc1LCAidHlwZSI6ICJ2ZXJ0ZXgiLCAicHJvcHMiOiB7ImNvbG9yIjogMTY3MTE2ODB9fQo=');</script>\n",
       "    "
      ],
      "text/plain": [
       "<IPython.core.display.HTML object>"
      ]
     },
     "metadata": {},
     "output_type": "display_data"
    },
    {
     "data": {
      "text/html": [
       "\n",
       "        <div id=\"PtRzaPVxr3ANDXhdB55EsT\"></div>\n",
       "        <script>netpixi.call('PtRzaPVxr3ANDXhdB55EsT', 'kMevSyjrf3B8vGoFZ2Jz4A', 'changeGraph', 'eyJpZCI6IDEwMCwgInR5cGUiOiAidmVydGV4IiwgInByb3BzIjogeyJzaXplIjogNDYuODMzMzMzMzMzMzMzMzM2fX0K');</script>\n",
       "    "
      ],
      "text/plain": [
       "<IPython.core.display.HTML object>"
      ]
     },
     "metadata": {},
     "output_type": "display_data"
    },
    {
     "data": {
      "text/html": [
       "\n",
       "        <div id=\"YgJcMGeAXj9oZ9xu6svBAU\"></div>\n",
       "        <script>netpixi.call('YgJcMGeAXj9oZ9xu6svBAU', 'kMevSyjrf3B8vGoFZ2Jz4A', 'changeGraph', 'eyJpZCI6IDc3LCAidHlwZSI6ICJ2ZXJ0ZXgiLCAicHJvcHMiOiB7ImNvbG9yIjogMTY3MTE2ODB9fQo=');</script>\n",
       "    "
      ],
      "text/plain": [
       "<IPython.core.display.HTML object>"
      ]
     },
     "metadata": {},
     "output_type": "display_data"
    },
    {
     "data": {
      "text/html": [
       "\n",
       "        <div id=\"YT3VKpNPqJjVLa54ZHvMAF\"></div>\n",
       "        <script>netpixi.call('YT3VKpNPqJjVLa54ZHvMAF', 'kMevSyjrf3B8vGoFZ2Jz4A', 'changeGraph', 'eyJpZCI6IDEwMSwgInR5cGUiOiAidmVydGV4IiwgInByb3BzIjogeyJzaXplIjogMTIuMTMzODkxMjEzMzg5MTIyfX0K');</script>\n",
       "    "
      ],
      "text/plain": [
       "<IPython.core.display.HTML object>"
      ]
     },
     "metadata": {},
     "output_type": "display_data"
    },
    {
     "data": {
      "text/html": [
       "\n",
       "        <div id=\"QC9btDkVKFGAdyntYcMHFK\"></div>\n",
       "        <script>netpixi.call('QC9btDkVKFGAdyntYcMHFK', 'kMevSyjrf3B8vGoFZ2Jz4A', 'changeGraph', 'eyJpZCI6IDg1LCAidHlwZSI6ICJ2ZXJ0ZXgiLCAicHJvcHMiOiB7ImNvbG9yIjogMTY3MTE2ODB9fQo=');</script>\n",
       "    "
      ],
      "text/plain": [
       "<IPython.core.display.HTML object>"
      ]
     },
     "metadata": {},
     "output_type": "display_data"
    },
    {
     "data": {
      "text/html": [
       "\n",
       "        <div id=\"P2pSBYfVpDFcCtcAsMv6zH\"></div>\n",
       "        <script>netpixi.call('P2pSBYfVpDFcCtcAsMv6zH', 'kMevSyjrf3B8vGoFZ2Jz4A', 'changeGraph', 'eyJpZCI6IDEwMiwgInR5cGUiOiAidmVydGV4IiwgInByb3BzIjogeyJzaXplIjogMTIuODQ1MTg4Mjg0NTE4ODI4fX0K');</script>\n",
       "    "
      ],
      "text/plain": [
       "<IPython.core.display.HTML object>"
      ]
     },
     "metadata": {},
     "output_type": "display_data"
    },
    {
     "data": {
      "text/html": [
       "\n",
       "        <div id=\"KNLNC9PKaWKbDNGQfHEcXQ\"></div>\n",
       "        <script>netpixi.call('KNLNC9PKaWKbDNGQfHEcXQ', 'kMevSyjrf3B8vGoFZ2Jz4A', 'changeGraph', 'eyJpZCI6IDc2LCAidHlwZSI6ICJ2ZXJ0ZXgiLCAicHJvcHMiOiB7ImNvbG9yIjogMTY3MTE2ODB9fQo=');</script>\n",
       "    "
      ],
      "text/plain": [
       "<IPython.core.display.HTML object>"
      ]
     },
     "metadata": {},
     "output_type": "display_data"
    },
    {
     "data": {
      "text/html": [
       "\n",
       "        <div id=\"VLP5RMW8kDRrjTfcvcJk2S\"></div>\n",
       "        <script>netpixi.call('VLP5RMW8kDRrjTfcvcJk2S', 'kMevSyjrf3B8vGoFZ2Jz4A', 'changeGraph', 'eyJpZCI6IDEwMywgInR5cGUiOiAidmVydGV4IiwgInByb3BzIjogeyJzaXplIjogMTkuNTM5NzQ4OTUzOTc0ODkzfX0K');</script>\n",
       "    "
      ],
      "text/plain": [
       "<IPython.core.display.HTML object>"
      ]
     },
     "metadata": {},
     "output_type": "display_data"
    },
    {
     "data": {
      "text/html": [
       "\n",
       "        <div id=\"k9qYqNXTPv3NvgLxgVStRy\"></div>\n",
       "        <script>netpixi.call('k9qYqNXTPv3NvgLxgVStRy', 'kMevSyjrf3B8vGoFZ2Jz4A', 'changeGraph', 'eyJpZCI6IDUzLCAidHlwZSI6ICJ2ZXJ0ZXgiLCAicHJvcHMiOiB7ImNvbG9yIjogMTY3MTE2ODB9fQo=');</script>\n",
       "    "
      ],
      "text/plain": [
       "<IPython.core.display.HTML object>"
      ]
     },
     "metadata": {},
     "output_type": "display_data"
    },
    {
     "data": {
      "text/html": [
       "\n",
       "        <div id=\"NFu7mZy3UwfG8TfRcovSUh\"></div>\n",
       "        <script>netpixi.call('NFu7mZy3UwfG8TfRcovSUh', 'kMevSyjrf3B8vGoFZ2Jz4A', 'changeGraph', 'eyJpZCI6IDEwNCwgInR5cGUiOiAidmVydGV4IiwgInByb3BzIjogeyJzaXplIjogMTUuNjA2Njk0NTYwNjY5NDU1fX0K');</script>\n",
       "    "
      ],
      "text/plain": [
       "<IPython.core.display.HTML object>"
      ]
     },
     "metadata": {},
     "output_type": "display_data"
    },
    {
     "data": {
      "text/html": [
       "\n",
       "        <div id=\"mMGkuQQeTfMZAFFn9rkrrb\"></div>\n",
       "        <script>netpixi.call('mMGkuQQeTfMZAFFn9rkrrb', 'kMevSyjrf3B8vGoFZ2Jz4A', 'changeGraph', 'eyJpZCI6IDY4LCAidHlwZSI6ICJ2ZXJ0ZXgiLCAicHJvcHMiOiB7ImNvbG9yIjogMTY3MTE2ODB9fQo=');</script>\n",
       "    "
      ],
      "text/plain": [
       "<IPython.core.display.HTML object>"
      ]
     },
     "metadata": {},
     "output_type": "display_data"
    },
    {
     "data": {
      "text/html": [
       "\n",
       "        <div id=\"aJnpM3nzUVWULB8K5Wdeck\"></div>\n",
       "        <script>netpixi.call('aJnpM3nzUVWULB8K5Wdeck', 'kMevSyjrf3B8vGoFZ2Jz4A', 'changeGraph', 'eyJpZCI6IDEwNSwgInR5cGUiOiAidmVydGV4IiwgInByb3BzIjogeyJzaXplIjogMTguNzg2NjEwODc4NjYxMDg3fX0K');</script>\n",
       "    "
      ],
      "text/plain": [
       "<IPython.core.display.HTML object>"
      ]
     },
     "metadata": {},
     "output_type": "display_data"
    },
    {
     "data": {
      "text/html": [
       "\n",
       "        <div id=\"AXQu93aCnsFue2oU73XmWn\"></div>\n",
       "        <script>netpixi.call('AXQu93aCnsFue2oU73XmWn', 'kMevSyjrf3B8vGoFZ2Jz4A', 'changeGraph', 'eyJpZCI6IDg4LCAidHlwZSI6ICJ2ZXJ0ZXgiLCAicHJvcHMiOiB7ImNvbG9yIjogMTY3MTE2ODB9fQo=');</script>\n",
       "    "
      ],
      "text/plain": [
       "<IPython.core.display.HTML object>"
      ]
     },
     "metadata": {},
     "output_type": "display_data"
    },
    {
     "data": {
      "text/html": [
       "\n",
       "        <div id=\"Gj5T8Y33sMyqnQAuTHDfhT\"></div>\n",
       "        <script>netpixi.call('Gj5T8Y33sMyqnQAuTHDfhT', 'kMevSyjrf3B8vGoFZ2Jz4A', 'changeGraph', 'eyJpZCI6IDEwNiwgInR5cGUiOiAidmVydGV4IiwgInByb3BzIjogeyJzaXplIjogMTYuMzU5ODMyNjM1OTgzMjYzfX0K');</script>\n",
       "    "
      ],
      "text/plain": [
       "<IPython.core.display.HTML object>"
      ]
     },
     "metadata": {},
     "output_type": "display_data"
    },
    {
     "data": {
      "text/html": [
       "\n",
       "        <div id=\"M5h7t6mhfEdorATjpbNue6\"></div>\n",
       "        <script>netpixi.call('M5h7t6mhfEdorATjpbNue6', 'kMevSyjrf3B8vGoFZ2Jz4A', 'changeGraph', 'eyJpZCI6IDc2LCAidHlwZSI6ICJ2ZXJ0ZXgiLCAicHJvcHMiOiB7ImNvbG9yIjogMTY3MTE2ODB9fQo=');</script>\n",
       "    "
      ],
      "text/plain": [
       "<IPython.core.display.HTML object>"
      ]
     },
     "metadata": {},
     "output_type": "display_data"
    },
    {
     "data": {
      "text/html": [
       "\n",
       "        <div id=\"8xquqTAS3nkSScwUSg4TnW\"></div>\n",
       "        <script>netpixi.call('8xquqTAS3nkSScwUSg4TnW', 'kMevSyjrf3B8vGoFZ2Jz4A', 'changeGraph', 'eyJpZCI6IDEwNywgInR5cGUiOiAidmVydGV4IiwgInByb3BzIjogeyJzaXplIjogMTguNTM1NTY0ODUzNTU2NDg3fX0K');</script>\n",
       "    "
      ],
      "text/plain": [
       "<IPython.core.display.HTML object>"
      ]
     },
     "metadata": {},
     "output_type": "display_data"
    },
    {
     "data": {
      "text/html": [
       "\n",
       "        <div id=\"UUFnWZjDuWBAr8L79W4gd5\"></div>\n",
       "        <script>netpixi.call('UUFnWZjDuWBAr8L79W4gd5', 'kMevSyjrf3B8vGoFZ2Jz4A', 'changeGraph', 'eyJpZCI6IDU3LCAidHlwZSI6ICJ2ZXJ0ZXgiLCAicHJvcHMiOiB7ImNvbG9yIjogMTY3MTE2ODB9fQo=');</script>\n",
       "    "
      ],
      "text/plain": [
       "<IPython.core.display.HTML object>"
      ]
     },
     "metadata": {},
     "output_type": "display_data"
    },
    {
     "data": {
      "text/html": [
       "\n",
       "        <div id=\"CwTWHgTi3rKStSmm7dnZmu\"></div>\n",
       "        <script>netpixi.call('CwTWHgTi3rKStSmm7dnZmu', 'kMevSyjrf3B8vGoFZ2Jz4A', 'changeGraph', 'eyJpZCI6IDEwOCwgInR5cGUiOiAidmVydGV4IiwgInByb3BzIjogeyJzaXplIjogMTIuNjc3ODI0MjY3NzgyNDI3fX0K');</script>\n",
       "    "
      ],
      "text/plain": [
       "<IPython.core.display.HTML object>"
      ]
     },
     "metadata": {},
     "output_type": "display_data"
    },
    {
     "data": {
      "text/html": [
       "\n",
       "        <div id=\"JovfGQtoD9SgH3a2KetiCR\"></div>\n",
       "        <script>netpixi.call('JovfGQtoD9SgH3a2KetiCR', 'kMevSyjrf3B8vGoFZ2Jz4A', 'changeGraph', 'eyJpZCI6IDcyLCAidHlwZSI6ICJ2ZXJ0ZXgiLCAicHJvcHMiOiB7ImNvbG9yIjogMTY3MTE2ODB9fQo=');</script>\n",
       "    "
      ],
      "text/plain": [
       "<IPython.core.display.HTML object>"
      ]
     },
     "metadata": {},
     "output_type": "display_data"
    },
    {
     "data": {
      "text/html": [
       "\n",
       "        <div id=\"nMzytX54pNwCuEjiLAMZCv\"></div>\n",
       "        <script>netpixi.call('nMzytX54pNwCuEjiLAMZCv', 'kMevSyjrf3B8vGoFZ2Jz4A', 'changeGraph', 'eyJpZCI6IDEwOSwgInR5cGUiOiAidmVydGV4IiwgInByb3BzIjogeyJzaXplIjogMTcuMTk2NjUyNzE5NjY1MjczfX0K');</script>\n",
       "    "
      ],
      "text/plain": [
       "<IPython.core.display.HTML object>"
      ]
     },
     "metadata": {},
     "output_type": "display_data"
    },
    {
     "data": {
      "text/html": [
       "\n",
       "        <div id=\"RbUJYKdD8iUALytBGjsf5R\"></div>\n",
       "        <script>netpixi.call('RbUJYKdD8iUALytBGjsf5R', 'kMevSyjrf3B8vGoFZ2Jz4A', 'changeGraph', 'eyJpZCI6IDgwLCAidHlwZSI6ICJ2ZXJ0ZXgiLCAicHJvcHMiOiB7ImNvbG9yIjogMTY3MTE2ODB9fQo=');</script>\n",
       "    "
      ],
      "text/plain": [
       "<IPython.core.display.HTML object>"
      ]
     },
     "metadata": {},
     "output_type": "display_data"
    },
    {
     "data": {
      "text/html": [
       "\n",
       "        <div id=\"XmBo5Xs5SJm26C43qU287t\"></div>\n",
       "        <script>netpixi.call('XmBo5Xs5SJm26C43qU287t', 'kMevSyjrf3B8vGoFZ2Jz4A', 'changeGraph', 'eyJpZCI6IDExMCwgInR5cGUiOiAidmVydGV4IiwgInByb3BzIjogeyJzaXplIjogMTUuNzMyMjE3NTczMjIxNzU3fX0K');</script>\n",
       "    "
      ],
      "text/plain": [
       "<IPython.core.display.HTML object>"
      ]
     },
     "metadata": {},
     "output_type": "display_data"
    },
    {
     "data": {
      "text/html": [
       "\n",
       "        <div id=\"T5B366zdvkE7QnfdEhbx8M\"></div>\n",
       "        <script>netpixi.call('T5B366zdvkE7QnfdEhbx8M', 'kMevSyjrf3B8vGoFZ2Jz4A', 'changeGraph', 'eyJpZCI6IDc4LCAidHlwZSI6ICJ2ZXJ0ZXgiLCAicHJvcHMiOiB7ImNvbG9yIjogMTY3MTE2ODB9fQo=');</script>\n",
       "    "
      ],
      "text/plain": [
       "<IPython.core.display.HTML object>"
      ]
     },
     "metadata": {},
     "output_type": "display_data"
    },
    {
     "data": {
      "text/html": [
       "\n",
       "        <div id=\"jWvHViXbLQDyayNvBGrhCb\"></div>\n",
       "        <script>netpixi.call('jWvHViXbLQDyayNvBGrhCb', 'kMevSyjrf3B8vGoFZ2Jz4A', 'changeGraph', 'eyJpZCI6IDExMSwgInR5cGUiOiAidmVydGV4IiwgInByb3BzIjogeyJzaXplIjogMTYuOTg3NDQ3Njk4NzQ0Nzd9fQo=');</script>\n",
       "    "
      ],
      "text/plain": [
       "<IPython.core.display.HTML object>"
      ]
     },
     "metadata": {},
     "output_type": "display_data"
    },
    {
     "data": {
      "text/html": [
       "\n",
       "        <div id=\"H4fpTppfUXxXrkucL5xj2K\"></div>\n",
       "        <script>netpixi.call('H4fpTppfUXxXrkucL5xj2K', 'kMevSyjrf3B8vGoFZ2Jz4A', 'changeGraph', 'eyJpZCI6IDgyLCAidHlwZSI6ICJ2ZXJ0ZXgiLCAicHJvcHMiOiB7ImNvbG9yIjogMTY3MTE2ODB9fQo=');</script>\n",
       "    "
      ],
      "text/plain": [
       "<IPython.core.display.HTML object>"
      ]
     },
     "metadata": {},
     "output_type": "display_data"
    },
    {
     "data": {
      "text/html": [
       "\n",
       "        <div id=\"an5xtqhxuBRyX9ypWAUQRk\"></div>\n",
       "        <script>netpixi.call('an5xtqhxuBRyX9ypWAUQRk', 'kMevSyjrf3B8vGoFZ2Jz4A', 'changeGraph', 'eyJpZCI6IDExMiwgInR5cGUiOiAidmVydGV4IiwgInByb3BzIjogeyJzaXplIjogNDkuMzMzMzMzMzMzMzMzMzM2fX0K');</script>\n",
       "    "
      ],
      "text/plain": [
       "<IPython.core.display.HTML object>"
      ]
     },
     "metadata": {},
     "output_type": "display_data"
    },
    {
     "data": {
      "text/html": [
       "\n",
       "        <div id=\"Nck5iWryjtru4eardAFJNC\"></div>\n",
       "        <script>netpixi.call('Nck5iWryjtru4eardAFJNC', 'kMevSyjrf3B8vGoFZ2Jz4A', 'changeGraph', 'eyJpZCI6IDY2LCAidHlwZSI6ICJ2ZXJ0ZXgiLCAicHJvcHMiOiB7ImNvbG9yIjogMTY3MTE2ODB9fQo=');</script>\n",
       "    "
      ],
      "text/plain": [
       "<IPython.core.display.HTML object>"
      ]
     },
     "metadata": {},
     "output_type": "display_data"
    },
    {
     "data": {
      "text/html": [
       "\n",
       "        <div id=\"GWfwCctW6AVHABk5CZagMu\"></div>\n",
       "        <script>netpixi.call('GWfwCctW6AVHABk5CZagMu', 'kMevSyjrf3B8vGoFZ2Jz4A', 'changeGraph', 'eyJpZCI6IDExMywgInR5cGUiOiAidmVydGV4IiwgInByb3BzIjogeyJzaXplIjogNDAuODMzMzMzMzMzMzMzMzM2fX0K');</script>\n",
       "    "
      ],
      "text/plain": [
       "<IPython.core.display.HTML object>"
      ]
     },
     "metadata": {},
     "output_type": "display_data"
    },
    {
     "data": {
      "text/html": [
       "\n",
       "        <div id=\"H3cg8S7jfcVmMxvjddDD4B\"></div>\n",
       "        <script>netpixi.call('H3cg8S7jfcVmMxvjddDD4B', 'kMevSyjrf3B8vGoFZ2Jz4A', 'changeGraph', 'eyJpZCI6IDc0LCAidHlwZSI6ICJ2ZXJ0ZXgiLCAicHJvcHMiOiB7ImNvbG9yIjogMTY3MTE2ODB9fQo=');</script>\n",
       "    "
      ],
      "text/plain": [
       "<IPython.core.display.HTML object>"
      ]
     },
     "metadata": {},
     "output_type": "display_data"
    },
    {
     "data": {
      "text/html": [
       "\n",
       "        <div id=\"Smb9KDkkPDSsEMiytzE7iT\"></div>\n",
       "        <script>netpixi.call('Smb9KDkkPDSsEMiytzE7iT', 'kMevSyjrf3B8vGoFZ2Jz4A', 'changeGraph', 'eyJpZCI6IDExNCwgInR5cGUiOiAidmVydGV4IiwgInByb3BzIjogeyJzaXplIjogNDguMTY2NjY2NjY2NjY2NjY0fX0K');</script>\n",
       "    "
      ],
      "text/plain": [
       "<IPython.core.display.HTML object>"
      ]
     },
     "metadata": {},
     "output_type": "display_data"
    },
    {
     "data": {
      "text/html": [
       "\n",
       "        <div id=\"Ek8BvJ8fmHL6y5oC7q3rM9\"></div>\n",
       "        <script>netpixi.call('Ek8BvJ8fmHL6y5oC7q3rM9', 'kMevSyjrf3B8vGoFZ2Jz4A', 'changeGraph', 'eyJpZCI6IDgxLCAidHlwZSI6ICJ2ZXJ0ZXgiLCAicHJvcHMiOiB7ImNvbG9yIjogMTY3MTE2ODB9fQo=');</script>\n",
       "    "
      ],
      "text/plain": [
       "<IPython.core.display.HTML object>"
      ]
     },
     "metadata": {},
     "output_type": "display_data"
    },
    {
     "data": {
      "text/html": [
       "\n",
       "        <div id=\"7argthAkxGJvghuif4528t\"></div>\n",
       "        <script>netpixi.call('7argthAkxGJvghuif4528t', 'kMevSyjrf3B8vGoFZ2Jz4A', 'changeGraph', 'eyJpZCI6IDExNSwgInR5cGUiOiAidmVydGV4IiwgInByb3BzIjogeyJzaXplIjogMTYuNjUyNzE5NjY1MjcxOTY3fX0K');</script>\n",
       "    "
      ],
      "text/plain": [
       "<IPython.core.display.HTML object>"
      ]
     },
     "metadata": {},
     "output_type": "display_data"
    },
    {
     "data": {
      "text/html": [
       "\n",
       "        <div id=\"m2WazMdWpcCJa2ikY5GA5V\"></div>\n",
       "        <script>netpixi.call('m2WazMdWpcCJa2ikY5GA5V', 'kMevSyjrf3B8vGoFZ2Jz4A', 'changeGraph', 'eyJpZCI6IDgzLCAidHlwZSI6ICJ2ZXJ0ZXgiLCAicHJvcHMiOiB7ImNvbG9yIjogMTY3MTE2ODB9fQo=');</script>\n",
       "    "
      ],
      "text/plain": [
       "<IPython.core.display.HTML object>"
      ]
     },
     "metadata": {},
     "output_type": "display_data"
    },
    {
     "data": {
      "text/html": [
       "\n",
       "        <div id=\"TofFNY3qmjmmiNJXAsLzLj\"></div>\n",
       "        <script>netpixi.call('TofFNY3qmjmmiNJXAsLzLj', 'kMevSyjrf3B8vGoFZ2Jz4A', 'changeGraph', 'eyJpZCI6IDExNiwgInR5cGUiOiAidmVydGV4IiwgInByb3BzIjogeyJzaXplIjogMTkuMjA1MDIwOTIwNTAyMDkzfX0K');</script>\n",
       "    "
      ],
      "text/plain": [
       "<IPython.core.display.HTML object>"
      ]
     },
     "metadata": {},
     "output_type": "display_data"
    },
    {
     "data": {
      "text/html": [
       "\n",
       "        <div id=\"a6fhC6WqSDnLey3QDPAmQQ\"></div>\n",
       "        <script>netpixi.call('a6fhC6WqSDnLey3QDPAmQQ', 'kMevSyjrf3B8vGoFZ2Jz4A', 'changeGraph', 'eyJpZCI6IDc3LCAidHlwZSI6ICJ2ZXJ0ZXgiLCAicHJvcHMiOiB7ImNvbG9yIjogMTY3MTE2ODB9fQo=');</script>\n",
       "    "
      ],
      "text/plain": [
       "<IPython.core.display.HTML object>"
      ]
     },
     "metadata": {},
     "output_type": "display_data"
    },
    {
     "data": {
      "text/html": [
       "\n",
       "        <div id=\"e7voCr8gKBveZJ4nLxb28K\"></div>\n",
       "        <script>netpixi.call('e7voCr8gKBveZJ4nLxb28K', 'kMevSyjrf3B8vGoFZ2Jz4A', 'changeGraph', 'eyJpZCI6IDExNywgInR5cGUiOiAidmVydGV4IiwgInByb3BzIjogeyJzaXplIjogMTIuMzQzMDk2MjM0MzA5NjIzfX0K');</script>\n",
       "    "
      ],
      "text/plain": [
       "<IPython.core.display.HTML object>"
      ]
     },
     "metadata": {},
     "output_type": "display_data"
    },
    {
     "data": {
      "text/html": [
       "\n",
       "        <div id=\"H2hJEWokjueEje6cWPEhJ2\"></div>\n",
       "        <script>netpixi.call('H2hJEWokjueEje6cWPEhJ2', 'kMevSyjrf3B8vGoFZ2Jz4A', 'changeGraph', 'eyJpZCI6IDgyLCAidHlwZSI6ICJ2ZXJ0ZXgiLCAicHJvcHMiOiB7ImNvbG9yIjogMTY3MTE2ODB9fQo=');</script>\n",
       "    "
      ],
      "text/plain": [
       "<IPython.core.display.HTML object>"
      ]
     },
     "metadata": {},
     "output_type": "display_data"
    },
    {
     "data": {
      "text/html": [
       "\n",
       "        <div id=\"7DU4xmPaH7AWevkCUhJaJQ\"></div>\n",
       "        <script>netpixi.call('7DU4xmPaH7AWevkCUhJaJQ', 'kMevSyjrf3B8vGoFZ2Jz4A', 'changeGraph', 'eyJpZCI6IDExOCwgInR5cGUiOiAidmVydGV4IiwgInByb3BzIjogeyJzaXplIjogNDMuNjY2NjY2NjY2NjY2NjY0fX0K');</script>\n",
       "    "
      ],
      "text/plain": [
       "<IPython.core.display.HTML object>"
      ]
     },
     "metadata": {},
     "output_type": "display_data"
    },
    {
     "data": {
      "text/html": [
       "\n",
       "        <div id=\"SGLPUV3y6A8jcyw562KBB8\"></div>\n",
       "        <script>netpixi.call('SGLPUV3y6A8jcyw562KBB8', 'kMevSyjrf3B8vGoFZ2Jz4A', 'changeGraph', 'eyJpZCI6IDc4LCAidHlwZSI6ICJ2ZXJ0ZXgiLCAicHJvcHMiOiB7ImNvbG9yIjogMTY3MTE2ODB9fQo=');</script>\n",
       "    "
      ],
      "text/plain": [
       "<IPython.core.display.HTML object>"
      ]
     },
     "metadata": {},
     "output_type": "display_data"
    },
    {
     "data": {
      "text/html": [
       "\n",
       "        <div id=\"h5gPDE9RdoXyDVYqtX989N\"></div>\n",
       "        <script>netpixi.call('h5gPDE9RdoXyDVYqtX989N', 'kMevSyjrf3B8vGoFZ2Jz4A', 'changeGraph', 'eyJpZCI6IDExOSwgInR5cGUiOiAidmVydGV4IiwgInByb3BzIjogeyJzaXplIjogMTQuMTg0MTAwNDE4NDEwMDQyfX0K');</script>\n",
       "    "
      ],
      "text/plain": [
       "<IPython.core.display.HTML object>"
      ]
     },
     "metadata": {},
     "output_type": "display_data"
    },
    {
     "data": {
      "text/html": [
       "\n",
       "        <div id=\"aXbojYZd9djdw9FJSyeVnz\"></div>\n",
       "        <script>netpixi.call('aXbojYZd9djdw9FJSyeVnz', 'kMevSyjrf3B8vGoFZ2Jz4A', 'changeGraph', 'eyJpZCI6IDcyLCAidHlwZSI6ICJ2ZXJ0ZXgiLCAicHJvcHMiOiB7ImNvbG9yIjogMTY3MTE2ODB9fQo=');</script>\n",
       "    "
      ],
      "text/plain": [
       "<IPython.core.display.HTML object>"
      ]
     },
     "metadata": {},
     "output_type": "display_data"
    },
    {
     "data": {
      "text/html": [
       "\n",
       "        <div id=\"S2B2AwHPqYgb5qA7T2YSSn\"></div>\n",
       "        <script>netpixi.call('S2B2AwHPqYgb5qA7T2YSSn', 'kMevSyjrf3B8vGoFZ2Jz4A', 'changeGraph', 'eyJpZCI6IDEyMCwgInR5cGUiOiAidmVydGV4IiwgInByb3BzIjogeyJzaXplIjogMTEuNzU3MzIyMTc1NzMyMjE3fX0K');</script>\n",
       "    "
      ],
      "text/plain": [
       "<IPython.core.display.HTML object>"
      ]
     },
     "metadata": {},
     "output_type": "display_data"
    },
    {
     "data": {
      "text/html": [
       "\n",
       "        <div id=\"NF5mGD8iaBJmCdd26A3UVr\"></div>\n",
       "        <script>netpixi.call('NF5mGD8iaBJmCdd26A3UVr', 'kMevSyjrf3B8vGoFZ2Jz4A', 'changeGraph', 'eyJpZCI6IDgyLCAidHlwZSI6ICJ2ZXJ0ZXgiLCAicHJvcHMiOiB7ImNvbG9yIjogMTY3MTE2ODB9fQo=');</script>\n",
       "    "
      ],
      "text/plain": [
       "<IPython.core.display.HTML object>"
      ]
     },
     "metadata": {},
     "output_type": "display_data"
    },
    {
     "data": {
      "text/html": [
       "\n",
       "        <div id=\"Fmg9Q8oacuUGhYN4sTcMZJ\"></div>\n",
       "        <script>netpixi.call('Fmg9Q8oacuUGhYN4sTcMZJ', 'kMevSyjrf3B8vGoFZ2Jz4A', 'changeGraph', 'eyJpZCI6IDEyMSwgInR5cGUiOiAidmVydGV4IiwgInByb3BzIjogeyJzaXplIjogMTcuNTMxMzgwNzUzMTM4MDczfX0K');</script>\n",
       "    "
      ],
      "text/plain": [
       "<IPython.core.display.HTML object>"
      ]
     },
     "metadata": {},
     "output_type": "display_data"
    },
    {
     "data": {
      "text/html": [
       "\n",
       "        <div id=\"dsW5tNuKuf8ErA22jWEKWq\"></div>\n",
       "        <script>netpixi.call('dsW5tNuKuf8ErA22jWEKWq', 'kMevSyjrf3B8vGoFZ2Jz4A', 'changeGraph', 'eyJpZCI6IDgxLCAidHlwZSI6ICJ2ZXJ0ZXgiLCAicHJvcHMiOiB7ImNvbG9yIjogMTY3MTE2ODB9fQo=');</script>\n",
       "    "
      ],
      "text/plain": [
       "<IPython.core.display.HTML object>"
      ]
     },
     "metadata": {},
     "output_type": "display_data"
    },
    {
     "data": {
      "text/html": [
       "\n",
       "        <div id=\"EaibmCsoUhmmcqDKjByUje\"></div>\n",
       "        <script>netpixi.call('EaibmCsoUhmmcqDKjByUje', 'kMevSyjrf3B8vGoFZ2Jz4A', 'changeGraph', 'eyJpZCI6IDEyMiwgInR5cGUiOiAidmVydGV4IiwgInByb3BzIjogeyJzaXplIjogMTMuNTU2NDg1MzU1NjQ4NTM1fX0K');</script>\n",
       "    "
      ],
      "text/plain": [
       "<IPython.core.display.HTML object>"
      ]
     },
     "metadata": {},
     "output_type": "display_data"
    },
    {
     "data": {
      "text/html": [
       "\n",
       "        <div id=\"g2nfVKHESDZaa3VjCsGZpg\"></div>\n",
       "        <script>netpixi.call('g2nfVKHESDZaa3VjCsGZpg', 'kMevSyjrf3B8vGoFZ2Jz4A', 'changeGraph', 'eyJpZCI6IDgwLCAidHlwZSI6ICJ2ZXJ0ZXgiLCAicHJvcHMiOiB7ImNvbG9yIjogMTY3MTE2ODB9fQo=');</script>\n",
       "    "
      ],
      "text/plain": [
       "<IPython.core.display.HTML object>"
      ]
     },
     "metadata": {},
     "output_type": "display_data"
    },
    {
     "data": {
      "text/html": [
       "\n",
       "        <div id=\"dNVtvwU5kkL5hV8ETJB4cQ\"></div>\n",
       "        <script>netpixi.call('dNVtvwU5kkL5hV8ETJB4cQ', 'kMevSyjrf3B8vGoFZ2Jz4A', 'changeGraph', 'eyJpZCI6IDEyMywgInR5cGUiOiAidmVydGV4IiwgInByb3BzIjogeyJzaXplIjogMTMuMDEyNTUyMzAxMjU1MjN9fQo=');</script>\n",
       "    "
      ],
      "text/plain": [
       "<IPython.core.display.HTML object>"
      ]
     },
     "metadata": {},
     "output_type": "display_data"
    },
    {
     "data": {
      "text/html": [
       "\n",
       "        <div id=\"RkJhXRXvR7GnJQkCQtbUxt\"></div>\n",
       "        <script>netpixi.call('RkJhXRXvR7GnJQkCQtbUxt', 'kMevSyjrf3B8vGoFZ2Jz4A', 'changeGraph', 'eyJpZCI6IDc0LCAidHlwZSI6ICJ2ZXJ0ZXgiLCAicHJvcHMiOiB7ImNvbG9yIjogMTY3MTE2ODB9fQo=');</script>\n",
       "    "
      ],
      "text/plain": [
       "<IPython.core.display.HTML object>"
      ]
     },
     "metadata": {},
     "output_type": "display_data"
    },
    {
     "data": {
      "text/html": [
       "\n",
       "        <div id=\"e6qCTKAeZvPxYCezKU4vQ3\"></div>\n",
       "        <script>netpixi.call('e6qCTKAeZvPxYCezKU4vQ3', 'kMevSyjrf3B8vGoFZ2Jz4A', 'changeGraph', 'eyJpZCI6IDEyNCwgInR5cGUiOiAidmVydGV4IiwgInByb3BzIjogeyJzaXplIjogNDguMzMzMzMzMzMzMzMzMzM2fX0K');</script>\n",
       "    "
      ],
      "text/plain": [
       "<IPython.core.display.HTML object>"
      ]
     },
     "metadata": {},
     "output_type": "display_data"
    },
    {
     "data": {
      "text/html": [
       "\n",
       "        <div id=\"RUEHcfxBA329aXAtzQHgHJ\"></div>\n",
       "        <script>netpixi.call('RUEHcfxBA329aXAtzQHgHJ', 'kMevSyjrf3B8vGoFZ2Jz4A', 'changeGraph', 'eyJpZCI6IDgwLCAidHlwZSI6ICJ2ZXJ0ZXgiLCAicHJvcHMiOiB7ImNvbG9yIjogMTY3MTE2ODB9fQo=');</script>\n",
       "    "
      ],
      "text/plain": [
       "<IPython.core.display.HTML object>"
      ]
     },
     "metadata": {},
     "output_type": "display_data"
    },
    {
     "data": {
      "text/html": [
       "\n",
       "        <div id=\"fMfbVhJj5aiyiZDwe4TjxM\"></div>\n",
       "        <script>netpixi.call('fMfbVhJj5aiyiZDwe4TjxM', 'kMevSyjrf3B8vGoFZ2Jz4A', 'changeGraph', 'eyJpZCI6IDEyNSwgInR5cGUiOiAidmVydGV4IiwgInByb3BzIjogeyJzaXplIjogMTIuNDI2Nzc4MjQyNjc3ODIzfX0K');</script>\n",
       "    "
      ],
      "text/plain": [
       "<IPython.core.display.HTML object>"
      ]
     },
     "metadata": {},
     "output_type": "display_data"
    },
    {
     "data": {
      "text/html": [
       "\n",
       "        <div id=\"hwER4GJY9fb24xeZKWDvtp\"></div>\n",
       "        <script>netpixi.call('hwER4GJY9fb24xeZKWDvtp', 'kMevSyjrf3B8vGoFZ2Jz4A', 'changeGraph', 'eyJpZCI6IDgyLCAidHlwZSI6ICJ2ZXJ0ZXgiLCAicHJvcHMiOiB7ImNvbG9yIjogMTY3MTE2ODB9fQo=');</script>\n",
       "    "
      ],
      "text/plain": [
       "<IPython.core.display.HTML object>"
      ]
     },
     "metadata": {},
     "output_type": "display_data"
    },
    {
     "data": {
      "text/html": [
       "\n",
       "        <div id=\"Lti2LJSJ3Yf5Arr5F3VGHJ\"></div>\n",
       "        <script>netpixi.call('Lti2LJSJ3Yf5Arr5F3VGHJ', 'kMevSyjrf3B8vGoFZ2Jz4A', 'changeGraph', 'eyJpZCI6IDEyNiwgInR5cGUiOiAidmVydGV4IiwgInByb3BzIjogeyJzaXplIjogMTguMjg0NTE4ODI4NDUxODh9fQo=');</script>\n",
       "    "
      ],
      "text/plain": [
       "<IPython.core.display.HTML object>"
      ]
     },
     "metadata": {},
     "output_type": "display_data"
    },
    {
     "data": {
      "text/html": [
       "\n",
       "        <div id=\"88pD8aiHkbxjTTJ5nFCFPG\"></div>\n",
       "        <script>netpixi.call('88pD8aiHkbxjTTJ5nFCFPG', 'kMevSyjrf3B8vGoFZ2Jz4A', 'changeGraph', 'eyJpZCI6IDg3LCAidHlwZSI6ICJ2ZXJ0ZXgiLCAicHJvcHMiOiB7ImNvbG9yIjogMTY3MTE2ODB9fQo=');</script>\n",
       "    "
      ],
      "text/plain": [
       "<IPython.core.display.HTML object>"
      ]
     },
     "metadata": {},
     "output_type": "display_data"
    },
    {
     "data": {
      "text/html": [
       "\n",
       "        <div id=\"EczjuymKhQjE5tQJurZRRn\"></div>\n",
       "        <script>netpixi.call('EczjuymKhQjE5tQJurZRRn', 'kMevSyjrf3B8vGoFZ2Jz4A', 'changeGraph', 'eyJpZCI6IDEyNywgInR5cGUiOiAidmVydGV4IiwgInByb3BzIjogeyJzaXplIjogMTQuMzA5NjIzNDMwOTYyMzQzfX0K');</script>\n",
       "    "
      ],
      "text/plain": [
       "<IPython.core.display.HTML object>"
      ]
     },
     "metadata": {},
     "output_type": "display_data"
    },
    {
     "data": {
      "text/html": [
       "\n",
       "        <div id=\"a8zuARnjTuSPFKYr7uFscf\"></div>\n",
       "        <script>netpixi.call('a8zuARnjTuSPFKYr7uFscf', 'kMevSyjrf3B8vGoFZ2Jz4A', 'changeGraph', 'eyJpZCI6IDc2LCAidHlwZSI6ICJ2ZXJ0ZXgiLCAicHJvcHMiOiB7ImNvbG9yIjogMTY3MTE2ODB9fQo=');</script>\n",
       "    "
      ],
      "text/plain": [
       "<IPython.core.display.HTML object>"
      ]
     },
     "metadata": {},
     "output_type": "display_data"
    },
    {
     "data": {
      "text/html": [
       "\n",
       "        <div id=\"BJJzaaAkTkMRAPc5TZGymJ\"></div>\n",
       "        <script>netpixi.call('BJJzaaAkTkMRAPc5TZGymJ', 'kMevSyjrf3B8vGoFZ2Jz4A', 'changeGraph', 'eyJpZCI6IDEyOCwgInR5cGUiOiAidmVydGV4IiwgInByb3BzIjogeyJzaXplIjogMTkuMDM3NjU2OTAzNzY1Njl9fQo=');</script>\n",
       "    "
      ],
      "text/plain": [
       "<IPython.core.display.HTML object>"
      ]
     },
     "metadata": {},
     "output_type": "display_data"
    },
    {
     "data": {
      "text/html": [
       "\n",
       "        <div id=\"jrMvvFw7VgVp3bWexWUgDR\"></div>\n",
       "        <script>netpixi.call('jrMvvFw7VgVp3bWexWUgDR', 'kMevSyjrf3B8vGoFZ2Jz4A', 'changeGraph', 'eyJpZCI6IDczLCAidHlwZSI6ICJ2ZXJ0ZXgiLCAicHJvcHMiOiB7ImNvbG9yIjogMTY3MTE2ODB9fQo=');</script>\n",
       "    "
      ],
      "text/plain": [
       "<IPython.core.display.HTML object>"
      ]
     },
     "metadata": {},
     "output_type": "display_data"
    },
    {
     "data": {
      "text/html": [
       "\n",
       "        <div id=\"CWUzZaqzvsopRNSSNgfKc8\"></div>\n",
       "        <script>netpixi.call('CWUzZaqzvsopRNSSNgfKc8', 'kMevSyjrf3B8vGoFZ2Jz4A', 'changeGraph', 'eyJpZCI6IDEyOSwgInR5cGUiOiAidmVydGV4IiwgInByb3BzIjogeyJzaXplIjogNDIuMH19Cg==');</script>\n",
       "    "
      ],
      "text/plain": [
       "<IPython.core.display.HTML object>"
      ]
     },
     "metadata": {},
     "output_type": "display_data"
    },
    {
     "data": {
      "text/html": [
       "\n",
       "        <div id=\"QPm2V7pPrKwuyqJhpMUCvx\"></div>\n",
       "        <script>netpixi.call('QPm2V7pPrKwuyqJhpMUCvx', 'kMevSyjrf3B8vGoFZ2Jz4A', 'changeGraph', 'eyJpZCI6IDg0LCAidHlwZSI6ICJ2ZXJ0ZXgiLCAicHJvcHMiOiB7ImNvbG9yIjogMTY3MTE2ODB9fQo=');</script>\n",
       "    "
      ],
      "text/plain": [
       "<IPython.core.display.HTML object>"
      ]
     },
     "metadata": {},
     "output_type": "display_data"
    },
    {
     "data": {
      "text/html": [
       "\n",
       "        <div id=\"nh7znJjVvWnMQhYu4gfi3F\"></div>\n",
       "        <script>netpixi.call('nh7znJjVvWnMQhYu4gfi3F', 'kMevSyjrf3B8vGoFZ2Jz4A', 'changeGraph', 'eyJpZCI6IDEzMCwgInR5cGUiOiAidmVydGV4IiwgInByb3BzIjogeyJzaXplIjogMTEuODQxMDA0MTg0MTAwNDE4fX0K');</script>\n",
       "    "
      ],
      "text/plain": [
       "<IPython.core.display.HTML object>"
      ]
     },
     "metadata": {},
     "output_type": "display_data"
    },
    {
     "data": {
      "text/html": [
       "\n",
       "        <div id=\"LFj6Ab6zQkjiQeJ4Byeax3\"></div>\n",
       "        <script>netpixi.call('LFj6Ab6zQkjiQeJ4Byeax3', 'kMevSyjrf3B8vGoFZ2Jz4A', 'changeGraph', 'eyJpZCI6IDY0LCAidHlwZSI6ICJ2ZXJ0ZXgiLCAicHJvcHMiOiB7ImNvbG9yIjogMTY3MTE2ODB9fQo=');</script>\n",
       "    "
      ],
      "text/plain": [
       "<IPython.core.display.HTML object>"
      ]
     },
     "metadata": {},
     "output_type": "display_data"
    },
    {
     "data": {
      "text/html": [
       "\n",
       "        <div id=\"KJXnMtyCAc5XvHvs4tSBsR\"></div>\n",
       "        <script>netpixi.call('KJXnMtyCAc5XvHvs4tSBsR', 'kMevSyjrf3B8vGoFZ2Jz4A', 'changeGraph', 'eyJpZCI6IDEzMSwgInR5cGUiOiAidmVydGV4IiwgInByb3BzIjogeyJzaXplIjogMTkuNzQ4OTUzOTc0ODk1Mzk3fX0K');</script>\n",
       "    "
      ],
      "text/plain": [
       "<IPython.core.display.HTML object>"
      ]
     },
     "metadata": {},
     "output_type": "display_data"
    },
    {
     "data": {
      "text/html": [
       "\n",
       "        <div id=\"hHU7Lgr3PCdAEKU7HYB2EA\"></div>\n",
       "        <script>netpixi.call('hHU7Lgr3PCdAEKU7HYB2EA', 'kMevSyjrf3B8vGoFZ2Jz4A', 'changeGraph', 'eyJpZCI6IDc5LCAidHlwZSI6ICJ2ZXJ0ZXgiLCAicHJvcHMiOiB7ImNvbG9yIjogMTY3MTE2ODB9fQo=');</script>\n",
       "    "
      ],
      "text/plain": [
       "<IPython.core.display.HTML object>"
      ]
     },
     "metadata": {},
     "output_type": "display_data"
    },
    {
     "data": {
      "text/html": [
       "\n",
       "        <div id=\"HvTEBs8HyudUVfEehzD7uE\"></div>\n",
       "        <script>netpixi.call('HvTEBs8HyudUVfEehzD7uE', 'kMevSyjrf3B8vGoFZ2Jz4A', 'changeGraph', 'eyJpZCI6IDEzMiwgInR5cGUiOiAidmVydGV4IiwgInByb3BzIjogeyJzaXplIjogNDEuMH19Cg==');</script>\n",
       "    "
      ],
      "text/plain": [
       "<IPython.core.display.HTML object>"
      ]
     },
     "metadata": {},
     "output_type": "display_data"
    },
    {
     "data": {
      "text/html": [
       "\n",
       "        <div id=\"Xp8Jmc6TSq3xtMK8gyFksR\"></div>\n",
       "        <script>netpixi.call('Xp8Jmc6TSq3xtMK8gyFksR', 'kMevSyjrf3B8vGoFZ2Jz4A', 'changeGraph', 'eyJpZCI6IDY2LCAidHlwZSI6ICJ2ZXJ0ZXgiLCAicHJvcHMiOiB7ImNvbG9yIjogMTY3MTE2ODB9fQo=');</script>\n",
       "    "
      ],
      "text/plain": [
       "<IPython.core.display.HTML object>"
      ]
     },
     "metadata": {},
     "output_type": "display_data"
    },
    {
     "data": {
      "text/html": [
       "\n",
       "        <div id=\"oUZwcCJWYovARJsv8knoUF\"></div>\n",
       "        <script>netpixi.call('oUZwcCJWYovARJsv8knoUF', 'kMevSyjrf3B8vGoFZ2Jz4A', 'changeGraph', 'eyJpZCI6IDEzMywgInR5cGUiOiAidmVydGV4IiwgInByb3BzIjogeyJzaXplIjogMTcuODY2MTA4Nzg2NjEwODh9fQo=');</script>\n",
       "    "
      ],
      "text/plain": [
       "<IPython.core.display.HTML object>"
      ]
     },
     "metadata": {},
     "output_type": "display_data"
    },
    {
     "data": {
      "text/html": [
       "\n",
       "        <div id=\"TtFDWmeZHXts3A7xfXazJJ\"></div>\n",
       "        <script>netpixi.call('TtFDWmeZHXts3A7xfXazJJ', 'kMevSyjrf3B8vGoFZ2Jz4A', 'changeGraph', 'eyJpZCI6IDc0LCAidHlwZSI6ICJ2ZXJ0ZXgiLCAicHJvcHMiOiB7ImNvbG9yIjogMTY3MTE2ODB9fQo=');</script>\n",
       "    "
      ],
      "text/plain": [
       "<IPython.core.display.HTML object>"
      ]
     },
     "metadata": {},
     "output_type": "display_data"
    },
    {
     "data": {
      "text/html": [
       "\n",
       "        <div id=\"ktTiGRAWJcoethrDNP8Ugh\"></div>\n",
       "        <script>netpixi.call('ktTiGRAWJcoethrDNP8Ugh', 'kMevSyjrf3B8vGoFZ2Jz4A', 'changeGraph', 'eyJpZCI6IDEzNCwgInR5cGUiOiAidmVydGV4IiwgInByb3BzIjogeyJzaXplIjogMTguODcwMjkyODg3MDI5Mjg3fX0K');</script>\n",
       "    "
      ],
      "text/plain": [
       "<IPython.core.display.HTML object>"
      ]
     },
     "metadata": {},
     "output_type": "display_data"
    },
    {
     "data": {
      "text/html": [
       "\n",
       "        <div id=\"jYMH8eAvvrYpcmcbFH4k5t\"></div>\n",
       "        <script>netpixi.call('jYMH8eAvvrYpcmcbFH4k5t', 'kMevSyjrf3B8vGoFZ2Jz4A', 'changeGraph', 'eyJpZCI6IDcwLCAidHlwZSI6ICJ2ZXJ0ZXgiLCAicHJvcHMiOiB7ImNvbG9yIjogMTY3MTE2ODB9fQo=');</script>\n",
       "    "
      ],
      "text/plain": [
       "<IPython.core.display.HTML object>"
      ]
     },
     "metadata": {},
     "output_type": "display_data"
    },
    {
     "data": {
      "text/html": [
       "\n",
       "        <div id=\"MxuzcoTNWjGAEpK4KxArf8\"></div>\n",
       "        <script>netpixi.call('MxuzcoTNWjGAEpK4KxArf8', 'kMevSyjrf3B8vGoFZ2Jz4A', 'changeGraph', 'eyJpZCI6IDEzNSwgInR5cGUiOiAidmVydGV4IiwgInByb3BzIjogeyJzaXplIjogMTguMDMzNDcyODAzMzQ3Mjh9fQo=');</script>\n",
       "    "
      ],
      "text/plain": [
       "<IPython.core.display.HTML object>"
      ]
     },
     "metadata": {},
     "output_type": "display_data"
    },
    {
     "data": {
      "text/html": [
       "\n",
       "        <div id=\"oDyNrRMwh4Rz6JSH6biaMM\"></div>\n",
       "        <script>netpixi.call('oDyNrRMwh4Rz6JSH6biaMM', 'kMevSyjrf3B8vGoFZ2Jz4A', 'changeGraph', 'eyJpZCI6IDY0LCAidHlwZSI6ICJ2ZXJ0ZXgiLCAicHJvcHMiOiB7ImNvbG9yIjogMTY3MTE2ODB9fQo=');</script>\n",
       "    "
      ],
      "text/plain": [
       "<IPython.core.display.HTML object>"
      ]
     },
     "metadata": {},
     "output_type": "display_data"
    },
    {
     "data": {
      "text/html": [
       "\n",
       "        <div id=\"RQ6Q6EZakvYchpZzNgzbBi\"></div>\n",
       "        <script>netpixi.call('RQ6Q6EZakvYchpZzNgzbBi', 'kMevSyjrf3B8vGoFZ2Jz4A', 'changeGraph', 'eyJpZCI6IDEzNiwgInR5cGUiOiAidmVydGV4IiwgInByb3BzIjogeyJzaXplIjogMTcuNDQ3Njk4NzQ0NzY5ODczfX0K');</script>\n",
       "    "
      ],
      "text/plain": [
       "<IPython.core.display.HTML object>"
      ]
     },
     "metadata": {},
     "output_type": "display_data"
    },
    {
     "data": {
      "text/html": [
       "\n",
       "        <div id=\"2vieijWXXHTu52GTbCsU9d\"></div>\n",
       "        <script>netpixi.call('2vieijWXXHTu52GTbCsU9d', 'kMevSyjrf3B8vGoFZ2Jz4A', 'changeGraph', 'eyJpZCI6IDgxLCAidHlwZSI6ICJ2ZXJ0ZXgiLCAicHJvcHMiOiB7ImNvbG9yIjogMTY3MTE2ODB9fQo=');</script>\n",
       "    "
      ],
      "text/plain": [
       "<IPython.core.display.HTML object>"
      ]
     },
     "metadata": {},
     "output_type": "display_data"
    },
    {
     "data": {
      "text/html": [
       "\n",
       "        <div id=\"FEMN4jHdqEmPEAheHyV7nE\"></div>\n",
       "        <script>netpixi.call('FEMN4jHdqEmPEAheHyV7nE', 'kMevSyjrf3B8vGoFZ2Jz4A', 'changeGraph', 'eyJpZCI6IDEzNywgInR5cGUiOiAidmVydGV4IiwgInByb3BzIjogeyJzaXplIjogMTUuMTQ2NDQzNTE0NjQ0MzV9fQo=');</script>\n",
       "    "
      ],
      "text/plain": [
       "<IPython.core.display.HTML object>"
      ]
     },
     "metadata": {},
     "output_type": "display_data"
    },
    {
     "data": {
      "text/html": [
       "\n",
       "        <div id=\"ZEbJs5mGh99UjxZKNGfDZa\"></div>\n",
       "        <script>netpixi.call('ZEbJs5mGh99UjxZKNGfDZa', 'kMevSyjrf3B8vGoFZ2Jz4A', 'changeGraph', 'eyJpZCI6IDc3LCAidHlwZSI6ICJ2ZXJ0ZXgiLCAicHJvcHMiOiB7ImNvbG9yIjogMTY3MTE2ODB9fQo=');</script>\n",
       "    "
      ],
      "text/plain": [
       "<IPython.core.display.HTML object>"
      ]
     },
     "metadata": {},
     "output_type": "display_data"
    },
    {
     "data": {
      "text/html": [
       "\n",
       "        <div id=\"Dzz5Q8VKtcMhfhFtSLcrud\"></div>\n",
       "        <script>netpixi.call('Dzz5Q8VKtcMhfhFtSLcrud', 'kMevSyjrf3B8vGoFZ2Jz4A', 'changeGraph', 'eyJpZCI6IDEzOCwgInR5cGUiOiAidmVydGV4IiwgInByb3BzIjogeyJzaXplIjogNDYuMzMzMzMzMzMzMzMzMzM2fX0K');</script>\n",
       "    "
      ],
      "text/plain": [
       "<IPython.core.display.HTML object>"
      ]
     },
     "metadata": {},
     "output_type": "display_data"
    },
    {
     "data": {
      "text/html": [
       "\n",
       "        <div id=\"aCDau79Ra8dkJSHpZEwTDo\"></div>\n",
       "        <script>netpixi.call('aCDau79Ra8dkJSHpZEwTDo', 'kMevSyjrf3B8vGoFZ2Jz4A', 'changeGraph', 'eyJpZCI6IDgzLCAidHlwZSI6ICJ2ZXJ0ZXgiLCAicHJvcHMiOiB7ImNvbG9yIjogMTY3MTE2ODB9fQo=');</script>\n",
       "    "
      ],
      "text/plain": [
       "<IPython.core.display.HTML object>"
      ]
     },
     "metadata": {},
     "output_type": "display_data"
    },
    {
     "data": {
      "text/html": [
       "\n",
       "        <div id=\"cN3GeUALzXNmRW4zQe5d6Y\"></div>\n",
       "        <script>netpixi.call('cN3GeUALzXNmRW4zQe5d6Y', 'kMevSyjrf3B8vGoFZ2Jz4A', 'changeGraph', 'eyJpZCI6IDEzOSwgInR5cGUiOiAidmVydGV4IiwgInByb3BzIjogeyJzaXplIjogNDguNX19Cg==');</script>\n",
       "    "
      ],
      "text/plain": [
       "<IPython.core.display.HTML object>"
      ]
     },
     "metadata": {},
     "output_type": "display_data"
    },
    {
     "data": {
      "text/html": [
       "\n",
       "        <div id=\"LMTgLp5zAJoc3tnG52U7Fm\"></div>\n",
       "        <script>netpixi.call('LMTgLp5zAJoc3tnG52U7Fm', 'kMevSyjrf3B8vGoFZ2Jz4A', 'changeGraph', 'eyJpZCI6IDc4LCAidHlwZSI6ICJ2ZXJ0ZXgiLCAicHJvcHMiOiB7ImNvbG9yIjogMTY3MTE2ODB9fQo=');</script>\n",
       "    "
      ],
      "text/plain": [
       "<IPython.core.display.HTML object>"
      ]
     },
     "metadata": {},
     "output_type": "display_data"
    },
    {
     "data": {
      "text/html": [
       "\n",
       "        <div id=\"QaJGEZKh5voQFscmeevhNg\"></div>\n",
       "        <script>netpixi.call('QaJGEZKh5voQFscmeevhNg', 'kMevSyjrf3B8vGoFZ2Jz4A', 'changeGraph', 'eyJpZCI6IDE0MCwgInR5cGUiOiAidmVydGV4IiwgInByb3BzIjogeyJzaXplIjogMTQuMTAwNDE4NDEwMDQxODR9fQo=');</script>\n",
       "    "
      ],
      "text/plain": [
       "<IPython.core.display.HTML object>"
      ]
     },
     "metadata": {},
     "output_type": "display_data"
    },
    {
     "data": {
      "text/html": [
       "\n",
       "        <div id=\"PXffE4gAz6GRiRWP6tFDBK\"></div>\n",
       "        <script>netpixi.call('PXffE4gAz6GRiRWP6tFDBK', 'kMevSyjrf3B8vGoFZ2Jz4A', 'changeGraph', 'eyJpZCI6IDgzLCAidHlwZSI6ICJ2ZXJ0ZXgiLCAicHJvcHMiOiB7ImNvbG9yIjogMTY3MTE2ODB9fQo=');</script>\n",
       "    "
      ],
      "text/plain": [
       "<IPython.core.display.HTML object>"
      ]
     },
     "metadata": {},
     "output_type": "display_data"
    },
    {
     "data": {
      "text/html": [
       "\n",
       "        <div id=\"ezhesNtBwq7PJHMLZA7cY7\"></div>\n",
       "        <script>netpixi.call('ezhesNtBwq7PJHMLZA7cY7', 'kMevSyjrf3B8vGoFZ2Jz4A', 'changeGraph', 'eyJpZCI6IDE0MSwgInR5cGUiOiAidmVydGV4IiwgInByb3BzIjogeyJzaXplIjogMTEuNzE1NDgxMTcxNTQ4MTE3fX0K');</script>\n",
       "    "
      ],
      "text/plain": [
       "<IPython.core.display.HTML object>"
      ]
     },
     "metadata": {},
     "output_type": "display_data"
    },
    {
     "data": {
      "text/html": [
       "\n",
       "        <div id=\"S7QMeSZC9HLfhDXit5QpzQ\"></div>\n",
       "        <script>netpixi.call('S7QMeSZC9HLfhDXit5QpzQ', 'kMevSyjrf3B8vGoFZ2Jz4A', 'changeGraph', 'eyJpZCI6IDc4LCAidHlwZSI6ICJ2ZXJ0ZXgiLCAicHJvcHMiOiB7ImNvbG9yIjogMTY3MTE2ODB9fQo=');</script>\n",
       "    "
      ],
      "text/plain": [
       "<IPython.core.display.HTML object>"
      ]
     },
     "metadata": {},
     "output_type": "display_data"
    },
    {
     "data": {
      "text/html": [
       "\n",
       "        <div id=\"DcNpE3uXw6cgmkHJZDTYBZ\"></div>\n",
       "        <script>netpixi.call('DcNpE3uXw6cgmkHJZDTYBZ', 'kMevSyjrf3B8vGoFZ2Jz4A', 'changeGraph', 'eyJpZCI6IDE0MiwgInR5cGUiOiAidmVydGV4IiwgInByb3BzIjogeyJzaXplIjogMTMuOTMzMDU0MzkzMzA1NDR9fQo=');</script>\n",
       "    "
      ],
      "text/plain": [
       "<IPython.core.display.HTML object>"
      ]
     },
     "metadata": {},
     "output_type": "display_data"
    },
    {
     "data": {
      "text/html": [
       "\n",
       "        <div id=\"Zn4p6w4y2te7PGwrZCXppG\"></div>\n",
       "        <script>netpixi.call('Zn4p6w4y2te7PGwrZCXppG', 'kMevSyjrf3B8vGoFZ2Jz4A', 'changeGraph', 'eyJpZCI6IDc4LCAidHlwZSI6ICJ2ZXJ0ZXgiLCAicHJvcHMiOiB7ImNvbG9yIjogMTY3MTE2ODB9fQo=');</script>\n",
       "    "
      ],
      "text/plain": [
       "<IPython.core.display.HTML object>"
      ]
     },
     "metadata": {},
     "output_type": "display_data"
    },
    {
     "data": {
      "text/html": [
       "\n",
       "        <div id=\"X9FPXvBdiG9W3bSoZsg3Ra\"></div>\n",
       "        <script>netpixi.call('X9FPXvBdiG9W3bSoZsg3Ra', 'kMevSyjrf3B8vGoFZ2Jz4A', 'changeGraph', 'eyJpZCI6IDE0MywgInR5cGUiOiAidmVydGV4IiwgInByb3BzIjogeyJzaXplIjogMTUuMTA0NjAyNTEwNDYwMjV9fQo=');</script>\n",
       "    "
      ],
      "text/plain": [
       "<IPython.core.display.HTML object>"
      ]
     },
     "metadata": {},
     "output_type": "display_data"
    },
    {
     "data": {
      "text/html": [
       "\n",
       "        <div id=\"hEu8pogZq7nFBP3UgFyBgW\"></div>\n",
       "        <script>netpixi.call('hEu8pogZq7nFBP3UgFyBgW', 'kMevSyjrf3B8vGoFZ2Jz4A', 'changeGraph', 'eyJpZCI6IDc4LCAidHlwZSI6ICJ2ZXJ0ZXgiLCAicHJvcHMiOiB7ImNvbG9yIjogMTY3MTE2ODB9fQo=');</script>\n",
       "    "
      ],
      "text/plain": [
       "<IPython.core.display.HTML object>"
      ]
     },
     "metadata": {},
     "output_type": "display_data"
    },
    {
     "data": {
      "text/html": [
       "\n",
       "        <div id=\"5cPNDvRK2WWpvHUwKiK4XH\"></div>\n",
       "        <script>netpixi.call('5cPNDvRK2WWpvHUwKiK4XH', 'kMevSyjrf3B8vGoFZ2Jz4A', 'changeGraph', 'eyJpZCI6IDE0NCwgInR5cGUiOiAidmVydGV4IiwgInByb3BzIjogeyJzaXplIjogMTIuMDUwMjA5MjA1MDIwOTJ9fQo=');</script>\n",
       "    "
      ],
      "text/plain": [
       "<IPython.core.display.HTML object>"
      ]
     },
     "metadata": {},
     "output_type": "display_data"
    },
    {
     "data": {
      "text/html": [
       "\n",
       "        <div id=\"g2EDRFGWnQraanusvnhpQr\"></div>\n",
       "        <script>netpixi.call('g2EDRFGWnQraanusvnhpQr', 'kMevSyjrf3B8vGoFZ2Jz4A', 'changeGraph', 'eyJpZCI6IDUzLCAidHlwZSI6ICJ2ZXJ0ZXgiLCAicHJvcHMiOiB7ImNvbG9yIjogMTY3MTE2ODB9fQo=');</script>\n",
       "    "
      ],
      "text/plain": [
       "<IPython.core.display.HTML object>"
      ]
     },
     "metadata": {},
     "output_type": "display_data"
    },
    {
     "data": {
      "text/html": [
       "\n",
       "        <div id=\"m65rbgLHLcDE44CkHvGRHe\"></div>\n",
       "        <script>netpixi.call('m65rbgLHLcDE44CkHvGRHe', 'kMevSyjrf3B8vGoFZ2Jz4A', 'changeGraph', 'eyJpZCI6IDE0NSwgInR5cGUiOiAidmVydGV4IiwgInByb3BzIjogeyJzaXplIjogMTUuMzU1NjQ4NTM1NTY0ODUzfX0K');</script>\n",
       "    "
      ],
      "text/plain": [
       "<IPython.core.display.HTML object>"
      ]
     },
     "metadata": {},
     "output_type": "display_data"
    },
    {
     "data": {
      "text/html": [
       "\n",
       "        <div id=\"fq5AonrBsLoZ32KqWcb7RF\"></div>\n",
       "        <script>netpixi.call('fq5AonrBsLoZ32KqWcb7RF', 'kMevSyjrf3B8vGoFZ2Jz4A', 'changeGraph', 'eyJpZCI6IDk0LCAidHlwZSI6ICJ2ZXJ0ZXgiLCAicHJvcHMiOiB7ImNvbG9yIjogMTY3MTE2ODB9fQo=');</script>\n",
       "    "
      ],
      "text/plain": [
       "<IPython.core.display.HTML object>"
      ]
     },
     "metadata": {},
     "output_type": "display_data"
    },
    {
     "data": {
      "text/html": [
       "\n",
       "        <div id=\"SsPy4eyHYRJd8TMhaDRGM6\"></div>\n",
       "        <script>netpixi.call('SsPy4eyHYRJd8TMhaDRGM6', 'kMevSyjrf3B8vGoFZ2Jz4A', 'changeGraph', 'eyJpZCI6IDE0NiwgInR5cGUiOiAidmVydGV4IiwgInByb3BzIjogeyJzaXplIjogMTMuODQ5MzcyMzg0OTM3MjM4fX0K');</script>\n",
       "    "
      ],
      "text/plain": [
       "<IPython.core.display.HTML object>"
      ]
     },
     "metadata": {},
     "output_type": "display_data"
    },
    {
     "data": {
      "text/html": [
       "\n",
       "        <div id=\"Vuyibi7LYsmqv4Jg4w3Hr9\"></div>\n",
       "        <script>netpixi.call('Vuyibi7LYsmqv4Jg4w3Hr9', 'kMevSyjrf3B8vGoFZ2Jz4A', 'changeGraph', 'eyJpZCI6IDc2LCAidHlwZSI6ICJ2ZXJ0ZXgiLCAicHJvcHMiOiB7ImNvbG9yIjogMTY3MTE2ODB9fQo=');</script>\n",
       "    "
      ],
      "text/plain": [
       "<IPython.core.display.HTML object>"
      ]
     },
     "metadata": {},
     "output_type": "display_data"
    },
    {
     "data": {
      "text/html": [
       "\n",
       "        <div id=\"GnBuFpHSeuJWdagDwXhE7t\"></div>\n",
       "        <script>netpixi.call('GnBuFpHSeuJWdagDwXhE7t', 'kMevSyjrf3B8vGoFZ2Jz4A', 'changeGraph', 'eyJpZCI6IDE0NywgInR5cGUiOiAidmVydGV4IiwgInByb3BzIjogeyJzaXplIjogMTMuMDU0MzkzMzA1NDM5MzN9fQo=');</script>\n",
       "    "
      ],
      "text/plain": [
       "<IPython.core.display.HTML object>"
      ]
     },
     "metadata": {},
     "output_type": "display_data"
    },
    {
     "data": {
      "text/html": [
       "\n",
       "        <div id=\"b8vVur2nfSn9oFccKREhAN\"></div>\n",
       "        <script>netpixi.call('b8vVur2nfSn9oFccKREhAN', 'kMevSyjrf3B8vGoFZ2Jz4A', 'changeGraph', 'eyJpZCI6IDU0LCAidHlwZSI6ICJ2ZXJ0ZXgiLCAicHJvcHMiOiB7ImNvbG9yIjogMTY3MTE2ODB9fQo=');</script>\n",
       "    "
      ],
      "text/plain": [
       "<IPython.core.display.HTML object>"
      ]
     },
     "metadata": {},
     "output_type": "display_data"
    },
    {
     "data": {
      "text/html": [
       "\n",
       "        <div id=\"na8VAQ2biENWJqV9RwcUQ5\"></div>\n",
       "        <script>netpixi.call('na8VAQ2biENWJqV9RwcUQ5', 'kMevSyjrf3B8vGoFZ2Jz4A', 'changeGraph', 'eyJpZCI6IDE0OCwgInR5cGUiOiAidmVydGV4IiwgInByb3BzIjogeyJzaXplIjogMTEuMjk3MDcxMTI5NzA3MTEzfX0K');</script>\n",
       "    "
      ],
      "text/plain": [
       "<IPython.core.display.HTML object>"
      ]
     },
     "metadata": {},
     "output_type": "display_data"
    },
    {
     "data": {
      "text/html": [
       "\n",
       "        <div id=\"YBLZThLPacvuAm86XKU8jK\"></div>\n",
       "        <script>netpixi.call('YBLZThLPacvuAm86XKU8jK', 'kMevSyjrf3B8vGoFZ2Jz4A', 'changeGraph', 'eyJpZCI6IDY4LCAidHlwZSI6ICJ2ZXJ0ZXgiLCAicHJvcHMiOiB7ImNvbG9yIjogMTY3MTE2ODB9fQo=');</script>\n",
       "    "
      ],
      "text/plain": [
       "<IPython.core.display.HTML object>"
      ]
     },
     "metadata": {},
     "output_type": "display_data"
    },
    {
     "data": {
      "text/html": [
       "\n",
       "        <div id=\"EiuSMBhZTqhan6QeNJFvFs\"></div>\n",
       "        <script>netpixi.call('EiuSMBhZTqhan6QeNJFvFs', 'kMevSyjrf3B8vGoFZ2Jz4A', 'changeGraph', 'eyJpZCI6IDE0OSwgInR5cGUiOiAidmVydGV4IiwgInByb3BzIjogeyJzaXplIjogNDEuNX19Cg==');</script>\n",
       "    "
      ],
      "text/plain": [
       "<IPython.core.display.HTML object>"
      ]
     },
     "metadata": {},
     "output_type": "display_data"
    },
    {
     "data": {
      "text/html": [
       "\n",
       "        <div id=\"HL8xdWYrAsepHEUwbcRm3z\"></div>\n",
       "        <script>netpixi.call('HL8xdWYrAsepHEUwbcRm3z', 'kMevSyjrf3B8vGoFZ2Jz4A', 'changeGraph', 'eyJpZCI6IDY1LCAidHlwZSI6ICJ2ZXJ0ZXgiLCAicHJvcHMiOiB7ImNvbG9yIjogMTY3MTE2ODB9fQo=');</script>\n",
       "    "
      ],
      "text/plain": [
       "<IPython.core.display.HTML object>"
      ]
     },
     "metadata": {},
     "output_type": "display_data"
    },
    {
     "data": {
      "text/html": [
       "\n",
       "        <div id=\"2nEkmXnnzSwAWskgbFoqY8\"></div>\n",
       "        <script>netpixi.call('2nEkmXnnzSwAWskgbFoqY8', 'kMevSyjrf3B8vGoFZ2Jz4A', 'changeGraph', 'eyJpZCI6IDE1MCwgInR5cGUiOiAidmVydGV4IiwgInByb3BzIjogeyJzaXplIjogNDAuNjY2NjY2NjY2NjY2Njd9fQo=');</script>\n",
       "    "
      ],
      "text/plain": [
       "<IPython.core.display.HTML object>"
      ]
     },
     "metadata": {},
     "output_type": "display_data"
    },
    {
     "data": {
      "text/html": [
       "\n",
       "        <div id=\"UxVkepGZzJMXvPcLvaJzMp\"></div>\n",
       "        <script>netpixi.call('UxVkepGZzJMXvPcLvaJzMp', 'kMevSyjrf3B8vGoFZ2Jz4A', 'changeGraph', 'eyJpZCI6IDkwLCAidHlwZSI6ICJ2ZXJ0ZXgiLCAicHJvcHMiOiB7ImNvbG9yIjogMTY3MTE2ODB9fQo=');</script>\n",
       "    "
      ],
      "text/plain": [
       "<IPython.core.display.HTML object>"
      ]
     },
     "metadata": {},
     "output_type": "display_data"
    },
    {
     "data": {
      "text/html": [
       "\n",
       "        <div id=\"97DJgAyMPYLc25KgtdDvcp\"></div>\n",
       "        <script>netpixi.call('97DJgAyMPYLc25KgtdDvcp', 'kMevSyjrf3B8vGoFZ2Jz4A', 'changeGraph', 'eyJpZCI6IDE1MSwgInR5cGUiOiAidmVydGV4IiwgInByb3BzIjogeyJzaXplIjogMTcuNzQwNTg1Nzc0MDU4NTc3fX0K');</script>\n",
       "    "
      ],
      "text/plain": [
       "<IPython.core.display.HTML object>"
      ]
     },
     "metadata": {},
     "output_type": "display_data"
    },
    {
     "data": {
      "text/html": [
       "\n",
       "        <div id=\"WrZRfraq25sW5C2TPGwD7b\"></div>\n",
       "        <script>netpixi.call('WrZRfraq25sW5C2TPGwD7b', 'kMevSyjrf3B8vGoFZ2Jz4A', 'changeGraph', 'eyJpZCI6IDg4LCAidHlwZSI6ICJ2ZXJ0ZXgiLCAicHJvcHMiOiB7ImNvbG9yIjogMTY3MTE2ODB9fQo=');</script>\n",
       "    "
      ],
      "text/plain": [
       "<IPython.core.display.HTML object>"
      ]
     },
     "metadata": {},
     "output_type": "display_data"
    },
    {
     "data": {
      "text/html": [
       "\n",
       "        <div id=\"jR3H5dJ457s7iZgiRAdupH\"></div>\n",
       "        <script>netpixi.call('jR3H5dJ457s7iZgiRAdupH', 'kMevSyjrf3B8vGoFZ2Jz4A', 'changeGraph', 'eyJpZCI6IDE1MiwgInR5cGUiOiAidmVydGV4IiwgInByb3BzIjogeyJzaXplIjogMTIuNjM1OTgzMjYzNTk4MzI3fX0K');</script>\n",
       "    "
      ],
      "text/plain": [
       "<IPython.core.display.HTML object>"
      ]
     },
     "metadata": {},
     "output_type": "display_data"
    },
    {
     "data": {
      "text/html": [
       "\n",
       "        <div id=\"hiWhTsGZ6f682RfFHNxfhC\"></div>\n",
       "        <script>netpixi.call('hiWhTsGZ6f682RfFHNxfhC', 'kMevSyjrf3B8vGoFZ2Jz4A', 'changeGraph', 'eyJpZCI6IDg2LCAidHlwZSI6ICJ2ZXJ0ZXgiLCAicHJvcHMiOiB7ImNvbG9yIjogMTY3MTE2ODB9fQo=');</script>\n",
       "    "
      ],
      "text/plain": [
       "<IPython.core.display.HTML object>"
      ]
     },
     "metadata": {},
     "output_type": "display_data"
    },
    {
     "data": {
      "text/html": [
       "\n",
       "        <div id=\"LChVwg4ZtB3nRoSEWasyCz\"></div>\n",
       "        <script>netpixi.call('LChVwg4ZtB3nRoSEWasyCz', 'kMevSyjrf3B8vGoFZ2Jz4A', 'changeGraph', 'eyJpZCI6IDE1MywgInR5cGUiOiAidmVydGV4IiwgInByb3BzIjogeyJzaXplIjogMTQuNzY5ODc0NDc2OTg3NDQ3fX0K');</script>\n",
       "    "
      ],
      "text/plain": [
       "<IPython.core.display.HTML object>"
      ]
     },
     "metadata": {},
     "output_type": "display_data"
    },
    {
     "data": {
      "text/html": [
       "\n",
       "        <div id=\"VGfkuTYAQNbKSLLLEC6oRL\"></div>\n",
       "        <script>netpixi.call('VGfkuTYAQNbKSLLLEC6oRL', 'kMevSyjrf3B8vGoFZ2Jz4A', 'changeGraph', 'eyJpZCI6IDcyLCAidHlwZSI6ICJ2ZXJ0ZXgiLCAicHJvcHMiOiB7ImNvbG9yIjogMTY3MTE2ODB9fQo=');</script>\n",
       "    "
      ],
      "text/plain": [
       "<IPython.core.display.HTML object>"
      ]
     },
     "metadata": {},
     "output_type": "display_data"
    },
    {
     "data": {
      "text/html": [
       "\n",
       "        <div id=\"2jdLf6AP6qpC9yA7bUwo5H\"></div>\n",
       "        <script>netpixi.call('2jdLf6AP6qpC9yA7bUwo5H', 'kMevSyjrf3B8vGoFZ2Jz4A', 'changeGraph', 'eyJpZCI6IDE1NCwgInR5cGUiOiAidmVydGV4IiwgInByb3BzIjogeyJzaXplIjogMTkuNzA3MTEyOTcwNzExMjk3fX0K');</script>\n",
       "    "
      ],
      "text/plain": [
       "<IPython.core.display.HTML object>"
      ]
     },
     "metadata": {},
     "output_type": "display_data"
    },
    {
     "data": {
      "text/html": [
       "\n",
       "        <div id=\"MjWQb7zJdQ8vuyGFRFvbP9\"></div>\n",
       "        <script>netpixi.call('MjWQb7zJdQ8vuyGFRFvbP9', 'kMevSyjrf3B8vGoFZ2Jz4A', 'changeGraph', 'eyJpZCI6IDgyLCAidHlwZSI6ICJ2ZXJ0ZXgiLCAicHJvcHMiOiB7ImNvbG9yIjogMTY3MTE2ODB9fQo=');</script>\n",
       "    "
      ],
      "text/plain": [
       "<IPython.core.display.HTML object>"
      ]
     },
     "metadata": {},
     "output_type": "display_data"
    },
    {
     "data": {
      "text/html": [
       "\n",
       "        <div id=\"LibifPN4Hsk3fmwtCCRt5J\"></div>\n",
       "        <script>netpixi.call('LibifPN4Hsk3fmwtCCRt5J', 'kMevSyjrf3B8vGoFZ2Jz4A', 'changeGraph', 'eyJpZCI6IDE1NSwgInR5cGUiOiAidmVydGV4IiwgInByb3BzIjogeyJzaXplIjogMTQuNjg2MTkyNDY4NjE5MjQ3fX0K');</script>\n",
       "    "
      ],
      "text/plain": [
       "<IPython.core.display.HTML object>"
      ]
     },
     "metadata": {},
     "output_type": "display_data"
    },
    {
     "data": {
      "text/html": [
       "\n",
       "        <div id=\"AkCWid4mFb9HaUTmEtgDz4\"></div>\n",
       "        <script>netpixi.call('AkCWid4mFb9HaUTmEtgDz4', 'kMevSyjrf3B8vGoFZ2Jz4A', 'changeGraph', 'eyJpZCI6IDg2LCAidHlwZSI6ICJ2ZXJ0ZXgiLCAicHJvcHMiOiB7ImNvbG9yIjogMTY3MTE2ODB9fQo=');</script>\n",
       "    "
      ],
      "text/plain": [
       "<IPython.core.display.HTML object>"
      ]
     },
     "metadata": {},
     "output_type": "display_data"
    },
    {
     "data": {
      "text/html": [
       "\n",
       "        <div id=\"GeDmejUa2Bp6hW9By2ZaY7\"></div>\n",
       "        <script>netpixi.call('GeDmejUa2Bp6hW9By2ZaY7', 'kMevSyjrf3B8vGoFZ2Jz4A', 'changeGraph', 'eyJpZCI6IDE1NiwgInR5cGUiOiAidmVydGV4IiwgInByb3BzIjogeyJzaXplIjogNDcuNX19Cg==');</script>\n",
       "    "
      ],
      "text/plain": [
       "<IPython.core.display.HTML object>"
      ]
     },
     "metadata": {},
     "output_type": "display_data"
    },
    {
     "data": {
      "text/html": [
       "\n",
       "        <div id=\"UP4MzmLkKwtAHcqbEP4AqW\"></div>\n",
       "        <script>netpixi.call('UP4MzmLkKwtAHcqbEP4AqW', 'kMevSyjrf3B8vGoFZ2Jz4A', 'changeGraph', 'eyJpZCI6IDgxLCAidHlwZSI6ICJ2ZXJ0ZXgiLCAicHJvcHMiOiB7ImNvbG9yIjogMTY3MTE2ODB9fQo=');</script>\n",
       "    "
      ],
      "text/plain": [
       "<IPython.core.display.HTML object>"
      ]
     },
     "metadata": {},
     "output_type": "display_data"
    },
    {
     "data": {
      "text/html": [
       "\n",
       "        <div id=\"3WW4jDrqfEc6UTc9yHkmY4\"></div>\n",
       "        <script>netpixi.call('3WW4jDrqfEc6UTc9yHkmY4', 'kMevSyjrf3B8vGoFZ2Jz4A', 'changeGraph', 'eyJpZCI6IDE1NywgInR5cGUiOiAidmVydGV4IiwgInByb3BzIjogeyJzaXplIjogMTAuNDE4NDEwMDQxODQxMDAzfX0K');</script>\n",
       "    "
      ],
      "text/plain": [
       "<IPython.core.display.HTML object>"
      ]
     },
     "metadata": {},
     "output_type": "display_data"
    },
    {
     "data": {
      "text/html": [
       "\n",
       "        <div id=\"7yGo3CAAK6Mio7mn6byF3R\"></div>\n",
       "        <script>netpixi.call('7yGo3CAAK6Mio7mn6byF3R', 'kMevSyjrf3B8vGoFZ2Jz4A', 'changeGraph', 'eyJpZCI6IDY5LCAidHlwZSI6ICJ2ZXJ0ZXgiLCAicHJvcHMiOiB7ImNvbG9yIjogMTY3MTE2ODB9fQo=');</script>\n",
       "    "
      ],
      "text/plain": [
       "<IPython.core.display.HTML object>"
      ]
     },
     "metadata": {},
     "output_type": "display_data"
    },
    {
     "data": {
      "text/html": [
       "\n",
       "        <div id=\"PC5tYN5xfz6yWbofbkv9cq\"></div>\n",
       "        <script>netpixi.call('PC5tYN5xfz6yWbofbkv9cq', 'kMevSyjrf3B8vGoFZ2Jz4A', 'changeGraph', 'eyJpZCI6IDE1OCwgInR5cGUiOiAidmVydGV4IiwgInByb3BzIjogeyJzaXplIjogMTEuODgyODQ1MTg4Mjg0NTE4fX0K');</script>\n",
       "    "
      ],
      "text/plain": [
       "<IPython.core.display.HTML object>"
      ]
     },
     "metadata": {},
     "output_type": "display_data"
    },
    {
     "data": {
      "text/html": [
       "\n",
       "        <div id=\"P26vEPGPXGb9TJaPcctrsG\"></div>\n",
       "        <script>netpixi.call('P26vEPGPXGb9TJaPcctrsG', 'kMevSyjrf3B8vGoFZ2Jz4A', 'changeGraph', 'eyJpZCI6IDcwLCAidHlwZSI6ICJ2ZXJ0ZXgiLCAicHJvcHMiOiB7ImNvbG9yIjogMTY3MTE2ODB9fQo=');</script>\n",
       "    "
      ],
      "text/plain": [
       "<IPython.core.display.HTML object>"
      ]
     },
     "metadata": {},
     "output_type": "display_data"
    },
    {
     "data": {
      "text/html": [
       "\n",
       "        <div id=\"4CVYSxvHx26zvgquokz4aD\"></div>\n",
       "        <script>netpixi.call('4CVYSxvHx26zvgquokz4aD', 'kMevSyjrf3B8vGoFZ2Jz4A', 'changeGraph', 'eyJpZCI6IDE1OSwgInR5cGUiOiAidmVydGV4IiwgInByb3BzIjogeyJzaXplIjogMTAuMzc2NTY5MDM3NjU2OTAzfX0K');</script>\n",
       "    "
      ],
      "text/plain": [
       "<IPython.core.display.HTML object>"
      ]
     },
     "metadata": {},
     "output_type": "display_data"
    },
    {
     "data": {
      "text/html": [
       "\n",
       "        <div id=\"HVWT4bnUYnaLonZQsqzAdR\"></div>\n",
       "        <script>netpixi.call('HVWT4bnUYnaLonZQsqzAdR', 'kMevSyjrf3B8vGoFZ2Jz4A', 'changeGraph', 'eyJpZCI6IDY1LCAidHlwZSI6ICJ2ZXJ0ZXgiLCAicHJvcHMiOiB7ImNvbG9yIjogMTY3MTE2ODB9fQo=');</script>\n",
       "    "
      ],
      "text/plain": [
       "<IPython.core.display.HTML object>"
      ]
     },
     "metadata": {},
     "output_type": "display_data"
    },
    {
     "data": {
      "text/html": [
       "\n",
       "        <div id=\"oAWiNC7VhALFPJfErMRKcu\"></div>\n",
       "        <script>netpixi.call('oAWiNC7VhALFPJfErMRKcu', 'kMevSyjrf3B8vGoFZ2Jz4A', 'changeGraph', 'eyJpZCI6IDE2MCwgInR5cGUiOiAidmVydGV4IiwgInByb3BzIjogeyJzaXplIjogNDMuMzMzMzMzMzMzMzMzMzM2fX0K');</script>\n",
       "    "
      ],
      "text/plain": [
       "<IPython.core.display.HTML object>"
      ]
     },
     "metadata": {},
     "output_type": "display_data"
    },
    {
     "data": {
      "text/html": [
       "\n",
       "        <div id=\"HYw3zSYN4SUceYNViU3gMq\"></div>\n",
       "        <script>netpixi.call('HYw3zSYN4SUceYNViU3gMq', 'kMevSyjrf3B8vGoFZ2Jz4A', 'changeGraph', 'eyJpZCI6IDc2LCAidHlwZSI6ICJ2ZXJ0ZXgiLCAicHJvcHMiOiB7ImNvbG9yIjogMTY3MTE2ODB9fQo=');</script>\n",
       "    "
      ],
      "text/plain": [
       "<IPython.core.display.HTML object>"
      ]
     },
     "metadata": {},
     "output_type": "display_data"
    },
    {
     "data": {
      "text/html": [
       "\n",
       "        <div id=\"dk9agZEv7Ghy9x7BA4EhFq\"></div>\n",
       "        <script>netpixi.call('dk9agZEv7Ghy9x7BA4EhFq', 'kMevSyjrf3B8vGoFZ2Jz4A', 'changeGraph', 'eyJpZCI6IDE2MSwgInR5cGUiOiAidmVydGV4IiwgInByb3BzIjogeyJzaXplIjogMTQuNDM1MTQ2NDQzNTE0NjQzfX0K');</script>\n",
       "    "
      ],
      "text/plain": [
       "<IPython.core.display.HTML object>"
      ]
     },
     "metadata": {},
     "output_type": "display_data"
    },
    {
     "data": {
      "text/html": [
       "\n",
       "        <div id=\"T2gpx9ov5xy97RiCxasMLe\"></div>\n",
       "        <script>netpixi.call('T2gpx9ov5xy97RiCxasMLe', 'kMevSyjrf3B8vGoFZ2Jz4A', 'changeGraph', 'eyJpZCI6IDg0LCAidHlwZSI6ICJ2ZXJ0ZXgiLCAicHJvcHMiOiB7ImNvbG9yIjogMTY3MTE2ODB9fQo=');</script>\n",
       "    "
      ],
      "text/plain": [
       "<IPython.core.display.HTML object>"
      ]
     },
     "metadata": {},
     "output_type": "display_data"
    },
    {
     "data": {
      "text/html": [
       "\n",
       "        <div id=\"7CkBCeo9JcS86xTNm59tNM\"></div>\n",
       "        <script>netpixi.call('7CkBCeo9JcS86xTNm59tNM', 'kMevSyjrf3B8vGoFZ2Jz4A', 'changeGraph', 'eyJpZCI6IDE2MiwgInR5cGUiOiAidmVydGV4IiwgInByb3BzIjogeyJzaXplIjogNDUuNjY2NjY2NjY2NjY2NjY0fX0K');</script>\n",
       "    "
      ],
      "text/plain": [
       "<IPython.core.display.HTML object>"
      ]
     },
     "metadata": {},
     "output_type": "display_data"
    },
    {
     "data": {
      "text/html": [
       "\n",
       "        <div id=\"fQujfgJH76ENVtHM4u3Udw\"></div>\n",
       "        <script>netpixi.call('fQujfgJH76ENVtHM4u3Udw', 'kMevSyjrf3B8vGoFZ2Jz4A', 'changeGraph', 'eyJpZCI6IDczLCAidHlwZSI6ICJ2ZXJ0ZXgiLCAicHJvcHMiOiB7ImNvbG9yIjogMTY3MTE2ODB9fQo=');</script>\n",
       "    "
      ],
      "text/plain": [
       "<IPython.core.display.HTML object>"
      ]
     },
     "metadata": {},
     "output_type": "display_data"
    },
    {
     "data": {
      "text/html": [
       "\n",
       "        <div id=\"PTjAEehVE3kYmBcaSSYNww\"></div>\n",
       "        <script>netpixi.call('PTjAEehVE3kYmBcaSSYNww', 'kMevSyjrf3B8vGoFZ2Jz4A', 'changeGraph', 'eyJpZCI6IDE2MywgInR5cGUiOiAidmVydGV4IiwgInByb3BzIjogeyJzaXplIjogMTkuNDU2MDY2OTQ1NjA2NjkzfX0K');</script>\n",
       "    "
      ],
      "text/plain": [
       "<IPython.core.display.HTML object>"
      ]
     },
     "metadata": {},
     "output_type": "display_data"
    },
    {
     "data": {
      "text/html": [
       "\n",
       "        <div id=\"S76ntJ7v85TrMX8b2YRQHj\"></div>\n",
       "        <script>netpixi.call('S76ntJ7v85TrMX8b2YRQHj', 'kMevSyjrf3B8vGoFZ2Jz4A', 'changeGraph', 'eyJpZCI6IDgxLCAidHlwZSI6ICJ2ZXJ0ZXgiLCAicHJvcHMiOiB7ImNvbG9yIjogMTY3MTE2ODB9fQo=');</script>\n",
       "    "
      ],
      "text/plain": [
       "<IPython.core.display.HTML object>"
      ]
     },
     "metadata": {},
     "output_type": "display_data"
    },
    {
     "data": {
      "text/html": [
       "\n",
       "        <div id=\"BFsEmo7kjuQnUiGA9QE2Xy\"></div>\n",
       "        <script>netpixi.call('BFsEmo7kjuQnUiGA9QE2Xy', 'kMevSyjrf3B8vGoFZ2Jz4A', 'changeGraph', 'eyJpZCI6IDE2NCwgInR5cGUiOiAidmVydGV4IiwgInByb3BzIjogeyJzaXplIjogMTQuNzI4MDMzNDcyODAzMzQ3fX0K');</script>\n",
       "    "
      ],
      "text/plain": [
       "<IPython.core.display.HTML object>"
      ]
     },
     "metadata": {},
     "output_type": "display_data"
    },
    {
     "data": {
      "text/html": [
       "\n",
       "        <div id=\"Tkdt3S5hNQUwJZfxAyUWZq\"></div>\n",
       "        <script>netpixi.call('Tkdt3S5hNQUwJZfxAyUWZq', 'kMevSyjrf3B8vGoFZ2Jz4A', 'changeGraph', 'eyJpZCI6IDg2LCAidHlwZSI6ICJ2ZXJ0ZXgiLCAicHJvcHMiOiB7ImNvbG9yIjogMTY3MTE2ODB9fQo=');</script>\n",
       "    "
      ],
      "text/plain": [
       "<IPython.core.display.HTML object>"
      ]
     },
     "metadata": {},
     "output_type": "display_data"
    },
    {
     "data": {
      "text/html": [
       "\n",
       "        <div id=\"Waj4VQRRWfFBrM2Mtr7iDE\"></div>\n",
       "        <script>netpixi.call('Waj4VQRRWfFBrM2Mtr7iDE', 'kMevSyjrf3B8vGoFZ2Jz4A', 'changeGraph', 'eyJpZCI6IDE2NSwgInR5cGUiOiAidmVydGV4IiwgInByb3BzIjogeyJzaXplIjogMTUuNDgxMTcxNTQ4MTE3MTUzfX0K');</script>\n",
       "    "
      ],
      "text/plain": [
       "<IPython.core.display.HTML object>"
      ]
     },
     "metadata": {},
     "output_type": "display_data"
    },
    {
     "data": {
      "text/html": [
       "\n",
       "        <div id=\"7y4CAdKMf8qkat3C5NMq3e\"></div>\n",
       "        <script>netpixi.call('7y4CAdKMf8qkat3C5NMq3e', 'kMevSyjrf3B8vGoFZ2Jz4A', 'changeGraph', 'eyJpZCI6IDg3LCAidHlwZSI6ICJ2ZXJ0ZXgiLCAicHJvcHMiOiB7ImNvbG9yIjogMTY3MTE2ODB9fQo=');</script>\n",
       "    "
      ],
      "text/plain": [
       "<IPython.core.display.HTML object>"
      ]
     },
     "metadata": {},
     "output_type": "display_data"
    },
    {
     "data": {
      "text/html": [
       "\n",
       "        <div id=\"7zSHta6pGAUWrZjdc2KzSp\"></div>\n",
       "        <script>netpixi.call('7zSHta6pGAUWrZjdc2KzSp', 'kMevSyjrf3B8vGoFZ2Jz4A', 'changeGraph', 'eyJpZCI6IDE2NiwgInR5cGUiOiAidmVydGV4IiwgInByb3BzIjogeyJzaXplIjogMTYuNzM2NDAxNjczNjQwMTY3fX0K');</script>\n",
       "    "
      ],
      "text/plain": [
       "<IPython.core.display.HTML object>"
      ]
     },
     "metadata": {},
     "output_type": "display_data"
    },
    {
     "data": {
      "text/html": [
       "\n",
       "        <div id=\"Dnzihzj8qPzpWdrHNsRyiN\"></div>\n",
       "        <script>netpixi.call('Dnzihzj8qPzpWdrHNsRyiN', 'kMevSyjrf3B8vGoFZ2Jz4A', 'changeGraph', 'eyJpZCI6IDg5LCAidHlwZSI6ICJ2ZXJ0ZXgiLCAicHJvcHMiOiB7ImNvbG9yIjogMTY3MTE2ODB9fQo=');</script>\n",
       "    "
      ],
      "text/plain": [
       "<IPython.core.display.HTML object>"
      ]
     },
     "metadata": {},
     "output_type": "display_data"
    },
    {
     "data": {
      "text/html": [
       "\n",
       "        <div id=\"ikHfKNPFZBswyVppdLBmt5\"></div>\n",
       "        <script>netpixi.call('ikHfKNPFZBswyVppdLBmt5', 'kMevSyjrf3B8vGoFZ2Jz4A', 'changeGraph', 'eyJpZCI6IDE2NywgInR5cGUiOiAidmVydGV4IiwgInByb3BzIjogeyJzaXplIjogNDguMH19Cg==');</script>\n",
       "    "
      ],
      "text/plain": [
       "<IPython.core.display.HTML object>"
      ]
     },
     "metadata": {},
     "output_type": "display_data"
    },
    {
     "data": {
      "text/html": [
       "\n",
       "        <div id=\"4WHx4etETBRycmoarkP6FC\"></div>\n",
       "        <script>netpixi.call('4WHx4etETBRycmoarkP6FC', 'kMevSyjrf3B8vGoFZ2Jz4A', 'changeGraph', 'eyJpZCI6IDczLCAidHlwZSI6ICJ2ZXJ0ZXgiLCAicHJvcHMiOiB7ImNvbG9yIjogMTY3MTE2ODB9fQo=');</script>\n",
       "    "
      ],
      "text/plain": [
       "<IPython.core.display.HTML object>"
      ]
     },
     "metadata": {},
     "output_type": "display_data"
    },
    {
     "data": {
      "text/html": [
       "\n",
       "        <div id=\"YGDXeXcEiWthUKzCAK6dAv\"></div>\n",
       "        <script>netpixi.call('YGDXeXcEiWthUKzCAK6dAv', 'kMevSyjrf3B8vGoFZ2Jz4A', 'changeGraph', 'eyJpZCI6IDE2OCwgInR5cGUiOiAidmVydGV4IiwgInByb3BzIjogeyJzaXplIjogMTAuNjI3NjE1MDYyNzYxNTA3fX0K');</script>\n",
       "    "
      ],
      "text/plain": [
       "<IPython.core.display.HTML object>"
      ]
     },
     "metadata": {},
     "output_type": "display_data"
    },
    {
     "data": {
      "text/html": [
       "\n",
       "        <div id=\"6T4q5YzWrxasoE29QwZ8bB\"></div>\n",
       "        <script>netpixi.call('6T4q5YzWrxasoE29QwZ8bB', 'kMevSyjrf3B8vGoFZ2Jz4A', 'changeGraph', 'eyJpZCI6IDgwLCAidHlwZSI6ICJ2ZXJ0ZXgiLCAicHJvcHMiOiB7ImNvbG9yIjogMTY3MTE2ODB9fQo=');</script>\n",
       "    "
      ],
      "text/plain": [
       "<IPython.core.display.HTML object>"
      ]
     },
     "metadata": {},
     "output_type": "display_data"
    },
    {
     "data": {
      "text/html": [
       "\n",
       "        <div id=\"foxGFhJ8WePS9dxXtHDEA8\"></div>\n",
       "        <script>netpixi.call('foxGFhJ8WePS9dxXtHDEA8', 'kMevSyjrf3B8vGoFZ2Jz4A', 'changeGraph', 'eyJpZCI6IDE2OSwgInR5cGUiOiAidmVydGV4IiwgInByb3BzIjogeyJzaXplIjogMTcuNjU2OTAzNzY1NjkwMzc3fX0K');</script>\n",
       "    "
      ],
      "text/plain": [
       "<IPython.core.display.HTML object>"
      ]
     },
     "metadata": {},
     "output_type": "display_data"
    },
    {
     "data": {
      "text/html": [
       "\n",
       "        <div id=\"ZZ6qHgTUrVwa8RbzK76hCq\"></div>\n",
       "        <script>netpixi.call('ZZ6qHgTUrVwa8RbzK76hCq', 'kMevSyjrf3B8vGoFZ2Jz4A', 'changeGraph', 'eyJpZCI6IDg1LCAidHlwZSI6ICJ2ZXJ0ZXgiLCAicHJvcHMiOiB7ImNvbG9yIjogMTY3MTE2ODB9fQo=');</script>\n",
       "    "
      ],
      "text/plain": [
       "<IPython.core.display.HTML object>"
      ]
     },
     "metadata": {},
     "output_type": "display_data"
    },
    {
     "data": {
      "text/html": [
       "\n",
       "        <div id=\"bXnut72g3Eu3uc7TKxA62K\"></div>\n",
       "        <script>netpixi.call('bXnut72g3Eu3uc7TKxA62K', 'kMevSyjrf3B8vGoFZ2Jz4A', 'changeGraph', 'eyJpZCI6IDE3MCwgInR5cGUiOiAidmVydGV4IiwgInByb3BzIjogeyJzaXplIjogNDUuMTY2NjY2NjY2NjY2NjY0fX0K');</script>\n",
       "    "
      ],
      "text/plain": [
       "<IPython.core.display.HTML object>"
      ]
     },
     "metadata": {},
     "output_type": "display_data"
    },
    {
     "data": {
      "text/html": [
       "\n",
       "        <div id=\"DztuqN7HKvrKi5pkQ5iACe\"></div>\n",
       "        <script>netpixi.call('DztuqN7HKvrKi5pkQ5iACe', 'kMevSyjrf3B8vGoFZ2Jz4A', 'changeGraph', 'eyJpZCI6IDY4LCAidHlwZSI6ICJ2ZXJ0ZXgiLCAicHJvcHMiOiB7ImNvbG9yIjogMTY3MTE2ODB9fQo=');</script>\n",
       "    "
      ],
      "text/plain": [
       "<IPython.core.display.HTML object>"
      ]
     },
     "metadata": {},
     "output_type": "display_data"
    },
    {
     "data": {
      "text/html": [
       "\n",
       "        <div id=\"Ywfcg63KiHyX8vFWkS2xsN\"></div>\n",
       "        <script>netpixi.call('Ywfcg63KiHyX8vFWkS2xsN', 'kMevSyjrf3B8vGoFZ2Jz4A', 'changeGraph', 'eyJpZCI6IDE3MSwgInR5cGUiOiAidmVydGV4IiwgInByb3BzIjogeyJzaXplIjogMTEuMTcxNTQ4MTE3MTU0ODEyfX0K');</script>\n",
       "    "
      ],
      "text/plain": [
       "<IPython.core.display.HTML object>"
      ]
     },
     "metadata": {},
     "output_type": "display_data"
    },
    {
     "data": {
      "text/html": [
       "\n",
       "        <div id=\"efD9npZp357wFnheFE6NyG\"></div>\n",
       "        <script>netpixi.call('efD9npZp357wFnheFE6NyG', 'kMevSyjrf3B8vGoFZ2Jz4A', 'changeGraph', 'eyJpZCI6IDgyLCAidHlwZSI6ICJ2ZXJ0ZXgiLCAicHJvcHMiOiB7ImNvbG9yIjogMTY3MTE2ODB9fQo=');</script>\n",
       "    "
      ],
      "text/plain": [
       "<IPython.core.display.HTML object>"
      ]
     },
     "metadata": {},
     "output_type": "display_data"
    },
    {
     "data": {
      "text/html": [
       "\n",
       "        <div id=\"Tvqi9eYDxYnx3wW74v6nra\"></div>\n",
       "        <script>netpixi.call('Tvqi9eYDxYnx3wW74v6nra', 'kMevSyjrf3B8vGoFZ2Jz4A', 'changeGraph', 'eyJpZCI6IDE3MiwgInR5cGUiOiAidmVydGV4IiwgInByb3BzIjogeyJzaXplIjogMTEuMzM4OTEyMTMzODkxMjEzfX0K');</script>\n",
       "    "
      ],
      "text/plain": [
       "<IPython.core.display.HTML object>"
      ]
     },
     "metadata": {},
     "output_type": "display_data"
    },
    {
     "data": {
      "text/html": [
       "\n",
       "        <div id=\"WYpvfMzo8McJCbMcPpsi7p\"></div>\n",
       "        <script>netpixi.call('WYpvfMzo8McJCbMcPpsi7p', 'kMevSyjrf3B8vGoFZ2Jz4A', 'changeGraph', 'eyJpZCI6IDc4LCAidHlwZSI6ICJ2ZXJ0ZXgiLCAicHJvcHMiOiB7ImNvbG9yIjogMTY3MTE2ODB9fQo=');</script>\n",
       "    "
      ],
      "text/plain": [
       "<IPython.core.display.HTML object>"
      ]
     },
     "metadata": {},
     "output_type": "display_data"
    },
    {
     "data": {
      "text/html": [
       "\n",
       "        <div id=\"YgkLwXjjV5kH8oZ3bBCAZ5\"></div>\n",
       "        <script>netpixi.call('YgkLwXjjV5kH8oZ3bBCAZ5', 'kMevSyjrf3B8vGoFZ2Jz4A', 'changeGraph', 'eyJpZCI6IDE3MywgInR5cGUiOiAidmVydGV4IiwgInByb3BzIjogeyJzaXplIjogMTguNTc3NDA1ODU3NzQwNTg3fX0K');</script>\n",
       "    "
      ],
      "text/plain": [
       "<IPython.core.display.HTML object>"
      ]
     },
     "metadata": {},
     "output_type": "display_data"
    },
    {
     "data": {
      "text/html": [
       "\n",
       "        <div id=\"RPovTBFWrJs8BCwAhfTYHH\"></div>\n",
       "        <script>netpixi.call('RPovTBFWrJs8BCwAhfTYHH', 'kMevSyjrf3B8vGoFZ2Jz4A', 'changeGraph', 'eyJpZCI6IDgwLCAidHlwZSI6ICJ2ZXJ0ZXgiLCAicHJvcHMiOiB7ImNvbG9yIjogMTY3MTE2ODB9fQo=');</script>\n",
       "    "
      ],
      "text/plain": [
       "<IPython.core.display.HTML object>"
      ]
     },
     "metadata": {},
     "output_type": "display_data"
    },
    {
     "data": {
      "text/html": [
       "\n",
       "        <div id=\"a7gGgyEJdZVPG3jDyoFLRq\"></div>\n",
       "        <script>netpixi.call('a7gGgyEJdZVPG3jDyoFLRq', 'kMevSyjrf3B8vGoFZ2Jz4A', 'changeGraph', 'eyJpZCI6IDE3NCwgInR5cGUiOiAidmVydGV4IiwgInByb3BzIjogeyJzaXplIjogMTkuMTYzMTc5OTE2MzE3OTl9fQo=');</script>\n",
       "    "
      ],
      "text/plain": [
       "<IPython.core.display.HTML object>"
      ]
     },
     "metadata": {},
     "output_type": "display_data"
    },
    {
     "data": {
      "text/html": [
       "\n",
       "        <div id=\"RARHTJMR7xrCXprRJEPVyh\"></div>\n",
       "        <script>netpixi.call('RARHTJMR7xrCXprRJEPVyh', 'kMevSyjrf3B8vGoFZ2Jz4A', 'changeGraph', 'eyJpZCI6IDc1LCAidHlwZSI6ICJ2ZXJ0ZXgiLCAicHJvcHMiOiB7ImNvbG9yIjogMTY3MTE2ODB9fQo=');</script>\n",
       "    "
      ],
      "text/plain": [
       "<IPython.core.display.HTML object>"
      ]
     },
     "metadata": {},
     "output_type": "display_data"
    },
    {
     "data": {
      "text/html": [
       "\n",
       "        <div id=\"KcQZsAkdrdf2udxwtHJyfd\"></div>\n",
       "        <script>netpixi.call('KcQZsAkdrdf2udxwtHJyfd', 'kMevSyjrf3B8vGoFZ2Jz4A', 'changeGraph', 'eyJpZCI6IDE3NSwgInR5cGUiOiAidmVydGV4IiwgInByb3BzIjogeyJzaXplIjogMTkuNjY1MjcxOTY2NTI3MTk3fX0K');</script>\n",
       "    "
      ],
      "text/plain": [
       "<IPython.core.display.HTML object>"
      ]
     },
     "metadata": {},
     "output_type": "display_data"
    },
    {
     "data": {
      "text/html": [
       "\n",
       "        <div id=\"72AQjFraFxnxnbhKuVN7rL\"></div>\n",
       "        <script>netpixi.call('72AQjFraFxnxnbhKuVN7rL', 'kMevSyjrf3B8vGoFZ2Jz4A', 'changeGraph', 'eyJpZCI6IDg1LCAidHlwZSI6ICJ2ZXJ0ZXgiLCAicHJvcHMiOiB7ImNvbG9yIjogMTY3MTE2ODB9fQo=');</script>\n",
       "    "
      ],
      "text/plain": [
       "<IPython.core.display.HTML object>"
      ]
     },
     "metadata": {},
     "output_type": "display_data"
    },
    {
     "data": {
      "text/html": [
       "\n",
       "        <div id=\"GKbmWqEURAuYejYxkbTfQu\"></div>\n",
       "        <script>netpixi.call('GKbmWqEURAuYejYxkbTfQu', 'kMevSyjrf3B8vGoFZ2Jz4A', 'changeGraph', 'eyJpZCI6IDE3NiwgInR5cGUiOiAidmVydGV4IiwgInByb3BzIjogeyJzaXplIjogMTkuODc0NDc2OTg3NDQ3N319Cg==');</script>\n",
       "    "
      ],
      "text/plain": [
       "<IPython.core.display.HTML object>"
      ]
     },
     "metadata": {},
     "output_type": "display_data"
    },
    {
     "data": {
      "text/html": [
       "\n",
       "        <div id=\"8DS7bSspTjgxECkPMFd37p\"></div>\n",
       "        <script>netpixi.call('8DS7bSspTjgxECkPMFd37p', 'kMevSyjrf3B8vGoFZ2Jz4A', 'changeGraph', 'eyJpZCI6IDY4LCAidHlwZSI6ICJ2ZXJ0ZXgiLCAicHJvcHMiOiB7ImNvbG9yIjogMTY3MTE2ODB9fQo=');</script>\n",
       "    "
      ],
      "text/plain": [
       "<IPython.core.display.HTML object>"
      ]
     },
     "metadata": {},
     "output_type": "display_data"
    },
    {
     "data": {
      "text/html": [
       "\n",
       "        <div id=\"nLdH9355ejzY7gS84f3hp5\"></div>\n",
       "        <script>netpixi.call('nLdH9355ejzY7gS84f3hp5', 'kMevSyjrf3B8vGoFZ2Jz4A', 'changeGraph', 'eyJpZCI6IDE3NywgInR5cGUiOiAidmVydGV4IiwgInByb3BzIjogeyJzaXplIjogMTEuNTQ4MTE3MTU0ODExNzE1fX0K');</script>\n",
       "    "
      ],
      "text/plain": [
       "<IPython.core.display.HTML object>"
      ]
     },
     "metadata": {},
     "output_type": "display_data"
    },
    {
     "data": {
      "text/html": [
       "\n",
       "        <div id=\"VWX8uM8k44cQCoHiCSXXDA\"></div>\n",
       "        <script>netpixi.call('VWX8uM8k44cQCoHiCSXXDA', 'kMevSyjrf3B8vGoFZ2Jz4A', 'changeGraph', 'eyJpZCI6IDczLCAidHlwZSI6ICJ2ZXJ0ZXgiLCAicHJvcHMiOiB7ImNvbG9yIjogMTY3MTE2ODB9fQo=');</script>\n",
       "    "
      ],
      "text/plain": [
       "<IPython.core.display.HTML object>"
      ]
     },
     "metadata": {},
     "output_type": "display_data"
    },
    {
     "data": {
      "text/html": [
       "\n",
       "        <div id=\"Abxpb3bboxkAPP6NS6BvFq\"></div>\n",
       "        <script>netpixi.call('Abxpb3bboxkAPP6NS6BvFq', 'kMevSyjrf3B8vGoFZ2Jz4A', 'changeGraph', 'eyJpZCI6IDE3OCwgInR5cGUiOiAidmVydGV4IiwgInByb3BzIjogeyJzaXplIjogNDMuMH19Cg==');</script>\n",
       "    "
      ],
      "text/plain": [
       "<IPython.core.display.HTML object>"
      ]
     },
     "metadata": {},
     "output_type": "display_data"
    },
    {
     "data": {
      "text/html": [
       "\n",
       "        <div id=\"PQi6zsYUjjNzuReENHTkp5\"></div>\n",
       "        <script>netpixi.call('PQi6zsYUjjNzuReENHTkp5', 'kMevSyjrf3B8vGoFZ2Jz4A', 'changeGraph', 'eyJpZCI6IDc3LCAidHlwZSI6ICJ2ZXJ0ZXgiLCAicHJvcHMiOiB7ImNvbG9yIjogMTY3MTE2ODB9fQo=');</script>\n",
       "    "
      ],
      "text/plain": [
       "<IPython.core.display.HTML object>"
      ]
     },
     "metadata": {},
     "output_type": "display_data"
    },
    {
     "data": {
      "text/html": [
       "\n",
       "        <div id=\"87Tp53zMGucBECYkTkYr4U\"></div>\n",
       "        <script>netpixi.call('87Tp53zMGucBECYkTkYr4U', 'kMevSyjrf3B8vGoFZ2Jz4A', 'changeGraph', 'eyJpZCI6IDE3OSwgInR5cGUiOiAidmVydGV4IiwgInByb3BzIjogeyJzaXplIjogMTUuOTgzMjYzNTk4MzI2MzZ9fQo=');</script>\n",
       "    "
      ],
      "text/plain": [
       "<IPython.core.display.HTML object>"
      ]
     },
     "metadata": {},
     "output_type": "display_data"
    },
    {
     "data": {
      "text/html": [
       "\n",
       "        <div id=\"7tTCydEq6H4E2WCCtWuEQG\"></div>\n",
       "        <script>netpixi.call('7tTCydEq6H4E2WCCtWuEQG', 'kMevSyjrf3B8vGoFZ2Jz4A', 'changeGraph', 'eyJpZCI6IDg3LCAidHlwZSI6ICJ2ZXJ0ZXgiLCAicHJvcHMiOiB7ImNvbG9yIjogMTY3MTE2ODB9fQo=');</script>\n",
       "    "
      ],
      "text/plain": [
       "<IPython.core.display.HTML object>"
      ]
     },
     "metadata": {},
     "output_type": "display_data"
    },
    {
     "data": {
      "text/html": [
       "\n",
       "        <div id=\"A563Kwx22S5fEiXbeYzF89\"></div>\n",
       "        <script>netpixi.call('A563Kwx22S5fEiXbeYzF89', 'kMevSyjrf3B8vGoFZ2Jz4A', 'changeGraph', 'eyJpZCI6IDE4MCwgInR5cGUiOiAidmVydGV4IiwgInByb3BzIjogeyJzaXplIjogMTkuMzcyMzg0OTM3MjM4NDkzfX0K');</script>\n",
       "    "
      ],
      "text/plain": [
       "<IPython.core.display.HTML object>"
      ]
     },
     "metadata": {},
     "output_type": "display_data"
    },
    {
     "data": {
      "text/html": [
       "\n",
       "        <div id=\"44UjYERvFv7DgFtyWeyf6c\"></div>\n",
       "        <script>netpixi.call('44UjYERvFv7DgFtyWeyf6c', 'kMevSyjrf3B8vGoFZ2Jz4A', 'changeGraph', 'eyJpZCI6IDg2LCAidHlwZSI6ICJ2ZXJ0ZXgiLCAicHJvcHMiOiB7ImNvbG9yIjogMTY3MTE2ODB9fQo=');</script>\n",
       "    "
      ],
      "text/plain": [
       "<IPython.core.display.HTML object>"
      ]
     },
     "metadata": {},
     "output_type": "display_data"
    },
    {
     "data": {
      "text/html": [
       "\n",
       "        <div id=\"92aTwWjChAGNDwuqpEuyak\"></div>\n",
       "        <script>netpixi.call('92aTwWjChAGNDwuqpEuyak', 'kMevSyjrf3B8vGoFZ2Jz4A', 'changeGraph', 'eyJpZCI6IDE4MSwgInR5cGUiOiAidmVydGV4IiwgInByb3BzIjogeyJzaXplIjogMTEuOTY2NTI3MTk2NjUyNzJ9fQo=');</script>\n",
       "    "
      ],
      "text/plain": [
       "<IPython.core.display.HTML object>"
      ]
     },
     "metadata": {},
     "output_type": "display_data"
    },
    {
     "data": {
      "text/html": [
       "\n",
       "        <div id=\"HZhWx4eTVqPbE6ZvyvQVVq\"></div>\n",
       "        <script>netpixi.call('HZhWx4eTVqPbE6ZvyvQVVq', 'kMevSyjrf3B8vGoFZ2Jz4A', 'changeGraph', 'eyJpZCI6IDcyLCAidHlwZSI6ICJ2ZXJ0ZXgiLCAicHJvcHMiOiB7ImNvbG9yIjogMTY3MTE2ODB9fQo=');</script>\n",
       "    "
      ],
      "text/plain": [
       "<IPython.core.display.HTML object>"
      ]
     },
     "metadata": {},
     "output_type": "display_data"
    },
    {
     "data": {
      "text/html": [
       "\n",
       "        <div id=\"FokBbZ9B9Mm3VsHKEtBRdX\"></div>\n",
       "        <script>netpixi.call('FokBbZ9B9Mm3VsHKEtBRdX', 'kMevSyjrf3B8vGoFZ2Jz4A', 'changeGraph', 'eyJpZCI6IDE4MiwgInR5cGUiOiAidmVydGV4IiwgInByb3BzIjogeyJzaXplIjogMTEuMDg3ODY2MTA4Nzg2NjF9fQo=');</script>\n",
       "    "
      ],
      "text/plain": [
       "<IPython.core.display.HTML object>"
      ]
     },
     "metadata": {},
     "output_type": "display_data"
    },
    {
     "data": {
      "text/html": [
       "\n",
       "        <div id=\"knBSCpNDpNtbdZJzC3gBM3\"></div>\n",
       "        <script>netpixi.call('knBSCpNDpNtbdZJzC3gBM3', 'kMevSyjrf3B8vGoFZ2Jz4A', 'changeGraph', 'eyJpZCI6IDc2LCAidHlwZSI6ICJ2ZXJ0ZXgiLCAicHJvcHMiOiB7ImNvbG9yIjogMTY3MTE2ODB9fQo=');</script>\n",
       "    "
      ],
      "text/plain": [
       "<IPython.core.display.HTML object>"
      ]
     },
     "metadata": {},
     "output_type": "display_data"
    },
    {
     "data": {
      "text/html": [
       "\n",
       "        <div id=\"fWUaTHEbwpT6Mbarer2GSy\"></div>\n",
       "        <script>netpixi.call('fWUaTHEbwpT6Mbarer2GSy', 'kMevSyjrf3B8vGoFZ2Jz4A', 'changeGraph', 'eyJpZCI6IDE4MywgInR5cGUiOiAidmVydGV4IiwgInByb3BzIjogeyJzaXplIjogMTYuODYxOTI0Njg2MTkyNDY3fX0K');</script>\n",
       "    "
      ],
      "text/plain": [
       "<IPython.core.display.HTML object>"
      ]
     },
     "metadata": {},
     "output_type": "display_data"
    },
    {
     "data": {
      "text/html": [
       "\n",
       "        <div id=\"DH4y2EeN8WfvmLzVF7peM3\"></div>\n",
       "        <script>netpixi.call('DH4y2EeN8WfvmLzVF7peM3', 'kMevSyjrf3B8vGoFZ2Jz4A', 'changeGraph', 'eyJpZCI6IDc4LCAidHlwZSI6ICJ2ZXJ0ZXgiLCAicHJvcHMiOiB7ImNvbG9yIjogMTY3MTE2ODB9fQo=');</script>\n",
       "    "
      ],
      "text/plain": [
       "<IPython.core.display.HTML object>"
      ]
     },
     "metadata": {},
     "output_type": "display_data"
    },
    {
     "data": {
      "text/html": [
       "\n",
       "        <div id=\"ADw5yGQNs9DjtermxoHSVC\"></div>\n",
       "        <script>netpixi.call('ADw5yGQNs9DjtermxoHSVC', 'kMevSyjrf3B8vGoFZ2Jz4A', 'changeGraph', 'eyJpZCI6IDE4NCwgInR5cGUiOiAidmVydGV4IiwgInByb3BzIjogeyJzaXplIjogMTMuNTk4MzI2MzU5ODMyNjM3fX0K');</script>\n",
       "    "
      ],
      "text/plain": [
       "<IPython.core.display.HTML object>"
      ]
     },
     "metadata": {},
     "output_type": "display_data"
    },
    {
     "data": {
      "text/html": [
       "\n",
       "        <div id=\"2B8aLbvfra6EsVRpYr7JDs\"></div>\n",
       "        <script>netpixi.call('2B8aLbvfra6EsVRpYr7JDs', 'kMevSyjrf3B8vGoFZ2Jz4A', 'changeGraph', 'eyJpZCI6IDc1LCAidHlwZSI6ICJ2ZXJ0ZXgiLCAicHJvcHMiOiB7ImNvbG9yIjogMTY3MTE2ODB9fQo=');</script>\n",
       "    "
      ],
      "text/plain": [
       "<IPython.core.display.HTML object>"
      ]
     },
     "metadata": {},
     "output_type": "display_data"
    },
    {
     "data": {
      "text/html": [
       "\n",
       "        <div id=\"XXDcCGMbJfByGeTaJfAsMc\"></div>\n",
       "        <script>netpixi.call('XXDcCGMbJfByGeTaJfAsMc', 'kMevSyjrf3B8vGoFZ2Jz4A', 'changeGraph', 'eyJpZCI6IDE4NSwgInR5cGUiOiAidmVydGV4IiwgInByb3BzIjogeyJzaXplIjogMTguNzAyOTI4ODcwMjkyODg3fX0K');</script>\n",
       "    "
      ],
      "text/plain": [
       "<IPython.core.display.HTML object>"
      ]
     },
     "metadata": {},
     "output_type": "display_data"
    },
    {
     "data": {
      "text/html": [
       "\n",
       "        <div id=\"4rPKDSyRwPffZpYvm53zu7\"></div>\n",
       "        <script>netpixi.call('4rPKDSyRwPffZpYvm53zu7', 'kMevSyjrf3B8vGoFZ2Jz4A', 'changeGraph', 'eyJpZCI6IDQ4LCAidHlwZSI6ICJ2ZXJ0ZXgiLCAicHJvcHMiOiB7ImNvbG9yIjogMTY3MTE2ODB9fQo=');</script>\n",
       "    "
      ],
      "text/plain": [
       "<IPython.core.display.HTML object>"
      ]
     },
     "metadata": {},
     "output_type": "display_data"
    },
    {
     "data": {
      "text/html": [
       "\n",
       "        <div id=\"8rTD4rxh7qxDXrqxYkcQsB\"></div>\n",
       "        <script>netpixi.call('8rTD4rxh7qxDXrqxYkcQsB', 'kMevSyjrf3B8vGoFZ2Jz4A', 'changeGraph', 'eyJpZCI6IDE4NiwgInR5cGUiOiAidmVydGV4IiwgInByb3BzIjogeyJzaXplIjogMTYuNDg1MzU1NjQ4NTM1NTY3fX0K');</script>\n",
       "    "
      ],
      "text/plain": [
       "<IPython.core.display.HTML object>"
      ]
     },
     "metadata": {},
     "output_type": "display_data"
    },
    {
     "data": {
      "text/html": [
       "\n",
       "        <div id=\"ipbvDaQfrG8PDWP82RSVVv\"></div>\n",
       "        <script>netpixi.call('ipbvDaQfrG8PDWP82RSVVv', 'kMevSyjrf3B8vGoFZ2Jz4A', 'changeGraph', 'eyJpZCI6IDY5LCAidHlwZSI6ICJ2ZXJ0ZXgiLCAicHJvcHMiOiB7ImNvbG9yIjogMTY3MTE2ODB9fQo=');</script>\n",
       "    "
      ],
      "text/plain": [
       "<IPython.core.display.HTML object>"
      ]
     },
     "metadata": {},
     "output_type": "display_data"
    },
    {
     "data": {
      "text/html": [
       "\n",
       "        <div id=\"aadSjiNqoy7VGNbAoRdhVc\"></div>\n",
       "        <script>netpixi.call('aadSjiNqoy7VGNbAoRdhVc', 'kMevSyjrf3B8vGoFZ2Jz4A', 'changeGraph', 'eyJpZCI6IDE4NywgInR5cGUiOiAidmVydGV4IiwgInByb3BzIjogeyJzaXplIjogNDQuMzMzMzMzMzMzMzMzMzM2fX0K');</script>\n",
       "    "
      ],
      "text/plain": [
       "<IPython.core.display.HTML object>"
      ]
     },
     "metadata": {},
     "output_type": "display_data"
    },
    {
     "data": {
      "text/html": [
       "\n",
       "        <div id=\"cDoV7RnA4svnwi4CarHHzM\"></div>\n",
       "        <script>netpixi.call('cDoV7RnA4svnwi4CarHHzM', 'kMevSyjrf3B8vGoFZ2Jz4A', 'changeGraph', 'eyJpZCI6IDYxLCAidHlwZSI6ICJ2ZXJ0ZXgiLCAicHJvcHMiOiB7ImNvbG9yIjogMTY3MTE2ODB9fQo=');</script>\n",
       "    "
      ],
      "text/plain": [
       "<IPython.core.display.HTML object>"
      ]
     },
     "metadata": {},
     "output_type": "display_data"
    },
    {
     "data": {
      "text/html": [
       "\n",
       "        <div id=\"5KM9rqjvTCZzPKrPyPoM6J\"></div>\n",
       "        <script>netpixi.call('5KM9rqjvTCZzPKrPyPoM6J', 'kMevSyjrf3B8vGoFZ2Jz4A', 'changeGraph', 'eyJpZCI6IDE4OCwgInR5cGUiOiAidmVydGV4IiwgInByb3BzIjogeyJzaXplIjogMTUuMDYyNzYxNTA2Mjc2MTV9fQo=');</script>\n",
       "    "
      ],
      "text/plain": [
       "<IPython.core.display.HTML object>"
      ]
     },
     "metadata": {},
     "output_type": "display_data"
    },
    {
     "data": {
      "text/html": [
       "\n",
       "        <div id=\"bHr6ht3mNndEL5Tec2GWn3\"></div>\n",
       "        <script>netpixi.call('bHr6ht3mNndEL5Tec2GWn3', 'kMevSyjrf3B8vGoFZ2Jz4A', 'changeGraph', 'eyJpZCI6IDczLCAidHlwZSI6ICJ2ZXJ0ZXgiLCAicHJvcHMiOiB7ImNvbG9yIjogMTY3MTE2ODB9fQo=');</script>\n",
       "    "
      ],
      "text/plain": [
       "<IPython.core.display.HTML object>"
      ]
     },
     "metadata": {},
     "output_type": "display_data"
    },
    {
     "data": {
      "text/html": [
       "\n",
       "        <div id=\"XHFEgrzW3neN7iadN58E3h\"></div>\n",
       "        <script>netpixi.call('XHFEgrzW3neN7iadN58E3h', 'kMevSyjrf3B8vGoFZ2Jz4A', 'changeGraph', 'eyJpZCI6IDE4OSwgInR5cGUiOiAidmVydGV4IiwgInByb3BzIjogeyJzaXplIjogMTMuMTM4MDc1MzEzODA3NTMyfX0K');</script>\n",
       "    "
      ],
      "text/plain": [
       "<IPython.core.display.HTML object>"
      ]
     },
     "metadata": {},
     "output_type": "display_data"
    },
    {
     "data": {
      "text/html": [
       "\n",
       "        <div id=\"2G7HFW7dPs5GSWJENC3ND9\"></div>\n",
       "        <script>netpixi.call('2G7HFW7dPs5GSWJENC3ND9', 'kMevSyjrf3B8vGoFZ2Jz4A', 'changeGraph', 'eyJpZCI6IDc0LCAidHlwZSI6ICJ2ZXJ0ZXgiLCAicHJvcHMiOiB7ImNvbG9yIjogMTY3MTE2ODB9fQo=');</script>\n",
       "    "
      ],
      "text/plain": [
       "<IPython.core.display.HTML object>"
      ]
     },
     "metadata": {},
     "output_type": "display_data"
    },
    {
     "data": {
      "text/html": [
       "\n",
       "        <div id=\"8fnUb6hjgxZrLbPQ6NGZjT\"></div>\n",
       "        <script>netpixi.call('8fnUb6hjgxZrLbPQ6NGZjT', 'kMevSyjrf3B8vGoFZ2Jz4A', 'changeGraph', 'eyJpZCI6IDE5MCwgInR5cGUiOiAidmVydGV4IiwgInByb3BzIjogeyJzaXplIjogMTMuMzg5MTIxMzM4OTEyMTMzfX0K');</script>\n",
       "    "
      ],
      "text/plain": [
       "<IPython.core.display.HTML object>"
      ]
     },
     "metadata": {},
     "output_type": "display_data"
    },
    {
     "data": {
      "text/html": [
       "\n",
       "        <div id=\"KjGtMQLvG3GGiMD7fSyBXq\"></div>\n",
       "        <script>netpixi.call('KjGtMQLvG3GGiMD7fSyBXq', 'kMevSyjrf3B8vGoFZ2Jz4A', 'changeGraph', 'eyJpZCI6IDgxLCAidHlwZSI6ICJ2ZXJ0ZXgiLCAicHJvcHMiOiB7ImNvbG9yIjogMTY3MTE2ODB9fQo=');</script>\n",
       "    "
      ],
      "text/plain": [
       "<IPython.core.display.HTML object>"
      ]
     },
     "metadata": {},
     "output_type": "display_data"
    },
    {
     "data": {
      "text/html": [
       "\n",
       "        <div id=\"22YmNyRXhFU8VMAvqqXzZ9\"></div>\n",
       "        <script>netpixi.call('22YmNyRXhFU8VMAvqqXzZ9', 'kMevSyjrf3B8vGoFZ2Jz4A', 'changeGraph', 'eyJpZCI6IDE5MSwgInR5cGUiOiAidmVydGV4IiwgInByb3BzIjogeyJzaXplIjogMTIuMzAxMjU1MjMwMTI1NTIzfX0K');</script>\n",
       "    "
      ],
      "text/plain": [
       "<IPython.core.display.HTML object>"
      ]
     },
     "metadata": {},
     "output_type": "display_data"
    },
    {
     "data": {
      "text/html": [
       "\n",
       "        <div id=\"cJVyRQYq5e7fJJ7pFrpxkj\"></div>\n",
       "        <script>netpixi.call('cJVyRQYq5e7fJJ7pFrpxkj', 'kMevSyjrf3B8vGoFZ2Jz4A', 'changeGraph', 'eyJpZCI6IDc1LCAidHlwZSI6ICJ2ZXJ0ZXgiLCAicHJvcHMiOiB7ImNvbG9yIjogMTY3MTE2ODB9fQo=');</script>\n",
       "    "
      ],
      "text/plain": [
       "<IPython.core.display.HTML object>"
      ]
     },
     "metadata": {},
     "output_type": "display_data"
    },
    {
     "data": {
      "text/html": [
       "\n",
       "        <div id=\"bvdHSkw2DYmtmXFFa49KgX\"></div>\n",
       "        <script>netpixi.call('bvdHSkw2DYmtmXFFa49KgX', 'kMevSyjrf3B8vGoFZ2Jz4A', 'changeGraph', 'eyJpZCI6IDE5MiwgInR5cGUiOiAidmVydGV4IiwgInByb3BzIjogeyJzaXplIjogMTcuMDcxMTI5NzA3MTEyOTd9fQo=');</script>\n",
       "    "
      ],
      "text/plain": [
       "<IPython.core.display.HTML object>"
      ]
     },
     "metadata": {},
     "output_type": "display_data"
    },
    {
     "data": {
      "text/html": [
       "\n",
       "        <div id=\"8U2BFEmuSQbM3nKrktTARR\"></div>\n",
       "        <script>netpixi.call('8U2BFEmuSQbM3nKrktTARR', 'kMevSyjrf3B8vGoFZ2Jz4A', 'changeGraph', 'eyJpZCI6IDc3LCAidHlwZSI6ICJ2ZXJ0ZXgiLCAicHJvcHMiOiB7ImNvbG9yIjogMTY3MTE2ODB9fQo=');</script>\n",
       "    "
      ],
      "text/plain": [
       "<IPython.core.display.HTML object>"
      ]
     },
     "metadata": {},
     "output_type": "display_data"
    },
    {
     "data": {
      "text/html": [
       "\n",
       "        <div id=\"nAeaQdfyTZ6HGfyqkpGQis\"></div>\n",
       "        <script>netpixi.call('nAeaQdfyTZ6HGfyqkpGQis', 'kMevSyjrf3B8vGoFZ2Jz4A', 'changeGraph', 'eyJpZCI6IDE5MywgInR5cGUiOiAidmVydGV4IiwgInByb3BzIjogeyJzaXplIjogMTAuMjA5MjA1MDIwOTIwNTAyfX0K');</script>\n",
       "    "
      ],
      "text/plain": [
       "<IPython.core.display.HTML object>"
      ]
     },
     "metadata": {},
     "output_type": "display_data"
    },
    {
     "data": {
      "text/html": [
       "\n",
       "        <div id=\"UL8qvSaNvgcQmCVAWXp7io\"></div>\n",
       "        <script>netpixi.call('UL8qvSaNvgcQmCVAWXp7io', 'kMevSyjrf3B8vGoFZ2Jz4A', 'changeGraph', 'eyJpZCI6IDc0LCAidHlwZSI6ICJ2ZXJ0ZXgiLCAicHJvcHMiOiB7ImNvbG9yIjogMTY3MTE2ODB9fQo=');</script>\n",
       "    "
      ],
      "text/plain": [
       "<IPython.core.display.HTML object>"
      ]
     },
     "metadata": {},
     "output_type": "display_data"
    },
    {
     "data": {
      "text/html": [
       "\n",
       "        <div id=\"9gk3TwCAdW7rFZHwA6Meuk\"></div>\n",
       "        <script>netpixi.call('9gk3TwCAdW7rFZHwA6Meuk', 'kMevSyjrf3B8vGoFZ2Jz4A', 'changeGraph', 'eyJpZCI6IDE5NCwgInR5cGUiOiAidmVydGV4IiwgInByb3BzIjogeyJzaXplIjogMTAuMTI1NTIzMDEyNTUyMzAyfX0K');</script>\n",
       "    "
      ],
      "text/plain": [
       "<IPython.core.display.HTML object>"
      ]
     },
     "metadata": {},
     "output_type": "display_data"
    },
    {
     "data": {
      "text/html": [
       "\n",
       "        <div id=\"SUDTb9azihaSFV4NB8TsKm\"></div>\n",
       "        <script>netpixi.call('SUDTb9azihaSFV4NB8TsKm', 'kMevSyjrf3B8vGoFZ2Jz4A', 'changeGraph', 'eyJpZCI6IDY2LCAidHlwZSI6ICJ2ZXJ0ZXgiLCAicHJvcHMiOiB7ImNvbG9yIjogMTY3MTE2ODB9fQo=');</script>\n",
       "    "
      ],
      "text/plain": [
       "<IPython.core.display.HTML object>"
      ]
     },
     "metadata": {},
     "output_type": "display_data"
    },
    {
     "data": {
      "text/html": [
       "\n",
       "        <div id=\"7WSXiVxBDb9qReKSSTw5PM\"></div>\n",
       "        <script>netpixi.call('7WSXiVxBDb9qReKSSTw5PM', 'kMevSyjrf3B8vGoFZ2Jz4A', 'changeGraph', 'eyJpZCI6IDE5NSwgInR5cGUiOiAidmVydGV4IiwgInByb3BzIjogeyJzaXplIjogNDMuODMzMzMzMzMzMzMzMzM2fX0K');</script>\n",
       "    "
      ],
      "text/plain": [
       "<IPython.core.display.HTML object>"
      ]
     },
     "metadata": {},
     "output_type": "display_data"
    },
    {
     "data": {
      "text/html": [
       "\n",
       "        <div id=\"9ZbKWbyxty4gwpsrL4xVRq\"></div>\n",
       "        <script>netpixi.call('9ZbKWbyxty4gwpsrL4xVRq', 'kMevSyjrf3B8vGoFZ2Jz4A', 'changeGraph', 'eyJpZCI6IDgwLCAidHlwZSI6ICJ2ZXJ0ZXgiLCAicHJvcHMiOiB7ImNvbG9yIjogMTY3MTE2ODB9fQo=');</script>\n",
       "    "
      ],
      "text/plain": [
       "<IPython.core.display.HTML object>"
      ]
     },
     "metadata": {},
     "output_type": "display_data"
    },
    {
     "data": {
      "text/html": [
       "\n",
       "        <div id=\"2Gn5829G9HJ9j77EKAViKq\"></div>\n",
       "        <script>netpixi.call('2Gn5829G9HJ9j77EKAViKq', 'kMevSyjrf3B8vGoFZ2Jz4A', 'changeGraph', 'eyJpZCI6IDE5NiwgInR5cGUiOiAidmVydGV4IiwgInByb3BzIjogeyJzaXplIjogNDQuMH19Cg==');</script>\n",
       "    "
      ],
      "text/plain": [
       "<IPython.core.display.HTML object>"
      ]
     },
     "metadata": {},
     "output_type": "display_data"
    },
    {
     "data": {
      "text/html": [
       "\n",
       "        <div id=\"ZRmf73U6duNSb4comtvYWF\"></div>\n",
       "        <script>netpixi.call('ZRmf73U6duNSb4comtvYWF', 'kMevSyjrf3B8vGoFZ2Jz4A', 'changeGraph', 'eyJpZCI6IDgyLCAidHlwZSI6ICJ2ZXJ0ZXgiLCAicHJvcHMiOiB7ImNvbG9yIjogMTY3MTE2ODB9fQo=');</script>\n",
       "    "
      ],
      "text/plain": [
       "<IPython.core.display.HTML object>"
      ]
     },
     "metadata": {},
     "output_type": "display_data"
    },
    {
     "data": {
      "text/html": [
       "\n",
       "        <div id=\"arci8CyQzD4jaL3QMQEisM\"></div>\n",
       "        <script>netpixi.call('arci8CyQzD4jaL3QMQEisM', 'kMevSyjrf3B8vGoFZ2Jz4A', 'changeGraph', 'eyJpZCI6IDE5NywgInR5cGUiOiAidmVydGV4IiwgInByb3BzIjogeyJzaXplIjogNDYuNjY2NjY2NjY2NjY2NjY0fX0K');</script>\n",
       "    "
      ],
      "text/plain": [
       "<IPython.core.display.HTML object>"
      ]
     },
     "metadata": {},
     "output_type": "display_data"
    },
    {
     "data": {
      "text/html": [
       "\n",
       "        <div id=\"96sXkfqWF5aZLWhegscizT\"></div>\n",
       "        <script>netpixi.call('96sXkfqWF5aZLWhegscizT', 'kMevSyjrf3B8vGoFZ2Jz4A', 'changeGraph', 'eyJpZCI6IDY3LCAidHlwZSI6ICJ2ZXJ0ZXgiLCAicHJvcHMiOiB7ImNvbG9yIjogMTY3MTE2ODB9fQo=');</script>\n",
       "    "
      ],
      "text/plain": [
       "<IPython.core.display.HTML object>"
      ]
     },
     "metadata": {},
     "output_type": "display_data"
    },
    {
     "data": {
      "text/html": [
       "\n",
       "        <div id=\"SGncBvoVK9THSYY6MDzVjN\"></div>\n",
       "        <script>netpixi.call('SGncBvoVK9THSYY6MDzVjN', 'kMevSyjrf3B8vGoFZ2Jz4A', 'changeGraph', 'eyJpZCI6IDE5OCwgInR5cGUiOiAidmVydGV4IiwgInByb3BzIjogeyJzaXplIjogNDIuODMzMzMzMzMzMzMzMzN9fQo=');</script>\n",
       "    "
      ],
      "text/plain": [
       "<IPython.core.display.HTML object>"
      ]
     },
     "metadata": {},
     "output_type": "display_data"
    },
    {
     "data": {
      "text/html": [
       "\n",
       "        <div id=\"azdpgE55tmzVvmTGzvy4jn\"></div>\n",
       "        <script>netpixi.call('azdpgE55tmzVvmTGzvy4jn', 'kMevSyjrf3B8vGoFZ2Jz4A', 'changeGraph', 'eyJpZCI6IDc0LCAidHlwZSI6ICJ2ZXJ0ZXgiLCAicHJvcHMiOiB7ImNvbG9yIjogMTY3MTE2ODB9fQo=');</script>\n",
       "    "
      ],
      "text/plain": [
       "<IPython.core.display.HTML object>"
      ]
     },
     "metadata": {},
     "output_type": "display_data"
    },
    {
     "data": {
      "text/html": [
       "\n",
       "        <div id=\"8mXMf8ZAejRHQVSHjFGxyR\"></div>\n",
       "        <script>netpixi.call('8mXMf8ZAejRHQVSHjFGxyR', 'kMevSyjrf3B8vGoFZ2Jz4A', 'changeGraph', 'eyJpZCI6IDE5OSwgInR5cGUiOiAidmVydGV4IiwgInByb3BzIjogeyJzaXplIjogMTMuMzA1NDM5MzMwNTQzOTMzfX0K');</script>\n",
       "    "
      ],
      "text/plain": [
       "<IPython.core.display.HTML object>"
      ]
     },
     "metadata": {},
     "output_type": "display_data"
    },
    {
     "data": {
      "text/html": [
       "\n",
       "        <div id=\"TMKcuGZeeDp3X4sBcqRHg4\"></div>\n",
       "        <script>netpixi.call('TMKcuGZeeDp3X4sBcqRHg4', 'kMevSyjrf3B8vGoFZ2Jz4A', 'changeGraph', 'eyJpZCI6IDcxLCAidHlwZSI6ICJ2ZXJ0ZXgiLCAicHJvcHMiOiB7ImNvbG9yIjogMTY3MTE2ODB9fQo=');</script>\n",
       "    "
      ],
      "text/plain": [
       "<IPython.core.display.HTML object>"
      ]
     },
     "metadata": {},
     "output_type": "display_data"
    },
    {
     "data": {
      "text/html": [
       "\n",
       "        <div id=\"NbS2cB9sK8nDnHLmcdCXn6\"></div>\n",
       "        <script>netpixi.call('NbS2cB9sK8nDnHLmcdCXn6', 'kMevSyjrf3B8vGoFZ2Jz4A', 'changeGraph', 'eyJpZCI6IDIwMCwgInR5cGUiOiAidmVydGV4IiwgInByb3BzIjogeyJzaXplIjogMTUuODk5NTgxNTg5OTU4MTU4fX0K');</script>\n",
       "    "
      ],
      "text/plain": [
       "<IPython.core.display.HTML object>"
      ]
     },
     "metadata": {},
     "output_type": "display_data"
    },
    {
     "data": {
      "text/html": [
       "\n",
       "        <div id=\"mSAt5HNCxdcWcNESAPCh62\"></div>\n",
       "        <script>netpixi.call('mSAt5HNCxdcWcNESAPCh62', 'kMevSyjrf3B8vGoFZ2Jz4A', 'changeGraph', 'eyJpZCI6IDgyLCAidHlwZSI6ICJ2ZXJ0ZXgiLCAicHJvcHMiOiB7ImNvbG9yIjogMTY3MTE2ODB9fQo=');</script>\n",
       "    "
      ],
      "text/plain": [
       "<IPython.core.display.HTML object>"
      ]
     },
     "metadata": {},
     "output_type": "display_data"
    },
    {
     "data": {
      "text/html": [
       "\n",
       "        <div id=\"2p5dpdjrTSgMXgjzs5WsWJ\"></div>\n",
       "        <script>netpixi.call('2p5dpdjrTSgMXgjzs5WsWJ', 'kMevSyjrf3B8vGoFZ2Jz4A', 'changeGraph', 'eyJpZCI6IDIwMSwgInR5cGUiOiAidmVydGV4IiwgInByb3BzIjogeyJzaXplIjogMTYuNTI3MTk2NjUyNzE5NjY3fX0K');</script>\n",
       "    "
      ],
      "text/plain": [
       "<IPython.core.display.HTML object>"
      ]
     },
     "metadata": {},
     "output_type": "display_data"
    },
    {
     "data": {
      "text/html": [
       "\n",
       "        <div id=\"Nxjk89iZ59dNfJdiU2gniW\"></div>\n",
       "        <script>netpixi.call('Nxjk89iZ59dNfJdiU2gniW', 'kMevSyjrf3B8vGoFZ2Jz4A', 'changeGraph', 'eyJpZCI6IDc4LCAidHlwZSI6ICJ2ZXJ0ZXgiLCAicHJvcHMiOiB7ImNvbG9yIjogMTY3MTE2ODB9fQo=');</script>\n",
       "    "
      ],
      "text/plain": [
       "<IPython.core.display.HTML object>"
      ]
     },
     "metadata": {},
     "output_type": "display_data"
    },
    {
     "data": {
      "text/html": [
       "\n",
       "        <div id=\"CbeD4LxxFFQj89aGoN2kWW\"></div>\n",
       "        <script>netpixi.call('CbeD4LxxFFQj89aGoN2kWW', 'kMevSyjrf3B8vGoFZ2Jz4A', 'changeGraph', 'eyJpZCI6IDIwMiwgInR5cGUiOiAidmVydGV4IiwgInByb3BzIjogeyJzaXplIjogNDYuMH19Cg==');</script>\n",
       "    "
      ],
      "text/plain": [
       "<IPython.core.display.HTML object>"
      ]
     },
     "metadata": {},
     "output_type": "display_data"
    },
    {
     "data": {
      "text/html": [
       "\n",
       "        <div id=\"bgZSZWjeeiLmUeY8k4VuYH\"></div>\n",
       "        <script>netpixi.call('bgZSZWjeeiLmUeY8k4VuYH', 'kMevSyjrf3B8vGoFZ2Jz4A', 'changeGraph', 'eyJpZCI6IDczLCAidHlwZSI6ICJ2ZXJ0ZXgiLCAicHJvcHMiOiB7ImNvbG9yIjogMTY3MTE2ODB9fQo=');</script>\n",
       "    "
      ],
      "text/plain": [
       "<IPython.core.display.HTML object>"
      ]
     },
     "metadata": {},
     "output_type": "display_data"
    },
    {
     "data": {
      "text/html": [
       "\n",
       "        <div id=\"ZVcnNCZQeABv3L6VRpkHSH\"></div>\n",
       "        <script>netpixi.call('ZVcnNCZQeABv3L6VRpkHSH', 'kMevSyjrf3B8vGoFZ2Jz4A', 'changeGraph', 'eyJpZCI6IDIwMywgInR5cGUiOiAidmVydGV4IiwgInByb3BzIjogeyJzaXplIjogMTAuNTQzOTMzMDU0MzkzMzA1fX0K');</script>\n",
       "    "
      ],
      "text/plain": [
       "<IPython.core.display.HTML object>"
      ]
     },
     "metadata": {},
     "output_type": "display_data"
    },
    {
     "data": {
      "text/html": [
       "\n",
       "        <div id=\"6AnnHciP2phUctdaL2hVUG\"></div>\n",
       "        <script>netpixi.call('6AnnHciP2phUctdaL2hVUG', 'kMevSyjrf3B8vGoFZ2Jz4A', 'changeGraph', 'eyJpZCI6IDc4LCAidHlwZSI6ICJ2ZXJ0ZXgiLCAicHJvcHMiOiB7ImNvbG9yIjogMTY3MTE2ODB9fQo=');</script>\n",
       "    "
      ],
      "text/plain": [
       "<IPython.core.display.HTML object>"
      ]
     },
     "metadata": {},
     "output_type": "display_data"
    },
    {
     "data": {
      "text/html": [
       "\n",
       "        <div id=\"jnGnWZhbWpQdqtt24B3Usr\"></div>\n",
       "        <script>netpixi.call('jnGnWZhbWpQdqtt24B3Usr', 'kMevSyjrf3B8vGoFZ2Jz4A', 'changeGraph', 'eyJpZCI6IDIwNCwgInR5cGUiOiAidmVydGV4IiwgInByb3BzIjogeyJzaXplIjogMTAuMzM0NzI4MDMzNDcyODAzfX0K');</script>\n",
       "    "
      ],
      "text/plain": [
       "<IPython.core.display.HTML object>"
      ]
     },
     "metadata": {},
     "output_type": "display_data"
    },
    {
     "data": {
      "text/html": [
       "\n",
       "        <div id=\"UPQ26CxgPFzDo26UjC5Xet\"></div>\n",
       "        <script>netpixi.call('UPQ26CxgPFzDo26UjC5Xet', 'kMevSyjrf3B8vGoFZ2Jz4A', 'changeGraph', 'eyJpZCI6IDgxLCAidHlwZSI6ICJ2ZXJ0ZXgiLCAicHJvcHMiOiB7ImNvbG9yIjogMTY3MTE2ODB9fQo=');</script>\n",
       "    "
      ],
      "text/plain": [
       "<IPython.core.display.HTML object>"
      ]
     },
     "metadata": {},
     "output_type": "display_data"
    },
    {
     "data": {
      "text/html": [
       "\n",
       "        <div id=\"mfdTjhavYN973d9cP3tRby\"></div>\n",
       "        <script>netpixi.call('mfdTjhavYN973d9cP3tRby', 'kMevSyjrf3B8vGoFZ2Jz4A', 'changeGraph', 'eyJpZCI6IDIwNSwgInR5cGUiOiAidmVydGV4IiwgInByb3BzIjogeyJzaXplIjogMTUuOTQxNDIyNTk0MTQyMjZ9fQo=');</script>\n",
       "    "
      ],
      "text/plain": [
       "<IPython.core.display.HTML object>"
      ]
     },
     "metadata": {},
     "output_type": "display_data"
    },
    {
     "data": {
      "text/html": [
       "\n",
       "        <div id=\"8gD7hRBiZzUF9qVCKv8i6b\"></div>\n",
       "        <script>netpixi.call('8gD7hRBiZzUF9qVCKv8i6b', 'kMevSyjrf3B8vGoFZ2Jz4A', 'changeGraph', 'eyJpZCI6IDg2LCAidHlwZSI6ICJ2ZXJ0ZXgiLCAicHJvcHMiOiB7ImNvbG9yIjogMTY3MTE2ODB9fQo=');</script>\n",
       "    "
      ],
      "text/plain": [
       "<IPython.core.display.HTML object>"
      ]
     },
     "metadata": {},
     "output_type": "display_data"
    },
    {
     "data": {
      "text/html": [
       "\n",
       "        <div id=\"dEm7r7kpuBLg6G3MzfdjYL\"></div>\n",
       "        <script>netpixi.call('dEm7r7kpuBLg6G3MzfdjYL', 'kMevSyjrf3B8vGoFZ2Jz4A', 'changeGraph', 'eyJpZCI6IDIwNiwgInR5cGUiOiAidmVydGV4IiwgInByb3BzIjogeyJzaXplIjogMTYuMjM0MzA5NjIzNDMwOTZ9fQo=');</script>\n",
       "    "
      ],
      "text/plain": [
       "<IPython.core.display.HTML object>"
      ]
     },
     "metadata": {},
     "output_type": "display_data"
    },
    {
     "data": {
      "text/html": [
       "\n",
       "        <div id=\"ZW4nEKdmQP7i6enUNDeLQY\"></div>\n",
       "        <script>netpixi.call('ZW4nEKdmQP7i6enUNDeLQY', 'kMevSyjrf3B8vGoFZ2Jz4A', 'changeGraph', 'eyJpZCI6IDg0LCAidHlwZSI6ICJ2ZXJ0ZXgiLCAicHJvcHMiOiB7ImNvbG9yIjogMTY3MTE2ODB9fQo=');</script>\n",
       "    "
      ],
      "text/plain": [
       "<IPython.core.display.HTML object>"
      ]
     },
     "metadata": {},
     "output_type": "display_data"
    },
    {
     "data": {
      "text/html": [
       "\n",
       "        <div id=\"MqSn2ULQYomMDTNNAHFacK\"></div>\n",
       "        <script>netpixi.call('MqSn2ULQYomMDTNNAHFacK', 'kMevSyjrf3B8vGoFZ2Jz4A', 'changeGraph', 'eyJpZCI6IDIwNywgInR5cGUiOiAidmVydGV4IiwgInByb3BzIjogeyJzaXplIjogMTEuNjczNjQwMTY3MzY0MDE3fX0K');</script>\n",
       "    "
      ],
      "text/plain": [
       "<IPython.core.display.HTML object>"
      ]
     },
     "metadata": {},
     "output_type": "display_data"
    },
    {
     "data": {
      "text/html": [
       "\n",
       "        <div id=\"U9q42GnRYCbhVMTa2QfTjV\"></div>\n",
       "        <script>netpixi.call('U9q42GnRYCbhVMTa2QfTjV', 'kMevSyjrf3B8vGoFZ2Jz4A', 'changeGraph', 'eyJpZCI6IDY1LCAidHlwZSI6ICJ2ZXJ0ZXgiLCAicHJvcHMiOiB7ImNvbG9yIjogMTY3MTE2ODB9fQo=');</script>\n",
       "    "
      ],
      "text/plain": [
       "<IPython.core.display.HTML object>"
      ]
     },
     "metadata": {},
     "output_type": "display_data"
    },
    {
     "data": {
      "text/html": [
       "\n",
       "        <div id=\"jqMt4BhXM2RJWiAGcJFXpJ\"></div>\n",
       "        <script>netpixi.call('jqMt4BhXM2RJWiAGcJFXpJ', 'kMevSyjrf3B8vGoFZ2Jz4A', 'changeGraph', 'eyJpZCI6IDIwOCwgInR5cGUiOiAidmVydGV4IiwgInByb3BzIjogeyJzaXplIjogMTAuNjY5NDU2MDY2OTQ1NjA3fX0K');</script>\n",
       "    "
      ],
      "text/plain": [
       "<IPython.core.display.HTML object>"
      ]
     },
     "metadata": {},
     "output_type": "display_data"
    },
    {
     "data": {
      "text/html": [
       "\n",
       "        <div id=\"46LLCzLYA3eyii7LXEBeq3\"></div>\n",
       "        <script>netpixi.call('46LLCzLYA3eyii7LXEBeq3', 'kMevSyjrf3B8vGoFZ2Jz4A', 'changeGraph', 'eyJpZCI6IDczLCAidHlwZSI6ICJ2ZXJ0ZXgiLCAicHJvcHMiOiB7ImNvbG9yIjogMTY3MTE2ODB9fQo=');</script>\n",
       "    "
      ],
      "text/plain": [
       "<IPython.core.display.HTML object>"
      ]
     },
     "metadata": {},
     "output_type": "display_data"
    },
    {
     "data": {
      "text/html": [
       "\n",
       "        <div id=\"7zMBdTREpUiBA9JD2ZWU9Q\"></div>\n",
       "        <script>netpixi.call('7zMBdTREpUiBA9JD2ZWU9Q', 'kMevSyjrf3B8vGoFZ2Jz4A', 'changeGraph', 'eyJpZCI6IDIwOSwgInR5cGUiOiAidmVydGV4IiwgInByb3BzIjogeyJzaXplIjogMTIuMDkyMDUwMjA5MjA1MDJ9fQo=');</script>\n",
       "    "
      ],
      "text/plain": [
       "<IPython.core.display.HTML object>"
      ]
     },
     "metadata": {},
     "output_type": "display_data"
    },
    {
     "data": {
      "text/html": [
       "\n",
       "        <div id=\"6z7o4qjzsUoG6LD8oU5eDC\"></div>\n",
       "        <script>netpixi.call('6z7o4qjzsUoG6LD8oU5eDC', 'kMevSyjrf3B8vGoFZ2Jz4A', 'changeGraph', 'eyJpZCI6IDcwLCAidHlwZSI6ICJ2ZXJ0ZXgiLCAicHJvcHMiOiB7ImNvbG9yIjogMTY3MTE2ODB9fQo=');</script>\n",
       "    "
      ],
      "text/plain": [
       "<IPython.core.display.HTML object>"
      ]
     },
     "metadata": {},
     "output_type": "display_data"
    },
    {
     "data": {
      "text/html": [
       "\n",
       "        <div id=\"6nWd5GNBAAnmmYFUSXpiF3\"></div>\n",
       "        <script>netpixi.call('6nWd5GNBAAnmmYFUSXpiF3', 'kMevSyjrf3B8vGoFZ2Jz4A', 'changeGraph', 'eyJpZCI6IDIxMCwgInR5cGUiOiAidmVydGV4IiwgInByb3BzIjogeyJzaXplIjogMTcuNDA1ODU3NzQwNTg1NzczfX0K');</script>\n",
       "    "
      ],
      "text/plain": [
       "<IPython.core.display.HTML object>"
      ]
     },
     "metadata": {},
     "output_type": "display_data"
    },
    {
     "data": {
      "text/html": [
       "\n",
       "        <div id=\"3fARqkUsvHZ7fqUNJUnJR6\"></div>\n",
       "        <script>netpixi.call('3fARqkUsvHZ7fqUNJUnJR6', 'kMevSyjrf3B8vGoFZ2Jz4A', 'changeGraph', 'eyJpZCI6IDc0LCAidHlwZSI6ICJ2ZXJ0ZXgiLCAicHJvcHMiOiB7ImNvbG9yIjogMTY3MTE2ODB9fQo=');</script>\n",
       "    "
      ],
      "text/plain": [
       "<IPython.core.display.HTML object>"
      ]
     },
     "metadata": {},
     "output_type": "display_data"
    },
    {
     "data": {
      "text/html": [
       "\n",
       "        <div id=\"SF5QoibXsrAZr5p7RxftYR\"></div>\n",
       "        <script>netpixi.call('SF5QoibXsrAZr5p7RxftYR', 'kMevSyjrf3B8vGoFZ2Jz4A', 'changeGraph', 'eyJpZCI6IDIxMSwgInR5cGUiOiAidmVydGV4IiwgInByb3BzIjogeyJzaXplIjogMTEuNTA2Mjc2MTUwNjI3NjE1fX0K');</script>\n",
       "    "
      ],
      "text/plain": [
       "<IPython.core.display.HTML object>"
      ]
     },
     "metadata": {},
     "output_type": "display_data"
    },
    {
     "data": {
      "text/html": [
       "\n",
       "        <div id=\"8UD2CQiPwEa7N3hpPptDQr\"></div>\n",
       "        <script>netpixi.call('8UD2CQiPwEa7N3hpPptDQr', 'kMevSyjrf3B8vGoFZ2Jz4A', 'changeGraph', 'eyJpZCI6IDc3LCAidHlwZSI6ICJ2ZXJ0ZXgiLCAicHJvcHMiOiB7ImNvbG9yIjogMTY3MTE2ODB9fQo=');</script>\n",
       "    "
      ],
      "text/plain": [
       "<IPython.core.display.HTML object>"
      ]
     },
     "metadata": {},
     "output_type": "display_data"
    },
    {
     "data": {
      "text/html": [
       "\n",
       "        <div id=\"MBoQfiAYpCghsFfqkiD45g\"></div>\n",
       "        <script>netpixi.call('MBoQfiAYpCghsFfqkiD45g', 'kMevSyjrf3B8vGoFZ2Jz4A', 'changeGraph', 'eyJpZCI6IDIxMiwgInR5cGUiOiAidmVydGV4IiwgInByb3BzIjogeyJzaXplIjogMTUuMTg4Mjg0NTE4ODI4NDV9fQo=');</script>\n",
       "    "
      ],
      "text/plain": [
       "<IPython.core.display.HTML object>"
      ]
     },
     "metadata": {},
     "output_type": "display_data"
    },
    {
     "data": {
      "text/html": [
       "\n",
       "        <div id=\"ZvDDjeyu43oVpwttRSedmi\"></div>\n",
       "        <script>netpixi.call('ZvDDjeyu43oVpwttRSedmi', 'kMevSyjrf3B8vGoFZ2Jz4A', 'changeGraph', 'eyJpZCI6IDY3LCAidHlwZSI6ICJ2ZXJ0ZXgiLCAicHJvcHMiOiB7ImNvbG9yIjogMTY3MTE2ODB9fQo=');</script>\n",
       "    "
      ],
      "text/plain": [
       "<IPython.core.display.HTML object>"
      ]
     },
     "metadata": {},
     "output_type": "display_data"
    },
    {
     "data": {
      "text/html": [
       "\n",
       "        <div id=\"ZoE9XHMzLhkDUgNsQZ3MUC\"></div>\n",
       "        <script>netpixi.call('ZoE9XHMzLhkDUgNsQZ3MUC', 'kMevSyjrf3B8vGoFZ2Jz4A', 'changeGraph', 'eyJpZCI6IDIxMywgInR5cGUiOiAidmVydGV4IiwgInByb3BzIjogeyJzaXplIjogMTIuODAzMzQ3MjgwMzM0NzI3fX0K');</script>\n",
       "    "
      ],
      "text/plain": [
       "<IPython.core.display.HTML object>"
      ]
     },
     "metadata": {},
     "output_type": "display_data"
    },
    {
     "data": {
      "text/html": [
       "\n",
       "        <div id=\"WBE5xrbnrYxVbMamGerq2G\"></div>\n",
       "        <script>netpixi.call('WBE5xrbnrYxVbMamGerq2G', 'kMevSyjrf3B8vGoFZ2Jz4A', 'changeGraph', 'eyJpZCI6IDc4LCAidHlwZSI6ICJ2ZXJ0ZXgiLCAicHJvcHMiOiB7ImNvbG9yIjogMTY3MTE2ODB9fQo=');</script>\n",
       "    "
      ],
      "text/plain": [
       "<IPython.core.display.HTML object>"
      ]
     },
     "metadata": {},
     "output_type": "display_data"
    },
    {
     "data": {
      "text/html": [
       "\n",
       "        <div id=\"MgG43qoS4fmPCGogPCrjQU\"></div>\n",
       "        <script>netpixi.call('MgG43qoS4fmPCGogPCrjQU', 'kMevSyjrf3B8vGoFZ2Jz4A', 'changeGraph', 'eyJpZCI6IDIxNCwgInR5cGUiOiAidmVydGV4IiwgInByb3BzIjogeyJzaXplIjogMTYuMTkyNDY4NjE5MjQ2ODZ9fQo=');</script>\n",
       "    "
      ],
      "text/plain": [
       "<IPython.core.display.HTML object>"
      ]
     },
     "metadata": {},
     "output_type": "display_data"
    },
    {
     "data": {
      "text/html": [
       "\n",
       "        <div id=\"gE6cf7adNp5zUX92mUYGg3\"></div>\n",
       "        <script>netpixi.call('gE6cf7adNp5zUX92mUYGg3', 'kMevSyjrf3B8vGoFZ2Jz4A', 'changeGraph', 'eyJpZCI6IDg0LCAidHlwZSI6ICJ2ZXJ0ZXgiLCAicHJvcHMiOiB7ImNvbG9yIjogMTY3MTE2ODB9fQo=');</script>\n",
       "    "
      ],
      "text/plain": [
       "<IPython.core.display.HTML object>"
      ]
     },
     "metadata": {},
     "output_type": "display_data"
    },
    {
     "data": {
      "text/html": [
       "\n",
       "        <div id=\"ESxwX6QkJcJf6BmaokuBe6\"></div>\n",
       "        <script>netpixi.call('ESxwX6QkJcJf6BmaokuBe6', 'kMevSyjrf3B8vGoFZ2Jz4A', 'changeGraph', 'eyJpZCI6IDIxNSwgInR5cGUiOiAidmVydGV4IiwgInByb3BzIjogeyJzaXplIjogMTYuODIwMDgzNjgyMDA4MzY3fX0K');</script>\n",
       "    "
      ],
      "text/plain": [
       "<IPython.core.display.HTML object>"
      ]
     },
     "metadata": {},
     "output_type": "display_data"
    },
    {
     "data": {
      "text/html": [
       "\n",
       "        <div id=\"Sa9r5tQcPu9pvsyE55Z5Yp\"></div>\n",
       "        <script>netpixi.call('Sa9r5tQcPu9pvsyE55Z5Yp', 'kMevSyjrf3B8vGoFZ2Jz4A', 'changeGraph', 'eyJpZCI6IDc1LCAidHlwZSI6ICJ2ZXJ0ZXgiLCAicHJvcHMiOiB7ImNvbG9yIjogMTY3MTE2ODB9fQo=');</script>\n",
       "    "
      ],
      "text/plain": [
       "<IPython.core.display.HTML object>"
      ]
     },
     "metadata": {},
     "output_type": "display_data"
    },
    {
     "data": {
      "text/html": [
       "\n",
       "        <div id=\"kt2NLwhbTozRnpKXXs9FNY\"></div>\n",
       "        <script>netpixi.call('kt2NLwhbTozRnpKXXs9FNY', 'kMevSyjrf3B8vGoFZ2Jz4A', 'changeGraph', 'eyJpZCI6IDIxNiwgInR5cGUiOiAidmVydGV4IiwgInByb3BzIjogeyJzaXplIjogMTUuMjMwMTI1NTIzMDEyNTUyfX0K');</script>\n",
       "    "
      ],
      "text/plain": [
       "<IPython.core.display.HTML object>"
      ]
     },
     "metadata": {},
     "output_type": "display_data"
    },
    {
     "data": {
      "text/html": [
       "\n",
       "        <div id=\"A4ZRdjVi2BTRAPpCcmbib4\"></div>\n",
       "        <script>netpixi.call('A4ZRdjVi2BTRAPpCcmbib4', 'kMevSyjrf3B8vGoFZ2Jz4A', 'changeGraph', 'eyJpZCI6IDczLCAidHlwZSI6ICJ2ZXJ0ZXgiLCAicHJvcHMiOiB7ImNvbG9yIjogMTY3MTE2ODB9fQo=');</script>\n",
       "    "
      ],
      "text/plain": [
       "<IPython.core.display.HTML object>"
      ]
     },
     "metadata": {},
     "output_type": "display_data"
    },
    {
     "data": {
      "text/html": [
       "\n",
       "        <div id=\"ERiTjXbmphAAwfBxUAb4Jv\"></div>\n",
       "        <script>netpixi.call('ERiTjXbmphAAwfBxUAb4Jv', 'kMevSyjrf3B8vGoFZ2Jz4A', 'changeGraph', 'eyJpZCI6IDIxNywgInR5cGUiOiAidmVydGV4IiwgInByb3BzIjogeyJzaXplIjogMTguMTU4OTk1ODE1ODk5NTh9fQo=');</script>\n",
       "    "
      ],
      "text/plain": [
       "<IPython.core.display.HTML object>"
      ]
     },
     "metadata": {},
     "output_type": "display_data"
    },
    {
     "data": {
      "text/html": [
       "\n",
       "        <div id=\"MXt3UJ6hYuGzXjUaZ2SBxt\"></div>\n",
       "        <script>netpixi.call('MXt3UJ6hYuGzXjUaZ2SBxt', 'kMevSyjrf3B8vGoFZ2Jz4A', 'changeGraph', 'eyJpZCI6IDg0LCAidHlwZSI6ICJ2ZXJ0ZXgiLCAicHJvcHMiOiB7ImNvbG9yIjogMTY3MTE2ODB9fQo=');</script>\n",
       "    "
      ],
      "text/plain": [
       "<IPython.core.display.HTML object>"
      ]
     },
     "metadata": {},
     "output_type": "display_data"
    },
    {
     "data": {
      "text/html": [
       "\n",
       "        <div id=\"VAtjeTWvEWSEc22fT55c4F\"></div>\n",
       "        <script>netpixi.call('VAtjeTWvEWSEc22fT55c4F', 'kMevSyjrf3B8vGoFZ2Jz4A', 'changeGraph', 'eyJpZCI6IDIxOCwgInR5cGUiOiAidmVydGV4IiwgInByb3BzIjogeyJzaXplIjogMTcuMjgwMzM0NzI4MDMzNDczfX0K');</script>\n",
       "    "
      ],
      "text/plain": [
       "<IPython.core.display.HTML object>"
      ]
     },
     "metadata": {},
     "output_type": "display_data"
    },
    {
     "data": {
      "text/html": [
       "\n",
       "        <div id=\"VAsGdUAsTQU8w2uzE5SMqq\"></div>\n",
       "        <script>netpixi.call('VAsGdUAsTQU8w2uzE5SMqq', 'kMevSyjrf3B8vGoFZ2Jz4A', 'changeGraph', 'eyJpZCI6IDcyLCAidHlwZSI6ICJ2ZXJ0ZXgiLCAicHJvcHMiOiB7ImNvbG9yIjogMTY3MTE2ODB9fQo=');</script>\n",
       "    "
      ],
      "text/plain": [
       "<IPython.core.display.HTML object>"
      ]
     },
     "metadata": {},
     "output_type": "display_data"
    },
    {
     "data": {
      "text/html": [
       "\n",
       "        <div id=\"VWviTgY8baQozTKKM2yf2m\"></div>\n",
       "        <script>netpixi.call('VWviTgY8baQozTKKM2yf2m', 'kMevSyjrf3B8vGoFZ2Jz4A', 'changeGraph', 'eyJpZCI6IDIxOSwgInR5cGUiOiAidmVydGV4IiwgInByb3BzIjogeyJzaXplIjogMTUuNjkwMzc2NTY5MDM3NjU3fX0K');</script>\n",
       "    "
      ],
      "text/plain": [
       "<IPython.core.display.HTML object>"
      ]
     },
     "metadata": {},
     "output_type": "display_data"
    },
    {
     "data": {
      "text/html": [
       "\n",
       "        <div id=\"ncUMLpKJ2aKRCxkEH8UwyQ\"></div>\n",
       "        <script>netpixi.call('ncUMLpKJ2aKRCxkEH8UwyQ', 'kMevSyjrf3B8vGoFZ2Jz4A', 'changeGraph', 'eyJpZCI6IDg2LCAidHlwZSI6ICJ2ZXJ0ZXgiLCAicHJvcHMiOiB7ImNvbG9yIjogMTY3MTE2ODB9fQo=');</script>\n",
       "    "
      ],
      "text/plain": [
       "<IPython.core.display.HTML object>"
      ]
     },
     "metadata": {},
     "output_type": "display_data"
    },
    {
     "data": {
      "text/html": [
       "\n",
       "        <div id=\"gPg9BxgLtpAaz58yCPYbdd\"></div>\n",
       "        <script>netpixi.call('gPg9BxgLtpAaz58yCPYbdd', 'kMevSyjrf3B8vGoFZ2Jz4A', 'changeGraph', 'eyJpZCI6IDIyMCwgInR5cGUiOiAidmVydGV4IiwgInByb3BzIjogeyJzaXplIjogNDQuNX19Cg==');</script>\n",
       "    "
      ],
      "text/plain": [
       "<IPython.core.display.HTML object>"
      ]
     },
     "metadata": {},
     "output_type": "display_data"
    },
    {
     "data": {
      "text/html": [
       "\n",
       "        <div id=\"AszBKfH2FM3UzH422bcNUL\"></div>\n",
       "        <script>netpixi.call('AszBKfH2FM3UzH422bcNUL', 'kMevSyjrf3B8vGoFZ2Jz4A', 'changeGraph', 'eyJpZCI6IDc2LCAidHlwZSI6ICJ2ZXJ0ZXgiLCAicHJvcHMiOiB7ImNvbG9yIjogMTY3MTE2ODB9fQo=');</script>\n",
       "    "
      ],
      "text/plain": [
       "<IPython.core.display.HTML object>"
      ]
     },
     "metadata": {},
     "output_type": "display_data"
    },
    {
     "data": {
      "text/html": [
       "\n",
       "        <div id=\"j2n8trQov5DaBahmHjSnRP\"></div>\n",
       "        <script>netpixi.call('j2n8trQov5DaBahmHjSnRP', 'kMevSyjrf3B8vGoFZ2Jz4A', 'changeGraph', 'eyJpZCI6IDIyMSwgInR5cGUiOiAidmVydGV4IiwgInByb3BzIjogeyJzaXplIjogNDkuODMzMzMzMzMzMzMzMzM2fX0K');</script>\n",
       "    "
      ],
      "text/plain": [
       "<IPython.core.display.HTML object>"
      ]
     },
     "metadata": {},
     "output_type": "display_data"
    },
    {
     "data": {
      "text/html": [
       "\n",
       "        <div id=\"9QxABdWP6v3GfQse5Ezrun\"></div>\n",
       "        <script>netpixi.call('9QxABdWP6v3GfQse5Ezrun', 'kMevSyjrf3B8vGoFZ2Jz4A', 'changeGraph', 'eyJpZCI6IDc2LCAidHlwZSI6ICJ2ZXJ0ZXgiLCAicHJvcHMiOiB7ImNvbG9yIjogMTY3MTE2ODB9fQo=');</script>\n",
       "    "
      ],
      "text/plain": [
       "<IPython.core.display.HTML object>"
      ]
     },
     "metadata": {},
     "output_type": "display_data"
    },
    {
     "data": {
      "text/html": [
       "\n",
       "        <div id=\"4HuDDZvqzhjrJzA4MHQ47g\"></div>\n",
       "        <script>netpixi.call('4HuDDZvqzhjrJzA4MHQ47g', 'kMevSyjrf3B8vGoFZ2Jz4A', 'changeGraph', 'eyJpZCI6IDIyMiwgInR5cGUiOiAidmVydGV4IiwgInByb3BzIjogeyJzaXplIjogMTcuODI0MjY3NzgyNDI2Nzh9fQo=');</script>\n",
       "    "
      ],
      "text/plain": [
       "<IPython.core.display.HTML object>"
      ]
     },
     "metadata": {},
     "output_type": "display_data"
    },
    {
     "data": {
      "text/html": [
       "\n",
       "        <div id=\"8KrU5sKNNn5pXEE68uuS48\"></div>\n",
       "        <script>netpixi.call('8KrU5sKNNn5pXEE68uuS48', 'kMevSyjrf3B8vGoFZ2Jz4A', 'changeGraph', 'eyJpZCI6IDc5LCAidHlwZSI6ICJ2ZXJ0ZXgiLCAicHJvcHMiOiB7ImNvbG9yIjogMTY3MTE2ODB9fQo=');</script>\n",
       "    "
      ],
      "text/plain": [
       "<IPython.core.display.HTML object>"
      ]
     },
     "metadata": {},
     "output_type": "display_data"
    },
    {
     "data": {
      "text/html": [
       "\n",
       "        <div id=\"D7Tz2MdHct9Z36UtpHYYor\"></div>\n",
       "        <script>netpixi.call('D7Tz2MdHct9Z36UtpHYYor', 'kMevSyjrf3B8vGoFZ2Jz4A', 'changeGraph', 'eyJpZCI6IDIyMywgInR5cGUiOiAidmVydGV4IiwgInByb3BzIjogeyJzaXplIjogNDQuNjY2NjY2NjY2NjY2Njd9fQo=');</script>\n",
       "    "
      ],
      "text/plain": [
       "<IPython.core.display.HTML object>"
      ]
     },
     "metadata": {},
     "output_type": "display_data"
    },
    {
     "data": {
      "text/html": [
       "\n",
       "        <div id=\"Peggagpj4SFhxFLn4y35sT\"></div>\n",
       "        <script>netpixi.call('Peggagpj4SFhxFLn4y35sT', 'kMevSyjrf3B8vGoFZ2Jz4A', 'changeGraph', 'eyJpZCI6IDcwLCAidHlwZSI6ICJ2ZXJ0ZXgiLCAicHJvcHMiOiB7ImNvbG9yIjogMTY3MTE2ODB9fQo=');</script>\n",
       "    "
      ],
      "text/plain": [
       "<IPython.core.display.HTML object>"
      ]
     },
     "metadata": {},
     "output_type": "display_data"
    },
    {
     "data": {
      "text/html": [
       "\n",
       "        <div id=\"hZmdLMgxr5fTCSHyJcQNiC\"></div>\n",
       "        <script>netpixi.call('hZmdLMgxr5fTCSHyJcQNiC', 'kMevSyjrf3B8vGoFZ2Jz4A', 'changeGraph', 'eyJpZCI6IDIyNCwgInR5cGUiOiAidmVydGV4IiwgInByb3BzIjogeyJzaXplIjogMTYuMzE3OTkxNjMxNzk5MTYzfX0K');</script>\n",
       "    "
      ],
      "text/plain": [
       "<IPython.core.display.HTML object>"
      ]
     },
     "metadata": {},
     "output_type": "display_data"
    },
    {
     "data": {
      "text/html": [
       "\n",
       "        <div id=\"VNcYbVfUbioumf7QBE7paT\"></div>\n",
       "        <script>netpixi.call('VNcYbVfUbioumf7QBE7paT', 'kMevSyjrf3B8vGoFZ2Jz4A', 'changeGraph', 'eyJpZCI6IDgxLCAidHlwZSI6ICJ2ZXJ0ZXgiLCAicHJvcHMiOiB7ImNvbG9yIjogMTY3MTE2ODB9fQo=');</script>\n",
       "    "
      ],
      "text/plain": [
       "<IPython.core.display.HTML object>"
      ]
     },
     "metadata": {},
     "output_type": "display_data"
    },
    {
     "data": {
      "text/html": [
       "\n",
       "        <div id=\"kG47EXHQ3SRru9N3M4yhNo\"></div>\n",
       "        <script>netpixi.call('kG47EXHQ3SRru9N3M4yhNo', 'kMevSyjrf3B8vGoFZ2Jz4A', 'changeGraph', 'eyJpZCI6IDIyNSwgInR5cGUiOiAidmVydGV4IiwgInByb3BzIjogeyJzaXplIjogMTQuOTM3MjM4NDkzNzIzODV9fQo=');</script>\n",
       "    "
      ],
      "text/plain": [
       "<IPython.core.display.HTML object>"
      ]
     },
     "metadata": {},
     "output_type": "display_data"
    },
    {
     "data": {
      "text/html": [
       "\n",
       "        <div id=\"AbnFZygFEywUQeyPYF3TSZ\"></div>\n",
       "        <script>netpixi.call('AbnFZygFEywUQeyPYF3TSZ', 'kMevSyjrf3B8vGoFZ2Jz4A', 'changeGraph', 'eyJpZCI6IDgzLCAidHlwZSI6ICJ2ZXJ0ZXgiLCAicHJvcHMiOiB7ImNvbG9yIjogMTY3MTE2ODB9fQo=');</script>\n",
       "    "
      ],
      "text/plain": [
       "<IPython.core.display.HTML object>"
      ]
     },
     "metadata": {},
     "output_type": "display_data"
    },
    {
     "data": {
      "text/html": [
       "\n",
       "        <div id=\"PKqaxnyPZ5udWfEEpNhuwB\"></div>\n",
       "        <script>netpixi.call('PKqaxnyPZ5udWfEEpNhuwB', 'kMevSyjrf3B8vGoFZ2Jz4A', 'changeGraph', 'eyJpZCI6IDIyNiwgInR5cGUiOiAidmVydGV4IiwgInByb3BzIjogeyJzaXplIjogNDQuODMzMzMzMzMzMzMzMzM2fX0K');</script>\n",
       "    "
      ],
      "text/plain": [
       "<IPython.core.display.HTML object>"
      ]
     },
     "metadata": {},
     "output_type": "display_data"
    },
    {
     "data": {
      "text/html": [
       "\n",
       "        <div id=\"7WnEPhNj2go8LWoZxmkNeK\"></div>\n",
       "        <script>netpixi.call('7WnEPhNj2go8LWoZxmkNeK', 'kMevSyjrf3B8vGoFZ2Jz4A', 'changeGraph', 'eyJpZCI6IDc0LCAidHlwZSI6ICJ2ZXJ0ZXgiLCAicHJvcHMiOiB7ImNvbG9yIjogMTY3MTE2ODB9fQo=');</script>\n",
       "    "
      ],
      "text/plain": [
       "<IPython.core.display.HTML object>"
      ]
     },
     "metadata": {},
     "output_type": "display_data"
    },
    {
     "data": {
      "text/html": [
       "\n",
       "        <div id=\"Ei6TGnaQ5VTZTzGA97BYEV\"></div>\n",
       "        <script>netpixi.call('Ei6TGnaQ5VTZTzGA97BYEV', 'kMevSyjrf3B8vGoFZ2Jz4A', 'changeGraph', 'eyJpZCI6IDIyNywgInR5cGUiOiAidmVydGV4IiwgInByb3BzIjogeyJzaXplIjogMTEuMDA0MTg0MTAwNDE4NDF9fQo=');</script>\n",
       "    "
      ],
      "text/plain": [
       "<IPython.core.display.HTML object>"
      ]
     },
     "metadata": {},
     "output_type": "display_data"
    },
    {
     "data": {
      "text/html": [
       "\n",
       "        <div id=\"5ijFDNr29tjrPKGEL8a7TR\"></div>\n",
       "        <script>netpixi.call('5ijFDNr29tjrPKGEL8a7TR', 'kMevSyjrf3B8vGoFZ2Jz4A', 'changeGraph', 'eyJpZCI6IDgxLCAidHlwZSI6ICJ2ZXJ0ZXgiLCAicHJvcHMiOiB7ImNvbG9yIjogMTY3MTE2ODB9fQo=');</script>\n",
       "    "
      ],
      "text/plain": [
       "<IPython.core.display.HTML object>"
      ]
     },
     "metadata": {},
     "output_type": "display_data"
    },
    {
     "data": {
      "text/html": [
       "\n",
       "        <div id=\"ZNEaNZFHmR8xccducnQHTn\"></div>\n",
       "        <script>netpixi.call('ZNEaNZFHmR8xccducnQHTn', 'kMevSyjrf3B8vGoFZ2Jz4A', 'changeGraph', 'eyJpZCI6IDIyOCwgInR5cGUiOiAidmVydGV4IiwgInByb3BzIjogeyJzaXplIjogMTAuMjUxMDQ2MDI1MTA0NjAzfX0K');</script>\n",
       "    "
      ],
      "text/plain": [
       "<IPython.core.display.HTML object>"
      ]
     },
     "metadata": {},
     "output_type": "display_data"
    },
    {
     "data": {
      "text/html": [
       "\n",
       "        <div id=\"3MY7fFXbRpLA4ZhGa8tUoJ\"></div>\n",
       "        <script>netpixi.call('3MY7fFXbRpLA4ZhGa8tUoJ', 'kMevSyjrf3B8vGoFZ2Jz4A', 'changeGraph', 'eyJpZCI6IDgxLCAidHlwZSI6ICJ2ZXJ0ZXgiLCAicHJvcHMiOiB7ImNvbG9yIjogMTY3MTE2ODB9fQo=');</script>\n",
       "    "
      ],
      "text/plain": [
       "<IPython.core.display.HTML object>"
      ]
     },
     "metadata": {},
     "output_type": "display_data"
    },
    {
     "data": {
      "text/html": [
       "\n",
       "        <div id=\"UUFAbPTsn4fhWDAsiY259R\"></div>\n",
       "        <script>netpixi.call('UUFAbPTsn4fhWDAsiY259R', 'kMevSyjrf3B8vGoFZ2Jz4A', 'changeGraph', 'eyJpZCI6IDIyOSwgInR5cGUiOiAidmVydGV4IiwgInByb3BzIjogeyJzaXplIjogMTcuNjk4NzQ0NzY5ODc0NDc3fX0K');</script>\n",
       "    "
      ],
      "text/plain": [
       "<IPython.core.display.HTML object>"
      ]
     },
     "metadata": {},
     "output_type": "display_data"
    },
    {
     "data": {
      "text/html": [
       "\n",
       "        <div id=\"HnCoCFxQtjupHDjahqxNQy\"></div>\n",
       "        <script>netpixi.call('HnCoCFxQtjupHDjahqxNQy', 'kMevSyjrf3B8vGoFZ2Jz4A', 'changeGraph', 'eyJpZCI6IDc2LCAidHlwZSI6ICJ2ZXJ0ZXgiLCAicHJvcHMiOiB7ImNvbG9yIjogMTY3MTE2ODB9fQo=');</script>\n",
       "    "
      ],
      "text/plain": [
       "<IPython.core.display.HTML object>"
      ]
     },
     "metadata": {},
     "output_type": "display_data"
    },
    {
     "data": {
      "text/html": [
       "\n",
       "        <div id=\"XBQTNRN5kYg67AMBfCCBJR\"></div>\n",
       "        <script>netpixi.call('XBQTNRN5kYg67AMBfCCBJR', 'kMevSyjrf3B8vGoFZ2Jz4A', 'changeGraph', 'eyJpZCI6IDIzMCwgInR5cGUiOiAidmVydGV4IiwgInByb3BzIjogeyJzaXplIjogMTYuNDQzNTE0NjQ0MzUxNDYzfX0K');</script>\n",
       "    "
      ],
      "text/plain": [
       "<IPython.core.display.HTML object>"
      ]
     },
     "metadata": {},
     "output_type": "display_data"
    },
    {
     "data": {
      "text/html": [
       "\n",
       "        <div id=\"h8LaVdsVYPgYD8AMyAxiKb\"></div>\n",
       "        <script>netpixi.call('h8LaVdsVYPgYD8AMyAxiKb', 'kMevSyjrf3B8vGoFZ2Jz4A', 'changeGraph', 'eyJpZCI6IDg0LCAidHlwZSI6ICJ2ZXJ0ZXgiLCAicHJvcHMiOiB7ImNvbG9yIjogMTY3MTE2ODB9fQo=');</script>\n",
       "    "
      ],
      "text/plain": [
       "<IPython.core.display.HTML object>"
      ]
     },
     "metadata": {},
     "output_type": "display_data"
    },
    {
     "data": {
      "text/html": [
       "\n",
       "        <div id=\"RrJfyjNZ8yBoFeuNMErXgu\"></div>\n",
       "        <script>netpixi.call('RrJfyjNZ8yBoFeuNMErXgu', 'kMevSyjrf3B8vGoFZ2Jz4A', 'changeGraph', 'eyJpZCI6IDIzMSwgInR5cGUiOiAidmVydGV4IiwgInByb3BzIjogeyJzaXplIjogMTIuMjE3NTczMjIxNzU3MzIyfX0K');</script>\n",
       "    "
      ],
      "text/plain": [
       "<IPython.core.display.HTML object>"
      ]
     },
     "metadata": {},
     "output_type": "display_data"
    },
    {
     "data": {
      "text/html": [
       "\n",
       "        <div id=\"dGaftEaASmXeoHwVKsWkSF\"></div>\n",
       "        <script>netpixi.call('dGaftEaASmXeoHwVKsWkSF', 'kMevSyjrf3B8vGoFZ2Jz4A', 'changeGraph', 'eyJpZCI6IDcwLCAidHlwZSI6ICJ2ZXJ0ZXgiLCAicHJvcHMiOiB7ImNvbG9yIjogMTY3MTE2ODB9fQo=');</script>\n",
       "    "
      ],
      "text/plain": [
       "<IPython.core.display.HTML object>"
      ]
     },
     "metadata": {},
     "output_type": "display_data"
    },
    {
     "data": {
      "text/html": [
       "\n",
       "        <div id=\"bXwnJftX27oGHHuLgG7cTa\"></div>\n",
       "        <script>netpixi.call('bXwnJftX27oGHHuLgG7cTa', 'kMevSyjrf3B8vGoFZ2Jz4A', 'changeGraph', 'eyJpZCI6IDIzMiwgInR5cGUiOiAidmVydGV4IiwgInByb3BzIjogeyJzaXplIjogMTkuNjIzNDMwOTYyMzQzMDk3fX0K');</script>\n",
       "    "
      ],
      "text/plain": [
       "<IPython.core.display.HTML object>"
      ]
     },
     "metadata": {},
     "output_type": "display_data"
    },
    {
     "data": {
      "text/html": [
       "\n",
       "        <div id=\"VTMuXknjT5ZpXQznx2XNom\"></div>\n",
       "        <script>netpixi.call('VTMuXknjT5ZpXQznx2XNom', 'kMevSyjrf3B8vGoFZ2Jz4A', 'changeGraph', 'eyJpZCI6IDc1LCAidHlwZSI6ICJ2ZXJ0ZXgiLCAicHJvcHMiOiB7ImNvbG9yIjogMTY3MTE2ODB9fQo=');</script>\n",
       "    "
      ],
      "text/plain": [
       "<IPython.core.display.HTML object>"
      ]
     },
     "metadata": {},
     "output_type": "display_data"
    },
    {
     "data": {
      "text/html": [
       "\n",
       "        <div id=\"nzrVarLwso6P26SyqiojU5\"></div>\n",
       "        <script>netpixi.call('nzrVarLwso6P26SyqiojU5', 'kMevSyjrf3B8vGoFZ2Jz4A', 'changeGraph', 'eyJpZCI6IDIzMywgInR5cGUiOiAidmVydGV4IiwgInByb3BzIjogeyJzaXplIjogMTguMjAwODM2ODIwMDgzNjh9fQo=');</script>\n",
       "    "
      ],
      "text/plain": [
       "<IPython.core.display.HTML object>"
      ]
     },
     "metadata": {},
     "output_type": "display_data"
    },
    {
     "data": {
      "text/html": [
       "\n",
       "        <div id=\"Gun49LzeqRh6UGqy7kmNWN\"></div>\n",
       "        <script>netpixi.call('Gun49LzeqRh6UGqy7kmNWN', 'kMevSyjrf3B8vGoFZ2Jz4A', 'changeGraph', 'eyJpZCI6IDc4LCAidHlwZSI6ICJ2ZXJ0ZXgiLCAicHJvcHMiOiB7ImNvbG9yIjogMTY3MTE2ODB9fQo=');</script>\n",
       "    "
      ],
      "text/plain": [
       "<IPython.core.display.HTML object>"
      ]
     },
     "metadata": {},
     "output_type": "display_data"
    },
    {
     "data": {
      "text/html": [
       "\n",
       "        <div id=\"HEGjQzqEGL3TBWbBeUcfrj\"></div>\n",
       "        <script>netpixi.call('HEGjQzqEGL3TBWbBeUcfrj', 'kMevSyjrf3B8vGoFZ2Jz4A', 'changeGraph', 'eyJpZCI6IDIzNCwgInR5cGUiOiAidmVydGV4IiwgInByb3BzIjogeyJzaXplIjogNDUuMzMzMzMzMzMzMzMzMzN9fQo=');</script>\n",
       "    "
      ],
      "text/plain": [
       "<IPython.core.display.HTML object>"
      ]
     },
     "metadata": {},
     "output_type": "display_data"
    },
    {
     "data": {
      "text/html": [
       "\n",
       "        <div id=\"VdoBP4xjqid4GGUSSAhrhe\"></div>\n",
       "        <script>netpixi.call('VdoBP4xjqid4GGUSSAhrhe', 'kMevSyjrf3B8vGoFZ2Jz4A', 'changeGraph', 'eyJpZCI6IDgwLCAidHlwZSI6ICJ2ZXJ0ZXgiLCAicHJvcHMiOiB7ImNvbG9yIjogMTY3MTE2ODB9fQo=');</script>\n",
       "    "
      ],
      "text/plain": [
       "<IPython.core.display.HTML object>"
      ]
     },
     "metadata": {},
     "output_type": "display_data"
    },
    {
     "data": {
      "text/html": [
       "\n",
       "        <div id=\"HViCAta2YeB58mRgY6Fd2F\"></div>\n",
       "        <script>netpixi.call('HViCAta2YeB58mRgY6Fd2F', 'kMevSyjrf3B8vGoFZ2Jz4A', 'changeGraph', 'eyJpZCI6IDIzNSwgInR5cGUiOiAidmVydGV4IiwgInByb3BzIjogeyJzaXplIjogMTIuNTk0MTQyMjU5NDE0MjI1fX0K');</script>\n",
       "    "
      ],
      "text/plain": [
       "<IPython.core.display.HTML object>"
      ]
     },
     "metadata": {},
     "output_type": "display_data"
    },
    {
     "data": {
      "text/html": [
       "\n",
       "        <div id=\"QBdSEJNPpJwzpxbHH6b5L8\"></div>\n",
       "        <script>netpixi.call('QBdSEJNPpJwzpxbHH6b5L8', 'kMevSyjrf3B8vGoFZ2Jz4A', 'changeGraph', 'eyJpZCI6IDgyLCAidHlwZSI6ICJ2ZXJ0ZXgiLCAicHJvcHMiOiB7ImNvbG9yIjogMTY3MTE2ODB9fQo=');</script>\n",
       "    "
      ],
      "text/plain": [
       "<IPython.core.display.HTML object>"
      ]
     },
     "metadata": {},
     "output_type": "display_data"
    },
    {
     "data": {
      "text/html": [
       "\n",
       "        <div id=\"4hKd29LxDu8sizmxmizxFX\"></div>\n",
       "        <script>netpixi.call('4hKd29LxDu8sizmxmizxFX', 'kMevSyjrf3B8vGoFZ2Jz4A', 'changeGraph', 'eyJpZCI6IDIzNiwgInR5cGUiOiAidmVydGV4IiwgInByb3BzIjogeyJzaXplIjogMTUuNDM5MzMwNTQzOTMzMDUzfX0K');</script>\n",
       "    "
      ],
      "text/plain": [
       "<IPython.core.display.HTML object>"
      ]
     },
     "metadata": {},
     "output_type": "display_data"
    },
    {
     "data": {
      "text/html": [
       "\n",
       "        <div id=\"WAy4mVNXeMEoNG7GtMzmJk\"></div>\n",
       "        <script>netpixi.call('WAy4mVNXeMEoNG7GtMzmJk', 'kMevSyjrf3B8vGoFZ2Jz4A', 'changeGraph', 'eyJpZCI6IDgwLCAidHlwZSI6ICJ2ZXJ0ZXgiLCAicHJvcHMiOiB7ImNvbG9yIjogMTY3MTE2ODB9fQo=');</script>\n",
       "    "
      ],
      "text/plain": [
       "<IPython.core.display.HTML object>"
      ]
     },
     "metadata": {},
     "output_type": "display_data"
    },
    {
     "data": {
      "text/html": [
       "\n",
       "        <div id=\"QvM7Jp6r3gGriQ8B8xNxRF\"></div>\n",
       "        <script>netpixi.call('QvM7Jp6r3gGriQ8B8xNxRF', 'kMevSyjrf3B8vGoFZ2Jz4A', 'changeGraph', 'eyJpZCI6IDIzNywgInR5cGUiOiAidmVydGV4IiwgInByb3BzIjogeyJzaXplIjogMTYuNDAxNjczNjQwMTY3MzYzfX0K');</script>\n",
       "    "
      ],
      "text/plain": [
       "<IPython.core.display.HTML object>"
      ]
     },
     "metadata": {},
     "output_type": "display_data"
    },
    {
     "data": {
      "text/html": [
       "\n",
       "        <div id=\"hD6RJg8rwMtsNDWMuYCXqu\"></div>\n",
       "        <script>netpixi.call('hD6RJg8rwMtsNDWMuYCXqu', 'kMevSyjrf3B8vGoFZ2Jz4A', 'changeGraph', 'eyJpZCI6IDcyLCAidHlwZSI6ICJ2ZXJ0ZXgiLCAicHJvcHMiOiB7ImNvbG9yIjogMTY3MTE2ODB9fQo=');</script>\n",
       "    "
      ],
      "text/plain": [
       "<IPython.core.display.HTML object>"
      ]
     },
     "metadata": {},
     "output_type": "display_data"
    },
    {
     "data": {
      "text/html": [
       "\n",
       "        <div id=\"A6VjpkeH77JXedGspU4VTZ\"></div>\n",
       "        <script>netpixi.call('A6VjpkeH77JXedGspU4VTZ', 'kMevSyjrf3B8vGoFZ2Jz4A', 'changeGraph', 'eyJpZCI6IDIzOCwgInR5cGUiOiAidmVydGV4IiwgInByb3BzIjogeyJzaXplIjogMTIuNzYxNTA2Mjc2MTUwNjI3fX0K');</script>\n",
       "    "
      ],
      "text/plain": [
       "<IPython.core.display.HTML object>"
      ]
     },
     "metadata": {},
     "output_type": "display_data"
    },
    {
     "data": {
      "text/html": [
       "\n",
       "        <div id=\"f7nsNVXXw7zqSM8QUS94Dp\"></div>\n",
       "        <script>netpixi.call('f7nsNVXXw7zqSM8QUS94Dp', 'kMevSyjrf3B8vGoFZ2Jz4A', 'changeGraph', 'eyJpZCI6IDg3LCAidHlwZSI6ICJ2ZXJ0ZXgiLCAicHJvcHMiOiB7ImNvbG9yIjogMTY3MTE2ODB9fQo=');</script>\n",
       "    "
      ],
      "text/plain": [
       "<IPython.core.display.HTML object>"
      ]
     },
     "metadata": {},
     "output_type": "display_data"
    },
    {
     "data": {
      "text/html": [
       "\n",
       "        <div id=\"jm4TeqjYsGtnvcXRhDQXVX\"></div>\n",
       "        <script>netpixi.call('jm4TeqjYsGtnvcXRhDQXVX', 'kMevSyjrf3B8vGoFZ2Jz4A', 'changeGraph', 'eyJpZCI6IDIzOSwgInR5cGUiOiAidmVydGV4IiwgInByb3BzIjogeyJzaXplIjogMTguOTEyMTMzODkxMjEzMzg3fX0K');</script>\n",
       "    "
      ],
      "text/plain": [
       "<IPython.core.display.HTML object>"
      ]
     },
     "metadata": {},
     "output_type": "display_data"
    },
    {
     "data": {
      "text/html": [
       "\n",
       "        <div id=\"Pbdc6d8xf8TGT8qWFfAKLf\"></div>\n",
       "        <script>netpixi.call('Pbdc6d8xf8TGT8qWFfAKLf', 'kMevSyjrf3B8vGoFZ2Jz4A', 'changeGraph', 'eyJpZCI6IDcwLCAidHlwZSI6ICJ2ZXJ0ZXgiLCAicHJvcHMiOiB7ImNvbG9yIjogMTY3MTE2ODB9fQo=');</script>\n",
       "    "
      ],
      "text/plain": [
       "<IPython.core.display.HTML object>"
      ]
     },
     "metadata": {},
     "output_type": "display_data"
    },
    {
     "data": {
      "text/html": [
       "\n",
       "        <div id=\"oUG7D3NbzhaAFvDm27366R\"></div>\n",
       "        <script>netpixi.call('oUG7D3NbzhaAFvDm27366R', 'kMevSyjrf3B8vGoFZ2Jz4A', 'changeGraph', 'eyJpZCI6IDI0MCwgInR5cGUiOiAidmVydGV4IiwgInByb3BzIjogeyJzaXplIjogMTAuODM2ODIwMDgzNjgyMDA4fX0K');</script>\n",
       "    "
      ],
      "text/plain": [
       "<IPython.core.display.HTML object>"
      ]
     },
     "metadata": {},
     "output_type": "display_data"
    },
    {
     "data": {
      "text/html": [
       "\n",
       "        <div id=\"fWjFExtN5Swf4Vh7NPvqNe\"></div>\n",
       "        <script>netpixi.call('fWjFExtN5Swf4Vh7NPvqNe', 'kMevSyjrf3B8vGoFZ2Jz4A', 'changeGraph', 'eyJpZCI6IDgyLCAidHlwZSI6ICJ2ZXJ0ZXgiLCAicHJvcHMiOiB7ImNvbG9yIjogMTY3MTE2ODB9fQo=');</script>\n",
       "    "
      ],
      "text/plain": [
       "<IPython.core.display.HTML object>"
      ]
     },
     "metadata": {},
     "output_type": "display_data"
    },
    {
     "data": {
      "text/html": [
       "\n",
       "        <div id=\"J367im7CZ27Lib9wXXutia\"></div>\n",
       "        <script>netpixi.call('J367im7CZ27Lib9wXXutia', 'kMevSyjrf3B8vGoFZ2Jz4A', 'changeGraph', 'eyJpZCI6IDI0MSwgInR5cGUiOiAidmVydGV4IiwgInByb3BzIjogeyJzaXplIjogMTYuMjc2MTUwNjI3NjE1MDYzfX0K');</script>\n",
       "    "
      ],
      "text/plain": [
       "<IPython.core.display.HTML object>"
      ]
     },
     "metadata": {},
     "output_type": "display_data"
    },
    {
     "data": {
      "text/html": [
       "\n",
       "        <div id=\"9HzsZu2nBwiKuhjWy6d9Cw\"></div>\n",
       "        <script>netpixi.call('9HzsZu2nBwiKuhjWy6d9Cw', 'kMevSyjrf3B8vGoFZ2Jz4A', 'changeGraph', 'eyJpZCI6IDgwLCAidHlwZSI6ICJ2ZXJ0ZXgiLCAicHJvcHMiOiB7ImNvbG9yIjogMTY3MTE2ODB9fQo=');</script>\n",
       "    "
      ],
      "text/plain": [
       "<IPython.core.display.HTML object>"
      ]
     },
     "metadata": {},
     "output_type": "display_data"
    },
    {
     "data": {
      "text/html": [
       "\n",
       "        <div id=\"k9xNLeuyzfqnKyLdNh6wFL\"></div>\n",
       "        <script>netpixi.call('k9xNLeuyzfqnKyLdNh6wFL', 'kMevSyjrf3B8vGoFZ2Jz4A', 'changeGraph', 'eyJpZCI6IDI0MiwgInR5cGUiOiAidmVydGV4IiwgInByb3BzIjogeyJzaXplIjogNDcuODMzMzMzMzMzMzMzMzN9fQo=');</script>\n",
       "    "
      ],
      "text/plain": [
       "<IPython.core.display.HTML object>"
      ]
     },
     "metadata": {},
     "output_type": "display_data"
    },
    {
     "data": {
      "text/html": [
       "\n",
       "        <div id=\"4wr6LC4kNxGEj2xSVJXNdR\"></div>\n",
       "        <script>netpixi.call('4wr6LC4kNxGEj2xSVJXNdR', 'kMevSyjrf3B8vGoFZ2Jz4A', 'changeGraph', 'eyJpZCI6IDc1LCAidHlwZSI6ICJ2ZXJ0ZXgiLCAicHJvcHMiOiB7ImNvbG9yIjogMTY3MTE2ODB9fQo=');</script>\n",
       "    "
      ],
      "text/plain": [
       "<IPython.core.display.HTML object>"
      ]
     },
     "metadata": {},
     "output_type": "display_data"
    },
    {
     "data": {
      "text/html": [
       "\n",
       "        <div id=\"BB6tZgeC6i9PJFfGffioaY\"></div>\n",
       "        <script>netpixi.call('BB6tZgeC6i9PJFfGffioaY', 'kMevSyjrf3B8vGoFZ2Jz4A', 'changeGraph', 'eyJpZCI6IDI0MywgInR5cGUiOiAidmVydGV4IiwgInByb3BzIjogeyJzaXplIjogMTguOTUzOTc0ODk1Mzk3NDg2fX0K');</script>\n",
       "    "
      ],
      "text/plain": [
       "<IPython.core.display.HTML object>"
      ]
     },
     "metadata": {},
     "output_type": "display_data"
    },
    {
     "data": {
      "text/html": [
       "\n",
       "        <div id=\"GgECKidyTjQLb2hqCN6Gbx\"></div>\n",
       "        <script>netpixi.call('GgECKidyTjQLb2hqCN6Gbx', 'kMevSyjrf3B8vGoFZ2Jz4A', 'changeGraph', 'eyJpZCI6IDg0LCAidHlwZSI6ICJ2ZXJ0ZXgiLCAicHJvcHMiOiB7ImNvbG9yIjogMTY3MTE2ODB9fQo=');</script>\n",
       "    "
      ],
      "text/plain": [
       "<IPython.core.display.HTML object>"
      ]
     },
     "metadata": {},
     "output_type": "display_data"
    },
    {
     "data": {
      "text/html": [
       "\n",
       "        <div id=\"JaFrLcANSjrwzkYAfNkLag\"></div>\n",
       "        <script>netpixi.call('JaFrLcANSjrwzkYAfNkLag', 'kMevSyjrf3B8vGoFZ2Jz4A', 'changeGraph', 'eyJpZCI6IDI0NCwgInR5cGUiOiAidmVydGV4IiwgInByb3BzIjogeyJzaXplIjogMTYuMDY2OTQ1NjA2Njk0NTZ9fQo=');</script>\n",
       "    "
      ],
      "text/plain": [
       "<IPython.core.display.HTML object>"
      ]
     },
     "metadata": {},
     "output_type": "display_data"
    },
    {
     "data": {
      "text/html": [
       "\n",
       "        <div id=\"6gp3uM4pCYZ7vbXKnW7FEx\"></div>\n",
       "        <script>netpixi.call('6gp3uM4pCYZ7vbXKnW7FEx', 'kMevSyjrf3B8vGoFZ2Jz4A', 'changeGraph', 'eyJpZCI6IDcyLCAidHlwZSI6ICJ2ZXJ0ZXgiLCAicHJvcHMiOiB7ImNvbG9yIjogMTY3MTE2ODB9fQo=');</script>\n",
       "    "
      ],
      "text/plain": [
       "<IPython.core.display.HTML object>"
      ]
     },
     "metadata": {},
     "output_type": "display_data"
    },
    {
     "data": {
      "text/html": [
       "\n",
       "        <div id=\"PxFVgsiDXTBvnZ9GZn7uEV\"></div>\n",
       "        <script>netpixi.call('PxFVgsiDXTBvnZ9GZn7uEV', 'kMevSyjrf3B8vGoFZ2Jz4A', 'changeGraph', 'eyJpZCI6IDI0NSwgInR5cGUiOiAidmVydGV4IiwgInByb3BzIjogeyJzaXplIjogMTAuOTIwNTAyMDkyMDUwMjF9fQo=');</script>\n",
       "    "
      ],
      "text/plain": [
       "<IPython.core.display.HTML object>"
      ]
     },
     "metadata": {},
     "output_type": "display_data"
    },
    {
     "data": {
      "text/html": [
       "\n",
       "        <div id=\"TKShwGrADsuNnmpGSpN7DR\"></div>\n",
       "        <script>netpixi.call('TKShwGrADsuNnmpGSpN7DR', 'kMevSyjrf3B8vGoFZ2Jz4A', 'changeGraph', 'eyJpZCI6IDczLCAidHlwZSI6ICJ2ZXJ0ZXgiLCAicHJvcHMiOiB7ImNvbG9yIjogMTY3MTE2ODB9fQo=');</script>\n",
       "    "
      ],
      "text/plain": [
       "<IPython.core.display.HTML object>"
      ]
     },
     "metadata": {},
     "output_type": "display_data"
    },
    {
     "data": {
      "text/html": [
       "\n",
       "        <div id=\"4V4uLt85Ebgx5paqLgsoZZ\"></div>\n",
       "        <script>netpixi.call('4V4uLt85Ebgx5paqLgsoZZ', 'kMevSyjrf3B8vGoFZ2Jz4A', 'changeGraph', 'eyJpZCI6IDI0NiwgInR5cGUiOiAidmVydGV4IiwgInByb3BzIjogeyJzaXplIjogNDkuMTY2NjY2NjY2NjY2NjY0fX0K');</script>\n",
       "    "
      ],
      "text/plain": [
       "<IPython.core.display.HTML object>"
      ]
     },
     "metadata": {},
     "output_type": "display_data"
    },
    {
     "data": {
      "text/html": [
       "\n",
       "        <div id=\"BPtCrpXvh3adncjUzCYG5j\"></div>\n",
       "        <script>netpixi.call('BPtCrpXvh3adncjUzCYG5j', 'kMevSyjrf3B8vGoFZ2Jz4A', 'changeGraph', 'eyJpZCI6IDc4LCAidHlwZSI6ICJ2ZXJ0ZXgiLCAicHJvcHMiOiB7ImNvbG9yIjogMTY3MTE2ODB9fQo=');</script>\n",
       "    "
      ],
      "text/plain": [
       "<IPython.core.display.HTML object>"
      ]
     },
     "metadata": {},
     "output_type": "display_data"
    },
    {
     "data": {
      "text/html": [
       "\n",
       "        <div id=\"YLuVzTDvpLFtc99BUgu2QW\"></div>\n",
       "        <script>netpixi.call('YLuVzTDvpLFtc99BUgu2QW', 'kMevSyjrf3B8vGoFZ2Jz4A', 'changeGraph', 'eyJpZCI6IDI0NywgInR5cGUiOiAidmVydGV4IiwgInByb3BzIjogeyJzaXplIjogNDcuMTY2NjY2NjY2NjY2Njd9fQo=');</script>\n",
       "    "
      ],
      "text/plain": [
       "<IPython.core.display.HTML object>"
      ]
     },
     "metadata": {},
     "output_type": "display_data"
    },
    {
     "data": {
      "text/html": [
       "\n",
       "        <div id=\"fwMLoNn8yRy2kafRQmpTwS\"></div>\n",
       "        <script>netpixi.call('fwMLoNn8yRy2kafRQmpTwS', 'kMevSyjrf3B8vGoFZ2Jz4A', 'changeGraph', 'eyJpZCI6IDcxLCAidHlwZSI6ICJ2ZXJ0ZXgiLCAicHJvcHMiOiB7ImNvbG9yIjogMTY3MTE2ODB9fQo=');</script>\n",
       "    "
      ],
      "text/plain": [
       "<IPython.core.display.HTML object>"
      ]
     },
     "metadata": {},
     "output_type": "display_data"
    },
    {
     "data": {
      "text/html": [
       "\n",
       "        <div id=\"kibCHkxGggMPdhbKLJCLGT\"></div>\n",
       "        <script>netpixi.call('kibCHkxGggMPdhbKLJCLGT', 'kMevSyjrf3B8vGoFZ2Jz4A', 'changeGraph', 'eyJpZCI6IDI0OCwgInR5cGUiOiAidmVydGV4IiwgInByb3BzIjogeyJzaXplIjogMTkuMjg4NzAyOTI4ODcwMjkzfX0K');</script>\n",
       "    "
      ],
      "text/plain": [
       "<IPython.core.display.HTML object>"
      ]
     },
     "metadata": {},
     "output_type": "display_data"
    },
    {
     "data": {
      "text/html": [
       "\n",
       "        <div id=\"fMBvppR5MMmeGkYwjhPZsK\"></div>\n",
       "        <script>netpixi.call('fMBvppR5MMmeGkYwjhPZsK', 'kMevSyjrf3B8vGoFZ2Jz4A', 'changeGraph', 'eyJpZCI6IDcyLCAidHlwZSI6ICJ2ZXJ0ZXgiLCAicHJvcHMiOiB7ImNvbG9yIjogMTY3MTE2ODB9fQo=');</script>\n",
       "    "
      ],
      "text/plain": [
       "<IPython.core.display.HTML object>"
      ]
     },
     "metadata": {},
     "output_type": "display_data"
    },
    {
     "data": {
      "text/html": [
       "\n",
       "        <div id=\"aqp2t5EHZPDP7vwMZjryq5\"></div>\n",
       "        <script>netpixi.call('aqp2t5EHZPDP7vwMZjryq5', 'kMevSyjrf3B8vGoFZ2Jz4A', 'changeGraph', 'eyJpZCI6IDI0OSwgInR5cGUiOiAidmVydGV4IiwgInByb3BzIjogeyJzaXplIjogMTUuODE1ODk5NTgxNTg5OTU3fX0K');</script>\n",
       "    "
      ],
      "text/plain": [
       "<IPython.core.display.HTML object>"
      ]
     },
     "metadata": {},
     "output_type": "display_data"
    },
    {
     "data": {
      "text/html": [
       "\n",
       "        <div id=\"i6JCGB5RF2nZKWCTGjF3ci\"></div>\n",
       "        <script>netpixi.call('i6JCGB5RF2nZKWCTGjF3ci', 'kMevSyjrf3B8vGoFZ2Jz4A', 'changeGraph', 'eyJpZCI6IDcxLCAidHlwZSI6ICJ2ZXJ0ZXgiLCAicHJvcHMiOiB7ImNvbG9yIjogMTY3MTE2ODB9fQo=');</script>\n",
       "    "
      ],
      "text/plain": [
       "<IPython.core.display.HTML object>"
      ]
     },
     "metadata": {},
     "output_type": "display_data"
    },
    {
     "data": {
      "text/html": [
       "\n",
       "        <div id=\"63eKsgjBFdMH62y2dNHgge\"></div>\n",
       "        <script>netpixi.call('63eKsgjBFdMH62y2dNHgge', 'kMevSyjrf3B8vGoFZ2Jz4A', 'changeGraph', 'eyJpZCI6IDI1MCwgInR5cGUiOiAidmVydGV4IiwgInByb3BzIjogeyJzaXplIjogMTYuOTAzNzY1NjkwMzc2NTY3fX0K');</script>\n",
       "    "
      ],
      "text/plain": [
       "<IPython.core.display.HTML object>"
      ]
     },
     "metadata": {},
     "output_type": "display_data"
    },
    {
     "data": {
      "text/html": [
       "\n",
       "        <div id=\"EUZ6teMVP8KKrrKAFRa5aR\"></div>\n",
       "        <script>netpixi.call('EUZ6teMVP8KKrrKAFRa5aR', 'kMevSyjrf3B8vGoFZ2Jz4A', 'changeGraph', 'eyJpZCI6IDgyLCAidHlwZSI6ICJ2ZXJ0ZXgiLCAicHJvcHMiOiB7ImNvbG9yIjogMTY3MTE2ODB9fQo=');</script>\n",
       "    "
      ],
      "text/plain": [
       "<IPython.core.display.HTML object>"
      ]
     },
     "metadata": {},
     "output_type": "display_data"
    },
    {
     "data": {
      "text/html": [
       "\n",
       "        <div id=\"BbHHMAqx36mtWgJDxfSuLw\"></div>\n",
       "        <script>netpixi.call('BbHHMAqx36mtWgJDxfSuLw', 'kMevSyjrf3B8vGoFZ2Jz4A', 'changeGraph', 'eyJpZCI6IDI1MSwgInR5cGUiOiAidmVydGV4IiwgInByb3BzIjogeyJzaXplIjogNDYuNX19Cg==');</script>\n",
       "    "
      ],
      "text/plain": [
       "<IPython.core.display.HTML object>"
      ]
     },
     "metadata": {},
     "output_type": "display_data"
    },
    {
     "data": {
      "text/html": [
       "\n",
       "        <div id=\"P5FkWkUPZfRex5bLA6Frrt\"></div>\n",
       "        <script>netpixi.call('P5FkWkUPZfRex5bLA6Frrt', 'kMevSyjrf3B8vGoFZ2Jz4A', 'changeGraph', 'eyJpZCI6IDc2LCAidHlwZSI6ICJ2ZXJ0ZXgiLCAicHJvcHMiOiB7ImNvbG9yIjogMTY3MTE2ODB9fQo=');</script>\n",
       "    "
      ],
      "text/plain": [
       "<IPython.core.display.HTML object>"
      ]
     },
     "metadata": {},
     "output_type": "display_data"
    },
    {
     "data": {
      "text/html": [
       "\n",
       "        <div id=\"mi8HNTwJyY4eoWStFF2g6N\"></div>\n",
       "        <script>netpixi.call('mi8HNTwJyY4eoWStFF2g6N', 'kMevSyjrf3B8vGoFZ2Jz4A', 'changeGraph', 'eyJpZCI6IDI1MiwgInR5cGUiOiAidmVydGV4IiwgInByb3BzIjogeyJzaXplIjogMjAuMH19Cg==');</script>\n",
       "    "
      ],
      "text/plain": [
       "<IPython.core.display.HTML object>"
      ]
     },
     "metadata": {},
     "output_type": "display_data"
    },
    {
     "data": {
      "text/html": [
       "\n",
       "        <div id=\"oVP6AEGu3fWtrayr6Gq5jw\"></div>\n",
       "        <script>netpixi.call('oVP6AEGu3fWtrayr6Gq5jw', 'kMevSyjrf3B8vGoFZ2Jz4A', 'changeGraph', 'eyJpZCI6IDcxLCAidHlwZSI6ICJ2ZXJ0ZXgiLCAicHJvcHMiOiB7ImNvbG9yIjogMTY3MTE2ODB9fQo=');</script>\n",
       "    "
      ],
      "text/plain": [
       "<IPython.core.display.HTML object>"
      ]
     },
     "metadata": {},
     "output_type": "display_data"
    },
    {
     "data": {
      "text/html": [
       "\n",
       "        <div id=\"Zj5xUeo7vMGHorTG5ie7JF\"></div>\n",
       "        <script>netpixi.call('Zj5xUeo7vMGHorTG5ie7JF', 'kMevSyjrf3B8vGoFZ2Jz4A', 'changeGraph', 'eyJpZCI6IDI1MywgInR5cGUiOiAidmVydGV4IiwgInByb3BzIjogeyJzaXplIjogMTEuNDIyNTk0MTQyMjU5NDEzfX0K');</script>\n",
       "    "
      ],
      "text/plain": [
       "<IPython.core.display.HTML object>"
      ]
     },
     "metadata": {},
     "output_type": "display_data"
    },
    {
     "data": {
      "text/html": [
       "\n",
       "        <div id=\"KyoXejNdyuUH77RFBKqK7u\"></div>\n",
       "        <script>netpixi.call('KyoXejNdyuUH77RFBKqK7u', 'kMevSyjrf3B8vGoFZ2Jz4A', 'changeGraph', 'eyJpZCI6IDc2LCAidHlwZSI6ICJ2ZXJ0ZXgiLCAicHJvcHMiOiB7ImNvbG9yIjogMTY3MTE2ODB9fQo=');</script>\n",
       "    "
      ],
      "text/plain": [
       "<IPython.core.display.HTML object>"
      ]
     },
     "metadata": {},
     "output_type": "display_data"
    },
    {
     "data": {
      "text/html": [
       "\n",
       "        <div id=\"Lf9F4PxcyPX997kyrv9eYX\"></div>\n",
       "        <script>netpixi.call('Lf9F4PxcyPX997kyrv9eYX', 'kMevSyjrf3B8vGoFZ2Jz4A', 'changeGraph', 'eyJpZCI6IDI1NCwgInR5cGUiOiAidmVydGV4IiwgInByb3BzIjogeyJzaXplIjogMTUuODU3NzQwNTg1Nzc0MDU4fX0K');</script>\n",
       "    "
      ],
      "text/plain": [
       "<IPython.core.display.HTML object>"
      ]
     },
     "metadata": {},
     "output_type": "display_data"
    },
    {
     "data": {
      "text/html": [
       "\n",
       "        <div id=\"2sWSzDwTiLAnK93yjvG6xP\"></div>\n",
       "        <script>netpixi.call('2sWSzDwTiLAnK93yjvG6xP', 'kMevSyjrf3B8vGoFZ2Jz4A', 'changeGraph', 'eyJpZCI6IDgxLCAidHlwZSI6ICJ2ZXJ0ZXgiLCAicHJvcHMiOiB7ImNvbG9yIjogMTY3MTE2ODB9fQo=');</script>\n",
       "    "
      ],
      "text/plain": [
       "<IPython.core.display.HTML object>"
      ]
     },
     "metadata": {},
     "output_type": "display_data"
    },
    {
     "data": {
      "text/html": [
       "\n",
       "        <div id=\"3gYckaW74Dq5UsR5E5Hf6M\"></div>\n",
       "        <script>netpixi.call('3gYckaW74Dq5UsR5E5Hf6M', 'kMevSyjrf3B8vGoFZ2Jz4A', 'changeGraph', 'eyJpZCI6IDI1NSwgInR5cGUiOiAidmVydGV4IiwgInByb3BzIjogeyJzaXplIjogMTMuMzQ3MjgwMzM0NzI4MDMzfX0K');</script>\n",
       "    "
      ],
      "text/plain": [
       "<IPython.core.display.HTML object>"
      ]
     },
     "metadata": {},
     "output_type": "display_data"
    },
    {
     "data": {
      "text/html": [
       "\n",
       "        <div id=\"DiGUexdBuwzSySvUtuTNVw\"></div>\n",
       "        <script>netpixi.call('DiGUexdBuwzSySvUtuTNVw', 'kMevSyjrf3B8vGoFZ2Jz4A', 'changeGraph', 'eyJpZCI6IDgyLCAidHlwZSI6ICJ2ZXJ0ZXgiLCAicHJvcHMiOiB7ImNvbG9yIjogMTY3MTE2ODB9fQo=');</script>\n",
       "    "
      ],
      "text/plain": [
       "<IPython.core.display.HTML object>"
      ]
     },
     "metadata": {},
     "output_type": "display_data"
    },
    {
     "data": {
      "text/html": [
       "\n",
       "        <div id=\"WidB7x2uHLQB6JmHvmYfHi\"></div>\n",
       "        <script>netpixi.call('WidB7x2uHLQB6JmHvmYfHi', 'kMevSyjrf3B8vGoFZ2Jz4A', 'changeGraph', 'eyJpZCI6IDI1NiwgInR5cGUiOiAidmVydGV4IiwgInByb3BzIjogeyJzaXplIjogMTEuMjU1MjMwMTI1NTIzMDEzfX0K');</script>\n",
       "    "
      ],
      "text/plain": [
       "<IPython.core.display.HTML object>"
      ]
     },
     "metadata": {},
     "output_type": "display_data"
    },
    {
     "data": {
      "text/html": [
       "\n",
       "        <div id=\"58ukhwpYQh7vDJrwK9kzkP\"></div>\n",
       "        <script>netpixi.call('58ukhwpYQh7vDJrwK9kzkP', 'kMevSyjrf3B8vGoFZ2Jz4A', 'changeGraph', 'eyJpZCI6IDc0LCAidHlwZSI6ICJ2ZXJ0ZXgiLCAicHJvcHMiOiB7ImNvbG9yIjogMTY3MTE2ODB9fQo=');</script>\n",
       "    "
      ],
      "text/plain": [
       "<IPython.core.display.HTML object>"
      ]
     },
     "metadata": {},
     "output_type": "display_data"
    },
    {
     "data": {
      "text/html": [
       "\n",
       "        <div id=\"4vxxjmWhf5QcnMEMikyTs2\"></div>\n",
       "        <script>netpixi.call('4vxxjmWhf5QcnMEMikyTs2', 'kMevSyjrf3B8vGoFZ2Jz4A', 'changeGraph', 'eyJpZCI6IDI1NywgInR5cGUiOiAidmVydGV4IiwgInByb3BzIjogeyJzaXplIjogMTkuNDk3OTA3OTQ5NzkwNzkzfX0K');</script>\n",
       "    "
      ],
      "text/plain": [
       "<IPython.core.display.HTML object>"
      ]
     },
     "metadata": {},
     "output_type": "display_data"
    },
    {
     "data": {
      "text/html": [
       "\n",
       "        <div id=\"e2oKcSNqJpKF8ovY9JCjyv\"></div>\n",
       "        <script>netpixi.call('e2oKcSNqJpKF8ovY9JCjyv', 'kMevSyjrf3B8vGoFZ2Jz4A', 'changeGraph', 'eyJpZCI6IDg4LCAidHlwZSI6ICJ2ZXJ0ZXgiLCAicHJvcHMiOiB7ImNvbG9yIjogMTY3MTE2ODB9fQo=');</script>\n",
       "    "
      ],
      "text/plain": [
       "<IPython.core.display.HTML object>"
      ]
     },
     "metadata": {},
     "output_type": "display_data"
    },
    {
     "data": {
      "text/html": [
       "\n",
       "        <div id=\"J83cbGkvhiShLw9iRLSuny\"></div>\n",
       "        <script>netpixi.call('J83cbGkvhiShLw9iRLSuny', 'kMevSyjrf3B8vGoFZ2Jz4A', 'changeGraph', 'eyJpZCI6IDI1OCwgInR5cGUiOiAidmVydGV4IiwgInByb3BzIjogeyJzaXplIjogNDYuMTY2NjY2NjY2NjY2NjY0fX0K');</script>\n",
       "    "
      ],
      "text/plain": [
       "<IPython.core.display.HTML object>"
      ]
     },
     "metadata": {},
     "output_type": "display_data"
    },
    {
     "data": {
      "text/html": [
       "\n",
       "        <div id=\"hq2MaekXFvXVjkA9DpVHmW\"></div>\n",
       "        <script>netpixi.call('hq2MaekXFvXVjkA9DpVHmW', 'kMevSyjrf3B8vGoFZ2Jz4A', 'changeGraph', 'eyJpZCI6IDc2LCAidHlwZSI6ICJ2ZXJ0ZXgiLCAicHJvcHMiOiB7ImNvbG9yIjogMTY3MTE2ODB9fQo=');</script>\n",
       "    "
      ],
      "text/plain": [
       "<IPython.core.display.HTML object>"
      ]
     },
     "metadata": {},
     "output_type": "display_data"
    },
    {
     "data": {
      "text/html": [
       "\n",
       "        <div id=\"MQo8Q82kpS5sdpcNFYtLy5\"></div>\n",
       "        <script>netpixi.call('MQo8Q82kpS5sdpcNFYtLy5', 'kMevSyjrf3B8vGoFZ2Jz4A', 'changeGraph', 'eyJpZCI6IDI1OSwgInR5cGUiOiAidmVydGV4IiwgInByb3BzIjogeyJzaXplIjogNDguNjY2NjY2NjY2NjY2NjY0fX0K');</script>\n",
       "    "
      ],
      "text/plain": [
       "<IPython.core.display.HTML object>"
      ]
     },
     "metadata": {},
     "output_type": "display_data"
    },
    {
     "data": {
      "text/html": [
       "\n",
       "        <div id=\"aUJS5rbGgueN3xA8A9Nyk7\"></div>\n",
       "        <script>netpixi.call('aUJS5rbGgueN3xA8A9Nyk7', 'kMevSyjrf3B8vGoFZ2Jz4A', 'changeGraph', 'eyJpZCI6IDc4LCAidHlwZSI6ICJ2ZXJ0ZXgiLCAicHJvcHMiOiB7ImNvbG9yIjogMTY3MTE2ODB9fQo=');</script>\n",
       "    "
      ],
      "text/plain": [
       "<IPython.core.display.HTML object>"
      ]
     },
     "metadata": {},
     "output_type": "display_data"
    },
    {
     "data": {
      "text/html": [
       "\n",
       "        <div id=\"mzyzJvHbmNwwY2FYXZHN9P\"></div>\n",
       "        <script>netpixi.call('mzyzJvHbmNwwY2FYXZHN9P', 'kMevSyjrf3B8vGoFZ2Jz4A', 'changeGraph', 'eyJpZCI6IDI2MCwgInR5cGUiOiAidmVydGV4IiwgInByb3BzIjogeyJzaXplIjogMTAuNzUzMTM4MDc1MzEzODA3fX0K');</script>\n",
       "    "
      ],
      "text/plain": [
       "<IPython.core.display.HTML object>"
      ]
     },
     "metadata": {},
     "output_type": "display_data"
    },
    {
     "data": {
      "text/html": [
       "\n",
       "        <div id=\"NDT6Y6BYXtmNDduH2GvhaM\"></div>\n",
       "        <script>netpixi.call('NDT6Y6BYXtmNDduH2GvhaM', 'kMevSyjrf3B8vGoFZ2Jz4A', 'changeGraph', 'eyJpZCI6IDczLCAidHlwZSI6ICJ2ZXJ0ZXgiLCAicHJvcHMiOiB7ImNvbG9yIjogMTY3MTE2ODB9fQo=');</script>\n",
       "    "
      ],
      "text/plain": [
       "<IPython.core.display.HTML object>"
      ]
     },
     "metadata": {},
     "output_type": "display_data"
    },
    {
     "data": {
      "text/html": [
       "\n",
       "        <div id=\"TNou24DCR4fF8GjZH5mkJy\"></div>\n",
       "        <script>netpixi.call('TNou24DCR4fF8GjZH5mkJy', 'kMevSyjrf3B8vGoFZ2Jz4A', 'changeGraph', 'eyJpZCI6IDI2MSwgInR5cGUiOiAidmVydGV4IiwgInByb3BzIjogeyJzaXplIjogMTYuNjEwODc4NjYxMDg3ODY3fX0K');</script>\n",
       "    "
      ],
      "text/plain": [
       "<IPython.core.display.HTML object>"
      ]
     },
     "metadata": {},
     "output_type": "display_data"
    },
    {
     "data": {
      "text/html": [
       "\n",
       "        <div id=\"JRxMANcGxhNjZivPhdxMd7\"></div>\n",
       "        <script>netpixi.call('JRxMANcGxhNjZivPhdxMd7', 'kMevSyjrf3B8vGoFZ2Jz4A', 'changeGraph', 'eyJpZCI6IDgxLCAidHlwZSI6ICJ2ZXJ0ZXgiLCAicHJvcHMiOiB7ImNvbG9yIjogMTY3MTE2ODB9fQo=');</script>\n",
       "    "
      ],
      "text/plain": [
       "<IPython.core.display.HTML object>"
      ]
     },
     "metadata": {},
     "output_type": "display_data"
    },
    {
     "data": {
      "text/html": [
       "\n",
       "        <div id=\"H72jHu6dsx4GTsgyoJuBss\"></div>\n",
       "        <script>netpixi.call('H72jHu6dsx4GTsgyoJuBss', 'kMevSyjrf3B8vGoFZ2Jz4A', 'changeGraph', 'eyJpZCI6IDI2MiwgInR5cGUiOiAidmVydGV4IiwgInByb3BzIjogeyJzaXplIjogNDUuODMzMzMzMzMzMzMzMzM2fX0K');</script>\n",
       "    "
      ],
      "text/plain": [
       "<IPython.core.display.HTML object>"
      ]
     },
     "metadata": {},
     "output_type": "display_data"
    },
    {
     "data": {
      "text/html": [
       "\n",
       "        <div id=\"TG3QtDQAzj6k95uMpLSbH6\"></div>\n",
       "        <script>netpixi.call('TG3QtDQAzj6k95uMpLSbH6', 'kMevSyjrf3B8vGoFZ2Jz4A', 'changeGraph', 'eyJpZCI6IDc2LCAidHlwZSI6ICJ2ZXJ0ZXgiLCAicHJvcHMiOiB7ImNvbG9yIjogMTY3MTE2ODB9fQo=');</script>\n",
       "    "
      ],
      "text/plain": [
       "<IPython.core.display.HTML object>"
      ]
     },
     "metadata": {},
     "output_type": "display_data"
    },
    {
     "data": {
      "text/html": [
       "\n",
       "        <div id=\"Wrx2PMM7Me7xLJpZkyvrSU\"></div>\n",
       "        <script>netpixi.call('Wrx2PMM7Me7xLJpZkyvrSU', 'kMevSyjrf3B8vGoFZ2Jz4A', 'changeGraph', 'eyJpZCI6IDI2MywgInR5cGUiOiAidmVydGV4IiwgInByb3BzIjogeyJzaXplIjogNDguODMzMzMzMzMzMzMzMzM2fX0K');</script>\n",
       "    "
      ],
      "text/plain": [
       "<IPython.core.display.HTML object>"
      ]
     },
     "metadata": {},
     "output_type": "display_data"
    },
    {
     "data": {
      "text/html": [
       "\n",
       "        <div id=\"MVELme5tUcSRuCoGhU7XFk\"></div>\n",
       "        <script>netpixi.call('MVELme5tUcSRuCoGhU7XFk', 'kMevSyjrf3B8vGoFZ2Jz4A', 'changeGraph', 'eyJpZCI6IDgwLCAidHlwZSI6ICJ2ZXJ0ZXgiLCAicHJvcHMiOiB7ImNvbG9yIjogMTY3MTE2ODB9fQo=');</script>\n",
       "    "
      ],
      "text/plain": [
       "<IPython.core.display.HTML object>"
      ]
     },
     "metadata": {},
     "output_type": "display_data"
    },
    {
     "data": {
      "text/html": [
       "\n",
       "        <div id=\"23pYVMfdaZ42J7EjJmzg5j\"></div>\n",
       "        <script>netpixi.call('23pYVMfdaZ42J7EjJmzg5j', 'kMevSyjrf3B8vGoFZ2Jz4A', 'changeGraph', 'eyJpZCI6IDI2NCwgInR5cGUiOiAidmVydGV4IiwgInByb3BzIjogeyJzaXplIjogMTcuOTQ5NzkwNzk0OTc5MDh9fQo=');</script>\n",
       "    "
      ],
      "text/plain": [
       "<IPython.core.display.HTML object>"
      ]
     },
     "metadata": {},
     "output_type": "display_data"
    },
    {
     "data": {
      "text/html": [
       "\n",
       "        <div id=\"byks2gZziA575RhTQi4g6d\"></div>\n",
       "        <script>netpixi.call('byks2gZziA575RhTQi4g6d', 'kMevSyjrf3B8vGoFZ2Jz4A', 'changeGraph', 'eyJpZCI6IDYxLCAidHlwZSI6ICJ2ZXJ0ZXgiLCAicHJvcHMiOiB7ImNvbG9yIjogMTY3MTE2ODB9fQo=');</script>\n",
       "    "
      ],
      "text/plain": [
       "<IPython.core.display.HTML object>"
      ]
     },
     "metadata": {},
     "output_type": "display_data"
    },
    {
     "data": {
      "text/html": [
       "\n",
       "        <div id=\"kESWoSrsJWJPjktxCbksgA\"></div>\n",
       "        <script>netpixi.call('kESWoSrsJWJPjktxCbksgA', 'kMevSyjrf3B8vGoFZ2Jz4A', 'changeGraph', 'eyJpZCI6IDI2NSwgInR5cGUiOiAidmVydGV4IiwgInByb3BzIjogeyJzaXplIjogNDkuNjY2NjY2NjY2NjY2Njd9fQo=');</script>\n",
       "    "
      ],
      "text/plain": [
       "<IPython.core.display.HTML object>"
      ]
     },
     "metadata": {},
     "output_type": "display_data"
    },
    {
     "data": {
      "text/html": [
       "\n",
       "        <div id=\"JDKFuxKbQNpdtQydeC7Ajx\"></div>\n",
       "        <script>netpixi.call('JDKFuxKbQNpdtQydeC7Ajx', 'kMevSyjrf3B8vGoFZ2Jz4A', 'changeGraph', 'eyJpZCI6IDcyLCAidHlwZSI6ICJ2ZXJ0ZXgiLCAicHJvcHMiOiB7ImNvbG9yIjogMTY3MTE2ODB9fQo=');</script>\n",
       "    "
      ],
      "text/plain": [
       "<IPython.core.display.HTML object>"
      ]
     },
     "metadata": {},
     "output_type": "display_data"
    },
    {
     "data": {
      "text/html": [
       "\n",
       "        <div id=\"YpEM8pHV4q5FkTwGNHNJQc\"></div>\n",
       "        <script>netpixi.call('YpEM8pHV4q5FkTwGNHNJQc', 'kMevSyjrf3B8vGoFZ2Jz4A', 'changeGraph', 'eyJpZCI6IDI2NiwgInR5cGUiOiAidmVydGV4IiwgInByb3BzIjogeyJzaXplIjogMTUuNzc0MDU4NTc3NDA1ODU3fX0K');</script>\n",
       "    "
      ],
      "text/plain": [
       "<IPython.core.display.HTML object>"
      ]
     },
     "metadata": {},
     "output_type": "display_data"
    },
    {
     "data": {
      "text/html": [
       "\n",
       "        <div id=\"hKYs6YfW22j8uMJeVrQtqF\"></div>\n",
       "        <script>netpixi.call('hKYs6YfW22j8uMJeVrQtqF', 'kMevSyjrf3B8vGoFZ2Jz4A', 'changeGraph', 'eyJpZCI6IDczLCAidHlwZSI6ICJ2ZXJ0ZXgiLCAicHJvcHMiOiB7ImNvbG9yIjogMTY3MTE2ODB9fQo=');</script>\n",
       "    "
      ],
      "text/plain": [
       "<IPython.core.display.HTML object>"
      ]
     },
     "metadata": {},
     "output_type": "display_data"
    },
    {
     "data": {
      "text/html": [
       "\n",
       "        <div id=\"U6JXXFoi9SRqEt4LvxJTk5\"></div>\n",
       "        <script>netpixi.call('U6JXXFoi9SRqEt4LvxJTk5', 'kMevSyjrf3B8vGoFZ2Jz4A', 'changeGraph', 'eyJpZCI6IDI2NywgInR5cGUiOiAidmVydGV4IiwgInByb3BzIjogeyJzaXplIjogMTAuMH19Cg==');</script>\n",
       "    "
      ],
      "text/plain": [
       "<IPython.core.display.HTML object>"
      ]
     },
     "metadata": {},
     "output_type": "display_data"
    },
    {
     "data": {
      "text/html": [
       "\n",
       "        <div id=\"RiVswpBT6vLAC4kkFM4fkH\"></div>\n",
       "        <script>netpixi.call('RiVswpBT6vLAC4kkFM4fkH', 'kMevSyjrf3B8vGoFZ2Jz4A', 'changeGraph', 'eyJpZCI6IDY2LCAidHlwZSI6ICJ2ZXJ0ZXgiLCAicHJvcHMiOiB7ImNvbG9yIjogMTY3MTE2ODB9fQo=');</script>\n",
       "    "
      ],
      "text/plain": [
       "<IPython.core.display.HTML object>"
      ]
     },
     "metadata": {},
     "output_type": "display_data"
    },
    {
     "data": {
      "text/html": [
       "\n",
       "        <div id=\"gzkczemvMqVmXrRE8VPoHY\"></div>\n",
       "        <script>netpixi.call('gzkczemvMqVmXrRE8VPoHY', 'kMevSyjrf3B8vGoFZ2Jz4A', 'changeGraph', 'eyJpZCI6IDI2OCwgInR5cGUiOiAidmVydGV4IiwgInByb3BzIjogeyJzaXplIjogMTIuMjU5NDE0MjI1OTQxNDIzfX0K');</script>\n",
       "    "
      ],
      "text/plain": [
       "<IPython.core.display.HTML object>"
      ]
     },
     "metadata": {},
     "output_type": "display_data"
    },
    {
     "data": {
      "text/html": [
       "\n",
       "        <div id=\"XvJpsbLnTGCNALUcXrPoqS\"></div>\n",
       "        <script>netpixi.call('XvJpsbLnTGCNALUcXrPoqS', 'kMevSyjrf3B8vGoFZ2Jz4A', 'changeGraph', 'eyJpZCI6IDgxLCAidHlwZSI6ICJ2ZXJ0ZXgiLCAicHJvcHMiOiB7ImNvbG9yIjogMTY3MTE2ODB9fQo=');</script>\n",
       "    "
      ],
      "text/plain": [
       "<IPython.core.display.HTML object>"
      ]
     },
     "metadata": {},
     "output_type": "display_data"
    },
    {
     "data": {
      "text/html": [
       "\n",
       "        <div id=\"8AYiaNx34YGCWC23yQ2S8V\"></div>\n",
       "        <script>netpixi.call('8AYiaNx34YGCWC23yQ2S8V', 'kMevSyjrf3B8vGoFZ2Jz4A', 'changeGraph', 'eyJpZCI6IDI2OSwgInR5cGUiOiAidmVydGV4IiwgInByb3BzIjogeyJzaXplIjogMTQuMjY3NzgyNDI2Nzc4MjQzfX0K');</script>\n",
       "    "
      ],
      "text/plain": [
       "<IPython.core.display.HTML object>"
      ]
     },
     "metadata": {},
     "output_type": "display_data"
    },
    {
     "data": {
      "text/html": [
       "\n",
       "        <div id=\"9poDNRgpHUUkxCq2rcY2pR\"></div>\n",
       "        <script>netpixi.call('9poDNRgpHUUkxCq2rcY2pR', 'kMevSyjrf3B8vGoFZ2Jz4A', 'changeGraph', 'eyJpZCI6IDgyLCAidHlwZSI6ICJ2ZXJ0ZXgiLCAicHJvcHMiOiB7ImNvbG9yIjogMTY3MTE2ODB9fQo=');</script>\n",
       "    "
      ],
      "text/plain": [
       "<IPython.core.display.HTML object>"
      ]
     },
     "metadata": {},
     "output_type": "display_data"
    },
    {
     "data": {
      "text/html": [
       "\n",
       "        <div id=\"4XKPvKvFJmSdog7b4P6y6p\"></div>\n",
       "        <script>netpixi.call('4XKPvKvFJmSdog7b4P6y6p', 'kMevSyjrf3B8vGoFZ2Jz4A', 'changeGraph', 'eyJpZCI6IDI3MCwgInR5cGUiOiAidmVydGV4IiwgInByb3BzIjogeyJzaXplIjogMTkuOTE2MzE3OTkxNjMxOH19Cg==');</script>\n",
       "    "
      ],
      "text/plain": [
       "<IPython.core.display.HTML object>"
      ]
     },
     "metadata": {},
     "output_type": "display_data"
    },
    {
     "data": {
      "text/html": [
       "\n",
       "        <div id=\"AT2XoBuJfR5ggvGt4UwEQj\"></div>\n",
       "        <script>netpixi.call('AT2XoBuJfR5ggvGt4UwEQj', 'kMevSyjrf3B8vGoFZ2Jz4A', 'changeGraph', 'eyJpZCI6IDcxLCAidHlwZSI6ICJ2ZXJ0ZXgiLCAicHJvcHMiOiB7ImNvbG9yIjogMTY3MTE2ODB9fQo=');</script>\n",
       "    "
      ],
      "text/plain": [
       "<IPython.core.display.HTML object>"
      ]
     },
     "metadata": {},
     "output_type": "display_data"
    },
    {
     "data": {
      "text/html": [
       "\n",
       "        <div id=\"aHpuqqLrj5idzZ7ow4PrkY\"></div>\n",
       "        <script>netpixi.call('aHpuqqLrj5idzZ7ow4PrkY', 'kMevSyjrf3B8vGoFZ2Jz4A', 'changeGraph', 'eyJpZCI6IDI3MSwgInR5cGUiOiAidmVydGV4IiwgInByb3BzIjogeyJzaXplIjogMTMuNTE0NjQ0MzUxNDY0NDM1fX0K');</script>\n",
       "    "
      ],
      "text/plain": [
       "<IPython.core.display.HTML object>"
      ]
     },
     "metadata": {},
     "output_type": "display_data"
    },
    {
     "data": {
      "text/html": [
       "\n",
       "        <div id=\"3iBiFcUUFYRXpm5iT5Kwau\"></div>\n",
       "        <script>netpixi.call('3iBiFcUUFYRXpm5iT5Kwau', 'kMevSyjrf3B8vGoFZ2Jz4A', 'changeGraph', 'eyJpZCI6IDgxLCAidHlwZSI6ICJ2ZXJ0ZXgiLCAicHJvcHMiOiB7ImNvbG9yIjogMTY3MTE2ODB9fQo=');</script>\n",
       "    "
      ],
      "text/plain": [
       "<IPython.core.display.HTML object>"
      ]
     },
     "metadata": {},
     "output_type": "display_data"
    },
    {
     "data": {
      "text/html": [
       "\n",
       "        <div id=\"FQqrTSVmJnFHtrgPXzeozR\"></div>\n",
       "        <script>netpixi.call('FQqrTSVmJnFHtrgPXzeozR', 'kMevSyjrf3B8vGoFZ2Jz4A', 'changeGraph', 'eyJpZCI6IDI3MiwgInR5cGUiOiAidmVydGV4IiwgInByb3BzIjogeyJzaXplIjogMTQuMDU4NTc3NDA1ODU3NzR9fQo=');</script>\n",
       "    "
      ],
      "text/plain": [
       "<IPython.core.display.HTML object>"
      ]
     },
     "metadata": {},
     "output_type": "display_data"
    },
    {
     "data": {
      "text/html": [
       "\n",
       "        <div id=\"CjvdwcEbucdMNHzaxtaSkm\"></div>\n",
       "        <script>netpixi.call('CjvdwcEbucdMNHzaxtaSkm', 'kMevSyjrf3B8vGoFZ2Jz4A', 'changeGraph', 'eyJpZCI6IDg3LCAidHlwZSI6ICJ2ZXJ0ZXgiLCAicHJvcHMiOiB7ImNvbG9yIjogMTY3MTE2ODB9fQo=');</script>\n",
       "    "
      ],
      "text/plain": [
       "<IPython.core.display.HTML object>"
      ]
     },
     "metadata": {},
     "output_type": "display_data"
    },
    {
     "data": {
      "text/html": [
       "\n",
       "        <div id=\"SkxNzHrktBsYYtep2rPHEx\"></div>\n",
       "        <script>netpixi.call('SkxNzHrktBsYYtep2rPHEx', 'kMevSyjrf3B8vGoFZ2Jz4A', 'changeGraph', 'eyJpZCI6IDI3MywgInR5cGUiOiAidmVydGV4IiwgInByb3BzIjogeyJzaXplIjogMTEuMDQ2MDI1MTA0NjAyNTF9fQo=');</script>\n",
       "    "
      ],
      "text/plain": [
       "<IPython.core.display.HTML object>"
      ]
     },
     "metadata": {},
     "output_type": "display_data"
    },
    {
     "data": {
      "text/html": [
       "\n",
       "        <div id=\"4TsenzKV2qxJSR22mHmB6f\"></div>\n",
       "        <script>netpixi.call('4TsenzKV2qxJSR22mHmB6f', 'kMevSyjrf3B8vGoFZ2Jz4A', 'changeGraph', 'eyJpZCI6IDc2LCAidHlwZSI6ICJ2ZXJ0ZXgiLCAicHJvcHMiOiB7ImNvbG9yIjogMTY3MTE2ODB9fQo=');</script>\n",
       "    "
      ],
      "text/plain": [
       "<IPython.core.display.HTML object>"
      ]
     },
     "metadata": {},
     "output_type": "display_data"
    },
    {
     "data": {
      "text/html": [
       "\n",
       "        <div id=\"8RTacs3hPhfp3MXy6ZHqsi\"></div>\n",
       "        <script>netpixi.call('8RTacs3hPhfp3MXy6ZHqsi', 'kMevSyjrf3B8vGoFZ2Jz4A', 'changeGraph', 'eyJpZCI6IDI3NCwgInR5cGUiOiAidmVydGV4IiwgInByb3BzIjogeyJzaXplIjogMTkuMjQ2ODYxOTI0Njg2MTkzfX0K');</script>\n",
       "    "
      ],
      "text/plain": [
       "<IPython.core.display.HTML object>"
      ]
     },
     "metadata": {},
     "output_type": "display_data"
    },
    {
     "data": {
      "text/html": [
       "\n",
       "        <div id=\"o8t7XY49cK8ysqBFJMoGHP\"></div>\n",
       "        <script>netpixi.call('o8t7XY49cK8ysqBFJMoGHP', 'kMevSyjrf3B8vGoFZ2Jz4A', 'changeGraph', 'eyJpZCI6IDgzLCAidHlwZSI6ICJ2ZXJ0ZXgiLCAicHJvcHMiOiB7ImNvbG9yIjogMTY3MTE2ODB9fQo=');</script>\n",
       "    "
      ],
      "text/plain": [
       "<IPython.core.display.HTML object>"
      ]
     },
     "metadata": {},
     "output_type": "display_data"
    },
    {
     "data": {
      "text/html": [
       "\n",
       "        <div id=\"BVsBrivSN6ybtJkHCLKMbF\"></div>\n",
       "        <script>netpixi.call('BVsBrivSN6ybtJkHCLKMbF', 'kMevSyjrf3B8vGoFZ2Jz4A', 'changeGraph', 'eyJpZCI6IDI3NSwgInR5cGUiOiAidmVydGV4IiwgInByb3BzIjogeyJzaXplIjogMTIuMDA4MzY4MjAwODM2ODJ9fQo=');</script>\n",
       "    "
      ],
      "text/plain": [
       "<IPython.core.display.HTML object>"
      ]
     },
     "metadata": {},
     "output_type": "display_data"
    },
    {
     "data": {
      "text/html": [
       "\n",
       "        <div id=\"SHEUbiF2vM43zXH47GdkUc\"></div>\n",
       "        <script>netpixi.call('SHEUbiF2vM43zXH47GdkUc', 'kMevSyjrf3B8vGoFZ2Jz4A', 'changeGraph', 'eyJpZCI6IDcyLCAidHlwZSI6ICJ2ZXJ0ZXgiLCAicHJvcHMiOiB7ImNvbG9yIjogMTY3MTE2ODB9fQo=');</script>\n",
       "    "
      ],
      "text/plain": [
       "<IPython.core.display.HTML object>"
      ]
     },
     "metadata": {},
     "output_type": "display_data"
    },
    {
     "data": {
      "text/html": [
       "\n",
       "        <div id=\"aQTwZymGmroGrRu5LV4mEJ\"></div>\n",
       "        <script>netpixi.call('aQTwZymGmroGrRu5LV4mEJ', 'kMevSyjrf3B8vGoFZ2Jz4A', 'changeGraph', 'eyJpZCI6IDI3NiwgInR5cGUiOiAidmVydGV4IiwgInByb3BzIjogeyJzaXplIjogMTIuMzg0OTM3MjM4NDkzNzIzfX0K');</script>\n",
       "    "
      ],
      "text/plain": [
       "<IPython.core.display.HTML object>"
      ]
     },
     "metadata": {},
     "output_type": "display_data"
    },
    {
     "data": {
      "text/html": [
       "\n",
       "        <div id=\"6KrDnwKaN8C6J6uAcNnino\"></div>\n",
       "        <script>netpixi.call('6KrDnwKaN8C6J6uAcNnino', 'kMevSyjrf3B8vGoFZ2Jz4A', 'changeGraph', 'eyJpZCI6IDc1LCAidHlwZSI6ICJ2ZXJ0ZXgiLCAicHJvcHMiOiB7ImNvbG9yIjogMTY3MTE2ODB9fQo=');</script>\n",
       "    "
      ],
      "text/plain": [
       "<IPython.core.display.HTML object>"
      ]
     },
     "metadata": {},
     "output_type": "display_data"
    },
    {
     "data": {
      "text/html": [
       "\n",
       "        <div id=\"HMmUwGPEVKmUgtdD7Hb33C\"></div>\n",
       "        <script>netpixi.call('HMmUwGPEVKmUgtdD7Hb33C', 'kMevSyjrf3B8vGoFZ2Jz4A', 'changeGraph', 'eyJpZCI6IDI3NywgInR5cGUiOiAidmVydGV4IiwgInByb3BzIjogeyJzaXplIjogMTUuMzk3NDg5NTM5NzQ4OTUzfX0K');</script>\n",
       "    "
      ],
      "text/plain": [
       "<IPython.core.display.HTML object>"
      ]
     },
     "metadata": {},
     "output_type": "display_data"
    },
    {
     "data": {
      "text/html": [
       "\n",
       "        <div id=\"Yxbi3pkeajU6bNLdMUDCTj\"></div>\n",
       "        <script>netpixi.call('Yxbi3pkeajU6bNLdMUDCTj', 'kMevSyjrf3B8vGoFZ2Jz4A', 'changeGraph', 'eyJpZCI6IDgwLCAidHlwZSI6ICJ2ZXJ0ZXgiLCAicHJvcHMiOiB7ImNvbG9yIjogMTY3MTE2ODB9fQo=');</script>\n",
       "    "
      ],
      "text/plain": [
       "<IPython.core.display.HTML object>"
      ]
     },
     "metadata": {},
     "output_type": "display_data"
    },
    {
     "data": {
      "text/html": [
       "\n",
       "        <div id=\"44DNGHeAi4Qo9BPr6bHWHi\"></div>\n",
       "        <script>netpixi.call('44DNGHeAi4Qo9BPr6bHWHi', 'kMevSyjrf3B8vGoFZ2Jz4A', 'changeGraph', 'eyJpZCI6IDI3OCwgInR5cGUiOiAidmVydGV4IiwgInByb3BzIjogeyJzaXplIjogMTEuMTI5NzA3MTEyOTcwNzEyfX0K');</script>\n",
       "    "
      ],
      "text/plain": [
       "<IPython.core.display.HTML object>"
      ]
     },
     "metadata": {},
     "output_type": "display_data"
    },
    {
     "data": {
      "text/html": [
       "\n",
       "        <div id=\"DYB5e4uC6QGPDB9AxgqLUW\"></div>\n",
       "        <script>netpixi.call('DYB5e4uC6QGPDB9AxgqLUW', 'kMevSyjrf3B8vGoFZ2Jz4A', 'changeGraph', 'eyJpZCI6IDYyLCAidHlwZSI6ICJ2ZXJ0ZXgiLCAicHJvcHMiOiB7ImNvbG9yIjogMTY3MTE2ODB9fQo=');</script>\n",
       "    "
      ],
      "text/plain": [
       "<IPython.core.display.HTML object>"
      ]
     },
     "metadata": {},
     "output_type": "display_data"
    },
    {
     "data": {
      "text/html": [
       "\n",
       "        <div id=\"oT7kHiQomZuRQRte8D6UyB\"></div>\n",
       "        <script>netpixi.call('oT7kHiQomZuRQRte8D6UyB', 'kMevSyjrf3B8vGoFZ2Jz4A', 'changeGraph', 'eyJpZCI6IDI3OSwgInR5cGUiOiAidmVydGV4IiwgInByb3BzIjogeyJzaXplIjogMTkuMTIxMzM4OTEyMTMzODl9fQo=');</script>\n",
       "    "
      ],
      "text/plain": [
       "<IPython.core.display.HTML object>"
      ]
     },
     "metadata": {},
     "output_type": "display_data"
    },
    {
     "data": {
      "text/html": [
       "\n",
       "        <div id=\"99k7AZJh6xdfYRZwy8p6vs\"></div>\n",
       "        <script>netpixi.call('99k7AZJh6xdfYRZwy8p6vs', 'kMevSyjrf3B8vGoFZ2Jz4A', 'changeGraph', 'eyJpZCI6IDczLCAidHlwZSI6ICJ2ZXJ0ZXgiLCAicHJvcHMiOiB7ImNvbG9yIjogMTY3MTE2ODB9fQo=');</script>\n",
       "    "
      ],
      "text/plain": [
       "<IPython.core.display.HTML object>"
      ]
     },
     "metadata": {},
     "output_type": "display_data"
    },
    {
     "data": {
      "text/html": [
       "\n",
       "        <div id=\"f9WqjL5HE6vatu2mw8ffjf\"></div>\n",
       "        <script>netpixi.call('f9WqjL5HE6vatu2mw8ffjf', 'kMevSyjrf3B8vGoFZ2Jz4A', 'changeGraph', 'eyJpZCI6IDI4MCwgInR5cGUiOiAidmVydGV4IiwgInByb3BzIjogeyJzaXplIjogMTguNDUxODgyODQ1MTg4MjgzfX0K');</script>\n",
       "    "
      ],
      "text/plain": [
       "<IPython.core.display.HTML object>"
      ]
     },
     "metadata": {},
     "output_type": "display_data"
    },
    {
     "data": {
      "text/html": [
       "\n",
       "        <div id=\"A629mBKRmRNyYvjSmN6yhj\"></div>\n",
       "        <script>netpixi.call('A629mBKRmRNyYvjSmN6yhj', 'kMevSyjrf3B8vGoFZ2Jz4A', 'changeGraph', 'eyJpZCI6IDc4LCAidHlwZSI6ICJ2ZXJ0ZXgiLCAicHJvcHMiOiB7ImNvbG9yIjogMTY3MTE2ODB9fQo=');</script>\n",
       "    "
      ],
      "text/plain": [
       "<IPython.core.display.HTML object>"
      ]
     },
     "metadata": {},
     "output_type": "display_data"
    },
    {
     "data": {
      "text/html": [
       "\n",
       "        <div id=\"L8wWVZ7eEc4WBgoZqELr7D\"></div>\n",
       "        <script>netpixi.call('L8wWVZ7eEc4WBgoZqELr7D', 'kMevSyjrf3B8vGoFZ2Jz4A', 'changeGraph', 'eyJpZCI6IDI4MSwgInR5cGUiOiAidmVydGV4IiwgInByb3BzIjogeyJzaXplIjogMTAuNDYwMjUxMDQ2MDI1MTA1fX0K');</script>\n",
       "    "
      ],
      "text/plain": [
       "<IPython.core.display.HTML object>"
      ]
     },
     "metadata": {},
     "output_type": "display_data"
    },
    {
     "data": {
      "text/html": [
       "\n",
       "        <div id=\"mVb3Kfwn8ePaZAgjkMgCDs\"></div>\n",
       "        <script>netpixi.call('mVb3Kfwn8ePaZAgjkMgCDs', 'kMevSyjrf3B8vGoFZ2Jz4A', 'changeGraph', 'eyJpZCI6IDY3LCAidHlwZSI6ICJ2ZXJ0ZXgiLCAicHJvcHMiOiB7ImNvbG9yIjogMTY3MTE2ODB9fQo=');</script>\n",
       "    "
      ],
      "text/plain": [
       "<IPython.core.display.HTML object>"
      ]
     },
     "metadata": {},
     "output_type": "display_data"
    },
    {
     "data": {
      "text/html": [
       "\n",
       "        <div id=\"9MTDEaETvMQJSTH9eWhGUa\"></div>\n",
       "        <script>netpixi.call('9MTDEaETvMQJSTH9eWhGUa', 'kMevSyjrf3B8vGoFZ2Jz4A', 'changeGraph', 'eyJpZCI6IDI4MiwgInR5cGUiOiAidmVydGV4IiwgInByb3BzIjogeyJzaXplIjogMTguNjE5MjQ2ODYxOTI0Njg3fX0K');</script>\n",
       "    "
      ],
      "text/plain": [
       "<IPython.core.display.HTML object>"
      ]
     },
     "metadata": {},
     "output_type": "display_data"
    },
    {
     "data": {
      "text/html": [
       "\n",
       "        <div id=\"Bd6H4pc5jUDD7qCehfa4KF\"></div>\n",
       "        <script>netpixi.call('Bd6H4pc5jUDD7qCehfa4KF', 'kMevSyjrf3B8vGoFZ2Jz4A', 'changeGraph', 'eyJpZCI6IDkzLCAidHlwZSI6ICJ2ZXJ0ZXgiLCAicHJvcHMiOiB7ImNvbG9yIjogMTY3MTE2ODB9fQo=');</script>\n",
       "    "
      ],
      "text/plain": [
       "<IPython.core.display.HTML object>"
      ]
     },
     "metadata": {},
     "output_type": "display_data"
    },
    {
     "data": {
      "text/html": [
       "\n",
       "        <div id=\"6vqXP8VU8gzcKN4LnjuqkA\"></div>\n",
       "        <script>netpixi.call('6vqXP8VU8gzcKN4LnjuqkA', 'kMevSyjrf3B8vGoFZ2Jz4A', 'changeGraph', 'eyJpZCI6IDI4MywgInR5cGUiOiAidmVydGV4IiwgInByb3BzIjogeyJzaXplIjogMTMuMTc5OTE2MzE3OTkxNjMyfX0K');</script>\n",
       "    "
      ],
      "text/plain": [
       "<IPython.core.display.HTML object>"
      ]
     },
     "metadata": {},
     "output_type": "display_data"
    },
    {
     "data": {
      "text/html": [
       "\n",
       "        <div id=\"hitDXeDZh3yTCE5hoEqmHt\"></div>\n",
       "        <script>netpixi.call('hitDXeDZh3yTCE5hoEqmHt', 'kMevSyjrf3B8vGoFZ2Jz4A', 'changeGraph', 'eyJpZCI6IDY3LCAidHlwZSI6ICJ2ZXJ0ZXgiLCAicHJvcHMiOiB7ImNvbG9yIjogMTY3MTE2ODB9fQo=');</script>\n",
       "    "
      ],
      "text/plain": [
       "<IPython.core.display.HTML object>"
      ]
     },
     "metadata": {},
     "output_type": "display_data"
    },
    {
     "data": {
      "text/html": [
       "\n",
       "        <div id=\"2ZfRNwjbkGTnB93nBn5XPx\"></div>\n",
       "        <script>netpixi.call('2ZfRNwjbkGTnB93nBn5XPx', 'kMevSyjrf3B8vGoFZ2Jz4A', 'changeGraph', 'eyJpZCI6IDI4NCwgInR5cGUiOiAidmVydGV4IiwgInByb3BzIjogeyJzaXplIjogMTQuODUzNTU2NDg1MzU1NjQ4fX0K');</script>\n",
       "    "
      ],
      "text/plain": [
       "<IPython.core.display.HTML object>"
      ]
     },
     "metadata": {},
     "output_type": "display_data"
    },
    {
     "data": {
      "text/html": [
       "\n",
       "        <div id=\"ivJwem3zY8EDoXCWcWP2SY\"></div>\n",
       "        <script>netpixi.call('ivJwem3zY8EDoXCWcWP2SY', 'kMevSyjrf3B8vGoFZ2Jz4A', 'changeGraph', 'eyJpZCI6IDgwLCAidHlwZSI6ICJ2ZXJ0ZXgiLCAicHJvcHMiOiB7ImNvbG9yIjogMTY3MTE2ODB9fQo=');</script>\n",
       "    "
      ],
      "text/plain": [
       "<IPython.core.display.HTML object>"
      ]
     },
     "metadata": {},
     "output_type": "display_data"
    },
    {
     "data": {
      "text/html": [
       "\n",
       "        <div id=\"hY6ZuABeVnEF3aVfSZg97v\"></div>\n",
       "        <script>netpixi.call('hY6ZuABeVnEF3aVfSZg97v', 'kMevSyjrf3B8vGoFZ2Jz4A', 'changeGraph', 'eyJpZCI6IDI4NSwgInR5cGUiOiAidmVydGV4IiwgInByb3BzIjogeyJzaXplIjogMTEuMjEzMzg5MTIxMzM4OTEyfX0K');</script>\n",
       "    "
      ],
      "text/plain": [
       "<IPython.core.display.HTML object>"
      ]
     },
     "metadata": {},
     "output_type": "display_data"
    },
    {
     "data": {
      "text/html": [
       "\n",
       "        <div id=\"UtgwZbH8wdKdUr5pct76vk\"></div>\n",
       "        <script>netpixi.call('UtgwZbH8wdKdUr5pct76vk', 'kMevSyjrf3B8vGoFZ2Jz4A', 'changeGraph', 'eyJpZCI6IDg0LCAidHlwZSI6ICJ2ZXJ0ZXgiLCAicHJvcHMiOiB7ImNvbG9yIjogMTY3MTE2ODB9fQo=');</script>\n",
       "    "
      ],
      "text/plain": [
       "<IPython.core.display.HTML object>"
      ]
     },
     "metadata": {},
     "output_type": "display_data"
    },
    {
     "data": {
      "text/html": [
       "\n",
       "        <div id=\"9h57UZE4j44ueF9Xh4fu3G\"></div>\n",
       "        <script>netpixi.call('9h57UZE4j44ueF9Xh4fu3G', 'kMevSyjrf3B8vGoFZ2Jz4A', 'changeGraph', 'eyJpZCI6IDI4NiwgInR5cGUiOiAidmVydGV4IiwgInByb3BzIjogeyJzaXplIjogMTYuNjk0NTYwNjY5NDU2MDY3fX0K');</script>\n",
       "    "
      ],
      "text/plain": [
       "<IPython.core.display.HTML object>"
      ]
     },
     "metadata": {},
     "output_type": "display_data"
    },
    {
     "data": {
      "text/html": [
       "\n",
       "        <div id=\"A36A2qBxNmNHjQEjvsrPnc\"></div>\n",
       "        <script>netpixi.call('A36A2qBxNmNHjQEjvsrPnc', 'kMevSyjrf3B8vGoFZ2Jz4A', 'changeGraph', 'eyJpZCI6IDkwLCAidHlwZSI6ICJ2ZXJ0ZXgiLCAicHJvcHMiOiB7ImNvbG9yIjogMTY3MTE2ODB9fQo=');</script>\n",
       "    "
      ],
      "text/plain": [
       "<IPython.core.display.HTML object>"
      ]
     },
     "metadata": {},
     "output_type": "display_data"
    },
    {
     "data": {
      "text/html": [
       "\n",
       "        <div id=\"nNSsA3sS37t4FNpHSLJFiX\"></div>\n",
       "        <script>netpixi.call('nNSsA3sS37t4FNpHSLJFiX', 'kMevSyjrf3B8vGoFZ2Jz4A', 'changeGraph', 'eyJpZCI6IDI4NywgInR5cGUiOiAidmVydGV4IiwgInByb3BzIjogeyJzaXplIjogMTEuOTI0Njg2MTkyNDY4NjE4fX0K');</script>\n",
       "    "
      ],
      "text/plain": [
       "<IPython.core.display.HTML object>"
      ]
     },
     "metadata": {},
     "output_type": "display_data"
    },
    {
     "data": {
      "text/html": [
       "\n",
       "        <div id=\"7d35GjmVSmpksDZnRrrwi4\"></div>\n",
       "        <script>netpixi.call('7d35GjmVSmpksDZnRrrwi4', 'kMevSyjrf3B8vGoFZ2Jz4A', 'changeGraph', 'eyJpZCI6IDY2LCAidHlwZSI6ICJ2ZXJ0ZXgiLCAicHJvcHMiOiB7ImNvbG9yIjogMTY3MTE2ODB9fQo=');</script>\n",
       "    "
      ],
      "text/plain": [
       "<IPython.core.display.HTML object>"
      ]
     },
     "metadata": {},
     "output_type": "display_data"
    },
    {
     "data": {
      "text/html": [
       "\n",
       "        <div id=\"KhWDCN4YCdEZchc3JcFbGC\"></div>\n",
       "        <script>netpixi.call('KhWDCN4YCdEZchc3JcFbGC', 'kMevSyjrf3B8vGoFZ2Jz4A', 'changeGraph', 'eyJpZCI6IDI4OCwgInR5cGUiOiAidmVydGV4IiwgInByb3BzIjogeyJzaXplIjogMTAuMDgzNjgyMDA4MzY4Mn19Cg==');</script>\n",
       "    "
      ],
      "text/plain": [
       "<IPython.core.display.HTML object>"
      ]
     },
     "metadata": {},
     "output_type": "display_data"
    },
    {
     "data": {
      "text/html": [
       "\n",
       "        <div id=\"DGubvoshh5cYcKqsED4ZGw\"></div>\n",
       "        <script>netpixi.call('DGubvoshh5cYcKqsED4ZGw', 'kMevSyjrf3B8vGoFZ2Jz4A', 'changeGraph', 'eyJpZCI6IDgwLCAidHlwZSI6ICJ2ZXJ0ZXgiLCAicHJvcHMiOiB7ImNvbG9yIjogMTY3MTE2ODB9fQo=');</script>\n",
       "    "
      ],
      "text/plain": [
       "<IPython.core.display.HTML object>"
      ]
     },
     "metadata": {},
     "output_type": "display_data"
    },
    {
     "data": {
      "text/html": [
       "\n",
       "        <div id=\"fy4r5RRu8hfi3ZDQvTH8y4\"></div>\n",
       "        <script>netpixi.call('fy4r5RRu8hfi3ZDQvTH8y4', 'kMevSyjrf3B8vGoFZ2Jz4A', 'changeGraph', 'eyJpZCI6IDI4OSwgInR5cGUiOiAidmVydGV4IiwgInByb3BzIjogeyJzaXplIjogNDIuMTY2NjY2NjY2NjY2Njd9fQo=');</script>\n",
       "    "
      ],
      "text/plain": [
       "<IPython.core.display.HTML object>"
      ]
     },
     "metadata": {},
     "output_type": "display_data"
    },
    {
     "data": {
      "text/html": [
       "\n",
       "        <div id=\"bBz6SZM9BaS7v8R3bur6ax\"></div>\n",
       "        <script>netpixi.call('bBz6SZM9BaS7v8R3bur6ax', 'kMevSyjrf3B8vGoFZ2Jz4A', 'changeGraph', 'eyJpZCI6IDgzLCAidHlwZSI6ICJ2ZXJ0ZXgiLCAicHJvcHMiOiB7ImNvbG9yIjogMTY3MTE2ODB9fQo=');</script>\n",
       "    "
      ],
      "text/plain": [
       "<IPython.core.display.HTML object>"
      ]
     },
     "metadata": {},
     "output_type": "display_data"
    },
    {
     "data": {
      "text/html": [
       "\n",
       "        <div id=\"R8V987w7EA4t7WYNXSCbYu\"></div>\n",
       "        <script>netpixi.call('R8V987w7EA4t7WYNXSCbYu', 'kMevSyjrf3B8vGoFZ2Jz4A', 'changeGraph', 'eyJpZCI6IDI5MCwgInR5cGUiOiAidmVydGV4IiwgInByb3BzIjogeyJzaXplIjogMTUuMzEzODA3NTMxMzgwNzUzfX0K');</script>\n",
       "    "
      ],
      "text/plain": [
       "<IPython.core.display.HTML object>"
      ]
     },
     "metadata": {},
     "output_type": "display_data"
    },
    {
     "data": {
      "text/html": [
       "\n",
       "        <div id=\"LRscRqR3DjybqV2RuCietv\"></div>\n",
       "        <script>netpixi.call('LRscRqR3DjybqV2RuCietv', 'kMevSyjrf3B8vGoFZ2Jz4A', 'changeGraph', 'eyJpZCI6IDcxLCAidHlwZSI6ICJ2ZXJ0ZXgiLCAicHJvcHMiOiB7ImNvbG9yIjogMTY3MTE2ODB9fQo=');</script>\n",
       "    "
      ],
      "text/plain": [
       "<IPython.core.display.HTML object>"
      ]
     },
     "metadata": {},
     "output_type": "display_data"
    },
    {
     "data": {
      "text/html": [
       "\n",
       "        <div id=\"WecbzaVnR3wp7XxvdonEYG\"></div>\n",
       "        <script>netpixi.call('WecbzaVnR3wp7XxvdonEYG', 'kMevSyjrf3B8vGoFZ2Jz4A', 'changeGraph', 'eyJpZCI6IDI5MSwgInR5cGUiOiAidmVydGV4IiwgInByb3BzIjogeyJzaXplIjogMTcuNzgyNDI2Nzc4MjQyNjc3fX0K');</script>\n",
       "    "
      ],
      "text/plain": [
       "<IPython.core.display.HTML object>"
      ]
     },
     "metadata": {},
     "output_type": "display_data"
    },
    {
     "data": {
      "text/html": [
       "\n",
       "        <div id=\"7dumLZv57XgWNUysnkNiuW\"></div>\n",
       "        <script>netpixi.call('7dumLZv57XgWNUysnkNiuW', 'kMevSyjrf3B8vGoFZ2Jz4A', 'changeGraph', 'eyJpZCI6IDc5LCAidHlwZSI6ICJ2ZXJ0ZXgiLCAicHJvcHMiOiB7ImNvbG9yIjogMTY3MTE2ODB9fQo=');</script>\n",
       "    "
      ],
      "text/plain": [
       "<IPython.core.display.HTML object>"
      ]
     },
     "metadata": {},
     "output_type": "display_data"
    },
    {
     "data": {
      "text/html": [
       "\n",
       "        <div id=\"Dk27ZSgTXro5jpZdCyZr4k\"></div>\n",
       "        <script>netpixi.call('Dk27ZSgTXro5jpZdCyZr4k', 'kMevSyjrf3B8vGoFZ2Jz4A', 'changeGraph', 'eyJpZCI6IDI5MiwgInR5cGUiOiAidmVydGV4IiwgInByb3BzIjogeyJzaXplIjogMTUuNjQ4NTM1NTY0ODUzNTU3fX0K');</script>\n",
       "    "
      ],
      "text/plain": [
       "<IPython.core.display.HTML object>"
      ]
     },
     "metadata": {},
     "output_type": "display_data"
    },
    {
     "data": {
      "text/html": [
       "\n",
       "        <div id=\"f39qQyjBtM67MceLVyapkA\"></div>\n",
       "        <script>netpixi.call('f39qQyjBtM67MceLVyapkA', 'kMevSyjrf3B8vGoFZ2Jz4A', 'changeGraph', 'eyJpZCI6IDk3LCAidHlwZSI6ICJ2ZXJ0ZXgiLCAicHJvcHMiOiB7ImNvbG9yIjogMTY3MTE2ODB9fQo=');</script>\n",
       "    "
      ],
      "text/plain": [
       "<IPython.core.display.HTML object>"
      ]
     },
     "metadata": {},
     "output_type": "display_data"
    },
    {
     "data": {
      "text/html": [
       "\n",
       "        <div id=\"MQYWEUGGc5VznhTydx5nut\"></div>\n",
       "        <script>netpixi.call('MQYWEUGGc5VznhTydx5nut', 'kMevSyjrf3B8vGoFZ2Jz4A', 'changeGraph', 'eyJpZCI6IDI5MywgInR5cGUiOiAidmVydGV4IiwgInByb3BzIjogeyJzaXplIjogMTcuNDg5NTM5NzQ4OTUzOTczfX0K');</script>\n",
       "    "
      ],
      "text/plain": [
       "<IPython.core.display.HTML object>"
      ]
     },
     "metadata": {},
     "output_type": "display_data"
    },
    {
     "data": {
      "text/html": [
       "\n",
       "        <div id=\"Ski4LZXnM2Fq7jy4HJu5mY\"></div>\n",
       "        <script>netpixi.call('Ski4LZXnM2Fq7jy4HJu5mY', 'kMevSyjrf3B8vGoFZ2Jz4A', 'changeGraph', 'eyJpZCI6IDg4LCAidHlwZSI6ICJ2ZXJ0ZXgiLCAicHJvcHMiOiB7ImNvbG9yIjogMTY3MTE2ODB9fQo=');</script>\n",
       "    "
      ],
      "text/plain": [
       "<IPython.core.display.HTML object>"
      ]
     },
     "metadata": {},
     "output_type": "display_data"
    },
    {
     "data": {
      "text/html": [
       "\n",
       "        <div id=\"436DYMLzPRnJSuYAgeFxdS\"></div>\n",
       "        <script>netpixi.call('436DYMLzPRnJSuYAgeFxdS', 'kMevSyjrf3B8vGoFZ2Jz4A', 'changeGraph', 'eyJpZCI6IDI5NCwgInR5cGUiOiAidmVydGV4IiwgInByb3BzIjogeyJzaXplIjogMTMuNjgyMDA4MzY4MjAwODM3fX0K');</script>\n",
       "    "
      ],
      "text/plain": [
       "<IPython.core.display.HTML object>"
      ]
     },
     "metadata": {},
     "output_type": "display_data"
    },
    {
     "data": {
      "text/html": [
       "\n",
       "        <div id=\"iqdfuLxQ65iivdoVp9TxDb\"></div>\n",
       "        <script>netpixi.call('iqdfuLxQ65iivdoVp9TxDb', 'kMevSyjrf3B8vGoFZ2Jz4A', 'changeGraph', 'eyJpZCI6IDc2LCAidHlwZSI6ICJ2ZXJ0ZXgiLCAicHJvcHMiOiB7ImNvbG9yIjogMTY3MTE2ODB9fQo=');</script>\n",
       "    "
      ],
      "text/plain": [
       "<IPython.core.display.HTML object>"
      ]
     },
     "metadata": {},
     "output_type": "display_data"
    },
    {
     "data": {
      "text/html": [
       "\n",
       "        <div id=\"L8P2htzJxjPbWjMkXmrkwt\"></div>\n",
       "        <script>netpixi.call('L8P2htzJxjPbWjMkXmrkwt', 'kMevSyjrf3B8vGoFZ2Jz4A', 'changeGraph', 'eyJpZCI6IDI5NSwgInR5cGUiOiAidmVydGV4IiwgInByb3BzIjogeyJzaXplIjogMTQuMzUxNDY0NDM1MTQ2NDQzfX0K');</script>\n",
       "    "
      ],
      "text/plain": [
       "<IPython.core.display.HTML object>"
      ]
     },
     "metadata": {},
     "output_type": "display_data"
    },
    {
     "data": {
      "text/html": [
       "\n",
       "        <div id=\"BmpK7msHW2Xqa29kAWP8fv\"></div>\n",
       "        <script>netpixi.call('BmpK7msHW2Xqa29kAWP8fv', 'kMevSyjrf3B8vGoFZ2Jz4A', 'changeGraph', 'eyJpZCI6IDc4LCAidHlwZSI6ICJ2ZXJ0ZXgiLCAicHJvcHMiOiB7ImNvbG9yIjogMTY3MTE2ODB9fQo=');</script>\n",
       "    "
      ],
      "text/plain": [
       "<IPython.core.display.HTML object>"
      ]
     },
     "metadata": {},
     "output_type": "display_data"
    },
    {
     "data": {
      "text/html": [
       "\n",
       "        <div id=\"aJNUkygAwyrogBTashncrg\"></div>\n",
       "        <script>netpixi.call('aJNUkygAwyrogBTashncrg', 'kMevSyjrf3B8vGoFZ2Jz4A', 'changeGraph', 'eyJpZCI6IDI5NiwgInR5cGUiOiAidmVydGV4IiwgInByb3BzIjogeyJzaXplIjogMTkuMDc5NDk3OTA3OTQ5Nzl9fQo=');</script>\n",
       "    "
      ],
      "text/plain": [
       "<IPython.core.display.HTML object>"
      ]
     },
     "metadata": {},
     "output_type": "display_data"
    },
    {
     "data": {
      "text/html": [
       "\n",
       "        <div id=\"ci8azYjJi9H8pMechAGcv6\"></div>\n",
       "        <script>netpixi.call('ci8azYjJi9H8pMechAGcv6', 'kMevSyjrf3B8vGoFZ2Jz4A', 'changeGraph', 'eyJpZCI6IDgyLCAidHlwZSI6ICJ2ZXJ0ZXgiLCAicHJvcHMiOiB7ImNvbG9yIjogMTY3MTE2ODB9fQo=');</script>\n",
       "    "
      ],
      "text/plain": [
       "<IPython.core.display.HTML object>"
      ]
     },
     "metadata": {},
     "output_type": "display_data"
    },
    {
     "data": {
      "text/html": [
       "\n",
       "        <div id=\"Roqi3afxmKUs88bdhK7xQY\"></div>\n",
       "        <script>netpixi.call('Roqi3afxmKUs88bdhK7xQY', 'kMevSyjrf3B8vGoFZ2Jz4A', 'changeGraph', 'eyJpZCI6IDI5NywgInR5cGUiOiAidmVydGV4IiwgInByb3BzIjogeyJzaXplIjogMTIuNzE5NjY1MjcxOTY2NTI3fX0K');</script>\n",
       "    "
      ],
      "text/plain": [
       "<IPython.core.display.HTML object>"
      ]
     },
     "metadata": {},
     "output_type": "display_data"
    },
    {
     "data": {
      "text/html": [
       "\n",
       "        <div id=\"i5hqaarzujHWJ8aESbN9yV\"></div>\n",
       "        <script>netpixi.call('i5hqaarzujHWJ8aESbN9yV', 'kMevSyjrf3B8vGoFZ2Jz4A', 'changeGraph', 'eyJpZCI6IDkzLCAidHlwZSI6ICJ2ZXJ0ZXgiLCAicHJvcHMiOiB7ImNvbG9yIjogMTY3MTE2ODB9fQo=');</script>\n",
       "    "
      ],
      "text/plain": [
       "<IPython.core.display.HTML object>"
      ]
     },
     "metadata": {},
     "output_type": "display_data"
    },
    {
     "data": {
      "text/html": [
       "\n",
       "        <div id=\"aWAQSmnierytTNJuCRmArF\"></div>\n",
       "        <script>netpixi.call('aWAQSmnierytTNJuCRmArF', 'kMevSyjrf3B8vGoFZ2Jz4A', 'changeGraph', 'eyJpZCI6IDI5OCwgInR5cGUiOiAidmVydGV4IiwgInByb3BzIjogeyJzaXplIjogMTMuNzY1NjkwMzc2NTY5MDM3fX0K');</script>\n",
       "    "
      ],
      "text/plain": [
       "<IPython.core.display.HTML object>"
      ]
     },
     "metadata": {},
     "output_type": "display_data"
    },
    {
     "data": {
      "text/html": [
       "\n",
       "        <div id=\"E62jHqTiiPW832L64q3JvS\"></div>\n",
       "        <script>netpixi.call('E62jHqTiiPW832L64q3JvS', 'kMevSyjrf3B8vGoFZ2Jz4A', 'changeGraph', 'eyJpZCI6IDgxLCAidHlwZSI6ICJ2ZXJ0ZXgiLCAicHJvcHMiOiB7ImNvbG9yIjogMTY3MTE2ODB9fQo=');</script>\n",
       "    "
      ],
      "text/plain": [
       "<IPython.core.display.HTML object>"
      ]
     },
     "metadata": {},
     "output_type": "display_data"
    }
   ],
   "source": [
    "lista_int_coreness = []\n",
    "lista_float_coreness = []\n",
    "\n",
    "# Adiciona propriedades ao nó\n",
    "g.add_vp('core')\n",
    "g.add_vp('coreness')\n",
    "\n",
    "# ---- Funções ----\n",
    "\n",
    "def surprise():\n",
    "    matrix = spectral.adjacency(g)\n",
    "    algorithm = cpnet.Surprise()\n",
    "    algorithm.detect(matrix)\n",
    "    return algorithm.get_coreness()\n",
    "\n",
    "def rombach():\n",
    "    matrix = spectral.adjacency(g)\n",
    "    algorithm = cpnet.Rombach()\n",
    "    algorithm.detect(matrix)\n",
    "    return algorithm.get_coreness()\n",
    "\n",
    "# ---- Roda Algorítimo ----\n",
    "c_core = surprise()\n",
    "c_coreness = rombach()\n",
    "\n",
    "\n",
    "for i, coreness in c_core.items():\n",
    "    v = g.get_vertex_by_index(i)\n",
    "    v['core'] = int(coreness)\n",
    "    lista_int_coreness.append(int(coreness))\n",
    "df_nodes['core'] = lista_int_coreness\n",
    "\n",
    "for i, coreness in c_coreness.items():\n",
    "    v = g.get_vertex_by_index(i)\n",
    "    v['coreness'] = float(coreness)\n",
    "    lista_float_coreness.append(float(coreness))\n",
    "df_nodes['coreness'] = lista_float_coreness\n",
    "\n",
    "\n",
    "# ---- Modifica cor ----\n",
    "for v in g.all_vertices():\n",
    "    if v['core'] == 1:\n",
    "        r.vertex(v['id'], color=0xff0000)\n",
    "    else:\n",
    "        r.vertex(v['id'], color=0x00ff00)\n",
    "        \n",
    "# ---- Modifica tamanho ----\n",
    "\n",
    "for v in g.all_vertices():\n",
    "    r.vertex(v['id'], size=(10 + 40 * v['coreness']))\n",
    "    r.vertex(v['Metacritic score'], color=0xff0000)    "
   ]
  },
  {
   "cell_type": "markdown",
   "metadata": {},
   "source": [
    "### Regressão Linear\n",
    "\n",
    "-------"
   ]
  },
  {
   "cell_type": "code",
   "execution_count": 62,
   "metadata": {},
   "outputs": [
    {
     "data": {
      "text/html": [
       "<div>\n",
       "<style scoped>\n",
       "    .dataframe tbody tr th:only-of-type {\n",
       "        vertical-align: middle;\n",
       "    }\n",
       "\n",
       "    .dataframe tbody tr th {\n",
       "        vertical-align: top;\n",
       "    }\n",
       "\n",
       "    .dataframe thead th {\n",
       "        text-align: right;\n",
       "    }\n",
       "</style>\n",
       "<table border=\"1\" class=\"dataframe\">\n",
       "  <thead>\n",
       "    <tr style=\"text-align: right;\">\n",
       "      <th></th>\n",
       "      <th>id</th>\n",
       "      <th>Tags</th>\n",
       "      <th>MetacriticScore</th>\n",
       "      <th>core</th>\n",
       "      <th>coreness</th>\n",
       "    </tr>\n",
       "  </thead>\n",
       "  <tbody>\n",
       "    <tr>\n",
       "      <th>0</th>\n",
       "      <td>0</td>\n",
       "      <td>[Rhythm, VR, Multiplayer, Music, Racing, PvP, ...</td>\n",
       "      <td>87</td>\n",
       "      <td>0</td>\n",
       "      <td>0.114017</td>\n",
       "    </tr>\n",
       "    <tr>\n",
       "      <th>1</th>\n",
       "      <td>1</td>\n",
       "      <td>[Management, Simulation, Anime, Sexual Content...</td>\n",
       "      <td>73</td>\n",
       "      <td>0</td>\n",
       "      <td>0.061715</td>\n",
       "    </tr>\n",
       "    <tr>\n",
       "      <th>2</th>\n",
       "      <td>2</td>\n",
       "      <td>[Casual, Simulation, Strategy, Indie, Manageme...</td>\n",
       "      <td>87</td>\n",
       "      <td>0</td>\n",
       "      <td>0.080544</td>\n",
       "    </tr>\n",
       "    <tr>\n",
       "      <th>3</th>\n",
       "      <td>3</td>\n",
       "      <td>[Puzzle, Difficult, Indie, Singleplayer, Sokob...</td>\n",
       "      <td>76</td>\n",
       "      <td>0</td>\n",
       "      <td>0.091004</td>\n",
       "    </tr>\n",
       "    <tr>\n",
       "      <th>4</th>\n",
       "      <td>4</td>\n",
       "      <td>[RPG, Choices Matter, Story Rich, Detective, T...</td>\n",
       "      <td>67</td>\n",
       "      <td>1</td>\n",
       "      <td>0.754167</td>\n",
       "    </tr>\n",
       "    <tr>\n",
       "      <th>...</th>\n",
       "      <td>...</td>\n",
       "      <td>...</td>\n",
       "      <td>...</td>\n",
       "      <td>...</td>\n",
       "      <td>...</td>\n",
       "    </tr>\n",
       "    <tr>\n",
       "      <th>294</th>\n",
       "      <td>294</td>\n",
       "      <td>[Strategy, Post-apocalyptic, Survival, Colony ...</td>\n",
       "      <td>76</td>\n",
       "      <td>0</td>\n",
       "      <td>0.092050</td>\n",
       "    </tr>\n",
       "    <tr>\n",
       "      <th>295</th>\n",
       "      <td>295</td>\n",
       "      <td>[Atmospheric, Resource Management, Simulation,...</td>\n",
       "      <td>78</td>\n",
       "      <td>0</td>\n",
       "      <td>0.108787</td>\n",
       "    </tr>\n",
       "    <tr>\n",
       "      <th>296</th>\n",
       "      <td>296</td>\n",
       "      <td>[Metroidvania, Female Protagonist, Shoot 'Em U...</td>\n",
       "      <td>82</td>\n",
       "      <td>1</td>\n",
       "      <td>0.226987</td>\n",
       "    </tr>\n",
       "    <tr>\n",
       "      <th>297</th>\n",
       "      <td>297</td>\n",
       "      <td>[Colony Sim, Indie, Pixel Graphics, Simulation...</td>\n",
       "      <td>93</td>\n",
       "      <td>0</td>\n",
       "      <td>0.067992</td>\n",
       "    </tr>\n",
       "    <tr>\n",
       "      <th>298</th>\n",
       "      <td>298</td>\n",
       "      <td>[Indie, Rhythm, Action, Hand-drawn, Colorful, ...</td>\n",
       "      <td>81</td>\n",
       "      <td>0</td>\n",
       "      <td>0.094142</td>\n",
       "    </tr>\n",
       "  </tbody>\n",
       "</table>\n",
       "<p>299 rows × 5 columns</p>\n",
       "</div>"
      ],
      "text/plain": [
       "      id                                               Tags  MetacriticScore  \\\n",
       "0      0  [Rhythm, VR, Multiplayer, Music, Racing, PvP, ...               87   \n",
       "1      1  [Management, Simulation, Anime, Sexual Content...               73   \n",
       "2      2  [Casual, Simulation, Strategy, Indie, Manageme...               87   \n",
       "3      3  [Puzzle, Difficult, Indie, Singleplayer, Sokob...               76   \n",
       "4      4  [RPG, Choices Matter, Story Rich, Detective, T...               67   \n",
       "..   ...                                                ...              ...   \n",
       "294  294  [Strategy, Post-apocalyptic, Survival, Colony ...               76   \n",
       "295  295  [Atmospheric, Resource Management, Simulation,...               78   \n",
       "296  296  [Metroidvania, Female Protagonist, Shoot 'Em U...               82   \n",
       "297  297  [Colony Sim, Indie, Pixel Graphics, Simulation...               93   \n",
       "298  298  [Indie, Rhythm, Action, Hand-drawn, Colorful, ...               81   \n",
       "\n",
       "     core  coreness  \n",
       "0       0  0.114017  \n",
       "1       0  0.061715  \n",
       "2       0  0.080544  \n",
       "3       0  0.091004  \n",
       "4       1  0.754167  \n",
       "..    ...       ...  \n",
       "294     0  0.092050  \n",
       "295     0  0.108787  \n",
       "296     1  0.226987  \n",
       "297     0  0.067992  \n",
       "298     0  0.094142  \n",
       "\n",
       "[299 rows x 5 columns]"
      ]
     },
     "execution_count": 62,
     "metadata": {},
     "output_type": "execute_result"
    }
   ],
   "source": [
    "# Rename Metacritc Score name\n",
    "df_nodes.rename(columns = {'Metacritic score':'MetacriticScore'}, inplace = True)\n",
    "df_nodes.rename(columns = {'Total revenue':'TotalRevenue'}, inplace = True)\n",
    "\n",
    "df_nodes"
   ]
  },
  {
   "cell_type": "code",
   "execution_count": 59,
   "metadata": {},
   "outputs": [
    {
     "data": {
      "image/png": "[encoded data removed]",
      "text/plain": [
       "<Figure size 640x480 with 1 Axes>"
      ]
     },
     "metadata": {},
     "output_type": "display_data"
    }
   ],
   "source": [
    "sns.scatterplot(x=df_nodes['coreness'], y=df_nodes['MetacriticScore']);"
   ]
  },
  {
   "cell_type": "code",
   "execution_count": 60,
   "metadata": {},
   "outputs": [
    {
     "data": {
      "image/png": "[encoded data removed]",
      "text/plain": [
       "<Figure size 640x480 with 1 Axes>"
      ]
     },
     "metadata": {},
     "output_type": "display_data"
    }
   ],
   "source": [
    "sns.regplot(x=df_nodes['coreness'], y=df_nodes['MetacriticScore']);"
   ]
  },
  {
   "cell_type": "code",
   "execution_count": 61,
   "metadata": {},
   "outputs": [
    {
     "ename": "PatsyError",
     "evalue": "Error evaluating factor: NameError: name 'TotalRevenue' is not defined\n    MetacriticScore ~ coreness + ReleaseYear + TotalRevenue\n                                               ^^^^^^^^^^^^",
     "output_type": "error",
     "traceback": [
      "\u001b[0;31m---------------------------------------------------------------------------\u001b[0m",
      "\u001b[0;31mNameError\u001b[0m                                 Traceback (most recent call last)",
      "File \u001b[0;32m/usr/local/lib/python3.10/site-packages/patsy/compat.py:36\u001b[0m, in \u001b[0;36mcall_and_wrap_exc\u001b[0;34m(msg, origin, f, *args, **kwargs)\u001b[0m\n\u001b[1;32m     35\u001b[0m \u001b[38;5;28;01mtry\u001b[39;00m:\n\u001b[0;32m---> 36\u001b[0m     \u001b[38;5;28;01mreturn\u001b[39;00m \u001b[43mf\u001b[49m\u001b[43m(\u001b[49m\u001b[38;5;241;43m*\u001b[39;49m\u001b[43margs\u001b[49m\u001b[43m,\u001b[49m\u001b[43m \u001b[49m\u001b[38;5;241;43m*\u001b[39;49m\u001b[38;5;241;43m*\u001b[39;49m\u001b[43mkwargs\u001b[49m\u001b[43m)\u001b[49m\n\u001b[1;32m     37\u001b[0m \u001b[38;5;28;01mexcept\u001b[39;00m \u001b[38;5;167;01mException\u001b[39;00m \u001b[38;5;28;01mas\u001b[39;00m e:\n",
      "File \u001b[0;32m/usr/local/lib/python3.10/site-packages/patsy/eval.py:169\u001b[0m, in \u001b[0;36mEvalEnvironment.eval\u001b[0;34m(self, expr, source_name, inner_namespace)\u001b[0m\n\u001b[1;32m    168\u001b[0m code \u001b[38;5;241m=\u001b[39m \u001b[38;5;28mcompile\u001b[39m(expr, source_name, \u001b[38;5;124m\"\u001b[39m\u001b[38;5;124meval\u001b[39m\u001b[38;5;124m\"\u001b[39m, \u001b[38;5;28mself\u001b[39m\u001b[38;5;241m.\u001b[39mflags, \u001b[38;5;28;01mFalse\u001b[39;00m)\n\u001b[0;32m--> 169\u001b[0m \u001b[38;5;28;01mreturn\u001b[39;00m \u001b[38;5;28;43meval\u001b[39;49m\u001b[43m(\u001b[49m\u001b[43mcode\u001b[49m\u001b[43m,\u001b[49m\u001b[43m \u001b[49m\u001b[43m{\u001b[49m\u001b[43m}\u001b[49m\u001b[43m,\u001b[49m\u001b[43m \u001b[49m\u001b[43mVarLookupDict\u001b[49m\u001b[43m(\u001b[49m\u001b[43m[\u001b[49m\u001b[43minner_namespace\u001b[49m\u001b[43m]\u001b[49m\n\u001b[1;32m    170\u001b[0m \u001b[43m                                    \u001b[49m\u001b[38;5;241;43m+\u001b[39;49m\u001b[43m \u001b[49m\u001b[38;5;28;43mself\u001b[39;49m\u001b[38;5;241;43m.\u001b[39;49m\u001b[43m_namespaces\u001b[49m\u001b[43m)\u001b[49m\u001b[43m)\u001b[49m\n",
      "File \u001b[0;32m<string>:1\u001b[0m\n",
      "\u001b[0;31mNameError\u001b[0m: name 'TotalRevenue' is not defined",
      "\nThe above exception was the direct cause of the following exception:\n",
      "\u001b[0;31mPatsyError\u001b[0m                                Traceback (most recent call last)",
      "Cell \u001b[0;32mIn[61], line 1\u001b[0m\n\u001b[0;32m----> 1\u001b[0m result \u001b[38;5;241m=\u001b[39m \u001b[43mreg\u001b[49m\u001b[38;5;241;43m.\u001b[39;49m\u001b[43mlinear\u001b[49m\u001b[43m(\u001b[49m\u001b[43mdata\u001b[49m\u001b[38;5;241;43m=\u001b[39;49m\u001b[43mdf_nodes\u001b[49m\u001b[43m,\u001b[49m\u001b[43m \u001b[49m\u001b[43mformula\u001b[49m\u001b[38;5;241;43m=\u001b[39;49m\u001b[38;5;124;43m\"\u001b[39;49m\u001b[38;5;124;43m MetacriticScore ~ coreness + ReleaseYear + TotalRevenue\u001b[39;49m\u001b[38;5;124;43m\"\u001b[39;49m\u001b[43m)\u001b[49m\n",
      "File \u001b[0;32m/home/packages/regression/__init__.py:10\u001b[0m, in \u001b[0;36mlinear\u001b[0;34m(**kwargs)\u001b[0m\n\u001b[1;32m      9\u001b[0m \u001b[38;5;28;01mdef\u001b[39;00m \u001b[38;5;21mlinear\u001b[39m(\u001b[38;5;241m*\u001b[39m\u001b[38;5;241m*\u001b[39mkwargs):\n\u001b[0;32m---> 10\u001b[0m     model \u001b[38;5;241m=\u001b[39m \u001b[43msmf\u001b[49m\u001b[38;5;241;43m.\u001b[39;49m\u001b[43mols\u001b[49m\u001b[43m(\u001b[49m\u001b[38;5;241;43m*\u001b[39;49m\u001b[38;5;241;43m*\u001b[39;49m\u001b[43mkwargs\u001b[49m\u001b[43m)\u001b[49m\n\u001b[1;32m     11\u001b[0m     results \u001b[38;5;241m=\u001b[39m model\u001b[38;5;241m.\u001b[39mfit()\n\u001b[1;32m     12\u001b[0m     \u001b[38;5;28;01mreturn\u001b[39;00m LinearProxy(results)\n",
      "File \u001b[0;32m/usr/local/lib/python3.10/site-packages/statsmodels/base/model.py:200\u001b[0m, in \u001b[0;36mModel.from_formula\u001b[0;34m(cls, formula, data, subset, drop_cols, *args, **kwargs)\u001b[0m\n\u001b[1;32m    197\u001b[0m \u001b[38;5;28;01mif\u001b[39;00m missing \u001b[38;5;241m==\u001b[39m \u001b[38;5;124m'\u001b[39m\u001b[38;5;124mnone\u001b[39m\u001b[38;5;124m'\u001b[39m:  \u001b[38;5;66;03m# with patsy it's drop or raise. let's raise.\u001b[39;00m\n\u001b[1;32m    198\u001b[0m     missing \u001b[38;5;241m=\u001b[39m \u001b[38;5;124m'\u001b[39m\u001b[38;5;124mraise\u001b[39m\u001b[38;5;124m'\u001b[39m\n\u001b[0;32m--> 200\u001b[0m tmp \u001b[38;5;241m=\u001b[39m \u001b[43mhandle_formula_data\u001b[49m\u001b[43m(\u001b[49m\u001b[43mdata\u001b[49m\u001b[43m,\u001b[49m\u001b[43m \u001b[49m\u001b[38;5;28;43;01mNone\u001b[39;49;00m\u001b[43m,\u001b[49m\u001b[43m \u001b[49m\u001b[43mformula\u001b[49m\u001b[43m,\u001b[49m\u001b[43m \u001b[49m\u001b[43mdepth\u001b[49m\u001b[38;5;241;43m=\u001b[39;49m\u001b[43meval_env\u001b[49m\u001b[43m,\u001b[49m\n\u001b[1;32m    201\u001b[0m \u001b[43m                          \u001b[49m\u001b[43mmissing\u001b[49m\u001b[38;5;241;43m=\u001b[39;49m\u001b[43mmissing\u001b[49m\u001b[43m)\u001b[49m\n\u001b[1;32m    202\u001b[0m ((endog, exog), missing_idx, design_info) \u001b[38;5;241m=\u001b[39m tmp\n\u001b[1;32m    203\u001b[0m max_endog \u001b[38;5;241m=\u001b[39m \u001b[38;5;28mcls\u001b[39m\u001b[38;5;241m.\u001b[39m_formula_max_endog\n",
      "File \u001b[0;32m/usr/local/lib/python3.10/site-packages/statsmodels/formula/formulatools.py:63\u001b[0m, in \u001b[0;36mhandle_formula_data\u001b[0;34m(Y, X, formula, depth, missing)\u001b[0m\n\u001b[1;32m     61\u001b[0m \u001b[38;5;28;01melse\u001b[39;00m:\n\u001b[1;32m     62\u001b[0m     \u001b[38;5;28;01mif\u001b[39;00m data_util\u001b[38;5;241m.\u001b[39m_is_using_pandas(Y, \u001b[38;5;28;01mNone\u001b[39;00m):\n\u001b[0;32m---> 63\u001b[0m         result \u001b[38;5;241m=\u001b[39m \u001b[43mdmatrices\u001b[49m\u001b[43m(\u001b[49m\u001b[43mformula\u001b[49m\u001b[43m,\u001b[49m\u001b[43m \u001b[49m\u001b[43mY\u001b[49m\u001b[43m,\u001b[49m\u001b[43m \u001b[49m\u001b[43mdepth\u001b[49m\u001b[43m,\u001b[49m\u001b[43m \u001b[49m\u001b[43mreturn_type\u001b[49m\u001b[38;5;241;43m=\u001b[39;49m\u001b[38;5;124;43m'\u001b[39;49m\u001b[38;5;124;43mdataframe\u001b[39;49m\u001b[38;5;124;43m'\u001b[39;49m\u001b[43m,\u001b[49m\n\u001b[1;32m     64\u001b[0m \u001b[43m                           \u001b[49m\u001b[43mNA_action\u001b[49m\u001b[38;5;241;43m=\u001b[39;49m\u001b[43mna_action\u001b[49m\u001b[43m)\u001b[49m\n\u001b[1;32m     65\u001b[0m     \u001b[38;5;28;01melse\u001b[39;00m:\n\u001b[1;32m     66\u001b[0m         result \u001b[38;5;241m=\u001b[39m dmatrices(formula, Y, depth, return_type\u001b[38;5;241m=\u001b[39m\u001b[38;5;124m'\u001b[39m\u001b[38;5;124mdataframe\u001b[39m\u001b[38;5;124m'\u001b[39m,\n\u001b[1;32m     67\u001b[0m                            NA_action\u001b[38;5;241m=\u001b[39mna_action)\n",
      "File \u001b[0;32m/usr/local/lib/python3.10/site-packages/patsy/highlevel.py:309\u001b[0m, in \u001b[0;36mdmatrices\u001b[0;34m(formula_like, data, eval_env, NA_action, return_type)\u001b[0m\n\u001b[1;32m    299\u001b[0m \u001b[38;5;250m\u001b[39m\u001b[38;5;124;03m\"\"\"Construct two design matrices given a formula_like and data.\u001b[39;00m\n\u001b[1;32m    300\u001b[0m \n\u001b[1;32m    301\u001b[0m \u001b[38;5;124;03mThis function is identical to :func:`dmatrix`, except that it requires\u001b[39;00m\n\u001b[0;32m   (...)\u001b[0m\n\u001b[1;32m    306\u001b[0m \u001b[38;5;124;03mSee :func:`dmatrix` for details.\u001b[39;00m\n\u001b[1;32m    307\u001b[0m \u001b[38;5;124;03m\"\"\"\u001b[39;00m\n\u001b[1;32m    308\u001b[0m eval_env \u001b[38;5;241m=\u001b[39m EvalEnvironment\u001b[38;5;241m.\u001b[39mcapture(eval_env, reference\u001b[38;5;241m=\u001b[39m\u001b[38;5;241m1\u001b[39m)\n\u001b[0;32m--> 309\u001b[0m (lhs, rhs) \u001b[38;5;241m=\u001b[39m \u001b[43m_do_highlevel_design\u001b[49m\u001b[43m(\u001b[49m\u001b[43mformula_like\u001b[49m\u001b[43m,\u001b[49m\u001b[43m \u001b[49m\u001b[43mdata\u001b[49m\u001b[43m,\u001b[49m\u001b[43m \u001b[49m\u001b[43meval_env\u001b[49m\u001b[43m,\u001b[49m\n\u001b[1;32m    310\u001b[0m \u001b[43m                                  \u001b[49m\u001b[43mNA_action\u001b[49m\u001b[43m,\u001b[49m\u001b[43m \u001b[49m\u001b[43mreturn_type\u001b[49m\u001b[43m)\u001b[49m\n\u001b[1;32m    311\u001b[0m \u001b[38;5;28;01mif\u001b[39;00m lhs\u001b[38;5;241m.\u001b[39mshape[\u001b[38;5;241m1\u001b[39m] \u001b[38;5;241m==\u001b[39m \u001b[38;5;241m0\u001b[39m:\n\u001b[1;32m    312\u001b[0m     \u001b[38;5;28;01mraise\u001b[39;00m PatsyError(\u001b[38;5;124m\"\u001b[39m\u001b[38;5;124mmodel is missing required outcome variables\u001b[39m\u001b[38;5;124m\"\u001b[39m)\n",
      "File \u001b[0;32m/usr/local/lib/python3.10/site-packages/patsy/highlevel.py:164\u001b[0m, in \u001b[0;36m_do_highlevel_design\u001b[0;34m(formula_like, data, eval_env, NA_action, return_type)\u001b[0m\n\u001b[1;32m    162\u001b[0m \u001b[38;5;28;01mdef\u001b[39;00m \u001b[38;5;21mdata_iter_maker\u001b[39m():\n\u001b[1;32m    163\u001b[0m     \u001b[38;5;28;01mreturn\u001b[39;00m \u001b[38;5;28miter\u001b[39m([data])\n\u001b[0;32m--> 164\u001b[0m design_infos \u001b[38;5;241m=\u001b[39m \u001b[43m_try_incr_builders\u001b[49m\u001b[43m(\u001b[49m\u001b[43mformula_like\u001b[49m\u001b[43m,\u001b[49m\u001b[43m \u001b[49m\u001b[43mdata_iter_maker\u001b[49m\u001b[43m,\u001b[49m\u001b[43m \u001b[49m\u001b[43meval_env\u001b[49m\u001b[43m,\u001b[49m\n\u001b[1;32m    165\u001b[0m \u001b[43m                                  \u001b[49m\u001b[43mNA_action\u001b[49m\u001b[43m)\u001b[49m\n\u001b[1;32m    166\u001b[0m \u001b[38;5;28;01mif\u001b[39;00m design_infos \u001b[38;5;129;01mis\u001b[39;00m \u001b[38;5;129;01mnot\u001b[39;00m \u001b[38;5;28;01mNone\u001b[39;00m:\n\u001b[1;32m    167\u001b[0m     \u001b[38;5;28;01mreturn\u001b[39;00m build_design_matrices(design_infos, data,\n\u001b[1;32m    168\u001b[0m                                  NA_action\u001b[38;5;241m=\u001b[39mNA_action,\n\u001b[1;32m    169\u001b[0m                                  return_type\u001b[38;5;241m=\u001b[39mreturn_type)\n",
      "File \u001b[0;32m/usr/local/lib/python3.10/site-packages/patsy/highlevel.py:66\u001b[0m, in \u001b[0;36m_try_incr_builders\u001b[0;34m(formula_like, data_iter_maker, eval_env, NA_action)\u001b[0m\n\u001b[1;32m     64\u001b[0m \u001b[38;5;28;01mif\u001b[39;00m \u001b[38;5;28misinstance\u001b[39m(formula_like, ModelDesc):\n\u001b[1;32m     65\u001b[0m     \u001b[38;5;28;01massert\u001b[39;00m \u001b[38;5;28misinstance\u001b[39m(eval_env, EvalEnvironment)\n\u001b[0;32m---> 66\u001b[0m     \u001b[38;5;28;01mreturn\u001b[39;00m \u001b[43mdesign_matrix_builders\u001b[49m\u001b[43m(\u001b[49m\u001b[43m[\u001b[49m\u001b[43mformula_like\u001b[49m\u001b[38;5;241;43m.\u001b[39;49m\u001b[43mlhs_termlist\u001b[49m\u001b[43m,\u001b[49m\n\u001b[1;32m     67\u001b[0m \u001b[43m                                   \u001b[49m\u001b[43mformula_like\u001b[49m\u001b[38;5;241;43m.\u001b[39;49m\u001b[43mrhs_termlist\u001b[49m\u001b[43m]\u001b[49m\u001b[43m,\u001b[49m\n\u001b[1;32m     68\u001b[0m \u001b[43m                                  \u001b[49m\u001b[43mdata_iter_maker\u001b[49m\u001b[43m,\u001b[49m\n\u001b[1;32m     69\u001b[0m \u001b[43m                                  \u001b[49m\u001b[43meval_env\u001b[49m\u001b[43m,\u001b[49m\n\u001b[1;32m     70\u001b[0m \u001b[43m                                  \u001b[49m\u001b[43mNA_action\u001b[49m\u001b[43m)\u001b[49m\n\u001b[1;32m     71\u001b[0m \u001b[38;5;28;01melse\u001b[39;00m:\n\u001b[1;32m     72\u001b[0m     \u001b[38;5;28;01mreturn\u001b[39;00m \u001b[38;5;28;01mNone\u001b[39;00m\n",
      "File \u001b[0;32m/usr/local/lib/python3.10/site-packages/patsy/build.py:693\u001b[0m, in \u001b[0;36mdesign_matrix_builders\u001b[0;34m(termlists, data_iter_maker, eval_env, NA_action)\u001b[0m\n\u001b[1;32m    689\u001b[0m factor_states \u001b[38;5;241m=\u001b[39m _factors_memorize(all_factors, data_iter_maker, eval_env)\n\u001b[1;32m    690\u001b[0m \u001b[38;5;66;03m# Now all the factors have working eval methods, so we can evaluate them\u001b[39;00m\n\u001b[1;32m    691\u001b[0m \u001b[38;5;66;03m# on some data to find out what type of data they return.\u001b[39;00m\n\u001b[1;32m    692\u001b[0m (num_column_counts,\n\u001b[0;32m--> 693\u001b[0m  cat_levels_contrasts) \u001b[38;5;241m=\u001b[39m \u001b[43m_examine_factor_types\u001b[49m\u001b[43m(\u001b[49m\u001b[43mall_factors\u001b[49m\u001b[43m,\u001b[49m\n\u001b[1;32m    694\u001b[0m \u001b[43m                                               \u001b[49m\u001b[43mfactor_states\u001b[49m\u001b[43m,\u001b[49m\n\u001b[1;32m    695\u001b[0m \u001b[43m                                               \u001b[49m\u001b[43mdata_iter_maker\u001b[49m\u001b[43m,\u001b[49m\n\u001b[1;32m    696\u001b[0m \u001b[43m                                               \u001b[49m\u001b[43mNA_action\u001b[49m\u001b[43m)\u001b[49m\n\u001b[1;32m    697\u001b[0m \u001b[38;5;66;03m# Now we need the factor infos, which encapsulate the knowledge of\u001b[39;00m\n\u001b[1;32m    698\u001b[0m \u001b[38;5;66;03m# how to turn any given factor into a chunk of data:\u001b[39;00m\n\u001b[1;32m    699\u001b[0m factor_infos \u001b[38;5;241m=\u001b[39m {}\n",
      "File \u001b[0;32m/usr/local/lib/python3.10/site-packages/patsy/build.py:443\u001b[0m, in \u001b[0;36m_examine_factor_types\u001b[0;34m(factors, factor_states, data_iter_maker, NA_action)\u001b[0m\n\u001b[1;32m    441\u001b[0m \u001b[38;5;28;01mfor\u001b[39;00m data \u001b[38;5;129;01min\u001b[39;00m data_iter_maker():\n\u001b[1;32m    442\u001b[0m     \u001b[38;5;28;01mfor\u001b[39;00m factor \u001b[38;5;129;01min\u001b[39;00m \u001b[38;5;28mlist\u001b[39m(examine_needed):\n\u001b[0;32m--> 443\u001b[0m         value \u001b[38;5;241m=\u001b[39m \u001b[43mfactor\u001b[49m\u001b[38;5;241;43m.\u001b[39;49m\u001b[43meval\u001b[49m\u001b[43m(\u001b[49m\u001b[43mfactor_states\u001b[49m\u001b[43m[\u001b[49m\u001b[43mfactor\u001b[49m\u001b[43m]\u001b[49m\u001b[43m,\u001b[49m\u001b[43m \u001b[49m\u001b[43mdata\u001b[49m\u001b[43m)\u001b[49m\n\u001b[1;32m    444\u001b[0m         \u001b[38;5;28;01mif\u001b[39;00m factor \u001b[38;5;129;01min\u001b[39;00m cat_sniffers \u001b[38;5;129;01mor\u001b[39;00m guess_categorical(value):\n\u001b[1;32m    445\u001b[0m             \u001b[38;5;28;01mif\u001b[39;00m factor \u001b[38;5;129;01mnot\u001b[39;00m \u001b[38;5;129;01min\u001b[39;00m cat_sniffers:\n",
      "File \u001b[0;32m/usr/local/lib/python3.10/site-packages/patsy/eval.py:568\u001b[0m, in \u001b[0;36mEvalFactor.eval\u001b[0;34m(self, memorize_state, data)\u001b[0m\n\u001b[1;32m    567\u001b[0m \u001b[38;5;28;01mdef\u001b[39;00m \u001b[38;5;21meval\u001b[39m(\u001b[38;5;28mself\u001b[39m, memorize_state, data):\n\u001b[0;32m--> 568\u001b[0m     \u001b[38;5;28;01mreturn\u001b[39;00m \u001b[38;5;28;43mself\u001b[39;49m\u001b[38;5;241;43m.\u001b[39;49m\u001b[43m_eval\u001b[49m\u001b[43m(\u001b[49m\u001b[43mmemorize_state\u001b[49m\u001b[43m[\u001b[49m\u001b[38;5;124;43m\"\u001b[39;49m\u001b[38;5;124;43meval_code\u001b[39;49m\u001b[38;5;124;43m\"\u001b[39;49m\u001b[43m]\u001b[49m\u001b[43m,\u001b[49m\n\u001b[1;32m    569\u001b[0m \u001b[43m                      \u001b[49m\u001b[43mmemorize_state\u001b[49m\u001b[43m,\u001b[49m\n\u001b[1;32m    570\u001b[0m \u001b[43m                      \u001b[49m\u001b[43mdata\u001b[49m\u001b[43m)\u001b[49m\n",
      "File \u001b[0;32m/usr/local/lib/python3.10/site-packages/patsy/eval.py:551\u001b[0m, in \u001b[0;36mEvalFactor._eval\u001b[0;34m(self, code, memorize_state, data)\u001b[0m\n\u001b[1;32m    549\u001b[0m \u001b[38;5;28;01mdef\u001b[39;00m \u001b[38;5;21m_eval\u001b[39m(\u001b[38;5;28mself\u001b[39m, code, memorize_state, data):\n\u001b[1;32m    550\u001b[0m     inner_namespace \u001b[38;5;241m=\u001b[39m VarLookupDict([data, memorize_state[\u001b[38;5;124m\"\u001b[39m\u001b[38;5;124mtransforms\u001b[39m\u001b[38;5;124m\"\u001b[39m]])\n\u001b[0;32m--> 551\u001b[0m     \u001b[38;5;28;01mreturn\u001b[39;00m \u001b[43mcall_and_wrap_exc\u001b[49m\u001b[43m(\u001b[49m\u001b[38;5;124;43m\"\u001b[39;49m\u001b[38;5;124;43mError evaluating factor\u001b[39;49m\u001b[38;5;124;43m\"\u001b[39;49m\u001b[43m,\u001b[49m\n\u001b[1;32m    552\u001b[0m \u001b[43m                             \u001b[49m\u001b[38;5;28;43mself\u001b[39;49m\u001b[43m,\u001b[49m\n\u001b[1;32m    553\u001b[0m \u001b[43m                             \u001b[49m\u001b[43mmemorize_state\u001b[49m\u001b[43m[\u001b[49m\u001b[38;5;124;43m\"\u001b[39;49m\u001b[38;5;124;43meval_env\u001b[39;49m\u001b[38;5;124;43m\"\u001b[39;49m\u001b[43m]\u001b[49m\u001b[38;5;241;43m.\u001b[39;49m\u001b[43meval\u001b[49m\u001b[43m,\u001b[49m\n\u001b[1;32m    554\u001b[0m \u001b[43m                             \u001b[49m\u001b[43mcode\u001b[49m\u001b[43m,\u001b[49m\n\u001b[1;32m    555\u001b[0m \u001b[43m                             \u001b[49m\u001b[43minner_namespace\u001b[49m\u001b[38;5;241;43m=\u001b[39;49m\u001b[43minner_namespace\u001b[49m\u001b[43m)\u001b[49m\n",
      "File \u001b[0;32m/usr/local/lib/python3.10/site-packages/patsy/compat.py:43\u001b[0m, in \u001b[0;36mcall_and_wrap_exc\u001b[0;34m(msg, origin, f, *args, **kwargs)\u001b[0m\n\u001b[1;32m     39\u001b[0m     new_exc \u001b[38;5;241m=\u001b[39m PatsyError(\u001b[38;5;124m\"\u001b[39m\u001b[38;5;132;01m%s\u001b[39;00m\u001b[38;5;124m: \u001b[39m\u001b[38;5;132;01m%s\u001b[39;00m\u001b[38;5;124m: \u001b[39m\u001b[38;5;132;01m%s\u001b[39;00m\u001b[38;5;124m\"\u001b[39m\n\u001b[1;32m     40\u001b[0m                          \u001b[38;5;241m%\u001b[39m (msg, e\u001b[38;5;241m.\u001b[39m\u001b[38;5;18m__class__\u001b[39m\u001b[38;5;241m.\u001b[39m\u001b[38;5;18m__name__\u001b[39m, e),\n\u001b[1;32m     41\u001b[0m                          origin)\n\u001b[1;32m     42\u001b[0m     \u001b[38;5;66;03m# Use 'exec' to hide this syntax from the Python 2 parser:\u001b[39;00m\n\u001b[0;32m---> 43\u001b[0m     \u001b[43mexec\u001b[49m\u001b[43m(\u001b[49m\u001b[38;5;124;43m\"\u001b[39;49m\u001b[38;5;124;43mraise new_exc from e\u001b[39;49m\u001b[38;5;124;43m\"\u001b[39;49m\u001b[43m)\u001b[49m\n\u001b[1;32m     44\u001b[0m \u001b[38;5;28;01melse\u001b[39;00m:\n\u001b[1;32m     45\u001b[0m     \u001b[38;5;66;03m# In python 2, we just let the original exception escape -- better\u001b[39;00m\n\u001b[1;32m     46\u001b[0m     \u001b[38;5;66;03m# than destroying the traceback. But if it's a PatsyError, we can\u001b[39;00m\n\u001b[1;32m     47\u001b[0m     \u001b[38;5;66;03m# at least set the origin properly.\u001b[39;00m\n\u001b[1;32m     48\u001b[0m     \u001b[38;5;28;01mif\u001b[39;00m \u001b[38;5;28misinstance\u001b[39m(e, PatsyError):\n",
      "File \u001b[0;32m<string>:1\u001b[0m\n",
      "\u001b[0;31mPatsyError\u001b[0m: Error evaluating factor: NameError: name 'TotalRevenue' is not defined\n    MetacriticScore ~ coreness + ReleaseYear + TotalRevenue\n                                               ^^^^^^^^^^^^"
     ]
    }
   ],
   "source": [
    "result = reg.linear(data=df_nodes, formula=\" MetacriticScore ~ coreness + ReleaseYear + TotalRevenue\")"
   ]
  },
  {
   "cell_type": "code",
   "execution_count": null,
   "metadata": {},
   "outputs": [],
   "source": [
    "result.summary()"
   ]
  },
  {
   "cell_type": "code",
   "execution_count": null,
   "metadata": {},
   "outputs": [],
   "source": [
    "result.micro_summary()"
   ]
  },
  {
   "cell_type": "code",
   "execution_count": null,
   "metadata": {},
   "outputs": [],
   "source": [
    "result.plot_residuals()"
   ]
  },
  {
   "cell_type": "code",
   "execution_count": null,
   "metadata": {},
   "outputs": [],
   "source": [
    "# Observa-se um treshold de divisão no coreness, dessa forma, podemos dividir esses dados em dois conjuntos\n",
    "# E assim aplicar uma regressão em cada metade.\n",
    "\n",
    "threshold_coreness = 0.5\n",
    "\n",
    "df_nodes_menor = df_nodes[df_nodes['coreness'] < threshold_coreness]\n",
    "df_nodes_maior =  df_nodes[df_nodes['coreness'] > threshold_coreness]"
   ]
  },
  {
   "cell_type": "code",
   "execution_count": null,
   "metadata": {},
   "outputs": [],
   "source": [
    "df_nodes_menor.head()"
   ]
  },
  {
   "cell_type": "code",
   "execution_count": null,
   "metadata": {},
   "outputs": [],
   "source": [
    "df_nodes_maior.head()"
   ]
  },
  {
   "cell_type": "code",
   "execution_count": null,
   "metadata": {},
   "outputs": [],
   "source": [
    "# ------- Para a primeira metade  -------\n",
    "\n",
    "sns.regplot(x=df_nodes_menor['coreness'], y=df_nodes_menor['MetacriticScore']);"
   ]
  },
  {
   "cell_type": "code",
   "execution_count": null,
   "metadata": {},
   "outputs": [],
   "source": [
    "result_menor = reg.linear(data=df_nodes_menor, formula='MetacriticScore ~ coreness')"
   ]
  },
  {
   "cell_type": "code",
   "execution_count": null,
   "metadata": {},
   "outputs": [],
   "source": [
    "result_menor.micro_summary()"
   ]
  },
  {
   "cell_type": "code",
   "execution_count": null,
   "metadata": {},
   "outputs": [],
   "source": [
    "result_menor.plot_residuals()"
   ]
  },
  {
   "cell_type": "code",
   "execution_count": null,
   "metadata": {},
   "outputs": [],
   "source": [
    "# ------- Para a segunda metade  -------\n",
    "\n",
    "sns.regplot(x=df_nodes_maior['coreness'], y=df_nodes_maior['MetacriticScore']);"
   ]
  },
  {
   "cell_type": "code",
   "execution_count": null,
   "metadata": {},
   "outputs": [],
   "source": [
    "result_maior = reg.linear(data=df_nodes_maior, formula='MetacriticScore ~ coreness')"
   ]
  },
  {
   "cell_type": "code",
   "execution_count": null,
   "metadata": {},
   "outputs": [],
   "source": [
    "result_maior.micro_summary()"
   ]
  },
  {
   "cell_type": "code",
   "execution_count": null,
   "metadata": {},
   "outputs": [],
   "source": [
    "result_menor.plot_residuals()"
   ]
  }
 ],
 "metadata": {
  "kernelspec": {
   "display_name": "Python 3 (ipykernel)",
   "language": "python",
   "name": "python3"
  },
  "language_info": {
   "codemirror_mode": {
    "name": "ipython",
    "version": 3
   },
   "file_extension": ".py",
   "mimetype": "text/x-python",
   "name": "python",
   "nbconvert_exporter": "python",
   "pygments_lexer": "ipython3",
   "version": "3.10.10"
  }
 },
 "nbformat": 4,
 "nbformat_minor": 4
}
