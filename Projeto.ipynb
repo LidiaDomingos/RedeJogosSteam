{
 "cells": [
  {
   "cell_type": "code",
   "execution_count": 1,
   "metadata": {},
   "outputs": [
    {
     "data": {
      "text/html": [
       "\n",
       "    <script src=\"/files/netpixi.min.js\"></script>\n"
      ],
      "text/plain": [
       "<IPython.core.display.HTML object>"
      ]
     },
     "metadata": {},
     "output_type": "display_data"
    },
    {
     "name": "stderr",
     "output_type": "stream",
     "text": [
      "<frozen importlib._bootstrap>:914: ImportWarning: VendorImporter.find_spec() not found; falling back to find_module()\n"
     ]
    }
   ],
   "source": [
    "# Importanto bibliotecas utilizadas na aps\n",
    "import seaborn as sns\n",
    "from netpixi.integration.gt import *\n",
    "from regression.integration.gt import *\n",
    "import netpixi\n",
    "import pandas as pd\n",
    "\n",
    "g = Graph(directed=False)  # Não direcional - Documentação"
   ]
  },
  {
   "cell_type": "code",
   "execution_count": 2,
   "metadata": {
    "scrolled": true
   },
   "outputs": [
    {
     "data": {
      "text/plain": [
       "Index(['AppID', 'Name', 'Release date', 'Estimated owners', 'Peak CCU',\n",
       "       'Required age', 'Price', 'DLC count', 'About the game',\n",
       "       'Supported languages', 'Full audio languages', 'Reviews',\n",
       "       'Header image', 'Website', 'Support url', 'Support email', 'Windows',\n",
       "       'Mac', 'Linux', 'Metacritic score', 'Metacritic url', 'User score',\n",
       "       'Positive', 'Negative', 'Score rank', 'Achievements', 'Recommendations',\n",
       "       'Notes', 'Average playtime forever', 'Average playtime two weeks',\n",
       "       'Median playtime forever', 'Median playtime two weeks', 'Developers',\n",
       "       'Publishers', 'Categories', 'Genres', 'Tags', 'Screenshots', 'Movies'],\n",
       "      dtype='object')"
      ]
     },
     "execution_count": 2,
     "metadata": {},
     "output_type": "execute_result"
    }
   ],
   "source": [
    "# Lendo o arquivo\n",
    "df_principal = pd.read_csv('games.csv')\n",
    "df_principal.columns"
   ]
  },
  {
   "cell_type": "code",
   "execution_count": 4,
   "metadata": {},
   "outputs": [
    {
     "name": "stdout",
     "output_type": "stream",
     "text": [
      "[  0  63  59  77  68 100  57  80  51  69  97  53  46  65  55  84  71  60\n",
      "  61  78  87  92  73  83  82  98  76  66  95  94  96  88]\n",
      "---------------------------------------------\n",
      "[ 0 62 64 53 84 89 70 86 40 87 92 76 51 49 81 69 72 68 52 82 59 77 79 71\n",
      " 74 73 88 47 75 66 50 63 67 80 58 90 39 78 55 85 65 91 83 57 56 44 60 61\n",
      " 48 46 23 45 94 27 38 30 35 54 41 43 32 34 93 37 36 95 42 29 24 96 20 33\n",
      " 97]\n"
     ]
    }
   ],
   "source": [
    "# Verificando valores únicos das métricas\n",
    "print(df_principal['User score'].unique())\n",
    "print(\"---------------------------------------------\")\n",
    "print(df_principal['Metacritic score'].unique())"
   ]
  },
  {
   "cell_type": "code",
   "execution_count": 5,
   "metadata": {},
   "outputs": [
    {
     "data": {
      "text/plain": [
       "(57702, 39)"
      ]
     },
     "execution_count": 5,
     "metadata": {},
     "output_type": "execute_result"
    }
   ],
   "source": [
    "# Retira valores Nulos presentes nas colunas listas\n",
    "df_principal.dropna(subset=['Tags', 'User score', 'Metacritic score'], inplace=True)\n",
    "df_principal.reset_index(inplace=True, drop=True)\n",
    "df_principal.shape"
   ]
  },
  {
   "cell_type": "code",
   "execution_count": 6,
   "metadata": {},
   "outputs": [
    {
     "data": {
      "text/plain": [
       "0                         [Indie, Casual, Sports, Bowling]\n",
       "1        [Indie, Action, Pixel Graphics, 2D, Retro, Arc...\n",
       "2        [2D Platformer, Atmospheric, Surreal, Mystery,...\n",
       "3        [Indie, Adventure, Nudity, Violent, Sexual Con...\n",
       "4        [Turn-Based Combat, Massively Multiplayer, Mul...\n",
       "                               ...                        \n",
       "57697    [Early Access, VR, Swordplay, Action RPG, Anim...\n",
       "57698    [Action, Simulation, Dungeons & Dragons, Actio...\n",
       "57699    [3D Platformer, Action-Adventure, Funny, Casua...\n",
       "57700    [First-Person, Detective, Social Deduction, Mu...\n",
       "57701    [Casual, Simulation, Puzzle, Exploration, Imme...\n",
       "Name: Tags, Length: 57702, dtype: object"
      ]
     },
     "execution_count": 6,
     "metadata": {},
     "output_type": "execute_result"
    }
   ],
   "source": [
    "# Transforma a coluna Tags em lista de Tags:\n",
    "df_principal['Tags'] = df_principal.Tags.apply(lambda x: str(x).split(','))\n",
    "df_principal['Tags']"
   ]
  },
  {
   "cell_type": "code",
   "execution_count": 7,
   "metadata": {},
   "outputs": [],
   "source": [
    "df_principal = df_principal.sample(n=350)"
   ]
  },
  {
   "cell_type": "code",
   "execution_count": 8,
   "metadata": {},
   "outputs": [],
   "source": [
    "# Varre valores únicos das Tags e os mapeia em um número de 0 a n_tags \n",
    "\n",
    "tags_map = {}\n",
    "n_tags = df_principal.Tags.explode().unique().shape[0]\n",
    "\n",
    "for i, tag in enumerate(df_principal.Tags.explode().unique()):\n",
    "    tags_map[tag] = i"
   ]
  },
  {
   "cell_type": "code",
   "execution_count": 9,
   "metadata": {},
   "outputs": [
    {
     "data": {
      "text/html": [
       "<div>\n",
       "<style scoped>\n",
       "    .dataframe tbody tr th:only-of-type {\n",
       "        vertical-align: middle;\n",
       "    }\n",
       "\n",
       "    .dataframe tbody tr th {\n",
       "        vertical-align: top;\n",
       "    }\n",
       "\n",
       "    .dataframe thead th {\n",
       "        text-align: right;\n",
       "    }\n",
       "</style>\n",
       "<table border=\"1\" class=\"dataframe\">\n",
       "  <thead>\n",
       "    <tr style=\"text-align: right;\">\n",
       "      <th></th>\n",
       "      <th>AppID</th>\n",
       "      <th>Name</th>\n",
       "      <th>Release date</th>\n",
       "      <th>Estimated owners</th>\n",
       "      <th>Peak CCU</th>\n",
       "      <th>Required age</th>\n",
       "      <th>Price</th>\n",
       "      <th>DLC count</th>\n",
       "      <th>About the game</th>\n",
       "      <th>Supported languages</th>\n",
       "      <th>...</th>\n",
       "      <th>Median playtime forever</th>\n",
       "      <th>Median playtime two weeks</th>\n",
       "      <th>Developers</th>\n",
       "      <th>Publishers</th>\n",
       "      <th>Categories</th>\n",
       "      <th>Genres</th>\n",
       "      <th>Tags</th>\n",
       "      <th>Screenshots</th>\n",
       "      <th>Movies</th>\n",
       "      <th>tag_vector</th>\n",
       "    </tr>\n",
       "  </thead>\n",
       "  <tbody>\n",
       "    <tr>\n",
       "      <th>55598</th>\n",
       "      <td>2111040</td>\n",
       "      <td>Dead Beacon</td>\n",
       "      <td>Nov 18, 2022</td>\n",
       "      <td>0 - 20000</td>\n",
       "      <td>3</td>\n",
       "      <td>0</td>\n",
       "      <td>3.99</td>\n",
       "      <td>0</td>\n",
       "      <td>After your sailboat is damaged by a mysterious...</td>\n",
       "      <td>['English', 'Spanish - Spain']</td>\n",
       "      <td>...</td>\n",
       "      <td>0</td>\n",
       "      <td>0</td>\n",
       "      <td>SelianiDEV</td>\n",
       "      <td>SelianiDEV</td>\n",
       "      <td>Single-player,Steam Achievements</td>\n",
       "      <td>Action,Adventure,Indie</td>\n",
       "      <td>[Action, First-Person, Horror, Action-Adventur...</td>\n",
       "      <td>https://cdn.akamai.steamstatic.com/steam/apps/...</td>\n",
       "      <td>http://cdn.akamai.steamstatic.com/steam/apps/2...</td>\n",
       "      <td>[1, 1, 1, 1, 1, 1, 1, 1, 1, 1, 1, 1, 1, 1, 1, ...</td>\n",
       "    </tr>\n",
       "    <tr>\n",
       "      <th>10526</th>\n",
       "      <td>1493880</td>\n",
       "      <td>Mira's Brush</td>\n",
       "      <td>Jan 21, 2022</td>\n",
       "      <td>0 - 20000</td>\n",
       "      <td>0</td>\n",
       "      <td>0</td>\n",
       "      <td>9.99</td>\n",
       "      <td>0</td>\n",
       "      <td>🖌️Features +100 STEAM ACHIEVEMENTS +30+ Hours ...</td>\n",
       "      <td>['English']</td>\n",
       "      <td>...</td>\n",
       "      <td>0</td>\n",
       "      <td>0</td>\n",
       "      <td>Duckbill ProDucktions</td>\n",
       "      <td>Angel Star Studios</td>\n",
       "      <td>Single-player,Steam Achievements,Full controll...</td>\n",
       "      <td>Action,Adventure,Indie</td>\n",
       "      <td>[Colorful, Immersive, Exploration, Puzzle-Plat...</td>\n",
       "      <td>https://cdn.akamai.steamstatic.com/steam/apps/...</td>\n",
       "      <td>http://cdn.akamai.steamstatic.com/steam/apps/2...</td>\n",
       "      <td>[1, 0, 0, 1, 0, 0, 0, 1, 0, 1, 0, 0, 0, 0, 0, ...</td>\n",
       "    </tr>\n",
       "    <tr>\n",
       "      <th>52484</th>\n",
       "      <td>589290</td>\n",
       "      <td>Holdfast: Nations At War</td>\n",
       "      <td>Mar 5, 2020</td>\n",
       "      <td>500000 - 1000000</td>\n",
       "      <td>740</td>\n",
       "      <td>0</td>\n",
       "      <td>19.99</td>\n",
       "      <td>8</td>\n",
       "      <td>Holdfast: Nations At War is an online multipla...</td>\n",
       "      <td>['English', 'French', 'German', 'Spanish - Spa...</td>\n",
       "      <td>...</td>\n",
       "      <td>384</td>\n",
       "      <td>921</td>\n",
       "      <td>Anvil Game Studios</td>\n",
       "      <td>Anvil Game Studios</td>\n",
       "      <td>Multi-player,PvP,Online PvP,Steam Achievements...</td>\n",
       "      <td>Action,Indie,Massively Multiplayer,Simulation,...</td>\n",
       "      <td>[Historical, Multiplayer, War, Strategy, Milit...</td>\n",
       "      <td>https://cdn.akamai.steamstatic.com/steam/apps/...</td>\n",
       "      <td>http://cdn.akamai.steamstatic.com/steam/apps/2...</td>\n",
       "      <td>[1, 1, 0, 0, 0, 1, 0, 0, 0, 0, 0, 0, 0, 0, 0, ...</td>\n",
       "    </tr>\n",
       "    <tr>\n",
       "      <th>44559</th>\n",
       "      <td>773490</td>\n",
       "      <td>谜桥 / RiddleBridge</td>\n",
       "      <td>Mar 1, 2018</td>\n",
       "      <td>0 - 20000</td>\n",
       "      <td>0</td>\n",
       "      <td>0</td>\n",
       "      <td>3.99</td>\n",
       "      <td>0</td>\n",
       "      <td>This is a beautiful love story of the cowherd ...</td>\n",
       "      <td>['Simplified Chinese']</td>\n",
       "      <td>...</td>\n",
       "      <td>0</td>\n",
       "      <td>0</td>\n",
       "      <td>飞鹰互娱</td>\n",
       "      <td>飞鹰互娱</td>\n",
       "      <td>Single-player</td>\n",
       "      <td>Casual,Indie,Strategy</td>\n",
       "      <td>[Casual, Indie, Strategy, Puzzle, Romance, Ear...</td>\n",
       "      <td>https://cdn.akamai.steamstatic.com/steam/apps/...</td>\n",
       "      <td>http://cdn.akamai.steamstatic.com/steam/apps/2...</td>\n",
       "      <td>[0, 0, 0, 0, 0, 0, 0, 0, 0, 0, 0, 0, 0, 0, 0, ...</td>\n",
       "    </tr>\n",
       "    <tr>\n",
       "      <th>29896</th>\n",
       "      <td>1576900</td>\n",
       "      <td>Spirit Bounce</td>\n",
       "      <td>Jun 28, 2021</td>\n",
       "      <td>0 - 20000</td>\n",
       "      <td>0</td>\n",
       "      <td>0</td>\n",
       "      <td>7.99</td>\n",
       "      <td>0</td>\n",
       "      <td>Spirits are responsible for the whole balance ...</td>\n",
       "      <td>['English', 'Portuguese - Brazil']</td>\n",
       "      <td>...</td>\n",
       "      <td>0</td>\n",
       "      <td>0</td>\n",
       "      <td>ChrisBSM</td>\n",
       "      <td>ChrisBSM</td>\n",
       "      <td>Single-player,Steam Achievements,Steam Worksho...</td>\n",
       "      <td>Casual,Indie,Early Access</td>\n",
       "      <td>[Early Access, Female Protagonist, Arcade, Fan...</td>\n",
       "      <td>https://cdn.akamai.steamstatic.com/steam/apps/...</td>\n",
       "      <td>http://cdn.akamai.steamstatic.com/steam/apps/2...</td>\n",
       "      <td>[0, 0, 0, 0, 0, 0, 0, 0, 0, 0, 0, 0, 0, 0, 0, ...</td>\n",
       "    </tr>\n",
       "    <tr>\n",
       "      <th>...</th>\n",
       "      <td>...</td>\n",
       "      <td>...</td>\n",
       "      <td>...</td>\n",
       "      <td>...</td>\n",
       "      <td>...</td>\n",
       "      <td>...</td>\n",
       "      <td>...</td>\n",
       "      <td>...</td>\n",
       "      <td>...</td>\n",
       "      <td>...</td>\n",
       "      <td>...</td>\n",
       "      <td>...</td>\n",
       "      <td>...</td>\n",
       "      <td>...</td>\n",
       "      <td>...</td>\n",
       "      <td>...</td>\n",
       "      <td>...</td>\n",
       "      <td>...</td>\n",
       "      <td>...</td>\n",
       "      <td>...</td>\n",
       "      <td>...</td>\n",
       "    </tr>\n",
       "    <tr>\n",
       "      <th>8694</th>\n",
       "      <td>1168530</td>\n",
       "      <td>登塔者们 Babel Climbers</td>\n",
       "      <td>Feb 29, 2020</td>\n",
       "      <td>0 - 20000</td>\n",
       "      <td>0</td>\n",
       "      <td>0</td>\n",
       "      <td>9.99</td>\n",
       "      <td>0</td>\n",
       "      <td>At the beginning of the design, the game made ...</td>\n",
       "      <td>['Simplified Chinese', 'English']</td>\n",
       "      <td>...</td>\n",
       "      <td>0</td>\n",
       "      <td>0</td>\n",
       "      <td>Nianless</td>\n",
       "      <td>Nianless</td>\n",
       "      <td>Single-player</td>\n",
       "      <td>Adventure,Casual,Indie,RPG,Strategy,Early Access</td>\n",
       "      <td>[Casual, RPG, Indie, Strategy, Adventure, Earl...</td>\n",
       "      <td>https://cdn.akamai.steamstatic.com/steam/apps/...</td>\n",
       "      <td>http://cdn.akamai.steamstatic.com/steam/apps/2...</td>\n",
       "      <td>[0, 0, 0, 0, 0, 0, 0, 0, 0, 1, 0, 0, 0, 0, 0, ...</td>\n",
       "    </tr>\n",
       "    <tr>\n",
       "      <th>34510</th>\n",
       "      <td>1015290</td>\n",
       "      <td>Trapped in Fear</td>\n",
       "      <td>Dec 2, 2019</td>\n",
       "      <td>0 - 20000</td>\n",
       "      <td>0</td>\n",
       "      <td>0</td>\n",
       "      <td>4.99</td>\n",
       "      <td>0</td>\n",
       "      <td>Has it ever happened to you? You are a child t...</td>\n",
       "      <td>['English', 'German', 'Polish']</td>\n",
       "      <td>...</td>\n",
       "      <td>0</td>\n",
       "      <td>0</td>\n",
       "      <td>Rain of Cubes</td>\n",
       "      <td>Rain of Cubes</td>\n",
       "      <td>Single-player,Steam Achievements,Steam Cloud</td>\n",
       "      <td>Adventure,Indie</td>\n",
       "      <td>[Indie, Adventure]</td>\n",
       "      <td>https://cdn.akamai.steamstatic.com/steam/apps/...</td>\n",
       "      <td>http://cdn.akamai.steamstatic.com/steam/apps/2...</td>\n",
       "      <td>[0, 0, 0, 0, 0, 0, 0, 0, 0, 1, 0, 0, 0, 0, 0, ...</td>\n",
       "    </tr>\n",
       "    <tr>\n",
       "      <th>17132</th>\n",
       "      <td>252530</td>\n",
       "      <td>OMSI 2: Steam Edition</td>\n",
       "      <td>Dec 11, 2013</td>\n",
       "      <td>500000 - 1000000</td>\n",
       "      <td>1179</td>\n",
       "      <td>0</td>\n",
       "      <td>29.99</td>\n",
       "      <td>85</td>\n",
       "      <td>Off to the next round! Experience a new omnibu...</td>\n",
       "      <td>['English', 'German', 'French']</td>\n",
       "      <td>...</td>\n",
       "      <td>3850</td>\n",
       "      <td>358</td>\n",
       "      <td>MR-Software GbR</td>\n",
       "      <td>Aerosoft GmbH</td>\n",
       "      <td>Single-player,Full controller support,Includes...</td>\n",
       "      <td>Casual,Simulation</td>\n",
       "      <td>[Automobile Sim, Simulation, Driving, Realisti...</td>\n",
       "      <td>https://cdn.akamai.steamstatic.com/steam/apps/...</td>\n",
       "      <td>http://cdn.akamai.steamstatic.com/steam/apps/2...</td>\n",
       "      <td>[1, 1, 0, 0, 0, 0, 0, 0, 0, 1, 0, 0, 0, 0, 0, ...</td>\n",
       "    </tr>\n",
       "    <tr>\n",
       "      <th>32440</th>\n",
       "      <td>1128170</td>\n",
       "      <td>Power Stealers</td>\n",
       "      <td>Jan 27, 2020</td>\n",
       "      <td>0 - 20000</td>\n",
       "      <td>0</td>\n",
       "      <td>0</td>\n",
       "      <td>4.99</td>\n",
       "      <td>0</td>\n",
       "      <td>Power Stealers bring us back to the ’90s and t...</td>\n",
       "      <td>['English']</td>\n",
       "      <td>...</td>\n",
       "      <td>0</td>\n",
       "      <td>0</td>\n",
       "      <td>Intertum</td>\n",
       "      <td>Intertum</td>\n",
       "      <td>Single-player,Multi-player,PvP,Shared/Split Sc...</td>\n",
       "      <td>Action,Indie</td>\n",
       "      <td>[Action, Indie, Shoot 'Em Up, Pixel Graphics, ...</td>\n",
       "      <td>https://cdn.akamai.steamstatic.com/steam/apps/...</td>\n",
       "      <td>http://cdn.akamai.steamstatic.com/steam/apps/2...</td>\n",
       "      <td>[1, 0, 0, 0, 0, 0, 0, 0, 0, 0, 0, 0, 0, 0, 0, ...</td>\n",
       "    </tr>\n",
       "    <tr>\n",
       "      <th>12985</th>\n",
       "      <td>480690</td>\n",
       "      <td>Inbound</td>\n",
       "      <td>Jul 5, 2016</td>\n",
       "      <td>0 - 20000</td>\n",
       "      <td>0</td>\n",
       "      <td>0</td>\n",
       "      <td>2.99</td>\n",
       "      <td>0</td>\n",
       "      <td>(Mixed reality footage courtesy HTC, taken at ...</td>\n",
       "      <td>['English']</td>\n",
       "      <td>...</td>\n",
       "      <td>0</td>\n",
       "      <td>0</td>\n",
       "      <td>Gyoza Games LLC</td>\n",
       "      <td>Gyoza Games LLC</td>\n",
       "      <td>Single-player,Steam Leaderboards</td>\n",
       "      <td>Action,Casual</td>\n",
       "      <td>[Action, Casual, VR]</td>\n",
       "      <td>https://cdn.akamai.steamstatic.com/steam/apps/...</td>\n",
       "      <td>http://cdn.akamai.steamstatic.com/steam/apps/2...</td>\n",
       "      <td>[1, 0, 0, 0, 0, 0, 0, 0, 0, 0, 0, 0, 0, 0, 0, ...</td>\n",
       "    </tr>\n",
       "  </tbody>\n",
       "</table>\n",
       "<p>350 rows × 40 columns</p>\n",
       "</div>"
      ],
      "text/plain": [
       "         AppID                      Name  Release date  Estimated owners  \\\n",
       "55598  2111040               Dead Beacon  Nov 18, 2022         0 - 20000   \n",
       "10526  1493880              Mira's Brush  Jan 21, 2022         0 - 20000   \n",
       "52484   589290  Holdfast: Nations At War   Mar 5, 2020  500000 - 1000000   \n",
       "44559   773490         谜桥 / RiddleBridge   Mar 1, 2018         0 - 20000   \n",
       "29896  1576900             Spirit Bounce  Jun 28, 2021         0 - 20000   \n",
       "...        ...                       ...           ...               ...   \n",
       "8694   1168530       登塔者们 Babel Climbers  Feb 29, 2020         0 - 20000   \n",
       "34510  1015290           Trapped in Fear   Dec 2, 2019         0 - 20000   \n",
       "17132   252530     OMSI 2: Steam Edition  Dec 11, 2013  500000 - 1000000   \n",
       "32440  1128170            Power Stealers  Jan 27, 2020         0 - 20000   \n",
       "12985   480690                   Inbound   Jul 5, 2016         0 - 20000   \n",
       "\n",
       "       Peak CCU  Required age  Price  DLC count  \\\n",
       "55598         3             0   3.99          0   \n",
       "10526         0             0   9.99          0   \n",
       "52484       740             0  19.99          8   \n",
       "44559         0             0   3.99          0   \n",
       "29896         0             0   7.99          0   \n",
       "...         ...           ...    ...        ...   \n",
       "8694          0             0   9.99          0   \n",
       "34510         0             0   4.99          0   \n",
       "17132      1179             0  29.99         85   \n",
       "32440         0             0   4.99          0   \n",
       "12985         0             0   2.99          0   \n",
       "\n",
       "                                          About the game  \\\n",
       "55598  After your sailboat is damaged by a mysterious...   \n",
       "10526  🖌️Features +100 STEAM ACHIEVEMENTS +30+ Hours ...   \n",
       "52484  Holdfast: Nations At War is an online multipla...   \n",
       "44559  This is a beautiful love story of the cowherd ...   \n",
       "29896  Spirits are responsible for the whole balance ...   \n",
       "...                                                  ...   \n",
       "8694   At the beginning of the design, the game made ...   \n",
       "34510  Has it ever happened to you? You are a child t...   \n",
       "17132  Off to the next round! Experience a new omnibu...   \n",
       "32440  Power Stealers bring us back to the ’90s and t...   \n",
       "12985  (Mixed reality footage courtesy HTC, taken at ...   \n",
       "\n",
       "                                     Supported languages  ...  \\\n",
       "55598                     ['English', 'Spanish - Spain']  ...   \n",
       "10526                                        ['English']  ...   \n",
       "52484  ['English', 'French', 'German', 'Spanish - Spa...  ...   \n",
       "44559                             ['Simplified Chinese']  ...   \n",
       "29896                 ['English', 'Portuguese - Brazil']  ...   \n",
       "...                                                  ...  ...   \n",
       "8694                   ['Simplified Chinese', 'English']  ...   \n",
       "34510                    ['English', 'German', 'Polish']  ...   \n",
       "17132                    ['English', 'German', 'French']  ...   \n",
       "32440                                        ['English']  ...   \n",
       "12985                                        ['English']  ...   \n",
       "\n",
       "      Median playtime forever Median playtime two weeks  \\\n",
       "55598                       0                         0   \n",
       "10526                       0                         0   \n",
       "52484                     384                       921   \n",
       "44559                       0                         0   \n",
       "29896                       0                         0   \n",
       "...                       ...                       ...   \n",
       "8694                        0                         0   \n",
       "34510                       0                         0   \n",
       "17132                    3850                       358   \n",
       "32440                       0                         0   \n",
       "12985                       0                         0   \n",
       "\n",
       "                  Developers          Publishers  \\\n",
       "55598             SelianiDEV          SelianiDEV   \n",
       "10526  Duckbill ProDucktions  Angel Star Studios   \n",
       "52484     Anvil Game Studios  Anvil Game Studios   \n",
       "44559                   飞鹰互娱                飞鹰互娱   \n",
       "29896               ChrisBSM            ChrisBSM   \n",
       "...                      ...                 ...   \n",
       "8694                Nianless            Nianless   \n",
       "34510          Rain of Cubes       Rain of Cubes   \n",
       "17132        MR-Software GbR       Aerosoft GmbH   \n",
       "32440               Intertum            Intertum   \n",
       "12985        Gyoza Games LLC     Gyoza Games LLC   \n",
       "\n",
       "                                              Categories  \\\n",
       "55598                   Single-player,Steam Achievements   \n",
       "10526  Single-player,Steam Achievements,Full controll...   \n",
       "52484  Multi-player,PvP,Online PvP,Steam Achievements...   \n",
       "44559                                      Single-player   \n",
       "29896  Single-player,Steam Achievements,Steam Worksho...   \n",
       "...                                                  ...   \n",
       "8694                                       Single-player   \n",
       "34510       Single-player,Steam Achievements,Steam Cloud   \n",
       "17132  Single-player,Full controller support,Includes...   \n",
       "32440  Single-player,Multi-player,PvP,Shared/Split Sc...   \n",
       "12985                   Single-player,Steam Leaderboards   \n",
       "\n",
       "                                                  Genres  \\\n",
       "55598                             Action,Adventure,Indie   \n",
       "10526                             Action,Adventure,Indie   \n",
       "52484  Action,Indie,Massively Multiplayer,Simulation,...   \n",
       "44559                              Casual,Indie,Strategy   \n",
       "29896                          Casual,Indie,Early Access   \n",
       "...                                                  ...   \n",
       "8694    Adventure,Casual,Indie,RPG,Strategy,Early Access   \n",
       "34510                                    Adventure,Indie   \n",
       "17132                                  Casual,Simulation   \n",
       "32440                                       Action,Indie   \n",
       "12985                                      Action,Casual   \n",
       "\n",
       "                                                    Tags  \\\n",
       "55598  [Action, First-Person, Horror, Action-Adventur...   \n",
       "10526  [Colorful, Immersive, Exploration, Puzzle-Plat...   \n",
       "52484  [Historical, Multiplayer, War, Strategy, Milit...   \n",
       "44559  [Casual, Indie, Strategy, Puzzle, Romance, Ear...   \n",
       "29896  [Early Access, Female Protagonist, Arcade, Fan...   \n",
       "...                                                  ...   \n",
       "8694   [Casual, RPG, Indie, Strategy, Adventure, Earl...   \n",
       "34510                                 [Indie, Adventure]   \n",
       "17132  [Automobile Sim, Simulation, Driving, Realisti...   \n",
       "32440  [Action, Indie, Shoot 'Em Up, Pixel Graphics, ...   \n",
       "12985                               [Action, Casual, VR]   \n",
       "\n",
       "                                             Screenshots  \\\n",
       "55598  https://cdn.akamai.steamstatic.com/steam/apps/...   \n",
       "10526  https://cdn.akamai.steamstatic.com/steam/apps/...   \n",
       "52484  https://cdn.akamai.steamstatic.com/steam/apps/...   \n",
       "44559  https://cdn.akamai.steamstatic.com/steam/apps/...   \n",
       "29896  https://cdn.akamai.steamstatic.com/steam/apps/...   \n",
       "...                                                  ...   \n",
       "8694   https://cdn.akamai.steamstatic.com/steam/apps/...   \n",
       "34510  https://cdn.akamai.steamstatic.com/steam/apps/...   \n",
       "17132  https://cdn.akamai.steamstatic.com/steam/apps/...   \n",
       "32440  https://cdn.akamai.steamstatic.com/steam/apps/...   \n",
       "12985  https://cdn.akamai.steamstatic.com/steam/apps/...   \n",
       "\n",
       "                                                  Movies  \\\n",
       "55598  http://cdn.akamai.steamstatic.com/steam/apps/2...   \n",
       "10526  http://cdn.akamai.steamstatic.com/steam/apps/2...   \n",
       "52484  http://cdn.akamai.steamstatic.com/steam/apps/2...   \n",
       "44559  http://cdn.akamai.steamstatic.com/steam/apps/2...   \n",
       "29896  http://cdn.akamai.steamstatic.com/steam/apps/2...   \n",
       "...                                                  ...   \n",
       "8694   http://cdn.akamai.steamstatic.com/steam/apps/2...   \n",
       "34510  http://cdn.akamai.steamstatic.com/steam/apps/2...   \n",
       "17132  http://cdn.akamai.steamstatic.com/steam/apps/2...   \n",
       "32440  http://cdn.akamai.steamstatic.com/steam/apps/2...   \n",
       "12985  http://cdn.akamai.steamstatic.com/steam/apps/2...   \n",
       "\n",
       "                                              tag_vector  \n",
       "55598  [1, 1, 1, 1, 1, 1, 1, 1, 1, 1, 1, 1, 1, 1, 1, ...  \n",
       "10526  [1, 0, 0, 1, 0, 0, 0, 1, 0, 1, 0, 0, 0, 0, 0, ...  \n",
       "52484  [1, 1, 0, 0, 0, 1, 0, 0, 0, 0, 0, 0, 0, 0, 0, ...  \n",
       "44559  [0, 0, 0, 0, 0, 0, 0, 0, 0, 0, 0, 0, 0, 0, 0, ...  \n",
       "29896  [0, 0, 0, 0, 0, 0, 0, 0, 0, 0, 0, 0, 0, 0, 0, ...  \n",
       "...                                                  ...  \n",
       "8694   [0, 0, 0, 0, 0, 0, 0, 0, 0, 1, 0, 0, 0, 0, 0, ...  \n",
       "34510  [0, 0, 0, 0, 0, 0, 0, 0, 0, 1, 0, 0, 0, 0, 0, ...  \n",
       "17132  [1, 1, 0, 0, 0, 0, 0, 0, 0, 1, 0, 0, 0, 0, 0, ...  \n",
       "32440  [1, 0, 0, 0, 0, 0, 0, 0, 0, 0, 0, 0, 0, 0, 0, ...  \n",
       "12985  [1, 0, 0, 0, 0, 0, 0, 0, 0, 0, 0, 0, 0, 0, 0, ...  \n",
       "\n",
       "[350 rows x 40 columns]"
      ]
     },
     "execution_count": 9,
     "metadata": {},
     "output_type": "execute_result"
    }
   ],
   "source": [
    "# Cria veror de tags no formato:\n",
    "# [0 1 0 1  0 .. 0]\n",
    "# Sendo as posições na lista determinadas por tags_map -> {Retro : x , ...}\n",
    "\n",
    "# Similaridade a ser determinada pela distância de Manhattan entre as Tags de dois jogos\n",
    "# Quanto menor a distância mais similares são os jogos.\n",
    "\n",
    "output = []\n",
    "for i, r in df_principal.iterrows():\n",
    "    tag_vector = [0 for i in range(n_tags)]\n",
    "    for tag in r.Tags:\n",
    "        tag_vector[tags_map[tag]] = 1\n",
    "    output.append(tag_vector)\n",
    "    \n",
    "# Cria coluna [0 0 1 ... 0 1] para indicar as tags de cada jogo\n",
    "df_principal['tag_vector'] = output\n",
    "df_principal"
   ]
  },
  {
   "cell_type": "code",
   "execution_count": null,
   "metadata": {},
   "outputs": [],
   "source": []
  },
  {
   "cell_type": "code",
   "execution_count": 10,
   "metadata": {},
   "outputs": [
    {
     "data": {
      "text/html": [
       "<div>\n",
       "<style scoped>\n",
       "    .dataframe tbody tr th:only-of-type {\n",
       "        vertical-align: middle;\n",
       "    }\n",
       "\n",
       "    .dataframe tbody tr th {\n",
       "        vertical-align: top;\n",
       "    }\n",
       "\n",
       "    .dataframe thead th {\n",
       "        text-align: right;\n",
       "    }\n",
       "</style>\n",
       "<table border=\"1\" class=\"dataframe\">\n",
       "  <thead>\n",
       "    <tr style=\"text-align: right;\">\n",
       "      <th></th>\n",
       "      <th>id</th>\n",
       "      <th>Tags</th>\n",
       "    </tr>\n",
       "  </thead>\n",
       "  <tbody>\n",
       "    <tr>\n",
       "      <th>0</th>\n",
       "      <td>0</td>\n",
       "      <td>[Action, First-Person, Horror, Action-Adventur...</td>\n",
       "    </tr>\n",
       "    <tr>\n",
       "      <th>1</th>\n",
       "      <td>1</td>\n",
       "      <td>[Colorful, Immersive, Exploration, Puzzle-Plat...</td>\n",
       "    </tr>\n",
       "    <tr>\n",
       "      <th>2</th>\n",
       "      <td>2</td>\n",
       "      <td>[Historical, Multiplayer, War, Strategy, Milit...</td>\n",
       "    </tr>\n",
       "    <tr>\n",
       "      <th>3</th>\n",
       "      <td>3</td>\n",
       "      <td>[Casual, Indie, Strategy, Puzzle, Romance, Ear...</td>\n",
       "    </tr>\n",
       "    <tr>\n",
       "      <th>4</th>\n",
       "      <td>4</td>\n",
       "      <td>[Early Access, Female Protagonist, Arcade, Fan...</td>\n",
       "    </tr>\n",
       "    <tr>\n",
       "      <th>...</th>\n",
       "      <td>...</td>\n",
       "      <td>...</td>\n",
       "    </tr>\n",
       "    <tr>\n",
       "      <th>345</th>\n",
       "      <td>345</td>\n",
       "      <td>[Casual, RPG, Indie, Strategy, Adventure, Earl...</td>\n",
       "    </tr>\n",
       "    <tr>\n",
       "      <th>346</th>\n",
       "      <td>346</td>\n",
       "      <td>[Indie, Adventure]</td>\n",
       "    </tr>\n",
       "    <tr>\n",
       "      <th>347</th>\n",
       "      <td>347</td>\n",
       "      <td>[Automobile Sim, Simulation, Driving, Realisti...</td>\n",
       "    </tr>\n",
       "    <tr>\n",
       "      <th>348</th>\n",
       "      <td>348</td>\n",
       "      <td>[Action, Indie, Shoot 'Em Up, Pixel Graphics, ...</td>\n",
       "    </tr>\n",
       "    <tr>\n",
       "      <th>349</th>\n",
       "      <td>349</td>\n",
       "      <td>[Action, Casual, VR]</td>\n",
       "    </tr>\n",
       "  </tbody>\n",
       "</table>\n",
       "<p>350 rows × 2 columns</p>\n",
       "</div>"
      ],
      "text/plain": [
       "      id                                               Tags\n",
       "0      0  [Action, First-Person, Horror, Action-Adventur...\n",
       "1      1  [Colorful, Immersive, Exploration, Puzzle-Plat...\n",
       "2      2  [Historical, Multiplayer, War, Strategy, Milit...\n",
       "3      3  [Casual, Indie, Strategy, Puzzle, Romance, Ear...\n",
       "4      4  [Early Access, Female Protagonist, Arcade, Fan...\n",
       "..   ...                                                ...\n",
       "345  345  [Casual, RPG, Indie, Strategy, Adventure, Earl...\n",
       "346  346                                 [Indie, Adventure]\n",
       "347  347  [Automobile Sim, Simulation, Driving, Realisti...\n",
       "348  348  [Action, Indie, Shoot 'Em Up, Pixel Graphics, ...\n",
       "349  349                               [Action, Casual, VR]\n",
       "\n",
       "[350 rows x 2 columns]"
      ]
     },
     "execution_count": 10,
     "metadata": {},
     "output_type": "execute_result"
    }
   ],
   "source": [
    "# Monta nó da rede (Caso jogos) - Tags como proximidade\n",
    "\n",
    "id = 0\n",
    "unique_name_values = df_principal['Name'].unique().tolist()\n",
    "node_data = []\n",
    "\n",
    "for _ , linha in  df_principal.iterrows():\n",
    "    \n",
    "    if(linha['Name'] in unique_name_values):\n",
    "        node_data.append([id ,linha['Tags']])\n",
    "#         unique_name_values.remove(linha['Name'])\n",
    "        id+=1\n",
    "\n",
    "df_nodes = pd.DataFrame(node_data,columns=['id','Tags']) \n",
    "df_nodes"
   ]
  },
  {
   "cell_type": "code",
   "execution_count": 11,
   "metadata": {},
   "outputs": [],
   "source": [
    "# Monta nó da rede (Caso Publishers)"
   ]
  },
  {
   "cell_type": "code",
   "execution_count": 12,
   "metadata": {},
   "outputs": [
    {
     "data": {
      "text/html": [
       "<div>\n",
       "<style scoped>\n",
       "    .dataframe tbody tr th:only-of-type {\n",
       "        vertical-align: middle;\n",
       "    }\n",
       "\n",
       "    .dataframe tbody tr th {\n",
       "        vertical-align: top;\n",
       "    }\n",
       "\n",
       "    .dataframe thead th {\n",
       "        text-align: right;\n",
       "    }\n",
       "</style>\n",
       "<table border=\"1\" class=\"dataframe\">\n",
       "  <thead>\n",
       "    <tr style=\"text-align: right;\">\n",
       "      <th></th>\n",
       "      <th>node_1</th>\n",
       "      <th>node_2</th>\n",
       "      <th>Tags_em_Comum</th>\n",
       "    </tr>\n",
       "  </thead>\n",
       "  <tbody>\n",
       "    <tr>\n",
       "      <th>0</th>\n",
       "      <td>0</td>\n",
       "      <td>1</td>\n",
       "      <td>5</td>\n",
       "    </tr>\n",
       "    <tr>\n",
       "      <th>1</th>\n",
       "      <td>0</td>\n",
       "      <td>2</td>\n",
       "      <td>4</td>\n",
       "    </tr>\n",
       "    <tr>\n",
       "      <th>2</th>\n",
       "      <td>0</td>\n",
       "      <td>3</td>\n",
       "      <td>1</td>\n",
       "    </tr>\n",
       "    <tr>\n",
       "      <th>3</th>\n",
       "      <td>0</td>\n",
       "      <td>4</td>\n",
       "      <td>0</td>\n",
       "    </tr>\n",
       "    <tr>\n",
       "      <th>4</th>\n",
       "      <td>0</td>\n",
       "      <td>5</td>\n",
       "      <td>4</td>\n",
       "    </tr>\n",
       "    <tr>\n",
       "      <th>...</th>\n",
       "      <td>...</td>\n",
       "      <td>...</td>\n",
       "      <td>...</td>\n",
       "    </tr>\n",
       "    <tr>\n",
       "      <th>61070</th>\n",
       "      <td>346</td>\n",
       "      <td>348</td>\n",
       "      <td>1</td>\n",
       "    </tr>\n",
       "    <tr>\n",
       "      <th>61071</th>\n",
       "      <td>346</td>\n",
       "      <td>349</td>\n",
       "      <td>0</td>\n",
       "    </tr>\n",
       "    <tr>\n",
       "      <th>61072</th>\n",
       "      <td>347</td>\n",
       "      <td>348</td>\n",
       "      <td>1</td>\n",
       "    </tr>\n",
       "    <tr>\n",
       "      <th>61073</th>\n",
       "      <td>347</td>\n",
       "      <td>349</td>\n",
       "      <td>2</td>\n",
       "    </tr>\n",
       "    <tr>\n",
       "      <th>61074</th>\n",
       "      <td>348</td>\n",
       "      <td>349</td>\n",
       "      <td>1</td>\n",
       "    </tr>\n",
       "  </tbody>\n",
       "</table>\n",
       "<p>61075 rows × 3 columns</p>\n",
       "</div>"
      ],
      "text/plain": [
       "       node_1  node_2  Tags_em_Comum\n",
       "0           0       1              5\n",
       "1           0       2              4\n",
       "2           0       3              1\n",
       "3           0       4              0\n",
       "4           0       5              4\n",
       "...       ...     ...            ...\n",
       "61070     346     348              1\n",
       "61071     346     349              0\n",
       "61072     347     348              1\n",
       "61073     347     349              2\n",
       "61074     348     349              1\n",
       "\n",
       "[61075 rows x 3 columns]"
      ]
     },
     "execution_count": 12,
     "metadata": {},
     "output_type": "execute_result"
    }
   ],
   "source": [
    "# Monta dataframe de relações:\n",
    "\n",
    "def count_tags(lista_tags_1, lista_tags_2):\n",
    "    \n",
    "    count_common_tags = 0\n",
    "        \n",
    "    for tag1 in lista_tags_1:\n",
    "        for tag2 in lista_tags_2:\n",
    "            \n",
    "            if(tag1 == tag2):\n",
    "                count_common_tags+=1\n",
    "    \n",
    "    return count_common_tags\n",
    "\n",
    "node_relation = []\n",
    "data_relation = []\n",
    "\n",
    "for _, linha1 in df_nodes.iterrows():\n",
    "    for _,linha2 in df_nodes.iterrows():\n",
    "        \n",
    "        proximidade = 0\n",
    "        \n",
    "        if(( [linha1['id'] , linha2['id']] not in node_relation) and \n",
    "           ([linha2['id'] , linha1['id']] not in node_relation) and (linha2['id'] != linha1['id'])):\n",
    "            \n",
    "            # Calculando TAGS em comum\n",
    "            proximidade = count_tags(linha1['Tags'], linha2['Tags'])\n",
    "            \n",
    "            #Adiciona valor na relação de nós:\n",
    "            node_relation.append([linha1['id'] , linha2['id']])\n",
    "        \n",
    "            data_relation.append([linha1['id'], linha2['id'], proximidade])\n",
    "            \n",
    "df_relation = pd.DataFrame(data_relation,columns=['node_1', 'node_2' , 'Tags_em_Comum'] ) \n",
    "df_relation"
   ]
  },
  {
   "cell_type": "code",
   "execution_count": 33,
   "metadata": {},
   "outputs": [
    {
     "data": {
      "text/plain": [
       "<AxesSubplot: >"
      ]
     },
     "execution_count": 33,
     "metadata": {},
     "output_type": "execute_result"
    },
    {
     "data": {
      "image/png": "[encoded data removed]",
      "text/plain": [
       "<Figure size 640x480 with 1 Axes>"
      ]
     },
     "metadata": {},
     "output_type": "display_data"
    }
   ],
   "source": [
    "# Quantos jogos possuem aquela quantidade de TAGS em comum\n",
    "df_relation['Tags_em_Comum'][df_relation['Tags_em_Comum'] != 0].value_counts().plot(kind='bar')"
   ]
  },
  {
   "cell_type": "code",
   "execution_count": 13,
   "metadata": {},
   "outputs": [],
   "source": [
    "# Criando nós:\n",
    "# Adiciona atributos aos nós\n",
    "\n",
    "# g.add_vp('Name')\n",
    "# g.add_vp('Publishers')\n",
    "# g.add_vp('Genres')\n",
    "\n",
    "aux = []\n",
    "for _, infos in df_nodes.iterrows():\n",
    "    \n",
    "    #Adiciona vértices:\n",
    "    infos = infos.astype(object)\n",
    "    g.add_vertex(infos['id'])\n",
    "    \n",
    "    # Adiciona atributos:\n",
    "    vertice = g.get_vertex(infos['id'])\n",
    "#     vertice['Name'] = infos['Name']\n",
    "#     vertice['Publishers'] = infos['Publishers']\n",
    "#     vertice['Genres'] = infos['Genres']"
   ]
  },
  {
   "cell_type": "code",
   "execution_count": 14,
   "metadata": {},
   "outputs": [],
   "source": [
    "threshold_proximidade = 5"
   ]
  },
  {
   "cell_type": "code",
   "execution_count": 15,
   "metadata": {},
   "outputs": [],
   "source": [
    "# Criando arestas:\n",
    "\n",
    "for _ , relacao in df_relation.iterrows():\n",
    "    \n",
    "    if(relacao['Tags_em_Comum'] > threshold_proximidade):\n",
    "        g.add_edge(relacao['node_1'], relacao['node_2'])"
   ]
  },
  {
   "cell_type": "code",
   "execution_count": 16,
   "metadata": {},
   "outputs": [
    {
     "name": "stdout",
     "output_type": "stream",
     "text": [
      "Número de vértices de g: 350\n",
      "Número de arestas de g: 2097\n",
      "Densidade: 0.03433483422022104\n"
     ]
    }
   ],
   "source": [
    "# Número de arestas, nós e densidade.\n",
    "\n",
    "n = g.num_vertices()\n",
    "m = g.num_edges()\n",
    "\n",
    "if g.is_directed():\n",
    "    max_edges = n * (n - 1)\n",
    "else:\n",
    "    max_edges = n * (n - 1) // 2\n",
    "d = m / max_edges\n",
    "\n",
    "# Checando se está de acordo com a documentação.\n",
    "print('Número de vértices de g:', n )\n",
    "print('Número de arestas de g:', m)\n",
    "print('Densidade:', d)"
   ]
  },
  {
   "cell_type": "code",
   "execution_count": 17,
   "metadata": {},
   "outputs": [
    {
     "data": {
      "text/plain": [
       "count    350.000000\n",
       "mean      11.982857\n",
       "std       15.297424\n",
       "min        0.000000\n",
       "25%        0.000000\n",
       "50%        5.000000\n",
       "75%       19.000000\n",
       "max       67.000000\n",
       "Name: degree, dtype: float64"
      ]
     },
     "execution_count": 17,
     "metadata": {},
     "output_type": "execute_result"
    }
   ],
   "source": [
    "# Propriedade dos vértices\n",
    "data = gt_data(g)\n",
    "\n",
    "# Calculando degrees\n",
    "in_degrees = []\n",
    "out_degrees = []\n",
    "degrees = []\n",
    "\n",
    "for v in g.all_vertices():\n",
    "    in_degrees.append(v.in_degree())\n",
    "for v in g.all_vertices():\n",
    "    out_degrees.append(v.out_degree())\n",
    "for v in g.all_vertices():\n",
    "    degrees.append(v.total_degree())\n",
    "    \n",
    "data['in_degree'] = in_degrees\n",
    "data['out_degree'] = out_degrees\n",
    "data['degree'] = degrees\n",
    "data['degree'].describe()"
   ]
  },
  {
   "cell_type": "code",
   "execution_count": 70,
   "metadata": {},
   "outputs": [
    {
     "data": {
      "text/plain": [
       "<AxesSubplot: xlabel='degree', ylabel='Count'>"
      ]
     },
     "execution_count": 70,
     "metadata": {},
     "output_type": "execute_result"
    },
    {
     "data": {
      "image/png": "[encoded data removed]",
      "text/plain": [
       "<Figure size 640x480 with 1 Axes>"
      ]
     },
     "metadata": {},
     "output_type": "display_data"
    }
   ],
   "source": [
    "sns.histplot(data['degree'])\n"
   ]
  },
  {
   "cell_type": "code",
   "execution_count": 61,
   "metadata": {
    "collapsed": true
   },
   "outputs": [
    {
     "data": {
      "text/html": [
       "\n",
       "        <div id=\"3D8zW2DfPBPkfWqr54Rs6V\"></div>\n",
       "        <script>netpixi.render('3D8zW2DfPBPkfWqr54Rs6V', '/projeto.net.gz', 1.7777777777777777, true, false, false);</script>\n",
       "    "
      ],
      "text/plain": [
       "<IPython.core.display.HTML object>"
      ]
     },
     "metadata": {},
     "output_type": "display_data"
    }
   ],
   "source": [
    "# ----- Salva e renderiza grafo -----\n",
    "gt_save(g, 'projeto.net.gz')\n",
    "\n",
    "r = netpixi.render('/projeto.net.gz')"
   ]
  },
  {
   "cell_type": "code",
   "execution_count": null,
   "metadata": {},
   "outputs": [],
   "source": [
    "# r.vertex_set_key('Publishers')"
   ]
  },
  {
   "cell_type": "code",
   "execution_count": 65,
   "metadata": {
    "collapsed": true
   },
   "outputs": [
    {
     "data": {
      "text/html": [
       "\n",
       "        <div id=\"fVwUfyxuuBDWvZsTkxzZk2\"></div>\n",
       "        <script>netpixi.render('fVwUfyxuuBDWvZsTkxzZk2', 'projeto_frunch.net.gz', 1.7777777777777777, true, false, false);</script>\n",
       "    "
      ],
      "text/plain": [
       "<IPython.core.display.HTML object>"
      ]
     },
     "metadata": {},
     "output_type": "display_data"
    }
   ],
   "source": [
    "#Algoritmo baseado em force-directed graph drawingan : Reingold Fruchterm\n",
    "g = gt_clean(g)\n",
    "m = gt_draw.sfdp_layout(g)\n",
    "gt_move(g, m)\n",
    "gt_save(g, 'projeto_frunch.net.gz')\n",
    "r = netpixi.render('projeto_frunch.net.gz');"
   ]
  },
  {
   "cell_type": "code",
   "execution_count": 66,
   "metadata": {},
   "outputs": [
    {
     "data": {
      "text/html": [
       "\n",
       "        <div id=\"2EVFJg8q3WUeEmsphtZvd7\"></div>\n",
       "        <script>netpixi.call('2EVFJg8q3WUeEmsphtZvd7', 'fVwUfyxuuBDWvZsTkxzZk2', 'changeGraph', 'eyJpZCI6IDAsICJ0eXBlIjogInZlcnRleCIsICJwcm9wcyI6IHsiY29sb3IiOiA2NTI4MH19Cg==');</script>\n",
       "    "
      ],
      "text/plain": [
       "<IPython.core.display.HTML object>"
      ]
     },
     "metadata": {},
     "output_type": "display_data"
    },
    {
     "data": {
      "text/html": [
       "\n",
       "        <div id=\"d3c6RbgMnxPKX8fgiktGAq\"></div>\n",
       "        <script>netpixi.call('d3c6RbgMnxPKX8fgiktGAq', 'fVwUfyxuuBDWvZsTkxzZk2', 'changeGraph', 'eyJpZCI6IDEsICJ0eXBlIjogInZlcnRleCIsICJwcm9wcyI6IHsiY29sb3IiOiA2NTI4MH19Cg==');</script>\n",
       "    "
      ],
      "text/plain": [
       "<IPython.core.display.HTML object>"
      ]
     },
     "metadata": {},
     "output_type": "display_data"
    },
    {
     "data": {
      "text/html": [
       "\n",
       "        <div id=\"CFs7LZCd8MmW4weFjbkpsV\"></div>\n",
       "        <script>netpixi.call('CFs7LZCd8MmW4weFjbkpsV', 'fVwUfyxuuBDWvZsTkxzZk2', 'changeGraph', 'eyJpZCI6IDIsICJ0eXBlIjogInZlcnRleCIsICJwcm9wcyI6IHsiY29sb3IiOiA2NTI4MH19Cg==');</script>\n",
       "    "
      ],
      "text/plain": [
       "<IPython.core.display.HTML object>"
      ]
     },
     "metadata": {},
     "output_type": "display_data"
    },
    {
     "data": {
      "text/html": [
       "\n",
       "        <div id=\"9RrLqYp3NvVLzmgr35KfMe\"></div>\n",
       "        <script>netpixi.call('9RrLqYp3NvVLzmgr35KfMe', 'fVwUfyxuuBDWvZsTkxzZk2', 'changeGraph', 'eyJpZCI6IDMsICJ0eXBlIjogInZlcnRleCIsICJwcm9wcyI6IHsiY29sb3IiOiA2NTI4MH19Cg==');</script>\n",
       "    "
      ],
      "text/plain": [
       "<IPython.core.display.HTML object>"
      ]
     },
     "metadata": {},
     "output_type": "display_data"
    },
    {
     "data": {
      "text/html": [
       "\n",
       "        <div id=\"A3QT5CcPxW6xpyymEBv3mk\"></div>\n",
       "        <script>netpixi.call('A3QT5CcPxW6xpyymEBv3mk', 'fVwUfyxuuBDWvZsTkxzZk2', 'changeGraph', 'eyJpZCI6IDQsICJ0eXBlIjogInZlcnRleCIsICJwcm9wcyI6IHsiY29sb3IiOiA2NTI4MH19Cg==');</script>\n",
       "    "
      ],
      "text/plain": [
       "<IPython.core.display.HTML object>"
      ]
     },
     "metadata": {},
     "output_type": "display_data"
    },
    {
     "data": {
      "text/html": [
       "\n",
       "        <div id=\"JyHKvJna8iP8YiKBot4gon\"></div>\n",
       "        <script>netpixi.call('JyHKvJna8iP8YiKBot4gon', 'fVwUfyxuuBDWvZsTkxzZk2', 'changeGraph', 'eyJpZCI6IDUsICJ0eXBlIjogInZlcnRleCIsICJwcm9wcyI6IHsiY29sb3IiOiA2NTI4MH19Cg==');</script>\n",
       "    "
      ],
      "text/plain": [
       "<IPython.core.display.HTML object>"
      ]
     },
     "metadata": {},
     "output_type": "display_data"
    },
    {
     "data": {
      "text/html": [
       "\n",
       "        <div id=\"YdL8uzKFFNKruVMo8phTgg\"></div>\n",
       "        <script>netpixi.call('YdL8uzKFFNKruVMo8phTgg', 'fVwUfyxuuBDWvZsTkxzZk2', 'changeGraph', 'eyJpZCI6IDYsICJ0eXBlIjogInZlcnRleCIsICJwcm9wcyI6IHsiY29sb3IiOiA2NTI4MH19Cg==');</script>\n",
       "    "
      ],
      "text/plain": [
       "<IPython.core.display.HTML object>"
      ]
     },
     "metadata": {},
     "output_type": "display_data"
    },
    {
     "data": {
      "text/html": [
       "\n",
       "        <div id=\"SmSQ8h5mwLx7kP24QXcWHA\"></div>\n",
       "        <script>netpixi.call('SmSQ8h5mwLx7kP24QXcWHA', 'fVwUfyxuuBDWvZsTkxzZk2', 'changeGraph', 'eyJpZCI6IDcsICJ0eXBlIjogInZlcnRleCIsICJwcm9wcyI6IHsiY29sb3IiOiAxNjcxMTY4MH19Cg==');</script>\n",
       "    "
      ],
      "text/plain": [
       "<IPython.core.display.HTML object>"
      ]
     },
     "metadata": {},
     "output_type": "display_data"
    },
    {
     "data": {
      "text/html": [
       "\n",
       "        <div id=\"gU25fGgbiochVJkHgqjeev\"></div>\n",
       "        <script>netpixi.call('gU25fGgbiochVJkHgqjeev', 'fVwUfyxuuBDWvZsTkxzZk2', 'changeGraph', 'eyJpZCI6IDgsICJ0eXBlIjogInZlcnRleCIsICJwcm9wcyI6IHsiY29sb3IiOiA2NTI4MH19Cg==');</script>\n",
       "    "
      ],
      "text/plain": [
       "<IPython.core.display.HTML object>"
      ]
     },
     "metadata": {},
     "output_type": "display_data"
    },
    {
     "data": {
      "text/html": [
       "\n",
       "        <div id=\"CC5rEj7cyatcQ5nYPPtx8x\"></div>\n",
       "        <script>netpixi.call('CC5rEj7cyatcQ5nYPPtx8x', 'fVwUfyxuuBDWvZsTkxzZk2', 'changeGraph', 'eyJpZCI6IDksICJ0eXBlIjogInZlcnRleCIsICJwcm9wcyI6IHsiY29sb3IiOiA2NTI4MH19Cg==');</script>\n",
       "    "
      ],
      "text/plain": [
       "<IPython.core.display.HTML object>"
      ]
     },
     "metadata": {},
     "output_type": "display_data"
    },
    {
     "data": {
      "text/html": [
       "\n",
       "        <div id=\"Fhr7uv7JanAEu27Wjq8D3C\"></div>\n",
       "        <script>netpixi.call('Fhr7uv7JanAEu27Wjq8D3C', 'fVwUfyxuuBDWvZsTkxzZk2', 'changeGraph', 'eyJpZCI6IDEwLCAidHlwZSI6ICJ2ZXJ0ZXgiLCAicHJvcHMiOiB7ImNvbG9yIjogNjUyODB9fQo=');</script>\n",
       "    "
      ],
      "text/plain": [
       "<IPython.core.display.HTML object>"
      ]
     },
     "metadata": {},
     "output_type": "display_data"
    },
    {
     "data": {
      "text/html": [
       "\n",
       "        <div id=\"d7CyARuLrFxZ5qYmxpzEjX\"></div>\n",
       "        <script>netpixi.call('d7CyARuLrFxZ5qYmxpzEjX', 'fVwUfyxuuBDWvZsTkxzZk2', 'changeGraph', 'eyJpZCI6IDExLCAidHlwZSI6ICJ2ZXJ0ZXgiLCAicHJvcHMiOiB7ImNvbG9yIjogNjUyODB9fQo=');</script>\n",
       "    "
      ],
      "text/plain": [
       "<IPython.core.display.HTML object>"
      ]
     },
     "metadata": {},
     "output_type": "display_data"
    },
    {
     "data": {
      "text/html": [
       "\n",
       "        <div id=\"hAfhNh8WzQYv2ZNnEnF9h4\"></div>\n",
       "        <script>netpixi.call('hAfhNh8WzQYv2ZNnEnF9h4', 'fVwUfyxuuBDWvZsTkxzZk2', 'changeGraph', 'eyJpZCI6IDEyLCAidHlwZSI6ICJ2ZXJ0ZXgiLCAicHJvcHMiOiB7ImNvbG9yIjogNjUyODB9fQo=');</script>\n",
       "    "
      ],
      "text/plain": [
       "<IPython.core.display.HTML object>"
      ]
     },
     "metadata": {},
     "output_type": "display_data"
    },
    {
     "data": {
      "text/html": [
       "\n",
       "        <div id=\"7FwcBZbedY9J9FjeetdhYV\"></div>\n",
       "        <script>netpixi.call('7FwcBZbedY9J9FjeetdhYV', 'fVwUfyxuuBDWvZsTkxzZk2', 'changeGraph', 'eyJpZCI6IDEzLCAidHlwZSI6ICJ2ZXJ0ZXgiLCAicHJvcHMiOiB7ImNvbG9yIjogNjUyODB9fQo=');</script>\n",
       "    "
      ],
      "text/plain": [
       "<IPython.core.display.HTML object>"
      ]
     },
     "metadata": {},
     "output_type": "display_data"
    },
    {
     "data": {
      "text/html": [
       "\n",
       "        <div id=\"2gwyUFCcfc7ef3KTZLZMLF\"></div>\n",
       "        <script>netpixi.call('2gwyUFCcfc7ef3KTZLZMLF', 'fVwUfyxuuBDWvZsTkxzZk2', 'changeGraph', 'eyJpZCI6IDE0LCAidHlwZSI6ICJ2ZXJ0ZXgiLCAicHJvcHMiOiB7ImNvbG9yIjogNjUyODB9fQo=');</script>\n",
       "    "
      ],
      "text/plain": [
       "<IPython.core.display.HTML object>"
      ]
     },
     "metadata": {},
     "output_type": "display_data"
    },
    {
     "data": {
      "text/html": [
       "\n",
       "        <div id=\"6LbLhJo7usygxNTarbDDPU\"></div>\n",
       "        <script>netpixi.call('6LbLhJo7usygxNTarbDDPU', 'fVwUfyxuuBDWvZsTkxzZk2', 'changeGraph', 'eyJpZCI6IDE1LCAidHlwZSI6ICJ2ZXJ0ZXgiLCAicHJvcHMiOiB7ImNvbG9yIjogNjUyODB9fQo=');</script>\n",
       "    "
      ],
      "text/plain": [
       "<IPython.core.display.HTML object>"
      ]
     },
     "metadata": {},
     "output_type": "display_data"
    },
    {
     "data": {
      "text/html": [
       "\n",
       "        <div id=\"ZYD34PujvGX5qeJUqtzfMe\"></div>\n",
       "        <script>netpixi.call('ZYD34PujvGX5qeJUqtzfMe', 'fVwUfyxuuBDWvZsTkxzZk2', 'changeGraph', 'eyJpZCI6IDE2LCAidHlwZSI6ICJ2ZXJ0ZXgiLCAicHJvcHMiOiB7ImNvbG9yIjogMTY3MTE2ODB9fQo=');</script>\n",
       "    "
      ],
      "text/plain": [
       "<IPython.core.display.HTML object>"
      ]
     },
     "metadata": {},
     "output_type": "display_data"
    },
    {
     "data": {
      "text/html": [
       "\n",
       "        <div id=\"jRsNBvsERrTfbcWoT8WGmp\"></div>\n",
       "        <script>netpixi.call('jRsNBvsERrTfbcWoT8WGmp', 'fVwUfyxuuBDWvZsTkxzZk2', 'changeGraph', 'eyJpZCI6IDE3LCAidHlwZSI6ICJ2ZXJ0ZXgiLCAicHJvcHMiOiB7ImNvbG9yIjogNjUyODB9fQo=');</script>\n",
       "    "
      ],
      "text/plain": [
       "<IPython.core.display.HTML object>"
      ]
     },
     "metadata": {},
     "output_type": "display_data"
    },
    {
     "data": {
      "text/html": [
       "\n",
       "        <div id=\"WXytgoyNaqjrC7UyTwsyYA\"></div>\n",
       "        <script>netpixi.call('WXytgoyNaqjrC7UyTwsyYA', 'fVwUfyxuuBDWvZsTkxzZk2', 'changeGraph', 'eyJpZCI6IDE4LCAidHlwZSI6ICJ2ZXJ0ZXgiLCAicHJvcHMiOiB7ImNvbG9yIjogNjUyODB9fQo=');</script>\n",
       "    "
      ],
      "text/plain": [
       "<IPython.core.display.HTML object>"
      ]
     },
     "metadata": {},
     "output_type": "display_data"
    },
    {
     "data": {
      "text/html": [
       "\n",
       "        <div id=\"TWJXEP8iiiXgCYW4oYWFB4\"></div>\n",
       "        <script>netpixi.call('TWJXEP8iiiXgCYW4oYWFB4', 'fVwUfyxuuBDWvZsTkxzZk2', 'changeGraph', 'eyJpZCI6IDE5LCAidHlwZSI6ICJ2ZXJ0ZXgiLCAicHJvcHMiOiB7ImNvbG9yIjogMTY3MTE2ODB9fQo=');</script>\n",
       "    "
      ],
      "text/plain": [
       "<IPython.core.display.HTML object>"
      ]
     },
     "metadata": {},
     "output_type": "display_data"
    },
    {
     "data": {
      "text/html": [
       "\n",
       "        <div id=\"M66t4kaFg4bvKrYQncFUvF\"></div>\n",
       "        <script>netpixi.call('M66t4kaFg4bvKrYQncFUvF', 'fVwUfyxuuBDWvZsTkxzZk2', 'changeGraph', 'eyJpZCI6IDIwLCAidHlwZSI6ICJ2ZXJ0ZXgiLCAicHJvcHMiOiB7ImNvbG9yIjogNjUyODB9fQo=');</script>\n",
       "    "
      ],
      "text/plain": [
       "<IPython.core.display.HTML object>"
      ]
     },
     "metadata": {},
     "output_type": "display_data"
    },
    {
     "data": {
      "text/html": [
       "\n",
       "        <div id=\"niSJedsTUrtv3iPMmEYJN6\"></div>\n",
       "        <script>netpixi.call('niSJedsTUrtv3iPMmEYJN6', 'fVwUfyxuuBDWvZsTkxzZk2', 'changeGraph', 'eyJpZCI6IDIxLCAidHlwZSI6ICJ2ZXJ0ZXgiLCAicHJvcHMiOiB7ImNvbG9yIjogMTY3MTE2ODB9fQo=');</script>\n",
       "    "
      ],
      "text/plain": [
       "<IPython.core.display.HTML object>"
      ]
     },
     "metadata": {},
     "output_type": "display_data"
    },
    {
     "data": {
      "text/html": [
       "\n",
       "        <div id=\"dDbv3qYtZ8dPfdibYiQoen\"></div>\n",
       "        <script>netpixi.call('dDbv3qYtZ8dPfdibYiQoen', 'fVwUfyxuuBDWvZsTkxzZk2', 'changeGraph', 'eyJpZCI6IDIyLCAidHlwZSI6ICJ2ZXJ0ZXgiLCAicHJvcHMiOiB7ImNvbG9yIjogNjUyODB9fQo=');</script>\n",
       "    "
      ],
      "text/plain": [
       "<IPython.core.display.HTML object>"
      ]
     },
     "metadata": {},
     "output_type": "display_data"
    },
    {
     "data": {
      "text/html": [
       "\n",
       "        <div id=\"hb4fu7a8gCTNxmgVRMaguN\"></div>\n",
       "        <script>netpixi.call('hb4fu7a8gCTNxmgVRMaguN', 'fVwUfyxuuBDWvZsTkxzZk2', 'changeGraph', 'eyJpZCI6IDIzLCAidHlwZSI6ICJ2ZXJ0ZXgiLCAicHJvcHMiOiB7ImNvbG9yIjogNjUyODB9fQo=');</script>\n",
       "    "
      ],
      "text/plain": [
       "<IPython.core.display.HTML object>"
      ]
     },
     "metadata": {},
     "output_type": "display_data"
    },
    {
     "data": {
      "text/html": [
       "\n",
       "        <div id=\"dXffyGnpMgNq5G2X6UmSWy\"></div>\n",
       "        <script>netpixi.call('dXffyGnpMgNq5G2X6UmSWy', 'fVwUfyxuuBDWvZsTkxzZk2', 'changeGraph', 'eyJpZCI6IDI0LCAidHlwZSI6ICJ2ZXJ0ZXgiLCAicHJvcHMiOiB7ImNvbG9yIjogMTY3MTE2ODB9fQo=');</script>\n",
       "    "
      ],
      "text/plain": [
       "<IPython.core.display.HTML object>"
      ]
     },
     "metadata": {},
     "output_type": "display_data"
    },
    {
     "data": {
      "text/html": [
       "\n",
       "        <div id=\"iPxmBwjKbfLrcNvrPQKS8E\"></div>\n",
       "        <script>netpixi.call('iPxmBwjKbfLrcNvrPQKS8E', 'fVwUfyxuuBDWvZsTkxzZk2', 'changeGraph', 'eyJpZCI6IDI1LCAidHlwZSI6ICJ2ZXJ0ZXgiLCAicHJvcHMiOiB7ImNvbG9yIjogMTY3MTE2ODB9fQo=');</script>\n",
       "    "
      ],
      "text/plain": [
       "<IPython.core.display.HTML object>"
      ]
     },
     "metadata": {},
     "output_type": "display_data"
    },
    {
     "data": {
      "text/html": [
       "\n",
       "        <div id=\"CPKxBFTGQzZwhEMdnujdMf\"></div>\n",
       "        <script>netpixi.call('CPKxBFTGQzZwhEMdnujdMf', 'fVwUfyxuuBDWvZsTkxzZk2', 'changeGraph', 'eyJpZCI6IDI2LCAidHlwZSI6ICJ2ZXJ0ZXgiLCAicHJvcHMiOiB7ImNvbG9yIjogNjUyODB9fQo=');</script>\n",
       "    "
      ],
      "text/plain": [
       "<IPython.core.display.HTML object>"
      ]
     },
     "metadata": {},
     "output_type": "display_data"
    },
    {
     "data": {
      "text/html": [
       "\n",
       "        <div id=\"d89vhC4arj9rbFvpjoxBVZ\"></div>\n",
       "        <script>netpixi.call('d89vhC4arj9rbFvpjoxBVZ', 'fVwUfyxuuBDWvZsTkxzZk2', 'changeGraph', 'eyJpZCI6IDI3LCAidHlwZSI6ICJ2ZXJ0ZXgiLCAicHJvcHMiOiB7ImNvbG9yIjogNjUyODB9fQo=');</script>\n",
       "    "
      ],
      "text/plain": [
       "<IPython.core.display.HTML object>"
      ]
     },
     "metadata": {},
     "output_type": "display_data"
    },
    {
     "data": {
      "text/html": [
       "\n",
       "        <div id=\"cNFERh26xC8ePHsfcfV3F2\"></div>\n",
       "        <script>netpixi.call('cNFERh26xC8ePHsfcfV3F2', 'fVwUfyxuuBDWvZsTkxzZk2', 'changeGraph', 'eyJpZCI6IDI4LCAidHlwZSI6ICJ2ZXJ0ZXgiLCAicHJvcHMiOiB7ImNvbG9yIjogMTY3MTE2ODB9fQo=');</script>\n",
       "    "
      ],
      "text/plain": [
       "<IPython.core.display.HTML object>"
      ]
     },
     "metadata": {},
     "output_type": "display_data"
    },
    {
     "data": {
      "text/html": [
       "\n",
       "        <div id=\"7wGDTCjTSWzgJJWWNLnVVF\"></div>\n",
       "        <script>netpixi.call('7wGDTCjTSWzgJJWWNLnVVF', 'fVwUfyxuuBDWvZsTkxzZk2', 'changeGraph', 'eyJpZCI6IDI5LCAidHlwZSI6ICJ2ZXJ0ZXgiLCAicHJvcHMiOiB7ImNvbG9yIjogMTY3MTE2ODB9fQo=');</script>\n",
       "    "
      ],
      "text/plain": [
       "<IPython.core.display.HTML object>"
      ]
     },
     "metadata": {},
     "output_type": "display_data"
    },
    {
     "data": {
      "text/html": [
       "\n",
       "        <div id=\"NkWsFcPd7krk8D8MAoyZXm\"></div>\n",
       "        <script>netpixi.call('NkWsFcPd7krk8D8MAoyZXm', 'fVwUfyxuuBDWvZsTkxzZk2', 'changeGraph', 'eyJpZCI6IDMwLCAidHlwZSI6ICJ2ZXJ0ZXgiLCAicHJvcHMiOiB7ImNvbG9yIjogNjUyODB9fQo=');</script>\n",
       "    "
      ],
      "text/plain": [
       "<IPython.core.display.HTML object>"
      ]
     },
     "metadata": {},
     "output_type": "display_data"
    },
    {
     "data": {
      "text/html": [
       "\n",
       "        <div id=\"78cbXvF9ANcqyNToQcfC4k\"></div>\n",
       "        <script>netpixi.call('78cbXvF9ANcqyNToQcfC4k', 'fVwUfyxuuBDWvZsTkxzZk2', 'changeGraph', 'eyJpZCI6IDMxLCAidHlwZSI6ICJ2ZXJ0ZXgiLCAicHJvcHMiOiB7ImNvbG9yIjogMTY3MTE2ODB9fQo=');</script>\n",
       "    "
      ],
      "text/plain": [
       "<IPython.core.display.HTML object>"
      ]
     },
     "metadata": {},
     "output_type": "display_data"
    },
    {
     "data": {
      "text/html": [
       "\n",
       "        <div id=\"bDgPWVxRW937g4CuzftNWh\"></div>\n",
       "        <script>netpixi.call('bDgPWVxRW937g4CuzftNWh', 'fVwUfyxuuBDWvZsTkxzZk2', 'changeGraph', 'eyJpZCI6IDMyLCAidHlwZSI6ICJ2ZXJ0ZXgiLCAicHJvcHMiOiB7ImNvbG9yIjogNjUyODB9fQo=');</script>\n",
       "    "
      ],
      "text/plain": [
       "<IPython.core.display.HTML object>"
      ]
     },
     "metadata": {},
     "output_type": "display_data"
    },
    {
     "data": {
      "text/html": [
       "\n",
       "        <div id=\"SH3J7CwYQ5SnoPAWacbnDK\"></div>\n",
       "        <script>netpixi.call('SH3J7CwYQ5SnoPAWacbnDK', 'fVwUfyxuuBDWvZsTkxzZk2', 'changeGraph', 'eyJpZCI6IDMzLCAidHlwZSI6ICJ2ZXJ0ZXgiLCAicHJvcHMiOiB7ImNvbG9yIjogNjUyODB9fQo=');</script>\n",
       "    "
      ],
      "text/plain": [
       "<IPython.core.display.HTML object>"
      ]
     },
     "metadata": {},
     "output_type": "display_data"
    },
    {
     "data": {
      "text/html": [
       "\n",
       "        <div id=\"YJpRL2ia7zWZ5pzHoVL3vW\"></div>\n",
       "        <script>netpixi.call('YJpRL2ia7zWZ5pzHoVL3vW', 'fVwUfyxuuBDWvZsTkxzZk2', 'changeGraph', 'eyJpZCI6IDM0LCAidHlwZSI6ICJ2ZXJ0ZXgiLCAicHJvcHMiOiB7ImNvbG9yIjogNjUyODB9fQo=');</script>\n",
       "    "
      ],
      "text/plain": [
       "<IPython.core.display.HTML object>"
      ]
     },
     "metadata": {},
     "output_type": "display_data"
    },
    {
     "data": {
      "text/html": [
       "\n",
       "        <div id=\"34kWgLm5thQD3XjGaazJDG\"></div>\n",
       "        <script>netpixi.call('34kWgLm5thQD3XjGaazJDG', 'fVwUfyxuuBDWvZsTkxzZk2', 'changeGraph', 'eyJpZCI6IDM1LCAidHlwZSI6ICJ2ZXJ0ZXgiLCAicHJvcHMiOiB7ImNvbG9yIjogMTY3MTE2ODB9fQo=');</script>\n",
       "    "
      ],
      "text/plain": [
       "<IPython.core.display.HTML object>"
      ]
     },
     "metadata": {},
     "output_type": "display_data"
    },
    {
     "data": {
      "text/html": [
       "\n",
       "        <div id=\"C4r4o8C4LDkcSZyjUuaGKj\"></div>\n",
       "        <script>netpixi.call('C4r4o8C4LDkcSZyjUuaGKj', 'fVwUfyxuuBDWvZsTkxzZk2', 'changeGraph', 'eyJpZCI6IDM2LCAidHlwZSI6ICJ2ZXJ0ZXgiLCAicHJvcHMiOiB7ImNvbG9yIjogMTY3MTE2ODB9fQo=');</script>\n",
       "    "
      ],
      "text/plain": [
       "<IPython.core.display.HTML object>"
      ]
     },
     "metadata": {},
     "output_type": "display_data"
    },
    {
     "data": {
      "text/html": [
       "\n",
       "        <div id=\"hxTFGfWfYMvjy8NUxeyNCM\"></div>\n",
       "        <script>netpixi.call('hxTFGfWfYMvjy8NUxeyNCM', 'fVwUfyxuuBDWvZsTkxzZk2', 'changeGraph', 'eyJpZCI6IDM3LCAidHlwZSI6ICJ2ZXJ0ZXgiLCAicHJvcHMiOiB7ImNvbG9yIjogMTY3MTE2ODB9fQo=');</script>\n",
       "    "
      ],
      "text/plain": [
       "<IPython.core.display.HTML object>"
      ]
     },
     "metadata": {},
     "output_type": "display_data"
    },
    {
     "data": {
      "text/html": [
       "\n",
       "        <div id=\"VUujbXSicrrMugZNCVmGwY\"></div>\n",
       "        <script>netpixi.call('VUujbXSicrrMugZNCVmGwY', 'fVwUfyxuuBDWvZsTkxzZk2', 'changeGraph', 'eyJpZCI6IDM4LCAidHlwZSI6ICJ2ZXJ0ZXgiLCAicHJvcHMiOiB7ImNvbG9yIjogNjUyODB9fQo=');</script>\n",
       "    "
      ],
      "text/plain": [
       "<IPython.core.display.HTML object>"
      ]
     },
     "metadata": {},
     "output_type": "display_data"
    },
    {
     "data": {
      "text/html": [
       "\n",
       "        <div id=\"ZPLigJGr6uPAeUXCzRoMMc\"></div>\n",
       "        <script>netpixi.call('ZPLigJGr6uPAeUXCzRoMMc', 'fVwUfyxuuBDWvZsTkxzZk2', 'changeGraph', 'eyJpZCI6IDM5LCAidHlwZSI6ICJ2ZXJ0ZXgiLCAicHJvcHMiOiB7ImNvbG9yIjogNjUyODB9fQo=');</script>\n",
       "    "
      ],
      "text/plain": [
       "<IPython.core.display.HTML object>"
      ]
     },
     "metadata": {},
     "output_type": "display_data"
    },
    {
     "data": {
      "text/html": [
       "\n",
       "        <div id=\"gLDg2m3GLcKdEPGMofWRFx\"></div>\n",
       "        <script>netpixi.call('gLDg2m3GLcKdEPGMofWRFx', 'fVwUfyxuuBDWvZsTkxzZk2', 'changeGraph', 'eyJpZCI6IDQwLCAidHlwZSI6ICJ2ZXJ0ZXgiLCAicHJvcHMiOiB7ImNvbG9yIjogMTY3MTE2ODB9fQo=');</script>\n",
       "    "
      ],
      "text/plain": [
       "<IPython.core.display.HTML object>"
      ]
     },
     "metadata": {},
     "output_type": "display_data"
    },
    {
     "data": {
      "text/html": [
       "\n",
       "        <div id=\"c9tbvwZz2UgnXchA446fbs\"></div>\n",
       "        <script>netpixi.call('c9tbvwZz2UgnXchA446fbs', 'fVwUfyxuuBDWvZsTkxzZk2', 'changeGraph', 'eyJpZCI6IDQxLCAidHlwZSI6ICJ2ZXJ0ZXgiLCAicHJvcHMiOiB7ImNvbG9yIjogMTY3MTE2ODB9fQo=');</script>\n",
       "    "
      ],
      "text/plain": [
       "<IPython.core.display.HTML object>"
      ]
     },
     "metadata": {},
     "output_type": "display_data"
    },
    {
     "data": {
      "text/html": [
       "\n",
       "        <div id=\"ftTNmKetzgtnVxPMSnAjob\"></div>\n",
       "        <script>netpixi.call('ftTNmKetzgtnVxPMSnAjob', 'fVwUfyxuuBDWvZsTkxzZk2', 'changeGraph', 'eyJpZCI6IDQyLCAidHlwZSI6ICJ2ZXJ0ZXgiLCAicHJvcHMiOiB7ImNvbG9yIjogNjUyODB9fQo=');</script>\n",
       "    "
      ],
      "text/plain": [
       "<IPython.core.display.HTML object>"
      ]
     },
     "metadata": {},
     "output_type": "display_data"
    },
    {
     "data": {
      "text/html": [
       "\n",
       "        <div id=\"NcusQXUq3yRbToxwNDMZiK\"></div>\n",
       "        <script>netpixi.call('NcusQXUq3yRbToxwNDMZiK', 'fVwUfyxuuBDWvZsTkxzZk2', 'changeGraph', 'eyJpZCI6IDQzLCAidHlwZSI6ICJ2ZXJ0ZXgiLCAicHJvcHMiOiB7ImNvbG9yIjogMTY3MTE2ODB9fQo=');</script>\n",
       "    "
      ],
      "text/plain": [
       "<IPython.core.display.HTML object>"
      ]
     },
     "metadata": {},
     "output_type": "display_data"
    },
    {
     "data": {
      "text/html": [
       "\n",
       "        <div id=\"S6mVrzg6otBwhQGRCWxdEK\"></div>\n",
       "        <script>netpixi.call('S6mVrzg6otBwhQGRCWxdEK', 'fVwUfyxuuBDWvZsTkxzZk2', 'changeGraph', 'eyJpZCI6IDQ0LCAidHlwZSI6ICJ2ZXJ0ZXgiLCAicHJvcHMiOiB7ImNvbG9yIjogNjUyODB9fQo=');</script>\n",
       "    "
      ],
      "text/plain": [
       "<IPython.core.display.HTML object>"
      ]
     },
     "metadata": {},
     "output_type": "display_data"
    },
    {
     "data": {
      "text/html": [
       "\n",
       "        <div id=\"8ZQZ3ELJi8ZJQc6kgTUjBM\"></div>\n",
       "        <script>netpixi.call('8ZQZ3ELJi8ZJQc6kgTUjBM', 'fVwUfyxuuBDWvZsTkxzZk2', 'changeGraph', 'eyJpZCI6IDQ1LCAidHlwZSI6ICJ2ZXJ0ZXgiLCAicHJvcHMiOiB7ImNvbG9yIjogMTY3MTE2ODB9fQo=');</script>\n",
       "    "
      ],
      "text/plain": [
       "<IPython.core.display.HTML object>"
      ]
     },
     "metadata": {},
     "output_type": "display_data"
    },
    {
     "data": {
      "text/html": [
       "\n",
       "        <div id=\"XgsBcp2WpPD7KzEe7riv5p\"></div>\n",
       "        <script>netpixi.call('XgsBcp2WpPD7KzEe7riv5p', 'fVwUfyxuuBDWvZsTkxzZk2', 'changeGraph', 'eyJpZCI6IDQ2LCAidHlwZSI6ICJ2ZXJ0ZXgiLCAicHJvcHMiOiB7ImNvbG9yIjogNjUyODB9fQo=');</script>\n",
       "    "
      ],
      "text/plain": [
       "<IPython.core.display.HTML object>"
      ]
     },
     "metadata": {},
     "output_type": "display_data"
    },
    {
     "data": {
      "text/html": [
       "\n",
       "        <div id=\"LZbQkLQdTdXzVQEFuC4ZT5\"></div>\n",
       "        <script>netpixi.call('LZbQkLQdTdXzVQEFuC4ZT5', 'fVwUfyxuuBDWvZsTkxzZk2', 'changeGraph', 'eyJpZCI6IDQ3LCAidHlwZSI6ICJ2ZXJ0ZXgiLCAicHJvcHMiOiB7ImNvbG9yIjogMTY3MTE2ODB9fQo=');</script>\n",
       "    "
      ],
      "text/plain": [
       "<IPython.core.display.HTML object>"
      ]
     },
     "metadata": {},
     "output_type": "display_data"
    },
    {
     "data": {
      "text/html": [
       "\n",
       "        <div id=\"PFFQwgoJuxiCsDfD5NxTqE\"></div>\n",
       "        <script>netpixi.call('PFFQwgoJuxiCsDfD5NxTqE', 'fVwUfyxuuBDWvZsTkxzZk2', 'changeGraph', 'eyJpZCI6IDQ4LCAidHlwZSI6ICJ2ZXJ0ZXgiLCAicHJvcHMiOiB7ImNvbG9yIjogNjUyODB9fQo=');</script>\n",
       "    "
      ],
      "text/plain": [
       "<IPython.core.display.HTML object>"
      ]
     },
     "metadata": {},
     "output_type": "display_data"
    },
    {
     "data": {
      "text/html": [
       "\n",
       "        <div id=\"QRmyufeVLp8mmazR9iNN8J\"></div>\n",
       "        <script>netpixi.call('QRmyufeVLp8mmazR9iNN8J', 'fVwUfyxuuBDWvZsTkxzZk2', 'changeGraph', 'eyJpZCI6IDQ5LCAidHlwZSI6ICJ2ZXJ0ZXgiLCAicHJvcHMiOiB7ImNvbG9yIjogMTY3MTE2ODB9fQo=');</script>\n",
       "    "
      ],
      "text/plain": [
       "<IPython.core.display.HTML object>"
      ]
     },
     "metadata": {},
     "output_type": "display_data"
    },
    {
     "data": {
      "text/html": [
       "\n",
       "        <div id=\"FVuJexrRQrCN6oSRE3A8rJ\"></div>\n",
       "        <script>netpixi.call('FVuJexrRQrCN6oSRE3A8rJ', 'fVwUfyxuuBDWvZsTkxzZk2', 'changeGraph', 'eyJpZCI6IDUwLCAidHlwZSI6ICJ2ZXJ0ZXgiLCAicHJvcHMiOiB7ImNvbG9yIjogMTY3MTE2ODB9fQo=');</script>\n",
       "    "
      ],
      "text/plain": [
       "<IPython.core.display.HTML object>"
      ]
     },
     "metadata": {},
     "output_type": "display_data"
    },
    {
     "data": {
      "text/html": [
       "\n",
       "        <div id=\"9BQXWKjHQYGZcLEQ6syBMw\"></div>\n",
       "        <script>netpixi.call('9BQXWKjHQYGZcLEQ6syBMw', 'fVwUfyxuuBDWvZsTkxzZk2', 'changeGraph', 'eyJpZCI6IDUxLCAidHlwZSI6ICJ2ZXJ0ZXgiLCAicHJvcHMiOiB7ImNvbG9yIjogMTY3MTE2ODB9fQo=');</script>\n",
       "    "
      ],
      "text/plain": [
       "<IPython.core.display.HTML object>"
      ]
     },
     "metadata": {},
     "output_type": "display_data"
    },
    {
     "data": {
      "text/html": [
       "\n",
       "        <div id=\"nrCogVnKRH5Xh37KQEm8Ue\"></div>\n",
       "        <script>netpixi.call('nrCogVnKRH5Xh37KQEm8Ue', 'fVwUfyxuuBDWvZsTkxzZk2', 'changeGraph', 'eyJpZCI6IDUyLCAidHlwZSI6ICJ2ZXJ0ZXgiLCAicHJvcHMiOiB7ImNvbG9yIjogNjUyODB9fQo=');</script>\n",
       "    "
      ],
      "text/plain": [
       "<IPython.core.display.HTML object>"
      ]
     },
     "metadata": {},
     "output_type": "display_data"
    },
    {
     "data": {
      "text/html": [
       "\n",
       "        <div id=\"2E6wuFw6AAc8WGsw8V74xr\"></div>\n",
       "        <script>netpixi.call('2E6wuFw6AAc8WGsw8V74xr', 'fVwUfyxuuBDWvZsTkxzZk2', 'changeGraph', 'eyJpZCI6IDUzLCAidHlwZSI6ICJ2ZXJ0ZXgiLCAicHJvcHMiOiB7ImNvbG9yIjogNjUyODB9fQo=');</script>\n",
       "    "
      ],
      "text/plain": [
       "<IPython.core.display.HTML object>"
      ]
     },
     "metadata": {},
     "output_type": "display_data"
    },
    {
     "data": {
      "text/html": [
       "\n",
       "        <div id=\"kfk9DDam6gNteizYDgFEyQ\"></div>\n",
       "        <script>netpixi.call('kfk9DDam6gNteizYDgFEyQ', 'fVwUfyxuuBDWvZsTkxzZk2', 'changeGraph', 'eyJpZCI6IDU0LCAidHlwZSI6ICJ2ZXJ0ZXgiLCAicHJvcHMiOiB7ImNvbG9yIjogMTY3MTE2ODB9fQo=');</script>\n",
       "    "
      ],
      "text/plain": [
       "<IPython.core.display.HTML object>"
      ]
     },
     "metadata": {},
     "output_type": "display_data"
    },
    {
     "data": {
      "text/html": [
       "\n",
       "        <div id=\"KdaNPDWPAzgbcfL3UrGznb\"></div>\n",
       "        <script>netpixi.call('KdaNPDWPAzgbcfL3UrGznb', 'fVwUfyxuuBDWvZsTkxzZk2', 'changeGraph', 'eyJpZCI6IDU1LCAidHlwZSI6ICJ2ZXJ0ZXgiLCAicHJvcHMiOiB7ImNvbG9yIjogNjUyODB9fQo=');</script>\n",
       "    "
      ],
      "text/plain": [
       "<IPython.core.display.HTML object>"
      ]
     },
     "metadata": {},
     "output_type": "display_data"
    },
    {
     "data": {
      "text/html": [
       "\n",
       "        <div id=\"TcWUx488DGRuUaZuzYCrih\"></div>\n",
       "        <script>netpixi.call('TcWUx488DGRuUaZuzYCrih', 'fVwUfyxuuBDWvZsTkxzZk2', 'changeGraph', 'eyJpZCI6IDU2LCAidHlwZSI6ICJ2ZXJ0ZXgiLCAicHJvcHMiOiB7ImNvbG9yIjogNjUyODB9fQo=');</script>\n",
       "    "
      ],
      "text/plain": [
       "<IPython.core.display.HTML object>"
      ]
     },
     "metadata": {},
     "output_type": "display_data"
    },
    {
     "data": {
      "text/html": [
       "\n",
       "        <div id=\"brwreVfmtm5VS6XrzTG4MP\"></div>\n",
       "        <script>netpixi.call('brwreVfmtm5VS6XrzTG4MP', 'fVwUfyxuuBDWvZsTkxzZk2', 'changeGraph', 'eyJpZCI6IDU3LCAidHlwZSI6ICJ2ZXJ0ZXgiLCAicHJvcHMiOiB7ImNvbG9yIjogNjUyODB9fQo=');</script>\n",
       "    "
      ],
      "text/plain": [
       "<IPython.core.display.HTML object>"
      ]
     },
     "metadata": {},
     "output_type": "display_data"
    },
    {
     "data": {
      "text/html": [
       "\n",
       "        <div id=\"LqozikriNuqE3AbY5CKRAb\"></div>\n",
       "        <script>netpixi.call('LqozikriNuqE3AbY5CKRAb', 'fVwUfyxuuBDWvZsTkxzZk2', 'changeGraph', 'eyJpZCI6IDU4LCAidHlwZSI6ICJ2ZXJ0ZXgiLCAicHJvcHMiOiB7ImNvbG9yIjogMTY3MTE2ODB9fQo=');</script>\n",
       "    "
      ],
      "text/plain": [
       "<IPython.core.display.HTML object>"
      ]
     },
     "metadata": {},
     "output_type": "display_data"
    },
    {
     "data": {
      "text/html": [
       "\n",
       "        <div id=\"XyN4eQF5QqWruesDkcJJhN\"></div>\n",
       "        <script>netpixi.call('XyN4eQF5QqWruesDkcJJhN', 'fVwUfyxuuBDWvZsTkxzZk2', 'changeGraph', 'eyJpZCI6IDU5LCAidHlwZSI6ICJ2ZXJ0ZXgiLCAicHJvcHMiOiB7ImNvbG9yIjogNjUyODB9fQo=');</script>\n",
       "    "
      ],
      "text/plain": [
       "<IPython.core.display.HTML object>"
      ]
     },
     "metadata": {},
     "output_type": "display_data"
    },
    {
     "data": {
      "text/html": [
       "\n",
       "        <div id=\"2W9piCCgpVGA89ytExoNQK\"></div>\n",
       "        <script>netpixi.call('2W9piCCgpVGA89ytExoNQK', 'fVwUfyxuuBDWvZsTkxzZk2', 'changeGraph', 'eyJpZCI6IDYwLCAidHlwZSI6ICJ2ZXJ0ZXgiLCAicHJvcHMiOiB7ImNvbG9yIjogNjUyODB9fQo=');</script>\n",
       "    "
      ],
      "text/plain": [
       "<IPython.core.display.HTML object>"
      ]
     },
     "metadata": {},
     "output_type": "display_data"
    },
    {
     "data": {
      "text/html": [
       "\n",
       "        <div id=\"gkY87Ragh4oKMap79Mpgss\"></div>\n",
       "        <script>netpixi.call('gkY87Ragh4oKMap79Mpgss', 'fVwUfyxuuBDWvZsTkxzZk2', 'changeGraph', 'eyJpZCI6IDYxLCAidHlwZSI6ICJ2ZXJ0ZXgiLCAicHJvcHMiOiB7ImNvbG9yIjogNjUyODB9fQo=');</script>\n",
       "    "
      ],
      "text/plain": [
       "<IPython.core.display.HTML object>"
      ]
     },
     "metadata": {},
     "output_type": "display_data"
    },
    {
     "data": {
      "text/html": [
       "\n",
       "        <div id=\"WEgniSCkvPWQxocARGWTwY\"></div>\n",
       "        <script>netpixi.call('WEgniSCkvPWQxocARGWTwY', 'fVwUfyxuuBDWvZsTkxzZk2', 'changeGraph', 'eyJpZCI6IDYyLCAidHlwZSI6ICJ2ZXJ0ZXgiLCAicHJvcHMiOiB7ImNvbG9yIjogNjUyODB9fQo=');</script>\n",
       "    "
      ],
      "text/plain": [
       "<IPython.core.display.HTML object>"
      ]
     },
     "metadata": {},
     "output_type": "display_data"
    },
    {
     "data": {
      "text/html": [
       "\n",
       "        <div id=\"ESysZkMn9kPn85i5V4kdqw\"></div>\n",
       "        <script>netpixi.call('ESysZkMn9kPn85i5V4kdqw', 'fVwUfyxuuBDWvZsTkxzZk2', 'changeGraph', 'eyJpZCI6IDYzLCAidHlwZSI6ICJ2ZXJ0ZXgiLCAicHJvcHMiOiB7ImNvbG9yIjogMTY3MTE2ODB9fQo=');</script>\n",
       "    "
      ],
      "text/plain": [
       "<IPython.core.display.HTML object>"
      ]
     },
     "metadata": {},
     "output_type": "display_data"
    },
    {
     "data": {
      "text/html": [
       "\n",
       "        <div id=\"ZpKWc5ChFPMvazD9oHFRVB\"></div>\n",
       "        <script>netpixi.call('ZpKWc5ChFPMvazD9oHFRVB', 'fVwUfyxuuBDWvZsTkxzZk2', 'changeGraph', 'eyJpZCI6IDY0LCAidHlwZSI6ICJ2ZXJ0ZXgiLCAicHJvcHMiOiB7ImNvbG9yIjogMTY3MTE2ODB9fQo=');</script>\n",
       "    "
      ],
      "text/plain": [
       "<IPython.core.display.HTML object>"
      ]
     },
     "metadata": {},
     "output_type": "display_data"
    },
    {
     "data": {
      "text/html": [
       "\n",
       "        <div id=\"P92KJcjxHk2g86aG6wGNXs\"></div>\n",
       "        <script>netpixi.call('P92KJcjxHk2g86aG6wGNXs', 'fVwUfyxuuBDWvZsTkxzZk2', 'changeGraph', 'eyJpZCI6IDY1LCAidHlwZSI6ICJ2ZXJ0ZXgiLCAicHJvcHMiOiB7ImNvbG9yIjogMTY3MTE2ODB9fQo=');</script>\n",
       "    "
      ],
      "text/plain": [
       "<IPython.core.display.HTML object>"
      ]
     },
     "metadata": {},
     "output_type": "display_data"
    },
    {
     "data": {
      "text/html": [
       "\n",
       "        <div id=\"hg3C9Aani2ZMzzyoMeM8KR\"></div>\n",
       "        <script>netpixi.call('hg3C9Aani2ZMzzyoMeM8KR', 'fVwUfyxuuBDWvZsTkxzZk2', 'changeGraph', 'eyJpZCI6IDY2LCAidHlwZSI6ICJ2ZXJ0ZXgiLCAicHJvcHMiOiB7ImNvbG9yIjogMTY3MTE2ODB9fQo=');</script>\n",
       "    "
      ],
      "text/plain": [
       "<IPython.core.display.HTML object>"
      ]
     },
     "metadata": {},
     "output_type": "display_data"
    },
    {
     "data": {
      "text/html": [
       "\n",
       "        <div id=\"fcyvsvcXRJikbwAQ3c86jW\"></div>\n",
       "        <script>netpixi.call('fcyvsvcXRJikbwAQ3c86jW', 'fVwUfyxuuBDWvZsTkxzZk2', 'changeGraph', 'eyJpZCI6IDY3LCAidHlwZSI6ICJ2ZXJ0ZXgiLCAicHJvcHMiOiB7ImNvbG9yIjogNjUyODB9fQo=');</script>\n",
       "    "
      ],
      "text/plain": [
       "<IPython.core.display.HTML object>"
      ]
     },
     "metadata": {},
     "output_type": "display_data"
    },
    {
     "data": {
      "text/html": [
       "\n",
       "        <div id=\"3xuWMjGiPYMAwwpsUUmCtR\"></div>\n",
       "        <script>netpixi.call('3xuWMjGiPYMAwwpsUUmCtR', 'fVwUfyxuuBDWvZsTkxzZk2', 'changeGraph', 'eyJpZCI6IDY4LCAidHlwZSI6ICJ2ZXJ0ZXgiLCAicHJvcHMiOiB7ImNvbG9yIjogNjUyODB9fQo=');</script>\n",
       "    "
      ],
      "text/plain": [
       "<IPython.core.display.HTML object>"
      ]
     },
     "metadata": {},
     "output_type": "display_data"
    },
    {
     "data": {
      "text/html": [
       "\n",
       "        <div id=\"cNt9HqLQGp8X8dvbzwQE9a\"></div>\n",
       "        <script>netpixi.call('cNt9HqLQGp8X8dvbzwQE9a', 'fVwUfyxuuBDWvZsTkxzZk2', 'changeGraph', 'eyJpZCI6IDY5LCAidHlwZSI6ICJ2ZXJ0ZXgiLCAicHJvcHMiOiB7ImNvbG9yIjogMTY3MTE2ODB9fQo=');</script>\n",
       "    "
      ],
      "text/plain": [
       "<IPython.core.display.HTML object>"
      ]
     },
     "metadata": {},
     "output_type": "display_data"
    },
    {
     "data": {
      "text/html": [
       "\n",
       "        <div id=\"4FmKQk5NnQRhYmyCjxppVo\"></div>\n",
       "        <script>netpixi.call('4FmKQk5NnQRhYmyCjxppVo', 'fVwUfyxuuBDWvZsTkxzZk2', 'changeGraph', 'eyJpZCI6IDcwLCAidHlwZSI6ICJ2ZXJ0ZXgiLCAicHJvcHMiOiB7ImNvbG9yIjogNjUyODB9fQo=');</script>\n",
       "    "
      ],
      "text/plain": [
       "<IPython.core.display.HTML object>"
      ]
     },
     "metadata": {},
     "output_type": "display_data"
    },
    {
     "data": {
      "text/html": [
       "\n",
       "        <div id=\"8QGFQr33QPNcGQuF5Xt3LP\"></div>\n",
       "        <script>netpixi.call('8QGFQr33QPNcGQuF5Xt3LP', 'fVwUfyxuuBDWvZsTkxzZk2', 'changeGraph', 'eyJpZCI6IDcxLCAidHlwZSI6ICJ2ZXJ0ZXgiLCAicHJvcHMiOiB7ImNvbG9yIjogNjUyODB9fQo=');</script>\n",
       "    "
      ],
      "text/plain": [
       "<IPython.core.display.HTML object>"
      ]
     },
     "metadata": {},
     "output_type": "display_data"
    },
    {
     "data": {
      "text/html": [
       "\n",
       "        <div id=\"Rr3RfxdemfwLiDaFpLBnv9\"></div>\n",
       "        <script>netpixi.call('Rr3RfxdemfwLiDaFpLBnv9', 'fVwUfyxuuBDWvZsTkxzZk2', 'changeGraph', 'eyJpZCI6IDcyLCAidHlwZSI6ICJ2ZXJ0ZXgiLCAicHJvcHMiOiB7ImNvbG9yIjogMTY3MTE2ODB9fQo=');</script>\n",
       "    "
      ],
      "text/plain": [
       "<IPython.core.display.HTML object>"
      ]
     },
     "metadata": {},
     "output_type": "display_data"
    },
    {
     "data": {
      "text/html": [
       "\n",
       "        <div id=\"VGgKDBxgY2Qg2Ng95kb8Dh\"></div>\n",
       "        <script>netpixi.call('VGgKDBxgY2Qg2Ng95kb8Dh', 'fVwUfyxuuBDWvZsTkxzZk2', 'changeGraph', 'eyJpZCI6IDczLCAidHlwZSI6ICJ2ZXJ0ZXgiLCAicHJvcHMiOiB7ImNvbG9yIjogMTY3MTE2ODB9fQo=');</script>\n",
       "    "
      ],
      "text/plain": [
       "<IPython.core.display.HTML object>"
      ]
     },
     "metadata": {},
     "output_type": "display_data"
    },
    {
     "data": {
      "text/html": [
       "\n",
       "        <div id=\"UqWgNgnR3kekqvfvWtABwN\"></div>\n",
       "        <script>netpixi.call('UqWgNgnR3kekqvfvWtABwN', 'fVwUfyxuuBDWvZsTkxzZk2', 'changeGraph', 'eyJpZCI6IDc0LCAidHlwZSI6ICJ2ZXJ0ZXgiLCAicHJvcHMiOiB7ImNvbG9yIjogNjUyODB9fQo=');</script>\n",
       "    "
      ],
      "text/plain": [
       "<IPython.core.display.HTML object>"
      ]
     },
     "metadata": {},
     "output_type": "display_data"
    },
    {
     "data": {
      "text/html": [
       "\n",
       "        <div id=\"6ikaYpRLBGbVxYGCDmCWAT\"></div>\n",
       "        <script>netpixi.call('6ikaYpRLBGbVxYGCDmCWAT', 'fVwUfyxuuBDWvZsTkxzZk2', 'changeGraph', 'eyJpZCI6IDc1LCAidHlwZSI6ICJ2ZXJ0ZXgiLCAicHJvcHMiOiB7ImNvbG9yIjogMTY3MTE2ODB9fQo=');</script>\n",
       "    "
      ],
      "text/plain": [
       "<IPython.core.display.HTML object>"
      ]
     },
     "metadata": {},
     "output_type": "display_data"
    },
    {
     "data": {
      "text/html": [
       "\n",
       "        <div id=\"nkp3mfWQv96krPu4RDjoSx\"></div>\n",
       "        <script>netpixi.call('nkp3mfWQv96krPu4RDjoSx', 'fVwUfyxuuBDWvZsTkxzZk2', 'changeGraph', 'eyJpZCI6IDc2LCAidHlwZSI6ICJ2ZXJ0ZXgiLCAicHJvcHMiOiB7ImNvbG9yIjogMTY3MTE2ODB9fQo=');</script>\n",
       "    "
      ],
      "text/plain": [
       "<IPython.core.display.HTML object>"
      ]
     },
     "metadata": {},
     "output_type": "display_data"
    },
    {
     "data": {
      "text/html": [
       "\n",
       "        <div id=\"fXK5qZXM7WZZVkS9yJnMR3\"></div>\n",
       "        <script>netpixi.call('fXK5qZXM7WZZVkS9yJnMR3', 'fVwUfyxuuBDWvZsTkxzZk2', 'changeGraph', 'eyJpZCI6IDc3LCAidHlwZSI6ICJ2ZXJ0ZXgiLCAicHJvcHMiOiB7ImNvbG9yIjogNjUyODB9fQo=');</script>\n",
       "    "
      ],
      "text/plain": [
       "<IPython.core.display.HTML object>"
      ]
     },
     "metadata": {},
     "output_type": "display_data"
    },
    {
     "data": {
      "text/html": [
       "\n",
       "        <div id=\"7QrKWwAUoAwtGdoKqR8ns5\"></div>\n",
       "        <script>netpixi.call('7QrKWwAUoAwtGdoKqR8ns5', 'fVwUfyxuuBDWvZsTkxzZk2', 'changeGraph', 'eyJpZCI6IDc4LCAidHlwZSI6ICJ2ZXJ0ZXgiLCAicHJvcHMiOiB7ImNvbG9yIjogMTY3MTE2ODB9fQo=');</script>\n",
       "    "
      ],
      "text/plain": [
       "<IPython.core.display.HTML object>"
      ]
     },
     "metadata": {},
     "output_type": "display_data"
    },
    {
     "data": {
      "text/html": [
       "\n",
       "        <div id=\"Sg8JpMpM5RRT2SZrBN29hC\"></div>\n",
       "        <script>netpixi.call('Sg8JpMpM5RRT2SZrBN29hC', 'fVwUfyxuuBDWvZsTkxzZk2', 'changeGraph', 'eyJpZCI6IDc5LCAidHlwZSI6ICJ2ZXJ0ZXgiLCAicHJvcHMiOiB7ImNvbG9yIjogNjUyODB9fQo=');</script>\n",
       "    "
      ],
      "text/plain": [
       "<IPython.core.display.HTML object>"
      ]
     },
     "metadata": {},
     "output_type": "display_data"
    },
    {
     "data": {
      "text/html": [
       "\n",
       "        <div id=\"ft8wSuHcUcqkMjSwgnkUqm\"></div>\n",
       "        <script>netpixi.call('ft8wSuHcUcqkMjSwgnkUqm', 'fVwUfyxuuBDWvZsTkxzZk2', 'changeGraph', 'eyJpZCI6IDgwLCAidHlwZSI6ICJ2ZXJ0ZXgiLCAicHJvcHMiOiB7ImNvbG9yIjogMTY3MTE2ODB9fQo=');</script>\n",
       "    "
      ],
      "text/plain": [
       "<IPython.core.display.HTML object>"
      ]
     },
     "metadata": {},
     "output_type": "display_data"
    },
    {
     "data": {
      "text/html": [
       "\n",
       "        <div id=\"eZVWk8Dqc66MpCwQTxtp5h\"></div>\n",
       "        <script>netpixi.call('eZVWk8Dqc66MpCwQTxtp5h', 'fVwUfyxuuBDWvZsTkxzZk2', 'changeGraph', 'eyJpZCI6IDgxLCAidHlwZSI6ICJ2ZXJ0ZXgiLCAicHJvcHMiOiB7ImNvbG9yIjogMTY3MTE2ODB9fQo=');</script>\n",
       "    "
      ],
      "text/plain": [
       "<IPython.core.display.HTML object>"
      ]
     },
     "metadata": {},
     "output_type": "display_data"
    },
    {
     "data": {
      "text/html": [
       "\n",
       "        <div id=\"H5GBQe5m7EQVPDhCpqNMce\"></div>\n",
       "        <script>netpixi.call('H5GBQe5m7EQVPDhCpqNMce', 'fVwUfyxuuBDWvZsTkxzZk2', 'changeGraph', 'eyJpZCI6IDgyLCAidHlwZSI6ICJ2ZXJ0ZXgiLCAicHJvcHMiOiB7ImNvbG9yIjogNjUyODB9fQo=');</script>\n",
       "    "
      ],
      "text/plain": [
       "<IPython.core.display.HTML object>"
      ]
     },
     "metadata": {},
     "output_type": "display_data"
    },
    {
     "data": {
      "text/html": [
       "\n",
       "        <div id=\"jSqpodc8qE7YbiRx4zmeXH\"></div>\n",
       "        <script>netpixi.call('jSqpodc8qE7YbiRx4zmeXH', 'fVwUfyxuuBDWvZsTkxzZk2', 'changeGraph', 'eyJpZCI6IDgzLCAidHlwZSI6ICJ2ZXJ0ZXgiLCAicHJvcHMiOiB7ImNvbG9yIjogNjUyODB9fQo=');</script>\n",
       "    "
      ],
      "text/plain": [
       "<IPython.core.display.HTML object>"
      ]
     },
     "metadata": {},
     "output_type": "display_data"
    },
    {
     "data": {
      "text/html": [
       "\n",
       "        <div id=\"n7wBUaGLW3kPY5QSSV97ZQ\"></div>\n",
       "        <script>netpixi.call('n7wBUaGLW3kPY5QSSV97ZQ', 'fVwUfyxuuBDWvZsTkxzZk2', 'changeGraph', 'eyJpZCI6IDg0LCAidHlwZSI6ICJ2ZXJ0ZXgiLCAicHJvcHMiOiB7ImNvbG9yIjogMTY3MTE2ODB9fQo=');</script>\n",
       "    "
      ],
      "text/plain": [
       "<IPython.core.display.HTML object>"
      ]
     },
     "metadata": {},
     "output_type": "display_data"
    },
    {
     "data": {
      "text/html": [
       "\n",
       "        <div id=\"FbngnmEfBwaJMWqgvfqKho\"></div>\n",
       "        <script>netpixi.call('FbngnmEfBwaJMWqgvfqKho', 'fVwUfyxuuBDWvZsTkxzZk2', 'changeGraph', 'eyJpZCI6IDg1LCAidHlwZSI6ICJ2ZXJ0ZXgiLCAicHJvcHMiOiB7ImNvbG9yIjogNjUyODB9fQo=');</script>\n",
       "    "
      ],
      "text/plain": [
       "<IPython.core.display.HTML object>"
      ]
     },
     "metadata": {},
     "output_type": "display_data"
    },
    {
     "data": {
      "text/html": [
       "\n",
       "        <div id=\"3YEJ2bdpHf3ZVbAUCZHDYT\"></div>\n",
       "        <script>netpixi.call('3YEJ2bdpHf3ZVbAUCZHDYT', 'fVwUfyxuuBDWvZsTkxzZk2', 'changeGraph', 'eyJpZCI6IDg2LCAidHlwZSI6ICJ2ZXJ0ZXgiLCAicHJvcHMiOiB7ImNvbG9yIjogMTY3MTE2ODB9fQo=');</script>\n",
       "    "
      ],
      "text/plain": [
       "<IPython.core.display.HTML object>"
      ]
     },
     "metadata": {},
     "output_type": "display_data"
    },
    {
     "data": {
      "text/html": [
       "\n",
       "        <div id=\"TbL7nggJq86J9CSqKZfH9V\"></div>\n",
       "        <script>netpixi.call('TbL7nggJq86J9CSqKZfH9V', 'fVwUfyxuuBDWvZsTkxzZk2', 'changeGraph', 'eyJpZCI6IDg3LCAidHlwZSI6ICJ2ZXJ0ZXgiLCAicHJvcHMiOiB7ImNvbG9yIjogNjUyODB9fQo=');</script>\n",
       "    "
      ],
      "text/plain": [
       "<IPython.core.display.HTML object>"
      ]
     },
     "metadata": {},
     "output_type": "display_data"
    },
    {
     "data": {
      "text/html": [
       "\n",
       "        <div id=\"5HKnMkJEVfj6xBTfGPCGbB\"></div>\n",
       "        <script>netpixi.call('5HKnMkJEVfj6xBTfGPCGbB', 'fVwUfyxuuBDWvZsTkxzZk2', 'changeGraph', 'eyJpZCI6IDg4LCAidHlwZSI6ICJ2ZXJ0ZXgiLCAicHJvcHMiOiB7ImNvbG9yIjogNjUyODB9fQo=');</script>\n",
       "    "
      ],
      "text/plain": [
       "<IPython.core.display.HTML object>"
      ]
     },
     "metadata": {},
     "output_type": "display_data"
    },
    {
     "data": {
      "text/html": [
       "\n",
       "        <div id=\"AsnvNCgjdvADGeTvcHDqDh\"></div>\n",
       "        <script>netpixi.call('AsnvNCgjdvADGeTvcHDqDh', 'fVwUfyxuuBDWvZsTkxzZk2', 'changeGraph', 'eyJpZCI6IDg5LCAidHlwZSI6ICJ2ZXJ0ZXgiLCAicHJvcHMiOiB7ImNvbG9yIjogNjUyODB9fQo=');</script>\n",
       "    "
      ],
      "text/plain": [
       "<IPython.core.display.HTML object>"
      ]
     },
     "metadata": {},
     "output_type": "display_data"
    },
    {
     "data": {
      "text/html": [
       "\n",
       "        <div id=\"QnTGbkXYjSVsvh9eTgtXgV\"></div>\n",
       "        <script>netpixi.call('QnTGbkXYjSVsvh9eTgtXgV', 'fVwUfyxuuBDWvZsTkxzZk2', 'changeGraph', 'eyJpZCI6IDkwLCAidHlwZSI6ICJ2ZXJ0ZXgiLCAicHJvcHMiOiB7ImNvbG9yIjogNjUyODB9fQo=');</script>\n",
       "    "
      ],
      "text/plain": [
       "<IPython.core.display.HTML object>"
      ]
     },
     "metadata": {},
     "output_type": "display_data"
    },
    {
     "data": {
      "text/html": [
       "\n",
       "        <div id=\"NEt4GN887GvcM57NukJ7rH\"></div>\n",
       "        <script>netpixi.call('NEt4GN887GvcM57NukJ7rH', 'fVwUfyxuuBDWvZsTkxzZk2', 'changeGraph', 'eyJpZCI6IDkxLCAidHlwZSI6ICJ2ZXJ0ZXgiLCAicHJvcHMiOiB7ImNvbG9yIjogNjUyODB9fQo=');</script>\n",
       "    "
      ],
      "text/plain": [
       "<IPython.core.display.HTML object>"
      ]
     },
     "metadata": {},
     "output_type": "display_data"
    },
    {
     "data": {
      "text/html": [
       "\n",
       "        <div id=\"jVLXNWumNzL8jLvSCBEuqD\"></div>\n",
       "        <script>netpixi.call('jVLXNWumNzL8jLvSCBEuqD', 'fVwUfyxuuBDWvZsTkxzZk2', 'changeGraph', 'eyJpZCI6IDkyLCAidHlwZSI6ICJ2ZXJ0ZXgiLCAicHJvcHMiOiB7ImNvbG9yIjogMTY3MTE2ODB9fQo=');</script>\n",
       "    "
      ],
      "text/plain": [
       "<IPython.core.display.HTML object>"
      ]
     },
     "metadata": {},
     "output_type": "display_data"
    },
    {
     "data": {
      "text/html": [
       "\n",
       "        <div id=\"kAXXptKKkSVhW7AsqxJL83\"></div>\n",
       "        <script>netpixi.call('kAXXptKKkSVhW7AsqxJL83', 'fVwUfyxuuBDWvZsTkxzZk2', 'changeGraph', 'eyJpZCI6IDkzLCAidHlwZSI6ICJ2ZXJ0ZXgiLCAicHJvcHMiOiB7ImNvbG9yIjogNjUyODB9fQo=');</script>\n",
       "    "
      ],
      "text/plain": [
       "<IPython.core.display.HTML object>"
      ]
     },
     "metadata": {},
     "output_type": "display_data"
    },
    {
     "data": {
      "text/html": [
       "\n",
       "        <div id=\"M7dPFuLwLeRQsvMvT8nn6Z\"></div>\n",
       "        <script>netpixi.call('M7dPFuLwLeRQsvMvT8nn6Z', 'fVwUfyxuuBDWvZsTkxzZk2', 'changeGraph', 'eyJpZCI6IDk0LCAidHlwZSI6ICJ2ZXJ0ZXgiLCAicHJvcHMiOiB7ImNvbG9yIjogNjUyODB9fQo=');</script>\n",
       "    "
      ],
      "text/plain": [
       "<IPython.core.display.HTML object>"
      ]
     },
     "metadata": {},
     "output_type": "display_data"
    },
    {
     "data": {
      "text/html": [
       "\n",
       "        <div id=\"e56qc9K3vFDLVLy5N26g9x\"></div>\n",
       "        <script>netpixi.call('e56qc9K3vFDLVLy5N26g9x', 'fVwUfyxuuBDWvZsTkxzZk2', 'changeGraph', 'eyJpZCI6IDk1LCAidHlwZSI6ICJ2ZXJ0ZXgiLCAicHJvcHMiOiB7ImNvbG9yIjogMTY3MTE2ODB9fQo=');</script>\n",
       "    "
      ],
      "text/plain": [
       "<IPython.core.display.HTML object>"
      ]
     },
     "metadata": {},
     "output_type": "display_data"
    },
    {
     "data": {
      "text/html": [
       "\n",
       "        <div id=\"Tb7tJqe2NTqtRWEJnkh3pS\"></div>\n",
       "        <script>netpixi.call('Tb7tJqe2NTqtRWEJnkh3pS', 'fVwUfyxuuBDWvZsTkxzZk2', 'changeGraph', 'eyJpZCI6IDk2LCAidHlwZSI6ICJ2ZXJ0ZXgiLCAicHJvcHMiOiB7ImNvbG9yIjogNjUyODB9fQo=');</script>\n",
       "    "
      ],
      "text/plain": [
       "<IPython.core.display.HTML object>"
      ]
     },
     "metadata": {},
     "output_type": "display_data"
    },
    {
     "data": {
      "text/html": [
       "\n",
       "        <div id=\"f2BUk9HJGJJVR5eEFp4JEa\"></div>\n",
       "        <script>netpixi.call('f2BUk9HJGJJVR5eEFp4JEa', 'fVwUfyxuuBDWvZsTkxzZk2', 'changeGraph', 'eyJpZCI6IDk3LCAidHlwZSI6ICJ2ZXJ0ZXgiLCAicHJvcHMiOiB7ImNvbG9yIjogMTY3MTE2ODB9fQo=');</script>\n",
       "    "
      ],
      "text/plain": [
       "<IPython.core.display.HTML object>"
      ]
     },
     "metadata": {},
     "output_type": "display_data"
    },
    {
     "data": {
      "text/html": [
       "\n",
       "        <div id=\"8yRbgjHCTnFbqQbcboC78P\"></div>\n",
       "        <script>netpixi.call('8yRbgjHCTnFbqQbcboC78P', 'fVwUfyxuuBDWvZsTkxzZk2', 'changeGraph', 'eyJpZCI6IDk4LCAidHlwZSI6ICJ2ZXJ0ZXgiLCAicHJvcHMiOiB7ImNvbG9yIjogNjUyODB9fQo=');</script>\n",
       "    "
      ],
      "text/plain": [
       "<IPython.core.display.HTML object>"
      ]
     },
     "metadata": {},
     "output_type": "display_data"
    },
    {
     "data": {
      "text/html": [
       "\n",
       "        <div id=\"UfnXXT2y5F8MaPDdMs8aoT\"></div>\n",
       "        <script>netpixi.call('UfnXXT2y5F8MaPDdMs8aoT', 'fVwUfyxuuBDWvZsTkxzZk2', 'changeGraph', 'eyJpZCI6IDk5LCAidHlwZSI6ICJ2ZXJ0ZXgiLCAicHJvcHMiOiB7ImNvbG9yIjogNjUyODB9fQo=');</script>\n",
       "    "
      ],
      "text/plain": [
       "<IPython.core.display.HTML object>"
      ]
     },
     "metadata": {},
     "output_type": "display_data"
    },
    {
     "data": {
      "text/html": [
       "\n",
       "        <div id=\"JXY3xsZSFZqa8DhheYFuZi\"></div>\n",
       "        <script>netpixi.call('JXY3xsZSFZqa8DhheYFuZi', 'fVwUfyxuuBDWvZsTkxzZk2', 'changeGraph', 'eyJpZCI6IDEwMCwgInR5cGUiOiAidmVydGV4IiwgInByb3BzIjogeyJjb2xvciI6IDY1MjgwfX0K');</script>\n",
       "    "
      ],
      "text/plain": [
       "<IPython.core.display.HTML object>"
      ]
     },
     "metadata": {},
     "output_type": "display_data"
    },
    {
     "data": {
      "text/html": [
       "\n",
       "        <div id=\"6u8sCWX8pgrPvr8hi9w4zd\"></div>\n",
       "        <script>netpixi.call('6u8sCWX8pgrPvr8hi9w4zd', 'fVwUfyxuuBDWvZsTkxzZk2', 'changeGraph', 'eyJpZCI6IDEwMSwgInR5cGUiOiAidmVydGV4IiwgInByb3BzIjogeyJjb2xvciI6IDE2NzExNjgwfX0K');</script>\n",
       "    "
      ],
      "text/plain": [
       "<IPython.core.display.HTML object>"
      ]
     },
     "metadata": {},
     "output_type": "display_data"
    },
    {
     "data": {
      "text/html": [
       "\n",
       "        <div id=\"Va8D6EkjtT23MyJY2tC656\"></div>\n",
       "        <script>netpixi.call('Va8D6EkjtT23MyJY2tC656', 'fVwUfyxuuBDWvZsTkxzZk2', 'changeGraph', 'eyJpZCI6IDEwMiwgInR5cGUiOiAidmVydGV4IiwgInByb3BzIjogeyJjb2xvciI6IDE2NzExNjgwfX0K');</script>\n",
       "    "
      ],
      "text/plain": [
       "<IPython.core.display.HTML object>"
      ]
     },
     "metadata": {},
     "output_type": "display_data"
    },
    {
     "data": {
      "text/html": [
       "\n",
       "        <div id=\"ZSVP8CAc8HVxGUhUcSYfhR\"></div>\n",
       "        <script>netpixi.call('ZSVP8CAc8HVxGUhUcSYfhR', 'fVwUfyxuuBDWvZsTkxzZk2', 'changeGraph', 'eyJpZCI6IDEwMywgInR5cGUiOiAidmVydGV4IiwgInByb3BzIjogeyJjb2xvciI6IDE2NzExNjgwfX0K');</script>\n",
       "    "
      ],
      "text/plain": [
       "<IPython.core.display.HTML object>"
      ]
     },
     "metadata": {},
     "output_type": "display_data"
    },
    {
     "data": {
      "text/html": [
       "\n",
       "        <div id=\"JX8MPVKYhh29XDgw7yWNtw\"></div>\n",
       "        <script>netpixi.call('JX8MPVKYhh29XDgw7yWNtw', 'fVwUfyxuuBDWvZsTkxzZk2', 'changeGraph', 'eyJpZCI6IDEwNCwgInR5cGUiOiAidmVydGV4IiwgInByb3BzIjogeyJjb2xvciI6IDE2NzExNjgwfX0K');</script>\n",
       "    "
      ],
      "text/plain": [
       "<IPython.core.display.HTML object>"
      ]
     },
     "metadata": {},
     "output_type": "display_data"
    },
    {
     "data": {
      "text/html": [
       "\n",
       "        <div id=\"SUWxg7P576M2HPz5aKjAWK\"></div>\n",
       "        <script>netpixi.call('SUWxg7P576M2HPz5aKjAWK', 'fVwUfyxuuBDWvZsTkxzZk2', 'changeGraph', 'eyJpZCI6IDEwNSwgInR5cGUiOiAidmVydGV4IiwgInByb3BzIjogeyJjb2xvciI6IDY1MjgwfX0K');</script>\n",
       "    "
      ],
      "text/plain": [
       "<IPython.core.display.HTML object>"
      ]
     },
     "metadata": {},
     "output_type": "display_data"
    },
    {
     "data": {
      "text/html": [
       "\n",
       "        <div id=\"8a2NqXaXQToS7zHB8oJX5F\"></div>\n",
       "        <script>netpixi.call('8a2NqXaXQToS7zHB8oJX5F', 'fVwUfyxuuBDWvZsTkxzZk2', 'changeGraph', 'eyJpZCI6IDEwNiwgInR5cGUiOiAidmVydGV4IiwgInByb3BzIjogeyJjb2xvciI6IDE2NzExNjgwfX0K');</script>\n",
       "    "
      ],
      "text/plain": [
       "<IPython.core.display.HTML object>"
      ]
     },
     "metadata": {},
     "output_type": "display_data"
    },
    {
     "data": {
      "text/html": [
       "\n",
       "        <div id=\"nK57Xvsz6ZRzjWLRf44dt7\"></div>\n",
       "        <script>netpixi.call('nK57Xvsz6ZRzjWLRf44dt7', 'fVwUfyxuuBDWvZsTkxzZk2', 'changeGraph', 'eyJpZCI6IDEwNywgInR5cGUiOiAidmVydGV4IiwgInByb3BzIjogeyJjb2xvciI6IDY1MjgwfX0K');</script>\n",
       "    "
      ],
      "text/plain": [
       "<IPython.core.display.HTML object>"
      ]
     },
     "metadata": {},
     "output_type": "display_data"
    },
    {
     "data": {
      "text/html": [
       "\n",
       "        <div id=\"8jwBgVTMUEHFTE7gVzExZL\"></div>\n",
       "        <script>netpixi.call('8jwBgVTMUEHFTE7gVzExZL', 'fVwUfyxuuBDWvZsTkxzZk2', 'changeGraph', 'eyJpZCI6IDEwOCwgInR5cGUiOiAidmVydGV4IiwgInByb3BzIjogeyJjb2xvciI6IDY1MjgwfX0K');</script>\n",
       "    "
      ],
      "text/plain": [
       "<IPython.core.display.HTML object>"
      ]
     },
     "metadata": {},
     "output_type": "display_data"
    },
    {
     "data": {
      "text/html": [
       "\n",
       "        <div id=\"oFRZhbFEacfA2bFR965jzM\"></div>\n",
       "        <script>netpixi.call('oFRZhbFEacfA2bFR965jzM', 'fVwUfyxuuBDWvZsTkxzZk2', 'changeGraph', 'eyJpZCI6IDEwOSwgInR5cGUiOiAidmVydGV4IiwgInByb3BzIjogeyJjb2xvciI6IDE2NzExNjgwfX0K');</script>\n",
       "    "
      ],
      "text/plain": [
       "<IPython.core.display.HTML object>"
      ]
     },
     "metadata": {},
     "output_type": "display_data"
    },
    {
     "data": {
      "text/html": [
       "\n",
       "        <div id=\"SZauZU9msE83KxJzQQXor9\"></div>\n",
       "        <script>netpixi.call('SZauZU9msE83KxJzQQXor9', 'fVwUfyxuuBDWvZsTkxzZk2', 'changeGraph', 'eyJpZCI6IDExMCwgInR5cGUiOiAidmVydGV4IiwgInByb3BzIjogeyJjb2xvciI6IDE2NzExNjgwfX0K');</script>\n",
       "    "
      ],
      "text/plain": [
       "<IPython.core.display.HTML object>"
      ]
     },
     "metadata": {},
     "output_type": "display_data"
    },
    {
     "data": {
      "text/html": [
       "\n",
       "        <div id=\"5z7xyY4Ybxku89wy3i687d\"></div>\n",
       "        <script>netpixi.call('5z7xyY4Ybxku89wy3i687d', 'fVwUfyxuuBDWvZsTkxzZk2', 'changeGraph', 'eyJpZCI6IDExMSwgInR5cGUiOiAidmVydGV4IiwgInByb3BzIjogeyJjb2xvciI6IDE2NzExNjgwfX0K');</script>\n",
       "    "
      ],
      "text/plain": [
       "<IPython.core.display.HTML object>"
      ]
     },
     "metadata": {},
     "output_type": "display_data"
    },
    {
     "data": {
      "text/html": [
       "\n",
       "        <div id=\"CpHfX8t7AwB3sHNGMaHfb7\"></div>\n",
       "        <script>netpixi.call('CpHfX8t7AwB3sHNGMaHfb7', 'fVwUfyxuuBDWvZsTkxzZk2', 'changeGraph', 'eyJpZCI6IDExMiwgInR5cGUiOiAidmVydGV4IiwgInByb3BzIjogeyJjb2xvciI6IDY1MjgwfX0K');</script>\n",
       "    "
      ],
      "text/plain": [
       "<IPython.core.display.HTML object>"
      ]
     },
     "metadata": {},
     "output_type": "display_data"
    },
    {
     "data": {
      "text/html": [
       "\n",
       "        <div id=\"9rhC2NBUKiGzx8kA2KtDsq\"></div>\n",
       "        <script>netpixi.call('9rhC2NBUKiGzx8kA2KtDsq', 'fVwUfyxuuBDWvZsTkxzZk2', 'changeGraph', 'eyJpZCI6IDExMywgInR5cGUiOiAidmVydGV4IiwgInByb3BzIjogeyJjb2xvciI6IDE2NzExNjgwfX0K');</script>\n",
       "    "
      ],
      "text/plain": [
       "<IPython.core.display.HTML object>"
      ]
     },
     "metadata": {},
     "output_type": "display_data"
    },
    {
     "data": {
      "text/html": [
       "\n",
       "        <div id=\"27VfqXhzk68jZqCo28x6xE\"></div>\n",
       "        <script>netpixi.call('27VfqXhzk68jZqCo28x6xE', 'fVwUfyxuuBDWvZsTkxzZk2', 'changeGraph', 'eyJpZCI6IDExNCwgInR5cGUiOiAidmVydGV4IiwgInByb3BzIjogeyJjb2xvciI6IDE2NzExNjgwfX0K');</script>\n",
       "    "
      ],
      "text/plain": [
       "<IPython.core.display.HTML object>"
      ]
     },
     "metadata": {},
     "output_type": "display_data"
    },
    {
     "data": {
      "text/html": [
       "\n",
       "        <div id=\"3rPipBXsA2JMR2vjwWrh7f\"></div>\n",
       "        <script>netpixi.call('3rPipBXsA2JMR2vjwWrh7f', 'fVwUfyxuuBDWvZsTkxzZk2', 'changeGraph', 'eyJpZCI6IDExNSwgInR5cGUiOiAidmVydGV4IiwgInByb3BzIjogeyJjb2xvciI6IDY1MjgwfX0K');</script>\n",
       "    "
      ],
      "text/plain": [
       "<IPython.core.display.HTML object>"
      ]
     },
     "metadata": {},
     "output_type": "display_data"
    },
    {
     "data": {
      "text/html": [
       "\n",
       "        <div id=\"mwkKqdC9EMRGoadSWgWJXr\"></div>\n",
       "        <script>netpixi.call('mwkKqdC9EMRGoadSWgWJXr', 'fVwUfyxuuBDWvZsTkxzZk2', 'changeGraph', 'eyJpZCI6IDExNiwgInR5cGUiOiAidmVydGV4IiwgInByb3BzIjogeyJjb2xvciI6IDE2NzExNjgwfX0K');</script>\n",
       "    "
      ],
      "text/plain": [
       "<IPython.core.display.HTML object>"
      ]
     },
     "metadata": {},
     "output_type": "display_data"
    },
    {
     "data": {
      "text/html": [
       "\n",
       "        <div id=\"QiEUQJ6RhKJU55bXzmWq9h\"></div>\n",
       "        <script>netpixi.call('QiEUQJ6RhKJU55bXzmWq9h', 'fVwUfyxuuBDWvZsTkxzZk2', 'changeGraph', 'eyJpZCI6IDExNywgInR5cGUiOiAidmVydGV4IiwgInByb3BzIjogeyJjb2xvciI6IDY1MjgwfX0K');</script>\n",
       "    "
      ],
      "text/plain": [
       "<IPython.core.display.HTML object>"
      ]
     },
     "metadata": {},
     "output_type": "display_data"
    },
    {
     "data": {
      "text/html": [
       "\n",
       "        <div id=\"hn76U72mXDfV6pwxGfEm3j\"></div>\n",
       "        <script>netpixi.call('hn76U72mXDfV6pwxGfEm3j', 'fVwUfyxuuBDWvZsTkxzZk2', 'changeGraph', 'eyJpZCI6IDExOCwgInR5cGUiOiAidmVydGV4IiwgInByb3BzIjogeyJjb2xvciI6IDY1MjgwfX0K');</script>\n",
       "    "
      ],
      "text/plain": [
       "<IPython.core.display.HTML object>"
      ]
     },
     "metadata": {},
     "output_type": "display_data"
    },
    {
     "data": {
      "text/html": [
       "\n",
       "        <div id=\"NtpJHEJ698nwRUKaY35Acd\"></div>\n",
       "        <script>netpixi.call('NtpJHEJ698nwRUKaY35Acd', 'fVwUfyxuuBDWvZsTkxzZk2', 'changeGraph', 'eyJpZCI6IDExOSwgInR5cGUiOiAidmVydGV4IiwgInByb3BzIjogeyJjb2xvciI6IDY1MjgwfX0K');</script>\n",
       "    "
      ],
      "text/plain": [
       "<IPython.core.display.HTML object>"
      ]
     },
     "metadata": {},
     "output_type": "display_data"
    },
    {
     "data": {
      "text/html": [
       "\n",
       "        <div id=\"67WmmtuMnUhKDVCKEFpYbW\"></div>\n",
       "        <script>netpixi.call('67WmmtuMnUhKDVCKEFpYbW', 'fVwUfyxuuBDWvZsTkxzZk2', 'changeGraph', 'eyJpZCI6IDEyMCwgInR5cGUiOiAidmVydGV4IiwgInByb3BzIjogeyJjb2xvciI6IDE2NzExNjgwfX0K');</script>\n",
       "    "
      ],
      "text/plain": [
       "<IPython.core.display.HTML object>"
      ]
     },
     "metadata": {},
     "output_type": "display_data"
    },
    {
     "data": {
      "text/html": [
       "\n",
       "        <div id=\"eow6Va5yEFDHGGo8Mr8Mgc\"></div>\n",
       "        <script>netpixi.call('eow6Va5yEFDHGGo8Mr8Mgc', 'fVwUfyxuuBDWvZsTkxzZk2', 'changeGraph', 'eyJpZCI6IDEyMSwgInR5cGUiOiAidmVydGV4IiwgInByb3BzIjogeyJjb2xvciI6IDY1MjgwfX0K');</script>\n",
       "    "
      ],
      "text/plain": [
       "<IPython.core.display.HTML object>"
      ]
     },
     "metadata": {},
     "output_type": "display_data"
    },
    {
     "data": {
      "text/html": [
       "\n",
       "        <div id=\"JzjhiP6RmVApYAaeu2ghMH\"></div>\n",
       "        <script>netpixi.call('JzjhiP6RmVApYAaeu2ghMH', 'fVwUfyxuuBDWvZsTkxzZk2', 'changeGraph', 'eyJpZCI6IDEyMiwgInR5cGUiOiAidmVydGV4IiwgInByb3BzIjogeyJjb2xvciI6IDE2NzExNjgwfX0K');</script>\n",
       "    "
      ],
      "text/plain": [
       "<IPython.core.display.HTML object>"
      ]
     },
     "metadata": {},
     "output_type": "display_data"
    },
    {
     "data": {
      "text/html": [
       "\n",
       "        <div id=\"Bx63BpbCCbvNBwDNWjU6Po\"></div>\n",
       "        <script>netpixi.call('Bx63BpbCCbvNBwDNWjU6Po', 'fVwUfyxuuBDWvZsTkxzZk2', 'changeGraph', 'eyJpZCI6IDEyMywgInR5cGUiOiAidmVydGV4IiwgInByb3BzIjogeyJjb2xvciI6IDY1MjgwfX0K');</script>\n",
       "    "
      ],
      "text/plain": [
       "<IPython.core.display.HTML object>"
      ]
     },
     "metadata": {},
     "output_type": "display_data"
    },
    {
     "data": {
      "text/html": [
       "\n",
       "        <div id=\"TvCXYLC5Gderm6TvuGpLao\"></div>\n",
       "        <script>netpixi.call('TvCXYLC5Gderm6TvuGpLao', 'fVwUfyxuuBDWvZsTkxzZk2', 'changeGraph', 'eyJpZCI6IDEyNCwgInR5cGUiOiAidmVydGV4IiwgInByb3BzIjogeyJjb2xvciI6IDY1MjgwfX0K');</script>\n",
       "    "
      ],
      "text/plain": [
       "<IPython.core.display.HTML object>"
      ]
     },
     "metadata": {},
     "output_type": "display_data"
    },
    {
     "data": {
      "text/html": [
       "\n",
       "        <div id=\"QnfEd8EwuPUBrfESpLykVh\"></div>\n",
       "        <script>netpixi.call('QnfEd8EwuPUBrfESpLykVh', 'fVwUfyxuuBDWvZsTkxzZk2', 'changeGraph', 'eyJpZCI6IDEyNSwgInR5cGUiOiAidmVydGV4IiwgInByb3BzIjogeyJjb2xvciI6IDE2NzExNjgwfX0K');</script>\n",
       "    "
      ],
      "text/plain": [
       "<IPython.core.display.HTML object>"
      ]
     },
     "metadata": {},
     "output_type": "display_data"
    },
    {
     "data": {
      "text/html": [
       "\n",
       "        <div id=\"8sJiphQRvq5tg8TjVk8a3z\"></div>\n",
       "        <script>netpixi.call('8sJiphQRvq5tg8TjVk8a3z', 'fVwUfyxuuBDWvZsTkxzZk2', 'changeGraph', 'eyJpZCI6IDEyNiwgInR5cGUiOiAidmVydGV4IiwgInByb3BzIjogeyJjb2xvciI6IDE2NzExNjgwfX0K');</script>\n",
       "    "
      ],
      "text/plain": [
       "<IPython.core.display.HTML object>"
      ]
     },
     "metadata": {},
     "output_type": "display_data"
    },
    {
     "data": {
      "text/html": [
       "\n",
       "        <div id=\"mXWkHaohvrkAwqSsLCSFCx\"></div>\n",
       "        <script>netpixi.call('mXWkHaohvrkAwqSsLCSFCx', 'fVwUfyxuuBDWvZsTkxzZk2', 'changeGraph', 'eyJpZCI6IDEyNywgInR5cGUiOiAidmVydGV4IiwgInByb3BzIjogeyJjb2xvciI6IDE2NzExNjgwfX0K');</script>\n",
       "    "
      ],
      "text/plain": [
       "<IPython.core.display.HTML object>"
      ]
     },
     "metadata": {},
     "output_type": "display_data"
    },
    {
     "data": {
      "text/html": [
       "\n",
       "        <div id=\"Dja6UGAEDxXgJizYBoJDg6\"></div>\n",
       "        <script>netpixi.call('Dja6UGAEDxXgJizYBoJDg6', 'fVwUfyxuuBDWvZsTkxzZk2', 'changeGraph', 'eyJpZCI6IDEyOCwgInR5cGUiOiAidmVydGV4IiwgInByb3BzIjogeyJjb2xvciI6IDE2NzExNjgwfX0K');</script>\n",
       "    "
      ],
      "text/plain": [
       "<IPython.core.display.HTML object>"
      ]
     },
     "metadata": {},
     "output_type": "display_data"
    },
    {
     "data": {
      "text/html": [
       "\n",
       "        <div id=\"HDxQ7hcWWq64va7ckVDT9F\"></div>\n",
       "        <script>netpixi.call('HDxQ7hcWWq64va7ckVDT9F', 'fVwUfyxuuBDWvZsTkxzZk2', 'changeGraph', 'eyJpZCI6IDEyOSwgInR5cGUiOiAidmVydGV4IiwgInByb3BzIjogeyJjb2xvciI6IDE2NzExNjgwfX0K');</script>\n",
       "    "
      ],
      "text/plain": [
       "<IPython.core.display.HTML object>"
      ]
     },
     "metadata": {},
     "output_type": "display_data"
    },
    {
     "data": {
      "text/html": [
       "\n",
       "        <div id=\"M38ckHrUgtARMK8cHjohYb\"></div>\n",
       "        <script>netpixi.call('M38ckHrUgtARMK8cHjohYb', 'fVwUfyxuuBDWvZsTkxzZk2', 'changeGraph', 'eyJpZCI6IDEzMCwgInR5cGUiOiAidmVydGV4IiwgInByb3BzIjogeyJjb2xvciI6IDY1MjgwfX0K');</script>\n",
       "    "
      ],
      "text/plain": [
       "<IPython.core.display.HTML object>"
      ]
     },
     "metadata": {},
     "output_type": "display_data"
    },
    {
     "data": {
      "text/html": [
       "\n",
       "        <div id=\"3CriqXK9NSwwn8su4ZNWX3\"></div>\n",
       "        <script>netpixi.call('3CriqXK9NSwwn8su4ZNWX3', 'fVwUfyxuuBDWvZsTkxzZk2', 'changeGraph', 'eyJpZCI6IDEzMSwgInR5cGUiOiAidmVydGV4IiwgInByb3BzIjogeyJjb2xvciI6IDE2NzExNjgwfX0K');</script>\n",
       "    "
      ],
      "text/plain": [
       "<IPython.core.display.HTML object>"
      ]
     },
     "metadata": {},
     "output_type": "display_data"
    },
    {
     "data": {
      "text/html": [
       "\n",
       "        <div id=\"692vzX2MFKQm2EjtAMiiz2\"></div>\n",
       "        <script>netpixi.call('692vzX2MFKQm2EjtAMiiz2', 'fVwUfyxuuBDWvZsTkxzZk2', 'changeGraph', 'eyJpZCI6IDEzMiwgInR5cGUiOiAidmVydGV4IiwgInByb3BzIjogeyJjb2xvciI6IDE2NzExNjgwfX0K');</script>\n",
       "    "
      ],
      "text/plain": [
       "<IPython.core.display.HTML object>"
      ]
     },
     "metadata": {},
     "output_type": "display_data"
    },
    {
     "data": {
      "text/html": [
       "\n",
       "        <div id=\"msfNZ4MQYKLBRRrvmk2a2L\"></div>\n",
       "        <script>netpixi.call('msfNZ4MQYKLBRRrvmk2a2L', 'fVwUfyxuuBDWvZsTkxzZk2', 'changeGraph', 'eyJpZCI6IDEzMywgInR5cGUiOiAidmVydGV4IiwgInByb3BzIjogeyJjb2xvciI6IDE2NzExNjgwfX0K');</script>\n",
       "    "
      ],
      "text/plain": [
       "<IPython.core.display.HTML object>"
      ]
     },
     "metadata": {},
     "output_type": "display_data"
    },
    {
     "data": {
      "text/html": [
       "\n",
       "        <div id=\"6qPBQ2vLrMMbGsEt723eWj\"></div>\n",
       "        <script>netpixi.call('6qPBQ2vLrMMbGsEt723eWj', 'fVwUfyxuuBDWvZsTkxzZk2', 'changeGraph', 'eyJpZCI6IDEzNCwgInR5cGUiOiAidmVydGV4IiwgInByb3BzIjogeyJjb2xvciI6IDY1MjgwfX0K');</script>\n",
       "    "
      ],
      "text/plain": [
       "<IPython.core.display.HTML object>"
      ]
     },
     "metadata": {},
     "output_type": "display_data"
    },
    {
     "data": {
      "text/html": [
       "\n",
       "        <div id=\"XRWfovq2X8uJsxMYf6CcKF\"></div>\n",
       "        <script>netpixi.call('XRWfovq2X8uJsxMYf6CcKF', 'fVwUfyxuuBDWvZsTkxzZk2', 'changeGraph', 'eyJpZCI6IDEzNSwgInR5cGUiOiAidmVydGV4IiwgInByb3BzIjogeyJjb2xvciI6IDY1MjgwfX0K');</script>\n",
       "    "
      ],
      "text/plain": [
       "<IPython.core.display.HTML object>"
      ]
     },
     "metadata": {},
     "output_type": "display_data"
    },
    {
     "data": {
      "text/html": [
       "\n",
       "        <div id=\"3JcjpqqeQGDpdaTDxPyrx6\"></div>\n",
       "        <script>netpixi.call('3JcjpqqeQGDpdaTDxPyrx6', 'fVwUfyxuuBDWvZsTkxzZk2', 'changeGraph', 'eyJpZCI6IDEzNiwgInR5cGUiOiAidmVydGV4IiwgInByb3BzIjogeyJjb2xvciI6IDY1MjgwfX0K');</script>\n",
       "    "
      ],
      "text/plain": [
       "<IPython.core.display.HTML object>"
      ]
     },
     "metadata": {},
     "output_type": "display_data"
    },
    {
     "data": {
      "text/html": [
       "\n",
       "        <div id=\"Y5Wecq9wSyuUT4U64fa99b\"></div>\n",
       "        <script>netpixi.call('Y5Wecq9wSyuUT4U64fa99b', 'fVwUfyxuuBDWvZsTkxzZk2', 'changeGraph', 'eyJpZCI6IDEzNywgInR5cGUiOiAidmVydGV4IiwgInByb3BzIjogeyJjb2xvciI6IDE2NzExNjgwfX0K');</script>\n",
       "    "
      ],
      "text/plain": [
       "<IPython.core.display.HTML object>"
      ]
     },
     "metadata": {},
     "output_type": "display_data"
    },
    {
     "data": {
      "text/html": [
       "\n",
       "        <div id=\"V7EpsmAJB7y9iRJ6Uss3fP\"></div>\n",
       "        <script>netpixi.call('V7EpsmAJB7y9iRJ6Uss3fP', 'fVwUfyxuuBDWvZsTkxzZk2', 'changeGraph', 'eyJpZCI6IDEzOCwgInR5cGUiOiAidmVydGV4IiwgInByb3BzIjogeyJjb2xvciI6IDY1MjgwfX0K');</script>\n",
       "    "
      ],
      "text/plain": [
       "<IPython.core.display.HTML object>"
      ]
     },
     "metadata": {},
     "output_type": "display_data"
    },
    {
     "data": {
      "text/html": [
       "\n",
       "        <div id=\"KcMUcZjkYJVZvUDSspm7MG\"></div>\n",
       "        <script>netpixi.call('KcMUcZjkYJVZvUDSspm7MG', 'fVwUfyxuuBDWvZsTkxzZk2', 'changeGraph', 'eyJpZCI6IDEzOSwgInR5cGUiOiAidmVydGV4IiwgInByb3BzIjogeyJjb2xvciI6IDE2NzExNjgwfX0K');</script>\n",
       "    "
      ],
      "text/plain": [
       "<IPython.core.display.HTML object>"
      ]
     },
     "metadata": {},
     "output_type": "display_data"
    },
    {
     "data": {
      "text/html": [
       "\n",
       "        <div id=\"3jLKJFBu698c4kHkwgeWqy\"></div>\n",
       "        <script>netpixi.call('3jLKJFBu698c4kHkwgeWqy', 'fVwUfyxuuBDWvZsTkxzZk2', 'changeGraph', 'eyJpZCI6IDE0MCwgInR5cGUiOiAidmVydGV4IiwgInByb3BzIjogeyJjb2xvciI6IDE2NzExNjgwfX0K');</script>\n",
       "    "
      ],
      "text/plain": [
       "<IPython.core.display.HTML object>"
      ]
     },
     "metadata": {},
     "output_type": "display_data"
    },
    {
     "data": {
      "text/html": [
       "\n",
       "        <div id=\"RaPJYHuSQ8mzfBUpQrpgXy\"></div>\n",
       "        <script>netpixi.call('RaPJYHuSQ8mzfBUpQrpgXy', 'fVwUfyxuuBDWvZsTkxzZk2', 'changeGraph', 'eyJpZCI6IDE0MSwgInR5cGUiOiAidmVydGV4IiwgInByb3BzIjogeyJjb2xvciI6IDE2NzExNjgwfX0K');</script>\n",
       "    "
      ],
      "text/plain": [
       "<IPython.core.display.HTML object>"
      ]
     },
     "metadata": {},
     "output_type": "display_data"
    },
    {
     "data": {
      "text/html": [
       "\n",
       "        <div id=\"cdtQUqNXK66w8CZunNtvZJ\"></div>\n",
       "        <script>netpixi.call('cdtQUqNXK66w8CZunNtvZJ', 'fVwUfyxuuBDWvZsTkxzZk2', 'changeGraph', 'eyJpZCI6IDE0MiwgInR5cGUiOiAidmVydGV4IiwgInByb3BzIjogeyJjb2xvciI6IDE2NzExNjgwfX0K');</script>\n",
       "    "
      ],
      "text/plain": [
       "<IPython.core.display.HTML object>"
      ]
     },
     "metadata": {},
     "output_type": "display_data"
    },
    {
     "data": {
      "text/html": [
       "\n",
       "        <div id=\"bEaVAVJY4h3FhW5fvJzBmA\"></div>\n",
       "        <script>netpixi.call('bEaVAVJY4h3FhW5fvJzBmA', 'fVwUfyxuuBDWvZsTkxzZk2', 'changeGraph', 'eyJpZCI6IDE0MywgInR5cGUiOiAidmVydGV4IiwgInByb3BzIjogeyJjb2xvciI6IDE2NzExNjgwfX0K');</script>\n",
       "    "
      ],
      "text/plain": [
       "<IPython.core.display.HTML object>"
      ]
     },
     "metadata": {},
     "output_type": "display_data"
    },
    {
     "data": {
      "text/html": [
       "\n",
       "        <div id=\"XWufmFEZNhw2pFzz4gmDu7\"></div>\n",
       "        <script>netpixi.call('XWufmFEZNhw2pFzz4gmDu7', 'fVwUfyxuuBDWvZsTkxzZk2', 'changeGraph', 'eyJpZCI6IDE0NCwgInR5cGUiOiAidmVydGV4IiwgInByb3BzIjogeyJjb2xvciI6IDY1MjgwfX0K');</script>\n",
       "    "
      ],
      "text/plain": [
       "<IPython.core.display.HTML object>"
      ]
     },
     "metadata": {},
     "output_type": "display_data"
    },
    {
     "data": {
      "text/html": [
       "\n",
       "        <div id=\"YVE77bAp9vuLpcnGxXxtMb\"></div>\n",
       "        <script>netpixi.call('YVE77bAp9vuLpcnGxXxtMb', 'fVwUfyxuuBDWvZsTkxzZk2', 'changeGraph', 'eyJpZCI6IDE0NSwgInR5cGUiOiAidmVydGV4IiwgInByb3BzIjogeyJjb2xvciI6IDY1MjgwfX0K');</script>\n",
       "    "
      ],
      "text/plain": [
       "<IPython.core.display.HTML object>"
      ]
     },
     "metadata": {},
     "output_type": "display_data"
    },
    {
     "data": {
      "text/html": [
       "\n",
       "        <div id=\"aW4RvPdzVXWBJW5A2jfH6H\"></div>\n",
       "        <script>netpixi.call('aW4RvPdzVXWBJW5A2jfH6H', 'fVwUfyxuuBDWvZsTkxzZk2', 'changeGraph', 'eyJpZCI6IDE0NiwgInR5cGUiOiAidmVydGV4IiwgInByb3BzIjogeyJjb2xvciI6IDY1MjgwfX0K');</script>\n",
       "    "
      ],
      "text/plain": [
       "<IPython.core.display.HTML object>"
      ]
     },
     "metadata": {},
     "output_type": "display_data"
    },
    {
     "data": {
      "text/html": [
       "\n",
       "        <div id=\"WVxULAHnzqYZ3DEFDokCNb\"></div>\n",
       "        <script>netpixi.call('WVxULAHnzqYZ3DEFDokCNb', 'fVwUfyxuuBDWvZsTkxzZk2', 'changeGraph', 'eyJpZCI6IDE0NywgInR5cGUiOiAidmVydGV4IiwgInByb3BzIjogeyJjb2xvciI6IDE2NzExNjgwfX0K');</script>\n",
       "    "
      ],
      "text/plain": [
       "<IPython.core.display.HTML object>"
      ]
     },
     "metadata": {},
     "output_type": "display_data"
    },
    {
     "data": {
      "text/html": [
       "\n",
       "        <div id=\"hGgs5CKuXp6eiKFo7H6FQH\"></div>\n",
       "        <script>netpixi.call('hGgs5CKuXp6eiKFo7H6FQH', 'fVwUfyxuuBDWvZsTkxzZk2', 'changeGraph', 'eyJpZCI6IDE0OCwgInR5cGUiOiAidmVydGV4IiwgInByb3BzIjogeyJjb2xvciI6IDE2NzExNjgwfX0K');</script>\n",
       "    "
      ],
      "text/plain": [
       "<IPython.core.display.HTML object>"
      ]
     },
     "metadata": {},
     "output_type": "display_data"
    },
    {
     "data": {
      "text/html": [
       "\n",
       "        <div id=\"8v8eMzTnpNT3vap6bt5YK4\"></div>\n",
       "        <script>netpixi.call('8v8eMzTnpNT3vap6bt5YK4', 'fVwUfyxuuBDWvZsTkxzZk2', 'changeGraph', 'eyJpZCI6IDE0OSwgInR5cGUiOiAidmVydGV4IiwgInByb3BzIjogeyJjb2xvciI6IDY1MjgwfX0K');</script>\n",
       "    "
      ],
      "text/plain": [
       "<IPython.core.display.HTML object>"
      ]
     },
     "metadata": {},
     "output_type": "display_data"
    },
    {
     "data": {
      "text/html": [
       "\n",
       "        <div id=\"MyR7pkxEPsHJYYvbkWY9pT\"></div>\n",
       "        <script>netpixi.call('MyR7pkxEPsHJYYvbkWY9pT', 'fVwUfyxuuBDWvZsTkxzZk2', 'changeGraph', 'eyJpZCI6IDE1MCwgInR5cGUiOiAidmVydGV4IiwgInByb3BzIjogeyJjb2xvciI6IDY1MjgwfX0K');</script>\n",
       "    "
      ],
      "text/plain": [
       "<IPython.core.display.HTML object>"
      ]
     },
     "metadata": {},
     "output_type": "display_data"
    },
    {
     "data": {
      "text/html": [
       "\n",
       "        <div id=\"HbC37EkVd5SnHY7VJdMQyZ\"></div>\n",
       "        <script>netpixi.call('HbC37EkVd5SnHY7VJdMQyZ', 'fVwUfyxuuBDWvZsTkxzZk2', 'changeGraph', 'eyJpZCI6IDE1MSwgInR5cGUiOiAidmVydGV4IiwgInByb3BzIjogeyJjb2xvciI6IDE2NzExNjgwfX0K');</script>\n",
       "    "
      ],
      "text/plain": [
       "<IPython.core.display.HTML object>"
      ]
     },
     "metadata": {},
     "output_type": "display_data"
    },
    {
     "data": {
      "text/html": [
       "\n",
       "        <div id=\"G2dpwesGhvbzvFsuPLKWD3\"></div>\n",
       "        <script>netpixi.call('G2dpwesGhvbzvFsuPLKWD3', 'fVwUfyxuuBDWvZsTkxzZk2', 'changeGraph', 'eyJpZCI6IDE1MiwgInR5cGUiOiAidmVydGV4IiwgInByb3BzIjogeyJjb2xvciI6IDY1MjgwfX0K');</script>\n",
       "    "
      ],
      "text/plain": [
       "<IPython.core.display.HTML object>"
      ]
     },
     "metadata": {},
     "output_type": "display_data"
    },
    {
     "data": {
      "text/html": [
       "\n",
       "        <div id=\"5R3PSLG7fzisfA4BCPWQET\"></div>\n",
       "        <script>netpixi.call('5R3PSLG7fzisfA4BCPWQET', 'fVwUfyxuuBDWvZsTkxzZk2', 'changeGraph', 'eyJpZCI6IDE1MywgInR5cGUiOiAidmVydGV4IiwgInByb3BzIjogeyJjb2xvciI6IDE2NzExNjgwfX0K');</script>\n",
       "    "
      ],
      "text/plain": [
       "<IPython.core.display.HTML object>"
      ]
     },
     "metadata": {},
     "output_type": "display_data"
    },
    {
     "data": {
      "text/html": [
       "\n",
       "        <div id=\"8f6xpWwuKtra4A6DqEgEFA\"></div>\n",
       "        <script>netpixi.call('8f6xpWwuKtra4A6DqEgEFA', 'fVwUfyxuuBDWvZsTkxzZk2', 'changeGraph', 'eyJpZCI6IDE1NCwgInR5cGUiOiAidmVydGV4IiwgInByb3BzIjogeyJjb2xvciI6IDY1MjgwfX0K');</script>\n",
       "    "
      ],
      "text/plain": [
       "<IPython.core.display.HTML object>"
      ]
     },
     "metadata": {},
     "output_type": "display_data"
    },
    {
     "data": {
      "text/html": [
       "\n",
       "        <div id=\"9GJTCyiHeDfAsyJeALXgW2\"></div>\n",
       "        <script>netpixi.call('9GJTCyiHeDfAsyJeALXgW2', 'fVwUfyxuuBDWvZsTkxzZk2', 'changeGraph', 'eyJpZCI6IDE1NSwgInR5cGUiOiAidmVydGV4IiwgInByb3BzIjogeyJjb2xvciI6IDY1MjgwfX0K');</script>\n",
       "    "
      ],
      "text/plain": [
       "<IPython.core.display.HTML object>"
      ]
     },
     "metadata": {},
     "output_type": "display_data"
    },
    {
     "data": {
      "text/html": [
       "\n",
       "        <div id=\"c9dWBwS5CfVjBhtbsQfxGZ\"></div>\n",
       "        <script>netpixi.call('c9dWBwS5CfVjBhtbsQfxGZ', 'fVwUfyxuuBDWvZsTkxzZk2', 'changeGraph', 'eyJpZCI6IDE1NiwgInR5cGUiOiAidmVydGV4IiwgInByb3BzIjogeyJjb2xvciI6IDY1MjgwfX0K');</script>\n",
       "    "
      ],
      "text/plain": [
       "<IPython.core.display.HTML object>"
      ]
     },
     "metadata": {},
     "output_type": "display_data"
    },
    {
     "data": {
      "text/html": [
       "\n",
       "        <div id=\"2Fjna8YbCQAqeum2rfWrJp\"></div>\n",
       "        <script>netpixi.call('2Fjna8YbCQAqeum2rfWrJp', 'fVwUfyxuuBDWvZsTkxzZk2', 'changeGraph', 'eyJpZCI6IDE1NywgInR5cGUiOiAidmVydGV4IiwgInByb3BzIjogeyJjb2xvciI6IDE2NzExNjgwfX0K');</script>\n",
       "    "
      ],
      "text/plain": [
       "<IPython.core.display.HTML object>"
      ]
     },
     "metadata": {},
     "output_type": "display_data"
    },
    {
     "data": {
      "text/html": [
       "\n",
       "        <div id=\"ahNwrx35XjpHN9Y8PgrRvn\"></div>\n",
       "        <script>netpixi.call('ahNwrx35XjpHN9Y8PgrRvn', 'fVwUfyxuuBDWvZsTkxzZk2', 'changeGraph', 'eyJpZCI6IDE1OCwgInR5cGUiOiAidmVydGV4IiwgInByb3BzIjogeyJjb2xvciI6IDY1MjgwfX0K');</script>\n",
       "    "
      ],
      "text/plain": [
       "<IPython.core.display.HTML object>"
      ]
     },
     "metadata": {},
     "output_type": "display_data"
    },
    {
     "data": {
      "text/html": [
       "\n",
       "        <div id=\"CMWpvD232gbUJvvJaybmNr\"></div>\n",
       "        <script>netpixi.call('CMWpvD232gbUJvvJaybmNr', 'fVwUfyxuuBDWvZsTkxzZk2', 'changeGraph', 'eyJpZCI6IDE1OSwgInR5cGUiOiAidmVydGV4IiwgInByb3BzIjogeyJjb2xvciI6IDE2NzExNjgwfX0K');</script>\n",
       "    "
      ],
      "text/plain": [
       "<IPython.core.display.HTML object>"
      ]
     },
     "metadata": {},
     "output_type": "display_data"
    },
    {
     "data": {
      "text/html": [
       "\n",
       "        <div id=\"54CayoLfVB3SnigVWjtFQA\"></div>\n",
       "        <script>netpixi.call('54CayoLfVB3SnigVWjtFQA', 'fVwUfyxuuBDWvZsTkxzZk2', 'changeGraph', 'eyJpZCI6IDE2MCwgInR5cGUiOiAidmVydGV4IiwgInByb3BzIjogeyJjb2xvciI6IDY1MjgwfX0K');</script>\n",
       "    "
      ],
      "text/plain": [
       "<IPython.core.display.HTML object>"
      ]
     },
     "metadata": {},
     "output_type": "display_data"
    },
    {
     "data": {
      "text/html": [
       "\n",
       "        <div id=\"AvMBaXb2SazMaRtQyaQUaF\"></div>\n",
       "        <script>netpixi.call('AvMBaXb2SazMaRtQyaQUaF', 'fVwUfyxuuBDWvZsTkxzZk2', 'changeGraph', 'eyJpZCI6IDE2MSwgInR5cGUiOiAidmVydGV4IiwgInByb3BzIjogeyJjb2xvciI6IDY1MjgwfX0K');</script>\n",
       "    "
      ],
      "text/plain": [
       "<IPython.core.display.HTML object>"
      ]
     },
     "metadata": {},
     "output_type": "display_data"
    },
    {
     "data": {
      "text/html": [
       "\n",
       "        <div id=\"nZ8pDzpgnAuKb6LetNMtrS\"></div>\n",
       "        <script>netpixi.call('nZ8pDzpgnAuKb6LetNMtrS', 'fVwUfyxuuBDWvZsTkxzZk2', 'changeGraph', 'eyJpZCI6IDE2MiwgInR5cGUiOiAidmVydGV4IiwgInByb3BzIjogeyJjb2xvciI6IDY1MjgwfX0K');</script>\n",
       "    "
      ],
      "text/plain": [
       "<IPython.core.display.HTML object>"
      ]
     },
     "metadata": {},
     "output_type": "display_data"
    },
    {
     "data": {
      "text/html": [
       "\n",
       "        <div id=\"YiY99CVkeQCSdHh6zyj3CA\"></div>\n",
       "        <script>netpixi.call('YiY99CVkeQCSdHh6zyj3CA', 'fVwUfyxuuBDWvZsTkxzZk2', 'changeGraph', 'eyJpZCI6IDE2MywgInR5cGUiOiAidmVydGV4IiwgInByb3BzIjogeyJjb2xvciI6IDY1MjgwfX0K');</script>\n",
       "    "
      ],
      "text/plain": [
       "<IPython.core.display.HTML object>"
      ]
     },
     "metadata": {},
     "output_type": "display_data"
    },
    {
     "data": {
      "text/html": [
       "\n",
       "        <div id=\"kQUDFE6KuxBPs8jp2ckxhb\"></div>\n",
       "        <script>netpixi.call('kQUDFE6KuxBPs8jp2ckxhb', 'fVwUfyxuuBDWvZsTkxzZk2', 'changeGraph', 'eyJpZCI6IDE2NCwgInR5cGUiOiAidmVydGV4IiwgInByb3BzIjogeyJjb2xvciI6IDE2NzExNjgwfX0K');</script>\n",
       "    "
      ],
      "text/plain": [
       "<IPython.core.display.HTML object>"
      ]
     },
     "metadata": {},
     "output_type": "display_data"
    },
    {
     "data": {
      "text/html": [
       "\n",
       "        <div id=\"P34Ay7fYQzT3eczbTEsNE8\"></div>\n",
       "        <script>netpixi.call('P34Ay7fYQzT3eczbTEsNE8', 'fVwUfyxuuBDWvZsTkxzZk2', 'changeGraph', 'eyJpZCI6IDE2NSwgInR5cGUiOiAidmVydGV4IiwgInByb3BzIjogeyJjb2xvciI6IDY1MjgwfX0K');</script>\n",
       "    "
      ],
      "text/plain": [
       "<IPython.core.display.HTML object>"
      ]
     },
     "metadata": {},
     "output_type": "display_data"
    },
    {
     "data": {
      "text/html": [
       "\n",
       "        <div id=\"EnefBePUmevag5rxmCA9qY\"></div>\n",
       "        <script>netpixi.call('EnefBePUmevag5rxmCA9qY', 'fVwUfyxuuBDWvZsTkxzZk2', 'changeGraph', 'eyJpZCI6IDE2NiwgInR5cGUiOiAidmVydGV4IiwgInByb3BzIjogeyJjb2xvciI6IDY1MjgwfX0K');</script>\n",
       "    "
      ],
      "text/plain": [
       "<IPython.core.display.HTML object>"
      ]
     },
     "metadata": {},
     "output_type": "display_data"
    },
    {
     "data": {
      "text/html": [
       "\n",
       "        <div id=\"gNJq8xzfrbXgEZMwXaQePw\"></div>\n",
       "        <script>netpixi.call('gNJq8xzfrbXgEZMwXaQePw', 'fVwUfyxuuBDWvZsTkxzZk2', 'changeGraph', 'eyJpZCI6IDE2NywgInR5cGUiOiAidmVydGV4IiwgInByb3BzIjogeyJjb2xvciI6IDY1MjgwfX0K');</script>\n",
       "    "
      ],
      "text/plain": [
       "<IPython.core.display.HTML object>"
      ]
     },
     "metadata": {},
     "output_type": "display_data"
    },
    {
     "data": {
      "text/html": [
       "\n",
       "        <div id=\"bUMMhAwinyQcbrXAiuNCjB\"></div>\n",
       "        <script>netpixi.call('bUMMhAwinyQcbrXAiuNCjB', 'fVwUfyxuuBDWvZsTkxzZk2', 'changeGraph', 'eyJpZCI6IDE2OCwgInR5cGUiOiAidmVydGV4IiwgInByb3BzIjogeyJjb2xvciI6IDY1MjgwfX0K');</script>\n",
       "    "
      ],
      "text/plain": [
       "<IPython.core.display.HTML object>"
      ]
     },
     "metadata": {},
     "output_type": "display_data"
    },
    {
     "data": {
      "text/html": [
       "\n",
       "        <div id=\"Jw4rN9Ah5Sfr7EZPQknacN\"></div>\n",
       "        <script>netpixi.call('Jw4rN9Ah5Sfr7EZPQknacN', 'fVwUfyxuuBDWvZsTkxzZk2', 'changeGraph', 'eyJpZCI6IDE2OSwgInR5cGUiOiAidmVydGV4IiwgInByb3BzIjogeyJjb2xvciI6IDY1MjgwfX0K');</script>\n",
       "    "
      ],
      "text/plain": [
       "<IPython.core.display.HTML object>"
      ]
     },
     "metadata": {},
     "output_type": "display_data"
    },
    {
     "data": {
      "text/html": [
       "\n",
       "        <div id=\"6RKRSmANRweaH8WcWPZyyn\"></div>\n",
       "        <script>netpixi.call('6RKRSmANRweaH8WcWPZyyn', 'fVwUfyxuuBDWvZsTkxzZk2', 'changeGraph', 'eyJpZCI6IDE3MCwgInR5cGUiOiAidmVydGV4IiwgInByb3BzIjogeyJjb2xvciI6IDE2NzExNjgwfX0K');</script>\n",
       "    "
      ],
      "text/plain": [
       "<IPython.core.display.HTML object>"
      ]
     },
     "metadata": {},
     "output_type": "display_data"
    },
    {
     "data": {
      "text/html": [
       "\n",
       "        <div id=\"7pGDU6YoSeq4PAasfQkSCU\"></div>\n",
       "        <script>netpixi.call('7pGDU6YoSeq4PAasfQkSCU', 'fVwUfyxuuBDWvZsTkxzZk2', 'changeGraph', 'eyJpZCI6IDE3MSwgInR5cGUiOiAidmVydGV4IiwgInByb3BzIjogeyJjb2xvciI6IDE2NzExNjgwfX0K');</script>\n",
       "    "
      ],
      "text/plain": [
       "<IPython.core.display.HTML object>"
      ]
     },
     "metadata": {},
     "output_type": "display_data"
    },
    {
     "data": {
      "text/html": [
       "\n",
       "        <div id=\"ANDvaBcKpQ6FM9jT2KgMNy\"></div>\n",
       "        <script>netpixi.call('ANDvaBcKpQ6FM9jT2KgMNy', 'fVwUfyxuuBDWvZsTkxzZk2', 'changeGraph', 'eyJpZCI6IDE3MiwgInR5cGUiOiAidmVydGV4IiwgInByb3BzIjogeyJjb2xvciI6IDE2NzExNjgwfX0K');</script>\n",
       "    "
      ],
      "text/plain": [
       "<IPython.core.display.HTML object>"
      ]
     },
     "metadata": {},
     "output_type": "display_data"
    },
    {
     "data": {
      "text/html": [
       "\n",
       "        <div id=\"kLMYVBCS5eaHwbrdySexyS\"></div>\n",
       "        <script>netpixi.call('kLMYVBCS5eaHwbrdySexyS', 'fVwUfyxuuBDWvZsTkxzZk2', 'changeGraph', 'eyJpZCI6IDE3MywgInR5cGUiOiAidmVydGV4IiwgInByb3BzIjogeyJjb2xvciI6IDY1MjgwfX0K');</script>\n",
       "    "
      ],
      "text/plain": [
       "<IPython.core.display.HTML object>"
      ]
     },
     "metadata": {},
     "output_type": "display_data"
    },
    {
     "data": {
      "text/html": [
       "\n",
       "        <div id=\"TVx27NNWskwBsUeMWM8jam\"></div>\n",
       "        <script>netpixi.call('TVx27NNWskwBsUeMWM8jam', 'fVwUfyxuuBDWvZsTkxzZk2', 'changeGraph', 'eyJpZCI6IDE3NCwgInR5cGUiOiAidmVydGV4IiwgInByb3BzIjogeyJjb2xvciI6IDY1MjgwfX0K');</script>\n",
       "    "
      ],
      "text/plain": [
       "<IPython.core.display.HTML object>"
      ]
     },
     "metadata": {},
     "output_type": "display_data"
    },
    {
     "data": {
      "text/html": [
       "\n",
       "        <div id=\"FLtMcjZSVrBzYc6b8EaNea\"></div>\n",
       "        <script>netpixi.call('FLtMcjZSVrBzYc6b8EaNea', 'fVwUfyxuuBDWvZsTkxzZk2', 'changeGraph', 'eyJpZCI6IDE3NSwgInR5cGUiOiAidmVydGV4IiwgInByb3BzIjogeyJjb2xvciI6IDY1MjgwfX0K');</script>\n",
       "    "
      ],
      "text/plain": [
       "<IPython.core.display.HTML object>"
      ]
     },
     "metadata": {},
     "output_type": "display_data"
    },
    {
     "data": {
      "text/html": [
       "\n",
       "        <div id=\"4sGVADaM6LWCxYf8JBKBmx\"></div>\n",
       "        <script>netpixi.call('4sGVADaM6LWCxYf8JBKBmx', 'fVwUfyxuuBDWvZsTkxzZk2', 'changeGraph', 'eyJpZCI6IDE3NiwgInR5cGUiOiAidmVydGV4IiwgInByb3BzIjogeyJjb2xvciI6IDY1MjgwfX0K');</script>\n",
       "    "
      ],
      "text/plain": [
       "<IPython.core.display.HTML object>"
      ]
     },
     "metadata": {},
     "output_type": "display_data"
    },
    {
     "data": {
      "text/html": [
       "\n",
       "        <div id=\"7fr44g6uNNQpd6bskNJ3zN\"></div>\n",
       "        <script>netpixi.call('7fr44g6uNNQpd6bskNJ3zN', 'fVwUfyxuuBDWvZsTkxzZk2', 'changeGraph', 'eyJpZCI6IDE3NywgInR5cGUiOiAidmVydGV4IiwgInByb3BzIjogeyJjb2xvciI6IDY1MjgwfX0K');</script>\n",
       "    "
      ],
      "text/plain": [
       "<IPython.core.display.HTML object>"
      ]
     },
     "metadata": {},
     "output_type": "display_data"
    },
    {
     "data": {
      "text/html": [
       "\n",
       "        <div id=\"mGrNCxcdRNZpi6Q7fX4Dbw\"></div>\n",
       "        <script>netpixi.call('mGrNCxcdRNZpi6Q7fX4Dbw', 'fVwUfyxuuBDWvZsTkxzZk2', 'changeGraph', 'eyJpZCI6IDE3OCwgInR5cGUiOiAidmVydGV4IiwgInByb3BzIjogeyJjb2xvciI6IDY1MjgwfX0K');</script>\n",
       "    "
      ],
      "text/plain": [
       "<IPython.core.display.HTML object>"
      ]
     },
     "metadata": {},
     "output_type": "display_data"
    },
    {
     "data": {
      "text/html": [
       "\n",
       "        <div id=\"BT7nRqAN4vFv86n57BZeVo\"></div>\n",
       "        <script>netpixi.call('BT7nRqAN4vFv86n57BZeVo', 'fVwUfyxuuBDWvZsTkxzZk2', 'changeGraph', 'eyJpZCI6IDE3OSwgInR5cGUiOiAidmVydGV4IiwgInByb3BzIjogeyJjb2xvciI6IDY1MjgwfX0K');</script>\n",
       "    "
      ],
      "text/plain": [
       "<IPython.core.display.HTML object>"
      ]
     },
     "metadata": {},
     "output_type": "display_data"
    },
    {
     "data": {
      "text/html": [
       "\n",
       "        <div id=\"EexmiKqbWL4pocaFubR68A\"></div>\n",
       "        <script>netpixi.call('EexmiKqbWL4pocaFubR68A', 'fVwUfyxuuBDWvZsTkxzZk2', 'changeGraph', 'eyJpZCI6IDE4MCwgInR5cGUiOiAidmVydGV4IiwgInByb3BzIjogeyJjb2xvciI6IDE2NzExNjgwfX0K');</script>\n",
       "    "
      ],
      "text/plain": [
       "<IPython.core.display.HTML object>"
      ]
     },
     "metadata": {},
     "output_type": "display_data"
    },
    {
     "data": {
      "text/html": [
       "\n",
       "        <div id=\"CWPpBKWJx4y9bLbczubk7k\"></div>\n",
       "        <script>netpixi.call('CWPpBKWJx4y9bLbczubk7k', 'fVwUfyxuuBDWvZsTkxzZk2', 'changeGraph', 'eyJpZCI6IDE4MSwgInR5cGUiOiAidmVydGV4IiwgInByb3BzIjogeyJjb2xvciI6IDY1MjgwfX0K');</script>\n",
       "    "
      ],
      "text/plain": [
       "<IPython.core.display.HTML object>"
      ]
     },
     "metadata": {},
     "output_type": "display_data"
    },
    {
     "data": {
      "text/html": [
       "\n",
       "        <div id=\"M8ApNRSMofb2Uv9Gk8r2ZZ\"></div>\n",
       "        <script>netpixi.call('M8ApNRSMofb2Uv9Gk8r2ZZ', 'fVwUfyxuuBDWvZsTkxzZk2', 'changeGraph', 'eyJpZCI6IDE4MiwgInR5cGUiOiAidmVydGV4IiwgInByb3BzIjogeyJjb2xvciI6IDE2NzExNjgwfX0K');</script>\n",
       "    "
      ],
      "text/plain": [
       "<IPython.core.display.HTML object>"
      ]
     },
     "metadata": {},
     "output_type": "display_data"
    },
    {
     "data": {
      "text/html": [
       "\n",
       "        <div id=\"5iAPkx9ThCeBMEbVHFuNYG\"></div>\n",
       "        <script>netpixi.call('5iAPkx9ThCeBMEbVHFuNYG', 'fVwUfyxuuBDWvZsTkxzZk2', 'changeGraph', 'eyJpZCI6IDE4MywgInR5cGUiOiAidmVydGV4IiwgInByb3BzIjogeyJjb2xvciI6IDE2NzExNjgwfX0K');</script>\n",
       "    "
      ],
      "text/plain": [
       "<IPython.core.display.HTML object>"
      ]
     },
     "metadata": {},
     "output_type": "display_data"
    },
    {
     "data": {
      "text/html": [
       "\n",
       "        <div id=\"WhUktJsdCFkJyZMorPH6xG\"></div>\n",
       "        <script>netpixi.call('WhUktJsdCFkJyZMorPH6xG', 'fVwUfyxuuBDWvZsTkxzZk2', 'changeGraph', 'eyJpZCI6IDE4NCwgInR5cGUiOiAidmVydGV4IiwgInByb3BzIjogeyJjb2xvciI6IDY1MjgwfX0K');</script>\n",
       "    "
      ],
      "text/plain": [
       "<IPython.core.display.HTML object>"
      ]
     },
     "metadata": {},
     "output_type": "display_data"
    },
    {
     "data": {
      "text/html": [
       "\n",
       "        <div id=\"FbA5DaVVGSb8UJABocjynC\"></div>\n",
       "        <script>netpixi.call('FbA5DaVVGSb8UJABocjynC', 'fVwUfyxuuBDWvZsTkxzZk2', 'changeGraph', 'eyJpZCI6IDE4NSwgInR5cGUiOiAidmVydGV4IiwgInByb3BzIjogeyJjb2xvciI6IDY1MjgwfX0K');</script>\n",
       "    "
      ],
      "text/plain": [
       "<IPython.core.display.HTML object>"
      ]
     },
     "metadata": {},
     "output_type": "display_data"
    },
    {
     "data": {
      "text/html": [
       "\n",
       "        <div id=\"AB64CNXjmpRFU2YNcYkk2H\"></div>\n",
       "        <script>netpixi.call('AB64CNXjmpRFU2YNcYkk2H', 'fVwUfyxuuBDWvZsTkxzZk2', 'changeGraph', 'eyJpZCI6IDE4NiwgInR5cGUiOiAidmVydGV4IiwgInByb3BzIjogeyJjb2xvciI6IDY1MjgwfX0K');</script>\n",
       "    "
      ],
      "text/plain": [
       "<IPython.core.display.HTML object>"
      ]
     },
     "metadata": {},
     "output_type": "display_data"
    },
    {
     "data": {
      "text/html": [
       "\n",
       "        <div id=\"9AUJWwU8ARVRkBRAtR35h7\"></div>\n",
       "        <script>netpixi.call('9AUJWwU8ARVRkBRAtR35h7', 'fVwUfyxuuBDWvZsTkxzZk2', 'changeGraph', 'eyJpZCI6IDE4NywgInR5cGUiOiAidmVydGV4IiwgInByb3BzIjogeyJjb2xvciI6IDE2NzExNjgwfX0K');</script>\n",
       "    "
      ],
      "text/plain": [
       "<IPython.core.display.HTML object>"
      ]
     },
     "metadata": {},
     "output_type": "display_data"
    },
    {
     "data": {
      "text/html": [
       "\n",
       "        <div id=\"jU6E7W8tTYjLW6iBCBKXmg\"></div>\n",
       "        <script>netpixi.call('jU6E7W8tTYjLW6iBCBKXmg', 'fVwUfyxuuBDWvZsTkxzZk2', 'changeGraph', 'eyJpZCI6IDE4OCwgInR5cGUiOiAidmVydGV4IiwgInByb3BzIjogeyJjb2xvciI6IDY1MjgwfX0K');</script>\n",
       "    "
      ],
      "text/plain": [
       "<IPython.core.display.HTML object>"
      ]
     },
     "metadata": {},
     "output_type": "display_data"
    },
    {
     "data": {
      "text/html": [
       "\n",
       "        <div id=\"mo8GNb8d8nyBM5UQKfcipF\"></div>\n",
       "        <script>netpixi.call('mo8GNb8d8nyBM5UQKfcipF', 'fVwUfyxuuBDWvZsTkxzZk2', 'changeGraph', 'eyJpZCI6IDE4OSwgInR5cGUiOiAidmVydGV4IiwgInByb3BzIjogeyJjb2xvciI6IDY1MjgwfX0K');</script>\n",
       "    "
      ],
      "text/plain": [
       "<IPython.core.display.HTML object>"
      ]
     },
     "metadata": {},
     "output_type": "display_data"
    },
    {
     "data": {
      "text/html": [
       "\n",
       "        <div id=\"nqz4maWTy9HvpqdBqeMokc\"></div>\n",
       "        <script>netpixi.call('nqz4maWTy9HvpqdBqeMokc', 'fVwUfyxuuBDWvZsTkxzZk2', 'changeGraph', 'eyJpZCI6IDE5MCwgInR5cGUiOiAidmVydGV4IiwgInByb3BzIjogeyJjb2xvciI6IDY1MjgwfX0K');</script>\n",
       "    "
      ],
      "text/plain": [
       "<IPython.core.display.HTML object>"
      ]
     },
     "metadata": {},
     "output_type": "display_data"
    },
    {
     "data": {
      "text/html": [
       "\n",
       "        <div id=\"S7NpttKQtAE8KJoFniuzZe\"></div>\n",
       "        <script>netpixi.call('S7NpttKQtAE8KJoFniuzZe', 'fVwUfyxuuBDWvZsTkxzZk2', 'changeGraph', 'eyJpZCI6IDE5MSwgInR5cGUiOiAidmVydGV4IiwgInByb3BzIjogeyJjb2xvciI6IDY1MjgwfX0K');</script>\n",
       "    "
      ],
      "text/plain": [
       "<IPython.core.display.HTML object>"
      ]
     },
     "metadata": {},
     "output_type": "display_data"
    },
    {
     "data": {
      "text/html": [
       "\n",
       "        <div id=\"22uV2xUaFDHuQeuBrp54kq\"></div>\n",
       "        <script>netpixi.call('22uV2xUaFDHuQeuBrp54kq', 'fVwUfyxuuBDWvZsTkxzZk2', 'changeGraph', 'eyJpZCI6IDE5MiwgInR5cGUiOiAidmVydGV4IiwgInByb3BzIjogeyJjb2xvciI6IDE2NzExNjgwfX0K');</script>\n",
       "    "
      ],
      "text/plain": [
       "<IPython.core.display.HTML object>"
      ]
     },
     "metadata": {},
     "output_type": "display_data"
    },
    {
     "data": {
      "text/html": [
       "\n",
       "        <div id=\"6RrH7xoJTrdaPjkRqQFBvJ\"></div>\n",
       "        <script>netpixi.call('6RrH7xoJTrdaPjkRqQFBvJ', 'fVwUfyxuuBDWvZsTkxzZk2', 'changeGraph', 'eyJpZCI6IDE5MywgInR5cGUiOiAidmVydGV4IiwgInByb3BzIjogeyJjb2xvciI6IDY1MjgwfX0K');</script>\n",
       "    "
      ],
      "text/plain": [
       "<IPython.core.display.HTML object>"
      ]
     },
     "metadata": {},
     "output_type": "display_data"
    },
    {
     "data": {
      "text/html": [
       "\n",
       "        <div id=\"X69q4hV43xhvBhSb6c2Z4w\"></div>\n",
       "        <script>netpixi.call('X69q4hV43xhvBhSb6c2Z4w', 'fVwUfyxuuBDWvZsTkxzZk2', 'changeGraph', 'eyJpZCI6IDE5NCwgInR5cGUiOiAidmVydGV4IiwgInByb3BzIjogeyJjb2xvciI6IDY1MjgwfX0K');</script>\n",
       "    "
      ],
      "text/plain": [
       "<IPython.core.display.HTML object>"
      ]
     },
     "metadata": {},
     "output_type": "display_data"
    },
    {
     "data": {
      "text/html": [
       "\n",
       "        <div id=\"fCRc5ySaU37EZUDSGtRfcv\"></div>\n",
       "        <script>netpixi.call('fCRc5ySaU37EZUDSGtRfcv', 'fVwUfyxuuBDWvZsTkxzZk2', 'changeGraph', 'eyJpZCI6IDE5NSwgInR5cGUiOiAidmVydGV4IiwgInByb3BzIjogeyJjb2xvciI6IDE2NzExNjgwfX0K');</script>\n",
       "    "
      ],
      "text/plain": [
       "<IPython.core.display.HTML object>"
      ]
     },
     "metadata": {},
     "output_type": "display_data"
    },
    {
     "data": {
      "text/html": [
       "\n",
       "        <div id=\"bnpwLWdJsAtsxANAEh2ZgL\"></div>\n",
       "        <script>netpixi.call('bnpwLWdJsAtsxANAEh2ZgL', 'fVwUfyxuuBDWvZsTkxzZk2', 'changeGraph', 'eyJpZCI6IDE5NiwgInR5cGUiOiAidmVydGV4IiwgInByb3BzIjogeyJjb2xvciI6IDE2NzExNjgwfX0K');</script>\n",
       "    "
      ],
      "text/plain": [
       "<IPython.core.display.HTML object>"
      ]
     },
     "metadata": {},
     "output_type": "display_data"
    },
    {
     "data": {
      "text/html": [
       "\n",
       "        <div id=\"LQYjPGne4HSJc9kfxDdDNZ\"></div>\n",
       "        <script>netpixi.call('LQYjPGne4HSJc9kfxDdDNZ', 'fVwUfyxuuBDWvZsTkxzZk2', 'changeGraph', 'eyJpZCI6IDE5NywgInR5cGUiOiAidmVydGV4IiwgInByb3BzIjogeyJjb2xvciI6IDY1MjgwfX0K');</script>\n",
       "    "
      ],
      "text/plain": [
       "<IPython.core.display.HTML object>"
      ]
     },
     "metadata": {},
     "output_type": "display_data"
    },
    {
     "data": {
      "text/html": [
       "\n",
       "        <div id=\"MT5CUoQzEX4jT2KitNkNTF\"></div>\n",
       "        <script>netpixi.call('MT5CUoQzEX4jT2KitNkNTF', 'fVwUfyxuuBDWvZsTkxzZk2', 'changeGraph', 'eyJpZCI6IDE5OCwgInR5cGUiOiAidmVydGV4IiwgInByb3BzIjogeyJjb2xvciI6IDY1MjgwfX0K');</script>\n",
       "    "
      ],
      "text/plain": [
       "<IPython.core.display.HTML object>"
      ]
     },
     "metadata": {},
     "output_type": "display_data"
    },
    {
     "data": {
      "text/html": [
       "\n",
       "        <div id=\"WNzzqG3N3vPP744PFWDYGc\"></div>\n",
       "        <script>netpixi.call('WNzzqG3N3vPP744PFWDYGc', 'fVwUfyxuuBDWvZsTkxzZk2', 'changeGraph', 'eyJpZCI6IDE5OSwgInR5cGUiOiAidmVydGV4IiwgInByb3BzIjogeyJjb2xvciI6IDY1MjgwfX0K');</script>\n",
       "    "
      ],
      "text/plain": [
       "<IPython.core.display.HTML object>"
      ]
     },
     "metadata": {},
     "output_type": "display_data"
    },
    {
     "data": {
      "text/html": [
       "\n",
       "        <div id=\"8kni88aXwYNgeu6TjFctY2\"></div>\n",
       "        <script>netpixi.call('8kni88aXwYNgeu6TjFctY2', 'fVwUfyxuuBDWvZsTkxzZk2', 'changeGraph', 'eyJpZCI6IDIwMCwgInR5cGUiOiAidmVydGV4IiwgInByb3BzIjogeyJjb2xvciI6IDE2NzExNjgwfX0K');</script>\n",
       "    "
      ],
      "text/plain": [
       "<IPython.core.display.HTML object>"
      ]
     },
     "metadata": {},
     "output_type": "display_data"
    },
    {
     "data": {
      "text/html": [
       "\n",
       "        <div id=\"jdBEXAhTmuzHjKMLGEpKhN\"></div>\n",
       "        <script>netpixi.call('jdBEXAhTmuzHjKMLGEpKhN', 'fVwUfyxuuBDWvZsTkxzZk2', 'changeGraph', 'eyJpZCI6IDIwMSwgInR5cGUiOiAidmVydGV4IiwgInByb3BzIjogeyJjb2xvciI6IDY1MjgwfX0K');</script>\n",
       "    "
      ],
      "text/plain": [
       "<IPython.core.display.HTML object>"
      ]
     },
     "metadata": {},
     "output_type": "display_data"
    },
    {
     "data": {
      "text/html": [
       "\n",
       "        <div id=\"RPRwPBwKczxHG4GihdHUh4\"></div>\n",
       "        <script>netpixi.call('RPRwPBwKczxHG4GihdHUh4', 'fVwUfyxuuBDWvZsTkxzZk2', 'changeGraph', 'eyJpZCI6IDIwMiwgInR5cGUiOiAidmVydGV4IiwgInByb3BzIjogeyJjb2xvciI6IDE2NzExNjgwfX0K');</script>\n",
       "    "
      ],
      "text/plain": [
       "<IPython.core.display.HTML object>"
      ]
     },
     "metadata": {},
     "output_type": "display_data"
    },
    {
     "data": {
      "text/html": [
       "\n",
       "        <div id=\"jTM6LKNxm7t8s2ws38cxYW\"></div>\n",
       "        <script>netpixi.call('jTM6LKNxm7t8s2ws38cxYW', 'fVwUfyxuuBDWvZsTkxzZk2', 'changeGraph', 'eyJpZCI6IDIwMywgInR5cGUiOiAidmVydGV4IiwgInByb3BzIjogeyJjb2xvciI6IDE2NzExNjgwfX0K');</script>\n",
       "    "
      ],
      "text/plain": [
       "<IPython.core.display.HTML object>"
      ]
     },
     "metadata": {},
     "output_type": "display_data"
    },
    {
     "data": {
      "text/html": [
       "\n",
       "        <div id=\"7vvE2d5qRtYjtHnALW9ncn\"></div>\n",
       "        <script>netpixi.call('7vvE2d5qRtYjtHnALW9ncn', 'fVwUfyxuuBDWvZsTkxzZk2', 'changeGraph', 'eyJpZCI6IDIwNCwgInR5cGUiOiAidmVydGV4IiwgInByb3BzIjogeyJjb2xvciI6IDY1MjgwfX0K');</script>\n",
       "    "
      ],
      "text/plain": [
       "<IPython.core.display.HTML object>"
      ]
     },
     "metadata": {},
     "output_type": "display_data"
    },
    {
     "data": {
      "text/html": [
       "\n",
       "        <div id=\"P2pQMBTNKNDj7sWM2j478A\"></div>\n",
       "        <script>netpixi.call('P2pQMBTNKNDj7sWM2j478A', 'fVwUfyxuuBDWvZsTkxzZk2', 'changeGraph', 'eyJpZCI6IDIwNSwgInR5cGUiOiAidmVydGV4IiwgInByb3BzIjogeyJjb2xvciI6IDY1MjgwfX0K');</script>\n",
       "    "
      ],
      "text/plain": [
       "<IPython.core.display.HTML object>"
      ]
     },
     "metadata": {},
     "output_type": "display_data"
    },
    {
     "data": {
      "text/html": [
       "\n",
       "        <div id=\"Fj6KMdW3zQS5C4jfikgNRk\"></div>\n",
       "        <script>netpixi.call('Fj6KMdW3zQS5C4jfikgNRk', 'fVwUfyxuuBDWvZsTkxzZk2', 'changeGraph', 'eyJpZCI6IDIwNiwgInR5cGUiOiAidmVydGV4IiwgInByb3BzIjogeyJjb2xvciI6IDY1MjgwfX0K');</script>\n",
       "    "
      ],
      "text/plain": [
       "<IPython.core.display.HTML object>"
      ]
     },
     "metadata": {},
     "output_type": "display_data"
    },
    {
     "data": {
      "text/html": [
       "\n",
       "        <div id=\"GrVZyuq3vvy9d5EzAgx8YS\"></div>\n",
       "        <script>netpixi.call('GrVZyuq3vvy9d5EzAgx8YS', 'fVwUfyxuuBDWvZsTkxzZk2', 'changeGraph', 'eyJpZCI6IDIwNywgInR5cGUiOiAidmVydGV4IiwgInByb3BzIjogeyJjb2xvciI6IDE2NzExNjgwfX0K');</script>\n",
       "    "
      ],
      "text/plain": [
       "<IPython.core.display.HTML object>"
      ]
     },
     "metadata": {},
     "output_type": "display_data"
    },
    {
     "data": {
      "text/html": [
       "\n",
       "        <div id=\"dPFKPnRv4MyAtAZHb59w8r\"></div>\n",
       "        <script>netpixi.call('dPFKPnRv4MyAtAZHb59w8r', 'fVwUfyxuuBDWvZsTkxzZk2', 'changeGraph', 'eyJpZCI6IDIwOCwgInR5cGUiOiAidmVydGV4IiwgInByb3BzIjogeyJjb2xvciI6IDY1MjgwfX0K');</script>\n",
       "    "
      ],
      "text/plain": [
       "<IPython.core.display.HTML object>"
      ]
     },
     "metadata": {},
     "output_type": "display_data"
    },
    {
     "data": {
      "text/html": [
       "\n",
       "        <div id=\"kfnXZzwSFma32kG6AbLNe6\"></div>\n",
       "        <script>netpixi.call('kfnXZzwSFma32kG6AbLNe6', 'fVwUfyxuuBDWvZsTkxzZk2', 'changeGraph', 'eyJpZCI6IDIwOSwgInR5cGUiOiAidmVydGV4IiwgInByb3BzIjogeyJjb2xvciI6IDY1MjgwfX0K');</script>\n",
       "    "
      ],
      "text/plain": [
       "<IPython.core.display.HTML object>"
      ]
     },
     "metadata": {},
     "output_type": "display_data"
    },
    {
     "data": {
      "text/html": [
       "\n",
       "        <div id=\"CuAfGCc4rT9Ty9smPZgsep\"></div>\n",
       "        <script>netpixi.call('CuAfGCc4rT9Ty9smPZgsep', 'fVwUfyxuuBDWvZsTkxzZk2', 'changeGraph', 'eyJpZCI6IDIxMCwgInR5cGUiOiAidmVydGV4IiwgInByb3BzIjogeyJjb2xvciI6IDY1MjgwfX0K');</script>\n",
       "    "
      ],
      "text/plain": [
       "<IPython.core.display.HTML object>"
      ]
     },
     "metadata": {},
     "output_type": "display_data"
    },
    {
     "data": {
      "text/html": [
       "\n",
       "        <div id=\"jjuq6FRFf5ktp7AoVxTXtB\"></div>\n",
       "        <script>netpixi.call('jjuq6FRFf5ktp7AoVxTXtB', 'fVwUfyxuuBDWvZsTkxzZk2', 'changeGraph', 'eyJpZCI6IDIxMSwgInR5cGUiOiAidmVydGV4IiwgInByb3BzIjogeyJjb2xvciI6IDY1MjgwfX0K');</script>\n",
       "    "
      ],
      "text/plain": [
       "<IPython.core.display.HTML object>"
      ]
     },
     "metadata": {},
     "output_type": "display_data"
    },
    {
     "data": {
      "text/html": [
       "\n",
       "        <div id=\"SoS3XG8vq8BGpnqzC8evzq\"></div>\n",
       "        <script>netpixi.call('SoS3XG8vq8BGpnqzC8evzq', 'fVwUfyxuuBDWvZsTkxzZk2', 'changeGraph', 'eyJpZCI6IDIxMiwgInR5cGUiOiAidmVydGV4IiwgInByb3BzIjogeyJjb2xvciI6IDE2NzExNjgwfX0K');</script>\n",
       "    "
      ],
      "text/plain": [
       "<IPython.core.display.HTML object>"
      ]
     },
     "metadata": {},
     "output_type": "display_data"
    },
    {
     "data": {
      "text/html": [
       "\n",
       "        <div id=\"in7tU89W8KJwFPC5iDrXkt\"></div>\n",
       "        <script>netpixi.call('in7tU89W8KJwFPC5iDrXkt', 'fVwUfyxuuBDWvZsTkxzZk2', 'changeGraph', 'eyJpZCI6IDIxMywgInR5cGUiOiAidmVydGV4IiwgInByb3BzIjogeyJjb2xvciI6IDE2NzExNjgwfX0K');</script>\n",
       "    "
      ],
      "text/plain": [
       "<IPython.core.display.HTML object>"
      ]
     },
     "metadata": {},
     "output_type": "display_data"
    },
    {
     "data": {
      "text/html": [
       "\n",
       "        <div id=\"LW6ApkPzfUGrm5PxBVjgg8\"></div>\n",
       "        <script>netpixi.call('LW6ApkPzfUGrm5PxBVjgg8', 'fVwUfyxuuBDWvZsTkxzZk2', 'changeGraph', 'eyJpZCI6IDIxNCwgInR5cGUiOiAidmVydGV4IiwgInByb3BzIjogeyJjb2xvciI6IDY1MjgwfX0K');</script>\n",
       "    "
      ],
      "text/plain": [
       "<IPython.core.display.HTML object>"
      ]
     },
     "metadata": {},
     "output_type": "display_data"
    },
    {
     "data": {
      "text/html": [
       "\n",
       "        <div id=\"6hhahzSfSF7J8tGgnQsDY4\"></div>\n",
       "        <script>netpixi.call('6hhahzSfSF7J8tGgnQsDY4', 'fVwUfyxuuBDWvZsTkxzZk2', 'changeGraph', 'eyJpZCI6IDIxNSwgInR5cGUiOiAidmVydGV4IiwgInByb3BzIjogeyJjb2xvciI6IDY1MjgwfX0K');</script>\n",
       "    "
      ],
      "text/plain": [
       "<IPython.core.display.HTML object>"
      ]
     },
     "metadata": {},
     "output_type": "display_data"
    },
    {
     "data": {
      "text/html": [
       "\n",
       "        <div id=\"P6J4CnvdNsCELXHzh6y28i\"></div>\n",
       "        <script>netpixi.call('P6J4CnvdNsCELXHzh6y28i', 'fVwUfyxuuBDWvZsTkxzZk2', 'changeGraph', 'eyJpZCI6IDIxNiwgInR5cGUiOiAidmVydGV4IiwgInByb3BzIjogeyJjb2xvciI6IDY1MjgwfX0K');</script>\n",
       "    "
      ],
      "text/plain": [
       "<IPython.core.display.HTML object>"
      ]
     },
     "metadata": {},
     "output_type": "display_data"
    }
   ],
   "source": [
    "import cpnet\n",
    "\n",
    "from graph_tool import spectral\n",
    "\n",
    "matrix = spectral.adjacency(g)\n",
    "\n",
    "# Além de cpnet.Surprise, há outras\n",
    "# opções de algoritmos discretos:\n",
    "# cpnet.BE\n",
    "# cpnet.Lip\n",
    "# cpnet.LapCore\n",
    "# cpnet.LapSgnCore\n",
    "# cpnet.LowRankCore\n",
    "\n",
    "algorithm = cpnet.Surprise()\n",
    "algorithm.detect(matrix)\n",
    "c = algorithm.get_coreness()\n",
    "\n",
    "# Depois do código acima, c é um dicionário\n",
    "# em que as chaves são índices de vértices e\n",
    "# valores são os atribuídos pelo algoritmo.\n",
    "\n",
    "g.add_vp('core')\n",
    "for i, coreness in c.items():\n",
    "    v = g.get_vertex_by_index(i)\n",
    "    v['core'] = int(coreness)\n",
    "    \n",
    "# Vamos pintar de vermelho todos os vértices\n",
    "# identificados como centro e de verde todos\n",
    "# os vértices identificados como periferia.\n",
    "    \n",
    "for v in g.all_vertices():\n",
    "    if v['core'] == 1:\n",
    "        r.vertex(v['id'], color=0xff0000)\n",
    "    else:\n",
    "        r.vertex(v['id'], color=0x00ff00)\n",
    "    \n",
    "\n",
    "# Quando a execução desta célula terminar,\n",
    "# veja como ficou a visualização acima."
   ]
  },
  {
   "cell_type": "code",
   "execution_count": 67,
   "metadata": {},
   "outputs": [
    {
     "data": {
      "text/html": [
       "\n",
       "        <div id=\"YTFNCN9kYzeLFxFo3cikGV\"></div>\n",
       "        <script>netpixi.call('YTFNCN9kYzeLFxFo3cikGV', 'fVwUfyxuuBDWvZsTkxzZk2', 'changeGraph', 'eyJpZCI6IDAsICJ0eXBlIjogInZlcnRleCIsICJwcm9wcyI6IHsic2l6ZSI6IDE0LjIxOTY1MzE3OTE5MDc1fX0K');</script>\n",
       "    "
      ],
      "text/plain": [
       "<IPython.core.display.HTML object>"
      ]
     },
     "metadata": {},
     "output_type": "display_data"
    },
    {
     "data": {
      "text/html": [
       "\n",
       "        <div id=\"hZvHxx8yoTUfrxTbP4LaBe\"></div>\n",
       "        <script>netpixi.call('hZvHxx8yoTUfrxTbP4LaBe', 'fVwUfyxuuBDWvZsTkxzZk2', 'changeGraph', 'eyJpZCI6IDEsICJ0eXBlIjogInZlcnRleCIsICJwcm9wcyI6IHsic2l6ZSI6IDE5LjEzMjk0Nzk3Njg3ODYxfX0K');</script>\n",
       "    "
      ],
      "text/plain": [
       "<IPython.core.display.HTML object>"
      ]
     },
     "metadata": {},
     "output_type": "display_data"
    },
    {
     "data": {
      "text/html": [
       "\n",
       "        <div id=\"DqeYy6FkhXnHTsZRRB58ND\"></div>\n",
       "        <script>netpixi.call('DqeYy6FkhXnHTsZRRB58ND', 'fVwUfyxuuBDWvZsTkxzZk2', 'changeGraph', 'eyJpZCI6IDIsICJ0eXBlIjogInZlcnRleCIsICJwcm9wcyI6IHsic2l6ZSI6IDE2LjUzMTc5MTkwNzUxNDQ1fX0K');</script>\n",
       "    "
      ],
      "text/plain": [
       "<IPython.core.display.HTML object>"
      ]
     },
     "metadata": {},
     "output_type": "display_data"
    },
    {
     "data": {
      "text/html": [
       "\n",
       "        <div id=\"LFBSEgFwpFJvkbwWZRH4wJ\"></div>\n",
       "        <script>netpixi.call('LFBSEgFwpFJvkbwWZRH4wJ', 'fVwUfyxuuBDWvZsTkxzZk2', 'changeGraph', 'eyJpZCI6IDMsICJ0eXBlIjogInZlcnRleCIsICJwcm9wcyI6IHsic2l6ZSI6IDE4LjYxMjcxNjc2MzAwNTc4fX0K');</script>\n",
       "    "
      ],
      "text/plain": [
       "<IPython.core.display.HTML object>"
      ]
     },
     "metadata": {},
     "output_type": "display_data"
    },
    {
     "data": {
      "text/html": [
       "\n",
       "        <div id=\"EWDMnhTT9GM37cbHEPWTPV\"></div>\n",
       "        <script>netpixi.call('EWDMnhTT9GM37cbHEPWTPV', 'fVwUfyxuuBDWvZsTkxzZk2', 'changeGraph', 'eyJpZCI6IDQsICJ0eXBlIjogInZlcnRleCIsICJwcm9wcyI6IHsic2l6ZSI6IDEzLjk4ODQzOTMwNjM1ODM4fX0K');</script>\n",
       "    "
      ],
      "text/plain": [
       "<IPython.core.display.HTML object>"
      ]
     },
     "metadata": {},
     "output_type": "display_data"
    },
    {
     "data": {
      "text/html": [
       "\n",
       "        <div id=\"9ijoEcht9UjVyrmFoJPBab\"></div>\n",
       "        <script>netpixi.call('9ijoEcht9UjVyrmFoJPBab', 'fVwUfyxuuBDWvZsTkxzZk2', 'changeGraph', 'eyJpZCI6IDUsICJ0eXBlIjogInZlcnRleCIsICJwcm9wcyI6IHsic2l6ZSI6IDEyLjY1ODk1OTUzNzU3MjI1NX19Cg==');</script>\n",
       "    "
      ],
      "text/plain": [
       "<IPython.core.display.HTML object>"
      ]
     },
     "metadata": {},
     "output_type": "display_data"
    },
    {
     "data": {
      "text/html": [
       "\n",
       "        <div id=\"o5uLUyuwvL6EnzyWzwDiCA\"></div>\n",
       "        <script>netpixi.call('o5uLUyuwvL6EnzyWzwDiCA', 'fVwUfyxuuBDWvZsTkxzZk2', 'changeGraph', 'eyJpZCI6IDYsICJ0eXBlIjogInZlcnRleCIsICJwcm9wcyI6IHsic2l6ZSI6IDE0LjQ1MDg2NzA1MjAyMzEyfX0K');</script>\n",
       "    "
      ],
      "text/plain": [
       "<IPython.core.display.HTML object>"
      ]
     },
     "metadata": {},
     "output_type": "display_data"
    },
    {
     "data": {
      "text/html": [
       "\n",
       "        <div id=\"BViNk2Zq2HLDwoTa6sLkbs\"></div>\n",
       "        <script>netpixi.call('BViNk2Zq2HLDwoTa6sLkbs', 'fVwUfyxuuBDWvZsTkxzZk2', 'changeGraph', 'eyJpZCI6IDcsICJ0eXBlIjogInZlcnRleCIsICJwcm9wcyI6IHsic2l6ZSI6IDE4LjkwMTczNDEwNDA0NjI0fX0K');</script>\n",
       "    "
      ],
      "text/plain": [
       "<IPython.core.display.HTML object>"
      ]
     },
     "metadata": {},
     "output_type": "display_data"
    },
    {
     "data": {
      "text/html": [
       "\n",
       "        <div id=\"EvBsYPRwwhv7tT56s54A98\"></div>\n",
       "        <script>netpixi.call('EvBsYPRwwhv7tT56s54A98', 'fVwUfyxuuBDWvZsTkxzZk2', 'changeGraph', 'eyJpZCI6IDgsICJ0eXBlIjogInZlcnRleCIsICJwcm9wcyI6IHsic2l6ZSI6IDEyLjcxNjc2MzAwNTc4MDM0N319Cg==');</script>\n",
       "    "
      ],
      "text/plain": [
       "<IPython.core.display.HTML object>"
      ]
     },
     "metadata": {},
     "output_type": "display_data"
    },
    {
     "data": {
      "text/html": [
       "\n",
       "        <div id=\"YFCAa4XNVQHXtqQbrKpndh\"></div>\n",
       "        <script>netpixi.call('YFCAa4XNVQHXtqQbrKpndh', 'fVwUfyxuuBDWvZsTkxzZk2', 'changeGraph', 'eyJpZCI6IDksICJ0eXBlIjogInZlcnRleCIsICJwcm9wcyI6IHsic2l6ZSI6IDE0LjczOTg4NDM5MzA2MzU4M319Cg==');</script>\n",
       "    "
      ],
      "text/plain": [
       "<IPython.core.display.HTML object>"
      ]
     },
     "metadata": {},
     "output_type": "display_data"
    },
    {
     "data": {
      "text/html": [
       "\n",
       "        <div id=\"DVWUqwtg9MJp83wcnsUFUJ\"></div>\n",
       "        <script>netpixi.call('DVWUqwtg9MJp83wcnsUFUJ', 'fVwUfyxuuBDWvZsTkxzZk2', 'changeGraph', 'eyJpZCI6IDEwLCAidHlwZSI6ICJ2ZXJ0ZXgiLCAicHJvcHMiOiB7InNpemUiOiAxMy4wMDU3ODAzNDY4MjA4MX19Cg==');</script>\n",
       "    "
      ],
      "text/plain": [
       "<IPython.core.display.HTML object>"
      ]
     },
     "metadata": {},
     "output_type": "display_data"
    },
    {
     "data": {
      "text/html": [
       "\n",
       "        <div id=\"GnPgYeBGWSP86qs2FvYSzZ\"></div>\n",
       "        <script>netpixi.call('GnPgYeBGWSP86qs2FvYSzZ', 'fVwUfyxuuBDWvZsTkxzZk2', 'changeGraph', 'eyJpZCI6IDExLCAidHlwZSI6ICJ2ZXJ0ZXgiLCAicHJvcHMiOiB7InNpemUiOiAxNy44NjEyNzE2NzYzMDA1OH19Cg==');</script>\n",
       "    "
      ],
      "text/plain": [
       "<IPython.core.display.HTML object>"
      ]
     },
     "metadata": {},
     "output_type": "display_data"
    },
    {
     "data": {
      "text/html": [
       "\n",
       "        <div id=\"iQarZH4Y48m7LECMbxmmrF\"></div>\n",
       "        <script>netpixi.call('iQarZH4Y48m7LECMbxmmrF', 'fVwUfyxuuBDWvZsTkxzZk2', 'changeGraph', 'eyJpZCI6IDEyLCAidHlwZSI6ICJ2ZXJ0ZXgiLCAicHJvcHMiOiB7InNpemUiOiAxMi4xOTY1MzE3OTE5MDc1MTR9fQo=');</script>\n",
       "    "
      ],
      "text/plain": [
       "<IPython.core.display.HTML object>"
      ]
     },
     "metadata": {},
     "output_type": "display_data"
    },
    {
     "data": {
      "text/html": [
       "\n",
       "        <div id=\"ghfdsF2BypvWZaAcxKvJpQ\"></div>\n",
       "        <script>netpixi.call('ghfdsF2BypvWZaAcxKvJpQ', 'fVwUfyxuuBDWvZsTkxzZk2', 'changeGraph', 'eyJpZCI6IDEzLCAidHlwZSI6ICJ2ZXJ0ZXgiLCAicHJvcHMiOiB7InNpemUiOiAxNi40MTYxODQ5NzEwOTgyNjR9fQo=');</script>\n",
       "    "
      ],
      "text/plain": [
       "<IPython.core.display.HTML object>"
      ]
     },
     "metadata": {},
     "output_type": "display_data"
    },
    {
     "data": {
      "text/html": [
       "\n",
       "        <div id=\"AvBmNjHyWxqeBB2jqUSvT6\"></div>\n",
       "        <script>netpixi.call('AvBmNjHyWxqeBB2jqUSvT6', 'fVwUfyxuuBDWvZsTkxzZk2', 'changeGraph', 'eyJpZCI6IDE0LCAidHlwZSI6ICJ2ZXJ0ZXgiLCAicHJvcHMiOiB7InNpemUiOiAxMy40NjgyMDgwOTI0ODU1NDl9fQo=');</script>\n",
       "    "
      ],
      "text/plain": [
       "<IPython.core.display.HTML object>"
      ]
     },
     "metadata": {},
     "output_type": "display_data"
    },
    {
     "data": {
      "text/html": [
       "\n",
       "        <div id=\"EtCcqXFKjHa9evN8SfCRGK\"></div>\n",
       "        <script>netpixi.call('EtCcqXFKjHa9evN8SfCRGK', 'fVwUfyxuuBDWvZsTkxzZk2', 'changeGraph', 'eyJpZCI6IDE1LCAidHlwZSI6ICJ2ZXJ0ZXgiLCAicHJvcHMiOiB7InNpemUiOiAxNi43NjMwMDU3ODAzNDY4Mn19Cg==');</script>\n",
       "    "
      ],
      "text/plain": [
       "<IPython.core.display.HTML object>"
      ]
     },
     "metadata": {},
     "output_type": "display_data"
    },
    {
     "data": {
      "text/html": [
       "\n",
       "        <div id=\"5EwWzrGE9rin7GeXP57mGJ\"></div>\n",
       "        <script>netpixi.call('5EwWzrGE9rin7GeXP57mGJ', 'fVwUfyxuuBDWvZsTkxzZk2', 'changeGraph', 'eyJpZCI6IDE2LCAidHlwZSI6ICJ2ZXJ0ZXgiLCAicHJvcHMiOiB7InNpemUiOiAxNy4zNDEwNDA0NjI0Mjc3NDV9fQo=');</script>\n",
       "    "
      ],
      "text/plain": [
       "<IPython.core.display.HTML object>"
      ]
     },
     "metadata": {},
     "output_type": "display_data"
    },
    {
     "data": {
      "text/html": [
       "\n",
       "        <div id=\"TaUzzTsMhemdguW5MPYm4v\"></div>\n",
       "        <script>netpixi.call('TaUzzTsMhemdguW5MPYm4v', 'fVwUfyxuuBDWvZsTkxzZk2', 'changeGraph', 'eyJpZCI6IDE3LCAidHlwZSI6ICJ2ZXJ0ZXgiLCAicHJvcHMiOiB7InNpemUiOiAxMy4wNjM1ODM4MTUwMjg5fX0K');</script>\n",
       "    "
      ],
      "text/plain": [
       "<IPython.core.display.HTML object>"
      ]
     },
     "metadata": {},
     "output_type": "display_data"
    },
    {
     "data": {
      "text/html": [
       "\n",
       "        <div id=\"V3D8C4D2wizU56ZLnjP2nW\"></div>\n",
       "        <script>netpixi.call('V3D8C4D2wizU56ZLnjP2nW', 'fVwUfyxuuBDWvZsTkxzZk2', 'changeGraph', 'eyJpZCI6IDE4LCAidHlwZSI6ICJ2ZXJ0ZXgiLCAicHJvcHMiOiB7InNpemUiOiAxMC4xNzM0MTA0MDQ2MjQyNzh9fQo=');</script>\n",
       "    "
      ],
      "text/plain": [
       "<IPython.core.display.HTML object>"
      ]
     },
     "metadata": {},
     "output_type": "display_data"
    },
    {
     "data": {
      "text/html": [
       "\n",
       "        <div id=\"UbqX7P3joeVD6fMR9VyYfY\"></div>\n",
       "        <script>netpixi.call('UbqX7P3joeVD6fMR9VyYfY', 'fVwUfyxuuBDWvZsTkxzZk2', 'changeGraph', 'eyJpZCI6IDE5LCAidHlwZSI6ICJ2ZXJ0ZXgiLCAicHJvcHMiOiB7InNpemUiOiA0MS41OTA5MDkwOTA5MDkwOX19Cg==');</script>\n",
       "    "
      ],
      "text/plain": [
       "<IPython.core.display.HTML object>"
      ]
     },
     "metadata": {},
     "output_type": "display_data"
    },
    {
     "data": {
      "text/html": [
       "\n",
       "        <div id=\"fnHsBbVP2nCpyTvyRE4CXa\"></div>\n",
       "        <script>netpixi.call('fnHsBbVP2nCpyTvyRE4CXa', 'fVwUfyxuuBDWvZsTkxzZk2', 'changeGraph', 'eyJpZCI6IDIwLCAidHlwZSI6ICJ2ZXJ0ZXgiLCAicHJvcHMiOiB7InNpemUiOiAxNC41NjY0NzM5ODg0MzkzMDZ9fQo=');</script>\n",
       "    "
      ],
      "text/plain": [
       "<IPython.core.display.HTML object>"
      ]
     },
     "metadata": {},
     "output_type": "display_data"
    },
    {
     "data": {
      "text/html": [
       "\n",
       "        <div id=\"4cR4JpY3svHDZE3G2PcayN\"></div>\n",
       "        <script>netpixi.call('4cR4JpY3svHDZE3G2PcayN', 'fVwUfyxuuBDWvZsTkxzZk2', 'changeGraph', 'eyJpZCI6IDIxLCAidHlwZSI6ICJ2ZXJ0ZXgiLCAicHJvcHMiOiB7InNpemUiOiA0Mi41fX0K');</script>\n",
       "    "
      ],
      "text/plain": [
       "<IPython.core.display.HTML object>"
      ]
     },
     "metadata": {},
     "output_type": "display_data"
    },
    {
     "data": {
      "text/html": [
       "\n",
       "        <div id=\"iQuxoB2bRiLShyeod4PEr6\"></div>\n",
       "        <script>netpixi.call('iQuxoB2bRiLShyeod4PEr6', 'fVwUfyxuuBDWvZsTkxzZk2', 'changeGraph', 'eyJpZCI6IDIyLCAidHlwZSI6ICJ2ZXJ0ZXgiLCAicHJvcHMiOiB7InNpemUiOiAxNS4wODY3MDUyMDIzMTIxMzl9fQo=');</script>\n",
       "    "
      ],
      "text/plain": [
       "<IPython.core.display.HTML object>"
      ]
     },
     "metadata": {},
     "output_type": "display_data"
    },
    {
     "data": {
      "text/html": [
       "\n",
       "        <div id=\"GFH9UjL2L8tjZRihcTTLcY\"></div>\n",
       "        <script>netpixi.call('GFH9UjL2L8tjZRihcTTLcY', 'fVwUfyxuuBDWvZsTkxzZk2', 'changeGraph', 'eyJpZCI6IDIzLCAidHlwZSI6ICJ2ZXJ0ZXgiLCAicHJvcHMiOiB7InNpemUiOiAxMC40MDQ2MjQyNzc0NTY2NDh9fQo=');</script>\n",
       "    "
      ],
      "text/plain": [
       "<IPython.core.display.HTML object>"
      ]
     },
     "metadata": {},
     "output_type": "display_data"
    },
    {
     "data": {
      "text/html": [
       "\n",
       "        <div id=\"5VmYf7xLm9cJLgovqxk3xx\"></div>\n",
       "        <script>netpixi.call('5VmYf7xLm9cJLgovqxk3xx', 'fVwUfyxuuBDWvZsTkxzZk2', 'changeGraph', 'eyJpZCI6IDI0LCAidHlwZSI6ICJ2ZXJ0ZXgiLCAicHJvcHMiOiB7InNpemUiOiA0NC41NDU0NTQ1NDU0NTQ1NX19Cg==');</script>\n",
       "    "
      ],
      "text/plain": [
       "<IPython.core.display.HTML object>"
      ]
     },
     "metadata": {},
     "output_type": "display_data"
    },
    {
     "data": {
      "text/html": [
       "\n",
       "        <div id=\"DxYqjzW6xnVua2o95SP6VD\"></div>\n",
       "        <script>netpixi.call('DxYqjzW6xnVua2o95SP6VD', 'fVwUfyxuuBDWvZsTkxzZk2', 'changeGraph', 'eyJpZCI6IDI1LCAidHlwZSI6ICJ2ZXJ0ZXgiLCAicHJvcHMiOiB7InNpemUiOiA0OS4zMTgxODE4MTgxODE4MX19Cg==');</script>\n",
       "    "
      ],
      "text/plain": [
       "<IPython.core.display.HTML object>"
      ]
     },
     "metadata": {},
     "output_type": "display_data"
    },
    {
     "data": {
      "text/html": [
       "\n",
       "        <div id=\"cuy9sE7z4zUrtC8h3wVuRa\"></div>\n",
       "        <script>netpixi.call('cuy9sE7z4zUrtC8h3wVuRa', 'fVwUfyxuuBDWvZsTkxzZk2', 'changeGraph', 'eyJpZCI6IDI2LCAidHlwZSI6ICJ2ZXJ0ZXgiLCAicHJvcHMiOiB7InNpemUiOiAxNS42NjQ3Mzk4ODQzOTMwNjN9fQo=');</script>\n",
       "    "
      ],
      "text/plain": [
       "<IPython.core.display.HTML object>"
      ]
     },
     "metadata": {},
     "output_type": "display_data"
    },
    {
     "data": {
      "text/html": [
       "\n",
       "        <div id=\"W6zzDGfwQijqDotQim6fCK\"></div>\n",
       "        <script>netpixi.call('W6zzDGfwQijqDotQim6fCK', 'fVwUfyxuuBDWvZsTkxzZk2', 'changeGraph', 'eyJpZCI6IDI3LCAidHlwZSI6ICJ2ZXJ0ZXgiLCAicHJvcHMiOiB7InNpemUiOiAxNy42MzAwNTc4MDM0NjgyMX19Cg==');</script>\n",
       "    "
      ],
      "text/plain": [
       "<IPython.core.display.HTML object>"
      ]
     },
     "metadata": {},
     "output_type": "display_data"
    },
    {
     "data": {
      "text/html": [
       "\n",
       "        <div id=\"mH6N6Bwu7hXQVQx6JzjchD\"></div>\n",
       "        <script>netpixi.call('mH6N6Bwu7hXQVQx6JzjchD', 'fVwUfyxuuBDWvZsTkxzZk2', 'changeGraph', 'eyJpZCI6IDI4LCAidHlwZSI6ICJ2ZXJ0ZXgiLCAicHJvcHMiOiB7InNpemUiOiA0MS4xMzYzNjM2MzYzNjM2NH19Cg==');</script>\n",
       "    "
      ],
      "text/plain": [
       "<IPython.core.display.HTML object>"
      ]
     },
     "metadata": {},
     "output_type": "display_data"
    },
    {
     "data": {
      "text/html": [
       "\n",
       "        <div id=\"XB8kx7T5a339gVsKELKjKP\"></div>\n",
       "        <script>netpixi.call('XB8kx7T5a339gVsKELKjKP', 'fVwUfyxuuBDWvZsTkxzZk2', 'changeGraph', 'eyJpZCI6IDI5LCAidHlwZSI6ICJ2ZXJ0ZXgiLCAicHJvcHMiOiB7InNpemUiOiAxOS44MjY1ODk1OTUzNzU3MjJ9fQo=');</script>\n",
       "    "
      ],
      "text/plain": [
       "<IPython.core.display.HTML object>"
      ]
     },
     "metadata": {},
     "output_type": "display_data"
    },
    {
     "data": {
      "text/html": [
       "\n",
       "        <div id=\"DusrgwT2bCZYmPUeDnUPB5\"></div>\n",
       "        <script>netpixi.call('DusrgwT2bCZYmPUeDnUPB5', 'fVwUfyxuuBDWvZsTkxzZk2', 'changeGraph', 'eyJpZCI6IDMwLCAidHlwZSI6ICJ2ZXJ0ZXgiLCAicHJvcHMiOiB7InNpemUiOiAxNC4wNDYyNDI3NzQ1NjY0NzN9fQo=');</script>\n",
       "    "
      ],
      "text/plain": [
       "<IPython.core.display.HTML object>"
      ]
     },
     "metadata": {},
     "output_type": "display_data"
    },
    {
     "data": {
      "text/html": [
       "\n",
       "        <div id=\"4kPqQ42EkbndvXH3vRHQuu\"></div>\n",
       "        <script>netpixi.call('4kPqQ42EkbndvXH3vRHQuu', 'fVwUfyxuuBDWvZsTkxzZk2', 'changeGraph', 'eyJpZCI6IDMxLCAidHlwZSI6ICJ2ZXJ0ZXgiLCAicHJvcHMiOiB7InNpemUiOiA0MS4zNjM2MzYzNjM2MzYzNn19Cg==');</script>\n",
       "    "
      ],
      "text/plain": [
       "<IPython.core.display.HTML object>"
      ]
     },
     "metadata": {},
     "output_type": "display_data"
    },
    {
     "data": {
      "text/html": [
       "\n",
       "        <div id=\"2McanynTKRTHHuh7HvFe2N\"></div>\n",
       "        <script>netpixi.call('2McanynTKRTHHuh7HvFe2N', 'fVwUfyxuuBDWvZsTkxzZk2', 'changeGraph', 'eyJpZCI6IDMyLCAidHlwZSI6ICJ2ZXJ0ZXgiLCAicHJvcHMiOiB7InNpemUiOiAxMi44OTAxNzM0MTA0MDQ2MjV9fQo=');</script>\n",
       "    "
      ],
      "text/plain": [
       "<IPython.core.display.HTML object>"
      ]
     },
     "metadata": {},
     "output_type": "display_data"
    },
    {
     "data": {
      "text/html": [
       "\n",
       "        <div id=\"YcnfhGJQN77TF2BxNBmJJi\"></div>\n",
       "        <script>netpixi.call('YcnfhGJQN77TF2BxNBmJJi', 'fVwUfyxuuBDWvZsTkxzZk2', 'changeGraph', 'eyJpZCI6IDMzLCAidHlwZSI6ICJ2ZXJ0ZXgiLCAicHJvcHMiOiB7InNpemUiOiAxMC44NjcwNTIwMjMxMjEzODd9fQo=');</script>\n",
       "    "
      ],
      "text/plain": [
       "<IPython.core.display.HTML object>"
      ]
     },
     "metadata": {},
     "output_type": "display_data"
    },
    {
     "data": {
      "text/html": [
       "\n",
       "        <div id=\"WEGga2ttsq2AwkDQ34yKt7\"></div>\n",
       "        <script>netpixi.call('WEGga2ttsq2AwkDQ34yKt7', 'fVwUfyxuuBDWvZsTkxzZk2', 'changeGraph', 'eyJpZCI6IDM0LCAidHlwZSI6ICJ2ZXJ0ZXgiLCAicHJvcHMiOiB7InNpemUiOiAxNC45NzEwOTgyNjU4OTU5NTR9fQo=');</script>\n",
       "    "
      ],
      "text/plain": [
       "<IPython.core.display.HTML object>"
      ]
     },
     "metadata": {},
     "output_type": "display_data"
    },
    {
     "data": {
      "text/html": [
       "\n",
       "        <div id=\"WNafcLzBaPLo5MkcAjH9Gw\"></div>\n",
       "        <script>netpixi.call('WNafcLzBaPLo5MkcAjH9Gw', 'fVwUfyxuuBDWvZsTkxzZk2', 'changeGraph', 'eyJpZCI6IDM1LCAidHlwZSI6ICJ2ZXJ0ZXgiLCAicHJvcHMiOiB7InNpemUiOiAxOC4zMjM2OTk0MjE5NjUzMTZ9fQo=');</script>\n",
       "    "
      ],
      "text/plain": [
       "<IPython.core.display.HTML object>"
      ]
     },
     "metadata": {},
     "output_type": "display_data"
    },
    {
     "data": {
      "text/html": [
       "\n",
       "        <div id=\"LRBjt8QKdvA7bJW4nKWACp\"></div>\n",
       "        <script>netpixi.call('LRBjt8QKdvA7bJW4nKWACp', 'fVwUfyxuuBDWvZsTkxzZk2', 'changeGraph', 'eyJpZCI6IDM2LCAidHlwZSI6ICJ2ZXJ0ZXgiLCAicHJvcHMiOiB7InNpemUiOiAxOC43ODYxMjcxNjc2MzAwNTZ9fQo=');</script>\n",
       "    "
      ],
      "text/plain": [
       "<IPython.core.display.HTML object>"
      ]
     },
     "metadata": {},
     "output_type": "display_data"
    },
    {
     "data": {
      "text/html": [
       "\n",
       "        <div id=\"J2RYsXxZMGV5J5VYPABnC4\"></div>\n",
       "        <script>netpixi.call('J2RYsXxZMGV5J5VYPABnC4', 'fVwUfyxuuBDWvZsTkxzZk2', 'changeGraph', 'eyJpZCI6IDM3LCAidHlwZSI6ICJ2ZXJ0ZXgiLCAicHJvcHMiOiB7InNpemUiOiAxNi42NDczOTg4NDM5MzA2MzV9fQo=');</script>\n",
       "    "
      ],
      "text/plain": [
       "<IPython.core.display.HTML object>"
      ]
     },
     "metadata": {},
     "output_type": "display_data"
    },
    {
     "data": {
      "text/html": [
       "\n",
       "        <div id=\"VWLrBXKcimk88V52guNj7d\"></div>\n",
       "        <script>netpixi.call('VWLrBXKcimk88V52guNj7d', 'fVwUfyxuuBDWvZsTkxzZk2', 'changeGraph', 'eyJpZCI6IDM4LCAidHlwZSI6ICJ2ZXJ0ZXgiLCAicHJvcHMiOiB7InNpemUiOiAxNS4wMjg5MDE3MzQxMDQwNDZ9fQo=');</script>\n",
       "    "
      ],
      "text/plain": [
       "<IPython.core.display.HTML object>"
      ]
     },
     "metadata": {},
     "output_type": "display_data"
    },
    {
     "data": {
      "text/html": [
       "\n",
       "        <div id=\"2yAykeoeDPP3VWGG97GGPh\"></div>\n",
       "        <script>netpixi.call('2yAykeoeDPP3VWGG97GGPh', 'fVwUfyxuuBDWvZsTkxzZk2', 'changeGraph', 'eyJpZCI6IDM5LCAidHlwZSI6ICJ2ZXJ0ZXgiLCAicHJvcHMiOiB7InNpemUiOiAxNC4xNjE4NDk3MTA5ODI2NTh9fQo=');</script>\n",
       "    "
      ],
      "text/plain": [
       "<IPython.core.display.HTML object>"
      ]
     },
     "metadata": {},
     "output_type": "display_data"
    },
    {
     "data": {
      "text/html": [
       "\n",
       "        <div id=\"NnUGyzzefw9A32iujfVa7B\"></div>\n",
       "        <script>netpixi.call('NnUGyzzefw9A32iujfVa7B', 'fVwUfyxuuBDWvZsTkxzZk2', 'changeGraph', 'eyJpZCI6IDQwLCAidHlwZSI6ICJ2ZXJ0ZXgiLCAicHJvcHMiOiB7InNpemUiOiAxNi4yNDI3NzQ1NjY0NzM5OX19Cg==');</script>\n",
       "    "
      ],
      "text/plain": [
       "<IPython.core.display.HTML object>"
      ]
     },
     "metadata": {},
     "output_type": "display_data"
    },
    {
     "data": {
      "text/html": [
       "\n",
       "        <div id=\"gubqbA2mHf27AeLmkH5gwU\"></div>\n",
       "        <script>netpixi.call('gubqbA2mHf27AeLmkH5gwU', 'fVwUfyxuuBDWvZsTkxzZk2', 'changeGraph', 'eyJpZCI6IDQxLCAidHlwZSI6ICJ2ZXJ0ZXgiLCAicHJvcHMiOiB7InNpemUiOiAxOS40MjE5NjUzMTc5MTkwNzR9fQo=');</script>\n",
       "    "
      ],
      "text/plain": [
       "<IPython.core.display.HTML object>"
      ]
     },
     "metadata": {},
     "output_type": "display_data"
    },
    {
     "data": {
      "text/html": [
       "\n",
       "        <div id=\"AtNDFcDC3JgpcfLDFCAo9X\"></div>\n",
       "        <script>netpixi.call('AtNDFcDC3JgpcfLDFCAo9X', 'fVwUfyxuuBDWvZsTkxzZk2', 'changeGraph', 'eyJpZCI6IDQyLCAidHlwZSI6ICJ2ZXJ0ZXgiLCAicHJvcHMiOiB7InNpemUiOiAxMy41MjYwMTE1NjA2OTM2NDF9fQo=');</script>\n",
       "    "
      ],
      "text/plain": [
       "<IPython.core.display.HTML object>"
      ]
     },
     "metadata": {},
     "output_type": "display_data"
    },
    {
     "data": {
      "text/html": [
       "\n",
       "        <div id=\"L5fQb3siLX5iKQVzWpPTeC\"></div>\n",
       "        <script>netpixi.call('L5fQb3siLX5iKQVzWpPTeC', 'fVwUfyxuuBDWvZsTkxzZk2', 'changeGraph', 'eyJpZCI6IDQzLCAidHlwZSI6ICJ2ZXJ0ZXgiLCAicHJvcHMiOiB7InNpemUiOiA0Ni44MTgxODE4MTgxODE4MX19Cg==');</script>\n",
       "    "
      ],
      "text/plain": [
       "<IPython.core.display.HTML object>"
      ]
     },
     "metadata": {},
     "output_type": "display_data"
    },
    {
     "data": {
      "text/html": [
       "\n",
       "        <div id=\"6ZJaRLkExGquQX7JGeXq24\"></div>\n",
       "        <script>netpixi.call('6ZJaRLkExGquQX7JGeXq24', 'fVwUfyxuuBDWvZsTkxzZk2', 'changeGraph', 'eyJpZCI6IDQ0LCAidHlwZSI6ICJ2ZXJ0ZXgiLCAicHJvcHMiOiB7InNpemUiOiAxMi4yNTQzMzUyNjAxMTU2MDd9fQo=');</script>\n",
       "    "
      ],
      "text/plain": [
       "<IPython.core.display.HTML object>"
      ]
     },
     "metadata": {},
     "output_type": "display_data"
    },
    {
     "data": {
      "text/html": [
       "\n",
       "        <div id=\"gJjBxwksYb5owJgDYPHjWs\"></div>\n",
       "        <script>netpixi.call('gJjBxwksYb5owJgDYPHjWs', 'fVwUfyxuuBDWvZsTkxzZk2', 'changeGraph', 'eyJpZCI6IDQ1LCAidHlwZSI6ICJ2ZXJ0ZXgiLCAicHJvcHMiOiB7InNpemUiOiA0OS4wOTA5MDkwOTA5MDkwOX19Cg==');</script>\n",
       "    "
      ],
      "text/plain": [
       "<IPython.core.display.HTML object>"
      ]
     },
     "metadata": {},
     "output_type": "display_data"
    },
    {
     "data": {
      "text/html": [
       "\n",
       "        <div id=\"aaymQhGcRbWEFkJVaVBVwx\"></div>\n",
       "        <script>netpixi.call('aaymQhGcRbWEFkJVaVBVwx', 'fVwUfyxuuBDWvZsTkxzZk2', 'changeGraph', 'eyJpZCI6IDQ2LCAidHlwZSI6ICJ2ZXJ0ZXgiLCAicHJvcHMiOiB7InNpemUiOiAxNC45MTMyOTQ3OTc2ODc4NjF9fQo=');</script>\n",
       "    "
      ],
      "text/plain": [
       "<IPython.core.display.HTML object>"
      ]
     },
     "metadata": {},
     "output_type": "display_data"
    },
    {
     "data": {
      "text/html": [
       "\n",
       "        <div id=\"73xcBYBzYQh45TdeF4ChEX\"></div>\n",
       "        <script>netpixi.call('73xcBYBzYQh45TdeF4ChEX', 'fVwUfyxuuBDWvZsTkxzZk2', 'changeGraph', 'eyJpZCI6IDQ3LCAidHlwZSI6ICJ2ZXJ0ZXgiLCAicHJvcHMiOiB7InNpemUiOiA0My4xODE4MTgxODE4MTgxOX19Cg==');</script>\n",
       "    "
      ],
      "text/plain": [
       "<IPython.core.display.HTML object>"
      ]
     },
     "metadata": {},
     "output_type": "display_data"
    },
    {
     "data": {
      "text/html": [
       "\n",
       "        <div id=\"CdXjpK5Gy8QbQHJCJyEfVF\"></div>\n",
       "        <script>netpixi.call('CdXjpK5Gy8QbQHJCJyEfVF', 'fVwUfyxuuBDWvZsTkxzZk2', 'changeGraph', 'eyJpZCI6IDQ4LCAidHlwZSI6ICJ2ZXJ0ZXgiLCAicHJvcHMiOiB7InNpemUiOiAxMS4wNDA0NjI0Mjc3NDU2NjR9fQo=');</script>\n",
       "    "
      ],
      "text/plain": [
       "<IPython.core.display.HTML object>"
      ]
     },
     "metadata": {},
     "output_type": "display_data"
    },
    {
     "data": {
      "text/html": [
       "\n",
       "        <div id=\"6sNkiGhGkkHrvKCiApCnAe\"></div>\n",
       "        <script>netpixi.call('6sNkiGhGkkHrvKCiApCnAe', 'fVwUfyxuuBDWvZsTkxzZk2', 'changeGraph', 'eyJpZCI6IDQ5LCAidHlwZSI6ICJ2ZXJ0ZXgiLCAicHJvcHMiOiB7InNpemUiOiAxNy4yODMyMzY5OTQyMTk2NTN9fQo=');</script>\n",
       "    "
      ],
      "text/plain": [
       "<IPython.core.display.HTML object>"
      ]
     },
     "metadata": {},
     "output_type": "display_data"
    },
    {
     "data": {
      "text/html": [
       "\n",
       "        <div id=\"BHVFkKJjJULffTuJV3v24o\"></div>\n",
       "        <script>netpixi.call('BHVFkKJjJULffTuJV3v24o', 'fVwUfyxuuBDWvZsTkxzZk2', 'changeGraph', 'eyJpZCI6IDUwLCAidHlwZSI6ICJ2ZXJ0ZXgiLCAicHJvcHMiOiB7InNpemUiOiA0Ny45NTQ1NDU0NTQ1NDU0NX19Cg==');</script>\n",
       "    "
      ],
      "text/plain": [
       "<IPython.core.display.HTML object>"
      ]
     },
     "metadata": {},
     "output_type": "display_data"
    },
    {
     "data": {
      "text/html": [
       "\n",
       "        <div id=\"mA8zNTXumepr5nqXN3u4jE\"></div>\n",
       "        <script>netpixi.call('mA8zNTXumepr5nqXN3u4jE', 'fVwUfyxuuBDWvZsTkxzZk2', 'changeGraph', 'eyJpZCI6IDUxLCAidHlwZSI6ICJ2ZXJ0ZXgiLCAicHJvcHMiOiB7InNpemUiOiA0OC4xODE4MTgxODE4MTgxOX19Cg==');</script>\n",
       "    "
      ],
      "text/plain": [
       "<IPython.core.display.HTML object>"
      ]
     },
     "metadata": {},
     "output_type": "display_data"
    },
    {
     "data": {
      "text/html": [
       "\n",
       "        <div id=\"5DDh6yA6T57dszEsktHKMN\"></div>\n",
       "        <script>netpixi.call('5DDh6yA6T57dszEsktHKMN', 'fVwUfyxuuBDWvZsTkxzZk2', 'changeGraph', 'eyJpZCI6IDUyLCAidHlwZSI6ICJ2ZXJ0ZXgiLCAicHJvcHMiOiB7InNpemUiOiAxMy4xNzkxOTA3NTE0NDUwODh9fQo=');</script>\n",
       "    "
      ],
      "text/plain": [
       "<IPython.core.display.HTML object>"
      ]
     },
     "metadata": {},
     "output_type": "display_data"
    },
    {
     "data": {
      "text/html": [
       "\n",
       "        <div id=\"2pBV4DobtfdzmYNpRfZCCY\"></div>\n",
       "        <script>netpixi.call('2pBV4DobtfdzmYNpRfZCCY', 'fVwUfyxuuBDWvZsTkxzZk2', 'changeGraph', 'eyJpZCI6IDUzLCAidHlwZSI6ICJ2ZXJ0ZXgiLCAicHJvcHMiOiB7InNpemUiOiAxMC43NTE0NDUwODY3MDUyMDJ9fQo=');</script>\n",
       "    "
      ],
      "text/plain": [
       "<IPython.core.display.HTML object>"
      ]
     },
     "metadata": {},
     "output_type": "display_data"
    },
    {
     "data": {
      "text/html": [
       "\n",
       "        <div id=\"hcaCPMykknYVJhQUCEwo8u\"></div>\n",
       "        <script>netpixi.call('hcaCPMykknYVJhQUCEwo8u', 'fVwUfyxuuBDWvZsTkxzZk2', 'changeGraph', 'eyJpZCI6IDU0LCAidHlwZSI6ICJ2ZXJ0ZXgiLCAicHJvcHMiOiB7InNpemUiOiAxNy4xMDk4MjY1ODk1OTUzNzV9fQo=');</script>\n",
       "    "
      ],
      "text/plain": [
       "<IPython.core.display.HTML object>"
      ]
     },
     "metadata": {},
     "output_type": "display_data"
    },
    {
     "data": {
      "text/html": [
       "\n",
       "        <div id=\"8DtZJtJHAi4bd9xYTtKHjT\"></div>\n",
       "        <script>netpixi.call('8DtZJtJHAi4bd9xYTtKHjT', 'fVwUfyxuuBDWvZsTkxzZk2', 'changeGraph', 'eyJpZCI6IDU1LCAidHlwZSI6ICJ2ZXJ0ZXgiLCAicHJvcHMiOiB7InNpemUiOiAxNi4xMjcxNjc2MzAwNTc4fX0K');</script>\n",
       "    "
      ],
      "text/plain": [
       "<IPython.core.display.HTML object>"
      ]
     },
     "metadata": {},
     "output_type": "display_data"
    },
    {
     "data": {
      "text/html": [
       "\n",
       "        <div id=\"6GSjUkRwGfd5fKh6DFKGT9\"></div>\n",
       "        <script>netpixi.call('6GSjUkRwGfd5fKh6DFKGT9', 'fVwUfyxuuBDWvZsTkxzZk2', 'changeGraph', 'eyJpZCI6IDU2LCAidHlwZSI6ICJ2ZXJ0ZXgiLCAicHJvcHMiOiB7InNpemUiOiAxNS43ODAzNDY4MjA4MDkyNDh9fQo=');</script>\n",
       "    "
      ],
      "text/plain": [
       "<IPython.core.display.HTML object>"
      ]
     },
     "metadata": {},
     "output_type": "display_data"
    },
    {
     "data": {
      "text/html": [
       "\n",
       "        <div id=\"ZXnmKp8QYvXxiAusQ7d6d8\"></div>\n",
       "        <script>netpixi.call('ZXnmKp8QYvXxiAusQ7d6d8', 'fVwUfyxuuBDWvZsTkxzZk2', 'changeGraph', 'eyJpZCI6IDU3LCAidHlwZSI6ICJ2ZXJ0ZXgiLCAicHJvcHMiOiB7InNpemUiOiAxNC4zMzUyNjAxMTU2MDY5MzV9fQo=');</script>\n",
       "    "
      ],
      "text/plain": [
       "<IPython.core.display.HTML object>"
      ]
     },
     "metadata": {},
     "output_type": "display_data"
    },
    {
     "data": {
      "text/html": [
       "\n",
       "        <div id=\"cmgv55BUgQzctVJ3Ve7Ggd\"></div>\n",
       "        <script>netpixi.call('cmgv55BUgQzctVJ3Ve7Ggd', 'fVwUfyxuuBDWvZsTkxzZk2', 'changeGraph', 'eyJpZCI6IDU4LCAidHlwZSI6ICJ2ZXJ0ZXgiLCAicHJvcHMiOiB7InNpemUiOiA0NC43NzI3MjcyNzI3MjcyN319Cg==');</script>\n",
       "    "
      ],
      "text/plain": [
       "<IPython.core.display.HTML object>"
      ]
     },
     "metadata": {},
     "output_type": "display_data"
    },
    {
     "data": {
      "text/html": [
       "\n",
       "        <div id=\"LDbRKBub9EyxMLbBbbidEU\"></div>\n",
       "        <script>netpixi.call('LDbRKBub9EyxMLbBbbidEU', 'fVwUfyxuuBDWvZsTkxzZk2', 'changeGraph', 'eyJpZCI6IDU5LCAidHlwZSI6ICJ2ZXJ0ZXgiLCAicHJvcHMiOiB7InNpemUiOiAxMy4yMzY5OTQyMTk2NTMxOH19Cg==');</script>\n",
       "    "
      ],
      "text/plain": [
       "<IPython.core.display.HTML object>"
      ]
     },
     "metadata": {},
     "output_type": "display_data"
    },
    {
     "data": {
      "text/html": [
       "\n",
       "        <div id=\"c6j85MPW53EXxRNW6TQF3r\"></div>\n",
       "        <script>netpixi.call('c6j85MPW53EXxRNW6TQF3r', 'fVwUfyxuuBDWvZsTkxzZk2', 'changeGraph', 'eyJpZCI6IDYwLCAidHlwZSI6ICJ2ZXJ0ZXgiLCAicHJvcHMiOiB7InNpemUiOiAxNS41NDkxMzI5NDc5NzY4Nzh9fQo=');</script>\n",
       "    "
      ],
      "text/plain": [
       "<IPython.core.display.HTML object>"
      ]
     },
     "metadata": {},
     "output_type": "display_data"
    },
    {
     "data": {
      "text/html": [
       "\n",
       "        <div id=\"Wmgs6AwYitb4X6QM5xAt52\"></div>\n",
       "        <script>netpixi.call('Wmgs6AwYitb4X6QM5xAt52', 'fVwUfyxuuBDWvZsTkxzZk2', 'changeGraph', 'eyJpZCI6IDYxLCAidHlwZSI6ICJ2ZXJ0ZXgiLCAicHJvcHMiOiB7InNpemUiOiAxMS4yNzE2NzYzMDA1NzgwMzV9fQo=');</script>\n",
       "    "
      ],
      "text/plain": [
       "<IPython.core.display.HTML object>"
      ]
     },
     "metadata": {},
     "output_type": "display_data"
    },
    {
     "data": {
      "text/html": [
       "\n",
       "        <div id=\"Q5EHfdEGMNYBkgD5qz8BS6\"></div>\n",
       "        <script>netpixi.call('Q5EHfdEGMNYBkgD5qz8BS6', 'fVwUfyxuuBDWvZsTkxzZk2', 'changeGraph', 'eyJpZCI6IDYyLCAidHlwZSI6ICJ2ZXJ0ZXgiLCAicHJvcHMiOiB7InNpemUiOiAxNC43OTc2ODc4NjEyNzE2NzZ9fQo=');</script>\n",
       "    "
      ],
      "text/plain": [
       "<IPython.core.display.HTML object>"
      ]
     },
     "metadata": {},
     "output_type": "display_data"
    },
    {
     "data": {
      "text/html": [
       "\n",
       "        <div id=\"7v3dT9fQVhnip6EMcjHTzJ\"></div>\n",
       "        <script>netpixi.call('7v3dT9fQVhnip6EMcjHTzJ', 'fVwUfyxuuBDWvZsTkxzZk2', 'changeGraph', 'eyJpZCI6IDYzLCAidHlwZSI6ICJ2ZXJ0ZXgiLCAicHJvcHMiOiB7InNpemUiOiAxNi4wNjkzNjQxNjE4NDk3MTN9fQo=');</script>\n",
       "    "
      ],
      "text/plain": [
       "<IPython.core.display.HTML object>"
      ]
     },
     "metadata": {},
     "output_type": "display_data"
    },
    {
     "data": {
      "text/html": [
       "\n",
       "        <div id=\"9REfqDgbxQBhnQ6cjdnbJz\"></div>\n",
       "        <script>netpixi.call('9REfqDgbxQBhnQ6cjdnbJz', 'fVwUfyxuuBDWvZsTkxzZk2', 'changeGraph', 'eyJpZCI6IDY0LCAidHlwZSI6ICJ2ZXJ0ZXgiLCAicHJvcHMiOiB7InNpemUiOiAxOC40OTcxMDk4MjY1ODk1OTN9fQo=');</script>\n",
       "    "
      ],
      "text/plain": [
       "<IPython.core.display.HTML object>"
      ]
     },
     "metadata": {},
     "output_type": "display_data"
    },
    {
     "data": {
      "text/html": [
       "\n",
       "        <div id=\"HYToK89JgpVjRKXLsgzrEx\"></div>\n",
       "        <script>netpixi.call('HYToK89JgpVjRKXLsgzrEx', 'fVwUfyxuuBDWvZsTkxzZk2', 'changeGraph', 'eyJpZCI6IDY1LCAidHlwZSI6ICJ2ZXJ0ZXgiLCAicHJvcHMiOiB7InNpemUiOiA0OC40MDkwOTA5MDkwOTA5MX19Cg==');</script>\n",
       "    "
      ],
      "text/plain": [
       "<IPython.core.display.HTML object>"
      ]
     },
     "metadata": {},
     "output_type": "display_data"
    },
    {
     "data": {
      "text/html": [
       "\n",
       "        <div id=\"RkU6G5Qc9NeLZcUKYvskPc\"></div>\n",
       "        <script>netpixi.call('RkU6G5Qc9NeLZcUKYvskPc', 'fVwUfyxuuBDWvZsTkxzZk2', 'changeGraph', 'eyJpZCI6IDY2LCAidHlwZSI6ICJ2ZXJ0ZXgiLCAicHJvcHMiOiB7InNpemUiOiAxOC44NDM5MzA2MzU4MzgxNX19Cg==');</script>\n",
       "    "
      ],
      "text/plain": [
       "<IPython.core.display.HTML object>"
      ]
     },
     "metadata": {},
     "output_type": "display_data"
    },
    {
     "data": {
      "text/html": [
       "\n",
       "        <div id=\"kSedozppsHsdcBErgF8ekZ\"></div>\n",
       "        <script>netpixi.call('kSedozppsHsdcBErgF8ekZ', 'fVwUfyxuuBDWvZsTkxzZk2', 'changeGraph', 'eyJpZCI6IDY3LCAidHlwZSI6ICJ2ZXJ0ZXgiLCAicHJvcHMiOiB7InNpemUiOiAxNi4wMTE1NjA2OTM2NDE2Mn19Cg==');</script>\n",
       "    "
      ],
      "text/plain": [
       "<IPython.core.display.HTML object>"
      ]
     },
     "metadata": {},
     "output_type": "display_data"
    },
    {
     "data": {
      "text/html": [
       "\n",
       "        <div id=\"dqwAUgw6jLMfXAge542AJY\"></div>\n",
       "        <script>netpixi.call('dqwAUgw6jLMfXAge542AJY', 'fVwUfyxuuBDWvZsTkxzZk2', 'changeGraph', 'eyJpZCI6IDY4LCAidHlwZSI6ICJ2ZXJ0ZXgiLCAicHJvcHMiOiB7InNpemUiOiAxMi43NzQ1NjY0NzM5ODg0NH19Cg==');</script>\n",
       "    "
      ],
      "text/plain": [
       "<IPython.core.display.HTML object>"
      ]
     },
     "metadata": {},
     "output_type": "display_data"
    },
    {
     "data": {
      "text/html": [
       "\n",
       "        <div id=\"g3uJqadwngtTmuttKnD4h5\"></div>\n",
       "        <script>netpixi.call('g3uJqadwngtTmuttKnD4h5', 'fVwUfyxuuBDWvZsTkxzZk2', 'changeGraph', 'eyJpZCI6IDY5LCAidHlwZSI6ICJ2ZXJ0ZXgiLCAicHJvcHMiOiB7InNpemUiOiAxNS45NTM3NTcyMjU0MzM1MjZ9fQo=');</script>\n",
       "    "
      ],
      "text/plain": [
       "<IPython.core.display.HTML object>"
      ]
     },
     "metadata": {},
     "output_type": "display_data"
    },
    {
     "data": {
      "text/html": [
       "\n",
       "        <div id=\"HJP5hQwP9i3EHGRzr8AkFi\"></div>\n",
       "        <script>netpixi.call('HJP5hQwP9i3EHGRzr8AkFi', 'fVwUfyxuuBDWvZsTkxzZk2', 'changeGraph', 'eyJpZCI6IDcwLCAidHlwZSI6ICJ2ZXJ0ZXgiLCAicHJvcHMiOiB7InNpemUiOiAxNS44OTU5NTM3NTcyMjU0MzN9fQo=');</script>\n",
       "    "
      ],
      "text/plain": [
       "<IPython.core.display.HTML object>"
      ]
     },
     "metadata": {},
     "output_type": "display_data"
    },
    {
     "data": {
      "text/html": [
       "\n",
       "        <div id=\"BihogCWEeTv9PMH6PFbRk2\"></div>\n",
       "        <script>netpixi.call('BihogCWEeTv9PMH6PFbRk2', 'fVwUfyxuuBDWvZsTkxzZk2', 'changeGraph', 'eyJpZCI6IDcxLCAidHlwZSI6ICJ2ZXJ0ZXgiLCAicHJvcHMiOiB7InNpemUiOiAxMi40ODU1NDkxMzI5NDc5Nzd9fQo=');</script>\n",
       "    "
      ],
      "text/plain": [
       "<IPython.core.display.HTML object>"
      ]
     },
     "metadata": {},
     "output_type": "display_data"
    },
    {
     "data": {
      "text/html": [
       "\n",
       "        <div id=\"QiBfKMtxSDnmNuzMGxZhTD\"></div>\n",
       "        <script>netpixi.call('QiBfKMtxSDnmNuzMGxZhTD', 'fVwUfyxuuBDWvZsTkxzZk2', 'changeGraph', 'eyJpZCI6IDcyLCAidHlwZSI6ICJ2ZXJ0ZXgiLCAicHJvcHMiOiB7InNpemUiOiA0My42MzYzNjM2MzYzNjM2NH19Cg==');</script>\n",
       "    "
      ],
      "text/plain": [
       "<IPython.core.display.HTML object>"
      ]
     },
     "metadata": {},
     "output_type": "display_data"
    },
    {
     "data": {
      "text/html": [
       "\n",
       "        <div id=\"WgMiXryVffVrX9m4888gUC\"></div>\n",
       "        <script>netpixi.call('WgMiXryVffVrX9m4888gUC', 'fVwUfyxuuBDWvZsTkxzZk2', 'changeGraph', 'eyJpZCI6IDczLCAidHlwZSI6ICJ2ZXJ0ZXgiLCAicHJvcHMiOiB7InNpemUiOiA0Ny41fX0K');</script>\n",
       "    "
      ],
      "text/plain": [
       "<IPython.core.display.HTML object>"
      ]
     },
     "metadata": {},
     "output_type": "display_data"
    },
    {
     "data": {
      "text/html": [
       "\n",
       "        <div id=\"j7KubK2wSY6yQxxjsW9WCi\"></div>\n",
       "        <script>netpixi.call('j7KubK2wSY6yQxxjsW9WCi', 'fVwUfyxuuBDWvZsTkxzZk2', 'changeGraph', 'eyJpZCI6IDc0LCAidHlwZSI6ICJ2ZXJ0ZXgiLCAicHJvcHMiOiB7InNpemUiOiAxNS4zNzU3MjI1NDMzNTI2MDJ9fQo=');</script>\n",
       "    "
      ],
      "text/plain": [
       "<IPython.core.display.HTML object>"
      ]
     },
     "metadata": {},
     "output_type": "display_data"
    },
    {
     "data": {
      "text/html": [
       "\n",
       "        <div id=\"kY7jFiH2rX7ckGouKN7vyZ\"></div>\n",
       "        <script>netpixi.call('kY7jFiH2rX7ckGouKN7vyZ', 'fVwUfyxuuBDWvZsTkxzZk2', 'changeGraph', 'eyJpZCI6IDc1LCAidHlwZSI6ICJ2ZXJ0ZXgiLCAicHJvcHMiOiB7InNpemUiOiAxOS41OTUzNzU3MjI1NDMzNTJ9fQo=');</script>\n",
       "    "
      ],
      "text/plain": [
       "<IPython.core.display.HTML object>"
      ]
     },
     "metadata": {},
     "output_type": "display_data"
    },
    {
     "data": {
      "text/html": [
       "\n",
       "        <div id=\"HfUPoKQNv8JCwaajrSrf4o\"></div>\n",
       "        <script>netpixi.call('HfUPoKQNv8JCwaajrSrf4o', 'fVwUfyxuuBDWvZsTkxzZk2', 'changeGraph', 'eyJpZCI6IDc2LCAidHlwZSI6ICJ2ZXJ0ZXgiLCAicHJvcHMiOiB7InNpemUiOiA0Ny4yNzI3MjcyNzI3MjcyN319Cg==');</script>\n",
       "    "
      ],
      "text/plain": [
       "<IPython.core.display.HTML object>"
      ]
     },
     "metadata": {},
     "output_type": "display_data"
    },
    {
     "data": {
      "text/html": [
       "\n",
       "        <div id=\"RZdCgTqkmG8jjaxKFMYf5b\"></div>\n",
       "        <script>netpixi.call('RZdCgTqkmG8jjaxKFMYf5b', 'fVwUfyxuuBDWvZsTkxzZk2', 'changeGraph', 'eyJpZCI6IDc3LCAidHlwZSI6ICJ2ZXJ0ZXgiLCAicHJvcHMiOiB7InNpemUiOiAxMC41MjAyMzEyMTM4NzI4MzN9fQo=');</script>\n",
       "    "
      ],
      "text/plain": [
       "<IPython.core.display.HTML object>"
      ]
     },
     "metadata": {},
     "output_type": "display_data"
    },
    {
     "data": {
      "text/html": [
       "\n",
       "        <div id=\"KYJmWCSzrNNeJQd2WCY43U\"></div>\n",
       "        <script>netpixi.call('KYJmWCSzrNNeJQd2WCY43U', 'fVwUfyxuuBDWvZsTkxzZk2', 'changeGraph', 'eyJpZCI6IDc4LCAidHlwZSI6ICJ2ZXJ0ZXgiLCAicHJvcHMiOiB7InNpemUiOiA0Ny43MjcyNzI3MjcyNzI3M319Cg==');</script>\n",
       "    "
      ],
      "text/plain": [
       "<IPython.core.display.HTML object>"
      ]
     },
     "metadata": {},
     "output_type": "display_data"
    },
    {
     "data": {
      "text/html": [
       "\n",
       "        <div id=\"kcGoDstpTXpisbip9kgLPU\"></div>\n",
       "        <script>netpixi.call('kcGoDstpTXpisbip9kgLPU', 'fVwUfyxuuBDWvZsTkxzZk2', 'changeGraph', 'eyJpZCI6IDc5LCAidHlwZSI6ICJ2ZXJ0ZXgiLCAicHJvcHMiOiB7InNpemUiOiAxOS40Nzk3Njg3ODYxMjcxNjd9fQo=');</script>\n",
       "    "
      ],
      "text/plain": [
       "<IPython.core.display.HTML object>"
      ]
     },
     "metadata": {},
     "output_type": "display_data"
    },
    {
     "data": {
      "text/html": [
       "\n",
       "        <div id=\"LsRfFdvoStnnmb6YjenoUx\"></div>\n",
       "        <script>netpixi.call('LsRfFdvoStnnmb6YjenoUx', 'fVwUfyxuuBDWvZsTkxzZk2', 'changeGraph', 'eyJpZCI6IDgwLCAidHlwZSI6ICJ2ZXJ0ZXgiLCAicHJvcHMiOiB7InNpemUiOiAyMC4wfX0K');</script>\n",
       "    "
      ],
      "text/plain": [
       "<IPython.core.display.HTML object>"
      ]
     },
     "metadata": {},
     "output_type": "display_data"
    },
    {
     "data": {
      "text/html": [
       "\n",
       "        <div id=\"NoqeAjM9ieY7uQCfjA5EeC\"></div>\n",
       "        <script>netpixi.call('NoqeAjM9ieY7uQCfjA5EeC', 'fVwUfyxuuBDWvZsTkxzZk2', 'changeGraph', 'eyJpZCI6IDgxLCAidHlwZSI6ICJ2ZXJ0ZXgiLCAicHJvcHMiOiB7InNpemUiOiAxOS4zNjQxNjE4NDk3MTA5OH19Cg==');</script>\n",
       "    "
      ],
      "text/plain": [
       "<IPython.core.display.HTML object>"
      ]
     },
     "metadata": {},
     "output_type": "display_data"
    },
    {
     "data": {
      "text/html": [
       "\n",
       "        <div id=\"57HMPAQ5gSLZ9Z4rM8G8CD\"></div>\n",
       "        <script>netpixi.call('57HMPAQ5gSLZ9Z4rM8G8CD', 'fVwUfyxuuBDWvZsTkxzZk2', 'changeGraph', 'eyJpZCI6IDgyLCAidHlwZSI6ICJ2ZXJ0ZXgiLCAicHJvcHMiOiB7InNpemUiOiAxNi4zNTgzODE1MDI4OTAxNzV9fQo=');</script>\n",
       "    "
      ],
      "text/plain": [
       "<IPython.core.display.HTML object>"
      ]
     },
     "metadata": {},
     "output_type": "display_data"
    },
    {
     "data": {
      "text/html": [
       "\n",
       "        <div id=\"3AgKf59SrB4Hob2GkC6Hdm\"></div>\n",
       "        <script>netpixi.call('3AgKf59SrB4Hob2GkC6Hdm', 'fVwUfyxuuBDWvZsTkxzZk2', 'changeGraph', 'eyJpZCI6IDgzLCAidHlwZSI6ICJ2ZXJ0ZXgiLCAicHJvcHMiOiB7InNpemUiOiAxMS43MzQxMDQwNDYyNDI3NzV9fQo=');</script>\n",
       "    "
      ],
      "text/plain": [
       "<IPython.core.display.HTML object>"
      ]
     },
     "metadata": {},
     "output_type": "display_data"
    },
    {
     "data": {
      "text/html": [
       "\n",
       "        <div id=\"WhmnJ3Wrt342bZt7RaaZrN\"></div>\n",
       "        <script>netpixi.call('WhmnJ3Wrt342bZt7RaaZrN', 'fVwUfyxuuBDWvZsTkxzZk2', 'changeGraph', 'eyJpZCI6IDg0LCAidHlwZSI6ICJ2ZXJ0ZXgiLCAicHJvcHMiOiB7InNpemUiOiA0Ny4wNDU0NTQ1NDU0NTQ1NX19Cg==');</script>\n",
       "    "
      ],
      "text/plain": [
       "<IPython.core.display.HTML object>"
      ]
     },
     "metadata": {},
     "output_type": "display_data"
    },
    {
     "data": {
      "text/html": [
       "\n",
       "        <div id=\"A5EXhmXProyA7ruvVRzjmb\"></div>\n",
       "        <script>netpixi.call('A5EXhmXProyA7ruvVRzjmb', 'fVwUfyxuuBDWvZsTkxzZk2', 'changeGraph', 'eyJpZCI6IDg1LCAidHlwZSI6ICJ2ZXJ0ZXgiLCAicHJvcHMiOiB7InNpemUiOiAxNi45OTQyMTk2NTMxNzkxOX19Cg==');</script>\n",
       "    "
      ],
      "text/plain": [
       "<IPython.core.display.HTML object>"
      ]
     },
     "metadata": {},
     "output_type": "display_data"
    },
    {
     "data": {
      "text/html": [
       "\n",
       "        <div id=\"8jV34bEm32ygkcguREh5WV\"></div>\n",
       "        <script>netpixi.call('8jV34bEm32ygkcguREh5WV', 'fVwUfyxuuBDWvZsTkxzZk2', 'changeGraph', 'eyJpZCI6IDg2LCAidHlwZSI6ICJ2ZXJ0ZXgiLCAicHJvcHMiOiB7InNpemUiOiAxOS44ODQzOTMwNjM1ODM4MTV9fQo=');</script>\n",
       "    "
      ],
      "text/plain": [
       "<IPython.core.display.HTML object>"
      ]
     },
     "metadata": {},
     "output_type": "display_data"
    },
    {
     "data": {
      "text/html": [
       "\n",
       "        <div id=\"LeDdvkbDEqQEnSv3e52oy6\"></div>\n",
       "        <script>netpixi.call('LeDdvkbDEqQEnSv3e52oy6', 'fVwUfyxuuBDWvZsTkxzZk2', 'changeGraph', 'eyJpZCI6IDg3LCAidHlwZSI6ICJ2ZXJ0ZXgiLCAicHJvcHMiOiB7InNpemUiOiAxNi4xODQ5NzEwOTgyNjU4OTh9fQo=');</script>\n",
       "    "
      ],
      "text/plain": [
       "<IPython.core.display.HTML object>"
      ]
     },
     "metadata": {},
     "output_type": "display_data"
    },
    {
     "data": {
      "text/html": [
       "\n",
       "        <div id=\"Q2SdqtryNCJWwsFATpha7W\"></div>\n",
       "        <script>netpixi.call('Q2SdqtryNCJWwsFATpha7W', 'fVwUfyxuuBDWvZsTkxzZk2', 'changeGraph', 'eyJpZCI6IDg4LCAidHlwZSI6ICJ2ZXJ0ZXgiLCAicHJvcHMiOiB7InNpemUiOiAxNC42ODIwODA5MjQ4NTU0OX19Cg==');</script>\n",
       "    "
      ],
      "text/plain": [
       "<IPython.core.display.HTML object>"
      ]
     },
     "metadata": {},
     "output_type": "display_data"
    },
    {
     "data": {
      "text/html": [
       "\n",
       "        <div id=\"EXGAanoGs8xYZKNGjDML8e\"></div>\n",
       "        <script>netpixi.call('EXGAanoGs8xYZKNGjDML8e', 'fVwUfyxuuBDWvZsTkxzZk2', 'changeGraph', 'eyJpZCI6IDg5LCAidHlwZSI6ICJ2ZXJ0ZXgiLCAicHJvcHMiOiB7InNpemUiOiAxNC4xMDQwNDYyNDI3NzQ1NjV9fQo=');</script>\n",
       "    "
      ],
      "text/plain": [
       "<IPython.core.display.HTML object>"
      ]
     },
     "metadata": {},
     "output_type": "display_data"
    },
    {
     "data": {
      "text/html": [
       "\n",
       "        <div id=\"GB3DuNQkVs4SeevGcVnWT8\"></div>\n",
       "        <script>netpixi.call('GB3DuNQkVs4SeevGcVnWT8', 'fVwUfyxuuBDWvZsTkxzZk2', 'changeGraph', 'eyJpZCI6IDkwLCAidHlwZSI6ICJ2ZXJ0ZXgiLCAicHJvcHMiOiB7InNpemUiOiAxMC41NzgwMzQ2ODIwODA5MjZ9fQo=');</script>\n",
       "    "
      ],
      "text/plain": [
       "<IPython.core.display.HTML object>"
      ]
     },
     "metadata": {},
     "output_type": "display_data"
    },
    {
     "data": {
      "text/html": [
       "\n",
       "        <div id=\"L9k6yhWFwRU5vMDtBvcGNz\"></div>\n",
       "        <script>netpixi.call('L9k6yhWFwRU5vMDtBvcGNz', 'fVwUfyxuuBDWvZsTkxzZk2', 'changeGraph', 'eyJpZCI6IDkxLCAidHlwZSI6ICJ2ZXJ0ZXgiLCAicHJvcHMiOiB7InNpemUiOiAxNy43NDU2NjQ3Mzk4ODQzOTN9fQo=');</script>\n",
       "    "
      ],
      "text/plain": [
       "<IPython.core.display.HTML object>"
      ]
     },
     "metadata": {},
     "output_type": "display_data"
    },
    {
     "data": {
      "text/html": [
       "\n",
       "        <div id=\"SgKRdVCyHDadMexNMUKGdk\"></div>\n",
       "        <script>netpixi.call('SgKRdVCyHDadMexNMUKGdk', 'fVwUfyxuuBDWvZsTkxzZk2', 'changeGraph', 'eyJpZCI6IDkyLCAidHlwZSI6ICJ2ZXJ0ZXgiLCAicHJvcHMiOiB7InNpemUiOiAxNy45NzY4Nzg2MTI3MTY3Nn19Cg==');</script>\n",
       "    "
      ],
      "text/plain": [
       "<IPython.core.display.HTML object>"
      ]
     },
     "metadata": {},
     "output_type": "display_data"
    },
    {
     "data": {
      "text/html": [
       "\n",
       "        <div id=\"VSZC4j8etv4epPvaYyUtJf\"></div>\n",
       "        <script>netpixi.call('VSZC4j8etv4epPvaYyUtJf', 'fVwUfyxuuBDWvZsTkxzZk2', 'changeGraph', 'eyJpZCI6IDkzLCAidHlwZSI6ICJ2ZXJ0ZXgiLCAicHJvcHMiOiB7InNpemUiOiAxMy4zNTI2MDExNTYwNjkzNjR9fQo=');</script>\n",
       "    "
      ],
      "text/plain": [
       "<IPython.core.display.HTML object>"
      ]
     },
     "metadata": {},
     "output_type": "display_data"
    },
    {
     "data": {
      "text/html": [
       "\n",
       "        <div id=\"J2cp7W4YZzWfYnYvAXRdfH\"></div>\n",
       "        <script>netpixi.call('J2cp7W4YZzWfYnYvAXRdfH', 'fVwUfyxuuBDWvZsTkxzZk2', 'changeGraph', 'eyJpZCI6IDk0LCAidHlwZSI6ICJ2ZXJ0ZXgiLCAicHJvcHMiOiB7InNpemUiOiAxMi42MDExNTYwNjkzNjQxNjJ9fQo=');</script>\n",
       "    "
      ],
      "text/plain": [
       "<IPython.core.display.HTML object>"
      ]
     },
     "metadata": {},
     "output_type": "display_data"
    },
    {
     "data": {
      "text/html": [
       "\n",
       "        <div id=\"o2JuCrGxWfKxhLH7PbH89q\"></div>\n",
       "        <script>netpixi.call('o2JuCrGxWfKxhLH7PbH89q', 'fVwUfyxuuBDWvZsTkxzZk2', 'changeGraph', 'eyJpZCI6IDk1LCAidHlwZSI6ICJ2ZXJ0ZXgiLCAicHJvcHMiOiB7InNpemUiOiA0MC42ODE4MTgxODE4MTgxOX19Cg==');</script>\n",
       "    "
      ],
      "text/plain": [
       "<IPython.core.display.HTML object>"
      ]
     },
     "metadata": {},
     "output_type": "display_data"
    },
    {
     "data": {
      "text/html": [
       "\n",
       "        <div id=\"hKZoEZ8dcazFVsJqDUwyDA\"></div>\n",
       "        <script>netpixi.call('hKZoEZ8dcazFVsJqDUwyDA', 'fVwUfyxuuBDWvZsTkxzZk2', 'changeGraph', 'eyJpZCI6IDk2LCAidHlwZSI6ICJ2ZXJ0ZXgiLCAicHJvcHMiOiB7InNpemUiOiAxMS44NDk3MTA5ODI2NTg5NTl9fQo=');</script>\n",
       "    "
      ],
      "text/plain": [
       "<IPython.core.display.HTML object>"
      ]
     },
     "metadata": {},
     "output_type": "display_data"
    },
    {
     "data": {
      "text/html": [
       "\n",
       "        <div id=\"nUoeVXZwvo65UXEmwJbid2\"></div>\n",
       "        <script>netpixi.call('nUoeVXZwvo65UXEmwJbid2', 'fVwUfyxuuBDWvZsTkxzZk2', 'changeGraph', 'eyJpZCI6IDk3LCAidHlwZSI6ICJ2ZXJ0ZXgiLCAicHJvcHMiOiB7InNpemUiOiA0Mi4yNzI3MjcyNzI3MjcyN319Cg==');</script>\n",
       "    "
      ],
      "text/plain": [
       "<IPython.core.display.HTML object>"
      ]
     },
     "metadata": {},
     "output_type": "display_data"
    },
    {
     "data": {
      "text/html": [
       "\n",
       "        <div id=\"36cySpYkj6M8D6MgEd7VwH\"></div>\n",
       "        <script>netpixi.call('36cySpYkj6M8D6MgEd7VwH', 'fVwUfyxuuBDWvZsTkxzZk2', 'changeGraph', 'eyJpZCI6IDk4LCAidHlwZSI6ICJ2ZXJ0ZXgiLCAicHJvcHMiOiB7InNpemUiOiAxMC45MjQ4NTU0OTEzMjk0OH19Cg==');</script>\n",
       "    "
      ],
      "text/plain": [
       "<IPython.core.display.HTML object>"
      ]
     },
     "metadata": {},
     "output_type": "display_data"
    },
    {
     "data": {
      "text/html": [
       "\n",
       "        <div id=\"a3DqCQmeTB7kZZDJacb5Fh\"></div>\n",
       "        <script>netpixi.call('a3DqCQmeTB7kZZDJacb5Fh', 'fVwUfyxuuBDWvZsTkxzZk2', 'changeGraph', 'eyJpZCI6IDk5LCAidHlwZSI6ICJ2ZXJ0ZXgiLCAicHJvcHMiOiB7InNpemUiOiAxMy40MTA0MDQ2MjQyNzc0NTZ9fQo=');</script>\n",
       "    "
      ],
      "text/plain": [
       "<IPython.core.display.HTML object>"
      ]
     },
     "metadata": {},
     "output_type": "display_data"
    },
    {
     "data": {
      "text/html": [
       "\n",
       "        <div id=\"jMnkro7adYuGNkFozKTGj6\"></div>\n",
       "        <script>netpixi.call('jMnkro7adYuGNkFozKTGj6', 'fVwUfyxuuBDWvZsTkxzZk2', 'changeGraph', 'eyJpZCI6IDEwMCwgInR5cGUiOiAidmVydGV4IiwgInByb3BzIjogeyJzaXplIjogMTMuOTMwNjM1ODM4MTUwMjl9fQo=');</script>\n",
       "    "
      ],
      "text/plain": [
       "<IPython.core.display.HTML object>"
      ]
     },
     "metadata": {},
     "output_type": "display_data"
    },
    {
     "data": {
      "text/html": [
       "\n",
       "        <div id=\"MvveUsDoKnSDMQ9DVgGZjE\"></div>\n",
       "        <script>netpixi.call('MvveUsDoKnSDMQ9DVgGZjE', 'fVwUfyxuuBDWvZsTkxzZk2', 'changeGraph', 'eyJpZCI6IDEwMSwgInR5cGUiOiAidmVydGV4IiwgInByb3BzIjogeyJzaXplIjogMTYuNDczOTg4NDM5MzA2MzZ9fQo=');</script>\n",
       "    "
      ],
      "text/plain": [
       "<IPython.core.display.HTML object>"
      ]
     },
     "metadata": {},
     "output_type": "display_data"
    },
    {
     "data": {
      "text/html": [
       "\n",
       "        <div id=\"5i4evLZmuDWTiExytFzJ6g\"></div>\n",
       "        <script>netpixi.call('5i4evLZmuDWTiExytFzJ6g', 'fVwUfyxuuBDWvZsTkxzZk2', 'changeGraph', 'eyJpZCI6IDEwMiwgInR5cGUiOiAidmVydGV4IiwgInByb3BzIjogeyJzaXplIjogNDIuNzI3MjcyNzI3MjcyNzN9fQo=');</script>\n",
       "    "
      ],
      "text/plain": [
       "<IPython.core.display.HTML object>"
      ]
     },
     "metadata": {},
     "output_type": "display_data"
    },
    {
     "data": {
      "text/html": [
       "\n",
       "        <div id=\"H6uagoCKcKAg7MG8hvDcef\"></div>\n",
       "        <script>netpixi.call('H6uagoCKcKAg7MG8hvDcef', 'fVwUfyxuuBDWvZsTkxzZk2', 'changeGraph', 'eyJpZCI6IDEwMywgInR5cGUiOiAidmVydGV4IiwgInByb3BzIjogeyJzaXplIjogMTguMTUwMjg5MDE3MzQxMDM4fX0K');</script>\n",
       "    "
      ],
      "text/plain": [
       "<IPython.core.display.HTML object>"
      ]
     },
     "metadata": {},
     "output_type": "display_data"
    },
    {
     "data": {
      "text/html": [
       "\n",
       "        <div id=\"QRLUX77BDiJtGwCNGnFUsg\"></div>\n",
       "        <script>netpixi.call('QRLUX77BDiJtGwCNGnFUsg', 'fVwUfyxuuBDWvZsTkxzZk2', 'changeGraph', 'eyJpZCI6IDEwNCwgInR5cGUiOiAidmVydGV4IiwgInByb3BzIjogeyJzaXplIjogMTYuNzA1MjAyMzEyMTM4NzI3fX0K');</script>\n",
       "    "
      ],
      "text/plain": [
       "<IPython.core.display.HTML object>"
      ]
     },
     "metadata": {},
     "output_type": "display_data"
    },
    {
     "data": {
      "text/html": [
       "\n",
       "        <div id=\"iWtxCJBsLGPdEn47nTFYqA\"></div>\n",
       "        <script>netpixi.call('iWtxCJBsLGPdEn47nTFYqA', 'fVwUfyxuuBDWvZsTkxzZk2', 'changeGraph', 'eyJpZCI6IDEwNSwgInR5cGUiOiAidmVydGV4IiwgInByb3BzIjogeyJzaXplIjogMTQuMjc3NDU2NjQ3Mzk4ODQzfX0K');</script>\n",
       "    "
      ],
      "text/plain": [
       "<IPython.core.display.HTML object>"
      ]
     },
     "metadata": {},
     "output_type": "display_data"
    },
    {
     "data": {
      "text/html": [
       "\n",
       "        <div id=\"KYryTARLsbzXiENgMetmix\"></div>\n",
       "        <script>netpixi.call('KYryTARLsbzXiENgMetmix', 'fVwUfyxuuBDWvZsTkxzZk2', 'changeGraph', 'eyJpZCI6IDEwNiwgInR5cGUiOiAidmVydGV4IiwgInByb3BzIjogeyJzaXplIjogMTguNDM5MzA2MzU4MzgxNX19Cg==');</script>\n",
       "    "
      ],
      "text/plain": [
       "<IPython.core.display.HTML object>"
      ]
     },
     "metadata": {},
     "output_type": "display_data"
    },
    {
     "data": {
      "text/html": [
       "\n",
       "        <div id=\"ZqzK86TYVZyHwgA39JeHAr\"></div>\n",
       "        <script>netpixi.call('ZqzK86TYVZyHwgA39JeHAr', 'fVwUfyxuuBDWvZsTkxzZk2', 'changeGraph', 'eyJpZCI6IDEwNywgInR5cGUiOiAidmVydGV4IiwgInByb3BzIjogeyJzaXplIjogMTkuNTM3NTcyMjU0MzM1MjZ9fQo=');</script>\n",
       "    "
      ],
      "text/plain": [
       "<IPython.core.display.HTML object>"
      ]
     },
     "metadata": {},
     "output_type": "display_data"
    },
    {
     "data": {
      "text/html": [
       "\n",
       "        <div id=\"eBp5aWy5UpWe9eTKHuJqSS\"></div>\n",
       "        <script>netpixi.call('eBp5aWy5UpWe9eTKHuJqSS', 'fVwUfyxuuBDWvZsTkxzZk2', 'changeGraph', 'eyJpZCI6IDEwOCwgInR5cGUiOiAidmVydGV4IiwgInByb3BzIjogeyJzaXplIjogMTEuNTAyODkwMTczNDEwNDA1fX0K');</script>\n",
       "    "
      ],
      "text/plain": [
       "<IPython.core.display.HTML object>"
      ]
     },
     "metadata": {},
     "output_type": "display_data"
    },
    {
     "data": {
      "text/html": [
       "\n",
       "        <div id=\"8RyKbTzRRVNPRwNi5NhMzi\"></div>\n",
       "        <script>netpixi.call('8RyKbTzRRVNPRwNi5NhMzi', 'fVwUfyxuuBDWvZsTkxzZk2', 'changeGraph', 'eyJpZCI6IDEwOSwgInR5cGUiOiAidmVydGV4IiwgInByb3BzIjogeyJzaXplIjogMTkuMDE3MzQxMDQwNDYyNDI2fX0K');</script>\n",
       "    "
      ],
      "text/plain": [
       "<IPython.core.display.HTML object>"
      ]
     },
     "metadata": {},
     "output_type": "display_data"
    },
    {
     "data": {
      "text/html": [
       "\n",
       "        <div id=\"K6FNCzDT45jbQEZGxMA4bp\"></div>\n",
       "        <script>netpixi.call('K6FNCzDT45jbQEZGxMA4bp', 'fVwUfyxuuBDWvZsTkxzZk2', 'changeGraph', 'eyJpZCI6IDExMCwgInR5cGUiOiAidmVydGV4IiwgInByb3BzIjogeyJzaXplIjogMTkuMzA2MzU4MzgxNTAyODl9fQo=');</script>\n",
       "    "
      ],
      "text/plain": [
       "<IPython.core.display.HTML object>"
      ]
     },
     "metadata": {},
     "output_type": "display_data"
    },
    {
     "data": {
      "text/html": [
       "\n",
       "        <div id=\"eaE9bWbnNt6udat3r42izM\"></div>\n",
       "        <script>netpixi.call('eaE9bWbnNt6udat3r42izM', 'fVwUfyxuuBDWvZsTkxzZk2', 'changeGraph', 'eyJpZCI6IDExMSwgInR5cGUiOiAidmVydGV4IiwgInByb3BzIjogeyJzaXplIjogMTguMDkyNDg1NTQ5MTMyOTQ1fX0K');</script>\n",
       "    "
      ],
      "text/plain": [
       "<IPython.core.display.HTML object>"
      ]
     },
     "metadata": {},
     "output_type": "display_data"
    },
    {
     "data": {
      "text/html": [
       "\n",
       "        <div id=\"eXu4a6NUg2xmKFbuULLEyB\"></div>\n",
       "        <script>netpixi.call('eXu4a6NUg2xmKFbuULLEyB', 'fVwUfyxuuBDWvZsTkxzZk2', 'changeGraph', 'eyJpZCI6IDExMiwgInR5cGUiOiAidmVydGV4IiwgInByb3BzIjogeyJzaXplIjogMTMuODcyODMyMzY5OTQyMTk3fX0K');</script>\n",
       "    "
      ],
      "text/plain": [
       "<IPython.core.display.HTML object>"
      ]
     },
     "metadata": {},
     "output_type": "display_data"
    },
    {
     "data": {
      "text/html": [
       "\n",
       "        <div id=\"9yZ57PByLCKNUwGTnUongQ\"></div>\n",
       "        <script>netpixi.call('9yZ57PByLCKNUwGTnUongQ', 'fVwUfyxuuBDWvZsTkxzZk2', 'changeGraph', 'eyJpZCI6IDExMywgInR5cGUiOiAidmVydGV4IiwgInByb3BzIjogeyJzaXplIjogNDEuODE4MTgxODE4MTgxODF9fQo=');</script>\n",
       "    "
      ],
      "text/plain": [
       "<IPython.core.display.HTML object>"
      ]
     },
     "metadata": {},
     "output_type": "display_data"
    },
    {
     "data": {
      "text/html": [
       "\n",
       "        <div id=\"f2wAiQNVW3EcBEFsxucKQF\"></div>\n",
       "        <script>netpixi.call('f2wAiQNVW3EcBEFsxucKQF', 'fVwUfyxuuBDWvZsTkxzZk2', 'changeGraph', 'eyJpZCI6IDExNCwgInR5cGUiOiAidmVydGV4IiwgInByb3BzIjogeyJzaXplIjogNDUuNDU0NTQ1NDU0NTQ1NDV9fQo=');</script>\n",
       "    "
      ],
      "text/plain": [
       "<IPython.core.display.HTML object>"
      ]
     },
     "metadata": {},
     "output_type": "display_data"
    },
    {
     "data": {
      "text/html": [
       "\n",
       "        <div id=\"e5vmYpndP5y86RB9BBf6ZA\"></div>\n",
       "        <script>netpixi.call('e5vmYpndP5y86RB9BBf6ZA', 'fVwUfyxuuBDWvZsTkxzZk2', 'changeGraph', 'eyJpZCI6IDExNSwgInR5cGUiOiAidmVydGV4IiwgInByb3BzIjogeyJzaXplIjogMTQuODU1NDkxMzI5NDc5NzY5fX0K');</script>\n",
       "    "
      ],
      "text/plain": [
       "<IPython.core.display.HTML object>"
      ]
     },
     "metadata": {},
     "output_type": "display_data"
    },
    {
     "data": {
      "text/html": [
       "\n",
       "        <div id=\"aVyiWPr72E8CgosDrx7EM9\"></div>\n",
       "        <script>netpixi.call('aVyiWPr72E8CgosDrx7EM9', 'fVwUfyxuuBDWvZsTkxzZk2', 'changeGraph', 'eyJpZCI6IDExNiwgInR5cGUiOiAidmVydGV4IiwgInByb3BzIjogeyJzaXplIjogMTkuOTQyMTk2NTMxNzkxOTA3fX0K');</script>\n",
       "    "
      ],
      "text/plain": [
       "<IPython.core.display.HTML object>"
      ]
     },
     "metadata": {},
     "output_type": "display_data"
    },
    {
     "data": {
      "text/html": [
       "\n",
       "        <div id=\"6JWKb4gTMbQ7ZhHv9tMzQt\"></div>\n",
       "        <script>netpixi.call('6JWKb4gTMbQ7ZhHv9tMzQt', 'fVwUfyxuuBDWvZsTkxzZk2', 'changeGraph', 'eyJpZCI6IDExNywgInR5cGUiOiAidmVydGV4IiwgInByb3BzIjogeyJzaXplIjogMTIuMDgwOTI0ODU1NDkxMzI5fX0K');</script>\n",
       "    "
      ],
      "text/plain": [
       "<IPython.core.display.HTML object>"
      ]
     },
     "metadata": {},
     "output_type": "display_data"
    },
    {
     "data": {
      "text/html": [
       "\n",
       "        <div id=\"d4V5t5RmoGhi3gDGpz3b7S\"></div>\n",
       "        <script>netpixi.call('d4V5t5RmoGhi3gDGpz3b7S', 'fVwUfyxuuBDWvZsTkxzZk2', 'changeGraph', 'eyJpZCI6IDExOCwgInR5cGUiOiAidmVydGV4IiwgInByb3BzIjogeyJzaXplIjogMTEuMzg3MjgzMjM2OTk0MjJ9fQo=');</script>\n",
       "    "
      ],
      "text/plain": [
       "<IPython.core.display.HTML object>"
      ]
     },
     "metadata": {},
     "output_type": "display_data"
    },
    {
     "data": {
      "text/html": [
       "\n",
       "        <div id=\"eoJQbVpNYtYF6Z5bHZ8DWQ\"></div>\n",
       "        <script>netpixi.call('eoJQbVpNYtYF6Z5bHZ8DWQ', 'fVwUfyxuuBDWvZsTkxzZk2', 'changeGraph', 'eyJpZCI6IDExOSwgInR5cGUiOiAidmVydGV4IiwgInByb3BzIjogeyJzaXplIjogMTAuMH19Cg==');</script>\n",
       "    "
      ],
      "text/plain": [
       "<IPython.core.display.HTML object>"
      ]
     },
     "metadata": {},
     "output_type": "display_data"
    },
    {
     "data": {
      "text/html": [
       "\n",
       "        <div id=\"GXK8aTAwjwsJdfrmvDumLZ\"></div>\n",
       "        <script>netpixi.call('GXK8aTAwjwsJdfrmvDumLZ', 'fVwUfyxuuBDWvZsTkxzZk2', 'changeGraph', 'eyJpZCI6IDEyMCwgInR5cGUiOiAidmVydGV4IiwgInByb3BzIjogeyJzaXplIjogMTkuNzY4Nzg2MTI3MTY3NjN9fQo=');</script>\n",
       "    "
      ],
      "text/plain": [
       "<IPython.core.display.HTML object>"
      ]
     },
     "metadata": {},
     "output_type": "display_data"
    },
    {
     "data": {
      "text/html": [
       "\n",
       "        <div id=\"2WSQtureF2xD3rtr4jf6w2\"></div>\n",
       "        <script>netpixi.call('2WSQtureF2xD3rtr4jf6w2', 'fVwUfyxuuBDWvZsTkxzZk2', 'changeGraph', 'eyJpZCI6IDEyMSwgInR5cGUiOiAidmVydGV4IiwgInByb3BzIjogeyJzaXplIjogMTIuMzY5OTQyMTk2NTMxNzkyfX0K');</script>\n",
       "    "
      ],
      "text/plain": [
       "<IPython.core.display.HTML object>"
      ]
     },
     "metadata": {},
     "output_type": "display_data"
    },
    {
     "data": {
      "text/html": [
       "\n",
       "        <div id=\"VjLhaxfmWUMSqhkS2CPmsZ\"></div>\n",
       "        <script>netpixi.call('VjLhaxfmWUMSqhkS2CPmsZ', 'fVwUfyxuuBDWvZsTkxzZk2', 'changeGraph', 'eyJpZCI6IDEyMiwgInR5cGUiOiAidmVydGV4IiwgInByb3BzIjogeyJzaXplIjogMTkuMjQ4NTU0OTEzMjk0Nzk3fX0K');</script>\n",
       "    "
      ],
      "text/plain": [
       "<IPython.core.display.HTML object>"
      ]
     },
     "metadata": {},
     "output_type": "display_data"
    },
    {
     "data": {
      "text/html": [
       "\n",
       "        <div id=\"MwPVcXqnmTukUDTMM9NJcb\"></div>\n",
       "        <script>netpixi.call('MwPVcXqnmTukUDTMM9NJcb', 'fVwUfyxuuBDWvZsTkxzZk2', 'changeGraph', 'eyJpZCI6IDEyMywgInR5cGUiOiAidmVydGV4IiwgInByb3BzIjogeyJzaXplIjogMTEuMTU2MDY5MzY0MTYxODV9fQo=');</script>\n",
       "    "
      ],
      "text/plain": [
       "<IPython.core.display.HTML object>"
      ]
     },
     "metadata": {},
     "output_type": "display_data"
    },
    {
     "data": {
      "text/html": [
       "\n",
       "        <div id=\"EyeVNLZ9apM32SFZE3x8uo\"></div>\n",
       "        <script>netpixi.call('EyeVNLZ9apM32SFZE3x8uo', 'fVwUfyxuuBDWvZsTkxzZk2', 'changeGraph', 'eyJpZCI6IDEyNCwgInR5cGUiOiAidmVydGV4IiwgInByb3BzIjogeyJzaXplIjogMTEuNDQ1MDg2NzA1MjAyMzEyfX0K');</script>\n",
       "    "
      ],
      "text/plain": [
       "<IPython.core.display.HTML object>"
      ]
     },
     "metadata": {},
     "output_type": "display_data"
    },
    {
     "data": {
      "text/html": [
       "\n",
       "        <div id=\"QB3KJvBWuAMmV5wMGK5957\"></div>\n",
       "        <script>netpixi.call('QB3KJvBWuAMmV5wMGK5957', 'fVwUfyxuuBDWvZsTkxzZk2', 'changeGraph', 'eyJpZCI6IDEyNSwgInR5cGUiOiAidmVydGV4IiwgInByb3BzIjogeyJzaXplIjogMTUuMzE3OTE5MDc1MTQ0NTF9fQo=');</script>\n",
       "    "
      ],
      "text/plain": [
       "<IPython.core.display.HTML object>"
      ]
     },
     "metadata": {},
     "output_type": "display_data"
    },
    {
     "data": {
      "text/html": [
       "\n",
       "        <div id=\"cVRgs3JdmyLTKsNGCJtCeu\"></div>\n",
       "        <script>netpixi.call('cVRgs3JdmyLTKsNGCJtCeu', 'fVwUfyxuuBDWvZsTkxzZk2', 'changeGraph', 'eyJpZCI6IDEyNiwgInR5cGUiOiAidmVydGV4IiwgInByb3BzIjogeyJzaXplIjogMTQuNTA4NjcwNTIwMjMxMjEzfX0K');</script>\n",
       "    "
      ],
      "text/plain": [
       "<IPython.core.display.HTML object>"
      ]
     },
     "metadata": {},
     "output_type": "display_data"
    },
    {
     "data": {
      "text/html": [
       "\n",
       "        <div id=\"mjJ6vHPni6PJxswUkhw9jV\"></div>\n",
       "        <script>netpixi.call('mjJ6vHPni6PJxswUkhw9jV', 'fVwUfyxuuBDWvZsTkxzZk2', 'changeGraph', 'eyJpZCI6IDEyNywgInR5cGUiOiAidmVydGV4IiwgInByb3BzIjogeyJzaXplIjogMTkuNzEwOTgyNjU4OTU5NTM3fX0K');</script>\n",
       "    "
      ],
      "text/plain": [
       "<IPython.core.display.HTML object>"
      ]
     },
     "metadata": {},
     "output_type": "display_data"
    },
    {
     "data": {
      "text/html": [
       "\n",
       "        <div id=\"cifrMFQVsfoc4JnMyHGo4N\"></div>\n",
       "        <script>netpixi.call('cifrMFQVsfoc4JnMyHGo4N', 'fVwUfyxuuBDWvZsTkxzZk2', 'changeGraph', 'eyJpZCI6IDEyOCwgInR5cGUiOiAidmVydGV4IiwgInByb3BzIjogeyJzaXplIjogNDYuMTM2MzYzNjM2MzYzNjR9fQo=');</script>\n",
       "    "
      ],
      "text/plain": [
       "<IPython.core.display.HTML object>"
      ]
     },
     "metadata": {},
     "output_type": "display_data"
    },
    {
     "data": {
      "text/html": [
       "\n",
       "        <div id=\"PvVFjSiik9MiVnxTG3Dc8s\"></div>\n",
       "        <script>netpixi.call('PvVFjSiik9MiVnxTG3Dc8s', 'fVwUfyxuuBDWvZsTkxzZk2', 'changeGraph', 'eyJpZCI6IDEyOSwgInR5cGUiOiAidmVydGV4IiwgInByb3BzIjogeyJzaXplIjogMTguMzgxNTAyODkwMTczNDA4fX0K');</script>\n",
       "    "
      ],
      "text/plain": [
       "<IPython.core.display.HTML object>"
      ]
     },
     "metadata": {},
     "output_type": "display_data"
    },
    {
     "data": {
      "text/html": [
       "\n",
       "        <div id=\"QiLz58Yja65QAoxQi737K3\"></div>\n",
       "        <script>netpixi.call('QiLz58Yja65QAoxQi737K3', 'fVwUfyxuuBDWvZsTkxzZk2', 'changeGraph', 'eyJpZCI6IDEzMCwgInR5cGUiOiAidmVydGV4IiwgInByb3BzIjogeyJzaXplIjogMTYuMzAwNTc4MDM0NjgyMDgzfX0K');</script>\n",
       "    "
      ],
      "text/plain": [
       "<IPython.core.display.HTML object>"
      ]
     },
     "metadata": {},
     "output_type": "display_data"
    },
    {
     "data": {
      "text/html": [
       "\n",
       "        <div id=\"Y5v3M9astN2apeDXYMXJtv\"></div>\n",
       "        <script>netpixi.call('Y5v3M9astN2apeDXYMXJtv', 'fVwUfyxuuBDWvZsTkxzZk2', 'changeGraph', 'eyJpZCI6IDEzMSwgInR5cGUiOiAidmVydGV4IiwgInByb3BzIjogeyJzaXplIjogNDUuMjI3MjcyNzI3MjcyNzN9fQo=');</script>\n",
       "    "
      ],
      "text/plain": [
       "<IPython.core.display.HTML object>"
      ]
     },
     "metadata": {},
     "output_type": "display_data"
    },
    {
     "data": {
      "text/html": [
       "\n",
       "        <div id=\"Sn4vDULQM2sfGg7wjajmu5\"></div>\n",
       "        <script>netpixi.call('Sn4vDULQM2sfGg7wjajmu5', 'fVwUfyxuuBDWvZsTkxzZk2', 'changeGraph', 'eyJpZCI6IDEzMiwgInR5cGUiOiAidmVydGV4IiwgInByb3BzIjogeyJzaXplIjogMTguMjY1ODk1OTUzNzU3MjIzfX0K');</script>\n",
       "    "
      ],
      "text/plain": [
       "<IPython.core.display.HTML object>"
      ]
     },
     "metadata": {},
     "output_type": "display_data"
    },
    {
     "data": {
      "text/html": [
       "\n",
       "        <div id=\"cKg4HQ3QVTedRcYg7Qd7qM\"></div>\n",
       "        <script>netpixi.call('cKg4HQ3QVTedRcYg7Qd7qM', 'fVwUfyxuuBDWvZsTkxzZk2', 'changeGraph', 'eyJpZCI6IDEzMywgInR5cGUiOiAidmVydGV4IiwgInByb3BzIjogeyJzaXplIjogNDMuODYzNjM2MzYzNjM2MzZ9fQo=');</script>\n",
       "    "
      ],
      "text/plain": [
       "<IPython.core.display.HTML object>"
      ]
     },
     "metadata": {},
     "output_type": "display_data"
    },
    {
     "data": {
      "text/html": [
       "\n",
       "        <div id=\"XL439YRFLRpnsZetnydAwU\"></div>\n",
       "        <script>netpixi.call('XL439YRFLRpnsZetnydAwU', 'fVwUfyxuuBDWvZsTkxzZk2', 'changeGraph', 'eyJpZCI6IDEzNCwgInR5cGUiOiAidmVydGV4IiwgInByb3BzIjogeyJzaXplIjogMTIuMTM4NzI4MzIzNjk5NDIxfX0K');</script>\n",
       "    "
      ],
      "text/plain": [
       "<IPython.core.display.HTML object>"
      ]
     },
     "metadata": {},
     "output_type": "display_data"
    },
    {
     "data": {
      "text/html": [
       "\n",
       "        <div id=\"c4TcQQVBjYDytHTNCruEgK\"></div>\n",
       "        <script>netpixi.call('c4TcQQVBjYDytHTNCruEgK', 'fVwUfyxuuBDWvZsTkxzZk2', 'changeGraph', 'eyJpZCI6IDEzNSwgInR5cGUiOiAidmVydGV4IiwgInByb3BzIjogeyJzaXplIjogMTIuODMyMzY5OTQyMTk2NTMyfX0K');</script>\n",
       "    "
      ],
      "text/plain": [
       "<IPython.core.display.HTML object>"
      ]
     },
     "metadata": {},
     "output_type": "display_data"
    },
    {
     "data": {
      "text/html": [
       "\n",
       "        <div id=\"fpTCu677FyQMJQrrmutmno\"></div>\n",
       "        <script>netpixi.call('fpTCu677FyQMJQrrmutmno', 'fVwUfyxuuBDWvZsTkxzZk2', 'changeGraph', 'eyJpZCI6IDEzNiwgInR5cGUiOiAidmVydGV4IiwgInByb3BzIjogeyJzaXplIjogMTAuMjg5MDE3MzQxMDQwNDYzfX0K');</script>\n",
       "    "
      ],
      "text/plain": [
       "<IPython.core.display.HTML object>"
      ]
     },
     "metadata": {},
     "output_type": "display_data"
    },
    {
     "data": {
      "text/html": [
       "\n",
       "        <div id=\"Facvhrhs9U6Xk93mkFvtcU\"></div>\n",
       "        <script>netpixi.call('Facvhrhs9U6Xk93mkFvtcU', 'fVwUfyxuuBDWvZsTkxzZk2', 'changeGraph', 'eyJpZCI6IDEzNywgInR5cGUiOiAidmVydGV4IiwgInByb3BzIjogeyJzaXplIjogNDkuNzcyNzI3MjcyNzI3Mjd9fQo=');</script>\n",
       "    "
      ],
      "text/plain": [
       "<IPython.core.display.HTML object>"
      ]
     },
     "metadata": {},
     "output_type": "display_data"
    },
    {
     "data": {
      "text/html": [
       "\n",
       "        <div id=\"eb5oWHBUULuf9EvQdVd8nh\"></div>\n",
       "        <script>netpixi.call('eb5oWHBUULuf9EvQdVd8nh', 'fVwUfyxuuBDWvZsTkxzZk2', 'changeGraph', 'eyJpZCI6IDEzOCwgInR5cGUiOiAidmVydGV4IiwgInByb3BzIjogeyJzaXplIjogMTEuNjE4NDk3MTA5ODI2NTl9fQo=');</script>\n",
       "    "
      ],
      "text/plain": [
       "<IPython.core.display.HTML object>"
      ]
     },
     "metadata": {},
     "output_type": "display_data"
    },
    {
     "data": {
      "text/html": [
       "\n",
       "        <div id=\"ZsgjyLwEbnqbcn2UE3Q4GH\"></div>\n",
       "        <script>netpixi.call('ZsgjyLwEbnqbcn2UE3Q4GH', 'fVwUfyxuuBDWvZsTkxzZk2', 'changeGraph', 'eyJpZCI6IDEzOSwgInR5cGUiOiAidmVydGV4IiwgInByb3BzIjogeyJzaXplIjogMTYuOTM2NDE2MTg0OTcxMDk3fX0K');</script>\n",
       "    "
      ],
      "text/plain": [
       "<IPython.core.display.HTML object>"
      ]
     },
     "metadata": {},
     "output_type": "display_data"
    },
    {
     "data": {
      "text/html": [
       "\n",
       "        <div id=\"Y3ApEAb7bBpaDgCrzeWW7w\"></div>\n",
       "        <script>netpixi.call('Y3ApEAb7bBpaDgCrzeWW7w', 'fVwUfyxuuBDWvZsTkxzZk2', 'changeGraph', 'eyJpZCI6IDE0MCwgInR5cGUiOiAidmVydGV4IiwgInByb3BzIjogeyJzaXplIjogNDMuNDA5MDkwOTA5MDkwOTF9fQo=');</script>\n",
       "    "
      ],
      "text/plain": [
       "<IPython.core.display.HTML object>"
      ]
     },
     "metadata": {},
     "output_type": "display_data"
    },
    {
     "data": {
      "text/html": [
       "\n",
       "        <div id=\"dD8QDnbkCiSpzJ4NoTt4yQ\"></div>\n",
       "        <script>netpixi.call('dD8QDnbkCiSpzJ4NoTt4yQ', 'fVwUfyxuuBDWvZsTkxzZk2', 'changeGraph', 'eyJpZCI6IDE0MSwgInR5cGUiOiAidmVydGV4IiwgInByb3BzIjogeyJzaXplIjogMTcuMjI1NDMzNTI2MDExNTZ9fQo=');</script>\n",
       "    "
      ],
      "text/plain": [
       "<IPython.core.display.HTML object>"
      ]
     },
     "metadata": {},
     "output_type": "display_data"
    },
    {
     "data": {
      "text/html": [
       "\n",
       "        <div id=\"fjC9ZqSPJ5wheJwdHqtzNc\"></div>\n",
       "        <script>netpixi.call('fjC9ZqSPJ5wheJwdHqtzNc', 'fVwUfyxuuBDWvZsTkxzZk2', 'changeGraph', 'eyJpZCI6IDE0MiwgInR5cGUiOiAidmVydGV4IiwgInByb3BzIjogeyJzaXplIjogNDYuMzYzNjM2MzYzNjM2MzZ9fQo=');</script>\n",
       "    "
      ],
      "text/plain": [
       "<IPython.core.display.HTML object>"
      ]
     },
     "metadata": {},
     "output_type": "display_data"
    },
    {
     "data": {
      "text/html": [
       "\n",
       "        <div id=\"EFe84UgfxvQE4dfzDszQvM\"></div>\n",
       "        <script>netpixi.call('EFe84UgfxvQE4dfzDszQvM', 'fVwUfyxuuBDWvZsTkxzZk2', 'changeGraph', 'eyJpZCI6IDE0MywgInR5cGUiOiAidmVydGV4IiwgInByb3BzIjogeyJzaXplIjogNDIuOTU0NTQ1NDU0NTQ1NDV9fQo=');</script>\n",
       "    "
      ],
      "text/plain": [
       "<IPython.core.display.HTML object>"
      ]
     },
     "metadata": {},
     "output_type": "display_data"
    },
    {
     "data": {
      "text/html": [
       "\n",
       "        <div id=\"bzktCbghYySTTwAxYUR46y\"></div>\n",
       "        <script>netpixi.call('bzktCbghYySTTwAxYUR46y', 'fVwUfyxuuBDWvZsTkxzZk2', 'changeGraph', 'eyJpZCI6IDE0NCwgInR5cGUiOiAidmVydGV4IiwgInByb3BzIjogeyJzaXplIjogMTIuMzEyMTM4NzI4MzIzN319Cg==');</script>\n",
       "    "
      ],
      "text/plain": [
       "<IPython.core.display.HTML object>"
      ]
     },
     "metadata": {},
     "output_type": "display_data"
    },
    {
     "data": {
      "text/html": [
       "\n",
       "        <div id=\"5q6pwNDi8pwUMbLsnFGhrx\"></div>\n",
       "        <script>netpixi.call('5q6pwNDi8pwUMbLsnFGhrx', 'fVwUfyxuuBDWvZsTkxzZk2', 'changeGraph', 'eyJpZCI6IDE0NSwgInR5cGUiOiAidmVydGV4IiwgInByb3BzIjogeyJzaXplIjogMTUuNjA2OTM2NDE2MTg0OTcyfX0K');</script>\n",
       "    "
      ],
      "text/plain": [
       "<IPython.core.display.HTML object>"
      ]
     },
     "metadata": {},
     "output_type": "display_data"
    },
    {
     "data": {
      "text/html": [
       "\n",
       "        <div id=\"a55sE82uVN3QiQ3KWAJtCw\"></div>\n",
       "        <script>netpixi.call('a55sE82uVN3QiQ3KWAJtCw', 'fVwUfyxuuBDWvZsTkxzZk2', 'changeGraph', 'eyJpZCI6IDE0NiwgInR5cGUiOiAidmVydGV4IiwgInByb3BzIjogeyJzaXplIjogMTYuODc4NjEyNzE2NzYzMDA1fX0K');</script>\n",
       "    "
      ],
      "text/plain": [
       "<IPython.core.display.HTML object>"
      ]
     },
     "metadata": {},
     "output_type": "display_data"
    },
    {
     "data": {
      "text/html": [
       "\n",
       "        <div id=\"HocPMpdo3wMdDVym4PfKqC\"></div>\n",
       "        <script>netpixi.call('HocPMpdo3wMdDVym4PfKqC', 'fVwUfyxuuBDWvZsTkxzZk2', 'changeGraph', 'eyJpZCI6IDE0NywgInR5cGUiOiAidmVydGV4IiwgInByb3BzIjogeyJzaXplIjogNDAuOTA5MDkwOTA5MDkwOTF9fQo=');</script>\n",
       "    "
      ],
      "text/plain": [
       "<IPython.core.display.HTML object>"
      ]
     },
     "metadata": {},
     "output_type": "display_data"
    },
    {
     "data": {
      "text/html": [
       "\n",
       "        <div id=\"cQsXn9j4LZiPGjpr2QjvCH\"></div>\n",
       "        <script>netpixi.call('cQsXn9j4LZiPGjpr2QjvCH', 'fVwUfyxuuBDWvZsTkxzZk2', 'changeGraph', 'eyJpZCI6IDE0OCwgInR5cGUiOiAidmVydGV4IiwgInByb3BzIjogeyJzaXplIjogNDAuNDU0NTQ1NDU0NTQ1NDV9fQo=');</script>\n",
       "    "
      ],
      "text/plain": [
       "<IPython.core.display.HTML object>"
      ]
     },
     "metadata": {},
     "output_type": "display_data"
    },
    {
     "data": {
      "text/html": [
       "\n",
       "        <div id=\"mfDBtKBDdiuV4QPtrTaADm\"></div>\n",
       "        <script>netpixi.call('mfDBtKBDdiuV4QPtrTaADm', 'fVwUfyxuuBDWvZsTkxzZk2', 'changeGraph', 'eyJpZCI6IDE0OSwgInR5cGUiOiAidmVydGV4IiwgInByb3BzIjogeyJzaXplIjogMTMuMTIxMzg3MjgzMjM2OTk1fX0K');</script>\n",
       "    "
      ],
      "text/plain": [
       "<IPython.core.display.HTML object>"
      ]
     },
     "metadata": {},
     "output_type": "display_data"
    },
    {
     "data": {
      "text/html": [
       "\n",
       "        <div id=\"5JKAdVCkVMcnNZmp9PQhjo\"></div>\n",
       "        <script>netpixi.call('5JKAdVCkVMcnNZmp9PQhjo', 'fVwUfyxuuBDWvZsTkxzZk2', 'changeGraph', 'eyJpZCI6IDE1MCwgInR5cGUiOiAidmVydGV4IiwgInByb3BzIjogeyJzaXplIjogMTAuNDYyNDI3NzQ1NjY0NzR9fQo=');</script>\n",
       "    "
      ],
      "text/plain": [
       "<IPython.core.display.HTML object>"
      ]
     },
     "metadata": {},
     "output_type": "display_data"
    },
    {
     "data": {
      "text/html": [
       "\n",
       "        <div id=\"RJ7qqc7TmWgDr43mkSQCqY\"></div>\n",
       "        <script>netpixi.call('RJ7qqc7TmWgDr43mkSQCqY', 'fVwUfyxuuBDWvZsTkxzZk2', 'changeGraph', 'eyJpZCI6IDE1MSwgInR5cGUiOiAidmVydGV4IiwgInByb3BzIjogeyJzaXplIjogMTcuNjg3ODYxMjcxNjc2M319Cg==');</script>\n",
       "    "
      ],
      "text/plain": [
       "<IPython.core.display.HTML object>"
      ]
     },
     "metadata": {},
     "output_type": "display_data"
    },
    {
     "data": {
      "text/html": [
       "\n",
       "        <div id=\"UZc9PVv3g22CjGK6cvCVVz\"></div>\n",
       "        <script>netpixi.call('UZc9PVv3g22CjGK6cvCVVz', 'fVwUfyxuuBDWvZsTkxzZk2', 'changeGraph', 'eyJpZCI6IDE1MiwgInR5cGUiOiAidmVydGV4IiwgInByb3BzIjogeyJzaXplIjogMTQuNjI0Mjc3NDU2NjQ3Mzk4fX0K');</script>\n",
       "    "
      ],
      "text/plain": [
       "<IPython.core.display.HTML object>"
      ]
     },
     "metadata": {},
     "output_type": "display_data"
    },
    {
     "data": {
      "text/html": [
       "\n",
       "        <div id=\"KsdzuRWB6qCtPauBsDUgtv\"></div>\n",
       "        <script>netpixi.call('KsdzuRWB6qCtPauBsDUgtv', 'fVwUfyxuuBDWvZsTkxzZk2', 'changeGraph', 'eyJpZCI6IDE1MywgInR5cGUiOiAidmVydGV4IiwgInByb3BzIjogeyJzaXplIjogMTcuNDU2NjQ3Mzk4ODQzOTN9fQo=');</script>\n",
       "    "
      ],
      "text/plain": [
       "<IPython.core.display.HTML object>"
      ]
     },
     "metadata": {},
     "output_type": "display_data"
    },
    {
     "data": {
      "text/html": [
       "\n",
       "        <div id=\"9rrSet43t8W6yd2szJYA3m\"></div>\n",
       "        <script>netpixi.call('9rrSet43t8W6yd2szJYA3m', 'fVwUfyxuuBDWvZsTkxzZk2', 'changeGraph', 'eyJpZCI6IDE1NCwgInR5cGUiOiAidmVydGV4IiwgInByb3BzIjogeyJzaXplIjogMTcuNTE0NDUwODY3MDUyMDIzfX0K');</script>\n",
       "    "
      ],
      "text/plain": [
       "<IPython.core.display.HTML object>"
      ]
     },
     "metadata": {},
     "output_type": "display_data"
    },
    {
     "data": {
      "text/html": [
       "\n",
       "        <div id=\"BPce556gchAsxucVRVBgeJ\"></div>\n",
       "        <script>netpixi.call('BPce556gchAsxucVRVBgeJ', 'fVwUfyxuuBDWvZsTkxzZk2', 'changeGraph', 'eyJpZCI6IDE1NSwgInR5cGUiOiAidmVydGV4IiwgInByb3BzIjogeyJzaXplIjogMTUuMjAyMzEyMTM4NzI4MzI0fX0K');</script>\n",
       "    "
      ],
      "text/plain": [
       "<IPython.core.display.HTML object>"
      ]
     },
     "metadata": {},
     "output_type": "display_data"
    },
    {
     "data": {
      "text/html": [
       "\n",
       "        <div id=\"7mteJBTqBUCBPpjQej58uP\"></div>\n",
       "        <script>netpixi.call('7mteJBTqBUCBPpjQej58uP', 'fVwUfyxuuBDWvZsTkxzZk2', 'changeGraph', 'eyJpZCI6IDE1NiwgInR5cGUiOiAidmVydGV4IiwgInByb3BzIjogeyJzaXplIjogMTEuNzkxOTA3NTE0NDUwODY2fX0K');</script>\n",
       "    "
      ],
      "text/plain": [
       "<IPython.core.display.HTML object>"
      ]
     },
     "metadata": {},
     "output_type": "display_data"
    },
    {
     "data": {
      "text/html": [
       "\n",
       "        <div id=\"f2foowtYr9FvpyLRxNWaqL\"></div>\n",
       "        <script>netpixi.call('f2foowtYr9FvpyLRxNWaqL', 'fVwUfyxuuBDWvZsTkxzZk2', 'changeGraph', 'eyJpZCI6IDE1NywgInR5cGUiOiAidmVydGV4IiwgInByb3BzIjogeyJzaXplIjogNDYuNTkwOTA5MDkwOTA5MDl9fQo=');</script>\n",
       "    "
      ],
      "text/plain": [
       "<IPython.core.display.HTML object>"
      ]
     },
     "metadata": {},
     "output_type": "display_data"
    },
    {
     "data": {
      "text/html": [
       "\n",
       "        <div id=\"5DqWQE3Fp4cKRZRwwyuHif\"></div>\n",
       "        <script>netpixi.call('5DqWQE3Fp4cKRZRwwyuHif', 'fVwUfyxuuBDWvZsTkxzZk2', 'changeGraph', 'eyJpZCI6IDE1OCwgInR5cGUiOiAidmVydGV4IiwgInByb3BzIjogeyJzaXplIjogMTMuNzU3MjI1NDMzNTI2MDEyfX0K');</script>\n",
       "    "
      ],
      "text/plain": [
       "<IPython.core.display.HTML object>"
      ]
     },
     "metadata": {},
     "output_type": "display_data"
    },
    {
     "data": {
      "text/html": [
       "\n",
       "        <div id=\"SP7JWZ56EMnhEd2M5bSiqH\"></div>\n",
       "        <script>netpixi.call('SP7JWZ56EMnhEd2M5bSiqH', 'fVwUfyxuuBDWvZsTkxzZk2', 'changeGraph', 'eyJpZCI6IDE1OSwgInR5cGUiOiAidmVydGV4IiwgInByb3BzIjogeyJzaXplIjogMTYuODIwODA5MjQ4NTU0OTEyfX0K');</script>\n",
       "    "
      ],
      "text/plain": [
       "<IPython.core.display.HTML object>"
      ]
     },
     "metadata": {},
     "output_type": "display_data"
    },
    {
     "data": {
      "text/html": [
       "\n",
       "        <div id=\"jfXJXfPQVQB3U8hMBPuT9j\"></div>\n",
       "        <script>netpixi.call('jfXJXfPQVQB3U8hMBPuT9j', 'fVwUfyxuuBDWvZsTkxzZk2', 'changeGraph', 'eyJpZCI6IDE2MCwgInR5cGUiOiAidmVydGV4IiwgInByb3BzIjogeyJzaXplIjogMTAuODA5MjQ4NTU0OTEzMjk0fX0K');</script>\n",
       "    "
      ],
      "text/plain": [
       "<IPython.core.display.HTML object>"
      ]
     },
     "metadata": {},
     "output_type": "display_data"
    },
    {
     "data": {
      "text/html": [
       "\n",
       "        <div id=\"nAnaYfMgGG4uip2WbTuFfU\"></div>\n",
       "        <script>netpixi.call('nAnaYfMgGG4uip2WbTuFfU', 'fVwUfyxuuBDWvZsTkxzZk2', 'changeGraph', 'eyJpZCI6IDE2MSwgInR5cGUiOiAidmVydGV4IiwgInByb3BzIjogeyJzaXplIjogMTEuOTY1MzE3OTE5MDc1MTQ0fX0K');</script>\n",
       "    "
      ],
      "text/plain": [
       "<IPython.core.display.HTML object>"
      ]
     },
     "metadata": {},
     "output_type": "display_data"
    },
    {
     "data": {
      "text/html": [
       "\n",
       "        <div id=\"XGedq7NnJ97hb67iyuNf7J\"></div>\n",
       "        <script>netpixi.call('XGedq7NnJ97hb67iyuNf7J', 'fVwUfyxuuBDWvZsTkxzZk2', 'changeGraph', 'eyJpZCI6IDE2MiwgInR5cGUiOiAidmVydGV4IiwgInByb3BzIjogeyJzaXplIjogMTMuMjk0Nzk3Njg3ODYxMjczfX0K');</script>\n",
       "    "
      ],
      "text/plain": [
       "<IPython.core.display.HTML object>"
      ]
     },
     "metadata": {},
     "output_type": "display_data"
    },
    {
     "data": {
      "text/html": [
       "\n",
       "        <div id=\"jX3xgHwUXAnhgjKacvYmLR\"></div>\n",
       "        <script>netpixi.call('jX3xgHwUXAnhgjKacvYmLR', 'fVwUfyxuuBDWvZsTkxzZk2', 'changeGraph', 'eyJpZCI6IDE2MywgInR5cGUiOiAidmVydGV4IiwgInByb3BzIjogeyJzaXplIjogMTAuMDU3ODAzNDY4MjA4MDkzfX0K');</script>\n",
       "    "
      ],
      "text/plain": [
       "<IPython.core.display.HTML object>"
      ]
     },
     "metadata": {},
     "output_type": "display_data"
    },
    {
     "data": {
      "text/html": [
       "\n",
       "        <div id=\"NYpxofrezmqpFGYWsWdW7u\"></div>\n",
       "        <script>netpixi.call('NYpxofrezmqpFGYWsWdW7u', 'fVwUfyxuuBDWvZsTkxzZk2', 'changeGraph', 'eyJpZCI6IDE2NCwgInR5cGUiOiAidmVydGV4IiwgInByb3BzIjogeyJzaXplIjogNDAuMjI3MjcyNzI3MjcyNzM0fX0K');</script>\n",
       "    "
      ],
      "text/plain": [
       "<IPython.core.display.HTML object>"
      ]
     },
     "metadata": {},
     "output_type": "display_data"
    },
    {
     "data": {
      "text/html": [
       "\n",
       "        <div id=\"iMmFkPCQvax2ncnRsFxQZK\"></div>\n",
       "        <script>netpixi.call('iMmFkPCQvax2ncnRsFxQZK', 'fVwUfyxuuBDWvZsTkxzZk2', 'changeGraph', 'eyJpZCI6IDE2NSwgInR5cGUiOiAidmVydGV4IiwgInByb3BzIjogeyJzaXplIjogMTAuMjMxMjEzODcyODMyMzd9fQo=');</script>\n",
       "    "
      ],
      "text/plain": [
       "<IPython.core.display.HTML object>"
      ]
     },
     "metadata": {},
     "output_type": "display_data"
    },
    {
     "data": {
      "text/html": [
       "\n",
       "        <div id=\"E8WjfajAGAnW6G8bjw3YHk\"></div>\n",
       "        <script>netpixi.call('E8WjfajAGAnW6G8bjw3YHk', 'fVwUfyxuuBDWvZsTkxzZk2', 'changeGraph', 'eyJpZCI6IDE2NiwgInR5cGUiOiAidmVydGV4IiwgInByb3BzIjogeyJzaXplIjogMTguNjcwNTIwMjMxMjEzODd9fQo=');</script>\n",
       "    "
      ],
      "text/plain": [
       "<IPython.core.display.HTML object>"
      ]
     },
     "metadata": {},
     "output_type": "display_data"
    },
    {
     "data": {
      "text/html": [
       "\n",
       "        <div id=\"Fgh6vqdm3cdywFmWYzEDEG\"></div>\n",
       "        <script>netpixi.call('Fgh6vqdm3cdywFmWYzEDEG', 'fVwUfyxuuBDWvZsTkxzZk2', 'changeGraph', 'eyJpZCI6IDE2NywgInR5cGUiOiAidmVydGV4IiwgInByb3BzIjogeyJzaXplIjogMTMuNjk5NDIxOTY1MzE3OTE5fX0K');</script>\n",
       "    "
      ],
      "text/plain": [
       "<IPython.core.display.HTML object>"
      ]
     },
     "metadata": {},
     "output_type": "display_data"
    },
    {
     "data": {
      "text/html": [
       "\n",
       "        <div id=\"M5gfeQJFamoFYCp5Ea42gs\"></div>\n",
       "        <script>netpixi.call('M5gfeQJFamoFYCp5Ea42gs', 'fVwUfyxuuBDWvZsTkxzZk2', 'changeGraph', 'eyJpZCI6IDE2OCwgInR5cGUiOiAidmVydGV4IiwgInByb3BzIjogeyJzaXplIjogMTUuODM4MTUwMjg5MDE3MzR9fQo=');</script>\n",
       "    "
      ],
      "text/plain": [
       "<IPython.core.display.HTML object>"
      ]
     },
     "metadata": {},
     "output_type": "display_data"
    },
    {
     "data": {
      "text/html": [
       "\n",
       "        <div id=\"DJAnC9WJY4LEAR3iqxnUH6\"></div>\n",
       "        <script>netpixi.call('DJAnC9WJY4LEAR3iqxnUH6', 'fVwUfyxuuBDWvZsTkxzZk2', 'changeGraph', 'eyJpZCI6IDE2OSwgInR5cGUiOiAidmVydGV4IiwgInByb3BzIjogeyJzaXplIjogMTIuOTQ3OTc2ODc4NjEyNzE3fX0K');</script>\n",
       "    "
      ],
      "text/plain": [
       "<IPython.core.display.HTML object>"
      ]
     },
     "metadata": {},
     "output_type": "display_data"
    },
    {
     "data": {
      "text/html": [
       "\n",
       "        <div id=\"8R2gF2h6WwoPN86VKVhKDM\"></div>\n",
       "        <script>netpixi.call('8R2gF2h6WwoPN86VKVhKDM', 'fVwUfyxuuBDWvZsTkxzZk2', 'changeGraph', 'eyJpZCI6IDE3MCwgInR5cGUiOiAidmVydGV4IiwgInByb3BzIjogeyJzaXplIjogNDUuMH19Cg==');</script>\n",
       "    "
      ],
      "text/plain": [
       "<IPython.core.display.HTML object>"
      ]
     },
     "metadata": {},
     "output_type": "display_data"
    },
    {
     "data": {
      "text/html": [
       "\n",
       "        <div id=\"WSLbgYBAuQh5KXf5fzURby\"></div>\n",
       "        <script>netpixi.call('WSLbgYBAuQh5KXf5fzURby', 'fVwUfyxuuBDWvZsTkxzZk2', 'changeGraph', 'eyJpZCI6IDE3MSwgInR5cGUiOiAidmVydGV4IiwgInByb3BzIjogeyJzaXplIjogNDQuMDkwOTA5MDkwOTA5MDl9fQo=');</script>\n",
       "    "
      ],
      "text/plain": [
       "<IPython.core.display.HTML object>"
      ]
     },
     "metadata": {},
     "output_type": "display_data"
    },
    {
     "data": {
      "text/html": [
       "\n",
       "        <div id=\"SjUMjGaxWukmpvr2NnDvjp\"></div>\n",
       "        <script>netpixi.call('SjUMjGaxWukmpvr2NnDvjp', 'fVwUfyxuuBDWvZsTkxzZk2', 'changeGraph', 'eyJpZCI6IDE3MiwgInR5cGUiOiAidmVydGV4IiwgInByb3BzIjogeyJzaXplIjogNDUuNjgxODE4MTgxODE4MTl9fQo=');</script>\n",
       "    "
      ],
      "text/plain": [
       "<IPython.core.display.HTML object>"
      ]
     },
     "metadata": {},
     "output_type": "display_data"
    },
    {
     "data": {
      "text/html": [
       "\n",
       "        <div id=\"PDVK39yDCTERTSwo2zLXza\"></div>\n",
       "        <script>netpixi.call('PDVK39yDCTERTSwo2zLXza', 'fVwUfyxuuBDWvZsTkxzZk2', 'changeGraph', 'eyJpZCI6IDE3MywgInR5cGUiOiAidmVydGV4IiwgInByb3BzIjogeyJzaXplIjogMTUuMTQ0NTA4NjcwNTIwMjMxfX0K');</script>\n",
       "    "
      ],
      "text/plain": [
       "<IPython.core.display.HTML object>"
      ]
     },
     "metadata": {},
     "output_type": "display_data"
    },
    {
     "data": {
      "text/html": [
       "\n",
       "        <div id=\"X4LiYga9oAHpB5qkjs9Js6\"></div>\n",
       "        <script>netpixi.call('X4LiYga9oAHpB5qkjs9Js6', 'fVwUfyxuuBDWvZsTkxzZk2', 'changeGraph', 'eyJpZCI6IDE3NCwgInR5cGUiOiAidmVydGV4IiwgInByb3BzIjogeyJzaXplIjogMTIuNTQzMzUyNjAxMTU2MDd9fQo=');</script>\n",
       "    "
      ],
      "text/plain": [
       "<IPython.core.display.HTML object>"
      ]
     },
     "metadata": {},
     "output_type": "display_data"
    },
    {
     "data": {
      "text/html": [
       "\n",
       "        <div id=\"ncmxjbD2KaJXrEQSFhuxXb\"></div>\n",
       "        <script>netpixi.call('ncmxjbD2KaJXrEQSFhuxXb', 'fVwUfyxuuBDWvZsTkxzZk2', 'changeGraph', 'eyJpZCI6IDE3NSwgInR5cGUiOiAidmVydGV4IiwgInByb3BzIjogeyJzaXplIjogMTYuNTg5NTk1Mzc1NzIyNTQ2fX0K');</script>\n",
       "    "
      ],
      "text/plain": [
       "<IPython.core.display.HTML object>"
      ]
     },
     "metadata": {},
     "output_type": "display_data"
    },
    {
     "data": {
      "text/html": [
       "\n",
       "        <div id=\"Sszz5VxyQJJHKhyiK7Z5Hh\"></div>\n",
       "        <script>netpixi.call('Sszz5VxyQJJHKhyiK7Z5Hh', 'fVwUfyxuuBDWvZsTkxzZk2', 'changeGraph', 'eyJpZCI6IDE3NiwgInR5cGUiOiAidmVydGV4IiwgInByb3BzIjogeyJzaXplIjogMTUuNDMzNTI2MDExNTYwNjk0fX0K');</script>\n",
       "    "
      ],
      "text/plain": [
       "<IPython.core.display.HTML object>"
      ]
     },
     "metadata": {},
     "output_type": "display_data"
    },
    {
     "data": {
      "text/html": [
       "\n",
       "        <div id=\"g4bQUXF6o6G4nsT5JB5KEf\"></div>\n",
       "        <script>netpixi.call('g4bQUXF6o6G4nsT5JB5KEf', 'fVwUfyxuuBDWvZsTkxzZk2', 'changeGraph', 'eyJpZCI6IDE3NywgInR5cGUiOiAidmVydGV4IiwgInByb3BzIjogeyJzaXplIjogMTAuNjM1ODM4MTUwMjg5MDE4fX0K');</script>\n",
       "    "
      ],
      "text/plain": [
       "<IPython.core.display.HTML object>"
      ]
     },
     "metadata": {},
     "output_type": "display_data"
    },
    {
     "data": {
      "text/html": [
       "\n",
       "        <div id=\"SJpSQ3tQX4TsZtujVbYGsa\"></div>\n",
       "        <script>netpixi.call('SJpSQ3tQX4TsZtujVbYGsa', 'fVwUfyxuuBDWvZsTkxzZk2', 'changeGraph', 'eyJpZCI6IDE3OCwgInR5cGUiOiAidmVydGV4IiwgInByb3BzIjogeyJzaXplIjogMTEuOTA3NTE0NDUwODY3MDUxfX0K');</script>\n",
       "    "
      ],
      "text/plain": [
       "<IPython.core.display.HTML object>"
      ]
     },
     "metadata": {},
     "output_type": "display_data"
    },
    {
     "data": {
      "text/html": [
       "\n",
       "        <div id=\"CUHouumVcPexii7LB5KQTT\"></div>\n",
       "        <script>netpixi.call('CUHouumVcPexii7LB5KQTT', 'fVwUfyxuuBDWvZsTkxzZk2', 'changeGraph', 'eyJpZCI6IDE3OSwgInR5cGUiOiAidmVydGV4IiwgInByb3BzIjogeyJzaXplIjogMTAuOTgyNjU4OTU5NTM3NTcyfX0K');</script>\n",
       "    "
      ],
      "text/plain": [
       "<IPython.core.display.HTML object>"
      ]
     },
     "metadata": {},
     "output_type": "display_data"
    },
    {
     "data": {
      "text/html": [
       "\n",
       "        <div id=\"b4fEtzj9SvEDm7M2CRLmsn\"></div>\n",
       "        <script>netpixi.call('b4fEtzj9SvEDm7M2CRLmsn', 'fVwUfyxuuBDWvZsTkxzZk2', 'changeGraph', 'eyJpZCI6IDE4MCwgInR5cGUiOiAidmVydGV4IiwgInByb3BzIjogeyJzaXplIjogMTcuNTcyMjU0MzM1MjYwMTE2fX0K');</script>\n",
       "    "
      ],
      "text/plain": [
       "<IPython.core.display.HTML object>"
      ]
     },
     "metadata": {},
     "output_type": "display_data"
    },
    {
     "data": {
      "text/html": [
       "\n",
       "        <div id=\"LAhoWPYGu5y5YNMZsQxJ2L\"></div>\n",
       "        <script>netpixi.call('LAhoWPYGu5y5YNMZsQxJ2L', 'fVwUfyxuuBDWvZsTkxzZk2', 'changeGraph', 'eyJpZCI6IDE4MSwgInR5cGUiOiAidmVydGV4IiwgInByb3BzIjogeyJzaXplIjogMTkuNjUzMTc5MTkwNzUxNDQ1fX0K');</script>\n",
       "    "
      ],
      "text/plain": [
       "<IPython.core.display.HTML object>"
      ]
     },
     "metadata": {},
     "output_type": "display_data"
    },
    {
     "data": {
      "text/html": [
       "\n",
       "        <div id=\"aHfaf5nqcTdMLZqwvkT9Vy\"></div>\n",
       "        <script>netpixi.call('aHfaf5nqcTdMLZqwvkT9Vy', 'fVwUfyxuuBDWvZsTkxzZk2', 'changeGraph', 'eyJpZCI6IDE4MiwgInR5cGUiOiAidmVydGV4IiwgInByb3BzIjogeyJzaXplIjogMTguNzI4MzIzNjk5NDIxOTY0fX0K');</script>\n",
       "    "
      ],
      "text/plain": [
       "<IPython.core.display.HTML object>"
      ]
     },
     "metadata": {},
     "output_type": "display_data"
    },
    {
     "data": {
      "text/html": [
       "\n",
       "        <div id=\"bswDkpUPeDidXksxLzZUgR\"></div>\n",
       "        <script>netpixi.call('bswDkpUPeDidXksxLzZUgR', 'fVwUfyxuuBDWvZsTkxzZk2', 'changeGraph', 'eyJpZCI6IDE4MywgInR5cGUiOiAidmVydGV4IiwgInByb3BzIjogeyJzaXplIjogNDUuOTA5MDkwOTA5MDkwOTF9fQo=');</script>\n",
       "    "
      ],
      "text/plain": [
       "<IPython.core.display.HTML object>"
      ]
     },
     "metadata": {},
     "output_type": "display_data"
    },
    {
     "data": {
      "text/html": [
       "\n",
       "        <div id=\"eoSFMebhSghCxN2kPMYiyV\"></div>\n",
       "        <script>netpixi.call('eoSFMebhSghCxN2kPMYiyV', 'fVwUfyxuuBDWvZsTkxzZk2', 'changeGraph', 'eyJpZCI6IDE4NCwgInR5cGUiOiAidmVydGV4IiwgInByb3BzIjogeyJzaXplIjogMTQuMzkzMDYzNTgzODE1MDI4fX0K');</script>\n",
       "    "
      ],
      "text/plain": [
       "<IPython.core.display.HTML object>"
      ]
     },
     "metadata": {},
     "output_type": "display_data"
    },
    {
     "data": {
      "text/html": [
       "\n",
       "        <div id=\"B3Mo7v5p6t2rnu8PsSyt5e\"></div>\n",
       "        <script>netpixi.call('B3Mo7v5p6t2rnu8PsSyt5e', 'fVwUfyxuuBDWvZsTkxzZk2', 'changeGraph', 'eyJpZCI6IDE4NSwgInR5cGUiOiAidmVydGV4IiwgInByb3BzIjogeyJzaXplIjogMTUuMjYwMTE1NjA2OTM2NDE3fX0K');</script>\n",
       "    "
      ],
      "text/plain": [
       "<IPython.core.display.HTML object>"
      ]
     },
     "metadata": {},
     "output_type": "display_data"
    },
    {
     "data": {
      "text/html": [
       "\n",
       "        <div id=\"RhJRdxHu5CHwR3nShY4wCM\"></div>\n",
       "        <script>netpixi.call('RhJRdxHu5CHwR3nShY4wCM', 'fVwUfyxuuBDWvZsTkxzZk2', 'changeGraph', 'eyJpZCI6IDE4NiwgInR5cGUiOiAidmVydGV4IiwgInByb3BzIjogeyJzaXplIjogMTEuMjEzODcyODMyMzY5OTQyfX0K');</script>\n",
       "    "
      ],
      "text/plain": [
       "<IPython.core.display.HTML object>"
      ]
     },
     "metadata": {},
     "output_type": "display_data"
    },
    {
     "data": {
      "text/html": [
       "\n",
       "        <div id=\"ZovcAho7saAHNKSoGYbvcQ\"></div>\n",
       "        <script>netpixi.call('ZovcAho7saAHNKSoGYbvcQ', 'fVwUfyxuuBDWvZsTkxzZk2', 'changeGraph', 'eyJpZCI6IDE4NywgInR5cGUiOiAidmVydGV4IiwgInByb3BzIjogeyJzaXplIjogNDkuNTQ1NDU0NTQ1NDU0NTV9fQo=');</script>\n",
       "    "
      ],
      "text/plain": [
       "<IPython.core.display.HTML object>"
      ]
     },
     "metadata": {},
     "output_type": "display_data"
    },
    {
     "data": {
      "text/html": [
       "\n",
       "        <div id=\"iu7XDUmN72CwX4nKtP64iC\"></div>\n",
       "        <script>netpixi.call('iu7XDUmN72CwX4nKtP64iC', 'fVwUfyxuuBDWvZsTkxzZk2', 'changeGraph', 'eyJpZCI6IDE4OCwgInR5cGUiOiAidmVydGV4IiwgInByb3BzIjogeyJzaXplIjogMTIuMDIzMTIxMzg3MjgzMjM2fX0K');</script>\n",
       "    "
      ],
      "text/plain": [
       "<IPython.core.display.HTML object>"
      ]
     },
     "metadata": {},
     "output_type": "display_data"
    },
    {
     "data": {
      "text/html": [
       "\n",
       "        <div id=\"hSyG4YCGUnztrkDmmpViPw\"></div>\n",
       "        <script>netpixi.call('hSyG4YCGUnztrkDmmpViPw', 'fVwUfyxuuBDWvZsTkxzZk2', 'changeGraph', 'eyJpZCI6IDE4OSwgInR5cGUiOiAidmVydGV4IiwgInByb3BzIjogeyJzaXplIjogMTEuMzI5NDc5NzY4Nzg2MTI3fX0K');</script>\n",
       "    "
      ],
      "text/plain": [
       "<IPython.core.display.HTML object>"
      ]
     },
     "metadata": {},
     "output_type": "display_data"
    },
    {
     "data": {
      "text/html": [
       "\n",
       "        <div id=\"nTAji5W9EBoWtSoYGf4vsS\"></div>\n",
       "        <script>netpixi.call('nTAji5W9EBoWtSoYGf4vsS', 'fVwUfyxuuBDWvZsTkxzZk2', 'changeGraph', 'eyJpZCI6IDE5MCwgInR5cGUiOiAidmVydGV4IiwgInByb3BzIjogeyJzaXplIjogMTcuOTE5MDc1MTQ0NTA4Njd9fQo=');</script>\n",
       "    "
      ],
      "text/plain": [
       "<IPython.core.display.HTML object>"
      ]
     },
     "metadata": {},
     "output_type": "display_data"
    },
    {
     "data": {
      "text/html": [
       "\n",
       "        <div id=\"Y4XCeZQzamoi7RVpwkXVTx\"></div>\n",
       "        <script>netpixi.call('Y4XCeZQzamoi7RVpwkXVTx', 'fVwUfyxuuBDWvZsTkxzZk2', 'changeGraph', 'eyJpZCI6IDE5MSwgInR5cGUiOiAidmVydGV4IiwgInByb3BzIjogeyJzaXplIjogMTIuNDI3NzQ1NjY0NzM5ODg0fX0K');</script>\n",
       "    "
      ],
      "text/plain": [
       "<IPython.core.display.HTML object>"
      ]
     },
     "metadata": {},
     "output_type": "display_data"
    },
    {
     "data": {
      "text/html": [
       "\n",
       "        <div id=\"GpQHFyaZVKpSLuJw9wWypp\"></div>\n",
       "        <script>netpixi.call('GpQHFyaZVKpSLuJw9wWypp', 'fVwUfyxuuBDWvZsTkxzZk2', 'changeGraph', 'eyJpZCI6IDE5MiwgInR5cGUiOiAidmVydGV4IiwgInByb3BzIjogeyJzaXplIjogMTcuODAzNDY4MjA4MDkyNDg2fX0K');</script>\n",
       "    "
      ],
      "text/plain": [
       "<IPython.core.display.HTML object>"
      ]
     },
     "metadata": {},
     "output_type": "display_data"
    },
    {
     "data": {
      "text/html": [
       "\n",
       "        <div id=\"QthLtKJAZjf6dSWzFB9KXu\"></div>\n",
       "        <script>netpixi.call('QthLtKJAZjf6dSWzFB9KXu', 'fVwUfyxuuBDWvZsTkxzZk2', 'changeGraph', 'eyJpZCI6IDE5MywgInR5cGUiOiAidmVydGV4IiwgInByb3BzIjogeyJzaXplIjogMTEuNTYwNjkzNjQxNjE4NDk4fX0K');</script>\n",
       "    "
      ],
      "text/plain": [
       "<IPython.core.display.HTML object>"
      ]
     },
     "metadata": {},
     "output_type": "display_data"
    },
    {
     "data": {
      "text/html": [
       "\n",
       "        <div id=\"9xip4jVAFypGaQqqYE3533\"></div>\n",
       "        <script>netpixi.call('9xip4jVAFypGaQqqYE3533', 'fVwUfyxuuBDWvZsTkxzZk2', 'changeGraph', 'eyJpZCI6IDE5NCwgInR5cGUiOiAidmVydGV4IiwgInByb3BzIjogeyJzaXplIjogMTAuNjkzNjQxNjE4NDk3MTA5fX0K');</script>\n",
       "    "
      ],
      "text/plain": [
       "<IPython.core.display.HTML object>"
      ]
     },
     "metadata": {},
     "output_type": "display_data"
    },
    {
     "data": {
      "text/html": [
       "\n",
       "        <div id=\"VtyYJNgbLPFMegmSQQi68A\"></div>\n",
       "        <script>netpixi.call('VtyYJNgbLPFMegmSQQi68A', 'fVwUfyxuuBDWvZsTkxzZk2', 'changeGraph', 'eyJpZCI6IDE5NSwgInR5cGUiOiAidmVydGV4IiwgInByb3BzIjogeyJzaXplIjogNDguNjM2MzYzNjM2MzYzNjR9fQo=');</script>\n",
       "    "
      ],
      "text/plain": [
       "<IPython.core.display.HTML object>"
      ]
     },
     "metadata": {},
     "output_type": "display_data"
    },
    {
     "data": {
      "text/html": [
       "\n",
       "        <div id=\"Va2LNLDHShyWMBn2GgW3PM\"></div>\n",
       "        <script>netpixi.call('Va2LNLDHShyWMBn2GgW3PM', 'fVwUfyxuuBDWvZsTkxzZk2', 'changeGraph', 'eyJpZCI6IDE5NiwgInR5cGUiOiAidmVydGV4IiwgInByb3BzIjogeyJzaXplIjogMTguOTU5NTM3NTcyMjU0MzM0fX0K');</script>\n",
       "    "
      ],
      "text/plain": [
       "<IPython.core.display.HTML object>"
      ]
     },
     "metadata": {},
     "output_type": "display_data"
    },
    {
     "data": {
      "text/html": [
       "\n",
       "        <div id=\"ZCCN8VnZeR6R8R3T9wJZgm\"></div>\n",
       "        <script>netpixi.call('ZCCN8VnZeR6R8R3T9wJZgm', 'fVwUfyxuuBDWvZsTkxzZk2', 'changeGraph', 'eyJpZCI6IDE5NywgInR5cGUiOiAidmVydGV4IiwgInByb3BzIjogeyJzaXplIjogMTAuMzQ2ODIwODA5MjQ4NTU1fX0K');</script>\n",
       "    "
      ],
      "text/plain": [
       "<IPython.core.display.HTML object>"
      ]
     },
     "metadata": {},
     "output_type": "display_data"
    },
    {
     "data": {
      "text/html": [
       "\n",
       "        <div id=\"P3zCMhcRFn8f3xfyf8sGzK\"></div>\n",
       "        <script>netpixi.call('P3zCMhcRFn8f3xfyf8sGzK', 'fVwUfyxuuBDWvZsTkxzZk2', 'changeGraph', 'eyJpZCI6IDE5OCwgInR5cGUiOiAidmVydGV4IiwgInByb3BzIjogeyJzaXplIjogMTkuMTkwNzUxNDQ1MDg2NzA0fX0K');</script>\n",
       "    "
      ],
      "text/plain": [
       "<IPython.core.display.HTML object>"
      ]
     },
     "metadata": {},
     "output_type": "display_data"
    },
    {
     "data": {
      "text/html": [
       "\n",
       "        <div id=\"MEHAJtzyNVioSzMut6y6uR\"></div>\n",
       "        <script>netpixi.call('MEHAJtzyNVioSzMut6y6uR', 'fVwUfyxuuBDWvZsTkxzZk2', 'changeGraph', 'eyJpZCI6IDE5OSwgInR5cGUiOiAidmVydGV4IiwgInByb3BzIjogeyJzaXplIjogMTUuNDkxMzI5NDc5NzY4Nzg3fX0K');</script>\n",
       "    "
      ],
      "text/plain": [
       "<IPython.core.display.HTML object>"
      ]
     },
     "metadata": {},
     "output_type": "display_data"
    },
    {
     "data": {
      "text/html": [
       "\n",
       "        <div id=\"kGLLKpvrmKEYFFhJ8LKh6u\"></div>\n",
       "        <script>netpixi.call('kGLLKpvrmKEYFFhJ8LKh6u', 'fVwUfyxuuBDWvZsTkxzZk2', 'changeGraph', 'eyJpZCI6IDIwMCwgInR5cGUiOiAidmVydGV4IiwgInByb3BzIjogeyJzaXplIjogNDIuMDQ1NDU0NTQ1NDU0NTV9fQo=');</script>\n",
       "    "
      ],
      "text/plain": [
       "<IPython.core.display.HTML object>"
      ]
     },
     "metadata": {},
     "output_type": "display_data"
    },
    {
     "data": {
      "text/html": [
       "\n",
       "        <div id=\"apktrRooAHpvb4fgD5NFcr\"></div>\n",
       "        <script>netpixi.call('apktrRooAHpvb4fgD5NFcr', 'fVwUfyxuuBDWvZsTkxzZk2', 'changeGraph', 'eyJpZCI6IDIwMSwgInR5cGUiOiAidmVydGV4IiwgInByb3BzIjogeyJzaXplIjogMTcuMzk4ODQzOTMwNjM1ODM4fX0K');</script>\n",
       "    "
      ],
      "text/plain": [
       "<IPython.core.display.HTML object>"
      ]
     },
     "metadata": {},
     "output_type": "display_data"
    },
    {
     "data": {
      "text/html": [
       "\n",
       "        <div id=\"kwhS7FF4dwvan5bCagXEWN\"></div>\n",
       "        <script>netpixi.call('kwhS7FF4dwvan5bCagXEWN', 'fVwUfyxuuBDWvZsTkxzZk2', 'changeGraph', 'eyJpZCI6IDIwMiwgInR5cGUiOiAidmVydGV4IiwgInByb3BzIjogeyJzaXplIjogNDQuMzE4MTgxODE4MTgxODF9fQo=');</script>\n",
       "    "
      ],
      "text/plain": [
       "<IPython.core.display.HTML object>"
      ]
     },
     "metadata": {},
     "output_type": "display_data"
    },
    {
     "data": {
      "text/html": [
       "\n",
       "        <div id=\"4FW7UcsMsmDgUeisqxwHFL\"></div>\n",
       "        <script>netpixi.call('4FW7UcsMsmDgUeisqxwHFL', 'fVwUfyxuuBDWvZsTkxzZk2', 'changeGraph', 'eyJpZCI6IDIwMywgInR5cGUiOiAidmVydGV4IiwgInByb3BzIjogeyJzaXplIjogMTguNTU0OTEzMjk0Nzk3Njg2fX0K');</script>\n",
       "    "
      ],
      "text/plain": [
       "<IPython.core.display.HTML object>"
      ]
     },
     "metadata": {},
     "output_type": "display_data"
    },
    {
     "data": {
      "text/html": [
       "\n",
       "        <div id=\"6DWoUNECStjbPAVXx9P8bd\"></div>\n",
       "        <script>netpixi.call('6DWoUNECStjbPAVXx9P8bd', 'fVwUfyxuuBDWvZsTkxzZk2', 'changeGraph', 'eyJpZCI6IDIwNCwgInR5cGUiOiAidmVydGV4IiwgInByb3BzIjogeyJzaXplIjogMTcuMTY3NjMwMDU3ODAzNDY4fX0K');</script>\n",
       "    "
      ],
      "text/plain": [
       "<IPython.core.display.HTML object>"
      ]
     },
     "metadata": {},
     "output_type": "display_data"
    },
    {
     "data": {
      "text/html": [
       "\n",
       "        <div id=\"V8B3wMvZTDuF3X7CJUo8VZ\"></div>\n",
       "        <script>netpixi.call('V8B3wMvZTDuF3X7CJUo8VZ', 'fVwUfyxuuBDWvZsTkxzZk2', 'changeGraph', 'eyJpZCI6IDIwNSwgInR5cGUiOiAidmVydGV4IiwgInByb3BzIjogeyJzaXplIjogMTAuMTE1NjA2OTM2NDE2MTg1fX0K');</script>\n",
       "    "
      ],
      "text/plain": [
       "<IPython.core.display.HTML object>"
      ]
     },
     "metadata": {},
     "output_type": "display_data"
    },
    {
     "data": {
      "text/html": [
       "\n",
       "        <div id=\"agcnFuoNkmQKfCKPwRfZB6\"></div>\n",
       "        <script>netpixi.call('agcnFuoNkmQKfCKPwRfZB6', 'fVwUfyxuuBDWvZsTkxzZk2', 'changeGraph', 'eyJpZCI6IDIwNiwgInR5cGUiOiAidmVydGV4IiwgInByb3BzIjogeyJzaXplIjogMTMuNjQxNjE4NDk3MTA5ODI2fX0K');</script>\n",
       "    "
      ],
      "text/plain": [
       "<IPython.core.display.HTML object>"
      ]
     },
     "metadata": {},
     "output_type": "display_data"
    },
    {
     "data": {
      "text/html": [
       "\n",
       "        <div id=\"9uehzL5Ls24k4L2xxTQbzp\"></div>\n",
       "        <script>netpixi.call('9uehzL5Ls24k4L2xxTQbzp', 'fVwUfyxuuBDWvZsTkxzZk2', 'changeGraph', 'eyJpZCI6IDIwNywgInR5cGUiOiAidmVydGV4IiwgInByb3BzIjogeyJzaXplIjogNDguODYzNjM2MzYzNjM2MzZ9fQo=');</script>\n",
       "    "
      ],
      "text/plain": [
       "<IPython.core.display.HTML object>"
      ]
     },
     "metadata": {},
     "output_type": "display_data"
    },
    {
     "data": {
      "text/html": [
       "\n",
       "        <div id=\"5ySYUbtjRjSoAzuo5FuExa\"></div>\n",
       "        <script>netpixi.call('5ySYUbtjRjSoAzuo5FuExa', 'fVwUfyxuuBDWvZsTkxzZk2', 'changeGraph', 'eyJpZCI6IDIwOCwgInR5cGUiOiAidmVydGV4IiwgInByb3BzIjogeyJzaXplIjogMTMuNTgzODE1MDI4OTAxNzM0fX0K');</script>\n",
       "    "
      ],
      "text/plain": [
       "<IPython.core.display.HTML object>"
      ]
     },
     "metadata": {},
     "output_type": "display_data"
    },
    {
     "data": {
      "text/html": [
       "\n",
       "        <div id=\"UHa6HGzaGgMXVvNk4C54TN\"></div>\n",
       "        <script>netpixi.call('UHa6HGzaGgMXVvNk4C54TN', 'fVwUfyxuuBDWvZsTkxzZk2', 'changeGraph', 'eyJpZCI6IDIwOSwgInR5cGUiOiAidmVydGV4IiwgInByb3BzIjogeyJzaXplIjogMTkuMDc1MTQ0NTA4NjcwNTJ9fQo=');</script>\n",
       "    "
      ],
      "text/plain": [
       "<IPython.core.display.HTML object>"
      ]
     },
     "metadata": {},
     "output_type": "display_data"
    },
    {
     "data": {
      "text/html": [
       "\n",
       "        <div id=\"WkX38hjDbi94ccDByUFgK3\"></div>\n",
       "        <script>netpixi.call('WkX38hjDbi94ccDByUFgK3', 'fVwUfyxuuBDWvZsTkxzZk2', 'changeGraph', 'eyJpZCI6IDIxMCwgInR5cGUiOiAidmVydGV4IiwgInByb3BzIjogeyJzaXplIjogMTEuNjc2MzAwNTc4MDM0NjgzfX0K');</script>\n",
       "    "
      ],
      "text/plain": [
       "<IPython.core.display.HTML object>"
      ]
     },
     "metadata": {},
     "output_type": "display_data"
    },
    {
     "data": {
      "text/html": [
       "\n",
       "        <div id=\"fmCsG6WTtg2DkMcrAJpNpT\"></div>\n",
       "        <script>netpixi.call('fmCsG6WTtg2DkMcrAJpNpT', 'fVwUfyxuuBDWvZsTkxzZk2', 'changeGraph', 'eyJpZCI6IDIxMSwgInR5cGUiOiAidmVydGV4IiwgInByb3BzIjogeyJzaXplIjogMTMuODE1MDI4OTAxNzM0MTA0fX0K');</script>\n",
       "    "
      ],
      "text/plain": [
       "<IPython.core.display.HTML object>"
      ]
     },
     "metadata": {},
     "output_type": "display_data"
    },
    {
     "data": {
      "text/html": [
       "\n",
       "        <div id=\"3J7wDxygLiLCtzw6xihVqb\"></div>\n",
       "        <script>netpixi.call('3J7wDxygLiLCtzw6xihVqb', 'fVwUfyxuuBDWvZsTkxzZk2', 'changeGraph', 'eyJpZCI6IDIxMiwgInR5cGUiOiAidmVydGV4IiwgInByb3BzIjogeyJzaXplIjogMTguMjA4MDkyNDg1NTQ5MTN9fQo=');</script>\n",
       "    "
      ],
      "text/plain": [
       "<IPython.core.display.HTML object>"
      ]
     },
     "metadata": {},
     "output_type": "display_data"
    },
    {
     "data": {
      "text/html": [
       "\n",
       "        <div id=\"graP9NfvGCaAZWHK8thqKc\"></div>\n",
       "        <script>netpixi.call('graP9NfvGCaAZWHK8thqKc', 'fVwUfyxuuBDWvZsTkxzZk2', 'changeGraph', 'eyJpZCI6IDIxMywgInR5cGUiOiAidmVydGV4IiwgInByb3BzIjogeyJzaXplIjogMTguMDM0NjgyMDgwOTI0ODU2fX0K');</script>\n",
       "    "
      ],
      "text/plain": [
       "<IPython.core.display.HTML object>"
      ]
     },
     "metadata": {},
     "output_type": "display_data"
    },
    {
     "data": {
      "text/html": [
       "\n",
       "        <div id=\"4tywnAdxaDGSp2eiqCY48Z\"></div>\n",
       "        <script>netpixi.call('4tywnAdxaDGSp2eiqCY48Z', 'fVwUfyxuuBDWvZsTkxzZk2', 'changeGraph', 'eyJpZCI6IDIxNCwgInR5cGUiOiAidmVydGV4IiwgInByb3BzIjogeyJzaXplIjogMTUuNzIyNTQzMzUyNjAxMTU3fX0K');</script>\n",
       "    "
      ],
      "text/plain": [
       "<IPython.core.display.HTML object>"
      ]
     },
     "metadata": {},
     "output_type": "display_data"
    },
    {
     "data": {
      "text/html": [
       "\n",
       "        <div id=\"g8idfSuDBFVu4Kx3dxhCXU\"></div>\n",
       "        <script>netpixi.call('g8idfSuDBFVu4Kx3dxhCXU', 'fVwUfyxuuBDWvZsTkxzZk2', 'changeGraph', 'eyJpZCI6IDIxNSwgInR5cGUiOiAidmVydGV4IiwgInByb3BzIjogeyJzaXplIjogMTEuMDk4MjY1ODk1OTUzNzU3fX0K');</script>\n",
       "    "
      ],
      "text/plain": [
       "<IPython.core.display.HTML object>"
      ]
     },
     "metadata": {},
     "output_type": "display_data"
    },
    {
     "data": {
      "text/html": [
       "\n",
       "        <div id=\"Jf3j7dsqhaeYSsP7GUb9kj\"></div>\n",
       "        <script>netpixi.call('Jf3j7dsqhaeYSsP7GUb9kj', 'fVwUfyxuuBDWvZsTkxzZk2', 'changeGraph', 'eyJpZCI6IDIxNiwgInR5cGUiOiAidmVydGV4IiwgInByb3BzIjogeyJzaXplIjogMTcuMDUyMDIzMTIxMzg3MjgzfX0K');</script>\n",
       "    "
      ],
      "text/plain": [
       "<IPython.core.display.HTML object>"
      ]
     },
     "metadata": {},
     "output_type": "display_data"
    }
   ],
   "source": [
    "matrix = spectral.adjacency(g)\n",
    "\n",
    "# Além de cpnet.Rombach, há outras\n",
    "# opções de algoritmos contínuos:\n",
    "# cpnet.MINRES\n",
    "# cpnet.Rossa\n",
    "\n",
    "algorithm = cpnet.Rombach()\n",
    "algorithm.detect(matrix)\n",
    "c = algorithm.get_coreness()\n",
    "\n",
    "# Depois do código acima, c é um dicionário\n",
    "# em que as chaves são índices de vértices e\n",
    "# valores são os atribuídos pelo algoritmo.\n",
    "\n",
    "g.add_vp('coreness')\n",
    "for i, coreness in c.items():\n",
    "    v = g.get_vertex_by_index(i)\n",
    "    v['coreness'] = float(coreness)\n",
    "\n",
    "# Vamos usar coreness como referência para\n",
    "# o tamanho dos vértices. Estabelecemos 10\n",
    "# como o menor tamanho possível e 40 como\n",
    "# o maior tamanho possível. Como o coreness\n",
    "# está entre 0 e 1, a conta é bem simples.\n",
    "\n",
    "for v in g.all_vertices():\n",
    "    r.vertex(v['id'], size=(10 + 40 * v['coreness']))\n",
    "\n",
    "# Quando a execução desta célula terminar,\n",
    "# veja como ficou a visualização acima."
   ]
  },
  {
   "cell_type": "code",
   "execution_count": null,
   "metadata": {},
   "outputs": [],
   "source": []
  }
 ],
 "metadata": {
  "kernelspec": {
   "display_name": "Python 3 (ipykernel)",
   "language": "python",
   "name": "python3"
  },
  "language_info": {
   "codemirror_mode": {
    "name": "ipython",
    "version": 3
   },
   "file_extension": ".py",
   "mimetype": "text/x-python",
   "name": "python",
   "nbconvert_exporter": "python",
   "pygments_lexer": "ipython3",
   "version": "3.10.10"
  }
 },
 "nbformat": 4,
 "nbformat_minor": 4
}
