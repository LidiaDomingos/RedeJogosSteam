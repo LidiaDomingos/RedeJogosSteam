{
 "cells": [
  {
   "cell_type": "markdown",
   "metadata": {},
   "source": [
    "\n",
    "## Projeto | Construido uma rede com jogos da Steam 🎮️\n",
    "\n",
    "    \n",
    "---------------------\n",
    "\n",
    "**Equipe**\n",
    "\n",
    "\n",
    " * Letícia Coêlho Barbosa       | [Github](https://github.com/leticiacb1)\n",
    " <br>\n",
    "\n",
    " * Lídia Alves Chagas Domingos  | [Github](https://github.com/LidiaDomingos)\n",
    " <br>\n",
    "\n",
    " * Lorran Caetano Lopes         | [Github](https://github.com/lorrancmlopes)\n",
    " <br>\n",
    " \n",
    " ---------------------\n",
    "\n",
    "* **Dataset escolhido** : [Jogos da Steam](https://www.kaggle.com/datasets/fronkongames/steam-games-dataset)"
   ]
  },
  {
   "cell_type": "markdown",
   "metadata": {},
   "source": [
    "### O DATASET\n",
    "\n",
    "-------\n",
    "\n",
    "O contexto do projeto engloba os jogos famosos para computadores disponíveis na Steam. Atualmente, a plataforma Steam possui aproximadamente 95 milhões de usuários no mundo todo e é sucesso entre os gamers, sendo a atual líder do mercado. \n",
    "\n",
    "\n",
    "#### Principais colunas\n",
    "<br>\n",
    "\n",
    "O dataset escolhido possui 39 colunas, nesse tópico citaremos a descrições de algumas colunas de maior interesse para analise.\n",
    "\n",
    "* **name** : nome do jogo.\n",
    "<br>\n",
    "\n",
    "* **releaseDate** : data de lançamento.\n",
    "<br>\n",
    "\n",
    "* **price** : preço do jogo.\n",
    "<br>\n",
    "\n",
    "* **metacritic_score** : media das notas dadas por avaliações de profissionais.\n",
    "<br>\n",
    "\n",
    "* **user_score** : media das notas dadas pelos usuários do jogo.\n",
    "<br>\n",
    "\n",
    "* **score_rank** : o ranke do jogo baseado nas avaliações dos usuários.\n",
    "<br>\n",
    "\n",
    "* **developers** : desenvolvedores dos jogos.\n",
    "<br>\n",
    "\n",
    "* **categories** : categoria dos jogos.\n",
    "<br>\n",
    "\n",
    "* **genres** : genero do jogo.\n",
    "<br>\n",
    "\n",
    "* **tags** : Tags do jogo.\n",
    "<br>\n",
    "\n",
    " \n",
    " ### NOSSA REDE\n",
    "\n",
    "-------\n",
    "\n",
    "* **Vértices** : Jogos da Steam.\n",
    "<br>\n",
    "\n",
    "* **Arestas**  : Existe uma aresta entre um jogo 1 e um jogo 2 se o número de tags em comum entre os jogos for superior ou igual a um **threadhold** (definido mais a frente)\n",
    "\n",
    "\n",
    " ### HIPOTESE\n",
    "\n",
    "-------\n",
    "\n",
    "\n",
    "`\"Quanto mais central é a sua posição na rede, maior a média de avaliações dos críticos profissionais.\"`\n",
    "<br>\n",
    "\n",
    "* **Variável de controle**: Tamanho da empresa.\n",
    "<br>\n",
    "\n",
    "* **Variável dependente**:  medida indicativa de centralidade do nó na rede (coreness).\n",
    "<br>\n",
    "\n",
    "* **Variável independente**: dataset[Metacritic score]"
   ]
  },
  {
   "cell_type": "markdown",
   "metadata": {},
   "source": [
    "### Analisando os dados \n",
    "\n",
    "-------"
   ]
  },
  {
   "cell_type": "code",
   "execution_count": 1,
   "metadata": {},
   "outputs": [
    {
     "data": {
      "text/html": [
       "\n",
       "    <script src=\"/files/netpixi.min.js\"></script>\n"
      ],
      "text/plain": [
       "<IPython.core.display.HTML object>"
      ]
     },
     "metadata": {},
     "output_type": "display_data"
    },
    {
     "name": "stderr",
     "output_type": "stream",
     "text": [
      "<frozen importlib._bootstrap>:914: ImportWarning: VendorImporter.find_spec() not found; falling back to find_module()\n"
     ]
    }
   ],
   "source": [
    "# ---------------------------------\n",
    "# ------------ IMPORTS ------------\n",
    "# ---------------------------------\n",
    "\n",
    "import seaborn as sns\n",
    "from netpixi.integration.gt import *\n",
    "from regression.integration.gt import *\n",
    "import netpixi\n",
    "import pandas as pd\n",
    "\n",
    "import numpy as np\n",
    "import seaborn as sns\n",
    "import regression as reg\n",
    "\n",
    "from scipy import stats\n",
    "from matplotlib import pyplot as plt\n",
    "\n",
    "import cpnet\n",
    "from graph_tool import spectral"
   ]
  },
  {
   "cell_type": "code",
   "execution_count": 2,
   "metadata": {},
   "outputs": [],
   "source": [
    "# Grafo não direcional | Informação obtida via documentação\n",
    "g = Graph(directed=False) "
   ]
  },
  {
   "cell_type": "code",
   "execution_count": 3,
   "metadata": {
    "scrolled": false
   },
   "outputs": [
    {
     "name": "stdout",
     "output_type": "stream",
     "text": [
      "\n",
      "> Colunas : ['AppID', 'Name', 'Release date', 'Estimated owners', 'Peak CCU', 'Required age', 'Price', 'DLC count', 'About the game', 'Supported languages', 'Full audio languages', 'Reviews', 'Header image', 'Website', 'Support url', 'Support email', 'Windows', 'Mac', 'Linux', 'Metacritic score', 'Metacritic url', 'User score', 'Positive', 'Negative', 'Score rank', 'Achievements', 'Recommendations', 'Notes', 'Average playtime forever', 'Average playtime two weeks', 'Median playtime forever', 'Median playtime two weeks', 'Developers', 'Publishers', 'Categories', 'Genres', 'Tags', 'Screenshots', 'Movies']\n",
      "\n",
      "\n",
      "> Tamanho do dataset : (71716, 39)\n",
      "\n",
      "\n",
      "> Primeiras linhas dataset : \n",
      "\n"
     ]
    },
    {
     "data": {
      "text/html": [
       "<div>\n",
       "<style scoped>\n",
       "    .dataframe tbody tr th:only-of-type {\n",
       "        vertical-align: middle;\n",
       "    }\n",
       "\n",
       "    .dataframe tbody tr th {\n",
       "        vertical-align: top;\n",
       "    }\n",
       "\n",
       "    .dataframe thead th {\n",
       "        text-align: right;\n",
       "    }\n",
       "</style>\n",
       "<table border=\"1\" class=\"dataframe\">\n",
       "  <thead>\n",
       "    <tr style=\"text-align: right;\">\n",
       "      <th></th>\n",
       "      <th>AppID</th>\n",
       "      <th>Name</th>\n",
       "      <th>Release date</th>\n",
       "      <th>Estimated owners</th>\n",
       "      <th>Peak CCU</th>\n",
       "      <th>Required age</th>\n",
       "      <th>Price</th>\n",
       "      <th>DLC count</th>\n",
       "      <th>About the game</th>\n",
       "      <th>Supported languages</th>\n",
       "      <th>...</th>\n",
       "      <th>Average playtime two weeks</th>\n",
       "      <th>Median playtime forever</th>\n",
       "      <th>Median playtime two weeks</th>\n",
       "      <th>Developers</th>\n",
       "      <th>Publishers</th>\n",
       "      <th>Categories</th>\n",
       "      <th>Genres</th>\n",
       "      <th>Tags</th>\n",
       "      <th>Screenshots</th>\n",
       "      <th>Movies</th>\n",
       "    </tr>\n",
       "  </thead>\n",
       "  <tbody>\n",
       "    <tr>\n",
       "      <th>0</th>\n",
       "      <td>20200</td>\n",
       "      <td>Galactic Bowling</td>\n",
       "      <td>Oct 21, 2008</td>\n",
       "      <td>0 - 20000</td>\n",
       "      <td>0</td>\n",
       "      <td>0</td>\n",
       "      <td>19.99</td>\n",
       "      <td>0</td>\n",
       "      <td>Galactic Bowling is an exaggerated and stylize...</td>\n",
       "      <td>['English']</td>\n",
       "      <td>...</td>\n",
       "      <td>0</td>\n",
       "      <td>0</td>\n",
       "      <td>0</td>\n",
       "      <td>Perpetual FX Creative</td>\n",
       "      <td>Perpetual FX Creative</td>\n",
       "      <td>Single-player,Multi-player,Steam Achievements,...</td>\n",
       "      <td>Casual,Indie,Sports</td>\n",
       "      <td>Indie,Casual,Sports,Bowling</td>\n",
       "      <td>https://cdn.akamai.steamstatic.com/steam/apps/...</td>\n",
       "      <td>http://cdn.akamai.steamstatic.com/steam/apps/2...</td>\n",
       "    </tr>\n",
       "    <tr>\n",
       "      <th>1</th>\n",
       "      <td>655370</td>\n",
       "      <td>Train Bandit</td>\n",
       "      <td>Oct 12, 2017</td>\n",
       "      <td>0 - 20000</td>\n",
       "      <td>0</td>\n",
       "      <td>0</td>\n",
       "      <td>0.99</td>\n",
       "      <td>0</td>\n",
       "      <td>THE LAW!! Looks to be a showdown atop a train....</td>\n",
       "      <td>['English', 'French', 'Italian', 'German', 'Sp...</td>\n",
       "      <td>...</td>\n",
       "      <td>0</td>\n",
       "      <td>0</td>\n",
       "      <td>0</td>\n",
       "      <td>Rusty Moyher</td>\n",
       "      <td>Wild Rooster</td>\n",
       "      <td>Single-player,Steam Achievements,Full controll...</td>\n",
       "      <td>Action,Indie</td>\n",
       "      <td>Indie,Action,Pixel Graphics,2D,Retro,Arcade,Sc...</td>\n",
       "      <td>https://cdn.akamai.steamstatic.com/steam/apps/...</td>\n",
       "      <td>http://cdn.akamai.steamstatic.com/steam/apps/2...</td>\n",
       "    </tr>\n",
       "  </tbody>\n",
       "</table>\n",
       "<p>2 rows × 39 columns</p>\n",
       "</div>"
      ],
      "text/plain": [
       "    AppID              Name  Release date Estimated owners  Peak CCU  \\\n",
       "0   20200  Galactic Bowling  Oct 21, 2008        0 - 20000         0   \n",
       "1  655370      Train Bandit  Oct 12, 2017        0 - 20000         0   \n",
       "\n",
       "   Required age  Price  DLC count  \\\n",
       "0             0  19.99          0   \n",
       "1             0   0.99          0   \n",
       "\n",
       "                                      About the game  \\\n",
       "0  Galactic Bowling is an exaggerated and stylize...   \n",
       "1  THE LAW!! Looks to be a showdown atop a train....   \n",
       "\n",
       "                                 Supported languages  ...  \\\n",
       "0                                        ['English']  ...   \n",
       "1  ['English', 'French', 'Italian', 'German', 'Sp...  ...   \n",
       "\n",
       "  Average playtime two weeks Median playtime forever  \\\n",
       "0                          0                       0   \n",
       "1                          0                       0   \n",
       "\n",
       "  Median playtime two weeks             Developers             Publishers  \\\n",
       "0                         0  Perpetual FX Creative  Perpetual FX Creative   \n",
       "1                         0           Rusty Moyher           Wild Rooster   \n",
       "\n",
       "                                          Categories               Genres  \\\n",
       "0  Single-player,Multi-player,Steam Achievements,...  Casual,Indie,Sports   \n",
       "1  Single-player,Steam Achievements,Full controll...         Action,Indie   \n",
       "\n",
       "                                                Tags  \\\n",
       "0                        Indie,Casual,Sports,Bowling   \n",
       "1  Indie,Action,Pixel Graphics,2D,Retro,Arcade,Sc...   \n",
       "\n",
       "                                         Screenshots  \\\n",
       "0  https://cdn.akamai.steamstatic.com/steam/apps/...   \n",
       "1  https://cdn.akamai.steamstatic.com/steam/apps/...   \n",
       "\n",
       "                                              Movies  \n",
       "0  http://cdn.akamai.steamstatic.com/steam/apps/2...  \n",
       "1  http://cdn.akamai.steamstatic.com/steam/apps/2...  \n",
       "\n",
       "[2 rows x 39 columns]"
      ]
     },
     "execution_count": 3,
     "metadata": {},
     "output_type": "execute_result"
    }
   ],
   "source": [
    "# ----  Lendo o arquivo ----\n",
    "\n",
    "df_principal = pd.read_csv('games.csv')\n",
    "\n",
    "columns = [col for col in df_principal.columns]\n",
    "\n",
    "print(f\"\\n> Colunas : {columns}\\n\")\n",
    "\n",
    "print(f\"\\n> Tamanho do dataset : {df_principal.shape}\\n\")\n",
    "\n",
    "print(f\"\\n> Primeiras linhas dataset : \\n\")\n",
    "df_principal.head(2)"
   ]
  },
  {
   "cell_type": "markdown",
   "metadata": {},
   "source": [
    "\n",
    "\n",
    "#### Descrevendo melhor a coluna Metacritic score"
   ]
  },
  {
   "cell_type": "code",
   "execution_count": 4,
   "metadata": {},
   "outputs": [
    {
     "name": "stdout",
     "output_type": "stream",
     "text": [
      "\n",
      "> Valores únicos presentes:\n",
      "\n",
      " [ 0 62 64 53 84 89 70 86 40 87 92 76 51 49 81 69 72 68 52 82 59 77 79 71\n",
      " 74 73 88 47 75 66 50 63 67 80 58 90 39 78 55 85 65 91 83 57 56 44 60 61\n",
      " 48 46 23 45 94 27 38 30 35 54 41 43 32 34 93 37 36 95 42 29 24 96 20 33\n",
      " 97]\n",
      "\n",
      "\n",
      "> Distribuição dos valores :\n",
      "\n",
      " 0     67938\n",
      "80      183\n",
      "77      165\n",
      "76      164\n",
      "78      161\n",
      "      ...  \n",
      "23        1\n",
      "27        1\n",
      "24        1\n",
      "20        1\n",
      "33        1\n",
      "Name: Metacritic score, Length: 73, dtype: int64\n",
      "\n",
      "\n",
      "> Descrição:\n",
      "\n",
      "count    71716.000000\n",
      "mean         3.834207\n",
      "std         16.437707\n",
      "min          0.000000\n",
      "25%          0.000000\n",
      "50%          0.000000\n",
      "75%          0.000000\n",
      "max         97.000000\n",
      "Name: Metacritic score, dtype: float64\n",
      "\n"
     ]
    }
   ],
   "source": [
    "print(f\"\\n> Valores únicos presentes:\\n\\n {df_principal['Metacritic score'].unique()}\\n\")\n",
    "\n",
    "print(f\"\\n> Distribuição dos valores :\\n\\n {df_principal['Metacritic score'].value_counts()}\\n\")\n",
    "\n",
    "print(f\"\\n> Descrição:\\n\\n{df_principal['Metacritic score'].describe()}\\n\")"
   ]
  },
  {
   "cell_type": "markdown",
   "metadata": {},
   "source": [
    "### Limpando Dataset\n",
    "\n",
    "-------"
   ]
  },
  {
   "cell_type": "code",
   "execution_count": 5,
   "metadata": {},
   "outputs": [
    {
     "name": "stdout",
     "output_type": "stream",
     "text": [
      "\n",
      "> Tamanho do dataset pós limpeza:\n",
      " (586, 39)\n",
      "\n",
      "\n",
      "> Descrição coluna Metacritic score:\n",
      "\n",
      " count    586.000000\n",
      "mean      75.583618\n",
      "std        8.610509\n",
      "min       39.000000\n",
      "25%       71.000000\n",
      "50%       77.000000\n",
      "75%       81.000000\n",
      "max       97.000000\n",
      "Name: Metacritic score, dtype: float64\n",
      "\n"
     ]
    }
   ],
   "source": [
    "\n",
    "# ---- Retirando alguns valores nulos ----\n",
    "\n",
    "df_principal.dropna(subset=['Tags', 'Metacritic score'], inplace=True)\n",
    "df_principal = df_principal[df_principal['Metacritic score'] != 0]\n",
    "\n",
    "\n",
    "# ---- Amostragem para anos > 2019 e < 2023 ----\n",
    "\n",
    "df_principal = df_principal[ df_principal[\"Release date\"].map(lambda date: \n",
    "                                                              ((int(date.split(' ')[-1]) > 2019) and \n",
    "                                                               int(date.split(' ')[-1]) < 2023))== True]\n",
    "df_principal.reset_index(inplace=True, drop=True)\n",
    "\n",
    "\n",
    "# ---- \n",
    "\n",
    "print(f\"\\n> Tamanho do dataset pós limpeza:\\n {df_principal.shape}\\n\")\n",
    "\n",
    "print(f\"\\n> Descrição coluna Metacritic score:\\n\\n {df_principal['Metacritic score'].describe()}\\n\")"
   ]
  },
  {
   "cell_type": "markdown",
   "metadata": {},
   "source": [
    "### Tags\n",
    "\n",
    "-------"
   ]
  },
  {
   "cell_type": "code",
   "execution_count": 6,
   "metadata": {},
   "outputs": [
    {
     "name": "stdout",
     "output_type": "stream",
     "text": [
      "\n",
      "> dataset[Tags] como lista:\n",
      "\n",
      "0      [Rhythm, VR, Multiplayer, Music, Racing, PvP, ...\n",
      "1      [Sports, Racing, Simulation, Motocross, Motorb...\n",
      "2      [Tactical, Turn-Based Strategy, Grand Strategy...\n",
      "3      [Management, Simulation, Anime, Sexual Content...\n",
      "4      [Action, Arcade, Shooter, Steampunk, Singlepla...\n",
      "                             ...                        \n",
      "581    [Strategy, Post-apocalyptic, Survival, Colony ...\n",
      "582    [Atmospheric, Resource Management, Simulation,...\n",
      "583    [Metroidvania, Female Protagonist, Shoot 'Em U...\n",
      "584    [Colony Sim, Indie, Pixel Graphics, Simulation...\n",
      "585    [Indie, Rhythm, Action, Hand-drawn, Colorful, ...\n",
      "Name: Tags, Length: 586, dtype: object\n"
     ]
    }
   ],
   "source": [
    "\n",
    "# ---- Tranforma a coluna de Tags em lista ----\n",
    "\n",
    "df_principal['Tags'] = df_principal.Tags.apply(lambda x: str(x).split(','))\n",
    "print(f\"\\n> dataset[Tags] como lista:\\n\\n{df_principal['Tags']}\")\n"
   ]
  },
  {
   "cell_type": "markdown",
   "metadata": {},
   "source": [
    "### Montando os Nós da Rede\n",
    "\n",
    "-------"
   ]
  },
  {
   "cell_type": "code",
   "execution_count": 7,
   "metadata": {},
   "outputs": [
    {
     "data": {
      "text/html": [
       "<div>\n",
       "<style scoped>\n",
       "    .dataframe tbody tr th:only-of-type {\n",
       "        vertical-align: middle;\n",
       "    }\n",
       "\n",
       "    .dataframe tbody tr th {\n",
       "        vertical-align: top;\n",
       "    }\n",
       "\n",
       "    .dataframe thead th {\n",
       "        text-align: right;\n",
       "    }\n",
       "</style>\n",
       "<table border=\"1\" class=\"dataframe\">\n",
       "  <thead>\n",
       "    <tr style=\"text-align: right;\">\n",
       "      <th></th>\n",
       "      <th>id</th>\n",
       "      <th>Tags</th>\n",
       "      <th>Metacritic score</th>\n",
       "    </tr>\n",
       "  </thead>\n",
       "  <tbody>\n",
       "    <tr>\n",
       "      <th>0</th>\n",
       "      <td>0</td>\n",
       "      <td>[Rhythm, VR, Multiplayer, Music, Racing, PvP, ...</td>\n",
       "      <td>87</td>\n",
       "    </tr>\n",
       "    <tr>\n",
       "      <th>1</th>\n",
       "      <td>1</td>\n",
       "      <td>[Sports, Racing, Simulation, Motocross, Motorb...</td>\n",
       "      <td>72</td>\n",
       "    </tr>\n",
       "    <tr>\n",
       "      <th>2</th>\n",
       "      <td>2</td>\n",
       "      <td>[Tactical, Turn-Based Strategy, Grand Strategy...</td>\n",
       "      <td>74</td>\n",
       "    </tr>\n",
       "    <tr>\n",
       "      <th>3</th>\n",
       "      <td>3</td>\n",
       "      <td>[Management, Simulation, Anime, Sexual Content...</td>\n",
       "      <td>73</td>\n",
       "    </tr>\n",
       "    <tr>\n",
       "      <th>4</th>\n",
       "      <td>4</td>\n",
       "      <td>[Action, Arcade, Shooter, Steampunk, Singlepla...</td>\n",
       "      <td>70</td>\n",
       "    </tr>\n",
       "    <tr>\n",
       "      <th>...</th>\n",
       "      <td>...</td>\n",
       "      <td>...</td>\n",
       "      <td>...</td>\n",
       "    </tr>\n",
       "    <tr>\n",
       "      <th>581</th>\n",
       "      <td>581</td>\n",
       "      <td>[Strategy, Post-apocalyptic, Survival, Colony ...</td>\n",
       "      <td>76</td>\n",
       "    </tr>\n",
       "    <tr>\n",
       "      <th>582</th>\n",
       "      <td>582</td>\n",
       "      <td>[Atmospheric, Resource Management, Simulation,...</td>\n",
       "      <td>78</td>\n",
       "    </tr>\n",
       "    <tr>\n",
       "      <th>583</th>\n",
       "      <td>583</td>\n",
       "      <td>[Metroidvania, Female Protagonist, Shoot 'Em U...</td>\n",
       "      <td>82</td>\n",
       "    </tr>\n",
       "    <tr>\n",
       "      <th>584</th>\n",
       "      <td>584</td>\n",
       "      <td>[Colony Sim, Indie, Pixel Graphics, Simulation...</td>\n",
       "      <td>93</td>\n",
       "    </tr>\n",
       "    <tr>\n",
       "      <th>585</th>\n",
       "      <td>585</td>\n",
       "      <td>[Indie, Rhythm, Action, Hand-drawn, Colorful, ...</td>\n",
       "      <td>81</td>\n",
       "    </tr>\n",
       "  </tbody>\n",
       "</table>\n",
       "<p>586 rows × 3 columns</p>\n",
       "</div>"
      ],
      "text/plain": [
       "      id                                               Tags  Metacritic score\n",
       "0      0  [Rhythm, VR, Multiplayer, Music, Racing, PvP, ...                87\n",
       "1      1  [Sports, Racing, Simulation, Motocross, Motorb...                72\n",
       "2      2  [Tactical, Turn-Based Strategy, Grand Strategy...                74\n",
       "3      3  [Management, Simulation, Anime, Sexual Content...                73\n",
       "4      4  [Action, Arcade, Shooter, Steampunk, Singlepla...                70\n",
       "..   ...                                                ...               ...\n",
       "581  581  [Strategy, Post-apocalyptic, Survival, Colony ...                76\n",
       "582  582  [Atmospheric, Resource Management, Simulation,...                78\n",
       "583  583  [Metroidvania, Female Protagonist, Shoot 'Em U...                82\n",
       "584  584  [Colony Sim, Indie, Pixel Graphics, Simulation...                93\n",
       "585  585  [Indie, Rhythm, Action, Hand-drawn, Colorful, ...                81\n",
       "\n",
       "[586 rows x 3 columns]"
      ]
     },
     "execution_count": 7,
     "metadata": {},
     "output_type": "execute_result"
    }
   ],
   "source": [
    "id = 0\n",
    "unique_name_values = df_principal['Name'].unique().tolist()\n",
    "node_data = []\n",
    "\n",
    "for _ , linha in  df_principal.iterrows():\n",
    "    \n",
    "    if(linha['Name'] in unique_name_values):\n",
    "        node_data.append([id ,linha['Tags'], linha['Metacritic score']])\n",
    "        id+=1\n",
    "\n",
    "df_nodes = pd.DataFrame(node_data,columns=['id','Tags', 'Metacritic score']) \n",
    "df_nodes"
   ]
  },
  {
   "cell_type": "code",
   "execution_count": 8,
   "metadata": {},
   "outputs": [],
   "source": [
    "# ---- Criando os nós e adiciona atributos aos nós ----\n",
    "\n",
    "g.add_vp('Metacritic score')\n",
    "\n",
    "aux = []\n",
    "for _, infos in df_nodes.iterrows():\n",
    "    \n",
    "    #Adiciona vértices:\n",
    "    infos = infos.astype(object)\n",
    "    g.add_vertex(infos['id'])\n",
    "    \n",
    "    # Adiciona atributos:\n",
    "    vertice = g.get_vertex(infos['id'])\n",
    "    vertice['Metacritic score'] = infos['Metacritic score']"
   ]
  },
  {
   "cell_type": "markdown",
   "metadata": {},
   "source": [
    "### Montando as Arestas da Rede\n",
    "\n",
    "-------"
   ]
  },
  {
   "cell_type": "code",
   "execution_count": 9,
   "metadata": {},
   "outputs": [],
   "source": [
    "def count_tags(lista_tags_1, lista_tags_2):\n",
    "    '''\n",
    "    Retorna o número de tags em comum entre duas listas\n",
    "    '''    \n",
    "    count_common_tags = 0\n",
    "        \n",
    "    for tag1 in lista_tags_1:\n",
    "        for tag2 in lista_tags_2:\n",
    "            \n",
    "            if(tag1 == tag2):\n",
    "                count_common_tags+=1\n",
    "    \n",
    "    return count_common_tags"
   ]
  },
  {
   "cell_type": "code",
   "execution_count": 10,
   "metadata": {},
   "outputs": [
    {
     "data": {
      "text/html": [
       "<div>\n",
       "<style scoped>\n",
       "    .dataframe tbody tr th:only-of-type {\n",
       "        vertical-align: middle;\n",
       "    }\n",
       "\n",
       "    .dataframe tbody tr th {\n",
       "        vertical-align: top;\n",
       "    }\n",
       "\n",
       "    .dataframe thead th {\n",
       "        text-align: right;\n",
       "    }\n",
       "</style>\n",
       "<table border=\"1\" class=\"dataframe\">\n",
       "  <thead>\n",
       "    <tr style=\"text-align: right;\">\n",
       "      <th></th>\n",
       "      <th>node_1</th>\n",
       "      <th>node_2</th>\n",
       "      <th>Tags_em_Comum</th>\n",
       "    </tr>\n",
       "  </thead>\n",
       "  <tbody>\n",
       "    <tr>\n",
       "      <th>0</th>\n",
       "      <td>248</td>\n",
       "      <td>262</td>\n",
       "      <td>2</td>\n",
       "    </tr>\n",
       "    <tr>\n",
       "      <th>1</th>\n",
       "      <td>131</td>\n",
       "      <td>169</td>\n",
       "      <td>1</td>\n",
       "    </tr>\n",
       "    <tr>\n",
       "      <th>2</th>\n",
       "      <td>151</td>\n",
       "      <td>369</td>\n",
       "      <td>3</td>\n",
       "    </tr>\n",
       "    <tr>\n",
       "      <th>3</th>\n",
       "      <td>497</td>\n",
       "      <td>552</td>\n",
       "      <td>2</td>\n",
       "    </tr>\n",
       "    <tr>\n",
       "      <th>4</th>\n",
       "      <td>139</td>\n",
       "      <td>222</td>\n",
       "      <td>2</td>\n",
       "    </tr>\n",
       "    <tr>\n",
       "      <th>...</th>\n",
       "      <td>...</td>\n",
       "      <td>...</td>\n",
       "      <td>...</td>\n",
       "    </tr>\n",
       "    <tr>\n",
       "      <th>171400</th>\n",
       "      <td>84</td>\n",
       "      <td>86</td>\n",
       "      <td>8</td>\n",
       "    </tr>\n",
       "    <tr>\n",
       "      <th>171401</th>\n",
       "      <td>205</td>\n",
       "      <td>453</td>\n",
       "      <td>4</td>\n",
       "    </tr>\n",
       "    <tr>\n",
       "      <th>171402</th>\n",
       "      <td>205</td>\n",
       "      <td>494</td>\n",
       "      <td>5</td>\n",
       "    </tr>\n",
       "    <tr>\n",
       "      <th>171403</th>\n",
       "      <td>104</td>\n",
       "      <td>187</td>\n",
       "      <td>4</td>\n",
       "    </tr>\n",
       "    <tr>\n",
       "      <th>171404</th>\n",
       "      <td>354</td>\n",
       "      <td>569</td>\n",
       "      <td>1</td>\n",
       "    </tr>\n",
       "  </tbody>\n",
       "</table>\n",
       "<p>171405 rows × 3 columns</p>\n",
       "</div>"
      ],
      "text/plain": [
       "        node_1  node_2  Tags_em_Comum\n",
       "0          248     262              2\n",
       "1          131     169              1\n",
       "2          151     369              3\n",
       "3          497     552              2\n",
       "4          139     222              2\n",
       "...        ...     ...            ...\n",
       "171400      84      86              8\n",
       "171401     205     453              4\n",
       "171402     205     494              5\n",
       "171403     104     187              4\n",
       "171404     354     569              1\n",
       "\n",
       "[171405 rows x 3 columns]"
      ]
     },
     "execution_count": 10,
     "metadata": {},
     "output_type": "execute_result"
    }
   ],
   "source": [
    "node_relation = set()\n",
    "data_relation = set()\n",
    "\n",
    "for _, linha1 in df_nodes.iterrows():\n",
    "    for _,linha2 in df_nodes.iterrows():\n",
    "        \n",
    "        proximidade = 0\n",
    "        \n",
    "        if(( (linha1['id'] , linha2['id']) not in node_relation) and \n",
    "           ( (linha2['id'] , linha1['id']) not in node_relation) and (linha2['id'] != linha1['id'])):\n",
    "            \n",
    "            # Calculando TAGS em comum\n",
    "            proximidade = count_tags(linha1['Tags'], linha2['Tags'])\n",
    "            \n",
    "            # Adiciona valor na relação de nós:\n",
    "            node_relation.add((linha1['id'] , linha2['id']))\n",
    "        \n",
    "            data_relation.add((linha1['id'], linha2['id'], proximidade))\n",
    "            \n",
    "df_relation = pd.DataFrame(data_relation,columns=['node_1', 'node_2' , 'Tags_em_Comum'] ) \n",
    "df_relation"
   ]
  },
  {
   "cell_type": "markdown",
   "metadata": {},
   "source": [
    "#### Threadhold para a construção das Arestas"
   ]
  },
  {
   "cell_type": "code",
   "execution_count": 11,
   "metadata": {},
   "outputs": [
    {
     "data": {
      "text/plain": [
       "<AxesSubplot: >"
      ]
     },
     "execution_count": 11,
     "metadata": {},
     "output_type": "execute_result"
    },
    {
     "data": {
      "image/png": "[encoded data removed]",
      "text/plain": [
       "<Figure size 640x480 with 1 Axes>"
      ]
     },
     "metadata": {},
     "output_type": "display_data"
    }
   ],
   "source": [
    "df_relation['Tags_em_Comum'][df_relation['Tags_em_Comum'] != 0].value_counts().plot(kind='bar')"
   ]
  },
  {
   "cell_type": "code",
   "execution_count": 12,
   "metadata": {},
   "outputs": [],
   "source": [
    "# ---- Escolhendo threshold par aa criação das arestas a depender da distribuição ----\n",
    "\n",
    "threshold_proximidade = 5"
   ]
  },
  {
   "cell_type": "code",
   "execution_count": 13,
   "metadata": {},
   "outputs": [],
   "source": [
    "# ---- Criando arestas ----\n",
    "\n",
    "for _ , relacao in df_relation.iterrows():\n",
    "    \n",
    "    if(relacao['Tags_em_Comum'] > threshold_proximidade):\n",
    "        g.add_edge(relacao['node_1'], relacao['node_2'])"
   ]
  },
  {
   "cell_type": "markdown",
   "metadata": {},
   "source": [
    "### Métricas da Rede\n",
    "\n",
    "-------"
   ]
  },
  {
   "cell_type": "code",
   "execution_count": 14,
   "metadata": {},
   "outputs": [
    {
     "name": "stdout",
     "output_type": "stream",
     "text": [
      "\n",
      " > Número de vértices de g: 586\n",
      "\n",
      " > Número de arestas de g: 33821\n",
      "\n",
      " > Densidade: 0.1973162976575946\n"
     ]
    }
   ],
   "source": [
    "# ---- Número de arestas, nós e densidade ----\n",
    "\n",
    "n = g.num_vertices()\n",
    "m = g.num_edges()\n",
    "\n",
    "if g.is_directed():\n",
    "    max_edges = n * (n - 1)\n",
    "else:\n",
    "    max_edges = n * (n - 1) // 2\n",
    "d = m / max_edges\n",
    "\n",
    "print('\\n > Número de vértices de g:', n )\n",
    "print('\\n > Número de arestas de g:', m)\n",
    "print('\\n > Densidade:', d)"
   ]
  },
  {
   "cell_type": "markdown",
   "metadata": {},
   "source": [
    "### Calculando Degree\n",
    "\n",
    "-------"
   ]
  },
  {
   "cell_type": "code",
   "execution_count": 15,
   "metadata": {},
   "outputs": [
    {
     "data": {
      "text/plain": [
       "count    586.000000\n",
       "mean     115.430034\n",
       "std       69.678746\n",
       "min        0.000000\n",
       "25%       57.000000\n",
       "50%      104.500000\n",
       "75%      169.000000\n",
       "max      302.000000\n",
       "Name: degree, dtype: float64"
      ]
     },
     "execution_count": 15,
     "metadata": {},
     "output_type": "execute_result"
    }
   ],
   "source": [
    "# Propriedade dos vértices\n",
    "data = gt_data(g)\n",
    "\n",
    "# Calculando degrees\n",
    "in_degrees = []\n",
    "out_degrees = []\n",
    "degrees = []\n",
    "\n",
    "for v in g.all_vertices():\n",
    "    in_degrees.append(v.in_degree())\n",
    "for v in g.all_vertices():\n",
    "    out_degrees.append(v.out_degree())\n",
    "for v in g.all_vertices():\n",
    "    degrees.append(v.total_degree())\n",
    "    \n",
    "data['in_degree'] = in_degrees\n",
    "data['out_degree'] = out_degrees\n",
    "data['degree'] = degrees\n",
    "data['degree'].describe()"
   ]
  },
  {
   "cell_type": "code",
   "execution_count": 16,
   "metadata": {},
   "outputs": [
    {
     "data": {
      "text/plain": [
       "<AxesSubplot: xlabel='degree', ylabel='Count'>"
      ]
     },
     "execution_count": 16,
     "metadata": {},
     "output_type": "execute_result"
    },
    {
     "data": {
      "image/png": "[encoded data removed]",
      "text/plain": [
       "<Figure size 640x480 with 1 Axes>"
      ]
     },
     "metadata": {},
     "output_type": "display_data"
    }
   ],
   "source": [
    "sns.histplot(data['degree'])"
   ]
  },
  {
   "cell_type": "markdown",
   "metadata": {},
   "source": [
    "### Grafo\n",
    "\n",
    "-------"
   ]
  },
  {
   "cell_type": "code",
   "execution_count": 17,
   "metadata": {
    "collapsed": true
   },
   "outputs": [
    {
     "data": {
      "text/html": [
       "\n",
       "        <div id=\"DdsStA3jjdiB5n39G863DT\"></div>\n",
       "        <script>netpixi.render('DdsStA3jjdiB5n39G863DT', '/projeto.net.gz', 1.7777777777777777, true, false, false);</script>\n",
       "    "
      ],
      "text/plain": [
       "<IPython.core.display.HTML object>"
      ]
     },
     "metadata": {},
     "output_type": "display_data"
    }
   ],
   "source": [
    "# ----- Salva e renderiza grafo -----\n",
    "gt_save(g, 'projeto.net.gz')\n",
    "\n",
    "r = netpixi.render('/projeto.net.gz')"
   ]
  },
  {
   "cell_type": "code",
   "execution_count": 18,
   "metadata": {
    "collapsed": true
   },
   "outputs": [
    {
     "data": {
      "text/html": [
       "\n",
       "        <div id=\"GREBC6LnAoRoZsCKHAPwbP\"></div>\n",
       "        <script>netpixi.render('GREBC6LnAoRoZsCKHAPwbP', 'projeto_frunch.net.gz', 1.7777777777777777, true, false, false);</script>\n",
       "    "
      ],
      "text/plain": [
       "<IPython.core.display.HTML object>"
      ]
     },
     "metadata": {},
     "output_type": "display_data"
    }
   ],
   "source": [
    "# ----- Algoritmo Reingold Fruchterm -----\n",
    "m = gt_draw.fruchterman_reingold_layout(g)\n",
    "gt_move(g, m)\n",
    "gt_save(g, 'projeto_frunch.net.gz')\n",
    "r = netpixi.render('projeto_frunch.net.gz');"
   ]
  },
  {
   "cell_type": "code",
   "execution_count": null,
   "metadata": {},
   "outputs": [],
   "source": [
    "lista_int_coreness = []\n",
    "lista_float_coreness = []\n",
    "\n",
    "# Adiciona propriedades ao nó\n",
    "g.add_vp('core')\n",
    "g.add_vp('coreness')\n",
    "\n",
    "# ---- Funções ----\n",
    "\n",
    "def surprise():\n",
    "    matrix = spectral.adjacency(g)\n",
    "    algorithm = cpnet.Surprise()\n",
    "    algorithm.detect(matrix)\n",
    "    return algorithm.get_coreness()\n",
    "\n",
    "def rombach(matrix):\n",
    "    matrix = spectral.adjacency(g)\n",
    "    algorithm = cpnet.Rombach()\n",
    "    algorithm.detect(matrix)\n",
    "    return algorithm.get_coreness()\n",
    "\n",
    "# ---- Roda Algorítimo ----\n",
    "c_core = surprise()\n",
    "c_coreness = rombach()\n",
    "\n",
    "\n",
    "for i, coreness in c_core.items():\n",
    "    v = g.get_vertex_by_index(i)\n",
    "    v['core'] = int(coreness)\n",
    "    lista_int_coreness.append(int(coreness))\n",
    "df_nodes['core'] = lista_int_coreness\n",
    "\n",
    "for i, coreness in c_coreness.items():\n",
    "    v = g.get_vertex_by_index(i)\n",
    "    v['coreness'] = float(coreness)\n",
    "    lista_float_coreness.append(float(coreness))\n",
    "df_nodes['coreness'] = lista_float_coreness\n",
    "\n",
    "\n",
    "# ---- Modifica cor ----\n",
    "for v in g.all_vertices():\n",
    "    if v['core'] == 1:\n",
    "        r.vertex(v['id'], color=0xff0000)\n",
    "    else:\n",
    "        r.vertex(v['id'], color=0x00ff00)\n",
    "        \n",
    "# ---- Modifica tamanho ----\n",
    "\n",
    "for v in g.all_vertices():\n",
    "    r.vertex(v['id'], size=(10 + 40 * v['coreness']))\n",
    "    r.vertex(v['Metacritic score'], color=0xff0000)    "
   ]
  },
  {
   "cell_type": "markdown",
   "metadata": {},
   "source": [
    "### Regressão Linear\n",
    "\n",
    "-------"
   ]
  },
  {
   "cell_type": "code",
   "execution_count": null,
   "metadata": {},
   "outputs": [],
   "source": [
    "sns.scatterplot(x=df_nodes['coreness'], y=df_nodes['Metacritic score']);"
   ]
  },
  {
   "cell_type": "code",
   "execution_count": null,
   "metadata": {},
   "outputs": [],
   "source": [
    "sns.regplot(x=df_nodes['coreness'], y=df_nodes['Metacritic score']);"
   ]
  },
  {
   "cell_type": "code",
   "execution_count": null,
   "metadata": {},
   "outputs": [],
   "source": [
    "result = reg.linear(data=df_nodes, formula='\"Metacritic score\" ~ coreness')\n",
    "result.summary()"
   ]
  },
  {
   "cell_type": "code",
   "execution_count": null,
   "metadata": {},
   "outputs": [],
   "source": [
    "result.micro_summary()"
   ]
  },
  {
   "cell_type": "code",
   "execution_count": null,
   "metadata": {},
   "outputs": [],
   "source": [
    "result.plot_residuals()"
   ]
  },
  {
   "cell_type": "code",
   "execution_count": null,
   "metadata": {},
   "outputs": [],
   "source": [
    "# Observa-se um treshold de divisão no coreness, dessa forma, podemos dividir esses dados em dois conjuntos\n",
    "# E assim aplicar uma regressão em cada metade.\n",
    "\n",
    "threshold_coreness = 0.5\n",
    "\n",
    "df_nodes_menor = df_nodes[df_nodes['coreness'] < threshold_coreness]\n",
    "df_nodes_maior =  df_nodes[df_nodes['coreness'] > threshold_coreness]"
   ]
  },
  {
   "cell_type": "code",
   "execution_count": null,
   "metadata": {},
   "outputs": [],
   "source": [
    "df_nodes_menor.head()\n",
    "df_nodes_maior.head()"
   ]
  },
  {
   "cell_type": "code",
   "execution_count": null,
   "metadata": {},
   "outputs": [],
   "source": [
    "# ------- Para a primeira metade  -------\n",
    "\n",
    "sns.regplot(x=df_nodes_menor['coreness'], y=df_nodes_menor['Metacritic score']);"
   ]
  },
  {
   "cell_type": "code",
   "execution_count": null,
   "metadata": {},
   "outputs": [],
   "source": [
    "result_menor = reg.linear(data=df_nodes_menor, formula='\"Metacritic score\" ~ coreness')"
   ]
  },
  {
   "cell_type": "code",
   "execution_count": null,
   "metadata": {},
   "outputs": [],
   "source": [
    "result_menor.micro_summary()"
   ]
  },
  {
   "cell_type": "code",
   "execution_count": null,
   "metadata": {},
   "outputs": [],
   "source": [
    "result_menor.plot_residuals()"
   ]
  },
  {
   "cell_type": "code",
   "execution_count": null,
   "metadata": {},
   "outputs": [],
   "source": [
    "# ------- Para a segunda metade  -------\n",
    "\n",
    "sns.regplot(x=df_nodes_maior['coreness'], y=df_nodes_maior['Metacritic score']);"
   ]
  },
  {
   "cell_type": "code",
   "execution_count": null,
   "metadata": {},
   "outputs": [],
   "source": [
    "result_maior = reg.linear(data=df_nodes_maior, formula='\"Metacritic score\" ~ coreness')"
   ]
  },
  {
   "cell_type": "code",
   "execution_count": null,
   "metadata": {},
   "outputs": [],
   "source": [
    "result_maior.micro_summary()"
   ]
  },
  {
   "cell_type": "code",
   "execution_count": null,
   "metadata": {},
   "outputs": [],
   "source": [
    "result_menor.plot_residuals()"
   ]
  }
 ],
 "metadata": {
  "kernelspec": {
   "display_name": "Python 3 (ipykernel)",
   "language": "python",
   "name": "python3"
  },
  "language_info": {
   "codemirror_mode": {
    "name": "ipython",
    "version": 3
   },
   "file_extension": ".py",
   "mimetype": "text/x-python",
   "name": "python",
   "nbconvert_exporter": "python",
   "pygments_lexer": "ipython3",
   "version": "3.10.10"
  }
 },
 "nbformat": 4,
 "nbformat_minor": 4
}
