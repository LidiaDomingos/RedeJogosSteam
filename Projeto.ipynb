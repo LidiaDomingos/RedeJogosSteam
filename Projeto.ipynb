{
 "cells": [
  {
   "cell_type": "markdown",
   "metadata": {},
   "source": [
    "\n",
    "## Projeto | Construido uma rede com jogos da Steam 🎮️\n",
    "\n",
    "    \n",
    "---------------------\n",
    "\n",
    "**Equipe**\n",
    "\n",
    "\n",
    " * Letícia Coêlho Barbosa       | [Github](https://github.com/leticiacb1)\n",
    " <br>\n",
    "\n",
    " * Lídia Alves Chagas Domingos  | [Github](https://github.com/LidiaDomingos)\n",
    " <br>\n",
    "\n",
    " * Lorran Caetano Lopes         | [Github](https://github.com/lorrancmlopes)\n",
    " <br>\n",
    " \n",
    " ---------------------\n",
    "\n",
    "* **Dataset escolhido** : [Jogos da Steam](https://www.kaggle.com/datasets/fronkongames/steam-games-dataset)"
   ]
  },
  {
   "cell_type": "markdown",
   "metadata": {},
   "source": [
    "### O DATASET\n",
    "\n",
    "-------\n",
    "\n",
    "O contexto do projeto engloba os jogos famosos para computadores disponíveis na Steam. Atualmente, a plataforma Steam possui aproximadamente 95 milhões de usuários no mundo todo e é sucesso entre os gamers, sendo a atual líder do mercado. \n",
    "\n",
    "\n",
    "#### Principais colunas\n",
    "<br>\n",
    "\n",
    "O dataset escolhido possui 39 colunas, nesse tópico citaremos a descrições de algumas colunas de maior interesse para analise.\n",
    "\n",
    "* **name** : nome do jogo.\n",
    "<br>\n",
    "\n",
    "* **releaseDate** : data de lançamento.\n",
    "<br>\n",
    "\n",
    "* **price** : preço do jogo.\n",
    "<br>\n",
    "\n",
    "* **metacritic_score** : media das notas dadas por avaliações de profissionais.\n",
    "<br>\n",
    "\n",
    "* **user_score** : media das notas dadas pelos usuários do jogo.\n",
    "<br>\n",
    "\n",
    "* **score_rank** : o ranke do jogo baseado nas avaliações dos usuários.\n",
    "<br>\n",
    "\n",
    "* **developers** : desenvolvedores dos jogos.\n",
    "<br>\n",
    "\n",
    "* **categories** : categoria dos jogos.\n",
    "<br>\n",
    "\n",
    "* **genres** : genero do jogo.\n",
    "<br>\n",
    "\n",
    "* **tags** : Tags do jogo.\n",
    "<br>\n",
    "\n",
    " \n",
    " ### NOSSA REDE\n",
    "\n",
    "-------\n",
    "\n",
    "* **Vértices** : Jogos da Steam.\n",
    "<br>\n",
    "\n",
    "* **Arestas**  : Existe uma aresta entre um jogo 1 e um jogo 2 se o número de tags em comum entre os jogos for superior ou igual a um **threadhold** (definido mais a frente)\n",
    "\n",
    "\n",
    " ### HIPOTESE\n",
    "\n",
    "-------\n",
    "\n",
    "\n",
    "`\"Quanto mais central é a sua posição na rede, maior a média de avaliações dos críticos profissionais.\"`\n",
    "<br>\n",
    "\n",
    "* **Variável de controle**: Tamanho da empresa.\n",
    "<br>\n",
    "\n",
    "* **Variável dependente**:  medida indicativa de centralidade do nó na rede (coreness).\n",
    "<br>\n",
    "\n",
    "* **Variável independente**: dataset[Metacritic score]"
   ]
  },
  {
   "cell_type": "markdown",
   "metadata": {},
   "source": [
    "### Analisando os dados \n",
    "\n",
    "-------"
   ]
  },
  {
   "cell_type": "code",
   "execution_count": 1,
   "metadata": {},
   "outputs": [
    {
     "data": {
      "text/html": [
       "\n",
       "    <script src=\"/files/netpixi.min.js\"></script>\n"
      ],
      "text/plain": [
       "<IPython.core.display.HTML object>"
      ]
     },
     "metadata": {},
     "output_type": "display_data"
    },
    {
     "name": "stderr",
     "output_type": "stream",
     "text": [
      "<frozen importlib._bootstrap>:914: ImportWarning: VendorImporter.find_spec() not found; falling back to find_module()\n"
     ]
    }
   ],
   "source": [
    "# ---------------------------------\n",
    "# ------------ IMPORTS ------------\n",
    "# ---------------------------------\n",
    "\n",
    "import seaborn as sns\n",
    "from netpixi.integration.gt import *\n",
    "from regression.integration.gt import *\n",
    "import netpixi\n",
    "import pandas as pd\n",
    "\n",
    "import numpy as np\n",
    "import seaborn as sns\n",
    "import regression as reg\n",
    "\n",
    "from scipy import stats\n",
    "from matplotlib import pyplot as plt\n",
    "\n",
    "import cpnet\n",
    "from graph_tool import spectral"
   ]
  },
  {
   "cell_type": "code",
   "execution_count": 2,
   "metadata": {},
   "outputs": [],
   "source": [
    "# Grafo não direcional | Informação obtida via documentação\n",
    "g = Graph(directed=False) "
   ]
  },
  {
   "cell_type": "code",
   "execution_count": 3,
   "metadata": {
    "scrolled": false
   },
   "outputs": [
    {
     "name": "stdout",
     "output_type": "stream",
     "text": [
      "\n",
      "> Colunas : ['AppID', 'Name', 'Release date', 'Estimated owners', 'Peak CCU', 'Required age', 'Price', 'DLC count', 'About the game', 'Supported languages', 'Full audio languages', 'Reviews', 'Header image', 'Website', 'Support url', 'Support email', 'Windows', 'Mac', 'Linux', 'Metacritic score', 'Metacritic url', 'User score', 'Positive', 'Negative', 'Score rank', 'Achievements', 'Recommendations', 'Notes', 'Average playtime forever', 'Average playtime two weeks', 'Median playtime forever', 'Median playtime two weeks', 'Developers', 'Publishers', 'Categories', 'Genres', 'Tags', 'Screenshots', 'Movies']\n",
      "\n",
      "\n",
      "> Tamanho do dataset : (71716, 39)\n",
      "\n",
      "\n",
      "> Primeiras linhas dataset : \n",
      "\n"
     ]
    },
    {
     "data": {
      "text/html": [
       "<div>\n",
       "<style scoped>\n",
       "    .dataframe tbody tr th:only-of-type {\n",
       "        vertical-align: middle;\n",
       "    }\n",
       "\n",
       "    .dataframe tbody tr th {\n",
       "        vertical-align: top;\n",
       "    }\n",
       "\n",
       "    .dataframe thead th {\n",
       "        text-align: right;\n",
       "    }\n",
       "</style>\n",
       "<table border=\"1\" class=\"dataframe\">\n",
       "  <thead>\n",
       "    <tr style=\"text-align: right;\">\n",
       "      <th></th>\n",
       "      <th>AppID</th>\n",
       "      <th>Name</th>\n",
       "      <th>Release date</th>\n",
       "      <th>Estimated owners</th>\n",
       "      <th>Peak CCU</th>\n",
       "      <th>Required age</th>\n",
       "      <th>Price</th>\n",
       "      <th>DLC count</th>\n",
       "      <th>About the game</th>\n",
       "      <th>Supported languages</th>\n",
       "      <th>...</th>\n",
       "      <th>Average playtime two weeks</th>\n",
       "      <th>Median playtime forever</th>\n",
       "      <th>Median playtime two weeks</th>\n",
       "      <th>Developers</th>\n",
       "      <th>Publishers</th>\n",
       "      <th>Categories</th>\n",
       "      <th>Genres</th>\n",
       "      <th>Tags</th>\n",
       "      <th>Screenshots</th>\n",
       "      <th>Movies</th>\n",
       "    </tr>\n",
       "  </thead>\n",
       "  <tbody>\n",
       "    <tr>\n",
       "      <th>0</th>\n",
       "      <td>20200</td>\n",
       "      <td>Galactic Bowling</td>\n",
       "      <td>Oct 21, 2008</td>\n",
       "      <td>0 - 20000</td>\n",
       "      <td>0</td>\n",
       "      <td>0</td>\n",
       "      <td>19.99</td>\n",
       "      <td>0</td>\n",
       "      <td>Galactic Bowling is an exaggerated and stylize...</td>\n",
       "      <td>['English']</td>\n",
       "      <td>...</td>\n",
       "      <td>0</td>\n",
       "      <td>0</td>\n",
       "      <td>0</td>\n",
       "      <td>Perpetual FX Creative</td>\n",
       "      <td>Perpetual FX Creative</td>\n",
       "      <td>Single-player,Multi-player,Steam Achievements,...</td>\n",
       "      <td>Casual,Indie,Sports</td>\n",
       "      <td>Indie,Casual,Sports,Bowling</td>\n",
       "      <td>https://cdn.akamai.steamstatic.com/steam/apps/...</td>\n",
       "      <td>http://cdn.akamai.steamstatic.com/steam/apps/2...</td>\n",
       "    </tr>\n",
       "    <tr>\n",
       "      <th>1</th>\n",
       "      <td>655370</td>\n",
       "      <td>Train Bandit</td>\n",
       "      <td>Oct 12, 2017</td>\n",
       "      <td>0 - 20000</td>\n",
       "      <td>0</td>\n",
       "      <td>0</td>\n",
       "      <td>0.99</td>\n",
       "      <td>0</td>\n",
       "      <td>THE LAW!! Looks to be a showdown atop a train....</td>\n",
       "      <td>['English', 'French', 'Italian', 'German', 'Sp...</td>\n",
       "      <td>...</td>\n",
       "      <td>0</td>\n",
       "      <td>0</td>\n",
       "      <td>0</td>\n",
       "      <td>Rusty Moyher</td>\n",
       "      <td>Wild Rooster</td>\n",
       "      <td>Single-player,Steam Achievements,Full controll...</td>\n",
       "      <td>Action,Indie</td>\n",
       "      <td>Indie,Action,Pixel Graphics,2D,Retro,Arcade,Sc...</td>\n",
       "      <td>https://cdn.akamai.steamstatic.com/steam/apps/...</td>\n",
       "      <td>http://cdn.akamai.steamstatic.com/steam/apps/2...</td>\n",
       "    </tr>\n",
       "  </tbody>\n",
       "</table>\n",
       "<p>2 rows × 39 columns</p>\n",
       "</div>"
      ],
      "text/plain": [
       "    AppID              Name  Release date Estimated owners  Peak CCU  \\\n",
       "0   20200  Galactic Bowling  Oct 21, 2008        0 - 20000         0   \n",
       "1  655370      Train Bandit  Oct 12, 2017        0 - 20000         0   \n",
       "\n",
       "   Required age  Price  DLC count  \\\n",
       "0             0  19.99          0   \n",
       "1             0   0.99          0   \n",
       "\n",
       "                                      About the game  \\\n",
       "0  Galactic Bowling is an exaggerated and stylize...   \n",
       "1  THE LAW!! Looks to be a showdown atop a train....   \n",
       "\n",
       "                                 Supported languages  ...  \\\n",
       "0                                        ['English']  ...   \n",
       "1  ['English', 'French', 'Italian', 'German', 'Sp...  ...   \n",
       "\n",
       "  Average playtime two weeks Median playtime forever  \\\n",
       "0                          0                       0   \n",
       "1                          0                       0   \n",
       "\n",
       "  Median playtime two weeks             Developers             Publishers  \\\n",
       "0                         0  Perpetual FX Creative  Perpetual FX Creative   \n",
       "1                         0           Rusty Moyher           Wild Rooster   \n",
       "\n",
       "                                          Categories               Genres  \\\n",
       "0  Single-player,Multi-player,Steam Achievements,...  Casual,Indie,Sports   \n",
       "1  Single-player,Steam Achievements,Full controll...         Action,Indie   \n",
       "\n",
       "                                                Tags  \\\n",
       "0                        Indie,Casual,Sports,Bowling   \n",
       "1  Indie,Action,Pixel Graphics,2D,Retro,Arcade,Sc...   \n",
       "\n",
       "                                         Screenshots  \\\n",
       "0  https://cdn.akamai.steamstatic.com/steam/apps/...   \n",
       "1  https://cdn.akamai.steamstatic.com/steam/apps/...   \n",
       "\n",
       "                                              Movies  \n",
       "0  http://cdn.akamai.steamstatic.com/steam/apps/2...  \n",
       "1  http://cdn.akamai.steamstatic.com/steam/apps/2...  \n",
       "\n",
       "[2 rows x 39 columns]"
      ]
     },
     "execution_count": 3,
     "metadata": {},
     "output_type": "execute_result"
    }
   ],
   "source": [
    "# ----  Lendo o arquivo ----\n",
    "\n",
    "df_principal = pd.read_csv('games.csv')\n",
    "\n",
    "columns = [col for col in df_principal.columns]\n",
    "\n",
    "print(f\"\\n> Colunas : {columns}\\n\")\n",
    "\n",
    "print(f\"\\n> Tamanho do dataset : {df_principal.shape}\\n\")\n",
    "\n",
    "print(f\"\\n> Primeiras linhas dataset : \\n\")\n",
    "df_principal.head(2)"
   ]
  },
  {
   "cell_type": "markdown",
   "metadata": {},
   "source": [
    "\n",
    "\n",
    "#### Descrevendo melhor a coluna Metacritic score"
   ]
  },
  {
   "cell_type": "code",
   "execution_count": 4,
   "metadata": {},
   "outputs": [
    {
     "name": "stdout",
     "output_type": "stream",
     "text": [
      "\n",
      "> Valores únicos presentes:\n",
      "\n",
      " [ 0 62 64 53 84 89 70 86 40 87 92 76 51 49 81 69 72 68 52 82 59 77 79 71\n",
      " 74 73 88 47 75 66 50 63 67 80 58 90 39 78 55 85 65 91 83 57 56 44 60 61\n",
      " 48 46 23 45 94 27 38 30 35 54 41 43 32 34 93 37 36 95 42 29 24 96 20 33\n",
      " 97]\n",
      "\n",
      "\n",
      "> Distribuição dos valores :\n",
      "\n",
      " 0     67938\n",
      "80      183\n",
      "77      165\n",
      "76      164\n",
      "78      161\n",
      "      ...  \n",
      "23        1\n",
      "27        1\n",
      "24        1\n",
      "20        1\n",
      "33        1\n",
      "Name: Metacritic score, Length: 73, dtype: int64\n",
      "\n",
      "\n",
      "> Descrição:\n",
      "\n",
      "count    71716.000000\n",
      "mean         3.834207\n",
      "std         16.437707\n",
      "min          0.000000\n",
      "25%          0.000000\n",
      "50%          0.000000\n",
      "75%          0.000000\n",
      "max         97.000000\n",
      "Name: Metacritic score, dtype: float64\n",
      "\n"
     ]
    }
   ],
   "source": [
    "print(f\"\\n> Valores únicos presentes:\\n\\n {df_principal['Metacritic score'].unique()}\\n\")\n",
    "\n",
    "print(f\"\\n> Distribuição dos valores :\\n\\n {df_principal['Metacritic score'].value_counts()}\\n\")\n",
    "\n",
    "print(f\"\\n> Descrição:\\n\\n{df_principal['Metacritic score'].describe()}\\n\")"
   ]
  },
  {
   "cell_type": "markdown",
   "metadata": {},
   "source": [
    "### Limpando Dataset\n",
    "\n",
    "-------"
   ]
  },
  {
   "cell_type": "code",
   "execution_count": 5,
   "metadata": {},
   "outputs": [
    {
     "name": "stdout",
     "output_type": "stream",
     "text": [
      "\n",
      "> Tamanho do dataset pós limpeza:\n",
      " (299, 39)\n",
      "\n",
      "\n",
      "> Descrição coluna Metacritic score:\n",
      "\n",
      " count    299.000000\n",
      "mean      76.963211\n",
      "std        7.544186\n",
      "min       48.000000\n",
      "25%       73.000000\n",
      "50%       78.000000\n",
      "75%       82.000000\n",
      "max       97.000000\n",
      "Name: Metacritic score, dtype: float64\n",
      "\n"
     ]
    }
   ],
   "source": [
    "\n",
    "# ---- Retirando alguns valores nulos ----\n",
    "\n",
    "df_principal.dropna(subset=['Tags', 'Metacritic score'], inplace=True)\n",
    "df_principal = df_principal[df_principal['Metacritic score'] != 0]\n",
    "\n",
    "\n",
    "# ---- Amostragem para anos > 2019 e < 2023 ----\n",
    "\n",
    "df_principal = df_principal[ df_principal[\"Release date\"].map(lambda date: \n",
    "                                                              ((int(date.split(' ')[-1]) > 2020) and \n",
    "                                                               int(date.split(' ')[-1]) < 2023))== True]\n",
    "df_principal.reset_index(inplace=True, drop=True)\n",
    "\n",
    "\n",
    "print(f\"\\n> Tamanho do dataset pós limpeza:\\n {df_principal.shape}\\n\")\n",
    "\n",
    "print(f\"\\n> Descrição coluna Metacritic score:\\n\\n {df_principal['Metacritic score'].describe()}\\n\")"
   ]
  },
  {
   "cell_type": "markdown",
   "metadata": {},
   "source": [
    "### Tags\n",
    "\n",
    "-------"
   ]
  },
  {
   "cell_type": "code",
   "execution_count": 6,
   "metadata": {},
   "outputs": [
    {
     "name": "stdout",
     "output_type": "stream",
     "text": [
      "\n",
      "> dataset[Tags] como lista:\n",
      "\n",
      "0      [Rhythm, VR, Multiplayer, Music, Racing, PvP, ...\n",
      "1      [Management, Simulation, Anime, Sexual Content...\n",
      "2      [Casual, Simulation, Strategy, Indie, Manageme...\n",
      "3      [Puzzle, Difficult, Indie, Singleplayer, Sokob...\n",
      "4      [RPG, Choices Matter, Story Rich, Detective, T...\n",
      "                             ...                        \n",
      "294    [Strategy, Post-apocalyptic, Survival, Colony ...\n",
      "295    [Atmospheric, Resource Management, Simulation,...\n",
      "296    [Metroidvania, Female Protagonist, Shoot 'Em U...\n",
      "297    [Colony Sim, Indie, Pixel Graphics, Simulation...\n",
      "298    [Indie, Rhythm, Action, Hand-drawn, Colorful, ...\n",
      "Name: Tags, Length: 299, dtype: object\n"
     ]
    }
   ],
   "source": [
    "\n",
    "# ---- Tranforma a coluna de Tags em lista ----\n",
    "\n",
    "df_principal['Tags'] = df_principal.Tags.apply(lambda x: str(x).split(','))\n",
    "print(f\"\\n> dataset[Tags] como lista:\\n\\n{df_principal['Tags']}\")\n"
   ]
  },
  {
   "cell_type": "markdown",
   "metadata": {},
   "source": [
    "### Montando os Nós da Rede\n",
    "\n",
    "-------"
   ]
  },
  {
   "cell_type": "code",
   "execution_count": 7,
   "metadata": {},
   "outputs": [
    {
     "data": {
      "text/html": [
       "<div>\n",
       "<style scoped>\n",
       "    .dataframe tbody tr th:only-of-type {\n",
       "        vertical-align: middle;\n",
       "    }\n",
       "\n",
       "    .dataframe tbody tr th {\n",
       "        vertical-align: top;\n",
       "    }\n",
       "\n",
       "    .dataframe thead th {\n",
       "        text-align: right;\n",
       "    }\n",
       "</style>\n",
       "<table border=\"1\" class=\"dataframe\">\n",
       "  <thead>\n",
       "    <tr style=\"text-align: right;\">\n",
       "      <th></th>\n",
       "      <th>id</th>\n",
       "      <th>Tags</th>\n",
       "      <th>Metacritic score</th>\n",
       "    </tr>\n",
       "  </thead>\n",
       "  <tbody>\n",
       "    <tr>\n",
       "      <th>0</th>\n",
       "      <td>0</td>\n",
       "      <td>[Rhythm, VR, Multiplayer, Music, Racing, PvP, ...</td>\n",
       "      <td>87</td>\n",
       "    </tr>\n",
       "    <tr>\n",
       "      <th>1</th>\n",
       "      <td>1</td>\n",
       "      <td>[Management, Simulation, Anime, Sexual Content...</td>\n",
       "      <td>73</td>\n",
       "    </tr>\n",
       "    <tr>\n",
       "      <th>2</th>\n",
       "      <td>2</td>\n",
       "      <td>[Casual, Simulation, Strategy, Indie, Manageme...</td>\n",
       "      <td>87</td>\n",
       "    </tr>\n",
       "    <tr>\n",
       "      <th>3</th>\n",
       "      <td>3</td>\n",
       "      <td>[Puzzle, Difficult, Indie, Singleplayer, Sokob...</td>\n",
       "      <td>76</td>\n",
       "    </tr>\n",
       "    <tr>\n",
       "      <th>4</th>\n",
       "      <td>4</td>\n",
       "      <td>[RPG, Choices Matter, Story Rich, Detective, T...</td>\n",
       "      <td>67</td>\n",
       "    </tr>\n",
       "    <tr>\n",
       "      <th>...</th>\n",
       "      <td>...</td>\n",
       "      <td>...</td>\n",
       "      <td>...</td>\n",
       "    </tr>\n",
       "    <tr>\n",
       "      <th>294</th>\n",
       "      <td>294</td>\n",
       "      <td>[Strategy, Post-apocalyptic, Survival, Colony ...</td>\n",
       "      <td>76</td>\n",
       "    </tr>\n",
       "    <tr>\n",
       "      <th>295</th>\n",
       "      <td>295</td>\n",
       "      <td>[Atmospheric, Resource Management, Simulation,...</td>\n",
       "      <td>78</td>\n",
       "    </tr>\n",
       "    <tr>\n",
       "      <th>296</th>\n",
       "      <td>296</td>\n",
       "      <td>[Metroidvania, Female Protagonist, Shoot 'Em U...</td>\n",
       "      <td>82</td>\n",
       "    </tr>\n",
       "    <tr>\n",
       "      <th>297</th>\n",
       "      <td>297</td>\n",
       "      <td>[Colony Sim, Indie, Pixel Graphics, Simulation...</td>\n",
       "      <td>93</td>\n",
       "    </tr>\n",
       "    <tr>\n",
       "      <th>298</th>\n",
       "      <td>298</td>\n",
       "      <td>[Indie, Rhythm, Action, Hand-drawn, Colorful, ...</td>\n",
       "      <td>81</td>\n",
       "    </tr>\n",
       "  </tbody>\n",
       "</table>\n",
       "<p>299 rows × 3 columns</p>\n",
       "</div>"
      ],
      "text/plain": [
       "      id                                               Tags  Metacritic score\n",
       "0      0  [Rhythm, VR, Multiplayer, Music, Racing, PvP, ...                87\n",
       "1      1  [Management, Simulation, Anime, Sexual Content...                73\n",
       "2      2  [Casual, Simulation, Strategy, Indie, Manageme...                87\n",
       "3      3  [Puzzle, Difficult, Indie, Singleplayer, Sokob...                76\n",
       "4      4  [RPG, Choices Matter, Story Rich, Detective, T...                67\n",
       "..   ...                                                ...               ...\n",
       "294  294  [Strategy, Post-apocalyptic, Survival, Colony ...                76\n",
       "295  295  [Atmospheric, Resource Management, Simulation,...                78\n",
       "296  296  [Metroidvania, Female Protagonist, Shoot 'Em U...                82\n",
       "297  297  [Colony Sim, Indie, Pixel Graphics, Simulation...                93\n",
       "298  298  [Indie, Rhythm, Action, Hand-drawn, Colorful, ...                81\n",
       "\n",
       "[299 rows x 3 columns]"
      ]
     },
     "execution_count": 7,
     "metadata": {},
     "output_type": "execute_result"
    }
   ],
   "source": [
    "id = 0\n",
    "unique_name_values = df_principal['Name'].unique().tolist()\n",
    "node_data = []\n",
    "\n",
    "for _ , linha in  df_principal.iterrows():\n",
    "    \n",
    "    if(linha['Name'] in unique_name_values):\n",
    "        node_data.append([id ,linha['Tags'], linha['Metacritic score']])\n",
    "        id+=1\n",
    "\n",
    "df_nodes = pd.DataFrame(node_data,columns=['id','Tags', 'Metacritic score']) \n",
    "df_nodes"
   ]
  },
  {
   "cell_type": "code",
   "execution_count": 8,
   "metadata": {},
   "outputs": [],
   "source": [
    "# ---- Criando os nós e adiciona atributos aos nós ----\n",
    "\n",
    "g.add_vp('Metacritic score')\n",
    "\n",
    "aux = []\n",
    "for _, infos in df_nodes.iterrows():\n",
    "    \n",
    "    #Adiciona vértices:\n",
    "    infos = infos.astype(object)\n",
    "    g.add_vertex(infos['id'])\n",
    "    \n",
    "    # Adiciona atributos:\n",
    "    vertice = g.get_vertex(infos['id'])\n",
    "    vertice['Metacritic score'] = infos['Metacritic score']"
   ]
  },
  {
   "cell_type": "markdown",
   "metadata": {},
   "source": [
    "### Montando as Arestas da Rede\n",
    "\n",
    "-------"
   ]
  },
  {
   "cell_type": "code",
   "execution_count": 9,
   "metadata": {},
   "outputs": [],
   "source": [
    "def count_tags(lista_tags_1, lista_tags_2):\n",
    "    '''\n",
    "    Retorna o número de tags em comum entre duas listas\n",
    "    '''    \n",
    "    count_common_tags = 0\n",
    "        \n",
    "    for tag1 in lista_tags_1:\n",
    "        for tag2 in lista_tags_2:\n",
    "            \n",
    "            if(tag1 == tag2):\n",
    "                count_common_tags+=1\n",
    "    \n",
    "    return count_common_tags"
   ]
  },
  {
   "cell_type": "code",
   "execution_count": 10,
   "metadata": {},
   "outputs": [
    {
     "data": {
      "text/html": [
       "<div>\n",
       "<style scoped>\n",
       "    .dataframe tbody tr th:only-of-type {\n",
       "        vertical-align: middle;\n",
       "    }\n",
       "\n",
       "    .dataframe tbody tr th {\n",
       "        vertical-align: top;\n",
       "    }\n",
       "\n",
       "    .dataframe thead th {\n",
       "        text-align: right;\n",
       "    }\n",
       "</style>\n",
       "<table border=\"1\" class=\"dataframe\">\n",
       "  <thead>\n",
       "    <tr style=\"text-align: right;\">\n",
       "      <th></th>\n",
       "      <th>node_1</th>\n",
       "      <th>node_2</th>\n",
       "      <th>Tags_em_Comum</th>\n",
       "    </tr>\n",
       "  </thead>\n",
       "  <tbody>\n",
       "    <tr>\n",
       "      <th>0</th>\n",
       "      <td>91</td>\n",
       "      <td>205</td>\n",
       "      <td>9</td>\n",
       "    </tr>\n",
       "    <tr>\n",
       "      <th>1</th>\n",
       "      <td>42</td>\n",
       "      <td>287</td>\n",
       "      <td>2</td>\n",
       "    </tr>\n",
       "    <tr>\n",
       "      <th>2</th>\n",
       "      <td>148</td>\n",
       "      <td>199</td>\n",
       "      <td>1</td>\n",
       "    </tr>\n",
       "    <tr>\n",
       "      <th>3</th>\n",
       "      <td>103</td>\n",
       "      <td>166</td>\n",
       "      <td>5</td>\n",
       "    </tr>\n",
       "    <tr>\n",
       "      <th>4</th>\n",
       "      <td>107</td>\n",
       "      <td>236</td>\n",
       "      <td>5</td>\n",
       "    </tr>\n",
       "    <tr>\n",
       "      <th>...</th>\n",
       "      <td>...</td>\n",
       "      <td>...</td>\n",
       "      <td>...</td>\n",
       "    </tr>\n",
       "    <tr>\n",
       "      <th>44546</th>\n",
       "      <td>18</td>\n",
       "      <td>267</td>\n",
       "      <td>1</td>\n",
       "    </tr>\n",
       "    <tr>\n",
       "      <th>44547</th>\n",
       "      <td>132</td>\n",
       "      <td>231</td>\n",
       "      <td>1</td>\n",
       "    </tr>\n",
       "    <tr>\n",
       "      <th>44548</th>\n",
       "      <td>104</td>\n",
       "      <td>187</td>\n",
       "      <td>4</td>\n",
       "    </tr>\n",
       "    <tr>\n",
       "      <th>44549</th>\n",
       "      <td>88</td>\n",
       "      <td>98</td>\n",
       "      <td>3</td>\n",
       "    </tr>\n",
       "    <tr>\n",
       "      <th>44550</th>\n",
       "      <td>88</td>\n",
       "      <td>273</td>\n",
       "      <td>4</td>\n",
       "    </tr>\n",
       "  </tbody>\n",
       "</table>\n",
       "<p>44551 rows × 3 columns</p>\n",
       "</div>"
      ],
      "text/plain": [
       "       node_1  node_2  Tags_em_Comum\n",
       "0          91     205              9\n",
       "1          42     287              2\n",
       "2         148     199              1\n",
       "3         103     166              5\n",
       "4         107     236              5\n",
       "...       ...     ...            ...\n",
       "44546      18     267              1\n",
       "44547     132     231              1\n",
       "44548     104     187              4\n",
       "44549      88      98              3\n",
       "44550      88     273              4\n",
       "\n",
       "[44551 rows x 3 columns]"
      ]
     },
     "execution_count": 10,
     "metadata": {},
     "output_type": "execute_result"
    }
   ],
   "source": [
    "node_relation = set()\n",
    "data_relation = set()\n",
    "\n",
    "for _, linha1 in df_nodes.iterrows():\n",
    "    for _,linha2 in df_nodes.iterrows():\n",
    "        \n",
    "        proximidade = 0\n",
    "        \n",
    "        if(( (linha1['id'] , linha2['id']) not in node_relation) and \n",
    "           ( (linha2['id'] , linha1['id']) not in node_relation) and (linha2['id'] != linha1['id'])):\n",
    "            \n",
    "            # Calculando TAGS em comum\n",
    "            proximidade = count_tags(linha1['Tags'], linha2['Tags'])\n",
    "            \n",
    "            # Adiciona valor na relação de nós:\n",
    "            node_relation.add((linha1['id'] , linha2['id']))\n",
    "        \n",
    "            data_relation.add((linha1['id'], linha2['id'], proximidade))\n",
    "            \n",
    "df_relation = pd.DataFrame(data_relation,columns=['node_1', 'node_2' , 'Tags_em_Comum'] ) \n",
    "df_relation"
   ]
  },
  {
   "cell_type": "markdown",
   "metadata": {},
   "source": [
    "#### Threadhold para a construção das Arestas"
   ]
  },
  {
   "cell_type": "code",
   "execution_count": 11,
   "metadata": {},
   "outputs": [
    {
     "data": {
      "image/png": "[encoded data removed]",
      "text/plain": [
       "<Figure size 640x480 with 1 Axes>"
      ]
     },
     "metadata": {},
     "output_type": "display_data"
    }
   ],
   "source": [
    "df_relation['Tags_em_Comum'][df_relation['Tags_em_Comum'] != 0].value_counts().plot(kind='bar');"
   ]
  },
  {
   "cell_type": "code",
   "execution_count": 12,
   "metadata": {},
   "outputs": [],
   "source": [
    "# ---- Escolhendo threshold par aa criação das arestas a depender da distribuição ----\n",
    "\n",
    "threshold_proximidade = 5"
   ]
  },
  {
   "cell_type": "code",
   "execution_count": 13,
   "metadata": {},
   "outputs": [],
   "source": [
    "# ---- Criando arestas ----\n",
    "\n",
    "for _ , relacao in df_relation.iterrows():\n",
    "    \n",
    "    if(relacao['Tags_em_Comum'] > threshold_proximidade):\n",
    "        g.add_edge(relacao['node_1'], relacao['node_2'])"
   ]
  },
  {
   "cell_type": "markdown",
   "metadata": {},
   "source": [
    "### Métricas da Rede\n",
    "\n",
    "-------"
   ]
  },
  {
   "cell_type": "code",
   "execution_count": 14,
   "metadata": {},
   "outputs": [
    {
     "name": "stdout",
     "output_type": "stream",
     "text": [
      "\n",
      " > Número de vértices de g: 299\n",
      "\n",
      " > Número de arestas de g: 9315\n",
      "\n",
      " > Densidade: 0.20908621579762518\n"
     ]
    }
   ],
   "source": [
    "# ---- Número de arestas, nós e densidade ----\n",
    "\n",
    "n = g.num_vertices()\n",
    "m = g.num_edges()\n",
    "\n",
    "if g.is_directed():\n",
    "    max_edges = n * (n - 1)\n",
    "else:\n",
    "    max_edges = n * (n - 1) // 2\n",
    "d = m / max_edges\n",
    "\n",
    "print('\\n > Número de vértices de g:', n )\n",
    "print('\\n > Número de arestas de g:', m)\n",
    "print('\\n > Densidade:', d)"
   ]
  },
  {
   "cell_type": "markdown",
   "metadata": {},
   "source": [
    "### Calculando Degree\n",
    "\n",
    "-------"
   ]
  },
  {
   "cell_type": "code",
   "execution_count": 15,
   "metadata": {},
   "outputs": [
    {
     "data": {
      "text/plain": [
       "count    299.000000\n",
       "mean      62.307692\n",
       "std       36.408831\n",
       "min        0.000000\n",
       "25%       32.500000\n",
       "50%       55.000000\n",
       "75%       91.500000\n",
       "max      147.000000\n",
       "Name: degree, dtype: float64"
      ]
     },
     "execution_count": 15,
     "metadata": {},
     "output_type": "execute_result"
    }
   ],
   "source": [
    "# Propriedade dos vértices\n",
    "data = gt_data(g)\n",
    "\n",
    "# Calculando degrees\n",
    "in_degrees = []\n",
    "out_degrees = []\n",
    "degrees = []\n",
    "\n",
    "for v in g.all_vertices():\n",
    "    in_degrees.append(v.in_degree())\n",
    "for v in g.all_vertices():\n",
    "    out_degrees.append(v.out_degree())\n",
    "for v in g.all_vertices():\n",
    "    degrees.append(v.total_degree())\n",
    "    \n",
    "data['in_degree'] = in_degrees\n",
    "data['out_degree'] = out_degrees\n",
    "data['degree'] = degrees\n",
    "data['degree'].describe()"
   ]
  },
  {
   "cell_type": "code",
   "execution_count": 16,
   "metadata": {},
   "outputs": [
    {
     "data": {
      "text/plain": [
       "<AxesSubplot: xlabel='degree', ylabel='Count'>"
      ]
     },
     "execution_count": 16,
     "metadata": {},
     "output_type": "execute_result"
    },
    {
     "data": {
      "image/png": "[encoded data removed]",
      "text/plain": [
       "<Figure size 640x480 with 1 Axes>"
      ]
     },
     "metadata": {},
     "output_type": "display_data"
    }
   ],
   "source": [
    "sns.histplot(data['degree'])"
   ]
  },
  {
   "cell_type": "markdown",
   "metadata": {},
   "source": [
    "### Grafo\n",
    "\n",
    "-------"
   ]
  },
  {
   "cell_type": "code",
   "execution_count": 17,
   "metadata": {
    "collapsed": true
   },
   "outputs": [
    {
     "data": {
      "text/html": [
       "\n",
       "        <div id=\"CgpNuwyKk7SBfGgp9SYbPF\"></div>\n",
       "        <script>netpixi.render('CgpNuwyKk7SBfGgp9SYbPF', '/projeto.net.gz', 1.7777777777777777, true, false, false);</script>\n",
       "    "
      ],
      "text/plain": [
       "<IPython.core.display.HTML object>"
      ]
     },
     "metadata": {},
     "output_type": "display_data"
    }
   ],
   "source": [
    "# ----- Salva e renderiza grafo -----\n",
    "gt_save(g, 'projeto.net.gz')\n",
    "\n",
    "r = netpixi.render('/projeto.net.gz')"
   ]
  },
  {
   "cell_type": "code",
   "execution_count": 18,
   "metadata": {
    "collapsed": true
   },
   "outputs": [
    {
     "data": {
      "text/html": [
       "\n",
       "        <div id=\"TzosTQQKafi7kP6xic5Mh6\"></div>\n",
       "        <script>netpixi.render('TzosTQQKafi7kP6xic5Mh6', 'projeto_frunch.net.gz', 1.7777777777777777, true, false, false);</script>\n",
       "    "
      ],
      "text/plain": [
       "<IPython.core.display.HTML object>"
      ]
     },
     "metadata": {},
     "output_type": "display_data"
    }
   ],
   "source": [
    "# ----- Algoritmo Reingold Fruchterm -----\n",
    "m = gt_draw.fruchterman_reingold_layout(g)\n",
    "gt_move(g, m)\n",
    "gt_save(g, 'projeto_frunch.net.gz')\n",
    "r = netpixi.render('projeto_frunch.net.gz');"
   ]
  },
  {
   "cell_type": "code",
   "execution_count": 20,
   "metadata": {},
   "outputs": [
    {
     "data": {
      "text/html": [
       "\n",
       "        <div id=\"4Mjf93tFA7cYM2cLc3mG28\"></div>\n",
       "        <script>netpixi.call('4Mjf93tFA7cYM2cLc3mG28', 'TzosTQQKafi7kP6xic5Mh6', 'changeGraph', 'eyJpZCI6IDAsICJ0eXBlIjogInZlcnRleCIsICJwcm9wcyI6IHsiY29sb3IiOiA2NTI4MH19Cg==');</script>\n",
       "    "
      ],
      "text/plain": [
       "<IPython.core.display.HTML object>"
      ]
     },
     "metadata": {},
     "output_type": "display_data"
    },
    {
     "data": {
      "text/html": [
       "\n",
       "        <div id=\"e4FBzkXdWAWU7WpiowHzbm\"></div>\n",
       "        <script>netpixi.call('e4FBzkXdWAWU7WpiowHzbm', 'TzosTQQKafi7kP6xic5Mh6', 'changeGraph', 'eyJpZCI6IDEsICJ0eXBlIjogInZlcnRleCIsICJwcm9wcyI6IHsiY29sb3IiOiA2NTI4MH19Cg==');</script>\n",
       "    "
      ],
      "text/plain": [
       "<IPython.core.display.HTML object>"
      ]
     },
     "metadata": {},
     "output_type": "display_data"
    },
    {
     "data": {
      "text/html": [
       "\n",
       "        <div id=\"H7ZrNqDPxb2GwAAUxe93Rb\"></div>\n",
       "        <script>netpixi.call('H7ZrNqDPxb2GwAAUxe93Rb', 'TzosTQQKafi7kP6xic5Mh6', 'changeGraph', 'eyJpZCI6IDIsICJ0eXBlIjogInZlcnRleCIsICJwcm9wcyI6IHsiY29sb3IiOiA2NTI4MH19Cg==');</script>\n",
       "    "
      ],
      "text/plain": [
       "<IPython.core.display.HTML object>"
      ]
     },
     "metadata": {},
     "output_type": "display_data"
    },
    {
     "data": {
      "text/html": [
       "\n",
       "        <div id=\"69of44NXbtaPDVYUpiUiNT\"></div>\n",
       "        <script>netpixi.call('69of44NXbtaPDVYUpiUiNT', 'TzosTQQKafi7kP6xic5Mh6', 'changeGraph', 'eyJpZCI6IDMsICJ0eXBlIjogInZlcnRleCIsICJwcm9wcyI6IHsiY29sb3IiOiA2NTI4MH19Cg==');</script>\n",
       "    "
      ],
      "text/plain": [
       "<IPython.core.display.HTML object>"
      ]
     },
     "metadata": {},
     "output_type": "display_data"
    },
    {
     "data": {
      "text/html": [
       "\n",
       "        <div id=\"DGBe9v67Rye2d6kJJhaG5U\"></div>\n",
       "        <script>netpixi.call('DGBe9v67Rye2d6kJJhaG5U', 'TzosTQQKafi7kP6xic5Mh6', 'changeGraph', 'eyJpZCI6IDQsICJ0eXBlIjogInZlcnRleCIsICJwcm9wcyI6IHsiY29sb3IiOiAxNjcxMTY4MH19Cg==');</script>\n",
       "    "
      ],
      "text/plain": [
       "<IPython.core.display.HTML object>"
      ]
     },
     "metadata": {},
     "output_type": "display_data"
    },
    {
     "data": {
      "text/html": [
       "\n",
       "        <div id=\"XTLx7vvRQZ3Ux3HhjuwrGU\"></div>\n",
       "        <script>netpixi.call('XTLx7vvRQZ3Ux3HhjuwrGU', 'TzosTQQKafi7kP6xic5Mh6', 'changeGraph', 'eyJpZCI6IDUsICJ0eXBlIjogInZlcnRleCIsICJwcm9wcyI6IHsiY29sb3IiOiA2NTI4MH19Cg==');</script>\n",
       "    "
      ],
      "text/plain": [
       "<IPython.core.display.HTML object>"
      ]
     },
     "metadata": {},
     "output_type": "display_data"
    },
    {
     "data": {
      "text/html": [
       "\n",
       "        <div id=\"iF85n3dVbXnVxtBzzaHDwk\"></div>\n",
       "        <script>netpixi.call('iF85n3dVbXnVxtBzzaHDwk', 'TzosTQQKafi7kP6xic5Mh6', 'changeGraph', 'eyJpZCI6IDYsICJ0eXBlIjogInZlcnRleCIsICJwcm9wcyI6IHsiY29sb3IiOiA2NTI4MH19Cg==');</script>\n",
       "    "
      ],
      "text/plain": [
       "<IPython.core.display.HTML object>"
      ]
     },
     "metadata": {},
     "output_type": "display_data"
    },
    {
     "data": {
      "text/html": [
       "\n",
       "        <div id=\"R2NJR8oWmRJtSXgmAN8HWN\"></div>\n",
       "        <script>netpixi.call('R2NJR8oWmRJtSXgmAN8HWN', 'TzosTQQKafi7kP6xic5Mh6', 'changeGraph', 'eyJpZCI6IDcsICJ0eXBlIjogInZlcnRleCIsICJwcm9wcyI6IHsiY29sb3IiOiAxNjcxMTY4MH19Cg==');</script>\n",
       "    "
      ],
      "text/plain": [
       "<IPython.core.display.HTML object>"
      ]
     },
     "metadata": {},
     "output_type": "display_data"
    },
    {
     "data": {
      "text/html": [
       "\n",
       "        <div id=\"ByRGTVNAqnhA329TghsW7P\"></div>\n",
       "        <script>netpixi.call('ByRGTVNAqnhA329TghsW7P', 'TzosTQQKafi7kP6xic5Mh6', 'changeGraph', 'eyJpZCI6IDgsICJ0eXBlIjogInZlcnRleCIsICJwcm9wcyI6IHsiY29sb3IiOiA2NTI4MH19Cg==');</script>\n",
       "    "
      ],
      "text/plain": [
       "<IPython.core.display.HTML object>"
      ]
     },
     "metadata": {},
     "output_type": "display_data"
    },
    {
     "data": {
      "text/html": [
       "\n",
       "        <div id=\"CaZ9C5VGCt3a2JzKFswhwJ\"></div>\n",
       "        <script>netpixi.call('CaZ9C5VGCt3a2JzKFswhwJ', 'TzosTQQKafi7kP6xic5Mh6', 'changeGraph', 'eyJpZCI6IDksICJ0eXBlIjogInZlcnRleCIsICJwcm9wcyI6IHsiY29sb3IiOiAxNjcxMTY4MH19Cg==');</script>\n",
       "    "
      ],
      "text/plain": [
       "<IPython.core.display.HTML object>"
      ]
     },
     "metadata": {},
     "output_type": "display_data"
    },
    {
     "data": {
      "text/html": [
       "\n",
       "        <div id=\"kz5PdUvAUThsspBB8wz99t\"></div>\n",
       "        <script>netpixi.call('kz5PdUvAUThsspBB8wz99t', 'TzosTQQKafi7kP6xic5Mh6', 'changeGraph', 'eyJpZCI6IDEwLCAidHlwZSI6ICJ2ZXJ0ZXgiLCAicHJvcHMiOiB7ImNvbG9yIjogNjUyODB9fQo=');</script>\n",
       "    "
      ],
      "text/plain": [
       "<IPython.core.display.HTML object>"
      ]
     },
     "metadata": {},
     "output_type": "display_data"
    },
    {
     "data": {
      "text/html": [
       "\n",
       "        <div id=\"QcUbnZD3iymi33sPufBGZg\"></div>\n",
       "        <script>netpixi.call('QcUbnZD3iymi33sPufBGZg', 'TzosTQQKafi7kP6xic5Mh6', 'changeGraph', 'eyJpZCI6IDExLCAidHlwZSI6ICJ2ZXJ0ZXgiLCAicHJvcHMiOiB7ImNvbG9yIjogNjUyODB9fQo=');</script>\n",
       "    "
      ],
      "text/plain": [
       "<IPython.core.display.HTML object>"
      ]
     },
     "metadata": {},
     "output_type": "display_data"
    },
    {
     "data": {
      "text/html": [
       "\n",
       "        <div id=\"egkKkvC8MqvaaHMuY7wM9H\"></div>\n",
       "        <script>netpixi.call('egkKkvC8MqvaaHMuY7wM9H', 'TzosTQQKafi7kP6xic5Mh6', 'changeGraph', 'eyJpZCI6IDEyLCAidHlwZSI6ICJ2ZXJ0ZXgiLCAicHJvcHMiOiB7ImNvbG9yIjogMTY3MTE2ODB9fQo=');</script>\n",
       "    "
      ],
      "text/plain": [
       "<IPython.core.display.HTML object>"
      ]
     },
     "metadata": {},
     "output_type": "display_data"
    },
    {
     "data": {
      "text/html": [
       "\n",
       "        <div id=\"BL2jgiAv3TTE5fcTyYzeZW\"></div>\n",
       "        <script>netpixi.call('BL2jgiAv3TTE5fcTyYzeZW', 'TzosTQQKafi7kP6xic5Mh6', 'changeGraph', 'eyJpZCI6IDEzLCAidHlwZSI6ICJ2ZXJ0ZXgiLCAicHJvcHMiOiB7ImNvbG9yIjogMTY3MTE2ODB9fQo=');</script>\n",
       "    "
      ],
      "text/plain": [
       "<IPython.core.display.HTML object>"
      ]
     },
     "metadata": {},
     "output_type": "display_data"
    },
    {
     "data": {
      "text/html": [
       "\n",
       "        <div id=\"PBUwKBwA487PSLqci3yxYT\"></div>\n",
       "        <script>netpixi.call('PBUwKBwA487PSLqci3yxYT', 'TzosTQQKafi7kP6xic5Mh6', 'changeGraph', 'eyJpZCI6IDE0LCAidHlwZSI6ICJ2ZXJ0ZXgiLCAicHJvcHMiOiB7ImNvbG9yIjogNjUyODB9fQo=');</script>\n",
       "    "
      ],
      "text/plain": [
       "<IPython.core.display.HTML object>"
      ]
     },
     "metadata": {},
     "output_type": "display_data"
    },
    {
     "data": {
      "text/html": [
       "\n",
       "        <div id=\"Nwey8dTyViwWcrjDpqpPv9\"></div>\n",
       "        <script>netpixi.call('Nwey8dTyViwWcrjDpqpPv9', 'TzosTQQKafi7kP6xic5Mh6', 'changeGraph', 'eyJpZCI6IDE1LCAidHlwZSI6ICJ2ZXJ0ZXgiLCAicHJvcHMiOiB7ImNvbG9yIjogNjUyODB9fQo=');</script>\n",
       "    "
      ],
      "text/plain": [
       "<IPython.core.display.HTML object>"
      ]
     },
     "metadata": {},
     "output_type": "display_data"
    },
    {
     "data": {
      "text/html": [
       "\n",
       "        <div id=\"FYC4qSZ8tKhAEyQNXzcwe5\"></div>\n",
       "        <script>netpixi.call('FYC4qSZ8tKhAEyQNXzcwe5', 'TzosTQQKafi7kP6xic5Mh6', 'changeGraph', 'eyJpZCI6IDE2LCAidHlwZSI6ICJ2ZXJ0ZXgiLCAicHJvcHMiOiB7ImNvbG9yIjogMTY3MTE2ODB9fQo=');</script>\n",
       "    "
      ],
      "text/plain": [
       "<IPython.core.display.HTML object>"
      ]
     },
     "metadata": {},
     "output_type": "display_data"
    },
    {
     "data": {
      "text/html": [
       "\n",
       "        <div id=\"mBMnMeGdMiywhmhQbJeHM6\"></div>\n",
       "        <script>netpixi.call('mBMnMeGdMiywhmhQbJeHM6', 'TzosTQQKafi7kP6xic5Mh6', 'changeGraph', 'eyJpZCI6IDE3LCAidHlwZSI6ICJ2ZXJ0ZXgiLCAicHJvcHMiOiB7ImNvbG9yIjogNjUyODB9fQo=');</script>\n",
       "    "
      ],
      "text/plain": [
       "<IPython.core.display.HTML object>"
      ]
     },
     "metadata": {},
     "output_type": "display_data"
    },
    {
     "data": {
      "text/html": [
       "\n",
       "        <div id=\"QBSSDow6CobLYUuSAVEKdm\"></div>\n",
       "        <script>netpixi.call('QBSSDow6CobLYUuSAVEKdm', 'TzosTQQKafi7kP6xic5Mh6', 'changeGraph', 'eyJpZCI6IDE4LCAidHlwZSI6ICJ2ZXJ0ZXgiLCAicHJvcHMiOiB7ImNvbG9yIjogMTY3MTE2ODB9fQo=');</script>\n",
       "    "
      ],
      "text/plain": [
       "<IPython.core.display.HTML object>"
      ]
     },
     "metadata": {},
     "output_type": "display_data"
    },
    {
     "data": {
      "text/html": [
       "\n",
       "        <div id=\"Ex2eX5kGjjHH8XBgpZeN7h\"></div>\n",
       "        <script>netpixi.call('Ex2eX5kGjjHH8XBgpZeN7h', 'TzosTQQKafi7kP6xic5Mh6', 'changeGraph', 'eyJpZCI6IDE5LCAidHlwZSI6ICJ2ZXJ0ZXgiLCAicHJvcHMiOiB7ImNvbG9yIjogMTY3MTE2ODB9fQo=');</script>\n",
       "    "
      ],
      "text/plain": [
       "<IPython.core.display.HTML object>"
      ]
     },
     "metadata": {},
     "output_type": "display_data"
    },
    {
     "data": {
      "text/html": [
       "\n",
       "        <div id=\"drm9o5gf2qNpTscKYDETes\"></div>\n",
       "        <script>netpixi.call('drm9o5gf2qNpTscKYDETes', 'TzosTQQKafi7kP6xic5Mh6', 'changeGraph', 'eyJpZCI6IDIwLCAidHlwZSI6ICJ2ZXJ0ZXgiLCAicHJvcHMiOiB7ImNvbG9yIjogNjUyODB9fQo=');</script>\n",
       "    "
      ],
      "text/plain": [
       "<IPython.core.display.HTML object>"
      ]
     },
     "metadata": {},
     "output_type": "display_data"
    },
    {
     "data": {
      "text/html": [
       "\n",
       "        <div id=\"XiLGqqQ25Q7eLDZQXtRK6L\"></div>\n",
       "        <script>netpixi.call('XiLGqqQ25Q7eLDZQXtRK6L', 'TzosTQQKafi7kP6xic5Mh6', 'changeGraph', 'eyJpZCI6IDIxLCAidHlwZSI6ICJ2ZXJ0ZXgiLCAicHJvcHMiOiB7ImNvbG9yIjogMTY3MTE2ODB9fQo=');</script>\n",
       "    "
      ],
      "text/plain": [
       "<IPython.core.display.HTML object>"
      ]
     },
     "metadata": {},
     "output_type": "display_data"
    },
    {
     "data": {
      "text/html": [
       "\n",
       "        <div id=\"UhexKwMoUqbKWxMxawDDXA\"></div>\n",
       "        <script>netpixi.call('UhexKwMoUqbKWxMxawDDXA', 'TzosTQQKafi7kP6xic5Mh6', 'changeGraph', 'eyJpZCI6IDIyLCAidHlwZSI6ICJ2ZXJ0ZXgiLCAicHJvcHMiOiB7ImNvbG9yIjogMTY3MTE2ODB9fQo=');</script>\n",
       "    "
      ],
      "text/plain": [
       "<IPython.core.display.HTML object>"
      ]
     },
     "metadata": {},
     "output_type": "display_data"
    },
    {
     "data": {
      "text/html": [
       "\n",
       "        <div id=\"h2xdjbNxo5mHuzxumADGKC\"></div>\n",
       "        <script>netpixi.call('h2xdjbNxo5mHuzxumADGKC', 'TzosTQQKafi7kP6xic5Mh6', 'changeGraph', 'eyJpZCI6IDIzLCAidHlwZSI6ICJ2ZXJ0ZXgiLCAicHJvcHMiOiB7ImNvbG9yIjogNjUyODB9fQo=');</script>\n",
       "    "
      ],
      "text/plain": [
       "<IPython.core.display.HTML object>"
      ]
     },
     "metadata": {},
     "output_type": "display_data"
    },
    {
     "data": {
      "text/html": [
       "\n",
       "        <div id=\"HYmTEHGsWA4Cf9eZvJK6Ki\"></div>\n",
       "        <script>netpixi.call('HYmTEHGsWA4Cf9eZvJK6Ki', 'TzosTQQKafi7kP6xic5Mh6', 'changeGraph', 'eyJpZCI6IDI0LCAidHlwZSI6ICJ2ZXJ0ZXgiLCAicHJvcHMiOiB7ImNvbG9yIjogMTY3MTE2ODB9fQo=');</script>\n",
       "    "
      ],
      "text/plain": [
       "<IPython.core.display.HTML object>"
      ]
     },
     "metadata": {},
     "output_type": "display_data"
    },
    {
     "data": {
      "text/html": [
       "\n",
       "        <div id=\"HhCDxH3xtpTKUe969evYg5\"></div>\n",
       "        <script>netpixi.call('HhCDxH3xtpTKUe969evYg5', 'TzosTQQKafi7kP6xic5Mh6', 'changeGraph', 'eyJpZCI6IDI1LCAidHlwZSI6ICJ2ZXJ0ZXgiLCAicHJvcHMiOiB7ImNvbG9yIjogNjUyODB9fQo=');</script>\n",
       "    "
      ],
      "text/plain": [
       "<IPython.core.display.HTML object>"
      ]
     },
     "metadata": {},
     "output_type": "display_data"
    },
    {
     "data": {
      "text/html": [
       "\n",
       "        <div id=\"5QA3AyUXzCuYrF4CVip9yf\"></div>\n",
       "        <script>netpixi.call('5QA3AyUXzCuYrF4CVip9yf', 'TzosTQQKafi7kP6xic5Mh6', 'changeGraph', 'eyJpZCI6IDI2LCAidHlwZSI6ICJ2ZXJ0ZXgiLCAicHJvcHMiOiB7ImNvbG9yIjogMTY3MTE2ODB9fQo=');</script>\n",
       "    "
      ],
      "text/plain": [
       "<IPython.core.display.HTML object>"
      ]
     },
     "metadata": {},
     "output_type": "display_data"
    },
    {
     "data": {
      "text/html": [
       "\n",
       "        <div id=\"CE5MDxTfozk9y4HiZnSJ5b\"></div>\n",
       "        <script>netpixi.call('CE5MDxTfozk9y4HiZnSJ5b', 'TzosTQQKafi7kP6xic5Mh6', 'changeGraph', 'eyJpZCI6IDI3LCAidHlwZSI6ICJ2ZXJ0ZXgiLCAicHJvcHMiOiB7ImNvbG9yIjogMTY3MTE2ODB9fQo=');</script>\n",
       "    "
      ],
      "text/plain": [
       "<IPython.core.display.HTML object>"
      ]
     },
     "metadata": {},
     "output_type": "display_data"
    },
    {
     "data": {
      "text/html": [
       "\n",
       "        <div id=\"D4WXSdXadCZeYRyXoJPPDR\"></div>\n",
       "        <script>netpixi.call('D4WXSdXadCZeYRyXoJPPDR', 'TzosTQQKafi7kP6xic5Mh6', 'changeGraph', 'eyJpZCI6IDI4LCAidHlwZSI6ICJ2ZXJ0ZXgiLCAicHJvcHMiOiB7ImNvbG9yIjogMTY3MTE2ODB9fQo=');</script>\n",
       "    "
      ],
      "text/plain": [
       "<IPython.core.display.HTML object>"
      ]
     },
     "metadata": {},
     "output_type": "display_data"
    },
    {
     "data": {
      "text/html": [
       "\n",
       "        <div id=\"MYJdHMRzRVA4YBUUGpSuCB\"></div>\n",
       "        <script>netpixi.call('MYJdHMRzRVA4YBUUGpSuCB', 'TzosTQQKafi7kP6xic5Mh6', 'changeGraph', 'eyJpZCI6IDI5LCAidHlwZSI6ICJ2ZXJ0ZXgiLCAicHJvcHMiOiB7ImNvbG9yIjogMTY3MTE2ODB9fQo=');</script>\n",
       "    "
      ],
      "text/plain": [
       "<IPython.core.display.HTML object>"
      ]
     },
     "metadata": {},
     "output_type": "display_data"
    },
    {
     "data": {
      "text/html": [
       "\n",
       "        <div id=\"fK8GpyCAXdYChv7vG3RSgv\"></div>\n",
       "        <script>netpixi.call('fK8GpyCAXdYChv7vG3RSgv', 'TzosTQQKafi7kP6xic5Mh6', 'changeGraph', 'eyJpZCI6IDMwLCAidHlwZSI6ICJ2ZXJ0ZXgiLCAicHJvcHMiOiB7ImNvbG9yIjogMTY3MTE2ODB9fQo=');</script>\n",
       "    "
      ],
      "text/plain": [
       "<IPython.core.display.HTML object>"
      ]
     },
     "metadata": {},
     "output_type": "display_data"
    },
    {
     "data": {
      "text/html": [
       "\n",
       "        <div id=\"Cv8mXCEyqHDGNaP6k6CGvt\"></div>\n",
       "        <script>netpixi.call('Cv8mXCEyqHDGNaP6k6CGvt', 'TzosTQQKafi7kP6xic5Mh6', 'changeGraph', 'eyJpZCI6IDMxLCAidHlwZSI6ICJ2ZXJ0ZXgiLCAicHJvcHMiOiB7ImNvbG9yIjogMTY3MTE2ODB9fQo=');</script>\n",
       "    "
      ],
      "text/plain": [
       "<IPython.core.display.HTML object>"
      ]
     },
     "metadata": {},
     "output_type": "display_data"
    },
    {
     "data": {
      "text/html": [
       "\n",
       "        <div id=\"WnG3FLWxgp4ueKvQFUE9Xt\"></div>\n",
       "        <script>netpixi.call('WnG3FLWxgp4ueKvQFUE9Xt', 'TzosTQQKafi7kP6xic5Mh6', 'changeGraph', 'eyJpZCI6IDMyLCAidHlwZSI6ICJ2ZXJ0ZXgiLCAicHJvcHMiOiB7ImNvbG9yIjogNjUyODB9fQo=');</script>\n",
       "    "
      ],
      "text/plain": [
       "<IPython.core.display.HTML object>"
      ]
     },
     "metadata": {},
     "output_type": "display_data"
    },
    {
     "data": {
      "text/html": [
       "\n",
       "        <div id=\"knr8p59afWBRhkNnpC5VGz\"></div>\n",
       "        <script>netpixi.call('knr8p59afWBRhkNnpC5VGz', 'TzosTQQKafi7kP6xic5Mh6', 'changeGraph', 'eyJpZCI6IDMzLCAidHlwZSI6ICJ2ZXJ0ZXgiLCAicHJvcHMiOiB7ImNvbG9yIjogMTY3MTE2ODB9fQo=');</script>\n",
       "    "
      ],
      "text/plain": [
       "<IPython.core.display.HTML object>"
      ]
     },
     "metadata": {},
     "output_type": "display_data"
    },
    {
     "data": {
      "text/html": [
       "\n",
       "        <div id=\"dLCvqA7hoiL45Xof6HF9bw\"></div>\n",
       "        <script>netpixi.call('dLCvqA7hoiL45Xof6HF9bw', 'TzosTQQKafi7kP6xic5Mh6', 'changeGraph', 'eyJpZCI6IDM0LCAidHlwZSI6ICJ2ZXJ0ZXgiLCAicHJvcHMiOiB7ImNvbG9yIjogMTY3MTE2ODB9fQo=');</script>\n",
       "    "
      ],
      "text/plain": [
       "<IPython.core.display.HTML object>"
      ]
     },
     "metadata": {},
     "output_type": "display_data"
    },
    {
     "data": {
      "text/html": [
       "\n",
       "        <div id=\"eqdTM5yLP3ybfEADadPEgr\"></div>\n",
       "        <script>netpixi.call('eqdTM5yLP3ybfEADadPEgr', 'TzosTQQKafi7kP6xic5Mh6', 'changeGraph', 'eyJpZCI6IDM1LCAidHlwZSI6ICJ2ZXJ0ZXgiLCAicHJvcHMiOiB7ImNvbG9yIjogMTY3MTE2ODB9fQo=');</script>\n",
       "    "
      ],
      "text/plain": [
       "<IPython.core.display.HTML object>"
      ]
     },
     "metadata": {},
     "output_type": "display_data"
    },
    {
     "data": {
      "text/html": [
       "\n",
       "        <div id=\"ggMpdpynGpJVDJxw4CW9hS\"></div>\n",
       "        <script>netpixi.call('ggMpdpynGpJVDJxw4CW9hS', 'TzosTQQKafi7kP6xic5Mh6', 'changeGraph', 'eyJpZCI6IDM2LCAidHlwZSI6ICJ2ZXJ0ZXgiLCAicHJvcHMiOiB7ImNvbG9yIjogNjUyODB9fQo=');</script>\n",
       "    "
      ],
      "text/plain": [
       "<IPython.core.display.HTML object>"
      ]
     },
     "metadata": {},
     "output_type": "display_data"
    },
    {
     "data": {
      "text/html": [
       "\n",
       "        <div id=\"gr8nnWGFmGqnUX2HUxNfJg\"></div>\n",
       "        <script>netpixi.call('gr8nnWGFmGqnUX2HUxNfJg', 'TzosTQQKafi7kP6xic5Mh6', 'changeGraph', 'eyJpZCI6IDM3LCAidHlwZSI6ICJ2ZXJ0ZXgiLCAicHJvcHMiOiB7ImNvbG9yIjogMTY3MTE2ODB9fQo=');</script>\n",
       "    "
      ],
      "text/plain": [
       "<IPython.core.display.HTML object>"
      ]
     },
     "metadata": {},
     "output_type": "display_data"
    },
    {
     "data": {
      "text/html": [
       "\n",
       "        <div id=\"a7yykghvZVKu9jZBMDN4wr\"></div>\n",
       "        <script>netpixi.call('a7yykghvZVKu9jZBMDN4wr', 'TzosTQQKafi7kP6xic5Mh6', 'changeGraph', 'eyJpZCI6IDM4LCAidHlwZSI6ICJ2ZXJ0ZXgiLCAicHJvcHMiOiB7ImNvbG9yIjogMTY3MTE2ODB9fQo=');</script>\n",
       "    "
      ],
      "text/plain": [
       "<IPython.core.display.HTML object>"
      ]
     },
     "metadata": {},
     "output_type": "display_data"
    },
    {
     "data": {
      "text/html": [
       "\n",
       "        <div id=\"fXt2PmjWG2zYWKgvRWLdHK\"></div>\n",
       "        <script>netpixi.call('fXt2PmjWG2zYWKgvRWLdHK', 'TzosTQQKafi7kP6xic5Mh6', 'changeGraph', 'eyJpZCI6IDM5LCAidHlwZSI6ICJ2ZXJ0ZXgiLCAicHJvcHMiOiB7ImNvbG9yIjogNjUyODB9fQo=');</script>\n",
       "    "
      ],
      "text/plain": [
       "<IPython.core.display.HTML object>"
      ]
     },
     "metadata": {},
     "output_type": "display_data"
    },
    {
     "data": {
      "text/html": [
       "\n",
       "        <div id=\"iNhrQ7yDwXzzcVTFWnNsT8\"></div>\n",
       "        <script>netpixi.call('iNhrQ7yDwXzzcVTFWnNsT8', 'TzosTQQKafi7kP6xic5Mh6', 'changeGraph', 'eyJpZCI6IDQwLCAidHlwZSI6ICJ2ZXJ0ZXgiLCAicHJvcHMiOiB7ImNvbG9yIjogNjUyODB9fQo=');</script>\n",
       "    "
      ],
      "text/plain": [
       "<IPython.core.display.HTML object>"
      ]
     },
     "metadata": {},
     "output_type": "display_data"
    },
    {
     "data": {
      "text/html": [
       "\n",
       "        <div id=\"TCfGGvAZJEX7KdHa5vKsBY\"></div>\n",
       "        <script>netpixi.call('TCfGGvAZJEX7KdHa5vKsBY', 'TzosTQQKafi7kP6xic5Mh6', 'changeGraph', 'eyJpZCI6IDQxLCAidHlwZSI6ICJ2ZXJ0ZXgiLCAicHJvcHMiOiB7ImNvbG9yIjogNjUyODB9fQo=');</script>\n",
       "    "
      ],
      "text/plain": [
       "<IPython.core.display.HTML object>"
      ]
     },
     "metadata": {},
     "output_type": "display_data"
    },
    {
     "data": {
      "text/html": [
       "\n",
       "        <div id=\"AiVR9VfSKDCzVAysNjeHyv\"></div>\n",
       "        <script>netpixi.call('AiVR9VfSKDCzVAysNjeHyv', 'TzosTQQKafi7kP6xic5Mh6', 'changeGraph', 'eyJpZCI6IDQyLCAidHlwZSI6ICJ2ZXJ0ZXgiLCAicHJvcHMiOiB7ImNvbG9yIjogNjUyODB9fQo=');</script>\n",
       "    "
      ],
      "text/plain": [
       "<IPython.core.display.HTML object>"
      ]
     },
     "metadata": {},
     "output_type": "display_data"
    },
    {
     "data": {
      "text/html": [
       "\n",
       "        <div id=\"SmWC9qTDJFsnx6R2am4G9x\"></div>\n",
       "        <script>netpixi.call('SmWC9qTDJFsnx6R2am4G9x', 'TzosTQQKafi7kP6xic5Mh6', 'changeGraph', 'eyJpZCI6IDQzLCAidHlwZSI6ICJ2ZXJ0ZXgiLCAicHJvcHMiOiB7ImNvbG9yIjogNjUyODB9fQo=');</script>\n",
       "    "
      ],
      "text/plain": [
       "<IPython.core.display.HTML object>"
      ]
     },
     "metadata": {},
     "output_type": "display_data"
    },
    {
     "data": {
      "text/html": [
       "\n",
       "        <div id=\"kSiM29SwkWDpn9m7XbwvQm\"></div>\n",
       "        <script>netpixi.call('kSiM29SwkWDpn9m7XbwvQm', 'TzosTQQKafi7kP6xic5Mh6', 'changeGraph', 'eyJpZCI6IDQ0LCAidHlwZSI6ICJ2ZXJ0ZXgiLCAicHJvcHMiOiB7ImNvbG9yIjogNjUyODB9fQo=');</script>\n",
       "    "
      ],
      "text/plain": [
       "<IPython.core.display.HTML object>"
      ]
     },
     "metadata": {},
     "output_type": "display_data"
    },
    {
     "data": {
      "text/html": [
       "\n",
       "        <div id=\"kLxBBFYLpCL7ot3Sg8sH3L\"></div>\n",
       "        <script>netpixi.call('kLxBBFYLpCL7ot3Sg8sH3L', 'TzosTQQKafi7kP6xic5Mh6', 'changeGraph', 'eyJpZCI6IDQ1LCAidHlwZSI6ICJ2ZXJ0ZXgiLCAicHJvcHMiOiB7ImNvbG9yIjogMTY3MTE2ODB9fQo=');</script>\n",
       "    "
      ],
      "text/plain": [
       "<IPython.core.display.HTML object>"
      ]
     },
     "metadata": {},
     "output_type": "display_data"
    },
    {
     "data": {
      "text/html": [
       "\n",
       "        <div id=\"m4dMK3khb4pMySQBjbja5F\"></div>\n",
       "        <script>netpixi.call('m4dMK3khb4pMySQBjbja5F', 'TzosTQQKafi7kP6xic5Mh6', 'changeGraph', 'eyJpZCI6IDQ2LCAidHlwZSI6ICJ2ZXJ0ZXgiLCAicHJvcHMiOiB7ImNvbG9yIjogNjUyODB9fQo=');</script>\n",
       "    "
      ],
      "text/plain": [
       "<IPython.core.display.HTML object>"
      ]
     },
     "metadata": {},
     "output_type": "display_data"
    },
    {
     "data": {
      "text/html": [
       "\n",
       "        <div id=\"Jnag5L5BeU3M3YC4wCWUhn\"></div>\n",
       "        <script>netpixi.call('Jnag5L5BeU3M3YC4wCWUhn', 'TzosTQQKafi7kP6xic5Mh6', 'changeGraph', 'eyJpZCI6IDQ3LCAidHlwZSI6ICJ2ZXJ0ZXgiLCAicHJvcHMiOiB7ImNvbG9yIjogMTY3MTE2ODB9fQo=');</script>\n",
       "    "
      ],
      "text/plain": [
       "<IPython.core.display.HTML object>"
      ]
     },
     "metadata": {},
     "output_type": "display_data"
    },
    {
     "data": {
      "text/html": [
       "\n",
       "        <div id=\"JBhiN9YKfEaEKLRNnNsrGj\"></div>\n",
       "        <script>netpixi.call('JBhiN9YKfEaEKLRNnNsrGj', 'TzosTQQKafi7kP6xic5Mh6', 'changeGraph', 'eyJpZCI6IDQ4LCAidHlwZSI6ICJ2ZXJ0ZXgiLCAicHJvcHMiOiB7ImNvbG9yIjogNjUyODB9fQo=');</script>\n",
       "    "
      ],
      "text/plain": [
       "<IPython.core.display.HTML object>"
      ]
     },
     "metadata": {},
     "output_type": "display_data"
    },
    {
     "data": {
      "text/html": [
       "\n",
       "        <div id=\"iAWTLqkkynPPyahJmTdCTP\"></div>\n",
       "        <script>netpixi.call('iAWTLqkkynPPyahJmTdCTP', 'TzosTQQKafi7kP6xic5Mh6', 'changeGraph', 'eyJpZCI6IDQ5LCAidHlwZSI6ICJ2ZXJ0ZXgiLCAicHJvcHMiOiB7ImNvbG9yIjogMTY3MTE2ODB9fQo=');</script>\n",
       "    "
      ],
      "text/plain": [
       "<IPython.core.display.HTML object>"
      ]
     },
     "metadata": {},
     "output_type": "display_data"
    },
    {
     "data": {
      "text/html": [
       "\n",
       "        <div id=\"HeLaLYvdxMjNC9Puu2EoYR\"></div>\n",
       "        <script>netpixi.call('HeLaLYvdxMjNC9Puu2EoYR', 'TzosTQQKafi7kP6xic5Mh6', 'changeGraph', 'eyJpZCI6IDUwLCAidHlwZSI6ICJ2ZXJ0ZXgiLCAicHJvcHMiOiB7ImNvbG9yIjogNjUyODB9fQo=');</script>\n",
       "    "
      ],
      "text/plain": [
       "<IPython.core.display.HTML object>"
      ]
     },
     "metadata": {},
     "output_type": "display_data"
    },
    {
     "data": {
      "text/html": [
       "\n",
       "        <div id=\"BNTsr5zd3hmTWof279bL23\"></div>\n",
       "        <script>netpixi.call('BNTsr5zd3hmTWof279bL23', 'TzosTQQKafi7kP6xic5Mh6', 'changeGraph', 'eyJpZCI6IDUxLCAidHlwZSI6ICJ2ZXJ0ZXgiLCAicHJvcHMiOiB7ImNvbG9yIjogMTY3MTE2ODB9fQo=');</script>\n",
       "    "
      ],
      "text/plain": [
       "<IPython.core.display.HTML object>"
      ]
     },
     "metadata": {},
     "output_type": "display_data"
    },
    {
     "data": {
      "text/html": [
       "\n",
       "        <div id=\"mDJzkXfos4uWtkaxiavNsS\"></div>\n",
       "        <script>netpixi.call('mDJzkXfos4uWtkaxiavNsS', 'TzosTQQKafi7kP6xic5Mh6', 'changeGraph', 'eyJpZCI6IDUyLCAidHlwZSI6ICJ2ZXJ0ZXgiLCAicHJvcHMiOiB7ImNvbG9yIjogNjUyODB9fQo=');</script>\n",
       "    "
      ],
      "text/plain": [
       "<IPython.core.display.HTML object>"
      ]
     },
     "metadata": {},
     "output_type": "display_data"
    },
    {
     "data": {
      "text/html": [
       "\n",
       "        <div id=\"PPRSPgamQzUmFmtJv8s464\"></div>\n",
       "        <script>netpixi.call('PPRSPgamQzUmFmtJv8s464', 'TzosTQQKafi7kP6xic5Mh6', 'changeGraph', 'eyJpZCI6IDUzLCAidHlwZSI6ICJ2ZXJ0ZXgiLCAicHJvcHMiOiB7ImNvbG9yIjogNjUyODB9fQo=');</script>\n",
       "    "
      ],
      "text/plain": [
       "<IPython.core.display.HTML object>"
      ]
     },
     "metadata": {},
     "output_type": "display_data"
    },
    {
     "data": {
      "text/html": [
       "\n",
       "        <div id=\"cfwEmDYuqiQfNvm9PiKnqk\"></div>\n",
       "        <script>netpixi.call('cfwEmDYuqiQfNvm9PiKnqk', 'TzosTQQKafi7kP6xic5Mh6', 'changeGraph', 'eyJpZCI6IDU0LCAidHlwZSI6ICJ2ZXJ0ZXgiLCAicHJvcHMiOiB7ImNvbG9yIjogMTY3MTE2ODB9fQo=');</script>\n",
       "    "
      ],
      "text/plain": [
       "<IPython.core.display.HTML object>"
      ]
     },
     "metadata": {},
     "output_type": "display_data"
    },
    {
     "data": {
      "text/html": [
       "\n",
       "        <div id=\"B3YADbF5qBDqFrHKvqD4bV\"></div>\n",
       "        <script>netpixi.call('B3YADbF5qBDqFrHKvqD4bV', 'TzosTQQKafi7kP6xic5Mh6', 'changeGraph', 'eyJpZCI6IDU1LCAidHlwZSI6ICJ2ZXJ0ZXgiLCAicHJvcHMiOiB7ImNvbG9yIjogNjUyODB9fQo=');</script>\n",
       "    "
      ],
      "text/plain": [
       "<IPython.core.display.HTML object>"
      ]
     },
     "metadata": {},
     "output_type": "display_data"
    },
    {
     "data": {
      "text/html": [
       "\n",
       "        <div id=\"Grb6tndCoFgveXQBng6CiM\"></div>\n",
       "        <script>netpixi.call('Grb6tndCoFgveXQBng6CiM', 'TzosTQQKafi7kP6xic5Mh6', 'changeGraph', 'eyJpZCI6IDU2LCAidHlwZSI6ICJ2ZXJ0ZXgiLCAicHJvcHMiOiB7ImNvbG9yIjogNjUyODB9fQo=');</script>\n",
       "    "
      ],
      "text/plain": [
       "<IPython.core.display.HTML object>"
      ]
     },
     "metadata": {},
     "output_type": "display_data"
    },
    {
     "data": {
      "text/html": [
       "\n",
       "        <div id=\"iZKwPiSX3Eb6pu8VkRQ7jc\"></div>\n",
       "        <script>netpixi.call('iZKwPiSX3Eb6pu8VkRQ7jc', 'TzosTQQKafi7kP6xic5Mh6', 'changeGraph', 'eyJpZCI6IDU3LCAidHlwZSI6ICJ2ZXJ0ZXgiLCAicHJvcHMiOiB7ImNvbG9yIjogNjUyODB9fQo=');</script>\n",
       "    "
      ],
      "text/plain": [
       "<IPython.core.display.HTML object>"
      ]
     },
     "metadata": {},
     "output_type": "display_data"
    },
    {
     "data": {
      "text/html": [
       "\n",
       "        <div id=\"eMB9uNfSDTCDEnty4bYoUe\"></div>\n",
       "        <script>netpixi.call('eMB9uNfSDTCDEnty4bYoUe', 'TzosTQQKafi7kP6xic5Mh6', 'changeGraph', 'eyJpZCI6IDU4LCAidHlwZSI6ICJ2ZXJ0ZXgiLCAicHJvcHMiOiB7ImNvbG9yIjogMTY3MTE2ODB9fQo=');</script>\n",
       "    "
      ],
      "text/plain": [
       "<IPython.core.display.HTML object>"
      ]
     },
     "metadata": {},
     "output_type": "display_data"
    },
    {
     "data": {
      "text/html": [
       "\n",
       "        <div id=\"bKqJmPZY36rBpJRjVSRcBR\"></div>\n",
       "        <script>netpixi.call('bKqJmPZY36rBpJRjVSRcBR', 'TzosTQQKafi7kP6xic5Mh6', 'changeGraph', 'eyJpZCI6IDU5LCAidHlwZSI6ICJ2ZXJ0ZXgiLCAicHJvcHMiOiB7ImNvbG9yIjogNjUyODB9fQo=');</script>\n",
       "    "
      ],
      "text/plain": [
       "<IPython.core.display.HTML object>"
      ]
     },
     "metadata": {},
     "output_type": "display_data"
    },
    {
     "data": {
      "text/html": [
       "\n",
       "        <div id=\"oWkhqx73C7BCcxaspRy4if\"></div>\n",
       "        <script>netpixi.call('oWkhqx73C7BCcxaspRy4if', 'TzosTQQKafi7kP6xic5Mh6', 'changeGraph', 'eyJpZCI6IDYwLCAidHlwZSI6ICJ2ZXJ0ZXgiLCAicHJvcHMiOiB7ImNvbG9yIjogNjUyODB9fQo=');</script>\n",
       "    "
      ],
      "text/plain": [
       "<IPython.core.display.HTML object>"
      ]
     },
     "metadata": {},
     "output_type": "display_data"
    },
    {
     "data": {
      "text/html": [
       "\n",
       "        <div id=\"UzgYn7oswxyrCnSRY3wLVD\"></div>\n",
       "        <script>netpixi.call('UzgYn7oswxyrCnSRY3wLVD', 'TzosTQQKafi7kP6xic5Mh6', 'changeGraph', 'eyJpZCI6IDYxLCAidHlwZSI6ICJ2ZXJ0ZXgiLCAicHJvcHMiOiB7ImNvbG9yIjogMTY3MTE2ODB9fQo=');</script>\n",
       "    "
      ],
      "text/plain": [
       "<IPython.core.display.HTML object>"
      ]
     },
     "metadata": {},
     "output_type": "display_data"
    },
    {
     "data": {
      "text/html": [
       "\n",
       "        <div id=\"KYDKx8NdVkaNetTohBQ7YP\"></div>\n",
       "        <script>netpixi.call('KYDKx8NdVkaNetTohBQ7YP', 'TzosTQQKafi7kP6xic5Mh6', 'changeGraph', 'eyJpZCI6IDYyLCAidHlwZSI6ICJ2ZXJ0ZXgiLCAicHJvcHMiOiB7ImNvbG9yIjogMTY3MTE2ODB9fQo=');</script>\n",
       "    "
      ],
      "text/plain": [
       "<IPython.core.display.HTML object>"
      ]
     },
     "metadata": {},
     "output_type": "display_data"
    },
    {
     "data": {
      "text/html": [
       "\n",
       "        <div id=\"9uDDNACB3KMRbTx34L6Zqa\"></div>\n",
       "        <script>netpixi.call('9uDDNACB3KMRbTx34L6Zqa', 'TzosTQQKafi7kP6xic5Mh6', 'changeGraph', 'eyJpZCI6IDYzLCAidHlwZSI6ICJ2ZXJ0ZXgiLCAicHJvcHMiOiB7ImNvbG9yIjogNjUyODB9fQo=');</script>\n",
       "    "
      ],
      "text/plain": [
       "<IPython.core.display.HTML object>"
      ]
     },
     "metadata": {},
     "output_type": "display_data"
    },
    {
     "data": {
      "text/html": [
       "\n",
       "        <div id=\"jAtYaJ2gboy8n8zdowTU3E\"></div>\n",
       "        <script>netpixi.call('jAtYaJ2gboy8n8zdowTU3E', 'TzosTQQKafi7kP6xic5Mh6', 'changeGraph', 'eyJpZCI6IDY0LCAidHlwZSI6ICJ2ZXJ0ZXgiLCAicHJvcHMiOiB7ImNvbG9yIjogNjUyODB9fQo=');</script>\n",
       "    "
      ],
      "text/plain": [
       "<IPython.core.display.HTML object>"
      ]
     },
     "metadata": {},
     "output_type": "display_data"
    },
    {
     "data": {
      "text/html": [
       "\n",
       "        <div id=\"ifNDKtYxSoDGWVfBEmcU48\"></div>\n",
       "        <script>netpixi.call('ifNDKtYxSoDGWVfBEmcU48', 'TzosTQQKafi7kP6xic5Mh6', 'changeGraph', 'eyJpZCI6IDY1LCAidHlwZSI6ICJ2ZXJ0ZXgiLCAicHJvcHMiOiB7ImNvbG9yIjogMTY3MTE2ODB9fQo=');</script>\n",
       "    "
      ],
      "text/plain": [
       "<IPython.core.display.HTML object>"
      ]
     },
     "metadata": {},
     "output_type": "display_data"
    },
    {
     "data": {
      "text/html": [
       "\n",
       "        <div id=\"mfteWMCZCXLKdjc9cUbxvz\"></div>\n",
       "        <script>netpixi.call('mfteWMCZCXLKdjc9cUbxvz', 'TzosTQQKafi7kP6xic5Mh6', 'changeGraph', 'eyJpZCI6IDY2LCAidHlwZSI6ICJ2ZXJ0ZXgiLCAicHJvcHMiOiB7ImNvbG9yIjogNjUyODB9fQo=');</script>\n",
       "    "
      ],
      "text/plain": [
       "<IPython.core.display.HTML object>"
      ]
     },
     "metadata": {},
     "output_type": "display_data"
    },
    {
     "data": {
      "text/html": [
       "\n",
       "        <div id=\"a3gqfQfg2ksrGN9J8b8n8L\"></div>\n",
       "        <script>netpixi.call('a3gqfQfg2ksrGN9J8b8n8L', 'TzosTQQKafi7kP6xic5Mh6', 'changeGraph', 'eyJpZCI6IDY3LCAidHlwZSI6ICJ2ZXJ0ZXgiLCAicHJvcHMiOiB7ImNvbG9yIjogMTY3MTE2ODB9fQo=');</script>\n",
       "    "
      ],
      "text/plain": [
       "<IPython.core.display.HTML object>"
      ]
     },
     "metadata": {},
     "output_type": "display_data"
    },
    {
     "data": {
      "text/html": [
       "\n",
       "        <div id=\"MHvQaiu7THVe3GSqU7owJT\"></div>\n",
       "        <script>netpixi.call('MHvQaiu7THVe3GSqU7owJT', 'TzosTQQKafi7kP6xic5Mh6', 'changeGraph', 'eyJpZCI6IDY4LCAidHlwZSI6ICJ2ZXJ0ZXgiLCAicHJvcHMiOiB7ImNvbG9yIjogNjUyODB9fQo=');</script>\n",
       "    "
      ],
      "text/plain": [
       "<IPython.core.display.HTML object>"
      ]
     },
     "metadata": {},
     "output_type": "display_data"
    },
    {
     "data": {
      "text/html": [
       "\n",
       "        <div id=\"nrX7fexnfbiUbDM2aNaWDA\"></div>\n",
       "        <script>netpixi.call('nrX7fexnfbiUbDM2aNaWDA', 'TzosTQQKafi7kP6xic5Mh6', 'changeGraph', 'eyJpZCI6IDY5LCAidHlwZSI6ICJ2ZXJ0ZXgiLCAicHJvcHMiOiB7ImNvbG9yIjogNjUyODB9fQo=');</script>\n",
       "    "
      ],
      "text/plain": [
       "<IPython.core.display.HTML object>"
      ]
     },
     "metadata": {},
     "output_type": "display_data"
    },
    {
     "data": {
      "text/html": [
       "\n",
       "        <div id=\"juc44DGPDrBYKwdnf3mLn7\"></div>\n",
       "        <script>netpixi.call('juc44DGPDrBYKwdnf3mLn7', 'TzosTQQKafi7kP6xic5Mh6', 'changeGraph', 'eyJpZCI6IDcwLCAidHlwZSI6ICJ2ZXJ0ZXgiLCAicHJvcHMiOiB7ImNvbG9yIjogNjUyODB9fQo=');</script>\n",
       "    "
      ],
      "text/plain": [
       "<IPython.core.display.HTML object>"
      ]
     },
     "metadata": {},
     "output_type": "display_data"
    },
    {
     "data": {
      "text/html": [
       "\n",
       "        <div id=\"jneR6VU5ZiTXfHKvZg2ycJ\"></div>\n",
       "        <script>netpixi.call('jneR6VU5ZiTXfHKvZg2ycJ', 'TzosTQQKafi7kP6xic5Mh6', 'changeGraph', 'eyJpZCI6IDcxLCAidHlwZSI6ICJ2ZXJ0ZXgiLCAicHJvcHMiOiB7ImNvbG9yIjogMTY3MTE2ODB9fQo=');</script>\n",
       "    "
      ],
      "text/plain": [
       "<IPython.core.display.HTML object>"
      ]
     },
     "metadata": {},
     "output_type": "display_data"
    },
    {
     "data": {
      "text/html": [
       "\n",
       "        <div id=\"dkz394WqjLd7s8rS22QARX\"></div>\n",
       "        <script>netpixi.call('dkz394WqjLd7s8rS22QARX', 'TzosTQQKafi7kP6xic5Mh6', 'changeGraph', 'eyJpZCI6IDcyLCAidHlwZSI6ICJ2ZXJ0ZXgiLCAicHJvcHMiOiB7ImNvbG9yIjogMTY3MTE2ODB9fQo=');</script>\n",
       "    "
      ],
      "text/plain": [
       "<IPython.core.display.HTML object>"
      ]
     },
     "metadata": {},
     "output_type": "display_data"
    },
    {
     "data": {
      "text/html": [
       "\n",
       "        <div id=\"jXiAKNRmFQxVpxSR9LVA2L\"></div>\n",
       "        <script>netpixi.call('jXiAKNRmFQxVpxSR9LVA2L', 'TzosTQQKafi7kP6xic5Mh6', 'changeGraph', 'eyJpZCI6IDczLCAidHlwZSI6ICJ2ZXJ0ZXgiLCAicHJvcHMiOiB7ImNvbG9yIjogMTY3MTE2ODB9fQo=');</script>\n",
       "    "
      ],
      "text/plain": [
       "<IPython.core.display.HTML object>"
      ]
     },
     "metadata": {},
     "output_type": "display_data"
    },
    {
     "data": {
      "text/html": [
       "\n",
       "        <div id=\"QJGwMqxqenMF3GN4dcF8kX\"></div>\n",
       "        <script>netpixi.call('QJGwMqxqenMF3GN4dcF8kX', 'TzosTQQKafi7kP6xic5Mh6', 'changeGraph', 'eyJpZCI6IDc0LCAidHlwZSI6ICJ2ZXJ0ZXgiLCAicHJvcHMiOiB7ImNvbG9yIjogNjUyODB9fQo=');</script>\n",
       "    "
      ],
      "text/plain": [
       "<IPython.core.display.HTML object>"
      ]
     },
     "metadata": {},
     "output_type": "display_data"
    },
    {
     "data": {
      "text/html": [
       "\n",
       "        <div id=\"4ZbhoFwhzNPyw6xJhptNE9\"></div>\n",
       "        <script>netpixi.call('4ZbhoFwhzNPyw6xJhptNE9', 'TzosTQQKafi7kP6xic5Mh6', 'changeGraph', 'eyJpZCI6IDc1LCAidHlwZSI6ICJ2ZXJ0ZXgiLCAicHJvcHMiOiB7ImNvbG9yIjogMTY3MTE2ODB9fQo=');</script>\n",
       "    "
      ],
      "text/plain": [
       "<IPython.core.display.HTML object>"
      ]
     },
     "metadata": {},
     "output_type": "display_data"
    },
    {
     "data": {
      "text/html": [
       "\n",
       "        <div id=\"NhVTrZezeAgq9dJmEQ8bbg\"></div>\n",
       "        <script>netpixi.call('NhVTrZezeAgq9dJmEQ8bbg', 'TzosTQQKafi7kP6xic5Mh6', 'changeGraph', 'eyJpZCI6IDc2LCAidHlwZSI6ICJ2ZXJ0ZXgiLCAicHJvcHMiOiB7ImNvbG9yIjogMTY3MTE2ODB9fQo=');</script>\n",
       "    "
      ],
      "text/plain": [
       "<IPython.core.display.HTML object>"
      ]
     },
     "metadata": {},
     "output_type": "display_data"
    },
    {
     "data": {
      "text/html": [
       "\n",
       "        <div id=\"Pu2J42WNX7Z6swNatnqdgd\"></div>\n",
       "        <script>netpixi.call('Pu2J42WNX7Z6swNatnqdgd', 'TzosTQQKafi7kP6xic5Mh6', 'changeGraph', 'eyJpZCI6IDc3LCAidHlwZSI6ICJ2ZXJ0ZXgiLCAicHJvcHMiOiB7ImNvbG9yIjogMTY3MTE2ODB9fQo=');</script>\n",
       "    "
      ],
      "text/plain": [
       "<IPython.core.display.HTML object>"
      ]
     },
     "metadata": {},
     "output_type": "display_data"
    },
    {
     "data": {
      "text/html": [
       "\n",
       "        <div id=\"mtd3VW44EgE8YSmSJgE8Ft\"></div>\n",
       "        <script>netpixi.call('mtd3VW44EgE8YSmSJgE8Ft', 'TzosTQQKafi7kP6xic5Mh6', 'changeGraph', 'eyJpZCI6IDc4LCAidHlwZSI6ICJ2ZXJ0ZXgiLCAicHJvcHMiOiB7ImNvbG9yIjogNjUyODB9fQo=');</script>\n",
       "    "
      ],
      "text/plain": [
       "<IPython.core.display.HTML object>"
      ]
     },
     "metadata": {},
     "output_type": "display_data"
    },
    {
     "data": {
      "text/html": [
       "\n",
       "        <div id=\"gsEQeaTyKWLoJtQLG7pkaJ\"></div>\n",
       "        <script>netpixi.call('gsEQeaTyKWLoJtQLG7pkaJ', 'TzosTQQKafi7kP6xic5Mh6', 'changeGraph', 'eyJpZCI6IDc5LCAidHlwZSI6ICJ2ZXJ0ZXgiLCAicHJvcHMiOiB7ImNvbG9yIjogMTY3MTE2ODB9fQo=');</script>\n",
       "    "
      ],
      "text/plain": [
       "<IPython.core.display.HTML object>"
      ]
     },
     "metadata": {},
     "output_type": "display_data"
    },
    {
     "data": {
      "text/html": [
       "\n",
       "        <div id=\"GuL7mDr7xHjsZkGmLfkcka\"></div>\n",
       "        <script>netpixi.call('GuL7mDr7xHjsZkGmLfkcka', 'TzosTQQKafi7kP6xic5Mh6', 'changeGraph', 'eyJpZCI6IDgwLCAidHlwZSI6ICJ2ZXJ0ZXgiLCAicHJvcHMiOiB7ImNvbG9yIjogMTY3MTE2ODB9fQo=');</script>\n",
       "    "
      ],
      "text/plain": [
       "<IPython.core.display.HTML object>"
      ]
     },
     "metadata": {},
     "output_type": "display_data"
    },
    {
     "data": {
      "text/html": [
       "\n",
       "        <div id=\"drHVUnW7gxbGVSQudSu6A6\"></div>\n",
       "        <script>netpixi.call('drHVUnW7gxbGVSQudSu6A6', 'TzosTQQKafi7kP6xic5Mh6', 'changeGraph', 'eyJpZCI6IDgxLCAidHlwZSI6ICJ2ZXJ0ZXgiLCAicHJvcHMiOiB7ImNvbG9yIjogNjUyODB9fQo=');</script>\n",
       "    "
      ],
      "text/plain": [
       "<IPython.core.display.HTML object>"
      ]
     },
     "metadata": {},
     "output_type": "display_data"
    },
    {
     "data": {
      "text/html": [
       "\n",
       "        <div id=\"kF3GaeWunFNPHz4PMQJsBx\"></div>\n",
       "        <script>netpixi.call('kF3GaeWunFNPHz4PMQJsBx', 'TzosTQQKafi7kP6xic5Mh6', 'changeGraph', 'eyJpZCI6IDgyLCAidHlwZSI6ICJ2ZXJ0ZXgiLCAicHJvcHMiOiB7ImNvbG9yIjogMTY3MTE2ODB9fQo=');</script>\n",
       "    "
      ],
      "text/plain": [
       "<IPython.core.display.HTML object>"
      ]
     },
     "metadata": {},
     "output_type": "display_data"
    },
    {
     "data": {
      "text/html": [
       "\n",
       "        <div id=\"DmePTY6FeHF6P4aHwVToVj\"></div>\n",
       "        <script>netpixi.call('DmePTY6FeHF6P4aHwVToVj', 'TzosTQQKafi7kP6xic5Mh6', 'changeGraph', 'eyJpZCI6IDgzLCAidHlwZSI6ICJ2ZXJ0ZXgiLCAicHJvcHMiOiB7ImNvbG9yIjogNjUyODB9fQo=');</script>\n",
       "    "
      ],
      "text/plain": [
       "<IPython.core.display.HTML object>"
      ]
     },
     "metadata": {},
     "output_type": "display_data"
    },
    {
     "data": {
      "text/html": [
       "\n",
       "        <div id=\"9nJTvbxFDbtmcxc6LmFKzF\"></div>\n",
       "        <script>netpixi.call('9nJTvbxFDbtmcxc6LmFKzF', 'TzosTQQKafi7kP6xic5Mh6', 'changeGraph', 'eyJpZCI6IDg0LCAidHlwZSI6ICJ2ZXJ0ZXgiLCAicHJvcHMiOiB7ImNvbG9yIjogNjUyODB9fQo=');</script>\n",
       "    "
      ],
      "text/plain": [
       "<IPython.core.display.HTML object>"
      ]
     },
     "metadata": {},
     "output_type": "display_data"
    },
    {
     "data": {
      "text/html": [
       "\n",
       "        <div id=\"2hZtVHMaiGLBV6NLpVbwQ8\"></div>\n",
       "        <script>netpixi.call('2hZtVHMaiGLBV6NLpVbwQ8', 'TzosTQQKafi7kP6xic5Mh6', 'changeGraph', 'eyJpZCI6IDg1LCAidHlwZSI6ICJ2ZXJ0ZXgiLCAicHJvcHMiOiB7ImNvbG9yIjogMTY3MTE2ODB9fQo=');</script>\n",
       "    "
      ],
      "text/plain": [
       "<IPython.core.display.HTML object>"
      ]
     },
     "metadata": {},
     "output_type": "display_data"
    },
    {
     "data": {
      "text/html": [
       "\n",
       "        <div id=\"Q3V8KoHGZ4hXmCFPsdTyFQ\"></div>\n",
       "        <script>netpixi.call('Q3V8KoHGZ4hXmCFPsdTyFQ', 'TzosTQQKafi7kP6xic5Mh6', 'changeGraph', 'eyJpZCI6IDg2LCAidHlwZSI6ICJ2ZXJ0ZXgiLCAicHJvcHMiOiB7ImNvbG9yIjogNjUyODB9fQo=');</script>\n",
       "    "
      ],
      "text/plain": [
       "<IPython.core.display.HTML object>"
      ]
     },
     "metadata": {},
     "output_type": "display_data"
    },
    {
     "data": {
      "text/html": [
       "\n",
       "        <div id=\"aK2ouK8RvzbK5ahJ3xJpRe\"></div>\n",
       "        <script>netpixi.call('aK2ouK8RvzbK5ahJ3xJpRe', 'TzosTQQKafi7kP6xic5Mh6', 'changeGraph', 'eyJpZCI6IDg3LCAidHlwZSI6ICJ2ZXJ0ZXgiLCAicHJvcHMiOiB7ImNvbG9yIjogMTY3MTE2ODB9fQo=');</script>\n",
       "    "
      ],
      "text/plain": [
       "<IPython.core.display.HTML object>"
      ]
     },
     "metadata": {},
     "output_type": "display_data"
    },
    {
     "data": {
      "text/html": [
       "\n",
       "        <div id=\"nGMkzSzCqA4ZdK6K8hpoTE\"></div>\n",
       "        <script>netpixi.call('nGMkzSzCqA4ZdK6K8hpoTE', 'TzosTQQKafi7kP6xic5Mh6', 'changeGraph', 'eyJpZCI6IDg4LCAidHlwZSI6ICJ2ZXJ0ZXgiLCAicHJvcHMiOiB7ImNvbG9yIjogMTY3MTE2ODB9fQo=');</script>\n",
       "    "
      ],
      "text/plain": [
       "<IPython.core.display.HTML object>"
      ]
     },
     "metadata": {},
     "output_type": "display_data"
    },
    {
     "data": {
      "text/html": [
       "\n",
       "        <div id=\"YGTe9Hm2ug58EpqtXQ93y9\"></div>\n",
       "        <script>netpixi.call('YGTe9Hm2ug58EpqtXQ93y9', 'TzosTQQKafi7kP6xic5Mh6', 'changeGraph', 'eyJpZCI6IDg5LCAidHlwZSI6ICJ2ZXJ0ZXgiLCAicHJvcHMiOiB7ImNvbG9yIjogMTY3MTE2ODB9fQo=');</script>\n",
       "    "
      ],
      "text/plain": [
       "<IPython.core.display.HTML object>"
      ]
     },
     "metadata": {},
     "output_type": "display_data"
    },
    {
     "data": {
      "text/html": [
       "\n",
       "        <div id=\"8ZbFvtGVttjG5rcqSgWXG5\"></div>\n",
       "        <script>netpixi.call('8ZbFvtGVttjG5rcqSgWXG5', 'TzosTQQKafi7kP6xic5Mh6', 'changeGraph', 'eyJpZCI6IDkwLCAidHlwZSI6ICJ2ZXJ0ZXgiLCAicHJvcHMiOiB7ImNvbG9yIjogMTY3MTE2ODB9fQo=');</script>\n",
       "    "
      ],
      "text/plain": [
       "<IPython.core.display.HTML object>"
      ]
     },
     "metadata": {},
     "output_type": "display_data"
    },
    {
     "data": {
      "text/html": [
       "\n",
       "        <div id=\"TLCS5aKofcsqVhyWDviScj\"></div>\n",
       "        <script>netpixi.call('TLCS5aKofcsqVhyWDviScj', 'TzosTQQKafi7kP6xic5Mh6', 'changeGraph', 'eyJpZCI6IDkxLCAidHlwZSI6ICJ2ZXJ0ZXgiLCAicHJvcHMiOiB7ImNvbG9yIjogNjUyODB9fQo=');</script>\n",
       "    "
      ],
      "text/plain": [
       "<IPython.core.display.HTML object>"
      ]
     },
     "metadata": {},
     "output_type": "display_data"
    },
    {
     "data": {
      "text/html": [
       "\n",
       "        <div id=\"MmEetC5aQWSAhTnAcLagxT\"></div>\n",
       "        <script>netpixi.call('MmEetC5aQWSAhTnAcLagxT', 'TzosTQQKafi7kP6xic5Mh6', 'changeGraph', 'eyJpZCI6IDkyLCAidHlwZSI6ICJ2ZXJ0ZXgiLCAicHJvcHMiOiB7ImNvbG9yIjogNjUyODB9fQo=');</script>\n",
       "    "
      ],
      "text/plain": [
       "<IPython.core.display.HTML object>"
      ]
     },
     "metadata": {},
     "output_type": "display_data"
    },
    {
     "data": {
      "text/html": [
       "\n",
       "        <div id=\"6CKKSDADU5dEnLxdRepH2P\"></div>\n",
       "        <script>netpixi.call('6CKKSDADU5dEnLxdRepH2P', 'TzosTQQKafi7kP6xic5Mh6', 'changeGraph', 'eyJpZCI6IDkzLCAidHlwZSI6ICJ2ZXJ0ZXgiLCAicHJvcHMiOiB7ImNvbG9yIjogNjUyODB9fQo=');</script>\n",
       "    "
      ],
      "text/plain": [
       "<IPython.core.display.HTML object>"
      ]
     },
     "metadata": {},
     "output_type": "display_data"
    },
    {
     "data": {
      "text/html": [
       "\n",
       "        <div id=\"3G9eZHx33UZtJYoYN3LfWt\"></div>\n",
       "        <script>netpixi.call('3G9eZHx33UZtJYoYN3LfWt', 'TzosTQQKafi7kP6xic5Mh6', 'changeGraph', 'eyJpZCI6IDk0LCAidHlwZSI6ICJ2ZXJ0ZXgiLCAicHJvcHMiOiB7ImNvbG9yIjogMTY3MTE2ODB9fQo=');</script>\n",
       "    "
      ],
      "text/plain": [
       "<IPython.core.display.HTML object>"
      ]
     },
     "metadata": {},
     "output_type": "display_data"
    },
    {
     "data": {
      "text/html": [
       "\n",
       "        <div id=\"kVQ43d3SwYevHeJ7GhhRnB\"></div>\n",
       "        <script>netpixi.call('kVQ43d3SwYevHeJ7GhhRnB', 'TzosTQQKafi7kP6xic5Mh6', 'changeGraph', 'eyJpZCI6IDk1LCAidHlwZSI6ICJ2ZXJ0ZXgiLCAicHJvcHMiOiB7ImNvbG9yIjogNjUyODB9fQo=');</script>\n",
       "    "
      ],
      "text/plain": [
       "<IPython.core.display.HTML object>"
      ]
     },
     "metadata": {},
     "output_type": "display_data"
    },
    {
     "data": {
      "text/html": [
       "\n",
       "        <div id=\"2WCKr6C4WF5mm8MiaaP2Mr\"></div>\n",
       "        <script>netpixi.call('2WCKr6C4WF5mm8MiaaP2Mr', 'TzosTQQKafi7kP6xic5Mh6', 'changeGraph', 'eyJpZCI6IDk2LCAidHlwZSI6ICJ2ZXJ0ZXgiLCAicHJvcHMiOiB7ImNvbG9yIjogMTY3MTE2ODB9fQo=');</script>\n",
       "    "
      ],
      "text/plain": [
       "<IPython.core.display.HTML object>"
      ]
     },
     "metadata": {},
     "output_type": "display_data"
    },
    {
     "data": {
      "text/html": [
       "\n",
       "        <div id=\"GP39n4NxFC92FsbzL5G9Hx\"></div>\n",
       "        <script>netpixi.call('GP39n4NxFC92FsbzL5G9Hx', 'TzosTQQKafi7kP6xic5Mh6', 'changeGraph', 'eyJpZCI6IDk3LCAidHlwZSI6ICJ2ZXJ0ZXgiLCAicHJvcHMiOiB7ImNvbG9yIjogNjUyODB9fQo=');</script>\n",
       "    "
      ],
      "text/plain": [
       "<IPython.core.display.HTML object>"
      ]
     },
     "metadata": {},
     "output_type": "display_data"
    },
    {
     "data": {
      "text/html": [
       "\n",
       "        <div id=\"RGN7hPbsH82J6YBredpfam\"></div>\n",
       "        <script>netpixi.call('RGN7hPbsH82J6YBredpfam', 'TzosTQQKafi7kP6xic5Mh6', 'changeGraph', 'eyJpZCI6IDk4LCAidHlwZSI6ICJ2ZXJ0ZXgiLCAicHJvcHMiOiB7ImNvbG9yIjogNjUyODB9fQo=');</script>\n",
       "    "
      ],
      "text/plain": [
       "<IPython.core.display.HTML object>"
      ]
     },
     "metadata": {},
     "output_type": "display_data"
    },
    {
     "data": {
      "text/html": [
       "\n",
       "        <div id=\"ExSgUNKVVYAizBHPUjYhhu\"></div>\n",
       "        <script>netpixi.call('ExSgUNKVVYAizBHPUjYhhu', 'TzosTQQKafi7kP6xic5Mh6', 'changeGraph', 'eyJpZCI6IDk5LCAidHlwZSI6ICJ2ZXJ0ZXgiLCAicHJvcHMiOiB7ImNvbG9yIjogNjUyODB9fQo=');</script>\n",
       "    "
      ],
      "text/plain": [
       "<IPython.core.display.HTML object>"
      ]
     },
     "metadata": {},
     "output_type": "display_data"
    },
    {
     "data": {
      "text/html": [
       "\n",
       "        <div id=\"VZUZgx2f7Q5JjEkT4cSieg\"></div>\n",
       "        <script>netpixi.call('VZUZgx2f7Q5JjEkT4cSieg', 'TzosTQQKafi7kP6xic5Mh6', 'changeGraph', 'eyJpZCI6IDEwMCwgInR5cGUiOiAidmVydGV4IiwgInByb3BzIjogeyJjb2xvciI6IDE2NzExNjgwfX0K');</script>\n",
       "    "
      ],
      "text/plain": [
       "<IPython.core.display.HTML object>"
      ]
     },
     "metadata": {},
     "output_type": "display_data"
    },
    {
     "data": {
      "text/html": [
       "\n",
       "        <div id=\"iPgXEQcGLi7m6TZF6NdcQJ\"></div>\n",
       "        <script>netpixi.call('iPgXEQcGLi7m6TZF6NdcQJ', 'TzosTQQKafi7kP6xic5Mh6', 'changeGraph', 'eyJpZCI6IDEwMSwgInR5cGUiOiAidmVydGV4IiwgInByb3BzIjogeyJjb2xvciI6IDY1MjgwfX0K');</script>\n",
       "    "
      ],
      "text/plain": [
       "<IPython.core.display.HTML object>"
      ]
     },
     "metadata": {},
     "output_type": "display_data"
    },
    {
     "data": {
      "text/html": [
       "\n",
       "        <div id=\"jV3yBxWKwWutfvq46YGkYM\"></div>\n",
       "        <script>netpixi.call('jV3yBxWKwWutfvq46YGkYM', 'TzosTQQKafi7kP6xic5Mh6', 'changeGraph', 'eyJpZCI6IDEwMiwgInR5cGUiOiAidmVydGV4IiwgInByb3BzIjogeyJjb2xvciI6IDY1MjgwfX0K');</script>\n",
       "    "
      ],
      "text/plain": [
       "<IPython.core.display.HTML object>"
      ]
     },
     "metadata": {},
     "output_type": "display_data"
    },
    {
     "data": {
      "text/html": [
       "\n",
       "        <div id=\"HUUeYfbKHLK6BC53RQjb6G\"></div>\n",
       "        <script>netpixi.call('HUUeYfbKHLK6BC53RQjb6G', 'TzosTQQKafi7kP6xic5Mh6', 'changeGraph', 'eyJpZCI6IDEwMywgInR5cGUiOiAidmVydGV4IiwgInByb3BzIjogeyJjb2xvciI6IDE2NzExNjgwfX0K');</script>\n",
       "    "
      ],
      "text/plain": [
       "<IPython.core.display.HTML object>"
      ]
     },
     "metadata": {},
     "output_type": "display_data"
    },
    {
     "data": {
      "text/html": [
       "\n",
       "        <div id=\"H7DFJosG6epJPMP7fepvEJ\"></div>\n",
       "        <script>netpixi.call('H7DFJosG6epJPMP7fepvEJ', 'TzosTQQKafi7kP6xic5Mh6', 'changeGraph', 'eyJpZCI6IDEwNCwgInR5cGUiOiAidmVydGV4IiwgInByb3BzIjogeyJjb2xvciI6IDY1MjgwfX0K');</script>\n",
       "    "
      ],
      "text/plain": [
       "<IPython.core.display.HTML object>"
      ]
     },
     "metadata": {},
     "output_type": "display_data"
    },
    {
     "data": {
      "text/html": [
       "\n",
       "        <div id=\"XeqhCwYi6SPreYnNHWHZmN\"></div>\n",
       "        <script>netpixi.call('XeqhCwYi6SPreYnNHWHZmN', 'TzosTQQKafi7kP6xic5Mh6', 'changeGraph', 'eyJpZCI6IDEwNSwgInR5cGUiOiAidmVydGV4IiwgInByb3BzIjogeyJjb2xvciI6IDE2NzExNjgwfX0K');</script>\n",
       "    "
      ],
      "text/plain": [
       "<IPython.core.display.HTML object>"
      ]
     },
     "metadata": {},
     "output_type": "display_data"
    },
    {
     "data": {
      "text/html": [
       "\n",
       "        <div id=\"2rGapFv7Z896gZnDeyp4ws\"></div>\n",
       "        <script>netpixi.call('2rGapFv7Z896gZnDeyp4ws', 'TzosTQQKafi7kP6xic5Mh6', 'changeGraph', 'eyJpZCI6IDEwNiwgInR5cGUiOiAidmVydGV4IiwgInByb3BzIjogeyJjb2xvciI6IDE2NzExNjgwfX0K');</script>\n",
       "    "
      ],
      "text/plain": [
       "<IPython.core.display.HTML object>"
      ]
     },
     "metadata": {},
     "output_type": "display_data"
    },
    {
     "data": {
      "text/html": [
       "\n",
       "        <div id=\"EZ9xXDJWfeXo3siCZtepp9\"></div>\n",
       "        <script>netpixi.call('EZ9xXDJWfeXo3siCZtepp9', 'TzosTQQKafi7kP6xic5Mh6', 'changeGraph', 'eyJpZCI6IDEwNywgInR5cGUiOiAidmVydGV4IiwgInByb3BzIjogeyJjb2xvciI6IDE2NzExNjgwfX0K');</script>\n",
       "    "
      ],
      "text/plain": [
       "<IPython.core.display.HTML object>"
      ]
     },
     "metadata": {},
     "output_type": "display_data"
    },
    {
     "data": {
      "text/html": [
       "\n",
       "        <div id=\"P8AoTyqowRKNWtZR43CydQ\"></div>\n",
       "        <script>netpixi.call('P8AoTyqowRKNWtZR43CydQ', 'TzosTQQKafi7kP6xic5Mh6', 'changeGraph', 'eyJpZCI6IDEwOCwgInR5cGUiOiAidmVydGV4IiwgInByb3BzIjogeyJjb2xvciI6IDY1MjgwfX0K');</script>\n",
       "    "
      ],
      "text/plain": [
       "<IPython.core.display.HTML object>"
      ]
     },
     "metadata": {},
     "output_type": "display_data"
    },
    {
     "data": {
      "text/html": [
       "\n",
       "        <div id=\"msSQ26rfrTBARGG5wYKBM3\"></div>\n",
       "        <script>netpixi.call('msSQ26rfrTBARGG5wYKBM3', 'TzosTQQKafi7kP6xic5Mh6', 'changeGraph', 'eyJpZCI6IDEwOSwgInR5cGUiOiAidmVydGV4IiwgInByb3BzIjogeyJjb2xvciI6IDE2NzExNjgwfX0K');</script>\n",
       "    "
      ],
      "text/plain": [
       "<IPython.core.display.HTML object>"
      ]
     },
     "metadata": {},
     "output_type": "display_data"
    },
    {
     "data": {
      "text/html": [
       "\n",
       "        <div id=\"EMCj7TJ9mF3BZHrC7mJ3Pj\"></div>\n",
       "        <script>netpixi.call('EMCj7TJ9mF3BZHrC7mJ3Pj', 'TzosTQQKafi7kP6xic5Mh6', 'changeGraph', 'eyJpZCI6IDExMCwgInR5cGUiOiAidmVydGV4IiwgInByb3BzIjogeyJjb2xvciI6IDY1MjgwfX0K');</script>\n",
       "    "
      ],
      "text/plain": [
       "<IPython.core.display.HTML object>"
      ]
     },
     "metadata": {},
     "output_type": "display_data"
    },
    {
     "data": {
      "text/html": [
       "\n",
       "        <div id=\"JLJMY8JoqCEB7VF53oZdy4\"></div>\n",
       "        <script>netpixi.call('JLJMY8JoqCEB7VF53oZdy4', 'TzosTQQKafi7kP6xic5Mh6', 'changeGraph', 'eyJpZCI6IDExMSwgInR5cGUiOiAidmVydGV4IiwgInByb3BzIjogeyJjb2xvciI6IDY1MjgwfX0K');</script>\n",
       "    "
      ],
      "text/plain": [
       "<IPython.core.display.HTML object>"
      ]
     },
     "metadata": {},
     "output_type": "display_data"
    },
    {
     "data": {
      "text/html": [
       "\n",
       "        <div id=\"UfcHn5pqkooGDRH6UzLaqP\"></div>\n",
       "        <script>netpixi.call('UfcHn5pqkooGDRH6UzLaqP', 'TzosTQQKafi7kP6xic5Mh6', 'changeGraph', 'eyJpZCI6IDExMiwgInR5cGUiOiAidmVydGV4IiwgInByb3BzIjogeyJjb2xvciI6IDE2NzExNjgwfX0K');</script>\n",
       "    "
      ],
      "text/plain": [
       "<IPython.core.display.HTML object>"
      ]
     },
     "metadata": {},
     "output_type": "display_data"
    },
    {
     "data": {
      "text/html": [
       "\n",
       "        <div id=\"492ADrL9jzWRUthtwiRk4H\"></div>\n",
       "        <script>netpixi.call('492ADrL9jzWRUthtwiRk4H', 'TzosTQQKafi7kP6xic5Mh6', 'changeGraph', 'eyJpZCI6IDExMywgInR5cGUiOiAidmVydGV4IiwgInByb3BzIjogeyJjb2xvciI6IDE2NzExNjgwfX0K');</script>\n",
       "    "
      ],
      "text/plain": [
       "<IPython.core.display.HTML object>"
      ]
     },
     "metadata": {},
     "output_type": "display_data"
    },
    {
     "data": {
      "text/html": [
       "\n",
       "        <div id=\"44MDEjBZmdHpnWpEZsfoxF\"></div>\n",
       "        <script>netpixi.call('44MDEjBZmdHpnWpEZsfoxF', 'TzosTQQKafi7kP6xic5Mh6', 'changeGraph', 'eyJpZCI6IDExNCwgInR5cGUiOiAidmVydGV4IiwgInByb3BzIjogeyJjb2xvciI6IDE2NzExNjgwfX0K');</script>\n",
       "    "
      ],
      "text/plain": [
       "<IPython.core.display.HTML object>"
      ]
     },
     "metadata": {},
     "output_type": "display_data"
    },
    {
     "data": {
      "text/html": [
       "\n",
       "        <div id=\"TPqb3dzhs53kBgqmpcq9Te\"></div>\n",
       "        <script>netpixi.call('TPqb3dzhs53kBgqmpcq9Te', 'TzosTQQKafi7kP6xic5Mh6', 'changeGraph', 'eyJpZCI6IDExNSwgInR5cGUiOiAidmVydGV4IiwgInByb3BzIjogeyJjb2xvciI6IDY1MjgwfX0K');</script>\n",
       "    "
      ],
      "text/plain": [
       "<IPython.core.display.HTML object>"
      ]
     },
     "metadata": {},
     "output_type": "display_data"
    },
    {
     "data": {
      "text/html": [
       "\n",
       "        <div id=\"fKABL99wQm2iExJg5NfvY8\"></div>\n",
       "        <script>netpixi.call('fKABL99wQm2iExJg5NfvY8', 'TzosTQQKafi7kP6xic5Mh6', 'changeGraph', 'eyJpZCI6IDExNiwgInR5cGUiOiAidmVydGV4IiwgInByb3BzIjogeyJjb2xvciI6IDE2NzExNjgwfX0K');</script>\n",
       "    "
      ],
      "text/plain": [
       "<IPython.core.display.HTML object>"
      ]
     },
     "metadata": {},
     "output_type": "display_data"
    },
    {
     "data": {
      "text/html": [
       "\n",
       "        <div id=\"bN2LSn9kaKEbcHdssqCXHr\"></div>\n",
       "        <script>netpixi.call('bN2LSn9kaKEbcHdssqCXHr', 'TzosTQQKafi7kP6xic5Mh6', 'changeGraph', 'eyJpZCI6IDExNywgInR5cGUiOiAidmVydGV4IiwgInByb3BzIjogeyJjb2xvciI6IDY1MjgwfX0K');</script>\n",
       "    "
      ],
      "text/plain": [
       "<IPython.core.display.HTML object>"
      ]
     },
     "metadata": {},
     "output_type": "display_data"
    },
    {
     "data": {
      "text/html": [
       "\n",
       "        <div id=\"RPhGdf8XDqvXafkkRhnUet\"></div>\n",
       "        <script>netpixi.call('RPhGdf8XDqvXafkkRhnUet', 'TzosTQQKafi7kP6xic5Mh6', 'changeGraph', 'eyJpZCI6IDExOCwgInR5cGUiOiAidmVydGV4IiwgInByb3BzIjogeyJjb2xvciI6IDE2NzExNjgwfX0K');</script>\n",
       "    "
      ],
      "text/plain": [
       "<IPython.core.display.HTML object>"
      ]
     },
     "metadata": {},
     "output_type": "display_data"
    },
    {
     "data": {
      "text/html": [
       "\n",
       "        <div id=\"MzBAveekAX7ZLDhjUnjF7G\"></div>\n",
       "        <script>netpixi.call('MzBAveekAX7ZLDhjUnjF7G', 'TzosTQQKafi7kP6xic5Mh6', 'changeGraph', 'eyJpZCI6IDExOSwgInR5cGUiOiAidmVydGV4IiwgInByb3BzIjogeyJjb2xvciI6IDY1MjgwfX0K');</script>\n",
       "    "
      ],
      "text/plain": [
       "<IPython.core.display.HTML object>"
      ]
     },
     "metadata": {},
     "output_type": "display_data"
    },
    {
     "data": {
      "text/html": [
       "\n",
       "        <div id=\"TYBF6iSSBSM4Xod3kPRGf6\"></div>\n",
       "        <script>netpixi.call('TYBF6iSSBSM4Xod3kPRGf6', 'TzosTQQKafi7kP6xic5Mh6', 'changeGraph', 'eyJpZCI6IDEyMCwgInR5cGUiOiAidmVydGV4IiwgInByb3BzIjogeyJjb2xvciI6IDY1MjgwfX0K');</script>\n",
       "    "
      ],
      "text/plain": [
       "<IPython.core.display.HTML object>"
      ]
     },
     "metadata": {},
     "output_type": "display_data"
    },
    {
     "data": {
      "text/html": [
       "\n",
       "        <div id=\"aKMSJCdKuNaBYkpNmpNnzX\"></div>\n",
       "        <script>netpixi.call('aKMSJCdKuNaBYkpNmpNnzX', 'TzosTQQKafi7kP6xic5Mh6', 'changeGraph', 'eyJpZCI6IDEyMSwgInR5cGUiOiAidmVydGV4IiwgInByb3BzIjogeyJjb2xvciI6IDE2NzExNjgwfX0K');</script>\n",
       "    "
      ],
      "text/plain": [
       "<IPython.core.display.HTML object>"
      ]
     },
     "metadata": {},
     "output_type": "display_data"
    },
    {
     "data": {
      "text/html": [
       "\n",
       "        <div id=\"EgyKr63jQcUXzc5oXCdnAe\"></div>\n",
       "        <script>netpixi.call('EgyKr63jQcUXzc5oXCdnAe', 'TzosTQQKafi7kP6xic5Mh6', 'changeGraph', 'eyJpZCI6IDEyMiwgInR5cGUiOiAidmVydGV4IiwgInByb3BzIjogeyJjb2xvciI6IDY1MjgwfX0K');</script>\n",
       "    "
      ],
      "text/plain": [
       "<IPython.core.display.HTML object>"
      ]
     },
     "metadata": {},
     "output_type": "display_data"
    },
    {
     "data": {
      "text/html": [
       "\n",
       "        <div id=\"ivsoJ9gLvQQCAuBHtAAzmz\"></div>\n",
       "        <script>netpixi.call('ivsoJ9gLvQQCAuBHtAAzmz', 'TzosTQQKafi7kP6xic5Mh6', 'changeGraph', 'eyJpZCI6IDEyMywgInR5cGUiOiAidmVydGV4IiwgInByb3BzIjogeyJjb2xvciI6IDY1MjgwfX0K');</script>\n",
       "    "
      ],
      "text/plain": [
       "<IPython.core.display.HTML object>"
      ]
     },
     "metadata": {},
     "output_type": "display_data"
    },
    {
     "data": {
      "text/html": [
       "\n",
       "        <div id=\"DRcZ6xJktHVN3gbNj2m8Y9\"></div>\n",
       "        <script>netpixi.call('DRcZ6xJktHVN3gbNj2m8Y9', 'TzosTQQKafi7kP6xic5Mh6', 'changeGraph', 'eyJpZCI6IDEyNCwgInR5cGUiOiAidmVydGV4IiwgInByb3BzIjogeyJjb2xvciI6IDE2NzExNjgwfX0K');</script>\n",
       "    "
      ],
      "text/plain": [
       "<IPython.core.display.HTML object>"
      ]
     },
     "metadata": {},
     "output_type": "display_data"
    },
    {
     "data": {
      "text/html": [
       "\n",
       "        <div id=\"GUieqwPd4HP7Ppsz9hQief\"></div>\n",
       "        <script>netpixi.call('GUieqwPd4HP7Ppsz9hQief', 'TzosTQQKafi7kP6xic5Mh6', 'changeGraph', 'eyJpZCI6IDEyNSwgInR5cGUiOiAidmVydGV4IiwgInByb3BzIjogeyJjb2xvciI6IDY1MjgwfX0K');</script>\n",
       "    "
      ],
      "text/plain": [
       "<IPython.core.display.HTML object>"
      ]
     },
     "metadata": {},
     "output_type": "display_data"
    },
    {
     "data": {
      "text/html": [
       "\n",
       "        <div id=\"TurGtDDEvx4hULUrUM4wJg\"></div>\n",
       "        <script>netpixi.call('TurGtDDEvx4hULUrUM4wJg', 'TzosTQQKafi7kP6xic5Mh6', 'changeGraph', 'eyJpZCI6IDEyNiwgInR5cGUiOiAidmVydGV4IiwgInByb3BzIjogeyJjb2xvciI6IDE2NzExNjgwfX0K');</script>\n",
       "    "
      ],
      "text/plain": [
       "<IPython.core.display.HTML object>"
      ]
     },
     "metadata": {},
     "output_type": "display_data"
    },
    {
     "data": {
      "text/html": [
       "\n",
       "        <div id=\"ee9HiA225jaDb4wdr4BHNv\"></div>\n",
       "        <script>netpixi.call('ee9HiA225jaDb4wdr4BHNv', 'TzosTQQKafi7kP6xic5Mh6', 'changeGraph', 'eyJpZCI6IDEyNywgInR5cGUiOiAidmVydGV4IiwgInByb3BzIjogeyJjb2xvciI6IDY1MjgwfX0K');</script>\n",
       "    "
      ],
      "text/plain": [
       "<IPython.core.display.HTML object>"
      ]
     },
     "metadata": {},
     "output_type": "display_data"
    },
    {
     "data": {
      "text/html": [
       "\n",
       "        <div id=\"jZmUouidzHKsPpM2FtSYbM\"></div>\n",
       "        <script>netpixi.call('jZmUouidzHKsPpM2FtSYbM', 'TzosTQQKafi7kP6xic5Mh6', 'changeGraph', 'eyJpZCI6IDEyOCwgInR5cGUiOiAidmVydGV4IiwgInByb3BzIjogeyJjb2xvciI6IDE2NzExNjgwfX0K');</script>\n",
       "    "
      ],
      "text/plain": [
       "<IPython.core.display.HTML object>"
      ]
     },
     "metadata": {},
     "output_type": "display_data"
    },
    {
     "data": {
      "text/html": [
       "\n",
       "        <div id=\"ZpF5TKk2DrTXo88XZG2KkM\"></div>\n",
       "        <script>netpixi.call('ZpF5TKk2DrTXo88XZG2KkM', 'TzosTQQKafi7kP6xic5Mh6', 'changeGraph', 'eyJpZCI6IDEyOSwgInR5cGUiOiAidmVydGV4IiwgInByb3BzIjogeyJjb2xvciI6IDE2NzExNjgwfX0K');</script>\n",
       "    "
      ],
      "text/plain": [
       "<IPython.core.display.HTML object>"
      ]
     },
     "metadata": {},
     "output_type": "display_data"
    },
    {
     "data": {
      "text/html": [
       "\n",
       "        <div id=\"iNVGprsPuSzqFp5ToFTcCy\"></div>\n",
       "        <script>netpixi.call('iNVGprsPuSzqFp5ToFTcCy', 'TzosTQQKafi7kP6xic5Mh6', 'changeGraph', 'eyJpZCI6IDEzMCwgInR5cGUiOiAidmVydGV4IiwgInByb3BzIjogeyJjb2xvciI6IDY1MjgwfX0K');</script>\n",
       "    "
      ],
      "text/plain": [
       "<IPython.core.display.HTML object>"
      ]
     },
     "metadata": {},
     "output_type": "display_data"
    },
    {
     "data": {
      "text/html": [
       "\n",
       "        <div id=\"NQucmSTEg3A3FkGiWoHGZ6\"></div>\n",
       "        <script>netpixi.call('NQucmSTEg3A3FkGiWoHGZ6', 'TzosTQQKafi7kP6xic5Mh6', 'changeGraph', 'eyJpZCI6IDEzMSwgInR5cGUiOiAidmVydGV4IiwgInByb3BzIjogeyJjb2xvciI6IDE2NzExNjgwfX0K');</script>\n",
       "    "
      ],
      "text/plain": [
       "<IPython.core.display.HTML object>"
      ]
     },
     "metadata": {},
     "output_type": "display_data"
    },
    {
     "data": {
      "text/html": [
       "\n",
       "        <div id=\"nwaAnm4UXaQ3p9d6YH3g6v\"></div>\n",
       "        <script>netpixi.call('nwaAnm4UXaQ3p9d6YH3g6v', 'TzosTQQKafi7kP6xic5Mh6', 'changeGraph', 'eyJpZCI6IDEzMiwgInR5cGUiOiAidmVydGV4IiwgInByb3BzIjogeyJjb2xvciI6IDE2NzExNjgwfX0K');</script>\n",
       "    "
      ],
      "text/plain": [
       "<IPython.core.display.HTML object>"
      ]
     },
     "metadata": {},
     "output_type": "display_data"
    },
    {
     "data": {
      "text/html": [
       "\n",
       "        <div id=\"ECG8Juq8bXMh6XXdsJupiN\"></div>\n",
       "        <script>netpixi.call('ECG8Juq8bXMh6XXdsJupiN', 'TzosTQQKafi7kP6xic5Mh6', 'changeGraph', 'eyJpZCI6IDEzMywgInR5cGUiOiAidmVydGV4IiwgInByb3BzIjogeyJjb2xvciI6IDY1MjgwfX0K');</script>\n",
       "    "
      ],
      "text/plain": [
       "<IPython.core.display.HTML object>"
      ]
     },
     "metadata": {},
     "output_type": "display_data"
    },
    {
     "data": {
      "text/html": [
       "\n",
       "        <div id=\"d8wRje7kSTG9GWxjavvRFo\"></div>\n",
       "        <script>netpixi.call('d8wRje7kSTG9GWxjavvRFo', 'TzosTQQKafi7kP6xic5Mh6', 'changeGraph', 'eyJpZCI6IDEzNCwgInR5cGUiOiAidmVydGV4IiwgInByb3BzIjogeyJjb2xvciI6IDE2NzExNjgwfX0K');</script>\n",
       "    "
      ],
      "text/plain": [
       "<IPython.core.display.HTML object>"
      ]
     },
     "metadata": {},
     "output_type": "display_data"
    },
    {
     "data": {
      "text/html": [
       "\n",
       "        <div id=\"DBQWzw5SSTNqXY5SDZ3JRb\"></div>\n",
       "        <script>netpixi.call('DBQWzw5SSTNqXY5SDZ3JRb', 'TzosTQQKafi7kP6xic5Mh6', 'changeGraph', 'eyJpZCI6IDEzNSwgInR5cGUiOiAidmVydGV4IiwgInByb3BzIjogeyJjb2xvciI6IDE2NzExNjgwfX0K');</script>\n",
       "    "
      ],
      "text/plain": [
       "<IPython.core.display.HTML object>"
      ]
     },
     "metadata": {},
     "output_type": "display_data"
    },
    {
     "data": {
      "text/html": [
       "\n",
       "        <div id=\"J37rXgMQ98S8uBHTtcUJvD\"></div>\n",
       "        <script>netpixi.call('J37rXgMQ98S8uBHTtcUJvD', 'TzosTQQKafi7kP6xic5Mh6', 'changeGraph', 'eyJpZCI6IDEzNiwgInR5cGUiOiAidmVydGV4IiwgInByb3BzIjogeyJjb2xvciI6IDY1MjgwfX0K');</script>\n",
       "    "
      ],
      "text/plain": [
       "<IPython.core.display.HTML object>"
      ]
     },
     "metadata": {},
     "output_type": "display_data"
    },
    {
     "data": {
      "text/html": [
       "\n",
       "        <div id=\"JpxRT9E6XozKF2pMXZvFpb\"></div>\n",
       "        <script>netpixi.call('JpxRT9E6XozKF2pMXZvFpb', 'TzosTQQKafi7kP6xic5Mh6', 'changeGraph', 'eyJpZCI6IDEzNywgInR5cGUiOiAidmVydGV4IiwgInByb3BzIjogeyJjb2xvciI6IDY1MjgwfX0K');</script>\n",
       "    "
      ],
      "text/plain": [
       "<IPython.core.display.HTML object>"
      ]
     },
     "metadata": {},
     "output_type": "display_data"
    },
    {
     "data": {
      "text/html": [
       "\n",
       "        <div id=\"7svh7apQrYbcDYo9Jv5XLd\"></div>\n",
       "        <script>netpixi.call('7svh7apQrYbcDYo9Jv5XLd', 'TzosTQQKafi7kP6xic5Mh6', 'changeGraph', 'eyJpZCI6IDEzOCwgInR5cGUiOiAidmVydGV4IiwgInByb3BzIjogeyJjb2xvciI6IDE2NzExNjgwfX0K');</script>\n",
       "    "
      ],
      "text/plain": [
       "<IPython.core.display.HTML object>"
      ]
     },
     "metadata": {},
     "output_type": "display_data"
    },
    {
     "data": {
      "text/html": [
       "\n",
       "        <div id=\"nXv7mewF2gtfcqD5zfFCYR\"></div>\n",
       "        <script>netpixi.call('nXv7mewF2gtfcqD5zfFCYR', 'TzosTQQKafi7kP6xic5Mh6', 'changeGraph', 'eyJpZCI6IDEzOSwgInR5cGUiOiAidmVydGV4IiwgInByb3BzIjogeyJjb2xvciI6IDE2NzExNjgwfX0K');</script>\n",
       "    "
      ],
      "text/plain": [
       "<IPython.core.display.HTML object>"
      ]
     },
     "metadata": {},
     "output_type": "display_data"
    },
    {
     "data": {
      "text/html": [
       "\n",
       "        <div id=\"fjDxLCM8gfnCDAQoZgkmMG\"></div>\n",
       "        <script>netpixi.call('fjDxLCM8gfnCDAQoZgkmMG', 'TzosTQQKafi7kP6xic5Mh6', 'changeGraph', 'eyJpZCI6IDE0MCwgInR5cGUiOiAidmVydGV4IiwgInByb3BzIjogeyJjb2xvciI6IDY1MjgwfX0K');</script>\n",
       "    "
      ],
      "text/plain": [
       "<IPython.core.display.HTML object>"
      ]
     },
     "metadata": {},
     "output_type": "display_data"
    },
    {
     "data": {
      "text/html": [
       "\n",
       "        <div id=\"VYhz66En7ukH4k5MUY4fN9\"></div>\n",
       "        <script>netpixi.call('VYhz66En7ukH4k5MUY4fN9', 'TzosTQQKafi7kP6xic5Mh6', 'changeGraph', 'eyJpZCI6IDE0MSwgInR5cGUiOiAidmVydGV4IiwgInByb3BzIjogeyJjb2xvciI6IDY1MjgwfX0K');</script>\n",
       "    "
      ],
      "text/plain": [
       "<IPython.core.display.HTML object>"
      ]
     },
     "metadata": {},
     "output_type": "display_data"
    },
    {
     "data": {
      "text/html": [
       "\n",
       "        <div id=\"RZbaMsKAXjwJ9ah9bKrMca\"></div>\n",
       "        <script>netpixi.call('RZbaMsKAXjwJ9ah9bKrMca', 'TzosTQQKafi7kP6xic5Mh6', 'changeGraph', 'eyJpZCI6IDE0MiwgInR5cGUiOiAidmVydGV4IiwgInByb3BzIjogeyJjb2xvciI6IDY1MjgwfX0K');</script>\n",
       "    "
      ],
      "text/plain": [
       "<IPython.core.display.HTML object>"
      ]
     },
     "metadata": {},
     "output_type": "display_data"
    },
    {
     "data": {
      "text/html": [
       "\n",
       "        <div id=\"AbvSQRv4g37EKC6D2mZG7u\"></div>\n",
       "        <script>netpixi.call('AbvSQRv4g37EKC6D2mZG7u', 'TzosTQQKafi7kP6xic5Mh6', 'changeGraph', 'eyJpZCI6IDE0MywgInR5cGUiOiAidmVydGV4IiwgInByb3BzIjogeyJjb2xvciI6IDE2NzExNjgwfX0K');</script>\n",
       "    "
      ],
      "text/plain": [
       "<IPython.core.display.HTML object>"
      ]
     },
     "metadata": {},
     "output_type": "display_data"
    },
    {
     "data": {
      "text/html": [
       "\n",
       "        <div id=\"TNCzUwqV9wwFkXPyaNVHHA\"></div>\n",
       "        <script>netpixi.call('TNCzUwqV9wwFkXPyaNVHHA', 'TzosTQQKafi7kP6xic5Mh6', 'changeGraph', 'eyJpZCI6IDE0NCwgInR5cGUiOiAidmVydGV4IiwgInByb3BzIjogeyJjb2xvciI6IDY1MjgwfX0K');</script>\n",
       "    "
      ],
      "text/plain": [
       "<IPython.core.display.HTML object>"
      ]
     },
     "metadata": {},
     "output_type": "display_data"
    },
    {
     "data": {
      "text/html": [
       "\n",
       "        <div id=\"2hWRJ5xR72BJ5jco3qbZBY\"></div>\n",
       "        <script>netpixi.call('2hWRJ5xR72BJ5jco3qbZBY', 'TzosTQQKafi7kP6xic5Mh6', 'changeGraph', 'eyJpZCI6IDE0NSwgInR5cGUiOiAidmVydGV4IiwgInByb3BzIjogeyJjb2xvciI6IDY1MjgwfX0K');</script>\n",
       "    "
      ],
      "text/plain": [
       "<IPython.core.display.HTML object>"
      ]
     },
     "metadata": {},
     "output_type": "display_data"
    },
    {
     "data": {
      "text/html": [
       "\n",
       "        <div id=\"Q8DWppydss3se2VTak9CVU\"></div>\n",
       "        <script>netpixi.call('Q8DWppydss3se2VTak9CVU', 'TzosTQQKafi7kP6xic5Mh6', 'changeGraph', 'eyJpZCI6IDE0NiwgInR5cGUiOiAidmVydGV4IiwgInByb3BzIjogeyJjb2xvciI6IDY1MjgwfX0K');</script>\n",
       "    "
      ],
      "text/plain": [
       "<IPython.core.display.HTML object>"
      ]
     },
     "metadata": {},
     "output_type": "display_data"
    },
    {
     "data": {
      "text/html": [
       "\n",
       "        <div id=\"DroaGhdW4oJB5kVtboRa3B\"></div>\n",
       "        <script>netpixi.call('DroaGhdW4oJB5kVtboRa3B', 'TzosTQQKafi7kP6xic5Mh6', 'changeGraph', 'eyJpZCI6IDE0NywgInR5cGUiOiAidmVydGV4IiwgInByb3BzIjogeyJjb2xvciI6IDY1MjgwfX0K');</script>\n",
       "    "
      ],
      "text/plain": [
       "<IPython.core.display.HTML object>"
      ]
     },
     "metadata": {},
     "output_type": "display_data"
    },
    {
     "data": {
      "text/html": [
       "\n",
       "        <div id=\"32CMjoFFnMqGsCekfoKg7v\"></div>\n",
       "        <script>netpixi.call('32CMjoFFnMqGsCekfoKg7v', 'TzosTQQKafi7kP6xic5Mh6', 'changeGraph', 'eyJpZCI6IDE0OCwgInR5cGUiOiAidmVydGV4IiwgInByb3BzIjogeyJjb2xvciI6IDY1MjgwfX0K');</script>\n",
       "    "
      ],
      "text/plain": [
       "<IPython.core.display.HTML object>"
      ]
     },
     "metadata": {},
     "output_type": "display_data"
    },
    {
     "data": {
      "text/html": [
       "\n",
       "        <div id=\"YQ6R2iGC5SrqJBtib8xu6N\"></div>\n",
       "        <script>netpixi.call('YQ6R2iGC5SrqJBtib8xu6N', 'TzosTQQKafi7kP6xic5Mh6', 'changeGraph', 'eyJpZCI6IDE0OSwgInR5cGUiOiAidmVydGV4IiwgInByb3BzIjogeyJjb2xvciI6IDE2NzExNjgwfX0K');</script>\n",
       "    "
      ],
      "text/plain": [
       "<IPython.core.display.HTML object>"
      ]
     },
     "metadata": {},
     "output_type": "display_data"
    },
    {
     "data": {
      "text/html": [
       "\n",
       "        <div id=\"eAL8FpK8ENscHkNgoZsakt\"></div>\n",
       "        <script>netpixi.call('eAL8FpK8ENscHkNgoZsakt', 'TzosTQQKafi7kP6xic5Mh6', 'changeGraph', 'eyJpZCI6IDE1MCwgInR5cGUiOiAidmVydGV4IiwgInByb3BzIjogeyJjb2xvciI6IDE2NzExNjgwfX0K');</script>\n",
       "    "
      ],
      "text/plain": [
       "<IPython.core.display.HTML object>"
      ]
     },
     "metadata": {},
     "output_type": "display_data"
    },
    {
     "data": {
      "text/html": [
       "\n",
       "        <div id=\"4u7gPPamBEoDnGXg8J8Vpa\"></div>\n",
       "        <script>netpixi.call('4u7gPPamBEoDnGXg8J8Vpa', 'TzosTQQKafi7kP6xic5Mh6', 'changeGraph', 'eyJpZCI6IDE1MSwgInR5cGUiOiAidmVydGV4IiwgInByb3BzIjogeyJjb2xvciI6IDE2NzExNjgwfX0K');</script>\n",
       "    "
      ],
      "text/plain": [
       "<IPython.core.display.HTML object>"
      ]
     },
     "metadata": {},
     "output_type": "display_data"
    },
    {
     "data": {
      "text/html": [
       "\n",
       "        <div id=\"Nup9ZtgcFzyZZziAF3kaQX\"></div>\n",
       "        <script>netpixi.call('Nup9ZtgcFzyZZziAF3kaQX', 'TzosTQQKafi7kP6xic5Mh6', 'changeGraph', 'eyJpZCI6IDE1MiwgInR5cGUiOiAidmVydGV4IiwgInByb3BzIjogeyJjb2xvciI6IDY1MjgwfX0K');</script>\n",
       "    "
      ],
      "text/plain": [
       "<IPython.core.display.HTML object>"
      ]
     },
     "metadata": {},
     "output_type": "display_data"
    },
    {
     "data": {
      "text/html": [
       "\n",
       "        <div id=\"bLdDph294a95jat9maPbfi\"></div>\n",
       "        <script>netpixi.call('bLdDph294a95jat9maPbfi', 'TzosTQQKafi7kP6xic5Mh6', 'changeGraph', 'eyJpZCI6IDE1MywgInR5cGUiOiAidmVydGV4IiwgInByb3BzIjogeyJjb2xvciI6IDY1MjgwfX0K');</script>\n",
       "    "
      ],
      "text/plain": [
       "<IPython.core.display.HTML object>"
      ]
     },
     "metadata": {},
     "output_type": "display_data"
    },
    {
     "data": {
      "text/html": [
       "\n",
       "        <div id=\"muVmC4mnSkYmVpQ9bXcXoV\"></div>\n",
       "        <script>netpixi.call('muVmC4mnSkYmVpQ9bXcXoV', 'TzosTQQKafi7kP6xic5Mh6', 'changeGraph', 'eyJpZCI6IDE1NCwgInR5cGUiOiAidmVydGV4IiwgInByb3BzIjogeyJjb2xvciI6IDE2NzExNjgwfX0K');</script>\n",
       "    "
      ],
      "text/plain": [
       "<IPython.core.display.HTML object>"
      ]
     },
     "metadata": {},
     "output_type": "display_data"
    },
    {
     "data": {
      "text/html": [
       "\n",
       "        <div id=\"84NPBNS7GXyiWrsauxbFgx\"></div>\n",
       "        <script>netpixi.call('84NPBNS7GXyiWrsauxbFgx', 'TzosTQQKafi7kP6xic5Mh6', 'changeGraph', 'eyJpZCI6IDE1NSwgInR5cGUiOiAidmVydGV4IiwgInByb3BzIjogeyJjb2xvciI6IDE2NzExNjgwfX0K');</script>\n",
       "    "
      ],
      "text/plain": [
       "<IPython.core.display.HTML object>"
      ]
     },
     "metadata": {},
     "output_type": "display_data"
    },
    {
     "data": {
      "text/html": [
       "\n",
       "        <div id=\"o2Q5VP9TLeKJy3vtB4Gcj9\"></div>\n",
       "        <script>netpixi.call('o2Q5VP9TLeKJy3vtB4Gcj9', 'TzosTQQKafi7kP6xic5Mh6', 'changeGraph', 'eyJpZCI6IDE1NiwgInR5cGUiOiAidmVydGV4IiwgInByb3BzIjogeyJjb2xvciI6IDE2NzExNjgwfX0K');</script>\n",
       "    "
      ],
      "text/plain": [
       "<IPython.core.display.HTML object>"
      ]
     },
     "metadata": {},
     "output_type": "display_data"
    },
    {
     "data": {
      "text/html": [
       "\n",
       "        <div id=\"48L77uaLYgiLV6nRAbWjWE\"></div>\n",
       "        <script>netpixi.call('48L77uaLYgiLV6nRAbWjWE', 'TzosTQQKafi7kP6xic5Mh6', 'changeGraph', 'eyJpZCI6IDE1NywgInR5cGUiOiAidmVydGV4IiwgInByb3BzIjogeyJjb2xvciI6IDY1MjgwfX0K');</script>\n",
       "    "
      ],
      "text/plain": [
       "<IPython.core.display.HTML object>"
      ]
     },
     "metadata": {},
     "output_type": "display_data"
    },
    {
     "data": {
      "text/html": [
       "\n",
       "        <div id=\"kWkujAAXAbpYnE2AxjhedG\"></div>\n",
       "        <script>netpixi.call('kWkujAAXAbpYnE2AxjhedG', 'TzosTQQKafi7kP6xic5Mh6', 'changeGraph', 'eyJpZCI6IDE1OCwgInR5cGUiOiAidmVydGV4IiwgInByb3BzIjogeyJjb2xvciI6IDY1MjgwfX0K');</script>\n",
       "    "
      ],
      "text/plain": [
       "<IPython.core.display.HTML object>"
      ]
     },
     "metadata": {},
     "output_type": "display_data"
    },
    {
     "data": {
      "text/html": [
       "\n",
       "        <div id=\"UUSjXA2CaPKFmcfNoFyNdR\"></div>\n",
       "        <script>netpixi.call('UUSjXA2CaPKFmcfNoFyNdR', 'TzosTQQKafi7kP6xic5Mh6', 'changeGraph', 'eyJpZCI6IDE1OSwgInR5cGUiOiAidmVydGV4IiwgInByb3BzIjogeyJjb2xvciI6IDY1MjgwfX0K');</script>\n",
       "    "
      ],
      "text/plain": [
       "<IPython.core.display.HTML object>"
      ]
     },
     "metadata": {},
     "output_type": "display_data"
    },
    {
     "data": {
      "text/html": [
       "\n",
       "        <div id=\"T9Qzaxb6D3EimiESDf6VcH\"></div>\n",
       "        <script>netpixi.call('T9Qzaxb6D3EimiESDf6VcH', 'TzosTQQKafi7kP6xic5Mh6', 'changeGraph', 'eyJpZCI6IDE2MCwgInR5cGUiOiAidmVydGV4IiwgInByb3BzIjogeyJjb2xvciI6IDE2NzExNjgwfX0K');</script>\n",
       "    "
      ],
      "text/plain": [
       "<IPython.core.display.HTML object>"
      ]
     },
     "metadata": {},
     "output_type": "display_data"
    },
    {
     "data": {
      "text/html": [
       "\n",
       "        <div id=\"79DekGWJ9ajouGzEgipNfQ\"></div>\n",
       "        <script>netpixi.call('79DekGWJ9ajouGzEgipNfQ', 'TzosTQQKafi7kP6xic5Mh6', 'changeGraph', 'eyJpZCI6IDE2MSwgInR5cGUiOiAidmVydGV4IiwgInByb3BzIjogeyJjb2xvciI6IDY1MjgwfX0K');</script>\n",
       "    "
      ],
      "text/plain": [
       "<IPython.core.display.HTML object>"
      ]
     },
     "metadata": {},
     "output_type": "display_data"
    },
    {
     "data": {
      "text/html": [
       "\n",
       "        <div id=\"nZrNwCXSvsZ5fbkTuU6BJW\"></div>\n",
       "        <script>netpixi.call('nZrNwCXSvsZ5fbkTuU6BJW', 'TzosTQQKafi7kP6xic5Mh6', 'changeGraph', 'eyJpZCI6IDE2MiwgInR5cGUiOiAidmVydGV4IiwgInByb3BzIjogeyJjb2xvciI6IDE2NzExNjgwfX0K');</script>\n",
       "    "
      ],
      "text/plain": [
       "<IPython.core.display.HTML object>"
      ]
     },
     "metadata": {},
     "output_type": "display_data"
    },
    {
     "data": {
      "text/html": [
       "\n",
       "        <div id=\"7qW9bKjDw9nxkcSRc3F326\"></div>\n",
       "        <script>netpixi.call('7qW9bKjDw9nxkcSRc3F326', 'TzosTQQKafi7kP6xic5Mh6', 'changeGraph', 'eyJpZCI6IDE2MywgInR5cGUiOiAidmVydGV4IiwgInByb3BzIjogeyJjb2xvciI6IDE2NzExNjgwfX0K');</script>\n",
       "    "
      ],
      "text/plain": [
       "<IPython.core.display.HTML object>"
      ]
     },
     "metadata": {},
     "output_type": "display_data"
    },
    {
     "data": {
      "text/html": [
       "\n",
       "        <div id=\"SEfo8fJJHGJrbUhpqqZZjh\"></div>\n",
       "        <script>netpixi.call('SEfo8fJJHGJrbUhpqqZZjh', 'TzosTQQKafi7kP6xic5Mh6', 'changeGraph', 'eyJpZCI6IDE2NCwgInR5cGUiOiAidmVydGV4IiwgInByb3BzIjogeyJjb2xvciI6IDY1MjgwfX0K');</script>\n",
       "    "
      ],
      "text/plain": [
       "<IPython.core.display.HTML object>"
      ]
     },
     "metadata": {},
     "output_type": "display_data"
    },
    {
     "data": {
      "text/html": [
       "\n",
       "        <div id=\"cN3WGvPZwFjFee2gr8BgLX\"></div>\n",
       "        <script>netpixi.call('cN3WGvPZwFjFee2gr8BgLX', 'TzosTQQKafi7kP6xic5Mh6', 'changeGraph', 'eyJpZCI6IDE2NSwgInR5cGUiOiAidmVydGV4IiwgInByb3BzIjogeyJjb2xvciI6IDY1MjgwfX0K');</script>\n",
       "    "
      ],
      "text/plain": [
       "<IPython.core.display.HTML object>"
      ]
     },
     "metadata": {},
     "output_type": "display_data"
    },
    {
     "data": {
      "text/html": [
       "\n",
       "        <div id=\"59PoqFRCwhxRvpvrQe8S8S\"></div>\n",
       "        <script>netpixi.call('59PoqFRCwhxRvpvrQe8S8S', 'TzosTQQKafi7kP6xic5Mh6', 'changeGraph', 'eyJpZCI6IDE2NiwgInR5cGUiOiAidmVydGV4IiwgInByb3BzIjogeyJjb2xvciI6IDE2NzExNjgwfX0K');</script>\n",
       "    "
      ],
      "text/plain": [
       "<IPython.core.display.HTML object>"
      ]
     },
     "metadata": {},
     "output_type": "display_data"
    },
    {
     "data": {
      "text/html": [
       "\n",
       "        <div id=\"hvevnZc5BVDTYbC6vqYvKg\"></div>\n",
       "        <script>netpixi.call('hvevnZc5BVDTYbC6vqYvKg', 'TzosTQQKafi7kP6xic5Mh6', 'changeGraph', 'eyJpZCI6IDE2NywgInR5cGUiOiAidmVydGV4IiwgInByb3BzIjogeyJjb2xvciI6IDE2NzExNjgwfX0K');</script>\n",
       "    "
      ],
      "text/plain": [
       "<IPython.core.display.HTML object>"
      ]
     },
     "metadata": {},
     "output_type": "display_data"
    },
    {
     "data": {
      "text/html": [
       "\n",
       "        <div id=\"6JguQrY7yTvGA6TPVPsY4W\"></div>\n",
       "        <script>netpixi.call('6JguQrY7yTvGA6TPVPsY4W', 'TzosTQQKafi7kP6xic5Mh6', 'changeGraph', 'eyJpZCI6IDE2OCwgInR5cGUiOiAidmVydGV4IiwgInByb3BzIjogeyJjb2xvciI6IDY1MjgwfX0K');</script>\n",
       "    "
      ],
      "text/plain": [
       "<IPython.core.display.HTML object>"
      ]
     },
     "metadata": {},
     "output_type": "display_data"
    },
    {
     "data": {
      "text/html": [
       "\n",
       "        <div id=\"GjuJatMwfBg7Nw6de7apdq\"></div>\n",
       "        <script>netpixi.call('GjuJatMwfBg7Nw6de7apdq', 'TzosTQQKafi7kP6xic5Mh6', 'changeGraph', 'eyJpZCI6IDE2OSwgInR5cGUiOiAidmVydGV4IiwgInByb3BzIjogeyJjb2xvciI6IDE2NzExNjgwfX0K');</script>\n",
       "    "
      ],
      "text/plain": [
       "<IPython.core.display.HTML object>"
      ]
     },
     "metadata": {},
     "output_type": "display_data"
    },
    {
     "data": {
      "text/html": [
       "\n",
       "        <div id=\"dmxGYUNrsbGKhbDYn8m9pZ\"></div>\n",
       "        <script>netpixi.call('dmxGYUNrsbGKhbDYn8m9pZ', 'TzosTQQKafi7kP6xic5Mh6', 'changeGraph', 'eyJpZCI6IDE3MCwgInR5cGUiOiAidmVydGV4IiwgInByb3BzIjogeyJjb2xvciI6IDE2NzExNjgwfX0K');</script>\n",
       "    "
      ],
      "text/plain": [
       "<IPython.core.display.HTML object>"
      ]
     },
     "metadata": {},
     "output_type": "display_data"
    },
    {
     "data": {
      "text/html": [
       "\n",
       "        <div id=\"USFNBRrbp3z2YHBVKprGha\"></div>\n",
       "        <script>netpixi.call('USFNBRrbp3z2YHBVKprGha', 'TzosTQQKafi7kP6xic5Mh6', 'changeGraph', 'eyJpZCI6IDE3MSwgInR5cGUiOiAidmVydGV4IiwgInByb3BzIjogeyJjb2xvciI6IDY1MjgwfX0K');</script>\n",
       "    "
      ],
      "text/plain": [
       "<IPython.core.display.HTML object>"
      ]
     },
     "metadata": {},
     "output_type": "display_data"
    },
    {
     "data": {
      "text/html": [
       "\n",
       "        <div id=\"QqWoFupUHxGfCYmiFswZNY\"></div>\n",
       "        <script>netpixi.call('QqWoFupUHxGfCYmiFswZNY', 'TzosTQQKafi7kP6xic5Mh6', 'changeGraph', 'eyJpZCI6IDE3MiwgInR5cGUiOiAidmVydGV4IiwgInByb3BzIjogeyJjb2xvciI6IDY1MjgwfX0K');</script>\n",
       "    "
      ],
      "text/plain": [
       "<IPython.core.display.HTML object>"
      ]
     },
     "metadata": {},
     "output_type": "display_data"
    },
    {
     "data": {
      "text/html": [
       "\n",
       "        <div id=\"BCbGrbqevqFRSwNKKPTNh7\"></div>\n",
       "        <script>netpixi.call('BCbGrbqevqFRSwNKKPTNh7', 'TzosTQQKafi7kP6xic5Mh6', 'changeGraph', 'eyJpZCI6IDE3MywgInR5cGUiOiAidmVydGV4IiwgInByb3BzIjogeyJjb2xvciI6IDE2NzExNjgwfX0K');</script>\n",
       "    "
      ],
      "text/plain": [
       "<IPython.core.display.HTML object>"
      ]
     },
     "metadata": {},
     "output_type": "display_data"
    },
    {
     "data": {
      "text/html": [
       "\n",
       "        <div id=\"nUUifVdDFcFZKTNbdFZFLB\"></div>\n",
       "        <script>netpixi.call('nUUifVdDFcFZKTNbdFZFLB', 'TzosTQQKafi7kP6xic5Mh6', 'changeGraph', 'eyJpZCI6IDE3NCwgInR5cGUiOiAidmVydGV4IiwgInByb3BzIjogeyJjb2xvciI6IDE2NzExNjgwfX0K');</script>\n",
       "    "
      ],
      "text/plain": [
       "<IPython.core.display.HTML object>"
      ]
     },
     "metadata": {},
     "output_type": "display_data"
    },
    {
     "data": {
      "text/html": [
       "\n",
       "        <div id=\"jBY29Y2MeWZLFWJp2XCkw7\"></div>\n",
       "        <script>netpixi.call('jBY29Y2MeWZLFWJp2XCkw7', 'TzosTQQKafi7kP6xic5Mh6', 'changeGraph', 'eyJpZCI6IDE3NSwgInR5cGUiOiAidmVydGV4IiwgInByb3BzIjogeyJjb2xvciI6IDE2NzExNjgwfX0K');</script>\n",
       "    "
      ],
      "text/plain": [
       "<IPython.core.display.HTML object>"
      ]
     },
     "metadata": {},
     "output_type": "display_data"
    },
    {
     "data": {
      "text/html": [
       "\n",
       "        <div id=\"mvJwGvwttKCZp5yC87dq6K\"></div>\n",
       "        <script>netpixi.call('mvJwGvwttKCZp5yC87dq6K', 'TzosTQQKafi7kP6xic5Mh6', 'changeGraph', 'eyJpZCI6IDE3NiwgInR5cGUiOiAidmVydGV4IiwgInByb3BzIjogeyJjb2xvciI6IDE2NzExNjgwfX0K');</script>\n",
       "    "
      ],
      "text/plain": [
       "<IPython.core.display.HTML object>"
      ]
     },
     "metadata": {},
     "output_type": "display_data"
    },
    {
     "data": {
      "text/html": [
       "\n",
       "        <div id=\"dCfQvgnZd2L9XpFmxXk8JK\"></div>\n",
       "        <script>netpixi.call('dCfQvgnZd2L9XpFmxXk8JK', 'TzosTQQKafi7kP6xic5Mh6', 'changeGraph', 'eyJpZCI6IDE3NywgInR5cGUiOiAidmVydGV4IiwgInByb3BzIjogeyJjb2xvciI6IDY1MjgwfX0K');</script>\n",
       "    "
      ],
      "text/plain": [
       "<IPython.core.display.HTML object>"
      ]
     },
     "metadata": {},
     "output_type": "display_data"
    },
    {
     "data": {
      "text/html": [
       "\n",
       "        <div id=\"VEUZHzXidicdGM3aPvQbSP\"></div>\n",
       "        <script>netpixi.call('VEUZHzXidicdGM3aPvQbSP', 'TzosTQQKafi7kP6xic5Mh6', 'changeGraph', 'eyJpZCI6IDE3OCwgInR5cGUiOiAidmVydGV4IiwgInByb3BzIjogeyJjb2xvciI6IDE2NzExNjgwfX0K');</script>\n",
       "    "
      ],
      "text/plain": [
       "<IPython.core.display.HTML object>"
      ]
     },
     "metadata": {},
     "output_type": "display_data"
    },
    {
     "data": {
      "text/html": [
       "\n",
       "        <div id=\"htPoCTJiPiweqqNQUsihn4\"></div>\n",
       "        <script>netpixi.call('htPoCTJiPiweqqNQUsihn4', 'TzosTQQKafi7kP6xic5Mh6', 'changeGraph', 'eyJpZCI6IDE3OSwgInR5cGUiOiAidmVydGV4IiwgInByb3BzIjogeyJjb2xvciI6IDY1MjgwfX0K');</script>\n",
       "    "
      ],
      "text/plain": [
       "<IPython.core.display.HTML object>"
      ]
     },
     "metadata": {},
     "output_type": "display_data"
    },
    {
     "data": {
      "text/html": [
       "\n",
       "        <div id=\"n7GGZg2fq9mZ2Qwh8t5DBU\"></div>\n",
       "        <script>netpixi.call('n7GGZg2fq9mZ2Qwh8t5DBU', 'TzosTQQKafi7kP6xic5Mh6', 'changeGraph', 'eyJpZCI6IDE4MCwgInR5cGUiOiAidmVydGV4IiwgInByb3BzIjogeyJjb2xvciI6IDE2NzExNjgwfX0K');</script>\n",
       "    "
      ],
      "text/plain": [
       "<IPython.core.display.HTML object>"
      ]
     },
     "metadata": {},
     "output_type": "display_data"
    },
    {
     "data": {
      "text/html": [
       "\n",
       "        <div id=\"gGmDfz23RYzfv98GW5zczb\"></div>\n",
       "        <script>netpixi.call('gGmDfz23RYzfv98GW5zczb', 'TzosTQQKafi7kP6xic5Mh6', 'changeGraph', 'eyJpZCI6IDE4MSwgInR5cGUiOiAidmVydGV4IiwgInByb3BzIjogeyJjb2xvciI6IDY1MjgwfX0K');</script>\n",
       "    "
      ],
      "text/plain": [
       "<IPython.core.display.HTML object>"
      ]
     },
     "metadata": {},
     "output_type": "display_data"
    },
    {
     "data": {
      "text/html": [
       "\n",
       "        <div id=\"NqyLC8RzD9VVBPeEPd2rmg\"></div>\n",
       "        <script>netpixi.call('NqyLC8RzD9VVBPeEPd2rmg', 'TzosTQQKafi7kP6xic5Mh6', 'changeGraph', 'eyJpZCI6IDE4MiwgInR5cGUiOiAidmVydGV4IiwgInByb3BzIjogeyJjb2xvciI6IDY1MjgwfX0K');</script>\n",
       "    "
      ],
      "text/plain": [
       "<IPython.core.display.HTML object>"
      ]
     },
     "metadata": {},
     "output_type": "display_data"
    },
    {
     "data": {
      "text/html": [
       "\n",
       "        <div id=\"aAnMUTYcxqVff2LqFtc8Ej\"></div>\n",
       "        <script>netpixi.call('aAnMUTYcxqVff2LqFtc8Ej', 'TzosTQQKafi7kP6xic5Mh6', 'changeGraph', 'eyJpZCI6IDE4MywgInR5cGUiOiAidmVydGV4IiwgInByb3BzIjogeyJjb2xvciI6IDE2NzExNjgwfX0K');</script>\n",
       "    "
      ],
      "text/plain": [
       "<IPython.core.display.HTML object>"
      ]
     },
     "metadata": {},
     "output_type": "display_data"
    },
    {
     "data": {
      "text/html": [
       "\n",
       "        <div id=\"fM7yPu4teWPWNjHj7ko3FL\"></div>\n",
       "        <script>netpixi.call('fM7yPu4teWPWNjHj7ko3FL', 'TzosTQQKafi7kP6xic5Mh6', 'changeGraph', 'eyJpZCI6IDE4NCwgInR5cGUiOiAidmVydGV4IiwgInByb3BzIjogeyJjb2xvciI6IDE2NzExNjgwfX0K');</script>\n",
       "    "
      ],
      "text/plain": [
       "<IPython.core.display.HTML object>"
      ]
     },
     "metadata": {},
     "output_type": "display_data"
    },
    {
     "data": {
      "text/html": [
       "\n",
       "        <div id=\"dXGAPraSJ8vQGfQCvDtwxH\"></div>\n",
       "        <script>netpixi.call('dXGAPraSJ8vQGfQCvDtwxH', 'TzosTQQKafi7kP6xic5Mh6', 'changeGraph', 'eyJpZCI6IDE4NSwgInR5cGUiOiAidmVydGV4IiwgInByb3BzIjogeyJjb2xvciI6IDE2NzExNjgwfX0K');</script>\n",
       "    "
      ],
      "text/plain": [
       "<IPython.core.display.HTML object>"
      ]
     },
     "metadata": {},
     "output_type": "display_data"
    },
    {
     "data": {
      "text/html": [
       "\n",
       "        <div id=\"LFQot5epnNCtebWNSArzyp\"></div>\n",
       "        <script>netpixi.call('LFQot5epnNCtebWNSArzyp', 'TzosTQQKafi7kP6xic5Mh6', 'changeGraph', 'eyJpZCI6IDE4NiwgInR5cGUiOiAidmVydGV4IiwgInByb3BzIjogeyJjb2xvciI6IDE2NzExNjgwfX0K');</script>\n",
       "    "
      ],
      "text/plain": [
       "<IPython.core.display.HTML object>"
      ]
     },
     "metadata": {},
     "output_type": "display_data"
    },
    {
     "data": {
      "text/html": [
       "\n",
       "        <div id=\"BT6DYxBFw9BrNgLjJggsYf\"></div>\n",
       "        <script>netpixi.call('BT6DYxBFw9BrNgLjJggsYf', 'TzosTQQKafi7kP6xic5Mh6', 'changeGraph', 'eyJpZCI6IDE4NywgInR5cGUiOiAidmVydGV4IiwgInByb3BzIjogeyJjb2xvciI6IDE2NzExNjgwfX0K');</script>\n",
       "    "
      ],
      "text/plain": [
       "<IPython.core.display.HTML object>"
      ]
     },
     "metadata": {},
     "output_type": "display_data"
    },
    {
     "data": {
      "text/html": [
       "\n",
       "        <div id=\"Jxp8BgvtkXam4t6Gc2z8DM\"></div>\n",
       "        <script>netpixi.call('Jxp8BgvtkXam4t6Gc2z8DM', 'TzosTQQKafi7kP6xic5Mh6', 'changeGraph', 'eyJpZCI6IDE4OCwgInR5cGUiOiAidmVydGV4IiwgInByb3BzIjogeyJjb2xvciI6IDY1MjgwfX0K');</script>\n",
       "    "
      ],
      "text/plain": [
       "<IPython.core.display.HTML object>"
      ]
     },
     "metadata": {},
     "output_type": "display_data"
    },
    {
     "data": {
      "text/html": [
       "\n",
       "        <div id=\"M7EwxFeTbi66hwEDF2zZzb\"></div>\n",
       "        <script>netpixi.call('M7EwxFeTbi66hwEDF2zZzb', 'TzosTQQKafi7kP6xic5Mh6', 'changeGraph', 'eyJpZCI6IDE4OSwgInR5cGUiOiAidmVydGV4IiwgInByb3BzIjogeyJjb2xvciI6IDY1MjgwfX0K');</script>\n",
       "    "
      ],
      "text/plain": [
       "<IPython.core.display.HTML object>"
      ]
     },
     "metadata": {},
     "output_type": "display_data"
    },
    {
     "data": {
      "text/html": [
       "\n",
       "        <div id=\"cE5FWPUuaYMPZDbyVoSojR\"></div>\n",
       "        <script>netpixi.call('cE5FWPUuaYMPZDbyVoSojR', 'TzosTQQKafi7kP6xic5Mh6', 'changeGraph', 'eyJpZCI6IDE5MCwgInR5cGUiOiAidmVydGV4IiwgInByb3BzIjogeyJjb2xvciI6IDY1MjgwfX0K');</script>\n",
       "    "
      ],
      "text/plain": [
       "<IPython.core.display.HTML object>"
      ]
     },
     "metadata": {},
     "output_type": "display_data"
    },
    {
     "data": {
      "text/html": [
       "\n",
       "        <div id=\"77HwSALcgHgzKojmY25MPc\"></div>\n",
       "        <script>netpixi.call('77HwSALcgHgzKojmY25MPc', 'TzosTQQKafi7kP6xic5Mh6', 'changeGraph', 'eyJpZCI6IDE5MSwgInR5cGUiOiAidmVydGV4IiwgInByb3BzIjogeyJjb2xvciI6IDY1MjgwfX0K');</script>\n",
       "    "
      ],
      "text/plain": [
       "<IPython.core.display.HTML object>"
      ]
     },
     "metadata": {},
     "output_type": "display_data"
    },
    {
     "data": {
      "text/html": [
       "\n",
       "        <div id=\"cAox9c4r9kLDJ8HBwK7HjF\"></div>\n",
       "        <script>netpixi.call('cAox9c4r9kLDJ8HBwK7HjF', 'TzosTQQKafi7kP6xic5Mh6', 'changeGraph', 'eyJpZCI6IDE5MiwgInR5cGUiOiAidmVydGV4IiwgInByb3BzIjogeyJjb2xvciI6IDE2NzExNjgwfX0K');</script>\n",
       "    "
      ],
      "text/plain": [
       "<IPython.core.display.HTML object>"
      ]
     },
     "metadata": {},
     "output_type": "display_data"
    },
    {
     "data": {
      "text/html": [
       "\n",
       "        <div id=\"gwsr38Y5R3jnmDeM47RSpK\"></div>\n",
       "        <script>netpixi.call('gwsr38Y5R3jnmDeM47RSpK', 'TzosTQQKafi7kP6xic5Mh6', 'changeGraph', 'eyJpZCI6IDE5MywgInR5cGUiOiAidmVydGV4IiwgInByb3BzIjogeyJjb2xvciI6IDY1MjgwfX0K');</script>\n",
       "    "
      ],
      "text/plain": [
       "<IPython.core.display.HTML object>"
      ]
     },
     "metadata": {},
     "output_type": "display_data"
    },
    {
     "data": {
      "text/html": [
       "\n",
       "        <div id=\"UyWidkxiMrC52ZJ3r2M42s\"></div>\n",
       "        <script>netpixi.call('UyWidkxiMrC52ZJ3r2M42s', 'TzosTQQKafi7kP6xic5Mh6', 'changeGraph', 'eyJpZCI6IDE5NCwgInR5cGUiOiAidmVydGV4IiwgInByb3BzIjogeyJjb2xvciI6IDY1MjgwfX0K');</script>\n",
       "    "
      ],
      "text/plain": [
       "<IPython.core.display.HTML object>"
      ]
     },
     "metadata": {},
     "output_type": "display_data"
    },
    {
     "data": {
      "text/html": [
       "\n",
       "        <div id=\"LJHKqMULAFbRDWScySpc3W\"></div>\n",
       "        <script>netpixi.call('LJHKqMULAFbRDWScySpc3W', 'TzosTQQKafi7kP6xic5Mh6', 'changeGraph', 'eyJpZCI6IDE5NSwgInR5cGUiOiAidmVydGV4IiwgInByb3BzIjogeyJjb2xvciI6IDE2NzExNjgwfX0K');</script>\n",
       "    "
      ],
      "text/plain": [
       "<IPython.core.display.HTML object>"
      ]
     },
     "metadata": {},
     "output_type": "display_data"
    },
    {
     "data": {
      "text/html": [
       "\n",
       "        <div id=\"NpVgwNxJvof8iCg8gXacgC\"></div>\n",
       "        <script>netpixi.call('NpVgwNxJvof8iCg8gXacgC', 'TzosTQQKafi7kP6xic5Mh6', 'changeGraph', 'eyJpZCI6IDE5NiwgInR5cGUiOiAidmVydGV4IiwgInByb3BzIjogeyJjb2xvciI6IDE2NzExNjgwfX0K');</script>\n",
       "    "
      ],
      "text/plain": [
       "<IPython.core.display.HTML object>"
      ]
     },
     "metadata": {},
     "output_type": "display_data"
    },
    {
     "data": {
      "text/html": [
       "\n",
       "        <div id=\"9zjSBkN3yFYqUg9HYTPvsP\"></div>\n",
       "        <script>netpixi.call('9zjSBkN3yFYqUg9HYTPvsP', 'TzosTQQKafi7kP6xic5Mh6', 'changeGraph', 'eyJpZCI6IDE5NywgInR5cGUiOiAidmVydGV4IiwgInByb3BzIjogeyJjb2xvciI6IDE2NzExNjgwfX0K');</script>\n",
       "    "
      ],
      "text/plain": [
       "<IPython.core.display.HTML object>"
      ]
     },
     "metadata": {},
     "output_type": "display_data"
    },
    {
     "data": {
      "text/html": [
       "\n",
       "        <div id=\"UUzy9hudvZAz7ApaUNVwLE\"></div>\n",
       "        <script>netpixi.call('UUzy9hudvZAz7ApaUNVwLE', 'TzosTQQKafi7kP6xic5Mh6', 'changeGraph', 'eyJpZCI6IDE5OCwgInR5cGUiOiAidmVydGV4IiwgInByb3BzIjogeyJjb2xvciI6IDE2NzExNjgwfX0K');</script>\n",
       "    "
      ],
      "text/plain": [
       "<IPython.core.display.HTML object>"
      ]
     },
     "metadata": {},
     "output_type": "display_data"
    },
    {
     "data": {
      "text/html": [
       "\n",
       "        <div id=\"C6C4Ddx6frsJKtBPS5AwkN\"></div>\n",
       "        <script>netpixi.call('C6C4Ddx6frsJKtBPS5AwkN', 'TzosTQQKafi7kP6xic5Mh6', 'changeGraph', 'eyJpZCI6IDE5OSwgInR5cGUiOiAidmVydGV4IiwgInByb3BzIjogeyJjb2xvciI6IDY1MjgwfX0K');</script>\n",
       "    "
      ],
      "text/plain": [
       "<IPython.core.display.HTML object>"
      ]
     },
     "metadata": {},
     "output_type": "display_data"
    },
    {
     "data": {
      "text/html": [
       "\n",
       "        <div id=\"UNw2F6L4qFFkGiV6u7giXv\"></div>\n",
       "        <script>netpixi.call('UNw2F6L4qFFkGiV6u7giXv', 'TzosTQQKafi7kP6xic5Mh6', 'changeGraph', 'eyJpZCI6IDIwMCwgInR5cGUiOiAidmVydGV4IiwgInByb3BzIjogeyJjb2xvciI6IDY1MjgwfX0K');</script>\n",
       "    "
      ],
      "text/plain": [
       "<IPython.core.display.HTML object>"
      ]
     },
     "metadata": {},
     "output_type": "display_data"
    },
    {
     "data": {
      "text/html": [
       "\n",
       "        <div id=\"8umrqHNeVwwhs4MDH9PjiX\"></div>\n",
       "        <script>netpixi.call('8umrqHNeVwwhs4MDH9PjiX', 'TzosTQQKafi7kP6xic5Mh6', 'changeGraph', 'eyJpZCI6IDIwMSwgInR5cGUiOiAidmVydGV4IiwgInByb3BzIjogeyJjb2xvciI6IDE2NzExNjgwfX0K');</script>\n",
       "    "
      ],
      "text/plain": [
       "<IPython.core.display.HTML object>"
      ]
     },
     "metadata": {},
     "output_type": "display_data"
    },
    {
     "data": {
      "text/html": [
       "\n",
       "        <div id=\"ZNiVTXxLiusdbj2cWSvq8K\"></div>\n",
       "        <script>netpixi.call('ZNiVTXxLiusdbj2cWSvq8K', 'TzosTQQKafi7kP6xic5Mh6', 'changeGraph', 'eyJpZCI6IDIwMiwgInR5cGUiOiAidmVydGV4IiwgInByb3BzIjogeyJjb2xvciI6IDE2NzExNjgwfX0K');</script>\n",
       "    "
      ],
      "text/plain": [
       "<IPython.core.display.HTML object>"
      ]
     },
     "metadata": {},
     "output_type": "display_data"
    },
    {
     "data": {
      "text/html": [
       "\n",
       "        <div id=\"XrTh7cetRtJjsRTiB5hMz8\"></div>\n",
       "        <script>netpixi.call('XrTh7cetRtJjsRTiB5hMz8', 'TzosTQQKafi7kP6xic5Mh6', 'changeGraph', 'eyJpZCI6IDIwMywgInR5cGUiOiAidmVydGV4IiwgInByb3BzIjogeyJjb2xvciI6IDY1MjgwfX0K');</script>\n",
       "    "
      ],
      "text/plain": [
       "<IPython.core.display.HTML object>"
      ]
     },
     "metadata": {},
     "output_type": "display_data"
    },
    {
     "data": {
      "text/html": [
       "\n",
       "        <div id=\"fy3JQH3YxXph6RWagcDKbJ\"></div>\n",
       "        <script>netpixi.call('fy3JQH3YxXph6RWagcDKbJ', 'TzosTQQKafi7kP6xic5Mh6', 'changeGraph', 'eyJpZCI6IDIwNCwgInR5cGUiOiAidmVydGV4IiwgInByb3BzIjogeyJjb2xvciI6IDY1MjgwfX0K');</script>\n",
       "    "
      ],
      "text/plain": [
       "<IPython.core.display.HTML object>"
      ]
     },
     "metadata": {},
     "output_type": "display_data"
    },
    {
     "data": {
      "text/html": [
       "\n",
       "        <div id=\"Pwzzib5WPkKxpV9GHQwVE6\"></div>\n",
       "        <script>netpixi.call('Pwzzib5WPkKxpV9GHQwVE6', 'TzosTQQKafi7kP6xic5Mh6', 'changeGraph', 'eyJpZCI6IDIwNSwgInR5cGUiOiAidmVydGV4IiwgInByb3BzIjogeyJjb2xvciI6IDE2NzExNjgwfX0K');</script>\n",
       "    "
      ],
      "text/plain": [
       "<IPython.core.display.HTML object>"
      ]
     },
     "metadata": {},
     "output_type": "display_data"
    },
    {
     "data": {
      "text/html": [
       "\n",
       "        <div id=\"YHHSi4s9RoopXPthc2ZEqo\"></div>\n",
       "        <script>netpixi.call('YHHSi4s9RoopXPthc2ZEqo', 'TzosTQQKafi7kP6xic5Mh6', 'changeGraph', 'eyJpZCI6IDIwNiwgInR5cGUiOiAidmVydGV4IiwgInByb3BzIjogeyJjb2xvciI6IDE2NzExNjgwfX0K');</script>\n",
       "    "
      ],
      "text/plain": [
       "<IPython.core.display.HTML object>"
      ]
     },
     "metadata": {},
     "output_type": "display_data"
    },
    {
     "data": {
      "text/html": [
       "\n",
       "        <div id=\"e7vuyLLYbvownNMJisv7pD\"></div>\n",
       "        <script>netpixi.call('e7vuyLLYbvownNMJisv7pD', 'TzosTQQKafi7kP6xic5Mh6', 'changeGraph', 'eyJpZCI6IDIwNywgInR5cGUiOiAidmVydGV4IiwgInByb3BzIjogeyJjb2xvciI6IDY1MjgwfX0K');</script>\n",
       "    "
      ],
      "text/plain": [
       "<IPython.core.display.HTML object>"
      ]
     },
     "metadata": {},
     "output_type": "display_data"
    },
    {
     "data": {
      "text/html": [
       "\n",
       "        <div id=\"Vri9YxQozdqkAq6pcfvdu6\"></div>\n",
       "        <script>netpixi.call('Vri9YxQozdqkAq6pcfvdu6', 'TzosTQQKafi7kP6xic5Mh6', 'changeGraph', 'eyJpZCI6IDIwOCwgInR5cGUiOiAidmVydGV4IiwgInByb3BzIjogeyJjb2xvciI6IDY1MjgwfX0K');</script>\n",
       "    "
      ],
      "text/plain": [
       "<IPython.core.display.HTML object>"
      ]
     },
     "metadata": {},
     "output_type": "display_data"
    },
    {
     "data": {
      "text/html": [
       "\n",
       "        <div id=\"3oxUcufLpxa3cpvzwE28sp\"></div>\n",
       "        <script>netpixi.call('3oxUcufLpxa3cpvzwE28sp', 'TzosTQQKafi7kP6xic5Mh6', 'changeGraph', 'eyJpZCI6IDIwOSwgInR5cGUiOiAidmVydGV4IiwgInByb3BzIjogeyJjb2xvciI6IDY1MjgwfX0K');</script>\n",
       "    "
      ],
      "text/plain": [
       "<IPython.core.display.HTML object>"
      ]
     },
     "metadata": {},
     "output_type": "display_data"
    },
    {
     "data": {
      "text/html": [
       "\n",
       "        <div id=\"MUenmd9iayBE4bMtiWNtjH\"></div>\n",
       "        <script>netpixi.call('MUenmd9iayBE4bMtiWNtjH', 'TzosTQQKafi7kP6xic5Mh6', 'changeGraph', 'eyJpZCI6IDIxMCwgInR5cGUiOiAidmVydGV4IiwgInByb3BzIjogeyJjb2xvciI6IDE2NzExNjgwfX0K');</script>\n",
       "    "
      ],
      "text/plain": [
       "<IPython.core.display.HTML object>"
      ]
     },
     "metadata": {},
     "output_type": "display_data"
    },
    {
     "data": {
      "text/html": [
       "\n",
       "        <div id=\"YdbDvWwxgyihCz8uv6au3w\"></div>\n",
       "        <script>netpixi.call('YdbDvWwxgyihCz8uv6au3w', 'TzosTQQKafi7kP6xic5Mh6', 'changeGraph', 'eyJpZCI6IDIxMSwgInR5cGUiOiAidmVydGV4IiwgInByb3BzIjogeyJjb2xvciI6IDY1MjgwfX0K');</script>\n",
       "    "
      ],
      "text/plain": [
       "<IPython.core.display.HTML object>"
      ]
     },
     "metadata": {},
     "output_type": "display_data"
    },
    {
     "data": {
      "text/html": [
       "\n",
       "        <div id=\"Qq2udepsZRE7ssMHaNhPQV\"></div>\n",
       "        <script>netpixi.call('Qq2udepsZRE7ssMHaNhPQV', 'TzosTQQKafi7kP6xic5Mh6', 'changeGraph', 'eyJpZCI6IDIxMiwgInR5cGUiOiAidmVydGV4IiwgInByb3BzIjogeyJjb2xvciI6IDY1MjgwfX0K');</script>\n",
       "    "
      ],
      "text/plain": [
       "<IPython.core.display.HTML object>"
      ]
     },
     "metadata": {},
     "output_type": "display_data"
    },
    {
     "data": {
      "text/html": [
       "\n",
       "        <div id=\"knHnYCrSm4bDKjAdhBKnXe\"></div>\n",
       "        <script>netpixi.call('knHnYCrSm4bDKjAdhBKnXe', 'TzosTQQKafi7kP6xic5Mh6', 'changeGraph', 'eyJpZCI6IDIxMywgInR5cGUiOiAidmVydGV4IiwgInByb3BzIjogeyJjb2xvciI6IDY1MjgwfX0K');</script>\n",
       "    "
      ],
      "text/plain": [
       "<IPython.core.display.HTML object>"
      ]
     },
     "metadata": {},
     "output_type": "display_data"
    },
    {
     "data": {
      "text/html": [
       "\n",
       "        <div id=\"kap8itaTNTo7uddsyfByjf\"></div>\n",
       "        <script>netpixi.call('kap8itaTNTo7uddsyfByjf', 'TzosTQQKafi7kP6xic5Mh6', 'changeGraph', 'eyJpZCI6IDIxNCwgInR5cGUiOiAidmVydGV4IiwgInByb3BzIjogeyJjb2xvciI6IDE2NzExNjgwfX0K');</script>\n",
       "    "
      ],
      "text/plain": [
       "<IPython.core.display.HTML object>"
      ]
     },
     "metadata": {},
     "output_type": "display_data"
    },
    {
     "data": {
      "text/html": [
       "\n",
       "        <div id=\"fBXoSVEhCv3aoQdydNnyKM\"></div>\n",
       "        <script>netpixi.call('fBXoSVEhCv3aoQdydNnyKM', 'TzosTQQKafi7kP6xic5Mh6', 'changeGraph', 'eyJpZCI6IDIxNSwgInR5cGUiOiAidmVydGV4IiwgInByb3BzIjogeyJjb2xvciI6IDE2NzExNjgwfX0K');</script>\n",
       "    "
      ],
      "text/plain": [
       "<IPython.core.display.HTML object>"
      ]
     },
     "metadata": {},
     "output_type": "display_data"
    },
    {
     "data": {
      "text/html": [
       "\n",
       "        <div id=\"4rWUu2q6S9R7MUnZb6oYYA\"></div>\n",
       "        <script>netpixi.call('4rWUu2q6S9R7MUnZb6oYYA', 'TzosTQQKafi7kP6xic5Mh6', 'changeGraph', 'eyJpZCI6IDIxNiwgInR5cGUiOiAidmVydGV4IiwgInByb3BzIjogeyJjb2xvciI6IDE2NzExNjgwfX0K');</script>\n",
       "    "
      ],
      "text/plain": [
       "<IPython.core.display.HTML object>"
      ]
     },
     "metadata": {},
     "output_type": "display_data"
    },
    {
     "data": {
      "text/html": [
       "\n",
       "        <div id=\"TaTPoBj5K5YdQmZt5ZiFjt\"></div>\n",
       "        <script>netpixi.call('TaTPoBj5K5YdQmZt5ZiFjt', 'TzosTQQKafi7kP6xic5Mh6', 'changeGraph', 'eyJpZCI6IDIxNywgInR5cGUiOiAidmVydGV4IiwgInByb3BzIjogeyJjb2xvciI6IDE2NzExNjgwfX0K');</script>\n",
       "    "
      ],
      "text/plain": [
       "<IPython.core.display.HTML object>"
      ]
     },
     "metadata": {},
     "output_type": "display_data"
    },
    {
     "data": {
      "text/html": [
       "\n",
       "        <div id=\"HnMmcNdjSgQUNuE3D79YHi\"></div>\n",
       "        <script>netpixi.call('HnMmcNdjSgQUNuE3D79YHi', 'TzosTQQKafi7kP6xic5Mh6', 'changeGraph', 'eyJpZCI6IDIxOCwgInR5cGUiOiAidmVydGV4IiwgInByb3BzIjogeyJjb2xvciI6IDE2NzExNjgwfX0K');</script>\n",
       "    "
      ],
      "text/plain": [
       "<IPython.core.display.HTML object>"
      ]
     },
     "metadata": {},
     "output_type": "display_data"
    },
    {
     "data": {
      "text/html": [
       "\n",
       "        <div id=\"HWbTavjcgKwVMGxcidsGbm\"></div>\n",
       "        <script>netpixi.call('HWbTavjcgKwVMGxcidsGbm', 'TzosTQQKafi7kP6xic5Mh6', 'changeGraph', 'eyJpZCI6IDIxOSwgInR5cGUiOiAidmVydGV4IiwgInByb3BzIjogeyJjb2xvciI6IDE2NzExNjgwfX0K');</script>\n",
       "    "
      ],
      "text/plain": [
       "<IPython.core.display.HTML object>"
      ]
     },
     "metadata": {},
     "output_type": "display_data"
    },
    {
     "data": {
      "text/html": [
       "\n",
       "        <div id=\"42UDTJqaRGvV7WNQUUfcWw\"></div>\n",
       "        <script>netpixi.call('42UDTJqaRGvV7WNQUUfcWw', 'TzosTQQKafi7kP6xic5Mh6', 'changeGraph', 'eyJpZCI6IDIyMCwgInR5cGUiOiAidmVydGV4IiwgInByb3BzIjogeyJjb2xvciI6IDE2NzExNjgwfX0K');</script>\n",
       "    "
      ],
      "text/plain": [
       "<IPython.core.display.HTML object>"
      ]
     },
     "metadata": {},
     "output_type": "display_data"
    },
    {
     "data": {
      "text/html": [
       "\n",
       "        <div id=\"cwsugJwuscrR3DkPKVZpT7\"></div>\n",
       "        <script>netpixi.call('cwsugJwuscrR3DkPKVZpT7', 'TzosTQQKafi7kP6xic5Mh6', 'changeGraph', 'eyJpZCI6IDIyMSwgInR5cGUiOiAidmVydGV4IiwgInByb3BzIjogeyJjb2xvciI6IDE2NzExNjgwfX0K');</script>\n",
       "    "
      ],
      "text/plain": [
       "<IPython.core.display.HTML object>"
      ]
     },
     "metadata": {},
     "output_type": "display_data"
    },
    {
     "data": {
      "text/html": [
       "\n",
       "        <div id=\"JUGGF66nLegSDcL5PjfQR2\"></div>\n",
       "        <script>netpixi.call('JUGGF66nLegSDcL5PjfQR2', 'TzosTQQKafi7kP6xic5Mh6', 'changeGraph', 'eyJpZCI6IDIyMiwgInR5cGUiOiAidmVydGV4IiwgInByb3BzIjogeyJjb2xvciI6IDY1MjgwfX0K');</script>\n",
       "    "
      ],
      "text/plain": [
       "<IPython.core.display.HTML object>"
      ]
     },
     "metadata": {},
     "output_type": "display_data"
    },
    {
     "data": {
      "text/html": [
       "\n",
       "        <div id=\"iXfj9i9ahoS8FjNvQYMUFn\"></div>\n",
       "        <script>netpixi.call('iXfj9i9ahoS8FjNvQYMUFn', 'TzosTQQKafi7kP6xic5Mh6', 'changeGraph', 'eyJpZCI6IDIyMywgInR5cGUiOiAidmVydGV4IiwgInByb3BzIjogeyJjb2xvciI6IDE2NzExNjgwfX0K');</script>\n",
       "    "
      ],
      "text/plain": [
       "<IPython.core.display.HTML object>"
      ]
     },
     "metadata": {},
     "output_type": "display_data"
    },
    {
     "data": {
      "text/html": [
       "\n",
       "        <div id=\"ZzwCu3xtsPCYwd6wB88vc2\"></div>\n",
       "        <script>netpixi.call('ZzwCu3xtsPCYwd6wB88vc2', 'TzosTQQKafi7kP6xic5Mh6', 'changeGraph', 'eyJpZCI6IDIyNCwgInR5cGUiOiAidmVydGV4IiwgInByb3BzIjogeyJjb2xvciI6IDE2NzExNjgwfX0K');</script>\n",
       "    "
      ],
      "text/plain": [
       "<IPython.core.display.HTML object>"
      ]
     },
     "metadata": {},
     "output_type": "display_data"
    },
    {
     "data": {
      "text/html": [
       "\n",
       "        <div id=\"EeyJQdTfVyW5FEaeL4PrAe\"></div>\n",
       "        <script>netpixi.call('EeyJQdTfVyW5FEaeL4PrAe', 'TzosTQQKafi7kP6xic5Mh6', 'changeGraph', 'eyJpZCI6IDIyNSwgInR5cGUiOiAidmVydGV4IiwgInByb3BzIjogeyJjb2xvciI6IDY1MjgwfX0K');</script>\n",
       "    "
      ],
      "text/plain": [
       "<IPython.core.display.HTML object>"
      ]
     },
     "metadata": {},
     "output_type": "display_data"
    },
    {
     "data": {
      "text/html": [
       "\n",
       "        <div id=\"9WUfbwf5oChYybEvNDRNKt\"></div>\n",
       "        <script>netpixi.call('9WUfbwf5oChYybEvNDRNKt', 'TzosTQQKafi7kP6xic5Mh6', 'changeGraph', 'eyJpZCI6IDIyNiwgInR5cGUiOiAidmVydGV4IiwgInByb3BzIjogeyJjb2xvciI6IDE2NzExNjgwfX0K');</script>\n",
       "    "
      ],
      "text/plain": [
       "<IPython.core.display.HTML object>"
      ]
     },
     "metadata": {},
     "output_type": "display_data"
    },
    {
     "data": {
      "text/html": [
       "\n",
       "        <div id=\"FXAPQ9mtKkGJC8pGvRUtBx\"></div>\n",
       "        <script>netpixi.call('FXAPQ9mtKkGJC8pGvRUtBx', 'TzosTQQKafi7kP6xic5Mh6', 'changeGraph', 'eyJpZCI6IDIyNywgInR5cGUiOiAidmVydGV4IiwgInByb3BzIjogeyJjb2xvciI6IDY1MjgwfX0K');</script>\n",
       "    "
      ],
      "text/plain": [
       "<IPython.core.display.HTML object>"
      ]
     },
     "metadata": {},
     "output_type": "display_data"
    },
    {
     "data": {
      "text/html": [
       "\n",
       "        <div id=\"b8u2aZWsuAqxwhbbXLjmVt\"></div>\n",
       "        <script>netpixi.call('b8u2aZWsuAqxwhbbXLjmVt', 'TzosTQQKafi7kP6xic5Mh6', 'changeGraph', 'eyJpZCI6IDIyOCwgInR5cGUiOiAidmVydGV4IiwgInByb3BzIjogeyJjb2xvciI6IDY1MjgwfX0K');</script>\n",
       "    "
      ],
      "text/plain": [
       "<IPython.core.display.HTML object>"
      ]
     },
     "metadata": {},
     "output_type": "display_data"
    },
    {
     "data": {
      "text/html": [
       "\n",
       "        <div id=\"QbihQyUZxjggaTrtUtNsce\"></div>\n",
       "        <script>netpixi.call('QbihQyUZxjggaTrtUtNsce', 'TzosTQQKafi7kP6xic5Mh6', 'changeGraph', 'eyJpZCI6IDIyOSwgInR5cGUiOiAidmVydGV4IiwgInByb3BzIjogeyJjb2xvciI6IDE2NzExNjgwfX0K');</script>\n",
       "    "
      ],
      "text/plain": [
       "<IPython.core.display.HTML object>"
      ]
     },
     "metadata": {},
     "output_type": "display_data"
    },
    {
     "data": {
      "text/html": [
       "\n",
       "        <div id=\"MU3qjZChZLodFLGS3Ds6tH\"></div>\n",
       "        <script>netpixi.call('MU3qjZChZLodFLGS3Ds6tH', 'TzosTQQKafi7kP6xic5Mh6', 'changeGraph', 'eyJpZCI6IDIzMCwgInR5cGUiOiAidmVydGV4IiwgInByb3BzIjogeyJjb2xvciI6IDE2NzExNjgwfX0K');</script>\n",
       "    "
      ],
      "text/plain": [
       "<IPython.core.display.HTML object>"
      ]
     },
     "metadata": {},
     "output_type": "display_data"
    },
    {
     "data": {
      "text/html": [
       "\n",
       "        <div id=\"93mS9TXGCuwzv23pHDsqrZ\"></div>\n",
       "        <script>netpixi.call('93mS9TXGCuwzv23pHDsqrZ', 'TzosTQQKafi7kP6xic5Mh6', 'changeGraph', 'eyJpZCI6IDIzMSwgInR5cGUiOiAidmVydGV4IiwgInByb3BzIjogeyJjb2xvciI6IDY1MjgwfX0K');</script>\n",
       "    "
      ],
      "text/plain": [
       "<IPython.core.display.HTML object>"
      ]
     },
     "metadata": {},
     "output_type": "display_data"
    },
    {
     "data": {
      "text/html": [
       "\n",
       "        <div id=\"BaVTkphFiPeVt4Nc46r3pw\"></div>\n",
       "        <script>netpixi.call('BaVTkphFiPeVt4Nc46r3pw', 'TzosTQQKafi7kP6xic5Mh6', 'changeGraph', 'eyJpZCI6IDIzMiwgInR5cGUiOiAidmVydGV4IiwgInByb3BzIjogeyJjb2xvciI6IDE2NzExNjgwfX0K');</script>\n",
       "    "
      ],
      "text/plain": [
       "<IPython.core.display.HTML object>"
      ]
     },
     "metadata": {},
     "output_type": "display_data"
    },
    {
     "data": {
      "text/html": [
       "\n",
       "        <div id=\"BbTghtHtfSi4QD43dLRxEj\"></div>\n",
       "        <script>netpixi.call('BbTghtHtfSi4QD43dLRxEj', 'TzosTQQKafi7kP6xic5Mh6', 'changeGraph', 'eyJpZCI6IDIzMywgInR5cGUiOiAidmVydGV4IiwgInByb3BzIjogeyJjb2xvciI6IDE2NzExNjgwfX0K');</script>\n",
       "    "
      ],
      "text/plain": [
       "<IPython.core.display.HTML object>"
      ]
     },
     "metadata": {},
     "output_type": "display_data"
    },
    {
     "data": {
      "text/html": [
       "\n",
       "        <div id=\"P6pgzKc2nk79tGFPupXgdh\"></div>\n",
       "        <script>netpixi.call('P6pgzKc2nk79tGFPupXgdh', 'TzosTQQKafi7kP6xic5Mh6', 'changeGraph', 'eyJpZCI6IDIzNCwgInR5cGUiOiAidmVydGV4IiwgInByb3BzIjogeyJjb2xvciI6IDE2NzExNjgwfX0K');</script>\n",
       "    "
      ],
      "text/plain": [
       "<IPython.core.display.HTML object>"
      ]
     },
     "metadata": {},
     "output_type": "display_data"
    },
    {
     "data": {
      "text/html": [
       "\n",
       "        <div id=\"Qhb5WiBUxenWv2BzPU98a9\"></div>\n",
       "        <script>netpixi.call('Qhb5WiBUxenWv2BzPU98a9', 'TzosTQQKafi7kP6xic5Mh6', 'changeGraph', 'eyJpZCI6IDIzNSwgInR5cGUiOiAidmVydGV4IiwgInByb3BzIjogeyJjb2xvciI6IDY1MjgwfX0K');</script>\n",
       "    "
      ],
      "text/plain": [
       "<IPython.core.display.HTML object>"
      ]
     },
     "metadata": {},
     "output_type": "display_data"
    },
    {
     "data": {
      "text/html": [
       "\n",
       "        <div id=\"gHjdwxcrQRiBq3FFrKBUzh\"></div>\n",
       "        <script>netpixi.call('gHjdwxcrQRiBq3FFrKBUzh', 'TzosTQQKafi7kP6xic5Mh6', 'changeGraph', 'eyJpZCI6IDIzNiwgInR5cGUiOiAidmVydGV4IiwgInByb3BzIjogeyJjb2xvciI6IDY1MjgwfX0K');</script>\n",
       "    "
      ],
      "text/plain": [
       "<IPython.core.display.HTML object>"
      ]
     },
     "metadata": {},
     "output_type": "display_data"
    },
    {
     "data": {
      "text/html": [
       "\n",
       "        <div id=\"oEr5LBsnySHQ8TKT9YfWnA\"></div>\n",
       "        <script>netpixi.call('oEr5LBsnySHQ8TKT9YfWnA', 'TzosTQQKafi7kP6xic5Mh6', 'changeGraph', 'eyJpZCI6IDIzNywgInR5cGUiOiAidmVydGV4IiwgInByb3BzIjogeyJjb2xvciI6IDE2NzExNjgwfX0K');</script>\n",
       "    "
      ],
      "text/plain": [
       "<IPython.core.display.HTML object>"
      ]
     },
     "metadata": {},
     "output_type": "display_data"
    },
    {
     "data": {
      "text/html": [
       "\n",
       "        <div id=\"eShfhg2CWLwwKL2Ysco4qd\"></div>\n",
       "        <script>netpixi.call('eShfhg2CWLwwKL2Ysco4qd', 'TzosTQQKafi7kP6xic5Mh6', 'changeGraph', 'eyJpZCI6IDIzOCwgInR5cGUiOiAidmVydGV4IiwgInByb3BzIjogeyJjb2xvciI6IDY1MjgwfX0K');</script>\n",
       "    "
      ],
      "text/plain": [
       "<IPython.core.display.HTML object>"
      ]
     },
     "metadata": {},
     "output_type": "display_data"
    },
    {
     "data": {
      "text/html": [
       "\n",
       "        <div id=\"9WZnm7MK9bHe3fpxtaS88x\"></div>\n",
       "        <script>netpixi.call('9WZnm7MK9bHe3fpxtaS88x', 'TzosTQQKafi7kP6xic5Mh6', 'changeGraph', 'eyJpZCI6IDIzOSwgInR5cGUiOiAidmVydGV4IiwgInByb3BzIjogeyJjb2xvciI6IDE2NzExNjgwfX0K');</script>\n",
       "    "
      ],
      "text/plain": [
       "<IPython.core.display.HTML object>"
      ]
     },
     "metadata": {},
     "output_type": "display_data"
    },
    {
     "data": {
      "text/html": [
       "\n",
       "        <div id=\"ggApu8dJPnYBPWzCBZi5rA\"></div>\n",
       "        <script>netpixi.call('ggApu8dJPnYBPWzCBZi5rA', 'TzosTQQKafi7kP6xic5Mh6', 'changeGraph', 'eyJpZCI6IDI0MCwgInR5cGUiOiAidmVydGV4IiwgInByb3BzIjogeyJjb2xvciI6IDY1MjgwfX0K');</script>\n",
       "    "
      ],
      "text/plain": [
       "<IPython.core.display.HTML object>"
      ]
     },
     "metadata": {},
     "output_type": "display_data"
    },
    {
     "data": {
      "text/html": [
       "\n",
       "        <div id=\"aViE7qYym7i5HMNuUrJJZJ\"></div>\n",
       "        <script>netpixi.call('aViE7qYym7i5HMNuUrJJZJ', 'TzosTQQKafi7kP6xic5Mh6', 'changeGraph', 'eyJpZCI6IDI0MSwgInR5cGUiOiAidmVydGV4IiwgInByb3BzIjogeyJjb2xvciI6IDE2NzExNjgwfX0K');</script>\n",
       "    "
      ],
      "text/plain": [
       "<IPython.core.display.HTML object>"
      ]
     },
     "metadata": {},
     "output_type": "display_data"
    },
    {
     "data": {
      "text/html": [
       "\n",
       "        <div id=\"dhB5aRtmgkoahjN9uxoENz\"></div>\n",
       "        <script>netpixi.call('dhB5aRtmgkoahjN9uxoENz', 'TzosTQQKafi7kP6xic5Mh6', 'changeGraph', 'eyJpZCI6IDI0MiwgInR5cGUiOiAidmVydGV4IiwgInByb3BzIjogeyJjb2xvciI6IDE2NzExNjgwfX0K');</script>\n",
       "    "
      ],
      "text/plain": [
       "<IPython.core.display.HTML object>"
      ]
     },
     "metadata": {},
     "output_type": "display_data"
    },
    {
     "data": {
      "text/html": [
       "\n",
       "        <div id=\"KbJfKriBQ3T6vgXkFMnW2R\"></div>\n",
       "        <script>netpixi.call('KbJfKriBQ3T6vgXkFMnW2R', 'TzosTQQKafi7kP6xic5Mh6', 'changeGraph', 'eyJpZCI6IDI0MywgInR5cGUiOiAidmVydGV4IiwgInByb3BzIjogeyJjb2xvciI6IDE2NzExNjgwfX0K');</script>\n",
       "    "
      ],
      "text/plain": [
       "<IPython.core.display.HTML object>"
      ]
     },
     "metadata": {},
     "output_type": "display_data"
    },
    {
     "data": {
      "text/html": [
       "\n",
       "        <div id=\"QkUGmz3niLs4NtDvT3MkZW\"></div>\n",
       "        <script>netpixi.call('QkUGmz3niLs4NtDvT3MkZW', 'TzosTQQKafi7kP6xic5Mh6', 'changeGraph', 'eyJpZCI6IDI0NCwgInR5cGUiOiAidmVydGV4IiwgInByb3BzIjogeyJjb2xvciI6IDY1MjgwfX0K');</script>\n",
       "    "
      ],
      "text/plain": [
       "<IPython.core.display.HTML object>"
      ]
     },
     "metadata": {},
     "output_type": "display_data"
    },
    {
     "data": {
      "text/html": [
       "\n",
       "        <div id=\"AtnrYCeyqbuwRVgR7opWt9\"></div>\n",
       "        <script>netpixi.call('AtnrYCeyqbuwRVgR7opWt9', 'TzosTQQKafi7kP6xic5Mh6', 'changeGraph', 'eyJpZCI6IDI0NSwgInR5cGUiOiAidmVydGV4IiwgInByb3BzIjogeyJjb2xvciI6IDY1MjgwfX0K');</script>\n",
       "    "
      ],
      "text/plain": [
       "<IPython.core.display.HTML object>"
      ]
     },
     "metadata": {},
     "output_type": "display_data"
    },
    {
     "data": {
      "text/html": [
       "\n",
       "        <div id=\"Cz9S3wZwMTGsXS34wpeouq\"></div>\n",
       "        <script>netpixi.call('Cz9S3wZwMTGsXS34wpeouq', 'TzosTQQKafi7kP6xic5Mh6', 'changeGraph', 'eyJpZCI6IDI0NiwgInR5cGUiOiAidmVydGV4IiwgInByb3BzIjogeyJjb2xvciI6IDE2NzExNjgwfX0K');</script>\n",
       "    "
      ],
      "text/plain": [
       "<IPython.core.display.HTML object>"
      ]
     },
     "metadata": {},
     "output_type": "display_data"
    },
    {
     "data": {
      "text/html": [
       "\n",
       "        <div id=\"HYzxsMsN92SYGLsktLo2xt\"></div>\n",
       "        <script>netpixi.call('HYzxsMsN92SYGLsktLo2xt', 'TzosTQQKafi7kP6xic5Mh6', 'changeGraph', 'eyJpZCI6IDI0NywgInR5cGUiOiAidmVydGV4IiwgInByb3BzIjogeyJjb2xvciI6IDE2NzExNjgwfX0K');</script>\n",
       "    "
      ],
      "text/plain": [
       "<IPython.core.display.HTML object>"
      ]
     },
     "metadata": {},
     "output_type": "display_data"
    },
    {
     "data": {
      "text/html": [
       "\n",
       "        <div id=\"Sid9uZqE8pEeYS6tmK8i3h\"></div>\n",
       "        <script>netpixi.call('Sid9uZqE8pEeYS6tmK8i3h', 'TzosTQQKafi7kP6xic5Mh6', 'changeGraph', 'eyJpZCI6IDI0OCwgInR5cGUiOiAidmVydGV4IiwgInByb3BzIjogeyJjb2xvciI6IDE2NzExNjgwfX0K');</script>\n",
       "    "
      ],
      "text/plain": [
       "<IPython.core.display.HTML object>"
      ]
     },
     "metadata": {},
     "output_type": "display_data"
    },
    {
     "data": {
      "text/html": [
       "\n",
       "        <div id=\"UxBSWn78goPQWtjtacNg9t\"></div>\n",
       "        <script>netpixi.call('UxBSWn78goPQWtjtacNg9t', 'TzosTQQKafi7kP6xic5Mh6', 'changeGraph', 'eyJpZCI6IDI0OSwgInR5cGUiOiAidmVydGV4IiwgInByb3BzIjogeyJjb2xvciI6IDE2NzExNjgwfX0K');</script>\n",
       "    "
      ],
      "text/plain": [
       "<IPython.core.display.HTML object>"
      ]
     },
     "metadata": {},
     "output_type": "display_data"
    },
    {
     "data": {
      "text/html": [
       "\n",
       "        <div id=\"frjAVTqKmuZLBWMm9jFRFw\"></div>\n",
       "        <script>netpixi.call('frjAVTqKmuZLBWMm9jFRFw', 'TzosTQQKafi7kP6xic5Mh6', 'changeGraph', 'eyJpZCI6IDI1MCwgInR5cGUiOiAidmVydGV4IiwgInByb3BzIjogeyJjb2xvciI6IDE2NzExNjgwfX0K');</script>\n",
       "    "
      ],
      "text/plain": [
       "<IPython.core.display.HTML object>"
      ]
     },
     "metadata": {},
     "output_type": "display_data"
    },
    {
     "data": {
      "text/html": [
       "\n",
       "        <div id=\"AxJXkCMDwaGgopFLpFZq4Q\"></div>\n",
       "        <script>netpixi.call('AxJXkCMDwaGgopFLpFZq4Q', 'TzosTQQKafi7kP6xic5Mh6', 'changeGraph', 'eyJpZCI6IDI1MSwgInR5cGUiOiAidmVydGV4IiwgInByb3BzIjogeyJjb2xvciI6IDE2NzExNjgwfX0K');</script>\n",
       "    "
      ],
      "text/plain": [
       "<IPython.core.display.HTML object>"
      ]
     },
     "metadata": {},
     "output_type": "display_data"
    },
    {
     "data": {
      "text/html": [
       "\n",
       "        <div id=\"Pz5FePid8kzaVoFVqLNVsD\"></div>\n",
       "        <script>netpixi.call('Pz5FePid8kzaVoFVqLNVsD', 'TzosTQQKafi7kP6xic5Mh6', 'changeGraph', 'eyJpZCI6IDI1MiwgInR5cGUiOiAidmVydGV4IiwgInByb3BzIjogeyJjb2xvciI6IDE2NzExNjgwfX0K');</script>\n",
       "    "
      ],
      "text/plain": [
       "<IPython.core.display.HTML object>"
      ]
     },
     "metadata": {},
     "output_type": "display_data"
    },
    {
     "data": {
      "text/html": [
       "\n",
       "        <div id=\"BfFmiGL9dTMsWhYTve6twv\"></div>\n",
       "        <script>netpixi.call('BfFmiGL9dTMsWhYTve6twv', 'TzosTQQKafi7kP6xic5Mh6', 'changeGraph', 'eyJpZCI6IDI1MywgInR5cGUiOiAidmVydGV4IiwgInByb3BzIjogeyJjb2xvciI6IDY1MjgwfX0K');</script>\n",
       "    "
      ],
      "text/plain": [
       "<IPython.core.display.HTML object>"
      ]
     },
     "metadata": {},
     "output_type": "display_data"
    },
    {
     "data": {
      "text/html": [
       "\n",
       "        <div id=\"NtGBYXAfwvtLzKhSUmdEM6\"></div>\n",
       "        <script>netpixi.call('NtGBYXAfwvtLzKhSUmdEM6', 'TzosTQQKafi7kP6xic5Mh6', 'changeGraph', 'eyJpZCI6IDI1NCwgInR5cGUiOiAidmVydGV4IiwgInByb3BzIjogeyJjb2xvciI6IDY1MjgwfX0K');</script>\n",
       "    "
      ],
      "text/plain": [
       "<IPython.core.display.HTML object>"
      ]
     },
     "metadata": {},
     "output_type": "display_data"
    },
    {
     "data": {
      "text/html": [
       "\n",
       "        <div id=\"AnuFmyQTvTnpZCXx4Tcy2e\"></div>\n",
       "        <script>netpixi.call('AnuFmyQTvTnpZCXx4Tcy2e', 'TzosTQQKafi7kP6xic5Mh6', 'changeGraph', 'eyJpZCI6IDI1NSwgInR5cGUiOiAidmVydGV4IiwgInByb3BzIjogeyJjb2xvciI6IDY1MjgwfX0K');</script>\n",
       "    "
      ],
      "text/plain": [
       "<IPython.core.display.HTML object>"
      ]
     },
     "metadata": {},
     "output_type": "display_data"
    },
    {
     "data": {
      "text/html": [
       "\n",
       "        <div id=\"SnF2nEmkf6wpo3es4wKPd9\"></div>\n",
       "        <script>netpixi.call('SnF2nEmkf6wpo3es4wKPd9', 'TzosTQQKafi7kP6xic5Mh6', 'changeGraph', 'eyJpZCI6IDI1NiwgInR5cGUiOiAidmVydGV4IiwgInByb3BzIjogeyJjb2xvciI6IDY1MjgwfX0K');</script>\n",
       "    "
      ],
      "text/plain": [
       "<IPython.core.display.HTML object>"
      ]
     },
     "metadata": {},
     "output_type": "display_data"
    },
    {
     "data": {
      "text/html": [
       "\n",
       "        <div id=\"KAVmREKdoCNqGKKCEApaxX\"></div>\n",
       "        <script>netpixi.call('KAVmREKdoCNqGKKCEApaxX', 'TzosTQQKafi7kP6xic5Mh6', 'changeGraph', 'eyJpZCI6IDI1NywgInR5cGUiOiAidmVydGV4IiwgInByb3BzIjogeyJjb2xvciI6IDE2NzExNjgwfX0K');</script>\n",
       "    "
      ],
      "text/plain": [
       "<IPython.core.display.HTML object>"
      ]
     },
     "metadata": {},
     "output_type": "display_data"
    },
    {
     "data": {
      "text/html": [
       "\n",
       "        <div id=\"gpZ6DK8MFbiXCCuUsGvimd\"></div>\n",
       "        <script>netpixi.call('gpZ6DK8MFbiXCCuUsGvimd', 'TzosTQQKafi7kP6xic5Mh6', 'changeGraph', 'eyJpZCI6IDI1OCwgInR5cGUiOiAidmVydGV4IiwgInByb3BzIjogeyJjb2xvciI6IDE2NzExNjgwfX0K');</script>\n",
       "    "
      ],
      "text/plain": [
       "<IPython.core.display.HTML object>"
      ]
     },
     "metadata": {},
     "output_type": "display_data"
    },
    {
     "data": {
      "text/html": [
       "\n",
       "        <div id=\"hJyy4qD7AQ4dPTY258hVBZ\"></div>\n",
       "        <script>netpixi.call('hJyy4qD7AQ4dPTY258hVBZ', 'TzosTQQKafi7kP6xic5Mh6', 'changeGraph', 'eyJpZCI6IDI1OSwgInR5cGUiOiAidmVydGV4IiwgInByb3BzIjogeyJjb2xvciI6IDE2NzExNjgwfX0K');</script>\n",
       "    "
      ],
      "text/plain": [
       "<IPython.core.display.HTML object>"
      ]
     },
     "metadata": {},
     "output_type": "display_data"
    },
    {
     "data": {
      "text/html": [
       "\n",
       "        <div id=\"9dj5F55nnkPN5QsvcNUd5Y\"></div>\n",
       "        <script>netpixi.call('9dj5F55nnkPN5QsvcNUd5Y', 'TzosTQQKafi7kP6xic5Mh6', 'changeGraph', 'eyJpZCI6IDI2MCwgInR5cGUiOiAidmVydGV4IiwgInByb3BzIjogeyJjb2xvciI6IDY1MjgwfX0K');</script>\n",
       "    "
      ],
      "text/plain": [
       "<IPython.core.display.HTML object>"
      ]
     },
     "metadata": {},
     "output_type": "display_data"
    },
    {
     "data": {
      "text/html": [
       "\n",
       "        <div id=\"i59CVCeeRu7R4FdYqgGBVs\"></div>\n",
       "        <script>netpixi.call('i59CVCeeRu7R4FdYqgGBVs', 'TzosTQQKafi7kP6xic5Mh6', 'changeGraph', 'eyJpZCI6IDI2MSwgInR5cGUiOiAidmVydGV4IiwgInByb3BzIjogeyJjb2xvciI6IDY1MjgwfX0K');</script>\n",
       "    "
      ],
      "text/plain": [
       "<IPython.core.display.HTML object>"
      ]
     },
     "metadata": {},
     "output_type": "display_data"
    },
    {
     "data": {
      "text/html": [
       "\n",
       "        <div id=\"TrNLwpbDiWaFHNoQPzTphk\"></div>\n",
       "        <script>netpixi.call('TrNLwpbDiWaFHNoQPzTphk', 'TzosTQQKafi7kP6xic5Mh6', 'changeGraph', 'eyJpZCI6IDI2MiwgInR5cGUiOiAidmVydGV4IiwgInByb3BzIjogeyJjb2xvciI6IDE2NzExNjgwfX0K');</script>\n",
       "    "
      ],
      "text/plain": [
       "<IPython.core.display.HTML object>"
      ]
     },
     "metadata": {},
     "output_type": "display_data"
    },
    {
     "data": {
      "text/html": [
       "\n",
       "        <div id=\"DfCkxbyWXPpLe58Z65CGUs\"></div>\n",
       "        <script>netpixi.call('DfCkxbyWXPpLe58Z65CGUs', 'TzosTQQKafi7kP6xic5Mh6', 'changeGraph', 'eyJpZCI6IDI2MywgInR5cGUiOiAidmVydGV4IiwgInByb3BzIjogeyJjb2xvciI6IDE2NzExNjgwfX0K');</script>\n",
       "    "
      ],
      "text/plain": [
       "<IPython.core.display.HTML object>"
      ]
     },
     "metadata": {},
     "output_type": "display_data"
    },
    {
     "data": {
      "text/html": [
       "\n",
       "        <div id=\"kiXJ77ctYtkaA72zzbQfps\"></div>\n",
       "        <script>netpixi.call('kiXJ77ctYtkaA72zzbQfps', 'TzosTQQKafi7kP6xic5Mh6', 'changeGraph', 'eyJpZCI6IDI2NCwgInR5cGUiOiAidmVydGV4IiwgInByb3BzIjogeyJjb2xvciI6IDE2NzExNjgwfX0K');</script>\n",
       "    "
      ],
      "text/plain": [
       "<IPython.core.display.HTML object>"
      ]
     },
     "metadata": {},
     "output_type": "display_data"
    },
    {
     "data": {
      "text/html": [
       "\n",
       "        <div id=\"mSUsSBymPzYBQqPVexmiJn\"></div>\n",
       "        <script>netpixi.call('mSUsSBymPzYBQqPVexmiJn', 'TzosTQQKafi7kP6xic5Mh6', 'changeGraph', 'eyJpZCI6IDI2NSwgInR5cGUiOiAidmVydGV4IiwgInByb3BzIjogeyJjb2xvciI6IDE2NzExNjgwfX0K');</script>\n",
       "    "
      ],
      "text/plain": [
       "<IPython.core.display.HTML object>"
      ]
     },
     "metadata": {},
     "output_type": "display_data"
    },
    {
     "data": {
      "text/html": [
       "\n",
       "        <div id=\"65vcJw6vfp7FNcF7MPyr8g\"></div>\n",
       "        <script>netpixi.call('65vcJw6vfp7FNcF7MPyr8g', 'TzosTQQKafi7kP6xic5Mh6', 'changeGraph', 'eyJpZCI6IDI2NiwgInR5cGUiOiAidmVydGV4IiwgInByb3BzIjogeyJjb2xvciI6IDE2NzExNjgwfX0K');</script>\n",
       "    "
      ],
      "text/plain": [
       "<IPython.core.display.HTML object>"
      ]
     },
     "metadata": {},
     "output_type": "display_data"
    },
    {
     "data": {
      "text/html": [
       "\n",
       "        <div id=\"jmgFBQwSJBZ4nfVwrukhEf\"></div>\n",
       "        <script>netpixi.call('jmgFBQwSJBZ4nfVwrukhEf', 'TzosTQQKafi7kP6xic5Mh6', 'changeGraph', 'eyJpZCI6IDI2NywgInR5cGUiOiAidmVydGV4IiwgInByb3BzIjogeyJjb2xvciI6IDY1MjgwfX0K');</script>\n",
       "    "
      ],
      "text/plain": [
       "<IPython.core.display.HTML object>"
      ]
     },
     "metadata": {},
     "output_type": "display_data"
    },
    {
     "data": {
      "text/html": [
       "\n",
       "        <div id=\"3AvUgv9aAceKj9XxjAQYZm\"></div>\n",
       "        <script>netpixi.call('3AvUgv9aAceKj9XxjAQYZm', 'TzosTQQKafi7kP6xic5Mh6', 'changeGraph', 'eyJpZCI6IDI2OCwgInR5cGUiOiAidmVydGV4IiwgInByb3BzIjogeyJjb2xvciI6IDY1MjgwfX0K');</script>\n",
       "    "
      ],
      "text/plain": [
       "<IPython.core.display.HTML object>"
      ]
     },
     "metadata": {},
     "output_type": "display_data"
    },
    {
     "data": {
      "text/html": [
       "\n",
       "        <div id=\"V8gKUpJ972Lqb28F7q4eFv\"></div>\n",
       "        <script>netpixi.call('V8gKUpJ972Lqb28F7q4eFv', 'TzosTQQKafi7kP6xic5Mh6', 'changeGraph', 'eyJpZCI6IDI2OSwgInR5cGUiOiAidmVydGV4IiwgInByb3BzIjogeyJjb2xvciI6IDY1MjgwfX0K');</script>\n",
       "    "
      ],
      "text/plain": [
       "<IPython.core.display.HTML object>"
      ]
     },
     "metadata": {},
     "output_type": "display_data"
    },
    {
     "data": {
      "text/html": [
       "\n",
       "        <div id=\"jioesxKKj4DjHwzxrvB9Do\"></div>\n",
       "        <script>netpixi.call('jioesxKKj4DjHwzxrvB9Do', 'TzosTQQKafi7kP6xic5Mh6', 'changeGraph', 'eyJpZCI6IDI3MCwgInR5cGUiOiAidmVydGV4IiwgInByb3BzIjogeyJjb2xvciI6IDE2NzExNjgwfX0K');</script>\n",
       "    "
      ],
      "text/plain": [
       "<IPython.core.display.HTML object>"
      ]
     },
     "metadata": {},
     "output_type": "display_data"
    },
    {
     "data": {
      "text/html": [
       "\n",
       "        <div id=\"CjsVDMqzeYgpWVnZqjZKWR\"></div>\n",
       "        <script>netpixi.call('CjsVDMqzeYgpWVnZqjZKWR', 'TzosTQQKafi7kP6xic5Mh6', 'changeGraph', 'eyJpZCI6IDI3MSwgInR5cGUiOiAidmVydGV4IiwgInByb3BzIjogeyJjb2xvciI6IDY1MjgwfX0K');</script>\n",
       "    "
      ],
      "text/plain": [
       "<IPython.core.display.HTML object>"
      ]
     },
     "metadata": {},
     "output_type": "display_data"
    },
    {
     "data": {
      "text/html": [
       "\n",
       "        <div id=\"Gh7NkJC5oF6Ln6PqZjgUQT\"></div>\n",
       "        <script>netpixi.call('Gh7NkJC5oF6Ln6PqZjgUQT', 'TzosTQQKafi7kP6xic5Mh6', 'changeGraph', 'eyJpZCI6IDI3MiwgInR5cGUiOiAidmVydGV4IiwgInByb3BzIjogeyJjb2xvciI6IDY1MjgwfX0K');</script>\n",
       "    "
      ],
      "text/plain": [
       "<IPython.core.display.HTML object>"
      ]
     },
     "metadata": {},
     "output_type": "display_data"
    },
    {
     "data": {
      "text/html": [
       "\n",
       "        <div id=\"GpnCjTrVDXov3gapc7Jp4Z\"></div>\n",
       "        <script>netpixi.call('GpnCjTrVDXov3gapc7Jp4Z', 'TzosTQQKafi7kP6xic5Mh6', 'changeGraph', 'eyJpZCI6IDI3MywgInR5cGUiOiAidmVydGV4IiwgInByb3BzIjogeyJjb2xvciI6IDY1MjgwfX0K');</script>\n",
       "    "
      ],
      "text/plain": [
       "<IPython.core.display.HTML object>"
      ]
     },
     "metadata": {},
     "output_type": "display_data"
    },
    {
     "data": {
      "text/html": [
       "\n",
       "        <div id=\"7gGFD9qyJDBLmTVUKJhpeE\"></div>\n",
       "        <script>netpixi.call('7gGFD9qyJDBLmTVUKJhpeE', 'TzosTQQKafi7kP6xic5Mh6', 'changeGraph', 'eyJpZCI6IDI3NCwgInR5cGUiOiAidmVydGV4IiwgInByb3BzIjogeyJjb2xvciI6IDE2NzExNjgwfX0K');</script>\n",
       "    "
      ],
      "text/plain": [
       "<IPython.core.display.HTML object>"
      ]
     },
     "metadata": {},
     "output_type": "display_data"
    },
    {
     "data": {
      "text/html": [
       "\n",
       "        <div id=\"7kU3vaxMhAa66XAC7SDwtr\"></div>\n",
       "        <script>netpixi.call('7kU3vaxMhAa66XAC7SDwtr', 'TzosTQQKafi7kP6xic5Mh6', 'changeGraph', 'eyJpZCI6IDI3NSwgInR5cGUiOiAidmVydGV4IiwgInByb3BzIjogeyJjb2xvciI6IDY1MjgwfX0K');</script>\n",
       "    "
      ],
      "text/plain": [
       "<IPython.core.display.HTML object>"
      ]
     },
     "metadata": {},
     "output_type": "display_data"
    },
    {
     "data": {
      "text/html": [
       "\n",
       "        <div id=\"kTAVLaTwBKECKQdxiKyP3F\"></div>\n",
       "        <script>netpixi.call('kTAVLaTwBKECKQdxiKyP3F', 'TzosTQQKafi7kP6xic5Mh6', 'changeGraph', 'eyJpZCI6IDI3NiwgInR5cGUiOiAidmVydGV4IiwgInByb3BzIjogeyJjb2xvciI6IDY1MjgwfX0K');</script>\n",
       "    "
      ],
      "text/plain": [
       "<IPython.core.display.HTML object>"
      ]
     },
     "metadata": {},
     "output_type": "display_data"
    },
    {
     "data": {
      "text/html": [
       "\n",
       "        <div id=\"KFUvkACJPE8RJzKWGFCMgV\"></div>\n",
       "        <script>netpixi.call('KFUvkACJPE8RJzKWGFCMgV', 'TzosTQQKafi7kP6xic5Mh6', 'changeGraph', 'eyJpZCI6IDI3NywgInR5cGUiOiAidmVydGV4IiwgInByb3BzIjogeyJjb2xvciI6IDY1MjgwfX0K');</script>\n",
       "    "
      ],
      "text/plain": [
       "<IPython.core.display.HTML object>"
      ]
     },
     "metadata": {},
     "output_type": "display_data"
    },
    {
     "data": {
      "text/html": [
       "\n",
       "        <div id=\"AsgMsywCUuVg7PJnJ7J5VU\"></div>\n",
       "        <script>netpixi.call('AsgMsywCUuVg7PJnJ7J5VU', 'TzosTQQKafi7kP6xic5Mh6', 'changeGraph', 'eyJpZCI6IDI3OCwgInR5cGUiOiAidmVydGV4IiwgInByb3BzIjogeyJjb2xvciI6IDY1MjgwfX0K');</script>\n",
       "    "
      ],
      "text/plain": [
       "<IPython.core.display.HTML object>"
      ]
     },
     "metadata": {},
     "output_type": "display_data"
    },
    {
     "data": {
      "text/html": [
       "\n",
       "        <div id=\"dwaPv5ixT2vAgZr9FcLRKF\"></div>\n",
       "        <script>netpixi.call('dwaPv5ixT2vAgZr9FcLRKF', 'TzosTQQKafi7kP6xic5Mh6', 'changeGraph', 'eyJpZCI6IDI3OSwgInR5cGUiOiAidmVydGV4IiwgInByb3BzIjogeyJjb2xvciI6IDE2NzExNjgwfX0K');</script>\n",
       "    "
      ],
      "text/plain": [
       "<IPython.core.display.HTML object>"
      ]
     },
     "metadata": {},
     "output_type": "display_data"
    },
    {
     "data": {
      "text/html": [
       "\n",
       "        <div id=\"2EbRh63rU6NyFjD5kz94Lw\"></div>\n",
       "        <script>netpixi.call('2EbRh63rU6NyFjD5kz94Lw', 'TzosTQQKafi7kP6xic5Mh6', 'changeGraph', 'eyJpZCI6IDI4MCwgInR5cGUiOiAidmVydGV4IiwgInByb3BzIjogeyJjb2xvciI6IDE2NzExNjgwfX0K');</script>\n",
       "    "
      ],
      "text/plain": [
       "<IPython.core.display.HTML object>"
      ]
     },
     "metadata": {},
     "output_type": "display_data"
    },
    {
     "data": {
      "text/html": [
       "\n",
       "        <div id=\"ftmXSLtJbMhKckzWYYcrHJ\"></div>\n",
       "        <script>netpixi.call('ftmXSLtJbMhKckzWYYcrHJ', 'TzosTQQKafi7kP6xic5Mh6', 'changeGraph', 'eyJpZCI6IDI4MSwgInR5cGUiOiAidmVydGV4IiwgInByb3BzIjogeyJjb2xvciI6IDY1MjgwfX0K');</script>\n",
       "    "
      ],
      "text/plain": [
       "<IPython.core.display.HTML object>"
      ]
     },
     "metadata": {},
     "output_type": "display_data"
    },
    {
     "data": {
      "text/html": [
       "\n",
       "        <div id=\"UpikCUXdL5BDzynBLonJ9j\"></div>\n",
       "        <script>netpixi.call('UpikCUXdL5BDzynBLonJ9j', 'TzosTQQKafi7kP6xic5Mh6', 'changeGraph', 'eyJpZCI6IDI4MiwgInR5cGUiOiAidmVydGV4IiwgInByb3BzIjogeyJjb2xvciI6IDE2NzExNjgwfX0K');</script>\n",
       "    "
      ],
      "text/plain": [
       "<IPython.core.display.HTML object>"
      ]
     },
     "metadata": {},
     "output_type": "display_data"
    },
    {
     "data": {
      "text/html": [
       "\n",
       "        <div id=\"4oVw6qT6AGfN6FxT78w7N4\"></div>\n",
       "        <script>netpixi.call('4oVw6qT6AGfN6FxT78w7N4', 'TzosTQQKafi7kP6xic5Mh6', 'changeGraph', 'eyJpZCI6IDI4MywgInR5cGUiOiAidmVydGV4IiwgInByb3BzIjogeyJjb2xvciI6IDY1MjgwfX0K');</script>\n",
       "    "
      ],
      "text/plain": [
       "<IPython.core.display.HTML object>"
      ]
     },
     "metadata": {},
     "output_type": "display_data"
    },
    {
     "data": {
      "text/html": [
       "\n",
       "        <div id=\"7gdB9dDiJDxxEBQEQZuoWB\"></div>\n",
       "        <script>netpixi.call('7gdB9dDiJDxxEBQEQZuoWB', 'TzosTQQKafi7kP6xic5Mh6', 'changeGraph', 'eyJpZCI6IDI4NCwgInR5cGUiOiAidmVydGV4IiwgInByb3BzIjogeyJjb2xvciI6IDY1MjgwfX0K');</script>\n",
       "    "
      ],
      "text/plain": [
       "<IPython.core.display.HTML object>"
      ]
     },
     "metadata": {},
     "output_type": "display_data"
    },
    {
     "data": {
      "text/html": [
       "\n",
       "        <div id=\"UuuhcsvcxfJxWPZA6zVB2V\"></div>\n",
       "        <script>netpixi.call('UuuhcsvcxfJxWPZA6zVB2V', 'TzosTQQKafi7kP6xic5Mh6', 'changeGraph', 'eyJpZCI6IDI4NSwgInR5cGUiOiAidmVydGV4IiwgInByb3BzIjogeyJjb2xvciI6IDY1MjgwfX0K');</script>\n",
       "    "
      ],
      "text/plain": [
       "<IPython.core.display.HTML object>"
      ]
     },
     "metadata": {},
     "output_type": "display_data"
    },
    {
     "data": {
      "text/html": [
       "\n",
       "        <div id=\"BECcSxFwK7bu6M7kRt6L8H\"></div>\n",
       "        <script>netpixi.call('BECcSxFwK7bu6M7kRt6L8H', 'TzosTQQKafi7kP6xic5Mh6', 'changeGraph', 'eyJpZCI6IDI4NiwgInR5cGUiOiAidmVydGV4IiwgInByb3BzIjogeyJjb2xvciI6IDY1MjgwfX0K');</script>\n",
       "    "
      ],
      "text/plain": [
       "<IPython.core.display.HTML object>"
      ]
     },
     "metadata": {},
     "output_type": "display_data"
    },
    {
     "data": {
      "text/html": [
       "\n",
       "        <div id=\"CTMT5dU3WgWsHRVyio5wz6\"></div>\n",
       "        <script>netpixi.call('CTMT5dU3WgWsHRVyio5wz6', 'TzosTQQKafi7kP6xic5Mh6', 'changeGraph', 'eyJpZCI6IDI4NywgInR5cGUiOiAidmVydGV4IiwgInByb3BzIjogeyJjb2xvciI6IDY1MjgwfX0K');</script>\n",
       "    "
      ],
      "text/plain": [
       "<IPython.core.display.HTML object>"
      ]
     },
     "metadata": {},
     "output_type": "display_data"
    },
    {
     "data": {
      "text/html": [
       "\n",
       "        <div id=\"Z84H4qQuBP4rH67DwgEgJm\"></div>\n",
       "        <script>netpixi.call('Z84H4qQuBP4rH67DwgEgJm', 'TzosTQQKafi7kP6xic5Mh6', 'changeGraph', 'eyJpZCI6IDI4OCwgInR5cGUiOiAidmVydGV4IiwgInByb3BzIjogeyJjb2xvciI6IDY1MjgwfX0K');</script>\n",
       "    "
      ],
      "text/plain": [
       "<IPython.core.display.HTML object>"
      ]
     },
     "metadata": {},
     "output_type": "display_data"
    },
    {
     "data": {
      "text/html": [
       "\n",
       "        <div id=\"QZFJWKACY2mP9aE7Auko3S\"></div>\n",
       "        <script>netpixi.call('QZFJWKACY2mP9aE7Auko3S', 'TzosTQQKafi7kP6xic5Mh6', 'changeGraph', 'eyJpZCI6IDI4OSwgInR5cGUiOiAidmVydGV4IiwgInByb3BzIjogeyJjb2xvciI6IDE2NzExNjgwfX0K');</script>\n",
       "    "
      ],
      "text/plain": [
       "<IPython.core.display.HTML object>"
      ]
     },
     "metadata": {},
     "output_type": "display_data"
    },
    {
     "data": {
      "text/html": [
       "\n",
       "        <div id=\"WB77uRfsVhuR8iv75zvgzU\"></div>\n",
       "        <script>netpixi.call('WB77uRfsVhuR8iv75zvgzU', 'TzosTQQKafi7kP6xic5Mh6', 'changeGraph', 'eyJpZCI6IDI5MCwgInR5cGUiOiAidmVydGV4IiwgInByb3BzIjogeyJjb2xvciI6IDY1MjgwfX0K');</script>\n",
       "    "
      ],
      "text/plain": [
       "<IPython.core.display.HTML object>"
      ]
     },
     "metadata": {},
     "output_type": "display_data"
    },
    {
     "data": {
      "text/html": [
       "\n",
       "        <div id=\"2E7szqenU2RSKnejZwptYd\"></div>\n",
       "        <script>netpixi.call('2E7szqenU2RSKnejZwptYd', 'TzosTQQKafi7kP6xic5Mh6', 'changeGraph', 'eyJpZCI6IDI5MSwgInR5cGUiOiAidmVydGV4IiwgInByb3BzIjogeyJjb2xvciI6IDE2NzExNjgwfX0K');</script>\n",
       "    "
      ],
      "text/plain": [
       "<IPython.core.display.HTML object>"
      ]
     },
     "metadata": {},
     "output_type": "display_data"
    },
    {
     "data": {
      "text/html": [
       "\n",
       "        <div id=\"f9uXsvMpyAADG9vBvKembs\"></div>\n",
       "        <script>netpixi.call('f9uXsvMpyAADG9vBvKembs', 'TzosTQQKafi7kP6xic5Mh6', 'changeGraph', 'eyJpZCI6IDI5MiwgInR5cGUiOiAidmVydGV4IiwgInByb3BzIjogeyJjb2xvciI6IDY1MjgwfX0K');</script>\n",
       "    "
      ],
      "text/plain": [
       "<IPython.core.display.HTML object>"
      ]
     },
     "metadata": {},
     "output_type": "display_data"
    },
    {
     "data": {
      "text/html": [
       "\n",
       "        <div id=\"GayLbNanTTWXLzE3Ghrha2\"></div>\n",
       "        <script>netpixi.call('GayLbNanTTWXLzE3Ghrha2', 'TzosTQQKafi7kP6xic5Mh6', 'changeGraph', 'eyJpZCI6IDI5MywgInR5cGUiOiAidmVydGV4IiwgInByb3BzIjogeyJjb2xvciI6IDE2NzExNjgwfX0K');</script>\n",
       "    "
      ],
      "text/plain": [
       "<IPython.core.display.HTML object>"
      ]
     },
     "metadata": {},
     "output_type": "display_data"
    },
    {
     "data": {
      "text/html": [
       "\n",
       "        <div id=\"5V8n93pHtaiemdwR4huNqD\"></div>\n",
       "        <script>netpixi.call('5V8n93pHtaiemdwR4huNqD', 'TzosTQQKafi7kP6xic5Mh6', 'changeGraph', 'eyJpZCI6IDI5NCwgInR5cGUiOiAidmVydGV4IiwgInByb3BzIjogeyJjb2xvciI6IDY1MjgwfX0K');</script>\n",
       "    "
      ],
      "text/plain": [
       "<IPython.core.display.HTML object>"
      ]
     },
     "metadata": {},
     "output_type": "display_data"
    },
    {
     "data": {
      "text/html": [
       "\n",
       "        <div id=\"JdG3harP89XPJGC47TBURJ\"></div>\n",
       "        <script>netpixi.call('JdG3harP89XPJGC47TBURJ', 'TzosTQQKafi7kP6xic5Mh6', 'changeGraph', 'eyJpZCI6IDI5NSwgInR5cGUiOiAidmVydGV4IiwgInByb3BzIjogeyJjb2xvciI6IDY1MjgwfX0K');</script>\n",
       "    "
      ],
      "text/plain": [
       "<IPython.core.display.HTML object>"
      ]
     },
     "metadata": {},
     "output_type": "display_data"
    },
    {
     "data": {
      "text/html": [
       "\n",
       "        <div id=\"RtBjcmMANVGzSp3tBAnw7J\"></div>\n",
       "        <script>netpixi.call('RtBjcmMANVGzSp3tBAnw7J', 'TzosTQQKafi7kP6xic5Mh6', 'changeGraph', 'eyJpZCI6IDI5NiwgInR5cGUiOiAidmVydGV4IiwgInByb3BzIjogeyJjb2xvciI6IDE2NzExNjgwfX0K');</script>\n",
       "    "
      ],
      "text/plain": [
       "<IPython.core.display.HTML object>"
      ]
     },
     "metadata": {},
     "output_type": "display_data"
    },
    {
     "data": {
      "text/html": [
       "\n",
       "        <div id=\"fmyXnUCpCq2uEhTH23qCcG\"></div>\n",
       "        <script>netpixi.call('fmyXnUCpCq2uEhTH23qCcG', 'TzosTQQKafi7kP6xic5Mh6', 'changeGraph', 'eyJpZCI6IDI5NywgInR5cGUiOiAidmVydGV4IiwgInByb3BzIjogeyJjb2xvciI6IDY1MjgwfX0K');</script>\n",
       "    "
      ],
      "text/plain": [
       "<IPython.core.display.HTML object>"
      ]
     },
     "metadata": {},
     "output_type": "display_data"
    },
    {
     "data": {
      "text/html": [
       "\n",
       "        <div id=\"SJLDq2m6TrCqfmH2LRCyMK\"></div>\n",
       "        <script>netpixi.call('SJLDq2m6TrCqfmH2LRCyMK', 'TzosTQQKafi7kP6xic5Mh6', 'changeGraph', 'eyJpZCI6IDI5OCwgInR5cGUiOiAidmVydGV4IiwgInByb3BzIjogeyJjb2xvciI6IDY1MjgwfX0K');</script>\n",
       "    "
      ],
      "text/plain": [
       "<IPython.core.display.HTML object>"
      ]
     },
     "metadata": {},
     "output_type": "display_data"
    },
    {
     "data": {
      "text/html": [
       "\n",
       "        <div id=\"NpVs6DVui9GbA6nSdvnKrJ\"></div>\n",
       "        <script>netpixi.call('NpVs6DVui9GbA6nSdvnKrJ', 'TzosTQQKafi7kP6xic5Mh6', 'changeGraph', 'eyJpZCI6IDAsICJ0eXBlIjogInZlcnRleCIsICJwcm9wcyI6IHsic2l6ZSI6IDE0LjEwMDQxODQxMDA0MTg0fX0K');</script>\n",
       "    "
      ],
      "text/plain": [
       "<IPython.core.display.HTML object>"
      ]
     },
     "metadata": {},
     "output_type": "display_data"
    },
    {
     "data": {
      "text/html": [
       "\n",
       "        <div id=\"VsrYEZwina4h4qf3Y8XZiZ\"></div>\n",
       "        <script>netpixi.call('VsrYEZwina4h4qf3Y8XZiZ', 'TzosTQQKafi7kP6xic5Mh6', 'changeGraph', 'eyJpZCI6IDg3LCAidHlwZSI6ICJ2ZXJ0ZXgiLCAicHJvcHMiOiB7ImNvbG9yIjogMTY3MTE2ODB9fQo=');</script>\n",
       "    "
      ],
      "text/plain": [
       "<IPython.core.display.HTML object>"
      ]
     },
     "metadata": {},
     "output_type": "display_data"
    },
    {
     "data": {
      "text/html": [
       "\n",
       "        <div id=\"kWuPZfvthinDSiyqzWN2uL\"></div>\n",
       "        <script>netpixi.call('kWuPZfvthinDSiyqzWN2uL', 'TzosTQQKafi7kP6xic5Mh6', 'changeGraph', 'eyJpZCI6IDEsICJ0eXBlIjogInZlcnRleCIsICJwcm9wcyI6IHsic2l6ZSI6IDExLjk2NjUyNzE5NjY1MjcyfX0K');</script>\n",
       "    "
      ],
      "text/plain": [
       "<IPython.core.display.HTML object>"
      ]
     },
     "metadata": {},
     "output_type": "display_data"
    },
    {
     "data": {
      "text/html": [
       "\n",
       "        <div id=\"C2CsvUBJyA8QDC86EiXKwJ\"></div>\n",
       "        <script>netpixi.call('C2CsvUBJyA8QDC86EiXKwJ', 'TzosTQQKafi7kP6xic5Mh6', 'changeGraph', 'eyJpZCI6IDczLCAidHlwZSI6ICJ2ZXJ0ZXgiLCAicHJvcHMiOiB7ImNvbG9yIjogMTY3MTE2ODB9fQo=');</script>\n",
       "    "
      ],
      "text/plain": [
       "<IPython.core.display.HTML object>"
      ]
     },
     "metadata": {},
     "output_type": "display_data"
    },
    {
     "data": {
      "text/html": [
       "\n",
       "        <div id=\"jkPMA6zKTqrWRxRkVWWGqD\"></div>\n",
       "        <script>netpixi.call('jkPMA6zKTqrWRxRkVWWGqD', 'TzosTQQKafi7kP6xic5Mh6', 'changeGraph', 'eyJpZCI6IDIsICJ0eXBlIjogInZlcnRleCIsICJwcm9wcyI6IHsic2l6ZSI6IDE1LjU2NDg1MzU1NjQ4NTM1NX19Cg==');</script>\n",
       "    "
      ],
      "text/plain": [
       "<IPython.core.display.HTML object>"
      ]
     },
     "metadata": {},
     "output_type": "display_data"
    },
    {
     "data": {
      "text/html": [
       "\n",
       "        <div id=\"nQwvhXyB9KVRKJLXHnexVw\"></div>\n",
       "        <script>netpixi.call('nQwvhXyB9KVRKJLXHnexVw', 'TzosTQQKafi7kP6xic5Mh6', 'changeGraph', 'eyJpZCI6IDg3LCAidHlwZSI6ICJ2ZXJ0ZXgiLCAicHJvcHMiOiB7ImNvbG9yIjogMTY3MTE2ODB9fQo=');</script>\n",
       "    "
      ],
      "text/plain": [
       "<IPython.core.display.HTML object>"
      ]
     },
     "metadata": {},
     "output_type": "display_data"
    },
    {
     "data": {
      "text/html": [
       "\n",
       "        <div id=\"kfdnonKVd8cHSYJE7Bp9hW\"></div>\n",
       "        <script>netpixi.call('kfdnonKVd8cHSYJE7Bp9hW', 'TzosTQQKafi7kP6xic5Mh6', 'changeGraph', 'eyJpZCI6IDMsICJ0eXBlIjogInZlcnRleCIsICJwcm9wcyI6IHsic2l6ZSI6IDE0LjYwMjUxMDQ2MDI1MTA0N319Cg==');</script>\n",
       "    "
      ],
      "text/plain": [
       "<IPython.core.display.HTML object>"
      ]
     },
     "metadata": {},
     "output_type": "display_data"
    },
    {
     "data": {
      "text/html": [
       "\n",
       "        <div id=\"Epv6EsFzbcpgDb8JeUUQLz\"></div>\n",
       "        <script>netpixi.call('Epv6EsFzbcpgDb8JeUUQLz', 'TzosTQQKafi7kP6xic5Mh6', 'changeGraph', 'eyJpZCI6IDc2LCAidHlwZSI6ICJ2ZXJ0ZXgiLCAicHJvcHMiOiB7ImNvbG9yIjogMTY3MTE2ODB9fQo=');</script>\n",
       "    "
      ],
      "text/plain": [
       "<IPython.core.display.HTML object>"
      ]
     },
     "metadata": {},
     "output_type": "display_data"
    },
    {
     "data": {
      "text/html": [
       "\n",
       "        <div id=\"5kVgUZjhzJQferuQtcwi5H\"></div>\n",
       "        <script>netpixi.call('5kVgUZjhzJQferuQtcwi5H', 'TzosTQQKafi7kP6xic5Mh6', 'changeGraph', 'eyJpZCI6IDQsICJ0eXBlIjogInZlcnRleCIsICJwcm9wcyI6IHsic2l6ZSI6IDE5Ljc5MDc5NDk3OTA3OTQ5N319Cg==');</script>\n",
       "    "
      ],
      "text/plain": [
       "<IPython.core.display.HTML object>"
      ]
     },
     "metadata": {},
     "output_type": "display_data"
    },
    {
     "data": {
      "text/html": [
       "\n",
       "        <div id=\"3CE674xx9oHCoHUD53cHP5\"></div>\n",
       "        <script>netpixi.call('3CE674xx9oHCoHUD53cHP5', 'TzosTQQKafi7kP6xic5Mh6', 'changeGraph', 'eyJpZCI6IDY3LCAidHlwZSI6ICJ2ZXJ0ZXgiLCAicHJvcHMiOiB7ImNvbG9yIjogMTY3MTE2ODB9fQo=');</script>\n",
       "    "
      ],
      "text/plain": [
       "<IPython.core.display.HTML object>"
      ]
     },
     "metadata": {},
     "output_type": "display_data"
    },
    {
     "data": {
      "text/html": [
       "\n",
       "        <div id=\"XB2J7MS3MWm9rDcMKoJhtu\"></div>\n",
       "        <script>netpixi.call('XB2J7MS3MWm9rDcMKoJhtu', 'TzosTQQKafi7kP6xic5Mh6', 'changeGraph', 'eyJpZCI6IDUsICJ0eXBlIjogInZlcnRleCIsICJwcm9wcyI6IHsic2l6ZSI6IDEyLjYzNTk4MzI2MzU5ODMyN319Cg==');</script>\n",
       "    "
      ],
      "text/plain": [
       "<IPython.core.display.HTML object>"
      ]
     },
     "metadata": {},
     "output_type": "display_data"
    },
    {
     "data": {
      "text/html": [
       "\n",
       "        <div id=\"CMqGqN265oKM9tnwjXzzom\"></div>\n",
       "        <script>netpixi.call('CMqGqN265oKM9tnwjXzzom', 'TzosTQQKafi7kP6xic5Mh6', 'changeGraph', 'eyJpZCI6IDcxLCAidHlwZSI6ICJ2ZXJ0ZXgiLCAicHJvcHMiOiB7ImNvbG9yIjogMTY3MTE2ODB9fQo=');</script>\n",
       "    "
      ],
      "text/plain": [
       "<IPython.core.display.HTML object>"
      ]
     },
     "metadata": {},
     "output_type": "display_data"
    },
    {
     "data": {
      "text/html": [
       "\n",
       "        <div id=\"QuZtDJHp7efFtDUqBw6xTb\"></div>\n",
       "        <script>netpixi.call('QuZtDJHp7efFtDUqBw6xTb', 'TzosTQQKafi7kP6xic5Mh6', 'changeGraph', 'eyJpZCI6IDYsICJ0eXBlIjogInZlcnRleCIsICJwcm9wcyI6IHsic2l6ZSI6IDE0LjQ3Njk4NzQ0NzY5ODc0M319Cg==');</script>\n",
       "    "
      ],
      "text/plain": [
       "<IPython.core.display.HTML object>"
      ]
     },
     "metadata": {},
     "output_type": "display_data"
    },
    {
     "data": {
      "text/html": [
       "\n",
       "        <div id=\"3cwbbhpr23UAtJGtEREGDu\"></div>\n",
       "        <script>netpixi.call('3cwbbhpr23UAtJGtEREGDu', 'TzosTQQKafi7kP6xic5Mh6', 'changeGraph', 'eyJpZCI6IDg3LCAidHlwZSI6ICJ2ZXJ0ZXgiLCAicHJvcHMiOiB7ImNvbG9yIjogMTY3MTE2ODB9fQo=');</script>\n",
       "    "
      ],
      "text/plain": [
       "<IPython.core.display.HTML object>"
      ]
     },
     "metadata": {},
     "output_type": "display_data"
    },
    {
     "data": {
      "text/html": [
       "\n",
       "        <div id=\"8zAgDk9SMibWaqyWrkvva5\"></div>\n",
       "        <script>netpixi.call('8zAgDk9SMibWaqyWrkvva5', 'TzosTQQKafi7kP6xic5Mh6', 'changeGraph', 'eyJpZCI6IDcsICJ0eXBlIjogInZlcnRleCIsICJwcm9wcyI6IHsic2l6ZSI6IDE4Ljc4NjYxMDg3ODY2MTA4N319Cg==');</script>\n",
       "    "
      ],
      "text/plain": [
       "<IPython.core.display.HTML object>"
      ]
     },
     "metadata": {},
     "output_type": "display_data"
    },
    {
     "data": {
      "text/html": [
       "\n",
       "        <div id=\"hEfVM79DoJu6pYapKK6moY\"></div>\n",
       "        <script>netpixi.call('hEfVM79DoJu6pYapKK6moY', 'TzosTQQKafi7kP6xic5Mh6', 'changeGraph', 'eyJpZCI6IDcwLCAidHlwZSI6ICJ2ZXJ0ZXgiLCAicHJvcHMiOiB7ImNvbG9yIjogMTY3MTE2ODB9fQo=');</script>\n",
       "    "
      ],
      "text/plain": [
       "<IPython.core.display.HTML object>"
      ]
     },
     "metadata": {},
     "output_type": "display_data"
    },
    {
     "data": {
      "text/html": [
       "\n",
       "        <div id=\"Xeepp3qAREZzq75k5weU5S\"></div>\n",
       "        <script>netpixi.call('Xeepp3qAREZzq75k5weU5S', 'TzosTQQKafi7kP6xic5Mh6', 'changeGraph', 'eyJpZCI6IDgsICJ0eXBlIjogInZlcnRleCIsICJwcm9wcyI6IHsic2l6ZSI6IDEzLjg0OTM3MjM4NDkzNzIzOH19Cg==');</script>\n",
       "    "
      ],
      "text/plain": [
       "<IPython.core.display.HTML object>"
      ]
     },
     "metadata": {},
     "output_type": "display_data"
    },
    {
     "data": {
      "text/html": [
       "\n",
       "        <div id=\"GNV8qJminEo9MXGMfqhqRk\"></div>\n",
       "        <script>netpixi.call('GNV8qJminEo9MXGMfqhqRk', 'TzosTQQKafi7kP6xic5Mh6', 'changeGraph', 'eyJpZCI6IDc1LCAidHlwZSI6ICJ2ZXJ0ZXgiLCAicHJvcHMiOiB7ImNvbG9yIjogMTY3MTE2ODB9fQo=');</script>\n",
       "    "
      ],
      "text/plain": [
       "<IPython.core.display.HTML object>"
      ]
     },
     "metadata": {},
     "output_type": "display_data"
    },
    {
     "data": {
      "text/html": [
       "\n",
       "        <div id=\"Y4mMehjUMVmrbE6UxSmcSL\"></div>\n",
       "        <script>netpixi.call('Y4mMehjUMVmrbE6UxSmcSL', 'TzosTQQKafi7kP6xic5Mh6', 'changeGraph', 'eyJpZCI6IDksICJ0eXBlIjogInZlcnRleCIsICJwcm9wcyI6IHsic2l6ZSI6IDE3LjA3MTEyOTcwNzExMjk3fX0K');</script>\n",
       "    "
      ],
      "text/plain": [
       "<IPython.core.display.HTML object>"
      ]
     },
     "metadata": {},
     "output_type": "display_data"
    },
    {
     "data": {
      "text/html": [
       "\n",
       "        <div id=\"9SNf9NFC9efiKPSHUwxaoR\"></div>\n",
       "        <script>netpixi.call('9SNf9NFC9efiKPSHUwxaoR', 'TzosTQQKafi7kP6xic5Mh6', 'changeGraph', 'eyJpZCI6IDY1LCAidHlwZSI6ICJ2ZXJ0ZXgiLCAicHJvcHMiOiB7ImNvbG9yIjogMTY3MTE2ODB9fQo=');</script>\n",
       "    "
      ],
      "text/plain": [
       "<IPython.core.display.HTML object>"
      ]
     },
     "metadata": {},
     "output_type": "display_data"
    },
    {
     "data": {
      "text/html": [
       "\n",
       "        <div id=\"KnabvMMV9nfWRcsPbUe4Ew\"></div>\n",
       "        <script>netpixi.call('KnabvMMV9nfWRcsPbUe4Ew', 'TzosTQQKafi7kP6xic5Mh6', 'changeGraph', 'eyJpZCI6IDEwLCAidHlwZSI6ICJ2ZXJ0ZXgiLCAicHJvcHMiOiB7InNpemUiOiAxMy4yMjE3NTczMjIxNzU3MzJ9fQo=');</script>\n",
       "    "
      ],
      "text/plain": [
       "<IPython.core.display.HTML object>"
      ]
     },
     "metadata": {},
     "output_type": "display_data"
    },
    {
     "data": {
      "text/html": [
       "\n",
       "        <div id=\"AAJG7aYyhgQ9TUtZNUXCfs\"></div>\n",
       "        <script>netpixi.call('AAJG7aYyhgQ9TUtZNUXCfs', 'TzosTQQKafi7kP6xic5Mh6', 'changeGraph', 'eyJpZCI6IDgyLCAidHlwZSI6ICJ2ZXJ0ZXgiLCAicHJvcHMiOiB7ImNvbG9yIjogMTY3MTE2ODB9fQo=');</script>\n",
       "    "
      ],
      "text/plain": [
       "<IPython.core.display.HTML object>"
      ]
     },
     "metadata": {},
     "output_type": "display_data"
    },
    {
     "data": {
      "text/html": [
       "\n",
       "        <div id=\"3Fs54rAxWkhLKogmeqPCyV\"></div>\n",
       "        <script>netpixi.call('3Fs54rAxWkhLKogmeqPCyV', 'TzosTQQKafi7kP6xic5Mh6', 'changeGraph', 'eyJpZCI6IDExLCAidHlwZSI6ICJ2ZXJ0ZXgiLCAicHJvcHMiOiB7InNpemUiOiAxNC4zNTE0NjQ0MzUxNDY0NDN9fQo=');</script>\n",
       "    "
      ],
      "text/plain": [
       "<IPython.core.display.HTML object>"
      ]
     },
     "metadata": {},
     "output_type": "display_data"
    },
    {
     "data": {
      "text/html": [
       "\n",
       "        <div id=\"BvJkfhh85rGoR2Z3bBWGm5\"></div>\n",
       "        <script>netpixi.call('BvJkfhh85rGoR2Z3bBWGm5', 'TzosTQQKafi7kP6xic5Mh6', 'changeGraph', 'eyJpZCI6IDY0LCAidHlwZSI6ICJ2ZXJ0ZXgiLCAicHJvcHMiOiB7ImNvbG9yIjogMTY3MTE2ODB9fQo=');</script>\n",
       "    "
      ],
      "text/plain": [
       "<IPython.core.display.HTML object>"
      ]
     },
     "metadata": {},
     "output_type": "display_data"
    },
    {
     "data": {
      "text/html": [
       "\n",
       "        <div id=\"ecbTfqd9DoEoHZvrQYqEjw\"></div>\n",
       "        <script>netpixi.call('ecbTfqd9DoEoHZvrQYqEjw', 'TzosTQQKafi7kP6xic5Mh6', 'changeGraph', 'eyJpZCI6IDEyLCAidHlwZSI6ICJ2ZXJ0ZXgiLCAicHJvcHMiOiB7InNpemUiOiAxOC4yNDI2Nzc4MjQyNjc3OH19Cg==');</script>\n",
       "    "
      ],
      "text/plain": [
       "<IPython.core.display.HTML object>"
      ]
     },
     "metadata": {},
     "output_type": "display_data"
    },
    {
     "data": {
      "text/html": [
       "\n",
       "        <div id=\"DWxqFqWZSC6chsV3SqX6mA\"></div>\n",
       "        <script>netpixi.call('DWxqFqWZSC6chsV3SqX6mA', 'TzosTQQKafi7kP6xic5Mh6', 'changeGraph', 'eyJpZCI6IDgzLCAidHlwZSI6ICJ2ZXJ0ZXgiLCAicHJvcHMiOiB7ImNvbG9yIjogMTY3MTE2ODB9fQo=');</script>\n",
       "    "
      ],
      "text/plain": [
       "<IPython.core.display.HTML object>"
      ]
     },
     "metadata": {},
     "output_type": "display_data"
    },
    {
     "data": {
      "text/html": [
       "\n",
       "        <div id=\"beFvJakCmKwtBFyzhmnAR9\"></div>\n",
       "        <script>netpixi.call('beFvJakCmKwtBFyzhmnAR9', 'TzosTQQKafi7kP6xic5Mh6', 'changeGraph', 'eyJpZCI6IDEzLCAidHlwZSI6ICJ2ZXJ0ZXgiLCAicHJvcHMiOiB7InNpemUiOiA0My4zMzMzMzMzMzMzMzMzMzZ9fQo=');</script>\n",
       "    "
      ],
      "text/plain": [
       "<IPython.core.display.HTML object>"
      ]
     },
     "metadata": {},
     "output_type": "display_data"
    },
    {
     "data": {
      "text/html": [
       "\n",
       "        <div id=\"NyCxDxGzuuQDtUQHuLnxhE\"></div>\n",
       "        <script>netpixi.call('NyCxDxGzuuQDtUQHuLnxhE', 'TzosTQQKafi7kP6xic5Mh6', 'changeGraph', 'eyJpZCI6IDc0LCAidHlwZSI6ICJ2ZXJ0ZXgiLCAicHJvcHMiOiB7ImNvbG9yIjogMTY3MTE2ODB9fQo=');</script>\n",
       "    "
      ],
      "text/plain": [
       "<IPython.core.display.HTML object>"
      ]
     },
     "metadata": {},
     "output_type": "display_data"
    },
    {
     "data": {
      "text/html": [
       "\n",
       "        <div id=\"94RoHuZdkmMMWR7opQ3V3U\"></div>\n",
       "        <script>netpixi.call('94RoHuZdkmMMWR7opQ3V3U', 'TzosTQQKafi7kP6xic5Mh6', 'changeGraph', 'eyJpZCI6IDE0LCAidHlwZSI6ICJ2ZXJ0ZXgiLCAicHJvcHMiOiB7InNpemUiOiAxNS4xNDY0NDM1MTQ2NDQzNX19Cg==');</script>\n",
       "    "
      ],
      "text/plain": [
       "<IPython.core.display.HTML object>"
      ]
     },
     "metadata": {},
     "output_type": "display_data"
    },
    {
     "data": {
      "text/html": [
       "\n",
       "        <div id=\"WHsdeoBTG8vBxJmwgfH4rh\"></div>\n",
       "        <script>netpixi.call('WHsdeoBTG8vBxJmwgfH4rh', 'TzosTQQKafi7kP6xic5Mh6', 'changeGraph', 'eyJpZCI6IDUyLCAidHlwZSI6ICJ2ZXJ0ZXgiLCAicHJvcHMiOiB7ImNvbG9yIjogMTY3MTE2ODB9fQo=');</script>\n",
       "    "
      ],
      "text/plain": [
       "<IPython.core.display.HTML object>"
      ]
     },
     "metadata": {},
     "output_type": "display_data"
    },
    {
     "data": {
      "text/html": [
       "\n",
       "        <div id=\"d5LP6ACfdX8aM44hvpvppr\"></div>\n",
       "        <script>netpixi.call('d5LP6ACfdX8aM44hvpvppr', 'TzosTQQKafi7kP6xic5Mh6', 'changeGraph', 'eyJpZCI6IDE1LCAidHlwZSI6ICJ2ZXJ0ZXgiLCAicHJvcHMiOiB7InNpemUiOiAxNC4yMjU5NDE0MjI1OTQxNDJ9fQo=');</script>\n",
       "    "
      ],
      "text/plain": [
       "<IPython.core.display.HTML object>"
      ]
     },
     "metadata": {},
     "output_type": "display_data"
    },
    {
     "data": {
      "text/html": [
       "\n",
       "        <div id=\"iLbnkqqaNkBiuw8HhdaVEX\"></div>\n",
       "        <script>netpixi.call('iLbnkqqaNkBiuw8HhdaVEX', 'TzosTQQKafi7kP6xic5Mh6', 'changeGraph', 'eyJpZCI6IDg0LCAidHlwZSI6ICJ2ZXJ0ZXgiLCAicHJvcHMiOiB7ImNvbG9yIjogMTY3MTE2ODB9fQo=');</script>\n",
       "    "
      ],
      "text/plain": [
       "<IPython.core.display.HTML object>"
      ]
     },
     "metadata": {},
     "output_type": "display_data"
    },
    {
     "data": {
      "text/html": [
       "\n",
       "        <div id=\"bWyJb7g34SARQXkmaLzGbC\"></div>\n",
       "        <script>netpixi.call('bWyJb7g34SARQXkmaLzGbC', 'TzosTQQKafi7kP6xic5Mh6', 'changeGraph', 'eyJpZCI6IDE2LCAidHlwZSI6ICJ2ZXJ0ZXgiLCAicHJvcHMiOiB7InNpemUiOiAxOS4yODg3MDI5Mjg4NzAyOTN9fQo=');</script>\n",
       "    "
      ],
      "text/plain": [
       "<IPython.core.display.HTML object>"
      ]
     },
     "metadata": {},
     "output_type": "display_data"
    },
    {
     "data": {
      "text/html": [
       "\n",
       "        <div id=\"KjHDBgKXD9HuxAcHKXVoCb\"></div>\n",
       "        <script>netpixi.call('KjHDBgKXD9HuxAcHKXVoCb', 'TzosTQQKafi7kP6xic5Mh6', 'changeGraph', 'eyJpZCI6IDg5LCAidHlwZSI6ICJ2ZXJ0ZXgiLCAicHJvcHMiOiB7ImNvbG9yIjogMTY3MTE2ODB9fQo=');</script>\n",
       "    "
      ],
      "text/plain": [
       "<IPython.core.display.HTML object>"
      ]
     },
     "metadata": {},
     "output_type": "display_data"
    },
    {
     "data": {
      "text/html": [
       "\n",
       "        <div id=\"KT3L9k5iczTaVmegrFEVT8\"></div>\n",
       "        <script>netpixi.call('KT3L9k5iczTaVmegrFEVT8', 'TzosTQQKafi7kP6xic5Mh6', 'changeGraph', 'eyJpZCI6IDE3LCAidHlwZSI6ICJ2ZXJ0ZXgiLCAicHJvcHMiOiB7InNpemUiOiAxMS41MDYyNzYxNTA2Mjc2MTV9fQo=');</script>\n",
       "    "
      ],
      "text/plain": [
       "<IPython.core.display.HTML object>"
      ]
     },
     "metadata": {},
     "output_type": "display_data"
    },
    {
     "data": {
      "text/html": [
       "\n",
       "        <div id=\"e6WYEcxZpRq4rVj5bQuwrq\"></div>\n",
       "        <script>netpixi.call('e6WYEcxZpRq4rVj5bQuwrq', 'TzosTQQKafi7kP6xic5Mh6', 'changeGraph', 'eyJpZCI6IDgzLCAidHlwZSI6ICJ2ZXJ0ZXgiLCAicHJvcHMiOiB7ImNvbG9yIjogMTY3MTE2ODB9fQo=');</script>\n",
       "    "
      ],
      "text/plain": [
       "<IPython.core.display.HTML object>"
      ]
     },
     "metadata": {},
     "output_type": "display_data"
    },
    {
     "data": {
      "text/html": [
       "\n",
       "        <div id=\"TNqLwX423ZJ7KKrR8JJiRT\"></div>\n",
       "        <script>netpixi.call('TNqLwX423ZJ7KKrR8JJiRT', 'TzosTQQKafi7kP6xic5Mh6', 'changeGraph', 'eyJpZCI6IDE4LCAidHlwZSI6ICJ2ZXJ0ZXgiLCAicHJvcHMiOiB7InNpemUiOiA0NS4xNjY2NjY2NjY2NjY2NjR9fQo=');</script>\n",
       "    "
      ],
      "text/plain": [
       "<IPython.core.display.HTML object>"
      ]
     },
     "metadata": {},
     "output_type": "display_data"
    },
    {
     "data": {
      "text/html": [
       "\n",
       "        <div id=\"WVnszd5MPHvyLg5zRbJ3kr\"></div>\n",
       "        <script>netpixi.call('WVnszd5MPHvyLg5zRbJ3kr', 'TzosTQQKafi7kP6xic5Mh6', 'changeGraph', 'eyJpZCI6IDcyLCAidHlwZSI6ICJ2ZXJ0ZXgiLCAicHJvcHMiOiB7ImNvbG9yIjogMTY3MTE2ODB9fQo=');</script>\n",
       "    "
      ],
      "text/plain": [
       "<IPython.core.display.HTML object>"
      ]
     },
     "metadata": {},
     "output_type": "display_data"
    },
    {
     "data": {
      "text/html": [
       "\n",
       "        <div id=\"TqkpREdFjUV4RmuvVg3Gso\"></div>\n",
       "        <script>netpixi.call('TqkpREdFjUV4RmuvVg3Gso', 'TzosTQQKafi7kP6xic5Mh6', 'changeGraph', 'eyJpZCI6IDE5LCAidHlwZSI6ICJ2ZXJ0ZXgiLCAicHJvcHMiOiB7InNpemUiOiAxOC42NjEwODc4NjYxMDg3ODd9fQo=');</script>\n",
       "    "
      ],
      "text/plain": [
       "<IPython.core.display.HTML object>"
      ]
     },
     "metadata": {},
     "output_type": "display_data"
    },
    {
     "data": {
      "text/html": [
       "\n",
       "        <div id=\"LhwADDsnthbwJLHhSAcXU7\"></div>\n",
       "        <script>netpixi.call('LhwADDsnthbwJLHhSAcXU7', 'TzosTQQKafi7kP6xic5Mh6', 'changeGraph', 'eyJpZCI6IDY2LCAidHlwZSI6ICJ2ZXJ0ZXgiLCAicHJvcHMiOiB7ImNvbG9yIjogMTY3MTE2ODB9fQo=');</script>\n",
       "    "
      ],
      "text/plain": [
       "<IPython.core.display.HTML object>"
      ]
     },
     "metadata": {},
     "output_type": "display_data"
    },
    {
     "data": {
      "text/html": [
       "\n",
       "        <div id=\"WBhdHPopwfBXJ2Qq8cpLZt\"></div>\n",
       "        <script>netpixi.call('WBhdHPopwfBXJ2Qq8cpLZt', 'TzosTQQKafi7kP6xic5Mh6', 'changeGraph', 'eyJpZCI6IDIwLCAidHlwZSI6ICJ2ZXJ0ZXgiLCAicHJvcHMiOiB7InNpemUiOiAxMy4xNzk5MTYzMTc5OTE2MzJ9fQo=');</script>\n",
       "    "
      ],
      "text/plain": [
       "<IPython.core.display.HTML object>"
      ]
     },
     "metadata": {},
     "output_type": "display_data"
    },
    {
     "data": {
      "text/html": [
       "\n",
       "        <div id=\"5TzNqFDCZHMY8Uquw474RV\"></div>\n",
       "        <script>netpixi.call('5TzNqFDCZHMY8Uquw474RV', 'TzosTQQKafi7kP6xic5Mh6', 'changeGraph', 'eyJpZCI6IDcwLCAidHlwZSI6ICJ2ZXJ0ZXgiLCAicHJvcHMiOiB7ImNvbG9yIjogMTY3MTE2ODB9fQo=');</script>\n",
       "    "
      ],
      "text/plain": [
       "<IPython.core.display.HTML object>"
      ]
     },
     "metadata": {},
     "output_type": "display_data"
    },
    {
     "data": {
      "text/html": [
       "\n",
       "        <div id=\"gdauzUonsiPJoCFzqJFKZT\"></div>\n",
       "        <script>netpixi.call('gdauzUonsiPJoCFzqJFKZT', 'TzosTQQKafi7kP6xic5Mh6', 'changeGraph', 'eyJpZCI6IDIxLCAidHlwZSI6ICJ2ZXJ0ZXgiLCAicHJvcHMiOiB7InNpemUiOiAxNy4zMjIxNzU3MzIyMTc1NzN9fQo=');</script>\n",
       "    "
      ],
      "text/plain": [
       "<IPython.core.display.HTML object>"
      ]
     },
     "metadata": {},
     "output_type": "display_data"
    },
    {
     "data": {
      "text/html": [
       "\n",
       "        <div id=\"ZSg3uVwistkU9S5PTrcZod\"></div>\n",
       "        <script>netpixi.call('ZSg3uVwistkU9S5PTrcZod', 'TzosTQQKafi7kP6xic5Mh6', 'changeGraph', 'eyJpZCI6IDg0LCAidHlwZSI6ICJ2ZXJ0ZXgiLCAicHJvcHMiOiB7ImNvbG9yIjogMTY3MTE2ODB9fQo=');</script>\n",
       "    "
      ],
      "text/plain": [
       "<IPython.core.display.HTML object>"
      ]
     },
     "metadata": {},
     "output_type": "display_data"
    },
    {
     "data": {
      "text/html": [
       "\n",
       "        <div id=\"RvreRYVJSWZT5hbnj9XXYx\"></div>\n",
       "        <script>netpixi.call('RvreRYVJSWZT5hbnj9XXYx', 'TzosTQQKafi7kP6xic5Mh6', 'changeGraph', 'eyJpZCI6IDIyLCAidHlwZSI6ICJ2ZXJ0ZXgiLCAicHJvcHMiOiB7InNpemUiOiA0NC41fX0K');</script>\n",
       "    "
      ],
      "text/plain": [
       "<IPython.core.display.HTML object>"
      ]
     },
     "metadata": {},
     "output_type": "display_data"
    },
    {
     "data": {
      "text/html": [
       "\n",
       "        <div id=\"mZWFDUyygb4z3noiCiFbpJ\"></div>\n",
       "        <script>netpixi.call('mZWFDUyygb4z3noiCiFbpJ', 'TzosTQQKafi7kP6xic5Mh6', 'changeGraph', 'eyJpZCI6IDgwLCAidHlwZSI6ICJ2ZXJ0ZXgiLCAicHJvcHMiOiB7ImNvbG9yIjogMTY3MTE2ODB9fQo=');</script>\n",
       "    "
      ],
      "text/plain": [
       "<IPython.core.display.HTML object>"
      ]
     },
     "metadata": {},
     "output_type": "display_data"
    },
    {
     "data": {
      "text/html": [
       "\n",
       "        <div id=\"LUu5FX69HvDWizbozRYuHC\"></div>\n",
       "        <script>netpixi.call('LUu5FX69HvDWizbozRYuHC', 'TzosTQQKafi7kP6xic5Mh6', 'changeGraph', 'eyJpZCI6IDIzLCAidHlwZSI6ICJ2ZXJ0ZXgiLCAicHJvcHMiOiB7InNpemUiOiAxNi43NzgyNDI2Nzc4MjQyNjd9fQo=');</script>\n",
       "    "
      ],
      "text/plain": [
       "<IPython.core.display.HTML object>"
      ]
     },
     "metadata": {},
     "output_type": "display_data"
    },
    {
     "data": {
      "text/html": [
       "\n",
       "        <div id=\"fXd5yr96QTN94ZQfU6Vynm\"></div>\n",
       "        <script>netpixi.call('fXd5yr96QTN94ZQfU6Vynm', 'TzosTQQKafi7kP6xic5Mh6', 'changeGraph', 'eyJpZCI6IDcwLCAidHlwZSI6ICJ2ZXJ0ZXgiLCAicHJvcHMiOiB7ImNvbG9yIjogMTY3MTE2ODB9fQo=');</script>\n",
       "    "
      ],
      "text/plain": [
       "<IPython.core.display.HTML object>"
      ]
     },
     "metadata": {},
     "output_type": "display_data"
    },
    {
     "data": {
      "text/html": [
       "\n",
       "        <div id=\"VCTanE6eU2yGqbcG2XhpGo\"></div>\n",
       "        <script>netpixi.call('VCTanE6eU2yGqbcG2XhpGo', 'TzosTQQKafi7kP6xic5Mh6', 'changeGraph', 'eyJpZCI6IDI0LCAidHlwZSI6ICJ2ZXJ0ZXgiLCAicHJvcHMiOiB7InNpemUiOiAxNi44NjE5MjQ2ODYxOTI0Njd9fQo=');</script>\n",
       "    "
      ],
      "text/plain": [
       "<IPython.core.display.HTML object>"
      ]
     },
     "metadata": {},
     "output_type": "display_data"
    },
    {
     "data": {
      "text/html": [
       "\n",
       "        <div id=\"EXynhzWspVEGjNbjqJxbBy\"></div>\n",
       "        <script>netpixi.call('EXynhzWspVEGjNbjqJxbBy', 'TzosTQQKafi7kP6xic5Mh6', 'changeGraph', 'eyJpZCI6IDg0LCAidHlwZSI6ICJ2ZXJ0ZXgiLCAicHJvcHMiOiB7ImNvbG9yIjogMTY3MTE2ODB9fQo=');</script>\n",
       "    "
      ],
      "text/plain": [
       "<IPython.core.display.HTML object>"
      ]
     },
     "metadata": {},
     "output_type": "display_data"
    },
    {
     "data": {
      "text/html": [
       "\n",
       "        <div id=\"NkNB7UdjyW7mfirSd5snNy\"></div>\n",
       "        <script>netpixi.call('NkNB7UdjyW7mfirSd5snNy', 'TzosTQQKafi7kP6xic5Mh6', 'changeGraph', 'eyJpZCI6IDI1LCAidHlwZSI6ICJ2ZXJ0ZXgiLCAicHJvcHMiOiB7InNpemUiOiAxMS43OTkxNjMxNzk5MTYzMTh9fQo=');</script>\n",
       "    "
      ],
      "text/plain": [
       "<IPython.core.display.HTML object>"
      ]
     },
     "metadata": {},
     "output_type": "display_data"
    },
    {
     "data": {
      "text/html": [
       "\n",
       "        <div id=\"Vkk5jkaSzSYVkP8REu2Jg5\"></div>\n",
       "        <script>netpixi.call('Vkk5jkaSzSYVkP8REu2Jg5', 'TzosTQQKafi7kP6xic5Mh6', 'changeGraph', 'eyJpZCI6IDcwLCAidHlwZSI6ICJ2ZXJ0ZXgiLCAicHJvcHMiOiB7ImNvbG9yIjogMTY3MTE2ODB9fQo=');</script>\n",
       "    "
      ],
      "text/plain": [
       "<IPython.core.display.HTML object>"
      ]
     },
     "metadata": {},
     "output_type": "display_data"
    },
    {
     "data": {
      "text/html": [
       "\n",
       "        <div id=\"DRAqAgwLbjJEjtysm2EsuR\"></div>\n",
       "        <script>netpixi.call('DRAqAgwLbjJEjtysm2EsuR', 'TzosTQQKafi7kP6xic5Mh6', 'changeGraph', 'eyJpZCI6IDI2LCAidHlwZSI6ICJ2ZXJ0ZXgiLCAicHJvcHMiOiB7InNpemUiOiA0NC4wfX0K');</script>\n",
       "    "
      ],
      "text/plain": [
       "<IPython.core.display.HTML object>"
      ]
     },
     "metadata": {},
     "output_type": "display_data"
    },
    {
     "data": {
      "text/html": [
       "\n",
       "        <div id=\"NiQwh4H3dGYrLxRF9iejcY\"></div>\n",
       "        <script>netpixi.call('NiQwh4H3dGYrLxRF9iejcY', 'TzosTQQKafi7kP6xic5Mh6', 'changeGraph', 'eyJpZCI6IDgzLCAidHlwZSI6ICJ2ZXJ0ZXgiLCAicHJvcHMiOiB7ImNvbG9yIjogMTY3MTE2ODB9fQo=');</script>\n",
       "    "
      ],
      "text/plain": [
       "<IPython.core.display.HTML object>"
      ]
     },
     "metadata": {},
     "output_type": "display_data"
    },
    {
     "data": {
      "text/html": [
       "\n",
       "        <div id=\"Fo6smo5LLJZNNRNuAx7xPM\"></div>\n",
       "        <script>netpixi.call('Fo6smo5LLJZNNRNuAx7xPM', 'TzosTQQKafi7kP6xic5Mh6', 'changeGraph', 'eyJpZCI6IDI3LCAidHlwZSI6ICJ2ZXJ0ZXgiLCAicHJvcHMiOiB7InNpemUiOiAxOC4yODQ1MTg4Mjg0NTE4OH19Cg==');</script>\n",
       "    "
      ],
      "text/plain": [
       "<IPython.core.display.HTML object>"
      ]
     },
     "metadata": {},
     "output_type": "display_data"
    },
    {
     "data": {
      "text/html": [
       "\n",
       "        <div id=\"kNNVqsuoiqanKeq5piBqqz\"></div>\n",
       "        <script>netpixi.call('kNNVqsuoiqanKeq5piBqqz', 'TzosTQQKafi7kP6xic5Mh6', 'changeGraph', 'eyJpZCI6IDgxLCAidHlwZSI6ICJ2ZXJ0ZXgiLCAicHJvcHMiOiB7ImNvbG9yIjogMTY3MTE2ODB9fQo=');</script>\n",
       "    "
      ],
      "text/plain": [
       "<IPython.core.display.HTML object>"
      ]
     },
     "metadata": {},
     "output_type": "display_data"
    },
    {
     "data": {
      "text/html": [
       "\n",
       "        <div id=\"bskWKpzh4vr8eF546QoYgv\"></div>\n",
       "        <script>netpixi.call('bskWKpzh4vr8eF546QoYgv', 'TzosTQQKafi7kP6xic5Mh6', 'changeGraph', 'eyJpZCI6IDI4LCAidHlwZSI6ICJ2ZXJ0ZXgiLCAicHJvcHMiOiB7InNpemUiOiA0Ni4zMzMzMzMzMzMzMzMzMzZ9fQo=');</script>\n",
       "    "
      ],
      "text/plain": [
       "<IPython.core.display.HTML object>"
      ]
     },
     "metadata": {},
     "output_type": "display_data"
    },
    {
     "data": {
      "text/html": [
       "\n",
       "        <div id=\"5NzbWNFCeU4S7GBLz4wwKg\"></div>\n",
       "        <script>netpixi.call('5NzbWNFCeU4S7GBLz4wwKg', 'TzosTQQKafi7kP6xic5Mh6', 'changeGraph', 'eyJpZCI6IDkwLCAidHlwZSI6ICJ2ZXJ0ZXgiLCAicHJvcHMiOiB7ImNvbG9yIjogMTY3MTE2ODB9fQo=');</script>\n",
       "    "
      ],
      "text/plain": [
       "<IPython.core.display.HTML object>"
      ]
     },
     "metadata": {},
     "output_type": "display_data"
    },
    {
     "data": {
      "text/html": [
       "\n",
       "        <div id=\"LRTSqPRWWAE7khpjUSvdPz\"></div>\n",
       "        <script>netpixi.call('LRTSqPRWWAE7khpjUSvdPz', 'TzosTQQKafi7kP6xic5Mh6', 'changeGraph', 'eyJpZCI6IDI5LCAidHlwZSI6ICJ2ZXJ0ZXgiLCAicHJvcHMiOiB7InNpemUiOiAxNy45MDc5NDk3OTA3OTQ5OH19Cg==');</script>\n",
       "    "
      ],
      "text/plain": [
       "<IPython.core.display.HTML object>"
      ]
     },
     "metadata": {},
     "output_type": "display_data"
    },
    {
     "data": {
      "text/html": [
       "\n",
       "        <div id=\"GiXrDnfJWDtvfMNquCLrpC\"></div>\n",
       "        <script>netpixi.call('GiXrDnfJWDtvfMNquCLrpC', 'TzosTQQKafi7kP6xic5Mh6', 'changeGraph', 'eyJpZCI6IDY1LCAidHlwZSI6ICJ2ZXJ0ZXgiLCAicHJvcHMiOiB7ImNvbG9yIjogMTY3MTE2ODB9fQo=');</script>\n",
       "    "
      ],
      "text/plain": [
       "<IPython.core.display.HTML object>"
      ]
     },
     "metadata": {},
     "output_type": "display_data"
    },
    {
     "data": {
      "text/html": [
       "\n",
       "        <div id=\"83BNc3LxJers8YDdPrBDiQ\"></div>\n",
       "        <script>netpixi.call('83BNc3LxJers8YDdPrBDiQ', 'TzosTQQKafi7kP6xic5Mh6', 'changeGraph', 'eyJpZCI6IDMwLCAidHlwZSI6ICJ2ZXJ0ZXgiLCAicHJvcHMiOiB7InNpemUiOiA0My4xNjY2NjY2NjY2NjY2NjR9fQo=');</script>\n",
       "    "
      ],
      "text/plain": [
       "<IPython.core.display.HTML object>"
      ]
     },
     "metadata": {},
     "output_type": "display_data"
    },
    {
     "data": {
      "text/html": [
       "\n",
       "        <div id=\"DAqnjKxZ6BmNbkbRwAh8AQ\"></div>\n",
       "        <script>netpixi.call('DAqnjKxZ6BmNbkbRwAh8AQ', 'TzosTQQKafi7kP6xic5Mh6', 'changeGraph', 'eyJpZCI6IDc3LCAidHlwZSI6ICJ2ZXJ0ZXgiLCAicHJvcHMiOiB7ImNvbG9yIjogMTY3MTE2ODB9fQo=');</script>\n",
       "    "
      ],
      "text/plain": [
       "<IPython.core.display.HTML object>"
      ]
     },
     "metadata": {},
     "output_type": "display_data"
    },
    {
     "data": {
      "text/html": [
       "\n",
       "        <div id=\"g58P8Ku7KbnR9ReyN6hkAg\"></div>\n",
       "        <script>netpixi.call('g58P8Ku7KbnR9ReyN6hkAg', 'TzosTQQKafi7kP6xic5Mh6', 'changeGraph', 'eyJpZCI6IDMxLCAidHlwZSI6ICJ2ZXJ0ZXgiLCAicHJvcHMiOiB7InNpemUiOiA0OS44MzMzMzMzMzMzMzMzMzZ9fQo=');</script>\n",
       "    "
      ],
      "text/plain": [
       "<IPython.core.display.HTML object>"
      ]
     },
     "metadata": {},
     "output_type": "display_data"
    },
    {
     "data": {
      "text/html": [
       "\n",
       "        <div id=\"A5eVceNgctu5iH5CQBMSut\"></div>\n",
       "        <script>netpixi.call('A5eVceNgctu5iH5CQBMSut', 'TzosTQQKafi7kP6xic5Mh6', 'changeGraph', 'eyJpZCI6IDczLCAidHlwZSI6ICJ2ZXJ0ZXgiLCAicHJvcHMiOiB7ImNvbG9yIjogMTY3MTE2ODB9fQo=');</script>\n",
       "    "
      ],
      "text/plain": [
       "<IPython.core.display.HTML object>"
      ]
     },
     "metadata": {},
     "output_type": "display_data"
    },
    {
     "data": {
      "text/html": [
       "\n",
       "        <div id=\"4a5dJgTgp2mwCcaxdBzDHL\"></div>\n",
       "        <script>netpixi.call('4a5dJgTgp2mwCcaxdBzDHL', 'TzosTQQKafi7kP6xic5Mh6', 'changeGraph', 'eyJpZCI6IDMyLCAidHlwZSI6ICJ2ZXJ0ZXgiLCAicHJvcHMiOiB7InNpemUiOiAxMy4wOTYyMzQzMDk2MjM0M319Cg==');</script>\n",
       "    "
      ],
      "text/plain": [
       "<IPython.core.display.HTML object>"
      ]
     },
     "metadata": {},
     "output_type": "display_data"
    },
    {
     "data": {
      "text/html": [
       "\n",
       "        <div id=\"5po4taepnqnchfgdvt8fsG\"></div>\n",
       "        <script>netpixi.call('5po4taepnqnchfgdvt8fsG', 'TzosTQQKafi7kP6xic5Mh6', 'changeGraph', 'eyJpZCI6IDcwLCAidHlwZSI6ICJ2ZXJ0ZXgiLCAicHJvcHMiOiB7ImNvbG9yIjogMTY3MTE2ODB9fQo=');</script>\n",
       "    "
      ],
      "text/plain": [
       "<IPython.core.display.HTML object>"
      ]
     },
     "metadata": {},
     "output_type": "display_data"
    },
    {
     "data": {
      "text/html": [
       "\n",
       "        <div id=\"cg36D5ZxLo7LChWV7Q4fvT\"></div>\n",
       "        <script>netpixi.call('cg36D5ZxLo7LChWV7Q4fvT', 'TzosTQQKafi7kP6xic5Mh6', 'changeGraph', 'eyJpZCI6IDMzLCAidHlwZSI6ICJ2ZXJ0ZXgiLCAicHJvcHMiOiB7InNpemUiOiAxNi41NjkwMzc2NTY5MDM3Njd9fQo=');</script>\n",
       "    "
      ],
      "text/plain": [
       "<IPython.core.display.HTML object>"
      ]
     },
     "metadata": {},
     "output_type": "display_data"
    },
    {
     "data": {
      "text/html": [
       "\n",
       "        <div id=\"jXjL28bYJD5bVEH7azJ6FZ\"></div>\n",
       "        <script>netpixi.call('jXjL28bYJD5bVEH7azJ6FZ', 'TzosTQQKafi7kP6xic5Mh6', 'changeGraph', 'eyJpZCI6IDgzLCAidHlwZSI6ICJ2ZXJ0ZXgiLCAicHJvcHMiOiB7ImNvbG9yIjogMTY3MTE2ODB9fQo=');</script>\n",
       "    "
      ],
      "text/plain": [
       "<IPython.core.display.HTML object>"
      ]
     },
     "metadata": {},
     "output_type": "display_data"
    },
    {
     "data": {
      "text/html": [
       "\n",
       "        <div id=\"hUyFKm5Es2JThFNgT3deb9\"></div>\n",
       "        <script>netpixi.call('hUyFKm5Es2JThFNgT3deb9', 'TzosTQQKafi7kP6xic5Mh6', 'changeGraph', 'eyJpZCI6IDM0LCAidHlwZSI6ICJ2ZXJ0ZXgiLCAicHJvcHMiOiB7InNpemUiOiAxOC45OTU4MTU4OTk1ODE1OX19Cg==');</script>\n",
       "    "
      ],
      "text/plain": [
       "<IPython.core.display.HTML object>"
      ]
     },
     "metadata": {},
     "output_type": "display_data"
    },
    {
     "data": {
      "text/html": [
       "\n",
       "        <div id=\"HPBEjE3waM6U84r3yAZuqq\"></div>\n",
       "        <script>netpixi.call('HPBEjE3waM6U84r3yAZuqq', 'TzosTQQKafi7kP6xic5Mh6', 'changeGraph', 'eyJpZCI6IDc5LCAidHlwZSI6ICJ2ZXJ0ZXgiLCAicHJvcHMiOiB7ImNvbG9yIjogMTY3MTE2ODB9fQo=');</script>\n",
       "    "
      ],
      "text/plain": [
       "<IPython.core.display.HTML object>"
      ]
     },
     "metadata": {},
     "output_type": "display_data"
    },
    {
     "data": {
      "text/html": [
       "\n",
       "        <div id=\"8bo9C7v8g3vhsVcUAFLS5v\"></div>\n",
       "        <script>netpixi.call('8bo9C7v8g3vhsVcUAFLS5v', 'TzosTQQKafi7kP6xic5Mh6', 'changeGraph', 'eyJpZCI6IDM1LCAidHlwZSI6ICJ2ZXJ0ZXgiLCAicHJvcHMiOiB7InNpemUiOiAxNy43NDA1ODU3NzQwNTg1Nzd9fQo=');</script>\n",
       "    "
      ],
      "text/plain": [
       "<IPython.core.display.HTML object>"
      ]
     },
     "metadata": {},
     "output_type": "display_data"
    },
    {
     "data": {
      "text/html": [
       "\n",
       "        <div id=\"TVAV4oR3HthMV5Mqg4z4tJ\"></div>\n",
       "        <script>netpixi.call('TVAV4oR3HthMV5Mqg4z4tJ', 'TzosTQQKafi7kP6xic5Mh6', 'changeGraph', 'eyJpZCI6IDc5LCAidHlwZSI6ICJ2ZXJ0ZXgiLCAicHJvcHMiOiB7ImNvbG9yIjogMTY3MTE2ODB9fQo=');</script>\n",
       "    "
      ],
      "text/plain": [
       "<IPython.core.display.HTML object>"
      ]
     },
     "metadata": {},
     "output_type": "display_data"
    },
    {
     "data": {
      "text/html": [
       "\n",
       "        <div id=\"48Gdn2UHzVZ2Z5kVfUXw8Y\"></div>\n",
       "        <script>netpixi.call('48Gdn2UHzVZ2Z5kVfUXw8Y', 'TzosTQQKafi7kP6xic5Mh6', 'changeGraph', 'eyJpZCI6IDM2LCAidHlwZSI6ICJ2ZXJ0ZXgiLCAicHJvcHMiOiB7InNpemUiOiAxMC4wNDE4NDEwMDQxODQxfX0K');</script>\n",
       "    "
      ],
      "text/plain": [
       "<IPython.core.display.HTML object>"
      ]
     },
     "metadata": {},
     "output_type": "display_data"
    },
    {
     "data": {
      "text/html": [
       "\n",
       "        <div id=\"YHK5yvgkJqRw7GuX6kBbzW\"></div>\n",
       "        <script>netpixi.call('YHK5yvgkJqRw7GuX6kBbzW', 'TzosTQQKafi7kP6xic5Mh6', 'changeGraph', 'eyJpZCI6IDY4LCAidHlwZSI6ICJ2ZXJ0ZXgiLCAicHJvcHMiOiB7ImNvbG9yIjogMTY3MTE2ODB9fQo=');</script>\n",
       "    "
      ],
      "text/plain": [
       "<IPython.core.display.HTML object>"
      ]
     },
     "metadata": {},
     "output_type": "display_data"
    },
    {
     "data": {
      "text/html": [
       "\n",
       "        <div id=\"D3sCgv6zUKf7JpMTpn9f8b\"></div>\n",
       "        <script>netpixi.call('D3sCgv6zUKf7JpMTpn9f8b', 'TzosTQQKafi7kP6xic5Mh6', 'changeGraph', 'eyJpZCI6IDM3LCAidHlwZSI6ICJ2ZXJ0ZXgiLCAicHJvcHMiOiB7InNpemUiOiAxOC4zNjgyMDA4MzY4MjAwODN9fQo=');</script>\n",
       "    "
      ],
      "text/plain": [
       "<IPython.core.display.HTML object>"
      ]
     },
     "metadata": {},
     "output_type": "display_data"
    },
    {
     "data": {
      "text/html": [
       "\n",
       "        <div id=\"85wPpBz9HZXae76VVdKi8R\"></div>\n",
       "        <script>netpixi.call('85wPpBz9HZXae76VVdKi8R', 'TzosTQQKafi7kP6xic5Mh6', 'changeGraph', 'eyJpZCI6IDc5LCAidHlwZSI6ICJ2ZXJ0ZXgiLCAicHJvcHMiOiB7ImNvbG9yIjogMTY3MTE2ODB9fQo=');</script>\n",
       "    "
      ],
      "text/plain": [
       "<IPython.core.display.HTML object>"
      ]
     },
     "metadata": {},
     "output_type": "display_data"
    },
    {
     "data": {
      "text/html": [
       "\n",
       "        <div id=\"hmxU9tAvsnASiiYXtXjg4J\"></div>\n",
       "        <script>netpixi.call('hmxU9tAvsnASiiYXtXjg4J', 'TzosTQQKafi7kP6xic5Mh6', 'changeGraph', 'eyJpZCI6IDM4LCAidHlwZSI6ICJ2ZXJ0ZXgiLCAicHJvcHMiOiB7InNpemUiOiA0MC44MzMzMzMzMzMzMzMzMzZ9fQo=');</script>\n",
       "    "
      ],
      "text/plain": [
       "<IPython.core.display.HTML object>"
      ]
     },
     "metadata": {},
     "output_type": "display_data"
    },
    {
     "data": {
      "text/html": [
       "\n",
       "        <div id=\"HMuFv3FLExXYkNH3XTBorN\"></div>\n",
       "        <script>netpixi.call('HMuFv3FLExXYkNH3XTBorN', 'TzosTQQKafi7kP6xic5Mh6', 'changeGraph', 'eyJpZCI6IDczLCAidHlwZSI6ICJ2ZXJ0ZXgiLCAicHJvcHMiOiB7ImNvbG9yIjogMTY3MTE2ODB9fQo=');</script>\n",
       "    "
      ],
      "text/plain": [
       "<IPython.core.display.HTML object>"
      ]
     },
     "metadata": {},
     "output_type": "display_data"
    },
    {
     "data": {
      "text/html": [
       "\n",
       "        <div id=\"XeiwFvafh6cfw2G2Nd9B7B\"></div>\n",
       "        <script>netpixi.call('XeiwFvafh6cfw2G2Nd9B7B', 'TzosTQQKafi7kP6xic5Mh6', 'changeGraph', 'eyJpZCI6IDM5LCAidHlwZSI6ICJ2ZXJ0ZXgiLCAicHJvcHMiOiB7InNpemUiOiAxMC4zMzQ3MjgwMzM0NzI4MDN9fQo=');</script>\n",
       "    "
      ],
      "text/plain": [
       "<IPython.core.display.HTML object>"
      ]
     },
     "metadata": {},
     "output_type": "display_data"
    },
    {
     "data": {
      "text/html": [
       "\n",
       "        <div id=\"ALeRzEKjGgoQcV53tFmteJ\"></div>\n",
       "        <script>netpixi.call('ALeRzEKjGgoQcV53tFmteJ', 'TzosTQQKafi7kP6xic5Mh6', 'changeGraph', 'eyJpZCI6IDczLCAidHlwZSI6ICJ2ZXJ0ZXgiLCAicHJvcHMiOiB7ImNvbG9yIjogMTY3MTE2ODB9fQo=');</script>\n",
       "    "
      ],
      "text/plain": [
       "<IPython.core.display.HTML object>"
      ]
     },
     "metadata": {},
     "output_type": "display_data"
    },
    {
     "data": {
      "text/html": [
       "\n",
       "        <div id=\"RHjMRMfF2QshjJeyRXFFkj\"></div>\n",
       "        <script>netpixi.call('RHjMRMfF2QshjJeyRXFFkj', 'TzosTQQKafi7kP6xic5Mh6', 'changeGraph', 'eyJpZCI6IDQwLCAidHlwZSI6ICJ2ZXJ0ZXgiLCAicHJvcHMiOiB7InNpemUiOiAxNi4xOTI0Njg2MTkyNDY4Nn19Cg==');</script>\n",
       "    "
      ],
      "text/plain": [
       "<IPython.core.display.HTML object>"
      ]
     },
     "metadata": {},
     "output_type": "display_data"
    },
    {
     "data": {
      "text/html": [
       "\n",
       "        <div id=\"cLaigWUS6hxfGDsv6YSULB\"></div>\n",
       "        <script>netpixi.call('cLaigWUS6hxfGDsv6YSULB', 'TzosTQQKafi7kP6xic5Mh6', 'changeGraph', 'eyJpZCI6IDg0LCAidHlwZSI6ICJ2ZXJ0ZXgiLCAicHJvcHMiOiB7ImNvbG9yIjogMTY3MTE2ODB9fQo=');</script>\n",
       "    "
      ],
      "text/plain": [
       "<IPython.core.display.HTML object>"
      ]
     },
     "metadata": {},
     "output_type": "display_data"
    },
    {
     "data": {
      "text/html": [
       "\n",
       "        <div id=\"df8jDDTBk7hjjGmfLXvijF\"></div>\n",
       "        <script>netpixi.call('df8jDDTBk7hjjGmfLXvijF', 'TzosTQQKafi7kP6xic5Mh6', 'changeGraph', 'eyJpZCI6IDQxLCAidHlwZSI6ICJ2ZXJ0ZXgiLCAicHJvcHMiOiB7InNpemUiOiAxNS4yMzAxMjU1MjMwMTI1NTJ9fQo=');</script>\n",
       "    "
      ],
      "text/plain": [
       "<IPython.core.display.HTML object>"
      ]
     },
     "metadata": {},
     "output_type": "display_data"
    },
    {
     "data": {
      "text/html": [
       "\n",
       "        <div id=\"Xmg6AobsRJnRRw2NDdCudq\"></div>\n",
       "        <script>netpixi.call('Xmg6AobsRJnRRw2NDdCudq', 'TzosTQQKafi7kP6xic5Mh6', 'changeGraph', 'eyJpZCI6IDgxLCAidHlwZSI6ICJ2ZXJ0ZXgiLCAicHJvcHMiOiB7ImNvbG9yIjogMTY3MTE2ODB9fQo=');</script>\n",
       "    "
      ],
      "text/plain": [
       "<IPython.core.display.HTML object>"
      ]
     },
     "metadata": {},
     "output_type": "display_data"
    },
    {
     "data": {
      "text/html": [
       "\n",
       "        <div id=\"cmtbHGEKHxsa6GhWmNKcAn\"></div>\n",
       "        <script>netpixi.call('cmtbHGEKHxsa6GhWmNKcAn', 'TzosTQQKafi7kP6xic5Mh6', 'changeGraph', 'eyJpZCI6IDQyLCAidHlwZSI6ICJ2ZXJ0ZXgiLCAicHJvcHMiOiB7InNpemUiOiAxNy4xOTY2NTI3MTk2NjUyNzN9fQo=');</script>\n",
       "    "
      ],
      "text/plain": [
       "<IPython.core.display.HTML object>"
      ]
     },
     "metadata": {},
     "output_type": "display_data"
    },
    {
     "data": {
      "text/html": [
       "\n",
       "        <div id=\"52FPZV9yoAf5DWL7BNKPEy\"></div>\n",
       "        <script>netpixi.call('52FPZV9yoAf5DWL7BNKPEy', 'TzosTQQKafi7kP6xic5Mh6', 'changeGraph', 'eyJpZCI6IDc4LCAidHlwZSI6ICJ2ZXJ0ZXgiLCAicHJvcHMiOiB7ImNvbG9yIjogMTY3MTE2ODB9fQo=');</script>\n",
       "    "
      ],
      "text/plain": [
       "<IPython.core.display.HTML object>"
      ]
     },
     "metadata": {},
     "output_type": "display_data"
    },
    {
     "data": {
      "text/html": [
       "\n",
       "        <div id=\"9jAwfx44nGhxsPyKuj2D5u\"></div>\n",
       "        <script>netpixi.call('9jAwfx44nGhxsPyKuj2D5u', 'TzosTQQKafi7kP6xic5Mh6', 'changeGraph', 'eyJpZCI6IDQzLCAidHlwZSI6ICJ2ZXJ0ZXgiLCAicHJvcHMiOiB7InNpemUiOiAxMy41OTgzMjYzNTk4MzI2Mzd9fQo=');</script>\n",
       "    "
      ],
      "text/plain": [
       "<IPython.core.display.HTML object>"
      ]
     },
     "metadata": {},
     "output_type": "display_data"
    },
    {
     "data": {
      "text/html": [
       "\n",
       "        <div id=\"cjoZHDVmGYGd8jMmNsQZWb\"></div>\n",
       "        <script>netpixi.call('cjoZHDVmGYGd8jMmNsQZWb', 'TzosTQQKafi7kP6xic5Mh6', 'changeGraph', 'eyJpZCI6IDc3LCAidHlwZSI6ICJ2ZXJ0ZXgiLCAicHJvcHMiOiB7ImNvbG9yIjogMTY3MTE2ODB9fQo=');</script>\n",
       "    "
      ],
      "text/plain": [
       "<IPython.core.display.HTML object>"
      ]
     },
     "metadata": {},
     "output_type": "display_data"
    },
    {
     "data": {
      "text/html": [
       "\n",
       "        <div id=\"NwQzP28aMQW7RbAWiWk824\"></div>\n",
       "        <script>netpixi.call('NwQzP28aMQW7RbAWiWk824', 'TzosTQQKafi7kP6xic5Mh6', 'changeGraph', 'eyJpZCI6IDQ0LCAidHlwZSI6ICJ2ZXJ0ZXgiLCAicHJvcHMiOiB7InNpemUiOiAxMy44OTEyMTMzODkxMjEzMzh9fQo=');</script>\n",
       "    "
      ],
      "text/plain": [
       "<IPython.core.display.HTML object>"
      ]
     },
     "metadata": {},
     "output_type": "display_data"
    },
    {
     "data": {
      "text/html": [
       "\n",
       "        <div id=\"JPeBpLwFL8fQRywEPg4AX8\"></div>\n",
       "        <script>netpixi.call('JPeBpLwFL8fQRywEPg4AX8', 'TzosTQQKafi7kP6xic5Mh6', 'changeGraph', 'eyJpZCI6IDgwLCAidHlwZSI6ICJ2ZXJ0ZXgiLCAicHJvcHMiOiB7ImNvbG9yIjogMTY3MTE2ODB9fQo=');</script>\n",
       "    "
      ],
      "text/plain": [
       "<IPython.core.display.HTML object>"
      ]
     },
     "metadata": {},
     "output_type": "display_data"
    },
    {
     "data": {
      "text/html": [
       "\n",
       "        <div id=\"HvYdERbdmJwacjrSHpDXKP\"></div>\n",
       "        <script>netpixi.call('HvYdERbdmJwacjrSHpDXKP', 'TzosTQQKafi7kP6xic5Mh6', 'changeGraph', 'eyJpZCI6IDQ1LCAidHlwZSI6ICJ2ZXJ0ZXgiLCAicHJvcHMiOiB7InNpemUiOiAxOC43MDI5Mjg4NzAyOTI4ODd9fQo=');</script>\n",
       "    "
      ],
      "text/plain": [
       "<IPython.core.display.HTML object>"
      ]
     },
     "metadata": {},
     "output_type": "display_data"
    },
    {
     "data": {
      "text/html": [
       "\n",
       "        <div id=\"CAwJBXXkfWdijTf8B7nkw9\"></div>\n",
       "        <script>netpixi.call('CAwJBXXkfWdijTf8B7nkw9', 'TzosTQQKafi7kP6xic5Mh6', 'changeGraph', 'eyJpZCI6IDgwLCAidHlwZSI6ICJ2ZXJ0ZXgiLCAicHJvcHMiOiB7ImNvbG9yIjogMTY3MTE2ODB9fQo=');</script>\n",
       "    "
      ],
      "text/plain": [
       "<IPython.core.display.HTML object>"
      ]
     },
     "metadata": {},
     "output_type": "display_data"
    },
    {
     "data": {
      "text/html": [
       "\n",
       "        <div id=\"KA4mxwSyGh7JYoTJAr7ZaX\"></div>\n",
       "        <script>netpixi.call('KA4mxwSyGh7JYoTJAr7ZaX', 'TzosTQQKafi7kP6xic5Mh6', 'changeGraph', 'eyJpZCI6IDQ2LCAidHlwZSI6ICJ2ZXJ0ZXgiLCAicHJvcHMiOiB7InNpemUiOiAxNy40MDU4NTc3NDA1ODU3NzN9fQo=');</script>\n",
       "    "
      ],
      "text/plain": [
       "<IPython.core.display.HTML object>"
      ]
     },
     "metadata": {},
     "output_type": "display_data"
    },
    {
     "data": {
      "text/html": [
       "\n",
       "        <div id=\"RpEbdMNwi4YqNtUYUf9wib\"></div>\n",
       "        <script>netpixi.call('RpEbdMNwi4YqNtUYUf9wib', 'TzosTQQKafi7kP6xic5Mh6', 'changeGraph', 'eyJpZCI6IDgzLCAidHlwZSI6ICJ2ZXJ0ZXgiLCAicHJvcHMiOiB7ImNvbG9yIjogMTY3MTE2ODB9fQo=');</script>\n",
       "    "
      ],
      "text/plain": [
       "<IPython.core.display.HTML object>"
      ]
     },
     "metadata": {},
     "output_type": "display_data"
    },
    {
     "data": {
      "text/html": [
       "\n",
       "        <div id=\"Se3Lsip8SxDBJDm3JAzK8d\"></div>\n",
       "        <script>netpixi.call('Se3Lsip8SxDBJDm3JAzK8d', 'TzosTQQKafi7kP6xic5Mh6', 'changeGraph', 'eyJpZCI6IDQ3LCAidHlwZSI6ICJ2ZXJ0ZXgiLCAicHJvcHMiOiB7InNpemUiOiAxOS4xMjEzMzg5MTIxMzM4OX19Cg==');</script>\n",
       "    "
      ],
      "text/plain": [
       "<IPython.core.display.HTML object>"
      ]
     },
     "metadata": {},
     "output_type": "display_data"
    },
    {
     "data": {
      "text/html": [
       "\n",
       "        <div id=\"Pg5FeHBZx5KigSm7c3rstx\"></div>\n",
       "        <script>netpixi.call('Pg5FeHBZx5KigSm7c3rstx', 'TzosTQQKafi7kP6xic5Mh6', 'changeGraph', 'eyJpZCI6IDg0LCAidHlwZSI6ICJ2ZXJ0ZXgiLCAicHJvcHMiOiB7ImNvbG9yIjogMTY3MTE2ODB9fQo=');</script>\n",
       "    "
      ],
      "text/plain": [
       "<IPython.core.display.HTML object>"
      ]
     },
     "metadata": {},
     "output_type": "display_data"
    },
    {
     "data": {
      "text/html": [
       "\n",
       "        <div id=\"F8YkD42bojByCU7db9u2mJ\"></div>\n",
       "        <script>netpixi.call('F8YkD42bojByCU7db9u2mJ', 'TzosTQQKafi7kP6xic5Mh6', 'changeGraph', 'eyJpZCI6IDQ4LCAidHlwZSI6ICJ2ZXJ0ZXgiLCAicHJvcHMiOiB7InNpemUiOiAxMy43NjU2OTAzNzY1NjkwMzd9fQo=');</script>\n",
       "    "
      ],
      "text/plain": [
       "<IPython.core.display.HTML object>"
      ]
     },
     "metadata": {},
     "output_type": "display_data"
    },
    {
     "data": {
      "text/html": [
       "\n",
       "        <div id=\"Q3DcKLzEsT7yyXrtUkp3xz\"></div>\n",
       "        <script>netpixi.call('Q3DcKLzEsT7yyXrtUkp3xz', 'TzosTQQKafi7kP6xic5Mh6', 'changeGraph', 'eyJpZCI6IDczLCAidHlwZSI6ICJ2ZXJ0ZXgiLCAicHJvcHMiOiB7ImNvbG9yIjogMTY3MTE2ODB9fQo=');</script>\n",
       "    "
      ],
      "text/plain": [
       "<IPython.core.display.HTML object>"
      ]
     },
     "metadata": {},
     "output_type": "display_data"
    },
    {
     "data": {
      "text/html": [
       "\n",
       "        <div id=\"3y2Zy7g6v22U7ybmBwoy5c\"></div>\n",
       "        <script>netpixi.call('3y2Zy7g6v22U7ybmBwoy5c', 'TzosTQQKafi7kP6xic5Mh6', 'changeGraph', 'eyJpZCI6IDQ5LCAidHlwZSI6ICJ2ZXJ0ZXgiLCAicHJvcHMiOiB7InNpemUiOiAxNy44NjYxMDg3ODY2MTA4OH19Cg==');</script>\n",
       "    "
      ],
      "text/plain": [
       "<IPython.core.display.HTML object>"
      ]
     },
     "metadata": {},
     "output_type": "display_data"
    },
    {
     "data": {
      "text/html": [
       "\n",
       "        <div id=\"gciDN33NgM5gtzKPgCaUfu\"></div>\n",
       "        <script>netpixi.call('gciDN33NgM5gtzKPgCaUfu', 'TzosTQQKafi7kP6xic5Mh6', 'changeGraph', 'eyJpZCI6IDg0LCAidHlwZSI6ICJ2ZXJ0ZXgiLCAicHJvcHMiOiB7ImNvbG9yIjogMTY3MTE2ODB9fQo=');</script>\n",
       "    "
      ],
      "text/plain": [
       "<IPython.core.display.HTML object>"
      ]
     },
     "metadata": {},
     "output_type": "display_data"
    },
    {
     "data": {
      "text/html": [
       "\n",
       "        <div id=\"2NkDrWMEqw2sNKGDDGUmcS\"></div>\n",
       "        <script>netpixi.call('2NkDrWMEqw2sNKGDDGUmcS', 'TzosTQQKafi7kP6xic5Mh6', 'changeGraph', 'eyJpZCI6IDUwLCAidHlwZSI6ICJ2ZXJ0ZXgiLCAicHJvcHMiOiB7InNpemUiOiAxMC4xNjczNjQwMTY3MzY0MDJ9fQo=');</script>\n",
       "    "
      ],
      "text/plain": [
       "<IPython.core.display.HTML object>"
      ]
     },
     "metadata": {},
     "output_type": "display_data"
    },
    {
     "data": {
      "text/html": [
       "\n",
       "        <div id=\"ThxXYXYLEdnqwexU4mxYuX\"></div>\n",
       "        <script>netpixi.call('ThxXYXYLEdnqwexU4mxYuX', 'TzosTQQKafi7kP6xic5Mh6', 'changeGraph', 'eyJpZCI6IDgwLCAidHlwZSI6ICJ2ZXJ0ZXgiLCAicHJvcHMiOiB7ImNvbG9yIjogMTY3MTE2ODB9fQo=');</script>\n",
       "    "
      ],
      "text/plain": [
       "<IPython.core.display.HTML object>"
      ]
     },
     "metadata": {},
     "output_type": "display_data"
    },
    {
     "data": {
      "text/html": [
       "\n",
       "        <div id=\"XwXGqA4sTA7T4J6uCVgY9e\"></div>\n",
       "        <script>netpixi.call('XwXGqA4sTA7T4J6uCVgY9e', 'TzosTQQKafi7kP6xic5Mh6', 'changeGraph', 'eyJpZCI6IDUxLCAidHlwZSI6ICJ2ZXJ0ZXgiLCAicHJvcHMiOiB7InNpemUiOiAxOC4wMzM0NzI4MDMzNDcyOH19Cg==');</script>\n",
       "    "
      ],
      "text/plain": [
       "<IPython.core.display.HTML object>"
      ]
     },
     "metadata": {},
     "output_type": "display_data"
    },
    {
     "data": {
      "text/html": [
       "\n",
       "        <div id=\"GVSzkAjps5HAKzhnx4g4s4\"></div>\n",
       "        <script>netpixi.call('GVSzkAjps5HAKzhnx4g4s4', 'TzosTQQKafi7kP6xic5Mh6', 'changeGraph', 'eyJpZCI6IDgwLCAidHlwZSI6ICJ2ZXJ0ZXgiLCAicHJvcHMiOiB7ImNvbG9yIjogMTY3MTE2ODB9fQo=');</script>\n",
       "    "
      ],
      "text/plain": [
       "<IPython.core.display.HTML object>"
      ]
     },
     "metadata": {},
     "output_type": "display_data"
    },
    {
     "data": {
      "text/html": [
       "\n",
       "        <div id=\"Y9Azrpg3uFRQszRXNBn9Lc\"></div>\n",
       "        <script>netpixi.call('Y9Azrpg3uFRQszRXNBn9Lc', 'TzosTQQKafi7kP6xic5Mh6', 'changeGraph', 'eyJpZCI6IDUyLCAidHlwZSI6ICJ2ZXJ0ZXgiLCAicHJvcHMiOiB7InNpemUiOiAxNS4wNjI3NjE1MDYyNzYxNX19Cg==');</script>\n",
       "    "
      ],
      "text/plain": [
       "<IPython.core.display.HTML object>"
      ]
     },
     "metadata": {},
     "output_type": "display_data"
    },
    {
     "data": {
      "text/html": [
       "\n",
       "        <div id=\"GARymDWUuq5iBrs7h4nGNd\"></div>\n",
       "        <script>netpixi.call('GARymDWUuq5iBrs7h4nGNd', 'TzosTQQKafi7kP6xic5Mh6', 'changeGraph', 'eyJpZCI6IDczLCAidHlwZSI6ICJ2ZXJ0ZXgiLCAicHJvcHMiOiB7ImNvbG9yIjogMTY3MTE2ODB9fQo=');</script>\n",
       "    "
      ],
      "text/plain": [
       "<IPython.core.display.HTML object>"
      ]
     },
     "metadata": {},
     "output_type": "display_data"
    },
    {
     "data": {
      "text/html": [
       "\n",
       "        <div id=\"3GRQxfd86etovt6XB5NE8v\"></div>\n",
       "        <script>netpixi.call('3GRQxfd86etovt6XB5NE8v', 'TzosTQQKafi7kP6xic5Mh6', 'changeGraph', 'eyJpZCI6IDUzLCAidHlwZSI6ICJ2ZXJ0ZXgiLCAicHJvcHMiOiB7InNpemUiOiAxNi40NDM1MTQ2NDQzNTE0NjN9fQo=');</script>\n",
       "    "
      ],
      "text/plain": [
       "<IPython.core.display.HTML object>"
      ]
     },
     "metadata": {},
     "output_type": "display_data"
    },
    {
     "data": {
      "text/html": [
       "\n",
       "        <div id=\"RBDfXaHq3kEQS999cd6mn9\"></div>\n",
       "        <script>netpixi.call('RBDfXaHq3kEQS999cd6mn9', 'TzosTQQKafi7kP6xic5Mh6', 'changeGraph', 'eyJpZCI6IDc1LCAidHlwZSI6ICJ2ZXJ0ZXgiLCAicHJvcHMiOiB7ImNvbG9yIjogMTY3MTE2ODB9fQo=');</script>\n",
       "    "
      ],
      "text/plain": [
       "<IPython.core.display.HTML object>"
      ]
     },
     "metadata": {},
     "output_type": "display_data"
    },
    {
     "data": {
      "text/html": [
       "\n",
       "        <div id=\"bWcSGSsDvMy582b9Qo6HNq\"></div>\n",
       "        <script>netpixi.call('bWcSGSsDvMy582b9Qo6HNq', 'TzosTQQKafi7kP6xic5Mh6', 'changeGraph', 'eyJpZCI6IDU0LCAidHlwZSI6ICJ2ZXJ0ZXgiLCAicHJvcHMiOiB7InNpemUiOiA0Mi4wfX0K');</script>\n",
       "    "
      ],
      "text/plain": [
       "<IPython.core.display.HTML object>"
      ]
     },
     "metadata": {},
     "output_type": "display_data"
    },
    {
     "data": {
      "text/html": [
       "\n",
       "        <div id=\"WMk5Fp7297Uhe37K932nB3\"></div>\n",
       "        <script>netpixi.call('WMk5Fp7297Uhe37K932nB3', 'TzosTQQKafi7kP6xic5Mh6', 'changeGraph', 'eyJpZCI6IDc1LCAidHlwZSI6ICJ2ZXJ0ZXgiLCAicHJvcHMiOiB7ImNvbG9yIjogMTY3MTE2ODB9fQo=');</script>\n",
       "    "
      ],
      "text/plain": [
       "<IPython.core.display.HTML object>"
      ]
     },
     "metadata": {},
     "output_type": "display_data"
    },
    {
     "data": {
      "text/html": [
       "\n",
       "        <div id=\"5mtaSFwWzBfVPoewKLKdFV\"></div>\n",
       "        <script>netpixi.call('5mtaSFwWzBfVPoewKLKdFV', 'TzosTQQKafi7kP6xic5Mh6', 'changeGraph', 'eyJpZCI6IDU1LCAidHlwZSI6ICJ2ZXJ0ZXgiLCAicHJvcHMiOiB7InNpemUiOiAxMS4wMDQxODQxMDA0MTg0MX19Cg==');</script>\n",
       "    "
      ],
      "text/plain": [
       "<IPython.core.display.HTML object>"
      ]
     },
     "metadata": {},
     "output_type": "display_data"
    },
    {
     "data": {
      "text/html": [
       "\n",
       "        <div id=\"mi79na5dSncFSzjjmrEa5c\"></div>\n",
       "        <script>netpixi.call('mi79na5dSncFSzjjmrEa5c', 'TzosTQQKafi7kP6xic5Mh6', 'changeGraph', 'eyJpZCI6IDg2LCAidHlwZSI6ICJ2ZXJ0ZXgiLCAicHJvcHMiOiB7ImNvbG9yIjogMTY3MTE2ODB9fQo=');</script>\n",
       "    "
      ],
      "text/plain": [
       "<IPython.core.display.HTML object>"
      ]
     },
     "metadata": {},
     "output_type": "display_data"
    },
    {
     "data": {
      "text/html": [
       "\n",
       "        <div id=\"Dkgr4brbzD547T9ZZoarMb\"></div>\n",
       "        <script>netpixi.call('Dkgr4brbzD547T9ZZoarMb', 'TzosTQQKafi7kP6xic5Mh6', 'changeGraph', 'eyJpZCI6IDU2LCAidHlwZSI6ICJ2ZXJ0ZXgiLCAicHJvcHMiOiB7InNpemUiOiAxMC4xMjU1MjMwMTI1NTIzMDJ9fQo=');</script>\n",
       "    "
      ],
      "text/plain": [
       "<IPython.core.display.HTML object>"
      ]
     },
     "metadata": {},
     "output_type": "display_data"
    },
    {
     "data": {
      "text/html": [
       "\n",
       "        <div id=\"Xuda5HmN9EjpGyZbQn9wov\"></div>\n",
       "        <script>netpixi.call('Xuda5HmN9EjpGyZbQn9wov', 'TzosTQQKafi7kP6xic5Mh6', 'changeGraph', 'eyJpZCI6IDgwLCAidHlwZSI6ICJ2ZXJ0ZXgiLCAicHJvcHMiOiB7ImNvbG9yIjogMTY3MTE2ODB9fQo=');</script>\n",
       "    "
      ],
      "text/plain": [
       "<IPython.core.display.HTML object>"
      ]
     },
     "metadata": {},
     "output_type": "display_data"
    },
    {
     "data": {
      "text/html": [
       "\n",
       "        <div id=\"HrJ3ckMzBv7R2sRqzAG9fE\"></div>\n",
       "        <script>netpixi.call('HrJ3ckMzBv7R2sRqzAG9fE', 'TzosTQQKafi7kP6xic5Mh6', 'changeGraph', 'eyJpZCI6IDU3LCAidHlwZSI6ICJ2ZXJ0ZXgiLCAicHJvcHMiOiB7InNpemUiOiAxMC42Njk0NTYwNjY5NDU2MDd9fQo=');</script>\n",
       "    "
      ],
      "text/plain": [
       "<IPython.core.display.HTML object>"
      ]
     },
     "metadata": {},
     "output_type": "display_data"
    },
    {
     "data": {
      "text/html": [
       "\n",
       "        <div id=\"CzVYqZFETbnMHpxUwnRjGr\"></div>\n",
       "        <script>netpixi.call('CzVYqZFETbnMHpxUwnRjGr', 'TzosTQQKafi7kP6xic5Mh6', 'changeGraph', 'eyJpZCI6IDY5LCAidHlwZSI6ICJ2ZXJ0ZXgiLCAicHJvcHMiOiB7ImNvbG9yIjogMTY3MTE2ODB9fQo=');</script>\n",
       "    "
      ],
      "text/plain": [
       "<IPython.core.display.HTML object>"
      ]
     },
     "metadata": {},
     "output_type": "display_data"
    },
    {
     "data": {
      "text/html": [
       "\n",
       "        <div id=\"DDwqBiLYN6jqnu3B4EWJE6\"></div>\n",
       "        <script>netpixi.call('DDwqBiLYN6jqnu3B4EWJE6', 'TzosTQQKafi7kP6xic5Mh6', 'changeGraph', 'eyJpZCI6IDU4LCAidHlwZSI6ICJ2ZXJ0ZXgiLCAicHJvcHMiOiB7InNpemUiOiA0Mi4zMzMzMzMzMzMzMzMzMzZ9fQo=');</script>\n",
       "    "
      ],
      "text/plain": [
       "<IPython.core.display.HTML object>"
      ]
     },
     "metadata": {},
     "output_type": "display_data"
    },
    {
     "data": {
      "text/html": [
       "\n",
       "        <div id=\"aJwNsXyNtVdueHFwjdxVqV\"></div>\n",
       "        <script>netpixi.call('aJwNsXyNtVdueHFwjdxVqV', 'TzosTQQKafi7kP6xic5Mh6', 'changeGraph', 'eyJpZCI6IDgxLCAidHlwZSI6ICJ2ZXJ0ZXgiLCAicHJvcHMiOiB7ImNvbG9yIjogMTY3MTE2ODB9fQo=');</script>\n",
       "    "
      ],
      "text/plain": [
       "<IPython.core.display.HTML object>"
      ]
     },
     "metadata": {},
     "output_type": "display_data"
    },
    {
     "data": {
      "text/html": [
       "\n",
       "        <div id=\"jFb9iMq89n6EjDEnZ9ZCbq\"></div>\n",
       "        <script>netpixi.call('jFb9iMq89n6EjDEnZ9ZCbq', 'TzosTQQKafi7kP6xic5Mh6', 'changeGraph', 'eyJpZCI6IDU5LCAidHlwZSI6ICJ2ZXJ0ZXgiLCAicHJvcHMiOiB7InNpemUiOiAxMy4wMTI1NTIzMDEyNTUyM319Cg==');</script>\n",
       "    "
      ],
      "text/plain": [
       "<IPython.core.display.HTML object>"
      ]
     },
     "metadata": {},
     "output_type": "display_data"
    },
    {
     "data": {
      "text/html": [
       "\n",
       "        <div id=\"RoqbLKptb26LJokGvxMPDM\"></div>\n",
       "        <script>netpixi.call('RoqbLKptb26LJokGvxMPDM', 'TzosTQQKafi7kP6xic5Mh6', 'changeGraph', 'eyJpZCI6IDczLCAidHlwZSI6ICJ2ZXJ0ZXgiLCAicHJvcHMiOiB7ImNvbG9yIjogMTY3MTE2ODB9fQo=');</script>\n",
       "    "
      ],
      "text/plain": [
       "<IPython.core.display.HTML object>"
      ]
     },
     "metadata": {},
     "output_type": "display_data"
    },
    {
     "data": {
      "text/html": [
       "\n",
       "        <div id=\"TZFUtbvHw9SWKcWn8ZNZPb\"></div>\n",
       "        <script>netpixi.call('TZFUtbvHw9SWKcWn8ZNZPb', 'TzosTQQKafi7kP6xic5Mh6', 'changeGraph', 'eyJpZCI6IDYwLCAidHlwZSI6ICJ2ZXJ0ZXgiLCAicHJvcHMiOiB7InNpemUiOiAxMS42NzM2NDAxNjczNjQwMTd9fQo=');</script>\n",
       "    "
      ],
      "text/plain": [
       "<IPython.core.display.HTML object>"
      ]
     },
     "metadata": {},
     "output_type": "display_data"
    },
    {
     "data": {
      "text/html": [
       "\n",
       "        <div id=\"KMwGCaxwrjV3gVJLxjPTRD\"></div>\n",
       "        <script>netpixi.call('KMwGCaxwrjV3gVJLxjPTRD', 'TzosTQQKafi7kP6xic5Mh6', 'changeGraph', 'eyJpZCI6IDc5LCAidHlwZSI6ICJ2ZXJ0ZXgiLCAicHJvcHMiOiB7ImNvbG9yIjogMTY3MTE2ODB9fQo=');</script>\n",
       "    "
      ],
      "text/plain": [
       "<IPython.core.display.HTML object>"
      ]
     },
     "metadata": {},
     "output_type": "display_data"
    },
    {
     "data": {
      "text/html": [
       "\n",
       "        <div id=\"8xPogrBjpMMCztqWBMT37i\"></div>\n",
       "        <script>netpixi.call('8xPogrBjpMMCztqWBMT37i', 'TzosTQQKafi7kP6xic5Mh6', 'changeGraph', 'eyJpZCI6IDYxLCAidHlwZSI6ICJ2ZXJ0ZXgiLCAicHJvcHMiOiB7InNpemUiOiA0Ny4zMzMzMzMzMzMzMzMzMzZ9fQo=');</script>\n",
       "    "
      ],
      "text/plain": [
       "<IPython.core.display.HTML object>"
      ]
     },
     "metadata": {},
     "output_type": "display_data"
    },
    {
     "data": {
      "text/html": [
       "\n",
       "        <div id=\"8GHSn9gNYAP2PADUTZoofs\"></div>\n",
       "        <script>netpixi.call('8GHSn9gNYAP2PADUTZoofs', 'TzosTQQKafi7kP6xic5Mh6', 'changeGraph', 'eyJpZCI6IDY4LCAidHlwZSI6ICJ2ZXJ0ZXgiLCAicHJvcHMiOiB7ImNvbG9yIjogMTY3MTE2ODB9fQo=');</script>\n",
       "    "
      ],
      "text/plain": [
       "<IPython.core.display.HTML object>"
      ]
     },
     "metadata": {},
     "output_type": "display_data"
    },
    {
     "data": {
      "text/html": [
       "\n",
       "        <div id=\"5QAaqzb9YFwQtNeWVjN9aV\"></div>\n",
       "        <script>netpixi.call('5QAaqzb9YFwQtNeWVjN9aV', 'TzosTQQKafi7kP6xic5Mh6', 'changeGraph', 'eyJpZCI6IDYyLCAidHlwZSI6ICJ2ZXJ0ZXgiLCAicHJvcHMiOiB7InNpemUiOiA0MS4zMzMzMzMzMzMzMzMzM319Cg==');</script>\n",
       "    "
      ],
      "text/plain": [
       "<IPython.core.display.HTML object>"
      ]
     },
     "metadata": {},
     "output_type": "display_data"
    },
    {
     "data": {
      "text/html": [
       "\n",
       "        <div id=\"XnbbkB4Au695Sa2d8RzM8M\"></div>\n",
       "        <script>netpixi.call('XnbbkB4Au695Sa2d8RzM8M', 'TzosTQQKafi7kP6xic5Mh6', 'changeGraph', 'eyJpZCI6IDgxLCAidHlwZSI6ICJ2ZXJ0ZXgiLCAicHJvcHMiOiB7ImNvbG9yIjogMTY3MTE2ODB9fQo=');</script>\n",
       "    "
      ],
      "text/plain": [
       "<IPython.core.display.HTML object>"
      ]
     },
     "metadata": {},
     "output_type": "display_data"
    },
    {
     "data": {
      "text/html": [
       "\n",
       "        <div id=\"RQTwyqYCE6iwDPUssgiUDM\"></div>\n",
       "        <script>netpixi.call('RQTwyqYCE6iwDPUssgiUDM', 'TzosTQQKafi7kP6xic5Mh6', 'changeGraph', 'eyJpZCI6IDYzLCAidHlwZSI6ICJ2ZXJ0ZXgiLCAicHJvcHMiOiB7InNpemUiOiAxMy4yNjM1OTgzMjYzNTk4MzN9fQo=');</script>\n",
       "    "
      ],
      "text/plain": [
       "<IPython.core.display.HTML object>"
      ]
     },
     "metadata": {},
     "output_type": "display_data"
    },
    {
     "data": {
      "text/html": [
       "\n",
       "        <div id=\"fegEWehHApJJTfucm24HqQ\"></div>\n",
       "        <script>netpixi.call('fegEWehHApJJTfucm24HqQ', 'TzosTQQKafi7kP6xic5Mh6', 'changeGraph', 'eyJpZCI6IDgyLCAidHlwZSI6ICJ2ZXJ0ZXgiLCAicHJvcHMiOiB7ImNvbG9yIjogMTY3MTE2ODB9fQo=');</script>\n",
       "    "
      ],
      "text/plain": [
       "<IPython.core.display.HTML object>"
      ]
     },
     "metadata": {},
     "output_type": "display_data"
    },
    {
     "data": {
      "text/html": [
       "\n",
       "        <div id=\"KMFaTUAB3iJMKkMkpayXQQ\"></div>\n",
       "        <script>netpixi.call('KMFaTUAB3iJMKkMkpayXQQ', 'TzosTQQKafi7kP6xic5Mh6', 'changeGraph', 'eyJpZCI6IDY0LCAidHlwZSI6ICJ2ZXJ0ZXgiLCAicHJvcHMiOiB7InNpemUiOiAxNi4wMjUxMDQ2MDI1MTA0Nn19Cg==');</script>\n",
       "    "
      ],
      "text/plain": [
       "<IPython.core.display.HTML object>"
      ]
     },
     "metadata": {},
     "output_type": "display_data"
    },
    {
     "data": {
      "text/html": [
       "\n",
       "        <div id=\"QnYVtKRkgMDbFmfSKw9k3g\"></div>\n",
       "        <script>netpixi.call('QnYVtKRkgMDbFmfSKw9k3g', 'TzosTQQKafi7kP6xic5Mh6', 'changeGraph', 'eyJpZCI6IDg1LCAidHlwZSI6ICJ2ZXJ0ZXgiLCAicHJvcHMiOiB7ImNvbG9yIjogMTY3MTE2ODB9fQo=');</script>\n",
       "    "
      ],
      "text/plain": [
       "<IPython.core.display.HTML object>"
      ]
     },
     "metadata": {},
     "output_type": "display_data"
    },
    {
     "data": {
      "text/html": [
       "\n",
       "        <div id=\"ZGosTMcqEQPmwmxGDbZNk4\"></div>\n",
       "        <script>netpixi.call('ZGosTMcqEQPmwmxGDbZNk4', 'TzosTQQKafi7kP6xic5Mh6', 'changeGraph', 'eyJpZCI6IDY1LCAidHlwZSI6ICJ2ZXJ0ZXgiLCAicHJvcHMiOiB7InNpemUiOiAxOS41ODE1ODk5NTgxNTg5OTN9fQo=');</script>\n",
       "    "
      ],
      "text/plain": [
       "<IPython.core.display.HTML object>"
      ]
     },
     "metadata": {},
     "output_type": "display_data"
    },
    {
     "data": {
      "text/html": [
       "\n",
       "        <div id=\"Lv3PSfD7TBwRAzETYfkkWp\"></div>\n",
       "        <script>netpixi.call('Lv3PSfD7TBwRAzETYfkkWp', 'TzosTQQKafi7kP6xic5Mh6', 'changeGraph', 'eyJpZCI6IDc3LCAidHlwZSI6ICJ2ZXJ0ZXgiLCAicHJvcHMiOiB7ImNvbG9yIjogMTY3MTE2ODB9fQo=');</script>\n",
       "    "
      ],
      "text/plain": [
       "<IPython.core.display.HTML object>"
      ]
     },
     "metadata": {},
     "output_type": "display_data"
    },
    {
     "data": {
      "text/html": [
       "\n",
       "        <div id=\"ir9szTDjbX2GHeZDQqxaNx\"></div>\n",
       "        <script>netpixi.call('ir9szTDjbX2GHeZDQqxaNx', 'TzosTQQKafi7kP6xic5Mh6', 'changeGraph', 'eyJpZCI6IDY2LCAidHlwZSI6ICJ2ZXJ0ZXgiLCAicHJvcHMiOiB7InNpemUiOiAxMS4zODA3NTMxMzgwNzUzMTN9fQo=');</script>\n",
       "    "
      ],
      "text/plain": [
       "<IPython.core.display.HTML object>"
      ]
     },
     "metadata": {},
     "output_type": "display_data"
    },
    {
     "data": {
      "text/html": [
       "\n",
       "        <div id=\"fnWLqfRn43LbQEKmyxFwbB\"></div>\n",
       "        <script>netpixi.call('fnWLqfRn43LbQEKmyxFwbB', 'TzosTQQKafi7kP6xic5Mh6', 'changeGraph', 'eyJpZCI6IDc5LCAidHlwZSI6ICJ2ZXJ0ZXgiLCAicHJvcHMiOiB7ImNvbG9yIjogMTY3MTE2ODB9fQo=');</script>\n",
       "    "
      ],
      "text/plain": [
       "<IPython.core.display.HTML object>"
      ]
     },
     "metadata": {},
     "output_type": "display_data"
    },
    {
     "data": {
      "text/html": [
       "\n",
       "        <div id=\"LQPsZVZyb8iDNscwukPnKo\"></div>\n",
       "        <script>netpixi.call('LQPsZVZyb8iDNscwukPnKo', 'TzosTQQKafi7kP6xic5Mh6', 'changeGraph', 'eyJpZCI6IDY3LCAidHlwZSI6ICJ2ZXJ0ZXgiLCAicHJvcHMiOiB7InNpemUiOiA0MC4xNjY2NjY2NjY2NjY2NjR9fQo=');</script>\n",
       "    "
      ],
      "text/plain": [
       "<IPython.core.display.HTML object>"
      ]
     },
     "metadata": {},
     "output_type": "display_data"
    },
    {
     "data": {
      "text/html": [
       "\n",
       "        <div id=\"7UCPRWoNe2SoieNomCGmYf\"></div>\n",
       "        <script>netpixi.call('7UCPRWoNe2SoieNomCGmYf', 'TzosTQQKafi7kP6xic5Mh6', 'changeGraph', 'eyJpZCI6IDgxLCAidHlwZSI6ICJ2ZXJ0ZXgiLCAicHJvcHMiOiB7ImNvbG9yIjogMTY3MTE2ODB9fQo=');</script>\n",
       "    "
      ],
      "text/plain": [
       "<IPython.core.display.HTML object>"
      ]
     },
     "metadata": {},
     "output_type": "display_data"
    },
    {
     "data": {
      "text/html": [
       "\n",
       "        <div id=\"o6PExvCEpqz9ALWyU5wQZW\"></div>\n",
       "        <script>netpixi.call('o6PExvCEpqz9ALWyU5wQZW', 'TzosTQQKafi7kP6xic5Mh6', 'changeGraph', 'eyJpZCI6IDY4LCAidHlwZSI6ICJ2ZXJ0ZXgiLCAicHJvcHMiOiB7InNpemUiOiAxMS4yMTMzODkxMjEzMzg5MTJ9fQo=');</script>\n",
       "    "
      ],
      "text/plain": [
       "<IPython.core.display.HTML object>"
      ]
     },
     "metadata": {},
     "output_type": "display_data"
    },
    {
     "data": {
      "text/html": [
       "\n",
       "        <div id=\"7eYNyiG9z6pzk3HYeMgnj2\"></div>\n",
       "        <script>netpixi.call('7eYNyiG9z6pzk3HYeMgnj2', 'TzosTQQKafi7kP6xic5Mh6', 'changeGraph', 'eyJpZCI6IDY4LCAidHlwZSI6ICJ2ZXJ0ZXgiLCAicHJvcHMiOiB7ImNvbG9yIjogMTY3MTE2ODB9fQo=');</script>\n",
       "    "
      ],
      "text/plain": [
       "<IPython.core.display.HTML object>"
      ]
     },
     "metadata": {},
     "output_type": "display_data"
    },
    {
     "data": {
      "text/html": [
       "\n",
       "        <div id=\"PvNGkxM5LmiCV3nB9NmcEB\"></div>\n",
       "        <script>netpixi.call('PvNGkxM5LmiCV3nB9NmcEB', 'TzosTQQKafi7kP6xic5Mh6', 'changeGraph', 'eyJpZCI6IDY5LCAidHlwZSI6ICJ2ZXJ0ZXgiLCAicHJvcHMiOiB7InNpemUiOiAxMy41MTQ2NDQzNTE0NjQ0MzV9fQo=');</script>\n",
       "    "
      ],
      "text/plain": [
       "<IPython.core.display.HTML object>"
      ]
     },
     "metadata": {},
     "output_type": "display_data"
    },
    {
     "data": {
      "text/html": [
       "\n",
       "        <div id=\"8uCkSfBVpKteKEwKhC8iit\"></div>\n",
       "        <script>netpixi.call('8uCkSfBVpKteKEwKhC8iit', 'TzosTQQKafi7kP6xic5Mh6', 'changeGraph', 'eyJpZCI6IDgwLCAidHlwZSI6ICJ2ZXJ0ZXgiLCAicHJvcHMiOiB7ImNvbG9yIjogMTY3MTE2ODB9fQo=');</script>\n",
       "    "
      ],
      "text/plain": [
       "<IPython.core.display.HTML object>"
      ]
     },
     "metadata": {},
     "output_type": "display_data"
    },
    {
     "data": {
      "text/html": [
       "\n",
       "        <div id=\"hBD4ZHsaK5a4DfyWw8hPwZ\"></div>\n",
       "        <script>netpixi.call('hBD4ZHsaK5a4DfyWw8hPwZ', 'TzosTQQKafi7kP6xic5Mh6', 'changeGraph', 'eyJpZCI6IDcwLCAidHlwZSI6ICJ2ZXJ0ZXgiLCAicHJvcHMiOiB7InNpemUiOiAxMC44Nzg2NjEwODc4NjYxMDh9fQo=');</script>\n",
       "    "
      ],
      "text/plain": [
       "<IPython.core.display.HTML object>"
      ]
     },
     "metadata": {},
     "output_type": "display_data"
    },
    {
     "data": {
      "text/html": [
       "\n",
       "        <div id=\"SFzCd74HEy4yqtDo2S8mqq\"></div>\n",
       "        <script>netpixi.call('SFzCd74HEy4yqtDo2S8mqq', 'TzosTQQKafi7kP6xic5Mh6', 'changeGraph', 'eyJpZCI6IDg2LCAidHlwZSI6ICJ2ZXJ0ZXgiLCAicHJvcHMiOiB7ImNvbG9yIjogMTY3MTE2ODB9fQo=');</script>\n",
       "    "
      ],
      "text/plain": [
       "<IPython.core.display.HTML object>"
      ]
     },
     "metadata": {},
     "output_type": "display_data"
    },
    {
     "data": {
      "text/html": [
       "\n",
       "        <div id=\"K2dUnDgHnVFj9HCca2WbhA\"></div>\n",
       "        <script>netpixi.call('K2dUnDgHnVFj9HCca2WbhA', 'TzosTQQKafi7kP6xic5Mh6', 'changeGraph', 'eyJpZCI6IDcxLCAidHlwZSI6ICJ2ZXJ0ZXgiLCAicHJvcHMiOiB7InNpemUiOiAxNy41NzMyMjE3NTczMjIxNzN9fQo=');</script>\n",
       "    "
      ],
      "text/plain": [
       "<IPython.core.display.HTML object>"
      ]
     },
     "metadata": {},
     "output_type": "display_data"
    },
    {
     "data": {
      "text/html": [
       "\n",
       "        <div id=\"V8mikWDXnz3V2YMXGsfMp9\"></div>\n",
       "        <script>netpixi.call('V8mikWDXnz3V2YMXGsfMp9', 'TzosTQQKafi7kP6xic5Mh6', 'changeGraph', 'eyJpZCI6IDgzLCAidHlwZSI6ICJ2ZXJ0ZXgiLCAicHJvcHMiOiB7ImNvbG9yIjogMTY3MTE2ODB9fQo=');</script>\n",
       "    "
      ],
      "text/plain": [
       "<IPython.core.display.HTML object>"
      ]
     },
     "metadata": {},
     "output_type": "display_data"
    },
    {
     "data": {
      "text/html": [
       "\n",
       "        <div id=\"iYV3Z2ntAu9rRSTbpreJHj\"></div>\n",
       "        <script>netpixi.call('iYV3Z2ntAu9rRSTbpreJHj', 'TzosTQQKafi7kP6xic5Mh6', 'changeGraph', 'eyJpZCI6IDcyLCAidHlwZSI6ICJ2ZXJ0ZXgiLCAicHJvcHMiOiB7InNpemUiOiAxOC4yMDA4MzY4MjAwODM2OH19Cg==');</script>\n",
       "    "
      ],
      "text/plain": [
       "<IPython.core.display.HTML object>"
      ]
     },
     "metadata": {},
     "output_type": "display_data"
    },
    {
     "data": {
      "text/html": [
       "\n",
       "        <div id=\"7MCAq2WofuJkmji2fcjA4w\"></div>\n",
       "        <script>netpixi.call('7MCAq2WofuJkmji2fcjA4w', 'TzosTQQKafi7kP6xic5Mh6', 'changeGraph', 'eyJpZCI6IDc2LCAidHlwZSI6ICJ2ZXJ0ZXgiLCAicHJvcHMiOiB7ImNvbG9yIjogMTY3MTE2ODB9fQo=');</script>\n",
       "    "
      ],
      "text/plain": [
       "<IPython.core.display.HTML object>"
      ]
     },
     "metadata": {},
     "output_type": "display_data"
    },
    {
     "data": {
      "text/html": [
       "\n",
       "        <div id=\"NCZTNXS3D22yciyvCHtPHH\"></div>\n",
       "        <script>netpixi.call('NCZTNXS3D22yciyvCHtPHH', 'TzosTQQKafi7kP6xic5Mh6', 'changeGraph', 'eyJpZCI6IDczLCAidHlwZSI6ICJ2ZXJ0ZXgiLCAicHJvcHMiOiB7InNpemUiOiAxOC41MzU1NjQ4NTM1NTY0ODd9fQo=');</script>\n",
       "    "
      ],
      "text/plain": [
       "<IPython.core.display.HTML object>"
      ]
     },
     "metadata": {},
     "output_type": "display_data"
    },
    {
     "data": {
      "text/html": [
       "\n",
       "        <div id=\"L2U3Y3ucC3TGrvDMmNsXwu\"></div>\n",
       "        <script>netpixi.call('L2U3Y3ucC3TGrvDMmNsXwu', 'TzosTQQKafi7kP6xic5Mh6', 'changeGraph', 'eyJpZCI6IDgzLCAidHlwZSI6ICJ2ZXJ0ZXgiLCAicHJvcHMiOiB7ImNvbG9yIjogMTY3MTE2ODB9fQo=');</script>\n",
       "    "
      ],
      "text/plain": [
       "<IPython.core.display.HTML object>"
      ]
     },
     "metadata": {},
     "output_type": "display_data"
    },
    {
     "data": {
      "text/html": [
       "\n",
       "        <div id=\"kYj3wX78FZCAbfyqstpidX\"></div>\n",
       "        <script>netpixi.call('kYj3wX78FZCAbfyqstpidX', 'TzosTQQKafi7kP6xic5Mh6', 'changeGraph', 'eyJpZCI6IDc0LCAidHlwZSI6ICJ2ZXJ0ZXgiLCAicHJvcHMiOiB7InNpemUiOiAxMy44MDc1MzEzODA3NTMxMzh9fQo=');</script>\n",
       "    "
      ],
      "text/plain": [
       "<IPython.core.display.HTML object>"
      ]
     },
     "metadata": {},
     "output_type": "display_data"
    },
    {
     "data": {
      "text/html": [
       "\n",
       "        <div id=\"YD7iRtZnajfneXPz3ERPod\"></div>\n",
       "        <script>netpixi.call('YD7iRtZnajfneXPz3ERPod', 'TzosTQQKafi7kP6xic5Mh6', 'changeGraph', 'eyJpZCI6IDc5LCAidHlwZSI6ICJ2ZXJ0ZXgiLCAicHJvcHMiOiB7ImNvbG9yIjogMTY3MTE2ODB9fQo=');</script>\n",
       "    "
      ],
      "text/plain": [
       "<IPython.core.display.HTML object>"
      ]
     },
     "metadata": {},
     "output_type": "display_data"
    },
    {
     "data": {
      "text/html": [
       "\n",
       "        <div id=\"hDcEnC3GBdKE5vEZeGLKUH\"></div>\n",
       "        <script>netpixi.call('hDcEnC3GBdKE5vEZeGLKUH', 'TzosTQQKafi7kP6xic5Mh6', 'changeGraph', 'eyJpZCI6IDc1LCAidHlwZSI6ICJ2ZXJ0ZXgiLCAicHJvcHMiOiB7InNpemUiOiA0Mi42NjY2NjY2NjY2NjY2NjR9fQo=');</script>\n",
       "    "
      ],
      "text/plain": [
       "<IPython.core.display.HTML object>"
      ]
     },
     "metadata": {},
     "output_type": "display_data"
    },
    {
     "data": {
      "text/html": [
       "\n",
       "        <div id=\"dsshGqMA83HSHBttU83gEN\"></div>\n",
       "        <script>netpixi.call('dsshGqMA83HSHBttU83gEN', 'TzosTQQKafi7kP6xic5Mh6', 'changeGraph', 'eyJpZCI6IDgxLCAidHlwZSI6ICJ2ZXJ0ZXgiLCAicHJvcHMiOiB7ImNvbG9yIjogMTY3MTE2ODB9fQo=');</script>\n",
       "    "
      ],
      "text/plain": [
       "<IPython.core.display.HTML object>"
      ]
     },
     "metadata": {},
     "output_type": "display_data"
    },
    {
     "data": {
      "text/html": [
       "\n",
       "        <div id=\"ZKWBotgbjWSxmE6Let4YSP\"></div>\n",
       "        <script>netpixi.call('ZKWBotgbjWSxmE6Let4YSP', 'TzosTQQKafi7kP6xic5Mh6', 'changeGraph', 'eyJpZCI6IDc2LCAidHlwZSI6ICJ2ZXJ0ZXgiLCAicHJvcHMiOiB7InNpemUiOiA0Ny4wfX0K');</script>\n",
       "    "
      ],
      "text/plain": [
       "<IPython.core.display.HTML object>"
      ]
     },
     "metadata": {},
     "output_type": "display_data"
    },
    {
     "data": {
      "text/html": [
       "\n",
       "        <div id=\"364gkN6dVKq7C3KrQw9wxP\"></div>\n",
       "        <script>netpixi.call('364gkN6dVKq7C3KrQw9wxP', 'TzosTQQKafi7kP6xic5Mh6', 'changeGraph', 'eyJpZCI6IDgyLCAidHlwZSI6ICJ2ZXJ0ZXgiLCAicHJvcHMiOiB7ImNvbG9yIjogMTY3MTE2ODB9fQo=');</script>\n",
       "    "
      ],
      "text/plain": [
       "<IPython.core.display.HTML object>"
      ]
     },
     "metadata": {},
     "output_type": "display_data"
    },
    {
     "data": {
      "text/html": [
       "\n",
       "        <div id=\"fN7XNfGBSfVA9HQRevRnJd\"></div>\n",
       "        <script>netpixi.call('fN7XNfGBSfVA9HQRevRnJd', 'TzosTQQKafi7kP6xic5Mh6', 'changeGraph', 'eyJpZCI6IDc3LCAidHlwZSI6ICJ2ZXJ0ZXgiLCAicHJvcHMiOiB7InNpemUiOiAxOC4wNzUzMTM4MDc1MzEzOH19Cg==');</script>\n",
       "    "
      ],
      "text/plain": [
       "<IPython.core.display.HTML object>"
      ]
     },
     "metadata": {},
     "output_type": "display_data"
    },
    {
     "data": {
      "text/html": [
       "\n",
       "        <div id=\"bpwReGcM9ntksVnVtvBTTZ\"></div>\n",
       "        <script>netpixi.call('bpwReGcM9ntksVnVtvBTTZ', 'TzosTQQKafi7kP6xic5Mh6', 'changeGraph', 'eyJpZCI6IDY3LCAidHlwZSI6ICJ2ZXJ0ZXgiLCAicHJvcHMiOiB7ImNvbG9yIjogMTY3MTE2ODB9fQo=');</script>\n",
       "    "
      ],
      "text/plain": [
       "<IPython.core.display.HTML object>"
      ]
     },
     "metadata": {},
     "output_type": "display_data"
    },
    {
     "data": {
      "text/html": [
       "\n",
       "        <div id=\"mRAFXqhKFUmQzG5fMBhhyM\"></div>\n",
       "        <script>netpixi.call('mRAFXqhKFUmQzG5fMBhhyM', 'TzosTQQKafi7kP6xic5Mh6', 'changeGraph', 'eyJpZCI6IDc4LCAidHlwZSI6ICJ2ZXJ0ZXgiLCAicHJvcHMiOiB7InNpemUiOiAxNC4yNjc3ODI0MjY3NzgyNDN9fQo=');</script>\n",
       "    "
      ],
      "text/plain": [
       "<IPython.core.display.HTML object>"
      ]
     },
     "metadata": {},
     "output_type": "display_data"
    },
    {
     "data": {
      "text/html": [
       "\n",
       "        <div id=\"N2VFffwRw74LFSN5resxUK\"></div>\n",
       "        <script>netpixi.call('N2VFffwRw74LFSN5resxUK', 'TzosTQQKafi7kP6xic5Mh6', 'changeGraph', 'eyJpZCI6IDc4LCAidHlwZSI6ICJ2ZXJ0ZXgiLCAicHJvcHMiOiB7ImNvbG9yIjogMTY3MTE2ODB9fQo=');</script>\n",
       "    "
      ],
      "text/plain": [
       "<IPython.core.display.HTML object>"
      ]
     },
     "metadata": {},
     "output_type": "display_data"
    },
    {
     "data": {
      "text/html": [
       "\n",
       "        <div id=\"k6fztv7ywvRbgASSkJQHYo\"></div>\n",
       "        <script>netpixi.call('k6fztv7ywvRbgASSkJQHYo', 'TzosTQQKafi7kP6xic5Mh6', 'changeGraph', 'eyJpZCI6IDc5LCAidHlwZSI6ICJ2ZXJ0ZXgiLCAicHJvcHMiOiB7InNpemUiOiAxNy42MTUwNjI3NjE1MDYyNzd9fQo=');</script>\n",
       "    "
      ],
      "text/plain": [
       "<IPython.core.display.HTML object>"
      ]
     },
     "metadata": {},
     "output_type": "display_data"
    },
    {
     "data": {
      "text/html": [
       "\n",
       "        <div id=\"W9L4fWxHUgUKpeP5KM8SXG\"></div>\n",
       "        <script>netpixi.call('W9L4fWxHUgUKpeP5KM8SXG', 'TzosTQQKafi7kP6xic5Mh6', 'changeGraph', 'eyJpZCI6IDgxLCAidHlwZSI6ICJ2ZXJ0ZXgiLCAicHJvcHMiOiB7ImNvbG9yIjogMTY3MTE2ODB9fQo=');</script>\n",
       "    "
      ],
      "text/plain": [
       "<IPython.core.display.HTML object>"
      ]
     },
     "metadata": {},
     "output_type": "display_data"
    },
    {
     "data": {
      "text/html": [
       "\n",
       "        <div id=\"SS7PZiKQtCPUportyepSdZ\"></div>\n",
       "        <script>netpixi.call('SS7PZiKQtCPUportyepSdZ', 'TzosTQQKafi7kP6xic5Mh6', 'changeGraph', 'eyJpZCI6IDgwLCAidHlwZSI6ICJ2ZXJ0ZXgiLCAicHJvcHMiOiB7InNpemUiOiA0Ny42NjY2NjY2NjY2NjY2NjR9fQo=');</script>\n",
       "    "
      ],
      "text/plain": [
       "<IPython.core.display.HTML object>"
      ]
     },
     "metadata": {},
     "output_type": "display_data"
    },
    {
     "data": {
      "text/html": [
       "\n",
       "        <div id=\"EomrdukDYCE9CqZLN7rFmJ\"></div>\n",
       "        <script>netpixi.call('EomrdukDYCE9CqZLN7rFmJ', 'TzosTQQKafi7kP6xic5Mh6', 'changeGraph', 'eyJpZCI6IDcxLCAidHlwZSI6ICJ2ZXJ0ZXgiLCAicHJvcHMiOiB7ImNvbG9yIjogMTY3MTE2ODB9fQo=');</script>\n",
       "    "
      ],
      "text/plain": [
       "<IPython.core.display.HTML object>"
      ]
     },
     "metadata": {},
     "output_type": "display_data"
    },
    {
     "data": {
      "text/html": [
       "\n",
       "        <div id=\"P2ijXn9yaXmeBgx6fCmgRF\"></div>\n",
       "        <script>netpixi.call('P2ijXn9yaXmeBgx6fCmgRF', 'TzosTQQKafi7kP6xic5Mh6', 'changeGraph', 'eyJpZCI6IDgxLCAidHlwZSI6ICJ2ZXJ0ZXgiLCAicHJvcHMiOiB7InNpemUiOiAxNC41NjA2Njk0NTYwNjY5NDV9fQo=');</script>\n",
       "    "
      ],
      "text/plain": [
       "<IPython.core.display.HTML object>"
      ]
     },
     "metadata": {},
     "output_type": "display_data"
    },
    {
     "data": {
      "text/html": [
       "\n",
       "        <div id=\"koyz9agSkB3QhciFZ4dGZf\"></div>\n",
       "        <script>netpixi.call('koyz9agSkB3QhciFZ4dGZf', 'TzosTQQKafi7kP6xic5Mh6', 'changeGraph', 'eyJpZCI6IDUzLCAidHlwZSI6ICJ2ZXJ0ZXgiLCAicHJvcHMiOiB7ImNvbG9yIjogMTY3MTE2ODB9fQo=');</script>\n",
       "    "
      ],
      "text/plain": [
       "<IPython.core.display.HTML object>"
      ]
     },
     "metadata": {},
     "output_type": "display_data"
    },
    {
     "data": {
      "text/html": [
       "\n",
       "        <div id=\"9nXoAe46id9DH8nakTeMz2\"></div>\n",
       "        <script>netpixi.call('9nXoAe46id9DH8nakTeMz2', 'TzosTQQKafi7kP6xic5Mh6', 'changeGraph', 'eyJpZCI6IDgyLCAidHlwZSI6ICJ2ZXJ0ZXgiLCAicHJvcHMiOiB7InNpemUiOiA0MS41fX0K');</script>\n",
       "    "
      ],
      "text/plain": [
       "<IPython.core.display.HTML object>"
      ]
     },
     "metadata": {},
     "output_type": "display_data"
    },
    {
     "data": {
      "text/html": [
       "\n",
       "        <div id=\"JaM98i4sUkNxw4sFLi4SmU\"></div>\n",
       "        <script>netpixi.call('JaM98i4sUkNxw4sFLi4SmU', 'TzosTQQKafi7kP6xic5Mh6', 'changeGraph', 'eyJpZCI6IDc0LCAidHlwZSI6ICJ2ZXJ0ZXgiLCAicHJvcHMiOiB7ImNvbG9yIjogMTY3MTE2ODB9fQo=');</script>\n",
       "    "
      ],
      "text/plain": [
       "<IPython.core.display.HTML object>"
      ]
     },
     "metadata": {},
     "output_type": "display_data"
    },
    {
     "data": {
      "text/html": [
       "\n",
       "        <div id=\"KRDavEpUxHpPuJAnaXyfot\"></div>\n",
       "        <script>netpixi.call('KRDavEpUxHpPuJAnaXyfot', 'TzosTQQKafi7kP6xic5Mh6', 'changeGraph', 'eyJpZCI6IDgzLCAidHlwZSI6ICJ2ZXJ0ZXgiLCAicHJvcHMiOiB7InNpemUiOiAxNS43NzQwNTg1Nzc0MDU4NTd9fQo=');</script>\n",
       "    "
      ],
      "text/plain": [
       "<IPython.core.display.HTML object>"
      ]
     },
     "metadata": {},
     "output_type": "display_data"
    },
    {
     "data": {
      "text/html": [
       "\n",
       "        <div id=\"XbATsMCCZ6k4y3PL8VtuA7\"></div>\n",
       "        <script>netpixi.call('XbATsMCCZ6k4y3PL8VtuA7', 'TzosTQQKafi7kP6xic5Mh6', 'changeGraph', 'eyJpZCI6IDgzLCAidHlwZSI6ICJ2ZXJ0ZXgiLCAicHJvcHMiOiB7ImNvbG9yIjogMTY3MTE2ODB9fQo=');</script>\n",
       "    "
      ],
      "text/plain": [
       "<IPython.core.display.HTML object>"
      ]
     },
     "metadata": {},
     "output_type": "display_data"
    },
    {
     "data": {
      "text/html": [
       "\n",
       "        <div id=\"56idT8doCugt9FhoijWqgo\"></div>\n",
       "        <script>netpixi.call('56idT8doCugt9FhoijWqgo', 'TzosTQQKafi7kP6xic5Mh6', 'changeGraph', 'eyJpZCI6IDg0LCAidHlwZSI6ICJ2ZXJ0ZXgiLCAicHJvcHMiOiB7InNpemUiOiAxMi4wNTAyMDkyMDUwMjA5Mn19Cg==');</script>\n",
       "    "
      ],
      "text/plain": [
       "<IPython.core.display.HTML object>"
      ]
     },
     "metadata": {},
     "output_type": "display_data"
    },
    {
     "data": {
      "text/html": [
       "\n",
       "        <div id=\"j79hJTAQrwDfnobNMUZDmv\"></div>\n",
       "        <script>netpixi.call('j79hJTAQrwDfnobNMUZDmv', 'TzosTQQKafi7kP6xic5Mh6', 'changeGraph', 'eyJpZCI6IDgwLCAidHlwZSI6ICJ2ZXJ0ZXgiLCAicHJvcHMiOiB7ImNvbG9yIjogMTY3MTE2ODB9fQo=');</script>\n",
       "    "
      ],
      "text/plain": [
       "<IPython.core.display.HTML object>"
      ]
     },
     "metadata": {},
     "output_type": "display_data"
    },
    {
     "data": {
      "text/html": [
       "\n",
       "        <div id=\"EovJqypAxMAarvmt8b6kqH\"></div>\n",
       "        <script>netpixi.call('EovJqypAxMAarvmt8b6kqH', 'TzosTQQKafi7kP6xic5Mh6', 'changeGraph', 'eyJpZCI6IDg1LCAidHlwZSI6ICJ2ZXJ0ZXgiLCAicHJvcHMiOiB7InNpemUiOiA0NS42NjY2NjY2NjY2NjY2NjR9fQo=');</script>\n",
       "    "
      ],
      "text/plain": [
       "<IPython.core.display.HTML object>"
      ]
     },
     "metadata": {},
     "output_type": "display_data"
    },
    {
     "data": {
      "text/html": [
       "\n",
       "        <div id=\"bdmcHac8PdjLfxJ5RvQCzN\"></div>\n",
       "        <script>netpixi.call('bdmcHac8PdjLfxJ5RvQCzN', 'TzosTQQKafi7kP6xic5Mh6', 'changeGraph', 'eyJpZCI6IDg0LCAidHlwZSI6ICJ2ZXJ0ZXgiLCAicHJvcHMiOiB7ImNvbG9yIjogMTY3MTE2ODB9fQo=');</script>\n",
       "    "
      ],
      "text/plain": [
       "<IPython.core.display.HTML object>"
      ]
     },
     "metadata": {},
     "output_type": "display_data"
    },
    {
     "data": {
      "text/html": [
       "\n",
       "        <div id=\"o8RKRfw7UM4FxV6uF6ateq\"></div>\n",
       "        <script>netpixi.call('o8RKRfw7UM4FxV6uF6ateq', 'TzosTQQKafi7kP6xic5Mh6', 'changeGraph', 'eyJpZCI6IDg2LCAidHlwZSI6ICJ2ZXJ0ZXgiLCAicHJvcHMiOiB7InNpemUiOiAxMi41MTA0NjAyNTEwNDYwMjV9fQo=');</script>\n",
       "    "
      ],
      "text/plain": [
       "<IPython.core.display.HTML object>"
      ]
     },
     "metadata": {},
     "output_type": "display_data"
    },
    {
     "data": {
      "text/html": [
       "\n",
       "        <div id=\"8YJeCTjNebmn56bzhvZuih\"></div>\n",
       "        <script>netpixi.call('8YJeCTjNebmn56bzhvZuih', 'TzosTQQKafi7kP6xic5Mh6', 'changeGraph', 'eyJpZCI6IDkzLCAidHlwZSI6ICJ2ZXJ0ZXgiLCAicHJvcHMiOiB7ImNvbG9yIjogMTY3MTE2ODB9fQo=');</script>\n",
       "    "
      ],
      "text/plain": [
       "<IPython.core.display.HTML object>"
      ]
     },
     "metadata": {},
     "output_type": "display_data"
    },
    {
     "data": {
      "text/html": [
       "\n",
       "        <div id=\"FbdhXSYrpSUFVDFmBbqmBP\"></div>\n",
       "        <script>netpixi.call('FbdhXSYrpSUFVDFmBbqmBP', 'TzosTQQKafi7kP6xic5Mh6', 'changeGraph', 'eyJpZCI6IDg3LCAidHlwZSI6ICJ2ZXJ0ZXgiLCAicHJvcHMiOiB7InNpemUiOiAxNS4xODgyODQ1MTg4Mjg0NX19Cg==');</script>\n",
       "    "
      ],
      "text/plain": [
       "<IPython.core.display.HTML object>"
      ]
     },
     "metadata": {},
     "output_type": "display_data"
    },
    {
     "data": {
      "text/html": [
       "\n",
       "        <div id=\"6NawfkaZoJ9MHpSccmkhdV\"></div>\n",
       "        <script>netpixi.call('6NawfkaZoJ9MHpSccmkhdV', 'TzosTQQKafi7kP6xic5Mh6', 'changeGraph', 'eyJpZCI6IDc1LCAidHlwZSI6ICJ2ZXJ0ZXgiLCAicHJvcHMiOiB7ImNvbG9yIjogMTY3MTE2ODB9fQo=');</script>\n",
       "    "
      ],
      "text/plain": [
       "<IPython.core.display.HTML object>"
      ]
     },
     "metadata": {},
     "output_type": "display_data"
    },
    {
     "data": {
      "text/html": [
       "\n",
       "        <div id=\"7vo8bQBgjtkEvVUiy63Fh4\"></div>\n",
       "        <script>netpixi.call('7vo8bQBgjtkEvVUiy63Fh4', 'TzosTQQKafi7kP6xic5Mh6', 'changeGraph', 'eyJpZCI6IDg4LCAidHlwZSI6ICJ2ZXJ0ZXgiLCAicHJvcHMiOiB7InNpemUiOiA0Mi44MzMzMzMzMzMzMzMzM319Cg==');</script>\n",
       "    "
      ],
      "text/plain": [
       "<IPython.core.display.HTML object>"
      ]
     },
     "metadata": {},
     "output_type": "display_data"
    },
    {
     "data": {
      "text/html": [
       "\n",
       "        <div id=\"agheiofG3hGKM5KsV9GhAq\"></div>\n",
       "        <script>netpixi.call('agheiofG3hGKM5KsV9GhAq', 'TzosTQQKafi7kP6xic5Mh6', 'changeGraph', 'eyJpZCI6IDg1LCAidHlwZSI6ICJ2ZXJ0ZXgiLCAicHJvcHMiOiB7ImNvbG9yIjogMTY3MTE2ODB9fQo=');</script>\n",
       "    "
      ],
      "text/plain": [
       "<IPython.core.display.HTML object>"
      ]
     },
     "metadata": {},
     "output_type": "display_data"
    },
    {
     "data": {
      "text/html": [
       "\n",
       "        <div id=\"YLsKUtyD472mDey486yH5c\"></div>\n",
       "        <script>netpixi.call('YLsKUtyD472mDey486yH5c', 'TzosTQQKafi7kP6xic5Mh6', 'changeGraph', 'eyJpZCI6IDg5LCAidHlwZSI6ICJ2ZXJ0ZXgiLCAicHJvcHMiOiB7InNpemUiOiAxOC44Mjg0NTE4ODI4NDUxODd9fQo=');</script>\n",
       "    "
      ],
      "text/plain": [
       "<IPython.core.display.HTML object>"
      ]
     },
     "metadata": {},
     "output_type": "display_data"
    },
    {
     "data": {
      "text/html": [
       "\n",
       "        <div id=\"o2ciCN3bjcsfXmGgd8P6Mu\"></div>\n",
       "        <script>netpixi.call('o2ciCN3bjcsfXmGgd8P6Mu', 'TzosTQQKafi7kP6xic5Mh6', 'changeGraph', 'eyJpZCI6IDc5LCAidHlwZSI6ICJ2ZXJ0ZXgiLCAicHJvcHMiOiB7ImNvbG9yIjogMTY3MTE2ODB9fQo=');</script>\n",
       "    "
      ],
      "text/plain": [
       "<IPython.core.display.HTML object>"
      ]
     },
     "metadata": {},
     "output_type": "display_data"
    },
    {
     "data": {
      "text/html": [
       "\n",
       "        <div id=\"dNF3kXeLhQgCQqiD3aqnoR\"></div>\n",
       "        <script>netpixi.call('dNF3kXeLhQgCQqiD3aqnoR', 'TzosTQQKafi7kP6xic5Mh6', 'changeGraph', 'eyJpZCI6IDkwLCAidHlwZSI6ICJ2ZXJ0ZXgiLCAicHJvcHMiOiB7InNpemUiOiAxOS4wNzk0OTc5MDc5NDk3OX19Cg==');</script>\n",
       "    "
      ],
      "text/plain": [
       "<IPython.core.display.HTML object>"
      ]
     },
     "metadata": {},
     "output_type": "display_data"
    },
    {
     "data": {
      "text/html": [
       "\n",
       "        <div id=\"PPeG8tRPDnmfN8Fh8ikFSP\"></div>\n",
       "        <script>netpixi.call('PPeG8tRPDnmfN8Fh8ikFSP', 'TzosTQQKafi7kP6xic5Mh6', 'changeGraph', 'eyJpZCI6IDgyLCAidHlwZSI6ICJ2ZXJ0ZXgiLCAicHJvcHMiOiB7ImNvbG9yIjogMTY3MTE2ODB9fQo=');</script>\n",
       "    "
      ],
      "text/plain": [
       "<IPython.core.display.HTML object>"
      ]
     },
     "metadata": {},
     "output_type": "display_data"
    },
    {
     "data": {
      "text/html": [
       "\n",
       "        <div id=\"X2Vp5GGxWi8FXCoHGQ9JJe\"></div>\n",
       "        <script>netpixi.call('X2Vp5GGxWi8FXCoHGQ9JJe', 'TzosTQQKafi7kP6xic5Mh6', 'changeGraph', 'eyJpZCI6IDkxLCAidHlwZSI6ICJ2ZXJ0ZXgiLCAicHJvcHMiOiB7InNpemUiOiAxMy42NDAxNjczNjQwMTY3Mzd9fQo=');</script>\n",
       "    "
      ],
      "text/plain": [
       "<IPython.core.display.HTML object>"
      ]
     },
     "metadata": {},
     "output_type": "display_data"
    },
    {
     "data": {
      "text/html": [
       "\n",
       "        <div id=\"BGmWZf7LdySAmmoYwi5vsN\"></div>\n",
       "        <script>netpixi.call('BGmWZf7LdySAmmoYwi5vsN', 'TzosTQQKafi7kP6xic5Mh6', 'changeGraph', 'eyJpZCI6IDgzLCAidHlwZSI6ICJ2ZXJ0ZXgiLCAicHJvcHMiOiB7ImNvbG9yIjogMTY3MTE2ODB9fQo=');</script>\n",
       "    "
      ],
      "text/plain": [
       "<IPython.core.display.HTML object>"
      ]
     },
     "metadata": {},
     "output_type": "display_data"
    },
    {
     "data": {
      "text/html": [
       "\n",
       "        <div id=\"GoQtpoJUnNRX3dWPzPPHju\"></div>\n",
       "        <script>netpixi.call('GoQtpoJUnNRX3dWPzPPHju', 'TzosTQQKafi7kP6xic5Mh6', 'changeGraph', 'eyJpZCI6IDkyLCAidHlwZSI6ICJ2ZXJ0ZXgiLCAicHJvcHMiOiB7InNpemUiOiAxMC43MTEyOTcwNzExMjk3MDd9fQo=');</script>\n",
       "    "
      ],
      "text/plain": [
       "<IPython.core.display.HTML object>"
      ]
     },
     "metadata": {},
     "output_type": "display_data"
    },
    {
     "data": {
      "text/html": [
       "\n",
       "        <div id=\"fk5zUAB8jBUbZixFj3RSWC\"></div>\n",
       "        <script>netpixi.call('fk5zUAB8jBUbZixFj3RSWC', 'TzosTQQKafi7kP6xic5Mh6', 'changeGraph', 'eyJpZCI6IDc2LCAidHlwZSI6ICJ2ZXJ0ZXgiLCAicHJvcHMiOiB7ImNvbG9yIjogMTY3MTE2ODB9fQo=');</script>\n",
       "    "
      ],
      "text/plain": [
       "<IPython.core.display.HTML object>"
      ]
     },
     "metadata": {},
     "output_type": "display_data"
    },
    {
     "data": {
      "text/html": [
       "\n",
       "        <div id=\"hSWUhBAFE2zXDpQoRnt7uC\"></div>\n",
       "        <script>netpixi.call('hSWUhBAFE2zXDpQoRnt7uC', 'TzosTQQKafi7kP6xic5Mh6', 'changeGraph', 'eyJpZCI6IDkzLCAidHlwZSI6ICJ2ZXJ0ZXgiLCAicHJvcHMiOiB7InNpemUiOiAxMS4yNTUyMzAxMjU1MjMwMTN9fQo=');</script>\n",
       "    "
      ],
      "text/plain": [
       "<IPython.core.display.HTML object>"
      ]
     },
     "metadata": {},
     "output_type": "display_data"
    },
    {
     "data": {
      "text/html": [
       "\n",
       "        <div id=\"PxfNPAgbwR5UhdP2xtazcJ\"></div>\n",
       "        <script>netpixi.call('PxfNPAgbwR5UhdP2xtazcJ', 'TzosTQQKafi7kP6xic5Mh6', 'changeGraph', 'eyJpZCI6IDgyLCAidHlwZSI6ICJ2ZXJ0ZXgiLCAicHJvcHMiOiB7ImNvbG9yIjogMTY3MTE2ODB9fQo=');</script>\n",
       "    "
      ],
      "text/plain": [
       "<IPython.core.display.HTML object>"
      ]
     },
     "metadata": {},
     "output_type": "display_data"
    },
    {
     "data": {
      "text/html": [
       "\n",
       "        <div id=\"cTLYSpi7gVJjtsCifDv9qW\"></div>\n",
       "        <script>netpixi.call('cTLYSpi7gVJjtsCifDv9qW', 'TzosTQQKafi7kP6xic5Mh6', 'changeGraph', 'eyJpZCI6IDk0LCAidHlwZSI6ICJ2ZXJ0ZXgiLCAicHJvcHMiOiB7InNpemUiOiA0MS42NjY2NjY2NjY2NjY2NjR9fQo=');</script>\n",
       "    "
      ],
      "text/plain": [
       "<IPython.core.display.HTML object>"
      ]
     },
     "metadata": {},
     "output_type": "display_data"
    },
    {
     "data": {
      "text/html": [
       "\n",
       "        <div id=\"gGjSZLvyPaZekDG7jd93be\"></div>\n",
       "        <script>netpixi.call('gGjSZLvyPaZekDG7jd93be', 'TzosTQQKafi7kP6xic5Mh6', 'changeGraph', 'eyJpZCI6IDcxLCAidHlwZSI6ICJ2ZXJ0ZXgiLCAicHJvcHMiOiB7ImNvbG9yIjogMTY3MTE2ODB9fQo=');</script>\n",
       "    "
      ],
      "text/plain": [
       "<IPython.core.display.HTML object>"
      ]
     },
     "metadata": {},
     "output_type": "display_data"
    },
    {
     "data": {
      "text/html": [
       "\n",
       "        <div id=\"GHPmvvH89JKLhRLqNxyKjt\"></div>\n",
       "        <script>netpixi.call('GHPmvvH89JKLhRLqNxyKjt', 'TzosTQQKafi7kP6xic5Mh6', 'changeGraph', 'eyJpZCI6IDk1LCAidHlwZSI6ICJ2ZXJ0ZXgiLCAicHJvcHMiOiB7InNpemUiOiAxMi40MjY3NzgyNDI2Nzc4MjN9fQo=');</script>\n",
       "    "
      ],
      "text/plain": [
       "<IPython.core.display.HTML object>"
      ]
     },
     "metadata": {},
     "output_type": "display_data"
    },
    {
     "data": {
      "text/html": [
       "\n",
       "        <div id=\"fuca6KNWC7YmXjcmYF6e8a\"></div>\n",
       "        <script>netpixi.call('fuca6KNWC7YmXjcmYF6e8a', 'TzosTQQKafi7kP6xic5Mh6', 'changeGraph', 'eyJpZCI6IDY1LCAidHlwZSI6ICJ2ZXJ0ZXgiLCAicHJvcHMiOiB7ImNvbG9yIjogMTY3MTE2ODB9fQo=');</script>\n",
       "    "
      ],
      "text/plain": [
       "<IPython.core.display.HTML object>"
      ]
     },
     "metadata": {},
     "output_type": "display_data"
    },
    {
     "data": {
      "text/html": [
       "\n",
       "        <div id=\"9urPJzYaFafM38Fs3L2RXL\"></div>\n",
       "        <script>netpixi.call('9urPJzYaFafM38Fs3L2RXL', 'TzosTQQKafi7kP6xic5Mh6', 'changeGraph', 'eyJpZCI6IDk2LCAidHlwZSI6ICJ2ZXJ0ZXgiLCAicHJvcHMiOiB7InNpemUiOiAxOS44MzI2MzU5ODMyNjM2fX0K');</script>\n",
       "    "
      ],
      "text/plain": [
       "<IPython.core.display.HTML object>"
      ]
     },
     "metadata": {},
     "output_type": "display_data"
    },
    {
     "data": {
      "text/html": [
       "\n",
       "        <div id=\"4UF3bE7WZAtn7RPVhwnYVk\"></div>\n",
       "        <script>netpixi.call('4UF3bE7WZAtn7RPVhwnYVk', 'TzosTQQKafi7kP6xic5Mh6', 'changeGraph', 'eyJpZCI6IDg5LCAidHlwZSI6ICJ2ZXJ0ZXgiLCAicHJvcHMiOiB7ImNvbG9yIjogMTY3MTE2ODB9fQo=');</script>\n",
       "    "
      ],
      "text/plain": [
       "<IPython.core.display.HTML object>"
      ]
     },
     "metadata": {},
     "output_type": "display_data"
    },
    {
     "data": {
      "text/html": [
       "\n",
       "        <div id=\"ctfBGdgxH3MSMuMq64GtVC\"></div>\n",
       "        <script>netpixi.call('ctfBGdgxH3MSMuMq64GtVC', 'TzosTQQKafi7kP6xic5Mh6', 'changeGraph', 'eyJpZCI6IDk3LCAidHlwZSI6ICJ2ZXJ0ZXgiLCAicHJvcHMiOiB7InNpemUiOiAxMS45MjQ2ODYxOTI0Njg2MTh9fQo=');</script>\n",
       "    "
      ],
      "text/plain": [
       "<IPython.core.display.HTML object>"
      ]
     },
     "metadata": {},
     "output_type": "display_data"
    },
    {
     "data": {
      "text/html": [
       "\n",
       "        <div id=\"Vnx3RCCbM8UHDRxgihxYRV\"></div>\n",
       "        <script>netpixi.call('Vnx3RCCbM8UHDRxgihxYRV', 'TzosTQQKafi7kP6xic5Mh6', 'changeGraph', 'eyJpZCI6IDczLCAidHlwZSI6ICJ2ZXJ0ZXgiLCAicHJvcHMiOiB7ImNvbG9yIjogMTY3MTE2ODB9fQo=');</script>\n",
       "    "
      ],
      "text/plain": [
       "<IPython.core.display.HTML object>"
      ]
     },
     "metadata": {},
     "output_type": "display_data"
    },
    {
     "data": {
      "text/html": [
       "\n",
       "        <div id=\"fBjtzfgGKVe7Zji8BPR7kc\"></div>\n",
       "        <script>netpixi.call('fBjtzfgGKVe7Zji8BPR7kc', 'TzosTQQKafi7kP6xic5Mh6', 'changeGraph', 'eyJpZCI6IDk4LCAidHlwZSI6ICJ2ZXJ0ZXgiLCAicHJvcHMiOiB7InNpemUiOiAxMy4zMDU0MzkzMzA1NDM5MzN9fQo=');</script>\n",
       "    "
      ],
      "text/plain": [
       "<IPython.core.display.HTML object>"
      ]
     },
     "metadata": {},
     "output_type": "display_data"
    },
    {
     "data": {
      "text/html": [
       "\n",
       "        <div id=\"6UkH9LZjBNPgJyHAdoqyCn\"></div>\n",
       "        <script>netpixi.call('6UkH9LZjBNPgJyHAdoqyCn', 'TzosTQQKafi7kP6xic5Mh6', 'changeGraph', 'eyJpZCI6IDcyLCAidHlwZSI6ICJ2ZXJ0ZXgiLCAicHJvcHMiOiB7ImNvbG9yIjogMTY3MTE2ODB9fQo=');</script>\n",
       "    "
      ],
      "text/plain": [
       "<IPython.core.display.HTML object>"
      ]
     },
     "metadata": {},
     "output_type": "display_data"
    },
    {
     "data": {
      "text/html": [
       "\n",
       "        <div id=\"RQ2RUL8enZs9aTKA5NTstB\"></div>\n",
       "        <script>netpixi.call('RQ2RUL8enZs9aTKA5NTstB', 'TzosTQQKafi7kP6xic5Mh6', 'changeGraph', 'eyJpZCI6IDk5LCAidHlwZSI6ICJ2ZXJ0ZXgiLCAicHJvcHMiOiB7InNpemUiOiAxMS44ODI4NDUxODgyODQ1MTh9fQo=');</script>\n",
       "    "
      ],
      "text/plain": [
       "<IPython.core.display.HTML object>"
      ]
     },
     "metadata": {},
     "output_type": "display_data"
    },
    {
     "data": {
      "text/html": [
       "\n",
       "        <div id=\"jpbQstEicbYK5PNNup9BrW\"></div>\n",
       "        <script>netpixi.call('jpbQstEicbYK5PNNup9BrW', 'TzosTQQKafi7kP6xic5Mh6', 'changeGraph', 'eyJpZCI6IDc1LCAidHlwZSI6ICJ2ZXJ0ZXgiLCAicHJvcHMiOiB7ImNvbG9yIjogMTY3MTE2ODB9fQo=');</script>\n",
       "    "
      ],
      "text/plain": [
       "<IPython.core.display.HTML object>"
      ]
     },
     "metadata": {},
     "output_type": "display_data"
    },
    {
     "data": {
      "text/html": [
       "\n",
       "        <div id=\"2SLToQTVup2z6youQB7nYs\"></div>\n",
       "        <script>netpixi.call('2SLToQTVup2z6youQB7nYs', 'TzosTQQKafi7kP6xic5Mh6', 'changeGraph', 'eyJpZCI6IDEwMCwgInR5cGUiOiAidmVydGV4IiwgInByb3BzIjogeyJzaXplIjogNDkuMTY2NjY2NjY2NjY2NjY0fX0K');</script>\n",
       "    "
      ],
      "text/plain": [
       "<IPython.core.display.HTML object>"
      ]
     },
     "metadata": {},
     "output_type": "display_data"
    },
    {
     "data": {
      "text/html": [
       "\n",
       "        <div id=\"hwjXDkymfWUcWPMpxpTRFa\"></div>\n",
       "        <script>netpixi.call('hwjXDkymfWUcWPMpxpTRFa', 'TzosTQQKafi7kP6xic5Mh6', 'changeGraph', 'eyJpZCI6IDc3LCAidHlwZSI6ICJ2ZXJ0ZXgiLCAicHJvcHMiOiB7ImNvbG9yIjogMTY3MTE2ODB9fQo=');</script>\n",
       "    "
      ],
      "text/plain": [
       "<IPython.core.display.HTML object>"
      ]
     },
     "metadata": {},
     "output_type": "display_data"
    },
    {
     "data": {
      "text/html": [
       "\n",
       "        <div id=\"hBGf5GjohEpiGkJNNwfXiH\"></div>\n",
       "        <script>netpixi.call('hBGf5GjohEpiGkJNNwfXiH', 'TzosTQQKafi7kP6xic5Mh6', 'changeGraph', 'eyJpZCI6IDEwMSwgInR5cGUiOiAidmVydGV4IiwgInByb3BzIjogeyJzaXplIjogMTUuNDM5MzMwNTQzOTMzMDUzfX0K');</script>\n",
       "    "
      ],
      "text/plain": [
       "<IPython.core.display.HTML object>"
      ]
     },
     "metadata": {},
     "output_type": "display_data"
    },
    {
     "data": {
      "text/html": [
       "\n",
       "        <div id=\"b3ggSuk7zacmMZKKtfdzZS\"></div>\n",
       "        <script>netpixi.call('b3ggSuk7zacmMZKKtfdzZS', 'TzosTQQKafi7kP6xic5Mh6', 'changeGraph', 'eyJpZCI6IDg1LCAidHlwZSI6ICJ2ZXJ0ZXgiLCAicHJvcHMiOiB7ImNvbG9yIjogMTY3MTE2ODB9fQo=');</script>\n",
       "    "
      ],
      "text/plain": [
       "<IPython.core.display.HTML object>"
      ]
     },
     "metadata": {},
     "output_type": "display_data"
    },
    {
     "data": {
      "text/html": [
       "\n",
       "        <div id=\"AJmwPQJk7W77PLqBYDaTCn\"></div>\n",
       "        <script>netpixi.call('AJmwPQJk7W77PLqBYDaTCn', 'TzosTQQKafi7kP6xic5Mh6', 'changeGraph', 'eyJpZCI6IDEwMiwgInR5cGUiOiAidmVydGV4IiwgInByb3BzIjogeyJzaXplIjogMTIuNjc3ODI0MjY3NzgyNDI3fX0K');</script>\n",
       "    "
      ],
      "text/plain": [
       "<IPython.core.display.HTML object>"
      ]
     },
     "metadata": {},
     "output_type": "display_data"
    },
    {
     "data": {
      "text/html": [
       "\n",
       "        <div id=\"aYqoBL2UheLYKodLKmedZa\"></div>\n",
       "        <script>netpixi.call('aYqoBL2UheLYKodLKmedZa', 'TzosTQQKafi7kP6xic5Mh6', 'changeGraph', 'eyJpZCI6IDc2LCAidHlwZSI6ICJ2ZXJ0ZXgiLCAicHJvcHMiOiB7ImNvbG9yIjogMTY3MTE2ODB9fQo=');</script>\n",
       "    "
      ],
      "text/plain": [
       "<IPython.core.display.HTML object>"
      ]
     },
     "metadata": {},
     "output_type": "display_data"
    },
    {
     "data": {
      "text/html": [
       "\n",
       "        <div id=\"RwV7AxPcAG8LxJsvy6Z4u4\"></div>\n",
       "        <script>netpixi.call('RwV7AxPcAG8LxJsvy6Z4u4', 'TzosTQQKafi7kP6xic5Mh6', 'changeGraph', 'eyJpZCI6IDEwMywgInR5cGUiOiAidmVydGV4IiwgInByb3BzIjogeyJzaXplIjogMTYuOTAzNzY1NjkwMzc2NTY3fX0K');</script>\n",
       "    "
      ],
      "text/plain": [
       "<IPython.core.display.HTML object>"
      ]
     },
     "metadata": {},
     "output_type": "display_data"
    },
    {
     "data": {
      "text/html": [
       "\n",
       "        <div id=\"KqoNyeakNH2YVrysCuT7YJ\"></div>\n",
       "        <script>netpixi.call('KqoNyeakNH2YVrysCuT7YJ', 'TzosTQQKafi7kP6xic5Mh6', 'changeGraph', 'eyJpZCI6IDUzLCAidHlwZSI6ICJ2ZXJ0ZXgiLCAicHJvcHMiOiB7ImNvbG9yIjogMTY3MTE2ODB9fQo=');</script>\n",
       "    "
      ],
      "text/plain": [
       "<IPython.core.display.HTML object>"
      ]
     },
     "metadata": {},
     "output_type": "display_data"
    },
    {
     "data": {
      "text/html": [
       "\n",
       "        <div id=\"iqqEDZZunSYZ9ppVWnSnmh\"></div>\n",
       "        <script>netpixi.call('iqqEDZZunSYZ9ppVWnSnmh', 'TzosTQQKafi7kP6xic5Mh6', 'changeGraph', 'eyJpZCI6IDEwNCwgInR5cGUiOiAidmVydGV4IiwgInByb3BzIjogeyJzaXplIjogMTYuNzM2NDAxNjczNjQwMTY3fX0K');</script>\n",
       "    "
      ],
      "text/plain": [
       "<IPython.core.display.HTML object>"
      ]
     },
     "metadata": {},
     "output_type": "display_data"
    },
    {
     "data": {
      "text/html": [
       "\n",
       "        <div id=\"Dx8jdsQEKvpkWPZQzTnfGU\"></div>\n",
       "        <script>netpixi.call('Dx8jdsQEKvpkWPZQzTnfGU', 'TzosTQQKafi7kP6xic5Mh6', 'changeGraph', 'eyJpZCI6IDY4LCAidHlwZSI6ICJ2ZXJ0ZXgiLCAicHJvcHMiOiB7ImNvbG9yIjogMTY3MTE2ODB9fQo=');</script>\n",
       "    "
      ],
      "text/plain": [
       "<IPython.core.display.HTML object>"
      ]
     },
     "metadata": {},
     "output_type": "display_data"
    },
    {
     "data": {
      "text/html": [
       "\n",
       "        <div id=\"ZCwfdDpcK7LWWMg66KZyK7\"></div>\n",
       "        <script>netpixi.call('ZCwfdDpcK7LWWMg66KZyK7', 'TzosTQQKafi7kP6xic5Mh6', 'changeGraph', 'eyJpZCI6IDEwNSwgInR5cGUiOiAidmVydGV4IiwgInByb3BzIjogeyJzaXplIjogMTkuMzMwNTQzOTMzMDU0MzkzfX0K');</script>\n",
       "    "
      ],
      "text/plain": [
       "<IPython.core.display.HTML object>"
      ]
     },
     "metadata": {},
     "output_type": "display_data"
    },
    {
     "data": {
      "text/html": [
       "\n",
       "        <div id=\"VpiYtUsG83VNi8yQN6n43p\"></div>\n",
       "        <script>netpixi.call('VpiYtUsG83VNi8yQN6n43p', 'TzosTQQKafi7kP6xic5Mh6', 'changeGraph', 'eyJpZCI6IDg4LCAidHlwZSI6ICJ2ZXJ0ZXgiLCAicHJvcHMiOiB7ImNvbG9yIjogMTY3MTE2ODB9fQo=');</script>\n",
       "    "
      ],
      "text/plain": [
       "<IPython.core.display.HTML object>"
      ]
     },
     "metadata": {},
     "output_type": "display_data"
    },
    {
     "data": {
      "text/html": [
       "\n",
       "        <div id=\"Z6VqZskm2DmDYNugRu5iSX\"></div>\n",
       "        <script>netpixi.call('Z6VqZskm2DmDYNugRu5iSX', 'TzosTQQKafi7kP6xic5Mh6', 'changeGraph', 'eyJpZCI6IDEwNiwgInR5cGUiOiAidmVydGV4IiwgInByb3BzIjogeyJzaXplIjogMTcuOTkxNjMxNzk5MTYzMTh9fQo=');</script>\n",
       "    "
      ],
      "text/plain": [
       "<IPython.core.display.HTML object>"
      ]
     },
     "metadata": {},
     "output_type": "display_data"
    },
    {
     "data": {
      "text/html": [
       "\n",
       "        <div id=\"PcMqfv8yzLeg6iL64zYAVn\"></div>\n",
       "        <script>netpixi.call('PcMqfv8yzLeg6iL64zYAVn', 'TzosTQQKafi7kP6xic5Mh6', 'changeGraph', 'eyJpZCI6IDc2LCAidHlwZSI6ICJ2ZXJ0ZXgiLCAicHJvcHMiOiB7ImNvbG9yIjogMTY3MTE2ODB9fQo=');</script>\n",
       "    "
      ],
      "text/plain": [
       "<IPython.core.display.HTML object>"
      ]
     },
     "metadata": {},
     "output_type": "display_data"
    },
    {
     "data": {
      "text/html": [
       "\n",
       "        <div id=\"dBokttdB48gFX93Vc8rqPB\"></div>\n",
       "        <script>netpixi.call('dBokttdB48gFX93Vc8rqPB', 'TzosTQQKafi7kP6xic5Mh6', 'changeGraph', 'eyJpZCI6IDEwNywgInR5cGUiOiAidmVydGV4IiwgInByb3BzIjogeyJzaXplIjogMTcuNjk4NzQ0NzY5ODc0NDc3fX0K');</script>\n",
       "    "
      ],
      "text/plain": [
       "<IPython.core.display.HTML object>"
      ]
     },
     "metadata": {},
     "output_type": "display_data"
    },
    {
     "data": {
      "text/html": [
       "\n",
       "        <div id=\"kEztcdqWw42jn7jUuSf2yo\"></div>\n",
       "        <script>netpixi.call('kEztcdqWw42jn7jUuSf2yo', 'TzosTQQKafi7kP6xic5Mh6', 'changeGraph', 'eyJpZCI6IDU3LCAidHlwZSI6ICJ2ZXJ0ZXgiLCAicHJvcHMiOiB7ImNvbG9yIjogMTY3MTE2ODB9fQo=');</script>\n",
       "    "
      ],
      "text/plain": [
       "<IPython.core.display.HTML object>"
      ]
     },
     "metadata": {},
     "output_type": "display_data"
    },
    {
     "data": {
      "text/html": [
       "\n",
       "        <div id=\"XTUcLKmpV88jUfdtNjeUbx\"></div>\n",
       "        <script>netpixi.call('XTUcLKmpV88jUfdtNjeUbx', 'TzosTQQKafi7kP6xic5Mh6', 'changeGraph', 'eyJpZCI6IDEwOCwgInR5cGUiOiAidmVydGV4IiwgInByb3BzIjogeyJzaXplIjogMTIuOTcwNzExMjk3MDcxMTN9fQo=');</script>\n",
       "    "
      ],
      "text/plain": [
       "<IPython.core.display.HTML object>"
      ]
     },
     "metadata": {},
     "output_type": "display_data"
    },
    {
     "data": {
      "text/html": [
       "\n",
       "        <div id=\"PxCDvEFrFcC6kmyx2xKmhW\"></div>\n",
       "        <script>netpixi.call('PxCDvEFrFcC6kmyx2xKmhW', 'TzosTQQKafi7kP6xic5Mh6', 'changeGraph', 'eyJpZCI6IDcyLCAidHlwZSI6ICJ2ZXJ0ZXgiLCAicHJvcHMiOiB7ImNvbG9yIjogMTY3MTE2ODB9fQo=');</script>\n",
       "    "
      ],
      "text/plain": [
       "<IPython.core.display.HTML object>"
      ]
     },
     "metadata": {},
     "output_type": "display_data"
    },
    {
     "data": {
      "text/html": [
       "\n",
       "        <div id=\"hZrQqAEJna3j5HqiJf7aqu\"></div>\n",
       "        <script>netpixi.call('hZrQqAEJna3j5HqiJf7aqu', 'TzosTQQKafi7kP6xic5Mh6', 'changeGraph', 'eyJpZCI6IDEwOSwgInR5cGUiOiAidmVydGV4IiwgInByb3BzIjogeyJzaXplIjogMTcuOTQ5NzkwNzk0OTc5MDh9fQo=');</script>\n",
       "    "
      ],
      "text/plain": [
       "<IPython.core.display.HTML object>"
      ]
     },
     "metadata": {},
     "output_type": "display_data"
    },
    {
     "data": {
      "text/html": [
       "\n",
       "        <div id=\"83octNNhqScwati7ac4bng\"></div>\n",
       "        <script>netpixi.call('83octNNhqScwati7ac4bng', 'TzosTQQKafi7kP6xic5Mh6', 'changeGraph', 'eyJpZCI6IDgwLCAidHlwZSI6ICJ2ZXJ0ZXgiLCAicHJvcHMiOiB7ImNvbG9yIjogMTY3MTE2ODB9fQo=');</script>\n",
       "    "
      ],
      "text/plain": [
       "<IPython.core.display.HTML object>"
      ]
     },
     "metadata": {},
     "output_type": "display_data"
    },
    {
     "data": {
      "text/html": [
       "\n",
       "        <div id=\"nQ9uUbDcCFCGQiKmvviV6T\"></div>\n",
       "        <script>netpixi.call('nQ9uUbDcCFCGQiKmvviV6T', 'TzosTQQKafi7kP6xic5Mh6', 'changeGraph', 'eyJpZCI6IDExMCwgInR5cGUiOiAidmVydGV4IiwgInByb3BzIjogeyJzaXplIjogMTYuNjUyNzE5NjY1MjcxOTY3fX0K');</script>\n",
       "    "
      ],
      "text/plain": [
       "<IPython.core.display.HTML object>"
      ]
     },
     "metadata": {},
     "output_type": "display_data"
    },
    {
     "data": {
      "text/html": [
       "\n",
       "        <div id=\"ZrMMT66n3TUEWPpQ88vtuc\"></div>\n",
       "        <script>netpixi.call('ZrMMT66n3TUEWPpQ88vtuc', 'TzosTQQKafi7kP6xic5Mh6', 'changeGraph', 'eyJpZCI6IDc4LCAidHlwZSI6ICJ2ZXJ0ZXgiLCAicHJvcHMiOiB7ImNvbG9yIjogMTY3MTE2ODB9fQo=');</script>\n",
       "    "
      ],
      "text/plain": [
       "<IPython.core.display.HTML object>"
      ]
     },
     "metadata": {},
     "output_type": "display_data"
    },
    {
     "data": {
      "text/html": [
       "\n",
       "        <div id=\"oKc8XNAXVHXSTD5tUYpude\"></div>\n",
       "        <script>netpixi.call('oKc8XNAXVHXSTD5tUYpude', 'TzosTQQKafi7kP6xic5Mh6', 'changeGraph', 'eyJpZCI6IDExMSwgInR5cGUiOiAidmVydGV4IiwgInByb3BzIjogeyJzaXplIjogMTMuOTMzMDU0MzkzMzA1NDR9fQo=');</script>\n",
       "    "
      ],
      "text/plain": [
       "<IPython.core.display.HTML object>"
      ]
     },
     "metadata": {},
     "output_type": "display_data"
    },
    {
     "data": {
      "text/html": [
       "\n",
       "        <div id=\"YBqxeQtBjyMK9Gy8FpxQBg\"></div>\n",
       "        <script>netpixi.call('YBqxeQtBjyMK9Gy8FpxQBg', 'TzosTQQKafi7kP6xic5Mh6', 'changeGraph', 'eyJpZCI6IDgyLCAidHlwZSI6ICJ2ZXJ0ZXgiLCAicHJvcHMiOiB7ImNvbG9yIjogMTY3MTE2ODB9fQo=');</script>\n",
       "    "
      ],
      "text/plain": [
       "<IPython.core.display.HTML object>"
      ]
     },
     "metadata": {},
     "output_type": "display_data"
    },
    {
     "data": {
      "text/html": [
       "\n",
       "        <div id=\"5ySziXfgmTfiEDHJ7YDwws\"></div>\n",
       "        <script>netpixi.call('5ySziXfgmTfiEDHJ7YDwws', 'TzosTQQKafi7kP6xic5Mh6', 'changeGraph', 'eyJpZCI6IDExMiwgInR5cGUiOiAidmVydGV4IiwgInByb3BzIjogeyJzaXplIjogNDUuODMzMzMzMzMzMzMzMzM2fX0K');</script>\n",
       "    "
      ],
      "text/plain": [
       "<IPython.core.display.HTML object>"
      ]
     },
     "metadata": {},
     "output_type": "display_data"
    },
    {
     "data": {
      "text/html": [
       "\n",
       "        <div id=\"DX6t9te5mUQjQLTbGaQDKE\"></div>\n",
       "        <script>netpixi.call('DX6t9te5mUQjQLTbGaQDKE', 'TzosTQQKafi7kP6xic5Mh6', 'changeGraph', 'eyJpZCI6IDY2LCAidHlwZSI6ICJ2ZXJ0ZXgiLCAicHJvcHMiOiB7ImNvbG9yIjogMTY3MTE2ODB9fQo=');</script>\n",
       "    "
      ],
      "text/plain": [
       "<IPython.core.display.HTML object>"
      ]
     },
     "metadata": {},
     "output_type": "display_data"
    },
    {
     "data": {
      "text/html": [
       "\n",
       "        <div id=\"ariavPY6MChFeEmK2GN4gn\"></div>\n",
       "        <script>netpixi.call('ariavPY6MChFeEmK2GN4gn', 'TzosTQQKafi7kP6xic5Mh6', 'changeGraph', 'eyJpZCI6IDExMywgInR5cGUiOiAidmVydGV4IiwgInByb3BzIjogeyJzaXplIjogNDYuNjY2NjY2NjY2NjY2NjY0fX0K');</script>\n",
       "    "
      ],
      "text/plain": [
       "<IPython.core.display.HTML object>"
      ]
     },
     "metadata": {},
     "output_type": "display_data"
    },
    {
     "data": {
      "text/html": [
       "\n",
       "        <div id=\"mLhvnhyZjJMVcqR4VsJsUW\"></div>\n",
       "        <script>netpixi.call('mLhvnhyZjJMVcqR4VsJsUW', 'TzosTQQKafi7kP6xic5Mh6', 'changeGraph', 'eyJpZCI6IDc0LCAidHlwZSI6ICJ2ZXJ0ZXgiLCAicHJvcHMiOiB7ImNvbG9yIjogMTY3MTE2ODB9fQo=');</script>\n",
       "    "
      ],
      "text/plain": [
       "<IPython.core.display.HTML object>"
      ]
     },
     "metadata": {},
     "output_type": "display_data"
    },
    {
     "data": {
      "text/html": [
       "\n",
       "        <div id=\"QeioVpiHa8t7Sc3mHGUoNF\"></div>\n",
       "        <script>netpixi.call('QeioVpiHa8t7Sc3mHGUoNF', 'TzosTQQKafi7kP6xic5Mh6', 'changeGraph', 'eyJpZCI6IDExNCwgInR5cGUiOiAidmVydGV4IiwgInByb3BzIjogeyJzaXplIjogNDMuMH19Cg==');</script>\n",
       "    "
      ],
      "text/plain": [
       "<IPython.core.display.HTML object>"
      ]
     },
     "metadata": {},
     "output_type": "display_data"
    },
    {
     "data": {
      "text/html": [
       "\n",
       "        <div id=\"n5marQGddkjx9ZkhzxrSh3\"></div>\n",
       "        <script>netpixi.call('n5marQGddkjx9ZkhzxrSh3', 'TzosTQQKafi7kP6xic5Mh6', 'changeGraph', 'eyJpZCI6IDgxLCAidHlwZSI6ICJ2ZXJ0ZXgiLCAicHJvcHMiOiB7ImNvbG9yIjogMTY3MTE2ODB9fQo=');</script>\n",
       "    "
      ],
      "text/plain": [
       "<IPython.core.display.HTML object>"
      ]
     },
     "metadata": {},
     "output_type": "display_data"
    },
    {
     "data": {
      "text/html": [
       "\n",
       "        <div id=\"i9LkKDPnzc3jXqqHVYw3Bj\"></div>\n",
       "        <script>netpixi.call('i9LkKDPnzc3jXqqHVYw3Bj', 'TzosTQQKafi7kP6xic5Mh6', 'changeGraph', 'eyJpZCI6IDExNSwgInR5cGUiOiAidmVydGV4IiwgInByb3BzIjogeyJzaXplIjogMTYuMTUwNjI3NjE1MDYyNzZ9fQo=');</script>\n",
       "    "
      ],
      "text/plain": [
       "<IPython.core.display.HTML object>"
      ]
     },
     "metadata": {},
     "output_type": "display_data"
    },
    {
     "data": {
      "text/html": [
       "\n",
       "        <div id=\"NEqWUtjwc3ZR3DKMwboYCg\"></div>\n",
       "        <script>netpixi.call('NEqWUtjwc3ZR3DKMwboYCg', 'TzosTQQKafi7kP6xic5Mh6', 'changeGraph', 'eyJpZCI6IDgzLCAidHlwZSI6ICJ2ZXJ0ZXgiLCAicHJvcHMiOiB7ImNvbG9yIjogMTY3MTE2ODB9fQo=');</script>\n",
       "    "
      ],
      "text/plain": [
       "<IPython.core.display.HTML object>"
      ]
     },
     "metadata": {},
     "output_type": "display_data"
    },
    {
     "data": {
      "text/html": [
       "\n",
       "        <div id=\"3SjRpRYBqPoPLeQPBVqZAy\"></div>\n",
       "        <script>netpixi.call('3SjRpRYBqPoPLeQPBVqZAy', 'TzosTQQKafi7kP6xic5Mh6', 'changeGraph', 'eyJpZCI6IDExNiwgInR5cGUiOiAidmVydGV4IiwgInByb3BzIjogeyJzaXplIjogNDQuNjY2NjY2NjY2NjY2Njd9fQo=');</script>\n",
       "    "
      ],
      "text/plain": [
       "<IPython.core.display.HTML object>"
      ]
     },
     "metadata": {},
     "output_type": "display_data"
    },
    {
     "data": {
      "text/html": [
       "\n",
       "        <div id=\"YuwtvxA7YCAFZuGyBHf3iW\"></div>\n",
       "        <script>netpixi.call('YuwtvxA7YCAFZuGyBHf3iW', 'TzosTQQKafi7kP6xic5Mh6', 'changeGraph', 'eyJpZCI6IDc3LCAidHlwZSI6ICJ2ZXJ0ZXgiLCAicHJvcHMiOiB7ImNvbG9yIjogMTY3MTE2ODB9fQo=');</script>\n",
       "    "
      ],
      "text/plain": [
       "<IPython.core.display.HTML object>"
      ]
     },
     "metadata": {},
     "output_type": "display_data"
    },
    {
     "data": {
      "text/html": [
       "\n",
       "        <div id=\"8Ms2Hm7pQLLQR52p8ncarC\"></div>\n",
       "        <script>netpixi.call('8Ms2Hm7pQLLQR52p8ncarC', 'TzosTQQKafi7kP6xic5Mh6', 'changeGraph', 'eyJpZCI6IDExNywgInR5cGUiOiAidmVydGV4IiwgInByb3BzIjogeyJzaXplIjogMTIuNzE5NjY1MjcxOTY2NTI3fX0K');</script>\n",
       "    "
      ],
      "text/plain": [
       "<IPython.core.display.HTML object>"
      ]
     },
     "metadata": {},
     "output_type": "display_data"
    },
    {
     "data": {
      "text/html": [
       "\n",
       "        <div id=\"Rpr2pXGuHkadQnWXnqp8Pp\"></div>\n",
       "        <script>netpixi.call('Rpr2pXGuHkadQnWXnqp8Pp', 'TzosTQQKafi7kP6xic5Mh6', 'changeGraph', 'eyJpZCI6IDgyLCAidHlwZSI6ICJ2ZXJ0ZXgiLCAicHJvcHMiOiB7ImNvbG9yIjogMTY3MTE2ODB9fQo=');</script>\n",
       "    "
      ],
      "text/plain": [
       "<IPython.core.display.HTML object>"
      ]
     },
     "metadata": {},
     "output_type": "display_data"
    },
    {
     "data": {
      "text/html": [
       "\n",
       "        <div id=\"mhbsMcKBDQ5UXeQAxPSryX\"></div>\n",
       "        <script>netpixi.call('mhbsMcKBDQ5UXeQAxPSryX', 'TzosTQQKafi7kP6xic5Mh6', 'changeGraph', 'eyJpZCI6IDExOCwgInR5cGUiOiAidmVydGV4IiwgInByb3BzIjogeyJzaXplIjogNDYuMH19Cg==');</script>\n",
       "    "
      ],
      "text/plain": [
       "<IPython.core.display.HTML object>"
      ]
     },
     "metadata": {},
     "output_type": "display_data"
    },
    {
     "data": {
      "text/html": [
       "\n",
       "        <div id=\"b2MsT43mKkvzQZab8CSyFp\"></div>\n",
       "        <script>netpixi.call('b2MsT43mKkvzQZab8CSyFp', 'TzosTQQKafi7kP6xic5Mh6', 'changeGraph', 'eyJpZCI6IDc4LCAidHlwZSI6ICJ2ZXJ0ZXgiLCAicHJvcHMiOiB7ImNvbG9yIjogMTY3MTE2ODB9fQo=');</script>\n",
       "    "
      ],
      "text/plain": [
       "<IPython.core.display.HTML object>"
      ]
     },
     "metadata": {},
     "output_type": "display_data"
    },
    {
     "data": {
      "text/html": [
       "\n",
       "        <div id=\"LpVhCuCBYERHkiimhcWsbD\"></div>\n",
       "        <script>netpixi.call('LpVhCuCBYERHkiimhcWsbD', 'TzosTQQKafi7kP6xic5Mh6', 'changeGraph', 'eyJpZCI6IDExOSwgInR5cGUiOiAidmVydGV4IiwgInByb3BzIjogeyJzaXplIjogMTMuMzg5MTIxMzM4OTEyMTMzfX0K');</script>\n",
       "    "
      ],
      "text/plain": [
       "<IPython.core.display.HTML object>"
      ]
     },
     "metadata": {},
     "output_type": "display_data"
    },
    {
     "data": {
      "text/html": [
       "\n",
       "        <div id=\"ZQMyTp9nvVhmfXdG6Z9xcZ\"></div>\n",
       "        <script>netpixi.call('ZQMyTp9nvVhmfXdG6Z9xcZ', 'TzosTQQKafi7kP6xic5Mh6', 'changeGraph', 'eyJpZCI6IDcyLCAidHlwZSI6ICJ2ZXJ0ZXgiLCAicHJvcHMiOiB7ImNvbG9yIjogMTY3MTE2ODB9fQo=');</script>\n",
       "    "
      ],
      "text/plain": [
       "<IPython.core.display.HTML object>"
      ]
     },
     "metadata": {},
     "output_type": "display_data"
    },
    {
     "data": {
      "text/html": [
       "\n",
       "        <div id=\"39A4YJS2DTDVL6P2z6XD2i\"></div>\n",
       "        <script>netpixi.call('39A4YJS2DTDVL6P2z6XD2i', 'TzosTQQKafi7kP6xic5Mh6', 'changeGraph', 'eyJpZCI6IDEyMCwgInR5cGUiOiAidmVydGV4IiwgInByb3BzIjogeyJzaXplIjogMTEuMTI5NzA3MTEyOTcwNzEyfX0K');</script>\n",
       "    "
      ],
      "text/plain": [
       "<IPython.core.display.HTML object>"
      ]
     },
     "metadata": {},
     "output_type": "display_data"
    },
    {
     "data": {
      "text/html": [
       "\n",
       "        <div id=\"8udBguM7TMdyPzNg4ZUnW9\"></div>\n",
       "        <script>netpixi.call('8udBguM7TMdyPzNg4ZUnW9', 'TzosTQQKafi7kP6xic5Mh6', 'changeGraph', 'eyJpZCI6IDgyLCAidHlwZSI6ICJ2ZXJ0ZXgiLCAicHJvcHMiOiB7ImNvbG9yIjogMTY3MTE2ODB9fQo=');</script>\n",
       "    "
      ],
      "text/plain": [
       "<IPython.core.display.HTML object>"
      ]
     },
     "metadata": {},
     "output_type": "display_data"
    },
    {
     "data": {
      "text/html": [
       "\n",
       "        <div id=\"RuxSQDrGnbMmTG4zV9Jtzh\"></div>\n",
       "        <script>netpixi.call('RuxSQDrGnbMmTG4zV9Jtzh', 'TzosTQQKafi7kP6xic5Mh6', 'changeGraph', 'eyJpZCI6IDEyMSwgInR5cGUiOiAidmVydGV4IiwgInByb3BzIjogeyJzaXplIjogMTguNDkzNzIzODQ5MzcyMzg3fX0K');</script>\n",
       "    "
      ],
      "text/plain": [
       "<IPython.core.display.HTML object>"
      ]
     },
     "metadata": {},
     "output_type": "display_data"
    },
    {
     "data": {
      "text/html": [
       "\n",
       "        <div id=\"LFYJsWMPtMvuzN28uwsANP\"></div>\n",
       "        <script>netpixi.call('LFYJsWMPtMvuzN28uwsANP', 'TzosTQQKafi7kP6xic5Mh6', 'changeGraph', 'eyJpZCI6IDgxLCAidHlwZSI6ICJ2ZXJ0ZXgiLCAicHJvcHMiOiB7ImNvbG9yIjogMTY3MTE2ODB9fQo=');</script>\n",
       "    "
      ],
      "text/plain": [
       "<IPython.core.display.HTML object>"
      ]
     },
     "metadata": {},
     "output_type": "display_data"
    },
    {
     "data": {
      "text/html": [
       "\n",
       "        <div id=\"8QnXvk3BpTvdou85U9gzE7\"></div>\n",
       "        <script>netpixi.call('8QnXvk3BpTvdou85U9gzE7', 'TzosTQQKafi7kP6xic5Mh6', 'changeGraph', 'eyJpZCI6IDEyMiwgInR5cGUiOiAidmVydGV4IiwgInByb3BzIjogeyJzaXplIjogMTQuMTQyMjU5NDE0MjI1OTR9fQo=');</script>\n",
       "    "
      ],
      "text/plain": [
       "<IPython.core.display.HTML object>"
      ]
     },
     "metadata": {},
     "output_type": "display_data"
    },
    {
     "data": {
      "text/html": [
       "\n",
       "        <div id=\"N5ERXoq69Bsba97xGpG4wK\"></div>\n",
       "        <script>netpixi.call('N5ERXoq69Bsba97xGpG4wK', 'TzosTQQKafi7kP6xic5Mh6', 'changeGraph', 'eyJpZCI6IDgwLCAidHlwZSI6ICJ2ZXJ0ZXgiLCAicHJvcHMiOiB7ImNvbG9yIjogMTY3MTE2ODB9fQo=');</script>\n",
       "    "
      ],
      "text/plain": [
       "<IPython.core.display.HTML object>"
      ]
     },
     "metadata": {},
     "output_type": "display_data"
    },
    {
     "data": {
      "text/html": [
       "\n",
       "        <div id=\"mpWnd24xcxbvKyB2QkxFjk\"></div>\n",
       "        <script>netpixi.call('mpWnd24xcxbvKyB2QkxFjk', 'TzosTQQKafi7kP6xic5Mh6', 'changeGraph', 'eyJpZCI6IDEyMywgInR5cGUiOiAidmVydGV4IiwgInByb3BzIjogeyJzaXplIjogMTEuNzU3MzIyMTc1NzMyMjE3fX0K');</script>\n",
       "    "
      ],
      "text/plain": [
       "<IPython.core.display.HTML object>"
      ]
     },
     "metadata": {},
     "output_type": "display_data"
    },
    {
     "data": {
      "text/html": [
       "\n",
       "        <div id=\"WY7qZAjmvrTa7VRs3geW8T\"></div>\n",
       "        <script>netpixi.call('WY7qZAjmvrTa7VRs3geW8T', 'TzosTQQKafi7kP6xic5Mh6', 'changeGraph', 'eyJpZCI6IDc0LCAidHlwZSI6ICJ2ZXJ0ZXgiLCAicHJvcHMiOiB7ImNvbG9yIjogMTY3MTE2ODB9fQo=');</script>\n",
       "    "
      ],
      "text/plain": [
       "<IPython.core.display.HTML object>"
      ]
     },
     "metadata": {},
     "output_type": "display_data"
    },
    {
     "data": {
      "text/html": [
       "\n",
       "        <div id=\"HTtFoXwkNUn25uccuMf9eN\"></div>\n",
       "        <script>netpixi.call('HTtFoXwkNUn25uccuMf9eN', 'TzosTQQKafi7kP6xic5Mh6', 'changeGraph', 'eyJpZCI6IDEyNCwgInR5cGUiOiAidmVydGV4IiwgInByb3BzIjogeyJzaXplIjogMTkuNjIzNDMwOTYyMzQzMDk3fX0K');</script>\n",
       "    "
      ],
      "text/plain": [
       "<IPython.core.display.HTML object>"
      ]
     },
     "metadata": {},
     "output_type": "display_data"
    },
    {
     "data": {
      "text/html": [
       "\n",
       "        <div id=\"QGG6VxjndLgj8LZXHEstVj\"></div>\n",
       "        <script>netpixi.call('QGG6VxjndLgj8LZXHEstVj', 'TzosTQQKafi7kP6xic5Mh6', 'changeGraph', 'eyJpZCI6IDgwLCAidHlwZSI6ICJ2ZXJ0ZXgiLCAicHJvcHMiOiB7ImNvbG9yIjogMTY3MTE2ODB9fQo=');</script>\n",
       "    "
      ],
      "text/plain": [
       "<IPython.core.display.HTML object>"
      ]
     },
     "metadata": {},
     "output_type": "display_data"
    },
    {
     "data": {
      "text/html": [
       "\n",
       "        <div id=\"5hJS2i2np5PStGryHtvERN\"></div>\n",
       "        <script>netpixi.call('5hJS2i2np5PStGryHtvERN', 'TzosTQQKafi7kP6xic5Mh6', 'changeGraph', 'eyJpZCI6IDEyNSwgInR5cGUiOiAidmVydGV4IiwgInByb3BzIjogeyJzaXplIjogMTIuMzAxMjU1MjMwMTI1NTIzfX0K');</script>\n",
       "    "
      ],
      "text/plain": [
       "<IPython.core.display.HTML object>"
      ]
     },
     "metadata": {},
     "output_type": "display_data"
    },
    {
     "data": {
      "text/html": [
       "\n",
       "        <div id=\"avB6cjDXxZnsYrXCFFgJEC\"></div>\n",
       "        <script>netpixi.call('avB6cjDXxZnsYrXCFFgJEC', 'TzosTQQKafi7kP6xic5Mh6', 'changeGraph', 'eyJpZCI6IDgyLCAidHlwZSI6ICJ2ZXJ0ZXgiLCAicHJvcHMiOiB7ImNvbG9yIjogMTY3MTE2ODB9fQo=');</script>\n",
       "    "
      ],
      "text/plain": [
       "<IPython.core.display.HTML object>"
      ]
     },
     "metadata": {},
     "output_type": "display_data"
    },
    {
     "data": {
      "text/html": [
       "\n",
       "        <div id=\"cVGjGCTLwLAwVu24bQAM2H\"></div>\n",
       "        <script>netpixi.call('cVGjGCTLwLAwVu24bQAM2H', 'TzosTQQKafi7kP6xic5Mh6', 'changeGraph', 'eyJpZCI6IDEyNiwgInR5cGUiOiAidmVydGV4IiwgInByb3BzIjogeyJzaXplIjogMTcuNDQ3Njk4NzQ0NzY5ODczfX0K');</script>\n",
       "    "
      ],
      "text/plain": [
       "<IPython.core.display.HTML object>"
      ]
     },
     "metadata": {},
     "output_type": "display_data"
    },
    {
     "data": {
      "text/html": [
       "\n",
       "        <div id=\"cEDFBM2R7xBTnhsv5CNJjK\"></div>\n",
       "        <script>netpixi.call('cEDFBM2R7xBTnhsv5CNJjK', 'TzosTQQKafi7kP6xic5Mh6', 'changeGraph', 'eyJpZCI6IDg3LCAidHlwZSI6ICJ2ZXJ0ZXgiLCAicHJvcHMiOiB7ImNvbG9yIjogMTY3MTE2ODB9fQo=');</script>\n",
       "    "
      ],
      "text/plain": [
       "<IPython.core.display.HTML object>"
      ]
     },
     "metadata": {},
     "output_type": "display_data"
    },
    {
     "data": {
      "text/html": [
       "\n",
       "        <div id=\"3ErB5svRGvSJyhPV6UzK7B\"></div>\n",
       "        <script>netpixi.call('3ErB5svRGvSJyhPV6UzK7B', 'TzosTQQKafi7kP6xic5Mh6', 'changeGraph', 'eyJpZCI6IDEyNywgInR5cGUiOiAidmVydGV4IiwgInByb3BzIjogeyJzaXplIjogMTMuOTc0ODk1Mzk3NDg5NTR9fQo=');</script>\n",
       "    "
      ],
      "text/plain": [
       "<IPython.core.display.HTML object>"
      ]
     },
     "metadata": {},
     "output_type": "display_data"
    },
    {
     "data": {
      "text/html": [
       "\n",
       "        <div id=\"SDNM8itviroTK7PC9JcU7k\"></div>\n",
       "        <script>netpixi.call('SDNM8itviroTK7PC9JcU7k', 'TzosTQQKafi7kP6xic5Mh6', 'changeGraph', 'eyJpZCI6IDc2LCAidHlwZSI6ICJ2ZXJ0ZXgiLCAicHJvcHMiOiB7ImNvbG9yIjogMTY3MTE2ODB9fQo=');</script>\n",
       "    "
      ],
      "text/plain": [
       "<IPython.core.display.HTML object>"
      ]
     },
     "metadata": {},
     "output_type": "display_data"
    },
    {
     "data": {
      "text/html": [
       "\n",
       "        <div id=\"fp8ftCgX6PG9S9sXxanJUS\"></div>\n",
       "        <script>netpixi.call('fp8ftCgX6PG9S9sXxanJUS', 'TzosTQQKafi7kP6xic5Mh6', 'changeGraph', 'eyJpZCI6IDEyOCwgInR5cGUiOiAidmVydGV4IiwgInByb3BzIjogeyJzaXplIjogMTguMzI2MzU5ODMyNjM1OTh9fQo=');</script>\n",
       "    "
      ],
      "text/plain": [
       "<IPython.core.display.HTML object>"
      ]
     },
     "metadata": {},
     "output_type": "display_data"
    },
    {
     "data": {
      "text/html": [
       "\n",
       "        <div id=\"egtZt5SHXHE8DUogT7pHpJ\"></div>\n",
       "        <script>netpixi.call('egtZt5SHXHE8DUogT7pHpJ', 'TzosTQQKafi7kP6xic5Mh6', 'changeGraph', 'eyJpZCI6IDczLCAidHlwZSI6ICJ2ZXJ0ZXgiLCAicHJvcHMiOiB7ImNvbG9yIjogMTY3MTE2ODB9fQo=');</script>\n",
       "    "
      ],
      "text/plain": [
       "<IPython.core.display.HTML object>"
      ]
     },
     "metadata": {},
     "output_type": "display_data"
    },
    {
     "data": {
      "text/html": [
       "\n",
       "        <div id=\"iQwNsWT3Qp7YaL9QzQ9hVK\"></div>\n",
       "        <script>netpixi.call('iQwNsWT3Qp7YaL9QzQ9hVK', 'TzosTQQKafi7kP6xic5Mh6', 'changeGraph', 'eyJpZCI6IDEyOSwgInR5cGUiOiAidmVydGV4IiwgInByb3BzIjogeyJzaXplIjogMTkuMjA1MDIwOTIwNTAyMDkzfX0K');</script>\n",
       "    "
      ],
      "text/plain": [
       "<IPython.core.display.HTML object>"
      ]
     },
     "metadata": {},
     "output_type": "display_data"
    },
    {
     "data": {
      "text/html": [
       "\n",
       "        <div id=\"TWdn5XwazxSZSFmrvrcEVT\"></div>\n",
       "        <script>netpixi.call('TWdn5XwazxSZSFmrvrcEVT', 'TzosTQQKafi7kP6xic5Mh6', 'changeGraph', 'eyJpZCI6IDg0LCAidHlwZSI6ICJ2ZXJ0ZXgiLCAicHJvcHMiOiB7ImNvbG9yIjogMTY3MTE2ODB9fQo=');</script>\n",
       "    "
      ],
      "text/plain": [
       "<IPython.core.display.HTML object>"
      ]
     },
     "metadata": {},
     "output_type": "display_data"
    },
    {
     "data": {
      "text/html": [
       "\n",
       "        <div id=\"RYFbzTX4ahiN9r28g6zHey\"></div>\n",
       "        <script>netpixi.call('RYFbzTX4ahiN9r28g6zHey', 'TzosTQQKafi7kP6xic5Mh6', 'changeGraph', 'eyJpZCI6IDEzMCwgInR5cGUiOiAidmVydGV4IiwgInByb3BzIjogeyJzaXplIjogMTEuMjk3MDcxMTI5NzA3MTEzfX0K');</script>\n",
       "    "
      ],
      "text/plain": [
       "<IPython.core.display.HTML object>"
      ]
     },
     "metadata": {},
     "output_type": "display_data"
    },
    {
     "data": {
      "text/html": [
       "\n",
       "        <div id=\"c2Gf4wrDXesG2L2PoAB4Xg\"></div>\n",
       "        <script>netpixi.call('c2Gf4wrDXesG2L2PoAB4Xg', 'TzosTQQKafi7kP6xic5Mh6', 'changeGraph', 'eyJpZCI6IDY0LCAidHlwZSI6ICJ2ZXJ0ZXgiLCAicHJvcHMiOiB7ImNvbG9yIjogMTY3MTE2ODB9fQo=');</script>\n",
       "    "
      ],
      "text/plain": [
       "<IPython.core.display.HTML object>"
      ]
     },
     "metadata": {},
     "output_type": "display_data"
    },
    {
     "data": {
      "text/html": [
       "\n",
       "        <div id=\"RivDKShDf3TBXuNb2XyoE6\"></div>\n",
       "        <script>netpixi.call('RivDKShDf3TBXuNb2XyoE6', 'TzosTQQKafi7kP6xic5Mh6', 'changeGraph', 'eyJpZCI6IDEzMSwgInR5cGUiOiAidmVydGV4IiwgInByb3BzIjogeyJzaXplIjogNDEuMH19Cg==');</script>\n",
       "    "
      ],
      "text/plain": [
       "<IPython.core.display.HTML object>"
      ]
     },
     "metadata": {},
     "output_type": "display_data"
    },
    {
     "data": {
      "text/html": [
       "\n",
       "        <div id=\"cui3oBgWEoEJahsUf4JRuU\"></div>\n",
       "        <script>netpixi.call('cui3oBgWEoEJahsUf4JRuU', 'TzosTQQKafi7kP6xic5Mh6', 'changeGraph', 'eyJpZCI6IDc5LCAidHlwZSI6ICJ2ZXJ0ZXgiLCAicHJvcHMiOiB7ImNvbG9yIjogMTY3MTE2ODB9fQo=');</script>\n",
       "    "
      ],
      "text/plain": [
       "<IPython.core.display.HTML object>"
      ]
     },
     "metadata": {},
     "output_type": "display_data"
    },
    {
     "data": {
      "text/html": [
       "\n",
       "        <div id=\"7baaqtm6AucZVoB8vACeTz\"></div>\n",
       "        <script>netpixi.call('7baaqtm6AucZVoB8vACeTz', 'TzosTQQKafi7kP6xic5Mh6', 'changeGraph', 'eyJpZCI6IDEzMiwgInR5cGUiOiAidmVydGV4IiwgInByb3BzIjogeyJzaXplIjogNDQuODMzMzMzMzMzMzMzMzM2fX0K');</script>\n",
       "    "
      ],
      "text/plain": [
       "<IPython.core.display.HTML object>"
      ]
     },
     "metadata": {},
     "output_type": "display_data"
    },
    {
     "data": {
      "text/html": [
       "\n",
       "        <div id=\"3NMuiiGDxdCkTiZCiBqJJJ\"></div>\n",
       "        <script>netpixi.call('3NMuiiGDxdCkTiZCiBqJJJ', 'TzosTQQKafi7kP6xic5Mh6', 'changeGraph', 'eyJpZCI6IDY2LCAidHlwZSI6ICJ2ZXJ0ZXgiLCAicHJvcHMiOiB7ImNvbG9yIjogMTY3MTE2ODB9fQo=');</script>\n",
       "    "
      ],
      "text/plain": [
       "<IPython.core.display.HTML object>"
      ]
     },
     "metadata": {},
     "output_type": "display_data"
    },
    {
     "data": {
      "text/html": [
       "\n",
       "        <div id=\"eXwYoTWqtsvhNYt5j3oCkm\"></div>\n",
       "        <script>netpixi.call('eXwYoTWqtsvhNYt5j3oCkm', 'TzosTQQKafi7kP6xic5Mh6', 'changeGraph', 'eyJpZCI6IDEzMywgInR5cGUiOiAidmVydGV4IiwgInByb3BzIjogeyJzaXplIjogMTYuMTA4Nzg2NjEwODc4NjZ9fQo=');</script>\n",
       "    "
      ],
      "text/plain": [
       "<IPython.core.display.HTML object>"
      ]
     },
     "metadata": {},
     "output_type": "display_data"
    },
    {
     "data": {
      "text/html": [
       "\n",
       "        <div id=\"nwCKXvQcsNDaBbZuDDMf6U\"></div>\n",
       "        <script>netpixi.call('nwCKXvQcsNDaBbZuDDMf6U', 'TzosTQQKafi7kP6xic5Mh6', 'changeGraph', 'eyJpZCI6IDc0LCAidHlwZSI6ICJ2ZXJ0ZXgiLCAicHJvcHMiOiB7ImNvbG9yIjogMTY3MTE2ODB9fQo=');</script>\n",
       "    "
      ],
      "text/plain": [
       "<IPython.core.display.HTML object>"
      ]
     },
     "metadata": {},
     "output_type": "display_data"
    },
    {
     "data": {
      "text/html": [
       "\n",
       "        <div id=\"dMjzGJEJ5sxsXxser7vYVx\"></div>\n",
       "        <script>netpixi.call('dMjzGJEJ5sxsXxser7vYVx', 'TzosTQQKafi7kP6xic5Mh6', 'changeGraph', 'eyJpZCI6IDEzNCwgInR5cGUiOiAidmVydGV4IiwgInByb3BzIjogeyJzaXplIjogMTguODcwMjkyODg3MDI5Mjg3fX0K');</script>\n",
       "    "
      ],
      "text/plain": [
       "<IPython.core.display.HTML object>"
      ]
     },
     "metadata": {},
     "output_type": "display_data"
    },
    {
     "data": {
      "text/html": [
       "\n",
       "        <div id=\"QZS6gXKhMYjQx5xt9VpyrV\"></div>\n",
       "        <script>netpixi.call('QZS6gXKhMYjQx5xt9VpyrV', 'TzosTQQKafi7kP6xic5Mh6', 'changeGraph', 'eyJpZCI6IDcwLCAidHlwZSI6ICJ2ZXJ0ZXgiLCAicHJvcHMiOiB7ImNvbG9yIjogMTY3MTE2ODB9fQo=');</script>\n",
       "    "
      ],
      "text/plain": [
       "<IPython.core.display.HTML object>"
      ]
     },
     "metadata": {},
     "output_type": "display_data"
    },
    {
     "data": {
      "text/html": [
       "\n",
       "        <div id=\"dJo3r5cEPUPTd8kTFgYZzv\"></div>\n",
       "        <script>netpixi.call('dJo3r5cEPUPTd8kTFgYZzv', 'TzosTQQKafi7kP6xic5Mh6', 'changeGraph', 'eyJpZCI6IDEzNSwgInR5cGUiOiAidmVydGV4IiwgInByb3BzIjogeyJzaXplIjogMTkuNDE0MjI1OTQxNDIyNTkzfX0K');</script>\n",
       "    "
      ],
      "text/plain": [
       "<IPython.core.display.HTML object>"
      ]
     },
     "metadata": {},
     "output_type": "display_data"
    },
    {
     "data": {
      "text/html": [
       "\n",
       "        <div id=\"fzjGkZt95YhWBSJPYEK2a6\"></div>\n",
       "        <script>netpixi.call('fzjGkZt95YhWBSJPYEK2a6', 'TzosTQQKafi7kP6xic5Mh6', 'changeGraph', 'eyJpZCI6IDY0LCAidHlwZSI6ICJ2ZXJ0ZXgiLCAicHJvcHMiOiB7ImNvbG9yIjogMTY3MTE2ODB9fQo=');</script>\n",
       "    "
      ],
      "text/plain": [
       "<IPython.core.display.HTML object>"
      ]
     },
     "metadata": {},
     "output_type": "display_data"
    },
    {
     "data": {
      "text/html": [
       "\n",
       "        <div id=\"5w8yH5M74uCMXtod2QpRt4\"></div>\n",
       "        <script>netpixi.call('5w8yH5M74uCMXtod2QpRt4', 'TzosTQQKafi7kP6xic5Mh6', 'changeGraph', 'eyJpZCI6IDEzNiwgInR5cGUiOiAidmVydGV4IiwgInByb3BzIjogeyJzaXplIjogMTQuNDM1MTQ2NDQzNTE0NjQzfX0K');</script>\n",
       "    "
      ],
      "text/plain": [
       "<IPython.core.display.HTML object>"
      ]
     },
     "metadata": {},
     "output_type": "display_data"
    },
    {
     "data": {
      "text/html": [
       "\n",
       "        <div id=\"b4BJgJeFPuDFUdaYWJ4s6z\"></div>\n",
       "        <script>netpixi.call('b4BJgJeFPuDFUdaYWJ4s6z', 'TzosTQQKafi7kP6xic5Mh6', 'changeGraph', 'eyJpZCI6IDgxLCAidHlwZSI6ICJ2ZXJ0ZXgiLCAicHJvcHMiOiB7ImNvbG9yIjogMTY3MTE2ODB9fQo=');</script>\n",
       "    "
      ],
      "text/plain": [
       "<IPython.core.display.HTML object>"
      ]
     },
     "metadata": {},
     "output_type": "display_data"
    },
    {
     "data": {
      "text/html": [
       "\n",
       "        <div id=\"4fiHWhcQKSNnv6aujPUJBV\"></div>\n",
       "        <script>netpixi.call('4fiHWhcQKSNnv6aujPUJBV', 'TzosTQQKafi7kP6xic5Mh6', 'changeGraph', 'eyJpZCI6IDEzNywgInR5cGUiOiAidmVydGV4IiwgInByb3BzIjogeyJzaXplIjogMTUuMjcxOTY2NTI3MTk2NjUyfX0K');</script>\n",
       "    "
      ],
      "text/plain": [
       "<IPython.core.display.HTML object>"
      ]
     },
     "metadata": {},
     "output_type": "display_data"
    },
    {
     "data": {
      "text/html": [
       "\n",
       "        <div id=\"69KwuiGe5fVVatChPsbg4i\"></div>\n",
       "        <script>netpixi.call('69KwuiGe5fVVatChPsbg4i', 'TzosTQQKafi7kP6xic5Mh6', 'changeGraph', 'eyJpZCI6IDc3LCAidHlwZSI6ICJ2ZXJ0ZXgiLCAicHJvcHMiOiB7ImNvbG9yIjogMTY3MTE2ODB9fQo=');</script>\n",
       "    "
      ],
      "text/plain": [
       "<IPython.core.display.HTML object>"
      ]
     },
     "metadata": {},
     "output_type": "display_data"
    },
    {
     "data": {
      "text/html": [
       "\n",
       "        <div id=\"F8FVd3b9AvhRt8kGL38XPY\"></div>\n",
       "        <script>netpixi.call('F8FVd3b9AvhRt8kGL38XPY', 'TzosTQQKafi7kP6xic5Mh6', 'changeGraph', 'eyJpZCI6IDEzOCwgInR5cGUiOiAidmVydGV4IiwgInByb3BzIjogeyJzaXplIjogNDUuMH19Cg==');</script>\n",
       "    "
      ],
      "text/plain": [
       "<IPython.core.display.HTML object>"
      ]
     },
     "metadata": {},
     "output_type": "display_data"
    },
    {
     "data": {
      "text/html": [
       "\n",
       "        <div id=\"eXh6AUQngxQ5s7iN3ZoM26\"></div>\n",
       "        <script>netpixi.call('eXh6AUQngxQ5s7iN3ZoM26', 'TzosTQQKafi7kP6xic5Mh6', 'changeGraph', 'eyJpZCI6IDgzLCAidHlwZSI6ICJ2ZXJ0ZXgiLCAicHJvcHMiOiB7ImNvbG9yIjogMTY3MTE2ODB9fQo=');</script>\n",
       "    "
      ],
      "text/plain": [
       "<IPython.core.display.HTML object>"
      ]
     },
     "metadata": {},
     "output_type": "display_data"
    },
    {
     "data": {
      "text/html": [
       "\n",
       "        <div id=\"kcWKS52ucmjzTPrzgyzgaf\"></div>\n",
       "        <script>netpixi.call('kcWKS52ucmjzTPrzgyzgaf', 'TzosTQQKafi7kP6xic5Mh6', 'changeGraph', 'eyJpZCI6IDEzOSwgInR5cGUiOiAidmVydGV4IiwgInByb3BzIjogeyJzaXplIjogNDcuMTY2NjY2NjY2NjY2Njd9fQo=');</script>\n",
       "    "
      ],
      "text/plain": [
       "<IPython.core.display.HTML object>"
      ]
     },
     "metadata": {},
     "output_type": "display_data"
    },
    {
     "data": {
      "text/html": [
       "\n",
       "        <div id=\"Lk8LdA5Qou3jt5n45cPBUv\"></div>\n",
       "        <script>netpixi.call('Lk8LdA5Qou3jt5n45cPBUv', 'TzosTQQKafi7kP6xic5Mh6', 'changeGraph', 'eyJpZCI6IDc4LCAidHlwZSI6ICJ2ZXJ0ZXgiLCAicHJvcHMiOiB7ImNvbG9yIjogMTY3MTE2ODB9fQo=');</script>\n",
       "    "
      ],
      "text/plain": [
       "<IPython.core.display.HTML object>"
      ]
     },
     "metadata": {},
     "output_type": "display_data"
    },
    {
     "data": {
      "text/html": [
       "\n",
       "        <div id=\"KSBcBsgH9Pdpx9fDLoELaq\"></div>\n",
       "        <script>netpixi.call('KSBcBsgH9Pdpx9fDLoELaq', 'TzosTQQKafi7kP6xic5Mh6', 'changeGraph', 'eyJpZCI6IDE0MCwgInR5cGUiOiAidmVydGV4IiwgInByb3BzIjogeyJzaXplIjogMTQuOTc5MDc5NDk3OTA3OTV9fQo=');</script>\n",
       "    "
      ],
      "text/plain": [
       "<IPython.core.display.HTML object>"
      ]
     },
     "metadata": {},
     "output_type": "display_data"
    },
    {
     "data": {
      "text/html": [
       "\n",
       "        <div id=\"GWY5g5PRfPjgqWULNqedGw\"></div>\n",
       "        <script>netpixi.call('GWY5g5PRfPjgqWULNqedGw', 'TzosTQQKafi7kP6xic5Mh6', 'changeGraph', 'eyJpZCI6IDgzLCAidHlwZSI6ICJ2ZXJ0ZXgiLCAicHJvcHMiOiB7ImNvbG9yIjogMTY3MTE2ODB9fQo=');</script>\n",
       "    "
      ],
      "text/plain": [
       "<IPython.core.display.HTML object>"
      ]
     },
     "metadata": {},
     "output_type": "display_data"
    },
    {
     "data": {
      "text/html": [
       "\n",
       "        <div id=\"HjxGRMNm6athJ3GUrarzpb\"></div>\n",
       "        <script>netpixi.call('HjxGRMNm6athJ3GUrarzpb', 'TzosTQQKafi7kP6xic5Mh6', 'changeGraph', 'eyJpZCI6IDE0MSwgInR5cGUiOiAidmVydGV4IiwgInByb3BzIjogeyJzaXplIjogMTIuNzYxNTA2Mjc2MTUwNjI3fX0K');</script>\n",
       "    "
      ],
      "text/plain": [
       "<IPython.core.display.HTML object>"
      ]
     },
     "metadata": {},
     "output_type": "display_data"
    },
    {
     "data": {
      "text/html": [
       "\n",
       "        <div id=\"eVbEi7UkHhULeji5fxLoXK\"></div>\n",
       "        <script>netpixi.call('eVbEi7UkHhULeji5fxLoXK', 'TzosTQQKafi7kP6xic5Mh6', 'changeGraph', 'eyJpZCI6IDc4LCAidHlwZSI6ICJ2ZXJ0ZXgiLCAicHJvcHMiOiB7ImNvbG9yIjogMTY3MTE2ODB9fQo=');</script>\n",
       "    "
      ],
      "text/plain": [
       "<IPython.core.display.HTML object>"
      ]
     },
     "metadata": {},
     "output_type": "display_data"
    },
    {
     "data": {
      "text/html": [
       "\n",
       "        <div id=\"kghV9gemfdFo7TZAJF7u6H\"></div>\n",
       "        <script>netpixi.call('kghV9gemfdFo7TZAJF7u6H', 'TzosTQQKafi7kP6xic5Mh6', 'changeGraph', 'eyJpZCI6IDE0MiwgInR5cGUiOiAidmVydGV4IiwgInByb3BzIjogeyJzaXplIjogMTYuMDY2OTQ1NjA2Njk0NTZ9fQo=');</script>\n",
       "    "
      ],
      "text/plain": [
       "<IPython.core.display.HTML object>"
      ]
     },
     "metadata": {},
     "output_type": "display_data"
    },
    {
     "data": {
      "text/html": [
       "\n",
       "        <div id=\"bCpSppMhTzkpwra4PT3D5y\"></div>\n",
       "        <script>netpixi.call('bCpSppMhTzkpwra4PT3D5y', 'TzosTQQKafi7kP6xic5Mh6', 'changeGraph', 'eyJpZCI6IDc4LCAidHlwZSI6ICJ2ZXJ0ZXgiLCAicHJvcHMiOiB7ImNvbG9yIjogMTY3MTE2ODB9fQo=');</script>\n",
       "    "
      ],
      "text/plain": [
       "<IPython.core.display.HTML object>"
      ]
     },
     "metadata": {},
     "output_type": "display_data"
    },
    {
     "data": {
      "text/html": [
       "\n",
       "        <div id=\"CdXrWKgaNPHGvqB9dsvihh\"></div>\n",
       "        <script>netpixi.call('CdXrWKgaNPHGvqB9dsvihh', 'TzosTQQKafi7kP6xic5Mh6', 'changeGraph', 'eyJpZCI6IDE0MywgInR5cGUiOiAidmVydGV4IiwgInByb3BzIjogeyJzaXplIjogMTYuNDAxNjczNjQwMTY3MzYzfX0K');</script>\n",
       "    "
      ],
      "text/plain": [
       "<IPython.core.display.HTML object>"
      ]
     },
     "metadata": {},
     "output_type": "display_data"
    },
    {
     "data": {
      "text/html": [
       "\n",
       "        <div id=\"XzqecQDeKJpnXz5dfyMi5E\"></div>\n",
       "        <script>netpixi.call('XzqecQDeKJpnXz5dfyMi5E', 'TzosTQQKafi7kP6xic5Mh6', 'changeGraph', 'eyJpZCI6IDc4LCAidHlwZSI6ICJ2ZXJ0ZXgiLCAicHJvcHMiOiB7ImNvbG9yIjogMTY3MTE2ODB9fQo=');</script>\n",
       "    "
      ],
      "text/plain": [
       "<IPython.core.display.HTML object>"
      ]
     },
     "metadata": {},
     "output_type": "display_data"
    },
    {
     "data": {
      "text/html": [
       "\n",
       "        <div id=\"Nn94ThtkdW6JCTLVvfBnnN\"></div>\n",
       "        <script>netpixi.call('Nn94ThtkdW6JCTLVvfBnnN', 'TzosTQQKafi7kP6xic5Mh6', 'changeGraph', 'eyJpZCI6IDE0NCwgInR5cGUiOiAidmVydGV4IiwgInByb3BzIjogeyJzaXplIjogMTEuMzM4OTEyMTMzODkxMjEzfX0K');</script>\n",
       "    "
      ],
      "text/plain": [
       "<IPython.core.display.HTML object>"
      ]
     },
     "metadata": {},
     "output_type": "display_data"
    },
    {
     "data": {
      "text/html": [
       "\n",
       "        <div id=\"Q5f6EyqMo3txYHRYKaj48A\"></div>\n",
       "        <script>netpixi.call('Q5f6EyqMo3txYHRYKaj48A', 'TzosTQQKafi7kP6xic5Mh6', 'changeGraph', 'eyJpZCI6IDUzLCAidHlwZSI6ICJ2ZXJ0ZXgiLCAicHJvcHMiOiB7ImNvbG9yIjogMTY3MTE2ODB9fQo=');</script>\n",
       "    "
      ],
      "text/plain": [
       "<IPython.core.display.HTML object>"
      ]
     },
     "metadata": {},
     "output_type": "display_data"
    },
    {
     "data": {
      "text/html": [
       "\n",
       "        <div id=\"SstNZFSRmaT695qYDBkXTA\"></div>\n",
       "        <script>netpixi.call('SstNZFSRmaT695qYDBkXTA', 'TzosTQQKafi7kP6xic5Mh6', 'changeGraph', 'eyJpZCI6IDE0NSwgInR5cGUiOiAidmVydGV4IiwgInByb3BzIjogeyJzaXplIjogMTUuOTgzMjYzNTk4MzI2MzZ9fQo=');</script>\n",
       "    "
      ],
      "text/plain": [
       "<IPython.core.display.HTML object>"
      ]
     },
     "metadata": {},
     "output_type": "display_data"
    },
    {
     "data": {
      "text/html": [
       "\n",
       "        <div id=\"gxnLU6yKAPQu5RZ73ruyDj\"></div>\n",
       "        <script>netpixi.call('gxnLU6yKAPQu5RZ73ruyDj', 'TzosTQQKafi7kP6xic5Mh6', 'changeGraph', 'eyJpZCI6IDk0LCAidHlwZSI6ICJ2ZXJ0ZXgiLCAicHJvcHMiOiB7ImNvbG9yIjogMTY3MTE2ODB9fQo=');</script>\n",
       "    "
      ],
      "text/plain": [
       "<IPython.core.display.HTML object>"
      ]
     },
     "metadata": {},
     "output_type": "display_data"
    },
    {
     "data": {
      "text/html": [
       "\n",
       "        <div id=\"ZfgZMnHNfACgqnRSQXBqpu\"></div>\n",
       "        <script>netpixi.call('ZfgZMnHNfACgqnRSQXBqpu', 'TzosTQQKafi7kP6xic5Mh6', 'changeGraph', 'eyJpZCI6IDE0NiwgInR5cGUiOiAidmVydGV4IiwgInByb3BzIjogeyJzaXplIjogMTMuMDU0MzkzMzA1NDM5MzN9fQo=');</script>\n",
       "    "
      ],
      "text/plain": [
       "<IPython.core.display.HTML object>"
      ]
     },
     "metadata": {},
     "output_type": "display_data"
    },
    {
     "data": {
      "text/html": [
       "\n",
       "        <div id=\"Rv332wFPqNDtaZGrstAyXv\"></div>\n",
       "        <script>netpixi.call('Rv332wFPqNDtaZGrstAyXv', 'TzosTQQKafi7kP6xic5Mh6', 'changeGraph', 'eyJpZCI6IDc2LCAidHlwZSI6ICJ2ZXJ0ZXgiLCAicHJvcHMiOiB7ImNvbG9yIjogMTY3MTE2ODB9fQo=');</script>\n",
       "    "
      ],
      "text/plain": [
       "<IPython.core.display.HTML object>"
      ]
     },
     "metadata": {},
     "output_type": "display_data"
    },
    {
     "data": {
      "text/html": [
       "\n",
       "        <div id=\"JGyxHyueqVnVifpKbZNXAt\"></div>\n",
       "        <script>netpixi.call('JGyxHyueqVnVifpKbZNXAt', 'TzosTQQKafi7kP6xic5Mh6', 'changeGraph', 'eyJpZCI6IDE0NywgInR5cGUiOiAidmVydGV4IiwgInByb3BzIjogeyJzaXplIjogMTAuNTg1Nzc0MDU4NTc3NDA3fX0K');</script>\n",
       "    "
      ],
      "text/plain": [
       "<IPython.core.display.HTML object>"
      ]
     },
     "metadata": {},
     "output_type": "display_data"
    },
    {
     "data": {
      "text/html": [
       "\n",
       "        <div id=\"UJbSGfFawhfEnpq6wccgPW\"></div>\n",
       "        <script>netpixi.call('UJbSGfFawhfEnpq6wccgPW', 'TzosTQQKafi7kP6xic5Mh6', 'changeGraph', 'eyJpZCI6IDU0LCAidHlwZSI6ICJ2ZXJ0ZXgiLCAicHJvcHMiOiB7ImNvbG9yIjogMTY3MTE2ODB9fQo=');</script>\n",
       "    "
      ],
      "text/plain": [
       "<IPython.core.display.HTML object>"
      ]
     },
     "metadata": {},
     "output_type": "display_data"
    },
    {
     "data": {
      "text/html": [
       "\n",
       "        <div id=\"CibQQFemmtRbo4EHGekgjV\"></div>\n",
       "        <script>netpixi.call('CibQQFemmtRbo4EHGekgjV', 'TzosTQQKafi7kP6xic5Mh6', 'changeGraph', 'eyJpZCI6IDE0OCwgInR5cGUiOiAidmVydGV4IiwgInByb3BzIjogeyJzaXplIjogMTAuNDYwMjUxMDQ2MDI1MTA1fX0K');</script>\n",
       "    "
      ],
      "text/plain": [
       "<IPython.core.display.HTML object>"
      ]
     },
     "metadata": {},
     "output_type": "display_data"
    },
    {
     "data": {
      "text/html": [
       "\n",
       "        <div id=\"b4mc9sHV6dThVuXxBnMCtV\"></div>\n",
       "        <script>netpixi.call('b4mc9sHV6dThVuXxBnMCtV', 'TzosTQQKafi7kP6xic5Mh6', 'changeGraph', 'eyJpZCI6IDY4LCAidHlwZSI6ICJ2ZXJ0ZXgiLCAicHJvcHMiOiB7ImNvbG9yIjogMTY3MTE2ODB9fQo=');</script>\n",
       "    "
      ],
      "text/plain": [
       "<IPython.core.display.HTML object>"
      ]
     },
     "metadata": {},
     "output_type": "display_data"
    },
    {
     "data": {
      "text/html": [
       "\n",
       "        <div id=\"QW58NJXZRBMxJg5UGRCvaF\"></div>\n",
       "        <script>netpixi.call('QW58NJXZRBMxJg5UGRCvaF', 'TzosTQQKafi7kP6xic5Mh6', 'changeGraph', 'eyJpZCI6IDE0OSwgInR5cGUiOiAidmVydGV4IiwgInByb3BzIjogeyJzaXplIjogMTguNzQ0NzY5ODc0NDc2OTg3fX0K');</script>\n",
       "    "
      ],
      "text/plain": [
       "<IPython.core.display.HTML object>"
      ]
     },
     "metadata": {},
     "output_type": "display_data"
    },
    {
     "data": {
      "text/html": [
       "\n",
       "        <div id=\"JVFkpaTwcwrvXQR528mseY\"></div>\n",
       "        <script>netpixi.call('JVFkpaTwcwrvXQR528mseY', 'TzosTQQKafi7kP6xic5Mh6', 'changeGraph', 'eyJpZCI6IDY1LCAidHlwZSI6ICJ2ZXJ0ZXgiLCAicHJvcHMiOiB7ImNvbG9yIjogMTY3MTE2ODB9fQo=');</script>\n",
       "    "
      ],
      "text/plain": [
       "<IPython.core.display.HTML object>"
      ]
     },
     "metadata": {},
     "output_type": "display_data"
    },
    {
     "data": {
      "text/html": [
       "\n",
       "        <div id=\"YkvC56jELD4oVRtBJwhnZn\"></div>\n",
       "        <script>netpixi.call('YkvC56jELD4oVRtBJwhnZn', 'TzosTQQKafi7kP6xic5Mh6', 'changeGraph', 'eyJpZCI6IDE1MCwgInR5cGUiOiAidmVydGV4IiwgInByb3BzIjogeyJzaXplIjogNDQuMTY2NjY2NjY2NjY2NjY0fX0K');</script>\n",
       "    "
      ],
      "text/plain": [
       "<IPython.core.display.HTML object>"
      ]
     },
     "metadata": {},
     "output_type": "display_data"
    },
    {
     "data": {
      "text/html": [
       "\n",
       "        <div id=\"7vzdnaZNMmZarRLcYoPEFk\"></div>\n",
       "        <script>netpixi.call('7vzdnaZNMmZarRLcYoPEFk', 'TzosTQQKafi7kP6xic5Mh6', 'changeGraph', 'eyJpZCI6IDkwLCAidHlwZSI6ICJ2ZXJ0ZXgiLCAicHJvcHMiOiB7ImNvbG9yIjogMTY3MTE2ODB9fQo=');</script>\n",
       "    "
      ],
      "text/plain": [
       "<IPython.core.display.HTML object>"
      ]
     },
     "metadata": {},
     "output_type": "display_data"
    },
    {
     "data": {
      "text/html": [
       "\n",
       "        <div id=\"66KNsMTaGttAHwNDnsY5GM\"></div>\n",
       "        <script>netpixi.call('66KNsMTaGttAHwNDnsY5GM', 'TzosTQQKafi7kP6xic5Mh6', 'changeGraph', 'eyJpZCI6IDE1MSwgInR5cGUiOiAidmVydGV4IiwgInByb3BzIjogeyJzaXplIjogMTguMTE3MTU0ODExNzE1NDh9fQo=');</script>\n",
       "    "
      ],
      "text/plain": [
       "<IPython.core.display.HTML object>"
      ]
     },
     "metadata": {},
     "output_type": "display_data"
    },
    {
     "data": {
      "text/html": [
       "\n",
       "        <div id=\"4AUuNgvNqti7J7ZYjdz9cZ\"></div>\n",
       "        <script>netpixi.call('4AUuNgvNqti7J7ZYjdz9cZ', 'TzosTQQKafi7kP6xic5Mh6', 'changeGraph', 'eyJpZCI6IDg4LCAidHlwZSI6ICJ2ZXJ0ZXgiLCAicHJvcHMiOiB7ImNvbG9yIjogMTY3MTE2ODB9fQo=');</script>\n",
       "    "
      ],
      "text/plain": [
       "<IPython.core.display.HTML object>"
      ]
     },
     "metadata": {},
     "output_type": "display_data"
    },
    {
     "data": {
      "text/html": [
       "\n",
       "        <div id=\"dBBz3axQE2z6adwL6t2pFR\"></div>\n",
       "        <script>netpixi.call('dBBz3axQE2z6adwL6t2pFR', 'TzosTQQKafi7kP6xic5Mh6', 'changeGraph', 'eyJpZCI6IDE1MiwgInR5cGUiOiAidmVydGV4IiwgInByb3BzIjogeyJzaXplIjogMTMuNjgyMDA4MzY4MjAwODM3fX0K');</script>\n",
       "    "
      ],
      "text/plain": [
       "<IPython.core.display.HTML object>"
      ]
     },
     "metadata": {},
     "output_type": "display_data"
    },
    {
     "data": {
      "text/html": [
       "\n",
       "        <div id=\"naC4pYLPRtY5KETmxGT6hR\"></div>\n",
       "        <script>netpixi.call('naC4pYLPRtY5KETmxGT6hR', 'TzosTQQKafi7kP6xic5Mh6', 'changeGraph', 'eyJpZCI6IDg2LCAidHlwZSI6ICJ2ZXJ0ZXgiLCAicHJvcHMiOiB7ImNvbG9yIjogMTY3MTE2ODB9fQo=');</script>\n",
       "    "
      ],
      "text/plain": [
       "<IPython.core.display.HTML object>"
      ]
     },
     "metadata": {},
     "output_type": "display_data"
    },
    {
     "data": {
      "text/html": [
       "\n",
       "        <div id=\"Z9KgeaPteaKHrzFcM2oNL4\"></div>\n",
       "        <script>netpixi.call('Z9KgeaPteaKHrzFcM2oNL4', 'TzosTQQKafi7kP6xic5Mh6', 'changeGraph', 'eyJpZCI6IDE1MywgInR5cGUiOiAidmVydGV4IiwgInByb3BzIjogeyJzaXplIjogMTQuNjQ0MzUxNDY0NDM1MTQ3fX0K');</script>\n",
       "    "
      ],
      "text/plain": [
       "<IPython.core.display.HTML object>"
      ]
     },
     "metadata": {},
     "output_type": "display_data"
    },
    {
     "data": {
      "text/html": [
       "\n",
       "        <div id=\"knbAGcpZQvgPG35qjnSfv6\"></div>\n",
       "        <script>netpixi.call('knbAGcpZQvgPG35qjnSfv6', 'TzosTQQKafi7kP6xic5Mh6', 'changeGraph', 'eyJpZCI6IDcyLCAidHlwZSI6ICJ2ZXJ0ZXgiLCAicHJvcHMiOiB7ImNvbG9yIjogMTY3MTE2ODB9fQo=');</script>\n",
       "    "
      ],
      "text/plain": [
       "<IPython.core.display.HTML object>"
      ]
     },
     "metadata": {},
     "output_type": "display_data"
    },
    {
     "data": {
      "text/html": [
       "\n",
       "        <div id=\"nMoze5efV3KQanNU6iofwh\"></div>\n",
       "        <script>netpixi.call('nMoze5efV3KQanNU6iofwh', 'TzosTQQKafi7kP6xic5Mh6', 'changeGraph', 'eyJpZCI6IDE1NCwgInR5cGUiOiAidmVydGV4IiwgInByb3BzIjogeyJzaXplIjogMTkuNjY1MjcxOTY2NTI3MTk3fX0K');</script>\n",
       "    "
      ],
      "text/plain": [
       "<IPython.core.display.HTML object>"
      ]
     },
     "metadata": {},
     "output_type": "display_data"
    },
    {
     "data": {
      "text/html": [
       "\n",
       "        <div id=\"bnrUksvugVBrd4yshNVySy\"></div>\n",
       "        <script>netpixi.call('bnrUksvugVBrd4yshNVySy', 'TzosTQQKafi7kP6xic5Mh6', 'changeGraph', 'eyJpZCI6IDgyLCAidHlwZSI6ICJ2ZXJ0ZXgiLCAicHJvcHMiOiB7ImNvbG9yIjogMTY3MTE2ODB9fQo=');</script>\n",
       "    "
      ],
      "text/plain": [
       "<IPython.core.display.HTML object>"
      ]
     },
     "metadata": {},
     "output_type": "display_data"
    },
    {
     "data": {
      "text/html": [
       "\n",
       "        <div id=\"BzwsSjZLa94K5UwQi82QB4\"></div>\n",
       "        <script>netpixi.call('BzwsSjZLa94K5UwQi82QB4', 'TzosTQQKafi7kP6xic5Mh6', 'changeGraph', 'eyJpZCI6IDE1NSwgInR5cGUiOiAidmVydGV4IiwgInByb3BzIjogeyJzaXplIjogMTcuMjgwMzM0NzI4MDMzNDczfX0K');</script>\n",
       "    "
      ],
      "text/plain": [
       "<IPython.core.display.HTML object>"
      ]
     },
     "metadata": {},
     "output_type": "display_data"
    },
    {
     "data": {
      "text/html": [
       "\n",
       "        <div id=\"3zorrLUsUS9DCzMFRJsgXE\"></div>\n",
       "        <script>netpixi.call('3zorrLUsUS9DCzMFRJsgXE', 'TzosTQQKafi7kP6xic5Mh6', 'changeGraph', 'eyJpZCI6IDg2LCAidHlwZSI6ICJ2ZXJ0ZXgiLCAicHJvcHMiOiB7ImNvbG9yIjogMTY3MTE2ODB9fQo=');</script>\n",
       "    "
      ],
      "text/plain": [
       "<IPython.core.display.HTML object>"
      ]
     },
     "metadata": {},
     "output_type": "display_data"
    },
    {
     "data": {
      "text/html": [
       "\n",
       "        <div id=\"kFBKVpFTCSSR2TtFRqjF5f\"></div>\n",
       "        <script>netpixi.call('kFBKVpFTCSSR2TtFRqjF5f', 'TzosTQQKafi7kP6xic5Mh6', 'changeGraph', 'eyJpZCI6IDE1NiwgInR5cGUiOiAidmVydGV4IiwgInByb3BzIjogeyJzaXplIjogNDkuMzMzMzMzMzMzMzMzMzM2fX0K');</script>\n",
       "    "
      ],
      "text/plain": [
       "<IPython.core.display.HTML object>"
      ]
     },
     "metadata": {},
     "output_type": "display_data"
    },
    {
     "data": {
      "text/html": [
       "\n",
       "        <div id=\"AZbfPixmVfvq3eKcyZaZXh\"></div>\n",
       "        <script>netpixi.call('AZbfPixmVfvq3eKcyZaZXh', 'TzosTQQKafi7kP6xic5Mh6', 'changeGraph', 'eyJpZCI6IDgxLCAidHlwZSI6ICJ2ZXJ0ZXgiLCAicHJvcHMiOiB7ImNvbG9yIjogMTY3MTE2ODB9fQo=');</script>\n",
       "    "
      ],
      "text/plain": [
       "<IPython.core.display.HTML object>"
      ]
     },
     "metadata": {},
     "output_type": "display_data"
    },
    {
     "data": {
      "text/html": [
       "\n",
       "        <div id=\"aHPf8GpjkHrQhzVWVSLQqV\"></div>\n",
       "        <script>netpixi.call('aHPf8GpjkHrQhzVWVSLQqV', 'TzosTQQKafi7kP6xic5Mh6', 'changeGraph', 'eyJpZCI6IDE1NywgInR5cGUiOiAidmVydGV4IiwgInByb3BzIjogeyJzaXplIjogMTAuODM2ODIwMDgzNjgyMDA4fX0K');</script>\n",
       "    "
      ],
      "text/plain": [
       "<IPython.core.display.HTML object>"
      ]
     },
     "metadata": {},
     "output_type": "display_data"
    },
    {
     "data": {
      "text/html": [
       "\n",
       "        <div id=\"E2WyFng5mtGEqLA9D2pKXG\"></div>\n",
       "        <script>netpixi.call('E2WyFng5mtGEqLA9D2pKXG', 'TzosTQQKafi7kP6xic5Mh6', 'changeGraph', 'eyJpZCI6IDY5LCAidHlwZSI6ICJ2ZXJ0ZXgiLCAicHJvcHMiOiB7ImNvbG9yIjogMTY3MTE2ODB9fQo=');</script>\n",
       "    "
      ],
      "text/plain": [
       "<IPython.core.display.HTML object>"
      ]
     },
     "metadata": {},
     "output_type": "display_data"
    },
    {
     "data": {
      "text/html": [
       "\n",
       "        <div id=\"kifEwqnKfk3PD3NCsPz7pW\"></div>\n",
       "        <script>netpixi.call('kifEwqnKfk3PD3NCsPz7pW', 'TzosTQQKafi7kP6xic5Mh6', 'changeGraph', 'eyJpZCI6IDE1OCwgInR5cGUiOiAidmVydGV4IiwgInByb3BzIjogeyJzaXplIjogMTIuMjE3NTczMjIxNzU3MzIyfX0K');</script>\n",
       "    "
      ],
      "text/plain": [
       "<IPython.core.display.HTML object>"
      ]
     },
     "metadata": {},
     "output_type": "display_data"
    },
    {
     "data": {
      "text/html": [
       "\n",
       "        <div id=\"NjLWMzb4xabtFBXcVKL38W\"></div>\n",
       "        <script>netpixi.call('NjLWMzb4xabtFBXcVKL38W', 'TzosTQQKafi7kP6xic5Mh6', 'changeGraph', 'eyJpZCI6IDcwLCAidHlwZSI6ICJ2ZXJ0ZXgiLCAicHJvcHMiOiB7ImNvbG9yIjogMTY3MTE2ODB9fQo=');</script>\n",
       "    "
      ],
      "text/plain": [
       "<IPython.core.display.HTML object>"
      ]
     },
     "metadata": {},
     "output_type": "display_data"
    },
    {
     "data": {
      "text/html": [
       "\n",
       "        <div id=\"YCTnM7FsJ4CEBcTbvPbWPb\"></div>\n",
       "        <script>netpixi.call('YCTnM7FsJ4CEBcTbvPbWPb', 'TzosTQQKafi7kP6xic5Mh6', 'changeGraph', 'eyJpZCI6IDE1OSwgInR5cGUiOiAidmVydGV4IiwgInByb3BzIjogeyJzaXplIjogMTAuNTQzOTMzMDU0MzkzMzA1fX0K');</script>\n",
       "    "
      ],
      "text/plain": [
       "<IPython.core.display.HTML object>"
      ]
     },
     "metadata": {},
     "output_type": "display_data"
    },
    {
     "data": {
      "text/html": [
       "\n",
       "        <div id=\"ngixoTvmayemBgfsKPyoYf\"></div>\n",
       "        <script>netpixi.call('ngixoTvmayemBgfsKPyoYf', 'TzosTQQKafi7kP6xic5Mh6', 'changeGraph', 'eyJpZCI6IDY1LCAidHlwZSI6ICJ2ZXJ0ZXgiLCAicHJvcHMiOiB7ImNvbG9yIjogMTY3MTE2ODB9fQo=');</script>\n",
       "    "
      ],
      "text/plain": [
       "<IPython.core.display.HTML object>"
      ]
     },
     "metadata": {},
     "output_type": "display_data"
    },
    {
     "data": {
      "text/html": [
       "\n",
       "        <div id=\"bPondXkQpHcuLZtUbqak4n\"></div>\n",
       "        <script>netpixi.call('bPondXkQpHcuLZtUbqak4n', 'TzosTQQKafi7kP6xic5Mh6', 'changeGraph', 'eyJpZCI6IDE2MCwgInR5cGUiOiAidmVydGV4IiwgInByb3BzIjogeyJzaXplIjogNDYuNX19Cg==');</script>\n",
       "    "
      ],
      "text/plain": [
       "<IPython.core.display.HTML object>"
      ]
     },
     "metadata": {},
     "output_type": "display_data"
    },
    {
     "data": {
      "text/html": [
       "\n",
       "        <div id=\"TfhBCNj3aRRdikz2UNLSX4\"></div>\n",
       "        <script>netpixi.call('TfhBCNj3aRRdikz2UNLSX4', 'TzosTQQKafi7kP6xic5Mh6', 'changeGraph', 'eyJpZCI6IDc2LCAidHlwZSI6ICJ2ZXJ0ZXgiLCAicHJvcHMiOiB7ImNvbG9yIjogMTY3MTE2ODB9fQo=');</script>\n",
       "    "
      ],
      "text/plain": [
       "<IPython.core.display.HTML object>"
      ]
     },
     "metadata": {},
     "output_type": "display_data"
    },
    {
     "data": {
      "text/html": [
       "\n",
       "        <div id=\"87rD9W3cbGiqcsfXuZg5B3\"></div>\n",
       "        <script>netpixi.call('87rD9W3cbGiqcsfXuZg5B3', 'TzosTQQKafi7kP6xic5Mh6', 'changeGraph', 'eyJpZCI6IDE2MSwgInR5cGUiOiAidmVydGV4IiwgInByb3BzIjogeyJzaXplIjogMTQuMDE2NzM2NDAxNjczNjR9fQo=');</script>\n",
       "    "
      ],
      "text/plain": [
       "<IPython.core.display.HTML object>"
      ]
     },
     "metadata": {},
     "output_type": "display_data"
    },
    {
     "data": {
      "text/html": [
       "\n",
       "        <div id=\"gy4quWFQQY7F8jodZocovy\"></div>\n",
       "        <script>netpixi.call('gy4quWFQQY7F8jodZocovy', 'TzosTQQKafi7kP6xic5Mh6', 'changeGraph', 'eyJpZCI6IDg0LCAidHlwZSI6ICJ2ZXJ0ZXgiLCAicHJvcHMiOiB7ImNvbG9yIjogMTY3MTE2ODB9fQo=');</script>\n",
       "    "
      ],
      "text/plain": [
       "<IPython.core.display.HTML object>"
      ]
     },
     "metadata": {},
     "output_type": "display_data"
    },
    {
     "data": {
      "text/html": [
       "\n",
       "        <div id=\"mmpve24tCcdGRtQd8ZfLMo\"></div>\n",
       "        <script>netpixi.call('mmpve24tCcdGRtQd8ZfLMo', 'TzosTQQKafi7kP6xic5Mh6', 'changeGraph', 'eyJpZCI6IDE2MiwgInR5cGUiOiAidmVydGV4IiwgInByb3BzIjogeyJzaXplIjogNDEuODMzMzMzMzMzMzMzMzN9fQo=');</script>\n",
       "    "
      ],
      "text/plain": [
       "<IPython.core.display.HTML object>"
      ]
     },
     "metadata": {},
     "output_type": "display_data"
    },
    {
     "data": {
      "text/html": [
       "\n",
       "        <div id=\"BavxEtBvf72BLM9yKX7z9q\"></div>\n",
       "        <script>netpixi.call('BavxEtBvf72BLM9yKX7z9q', 'TzosTQQKafi7kP6xic5Mh6', 'changeGraph', 'eyJpZCI6IDczLCAidHlwZSI6ICJ2ZXJ0ZXgiLCAicHJvcHMiOiB7ImNvbG9yIjogMTY3MTE2ODB9fQo=');</script>\n",
       "    "
      ],
      "text/plain": [
       "<IPython.core.display.HTML object>"
      ]
     },
     "metadata": {},
     "output_type": "display_data"
    },
    {
     "data": {
      "text/html": [
       "\n",
       "        <div id=\"hT8sZFHiL7AS7BTH77DTeb\"></div>\n",
       "        <script>netpixi.call('hT8sZFHiL7AS7BTH77DTeb', 'TzosTQQKafi7kP6xic5Mh6', 'changeGraph', 'eyJpZCI6IDE2MywgInR5cGUiOiAidmVydGV4IiwgInByb3BzIjogeyJzaXplIjogMjAuMH19Cg==');</script>\n",
       "    "
      ],
      "text/plain": [
       "<IPython.core.display.HTML object>"
      ]
     },
     "metadata": {},
     "output_type": "display_data"
    },
    {
     "data": {
      "text/html": [
       "\n",
       "        <div id=\"A3LhFXGsRNbMirH5DJEEiP\"></div>\n",
       "        <script>netpixi.call('A3LhFXGsRNbMirH5DJEEiP', 'TzosTQQKafi7kP6xic5Mh6', 'changeGraph', 'eyJpZCI6IDgxLCAidHlwZSI6ICJ2ZXJ0ZXgiLCAicHJvcHMiOiB7ImNvbG9yIjogMTY3MTE2ODB9fQo=');</script>\n",
       "    "
      ],
      "text/plain": [
       "<IPython.core.display.HTML object>"
      ]
     },
     "metadata": {},
     "output_type": "display_data"
    },
    {
     "data": {
      "text/html": [
       "\n",
       "        <div id=\"AQkWHetEMXQ9LvzPGzgsBj\"></div>\n",
       "        <script>netpixi.call('AQkWHetEMXQ9LvzPGzgsBj', 'TzosTQQKafi7kP6xic5Mh6', 'changeGraph', 'eyJpZCI6IDE2NCwgInR5cGUiOiAidmVydGV4IiwgInByb3BzIjogeyJzaXplIjogMTMuMzQ3MjgwMzM0NzI4MDMzfX0K');</script>\n",
       "    "
      ],
      "text/plain": [
       "<IPython.core.display.HTML object>"
      ]
     },
     "metadata": {},
     "output_type": "display_data"
    },
    {
     "data": {
      "text/html": [
       "\n",
       "        <div id=\"Ge64ybZCrs7JsiKdFs7bTs\"></div>\n",
       "        <script>netpixi.call('Ge64ybZCrs7JsiKdFs7bTs', 'TzosTQQKafi7kP6xic5Mh6', 'changeGraph', 'eyJpZCI6IDg2LCAidHlwZSI6ICJ2ZXJ0ZXgiLCAicHJvcHMiOiB7ImNvbG9yIjogMTY3MTE2ODB9fQo=');</script>\n",
       "    "
      ],
      "text/plain": [
       "<IPython.core.display.HTML object>"
      ]
     },
     "metadata": {},
     "output_type": "display_data"
    },
    {
     "data": {
      "text/html": [
       "\n",
       "        <div id=\"35jKznKsS5uUWgn7AA8Anm\"></div>\n",
       "        <script>netpixi.call('35jKznKsS5uUWgn7AA8Anm', 'TzosTQQKafi7kP6xic5Mh6', 'changeGraph', 'eyJpZCI6IDE2NSwgInR5cGUiOiAidmVydGV4IiwgInByb3BzIjogeyJzaXplIjogMTMuNDMwOTYyMzQzMDk2MjMzfX0K');</script>\n",
       "    "
      ],
      "text/plain": [
       "<IPython.core.display.HTML object>"
      ]
     },
     "metadata": {},
     "output_type": "display_data"
    },
    {
     "data": {
      "text/html": [
       "\n",
       "        <div id=\"8djoTcsmrotZmuz2DBnHLW\"></div>\n",
       "        <script>netpixi.call('8djoTcsmrotZmuz2DBnHLW', 'TzosTQQKafi7kP6xic5Mh6', 'changeGraph', 'eyJpZCI6IDg3LCAidHlwZSI6ICJ2ZXJ0ZXgiLCAicHJvcHMiOiB7ImNvbG9yIjogMTY3MTE2ODB9fQo=');</script>\n",
       "    "
      ],
      "text/plain": [
       "<IPython.core.display.HTML object>"
      ]
     },
     "metadata": {},
     "output_type": "display_data"
    },
    {
     "data": {
      "text/html": [
       "\n",
       "        <div id=\"aAEmWfNnfXwk8rSWGYTsyh\"></div>\n",
       "        <script>netpixi.call('aAEmWfNnfXwk8rSWGYTsyh', 'TzosTQQKafi7kP6xic5Mh6', 'changeGraph', 'eyJpZCI6IDE2NiwgInR5cGUiOiAidmVydGV4IiwgInByb3BzIjogeyJzaXplIjogMTguNDUxODgyODQ1MTg4MjgzfX0K');</script>\n",
       "    "
      ],
      "text/plain": [
       "<IPython.core.display.HTML object>"
      ]
     },
     "metadata": {},
     "output_type": "display_data"
    },
    {
     "data": {
      "text/html": [
       "\n",
       "        <div id=\"4cfVGZ56ntuNaP4vu4kNKi\"></div>\n",
       "        <script>netpixi.call('4cfVGZ56ntuNaP4vu4kNKi', 'TzosTQQKafi7kP6xic5Mh6', 'changeGraph', 'eyJpZCI6IDg5LCAidHlwZSI6ICJ2ZXJ0ZXgiLCAicHJvcHMiOiB7ImNvbG9yIjogMTY3MTE2ODB9fQo=');</script>\n",
       "    "
      ],
      "text/plain": [
       "<IPython.core.display.HTML object>"
      ]
     },
     "metadata": {},
     "output_type": "display_data"
    },
    {
     "data": {
      "text/html": [
       "\n",
       "        <div id=\"Ae8QburtDqDj4VhLhNiN2t\"></div>\n",
       "        <script>netpixi.call('Ae8QburtDqDj4VhLhNiN2t', 'TzosTQQKafi7kP6xic5Mh6', 'changeGraph', 'eyJpZCI6IDE2NywgInR5cGUiOiAidmVydGV4IiwgInByb3BzIjogeyJzaXplIjogNDMuNjY2NjY2NjY2NjY2NjY0fX0K');</script>\n",
       "    "
      ],
      "text/plain": [
       "<IPython.core.display.HTML object>"
      ]
     },
     "metadata": {},
     "output_type": "display_data"
    },
    {
     "data": {
      "text/html": [
       "\n",
       "        <div id=\"jSQ6Rrv6eASqC7eHiJ7VCA\"></div>\n",
       "        <script>netpixi.call('jSQ6Rrv6eASqC7eHiJ7VCA', 'TzosTQQKafi7kP6xic5Mh6', 'changeGraph', 'eyJpZCI6IDczLCAidHlwZSI6ICJ2ZXJ0ZXgiLCAicHJvcHMiOiB7ImNvbG9yIjogMTY3MTE2ODB9fQo=');</script>\n",
       "    "
      ],
      "text/plain": [
       "<IPython.core.display.HTML object>"
      ]
     },
     "metadata": {},
     "output_type": "display_data"
    },
    {
     "data": {
      "text/html": [
       "\n",
       "        <div id=\"VLtVsT5foC4AMZXthao6DF\"></div>\n",
       "        <script>netpixi.call('VLtVsT5foC4AMZXthao6DF', 'TzosTQQKafi7kP6xic5Mh6', 'changeGraph', 'eyJpZCI6IDE2OCwgInR5cGUiOiAidmVydGV4IiwgInByb3BzIjogeyJzaXplIjogMTAuOTIwNTAyMDkyMDUwMjF9fQo=');</script>\n",
       "    "
      ],
      "text/plain": [
       "<IPython.core.display.HTML object>"
      ]
     },
     "metadata": {},
     "output_type": "display_data"
    },
    {
     "data": {
      "text/html": [
       "\n",
       "        <div id=\"HC5PtksYSSsvmNLoj4hw6Q\"></div>\n",
       "        <script>netpixi.call('HC5PtksYSSsvmNLoj4hw6Q', 'TzosTQQKafi7kP6xic5Mh6', 'changeGraph', 'eyJpZCI6IDgwLCAidHlwZSI6ICJ2ZXJ0ZXgiLCAicHJvcHMiOiB7ImNvbG9yIjogMTY3MTE2ODB9fQo=');</script>\n",
       "    "
      ],
      "text/plain": [
       "<IPython.core.display.HTML object>"
      ]
     },
     "metadata": {},
     "output_type": "display_data"
    },
    {
     "data": {
      "text/html": [
       "\n",
       "        <div id=\"SeCDQPEkquAzFGbejLDrrq\"></div>\n",
       "        <script>netpixi.call('SeCDQPEkquAzFGbejLDrrq', 'TzosTQQKafi7kP6xic5Mh6', 'changeGraph', 'eyJpZCI6IDE2OSwgInR5cGUiOiAidmVydGV4IiwgInByb3BzIjogeyJzaXplIjogMTcuNDg5NTM5NzQ4OTUzOTczfX0K');</script>\n",
       "    "
      ],
      "text/plain": [
       "<IPython.core.display.HTML object>"
      ]
     },
     "metadata": {},
     "output_type": "display_data"
    },
    {
     "data": {
      "text/html": [
       "\n",
       "        <div id=\"dZnb48n3DCqyLBcTH55AXa\"></div>\n",
       "        <script>netpixi.call('dZnb48n3DCqyLBcTH55AXa', 'TzosTQQKafi7kP6xic5Mh6', 'changeGraph', 'eyJpZCI6IDg1LCAidHlwZSI6ICJ2ZXJ0ZXgiLCAicHJvcHMiOiB7ImNvbG9yIjogMTY3MTE2ODB9fQo=');</script>\n",
       "    "
      ],
      "text/plain": [
       "<IPython.core.display.HTML object>"
      ]
     },
     "metadata": {},
     "output_type": "display_data"
    },
    {
     "data": {
      "text/html": [
       "\n",
       "        <div id=\"5xWexMNTwjJaD2ShTotGz2\"></div>\n",
       "        <script>netpixi.call('5xWexMNTwjJaD2ShTotGz2', 'TzosTQQKafi7kP6xic5Mh6', 'changeGraph', 'eyJpZCI6IDE3MCwgInR5cGUiOiAidmVydGV4IiwgInByb3BzIjogeyJzaXplIjogMTguMTU4OTk1ODE1ODk5NTh9fQo=');</script>\n",
       "    "
      ],
      "text/plain": [
       "<IPython.core.display.HTML object>"
      ]
     },
     "metadata": {},
     "output_type": "display_data"
    },
    {
     "data": {
      "text/html": [
       "\n",
       "        <div id=\"Xf2eoBpYfxJmFkMTkvfTED\"></div>\n",
       "        <script>netpixi.call('Xf2eoBpYfxJmFkMTkvfTED', 'TzosTQQKafi7kP6xic5Mh6', 'changeGraph', 'eyJpZCI6IDY4LCAidHlwZSI6ICJ2ZXJ0ZXgiLCAicHJvcHMiOiB7ImNvbG9yIjogMTY3MTE2ODB9fQo=');</script>\n",
       "    "
      ],
      "text/plain": [
       "<IPython.core.display.HTML object>"
      ]
     },
     "metadata": {},
     "output_type": "display_data"
    },
    {
     "data": {
      "text/html": [
       "\n",
       "        <div id=\"ZXC8vJUM494ynhbMGqTuwk\"></div>\n",
       "        <script>netpixi.call('ZXC8vJUM494ynhbMGqTuwk', 'TzosTQQKafi7kP6xic5Mh6', 'changeGraph', 'eyJpZCI6IDE3MSwgInR5cGUiOiAidmVydGV4IiwgInByb3BzIjogeyJzaXplIjogMTIuMjU5NDE0MjI1OTQxNDIzfX0K');</script>\n",
       "    "
      ],
      "text/plain": [
       "<IPython.core.display.HTML object>"
      ]
     },
     "metadata": {},
     "output_type": "display_data"
    },
    {
     "data": {
      "text/html": [
       "\n",
       "        <div id=\"WPm5BrxPNVNnD3jwAtpWgd\"></div>\n",
       "        <script>netpixi.call('WPm5BrxPNVNnD3jwAtpWgd', 'TzosTQQKafi7kP6xic5Mh6', 'changeGraph', 'eyJpZCI6IDgyLCAidHlwZSI6ICJ2ZXJ0ZXgiLCAicHJvcHMiOiB7ImNvbG9yIjogMTY3MTE2ODB9fQo=');</script>\n",
       "    "
      ],
      "text/plain": [
       "<IPython.core.display.HTML object>"
      ]
     },
     "metadata": {},
     "output_type": "display_data"
    },
    {
     "data": {
      "text/html": [
       "\n",
       "        <div id=\"7Zmqq9DYPecngVcEXSRvau\"></div>\n",
       "        <script>netpixi.call('7Zmqq9DYPecngVcEXSRvau', 'TzosTQQKafi7kP6xic5Mh6', 'changeGraph', 'eyJpZCI6IDE3MiwgInR5cGUiOiAidmVydGV4IiwgInByb3BzIjogeyJzaXplIjogMTEuNzE1NDgxMTcxNTQ4MTE3fX0K');</script>\n",
       "    "
      ],
      "text/plain": [
       "<IPython.core.display.HTML object>"
      ]
     },
     "metadata": {},
     "output_type": "display_data"
    },
    {
     "data": {
      "text/html": [
       "\n",
       "        <div id=\"WXe3cWGJdeC24i4yTfKRHn\"></div>\n",
       "        <script>netpixi.call('WXe3cWGJdeC24i4yTfKRHn', 'TzosTQQKafi7kP6xic5Mh6', 'changeGraph', 'eyJpZCI6IDc4LCAidHlwZSI6ICJ2ZXJ0ZXgiLCAicHJvcHMiOiB7ImNvbG9yIjogMTY3MTE2ODB9fQo=');</script>\n",
       "    "
      ],
      "text/plain": [
       "<IPython.core.display.HTML object>"
      ]
     },
     "metadata": {},
     "output_type": "display_data"
    },
    {
     "data": {
      "text/html": [
       "\n",
       "        <div id=\"7RCGbWE5hmfKR8yWrBAc3Q\"></div>\n",
       "        <script>netpixi.call('7RCGbWE5hmfKR8yWrBAc3Q', 'TzosTQQKafi7kP6xic5Mh6', 'changeGraph', 'eyJpZCI6IDE3MywgInR5cGUiOiAidmVydGV4IiwgInByb3BzIjogeyJzaXplIjogMTcuMTEyOTcwNzExMjk3MDd9fQo=');</script>\n",
       "    "
      ],
      "text/plain": [
       "<IPython.core.display.HTML object>"
      ]
     },
     "metadata": {},
     "output_type": "display_data"
    },
    {
     "data": {
      "text/html": [
       "\n",
       "        <div id=\"jCfA8GAERjxEDJo6KdpfZk\"></div>\n",
       "        <script>netpixi.call('jCfA8GAERjxEDJo6KdpfZk', 'TzosTQQKafi7kP6xic5Mh6', 'changeGraph', 'eyJpZCI6IDgwLCAidHlwZSI6ICJ2ZXJ0ZXgiLCAicHJvcHMiOiB7ImNvbG9yIjogMTY3MTE2ODB9fQo=');</script>\n",
       "    "
      ],
      "text/plain": [
       "<IPython.core.display.HTML object>"
      ]
     },
     "metadata": {},
     "output_type": "display_data"
    },
    {
     "data": {
      "text/html": [
       "\n",
       "        <div id=\"DhGVqWnjb5RygHeHDiBPFb\"></div>\n",
       "        <script>netpixi.call('DhGVqWnjb5RygHeHDiBPFb', 'TzosTQQKafi7kP6xic5Mh6', 'changeGraph', 'eyJpZCI6IDE3NCwgInR5cGUiOiAidmVydGV4IiwgInByb3BzIjogeyJzaXplIjogMTkuMjQ2ODYxOTI0Njg2MTkzfX0K');</script>\n",
       "    "
      ],
      "text/plain": [
       "<IPython.core.display.HTML object>"
      ]
     },
     "metadata": {},
     "output_type": "display_data"
    },
    {
     "data": {
      "text/html": [
       "\n",
       "        <div id=\"3GkYFUPXQ8htbPj3xkMTrT\"></div>\n",
       "        <script>netpixi.call('3GkYFUPXQ8htbPj3xkMTrT', 'TzosTQQKafi7kP6xic5Mh6', 'changeGraph', 'eyJpZCI6IDc1LCAidHlwZSI6ICJ2ZXJ0ZXgiLCAicHJvcHMiOiB7ImNvbG9yIjogMTY3MTE2ODB9fQo=');</script>\n",
       "    "
      ],
      "text/plain": [
       "<IPython.core.display.HTML object>"
      ]
     },
     "metadata": {},
     "output_type": "display_data"
    },
    {
     "data": {
      "text/html": [
       "\n",
       "        <div id=\"QLw3adwgySm8z4GyikYD6j\"></div>\n",
       "        <script>netpixi.call('QLw3adwgySm8z4GyikYD6j', 'TzosTQQKafi7kP6xic5Mh6', 'changeGraph', 'eyJpZCI6IDE3NSwgInR5cGUiOiAidmVydGV4IiwgInByb3BzIjogeyJzaXplIjogMTguNDEwMDQxODQxMDA0MTgzfX0K');</script>\n",
       "    "
      ],
      "text/plain": [
       "<IPython.core.display.HTML object>"
      ]
     },
     "metadata": {},
     "output_type": "display_data"
    },
    {
     "data": {
      "text/html": [
       "\n",
       "        <div id=\"GMKJG8UVSuinrp8bjSb869\"></div>\n",
       "        <script>netpixi.call('GMKJG8UVSuinrp8bjSb869', 'TzosTQQKafi7kP6xic5Mh6', 'changeGraph', 'eyJpZCI6IDg1LCAidHlwZSI6ICJ2ZXJ0ZXgiLCAicHJvcHMiOiB7ImNvbG9yIjogMTY3MTE2ODB9fQo=');</script>\n",
       "    "
      ],
      "text/plain": [
       "<IPython.core.display.HTML object>"
      ]
     },
     "metadata": {},
     "output_type": "display_data"
    },
    {
     "data": {
      "text/html": [
       "\n",
       "        <div id=\"MzHYAKpfXyXKfkZVAqraPU\"></div>\n",
       "        <script>netpixi.call('MzHYAKpfXyXKfkZVAqraPU', 'TzosTQQKafi7kP6xic5Mh6', 'changeGraph', 'eyJpZCI6IDE3NiwgInR5cGUiOiAidmVydGV4IiwgInByb3BzIjogeyJzaXplIjogNDIuMTY2NjY2NjY2NjY2Njd9fQo=');</script>\n",
       "    "
      ],
      "text/plain": [
       "<IPython.core.display.HTML object>"
      ]
     },
     "metadata": {},
     "output_type": "display_data"
    },
    {
     "data": {
      "text/html": [
       "\n",
       "        <div id=\"KvpA6L6dANwAcUzqWTR5Kf\"></div>\n",
       "        <script>netpixi.call('KvpA6L6dANwAcUzqWTR5Kf', 'TzosTQQKafi7kP6xic5Mh6', 'changeGraph', 'eyJpZCI6IDY4LCAidHlwZSI6ICJ2ZXJ0ZXgiLCAicHJvcHMiOiB7ImNvbG9yIjogMTY3MTE2ODB9fQo=');</script>\n",
       "    "
      ],
      "text/plain": [
       "<IPython.core.display.HTML object>"
      ]
     },
     "metadata": {},
     "output_type": "display_data"
    },
    {
     "data": {
      "text/html": [
       "\n",
       "        <div id=\"3FZQTxciFoMMECGWxDpe5t\"></div>\n",
       "        <script>netpixi.call('3FZQTxciFoMMECGWxDpe5t', 'TzosTQQKafi7kP6xic5Mh6', 'changeGraph', 'eyJpZCI6IDE3NywgInR5cGUiOiAidmVydGV4IiwgInByb3BzIjogeyJzaXplIjogMTAuOTYyMzQzMDk2MjM0MzF9fQo=');</script>\n",
       "    "
      ],
      "text/plain": [
       "<IPython.core.display.HTML object>"
      ]
     },
     "metadata": {},
     "output_type": "display_data"
    },
    {
     "data": {
      "text/html": [
       "\n",
       "        <div id=\"2bBde2JVVXiyQvrmd859Z5\"></div>\n",
       "        <script>netpixi.call('2bBde2JVVXiyQvrmd859Z5', 'TzosTQQKafi7kP6xic5Mh6', 'changeGraph', 'eyJpZCI6IDczLCAidHlwZSI6ICJ2ZXJ0ZXgiLCAicHJvcHMiOiB7ImNvbG9yIjogMTY3MTE2ODB9fQo=');</script>\n",
       "    "
      ],
      "text/plain": [
       "<IPython.core.display.HTML object>"
      ]
     },
     "metadata": {},
     "output_type": "display_data"
    },
    {
     "data": {
      "text/html": [
       "\n",
       "        <div id=\"iwwjbuDbpSwvf3EJERe9BE\"></div>\n",
       "        <script>netpixi.call('iwwjbuDbpSwvf3EJERe9BE', 'TzosTQQKafi7kP6xic5Mh6', 'changeGraph', 'eyJpZCI6IDE3OCwgInR5cGUiOiAidmVydGV4IiwgInByb3BzIjogeyJzaXplIjogNDYuMTY2NjY2NjY2NjY2NjY0fX0K');</script>\n",
       "    "
      ],
      "text/plain": [
       "<IPython.core.display.HTML object>"
      ]
     },
     "metadata": {},
     "output_type": "display_data"
    },
    {
     "data": {
      "text/html": [
       "\n",
       "        <div id=\"3SAMFWtTpqJedw5qeJSAyn\"></div>\n",
       "        <script>netpixi.call('3SAMFWtTpqJedw5qeJSAyn', 'TzosTQQKafi7kP6xic5Mh6', 'changeGraph', 'eyJpZCI6IDc3LCAidHlwZSI6ICJ2ZXJ0ZXgiLCAicHJvcHMiOiB7ImNvbG9yIjogMTY3MTE2ODB9fQo=');</script>\n",
       "    "
      ],
      "text/plain": [
       "<IPython.core.display.HTML object>"
      ]
     },
     "metadata": {},
     "output_type": "display_data"
    },
    {
     "data": {
      "text/html": [
       "\n",
       "        <div id=\"ctgPTYrHWCYXezxcuH2AAx\"></div>\n",
       "        <script>netpixi.call('ctgPTYrHWCYXezxcuH2AAx', 'TzosTQQKafi7kP6xic5Mh6', 'changeGraph', 'eyJpZCI6IDE3OSwgInR5cGUiOiAidmVydGV4IiwgInByb3BzIjogeyJzaXplIjogMTUuNjQ4NTM1NTY0ODUzNTU3fX0K');</script>\n",
       "    "
      ],
      "text/plain": [
       "<IPython.core.display.HTML object>"
      ]
     },
     "metadata": {},
     "output_type": "display_data"
    },
    {
     "data": {
      "text/html": [
       "\n",
       "        <div id=\"RsucNoKScXrT4rZ2mL7PZa\"></div>\n",
       "        <script>netpixi.call('RsucNoKScXrT4rZ2mL7PZa', 'TzosTQQKafi7kP6xic5Mh6', 'changeGraph', 'eyJpZCI6IDg3LCAidHlwZSI6ICJ2ZXJ0ZXgiLCAicHJvcHMiOiB7ImNvbG9yIjogMTY3MTE2ODB9fQo=');</script>\n",
       "    "
      ],
      "text/plain": [
       "<IPython.core.display.HTML object>"
      ]
     },
     "metadata": {},
     "output_type": "display_data"
    },
    {
     "data": {
      "text/html": [
       "\n",
       "        <div id=\"fG5EMoXwnMCfuvZN7WkEjp\"></div>\n",
       "        <script>netpixi.call('fG5EMoXwnMCfuvZN7WkEjp', 'TzosTQQKafi7kP6xic5Mh6', 'changeGraph', 'eyJpZCI6IDE4MCwgInR5cGUiOiAidmVydGV4IiwgInByb3BzIjogeyJzaXplIjogMTYuNDg1MzU1NjQ4NTM1NTY3fX0K');</script>\n",
       "    "
      ],
      "text/plain": [
       "<IPython.core.display.HTML object>"
      ]
     },
     "metadata": {},
     "output_type": "display_data"
    },
    {
     "data": {
      "text/html": [
       "\n",
       "        <div id=\"Vqw5Ht9J9aFku2vU8dqdpv\"></div>\n",
       "        <script>netpixi.call('Vqw5Ht9J9aFku2vU8dqdpv', 'TzosTQQKafi7kP6xic5Mh6', 'changeGraph', 'eyJpZCI6IDg2LCAidHlwZSI6ICJ2ZXJ0ZXgiLCAicHJvcHMiOiB7ImNvbG9yIjogMTY3MTE2ODB9fQo=');</script>\n",
       "    "
      ],
      "text/plain": [
       "<IPython.core.display.HTML object>"
      ]
     },
     "metadata": {},
     "output_type": "display_data"
    },
    {
     "data": {
      "text/html": [
       "\n",
       "        <div id=\"mjdyMwtSmry4J3GYazAuaw\"></div>\n",
       "        <script>netpixi.call('mjdyMwtSmry4J3GYazAuaw', 'TzosTQQKafi7kP6xic5Mh6', 'changeGraph', 'eyJpZCI6IDE4MSwgInR5cGUiOiAidmVydGV4IiwgInByb3BzIjogeyJzaXplIjogMTEuNTQ4MTE3MTU0ODExNzE1fX0K');</script>\n",
       "    "
      ],
      "text/plain": [
       "<IPython.core.display.HTML object>"
      ]
     },
     "metadata": {},
     "output_type": "display_data"
    },
    {
     "data": {
      "text/html": [
       "\n",
       "        <div id=\"X9SwW5Ao6PDCRgTKPuUfvU\"></div>\n",
       "        <script>netpixi.call('X9SwW5Ao6PDCRgTKPuUfvU', 'TzosTQQKafi7kP6xic5Mh6', 'changeGraph', 'eyJpZCI6IDcyLCAidHlwZSI6ICJ2ZXJ0ZXgiLCAicHJvcHMiOiB7ImNvbG9yIjogMTY3MTE2ODB9fQo=');</script>\n",
       "    "
      ],
      "text/plain": [
       "<IPython.core.display.HTML object>"
      ]
     },
     "metadata": {},
     "output_type": "display_data"
    },
    {
     "data": {
      "text/html": [
       "\n",
       "        <div id=\"2tVCJYLzPzaHMEiKHGVKcN\"></div>\n",
       "        <script>netpixi.call('2tVCJYLzPzaHMEiKHGVKcN', 'TzosTQQKafi7kP6xic5Mh6', 'changeGraph', 'eyJpZCI6IDE4MiwgInR5cGUiOiAidmVydGV4IiwgInByb3BzIjogeyJzaXplIjogMTIuMTc1NzMyMjE3NTczMjIyfX0K');</script>\n",
       "    "
      ],
      "text/plain": [
       "<IPython.core.display.HTML object>"
      ]
     },
     "metadata": {},
     "output_type": "display_data"
    },
    {
     "data": {
      "text/html": [
       "\n",
       "        <div id=\"itVg33aro5pFGTV5BraZAA\"></div>\n",
       "        <script>netpixi.call('itVg33aro5pFGTV5BraZAA', 'TzosTQQKafi7kP6xic5Mh6', 'changeGraph', 'eyJpZCI6IDc2LCAidHlwZSI6ICJ2ZXJ0ZXgiLCAicHJvcHMiOiB7ImNvbG9yIjogMTY3MTE2ODB9fQo=');</script>\n",
       "    "
      ],
      "text/plain": [
       "<IPython.core.display.HTML object>"
      ]
     },
     "metadata": {},
     "output_type": "display_data"
    },
    {
     "data": {
      "text/html": [
       "\n",
       "        <div id=\"fKz7jNpjT45UGt72o5VLUb\"></div>\n",
       "        <script>netpixi.call('fKz7jNpjT45UGt72o5VLUb', 'TzosTQQKafi7kP6xic5Mh6', 'changeGraph', 'eyJpZCI6IDE4MywgInR5cGUiOiAidmVydGV4IiwgInByb3BzIjogeyJzaXplIjogMTYuOTQ1NjA2Njk0NTYwNjY2fX0K');</script>\n",
       "    "
      ],
      "text/plain": [
       "<IPython.core.display.HTML object>"
      ]
     },
     "metadata": {},
     "output_type": "display_data"
    },
    {
     "data": {
      "text/html": [
       "\n",
       "        <div id=\"7dFYkiQBjByt4MPoNiHdta\"></div>\n",
       "        <script>netpixi.call('7dFYkiQBjByt4MPoNiHdta', 'TzosTQQKafi7kP6xic5Mh6', 'changeGraph', 'eyJpZCI6IDc4LCAidHlwZSI6ICJ2ZXJ0ZXgiLCAicHJvcHMiOiB7ImNvbG9yIjogMTY3MTE2ODB9fQo=');</script>\n",
       "    "
      ],
      "text/plain": [
       "<IPython.core.display.HTML object>"
      ]
     },
     "metadata": {},
     "output_type": "display_data"
    },
    {
     "data": {
      "text/html": [
       "\n",
       "        <div id=\"PKRbFgcvwu77oVXESHBjdR\"></div>\n",
       "        <script>netpixi.call('PKRbFgcvwu77oVXESHBjdR', 'TzosTQQKafi7kP6xic5Mh6', 'changeGraph', 'eyJpZCI6IDE4NCwgInR5cGUiOiAidmVydGV4IiwgInByb3BzIjogeyJzaXplIjogMTUuOTQxNDIyNTk0MTQyMjZ9fQo=');</script>\n",
       "    "
      ],
      "text/plain": [
       "<IPython.core.display.HTML object>"
      ]
     },
     "metadata": {},
     "output_type": "display_data"
    },
    {
     "data": {
      "text/html": [
       "\n",
       "        <div id=\"PCbakQ6LA9zZ7yLvjA7VYt\"></div>\n",
       "        <script>netpixi.call('PCbakQ6LA9zZ7yLvjA7VYt', 'TzosTQQKafi7kP6xic5Mh6', 'changeGraph', 'eyJpZCI6IDc1LCAidHlwZSI6ICJ2ZXJ0ZXgiLCAicHJvcHMiOiB7ImNvbG9yIjogMTY3MTE2ODB9fQo=');</script>\n",
       "    "
      ],
      "text/plain": [
       "<IPython.core.display.HTML object>"
      ]
     },
     "metadata": {},
     "output_type": "display_data"
    },
    {
     "data": {
      "text/html": [
       "\n",
       "        <div id=\"KRuwMxpNt3EWxESvGz3oH6\"></div>\n",
       "        <script>netpixi.call('KRuwMxpNt3EWxESvGz3oH6', 'TzosTQQKafi7kP6xic5Mh6', 'changeGraph', 'eyJpZCI6IDE4NSwgInR5cGUiOiAidmVydGV4IiwgInByb3BzIjogeyJzaXplIjogMTYuMjM0MzA5NjIzNDMwOTZ9fQo=');</script>\n",
       "    "
      ],
      "text/plain": [
       "<IPython.core.display.HTML object>"
      ]
     },
     "metadata": {},
     "output_type": "display_data"
    },
    {
     "data": {
      "text/html": [
       "\n",
       "        <div id=\"oUJMhuQd4rCKibwnJWWru7\"></div>\n",
       "        <script>netpixi.call('oUJMhuQd4rCKibwnJWWru7', 'TzosTQQKafi7kP6xic5Mh6', 'changeGraph', 'eyJpZCI6IDQ4LCAidHlwZSI6ICJ2ZXJ0ZXgiLCAicHJvcHMiOiB7ImNvbG9yIjogMTY3MTE2ODB9fQo=');</script>\n",
       "    "
      ],
      "text/plain": [
       "<IPython.core.display.HTML object>"
      ]
     },
     "metadata": {},
     "output_type": "display_data"
    },
    {
     "data": {
      "text/html": [
       "\n",
       "        <div id=\"iKgpc6STAAEfMnHyy7w3ov\"></div>\n",
       "        <script>netpixi.call('iKgpc6STAAEfMnHyy7w3ov', 'TzosTQQKafi7kP6xic5Mh6', 'changeGraph', 'eyJpZCI6IDE4NiwgInR5cGUiOiAidmVydGV4IiwgInByb3BzIjogeyJzaXplIjogMTkuNDk3OTA3OTQ5NzkwNzkzfX0K');</script>\n",
       "    "
      ],
      "text/plain": [
       "<IPython.core.display.HTML object>"
      ]
     },
     "metadata": {},
     "output_type": "display_data"
    },
    {
     "data": {
      "text/html": [
       "\n",
       "        <div id=\"SZ4YPrMrnBg6beQLJeBRiK\"></div>\n",
       "        <script>netpixi.call('SZ4YPrMrnBg6beQLJeBRiK', 'TzosTQQKafi7kP6xic5Mh6', 'changeGraph', 'eyJpZCI6IDY5LCAidHlwZSI6ICJ2ZXJ0ZXgiLCAicHJvcHMiOiB7ImNvbG9yIjogMTY3MTE2ODB9fQo=');</script>\n",
       "    "
      ],
      "text/plain": [
       "<IPython.core.display.HTML object>"
      ]
     },
     "metadata": {},
     "output_type": "display_data"
    },
    {
     "data": {
      "text/html": [
       "\n",
       "        <div id=\"G2XAmuEojp9MSKgyun3y42\"></div>\n",
       "        <script>netpixi.call('G2XAmuEojp9MSKgyun3y42', 'TzosTQQKafi7kP6xic5Mh6', 'changeGraph', 'eyJpZCI6IDE4NywgInR5cGUiOiAidmVydGV4IiwgInByb3BzIjogeyJzaXplIjogNDQuMzMzMzMzMzMzMzMzMzM2fX0K');</script>\n",
       "    "
      ],
      "text/plain": [
       "<IPython.core.display.HTML object>"
      ]
     },
     "metadata": {},
     "output_type": "display_data"
    },
    {
     "data": {
      "text/html": [
       "\n",
       "        <div id=\"jk3ZMeb5TSGmMFJBFhuAid\"></div>\n",
       "        <script>netpixi.call('jk3ZMeb5TSGmMFJBFhuAid', 'TzosTQQKafi7kP6xic5Mh6', 'changeGraph', 'eyJpZCI6IDYxLCAidHlwZSI6ICJ2ZXJ0ZXgiLCAicHJvcHMiOiB7ImNvbG9yIjogMTY3MTE2ODB9fQo=');</script>\n",
       "    "
      ],
      "text/plain": [
       "<IPython.core.display.HTML object>"
      ]
     },
     "metadata": {},
     "output_type": "display_data"
    },
    {
     "data": {
      "text/html": [
       "\n",
       "        <div id=\"3W9cxyasgSUASSC95mD8Pa\"></div>\n",
       "        <script>netpixi.call('3W9cxyasgSUASSC95mD8Pa', 'TzosTQQKafi7kP6xic5Mh6', 'changeGraph', 'eyJpZCI6IDE4OCwgInR5cGUiOiAidmVydGV4IiwgInByb3BzIjogeyJzaXplIjogMTQuMzkzMzA1NDM5MzMwNTQzfX0K');</script>\n",
       "    "
      ],
      "text/plain": [
       "<IPython.core.display.HTML object>"
      ]
     },
     "metadata": {},
     "output_type": "display_data"
    },
    {
     "data": {
      "text/html": [
       "\n",
       "        <div id=\"Euty8yS3BAf5ic398TRUEZ\"></div>\n",
       "        <script>netpixi.call('Euty8yS3BAf5ic398TRUEZ', 'TzosTQQKafi7kP6xic5Mh6', 'changeGraph', 'eyJpZCI6IDczLCAidHlwZSI6ICJ2ZXJ0ZXgiLCAicHJvcHMiOiB7ImNvbG9yIjogMTY3MTE2ODB9fQo=');</script>\n",
       "    "
      ],
      "text/plain": [
       "<IPython.core.display.HTML object>"
      ]
     },
     "metadata": {},
     "output_type": "display_data"
    },
    {
     "data": {
      "text/html": [
       "\n",
       "        <div id=\"4hct2mgS6tohSuhAmEaoV8\"></div>\n",
       "        <script>netpixi.call('4hct2mgS6tohSuhAmEaoV8', 'TzosTQQKafi7kP6xic5Mh6', 'changeGraph', 'eyJpZCI6IDE4OSwgInR5cGUiOiAidmVydGV4IiwgInByb3BzIjogeyJzaXplIjogMTMuNzIzODQ5MzcyMzg0OTM3fX0K');</script>\n",
       "    "
      ],
      "text/plain": [
       "<IPython.core.display.HTML object>"
      ]
     },
     "metadata": {},
     "output_type": "display_data"
    },
    {
     "data": {
      "text/html": [
       "\n",
       "        <div id=\"3eLrU8U6hjRYUY2w875HGH\"></div>\n",
       "        <script>netpixi.call('3eLrU8U6hjRYUY2w875HGH', 'TzosTQQKafi7kP6xic5Mh6', 'changeGraph', 'eyJpZCI6IDc0LCAidHlwZSI6ICJ2ZXJ0ZXgiLCAicHJvcHMiOiB7ImNvbG9yIjogMTY3MTE2ODB9fQo=');</script>\n",
       "    "
      ],
      "text/plain": [
       "<IPython.core.display.HTML object>"
      ]
     },
     "metadata": {},
     "output_type": "display_data"
    },
    {
     "data": {
      "text/html": [
       "\n",
       "        <div id=\"Yfejv7irHBJW8sNQAsLuJe\"></div>\n",
       "        <script>netpixi.call('Yfejv7irHBJW8sNQAsLuJe', 'TzosTQQKafi7kP6xic5Mh6', 'changeGraph', 'eyJpZCI6IDE5MCwgInR5cGUiOiAidmVydGV4IiwgInByb3BzIjogeyJzaXplIjogMTIuMDkyMDUwMjA5MjA1MDJ9fQo=');</script>\n",
       "    "
      ],
      "text/plain": [
       "<IPython.core.display.HTML object>"
      ]
     },
     "metadata": {},
     "output_type": "display_data"
    },
    {
     "data": {
      "text/html": [
       "\n",
       "        <div id=\"YJXpvKrAW3GdYakwXWWDBM\"></div>\n",
       "        <script>netpixi.call('YJXpvKrAW3GdYakwXWWDBM', 'TzosTQQKafi7kP6xic5Mh6', 'changeGraph', 'eyJpZCI6IDgxLCAidHlwZSI6ICJ2ZXJ0ZXgiLCAicHJvcHMiOiB7ImNvbG9yIjogMTY3MTE2ODB9fQo=');</script>\n",
       "    "
      ],
      "text/plain": [
       "<IPython.core.display.HTML object>"
      ]
     },
     "metadata": {},
     "output_type": "display_data"
    },
    {
     "data": {
      "text/html": [
       "\n",
       "        <div id=\"ENVnaxBfSUvM8LnKwKKFMm\"></div>\n",
       "        <script>netpixi.call('ENVnaxBfSUvM8LnKwKKFMm', 'TzosTQQKafi7kP6xic5Mh6', 'changeGraph', 'eyJpZCI6IDE5MSwgInR5cGUiOiAidmVydGV4IiwgInByb3BzIjogeyJzaXplIjogMTMuMTM4MDc1MzEzODA3NTMyfX0K');</script>\n",
       "    "
      ],
      "text/plain": [
       "<IPython.core.display.HTML object>"
      ]
     },
     "metadata": {},
     "output_type": "display_data"
    },
    {
     "data": {
      "text/html": [
       "\n",
       "        <div id=\"fJMsSrbCXgciXjN7cdunRZ\"></div>\n",
       "        <script>netpixi.call('fJMsSrbCXgciXjN7cdunRZ', 'TzosTQQKafi7kP6xic5Mh6', 'changeGraph', 'eyJpZCI6IDc1LCAidHlwZSI6ICJ2ZXJ0ZXgiLCAicHJvcHMiOiB7ImNvbG9yIjogMTY3MTE2ODB9fQo=');</script>\n",
       "    "
      ],
      "text/plain": [
       "<IPython.core.display.HTML object>"
      ]
     },
     "metadata": {},
     "output_type": "display_data"
    },
    {
     "data": {
      "text/html": [
       "\n",
       "        <div id=\"m83kNHjanUyVkYddmTu2tc\"></div>\n",
       "        <script>netpixi.call('m83kNHjanUyVkYddmTu2tc', 'TzosTQQKafi7kP6xic5Mh6', 'changeGraph', 'eyJpZCI6IDE5MiwgInR5cGUiOiAidmVydGV4IiwgInByb3BzIjogeyJzaXplIjogMTYuMjc2MTUwNjI3NjE1MDYzfX0K');</script>\n",
       "    "
      ],
      "text/plain": [
       "<IPython.core.display.HTML object>"
      ]
     },
     "metadata": {},
     "output_type": "display_data"
    },
    {
     "data": {
      "text/html": [
       "\n",
       "        <div id=\"77UCfxapKMeSRksM3iJ5dj\"></div>\n",
       "        <script>netpixi.call('77UCfxapKMeSRksM3iJ5dj', 'TzosTQQKafi7kP6xic5Mh6', 'changeGraph', 'eyJpZCI6IDc3LCAidHlwZSI6ICJ2ZXJ0ZXgiLCAicHJvcHMiOiB7ImNvbG9yIjogMTY3MTE2ODB9fQo=');</script>\n",
       "    "
      ],
      "text/plain": [
       "<IPython.core.display.HTML object>"
      ]
     },
     "metadata": {},
     "output_type": "display_data"
    },
    {
     "data": {
      "text/html": [
       "\n",
       "        <div id=\"TTSXgAH4nMLZy9iFyK7RYg\"></div>\n",
       "        <script>netpixi.call('TTSXgAH4nMLZy9iFyK7RYg', 'TzosTQQKafi7kP6xic5Mh6', 'changeGraph', 'eyJpZCI6IDE5MywgInR5cGUiOiAidmVydGV4IiwgInByb3BzIjogeyJzaXplIjogMTEuMTcxNTQ4MTE3MTU0ODEyfX0K');</script>\n",
       "    "
      ],
      "text/plain": [
       "<IPython.core.display.HTML object>"
      ]
     },
     "metadata": {},
     "output_type": "display_data"
    },
    {
     "data": {
      "text/html": [
       "\n",
       "        <div id=\"gLvXoeHcawBiN7R8qhtPgC\"></div>\n",
       "        <script>netpixi.call('gLvXoeHcawBiN7R8qhtPgC', 'TzosTQQKafi7kP6xic5Mh6', 'changeGraph', 'eyJpZCI6IDc0LCAidHlwZSI6ICJ2ZXJ0ZXgiLCAicHJvcHMiOiB7ImNvbG9yIjogMTY3MTE2ODB9fQo=');</script>\n",
       "    "
      ],
      "text/plain": [
       "<IPython.core.display.HTML object>"
      ]
     },
     "metadata": {},
     "output_type": "display_data"
    },
    {
     "data": {
      "text/html": [
       "\n",
       "        <div id=\"oJtbFF7jkk3RefkzETwAqh\"></div>\n",
       "        <script>netpixi.call('oJtbFF7jkk3RefkzETwAqh', 'TzosTQQKafi7kP6xic5Mh6', 'changeGraph', 'eyJpZCI6IDE5NCwgInR5cGUiOiAidmVydGV4IiwgInByb3BzIjogeyJzaXplIjogMTAuMH19Cg==');</script>\n",
       "    "
      ],
      "text/plain": [
       "<IPython.core.display.HTML object>"
      ]
     },
     "metadata": {},
     "output_type": "display_data"
    },
    {
     "data": {
      "text/html": [
       "\n",
       "        <div id=\"Km2pHQGeaM4VudzsYNYVMC\"></div>\n",
       "        <script>netpixi.call('Km2pHQGeaM4VudzsYNYVMC', 'TzosTQQKafi7kP6xic5Mh6', 'changeGraph', 'eyJpZCI6IDY2LCAidHlwZSI6ICJ2ZXJ0ZXgiLCAicHJvcHMiOiB7ImNvbG9yIjogMTY3MTE2ODB9fQo=');</script>\n",
       "    "
      ],
      "text/plain": [
       "<IPython.core.display.HTML object>"
      ]
     },
     "metadata": {},
     "output_type": "display_data"
    },
    {
     "data": {
      "text/html": [
       "\n",
       "        <div id=\"ShaPTpuhcrXYnrnr4GXvuh\"></div>\n",
       "        <script>netpixi.call('ShaPTpuhcrXYnrnr4GXvuh', 'TzosTQQKafi7kP6xic5Mh6', 'changeGraph', 'eyJpZCI6IDE5NSwgInR5cGUiOiAidmVydGV4IiwgInByb3BzIjogeyJzaXplIjogNDIuNX19Cg==');</script>\n",
       "    "
      ],
      "text/plain": [
       "<IPython.core.display.HTML object>"
      ]
     },
     "metadata": {},
     "output_type": "display_data"
    },
    {
     "data": {
      "text/html": [
       "\n",
       "        <div id=\"BH8WcwwtFCtLv8owiSMNR4\"></div>\n",
       "        <script>netpixi.call('BH8WcwwtFCtLv8owiSMNR4', 'TzosTQQKafi7kP6xic5Mh6', 'changeGraph', 'eyJpZCI6IDgwLCAidHlwZSI6ICJ2ZXJ0ZXgiLCAicHJvcHMiOiB7ImNvbG9yIjogMTY3MTE2ODB9fQo=');</script>\n",
       "    "
      ],
      "text/plain": [
       "<IPython.core.display.HTML object>"
      ]
     },
     "metadata": {},
     "output_type": "display_data"
    },
    {
     "data": {
      "text/html": [
       "\n",
       "        <div id=\"KVTefVJLYwXDy2KoXGxo4W\"></div>\n",
       "        <script>netpixi.call('KVTefVJLYwXDy2KoXGxo4W', 'TzosTQQKafi7kP6xic5Mh6', 'changeGraph', 'eyJpZCI6IDE5NiwgInR5cGUiOiAidmVydGV4IiwgInByb3BzIjogeyJzaXplIjogMTkuNzQ4OTUzOTc0ODk1Mzk3fX0K');</script>\n",
       "    "
      ],
      "text/plain": [
       "<IPython.core.display.HTML object>"
      ]
     },
     "metadata": {},
     "output_type": "display_data"
    },
    {
     "data": {
      "text/html": [
       "\n",
       "        <div id=\"7pZQsaiNmAKVdu5tftefPn\"></div>\n",
       "        <script>netpixi.call('7pZQsaiNmAKVdu5tftefPn', 'TzosTQQKafi7kP6xic5Mh6', 'changeGraph', 'eyJpZCI6IDgyLCAidHlwZSI6ICJ2ZXJ0ZXgiLCAicHJvcHMiOiB7ImNvbG9yIjogMTY3MTE2ODB9fQo=');</script>\n",
       "    "
      ],
      "text/plain": [
       "<IPython.core.display.HTML object>"
      ]
     },
     "metadata": {},
     "output_type": "display_data"
    },
    {
     "data": {
      "text/html": [
       "\n",
       "        <div id=\"FiGBX4B8WcarV9E8vSttcr\"></div>\n",
       "        <script>netpixi.call('FiGBX4B8WcarV9E8vSttcr', 'TzosTQQKafi7kP6xic5Mh6', 'changeGraph', 'eyJpZCI6IDE5NywgInR5cGUiOiAidmVydGV4IiwgInByb3BzIjogeyJzaXplIjogNDAuNjY2NjY2NjY2NjY2Njd9fQo=');</script>\n",
       "    "
      ],
      "text/plain": [
       "<IPython.core.display.HTML object>"
      ]
     },
     "metadata": {},
     "output_type": "display_data"
    },
    {
     "data": {
      "text/html": [
       "\n",
       "        <div id=\"QaSpND7vnehYPBNSVdwoUk\"></div>\n",
       "        <script>netpixi.call('QaSpND7vnehYPBNSVdwoUk', 'TzosTQQKafi7kP6xic5Mh6', 'changeGraph', 'eyJpZCI6IDY3LCAidHlwZSI6ICJ2ZXJ0ZXgiLCAicHJvcHMiOiB7ImNvbG9yIjogMTY3MTE2ODB9fQo=');</script>\n",
       "    "
      ],
      "text/plain": [
       "<IPython.core.display.HTML object>"
      ]
     },
     "metadata": {},
     "output_type": "display_data"
    },
    {
     "data": {
      "text/html": [
       "\n",
       "        <div id=\"cvhMwQ84jPRiT8sZDzrEcP\"></div>\n",
       "        <script>netpixi.call('cvhMwQ84jPRiT8sZDzrEcP', 'TzosTQQKafi7kP6xic5Mh6', 'changeGraph', 'eyJpZCI6IDE5OCwgInR5cGUiOiAidmVydGV4IiwgInByb3BzIjogeyJzaXplIjogMTkuNTM5NzQ4OTUzOTc0ODkzfX0K');</script>\n",
       "    "
      ],
      "text/plain": [
       "<IPython.core.display.HTML object>"
      ]
     },
     "metadata": {},
     "output_type": "display_data"
    },
    {
     "data": {
      "text/html": [
       "\n",
       "        <div id=\"jF92FEUKhox3LsmyMZtdQQ\"></div>\n",
       "        <script>netpixi.call('jF92FEUKhox3LsmyMZtdQQ', 'TzosTQQKafi7kP6xic5Mh6', 'changeGraph', 'eyJpZCI6IDc0LCAidHlwZSI6ICJ2ZXJ0ZXgiLCAicHJvcHMiOiB7ImNvbG9yIjogMTY3MTE2ODB9fQo=');</script>\n",
       "    "
      ],
      "text/plain": [
       "<IPython.core.display.HTML object>"
      ]
     },
     "metadata": {},
     "output_type": "display_data"
    },
    {
     "data": {
      "text/html": [
       "\n",
       "        <div id=\"g5o7NpT9d8zZehT2o2xnmD\"></div>\n",
       "        <script>netpixi.call('g5o7NpT9d8zZehT2o2xnmD', 'TzosTQQKafi7kP6xic5Mh6', 'changeGraph', 'eyJpZCI6IDE5OSwgInR5cGUiOiAidmVydGV4IiwgInByb3BzIjogeyJzaXplIjogMTIuNTk0MTQyMjU5NDE0MjI1fX0K');</script>\n",
       "    "
      ],
      "text/plain": [
       "<IPython.core.display.HTML object>"
      ]
     },
     "metadata": {},
     "output_type": "display_data"
    },
    {
     "data": {
      "text/html": [
       "\n",
       "        <div id=\"BPGKQGXrCjjwHAJ93q6d5r\"></div>\n",
       "        <script>netpixi.call('BPGKQGXrCjjwHAJ93q6d5r', 'TzosTQQKafi7kP6xic5Mh6', 'changeGraph', 'eyJpZCI6IDcxLCAidHlwZSI6ICJ2ZXJ0ZXgiLCAicHJvcHMiOiB7ImNvbG9yIjogMTY3MTE2ODB9fQo=');</script>\n",
       "    "
      ],
      "text/plain": [
       "<IPython.core.display.HTML object>"
      ]
     },
     "metadata": {},
     "output_type": "display_data"
    },
    {
     "data": {
      "text/html": [
       "\n",
       "        <div id=\"Xh6UE4b3Lqt4VArxtjLD97\"></div>\n",
       "        <script>netpixi.call('Xh6UE4b3Lqt4VArxtjLD97', 'TzosTQQKafi7kP6xic5Mh6', 'changeGraph', 'eyJpZCI6IDIwMCwgInR5cGUiOiAidmVydGV4IiwgInByb3BzIjogeyJzaXplIjogMTIuNTUyMzAxMjU1MjMwMTI1fX0K');</script>\n",
       "    "
      ],
      "text/plain": [
       "<IPython.core.display.HTML object>"
      ]
     },
     "metadata": {},
     "output_type": "display_data"
    },
    {
     "data": {
      "text/html": [
       "\n",
       "        <div id=\"H9G5kFoAs8caZcyqdV77Mk\"></div>\n",
       "        <script>netpixi.call('H9G5kFoAs8caZcyqdV77Mk', 'TzosTQQKafi7kP6xic5Mh6', 'changeGraph', 'eyJpZCI6IDgyLCAidHlwZSI6ICJ2ZXJ0ZXgiLCAicHJvcHMiOiB7ImNvbG9yIjogMTY3MTE2ODB9fQo=');</script>\n",
       "    "
      ],
      "text/plain": [
       "<IPython.core.display.HTML object>"
      ]
     },
     "metadata": {},
     "output_type": "display_data"
    },
    {
     "data": {
      "text/html": [
       "\n",
       "        <div id=\"aJ8dmZsx58y5JVqz75mTgY\"></div>\n",
       "        <script>netpixi.call('aJ8dmZsx58y5JVqz75mTgY', 'TzosTQQKafi7kP6xic5Mh6', 'changeGraph', 'eyJpZCI6IDIwMSwgInR5cGUiOiAidmVydGV4IiwgInByb3BzIjogeyJzaXplIjogMTYuOTg3NDQ3Njk4NzQ0Nzd9fQo=');</script>\n",
       "    "
      ],
      "text/plain": [
       "<IPython.core.display.HTML object>"
      ]
     },
     "metadata": {},
     "output_type": "display_data"
    },
    {
     "data": {
      "text/html": [
       "\n",
       "        <div id=\"SNabYfZ4hueJAeCfCHd9iQ\"></div>\n",
       "        <script>netpixi.call('SNabYfZ4hueJAeCfCHd9iQ', 'TzosTQQKafi7kP6xic5Mh6', 'changeGraph', 'eyJpZCI6IDc4LCAidHlwZSI6ICJ2ZXJ0ZXgiLCAicHJvcHMiOiB7ImNvbG9yIjogMTY3MTE2ODB9fQo=');</script>\n",
       "    "
      ],
      "text/plain": [
       "<IPython.core.display.HTML object>"
      ]
     },
     "metadata": {},
     "output_type": "display_data"
    },
    {
     "data": {
      "text/html": [
       "\n",
       "        <div id=\"Ahp6UtAa4Jtmr6RoPssvi5\"></div>\n",
       "        <script>netpixi.call('Ahp6UtAa4Jtmr6RoPssvi5', 'TzosTQQKafi7kP6xic5Mh6', 'changeGraph', 'eyJpZCI6IDIwMiwgInR5cGUiOiAidmVydGV4IiwgInByb3BzIjogeyJzaXplIjogNDUuNX19Cg==');</script>\n",
       "    "
      ],
      "text/plain": [
       "<IPython.core.display.HTML object>"
      ]
     },
     "metadata": {},
     "output_type": "display_data"
    },
    {
     "data": {
      "text/html": [
       "\n",
       "        <div id=\"cy4eUQHFT5V2HypeFAs8KS\"></div>\n",
       "        <script>netpixi.call('cy4eUQHFT5V2HypeFAs8KS', 'TzosTQQKafi7kP6xic5Mh6', 'changeGraph', 'eyJpZCI6IDczLCAidHlwZSI6ICJ2ZXJ0ZXgiLCAicHJvcHMiOiB7ImNvbG9yIjogMTY3MTE2ODB9fQo=');</script>\n",
       "    "
      ],
      "text/plain": [
       "<IPython.core.display.HTML object>"
      ]
     },
     "metadata": {},
     "output_type": "display_data"
    },
    {
     "data": {
      "text/html": [
       "\n",
       "        <div id=\"ao5UwE3QQDxWmZkbMWPzdr\"></div>\n",
       "        <script>netpixi.call('ao5UwE3QQDxWmZkbMWPzdr', 'TzosTQQKafi7kP6xic5Mh6', 'changeGraph', 'eyJpZCI6IDIwMywgInR5cGUiOiAidmVydGV4IiwgInByb3BzIjogeyJzaXplIjogMTAuMzc2NTY5MDM3NjU2OTAzfX0K');</script>\n",
       "    "
      ],
      "text/plain": [
       "<IPython.core.display.HTML object>"
      ]
     },
     "metadata": {},
     "output_type": "display_data"
    },
    {
     "data": {
      "text/html": [
       "\n",
       "        <div id=\"3uzPwLsK9kscmUEZRP7AUT\"></div>\n",
       "        <script>netpixi.call('3uzPwLsK9kscmUEZRP7AUT', 'TzosTQQKafi7kP6xic5Mh6', 'changeGraph', 'eyJpZCI6IDc4LCAidHlwZSI6ICJ2ZXJ0ZXgiLCAicHJvcHMiOiB7ImNvbG9yIjogMTY3MTE2ODB9fQo=');</script>\n",
       "    "
      ],
      "text/plain": [
       "<IPython.core.display.HTML object>"
      ]
     },
     "metadata": {},
     "output_type": "display_data"
    },
    {
     "data": {
      "text/html": [
       "\n",
       "        <div id=\"aoZ3Z9foJrekGYqCdibDhU\"></div>\n",
       "        <script>netpixi.call('aoZ3Z9foJrekGYqCdibDhU', 'TzosTQQKafi7kP6xic5Mh6', 'changeGraph', 'eyJpZCI6IDIwNCwgInR5cGUiOiAidmVydGV4IiwgInByb3BzIjogeyJzaXplIjogMTEuMDg3ODY2MTA4Nzg2NjF9fQo=');</script>\n",
       "    "
      ],
      "text/plain": [
       "<IPython.core.display.HTML object>"
      ]
     },
     "metadata": {},
     "output_type": "display_data"
    },
    {
     "data": {
      "text/html": [
       "\n",
       "        <div id=\"VoX5M7Kkqu3zJ345KfPAqU\"></div>\n",
       "        <script>netpixi.call('VoX5M7Kkqu3zJ345KfPAqU', 'TzosTQQKafi7kP6xic5Mh6', 'changeGraph', 'eyJpZCI6IDgxLCAidHlwZSI6ICJ2ZXJ0ZXgiLCAicHJvcHMiOiB7ImNvbG9yIjogMTY3MTE2ODB9fQo=');</script>\n",
       "    "
      ],
      "text/plain": [
       "<IPython.core.display.HTML object>"
      ]
     },
     "metadata": {},
     "output_type": "display_data"
    },
    {
     "data": {
      "text/html": [
       "\n",
       "        <div id=\"8fitFSyddxLTjGjELVAuEG\"></div>\n",
       "        <script>netpixi.call('8fitFSyddxLTjGjELVAuEG', 'TzosTQQKafi7kP6xic5Mh6', 'changeGraph', 'eyJpZCI6IDIwNSwgInR5cGUiOiAidmVydGV4IiwgInByb3BzIjogeyJzaXplIjogMTUuNjkwMzc2NTY5MDM3NjU3fX0K');</script>\n",
       "    "
      ],
      "text/plain": [
       "<IPython.core.display.HTML object>"
      ]
     },
     "metadata": {},
     "output_type": "display_data"
    },
    {
     "data": {
      "text/html": [
       "\n",
       "        <div id=\"Hu5do4XPqdwsEmuArHP5om\"></div>\n",
       "        <script>netpixi.call('Hu5do4XPqdwsEmuArHP5om', 'TzosTQQKafi7kP6xic5Mh6', 'changeGraph', 'eyJpZCI6IDg2LCAidHlwZSI6ICJ2ZXJ0ZXgiLCAicHJvcHMiOiB7ImNvbG9yIjogMTY3MTE2ODB9fQo=');</script>\n",
       "    "
      ],
      "text/plain": [
       "<IPython.core.display.HTML object>"
      ]
     },
     "metadata": {},
     "output_type": "display_data"
    },
    {
     "data": {
      "text/html": [
       "\n",
       "        <div id=\"VpayMdQwWStPLdR74aVswq\"></div>\n",
       "        <script>netpixi.call('VpayMdQwWStPLdR74aVswq', 'TzosTQQKafi7kP6xic5Mh6', 'changeGraph', 'eyJpZCI6IDIwNiwgInR5cGUiOiAidmVydGV4IiwgInByb3BzIjogeyJzaXplIjogMTYuNTI3MTk2NjUyNzE5NjY3fX0K');</script>\n",
       "    "
      ],
      "text/plain": [
       "<IPython.core.display.HTML object>"
      ]
     },
     "metadata": {},
     "output_type": "display_data"
    },
    {
     "data": {
      "text/html": [
       "\n",
       "        <div id=\"4C54hTPSbg3eEJauyFDiAM\"></div>\n",
       "        <script>netpixi.call('4C54hTPSbg3eEJauyFDiAM', 'TzosTQQKafi7kP6xic5Mh6', 'changeGraph', 'eyJpZCI6IDg0LCAidHlwZSI6ICJ2ZXJ0ZXgiLCAicHJvcHMiOiB7ImNvbG9yIjogMTY3MTE2ODB9fQo=');</script>\n",
       "    "
      ],
      "text/plain": [
       "<IPython.core.display.HTML object>"
      ]
     },
     "metadata": {},
     "output_type": "display_data"
    },
    {
     "data": {
      "text/html": [
       "\n",
       "        <div id=\"EVMcRhwPLNhfkfyT3zFGRd\"></div>\n",
       "        <script>netpixi.call('EVMcRhwPLNhfkfyT3zFGRd', 'TzosTQQKafi7kP6xic5Mh6', 'changeGraph', 'eyJpZCI6IDIwNywgInR5cGUiOiAidmVydGV4IiwgInByb3BzIjogeyJzaXplIjogMTUuMzk3NDg5NTM5NzQ4OTUzfX0K');</script>\n",
       "    "
      ],
      "text/plain": [
       "<IPython.core.display.HTML object>"
      ]
     },
     "metadata": {},
     "output_type": "display_data"
    },
    {
     "data": {
      "text/html": [
       "\n",
       "        <div id=\"2uKnn2PriMGg4VCZ2SwLm6\"></div>\n",
       "        <script>netpixi.call('2uKnn2PriMGg4VCZ2SwLm6', 'TzosTQQKafi7kP6xic5Mh6', 'changeGraph', 'eyJpZCI6IDY1LCAidHlwZSI6ICJ2ZXJ0ZXgiLCAicHJvcHMiOiB7ImNvbG9yIjogMTY3MTE2ODB9fQo=');</script>\n",
       "    "
      ],
      "text/plain": [
       "<IPython.core.display.HTML object>"
      ]
     },
     "metadata": {},
     "output_type": "display_data"
    },
    {
     "data": {
      "text/html": [
       "\n",
       "        <div id=\"apTPYGLRmN8frtgStiUtWi\"></div>\n",
       "        <script>netpixi.call('apTPYGLRmN8frtgStiUtWi', 'TzosTQQKafi7kP6xic5Mh6', 'changeGraph', 'eyJpZCI6IDIwOCwgInR5cGUiOiAidmVydGV4IiwgInByb3BzIjogeyJzaXplIjogMTEuNDIyNTk0MTQyMjU5NDEzfX0K');</script>\n",
       "    "
      ],
      "text/plain": [
       "<IPython.core.display.HTML object>"
      ]
     },
     "metadata": {},
     "output_type": "display_data"
    },
    {
     "data": {
      "text/html": [
       "\n",
       "        <div id=\"F8PKPGPczuUUxVn9Dhryx3\"></div>\n",
       "        <script>netpixi.call('F8PKPGPczuUUxVn9Dhryx3', 'TzosTQQKafi7kP6xic5Mh6', 'changeGraph', 'eyJpZCI6IDczLCAidHlwZSI6ICJ2ZXJ0ZXgiLCAicHJvcHMiOiB7ImNvbG9yIjogMTY3MTE2ODB9fQo=');</script>\n",
       "    "
      ],
      "text/plain": [
       "<IPython.core.display.HTML object>"
      ]
     },
     "metadata": {},
     "output_type": "display_data"
    },
    {
     "data": {
      "text/html": [
       "\n",
       "        <div id=\"AwSBkrMqnEFDwziXQMyUui\"></div>\n",
       "        <script>netpixi.call('AwSBkrMqnEFDwziXQMyUui', 'TzosTQQKafi7kP6xic5Mh6', 'changeGraph', 'eyJpZCI6IDIwOSwgInR5cGUiOiAidmVydGV4IiwgInByb3BzIjogeyJzaXplIjogMTIuMzg0OTM3MjM4NDkzNzIzfX0K');</script>\n",
       "    "
      ],
      "text/plain": [
       "<IPython.core.display.HTML object>"
      ]
     },
     "metadata": {},
     "output_type": "display_data"
    },
    {
     "data": {
      "text/html": [
       "\n",
       "        <div id=\"oWDtiFKXXB6B5SPaAaKxPu\"></div>\n",
       "        <script>netpixi.call('oWDtiFKXXB6B5SPaAaKxPu', 'TzosTQQKafi7kP6xic5Mh6', 'changeGraph', 'eyJpZCI6IDcwLCAidHlwZSI6ICJ2ZXJ0ZXgiLCAicHJvcHMiOiB7ImNvbG9yIjogMTY3MTE2ODB9fQo=');</script>\n",
       "    "
      ],
      "text/plain": [
       "<IPython.core.display.HTML object>"
      ]
     },
     "metadata": {},
     "output_type": "display_data"
    },
    {
     "data": {
      "text/html": [
       "\n",
       "        <div id=\"Qbi5V8H3xahStQ4mNouQyQ\"></div>\n",
       "        <script>netpixi.call('Qbi5V8H3xahStQ4mNouQyQ', 'TzosTQQKafi7kP6xic5Mh6', 'changeGraph', 'eyJpZCI6IDIxMCwgInR5cGUiOiAidmVydGV4IiwgInByb3BzIjogeyJzaXplIjogMTguOTEyMTMzODkxMjEzMzg3fX0K');</script>\n",
       "    "
      ],
      "text/plain": [
       "<IPython.core.display.HTML object>"
      ]
     },
     "metadata": {},
     "output_type": "display_data"
    },
    {
     "data": {
      "text/html": [
       "\n",
       "        <div id=\"MWUjYZiviVKAqZPEEPc5b4\"></div>\n",
       "        <script>netpixi.call('MWUjYZiviVKAqZPEEPc5b4', 'TzosTQQKafi7kP6xic5Mh6', 'changeGraph', 'eyJpZCI6IDc0LCAidHlwZSI6ICJ2ZXJ0ZXgiLCAicHJvcHMiOiB7ImNvbG9yIjogMTY3MTE2ODB9fQo=');</script>\n",
       "    "
      ],
      "text/plain": [
       "<IPython.core.display.HTML object>"
      ]
     },
     "metadata": {},
     "output_type": "display_data"
    },
    {
     "data": {
      "text/html": [
       "\n",
       "        <div id=\"JwGkMakEDFyjXHBrKwKyHH\"></div>\n",
       "        <script>netpixi.call('JwGkMakEDFyjXHBrKwKyHH', 'TzosTQQKafi7kP6xic5Mh6', 'changeGraph', 'eyJpZCI6IDIxMSwgInR5cGUiOiAidmVydGV4IiwgInByb3BzIjogeyJzaXplIjogMTMuNDcyODAzMzQ3MjgwMzMzfX0K');</script>\n",
       "    "
      ],
      "text/plain": [
       "<IPython.core.display.HTML object>"
      ]
     },
     "metadata": {},
     "output_type": "display_data"
    },
    {
     "data": {
      "text/html": [
       "\n",
       "        <div id=\"Y3BQDjYE6ecwNvRthgfroF\"></div>\n",
       "        <script>netpixi.call('Y3BQDjYE6ecwNvRthgfroF', 'TzosTQQKafi7kP6xic5Mh6', 'changeGraph', 'eyJpZCI6IDc3LCAidHlwZSI6ICJ2ZXJ0ZXgiLCAicHJvcHMiOiB7ImNvbG9yIjogMTY3MTE2ODB9fQo=');</script>\n",
       "    "
      ],
      "text/plain": [
       "<IPython.core.display.HTML object>"
      ]
     },
     "metadata": {},
     "output_type": "display_data"
    },
    {
     "data": {
      "text/html": [
       "\n",
       "        <div id=\"HuXzPayDsJLaHaNGvXJsLw\"></div>\n",
       "        <script>netpixi.call('HuXzPayDsJLaHaNGvXJsLw', 'TzosTQQKafi7kP6xic5Mh6', 'changeGraph', 'eyJpZCI6IDIxMiwgInR5cGUiOiAidmVydGV4IiwgInByb3BzIjogeyJzaXplIjogMTQuODk1Mzk3NDg5NTM5NzQ4fX0K');</script>\n",
       "    "
      ],
      "text/plain": [
       "<IPython.core.display.HTML object>"
      ]
     },
     "metadata": {},
     "output_type": "display_data"
    },
    {
     "data": {
      "text/html": [
       "\n",
       "        <div id=\"VZn4tTh56fa8BMESUe9g2K\"></div>\n",
       "        <script>netpixi.call('VZn4tTh56fa8BMESUe9g2K', 'TzosTQQKafi7kP6xic5Mh6', 'changeGraph', 'eyJpZCI6IDY3LCAidHlwZSI6ICJ2ZXJ0ZXgiLCAicHJvcHMiOiB7ImNvbG9yIjogMTY3MTE2ODB9fQo=');</script>\n",
       "    "
      ],
      "text/plain": [
       "<IPython.core.display.HTML object>"
      ]
     },
     "metadata": {},
     "output_type": "display_data"
    },
    {
     "data": {
      "text/html": [
       "\n",
       "        <div id=\"goPKkVKzT7Kv8FmJSH7AZQ\"></div>\n",
       "        <script>netpixi.call('goPKkVKzT7Kv8FmJSH7AZQ', 'TzosTQQKafi7kP6xic5Mh6', 'changeGraph', 'eyJpZCI6IDIxMywgInR5cGUiOiAidmVydGV4IiwgInByb3BzIjogeyJzaXplIjogMTAuNzUzMTM4MDc1MzEzODA3fX0K');</script>\n",
       "    "
      ],
      "text/plain": [
       "<IPython.core.display.HTML object>"
      ]
     },
     "metadata": {},
     "output_type": "display_data"
    },
    {
     "data": {
      "text/html": [
       "\n",
       "        <div id=\"89DvvxJQPcZa4GxFaYuUBx\"></div>\n",
       "        <script>netpixi.call('89DvvxJQPcZa4GxFaYuUBx', 'TzosTQQKafi7kP6xic5Mh6', 'changeGraph', 'eyJpZCI6IDc4LCAidHlwZSI6ICJ2ZXJ0ZXgiLCAicHJvcHMiOiB7ImNvbG9yIjogMTY3MTE2ODB9fQo=');</script>\n",
       "    "
      ],
      "text/plain": [
       "<IPython.core.display.HTML object>"
      ]
     },
     "metadata": {},
     "output_type": "display_data"
    },
    {
     "data": {
      "text/html": [
       "\n",
       "        <div id=\"9UEWaJ7iG6mqM9o7XduWTm\"></div>\n",
       "        <script>netpixi.call('9UEWaJ7iG6mqM9o7XduWTm', 'TzosTQQKafi7kP6xic5Mh6', 'changeGraph', 'eyJpZCI6IDIxNCwgInR5cGUiOiAidmVydGV4IiwgInByb3BzIjogeyJzaXplIjogMTYuMzU5ODMyNjM1OTgzMjYzfX0K');</script>\n",
       "    "
      ],
      "text/plain": [
       "<IPython.core.display.HTML object>"
      ]
     },
     "metadata": {},
     "output_type": "display_data"
    },
    {
     "data": {
      "text/html": [
       "\n",
       "        <div id=\"eesYEtVih8zU59Z9oVfBFF\"></div>\n",
       "        <script>netpixi.call('eesYEtVih8zU59Z9oVfBFF', 'TzosTQQKafi7kP6xic5Mh6', 'changeGraph', 'eyJpZCI6IDg0LCAidHlwZSI6ICJ2ZXJ0ZXgiLCAicHJvcHMiOiB7ImNvbG9yIjogMTY3MTE2ODB9fQo=');</script>\n",
       "    "
      ],
      "text/plain": [
       "<IPython.core.display.HTML object>"
      ]
     },
     "metadata": {},
     "output_type": "display_data"
    },
    {
     "data": {
      "text/html": [
       "\n",
       "        <div id=\"9G6mWtnkk2x5ETu9rBRT92\"></div>\n",
       "        <script>netpixi.call('9G6mWtnkk2x5ETu9rBRT92', 'TzosTQQKafi7kP6xic5Mh6', 'changeGraph', 'eyJpZCI6IDIxNSwgInR5cGUiOiAidmVydGV4IiwgInByb3BzIjogeyJzaXplIjogMTcuODI0MjY3NzgyNDI2Nzh9fQo=');</script>\n",
       "    "
      ],
      "text/plain": [
       "<IPython.core.display.HTML object>"
      ]
     },
     "metadata": {},
     "output_type": "display_data"
    },
    {
     "data": {
      "text/html": [
       "\n",
       "        <div id=\"WE85RRScFrvcBfEZC4Dkp7\"></div>\n",
       "        <script>netpixi.call('WE85RRScFrvcBfEZC4Dkp7', 'TzosTQQKafi7kP6xic5Mh6', 'changeGraph', 'eyJpZCI6IDc1LCAidHlwZSI6ICJ2ZXJ0ZXgiLCAicHJvcHMiOiB7ImNvbG9yIjogMTY3MTE2ODB9fQo=');</script>\n",
       "    "
      ],
      "text/plain": [
       "<IPython.core.display.HTML object>"
      ]
     },
     "metadata": {},
     "output_type": "display_data"
    },
    {
     "data": {
      "text/html": [
       "\n",
       "        <div id=\"G63woZF4Li6wPBWarXYMU6\"></div>\n",
       "        <script>netpixi.call('G63woZF4Li6wPBWarXYMU6', 'TzosTQQKafi7kP6xic5Mh6', 'changeGraph', 'eyJpZCI6IDIxNiwgInR5cGUiOiAidmVydGV4IiwgInByb3BzIjogeyJzaXplIjogMTQuOTM3MjM4NDkzNzIzODV9fQo=');</script>\n",
       "    "
      ],
      "text/plain": [
       "<IPython.core.display.HTML object>"
      ]
     },
     "metadata": {},
     "output_type": "display_data"
    },
    {
     "data": {
      "text/html": [
       "\n",
       "        <div id=\"QE7NFrcMFfDNUNgAgP26Z8\"></div>\n",
       "        <script>netpixi.call('QE7NFrcMFfDNUNgAgP26Z8', 'TzosTQQKafi7kP6xic5Mh6', 'changeGraph', 'eyJpZCI6IDczLCAidHlwZSI6ICJ2ZXJ0ZXgiLCAicHJvcHMiOiB7ImNvbG9yIjogMTY3MTE2ODB9fQo=');</script>\n",
       "    "
      ],
      "text/plain": [
       "<IPython.core.display.HTML object>"
      ]
     },
     "metadata": {},
     "output_type": "display_data"
    },
    {
     "data": {
      "text/html": [
       "\n",
       "        <div id=\"TtuWejzbfjFeSy3mepmTVH\"></div>\n",
       "        <script>netpixi.call('TtuWejzbfjFeSy3mepmTVH', 'TzosTQQKafi7kP6xic5Mh6', 'changeGraph', 'eyJpZCI6IDIxNywgInR5cGUiOiAidmVydGV4IiwgInByb3BzIjogeyJzaXplIjogMTcuMzY0MDE2NzM2NDAxNjczfX0K');</script>\n",
       "    "
      ],
      "text/plain": [
       "<IPython.core.display.HTML object>"
      ]
     },
     "metadata": {},
     "output_type": "display_data"
    },
    {
     "data": {
      "text/html": [
       "\n",
       "        <div id=\"iT8Am5Dppv8drpHHbmue9U\"></div>\n",
       "        <script>netpixi.call('iT8Am5Dppv8drpHHbmue9U', 'TzosTQQKafi7kP6xic5Mh6', 'changeGraph', 'eyJpZCI6IDg0LCAidHlwZSI6ICJ2ZXJ0ZXgiLCAicHJvcHMiOiB7ImNvbG9yIjogMTY3MTE2ODB9fQo=');</script>\n",
       "    "
      ],
      "text/plain": [
       "<IPython.core.display.HTML object>"
      ]
     },
     "metadata": {},
     "output_type": "display_data"
    },
    {
     "data": {
      "text/html": [
       "\n",
       "        <div id=\"V7eYLsh3KBhN78Zf8chKt9\"></div>\n",
       "        <script>netpixi.call('V7eYLsh3KBhN78Zf8chKt9', 'TzosTQQKafi7kP6xic5Mh6', 'changeGraph', 'eyJpZCI6IDIxOCwgInR5cGUiOiAidmVydGV4IiwgInByb3BzIjogeyJzaXplIjogMTcuNTMxMzgwNzUzMTM4MDczfX0K');</script>\n",
       "    "
      ],
      "text/plain": [
       "<IPython.core.display.HTML object>"
      ]
     },
     "metadata": {},
     "output_type": "display_data"
    },
    {
     "data": {
      "text/html": [
       "\n",
       "        <div id=\"mdtkQKup7mDxmzSn8uzuUZ\"></div>\n",
       "        <script>netpixi.call('mdtkQKup7mDxmzSn8uzuUZ', 'TzosTQQKafi7kP6xic5Mh6', 'changeGraph', 'eyJpZCI6IDcyLCAidHlwZSI6ICJ2ZXJ0ZXgiLCAicHJvcHMiOiB7ImNvbG9yIjogMTY3MTE2ODB9fQo=');</script>\n",
       "    "
      ],
      "text/plain": [
       "<IPython.core.display.HTML object>"
      ]
     },
     "metadata": {},
     "output_type": "display_data"
    },
    {
     "data": {
      "text/html": [
       "\n",
       "        <div id=\"VsAbB97dSWbMKg8iguffaZ\"></div>\n",
       "        <script>netpixi.call('VsAbB97dSWbMKg8iguffaZ', 'TzosTQQKafi7kP6xic5Mh6', 'changeGraph', 'eyJpZCI6IDIxOSwgInR5cGUiOiAidmVydGV4IiwgInByb3BzIjogeyJzaXplIjogMTcuNjU2OTAzNzY1NjkwMzc3fX0K');</script>\n",
       "    "
      ],
      "text/plain": [
       "<IPython.core.display.HTML object>"
      ]
     },
     "metadata": {},
     "output_type": "display_data"
    },
    {
     "data": {
      "text/html": [
       "\n",
       "        <div id=\"gztdxWBgSChS5qtRDSdjHV\"></div>\n",
       "        <script>netpixi.call('gztdxWBgSChS5qtRDSdjHV', 'TzosTQQKafi7kP6xic5Mh6', 'changeGraph', 'eyJpZCI6IDg2LCAidHlwZSI6ICJ2ZXJ0ZXgiLCAicHJvcHMiOiB7ImNvbG9yIjogMTY3MTE2ODB9fQo=');</script>\n",
       "    "
      ],
      "text/plain": [
       "<IPython.core.display.HTML object>"
      ]
     },
     "metadata": {},
     "output_type": "display_data"
    },
    {
     "data": {
      "text/html": [
       "\n",
       "        <div id=\"6cMedphYJpg7LuQb56STLM\"></div>\n",
       "        <script>netpixi.call('6cMedphYJpg7LuQb56STLM', 'TzosTQQKafi7kP6xic5Mh6', 'changeGraph', 'eyJpZCI6IDIyMCwgInR5cGUiOiAidmVydGV4IiwgInByb3BzIjogeyJzaXplIjogMTkuODc0NDc2OTg3NDQ3N319Cg==');</script>\n",
       "    "
      ],
      "text/plain": [
       "<IPython.core.display.HTML object>"
      ]
     },
     "metadata": {},
     "output_type": "display_data"
    },
    {
     "data": {
      "text/html": [
       "\n",
       "        <div id=\"GV2st5KdQqkn6Uf3CkH5eu\"></div>\n",
       "        <script>netpixi.call('GV2st5KdQqkn6Uf3CkH5eu', 'TzosTQQKafi7kP6xic5Mh6', 'changeGraph', 'eyJpZCI6IDc2LCAidHlwZSI6ICJ2ZXJ0ZXgiLCAicHJvcHMiOiB7ImNvbG9yIjogMTY3MTE2ODB9fQo=');</script>\n",
       "    "
      ],
      "text/plain": [
       "<IPython.core.display.HTML object>"
      ]
     },
     "metadata": {},
     "output_type": "display_data"
    },
    {
     "data": {
      "text/html": [
       "\n",
       "        <div id=\"2XF3KWJHXB6xqHQSAYVv75\"></div>\n",
       "        <script>netpixi.call('2XF3KWJHXB6xqHQSAYVv75', 'TzosTQQKafi7kP6xic5Mh6', 'changeGraph', 'eyJpZCI6IDIyMSwgInR5cGUiOiAidmVydGV4IiwgInByb3BzIjogeyJzaXplIjogNDguMH19Cg==');</script>\n",
       "    "
      ],
      "text/plain": [
       "<IPython.core.display.HTML object>"
      ]
     },
     "metadata": {},
     "output_type": "display_data"
    },
    {
     "data": {
      "text/html": [
       "\n",
       "        <div id=\"gGBbB4QojbZwBphQrLgVsJ\"></div>\n",
       "        <script>netpixi.call('gGBbB4QojbZwBphQrLgVsJ', 'TzosTQQKafi7kP6xic5Mh6', 'changeGraph', 'eyJpZCI6IDc2LCAidHlwZSI6ICJ2ZXJ0ZXgiLCAicHJvcHMiOiB7ImNvbG9yIjogMTY3MTE2ODB9fQo=');</script>\n",
       "    "
      ],
      "text/plain": [
       "<IPython.core.display.HTML object>"
      ]
     },
     "metadata": {},
     "output_type": "display_data"
    },
    {
     "data": {
      "text/html": [
       "\n",
       "        <div id=\"Yb77YDMtpERR2YXoNVjx8H\"></div>\n",
       "        <script>netpixi.call('Yb77YDMtpERR2YXoNVjx8H', 'TzosTQQKafi7kP6xic5Mh6', 'changeGraph', 'eyJpZCI6IDIyMiwgInR5cGUiOiAidmVydGV4IiwgInByb3BzIjogeyJzaXplIjogMTUuNTIzMDEyNTUyMzAxMjU1fX0K');</script>\n",
       "    "
      ],
      "text/plain": [
       "<IPython.core.display.HTML object>"
      ]
     },
     "metadata": {},
     "output_type": "display_data"
    },
    {
     "data": {
      "text/html": [
       "\n",
       "        <div id=\"kmbFSyp82hwB6jKZyttk3j\"></div>\n",
       "        <script>netpixi.call('kmbFSyp82hwB6jKZyttk3j', 'TzosTQQKafi7kP6xic5Mh6', 'changeGraph', 'eyJpZCI6IDc5LCAidHlwZSI6ICJ2ZXJ0ZXgiLCAicHJvcHMiOiB7ImNvbG9yIjogMTY3MTE2ODB9fQo=');</script>\n",
       "    "
      ],
      "text/plain": [
       "<IPython.core.display.HTML object>"
      ]
     },
     "metadata": {},
     "output_type": "display_data"
    },
    {
     "data": {
      "text/html": [
       "\n",
       "        <div id=\"oJ3k66BkeG4pSUx86A9khn\"></div>\n",
       "        <script>netpixi.call('oJ3k66BkeG4pSUx86A9khn', 'TzosTQQKafi7kP6xic5Mh6', 'changeGraph', 'eyJpZCI6IDIyMywgInR5cGUiOiAidmVydGV4IiwgInByb3BzIjogeyJzaXplIjogMTkuNzA3MTEyOTcwNzExMjk3fX0K');</script>\n",
       "    "
      ],
      "text/plain": [
       "<IPython.core.display.HTML object>"
      ]
     },
     "metadata": {},
     "output_type": "display_data"
    },
    {
     "data": {
      "text/html": [
       "\n",
       "        <div id=\"J9k4TD9KKhkBxmijvr8NHo\"></div>\n",
       "        <script>netpixi.call('J9k4TD9KKhkBxmijvr8NHo', 'TzosTQQKafi7kP6xic5Mh6', 'changeGraph', 'eyJpZCI6IDcwLCAidHlwZSI6ICJ2ZXJ0ZXgiLCAicHJvcHMiOiB7ImNvbG9yIjogMTY3MTE2ODB9fQo=');</script>\n",
       "    "
      ],
      "text/plain": [
       "<IPython.core.display.HTML object>"
      ]
     },
     "metadata": {},
     "output_type": "display_data"
    },
    {
     "data": {
      "text/html": [
       "\n",
       "        <div id=\"Hiu4nJnV6vuaTPSVRHbTw4\"></div>\n",
       "        <script>netpixi.call('Hiu4nJnV6vuaTPSVRHbTw4', 'TzosTQQKafi7kP6xic5Mh6', 'changeGraph', 'eyJpZCI6IDIyNCwgInR5cGUiOiAidmVydGV4IiwgInByb3BzIjogeyJzaXplIjogMTYuNjEwODc4NjYxMDg3ODY3fX0K');</script>\n",
       "    "
      ],
      "text/plain": [
       "<IPython.core.display.HTML object>"
      ]
     },
     "metadata": {},
     "output_type": "display_data"
    },
    {
     "data": {
      "text/html": [
       "\n",
       "        <div id=\"EZ4D3Ch9JBqaMr7h3h8kXE\"></div>\n",
       "        <script>netpixi.call('EZ4D3Ch9JBqaMr7h3h8kXE', 'TzosTQQKafi7kP6xic5Mh6', 'changeGraph', 'eyJpZCI6IDgxLCAidHlwZSI6ICJ2ZXJ0ZXgiLCAicHJvcHMiOiB7ImNvbG9yIjogMTY3MTE2ODB9fQo=');</script>\n",
       "    "
      ],
      "text/plain": [
       "<IPython.core.display.HTML object>"
      ]
     },
     "metadata": {},
     "output_type": "display_data"
    },
    {
     "data": {
      "text/html": [
       "\n",
       "        <div id=\"3svM83AJkyMzbdDL4iPYQJ\"></div>\n",
       "        <script>netpixi.call('3svM83AJkyMzbdDL4iPYQJ', 'TzosTQQKafi7kP6xic5Mh6', 'changeGraph', 'eyJpZCI6IDIyNSwgInR5cGUiOiAidmVydGV4IiwgInByb3BzIjogeyJzaXplIjogMTUuMzEzODA3NTMxMzgwNzUzfX0K');</script>\n",
       "    "
      ],
      "text/plain": [
       "<IPython.core.display.HTML object>"
      ]
     },
     "metadata": {},
     "output_type": "display_data"
    },
    {
     "data": {
      "text/html": [
       "\n",
       "        <div id=\"85undExPNj5vHnFgBQYpgi\"></div>\n",
       "        <script>netpixi.call('85undExPNj5vHnFgBQYpgi', 'TzosTQQKafi7kP6xic5Mh6', 'changeGraph', 'eyJpZCI6IDgzLCAidHlwZSI6ICJ2ZXJ0ZXgiLCAicHJvcHMiOiB7ImNvbG9yIjogMTY3MTE2ODB9fQo=');</script>\n",
       "    "
      ],
      "text/plain": [
       "<IPython.core.display.HTML object>"
      ]
     },
     "metadata": {},
     "output_type": "display_data"
    },
    {
     "data": {
      "text/html": [
       "\n",
       "        <div id=\"6yHj3Va3h4rgi5gGNQ6qws\"></div>\n",
       "        <script>netpixi.call('6yHj3Va3h4rgi5gGNQ6qws', 'TzosTQQKafi7kP6xic5Mh6', 'changeGraph', 'eyJpZCI6IDIyNiwgInR5cGUiOiAidmVydGV4IiwgInByb3BzIjogeyJzaXplIjogNDcuNX19Cg==');</script>\n",
       "    "
      ],
      "text/plain": [
       "<IPython.core.display.HTML object>"
      ]
     },
     "metadata": {},
     "output_type": "display_data"
    },
    {
     "data": {
      "text/html": [
       "\n",
       "        <div id=\"66xqLgDqJQL32T3EctRMRT\"></div>\n",
       "        <script>netpixi.call('66xqLgDqJQL32T3EctRMRT', 'TzosTQQKafi7kP6xic5Mh6', 'changeGraph', 'eyJpZCI6IDc0LCAidHlwZSI6ICJ2ZXJ0ZXgiLCAicHJvcHMiOiB7ImNvbG9yIjogMTY3MTE2ODB9fQo=');</script>\n",
       "    "
      ],
      "text/plain": [
       "<IPython.core.display.HTML object>"
      ]
     },
     "metadata": {},
     "output_type": "display_data"
    },
    {
     "data": {
      "text/html": [
       "\n",
       "        <div id=\"WTGJJPiESUCESRmJtVMiQN\"></div>\n",
       "        <script>netpixi.call('WTGJJPiESUCESRmJtVMiQN', 'TzosTQQKafi7kP6xic5Mh6', 'changeGraph', 'eyJpZCI6IDIyNywgInR5cGUiOiAidmVydGV4IiwgInByb3BzIjogeyJzaXplIjogMTIuMzQzMDk2MjM0MzA5NjIzfX0K');</script>\n",
       "    "
      ],
      "text/plain": [
       "<IPython.core.display.HTML object>"
      ]
     },
     "metadata": {},
     "output_type": "display_data"
    },
    {
     "data": {
      "text/html": [
       "\n",
       "        <div id=\"cV3KTbfWGL87t5Lm9KZ87h\"></div>\n",
       "        <script>netpixi.call('cV3KTbfWGL87t5Lm9KZ87h', 'TzosTQQKafi7kP6xic5Mh6', 'changeGraph', 'eyJpZCI6IDgxLCAidHlwZSI6ICJ2ZXJ0ZXgiLCAicHJvcHMiOiB7ImNvbG9yIjogMTY3MTE2ODB9fQo=');</script>\n",
       "    "
      ],
      "text/plain": [
       "<IPython.core.display.HTML object>"
      ]
     },
     "metadata": {},
     "output_type": "display_data"
    },
    {
     "data": {
      "text/html": [
       "\n",
       "        <div id=\"59PT65RNhZL3mpUesDZqgu\"></div>\n",
       "        <script>netpixi.call('59PT65RNhZL3mpUesDZqgu', 'TzosTQQKafi7kP6xic5Mh6', 'changeGraph', 'eyJpZCI6IDIyOCwgInR5cGUiOiAidmVydGV4IiwgInByb3BzIjogeyJzaXplIjogMTAuNTAyMDkyMDUwMjA5MjA1fX0K');</script>\n",
       "    "
      ],
      "text/plain": [
       "<IPython.core.display.HTML object>"
      ]
     },
     "metadata": {},
     "output_type": "display_data"
    },
    {
     "data": {
      "text/html": [
       "\n",
       "        <div id=\"7B36wRwgDZ78rqGhjof7hf\"></div>\n",
       "        <script>netpixi.call('7B36wRwgDZ78rqGhjof7hf', 'TzosTQQKafi7kP6xic5Mh6', 'changeGraph', 'eyJpZCI6IDgxLCAidHlwZSI6ICJ2ZXJ0ZXgiLCAicHJvcHMiOiB7ImNvbG9yIjogMTY3MTE2ODB9fQo=');</script>\n",
       "    "
      ],
      "text/plain": [
       "<IPython.core.display.HTML object>"
      ]
     },
     "metadata": {},
     "output_type": "display_data"
    },
    {
     "data": {
      "text/html": [
       "\n",
       "        <div id=\"9a5x9q7zYVjAwK6kXmypt3\"></div>\n",
       "        <script>netpixi.call('9a5x9q7zYVjAwK6kXmypt3', 'TzosTQQKafi7kP6xic5Mh6', 'changeGraph', 'eyJpZCI6IDIyOSwgInR5cGUiOiAidmVydGV4IiwgInByb3BzIjogeyJzaXplIjogMTUuNzMyMjE3NTczMjIxNzU3fX0K');</script>\n",
       "    "
      ],
      "text/plain": [
       "<IPython.core.display.HTML object>"
      ]
     },
     "metadata": {},
     "output_type": "display_data"
    },
    {
     "data": {
      "text/html": [
       "\n",
       "        <div id=\"5EKEsKbsCreSgpLiTWs4fg\"></div>\n",
       "        <script>netpixi.call('5EKEsKbsCreSgpLiTWs4fg', 'TzosTQQKafi7kP6xic5Mh6', 'changeGraph', 'eyJpZCI6IDc2LCAidHlwZSI6ICJ2ZXJ0ZXgiLCAicHJvcHMiOiB7ImNvbG9yIjogMTY3MTE2ODB9fQo=');</script>\n",
       "    "
      ],
      "text/plain": [
       "<IPython.core.display.HTML object>"
      ]
     },
     "metadata": {},
     "output_type": "display_data"
    },
    {
     "data": {
      "text/html": [
       "\n",
       "        <div id=\"4hR4pyXdSqK38GNKbWcULq\"></div>\n",
       "        <script>netpixi.call('4hR4pyXdSqK38GNKbWcULq', 'TzosTQQKafi7kP6xic5Mh6', 'changeGraph', 'eyJpZCI6IDIzMCwgInR5cGUiOiAidmVydGV4IiwgInByb3BzIjogeyJzaXplIjogMTguNTc3NDA1ODU3NzQwNTg3fX0K');</script>\n",
       "    "
      ],
      "text/plain": [
       "<IPython.core.display.HTML object>"
      ]
     },
     "metadata": {},
     "output_type": "display_data"
    },
    {
     "data": {
      "text/html": [
       "\n",
       "        <div id=\"UfYfTk4SbBNEzj3gVbpguw\"></div>\n",
       "        <script>netpixi.call('UfYfTk4SbBNEzj3gVbpguw', 'TzosTQQKafi7kP6xic5Mh6', 'changeGraph', 'eyJpZCI6IDg0LCAidHlwZSI6ICJ2ZXJ0ZXgiLCAicHJvcHMiOiB7ImNvbG9yIjogMTY3MTE2ODB9fQo=');</script>\n",
       "    "
      ],
      "text/plain": [
       "<IPython.core.display.HTML object>"
      ]
     },
     "metadata": {},
     "output_type": "display_data"
    },
    {
     "data": {
      "text/html": [
       "\n",
       "        <div id=\"HK7cv5BK98Vhq7Svizj8MW\"></div>\n",
       "        <script>netpixi.call('HK7cv5BK98Vhq7Svizj8MW', 'TzosTQQKafi7kP6xic5Mh6', 'changeGraph', 'eyJpZCI6IDIzMSwgInR5cGUiOiAidmVydGV4IiwgInByb3BzIjogeyJzaXplIjogMTAuNjI3NjE1MDYyNzYxNTA3fX0K');</script>\n",
       "    "
      ],
      "text/plain": [
       "<IPython.core.display.HTML object>"
      ]
     },
     "metadata": {},
     "output_type": "display_data"
    },
    {
     "data": {
      "text/html": [
       "\n",
       "        <div id=\"Jb5EPt2mRW3P5sXKrvAMbk\"></div>\n",
       "        <script>netpixi.call('Jb5EPt2mRW3P5sXKrvAMbk', 'TzosTQQKafi7kP6xic5Mh6', 'changeGraph', 'eyJpZCI6IDcwLCAidHlwZSI6ICJ2ZXJ0ZXgiLCAicHJvcHMiOiB7ImNvbG9yIjogMTY3MTE2ODB9fQo=');</script>\n",
       "    "
      ],
      "text/plain": [
       "<IPython.core.display.HTML object>"
      ]
     },
     "metadata": {},
     "output_type": "display_data"
    },
    {
     "data": {
      "text/html": [
       "\n",
       "        <div id=\"dezAEUu2SjeoF2fmd8g8PX\"></div>\n",
       "        <script>netpixi.call('dezAEUu2SjeoF2fmd8g8PX', 'TzosTQQKafi7kP6xic5Mh6', 'changeGraph', 'eyJpZCI6IDIzMiwgInR5cGUiOiAidmVydGV4IiwgInByb3BzIjogeyJzaXplIjogMTcuMTU0ODExNzE1NDgxMTd9fQo=');</script>\n",
       "    "
      ],
      "text/plain": [
       "<IPython.core.display.HTML object>"
      ]
     },
     "metadata": {},
     "output_type": "display_data"
    },
    {
     "data": {
      "text/html": [
       "\n",
       "        <div id=\"XQUpfC6i5DjckpBDH6rSfX\"></div>\n",
       "        <script>netpixi.call('XQUpfC6i5DjckpBDH6rSfX', 'TzosTQQKafi7kP6xic5Mh6', 'changeGraph', 'eyJpZCI6IDc1LCAidHlwZSI6ICJ2ZXJ0ZXgiLCAicHJvcHMiOiB7ImNvbG9yIjogMTY3MTE2ODB9fQo=');</script>\n",
       "    "
      ],
      "text/plain": [
       "<IPython.core.display.HTML object>"
      ]
     },
     "metadata": {},
     "output_type": "display_data"
    },
    {
     "data": {
      "text/html": [
       "\n",
       "        <div id=\"jhJTTSncnd3Ggq94v6Dq4x\"></div>\n",
       "        <script>netpixi.call('jhJTTSncnd3Ggq94v6Dq4x', 'TzosTQQKafi7kP6xic5Mh6', 'changeGraph', 'eyJpZCI6IDIzMywgInR5cGUiOiAidmVydGV4IiwgInByb3BzIjogeyJzaXplIjogNDAuMzMzMzMzMzMzMzMzMzN9fQo=');</script>\n",
       "    "
      ],
      "text/plain": [
       "<IPython.core.display.HTML object>"
      ]
     },
     "metadata": {},
     "output_type": "display_data"
    },
    {
     "data": {
      "text/html": [
       "\n",
       "        <div id=\"Zoy2hkXou8AzoibSViei8g\"></div>\n",
       "        <script>netpixi.call('Zoy2hkXou8AzoibSViei8g', 'TzosTQQKafi7kP6xic5Mh6', 'changeGraph', 'eyJpZCI6IDc4LCAidHlwZSI6ICJ2ZXJ0ZXgiLCAicHJvcHMiOiB7ImNvbG9yIjogMTY3MTE2ODB9fQo=');</script>\n",
       "    "
      ],
      "text/plain": [
       "<IPython.core.display.HTML object>"
      ]
     },
     "metadata": {},
     "output_type": "display_data"
    },
    {
     "data": {
      "text/html": [
       "\n",
       "        <div id=\"UPf6ADds8HwhT8pDavuj2F\"></div>\n",
       "        <script>netpixi.call('UPf6ADds8HwhT8pDavuj2F', 'TzosTQQKafi7kP6xic5Mh6', 'changeGraph', 'eyJpZCI6IDIzNCwgInR5cGUiOiAidmVydGV4IiwgInByb3BzIjogeyJzaXplIjogNDguNX19Cg==');</script>\n",
       "    "
      ],
      "text/plain": [
       "<IPython.core.display.HTML object>"
      ]
     },
     "metadata": {},
     "output_type": "display_data"
    },
    {
     "data": {
      "text/html": [
       "\n",
       "        <div id=\"jbymCT7vudpA43zVD6UEjP\"></div>\n",
       "        <script>netpixi.call('jbymCT7vudpA43zVD6UEjP', 'TzosTQQKafi7kP6xic5Mh6', 'changeGraph', 'eyJpZCI6IDgwLCAidHlwZSI6ICJ2ZXJ0ZXgiLCAicHJvcHMiOiB7ImNvbG9yIjogMTY3MTE2ODB9fQo=');</script>\n",
       "    "
      ],
      "text/plain": [
       "<IPython.core.display.HTML object>"
      ]
     },
     "metadata": {},
     "output_type": "display_data"
    },
    {
     "data": {
      "text/html": [
       "\n",
       "        <div id=\"Fb4EpPPPW6aSHrQPuQDqrU\"></div>\n",
       "        <script>netpixi.call('Fb4EpPPPW6aSHrQPuQDqrU', 'TzosTQQKafi7kP6xic5Mh6', 'changeGraph', 'eyJpZCI6IDIzNSwgInR5cGUiOiAidmVydGV4IiwgInByb3BzIjogeyJzaXplIjogMTEuNjMxNzk5MTYzMTc5OTE3fX0K');</script>\n",
       "    "
      ],
      "text/plain": [
       "<IPython.core.display.HTML object>"
      ]
     },
     "metadata": {},
     "output_type": "display_data"
    },
    {
     "data": {
      "text/html": [
       "\n",
       "        <div id=\"723K8fKKqkDV5m594cdAKF\"></div>\n",
       "        <script>netpixi.call('723K8fKKqkDV5m594cdAKF', 'TzosTQQKafi7kP6xic5Mh6', 'changeGraph', 'eyJpZCI6IDgyLCAidHlwZSI6ICJ2ZXJ0ZXgiLCAicHJvcHMiOiB7ImNvbG9yIjogMTY3MTE2ODB9fQo=');</script>\n",
       "    "
      ],
      "text/plain": [
       "<IPython.core.display.HTML object>"
      ]
     },
     "metadata": {},
     "output_type": "display_data"
    },
    {
     "data": {
      "text/html": [
       "\n",
       "        <div id=\"aPbLASJ6eUh2J6CVUzvHv4\"></div>\n",
       "        <script>netpixi.call('aPbLASJ6eUh2J6CVUzvHv4', 'TzosTQQKafi7kP6xic5Mh6', 'changeGraph', 'eyJpZCI6IDIzNiwgInR5cGUiOiAidmVydGV4IiwgInByb3BzIjogeyJzaXplIjogMTUuODU3NzQwNTg1Nzc0MDU4fX0K');</script>\n",
       "    "
      ],
      "text/plain": [
       "<IPython.core.display.HTML object>"
      ]
     },
     "metadata": {},
     "output_type": "display_data"
    },
    {
     "data": {
      "text/html": [
       "\n",
       "        <div id=\"YnDRi5e55MLqpo8Nqw37Vb\"></div>\n",
       "        <script>netpixi.call('YnDRi5e55MLqpo8Nqw37Vb', 'TzosTQQKafi7kP6xic5Mh6', 'changeGraph', 'eyJpZCI6IDgwLCAidHlwZSI6ICJ2ZXJ0ZXgiLCAicHJvcHMiOiB7ImNvbG9yIjogMTY3MTE2ODB9fQo=');</script>\n",
       "    "
      ],
      "text/plain": [
       "<IPython.core.display.HTML object>"
      ]
     },
     "metadata": {},
     "output_type": "display_data"
    },
    {
     "data": {
      "text/html": [
       "\n",
       "        <div id=\"RMCrCd8DNyb8LjrL4P35cF\"></div>\n",
       "        <script>netpixi.call('RMCrCd8DNyb8LjrL4P35cF', 'TzosTQQKafi7kP6xic5Mh6', 'changeGraph', 'eyJpZCI6IDIzNywgInR5cGUiOiAidmVydGV4IiwgInByb3BzIjogeyJzaXplIjogMTYuODIwMDgzNjgyMDA4MzY3fX0K');</script>\n",
       "    "
      ],
      "text/plain": [
       "<IPython.core.display.HTML object>"
      ]
     },
     "metadata": {},
     "output_type": "display_data"
    },
    {
     "data": {
      "text/html": [
       "\n",
       "        <div id=\"nJdd5fe3tGLjtnCvQiymwd\"></div>\n",
       "        <script>netpixi.call('nJdd5fe3tGLjtnCvQiymwd', 'TzosTQQKafi7kP6xic5Mh6', 'changeGraph', 'eyJpZCI6IDcyLCAidHlwZSI6ICJ2ZXJ0ZXgiLCAicHJvcHMiOiB7ImNvbG9yIjogMTY3MTE2ODB9fQo=');</script>\n",
       "    "
      ],
      "text/plain": [
       "<IPython.core.display.HTML object>"
      ]
     },
     "metadata": {},
     "output_type": "display_data"
    },
    {
     "data": {
      "text/html": [
       "\n",
       "        <div id=\"aqN8Wbj9QNX6pXNi8dM2M4\"></div>\n",
       "        <script>netpixi.call('aqN8Wbj9QNX6pXNi8dM2M4', 'TzosTQQKafi7kP6xic5Mh6', 'changeGraph', 'eyJpZCI6IDIzOCwgInR5cGUiOiAidmVydGV4IiwgInByb3BzIjogeyJzaXplIjogMTMuNTU2NDg1MzU1NjQ4NTM1fX0K');</script>\n",
       "    "
      ],
      "text/plain": [
       "<IPython.core.display.HTML object>"
      ]
     },
     "metadata": {},
     "output_type": "display_data"
    },
    {
     "data": {
      "text/html": [
       "\n",
       "        <div id=\"Agwdiue6JsiiunoyT5ePCv\"></div>\n",
       "        <script>netpixi.call('Agwdiue6JsiiunoyT5ePCv', 'TzosTQQKafi7kP6xic5Mh6', 'changeGraph', 'eyJpZCI6IDg3LCAidHlwZSI6ICJ2ZXJ0ZXgiLCAicHJvcHMiOiB7ImNvbG9yIjogMTY3MTE2ODB9fQo=');</script>\n",
       "    "
      ],
      "text/plain": [
       "<IPython.core.display.HTML object>"
      ]
     },
     "metadata": {},
     "output_type": "display_data"
    },
    {
     "data": {
      "text/html": [
       "\n",
       "        <div id=\"hCxFFHbUhnvEprZNZN5BFd\"></div>\n",
       "        <script>netpixi.call('hCxFFHbUhnvEprZNZN5BFd', 'TzosTQQKafi7kP6xic5Mh6', 'changeGraph', 'eyJpZCI6IDIzOSwgInR5cGUiOiAidmVydGV4IiwgInByb3BzIjogeyJzaXplIjogNDMuNX19Cg==');</script>\n",
       "    "
      ],
      "text/plain": [
       "<IPython.core.display.HTML object>"
      ]
     },
     "metadata": {},
     "output_type": "display_data"
    },
    {
     "data": {
      "text/html": [
       "\n",
       "        <div id=\"8EnSPyKvqkqLsjbzXEfiob\"></div>\n",
       "        <script>netpixi.call('8EnSPyKvqkqLsjbzXEfiob', 'TzosTQQKafi7kP6xic5Mh6', 'changeGraph', 'eyJpZCI6IDcwLCAidHlwZSI6ICJ2ZXJ0ZXgiLCAicHJvcHMiOiB7ImNvbG9yIjogMTY3MTE2ODB9fQo=');</script>\n",
       "    "
      ],
      "text/plain": [
       "<IPython.core.display.HTML object>"
      ]
     },
     "metadata": {},
     "output_type": "display_data"
    },
    {
     "data": {
      "text/html": [
       "\n",
       "        <div id=\"4WmqMh4AaTQb786ScPrY28\"></div>\n",
       "        <script>netpixi.call('4WmqMh4AaTQb786ScPrY28', 'TzosTQQKafi7kP6xic5Mh6', 'changeGraph', 'eyJpZCI6IDI0MCwgInR5cGUiOiAidmVydGV4IiwgInByb3BzIjogeyJzaXplIjogMTAuNDE4NDEwMDQxODQxMDAzfX0K');</script>\n",
       "    "
      ],
      "text/plain": [
       "<IPython.core.display.HTML object>"
      ]
     },
     "metadata": {},
     "output_type": "display_data"
    },
    {
     "data": {
      "text/html": [
       "\n",
       "        <div id=\"GvzZyXBhJv5eYjhA4B8mpq\"></div>\n",
       "        <script>netpixi.call('GvzZyXBhJv5eYjhA4B8mpq', 'TzosTQQKafi7kP6xic5Mh6', 'changeGraph', 'eyJpZCI6IDgyLCAidHlwZSI6ICJ2ZXJ0ZXgiLCAicHJvcHMiOiB7ImNvbG9yIjogMTY3MTE2ODB9fQo=');</script>\n",
       "    "
      ],
      "text/plain": [
       "<IPython.core.display.HTML object>"
      ]
     },
     "metadata": {},
     "output_type": "display_data"
    },
    {
     "data": {
      "text/html": [
       "\n",
       "        <div id=\"jzTQMgsBH86auMpJnXnDMo\"></div>\n",
       "        <script>netpixi.call('jzTQMgsBH86auMpJnXnDMo', 'TzosTQQKafi7kP6xic5Mh6', 'changeGraph', 'eyJpZCI6IDI0MSwgInR5cGUiOiAidmVydGV4IiwgInByb3BzIjogeyJzaXplIjogMTUuODE1ODk5NTgxNTg5OTU3fX0K');</script>\n",
       "    "
      ],
      "text/plain": [
       "<IPython.core.display.HTML object>"
      ]
     },
     "metadata": {},
     "output_type": "display_data"
    },
    {
     "data": {
      "text/html": [
       "\n",
       "        <div id=\"c6QqfFNVdk4whtLekeTdUw\"></div>\n",
       "        <script>netpixi.call('c6QqfFNVdk4whtLekeTdUw', 'TzosTQQKafi7kP6xic5Mh6', 'changeGraph', 'eyJpZCI6IDgwLCAidHlwZSI6ICJ2ZXJ0ZXgiLCAicHJvcHMiOiB7ImNvbG9yIjogMTY3MTE2ODB9fQo=');</script>\n",
       "    "
      ],
      "text/plain": [
       "<IPython.core.display.HTML object>"
      ]
     },
     "metadata": {},
     "output_type": "display_data"
    },
    {
     "data": {
      "text/html": [
       "\n",
       "        <div id=\"AXxbFaBT3oZwbz39Qfcxyu\"></div>\n",
       "        <script>netpixi.call('AXxbFaBT3oZwbz39Qfcxyu', 'TzosTQQKafi7kP6xic5Mh6', 'changeGraph', 'eyJpZCI6IDI0MiwgInR5cGUiOiAidmVydGV4IiwgInByb3BzIjogeyJzaXplIjogNDkuNjY2NjY2NjY2NjY2Njd9fQo=');</script>\n",
       "    "
      ],
      "text/plain": [
       "<IPython.core.display.HTML object>"
      ]
     },
     "metadata": {},
     "output_type": "display_data"
    },
    {
     "data": {
      "text/html": [
       "\n",
       "        <div id=\"kpv46HGUNJYsnF8zL4XKoC\"></div>\n",
       "        <script>netpixi.call('kpv46HGUNJYsnF8zL4XKoC', 'TzosTQQKafi7kP6xic5Mh6', 'changeGraph', 'eyJpZCI6IDc1LCAidHlwZSI6ICJ2ZXJ0ZXgiLCAicHJvcHMiOiB7ImNvbG9yIjogMTY3MTE2ODB9fQo=');</script>\n",
       "    "
      ],
      "text/plain": [
       "<IPython.core.display.HTML object>"
      ]
     },
     "metadata": {},
     "output_type": "display_data"
    },
    {
     "data": {
      "text/html": [
       "\n",
       "        <div id=\"bfWVw6RtnGJr6JEGzWZJaR\"></div>\n",
       "        <script>netpixi.call('bfWVw6RtnGJr6JEGzWZJaR', 'TzosTQQKafi7kP6xic5Mh6', 'changeGraph', 'eyJpZCI6IDI0MywgInR5cGUiOiAidmVydGV4IiwgInByb3BzIjogeyJzaXplIjogMTkuMTYzMTc5OTE2MzE3OTl9fQo=');</script>\n",
       "    "
      ],
      "text/plain": [
       "<IPython.core.display.HTML object>"
      ]
     },
     "metadata": {},
     "output_type": "display_data"
    },
    {
     "data": {
      "text/html": [
       "\n",
       "        <div id=\"9gjufWam54b3bkkwLbEm78\"></div>\n",
       "        <script>netpixi.call('9gjufWam54b3bkkwLbEm78', 'TzosTQQKafi7kP6xic5Mh6', 'changeGraph', 'eyJpZCI6IDg0LCAidHlwZSI6ICJ2ZXJ0ZXgiLCAicHJvcHMiOiB7ImNvbG9yIjogMTY3MTE2ODB9fQo=');</script>\n",
       "    "
      ],
      "text/plain": [
       "<IPython.core.display.HTML object>"
      ]
     },
     "metadata": {},
     "output_type": "display_data"
    },
    {
     "data": {
      "text/html": [
       "\n",
       "        <div id=\"QfvWxa62uTuhh3miGHxmhH\"></div>\n",
       "        <script>netpixi.call('QfvWxa62uTuhh3miGHxmhH', 'TzosTQQKafi7kP6xic5Mh6', 'changeGraph', 'eyJpZCI6IDI0NCwgInR5cGUiOiAidmVydGV4IiwgInByb3BzIjogeyJzaXplIjogMTQuODUzNTU2NDg1MzU1NjQ4fX0K');</script>\n",
       "    "
      ],
      "text/plain": [
       "<IPython.core.display.HTML object>"
      ]
     },
     "metadata": {},
     "output_type": "display_data"
    },
    {
     "data": {
      "text/html": [
       "\n",
       "        <div id=\"aZUqTFrDXaEmZvm9bXrY7L\"></div>\n",
       "        <script>netpixi.call('aZUqTFrDXaEmZvm9bXrY7L', 'TzosTQQKafi7kP6xic5Mh6', 'changeGraph', 'eyJpZCI6IDcyLCAidHlwZSI6ICJ2ZXJ0ZXgiLCAicHJvcHMiOiB7ImNvbG9yIjogMTY3MTE2ODB9fQo=');</script>\n",
       "    "
      ],
      "text/plain": [
       "<IPython.core.display.HTML object>"
      ]
     },
     "metadata": {},
     "output_type": "display_data"
    },
    {
     "data": {
      "text/html": [
       "\n",
       "        <div id=\"Uxge9SWUxCgn89x4x35nc5\"></div>\n",
       "        <script>netpixi.call('Uxge9SWUxCgn89x4x35nc5', 'TzosTQQKafi7kP6xic5Mh6', 'changeGraph', 'eyJpZCI6IDI0NSwgInR5cGUiOiAidmVydGV4IiwgInByb3BzIjogeyJzaXplIjogMTAuMjkyODg3MDI5Mjg4NzAzfX0K');</script>\n",
       "    "
      ],
      "text/plain": [
       "<IPython.core.display.HTML object>"
      ]
     },
     "metadata": {},
     "output_type": "display_data"
    },
    {
     "data": {
      "text/html": [
       "\n",
       "        <div id=\"aU7EZChEVkvGZf2aU43Ybs\"></div>\n",
       "        <script>netpixi.call('aU7EZChEVkvGZf2aU43Ybs', 'TzosTQQKafi7kP6xic5Mh6', 'changeGraph', 'eyJpZCI6IDczLCAidHlwZSI6ICJ2ZXJ0ZXgiLCAicHJvcHMiOiB7ImNvbG9yIjogMTY3MTE2ODB9fQo=');</script>\n",
       "    "
      ],
      "text/plain": [
       "<IPython.core.display.HTML object>"
      ]
     },
     "metadata": {},
     "output_type": "display_data"
    },
    {
     "data": {
      "text/html": [
       "\n",
       "        <div id=\"KfnhxuvFppVuNoXkk5mGcJ\"></div>\n",
       "        <script>netpixi.call('KfnhxuvFppVuNoXkk5mGcJ', 'TzosTQQKafi7kP6xic5Mh6', 'changeGraph', 'eyJpZCI6IDI0NiwgInR5cGUiOiAidmVydGV4IiwgInByb3BzIjogeyJzaXplIjogNDkuNX19Cg==');</script>\n",
       "    "
      ],
      "text/plain": [
       "<IPython.core.display.HTML object>"
      ]
     },
     "metadata": {},
     "output_type": "display_data"
    },
    {
     "data": {
      "text/html": [
       "\n",
       "        <div id=\"K4vwWweUeErPgN3fNtRVXD\"></div>\n",
       "        <script>netpixi.call('K4vwWweUeErPgN3fNtRVXD', 'TzosTQQKafi7kP6xic5Mh6', 'changeGraph', 'eyJpZCI6IDc4LCAidHlwZSI6ICJ2ZXJ0ZXgiLCAicHJvcHMiOiB7ImNvbG9yIjogMTY3MTE2ODB9fQo=');</script>\n",
       "    "
      ],
      "text/plain": [
       "<IPython.core.display.HTML object>"
      ]
     },
     "metadata": {},
     "output_type": "display_data"
    },
    {
     "data": {
      "text/html": [
       "\n",
       "        <div id=\"89Gm9juuPLkJPBRMnfJ2kR\"></div>\n",
       "        <script>netpixi.call('89Gm9juuPLkJPBRMnfJ2kR', 'TzosTQQKafi7kP6xic5Mh6', 'changeGraph', 'eyJpZCI6IDI0NywgInR5cGUiOiAidmVydGV4IiwgInByb3BzIjogeyJzaXplIjogNDcuODMzMzMzMzMzMzMzMzN9fQo=');</script>\n",
       "    "
      ],
      "text/plain": [
       "<IPython.core.display.HTML object>"
      ]
     },
     "metadata": {},
     "output_type": "display_data"
    },
    {
     "data": {
      "text/html": [
       "\n",
       "        <div id=\"dvMG86iXNnKwowuaccxv7D\"></div>\n",
       "        <script>netpixi.call('dvMG86iXNnKwowuaccxv7D', 'TzosTQQKafi7kP6xic5Mh6', 'changeGraph', 'eyJpZCI6IDcxLCAidHlwZSI6ICJ2ZXJ0ZXgiLCAicHJvcHMiOiB7ImNvbG9yIjogMTY3MTE2ODB9fQo=');</script>\n",
       "    "
      ],
      "text/plain": [
       "<IPython.core.display.HTML object>"
      ]
     },
     "metadata": {},
     "output_type": "display_data"
    },
    {
     "data": {
      "text/html": [
       "\n",
       "        <div id=\"Q7sEmcRM3G73779Kbnfs7t\"></div>\n",
       "        <script>netpixi.call('Q7sEmcRM3G73779Kbnfs7t', 'TzosTQQKafi7kP6xic5Mh6', 'changeGraph', 'eyJpZCI6IDI0OCwgInR5cGUiOiAidmVydGV4IiwgInByb3BzIjogeyJzaXplIjogMTkuOTU4MTU4OTk1ODE1OX19Cg==');</script>\n",
       "    "
      ],
      "text/plain": [
       "<IPython.core.display.HTML object>"
      ]
     },
     "metadata": {},
     "output_type": "display_data"
    },
    {
     "data": {
      "text/html": [
       "\n",
       "        <div id=\"3N3fLJCt8faUheQbXNev8z\"></div>\n",
       "        <script>netpixi.call('3N3fLJCt8faUheQbXNev8z', 'TzosTQQKafi7kP6xic5Mh6', 'changeGraph', 'eyJpZCI6IDcyLCAidHlwZSI6ICJ2ZXJ0ZXgiLCAicHJvcHMiOiB7ImNvbG9yIjogMTY3MTE2ODB9fQo=');</script>\n",
       "    "
      ],
      "text/plain": [
       "<IPython.core.display.HTML object>"
      ]
     },
     "metadata": {},
     "output_type": "display_data"
    },
    {
     "data": {
      "text/html": [
       "\n",
       "        <div id=\"VBzTfPoRNi5K84aYqXLckP\"></div>\n",
       "        <script>netpixi.call('VBzTfPoRNi5K84aYqXLckP', 'TzosTQQKafi7kP6xic5Mh6', 'changeGraph', 'eyJpZCI6IDI0OSwgInR5cGUiOiAidmVydGV4IiwgInByb3BzIjogeyJzaXplIjogMTkuMDM3NjU2OTAzNzY1Njl9fQo=');</script>\n",
       "    "
      ],
      "text/plain": [
       "<IPython.core.display.HTML object>"
      ]
     },
     "metadata": {},
     "output_type": "display_data"
    },
    {
     "data": {
      "text/html": [
       "\n",
       "        <div id=\"gft7ZBnhiKdCKDnhbqesBF\"></div>\n",
       "        <script>netpixi.call('gft7ZBnhiKdCKDnhbqesBF', 'TzosTQQKafi7kP6xic5Mh6', 'changeGraph', 'eyJpZCI6IDcxLCAidHlwZSI6ICJ2ZXJ0ZXgiLCAicHJvcHMiOiB7ImNvbG9yIjogMTY3MTE2ODB9fQo=');</script>\n",
       "    "
      ],
      "text/plain": [
       "<IPython.core.display.HTML object>"
      ]
     },
     "metadata": {},
     "output_type": "display_data"
    },
    {
     "data": {
      "text/html": [
       "\n",
       "        <div id=\"9RnWKK5DvSuCo6gx9XAsmV\"></div>\n",
       "        <script>netpixi.call('9RnWKK5DvSuCo6gx9XAsmV', 'TzosTQQKafi7kP6xic5Mh6', 'changeGraph', 'eyJpZCI6IDI1MCwgInR5cGUiOiAidmVydGV4IiwgInByb3BzIjogeyJzaXplIjogMTcuNzgyNDI2Nzc4MjQyNjc3fX0K');</script>\n",
       "    "
      ],
      "text/plain": [
       "<IPython.core.display.HTML object>"
      ]
     },
     "metadata": {},
     "output_type": "display_data"
    },
    {
     "data": {
      "text/html": [
       "\n",
       "        <div id=\"4o6Digb8HejQAsfpJShQk9\"></div>\n",
       "        <script>netpixi.call('4o6Digb8HejQAsfpJShQk9', 'TzosTQQKafi7kP6xic5Mh6', 'changeGraph', 'eyJpZCI6IDgyLCAidHlwZSI6ICJ2ZXJ0ZXgiLCAicHJvcHMiOiB7ImNvbG9yIjogMTY3MTE2ODB9fQo=');</script>\n",
       "    "
      ],
      "text/plain": [
       "<IPython.core.display.HTML object>"
      ]
     },
     "metadata": {},
     "output_type": "display_data"
    },
    {
     "data": {
      "text/html": [
       "\n",
       "        <div id=\"hKzcKerfmKzskihVpDEAyE\"></div>\n",
       "        <script>netpixi.call('hKzcKerfmKzskihVpDEAyE', 'TzosTQQKafi7kP6xic5Mh6', 'changeGraph', 'eyJpZCI6IDI1MSwgInR5cGUiOiAidmVydGV4IiwgInByb3BzIjogeyJzaXplIjogNDguODMzMzMzMzMzMzMzMzM2fX0K');</script>\n",
       "    "
      ],
      "text/plain": [
       "<IPython.core.display.HTML object>"
      ]
     },
     "metadata": {},
     "output_type": "display_data"
    },
    {
     "data": {
      "text/html": [
       "\n",
       "        <div id=\"VHLqXMGQAWD7otzRYRccGb\"></div>\n",
       "        <script>netpixi.call('VHLqXMGQAWD7otzRYRccGb', 'TzosTQQKafi7kP6xic5Mh6', 'changeGraph', 'eyJpZCI6IDc2LCAidHlwZSI6ICJ2ZXJ0ZXgiLCAicHJvcHMiOiB7ImNvbG9yIjogMTY3MTE2ODB9fQo=');</script>\n",
       "    "
      ],
      "text/plain": [
       "<IPython.core.display.HTML object>"
      ]
     },
     "metadata": {},
     "output_type": "display_data"
    },
    {
     "data": {
      "text/html": [
       "\n",
       "        <div id=\"BNHRET3wJozKCaPiveUGAb\"></div>\n",
       "        <script>netpixi.call('BNHRET3wJozKCaPiveUGAb', 'TzosTQQKafi7kP6xic5Mh6', 'changeGraph', 'eyJpZCI6IDI1MiwgInR5cGUiOiAidmVydGV4IiwgInByb3BzIjogeyJzaXplIjogNDUuMzMzMzMzMzMzMzMzMzN9fQo=');</script>\n",
       "    "
      ],
      "text/plain": [
       "<IPython.core.display.HTML object>"
      ]
     },
     "metadata": {},
     "output_type": "display_data"
    },
    {
     "data": {
      "text/html": [
       "\n",
       "        <div id=\"TEturfdU2KnTF5niKsCMYJ\"></div>\n",
       "        <script>netpixi.call('TEturfdU2KnTF5niKsCMYJ', 'TzosTQQKafi7kP6xic5Mh6', 'changeGraph', 'eyJpZCI6IDcxLCAidHlwZSI6ICJ2ZXJ0ZXgiLCAicHJvcHMiOiB7ImNvbG9yIjogMTY3MTE2ODB9fQo=');</script>\n",
       "    "
      ],
      "text/plain": [
       "<IPython.core.display.HTML object>"
      ]
     },
     "metadata": {},
     "output_type": "display_data"
    },
    {
     "data": {
      "text/html": [
       "\n",
       "        <div id=\"Atmt6Y27RUN9xhrSNp5PEj\"></div>\n",
       "        <script>netpixi.call('Atmt6Y27RUN9xhrSNp5PEj', 'TzosTQQKafi7kP6xic5Mh6', 'changeGraph', 'eyJpZCI6IDI1MywgInR5cGUiOiAidmVydGV4IiwgInByb3BzIjogeyJzaXplIjogMTAuMDgzNjgyMDA4MzY4Mn19Cg==');</script>\n",
       "    "
      ],
      "text/plain": [
       "<IPython.core.display.HTML object>"
      ]
     },
     "metadata": {},
     "output_type": "display_data"
    },
    {
     "data": {
      "text/html": [
       "\n",
       "        <div id=\"4ryJ6rfSSJ2VPbP9eiELBP\"></div>\n",
       "        <script>netpixi.call('4ryJ6rfSSJ2VPbP9eiELBP', 'TzosTQQKafi7kP6xic5Mh6', 'changeGraph', 'eyJpZCI6IDc2LCAidHlwZSI6ICJ2ZXJ0ZXgiLCAicHJvcHMiOiB7ImNvbG9yIjogMTY3MTE2ODB9fQo=');</script>\n",
       "    "
      ],
      "text/plain": [
       "<IPython.core.display.HTML object>"
      ]
     },
     "metadata": {},
     "output_type": "display_data"
    },
    {
     "data": {
      "text/html": [
       "\n",
       "        <div id=\"ndqKQNhFC54NP82NKMbxNd\"></div>\n",
       "        <script>netpixi.call('ndqKQNhFC54NP82NKMbxNd', 'TzosTQQKafi7kP6xic5Mh6', 'changeGraph', 'eyJpZCI6IDI1NCwgInR5cGUiOiAidmVydGV4IiwgInByb3BzIjogeyJzaXplIjogMTQuMTg0MTAwNDE4NDEwMDQyfX0K');</script>\n",
       "    "
      ],
      "text/plain": [
       "<IPython.core.display.HTML object>"
      ]
     },
     "metadata": {},
     "output_type": "display_data"
    },
    {
     "data": {
      "text/html": [
       "\n",
       "        <div id=\"f8nyP7zP94UmmnGmn6WNq6\"></div>\n",
       "        <script>netpixi.call('f8nyP7zP94UmmnGmn6WNq6', 'TzosTQQKafi7kP6xic5Mh6', 'changeGraph', 'eyJpZCI6IDgxLCAidHlwZSI6ICJ2ZXJ0ZXgiLCAicHJvcHMiOiB7ImNvbG9yIjogMTY3MTE2ODB9fQo=');</script>\n",
       "    "
      ],
      "text/plain": [
       "<IPython.core.display.HTML object>"
      ]
     },
     "metadata": {},
     "output_type": "display_data"
    },
    {
     "data": {
      "text/html": [
       "\n",
       "        <div id=\"Fxv3usyAtPLcwX6dDBSRud\"></div>\n",
       "        <script>netpixi.call('Fxv3usyAtPLcwX6dDBSRud', 'TzosTQQKafi7kP6xic5Mh6', 'changeGraph', 'eyJpZCI6IDI1NSwgInR5cGUiOiAidmVydGV4IiwgInByb3BzIjogeyJzaXplIjogMTQuODExNzE1NDgxMTcxNTQ4fX0K');</script>\n",
       "    "
      ],
      "text/plain": [
       "<IPython.core.display.HTML object>"
      ]
     },
     "metadata": {},
     "output_type": "display_data"
    },
    {
     "data": {
      "text/html": [
       "\n",
       "        <div id=\"FZqTdvsovZjujgmSNoA2c8\"></div>\n",
       "        <script>netpixi.call('FZqTdvsovZjujgmSNoA2c8', 'TzosTQQKafi7kP6xic5Mh6', 'changeGraph', 'eyJpZCI6IDgyLCAidHlwZSI6ICJ2ZXJ0ZXgiLCAicHJvcHMiOiB7ImNvbG9yIjogMTY3MTE2ODB9fQo=');</script>\n",
       "    "
      ],
      "text/plain": [
       "<IPython.core.display.HTML object>"
      ]
     },
     "metadata": {},
     "output_type": "display_data"
    },
    {
     "data": {
      "text/html": [
       "\n",
       "        <div id=\"LxKxfNuhACgXLBEjgGhXFF\"></div>\n",
       "        <script>netpixi.call('LxKxfNuhACgXLBEjgGhXFF', 'TzosTQQKafi7kP6xic5Mh6', 'changeGraph', 'eyJpZCI6IDI1NiwgInR5cGUiOiAidmVydGV4IiwgInByb3BzIjogeyJzaXplIjogMTIuMDA4MzY4MjAwODM2ODJ9fQo=');</script>\n",
       "    "
      ],
      "text/plain": [
       "<IPython.core.display.HTML object>"
      ]
     },
     "metadata": {},
     "output_type": "display_data"
    },
    {
     "data": {
      "text/html": [
       "\n",
       "        <div id=\"hrJyvktVcfASNfiQtQsBa3\"></div>\n",
       "        <script>netpixi.call('hrJyvktVcfASNfiQtQsBa3', 'TzosTQQKafi7kP6xic5Mh6', 'changeGraph', 'eyJpZCI6IDc0LCAidHlwZSI6ICJ2ZXJ0ZXgiLCAicHJvcHMiOiB7ImNvbG9yIjogMTY3MTE2ODB9fQo=');</script>\n",
       "    "
      ],
      "text/plain": [
       "<IPython.core.display.HTML object>"
      ]
     },
     "metadata": {},
     "output_type": "display_data"
    },
    {
     "data": {
      "text/html": [
       "\n",
       "        <div id=\"NNhZoSYKaRs7qsMRp9nhVc\"></div>\n",
       "        <script>netpixi.call('NNhZoSYKaRs7qsMRp9nhVc', 'TzosTQQKafi7kP6xic5Mh6', 'changeGraph', 'eyJpZCI6IDI1NywgInR5cGUiOiAidmVydGV4IiwgInByb3BzIjogeyJzaXplIjogMTUuNjA2Njk0NTYwNjY5NDU1fX0K');</script>\n",
       "    "
      ],
      "text/plain": [
       "<IPython.core.display.HTML object>"
      ]
     },
     "metadata": {},
     "output_type": "display_data"
    },
    {
     "data": {
      "text/html": [
       "\n",
       "        <div id=\"gj2Uc9rjJejy6vadLfqpaC\"></div>\n",
       "        <script>netpixi.call('gj2Uc9rjJejy6vadLfqpaC', 'TzosTQQKafi7kP6xic5Mh6', 'changeGraph', 'eyJpZCI6IDg4LCAidHlwZSI6ICJ2ZXJ0ZXgiLCAicHJvcHMiOiB7ImNvbG9yIjogMTY3MTE2ODB9fQo=');</script>\n",
       "    "
      ],
      "text/plain": [
       "<IPython.core.display.HTML object>"
      ]
     },
     "metadata": {},
     "output_type": "display_data"
    },
    {
     "data": {
      "text/html": [
       "\n",
       "        <div id=\"SbB25iRizcrqveG4UiQfBH\"></div>\n",
       "        <script>netpixi.call('SbB25iRizcrqveG4UiQfBH', 'TzosTQQKafi7kP6xic5Mh6', 'changeGraph', 'eyJpZCI6IDI1OCwgInR5cGUiOiAidmVydGV4IiwgInByb3BzIjogeyJzaXplIjogNDguMzMzMzMzMzMzMzMzMzM2fX0K');</script>\n",
       "    "
      ],
      "text/plain": [
       "<IPython.core.display.HTML object>"
      ]
     },
     "metadata": {},
     "output_type": "display_data"
    },
    {
     "data": {
      "text/html": [
       "\n",
       "        <div id=\"XAJn43kdvp9xUneo4eksvP\"></div>\n",
       "        <script>netpixi.call('XAJn43kdvp9xUneo4eksvP', 'TzosTQQKafi7kP6xic5Mh6', 'changeGraph', 'eyJpZCI6IDc2LCAidHlwZSI6ICJ2ZXJ0ZXgiLCAicHJvcHMiOiB7ImNvbG9yIjogMTY3MTE2ODB9fQo=');</script>\n",
       "    "
      ],
      "text/plain": [
       "<IPython.core.display.HTML object>"
      ]
     },
     "metadata": {},
     "output_type": "display_data"
    },
    {
     "data": {
      "text/html": [
       "\n",
       "        <div id=\"MsQ8XbWdKMPGDgipsTU7MV\"></div>\n",
       "        <script>netpixi.call('MsQ8XbWdKMPGDgipsTU7MV', 'TzosTQQKafi7kP6xic5Mh6', 'changeGraph', 'eyJpZCI6IDI1OSwgInR5cGUiOiAidmVydGV4IiwgInByb3BzIjogeyJzaXplIjogNDguNjY2NjY2NjY2NjY2NjY0fX0K');</script>\n",
       "    "
      ],
      "text/plain": [
       "<IPython.core.display.HTML object>"
      ]
     },
     "metadata": {},
     "output_type": "display_data"
    },
    {
     "data": {
      "text/html": [
       "\n",
       "        <div id=\"YnkHbLK2Dy2doaiDKmxN47\"></div>\n",
       "        <script>netpixi.call('YnkHbLK2Dy2doaiDKmxN47', 'TzosTQQKafi7kP6xic5Mh6', 'changeGraph', 'eyJpZCI6IDc4LCAidHlwZSI6ICJ2ZXJ0ZXgiLCAicHJvcHMiOiB7ImNvbG9yIjogMTY3MTE2ODB9fQo=');</script>\n",
       "    "
      ],
      "text/plain": [
       "<IPython.core.display.HTML object>"
      ]
     },
     "metadata": {},
     "output_type": "display_data"
    },
    {
     "data": {
      "text/html": [
       "\n",
       "        <div id=\"6HPNdskMXxuCY6duW9f66w\"></div>\n",
       "        <script>netpixi.call('6HPNdskMXxuCY6duW9f66w', 'TzosTQQKafi7kP6xic5Mh6', 'changeGraph', 'eyJpZCI6IDI2MCwgInR5cGUiOiAidmVydGV4IiwgInByb3BzIjogeyJzaXplIjogMTEuMDQ2MDI1MTA0NjAyNTF9fQo=');</script>\n",
       "    "
      ],
      "text/plain": [
       "<IPython.core.display.HTML object>"
      ]
     },
     "metadata": {},
     "output_type": "display_data"
    },
    {
     "data": {
      "text/html": [
       "\n",
       "        <div id=\"W69Xc8kLF7bKeRropxcWJq\"></div>\n",
       "        <script>netpixi.call('W69Xc8kLF7bKeRropxcWJq', 'TzosTQQKafi7kP6xic5Mh6', 'changeGraph', 'eyJpZCI6IDczLCAidHlwZSI6ICJ2ZXJ0ZXgiLCAicHJvcHMiOiB7ImNvbG9yIjogMTY3MTE2ODB9fQo=');</script>\n",
       "    "
      ],
      "text/plain": [
       "<IPython.core.display.HTML object>"
      ]
     },
     "metadata": {},
     "output_type": "display_data"
    },
    {
     "data": {
      "text/html": [
       "\n",
       "        <div id=\"efkakcsmWH9dKXMNxzVNuD\"></div>\n",
       "        <script>netpixi.call('efkakcsmWH9dKXMNxzVNuD', 'TzosTQQKafi7kP6xic5Mh6', 'changeGraph', 'eyJpZCI6IDI2MSwgInR5cGUiOiAidmVydGV4IiwgInByb3BzIjogeyJzaXplIjogMTUuMzU1NjQ4NTM1NTY0ODUzfX0K');</script>\n",
       "    "
      ],
      "text/plain": [
       "<IPython.core.display.HTML object>"
      ]
     },
     "metadata": {},
     "output_type": "display_data"
    },
    {
     "data": {
      "text/html": [
       "\n",
       "        <div id=\"TBJNuEYBEo73es3pnC7tUR\"></div>\n",
       "        <script>netpixi.call('TBJNuEYBEo73es3pnC7tUR', 'TzosTQQKafi7kP6xic5Mh6', 'changeGraph', 'eyJpZCI6IDgxLCAidHlwZSI6ICJ2ZXJ0ZXgiLCAicHJvcHMiOiB7ImNvbG9yIjogMTY3MTE2ODB9fQo=');</script>\n",
       "    "
      ],
      "text/plain": [
       "<IPython.core.display.HTML object>"
      ]
     },
     "metadata": {},
     "output_type": "display_data"
    },
    {
     "data": {
      "text/html": [
       "\n",
       "        <div id=\"bfCs7HoBJziTXi4FYNPBeN\"></div>\n",
       "        <script>netpixi.call('bfCs7HoBJziTXi4FYNPBeN', 'TzosTQQKafi7kP6xic5Mh6', 'changeGraph', 'eyJpZCI6IDI2MiwgInR5cGUiOiAidmVydGV4IiwgInByb3BzIjogeyJzaXplIjogMTguNjE5MjQ2ODYxOTI0Njg3fX0K');</script>\n",
       "    "
      ],
      "text/plain": [
       "<IPython.core.display.HTML object>"
      ]
     },
     "metadata": {},
     "output_type": "display_data"
    },
    {
     "data": {
      "text/html": [
       "\n",
       "        <div id=\"jXhNersPazZ3JL54hwnYVQ\"></div>\n",
       "        <script>netpixi.call('jXhNersPazZ3JL54hwnYVQ', 'TzosTQQKafi7kP6xic5Mh6', 'changeGraph', 'eyJpZCI6IDc2LCAidHlwZSI6ICJ2ZXJ0ZXgiLCAicHJvcHMiOiB7ImNvbG9yIjogMTY3MTE2ODB9fQo=');</script>\n",
       "    "
      ],
      "text/plain": [
       "<IPython.core.display.HTML object>"
      ]
     },
     "metadata": {},
     "output_type": "display_data"
    },
    {
     "data": {
      "text/html": [
       "\n",
       "        <div id=\"e4xNGnbcJePjMa8ZsBEyVh\"></div>\n",
       "        <script>netpixi.call('e4xNGnbcJePjMa8ZsBEyVh', 'TzosTQQKafi7kP6xic5Mh6', 'changeGraph', 'eyJpZCI6IDI2MywgInR5cGUiOiAidmVydGV4IiwgInByb3BzIjogeyJzaXplIjogNDYuODMzMzMzMzMzMzMzMzM2fX0K');</script>\n",
       "    "
      ],
      "text/plain": [
       "<IPython.core.display.HTML object>"
      ]
     },
     "metadata": {},
     "output_type": "display_data"
    },
    {
     "data": {
      "text/html": [
       "\n",
       "        <div id=\"nKriHdzWAqqM3r5S4Leawo\"></div>\n",
       "        <script>netpixi.call('nKriHdzWAqqM3r5S4Leawo', 'TzosTQQKafi7kP6xic5Mh6', 'changeGraph', 'eyJpZCI6IDgwLCAidHlwZSI6ICJ2ZXJ0ZXgiLCAicHJvcHMiOiB7ImNvbG9yIjogMTY3MTE2ODB9fQo=');</script>\n",
       "    "
      ],
      "text/plain": [
       "<IPython.core.display.HTML object>"
      ]
     },
     "metadata": {},
     "output_type": "display_data"
    },
    {
     "data": {
      "text/html": [
       "\n",
       "        <div id=\"XnsTk5BXoegELAufjU6if3\"></div>\n",
       "        <script>netpixi.call('XnsTk5BXoegELAufjU6if3', 'TzosTQQKafi7kP6xic5Mh6', 'changeGraph', 'eyJpZCI6IDI2NCwgInR5cGUiOiAidmVydGV4IiwgInByb3BzIjogeyJzaXplIjogMTcuMjM4NDkzNzIzODQ5MzczfX0K');</script>\n",
       "    "
      ],
      "text/plain": [
       "<IPython.core.display.HTML object>"
      ]
     },
     "metadata": {},
     "output_type": "display_data"
    },
    {
     "data": {
      "text/html": [
       "\n",
       "        <div id=\"JCQBibszoH35jaahuVraPn\"></div>\n",
       "        <script>netpixi.call('JCQBibszoH35jaahuVraPn', 'TzosTQQKafi7kP6xic5Mh6', 'changeGraph', 'eyJpZCI6IDYxLCAidHlwZSI6ICJ2ZXJ0ZXgiLCAicHJvcHMiOiB7ImNvbG9yIjogMTY3MTE2ODB9fQo=');</script>\n",
       "    "
      ],
      "text/plain": [
       "<IPython.core.display.HTML object>"
      ]
     },
     "metadata": {},
     "output_type": "display_data"
    },
    {
     "data": {
      "text/html": [
       "\n",
       "        <div id=\"idstpciZURkYT5uuhNdzbk\"></div>\n",
       "        <script>netpixi.call('idstpciZURkYT5uuhNdzbk', 'TzosTQQKafi7kP6xic5Mh6', 'changeGraph', 'eyJpZCI6IDI2NSwgInR5cGUiOiAidmVydGV4IiwgInByb3BzIjogeyJzaXplIjogNDguMTY2NjY2NjY2NjY2NjY0fX0K');</script>\n",
       "    "
      ],
      "text/plain": [
       "<IPython.core.display.HTML object>"
      ]
     },
     "metadata": {},
     "output_type": "display_data"
    },
    {
     "data": {
      "text/html": [
       "\n",
       "        <div id=\"GnNHpR2u2QVmeauz6Do3s9\"></div>\n",
       "        <script>netpixi.call('GnNHpR2u2QVmeauz6Do3s9', 'TzosTQQKafi7kP6xic5Mh6', 'changeGraph', 'eyJpZCI6IDcyLCAidHlwZSI6ICJ2ZXJ0ZXgiLCAicHJvcHMiOiB7ImNvbG9yIjogMTY3MTE2ODB9fQo=');</script>\n",
       "    "
      ],
      "text/plain": [
       "<IPython.core.display.HTML object>"
      ]
     },
     "metadata": {},
     "output_type": "display_data"
    },
    {
     "data": {
      "text/html": [
       "\n",
       "        <div id=\"juEwtMU2Qryj8oXydz7fKQ\"></div>\n",
       "        <script>netpixi.call('juEwtMU2Qryj8oXydz7fKQ', 'TzosTQQKafi7kP6xic5Mh6', 'changeGraph', 'eyJpZCI6IDI2NiwgInR5cGUiOiAidmVydGV4IiwgInByb3BzIjogeyJzaXplIjogMTcuMDI5Mjg4NzAyOTI4ODd9fQo=');</script>\n",
       "    "
      ],
      "text/plain": [
       "<IPython.core.display.HTML object>"
      ]
     },
     "metadata": {},
     "output_type": "display_data"
    },
    {
     "data": {
      "text/html": [
       "\n",
       "        <div id=\"9KosV4u9GDGSSavsk8f3m2\"></div>\n",
       "        <script>netpixi.call('9KosV4u9GDGSSavsk8f3m2', 'TzosTQQKafi7kP6xic5Mh6', 'changeGraph', 'eyJpZCI6IDczLCAidHlwZSI6ICJ2ZXJ0ZXgiLCAicHJvcHMiOiB7ImNvbG9yIjogMTY3MTE2ODB9fQo=');</script>\n",
       "    "
      ],
      "text/plain": [
       "<IPython.core.display.HTML object>"
      ]
     },
     "metadata": {},
     "output_type": "display_data"
    },
    {
     "data": {
      "text/html": [
       "\n",
       "        <div id=\"JU6XvBmZHmBLFMP2QrLKt4\"></div>\n",
       "        <script>netpixi.call('JU6XvBmZHmBLFMP2QrLKt4', 'TzosTQQKafi7kP6xic5Mh6', 'changeGraph', 'eyJpZCI6IDI2NywgInR5cGUiOiAidmVydGV4IiwgInByb3BzIjogeyJzaXplIjogMTAuMjUxMDQ2MDI1MTA0NjAzfX0K');</script>\n",
       "    "
      ],
      "text/plain": [
       "<IPython.core.display.HTML object>"
      ]
     },
     "metadata": {},
     "output_type": "display_data"
    },
    {
     "data": {
      "text/html": [
       "\n",
       "        <div id=\"ckgJaQr8giaNeYNS742XR7\"></div>\n",
       "        <script>netpixi.call('ckgJaQr8giaNeYNS742XR7', 'TzosTQQKafi7kP6xic5Mh6', 'changeGraph', 'eyJpZCI6IDY2LCAidHlwZSI6ICJ2ZXJ0ZXgiLCAicHJvcHMiOiB7ImNvbG9yIjogMTY3MTE2ODB9fQo=');</script>\n",
       "    "
      ],
      "text/plain": [
       "<IPython.core.display.HTML object>"
      ]
     },
     "metadata": {},
     "output_type": "display_data"
    },
    {
     "data": {
      "text/html": [
       "\n",
       "        <div id=\"Cm3qgvzkJePt5naNGJhiA5\"></div>\n",
       "        <script>netpixi.call('Cm3qgvzkJePt5naNGJhiA5', 'TzosTQQKafi7kP6xic5Mh6', 'changeGraph', 'eyJpZCI6IDI2OCwgInR5cGUiOiAidmVydGV4IiwgInByb3BzIjogeyJzaXplIjogMTQuNTE4ODI4NDUxODgyODQ1fX0K');</script>\n",
       "    "
      ],
      "text/plain": [
       "<IPython.core.display.HTML object>"
      ]
     },
     "metadata": {},
     "output_type": "display_data"
    },
    {
     "data": {
      "text/html": [
       "\n",
       "        <div id=\"8A9Eg35F9uqqevQdphDzMq\"></div>\n",
       "        <script>netpixi.call('8A9Eg35F9uqqevQdphDzMq', 'TzosTQQKafi7kP6xic5Mh6', 'changeGraph', 'eyJpZCI6IDgxLCAidHlwZSI6ICJ2ZXJ0ZXgiLCAicHJvcHMiOiB7ImNvbG9yIjogMTY3MTE2ODB9fQo=');</script>\n",
       "    "
      ],
      "text/plain": [
       "<IPython.core.display.HTML object>"
      ]
     },
     "metadata": {},
     "output_type": "display_data"
    },
    {
     "data": {
      "text/html": [
       "\n",
       "        <div id=\"FjbV5Eb6S2waLnXU7p6WcV\"></div>\n",
       "        <script>netpixi.call('FjbV5Eb6S2waLnXU7p6WcV', 'TzosTQQKafi7kP6xic5Mh6', 'changeGraph', 'eyJpZCI6IDI2OSwgInR5cGUiOiAidmVydGV4IiwgInByb3BzIjogeyJzaXplIjogMTIuODAzMzQ3MjgwMzM0NzI3fX0K');</script>\n",
       "    "
      ],
      "text/plain": [
       "<IPython.core.display.HTML object>"
      ]
     },
     "metadata": {},
     "output_type": "display_data"
    },
    {
     "data": {
      "text/html": [
       "\n",
       "        <div id=\"WMDJJpGAS9feGCTH6NwA5Z\"></div>\n",
       "        <script>netpixi.call('WMDJJpGAS9feGCTH6NwA5Z', 'TzosTQQKafi7kP6xic5Mh6', 'changeGraph', 'eyJpZCI6IDgyLCAidHlwZSI6ICJ2ZXJ0ZXgiLCAicHJvcHMiOiB7ImNvbG9yIjogMTY3MTE2ODB9fQo=');</script>\n",
       "    "
      ],
      "text/plain": [
       "<IPython.core.display.HTML object>"
      ]
     },
     "metadata": {},
     "output_type": "display_data"
    },
    {
     "data": {
      "text/html": [
       "\n",
       "        <div id=\"FJW4hCZfpFDDMMCU9VDdce\"></div>\n",
       "        <script>netpixi.call('FJW4hCZfpFDDMMCU9VDdce', 'TzosTQQKafi7kP6xic5Mh6', 'changeGraph', 'eyJpZCI6IDI3MCwgInR5cGUiOiAidmVydGV4IiwgInByb3BzIjogeyJzaXplIjogMTYuNjk0NTYwNjY5NDU2MDY3fX0K');</script>\n",
       "    "
      ],
      "text/plain": [
       "<IPython.core.display.HTML object>"
      ]
     },
     "metadata": {},
     "output_type": "display_data"
    },
    {
     "data": {
      "text/html": [
       "\n",
       "        <div id=\"YWizhKaVVYuZ2VpdTYsvj9\"></div>\n",
       "        <script>netpixi.call('YWizhKaVVYuZ2VpdTYsvj9', 'TzosTQQKafi7kP6xic5Mh6', 'changeGraph', 'eyJpZCI6IDcxLCAidHlwZSI6ICJ2ZXJ0ZXgiLCAicHJvcHMiOiB7ImNvbG9yIjogMTY3MTE2ODB9fQo=');</script>\n",
       "    "
      ],
      "text/plain": [
       "<IPython.core.display.HTML object>"
      ]
     },
     "metadata": {},
     "output_type": "display_data"
    },
    {
     "data": {
      "text/html": [
       "\n",
       "        <div id=\"H6EARoWUpJ9jE57JBbvTNt\"></div>\n",
       "        <script>netpixi.call('H6EARoWUpJ9jE57JBbvTNt', 'TzosTQQKafi7kP6xic5Mh6', 'changeGraph', 'eyJpZCI6IDI3MSwgInR5cGUiOiAidmVydGV4IiwgInByb3BzIjogeyJzaXplIjogMTQuMDU4NTc3NDA1ODU3NzR9fQo=');</script>\n",
       "    "
      ],
      "text/plain": [
       "<IPython.core.display.HTML object>"
      ]
     },
     "metadata": {},
     "output_type": "display_data"
    },
    {
     "data": {
      "text/html": [
       "\n",
       "        <div id=\"Ac5TcQ54WGaFG8APT4PVzv\"></div>\n",
       "        <script>netpixi.call('Ac5TcQ54WGaFG8APT4PVzv', 'TzosTQQKafi7kP6xic5Mh6', 'changeGraph', 'eyJpZCI6IDgxLCAidHlwZSI6ICJ2ZXJ0ZXgiLCAicHJvcHMiOiB7ImNvbG9yIjogMTY3MTE2ODB9fQo=');</script>\n",
       "    "
      ],
      "text/plain": [
       "<IPython.core.display.HTML object>"
      ]
     },
     "metadata": {},
     "output_type": "display_data"
    },
    {
     "data": {
      "text/html": [
       "\n",
       "        <div id=\"6Sve3uMM2oqSNYhTeYtEmt\"></div>\n",
       "        <script>netpixi.call('6Sve3uMM2oqSNYhTeYtEmt', 'TzosTQQKafi7kP6xic5Mh6', 'changeGraph', 'eyJpZCI6IDI3MiwgInR5cGUiOiAidmVydGV4IiwgInByb3BzIjogeyJzaXplIjogMTQuNzI4MDMzNDcyODAzMzQ3fX0K');</script>\n",
       "    "
      ],
      "text/plain": [
       "<IPython.core.display.HTML object>"
      ]
     },
     "metadata": {},
     "output_type": "display_data"
    },
    {
     "data": {
      "text/html": [
       "\n",
       "        <div id=\"3JjmyC3kPvWPSJ89LvinF8\"></div>\n",
       "        <script>netpixi.call('3JjmyC3kPvWPSJ89LvinF8', 'TzosTQQKafi7kP6xic5Mh6', 'changeGraph', 'eyJpZCI6IDg3LCAidHlwZSI6ICJ2ZXJ0ZXgiLCAicHJvcHMiOiB7ImNvbG9yIjogMTY3MTE2ODB9fQo=');</script>\n",
       "    "
      ],
      "text/plain": [
       "<IPython.core.display.HTML object>"
      ]
     },
     "metadata": {},
     "output_type": "display_data"
    },
    {
     "data": {
      "text/html": [
       "\n",
       "        <div id=\"kQfdPq4f2zmCmqPLNQ9674\"></div>\n",
       "        <script>netpixi.call('kQfdPq4f2zmCmqPLNQ9674', 'TzosTQQKafi7kP6xic5Mh6', 'changeGraph', 'eyJpZCI6IDI3MywgInR5cGUiOiAidmVydGV4IiwgInByb3BzIjogeyJzaXplIjogMTAuMjA5MjA1MDIwOTIwNTAyfX0K');</script>\n",
       "    "
      ],
      "text/plain": [
       "<IPython.core.display.HTML object>"
      ]
     },
     "metadata": {},
     "output_type": "display_data"
    },
    {
     "data": {
      "text/html": [
       "\n",
       "        <div id=\"fKqipEUFuDt9CoDMhNWUQe\"></div>\n",
       "        <script>netpixi.call('fKqipEUFuDt9CoDMhNWUQe', 'TzosTQQKafi7kP6xic5Mh6', 'changeGraph', 'eyJpZCI6IDc2LCAidHlwZSI6ICJ2ZXJ0ZXgiLCAicHJvcHMiOiB7ImNvbG9yIjogMTY3MTE2ODB9fQo=');</script>\n",
       "    "
      ],
      "text/plain": [
       "<IPython.core.display.HTML object>"
      ]
     },
     "metadata": {},
     "output_type": "display_data"
    },
    {
     "data": {
      "text/html": [
       "\n",
       "        <div id=\"G5PAUecDUPDQ9Z74jqQEJq\"></div>\n",
       "        <script>netpixi.call('G5PAUecDUPDQ9Z74jqQEJq', 'TzosTQQKafi7kP6xic5Mh6', 'changeGraph', 'eyJpZCI6IDI3NCwgInR5cGUiOiAidmVydGV4IiwgInByb3BzIjogeyJzaXplIjogNDEuMTY2NjY2NjY2NjY2Njd9fQo=');</script>\n",
       "    "
      ],
      "text/plain": [
       "<IPython.core.display.HTML object>"
      ]
     },
     "metadata": {},
     "output_type": "display_data"
    },
    {
     "data": {
      "text/html": [
       "\n",
       "        <div id=\"jPQvQ4ieY8nvxnBHgPfMa4\"></div>\n",
       "        <script>netpixi.call('jPQvQ4ieY8nvxnBHgPfMa4', 'TzosTQQKafi7kP6xic5Mh6', 'changeGraph', 'eyJpZCI6IDgzLCAidHlwZSI6ICJ2ZXJ0ZXgiLCAicHJvcHMiOiB7ImNvbG9yIjogMTY3MTE2ODB9fQo=');</script>\n",
       "    "
      ],
      "text/plain": [
       "<IPython.core.display.HTML object>"
      ]
     },
     "metadata": {},
     "output_type": "display_data"
    },
    {
     "data": {
      "text/html": [
       "\n",
       "        <div id=\"8sRDzHdrpYkswdnGz626Pn\"></div>\n",
       "        <script>netpixi.call('8sRDzHdrpYkswdnGz626Pn', 'TzosTQQKafi7kP6xic5Mh6', 'changeGraph', 'eyJpZCI6IDI3NSwgInR5cGUiOiAidmVydGV4IiwgInByb3BzIjogeyJzaXplIjogMTEuNDY0NDM1MTQ2NDQzNTE1fX0K');</script>\n",
       "    "
      ],
      "text/plain": [
       "<IPython.core.display.HTML object>"
      ]
     },
     "metadata": {},
     "output_type": "display_data"
    },
    {
     "data": {
      "text/html": [
       "\n",
       "        <div id=\"KBgRg6yrh8BzBmeHgN6Xkt\"></div>\n",
       "        <script>netpixi.call('KBgRg6yrh8BzBmeHgN6Xkt', 'TzosTQQKafi7kP6xic5Mh6', 'changeGraph', 'eyJpZCI6IDcyLCAidHlwZSI6ICJ2ZXJ0ZXgiLCAicHJvcHMiOiB7ImNvbG9yIjogMTY3MTE2ODB9fQo=');</script>\n",
       "    "
      ],
      "text/plain": [
       "<IPython.core.display.HTML object>"
      ]
     },
     "metadata": {},
     "output_type": "display_data"
    },
    {
     "data": {
      "text/html": [
       "\n",
       "        <div id=\"Jd5ZNo98oJo4MejbJKAsny\"></div>\n",
       "        <script>netpixi.call('Jd5ZNo98oJo4MejbJKAsny', 'TzosTQQKafi7kP6xic5Mh6', 'changeGraph', 'eyJpZCI6IDI3NiwgInR5cGUiOiAidmVydGV4IiwgInByb3BzIjogeyJzaXplIjogMTIuODQ1MTg4Mjg0NTE4ODI4fX0K');</script>\n",
       "    "
      ],
      "text/plain": [
       "<IPython.core.display.HTML object>"
      ]
     },
     "metadata": {},
     "output_type": "display_data"
    },
    {
     "data": {
      "text/html": [
       "\n",
       "        <div id=\"V9Gq9Y5HaFrnB3VUfgTukp\"></div>\n",
       "        <script>netpixi.call('V9Gq9Y5HaFrnB3VUfgTukp', 'TzosTQQKafi7kP6xic5Mh6', 'changeGraph', 'eyJpZCI6IDc1LCAidHlwZSI6ICJ2ZXJ0ZXgiLCAicHJvcHMiOiB7ImNvbG9yIjogMTY3MTE2ODB9fQo=');</script>\n",
       "    "
      ],
      "text/plain": [
       "<IPython.core.display.HTML object>"
      ]
     },
     "metadata": {},
     "output_type": "display_data"
    },
    {
     "data": {
      "text/html": [
       "\n",
       "        <div id=\"NcEKn4AWpQCkWUwPyuTAE4\"></div>\n",
       "        <script>netpixi.call('NcEKn4AWpQCkWUwPyuTAE4', 'TzosTQQKafi7kP6xic5Mh6', 'changeGraph', 'eyJpZCI6IDI3NywgInR5cGUiOiAidmVydGV4IiwgInByb3BzIjogeyJzaXplIjogMTYuMzE3OTkxNjMxNzk5MTYzfX0K');</script>\n",
       "    "
      ],
      "text/plain": [
       "<IPython.core.display.HTML object>"
      ]
     },
     "metadata": {},
     "output_type": "display_data"
    },
    {
     "data": {
      "text/html": [
       "\n",
       "        <div id=\"aFrMrmLPVtbPNeWtS9E7BM\"></div>\n",
       "        <script>netpixi.call('aFrMrmLPVtbPNeWtS9E7BM', 'TzosTQQKafi7kP6xic5Mh6', 'changeGraph', 'eyJpZCI6IDgwLCAidHlwZSI6ICJ2ZXJ0ZXgiLCAicHJvcHMiOiB7ImNvbG9yIjogMTY3MTE2ODB9fQo=');</script>\n",
       "    "
      ],
      "text/plain": [
       "<IPython.core.display.HTML object>"
      ]
     },
     "metadata": {},
     "output_type": "display_data"
    },
    {
     "data": {
      "text/html": [
       "\n",
       "        <div id=\"XKgEFt75mXxJyDpA3CwEMF\"></div>\n",
       "        <script>netpixi.call('XKgEFt75mXxJyDpA3CwEMF', 'TzosTQQKafi7kP6xic5Mh6', 'changeGraph', 'eyJpZCI6IDI3OCwgInR5cGUiOiAidmVydGV4IiwgInByb3BzIjogeyJzaXplIjogMTEuODQxMDA0MTg0MTAwNDE4fX0K');</script>\n",
       "    "
      ],
      "text/plain": [
       "<IPython.core.display.HTML object>"
      ]
     },
     "metadata": {},
     "output_type": "display_data"
    },
    {
     "data": {
      "text/html": [
       "\n",
       "        <div id=\"cc66dX3rwYfd5SRCMUkzuT\"></div>\n",
       "        <script>netpixi.call('cc66dX3rwYfd5SRCMUkzuT', 'TzosTQQKafi7kP6xic5Mh6', 'changeGraph', 'eyJpZCI6IDYyLCAidHlwZSI6ICJ2ZXJ0ZXgiLCAicHJvcHMiOiB7ImNvbG9yIjogMTY3MTE2ODB9fQo=');</script>\n",
       "    "
      ],
      "text/plain": [
       "<IPython.core.display.HTML object>"
      ]
     },
     "metadata": {},
     "output_type": "display_data"
    },
    {
     "data": {
      "text/html": [
       "\n",
       "        <div id=\"CqC8djgrE34SttuepxvXtz\"></div>\n",
       "        <script>netpixi.call('CqC8djgrE34SttuepxvXtz', 'TzosTQQKafi7kP6xic5Mh6', 'changeGraph', 'eyJpZCI6IDI3OSwgInR5cGUiOiAidmVydGV4IiwgInByb3BzIjogeyJzaXplIjogMTkuMzcyMzg0OTM3MjM4NDkzfX0K');</script>\n",
       "    "
      ],
      "text/plain": [
       "<IPython.core.display.HTML object>"
      ]
     },
     "metadata": {},
     "output_type": "display_data"
    },
    {
     "data": {
      "text/html": [
       "\n",
       "        <div id=\"gSa6mXSmJPooQTPxJsa4Ed\"></div>\n",
       "        <script>netpixi.call('gSa6mXSmJPooQTPxJsa4Ed', 'TzosTQQKafi7kP6xic5Mh6', 'changeGraph', 'eyJpZCI6IDczLCAidHlwZSI6ICJ2ZXJ0ZXgiLCAicHJvcHMiOiB7ImNvbG9yIjogMTY3MTE2ODB9fQo=');</script>\n",
       "    "
      ],
      "text/plain": [
       "<IPython.core.display.HTML object>"
      ]
     },
     "metadata": {},
     "output_type": "display_data"
    },
    {
     "data": {
      "text/html": [
       "\n",
       "        <div id=\"J8Z2vfVhdjSrBqhjHwBs7A\"></div>\n",
       "        <script>netpixi.call('J8Z2vfVhdjSrBqhjHwBs7A', 'TzosTQQKafi7kP6xic5Mh6', 'changeGraph', 'eyJpZCI6IDI4MCwgInR5cGUiOiAidmVydGV4IiwgInByb3BzIjogeyJzaXplIjogMTkuNDU2MDY2OTQ1NjA2NjkzfX0K');</script>\n",
       "    "
      ],
      "text/plain": [
       "<IPython.core.display.HTML object>"
      ]
     },
     "metadata": {},
     "output_type": "display_data"
    },
    {
     "data": {
      "text/html": [
       "\n",
       "        <div id=\"GZ5S8VSxFUQUZ3Hg5PdA9k\"></div>\n",
       "        <script>netpixi.call('GZ5S8VSxFUQUZ3Hg5PdA9k', 'TzosTQQKafi7kP6xic5Mh6', 'changeGraph', 'eyJpZCI6IDc4LCAidHlwZSI6ICJ2ZXJ0ZXgiLCAicHJvcHMiOiB7ImNvbG9yIjogMTY3MTE2ODB9fQo=');</script>\n",
       "    "
      ],
      "text/plain": [
       "<IPython.core.display.HTML object>"
      ]
     },
     "metadata": {},
     "output_type": "display_data"
    },
    {
     "data": {
      "text/html": [
       "\n",
       "        <div id=\"29H7vYiiaoRSdJjH5M3YTE\"></div>\n",
       "        <script>netpixi.call('29H7vYiiaoRSdJjH5M3YTE', 'TzosTQQKafi7kP6xic5Mh6', 'changeGraph', 'eyJpZCI6IDI4MSwgInR5cGUiOiAidmVydGV4IiwgInByb3BzIjogeyJzaXplIjogMTEuNTg5OTU4MTU4OTk1ODE3fX0K');</script>\n",
       "    "
      ],
      "text/plain": [
       "<IPython.core.display.HTML object>"
      ]
     },
     "metadata": {},
     "output_type": "display_data"
    },
    {
     "data": {
      "text/html": [
       "\n",
       "        <div id=\"JN89EEkGLTbaTawqPXysiL\"></div>\n",
       "        <script>netpixi.call('JN89EEkGLTbaTawqPXysiL', 'TzosTQQKafi7kP6xic5Mh6', 'changeGraph', 'eyJpZCI6IDY3LCAidHlwZSI6ICJ2ZXJ0ZXgiLCAicHJvcHMiOiB7ImNvbG9yIjogMTY3MTE2ODB9fQo=');</script>\n",
       "    "
      ],
      "text/plain": [
       "<IPython.core.display.HTML object>"
      ]
     },
     "metadata": {},
     "output_type": "display_data"
    },
    {
     "data": {
      "text/html": [
       "\n",
       "        <div id=\"d3AJF6c3yLynqY2ikHznhQ\"></div>\n",
       "        <script>netpixi.call('d3AJF6c3yLynqY2ikHznhQ', 'TzosTQQKafi7kP6xic5Mh6', 'changeGraph', 'eyJpZCI6IDI4MiwgInR5cGUiOiAidmVydGV4IiwgInByb3BzIjogeyJzaXplIjogMTguOTUzOTc0ODk1Mzk3NDg2fX0K');</script>\n",
       "    "
      ],
      "text/plain": [
       "<IPython.core.display.HTML object>"
      ]
     },
     "metadata": {},
     "output_type": "display_data"
    },
    {
     "data": {
      "text/html": [
       "\n",
       "        <div id=\"oN7B9e8XPVQDTcghCP3Jdz\"></div>\n",
       "        <script>netpixi.call('oN7B9e8XPVQDTcghCP3Jdz', 'TzosTQQKafi7kP6xic5Mh6', 'changeGraph', 'eyJpZCI6IDkzLCAidHlwZSI6ICJ2ZXJ0ZXgiLCAicHJvcHMiOiB7ImNvbG9yIjogMTY3MTE2ODB9fQo=');</script>\n",
       "    "
      ],
      "text/plain": [
       "<IPython.core.display.HTML object>"
      ]
     },
     "metadata": {},
     "output_type": "display_data"
    },
    {
     "data": {
      "text/html": [
       "\n",
       "        <div id=\"didw3EmgorGcFFD3zXYKTj\"></div>\n",
       "        <script>netpixi.call('didw3EmgorGcFFD3zXYKTj', 'TzosTQQKafi7kP6xic5Mh6', 'changeGraph', 'eyJpZCI6IDI4MywgInR5cGUiOiAidmVydGV4IiwgInByb3BzIjogeyJzaXplIjogMTQuMzA5NjIzNDMwOTYyMzQzfX0K');</script>\n",
       "    "
      ],
      "text/plain": [
       "<IPython.core.display.HTML object>"
      ]
     },
     "metadata": {},
     "output_type": "display_data"
    },
    {
     "data": {
      "text/html": [
       "\n",
       "        <div id=\"5kvMVpTajPTiTiReMror9t\"></div>\n",
       "        <script>netpixi.call('5kvMVpTajPTiTiReMror9t', 'TzosTQQKafi7kP6xic5Mh6', 'changeGraph', 'eyJpZCI6IDY3LCAidHlwZSI6ICJ2ZXJ0ZXgiLCAicHJvcHMiOiB7ImNvbG9yIjogMTY3MTE2ODB9fQo=');</script>\n",
       "    "
      ],
      "text/plain": [
       "<IPython.core.display.HTML object>"
      ]
     },
     "metadata": {},
     "output_type": "display_data"
    },
    {
     "data": {
      "text/html": [
       "\n",
       "        <div id=\"eYtF259RTQCpZfVpb9ynbo\"></div>\n",
       "        <script>netpixi.call('eYtF259RTQCpZfVpb9ynbo', 'TzosTQQKafi7kP6xic5Mh6', 'changeGraph', 'eyJpZCI6IDI4NCwgInR5cGUiOiAidmVydGV4IiwgInByb3BzIjogeyJzaXplIjogMTQuNzY5ODc0NDc2OTg3NDQ3fX0K');</script>\n",
       "    "
      ],
      "text/plain": [
       "<IPython.core.display.HTML object>"
      ]
     },
     "metadata": {},
     "output_type": "display_data"
    },
    {
     "data": {
      "text/html": [
       "\n",
       "        <div id=\"4wcT5kPGYUaZfRyPQ7yaUt\"></div>\n",
       "        <script>netpixi.call('4wcT5kPGYUaZfRyPQ7yaUt', 'TzosTQQKafi7kP6xic5Mh6', 'changeGraph', 'eyJpZCI6IDgwLCAidHlwZSI6ICJ2ZXJ0ZXgiLCAicHJvcHMiOiB7ImNvbG9yIjogMTY3MTE2ODB9fQo=');</script>\n",
       "    "
      ],
      "text/plain": [
       "<IPython.core.display.HTML object>"
      ]
     },
     "metadata": {},
     "output_type": "display_data"
    },
    {
     "data": {
      "text/html": [
       "\n",
       "        <div id=\"FLdtpvT6BVivggjoCq6EBJ\"></div>\n",
       "        <script>netpixi.call('FLdtpvT6BVivggjoCq6EBJ', 'TzosTQQKafi7kP6xic5Mh6', 'changeGraph', 'eyJpZCI6IDI4NSwgInR5cGUiOiAidmVydGV4IiwgInByb3BzIjogeyJzaXplIjogMTIuMTMzODkxMjEzMzg5MTIyfX0K');</script>\n",
       "    "
      ],
      "text/plain": [
       "<IPython.core.display.HTML object>"
      ]
     },
     "metadata": {},
     "output_type": "display_data"
    },
    {
     "data": {
      "text/html": [
       "\n",
       "        <div id=\"bZuoeifqpT3vcUAACPRqfR\"></div>\n",
       "        <script>netpixi.call('bZuoeifqpT3vcUAACPRqfR', 'TzosTQQKafi7kP6xic5Mh6', 'changeGraph', 'eyJpZCI6IDg0LCAidHlwZSI6ICJ2ZXJ0ZXgiLCAicHJvcHMiOiB7ImNvbG9yIjogMTY3MTE2ODB9fQo=');</script>\n",
       "    "
      ],
      "text/plain": [
       "<IPython.core.display.HTML object>"
      ]
     },
     "metadata": {},
     "output_type": "display_data"
    },
    {
     "data": {
      "text/html": [
       "\n",
       "        <div id=\"dUeZTwQtNR5THuMZraWvBz\"></div>\n",
       "        <script>netpixi.call('dUeZTwQtNR5THuMZraWvBz', 'TzosTQQKafi7kP6xic5Mh6', 'changeGraph', 'eyJpZCI6IDI4NiwgInR5cGUiOiAidmVydGV4IiwgInByb3BzIjogeyJzaXplIjogMTUuODk5NTgxNTg5OTU4MTU4fX0K');</script>\n",
       "    "
      ],
      "text/plain": [
       "<IPython.core.display.HTML object>"
      ]
     },
     "metadata": {},
     "output_type": "display_data"
    },
    {
     "data": {
      "text/html": [
       "\n",
       "        <div id=\"KmyjrnbDjvM5VYZsfUz4AV\"></div>\n",
       "        <script>netpixi.call('KmyjrnbDjvM5VYZsfUz4AV', 'TzosTQQKafi7kP6xic5Mh6', 'changeGraph', 'eyJpZCI6IDkwLCAidHlwZSI6ICJ2ZXJ0ZXgiLCAicHJvcHMiOiB7ImNvbG9yIjogMTY3MTE2ODB9fQo=');</script>\n",
       "    "
      ],
      "text/plain": [
       "<IPython.core.display.HTML object>"
      ]
     },
     "metadata": {},
     "output_type": "display_data"
    },
    {
     "data": {
      "text/html": [
       "\n",
       "        <div id=\"RNUpCuXKwVybfNYBvfxDgv\"></div>\n",
       "        <script>netpixi.call('RNUpCuXKwVybfNYBvfxDgv', 'TzosTQQKafi7kP6xic5Mh6', 'changeGraph', 'eyJpZCI6IDI4NywgInR5cGUiOiAidmVydGV4IiwgInByb3BzIjogeyJzaXplIjogMTIuNDY4NjE5MjQ2ODYxOTI1fX0K');</script>\n",
       "    "
      ],
      "text/plain": [
       "<IPython.core.display.HTML object>"
      ]
     },
     "metadata": {},
     "output_type": "display_data"
    },
    {
     "data": {
      "text/html": [
       "\n",
       "        <div id=\"56yXucNjdZtugwFBruoR43\"></div>\n",
       "        <script>netpixi.call('56yXucNjdZtugwFBruoR43', 'TzosTQQKafi7kP6xic5Mh6', 'changeGraph', 'eyJpZCI6IDY2LCAidHlwZSI6ICJ2ZXJ0ZXgiLCAicHJvcHMiOiB7ImNvbG9yIjogMTY3MTE2ODB9fQo=');</script>\n",
       "    "
      ],
      "text/plain": [
       "<IPython.core.display.HTML object>"
      ]
     },
     "metadata": {},
     "output_type": "display_data"
    },
    {
     "data": {
      "text/html": [
       "\n",
       "        <div id=\"4cAob7jJi8EwiccZ2htvfn\"></div>\n",
       "        <script>netpixi.call('4cAob7jJi8EwiccZ2htvfn', 'TzosTQQKafi7kP6xic5Mh6', 'changeGraph', 'eyJpZCI6IDI4OCwgInR5cGUiOiAidmVydGV4IiwgInByb3BzIjogeyJzaXplIjogMTAuNzk0OTc5MDc5NDk3OTA4fX0K');</script>\n",
       "    "
      ],
      "text/plain": [
       "<IPython.core.display.HTML object>"
      ]
     },
     "metadata": {},
     "output_type": "display_data"
    },
    {
     "data": {
      "text/html": [
       "\n",
       "        <div id=\"RdbqEpJY5Ex9iY7LtgrzFR\"></div>\n",
       "        <script>netpixi.call('RdbqEpJY5Ex9iY7LtgrzFR', 'TzosTQQKafi7kP6xic5Mh6', 'changeGraph', 'eyJpZCI6IDgwLCAidHlwZSI6ICJ2ZXJ0ZXgiLCAicHJvcHMiOiB7ImNvbG9yIjogMTY3MTE2ODB9fQo=');</script>\n",
       "    "
      ],
      "text/plain": [
       "<IPython.core.display.HTML object>"
      ]
     },
     "metadata": {},
     "output_type": "display_data"
    },
    {
     "data": {
      "text/html": [
       "\n",
       "        <div id=\"3hhHAyHEZMnZx9FaMqfws7\"></div>\n",
       "        <script>netpixi.call('3hhHAyHEZMnZx9FaMqfws7', 'TzosTQQKafi7kP6xic5Mh6', 'changeGraph', 'eyJpZCI6IDI4OSwgInR5cGUiOiAidmVydGV4IiwgInByb3BzIjogeyJzaXplIjogNDkuMH19Cg==');</script>\n",
       "    "
      ],
      "text/plain": [
       "<IPython.core.display.HTML object>"
      ]
     },
     "metadata": {},
     "output_type": "display_data"
    },
    {
     "data": {
      "text/html": [
       "\n",
       "        <div id=\"RKs9HypBt9r2ajkUfcBFHf\"></div>\n",
       "        <script>netpixi.call('RKs9HypBt9r2ajkUfcBFHf', 'TzosTQQKafi7kP6xic5Mh6', 'changeGraph', 'eyJpZCI6IDgzLCAidHlwZSI6ICJ2ZXJ0ZXgiLCAicHJvcHMiOiB7ImNvbG9yIjogMTY3MTE2ODB9fQo=');</script>\n",
       "    "
      ],
      "text/plain": [
       "<IPython.core.display.HTML object>"
      ]
     },
     "metadata": {},
     "output_type": "display_data"
    },
    {
     "data": {
      "text/html": [
       "\n",
       "        <div id=\"Yta7MrnZu8qXCCcfu9yuXD\"></div>\n",
       "        <script>netpixi.call('Yta7MrnZu8qXCCcfu9yuXD', 'TzosTQQKafi7kP6xic5Mh6', 'changeGraph', 'eyJpZCI6IDI5MCwgInR5cGUiOiAidmVydGV4IiwgInByb3BzIjogeyJzaXplIjogMTUuMDIwOTIwNTAyMDkyMDV9fQo=');</script>\n",
       "    "
      ],
      "text/plain": [
       "<IPython.core.display.HTML object>"
      ]
     },
     "metadata": {},
     "output_type": "display_data"
    },
    {
     "data": {
      "text/html": [
       "\n",
       "        <div id=\"GHwsMhSPKiQ6CwVw7UACt8\"></div>\n",
       "        <script>netpixi.call('GHwsMhSPKiQ6CwVw7UACt8', 'TzosTQQKafi7kP6xic5Mh6', 'changeGraph', 'eyJpZCI6IDcxLCAidHlwZSI6ICJ2ZXJ0ZXgiLCAicHJvcHMiOiB7ImNvbG9yIjogMTY3MTE2ODB9fQo=');</script>\n",
       "    "
      ],
      "text/plain": [
       "<IPython.core.display.HTML object>"
      ]
     },
     "metadata": {},
     "output_type": "display_data"
    },
    {
     "data": {
      "text/html": [
       "\n",
       "        <div id=\"SHoNwwdzY7ogGoMFnMniYP\"></div>\n",
       "        <script>netpixi.call('SHoNwwdzY7ogGoMFnMniYP', 'TzosTQQKafi7kP6xic5Mh6', 'changeGraph', 'eyJpZCI6IDI5MSwgInR5cGUiOiAidmVydGV4IiwgInByb3BzIjogeyJzaXplIjogNDMuODMzMzMzMzMzMzMzMzM2fX0K');</script>\n",
       "    "
      ],
      "text/plain": [
       "<IPython.core.display.HTML object>"
      ]
     },
     "metadata": {},
     "output_type": "display_data"
    },
    {
     "data": {
      "text/html": [
       "\n",
       "        <div id=\"6SCoUFzHJFBkzgobkPVvGx\"></div>\n",
       "        <script>netpixi.call('6SCoUFzHJFBkzgobkPVvGx', 'TzosTQQKafi7kP6xic5Mh6', 'changeGraph', 'eyJpZCI6IDc5LCAidHlwZSI6ICJ2ZXJ0ZXgiLCAicHJvcHMiOiB7ImNvbG9yIjogMTY3MTE2ODB9fQo=');</script>\n",
       "    "
      ],
      "text/plain": [
       "<IPython.core.display.HTML object>"
      ]
     },
     "metadata": {},
     "output_type": "display_data"
    },
    {
     "data": {
      "text/html": [
       "\n",
       "        <div id=\"FcoZ3y4bU9PrgEbbGD6HTm\"></div>\n",
       "        <script>netpixi.call('FcoZ3y4bU9PrgEbbGD6HTm', 'TzosTQQKafi7kP6xic5Mh6', 'changeGraph', 'eyJpZCI6IDI5MiwgInR5cGUiOiAidmVydGV4IiwgInByb3BzIjogeyJzaXplIjogMTUuNDgxMTcxNTQ4MTE3MTUzfX0K');</script>\n",
       "    "
      ],
      "text/plain": [
       "<IPython.core.display.HTML object>"
      ]
     },
     "metadata": {},
     "output_type": "display_data"
    },
    {
     "data": {
      "text/html": [
       "\n",
       "        <div id=\"dSFhWuqRx3APgzue3pYJYx\"></div>\n",
       "        <script>netpixi.call('dSFhWuqRx3APgzue3pYJYx', 'TzosTQQKafi7kP6xic5Mh6', 'changeGraph', 'eyJpZCI6IDk3LCAidHlwZSI6ICJ2ZXJ0ZXgiLCAicHJvcHMiOiB7ImNvbG9yIjogMTY3MTE2ODB9fQo=');</script>\n",
       "    "
      ],
      "text/plain": [
       "<IPython.core.display.HTML object>"
      ]
     },
     "metadata": {},
     "output_type": "display_data"
    },
    {
     "data": {
      "text/html": [
       "\n",
       "        <div id=\"GN4LBMLxiuSMXBbDsm6SXD\"></div>\n",
       "        <script>netpixi.call('GN4LBMLxiuSMXBbDsm6SXD', 'TzosTQQKafi7kP6xic5Mh6', 'changeGraph', 'eyJpZCI6IDI5MywgInR5cGUiOiAidmVydGV4IiwgInByb3BzIjogeyJzaXplIjogNDAuNX19Cg==');</script>\n",
       "    "
      ],
      "text/plain": [
       "<IPython.core.display.HTML object>"
      ]
     },
     "metadata": {},
     "output_type": "display_data"
    },
    {
     "data": {
      "text/html": [
       "\n",
       "        <div id=\"cmkyzSCMNEHqfGNtH8qPtR\"></div>\n",
       "        <script>netpixi.call('cmkyzSCMNEHqfGNtH8qPtR', 'TzosTQQKafi7kP6xic5Mh6', 'changeGraph', 'eyJpZCI6IDg4LCAidHlwZSI6ICJ2ZXJ0ZXgiLCAicHJvcHMiOiB7ImNvbG9yIjogMTY3MTE2ODB9fQo=');</script>\n",
       "    "
      ],
      "text/plain": [
       "<IPython.core.display.HTML object>"
      ]
     },
     "metadata": {},
     "output_type": "display_data"
    },
    {
     "data": {
      "text/html": [
       "\n",
       "        <div id=\"QTBnDLX5mnZk7UpbpXNXjz\"></div>\n",
       "        <script>netpixi.call('QTBnDLX5mnZk7UpbpXNXjz', 'TzosTQQKafi7kP6xic5Mh6', 'changeGraph', 'eyJpZCI6IDI5NCwgInR5cGUiOiAidmVydGV4IiwgInByb3BzIjogeyJzaXplIjogMTIuODg3MDI5Mjg4NzAyOTI4fX0K');</script>\n",
       "    "
      ],
      "text/plain": [
       "<IPython.core.display.HTML object>"
      ]
     },
     "metadata": {},
     "output_type": "display_data"
    },
    {
     "data": {
      "text/html": [
       "\n",
       "        <div id=\"doqHYFPdq7TEBxBagGiMBA\"></div>\n",
       "        <script>netpixi.call('doqHYFPdq7TEBxBagGiMBA', 'TzosTQQKafi7kP6xic5Mh6', 'changeGraph', 'eyJpZCI6IDc2LCAidHlwZSI6ICJ2ZXJ0ZXgiLCAicHJvcHMiOiB7ImNvbG9yIjogMTY3MTE2ODB9fQo=');</script>\n",
       "    "
      ],
      "text/plain": [
       "<IPython.core.display.HTML object>"
      ]
     },
     "metadata": {},
     "output_type": "display_data"
    },
    {
     "data": {
      "text/html": [
       "\n",
       "        <div id=\"HdjaXHS2Nwt8WbQeVqkUTd\"></div>\n",
       "        <script>netpixi.call('HdjaXHS2Nwt8WbQeVqkUTd', 'TzosTQQKafi7kP6xic5Mh6', 'changeGraph', 'eyJpZCI6IDI5NSwgInR5cGUiOiAidmVydGV4IiwgInByb3BzIjogeyJzaXplIjogMTIuOTI4ODcwMjkyODg3MDN9fQo=');</script>\n",
       "    "
      ],
      "text/plain": [
       "<IPython.core.display.HTML object>"
      ]
     },
     "metadata": {},
     "output_type": "display_data"
    },
    {
     "data": {
      "text/html": [
       "\n",
       "        <div id=\"MpXbTkPoQLHwGh29FpXmkg\"></div>\n",
       "        <script>netpixi.call('MpXbTkPoQLHwGh29FpXmkg', 'TzosTQQKafi7kP6xic5Mh6', 'changeGraph', 'eyJpZCI6IDc4LCAidHlwZSI6ICJ2ZXJ0ZXgiLCAicHJvcHMiOiB7ImNvbG9yIjogMTY3MTE2ODB9fQo=');</script>\n",
       "    "
      ],
      "text/plain": [
       "<IPython.core.display.HTML object>"
      ]
     },
     "metadata": {},
     "output_type": "display_data"
    },
    {
     "data": {
      "text/html": [
       "\n",
       "        <div id=\"UBVSB8ApLSGGanm9p7TFBB\"></div>\n",
       "        <script>netpixi.call('UBVSB8ApLSGGanm9p7TFBB', 'TzosTQQKafi7kP6xic5Mh6', 'changeGraph', 'eyJpZCI6IDI5NiwgInR5cGUiOiAidmVydGV4IiwgInByb3BzIjogeyJzaXplIjogMTkuOTE2MzE3OTkxNjMxOH19Cg==');</script>\n",
       "    "
      ],
      "text/plain": [
       "<IPython.core.display.HTML object>"
      ]
     },
     "metadata": {},
     "output_type": "display_data"
    },
    {
     "data": {
      "text/html": [
       "\n",
       "        <div id=\"7UbQqUkwRE5Q9RW2HVqHNJ\"></div>\n",
       "        <script>netpixi.call('7UbQqUkwRE5Q9RW2HVqHNJ', 'TzosTQQKafi7kP6xic5Mh6', 'changeGraph', 'eyJpZCI6IDgyLCAidHlwZSI6ICJ2ZXJ0ZXgiLCAicHJvcHMiOiB7ImNvbG9yIjogMTY3MTE2ODB9fQo=');</script>\n",
       "    "
      ],
      "text/plain": [
       "<IPython.core.display.HTML object>"
      ]
     },
     "metadata": {},
     "output_type": "display_data"
    },
    {
     "data": {
      "text/html": [
       "\n",
       "        <div id=\"ApPMfFPdiNjJqcjhQrm48E\"></div>\n",
       "        <script>netpixi.call('ApPMfFPdiNjJqcjhQrm48E', 'TzosTQQKafi7kP6xic5Mh6', 'changeGraph', 'eyJpZCI6IDI5NywgInR5cGUiOiAidmVydGV4IiwgInByb3BzIjogeyJzaXplIjogMTUuMTA0NjAyNTEwNDYwMjV9fQo=');</script>\n",
       "    "
      ],
      "text/plain": [
       "<IPython.core.display.HTML object>"
      ]
     },
     "metadata": {},
     "output_type": "display_data"
    },
    {
     "data": {
      "text/html": [
       "\n",
       "        <div id=\"fXbDXdyXvdecqH26dcfBTY\"></div>\n",
       "        <script>netpixi.call('fXbDXdyXvdecqH26dcfBTY', 'TzosTQQKafi7kP6xic5Mh6', 'changeGraph', 'eyJpZCI6IDkzLCAidHlwZSI6ICJ2ZXJ0ZXgiLCAicHJvcHMiOiB7ImNvbG9yIjogMTY3MTE2ODB9fQo=');</script>\n",
       "    "
      ],
      "text/plain": [
       "<IPython.core.display.HTML object>"
      ]
     },
     "metadata": {},
     "output_type": "display_data"
    },
    {
     "data": {
      "text/html": [
       "\n",
       "        <div id=\"WAva7qjGwLXoCq26DFnxoU\"></div>\n",
       "        <script>netpixi.call('WAva7qjGwLXoCq26DFnxoU', 'TzosTQQKafi7kP6xic5Mh6', 'changeGraph', 'eyJpZCI6IDI5OCwgInR5cGUiOiAidmVydGV4IiwgInByb3BzIjogeyJzaXplIjogMTQuNjg2MTkyNDY4NjE5MjQ3fX0K');</script>\n",
       "    "
      ],
      "text/plain": [
       "<IPython.core.display.HTML object>"
      ]
     },
     "metadata": {},
     "output_type": "display_data"
    },
    {
     "data": {
      "text/html": [
       "\n",
       "        <div id=\"ATkvkNsUAwUEpXwTQHEkFp\"></div>\n",
       "        <script>netpixi.call('ATkvkNsUAwUEpXwTQHEkFp', 'TzosTQQKafi7kP6xic5Mh6', 'changeGraph', 'eyJpZCI6IDgxLCAidHlwZSI6ICJ2ZXJ0ZXgiLCAicHJvcHMiOiB7ImNvbG9yIjogMTY3MTE2ODB9fQo=');</script>\n",
       "    "
      ],
      "text/plain": [
       "<IPython.core.display.HTML object>"
      ]
     },
     "metadata": {},
     "output_type": "display_data"
    }
   ],
   "source": [
    "lista_int_coreness = []\n",
    "lista_float_coreness = []\n",
    "\n",
    "# Adiciona propriedades ao nó\n",
    "g.add_vp('core')\n",
    "g.add_vp('coreness')\n",
    "\n",
    "# ---- Funções ----\n",
    "\n",
    "def surprise():\n",
    "    matrix = spectral.adjacency(g)\n",
    "    algorithm = cpnet.Surprise()\n",
    "    algorithm.detect(matrix)\n",
    "    return algorithm.get_coreness()\n",
    "\n",
    "def rombach():\n",
    "    matrix = spectral.adjacency(g)\n",
    "    algorithm = cpnet.Rombach()\n",
    "    algorithm.detect(matrix)\n",
    "    return algorithm.get_coreness()\n",
    "\n",
    "# ---- Roda Algorítimo ----\n",
    "c_core = surprise()\n",
    "c_coreness = rombach()\n",
    "\n",
    "\n",
    "for i, coreness in c_core.items():\n",
    "    v = g.get_vertex_by_index(i)\n",
    "    v['core'] = int(coreness)\n",
    "    lista_int_coreness.append(int(coreness))\n",
    "df_nodes['core'] = lista_int_coreness\n",
    "\n",
    "for i, coreness in c_coreness.items():\n",
    "    v = g.get_vertex_by_index(i)\n",
    "    v['coreness'] = float(coreness)\n",
    "    lista_float_coreness.append(float(coreness))\n",
    "df_nodes['coreness'] = lista_float_coreness\n",
    "\n",
    "\n",
    "# ---- Modifica cor ----\n",
    "for v in g.all_vertices():\n",
    "    if v['core'] == 1:\n",
    "        r.vertex(v['id'], color=0xff0000)\n",
    "    else:\n",
    "        r.vertex(v['id'], color=0x00ff00)\n",
    "        \n",
    "# ---- Modifica tamanho ----\n",
    "\n",
    "for v in g.all_vertices():\n",
    "    r.vertex(v['id'], size=(10 + 40 * v['coreness']))\n",
    "    r.vertex(v['Metacritic score'], color=0xff0000)    "
   ]
  },
  {
   "cell_type": "markdown",
   "metadata": {},
   "source": [
    "### Regressão Linear\n",
    "\n",
    "-------"
   ]
  },
  {
   "cell_type": "code",
   "execution_count": 32,
   "metadata": {},
   "outputs": [],
   "source": [
    "# Rename Metacritc Score name\n",
    "df_nodes.rename(columns = {'Metacritic score':'MetacriticScore'}, inplace = True)"
   ]
  },
  {
   "cell_type": "code",
   "execution_count": 33,
   "metadata": {},
   "outputs": [
    {
     "data": {
      "image/png": "[encoded data removed]",
      "text/plain": [
       "<Figure size 640x480 with 1 Axes>"
      ]
     },
     "metadata": {},
     "output_type": "display_data"
    }
   ],
   "source": [
    "sns.scatterplot(x=df_nodes['coreness'], y=df_nodes['MetacriticScore']);"
   ]
  },
  {
   "cell_type": "code",
   "execution_count": 34,
   "metadata": {},
   "outputs": [
    {
     "data": {
      "image/png": "[encoded data removed]",
      "text/plain": [
       "<Figure size 640x480 with 1 Axes>"
      ]
     },
     "metadata": {},
     "output_type": "display_data"
    }
   ],
   "source": [
    "sns.regplot(x=df_nodes['coreness'], y=df_nodes['MetacriticScore']);"
   ]
  },
  {
   "cell_type": "code",
   "execution_count": 35,
   "metadata": {},
   "outputs": [],
   "source": [
    "result = reg.linear(data=df_nodes, formula=\" MetacriticScore ~ coreness\")"
   ]
  },
  {
   "cell_type": "code",
   "execution_count": 36,
   "metadata": {},
   "outputs": [
    {
     "data": {
      "text/html": [
       "<table class=\"simpletable\">\n",
       "<caption>OLS Regression Results</caption>\n",
       "<tr>\n",
       "  <th>Dep. Variable:</th>     <td>MetacriticScore</td> <th>  R-squared:         </th> <td>   0.000</td>\n",
       "</tr>\n",
       "<tr>\n",
       "  <th>Model:</th>                   <td>OLS</td>       <th>  Adj. R-squared:    </th> <td>  -0.003</td>\n",
       "</tr>\n",
       "<tr>\n",
       "  <th>Method:</th>             <td>Least Squares</td>  <th>  F-statistic:       </th> <td> 0.01510</td>\n",
       "</tr>\n",
       "<tr>\n",
       "  <th>Date:</th>             <td>Fri, 26 May 2023</td> <th>  Prob (F-statistic):</th>  <td> 0.902</td> \n",
       "</tr>\n",
       "<tr>\n",
       "  <th>Time:</th>                 <td>01:52:28</td>     <th>  Log-Likelihood:    </th> <td> -1028.0</td>\n",
       "</tr>\n",
       "<tr>\n",
       "  <th>No. Observations:</th>      <td>   299</td>      <th>  AIC:               </th> <td>   2060.</td>\n",
       "</tr>\n",
       "<tr>\n",
       "  <th>Df Residuals:</th>          <td>   297</td>      <th>  BIC:               </th> <td>   2067.</td>\n",
       "</tr>\n",
       "<tr>\n",
       "  <th>Df Model:</th>              <td>     1</td>      <th>                     </th>     <td> </td>   \n",
       "</tr>\n",
       "<tr>\n",
       "  <th>Covariance Type:</th>      <td>nonrobust</td>    <th>                     </th>     <td> </td>   \n",
       "</tr>\n",
       "</table>\n",
       "<table class=\"simpletable\">\n",
       "<tr>\n",
       "      <td></td>         <th>coef</th>     <th>std err</th>      <th>t</th>      <th>P>|t|</th>  <th>[0.025</th>    <th>0.975]</th>  \n",
       "</tr>\n",
       "<tr>\n",
       "  <th>Intercept</th> <td>   76.9155</td> <td>    0.585</td> <td>  131.540</td> <td> 0.000</td> <td>   75.765</td> <td>   78.066</td>\n",
       "</tr>\n",
       "<tr>\n",
       "  <th>coreness</th>  <td>    0.1749</td> <td>    1.423</td> <td>    0.123</td> <td> 0.902</td> <td>   -2.626</td> <td>    2.975</td>\n",
       "</tr>\n",
       "</table>\n",
       "<table class=\"simpletable\">\n",
       "<tr>\n",
       "  <th>Omnibus:</th>       <td>29.230</td> <th>  Durbin-Watson:     </th> <td>   1.968</td>\n",
       "</tr>\n",
       "<tr>\n",
       "  <th>Prob(Omnibus):</th> <td> 0.000</td> <th>  Jarque-Bera (JB):  </th> <td>  40.267</td>\n",
       "</tr>\n",
       "<tr>\n",
       "  <th>Skew:</th>          <td>-0.672</td> <th>  Prob(JB):          </th> <td>1.80e-09</td>\n",
       "</tr>\n",
       "<tr>\n",
       "  <th>Kurtosis:</th>      <td> 4.195</td> <th>  Cond. No.          </th> <td>    3.52</td>\n",
       "</tr>\n",
       "</table><br/><br/>Notes:<br/>[1] Standard Errors assume that the covariance matrix of the errors is correctly specified."
      ],
      "text/plain": [
       "<class 'statsmodels.iolib.summary.Summary'>\n",
       "\"\"\"\n",
       "                            OLS Regression Results                            \n",
       "==============================================================================\n",
       "Dep. Variable:        MetacriticScore   R-squared:                       0.000\n",
       "Model:                            OLS   Adj. R-squared:                 -0.003\n",
       "Method:                 Least Squares   F-statistic:                   0.01510\n",
       "Date:                Fri, 26 May 2023   Prob (F-statistic):              0.902\n",
       "Time:                        01:52:28   Log-Likelihood:                -1028.0\n",
       "No. Observations:                 299   AIC:                             2060.\n",
       "Df Residuals:                     297   BIC:                             2067.\n",
       "Df Model:                           1                                         \n",
       "Covariance Type:            nonrobust                                         \n",
       "==============================================================================\n",
       "                 coef    std err          t      P>|t|      [0.025      0.975]\n",
       "------------------------------------------------------------------------------\n",
       "Intercept     76.9155      0.585    131.540      0.000      75.765      78.066\n",
       "coreness       0.1749      1.423      0.123      0.902      -2.626       2.975\n",
       "==============================================================================\n",
       "Omnibus:                       29.230   Durbin-Watson:                   1.968\n",
       "Prob(Omnibus):                  0.000   Jarque-Bera (JB):               40.267\n",
       "Skew:                          -0.672   Prob(JB):                     1.80e-09\n",
       "Kurtosis:                       4.195   Cond. No.                         3.52\n",
       "==============================================================================\n",
       "\n",
       "Notes:\n",
       "[1] Standard Errors assume that the covariance matrix of the errors is correctly specified.\n",
       "\"\"\""
      ]
     },
     "execution_count": 36,
     "metadata": {},
     "output_type": "execute_result"
    }
   ],
   "source": [
    "result.summary()"
   ]
  },
  {
   "cell_type": "code",
   "execution_count": 37,
   "metadata": {},
   "outputs": [
    {
     "data": {
      "text/html": [
       "<style type=\"text/css\">\n",
       "</style>\n",
       "<table id=\"T_5cd48\">\n",
       "  <thead>\n",
       "    <tr>\n",
       "      <th id=\"T_5cd48_level0_col0\" class=\"col_heading level0 col0\" >variable</th>\n",
       "      <th id=\"T_5cd48_level0_col1\" class=\"col_heading level0 col1\" >coefficient</th>\n",
       "      <th id=\"T_5cd48_level0_col2\" class=\"col_heading level0 col2\" >std error</th>\n",
       "      <th id=\"T_5cd48_level0_col3\" class=\"col_heading level0 col3\" >p-value</th>\n",
       "    </tr>\n",
       "  </thead>\n",
       "  <tbody>\n",
       "    <tr>\n",
       "      <td id=\"T_5cd48_row0_col0\" class=\"data row0 col0\" >coreness</td>\n",
       "      <td id=\"T_5cd48_row0_col1\" class=\"data row0 col1\" >0.174856</td>\n",
       "      <td id=\"T_5cd48_row0_col2\" class=\"data row0 col2\" >1.423099</td>\n",
       "      <td id=\"T_5cd48_row0_col3\" class=\"data row0 col3\" >0.902293</td>\n",
       "    </tr>\n",
       "  </tbody>\n",
       "</table>\n"
      ],
      "text/plain": [
       "<pandas.io.formats.style.Styler at 0x7f7437425210>"
      ]
     },
     "execution_count": 37,
     "metadata": {},
     "output_type": "execute_result"
    }
   ],
   "source": [
    "result.micro_summary()"
   ]
  },
  {
   "cell_type": "code",
   "execution_count": 38,
   "metadata": {},
   "outputs": [
    {
     "data": {
      "image/png": "[encoded data removed]",
      "text/plain": [
       "<Figure size 1280x480 with 2 Axes>"
      ]
     },
     "metadata": {},
     "output_type": "display_data"
    }
   ],
   "source": [
    "result.plot_residuals()"
   ]
  },
  {
   "cell_type": "code",
   "execution_count": 39,
   "metadata": {},
   "outputs": [],
   "source": [
    "# Observa-se um treshold de divisão no coreness, dessa forma, podemos dividir esses dados em dois conjuntos\n",
    "# E assim aplicar uma regressão em cada metade.\n",
    "\n",
    "threshold_coreness = 0.5\n",
    "\n",
    "df_nodes_menor = df_nodes[df_nodes['coreness'] < threshold_coreness]\n",
    "df_nodes_maior =  df_nodes[df_nodes['coreness'] > threshold_coreness]"
   ]
  },
  {
   "cell_type": "code",
   "execution_count": 41,
   "metadata": {},
   "outputs": [
    {
     "data": {
      "text/html": [
       "<div>\n",
       "<style scoped>\n",
       "    .dataframe tbody tr th:only-of-type {\n",
       "        vertical-align: middle;\n",
       "    }\n",
       "\n",
       "    .dataframe tbody tr th {\n",
       "        vertical-align: top;\n",
       "    }\n",
       "\n",
       "    .dataframe thead th {\n",
       "        text-align: right;\n",
       "    }\n",
       "</style>\n",
       "<table border=\"1\" class=\"dataframe\">\n",
       "  <thead>\n",
       "    <tr style=\"text-align: right;\">\n",
       "      <th></th>\n",
       "      <th>id</th>\n",
       "      <th>Tags</th>\n",
       "      <th>MetacriticScore</th>\n",
       "      <th>core</th>\n",
       "      <th>coreness</th>\n",
       "    </tr>\n",
       "  </thead>\n",
       "  <tbody>\n",
       "    <tr>\n",
       "      <th>0</th>\n",
       "      <td>0</td>\n",
       "      <td>[Rhythm, VR, Multiplayer, Music, Racing, PvP, ...</td>\n",
       "      <td>87</td>\n",
       "      <td>0</td>\n",
       "      <td>0.102510</td>\n",
       "    </tr>\n",
       "    <tr>\n",
       "      <th>1</th>\n",
       "      <td>1</td>\n",
       "      <td>[Management, Simulation, Anime, Sexual Content...</td>\n",
       "      <td>73</td>\n",
       "      <td>0</td>\n",
       "      <td>0.049163</td>\n",
       "    </tr>\n",
       "    <tr>\n",
       "      <th>2</th>\n",
       "      <td>2</td>\n",
       "      <td>[Casual, Simulation, Strategy, Indie, Manageme...</td>\n",
       "      <td>87</td>\n",
       "      <td>0</td>\n",
       "      <td>0.139121</td>\n",
       "    </tr>\n",
       "    <tr>\n",
       "      <th>3</th>\n",
       "      <td>3</td>\n",
       "      <td>[Puzzle, Difficult, Indie, Singleplayer, Sokob...</td>\n",
       "      <td>76</td>\n",
       "      <td>0</td>\n",
       "      <td>0.115063</td>\n",
       "    </tr>\n",
       "    <tr>\n",
       "      <th>4</th>\n",
       "      <td>4</td>\n",
       "      <td>[RPG, Choices Matter, Story Rich, Detective, T...</td>\n",
       "      <td>67</td>\n",
       "      <td>1</td>\n",
       "      <td>0.244770</td>\n",
       "    </tr>\n",
       "  </tbody>\n",
       "</table>\n",
       "</div>"
      ],
      "text/plain": [
       "   id                                               Tags  MetacriticScore  \\\n",
       "0   0  [Rhythm, VR, Multiplayer, Music, Racing, PvP, ...               87   \n",
       "1   1  [Management, Simulation, Anime, Sexual Content...               73   \n",
       "2   2  [Casual, Simulation, Strategy, Indie, Manageme...               87   \n",
       "3   3  [Puzzle, Difficult, Indie, Singleplayer, Sokob...               76   \n",
       "4   4  [RPG, Choices Matter, Story Rich, Detective, T...               67   \n",
       "\n",
       "   core  coreness  \n",
       "0     0  0.102510  \n",
       "1     0  0.049163  \n",
       "2     0  0.139121  \n",
       "3     0  0.115063  \n",
       "4     1  0.244770  "
      ]
     },
     "execution_count": 41,
     "metadata": {},
     "output_type": "execute_result"
    }
   ],
   "source": [
    "df_nodes_menor.head()"
   ]
  },
  {
   "cell_type": "code",
   "execution_count": 42,
   "metadata": {},
   "outputs": [
    {
     "data": {
      "text/html": [
       "<div>\n",
       "<style scoped>\n",
       "    .dataframe tbody tr th:only-of-type {\n",
       "        vertical-align: middle;\n",
       "    }\n",
       "\n",
       "    .dataframe tbody tr th {\n",
       "        vertical-align: top;\n",
       "    }\n",
       "\n",
       "    .dataframe thead th {\n",
       "        text-align: right;\n",
       "    }\n",
       "</style>\n",
       "<table border=\"1\" class=\"dataframe\">\n",
       "  <thead>\n",
       "    <tr style=\"text-align: right;\">\n",
       "      <th></th>\n",
       "      <th>id</th>\n",
       "      <th>Tags</th>\n",
       "      <th>MetacriticScore</th>\n",
       "      <th>core</th>\n",
       "      <th>coreness</th>\n",
       "    </tr>\n",
       "  </thead>\n",
       "  <tbody>\n",
       "    <tr>\n",
       "      <th>13</th>\n",
       "      <td>13</td>\n",
       "      <td>[RPG, Adventure, Female Protagonist, JRPG, Act...</td>\n",
       "      <td>74</td>\n",
       "      <td>1</td>\n",
       "      <td>0.833333</td>\n",
       "    </tr>\n",
       "    <tr>\n",
       "      <th>18</th>\n",
       "      <td>18</td>\n",
       "      <td>[Casual, Point &amp; Click, Female Protagonist, Cu...</td>\n",
       "      <td>72</td>\n",
       "      <td>1</td>\n",
       "      <td>0.879167</td>\n",
       "    </tr>\n",
       "    <tr>\n",
       "      <th>22</th>\n",
       "      <td>22</td>\n",
       "      <td>[Indie, Action, Action Roguelike, Pixel Graphi...</td>\n",
       "      <td>80</td>\n",
       "      <td>1</td>\n",
       "      <td>0.862500</td>\n",
       "    </tr>\n",
       "    <tr>\n",
       "      <th>26</th>\n",
       "      <td>26</td>\n",
       "      <td>[Great Soundtrack, Music, Story Rich, Singlepl...</td>\n",
       "      <td>83</td>\n",
       "      <td>1</td>\n",
       "      <td>0.850000</td>\n",
       "    </tr>\n",
       "    <tr>\n",
       "      <th>28</th>\n",
       "      <td>28</td>\n",
       "      <td>[Story Rich, Visual Novel, Emotional, Female P...</td>\n",
       "      <td>90</td>\n",
       "      <td>1</td>\n",
       "      <td>0.908333</td>\n",
       "    </tr>\n",
       "  </tbody>\n",
       "</table>\n",
       "</div>"
      ],
      "text/plain": [
       "    id                                               Tags  MetacriticScore  \\\n",
       "13  13  [RPG, Adventure, Female Protagonist, JRPG, Act...               74   \n",
       "18  18  [Casual, Point & Click, Female Protagonist, Cu...               72   \n",
       "22  22  [Indie, Action, Action Roguelike, Pixel Graphi...               80   \n",
       "26  26  [Great Soundtrack, Music, Story Rich, Singlepl...               83   \n",
       "28  28  [Story Rich, Visual Novel, Emotional, Female P...               90   \n",
       "\n",
       "    core  coreness  \n",
       "13     1  0.833333  \n",
       "18     1  0.879167  \n",
       "22     1  0.862500  \n",
       "26     1  0.850000  \n",
       "28     1  0.908333  "
      ]
     },
     "execution_count": 42,
     "metadata": {},
     "output_type": "execute_result"
    }
   ],
   "source": [
    "df_nodes_maior.head()"
   ]
  },
  {
   "cell_type": "code",
   "execution_count": 43,
   "metadata": {},
   "outputs": [
    {
     "data": {
      "image/png": "[encoded data removed]",
      "text/plain": [
       "<Figure size 640x480 with 1 Axes>"
      ]
     },
     "metadata": {},
     "output_type": "display_data"
    }
   ],
   "source": [
    "# ------- Para a primeira metade  -------\n",
    "\n",
    "sns.regplot(x=df_nodes_menor['coreness'], y=df_nodes_menor['MetacriticScore']);"
   ]
  },
  {
   "cell_type": "code",
   "execution_count": 44,
   "metadata": {},
   "outputs": [],
   "source": [
    "result_menor = reg.linear(data=df_nodes_menor, formula='MetacriticScore ~ coreness')"
   ]
  },
  {
   "cell_type": "code",
   "execution_count": 45,
   "metadata": {},
   "outputs": [
    {
     "data": {
      "text/html": [
       "<style type=\"text/css\">\n",
       "</style>\n",
       "<table id=\"T_cd28e\">\n",
       "  <thead>\n",
       "    <tr>\n",
       "      <th id=\"T_cd28e_level0_col0\" class=\"col_heading level0 col0\" >variable</th>\n",
       "      <th id=\"T_cd28e_level0_col1\" class=\"col_heading level0 col1\" >coefficient</th>\n",
       "      <th id=\"T_cd28e_level0_col2\" class=\"col_heading level0 col2\" >std error</th>\n",
       "      <th id=\"T_cd28e_level0_col3\" class=\"col_heading level0 col3\" >p-value</th>\n",
       "    </tr>\n",
       "  </thead>\n",
       "  <tbody>\n",
       "    <tr>\n",
       "      <td id=\"T_cd28e_row0_col0\" class=\"data row0 col0\" >coreness</td>\n",
       "      <td id=\"T_cd28e_row0_col1\" class=\"data row0 col1\" >16.318672</td>\n",
       "      <td id=\"T_cd28e_row0_col2\" class=\"data row0 col2\" >6.978164</td>\n",
       "      <td id=\"T_cd28e_row0_col3\" class=\"data row0 col3\" >0.020188</td>\n",
       "    </tr>\n",
       "  </tbody>\n",
       "</table>\n"
      ],
      "text/plain": [
       "<pandas.io.formats.style.Styler at 0x7f74373aebc0>"
      ]
     },
     "execution_count": 45,
     "metadata": {},
     "output_type": "execute_result"
    }
   ],
   "source": [
    "result_menor.micro_summary()"
   ]
  },
  {
   "cell_type": "code",
   "execution_count": 46,
   "metadata": {},
   "outputs": [
    {
     "data": {
      "image/png": "[encoded data removed]",
      "text/plain": [
       "<Figure size 1280x480 with 2 Axes>"
      ]
     },
     "metadata": {},
     "output_type": "display_data"
    }
   ],
   "source": [
    "result_menor.plot_residuals()"
   ]
  },
  {
   "cell_type": "code",
   "execution_count": 47,
   "metadata": {},
   "outputs": [
    {
     "data": {
      "image/png": "[encoded data removed]",
      "text/plain": [
       "<Figure size 640x480 with 1 Axes>"
      ]
     },
     "metadata": {},
     "output_type": "display_data"
    }
   ],
   "source": [
    "# ------- Para a segunda metade  -------\n",
    "\n",
    "sns.regplot(x=df_nodes_maior['coreness'], y=df_nodes_maior['MetacriticScore']);"
   ]
  },
  {
   "cell_type": "code",
   "execution_count": 48,
   "metadata": {},
   "outputs": [],
   "source": [
    "result_maior = reg.linear(data=df_nodes_maior, formula='MetacriticScore ~ coreness')"
   ]
  },
  {
   "cell_type": "code",
   "execution_count": 49,
   "metadata": {},
   "outputs": [
    {
     "data": {
      "text/html": [
       "<style type=\"text/css\">\n",
       "</style>\n",
       "<table id=\"T_26e1b\">\n",
       "  <thead>\n",
       "    <tr>\n",
       "      <th id=\"T_26e1b_level0_col0\" class=\"col_heading level0 col0\" >variable</th>\n",
       "      <th id=\"T_26e1b_level0_col1\" class=\"col_heading level0 col1\" >coefficient</th>\n",
       "      <th id=\"T_26e1b_level0_col2\" class=\"col_heading level0 col2\" >std error</th>\n",
       "      <th id=\"T_26e1b_level0_col3\" class=\"col_heading level0 col3\" >p-value</th>\n",
       "    </tr>\n",
       "  </thead>\n",
       "  <tbody>\n",
       "    <tr>\n",
       "      <td id=\"T_26e1b_row0_col0\" class=\"data row0 col0\" >coreness</td>\n",
       "      <td id=\"T_26e1b_row0_col1\" class=\"data row0 col1\" >-5.105786</td>\n",
       "      <td id=\"T_26e1b_row0_col2\" class=\"data row0 col2\" >10.873195</td>\n",
       "      <td id=\"T_26e1b_row0_col3\" class=\"data row0 col3\" >0.640450</td>\n",
       "    </tr>\n",
       "  </tbody>\n",
       "</table>\n"
      ],
      "text/plain": [
       "<pandas.io.formats.style.Styler at 0x7f74372caec0>"
      ]
     },
     "execution_count": 49,
     "metadata": {},
     "output_type": "execute_result"
    }
   ],
   "source": [
    "result_maior.micro_summary()"
   ]
  },
  {
   "cell_type": "code",
   "execution_count": 50,
   "metadata": {},
   "outputs": [
    {
     "data": {
      "image/png": "[encoded data removed]",
      "text/plain": [
       "<Figure size 1280x480 with 2 Axes>"
      ]
     },
     "metadata": {},
     "output_type": "display_data"
    }
   ],
   "source": [
    "result_menor.plot_residuals()"
   ]
  }
 ],
 "metadata": {
  "kernelspec": {
   "display_name": "Python 3 (ipykernel)",
   "language": "python",
   "name": "python3"
  },
  "language_info": {
   "codemirror_mode": {
    "name": "ipython",
    "version": 3
   },
   "file_extension": ".py",
   "mimetype": "text/x-python",
   "name": "python",
   "nbconvert_exporter": "python",
   "pygments_lexer": "ipython3",
   "version": "3.10.10"
  }
 },
 "nbformat": 4,
 "nbformat_minor": 4
}
