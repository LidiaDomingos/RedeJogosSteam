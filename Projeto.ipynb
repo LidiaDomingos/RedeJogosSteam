{
 "cells": [
  {
   "cell_type": "markdown",
   "metadata": {},
   "source": [
    "\n",
    "## Projeto | Construido uma rede com jogos da Steam 🎮️\n",
    "\n",
    "    \n",
    "---------------------\n",
    "\n",
    "**Equipe**\n",
    "\n",
    "\n",
    " * Letícia Coêlho Barbosa       | [Github](https://github.com/leticiacb1)\n",
    " <br>\n",
    "\n",
    " * Lídia Alves Chagas Domingos  | [Github](https://github.com/LidiaDomingos)\n",
    " <br>\n",
    "\n",
    " * Lorran Caetano Lopes         | [Github](https://github.com/lorrancmlopes)\n",
    " <br>\n",
    " \n",
    " ---------------------\n",
    "\n",
    "* **Dataset escolhido** : [Jogos da Steam](https://www.kaggle.com/datasets/fronkongames/steam-games-dataset)\n",
    "  \n",
    "  \n",
    "  [Clique aqui](https://www.kaggle.com/datasets/fronkongames/steam-games-dataset) para baixar\n",
    "\n",
    "<br>\n",
    "\n",
    "* **Dataset auxiliar** : [Total Revenue Empresas com Países  | Baixe AQUI](https://drive.google.com/file/d/1DUGhWPNJdPr30eo1oCH9RUPlG_FMHr3L/view?usp=sharin)\n",
    "\n",
    "  [Clique aqui](https://vginsights.com/publishers-database) para visualizar original"
   ]
  },
  {
   "cell_type": "markdown",
   "metadata": {},
   "source": [
    "### O DATASET ESCOLHIDO\n",
    "\n",
    "-------\n",
    "\n",
    "O contexto do projeto engloba os jogos famosos para computadores disponíveis na Steam. Atualmente, a plataforma Steam possui aproximadamente 95 milhões de usuários no mundo todo e é sucesso entre os gamers, sendo a atual líder do mercado. \n",
    "\n",
    "\n",
    "#### Principais colunas\n",
    "<br>\n",
    "\n",
    "O dataset escolhido possui 39 colunas, nesse tópico citaremos a descrições de algumas colunas de maior interesse para analise.\n",
    "\n",
    "* **name** : nome do jogo.\n",
    "<br>\n",
    "\n",
    "* **releaseDate** : data de lançamento.\n",
    "<br>\n",
    "\n",
    "* **price** : preço do jogo.\n",
    "<br>\n",
    "\n",
    "* **metacritic_score** : media das notas dadas por avaliações de profissionais.\n",
    "<br>\n",
    "\n",
    "* **user_score** : media das notas dadas pelos usuários do jogo.\n",
    "<br>\n",
    "\n",
    "* **score_rank** : o ranke do jogo baseado nas avaliações dos usuários.\n",
    "<br>\n",
    "\n",
    "* **developers** : desenvolvedores dos jogos.\n",
    "<br>\n",
    "\n",
    "* **categories** : categoria dos jogos.\n",
    "<br>\n",
    "\n",
    "* **genres** : genero do jogo.\n",
    "<br>\n",
    "\n",
    "* **tags** : Tags do jogo.\n",
    "<br>\n",
    "\n",
    " \n",
    " ### NOSSA REDE\n",
    "\n",
    "-------\n",
    "\n",
    "* **Vértices** : Jogos da Steam.\n",
    "<br>\n",
    "\n",
    "* **Arestas**  : Existe uma aresta entre um jogo 1 e um jogo 2 se o número de tags em comum entre os jogos for superior ou igual a um **threadhold** (definido mais a frente)\n",
    "\n",
    "\n",
    " ### HIPOTESE\n",
    "\n",
    "-------\n",
    "\n",
    "\n",
    "`\"Quanto mais central é a sua posição na rede, maior a média de avaliações dos críticos profissionais.\"`\n",
    "<br>\n",
    "\n",
    "* **Variável de controle**: Tamanho da empresa.\n",
    "<br>\n",
    "\n",
    "* **Variável dependente**:  medida indicativa de centralidade do nó na rede (coreness).\n",
    "<br>\n",
    "\n",
    "* **Variável independente**: dataset[Metacritic score]\n",
    "\n",
    "\n",
    "\n",
    " ### MODELO\n",
    "\n",
    "-------\n",
    "\n",
    "` Metacrit Score ~ (Posição na Rede) + (Tamanho da Empresa) + (Ano de Lançamento) `"
   ]
  },
  {
   "cell_type": "markdown",
   "metadata": {},
   "source": [
    "### ANALISANDO OS DADOS \n",
    "\n",
    "-------"
   ]
  },
  {
   "cell_type": "code",
   "execution_count": 1,
   "metadata": {},
   "outputs": [
    {
     "data": {
      "text/html": [
       "\n",
       "    <script src=\"/files/netpixi.min.js\"></script>\n"
      ],
      "text/plain": [
       "<IPython.core.display.HTML object>"
      ]
     },
     "metadata": {},
     "output_type": "display_data"
    },
    {
     "name": "stderr",
     "output_type": "stream",
     "text": [
      "<frozen importlib._bootstrap>:914: ImportWarning: VendorImporter.find_spec() not found; falling back to find_module()\n"
     ]
    }
   ],
   "source": [
    "# ---------------------------------\n",
    "# ------------ IMPORTS ------------\n",
    "# ---------------------------------\n",
    "\n",
    "import seaborn as sns\n",
    "from netpixi.integration.gt import *\n",
    "from regression.integration.gt import *\n",
    "import netpixi\n",
    "import pandas as pd\n",
    "\n",
    "import numpy as np\n",
    "import seaborn as sns\n",
    "import regression as reg\n",
    "\n",
    "from scipy import stats\n",
    "from matplotlib import pyplot as plt\n",
    "\n",
    "import cpnet\n",
    "from graph_tool import spectral"
   ]
  },
  {
   "cell_type": "code",
   "execution_count": 2,
   "metadata": {},
   "outputs": [],
   "source": [
    "# Grafo não direcional | Informação obtida via documentação\n",
    "g = Graph(directed=False) "
   ]
  },
  {
   "cell_type": "code",
   "execution_count": 3,
   "metadata": {
    "scrolled": false
   },
   "outputs": [
    {
     "name": "stdout",
     "output_type": "stream",
     "text": [
      "\n",
      "> Colunas : ['AppID', 'Name', 'Release date', 'Estimated owners', 'Peak CCU', 'Required age', 'Price', 'DLC count', 'About the game', 'Supported languages', 'Full audio languages', 'Reviews', 'Header image', 'Website', 'Support url', 'Support email', 'Windows', 'Mac', 'Linux', 'Metacritic score', 'Metacritic url', 'User score', 'Positive', 'Negative', 'Score rank', 'Achievements', 'Recommendations', 'Notes', 'Average playtime forever', 'Average playtime two weeks', 'Median playtime forever', 'Median playtime two weeks', 'Developers', 'Publishers', 'Categories', 'Genres', 'Tags', 'Screenshots', 'Movies']\n",
      "\n",
      "\n",
      "> Tamanho do dataset : (71716, 39)\n",
      "\n",
      "\n",
      "> Primeiras linhas dataset : \n",
      "\n"
     ]
    },
    {
     "data": {
      "text/html": [
       "<div>\n",
       "<style scoped>\n",
       "    .dataframe tbody tr th:only-of-type {\n",
       "        vertical-align: middle;\n",
       "    }\n",
       "\n",
       "    .dataframe tbody tr th {\n",
       "        vertical-align: top;\n",
       "    }\n",
       "\n",
       "    .dataframe thead th {\n",
       "        text-align: right;\n",
       "    }\n",
       "</style>\n",
       "<table border=\"1\" class=\"dataframe\">\n",
       "  <thead>\n",
       "    <tr style=\"text-align: right;\">\n",
       "      <th></th>\n",
       "      <th>AppID</th>\n",
       "      <th>Name</th>\n",
       "      <th>Release date</th>\n",
       "      <th>Estimated owners</th>\n",
       "      <th>Peak CCU</th>\n",
       "      <th>Required age</th>\n",
       "      <th>Price</th>\n",
       "      <th>DLC count</th>\n",
       "      <th>About the game</th>\n",
       "      <th>Supported languages</th>\n",
       "      <th>...</th>\n",
       "      <th>Average playtime two weeks</th>\n",
       "      <th>Median playtime forever</th>\n",
       "      <th>Median playtime two weeks</th>\n",
       "      <th>Developers</th>\n",
       "      <th>Publishers</th>\n",
       "      <th>Categories</th>\n",
       "      <th>Genres</th>\n",
       "      <th>Tags</th>\n",
       "      <th>Screenshots</th>\n",
       "      <th>Movies</th>\n",
       "    </tr>\n",
       "  </thead>\n",
       "  <tbody>\n",
       "    <tr>\n",
       "      <th>0</th>\n",
       "      <td>20200</td>\n",
       "      <td>Galactic Bowling</td>\n",
       "      <td>Oct 21, 2008</td>\n",
       "      <td>0 - 20000</td>\n",
       "      <td>0</td>\n",
       "      <td>0</td>\n",
       "      <td>19.99</td>\n",
       "      <td>0</td>\n",
       "      <td>Galactic Bowling is an exaggerated and stylize...</td>\n",
       "      <td>['English']</td>\n",
       "      <td>...</td>\n",
       "      <td>0</td>\n",
       "      <td>0</td>\n",
       "      <td>0</td>\n",
       "      <td>Perpetual FX Creative</td>\n",
       "      <td>Perpetual FX Creative</td>\n",
       "      <td>Single-player,Multi-player,Steam Achievements,...</td>\n",
       "      <td>Casual,Indie,Sports</td>\n",
       "      <td>Indie,Casual,Sports,Bowling</td>\n",
       "      <td>https://cdn.akamai.steamstatic.com/steam/apps/...</td>\n",
       "      <td>http://cdn.akamai.steamstatic.com/steam/apps/2...</td>\n",
       "    </tr>\n",
       "    <tr>\n",
       "      <th>1</th>\n",
       "      <td>655370</td>\n",
       "      <td>Train Bandit</td>\n",
       "      <td>Oct 12, 2017</td>\n",
       "      <td>0 - 20000</td>\n",
       "      <td>0</td>\n",
       "      <td>0</td>\n",
       "      <td>0.99</td>\n",
       "      <td>0</td>\n",
       "      <td>THE LAW!! Looks to be a showdown atop a train....</td>\n",
       "      <td>['English', 'French', 'Italian', 'German', 'Sp...</td>\n",
       "      <td>...</td>\n",
       "      <td>0</td>\n",
       "      <td>0</td>\n",
       "      <td>0</td>\n",
       "      <td>Rusty Moyher</td>\n",
       "      <td>Wild Rooster</td>\n",
       "      <td>Single-player,Steam Achievements,Full controll...</td>\n",
       "      <td>Action,Indie</td>\n",
       "      <td>Indie,Action,Pixel Graphics,2D,Retro,Arcade,Sc...</td>\n",
       "      <td>https://cdn.akamai.steamstatic.com/steam/apps/...</td>\n",
       "      <td>http://cdn.akamai.steamstatic.com/steam/apps/2...</td>\n",
       "    </tr>\n",
       "  </tbody>\n",
       "</table>\n",
       "<p>2 rows × 39 columns</p>\n",
       "</div>"
      ],
      "text/plain": [
       "    AppID              Name  Release date Estimated owners  Peak CCU  \\\n",
       "0   20200  Galactic Bowling  Oct 21, 2008        0 - 20000         0   \n",
       "1  655370      Train Bandit  Oct 12, 2017        0 - 20000         0   \n",
       "\n",
       "   Required age  Price  DLC count  \\\n",
       "0             0  19.99          0   \n",
       "1             0   0.99          0   \n",
       "\n",
       "                                      About the game  \\\n",
       "0  Galactic Bowling is an exaggerated and stylize...   \n",
       "1  THE LAW!! Looks to be a showdown atop a train....   \n",
       "\n",
       "                                 Supported languages  ...  \\\n",
       "0                                        ['English']  ...   \n",
       "1  ['English', 'French', 'Italian', 'German', 'Sp...  ...   \n",
       "\n",
       "  Average playtime two weeks Median playtime forever  \\\n",
       "0                          0                       0   \n",
       "1                          0                       0   \n",
       "\n",
       "  Median playtime two weeks             Developers             Publishers  \\\n",
       "0                         0  Perpetual FX Creative  Perpetual FX Creative   \n",
       "1                         0           Rusty Moyher           Wild Rooster   \n",
       "\n",
       "                                          Categories               Genres  \\\n",
       "0  Single-player,Multi-player,Steam Achievements,...  Casual,Indie,Sports   \n",
       "1  Single-player,Steam Achievements,Full controll...         Action,Indie   \n",
       "\n",
       "                                                Tags  \\\n",
       "0                        Indie,Casual,Sports,Bowling   \n",
       "1  Indie,Action,Pixel Graphics,2D,Retro,Arcade,Sc...   \n",
       "\n",
       "                                         Screenshots  \\\n",
       "0  https://cdn.akamai.steamstatic.com/steam/apps/...   \n",
       "1  https://cdn.akamai.steamstatic.com/steam/apps/...   \n",
       "\n",
       "                                              Movies  \n",
       "0  http://cdn.akamai.steamstatic.com/steam/apps/2...  \n",
       "1  http://cdn.akamai.steamstatic.com/steam/apps/2...  \n",
       "\n",
       "[2 rows x 39 columns]"
      ]
     },
     "execution_count": 3,
     "metadata": {},
     "output_type": "execute_result"
    }
   ],
   "source": [
    "# ----  Lendo o arquivo ----\n",
    "\n",
    "df_principal = pd.read_csv('games.csv')\n",
    "\n",
    "columns = [col for col in df_principal.columns]\n",
    "\n",
    "print(f\"\\n> Colunas : {columns}\\n\")\n",
    "\n",
    "print(f\"\\n> Tamanho do dataset : {df_principal.shape}\\n\")\n",
    "\n",
    "print(f\"\\n> Primeiras linhas dataset : \\n\")\n",
    "df_principal.head(2)"
   ]
  },
  {
   "cell_type": "markdown",
   "metadata": {},
   "source": [
    "\n",
    "\n",
    "#### Descrevendo melhor a coluna Metacritic score"
   ]
  },
  {
   "cell_type": "code",
   "execution_count": 4,
   "metadata": {},
   "outputs": [
    {
     "name": "stdout",
     "output_type": "stream",
     "text": [
      "\n",
      "> Valores únicos presentes:\n",
      "\n",
      " [ 0 62 64 53 84 89 70 86 40 87 92 76 51 49 81 69 72 68 52 82 59 77 79 71\n",
      " 74 73 88 47 75 66 50 63 67 80 58 90 39 78 55 85 65 91 83 57 56 44 60 61\n",
      " 48 46 23 45 94 27 38 30 35 54 41 43 32 34 93 37 36 95 42 29 24 96 20 33\n",
      " 97]\n",
      "\n",
      "\n",
      "> Distribuição dos valores :\n",
      "\n",
      " 0     67938\n",
      "80      183\n",
      "77      165\n",
      "76      164\n",
      "78      161\n",
      "      ...  \n",
      "23        1\n",
      "27        1\n",
      "24        1\n",
      "20        1\n",
      "33        1\n",
      "Name: Metacritic score, Length: 73, dtype: int64\n",
      "\n",
      "\n",
      "> Descrição:\n",
      "\n",
      "count    71716.000000\n",
      "mean         3.834207\n",
      "std         16.437707\n",
      "min          0.000000\n",
      "25%          0.000000\n",
      "50%          0.000000\n",
      "75%          0.000000\n",
      "max         97.000000\n",
      "Name: Metacritic score, dtype: float64\n",
      "\n"
     ]
    }
   ],
   "source": [
    "print(f\"\\n> Valores únicos presentes:\\n\\n {df_principal['Metacritic score'].unique()}\\n\")\n",
    "\n",
    "print(f\"\\n> Distribuição dos valores :\\n\\n {df_principal['Metacritic score'].value_counts()}\\n\")\n",
    "\n",
    "print(f\"\\n> Descrição:\\n\\n{df_principal['Metacritic score'].describe()}\\n\")"
   ]
  },
  {
   "cell_type": "markdown",
   "metadata": {},
   "source": [
    "### LIMPANDO DATASET\n",
    "\n",
    "-------"
   ]
  },
  {
   "cell_type": "code",
   "execution_count": 5,
   "metadata": {},
   "outputs": [
    {
     "name": "stdout",
     "output_type": "stream",
     "text": [
      "\n",
      "> Tamanho do dataset pós limpeza:\n",
      " (299, 40)\n",
      "\n",
      "\n",
      "> Descrição coluna Metacritic score:\n",
      "\n",
      " count    299.000000\n",
      "mean      76.963211\n",
      "std        7.544186\n",
      "min       48.000000\n",
      "25%       73.000000\n",
      "50%       78.000000\n",
      "75%       82.000000\n",
      "max       97.000000\n",
      "Name: Metacritic score, dtype: float64\n",
      "\n"
     ]
    }
   ],
   "source": [
    "# ---- Retirando alguns valores nulos ----\n",
    "\n",
    "df_principal.dropna(subset=['Tags', 'Metacritic score'], inplace=True)\n",
    "df_principal = df_principal[df_principal['Metacritic score'] != 0]\n",
    "\n",
    "\n",
    "# ---- AMOSTRAGEM para anos > 2019 e < 2023 ----\n",
    "\n",
    "df_principal = df_principal[ df_principal[\"Release date\"].map(lambda date: \n",
    "                                                              ((int(date.split(' ')[-1]) > 2020) and \n",
    "                                                               int(date.split(' ')[-1]) < 2023))== True]\n",
    "df_principal.reset_index(inplace=True, drop=True)\n",
    "\n",
    "# Adicionando coluna ReleaseYear\n",
    "df_principal[\"ReleaseYear\"] = df_principal[\"Release date\"].map(lambda date: (int(date.split(' ')[-1])))\n",
    "\n",
    "print(f\"\\n> Tamanho do dataset pós limpeza:\\n {df_principal.shape}\\n\")\n",
    "\n",
    "print(f\"\\n> Descrição coluna Metacritic score:\\n\\n {df_principal['Metacritic score'].describe()}\\n\")"
   ]
  },
  {
   "cell_type": "code",
   "execution_count": 6,
   "metadata": {},
   "outputs": [
    {
     "data": {
      "text/html": [
       "<div>\n",
       "<style scoped>\n",
       "    .dataframe tbody tr th:only-of-type {\n",
       "        vertical-align: middle;\n",
       "    }\n",
       "\n",
       "    .dataframe tbody tr th {\n",
       "        vertical-align: top;\n",
       "    }\n",
       "\n",
       "    .dataframe thead th {\n",
       "        text-align: right;\n",
       "    }\n",
       "</style>\n",
       "<table border=\"1\" class=\"dataframe\">\n",
       "  <thead>\n",
       "    <tr style=\"text-align: right;\">\n",
       "      <th></th>\n",
       "      <th>AppID</th>\n",
       "      <th>Name</th>\n",
       "      <th>Release date</th>\n",
       "      <th>Estimated owners</th>\n",
       "      <th>Peak CCU</th>\n",
       "      <th>Required age</th>\n",
       "      <th>Price</th>\n",
       "      <th>DLC count</th>\n",
       "      <th>About the game</th>\n",
       "      <th>Supported languages</th>\n",
       "      <th>...</th>\n",
       "      <th>Median playtime forever</th>\n",
       "      <th>Median playtime two weeks</th>\n",
       "      <th>Developers</th>\n",
       "      <th>Publishers</th>\n",
       "      <th>Categories</th>\n",
       "      <th>Genres</th>\n",
       "      <th>Tags</th>\n",
       "      <th>Screenshots</th>\n",
       "      <th>Movies</th>\n",
       "      <th>ReleaseYear</th>\n",
       "    </tr>\n",
       "  </thead>\n",
       "  <tbody>\n",
       "    <tr>\n",
       "      <th>0</th>\n",
       "      <td>1345820</td>\n",
       "      <td>Ragnarock</td>\n",
       "      <td>Jul 15, 2021</td>\n",
       "      <td>50000 - 100000</td>\n",
       "      <td>44</td>\n",
       "      <td>0</td>\n",
       "      <td>16.24</td>\n",
       "      <td>17</td>\n",
       "      <td>Are you ready to rock? Ragnarock is a solo/mul...</td>\n",
       "      <td>['English', 'French', 'Italian', 'German', 'Sp...</td>\n",
       "      <td>...</td>\n",
       "      <td>281</td>\n",
       "      <td>0</td>\n",
       "      <td>WanadevStudio</td>\n",
       "      <td>WanadevStudio</td>\n",
       "      <td>Single-player,Multi-player,PvP,Online PvP,Stea...</td>\n",
       "      <td>Casual,Indie,Racing,Sports</td>\n",
       "      <td>Rhythm,VR,Multiplayer,Music,Racing,PvP,Casual,...</td>\n",
       "      <td>https://cdn.akamai.steamstatic.com/steam/apps/...</td>\n",
       "      <td>http://cdn.akamai.steamstatic.com/steam/apps/2...</td>\n",
       "      <td>2021</td>\n",
       "    </tr>\n",
       "    <tr>\n",
       "      <th>1</th>\n",
       "      <td>821880</td>\n",
       "      <td>Idol Manager</td>\n",
       "      <td>Jul 26, 2021</td>\n",
       "      <td>100000 - 200000</td>\n",
       "      <td>102</td>\n",
       "      <td>0</td>\n",
       "      <td>19.99</td>\n",
       "      <td>0</td>\n",
       "      <td>You take on the role of manager at a small (bu...</td>\n",
       "      <td>['English', 'Japanese', 'Russian', 'Simplified...</td>\n",
       "      <td>...</td>\n",
       "      <td>853</td>\n",
       "      <td>0</td>\n",
       "      <td>Glitch Pitch</td>\n",
       "      <td>PLAYISM</td>\n",
       "      <td>Single-player,Steam Achievements,Steam Worksho...</td>\n",
       "      <td>Indie,Simulation,Strategy</td>\n",
       "      <td>Management,Simulation,Anime,Sexual Content,Str...</td>\n",
       "      <td>https://cdn.akamai.steamstatic.com/steam/apps/...</td>\n",
       "      <td>http://cdn.akamai.steamstatic.com/steam/apps/2...</td>\n",
       "      <td>2021</td>\n",
       "    </tr>\n",
       "  </tbody>\n",
       "</table>\n",
       "<p>2 rows × 40 columns</p>\n",
       "</div>"
      ],
      "text/plain": [
       "     AppID          Name  Release date Estimated owners  Peak CCU  \\\n",
       "0  1345820     Ragnarock  Jul 15, 2021   50000 - 100000        44   \n",
       "1   821880  Idol Manager  Jul 26, 2021  100000 - 200000       102   \n",
       "\n",
       "   Required age  Price  DLC count  \\\n",
       "0             0  16.24         17   \n",
       "1             0  19.99          0   \n",
       "\n",
       "                                      About the game  \\\n",
       "0  Are you ready to rock? Ragnarock is a solo/mul...   \n",
       "1  You take on the role of manager at a small (bu...   \n",
       "\n",
       "                                 Supported languages  ...  \\\n",
       "0  ['English', 'French', 'Italian', 'German', 'Sp...  ...   \n",
       "1  ['English', 'Japanese', 'Russian', 'Simplified...  ...   \n",
       "\n",
       "  Median playtime forever Median playtime two weeks     Developers  \\\n",
       "0                     281                         0  WanadevStudio   \n",
       "1                     853                         0   Glitch Pitch   \n",
       "\n",
       "      Publishers                                         Categories  \\\n",
       "0  WanadevStudio  Single-player,Multi-player,PvP,Online PvP,Stea...   \n",
       "1        PLAYISM  Single-player,Steam Achievements,Steam Worksho...   \n",
       "\n",
       "                       Genres  \\\n",
       "0  Casual,Indie,Racing,Sports   \n",
       "1   Indie,Simulation,Strategy   \n",
       "\n",
       "                                                Tags  \\\n",
       "0  Rhythm,VR,Multiplayer,Music,Racing,PvP,Casual,...   \n",
       "1  Management,Simulation,Anime,Sexual Content,Str...   \n",
       "\n",
       "                                         Screenshots  \\\n",
       "0  https://cdn.akamai.steamstatic.com/steam/apps/...   \n",
       "1  https://cdn.akamai.steamstatic.com/steam/apps/...   \n",
       "\n",
       "                                              Movies  ReleaseYear  \n",
       "0  http://cdn.akamai.steamstatic.com/steam/apps/2...         2021  \n",
       "1  http://cdn.akamai.steamstatic.com/steam/apps/2...         2021  \n",
       "\n",
       "[2 rows x 40 columns]"
      ]
     },
     "execution_count": 6,
     "metadata": {},
     "output_type": "execute_result"
    }
   ],
   "source": [
    "df_principal.head(2)"
   ]
  },
  {
   "cell_type": "markdown",
   "metadata": {},
   "source": [
    "### ADICIONANDO DATASET AUXILIAR\n",
    "\n",
    "---"
   ]
  },
  {
   "cell_type": "code",
   "execution_count": 7,
   "metadata": {},
   "outputs": [
    {
     "data": {
      "text/html": [
       "<div>\n",
       "<style scoped>\n",
       "    .dataframe tbody tr th:only-of-type {\n",
       "        vertical-align: middle;\n",
       "    }\n",
       "\n",
       "    .dataframe tbody tr th {\n",
       "        vertical-align: top;\n",
       "    }\n",
       "\n",
       "    .dataframe thead th {\n",
       "        text-align: right;\n",
       "    }\n",
       "</style>\n",
       "<table border=\"1\" class=\"dataframe\">\n",
       "  <thead>\n",
       "    <tr style=\"text-align: right;\">\n",
       "      <th></th>\n",
       "      <th>Name</th>\n",
       "      <th>Total revenue</th>\n",
       "      <th>Country</th>\n",
       "    </tr>\n",
       "  </thead>\n",
       "  <tbody>\n",
       "    <tr>\n",
       "      <th>0</th>\n",
       "      <td>Ubisoft</td>\n",
       "      <td>2500000000.0</td>\n",
       "      <td>France</td>\n",
       "    </tr>\n",
       "    <tr>\n",
       "      <th>1</th>\n",
       "      <td>Valve</td>\n",
       "      <td>2400000000.0</td>\n",
       "      <td>United States</td>\n",
       "    </tr>\n",
       "    <tr>\n",
       "      <th>2</th>\n",
       "      <td>2K</td>\n",
       "      <td>2300000000.0</td>\n",
       "      <td>United States</td>\n",
       "    </tr>\n",
       "    <tr>\n",
       "      <th>3</th>\n",
       "      <td>Electronic Arts</td>\n",
       "      <td>2100000000.0</td>\n",
       "      <td>United States</td>\n",
       "    </tr>\n",
       "    <tr>\n",
       "      <th>4</th>\n",
       "      <td>SEGA</td>\n",
       "      <td>2100000000.0</td>\n",
       "      <td>Japan</td>\n",
       "    </tr>\n",
       "  </tbody>\n",
       "</table>\n",
       "</div>"
      ],
      "text/plain": [
       "              Name Total revenue        Country\n",
       "0          Ubisoft  2500000000.0         France\n",
       "1            Valve  2400000000.0  United States\n",
       "2               2K  2300000000.0  United States\n",
       "3  Electronic Arts  2100000000.0  United States\n",
       "4             SEGA  2100000000.0          Japan"
      ]
     },
     "execution_count": 7,
     "metadata": {},
     "output_type": "execute_result"
    }
   ],
   "source": [
    "df_total_revenue = pd.read_csv('total_revenue_and_country.csv')\n",
    "df_total_revenue = df_total_revenue.drop_duplicates()\n",
    "\n",
    "df_total_revenue.head()"
   ]
  },
  {
   "cell_type": "code",
   "execution_count": 8,
   "metadata": {},
   "outputs": [
    {
     "name": "stdout",
     "output_type": "stream",
     "text": [
      "Worldwalker Games LLC,WhisperGames\n",
      "Running With Scissors,Hyperstrange\n",
      "Mixed Realms Pte Ltd,Coconut Island Games\n",
      "Humble Games,WhisperGames\n",
      "Foreign Gnomes,Surefire.Games\n",
      "Digixart,Ravenscourt\n",
      "United Label,CI Games\n",
      "Merge Games,Maple Whispering Limited\n",
      "EXOR Studios,Surefire.Games\n",
      "META Publishing,Owlcat Games\n",
      "Modern Wolf,Fractale,WhisperGames\n",
      "FromSoftware Inc.,Bandai Namco Entertainment\n",
      "Games Operators,Modus Games\n",
      "Assemble Entertainment,WhisperGames,Mayflower Entertainment\n",
      "DANGEN Entertainment,Gamera Games,Intragames\n",
      "SEGA,Feral Interactive\n",
      "Fishing Cactus,PID Games,2PGames\n",
      "Sneaky Yak Studio,WhisperGames\n",
      "Movie Games S.A.,HeartBeat Games\n",
      "XSEED Games,Marvelous USA, Inc.,Marvelous\n",
      "Canada Media Fund,Ontario Creates,The Games Institute\n",
      "JanduSoft,Game Seer Ventures\n",
      "M-Theory,Oddboy\n",
      "Ravenscourt,Maple Whispering Limited\n",
      "Warner Bros. Games,Warner Bros. Interactive Entertainment\n",
      "Future Friends Games,StudioInkyfox\n",
      "Whitethorn Games,Gamious\n",
      "Rose City Games,wiip\n",
      "Freedom Games,Maple Whispering Limited\n",
      "Maze Theory,Another Indie\n",
      "Whitethorn Games,WhisperGames\n",
      "HypeTrain Digital,RedRuins Softworks\n"
     ]
    }
   ],
   "source": [
    "ausentes = []\n",
    "presentes = []\n",
    "\n",
    "# Verificando se cada valor da coluna do df1 está presente no df2\n",
    "for publi in df_principal['Publishers'].tolist():\n",
    "    if publi.lower() not in [name.lower() for name in df_total_revenue[\"Name\"].tolist()]:\n",
    "        if publi.lower() not in [name.lower() for name in ausentes]:\n",
    "            print(publi)\n",
    "            ausentes.append(publi)\n",
    "    else:\n",
    "        if publi.lower() not in [name.lower() for name in presentes]:\n",
    "            presentes.append(publi)   "
   ]
  },
  {
   "cell_type": "markdown",
   "metadata": {},
   "source": [
    "#### Vamos considerar que, quando há mais de um publisher por jogo, o valor a ser inserido na nova coluna \"Total revenue\" será a soma do total revenue de cada publisher."
   ]
  },
  {
   "cell_type": "code",
   "execution_count": 9,
   "metadata": {},
   "outputs": [
    {
     "data": {
      "text/html": [
       "<div>\n",
       "<style scoped>\n",
       "    .dataframe tbody tr th:only-of-type {\n",
       "        vertical-align: middle;\n",
       "    }\n",
       "\n",
       "    .dataframe tbody tr th {\n",
       "        vertical-align: top;\n",
       "    }\n",
       "\n",
       "    .dataframe thead th {\n",
       "        text-align: right;\n",
       "    }\n",
       "</style>\n",
       "<table border=\"1\" class=\"dataframe\">\n",
       "  <thead>\n",
       "    <tr style=\"text-align: right;\">\n",
       "      <th></th>\n",
       "      <th>Name</th>\n",
       "      <th>Total revenue</th>\n",
       "      <th>Country</th>\n",
       "    </tr>\n",
       "  </thead>\n",
       "  <tbody>\n",
       "    <tr>\n",
       "      <th>0</th>\n",
       "      <td>Ubisoft</td>\n",
       "      <td>2500000000.0</td>\n",
       "      <td>France</td>\n",
       "    </tr>\n",
       "    <tr>\n",
       "      <th>1</th>\n",
       "      <td>Valve</td>\n",
       "      <td>2400000000.0</td>\n",
       "      <td>United States</td>\n",
       "    </tr>\n",
       "  </tbody>\n",
       "</table>\n",
       "</div>"
      ],
      "text/plain": [
       "      Name Total revenue        Country\n",
       "0  Ubisoft  2500000000.0         France\n",
       "1    Valve  2400000000.0  United States"
      ]
     },
     "execution_count": 9,
     "metadata": {},
     "output_type": "execute_result"
    }
   ],
   "source": [
    "df_total_revenue.head(2)"
   ]
  },
  {
   "cell_type": "code",
   "execution_count": 10,
   "metadata": {},
   "outputs": [],
   "source": [
    "# Verificar se cada valor da coluna 'Publishers' do df_principal está presente no df_total_revenue\n",
    "for index, row in df_principal.iterrows():\n",
    "    publishers = row['Publishers']\n",
    "    total_revenue = 0\n",
    "    countries = []\n",
    "    \n",
    "    # Verificar se o valor de 'publishers' está presente na coluna 'Name' do df_total_revenue\n",
    "    for name in publishers.split(','):\n",
    "        mask = df_total_revenue['Name'].str.lower() == name.lower().strip()\n",
    "        revenue = df_total_revenue.loc[mask, 'Total revenue']\n",
    "        \n",
    "        # Converter os valores de 'revenue' para o tipo numérico\n",
    "        revenue = pd.to_numeric(revenue, errors='coerce')\n",
    "        revenue = revenue.sum()\n",
    "        total_revenue += revenue\n",
    "        \n",
    "        #Casos com virgula no nome\n",
    "        if (name == \"CAPCOM Co.\" or name == \"KRAFTON\" or name == \"KOEI TECMO GAMES CO.\" or name == \"GameTomo Co.\" or name ==\"Ocean Drive Studio\") and (len(publishers.split(','))==2):\n",
    "            mask = df_total_revenue['Name'].str.lower() == publishers.lower().strip()\n",
    "            country = ', '.join(df_total_revenue.loc[mask, 'Country'])\n",
    "            countries.append(country)\n",
    "            break\n",
    "            \n",
    "        country = ', '.join(df_total_revenue.loc[mask, 'Country'])\n",
    "        countries.append(country)\n",
    "\n",
    "    # Inserir o valor total de receita na coluna 'Total revenue' do df_principal\n",
    "    df_principal.at[index, 'Total revenue'] = total_revenue\n",
    "    \n",
    "    # Inserir a string de países no df_principal\n",
    "    df_principal.at[index, 'Country'] = ', '.join(countries)"
   ]
  },
  {
   "cell_type": "markdown",
   "metadata": {},
   "source": [
    "#### Fazendo uma verificação com um caso que tem 2 publishers\n",
    "* `Considerações` : Para o caso em que temos 2 ou mais publishers , o Total revenue foi calculado com a soma do revenue individual desses publishers."
   ]
  },
  {
   "cell_type": "code",
   "execution_count": 11,
   "metadata": {},
   "outputs": [
    {
     "data": {
      "text/plain": [
       "35200000.0"
      ]
     },
     "execution_count": 11,
     "metadata": {},
     "output_type": "execute_result"
    }
   ],
   "source": [
    "df_principal.iloc[8][\"Total revenue\"]"
   ]
  },
  {
   "cell_type": "code",
   "execution_count": 12,
   "metadata": {},
   "outputs": [
    {
     "data": {
      "text/html": [
       "<div>\n",
       "<style scoped>\n",
       "    .dataframe tbody tr th:only-of-type {\n",
       "        vertical-align: middle;\n",
       "    }\n",
       "\n",
       "    .dataframe tbody tr th {\n",
       "        vertical-align: top;\n",
       "    }\n",
       "\n",
       "    .dataframe thead th {\n",
       "        text-align: right;\n",
       "    }\n",
       "</style>\n",
       "<table border=\"1\" class=\"dataframe\">\n",
       "  <thead>\n",
       "    <tr style=\"text-align: right;\">\n",
       "      <th></th>\n",
       "      <th>Name</th>\n",
       "      <th>Total revenue</th>\n",
       "      <th>Country</th>\n",
       "    </tr>\n",
       "  </thead>\n",
       "  <tbody>\n",
       "    <tr>\n",
       "      <th>265</th>\n",
       "      <td>Hyperstrange</td>\n",
       "      <td>6300000.0</td>\n",
       "      <td>Poland</td>\n",
       "    </tr>\n",
       "  </tbody>\n",
       "</table>\n",
       "</div>"
      ],
      "text/plain": [
       "             Name Total revenue Country\n",
       "265  Hyperstrange     6300000.0  Poland"
      ]
     },
     "execution_count": 12,
     "metadata": {},
     "output_type": "execute_result"
    }
   ],
   "source": [
    "df_total_revenue.loc[df_total_revenue[\"Name\"]==\"Hyperstrange\"]"
   ]
  },
  {
   "cell_type": "code",
   "execution_count": 13,
   "metadata": {},
   "outputs": [
    {
     "data": {
      "text/html": [
       "<div>\n",
       "<style scoped>\n",
       "    .dataframe tbody tr th:only-of-type {\n",
       "        vertical-align: middle;\n",
       "    }\n",
       "\n",
       "    .dataframe tbody tr th {\n",
       "        vertical-align: top;\n",
       "    }\n",
       "\n",
       "    .dataframe thead th {\n",
       "        text-align: right;\n",
       "    }\n",
       "</style>\n",
       "<table border=\"1\" class=\"dataframe\">\n",
       "  <thead>\n",
       "    <tr style=\"text-align: right;\">\n",
       "      <th></th>\n",
       "      <th>Name</th>\n",
       "      <th>Total revenue</th>\n",
       "      <th>Country</th>\n",
       "    </tr>\n",
       "  </thead>\n",
       "  <tbody>\n",
       "    <tr>\n",
       "      <th>210</th>\n",
       "      <td>Running With Scissors</td>\n",
       "      <td>28900000.0</td>\n",
       "      <td>United States</td>\n",
       "    </tr>\n",
       "  </tbody>\n",
       "</table>\n",
       "</div>"
      ],
      "text/plain": [
       "                      Name Total revenue        Country\n",
       "210  Running With Scissors    28900000.0  United States"
      ]
     },
     "execution_count": 13,
     "metadata": {},
     "output_type": "execute_result"
    }
   ],
   "source": [
    "df_total_revenue.loc[df_total_revenue[\"Name\"]==\"Running With Scissors\"]"
   ]
  },
  {
   "cell_type": "code",
   "execution_count": 14,
   "metadata": {},
   "outputs": [
    {
     "data": {
      "text/plain": [
       "35200000.0"
      ]
     },
     "execution_count": 14,
     "metadata": {},
     "output_type": "execute_result"
    }
   ],
   "source": [
    "(6300000.0+28900000.0)"
   ]
  },
  {
   "cell_type": "code",
   "execution_count": 15,
   "metadata": {},
   "outputs": [
    {
     "data": {
      "text/plain": [
       "'United States, Poland'"
      ]
     },
     "execution_count": 15,
     "metadata": {},
     "output_type": "execute_result"
    }
   ],
   "source": [
    "df_principal.iloc[8][\"Country\"]"
   ]
  },
  {
   "cell_type": "markdown",
   "metadata": {},
   "source": [
    "### Tags\n",
    "\n",
    "-------"
   ]
  },
  {
   "cell_type": "code",
   "execution_count": 16,
   "metadata": {},
   "outputs": [
    {
     "name": "stdout",
     "output_type": "stream",
     "text": [
      "\n",
      "> dataset[Tags] como lista:\n",
      "\n",
      "0      [Rhythm, VR, Multiplayer, Music, Racing, PvP, ...\n",
      "1      [Management, Simulation, Anime, Sexual Content...\n",
      "2      [Casual, Simulation, Strategy, Indie, Manageme...\n",
      "3      [Puzzle, Difficult, Indie, Singleplayer, Sokob...\n",
      "4      [RPG, Choices Matter, Story Rich, Detective, T...\n",
      "                             ...                        \n",
      "294    [Strategy, Post-apocalyptic, Survival, Colony ...\n",
      "295    [Atmospheric, Resource Management, Simulation,...\n",
      "296    [Metroidvania, Female Protagonist, Shoot 'Em U...\n",
      "297    [Colony Sim, Indie, Pixel Graphics, Simulation...\n",
      "298    [Indie, Rhythm, Action, Hand-drawn, Colorful, ...\n",
      "Name: Tags, Length: 299, dtype: object\n"
     ]
    }
   ],
   "source": [
    "# ---- Tranforma a coluna de Tags em lista ----\n",
    "\n",
    "df_principal['Tags'] = df_principal.Tags.apply(lambda x: str(x).split(','))\n",
    "print(f\"\\n> dataset[Tags] como lista:\\n\\n{df_principal['Tags']}\")\n"
   ]
  },
  {
   "cell_type": "markdown",
   "metadata": {},
   "source": [
    "### Montando os Nós da Rede\n",
    "\n",
    "-------"
   ]
  },
  {
   "cell_type": "code",
   "execution_count": 17,
   "metadata": {},
   "outputs": [
    {
     "data": {
      "text/html": [
       "<div>\n",
       "<style scoped>\n",
       "    .dataframe tbody tr th:only-of-type {\n",
       "        vertical-align: middle;\n",
       "    }\n",
       "\n",
       "    .dataframe tbody tr th {\n",
       "        vertical-align: top;\n",
       "    }\n",
       "\n",
       "    .dataframe thead th {\n",
       "        text-align: right;\n",
       "    }\n",
       "</style>\n",
       "<table border=\"1\" class=\"dataframe\">\n",
       "  <thead>\n",
       "    <tr style=\"text-align: right;\">\n",
       "      <th></th>\n",
       "      <th>id</th>\n",
       "      <th>Tags</th>\n",
       "      <th>MetacriticScore</th>\n",
       "      <th>Publishers</th>\n",
       "      <th>TotalRevenue</th>\n",
       "      <th>ReleaseYear</th>\n",
       "      <th>Country</th>\n",
       "    </tr>\n",
       "  </thead>\n",
       "  <tbody>\n",
       "    <tr>\n",
       "      <th>0</th>\n",
       "      <td>0</td>\n",
       "      <td>[Rhythm, VR, Multiplayer, Music, Racing, PvP, ...</td>\n",
       "      <td>87</td>\n",
       "      <td>WanadevStudio</td>\n",
       "      <td>1200000.0</td>\n",
       "      <td>2021</td>\n",
       "      <td>France</td>\n",
       "    </tr>\n",
       "    <tr>\n",
       "      <th>1</th>\n",
       "      <td>1</td>\n",
       "      <td>[Management, Simulation, Anime, Sexual Content...</td>\n",
       "      <td>73</td>\n",
       "      <td>PLAYISM</td>\n",
       "      <td>58600000.0</td>\n",
       "      <td>2021</td>\n",
       "      <td>Japan</td>\n",
       "    </tr>\n",
       "    <tr>\n",
       "      <th>2</th>\n",
       "      <td>2</td>\n",
       "      <td>[Casual, Simulation, Strategy, Indie, Manageme...</td>\n",
       "      <td>87</td>\n",
       "      <td>Dinosaur Polo Club</td>\n",
       "      <td>9100000.0</td>\n",
       "      <td>2021</td>\n",
       "      <td>New Zealand</td>\n",
       "    </tr>\n",
       "    <tr>\n",
       "      <th>3</th>\n",
       "      <td>3</td>\n",
       "      <td>[Puzzle, Difficult, Indie, Singleplayer, Sokob...</td>\n",
       "      <td>76</td>\n",
       "      <td>Mischka Kamener</td>\n",
       "      <td>0.0</td>\n",
       "      <td>2021</td>\n",
       "      <td>Australia</td>\n",
       "    </tr>\n",
       "    <tr>\n",
       "      <th>4</th>\n",
       "      <td>4</td>\n",
       "      <td>[RPG, Choices Matter, Story Rich, Detective, T...</td>\n",
       "      <td>67</td>\n",
       "      <td>Fireshine Games</td>\n",
       "      <td>26400000.0</td>\n",
       "      <td>2021</td>\n",
       "      <td>United Kingdom</td>\n",
       "    </tr>\n",
       "    <tr>\n",
       "      <th>...</th>\n",
       "      <td>...</td>\n",
       "      <td>...</td>\n",
       "      <td>...</td>\n",
       "      <td>...</td>\n",
       "      <td>...</td>\n",
       "      <td>...</td>\n",
       "      <td>...</td>\n",
       "    </tr>\n",
       "    <tr>\n",
       "      <th>294</th>\n",
       "      <td>294</td>\n",
       "      <td>[Strategy, Post-apocalyptic, Survival, Colony ...</td>\n",
       "      <td>76</td>\n",
       "      <td>Ravenscourt</td>\n",
       "      <td>10400000.0</td>\n",
       "      <td>2022</td>\n",
       "      <td>Germany</td>\n",
       "    </tr>\n",
       "    <tr>\n",
       "      <th>295</th>\n",
       "      <td>295</td>\n",
       "      <td>[Atmospheric, Resource Management, Simulation,...</td>\n",
       "      <td>78</td>\n",
       "      <td>Raw Fury</td>\n",
       "      <td>45400000.0</td>\n",
       "      <td>2022</td>\n",
       "      <td>Sweden</td>\n",
       "    </tr>\n",
       "    <tr>\n",
       "      <th>296</th>\n",
       "      <td>296</td>\n",
       "      <td>[Metroidvania, Female Protagonist, Shoot 'Em U...</td>\n",
       "      <td>82</td>\n",
       "      <td>Team17</td>\n",
       "      <td>223800000.0</td>\n",
       "      <td>2022</td>\n",
       "      <td>United Kingdom</td>\n",
       "    </tr>\n",
       "    <tr>\n",
       "      <th>297</th>\n",
       "      <td>297</td>\n",
       "      <td>[Colony Sim, Indie, Pixel Graphics, Simulation...</td>\n",
       "      <td>93</td>\n",
       "      <td>Kitfox Games</td>\n",
       "      <td>21400000.0</td>\n",
       "      <td>2022</td>\n",
       "      <td>Canada</td>\n",
       "    </tr>\n",
       "    <tr>\n",
       "      <th>298</th>\n",
       "      <td>298</td>\n",
       "      <td>[Indie, Rhythm, Action, Hand-drawn, Colorful, ...</td>\n",
       "      <td>81</td>\n",
       "      <td>Half Asleep</td>\n",
       "      <td>881000.0</td>\n",
       "      <td>2022</td>\n",
       "      <td>Canada</td>\n",
       "    </tr>\n",
       "  </tbody>\n",
       "</table>\n",
       "<p>299 rows × 7 columns</p>\n",
       "</div>"
      ],
      "text/plain": [
       "      id                                               Tags  MetacriticScore  \\\n",
       "0      0  [Rhythm, VR, Multiplayer, Music, Racing, PvP, ...               87   \n",
       "1      1  [Management, Simulation, Anime, Sexual Content...               73   \n",
       "2      2  [Casual, Simulation, Strategy, Indie, Manageme...               87   \n",
       "3      3  [Puzzle, Difficult, Indie, Singleplayer, Sokob...               76   \n",
       "4      4  [RPG, Choices Matter, Story Rich, Detective, T...               67   \n",
       "..   ...                                                ...              ...   \n",
       "294  294  [Strategy, Post-apocalyptic, Survival, Colony ...               76   \n",
       "295  295  [Atmospheric, Resource Management, Simulation,...               78   \n",
       "296  296  [Metroidvania, Female Protagonist, Shoot 'Em U...               82   \n",
       "297  297  [Colony Sim, Indie, Pixel Graphics, Simulation...               93   \n",
       "298  298  [Indie, Rhythm, Action, Hand-drawn, Colorful, ...               81   \n",
       "\n",
       "             Publishers  TotalRevenue  ReleaseYear         Country  \n",
       "0         WanadevStudio     1200000.0         2021          France  \n",
       "1               PLAYISM    58600000.0         2021           Japan  \n",
       "2    Dinosaur Polo Club     9100000.0         2021     New Zealand  \n",
       "3       Mischka Kamener           0.0         2021       Australia  \n",
       "4       Fireshine Games    26400000.0         2021  United Kingdom  \n",
       "..                  ...           ...          ...             ...  \n",
       "294         Ravenscourt    10400000.0         2022         Germany  \n",
       "295            Raw Fury    45400000.0         2022          Sweden  \n",
       "296              Team17   223800000.0         2022  United Kingdom  \n",
       "297        Kitfox Games    21400000.0         2022          Canada  \n",
       "298         Half Asleep      881000.0         2022          Canada  \n",
       "\n",
       "[299 rows x 7 columns]"
      ]
     },
     "execution_count": 17,
     "metadata": {},
     "output_type": "execute_result"
    }
   ],
   "source": [
    "id = 0\n",
    "unique_name_values = df_principal['Name'].unique().tolist()\n",
    "node_data = []\n",
    "\n",
    "for _ , linha in  df_principal.iterrows():\n",
    "    \n",
    "    if(linha['Name'] in unique_name_values):\n",
    "        node_data.append([id ,linha['Tags'], linha['Metacritic score'] ,  linha['Publishers'], linha['Total revenue'], linha['ReleaseYear'] , linha['Country']])\n",
    "        id+=1\n",
    "\n",
    "df_nodes = pd.DataFrame(node_data,columns=['id','Tags', 'MetacriticScore' , 'Publishers' , 'TotalRevenue' , 'ReleaseYear' , 'Country']) \n",
    "df_nodes"
   ]
  },
  {
   "cell_type": "code",
   "execution_count": 18,
   "metadata": {},
   "outputs": [],
   "source": [
    "# ---- Criando os nós e adiciona atributos aos nós ----\n",
    "\n",
    "g.add_vp('MetacriticScore')\n",
    "\n",
    "aux = []\n",
    "for _, infos in df_nodes.iterrows():\n",
    "    \n",
    "    #Adiciona vértices:\n",
    "    infos = infos.astype(object)\n",
    "    g.add_vertex(infos['id'])\n",
    "    \n",
    "    # Adiciona atributos:\n",
    "    vertice = g.get_vertex(infos['id'])\n",
    "    vertice['MetacriticScore'] = infos['MetacriticScore']"
   ]
  },
  {
   "cell_type": "markdown",
   "metadata": {},
   "source": [
    "### Montando as Arestas da Rede\n",
    "\n",
    "-------"
   ]
  },
  {
   "cell_type": "code",
   "execution_count": 19,
   "metadata": {},
   "outputs": [],
   "source": [
    "def count_tags(lista_tags_1, lista_tags_2):\n",
    "    '''\n",
    "    Retorna o número de tags em comum entre duas listas\n",
    "    '''    \n",
    "    count_common_tags = 0\n",
    "        \n",
    "    for tag1 in lista_tags_1:\n",
    "        for tag2 in lista_tags_2:\n",
    "            \n",
    "            if(tag1 == tag2):\n",
    "                count_common_tags+=1\n",
    "    \n",
    "    return count_common_tags"
   ]
  },
  {
   "cell_type": "code",
   "execution_count": 20,
   "metadata": {},
   "outputs": [
    {
     "data": {
      "text/html": [
       "<div>\n",
       "<style scoped>\n",
       "    .dataframe tbody tr th:only-of-type {\n",
       "        vertical-align: middle;\n",
       "    }\n",
       "\n",
       "    .dataframe tbody tr th {\n",
       "        vertical-align: top;\n",
       "    }\n",
       "\n",
       "    .dataframe thead th {\n",
       "        text-align: right;\n",
       "    }\n",
       "</style>\n",
       "<table border=\"1\" class=\"dataframe\">\n",
       "  <thead>\n",
       "    <tr style=\"text-align: right;\">\n",
       "      <th></th>\n",
       "      <th>node_1</th>\n",
       "      <th>node_2</th>\n",
       "      <th>Tags_em_Comum</th>\n",
       "    </tr>\n",
       "  </thead>\n",
       "  <tbody>\n",
       "    <tr>\n",
       "      <th>0</th>\n",
       "      <td>91</td>\n",
       "      <td>205</td>\n",
       "      <td>9</td>\n",
       "    </tr>\n",
       "    <tr>\n",
       "      <th>1</th>\n",
       "      <td>42</td>\n",
       "      <td>287</td>\n",
       "      <td>2</td>\n",
       "    </tr>\n",
       "    <tr>\n",
       "      <th>2</th>\n",
       "      <td>148</td>\n",
       "      <td>199</td>\n",
       "      <td>1</td>\n",
       "    </tr>\n",
       "    <tr>\n",
       "      <th>3</th>\n",
       "      <td>103</td>\n",
       "      <td>166</td>\n",
       "      <td>5</td>\n",
       "    </tr>\n",
       "    <tr>\n",
       "      <th>4</th>\n",
       "      <td>107</td>\n",
       "      <td>236</td>\n",
       "      <td>5</td>\n",
       "    </tr>\n",
       "    <tr>\n",
       "      <th>...</th>\n",
       "      <td>...</td>\n",
       "      <td>...</td>\n",
       "      <td>...</td>\n",
       "    </tr>\n",
       "    <tr>\n",
       "      <th>44546</th>\n",
       "      <td>18</td>\n",
       "      <td>267</td>\n",
       "      <td>1</td>\n",
       "    </tr>\n",
       "    <tr>\n",
       "      <th>44547</th>\n",
       "      <td>132</td>\n",
       "      <td>231</td>\n",
       "      <td>1</td>\n",
       "    </tr>\n",
       "    <tr>\n",
       "      <th>44548</th>\n",
       "      <td>104</td>\n",
       "      <td>187</td>\n",
       "      <td>4</td>\n",
       "    </tr>\n",
       "    <tr>\n",
       "      <th>44549</th>\n",
       "      <td>88</td>\n",
       "      <td>98</td>\n",
       "      <td>3</td>\n",
       "    </tr>\n",
       "    <tr>\n",
       "      <th>44550</th>\n",
       "      <td>88</td>\n",
       "      <td>273</td>\n",
       "      <td>4</td>\n",
       "    </tr>\n",
       "  </tbody>\n",
       "</table>\n",
       "<p>44551 rows × 3 columns</p>\n",
       "</div>"
      ],
      "text/plain": [
       "       node_1  node_2  Tags_em_Comum\n",
       "0          91     205              9\n",
       "1          42     287              2\n",
       "2         148     199              1\n",
       "3         103     166              5\n",
       "4         107     236              5\n",
       "...       ...     ...            ...\n",
       "44546      18     267              1\n",
       "44547     132     231              1\n",
       "44548     104     187              4\n",
       "44549      88      98              3\n",
       "44550      88     273              4\n",
       "\n",
       "[44551 rows x 3 columns]"
      ]
     },
     "execution_count": 20,
     "metadata": {},
     "output_type": "execute_result"
    }
   ],
   "source": [
    "node_relation = set()\n",
    "data_relation = set()\n",
    "\n",
    "for _, linha1 in df_nodes.iterrows():\n",
    "    for _,linha2 in df_nodes.iterrows():\n",
    "        \n",
    "        proximidade = 0\n",
    "        \n",
    "        if(( (linha1['id'] , linha2['id']) not in node_relation) and \n",
    "           ( (linha2['id'] , linha1['id']) not in node_relation) and (linha2['id'] != linha1['id'])):\n",
    "            \n",
    "            # Calculando TAGS em comum\n",
    "            proximidade = count_tags(linha1['Tags'], linha2['Tags'])\n",
    "            \n",
    "            # Adiciona valor na relação de nós:\n",
    "            node_relation.add((linha1['id'] , linha2['id']))\n",
    "        \n",
    "            data_relation.add((linha1['id'], linha2['id'], proximidade))\n",
    "            \n",
    "df_relation = pd.DataFrame(data_relation,columns=['node_1', 'node_2' , 'Tags_em_Comum'] ) \n",
    "df_relation"
   ]
  },
  {
   "cell_type": "markdown",
   "metadata": {},
   "source": [
    "#### Threadhold para a construção das Arestas"
   ]
  },
  {
   "cell_type": "code",
   "execution_count": 21,
   "metadata": {},
   "outputs": [
    {
     "data": {
      "image/png": "[encoded data removed]",
      "text/plain": [
       "<Figure size 640x480 with 1 Axes>"
      ]
     },
     "metadata": {},
     "output_type": "display_data"
    }
   ],
   "source": [
    "df_relation['Tags_em_Comum'][df_relation['Tags_em_Comum'] != 0].value_counts().plot(kind='bar');"
   ]
  },
  {
   "cell_type": "code",
   "execution_count": 22,
   "metadata": {},
   "outputs": [
    {
     "name": "stdout",
     "output_type": "stream",
     "text": [
      "\n",
      "> Threshold num_tags para arestas :  4\n",
      "\n"
     ]
    }
   ],
   "source": [
    "# ---- Escolhendo threshold para a criação das arestas a depender da distribuição ----\n",
    "\n",
    "list_num_tags = df_relation['Tags_em_Comum'][df_relation['Tags_em_Comum'] != 0].value_counts().index\n",
    "lista_num_jogos = df_relation['Tags_em_Comum'][df_relation['Tags_em_Comum'] != 0].value_counts().values\n",
    "\n",
    "def media_ponderada(lista_pesos , lista_valor):\n",
    "    \n",
    "    nominador = 0\n",
    "    denominador = sum(lista_pesos)\n",
    "    \n",
    "    for num_tags , num_jogos in zip(list_num_tags , lista_num_jogos):\n",
    "        nominador += num_tags*num_jogos\n",
    "        \n",
    "    return nominador/denominador\n",
    "        \n",
    "threshold_proximidade = media_ponderada(lista_num_jogos , list_num_tags)\n",
    "\n",
    "print(f\"\\n> Threshold num_tags para arestas :  {round(threshold_proximidade)}\\n\")"
   ]
  },
  {
   "cell_type": "code",
   "execution_count": 23,
   "metadata": {},
   "outputs": [],
   "source": [
    "# ---- Criando arestas ----\n",
    "\n",
    "for _ , relacao in df_relation.iterrows():\n",
    "    \n",
    "    if(relacao['Tags_em_Comum'] > threshold_proximidade):\n",
    "        g.add_edge(relacao['node_1'], relacao['node_2'])"
   ]
  },
  {
   "cell_type": "markdown",
   "metadata": {},
   "source": [
    "### Métricas da Rede\n",
    "\n",
    "-------"
   ]
  },
  {
   "cell_type": "code",
   "execution_count": 24,
   "metadata": {},
   "outputs": [
    {
     "name": "stdout",
     "output_type": "stream",
     "text": [
      "\n",
      " > Número de vértices de g: 299\n",
      "\n",
      " > Número de arestas de g: 22331\n",
      "\n",
      " > Densidade: 0.5012457632825301\n"
     ]
    }
   ],
   "source": [
    "# ---- Número de arestas, nós e densidade ----\n",
    "\n",
    "n = g.num_vertices()\n",
    "m = g.num_edges()\n",
    "\n",
    "if g.is_directed():\n",
    "    max_edges = n * (n - 1)\n",
    "else:\n",
    "    max_edges = n * (n - 1) // 2\n",
    "d = m / max_edges\n",
    "\n",
    "print('\\n > Número de vértices de g:', n )\n",
    "print('\\n > Número de arestas de g:', m)\n",
    "print('\\n > Densidade:', d)"
   ]
  },
  {
   "cell_type": "markdown",
   "metadata": {},
   "source": [
    "### Calculando Degree\n",
    "\n",
    "-------"
   ]
  },
  {
   "cell_type": "code",
   "execution_count": 25,
   "metadata": {},
   "outputs": [
    {
     "data": {
      "text/plain": [
       "count    299.000000\n",
       "mean     149.371237\n",
       "std       53.975628\n",
       "min        2.000000\n",
       "25%      108.000000\n",
       "50%      159.000000\n",
       "75%      193.500000\n",
       "max      252.000000\n",
       "Name: degree, dtype: float64"
      ]
     },
     "execution_count": 25,
     "metadata": {},
     "output_type": "execute_result"
    }
   ],
   "source": [
    "# Propriedade dos vértices\n",
    "data = gt_data(g)\n",
    "\n",
    "# Calculando degrees\n",
    "in_degrees = []\n",
    "out_degrees = []\n",
    "degrees = []\n",
    "\n",
    "for v in g.all_vertices():\n",
    "    in_degrees.append(v.in_degree())\n",
    "for v in g.all_vertices():\n",
    "    out_degrees.append(v.out_degree())\n",
    "for v in g.all_vertices():\n",
    "    degrees.append(v.total_degree())\n",
    "    \n",
    "data['in_degree'] = in_degrees\n",
    "data['out_degree'] = out_degrees\n",
    "data['degree'] = degrees\n",
    "data['degree'].describe()"
   ]
  },
  {
   "cell_type": "code",
   "execution_count": 26,
   "metadata": {},
   "outputs": [
    {
     "data": {
      "text/plain": [
       "<AxesSubplot: xlabel='degree', ylabel='Count'>"
      ]
     },
     "execution_count": 26,
     "metadata": {},
     "output_type": "execute_result"
    },
    {
     "data": {
      "image/png": "[encoded data removed]",
      "text/plain": [
       "<Figure size 640x480 with 1 Axes>"
      ]
     },
     "metadata": {},
     "output_type": "display_data"
    }
   ],
   "source": [
    "sns.histplot(data['degree'])"
   ]
  },
  {
   "cell_type": "markdown",
   "metadata": {},
   "source": [
    "### Grafo\n",
    "\n",
    "-------"
   ]
  },
  {
   "cell_type": "code",
   "execution_count": 27,
   "metadata": {
    "collapsed": true
   },
   "outputs": [
    {
     "data": {
      "text/html": [
       "\n",
       "        <div id=\"TexQpMSsmwTp72dnxMGxun\"></div>\n",
       "        <script>netpixi.render('TexQpMSsmwTp72dnxMGxun', '/projeto.net.gz', 1.7777777777777777, true, false, false);</script>\n",
       "    "
      ],
      "text/plain": [
       "<IPython.core.display.HTML object>"
      ]
     },
     "metadata": {},
     "output_type": "display_data"
    }
   ],
   "source": [
    "# ----- Salva e renderiza grafo -----\n",
    "gt_save(g, 'projeto.net.gz')\n",
    "\n",
    "r = netpixi.render('/projeto.net.gz')"
   ]
  },
  {
   "cell_type": "code",
   "execution_count": 28,
   "metadata": {
    "collapsed": true
   },
   "outputs": [
    {
     "data": {
      "text/html": [
       "\n",
       "        <div id=\"BG6GNWMZUSpdkKQEjvjRxv\"></div>\n",
       "        <script>netpixi.render('BG6GNWMZUSpdkKQEjvjRxv', 'projeto_frunch.net.gz', 1.7777777777777777, true, false, false);</script>\n",
       "    "
      ],
      "text/plain": [
       "<IPython.core.display.HTML object>"
      ]
     },
     "metadata": {},
     "output_type": "display_data"
    }
   ],
   "source": [
    "# ----- Algoritmo Reingold Fruchterm -----\n",
    "m = gt_draw.fruchterman_reingold_layout(g)\n",
    "gt_move(g, m)\n",
    "gt_save(g, 'projeto_frunch.net.gz')\n",
    "r = netpixi.render('projeto_frunch.net.gz');"
   ]
  },
  {
   "cell_type": "code",
   "execution_count": 29,
   "metadata": {},
   "outputs": [
    {
     "name": "stderr",
     "output_type": "stream",
     "text": [
      "<frozen importlib._bootstrap>:914: ImportWarning: VendorImporter.find_spec() not found; falling back to find_module()\n"
     ]
    },
    {
     "data": {
      "text/html": [
       "\n",
       "        <div id=\"QTnSi9TKpRk2uKYJziMFr7\"></div>\n",
       "        <script>netpixi.call('QTnSi9TKpRk2uKYJziMFr7', 'BG6GNWMZUSpdkKQEjvjRxv', 'changeGraph', 'eyJpZCI6IDAsICJ0eXBlIjogInZlcnRleCIsICJwcm9wcyI6IHsiY29sb3IiOiA2NTI4MH19Cg==');</script>\n",
       "    "
      ],
      "text/plain": [
       "<IPython.core.display.HTML object>"
      ]
     },
     "metadata": {},
     "output_type": "display_data"
    },
    {
     "data": {
      "text/html": [
       "\n",
       "        <div id=\"FPYhX68BaeZemqyhDZN2Xq\"></div>\n",
       "        <script>netpixi.call('FPYhX68BaeZemqyhDZN2Xq', 'BG6GNWMZUSpdkKQEjvjRxv', 'changeGraph', 'eyJpZCI6IDEsICJ0eXBlIjogInZlcnRleCIsICJwcm9wcyI6IHsiY29sb3IiOiA2NTI4MH19Cg==');</script>\n",
       "    "
      ],
      "text/plain": [
       "<IPython.core.display.HTML object>"
      ]
     },
     "metadata": {},
     "output_type": "display_data"
    },
    {
     "data": {
      "text/html": [
       "\n",
       "        <div id=\"W7B7bqQHVguDkpFWMxDJ8b\"></div>\n",
       "        <script>netpixi.call('W7B7bqQHVguDkpFWMxDJ8b', 'BG6GNWMZUSpdkKQEjvjRxv', 'changeGraph', 'eyJpZCI6IDIsICJ0eXBlIjogInZlcnRleCIsICJwcm9wcyI6IHsiY29sb3IiOiA2NTI4MH19Cg==');</script>\n",
       "    "
      ],
      "text/plain": [
       "<IPython.core.display.HTML object>"
      ]
     },
     "metadata": {},
     "output_type": "display_data"
    },
    {
     "data": {
      "text/html": [
       "\n",
       "        <div id=\"4uCzMJ5aQeuYQW5jrM5JPU\"></div>\n",
       "        <script>netpixi.call('4uCzMJ5aQeuYQW5jrM5JPU', 'BG6GNWMZUSpdkKQEjvjRxv', 'changeGraph', 'eyJpZCI6IDMsICJ0eXBlIjogInZlcnRleCIsICJwcm9wcyI6IHsiY29sb3IiOiA2NTI4MH19Cg==');</script>\n",
       "    "
      ],
      "text/plain": [
       "<IPython.core.display.HTML object>"
      ]
     },
     "metadata": {},
     "output_type": "display_data"
    },
    {
     "data": {
      "text/html": [
       "\n",
       "        <div id=\"jqAMRSEqHesNJkkpdnJ9KN\"></div>\n",
       "        <script>netpixi.call('jqAMRSEqHesNJkkpdnJ9KN', 'BG6GNWMZUSpdkKQEjvjRxv', 'changeGraph', 'eyJpZCI6IDQsICJ0eXBlIjogInZlcnRleCIsICJwcm9wcyI6IHsiY29sb3IiOiAxNjcxMTY4MH19Cg==');</script>\n",
       "    "
      ],
      "text/plain": [
       "<IPython.core.display.HTML object>"
      ]
     },
     "metadata": {},
     "output_type": "display_data"
    },
    {
     "data": {
      "text/html": [
       "\n",
       "        <div id=\"6LhAmHPiSvFqMscNGHGajz\"></div>\n",
       "        <script>netpixi.call('6LhAmHPiSvFqMscNGHGajz', 'BG6GNWMZUSpdkKQEjvjRxv', 'changeGraph', 'eyJpZCI6IDUsICJ0eXBlIjogInZlcnRleCIsICJwcm9wcyI6IHsiY29sb3IiOiA2NTI4MH19Cg==');</script>\n",
       "    "
      ],
      "text/plain": [
       "<IPython.core.display.HTML object>"
      ]
     },
     "metadata": {},
     "output_type": "display_data"
    },
    {
     "data": {
      "text/html": [
       "\n",
       "        <div id=\"DGtwQvb8y7BgtWsJd944FW\"></div>\n",
       "        <script>netpixi.call('DGtwQvb8y7BgtWsJd944FW', 'BG6GNWMZUSpdkKQEjvjRxv', 'changeGraph', 'eyJpZCI6IDYsICJ0eXBlIjogInZlcnRleCIsICJwcm9wcyI6IHsiY29sb3IiOiA2NTI4MH19Cg==');</script>\n",
       "    "
      ],
      "text/plain": [
       "<IPython.core.display.HTML object>"
      ]
     },
     "metadata": {},
     "output_type": "display_data"
    },
    {
     "data": {
      "text/html": [
       "\n",
       "        <div id=\"HMn96pvhrZjkdmk43W7JaX\"></div>\n",
       "        <script>netpixi.call('HMn96pvhrZjkdmk43W7JaX', 'BG6GNWMZUSpdkKQEjvjRxv', 'changeGraph', 'eyJpZCI6IDcsICJ0eXBlIjogInZlcnRleCIsICJwcm9wcyI6IHsiY29sb3IiOiAxNjcxMTY4MH19Cg==');</script>\n",
       "    "
      ],
      "text/plain": [
       "<IPython.core.display.HTML object>"
      ]
     },
     "metadata": {},
     "output_type": "display_data"
    },
    {
     "data": {
      "text/html": [
       "\n",
       "        <div id=\"TdBrAjvWuNeQmjqd9jdEV8\"></div>\n",
       "        <script>netpixi.call('TdBrAjvWuNeQmjqd9jdEV8', 'BG6GNWMZUSpdkKQEjvjRxv', 'changeGraph', 'eyJpZCI6IDgsICJ0eXBlIjogInZlcnRleCIsICJwcm9wcyI6IHsiY29sb3IiOiA2NTI4MH19Cg==');</script>\n",
       "    "
      ],
      "text/plain": [
       "<IPython.core.display.HTML object>"
      ]
     },
     "metadata": {},
     "output_type": "display_data"
    },
    {
     "data": {
      "text/html": [
       "\n",
       "        <div id=\"Tc4R5G6cakdidUEkbtsBoX\"></div>\n",
       "        <script>netpixi.call('Tc4R5G6cakdidUEkbtsBoX', 'BG6GNWMZUSpdkKQEjvjRxv', 'changeGraph', 'eyJpZCI6IDksICJ0eXBlIjogInZlcnRleCIsICJwcm9wcyI6IHsiY29sb3IiOiAxNjcxMTY4MH19Cg==');</script>\n",
       "    "
      ],
      "text/plain": [
       "<IPython.core.display.HTML object>"
      ]
     },
     "metadata": {},
     "output_type": "display_data"
    },
    {
     "data": {
      "text/html": [
       "\n",
       "        <div id=\"dzjL9KMSLj3cLFS7j9pac5\"></div>\n",
       "        <script>netpixi.call('dzjL9KMSLj3cLFS7j9pac5', 'BG6GNWMZUSpdkKQEjvjRxv', 'changeGraph', 'eyJpZCI6IDEwLCAidHlwZSI6ICJ2ZXJ0ZXgiLCAicHJvcHMiOiB7ImNvbG9yIjogNjUyODB9fQo=');</script>\n",
       "    "
      ],
      "text/plain": [
       "<IPython.core.display.HTML object>"
      ]
     },
     "metadata": {},
     "output_type": "display_data"
    },
    {
     "data": {
      "text/html": [
       "\n",
       "        <div id=\"WSriCygzDgxz73QS98537j\"></div>\n",
       "        <script>netpixi.call('WSriCygzDgxz73QS98537j', 'BG6GNWMZUSpdkKQEjvjRxv', 'changeGraph', 'eyJpZCI6IDExLCAidHlwZSI6ICJ2ZXJ0ZXgiLCAicHJvcHMiOiB7ImNvbG9yIjogNjUyODB9fQo=');</script>\n",
       "    "
      ],
      "text/plain": [
       "<IPython.core.display.HTML object>"
      ]
     },
     "metadata": {},
     "output_type": "display_data"
    },
    {
     "data": {
      "text/html": [
       "\n",
       "        <div id=\"oVg76Vj95QkgmE5xrDbC4K\"></div>\n",
       "        <script>netpixi.call('oVg76Vj95QkgmE5xrDbC4K', 'BG6GNWMZUSpdkKQEjvjRxv', 'changeGraph', 'eyJpZCI6IDEyLCAidHlwZSI6ICJ2ZXJ0ZXgiLCAicHJvcHMiOiB7ImNvbG9yIjogMTY3MTE2ODB9fQo=');</script>\n",
       "    "
      ],
      "text/plain": [
       "<IPython.core.display.HTML object>"
      ]
     },
     "metadata": {},
     "output_type": "display_data"
    },
    {
     "data": {
      "text/html": [
       "\n",
       "        <div id=\"hpuUhrcKXtCKMG5k2Yianr\"></div>\n",
       "        <script>netpixi.call('hpuUhrcKXtCKMG5k2Yianr', 'BG6GNWMZUSpdkKQEjvjRxv', 'changeGraph', 'eyJpZCI6IDEzLCAidHlwZSI6ICJ2ZXJ0ZXgiLCAicHJvcHMiOiB7ImNvbG9yIjogMTY3MTE2ODB9fQo=');</script>\n",
       "    "
      ],
      "text/plain": [
       "<IPython.core.display.HTML object>"
      ]
     },
     "metadata": {},
     "output_type": "display_data"
    },
    {
     "data": {
      "text/html": [
       "\n",
       "        <div id=\"4HpPbG6NSksbD8pf6ULdyw\"></div>\n",
       "        <script>netpixi.call('4HpPbG6NSksbD8pf6ULdyw', 'BG6GNWMZUSpdkKQEjvjRxv', 'changeGraph', 'eyJpZCI6IDE0LCAidHlwZSI6ICJ2ZXJ0ZXgiLCAicHJvcHMiOiB7ImNvbG9yIjogNjUyODB9fQo=');</script>\n",
       "    "
      ],
      "text/plain": [
       "<IPython.core.display.HTML object>"
      ]
     },
     "metadata": {},
     "output_type": "display_data"
    },
    {
     "data": {
      "text/html": [
       "\n",
       "        <div id=\"DptH7zZXnxgddDve89WNA2\"></div>\n",
       "        <script>netpixi.call('DptH7zZXnxgddDve89WNA2', 'BG6GNWMZUSpdkKQEjvjRxv', 'changeGraph', 'eyJpZCI6IDE1LCAidHlwZSI6ICJ2ZXJ0ZXgiLCAicHJvcHMiOiB7ImNvbG9yIjogNjUyODB9fQo=');</script>\n",
       "    "
      ],
      "text/plain": [
       "<IPython.core.display.HTML object>"
      ]
     },
     "metadata": {},
     "output_type": "display_data"
    },
    {
     "data": {
      "text/html": [
       "\n",
       "        <div id=\"ZESMcAWpeo27rZZoxuwqAa\"></div>\n",
       "        <script>netpixi.call('ZESMcAWpeo27rZZoxuwqAa', 'BG6GNWMZUSpdkKQEjvjRxv', 'changeGraph', 'eyJpZCI6IDE2LCAidHlwZSI6ICJ2ZXJ0ZXgiLCAicHJvcHMiOiB7ImNvbG9yIjogMTY3MTE2ODB9fQo=');</script>\n",
       "    "
      ],
      "text/plain": [
       "<IPython.core.display.HTML object>"
      ]
     },
     "metadata": {},
     "output_type": "display_data"
    },
    {
     "data": {
      "text/html": [
       "\n",
       "        <div id=\"7g5tuN2TNAViPxfz9rbKsD\"></div>\n",
       "        <script>netpixi.call('7g5tuN2TNAViPxfz9rbKsD', 'BG6GNWMZUSpdkKQEjvjRxv', 'changeGraph', 'eyJpZCI6IDE3LCAidHlwZSI6ICJ2ZXJ0ZXgiLCAicHJvcHMiOiB7ImNvbG9yIjogNjUyODB9fQo=');</script>\n",
       "    "
      ],
      "text/plain": [
       "<IPython.core.display.HTML object>"
      ]
     },
     "metadata": {},
     "output_type": "display_data"
    },
    {
     "data": {
      "text/html": [
       "\n",
       "        <div id=\"ciayWtCe5NrEFEurXvUfUr\"></div>\n",
       "        <script>netpixi.call('ciayWtCe5NrEFEurXvUfUr', 'BG6GNWMZUSpdkKQEjvjRxv', 'changeGraph', 'eyJpZCI6IDE4LCAidHlwZSI6ICJ2ZXJ0ZXgiLCAicHJvcHMiOiB7ImNvbG9yIjogMTY3MTE2ODB9fQo=');</script>\n",
       "    "
      ],
      "text/plain": [
       "<IPython.core.display.HTML object>"
      ]
     },
     "metadata": {},
     "output_type": "display_data"
    },
    {
     "data": {
      "text/html": [
       "\n",
       "        <div id=\"NXK8tYbtjnLyadq2RRjzZE\"></div>\n",
       "        <script>netpixi.call('NXK8tYbtjnLyadq2RRjzZE', 'BG6GNWMZUSpdkKQEjvjRxv', 'changeGraph', 'eyJpZCI6IDE5LCAidHlwZSI6ICJ2ZXJ0ZXgiLCAicHJvcHMiOiB7ImNvbG9yIjogMTY3MTE2ODB9fQo=');</script>\n",
       "    "
      ],
      "text/plain": [
       "<IPython.core.display.HTML object>"
      ]
     },
     "metadata": {},
     "output_type": "display_data"
    },
    {
     "data": {
      "text/html": [
       "\n",
       "        <div id=\"Y35eGscQsPRpu8QHqhpfYF\"></div>\n",
       "        <script>netpixi.call('Y35eGscQsPRpu8QHqhpfYF', 'BG6GNWMZUSpdkKQEjvjRxv', 'changeGraph', 'eyJpZCI6IDIwLCAidHlwZSI6ICJ2ZXJ0ZXgiLCAicHJvcHMiOiB7ImNvbG9yIjogNjUyODB9fQo=');</script>\n",
       "    "
      ],
      "text/plain": [
       "<IPython.core.display.HTML object>"
      ]
     },
     "metadata": {},
     "output_type": "display_data"
    },
    {
     "data": {
      "text/html": [
       "\n",
       "        <div id=\"Kw9yGbsUgSHT9h2yEG4g28\"></div>\n",
       "        <script>netpixi.call('Kw9yGbsUgSHT9h2yEG4g28', 'BG6GNWMZUSpdkKQEjvjRxv', 'changeGraph', 'eyJpZCI6IDIxLCAidHlwZSI6ICJ2ZXJ0ZXgiLCAicHJvcHMiOiB7ImNvbG9yIjogMTY3MTE2ODB9fQo=');</script>\n",
       "    "
      ],
      "text/plain": [
       "<IPython.core.display.HTML object>"
      ]
     },
     "metadata": {},
     "output_type": "display_data"
    },
    {
     "data": {
      "text/html": [
       "\n",
       "        <div id=\"YXWJpNnAvdhqTQWw4FsSRC\"></div>\n",
       "        <script>netpixi.call('YXWJpNnAvdhqTQWw4FsSRC', 'BG6GNWMZUSpdkKQEjvjRxv', 'changeGraph', 'eyJpZCI6IDIyLCAidHlwZSI6ICJ2ZXJ0ZXgiLCAicHJvcHMiOiB7ImNvbG9yIjogMTY3MTE2ODB9fQo=');</script>\n",
       "    "
      ],
      "text/plain": [
       "<IPython.core.display.HTML object>"
      ]
     },
     "metadata": {},
     "output_type": "display_data"
    },
    {
     "data": {
      "text/html": [
       "\n",
       "        <div id=\"LsgWHJWEHEQBKEf3NaZTtW\"></div>\n",
       "        <script>netpixi.call('LsgWHJWEHEQBKEf3NaZTtW', 'BG6GNWMZUSpdkKQEjvjRxv', 'changeGraph', 'eyJpZCI6IDIzLCAidHlwZSI6ICJ2ZXJ0ZXgiLCAicHJvcHMiOiB7ImNvbG9yIjogMTY3MTE2ODB9fQo=');</script>\n",
       "    "
      ],
      "text/plain": [
       "<IPython.core.display.HTML object>"
      ]
     },
     "metadata": {},
     "output_type": "display_data"
    },
    {
     "data": {
      "text/html": [
       "\n",
       "        <div id=\"AsxRCYVZD3BQagjYdZX7hk\"></div>\n",
       "        <script>netpixi.call('AsxRCYVZD3BQagjYdZX7hk', 'BG6GNWMZUSpdkKQEjvjRxv', 'changeGraph', 'eyJpZCI6IDI0LCAidHlwZSI6ICJ2ZXJ0ZXgiLCAicHJvcHMiOiB7ImNvbG9yIjogMTY3MTE2ODB9fQo=');</script>\n",
       "    "
      ],
      "text/plain": [
       "<IPython.core.display.HTML object>"
      ]
     },
     "metadata": {},
     "output_type": "display_data"
    },
    {
     "data": {
      "text/html": [
       "\n",
       "        <div id=\"TX59MM8BqopkGA8Q7YK5Rk\"></div>\n",
       "        <script>netpixi.call('TX59MM8BqopkGA8Q7YK5Rk', 'BG6GNWMZUSpdkKQEjvjRxv', 'changeGraph', 'eyJpZCI6IDI1LCAidHlwZSI6ICJ2ZXJ0ZXgiLCAicHJvcHMiOiB7ImNvbG9yIjogNjUyODB9fQo=');</script>\n",
       "    "
      ],
      "text/plain": [
       "<IPython.core.display.HTML object>"
      ]
     },
     "metadata": {},
     "output_type": "display_data"
    },
    {
     "data": {
      "text/html": [
       "\n",
       "        <div id=\"8Hj3SNQQNrJ3M6oqHd9siL\"></div>\n",
       "        <script>netpixi.call('8Hj3SNQQNrJ3M6oqHd9siL', 'BG6GNWMZUSpdkKQEjvjRxv', 'changeGraph', 'eyJpZCI6IDI2LCAidHlwZSI6ICJ2ZXJ0ZXgiLCAicHJvcHMiOiB7ImNvbG9yIjogMTY3MTE2ODB9fQo=');</script>\n",
       "    "
      ],
      "text/plain": [
       "<IPython.core.display.HTML object>"
      ]
     },
     "metadata": {},
     "output_type": "display_data"
    },
    {
     "data": {
      "text/html": [
       "\n",
       "        <div id=\"HSTQJi9QJkiXjZnR2fCMvQ\"></div>\n",
       "        <script>netpixi.call('HSTQJi9QJkiXjZnR2fCMvQ', 'BG6GNWMZUSpdkKQEjvjRxv', 'changeGraph', 'eyJpZCI6IDI3LCAidHlwZSI6ICJ2ZXJ0ZXgiLCAicHJvcHMiOiB7ImNvbG9yIjogMTY3MTE2ODB9fQo=');</script>\n",
       "    "
      ],
      "text/plain": [
       "<IPython.core.display.HTML object>"
      ]
     },
     "metadata": {},
     "output_type": "display_data"
    },
    {
     "data": {
      "text/html": [
       "\n",
       "        <div id=\"cbeRm53YiUHjf8fnc7epRk\"></div>\n",
       "        <script>netpixi.call('cbeRm53YiUHjf8fnc7epRk', 'BG6GNWMZUSpdkKQEjvjRxv', 'changeGraph', 'eyJpZCI6IDI4LCAidHlwZSI6ICJ2ZXJ0ZXgiLCAicHJvcHMiOiB7ImNvbG9yIjogMTY3MTE2ODB9fQo=');</script>\n",
       "    "
      ],
      "text/plain": [
       "<IPython.core.display.HTML object>"
      ]
     },
     "metadata": {},
     "output_type": "display_data"
    },
    {
     "data": {
      "text/html": [
       "\n",
       "        <div id=\"mTTVGXy3y86PKxGkQorXHS\"></div>\n",
       "        <script>netpixi.call('mTTVGXy3y86PKxGkQorXHS', 'BG6GNWMZUSpdkKQEjvjRxv', 'changeGraph', 'eyJpZCI6IDI5LCAidHlwZSI6ICJ2ZXJ0ZXgiLCAicHJvcHMiOiB7ImNvbG9yIjogMTY3MTE2ODB9fQo=');</script>\n",
       "    "
      ],
      "text/plain": [
       "<IPython.core.display.HTML object>"
      ]
     },
     "metadata": {},
     "output_type": "display_data"
    },
    {
     "data": {
      "text/html": [
       "\n",
       "        <div id=\"CtuNSQyKAjByTY6JDNYtBE\"></div>\n",
       "        <script>netpixi.call('CtuNSQyKAjByTY6JDNYtBE', 'BG6GNWMZUSpdkKQEjvjRxv', 'changeGraph', 'eyJpZCI6IDMwLCAidHlwZSI6ICJ2ZXJ0ZXgiLCAicHJvcHMiOiB7ImNvbG9yIjogMTY3MTE2ODB9fQo=');</script>\n",
       "    "
      ],
      "text/plain": [
       "<IPython.core.display.HTML object>"
      ]
     },
     "metadata": {},
     "output_type": "display_data"
    },
    {
     "data": {
      "text/html": [
       "\n",
       "        <div id=\"2fBgADTyJNaV8iKnmppDgp\"></div>\n",
       "        <script>netpixi.call('2fBgADTyJNaV8iKnmppDgp', 'BG6GNWMZUSpdkKQEjvjRxv', 'changeGraph', 'eyJpZCI6IDMxLCAidHlwZSI6ICJ2ZXJ0ZXgiLCAicHJvcHMiOiB7ImNvbG9yIjogMTY3MTE2ODB9fQo=');</script>\n",
       "    "
      ],
      "text/plain": [
       "<IPython.core.display.HTML object>"
      ]
     },
     "metadata": {},
     "output_type": "display_data"
    },
    {
     "data": {
      "text/html": [
       "\n",
       "        <div id=\"DhqmcD7i3aNv46ZA9FPZM2\"></div>\n",
       "        <script>netpixi.call('DhqmcD7i3aNv46ZA9FPZM2', 'BG6GNWMZUSpdkKQEjvjRxv', 'changeGraph', 'eyJpZCI6IDMyLCAidHlwZSI6ICJ2ZXJ0ZXgiLCAicHJvcHMiOiB7ImNvbG9yIjogNjUyODB9fQo=');</script>\n",
       "    "
      ],
      "text/plain": [
       "<IPython.core.display.HTML object>"
      ]
     },
     "metadata": {},
     "output_type": "display_data"
    },
    {
     "data": {
      "text/html": [
       "\n",
       "        <div id=\"AeNxw52dm8gqLA3h2CCXHg\"></div>\n",
       "        <script>netpixi.call('AeNxw52dm8gqLA3h2CCXHg', 'BG6GNWMZUSpdkKQEjvjRxv', 'changeGraph', 'eyJpZCI6IDMzLCAidHlwZSI6ICJ2ZXJ0ZXgiLCAicHJvcHMiOiB7ImNvbG9yIjogMTY3MTE2ODB9fQo=');</script>\n",
       "    "
      ],
      "text/plain": [
       "<IPython.core.display.HTML object>"
      ]
     },
     "metadata": {},
     "output_type": "display_data"
    },
    {
     "data": {
      "text/html": [
       "\n",
       "        <div id=\"4yVyPzoy6mmcWTyf88P3As\"></div>\n",
       "        <script>netpixi.call('4yVyPzoy6mmcWTyf88P3As', 'BG6GNWMZUSpdkKQEjvjRxv', 'changeGraph', 'eyJpZCI6IDM0LCAidHlwZSI6ICJ2ZXJ0ZXgiLCAicHJvcHMiOiB7ImNvbG9yIjogMTY3MTE2ODB9fQo=');</script>\n",
       "    "
      ],
      "text/plain": [
       "<IPython.core.display.HTML object>"
      ]
     },
     "metadata": {},
     "output_type": "display_data"
    },
    {
     "data": {
      "text/html": [
       "\n",
       "        <div id=\"SUZxH2Yo6Um2N4YWP7LWsi\"></div>\n",
       "        <script>netpixi.call('SUZxH2Yo6Um2N4YWP7LWsi', 'BG6GNWMZUSpdkKQEjvjRxv', 'changeGraph', 'eyJpZCI6IDM1LCAidHlwZSI6ICJ2ZXJ0ZXgiLCAicHJvcHMiOiB7ImNvbG9yIjogMTY3MTE2ODB9fQo=');</script>\n",
       "    "
      ],
      "text/plain": [
       "<IPython.core.display.HTML object>"
      ]
     },
     "metadata": {},
     "output_type": "display_data"
    },
    {
     "data": {
      "text/html": [
       "\n",
       "        <div id=\"HoNNd8hQEdUMGVf46AqJyS\"></div>\n",
       "        <script>netpixi.call('HoNNd8hQEdUMGVf46AqJyS', 'BG6GNWMZUSpdkKQEjvjRxv', 'changeGraph', 'eyJpZCI6IDM2LCAidHlwZSI6ICJ2ZXJ0ZXgiLCAicHJvcHMiOiB7ImNvbG9yIjogNjUyODB9fQo=');</script>\n",
       "    "
      ],
      "text/plain": [
       "<IPython.core.display.HTML object>"
      ]
     },
     "metadata": {},
     "output_type": "display_data"
    },
    {
     "data": {
      "text/html": [
       "\n",
       "        <div id=\"nZY7KcchKhP9YXQrHiyU9J\"></div>\n",
       "        <script>netpixi.call('nZY7KcchKhP9YXQrHiyU9J', 'BG6GNWMZUSpdkKQEjvjRxv', 'changeGraph', 'eyJpZCI6IDM3LCAidHlwZSI6ICJ2ZXJ0ZXgiLCAicHJvcHMiOiB7ImNvbG9yIjogMTY3MTE2ODB9fQo=');</script>\n",
       "    "
      ],
      "text/plain": [
       "<IPython.core.display.HTML object>"
      ]
     },
     "metadata": {},
     "output_type": "display_data"
    },
    {
     "data": {
      "text/html": [
       "\n",
       "        <div id=\"PswT55Mhjcx7LZkQfj74pu\"></div>\n",
       "        <script>netpixi.call('PswT55Mhjcx7LZkQfj74pu', 'BG6GNWMZUSpdkKQEjvjRxv', 'changeGraph', 'eyJpZCI6IDM4LCAidHlwZSI6ICJ2ZXJ0ZXgiLCAicHJvcHMiOiB7ImNvbG9yIjogMTY3MTE2ODB9fQo=');</script>\n",
       "    "
      ],
      "text/plain": [
       "<IPython.core.display.HTML object>"
      ]
     },
     "metadata": {},
     "output_type": "display_data"
    },
    {
     "data": {
      "text/html": [
       "\n",
       "        <div id=\"R9PfUVaG4vSPxioUaQLeZF\"></div>\n",
       "        <script>netpixi.call('R9PfUVaG4vSPxioUaQLeZF', 'BG6GNWMZUSpdkKQEjvjRxv', 'changeGraph', 'eyJpZCI6IDM5LCAidHlwZSI6ICJ2ZXJ0ZXgiLCAicHJvcHMiOiB7ImNvbG9yIjogNjUyODB9fQo=');</script>\n",
       "    "
      ],
      "text/plain": [
       "<IPython.core.display.HTML object>"
      ]
     },
     "metadata": {},
     "output_type": "display_data"
    },
    {
     "data": {
      "text/html": [
       "\n",
       "        <div id=\"cmKBoA7SM3yttxfpTfj2RF\"></div>\n",
       "        <script>netpixi.call('cmKBoA7SM3yttxfpTfj2RF', 'BG6GNWMZUSpdkKQEjvjRxv', 'changeGraph', 'eyJpZCI6IDQwLCAidHlwZSI6ICJ2ZXJ0ZXgiLCAicHJvcHMiOiB7ImNvbG9yIjogNjUyODB9fQo=');</script>\n",
       "    "
      ],
      "text/plain": [
       "<IPython.core.display.HTML object>"
      ]
     },
     "metadata": {},
     "output_type": "display_data"
    },
    {
     "data": {
      "text/html": [
       "\n",
       "        <div id=\"QfcRwrfVsRmuxuTwCJxXFr\"></div>\n",
       "        <script>netpixi.call('QfcRwrfVsRmuxuTwCJxXFr', 'BG6GNWMZUSpdkKQEjvjRxv', 'changeGraph', 'eyJpZCI6IDQxLCAidHlwZSI6ICJ2ZXJ0ZXgiLCAicHJvcHMiOiB7ImNvbG9yIjogNjUyODB9fQo=');</script>\n",
       "    "
      ],
      "text/plain": [
       "<IPython.core.display.HTML object>"
      ]
     },
     "metadata": {},
     "output_type": "display_data"
    },
    {
     "data": {
      "text/html": [
       "\n",
       "        <div id=\"3vKHnyQHjt4bQWBRArfVSo\"></div>\n",
       "        <script>netpixi.call('3vKHnyQHjt4bQWBRArfVSo', 'BG6GNWMZUSpdkKQEjvjRxv', 'changeGraph', 'eyJpZCI6IDQyLCAidHlwZSI6ICJ2ZXJ0ZXgiLCAicHJvcHMiOiB7ImNvbG9yIjogMTY3MTE2ODB9fQo=');</script>\n",
       "    "
      ],
      "text/plain": [
       "<IPython.core.display.HTML object>"
      ]
     },
     "metadata": {},
     "output_type": "display_data"
    },
    {
     "data": {
      "text/html": [
       "\n",
       "        <div id=\"GSQdZwXiP6rwmnKPZ3UdKa\"></div>\n",
       "        <script>netpixi.call('GSQdZwXiP6rwmnKPZ3UdKa', 'BG6GNWMZUSpdkKQEjvjRxv', 'changeGraph', 'eyJpZCI6IDQzLCAidHlwZSI6ICJ2ZXJ0ZXgiLCAicHJvcHMiOiB7ImNvbG9yIjogNjUyODB9fQo=');</script>\n",
       "    "
      ],
      "text/plain": [
       "<IPython.core.display.HTML object>"
      ]
     },
     "metadata": {},
     "output_type": "display_data"
    },
    {
     "data": {
      "text/html": [
       "\n",
       "        <div id=\"TFuAVmfL3dtevJfc9TfqBK\"></div>\n",
       "        <script>netpixi.call('TFuAVmfL3dtevJfc9TfqBK', 'BG6GNWMZUSpdkKQEjvjRxv', 'changeGraph', 'eyJpZCI6IDQ0LCAidHlwZSI6ICJ2ZXJ0ZXgiLCAicHJvcHMiOiB7ImNvbG9yIjogNjUyODB9fQo=');</script>\n",
       "    "
      ],
      "text/plain": [
       "<IPython.core.display.HTML object>"
      ]
     },
     "metadata": {},
     "output_type": "display_data"
    },
    {
     "data": {
      "text/html": [
       "\n",
       "        <div id=\"YKjTSKw6kTe2UxVLVynkdw\"></div>\n",
       "        <script>netpixi.call('YKjTSKw6kTe2UxVLVynkdw', 'BG6GNWMZUSpdkKQEjvjRxv', 'changeGraph', 'eyJpZCI6IDQ1LCAidHlwZSI6ICJ2ZXJ0ZXgiLCAicHJvcHMiOiB7ImNvbG9yIjogMTY3MTE2ODB9fQo=');</script>\n",
       "    "
      ],
      "text/plain": [
       "<IPython.core.display.HTML object>"
      ]
     },
     "metadata": {},
     "output_type": "display_data"
    },
    {
     "data": {
      "text/html": [
       "\n",
       "        <div id=\"3iF3SHWMbc2AfDJjt3S9gA\"></div>\n",
       "        <script>netpixi.call('3iF3SHWMbc2AfDJjt3S9gA', 'BG6GNWMZUSpdkKQEjvjRxv', 'changeGraph', 'eyJpZCI6IDQ2LCAidHlwZSI6ICJ2ZXJ0ZXgiLCAicHJvcHMiOiB7ImNvbG9yIjogMTY3MTE2ODB9fQo=');</script>\n",
       "    "
      ],
      "text/plain": [
       "<IPython.core.display.HTML object>"
      ]
     },
     "metadata": {},
     "output_type": "display_data"
    },
    {
     "data": {
      "text/html": [
       "\n",
       "        <div id=\"F438W744kpdFd4CShDU45V\"></div>\n",
       "        <script>netpixi.call('F438W744kpdFd4CShDU45V', 'BG6GNWMZUSpdkKQEjvjRxv', 'changeGraph', 'eyJpZCI6IDQ3LCAidHlwZSI6ICJ2ZXJ0ZXgiLCAicHJvcHMiOiB7ImNvbG9yIjogMTY3MTE2ODB9fQo=');</script>\n",
       "    "
      ],
      "text/plain": [
       "<IPython.core.display.HTML object>"
      ]
     },
     "metadata": {},
     "output_type": "display_data"
    },
    {
     "data": {
      "text/html": [
       "\n",
       "        <div id=\"4f5e67QEYVPv5NuZPMQ8cb\"></div>\n",
       "        <script>netpixi.call('4f5e67QEYVPv5NuZPMQ8cb', 'BG6GNWMZUSpdkKQEjvjRxv', 'changeGraph', 'eyJpZCI6IDQ4LCAidHlwZSI6ICJ2ZXJ0ZXgiLCAicHJvcHMiOiB7ImNvbG9yIjogNjUyODB9fQo=');</script>\n",
       "    "
      ],
      "text/plain": [
       "<IPython.core.display.HTML object>"
      ]
     },
     "metadata": {},
     "output_type": "display_data"
    },
    {
     "data": {
      "text/html": [
       "\n",
       "        <div id=\"TCiwTiCWHZW6QG6jvGqVsV\"></div>\n",
       "        <script>netpixi.call('TCiwTiCWHZW6QG6jvGqVsV', 'BG6GNWMZUSpdkKQEjvjRxv', 'changeGraph', 'eyJpZCI6IDQ5LCAidHlwZSI6ICJ2ZXJ0ZXgiLCAicHJvcHMiOiB7ImNvbG9yIjogMTY3MTE2ODB9fQo=');</script>\n",
       "    "
      ],
      "text/plain": [
       "<IPython.core.display.HTML object>"
      ]
     },
     "metadata": {},
     "output_type": "display_data"
    },
    {
     "data": {
      "text/html": [
       "\n",
       "        <div id=\"VD2yn2KqTBW8aa4KATp82A\"></div>\n",
       "        <script>netpixi.call('VD2yn2KqTBW8aa4KATp82A', 'BG6GNWMZUSpdkKQEjvjRxv', 'changeGraph', 'eyJpZCI6IDUwLCAidHlwZSI6ICJ2ZXJ0ZXgiLCAicHJvcHMiOiB7ImNvbG9yIjogNjUyODB9fQo=');</script>\n",
       "    "
      ],
      "text/plain": [
       "<IPython.core.display.HTML object>"
      ]
     },
     "metadata": {},
     "output_type": "display_data"
    },
    {
     "data": {
      "text/html": [
       "\n",
       "        <div id=\"Ct4gdwDCMdt4ZfDQaFzY2v\"></div>\n",
       "        <script>netpixi.call('Ct4gdwDCMdt4ZfDQaFzY2v', 'BG6GNWMZUSpdkKQEjvjRxv', 'changeGraph', 'eyJpZCI6IDUxLCAidHlwZSI6ICJ2ZXJ0ZXgiLCAicHJvcHMiOiB7ImNvbG9yIjogMTY3MTE2ODB9fQo=');</script>\n",
       "    "
      ],
      "text/plain": [
       "<IPython.core.display.HTML object>"
      ]
     },
     "metadata": {},
     "output_type": "display_data"
    },
    {
     "data": {
      "text/html": [
       "\n",
       "        <div id=\"QHrhYWHw2tNJPHJjfTCj5S\"></div>\n",
       "        <script>netpixi.call('QHrhYWHw2tNJPHJjfTCj5S', 'BG6GNWMZUSpdkKQEjvjRxv', 'changeGraph', 'eyJpZCI6IDUyLCAidHlwZSI6ICJ2ZXJ0ZXgiLCAicHJvcHMiOiB7ImNvbG9yIjogNjUyODB9fQo=');</script>\n",
       "    "
      ],
      "text/plain": [
       "<IPython.core.display.HTML object>"
      ]
     },
     "metadata": {},
     "output_type": "display_data"
    },
    {
     "data": {
      "text/html": [
       "\n",
       "        <div id=\"bCUHuitvbKmuc6dfA67sGK\"></div>\n",
       "        <script>netpixi.call('bCUHuitvbKmuc6dfA67sGK', 'BG6GNWMZUSpdkKQEjvjRxv', 'changeGraph', 'eyJpZCI6IDUzLCAidHlwZSI6ICJ2ZXJ0ZXgiLCAicHJvcHMiOiB7ImNvbG9yIjogMTY3MTE2ODB9fQo=');</script>\n",
       "    "
      ],
      "text/plain": [
       "<IPython.core.display.HTML object>"
      ]
     },
     "metadata": {},
     "output_type": "display_data"
    },
    {
     "data": {
      "text/html": [
       "\n",
       "        <div id=\"i4V8BXqxdomkgjdBo4RsHz\"></div>\n",
       "        <script>netpixi.call('i4V8BXqxdomkgjdBo4RsHz', 'BG6GNWMZUSpdkKQEjvjRxv', 'changeGraph', 'eyJpZCI6IDU0LCAidHlwZSI6ICJ2ZXJ0ZXgiLCAicHJvcHMiOiB7ImNvbG9yIjogMTY3MTE2ODB9fQo=');</script>\n",
       "    "
      ],
      "text/plain": [
       "<IPython.core.display.HTML object>"
      ]
     },
     "metadata": {},
     "output_type": "display_data"
    },
    {
     "data": {
      "text/html": [
       "\n",
       "        <div id=\"D9siAUatRheUDRNSAnZDQY\"></div>\n",
       "        <script>netpixi.call('D9siAUatRheUDRNSAnZDQY', 'BG6GNWMZUSpdkKQEjvjRxv', 'changeGraph', 'eyJpZCI6IDU1LCAidHlwZSI6ICJ2ZXJ0ZXgiLCAicHJvcHMiOiB7ImNvbG9yIjogNjUyODB9fQo=');</script>\n",
       "    "
      ],
      "text/plain": [
       "<IPython.core.display.HTML object>"
      ]
     },
     "metadata": {},
     "output_type": "display_data"
    },
    {
     "data": {
      "text/html": [
       "\n",
       "        <div id=\"5N7TyryztqadQfqXoLqhXT\"></div>\n",
       "        <script>netpixi.call('5N7TyryztqadQfqXoLqhXT', 'BG6GNWMZUSpdkKQEjvjRxv', 'changeGraph', 'eyJpZCI6IDU2LCAidHlwZSI6ICJ2ZXJ0ZXgiLCAicHJvcHMiOiB7ImNvbG9yIjogNjUyODB9fQo=');</script>\n",
       "    "
      ],
      "text/plain": [
       "<IPython.core.display.HTML object>"
      ]
     },
     "metadata": {},
     "output_type": "display_data"
    },
    {
     "data": {
      "text/html": [
       "\n",
       "        <div id=\"57jfmhRPhFB6Pz4GiVUwS2\"></div>\n",
       "        <script>netpixi.call('57jfmhRPhFB6Pz4GiVUwS2', 'BG6GNWMZUSpdkKQEjvjRxv', 'changeGraph', 'eyJpZCI6IDU3LCAidHlwZSI6ICJ2ZXJ0ZXgiLCAicHJvcHMiOiB7ImNvbG9yIjogNjUyODB9fQo=');</script>\n",
       "    "
      ],
      "text/plain": [
       "<IPython.core.display.HTML object>"
      ]
     },
     "metadata": {},
     "output_type": "display_data"
    },
    {
     "data": {
      "text/html": [
       "\n",
       "        <div id=\"nqkAAcfxJV5tA7BXwGKBTd\"></div>\n",
       "        <script>netpixi.call('nqkAAcfxJV5tA7BXwGKBTd', 'BG6GNWMZUSpdkKQEjvjRxv', 'changeGraph', 'eyJpZCI6IDU4LCAidHlwZSI6ICJ2ZXJ0ZXgiLCAicHJvcHMiOiB7ImNvbG9yIjogMTY3MTE2ODB9fQo=');</script>\n",
       "    "
      ],
      "text/plain": [
       "<IPython.core.display.HTML object>"
      ]
     },
     "metadata": {},
     "output_type": "display_data"
    },
    {
     "data": {
      "text/html": [
       "\n",
       "        <div id=\"igiJ3LHwmjJA6XUNWdrWe3\"></div>\n",
       "        <script>netpixi.call('igiJ3LHwmjJA6XUNWdrWe3', 'BG6GNWMZUSpdkKQEjvjRxv', 'changeGraph', 'eyJpZCI6IDU5LCAidHlwZSI6ICJ2ZXJ0ZXgiLCAicHJvcHMiOiB7ImNvbG9yIjogNjUyODB9fQo=');</script>\n",
       "    "
      ],
      "text/plain": [
       "<IPython.core.display.HTML object>"
      ]
     },
     "metadata": {},
     "output_type": "display_data"
    },
    {
     "data": {
      "text/html": [
       "\n",
       "        <div id=\"9cAQdTLZ2NVn8uHwqrsqQx\"></div>\n",
       "        <script>netpixi.call('9cAQdTLZ2NVn8uHwqrsqQx', 'BG6GNWMZUSpdkKQEjvjRxv', 'changeGraph', 'eyJpZCI6IDYwLCAidHlwZSI6ICJ2ZXJ0ZXgiLCAicHJvcHMiOiB7ImNvbG9yIjogNjUyODB9fQo=');</script>\n",
       "    "
      ],
      "text/plain": [
       "<IPython.core.display.HTML object>"
      ]
     },
     "metadata": {},
     "output_type": "display_data"
    },
    {
     "data": {
      "text/html": [
       "\n",
       "        <div id=\"EVMzgimZW2PFVbYe9M3Hw2\"></div>\n",
       "        <script>netpixi.call('EVMzgimZW2PFVbYe9M3Hw2', 'BG6GNWMZUSpdkKQEjvjRxv', 'changeGraph', 'eyJpZCI6IDYxLCAidHlwZSI6ICJ2ZXJ0ZXgiLCAicHJvcHMiOiB7ImNvbG9yIjogMTY3MTE2ODB9fQo=');</script>\n",
       "    "
      ],
      "text/plain": [
       "<IPython.core.display.HTML object>"
      ]
     },
     "metadata": {},
     "output_type": "display_data"
    },
    {
     "data": {
      "text/html": [
       "\n",
       "        <div id=\"gR2hGnpgKd6AKqaVazPn4A\"></div>\n",
       "        <script>netpixi.call('gR2hGnpgKd6AKqaVazPn4A', 'BG6GNWMZUSpdkKQEjvjRxv', 'changeGraph', 'eyJpZCI6IDYyLCAidHlwZSI6ICJ2ZXJ0ZXgiLCAicHJvcHMiOiB7ImNvbG9yIjogMTY3MTE2ODB9fQo=');</script>\n",
       "    "
      ],
      "text/plain": [
       "<IPython.core.display.HTML object>"
      ]
     },
     "metadata": {},
     "output_type": "display_data"
    },
    {
     "data": {
      "text/html": [
       "\n",
       "        <div id=\"8qzimLNEifcqLHfwb9u5qH\"></div>\n",
       "        <script>netpixi.call('8qzimLNEifcqLHfwb9u5qH', 'BG6GNWMZUSpdkKQEjvjRxv', 'changeGraph', 'eyJpZCI6IDYzLCAidHlwZSI6ICJ2ZXJ0ZXgiLCAicHJvcHMiOiB7ImNvbG9yIjogNjUyODB9fQo=');</script>\n",
       "    "
      ],
      "text/plain": [
       "<IPython.core.display.HTML object>"
      ]
     },
     "metadata": {},
     "output_type": "display_data"
    },
    {
     "data": {
      "text/html": [
       "\n",
       "        <div id=\"g3P8SdmTDnk38dnqUBCTLJ\"></div>\n",
       "        <script>netpixi.call('g3P8SdmTDnk38dnqUBCTLJ', 'BG6GNWMZUSpdkKQEjvjRxv', 'changeGraph', 'eyJpZCI6IDY0LCAidHlwZSI6ICJ2ZXJ0ZXgiLCAicHJvcHMiOiB7ImNvbG9yIjogMTY3MTE2ODB9fQo=');</script>\n",
       "    "
      ],
      "text/plain": [
       "<IPython.core.display.HTML object>"
      ]
     },
     "metadata": {},
     "output_type": "display_data"
    },
    {
     "data": {
      "text/html": [
       "\n",
       "        <div id=\"ZoYQeGSPxWMq4e4AzBi5e5\"></div>\n",
       "        <script>netpixi.call('ZoYQeGSPxWMq4e4AzBi5e5', 'BG6GNWMZUSpdkKQEjvjRxv', 'changeGraph', 'eyJpZCI6IDY1LCAidHlwZSI6ICJ2ZXJ0ZXgiLCAicHJvcHMiOiB7ImNvbG9yIjogMTY3MTE2ODB9fQo=');</script>\n",
       "    "
      ],
      "text/plain": [
       "<IPython.core.display.HTML object>"
      ]
     },
     "metadata": {},
     "output_type": "display_data"
    },
    {
     "data": {
      "text/html": [
       "\n",
       "        <div id=\"Yq9yqkBGRGGTrnZCZTu9H2\"></div>\n",
       "        <script>netpixi.call('Yq9yqkBGRGGTrnZCZTu9H2', 'BG6GNWMZUSpdkKQEjvjRxv', 'changeGraph', 'eyJpZCI6IDY2LCAidHlwZSI6ICJ2ZXJ0ZXgiLCAicHJvcHMiOiB7ImNvbG9yIjogNjUyODB9fQo=');</script>\n",
       "    "
      ],
      "text/plain": [
       "<IPython.core.display.HTML object>"
      ]
     },
     "metadata": {},
     "output_type": "display_data"
    },
    {
     "data": {
      "text/html": [
       "\n",
       "        <div id=\"3ngBC2bVxsTwSpwxGLzkZD\"></div>\n",
       "        <script>netpixi.call('3ngBC2bVxsTwSpwxGLzkZD', 'BG6GNWMZUSpdkKQEjvjRxv', 'changeGraph', 'eyJpZCI6IDY3LCAidHlwZSI6ICJ2ZXJ0ZXgiLCAicHJvcHMiOiB7ImNvbG9yIjogMTY3MTE2ODB9fQo=');</script>\n",
       "    "
      ],
      "text/plain": [
       "<IPython.core.display.HTML object>"
      ]
     },
     "metadata": {},
     "output_type": "display_data"
    },
    {
     "data": {
      "text/html": [
       "\n",
       "        <div id=\"9j5iLVMf8hKrXc5iLNRxFi\"></div>\n",
       "        <script>netpixi.call('9j5iLVMf8hKrXc5iLNRxFi', 'BG6GNWMZUSpdkKQEjvjRxv', 'changeGraph', 'eyJpZCI6IDY4LCAidHlwZSI6ICJ2ZXJ0ZXgiLCAicHJvcHMiOiB7ImNvbG9yIjogNjUyODB9fQo=');</script>\n",
       "    "
      ],
      "text/plain": [
       "<IPython.core.display.HTML object>"
      ]
     },
     "metadata": {},
     "output_type": "display_data"
    },
    {
     "data": {
      "text/html": [
       "\n",
       "        <div id=\"iggdYJax6pHHTybHBJ4FwP\"></div>\n",
       "        <script>netpixi.call('iggdYJax6pHHTybHBJ4FwP', 'BG6GNWMZUSpdkKQEjvjRxv', 'changeGraph', 'eyJpZCI6IDY5LCAidHlwZSI6ICJ2ZXJ0ZXgiLCAicHJvcHMiOiB7ImNvbG9yIjogNjUyODB9fQo=');</script>\n",
       "    "
      ],
      "text/plain": [
       "<IPython.core.display.HTML object>"
      ]
     },
     "metadata": {},
     "output_type": "display_data"
    },
    {
     "data": {
      "text/html": [
       "\n",
       "        <div id=\"QNPSaG4Vf8RGytnCSdVZ2g\"></div>\n",
       "        <script>netpixi.call('QNPSaG4Vf8RGytnCSdVZ2g', 'BG6GNWMZUSpdkKQEjvjRxv', 'changeGraph', 'eyJpZCI6IDcwLCAidHlwZSI6ICJ2ZXJ0ZXgiLCAicHJvcHMiOiB7ImNvbG9yIjogNjUyODB9fQo=');</script>\n",
       "    "
      ],
      "text/plain": [
       "<IPython.core.display.HTML object>"
      ]
     },
     "metadata": {},
     "output_type": "display_data"
    },
    {
     "data": {
      "text/html": [
       "\n",
       "        <div id=\"dmcxGwyj7J97p5yD3AS4pq\"></div>\n",
       "        <script>netpixi.call('dmcxGwyj7J97p5yD3AS4pq', 'BG6GNWMZUSpdkKQEjvjRxv', 'changeGraph', 'eyJpZCI6IDcxLCAidHlwZSI6ICJ2ZXJ0ZXgiLCAicHJvcHMiOiB7ImNvbG9yIjogMTY3MTE2ODB9fQo=');</script>\n",
       "    "
      ],
      "text/plain": [
       "<IPython.core.display.HTML object>"
      ]
     },
     "metadata": {},
     "output_type": "display_data"
    },
    {
     "data": {
      "text/html": [
       "\n",
       "        <div id=\"CjE3fMfiLhHZSsYD9qC6Fz\"></div>\n",
       "        <script>netpixi.call('CjE3fMfiLhHZSsYD9qC6Fz', 'BG6GNWMZUSpdkKQEjvjRxv', 'changeGraph', 'eyJpZCI6IDcyLCAidHlwZSI6ICJ2ZXJ0ZXgiLCAicHJvcHMiOiB7ImNvbG9yIjogMTY3MTE2ODB9fQo=');</script>\n",
       "    "
      ],
      "text/plain": [
       "<IPython.core.display.HTML object>"
      ]
     },
     "metadata": {},
     "output_type": "display_data"
    },
    {
     "data": {
      "text/html": [
       "\n",
       "        <div id=\"XJQabged7sXqo7CzBdhZZs\"></div>\n",
       "        <script>netpixi.call('XJQabged7sXqo7CzBdhZZs', 'BG6GNWMZUSpdkKQEjvjRxv', 'changeGraph', 'eyJpZCI6IDczLCAidHlwZSI6ICJ2ZXJ0ZXgiLCAicHJvcHMiOiB7ImNvbG9yIjogMTY3MTE2ODB9fQo=');</script>\n",
       "    "
      ],
      "text/plain": [
       "<IPython.core.display.HTML object>"
      ]
     },
     "metadata": {},
     "output_type": "display_data"
    },
    {
     "data": {
      "text/html": [
       "\n",
       "        <div id=\"8MQZHdLfcs44zSiTAW6iZm\"></div>\n",
       "        <script>netpixi.call('8MQZHdLfcs44zSiTAW6iZm', 'BG6GNWMZUSpdkKQEjvjRxv', 'changeGraph', 'eyJpZCI6IDc0LCAidHlwZSI6ICJ2ZXJ0ZXgiLCAicHJvcHMiOiB7ImNvbG9yIjogNjUyODB9fQo=');</script>\n",
       "    "
      ],
      "text/plain": [
       "<IPython.core.display.HTML object>"
      ]
     },
     "metadata": {},
     "output_type": "display_data"
    },
    {
     "data": {
      "text/html": [
       "\n",
       "        <div id=\"FAye9QzJCnPCEX9HoWvno6\"></div>\n",
       "        <script>netpixi.call('FAye9QzJCnPCEX9HoWvno6', 'BG6GNWMZUSpdkKQEjvjRxv', 'changeGraph', 'eyJpZCI6IDc1LCAidHlwZSI6ICJ2ZXJ0ZXgiLCAicHJvcHMiOiB7ImNvbG9yIjogMTY3MTE2ODB9fQo=');</script>\n",
       "    "
      ],
      "text/plain": [
       "<IPython.core.display.HTML object>"
      ]
     },
     "metadata": {},
     "output_type": "display_data"
    },
    {
     "data": {
      "text/html": [
       "\n",
       "        <div id=\"hXYrRDQo2agSkwwCAe2W69\"></div>\n",
       "        <script>netpixi.call('hXYrRDQo2agSkwwCAe2W69', 'BG6GNWMZUSpdkKQEjvjRxv', 'changeGraph', 'eyJpZCI6IDc2LCAidHlwZSI6ICJ2ZXJ0ZXgiLCAicHJvcHMiOiB7ImNvbG9yIjogMTY3MTE2ODB9fQo=');</script>\n",
       "    "
      ],
      "text/plain": [
       "<IPython.core.display.HTML object>"
      ]
     },
     "metadata": {},
     "output_type": "display_data"
    },
    {
     "data": {
      "text/html": [
       "\n",
       "        <div id=\"bGPT5Ch76msRh38HdHCTNY\"></div>\n",
       "        <script>netpixi.call('bGPT5Ch76msRh38HdHCTNY', 'BG6GNWMZUSpdkKQEjvjRxv', 'changeGraph', 'eyJpZCI6IDc3LCAidHlwZSI6ICJ2ZXJ0ZXgiLCAicHJvcHMiOiB7ImNvbG9yIjogMTY3MTE2ODB9fQo=');</script>\n",
       "    "
      ],
      "text/plain": [
       "<IPython.core.display.HTML object>"
      ]
     },
     "metadata": {},
     "output_type": "display_data"
    },
    {
     "data": {
      "text/html": [
       "\n",
       "        <div id=\"nyDLWcLXuEYvcNZLGaxqsN\"></div>\n",
       "        <script>netpixi.call('nyDLWcLXuEYvcNZLGaxqsN', 'BG6GNWMZUSpdkKQEjvjRxv', 'changeGraph', 'eyJpZCI6IDc4LCAidHlwZSI6ICJ2ZXJ0ZXgiLCAicHJvcHMiOiB7ImNvbG9yIjogNjUyODB9fQo=');</script>\n",
       "    "
      ],
      "text/plain": [
       "<IPython.core.display.HTML object>"
      ]
     },
     "metadata": {},
     "output_type": "display_data"
    },
    {
     "data": {
      "text/html": [
       "\n",
       "        <div id=\"kuBjwh2ofmtBiHPV8Nnj8h\"></div>\n",
       "        <script>netpixi.call('kuBjwh2ofmtBiHPV8Nnj8h', 'BG6GNWMZUSpdkKQEjvjRxv', 'changeGraph', 'eyJpZCI6IDc5LCAidHlwZSI6ICJ2ZXJ0ZXgiLCAicHJvcHMiOiB7ImNvbG9yIjogMTY3MTE2ODB9fQo=');</script>\n",
       "    "
      ],
      "text/plain": [
       "<IPython.core.display.HTML object>"
      ]
     },
     "metadata": {},
     "output_type": "display_data"
    },
    {
     "data": {
      "text/html": [
       "\n",
       "        <div id=\"o8XPMRNNdKgfL6riEurFaM\"></div>\n",
       "        <script>netpixi.call('o8XPMRNNdKgfL6riEurFaM', 'BG6GNWMZUSpdkKQEjvjRxv', 'changeGraph', 'eyJpZCI6IDgwLCAidHlwZSI6ICJ2ZXJ0ZXgiLCAicHJvcHMiOiB7ImNvbG9yIjogMTY3MTE2ODB9fQo=');</script>\n",
       "    "
      ],
      "text/plain": [
       "<IPython.core.display.HTML object>"
      ]
     },
     "metadata": {},
     "output_type": "display_data"
    },
    {
     "data": {
      "text/html": [
       "\n",
       "        <div id=\"mzZbNanUPmD3GgcY2GYdSy\"></div>\n",
       "        <script>netpixi.call('mzZbNanUPmD3GgcY2GYdSy', 'BG6GNWMZUSpdkKQEjvjRxv', 'changeGraph', 'eyJpZCI6IDgxLCAidHlwZSI6ICJ2ZXJ0ZXgiLCAicHJvcHMiOiB7ImNvbG9yIjogNjUyODB9fQo=');</script>\n",
       "    "
      ],
      "text/plain": [
       "<IPython.core.display.HTML object>"
      ]
     },
     "metadata": {},
     "output_type": "display_data"
    },
    {
     "data": {
      "text/html": [
       "\n",
       "        <div id=\"5YZxBgrENCsz3Fcf8fpekL\"></div>\n",
       "        <script>netpixi.call('5YZxBgrENCsz3Fcf8fpekL', 'BG6GNWMZUSpdkKQEjvjRxv', 'changeGraph', 'eyJpZCI6IDgyLCAidHlwZSI6ICJ2ZXJ0ZXgiLCAicHJvcHMiOiB7ImNvbG9yIjogMTY3MTE2ODB9fQo=');</script>\n",
       "    "
      ],
      "text/plain": [
       "<IPython.core.display.HTML object>"
      ]
     },
     "metadata": {},
     "output_type": "display_data"
    },
    {
     "data": {
      "text/html": [
       "\n",
       "        <div id=\"ephbCn9ruXisTPTCSGYvfa\"></div>\n",
       "        <script>netpixi.call('ephbCn9ruXisTPTCSGYvfa', 'BG6GNWMZUSpdkKQEjvjRxv', 'changeGraph', 'eyJpZCI6IDgzLCAidHlwZSI6ICJ2ZXJ0ZXgiLCAicHJvcHMiOiB7ImNvbG9yIjogNjUyODB9fQo=');</script>\n",
       "    "
      ],
      "text/plain": [
       "<IPython.core.display.HTML object>"
      ]
     },
     "metadata": {},
     "output_type": "display_data"
    },
    {
     "data": {
      "text/html": [
       "\n",
       "        <div id=\"nwvQtfTPZwEbXR4dQA6CJs\"></div>\n",
       "        <script>netpixi.call('nwvQtfTPZwEbXR4dQA6CJs', 'BG6GNWMZUSpdkKQEjvjRxv', 'changeGraph', 'eyJpZCI6IDg0LCAidHlwZSI6ICJ2ZXJ0ZXgiLCAicHJvcHMiOiB7ImNvbG9yIjogNjUyODB9fQo=');</script>\n",
       "    "
      ],
      "text/plain": [
       "<IPython.core.display.HTML object>"
      ]
     },
     "metadata": {},
     "output_type": "display_data"
    },
    {
     "data": {
      "text/html": [
       "\n",
       "        <div id=\"XtuDDKtnrv9CjGtVGW2Fba\"></div>\n",
       "        <script>netpixi.call('XtuDDKtnrv9CjGtVGW2Fba', 'BG6GNWMZUSpdkKQEjvjRxv', 'changeGraph', 'eyJpZCI6IDg1LCAidHlwZSI6ICJ2ZXJ0ZXgiLCAicHJvcHMiOiB7ImNvbG9yIjogMTY3MTE2ODB9fQo=');</script>\n",
       "    "
      ],
      "text/plain": [
       "<IPython.core.display.HTML object>"
      ]
     },
     "metadata": {},
     "output_type": "display_data"
    },
    {
     "data": {
      "text/html": [
       "\n",
       "        <div id=\"o7NbtPZ7cA8GJkBFnnNVUE\"></div>\n",
       "        <script>netpixi.call('o7NbtPZ7cA8GJkBFnnNVUE', 'BG6GNWMZUSpdkKQEjvjRxv', 'changeGraph', 'eyJpZCI6IDg2LCAidHlwZSI6ICJ2ZXJ0ZXgiLCAicHJvcHMiOiB7ImNvbG9yIjogNjUyODB9fQo=');</script>\n",
       "    "
      ],
      "text/plain": [
       "<IPython.core.display.HTML object>"
      ]
     },
     "metadata": {},
     "output_type": "display_data"
    },
    {
     "data": {
      "text/html": [
       "\n",
       "        <div id=\"PUva8cEZcGcoPHvpnPRiNx\"></div>\n",
       "        <script>netpixi.call('PUva8cEZcGcoPHvpnPRiNx', 'BG6GNWMZUSpdkKQEjvjRxv', 'changeGraph', 'eyJpZCI6IDg3LCAidHlwZSI6ICJ2ZXJ0ZXgiLCAicHJvcHMiOiB7ImNvbG9yIjogMTY3MTE2ODB9fQo=');</script>\n",
       "    "
      ],
      "text/plain": [
       "<IPython.core.display.HTML object>"
      ]
     },
     "metadata": {},
     "output_type": "display_data"
    },
    {
     "data": {
      "text/html": [
       "\n",
       "        <div id=\"VwA9yQ485Lhkkchh8oocDN\"></div>\n",
       "        <script>netpixi.call('VwA9yQ485Lhkkchh8oocDN', 'BG6GNWMZUSpdkKQEjvjRxv', 'changeGraph', 'eyJpZCI6IDg4LCAidHlwZSI6ICJ2ZXJ0ZXgiLCAicHJvcHMiOiB7ImNvbG9yIjogMTY3MTE2ODB9fQo=');</script>\n",
       "    "
      ],
      "text/plain": [
       "<IPython.core.display.HTML object>"
      ]
     },
     "metadata": {},
     "output_type": "display_data"
    },
    {
     "data": {
      "text/html": [
       "\n",
       "        <div id=\"RYcTXgwn73UeQT3VSTdwec\"></div>\n",
       "        <script>netpixi.call('RYcTXgwn73UeQT3VSTdwec', 'BG6GNWMZUSpdkKQEjvjRxv', 'changeGraph', 'eyJpZCI6IDg5LCAidHlwZSI6ICJ2ZXJ0ZXgiLCAicHJvcHMiOiB7ImNvbG9yIjogMTY3MTE2ODB9fQo=');</script>\n",
       "    "
      ],
      "text/plain": [
       "<IPython.core.display.HTML object>"
      ]
     },
     "metadata": {},
     "output_type": "display_data"
    },
    {
     "data": {
      "text/html": [
       "\n",
       "        <div id=\"HH5EBKftq7wTDFTfLgevDk\"></div>\n",
       "        <script>netpixi.call('HH5EBKftq7wTDFTfLgevDk', 'BG6GNWMZUSpdkKQEjvjRxv', 'changeGraph', 'eyJpZCI6IDkwLCAidHlwZSI6ICJ2ZXJ0ZXgiLCAicHJvcHMiOiB7ImNvbG9yIjogMTY3MTE2ODB9fQo=');</script>\n",
       "    "
      ],
      "text/plain": [
       "<IPython.core.display.HTML object>"
      ]
     },
     "metadata": {},
     "output_type": "display_data"
    },
    {
     "data": {
      "text/html": [
       "\n",
       "        <div id=\"SGnFh9Kip4PiM2pM4zLd2a\"></div>\n",
       "        <script>netpixi.call('SGnFh9Kip4PiM2pM4zLd2a', 'BG6GNWMZUSpdkKQEjvjRxv', 'changeGraph', 'eyJpZCI6IDkxLCAidHlwZSI6ICJ2ZXJ0ZXgiLCAicHJvcHMiOiB7ImNvbG9yIjogNjUyODB9fQo=');</script>\n",
       "    "
      ],
      "text/plain": [
       "<IPython.core.display.HTML object>"
      ]
     },
     "metadata": {},
     "output_type": "display_data"
    },
    {
     "data": {
      "text/html": [
       "\n",
       "        <div id=\"SEsznR4CimgD3GtisqRSRF\"></div>\n",
       "        <script>netpixi.call('SEsznR4CimgD3GtisqRSRF', 'BG6GNWMZUSpdkKQEjvjRxv', 'changeGraph', 'eyJpZCI6IDkyLCAidHlwZSI6ICJ2ZXJ0ZXgiLCAicHJvcHMiOiB7ImNvbG9yIjogNjUyODB9fQo=');</script>\n",
       "    "
      ],
      "text/plain": [
       "<IPython.core.display.HTML object>"
      ]
     },
     "metadata": {},
     "output_type": "display_data"
    },
    {
     "data": {
      "text/html": [
       "\n",
       "        <div id=\"7V7BQAuKaUhG7SLjYJ2hpH\"></div>\n",
       "        <script>netpixi.call('7V7BQAuKaUhG7SLjYJ2hpH', 'BG6GNWMZUSpdkKQEjvjRxv', 'changeGraph', 'eyJpZCI6IDkzLCAidHlwZSI6ICJ2ZXJ0ZXgiLCAicHJvcHMiOiB7ImNvbG9yIjogNjUyODB9fQo=');</script>\n",
       "    "
      ],
      "text/plain": [
       "<IPython.core.display.HTML object>"
      ]
     },
     "metadata": {},
     "output_type": "display_data"
    },
    {
     "data": {
      "text/html": [
       "\n",
       "        <div id=\"SCPTM7h3dSpyRFVf3jLajf\"></div>\n",
       "        <script>netpixi.call('SCPTM7h3dSpyRFVf3jLajf', 'BG6GNWMZUSpdkKQEjvjRxv', 'changeGraph', 'eyJpZCI6IDk0LCAidHlwZSI6ICJ2ZXJ0ZXgiLCAicHJvcHMiOiB7ImNvbG9yIjogMTY3MTE2ODB9fQo=');</script>\n",
       "    "
      ],
      "text/plain": [
       "<IPython.core.display.HTML object>"
      ]
     },
     "metadata": {},
     "output_type": "display_data"
    },
    {
     "data": {
      "text/html": [
       "\n",
       "        <div id=\"XWXyheQXgfxQgATYxgV2K4\"></div>\n",
       "        <script>netpixi.call('XWXyheQXgfxQgATYxgV2K4', 'BG6GNWMZUSpdkKQEjvjRxv', 'changeGraph', 'eyJpZCI6IDk1LCAidHlwZSI6ICJ2ZXJ0ZXgiLCAicHJvcHMiOiB7ImNvbG9yIjogNjUyODB9fQo=');</script>\n",
       "    "
      ],
      "text/plain": [
       "<IPython.core.display.HTML object>"
      ]
     },
     "metadata": {},
     "output_type": "display_data"
    },
    {
     "data": {
      "text/html": [
       "\n",
       "        <div id=\"fsq2LipcjHy2934S8L5sCi\"></div>\n",
       "        <script>netpixi.call('fsq2LipcjHy2934S8L5sCi', 'BG6GNWMZUSpdkKQEjvjRxv', 'changeGraph', 'eyJpZCI6IDk2LCAidHlwZSI6ICJ2ZXJ0ZXgiLCAicHJvcHMiOiB7ImNvbG9yIjogMTY3MTE2ODB9fQo=');</script>\n",
       "    "
      ],
      "text/plain": [
       "<IPython.core.display.HTML object>"
      ]
     },
     "metadata": {},
     "output_type": "display_data"
    },
    {
     "data": {
      "text/html": [
       "\n",
       "        <div id=\"ghorVatf9z68qEAsEb8uaa\"></div>\n",
       "        <script>netpixi.call('ghorVatf9z68qEAsEb8uaa', 'BG6GNWMZUSpdkKQEjvjRxv', 'changeGraph', 'eyJpZCI6IDk3LCAidHlwZSI6ICJ2ZXJ0ZXgiLCAicHJvcHMiOiB7ImNvbG9yIjogNjUyODB9fQo=');</script>\n",
       "    "
      ],
      "text/plain": [
       "<IPython.core.display.HTML object>"
      ]
     },
     "metadata": {},
     "output_type": "display_data"
    },
    {
     "data": {
      "text/html": [
       "\n",
       "        <div id=\"YMqgJiyKGn28QwZPczkp6j\"></div>\n",
       "        <script>netpixi.call('YMqgJiyKGn28QwZPczkp6j', 'BG6GNWMZUSpdkKQEjvjRxv', 'changeGraph', 'eyJpZCI6IDk4LCAidHlwZSI6ICJ2ZXJ0ZXgiLCAicHJvcHMiOiB7ImNvbG9yIjogNjUyODB9fQo=');</script>\n",
       "    "
      ],
      "text/plain": [
       "<IPython.core.display.HTML object>"
      ]
     },
     "metadata": {},
     "output_type": "display_data"
    },
    {
     "data": {
      "text/html": [
       "\n",
       "        <div id=\"hcDxN7D7un2jCAnfDYfmHF\"></div>\n",
       "        <script>netpixi.call('hcDxN7D7un2jCAnfDYfmHF', 'BG6GNWMZUSpdkKQEjvjRxv', 'changeGraph', 'eyJpZCI6IDk5LCAidHlwZSI6ICJ2ZXJ0ZXgiLCAicHJvcHMiOiB7ImNvbG9yIjogNjUyODB9fQo=');</script>\n",
       "    "
      ],
      "text/plain": [
       "<IPython.core.display.HTML object>"
      ]
     },
     "metadata": {},
     "output_type": "display_data"
    },
    {
     "data": {
      "text/html": [
       "\n",
       "        <div id=\"gGMppn2TxtivRerMAaMsgP\"></div>\n",
       "        <script>netpixi.call('gGMppn2TxtivRerMAaMsgP', 'BG6GNWMZUSpdkKQEjvjRxv', 'changeGraph', 'eyJpZCI6IDEwMCwgInR5cGUiOiAidmVydGV4IiwgInByb3BzIjogeyJjb2xvciI6IDE2NzExNjgwfX0K');</script>\n",
       "    "
      ],
      "text/plain": [
       "<IPython.core.display.HTML object>"
      ]
     },
     "metadata": {},
     "output_type": "display_data"
    },
    {
     "data": {
      "text/html": [
       "\n",
       "        <div id=\"Q7jcYzFzuuUCotPuL5cCTT\"></div>\n",
       "        <script>netpixi.call('Q7jcYzFzuuUCotPuL5cCTT', 'BG6GNWMZUSpdkKQEjvjRxv', 'changeGraph', 'eyJpZCI6IDEwMSwgInR5cGUiOiAidmVydGV4IiwgInByb3BzIjogeyJjb2xvciI6IDY1MjgwfX0K');</script>\n",
       "    "
      ],
      "text/plain": [
       "<IPython.core.display.HTML object>"
      ]
     },
     "metadata": {},
     "output_type": "display_data"
    },
    {
     "data": {
      "text/html": [
       "\n",
       "        <div id=\"QAm6D54PEaGDafVVotHbzB\"></div>\n",
       "        <script>netpixi.call('QAm6D54PEaGDafVVotHbzB', 'BG6GNWMZUSpdkKQEjvjRxv', 'changeGraph', 'eyJpZCI6IDEwMiwgInR5cGUiOiAidmVydGV4IiwgInByb3BzIjogeyJjb2xvciI6IDY1MjgwfX0K');</script>\n",
       "    "
      ],
      "text/plain": [
       "<IPython.core.display.HTML object>"
      ]
     },
     "metadata": {},
     "output_type": "display_data"
    },
    {
     "data": {
      "text/html": [
       "\n",
       "        <div id=\"M9hShPw5euerJyZkagMhSa\"></div>\n",
       "        <script>netpixi.call('M9hShPw5euerJyZkagMhSa', 'BG6GNWMZUSpdkKQEjvjRxv', 'changeGraph', 'eyJpZCI6IDEwMywgInR5cGUiOiAidmVydGV4IiwgInByb3BzIjogeyJjb2xvciI6IDE2NzExNjgwfX0K');</script>\n",
       "    "
      ],
      "text/plain": [
       "<IPython.core.display.HTML object>"
      ]
     },
     "metadata": {},
     "output_type": "display_data"
    },
    {
     "data": {
      "text/html": [
       "\n",
       "        <div id=\"DU6htQxPGZ9dWuz5rpuKYZ\"></div>\n",
       "        <script>netpixi.call('DU6htQxPGZ9dWuz5rpuKYZ', 'BG6GNWMZUSpdkKQEjvjRxv', 'changeGraph', 'eyJpZCI6IDEwNCwgInR5cGUiOiAidmVydGV4IiwgInByb3BzIjogeyJjb2xvciI6IDE2NzExNjgwfX0K');</script>\n",
       "    "
      ],
      "text/plain": [
       "<IPython.core.display.HTML object>"
      ]
     },
     "metadata": {},
     "output_type": "display_data"
    },
    {
     "data": {
      "text/html": [
       "\n",
       "        <div id=\"EsoVcBdjPctcJ6GptTY8KX\"></div>\n",
       "        <script>netpixi.call('EsoVcBdjPctcJ6GptTY8KX', 'BG6GNWMZUSpdkKQEjvjRxv', 'changeGraph', 'eyJpZCI6IDEwNSwgInR5cGUiOiAidmVydGV4IiwgInByb3BzIjogeyJjb2xvciI6IDE2NzExNjgwfX0K');</script>\n",
       "    "
      ],
      "text/plain": [
       "<IPython.core.display.HTML object>"
      ]
     },
     "metadata": {},
     "output_type": "display_data"
    },
    {
     "data": {
      "text/html": [
       "\n",
       "        <div id=\"7ziSKh8G9op5WZ3b4XDc7h\"></div>\n",
       "        <script>netpixi.call('7ziSKh8G9op5WZ3b4XDc7h', 'BG6GNWMZUSpdkKQEjvjRxv', 'changeGraph', 'eyJpZCI6IDEwNiwgInR5cGUiOiAidmVydGV4IiwgInByb3BzIjogeyJjb2xvciI6IDE2NzExNjgwfX0K');</script>\n",
       "    "
      ],
      "text/plain": [
       "<IPython.core.display.HTML object>"
      ]
     },
     "metadata": {},
     "output_type": "display_data"
    },
    {
     "data": {
      "text/html": [
       "\n",
       "        <div id=\"PWdqbJmXT4KSVMqqUacWwb\"></div>\n",
       "        <script>netpixi.call('PWdqbJmXT4KSVMqqUacWwb', 'BG6GNWMZUSpdkKQEjvjRxv', 'changeGraph', 'eyJpZCI6IDEwNywgInR5cGUiOiAidmVydGV4IiwgInByb3BzIjogeyJjb2xvciI6IDE2NzExNjgwfX0K');</script>\n",
       "    "
      ],
      "text/plain": [
       "<IPython.core.display.HTML object>"
      ]
     },
     "metadata": {},
     "output_type": "display_data"
    },
    {
     "data": {
      "text/html": [
       "\n",
       "        <div id=\"VatRFRSJb7JKWmzRdes8Qz\"></div>\n",
       "        <script>netpixi.call('VatRFRSJb7JKWmzRdes8Qz', 'BG6GNWMZUSpdkKQEjvjRxv', 'changeGraph', 'eyJpZCI6IDEwOCwgInR5cGUiOiAidmVydGV4IiwgInByb3BzIjogeyJjb2xvciI6IDY1MjgwfX0K');</script>\n",
       "    "
      ],
      "text/plain": [
       "<IPython.core.display.HTML object>"
      ]
     },
     "metadata": {},
     "output_type": "display_data"
    },
    {
     "data": {
      "text/html": [
       "\n",
       "        <div id=\"7npNwk4DVGtg4WCxZjoKfy\"></div>\n",
       "        <script>netpixi.call('7npNwk4DVGtg4WCxZjoKfy', 'BG6GNWMZUSpdkKQEjvjRxv', 'changeGraph', 'eyJpZCI6IDEwOSwgInR5cGUiOiAidmVydGV4IiwgInByb3BzIjogeyJjb2xvciI6IDE2NzExNjgwfX0K');</script>\n",
       "    "
      ],
      "text/plain": [
       "<IPython.core.display.HTML object>"
      ]
     },
     "metadata": {},
     "output_type": "display_data"
    },
    {
     "data": {
      "text/html": [
       "\n",
       "        <div id=\"5T8Gnd8pRqMvQnioZRVsuR\"></div>\n",
       "        <script>netpixi.call('5T8Gnd8pRqMvQnioZRVsuR', 'BG6GNWMZUSpdkKQEjvjRxv', 'changeGraph', 'eyJpZCI6IDExMCwgInR5cGUiOiAidmVydGV4IiwgInByb3BzIjogeyJjb2xvciI6IDE2NzExNjgwfX0K');</script>\n",
       "    "
      ],
      "text/plain": [
       "<IPython.core.display.HTML object>"
      ]
     },
     "metadata": {},
     "output_type": "display_data"
    },
    {
     "data": {
      "text/html": [
       "\n",
       "        <div id=\"TwiAgn2xqSg8aJYY2CZ5Wr\"></div>\n",
       "        <script>netpixi.call('TwiAgn2xqSg8aJYY2CZ5Wr', 'BG6GNWMZUSpdkKQEjvjRxv', 'changeGraph', 'eyJpZCI6IDExMSwgInR5cGUiOiAidmVydGV4IiwgInByb3BzIjogeyJjb2xvciI6IDE2NzExNjgwfX0K');</script>\n",
       "    "
      ],
      "text/plain": [
       "<IPython.core.display.HTML object>"
      ]
     },
     "metadata": {},
     "output_type": "display_data"
    },
    {
     "data": {
      "text/html": [
       "\n",
       "        <div id=\"TNoGyRgoSXJPprDq2TC7pJ\"></div>\n",
       "        <script>netpixi.call('TNoGyRgoSXJPprDq2TC7pJ', 'BG6GNWMZUSpdkKQEjvjRxv', 'changeGraph', 'eyJpZCI6IDExMiwgInR5cGUiOiAidmVydGV4IiwgInByb3BzIjogeyJjb2xvciI6IDE2NzExNjgwfX0K');</script>\n",
       "    "
      ],
      "text/plain": [
       "<IPython.core.display.HTML object>"
      ]
     },
     "metadata": {},
     "output_type": "display_data"
    },
    {
     "data": {
      "text/html": [
       "\n",
       "        <div id=\"PvCxpC4q9qjeh79zwsAKeY\"></div>\n",
       "        <script>netpixi.call('PvCxpC4q9qjeh79zwsAKeY', 'BG6GNWMZUSpdkKQEjvjRxv', 'changeGraph', 'eyJpZCI6IDExMywgInR5cGUiOiAidmVydGV4IiwgInByb3BzIjogeyJjb2xvciI6IDE2NzExNjgwfX0K');</script>\n",
       "    "
      ],
      "text/plain": [
       "<IPython.core.display.HTML object>"
      ]
     },
     "metadata": {},
     "output_type": "display_data"
    },
    {
     "data": {
      "text/html": [
       "\n",
       "        <div id=\"bZuoUoKsqx38xSQFX5KURY\"></div>\n",
       "        <script>netpixi.call('bZuoUoKsqx38xSQFX5KURY', 'BG6GNWMZUSpdkKQEjvjRxv', 'changeGraph', 'eyJpZCI6IDExNCwgInR5cGUiOiAidmVydGV4IiwgInByb3BzIjogeyJjb2xvciI6IDE2NzExNjgwfX0K');</script>\n",
       "    "
      ],
      "text/plain": [
       "<IPython.core.display.HTML object>"
      ]
     },
     "metadata": {},
     "output_type": "display_data"
    },
    {
     "data": {
      "text/html": [
       "\n",
       "        <div id=\"EuupjRABmo43ksHVQsstz8\"></div>\n",
       "        <script>netpixi.call('EuupjRABmo43ksHVQsstz8', 'BG6GNWMZUSpdkKQEjvjRxv', 'changeGraph', 'eyJpZCI6IDExNSwgInR5cGUiOiAidmVydGV4IiwgInByb3BzIjogeyJjb2xvciI6IDE2NzExNjgwfX0K');</script>\n",
       "    "
      ],
      "text/plain": [
       "<IPython.core.display.HTML object>"
      ]
     },
     "metadata": {},
     "output_type": "display_data"
    },
    {
     "data": {
      "text/html": [
       "\n",
       "        <div id=\"3WLjFwwnP3c5bDsLP9hqxj\"></div>\n",
       "        <script>netpixi.call('3WLjFwwnP3c5bDsLP9hqxj', 'BG6GNWMZUSpdkKQEjvjRxv', 'changeGraph', 'eyJpZCI6IDExNiwgInR5cGUiOiAidmVydGV4IiwgInByb3BzIjogeyJjb2xvciI6IDE2NzExNjgwfX0K');</script>\n",
       "    "
      ],
      "text/plain": [
       "<IPython.core.display.HTML object>"
      ]
     },
     "metadata": {},
     "output_type": "display_data"
    },
    {
     "data": {
      "text/html": [
       "\n",
       "        <div id=\"5kCeoETQqhc6sTzRcpKBju\"></div>\n",
       "        <script>netpixi.call('5kCeoETQqhc6sTzRcpKBju', 'BG6GNWMZUSpdkKQEjvjRxv', 'changeGraph', 'eyJpZCI6IDExNywgInR5cGUiOiAidmVydGV4IiwgInByb3BzIjogeyJjb2xvciI6IDY1MjgwfX0K');</script>\n",
       "    "
      ],
      "text/plain": [
       "<IPython.core.display.HTML object>"
      ]
     },
     "metadata": {},
     "output_type": "display_data"
    },
    {
     "data": {
      "text/html": [
       "\n",
       "        <div id=\"N4cpU8Z6coasNcLMYVX79L\"></div>\n",
       "        <script>netpixi.call('N4cpU8Z6coasNcLMYVX79L', 'BG6GNWMZUSpdkKQEjvjRxv', 'changeGraph', 'eyJpZCI6IDExOCwgInR5cGUiOiAidmVydGV4IiwgInByb3BzIjogeyJjb2xvciI6IDE2NzExNjgwfX0K');</script>\n",
       "    "
      ],
      "text/plain": [
       "<IPython.core.display.HTML object>"
      ]
     },
     "metadata": {},
     "output_type": "display_data"
    },
    {
     "data": {
      "text/html": [
       "\n",
       "        <div id=\"bMhRCYxuYA9CmuUKwVESCt\"></div>\n",
       "        <script>netpixi.call('bMhRCYxuYA9CmuUKwVESCt', 'BG6GNWMZUSpdkKQEjvjRxv', 'changeGraph', 'eyJpZCI6IDExOSwgInR5cGUiOiAidmVydGV4IiwgInByb3BzIjogeyJjb2xvciI6IDY1MjgwfX0K');</script>\n",
       "    "
      ],
      "text/plain": [
       "<IPython.core.display.HTML object>"
      ]
     },
     "metadata": {},
     "output_type": "display_data"
    },
    {
     "data": {
      "text/html": [
       "\n",
       "        <div id=\"ZoTL6oReJiELEkTzU2y4g6\"></div>\n",
       "        <script>netpixi.call('ZoTL6oReJiELEkTzU2y4g6', 'BG6GNWMZUSpdkKQEjvjRxv', 'changeGraph', 'eyJpZCI6IDEyMCwgInR5cGUiOiAidmVydGV4IiwgInByb3BzIjogeyJjb2xvciI6IDY1MjgwfX0K');</script>\n",
       "    "
      ],
      "text/plain": [
       "<IPython.core.display.HTML object>"
      ]
     },
     "metadata": {},
     "output_type": "display_data"
    },
    {
     "data": {
      "text/html": [
       "\n",
       "        <div id=\"gbWujqNAf6NMNagCAukiZc\"></div>\n",
       "        <script>netpixi.call('gbWujqNAf6NMNagCAukiZc', 'BG6GNWMZUSpdkKQEjvjRxv', 'changeGraph', 'eyJpZCI6IDEyMSwgInR5cGUiOiAidmVydGV4IiwgInByb3BzIjogeyJjb2xvciI6IDE2NzExNjgwfX0K');</script>\n",
       "    "
      ],
      "text/plain": [
       "<IPython.core.display.HTML object>"
      ]
     },
     "metadata": {},
     "output_type": "display_data"
    },
    {
     "data": {
      "text/html": [
       "\n",
       "        <div id=\"cchRhQo3YDxHxuNSAuUHLn\"></div>\n",
       "        <script>netpixi.call('cchRhQo3YDxHxuNSAuUHLn', 'BG6GNWMZUSpdkKQEjvjRxv', 'changeGraph', 'eyJpZCI6IDEyMiwgInR5cGUiOiAidmVydGV4IiwgInByb3BzIjogeyJjb2xvciI6IDY1MjgwfX0K');</script>\n",
       "    "
      ],
      "text/plain": [
       "<IPython.core.display.HTML object>"
      ]
     },
     "metadata": {},
     "output_type": "display_data"
    },
    {
     "data": {
      "text/html": [
       "\n",
       "        <div id=\"5iZhUoQYocmRBiEAbAnmXj\"></div>\n",
       "        <script>netpixi.call('5iZhUoQYocmRBiEAbAnmXj', 'BG6GNWMZUSpdkKQEjvjRxv', 'changeGraph', 'eyJpZCI6IDEyMywgInR5cGUiOiAidmVydGV4IiwgInByb3BzIjogeyJjb2xvciI6IDY1MjgwfX0K');</script>\n",
       "    "
      ],
      "text/plain": [
       "<IPython.core.display.HTML object>"
      ]
     },
     "metadata": {},
     "output_type": "display_data"
    },
    {
     "data": {
      "text/html": [
       "\n",
       "        <div id=\"RZdWW2oTQ6HM8HpXotHMXG\"></div>\n",
       "        <script>netpixi.call('RZdWW2oTQ6HM8HpXotHMXG', 'BG6GNWMZUSpdkKQEjvjRxv', 'changeGraph', 'eyJpZCI6IDEyNCwgInR5cGUiOiAidmVydGV4IiwgInByb3BzIjogeyJjb2xvciI6IDE2NzExNjgwfX0K');</script>\n",
       "    "
      ],
      "text/plain": [
       "<IPython.core.display.HTML object>"
      ]
     },
     "metadata": {},
     "output_type": "display_data"
    },
    {
     "data": {
      "text/html": [
       "\n",
       "        <div id=\"awJsGGwf59eZTKyjsuZG5g\"></div>\n",
       "        <script>netpixi.call('awJsGGwf59eZTKyjsuZG5g', 'BG6GNWMZUSpdkKQEjvjRxv', 'changeGraph', 'eyJpZCI6IDEyNSwgInR5cGUiOiAidmVydGV4IiwgInByb3BzIjogeyJjb2xvciI6IDY1MjgwfX0K');</script>\n",
       "    "
      ],
      "text/plain": [
       "<IPython.core.display.HTML object>"
      ]
     },
     "metadata": {},
     "output_type": "display_data"
    },
    {
     "data": {
      "text/html": [
       "\n",
       "        <div id=\"EHnBrYtpRLJfpfzgB5qT4M\"></div>\n",
       "        <script>netpixi.call('EHnBrYtpRLJfpfzgB5qT4M', 'BG6GNWMZUSpdkKQEjvjRxv', 'changeGraph', 'eyJpZCI6IDEyNiwgInR5cGUiOiAidmVydGV4IiwgInByb3BzIjogeyJjb2xvciI6IDE2NzExNjgwfX0K');</script>\n",
       "    "
      ],
      "text/plain": [
       "<IPython.core.display.HTML object>"
      ]
     },
     "metadata": {},
     "output_type": "display_data"
    },
    {
     "data": {
      "text/html": [
       "\n",
       "        <div id=\"DQojY8Xj6Wa7ZUS8jZ3YUb\"></div>\n",
       "        <script>netpixi.call('DQojY8Xj6Wa7ZUS8jZ3YUb', 'BG6GNWMZUSpdkKQEjvjRxv', 'changeGraph', 'eyJpZCI6IDEyNywgInR5cGUiOiAidmVydGV4IiwgInByb3BzIjogeyJjb2xvciI6IDY1MjgwfX0K');</script>\n",
       "    "
      ],
      "text/plain": [
       "<IPython.core.display.HTML object>"
      ]
     },
     "metadata": {},
     "output_type": "display_data"
    },
    {
     "data": {
      "text/html": [
       "\n",
       "        <div id=\"MQ48xcKGLHV4ZYAuEbHSoF\"></div>\n",
       "        <script>netpixi.call('MQ48xcKGLHV4ZYAuEbHSoF', 'BG6GNWMZUSpdkKQEjvjRxv', 'changeGraph', 'eyJpZCI6IDEyOCwgInR5cGUiOiAidmVydGV4IiwgInByb3BzIjogeyJjb2xvciI6IDE2NzExNjgwfX0K');</script>\n",
       "    "
      ],
      "text/plain": [
       "<IPython.core.display.HTML object>"
      ]
     },
     "metadata": {},
     "output_type": "display_data"
    },
    {
     "data": {
      "text/html": [
       "\n",
       "        <div id=\"jQ78iMxRajxMfvdrRPShz7\"></div>\n",
       "        <script>netpixi.call('jQ78iMxRajxMfvdrRPShz7', 'BG6GNWMZUSpdkKQEjvjRxv', 'changeGraph', 'eyJpZCI6IDEyOSwgInR5cGUiOiAidmVydGV4IiwgInByb3BzIjogeyJjb2xvciI6IDE2NzExNjgwfX0K');</script>\n",
       "    "
      ],
      "text/plain": [
       "<IPython.core.display.HTML object>"
      ]
     },
     "metadata": {},
     "output_type": "display_data"
    },
    {
     "data": {
      "text/html": [
       "\n",
       "        <div id=\"HdQzDrqvfGfXeY4ZnFZxek\"></div>\n",
       "        <script>netpixi.call('HdQzDrqvfGfXeY4ZnFZxek', 'BG6GNWMZUSpdkKQEjvjRxv', 'changeGraph', 'eyJpZCI6IDEzMCwgInR5cGUiOiAidmVydGV4IiwgInByb3BzIjogeyJjb2xvciI6IDY1MjgwfX0K');</script>\n",
       "    "
      ],
      "text/plain": [
       "<IPython.core.display.HTML object>"
      ]
     },
     "metadata": {},
     "output_type": "display_data"
    },
    {
     "data": {
      "text/html": [
       "\n",
       "        <div id=\"DJk8Xvw8k2whz5E6yiwoPg\"></div>\n",
       "        <script>netpixi.call('DJk8Xvw8k2whz5E6yiwoPg', 'BG6GNWMZUSpdkKQEjvjRxv', 'changeGraph', 'eyJpZCI6IDEzMSwgInR5cGUiOiAidmVydGV4IiwgInByb3BzIjogeyJjb2xvciI6IDE2NzExNjgwfX0K');</script>\n",
       "    "
      ],
      "text/plain": [
       "<IPython.core.display.HTML object>"
      ]
     },
     "metadata": {},
     "output_type": "display_data"
    },
    {
     "data": {
      "text/html": [
       "\n",
       "        <div id=\"MqoXy7EhcozK6hjEqkGRF9\"></div>\n",
       "        <script>netpixi.call('MqoXy7EhcozK6hjEqkGRF9', 'BG6GNWMZUSpdkKQEjvjRxv', 'changeGraph', 'eyJpZCI6IDEzMiwgInR5cGUiOiAidmVydGV4IiwgInByb3BzIjogeyJjb2xvciI6IDE2NzExNjgwfX0K');</script>\n",
       "    "
      ],
      "text/plain": [
       "<IPython.core.display.HTML object>"
      ]
     },
     "metadata": {},
     "output_type": "display_data"
    },
    {
     "data": {
      "text/html": [
       "\n",
       "        <div id=\"GXnvar3wPt6jiowZxni8fT\"></div>\n",
       "        <script>netpixi.call('GXnvar3wPt6jiowZxni8fT', 'BG6GNWMZUSpdkKQEjvjRxv', 'changeGraph', 'eyJpZCI6IDEzMywgInR5cGUiOiAidmVydGV4IiwgInByb3BzIjogeyJjb2xvciI6IDE2NzExNjgwfX0K');</script>\n",
       "    "
      ],
      "text/plain": [
       "<IPython.core.display.HTML object>"
      ]
     },
     "metadata": {},
     "output_type": "display_data"
    },
    {
     "data": {
      "text/html": [
       "\n",
       "        <div id=\"BZBCrL9Da2caXJ5ZGzavjA\"></div>\n",
       "        <script>netpixi.call('BZBCrL9Da2caXJ5ZGzavjA', 'BG6GNWMZUSpdkKQEjvjRxv', 'changeGraph', 'eyJpZCI6IDEzNCwgInR5cGUiOiAidmVydGV4IiwgInByb3BzIjogeyJjb2xvciI6IDE2NzExNjgwfX0K');</script>\n",
       "    "
      ],
      "text/plain": [
       "<IPython.core.display.HTML object>"
      ]
     },
     "metadata": {},
     "output_type": "display_data"
    },
    {
     "data": {
      "text/html": [
       "\n",
       "        <div id=\"8pQeY5PFoaAkShma3iZDoN\"></div>\n",
       "        <script>netpixi.call('8pQeY5PFoaAkShma3iZDoN', 'BG6GNWMZUSpdkKQEjvjRxv', 'changeGraph', 'eyJpZCI6IDEzNSwgInR5cGUiOiAidmVydGV4IiwgInByb3BzIjogeyJjb2xvciI6IDE2NzExNjgwfX0K');</script>\n",
       "    "
      ],
      "text/plain": [
       "<IPython.core.display.HTML object>"
      ]
     },
     "metadata": {},
     "output_type": "display_data"
    },
    {
     "data": {
      "text/html": [
       "\n",
       "        <div id=\"8FVrWMaFWjH66LDbTEUryM\"></div>\n",
       "        <script>netpixi.call('8FVrWMaFWjH66LDbTEUryM', 'BG6GNWMZUSpdkKQEjvjRxv', 'changeGraph', 'eyJpZCI6IDEzNiwgInR5cGUiOiAidmVydGV4IiwgInByb3BzIjogeyJjb2xvciI6IDE2NzExNjgwfX0K');</script>\n",
       "    "
      ],
      "text/plain": [
       "<IPython.core.display.HTML object>"
      ]
     },
     "metadata": {},
     "output_type": "display_data"
    },
    {
     "data": {
      "text/html": [
       "\n",
       "        <div id=\"eE9dbtMnmogF54FMeP4F9d\"></div>\n",
       "        <script>netpixi.call('eE9dbtMnmogF54FMeP4F9d', 'BG6GNWMZUSpdkKQEjvjRxv', 'changeGraph', 'eyJpZCI6IDEzNywgInR5cGUiOiAidmVydGV4IiwgInByb3BzIjogeyJjb2xvciI6IDY1MjgwfX0K');</script>\n",
       "    "
      ],
      "text/plain": [
       "<IPython.core.display.HTML object>"
      ]
     },
     "metadata": {},
     "output_type": "display_data"
    },
    {
     "data": {
      "text/html": [
       "\n",
       "        <div id=\"UDxb5QqddRQQa7oojv24tF\"></div>\n",
       "        <script>netpixi.call('UDxb5QqddRQQa7oojv24tF', 'BG6GNWMZUSpdkKQEjvjRxv', 'changeGraph', 'eyJpZCI6IDEzOCwgInR5cGUiOiAidmVydGV4IiwgInByb3BzIjogeyJjb2xvciI6IDE2NzExNjgwfX0K');</script>\n",
       "    "
      ],
      "text/plain": [
       "<IPython.core.display.HTML object>"
      ]
     },
     "metadata": {},
     "output_type": "display_data"
    },
    {
     "data": {
      "text/html": [
       "\n",
       "        <div id=\"8Kx67sjbrnC3kkE64zWxw9\"></div>\n",
       "        <script>netpixi.call('8Kx67sjbrnC3kkE64zWxw9', 'BG6GNWMZUSpdkKQEjvjRxv', 'changeGraph', 'eyJpZCI6IDEzOSwgInR5cGUiOiAidmVydGV4IiwgInByb3BzIjogeyJjb2xvciI6IDE2NzExNjgwfX0K');</script>\n",
       "    "
      ],
      "text/plain": [
       "<IPython.core.display.HTML object>"
      ]
     },
     "metadata": {},
     "output_type": "display_data"
    },
    {
     "data": {
      "text/html": [
       "\n",
       "        <div id=\"8vKNTmBXmZuC9JFh8npjQk\"></div>\n",
       "        <script>netpixi.call('8vKNTmBXmZuC9JFh8npjQk', 'BG6GNWMZUSpdkKQEjvjRxv', 'changeGraph', 'eyJpZCI6IDE0MCwgInR5cGUiOiAidmVydGV4IiwgInByb3BzIjogeyJjb2xvciI6IDY1MjgwfX0K');</script>\n",
       "    "
      ],
      "text/plain": [
       "<IPython.core.display.HTML object>"
      ]
     },
     "metadata": {},
     "output_type": "display_data"
    },
    {
     "data": {
      "text/html": [
       "\n",
       "        <div id=\"eQNGzea9AttiCbJZmfkeEZ\"></div>\n",
       "        <script>netpixi.call('eQNGzea9AttiCbJZmfkeEZ', 'BG6GNWMZUSpdkKQEjvjRxv', 'changeGraph', 'eyJpZCI6IDE0MSwgInR5cGUiOiAidmVydGV4IiwgInByb3BzIjogeyJjb2xvciI6IDY1MjgwfX0K');</script>\n",
       "    "
      ],
      "text/plain": [
       "<IPython.core.display.HTML object>"
      ]
     },
     "metadata": {},
     "output_type": "display_data"
    },
    {
     "data": {
      "text/html": [
       "\n",
       "        <div id=\"DCNzHkvf9hCWw6sGFPhRED\"></div>\n",
       "        <script>netpixi.call('DCNzHkvf9hCWw6sGFPhRED', 'BG6GNWMZUSpdkKQEjvjRxv', 'changeGraph', 'eyJpZCI6IDE0MiwgInR5cGUiOiAidmVydGV4IiwgInByb3BzIjogeyJjb2xvciI6IDY1MjgwfX0K');</script>\n",
       "    "
      ],
      "text/plain": [
       "<IPython.core.display.HTML object>"
      ]
     },
     "metadata": {},
     "output_type": "display_data"
    },
    {
     "data": {
      "text/html": [
       "\n",
       "        <div id=\"9MjmEjrZMpq5iLmsfJYU4x\"></div>\n",
       "        <script>netpixi.call('9MjmEjrZMpq5iLmsfJYU4x', 'BG6GNWMZUSpdkKQEjvjRxv', 'changeGraph', 'eyJpZCI6IDE0MywgInR5cGUiOiAidmVydGV4IiwgInByb3BzIjogeyJjb2xvciI6IDE2NzExNjgwfX0K');</script>\n",
       "    "
      ],
      "text/plain": [
       "<IPython.core.display.HTML object>"
      ]
     },
     "metadata": {},
     "output_type": "display_data"
    },
    {
     "data": {
      "text/html": [
       "\n",
       "        <div id=\"a2CGzjqPoxb7k3B28uqEBk\"></div>\n",
       "        <script>netpixi.call('a2CGzjqPoxb7k3B28uqEBk', 'BG6GNWMZUSpdkKQEjvjRxv', 'changeGraph', 'eyJpZCI6IDE0NCwgInR5cGUiOiAidmVydGV4IiwgInByb3BzIjogeyJjb2xvciI6IDY1MjgwfX0K');</script>\n",
       "    "
      ],
      "text/plain": [
       "<IPython.core.display.HTML object>"
      ]
     },
     "metadata": {},
     "output_type": "display_data"
    },
    {
     "data": {
      "text/html": [
       "\n",
       "        <div id=\"DDRHEQhr56WokDERZymPP4\"></div>\n",
       "        <script>netpixi.call('DDRHEQhr56WokDERZymPP4', 'BG6GNWMZUSpdkKQEjvjRxv', 'changeGraph', 'eyJpZCI6IDE0NSwgInR5cGUiOiAidmVydGV4IiwgInByb3BzIjogeyJjb2xvciI6IDE2NzExNjgwfX0K');</script>\n",
       "    "
      ],
      "text/plain": [
       "<IPython.core.display.HTML object>"
      ]
     },
     "metadata": {},
     "output_type": "display_data"
    },
    {
     "data": {
      "text/html": [
       "\n",
       "        <div id=\"csgAvJsq2NUtDoVdTucF4k\"></div>\n",
       "        <script>netpixi.call('csgAvJsq2NUtDoVdTucF4k', 'BG6GNWMZUSpdkKQEjvjRxv', 'changeGraph', 'eyJpZCI6IDE0NiwgInR5cGUiOiAidmVydGV4IiwgInByb3BzIjogeyJjb2xvciI6IDY1MjgwfX0K');</script>\n",
       "    "
      ],
      "text/plain": [
       "<IPython.core.display.HTML object>"
      ]
     },
     "metadata": {},
     "output_type": "display_data"
    },
    {
     "data": {
      "text/html": [
       "\n",
       "        <div id=\"Jsqg2yyitEzQB7vCDrFjco\"></div>\n",
       "        <script>netpixi.call('Jsqg2yyitEzQB7vCDrFjco', 'BG6GNWMZUSpdkKQEjvjRxv', 'changeGraph', 'eyJpZCI6IDE0NywgInR5cGUiOiAidmVydGV4IiwgInByb3BzIjogeyJjb2xvciI6IDY1MjgwfX0K');</script>\n",
       "    "
      ],
      "text/plain": [
       "<IPython.core.display.HTML object>"
      ]
     },
     "metadata": {},
     "output_type": "display_data"
    },
    {
     "data": {
      "text/html": [
       "\n",
       "        <div id=\"HSp3Da8u8UFtB5sJzJWTnY\"></div>\n",
       "        <script>netpixi.call('HSp3Da8u8UFtB5sJzJWTnY', 'BG6GNWMZUSpdkKQEjvjRxv', 'changeGraph', 'eyJpZCI6IDE0OCwgInR5cGUiOiAidmVydGV4IiwgInByb3BzIjogeyJjb2xvciI6IDY1MjgwfX0K');</script>\n",
       "    "
      ],
      "text/plain": [
       "<IPython.core.display.HTML object>"
      ]
     },
     "metadata": {},
     "output_type": "display_data"
    },
    {
     "data": {
      "text/html": [
       "\n",
       "        <div id=\"5TPjHXXc3qvxAbFHXK5zgo\"></div>\n",
       "        <script>netpixi.call('5TPjHXXc3qvxAbFHXK5zgo', 'BG6GNWMZUSpdkKQEjvjRxv', 'changeGraph', 'eyJpZCI6IDE0OSwgInR5cGUiOiAidmVydGV4IiwgInByb3BzIjogeyJjb2xvciI6IDE2NzExNjgwfX0K');</script>\n",
       "    "
      ],
      "text/plain": [
       "<IPython.core.display.HTML object>"
      ]
     },
     "metadata": {},
     "output_type": "display_data"
    },
    {
     "data": {
      "text/html": [
       "\n",
       "        <div id=\"292catQADwyqpaiKAcRYPA\"></div>\n",
       "        <script>netpixi.call('292catQADwyqpaiKAcRYPA', 'BG6GNWMZUSpdkKQEjvjRxv', 'changeGraph', 'eyJpZCI6IDE1MCwgInR5cGUiOiAidmVydGV4IiwgInByb3BzIjogeyJjb2xvciI6IDE2NzExNjgwfX0K');</script>\n",
       "    "
      ],
      "text/plain": [
       "<IPython.core.display.HTML object>"
      ]
     },
     "metadata": {},
     "output_type": "display_data"
    },
    {
     "data": {
      "text/html": [
       "\n",
       "        <div id=\"FgTDsnPXeNoqDvFiAwLcfP\"></div>\n",
       "        <script>netpixi.call('FgTDsnPXeNoqDvFiAwLcfP', 'BG6GNWMZUSpdkKQEjvjRxv', 'changeGraph', 'eyJpZCI6IDE1MSwgInR5cGUiOiAidmVydGV4IiwgInByb3BzIjogeyJjb2xvciI6IDE2NzExNjgwfX0K');</script>\n",
       "    "
      ],
      "text/plain": [
       "<IPython.core.display.HTML object>"
      ]
     },
     "metadata": {},
     "output_type": "display_data"
    },
    {
     "data": {
      "text/html": [
       "\n",
       "        <div id=\"FzzS7DYYtjkkgwUp76f5hw\"></div>\n",
       "        <script>netpixi.call('FzzS7DYYtjkkgwUp76f5hw', 'BG6GNWMZUSpdkKQEjvjRxv', 'changeGraph', 'eyJpZCI6IDE1MiwgInR5cGUiOiAidmVydGV4IiwgInByb3BzIjogeyJjb2xvciI6IDY1MjgwfX0K');</script>\n",
       "    "
      ],
      "text/plain": [
       "<IPython.core.display.HTML object>"
      ]
     },
     "metadata": {},
     "output_type": "display_data"
    },
    {
     "data": {
      "text/html": [
       "\n",
       "        <div id=\"knxMR5v65JTZe8vubF9B5n\"></div>\n",
       "        <script>netpixi.call('knxMR5v65JTZe8vubF9B5n', 'BG6GNWMZUSpdkKQEjvjRxv', 'changeGraph', 'eyJpZCI6IDE1MywgInR5cGUiOiAidmVydGV4IiwgInByb3BzIjogeyJjb2xvciI6IDY1MjgwfX0K');</script>\n",
       "    "
      ],
      "text/plain": [
       "<IPython.core.display.HTML object>"
      ]
     },
     "metadata": {},
     "output_type": "display_data"
    },
    {
     "data": {
      "text/html": [
       "\n",
       "        <div id=\"YcHwdJwKjaoM3jXZFQyqFc\"></div>\n",
       "        <script>netpixi.call('YcHwdJwKjaoM3jXZFQyqFc', 'BG6GNWMZUSpdkKQEjvjRxv', 'changeGraph', 'eyJpZCI6IDE1NCwgInR5cGUiOiAidmVydGV4IiwgInByb3BzIjogeyJjb2xvciI6IDE2NzExNjgwfX0K');</script>\n",
       "    "
      ],
      "text/plain": [
       "<IPython.core.display.HTML object>"
      ]
     },
     "metadata": {},
     "output_type": "display_data"
    },
    {
     "data": {
      "text/html": [
       "\n",
       "        <div id=\"HLUQKc3UnUhZfrdEpM8YCP\"></div>\n",
       "        <script>netpixi.call('HLUQKc3UnUhZfrdEpM8YCP', 'BG6GNWMZUSpdkKQEjvjRxv', 'changeGraph', 'eyJpZCI6IDE1NSwgInR5cGUiOiAidmVydGV4IiwgInByb3BzIjogeyJjb2xvciI6IDE2NzExNjgwfX0K');</script>\n",
       "    "
      ],
      "text/plain": [
       "<IPython.core.display.HTML object>"
      ]
     },
     "metadata": {},
     "output_type": "display_data"
    },
    {
     "data": {
      "text/html": [
       "\n",
       "        <div id=\"FbuHY2zqLHFMVkDjPbw9FH\"></div>\n",
       "        <script>netpixi.call('FbuHY2zqLHFMVkDjPbw9FH', 'BG6GNWMZUSpdkKQEjvjRxv', 'changeGraph', 'eyJpZCI6IDE1NiwgInR5cGUiOiAidmVydGV4IiwgInByb3BzIjogeyJjb2xvciI6IDE2NzExNjgwfX0K');</script>\n",
       "    "
      ],
      "text/plain": [
       "<IPython.core.display.HTML object>"
      ]
     },
     "metadata": {},
     "output_type": "display_data"
    },
    {
     "data": {
      "text/html": [
       "\n",
       "        <div id=\"VZCAT7eyggkJW4UFbZDNPu\"></div>\n",
       "        <script>netpixi.call('VZCAT7eyggkJW4UFbZDNPu', 'BG6GNWMZUSpdkKQEjvjRxv', 'changeGraph', 'eyJpZCI6IDE1NywgInR5cGUiOiAidmVydGV4IiwgInByb3BzIjogeyJjb2xvciI6IDY1MjgwfX0K');</script>\n",
       "    "
      ],
      "text/plain": [
       "<IPython.core.display.HTML object>"
      ]
     },
     "metadata": {},
     "output_type": "display_data"
    },
    {
     "data": {
      "text/html": [
       "\n",
       "        <div id=\"8JbswcghXBKon2XLbsjpDk\"></div>\n",
       "        <script>netpixi.call('8JbswcghXBKon2XLbsjpDk', 'BG6GNWMZUSpdkKQEjvjRxv', 'changeGraph', 'eyJpZCI6IDE1OCwgInR5cGUiOiAidmVydGV4IiwgInByb3BzIjogeyJjb2xvciI6IDY1MjgwfX0K');</script>\n",
       "    "
      ],
      "text/plain": [
       "<IPython.core.display.HTML object>"
      ]
     },
     "metadata": {},
     "output_type": "display_data"
    },
    {
     "data": {
      "text/html": [
       "\n",
       "        <div id=\"HpCPDc4krTtYAHjNKLCTvh\"></div>\n",
       "        <script>netpixi.call('HpCPDc4krTtYAHjNKLCTvh', 'BG6GNWMZUSpdkKQEjvjRxv', 'changeGraph', 'eyJpZCI6IDE1OSwgInR5cGUiOiAidmVydGV4IiwgInByb3BzIjogeyJjb2xvciI6IDY1MjgwfX0K');</script>\n",
       "    "
      ],
      "text/plain": [
       "<IPython.core.display.HTML object>"
      ]
     },
     "metadata": {},
     "output_type": "display_data"
    },
    {
     "data": {
      "text/html": [
       "\n",
       "        <div id=\"LpqK4wBQL578bEgZyeaiZj\"></div>\n",
       "        <script>netpixi.call('LpqK4wBQL578bEgZyeaiZj', 'BG6GNWMZUSpdkKQEjvjRxv', 'changeGraph', 'eyJpZCI6IDE2MCwgInR5cGUiOiAidmVydGV4IiwgInByb3BzIjogeyJjb2xvciI6IDE2NzExNjgwfX0K');</script>\n",
       "    "
      ],
      "text/plain": [
       "<IPython.core.display.HTML object>"
      ]
     },
     "metadata": {},
     "output_type": "display_data"
    },
    {
     "data": {
      "text/html": [
       "\n",
       "        <div id=\"e2SiQCWA4WxcQCL8vCHVTE\"></div>\n",
       "        <script>netpixi.call('e2SiQCWA4WxcQCL8vCHVTE', 'BG6GNWMZUSpdkKQEjvjRxv', 'changeGraph', 'eyJpZCI6IDE2MSwgInR5cGUiOiAidmVydGV4IiwgInByb3BzIjogeyJjb2xvciI6IDY1MjgwfX0K');</script>\n",
       "    "
      ],
      "text/plain": [
       "<IPython.core.display.HTML object>"
      ]
     },
     "metadata": {},
     "output_type": "display_data"
    },
    {
     "data": {
      "text/html": [
       "\n",
       "        <div id=\"Na94KbfgkY2FMnVFVZHhcx\"></div>\n",
       "        <script>netpixi.call('Na94KbfgkY2FMnVFVZHhcx', 'BG6GNWMZUSpdkKQEjvjRxv', 'changeGraph', 'eyJpZCI6IDE2MiwgInR5cGUiOiAidmVydGV4IiwgInByb3BzIjogeyJjb2xvciI6IDE2NzExNjgwfX0K');</script>\n",
       "    "
      ],
      "text/plain": [
       "<IPython.core.display.HTML object>"
      ]
     },
     "metadata": {},
     "output_type": "display_data"
    },
    {
     "data": {
      "text/html": [
       "\n",
       "        <div id=\"aTPFHxWwCviGxJqE9LxCWY\"></div>\n",
       "        <script>netpixi.call('aTPFHxWwCviGxJqE9LxCWY', 'BG6GNWMZUSpdkKQEjvjRxv', 'changeGraph', 'eyJpZCI6IDE2MywgInR5cGUiOiAidmVydGV4IiwgInByb3BzIjogeyJjb2xvciI6IDE2NzExNjgwfX0K');</script>\n",
       "    "
      ],
      "text/plain": [
       "<IPython.core.display.HTML object>"
      ]
     },
     "metadata": {},
     "output_type": "display_data"
    },
    {
     "data": {
      "text/html": [
       "\n",
       "        <div id=\"kEEEQJhZaeDvQznWLPFTuc\"></div>\n",
       "        <script>netpixi.call('kEEEQJhZaeDvQznWLPFTuc', 'BG6GNWMZUSpdkKQEjvjRxv', 'changeGraph', 'eyJpZCI6IDE2NCwgInR5cGUiOiAidmVydGV4IiwgInByb3BzIjogeyJjb2xvciI6IDE2NzExNjgwfX0K');</script>\n",
       "    "
      ],
      "text/plain": [
       "<IPython.core.display.HTML object>"
      ]
     },
     "metadata": {},
     "output_type": "display_data"
    },
    {
     "data": {
      "text/html": [
       "\n",
       "        <div id=\"F9WqRzaMXt9w8CPcTMkgSb\"></div>\n",
       "        <script>netpixi.call('F9WqRzaMXt9w8CPcTMkgSb', 'BG6GNWMZUSpdkKQEjvjRxv', 'changeGraph', 'eyJpZCI6IDE2NSwgInR5cGUiOiAidmVydGV4IiwgInByb3BzIjogeyJjb2xvciI6IDE2NzExNjgwfX0K');</script>\n",
       "    "
      ],
      "text/plain": [
       "<IPython.core.display.HTML object>"
      ]
     },
     "metadata": {},
     "output_type": "display_data"
    },
    {
     "data": {
      "text/html": [
       "\n",
       "        <div id=\"XUZ5TweFyR6KANXBMYW3vY\"></div>\n",
       "        <script>netpixi.call('XUZ5TweFyR6KANXBMYW3vY', 'BG6GNWMZUSpdkKQEjvjRxv', 'changeGraph', 'eyJpZCI6IDE2NiwgInR5cGUiOiAidmVydGV4IiwgInByb3BzIjogeyJjb2xvciI6IDE2NzExNjgwfX0K');</script>\n",
       "    "
      ],
      "text/plain": [
       "<IPython.core.display.HTML object>"
      ]
     },
     "metadata": {},
     "output_type": "display_data"
    },
    {
     "data": {
      "text/html": [
       "\n",
       "        <div id=\"hgvsZpWqxduWgytgaWBh83\"></div>\n",
       "        <script>netpixi.call('hgvsZpWqxduWgytgaWBh83', 'BG6GNWMZUSpdkKQEjvjRxv', 'changeGraph', 'eyJpZCI6IDE2NywgInR5cGUiOiAidmVydGV4IiwgInByb3BzIjogeyJjb2xvciI6IDE2NzExNjgwfX0K');</script>\n",
       "    "
      ],
      "text/plain": [
       "<IPython.core.display.HTML object>"
      ]
     },
     "metadata": {},
     "output_type": "display_data"
    },
    {
     "data": {
      "text/html": [
       "\n",
       "        <div id=\"SaJ3v4wbf8XLEbNHjsDGpf\"></div>\n",
       "        <script>netpixi.call('SaJ3v4wbf8XLEbNHjsDGpf', 'BG6GNWMZUSpdkKQEjvjRxv', 'changeGraph', 'eyJpZCI6IDE2OCwgInR5cGUiOiAidmVydGV4IiwgInByb3BzIjogeyJjb2xvciI6IDY1MjgwfX0K');</script>\n",
       "    "
      ],
      "text/plain": [
       "<IPython.core.display.HTML object>"
      ]
     },
     "metadata": {},
     "output_type": "display_data"
    },
    {
     "data": {
      "text/html": [
       "\n",
       "        <div id=\"TUwyp5TKxV6cjHpoU9kkfz\"></div>\n",
       "        <script>netpixi.call('TUwyp5TKxV6cjHpoU9kkfz', 'BG6GNWMZUSpdkKQEjvjRxv', 'changeGraph', 'eyJpZCI6IDE2OSwgInR5cGUiOiAidmVydGV4IiwgInByb3BzIjogeyJjb2xvciI6IDE2NzExNjgwfX0K');</script>\n",
       "    "
      ],
      "text/plain": [
       "<IPython.core.display.HTML object>"
      ]
     },
     "metadata": {},
     "output_type": "display_data"
    },
    {
     "data": {
      "text/html": [
       "\n",
       "        <div id=\"aAzBim8SZsKYG97FN7nG2B\"></div>\n",
       "        <script>netpixi.call('aAzBim8SZsKYG97FN7nG2B', 'BG6GNWMZUSpdkKQEjvjRxv', 'changeGraph', 'eyJpZCI6IDE3MCwgInR5cGUiOiAidmVydGV4IiwgInByb3BzIjogeyJjb2xvciI6IDE2NzExNjgwfX0K');</script>\n",
       "    "
      ],
      "text/plain": [
       "<IPython.core.display.HTML object>"
      ]
     },
     "metadata": {},
     "output_type": "display_data"
    },
    {
     "data": {
      "text/html": [
       "\n",
       "        <div id=\"NUbFy3BU3tsLfaaC5hcS93\"></div>\n",
       "        <script>netpixi.call('NUbFy3BU3tsLfaaC5hcS93', 'BG6GNWMZUSpdkKQEjvjRxv', 'changeGraph', 'eyJpZCI6IDE3MSwgInR5cGUiOiAidmVydGV4IiwgInByb3BzIjogeyJjb2xvciI6IDY1MjgwfX0K');</script>\n",
       "    "
      ],
      "text/plain": [
       "<IPython.core.display.HTML object>"
      ]
     },
     "metadata": {},
     "output_type": "display_data"
    },
    {
     "data": {
      "text/html": [
       "\n",
       "        <div id=\"dM3a8VT6sj4szv6yWbr6wk\"></div>\n",
       "        <script>netpixi.call('dM3a8VT6sj4szv6yWbr6wk', 'BG6GNWMZUSpdkKQEjvjRxv', 'changeGraph', 'eyJpZCI6IDE3MiwgInR5cGUiOiAidmVydGV4IiwgInByb3BzIjogeyJjb2xvciI6IDY1MjgwfX0K');</script>\n",
       "    "
      ],
      "text/plain": [
       "<IPython.core.display.HTML object>"
      ]
     },
     "metadata": {},
     "output_type": "display_data"
    },
    {
     "data": {
      "text/html": [
       "\n",
       "        <div id=\"RjsuWvWC8uVK3kvdhet8bA\"></div>\n",
       "        <script>netpixi.call('RjsuWvWC8uVK3kvdhet8bA', 'BG6GNWMZUSpdkKQEjvjRxv', 'changeGraph', 'eyJpZCI6IDE3MywgInR5cGUiOiAidmVydGV4IiwgInByb3BzIjogeyJjb2xvciI6IDE2NzExNjgwfX0K');</script>\n",
       "    "
      ],
      "text/plain": [
       "<IPython.core.display.HTML object>"
      ]
     },
     "metadata": {},
     "output_type": "display_data"
    },
    {
     "data": {
      "text/html": [
       "\n",
       "        <div id=\"9Y5YCDUu2TELpbTfJcA8fS\"></div>\n",
       "        <script>netpixi.call('9Y5YCDUu2TELpbTfJcA8fS', 'BG6GNWMZUSpdkKQEjvjRxv', 'changeGraph', 'eyJpZCI6IDE3NCwgInR5cGUiOiAidmVydGV4IiwgInByb3BzIjogeyJjb2xvciI6IDE2NzExNjgwfX0K');</script>\n",
       "    "
      ],
      "text/plain": [
       "<IPython.core.display.HTML object>"
      ]
     },
     "metadata": {},
     "output_type": "display_data"
    },
    {
     "data": {
      "text/html": [
       "\n",
       "        <div id=\"MiKfFBdSemn469zm6oc7Cn\"></div>\n",
       "        <script>netpixi.call('MiKfFBdSemn469zm6oc7Cn', 'BG6GNWMZUSpdkKQEjvjRxv', 'changeGraph', 'eyJpZCI6IDE3NSwgInR5cGUiOiAidmVydGV4IiwgInByb3BzIjogeyJjb2xvciI6IDE2NzExNjgwfX0K');</script>\n",
       "    "
      ],
      "text/plain": [
       "<IPython.core.display.HTML object>"
      ]
     },
     "metadata": {},
     "output_type": "display_data"
    },
    {
     "data": {
      "text/html": [
       "\n",
       "        <div id=\"gVfYoHZwR9LyDicCZ8zEXE\"></div>\n",
       "        <script>netpixi.call('gVfYoHZwR9LyDicCZ8zEXE', 'BG6GNWMZUSpdkKQEjvjRxv', 'changeGraph', 'eyJpZCI6IDE3NiwgInR5cGUiOiAidmVydGV4IiwgInByb3BzIjogeyJjb2xvciI6IDE2NzExNjgwfX0K');</script>\n",
       "    "
      ],
      "text/plain": [
       "<IPython.core.display.HTML object>"
      ]
     },
     "metadata": {},
     "output_type": "display_data"
    },
    {
     "data": {
      "text/html": [
       "\n",
       "        <div id=\"dMWZ2oBaw5y9UBbHRa4Rzo\"></div>\n",
       "        <script>netpixi.call('dMWZ2oBaw5y9UBbHRa4Rzo', 'BG6GNWMZUSpdkKQEjvjRxv', 'changeGraph', 'eyJpZCI6IDE3NywgInR5cGUiOiAidmVydGV4IiwgInByb3BzIjogeyJjb2xvciI6IDY1MjgwfX0K');</script>\n",
       "    "
      ],
      "text/plain": [
       "<IPython.core.display.HTML object>"
      ]
     },
     "metadata": {},
     "output_type": "display_data"
    },
    {
     "data": {
      "text/html": [
       "\n",
       "        <div id=\"TZzUcPX4FWz5PDV2XtXU9B\"></div>\n",
       "        <script>netpixi.call('TZzUcPX4FWz5PDV2XtXU9B', 'BG6GNWMZUSpdkKQEjvjRxv', 'changeGraph', 'eyJpZCI6IDE3OCwgInR5cGUiOiAidmVydGV4IiwgInByb3BzIjogeyJjb2xvciI6IDE2NzExNjgwfX0K');</script>\n",
       "    "
      ],
      "text/plain": [
       "<IPython.core.display.HTML object>"
      ]
     },
     "metadata": {},
     "output_type": "display_data"
    },
    {
     "data": {
      "text/html": [
       "\n",
       "        <div id=\"P5XAdP6vSENUAoCEc2zJeA\"></div>\n",
       "        <script>netpixi.call('P5XAdP6vSENUAoCEc2zJeA', 'BG6GNWMZUSpdkKQEjvjRxv', 'changeGraph', 'eyJpZCI6IDE3OSwgInR5cGUiOiAidmVydGV4IiwgInByb3BzIjogeyJjb2xvciI6IDE2NzExNjgwfX0K');</script>\n",
       "    "
      ],
      "text/plain": [
       "<IPython.core.display.HTML object>"
      ]
     },
     "metadata": {},
     "output_type": "display_data"
    },
    {
     "data": {
      "text/html": [
       "\n",
       "        <div id=\"DPjBekAcqoSQ6ijBBf5wAH\"></div>\n",
       "        <script>netpixi.call('DPjBekAcqoSQ6ijBBf5wAH', 'BG6GNWMZUSpdkKQEjvjRxv', 'changeGraph', 'eyJpZCI6IDE4MCwgInR5cGUiOiAidmVydGV4IiwgInByb3BzIjogeyJjb2xvciI6IDE2NzExNjgwfX0K');</script>\n",
       "    "
      ],
      "text/plain": [
       "<IPython.core.display.HTML object>"
      ]
     },
     "metadata": {},
     "output_type": "display_data"
    },
    {
     "data": {
      "text/html": [
       "\n",
       "        <div id=\"jFht7tvjZHjaxWJ7MsgGtp\"></div>\n",
       "        <script>netpixi.call('jFht7tvjZHjaxWJ7MsgGtp', 'BG6GNWMZUSpdkKQEjvjRxv', 'changeGraph', 'eyJpZCI6IDE4MSwgInR5cGUiOiAidmVydGV4IiwgInByb3BzIjogeyJjb2xvciI6IDY1MjgwfX0K');</script>\n",
       "    "
      ],
      "text/plain": [
       "<IPython.core.display.HTML object>"
      ]
     },
     "metadata": {},
     "output_type": "display_data"
    },
    {
     "data": {
      "text/html": [
       "\n",
       "        <div id=\"Zwa2X3DJTamjBXRM3AWqGp\"></div>\n",
       "        <script>netpixi.call('Zwa2X3DJTamjBXRM3AWqGp', 'BG6GNWMZUSpdkKQEjvjRxv', 'changeGraph', 'eyJpZCI6IDE4MiwgInR5cGUiOiAidmVydGV4IiwgInByb3BzIjogeyJjb2xvciI6IDY1MjgwfX0K');</script>\n",
       "    "
      ],
      "text/plain": [
       "<IPython.core.display.HTML object>"
      ]
     },
     "metadata": {},
     "output_type": "display_data"
    },
    {
     "data": {
      "text/html": [
       "\n",
       "        <div id=\"2yWz59fXVhk6ubhVwrueys\"></div>\n",
       "        <script>netpixi.call('2yWz59fXVhk6ubhVwrueys', 'BG6GNWMZUSpdkKQEjvjRxv', 'changeGraph', 'eyJpZCI6IDE4MywgInR5cGUiOiAidmVydGV4IiwgInByb3BzIjogeyJjb2xvciI6IDE2NzExNjgwfX0K');</script>\n",
       "    "
      ],
      "text/plain": [
       "<IPython.core.display.HTML object>"
      ]
     },
     "metadata": {},
     "output_type": "display_data"
    },
    {
     "data": {
      "text/html": [
       "\n",
       "        <div id=\"DmKrZteqVVn3Ezi49BeUdS\"></div>\n",
       "        <script>netpixi.call('DmKrZteqVVn3Ezi49BeUdS', 'BG6GNWMZUSpdkKQEjvjRxv', 'changeGraph', 'eyJpZCI6IDE4NCwgInR5cGUiOiAidmVydGV4IiwgInByb3BzIjogeyJjb2xvciI6IDY1MjgwfX0K');</script>\n",
       "    "
      ],
      "text/plain": [
       "<IPython.core.display.HTML object>"
      ]
     },
     "metadata": {},
     "output_type": "display_data"
    },
    {
     "data": {
      "text/html": [
       "\n",
       "        <div id=\"AYf3NQdqPG4WXCDetow3mr\"></div>\n",
       "        <script>netpixi.call('AYf3NQdqPG4WXCDetow3mr', 'BG6GNWMZUSpdkKQEjvjRxv', 'changeGraph', 'eyJpZCI6IDE4NSwgInR5cGUiOiAidmVydGV4IiwgInByb3BzIjogeyJjb2xvciI6IDE2NzExNjgwfX0K');</script>\n",
       "    "
      ],
      "text/plain": [
       "<IPython.core.display.HTML object>"
      ]
     },
     "metadata": {},
     "output_type": "display_data"
    },
    {
     "data": {
      "text/html": [
       "\n",
       "        <div id=\"cLAX65nK4P32BQVHVx3Bam\"></div>\n",
       "        <script>netpixi.call('cLAX65nK4P32BQVHVx3Bam', 'BG6GNWMZUSpdkKQEjvjRxv', 'changeGraph', 'eyJpZCI6IDE4NiwgInR5cGUiOiAidmVydGV4IiwgInByb3BzIjogeyJjb2xvciI6IDE2NzExNjgwfX0K');</script>\n",
       "    "
      ],
      "text/plain": [
       "<IPython.core.display.HTML object>"
      ]
     },
     "metadata": {},
     "output_type": "display_data"
    },
    {
     "data": {
      "text/html": [
       "\n",
       "        <div id=\"UgbasRsGZ8PYQS4khQRLkr\"></div>\n",
       "        <script>netpixi.call('UgbasRsGZ8PYQS4khQRLkr', 'BG6GNWMZUSpdkKQEjvjRxv', 'changeGraph', 'eyJpZCI6IDE4NywgInR5cGUiOiAidmVydGV4IiwgInByb3BzIjogeyJjb2xvciI6IDE2NzExNjgwfX0K');</script>\n",
       "    "
      ],
      "text/plain": [
       "<IPython.core.display.HTML object>"
      ]
     },
     "metadata": {},
     "output_type": "display_data"
    },
    {
     "data": {
      "text/html": [
       "\n",
       "        <div id=\"GQj875GCFpE29r844LsELk\"></div>\n",
       "        <script>netpixi.call('GQj875GCFpE29r844LsELk', 'BG6GNWMZUSpdkKQEjvjRxv', 'changeGraph', 'eyJpZCI6IDE4OCwgInR5cGUiOiAidmVydGV4IiwgInByb3BzIjogeyJjb2xvciI6IDY1MjgwfX0K');</script>\n",
       "    "
      ],
      "text/plain": [
       "<IPython.core.display.HTML object>"
      ]
     },
     "metadata": {},
     "output_type": "display_data"
    },
    {
     "data": {
      "text/html": [
       "\n",
       "        <div id=\"E5dMph5DrXaso7kszdhp7W\"></div>\n",
       "        <script>netpixi.call('E5dMph5DrXaso7kszdhp7W', 'BG6GNWMZUSpdkKQEjvjRxv', 'changeGraph', 'eyJpZCI6IDE4OSwgInR5cGUiOiAidmVydGV4IiwgInByb3BzIjogeyJjb2xvciI6IDY1MjgwfX0K');</script>\n",
       "    "
      ],
      "text/plain": [
       "<IPython.core.display.HTML object>"
      ]
     },
     "metadata": {},
     "output_type": "display_data"
    },
    {
     "data": {
      "text/html": [
       "\n",
       "        <div id=\"gEdw4Jgn6SCYEQee5ch2EG\"></div>\n",
       "        <script>netpixi.call('gEdw4Jgn6SCYEQee5ch2EG', 'BG6GNWMZUSpdkKQEjvjRxv', 'changeGraph', 'eyJpZCI6IDE5MCwgInR5cGUiOiAidmVydGV4IiwgInByb3BzIjogeyJjb2xvciI6IDY1MjgwfX0K');</script>\n",
       "    "
      ],
      "text/plain": [
       "<IPython.core.display.HTML object>"
      ]
     },
     "metadata": {},
     "output_type": "display_data"
    },
    {
     "data": {
      "text/html": [
       "\n",
       "        <div id=\"h7LbFfCrczvaksmNDJDnCM\"></div>\n",
       "        <script>netpixi.call('h7LbFfCrczvaksmNDJDnCM', 'BG6GNWMZUSpdkKQEjvjRxv', 'changeGraph', 'eyJpZCI6IDE5MSwgInR5cGUiOiAidmVydGV4IiwgInByb3BzIjogeyJjb2xvciI6IDY1MjgwfX0K');</script>\n",
       "    "
      ],
      "text/plain": [
       "<IPython.core.display.HTML object>"
      ]
     },
     "metadata": {},
     "output_type": "display_data"
    },
    {
     "data": {
      "text/html": [
       "\n",
       "        <div id=\"ixkpzuY8in59rb2eQxUdam\"></div>\n",
       "        <script>netpixi.call('ixkpzuY8in59rb2eQxUdam', 'BG6GNWMZUSpdkKQEjvjRxv', 'changeGraph', 'eyJpZCI6IDE5MiwgInR5cGUiOiAidmVydGV4IiwgInByb3BzIjogeyJjb2xvciI6IDE2NzExNjgwfX0K');</script>\n",
       "    "
      ],
      "text/plain": [
       "<IPython.core.display.HTML object>"
      ]
     },
     "metadata": {},
     "output_type": "display_data"
    },
    {
     "data": {
      "text/html": [
       "\n",
       "        <div id=\"LXYA6MzX6GvehHPyr428bc\"></div>\n",
       "        <script>netpixi.call('LXYA6MzX6GvehHPyr428bc', 'BG6GNWMZUSpdkKQEjvjRxv', 'changeGraph', 'eyJpZCI6IDE5MywgInR5cGUiOiAidmVydGV4IiwgInByb3BzIjogeyJjb2xvciI6IDY1MjgwfX0K');</script>\n",
       "    "
      ],
      "text/plain": [
       "<IPython.core.display.HTML object>"
      ]
     },
     "metadata": {},
     "output_type": "display_data"
    },
    {
     "data": {
      "text/html": [
       "\n",
       "        <div id=\"7AFXPWgtFUtv9rZSzKC733\"></div>\n",
       "        <script>netpixi.call('7AFXPWgtFUtv9rZSzKC733', 'BG6GNWMZUSpdkKQEjvjRxv', 'changeGraph', 'eyJpZCI6IDE5NCwgInR5cGUiOiAidmVydGV4IiwgInByb3BzIjogeyJjb2xvciI6IDY1MjgwfX0K');</script>\n",
       "    "
      ],
      "text/plain": [
       "<IPython.core.display.HTML object>"
      ]
     },
     "metadata": {},
     "output_type": "display_data"
    },
    {
     "data": {
      "text/html": [
       "\n",
       "        <div id=\"ACQxkq3PXmRphUPCHUN85V\"></div>\n",
       "        <script>netpixi.call('ACQxkq3PXmRphUPCHUN85V', 'BG6GNWMZUSpdkKQEjvjRxv', 'changeGraph', 'eyJpZCI6IDE5NSwgInR5cGUiOiAidmVydGV4IiwgInByb3BzIjogeyJjb2xvciI6IDE2NzExNjgwfX0K');</script>\n",
       "    "
      ],
      "text/plain": [
       "<IPython.core.display.HTML object>"
      ]
     },
     "metadata": {},
     "output_type": "display_data"
    },
    {
     "data": {
      "text/html": [
       "\n",
       "        <div id=\"FogGfkTBayJpcPSbKx4A8U\"></div>\n",
       "        <script>netpixi.call('FogGfkTBayJpcPSbKx4A8U', 'BG6GNWMZUSpdkKQEjvjRxv', 'changeGraph', 'eyJpZCI6IDE5NiwgInR5cGUiOiAidmVydGV4IiwgInByb3BzIjogeyJjb2xvciI6IDE2NzExNjgwfX0K');</script>\n",
       "    "
      ],
      "text/plain": [
       "<IPython.core.display.HTML object>"
      ]
     },
     "metadata": {},
     "output_type": "display_data"
    },
    {
     "data": {
      "text/html": [
       "\n",
       "        <div id=\"eA9mD6CV7pUKuarE96ZQzy\"></div>\n",
       "        <script>netpixi.call('eA9mD6CV7pUKuarE96ZQzy', 'BG6GNWMZUSpdkKQEjvjRxv', 'changeGraph', 'eyJpZCI6IDE5NywgInR5cGUiOiAidmVydGV4IiwgInByb3BzIjogeyJjb2xvciI6IDE2NzExNjgwfX0K');</script>\n",
       "    "
      ],
      "text/plain": [
       "<IPython.core.display.HTML object>"
      ]
     },
     "metadata": {},
     "output_type": "display_data"
    },
    {
     "data": {
      "text/html": [
       "\n",
       "        <div id=\"GT9Ft5rJew6hhQAQJ7ya7T\"></div>\n",
       "        <script>netpixi.call('GT9Ft5rJew6hhQAQJ7ya7T', 'BG6GNWMZUSpdkKQEjvjRxv', 'changeGraph', 'eyJpZCI6IDE5OCwgInR5cGUiOiAidmVydGV4IiwgInByb3BzIjogeyJjb2xvciI6IDE2NzExNjgwfX0K');</script>\n",
       "    "
      ],
      "text/plain": [
       "<IPython.core.display.HTML object>"
      ]
     },
     "metadata": {},
     "output_type": "display_data"
    },
    {
     "data": {
      "text/html": [
       "\n",
       "        <div id=\"LfciHmP5CUA7FRq88zBK6J\"></div>\n",
       "        <script>netpixi.call('LfciHmP5CUA7FRq88zBK6J', 'BG6GNWMZUSpdkKQEjvjRxv', 'changeGraph', 'eyJpZCI6IDE5OSwgInR5cGUiOiAidmVydGV4IiwgInByb3BzIjogeyJjb2xvciI6IDY1MjgwfX0K');</script>\n",
       "    "
      ],
      "text/plain": [
       "<IPython.core.display.HTML object>"
      ]
     },
     "metadata": {},
     "output_type": "display_data"
    },
    {
     "data": {
      "text/html": [
       "\n",
       "        <div id=\"ZfqsQnuXFmPCXeJqDXse3f\"></div>\n",
       "        <script>netpixi.call('ZfqsQnuXFmPCXeJqDXse3f', 'BG6GNWMZUSpdkKQEjvjRxv', 'changeGraph', 'eyJpZCI6IDIwMCwgInR5cGUiOiAidmVydGV4IiwgInByb3BzIjogeyJjb2xvciI6IDY1MjgwfX0K');</script>\n",
       "    "
      ],
      "text/plain": [
       "<IPython.core.display.HTML object>"
      ]
     },
     "metadata": {},
     "output_type": "display_data"
    },
    {
     "data": {
      "text/html": [
       "\n",
       "        <div id=\"ZkKDY7q6DpVtjSXNwbm6vi\"></div>\n",
       "        <script>netpixi.call('ZkKDY7q6DpVtjSXNwbm6vi', 'BG6GNWMZUSpdkKQEjvjRxv', 'changeGraph', 'eyJpZCI6IDIwMSwgInR5cGUiOiAidmVydGV4IiwgInByb3BzIjogeyJjb2xvciI6IDE2NzExNjgwfX0K');</script>\n",
       "    "
      ],
      "text/plain": [
       "<IPython.core.display.HTML object>"
      ]
     },
     "metadata": {},
     "output_type": "display_data"
    },
    {
     "data": {
      "text/html": [
       "\n",
       "        <div id=\"LpJKnqUccVav78nDkToMdw\"></div>\n",
       "        <script>netpixi.call('LpJKnqUccVav78nDkToMdw', 'BG6GNWMZUSpdkKQEjvjRxv', 'changeGraph', 'eyJpZCI6IDIwMiwgInR5cGUiOiAidmVydGV4IiwgInByb3BzIjogeyJjb2xvciI6IDE2NzExNjgwfX0K');</script>\n",
       "    "
      ],
      "text/plain": [
       "<IPython.core.display.HTML object>"
      ]
     },
     "metadata": {},
     "output_type": "display_data"
    },
    {
     "data": {
      "text/html": [
       "\n",
       "        <div id=\"gkZhvNNPN5CVmzUMwu2MEy\"></div>\n",
       "        <script>netpixi.call('gkZhvNNPN5CVmzUMwu2MEy', 'BG6GNWMZUSpdkKQEjvjRxv', 'changeGraph', 'eyJpZCI6IDIwMywgInR5cGUiOiAidmVydGV4IiwgInByb3BzIjogeyJjb2xvciI6IDY1MjgwfX0K');</script>\n",
       "    "
      ],
      "text/plain": [
       "<IPython.core.display.HTML object>"
      ]
     },
     "metadata": {},
     "output_type": "display_data"
    },
    {
     "data": {
      "text/html": [
       "\n",
       "        <div id=\"DWfkYmCujsC4tX3gno3hZM\"></div>\n",
       "        <script>netpixi.call('DWfkYmCujsC4tX3gno3hZM', 'BG6GNWMZUSpdkKQEjvjRxv', 'changeGraph', 'eyJpZCI6IDIwNCwgInR5cGUiOiAidmVydGV4IiwgInByb3BzIjogeyJjb2xvciI6IDY1MjgwfX0K');</script>\n",
       "    "
      ],
      "text/plain": [
       "<IPython.core.display.HTML object>"
      ]
     },
     "metadata": {},
     "output_type": "display_data"
    },
    {
     "data": {
      "text/html": [
       "\n",
       "        <div id=\"GHX693EbmCE7fysSe2Q6sR\"></div>\n",
       "        <script>netpixi.call('GHX693EbmCE7fysSe2Q6sR', 'BG6GNWMZUSpdkKQEjvjRxv', 'changeGraph', 'eyJpZCI6IDIwNSwgInR5cGUiOiAidmVydGV4IiwgInByb3BzIjogeyJjb2xvciI6IDE2NzExNjgwfX0K');</script>\n",
       "    "
      ],
      "text/plain": [
       "<IPython.core.display.HTML object>"
      ]
     },
     "metadata": {},
     "output_type": "display_data"
    },
    {
     "data": {
      "text/html": [
       "\n",
       "        <div id=\"CR3gZaeA7V8NW6gPcPCJYz\"></div>\n",
       "        <script>netpixi.call('CR3gZaeA7V8NW6gPcPCJYz', 'BG6GNWMZUSpdkKQEjvjRxv', 'changeGraph', 'eyJpZCI6IDIwNiwgInR5cGUiOiAidmVydGV4IiwgInByb3BzIjogeyJjb2xvciI6IDE2NzExNjgwfX0K');</script>\n",
       "    "
      ],
      "text/plain": [
       "<IPython.core.display.HTML object>"
      ]
     },
     "metadata": {},
     "output_type": "display_data"
    },
    {
     "data": {
      "text/html": [
       "\n",
       "        <div id=\"VK9LhqJQL4jGgst6WeBJmG\"></div>\n",
       "        <script>netpixi.call('VK9LhqJQL4jGgst6WeBJmG', 'BG6GNWMZUSpdkKQEjvjRxv', 'changeGraph', 'eyJpZCI6IDIwNywgInR5cGUiOiAidmVydGV4IiwgInByb3BzIjogeyJjb2xvciI6IDY1MjgwfX0K');</script>\n",
       "    "
      ],
      "text/plain": [
       "<IPython.core.display.HTML object>"
      ]
     },
     "metadata": {},
     "output_type": "display_data"
    },
    {
     "data": {
      "text/html": [
       "\n",
       "        <div id=\"TcTP9XeMoXiXfTuoCuG5XH\"></div>\n",
       "        <script>netpixi.call('TcTP9XeMoXiXfTuoCuG5XH', 'BG6GNWMZUSpdkKQEjvjRxv', 'changeGraph', 'eyJpZCI6IDIwOCwgInR5cGUiOiAidmVydGV4IiwgInByb3BzIjogeyJjb2xvciI6IDY1MjgwfX0K');</script>\n",
       "    "
      ],
      "text/plain": [
       "<IPython.core.display.HTML object>"
      ]
     },
     "metadata": {},
     "output_type": "display_data"
    },
    {
     "data": {
      "text/html": [
       "\n",
       "        <div id=\"ecaQtPAkxSuczpiHYsWyZJ\"></div>\n",
       "        <script>netpixi.call('ecaQtPAkxSuczpiHYsWyZJ', 'BG6GNWMZUSpdkKQEjvjRxv', 'changeGraph', 'eyJpZCI6IDIwOSwgInR5cGUiOiAidmVydGV4IiwgInByb3BzIjogeyJjb2xvciI6IDY1MjgwfX0K');</script>\n",
       "    "
      ],
      "text/plain": [
       "<IPython.core.display.HTML object>"
      ]
     },
     "metadata": {},
     "output_type": "display_data"
    },
    {
     "data": {
      "text/html": [
       "\n",
       "        <div id=\"mkUKaeJKsqWwRrD22uEFbo\"></div>\n",
       "        <script>netpixi.call('mkUKaeJKsqWwRrD22uEFbo', 'BG6GNWMZUSpdkKQEjvjRxv', 'changeGraph', 'eyJpZCI6IDIxMCwgInR5cGUiOiAidmVydGV4IiwgInByb3BzIjogeyJjb2xvciI6IDE2NzExNjgwfX0K');</script>\n",
       "    "
      ],
      "text/plain": [
       "<IPython.core.display.HTML object>"
      ]
     },
     "metadata": {},
     "output_type": "display_data"
    },
    {
     "data": {
      "text/html": [
       "\n",
       "        <div id=\"WJ3zfTUYZRLaST6FWoA9BY\"></div>\n",
       "        <script>netpixi.call('WJ3zfTUYZRLaST6FWoA9BY', 'BG6GNWMZUSpdkKQEjvjRxv', 'changeGraph', 'eyJpZCI6IDIxMSwgInR5cGUiOiAidmVydGV4IiwgInByb3BzIjogeyJjb2xvciI6IDY1MjgwfX0K');</script>\n",
       "    "
      ],
      "text/plain": [
       "<IPython.core.display.HTML object>"
      ]
     },
     "metadata": {},
     "output_type": "display_data"
    },
    {
     "data": {
      "text/html": [
       "\n",
       "        <div id=\"cgehWwY87LXnBUT2ozMSXx\"></div>\n",
       "        <script>netpixi.call('cgehWwY87LXnBUT2ozMSXx', 'BG6GNWMZUSpdkKQEjvjRxv', 'changeGraph', 'eyJpZCI6IDIxMiwgInR5cGUiOiAidmVydGV4IiwgInByb3BzIjogeyJjb2xvciI6IDE2NzExNjgwfX0K');</script>\n",
       "    "
      ],
      "text/plain": [
       "<IPython.core.display.HTML object>"
      ]
     },
     "metadata": {},
     "output_type": "display_data"
    },
    {
     "data": {
      "text/html": [
       "\n",
       "        <div id=\"4auVteBN3mhqeJddmwFm39\"></div>\n",
       "        <script>netpixi.call('4auVteBN3mhqeJddmwFm39', 'BG6GNWMZUSpdkKQEjvjRxv', 'changeGraph', 'eyJpZCI6IDIxMywgInR5cGUiOiAidmVydGV4IiwgInByb3BzIjogeyJjb2xvciI6IDY1MjgwfX0K');</script>\n",
       "    "
      ],
      "text/plain": [
       "<IPython.core.display.HTML object>"
      ]
     },
     "metadata": {},
     "output_type": "display_data"
    },
    {
     "data": {
      "text/html": [
       "\n",
       "        <div id=\"Rrz7Kc2kXWNfiKtYFXYhHi\"></div>\n",
       "        <script>netpixi.call('Rrz7Kc2kXWNfiKtYFXYhHi', 'BG6GNWMZUSpdkKQEjvjRxv', 'changeGraph', 'eyJpZCI6IDIxNCwgInR5cGUiOiAidmVydGV4IiwgInByb3BzIjogeyJjb2xvciI6IDE2NzExNjgwfX0K');</script>\n",
       "    "
      ],
      "text/plain": [
       "<IPython.core.display.HTML object>"
      ]
     },
     "metadata": {},
     "output_type": "display_data"
    },
    {
     "data": {
      "text/html": [
       "\n",
       "        <div id=\"cH4pAFEVqKKTT7a3jbhd5x\"></div>\n",
       "        <script>netpixi.call('cH4pAFEVqKKTT7a3jbhd5x', 'BG6GNWMZUSpdkKQEjvjRxv', 'changeGraph', 'eyJpZCI6IDIxNSwgInR5cGUiOiAidmVydGV4IiwgInByb3BzIjogeyJjb2xvciI6IDE2NzExNjgwfX0K');</script>\n",
       "    "
      ],
      "text/plain": [
       "<IPython.core.display.HTML object>"
      ]
     },
     "metadata": {},
     "output_type": "display_data"
    },
    {
     "data": {
      "text/html": [
       "\n",
       "        <div id=\"hQQUBvwd7aqHfecPJPY7ow\"></div>\n",
       "        <script>netpixi.call('hQQUBvwd7aqHfecPJPY7ow', 'BG6GNWMZUSpdkKQEjvjRxv', 'changeGraph', 'eyJpZCI6IDIxNiwgInR5cGUiOiAidmVydGV4IiwgInByb3BzIjogeyJjb2xvciI6IDE2NzExNjgwfX0K');</script>\n",
       "    "
      ],
      "text/plain": [
       "<IPython.core.display.HTML object>"
      ]
     },
     "metadata": {},
     "output_type": "display_data"
    },
    {
     "data": {
      "text/html": [
       "\n",
       "        <div id=\"jqBa2WDjdAv49xm9qMNDme\"></div>\n",
       "        <script>netpixi.call('jqBa2WDjdAv49xm9qMNDme', 'BG6GNWMZUSpdkKQEjvjRxv', 'changeGraph', 'eyJpZCI6IDIxNywgInR5cGUiOiAidmVydGV4IiwgInByb3BzIjogeyJjb2xvciI6IDE2NzExNjgwfX0K');</script>\n",
       "    "
      ],
      "text/plain": [
       "<IPython.core.display.HTML object>"
      ]
     },
     "metadata": {},
     "output_type": "display_data"
    },
    {
     "data": {
      "text/html": [
       "\n",
       "        <div id=\"Hy2VWtAEznpwe28HpbR4Ur\"></div>\n",
       "        <script>netpixi.call('Hy2VWtAEznpwe28HpbR4Ur', 'BG6GNWMZUSpdkKQEjvjRxv', 'changeGraph', 'eyJpZCI6IDIxOCwgInR5cGUiOiAidmVydGV4IiwgInByb3BzIjogeyJjb2xvciI6IDE2NzExNjgwfX0K');</script>\n",
       "    "
      ],
      "text/plain": [
       "<IPython.core.display.HTML object>"
      ]
     },
     "metadata": {},
     "output_type": "display_data"
    },
    {
     "data": {
      "text/html": [
       "\n",
       "        <div id=\"6SRyViTpLoHovcqPRrtG6A\"></div>\n",
       "        <script>netpixi.call('6SRyViTpLoHovcqPRrtG6A', 'BG6GNWMZUSpdkKQEjvjRxv', 'changeGraph', 'eyJpZCI6IDIxOSwgInR5cGUiOiAidmVydGV4IiwgInByb3BzIjogeyJjb2xvciI6IDE2NzExNjgwfX0K');</script>\n",
       "    "
      ],
      "text/plain": [
       "<IPython.core.display.HTML object>"
      ]
     },
     "metadata": {},
     "output_type": "display_data"
    },
    {
     "data": {
      "text/html": [
       "\n",
       "        <div id=\"PU7FFxSvoP9dsTttX58HVV\"></div>\n",
       "        <script>netpixi.call('PU7FFxSvoP9dsTttX58HVV', 'BG6GNWMZUSpdkKQEjvjRxv', 'changeGraph', 'eyJpZCI6IDIyMCwgInR5cGUiOiAidmVydGV4IiwgInByb3BzIjogeyJjb2xvciI6IDE2NzExNjgwfX0K');</script>\n",
       "    "
      ],
      "text/plain": [
       "<IPython.core.display.HTML object>"
      ]
     },
     "metadata": {},
     "output_type": "display_data"
    },
    {
     "data": {
      "text/html": [
       "\n",
       "        <div id=\"gtrHYf9WXXQYKeQyw4TJ3o\"></div>\n",
       "        <script>netpixi.call('gtrHYf9WXXQYKeQyw4TJ3o', 'BG6GNWMZUSpdkKQEjvjRxv', 'changeGraph', 'eyJpZCI6IDIyMSwgInR5cGUiOiAidmVydGV4IiwgInByb3BzIjogeyJjb2xvciI6IDE2NzExNjgwfX0K');</script>\n",
       "    "
      ],
      "text/plain": [
       "<IPython.core.display.HTML object>"
      ]
     },
     "metadata": {},
     "output_type": "display_data"
    },
    {
     "data": {
      "text/html": [
       "\n",
       "        <div id=\"baYoFSzLt5pMoqQife98iR\"></div>\n",
       "        <script>netpixi.call('baYoFSzLt5pMoqQife98iR', 'BG6GNWMZUSpdkKQEjvjRxv', 'changeGraph', 'eyJpZCI6IDIyMiwgInR5cGUiOiAidmVydGV4IiwgInByb3BzIjogeyJjb2xvciI6IDE2NzExNjgwfX0K');</script>\n",
       "    "
      ],
      "text/plain": [
       "<IPython.core.display.HTML object>"
      ]
     },
     "metadata": {},
     "output_type": "display_data"
    },
    {
     "data": {
      "text/html": [
       "\n",
       "        <div id=\"RNYw5Mx9YmT2mm3SBP9mew\"></div>\n",
       "        <script>netpixi.call('RNYw5Mx9YmT2mm3SBP9mew', 'BG6GNWMZUSpdkKQEjvjRxv', 'changeGraph', 'eyJpZCI6IDIyMywgInR5cGUiOiAidmVydGV4IiwgInByb3BzIjogeyJjb2xvciI6IDE2NzExNjgwfX0K');</script>\n",
       "    "
      ],
      "text/plain": [
       "<IPython.core.display.HTML object>"
      ]
     },
     "metadata": {},
     "output_type": "display_data"
    },
    {
     "data": {
      "text/html": [
       "\n",
       "        <div id=\"4akzTg2yCDRPfDGuwEG34n\"></div>\n",
       "        <script>netpixi.call('4akzTg2yCDRPfDGuwEG34n', 'BG6GNWMZUSpdkKQEjvjRxv', 'changeGraph', 'eyJpZCI6IDIyNCwgInR5cGUiOiAidmVydGV4IiwgInByb3BzIjogeyJjb2xvciI6IDE2NzExNjgwfX0K');</script>\n",
       "    "
      ],
      "text/plain": [
       "<IPython.core.display.HTML object>"
      ]
     },
     "metadata": {},
     "output_type": "display_data"
    },
    {
     "data": {
      "text/html": [
       "\n",
       "        <div id=\"VtierkcQqNuXF9zPmuyRhM\"></div>\n",
       "        <script>netpixi.call('VtierkcQqNuXF9zPmuyRhM', 'BG6GNWMZUSpdkKQEjvjRxv', 'changeGraph', 'eyJpZCI6IDIyNSwgInR5cGUiOiAidmVydGV4IiwgInByb3BzIjogeyJjb2xvciI6IDE2NzExNjgwfX0K');</script>\n",
       "    "
      ],
      "text/plain": [
       "<IPython.core.display.HTML object>"
      ]
     },
     "metadata": {},
     "output_type": "display_data"
    },
    {
     "data": {
      "text/html": [
       "\n",
       "        <div id=\"GLPxQciU7v9KTLGVne6wct\"></div>\n",
       "        <script>netpixi.call('GLPxQciU7v9KTLGVne6wct', 'BG6GNWMZUSpdkKQEjvjRxv', 'changeGraph', 'eyJpZCI6IDIyNiwgInR5cGUiOiAidmVydGV4IiwgInByb3BzIjogeyJjb2xvciI6IDE2NzExNjgwfX0K');</script>\n",
       "    "
      ],
      "text/plain": [
       "<IPython.core.display.HTML object>"
      ]
     },
     "metadata": {},
     "output_type": "display_data"
    },
    {
     "data": {
      "text/html": [
       "\n",
       "        <div id=\"PDUZhvEbSdc6cpoBuAdMY8\"></div>\n",
       "        <script>netpixi.call('PDUZhvEbSdc6cpoBuAdMY8', 'BG6GNWMZUSpdkKQEjvjRxv', 'changeGraph', 'eyJpZCI6IDIyNywgInR5cGUiOiAidmVydGV4IiwgInByb3BzIjogeyJjb2xvciI6IDY1MjgwfX0K');</script>\n",
       "    "
      ],
      "text/plain": [
       "<IPython.core.display.HTML object>"
      ]
     },
     "metadata": {},
     "output_type": "display_data"
    },
    {
     "data": {
      "text/html": [
       "\n",
       "        <div id=\"NYaMaWahBfqLtAYzscvQGp\"></div>\n",
       "        <script>netpixi.call('NYaMaWahBfqLtAYzscvQGp', 'BG6GNWMZUSpdkKQEjvjRxv', 'changeGraph', 'eyJpZCI6IDIyOCwgInR5cGUiOiAidmVydGV4IiwgInByb3BzIjogeyJjb2xvciI6IDY1MjgwfX0K');</script>\n",
       "    "
      ],
      "text/plain": [
       "<IPython.core.display.HTML object>"
      ]
     },
     "metadata": {},
     "output_type": "display_data"
    },
    {
     "data": {
      "text/html": [
       "\n",
       "        <div id=\"BjAcHUXcNydh9GQUEJPrcQ\"></div>\n",
       "        <script>netpixi.call('BjAcHUXcNydh9GQUEJPrcQ', 'BG6GNWMZUSpdkKQEjvjRxv', 'changeGraph', 'eyJpZCI6IDIyOSwgInR5cGUiOiAidmVydGV4IiwgInByb3BzIjogeyJjb2xvciI6IDE2NzExNjgwfX0K');</script>\n",
       "    "
      ],
      "text/plain": [
       "<IPython.core.display.HTML object>"
      ]
     },
     "metadata": {},
     "output_type": "display_data"
    },
    {
     "data": {
      "text/html": [
       "\n",
       "        <div id=\"WZEC5Dj3E5eFUX28kc7HfX\"></div>\n",
       "        <script>netpixi.call('WZEC5Dj3E5eFUX28kc7HfX', 'BG6GNWMZUSpdkKQEjvjRxv', 'changeGraph', 'eyJpZCI6IDIzMCwgInR5cGUiOiAidmVydGV4IiwgInByb3BzIjogeyJjb2xvciI6IDE2NzExNjgwfX0K');</script>\n",
       "    "
      ],
      "text/plain": [
       "<IPython.core.display.HTML object>"
      ]
     },
     "metadata": {},
     "output_type": "display_data"
    },
    {
     "data": {
      "text/html": [
       "\n",
       "        <div id=\"H9GBe5UrrSLfU7buYkMDHe\"></div>\n",
       "        <script>netpixi.call('H9GBe5UrrSLfU7buYkMDHe', 'BG6GNWMZUSpdkKQEjvjRxv', 'changeGraph', 'eyJpZCI6IDIzMSwgInR5cGUiOiAidmVydGV4IiwgInByb3BzIjogeyJjb2xvciI6IDY1MjgwfX0K');</script>\n",
       "    "
      ],
      "text/plain": [
       "<IPython.core.display.HTML object>"
      ]
     },
     "metadata": {},
     "output_type": "display_data"
    },
    {
     "data": {
      "text/html": [
       "\n",
       "        <div id=\"5fYUy8gepNGXyBvZvsdaMW\"></div>\n",
       "        <script>netpixi.call('5fYUy8gepNGXyBvZvsdaMW', 'BG6GNWMZUSpdkKQEjvjRxv', 'changeGraph', 'eyJpZCI6IDIzMiwgInR5cGUiOiAidmVydGV4IiwgInByb3BzIjogeyJjb2xvciI6IDE2NzExNjgwfX0K');</script>\n",
       "    "
      ],
      "text/plain": [
       "<IPython.core.display.HTML object>"
      ]
     },
     "metadata": {},
     "output_type": "display_data"
    },
    {
     "data": {
      "text/html": [
       "\n",
       "        <div id=\"ModitihNZ2PxMLNHBUvjH3\"></div>\n",
       "        <script>netpixi.call('ModitihNZ2PxMLNHBUvjH3', 'BG6GNWMZUSpdkKQEjvjRxv', 'changeGraph', 'eyJpZCI6IDIzMywgInR5cGUiOiAidmVydGV4IiwgInByb3BzIjogeyJjb2xvciI6IDE2NzExNjgwfX0K');</script>\n",
       "    "
      ],
      "text/plain": [
       "<IPython.core.display.HTML object>"
      ]
     },
     "metadata": {},
     "output_type": "display_data"
    },
    {
     "data": {
      "text/html": [
       "\n",
       "        <div id=\"6VSZh6TXeVTz7hY4GzEFbD\"></div>\n",
       "        <script>netpixi.call('6VSZh6TXeVTz7hY4GzEFbD', 'BG6GNWMZUSpdkKQEjvjRxv', 'changeGraph', 'eyJpZCI6IDIzNCwgInR5cGUiOiAidmVydGV4IiwgInByb3BzIjogeyJjb2xvciI6IDE2NzExNjgwfX0K');</script>\n",
       "    "
      ],
      "text/plain": [
       "<IPython.core.display.HTML object>"
      ]
     },
     "metadata": {},
     "output_type": "display_data"
    },
    {
     "data": {
      "text/html": [
       "\n",
       "        <div id=\"2noVCG4YMft7nJHdcxHQiz\"></div>\n",
       "        <script>netpixi.call('2noVCG4YMft7nJHdcxHQiz', 'BG6GNWMZUSpdkKQEjvjRxv', 'changeGraph', 'eyJpZCI6IDIzNSwgInR5cGUiOiAidmVydGV4IiwgInByb3BzIjogeyJjb2xvciI6IDY1MjgwfX0K');</script>\n",
       "    "
      ],
      "text/plain": [
       "<IPython.core.display.HTML object>"
      ]
     },
     "metadata": {},
     "output_type": "display_data"
    },
    {
     "data": {
      "text/html": [
       "\n",
       "        <div id=\"Mtk2j5XAeR6LsbmTf8o6mt\"></div>\n",
       "        <script>netpixi.call('Mtk2j5XAeR6LsbmTf8o6mt', 'BG6GNWMZUSpdkKQEjvjRxv', 'changeGraph', 'eyJpZCI6IDIzNiwgInR5cGUiOiAidmVydGV4IiwgInByb3BzIjogeyJjb2xvciI6IDY1MjgwfX0K');</script>\n",
       "    "
      ],
      "text/plain": [
       "<IPython.core.display.HTML object>"
      ]
     },
     "metadata": {},
     "output_type": "display_data"
    },
    {
     "data": {
      "text/html": [
       "\n",
       "        <div id=\"QFW6SaTzVM634Q2xzW7oFV\"></div>\n",
       "        <script>netpixi.call('QFW6SaTzVM634Q2xzW7oFV', 'BG6GNWMZUSpdkKQEjvjRxv', 'changeGraph', 'eyJpZCI6IDIzNywgInR5cGUiOiAidmVydGV4IiwgInByb3BzIjogeyJjb2xvciI6IDE2NzExNjgwfX0K');</script>\n",
       "    "
      ],
      "text/plain": [
       "<IPython.core.display.HTML object>"
      ]
     },
     "metadata": {},
     "output_type": "display_data"
    },
    {
     "data": {
      "text/html": [
       "\n",
       "        <div id=\"8hA7L3KRYkiocQSqSNgoVC\"></div>\n",
       "        <script>netpixi.call('8hA7L3KRYkiocQSqSNgoVC', 'BG6GNWMZUSpdkKQEjvjRxv', 'changeGraph', 'eyJpZCI6IDIzOCwgInR5cGUiOiAidmVydGV4IiwgInByb3BzIjogeyJjb2xvciI6IDY1MjgwfX0K');</script>\n",
       "    "
      ],
      "text/plain": [
       "<IPython.core.display.HTML object>"
      ]
     },
     "metadata": {},
     "output_type": "display_data"
    },
    {
     "data": {
      "text/html": [
       "\n",
       "        <div id=\"5r3uwMvaid6M3HxR5yrHAT\"></div>\n",
       "        <script>netpixi.call('5r3uwMvaid6M3HxR5yrHAT', 'BG6GNWMZUSpdkKQEjvjRxv', 'changeGraph', 'eyJpZCI6IDIzOSwgInR5cGUiOiAidmVydGV4IiwgInByb3BzIjogeyJjb2xvciI6IDE2NzExNjgwfX0K');</script>\n",
       "    "
      ],
      "text/plain": [
       "<IPython.core.display.HTML object>"
      ]
     },
     "metadata": {},
     "output_type": "display_data"
    },
    {
     "data": {
      "text/html": [
       "\n",
       "        <div id=\"fjSiv6G3ZgTZ4fqDgLq8kP\"></div>\n",
       "        <script>netpixi.call('fjSiv6G3ZgTZ4fqDgLq8kP', 'BG6GNWMZUSpdkKQEjvjRxv', 'changeGraph', 'eyJpZCI6IDI0MCwgInR5cGUiOiAidmVydGV4IiwgInByb3BzIjogeyJjb2xvciI6IDY1MjgwfX0K');</script>\n",
       "    "
      ],
      "text/plain": [
       "<IPython.core.display.HTML object>"
      ]
     },
     "metadata": {},
     "output_type": "display_data"
    },
    {
     "data": {
      "text/html": [
       "\n",
       "        <div id=\"BA5bMUfCbdNDckFsqeK6xi\"></div>\n",
       "        <script>netpixi.call('BA5bMUfCbdNDckFsqeK6xi', 'BG6GNWMZUSpdkKQEjvjRxv', 'changeGraph', 'eyJpZCI6IDI0MSwgInR5cGUiOiAidmVydGV4IiwgInByb3BzIjogeyJjb2xvciI6IDE2NzExNjgwfX0K');</script>\n",
       "    "
      ],
      "text/plain": [
       "<IPython.core.display.HTML object>"
      ]
     },
     "metadata": {},
     "output_type": "display_data"
    },
    {
     "data": {
      "text/html": [
       "\n",
       "        <div id=\"8C2iDvQaTpuMeBSu3aDBA6\"></div>\n",
       "        <script>netpixi.call('8C2iDvQaTpuMeBSu3aDBA6', 'BG6GNWMZUSpdkKQEjvjRxv', 'changeGraph', 'eyJpZCI6IDI0MiwgInR5cGUiOiAidmVydGV4IiwgInByb3BzIjogeyJjb2xvciI6IDE2NzExNjgwfX0K');</script>\n",
       "    "
      ],
      "text/plain": [
       "<IPython.core.display.HTML object>"
      ]
     },
     "metadata": {},
     "output_type": "display_data"
    },
    {
     "data": {
      "text/html": [
       "\n",
       "        <div id=\"eAy6okCWNrZcByeWitXEBQ\"></div>\n",
       "        <script>netpixi.call('eAy6okCWNrZcByeWitXEBQ', 'BG6GNWMZUSpdkKQEjvjRxv', 'changeGraph', 'eyJpZCI6IDI0MywgInR5cGUiOiAidmVydGV4IiwgInByb3BzIjogeyJjb2xvciI6IDE2NzExNjgwfX0K');</script>\n",
       "    "
      ],
      "text/plain": [
       "<IPython.core.display.HTML object>"
      ]
     },
     "metadata": {},
     "output_type": "display_data"
    },
    {
     "data": {
      "text/html": [
       "\n",
       "        <div id=\"nKAucScwtHv3SAdjEN3cNi\"></div>\n",
       "        <script>netpixi.call('nKAucScwtHv3SAdjEN3cNi', 'BG6GNWMZUSpdkKQEjvjRxv', 'changeGraph', 'eyJpZCI6IDI0NCwgInR5cGUiOiAidmVydGV4IiwgInByb3BzIjogeyJjb2xvciI6IDE2NzExNjgwfX0K');</script>\n",
       "    "
      ],
      "text/plain": [
       "<IPython.core.display.HTML object>"
      ]
     },
     "metadata": {},
     "output_type": "display_data"
    },
    {
     "data": {
      "text/html": [
       "\n",
       "        <div id=\"KEMEHjs6MQwGeXfmhJGwm6\"></div>\n",
       "        <script>netpixi.call('KEMEHjs6MQwGeXfmhJGwm6', 'BG6GNWMZUSpdkKQEjvjRxv', 'changeGraph', 'eyJpZCI6IDI0NSwgInR5cGUiOiAidmVydGV4IiwgInByb3BzIjogeyJjb2xvciI6IDY1MjgwfX0K');</script>\n",
       "    "
      ],
      "text/plain": [
       "<IPython.core.display.HTML object>"
      ]
     },
     "metadata": {},
     "output_type": "display_data"
    },
    {
     "data": {
      "text/html": [
       "\n",
       "        <div id=\"RHA2iR44D3uXgGsQXx95dE\"></div>\n",
       "        <script>netpixi.call('RHA2iR44D3uXgGsQXx95dE', 'BG6GNWMZUSpdkKQEjvjRxv', 'changeGraph', 'eyJpZCI6IDI0NiwgInR5cGUiOiAidmVydGV4IiwgInByb3BzIjogeyJjb2xvciI6IDE2NzExNjgwfX0K');</script>\n",
       "    "
      ],
      "text/plain": [
       "<IPython.core.display.HTML object>"
      ]
     },
     "metadata": {},
     "output_type": "display_data"
    },
    {
     "data": {
      "text/html": [
       "\n",
       "        <div id=\"TE2wduZGNaZgiufiH6fz4a\"></div>\n",
       "        <script>netpixi.call('TE2wduZGNaZgiufiH6fz4a', 'BG6GNWMZUSpdkKQEjvjRxv', 'changeGraph', 'eyJpZCI6IDI0NywgInR5cGUiOiAidmVydGV4IiwgInByb3BzIjogeyJjb2xvciI6IDE2NzExNjgwfX0K');</script>\n",
       "    "
      ],
      "text/plain": [
       "<IPython.core.display.HTML object>"
      ]
     },
     "metadata": {},
     "output_type": "display_data"
    },
    {
     "data": {
      "text/html": [
       "\n",
       "        <div id=\"CjecgjqhpG7MGKAqKpMfwT\"></div>\n",
       "        <script>netpixi.call('CjecgjqhpG7MGKAqKpMfwT', 'BG6GNWMZUSpdkKQEjvjRxv', 'changeGraph', 'eyJpZCI6IDI0OCwgInR5cGUiOiAidmVydGV4IiwgInByb3BzIjogeyJjb2xvciI6IDE2NzExNjgwfX0K');</script>\n",
       "    "
      ],
      "text/plain": [
       "<IPython.core.display.HTML object>"
      ]
     },
     "metadata": {},
     "output_type": "display_data"
    },
    {
     "data": {
      "text/html": [
       "\n",
       "        <div id=\"EBJ4SCq44KWdkXrE9B6pTW\"></div>\n",
       "        <script>netpixi.call('EBJ4SCq44KWdkXrE9B6pTW', 'BG6GNWMZUSpdkKQEjvjRxv', 'changeGraph', 'eyJpZCI6IDI0OSwgInR5cGUiOiAidmVydGV4IiwgInByb3BzIjogeyJjb2xvciI6IDE2NzExNjgwfX0K');</script>\n",
       "    "
      ],
      "text/plain": [
       "<IPython.core.display.HTML object>"
      ]
     },
     "metadata": {},
     "output_type": "display_data"
    },
    {
     "data": {
      "text/html": [
       "\n",
       "        <div id=\"KYHWiuuztHf7rRQNvYhrpd\"></div>\n",
       "        <script>netpixi.call('KYHWiuuztHf7rRQNvYhrpd', 'BG6GNWMZUSpdkKQEjvjRxv', 'changeGraph', 'eyJpZCI6IDI1MCwgInR5cGUiOiAidmVydGV4IiwgInByb3BzIjogeyJjb2xvciI6IDE2NzExNjgwfX0K');</script>\n",
       "    "
      ],
      "text/plain": [
       "<IPython.core.display.HTML object>"
      ]
     },
     "metadata": {},
     "output_type": "display_data"
    },
    {
     "data": {
      "text/html": [
       "\n",
       "        <div id=\"TwyFoB2WxCHR6hFyvTm8GL\"></div>\n",
       "        <script>netpixi.call('TwyFoB2WxCHR6hFyvTm8GL', 'BG6GNWMZUSpdkKQEjvjRxv', 'changeGraph', 'eyJpZCI6IDI1MSwgInR5cGUiOiAidmVydGV4IiwgInByb3BzIjogeyJjb2xvciI6IDE2NzExNjgwfX0K');</script>\n",
       "    "
      ],
      "text/plain": [
       "<IPython.core.display.HTML object>"
      ]
     },
     "metadata": {},
     "output_type": "display_data"
    },
    {
     "data": {
      "text/html": [
       "\n",
       "        <div id=\"2jvbzSed3TbVVhc8cW8HbK\"></div>\n",
       "        <script>netpixi.call('2jvbzSed3TbVVhc8cW8HbK', 'BG6GNWMZUSpdkKQEjvjRxv', 'changeGraph', 'eyJpZCI6IDI1MiwgInR5cGUiOiAidmVydGV4IiwgInByb3BzIjogeyJjb2xvciI6IDE2NzExNjgwfX0K');</script>\n",
       "    "
      ],
      "text/plain": [
       "<IPython.core.display.HTML object>"
      ]
     },
     "metadata": {},
     "output_type": "display_data"
    },
    {
     "data": {
      "text/html": [
       "\n",
       "        <div id=\"gzJvMBFa2aPWLTNrHr3VzL\"></div>\n",
       "        <script>netpixi.call('gzJvMBFa2aPWLTNrHr3VzL', 'BG6GNWMZUSpdkKQEjvjRxv', 'changeGraph', 'eyJpZCI6IDI1MywgInR5cGUiOiAidmVydGV4IiwgInByb3BzIjogeyJjb2xvciI6IDY1MjgwfX0K');</script>\n",
       "    "
      ],
      "text/plain": [
       "<IPython.core.display.HTML object>"
      ]
     },
     "metadata": {},
     "output_type": "display_data"
    },
    {
     "data": {
      "text/html": [
       "\n",
       "        <div id=\"HzBSSfkXYpjT2Fe4LUk3ed\"></div>\n",
       "        <script>netpixi.call('HzBSSfkXYpjT2Fe4LUk3ed', 'BG6GNWMZUSpdkKQEjvjRxv', 'changeGraph', 'eyJpZCI6IDI1NCwgInR5cGUiOiAidmVydGV4IiwgInByb3BzIjogeyJjb2xvciI6IDE2NzExNjgwfX0K');</script>\n",
       "    "
      ],
      "text/plain": [
       "<IPython.core.display.HTML object>"
      ]
     },
     "metadata": {},
     "output_type": "display_data"
    },
    {
     "data": {
      "text/html": [
       "\n",
       "        <div id=\"ZezzJGKRdAJzgpwmB2y5Cq\"></div>\n",
       "        <script>netpixi.call('ZezzJGKRdAJzgpwmB2y5Cq', 'BG6GNWMZUSpdkKQEjvjRxv', 'changeGraph', 'eyJpZCI6IDI1NSwgInR5cGUiOiAidmVydGV4IiwgInByb3BzIjogeyJjb2xvciI6IDY1MjgwfX0K');</script>\n",
       "    "
      ],
      "text/plain": [
       "<IPython.core.display.HTML object>"
      ]
     },
     "metadata": {},
     "output_type": "display_data"
    },
    {
     "data": {
      "text/html": [
       "\n",
       "        <div id=\"Kw534iqignqeNytYZdRJfK\"></div>\n",
       "        <script>netpixi.call('Kw534iqignqeNytYZdRJfK', 'BG6GNWMZUSpdkKQEjvjRxv', 'changeGraph', 'eyJpZCI6IDI1NiwgInR5cGUiOiAidmVydGV4IiwgInByb3BzIjogeyJjb2xvciI6IDY1MjgwfX0K');</script>\n",
       "    "
      ],
      "text/plain": [
       "<IPython.core.display.HTML object>"
      ]
     },
     "metadata": {},
     "output_type": "display_data"
    },
    {
     "data": {
      "text/html": [
       "\n",
       "        <div id=\"JkS2KhAJJmPCy7jNMva8qG\"></div>\n",
       "        <script>netpixi.call('JkS2KhAJJmPCy7jNMva8qG', 'BG6GNWMZUSpdkKQEjvjRxv', 'changeGraph', 'eyJpZCI6IDI1NywgInR5cGUiOiAidmVydGV4IiwgInByb3BzIjogeyJjb2xvciI6IDE2NzExNjgwfX0K');</script>\n",
       "    "
      ],
      "text/plain": [
       "<IPython.core.display.HTML object>"
      ]
     },
     "metadata": {},
     "output_type": "display_data"
    },
    {
     "data": {
      "text/html": [
       "\n",
       "        <div id=\"Lq9DASvNMavnrLhnLND6eT\"></div>\n",
       "        <script>netpixi.call('Lq9DASvNMavnrLhnLND6eT', 'BG6GNWMZUSpdkKQEjvjRxv', 'changeGraph', 'eyJpZCI6IDI1OCwgInR5cGUiOiAidmVydGV4IiwgInByb3BzIjogeyJjb2xvciI6IDE2NzExNjgwfX0K');</script>\n",
       "    "
      ],
      "text/plain": [
       "<IPython.core.display.HTML object>"
      ]
     },
     "metadata": {},
     "output_type": "display_data"
    },
    {
     "data": {
      "text/html": [
       "\n",
       "        <div id=\"7ySKzEibZpSPCXscPcVdbo\"></div>\n",
       "        <script>netpixi.call('7ySKzEibZpSPCXscPcVdbo', 'BG6GNWMZUSpdkKQEjvjRxv', 'changeGraph', 'eyJpZCI6IDI1OSwgInR5cGUiOiAidmVydGV4IiwgInByb3BzIjogeyJjb2xvciI6IDE2NzExNjgwfX0K');</script>\n",
       "    "
      ],
      "text/plain": [
       "<IPython.core.display.HTML object>"
      ]
     },
     "metadata": {},
     "output_type": "display_data"
    },
    {
     "data": {
      "text/html": [
       "\n",
       "        <div id=\"6ybGYVLSRB9qejcmyuxo8x\"></div>\n",
       "        <script>netpixi.call('6ybGYVLSRB9qejcmyuxo8x', 'BG6GNWMZUSpdkKQEjvjRxv', 'changeGraph', 'eyJpZCI6IDI2MCwgInR5cGUiOiAidmVydGV4IiwgInByb3BzIjogeyJjb2xvciI6IDY1MjgwfX0K');</script>\n",
       "    "
      ],
      "text/plain": [
       "<IPython.core.display.HTML object>"
      ]
     },
     "metadata": {},
     "output_type": "display_data"
    },
    {
     "data": {
      "text/html": [
       "\n",
       "        <div id=\"LTSUkFPnhxH5FX86gFB9dQ\"></div>\n",
       "        <script>netpixi.call('LTSUkFPnhxH5FX86gFB9dQ', 'BG6GNWMZUSpdkKQEjvjRxv', 'changeGraph', 'eyJpZCI6IDI2MSwgInR5cGUiOiAidmVydGV4IiwgInByb3BzIjogeyJjb2xvciI6IDE2NzExNjgwfX0K');</script>\n",
       "    "
      ],
      "text/plain": [
       "<IPython.core.display.HTML object>"
      ]
     },
     "metadata": {},
     "output_type": "display_data"
    },
    {
     "data": {
      "text/html": [
       "\n",
       "        <div id=\"HtuWWhG6RhRTddcBCscagA\"></div>\n",
       "        <script>netpixi.call('HtuWWhG6RhRTddcBCscagA', 'BG6GNWMZUSpdkKQEjvjRxv', 'changeGraph', 'eyJpZCI6IDI2MiwgInR5cGUiOiAidmVydGV4IiwgInByb3BzIjogeyJjb2xvciI6IDE2NzExNjgwfX0K');</script>\n",
       "    "
      ],
      "text/plain": [
       "<IPython.core.display.HTML object>"
      ]
     },
     "metadata": {},
     "output_type": "display_data"
    },
    {
     "data": {
      "text/html": [
       "\n",
       "        <div id=\"8knasgBrf3H5zbDVevcR6T\"></div>\n",
       "        <script>netpixi.call('8knasgBrf3H5zbDVevcR6T', 'BG6GNWMZUSpdkKQEjvjRxv', 'changeGraph', 'eyJpZCI6IDI2MywgInR5cGUiOiAidmVydGV4IiwgInByb3BzIjogeyJjb2xvciI6IDE2NzExNjgwfX0K');</script>\n",
       "    "
      ],
      "text/plain": [
       "<IPython.core.display.HTML object>"
      ]
     },
     "metadata": {},
     "output_type": "display_data"
    },
    {
     "data": {
      "text/html": [
       "\n",
       "        <div id=\"hihfp26uvuQUZnCjMLwpT9\"></div>\n",
       "        <script>netpixi.call('hihfp26uvuQUZnCjMLwpT9', 'BG6GNWMZUSpdkKQEjvjRxv', 'changeGraph', 'eyJpZCI6IDI2NCwgInR5cGUiOiAidmVydGV4IiwgInByb3BzIjogeyJjb2xvciI6IDE2NzExNjgwfX0K');</script>\n",
       "    "
      ],
      "text/plain": [
       "<IPython.core.display.HTML object>"
      ]
     },
     "metadata": {},
     "output_type": "display_data"
    },
    {
     "data": {
      "text/html": [
       "\n",
       "        <div id=\"HQebrzsivhzB82b6BvkUn8\"></div>\n",
       "        <script>netpixi.call('HQebrzsivhzB82b6BvkUn8', 'BG6GNWMZUSpdkKQEjvjRxv', 'changeGraph', 'eyJpZCI6IDI2NSwgInR5cGUiOiAidmVydGV4IiwgInByb3BzIjogeyJjb2xvciI6IDE2NzExNjgwfX0K');</script>\n",
       "    "
      ],
      "text/plain": [
       "<IPython.core.display.HTML object>"
      ]
     },
     "metadata": {},
     "output_type": "display_data"
    },
    {
     "data": {
      "text/html": [
       "\n",
       "        <div id=\"EQZ8N3Xo4NF8eS34pdRgQ9\"></div>\n",
       "        <script>netpixi.call('EQZ8N3Xo4NF8eS34pdRgQ9', 'BG6GNWMZUSpdkKQEjvjRxv', 'changeGraph', 'eyJpZCI6IDI2NiwgInR5cGUiOiAidmVydGV4IiwgInByb3BzIjogeyJjb2xvciI6IDE2NzExNjgwfX0K');</script>\n",
       "    "
      ],
      "text/plain": [
       "<IPython.core.display.HTML object>"
      ]
     },
     "metadata": {},
     "output_type": "display_data"
    },
    {
     "data": {
      "text/html": [
       "\n",
       "        <div id=\"gkJGR2m6UBSk5wP7sLpULY\"></div>\n",
       "        <script>netpixi.call('gkJGR2m6UBSk5wP7sLpULY', 'BG6GNWMZUSpdkKQEjvjRxv', 'changeGraph', 'eyJpZCI6IDI2NywgInR5cGUiOiAidmVydGV4IiwgInByb3BzIjogeyJjb2xvciI6IDY1MjgwfX0K');</script>\n",
       "    "
      ],
      "text/plain": [
       "<IPython.core.display.HTML object>"
      ]
     },
     "metadata": {},
     "output_type": "display_data"
    },
    {
     "data": {
      "text/html": [
       "\n",
       "        <div id=\"BuqSSQwGRJAoPQiW3hFXmv\"></div>\n",
       "        <script>netpixi.call('BuqSSQwGRJAoPQiW3hFXmv', 'BG6GNWMZUSpdkKQEjvjRxv', 'changeGraph', 'eyJpZCI6IDI2OCwgInR5cGUiOiAidmVydGV4IiwgInByb3BzIjogeyJjb2xvciI6IDY1MjgwfX0K');</script>\n",
       "    "
      ],
      "text/plain": [
       "<IPython.core.display.HTML object>"
      ]
     },
     "metadata": {},
     "output_type": "display_data"
    },
    {
     "data": {
      "text/html": [
       "\n",
       "        <div id=\"g7wFXNaK3uV7dRC7txhjsR\"></div>\n",
       "        <script>netpixi.call('g7wFXNaK3uV7dRC7txhjsR', 'BG6GNWMZUSpdkKQEjvjRxv', 'changeGraph', 'eyJpZCI6IDI2OSwgInR5cGUiOiAidmVydGV4IiwgInByb3BzIjogeyJjb2xvciI6IDY1MjgwfX0K');</script>\n",
       "    "
      ],
      "text/plain": [
       "<IPython.core.display.HTML object>"
      ]
     },
     "metadata": {},
     "output_type": "display_data"
    },
    {
     "data": {
      "text/html": [
       "\n",
       "        <div id=\"Lc9ddxSYTR3whD8Tdf96Ji\"></div>\n",
       "        <script>netpixi.call('Lc9ddxSYTR3whD8Tdf96Ji', 'BG6GNWMZUSpdkKQEjvjRxv', 'changeGraph', 'eyJpZCI6IDI3MCwgInR5cGUiOiAidmVydGV4IiwgInByb3BzIjogeyJjb2xvciI6IDE2NzExNjgwfX0K');</script>\n",
       "    "
      ],
      "text/plain": [
       "<IPython.core.display.HTML object>"
      ]
     },
     "metadata": {},
     "output_type": "display_data"
    },
    {
     "data": {
      "text/html": [
       "\n",
       "        <div id=\"bH2DW44jbNqZZFxdsJ3vSH\"></div>\n",
       "        <script>netpixi.call('bH2DW44jbNqZZFxdsJ3vSH', 'BG6GNWMZUSpdkKQEjvjRxv', 'changeGraph', 'eyJpZCI6IDI3MSwgInR5cGUiOiAidmVydGV4IiwgInByb3BzIjogeyJjb2xvciI6IDY1MjgwfX0K');</script>\n",
       "    "
      ],
      "text/plain": [
       "<IPython.core.display.HTML object>"
      ]
     },
     "metadata": {},
     "output_type": "display_data"
    },
    {
     "data": {
      "text/html": [
       "\n",
       "        <div id=\"24BSrKYgVfSXVeuApTaZVA\"></div>\n",
       "        <script>netpixi.call('24BSrKYgVfSXVeuApTaZVA', 'BG6GNWMZUSpdkKQEjvjRxv', 'changeGraph', 'eyJpZCI6IDI3MiwgInR5cGUiOiAidmVydGV4IiwgInByb3BzIjogeyJjb2xvciI6IDY1MjgwfX0K');</script>\n",
       "    "
      ],
      "text/plain": [
       "<IPython.core.display.HTML object>"
      ]
     },
     "metadata": {},
     "output_type": "display_data"
    },
    {
     "data": {
      "text/html": [
       "\n",
       "        <div id=\"VRaV4N7z2zMrnbrYqbNZSA\"></div>\n",
       "        <script>netpixi.call('VRaV4N7z2zMrnbrYqbNZSA', 'BG6GNWMZUSpdkKQEjvjRxv', 'changeGraph', 'eyJpZCI6IDI3MywgInR5cGUiOiAidmVydGV4IiwgInByb3BzIjogeyJjb2xvciI6IDY1MjgwfX0K');</script>\n",
       "    "
      ],
      "text/plain": [
       "<IPython.core.display.HTML object>"
      ]
     },
     "metadata": {},
     "output_type": "display_data"
    },
    {
     "data": {
      "text/html": [
       "\n",
       "        <div id=\"UMEjRhNVLz3b7e9ZQ8zxth\"></div>\n",
       "        <script>netpixi.call('UMEjRhNVLz3b7e9ZQ8zxth', 'BG6GNWMZUSpdkKQEjvjRxv', 'changeGraph', 'eyJpZCI6IDI3NCwgInR5cGUiOiAidmVydGV4IiwgInByb3BzIjogeyJjb2xvciI6IDE2NzExNjgwfX0K');</script>\n",
       "    "
      ],
      "text/plain": [
       "<IPython.core.display.HTML object>"
      ]
     },
     "metadata": {},
     "output_type": "display_data"
    },
    {
     "data": {
      "text/html": [
       "\n",
       "        <div id=\"MP7GFMUEyMNDwbtFjQRanA\"></div>\n",
       "        <script>netpixi.call('MP7GFMUEyMNDwbtFjQRanA', 'BG6GNWMZUSpdkKQEjvjRxv', 'changeGraph', 'eyJpZCI6IDI3NSwgInR5cGUiOiAidmVydGV4IiwgInByb3BzIjogeyJjb2xvciI6IDY1MjgwfX0K');</script>\n",
       "    "
      ],
      "text/plain": [
       "<IPython.core.display.HTML object>"
      ]
     },
     "metadata": {},
     "output_type": "display_data"
    },
    {
     "data": {
      "text/html": [
       "\n",
       "        <div id=\"bhA5eNZMhXZTKaoh3YNnb4\"></div>\n",
       "        <script>netpixi.call('bhA5eNZMhXZTKaoh3YNnb4', 'BG6GNWMZUSpdkKQEjvjRxv', 'changeGraph', 'eyJpZCI6IDI3NiwgInR5cGUiOiAidmVydGV4IiwgInByb3BzIjogeyJjb2xvciI6IDY1MjgwfX0K');</script>\n",
       "    "
      ],
      "text/plain": [
       "<IPython.core.display.HTML object>"
      ]
     },
     "metadata": {},
     "output_type": "display_data"
    },
    {
     "data": {
      "text/html": [
       "\n",
       "        <div id=\"MFNUtN3MdSxotJm4aK4rkB\"></div>\n",
       "        <script>netpixi.call('MFNUtN3MdSxotJm4aK4rkB', 'BG6GNWMZUSpdkKQEjvjRxv', 'changeGraph', 'eyJpZCI6IDI3NywgInR5cGUiOiAidmVydGV4IiwgInByb3BzIjogeyJjb2xvciI6IDE2NzExNjgwfX0K');</script>\n",
       "    "
      ],
      "text/plain": [
       "<IPython.core.display.HTML object>"
      ]
     },
     "metadata": {},
     "output_type": "display_data"
    },
    {
     "data": {
      "text/html": [
       "\n",
       "        <div id=\"N8ZFJibEFXw8THDbzHYLDN\"></div>\n",
       "        <script>netpixi.call('N8ZFJibEFXw8THDbzHYLDN', 'BG6GNWMZUSpdkKQEjvjRxv', 'changeGraph', 'eyJpZCI6IDI3OCwgInR5cGUiOiAidmVydGV4IiwgInByb3BzIjogeyJjb2xvciI6IDY1MjgwfX0K');</script>\n",
       "    "
      ],
      "text/plain": [
       "<IPython.core.display.HTML object>"
      ]
     },
     "metadata": {},
     "output_type": "display_data"
    },
    {
     "data": {
      "text/html": [
       "\n",
       "        <div id=\"5tUYWivSHJqFEx95w3c7en\"></div>\n",
       "        <script>netpixi.call('5tUYWivSHJqFEx95w3c7en', 'BG6GNWMZUSpdkKQEjvjRxv', 'changeGraph', 'eyJpZCI6IDI3OSwgInR5cGUiOiAidmVydGV4IiwgInByb3BzIjogeyJjb2xvciI6IDE2NzExNjgwfX0K');</script>\n",
       "    "
      ],
      "text/plain": [
       "<IPython.core.display.HTML object>"
      ]
     },
     "metadata": {},
     "output_type": "display_data"
    },
    {
     "data": {
      "text/html": [
       "\n",
       "        <div id=\"iFybZSJR3zE47cthG4Rhvh\"></div>\n",
       "        <script>netpixi.call('iFybZSJR3zE47cthG4Rhvh', 'BG6GNWMZUSpdkKQEjvjRxv', 'changeGraph', 'eyJpZCI6IDI4MCwgInR5cGUiOiAidmVydGV4IiwgInByb3BzIjogeyJjb2xvciI6IDE2NzExNjgwfX0K');</script>\n",
       "    "
      ],
      "text/plain": [
       "<IPython.core.display.HTML object>"
      ]
     },
     "metadata": {},
     "output_type": "display_data"
    },
    {
     "data": {
      "text/html": [
       "\n",
       "        <div id=\"RAbY6gjdH5iyswrpFdLENq\"></div>\n",
       "        <script>netpixi.call('RAbY6gjdH5iyswrpFdLENq', 'BG6GNWMZUSpdkKQEjvjRxv', 'changeGraph', 'eyJpZCI6IDI4MSwgInR5cGUiOiAidmVydGV4IiwgInByb3BzIjogeyJjb2xvciI6IDY1MjgwfX0K');</script>\n",
       "    "
      ],
      "text/plain": [
       "<IPython.core.display.HTML object>"
      ]
     },
     "metadata": {},
     "output_type": "display_data"
    },
    {
     "data": {
      "text/html": [
       "\n",
       "        <div id=\"hYBUvuQkLYZFX6TabCerN2\"></div>\n",
       "        <script>netpixi.call('hYBUvuQkLYZFX6TabCerN2', 'BG6GNWMZUSpdkKQEjvjRxv', 'changeGraph', 'eyJpZCI6IDI4MiwgInR5cGUiOiAidmVydGV4IiwgInByb3BzIjogeyJjb2xvciI6IDE2NzExNjgwfX0K');</script>\n",
       "    "
      ],
      "text/plain": [
       "<IPython.core.display.HTML object>"
      ]
     },
     "metadata": {},
     "output_type": "display_data"
    },
    {
     "data": {
      "text/html": [
       "\n",
       "        <div id=\"CaYKZVqm3hzDSQ73JRWG4G\"></div>\n",
       "        <script>netpixi.call('CaYKZVqm3hzDSQ73JRWG4G', 'BG6GNWMZUSpdkKQEjvjRxv', 'changeGraph', 'eyJpZCI6IDI4MywgInR5cGUiOiAidmVydGV4IiwgInByb3BzIjogeyJjb2xvciI6IDY1MjgwfX0K');</script>\n",
       "    "
      ],
      "text/plain": [
       "<IPython.core.display.HTML object>"
      ]
     },
     "metadata": {},
     "output_type": "display_data"
    },
    {
     "data": {
      "text/html": [
       "\n",
       "        <div id=\"iDoBSoQJTDYyfsBSpBwBsa\"></div>\n",
       "        <script>netpixi.call('iDoBSoQJTDYyfsBSpBwBsa', 'BG6GNWMZUSpdkKQEjvjRxv', 'changeGraph', 'eyJpZCI6IDI4NCwgInR5cGUiOiAidmVydGV4IiwgInByb3BzIjogeyJjb2xvciI6IDY1MjgwfX0K');</script>\n",
       "    "
      ],
      "text/plain": [
       "<IPython.core.display.HTML object>"
      ]
     },
     "metadata": {},
     "output_type": "display_data"
    },
    {
     "data": {
      "text/html": [
       "\n",
       "        <div id=\"R6hMUX8EJChczQU498Ckf9\"></div>\n",
       "        <script>netpixi.call('R6hMUX8EJChczQU498Ckf9', 'BG6GNWMZUSpdkKQEjvjRxv', 'changeGraph', 'eyJpZCI6IDI4NSwgInR5cGUiOiAidmVydGV4IiwgInByb3BzIjogeyJjb2xvciI6IDY1MjgwfX0K');</script>\n",
       "    "
      ],
      "text/plain": [
       "<IPython.core.display.HTML object>"
      ]
     },
     "metadata": {},
     "output_type": "display_data"
    },
    {
     "data": {
      "text/html": [
       "\n",
       "        <div id=\"8xdXkGVSynztgPihdfy5og\"></div>\n",
       "        <script>netpixi.call('8xdXkGVSynztgPihdfy5og', 'BG6GNWMZUSpdkKQEjvjRxv', 'changeGraph', 'eyJpZCI6IDI4NiwgInR5cGUiOiAidmVydGV4IiwgInByb3BzIjogeyJjb2xvciI6IDE2NzExNjgwfX0K');</script>\n",
       "    "
      ],
      "text/plain": [
       "<IPython.core.display.HTML object>"
      ]
     },
     "metadata": {},
     "output_type": "display_data"
    },
    {
     "data": {
      "text/html": [
       "\n",
       "        <div id=\"j6PNcZrYZzWaC3US7xJRiq\"></div>\n",
       "        <script>netpixi.call('j6PNcZrYZzWaC3US7xJRiq', 'BG6GNWMZUSpdkKQEjvjRxv', 'changeGraph', 'eyJpZCI6IDI4NywgInR5cGUiOiAidmVydGV4IiwgInByb3BzIjogeyJjb2xvciI6IDY1MjgwfX0K');</script>\n",
       "    "
      ],
      "text/plain": [
       "<IPython.core.display.HTML object>"
      ]
     },
     "metadata": {},
     "output_type": "display_data"
    },
    {
     "data": {
      "text/html": [
       "\n",
       "        <div id=\"Cz5dtiAb9EBj5VfrQPHVvq\"></div>\n",
       "        <script>netpixi.call('Cz5dtiAb9EBj5VfrQPHVvq', 'BG6GNWMZUSpdkKQEjvjRxv', 'changeGraph', 'eyJpZCI6IDI4OCwgInR5cGUiOiAidmVydGV4IiwgInByb3BzIjogeyJjb2xvciI6IDY1MjgwfX0K');</script>\n",
       "    "
      ],
      "text/plain": [
       "<IPython.core.display.HTML object>"
      ]
     },
     "metadata": {},
     "output_type": "display_data"
    },
    {
     "data": {
      "text/html": [
       "\n",
       "        <div id=\"ULvSYTfUeW2x4o35oXiMjV\"></div>\n",
       "        <script>netpixi.call('ULvSYTfUeW2x4o35oXiMjV', 'BG6GNWMZUSpdkKQEjvjRxv', 'changeGraph', 'eyJpZCI6IDI4OSwgInR5cGUiOiAidmVydGV4IiwgInByb3BzIjogeyJjb2xvciI6IDE2NzExNjgwfX0K');</script>\n",
       "    "
      ],
      "text/plain": [
       "<IPython.core.display.HTML object>"
      ]
     },
     "metadata": {},
     "output_type": "display_data"
    },
    {
     "data": {
      "text/html": [
       "\n",
       "        <div id=\"iKE5qDX6qhW86KfUV2XeCb\"></div>\n",
       "        <script>netpixi.call('iKE5qDX6qhW86KfUV2XeCb', 'BG6GNWMZUSpdkKQEjvjRxv', 'changeGraph', 'eyJpZCI6IDI5MCwgInR5cGUiOiAidmVydGV4IiwgInByb3BzIjogeyJjb2xvciI6IDY1MjgwfX0K');</script>\n",
       "    "
      ],
      "text/plain": [
       "<IPython.core.display.HTML object>"
      ]
     },
     "metadata": {},
     "output_type": "display_data"
    },
    {
     "data": {
      "text/html": [
       "\n",
       "        <div id=\"LhySyREgFfyC2LLsRp4sc5\"></div>\n",
       "        <script>netpixi.call('LhySyREgFfyC2LLsRp4sc5', 'BG6GNWMZUSpdkKQEjvjRxv', 'changeGraph', 'eyJpZCI6IDI5MSwgInR5cGUiOiAidmVydGV4IiwgInByb3BzIjogeyJjb2xvciI6IDE2NzExNjgwfX0K');</script>\n",
       "    "
      ],
      "text/plain": [
       "<IPython.core.display.HTML object>"
      ]
     },
     "metadata": {},
     "output_type": "display_data"
    },
    {
     "data": {
      "text/html": [
       "\n",
       "        <div id=\"XZ7ik6YwooXhqw6wsHeWVk\"></div>\n",
       "        <script>netpixi.call('XZ7ik6YwooXhqw6wsHeWVk', 'BG6GNWMZUSpdkKQEjvjRxv', 'changeGraph', 'eyJpZCI6IDI5MiwgInR5cGUiOiAidmVydGV4IiwgInByb3BzIjogeyJjb2xvciI6IDE2NzExNjgwfX0K');</script>\n",
       "    "
      ],
      "text/plain": [
       "<IPython.core.display.HTML object>"
      ]
     },
     "metadata": {},
     "output_type": "display_data"
    },
    {
     "data": {
      "text/html": [
       "\n",
       "        <div id=\"Rreww4Te3URVS2Bpwdkpau\"></div>\n",
       "        <script>netpixi.call('Rreww4Te3URVS2Bpwdkpau', 'BG6GNWMZUSpdkKQEjvjRxv', 'changeGraph', 'eyJpZCI6IDI5MywgInR5cGUiOiAidmVydGV4IiwgInByb3BzIjogeyJjb2xvciI6IDE2NzExNjgwfX0K');</script>\n",
       "    "
      ],
      "text/plain": [
       "<IPython.core.display.HTML object>"
      ]
     },
     "metadata": {},
     "output_type": "display_data"
    },
    {
     "data": {
      "text/html": [
       "\n",
       "        <div id=\"H2nqY4M9khu79GnUZFwxWj\"></div>\n",
       "        <script>netpixi.call('H2nqY4M9khu79GnUZFwxWj', 'BG6GNWMZUSpdkKQEjvjRxv', 'changeGraph', 'eyJpZCI6IDI5NCwgInR5cGUiOiAidmVydGV4IiwgInByb3BzIjogeyJjb2xvciI6IDY1MjgwfX0K');</script>\n",
       "    "
      ],
      "text/plain": [
       "<IPython.core.display.HTML object>"
      ]
     },
     "metadata": {},
     "output_type": "display_data"
    },
    {
     "data": {
      "text/html": [
       "\n",
       "        <div id=\"LihYsFzbGFF5YdUSTpN94Z\"></div>\n",
       "        <script>netpixi.call('LihYsFzbGFF5YdUSTpN94Z', 'BG6GNWMZUSpdkKQEjvjRxv', 'changeGraph', 'eyJpZCI6IDI5NSwgInR5cGUiOiAidmVydGV4IiwgInByb3BzIjogeyJjb2xvciI6IDY1MjgwfX0K');</script>\n",
       "    "
      ],
      "text/plain": [
       "<IPython.core.display.HTML object>"
      ]
     },
     "metadata": {},
     "output_type": "display_data"
    },
    {
     "data": {
      "text/html": [
       "\n",
       "        <div id=\"emVSJRXJ53DHJnkqFaWTcg\"></div>\n",
       "        <script>netpixi.call('emVSJRXJ53DHJnkqFaWTcg', 'BG6GNWMZUSpdkKQEjvjRxv', 'changeGraph', 'eyJpZCI6IDI5NiwgInR5cGUiOiAidmVydGV4IiwgInByb3BzIjogeyJjb2xvciI6IDE2NzExNjgwfX0K');</script>\n",
       "    "
      ],
      "text/plain": [
       "<IPython.core.display.HTML object>"
      ]
     },
     "metadata": {},
     "output_type": "display_data"
    },
    {
     "data": {
      "text/html": [
       "\n",
       "        <div id=\"9gWYafxFkkq7a8VeLKDeZm\"></div>\n",
       "        <script>netpixi.call('9gWYafxFkkq7a8VeLKDeZm', 'BG6GNWMZUSpdkKQEjvjRxv', 'changeGraph', 'eyJpZCI6IDI5NywgInR5cGUiOiAidmVydGV4IiwgInByb3BzIjogeyJjb2xvciI6IDY1MjgwfX0K');</script>\n",
       "    "
      ],
      "text/plain": [
       "<IPython.core.display.HTML object>"
      ]
     },
     "metadata": {},
     "output_type": "display_data"
    },
    {
     "data": {
      "text/html": [
       "\n",
       "        <div id=\"LGP8RmsNKEUasXHXpZcPVg\"></div>\n",
       "        <script>netpixi.call('LGP8RmsNKEUasXHXpZcPVg', 'BG6GNWMZUSpdkKQEjvjRxv', 'changeGraph', 'eyJpZCI6IDI5OCwgInR5cGUiOiAidmVydGV4IiwgInByb3BzIjogeyJjb2xvciI6IDY1MjgwfX0K');</script>\n",
       "    "
      ],
      "text/plain": [
       "<IPython.core.display.HTML object>"
      ]
     },
     "metadata": {},
     "output_type": "display_data"
    },
    {
     "data": {
      "text/html": [
       "\n",
       "        <div id=\"j9R4wvDhx9UUwdokU2JQT6\"></div>\n",
       "        <script>netpixi.call('j9R4wvDhx9UUwdokU2JQT6', 'BG6GNWMZUSpdkKQEjvjRxv', 'changeGraph', 'eyJpZCI6IDAsICJ0eXBlIjogInZlcnRleCIsICJwcm9wcyI6IHsic2l6ZSI6IDEzLjg0OTM3MjM4NDkzNzIzOH19Cg==');</script>\n",
       "    "
      ],
      "text/plain": [
       "<IPython.core.display.HTML object>"
      ]
     },
     "metadata": {},
     "output_type": "display_data"
    },
    {
     "data": {
      "text/html": [
       "\n",
       "        <div id=\"i2wjy3iq3W3gddvdPdgP6C\"></div>\n",
       "        <script>netpixi.call('i2wjy3iq3W3gddvdPdgP6C', 'BG6GNWMZUSpdkKQEjvjRxv', 'changeGraph', 'eyJpZCI6IDg3LCAidHlwZSI6ICJ2ZXJ0ZXgiLCAicHJvcHMiOiB7ImNvbG9yIjogMTY3MTE2ODB9fQo=');</script>\n",
       "    "
      ],
      "text/plain": [
       "<IPython.core.display.HTML object>"
      ]
     },
     "metadata": {},
     "output_type": "display_data"
    },
    {
     "data": {
      "text/html": [
       "\n",
       "        <div id=\"GAxgcmfvxPU8jVWTSjZuKB\"></div>\n",
       "        <script>netpixi.call('GAxgcmfvxPU8jVWTSjZuKB', 'BG6GNWMZUSpdkKQEjvjRxv', 'changeGraph', 'eyJpZCI6IDEsICJ0eXBlIjogInZlcnRleCIsICJwcm9wcyI6IHsic2l6ZSI6IDExLjI1NTIzMDEyNTUyMzAxM319Cg==');</script>\n",
       "    "
      ],
      "text/plain": [
       "<IPython.core.display.HTML object>"
      ]
     },
     "metadata": {},
     "output_type": "display_data"
    },
    {
     "data": {
      "text/html": [
       "\n",
       "        <div id=\"krFx6BLZLx2unHigSR7ukP\"></div>\n",
       "        <script>netpixi.call('krFx6BLZLx2unHigSR7ukP', 'BG6GNWMZUSpdkKQEjvjRxv', 'changeGraph', 'eyJpZCI6IDczLCAidHlwZSI6ICJ2ZXJ0ZXgiLCAicHJvcHMiOiB7ImNvbG9yIjogMTY3MTE2ODB9fQo=');</script>\n",
       "    "
      ],
      "text/plain": [
       "<IPython.core.display.HTML object>"
      ]
     },
     "metadata": {},
     "output_type": "display_data"
    },
    {
     "data": {
      "text/html": [
       "\n",
       "        <div id=\"RGR3sqphkBfCSmgqjF27MP\"></div>\n",
       "        <script>netpixi.call('RGR3sqphkBfCSmgqjF27MP', 'BG6GNWMZUSpdkKQEjvjRxv', 'changeGraph', 'eyJpZCI6IDIsICJ0eXBlIjogInZlcnRleCIsICJwcm9wcyI6IHsic2l6ZSI6IDEyLjg4NzAyOTI4ODcwMjkyOH19Cg==');</script>\n",
       "    "
      ],
      "text/plain": [
       "<IPython.core.display.HTML object>"
      ]
     },
     "metadata": {},
     "output_type": "display_data"
    },
    {
     "data": {
      "text/html": [
       "\n",
       "        <div id=\"2FRvASBa9fLevf5Lv9MMvQ\"></div>\n",
       "        <script>netpixi.call('2FRvASBa9fLevf5Lv9MMvQ', 'BG6GNWMZUSpdkKQEjvjRxv', 'changeGraph', 'eyJpZCI6IDg3LCAidHlwZSI6ICJ2ZXJ0ZXgiLCAicHJvcHMiOiB7ImNvbG9yIjogMTY3MTE2ODB9fQo=');</script>\n",
       "    "
      ],
      "text/plain": [
       "<IPython.core.display.HTML object>"
      ]
     },
     "metadata": {},
     "output_type": "display_data"
    },
    {
     "data": {
      "text/html": [
       "\n",
       "        <div id=\"6wWFLAcsbmA5PLHS4b29ng\"></div>\n",
       "        <script>netpixi.call('6wWFLAcsbmA5PLHS4b29ng', 'BG6GNWMZUSpdkKQEjvjRxv', 'changeGraph', 'eyJpZCI6IDMsICJ0eXBlIjogInZlcnRleCIsICJwcm9wcyI6IHsic2l6ZSI6IDEzLjgwNzUzMTM4MDc1MzEzOH19Cg==');</script>\n",
       "    "
      ],
      "text/plain": [
       "<IPython.core.display.HTML object>"
      ]
     },
     "metadata": {},
     "output_type": "display_data"
    },
    {
     "data": {
      "text/html": [
       "\n",
       "        <div id=\"58Bgn8KxVJQ7VU7wEDGeEh\"></div>\n",
       "        <script>netpixi.call('58Bgn8KxVJQ7VU7wEDGeEh', 'BG6GNWMZUSpdkKQEjvjRxv', 'changeGraph', 'eyJpZCI6IDc2LCAidHlwZSI6ICJ2ZXJ0ZXgiLCAicHJvcHMiOiB7ImNvbG9yIjogMTY3MTE2ODB9fQo=');</script>\n",
       "    "
      ],
      "text/plain": [
       "<IPython.core.display.HTML object>"
      ]
     },
     "metadata": {},
     "output_type": "display_data"
    },
    {
     "data": {
      "text/html": [
       "\n",
       "        <div id=\"HKdDszy2DapjrQmZVfLng8\"></div>\n",
       "        <script>netpixi.call('HKdDszy2DapjrQmZVfLng8', 'BG6GNWMZUSpdkKQEjvjRxv', 'changeGraph', 'eyJpZCI6IDQsICJ0eXBlIjogInZlcnRleCIsICJwcm9wcyI6IHsic2l6ZSI6IDQyLjY2NjY2NjY2NjY2NjY2NH19Cg==');</script>\n",
       "    "
      ],
      "text/plain": [
       "<IPython.core.display.HTML object>"
      ]
     },
     "metadata": {},
     "output_type": "display_data"
    },
    {
     "data": {
      "text/html": [
       "\n",
       "        <div id=\"gzG8ZUPusgnZEbYuvzvaUR\"></div>\n",
       "        <script>netpixi.call('gzG8ZUPusgnZEbYuvzvaUR', 'BG6GNWMZUSpdkKQEjvjRxv', 'changeGraph', 'eyJpZCI6IDY3LCAidHlwZSI6ICJ2ZXJ0ZXgiLCAicHJvcHMiOiB7ImNvbG9yIjogMTY3MTE2ODB9fQo=');</script>\n",
       "    "
      ],
      "text/plain": [
       "<IPython.core.display.HTML object>"
      ]
     },
     "metadata": {},
     "output_type": "display_data"
    },
    {
     "data": {
      "text/html": [
       "\n",
       "        <div id=\"5sjJST87WbyH4ZUbuzN9qa\"></div>\n",
       "        <script>netpixi.call('5sjJST87WbyH4ZUbuzN9qa', 'BG6GNWMZUSpdkKQEjvjRxv', 'changeGraph', 'eyJpZCI6IDUsICJ0eXBlIjogInZlcnRleCIsICJwcm9wcyI6IHsic2l6ZSI6IDEyLjAwODM2ODIwMDgzNjgyfX0K');</script>\n",
       "    "
      ],
      "text/plain": [
       "<IPython.core.display.HTML object>"
      ]
     },
     "metadata": {},
     "output_type": "display_data"
    },
    {
     "data": {
      "text/html": [
       "\n",
       "        <div id=\"dhNwiwpb3GHnwikVLtD4Tf\"></div>\n",
       "        <script>netpixi.call('dhNwiwpb3GHnwikVLtD4Tf', 'BG6GNWMZUSpdkKQEjvjRxv', 'changeGraph', 'eyJpZCI6IDcxLCAidHlwZSI6ICJ2ZXJ0ZXgiLCAicHJvcHMiOiB7ImNvbG9yIjogMTY3MTE2ODB9fQo=');</script>\n",
       "    "
      ],
      "text/plain": [
       "<IPython.core.display.HTML object>"
      ]
     },
     "metadata": {},
     "output_type": "display_data"
    },
    {
     "data": {
      "text/html": [
       "\n",
       "        <div id=\"4VjtJTymu56JMdXXEsZj3K\"></div>\n",
       "        <script>netpixi.call('4VjtJTymu56JMdXXEsZj3K', 'BG6GNWMZUSpdkKQEjvjRxv', 'changeGraph', 'eyJpZCI6IDYsICJ0eXBlIjogInZlcnRleCIsICJwcm9wcyI6IHsic2l6ZSI6IDE1LjI3MTk2NjUyNzE5NjY1Mn19Cg==');</script>\n",
       "    "
      ],
      "text/plain": [
       "<IPython.core.display.HTML object>"
      ]
     },
     "metadata": {},
     "output_type": "display_data"
    },
    {
     "data": {
      "text/html": [
       "\n",
       "        <div id=\"czAmxLoG34XUB4vBBNX7ja\"></div>\n",
       "        <script>netpixi.call('czAmxLoG34XUB4vBBNX7ja', 'BG6GNWMZUSpdkKQEjvjRxv', 'changeGraph', 'eyJpZCI6IDg3LCAidHlwZSI6ICJ2ZXJ0ZXgiLCAicHJvcHMiOiB7ImNvbG9yIjogMTY3MTE2ODB9fQo=');</script>\n",
       "    "
      ],
      "text/plain": [
       "<IPython.core.display.HTML object>"
      ]
     },
     "metadata": {},
     "output_type": "display_data"
    },
    {
     "data": {
      "text/html": [
       "\n",
       "        <div id=\"m7dXgWwFoyKmDgzAcfLh2J\"></div>\n",
       "        <script>netpixi.call('m7dXgWwFoyKmDgzAcfLh2J', 'BG6GNWMZUSpdkKQEjvjRxv', 'changeGraph', 'eyJpZCI6IDcsICJ0eXBlIjogInZlcnRleCIsICJwcm9wcyI6IHsic2l6ZSI6IDE5LjEyMTMzODkxMjEzMzg5fX0K');</script>\n",
       "    "
      ],
      "text/plain": [
       "<IPython.core.display.HTML object>"
      ]
     },
     "metadata": {},
     "output_type": "display_data"
    },
    {
     "data": {
      "text/html": [
       "\n",
       "        <div id=\"cAStEpZKKnqRCmqrLd9xQz\"></div>\n",
       "        <script>netpixi.call('cAStEpZKKnqRCmqrLd9xQz', 'BG6GNWMZUSpdkKQEjvjRxv', 'changeGraph', 'eyJpZCI6IDcwLCAidHlwZSI6ICJ2ZXJ0ZXgiLCAicHJvcHMiOiB7ImNvbG9yIjogMTY3MTE2ODB9fQo=');</script>\n",
       "    "
      ],
      "text/plain": [
       "<IPython.core.display.HTML object>"
      ]
     },
     "metadata": {},
     "output_type": "display_data"
    },
    {
     "data": {
      "text/html": [
       "\n",
       "        <div id=\"jaYekG3rcT4T7MJCpeLLvK\"></div>\n",
       "        <script>netpixi.call('jaYekG3rcT4T7MJCpeLLvK', 'BG6GNWMZUSpdkKQEjvjRxv', 'changeGraph', 'eyJpZCI6IDgsICJ0eXBlIjogInZlcnRleCIsICJwcm9wcyI6IHsic2l6ZSI6IDE0LjEwMDQxODQxMDA0MTg0fX0K');</script>\n",
       "    "
      ],
      "text/plain": [
       "<IPython.core.display.HTML object>"
      ]
     },
     "metadata": {},
     "output_type": "display_data"
    },
    {
     "data": {
      "text/html": [
       "\n",
       "        <div id=\"bDVvx2PrdzTeuDpgnLk7tG\"></div>\n",
       "        <script>netpixi.call('bDVvx2PrdzTeuDpgnLk7tG', 'BG6GNWMZUSpdkKQEjvjRxv', 'changeGraph', 'eyJpZCI6IDc1LCAidHlwZSI6ICJ2ZXJ0ZXgiLCAicHJvcHMiOiB7ImNvbG9yIjogMTY3MTE2ODB9fQo=');</script>\n",
       "    "
      ],
      "text/plain": [
       "<IPython.core.display.HTML object>"
      ]
     },
     "metadata": {},
     "output_type": "display_data"
    },
    {
     "data": {
      "text/html": [
       "\n",
       "        <div id=\"HSA3fWsBEyUo8KMpRySYiP\"></div>\n",
       "        <script>netpixi.call('HSA3fWsBEyUo8KMpRySYiP', 'BG6GNWMZUSpdkKQEjvjRxv', 'changeGraph', 'eyJpZCI6IDksICJ0eXBlIjogInZlcnRleCIsICJwcm9wcyI6IHsic2l6ZSI6IDE2LjE1MDYyNzYxNTA2Mjc2fX0K');</script>\n",
       "    "
      ],
      "text/plain": [
       "<IPython.core.display.HTML object>"
      ]
     },
     "metadata": {},
     "output_type": "display_data"
    },
    {
     "data": {
      "text/html": [
       "\n",
       "        <div id=\"Y3amjTXsXJzUCw7626bNHn\"></div>\n",
       "        <script>netpixi.call('Y3amjTXsXJzUCw7626bNHn', 'BG6GNWMZUSpdkKQEjvjRxv', 'changeGraph', 'eyJpZCI6IDY1LCAidHlwZSI6ICJ2ZXJ0ZXgiLCAicHJvcHMiOiB7ImNvbG9yIjogMTY3MTE2ODB9fQo=');</script>\n",
       "    "
      ],
      "text/plain": [
       "<IPython.core.display.HTML object>"
      ]
     },
     "metadata": {},
     "output_type": "display_data"
    },
    {
     "data": {
      "text/html": [
       "\n",
       "        <div id=\"as7jEsnTwfHaCTGtvAh2bY\"></div>\n",
       "        <script>netpixi.call('as7jEsnTwfHaCTGtvAh2bY', 'BG6GNWMZUSpdkKQEjvjRxv', 'changeGraph', 'eyJpZCI6IDEwLCAidHlwZSI6ICJ2ZXJ0ZXgiLCAicHJvcHMiOiB7InNpemUiOiAxMy4wOTYyMzQzMDk2MjM0M319Cg==');</script>\n",
       "    "
      ],
      "text/plain": [
       "<IPython.core.display.HTML object>"
      ]
     },
     "metadata": {},
     "output_type": "display_data"
    },
    {
     "data": {
      "text/html": [
       "\n",
       "        <div id=\"JNJ94znotZqHhYjPsuwYhm\"></div>\n",
       "        <script>netpixi.call('JNJ94znotZqHhYjPsuwYhm', 'BG6GNWMZUSpdkKQEjvjRxv', 'changeGraph', 'eyJpZCI6IDgyLCAidHlwZSI6ICJ2ZXJ0ZXgiLCAicHJvcHMiOiB7ImNvbG9yIjogMTY3MTE2ODB9fQo=');</script>\n",
       "    "
      ],
      "text/plain": [
       "<IPython.core.display.HTML object>"
      ]
     },
     "metadata": {},
     "output_type": "display_data"
    },
    {
     "data": {
      "text/html": [
       "\n",
       "        <div id=\"SyRCVByvPut4ppyBTvvZzy\"></div>\n",
       "        <script>netpixi.call('SyRCVByvPut4ppyBTvvZzy', 'BG6GNWMZUSpdkKQEjvjRxv', 'changeGraph', 'eyJpZCI6IDExLCAidHlwZSI6ICJ2ZXJ0ZXgiLCAicHJvcHMiOiB7InNpemUiOiAxNC41MTg4Mjg0NTE4ODI4NDV9fQo=');</script>\n",
       "    "
      ],
      "text/plain": [
       "<IPython.core.display.HTML object>"
      ]
     },
     "metadata": {},
     "output_type": "display_data"
    },
    {
     "data": {
      "text/html": [
       "\n",
       "        <div id=\"aAJxzgN8yLV9hjHvcwzduV\"></div>\n",
       "        <script>netpixi.call('aAJxzgN8yLV9hjHvcwzduV', 'BG6GNWMZUSpdkKQEjvjRxv', 'changeGraph', 'eyJpZCI6IDY0LCAidHlwZSI6ICJ2ZXJ0ZXgiLCAicHJvcHMiOiB7ImNvbG9yIjogMTY3MTE2ODB9fQo=');</script>\n",
       "    "
      ],
      "text/plain": [
       "<IPython.core.display.HTML object>"
      ]
     },
     "metadata": {},
     "output_type": "display_data"
    },
    {
     "data": {
      "text/html": [
       "\n",
       "        <div id=\"czF9X9mpK6vWPFbeHV3o5N\"></div>\n",
       "        <script>netpixi.call('czF9X9mpK6vWPFbeHV3o5N', 'BG6GNWMZUSpdkKQEjvjRxv', 'changeGraph', 'eyJpZCI6IDEyLCAidHlwZSI6ICJ2ZXJ0ZXgiLCAicHJvcHMiOiB7InNpemUiOiAxOC4wMzM0NzI4MDMzNDcyOH19Cg==');</script>\n",
       "    "
      ],
      "text/plain": [
       "<IPython.core.display.HTML object>"
      ]
     },
     "metadata": {},
     "output_type": "display_data"
    },
    {
     "data": {
      "text/html": [
       "\n",
       "        <div id=\"guDKF2SzxjLB2nB9VngNxz\"></div>\n",
       "        <script>netpixi.call('guDKF2SzxjLB2nB9VngNxz', 'BG6GNWMZUSpdkKQEjvjRxv', 'changeGraph', 'eyJpZCI6IDgzLCAidHlwZSI6ICJ2ZXJ0ZXgiLCAicHJvcHMiOiB7ImNvbG9yIjogMTY3MTE2ODB9fQo=');</script>\n",
       "    "
      ],
      "text/plain": [
       "<IPython.core.display.HTML object>"
      ]
     },
     "metadata": {},
     "output_type": "display_data"
    },
    {
     "data": {
      "text/html": [
       "\n",
       "        <div id=\"mizub937kXh6beR6icRPmF\"></div>\n",
       "        <script>netpixi.call('mizub937kXh6beR6icRPmF', 'BG6GNWMZUSpdkKQEjvjRxv', 'changeGraph', 'eyJpZCI6IDEzLCAidHlwZSI6ICJ2ZXJ0ZXgiLCAicHJvcHMiOiB7InNpemUiOiA0Ni41fX0K');</script>\n",
       "    "
      ],
      "text/plain": [
       "<IPython.core.display.HTML object>"
      ]
     },
     "metadata": {},
     "output_type": "display_data"
    },
    {
     "data": {
      "text/html": [
       "\n",
       "        <div id=\"oXGavLPsQD6iUFqyurwq6D\"></div>\n",
       "        <script>netpixi.call('oXGavLPsQD6iUFqyurwq6D', 'BG6GNWMZUSpdkKQEjvjRxv', 'changeGraph', 'eyJpZCI6IDc0LCAidHlwZSI6ICJ2ZXJ0ZXgiLCAicHJvcHMiOiB7ImNvbG9yIjogMTY3MTE2ODB9fQo=');</script>\n",
       "    "
      ],
      "text/plain": [
       "<IPython.core.display.HTML object>"
      ]
     },
     "metadata": {},
     "output_type": "display_data"
    },
    {
     "data": {
      "text/html": [
       "\n",
       "        <div id=\"BBX7g5XYCC5ALGPX5UMp54\"></div>\n",
       "        <script>netpixi.call('BBX7g5XYCC5ALGPX5UMp54', 'BG6GNWMZUSpdkKQEjvjRxv', 'changeGraph', 'eyJpZCI6IDE0LCAidHlwZSI6ICJ2ZXJ0ZXgiLCAicHJvcHMiOiB7InNpemUiOiAxNC43Njk4NzQ0NzY5ODc0NDd9fQo=');</script>\n",
       "    "
      ],
      "text/plain": [
       "<IPython.core.display.HTML object>"
      ]
     },
     "metadata": {},
     "output_type": "display_data"
    },
    {
     "data": {
      "text/html": [
       "\n",
       "        <div id=\"4Z4fwPxq9vJCBDmR4w7Pfy\"></div>\n",
       "        <script>netpixi.call('4Z4fwPxq9vJCBDmR4w7Pfy', 'BG6GNWMZUSpdkKQEjvjRxv', 'changeGraph', 'eyJpZCI6IDUyLCAidHlwZSI6ICJ2ZXJ0ZXgiLCAicHJvcHMiOiB7ImNvbG9yIjogMTY3MTE2ODB9fQo=');</script>\n",
       "    "
      ],
      "text/plain": [
       "<IPython.core.display.HTML object>"
      ]
     },
     "metadata": {},
     "output_type": "display_data"
    },
    {
     "data": {
      "text/html": [
       "\n",
       "        <div id=\"cU3pnPpoTqtYFSMk4kGfZP\"></div>\n",
       "        <script>netpixi.call('cU3pnPpoTqtYFSMk4kGfZP', 'BG6GNWMZUSpdkKQEjvjRxv', 'changeGraph', 'eyJpZCI6IDE1LCAidHlwZSI6ICJ2ZXJ0ZXgiLCAicHJvcHMiOiB7InNpemUiOiAxMi4zMDEyNTUyMzAxMjU1MjN9fQo=');</script>\n",
       "    "
      ],
      "text/plain": [
       "<IPython.core.display.HTML object>"
      ]
     },
     "metadata": {},
     "output_type": "display_data"
    },
    {
     "data": {
      "text/html": [
       "\n",
       "        <div id=\"baRfkTgkH4NzK2hdMyTE57\"></div>\n",
       "        <script>netpixi.call('baRfkTgkH4NzK2hdMyTE57', 'BG6GNWMZUSpdkKQEjvjRxv', 'changeGraph', 'eyJpZCI6IDg0LCAidHlwZSI6ICJ2ZXJ0ZXgiLCAicHJvcHMiOiB7ImNvbG9yIjogMTY3MTE2ODB9fQo=');</script>\n",
       "    "
      ],
      "text/plain": [
       "<IPython.core.display.HTML object>"
      ]
     },
     "metadata": {},
     "output_type": "display_data"
    },
    {
     "data": {
      "text/html": [
       "\n",
       "        <div id=\"crazAtyWibLK9NJb7sBfo8\"></div>\n",
       "        <script>netpixi.call('crazAtyWibLK9NJb7sBfo8', 'BG6GNWMZUSpdkKQEjvjRxv', 'changeGraph', 'eyJpZCI6IDE2LCAidHlwZSI6ICJ2ZXJ0ZXgiLCAicHJvcHMiOiB7InNpemUiOiAxOC43NDQ3Njk4NzQ0NzY5ODd9fQo=');</script>\n",
       "    "
      ],
      "text/plain": [
       "<IPython.core.display.HTML object>"
      ]
     },
     "metadata": {},
     "output_type": "display_data"
    },
    {
     "data": {
      "text/html": [
       "\n",
       "        <div id=\"CkXtrpBe7dBzpmZp7279Uz\"></div>\n",
       "        <script>netpixi.call('CkXtrpBe7dBzpmZp7279Uz', 'BG6GNWMZUSpdkKQEjvjRxv', 'changeGraph', 'eyJpZCI6IDg5LCAidHlwZSI6ICJ2ZXJ0ZXgiLCAicHJvcHMiOiB7ImNvbG9yIjogMTY3MTE2ODB9fQo=');</script>\n",
       "    "
      ],
      "text/plain": [
       "<IPython.core.display.HTML object>"
      ]
     },
     "metadata": {},
     "output_type": "display_data"
    },
    {
     "data": {
      "text/html": [
       "\n",
       "        <div id=\"6nsGLr6c3QRUhJSp7L9UJg\"></div>\n",
       "        <script>netpixi.call('6nsGLr6c3QRUhJSp7L9UJg', 'BG6GNWMZUSpdkKQEjvjRxv', 'changeGraph', 'eyJpZCI6IDE3LCAidHlwZSI6ICJ2ZXJ0ZXgiLCAicHJvcHMiOiB7InNpemUiOiAxMS4zMzg5MTIxMzM4OTEyMTN9fQo=');</script>\n",
       "    "
      ],
      "text/plain": [
       "<IPython.core.display.HTML object>"
      ]
     },
     "metadata": {},
     "output_type": "display_data"
    },
    {
     "data": {
      "text/html": [
       "\n",
       "        <div id=\"AMinrwsWRAK9zx6BezZynu\"></div>\n",
       "        <script>netpixi.call('AMinrwsWRAK9zx6BezZynu', 'BG6GNWMZUSpdkKQEjvjRxv', 'changeGraph', 'eyJpZCI6IDgzLCAidHlwZSI6ICJ2ZXJ0ZXgiLCAicHJvcHMiOiB7ImNvbG9yIjogMTY3MTE2ODB9fQo=');</script>\n",
       "    "
      ],
      "text/plain": [
       "<IPython.core.display.HTML object>"
      ]
     },
     "metadata": {},
     "output_type": "display_data"
    },
    {
     "data": {
      "text/html": [
       "\n",
       "        <div id=\"NBoPMPDYvVS2NqpoQhNzZk\"></div>\n",
       "        <script>netpixi.call('NBoPMPDYvVS2NqpoQhNzZk', 'BG6GNWMZUSpdkKQEjvjRxv', 'changeGraph', 'eyJpZCI6IDE4LCAidHlwZSI6ICJ2ZXJ0ZXgiLCAicHJvcHMiOiB7InNpemUiOiA0NC4wfX0K');</script>\n",
       "    "
      ],
      "text/plain": [
       "<IPython.core.display.HTML object>"
      ]
     },
     "metadata": {},
     "output_type": "display_data"
    },
    {
     "data": {
      "text/html": [
       "\n",
       "        <div id=\"evGh8hx5Z7yBDGKwnyicXA\"></div>\n",
       "        <script>netpixi.call('evGh8hx5Z7yBDGKwnyicXA', 'BG6GNWMZUSpdkKQEjvjRxv', 'changeGraph', 'eyJpZCI6IDcyLCAidHlwZSI6ICJ2ZXJ0ZXgiLCAicHJvcHMiOiB7ImNvbG9yIjogMTY3MTE2ODB9fQo=');</script>\n",
       "    "
      ],
      "text/plain": [
       "<IPython.core.display.HTML object>"
      ]
     },
     "metadata": {},
     "output_type": "display_data"
    },
    {
     "data": {
      "text/html": [
       "\n",
       "        <div id=\"VhD5YM6hDxSckv65GeBu5V\"></div>\n",
       "        <script>netpixi.call('VhD5YM6hDxSckv65GeBu5V', 'BG6GNWMZUSpdkKQEjvjRxv', 'changeGraph', 'eyJpZCI6IDE5LCAidHlwZSI6ICJ2ZXJ0ZXgiLCAicHJvcHMiOiB7InNpemUiOiAxNy40MDU4NTc3NDA1ODU3NzN9fQo=');</script>\n",
       "    "
      ],
      "text/plain": [
       "<IPython.core.display.HTML object>"
      ]
     },
     "metadata": {},
     "output_type": "display_data"
    },
    {
     "data": {
      "text/html": [
       "\n",
       "        <div id=\"BVVweUnei4RCTgepBWkkhn\"></div>\n",
       "        <script>netpixi.call('BVVweUnei4RCTgepBWkkhn', 'BG6GNWMZUSpdkKQEjvjRxv', 'changeGraph', 'eyJpZCI6IDY2LCAidHlwZSI6ICJ2ZXJ0ZXgiLCAicHJvcHMiOiB7ImNvbG9yIjogMTY3MTE2ODB9fQo=');</script>\n",
       "    "
      ],
      "text/plain": [
       "<IPython.core.display.HTML object>"
      ]
     },
     "metadata": {},
     "output_type": "display_data"
    },
    {
     "data": {
      "text/html": [
       "\n",
       "        <div id=\"SBeVWAhFor4xD3X4o69gCu\"></div>\n",
       "        <script>netpixi.call('SBeVWAhFor4xD3X4o69gCu', 'BG6GNWMZUSpdkKQEjvjRxv', 'changeGraph', 'eyJpZCI6IDIwLCAidHlwZSI6ICJ2ZXJ0ZXgiLCAicHJvcHMiOiB7InNpemUiOiAxMi4wOTIwNTAyMDkyMDUwMn19Cg==');</script>\n",
       "    "
      ],
      "text/plain": [
       "<IPython.core.display.HTML object>"
      ]
     },
     "metadata": {},
     "output_type": "display_data"
    },
    {
     "data": {
      "text/html": [
       "\n",
       "        <div id=\"JRzuX7zZMAfDRdH4gBWnuD\"></div>\n",
       "        <script>netpixi.call('JRzuX7zZMAfDRdH4gBWnuD', 'BG6GNWMZUSpdkKQEjvjRxv', 'changeGraph', 'eyJpZCI6IDcwLCAidHlwZSI6ICJ2ZXJ0ZXgiLCAicHJvcHMiOiB7ImNvbG9yIjogMTY3MTE2ODB9fQo=');</script>\n",
       "    "
      ],
      "text/plain": [
       "<IPython.core.display.HTML object>"
      ]
     },
     "metadata": {},
     "output_type": "display_data"
    },
    {
     "data": {
      "text/html": [
       "\n",
       "        <div id=\"oJVJPBGcZn84TLtqYetdJi\"></div>\n",
       "        <script>netpixi.call('oJVJPBGcZn84TLtqYetdJi', 'BG6GNWMZUSpdkKQEjvjRxv', 'changeGraph', 'eyJpZCI6IDIxLCAidHlwZSI6ICJ2ZXJ0ZXgiLCAicHJvcHMiOiB7InNpemUiOiAxNy40NDc2OTg3NDQ3Njk4NzN9fQo=');</script>\n",
       "    "
      ],
      "text/plain": [
       "<IPython.core.display.HTML object>"
      ]
     },
     "metadata": {},
     "output_type": "display_data"
    },
    {
     "data": {
      "text/html": [
       "\n",
       "        <div id=\"TGfBqVDxJwxkgd3r4qFapv\"></div>\n",
       "        <script>netpixi.call('TGfBqVDxJwxkgd3r4qFapv', 'BG6GNWMZUSpdkKQEjvjRxv', 'changeGraph', 'eyJpZCI6IDg0LCAidHlwZSI6ICJ2ZXJ0ZXgiLCAicHJvcHMiOiB7ImNvbG9yIjogMTY3MTE2ODB9fQo=');</script>\n",
       "    "
      ],
      "text/plain": [
       "<IPython.core.display.HTML object>"
      ]
     },
     "metadata": {},
     "output_type": "display_data"
    },
    {
     "data": {
      "text/html": [
       "\n",
       "        <div id=\"ALd59Sq4hkCCdC4QVsB9jN\"></div>\n",
       "        <script>netpixi.call('ALd59Sq4hkCCdC4QVsB9jN', 'BG6GNWMZUSpdkKQEjvjRxv', 'changeGraph', 'eyJpZCI6IDIyLCAidHlwZSI6ICJ2ZXJ0ZXgiLCAicHJvcHMiOiB7InNpemUiOiA0My41fX0K');</script>\n",
       "    "
      ],
      "text/plain": [
       "<IPython.core.display.HTML object>"
      ]
     },
     "metadata": {},
     "output_type": "display_data"
    },
    {
     "data": {
      "text/html": [
       "\n",
       "        <div id=\"RPscjnRTTthTG5wAbeM6yp\"></div>\n",
       "        <script>netpixi.call('RPscjnRTTthTG5wAbeM6yp', 'BG6GNWMZUSpdkKQEjvjRxv', 'changeGraph', 'eyJpZCI6IDgwLCAidHlwZSI6ICJ2ZXJ0ZXgiLCAicHJvcHMiOiB7ImNvbG9yIjogMTY3MTE2ODB9fQo=');</script>\n",
       "    "
      ],
      "text/plain": [
       "<IPython.core.display.HTML object>"
      ]
     },
     "metadata": {},
     "output_type": "display_data"
    },
    {
     "data": {
      "text/html": [
       "\n",
       "        <div id=\"ndSueDdtzhfssubiRmYygF\"></div>\n",
       "        <script>netpixi.call('ndSueDdtzhfssubiRmYygF', 'BG6GNWMZUSpdkKQEjvjRxv', 'changeGraph', 'eyJpZCI6IDIzLCAidHlwZSI6ICJ2ZXJ0ZXgiLCAicHJvcHMiOiB7InNpemUiOiAxNi4xOTI0Njg2MTkyNDY4Nn19Cg==');</script>\n",
       "    "
      ],
      "text/plain": [
       "<IPython.core.display.HTML object>"
      ]
     },
     "metadata": {},
     "output_type": "display_data"
    },
    {
     "data": {
      "text/html": [
       "\n",
       "        <div id=\"2QP6zhf9TjzR4799rRHRwr\"></div>\n",
       "        <script>netpixi.call('2QP6zhf9TjzR4799rRHRwr', 'BG6GNWMZUSpdkKQEjvjRxv', 'changeGraph', 'eyJpZCI6IDcwLCAidHlwZSI6ICJ2ZXJ0ZXgiLCAicHJvcHMiOiB7ImNvbG9yIjogMTY3MTE2ODB9fQo=');</script>\n",
       "    "
      ],
      "text/plain": [
       "<IPython.core.display.HTML object>"
      ]
     },
     "metadata": {},
     "output_type": "display_data"
    },
    {
     "data": {
      "text/html": [
       "\n",
       "        <div id=\"DY2XcTvWZzt4gWxrwmQTiE\"></div>\n",
       "        <script>netpixi.call('DY2XcTvWZzt4gWxrwmQTiE', 'BG6GNWMZUSpdkKQEjvjRxv', 'changeGraph', 'eyJpZCI6IDI0LCAidHlwZSI6ICJ2ZXJ0ZXgiLCAicHJvcHMiOiB7InNpemUiOiAxOC4xMTcxNTQ4MTE3MTU0OH19Cg==');</script>\n",
       "    "
      ],
      "text/plain": [
       "<IPython.core.display.HTML object>"
      ]
     },
     "metadata": {},
     "output_type": "display_data"
    },
    {
     "data": {
      "text/html": [
       "\n",
       "        <div id=\"HN3Bmxgm28mpN8NCqwR44d\"></div>\n",
       "        <script>netpixi.call('HN3Bmxgm28mpN8NCqwR44d', 'BG6GNWMZUSpdkKQEjvjRxv', 'changeGraph', 'eyJpZCI6IDg0LCAidHlwZSI6ICJ2ZXJ0ZXgiLCAicHJvcHMiOiB7ImNvbG9yIjogMTY3MTE2ODB9fQo=');</script>\n",
       "    "
      ],
      "text/plain": [
       "<IPython.core.display.HTML object>"
      ]
     },
     "metadata": {},
     "output_type": "display_data"
    },
    {
     "data": {
      "text/html": [
       "\n",
       "        <div id=\"htRTvjgSDhYdc3jNbEBtjg\"></div>\n",
       "        <script>netpixi.call('htRTvjgSDhYdc3jNbEBtjg', 'BG6GNWMZUSpdkKQEjvjRxv', 'changeGraph', 'eyJpZCI6IDI1LCAidHlwZSI6ICJ2ZXJ0ZXgiLCAicHJvcHMiOiB7InNpemUiOiAxMC4yMDkyMDUwMjA5MjA1MDJ9fQo=');</script>\n",
       "    "
      ],
      "text/plain": [
       "<IPython.core.display.HTML object>"
      ]
     },
     "metadata": {},
     "output_type": "display_data"
    },
    {
     "data": {
      "text/html": [
       "\n",
       "        <div id=\"6UWjQuP6YDg3GgmiAk9CCo\"></div>\n",
       "        <script>netpixi.call('6UWjQuP6YDg3GgmiAk9CCo', 'BG6GNWMZUSpdkKQEjvjRxv', 'changeGraph', 'eyJpZCI6IDcwLCAidHlwZSI6ICJ2ZXJ0ZXgiLCAicHJvcHMiOiB7ImNvbG9yIjogMTY3MTE2ODB9fQo=');</script>\n",
       "    "
      ],
      "text/plain": [
       "<IPython.core.display.HTML object>"
      ]
     },
     "metadata": {},
     "output_type": "display_data"
    },
    {
     "data": {
      "text/html": [
       "\n",
       "        <div id=\"aUNzbZj4uLDZ36tMSumBk3\"></div>\n",
       "        <script>netpixi.call('aUNzbZj4uLDZ36tMSumBk3', 'BG6GNWMZUSpdkKQEjvjRxv', 'changeGraph', 'eyJpZCI6IDI2LCAidHlwZSI6ICJ2ZXJ0ZXgiLCAicHJvcHMiOiB7InNpemUiOiAxOS4yNDY4NjE5MjQ2ODYxOTN9fQo=');</script>\n",
       "    "
      ],
      "text/plain": [
       "<IPython.core.display.HTML object>"
      ]
     },
     "metadata": {},
     "output_type": "display_data"
    },
    {
     "data": {
      "text/html": [
       "\n",
       "        <div id=\"ZWfn3KrxmmvzfQnNV4qKMa\"></div>\n",
       "        <script>netpixi.call('ZWfn3KrxmmvzfQnNV4qKMa', 'BG6GNWMZUSpdkKQEjvjRxv', 'changeGraph', 'eyJpZCI6IDgzLCAidHlwZSI6ICJ2ZXJ0ZXgiLCAicHJvcHMiOiB7ImNvbG9yIjogMTY3MTE2ODB9fQo=');</script>\n",
       "    "
      ],
      "text/plain": [
       "<IPython.core.display.HTML object>"
      ]
     },
     "metadata": {},
     "output_type": "display_data"
    },
    {
     "data": {
      "text/html": [
       "\n",
       "        <div id=\"LC7H2jdUg4uauErczNgGGX\"></div>\n",
       "        <script>netpixi.call('LC7H2jdUg4uauErczNgGGX', 'BG6GNWMZUSpdkKQEjvjRxv', 'changeGraph', 'eyJpZCI6IDI3LCAidHlwZSI6ICJ2ZXJ0ZXgiLCAicHJvcHMiOiB7InNpemUiOiAxNy4yMzg0OTM3MjM4NDkzNzN9fQo=');</script>\n",
       "    "
      ],
      "text/plain": [
       "<IPython.core.display.HTML object>"
      ]
     },
     "metadata": {},
     "output_type": "display_data"
    },
    {
     "data": {
      "text/html": [
       "\n",
       "        <div id=\"FFPj6HPnS2KJwUkPLjNa4A\"></div>\n",
       "        <script>netpixi.call('FFPj6HPnS2KJwUkPLjNa4A', 'BG6GNWMZUSpdkKQEjvjRxv', 'changeGraph', 'eyJpZCI6IDgxLCAidHlwZSI6ICJ2ZXJ0ZXgiLCAicHJvcHMiOiB7ImNvbG9yIjogMTY3MTE2ODB9fQo=');</script>\n",
       "    "
      ],
      "text/plain": [
       "<IPython.core.display.HTML object>"
      ]
     },
     "metadata": {},
     "output_type": "display_data"
    },
    {
     "data": {
      "text/html": [
       "\n",
       "        <div id=\"2BD7GT2LswD2w6qFMJPiSW\"></div>\n",
       "        <script>netpixi.call('2BD7GT2LswD2w6qFMJPiSW', 'BG6GNWMZUSpdkKQEjvjRxv', 'changeGraph', 'eyJpZCI6IDI4LCAidHlwZSI6ICJ2ZXJ0ZXgiLCAicHJvcHMiOiB7InNpemUiOiA0NC42NjY2NjY2NjY2NjY2N319Cg==');</script>\n",
       "    "
      ],
      "text/plain": [
       "<IPython.core.display.HTML object>"
      ]
     },
     "metadata": {},
     "output_type": "display_data"
    },
    {
     "data": {
      "text/html": [
       "\n",
       "        <div id=\"T3iiaULqVy3AawgnNTejNk\"></div>\n",
       "        <script>netpixi.call('T3iiaULqVy3AawgnNTejNk', 'BG6GNWMZUSpdkKQEjvjRxv', 'changeGraph', 'eyJpZCI6IDkwLCAidHlwZSI6ICJ2ZXJ0ZXgiLCAicHJvcHMiOiB7ImNvbG9yIjogMTY3MTE2ODB9fQo=');</script>\n",
       "    "
      ],
      "text/plain": [
       "<IPython.core.display.HTML object>"
      ]
     },
     "metadata": {},
     "output_type": "display_data"
    },
    {
     "data": {
      "text/html": [
       "\n",
       "        <div id=\"59i43H3i2cdGfDuKSPvYLT\"></div>\n",
       "        <script>netpixi.call('59i43H3i2cdGfDuKSPvYLT', 'BG6GNWMZUSpdkKQEjvjRxv', 'changeGraph', 'eyJpZCI6IDI5LCAidHlwZSI6ICJ2ZXJ0ZXgiLCAicHJvcHMiOiB7InNpemUiOiAxOC4xNTg5OTU4MTU4OTk1OH19Cg==');</script>\n",
       "    "
      ],
      "text/plain": [
       "<IPython.core.display.HTML object>"
      ]
     },
     "metadata": {},
     "output_type": "display_data"
    },
    {
     "data": {
      "text/html": [
       "\n",
       "        <div id=\"4MgR3Bu5Mhkteu7dKKnvSK\"></div>\n",
       "        <script>netpixi.call('4MgR3Bu5Mhkteu7dKKnvSK', 'BG6GNWMZUSpdkKQEjvjRxv', 'changeGraph', 'eyJpZCI6IDY1LCAidHlwZSI6ICJ2ZXJ0ZXgiLCAicHJvcHMiOiB7ImNvbG9yIjogMTY3MTE2ODB9fQo=');</script>\n",
       "    "
      ],
      "text/plain": [
       "<IPython.core.display.HTML object>"
      ]
     },
     "metadata": {},
     "output_type": "display_data"
    },
    {
     "data": {
      "text/html": [
       "\n",
       "        <div id=\"oUuVu3sJpGRzLYGDAsvT8W\"></div>\n",
       "        <script>netpixi.call('oUuVu3sJpGRzLYGDAsvT8W', 'BG6GNWMZUSpdkKQEjvjRxv', 'changeGraph', 'eyJpZCI6IDMwLCAidHlwZSI6ICJ2ZXJ0ZXgiLCAicHJvcHMiOiB7InNpemUiOiAxOC4yNDI2Nzc4MjQyNjc3OH19Cg==');</script>\n",
       "    "
      ],
      "text/plain": [
       "<IPython.core.display.HTML object>"
      ]
     },
     "metadata": {},
     "output_type": "display_data"
    },
    {
     "data": {
      "text/html": [
       "\n",
       "        <div id=\"M93r6xLj9gRsh3djriChoN\"></div>\n",
       "        <script>netpixi.call('M93r6xLj9gRsh3djriChoN', 'BG6GNWMZUSpdkKQEjvjRxv', 'changeGraph', 'eyJpZCI6IDc3LCAidHlwZSI6ICJ2ZXJ0ZXgiLCAicHJvcHMiOiB7ImNvbG9yIjogMTY3MTE2ODB9fQo=');</script>\n",
       "    "
      ],
      "text/plain": [
       "<IPython.core.display.HTML object>"
      ]
     },
     "metadata": {},
     "output_type": "display_data"
    },
    {
     "data": {
      "text/html": [
       "\n",
       "        <div id=\"MLcBzM3z3dmVdGysLqdpQN\"></div>\n",
       "        <script>netpixi.call('MLcBzM3z3dmVdGysLqdpQN', 'BG6GNWMZUSpdkKQEjvjRxv', 'changeGraph', 'eyJpZCI6IDMxLCAidHlwZSI6ICJ2ZXJ0ZXgiLCAicHJvcHMiOiB7InNpemUiOiA0OS42NjY2NjY2NjY2NjY2N319Cg==');</script>\n",
       "    "
      ],
      "text/plain": [
       "<IPython.core.display.HTML object>"
      ]
     },
     "metadata": {},
     "output_type": "display_data"
    },
    {
     "data": {
      "text/html": [
       "\n",
       "        <div id=\"gVXPdeQL2RCVhGnWhV8DeL\"></div>\n",
       "        <script>netpixi.call('gVXPdeQL2RCVhGnWhV8DeL', 'BG6GNWMZUSpdkKQEjvjRxv', 'changeGraph', 'eyJpZCI6IDczLCAidHlwZSI6ICJ2ZXJ0ZXgiLCAicHJvcHMiOiB7ImNvbG9yIjogMTY3MTE2ODB9fQo=');</script>\n",
       "    "
      ],
      "text/plain": [
       "<IPython.core.display.HTML object>"
      ]
     },
     "metadata": {},
     "output_type": "display_data"
    },
    {
     "data": {
      "text/html": [
       "\n",
       "        <div id=\"546ECvAf3UbnLsihgFhGQm\"></div>\n",
       "        <script>netpixi.call('546ECvAf3UbnLsihgFhGQm', 'BG6GNWMZUSpdkKQEjvjRxv', 'changeGraph', 'eyJpZCI6IDMyLCAidHlwZSI6ICJ2ZXJ0ZXgiLCAicHJvcHMiOiB7InNpemUiOiAxMi4zNDMwOTYyMzQzMDk2MjN9fQo=');</script>\n",
       "    "
      ],
      "text/plain": [
       "<IPython.core.display.HTML object>"
      ]
     },
     "metadata": {},
     "output_type": "display_data"
    },
    {
     "data": {
      "text/html": [
       "\n",
       "        <div id=\"itRsPdnwQfM3fxJ4UUtNUF\"></div>\n",
       "        <script>netpixi.call('itRsPdnwQfM3fxJ4UUtNUF', 'BG6GNWMZUSpdkKQEjvjRxv', 'changeGraph', 'eyJpZCI6IDcwLCAidHlwZSI6ICJ2ZXJ0ZXgiLCAicHJvcHMiOiB7ImNvbG9yIjogMTY3MTE2ODB9fQo=');</script>\n",
       "    "
      ],
      "text/plain": [
       "<IPython.core.display.HTML object>"
      ]
     },
     "metadata": {},
     "output_type": "display_data"
    },
    {
     "data": {
      "text/html": [
       "\n",
       "        <div id=\"H9qGxhbHUjNVGPnezsSsiY\"></div>\n",
       "        <script>netpixi.call('H9qGxhbHUjNVGPnezsSsiY', 'BG6GNWMZUSpdkKQEjvjRxv', 'changeGraph', 'eyJpZCI6IDMzLCAidHlwZSI6ICJ2ZXJ0ZXgiLCAicHJvcHMiOiB7InNpemUiOiAxNy40ODk1Mzk3NDg5NTM5NzN9fQo=');</script>\n",
       "    "
      ],
      "text/plain": [
       "<IPython.core.display.HTML object>"
      ]
     },
     "metadata": {},
     "output_type": "display_data"
    },
    {
     "data": {
      "text/html": [
       "\n",
       "        <div id=\"nTeCFuSoYPsb5epeWHrgXk\"></div>\n",
       "        <script>netpixi.call('nTeCFuSoYPsb5epeWHrgXk', 'BG6GNWMZUSpdkKQEjvjRxv', 'changeGraph', 'eyJpZCI6IDgzLCAidHlwZSI6ICJ2ZXJ0ZXgiLCAicHJvcHMiOiB7ImNvbG9yIjogMTY3MTE2ODB9fQo=');</script>\n",
       "    "
      ],
      "text/plain": [
       "<IPython.core.display.HTML object>"
      ]
     },
     "metadata": {},
     "output_type": "display_data"
    },
    {
     "data": {
      "text/html": [
       "\n",
       "        <div id=\"KCeJLau6swZP4PUF5yMfbN\"></div>\n",
       "        <script>netpixi.call('KCeJLau6swZP4PUF5yMfbN', 'BG6GNWMZUSpdkKQEjvjRxv', 'changeGraph', 'eyJpZCI6IDM0LCAidHlwZSI6ICJ2ZXJ0ZXgiLCAicHJvcHMiOiB7InNpemUiOiAxOC42NjEwODc4NjYxMDg3ODd9fQo=');</script>\n",
       "    "
      ],
      "text/plain": [
       "<IPython.core.display.HTML object>"
      ]
     },
     "metadata": {},
     "output_type": "display_data"
    },
    {
     "data": {
      "text/html": [
       "\n",
       "        <div id=\"nCtMvQqptYF8wfruDTMS6j\"></div>\n",
       "        <script>netpixi.call('nCtMvQqptYF8wfruDTMS6j', 'BG6GNWMZUSpdkKQEjvjRxv', 'changeGraph', 'eyJpZCI6IDc5LCAidHlwZSI6ICJ2ZXJ0ZXgiLCAicHJvcHMiOiB7ImNvbG9yIjogMTY3MTE2ODB9fQo=');</script>\n",
       "    "
      ],
      "text/plain": [
       "<IPython.core.display.HTML object>"
      ]
     },
     "metadata": {},
     "output_type": "display_data"
    },
    {
     "data": {
      "text/html": [
       "\n",
       "        <div id=\"XgVwNwqu7wmPxoqAAamgbj\"></div>\n",
       "        <script>netpixi.call('XgVwNwqu7wmPxoqAAamgbj', 'BG6GNWMZUSpdkKQEjvjRxv', 'changeGraph', 'eyJpZCI6IDM1LCAidHlwZSI6ICJ2ZXJ0ZXgiLCAicHJvcHMiOiB7InNpemUiOiAxNi45NDU2MDY2OTQ1NjA2NjZ9fQo=');</script>\n",
       "    "
      ],
      "text/plain": [
       "<IPython.core.display.HTML object>"
      ]
     },
     "metadata": {},
     "output_type": "display_data"
    },
    {
     "data": {
      "text/html": [
       "\n",
       "        <div id=\"QMFEjubVdvZYSxxuh2aeNW\"></div>\n",
       "        <script>netpixi.call('QMFEjubVdvZYSxxuh2aeNW', 'BG6GNWMZUSpdkKQEjvjRxv', 'changeGraph', 'eyJpZCI6IDc5LCAidHlwZSI6ICJ2ZXJ0ZXgiLCAicHJvcHMiOiB7ImNvbG9yIjogMTY3MTE2ODB9fQo=');</script>\n",
       "    "
      ],
      "text/plain": [
       "<IPython.core.display.HTML object>"
      ]
     },
     "metadata": {},
     "output_type": "display_data"
    },
    {
     "data": {
      "text/html": [
       "\n",
       "        <div id=\"gVVDuJFGJDQZmCG78x7WuY\"></div>\n",
       "        <script>netpixi.call('gVVDuJFGJDQZmCG78x7WuY', 'BG6GNWMZUSpdkKQEjvjRxv', 'changeGraph', 'eyJpZCI6IDM2LCAidHlwZSI6ICJ2ZXJ0ZXgiLCAicHJvcHMiOiB7InNpemUiOiAxMC4xNjczNjQwMTY3MzY0MDJ9fQo=');</script>\n",
       "    "
      ],
      "text/plain": [
       "<IPython.core.display.HTML object>"
      ]
     },
     "metadata": {},
     "output_type": "display_data"
    },
    {
     "data": {
      "text/html": [
       "\n",
       "        <div id=\"5FytbntmSjgDHUDWmqc7RN\"></div>\n",
       "        <script>netpixi.call('5FytbntmSjgDHUDWmqc7RN', 'BG6GNWMZUSpdkKQEjvjRxv', 'changeGraph', 'eyJpZCI6IDY4LCAidHlwZSI6ICJ2ZXJ0ZXgiLCAicHJvcHMiOiB7ImNvbG9yIjogMTY3MTE2ODB9fQo=');</script>\n",
       "    "
      ],
      "text/plain": [
       "<IPython.core.display.HTML object>"
      ]
     },
     "metadata": {},
     "output_type": "display_data"
    },
    {
     "data": {
      "text/html": [
       "\n",
       "        <div id=\"THqRUA75E6nsQYckY3iUKG\"></div>\n",
       "        <script>netpixi.call('THqRUA75E6nsQYckY3iUKG', 'BG6GNWMZUSpdkKQEjvjRxv', 'changeGraph', 'eyJpZCI6IDM3LCAidHlwZSI6ICJ2ZXJ0ZXgiLCAicHJvcHMiOiB7InNpemUiOiAxNi40ODUzNTU2NDg1MzU1Njd9fQo=');</script>\n",
       "    "
      ],
      "text/plain": [
       "<IPython.core.display.HTML object>"
      ]
     },
     "metadata": {},
     "output_type": "display_data"
    },
    {
     "data": {
      "text/html": [
       "\n",
       "        <div id=\"mKWDVAkogPuJGBDrxPpk8G\"></div>\n",
       "        <script>netpixi.call('mKWDVAkogPuJGBDrxPpk8G', 'BG6GNWMZUSpdkKQEjvjRxv', 'changeGraph', 'eyJpZCI6IDc5LCAidHlwZSI6ICJ2ZXJ0ZXgiLCAicHJvcHMiOiB7ImNvbG9yIjogMTY3MTE2ODB9fQo=');</script>\n",
       "    "
      ],
      "text/plain": [
       "<IPython.core.display.HTML object>"
      ]
     },
     "metadata": {},
     "output_type": "display_data"
    },
    {
     "data": {
      "text/html": [
       "\n",
       "        <div id=\"hJxgrfjvRUfGLv7ZGt3t6i\"></div>\n",
       "        <script>netpixi.call('hJxgrfjvRUfGLv7ZGt3t6i', 'BG6GNWMZUSpdkKQEjvjRxv', 'changeGraph', 'eyJpZCI6IDM4LCAidHlwZSI6ICJ2ZXJ0ZXgiLCAicHJvcHMiOiB7InNpemUiOiA0MS42NjY2NjY2NjY2NjY2NjR9fQo=');</script>\n",
       "    "
      ],
      "text/plain": [
       "<IPython.core.display.HTML object>"
      ]
     },
     "metadata": {},
     "output_type": "display_data"
    },
    {
     "data": {
      "text/html": [
       "\n",
       "        <div id=\"KAsawz6wDydHtTVYE6bVxP\"></div>\n",
       "        <script>netpixi.call('KAsawz6wDydHtTVYE6bVxP', 'BG6GNWMZUSpdkKQEjvjRxv', 'changeGraph', 'eyJpZCI6IDczLCAidHlwZSI6ICJ2ZXJ0ZXgiLCAicHJvcHMiOiB7ImNvbG9yIjogMTY3MTE2ODB9fQo=');</script>\n",
       "    "
      ],
      "text/plain": [
       "<IPython.core.display.HTML object>"
      ]
     },
     "metadata": {},
     "output_type": "display_data"
    },
    {
     "data": {
      "text/html": [
       "\n",
       "        <div id=\"HBMEq8jJtuzE3uNAToGcVV\"></div>\n",
       "        <script>netpixi.call('HBMEq8jJtuzE3uNAToGcVV', 'BG6GNWMZUSpdkKQEjvjRxv', 'changeGraph', 'eyJpZCI6IDM5LCAidHlwZSI6ICJ2ZXJ0ZXgiLCAicHJvcHMiOiB7InNpemUiOiAxMC4zNzY1NjkwMzc2NTY5MDN9fQo=');</script>\n",
       "    "
      ],
      "text/plain": [
       "<IPython.core.display.HTML object>"
      ]
     },
     "metadata": {},
     "output_type": "display_data"
    },
    {
     "data": {
      "text/html": [
       "\n",
       "        <div id=\"99pfJTCmNBA5evYKDdzn8i\"></div>\n",
       "        <script>netpixi.call('99pfJTCmNBA5evYKDdzn8i', 'BG6GNWMZUSpdkKQEjvjRxv', 'changeGraph', 'eyJpZCI6IDczLCAidHlwZSI6ICJ2ZXJ0ZXgiLCAicHJvcHMiOiB7ImNvbG9yIjogMTY3MTE2ODB9fQo=');</script>\n",
       "    "
      ],
      "text/plain": [
       "<IPython.core.display.HTML object>"
      ]
     },
     "metadata": {},
     "output_type": "display_data"
    },
    {
     "data": {
      "text/html": [
       "\n",
       "        <div id=\"RVUo9Zu7LPcb4pxSQFnr2m\"></div>\n",
       "        <script>netpixi.call('RVUo9Zu7LPcb4pxSQFnr2m', 'BG6GNWMZUSpdkKQEjvjRxv', 'changeGraph', 'eyJpZCI6IDQwLCAidHlwZSI6ICJ2ZXJ0ZXgiLCAicHJvcHMiOiB7InNpemUiOiAxNS40MzkzMzA1NDM5MzMwNTN9fQo=');</script>\n",
       "    "
      ],
      "text/plain": [
       "<IPython.core.display.HTML object>"
      ]
     },
     "metadata": {},
     "output_type": "display_data"
    },
    {
     "data": {
      "text/html": [
       "\n",
       "        <div id=\"Dmp3DufBjePRujD3L2QKBT\"></div>\n",
       "        <script>netpixi.call('Dmp3DufBjePRujD3L2QKBT', 'BG6GNWMZUSpdkKQEjvjRxv', 'changeGraph', 'eyJpZCI6IDg0LCAidHlwZSI6ICJ2ZXJ0ZXgiLCAicHJvcHMiOiB7ImNvbG9yIjogMTY3MTE2ODB9fQo=');</script>\n",
       "    "
      ],
      "text/plain": [
       "<IPython.core.display.HTML object>"
      ]
     },
     "metadata": {},
     "output_type": "display_data"
    },
    {
     "data": {
      "text/html": [
       "\n",
       "        <div id=\"FNLnHhDxgnySbksPEJhiL9\"></div>\n",
       "        <script>netpixi.call('FNLnHhDxgnySbksPEJhiL9', 'BG6GNWMZUSpdkKQEjvjRxv', 'changeGraph', 'eyJpZCI6IDQxLCAidHlwZSI6ICJ2ZXJ0ZXgiLCAicHJvcHMiOiB7InNpemUiOiAxNS4zNTU2NDg1MzU1NjQ4NTN9fQo=');</script>\n",
       "    "
      ],
      "text/plain": [
       "<IPython.core.display.HTML object>"
      ]
     },
     "metadata": {},
     "output_type": "display_data"
    },
    {
     "data": {
      "text/html": [
       "\n",
       "        <div id=\"gwqrJowVvmqFxSsMLERgWc\"></div>\n",
       "        <script>netpixi.call('gwqrJowVvmqFxSsMLERgWc', 'BG6GNWMZUSpdkKQEjvjRxv', 'changeGraph', 'eyJpZCI6IDgxLCAidHlwZSI6ICJ2ZXJ0ZXgiLCAicHJvcHMiOiB7ImNvbG9yIjogMTY3MTE2ODB9fQo=');</script>\n",
       "    "
      ],
      "text/plain": [
       "<IPython.core.display.HTML object>"
      ]
     },
     "metadata": {},
     "output_type": "display_data"
    },
    {
     "data": {
      "text/html": [
       "\n",
       "        <div id=\"5UVnXJPBQLpBg5RwgyxQns\"></div>\n",
       "        <script>netpixi.call('5UVnXJPBQLpBg5RwgyxQns', 'BG6GNWMZUSpdkKQEjvjRxv', 'changeGraph', 'eyJpZCI6IDQyLCAidHlwZSI6ICJ2ZXJ0ZXgiLCAicHJvcHMiOiB7InNpemUiOiAxNS4zOTc0ODk1Mzk3NDg5NTN9fQo=');</script>\n",
       "    "
      ],
      "text/plain": [
       "<IPython.core.display.HTML object>"
      ]
     },
     "metadata": {},
     "output_type": "display_data"
    },
    {
     "data": {
      "text/html": [
       "\n",
       "        <div id=\"k7BHkHU4eSMUbUQsQc4R9A\"></div>\n",
       "        <script>netpixi.call('k7BHkHU4eSMUbUQsQc4R9A', 'BG6GNWMZUSpdkKQEjvjRxv', 'changeGraph', 'eyJpZCI6IDc4LCAidHlwZSI6ICJ2ZXJ0ZXgiLCAicHJvcHMiOiB7ImNvbG9yIjogMTY3MTE2ODB9fQo=');</script>\n",
       "    "
      ],
      "text/plain": [
       "<IPython.core.display.HTML object>"
      ]
     },
     "metadata": {},
     "output_type": "display_data"
    },
    {
     "data": {
      "text/html": [
       "\n",
       "        <div id=\"C7GYhBisoAXnKUUBMp69ns\"></div>\n",
       "        <script>netpixi.call('C7GYhBisoAXnKUUBMp69ns', 'BG6GNWMZUSpdkKQEjvjRxv', 'changeGraph', 'eyJpZCI6IDQzLCAidHlwZSI6ICJ2ZXJ0ZXgiLCAicHJvcHMiOiB7InNpemUiOiAxMi40Njg2MTkyNDY4NjE5MjV9fQo=');</script>\n",
       "    "
      ],
      "text/plain": [
       "<IPython.core.display.HTML object>"
      ]
     },
     "metadata": {},
     "output_type": "display_data"
    },
    {
     "data": {
      "text/html": [
       "\n",
       "        <div id=\"Jt3i9st6C9UPvXHHxd7ZCq\"></div>\n",
       "        <script>netpixi.call('Jt3i9st6C9UPvXHHxd7ZCq', 'BG6GNWMZUSpdkKQEjvjRxv', 'changeGraph', 'eyJpZCI6IDc3LCAidHlwZSI6ICJ2ZXJ0ZXgiLCAicHJvcHMiOiB7ImNvbG9yIjogMTY3MTE2ODB9fQo=');</script>\n",
       "    "
      ],
      "text/plain": [
       "<IPython.core.display.HTML object>"
      ]
     },
     "metadata": {},
     "output_type": "display_data"
    },
    {
     "data": {
      "text/html": [
       "\n",
       "        <div id=\"V8JBRZ9CS242k9zb42rDLD\"></div>\n",
       "        <script>netpixi.call('V8JBRZ9CS242k9zb42rDLD', 'BG6GNWMZUSpdkKQEjvjRxv', 'changeGraph', 'eyJpZCI6IDQ0LCAidHlwZSI6ICJ2ZXJ0ZXgiLCAicHJvcHMiOiB7InNpemUiOiAxNi4wNjY5NDU2MDY2OTQ1Nn19Cg==');</script>\n",
       "    "
      ],
      "text/plain": [
       "<IPython.core.display.HTML object>"
      ]
     },
     "metadata": {},
     "output_type": "display_data"
    },
    {
     "data": {
      "text/html": [
       "\n",
       "        <div id=\"jQgP8NKikPCdRFYPswpReB\"></div>\n",
       "        <script>netpixi.call('jQgP8NKikPCdRFYPswpReB', 'BG6GNWMZUSpdkKQEjvjRxv', 'changeGraph', 'eyJpZCI6IDgwLCAidHlwZSI6ICJ2ZXJ0ZXgiLCAicHJvcHMiOiB7ImNvbG9yIjogMTY3MTE2ODB9fQo=');</script>\n",
       "    "
      ],
      "text/plain": [
       "<IPython.core.display.HTML object>"
      ]
     },
     "metadata": {},
     "output_type": "display_data"
    },
    {
     "data": {
      "text/html": [
       "\n",
       "        <div id=\"dusA4243vxaRLfcBSfTU6z\"></div>\n",
       "        <script>netpixi.call('dusA4243vxaRLfcBSfTU6z', 'BG6GNWMZUSpdkKQEjvjRxv', 'changeGraph', 'eyJpZCI6IDQ1LCAidHlwZSI6ICJ2ZXJ0ZXgiLCAicHJvcHMiOiB7InNpemUiOiAxOS40OTc5MDc5NDk3OTA3OTN9fQo=');</script>\n",
       "    "
      ],
      "text/plain": [
       "<IPython.core.display.HTML object>"
      ]
     },
     "metadata": {},
     "output_type": "display_data"
    },
    {
     "data": {
      "text/html": [
       "\n",
       "        <div id=\"EitRHf5PCT5QRXfn2cnjnj\"></div>\n",
       "        <script>netpixi.call('EitRHf5PCT5QRXfn2cnjnj', 'BG6GNWMZUSpdkKQEjvjRxv', 'changeGraph', 'eyJpZCI6IDgwLCAidHlwZSI6ICJ2ZXJ0ZXgiLCAicHJvcHMiOiB7ImNvbG9yIjogMTY3MTE2ODB9fQo=');</script>\n",
       "    "
      ],
      "text/plain": [
       "<IPython.core.display.HTML object>"
      ]
     },
     "metadata": {},
     "output_type": "display_data"
    },
    {
     "data": {
      "text/html": [
       "\n",
       "        <div id=\"BX5SFZCf5kfkGi2cVSkpnn\"></div>\n",
       "        <script>netpixi.call('BX5SFZCf5kfkGi2cVSkpnn', 'BG6GNWMZUSpdkKQEjvjRxv', 'changeGraph', 'eyJpZCI6IDQ2LCAidHlwZSI6ICJ2ZXJ0ZXgiLCAicHJvcHMiOiB7InNpemUiOiAxOS41Mzk3NDg5NTM5NzQ4OTN9fQo=');</script>\n",
       "    "
      ],
      "text/plain": [
       "<IPython.core.display.HTML object>"
      ]
     },
     "metadata": {},
     "output_type": "display_data"
    },
    {
     "data": {
      "text/html": [
       "\n",
       "        <div id=\"QeC9aVqnbhU995ZBpdXay8\"></div>\n",
       "        <script>netpixi.call('QeC9aVqnbhU995ZBpdXay8', 'BG6GNWMZUSpdkKQEjvjRxv', 'changeGraph', 'eyJpZCI6IDgzLCAidHlwZSI6ICJ2ZXJ0ZXgiLCAicHJvcHMiOiB7ImNvbG9yIjogMTY3MTE2ODB9fQo=');</script>\n",
       "    "
      ],
      "text/plain": [
       "<IPython.core.display.HTML object>"
      ]
     },
     "metadata": {},
     "output_type": "display_data"
    },
    {
     "data": {
      "text/html": [
       "\n",
       "        <div id=\"UsHLkwqrngorY5ayirxe9U\"></div>\n",
       "        <script>netpixi.call('UsHLkwqrngorY5ayirxe9U', 'BG6GNWMZUSpdkKQEjvjRxv', 'changeGraph', 'eyJpZCI6IDQ3LCAidHlwZSI6ICJ2ZXJ0ZXgiLCAicHJvcHMiOiB7InNpemUiOiAxNy4xMTI5NzA3MTEyOTcwN319Cg==');</script>\n",
       "    "
      ],
      "text/plain": [
       "<IPython.core.display.HTML object>"
      ]
     },
     "metadata": {},
     "output_type": "display_data"
    },
    {
     "data": {
      "text/html": [
       "\n",
       "        <div id=\"Ueov3FC3f2TrKzHN3eTiYs\"></div>\n",
       "        <script>netpixi.call('Ueov3FC3f2TrKzHN3eTiYs', 'BG6GNWMZUSpdkKQEjvjRxv', 'changeGraph', 'eyJpZCI6IDg0LCAidHlwZSI6ICJ2ZXJ0ZXgiLCAicHJvcHMiOiB7ImNvbG9yIjogMTY3MTE2ODB9fQo=');</script>\n",
       "    "
      ],
      "text/plain": [
       "<IPython.core.display.HTML object>"
      ]
     },
     "metadata": {},
     "output_type": "display_data"
    },
    {
     "data": {
      "text/html": [
       "\n",
       "        <div id=\"WKpxeXLPrFKK6iYA5z6Hyv\"></div>\n",
       "        <script>netpixi.call('WKpxeXLPrFKK6iYA5z6Hyv', 'BG6GNWMZUSpdkKQEjvjRxv', 'changeGraph', 'eyJpZCI6IDQ4LCAidHlwZSI6ICJ2ZXJ0ZXgiLCAicHJvcHMiOiB7InNpemUiOiAxNi42OTQ1NjA2Njk0NTYwNjd9fQo=');</script>\n",
       "    "
      ],
      "text/plain": [
       "<IPython.core.display.HTML object>"
      ]
     },
     "metadata": {},
     "output_type": "display_data"
    },
    {
     "data": {
      "text/html": [
       "\n",
       "        <div id=\"L9VZ9zMaq9KnjLWAz344Hb\"></div>\n",
       "        <script>netpixi.call('L9VZ9zMaq9KnjLWAz344Hb', 'BG6GNWMZUSpdkKQEjvjRxv', 'changeGraph', 'eyJpZCI6IDczLCAidHlwZSI6ICJ2ZXJ0ZXgiLCAicHJvcHMiOiB7ImNvbG9yIjogMTY3MTE2ODB9fQo=');</script>\n",
       "    "
      ],
      "text/plain": [
       "<IPython.core.display.HTML object>"
      ]
     },
     "metadata": {},
     "output_type": "display_data"
    },
    {
     "data": {
      "text/html": [
       "\n",
       "        <div id=\"LeJKb8cpzKPpz2Q6LuzFA7\"></div>\n",
       "        <script>netpixi.call('LeJKb8cpzKPpz2Q6LuzFA7', 'BG6GNWMZUSpdkKQEjvjRxv', 'changeGraph', 'eyJpZCI6IDQ5LCAidHlwZSI6ICJ2ZXJ0ZXgiLCAicHJvcHMiOiB7InNpemUiOiAxOC43MDI5Mjg4NzAyOTI4ODd9fQo=');</script>\n",
       "    "
      ],
      "text/plain": [
       "<IPython.core.display.HTML object>"
      ]
     },
     "metadata": {},
     "output_type": "display_data"
    },
    {
     "data": {
      "text/html": [
       "\n",
       "        <div id=\"9vdTFNYb9M9g6jmywQbL5n\"></div>\n",
       "        <script>netpixi.call('9vdTFNYb9M9g6jmywQbL5n', 'BG6GNWMZUSpdkKQEjvjRxv', 'changeGraph', 'eyJpZCI6IDg0LCAidHlwZSI6ICJ2ZXJ0ZXgiLCAicHJvcHMiOiB7ImNvbG9yIjogMTY3MTE2ODB9fQo=');</script>\n",
       "    "
      ],
      "text/plain": [
       "<IPython.core.display.HTML object>"
      ]
     },
     "metadata": {},
     "output_type": "display_data"
    },
    {
     "data": {
      "text/html": [
       "\n",
       "        <div id=\"gz4eYBFFEGyhjPvM8Q6Mks\"></div>\n",
       "        <script>netpixi.call('gz4eYBFFEGyhjPvM8Q6Mks', 'BG6GNWMZUSpdkKQEjvjRxv', 'changeGraph', 'eyJpZCI6IDUwLCAidHlwZSI6ICJ2ZXJ0ZXgiLCAicHJvcHMiOiB7InNpemUiOiAxMC40MTg0MTAwNDE4NDEwMDN9fQo=');</script>\n",
       "    "
      ],
      "text/plain": [
       "<IPython.core.display.HTML object>"
      ]
     },
     "metadata": {},
     "output_type": "display_data"
    },
    {
     "data": {
      "text/html": [
       "\n",
       "        <div id=\"5ojhXDHgsaYtPwbQRk6Nyw\"></div>\n",
       "        <script>netpixi.call('5ojhXDHgsaYtPwbQRk6Nyw', 'BG6GNWMZUSpdkKQEjvjRxv', 'changeGraph', 'eyJpZCI6IDgwLCAidHlwZSI6ICJ2ZXJ0ZXgiLCAicHJvcHMiOiB7ImNvbG9yIjogMTY3MTE2ODB9fQo=');</script>\n",
       "    "
      ],
      "text/plain": [
       "<IPython.core.display.HTML object>"
      ]
     },
     "metadata": {},
     "output_type": "display_data"
    },
    {
     "data": {
      "text/html": [
       "\n",
       "        <div id=\"C6XRf4sjVQnpf4ZLtzhR4z\"></div>\n",
       "        <script>netpixi.call('C6XRf4sjVQnpf4ZLtzhR4z', 'BG6GNWMZUSpdkKQEjvjRxv', 'changeGraph', 'eyJpZCI6IDUxLCAidHlwZSI6ICJ2ZXJ0ZXgiLCAicHJvcHMiOiB7InNpemUiOiAxNi4zMTc5OTE2MzE3OTkxNjN9fQo=');</script>\n",
       "    "
      ],
      "text/plain": [
       "<IPython.core.display.HTML object>"
      ]
     },
     "metadata": {},
     "output_type": "display_data"
    },
    {
     "data": {
      "text/html": [
       "\n",
       "        <div id=\"nvtBX6v5n4Xq2bFmKJCCou\"></div>\n",
       "        <script>netpixi.call('nvtBX6v5n4Xq2bFmKJCCou', 'BG6GNWMZUSpdkKQEjvjRxv', 'changeGraph', 'eyJpZCI6IDgwLCAidHlwZSI6ICJ2ZXJ0ZXgiLCAicHJvcHMiOiB7ImNvbG9yIjogMTY3MTE2ODB9fQo=');</script>\n",
       "    "
      ],
      "text/plain": [
       "<IPython.core.display.HTML object>"
      ]
     },
     "metadata": {},
     "output_type": "display_data"
    },
    {
     "data": {
      "text/html": [
       "\n",
       "        <div id=\"Jw9D8PmN2Ppbd2KVH2tFw3\"></div>\n",
       "        <script>netpixi.call('Jw9D8PmN2Ppbd2KVH2tFw3', 'BG6GNWMZUSpdkKQEjvjRxv', 'changeGraph', 'eyJpZCI6IDUyLCAidHlwZSI6ICJ2ZXJ0ZXgiLCAicHJvcHMiOiB7InNpemUiOiAxNC4wNTg1Nzc0MDU4NTc3NH19Cg==');</script>\n",
       "    "
      ],
      "text/plain": [
       "<IPython.core.display.HTML object>"
      ]
     },
     "metadata": {},
     "output_type": "display_data"
    },
    {
     "data": {
      "text/html": [
       "\n",
       "        <div id=\"QmKUq8WXXTh2h5bK9FkZqb\"></div>\n",
       "        <script>netpixi.call('QmKUq8WXXTh2h5bK9FkZqb', 'BG6GNWMZUSpdkKQEjvjRxv', 'changeGraph', 'eyJpZCI6IDczLCAidHlwZSI6ICJ2ZXJ0ZXgiLCAicHJvcHMiOiB7ImNvbG9yIjogMTY3MTE2ODB9fQo=');</script>\n",
       "    "
      ],
      "text/plain": [
       "<IPython.core.display.HTML object>"
      ]
     },
     "metadata": {},
     "output_type": "display_data"
    },
    {
     "data": {
      "text/html": [
       "\n",
       "        <div id=\"iECctkt8aEtrZSt5tbDhHx\"></div>\n",
       "        <script>netpixi.call('iECctkt8aEtrZSt5tbDhHx', 'BG6GNWMZUSpdkKQEjvjRxv', 'changeGraph', 'eyJpZCI6IDUzLCAidHlwZSI6ICJ2ZXJ0ZXgiLCAicHJvcHMiOiB7InNpemUiOiAxNy41MzEzODA3NTMxMzgwNzN9fQo=');</script>\n",
       "    "
      ],
      "text/plain": [
       "<IPython.core.display.HTML object>"
      ]
     },
     "metadata": {},
     "output_type": "display_data"
    },
    {
     "data": {
      "text/html": [
       "\n",
       "        <div id=\"UqhxauZELMGaNXvpQjrFAU\"></div>\n",
       "        <script>netpixi.call('UqhxauZELMGaNXvpQjrFAU', 'BG6GNWMZUSpdkKQEjvjRxv', 'changeGraph', 'eyJpZCI6IDc1LCAidHlwZSI6ICJ2ZXJ0ZXgiLCAicHJvcHMiOiB7ImNvbG9yIjogMTY3MTE2ODB9fQo=');</script>\n",
       "    "
      ],
      "text/plain": [
       "<IPython.core.display.HTML object>"
      ]
     },
     "metadata": {},
     "output_type": "display_data"
    },
    {
     "data": {
      "text/html": [
       "\n",
       "        <div id=\"eNG9kkFhUojWMbvpg8s27x\"></div>\n",
       "        <script>netpixi.call('eNG9kkFhUojWMbvpg8s27x', 'BG6GNWMZUSpdkKQEjvjRxv', 'changeGraph', 'eyJpZCI6IDU0LCAidHlwZSI6ICJ2ZXJ0ZXgiLCAicHJvcHMiOiB7InNpemUiOiA0NS42NjY2NjY2NjY2NjY2NjR9fQo=');</script>\n",
       "    "
      ],
      "text/plain": [
       "<IPython.core.display.HTML object>"
      ]
     },
     "metadata": {},
     "output_type": "display_data"
    },
    {
     "data": {
      "text/html": [
       "\n",
       "        <div id=\"hnTW3L3mQsFAwQABUiu3WB\"></div>\n",
       "        <script>netpixi.call('hnTW3L3mQsFAwQABUiu3WB', 'BG6GNWMZUSpdkKQEjvjRxv', 'changeGraph', 'eyJpZCI6IDc1LCAidHlwZSI6ICJ2ZXJ0ZXgiLCAicHJvcHMiOiB7ImNvbG9yIjogMTY3MTE2ODB9fQo=');</script>\n",
       "    "
      ],
      "text/plain": [
       "<IPython.core.display.HTML object>"
      ]
     },
     "metadata": {},
     "output_type": "display_data"
    },
    {
     "data": {
      "text/html": [
       "\n",
       "        <div id=\"ir3vdtfJy8i4ng5ktKAEEN\"></div>\n",
       "        <script>netpixi.call('ir3vdtfJy8i4ng5ktKAEEN', 'BG6GNWMZUSpdkKQEjvjRxv', 'changeGraph', 'eyJpZCI6IDU1LCAidHlwZSI6ICJ2ZXJ0ZXgiLCAicHJvcHMiOiB7InNpemUiOiAxMS41MDYyNzYxNTA2Mjc2MTV9fQo=');</script>\n",
       "    "
      ],
      "text/plain": [
       "<IPython.core.display.HTML object>"
      ]
     },
     "metadata": {},
     "output_type": "display_data"
    },
    {
     "data": {
      "text/html": [
       "\n",
       "        <div id=\"hzKK3TQVcaKG6eBvTvmyNn\"></div>\n",
       "        <script>netpixi.call('hzKK3TQVcaKG6eBvTvmyNn', 'BG6GNWMZUSpdkKQEjvjRxv', 'changeGraph', 'eyJpZCI6IDg2LCAidHlwZSI6ICJ2ZXJ0ZXgiLCAicHJvcHMiOiB7ImNvbG9yIjogMTY3MTE2ODB9fQo=');</script>\n",
       "    "
      ],
      "text/plain": [
       "<IPython.core.display.HTML object>"
      ]
     },
     "metadata": {},
     "output_type": "display_data"
    },
    {
     "data": {
      "text/html": [
       "\n",
       "        <div id=\"8SSFuAqVYrs2pgh2uURyH9\"></div>\n",
       "        <script>netpixi.call('8SSFuAqVYrs2pgh2uURyH9', 'BG6GNWMZUSpdkKQEjvjRxv', 'changeGraph', 'eyJpZCI6IDU2LCAidHlwZSI6ICJ2ZXJ0ZXgiLCAicHJvcHMiOiB7InNpemUiOiAxMC4wfX0K');</script>\n",
       "    "
      ],
      "text/plain": [
       "<IPython.core.display.HTML object>"
      ]
     },
     "metadata": {},
     "output_type": "display_data"
    },
    {
     "data": {
      "text/html": [
       "\n",
       "        <div id=\"6CG9ggWDMaN8YGU2jH74LU\"></div>\n",
       "        <script>netpixi.call('6CG9ggWDMaN8YGU2jH74LU', 'BG6GNWMZUSpdkKQEjvjRxv', 'changeGraph', 'eyJpZCI6IDgwLCAidHlwZSI6ICJ2ZXJ0ZXgiLCAicHJvcHMiOiB7ImNvbG9yIjogMTY3MTE2ODB9fQo=');</script>\n",
       "    "
      ],
      "text/plain": [
       "<IPython.core.display.HTML object>"
      ]
     },
     "metadata": {},
     "output_type": "display_data"
    },
    {
     "data": {
      "text/html": [
       "\n",
       "        <div id=\"B6AnXtuDDHR8x9SJE9XEHr\"></div>\n",
       "        <script>netpixi.call('B6AnXtuDDHR8x9SJE9XEHr', 'BG6GNWMZUSpdkKQEjvjRxv', 'changeGraph', 'eyJpZCI6IDU3LCAidHlwZSI6ICJ2ZXJ0ZXgiLCAicHJvcHMiOiB7InNpemUiOiAxMi44NDUxODgyODQ1MTg4Mjh9fQo=');</script>\n",
       "    "
      ],
      "text/plain": [
       "<IPython.core.display.HTML object>"
      ]
     },
     "metadata": {},
     "output_type": "display_data"
    },
    {
     "data": {
      "text/html": [
       "\n",
       "        <div id=\"fjtqVAsx5NFYBNtj3WkTNW\"></div>\n",
       "        <script>netpixi.call('fjtqVAsx5NFYBNtj3WkTNW', 'BG6GNWMZUSpdkKQEjvjRxv', 'changeGraph', 'eyJpZCI6IDY5LCAidHlwZSI6ICJ2ZXJ0ZXgiLCAicHJvcHMiOiB7ImNvbG9yIjogMTY3MTE2ODB9fQo=');</script>\n",
       "    "
      ],
      "text/plain": [
       "<IPython.core.display.HTML object>"
      ]
     },
     "metadata": {},
     "output_type": "display_data"
    },
    {
     "data": {
      "text/html": [
       "\n",
       "        <div id=\"HtqERCqynqEEo5RCaefQ5A\"></div>\n",
       "        <script>netpixi.call('HtqERCqynqEEo5RCaefQ5A', 'BG6GNWMZUSpdkKQEjvjRxv', 'changeGraph', 'eyJpZCI6IDU4LCAidHlwZSI6ICJ2ZXJ0ZXgiLCAicHJvcHMiOiB7InNpemUiOiA0NC41fX0K');</script>\n",
       "    "
      ],
      "text/plain": [
       "<IPython.core.display.HTML object>"
      ]
     },
     "metadata": {},
     "output_type": "display_data"
    },
    {
     "data": {
      "text/html": [
       "\n",
       "        <div id=\"WNbARSdAfNX8X3xeLZqh3j\"></div>\n",
       "        <script>netpixi.call('WNbARSdAfNX8X3xeLZqh3j', 'BG6GNWMZUSpdkKQEjvjRxv', 'changeGraph', 'eyJpZCI6IDgxLCAidHlwZSI6ICJ2ZXJ0ZXgiLCAicHJvcHMiOiB7ImNvbG9yIjogMTY3MTE2ODB9fQo=');</script>\n",
       "    "
      ],
      "text/plain": [
       "<IPython.core.display.HTML object>"
      ]
     },
     "metadata": {},
     "output_type": "display_data"
    },
    {
     "data": {
      "text/html": [
       "\n",
       "        <div id=\"j9RjySJ9W2HCmvWRzEBENe\"></div>\n",
       "        <script>netpixi.call('j9RjySJ9W2HCmvWRzEBENe', 'BG6GNWMZUSpdkKQEjvjRxv', 'changeGraph', 'eyJpZCI6IDU5LCAidHlwZSI6ICJ2ZXJ0ZXgiLCAicHJvcHMiOiB7InNpemUiOiAxNC4xNDIyNTk0MTQyMjU5NH19Cg==');</script>\n",
       "    "
      ],
      "text/plain": [
       "<IPython.core.display.HTML object>"
      ]
     },
     "metadata": {},
     "output_type": "display_data"
    },
    {
     "data": {
      "text/html": [
       "\n",
       "        <div id=\"XwjT8LqPNtgevjhTMqKnAh\"></div>\n",
       "        <script>netpixi.call('XwjT8LqPNtgevjhTMqKnAh', 'BG6GNWMZUSpdkKQEjvjRxv', 'changeGraph', 'eyJpZCI6IDczLCAidHlwZSI6ICJ2ZXJ0ZXgiLCAicHJvcHMiOiB7ImNvbG9yIjogMTY3MTE2ODB9fQo=');</script>\n",
       "    "
      ],
      "text/plain": [
       "<IPython.core.display.HTML object>"
      ]
     },
     "metadata": {},
     "output_type": "display_data"
    },
    {
     "data": {
      "text/html": [
       "\n",
       "        <div id=\"TgA4X9yNMudhSyPaEXBvs5\"></div>\n",
       "        <script>netpixi.call('TgA4X9yNMudhSyPaEXBvs5', 'BG6GNWMZUSpdkKQEjvjRxv', 'changeGraph', 'eyJpZCI6IDYwLCAidHlwZSI6ICJ2ZXJ0ZXgiLCAicHJvcHMiOiB7InNpemUiOiAxMS43MTU0ODExNzE1NDgxMTd9fQo=');</script>\n",
       "    "
      ],
      "text/plain": [
       "<IPython.core.display.HTML object>"
      ]
     },
     "metadata": {},
     "output_type": "display_data"
    },
    {
     "data": {
      "text/html": [
       "\n",
       "        <div id=\"AticcRVrXv6XGrEZYoYxDC\"></div>\n",
       "        <script>netpixi.call('AticcRVrXv6XGrEZYoYxDC', 'BG6GNWMZUSpdkKQEjvjRxv', 'changeGraph', 'eyJpZCI6IDc5LCAidHlwZSI6ICJ2ZXJ0ZXgiLCAicHJvcHMiOiB7ImNvbG9yIjogMTY3MTE2ODB9fQo=');</script>\n",
       "    "
      ],
      "text/plain": [
       "<IPython.core.display.HTML object>"
      ]
     },
     "metadata": {},
     "output_type": "display_data"
    },
    {
     "data": {
      "text/html": [
       "\n",
       "        <div id=\"ZDCMuy9Y3W6oHrB4jWk66g\"></div>\n",
       "        <script>netpixi.call('ZDCMuy9Y3W6oHrB4jWk66g', 'BG6GNWMZUSpdkKQEjvjRxv', 'changeGraph', 'eyJpZCI6IDYxLCAidHlwZSI6ICJ2ZXJ0ZXgiLCAicHJvcHMiOiB7InNpemUiOiA0MC4zMzMzMzMzMzMzMzMzM319Cg==');</script>\n",
       "    "
      ],
      "text/plain": [
       "<IPython.core.display.HTML object>"
      ]
     },
     "metadata": {},
     "output_type": "display_data"
    },
    {
     "data": {
      "text/html": [
       "\n",
       "        <div id=\"EYrwX6MTSwHSyZDsxqvKUx\"></div>\n",
       "        <script>netpixi.call('EYrwX6MTSwHSyZDsxqvKUx', 'BG6GNWMZUSpdkKQEjvjRxv', 'changeGraph', 'eyJpZCI6IDY4LCAidHlwZSI6ICJ2ZXJ0ZXgiLCAicHJvcHMiOiB7ImNvbG9yIjogMTY3MTE2ODB9fQo=');</script>\n",
       "    "
      ],
      "text/plain": [
       "<IPython.core.display.HTML object>"
      ]
     },
     "metadata": {},
     "output_type": "display_data"
    },
    {
     "data": {
      "text/html": [
       "\n",
       "        <div id=\"NrnEWYNExqwvxvmiyF73kU\"></div>\n",
       "        <script>netpixi.call('NrnEWYNExqwvxvmiyF73kU', 'BG6GNWMZUSpdkKQEjvjRxv', 'changeGraph', 'eyJpZCI6IDYyLCAidHlwZSI6ICJ2ZXJ0ZXgiLCAicHJvcHMiOiB7InNpemUiOiAxOC41MzU1NjQ4NTM1NTY0ODd9fQo=');</script>\n",
       "    "
      ],
      "text/plain": [
       "<IPython.core.display.HTML object>"
      ]
     },
     "metadata": {},
     "output_type": "display_data"
    },
    {
     "data": {
      "text/html": [
       "\n",
       "        <div id=\"UtUemkHbyYVtwNkJGuEkHa\"></div>\n",
       "        <script>netpixi.call('UtUemkHbyYVtwNkJGuEkHa', 'BG6GNWMZUSpdkKQEjvjRxv', 'changeGraph', 'eyJpZCI6IDgxLCAidHlwZSI6ICJ2ZXJ0ZXgiLCAicHJvcHMiOiB7ImNvbG9yIjogMTY3MTE2ODB9fQo=');</script>\n",
       "    "
      ],
      "text/plain": [
       "<IPython.core.display.HTML object>"
      ]
     },
     "metadata": {},
     "output_type": "display_data"
    },
    {
     "data": {
      "text/html": [
       "\n",
       "        <div id=\"MwP8iZodZUYK2XrG92fjNd\"></div>\n",
       "        <script>netpixi.call('MwP8iZodZUYK2XrG92fjNd', 'BG6GNWMZUSpdkKQEjvjRxv', 'changeGraph', 'eyJpZCI6IDYzLCAidHlwZSI6ICJ2ZXJ0ZXgiLCAicHJvcHMiOiB7InNpemUiOiAxMy45NzQ4OTUzOTc0ODk1NH19Cg==');</script>\n",
       "    "
      ],
      "text/plain": [
       "<IPython.core.display.HTML object>"
      ]
     },
     "metadata": {},
     "output_type": "display_data"
    },
    {
     "data": {
      "text/html": [
       "\n",
       "        <div id=\"UEq4iNB5m7f6NKkfyFsEYN\"></div>\n",
       "        <script>netpixi.call('UEq4iNB5m7f6NKkfyFsEYN', 'BG6GNWMZUSpdkKQEjvjRxv', 'changeGraph', 'eyJpZCI6IDgyLCAidHlwZSI6ICJ2ZXJ0ZXgiLCAicHJvcHMiOiB7ImNvbG9yIjogMTY3MTE2ODB9fQo=');</script>\n",
       "    "
      ],
      "text/plain": [
       "<IPython.core.display.HTML object>"
      ]
     },
     "metadata": {},
     "output_type": "display_data"
    },
    {
     "data": {
      "text/html": [
       "\n",
       "        <div id=\"fLtAcTSPwreL3bHPq487wt\"></div>\n",
       "        <script>netpixi.call('fLtAcTSPwreL3bHPq487wt', 'BG6GNWMZUSpdkKQEjvjRxv', 'changeGraph', 'eyJpZCI6IDY0LCAidHlwZSI6ICJ2ZXJ0ZXgiLCAicHJvcHMiOiB7InNpemUiOiAxNi44MjAwODM2ODIwMDgzNjd9fQo=');</script>\n",
       "    "
      ],
      "text/plain": [
       "<IPython.core.display.HTML object>"
      ]
     },
     "metadata": {},
     "output_type": "display_data"
    },
    {
     "data": {
      "text/html": [
       "\n",
       "        <div id=\"7NoB4MGU6o9eSKQvSDBs4K\"></div>\n",
       "        <script>netpixi.call('7NoB4MGU6o9eSKQvSDBs4K', 'BG6GNWMZUSpdkKQEjvjRxv', 'changeGraph', 'eyJpZCI6IDg1LCAidHlwZSI6ICJ2ZXJ0ZXgiLCAicHJvcHMiOiB7ImNvbG9yIjogMTY3MTE2ODB9fQo=');</script>\n",
       "    "
      ],
      "text/plain": [
       "<IPython.core.display.HTML object>"
      ]
     },
     "metadata": {},
     "output_type": "display_data"
    },
    {
     "data": {
      "text/html": [
       "\n",
       "        <div id=\"QR25SVKv7Vghr6ovifutHV\"></div>\n",
       "        <script>netpixi.call('QR25SVKv7Vghr6ovifutHV', 'BG6GNWMZUSpdkKQEjvjRxv', 'changeGraph', 'eyJpZCI6IDY1LCAidHlwZSI6ICJ2ZXJ0ZXgiLCAicHJvcHMiOiB7InNpemUiOiAxOS45NTgxNTg5OTU4MTU5fX0K');</script>\n",
       "    "
      ],
      "text/plain": [
       "<IPython.core.display.HTML object>"
      ]
     },
     "metadata": {},
     "output_type": "display_data"
    },
    {
     "data": {
      "text/html": [
       "\n",
       "        <div id=\"4xcNecQpssmZLnZpoicjsZ\"></div>\n",
       "        <script>netpixi.call('4xcNecQpssmZLnZpoicjsZ', 'BG6GNWMZUSpdkKQEjvjRxv', 'changeGraph', 'eyJpZCI6IDc3LCAidHlwZSI6ICJ2ZXJ0ZXgiLCAicHJvcHMiOiB7ImNvbG9yIjogMTY3MTE2ODB9fQo=');</script>\n",
       "    "
      ],
      "text/plain": [
       "<IPython.core.display.HTML object>"
      ]
     },
     "metadata": {},
     "output_type": "display_data"
    },
    {
     "data": {
      "text/html": [
       "\n",
       "        <div id=\"Pj9KXkMfEavCC62tqdgFaH\"></div>\n",
       "        <script>netpixi.call('Pj9KXkMfEavCC62tqdgFaH', 'BG6GNWMZUSpdkKQEjvjRxv', 'changeGraph', 'eyJpZCI6IDY2LCAidHlwZSI6ICJ2ZXJ0ZXgiLCAicHJvcHMiOiB7InNpemUiOiAxMS44NDEwMDQxODQxMDA0MTh9fQo=');</script>\n",
       "    "
      ],
      "text/plain": [
       "<IPython.core.display.HTML object>"
      ]
     },
     "metadata": {},
     "output_type": "display_data"
    },
    {
     "data": {
      "text/html": [
       "\n",
       "        <div id=\"FNwpwE8S3DmitekzYHR26g\"></div>\n",
       "        <script>netpixi.call('FNwpwE8S3DmitekzYHR26g', 'BG6GNWMZUSpdkKQEjvjRxv', 'changeGraph', 'eyJpZCI6IDc5LCAidHlwZSI6ICJ2ZXJ0ZXgiLCAicHJvcHMiOiB7ImNvbG9yIjogMTY3MTE2ODB9fQo=');</script>\n",
       "    "
      ],
      "text/plain": [
       "<IPython.core.display.HTML object>"
      ]
     },
     "metadata": {},
     "output_type": "display_data"
    },
    {
     "data": {
      "text/html": [
       "\n",
       "        <div id=\"HhacwgXZuiQ6EgLnafiwQ8\"></div>\n",
       "        <script>netpixi.call('HhacwgXZuiQ6EgLnafiwQ8', 'BG6GNWMZUSpdkKQEjvjRxv', 'changeGraph', 'eyJpZCI6IDY3LCAidHlwZSI6ICJ2ZXJ0ZXgiLCAicHJvcHMiOiB7InNpemUiOiA0MC42NjY2NjY2NjY2NjY2N319Cg==');</script>\n",
       "    "
      ],
      "text/plain": [
       "<IPython.core.display.HTML object>"
      ]
     },
     "metadata": {},
     "output_type": "display_data"
    },
    {
     "data": {
      "text/html": [
       "\n",
       "        <div id=\"kifvXWi2dN9pyNaadDbF35\"></div>\n",
       "        <script>netpixi.call('kifvXWi2dN9pyNaadDbF35', 'BG6GNWMZUSpdkKQEjvjRxv', 'changeGraph', 'eyJpZCI6IDgxLCAidHlwZSI6ICJ2ZXJ0ZXgiLCAicHJvcHMiOiB7ImNvbG9yIjogMTY3MTE2ODB9fQo=');</script>\n",
       "    "
      ],
      "text/plain": [
       "<IPython.core.display.HTML object>"
      ]
     },
     "metadata": {},
     "output_type": "display_data"
    },
    {
     "data": {
      "text/html": [
       "\n",
       "        <div id=\"2yv76reRmyn9PbpA6cQYyr\"></div>\n",
       "        <script>netpixi.call('2yv76reRmyn9PbpA6cQYyr', 'BG6GNWMZUSpdkKQEjvjRxv', 'changeGraph', 'eyJpZCI6IDY4LCAidHlwZSI6ICJ2ZXJ0ZXgiLCAicHJvcHMiOiB7InNpemUiOiAxMy4yNjM1OTgzMjYzNTk4MzN9fQo=');</script>\n",
       "    "
      ],
      "text/plain": [
       "<IPython.core.display.HTML object>"
      ]
     },
     "metadata": {},
     "output_type": "display_data"
    },
    {
     "data": {
      "text/html": [
       "\n",
       "        <div id=\"8CBQdEYUc7Sxe9yY9gFcCs\"></div>\n",
       "        <script>netpixi.call('8CBQdEYUc7Sxe9yY9gFcCs', 'BG6GNWMZUSpdkKQEjvjRxv', 'changeGraph', 'eyJpZCI6IDY4LCAidHlwZSI6ICJ2ZXJ0ZXgiLCAicHJvcHMiOiB7ImNvbG9yIjogMTY3MTE2ODB9fQo=');</script>\n",
       "    "
      ],
      "text/plain": [
       "<IPython.core.display.HTML object>"
      ]
     },
     "metadata": {},
     "output_type": "display_data"
    },
    {
     "data": {
      "text/html": [
       "\n",
       "        <div id=\"VPZb8K4ThbNnhxYhsr3D3Z\"></div>\n",
       "        <script>netpixi.call('VPZb8K4ThbNnhxYhsr3D3Z', 'BG6GNWMZUSpdkKQEjvjRxv', 'changeGraph', 'eyJpZCI6IDY5LCAidHlwZSI6ICJ2ZXJ0ZXgiLCAicHJvcHMiOiB7InNpemUiOiAxNC42MDI1MTA0NjAyNTEwNDd9fQo=');</script>\n",
       "    "
      ],
      "text/plain": [
       "<IPython.core.display.HTML object>"
      ]
     },
     "metadata": {},
     "output_type": "display_data"
    },
    {
     "data": {
      "text/html": [
       "\n",
       "        <div id=\"USSbA5PFeDBYbNZhdS7LE2\"></div>\n",
       "        <script>netpixi.call('USSbA5PFeDBYbNZhdS7LE2', 'BG6GNWMZUSpdkKQEjvjRxv', 'changeGraph', 'eyJpZCI6IDgwLCAidHlwZSI6ICJ2ZXJ0ZXgiLCAicHJvcHMiOiB7ImNvbG9yIjogMTY3MTE2ODB9fQo=');</script>\n",
       "    "
      ],
      "text/plain": [
       "<IPython.core.display.HTML object>"
      ]
     },
     "metadata": {},
     "output_type": "display_data"
    },
    {
     "data": {
      "text/html": [
       "\n",
       "        <div id=\"b8P8MQbVhDeb5znVwY8QUp\"></div>\n",
       "        <script>netpixi.call('b8P8MQbVhDeb5znVwY8QUp', 'BG6GNWMZUSpdkKQEjvjRxv', 'changeGraph', 'eyJpZCI6IDcwLCAidHlwZSI6ICJ2ZXJ0ZXgiLCAicHJvcHMiOiB7InNpemUiOiAxMC40NjAyNTEwNDYwMjUxMDV9fQo=');</script>\n",
       "    "
      ],
      "text/plain": [
       "<IPython.core.display.HTML object>"
      ]
     },
     "metadata": {},
     "output_type": "display_data"
    },
    {
     "data": {
      "text/html": [
       "\n",
       "        <div id=\"YagiYYf6tMoEoJmaiYXfZZ\"></div>\n",
       "        <script>netpixi.call('YagiYYf6tMoEoJmaiYXfZZ', 'BG6GNWMZUSpdkKQEjvjRxv', 'changeGraph', 'eyJpZCI6IDg2LCAidHlwZSI6ICJ2ZXJ0ZXgiLCAicHJvcHMiOiB7ImNvbG9yIjogMTY3MTE2ODB9fQo=');</script>\n",
       "    "
      ],
      "text/plain": [
       "<IPython.core.display.HTML object>"
      ]
     },
     "metadata": {},
     "output_type": "display_data"
    },
    {
     "data": {
      "text/html": [
       "\n",
       "        <div id=\"RQX4auzMycmx9oik7bqGhG\"></div>\n",
       "        <script>netpixi.call('RQX4auzMycmx9oik7bqGhG', 'BG6GNWMZUSpdkKQEjvjRxv', 'changeGraph', 'eyJpZCI6IDcxLCAidHlwZSI6ICJ2ZXJ0ZXgiLCAicHJvcHMiOiB7InNpemUiOiAxOC44NzAyOTI4ODcwMjkyODd9fQo=');</script>\n",
       "    "
      ],
      "text/plain": [
       "<IPython.core.display.HTML object>"
      ]
     },
     "metadata": {},
     "output_type": "display_data"
    },
    {
     "data": {
      "text/html": [
       "\n",
       "        <div id=\"Uu3dx49u922gMVYXRBvUcp\"></div>\n",
       "        <script>netpixi.call('Uu3dx49u922gMVYXRBvUcp', 'BG6GNWMZUSpdkKQEjvjRxv', 'changeGraph', 'eyJpZCI6IDgzLCAidHlwZSI6ICJ2ZXJ0ZXgiLCAicHJvcHMiOiB7ImNvbG9yIjogMTY3MTE2ODB9fQo=');</script>\n",
       "    "
      ],
      "text/plain": [
       "<IPython.core.display.HTML object>"
      ]
     },
     "metadata": {},
     "output_type": "display_data"
    },
    {
     "data": {
      "text/html": [
       "\n",
       "        <div id=\"MMJnRzuJjx75PEsdBR3uYs\"></div>\n",
       "        <script>netpixi.call('MMJnRzuJjx75PEsdBR3uYs', 'BG6GNWMZUSpdkKQEjvjRxv', 'changeGraph', 'eyJpZCI6IDcyLCAidHlwZSI6ICJ2ZXJ0ZXgiLCAicHJvcHMiOiB7InNpemUiOiAxOC40MTAwNDE4NDEwMDQxODN9fQo=');</script>\n",
       "    "
      ],
      "text/plain": [
       "<IPython.core.display.HTML object>"
      ]
     },
     "metadata": {},
     "output_type": "display_data"
    },
    {
     "data": {
      "text/html": [
       "\n",
       "        <div id=\"o2N6GDXn2N7DW2AYLgrTCz\"></div>\n",
       "        <script>netpixi.call('o2N6GDXn2N7DW2AYLgrTCz', 'BG6GNWMZUSpdkKQEjvjRxv', 'changeGraph', 'eyJpZCI6IDc2LCAidHlwZSI6ICJ2ZXJ0ZXgiLCAicHJvcHMiOiB7ImNvbG9yIjogMTY3MTE2ODB9fQo=');</script>\n",
       "    "
      ],
      "text/plain": [
       "<IPython.core.display.HTML object>"
      ]
     },
     "metadata": {},
     "output_type": "display_data"
    },
    {
     "data": {
      "text/html": [
       "\n",
       "        <div id=\"6eAkHusG9xzNgv9WcH7fzy\"></div>\n",
       "        <script>netpixi.call('6eAkHusG9xzNgv9WcH7fzy', 'BG6GNWMZUSpdkKQEjvjRxv', 'changeGraph', 'eyJpZCI6IDczLCAidHlwZSI6ICJ2ZXJ0ZXgiLCAicHJvcHMiOiB7InNpemUiOiAxNi43MzY0MDE2NzM2NDAxNjd9fQo=');</script>\n",
       "    "
      ],
      "text/plain": [
       "<IPython.core.display.HTML object>"
      ]
     },
     "metadata": {},
     "output_type": "display_data"
    },
    {
     "data": {
      "text/html": [
       "\n",
       "        <div id=\"kPW4mHgfWxpip8MBDu5FmU\"></div>\n",
       "        <script>netpixi.call('kPW4mHgfWxpip8MBDu5FmU', 'BG6GNWMZUSpdkKQEjvjRxv', 'changeGraph', 'eyJpZCI6IDgzLCAidHlwZSI6ICJ2ZXJ0ZXgiLCAicHJvcHMiOiB7ImNvbG9yIjogMTY3MTE2ODB9fQo=');</script>\n",
       "    "
      ],
      "text/plain": [
       "<IPython.core.display.HTML object>"
      ]
     },
     "metadata": {},
     "output_type": "display_data"
    },
    {
     "data": {
      "text/html": [
       "\n",
       "        <div id=\"RjeWKNLbhzTUaDDQiRw562\"></div>\n",
       "        <script>netpixi.call('RjeWKNLbhzTUaDDQiRw562', 'BG6GNWMZUSpdkKQEjvjRxv', 'changeGraph', 'eyJpZCI6IDc0LCAidHlwZSI6ICJ2ZXJ0ZXgiLCAicHJvcHMiOiB7InNpemUiOiAxNC4wMTY3MzY0MDE2NzM2NH19Cg==');</script>\n",
       "    "
      ],
      "text/plain": [
       "<IPython.core.display.HTML object>"
      ]
     },
     "metadata": {},
     "output_type": "display_data"
    },
    {
     "data": {
      "text/html": [
       "\n",
       "        <div id=\"Jojg3tjkLbbrZy5TGpBu3T\"></div>\n",
       "        <script>netpixi.call('Jojg3tjkLbbrZy5TGpBu3T', 'BG6GNWMZUSpdkKQEjvjRxv', 'changeGraph', 'eyJpZCI6IDc5LCAidHlwZSI6ICJ2ZXJ0ZXgiLCAicHJvcHMiOiB7ImNvbG9yIjogMTY3MTE2ODB9fQo=');</script>\n",
       "    "
      ],
      "text/plain": [
       "<IPython.core.display.HTML object>"
      ]
     },
     "metadata": {},
     "output_type": "display_data"
    },
    {
     "data": {
      "text/html": [
       "\n",
       "        <div id=\"buiE7Xovbtk3Dg9ozsyxJE\"></div>\n",
       "        <script>netpixi.call('buiE7Xovbtk3Dg9ozsyxJE', 'BG6GNWMZUSpdkKQEjvjRxv', 'changeGraph', 'eyJpZCI6IDc1LCAidHlwZSI6ICJ2ZXJ0ZXgiLCAicHJvcHMiOiB7InNpemUiOiA0Mi4xNjY2NjY2NjY2NjY2N319Cg==');</script>\n",
       "    "
      ],
      "text/plain": [
       "<IPython.core.display.HTML object>"
      ]
     },
     "metadata": {},
     "output_type": "display_data"
    },
    {
     "data": {
      "text/html": [
       "\n",
       "        <div id=\"F2MA5ZjCXoqiSW9cLaG6rH\"></div>\n",
       "        <script>netpixi.call('F2MA5ZjCXoqiSW9cLaG6rH', 'BG6GNWMZUSpdkKQEjvjRxv', 'changeGraph', 'eyJpZCI6IDgxLCAidHlwZSI6ICJ2ZXJ0ZXgiLCAicHJvcHMiOiB7ImNvbG9yIjogMTY3MTE2ODB9fQo=');</script>\n",
       "    "
      ],
      "text/plain": [
       "<IPython.core.display.HTML object>"
      ]
     },
     "metadata": {},
     "output_type": "display_data"
    },
    {
     "data": {
      "text/html": [
       "\n",
       "        <div id=\"Jec8JBjmr2ErdEYL39n4hx\"></div>\n",
       "        <script>netpixi.call('Jec8JBjmr2ErdEYL39n4hx', 'BG6GNWMZUSpdkKQEjvjRxv', 'changeGraph', 'eyJpZCI6IDc2LCAidHlwZSI6ICJ2ZXJ0ZXgiLCAicHJvcHMiOiB7InNpemUiOiA0OS44MzMzMzMzMzMzMzMzMzZ9fQo=');</script>\n",
       "    "
      ],
      "text/plain": [
       "<IPython.core.display.HTML object>"
      ]
     },
     "metadata": {},
     "output_type": "display_data"
    },
    {
     "data": {
      "text/html": [
       "\n",
       "        <div id=\"K9GR9NWPJ3PdDYgRHMjKrb\"></div>\n",
       "        <script>netpixi.call('K9GR9NWPJ3PdDYgRHMjKrb', 'BG6GNWMZUSpdkKQEjvjRxv', 'changeGraph', 'eyJpZCI6IDgyLCAidHlwZSI6ICJ2ZXJ0ZXgiLCAicHJvcHMiOiB7ImNvbG9yIjogMTY3MTE2ODB9fQo=');</script>\n",
       "    "
      ],
      "text/plain": [
       "<IPython.core.display.HTML object>"
      ]
     },
     "metadata": {},
     "output_type": "display_data"
    },
    {
     "data": {
      "text/html": [
       "\n",
       "        <div id=\"9uWG5peZdHtG3VLWMEMdfd\"></div>\n",
       "        <script>netpixi.call('9uWG5peZdHtG3VLWMEMdfd', 'BG6GNWMZUSpdkKQEjvjRxv', 'changeGraph', 'eyJpZCI6IDc3LCAidHlwZSI6ICJ2ZXJ0ZXgiLCAicHJvcHMiOiB7InNpemUiOiAxOC44Mjg0NTE4ODI4NDUxODd9fQo=');</script>\n",
       "    "
      ],
      "text/plain": [
       "<IPython.core.display.HTML object>"
      ]
     },
     "metadata": {},
     "output_type": "display_data"
    },
    {
     "data": {
      "text/html": [
       "\n",
       "        <div id=\"5U5LYUbTJVYdJkHDimCj5N\"></div>\n",
       "        <script>netpixi.call('5U5LYUbTJVYdJkHDimCj5N', 'BG6GNWMZUSpdkKQEjvjRxv', 'changeGraph', 'eyJpZCI6IDY3LCAidHlwZSI6ICJ2ZXJ0ZXgiLCAicHJvcHMiOiB7ImNvbG9yIjogMTY3MTE2ODB9fQo=');</script>\n",
       "    "
      ],
      "text/plain": [
       "<IPython.core.display.HTML object>"
      ]
     },
     "metadata": {},
     "output_type": "display_data"
    },
    {
     "data": {
      "text/html": [
       "\n",
       "        <div id=\"b8MpfYaP46KG9jVBMVxubb\"></div>\n",
       "        <script>netpixi.call('b8MpfYaP46KG9jVBMVxubb', 'BG6GNWMZUSpdkKQEjvjRxv', 'changeGraph', 'eyJpZCI6IDc4LCAidHlwZSI6ICJ2ZXJ0ZXgiLCAicHJvcHMiOiB7InNpemUiOiAxNC44MTE3MTU0ODExNzE1NDh9fQo=');</script>\n",
       "    "
      ],
      "text/plain": [
       "<IPython.core.display.HTML object>"
      ]
     },
     "metadata": {},
     "output_type": "display_data"
    },
    {
     "data": {
      "text/html": [
       "\n",
       "        <div id=\"S2FCHVUZYz3wmGfR7EdWju\"></div>\n",
       "        <script>netpixi.call('S2FCHVUZYz3wmGfR7EdWju', 'BG6GNWMZUSpdkKQEjvjRxv', 'changeGraph', 'eyJpZCI6IDc4LCAidHlwZSI6ICJ2ZXJ0ZXgiLCAicHJvcHMiOiB7ImNvbG9yIjogMTY3MTE2ODB9fQo=');</script>\n",
       "    "
      ],
      "text/plain": [
       "<IPython.core.display.HTML object>"
      ]
     },
     "metadata": {},
     "output_type": "display_data"
    },
    {
     "data": {
      "text/html": [
       "\n",
       "        <div id=\"jZe7rF2t3aVDTFDeB3RzvN\"></div>\n",
       "        <script>netpixi.call('jZe7rF2t3aVDTFDeB3RzvN', 'BG6GNWMZUSpdkKQEjvjRxv', 'changeGraph', 'eyJpZCI6IDc5LCAidHlwZSI6ICJ2ZXJ0ZXgiLCAicHJvcHMiOiB7InNpemUiOiAxOS42NjUyNzE5NjY1MjcxOTd9fQo=');</script>\n",
       "    "
      ],
      "text/plain": [
       "<IPython.core.display.HTML object>"
      ]
     },
     "metadata": {},
     "output_type": "display_data"
    },
    {
     "data": {
      "text/html": [
       "\n",
       "        <div id=\"jcW9EvFEFQFxWVfHjwbVEi\"></div>\n",
       "        <script>netpixi.call('jcW9EvFEFQFxWVfHjwbVEi', 'BG6GNWMZUSpdkKQEjvjRxv', 'changeGraph', 'eyJpZCI6IDgxLCAidHlwZSI6ICJ2ZXJ0ZXgiLCAicHJvcHMiOiB7ImNvbG9yIjogMTY3MTE2ODB9fQo=');</script>\n",
       "    "
      ],
      "text/plain": [
       "<IPython.core.display.HTML object>"
      ]
     },
     "metadata": {},
     "output_type": "display_data"
    },
    {
     "data": {
      "text/html": [
       "\n",
       "        <div id=\"GcPirWP7wQQoqyC7FQCDzm\"></div>\n",
       "        <script>netpixi.call('GcPirWP7wQQoqyC7FQCDzm', 'BG6GNWMZUSpdkKQEjvjRxv', 'changeGraph', 'eyJpZCI6IDgwLCAidHlwZSI6ICJ2ZXJ0ZXgiLCAicHJvcHMiOiB7InNpemUiOiA0MC4xNjY2NjY2NjY2NjY2NjR9fQo=');</script>\n",
       "    "
      ],
      "text/plain": [
       "<IPython.core.display.HTML object>"
      ]
     },
     "metadata": {},
     "output_type": "display_data"
    },
    {
     "data": {
      "text/html": [
       "\n",
       "        <div id=\"VsDMQTfSVNo24m7twsJiLZ\"></div>\n",
       "        <script>netpixi.call('VsDMQTfSVNo24m7twsJiLZ', 'BG6GNWMZUSpdkKQEjvjRxv', 'changeGraph', 'eyJpZCI6IDcxLCAidHlwZSI6ICJ2ZXJ0ZXgiLCAicHJvcHMiOiB7ImNvbG9yIjogMTY3MTE2ODB9fQo=');</script>\n",
       "    "
      ],
      "text/plain": [
       "<IPython.core.display.HTML object>"
      ]
     },
     "metadata": {},
     "output_type": "display_data"
    },
    {
     "data": {
      "text/html": [
       "\n",
       "        <div id=\"MfCsHv8jATQnH3AR6ntwcA\"></div>\n",
       "        <script>netpixi.call('MfCsHv8jATQnH3AR6ntwcA', 'BG6GNWMZUSpdkKQEjvjRxv', 'changeGraph', 'eyJpZCI6IDgxLCAidHlwZSI6ICJ2ZXJ0ZXgiLCAicHJvcHMiOiB7InNpemUiOiAxNS41NjQ4NTM1NTY0ODUzNTV9fQo=');</script>\n",
       "    "
      ],
      "text/plain": [
       "<IPython.core.display.HTML object>"
      ]
     },
     "metadata": {},
     "output_type": "display_data"
    },
    {
     "data": {
      "text/html": [
       "\n",
       "        <div id=\"EycPFwRHDCwFzkmxvDAvKi\"></div>\n",
       "        <script>netpixi.call('EycPFwRHDCwFzkmxvDAvKi', 'BG6GNWMZUSpdkKQEjvjRxv', 'changeGraph', 'eyJpZCI6IDUzLCAidHlwZSI6ICJ2ZXJ0ZXgiLCAicHJvcHMiOiB7ImNvbG9yIjogMTY3MTE2ODB9fQo=');</script>\n",
       "    "
      ],
      "text/plain": [
       "<IPython.core.display.HTML object>"
      ]
     },
     "metadata": {},
     "output_type": "display_data"
    },
    {
     "data": {
      "text/html": [
       "\n",
       "        <div id=\"PTrYSpimgqGtcv7umUQTtb\"></div>\n",
       "        <script>netpixi.call('PTrYSpimgqGtcv7umUQTtb', 'BG6GNWMZUSpdkKQEjvjRxv', 'changeGraph', 'eyJpZCI6IDgyLCAidHlwZSI6ICJ2ZXJ0ZXgiLCAicHJvcHMiOiB7InNpemUiOiA0Mi4zMzMzMzMzMzMzMzMzMzZ9fQo=');</script>\n",
       "    "
      ],
      "text/plain": [
       "<IPython.core.display.HTML object>"
      ]
     },
     "metadata": {},
     "output_type": "display_data"
    },
    {
     "data": {
      "text/html": [
       "\n",
       "        <div id=\"QQzs86vnzgzYThdia78DmN\"></div>\n",
       "        <script>netpixi.call('QQzs86vnzgzYThdia78DmN', 'BG6GNWMZUSpdkKQEjvjRxv', 'changeGraph', 'eyJpZCI6IDc0LCAidHlwZSI6ICJ2ZXJ0ZXgiLCAicHJvcHMiOiB7ImNvbG9yIjogMTY3MTE2ODB9fQo=');</script>\n",
       "    "
      ],
      "text/plain": [
       "<IPython.core.display.HTML object>"
      ]
     },
     "metadata": {},
     "output_type": "display_data"
    },
    {
     "data": {
      "text/html": [
       "\n",
       "        <div id=\"LXdDjaYf432yZG83xvAn7g\"></div>\n",
       "        <script>netpixi.call('LXdDjaYf432yZG83xvAn7g', 'BG6GNWMZUSpdkKQEjvjRxv', 'changeGraph', 'eyJpZCI6IDgzLCAidHlwZSI6ICJ2ZXJ0ZXgiLCAicHJvcHMiOiB7InNpemUiOiAxNS4xNDY0NDM1MTQ2NDQzNX19Cg==');</script>\n",
       "    "
      ],
      "text/plain": [
       "<IPython.core.display.HTML object>"
      ]
     },
     "metadata": {},
     "output_type": "display_data"
    },
    {
     "data": {
      "text/html": [
       "\n",
       "        <div id=\"5UfrZeaFmr6kGxtWHv75GS\"></div>\n",
       "        <script>netpixi.call('5UfrZeaFmr6kGxtWHv75GS', 'BG6GNWMZUSpdkKQEjvjRxv', 'changeGraph', 'eyJpZCI6IDgzLCAidHlwZSI6ICJ2ZXJ0ZXgiLCAicHJvcHMiOiB7ImNvbG9yIjogMTY3MTE2ODB9fQo=');</script>\n",
       "    "
      ],
      "text/plain": [
       "<IPython.core.display.HTML object>"
      ]
     },
     "metadata": {},
     "output_type": "display_data"
    },
    {
     "data": {
      "text/html": [
       "\n",
       "        <div id=\"F3FSMxLxxi4CGr65CWYXVm\"></div>\n",
       "        <script>netpixi.call('F3FSMxLxxi4CGr65CWYXVm', 'BG6GNWMZUSpdkKQEjvjRxv', 'changeGraph', 'eyJpZCI6IDg0LCAidHlwZSI6ICJ2ZXJ0ZXgiLCAicHJvcHMiOiB7InNpemUiOiAxMy43MjM4NDkzNzIzODQ5Mzd9fQo=');</script>\n",
       "    "
      ],
      "text/plain": [
       "<IPython.core.display.HTML object>"
      ]
     },
     "metadata": {},
     "output_type": "display_data"
    },
    {
     "data": {
      "text/html": [
       "\n",
       "        <div id=\"FBZWS49euMEuamorUXRTMG\"></div>\n",
       "        <script>netpixi.call('FBZWS49euMEuamorUXRTMG', 'BG6GNWMZUSpdkKQEjvjRxv', 'changeGraph', 'eyJpZCI6IDgwLCAidHlwZSI6ICJ2ZXJ0ZXgiLCAicHJvcHMiOiB7ImNvbG9yIjogMTY3MTE2ODB9fQo=');</script>\n",
       "    "
      ],
      "text/plain": [
       "<IPython.core.display.HTML object>"
      ]
     },
     "metadata": {},
     "output_type": "display_data"
    },
    {
     "data": {
      "text/html": [
       "\n",
       "        <div id=\"4z8JEDWz3xTkouqj3kp6kE\"></div>\n",
       "        <script>netpixi.call('4z8JEDWz3xTkouqj3kp6kE', 'BG6GNWMZUSpdkKQEjvjRxv', 'changeGraph', 'eyJpZCI6IDg1LCAidHlwZSI6ICJ2ZXJ0ZXgiLCAicHJvcHMiOiB7InNpemUiOiA0My44MzMzMzMzMzMzMzMzMzZ9fQo=');</script>\n",
       "    "
      ],
      "text/plain": [
       "<IPython.core.display.HTML object>"
      ]
     },
     "metadata": {},
     "output_type": "display_data"
    },
    {
     "data": {
      "text/html": [
       "\n",
       "        <div id=\"fjtDgyuW7JodR5xro5zrUd\"></div>\n",
       "        <script>netpixi.call('fjtDgyuW7JodR5xro5zrUd', 'BG6GNWMZUSpdkKQEjvjRxv', 'changeGraph', 'eyJpZCI6IDg0LCAidHlwZSI6ICJ2ZXJ0ZXgiLCAicHJvcHMiOiB7ImNvbG9yIjogMTY3MTE2ODB9fQo=');</script>\n",
       "    "
      ],
      "text/plain": [
       "<IPython.core.display.HTML object>"
      ]
     },
     "metadata": {},
     "output_type": "display_data"
    },
    {
     "data": {
      "text/html": [
       "\n",
       "        <div id=\"2XUue3UnAe5GwRjAMUDKCv\"></div>\n",
       "        <script>netpixi.call('2XUue3UnAe5GwRjAMUDKCv', 'BG6GNWMZUSpdkKQEjvjRxv', 'changeGraph', 'eyJpZCI6IDg2LCAidHlwZSI6ICJ2ZXJ0ZXgiLCAicHJvcHMiOiB7InNpemUiOiAxMi42MzU5ODMyNjM1OTgzMjd9fQo=');</script>\n",
       "    "
      ],
      "text/plain": [
       "<IPython.core.display.HTML object>"
      ]
     },
     "metadata": {},
     "output_type": "display_data"
    },
    {
     "data": {
      "text/html": [
       "\n",
       "        <div id=\"oFMd5w33DngkeYLCXKAvZq\"></div>\n",
       "        <script>netpixi.call('oFMd5w33DngkeYLCXKAvZq', 'BG6GNWMZUSpdkKQEjvjRxv', 'changeGraph', 'eyJpZCI6IDkzLCAidHlwZSI6ICJ2ZXJ0ZXgiLCAicHJvcHMiOiB7ImNvbG9yIjogMTY3MTE2ODB9fQo=');</script>\n",
       "    "
      ],
      "text/plain": [
       "<IPython.core.display.HTML object>"
      ]
     },
     "metadata": {},
     "output_type": "display_data"
    },
    {
     "data": {
      "text/html": [
       "\n",
       "        <div id=\"gxjkxbo8WtyNr8SHTtygJ3\"></div>\n",
       "        <script>netpixi.call('gxjkxbo8WtyNr8SHTtygJ3', 'BG6GNWMZUSpdkKQEjvjRxv', 'changeGraph', 'eyJpZCI6IDg3LCAidHlwZSI6ICJ2ZXJ0ZXgiLCAicHJvcHMiOiB7InNpemUiOiAxNy4wMjkyODg3MDI5Mjg4N319Cg==');</script>\n",
       "    "
      ],
      "text/plain": [
       "<IPython.core.display.HTML object>"
      ]
     },
     "metadata": {},
     "output_type": "display_data"
    },
    {
     "data": {
      "text/html": [
       "\n",
       "        <div id=\"jhQUGkUTJceyS6dGcXZLbS\"></div>\n",
       "        <script>netpixi.call('jhQUGkUTJceyS6dGcXZLbS', 'BG6GNWMZUSpdkKQEjvjRxv', 'changeGraph', 'eyJpZCI6IDc1LCAidHlwZSI6ICJ2ZXJ0ZXgiLCAicHJvcHMiOiB7ImNvbG9yIjogMTY3MTE2ODB9fQo=');</script>\n",
       "    "
      ],
      "text/plain": [
       "<IPython.core.display.HTML object>"
      ]
     },
     "metadata": {},
     "output_type": "display_data"
    },
    {
     "data": {
      "text/html": [
       "\n",
       "        <div id=\"d3oMAGXPHv8QtBJyZSudef\"></div>\n",
       "        <script>netpixi.call('d3oMAGXPHv8QtBJyZSudef', 'BG6GNWMZUSpdkKQEjvjRxv', 'changeGraph', 'eyJpZCI6IDg4LCAidHlwZSI6ICJ2ZXJ0ZXgiLCAicHJvcHMiOiB7InNpemUiOiA0MC44MzMzMzMzMzMzMzMzMzZ9fQo=');</script>\n",
       "    "
      ],
      "text/plain": [
       "<IPython.core.display.HTML object>"
      ]
     },
     "metadata": {},
     "output_type": "display_data"
    },
    {
     "data": {
      "text/html": [
       "\n",
       "        <div id=\"jg44VRRZwxXEwYM7yy8VyS\"></div>\n",
       "        <script>netpixi.call('jg44VRRZwxXEwYM7yy8VyS', 'BG6GNWMZUSpdkKQEjvjRxv', 'changeGraph', 'eyJpZCI6IDg1LCAidHlwZSI6ICJ2ZXJ0ZXgiLCAicHJvcHMiOiB7ImNvbG9yIjogMTY3MTE2ODB9fQo=');</script>\n",
       "    "
      ],
      "text/plain": [
       "<IPython.core.display.HTML object>"
      ]
     },
     "metadata": {},
     "output_type": "display_data"
    },
    {
     "data": {
      "text/html": [
       "\n",
       "        <div id=\"7UobiKnSwXcbibCjTpbmvH\"></div>\n",
       "        <script>netpixi.call('7UobiKnSwXcbibCjTpbmvH', 'BG6GNWMZUSpdkKQEjvjRxv', 'changeGraph', 'eyJpZCI6IDg5LCAidHlwZSI6ICJ2ZXJ0ZXgiLCAicHJvcHMiOiB7InNpemUiOiAxNy45NDk3OTA3OTQ5NzkwOH19Cg==');</script>\n",
       "    "
      ],
      "text/plain": [
       "<IPython.core.display.HTML object>"
      ]
     },
     "metadata": {},
     "output_type": "display_data"
    },
    {
     "data": {
      "text/html": [
       "\n",
       "        <div id=\"FvZHwmqwKAJaCwv4CjVNEX\"></div>\n",
       "        <script>netpixi.call('FvZHwmqwKAJaCwv4CjVNEX', 'BG6GNWMZUSpdkKQEjvjRxv', 'changeGraph', 'eyJpZCI6IDc5LCAidHlwZSI6ICJ2ZXJ0ZXgiLCAicHJvcHMiOiB7ImNvbG9yIjogMTY3MTE2ODB9fQo=');</script>\n",
       "    "
      ],
      "text/plain": [
       "<IPython.core.display.HTML object>"
      ]
     },
     "metadata": {},
     "output_type": "display_data"
    },
    {
     "data": {
      "text/html": [
       "\n",
       "        <div id=\"LUCk2UzumHiJyQwDxB8s9x\"></div>\n",
       "        <script>netpixi.call('LUCk2UzumHiJyQwDxB8s9x', 'BG6GNWMZUSpdkKQEjvjRxv', 'changeGraph', 'eyJpZCI6IDkwLCAidHlwZSI6ICJ2ZXJ0ZXgiLCAicHJvcHMiOiB7InNpemUiOiAxOS4zMzA1NDM5MzMwNTQzOTN9fQo=');</script>\n",
       "    "
      ],
      "text/plain": [
       "<IPython.core.display.HTML object>"
      ]
     },
     "metadata": {},
     "output_type": "display_data"
    },
    {
     "data": {
      "text/html": [
       "\n",
       "        <div id=\"dzXptCRSsHfpwQ8YC2A7ew\"></div>\n",
       "        <script>netpixi.call('dzXptCRSsHfpwQ8YC2A7ew', 'BG6GNWMZUSpdkKQEjvjRxv', 'changeGraph', 'eyJpZCI6IDgyLCAidHlwZSI6ICJ2ZXJ0ZXgiLCAicHJvcHMiOiB7ImNvbG9yIjogMTY3MTE2ODB9fQo=');</script>\n",
       "    "
      ],
      "text/plain": [
       "<IPython.core.display.HTML object>"
      ]
     },
     "metadata": {},
     "output_type": "display_data"
    },
    {
     "data": {
      "text/html": [
       "\n",
       "        <div id=\"EzAzgcrphaWZ7g9oZxHxYT\"></div>\n",
       "        <script>netpixi.call('EzAzgcrphaWZ7g9oZxHxYT', 'BG6GNWMZUSpdkKQEjvjRxv', 'changeGraph', 'eyJpZCI6IDkxLCAidHlwZSI6ICJ2ZXJ0ZXgiLCAicHJvcHMiOiB7InNpemUiOiAxMy4wMTI1NTIzMDEyNTUyM319Cg==');</script>\n",
       "    "
      ],
      "text/plain": [
       "<IPython.core.display.HTML object>"
      ]
     },
     "metadata": {},
     "output_type": "display_data"
    },
    {
     "data": {
      "text/html": [
       "\n",
       "        <div id=\"GnQKY2775EKoBbbbgfyhkU\"></div>\n",
       "        <script>netpixi.call('GnQKY2775EKoBbbbgfyhkU', 'BG6GNWMZUSpdkKQEjvjRxv', 'changeGraph', 'eyJpZCI6IDgzLCAidHlwZSI6ICJ2ZXJ0ZXgiLCAicHJvcHMiOiB7ImNvbG9yIjogMTY3MTE2ODB9fQo=');</script>\n",
       "    "
      ],
      "text/plain": [
       "<IPython.core.display.HTML object>"
      ]
     },
     "metadata": {},
     "output_type": "display_data"
    },
    {
     "data": {
      "text/html": [
       "\n",
       "        <div id=\"XJ4eps2DFtGn3JRmeKSwSa\"></div>\n",
       "        <script>netpixi.call('XJ4eps2DFtGn3JRmeKSwSa', 'BG6GNWMZUSpdkKQEjvjRxv', 'changeGraph', 'eyJpZCI6IDkyLCAidHlwZSI6ICJ2ZXJ0ZXgiLCAicHJvcHMiOiB7InNpemUiOiAxMC41ODU3NzQwNTg1Nzc0MDd9fQo=');</script>\n",
       "    "
      ],
      "text/plain": [
       "<IPython.core.display.HTML object>"
      ]
     },
     "metadata": {},
     "output_type": "display_data"
    },
    {
     "data": {
      "text/html": [
       "\n",
       "        <div id=\"ZHUo2LxsDaKpRNXYXfvWuH\"></div>\n",
       "        <script>netpixi.call('ZHUo2LxsDaKpRNXYXfvWuH', 'BG6GNWMZUSpdkKQEjvjRxv', 'changeGraph', 'eyJpZCI6IDc2LCAidHlwZSI6ICJ2ZXJ0ZXgiLCAicHJvcHMiOiB7ImNvbG9yIjogMTY3MTE2ODB9fQo=');</script>\n",
       "    "
      ],
      "text/plain": [
       "<IPython.core.display.HTML object>"
      ]
     },
     "metadata": {},
     "output_type": "display_data"
    },
    {
     "data": {
      "text/html": [
       "\n",
       "        <div id=\"JYpaawT9MkxfNjTU5prNUv\"></div>\n",
       "        <script>netpixi.call('JYpaawT9MkxfNjTU5prNUv', 'BG6GNWMZUSpdkKQEjvjRxv', 'changeGraph', 'eyJpZCI6IDkzLCAidHlwZSI6ICJ2ZXJ0ZXgiLCAicHJvcHMiOiB7InNpemUiOiAxMS40NjQ0MzUxNDY0NDM1MTV9fQo=');</script>\n",
       "    "
      ],
      "text/plain": [
       "<IPython.core.display.HTML object>"
      ]
     },
     "metadata": {},
     "output_type": "display_data"
    },
    {
     "data": {
      "text/html": [
       "\n",
       "        <div id=\"KbmLhqtuG4NuWh4NU5jh3B\"></div>\n",
       "        <script>netpixi.call('KbmLhqtuG4NuWh4NU5jh3B', 'BG6GNWMZUSpdkKQEjvjRxv', 'changeGraph', 'eyJpZCI6IDgyLCAidHlwZSI6ICJ2ZXJ0ZXgiLCAicHJvcHMiOiB7ImNvbG9yIjogMTY3MTE2ODB9fQo=');</script>\n",
       "    "
      ],
      "text/plain": [
       "<IPython.core.display.HTML object>"
      ]
     },
     "metadata": {},
     "output_type": "display_data"
    },
    {
     "data": {
      "text/html": [
       "\n",
       "        <div id=\"JRhRV3ZzVWh2cWS8UdXToj\"></div>\n",
       "        <script>netpixi.call('JRhRV3ZzVWh2cWS8UdXToj', 'BG6GNWMZUSpdkKQEjvjRxv', 'changeGraph', 'eyJpZCI6IDk0LCAidHlwZSI6ICJ2ZXJ0ZXgiLCAicHJvcHMiOiB7InNpemUiOiA0NS44MzMzMzMzMzMzMzMzMzZ9fQo=');</script>\n",
       "    "
      ],
      "text/plain": [
       "<IPython.core.display.HTML object>"
      ]
     },
     "metadata": {},
     "output_type": "display_data"
    },
    {
     "data": {
      "text/html": [
       "\n",
       "        <div id=\"F3k2W9XeymqkNiWhMXezco\"></div>\n",
       "        <script>netpixi.call('F3k2W9XeymqkNiWhMXezco', 'BG6GNWMZUSpdkKQEjvjRxv', 'changeGraph', 'eyJpZCI6IDcxLCAidHlwZSI6ICJ2ZXJ0ZXgiLCAicHJvcHMiOiB7ImNvbG9yIjogMTY3MTE2ODB9fQo=');</script>\n",
       "    "
      ],
      "text/plain": [
       "<IPython.core.display.HTML object>"
      ]
     },
     "metadata": {},
     "output_type": "display_data"
    },
    {
     "data": {
      "text/html": [
       "\n",
       "        <div id=\"4KxMB5t3KiY2P2cHq4qav8\"></div>\n",
       "        <script>netpixi.call('4KxMB5t3KiY2P2cHq4qav8', 'BG6GNWMZUSpdkKQEjvjRxv', 'changeGraph', 'eyJpZCI6IDk1LCAidHlwZSI6ICJ2ZXJ0ZXgiLCAicHJvcHMiOiB7InNpemUiOiAxMC42Njk0NTYwNjY5NDU2MDd9fQo=');</script>\n",
       "    "
      ],
      "text/plain": [
       "<IPython.core.display.HTML object>"
      ]
     },
     "metadata": {},
     "output_type": "display_data"
    },
    {
     "data": {
      "text/html": [
       "\n",
       "        <div id=\"mrB3xB36XSfvSvzh6A6BYt\"></div>\n",
       "        <script>netpixi.call('mrB3xB36XSfvSvzh6A6BYt', 'BG6GNWMZUSpdkKQEjvjRxv', 'changeGraph', 'eyJpZCI6IDY1LCAidHlwZSI6ICJ2ZXJ0ZXgiLCAicHJvcHMiOiB7ImNvbG9yIjogMTY3MTE2ODB9fQo=');</script>\n",
       "    "
      ],
      "text/plain": [
       "<IPython.core.display.HTML object>"
      ]
     },
     "metadata": {},
     "output_type": "display_data"
    },
    {
     "data": {
      "text/html": [
       "\n",
       "        <div id=\"4Ukb9G4pozC4Nxz9zSvoS5\"></div>\n",
       "        <script>netpixi.call('4Ukb9G4pozC4Nxz9zSvoS5', 'BG6GNWMZUSpdkKQEjvjRxv', 'changeGraph', 'eyJpZCI6IDk2LCAidHlwZSI6ICJ2ZXJ0ZXgiLCAicHJvcHMiOiB7InNpemUiOiAxOC4wNzUzMTM4MDc1MzEzOH19Cg==');</script>\n",
       "    "
      ],
      "text/plain": [
       "<IPython.core.display.HTML object>"
      ]
     },
     "metadata": {},
     "output_type": "display_data"
    },
    {
     "data": {
      "text/html": [
       "\n",
       "        <div id=\"S9cnv2KAJ53CEh7sz4wQgr\"></div>\n",
       "        <script>netpixi.call('S9cnv2KAJ53CEh7sz4wQgr', 'BG6GNWMZUSpdkKQEjvjRxv', 'changeGraph', 'eyJpZCI6IDg5LCAidHlwZSI6ICJ2ZXJ0ZXgiLCAicHJvcHMiOiB7ImNvbG9yIjogMTY3MTE2ODB9fQo=');</script>\n",
       "    "
      ],
      "text/plain": [
       "<IPython.core.display.HTML object>"
      ]
     },
     "metadata": {},
     "output_type": "display_data"
    },
    {
     "data": {
      "text/html": [
       "\n",
       "        <div id=\"iyFq5Xz3ZzufenHvs9Xvfn\"></div>\n",
       "        <script>netpixi.call('iyFq5Xz3ZzufenHvs9Xvfn', 'BG6GNWMZUSpdkKQEjvjRxv', 'changeGraph', 'eyJpZCI6IDk3LCAidHlwZSI6ICJ2ZXJ0ZXgiLCAicHJvcHMiOiB7InNpemUiOiAxNS4zMTM4MDc1MzEzODA3NTN9fQo=');</script>\n",
       "    "
      ],
      "text/plain": [
       "<IPython.core.display.HTML object>"
      ]
     },
     "metadata": {},
     "output_type": "display_data"
    },
    {
     "data": {
      "text/html": [
       "\n",
       "        <div id=\"RDtqH9tAgbwz5eVdDM4Ghi\"></div>\n",
       "        <script>netpixi.call('RDtqH9tAgbwz5eVdDM4Ghi', 'BG6GNWMZUSpdkKQEjvjRxv', 'changeGraph', 'eyJpZCI6IDczLCAidHlwZSI6ICJ2ZXJ0ZXgiLCAicHJvcHMiOiB7ImNvbG9yIjogMTY3MTE2ODB9fQo=');</script>\n",
       "    "
      ],
      "text/plain": [
       "<IPython.core.display.HTML object>"
      ]
     },
     "metadata": {},
     "output_type": "display_data"
    },
    {
     "data": {
      "text/html": [
       "\n",
       "        <div id=\"VtMnqKfS8f73xgYetDoSqA\"></div>\n",
       "        <script>netpixi.call('VtMnqKfS8f73xgYetDoSqA', 'BG6GNWMZUSpdkKQEjvjRxv', 'changeGraph', 'eyJpZCI6IDk4LCAidHlwZSI6ICJ2ZXJ0ZXgiLCAicHJvcHMiOiB7InNpemUiOiAxMi4yMTc1NzMyMjE3NTczMjJ9fQo=');</script>\n",
       "    "
      ],
      "text/plain": [
       "<IPython.core.display.HTML object>"
      ]
     },
     "metadata": {},
     "output_type": "display_data"
    },
    {
     "data": {
      "text/html": [
       "\n",
       "        <div id=\"VPqu9pyVVuhMuzB27giktq\"></div>\n",
       "        <script>netpixi.call('VPqu9pyVVuhMuzB27giktq', 'BG6GNWMZUSpdkKQEjvjRxv', 'changeGraph', 'eyJpZCI6IDcyLCAidHlwZSI6ICJ2ZXJ0ZXgiLCAicHJvcHMiOiB7ImNvbG9yIjogMTY3MTE2ODB9fQo=');</script>\n",
       "    "
      ],
      "text/plain": [
       "<IPython.core.display.HTML object>"
      ]
     },
     "metadata": {},
     "output_type": "display_data"
    },
    {
     "data": {
      "text/html": [
       "\n",
       "        <div id=\"kLxBvAM4xsuTpkHro7F9kq\"></div>\n",
       "        <script>netpixi.call('kLxBvAM4xsuTpkHro7F9kq', 'BG6GNWMZUSpdkKQEjvjRxv', 'changeGraph', 'eyJpZCI6IDk5LCAidHlwZSI6ICJ2ZXJ0ZXgiLCAicHJvcHMiOiB7InNpemUiOiAxMS42NzM2NDAxNjczNjQwMTd9fQo=');</script>\n",
       "    "
      ],
      "text/plain": [
       "<IPython.core.display.HTML object>"
      ]
     },
     "metadata": {},
     "output_type": "display_data"
    },
    {
     "data": {
      "text/html": [
       "\n",
       "        <div id=\"nyHrioaLsqu2R8hsrU3iSp\"></div>\n",
       "        <script>netpixi.call('nyHrioaLsqu2R8hsrU3iSp', 'BG6GNWMZUSpdkKQEjvjRxv', 'changeGraph', 'eyJpZCI6IDc1LCAidHlwZSI6ICJ2ZXJ0ZXgiLCAicHJvcHMiOiB7ImNvbG9yIjogMTY3MTE2ODB9fQo=');</script>\n",
       "    "
      ],
      "text/plain": [
       "<IPython.core.display.HTML object>"
      ]
     },
     "metadata": {},
     "output_type": "display_data"
    },
    {
     "data": {
      "text/html": [
       "\n",
       "        <div id=\"6Zv42b5ozbauLGRX5JrexR\"></div>\n",
       "        <script>netpixi.call('6Zv42b5ozbauLGRX5JrexR', 'BG6GNWMZUSpdkKQEjvjRxv', 'changeGraph', 'eyJpZCI6IDEwMCwgInR5cGUiOiAidmVydGV4IiwgInByb3BzIjogeyJzaXplIjogNDcuODMzMzMzMzMzMzMzMzN9fQo=');</script>\n",
       "    "
      ],
      "text/plain": [
       "<IPython.core.display.HTML object>"
      ]
     },
     "metadata": {},
     "output_type": "display_data"
    },
    {
     "data": {
      "text/html": [
       "\n",
       "        <div id=\"3pLC4J8jajun8GTqJ8TnNe\"></div>\n",
       "        <script>netpixi.call('3pLC4J8jajun8GTqJ8TnNe', 'BG6GNWMZUSpdkKQEjvjRxv', 'changeGraph', 'eyJpZCI6IDc3LCAidHlwZSI6ICJ2ZXJ0ZXgiLCAicHJvcHMiOiB7ImNvbG9yIjogMTY3MTE2ODB9fQo=');</script>\n",
       "    "
      ],
      "text/plain": [
       "<IPython.core.display.HTML object>"
      ]
     },
     "metadata": {},
     "output_type": "display_data"
    },
    {
     "data": {
      "text/html": [
       "\n",
       "        <div id=\"ThRmvpnk4L46MP2Dbnrvuq\"></div>\n",
       "        <script>netpixi.call('ThRmvpnk4L46MP2Dbnrvuq', 'BG6GNWMZUSpdkKQEjvjRxv', 'changeGraph', 'eyJpZCI6IDEwMSwgInR5cGUiOiAidmVydGV4IiwgInByb3BzIjogeyJzaXplIjogMTEuNTQ4MTE3MTU0ODExNzE1fX0K');</script>\n",
       "    "
      ],
      "text/plain": [
       "<IPython.core.display.HTML object>"
      ]
     },
     "metadata": {},
     "output_type": "display_data"
    },
    {
     "data": {
      "text/html": [
       "\n",
       "        <div id=\"BHh9q87yBZ7Pyi9VkxqexF\"></div>\n",
       "        <script>netpixi.call('BHh9q87yBZ7Pyi9VkxqexF', 'BG6GNWMZUSpdkKQEjvjRxv', 'changeGraph', 'eyJpZCI6IDg1LCAidHlwZSI6ICJ2ZXJ0ZXgiLCAicHJvcHMiOiB7ImNvbG9yIjogMTY3MTE2ODB9fQo=');</script>\n",
       "    "
      ],
      "text/plain": [
       "<IPython.core.display.HTML object>"
      ]
     },
     "metadata": {},
     "output_type": "display_data"
    },
    {
     "data": {
      "text/html": [
       "\n",
       "        <div id=\"cesPTgG4XpkGztxxaZEBJT\"></div>\n",
       "        <script>netpixi.call('cesPTgG4XpkGztxxaZEBJT', 'BG6GNWMZUSpdkKQEjvjRxv', 'changeGraph', 'eyJpZCI6IDEwMiwgInR5cGUiOiAidmVydGV4IiwgInByb3BzIjogeyJzaXplIjogMTMuNDcyODAzMzQ3MjgwMzMzfX0K');</script>\n",
       "    "
      ],
      "text/plain": [
       "<IPython.core.display.HTML object>"
      ]
     },
     "metadata": {},
     "output_type": "display_data"
    },
    {
     "data": {
      "text/html": [
       "\n",
       "        <div id=\"NaydgtWLRDP8t7f4jX5HVG\"></div>\n",
       "        <script>netpixi.call('NaydgtWLRDP8t7f4jX5HVG', 'BG6GNWMZUSpdkKQEjvjRxv', 'changeGraph', 'eyJpZCI6IDc2LCAidHlwZSI6ICJ2ZXJ0ZXgiLCAicHJvcHMiOiB7ImNvbG9yIjogMTY3MTE2ODB9fQo=');</script>\n",
       "    "
      ],
      "text/plain": [
       "<IPython.core.display.HTML object>"
      ]
     },
     "metadata": {},
     "output_type": "display_data"
    },
    {
     "data": {
      "text/html": [
       "\n",
       "        <div id=\"GQPy4mE5JKqMGsef48pxQM\"></div>\n",
       "        <script>netpixi.call('GQPy4mE5JKqMGsef48pxQM', 'BG6GNWMZUSpdkKQEjvjRxv', 'changeGraph', 'eyJpZCI6IDEwMywgInR5cGUiOiAidmVydGV4IiwgInByb3BzIjogeyJzaXplIjogMTguNDUxODgyODQ1MTg4MjgzfX0K');</script>\n",
       "    "
      ],
      "text/plain": [
       "<IPython.core.display.HTML object>"
      ]
     },
     "metadata": {},
     "output_type": "display_data"
    },
    {
     "data": {
      "text/html": [
       "\n",
       "        <div id=\"MJpQ6c4pbjpgDk2JukGiSh\"></div>\n",
       "        <script>netpixi.call('MJpQ6c4pbjpgDk2JukGiSh', 'BG6GNWMZUSpdkKQEjvjRxv', 'changeGraph', 'eyJpZCI6IDUzLCAidHlwZSI6ICJ2ZXJ0ZXgiLCAicHJvcHMiOiB7ImNvbG9yIjogMTY3MTE2ODB9fQo=');</script>\n",
       "    "
      ],
      "text/plain": [
       "<IPython.core.display.HTML object>"
      ]
     },
     "metadata": {},
     "output_type": "display_data"
    },
    {
     "data": {
      "text/html": [
       "\n",
       "        <div id=\"fPy8CBtVaz85B6JVEwr9mP\"></div>\n",
       "        <script>netpixi.call('fPy8CBtVaz85B6JVEwr9mP', 'BG6GNWMZUSpdkKQEjvjRxv', 'changeGraph', 'eyJpZCI6IDEwNCwgInR5cGUiOiAidmVydGV4IiwgInByb3BzIjogeyJzaXplIjogMTUuNjQ4NTM1NTY0ODUzNTU3fX0K');</script>\n",
       "    "
      ],
      "text/plain": [
       "<IPython.core.display.HTML object>"
      ]
     },
     "metadata": {},
     "output_type": "display_data"
    },
    {
     "data": {
      "text/html": [
       "\n",
       "        <div id=\"98JSjGUvxrvZQmD2XpggbT\"></div>\n",
       "        <script>netpixi.call('98JSjGUvxrvZQmD2XpggbT', 'BG6GNWMZUSpdkKQEjvjRxv', 'changeGraph', 'eyJpZCI6IDY4LCAidHlwZSI6ICJ2ZXJ0ZXgiLCAicHJvcHMiOiB7ImNvbG9yIjogMTY3MTE2ODB9fQo=');</script>\n",
       "    "
      ],
      "text/plain": [
       "<IPython.core.display.HTML object>"
      ]
     },
     "metadata": {},
     "output_type": "display_data"
    },
    {
     "data": {
      "text/html": [
       "\n",
       "        <div id=\"ZDpNpXthCcZQ4vsT946baQ\"></div>\n",
       "        <script>netpixi.call('ZDpNpXthCcZQ4vsT946baQ', 'BG6GNWMZUSpdkKQEjvjRxv', 'changeGraph', 'eyJpZCI6IDEwNSwgInR5cGUiOiAidmVydGV4IiwgInByb3BzIjogeyJzaXplIjogMTcuMDcxMTI5NzA3MTEyOTd9fQo=');</script>\n",
       "    "
      ],
      "text/plain": [
       "<IPython.core.display.HTML object>"
      ]
     },
     "metadata": {},
     "output_type": "display_data"
    },
    {
     "data": {
      "text/html": [
       "\n",
       "        <div id=\"JS9fc4ADmXCbm3suUWWXtr\"></div>\n",
       "        <script>netpixi.call('JS9fc4ADmXCbm3suUWWXtr', 'BG6GNWMZUSpdkKQEjvjRxv', 'changeGraph', 'eyJpZCI6IDg4LCAidHlwZSI6ICJ2ZXJ0ZXgiLCAicHJvcHMiOiB7ImNvbG9yIjogMTY3MTE2ODB9fQo=');</script>\n",
       "    "
      ],
      "text/plain": [
       "<IPython.core.display.HTML object>"
      ]
     },
     "metadata": {},
     "output_type": "display_data"
    },
    {
     "data": {
      "text/html": [
       "\n",
       "        <div id=\"mbWHHgqcdQQhLwF8FXUnaX\"></div>\n",
       "        <script>netpixi.call('mbWHHgqcdQQhLwF8FXUnaX', 'BG6GNWMZUSpdkKQEjvjRxv', 'changeGraph', 'eyJpZCI6IDEwNiwgInR5cGUiOiAidmVydGV4IiwgInByb3BzIjogeyJzaXplIjogMTcuNjE1MDYyNzYxNTA2Mjc3fX0K');</script>\n",
       "    "
      ],
      "text/plain": [
       "<IPython.core.display.HTML object>"
      ]
     },
     "metadata": {},
     "output_type": "display_data"
    },
    {
     "data": {
      "text/html": [
       "\n",
       "        <div id=\"huXMvRCxwZCsNbyY7dHRtx\"></div>\n",
       "        <script>netpixi.call('huXMvRCxwZCsNbyY7dHRtx', 'BG6GNWMZUSpdkKQEjvjRxv', 'changeGraph', 'eyJpZCI6IDc2LCAidHlwZSI6ICJ2ZXJ0ZXgiLCAicHJvcHMiOiB7ImNvbG9yIjogMTY3MTE2ODB9fQo=');</script>\n",
       "    "
      ],
      "text/plain": [
       "<IPython.core.display.HTML object>"
      ]
     },
     "metadata": {},
     "output_type": "display_data"
    },
    {
     "data": {
      "text/html": [
       "\n",
       "        <div id=\"n9Ni6J7K36gunHZfDUAK8G\"></div>\n",
       "        <script>netpixi.call('n9Ni6J7K36gunHZfDUAK8G', 'BG6GNWMZUSpdkKQEjvjRxv', 'changeGraph', 'eyJpZCI6IDEwNywgInR5cGUiOiAidmVydGV4IiwgInByb3BzIjogeyJzaXplIjogMjAuMH19Cg==');</script>\n",
       "    "
      ],
      "text/plain": [
       "<IPython.core.display.HTML object>"
      ]
     },
     "metadata": {},
     "output_type": "display_data"
    },
    {
     "data": {
      "text/html": [
       "\n",
       "        <div id=\"K3DQwwoYr5TAjTxsBq4F6K\"></div>\n",
       "        <script>netpixi.call('K3DQwwoYr5TAjTxsBq4F6K', 'BG6GNWMZUSpdkKQEjvjRxv', 'changeGraph', 'eyJpZCI6IDU3LCAidHlwZSI6ICJ2ZXJ0ZXgiLCAicHJvcHMiOiB7ImNvbG9yIjogMTY3MTE2ODB9fQo=');</script>\n",
       "    "
      ],
      "text/plain": [
       "<IPython.core.display.HTML object>"
      ]
     },
     "metadata": {},
     "output_type": "display_data"
    },
    {
     "data": {
      "text/html": [
       "\n",
       "        <div id=\"M2iUXCbo6RxcLnTh2me82K\"></div>\n",
       "        <script>netpixi.call('M2iUXCbo6RxcLnTh2me82K', 'BG6GNWMZUSpdkKQEjvjRxv', 'changeGraph', 'eyJpZCI6IDEwOCwgInR5cGUiOiAidmVydGV4IiwgInByb3BzIjogeyJzaXplIjogMTMuMzg5MTIxMzM4OTEyMTMzfX0K');</script>\n",
       "    "
      ],
      "text/plain": [
       "<IPython.core.display.HTML object>"
      ]
     },
     "metadata": {},
     "output_type": "display_data"
    },
    {
     "data": {
      "text/html": [
       "\n",
       "        <div id=\"ghEynXKGBEKvMAMEzzpYCn\"></div>\n",
       "        <script>netpixi.call('ghEynXKGBEKvMAMEzzpYCn', 'BG6GNWMZUSpdkKQEjvjRxv', 'changeGraph', 'eyJpZCI6IDcyLCAidHlwZSI6ICJ2ZXJ0ZXgiLCAicHJvcHMiOiB7ImNvbG9yIjogMTY3MTE2ODB9fQo=');</script>\n",
       "    "
      ],
      "text/plain": [
       "<IPython.core.display.HTML object>"
      ]
     },
     "metadata": {},
     "output_type": "display_data"
    },
    {
     "data": {
      "text/html": [
       "\n",
       "        <div id=\"h8CwEUdeoiKEhoMkUTYwnn\"></div>\n",
       "        <script>netpixi.call('h8CwEUdeoiKEhoMkUTYwnn', 'BG6GNWMZUSpdkKQEjvjRxv', 'changeGraph', 'eyJpZCI6IDEwOSwgInR5cGUiOiAidmVydGV4IiwgInByb3BzIjogeyJzaXplIjogMTcuNTczMjIxNzU3MzIyMTczfX0K');</script>\n",
       "    "
      ],
      "text/plain": [
       "<IPython.core.display.HTML object>"
      ]
     },
     "metadata": {},
     "output_type": "display_data"
    },
    {
     "data": {
      "text/html": [
       "\n",
       "        <div id=\"6hvUfFtLo87LR9m6VcwAuS\"></div>\n",
       "        <script>netpixi.call('6hvUfFtLo87LR9m6VcwAuS', 'BG6GNWMZUSpdkKQEjvjRxv', 'changeGraph', 'eyJpZCI6IDgwLCAidHlwZSI6ICJ2ZXJ0ZXgiLCAicHJvcHMiOiB7ImNvbG9yIjogMTY3MTE2ODB9fQo=');</script>\n",
       "    "
      ],
      "text/plain": [
       "<IPython.core.display.HTML object>"
      ]
     },
     "metadata": {},
     "output_type": "display_data"
    },
    {
     "data": {
      "text/html": [
       "\n",
       "        <div id=\"DWPf6udWX6PLTHcys5yZeB\"></div>\n",
       "        <script>netpixi.call('DWPf6udWX6PLTHcys5yZeB', 'BG6GNWMZUSpdkKQEjvjRxv', 'changeGraph', 'eyJpZCI6IDExMCwgInR5cGUiOiAidmVydGV4IiwgInByb3BzIjogeyJzaXplIjogMTYuMzU5ODMyNjM1OTgzMjYzfX0K');</script>\n",
       "    "
      ],
      "text/plain": [
       "<IPython.core.display.HTML object>"
      ]
     },
     "metadata": {},
     "output_type": "display_data"
    },
    {
     "data": {
      "text/html": [
       "\n",
       "        <div id=\"MrEchqwszUX5DD9icZpQoc\"></div>\n",
       "        <script>netpixi.call('MrEchqwszUX5DD9icZpQoc', 'BG6GNWMZUSpdkKQEjvjRxv', 'changeGraph', 'eyJpZCI6IDc4LCAidHlwZSI6ICJ2ZXJ0ZXgiLCAicHJvcHMiOiB7ImNvbG9yIjogMTY3MTE2ODB9fQo=');</script>\n",
       "    "
      ],
      "text/plain": [
       "<IPython.core.display.HTML object>"
      ]
     },
     "metadata": {},
     "output_type": "display_data"
    },
    {
     "data": {
      "text/html": [
       "\n",
       "        <div id=\"k6d7xF3HRMgADWU3iiRv8D\"></div>\n",
       "        <script>netpixi.call('k6d7xF3HRMgADWU3iiRv8D', 'BG6GNWMZUSpdkKQEjvjRxv', 'changeGraph', 'eyJpZCI6IDExMSwgInR5cGUiOiAidmVydGV4IiwgInByb3BzIjogeyJzaXplIjogMTYuNDQzNTE0NjQ0MzUxNDYzfX0K');</script>\n",
       "    "
      ],
      "text/plain": [
       "<IPython.core.display.HTML object>"
      ]
     },
     "metadata": {},
     "output_type": "display_data"
    },
    {
     "data": {
      "text/html": [
       "\n",
       "        <div id=\"3g7nFfMFhYaiB7L7NaL5tv\"></div>\n",
       "        <script>netpixi.call('3g7nFfMFhYaiB7L7NaL5tv', 'BG6GNWMZUSpdkKQEjvjRxv', 'changeGraph', 'eyJpZCI6IDgyLCAidHlwZSI6ICJ2ZXJ0ZXgiLCAicHJvcHMiOiB7ImNvbG9yIjogMTY3MTE2ODB9fQo=');</script>\n",
       "    "
      ],
      "text/plain": [
       "<IPython.core.display.HTML object>"
      ]
     },
     "metadata": {},
     "output_type": "display_data"
    },
    {
     "data": {
      "text/html": [
       "\n",
       "        <div id=\"ELZXinBk8Sus6Ha3MncWhe\"></div>\n",
       "        <script>netpixi.call('ELZXinBk8Sus6Ha3MncWhe', 'BG6GNWMZUSpdkKQEjvjRxv', 'changeGraph', 'eyJpZCI6IDExMiwgInR5cGUiOiAidmVydGV4IiwgInByb3BzIjogeyJzaXplIjogNDkuMzMzMzMzMzMzMzMzMzM2fX0K');</script>\n",
       "    "
      ],
      "text/plain": [
       "<IPython.core.display.HTML object>"
      ]
     },
     "metadata": {},
     "output_type": "display_data"
    },
    {
     "data": {
      "text/html": [
       "\n",
       "        <div id=\"UBL8RFNBKZpuNxtpyckMAe\"></div>\n",
       "        <script>netpixi.call('UBL8RFNBKZpuNxtpyckMAe', 'BG6GNWMZUSpdkKQEjvjRxv', 'changeGraph', 'eyJpZCI6IDY2LCAidHlwZSI6ICJ2ZXJ0ZXgiLCAicHJvcHMiOiB7ImNvbG9yIjogMTY3MTE2ODB9fQo=');</script>\n",
       "    "
      ],
      "text/plain": [
       "<IPython.core.display.HTML object>"
      ]
     },
     "metadata": {},
     "output_type": "display_data"
    },
    {
     "data": {
      "text/html": [
       "\n",
       "        <div id=\"jdqLwuFgotdpVFWyoNuKRD\"></div>\n",
       "        <script>netpixi.call('jdqLwuFgotdpVFWyoNuKRD', 'BG6GNWMZUSpdkKQEjvjRxv', 'changeGraph', 'eyJpZCI6IDExMywgInR5cGUiOiAidmVydGV4IiwgInByb3BzIjogeyJzaXplIjogNDYuMH19Cg==');</script>\n",
       "    "
      ],
      "text/plain": [
       "<IPython.core.display.HTML object>"
      ]
     },
     "metadata": {},
     "output_type": "display_data"
    },
    {
     "data": {
      "text/html": [
       "\n",
       "        <div id=\"5pV52oW2ULg8DFZqK3rjzU\"></div>\n",
       "        <script>netpixi.call('5pV52oW2ULg8DFZqK3rjzU', 'BG6GNWMZUSpdkKQEjvjRxv', 'changeGraph', 'eyJpZCI6IDc0LCAidHlwZSI6ICJ2ZXJ0ZXgiLCAicHJvcHMiOiB7ImNvbG9yIjogMTY3MTE2ODB9fQo=');</script>\n",
       "    "
      ],
      "text/plain": [
       "<IPython.core.display.HTML object>"
      ]
     },
     "metadata": {},
     "output_type": "display_data"
    },
    {
     "data": {
      "text/html": [
       "\n",
       "        <div id=\"3z2iPhSpuQ8HQ6NeDVKMCs\"></div>\n",
       "        <script>netpixi.call('3z2iPhSpuQ8HQ6NeDVKMCs', 'BG6GNWMZUSpdkKQEjvjRxv', 'changeGraph', 'eyJpZCI6IDExNCwgInR5cGUiOiAidmVydGV4IiwgInByb3BzIjogeyJzaXplIjogNDYuMzMzMzMzMzMzMzMzMzM2fX0K');</script>\n",
       "    "
      ],
      "text/plain": [
       "<IPython.core.display.HTML object>"
      ]
     },
     "metadata": {},
     "output_type": "display_data"
    },
    {
     "data": {
      "text/html": [
       "\n",
       "        <div id=\"ZLAVnMijpkwokEUqXwdpxv\"></div>\n",
       "        <script>netpixi.call('ZLAVnMijpkwokEUqXwdpxv', 'BG6GNWMZUSpdkKQEjvjRxv', 'changeGraph', 'eyJpZCI6IDgxLCAidHlwZSI6ICJ2ZXJ0ZXgiLCAicHJvcHMiOiB7ImNvbG9yIjogMTY3MTE2ODB9fQo=');</script>\n",
       "    "
      ],
      "text/plain": [
       "<IPython.core.display.HTML object>"
      ]
     },
     "metadata": {},
     "output_type": "display_data"
    },
    {
     "data": {
      "text/html": [
       "\n",
       "        <div id=\"58peT2YwinE7SG5wSp3WyB\"></div>\n",
       "        <script>netpixi.call('58peT2YwinE7SG5wSp3WyB', 'BG6GNWMZUSpdkKQEjvjRxv', 'changeGraph', 'eyJpZCI6IDExNSwgInR5cGUiOiAidmVydGV4IiwgInByb3BzIjogeyJzaXplIjogMTUuNDgxMTcxNTQ4MTE3MTUzfX0K');</script>\n",
       "    "
      ],
      "text/plain": [
       "<IPython.core.display.HTML object>"
      ]
     },
     "metadata": {},
     "output_type": "display_data"
    },
    {
     "data": {
      "text/html": [
       "\n",
       "        <div id=\"DPt2eiaUfsLuvuHv4r8ZVs\"></div>\n",
       "        <script>netpixi.call('DPt2eiaUfsLuvuHv4r8ZVs', 'BG6GNWMZUSpdkKQEjvjRxv', 'changeGraph', 'eyJpZCI6IDgzLCAidHlwZSI6ICJ2ZXJ0ZXgiLCAicHJvcHMiOiB7ImNvbG9yIjogMTY3MTE2ODB9fQo=');</script>\n",
       "    "
      ],
      "text/plain": [
       "<IPython.core.display.HTML object>"
      ]
     },
     "metadata": {},
     "output_type": "display_data"
    },
    {
     "data": {
      "text/html": [
       "\n",
       "        <div id=\"HLn6k8jRBKRyKQra9j7F94\"></div>\n",
       "        <script>netpixi.call('HLn6k8jRBKRyKQra9j7F94', 'BG6GNWMZUSpdkKQEjvjRxv', 'changeGraph', 'eyJpZCI6IDExNiwgInR5cGUiOiAidmVydGV4IiwgInByb3BzIjogeyJzaXplIjogMTkuNzkwNzk0OTc5MDc5NDk3fX0K');</script>\n",
       "    "
      ],
      "text/plain": [
       "<IPython.core.display.HTML object>"
      ]
     },
     "metadata": {},
     "output_type": "display_data"
    },
    {
     "data": {
      "text/html": [
       "\n",
       "        <div id=\"jrWhN9W8458bqNJcJMynZa\"></div>\n",
       "        <script>netpixi.call('jrWhN9W8458bqNJcJMynZa', 'BG6GNWMZUSpdkKQEjvjRxv', 'changeGraph', 'eyJpZCI6IDc3LCAidHlwZSI6ICJ2ZXJ0ZXgiLCAicHJvcHMiOiB7ImNvbG9yIjogMTY3MTE2ODB9fQo=');</script>\n",
       "    "
      ],
      "text/plain": [
       "<IPython.core.display.HTML object>"
      ]
     },
     "metadata": {},
     "output_type": "display_data"
    },
    {
     "data": {
      "text/html": [
       "\n",
       "        <div id=\"mBTB3rGi83djkhd28svyaV\"></div>\n",
       "        <script>netpixi.call('mBTB3rGi83djkhd28svyaV', 'BG6GNWMZUSpdkKQEjvjRxv', 'changeGraph', 'eyJpZCI6IDExNywgInR5cGUiOiAidmVydGV4IiwgInByb3BzIjogeyJzaXplIjogMTEuOTI0Njg2MTkyNDY4NjE4fX0K');</script>\n",
       "    "
      ],
      "text/plain": [
       "<IPython.core.display.HTML object>"
      ]
     },
     "metadata": {},
     "output_type": "display_data"
    },
    {
     "data": {
      "text/html": [
       "\n",
       "        <div id=\"nymRKh9PKjigfz77TGU5MW\"></div>\n",
       "        <script>netpixi.call('nymRKh9PKjigfz77TGU5MW', 'BG6GNWMZUSpdkKQEjvjRxv', 'changeGraph', 'eyJpZCI6IDgyLCAidHlwZSI6ICJ2ZXJ0ZXgiLCAicHJvcHMiOiB7ImNvbG9yIjogMTY3MTE2ODB9fQo=');</script>\n",
       "    "
      ],
      "text/plain": [
       "<IPython.core.display.HTML object>"
      ]
     },
     "metadata": {},
     "output_type": "display_data"
    },
    {
     "data": {
      "text/html": [
       "\n",
       "        <div id=\"VWpaakNgkdJAYjtt6TH7zC\"></div>\n",
       "        <script>netpixi.call('VWpaakNgkdJAYjtt6TH7zC', 'BG6GNWMZUSpdkKQEjvjRxv', 'changeGraph', 'eyJpZCI6IDExOCwgInR5cGUiOiAidmVydGV4IiwgInByb3BzIjogeyJzaXplIjogNDUuMTY2NjY2NjY2NjY2NjY0fX0K');</script>\n",
       "    "
      ],
      "text/plain": [
       "<IPython.core.display.HTML object>"
      ]
     },
     "metadata": {},
     "output_type": "display_data"
    },
    {
     "data": {
      "text/html": [
       "\n",
       "        <div id=\"4o2QVCSMNeLcy7Ptox3iVn\"></div>\n",
       "        <script>netpixi.call('4o2QVCSMNeLcy7Ptox3iVn', 'BG6GNWMZUSpdkKQEjvjRxv', 'changeGraph', 'eyJpZCI6IDc4LCAidHlwZSI6ICJ2ZXJ0ZXgiLCAicHJvcHMiOiB7ImNvbG9yIjogMTY3MTE2ODB9fQo=');</script>\n",
       "    "
      ],
      "text/plain": [
       "<IPython.core.display.HTML object>"
      ]
     },
     "metadata": {},
     "output_type": "display_data"
    },
    {
     "data": {
      "text/html": [
       "\n",
       "        <div id=\"k8TVFTvBEs28M23BB8jgiN\"></div>\n",
       "        <script>netpixi.call('k8TVFTvBEs28M23BB8jgiN', 'BG6GNWMZUSpdkKQEjvjRxv', 'changeGraph', 'eyJpZCI6IDExOSwgInR5cGUiOiAidmVydGV4IiwgInByb3BzIjogeyJzaXplIjogMTMuNTU2NDg1MzU1NjQ4NTM1fX0K');</script>\n",
       "    "
      ],
      "text/plain": [
       "<IPython.core.display.HTML object>"
      ]
     },
     "metadata": {},
     "output_type": "display_data"
    },
    {
     "data": {
      "text/html": [
       "\n",
       "        <div id=\"N74MSN7qNdB4B6ewBuxsov\"></div>\n",
       "        <script>netpixi.call('N74MSN7qNdB4B6ewBuxsov', 'BG6GNWMZUSpdkKQEjvjRxv', 'changeGraph', 'eyJpZCI6IDcyLCAidHlwZSI6ICJ2ZXJ0ZXgiLCAicHJvcHMiOiB7ImNvbG9yIjogMTY3MTE2ODB9fQo=');</script>\n",
       "    "
      ],
      "text/plain": [
       "<IPython.core.display.HTML object>"
      ]
     },
     "metadata": {},
     "output_type": "display_data"
    },
    {
     "data": {
      "text/html": [
       "\n",
       "        <div id=\"g6Q2mGKm4AkEdAWQqj9K2E\"></div>\n",
       "        <script>netpixi.call('g6Q2mGKm4AkEdAWQqj9K2E', 'BG6GNWMZUSpdkKQEjvjRxv', 'changeGraph', 'eyJpZCI6IDEyMCwgInR5cGUiOiAidmVydGV4IiwgInByb3BzIjogeyJzaXplIjogMTAuNzUzMTM4MDc1MzEzODA3fX0K');</script>\n",
       "    "
      ],
      "text/plain": [
       "<IPython.core.display.HTML object>"
      ]
     },
     "metadata": {},
     "output_type": "display_data"
    },
    {
     "data": {
      "text/html": [
       "\n",
       "        <div id=\"F4NkQTCEiJFZ5A6fKeLYN9\"></div>\n",
       "        <script>netpixi.call('F4NkQTCEiJFZ5A6fKeLYN9', 'BG6GNWMZUSpdkKQEjvjRxv', 'changeGraph', 'eyJpZCI6IDgyLCAidHlwZSI6ICJ2ZXJ0ZXgiLCAicHJvcHMiOiB7ImNvbG9yIjogMTY3MTE2ODB9fQo=');</script>\n",
       "    "
      ],
      "text/plain": [
       "<IPython.core.display.HTML object>"
      ]
     },
     "metadata": {},
     "output_type": "display_data"
    },
    {
     "data": {
      "text/html": [
       "\n",
       "        <div id=\"APbWT9p8t5rZpWNeVKXo92\"></div>\n",
       "        <script>netpixi.call('APbWT9p8t5rZpWNeVKXo92', 'BG6GNWMZUSpdkKQEjvjRxv', 'changeGraph', 'eyJpZCI6IDEyMSwgInR5cGUiOiAidmVydGV4IiwgInByb3BzIjogeyJzaXplIjogMTguOTUzOTc0ODk1Mzk3NDg2fX0K');</script>\n",
       "    "
      ],
      "text/plain": [
       "<IPython.core.display.HTML object>"
      ]
     },
     "metadata": {},
     "output_type": "display_data"
    },
    {
     "data": {
      "text/html": [
       "\n",
       "        <div id=\"Y4M2UtJzK59tuj7gaYxCZN\"></div>\n",
       "        <script>netpixi.call('Y4M2UtJzK59tuj7gaYxCZN', 'BG6GNWMZUSpdkKQEjvjRxv', 'changeGraph', 'eyJpZCI6IDgxLCAidHlwZSI6ICJ2ZXJ0ZXgiLCAicHJvcHMiOiB7ImNvbG9yIjogMTY3MTE2ODB9fQo=');</script>\n",
       "    "
      ],
      "text/plain": [
       "<IPython.core.display.HTML object>"
      ]
     },
     "metadata": {},
     "output_type": "display_data"
    },
    {
     "data": {
      "text/html": [
       "\n",
       "        <div id=\"o29bWwekNirEADQhzVziXM\"></div>\n",
       "        <script>netpixi.call('o29bWwekNirEADQhzVziXM', 'BG6GNWMZUSpdkKQEjvjRxv', 'changeGraph', 'eyJpZCI6IDEyMiwgInR5cGUiOiAidmVydGV4IiwgInByb3BzIjogeyJzaXplIjogMTQuNDc2OTg3NDQ3Njk4NzQzfX0K');</script>\n",
       "    "
      ],
      "text/plain": [
       "<IPython.core.display.HTML object>"
      ]
     },
     "metadata": {},
     "output_type": "display_data"
    },
    {
     "data": {
      "text/html": [
       "\n",
       "        <div id=\"WNELmA2uMaKp4kPgh7eUgz\"></div>\n",
       "        <script>netpixi.call('WNELmA2uMaKp4kPgh7eUgz', 'BG6GNWMZUSpdkKQEjvjRxv', 'changeGraph', 'eyJpZCI6IDgwLCAidHlwZSI6ICJ2ZXJ0ZXgiLCAicHJvcHMiOiB7ImNvbG9yIjogMTY3MTE2ODB9fQo=');</script>\n",
       "    "
      ],
      "text/plain": [
       "<IPython.core.display.HTML object>"
      ]
     },
     "metadata": {},
     "output_type": "display_data"
    },
    {
     "data": {
      "text/html": [
       "\n",
       "        <div id=\"Worw3vyZHuqfvJ2zpXwqdv\"></div>\n",
       "        <script>netpixi.call('Worw3vyZHuqfvJ2zpXwqdv', 'BG6GNWMZUSpdkKQEjvjRxv', 'changeGraph', 'eyJpZCI6IDEyMywgInR5cGUiOiAidmVydGV4IiwgInByb3BzIjogeyJzaXplIjogMTIuNjc3ODI0MjY3NzgyNDI3fX0K');</script>\n",
       "    "
      ],
      "text/plain": [
       "<IPython.core.display.HTML object>"
      ]
     },
     "metadata": {},
     "output_type": "display_data"
    },
    {
     "data": {
      "text/html": [
       "\n",
       "        <div id=\"KRNEGAH4q3qszLVthuRRBZ\"></div>\n",
       "        <script>netpixi.call('KRNEGAH4q3qszLVthuRRBZ', 'BG6GNWMZUSpdkKQEjvjRxv', 'changeGraph', 'eyJpZCI6IDc0LCAidHlwZSI6ICJ2ZXJ0ZXgiLCAicHJvcHMiOiB7ImNvbG9yIjogMTY3MTE2ODB9fQo=');</script>\n",
       "    "
      ],
      "text/plain": [
       "<IPython.core.display.HTML object>"
      ]
     },
     "metadata": {},
     "output_type": "display_data"
    },
    {
     "data": {
      "text/html": [
       "\n",
       "        <div id=\"ApY4sBfV6YgwLVUxzASspb\"></div>\n",
       "        <script>netpixi.call('ApY4sBfV6YgwLVUxzASspb', 'BG6GNWMZUSpdkKQEjvjRxv', 'changeGraph', 'eyJpZCI6IDEyNCwgInR5cGUiOiAidmVydGV4IiwgInByb3BzIjogeyJzaXplIjogNDQuMTY2NjY2NjY2NjY2NjY0fX0K');</script>\n",
       "    "
      ],
      "text/plain": [
       "<IPython.core.display.HTML object>"
      ]
     },
     "metadata": {},
     "output_type": "display_data"
    },
    {
     "data": {
      "text/html": [
       "\n",
       "        <div id=\"F9S7Lbvo3fufxWrjHBDRhY\"></div>\n",
       "        <script>netpixi.call('F9S7Lbvo3fufxWrjHBDRhY', 'BG6GNWMZUSpdkKQEjvjRxv', 'changeGraph', 'eyJpZCI6IDgwLCAidHlwZSI6ICJ2ZXJ0ZXgiLCAicHJvcHMiOiB7ImNvbG9yIjogMTY3MTE2ODB9fQo=');</script>\n",
       "    "
      ],
      "text/plain": [
       "<IPython.core.display.HTML object>"
      ]
     },
     "metadata": {},
     "output_type": "display_data"
    },
    {
     "data": {
      "text/html": [
       "\n",
       "        <div id=\"BTWbAXjQUBh5dA2PC68qZV\"></div>\n",
       "        <script>netpixi.call('BTWbAXjQUBh5dA2PC68qZV', 'BG6GNWMZUSpdkKQEjvjRxv', 'changeGraph', 'eyJpZCI6IDEyNSwgInR5cGUiOiAidmVydGV4IiwgInByb3BzIjogeyJzaXplIjogMTEuNzk5MTYzMTc5OTE2MzE4fX0K');</script>\n",
       "    "
      ],
      "text/plain": [
       "<IPython.core.display.HTML object>"
      ]
     },
     "metadata": {},
     "output_type": "display_data"
    },
    {
     "data": {
      "text/html": [
       "\n",
       "        <div id=\"GprvskF8B5aBQcEscQ7ApC\"></div>\n",
       "        <script>netpixi.call('GprvskF8B5aBQcEscQ7ApC', 'BG6GNWMZUSpdkKQEjvjRxv', 'changeGraph', 'eyJpZCI6IDgyLCAidHlwZSI6ICJ2ZXJ0ZXgiLCAicHJvcHMiOiB7ImNvbG9yIjogMTY3MTE2ODB9fQo=');</script>\n",
       "    "
      ],
      "text/plain": [
       "<IPython.core.display.HTML object>"
      ]
     },
     "metadata": {},
     "output_type": "display_data"
    },
    {
     "data": {
      "text/html": [
       "\n",
       "        <div id=\"eFiP699s2P48f7YHv9T6VP\"></div>\n",
       "        <script>netpixi.call('eFiP699s2P48f7YHv9T6VP', 'BG6GNWMZUSpdkKQEjvjRxv', 'changeGraph', 'eyJpZCI6IDEyNiwgInR5cGUiOiAidmVydGV4IiwgInByb3BzIjogeyJzaXplIjogMTguMjg0NTE4ODI4NDUxODh9fQo=');</script>\n",
       "    "
      ],
      "text/plain": [
       "<IPython.core.display.HTML object>"
      ]
     },
     "metadata": {},
     "output_type": "display_data"
    },
    {
     "data": {
      "text/html": [
       "\n",
       "        <div id=\"ZzFsgLwge4GXpRg4aiWRkc\"></div>\n",
       "        <script>netpixi.call('ZzFsgLwge4GXpRg4aiWRkc', 'BG6GNWMZUSpdkKQEjvjRxv', 'changeGraph', 'eyJpZCI6IDg3LCAidHlwZSI6ICJ2ZXJ0ZXgiLCAicHJvcHMiOiB7ImNvbG9yIjogMTY3MTE2ODB9fQo=');</script>\n",
       "    "
      ],
      "text/plain": [
       "<IPython.core.display.HTML object>"
      ]
     },
     "metadata": {},
     "output_type": "display_data"
    },
    {
     "data": {
      "text/html": [
       "\n",
       "        <div id=\"UmyVnDuANHMa73jGepjSdB\"></div>\n",
       "        <script>netpixi.call('UmyVnDuANHMa73jGepjSdB', 'BG6GNWMZUSpdkKQEjvjRxv', 'changeGraph', 'eyJpZCI6IDEyNywgInR5cGUiOiAidmVydGV4IiwgInByb3BzIjogeyJzaXplIjogMTQuMzUxNDY0NDM1MTQ2NDQzfX0K');</script>\n",
       "    "
      ],
      "text/plain": [
       "<IPython.core.display.HTML object>"
      ]
     },
     "metadata": {},
     "output_type": "display_data"
    },
    {
     "data": {
      "text/html": [
       "\n",
       "        <div id=\"j56rULQXZRGSxBUJ8qsgF3\"></div>\n",
       "        <script>netpixi.call('j56rULQXZRGSxBUJ8qsgF3', 'BG6GNWMZUSpdkKQEjvjRxv', 'changeGraph', 'eyJpZCI6IDc2LCAidHlwZSI6ICJ2ZXJ0ZXgiLCAicHJvcHMiOiB7ImNvbG9yIjogMTY3MTE2ODB9fQo=');</script>\n",
       "    "
      ],
      "text/plain": [
       "<IPython.core.display.HTML object>"
      ]
     },
     "metadata": {},
     "output_type": "display_data"
    },
    {
     "data": {
      "text/html": [
       "\n",
       "        <div id=\"EBxB7kDL3p6QLk3bNgxZEi\"></div>\n",
       "        <script>netpixi.call('EBxB7kDL3p6QLk3bNgxZEi', 'BG6GNWMZUSpdkKQEjvjRxv', 'changeGraph', 'eyJpZCI6IDEyOCwgInR5cGUiOiAidmVydGV4IiwgInByb3BzIjogeyJzaXplIjogMTkuOTE2MzE3OTkxNjMxOH19Cg==');</script>\n",
       "    "
      ],
      "text/plain": [
       "<IPython.core.display.HTML object>"
      ]
     },
     "metadata": {},
     "output_type": "display_data"
    },
    {
     "data": {
      "text/html": [
       "\n",
       "        <div id=\"kfDfcbWnLbJvCKSjHhDmhX\"></div>\n",
       "        <script>netpixi.call('kfDfcbWnLbJvCKSjHhDmhX', 'BG6GNWMZUSpdkKQEjvjRxv', 'changeGraph', 'eyJpZCI6IDczLCAidHlwZSI6ICJ2ZXJ0ZXgiLCAicHJvcHMiOiB7ImNvbG9yIjogMTY3MTE2ODB9fQo=');</script>\n",
       "    "
      ],
      "text/plain": [
       "<IPython.core.display.HTML object>"
      ]
     },
     "metadata": {},
     "output_type": "display_data"
    },
    {
     "data": {
      "text/html": [
       "\n",
       "        <div id=\"4BmHZYq9diyKiTF5ZHcKMr\"></div>\n",
       "        <script>netpixi.call('4BmHZYq9diyKiTF5ZHcKMr', 'BG6GNWMZUSpdkKQEjvjRxv', 'changeGraph', 'eyJpZCI6IDEyOSwgInR5cGUiOiAidmVydGV4IiwgInByb3BzIjogeyJzaXplIjogNDQuODMzMzMzMzMzMzMzMzM2fX0K');</script>\n",
       "    "
      ],
      "text/plain": [
       "<IPython.core.display.HTML object>"
      ]
     },
     "metadata": {},
     "output_type": "display_data"
    },
    {
     "data": {
      "text/html": [
       "\n",
       "        <div id=\"X52AFu5GM5CHXnRq9mVb5q\"></div>\n",
       "        <script>netpixi.call('X52AFu5GM5CHXnRq9mVb5q', 'BG6GNWMZUSpdkKQEjvjRxv', 'changeGraph', 'eyJpZCI6IDg0LCAidHlwZSI6ICJ2ZXJ0ZXgiLCAicHJvcHMiOiB7ImNvbG9yIjogMTY3MTE2ODB9fQo=');</script>\n",
       "    "
      ],
      "text/plain": [
       "<IPython.core.display.HTML object>"
      ]
     },
     "metadata": {},
     "output_type": "display_data"
    },
    {
     "data": {
      "text/html": [
       "\n",
       "        <div id=\"hZmnTuXrFxWD2o9QipKkvM\"></div>\n",
       "        <script>netpixi.call('hZmnTuXrFxWD2o9QipKkvM', 'BG6GNWMZUSpdkKQEjvjRxv', 'changeGraph', 'eyJpZCI6IDEzMCwgInR5cGUiOiAidmVydGV4IiwgInByb3BzIjogeyJzaXplIjogMTEuMjEzMzg5MTIxMzM4OTEyfX0K');</script>\n",
       "    "
      ],
      "text/plain": [
       "<IPython.core.display.HTML object>"
      ]
     },
     "metadata": {},
     "output_type": "display_data"
    },
    {
     "data": {
      "text/html": [
       "\n",
       "        <div id=\"ZesnNFz3BSzWVTYrHLegUh\"></div>\n",
       "        <script>netpixi.call('ZesnNFz3BSzWVTYrHLegUh', 'BG6GNWMZUSpdkKQEjvjRxv', 'changeGraph', 'eyJpZCI6IDY0LCAidHlwZSI6ICJ2ZXJ0ZXgiLCAicHJvcHMiOiB7ImNvbG9yIjogMTY3MTE2ODB9fQo=');</script>\n",
       "    "
      ],
      "text/plain": [
       "<IPython.core.display.HTML object>"
      ]
     },
     "metadata": {},
     "output_type": "display_data"
    },
    {
     "data": {
      "text/html": [
       "\n",
       "        <div id=\"aUFTcZqyMnK9vr8xX5xE6T\"></div>\n",
       "        <script>netpixi.call('aUFTcZqyMnK9vr8xX5xE6T', 'BG6GNWMZUSpdkKQEjvjRxv', 'changeGraph', 'eyJpZCI6IDEzMSwgInR5cGUiOiAidmVydGV4IiwgInByb3BzIjogeyJzaXplIjogMTguNDkzNzIzODQ5MzcyMzg3fX0K');</script>\n",
       "    "
      ],
      "text/plain": [
       "<IPython.core.display.HTML object>"
      ]
     },
     "metadata": {},
     "output_type": "display_data"
    },
    {
     "data": {
      "text/html": [
       "\n",
       "        <div id=\"QwZSqvPWgxWFNKoYdfmxXD\"></div>\n",
       "        <script>netpixi.call('QwZSqvPWgxWFNKoYdfmxXD', 'BG6GNWMZUSpdkKQEjvjRxv', 'changeGraph', 'eyJpZCI6IDc5LCAidHlwZSI6ICJ2ZXJ0ZXgiLCAicHJvcHMiOiB7ImNvbG9yIjogMTY3MTE2ODB9fQo=');</script>\n",
       "    "
      ],
      "text/plain": [
       "<IPython.core.display.HTML object>"
      ]
     },
     "metadata": {},
     "output_type": "display_data"
    },
    {
     "data": {
      "text/html": [
       "\n",
       "        <div id=\"SzfvVQV8uJXsNZjt8dKEA3\"></div>\n",
       "        <script>netpixi.call('SzfvVQV8uJXsNZjt8dKEA3', 'BG6GNWMZUSpdkKQEjvjRxv', 'changeGraph', 'eyJpZCI6IDEzMiwgInR5cGUiOiAidmVydGV4IiwgInByb3BzIjogeyJzaXplIjogNDMuNjY2NjY2NjY2NjY2NjY0fX0K');</script>\n",
       "    "
      ],
      "text/plain": [
       "<IPython.core.display.HTML object>"
      ]
     },
     "metadata": {},
     "output_type": "display_data"
    },
    {
     "data": {
      "text/html": [
       "\n",
       "        <div id=\"CYgnLpmeq7dJS9mhgyzk9a\"></div>\n",
       "        <script>netpixi.call('CYgnLpmeq7dJS9mhgyzk9a', 'BG6GNWMZUSpdkKQEjvjRxv', 'changeGraph', 'eyJpZCI6IDY2LCAidHlwZSI6ICJ2ZXJ0ZXgiLCAicHJvcHMiOiB7ImNvbG9yIjogMTY3MTE2ODB9fQo=');</script>\n",
       "    "
      ],
      "text/plain": [
       "<IPython.core.display.HTML object>"
      ]
     },
     "metadata": {},
     "output_type": "display_data"
    },
    {
     "data": {
      "text/html": [
       "\n",
       "        <div id=\"YET22QDc9t5qQfLcUnBbaj\"></div>\n",
       "        <script>netpixi.call('YET22QDc9t5qQfLcUnBbaj', 'BG6GNWMZUSpdkKQEjvjRxv', 'changeGraph', 'eyJpZCI6IDEzMywgInR5cGUiOiAidmVydGV4IiwgInByb3BzIjogeyJzaXplIjogMTcuNzgyNDI2Nzc4MjQyNjc3fX0K');</script>\n",
       "    "
      ],
      "text/plain": [
       "<IPython.core.display.HTML object>"
      ]
     },
     "metadata": {},
     "output_type": "display_data"
    },
    {
     "data": {
      "text/html": [
       "\n",
       "        <div id=\"S52479bP7vT2AQP6XHyP24\"></div>\n",
       "        <script>netpixi.call('S52479bP7vT2AQP6XHyP24', 'BG6GNWMZUSpdkKQEjvjRxv', 'changeGraph', 'eyJpZCI6IDc0LCAidHlwZSI6ICJ2ZXJ0ZXgiLCAicHJvcHMiOiB7ImNvbG9yIjogMTY3MTE2ODB9fQo=');</script>\n",
       "    "
      ],
      "text/plain": [
       "<IPython.core.display.HTML object>"
      ]
     },
     "metadata": {},
     "output_type": "display_data"
    },
    {
     "data": {
      "text/html": [
       "\n",
       "        <div id=\"EFrZQkRjxJBxzBwzDX7A3Z\"></div>\n",
       "        <script>netpixi.call('EFrZQkRjxJBxzBwzDX7A3Z', 'BG6GNWMZUSpdkKQEjvjRxv', 'changeGraph', 'eyJpZCI6IDEzNCwgInR5cGUiOiAidmVydGV4IiwgInByb3BzIjogeyJzaXplIjogMTguMzI2MzU5ODMyNjM1OTh9fQo=');</script>\n",
       "    "
      ],
      "text/plain": [
       "<IPython.core.display.HTML object>"
      ]
     },
     "metadata": {},
     "output_type": "display_data"
    },
    {
     "data": {
      "text/html": [
       "\n",
       "        <div id=\"KRvGntWURgWF3LUWataZhm\"></div>\n",
       "        <script>netpixi.call('KRvGntWURgWF3LUWataZhm', 'BG6GNWMZUSpdkKQEjvjRxv', 'changeGraph', 'eyJpZCI6IDcwLCAidHlwZSI6ICJ2ZXJ0ZXgiLCAicHJvcHMiOiB7ImNvbG9yIjogMTY3MTE2ODB9fQo=');</script>\n",
       "    "
      ],
      "text/plain": [
       "<IPython.core.display.HTML object>"
      ]
     },
     "metadata": {},
     "output_type": "display_data"
    },
    {
     "data": {
      "text/html": [
       "\n",
       "        <div id=\"9UxzMDM4D6MhCse3zYVPPt\"></div>\n",
       "        <script>netpixi.call('9UxzMDM4D6MhCse3zYVPPt', 'BG6GNWMZUSpdkKQEjvjRxv', 'changeGraph', 'eyJpZCI6IDEzNSwgInR5cGUiOiAidmVydGV4IiwgInByb3BzIjogeyJzaXplIjogMTkuODc0NDc2OTg3NDQ3N319Cg==');</script>\n",
       "    "
      ],
      "text/plain": [
       "<IPython.core.display.HTML object>"
      ]
     },
     "metadata": {},
     "output_type": "display_data"
    },
    {
     "data": {
      "text/html": [
       "\n",
       "        <div id=\"29RLbaEzzvcbh9vrSpyKcG\"></div>\n",
       "        <script>netpixi.call('29RLbaEzzvcbh9vrSpyKcG', 'BG6GNWMZUSpdkKQEjvjRxv', 'changeGraph', 'eyJpZCI6IDY0LCAidHlwZSI6ICJ2ZXJ0ZXgiLCAicHJvcHMiOiB7ImNvbG9yIjogMTY3MTE2ODB9fQo=');</script>\n",
       "    "
      ],
      "text/plain": [
       "<IPython.core.display.HTML object>"
      ]
     },
     "metadata": {},
     "output_type": "display_data"
    },
    {
     "data": {
      "text/html": [
       "\n",
       "        <div id=\"aFbv3aYAY5fjo9pG2LVg8n\"></div>\n",
       "        <script>netpixi.call('aFbv3aYAY5fjo9pG2LVg8n', 'BG6GNWMZUSpdkKQEjvjRxv', 'changeGraph', 'eyJpZCI6IDEzNiwgInR5cGUiOiAidmVydGV4IiwgInByb3BzIjogeyJzaXplIjogMTguNjE5MjQ2ODYxOTI0Njg3fX0K');</script>\n",
       "    "
      ],
      "text/plain": [
       "<IPython.core.display.HTML object>"
      ]
     },
     "metadata": {},
     "output_type": "display_data"
    },
    {
     "data": {
      "text/html": [
       "\n",
       "        <div id=\"8S7V8SZveZjw5LtcAnAkz5\"></div>\n",
       "        <script>netpixi.call('8S7V8SZveZjw5LtcAnAkz5', 'BG6GNWMZUSpdkKQEjvjRxv', 'changeGraph', 'eyJpZCI6IDgxLCAidHlwZSI6ICJ2ZXJ0ZXgiLCAicHJvcHMiOiB7ImNvbG9yIjogMTY3MTE2ODB9fQo=');</script>\n",
       "    "
      ],
      "text/plain": [
       "<IPython.core.display.HTML object>"
      ]
     },
     "metadata": {},
     "output_type": "display_data"
    },
    {
     "data": {
      "text/html": [
       "\n",
       "        <div id=\"BK4yNQXCf565JwGmVhhx3A\"></div>\n",
       "        <script>netpixi.call('BK4yNQXCf565JwGmVhhx3A', 'BG6GNWMZUSpdkKQEjvjRxv', 'changeGraph', 'eyJpZCI6IDEzNywgInR5cGUiOiAidmVydGV4IiwgInByb3BzIjogeyJzaXplIjogMTMuNzY1NjkwMzc2NTY5MDM3fX0K');</script>\n",
       "    "
      ],
      "text/plain": [
       "<IPython.core.display.HTML object>"
      ]
     },
     "metadata": {},
     "output_type": "display_data"
    },
    {
     "data": {
      "text/html": [
       "\n",
       "        <div id=\"gK8Vz6dSrMTDVCpXsSiBwY\"></div>\n",
       "        <script>netpixi.call('gK8Vz6dSrMTDVCpXsSiBwY', 'BG6GNWMZUSpdkKQEjvjRxv', 'changeGraph', 'eyJpZCI6IDc3LCAidHlwZSI6ICJ2ZXJ0ZXgiLCAicHJvcHMiOiB7ImNvbG9yIjogMTY3MTE2ODB9fQo=');</script>\n",
       "    "
      ],
      "text/plain": [
       "<IPython.core.display.HTML object>"
      ]
     },
     "metadata": {},
     "output_type": "display_data"
    },
    {
     "data": {
      "text/html": [
       "\n",
       "        <div id=\"ULgCS5yiT9MHQNYcDzapRV\"></div>\n",
       "        <script>netpixi.call('ULgCS5yiT9MHQNYcDzapRV', 'BG6GNWMZUSpdkKQEjvjRxv', 'changeGraph', 'eyJpZCI6IDEzOCwgInR5cGUiOiAidmVydGV4IiwgInByb3BzIjogeyJzaXplIjogNDIuODMzMzMzMzMzMzMzMzN9fQo=');</script>\n",
       "    "
      ],
      "text/plain": [
       "<IPython.core.display.HTML object>"
      ]
     },
     "metadata": {},
     "output_type": "display_data"
    },
    {
     "data": {
      "text/html": [
       "\n",
       "        <div id=\"mM9XVMDLWMNAv2urCKFTe9\"></div>\n",
       "        <script>netpixi.call('mM9XVMDLWMNAv2urCKFTe9', 'BG6GNWMZUSpdkKQEjvjRxv', 'changeGraph', 'eyJpZCI6IDgzLCAidHlwZSI6ICJ2ZXJ0ZXgiLCAicHJvcHMiOiB7ImNvbG9yIjogMTY3MTE2ODB9fQo=');</script>\n",
       "    "
      ],
      "text/plain": [
       "<IPython.core.display.HTML object>"
      ]
     },
     "metadata": {},
     "output_type": "display_data"
    },
    {
     "data": {
      "text/html": [
       "\n",
       "        <div id=\"RxKtHcwXB93UFSARKHejHt\"></div>\n",
       "        <script>netpixi.call('RxKtHcwXB93UFSARKHejHt', 'BG6GNWMZUSpdkKQEjvjRxv', 'changeGraph', 'eyJpZCI6IDEzOSwgInR5cGUiOiAidmVydGV4IiwgInByb3BzIjogeyJzaXplIjogNDguMzMzMzMzMzMzMzMzMzM2fX0K');</script>\n",
       "    "
      ],
      "text/plain": [
       "<IPython.core.display.HTML object>"
      ]
     },
     "metadata": {},
     "output_type": "display_data"
    },
    {
     "data": {
      "text/html": [
       "\n",
       "        <div id=\"JTArdVZ8qJDBUvyPbkfMDQ\"></div>\n",
       "        <script>netpixi.call('JTArdVZ8qJDBUvyPbkfMDQ', 'BG6GNWMZUSpdkKQEjvjRxv', 'changeGraph', 'eyJpZCI6IDc4LCAidHlwZSI6ICJ2ZXJ0ZXgiLCAicHJvcHMiOiB7ImNvbG9yIjogMTY3MTE2ODB9fQo=');</script>\n",
       "    "
      ],
      "text/plain": [
       "<IPython.core.display.HTML object>"
      ]
     },
     "metadata": {},
     "output_type": "display_data"
    },
    {
     "data": {
      "text/html": [
       "\n",
       "        <div id=\"8REWdJ77Q9zJKLUATfawsa\"></div>\n",
       "        <script>netpixi.call('8REWdJ77Q9zJKLUATfawsa', 'BG6GNWMZUSpdkKQEjvjRxv', 'changeGraph', 'eyJpZCI6IDE0MCwgInR5cGUiOiAidmVydGV4IiwgInByb3BzIjogeyJzaXplIjogMTQuMzA5NjIzNDMwOTYyMzQzfX0K');</script>\n",
       "    "
      ],
      "text/plain": [
       "<IPython.core.display.HTML object>"
      ]
     },
     "metadata": {},
     "output_type": "display_data"
    },
    {
     "data": {
      "text/html": [
       "\n",
       "        <div id=\"JSinzmEfc6JMH7ZNAEDM6S\"></div>\n",
       "        <script>netpixi.call('JSinzmEfc6JMH7ZNAEDM6S', 'BG6GNWMZUSpdkKQEjvjRxv', 'changeGraph', 'eyJpZCI6IDgzLCAidHlwZSI6ICJ2ZXJ0ZXgiLCAicHJvcHMiOiB7ImNvbG9yIjogMTY3MTE2ODB9fQo=');</script>\n",
       "    "
      ],
      "text/plain": [
       "<IPython.core.display.HTML object>"
      ]
     },
     "metadata": {},
     "output_type": "display_data"
    },
    {
     "data": {
      "text/html": [
       "\n",
       "        <div id=\"UUjaHJQSTa3mjH4wCzfp7L\"></div>\n",
       "        <script>netpixi.call('UUjaHJQSTa3mjH4wCzfp7L', 'BG6GNWMZUSpdkKQEjvjRxv', 'changeGraph', 'eyJpZCI6IDE0MSwgInR5cGUiOiAidmVydGV4IiwgInByb3BzIjogeyJzaXplIjogMTEuNzU3MzIyMTc1NzMyMjE3fX0K');</script>\n",
       "    "
      ],
      "text/plain": [
       "<IPython.core.display.HTML object>"
      ]
     },
     "metadata": {},
     "output_type": "display_data"
    },
    {
     "data": {
      "text/html": [
       "\n",
       "        <div id=\"mTBjhvR3bDvEn4Vhbq7o3q\"></div>\n",
       "        <script>netpixi.call('mTBjhvR3bDvEn4Vhbq7o3q', 'BG6GNWMZUSpdkKQEjvjRxv', 'changeGraph', 'eyJpZCI6IDc4LCAidHlwZSI6ICJ2ZXJ0ZXgiLCAicHJvcHMiOiB7ImNvbG9yIjogMTY3MTE2ODB9fQo=');</script>\n",
       "    "
      ],
      "text/plain": [
       "<IPython.core.display.HTML object>"
      ]
     },
     "metadata": {},
     "output_type": "display_data"
    },
    {
     "data": {
      "text/html": [
       "\n",
       "        <div id=\"7N4Z2W8qRjXnHc2EVyQX4f\"></div>\n",
       "        <script>netpixi.call('7N4Z2W8qRjXnHc2EVyQX4f', 'BG6GNWMZUSpdkKQEjvjRxv', 'changeGraph', 'eyJpZCI6IDE0MiwgInR5cGUiOiAidmVydGV4IiwgInByb3BzIjogeyJzaXplIjogMTMuOTMzMDU0MzkzMzA1NDR9fQo=');</script>\n",
       "    "
      ],
      "text/plain": [
       "<IPython.core.display.HTML object>"
      ]
     },
     "metadata": {},
     "output_type": "display_data"
    },
    {
     "data": {
      "text/html": [
       "\n",
       "        <div id=\"QaE423Q4QvSCRVpX9UvrMJ\"></div>\n",
       "        <script>netpixi.call('QaE423Q4QvSCRVpX9UvrMJ', 'BG6GNWMZUSpdkKQEjvjRxv', 'changeGraph', 'eyJpZCI6IDc4LCAidHlwZSI6ICJ2ZXJ0ZXgiLCAicHJvcHMiOiB7ImNvbG9yIjogMTY3MTE2ODB9fQo=');</script>\n",
       "    "
      ],
      "text/plain": [
       "<IPython.core.display.HTML object>"
      ]
     },
     "metadata": {},
     "output_type": "display_data"
    },
    {
     "data": {
      "text/html": [
       "\n",
       "        <div id=\"RKSjEu2jQzZBauLGLYbVRK\"></div>\n",
       "        <script>netpixi.call('RKSjEu2jQzZBauLGLYbVRK', 'BG6GNWMZUSpdkKQEjvjRxv', 'changeGraph', 'eyJpZCI6IDE0MywgInR5cGUiOiAidmVydGV4IiwgInByb3BzIjogeyJzaXplIjogMTQuNDM1MTQ2NDQzNTE0NjQzfX0K');</script>\n",
       "    "
      ],
      "text/plain": [
       "<IPython.core.display.HTML object>"
      ]
     },
     "metadata": {},
     "output_type": "display_data"
    },
    {
     "data": {
      "text/html": [
       "\n",
       "        <div id=\"ekCHh88XhJupimEsSiduvH\"></div>\n",
       "        <script>netpixi.call('ekCHh88XhJupimEsSiduvH', 'BG6GNWMZUSpdkKQEjvjRxv', 'changeGraph', 'eyJpZCI6IDc4LCAidHlwZSI6ICJ2ZXJ0ZXgiLCAicHJvcHMiOiB7ImNvbG9yIjogMTY3MTE2ODB9fQo=');</script>\n",
       "    "
      ],
      "text/plain": [
       "<IPython.core.display.HTML object>"
      ]
     },
     "metadata": {},
     "output_type": "display_data"
    },
    {
     "data": {
      "text/html": [
       "\n",
       "        <div id=\"9KfecRi8X4v6d2B6Dm5AFT\"></div>\n",
       "        <script>netpixi.call('9KfecRi8X4v6d2B6Dm5AFT', 'BG6GNWMZUSpdkKQEjvjRxv', 'changeGraph', 'eyJpZCI6IDE0NCwgInR5cGUiOiAidmVydGV4IiwgInByb3BzIjogeyJzaXplIjogMTAuODM2ODIwMDgzNjgyMDA4fX0K');</script>\n",
       "    "
      ],
      "text/plain": [
       "<IPython.core.display.HTML object>"
      ]
     },
     "metadata": {},
     "output_type": "display_data"
    },
    {
     "data": {
      "text/html": [
       "\n",
       "        <div id=\"SviY3VxJMcU2s8ufpVrG6A\"></div>\n",
       "        <script>netpixi.call('SviY3VxJMcU2s8ufpVrG6A', 'BG6GNWMZUSpdkKQEjvjRxv', 'changeGraph', 'eyJpZCI6IDUzLCAidHlwZSI6ICJ2ZXJ0ZXgiLCAicHJvcHMiOiB7ImNvbG9yIjogMTY3MTE2ODB9fQo=');</script>\n",
       "    "
      ],
      "text/plain": [
       "<IPython.core.display.HTML object>"
      ]
     },
     "metadata": {},
     "output_type": "display_data"
    },
    {
     "data": {
      "text/html": [
       "\n",
       "        <div id=\"HGZDyusFSmKvpAFPs4HFyf\"></div>\n",
       "        <script>netpixi.call('HGZDyusFSmKvpAFPs4HFyf', 'BG6GNWMZUSpdkKQEjvjRxv', 'changeGraph', 'eyJpZCI6IDE0NSwgInR5cGUiOiAidmVydGV4IiwgInByb3BzIjogeyJzaXplIjogMTQuODUzNTU2NDg1MzU1NjQ4fX0K');</script>\n",
       "    "
      ],
      "text/plain": [
       "<IPython.core.display.HTML object>"
      ]
     },
     "metadata": {},
     "output_type": "display_data"
    },
    {
     "data": {
      "text/html": [
       "\n",
       "        <div id=\"S9mhC7qeV49UUds5gukX7u\"></div>\n",
       "        <script>netpixi.call('S9mhC7qeV49UUds5gukX7u', 'BG6GNWMZUSpdkKQEjvjRxv', 'changeGraph', 'eyJpZCI6IDk0LCAidHlwZSI6ICJ2ZXJ0ZXgiLCAicHJvcHMiOiB7ImNvbG9yIjogMTY3MTE2ODB9fQo=');</script>\n",
       "    "
      ],
      "text/plain": [
       "<IPython.core.display.HTML object>"
      ]
     },
     "metadata": {},
     "output_type": "display_data"
    },
    {
     "data": {
      "text/html": [
       "\n",
       "        <div id=\"arYgjcxpDpZLWcP88NHurY\"></div>\n",
       "        <script>netpixi.call('arYgjcxpDpZLWcP88NHurY', 'BG6GNWMZUSpdkKQEjvjRxv', 'changeGraph', 'eyJpZCI6IDE0NiwgInR5cGUiOiAidmVydGV4IiwgInByb3BzIjogeyJzaXplIjogMTQuMzkzMzA1NDM5MzMwNTQzfX0K');</script>\n",
       "    "
      ],
      "text/plain": [
       "<IPython.core.display.HTML object>"
      ]
     },
     "metadata": {},
     "output_type": "display_data"
    },
    {
     "data": {
      "text/html": [
       "\n",
       "        <div id=\"KqB9PawFtUh55qqzfuc8Uq\"></div>\n",
       "        <script>netpixi.call('KqB9PawFtUh55qqzfuc8Uq', 'BG6GNWMZUSpdkKQEjvjRxv', 'changeGraph', 'eyJpZCI6IDc2LCAidHlwZSI6ICJ2ZXJ0ZXgiLCAicHJvcHMiOiB7ImNvbG9yIjogMTY3MTE2ODB9fQo=');</script>\n",
       "    "
      ],
      "text/plain": [
       "<IPython.core.display.HTML object>"
      ]
     },
     "metadata": {},
     "output_type": "display_data"
    },
    {
     "data": {
      "text/html": [
       "\n",
       "        <div id=\"eG3UcnNPnHmP7M2jLbxzY7\"></div>\n",
       "        <script>netpixi.call('eG3UcnNPnHmP7M2jLbxzY7', 'BG6GNWMZUSpdkKQEjvjRxv', 'changeGraph', 'eyJpZCI6IDE0NywgInR5cGUiOiAidmVydGV4IiwgInByb3BzIjogeyJzaXplIjogMTIuOTI4ODcwMjkyODg3MDN9fQo=');</script>\n",
       "    "
      ],
      "text/plain": [
       "<IPython.core.display.HTML object>"
      ]
     },
     "metadata": {},
     "output_type": "display_data"
    },
    {
     "data": {
      "text/html": [
       "\n",
       "        <div id=\"CoFSRCSNqEuV775HKgMmP9\"></div>\n",
       "        <script>netpixi.call('CoFSRCSNqEuV775HKgMmP9', 'BG6GNWMZUSpdkKQEjvjRxv', 'changeGraph', 'eyJpZCI6IDU0LCAidHlwZSI6ICJ2ZXJ0ZXgiLCAicHJvcHMiOiB7ImNvbG9yIjogMTY3MTE2ODB9fQo=');</script>\n",
       "    "
      ],
      "text/plain": [
       "<IPython.core.display.HTML object>"
      ]
     },
     "metadata": {},
     "output_type": "display_data"
    },
    {
     "data": {
      "text/html": [
       "\n",
       "        <div id=\"Ka9skaQwmNuSsy7nswTgXi\"></div>\n",
       "        <script>netpixi.call('Ka9skaQwmNuSsy7nswTgXi', 'BG6GNWMZUSpdkKQEjvjRxv', 'changeGraph', 'eyJpZCI6IDE0OCwgInR5cGUiOiAidmVydGV4IiwgInByb3BzIjogeyJzaXplIjogMTEuNDIyNTk0MTQyMjU5NDEzfX0K');</script>\n",
       "    "
      ],
      "text/plain": [
       "<IPython.core.display.HTML object>"
      ]
     },
     "metadata": {},
     "output_type": "display_data"
    },
    {
     "data": {
      "text/html": [
       "\n",
       "        <div id=\"j2zPhf74bxPXTco8GKSTms\"></div>\n",
       "        <script>netpixi.call('j2zPhf74bxPXTco8GKSTms', 'BG6GNWMZUSpdkKQEjvjRxv', 'changeGraph', 'eyJpZCI6IDY4LCAidHlwZSI6ICJ2ZXJ0ZXgiLCAicHJvcHMiOiB7ImNvbG9yIjogMTY3MTE2ODB9fQo=');</script>\n",
       "    "
      ],
      "text/plain": [
       "<IPython.core.display.HTML object>"
      ]
     },
     "metadata": {},
     "output_type": "display_data"
    },
    {
     "data": {
      "text/html": [
       "\n",
       "        <div id=\"BWYRAWWfgB9P4hF73dDGTc\"></div>\n",
       "        <script>netpixi.call('BWYRAWWfgB9P4hF73dDGTc', 'BG6GNWMZUSpdkKQEjvjRxv', 'changeGraph', 'eyJpZCI6IDE0OSwgInR5cGUiOiAidmVydGV4IiwgInByb3BzIjogeyJzaXplIjogNDEuMH19Cg==');</script>\n",
       "    "
      ],
      "text/plain": [
       "<IPython.core.display.HTML object>"
      ]
     },
     "metadata": {},
     "output_type": "display_data"
    },
    {
     "data": {
      "text/html": [
       "\n",
       "        <div id=\"9kcU7tVFuob8KCpsXfRUhD\"></div>\n",
       "        <script>netpixi.call('9kcU7tVFuob8KCpsXfRUhD', 'BG6GNWMZUSpdkKQEjvjRxv', 'changeGraph', 'eyJpZCI6IDY1LCAidHlwZSI6ICJ2ZXJ0ZXgiLCAicHJvcHMiOiB7ImNvbG9yIjogMTY3MTE2ODB9fQo=');</script>\n",
       "    "
      ],
      "text/plain": [
       "<IPython.core.display.HTML object>"
      ]
     },
     "metadata": {},
     "output_type": "display_data"
    },
    {
     "data": {
      "text/html": [
       "\n",
       "        <div id=\"Rr3XasUqETYJW8iKMZXVpJ\"></div>\n",
       "        <script>netpixi.call('Rr3XasUqETYJW8iKMZXVpJ', 'BG6GNWMZUSpdkKQEjvjRxv', 'changeGraph', 'eyJpZCI6IDE1MCwgInR5cGUiOiAidmVydGV4IiwgInByb3BzIjogeyJzaXplIjogNDIuNX19Cg==');</script>\n",
       "    "
      ],
      "text/plain": [
       "<IPython.core.display.HTML object>"
      ]
     },
     "metadata": {},
     "output_type": "display_data"
    },
    {
     "data": {
      "text/html": [
       "\n",
       "        <div id=\"nUkj2v3zwEhm2tbxVv4Ei7\"></div>\n",
       "        <script>netpixi.call('nUkj2v3zwEhm2tbxVv4Ei7', 'BG6GNWMZUSpdkKQEjvjRxv', 'changeGraph', 'eyJpZCI6IDkwLCAidHlwZSI6ICJ2ZXJ0ZXgiLCAicHJvcHMiOiB7ImNvbG9yIjogMTY3MTE2ODB9fQo=');</script>\n",
       "    "
      ],
      "text/plain": [
       "<IPython.core.display.HTML object>"
      ]
     },
     "metadata": {},
     "output_type": "display_data"
    },
    {
     "data": {
      "text/html": [
       "\n",
       "        <div id=\"6TScXj8jgp4DVnW2QB2jnC\"></div>\n",
       "        <script>netpixi.call('6TScXj8jgp4DVnW2QB2jnC', 'BG6GNWMZUSpdkKQEjvjRxv', 'changeGraph', 'eyJpZCI6IDE1MSwgInR5cGUiOiAidmVydGV4IiwgInByb3BzIjogeyJzaXplIjogMTcuODI0MjY3NzgyNDI2Nzh9fQo=');</script>\n",
       "    "
      ],
      "text/plain": [
       "<IPython.core.display.HTML object>"
      ]
     },
     "metadata": {},
     "output_type": "display_data"
    },
    {
     "data": {
      "text/html": [
       "\n",
       "        <div id=\"Qw98S2uJwr74GGTB5x4Ntv\"></div>\n",
       "        <script>netpixi.call('Qw98S2uJwr74GGTB5x4Ntv', 'BG6GNWMZUSpdkKQEjvjRxv', 'changeGraph', 'eyJpZCI6IDg4LCAidHlwZSI6ICJ2ZXJ0ZXgiLCAicHJvcHMiOiB7ImNvbG9yIjogMTY3MTE2ODB9fQo=');</script>\n",
       "    "
      ],
      "text/plain": [
       "<IPython.core.display.HTML object>"
      ]
     },
     "metadata": {},
     "output_type": "display_data"
    },
    {
     "data": {
      "text/html": [
       "\n",
       "        <div id=\"QDzMkjg5QckfBYHwy3d7iv\"></div>\n",
       "        <script>netpixi.call('QDzMkjg5QckfBYHwy3d7iv', 'BG6GNWMZUSpdkKQEjvjRxv', 'changeGraph', 'eyJpZCI6IDE1MiwgInR5cGUiOiAidmVydGV4IiwgInByb3BzIjogeyJzaXplIjogMTMuMDU0MzkzMzA1NDM5MzN9fQo=');</script>\n",
       "    "
      ],
      "text/plain": [
       "<IPython.core.display.HTML object>"
      ]
     },
     "metadata": {},
     "output_type": "display_data"
    },
    {
     "data": {
      "text/html": [
       "\n",
       "        <div id=\"MsQhvqeDxdWQqqgrdCs66H\"></div>\n",
       "        <script>netpixi.call('MsQhvqeDxdWQqqgrdCs66H', 'BG6GNWMZUSpdkKQEjvjRxv', 'changeGraph', 'eyJpZCI6IDg2LCAidHlwZSI6ICJ2ZXJ0ZXgiLCAicHJvcHMiOiB7ImNvbG9yIjogMTY3MTE2ODB9fQo=');</script>\n",
       "    "
      ],
      "text/plain": [
       "<IPython.core.display.HTML object>"
      ]
     },
     "metadata": {},
     "output_type": "display_data"
    },
    {
     "data": {
      "text/html": [
       "\n",
       "        <div id=\"mpSNJM2qCsuq3xzPXmi9oE\"></div>\n",
       "        <script>netpixi.call('mpSNJM2qCsuq3xzPXmi9oE', 'BG6GNWMZUSpdkKQEjvjRxv', 'changeGraph', 'eyJpZCI6IDE1MywgInR5cGUiOiAidmVydGV4IiwgInByb3BzIjogeyJzaXplIjogMTMuMTM4MDc1MzEzODA3NTMyfX0K');</script>\n",
       "    "
      ],
      "text/plain": [
       "<IPython.core.display.HTML object>"
      ]
     },
     "metadata": {},
     "output_type": "display_data"
    },
    {
     "data": {
      "text/html": [
       "\n",
       "        <div id=\"mbACQLDQNR4iwGej3aCg6J\"></div>\n",
       "        <script>netpixi.call('mbACQLDQNR4iwGej3aCg6J', 'BG6GNWMZUSpdkKQEjvjRxv', 'changeGraph', 'eyJpZCI6IDcyLCAidHlwZSI6ICJ2ZXJ0ZXgiLCAicHJvcHMiOiB7ImNvbG9yIjogMTY3MTE2ODB9fQo=');</script>\n",
       "    "
      ],
      "text/plain": [
       "<IPython.core.display.HTML object>"
      ]
     },
     "metadata": {},
     "output_type": "display_data"
    },
    {
     "data": {
      "text/html": [
       "\n",
       "        <div id=\"CRSgHmGjWaHFHzJBMtZDoH\"></div>\n",
       "        <script>netpixi.call('CRSgHmGjWaHFHzJBMtZDoH', 'BG6GNWMZUSpdkKQEjvjRxv', 'changeGraph', 'eyJpZCI6IDE1NCwgInR5cGUiOiAidmVydGV4IiwgInByb3BzIjogeyJzaXplIjogMTguOTEyMTMzODkxMjEzMzg3fX0K');</script>\n",
       "    "
      ],
      "text/plain": [
       "<IPython.core.display.HTML object>"
      ]
     },
     "metadata": {},
     "output_type": "display_data"
    },
    {
     "data": {
      "text/html": [
       "\n",
       "        <div id=\"KCJBptu6EMKXJ39EzzvuSe\"></div>\n",
       "        <script>netpixi.call('KCJBptu6EMKXJ39EzzvuSe', 'BG6GNWMZUSpdkKQEjvjRxv', 'changeGraph', 'eyJpZCI6IDgyLCAidHlwZSI6ICJ2ZXJ0ZXgiLCAicHJvcHMiOiB7ImNvbG9yIjogMTY3MTE2ODB9fQo=');</script>\n",
       "    "
      ],
      "text/plain": [
       "<IPython.core.display.HTML object>"
      ]
     },
     "metadata": {},
     "output_type": "display_data"
    },
    {
     "data": {
      "text/html": [
       "\n",
       "        <div id=\"7hwpaJ6rzzJvTQQLHwYAhv\"></div>\n",
       "        <script>netpixi.call('7hwpaJ6rzzJvTQQLHwYAhv', 'BG6GNWMZUSpdkKQEjvjRxv', 'changeGraph', 'eyJpZCI6IDE1NSwgInR5cGUiOiAidmVydGV4IiwgInByb3BzIjogeyJzaXplIjogMTUuMTA0NjAyNTEwNDYwMjV9fQo=');</script>\n",
       "    "
      ],
      "text/plain": [
       "<IPython.core.display.HTML object>"
      ]
     },
     "metadata": {},
     "output_type": "display_data"
    },
    {
     "data": {
      "text/html": [
       "\n",
       "        <div id=\"frwYngNePwtgWR9VaZzRc6\"></div>\n",
       "        <script>netpixi.call('frwYngNePwtgWR9VaZzRc6', 'BG6GNWMZUSpdkKQEjvjRxv', 'changeGraph', 'eyJpZCI6IDg2LCAidHlwZSI6ICJ2ZXJ0ZXgiLCAicHJvcHMiOiB7ImNvbG9yIjogMTY3MTE2ODB9fQo=');</script>\n",
       "    "
      ],
      "text/plain": [
       "<IPython.core.display.HTML object>"
      ]
     },
     "metadata": {},
     "output_type": "display_data"
    },
    {
     "data": {
      "text/html": [
       "\n",
       "        <div id=\"UWaxMWRoufH2rbew9xaM4t\"></div>\n",
       "        <script>netpixi.call('UWaxMWRoufH2rbew9xaM4t', 'BG6GNWMZUSpdkKQEjvjRxv', 'changeGraph', 'eyJpZCI6IDE1NiwgInR5cGUiOiAidmVydGV4IiwgInByb3BzIjogeyJzaXplIjogNDkuNX19Cg==');</script>\n",
       "    "
      ],
      "text/plain": [
       "<IPython.core.display.HTML object>"
      ]
     },
     "metadata": {},
     "output_type": "display_data"
    },
    {
     "data": {
      "text/html": [
       "\n",
       "        <div id=\"Rkd38RNAwWrX3u9QhsEWoY\"></div>\n",
       "        <script>netpixi.call('Rkd38RNAwWrX3u9QhsEWoY', 'BG6GNWMZUSpdkKQEjvjRxv', 'changeGraph', 'eyJpZCI6IDgxLCAidHlwZSI6ICJ2ZXJ0ZXgiLCAicHJvcHMiOiB7ImNvbG9yIjogMTY3MTE2ODB9fQo=');</script>\n",
       "    "
      ],
      "text/plain": [
       "<IPython.core.display.HTML object>"
      ]
     },
     "metadata": {},
     "output_type": "display_data"
    },
    {
     "data": {
      "text/html": [
       "\n",
       "        <div id=\"7FsRmLHZKJ8i8B3Wi2vhLp\"></div>\n",
       "        <script>netpixi.call('7FsRmLHZKJ8i8B3Wi2vhLp', 'BG6GNWMZUSpdkKQEjvjRxv', 'changeGraph', 'eyJpZCI6IDE1NywgInR5cGUiOiAidmVydGV4IiwgInByb3BzIjogeyJzaXplIjogMTAuMzM0NzI4MDMzNDcyODAzfX0K');</script>\n",
       "    "
      ],
      "text/plain": [
       "<IPython.core.display.HTML object>"
      ]
     },
     "metadata": {},
     "output_type": "display_data"
    },
    {
     "data": {
      "text/html": [
       "\n",
       "        <div id=\"k4DFecXRhMFyjCTQWqUmdy\"></div>\n",
       "        <script>netpixi.call('k4DFecXRhMFyjCTQWqUmdy', 'BG6GNWMZUSpdkKQEjvjRxv', 'changeGraph', 'eyJpZCI6IDY5LCAidHlwZSI6ICJ2ZXJ0ZXgiLCAicHJvcHMiOiB7ImNvbG9yIjogMTY3MTE2ODB9fQo=');</script>\n",
       "    "
      ],
      "text/plain": [
       "<IPython.core.display.HTML object>"
      ]
     },
     "metadata": {},
     "output_type": "display_data"
    },
    {
     "data": {
      "text/html": [
       "\n",
       "        <div id=\"bGiwMSfGJequGncWhDofjq\"></div>\n",
       "        <script>netpixi.call('bGiwMSfGJequGncWhDofjq', 'BG6GNWMZUSpdkKQEjvjRxv', 'changeGraph', 'eyJpZCI6IDE1OCwgInR5cGUiOiAidmVydGV4IiwgInByb3BzIjogeyJzaXplIjogMTIuNzE5NjY1MjcxOTY2NTI3fX0K');</script>\n",
       "    "
      ],
      "text/plain": [
       "<IPython.core.display.HTML object>"
      ]
     },
     "metadata": {},
     "output_type": "display_data"
    },
    {
     "data": {
      "text/html": [
       "\n",
       "        <div id=\"nLMnv2FkkG8ZJ8Dn67Fm6V\"></div>\n",
       "        <script>netpixi.call('nLMnv2FkkG8ZJ8Dn67Fm6V', 'BG6GNWMZUSpdkKQEjvjRxv', 'changeGraph', 'eyJpZCI6IDcwLCAidHlwZSI6ICJ2ZXJ0ZXgiLCAicHJvcHMiOiB7ImNvbG9yIjogMTY3MTE2ODB9fQo=');</script>\n",
       "    "
      ],
      "text/plain": [
       "<IPython.core.display.HTML object>"
      ]
     },
     "metadata": {},
     "output_type": "display_data"
    },
    {
     "data": {
      "text/html": [
       "\n",
       "        <div id=\"Am7Re8sGAojtVtxYqe7vqW\"></div>\n",
       "        <script>netpixi.call('Am7Re8sGAojtVtxYqe7vqW', 'BG6GNWMZUSpdkKQEjvjRxv', 'changeGraph', 'eyJpZCI6IDE1OSwgInR5cGUiOiAidmVydGV4IiwgInByb3BzIjogeyJzaXplIjogMTAuNTQzOTMzMDU0MzkzMzA1fX0K');</script>\n",
       "    "
      ],
      "text/plain": [
       "<IPython.core.display.HTML object>"
      ]
     },
     "metadata": {},
     "output_type": "display_data"
    },
    {
     "data": {
      "text/html": [
       "\n",
       "        <div id=\"mAk8tCEs4MX4fGiCcYSxfU\"></div>\n",
       "        <script>netpixi.call('mAk8tCEs4MX4fGiCcYSxfU', 'BG6GNWMZUSpdkKQEjvjRxv', 'changeGraph', 'eyJpZCI6IDY1LCAidHlwZSI6ICJ2ZXJ0ZXgiLCAicHJvcHMiOiB7ImNvbG9yIjogMTY3MTE2ODB9fQo=');</script>\n",
       "    "
      ],
      "text/plain": [
       "<IPython.core.display.HTML object>"
      ]
     },
     "metadata": {},
     "output_type": "display_data"
    },
    {
     "data": {
      "text/html": [
       "\n",
       "        <div id=\"XEShSHnUzywXeTrre4Zqoe\"></div>\n",
       "        <script>netpixi.call('XEShSHnUzywXeTrre4Zqoe', 'BG6GNWMZUSpdkKQEjvjRxv', 'changeGraph', 'eyJpZCI6IDE2MCwgInR5cGUiOiAidmVydGV4IiwgInByb3BzIjogeyJzaXplIjogNDYuMTY2NjY2NjY2NjY2NjY0fX0K');</script>\n",
       "    "
      ],
      "text/plain": [
       "<IPython.core.display.HTML object>"
      ]
     },
     "metadata": {},
     "output_type": "display_data"
    },
    {
     "data": {
      "text/html": [
       "\n",
       "        <div id=\"4nT4DRkb9GathBn4taeCoM\"></div>\n",
       "        <script>netpixi.call('4nT4DRkb9GathBn4taeCoM', 'BG6GNWMZUSpdkKQEjvjRxv', 'changeGraph', 'eyJpZCI6IDc2LCAidHlwZSI6ICJ2ZXJ0ZXgiLCAicHJvcHMiOiB7ImNvbG9yIjogMTY3MTE2ODB9fQo=');</script>\n",
       "    "
      ],
      "text/plain": [
       "<IPython.core.display.HTML object>"
      ]
     },
     "metadata": {},
     "output_type": "display_data"
    },
    {
     "data": {
      "text/html": [
       "\n",
       "        <div id=\"VuHQBERtdHYpHyuu75mhhn\"></div>\n",
       "        <script>netpixi.call('VuHQBERtdHYpHyuu75mhhn', 'BG6GNWMZUSpdkKQEjvjRxv', 'changeGraph', 'eyJpZCI6IDE2MSwgInR5cGUiOiAidmVydGV4IiwgInByb3BzIjogeyJzaXplIjogMTUuMjMwMTI1NTIzMDEyNTUyfX0K');</script>\n",
       "    "
      ],
      "text/plain": [
       "<IPython.core.display.HTML object>"
      ]
     },
     "metadata": {},
     "output_type": "display_data"
    },
    {
     "data": {
      "text/html": [
       "\n",
       "        <div id=\"FVAeKdSQGXZiEooFA2HVRg\"></div>\n",
       "        <script>netpixi.call('FVAeKdSQGXZiEooFA2HVRg', 'BG6GNWMZUSpdkKQEjvjRxv', 'changeGraph', 'eyJpZCI6IDg0LCAidHlwZSI6ICJ2ZXJ0ZXgiLCAicHJvcHMiOiB7ImNvbG9yIjogMTY3MTE2ODB9fQo=');</script>\n",
       "    "
      ],
      "text/plain": [
       "<IPython.core.display.HTML object>"
      ]
     },
     "metadata": {},
     "output_type": "display_data"
    },
    {
     "data": {
      "text/html": [
       "\n",
       "        <div id=\"oNXAK4n4QKwjQ3oyQ4VyXQ\"></div>\n",
       "        <script>netpixi.call('oNXAK4n4QKwjQ3oyQ4VyXQ', 'BG6GNWMZUSpdkKQEjvjRxv', 'changeGraph', 'eyJpZCI6IDE2MiwgInR5cGUiOiAidmVydGV4IiwgInByb3BzIjogeyJzaXplIjogNDYuNjY2NjY2NjY2NjY2NjY0fX0K');</script>\n",
       "    "
      ],
      "text/plain": [
       "<IPython.core.display.HTML object>"
      ]
     },
     "metadata": {},
     "output_type": "display_data"
    },
    {
     "data": {
      "text/html": [
       "\n",
       "        <div id=\"dcudV5zwGSAbRADLgqGv6q\"></div>\n",
       "        <script>netpixi.call('dcudV5zwGSAbRADLgqGv6q', 'BG6GNWMZUSpdkKQEjvjRxv', 'changeGraph', 'eyJpZCI6IDczLCAidHlwZSI6ICJ2ZXJ0ZXgiLCAicHJvcHMiOiB7ImNvbG9yIjogMTY3MTE2ODB9fQo=');</script>\n",
       "    "
      ],
      "text/plain": [
       "<IPython.core.display.HTML object>"
      ]
     },
     "metadata": {},
     "output_type": "display_data"
    },
    {
     "data": {
      "text/html": [
       "\n",
       "        <div id=\"fJNxcmTgN3NS9kwPXdBAZn\"></div>\n",
       "        <script>netpixi.call('fJNxcmTgN3NS9kwPXdBAZn', 'BG6GNWMZUSpdkKQEjvjRxv', 'changeGraph', 'eyJpZCI6IDE2MywgInR5cGUiOiAidmVydGV4IiwgInByb3BzIjogeyJzaXplIjogMTkuNjIzNDMwOTYyMzQzMDk3fX0K');</script>\n",
       "    "
      ],
      "text/plain": [
       "<IPython.core.display.HTML object>"
      ]
     },
     "metadata": {},
     "output_type": "display_data"
    },
    {
     "data": {
      "text/html": [
       "\n",
       "        <div id=\"DNPXRD9WKwGNjPVAxS4ZPJ\"></div>\n",
       "        <script>netpixi.call('DNPXRD9WKwGNjPVAxS4ZPJ', 'BG6GNWMZUSpdkKQEjvjRxv', 'changeGraph', 'eyJpZCI6IDgxLCAidHlwZSI6ICJ2ZXJ0ZXgiLCAicHJvcHMiOiB7ImNvbG9yIjogMTY3MTE2ODB9fQo=');</script>\n",
       "    "
      ],
      "text/plain": [
       "<IPython.core.display.HTML object>"
      ]
     },
     "metadata": {},
     "output_type": "display_data"
    },
    {
     "data": {
      "text/html": [
       "\n",
       "        <div id=\"YTskYGGwXnC23Wz4twRMur\"></div>\n",
       "        <script>netpixi.call('YTskYGGwXnC23Wz4twRMur', 'BG6GNWMZUSpdkKQEjvjRxv', 'changeGraph', 'eyJpZCI6IDE2NCwgInR5cGUiOiAidmVydGV4IiwgInByb3BzIjogeyJzaXplIjogMTUuNzMyMjE3NTczMjIxNzU3fX0K');</script>\n",
       "    "
      ],
      "text/plain": [
       "<IPython.core.display.HTML object>"
      ]
     },
     "metadata": {},
     "output_type": "display_data"
    },
    {
     "data": {
      "text/html": [
       "\n",
       "        <div id=\"FztEZEDtFtn277CSgDqxdU\"></div>\n",
       "        <script>netpixi.call('FztEZEDtFtn277CSgDqxdU', 'BG6GNWMZUSpdkKQEjvjRxv', 'changeGraph', 'eyJpZCI6IDg2LCAidHlwZSI6ICJ2ZXJ0ZXgiLCAicHJvcHMiOiB7ImNvbG9yIjogMTY3MTE2ODB9fQo=');</script>\n",
       "    "
      ],
      "text/plain": [
       "<IPython.core.display.HTML object>"
      ]
     },
     "metadata": {},
     "output_type": "display_data"
    },
    {
     "data": {
      "text/html": [
       "\n",
       "        <div id=\"JVQ4qa8aTkGAU6JkxRiveJ\"></div>\n",
       "        <script>netpixi.call('JVQ4qa8aTkGAU6JkxRiveJ', 'BG6GNWMZUSpdkKQEjvjRxv', 'changeGraph', 'eyJpZCI6IDE2NSwgInR5cGUiOiAidmVydGV4IiwgInByb3BzIjogeyJzaXplIjogMTUuMDYyNzYxNTA2Mjc2MTV9fQo=');</script>\n",
       "    "
      ],
      "text/plain": [
       "<IPython.core.display.HTML object>"
      ]
     },
     "metadata": {},
     "output_type": "display_data"
    },
    {
     "data": {
      "text/html": [
       "\n",
       "        <div id=\"bP5WKe5Wpy6h4dVeCtcvC5\"></div>\n",
       "        <script>netpixi.call('bP5WKe5Wpy6h4dVeCtcvC5', 'BG6GNWMZUSpdkKQEjvjRxv', 'changeGraph', 'eyJpZCI6IDg3LCAidHlwZSI6ICJ2ZXJ0ZXgiLCAicHJvcHMiOiB7ImNvbG9yIjogMTY3MTE2ODB9fQo=');</script>\n",
       "    "
      ],
      "text/plain": [
       "<IPython.core.display.HTML object>"
      ]
     },
     "metadata": {},
     "output_type": "display_data"
    },
    {
     "data": {
      "text/html": [
       "\n",
       "        <div id=\"7Pt27Q66aY3TDNkDmDMwwn\"></div>\n",
       "        <script>netpixi.call('7Pt27Q66aY3TDNkDmDMwwn', 'BG6GNWMZUSpdkKQEjvjRxv', 'changeGraph', 'eyJpZCI6IDE2NiwgInR5cGUiOiAidmVydGV4IiwgInByb3BzIjogeyJzaXplIjogMTkuMzcyMzg0OTM3MjM4NDkzfX0K');</script>\n",
       "    "
      ],
      "text/plain": [
       "<IPython.core.display.HTML object>"
      ]
     },
     "metadata": {},
     "output_type": "display_data"
    },
    {
     "data": {
      "text/html": [
       "\n",
       "        <div id=\"VkXkCSH9EcWqoVFwUAmuLv\"></div>\n",
       "        <script>netpixi.call('VkXkCSH9EcWqoVFwUAmuLv', 'BG6GNWMZUSpdkKQEjvjRxv', 'changeGraph', 'eyJpZCI6IDg5LCAidHlwZSI6ICJ2ZXJ0ZXgiLCAicHJvcHMiOiB7ImNvbG9yIjogMTY3MTE2ODB9fQo=');</script>\n",
       "    "
      ],
      "text/plain": [
       "<IPython.core.display.HTML object>"
      ]
     },
     "metadata": {},
     "output_type": "display_data"
    },
    {
     "data": {
      "text/html": [
       "\n",
       "        <div id=\"WDL938cBpw3HB2c7M3m6mb\"></div>\n",
       "        <script>netpixi.call('WDL938cBpw3HB2c7M3m6mb', 'BG6GNWMZUSpdkKQEjvjRxv', 'changeGraph', 'eyJpZCI6IDE2NywgInR5cGUiOiAidmVydGV4IiwgInByb3BzIjogeyJzaXplIjogNDguODMzMzMzMzMzMzMzMzM2fX0K');</script>\n",
       "    "
      ],
      "text/plain": [
       "<IPython.core.display.HTML object>"
      ]
     },
     "metadata": {},
     "output_type": "display_data"
    },
    {
     "data": {
      "text/html": [
       "\n",
       "        <div id=\"baX6MCGYD7X5oBzYRbVDeq\"></div>\n",
       "        <script>netpixi.call('baX6MCGYD7X5oBzYRbVDeq', 'BG6GNWMZUSpdkKQEjvjRxv', 'changeGraph', 'eyJpZCI6IDczLCAidHlwZSI6ICJ2ZXJ0ZXgiLCAicHJvcHMiOiB7ImNvbG9yIjogMTY3MTE2ODB9fQo=');</script>\n",
       "    "
      ],
      "text/plain": [
       "<IPython.core.display.HTML object>"
      ]
     },
     "metadata": {},
     "output_type": "display_data"
    },
    {
     "data": {
      "text/html": [
       "\n",
       "        <div id=\"9J3DAuh3HgJWQNspYxgPAb\"></div>\n",
       "        <script>netpixi.call('9J3DAuh3HgJWQNspYxgPAb', 'BG6GNWMZUSpdkKQEjvjRxv', 'changeGraph', 'eyJpZCI6IDE2OCwgInR5cGUiOiAidmVydGV4IiwgInByb3BzIjogeyJzaXplIjogMTEuMTI5NzA3MTEyOTcwNzEyfX0K');</script>\n",
       "    "
      ],
      "text/plain": [
       "<IPython.core.display.HTML object>"
      ]
     },
     "metadata": {},
     "output_type": "display_data"
    },
    {
     "data": {
      "text/html": [
       "\n",
       "        <div id=\"AKxDxZgCZQMUiTfKeDt4Px\"></div>\n",
       "        <script>netpixi.call('AKxDxZgCZQMUiTfKeDt4Px', 'BG6GNWMZUSpdkKQEjvjRxv', 'changeGraph', 'eyJpZCI6IDgwLCAidHlwZSI6ICJ2ZXJ0ZXgiLCAicHJvcHMiOiB7ImNvbG9yIjogMTY3MTE2ODB9fQo=');</script>\n",
       "    "
      ],
      "text/plain": [
       "<IPython.core.display.HTML object>"
      ]
     },
     "metadata": {},
     "output_type": "display_data"
    },
    {
     "data": {
      "text/html": [
       "\n",
       "        <div id=\"Q4DBWTyeHN5Hw2MUNrwG7T\"></div>\n",
       "        <script>netpixi.call('Q4DBWTyeHN5Hw2MUNrwG7T', 'BG6GNWMZUSpdkKQEjvjRxv', 'changeGraph', 'eyJpZCI6IDE2OSwgInR5cGUiOiAidmVydGV4IiwgInByb3BzIjogeyJzaXplIjogMTcuOTA3OTQ5NzkwNzk0OTh9fQo=');</script>\n",
       "    "
      ],
      "text/plain": [
       "<IPython.core.display.HTML object>"
      ]
     },
     "metadata": {},
     "output_type": "display_data"
    },
    {
     "data": {
      "text/html": [
       "\n",
       "        <div id=\"RH3fCobMg5i9CcciEH8Ehc\"></div>\n",
       "        <script>netpixi.call('RH3fCobMg5i9CcciEH8Ehc', 'BG6GNWMZUSpdkKQEjvjRxv', 'changeGraph', 'eyJpZCI6IDg1LCAidHlwZSI6ICJ2ZXJ0ZXgiLCAicHJvcHMiOiB7ImNvbG9yIjogMTY3MTE2ODB9fQo=');</script>\n",
       "    "
      ],
      "text/plain": [
       "<IPython.core.display.HTML object>"
      ]
     },
     "metadata": {},
     "output_type": "display_data"
    },
    {
     "data": {
      "text/html": [
       "\n",
       "        <div id=\"X9vEmXVKzUxocLjk7mZhjM\"></div>\n",
       "        <script>netpixi.call('X9vEmXVKzUxocLjk7mZhjM', 'BG6GNWMZUSpdkKQEjvjRxv', 'changeGraph', 'eyJpZCI6IDE3MCwgInR5cGUiOiAidmVydGV4IiwgInByb3BzIjogeyJzaXplIjogNDMuMzMzMzMzMzMzMzMzMzM2fX0K');</script>\n",
       "    "
      ],
      "text/plain": [
       "<IPython.core.display.HTML object>"
      ]
     },
     "metadata": {},
     "output_type": "display_data"
    },
    {
     "data": {
      "text/html": [
       "\n",
       "        <div id=\"3eMMDrxXUyQ3NTdSDDwhLX\"></div>\n",
       "        <script>netpixi.call('3eMMDrxXUyQ3NTdSDDwhLX', 'BG6GNWMZUSpdkKQEjvjRxv', 'changeGraph', 'eyJpZCI6IDY4LCAidHlwZSI6ICJ2ZXJ0ZXgiLCAicHJvcHMiOiB7ImNvbG9yIjogMTY3MTE2ODB9fQo=');</script>\n",
       "    "
      ],
      "text/plain": [
       "<IPython.core.display.HTML object>"
      ]
     },
     "metadata": {},
     "output_type": "display_data"
    },
    {
     "data": {
      "text/html": [
       "\n",
       "        <div id=\"C2X4yFRMVcFUuhi7zPasHD\"></div>\n",
       "        <script>netpixi.call('C2X4yFRMVcFUuhi7zPasHD', 'BG6GNWMZUSpdkKQEjvjRxv', 'changeGraph', 'eyJpZCI6IDE3MSwgInR5cGUiOiAidmVydGV4IiwgInByb3BzIjogeyJzaXplIjogMTIuMDUwMjA5MjA1MDIwOTJ9fQo=');</script>\n",
       "    "
      ],
      "text/plain": [
       "<IPython.core.display.HTML object>"
      ]
     },
     "metadata": {},
     "output_type": "display_data"
    },
    {
     "data": {
      "text/html": [
       "\n",
       "        <div id=\"5tqN5n72df4aaMF9oZMVwv\"></div>\n",
       "        <script>netpixi.call('5tqN5n72df4aaMF9oZMVwv', 'BG6GNWMZUSpdkKQEjvjRxv', 'changeGraph', 'eyJpZCI6IDgyLCAidHlwZSI6ICJ2ZXJ0ZXgiLCAicHJvcHMiOiB7ImNvbG9yIjogMTY3MTE2ODB9fQo=');</script>\n",
       "    "
      ],
      "text/plain": [
       "<IPython.core.display.HTML object>"
      ]
     },
     "metadata": {},
     "output_type": "display_data"
    },
    {
     "data": {
      "text/html": [
       "\n",
       "        <div id=\"CXKWcdwwWrPV9yjc9Y6WeF\"></div>\n",
       "        <script>netpixi.call('CXKWcdwwWrPV9yjc9Y6WeF', 'BG6GNWMZUSpdkKQEjvjRxv', 'changeGraph', 'eyJpZCI6IDE3MiwgInR5cGUiOiAidmVydGV4IiwgInByb3BzIjogeyJzaXplIjogMTIuNTEwNDYwMjUxMDQ2MDI1fX0K');</script>\n",
       "    "
      ],
      "text/plain": [
       "<IPython.core.display.HTML object>"
      ]
     },
     "metadata": {},
     "output_type": "display_data"
    },
    {
     "data": {
      "text/html": [
       "\n",
       "        <div id=\"NiEdohSwQ6YzdLEDguYnm7\"></div>\n",
       "        <script>netpixi.call('NiEdohSwQ6YzdLEDguYnm7', 'BG6GNWMZUSpdkKQEjvjRxv', 'changeGraph', 'eyJpZCI6IDc4LCAidHlwZSI6ICJ2ZXJ0ZXgiLCAicHJvcHMiOiB7ImNvbG9yIjogMTY3MTE2ODB9fQo=');</script>\n",
       "    "
      ],
      "text/plain": [
       "<IPython.core.display.HTML object>"
      ]
     },
     "metadata": {},
     "output_type": "display_data"
    },
    {
     "data": {
      "text/html": [
       "\n",
       "        <div id=\"9TCaxFpZJvVCPb6AtvEvpS\"></div>\n",
       "        <script>netpixi.call('9TCaxFpZJvVCPb6AtvEvpS', 'BG6GNWMZUSpdkKQEjvjRxv', 'changeGraph', 'eyJpZCI6IDE3MywgInR5cGUiOiAidmVydGV4IiwgInByb3BzIjogeyJzaXplIjogMTcuMTk2NjUyNzE5NjY1MjczfX0K');</script>\n",
       "    "
      ],
      "text/plain": [
       "<IPython.core.display.HTML object>"
      ]
     },
     "metadata": {},
     "output_type": "display_data"
    },
    {
     "data": {
      "text/html": [
       "\n",
       "        <div id=\"iuf6okjuYDZWNtiuzJQxyW\"></div>\n",
       "        <script>netpixi.call('iuf6okjuYDZWNtiuzJQxyW', 'BG6GNWMZUSpdkKQEjvjRxv', 'changeGraph', 'eyJpZCI6IDgwLCAidHlwZSI6ICJ2ZXJ0ZXgiLCAicHJvcHMiOiB7ImNvbG9yIjogMTY3MTE2ODB9fQo=');</script>\n",
       "    "
      ],
      "text/plain": [
       "<IPython.core.display.HTML object>"
      ]
     },
     "metadata": {},
     "output_type": "display_data"
    },
    {
     "data": {
      "text/html": [
       "\n",
       "        <div id=\"HrJhHddoPjhoQFZi8efw46\"></div>\n",
       "        <script>netpixi.call('HrJhHddoPjhoQFZi8efw46', 'BG6GNWMZUSpdkKQEjvjRxv', 'changeGraph', 'eyJpZCI6IDE3NCwgInR5cGUiOiAidmVydGV4IiwgInByb3BzIjogeyJzaXplIjogMTkuNDE0MjI1OTQxNDIyNTkzfX0K');</script>\n",
       "    "
      ],
      "text/plain": [
       "<IPython.core.display.HTML object>"
      ]
     },
     "metadata": {},
     "output_type": "display_data"
    },
    {
     "data": {
      "text/html": [
       "\n",
       "        <div id=\"SCBhcJ8wvuR9ZsaLKCSwn2\"></div>\n",
       "        <script>netpixi.call('SCBhcJ8wvuR9ZsaLKCSwn2', 'BG6GNWMZUSpdkKQEjvjRxv', 'changeGraph', 'eyJpZCI6IDc1LCAidHlwZSI6ICJ2ZXJ0ZXgiLCAicHJvcHMiOiB7ImNvbG9yIjogMTY3MTE2ODB9fQo=');</script>\n",
       "    "
      ],
      "text/plain": [
       "<IPython.core.display.HTML object>"
      ]
     },
     "metadata": {},
     "output_type": "display_data"
    },
    {
     "data": {
      "text/html": [
       "\n",
       "        <div id=\"gAPhFyfSGdYjGgBfgq9xxB\"></div>\n",
       "        <script>netpixi.call('gAPhFyfSGdYjGgBfgq9xxB', 'BG6GNWMZUSpdkKQEjvjRxv', 'changeGraph', 'eyJpZCI6IDE3NSwgInR5cGUiOiAidmVydGV4IiwgInByb3BzIjogeyJzaXplIjogNDMuMH19Cg==');</script>\n",
       "    "
      ],
      "text/plain": [
       "<IPython.core.display.HTML object>"
      ]
     },
     "metadata": {},
     "output_type": "display_data"
    },
    {
     "data": {
      "text/html": [
       "\n",
       "        <div id=\"4G7H3xsxwHYfofqPBhvfcw\"></div>\n",
       "        <script>netpixi.call('4G7H3xsxwHYfofqPBhvfcw', 'BG6GNWMZUSpdkKQEjvjRxv', 'changeGraph', 'eyJpZCI6IDg1LCAidHlwZSI6ICJ2ZXJ0ZXgiLCAicHJvcHMiOiB7ImNvbG9yIjogMTY3MTE2ODB9fQo=');</script>\n",
       "    "
      ],
      "text/plain": [
       "<IPython.core.display.HTML object>"
      ]
     },
     "metadata": {},
     "output_type": "display_data"
    },
    {
     "data": {
      "text/html": [
       "\n",
       "        <div id=\"dktCyjmiNpwHaupGVAfXNp\"></div>\n",
       "        <script>netpixi.call('dktCyjmiNpwHaupGVAfXNp', 'BG6GNWMZUSpdkKQEjvjRxv', 'changeGraph', 'eyJpZCI6IDE3NiwgInR5cGUiOiAidmVydGV4IiwgInByb3BzIjogeyJzaXplIjogMTkuNzQ4OTUzOTc0ODk1Mzk3fX0K');</script>\n",
       "    "
      ],
      "text/plain": [
       "<IPython.core.display.HTML object>"
      ]
     },
     "metadata": {},
     "output_type": "display_data"
    },
    {
     "data": {
      "text/html": [
       "\n",
       "        <div id=\"dix9PosSZZuqq3gEe3v79A\"></div>\n",
       "        <script>netpixi.call('dix9PosSZZuqq3gEe3v79A', 'BG6GNWMZUSpdkKQEjvjRxv', 'changeGraph', 'eyJpZCI6IDY4LCAidHlwZSI6ICJ2ZXJ0ZXgiLCAicHJvcHMiOiB7ImNvbG9yIjogMTY3MTE2ODB9fQo=');</script>\n",
       "    "
      ],
      "text/plain": [
       "<IPython.core.display.HTML object>"
      ]
     },
     "metadata": {},
     "output_type": "display_data"
    },
    {
     "data": {
      "text/html": [
       "\n",
       "        <div id=\"9VP5QT7KfToXvBYYjSo84q\"></div>\n",
       "        <script>netpixi.call('9VP5QT7KfToXvBYYjSo84q', 'BG6GNWMZUSpdkKQEjvjRxv', 'changeGraph', 'eyJpZCI6IDE3NywgInR5cGUiOiAidmVydGV4IiwgInByb3BzIjogeyJzaXplIjogMTEuMDQ2MDI1MTA0NjAyNTF9fQo=');</script>\n",
       "    "
      ],
      "text/plain": [
       "<IPython.core.display.HTML object>"
      ]
     },
     "metadata": {},
     "output_type": "display_data"
    },
    {
     "data": {
      "text/html": [
       "\n",
       "        <div id=\"ZuSGgy9fG4qS8hUQysrSaP\"></div>\n",
       "        <script>netpixi.call('ZuSGgy9fG4qS8hUQysrSaP', 'BG6GNWMZUSpdkKQEjvjRxv', 'changeGraph', 'eyJpZCI6IDczLCAidHlwZSI6ICJ2ZXJ0ZXgiLCAicHJvcHMiOiB7ImNvbG9yIjogMTY3MTE2ODB9fQo=');</script>\n",
       "    "
      ],
      "text/plain": [
       "<IPython.core.display.HTML object>"
      ]
     },
     "metadata": {},
     "output_type": "display_data"
    },
    {
     "data": {
      "text/html": [
       "\n",
       "        <div id=\"3w8z3RVtRnFFbZreemNedT\"></div>\n",
       "        <script>netpixi.call('3w8z3RVtRnFFbZreemNedT', 'BG6GNWMZUSpdkKQEjvjRxv', 'changeGraph', 'eyJpZCI6IDE3OCwgInR5cGUiOiAidmVydGV4IiwgInByb3BzIjogeyJzaXplIjogNDQuMzMzMzMzMzMzMzMzMzM2fX0K');</script>\n",
       "    "
      ],
      "text/plain": [
       "<IPython.core.display.HTML object>"
      ]
     },
     "metadata": {},
     "output_type": "display_data"
    },
    {
     "data": {
      "text/html": [
       "\n",
       "        <div id=\"49CCGxgHmchqeoACdcNCvA\"></div>\n",
       "        <script>netpixi.call('49CCGxgHmchqeoACdcNCvA', 'BG6GNWMZUSpdkKQEjvjRxv', 'changeGraph', 'eyJpZCI6IDc3LCAidHlwZSI6ICJ2ZXJ0ZXgiLCAicHJvcHMiOiB7ImNvbG9yIjogMTY3MTE2ODB9fQo=');</script>\n",
       "    "
      ],
      "text/plain": [
       "<IPython.core.display.HTML object>"
      ]
     },
     "metadata": {},
     "output_type": "display_data"
    },
    {
     "data": {
      "text/html": [
       "\n",
       "        <div id=\"DVEuiTz7kivvvtZ4Ua5YYy\"></div>\n",
       "        <script>netpixi.call('DVEuiTz7kivvvtZ4Ua5YYy', 'BG6GNWMZUSpdkKQEjvjRxv', 'changeGraph', 'eyJpZCI6IDE3OSwgInR5cGUiOiAidmVydGV4IiwgInByb3BzIjogeyJzaXplIjogMTQuODk1Mzk3NDg5NTM5NzQ4fX0K');</script>\n",
       "    "
      ],
      "text/plain": [
       "<IPython.core.display.HTML object>"
      ]
     },
     "metadata": {},
     "output_type": "display_data"
    },
    {
     "data": {
      "text/html": [
       "\n",
       "        <div id=\"6iESQuCV3onFrkQCehCxjy\"></div>\n",
       "        <script>netpixi.call('6iESQuCV3onFrkQCehCxjy', 'BG6GNWMZUSpdkKQEjvjRxv', 'changeGraph', 'eyJpZCI6IDg3LCAidHlwZSI6ICJ2ZXJ0ZXgiLCAicHJvcHMiOiB7ImNvbG9yIjogMTY3MTE2ODB9fQo=');</script>\n",
       "    "
      ],
      "text/plain": [
       "<IPython.core.display.HTML object>"
      ]
     },
     "metadata": {},
     "output_type": "display_data"
    },
    {
     "data": {
      "text/html": [
       "\n",
       "        <div id=\"CAmApCctQ7GRPxSL3u5GX3\"></div>\n",
       "        <script>netpixi.call('CAmApCctQ7GRPxSL3u5GX3', 'BG6GNWMZUSpdkKQEjvjRxv', 'changeGraph', 'eyJpZCI6IDE4MCwgInR5cGUiOiAidmVydGV4IiwgInByb3BzIjogeyJzaXplIjogMTkuODMyNjM1OTgzMjYzNn19Cg==');</script>\n",
       "    "
      ],
      "text/plain": [
       "<IPython.core.display.HTML object>"
      ]
     },
     "metadata": {},
     "output_type": "display_data"
    },
    {
     "data": {
      "text/html": [
       "\n",
       "        <div id=\"aEVwa42iPg2DCQ9UFNiizS\"></div>\n",
       "        <script>netpixi.call('aEVwa42iPg2DCQ9UFNiizS', 'BG6GNWMZUSpdkKQEjvjRxv', 'changeGraph', 'eyJpZCI6IDg2LCAidHlwZSI6ICJ2ZXJ0ZXgiLCAicHJvcHMiOiB7ImNvbG9yIjogMTY3MTE2ODB9fQo=');</script>\n",
       "    "
      ],
      "text/plain": [
       "<IPython.core.display.HTML object>"
      ]
     },
     "metadata": {},
     "output_type": "display_data"
    },
    {
     "data": {
      "text/html": [
       "\n",
       "        <div id=\"5pRSJXn5Fb7RTEPTdwZx5v\"></div>\n",
       "        <script>netpixi.call('5pRSJXn5Fb7RTEPTdwZx5v', 'BG6GNWMZUSpdkKQEjvjRxv', 'changeGraph', 'eyJpZCI6IDE4MSwgInR5cGUiOiAidmVydGV4IiwgInByb3BzIjogeyJzaXplIjogMTIuNDI2Nzc4MjQyNjc3ODIzfX0K');</script>\n",
       "    "
      ],
      "text/plain": [
       "<IPython.core.display.HTML object>"
      ]
     },
     "metadata": {},
     "output_type": "display_data"
    },
    {
     "data": {
      "text/html": [
       "\n",
       "        <div id=\"hMAJ3J64x2GmfCKfJuWzKM\"></div>\n",
       "        <script>netpixi.call('hMAJ3J64x2GmfCKfJuWzKM', 'BG6GNWMZUSpdkKQEjvjRxv', 'changeGraph', 'eyJpZCI6IDcyLCAidHlwZSI6ICJ2ZXJ0ZXgiLCAicHJvcHMiOiB7ImNvbG9yIjogMTY3MTE2ODB9fQo=');</script>\n",
       "    "
      ],
      "text/plain": [
       "<IPython.core.display.HTML object>"
      ]
     },
     "metadata": {},
     "output_type": "display_data"
    },
    {
     "data": {
      "text/html": [
       "\n",
       "        <div id=\"mhZ7ujJyxLcFUr42RyjbdM\"></div>\n",
       "        <script>netpixi.call('mhZ7ujJyxLcFUr42RyjbdM', 'BG6GNWMZUSpdkKQEjvjRxv', 'changeGraph', 'eyJpZCI6IDE4MiwgInR5cGUiOiAidmVydGV4IiwgInByb3BzIjogeyJzaXplIjogMTAuNzExMjk3MDcxMTI5NzA3fX0K');</script>\n",
       "    "
      ],
      "text/plain": [
       "<IPython.core.display.HTML object>"
      ]
     },
     "metadata": {},
     "output_type": "display_data"
    },
    {
     "data": {
      "text/html": [
       "\n",
       "        <div id=\"SFYwpjFxmFZDyL2UmxKnF7\"></div>\n",
       "        <script>netpixi.call('SFYwpjFxmFZDyL2UmxKnF7', 'BG6GNWMZUSpdkKQEjvjRxv', 'changeGraph', 'eyJpZCI6IDc2LCAidHlwZSI6ICJ2ZXJ0ZXgiLCAicHJvcHMiOiB7ImNvbG9yIjogMTY3MTE2ODB9fQo=');</script>\n",
       "    "
      ],
      "text/plain": [
       "<IPython.core.display.HTML object>"
      ]
     },
     "metadata": {},
     "output_type": "display_data"
    },
    {
     "data": {
      "text/html": [
       "\n",
       "        <div id=\"LEGRxezQ8AY4BcjkyT4WvA\"></div>\n",
       "        <script>netpixi.call('LEGRxezQ8AY4BcjkyT4WvA', 'BG6GNWMZUSpdkKQEjvjRxv', 'changeGraph', 'eyJpZCI6IDE4MywgInR5cGUiOiAidmVydGV4IiwgInByb3BzIjogeyJzaXplIjogMTYuMTA4Nzg2NjEwODc4NjZ9fQo=');</script>\n",
       "    "
      ],
      "text/plain": [
       "<IPython.core.display.HTML object>"
      ]
     },
     "metadata": {},
     "output_type": "display_data"
    },
    {
     "data": {
      "text/html": [
       "\n",
       "        <div id=\"MhrrSz7TGzPSSiWXqGfCCF\"></div>\n",
       "        <script>netpixi.call('MhrrSz7TGzPSSiWXqGfCCF', 'BG6GNWMZUSpdkKQEjvjRxv', 'changeGraph', 'eyJpZCI6IDc4LCAidHlwZSI6ICJ2ZXJ0ZXgiLCAicHJvcHMiOiB7ImNvbG9yIjogMTY3MTE2ODB9fQo=');</script>\n",
       "    "
      ],
      "text/plain": [
       "<IPython.core.display.HTML object>"
      ]
     },
     "metadata": {},
     "output_type": "display_data"
    },
    {
     "data": {
      "text/html": [
       "\n",
       "        <div id=\"BzW96p9oiG7GUBpaD2hee5\"></div>\n",
       "        <script>netpixi.call('BzW96p9oiG7GUBpaD2hee5', 'BG6GNWMZUSpdkKQEjvjRxv', 'changeGraph', 'eyJpZCI6IDE4NCwgInR5cGUiOiAidmVydGV4IiwgInByb3BzIjogeyJzaXplIjogMTQuOTM3MjM4NDkzNzIzODV9fQo=');</script>\n",
       "    "
      ],
      "text/plain": [
       "<IPython.core.display.HTML object>"
      ]
     },
     "metadata": {},
     "output_type": "display_data"
    },
    {
     "data": {
      "text/html": [
       "\n",
       "        <div id=\"DmHmM8d2R5eFp7bzJd27S7\"></div>\n",
       "        <script>netpixi.call('DmHmM8d2R5eFp7bzJd27S7', 'BG6GNWMZUSpdkKQEjvjRxv', 'changeGraph', 'eyJpZCI6IDc1LCAidHlwZSI6ICJ2ZXJ0ZXgiLCAicHJvcHMiOiB7ImNvbG9yIjogMTY3MTE2ODB9fQo=');</script>\n",
       "    "
      ],
      "text/plain": [
       "<IPython.core.display.HTML object>"
      ]
     },
     "metadata": {},
     "output_type": "display_data"
    },
    {
     "data": {
      "text/html": [
       "\n",
       "        <div id=\"gTLGXbf3SbrEQcWG2kREaF\"></div>\n",
       "        <script>netpixi.call('gTLGXbf3SbrEQcWG2kREaF', 'BG6GNWMZUSpdkKQEjvjRxv', 'changeGraph', 'eyJpZCI6IDE4NSwgInR5cGUiOiAidmVydGV4IiwgInByb3BzIjogeyJzaXplIjogMTguOTk1ODE1ODk5NTgxNTl9fQo=');</script>\n",
       "    "
      ],
      "text/plain": [
       "<IPython.core.display.HTML object>"
      ]
     },
     "metadata": {},
     "output_type": "display_data"
    },
    {
     "data": {
      "text/html": [
       "\n",
       "        <div id=\"c49ifr29HhF6w6Zv8CWK3g\"></div>\n",
       "        <script>netpixi.call('c49ifr29HhF6w6Zv8CWK3g', 'BG6GNWMZUSpdkKQEjvjRxv', 'changeGraph', 'eyJpZCI6IDQ4LCAidHlwZSI6ICJ2ZXJ0ZXgiLCAicHJvcHMiOiB7ImNvbG9yIjogMTY3MTE2ODB9fQo=');</script>\n",
       "    "
      ],
      "text/plain": [
       "<IPython.core.display.HTML object>"
      ]
     },
     "metadata": {},
     "output_type": "display_data"
    },
    {
     "data": {
      "text/html": [
       "\n",
       "        <div id=\"bUx8r6dBGfR4Af9m7juvgv\"></div>\n",
       "        <script>netpixi.call('bUx8r6dBGfR4Af9m7juvgv', 'BG6GNWMZUSpdkKQEjvjRxv', 'changeGraph', 'eyJpZCI6IDE4NiwgInR5cGUiOiAidmVydGV4IiwgInByb3BzIjogeyJzaXplIjogMTguMjAwODM2ODIwMDgzNjh9fQo=');</script>\n",
       "    "
      ],
      "text/plain": [
       "<IPython.core.display.HTML object>"
      ]
     },
     "metadata": {},
     "output_type": "display_data"
    },
    {
     "data": {
      "text/html": [
       "\n",
       "        <div id=\"X6LbGjTZdHjZNQ7dBkMUtg\"></div>\n",
       "        <script>netpixi.call('X6LbGjTZdHjZNQ7dBkMUtg', 'BG6GNWMZUSpdkKQEjvjRxv', 'changeGraph', 'eyJpZCI6IDY5LCAidHlwZSI6ICJ2ZXJ0ZXgiLCAicHJvcHMiOiB7ImNvbG9yIjogMTY3MTE2ODB9fQo=');</script>\n",
       "    "
      ],
      "text/plain": [
       "<IPython.core.display.HTML object>"
      ]
     },
     "metadata": {},
     "output_type": "display_data"
    },
    {
     "data": {
      "text/html": [
       "\n",
       "        <div id=\"8vhy95mx87qd8AHiTiRrGv\"></div>\n",
       "        <script>netpixi.call('8vhy95mx87qd8AHiTiRrGv', 'BG6GNWMZUSpdkKQEjvjRxv', 'changeGraph', 'eyJpZCI6IDE4NywgInR5cGUiOiAidmVydGV4IiwgInByb3BzIjogeyJzaXplIjogNDguMH19Cg==');</script>\n",
       "    "
      ],
      "text/plain": [
       "<IPython.core.display.HTML object>"
      ]
     },
     "metadata": {},
     "output_type": "display_data"
    },
    {
     "data": {
      "text/html": [
       "\n",
       "        <div id=\"GCRiSsWKPt4dsUvG2WRnJ6\"></div>\n",
       "        <script>netpixi.call('GCRiSsWKPt4dsUvG2WRnJ6', 'BG6GNWMZUSpdkKQEjvjRxv', 'changeGraph', 'eyJpZCI6IDYxLCAidHlwZSI6ICJ2ZXJ0ZXgiLCAicHJvcHMiOiB7ImNvbG9yIjogMTY3MTE2ODB9fQo=');</script>\n",
       "    "
      ],
      "text/plain": [
       "<IPython.core.display.HTML object>"
      ]
     },
     "metadata": {},
     "output_type": "display_data"
    },
    {
     "data": {
      "text/html": [
       "\n",
       "        <div id=\"7YYcHADx6CX35a7GZud7wE\"></div>\n",
       "        <script>netpixi.call('7YYcHADx6CX35a7GZud7wE', 'BG6GNWMZUSpdkKQEjvjRxv', 'changeGraph', 'eyJpZCI6IDE4OCwgInR5cGUiOiAidmVydGV4IiwgInByb3BzIjogeyJzaXplIjogMTQuMjY3NzgyNDI2Nzc4MjQzfX0K');</script>\n",
       "    "
      ],
      "text/plain": [
       "<IPython.core.display.HTML object>"
      ]
     },
     "metadata": {},
     "output_type": "display_data"
    },
    {
     "data": {
      "text/html": [
       "\n",
       "        <div id=\"nvoVd6Yxz2WeuA2N5TYGBP\"></div>\n",
       "        <script>netpixi.call('nvoVd6Yxz2WeuA2N5TYGBP', 'BG6GNWMZUSpdkKQEjvjRxv', 'changeGraph', 'eyJpZCI6IDczLCAidHlwZSI6ICJ2ZXJ0ZXgiLCAicHJvcHMiOiB7ImNvbG9yIjogMTY3MTE2ODB9fQo=');</script>\n",
       "    "
      ],
      "text/plain": [
       "<IPython.core.display.HTML object>"
      ]
     },
     "metadata": {},
     "output_type": "display_data"
    },
    {
     "data": {
      "text/html": [
       "\n",
       "        <div id=\"GnQU9ibpmJRP23eTXRyiMa\"></div>\n",
       "        <script>netpixi.call('GnQU9ibpmJRP23eTXRyiMa', 'BG6GNWMZUSpdkKQEjvjRxv', 'changeGraph', 'eyJpZCI6IDE4OSwgInR5cGUiOiAidmVydGV4IiwgInByb3BzIjogeyJzaXplIjogMTIuOTcwNzExMjk3MDcxMTN9fQo=');</script>\n",
       "    "
      ],
      "text/plain": [
       "<IPython.core.display.HTML object>"
      ]
     },
     "metadata": {},
     "output_type": "display_data"
    },
    {
     "data": {
      "text/html": [
       "\n",
       "        <div id=\"GXztQidyZA2gMeM9tfbEx3\"></div>\n",
       "        <script>netpixi.call('GXztQidyZA2gMeM9tfbEx3', 'BG6GNWMZUSpdkKQEjvjRxv', 'changeGraph', 'eyJpZCI6IDc0LCAidHlwZSI6ICJ2ZXJ0ZXgiLCAicHJvcHMiOiB7ImNvbG9yIjogMTY3MTE2ODB9fQo=');</script>\n",
       "    "
      ],
      "text/plain": [
       "<IPython.core.display.HTML object>"
      ]
     },
     "metadata": {},
     "output_type": "display_data"
    },
    {
     "data": {
      "text/html": [
       "\n",
       "        <div id=\"GuMNZPEtxuhaikW3qtMJQU\"></div>\n",
       "        <script>netpixi.call('GuMNZPEtxuhaikW3qtMJQU', 'BG6GNWMZUSpdkKQEjvjRxv', 'changeGraph', 'eyJpZCI6IDE5MCwgInR5cGUiOiAidmVydGV4IiwgInByb3BzIjogeyJzaXplIjogMTQuNjQ0MzUxNDY0NDM1MTQ3fX0K');</script>\n",
       "    "
      ],
      "text/plain": [
       "<IPython.core.display.HTML object>"
      ]
     },
     "metadata": {},
     "output_type": "display_data"
    },
    {
     "data": {
      "text/html": [
       "\n",
       "        <div id=\"esDW3djy9ipCuzcUpSaVfp\"></div>\n",
       "        <script>netpixi.call('esDW3djy9ipCuzcUpSaVfp', 'BG6GNWMZUSpdkKQEjvjRxv', 'changeGraph', 'eyJpZCI6IDgxLCAidHlwZSI6ICJ2ZXJ0ZXgiLCAicHJvcHMiOiB7ImNvbG9yIjogMTY3MTE2ODB9fQo=');</script>\n",
       "    "
      ],
      "text/plain": [
       "<IPython.core.display.HTML object>"
      ]
     },
     "metadata": {},
     "output_type": "display_data"
    },
    {
     "data": {
      "text/html": [
       "\n",
       "        <div id=\"fTSybC7Wvw87KW6hs8RfTV\"></div>\n",
       "        <script>netpixi.call('fTSybC7Wvw87KW6hs8RfTV', 'BG6GNWMZUSpdkKQEjvjRxv', 'changeGraph', 'eyJpZCI6IDE5MSwgInR5cGUiOiAidmVydGV4IiwgInByb3BzIjogeyJzaXplIjogMTIuNTUyMzAxMjU1MjMwMTI1fX0K');</script>\n",
       "    "
      ],
      "text/plain": [
       "<IPython.core.display.HTML object>"
      ]
     },
     "metadata": {},
     "output_type": "display_data"
    },
    {
     "data": {
      "text/html": [
       "\n",
       "        <div id=\"Bod33ncwrjDjEVoUTM6vt2\"></div>\n",
       "        <script>netpixi.call('Bod33ncwrjDjEVoUTM6vt2', 'BG6GNWMZUSpdkKQEjvjRxv', 'changeGraph', 'eyJpZCI6IDc1LCAidHlwZSI6ICJ2ZXJ0ZXgiLCAicHJvcHMiOiB7ImNvbG9yIjogMTY3MTE2ODB9fQo=');</script>\n",
       "    "
      ],
      "text/plain": [
       "<IPython.core.display.HTML object>"
      ]
     },
     "metadata": {},
     "output_type": "display_data"
    },
    {
     "data": {
      "text/html": [
       "\n",
       "        <div id=\"GN6aZYu8gdvkVZDnCAC7HE\"></div>\n",
       "        <script>netpixi.call('GN6aZYu8gdvkVZDnCAC7HE', 'BG6GNWMZUSpdkKQEjvjRxv', 'changeGraph', 'eyJpZCI6IDE5MiwgInR5cGUiOiAidmVydGV4IiwgInByb3BzIjogeyJzaXplIjogMTUuMTg4Mjg0NTE4ODI4NDV9fQo=');</script>\n",
       "    "
      ],
      "text/plain": [
       "<IPython.core.display.HTML object>"
      ]
     },
     "metadata": {},
     "output_type": "display_data"
    },
    {
     "data": {
      "text/html": [
       "\n",
       "        <div id=\"FnzpNF43jLFxZ8QATuPgBb\"></div>\n",
       "        <script>netpixi.call('FnzpNF43jLFxZ8QATuPgBb', 'BG6GNWMZUSpdkKQEjvjRxv', 'changeGraph', 'eyJpZCI6IDc3LCAidHlwZSI6ICJ2ZXJ0ZXgiLCAicHJvcHMiOiB7ImNvbG9yIjogMTY3MTE2ODB9fQo=');</script>\n",
       "    "
      ],
      "text/plain": [
       "<IPython.core.display.HTML object>"
      ]
     },
     "metadata": {},
     "output_type": "display_data"
    },
    {
     "data": {
      "text/html": [
       "\n",
       "        <div id=\"8gPNKjnbFFhEfvU7qUuwVr\"></div>\n",
       "        <script>netpixi.call('8gPNKjnbFFhEfvU7qUuwVr', 'BG6GNWMZUSpdkKQEjvjRxv', 'changeGraph', 'eyJpZCI6IDE5MywgInR5cGUiOiAidmVydGV4IiwgInByb3BzIjogeyJzaXplIjogMTEuMDA0MTg0MTAwNDE4NDF9fQo=');</script>\n",
       "    "
      ],
      "text/plain": [
       "<IPython.core.display.HTML object>"
      ]
     },
     "metadata": {},
     "output_type": "display_data"
    },
    {
     "data": {
      "text/html": [
       "\n",
       "        <div id=\"HTjtAn2pC4yToAzDFvP4HW\"></div>\n",
       "        <script>netpixi.call('HTjtAn2pC4yToAzDFvP4HW', 'BG6GNWMZUSpdkKQEjvjRxv', 'changeGraph', 'eyJpZCI6IDc0LCAidHlwZSI6ICJ2ZXJ0ZXgiLCAicHJvcHMiOiB7ImNvbG9yIjogMTY3MTE2ODB9fQo=');</script>\n",
       "    "
      ],
      "text/plain": [
       "<IPython.core.display.HTML object>"
      ]
     },
     "metadata": {},
     "output_type": "display_data"
    },
    {
     "data": {
      "text/html": [
       "\n",
       "        <div id=\"aMFG2VaD7wp367ZFEuzvTD\"></div>\n",
       "        <script>netpixi.call('aMFG2VaD7wp367ZFEuzvTD', 'BG6GNWMZUSpdkKQEjvjRxv', 'changeGraph', 'eyJpZCI6IDE5NCwgInR5cGUiOiAidmVydGV4IiwgInByb3BzIjogeyJzaXplIjogMTAuMDQxODQxMDA0MTg0MX19Cg==');</script>\n",
       "    "
      ],
      "text/plain": [
       "<IPython.core.display.HTML object>"
      ]
     },
     "metadata": {},
     "output_type": "display_data"
    },
    {
     "data": {
      "text/html": [
       "\n",
       "        <div id=\"8XUNvTagHXgnPdPvWFBvrG\"></div>\n",
       "        <script>netpixi.call('8XUNvTagHXgnPdPvWFBvrG', 'BG6GNWMZUSpdkKQEjvjRxv', 'changeGraph', 'eyJpZCI6IDY2LCAidHlwZSI6ICJ2ZXJ0ZXgiLCAicHJvcHMiOiB7ImNvbG9yIjogMTY3MTE2ODB9fQo=');</script>\n",
       "    "
      ],
      "text/plain": [
       "<IPython.core.display.HTML object>"
      ]
     },
     "metadata": {},
     "output_type": "display_data"
    },
    {
     "data": {
      "text/html": [
       "\n",
       "        <div id=\"6HuvqLcvwfDTZ87BLF3eZY\"></div>\n",
       "        <script>netpixi.call('6HuvqLcvwfDTZ87BLF3eZY', 'BG6GNWMZUSpdkKQEjvjRxv', 'changeGraph', 'eyJpZCI6IDE5NSwgInR5cGUiOiAidmVydGV4IiwgInByb3BzIjogeyJzaXplIjogNDAuNX19Cg==');</script>\n",
       "    "
      ],
      "text/plain": [
       "<IPython.core.display.HTML object>"
      ]
     },
     "metadata": {},
     "output_type": "display_data"
    },
    {
     "data": {
      "text/html": [
       "\n",
       "        <div id=\"dt9Z5iP6bvRBdYFP8dvbSz\"></div>\n",
       "        <script>netpixi.call('dt9Z5iP6bvRBdYFP8dvbSz', 'BG6GNWMZUSpdkKQEjvjRxv', 'changeGraph', 'eyJpZCI6IDgwLCAidHlwZSI6ICJ2ZXJ0ZXgiLCAicHJvcHMiOiB7ImNvbG9yIjogMTY3MTE2ODB9fQo=');</script>\n",
       "    "
      ],
      "text/plain": [
       "<IPython.core.display.HTML object>"
      ]
     },
     "metadata": {},
     "output_type": "display_data"
    },
    {
     "data": {
      "text/html": [
       "\n",
       "        <div id=\"5zFZBNjyVbDQXT8E77eEjt\"></div>\n",
       "        <script>netpixi.call('5zFZBNjyVbDQXT8E77eEjt', 'BG6GNWMZUSpdkKQEjvjRxv', 'changeGraph', 'eyJpZCI6IDE5NiwgInR5cGUiOiAidmVydGV4IiwgInByb3BzIjogeyJzaXplIjogNDUuMzMzMzMzMzMzMzMzMzN9fQo=');</script>\n",
       "    "
      ],
      "text/plain": [
       "<IPython.core.display.HTML object>"
      ]
     },
     "metadata": {},
     "output_type": "display_data"
    },
    {
     "data": {
      "text/html": [
       "\n",
       "        <div id=\"cdsEp3StmpZ3PQz4CBRsbj\"></div>\n",
       "        <script>netpixi.call('cdsEp3StmpZ3PQz4CBRsbj', 'BG6GNWMZUSpdkKQEjvjRxv', 'changeGraph', 'eyJpZCI6IDgyLCAidHlwZSI6ICJ2ZXJ0ZXgiLCAicHJvcHMiOiB7ImNvbG9yIjogMTY3MTE2ODB9fQo=');</script>\n",
       "    "
      ],
      "text/plain": [
       "<IPython.core.display.HTML object>"
      ]
     },
     "metadata": {},
     "output_type": "display_data"
    },
    {
     "data": {
      "text/html": [
       "\n",
       "        <div id=\"nwctvcbcYganCuwzo8yTCy\"></div>\n",
       "        <script>netpixi.call('nwctvcbcYganCuwzo8yTCy', 'BG6GNWMZUSpdkKQEjvjRxv', 'changeGraph', 'eyJpZCI6IDE5NywgInR5cGUiOiAidmVydGV4IiwgInByb3BzIjogeyJzaXplIjogNDEuMzMzMzMzMzMzMzMzMzN9fQo=');</script>\n",
       "    "
      ],
      "text/plain": [
       "<IPython.core.display.HTML object>"
      ]
     },
     "metadata": {},
     "output_type": "display_data"
    },
    {
     "data": {
      "text/html": [
       "\n",
       "        <div id=\"mezqWsguTw5FmJY8wkuDEp\"></div>\n",
       "        <script>netpixi.call('mezqWsguTw5FmJY8wkuDEp', 'BG6GNWMZUSpdkKQEjvjRxv', 'changeGraph', 'eyJpZCI6IDY3LCAidHlwZSI6ICJ2ZXJ0ZXgiLCAicHJvcHMiOiB7ImNvbG9yIjogMTY3MTE2ODB9fQo=');</script>\n",
       "    "
      ],
      "text/plain": [
       "<IPython.core.display.HTML object>"
      ]
     },
     "metadata": {},
     "output_type": "display_data"
    },
    {
     "data": {
      "text/html": [
       "\n",
       "        <div id=\"YyGCz7NMcesvCNwHVkzG3S\"></div>\n",
       "        <script>netpixi.call('YyGCz7NMcesvCNwHVkzG3S', 'BG6GNWMZUSpdkKQEjvjRxv', 'changeGraph', 'eyJpZCI6IDE5OCwgInR5cGUiOiAidmVydGV4IiwgInByb3BzIjogeyJzaXplIjogNDEuMTY2NjY2NjY2NjY2Njd9fQo=');</script>\n",
       "    "
      ],
      "text/plain": [
       "<IPython.core.display.HTML object>"
      ]
     },
     "metadata": {},
     "output_type": "display_data"
    },
    {
     "data": {
      "text/html": [
       "\n",
       "        <div id=\"imYA9wuK7pTKctbH8Jcqkw\"></div>\n",
       "        <script>netpixi.call('imYA9wuK7pTKctbH8Jcqkw', 'BG6GNWMZUSpdkKQEjvjRxv', 'changeGraph', 'eyJpZCI6IDc0LCAidHlwZSI6ICJ2ZXJ0ZXgiLCAicHJvcHMiOiB7ImNvbG9yIjogMTY3MTE2ODB9fQo=');</script>\n",
       "    "
      ],
      "text/plain": [
       "<IPython.core.display.HTML object>"
      ]
     },
     "metadata": {},
     "output_type": "display_data"
    },
    {
     "data": {
      "text/html": [
       "\n",
       "        <div id=\"cSNoC8pmmpLUYrHWbNdZfw\"></div>\n",
       "        <script>netpixi.call('cSNoC8pmmpLUYrHWbNdZfw', 'BG6GNWMZUSpdkKQEjvjRxv', 'changeGraph', 'eyJpZCI6IDE5OSwgInR5cGUiOiAidmVydGV4IiwgInByb3BzIjogeyJzaXplIjogMTQuMTg0MTAwNDE4NDEwMDQyfX0K');</script>\n",
       "    "
      ],
      "text/plain": [
       "<IPython.core.display.HTML object>"
      ]
     },
     "metadata": {},
     "output_type": "display_data"
    },
    {
     "data": {
      "text/html": [
       "\n",
       "        <div id=\"SuFfMAYxk2GGqT9YuPzWGe\"></div>\n",
       "        <script>netpixi.call('SuFfMAYxk2GGqT9YuPzWGe', 'BG6GNWMZUSpdkKQEjvjRxv', 'changeGraph', 'eyJpZCI6IDcxLCAidHlwZSI6ICJ2ZXJ0ZXgiLCAicHJvcHMiOiB7ImNvbG9yIjogMTY3MTE2ODB9fQo=');</script>\n",
       "    "
      ],
      "text/plain": [
       "<IPython.core.display.HTML object>"
      ]
     },
     "metadata": {},
     "output_type": "display_data"
    },
    {
     "data": {
      "text/html": [
       "\n",
       "        <div id=\"igvAxS7janpMhaTtRFDZQq\"></div>\n",
       "        <script>netpixi.call('igvAxS7janpMhaTtRFDZQq', 'BG6GNWMZUSpdkKQEjvjRxv', 'changeGraph', 'eyJpZCI6IDIwMCwgInR5cGUiOiAidmVydGV4IiwgInByb3BzIjogeyJzaXplIjogMTQuMjI1OTQxNDIyNTk0MTQyfX0K');</script>\n",
       "    "
      ],
      "text/plain": [
       "<IPython.core.display.HTML object>"
      ]
     },
     "metadata": {},
     "output_type": "display_data"
    },
    {
     "data": {
      "text/html": [
       "\n",
       "        <div id=\"gpGySETnTbK496igrBLEVE\"></div>\n",
       "        <script>netpixi.call('gpGySETnTbK496igrBLEVE', 'BG6GNWMZUSpdkKQEjvjRxv', 'changeGraph', 'eyJpZCI6IDgyLCAidHlwZSI6ICJ2ZXJ0ZXgiLCAicHJvcHMiOiB7ImNvbG9yIjogMTY3MTE2ODB9fQo=');</script>\n",
       "    "
      ],
      "text/plain": [
       "<IPython.core.display.HTML object>"
      ]
     },
     "metadata": {},
     "output_type": "display_data"
    },
    {
     "data": {
      "text/html": [
       "\n",
       "        <div id=\"XDNmsPaaCMtbPMbSwNrBiX\"></div>\n",
       "        <script>netpixi.call('XDNmsPaaCMtbPMbSwNrBiX', 'BG6GNWMZUSpdkKQEjvjRxv', 'changeGraph', 'eyJpZCI6IDIwMSwgInR5cGUiOiAidmVydGV4IiwgInByb3BzIjogeyJzaXplIjogMTYuODYxOTI0Njg2MTkyNDY3fX0K');</script>\n",
       "    "
      ],
      "text/plain": [
       "<IPython.core.display.HTML object>"
      ]
     },
     "metadata": {},
     "output_type": "display_data"
    },
    {
     "data": {
      "text/html": [
       "\n",
       "        <div id=\"6uaE8PQfZAXpisX2TMrZUv\"></div>\n",
       "        <script>netpixi.call('6uaE8PQfZAXpisX2TMrZUv', 'BG6GNWMZUSpdkKQEjvjRxv', 'changeGraph', 'eyJpZCI6IDc4LCAidHlwZSI6ICJ2ZXJ0ZXgiLCAicHJvcHMiOiB7ImNvbG9yIjogMTY3MTE2ODB9fQo=');</script>\n",
       "    "
      ],
      "text/plain": [
       "<IPython.core.display.HTML object>"
      ]
     },
     "metadata": {},
     "output_type": "display_data"
    },
    {
     "data": {
      "text/html": [
       "\n",
       "        <div id=\"fk8RHMYqM4gZjmLo6zvrwC\"></div>\n",
       "        <script>netpixi.call('fk8RHMYqM4gZjmLo6zvrwC', 'BG6GNWMZUSpdkKQEjvjRxv', 'changeGraph', 'eyJpZCI6IDIwMiwgInR5cGUiOiAidmVydGV4IiwgInByb3BzIjogeyJzaXplIjogNDUuNX19Cg==');</script>\n",
       "    "
      ],
      "text/plain": [
       "<IPython.core.display.HTML object>"
      ]
     },
     "metadata": {},
     "output_type": "display_data"
    },
    {
     "data": {
      "text/html": [
       "\n",
       "        <div id=\"JhVHPANxZsRwNQHuFaoKEU\"></div>\n",
       "        <script>netpixi.call('JhVHPANxZsRwNQHuFaoKEU', 'BG6GNWMZUSpdkKQEjvjRxv', 'changeGraph', 'eyJpZCI6IDczLCAidHlwZSI6ICJ2ZXJ0ZXgiLCAicHJvcHMiOiB7ImNvbG9yIjogMTY3MTE2ODB9fQo=');</script>\n",
       "    "
      ],
      "text/plain": [
       "<IPython.core.display.HTML object>"
      ]
     },
     "metadata": {},
     "output_type": "display_data"
    },
    {
     "data": {
      "text/html": [
       "\n",
       "        <div id=\"oMjRygJMnnJL7xMmzoAtbJ\"></div>\n",
       "        <script>netpixi.call('oMjRygJMnnJL7xMmzoAtbJ', 'BG6GNWMZUSpdkKQEjvjRxv', 'changeGraph', 'eyJpZCI6IDIwMywgInR5cGUiOiAidmVydGV4IiwgInByb3BzIjogeyJzaXplIjogMTAuMDgzNjgyMDA4MzY4Mn19Cg==');</script>\n",
       "    "
      ],
      "text/plain": [
       "<IPython.core.display.HTML object>"
      ]
     },
     "metadata": {},
     "output_type": "display_data"
    },
    {
     "data": {
      "text/html": [
       "\n",
       "        <div id=\"MMvMkcHbrk3RQaXQeSW8JB\"></div>\n",
       "        <script>netpixi.call('MMvMkcHbrk3RQaXQeSW8JB', 'BG6GNWMZUSpdkKQEjvjRxv', 'changeGraph', 'eyJpZCI6IDc4LCAidHlwZSI6ICJ2ZXJ0ZXgiLCAicHJvcHMiOiB7ImNvbG9yIjogMTY3MTE2ODB9fQo=');</script>\n",
       "    "
      ],
      "text/plain": [
       "<IPython.core.display.HTML object>"
      ]
     },
     "metadata": {},
     "output_type": "display_data"
    },
    {
     "data": {
      "text/html": [
       "\n",
       "        <div id=\"BeM9YSeapjW8y2Rs54yica\"></div>\n",
       "        <script>netpixi.call('BeM9YSeapjW8y2Rs54yica', 'BG6GNWMZUSpdkKQEjvjRxv', 'changeGraph', 'eyJpZCI6IDIwNCwgInR5cGUiOiAidmVydGV4IiwgInByb3BzIjogeyJzaXplIjogMTAuMjUxMDQ2MDI1MTA0NjAzfX0K');</script>\n",
       "    "
      ],
      "text/plain": [
       "<IPython.core.display.HTML object>"
      ]
     },
     "metadata": {},
     "output_type": "display_data"
    },
    {
     "data": {
      "text/html": [
       "\n",
       "        <div id=\"er73tNtHwus83yCVpycRmR\"></div>\n",
       "        <script>netpixi.call('er73tNtHwus83yCVpycRmR', 'BG6GNWMZUSpdkKQEjvjRxv', 'changeGraph', 'eyJpZCI6IDgxLCAidHlwZSI6ICJ2ZXJ0ZXgiLCAicHJvcHMiOiB7ImNvbG9yIjogMTY3MTE2ODB9fQo=');</script>\n",
       "    "
      ],
      "text/plain": [
       "<IPython.core.display.HTML object>"
      ]
     },
     "metadata": {},
     "output_type": "display_data"
    },
    {
     "data": {
      "text/html": [
       "\n",
       "        <div id=\"U2HTS4t83mA9M222ANJ2M8\"></div>\n",
       "        <script>netpixi.call('U2HTS4t83mA9M222ANJ2M8', 'BG6GNWMZUSpdkKQEjvjRxv', 'changeGraph', 'eyJpZCI6IDIwNSwgInR5cGUiOiAidmVydGV4IiwgInByb3BzIjogeyJzaXplIjogMTUuOTQxNDIyNTk0MTQyMjZ9fQo=');</script>\n",
       "    "
      ],
      "text/plain": [
       "<IPython.core.display.HTML object>"
      ]
     },
     "metadata": {},
     "output_type": "display_data"
    },
    {
     "data": {
      "text/html": [
       "\n",
       "        <div id=\"VjykNgFQHy4CKDs4nsXsF4\"></div>\n",
       "        <script>netpixi.call('VjykNgFQHy4CKDs4nsXsF4', 'BG6GNWMZUSpdkKQEjvjRxv', 'changeGraph', 'eyJpZCI6IDg2LCAidHlwZSI6ICJ2ZXJ0ZXgiLCAicHJvcHMiOiB7ImNvbG9yIjogMTY3MTE2ODB9fQo=');</script>\n",
       "    "
      ],
      "text/plain": [
       "<IPython.core.display.HTML object>"
      ]
     },
     "metadata": {},
     "output_type": "display_data"
    },
    {
     "data": {
      "text/html": [
       "\n",
       "        <div id=\"PrSidiJ8tM9dejoPhBQzsX\"></div>\n",
       "        <script>netpixi.call('PrSidiJ8tM9dejoPhBQzsX', 'BG6GNWMZUSpdkKQEjvjRxv', 'changeGraph', 'eyJpZCI6IDIwNiwgInR5cGUiOiAidmVydGV4IiwgInByb3BzIjogeyJzaXplIjogMTYuNzc4MjQyNjc3ODI0MjY3fX0K');</script>\n",
       "    "
      ],
      "text/plain": [
       "<IPython.core.display.HTML object>"
      ]
     },
     "metadata": {},
     "output_type": "display_data"
    },
    {
     "data": {
      "text/html": [
       "\n",
       "        <div id=\"amRfmeeGFHTEvqpURQBWMi\"></div>\n",
       "        <script>netpixi.call('amRfmeeGFHTEvqpURQBWMi', 'BG6GNWMZUSpdkKQEjvjRxv', 'changeGraph', 'eyJpZCI6IDg0LCAidHlwZSI6ICJ2ZXJ0ZXgiLCAicHJvcHMiOiB7ImNvbG9yIjogMTY3MTE2ODB9fQo=');</script>\n",
       "    "
      ],
      "text/plain": [
       "<IPython.core.display.HTML object>"
      ]
     },
     "metadata": {},
     "output_type": "display_data"
    },
    {
     "data": {
      "text/html": [
       "\n",
       "        <div id=\"9Ka4uUkVJmWKXKAGAF3ZRG\"></div>\n",
       "        <script>netpixi.call('9Ka4uUkVJmWKXKAGAF3ZRG', 'BG6GNWMZUSpdkKQEjvjRxv', 'changeGraph', 'eyJpZCI6IDIwNywgInR5cGUiOiAidmVydGV4IiwgInByb3BzIjogeyJzaXplIjogMTMuNDMwOTYyMzQzMDk2MjMzfX0K');</script>\n",
       "    "
      ],
      "text/plain": [
       "<IPython.core.display.HTML object>"
      ]
     },
     "metadata": {},
     "output_type": "display_data"
    },
    {
     "data": {
      "text/html": [
       "\n",
       "        <div id=\"GtMgyryDoDLFcA3vtFwYLB\"></div>\n",
       "        <script>netpixi.call('GtMgyryDoDLFcA3vtFwYLB', 'BG6GNWMZUSpdkKQEjvjRxv', 'changeGraph', 'eyJpZCI6IDY1LCAidHlwZSI6ICJ2ZXJ0ZXgiLCAicHJvcHMiOiB7ImNvbG9yIjogMTY3MTE2ODB9fQo=');</script>\n",
       "    "
      ],
      "text/plain": [
       "<IPython.core.display.HTML object>"
      ]
     },
     "metadata": {},
     "output_type": "display_data"
    },
    {
     "data": {
      "text/html": [
       "\n",
       "        <div id=\"W8MK7BZtXEcqftuNxqfDXE\"></div>\n",
       "        <script>netpixi.call('W8MK7BZtXEcqftuNxqfDXE', 'BG6GNWMZUSpdkKQEjvjRxv', 'changeGraph', 'eyJpZCI6IDIwOCwgInR5cGUiOiAidmVydGV4IiwgInByb3BzIjogeyJzaXplIjogMTIuMTc1NzMyMjE3NTczMjIyfX0K');</script>\n",
       "    "
      ],
      "text/plain": [
       "<IPython.core.display.HTML object>"
      ]
     },
     "metadata": {},
     "output_type": "display_data"
    },
    {
     "data": {
      "text/html": [
       "\n",
       "        <div id=\"7zCWnDL4tDKFMTR2aNDeMB\"></div>\n",
       "        <script>netpixi.call('7zCWnDL4tDKFMTR2aNDeMB', 'BG6GNWMZUSpdkKQEjvjRxv', 'changeGraph', 'eyJpZCI6IDczLCAidHlwZSI6ICJ2ZXJ0ZXgiLCAicHJvcHMiOiB7ImNvbG9yIjogMTY3MTE2ODB9fQo=');</script>\n",
       "    "
      ],
      "text/plain": [
       "<IPython.core.display.HTML object>"
      ]
     },
     "metadata": {},
     "output_type": "display_data"
    },
    {
     "data": {
      "text/html": [
       "\n",
       "        <div id=\"m4KMdufSvcqZCeBZSrvVw8\"></div>\n",
       "        <script>netpixi.call('m4KMdufSvcqZCeBZSrvVw8', 'BG6GNWMZUSpdkKQEjvjRxv', 'changeGraph', 'eyJpZCI6IDIwOSwgInR5cGUiOiAidmVydGV4IiwgInByb3BzIjogeyJzaXplIjogMTEuOTY2NTI3MTk2NjUyNzJ9fQo=');</script>\n",
       "    "
      ],
      "text/plain": [
       "<IPython.core.display.HTML object>"
      ]
     },
     "metadata": {},
     "output_type": "display_data"
    },
    {
     "data": {
      "text/html": [
       "\n",
       "        <div id=\"jtwUGpBxZDxz3VeqHoiWTZ\"></div>\n",
       "        <script>netpixi.call('jtwUGpBxZDxz3VeqHoiWTZ', 'BG6GNWMZUSpdkKQEjvjRxv', 'changeGraph', 'eyJpZCI6IDcwLCAidHlwZSI6ICJ2ZXJ0ZXgiLCAicHJvcHMiOiB7ImNvbG9yIjogMTY3MTE2ODB9fQo=');</script>\n",
       "    "
      ],
      "text/plain": [
       "<IPython.core.display.HTML object>"
      ]
     },
     "metadata": {},
     "output_type": "display_data"
    },
    {
     "data": {
      "text/html": [
       "\n",
       "        <div id=\"2LRHeNUfUaTW2btGtrbRCA\"></div>\n",
       "        <script>netpixi.call('2LRHeNUfUaTW2btGtrbRCA', 'BG6GNWMZUSpdkKQEjvjRxv', 'changeGraph', 'eyJpZCI6IDIxMCwgInR5cGUiOiAidmVydGV4IiwgInByb3BzIjogeyJzaXplIjogMTcuNjU2OTAzNzY1NjkwMzc3fX0K');</script>\n",
       "    "
      ],
      "text/plain": [
       "<IPython.core.display.HTML object>"
      ]
     },
     "metadata": {},
     "output_type": "display_data"
    },
    {
     "data": {
      "text/html": [
       "\n",
       "        <div id=\"EWsGXZPKR6ToXQpNQjaLN5\"></div>\n",
       "        <script>netpixi.call('EWsGXZPKR6ToXQpNQjaLN5', 'BG6GNWMZUSpdkKQEjvjRxv', 'changeGraph', 'eyJpZCI6IDc0LCAidHlwZSI6ICJ2ZXJ0ZXgiLCAicHJvcHMiOiB7ImNvbG9yIjogMTY3MTE2ODB9fQo=');</script>\n",
       "    "
      ],
      "text/plain": [
       "<IPython.core.display.HTML object>"
      ]
     },
     "metadata": {},
     "output_type": "display_data"
    },
    {
     "data": {
      "text/html": [
       "\n",
       "        <div id=\"kmhcV7UgLH88hMabL4RhJo\"></div>\n",
       "        <script>netpixi.call('kmhcV7UgLH88hMabL4RhJo', 'BG6GNWMZUSpdkKQEjvjRxv', 'changeGraph', 'eyJpZCI6IDIxMSwgInR5cGUiOiAidmVydGV4IiwgInByb3BzIjogeyJzaXplIjogMTEuODgyODQ1MTg4Mjg0NTE4fX0K');</script>\n",
       "    "
      ],
      "text/plain": [
       "<IPython.core.display.HTML object>"
      ]
     },
     "metadata": {},
     "output_type": "display_data"
    },
    {
     "data": {
      "text/html": [
       "\n",
       "        <div id=\"TKCynuWHMhDCoqtZSoWtwx\"></div>\n",
       "        <script>netpixi.call('TKCynuWHMhDCoqtZSoWtwx', 'BG6GNWMZUSpdkKQEjvjRxv', 'changeGraph', 'eyJpZCI6IDc3LCAidHlwZSI6ICJ2ZXJ0ZXgiLCAicHJvcHMiOiB7ImNvbG9yIjogMTY3MTE2ODB9fQo=');</script>\n",
       "    "
      ],
      "text/plain": [
       "<IPython.core.display.HTML object>"
      ]
     },
     "metadata": {},
     "output_type": "display_data"
    },
    {
     "data": {
      "text/html": [
       "\n",
       "        <div id=\"ANoTP4D9mNM4CySwDQqNxN\"></div>\n",
       "        <script>netpixi.call('ANoTP4D9mNM4CySwDQqNxN', 'BG6GNWMZUSpdkKQEjvjRxv', 'changeGraph', 'eyJpZCI6IDIxMiwgInR5cGUiOiAidmVydGV4IiwgInByb3BzIjogeyJzaXplIjogMTUuODU3NzQwNTg1Nzc0MDU4fX0K');</script>\n",
       "    "
      ],
      "text/plain": [
       "<IPython.core.display.HTML object>"
      ]
     },
     "metadata": {},
     "output_type": "display_data"
    },
    {
     "data": {
      "text/html": [
       "\n",
       "        <div id=\"Fq9HQ5rWHoJjidfQp2dQ4f\"></div>\n",
       "        <script>netpixi.call('Fq9HQ5rWHoJjidfQp2dQ4f', 'BG6GNWMZUSpdkKQEjvjRxv', 'changeGraph', 'eyJpZCI6IDY3LCAidHlwZSI6ICJ2ZXJ0ZXgiLCAicHJvcHMiOiB7ImNvbG9yIjogMTY3MTE2ODB9fQo=');</script>\n",
       "    "
      ],
      "text/plain": [
       "<IPython.core.display.HTML object>"
      ]
     },
     "metadata": {},
     "output_type": "display_data"
    },
    {
     "data": {
      "text/html": [
       "\n",
       "        <div id=\"44VUiKuoVWWDZALcy58rZP\"></div>\n",
       "        <script>netpixi.call('44VUiKuoVWWDZALcy58rZP', 'BG6GNWMZUSpdkKQEjvjRxv', 'changeGraph', 'eyJpZCI6IDIxMywgInR5cGUiOiAidmVydGV4IiwgInByb3BzIjogeyJzaXplIjogMTIuMjU5NDE0MjI1OTQxNDIzfX0K');</script>\n",
       "    "
      ],
      "text/plain": [
       "<IPython.core.display.HTML object>"
      ]
     },
     "metadata": {},
     "output_type": "display_data"
    },
    {
     "data": {
      "text/html": [
       "\n",
       "        <div id=\"iQnxfAGqm29Syncsh6rVgi\"></div>\n",
       "        <script>netpixi.call('iQnxfAGqm29Syncsh6rVgi', 'BG6GNWMZUSpdkKQEjvjRxv', 'changeGraph', 'eyJpZCI6IDc4LCAidHlwZSI6ICJ2ZXJ0ZXgiLCAicHJvcHMiOiB7ImNvbG9yIjogMTY3MTE2ODB9fQo=');</script>\n",
       "    "
      ],
      "text/plain": [
       "<IPython.core.display.HTML object>"
      ]
     },
     "metadata": {},
     "output_type": "display_data"
    },
    {
     "data": {
      "text/html": [
       "\n",
       "        <div id=\"apeAxUsspEpjdsKgiguv52\"></div>\n",
       "        <script>netpixi.call('apeAxUsspEpjdsKgiguv52', 'BG6GNWMZUSpdkKQEjvjRxv', 'changeGraph', 'eyJpZCI6IDIxNCwgInR5cGUiOiAidmVydGV4IiwgInByb3BzIjogeyJzaXplIjogMTUuNzc0MDU4NTc3NDA1ODU3fX0K');</script>\n",
       "    "
      ],
      "text/plain": [
       "<IPython.core.display.HTML object>"
      ]
     },
     "metadata": {},
     "output_type": "display_data"
    },
    {
     "data": {
      "text/html": [
       "\n",
       "        <div id=\"7VLVC4VDCb2XARMgVXCbB6\"></div>\n",
       "        <script>netpixi.call('7VLVC4VDCb2XARMgVXCbB6', 'BG6GNWMZUSpdkKQEjvjRxv', 'changeGraph', 'eyJpZCI6IDg0LCAidHlwZSI6ICJ2ZXJ0ZXgiLCAicHJvcHMiOiB7ImNvbG9yIjogMTY3MTE2ODB9fQo=');</script>\n",
       "    "
      ],
      "text/plain": [
       "<IPython.core.display.HTML object>"
      ]
     },
     "metadata": {},
     "output_type": "display_data"
    },
    {
     "data": {
      "text/html": [
       "\n",
       "        <div id=\"bSa5nbRT6j4FjcYtAoYptS\"></div>\n",
       "        <script>netpixi.call('bSa5nbRT6j4FjcYtAoYptS', 'BG6GNWMZUSpdkKQEjvjRxv', 'changeGraph', 'eyJpZCI6IDIxNSwgInR5cGUiOiAidmVydGV4IiwgInByb3BzIjogeyJzaXplIjogMTcuMzY0MDE2NzM2NDAxNjczfX0K');</script>\n",
       "    "
      ],
      "text/plain": [
       "<IPython.core.display.HTML object>"
      ]
     },
     "metadata": {},
     "output_type": "display_data"
    },
    {
     "data": {
      "text/html": [
       "\n",
       "        <div id=\"kdCKrQZuHqMNANnad7DXLQ\"></div>\n",
       "        <script>netpixi.call('kdCKrQZuHqMNANnad7DXLQ', 'BG6GNWMZUSpdkKQEjvjRxv', 'changeGraph', 'eyJpZCI6IDc1LCAidHlwZSI6ICJ2ZXJ0ZXgiLCAicHJvcHMiOiB7ImNvbG9yIjogMTY3MTE2ODB9fQo=');</script>\n",
       "    "
      ],
      "text/plain": [
       "<IPython.core.display.HTML object>"
      ]
     },
     "metadata": {},
     "output_type": "display_data"
    },
    {
     "data": {
      "text/html": [
       "\n",
       "        <div id=\"McLGPHrLEb2x8XVqfFvhoe\"></div>\n",
       "        <script>netpixi.call('McLGPHrLEb2x8XVqfFvhoe', 'BG6GNWMZUSpdkKQEjvjRxv', 'changeGraph', 'eyJpZCI6IDIxNiwgInR5cGUiOiAidmVydGV4IiwgInByb3BzIjogeyJzaXplIjogMTUuODE1ODk5NTgxNTg5OTU3fX0K');</script>\n",
       "    "
      ],
      "text/plain": [
       "<IPython.core.display.HTML object>"
      ]
     },
     "metadata": {},
     "output_type": "display_data"
    },
    {
     "data": {
      "text/html": [
       "\n",
       "        <div id=\"7su2No7CVFqbny7fiRov2j\"></div>\n",
       "        <script>netpixi.call('7su2No7CVFqbny7fiRov2j', 'BG6GNWMZUSpdkKQEjvjRxv', 'changeGraph', 'eyJpZCI6IDczLCAidHlwZSI6ICJ2ZXJ0ZXgiLCAicHJvcHMiOiB7ImNvbG9yIjogMTY3MTE2ODB9fQo=');</script>\n",
       "    "
      ],
      "text/plain": [
       "<IPython.core.display.HTML object>"
      ]
     },
     "metadata": {},
     "output_type": "display_data"
    },
    {
     "data": {
      "text/html": [
       "\n",
       "        <div id=\"KHFxKKtmSn4zN8RCzFacD3\"></div>\n",
       "        <script>netpixi.call('KHFxKKtmSn4zN8RCzFacD3', 'BG6GNWMZUSpdkKQEjvjRxv', 'changeGraph', 'eyJpZCI6IDIxNywgInR5cGUiOiAidmVydGV4IiwgInByb3BzIjogeyJzaXplIjogMTYuNjUyNzE5NjY1MjcxOTY3fX0K');</script>\n",
       "    "
      ],
      "text/plain": [
       "<IPython.core.display.HTML object>"
      ]
     },
     "metadata": {},
     "output_type": "display_data"
    },
    {
     "data": {
      "text/html": [
       "\n",
       "        <div id=\"n4aZEEdeao2mpK9EUa7D3J\"></div>\n",
       "        <script>netpixi.call('n4aZEEdeao2mpK9EUa7D3J', 'BG6GNWMZUSpdkKQEjvjRxv', 'changeGraph', 'eyJpZCI6IDg0LCAidHlwZSI6ICJ2ZXJ0ZXgiLCAicHJvcHMiOiB7ImNvbG9yIjogMTY3MTE2ODB9fQo=');</script>\n",
       "    "
      ],
      "text/plain": [
       "<IPython.core.display.HTML object>"
      ]
     },
     "metadata": {},
     "output_type": "display_data"
    },
    {
     "data": {
      "text/html": [
       "\n",
       "        <div id=\"V2eREqnzeAycayLmeF9Kyy\"></div>\n",
       "        <script>netpixi.call('V2eREqnzeAycayLmeF9Kyy', 'BG6GNWMZUSpdkKQEjvjRxv', 'changeGraph', 'eyJpZCI6IDIxOCwgInR5cGUiOiAidmVydGV4IiwgInByb3BzIjogeyJzaXplIjogMTcuNzQwNTg1Nzc0MDU4NTc3fX0K');</script>\n",
       "    "
      ],
      "text/plain": [
       "<IPython.core.display.HTML object>"
      ]
     },
     "metadata": {},
     "output_type": "display_data"
    },
    {
     "data": {
      "text/html": [
       "\n",
       "        <div id=\"9npZWxZSytaZ5j8KTyrkJQ\"></div>\n",
       "        <script>netpixi.call('9npZWxZSytaZ5j8KTyrkJQ', 'BG6GNWMZUSpdkKQEjvjRxv', 'changeGraph', 'eyJpZCI6IDcyLCAidHlwZSI6ICJ2ZXJ0ZXgiLCAicHJvcHMiOiB7ImNvbG9yIjogMTY3MTE2ODB9fQo=');</script>\n",
       "    "
      ],
      "text/plain": [
       "<IPython.core.display.HTML object>"
      ]
     },
     "metadata": {},
     "output_type": "display_data"
    },
    {
     "data": {
      "text/html": [
       "\n",
       "        <div id=\"k6WG6wZHb4RpLKPJW3Q3cx\"></div>\n",
       "        <script>netpixi.call('k6WG6wZHb4RpLKPJW3Q3cx', 'BG6GNWMZUSpdkKQEjvjRxv', 'changeGraph', 'eyJpZCI6IDIxOSwgInR5cGUiOiAidmVydGV4IiwgInByb3BzIjogeyJzaXplIjogMTYuNTI3MTk2NjUyNzE5NjY3fX0K');</script>\n",
       "    "
      ],
      "text/plain": [
       "<IPython.core.display.HTML object>"
      ]
     },
     "metadata": {},
     "output_type": "display_data"
    },
    {
     "data": {
      "text/html": [
       "\n",
       "        <div id=\"XMG8cYrUJKip6cqtmJTSau\"></div>\n",
       "        <script>netpixi.call('XMG8cYrUJKip6cqtmJTSau', 'BG6GNWMZUSpdkKQEjvjRxv', 'changeGraph', 'eyJpZCI6IDg2LCAidHlwZSI6ICJ2ZXJ0ZXgiLCAicHJvcHMiOiB7ImNvbG9yIjogMTY3MTE2ODB9fQo=');</script>\n",
       "    "
      ],
      "text/plain": [
       "<IPython.core.display.HTML object>"
      ]
     },
     "metadata": {},
     "output_type": "display_data"
    },
    {
     "data": {
      "text/html": [
       "\n",
       "        <div id=\"jB684i6PioCSV4RpAbsXtC\"></div>\n",
       "        <script>netpixi.call('jB684i6PioCSV4RpAbsXtC', 'BG6GNWMZUSpdkKQEjvjRxv', 'changeGraph', 'eyJpZCI6IDIyMCwgInR5cGUiOiAidmVydGV4IiwgInByb3BzIjogeyJzaXplIjogNDMuMTY2NjY2NjY2NjY2NjY0fX0K');</script>\n",
       "    "
      ],
      "text/plain": [
       "<IPython.core.display.HTML object>"
      ]
     },
     "metadata": {},
     "output_type": "display_data"
    },
    {
     "data": {
      "text/html": [
       "\n",
       "        <div id=\"Bcyw49GFgDqMaoeyhiMer7\"></div>\n",
       "        <script>netpixi.call('Bcyw49GFgDqMaoeyhiMer7', 'BG6GNWMZUSpdkKQEjvjRxv', 'changeGraph', 'eyJpZCI6IDc2LCAidHlwZSI6ICJ2ZXJ0ZXgiLCAicHJvcHMiOiB7ImNvbG9yIjogMTY3MTE2ODB9fQo=');</script>\n",
       "    "
      ],
      "text/plain": [
       "<IPython.core.display.HTML object>"
      ]
     },
     "metadata": {},
     "output_type": "display_data"
    },
    {
     "data": {
      "text/html": [
       "\n",
       "        <div id=\"6KyKxVEWz63UL75ZJ3mycy\"></div>\n",
       "        <script>netpixi.call('6KyKxVEWz63UL75ZJ3mycy', 'BG6GNWMZUSpdkKQEjvjRxv', 'changeGraph', 'eyJpZCI6IDIyMSwgInR5cGUiOiAidmVydGV4IiwgInByb3BzIjogeyJzaXplIjogNDcuNX19Cg==');</script>\n",
       "    "
      ],
      "text/plain": [
       "<IPython.core.display.HTML object>"
      ]
     },
     "metadata": {},
     "output_type": "display_data"
    },
    {
     "data": {
      "text/html": [
       "\n",
       "        <div id=\"UefDXuBxMtSgB6Ggta482U\"></div>\n",
       "        <script>netpixi.call('UefDXuBxMtSgB6Ggta482U', 'BG6GNWMZUSpdkKQEjvjRxv', 'changeGraph', 'eyJpZCI6IDc2LCAidHlwZSI6ICJ2ZXJ0ZXgiLCAicHJvcHMiOiB7ImNvbG9yIjogMTY3MTE2ODB9fQo=');</script>\n",
       "    "
      ],
      "text/plain": [
       "<IPython.core.display.HTML object>"
      ]
     },
     "metadata": {},
     "output_type": "display_data"
    },
    {
     "data": {
      "text/html": [
       "\n",
       "        <div id=\"FLDgJFfEpfgoGtP7SzWxDG\"></div>\n",
       "        <script>netpixi.call('FLDgJFfEpfgoGtP7SzWxDG', 'BG6GNWMZUSpdkKQEjvjRxv', 'changeGraph', 'eyJpZCI6IDIyMiwgInR5cGUiOiAidmVydGV4IiwgInByb3BzIjogeyJzaXplIjogMTcuMzIyMTc1NzMyMjE3NTczfX0K');</script>\n",
       "    "
      ],
      "text/plain": [
       "<IPython.core.display.HTML object>"
      ]
     },
     "metadata": {},
     "output_type": "display_data"
    },
    {
     "data": {
      "text/html": [
       "\n",
       "        <div id=\"WpfeibKvHu93BNXomMxJLW\"></div>\n",
       "        <script>netpixi.call('WpfeibKvHu93BNXomMxJLW', 'BG6GNWMZUSpdkKQEjvjRxv', 'changeGraph', 'eyJpZCI6IDc5LCAidHlwZSI6ICJ2ZXJ0ZXgiLCAicHJvcHMiOiB7ImNvbG9yIjogMTY3MTE2ODB9fQo=');</script>\n",
       "    "
      ],
      "text/plain": [
       "<IPython.core.display.HTML object>"
      ]
     },
     "metadata": {},
     "output_type": "display_data"
    },
    {
     "data": {
      "text/html": [
       "\n",
       "        <div id=\"aEn3me4wcvBeWxMiAzyppW\"></div>\n",
       "        <script>netpixi.call('aEn3me4wcvBeWxMiAzyppW', 'BG6GNWMZUSpdkKQEjvjRxv', 'changeGraph', 'eyJpZCI6IDIyMywgInR5cGUiOiAidmVydGV4IiwgInByb3BzIjogeyJzaXplIjogNDEuODMzMzMzMzMzMzMzMzN9fQo=');</script>\n",
       "    "
      ],
      "text/plain": [
       "<IPython.core.display.HTML object>"
      ]
     },
     "metadata": {},
     "output_type": "display_data"
    },
    {
     "data": {
      "text/html": [
       "\n",
       "        <div id=\"mMscV3DNuHYWQHfhJSi2UX\"></div>\n",
       "        <script>netpixi.call('mMscV3DNuHYWQHfhJSi2UX', 'BG6GNWMZUSpdkKQEjvjRxv', 'changeGraph', 'eyJpZCI6IDcwLCAidHlwZSI6ICJ2ZXJ0ZXgiLCAicHJvcHMiOiB7ImNvbG9yIjogMTY3MTE2ODB9fQo=');</script>\n",
       "    "
      ],
      "text/plain": [
       "<IPython.core.display.HTML object>"
      ]
     },
     "metadata": {},
     "output_type": "display_data"
    },
    {
     "data": {
      "text/html": [
       "\n",
       "        <div id=\"eQeDP9GvMNPQLNfeJNDwgB\"></div>\n",
       "        <script>netpixi.call('eQeDP9GvMNPQLNfeJNDwgB', 'BG6GNWMZUSpdkKQEjvjRxv', 'changeGraph', 'eyJpZCI6IDIyNCwgInR5cGUiOiAidmVydGV4IiwgInByb3BzIjogeyJzaXplIjogMTUuNTIzMDEyNTUyMzAxMjU1fX0K');</script>\n",
       "    "
      ],
      "text/plain": [
       "<IPython.core.display.HTML object>"
      ]
     },
     "metadata": {},
     "output_type": "display_data"
    },
    {
     "data": {
      "text/html": [
       "\n",
       "        <div id=\"gwxiDcSdXNBjJ7VEhsB6r5\"></div>\n",
       "        <script>netpixi.call('gwxiDcSdXNBjJ7VEhsB6r5', 'BG6GNWMZUSpdkKQEjvjRxv', 'changeGraph', 'eyJpZCI6IDgxLCAidHlwZSI6ICJ2ZXJ0ZXgiLCAicHJvcHMiOiB7ImNvbG9yIjogMTY3MTE2ODB9fQo=');</script>\n",
       "    "
      ],
      "text/plain": [
       "<IPython.core.display.HTML object>"
      ]
     },
     "metadata": {},
     "output_type": "display_data"
    },
    {
     "data": {
      "text/html": [
       "\n",
       "        <div id=\"AZjbA8uZAXHBhoSmjp6WKX\"></div>\n",
       "        <script>netpixi.call('AZjbA8uZAXHBhoSmjp6WKX', 'BG6GNWMZUSpdkKQEjvjRxv', 'changeGraph', 'eyJpZCI6IDIyNSwgInR5cGUiOiAidmVydGV4IiwgInByb3BzIjogeyJzaXplIjogMTUuNjA2Njk0NTYwNjY5NDU1fX0K');</script>\n",
       "    "
      ],
      "text/plain": [
       "<IPython.core.display.HTML object>"
      ]
     },
     "metadata": {},
     "output_type": "display_data"
    },
    {
     "data": {
      "text/html": [
       "\n",
       "        <div id=\"cBDk3BSJ5iicf5mF3SpLdy\"></div>\n",
       "        <script>netpixi.call('cBDk3BSJ5iicf5mF3SpLdy', 'BG6GNWMZUSpdkKQEjvjRxv', 'changeGraph', 'eyJpZCI6IDgzLCAidHlwZSI6ICJ2ZXJ0ZXgiLCAicHJvcHMiOiB7ImNvbG9yIjogMTY3MTE2ODB9fQo=');</script>\n",
       "    "
      ],
      "text/plain": [
       "<IPython.core.display.HTML object>"
      ]
     },
     "metadata": {},
     "output_type": "display_data"
    },
    {
     "data": {
      "text/html": [
       "\n",
       "        <div id=\"WC5YBfVaa5hyyT3BFqqJKM\"></div>\n",
       "        <script>netpixi.call('WC5YBfVaa5hyyT3BFqqJKM', 'BG6GNWMZUSpdkKQEjvjRxv', 'changeGraph', 'eyJpZCI6IDIyNiwgInR5cGUiOiAidmVydGV4IiwgInByb3BzIjogeyJzaXplIjogNDYuODMzMzMzMzMzMzMzMzM2fX0K');</script>\n",
       "    "
      ],
      "text/plain": [
       "<IPython.core.display.HTML object>"
      ]
     },
     "metadata": {},
     "output_type": "display_data"
    },
    {
     "data": {
      "text/html": [
       "\n",
       "        <div id=\"3jXecuM7piHvm6kmeAQ6Gf\"></div>\n",
       "        <script>netpixi.call('3jXecuM7piHvm6kmeAQ6Gf', 'BG6GNWMZUSpdkKQEjvjRxv', 'changeGraph', 'eyJpZCI6IDc0LCAidHlwZSI6ICJ2ZXJ0ZXgiLCAicHJvcHMiOiB7ImNvbG9yIjogMTY3MTE2ODB9fQo=');</script>\n",
       "    "
      ],
      "text/plain": [
       "<IPython.core.display.HTML object>"
      ]
     },
     "metadata": {},
     "output_type": "display_data"
    },
    {
     "data": {
      "text/html": [
       "\n",
       "        <div id=\"4hdcLbwGio8mdVsUbHUsYP\"></div>\n",
       "        <script>netpixi.call('4hdcLbwGio8mdVsUbHUsYP', 'BG6GNWMZUSpdkKQEjvjRxv', 'changeGraph', 'eyJpZCI6IDIyNywgInR5cGUiOiAidmVydGV4IiwgInByb3BzIjogeyJzaXplIjogMTAuOTYyMzQzMDk2MjM0MzF9fQo=');</script>\n",
       "    "
      ],
      "text/plain": [
       "<IPython.core.display.HTML object>"
      ]
     },
     "metadata": {},
     "output_type": "display_data"
    },
    {
     "data": {
      "text/html": [
       "\n",
       "        <div id=\"NbFn7ZUB36UiorfsTvKGCi\"></div>\n",
       "        <script>netpixi.call('NbFn7ZUB36UiorfsTvKGCi', 'BG6GNWMZUSpdkKQEjvjRxv', 'changeGraph', 'eyJpZCI6IDgxLCAidHlwZSI6ICJ2ZXJ0ZXgiLCAicHJvcHMiOiB7ImNvbG9yIjogMTY3MTE2ODB9fQo=');</script>\n",
       "    "
      ],
      "text/plain": [
       "<IPython.core.display.HTML object>"
      ]
     },
     "metadata": {},
     "output_type": "display_data"
    },
    {
     "data": {
      "text/html": [
       "\n",
       "        <div id=\"APLXwtM2sESCHpf4T6YZcf\"></div>\n",
       "        <script>netpixi.call('APLXwtM2sESCHpf4T6YZcf', 'BG6GNWMZUSpdkKQEjvjRxv', 'changeGraph', 'eyJpZCI6IDIyOCwgInR5cGUiOiAidmVydGV4IiwgInByb3BzIjogeyJzaXplIjogMTEuMTcxNTQ4MTE3MTU0ODEyfX0K');</script>\n",
       "    "
      ],
      "text/plain": [
       "<IPython.core.display.HTML object>"
      ]
     },
     "metadata": {},
     "output_type": "display_data"
    },
    {
     "data": {
      "text/html": [
       "\n",
       "        <div id=\"GBBdnKQ9hhcKyT7DWMf6PW\"></div>\n",
       "        <script>netpixi.call('GBBdnKQ9hhcKyT7DWMf6PW', 'BG6GNWMZUSpdkKQEjvjRxv', 'changeGraph', 'eyJpZCI6IDgxLCAidHlwZSI6ICJ2ZXJ0ZXgiLCAicHJvcHMiOiB7ImNvbG9yIjogMTY3MTE2ODB9fQo=');</script>\n",
       "    "
      ],
      "text/plain": [
       "<IPython.core.display.HTML object>"
      ]
     },
     "metadata": {},
     "output_type": "display_data"
    },
    {
     "data": {
      "text/html": [
       "\n",
       "        <div id=\"bPSEczskmXRXAhDs3uzn3U\"></div>\n",
       "        <script>netpixi.call('bPSEczskmXRXAhDs3uzn3U', 'BG6GNWMZUSpdkKQEjvjRxv', 'changeGraph', 'eyJpZCI6IDIyOSwgInR5cGUiOiAidmVydGV4IiwgInByb3BzIjogeyJzaXplIjogMTYuOTg3NDQ3Njk4NzQ0Nzd9fQo=');</script>\n",
       "    "
      ],
      "text/plain": [
       "<IPython.core.display.HTML object>"
      ]
     },
     "metadata": {},
     "output_type": "display_data"
    },
    {
     "data": {
      "text/html": [
       "\n",
       "        <div id=\"2zh5x6XBBZFHsRESjwzt2c\"></div>\n",
       "        <script>netpixi.call('2zh5x6XBBZFHsRESjwzt2c', 'BG6GNWMZUSpdkKQEjvjRxv', 'changeGraph', 'eyJpZCI6IDc2LCAidHlwZSI6ICJ2ZXJ0ZXgiLCAicHJvcHMiOiB7ImNvbG9yIjogMTY3MTE2ODB9fQo=');</script>\n",
       "    "
      ],
      "text/plain": [
       "<IPython.core.display.HTML object>"
      ]
     },
     "metadata": {},
     "output_type": "display_data"
    },
    {
     "data": {
      "text/html": [
       "\n",
       "        <div id=\"DGsEArqanzy6oHUp55zg2Y\"></div>\n",
       "        <script>netpixi.call('DGsEArqanzy6oHUp55zg2Y', 'BG6GNWMZUSpdkKQEjvjRxv', 'changeGraph', 'eyJpZCI6IDIzMCwgInR5cGUiOiAidmVydGV4IiwgInByb3BzIjogeyJzaXplIjogMTYuMjc2MTUwNjI3NjE1MDYzfX0K');</script>\n",
       "    "
      ],
      "text/plain": [
       "<IPython.core.display.HTML object>"
      ]
     },
     "metadata": {},
     "output_type": "display_data"
    },
    {
     "data": {
      "text/html": [
       "\n",
       "        <div id=\"XmFbx4VpU9cUsT5XNjan7v\"></div>\n",
       "        <script>netpixi.call('XmFbx4VpU9cUsT5XNjan7v', 'BG6GNWMZUSpdkKQEjvjRxv', 'changeGraph', 'eyJpZCI6IDg0LCAidHlwZSI6ICJ2ZXJ0ZXgiLCAicHJvcHMiOiB7ImNvbG9yIjogMTY3MTE2ODB9fQo=');</script>\n",
       "    "
      ],
      "text/plain": [
       "<IPython.core.display.HTML object>"
      ]
     },
     "metadata": {},
     "output_type": "display_data"
    },
    {
     "data": {
      "text/html": [
       "\n",
       "        <div id=\"AZACpHvXgCpzhNoGTW2AUW\"></div>\n",
       "        <script>netpixi.call('AZACpHvXgCpzhNoGTW2AUW', 'BG6GNWMZUSpdkKQEjvjRxv', 'changeGraph', 'eyJpZCI6IDIzMSwgInR5cGUiOiAidmVydGV4IiwgInByb3BzIjogeyJzaXplIjogMTIuNTk0MTQyMjU5NDE0MjI1fX0K');</script>\n",
       "    "
      ],
      "text/plain": [
       "<IPython.core.display.HTML object>"
      ]
     },
     "metadata": {},
     "output_type": "display_data"
    },
    {
     "data": {
      "text/html": [
       "\n",
       "        <div id=\"jTCctpeokqQkSuyL5vkPxH\"></div>\n",
       "        <script>netpixi.call('jTCctpeokqQkSuyL5vkPxH', 'BG6GNWMZUSpdkKQEjvjRxv', 'changeGraph', 'eyJpZCI6IDcwLCAidHlwZSI6ICJ2ZXJ0ZXgiLCAicHJvcHMiOiB7ImNvbG9yIjogMTY3MTE2ODB9fQo=');</script>\n",
       "    "
      ],
      "text/plain": [
       "<IPython.core.display.HTML object>"
      ]
     },
     "metadata": {},
     "output_type": "display_data"
    },
    {
     "data": {
      "text/html": [
       "\n",
       "        <div id=\"m8hwAkzyfCpSC5V8GWSE33\"></div>\n",
       "        <script>netpixi.call('m8hwAkzyfCpSC5V8GWSE33', 'BG6GNWMZUSpdkKQEjvjRxv', 'changeGraph', 'eyJpZCI6IDIzMiwgInR5cGUiOiAidmVydGV4IiwgInByb3BzIjogeyJzaXplIjogMTkuMjA1MDIwOTIwNTAyMDkzfX0K');</script>\n",
       "    "
      ],
      "text/plain": [
       "<IPython.core.display.HTML object>"
      ]
     },
     "metadata": {},
     "output_type": "display_data"
    },
    {
     "data": {
      "text/html": [
       "\n",
       "        <div id=\"YD3Yd6YTVy3GpqpLTm8EAi\"></div>\n",
       "        <script>netpixi.call('YD3Yd6YTVy3GpqpLTm8EAi', 'BG6GNWMZUSpdkKQEjvjRxv', 'changeGraph', 'eyJpZCI6IDc1LCAidHlwZSI6ICJ2ZXJ0ZXgiLCAicHJvcHMiOiB7ImNvbG9yIjogMTY3MTE2ODB9fQo=');</script>\n",
       "    "
      ],
      "text/plain": [
       "<IPython.core.display.HTML object>"
      ]
     },
     "metadata": {},
     "output_type": "display_data"
    },
    {
     "data": {
      "text/html": [
       "\n",
       "        <div id=\"LwHAvnxZUDcPrmXNkaHRr8\"></div>\n",
       "        <script>netpixi.call('LwHAvnxZUDcPrmXNkaHRr8', 'BG6GNWMZUSpdkKQEjvjRxv', 'changeGraph', 'eyJpZCI6IDIzMywgInR5cGUiOiAidmVydGV4IiwgInByb3BzIjogeyJzaXplIjogMTkuMjg4NzAyOTI4ODcwMjkzfX0K');</script>\n",
       "    "
      ],
      "text/plain": [
       "<IPython.core.display.HTML object>"
      ]
     },
     "metadata": {},
     "output_type": "display_data"
    },
    {
     "data": {
      "text/html": [
       "\n",
       "        <div id=\"EntJ9UoDt7uGUFDUG4sGVL\"></div>\n",
       "        <script>netpixi.call('EntJ9UoDt7uGUFDUG4sGVL', 'BG6GNWMZUSpdkKQEjvjRxv', 'changeGraph', 'eyJpZCI6IDc4LCAidHlwZSI6ICJ2ZXJ0ZXgiLCAicHJvcHMiOiB7ImNvbG9yIjogMTY3MTE2ODB9fQo=');</script>\n",
       "    "
      ],
      "text/plain": [
       "<IPython.core.display.HTML object>"
      ]
     },
     "metadata": {},
     "output_type": "display_data"
    },
    {
     "data": {
      "text/html": [
       "\n",
       "        <div id=\"JRrB5br93Fmd5YDip9HUpf\"></div>\n",
       "        <script>netpixi.call('JRrB5br93Fmd5YDip9HUpf', 'BG6GNWMZUSpdkKQEjvjRxv', 'changeGraph', 'eyJpZCI6IDIzNCwgInR5cGUiOiAidmVydGV4IiwgInByb3BzIjogeyJzaXplIjogNDcuMH19Cg==');</script>\n",
       "    "
      ],
      "text/plain": [
       "<IPython.core.display.HTML object>"
      ]
     },
     "metadata": {},
     "output_type": "display_data"
    },
    {
     "data": {
      "text/html": [
       "\n",
       "        <div id=\"23ZWA9wfcJjpskh5jNg7Ww\"></div>\n",
       "        <script>netpixi.call('23ZWA9wfcJjpskh5jNg7Ww', 'BG6GNWMZUSpdkKQEjvjRxv', 'changeGraph', 'eyJpZCI6IDgwLCAidHlwZSI6ICJ2ZXJ0ZXgiLCAicHJvcHMiOiB7ImNvbG9yIjogMTY3MTE2ODB9fQo=');</script>\n",
       "    "
      ],
      "text/plain": [
       "<IPython.core.display.HTML object>"
      ]
     },
     "metadata": {},
     "output_type": "display_data"
    },
    {
     "data": {
      "text/html": [
       "\n",
       "        <div id=\"8voWffzk2CwGyxhE78Yh4P\"></div>\n",
       "        <script>netpixi.call('8voWffzk2CwGyxhE78Yh4P', 'BG6GNWMZUSpdkKQEjvjRxv', 'changeGraph', 'eyJpZCI6IDIzNSwgInR5cGUiOiAidmVydGV4IiwgInByb3BzIjogeyJzaXplIjogMTIuODAzMzQ3MjgwMzM0NzI3fX0K');</script>\n",
       "    "
      ],
      "text/plain": [
       "<IPython.core.display.HTML object>"
      ]
     },
     "metadata": {},
     "output_type": "display_data"
    },
    {
     "data": {
      "text/html": [
       "\n",
       "        <div id=\"hjiJiNzWtiSUhuWP8yaoa9\"></div>\n",
       "        <script>netpixi.call('hjiJiNzWtiSUhuWP8yaoa9', 'BG6GNWMZUSpdkKQEjvjRxv', 'changeGraph', 'eyJpZCI6IDgyLCAidHlwZSI6ICJ2ZXJ0ZXgiLCAicHJvcHMiOiB7ImNvbG9yIjogMTY3MTE2ODB9fQo=');</script>\n",
       "    "
      ],
      "text/plain": [
       "<IPython.core.display.HTML object>"
      ]
     },
     "metadata": {},
     "output_type": "display_data"
    },
    {
     "data": {
      "text/html": [
       "\n",
       "        <div id=\"Zug2rA3k7kg4WCGZgZ3o5X\"></div>\n",
       "        <script>netpixi.call('Zug2rA3k7kg4WCGZgZ3o5X', 'BG6GNWMZUSpdkKQEjvjRxv', 'changeGraph', 'eyJpZCI6IDIzNiwgInR5cGUiOiAidmVydGV4IiwgInByb3BzIjogeyJzaXplIjogMTUuNjkwMzc2NTY5MDM3NjU3fX0K');</script>\n",
       "    "
      ],
      "text/plain": [
       "<IPython.core.display.HTML object>"
      ]
     },
     "metadata": {},
     "output_type": "display_data"
    },
    {
     "data": {
      "text/html": [
       "\n",
       "        <div id=\"X48Xc7JQrGQp2su9awYcwb\"></div>\n",
       "        <script>netpixi.call('X48Xc7JQrGQp2su9awYcwb', 'BG6GNWMZUSpdkKQEjvjRxv', 'changeGraph', 'eyJpZCI6IDgwLCAidHlwZSI6ICJ2ZXJ0ZXgiLCAicHJvcHMiOiB7ImNvbG9yIjogMTY3MTE2ODB9fQo=');</script>\n",
       "    "
      ],
      "text/plain": [
       "<IPython.core.display.HTML object>"
      ]
     },
     "metadata": {},
     "output_type": "display_data"
    },
    {
     "data": {
      "text/html": [
       "\n",
       "        <div id=\"63JGZaoidw4i4aco9canKa\"></div>\n",
       "        <script>netpixi.call('63JGZaoidw4i4aco9canKa', 'BG6GNWMZUSpdkKQEjvjRxv', 'changeGraph', 'eyJpZCI6IDIzNywgInR5cGUiOiAidmVydGV4IiwgInByb3BzIjogeyJzaXplIjogMTcuMTU0ODExNzE1NDgxMTd9fQo=');</script>\n",
       "    "
      ],
      "text/plain": [
       "<IPython.core.display.HTML object>"
      ]
     },
     "metadata": {},
     "output_type": "display_data"
    },
    {
     "data": {
      "text/html": [
       "\n",
       "        <div id=\"VB5Jbbx4sC68mvmA6h92L8\"></div>\n",
       "        <script>netpixi.call('VB5Jbbx4sC68mvmA6h92L8', 'BG6GNWMZUSpdkKQEjvjRxv', 'changeGraph', 'eyJpZCI6IDcyLCAidHlwZSI6ICJ2ZXJ0ZXgiLCAicHJvcHMiOiB7ImNvbG9yIjogMTY3MTE2ODB9fQo=');</script>\n",
       "    "
      ],
      "text/plain": [
       "<IPython.core.display.HTML object>"
      ]
     },
     "metadata": {},
     "output_type": "display_data"
    },
    {
     "data": {
      "text/html": [
       "\n",
       "        <div id=\"k28Ac7kbay6Xf2S2oix67D\"></div>\n",
       "        <script>netpixi.call('k28Ac7kbay6Xf2S2oix67D', 'BG6GNWMZUSpdkKQEjvjRxv', 'changeGraph', 'eyJpZCI6IDIzOCwgInR5cGUiOiAidmVydGV4IiwgInByb3BzIjogeyJzaXplIjogMTMuNjgyMDA4MzY4MjAwODM3fX0K');</script>\n",
       "    "
      ],
      "text/plain": [
       "<IPython.core.display.HTML object>"
      ]
     },
     "metadata": {},
     "output_type": "display_data"
    },
    {
     "data": {
      "text/html": [
       "\n",
       "        <div id=\"MLpMppHKT8UtMmWQvto6BY\"></div>\n",
       "        <script>netpixi.call('MLpMppHKT8UtMmWQvto6BY', 'BG6GNWMZUSpdkKQEjvjRxv', 'changeGraph', 'eyJpZCI6IDg3LCAidHlwZSI6ICJ2ZXJ0ZXgiLCAicHJvcHMiOiB7ImNvbG9yIjogMTY3MTE2ODB9fQo=');</script>\n",
       "    "
      ],
      "text/plain": [
       "<IPython.core.display.HTML object>"
      ]
     },
     "metadata": {},
     "output_type": "display_data"
    },
    {
     "data": {
      "text/html": [
       "\n",
       "        <div id=\"Qb5tbBQ75WrrQrTkkXWtNB\"></div>\n",
       "        <script>netpixi.call('Qb5tbBQ75WrrQrTkkXWtNB', 'BG6GNWMZUSpdkKQEjvjRxv', 'changeGraph', 'eyJpZCI6IDIzOSwgInR5cGUiOiAidmVydGV4IiwgInByb3BzIjogeyJzaXplIjogMTguNTc3NDA1ODU3NzQwNTg3fX0K');</script>\n",
       "    "
      ],
      "text/plain": [
       "<IPython.core.display.HTML object>"
      ]
     },
     "metadata": {},
     "output_type": "display_data"
    },
    {
     "data": {
      "text/html": [
       "\n",
       "        <div id=\"AF4GEXYcRLZhYCeEq9XZga\"></div>\n",
       "        <script>netpixi.call('AF4GEXYcRLZhYCeEq9XZga', 'BG6GNWMZUSpdkKQEjvjRxv', 'changeGraph', 'eyJpZCI6IDcwLCAidHlwZSI6ICJ2ZXJ0ZXgiLCAicHJvcHMiOiB7ImNvbG9yIjogMTY3MTE2ODB9fQo=');</script>\n",
       "    "
      ],
      "text/plain": [
       "<IPython.core.display.HTML object>"
      ]
     },
     "metadata": {},
     "output_type": "display_data"
    },
    {
     "data": {
      "text/html": [
       "\n",
       "        <div id=\"nmLeoVKmpTzXmHpgdByfje\"></div>\n",
       "        <script>netpixi.call('nmLeoVKmpTzXmHpgdByfje', 'BG6GNWMZUSpdkKQEjvjRxv', 'changeGraph', 'eyJpZCI6IDI0MCwgInR5cGUiOiAidmVydGV4IiwgInByb3BzIjogeyJzaXplIjogMTAuMjkyODg3MDI5Mjg4NzAzfX0K');</script>\n",
       "    "
      ],
      "text/plain": [
       "<IPython.core.display.HTML object>"
      ]
     },
     "metadata": {},
     "output_type": "display_data"
    },
    {
     "data": {
      "text/html": [
       "\n",
       "        <div id=\"9FYphXyrsUFzL7i7mzSk4A\"></div>\n",
       "        <script>netpixi.call('9FYphXyrsUFzL7i7mzSk4A', 'BG6GNWMZUSpdkKQEjvjRxv', 'changeGraph', 'eyJpZCI6IDgyLCAidHlwZSI6ICJ2ZXJ0ZXgiLCAicHJvcHMiOiB7ImNvbG9yIjogMTY3MTE2ODB9fQo=');</script>\n",
       "    "
      ],
      "text/plain": [
       "<IPython.core.display.HTML object>"
      ]
     },
     "metadata": {},
     "output_type": "display_data"
    },
    {
     "data": {
      "text/html": [
       "\n",
       "        <div id=\"6hziSRD9P5REnP88iovLkw\"></div>\n",
       "        <script>netpixi.call('6hziSRD9P5REnP88iovLkw', 'BG6GNWMZUSpdkKQEjvjRxv', 'changeGraph', 'eyJpZCI6IDI0MSwgInR5cGUiOiAidmVydGV4IiwgInByb3BzIjogeyJzaXplIjogMTYuOTAzNzY1NjkwMzc2NTY3fX0K');</script>\n",
       "    "
      ],
      "text/plain": [
       "<IPython.core.display.HTML object>"
      ]
     },
     "metadata": {},
     "output_type": "display_data"
    },
    {
     "data": {
      "text/html": [
       "\n",
       "        <div id=\"4Y76BWNKMZFBPrxFfWZPQV\"></div>\n",
       "        <script>netpixi.call('4Y76BWNKMZFBPrxFfWZPQV', 'BG6GNWMZUSpdkKQEjvjRxv', 'changeGraph', 'eyJpZCI6IDgwLCAidHlwZSI6ICJ2ZXJ0ZXgiLCAicHJvcHMiOiB7ImNvbG9yIjogMTY3MTE2ODB9fQo=');</script>\n",
       "    "
      ],
      "text/plain": [
       "<IPython.core.display.HTML object>"
      ]
     },
     "metadata": {},
     "output_type": "display_data"
    },
    {
     "data": {
      "text/html": [
       "\n",
       "        <div id=\"apQ9g6pfPMvd2ZQDDqaRVd\"></div>\n",
       "        <script>netpixi.call('apQ9g6pfPMvd2ZQDDqaRVd', 'BG6GNWMZUSpdkKQEjvjRxv', 'changeGraph', 'eyJpZCI6IDI0MiwgInR5cGUiOiAidmVydGV4IiwgInByb3BzIjogeyJzaXplIjogNDkuMH19Cg==');</script>\n",
       "    "
      ],
      "text/plain": [
       "<IPython.core.display.HTML object>"
      ]
     },
     "metadata": {},
     "output_type": "display_data"
    },
    {
     "data": {
      "text/html": [
       "\n",
       "        <div id=\"Jzjok6v2KRjLHPCAebcpRL\"></div>\n",
       "        <script>netpixi.call('Jzjok6v2KRjLHPCAebcpRL', 'BG6GNWMZUSpdkKQEjvjRxv', 'changeGraph', 'eyJpZCI6IDc1LCAidHlwZSI6ICJ2ZXJ0ZXgiLCAicHJvcHMiOiB7ImNvbG9yIjogMTY3MTE2ODB9fQo=');</script>\n",
       "    "
      ],
      "text/plain": [
       "<IPython.core.display.HTML object>"
      ]
     },
     "metadata": {},
     "output_type": "display_data"
    },
    {
     "data": {
      "text/html": [
       "\n",
       "        <div id=\"WYGNE2EiDw4Wj3dZ8fe8NQ\"></div>\n",
       "        <script>netpixi.call('WYGNE2EiDw4Wj3dZ8fe8NQ', 'BG6GNWMZUSpdkKQEjvjRxv', 'changeGraph', 'eyJpZCI6IDI0MywgInR5cGUiOiAidmVydGV4IiwgInByb3BzIjogeyJzaXplIjogMTkuMDM3NjU2OTAzNzY1Njl9fQo=');</script>\n",
       "    "
      ],
      "text/plain": [
       "<IPython.core.display.HTML object>"
      ]
     },
     "metadata": {},
     "output_type": "display_data"
    },
    {
     "data": {
      "text/html": [
       "\n",
       "        <div id=\"bTKc3FvNPLUBVnWNMazCE8\"></div>\n",
       "        <script>netpixi.call('bTKc3FvNPLUBVnWNMazCE8', 'BG6GNWMZUSpdkKQEjvjRxv', 'changeGraph', 'eyJpZCI6IDg0LCAidHlwZSI6ICJ2ZXJ0ZXgiLCAicHJvcHMiOiB7ImNvbG9yIjogMTY3MTE2ODB9fQo=');</script>\n",
       "    "
      ],
      "text/plain": [
       "<IPython.core.display.HTML object>"
      ]
     },
     "metadata": {},
     "output_type": "display_data"
    },
    {
     "data": {
      "text/html": [
       "\n",
       "        <div id=\"JSe58EsrA53yFP5ggLhK4B\"></div>\n",
       "        <script>netpixi.call('JSe58EsrA53yFP5ggLhK4B', 'BG6GNWMZUSpdkKQEjvjRxv', 'changeGraph', 'eyJpZCI6IDI0NCwgInR5cGUiOiAidmVydGV4IiwgInByb3BzIjogeyJzaXplIjogMTUuODk5NTgxNTg5OTU4MTU4fX0K');</script>\n",
       "    "
      ],
      "text/plain": [
       "<IPython.core.display.HTML object>"
      ]
     },
     "metadata": {},
     "output_type": "display_data"
    },
    {
     "data": {
      "text/html": [
       "\n",
       "        <div id=\"LJCtsPKf6LMjpCYwcMhJoG\"></div>\n",
       "        <script>netpixi.call('LJCtsPKf6LMjpCYwcMhJoG', 'BG6GNWMZUSpdkKQEjvjRxv', 'changeGraph', 'eyJpZCI6IDcyLCAidHlwZSI6ICJ2ZXJ0ZXgiLCAicHJvcHMiOiB7ImNvbG9yIjogMTY3MTE2ODB9fQo=');</script>\n",
       "    "
      ],
      "text/plain": [
       "<IPython.core.display.HTML object>"
      ]
     },
     "metadata": {},
     "output_type": "display_data"
    },
    {
     "data": {
      "text/html": [
       "\n",
       "        <div id=\"7NorBgQA8LB5QhzoAcHLQF\"></div>\n",
       "        <script>netpixi.call('7NorBgQA8LB5QhzoAcHLQF', 'BG6GNWMZUSpdkKQEjvjRxv', 'changeGraph', 'eyJpZCI6IDI0NSwgInR5cGUiOiAidmVydGV4IiwgInByb3BzIjogeyJzaXplIjogMTEuMDg3ODY2MTA4Nzg2NjF9fQo=');</script>\n",
       "    "
      ],
      "text/plain": [
       "<IPython.core.display.HTML object>"
      ]
     },
     "metadata": {},
     "output_type": "display_data"
    },
    {
     "data": {
      "text/html": [
       "\n",
       "        <div id=\"5AkqR688GQXbd9Ewtp4wmi\"></div>\n",
       "        <script>netpixi.call('5AkqR688GQXbd9Ewtp4wmi', 'BG6GNWMZUSpdkKQEjvjRxv', 'changeGraph', 'eyJpZCI6IDczLCAidHlwZSI6ICJ2ZXJ0ZXgiLCAicHJvcHMiOiB7ImNvbG9yIjogMTY3MTE2ODB9fQo=');</script>\n",
       "    "
      ],
      "text/plain": [
       "<IPython.core.display.HTML object>"
      ]
     },
     "metadata": {},
     "output_type": "display_data"
    },
    {
     "data": {
      "text/html": [
       "\n",
       "        <div id=\"RStasiLGhSuqaMhBfn7wCG\"></div>\n",
       "        <script>netpixi.call('RStasiLGhSuqaMhBfn7wCG', 'BG6GNWMZUSpdkKQEjvjRxv', 'changeGraph', 'eyJpZCI6IDI0NiwgInR5cGUiOiAidmVydGV4IiwgInByb3BzIjogeyJzaXplIjogNDguMTY2NjY2NjY2NjY2NjY0fX0K');</script>\n",
       "    "
      ],
      "text/plain": [
       "<IPython.core.display.HTML object>"
      ]
     },
     "metadata": {},
     "output_type": "display_data"
    },
    {
     "data": {
      "text/html": [
       "\n",
       "        <div id=\"ixdQ83S6RAxcqzcJSPSreV\"></div>\n",
       "        <script>netpixi.call('ixdQ83S6RAxcqzcJSPSreV', 'BG6GNWMZUSpdkKQEjvjRxv', 'changeGraph', 'eyJpZCI6IDc4LCAidHlwZSI6ICJ2ZXJ0ZXgiLCAicHJvcHMiOiB7ImNvbG9yIjogMTY3MTE2ODB9fQo=');</script>\n",
       "    "
      ],
      "text/plain": [
       "<IPython.core.display.HTML object>"
      ]
     },
     "metadata": {},
     "output_type": "display_data"
    },
    {
     "data": {
      "text/html": [
       "\n",
       "        <div id=\"HfWcEZ663RVTkgf2KfunJa\"></div>\n",
       "        <script>netpixi.call('HfWcEZ663RVTkgf2KfunJa', 'BG6GNWMZUSpdkKQEjvjRxv', 'changeGraph', 'eyJpZCI6IDI0NywgInR5cGUiOiAidmVydGV4IiwgInByb3BzIjogeyJzaXplIjogNDcuMzMzMzMzMzMzMzMzMzM2fX0K');</script>\n",
       "    "
      ],
      "text/plain": [
       "<IPython.core.display.HTML object>"
      ]
     },
     "metadata": {},
     "output_type": "display_data"
    },
    {
     "data": {
      "text/html": [
       "\n",
       "        <div id=\"N5w3W9LRVms3CYWidCLRT9\"></div>\n",
       "        <script>netpixi.call('N5w3W9LRVms3CYWidCLRT9', 'BG6GNWMZUSpdkKQEjvjRxv', 'changeGraph', 'eyJpZCI6IDcxLCAidHlwZSI6ICJ2ZXJ0ZXgiLCAicHJvcHMiOiB7ImNvbG9yIjogMTY3MTE2ODB9fQo=');</script>\n",
       "    "
      ],
      "text/plain": [
       "<IPython.core.display.HTML object>"
      ]
     },
     "metadata": {},
     "output_type": "display_data"
    },
    {
     "data": {
      "text/html": [
       "\n",
       "        <div id=\"KuKeQ4GQZewCNwxj4mEdUR\"></div>\n",
       "        <script>netpixi.call('KuKeQ4GQZewCNwxj4mEdUR', 'BG6GNWMZUSpdkKQEjvjRxv', 'changeGraph', 'eyJpZCI6IDI0OCwgInR5cGUiOiAidmVydGV4IiwgInByb3BzIjogeyJzaXplIjogMTkuNDU2MDY2OTQ1NjA2NjkzfX0K');</script>\n",
       "    "
      ],
      "text/plain": [
       "<IPython.core.display.HTML object>"
      ]
     },
     "metadata": {},
     "output_type": "display_data"
    },
    {
     "data": {
      "text/html": [
       "\n",
       "        <div id=\"FfKh6kQ9TgyBvyRzdHJ3au\"></div>\n",
       "        <script>netpixi.call('FfKh6kQ9TgyBvyRzdHJ3au', 'BG6GNWMZUSpdkKQEjvjRxv', 'changeGraph', 'eyJpZCI6IDcyLCAidHlwZSI6ICJ2ZXJ0ZXgiLCAicHJvcHMiOiB7ImNvbG9yIjogMTY3MTE2ODB9fQo=');</script>\n",
       "    "
      ],
      "text/plain": [
       "<IPython.core.display.HTML object>"
      ]
     },
     "metadata": {},
     "output_type": "display_data"
    },
    {
     "data": {
      "text/html": [
       "\n",
       "        <div id=\"4E69D7MFpZYM9M374Xbsi5\"></div>\n",
       "        <script>netpixi.call('4E69D7MFpZYM9M374Xbsi5', 'BG6GNWMZUSpdkKQEjvjRxv', 'changeGraph', 'eyJpZCI6IDI0OSwgInR5cGUiOiAidmVydGV4IiwgInByb3BzIjogeyJzaXplIjogMTYuNTY5MDM3NjU2OTAzNzY3fX0K');</script>\n",
       "    "
      ],
      "text/plain": [
       "<IPython.core.display.HTML object>"
      ]
     },
     "metadata": {},
     "output_type": "display_data"
    },
    {
     "data": {
      "text/html": [
       "\n",
       "        <div id=\"EvHGpL4N8tZmvD6Dv6wpWb\"></div>\n",
       "        <script>netpixi.call('EvHGpL4N8tZmvD6Dv6wpWb', 'BG6GNWMZUSpdkKQEjvjRxv', 'changeGraph', 'eyJpZCI6IDcxLCAidHlwZSI6ICJ2ZXJ0ZXgiLCAicHJvcHMiOiB7ImNvbG9yIjogMTY3MTE2ODB9fQo=');</script>\n",
       "    "
      ],
      "text/plain": [
       "<IPython.core.display.HTML object>"
      ]
     },
     "metadata": {},
     "output_type": "display_data"
    },
    {
     "data": {
      "text/html": [
       "\n",
       "        <div id=\"5XvW7RKRhmAThh2iksmCuA\"></div>\n",
       "        <script>netpixi.call('5XvW7RKRhmAThh2iksmCuA', 'BG6GNWMZUSpdkKQEjvjRxv', 'changeGraph', 'eyJpZCI6IDI1MCwgInR5cGUiOiAidmVydGV4IiwgInByb3BzIjogeyJzaXplIjogMTUuMDIwOTIwNTAyMDkyMDV9fQo=');</script>\n",
       "    "
      ],
      "text/plain": [
       "<IPython.core.display.HTML object>"
      ]
     },
     "metadata": {},
     "output_type": "display_data"
    },
    {
     "data": {
      "text/html": [
       "\n",
       "        <div id=\"7KvTb88VhRUEDVHTjYYM8h\"></div>\n",
       "        <script>netpixi.call('7KvTb88VhRUEDVHTjYYM8h', 'BG6GNWMZUSpdkKQEjvjRxv', 'changeGraph', 'eyJpZCI6IDgyLCAidHlwZSI6ICJ2ZXJ0ZXgiLCAicHJvcHMiOiB7ImNvbG9yIjogMTY3MTE2ODB9fQo=');</script>\n",
       "    "
      ],
      "text/plain": [
       "<IPython.core.display.HTML object>"
      ]
     },
     "metadata": {},
     "output_type": "display_data"
    },
    {
     "data": {
      "text/html": [
       "\n",
       "        <div id=\"7D6ZHRBPs6SYab7iPZ9ChD\"></div>\n",
       "        <script>netpixi.call('7D6ZHRBPs6SYab7iPZ9ChD', 'BG6GNWMZUSpdkKQEjvjRxv', 'changeGraph', 'eyJpZCI6IDI1MSwgInR5cGUiOiAidmVydGV4IiwgInByb3BzIjogeyJzaXplIjogNDguNX19Cg==');</script>\n",
       "    "
      ],
      "text/plain": [
       "<IPython.core.display.HTML object>"
      ]
     },
     "metadata": {},
     "output_type": "display_data"
    },
    {
     "data": {
      "text/html": [
       "\n",
       "        <div id=\"F6PqHqcAU4hG3cV5XzuqDA\"></div>\n",
       "        <script>netpixi.call('F6PqHqcAU4hG3cV5XzuqDA', 'BG6GNWMZUSpdkKQEjvjRxv', 'changeGraph', 'eyJpZCI6IDc2LCAidHlwZSI6ICJ2ZXJ0ZXgiLCAicHJvcHMiOiB7ImNvbG9yIjogMTY3MTE2ODB9fQo=');</script>\n",
       "    "
      ],
      "text/plain": [
       "<IPython.core.display.HTML object>"
      ]
     },
     "metadata": {},
     "output_type": "display_data"
    },
    {
     "data": {
      "text/html": [
       "\n",
       "        <div id=\"QUXUBHVbYKuJz4fn2mWEqY\"></div>\n",
       "        <script>netpixi.call('QUXUBHVbYKuJz4fn2mWEqY', 'BG6GNWMZUSpdkKQEjvjRxv', 'changeGraph', 'eyJpZCI6IDI1MiwgInR5cGUiOiAidmVydGV4IiwgInByb3BzIjogeyJzaXplIjogNDEuNX19Cg==');</script>\n",
       "    "
      ],
      "text/plain": [
       "<IPython.core.display.HTML object>"
      ]
     },
     "metadata": {},
     "output_type": "display_data"
    },
    {
     "data": {
      "text/html": [
       "\n",
       "        <div id=\"6yX4qf37ani67KSV4DLmF2\"></div>\n",
       "        <script>netpixi.call('6yX4qf37ani67KSV4DLmF2', 'BG6GNWMZUSpdkKQEjvjRxv', 'changeGraph', 'eyJpZCI6IDcxLCAidHlwZSI6ICJ2ZXJ0ZXgiLCAicHJvcHMiOiB7ImNvbG9yIjogMTY3MTE2ODB9fQo=');</script>\n",
       "    "
      ],
      "text/plain": [
       "<IPython.core.display.HTML object>"
      ]
     },
     "metadata": {},
     "output_type": "display_data"
    },
    {
     "data": {
      "text/html": [
       "\n",
       "        <div id=\"26qZp6RtXAzsd24Gddchmo\"></div>\n",
       "        <script>netpixi.call('26qZp6RtXAzsd24Gddchmo', 'BG6GNWMZUSpdkKQEjvjRxv', 'changeGraph', 'eyJpZCI6IDI1MywgInR5cGUiOiAidmVydGV4IiwgInByb3BzIjogeyJzaXplIjogMTIuMzg0OTM3MjM4NDkzNzIzfX0K');</script>\n",
       "    "
      ],
      "text/plain": [
       "<IPython.core.display.HTML object>"
      ]
     },
     "metadata": {},
     "output_type": "display_data"
    },
    {
     "data": {
      "text/html": [
       "\n",
       "        <div id=\"NhUTHTcRh4CQw3omPVrRvf\"></div>\n",
       "        <script>netpixi.call('NhUTHTcRh4CQw3omPVrRvf', 'BG6GNWMZUSpdkKQEjvjRxv', 'changeGraph', 'eyJpZCI6IDc2LCAidHlwZSI6ICJ2ZXJ0ZXgiLCAicHJvcHMiOiB7ImNvbG9yIjogMTY3MTE2ODB9fQo=');</script>\n",
       "    "
      ],
      "text/plain": [
       "<IPython.core.display.HTML object>"
      ]
     },
     "metadata": {},
     "output_type": "display_data"
    },
    {
     "data": {
      "text/html": [
       "\n",
       "        <div id=\"jZisXNUqi4ykg7yBsLpT82\"></div>\n",
       "        <script>netpixi.call('jZisXNUqi4ykg7yBsLpT82', 'BG6GNWMZUSpdkKQEjvjRxv', 'changeGraph', 'eyJpZCI6IDI1NCwgInR5cGUiOiAidmVydGV4IiwgInByb3BzIjogeyJzaXplIjogMTYuNDAxNjczNjQwMTY3MzYzfX0K');</script>\n",
       "    "
      ],
      "text/plain": [
       "<IPython.core.display.HTML object>"
      ]
     },
     "metadata": {},
     "output_type": "display_data"
    },
    {
     "data": {
      "text/html": [
       "\n",
       "        <div id=\"3eQvNKv3HNGvP6oENUcbBn\"></div>\n",
       "        <script>netpixi.call('3eQvNKv3HNGvP6oENUcbBn', 'BG6GNWMZUSpdkKQEjvjRxv', 'changeGraph', 'eyJpZCI6IDgxLCAidHlwZSI6ICJ2ZXJ0ZXgiLCAicHJvcHMiOiB7ImNvbG9yIjogMTY3MTE2ODB9fQo=');</script>\n",
       "    "
      ],
      "text/plain": [
       "<IPython.core.display.HTML object>"
      ]
     },
     "metadata": {},
     "output_type": "display_data"
    },
    {
     "data": {
      "text/html": [
       "\n",
       "        <div id=\"HapCDxatAfdJSzc88XnqeJ\"></div>\n",
       "        <script>netpixi.call('HapCDxatAfdJSzc88XnqeJ', 'BG6GNWMZUSpdkKQEjvjRxv', 'changeGraph', 'eyJpZCI6IDI1NSwgInR5cGUiOiAidmVydGV4IiwgInByb3BzIjogeyJzaXplIjogMTMuMTc5OTE2MzE3OTkxNjMyfX0K');</script>\n",
       "    "
      ],
      "text/plain": [
       "<IPython.core.display.HTML object>"
      ]
     },
     "metadata": {},
     "output_type": "display_data"
    },
    {
     "data": {
      "text/html": [
       "\n",
       "        <div id=\"KL9am68jtrceYW48teLwtq\"></div>\n",
       "        <script>netpixi.call('KL9am68jtrceYW48teLwtq', 'BG6GNWMZUSpdkKQEjvjRxv', 'changeGraph', 'eyJpZCI6IDgyLCAidHlwZSI6ICJ2ZXJ0ZXgiLCAicHJvcHMiOiB7ImNvbG9yIjogMTY3MTE2ODB9fQo=');</script>\n",
       "    "
      ],
      "text/plain": [
       "<IPython.core.display.HTML object>"
      ]
     },
     "metadata": {},
     "output_type": "display_data"
    },
    {
     "data": {
      "text/html": [
       "\n",
       "        <div id=\"DYyaEVhMSuoTexjiNxdnkj\"></div>\n",
       "        <script>netpixi.call('DYyaEVhMSuoTexjiNxdnkj', 'BG6GNWMZUSpdkKQEjvjRxv', 'changeGraph', 'eyJpZCI6IDI1NiwgInR5cGUiOiAidmVydGV4IiwgInByb3BzIjogeyJzaXplIjogMTEuMjk3MDcxMTI5NzA3MTEzfX0K');</script>\n",
       "    "
      ],
      "text/plain": [
       "<IPython.core.display.HTML object>"
      ]
     },
     "metadata": {},
     "output_type": "display_data"
    },
    {
     "data": {
      "text/html": [
       "\n",
       "        <div id=\"ihF8DzPoergW6KBnqvseg5\"></div>\n",
       "        <script>netpixi.call('ihF8DzPoergW6KBnqvseg5', 'BG6GNWMZUSpdkKQEjvjRxv', 'changeGraph', 'eyJpZCI6IDc0LCAidHlwZSI6ICJ2ZXJ0ZXgiLCAicHJvcHMiOiB7ImNvbG9yIjogMTY3MTE2ODB9fQo=');</script>\n",
       "    "
      ],
      "text/plain": [
       "<IPython.core.display.HTML object>"
      ]
     },
     "metadata": {},
     "output_type": "display_data"
    },
    {
     "data": {
      "text/html": [
       "\n",
       "        <div id=\"jnZQ5ZCZBpVfncKWonasGD\"></div>\n",
       "        <script>netpixi.call('jnZQ5ZCZBpVfncKWonasGD', 'BG6GNWMZUSpdkKQEjvjRxv', 'changeGraph', 'eyJpZCI6IDI1NywgInR5cGUiOiAidmVydGV4IiwgInByb3BzIjogeyJzaXplIjogMTcuMjgwMzM0NzI4MDMzNDczfX0K');</script>\n",
       "    "
      ],
      "text/plain": [
       "<IPython.core.display.HTML object>"
      ]
     },
     "metadata": {},
     "output_type": "display_data"
    },
    {
     "data": {
      "text/html": [
       "\n",
       "        <div id=\"RyHTHjhyfvJsXroTS6s8nK\"></div>\n",
       "        <script>netpixi.call('RyHTHjhyfvJsXroTS6s8nK', 'BG6GNWMZUSpdkKQEjvjRxv', 'changeGraph', 'eyJpZCI6IDg4LCAidHlwZSI6ICJ2ZXJ0ZXgiLCAicHJvcHMiOiB7ImNvbG9yIjogMTY3MTE2ODB9fQo=');</script>\n",
       "    "
      ],
      "text/plain": [
       "<IPython.core.display.HTML object>"
      ]
     },
     "metadata": {},
     "output_type": "display_data"
    },
    {
     "data": {
      "text/html": [
       "\n",
       "        <div id=\"D3tyf6M4kQ2RoG6ZzC8TdA\"></div>\n",
       "        <script>netpixi.call('D3tyf6M4kQ2RoG6ZzC8TdA', 'BG6GNWMZUSpdkKQEjvjRxv', 'changeGraph', 'eyJpZCI6IDI1OCwgInR5cGUiOiAidmVydGV4IiwgInByb3BzIjogeyJzaXplIjogNDcuMTY2NjY2NjY2NjY2Njd9fQo=');</script>\n",
       "    "
      ],
      "text/plain": [
       "<IPython.core.display.HTML object>"
      ]
     },
     "metadata": {},
     "output_type": "display_data"
    },
    {
     "data": {
      "text/html": [
       "\n",
       "        <div id=\"Pngc2FQPSeyVVteARyuSRy\"></div>\n",
       "        <script>netpixi.call('Pngc2FQPSeyVVteARyuSRy', 'BG6GNWMZUSpdkKQEjvjRxv', 'changeGraph', 'eyJpZCI6IDc2LCAidHlwZSI6ICJ2ZXJ0ZXgiLCAicHJvcHMiOiB7ImNvbG9yIjogMTY3MTE2ODB9fQo=');</script>\n",
       "    "
      ],
      "text/plain": [
       "<IPython.core.display.HTML object>"
      ]
     },
     "metadata": {},
     "output_type": "display_data"
    },
    {
     "data": {
      "text/html": [
       "\n",
       "        <div id=\"PZwjhGz5eZUzU8jMASttch\"></div>\n",
       "        <script>netpixi.call('PZwjhGz5eZUzU8jMASttch', 'BG6GNWMZUSpdkKQEjvjRxv', 'changeGraph', 'eyJpZCI6IDI1OSwgInR5cGUiOiAidmVydGV4IiwgInByb3BzIjogeyJzaXplIjogNDguNjY2NjY2NjY2NjY2NjY0fX0K');</script>\n",
       "    "
      ],
      "text/plain": [
       "<IPython.core.display.HTML object>"
      ]
     },
     "metadata": {},
     "output_type": "display_data"
    },
    {
     "data": {
      "text/html": [
       "\n",
       "        <div id=\"ezp2ShXKASRfEEQiN5M2Tu\"></div>\n",
       "        <script>netpixi.call('ezp2ShXKASRfEEQiN5M2Tu', 'BG6GNWMZUSpdkKQEjvjRxv', 'changeGraph', 'eyJpZCI6IDc4LCAidHlwZSI6ICJ2ZXJ0ZXgiLCAicHJvcHMiOiB7ImNvbG9yIjogMTY3MTE2ODB9fQo=');</script>\n",
       "    "
      ],
      "text/plain": [
       "<IPython.core.display.HTML object>"
      ]
     },
     "metadata": {},
     "output_type": "display_data"
    },
    {
     "data": {
      "text/html": [
       "\n",
       "        <div id=\"DA2RTKvRLyW7fQAPhBr8u6\"></div>\n",
       "        <script>netpixi.call('DA2RTKvRLyW7fQAPhBr8u6', 'BG6GNWMZUSpdkKQEjvjRxv', 'changeGraph', 'eyJpZCI6IDI2MCwgInR5cGUiOiAidmVydGV4IiwgInByb3BzIjogeyJzaXplIjogMTAuODc4NjYxMDg3ODY2MTA4fX0K');</script>\n",
       "    "
      ],
      "text/plain": [
       "<IPython.core.display.HTML object>"
      ]
     },
     "metadata": {},
     "output_type": "display_data"
    },
    {
     "data": {
      "text/html": [
       "\n",
       "        <div id=\"jVEH5YZURV6EkxyRPynb3V\"></div>\n",
       "        <script>netpixi.call('jVEH5YZURV6EkxyRPynb3V', 'BG6GNWMZUSpdkKQEjvjRxv', 'changeGraph', 'eyJpZCI6IDczLCAidHlwZSI6ICJ2ZXJ0ZXgiLCAicHJvcHMiOiB7ImNvbG9yIjogMTY3MTE2ODB9fQo=');</script>\n",
       "    "
      ],
      "text/plain": [
       "<IPython.core.display.HTML object>"
      ]
     },
     "metadata": {},
     "output_type": "display_data"
    },
    {
     "data": {
      "text/html": [
       "\n",
       "        <div id=\"dez4AXdbEFSPYBgNwgoCNJ\"></div>\n",
       "        <script>netpixi.call('dez4AXdbEFSPYBgNwgoCNJ', 'BG6GNWMZUSpdkKQEjvjRxv', 'changeGraph', 'eyJpZCI6IDI2MSwgInR5cGUiOiAidmVydGV4IiwgInByb3BzIjogeyJzaXplIjogMTUuOTgzMjYzNTk4MzI2MzZ9fQo=');</script>\n",
       "    "
      ],
      "text/plain": [
       "<IPython.core.display.HTML object>"
      ]
     },
     "metadata": {},
     "output_type": "display_data"
    },
    {
     "data": {
      "text/html": [
       "\n",
       "        <div id=\"A8RNaC3CoaemU9xYDK7y3V\"></div>\n",
       "        <script>netpixi.call('A8RNaC3CoaemU9xYDK7y3V', 'BG6GNWMZUSpdkKQEjvjRxv', 'changeGraph', 'eyJpZCI6IDgxLCAidHlwZSI6ICJ2ZXJ0ZXgiLCAicHJvcHMiOiB7ImNvbG9yIjogMTY3MTE2ODB9fQo=');</script>\n",
       "    "
      ],
      "text/plain": [
       "<IPython.core.display.HTML object>"
      ]
     },
     "metadata": {},
     "output_type": "display_data"
    },
    {
     "data": {
      "text/html": [
       "\n",
       "        <div id=\"heCjmvutFLEsVQ2ouGzmvs\"></div>\n",
       "        <script>netpixi.call('heCjmvutFLEsVQ2ouGzmvs', 'BG6GNWMZUSpdkKQEjvjRxv', 'changeGraph', 'eyJpZCI6IDI2MiwgInR5cGUiOiAidmVydGV4IiwgInByb3BzIjogeyJzaXplIjogNDUuMH19Cg==');</script>\n",
       "    "
      ],
      "text/plain": [
       "<IPython.core.display.HTML object>"
      ]
     },
     "metadata": {},
     "output_type": "display_data"
    },
    {
     "data": {
      "text/html": [
       "\n",
       "        <div id=\"GbHgRQiYh53Vwb6rTGf8BM\"></div>\n",
       "        <script>netpixi.call('GbHgRQiYh53Vwb6rTGf8BM', 'BG6GNWMZUSpdkKQEjvjRxv', 'changeGraph', 'eyJpZCI6IDc2LCAidHlwZSI6ICJ2ZXJ0ZXgiLCAicHJvcHMiOiB7ImNvbG9yIjogMTY3MTE2ODB9fQo=');</script>\n",
       "    "
      ],
      "text/plain": [
       "<IPython.core.display.HTML object>"
      ]
     },
     "metadata": {},
     "output_type": "display_data"
    },
    {
     "data": {
      "text/html": [
       "\n",
       "        <div id=\"MfcX44mvQymYcDBbUKLdZF\"></div>\n",
       "        <script>netpixi.call('MfcX44mvQymYcDBbUKLdZF', 'BG6GNWMZUSpdkKQEjvjRxv', 'changeGraph', 'eyJpZCI6IDI2MywgInR5cGUiOiAidmVydGV4IiwgInByb3BzIjogeyJzaXplIjogNDcuNjY2NjY2NjY2NjY2NjY0fX0K');</script>\n",
       "    "
      ],
      "text/plain": [
       "<IPython.core.display.HTML object>"
      ]
     },
     "metadata": {},
     "output_type": "display_data"
    },
    {
     "data": {
      "text/html": [
       "\n",
       "        <div id=\"kQ6Fg775rSisw9ZVqSaRse\"></div>\n",
       "        <script>netpixi.call('kQ6Fg775rSisw9ZVqSaRse', 'BG6GNWMZUSpdkKQEjvjRxv', 'changeGraph', 'eyJpZCI6IDgwLCAidHlwZSI6ICJ2ZXJ0ZXgiLCAicHJvcHMiOiB7ImNvbG9yIjogMTY3MTE2ODB9fQo=');</script>\n",
       "    "
      ],
      "text/plain": [
       "<IPython.core.display.HTML object>"
      ]
     },
     "metadata": {},
     "output_type": "display_data"
    },
    {
     "data": {
      "text/html": [
       "\n",
       "        <div id=\"MK9zoRTuPYPanGTc3w2Nvs\"></div>\n",
       "        <script>netpixi.call('MK9zoRTuPYPanGTc3w2Nvs', 'BG6GNWMZUSpdkKQEjvjRxv', 'changeGraph', 'eyJpZCI6IDI2NCwgInR5cGUiOiAidmVydGV4IiwgInByb3BzIjogeyJzaXplIjogMTcuNjk4NzQ0NzY5ODc0NDc3fX0K');</script>\n",
       "    "
      ],
      "text/plain": [
       "<IPython.core.display.HTML object>"
      ]
     },
     "metadata": {},
     "output_type": "display_data"
    },
    {
     "data": {
      "text/html": [
       "\n",
       "        <div id=\"mkfVv67PoZn4J73CaXc3hu\"></div>\n",
       "        <script>netpixi.call('mkfVv67PoZn4J73CaXc3hu', 'BG6GNWMZUSpdkKQEjvjRxv', 'changeGraph', 'eyJpZCI6IDYxLCAidHlwZSI6ICJ2ZXJ0ZXgiLCAicHJvcHMiOiB7ImNvbG9yIjogMTY3MTE2ODB9fQo=');</script>\n",
       "    "
      ],
      "text/plain": [
       "<IPython.core.display.HTML object>"
      ]
     },
     "metadata": {},
     "output_type": "display_data"
    },
    {
     "data": {
      "text/html": [
       "\n",
       "        <div id=\"mC93ZAazpicX2bamBGyi85\"></div>\n",
       "        <script>netpixi.call('mC93ZAazpicX2bamBGyi85', 'BG6GNWMZUSpdkKQEjvjRxv', 'changeGraph', 'eyJpZCI6IDI2NSwgInR5cGUiOiAidmVydGV4IiwgInByb3BzIjogeyJzaXplIjogNDkuMTY2NjY2NjY2NjY2NjY0fX0K');</script>\n",
       "    "
      ],
      "text/plain": [
       "<IPython.core.display.HTML object>"
      ]
     },
     "metadata": {},
     "output_type": "display_data"
    },
    {
     "data": {
      "text/html": [
       "\n",
       "        <div id=\"Syr9MwtSj7Tdcb9jhqqLXs\"></div>\n",
       "        <script>netpixi.call('Syr9MwtSj7Tdcb9jhqqLXs', 'BG6GNWMZUSpdkKQEjvjRxv', 'changeGraph', 'eyJpZCI6IDcyLCAidHlwZSI6ICJ2ZXJ0ZXgiLCAicHJvcHMiOiB7ImNvbG9yIjogMTY3MTE2ODB9fQo=');</script>\n",
       "    "
      ],
      "text/plain": [
       "<IPython.core.display.HTML object>"
      ]
     },
     "metadata": {},
     "output_type": "display_data"
    },
    {
     "data": {
      "text/html": [
       "\n",
       "        <div id=\"ExtBgf7XS7d8Pju4WgM9U4\"></div>\n",
       "        <script>netpixi.call('ExtBgf7XS7d8Pju4WgM9U4', 'BG6GNWMZUSpdkKQEjvjRxv', 'changeGraph', 'eyJpZCI6IDI2NiwgInR5cGUiOiAidmVydGV4IiwgInByb3BzIjogeyJzaXplIjogMTYuNjEwODc4NjYxMDg3ODY3fX0K');</script>\n",
       "    "
      ],
      "text/plain": [
       "<IPython.core.display.HTML object>"
      ]
     },
     "metadata": {},
     "output_type": "display_data"
    },
    {
     "data": {
      "text/html": [
       "\n",
       "        <div id=\"JgmiCwqxjAiQZjhqnPqrjS\"></div>\n",
       "        <script>netpixi.call('JgmiCwqxjAiQZjhqnPqrjS', 'BG6GNWMZUSpdkKQEjvjRxv', 'changeGraph', 'eyJpZCI6IDczLCAidHlwZSI6ICJ2ZXJ0ZXgiLCAicHJvcHMiOiB7ImNvbG9yIjogMTY3MTE2ODB9fQo=');</script>\n",
       "    "
      ],
      "text/plain": [
       "<IPython.core.display.HTML object>"
      ]
     },
     "metadata": {},
     "output_type": "display_data"
    },
    {
     "data": {
      "text/html": [
       "\n",
       "        <div id=\"n453zGbu6eraV79ZZLmHZN\"></div>\n",
       "        <script>netpixi.call('n453zGbu6eraV79ZZLmHZN', 'BG6GNWMZUSpdkKQEjvjRxv', 'changeGraph', 'eyJpZCI6IDI2NywgInR5cGUiOiAidmVydGV4IiwgInByb3BzIjogeyJzaXplIjogMTAuMTI1NTIzMDEyNTUyMzAyfX0K');</script>\n",
       "    "
      ],
      "text/plain": [
       "<IPython.core.display.HTML object>"
      ]
     },
     "metadata": {},
     "output_type": "display_data"
    },
    {
     "data": {
      "text/html": [
       "\n",
       "        <div id=\"Y94oW7vBHHXbxLtexATHx7\"></div>\n",
       "        <script>netpixi.call('Y94oW7vBHHXbxLtexATHx7', 'BG6GNWMZUSpdkKQEjvjRxv', 'changeGraph', 'eyJpZCI6IDY2LCAidHlwZSI6ICJ2ZXJ0ZXgiLCAicHJvcHMiOiB7ImNvbG9yIjogMTY3MTE2ODB9fQo=');</script>\n",
       "    "
      ],
      "text/plain": [
       "<IPython.core.display.HTML object>"
      ]
     },
     "metadata": {},
     "output_type": "display_data"
    },
    {
     "data": {
      "text/html": [
       "\n",
       "        <div id=\"FPg6A6q6NapnJJAk9mvbz5\"></div>\n",
       "        <script>netpixi.call('FPg6A6q6NapnJJAk9mvbz5', 'BG6GNWMZUSpdkKQEjvjRxv', 'changeGraph', 'eyJpZCI6IDI2OCwgInR5cGUiOiAidmVydGV4IiwgInByb3BzIjogeyJzaXplIjogMTMuNjQwMTY3MzY0MDE2NzM3fX0K');</script>\n",
       "    "
      ],
      "text/plain": [
       "<IPython.core.display.HTML object>"
      ]
     },
     "metadata": {},
     "output_type": "display_data"
    },
    {
     "data": {
      "text/html": [
       "\n",
       "        <div id=\"JRLmTUhN7NPQedLRPphbmP\"></div>\n",
       "        <script>netpixi.call('JRLmTUhN7NPQedLRPphbmP', 'BG6GNWMZUSpdkKQEjvjRxv', 'changeGraph', 'eyJpZCI6IDgxLCAidHlwZSI6ICJ2ZXJ0ZXgiLCAicHJvcHMiOiB7ImNvbG9yIjogMTY3MTE2ODB9fQo=');</script>\n",
       "    "
      ],
      "text/plain": [
       "<IPython.core.display.HTML object>"
      ]
     },
     "metadata": {},
     "output_type": "display_data"
    },
    {
     "data": {
      "text/html": [
       "\n",
       "        <div id=\"ZJXvFfUzmZfYsDdWiP4SiM\"></div>\n",
       "        <script>netpixi.call('ZJXvFfUzmZfYsDdWiP4SiM', 'BG6GNWMZUSpdkKQEjvjRxv', 'changeGraph', 'eyJpZCI6IDI2OSwgInR5cGUiOiAidmVydGV4IiwgInByb3BzIjogeyJzaXplIjogMTMuNTk4MzI2MzU5ODMyNjM3fX0K');</script>\n",
       "    "
      ],
      "text/plain": [
       "<IPython.core.display.HTML object>"
      ]
     },
     "metadata": {},
     "output_type": "display_data"
    },
    {
     "data": {
      "text/html": [
       "\n",
       "        <div id=\"Lgq7tKDLYpNFezqJR9JBhp\"></div>\n",
       "        <script>netpixi.call('Lgq7tKDLYpNFezqJR9JBhp', 'BG6GNWMZUSpdkKQEjvjRxv', 'changeGraph', 'eyJpZCI6IDgyLCAidHlwZSI6ICJ2ZXJ0ZXgiLCAicHJvcHMiOiB7ImNvbG9yIjogMTY3MTE2ODB9fQo=');</script>\n",
       "    "
      ],
      "text/plain": [
       "<IPython.core.display.HTML object>"
      ]
     },
     "metadata": {},
     "output_type": "display_data"
    },
    {
     "data": {
      "text/html": [
       "\n",
       "        <div id=\"bBkZA7SNPxza7YnSSat5QK\"></div>\n",
       "        <script>netpixi.call('bBkZA7SNPxza7YnSSat5QK', 'BG6GNWMZUSpdkKQEjvjRxv', 'changeGraph', 'eyJpZCI6IDI3MCwgInR5cGUiOiAidmVydGV4IiwgInByb3BzIjogeyJzaXplIjogMTkuNTgxNTg5OTU4MTU4OTkzfX0K');</script>\n",
       "    "
      ],
      "text/plain": [
       "<IPython.core.display.HTML object>"
      ]
     },
     "metadata": {},
     "output_type": "display_data"
    },
    {
     "data": {
      "text/html": [
       "\n",
       "        <div id=\"gDc29KMnbFef7co5i3Uz4u\"></div>\n",
       "        <script>netpixi.call('gDc29KMnbFef7co5i3Uz4u', 'BG6GNWMZUSpdkKQEjvjRxv', 'changeGraph', 'eyJpZCI6IDcxLCAidHlwZSI6ICJ2ZXJ0ZXgiLCAicHJvcHMiOiB7ImNvbG9yIjogMTY3MTE2ODB9fQo=');</script>\n",
       "    "
      ],
      "text/plain": [
       "<IPython.core.display.HTML object>"
      ]
     },
     "metadata": {},
     "output_type": "display_data"
    },
    {
     "data": {
      "text/html": [
       "\n",
       "        <div id=\"VBQsN58jGPJs6sqwBvJpu5\"></div>\n",
       "        <script>netpixi.call('VBQsN58jGPJs6sqwBvJpu5', 'BG6GNWMZUSpdkKQEjvjRxv', 'changeGraph', 'eyJpZCI6IDI3MSwgInR5cGUiOiAidmVydGV4IiwgInByb3BzIjogeyJzaXplIjogMTIuMTMzODkxMjEzMzg5MTIyfX0K');</script>\n",
       "    "
      ],
      "text/plain": [
       "<IPython.core.display.HTML object>"
      ]
     },
     "metadata": {},
     "output_type": "display_data"
    },
    {
     "data": {
      "text/html": [
       "\n",
       "        <div id=\"SEZBSCaZQo98zkuyy6zZ6y\"></div>\n",
       "        <script>netpixi.call('SEZBSCaZQo98zkuyy6zZ6y', 'BG6GNWMZUSpdkKQEjvjRxv', 'changeGraph', 'eyJpZCI6IDgxLCAidHlwZSI6ICJ2ZXJ0ZXgiLCAicHJvcHMiOiB7ImNvbG9yIjogMTY3MTE2ODB9fQo=');</script>\n",
       "    "
      ],
      "text/plain": [
       "<IPython.core.display.HTML object>"
      ]
     },
     "metadata": {},
     "output_type": "display_data"
    },
    {
     "data": {
      "text/html": [
       "\n",
       "        <div id=\"XXhT3uaJgxP9iTSC9BfXND\"></div>\n",
       "        <script>netpixi.call('XXhT3uaJgxP9iTSC9BfXND', 'BG6GNWMZUSpdkKQEjvjRxv', 'changeGraph', 'eyJpZCI6IDI3MiwgInR5cGUiOiAidmVydGV4IiwgInByb3BzIjogeyJzaXplIjogMTMuMzA1NDM5MzMwNTQzOTMzfX0K');</script>\n",
       "    "
      ],
      "text/plain": [
       "<IPython.core.display.HTML object>"
      ]
     },
     "metadata": {},
     "output_type": "display_data"
    },
    {
     "data": {
      "text/html": [
       "\n",
       "        <div id=\"iSdZpYW3Pnm5uszJq9NEEY\"></div>\n",
       "        <script>netpixi.call('iSdZpYW3Pnm5uszJq9NEEY', 'BG6GNWMZUSpdkKQEjvjRxv', 'changeGraph', 'eyJpZCI6IDg3LCAidHlwZSI6ICJ2ZXJ0ZXgiLCAicHJvcHMiOiB7ImNvbG9yIjogMTY3MTE2ODB9fQo=');</script>\n",
       "    "
      ],
      "text/plain": [
       "<IPython.core.display.HTML object>"
      ]
     },
     "metadata": {},
     "output_type": "display_data"
    },
    {
     "data": {
      "text/html": [
       "\n",
       "        <div id=\"kPKgiutH3H3hS4xQhawCZ6\"></div>\n",
       "        <script>netpixi.call('kPKgiutH3H3hS4xQhawCZ6', 'BG6GNWMZUSpdkKQEjvjRxv', 'changeGraph', 'eyJpZCI6IDI3MywgInR5cGUiOiAidmVydGV4IiwgInByb3BzIjogeyJzaXplIjogMTAuNTAyMDkyMDUwMjA5MjA1fX0K');</script>\n",
       "    "
      ],
      "text/plain": [
       "<IPython.core.display.HTML object>"
      ]
     },
     "metadata": {},
     "output_type": "display_data"
    },
    {
     "data": {
      "text/html": [
       "\n",
       "        <div id=\"3zRDtwXT4vPXTsFXKWtYYB\"></div>\n",
       "        <script>netpixi.call('3zRDtwXT4vPXTsFXKWtYYB', 'BG6GNWMZUSpdkKQEjvjRxv', 'changeGraph', 'eyJpZCI6IDc2LCAidHlwZSI6ICJ2ZXJ0ZXgiLCAicHJvcHMiOiB7ImNvbG9yIjogMTY3MTE2ODB9fQo=');</script>\n",
       "    "
      ],
      "text/plain": [
       "<IPython.core.display.HTML object>"
      ]
     },
     "metadata": {},
     "output_type": "display_data"
    },
    {
     "data": {
      "text/html": [
       "\n",
       "        <div id=\"5YqMcHVDCVG4dyQENZz2x6\"></div>\n",
       "        <script>netpixi.call('5YqMcHVDCVG4dyQENZz2x6', 'BG6GNWMZUSpdkKQEjvjRxv', 'changeGraph', 'eyJpZCI6IDI3NCwgInR5cGUiOiAidmVydGV4IiwgInByb3BzIjogeyJzaXplIjogMTkuMDc5NDk3OTA3OTQ5Nzl9fQo=');</script>\n",
       "    "
      ],
      "text/plain": [
       "<IPython.core.display.HTML object>"
      ]
     },
     "metadata": {},
     "output_type": "display_data"
    },
    {
     "data": {
      "text/html": [
       "\n",
       "        <div id=\"NHDiPDAcACCZwZp5xUotNF\"></div>\n",
       "        <script>netpixi.call('NHDiPDAcACCZwZp5xUotNF', 'BG6GNWMZUSpdkKQEjvjRxv', 'changeGraph', 'eyJpZCI6IDgzLCAidHlwZSI6ICJ2ZXJ0ZXgiLCAicHJvcHMiOiB7ImNvbG9yIjogMTY3MTE2ODB9fQo=');</script>\n",
       "    "
      ],
      "text/plain": [
       "<IPython.core.display.HTML object>"
      ]
     },
     "metadata": {},
     "output_type": "display_data"
    },
    {
     "data": {
      "text/html": [
       "\n",
       "        <div id=\"bPtVkoJbEi2tJJigYLAb7j\"></div>\n",
       "        <script>netpixi.call('bPtVkoJbEi2tJJigYLAb7j', 'BG6GNWMZUSpdkKQEjvjRxv', 'changeGraph', 'eyJpZCI6IDI3NSwgInR5cGUiOiAidmVydGV4IiwgInByb3BzIjogeyJzaXplIjogMTMuMzQ3MjgwMzM0NzI4MDMzfX0K');</script>\n",
       "    "
      ],
      "text/plain": [
       "<IPython.core.display.HTML object>"
      ]
     },
     "metadata": {},
     "output_type": "display_data"
    },
    {
     "data": {
      "text/html": [
       "\n",
       "        <div id=\"Mu8Vupfdz5F9vXQgNH9y75\"></div>\n",
       "        <script>netpixi.call('Mu8Vupfdz5F9vXQgNH9y75', 'BG6GNWMZUSpdkKQEjvjRxv', 'changeGraph', 'eyJpZCI6IDcyLCAidHlwZSI6ICJ2ZXJ0ZXgiLCAicHJvcHMiOiB7ImNvbG9yIjogMTY3MTE2ODB9fQo=');</script>\n",
       "    "
      ],
      "text/plain": [
       "<IPython.core.display.HTML object>"
      ]
     },
     "metadata": {},
     "output_type": "display_data"
    },
    {
     "data": {
      "text/html": [
       "\n",
       "        <div id=\"XgRDVSGyaE7t7QQthXS7Wa\"></div>\n",
       "        <script>netpixi.call('XgRDVSGyaE7t7QQthXS7Wa', 'BG6GNWMZUSpdkKQEjvjRxv', 'changeGraph', 'eyJpZCI6IDI3NiwgInR5cGUiOiAidmVydGV4IiwgInByb3BzIjogeyJzaXplIjogMTEuMzgwNzUzMTM4MDc1MzEzfX0K');</script>\n",
       "    "
      ],
      "text/plain": [
       "<IPython.core.display.HTML object>"
      ]
     },
     "metadata": {},
     "output_type": "display_data"
    },
    {
     "data": {
      "text/html": [
       "\n",
       "        <div id=\"GasVW2cdufRxnh7dqjYJ8J\"></div>\n",
       "        <script>netpixi.call('GasVW2cdufRxnh7dqjYJ8J', 'BG6GNWMZUSpdkKQEjvjRxv', 'changeGraph', 'eyJpZCI6IDc1LCAidHlwZSI6ICJ2ZXJ0ZXgiLCAicHJvcHMiOiB7ImNvbG9yIjogMTY3MTE2ODB9fQo=');</script>\n",
       "    "
      ],
      "text/plain": [
       "<IPython.core.display.HTML object>"
      ]
     },
     "metadata": {},
     "output_type": "display_data"
    },
    {
     "data": {
      "text/html": [
       "\n",
       "        <div id=\"aYrtWTvW3HBkFsjhKWCUSF\"></div>\n",
       "        <script>netpixi.call('aYrtWTvW3HBkFsjhKWCUSF', 'BG6GNWMZUSpdkKQEjvjRxv', 'changeGraph', 'eyJpZCI6IDI3NywgInR5cGUiOiAidmVydGV4IiwgInByb3BzIjogeyJzaXplIjogMTYuMDI1MTA0NjAyNTEwNDZ9fQo=');</script>\n",
       "    "
      ],
      "text/plain": [
       "<IPython.core.display.HTML object>"
      ]
     },
     "metadata": {},
     "output_type": "display_data"
    },
    {
     "data": {
      "text/html": [
       "\n",
       "        <div id=\"MjfdWcsPriHxtvhKJrxSub\"></div>\n",
       "        <script>netpixi.call('MjfdWcsPriHxtvhKJrxSub', 'BG6GNWMZUSpdkKQEjvjRxv', 'changeGraph', 'eyJpZCI6IDgwLCAidHlwZSI6ICJ2ZXJ0ZXgiLCAicHJvcHMiOiB7ImNvbG9yIjogMTY3MTE2ODB9fQo=');</script>\n",
       "    "
      ],
      "text/plain": [
       "<IPython.core.display.HTML object>"
      ]
     },
     "metadata": {},
     "output_type": "display_data"
    },
    {
     "data": {
      "text/html": [
       "\n",
       "        <div id=\"2cvnqa5xrTbPbJSxi2bCx5\"></div>\n",
       "        <script>netpixi.call('2cvnqa5xrTbPbJSxi2bCx5', 'BG6GNWMZUSpdkKQEjvjRxv', 'changeGraph', 'eyJpZCI6IDI3OCwgInR5cGUiOiAidmVydGV4IiwgInByb3BzIjogeyJzaXplIjogMTAuOTIwNTAyMDkyMDUwMjF9fQo=');</script>\n",
       "    "
      ],
      "text/plain": [
       "<IPython.core.display.HTML object>"
      ]
     },
     "metadata": {},
     "output_type": "display_data"
    },
    {
     "data": {
      "text/html": [
       "\n",
       "        <div id=\"RT2Uj9vKBwNYU3vwaDYJav\"></div>\n",
       "        <script>netpixi.call('RT2Uj9vKBwNYU3vwaDYJav', 'BG6GNWMZUSpdkKQEjvjRxv', 'changeGraph', 'eyJpZCI6IDYyLCAidHlwZSI6ICJ2ZXJ0ZXgiLCAicHJvcHMiOiB7ImNvbG9yIjogMTY3MTE2ODB9fQo=');</script>\n",
       "    "
      ],
      "text/plain": [
       "<IPython.core.display.HTML object>"
      ]
     },
     "metadata": {},
     "output_type": "display_data"
    },
    {
     "data": {
      "text/html": [
       "\n",
       "        <div id=\"5nB9tX2Vo4DGqEyMCdPxvy\"></div>\n",
       "        <script>netpixi.call('5nB9tX2Vo4DGqEyMCdPxvy', 'BG6GNWMZUSpdkKQEjvjRxv', 'changeGraph', 'eyJpZCI6IDI3OSwgInR5cGUiOiAidmVydGV4IiwgInByb3BzIjogeyJzaXplIjogMTcuODY2MTA4Nzg2NjEwODh9fQo=');</script>\n",
       "    "
      ],
      "text/plain": [
       "<IPython.core.display.HTML object>"
      ]
     },
     "metadata": {},
     "output_type": "display_data"
    },
    {
     "data": {
      "text/html": [
       "\n",
       "        <div id=\"77iCoKd7N643Jry5inGDYg\"></div>\n",
       "        <script>netpixi.call('77iCoKd7N643Jry5inGDYg', 'BG6GNWMZUSpdkKQEjvjRxv', 'changeGraph', 'eyJpZCI6IDczLCAidHlwZSI6ICJ2ZXJ0ZXgiLCAicHJvcHMiOiB7ImNvbG9yIjogMTY3MTE2ODB9fQo=');</script>\n",
       "    "
      ],
      "text/plain": [
       "<IPython.core.display.HTML object>"
      ]
     },
     "metadata": {},
     "output_type": "display_data"
    },
    {
     "data": {
      "text/html": [
       "\n",
       "        <div id=\"2TWK68DNMCZvJ6ZMb4GPDK\"></div>\n",
       "        <script>netpixi.call('2TWK68DNMCZvJ6ZMb4GPDK', 'BG6GNWMZUSpdkKQEjvjRxv', 'changeGraph', 'eyJpZCI6IDI4MCwgInR5cGUiOiAidmVydGV4IiwgInByb3BzIjogeyJzaXplIjogMTguMzY4MjAwODM2ODIwMDgzfX0K');</script>\n",
       "    "
      ],
      "text/plain": [
       "<IPython.core.display.HTML object>"
      ]
     },
     "metadata": {},
     "output_type": "display_data"
    },
    {
     "data": {
      "text/html": [
       "\n",
       "        <div id=\"KiUmf4sjyGCPeVushKxeg4\"></div>\n",
       "        <script>netpixi.call('KiUmf4sjyGCPeVushKxeg4', 'BG6GNWMZUSpdkKQEjvjRxv', 'changeGraph', 'eyJpZCI6IDc4LCAidHlwZSI6ICJ2ZXJ0ZXgiLCAicHJvcHMiOiB7ImNvbG9yIjogMTY3MTE2ODB9fQo=');</script>\n",
       "    "
      ],
      "text/plain": [
       "<IPython.core.display.HTML object>"
      ]
     },
     "metadata": {},
     "output_type": "display_data"
    },
    {
     "data": {
      "text/html": [
       "\n",
       "        <div id=\"kbJzZns6LM3AHx7pcSJxiX\"></div>\n",
       "        <script>netpixi.call('kbJzZns6LM3AHx7pcSJxiX', 'BG6GNWMZUSpdkKQEjvjRxv', 'changeGraph', 'eyJpZCI6IDI4MSwgInR5cGUiOiAidmVydGV4IiwgInByb3BzIjogeyJzaXplIjogMTAuNzk0OTc5MDc5NDk3OTA4fX0K');</script>\n",
       "    "
      ],
      "text/plain": [
       "<IPython.core.display.HTML object>"
      ]
     },
     "metadata": {},
     "output_type": "display_data"
    },
    {
     "data": {
      "text/html": [
       "\n",
       "        <div id=\"3g4AoYbCbBNesgqj5gzPuh\"></div>\n",
       "        <script>netpixi.call('3g4AoYbCbBNesgqj5gzPuh', 'BG6GNWMZUSpdkKQEjvjRxv', 'changeGraph', 'eyJpZCI6IDY3LCAidHlwZSI6ICJ2ZXJ0ZXgiLCAicHJvcHMiOiB7ImNvbG9yIjogMTY3MTE2ODB9fQo=');</script>\n",
       "    "
      ],
      "text/plain": [
       "<IPython.core.display.HTML object>"
      ]
     },
     "metadata": {},
     "output_type": "display_data"
    },
    {
     "data": {
      "text/html": [
       "\n",
       "        <div id=\"aYQSXJmCGCmCWcHf6GiPL3\"></div>\n",
       "        <script>netpixi.call('aYQSXJmCGCmCWcHf6GiPL3', 'BG6GNWMZUSpdkKQEjvjRxv', 'changeGraph', 'eyJpZCI6IDI4MiwgInR5cGUiOiAidmVydGV4IiwgInByb3BzIjogeyJzaXplIjogMTkuMTYzMTc5OTE2MzE3OTl9fQo=');</script>\n",
       "    "
      ],
      "text/plain": [
       "<IPython.core.display.HTML object>"
      ]
     },
     "metadata": {},
     "output_type": "display_data"
    },
    {
     "data": {
      "text/html": [
       "\n",
       "        <div id=\"ci8GuVK57LKRaZsftBJWxv\"></div>\n",
       "        <script>netpixi.call('ci8GuVK57LKRaZsftBJWxv', 'BG6GNWMZUSpdkKQEjvjRxv', 'changeGraph', 'eyJpZCI6IDkzLCAidHlwZSI6ICJ2ZXJ0ZXgiLCAicHJvcHMiOiB7ImNvbG9yIjogMTY3MTE2ODB9fQo=');</script>\n",
       "    "
      ],
      "text/plain": [
       "<IPython.core.display.HTML object>"
      ]
     },
     "metadata": {},
     "output_type": "display_data"
    },
    {
     "data": {
      "text/html": [
       "\n",
       "        <div id=\"MfK6bNyGEJ8mRNuT6UNrc4\"></div>\n",
       "        <script>netpixi.call('MfK6bNyGEJ8mRNuT6UNrc4', 'BG6GNWMZUSpdkKQEjvjRxv', 'changeGraph', 'eyJpZCI6IDI4MywgInR5cGUiOiAidmVydGV4IiwgInByb3BzIjogeyJzaXplIjogMTMuMjIxNzU3MzIyMTc1NzMyfX0K');</script>\n",
       "    "
      ],
      "text/plain": [
       "<IPython.core.display.HTML object>"
      ]
     },
     "metadata": {},
     "output_type": "display_data"
    },
    {
     "data": {
      "text/html": [
       "\n",
       "        <div id=\"8PCVyu8h87aTsEkzZfUQrG\"></div>\n",
       "        <script>netpixi.call('8PCVyu8h87aTsEkzZfUQrG', 'BG6GNWMZUSpdkKQEjvjRxv', 'changeGraph', 'eyJpZCI6IDY3LCAidHlwZSI6ICJ2ZXJ0ZXgiLCAicHJvcHMiOiB7ImNvbG9yIjogMTY3MTE2ODB9fQo=');</script>\n",
       "    "
      ],
      "text/plain": [
       "<IPython.core.display.HTML object>"
      ]
     },
     "metadata": {},
     "output_type": "display_data"
    },
    {
     "data": {
      "text/html": [
       "\n",
       "        <div id=\"fnXgKcDXpySsJkGm9FKCDp\"></div>\n",
       "        <script>netpixi.call('fnXgKcDXpySsJkGm9FKCDp', 'BG6GNWMZUSpdkKQEjvjRxv', 'changeGraph', 'eyJpZCI6IDI4NCwgInR5cGUiOiAidmVydGV4IiwgInByb3BzIjogeyJzaXplIjogMTQuNjg2MTkyNDY4NjE5MjQ3fX0K');</script>\n",
       "    "
      ],
      "text/plain": [
       "<IPython.core.display.HTML object>"
      ]
     },
     "metadata": {},
     "output_type": "display_data"
    },
    {
     "data": {
      "text/html": [
       "\n",
       "        <div id=\"49RoRgr8SNJtDV8nekHFHv\"></div>\n",
       "        <script>netpixi.call('49RoRgr8SNJtDV8nekHFHv', 'BG6GNWMZUSpdkKQEjvjRxv', 'changeGraph', 'eyJpZCI6IDgwLCAidHlwZSI6ICJ2ZXJ0ZXgiLCAicHJvcHMiOiB7ImNvbG9yIjogMTY3MTE2ODB9fQo=');</script>\n",
       "    "
      ],
      "text/plain": [
       "<IPython.core.display.HTML object>"
      ]
     },
     "metadata": {},
     "output_type": "display_data"
    },
    {
     "data": {
      "text/html": [
       "\n",
       "        <div id=\"L4xaZ56upYZZHyK3fBa5BP\"></div>\n",
       "        <script>netpixi.call('L4xaZ56upYZZHyK3fBa5BP', 'BG6GNWMZUSpdkKQEjvjRxv', 'changeGraph', 'eyJpZCI6IDI4NSwgInR5cGUiOiAidmVydGV4IiwgInByb3BzIjogeyJzaXplIjogMTEuNjMxNzk5MTYzMTc5OTE3fX0K');</script>\n",
       "    "
      ],
      "text/plain": [
       "<IPython.core.display.HTML object>"
      ]
     },
     "metadata": {},
     "output_type": "display_data"
    },
    {
     "data": {
      "text/html": [
       "\n",
       "        <div id=\"EADCex9cuGNPTjbgwrqYi6\"></div>\n",
       "        <script>netpixi.call('EADCex9cuGNPTjbgwrqYi6', 'BG6GNWMZUSpdkKQEjvjRxv', 'changeGraph', 'eyJpZCI6IDg0LCAidHlwZSI6ICJ2ZXJ0ZXgiLCAicHJvcHMiOiB7ImNvbG9yIjogMTY3MTE2ODB9fQo=');</script>\n",
       "    "
      ],
      "text/plain": [
       "<IPython.core.display.HTML object>"
      ]
     },
     "metadata": {},
     "output_type": "display_data"
    },
    {
     "data": {
      "text/html": [
       "\n",
       "        <div id=\"fAELfkHh9AtZF4qaR9tphN\"></div>\n",
       "        <script>netpixi.call('fAELfkHh9AtZF4qaR9tphN', 'BG6GNWMZUSpdkKQEjvjRxv', 'changeGraph', 'eyJpZCI6IDI4NiwgInR5cGUiOiAidmVydGV4IiwgInByb3BzIjogeyJzaXplIjogMTYuMjM0MzA5NjIzNDMwOTZ9fQo=');</script>\n",
       "    "
      ],
      "text/plain": [
       "<IPython.core.display.HTML object>"
      ]
     },
     "metadata": {},
     "output_type": "display_data"
    },
    {
     "data": {
      "text/html": [
       "\n",
       "        <div id=\"dKdiwqa345DHKuD6Gm4M9R\"></div>\n",
       "        <script>netpixi.call('dKdiwqa345DHKuD6Gm4M9R', 'BG6GNWMZUSpdkKQEjvjRxv', 'changeGraph', 'eyJpZCI6IDkwLCAidHlwZSI6ICJ2ZXJ0ZXgiLCAicHJvcHMiOiB7ImNvbG9yIjogMTY3MTE2ODB9fQo=');</script>\n",
       "    "
      ],
      "text/plain": [
       "<IPython.core.display.HTML object>"
      ]
     },
     "metadata": {},
     "output_type": "display_data"
    },
    {
     "data": {
      "text/html": [
       "\n",
       "        <div id=\"SA8CVxTXmQCV5TsMQjkAjZ\"></div>\n",
       "        <script>netpixi.call('SA8CVxTXmQCV5TsMQjkAjZ', 'BG6GNWMZUSpdkKQEjvjRxv', 'changeGraph', 'eyJpZCI6IDI4NywgInR5cGUiOiAidmVydGV4IiwgInByb3BzIjogeyJzaXplIjogMTEuNTg5OTU4MTU4OTk1ODE3fX0K');</script>\n",
       "    "
      ],
      "text/plain": [
       "<IPython.core.display.HTML object>"
      ]
     },
     "metadata": {},
     "output_type": "display_data"
    },
    {
     "data": {
      "text/html": [
       "\n",
       "        <div id=\"6BYmP8nETYXGbT2s7uWex4\"></div>\n",
       "        <script>netpixi.call('6BYmP8nETYXGbT2s7uWex4', 'BG6GNWMZUSpdkKQEjvjRxv', 'changeGraph', 'eyJpZCI6IDY2LCAidHlwZSI6ICJ2ZXJ0ZXgiLCAicHJvcHMiOiB7ImNvbG9yIjogMTY3MTE2ODB9fQo=');</script>\n",
       "    "
      ],
      "text/plain": [
       "<IPython.core.display.HTML object>"
      ]
     },
     "metadata": {},
     "output_type": "display_data"
    },
    {
     "data": {
      "text/html": [
       "\n",
       "        <div id=\"SNsj9Wa8b85Mg2rhzi4H6i\"></div>\n",
       "        <script>netpixi.call('SNsj9Wa8b85Mg2rhzi4H6i', 'BG6GNWMZUSpdkKQEjvjRxv', 'changeGraph', 'eyJpZCI6IDI4OCwgInR5cGUiOiAidmVydGV4IiwgInByb3BzIjogeyJzaXplIjogMTAuNjI3NjE1MDYyNzYxNTA3fX0K');</script>\n",
       "    "
      ],
      "text/plain": [
       "<IPython.core.display.HTML object>"
      ]
     },
     "metadata": {},
     "output_type": "display_data"
    },
    {
     "data": {
      "text/html": [
       "\n",
       "        <div id=\"GvcqvLrJh7K4a2gxZvyCLo\"></div>\n",
       "        <script>netpixi.call('GvcqvLrJh7K4a2gxZvyCLo', 'BG6GNWMZUSpdkKQEjvjRxv', 'changeGraph', 'eyJpZCI6IDgwLCAidHlwZSI6ICJ2ZXJ0ZXgiLCAicHJvcHMiOiB7ImNvbG9yIjogMTY3MTE2ODB9fQo=');</script>\n",
       "    "
      ],
      "text/plain": [
       "<IPython.core.display.HTML object>"
      ]
     },
     "metadata": {},
     "output_type": "display_data"
    },
    {
     "data": {
      "text/html": [
       "\n",
       "        <div id=\"j8qy3qqini8ick2phe39qq\"></div>\n",
       "        <script>netpixi.call('j8qy3qqini8ick2phe39qq', 'BG6GNWMZUSpdkKQEjvjRxv', 'changeGraph', 'eyJpZCI6IDI4OSwgInR5cGUiOiAidmVydGV4IiwgInByb3BzIjogeyJzaXplIjogNDIuMH19Cg==');</script>\n",
       "    "
      ],
      "text/plain": [
       "<IPython.core.display.HTML object>"
      ]
     },
     "metadata": {},
     "output_type": "display_data"
    },
    {
     "data": {
      "text/html": [
       "\n",
       "        <div id=\"BM4YXuKb8KZ7jde5V2gtZK\"></div>\n",
       "        <script>netpixi.call('BM4YXuKb8KZ7jde5V2gtZK', 'BG6GNWMZUSpdkKQEjvjRxv', 'changeGraph', 'eyJpZCI6IDgzLCAidHlwZSI6ICJ2ZXJ0ZXgiLCAicHJvcHMiOiB7ImNvbG9yIjogMTY3MTE2ODB9fQo=');</script>\n",
       "    "
      ],
      "text/plain": [
       "<IPython.core.display.HTML object>"
      ]
     },
     "metadata": {},
     "output_type": "display_data"
    },
    {
     "data": {
      "text/html": [
       "\n",
       "        <div id=\"muN2SjQPYJLw8hBNVrNRY8\"></div>\n",
       "        <script>netpixi.call('muN2SjQPYJLw8hBNVrNRY8', 'BG6GNWMZUSpdkKQEjvjRxv', 'changeGraph', 'eyJpZCI6IDI5MCwgInR5cGUiOiAidmVydGV4IiwgInByb3BzIjogeyJzaXplIjogMTMuNTE0NjQ0MzUxNDY0NDM1fX0K');</script>\n",
       "    "
      ],
      "text/plain": [
       "<IPython.core.display.HTML object>"
      ]
     },
     "metadata": {},
     "output_type": "display_data"
    },
    {
     "data": {
      "text/html": [
       "\n",
       "        <div id=\"gYKUuK5nweJXETfAkK83gm\"></div>\n",
       "        <script>netpixi.call('gYKUuK5nweJXETfAkK83gm', 'BG6GNWMZUSpdkKQEjvjRxv', 'changeGraph', 'eyJpZCI6IDcxLCAidHlwZSI6ICJ2ZXJ0ZXgiLCAicHJvcHMiOiB7ImNvbG9yIjogMTY3MTE2ODB9fQo=');</script>\n",
       "    "
      ],
      "text/plain": [
       "<IPython.core.display.HTML object>"
      ]
     },
     "metadata": {},
     "output_type": "display_data"
    },
    {
     "data": {
      "text/html": [
       "\n",
       "        <div id=\"e8fgHJN9FpgAKq2vnYmSXX\"></div>\n",
       "        <script>netpixi.call('e8fgHJN9FpgAKq2vnYmSXX', 'BG6GNWMZUSpdkKQEjvjRxv', 'changeGraph', 'eyJpZCI6IDI5MSwgInR5cGUiOiAidmVydGV4IiwgInByb3BzIjogeyJzaXplIjogMTkuNzA3MTEyOTcwNzExMjk3fX0K');</script>\n",
       "    "
      ],
      "text/plain": [
       "<IPython.core.display.HTML object>"
      ]
     },
     "metadata": {},
     "output_type": "display_data"
    },
    {
     "data": {
      "text/html": [
       "\n",
       "        <div id=\"354CWQT4TvCpUJKVbUXNi8\"></div>\n",
       "        <script>netpixi.call('354CWQT4TvCpUJKVbUXNi8', 'BG6GNWMZUSpdkKQEjvjRxv', 'changeGraph', 'eyJpZCI6IDc5LCAidHlwZSI6ICJ2ZXJ0ZXgiLCAicHJvcHMiOiB7ImNvbG9yIjogMTY3MTE2ODB9fQo=');</script>\n",
       "    "
      ],
      "text/plain": [
       "<IPython.core.display.HTML object>"
      ]
     },
     "metadata": {},
     "output_type": "display_data"
    },
    {
     "data": {
      "text/html": [
       "\n",
       "        <div id=\"jnHckoPKcxweTYZSHAKmdi\"></div>\n",
       "        <script>netpixi.call('jnHckoPKcxweTYZSHAKmdi', 'BG6GNWMZUSpdkKQEjvjRxv', 'changeGraph', 'eyJpZCI6IDI5MiwgInR5cGUiOiAidmVydGV4IiwgInByb3BzIjogeyJzaXplIjogMTQuOTc5MDc5NDk3OTA3OTV9fQo=');</script>\n",
       "    "
      ],
      "text/plain": [
       "<IPython.core.display.HTML object>"
      ]
     },
     "metadata": {},
     "output_type": "display_data"
    },
    {
     "data": {
      "text/html": [
       "\n",
       "        <div id=\"eFDThoGkF8p2EKWcuwiDKV\"></div>\n",
       "        <script>netpixi.call('eFDThoGkF8p2EKWcuwiDKV', 'BG6GNWMZUSpdkKQEjvjRxv', 'changeGraph', 'eyJpZCI6IDk3LCAidHlwZSI6ICJ2ZXJ0ZXgiLCAicHJvcHMiOiB7ImNvbG9yIjogMTY3MTE2ODB9fQo=');</script>\n",
       "    "
      ],
      "text/plain": [
       "<IPython.core.display.HTML object>"
      ]
     },
     "metadata": {},
     "output_type": "display_data"
    },
    {
     "data": {
      "text/html": [
       "\n",
       "        <div id=\"F8njXo63x5B95zbeouuQVd\"></div>\n",
       "        <script>netpixi.call('F8njXo63x5B95zbeouuQVd', 'BG6GNWMZUSpdkKQEjvjRxv', 'changeGraph', 'eyJpZCI6IDI5MywgInR5cGUiOiAidmVydGV4IiwgInByb3BzIjogeyJzaXplIjogMTguNzg2NjEwODc4NjYxMDg3fX0K');</script>\n",
       "    "
      ],
      "text/plain": [
       "<IPython.core.display.HTML object>"
      ]
     },
     "metadata": {},
     "output_type": "display_data"
    },
    {
     "data": {
      "text/html": [
       "\n",
       "        <div id=\"KfgeZWLEYR5v5CU5CEt7Un\"></div>\n",
       "        <script>netpixi.call('KfgeZWLEYR5v5CU5CEt7Un', 'BG6GNWMZUSpdkKQEjvjRxv', 'changeGraph', 'eyJpZCI6IDg4LCAidHlwZSI6ICJ2ZXJ0ZXgiLCAicHJvcHMiOiB7ImNvbG9yIjogMTY3MTE2ODB9fQo=');</script>\n",
       "    "
      ],
      "text/plain": [
       "<IPython.core.display.HTML object>"
      ]
     },
     "metadata": {},
     "output_type": "display_data"
    },
    {
     "data": {
      "text/html": [
       "\n",
       "        <div id=\"a9V6HDom3dHiymRpqmtoY3\"></div>\n",
       "        <script>netpixi.call('a9V6HDom3dHiymRpqmtoY3', 'BG6GNWMZUSpdkKQEjvjRxv', 'changeGraph', 'eyJpZCI6IDI5NCwgInR5cGUiOiAidmVydGV4IiwgInByb3BzIjogeyJzaXplIjogMTIuNzYxNTA2Mjc2MTUwNjI3fX0K');</script>\n",
       "    "
      ],
      "text/plain": [
       "<IPython.core.display.HTML object>"
      ]
     },
     "metadata": {},
     "output_type": "display_data"
    },
    {
     "data": {
      "text/html": [
       "\n",
       "        <div id=\"2ew4ThYdgTbSf4xZuMcA5p\"></div>\n",
       "        <script>netpixi.call('2ew4ThYdgTbSf4xZuMcA5p', 'BG6GNWMZUSpdkKQEjvjRxv', 'changeGraph', 'eyJpZCI6IDc2LCAidHlwZSI6ICJ2ZXJ0ZXgiLCAicHJvcHMiOiB7ImNvbG9yIjogMTY3MTE2ODB9fQo=');</script>\n",
       "    "
      ],
      "text/plain": [
       "<IPython.core.display.HTML object>"
      ]
     },
     "metadata": {},
     "output_type": "display_data"
    },
    {
     "data": {
      "text/html": [
       "\n",
       "        <div id=\"CkbT2BUb6LkZ38qPKmLkSQ\"></div>\n",
       "        <script>netpixi.call('CkbT2BUb6LkZ38qPKmLkSQ', 'BG6GNWMZUSpdkKQEjvjRxv', 'changeGraph', 'eyJpZCI6IDI5NSwgInR5cGUiOiAidmVydGV4IiwgInByb3BzIjogeyJzaXplIjogMTMuODkxMjEzMzg5MTIxMzM4fX0K');</script>\n",
       "    "
      ],
      "text/plain": [
       "<IPython.core.display.HTML object>"
      ]
     },
     "metadata": {},
     "output_type": "display_data"
    },
    {
     "data": {
      "text/html": [
       "\n",
       "        <div id=\"eqd5wA9cGo2HGGq2KwrvPE\"></div>\n",
       "        <script>netpixi.call('eqd5wA9cGo2HGGq2KwrvPE', 'BG6GNWMZUSpdkKQEjvjRxv', 'changeGraph', 'eyJpZCI6IDc4LCAidHlwZSI6ICJ2ZXJ0ZXgiLCAicHJvcHMiOiB7ImNvbG9yIjogMTY3MTE2ODB9fQo=');</script>\n",
       "    "
      ],
      "text/plain": [
       "<IPython.core.display.HTML object>"
      ]
     },
     "metadata": {},
     "output_type": "display_data"
    },
    {
     "data": {
      "text/html": [
       "\n",
       "        <div id=\"4oVpLKi6AZi65RfdDzHzdT\"></div>\n",
       "        <script>netpixi.call('4oVpLKi6AZi65RfdDzHzdT', 'BG6GNWMZUSpdkKQEjvjRxv', 'changeGraph', 'eyJpZCI6IDI5NiwgInR5cGUiOiAidmVydGV4IiwgInByb3BzIjogeyJzaXplIjogMTcuOTkxNjMxNzk5MTYzMTh9fQo=');</script>\n",
       "    "
      ],
      "text/plain": [
       "<IPython.core.display.HTML object>"
      ]
     },
     "metadata": {},
     "output_type": "display_data"
    },
    {
     "data": {
      "text/html": [
       "\n",
       "        <div id=\"SJt5bDm7BRhs2YNA5CowqE\"></div>\n",
       "        <script>netpixi.call('SJt5bDm7BRhs2YNA5CowqE', 'BG6GNWMZUSpdkKQEjvjRxv', 'changeGraph', 'eyJpZCI6IDgyLCAidHlwZSI6ICJ2ZXJ0ZXgiLCAicHJvcHMiOiB7ImNvbG9yIjogMTY3MTE2ODB9fQo=');</script>\n",
       "    "
      ],
      "text/plain": [
       "<IPython.core.display.HTML object>"
      ]
     },
     "metadata": {},
     "output_type": "display_data"
    },
    {
     "data": {
      "text/html": [
       "\n",
       "        <div id=\"BdZYCKJjHP4jKuiBxJBJmQ\"></div>\n",
       "        <script>netpixi.call('BdZYCKJjHP4jKuiBxJBJmQ', 'BG6GNWMZUSpdkKQEjvjRxv', 'changeGraph', 'eyJpZCI6IDI5NywgInR5cGUiOiAidmVydGV4IiwgInByb3BzIjogeyJzaXplIjogMTQuNTYwNjY5NDU2MDY2OTQ1fX0K');</script>\n",
       "    "
      ],
      "text/plain": [
       "<IPython.core.display.HTML object>"
      ]
     },
     "metadata": {},
     "output_type": "display_data"
    },
    {
     "data": {
      "text/html": [
       "\n",
       "        <div id=\"kquZsvxXgYx5NwPrtCZCUg\"></div>\n",
       "        <script>netpixi.call('kquZsvxXgYx5NwPrtCZCUg', 'BG6GNWMZUSpdkKQEjvjRxv', 'changeGraph', 'eyJpZCI6IDkzLCAidHlwZSI6ICJ2ZXJ0ZXgiLCAicHJvcHMiOiB7ImNvbG9yIjogMTY3MTE2ODB9fQo=');</script>\n",
       "    "
      ],
      "text/plain": [
       "<IPython.core.display.HTML object>"
      ]
     },
     "metadata": {},
     "output_type": "display_data"
    },
    {
     "data": {
      "text/html": [
       "\n",
       "        <div id=\"BnVupGK7P437VakaVy5fYn\"></div>\n",
       "        <script>netpixi.call('BnVupGK7P437VakaVy5fYn', 'BG6GNWMZUSpdkKQEjvjRxv', 'changeGraph', 'eyJpZCI6IDI5OCwgInR5cGUiOiAidmVydGV4IiwgInByb3BzIjogeyJzaXplIjogMTQuNzI4MDMzNDcyODAzMzQ3fX0K');</script>\n",
       "    "
      ],
      "text/plain": [
       "<IPython.core.display.HTML object>"
      ]
     },
     "metadata": {},
     "output_type": "display_data"
    },
    {
     "data": {
      "text/html": [
       "\n",
       "        <div id=\"i9EqwmwBt48xjnbAMKEAsj\"></div>\n",
       "        <script>netpixi.call('i9EqwmwBt48xjnbAMKEAsj', 'BG6GNWMZUSpdkKQEjvjRxv', 'changeGraph', 'eyJpZCI6IDgxLCAidHlwZSI6ICJ2ZXJ0ZXgiLCAicHJvcHMiOiB7ImNvbG9yIjogMTY3MTE2ODB9fQo=');</script>\n",
       "    "
      ],
      "text/plain": [
       "<IPython.core.display.HTML object>"
      ]
     },
     "metadata": {},
     "output_type": "display_data"
    }
   ],
   "source": [
    "lista_int_coreness = []\n",
    "lista_float_coreness = []\n",
    "\n",
    "# Adiciona propriedades ao nó\n",
    "g.add_vp('core')\n",
    "g.add_vp('coreness')\n",
    "\n",
    "# ---- Funções ----\n",
    "\n",
    "def surprise():\n",
    "    matrix = spectral.adjacency(g)\n",
    "    algorithm = cpnet.Surprise()\n",
    "    algorithm.detect(matrix)\n",
    "    return algorithm.get_coreness()\n",
    "\n",
    "def rombach():\n",
    "    matrix = spectral.adjacency(g)\n",
    "    algorithm = cpnet.Rombach()\n",
    "    algorithm.detect(matrix)\n",
    "    return algorithm.get_coreness()\n",
    "\n",
    "# ---- Roda Algorítimo ----\n",
    "c_core = surprise()\n",
    "c_coreness = rombach()\n",
    "\n",
    "\n",
    "for i, coreness in c_core.items():\n",
    "    v = g.get_vertex_by_index(i)\n",
    "    v['core'] = int(coreness)\n",
    "    lista_int_coreness.append(int(coreness))\n",
    "df_nodes['core'] = lista_int_coreness\n",
    "\n",
    "for i, coreness in c_coreness.items():\n",
    "    v = g.get_vertex_by_index(i)\n",
    "    v['coreness'] = float(coreness)\n",
    "    lista_float_coreness.append(float(coreness))\n",
    "df_nodes['coreness'] = lista_float_coreness\n",
    "\n",
    "\n",
    "# ---- Modifica cor ----\n",
    "for v in g.all_vertices():\n",
    "    if v['core'] == 1:\n",
    "        r.vertex(v['id'], color=0xff0000)\n",
    "    else:\n",
    "        r.vertex(v['id'], color=0x00ff00)\n",
    "        \n",
    "# ---- Modifica tamanho ----\n",
    "\n",
    "for v in g.all_vertices():\n",
    "    r.vertex(v['id'], size=(10 + 40 * v['coreness']))\n",
    "    r.vertex(v['MetacriticScore'], color=0xff0000)    "
   ]
  },
  {
   "cell_type": "markdown",
   "metadata": {},
   "source": [
    "### Regressão Linear\n",
    "\n",
    "-------"
   ]
  },
  {
   "cell_type": "code",
   "execution_count": 30,
   "metadata": {},
   "outputs": [
    {
     "data": {
      "text/html": [
       "<div>\n",
       "<style scoped>\n",
       "    .dataframe tbody tr th:only-of-type {\n",
       "        vertical-align: middle;\n",
       "    }\n",
       "\n",
       "    .dataframe tbody tr th {\n",
       "        vertical-align: top;\n",
       "    }\n",
       "\n",
       "    .dataframe thead th {\n",
       "        text-align: right;\n",
       "    }\n",
       "</style>\n",
       "<table border=\"1\" class=\"dataframe\">\n",
       "  <thead>\n",
       "    <tr style=\"text-align: right;\">\n",
       "      <th></th>\n",
       "      <th>id</th>\n",
       "      <th>Tags</th>\n",
       "      <th>MetacriticScore</th>\n",
       "      <th>Publishers</th>\n",
       "      <th>TotalRevenue</th>\n",
       "      <th>ReleaseYear</th>\n",
       "      <th>Country</th>\n",
       "      <th>core</th>\n",
       "      <th>coreness</th>\n",
       "    </tr>\n",
       "  </thead>\n",
       "  <tbody>\n",
       "    <tr>\n",
       "      <th>0</th>\n",
       "      <td>0</td>\n",
       "      <td>[Rhythm, VR, Multiplayer, Music, Racing, PvP, ...</td>\n",
       "      <td>87</td>\n",
       "      <td>WanadevStudio</td>\n",
       "      <td>1200000.0</td>\n",
       "      <td>2021</td>\n",
       "      <td>France</td>\n",
       "      <td>0</td>\n",
       "      <td>0.096234</td>\n",
       "    </tr>\n",
       "    <tr>\n",
       "      <th>1</th>\n",
       "      <td>1</td>\n",
       "      <td>[Management, Simulation, Anime, Sexual Content...</td>\n",
       "      <td>73</td>\n",
       "      <td>PLAYISM</td>\n",
       "      <td>58600000.0</td>\n",
       "      <td>2021</td>\n",
       "      <td>Japan</td>\n",
       "      <td>0</td>\n",
       "      <td>0.031381</td>\n",
       "    </tr>\n",
       "  </tbody>\n",
       "</table>\n",
       "</div>"
      ],
      "text/plain": [
       "   id                                               Tags  MetacriticScore  \\\n",
       "0   0  [Rhythm, VR, Multiplayer, Music, Racing, PvP, ...               87   \n",
       "1   1  [Management, Simulation, Anime, Sexual Content...               73   \n",
       "\n",
       "      Publishers  TotalRevenue  ReleaseYear Country  core  coreness  \n",
       "0  WanadevStudio     1200000.0         2021  France     0  0.096234  \n",
       "1        PLAYISM    58600000.0         2021   Japan     0  0.031381  "
      ]
     },
     "execution_count": 30,
     "metadata": {},
     "output_type": "execute_result"
    }
   ],
   "source": [
    "# Nodes\n",
    "df_nodes.head(2)"
   ]
  },
  {
   "cell_type": "code",
   "execution_count": 31,
   "metadata": {},
   "outputs": [
    {
     "data": {
      "image/png": "[encoded data removed]",
      "text/plain": [
       "<Figure size 640x480 with 1 Axes>"
      ]
     },
     "metadata": {},
     "output_type": "display_data"
    }
   ],
   "source": [
    "sns.scatterplot(x=df_nodes['coreness'], y=df_nodes['MetacriticScore']);"
   ]
  },
  {
   "cell_type": "code",
   "execution_count": 32,
   "metadata": {},
   "outputs": [
    {
     "data": {
      "image/png": "[encoded data removed]",
      "text/plain": [
       "<Figure size 640x480 with 1 Axes>"
      ]
     },
     "metadata": {},
     "output_type": "display_data"
    }
   ],
   "source": [
    "sns.regplot(x=df_nodes['coreness'], y=df_nodes['MetacriticScore']);"
   ]
  },
  {
   "cell_type": "code",
   "execution_count": 33,
   "metadata": {},
   "outputs": [],
   "source": [
    "result = reg.linear(data=df_nodes, formula=\"MetacriticScore ~ coreness + ReleaseYear + TotalRevenue\")"
   ]
  },
  {
   "cell_type": "code",
   "execution_count": 34,
   "metadata": {},
   "outputs": [
    {
     "data": {
      "text/html": [
       "<table class=\"simpletable\">\n",
       "<caption>OLS Regression Results</caption>\n",
       "<tr>\n",
       "  <th>Dep. Variable:</th>     <td>MetacriticScore</td> <th>  R-squared:         </th> <td>   0.067</td>\n",
       "</tr>\n",
       "<tr>\n",
       "  <th>Model:</th>                   <td>OLS</td>       <th>  Adj. R-squared:    </th> <td>   0.057</td>\n",
       "</tr>\n",
       "<tr>\n",
       "  <th>Method:</th>             <td>Least Squares</td>  <th>  F-statistic:       </th> <td>   7.023</td>\n",
       "</tr>\n",
       "<tr>\n",
       "  <th>Date:</th>             <td>Tue, 30 May 2023</td> <th>  Prob (F-statistic):</th> <td>0.000141</td>\n",
       "</tr>\n",
       "<tr>\n",
       "  <th>Time:</th>                 <td>16:15:42</td>     <th>  Log-Likelihood:    </th> <td> -1017.7</td>\n",
       "</tr>\n",
       "<tr>\n",
       "  <th>No. Observations:</th>      <td>   299</td>      <th>  AIC:               </th> <td>   2043.</td>\n",
       "</tr>\n",
       "<tr>\n",
       "  <th>Df Residuals:</th>          <td>   295</td>      <th>  BIC:               </th> <td>   2058.</td>\n",
       "</tr>\n",
       "<tr>\n",
       "  <th>Df Model:</th>              <td>     3</td>      <th>                     </th>     <td> </td>   \n",
       "</tr>\n",
       "<tr>\n",
       "  <th>Covariance Type:</th>      <td>nonrobust</td>    <th>                     </th>     <td> </td>   \n",
       "</tr>\n",
       "</table>\n",
       "<table class=\"simpletable\">\n",
       "<tr>\n",
       "        <td></td>          <th>coef</th>     <th>std err</th>      <th>t</th>      <th>P>|t|</th>  <th>[0.025</th>    <th>0.975]</th>  \n",
       "</tr>\n",
       "<tr>\n",
       "  <th>Intercept</th>    <td>-2717.5517</td> <td> 1989.086</td> <td>   -1.366</td> <td> 0.173</td> <td>-6632.150</td> <td> 1197.046</td>\n",
       "</tr>\n",
       "<tr>\n",
       "  <th>coreness</th>     <td>   -0.5285</td> <td>    1.395</td> <td>   -0.379</td> <td> 0.705</td> <td>   -3.274</td> <td>    2.217</td>\n",
       "</tr>\n",
       "<tr>\n",
       "  <th>ReleaseYear</th>  <td>    1.3823</td> <td>    0.984</td> <td>    1.405</td> <td> 0.161</td> <td>   -0.554</td> <td>    3.319</td>\n",
       "</tr>\n",
       "<tr>\n",
       "  <th>TotalRevenue</th> <td> 3.837e-09</td> <td> 9.19e-10</td> <td>    4.174</td> <td> 0.000</td> <td> 2.03e-09</td> <td> 5.65e-09</td>\n",
       "</tr>\n",
       "</table>\n",
       "<table class=\"simpletable\">\n",
       "<tr>\n",
       "  <th>Omnibus:</th>       <td>35.606</td> <th>  Durbin-Watson:     </th> <td>   1.955</td>\n",
       "</tr>\n",
       "<tr>\n",
       "  <th>Prob(Omnibus):</th> <td> 0.000</td> <th>  Jarque-Bera (JB):  </th> <td>  50.361</td>\n",
       "</tr>\n",
       "<tr>\n",
       "  <th>Skew:</th>          <td>-0.780</td> <th>  Prob(JB):          </th> <td>1.16e-11</td>\n",
       "</tr>\n",
       "<tr>\n",
       "  <th>Kurtosis:</th>      <td> 4.269</td> <th>  Cond. No.          </th> <td>2.34e+12</td>\n",
       "</tr>\n",
       "</table><br/><br/>Notes:<br/>[1] Standard Errors assume that the covariance matrix of the errors is correctly specified.<br/>[2] The condition number is large, 2.34e+12. This might indicate that there are<br/>strong multicollinearity or other numerical problems."
      ],
      "text/plain": [
       "<class 'statsmodels.iolib.summary.Summary'>\n",
       "\"\"\"\n",
       "                            OLS Regression Results                            \n",
       "==============================================================================\n",
       "Dep. Variable:        MetacriticScore   R-squared:                       0.067\n",
       "Model:                            OLS   Adj. R-squared:                  0.057\n",
       "Method:                 Least Squares   F-statistic:                     7.023\n",
       "Date:                Tue, 30 May 2023   Prob (F-statistic):           0.000141\n",
       "Time:                        16:15:42   Log-Likelihood:                -1017.7\n",
       "No. Observations:                 299   AIC:                             2043.\n",
       "Df Residuals:                     295   BIC:                             2058.\n",
       "Df Model:                           3                                         \n",
       "Covariance Type:            nonrobust                                         \n",
       "================================================================================\n",
       "                   coef    std err          t      P>|t|      [0.025      0.975]\n",
       "--------------------------------------------------------------------------------\n",
       "Intercept    -2717.5517   1989.086     -1.366      0.173   -6632.150    1197.046\n",
       "coreness        -0.5285      1.395     -0.379      0.705      -3.274       2.217\n",
       "ReleaseYear      1.3823      0.984      1.405      0.161      -0.554       3.319\n",
       "TotalRevenue  3.837e-09   9.19e-10      4.174      0.000    2.03e-09    5.65e-09\n",
       "==============================================================================\n",
       "Omnibus:                       35.606   Durbin-Watson:                   1.955\n",
       "Prob(Omnibus):                  0.000   Jarque-Bera (JB):               50.361\n",
       "Skew:                          -0.780   Prob(JB):                     1.16e-11\n",
       "Kurtosis:                       4.269   Cond. No.                     2.34e+12\n",
       "==============================================================================\n",
       "\n",
       "Notes:\n",
       "[1] Standard Errors assume that the covariance matrix of the errors is correctly specified.\n",
       "[2] The condition number is large, 2.34e+12. This might indicate that there are\n",
       "strong multicollinearity or other numerical problems.\n",
       "\"\"\""
      ]
     },
     "execution_count": 34,
     "metadata": {},
     "output_type": "execute_result"
    }
   ],
   "source": [
    "result.summary()"
   ]
  },
  {
   "cell_type": "code",
   "execution_count": 35,
   "metadata": {},
   "outputs": [
    {
     "data": {
      "text/html": [
       "<style type=\"text/css\">\n",
       "</style>\n",
       "<table id=\"T_ee28f\">\n",
       "  <thead>\n",
       "    <tr>\n",
       "      <th id=\"T_ee28f_level0_col0\" class=\"col_heading level0 col0\" >variable</th>\n",
       "      <th id=\"T_ee28f_level0_col1\" class=\"col_heading level0 col1\" >coefficient</th>\n",
       "      <th id=\"T_ee28f_level0_col2\" class=\"col_heading level0 col2\" >std error</th>\n",
       "      <th id=\"T_ee28f_level0_col3\" class=\"col_heading level0 col3\" >p-value</th>\n",
       "    </tr>\n",
       "  </thead>\n",
       "  <tbody>\n",
       "    <tr>\n",
       "      <td id=\"T_ee28f_row0_col0\" class=\"data row0 col0\" >coreness</td>\n",
       "      <td id=\"T_ee28f_row0_col1\" class=\"data row0 col1\" >-0.528452</td>\n",
       "      <td id=\"T_ee28f_row0_col2\" class=\"data row0 col2\" >1.395210</td>\n",
       "      <td id=\"T_ee28f_row0_col3\" class=\"data row0 col3\" >0.705137</td>\n",
       "    </tr>\n",
       "    <tr>\n",
       "      <td id=\"T_ee28f_row1_col0\" class=\"data row1 col0\" >ReleaseYear</td>\n",
       "      <td id=\"T_ee28f_row1_col1\" class=\"data row1 col1\" >1.382288</td>\n",
       "      <td id=\"T_ee28f_row1_col2\" class=\"data row1 col2\" >0.984063</td>\n",
       "      <td id=\"T_ee28f_row1_col3\" class=\"data row1 col3\" >0.161170</td>\n",
       "    </tr>\n",
       "    <tr>\n",
       "      <td id=\"T_ee28f_row2_col0\" class=\"data row2 col0\" >TotalRevenue</td>\n",
       "      <td id=\"T_ee28f_row2_col1\" class=\"data row2 col1\" >0.000000</td>\n",
       "      <td id=\"T_ee28f_row2_col2\" class=\"data row2 col2\" >0.000000</td>\n",
       "      <td id=\"T_ee28f_row2_col3\" class=\"data row2 col3\" >0.000039</td>\n",
       "    </tr>\n",
       "  </tbody>\n",
       "</table>\n"
      ],
      "text/plain": [
       "<pandas.io.formats.style.Styler at 0x7fce2bd46b90>"
      ]
     },
     "execution_count": 35,
     "metadata": {},
     "output_type": "execute_result"
    }
   ],
   "source": [
    "result.micro_summary()"
   ]
  },
  {
   "cell_type": "code",
   "execution_count": 36,
   "metadata": {},
   "outputs": [
    {
     "data": {
      "image/png": "[encoded data removed]",
      "text/plain": [
       "<Figure size 1280x480 with 2 Axes>"
      ]
     },
     "metadata": {},
     "output_type": "display_data"
    }
   ],
   "source": [
    "result.plot_residuals()"
   ]
  },
  {
   "cell_type": "code",
   "execution_count": 37,
   "metadata": {},
   "outputs": [],
   "source": [
    "# Observa-se um treshold de divisão no coreness, dessa forma, podemos dividir esses dados em dois conjuntos\n",
    "# E assim aplicar uma regressão em cada metade.\n",
    "\n",
    "threshold_coreness = 0.5\n",
    "\n",
    "df_nodes_periferia = df_nodes[df_nodes['coreness'] < threshold_coreness]\n",
    "df_nodes_centro =  df_nodes[df_nodes['coreness'] > threshold_coreness]"
   ]
  },
  {
   "cell_type": "code",
   "execution_count": 38,
   "metadata": {},
   "outputs": [
    {
     "data": {
      "text/html": [
       "<div>\n",
       "<style scoped>\n",
       "    .dataframe tbody tr th:only-of-type {\n",
       "        vertical-align: middle;\n",
       "    }\n",
       "\n",
       "    .dataframe tbody tr th {\n",
       "        vertical-align: top;\n",
       "    }\n",
       "\n",
       "    .dataframe thead th {\n",
       "        text-align: right;\n",
       "    }\n",
       "</style>\n",
       "<table border=\"1\" class=\"dataframe\">\n",
       "  <thead>\n",
       "    <tr style=\"text-align: right;\">\n",
       "      <th></th>\n",
       "      <th>id</th>\n",
       "      <th>Tags</th>\n",
       "      <th>MetacriticScore</th>\n",
       "      <th>Publishers</th>\n",
       "      <th>TotalRevenue</th>\n",
       "      <th>ReleaseYear</th>\n",
       "      <th>Country</th>\n",
       "      <th>core</th>\n",
       "      <th>coreness</th>\n",
       "    </tr>\n",
       "  </thead>\n",
       "  <tbody>\n",
       "    <tr>\n",
       "      <th>0</th>\n",
       "      <td>0</td>\n",
       "      <td>[Rhythm, VR, Multiplayer, Music, Racing, PvP, ...</td>\n",
       "      <td>87</td>\n",
       "      <td>WanadevStudio</td>\n",
       "      <td>1200000.0</td>\n",
       "      <td>2021</td>\n",
       "      <td>France</td>\n",
       "      <td>0</td>\n",
       "      <td>0.096234</td>\n",
       "    </tr>\n",
       "    <tr>\n",
       "      <th>1</th>\n",
       "      <td>1</td>\n",
       "      <td>[Management, Simulation, Anime, Sexual Content...</td>\n",
       "      <td>73</td>\n",
       "      <td>PLAYISM</td>\n",
       "      <td>58600000.0</td>\n",
       "      <td>2021</td>\n",
       "      <td>Japan</td>\n",
       "      <td>0</td>\n",
       "      <td>0.031381</td>\n",
       "    </tr>\n",
       "  </tbody>\n",
       "</table>\n",
       "</div>"
      ],
      "text/plain": [
       "   id                                               Tags  MetacriticScore  \\\n",
       "0   0  [Rhythm, VR, Multiplayer, Music, Racing, PvP, ...               87   \n",
       "1   1  [Management, Simulation, Anime, Sexual Content...               73   \n",
       "\n",
       "      Publishers  TotalRevenue  ReleaseYear Country  core  coreness  \n",
       "0  WanadevStudio     1200000.0         2021  France     0  0.096234  \n",
       "1        PLAYISM    58600000.0         2021   Japan     0  0.031381  "
      ]
     },
     "execution_count": 38,
     "metadata": {},
     "output_type": "execute_result"
    }
   ],
   "source": [
    "df_nodes_periferia.head(2)"
   ]
  },
  {
   "cell_type": "code",
   "execution_count": 39,
   "metadata": {},
   "outputs": [
    {
     "data": {
      "text/html": [
       "<div>\n",
       "<style scoped>\n",
       "    .dataframe tbody tr th:only-of-type {\n",
       "        vertical-align: middle;\n",
       "    }\n",
       "\n",
       "    .dataframe tbody tr th {\n",
       "        vertical-align: top;\n",
       "    }\n",
       "\n",
       "    .dataframe thead th {\n",
       "        text-align: right;\n",
       "    }\n",
       "</style>\n",
       "<table border=\"1\" class=\"dataframe\">\n",
       "  <thead>\n",
       "    <tr style=\"text-align: right;\">\n",
       "      <th></th>\n",
       "      <th>id</th>\n",
       "      <th>Tags</th>\n",
       "      <th>MetacriticScore</th>\n",
       "      <th>Publishers</th>\n",
       "      <th>TotalRevenue</th>\n",
       "      <th>ReleaseYear</th>\n",
       "      <th>Country</th>\n",
       "      <th>core</th>\n",
       "      <th>coreness</th>\n",
       "    </tr>\n",
       "  </thead>\n",
       "  <tbody>\n",
       "    <tr>\n",
       "      <th>4</th>\n",
       "      <td>4</td>\n",
       "      <td>[RPG, Choices Matter, Story Rich, Detective, T...</td>\n",
       "      <td>67</td>\n",
       "      <td>Fireshine Games</td>\n",
       "      <td>26400000.0</td>\n",
       "      <td>2021</td>\n",
       "      <td>United Kingdom</td>\n",
       "      <td>1</td>\n",
       "      <td>0.816667</td>\n",
       "    </tr>\n",
       "    <tr>\n",
       "      <th>13</th>\n",
       "      <td>13</td>\n",
       "      <td>[RPG, Adventure, Female Protagonist, JRPG, Act...</td>\n",
       "      <td>74</td>\n",
       "      <td>Modus Games</td>\n",
       "      <td>17300000.0</td>\n",
       "      <td>2021</td>\n",
       "      <td>United States</td>\n",
       "      <td>1</td>\n",
       "      <td>0.912500</td>\n",
       "    </tr>\n",
       "  </tbody>\n",
       "</table>\n",
       "</div>"
      ],
      "text/plain": [
       "    id                                               Tags  MetacriticScore  \\\n",
       "4    4  [RPG, Choices Matter, Story Rich, Detective, T...               67   \n",
       "13  13  [RPG, Adventure, Female Protagonist, JRPG, Act...               74   \n",
       "\n",
       "         Publishers  TotalRevenue  ReleaseYear         Country  core  coreness  \n",
       "4   Fireshine Games    26400000.0         2021  United Kingdom     1  0.816667  \n",
       "13      Modus Games    17300000.0         2021   United States     1  0.912500  "
      ]
     },
     "execution_count": 39,
     "metadata": {},
     "output_type": "execute_result"
    }
   ],
   "source": [
    "df_nodes_centro.head(2)"
   ]
  },
  {
   "cell_type": "code",
   "execution_count": 40,
   "metadata": {},
   "outputs": [
    {
     "data": {
      "image/png": "[encoded data removed]",
      "text/plain": [
       "<Figure size 640x480 with 1 Axes>"
      ]
     },
     "metadata": {},
     "output_type": "display_data"
    }
   ],
   "source": [
    "# ------- Para a periferia  -------\n",
    "\n",
    "sns.regplot(x=df_nodes_periferia['coreness'], y=df_nodes_periferia['MetacriticScore']);"
   ]
  },
  {
   "cell_type": "code",
   "execution_count": 41,
   "metadata": {},
   "outputs": [],
   "source": [
    "result_periferia = reg.linear(data=df_nodes_periferia, formula='MetacriticScore ~ coreness + ReleaseYear + TotalRevenue')"
   ]
  },
  {
   "cell_type": "code",
   "execution_count": 42,
   "metadata": {},
   "outputs": [
    {
     "data": {
      "text/html": [
       "<style type=\"text/css\">\n",
       "</style>\n",
       "<table id=\"T_960dd\">\n",
       "  <thead>\n",
       "    <tr>\n",
       "      <th id=\"T_960dd_level0_col0\" class=\"col_heading level0 col0\" >variable</th>\n",
       "      <th id=\"T_960dd_level0_col1\" class=\"col_heading level0 col1\" >coefficient</th>\n",
       "      <th id=\"T_960dd_level0_col2\" class=\"col_heading level0 col2\" >std error</th>\n",
       "      <th id=\"T_960dd_level0_col3\" class=\"col_heading level0 col3\" >p-value</th>\n",
       "    </tr>\n",
       "  </thead>\n",
       "  <tbody>\n",
       "    <tr>\n",
       "      <td id=\"T_960dd_row0_col0\" class=\"data row0 col0\" >coreness</td>\n",
       "      <td id=\"T_960dd_row0_col1\" class=\"data row0 col1\" >13.964686</td>\n",
       "      <td id=\"T_960dd_row0_col2\" class=\"data row0 col2\" >6.706332</td>\n",
       "      <td id=\"T_960dd_row0_col3\" class=\"data row0 col3\" >0.038391</td>\n",
       "    </tr>\n",
       "    <tr>\n",
       "      <td id=\"T_960dd_row1_col0\" class=\"data row1 col0\" >ReleaseYear</td>\n",
       "      <td id=\"T_960dd_row1_col1\" class=\"data row1 col1\" >1.754727</td>\n",
       "      <td id=\"T_960dd_row1_col2\" class=\"data row1 col2\" >1.081128</td>\n",
       "      <td id=\"T_960dd_row1_col3\" class=\"data row1 col3\" >0.105913</td>\n",
       "    </tr>\n",
       "    <tr>\n",
       "      <td id=\"T_960dd_row2_col0\" class=\"data row2 col0\" >TotalRevenue</td>\n",
       "      <td id=\"T_960dd_row2_col1\" class=\"data row2 col1\" >0.000000</td>\n",
       "      <td id=\"T_960dd_row2_col2\" class=\"data row2 col2\" >0.000000</td>\n",
       "      <td id=\"T_960dd_row2_col3\" class=\"data row2 col3\" >0.000078</td>\n",
       "    </tr>\n",
       "  </tbody>\n",
       "</table>\n"
      ],
      "text/plain": [
       "<pandas.io.formats.style.Styler at 0x7fce2ad47ee0>"
      ]
     },
     "execution_count": 42,
     "metadata": {},
     "output_type": "execute_result"
    }
   ],
   "source": [
    "result_periferia.micro_summary()"
   ]
  },
  {
   "cell_type": "code",
   "execution_count": 43,
   "metadata": {},
   "outputs": [
    {
     "data": {
      "image/png": "[encoded data removed]",
      "text/plain": [
       "<Figure size 1280x480 with 2 Axes>"
      ]
     },
     "metadata": {},
     "output_type": "display_data"
    }
   ],
   "source": [
    "result_periferia.plot_residuals()"
   ]
  },
  {
   "cell_type": "code",
   "execution_count": 44,
   "metadata": {},
   "outputs": [
    {
     "data": {
      "image/png": "[encoded data removed]",
      "text/plain": [
       "<Figure size 640x480 with 1 Axes>"
      ]
     },
     "metadata": {},
     "output_type": "display_data"
    }
   ],
   "source": [
    "# ------- Para o centro -------\n",
    "\n",
    "sns.regplot(x=df_nodes_centro['coreness'], y=df_nodes_centro['MetacriticScore']);"
   ]
  },
  {
   "cell_type": "code",
   "execution_count": 45,
   "metadata": {},
   "outputs": [],
   "source": [
    "result_centro = reg.linear(data=df_nodes_centro, formula='MetacriticScore ~ coreness + ReleaseYear + TotalRevenue')"
   ]
  },
  {
   "cell_type": "code",
   "execution_count": 46,
   "metadata": {},
   "outputs": [
    {
     "data": {
      "text/html": [
       "<style type=\"text/css\">\n",
       "</style>\n",
       "<table id=\"T_d07cd\">\n",
       "  <thead>\n",
       "    <tr>\n",
       "      <th id=\"T_d07cd_level0_col0\" class=\"col_heading level0 col0\" >variable</th>\n",
       "      <th id=\"T_d07cd_level0_col1\" class=\"col_heading level0 col1\" >coefficient</th>\n",
       "      <th id=\"T_d07cd_level0_col2\" class=\"col_heading level0 col2\" >std error</th>\n",
       "      <th id=\"T_d07cd_level0_col3\" class=\"col_heading level0 col3\" >p-value</th>\n",
       "    </tr>\n",
       "  </thead>\n",
       "  <tbody>\n",
       "    <tr>\n",
       "      <td id=\"T_d07cd_row0_col0\" class=\"data row0 col0\" >coreness</td>\n",
       "      <td id=\"T_d07cd_row0_col1\" class=\"data row0 col1\" >-4.471953</td>\n",
       "      <td id=\"T_d07cd_row0_col2\" class=\"data row0 col2\" >11.558361</td>\n",
       "      <td id=\"T_d07cd_row0_col3\" class=\"data row0 col3\" >0.700322</td>\n",
       "    </tr>\n",
       "    <tr>\n",
       "      <td id=\"T_d07cd_row1_col0\" class=\"data row1 col0\" >ReleaseYear</td>\n",
       "      <td id=\"T_d07cd_row1_col1\" class=\"data row1 col1\" >-1.717981</td>\n",
       "      <td id=\"T_d07cd_row1_col2\" class=\"data row1 col2\" >2.391383</td>\n",
       "      <td id=\"T_d07cd_row1_col3\" class=\"data row1 col3\" >0.475549</td>\n",
       "    </tr>\n",
       "    <tr>\n",
       "      <td id=\"T_d07cd_row2_col0\" class=\"data row2 col0\" >TotalRevenue</td>\n",
       "      <td id=\"T_d07cd_row2_col1\" class=\"data row2 col1\" >0.000000</td>\n",
       "      <td id=\"T_d07cd_row2_col2\" class=\"data row2 col2\" >0.000000</td>\n",
       "      <td id=\"T_d07cd_row2_col3\" class=\"data row2 col3\" >0.291739</td>\n",
       "    </tr>\n",
       "  </tbody>\n",
       "</table>\n"
      ],
      "text/plain": [
       "<pandas.io.formats.style.Styler at 0x7fce2ac73d60>"
      ]
     },
     "execution_count": 46,
     "metadata": {},
     "output_type": "execute_result"
    }
   ],
   "source": [
    "result_centro.micro_summary()"
   ]
  },
  {
   "cell_type": "code",
   "execution_count": 47,
   "metadata": {},
   "outputs": [
    {
     "data": {
      "image/png": "[encoded data removed]",
      "text/plain": [
       "<Figure size 1280x480 with 2 Axes>"
      ]
     },
     "metadata": {},
     "output_type": "display_data"
    }
   ],
   "source": [
    "result_centro.plot_residuals()"
   ]
  },
  {
   "cell_type": "markdown",
   "metadata": {},
   "source": [
    "### Recortes | Por Região"
   ]
  },
  {
   "cell_type": "markdown",
   "metadata": {},
   "source": [
    "* Considerações : Caso um jogo possua dois ou mais Publishers em regiões diferentes, esse dado (jogo) é pertencente as condições de recorte de \"todos os países de seus publisher\"."
   ]
  },
  {
   "cell_type": "code",
   "execution_count": 48,
   "metadata": {},
   "outputs": [],
   "source": [
    "# ---- Dicionario com Países e Regiões ----\n",
    "country_and_regions = {\n",
    "\"North_Africa\" : [\"Bahrain\",  \"Egypt\", \"Jordan\",  \"Kuwait\",  \"Lebanon\", \"Mauritania\",\n",
    "\"Morocco\",  \"Oman\",  \"Pakistan\", \"Qatar\",  \"Saudi Arabia\", \"Tunisia\", \"United Arab Emirates\"],\n",
    "\n",
    "\"Latin_America\" : [\"Argentina\" , \"Bahamas\"  , \"Belize\" , \"Bermuda\" , \"Bolivia\" , \"Brazil\" , \"Chile\" ,\n",
    "\"Colombia\" , \"Costa Rica\" , \"Dominican Republic\" ,  \"Ecuador\",  \"El Salvador\", \"Guatemala\",\n",
    "\"Honduras\", \"Mexico\", \"Panama\", \"Paraguay\", \"Peru\" , \"Suriname\" , \"Trinidad and Tobago\" , \"Uruguay\"],\n",
    "\n",
    "\"North_America\" : [\"Canada\" , \"United States\"],\n",
    "\n",
    "\"Europe\" : [\"Armenia\", \"Austria\", \"Belgium\" , \"Bulgaria\" , \"Croatia\" , \"Cyprus\" , \"Czech Republic\",\n",
    "\"Denmark\", \"Estonia\" , \"Finland\", \"France\" , \"Georgia\" , \"Germany\", \"Greece\", \"Hungary\",\n",
    "\"Iceland\",\"Ireland\" , \"Israel\" , \"Italy\", \"Kazakhstan\", \"Kyrgyz Republic\",\n",
    "\"Latvia\", \"Liechtenstein\", \"Lithuania\", \"Luxembourg\", \"Malta\", \"Moldova\", \"Monaco\",\n",
    "\"Montenegro\", \"Netherlands\" , \"North Macedonia\" , \"Norway\", \"Poland\", \"Portugal\", \"Romania\",\n",
    "\"Russia\", \"Serbia, The Republic of\", \"Slovak Republic\" , \"Slovenia\",\n",
    "\"Spain\", \"Sweden\", \"Switzerland\", \"Turkey\" , \"Ukraine\" , \"United Kingdom\", \"England\" , \"Serbia\"],\n",
    "\n",
    "\"Asia\" : [\"Australia\" , \"Bangladesh\", \"Bhutan\" , \"Fiji\" , \"India\" , \"Japan\" , \"Maldives\" , \"Marshall Islands\",\n",
    "\"Micronesia\" , \"Mongolia\" , \"Nepal\" , \"New Zealand\", \"Palau\" ,\"Philippines\" , \"Republic of Korea\" , \"Sri Lanka\",\n",
    "\"Taiwan Partnership\" , \"Thailand\" , \"Vietnam\" , \"China\", \"Taiwan\" , \"Malaysia\", \"South Korea\"],\n",
    "\n",
    "\"Africa\" : [\"Benin\" , \"Botswana\" , \"Burkina Faso\" , \"Cameroon\" , \"Cape Verde\" , \"Chad\" , \"Congo, The Republic of\" , \"Ethiopia\" , \"Gabon\",\n",
    "\"Gambia\" , \"Ghana\" , \"Guinea\" , \"Kenya\" , \"Liberia\" , \"Madagascar\" , \"Mali\" , \"Mauritius\" , \"Namibia\" , \"Niger\" , \"Nigeria\" , \"Rwanda\",\n",
    "\"Senegal\", \"Seychelles\" , \"South Africa\" , \"Tanzania\" , \"Togo\" , \"Uganda\"]\n",
    "}"
   ]
  },
  {
   "cell_type": "code",
   "execution_count": 49,
   "metadata": {},
   "outputs": [
    {
     "data": {
      "text/html": [
       "<div>\n",
       "<style scoped>\n",
       "    .dataframe tbody tr th:only-of-type {\n",
       "        vertical-align: middle;\n",
       "    }\n",
       "\n",
       "    .dataframe tbody tr th {\n",
       "        vertical-align: top;\n",
       "    }\n",
       "\n",
       "    .dataframe thead th {\n",
       "        text-align: right;\n",
       "    }\n",
       "</style>\n",
       "<table border=\"1\" class=\"dataframe\">\n",
       "  <thead>\n",
       "    <tr style=\"text-align: right;\">\n",
       "      <th></th>\n",
       "      <th>id</th>\n",
       "      <th>Tags</th>\n",
       "      <th>MetacriticScore</th>\n",
       "      <th>Publishers</th>\n",
       "      <th>TotalRevenue</th>\n",
       "      <th>ReleaseYear</th>\n",
       "      <th>Country</th>\n",
       "      <th>core</th>\n",
       "      <th>coreness</th>\n",
       "    </tr>\n",
       "  </thead>\n",
       "  <tbody>\n",
       "    <tr>\n",
       "      <th>0</th>\n",
       "      <td>0</td>\n",
       "      <td>[Rhythm, VR, Multiplayer, Music, Racing, PvP, ...</td>\n",
       "      <td>87</td>\n",
       "      <td>WanadevStudio</td>\n",
       "      <td>1200000.0</td>\n",
       "      <td>2021</td>\n",
       "      <td>France</td>\n",
       "      <td>0</td>\n",
       "      <td>0.096234</td>\n",
       "    </tr>\n",
       "    <tr>\n",
       "      <th>1</th>\n",
       "      <td>1</td>\n",
       "      <td>[Management, Simulation, Anime, Sexual Content...</td>\n",
       "      <td>73</td>\n",
       "      <td>PLAYISM</td>\n",
       "      <td>58600000.0</td>\n",
       "      <td>2021</td>\n",
       "      <td>Japan</td>\n",
       "      <td>0</td>\n",
       "      <td>0.031381</td>\n",
       "    </tr>\n",
       "  </tbody>\n",
       "</table>\n",
       "</div>"
      ],
      "text/plain": [
       "   id                                               Tags  MetacriticScore  \\\n",
       "0   0  [Rhythm, VR, Multiplayer, Music, Racing, PvP, ...               87   \n",
       "1   1  [Management, Simulation, Anime, Sexual Content...               73   \n",
       "\n",
       "      Publishers  TotalRevenue  ReleaseYear Country  core  coreness  \n",
       "0  WanadevStudio     1200000.0         2021  France     0  0.096234  \n",
       "1        PLAYISM    58600000.0         2021   Japan     0  0.031381  "
      ]
     },
     "execution_count": 49,
     "metadata": {},
     "output_type": "execute_result"
    }
   ],
   "source": [
    "df_nodes.head(2)"
   ]
  },
  {
   "cell_type": "code",
   "execution_count": 51,
   "metadata": {},
   "outputs": [
    {
     "name": "stdout",
     "output_type": "stream",
     "text": [
      "\n",
      "> Lista de Regiões : ['Europe', 'Asia', 'Asia', 'Asia', 'Europe', 'North_America', ['Asia', 'North_America'], 'North_America', ['North_America', 'Europe'], 'Europe', 'Asia', 'North_America', ['Asia'], 'North_America', 'Europe', ['Asia'], 'North_America', 'Europe', 'Europe', ['Asia', 'North_America'], 'North_America', 'Europe', 'Asia', 'Asia', 'North_America', 'Latin_America', ['Asia', 'Europe'], 'Europe', 'Asia', 'Europe', 'North_America', 'Europe', 'North_America', 'Asia', 'Europe', ['Europe'], 'Europe', 'Europe', 'North_America', 'Europe', 'North_America', 'North_America', 'Asia', 'Europe', 'Asia', 'Europe', 'Europe', 'North_America', 'Europe', 'Asia', 'North_America', 'North_America', 'Europe', 'Europe', 'North_America', 'North_America', 'Europe', 'Asia', 'Asia', 'Europe', 'Europe', 'Europe', 'North_America', 'Asia', 'Asia', 'North_America', 'Europe', ['Europe'], 'Europe', 'Europe', 'Europe', 'Europe', 'North_America', 'Europe', 'Europe', 'North_America', 'Europe', 'Europe', 'Europe', 'Europe', 'Europe', ['Asia', 'Europe'], 'Europe', ['Asia', 'Europe'], 'Europe', 'North_America', 'Asia', 'Europe', 'North_America', 'Europe', 'Europe', ['Europe'], 'North_America', 'North_America', 'Europe', 'Asia', 'North_America', 'North_America', 'Europe', 'Europe', 'Europe', 'Europe', 'Europe', 'Europe', 'Europe', 'Europe', ['Europe'], ['Asia', 'North_America', 'Europe'], 'Europe', 'North_America', 'North_America', 'North_America', 'Europe', 'Europe', 'Europe', 'Asia', 'Asia', 'Europe', 'North_America', 'North_America', 'Europe', 'Europe', 'Europe', 'North_America', 'Europe', 'North_America', 'Europe', 'North_America', 'Asia', 'Asia', 'Europe', 'Europe', 'North_America', 'Europe', 'North_America', 'Europe', 'North_America', 'Europe', 'Asia', 'North_America', 'Asia', 'Europe', 'Asia', 'Asia', 'Asia', ['Asia'], 'Europe', 'Europe', 'Europe', ['North_America', 'Europe'], 'North_America', 'North_America', ['Asia', 'Europe'], 'Asia', 'North_America', 'North_America', 'North_America', 'Europe', 'North_America', 'Europe', 'Asia', 'Asia', ['Asia', 'Europe'], 'Europe', ['Asia', 'Europe'], 'North_America', 'North_America', 'Europe', 'Europe', 'North_America', 'Europe', 'Europe', 'Europe', 'Asia', 'North_America', 'North_America', ['Europe'], ['Asia', 'Europe'], 'North_America', 'Asia', 'Asia', ['Asia', 'Europe'], ['Asia', 'North_America'], 'Europe', 'Europe', ['North_America'], ['Europe'], 'Europe', 'North_America', 'Europe', ['Asia'], 'Europe', 'Europe', 'Asia', 'North_America', 'North_America', 'Europe', 'Europe', 'Europe', 'North_America', 'North_America', 'North_America', 'Europe', 'Europe', 'Europe', 'Asia', 'Asia', 'North_America', 'Europe', ['Asia', 'Europe'], 'Asia', ['North_America'], 'Europe', 'Europe', 'North_America', 'Europe', 'Europe', 'Asia', 'Europe', 'North_America', 'North_America', ['Europe'], 'Europe', ['North_America', 'Europe'], 'Europe', ['North_America'], 'Europe', 'North_America', 'North_America', 'Europe', 'Asia', 'Europe', 'Europe', 'Europe', ['Asia', 'North_America'], 'North_America', 'North_America', 'North_America', 'Europe', 'North_America', 'Europe', 'Europe', 'Europe', 'Europe', 'Europe', 'Europe', 'Europe', 'North_America', 'Europe', 'Europe', 'North_America', 'North_America', 'Asia', 'Europe', ['Asia', 'Europe'], 'North_America', 'Europe', 'Europe', 'Europe', ['Asia', 'North_America'], 'Europe', 'Europe', 'North_America', 'North_America', 'North_America', 'North_America', 'North_America', 'North_America', 'North_America', 'North_America', ['Europe'], 'Europe', 'North_America', 'Europe', 'Europe', 'Europe', 'Europe', 'North_America', 'Europe', 'Europe', 'Europe', 'Europe', 'Asia', 'Europe', 'Europe', 'Asia', 'Asia', 'North_America', 'Europe', 'North_America', 'Asia', 'Europe', 'Asia', 'North_America', 'Europe', 'Europe', 'Europe', 'North_America', 'North_America']\n",
      "\n",
      "\n",
      "> Países identificados como NaN : []\n",
      "\n",
      "\n",
      "> Quantidade de NaN : 0\n",
      "\n"
     ]
    },
    {
     "data": {
      "text/html": [
       "<div>\n",
       "<style scoped>\n",
       "    .dataframe tbody tr th:only-of-type {\n",
       "        vertical-align: middle;\n",
       "    }\n",
       "\n",
       "    .dataframe tbody tr th {\n",
       "        vertical-align: top;\n",
       "    }\n",
       "\n",
       "    .dataframe thead th {\n",
       "        text-align: right;\n",
       "    }\n",
       "</style>\n",
       "<table border=\"1\" class=\"dataframe\">\n",
       "  <thead>\n",
       "    <tr style=\"text-align: right;\">\n",
       "      <th></th>\n",
       "      <th>id</th>\n",
       "      <th>Tags</th>\n",
       "      <th>MetacriticScore</th>\n",
       "      <th>Publishers</th>\n",
       "      <th>TotalRevenue</th>\n",
       "      <th>ReleaseYear</th>\n",
       "      <th>Country</th>\n",
       "      <th>core</th>\n",
       "      <th>coreness</th>\n",
       "      <th>Region</th>\n",
       "    </tr>\n",
       "  </thead>\n",
       "  <tbody>\n",
       "    <tr>\n",
       "      <th>0</th>\n",
       "      <td>0</td>\n",
       "      <td>[Rhythm, VR, Multiplayer, Music, Racing, PvP, ...</td>\n",
       "      <td>87</td>\n",
       "      <td>WanadevStudio</td>\n",
       "      <td>1200000.0</td>\n",
       "      <td>2021</td>\n",
       "      <td>France</td>\n",
       "      <td>0</td>\n",
       "      <td>0.096234</td>\n",
       "      <td>Europe</td>\n",
       "    </tr>\n",
       "    <tr>\n",
       "      <th>1</th>\n",
       "      <td>1</td>\n",
       "      <td>[Management, Simulation, Anime, Sexual Content...</td>\n",
       "      <td>73</td>\n",
       "      <td>PLAYISM</td>\n",
       "      <td>58600000.0</td>\n",
       "      <td>2021</td>\n",
       "      <td>Japan</td>\n",
       "      <td>0</td>\n",
       "      <td>0.031381</td>\n",
       "      <td>Asia</td>\n",
       "    </tr>\n",
       "    <tr>\n",
       "      <th>2</th>\n",
       "      <td>2</td>\n",
       "      <td>[Casual, Simulation, Strategy, Indie, Manageme...</td>\n",
       "      <td>87</td>\n",
       "      <td>Dinosaur Polo Club</td>\n",
       "      <td>9100000.0</td>\n",
       "      <td>2021</td>\n",
       "      <td>New Zealand</td>\n",
       "      <td>0</td>\n",
       "      <td>0.072176</td>\n",
       "      <td>Asia</td>\n",
       "    </tr>\n",
       "  </tbody>\n",
       "</table>\n",
       "</div>"
      ],
      "text/plain": [
       "   id                                               Tags  MetacriticScore  \\\n",
       "0   0  [Rhythm, VR, Multiplayer, Music, Racing, PvP, ...               87   \n",
       "1   1  [Management, Simulation, Anime, Sexual Content...               73   \n",
       "2   2  [Casual, Simulation, Strategy, Indie, Manageme...               87   \n",
       "\n",
       "           Publishers  TotalRevenue  ReleaseYear      Country  core  coreness  \\\n",
       "0       WanadevStudio     1200000.0         2021       France     0  0.096234   \n",
       "1             PLAYISM    58600000.0         2021        Japan     0  0.031381   \n",
       "2  Dinosaur Polo Club     9100000.0         2021  New Zealand     0  0.072176   \n",
       "\n",
       "   Region  \n",
       "0  Europe  \n",
       "1    Asia  \n",
       "2    Asia  "
      ]
     },
     "execution_count": 51,
     "metadata": {},
     "output_type": "execute_result"
    }
   ],
   "source": [
    "# ------ Região do Publisher ------\n",
    "\n",
    "list_regions = []\n",
    "list_NAN = []\n",
    "count_NAN = 0\n",
    "for idx , linha in df_nodes.iterrows():\n",
    "    \n",
    "    # Lista auxiliar para mais de 1 país\n",
    "    aux_list = set()\n",
    "    \n",
    "    # País ou países ?\n",
    "    country = linha['Country'].strip()\n",
    "    \n",
    "    # Lista de Países\n",
    "    country_list = country.split(\",\")\n",
    "    country_list = [country.strip() for country in country_list]\n",
    "    \n",
    "    achou_regiao = False\n",
    "    for key, values in country_and_regions.items():\n",
    "        \n",
    "        if(len(country_list) == 1):\n",
    "            if(country in values):\n",
    "                list_regions.append(key)\n",
    "                achou_regiao  = True\n",
    "                break\n",
    "        else: \n",
    "            for c in country_list:\n",
    "                if(c in values): \n",
    "                    if key not in aux_list:\n",
    "                        aux_list.add(key)\n",
    "                        achou_regiao  = True\n",
    "    \n",
    "    # Adiciona lista auxiliar na lista de região\n",
    "    if(len(country_list) > 1):\n",
    "        \n",
    "        if(len(aux_list) >= 1):\n",
    "            list_regions.append(list(aux_list))\n",
    "        else:\n",
    "            print(f\" * Lista auxiliar vazia para : {country_list} , idx = {idx}\")\n",
    "    \n",
    "    if not achou_regiao : \n",
    "        list_NAN.append(country)\n",
    "        list_regions.append(\"NaN\")\n",
    "        count_NAN+=1\n",
    "            \n",
    "print(f\"\\n> Lista de Regiões : {list_regions}\\n\")\n",
    "print(f\"\\n> Países identificados como NaN : {list_NAN}\\n\")\n",
    "print(f\"\\n> Quantidade de NaN : {count_NAN}\\n\")\n",
    "\n",
    "# Adiciona coluna extra:\n",
    "df_nodes['Region'] = list_regions\n",
    "df_nodes.head(3)"
   ]
  },
  {
   "cell_type": "markdown",
   "metadata": {},
   "source": [
    "#### Pegando dados por Região"
   ]
  },
  {
   "cell_type": "code",
   "execution_count": 70,
   "metadata": {},
   "outputs": [],
   "source": [
    "def filter_region(region, region_filter):\n",
    "        \n",
    "    if isinstance(region, list):\n",
    "        \n",
    "        for c in region: \n",
    "            if(c in region_filter):\n",
    "                return True\n",
    "    \n",
    "    if(region == region_filter):\n",
    "            return True\n",
    "        \n",
    "    return False\n",
    "    \n",
    "# Seleciona apenas dados relevantes - North America\n",
    "df_nodes_NorthAmerica =df_nodes[df_nodes['Region'].apply(filter_region , region_filter = 'North_America') == True]\n",
    "\n",
    "# Seleciona apenas dados relevantes - North America\n",
    "df_nodes_Asia = df_nodes[df_nodes['Region'].apply(filter_region , region_filter = 'Asia') == True]\n",
    "\n",
    "# Seleciona apenas dados relevantes - North America\n",
    "df_nodes_Asia = df_nodes[df_nodes['Region'].apply(filter_region , region_filter = 'Asia') == True]"
   ]
  },
  {
   "cell_type": "code",
   "execution_count": 71,
   "metadata": {},
   "outputs": [
    {
     "name": "stdout",
     "output_type": "stream",
     "text": [
      "\n",
      "> North America :  ['North_America', ['Asia', 'North_America'], 'North_America', ['North_America', 'Europe'], 'North_America', 'North_America', 'North_America', ['Asia', 'North_America'], 'North_America', 'North_America', 'North_America', 'North_America', 'North_America', 'North_America', 'North_America', 'North_America', 'North_America', 'North_America', 'North_America', 'North_America', 'North_America', 'North_America', 'North_America', 'North_America', 'North_America', 'North_America', 'North_America', 'North_America', 'North_America', 'North_America', ['Asia', 'North_America', 'Europe'], 'North_America', 'North_America', 'North_America', 'North_America', 'North_America', 'North_America', 'North_America', 'North_America', 'North_America', 'North_America', 'North_America', 'North_America', ['North_America', 'Europe'], 'North_America', 'North_America', 'North_America', 'North_America', 'North_America', 'North_America', 'North_America', 'North_America', 'North_America', 'North_America', 'North_America', 'North_America', ['Asia', 'North_America'], ['North_America'], 'North_America', 'North_America', 'North_America', 'North_America', 'North_America', 'North_America', 'North_America', ['North_America'], 'North_America', 'North_America', 'North_America', ['North_America', 'Europe'], ['North_America'], 'North_America', 'North_America', ['Asia', 'North_America'], 'North_America', 'North_America', 'North_America', 'North_America', 'North_America', 'North_America', 'North_America', 'North_America', ['Asia', 'North_America'], 'North_America', 'North_America', 'North_America', 'North_America', 'North_America', 'North_America', 'North_America', 'North_America', 'North_America', 'North_America', 'North_America', 'North_America', 'North_America', 'North_America', 'North_America']\n",
      "\n",
      "\n",
      "> Asia          :  ['Asia', 'Asia', 'Asia', ['Asia', 'North_America'], 'Asia', ['Asia'], ['Asia'], ['Asia', 'North_America'], 'Asia', 'Asia', ['Asia', 'Europe'], 'Asia', 'Asia', 'Asia', 'Asia', 'Asia', 'Asia', 'Asia', 'Asia', 'Asia', ['Asia', 'Europe'], ['Asia', 'Europe'], 'Asia', 'Asia', ['Asia', 'North_America', 'Europe'], 'Asia', 'Asia', 'Asia', 'Asia', 'Asia', 'Asia', 'Asia', 'Asia', 'Asia', ['Asia'], ['Asia', 'Europe'], 'Asia', 'Asia', 'Asia', ['Asia', 'Europe'], ['Asia', 'Europe'], 'Asia', ['Asia', 'Europe'], 'Asia', 'Asia', ['Asia', 'Europe'], ['Asia', 'North_America'], ['Asia'], 'Asia', 'Asia', 'Asia', ['Asia', 'Europe'], 'Asia', 'Asia', 'Asia', ['Asia', 'North_America'], 'Asia', ['Asia', 'Europe'], ['Asia', 'North_America'], 'Asia', 'Asia', 'Asia', 'Asia', 'Asia']\n",
      "\n"
     ]
    }
   ],
   "source": [
    "# Confirma valores obtidos:\n",
    "\n",
    "print(f\"\\n> North America :  {list(df_nodes_NorthAmerica['Region'])}\\n\")\n",
    "\n",
    "print(f\"\\n> Asia          :  {list(df_nodes_Asia['Region'])}\\n\")"
   ]
  },
  {
   "cell_type": "code",
   "execution_count": 72,
   "metadata": {},
   "outputs": [
    {
     "data": {
      "image/png": "[encoded data removed]",
      "text/plain": [
       "<Figure size 640x480 with 1 Axes>"
      ]
     },
     "metadata": {},
     "output_type": "display_data"
    }
   ],
   "source": [
    "# ------------ North America ------------\n",
    "\n",
    "sns.regplot(x=df_nodes_NorthAmerica['coreness'], y=df_nodes_NorthAmerica['MetacriticScore']);"
   ]
  },
  {
   "cell_type": "code",
   "execution_count": 73,
   "metadata": {},
   "outputs": [],
   "source": [
    "result_NorthAmerica= reg.linear(data=df_nodes_NorthAmerica, formula='MetacriticScore ~ coreness + ReleaseYear + TotalRevenue')"
   ]
  },
  {
   "cell_type": "code",
   "execution_count": 74,
   "metadata": {},
   "outputs": [
    {
     "data": {
      "text/html": [
       "<style type=\"text/css\">\n",
       "</style>\n",
       "<table id=\"T_3c12f\">\n",
       "  <thead>\n",
       "    <tr>\n",
       "      <th id=\"T_3c12f_level0_col0\" class=\"col_heading level0 col0\" >variable</th>\n",
       "      <th id=\"T_3c12f_level0_col1\" class=\"col_heading level0 col1\" >coefficient</th>\n",
       "      <th id=\"T_3c12f_level0_col2\" class=\"col_heading level0 col2\" >std error</th>\n",
       "      <th id=\"T_3c12f_level0_col3\" class=\"col_heading level0 col3\" >p-value</th>\n",
       "    </tr>\n",
       "  </thead>\n",
       "  <tbody>\n",
       "    <tr>\n",
       "      <td id=\"T_3c12f_row0_col0\" class=\"data row0 col0\" >coreness</td>\n",
       "      <td id=\"T_3c12f_row0_col1\" class=\"data row0 col1\" >0.497638</td>\n",
       "      <td id=\"T_3c12f_row0_col2\" class=\"data row0 col2\" >2.394810</td>\n",
       "      <td id=\"T_3c12f_row0_col3\" class=\"data row0 col3\" >0.835836</td>\n",
       "    </tr>\n",
       "    <tr>\n",
       "      <td id=\"T_3c12f_row1_col0\" class=\"data row1 col0\" >ReleaseYear</td>\n",
       "      <td id=\"T_3c12f_row1_col1\" class=\"data row1 col1\" >0.630295</td>\n",
       "      <td id=\"T_3c12f_row1_col2\" class=\"data row1 col2\" >1.703391</td>\n",
       "      <td id=\"T_3c12f_row1_col3\" class=\"data row1 col3\" >0.712197</td>\n",
       "    </tr>\n",
       "    <tr>\n",
       "      <td id=\"T_3c12f_row2_col0\" class=\"data row2 col0\" >TotalRevenue</td>\n",
       "      <td id=\"T_3c12f_row2_col1\" class=\"data row2 col1\" >0.000000</td>\n",
       "      <td id=\"T_3c12f_row2_col2\" class=\"data row2 col2\" >0.000000</td>\n",
       "      <td id=\"T_3c12f_row2_col3\" class=\"data row2 col3\" >0.016876</td>\n",
       "    </tr>\n",
       "  </tbody>\n",
       "</table>\n"
      ],
      "text/plain": [
       "<pandas.io.formats.style.Styler at 0x7fce24f94be0>"
      ]
     },
     "execution_count": 74,
     "metadata": {},
     "output_type": "execute_result"
    }
   ],
   "source": [
    "result_NorthAmerica.micro_summary()"
   ]
  },
  {
   "cell_type": "code",
   "execution_count": 75,
   "metadata": {},
   "outputs": [
    {
     "data": {
      "image/png": "[encoded data removed]",
      "text/plain": [
       "<Figure size 640x480 with 1 Axes>"
      ]
     },
     "metadata": {},
     "output_type": "display_data"
    }
   ],
   "source": [
    "# ------------ Asia  ------------\n",
    "\n",
    "sns.regplot(x=df_nodes_Asia['coreness'], y=df_nodes_Asia['MetacriticScore']);"
   ]
  },
  {
   "cell_type": "code",
   "execution_count": 76,
   "metadata": {},
   "outputs": [],
   "source": [
    "result_Asia= reg.linear(data=df_nodes_Asia, formula='MetacriticScore ~ coreness + ReleaseYear + TotalRevenue')"
   ]
  },
  {
   "cell_type": "code",
   "execution_count": 77,
   "metadata": {},
   "outputs": [
    {
     "data": {
      "text/html": [
       "<style type=\"text/css\">\n",
       "</style>\n",
       "<table id=\"T_77384\">\n",
       "  <thead>\n",
       "    <tr>\n",
       "      <th id=\"T_77384_level0_col0\" class=\"col_heading level0 col0\" >variable</th>\n",
       "      <th id=\"T_77384_level0_col1\" class=\"col_heading level0 col1\" >coefficient</th>\n",
       "      <th id=\"T_77384_level0_col2\" class=\"col_heading level0 col2\" >std error</th>\n",
       "      <th id=\"T_77384_level0_col3\" class=\"col_heading level0 col3\" >p-value</th>\n",
       "    </tr>\n",
       "  </thead>\n",
       "  <tbody>\n",
       "    <tr>\n",
       "      <td id=\"T_77384_row0_col0\" class=\"data row0 col0\" >coreness</td>\n",
       "      <td id=\"T_77384_row0_col1\" class=\"data row0 col1\" >1.485840</td>\n",
       "      <td id=\"T_77384_row0_col2\" class=\"data row0 col2\" >3.947900</td>\n",
       "      <td id=\"T_77384_row0_col3\" class=\"data row0 col3\" >0.707975</td>\n",
       "    </tr>\n",
       "    <tr>\n",
       "      <td id=\"T_77384_row1_col0\" class=\"data row1 col0\" >ReleaseYear</td>\n",
       "      <td id=\"T_77384_row1_col1\" class=\"data row1 col1\" >1.643588</td>\n",
       "      <td id=\"T_77384_row1_col2\" class=\"data row1 col2\" >2.623273</td>\n",
       "      <td id=\"T_77384_row1_col3\" class=\"data row1 col3\" >0.533337</td>\n",
       "    </tr>\n",
       "    <tr>\n",
       "      <td id=\"T_77384_row2_col0\" class=\"data row2 col0\" >TotalRevenue</td>\n",
       "      <td id=\"T_77384_row2_col1\" class=\"data row2 col1\" >0.000000</td>\n",
       "      <td id=\"T_77384_row2_col2\" class=\"data row2 col2\" >0.000000</td>\n",
       "      <td id=\"T_77384_row2_col3\" class=\"data row2 col3\" >0.068719</td>\n",
       "    </tr>\n",
       "  </tbody>\n",
       "</table>\n"
      ],
      "text/plain": [
       "<pandas.io.formats.style.Styler at 0x7fce24fa2770>"
      ]
     },
     "execution_count": 77,
     "metadata": {},
     "output_type": "execute_result"
    }
   ],
   "source": [
    "result_Asia.micro_summary()"
   ]
  }
 ],
 "metadata": {
  "kernelspec": {
   "display_name": "Python 3 (ipykernel)",
   "language": "python",
   "name": "python3"
  },
  "language_info": {
   "codemirror_mode": {
    "name": "ipython",
    "version": 3
   },
   "file_extension": ".py",
   "mimetype": "text/x-python",
   "name": "python",
   "nbconvert_exporter": "python",
   "pygments_lexer": "ipython3",
   "version": "3.10.10"
  }
 },
 "nbformat": 4,
 "nbformat_minor": 4
}
