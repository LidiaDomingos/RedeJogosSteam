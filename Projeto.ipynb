{
 "cells": [
  {
   "cell_type": "markdown",
   "metadata": {},
   "source": [
    "\n",
    "## Projeto | Construido uma rede com jogos da Steam 🎮️\n",
    "\n",
    "    \n",
    "---------------------\n",
    "\n",
    "**Equipe**\n",
    "\n",
    "\n",
    " * Letícia Coêlho Barbosa       | [Github](https://github.com/leticiacb1)\n",
    " <br>\n",
    "\n",
    " * Lídia Alves Chagas Domingos  | [Github](https://github.com/LidiaDomingos)\n",
    " <br>\n",
    "\n",
    " * Lorran Caetano Lopes         | [Github](https://github.com/lorrancmlopes)\n",
    " <br>\n",
    " \n",
    " ---------------------\n",
    "\n",
    "* **Dataset escolhido** : [Jogos da Steam](https://www.kaggle.com/datasets/fronkongames/steam-games-dataset)\n",
    "  \n",
    "  \n",
    "  [Clique aqui](https://www.kaggle.com/datasets/fronkongames/steam-games-dataset) para baixar\n",
    "\n",
    "<br>\n",
    "\n",
    "* **Dataset auxiliar** : [Total Revenue Empresas]()\n",
    "  \n",
    "  \n",
    "  [Clique aqui](https://vginsights.com/publishers-database) para baixar\n",
    "\n",
    "<br>\n",
    "\n",
    "* **Dataset auxiliar | Modificado** : [Total Revenue Empresas Modificado](https://drive.google.com/file/d/1DUGhWPNJdPr30eo1oCH9RUPlG_FMHr3L/view?usp=sharing)"
   ]
  },
  {
   "cell_type": "markdown",
   "metadata": {},
   "source": [
    "### O DATASET\n",
    "\n",
    "-------\n",
    "\n",
    "O contexto do projeto engloba os jogos famosos para computadores disponíveis na Steam. Atualmente, a plataforma Steam possui aproximadamente 95 milhões de usuários no mundo todo e é sucesso entre os gamers, sendo a atual líder do mercado. \n",
    "\n",
    "\n",
    "#### Principais colunas\n",
    "<br>\n",
    "\n",
    "O dataset escolhido possui 39 colunas, nesse tópico citaremos a descrições de algumas colunas de maior interesse para analise.\n",
    "\n",
    "* **name** : nome do jogo.\n",
    "<br>\n",
    "\n",
    "* **releaseDate** : data de lançamento.\n",
    "<br>\n",
    "\n",
    "* **price** : preço do jogo.\n",
    "<br>\n",
    "\n",
    "* **metacritic_score** : media das notas dadas por avaliações de profissionais.\n",
    "<br>\n",
    "\n",
    "* **user_score** : media das notas dadas pelos usuários do jogo.\n",
    "<br>\n",
    "\n",
    "* **score_rank** : o ranke do jogo baseado nas avaliações dos usuários.\n",
    "<br>\n",
    "\n",
    "* **developers** : desenvolvedores dos jogos.\n",
    "<br>\n",
    "\n",
    "* **categories** : categoria dos jogos.\n",
    "<br>\n",
    "\n",
    "* **genres** : genero do jogo.\n",
    "<br>\n",
    "\n",
    "* **tags** : Tags do jogo.\n",
    "<br>\n",
    "\n",
    " \n",
    " ### NOSSA REDE\n",
    "\n",
    "-------\n",
    "\n",
    "* **Vértices** : Jogos da Steam.\n",
    "<br>\n",
    "\n",
    "* **Arestas**  : Existe uma aresta entre um jogo 1 e um jogo 2 se o número de tags em comum entre os jogos for superior ou igual a um **threadhold** (definido mais a frente)\n",
    "\n",
    "\n",
    " ### HIPOTESE\n",
    "\n",
    "-------\n",
    "\n",
    "\n",
    "`\"Quanto mais central é a sua posição na rede, maior a média de avaliações dos críticos profissionais.\"`\n",
    "<br>\n",
    "\n",
    "* **Variável de controle**: Tamanho da empresa.\n",
    "<br>\n",
    "\n",
    "* **Variável dependente**:  medida indicativa de centralidade do nó na rede (coreness).\n",
    "<br>\n",
    "\n",
    "* **Variável independente**: dataset[Metacritic score]\n",
    "\n",
    "\n",
    "\n",
    " ### MODELO\n",
    "\n",
    "-------\n",
    "\n",
    "` Metacrit Score ~ (Posição na Rede) + (Tamanho da Empresa) + (Ano de Lançamento) `"
   ]
  },
  {
   "cell_type": "markdown",
   "metadata": {},
   "source": [
    "### ANALISANDO OS DADOS \n",
    "\n",
    "-------"
   ]
  },
  {
   "cell_type": "code",
   "execution_count": 67,
   "metadata": {},
   "outputs": [],
   "source": [
    "# ---------------------------------\n",
    "# ------------ IMPORTS ------------\n",
    "# ---------------------------------\n",
    "\n",
    "import seaborn as sns\n",
    "from netpixi.integration.gt import *\n",
    "from regression.integration.gt import *\n",
    "import netpixi\n",
    "import pandas as pd\n",
    "\n",
    "import numpy as np\n",
    "import seaborn as sns\n",
    "import regression as reg\n",
    "\n",
    "from scipy import stats\n",
    "from matplotlib import pyplot as plt\n",
    "\n",
    "import cpnet\n",
    "from graph_tool import spectral"
   ]
  },
  {
   "cell_type": "code",
   "execution_count": 68,
   "metadata": {},
   "outputs": [],
   "source": [
    "# Grafo não direcional | Informação obtida via documentação\n",
    "g = Graph(directed=False) "
   ]
  },
  {
   "cell_type": "code",
   "execution_count": 69,
   "metadata": {
    "scrolled": false
   },
   "outputs": [
    {
     "name": "stdout",
     "output_type": "stream",
     "text": [
      "\n",
      "> Colunas : ['AppID', 'Name', 'Release date', 'Estimated owners', 'Peak CCU', 'Required age', 'Price', 'DLC count', 'About the game', 'Supported languages', 'Full audio languages', 'Reviews', 'Header image', 'Website', 'Support url', 'Support email', 'Windows', 'Mac', 'Linux', 'Metacritic score', 'Metacritic url', 'User score', 'Positive', 'Negative', 'Score rank', 'Achievements', 'Recommendations', 'Notes', 'Average playtime forever', 'Average playtime two weeks', 'Median playtime forever', 'Median playtime two weeks', 'Developers', 'Publishers', 'Categories', 'Genres', 'Tags', 'Screenshots', 'Movies']\n",
      "\n",
      "\n",
      "> Tamanho do dataset : (71716, 39)\n",
      "\n",
      "\n",
      "> Primeiras linhas dataset : \n",
      "\n"
     ]
    },
    {
     "data": {
      "text/html": [
       "<div>\n",
       "<style scoped>\n",
       "    .dataframe tbody tr th:only-of-type {\n",
       "        vertical-align: middle;\n",
       "    }\n",
       "\n",
       "    .dataframe tbody tr th {\n",
       "        vertical-align: top;\n",
       "    }\n",
       "\n",
       "    .dataframe thead th {\n",
       "        text-align: right;\n",
       "    }\n",
       "</style>\n",
       "<table border=\"1\" class=\"dataframe\">\n",
       "  <thead>\n",
       "    <tr style=\"text-align: right;\">\n",
       "      <th></th>\n",
       "      <th>AppID</th>\n",
       "      <th>Name</th>\n",
       "      <th>Release date</th>\n",
       "      <th>Estimated owners</th>\n",
       "      <th>Peak CCU</th>\n",
       "      <th>Required age</th>\n",
       "      <th>Price</th>\n",
       "      <th>DLC count</th>\n",
       "      <th>About the game</th>\n",
       "      <th>Supported languages</th>\n",
       "      <th>...</th>\n",
       "      <th>Average playtime two weeks</th>\n",
       "      <th>Median playtime forever</th>\n",
       "      <th>Median playtime two weeks</th>\n",
       "      <th>Developers</th>\n",
       "      <th>Publishers</th>\n",
       "      <th>Categories</th>\n",
       "      <th>Genres</th>\n",
       "      <th>Tags</th>\n",
       "      <th>Screenshots</th>\n",
       "      <th>Movies</th>\n",
       "    </tr>\n",
       "  </thead>\n",
       "  <tbody>\n",
       "    <tr>\n",
       "      <th>0</th>\n",
       "      <td>20200</td>\n",
       "      <td>Galactic Bowling</td>\n",
       "      <td>Oct 21, 2008</td>\n",
       "      <td>0 - 20000</td>\n",
       "      <td>0</td>\n",
       "      <td>0</td>\n",
       "      <td>19.99</td>\n",
       "      <td>0</td>\n",
       "      <td>Galactic Bowling is an exaggerated and stylize...</td>\n",
       "      <td>['English']</td>\n",
       "      <td>...</td>\n",
       "      <td>0</td>\n",
       "      <td>0</td>\n",
       "      <td>0</td>\n",
       "      <td>Perpetual FX Creative</td>\n",
       "      <td>Perpetual FX Creative</td>\n",
       "      <td>Single-player,Multi-player,Steam Achievements,...</td>\n",
       "      <td>Casual,Indie,Sports</td>\n",
       "      <td>Indie,Casual,Sports,Bowling</td>\n",
       "      <td>https://cdn.akamai.steamstatic.com/steam/apps/...</td>\n",
       "      <td>http://cdn.akamai.steamstatic.com/steam/apps/2...</td>\n",
       "    </tr>\n",
       "    <tr>\n",
       "      <th>1</th>\n",
       "      <td>655370</td>\n",
       "      <td>Train Bandit</td>\n",
       "      <td>Oct 12, 2017</td>\n",
       "      <td>0 - 20000</td>\n",
       "      <td>0</td>\n",
       "      <td>0</td>\n",
       "      <td>0.99</td>\n",
       "      <td>0</td>\n",
       "      <td>THE LAW!! Looks to be a showdown atop a train....</td>\n",
       "      <td>['English', 'French', 'Italian', 'German', 'Sp...</td>\n",
       "      <td>...</td>\n",
       "      <td>0</td>\n",
       "      <td>0</td>\n",
       "      <td>0</td>\n",
       "      <td>Rusty Moyher</td>\n",
       "      <td>Wild Rooster</td>\n",
       "      <td>Single-player,Steam Achievements,Full controll...</td>\n",
       "      <td>Action,Indie</td>\n",
       "      <td>Indie,Action,Pixel Graphics,2D,Retro,Arcade,Sc...</td>\n",
       "      <td>https://cdn.akamai.steamstatic.com/steam/apps/...</td>\n",
       "      <td>http://cdn.akamai.steamstatic.com/steam/apps/2...</td>\n",
       "    </tr>\n",
       "  </tbody>\n",
       "</table>\n",
       "<p>2 rows × 39 columns</p>\n",
       "</div>"
      ],
      "text/plain": [
       "    AppID              Name  Release date Estimated owners  Peak CCU  \\\n",
       "0   20200  Galactic Bowling  Oct 21, 2008        0 - 20000         0   \n",
       "1  655370      Train Bandit  Oct 12, 2017        0 - 20000         0   \n",
       "\n",
       "   Required age  Price  DLC count  \\\n",
       "0             0  19.99          0   \n",
       "1             0   0.99          0   \n",
       "\n",
       "                                      About the game  \\\n",
       "0  Galactic Bowling is an exaggerated and stylize...   \n",
       "1  THE LAW!! Looks to be a showdown atop a train....   \n",
       "\n",
       "                                 Supported languages  ...  \\\n",
       "0                                        ['English']  ...   \n",
       "1  ['English', 'French', 'Italian', 'German', 'Sp...  ...   \n",
       "\n",
       "  Average playtime two weeks Median playtime forever  \\\n",
       "0                          0                       0   \n",
       "1                          0                       0   \n",
       "\n",
       "  Median playtime two weeks             Developers             Publishers  \\\n",
       "0                         0  Perpetual FX Creative  Perpetual FX Creative   \n",
       "1                         0           Rusty Moyher           Wild Rooster   \n",
       "\n",
       "                                          Categories               Genres  \\\n",
       "0  Single-player,Multi-player,Steam Achievements,...  Casual,Indie,Sports   \n",
       "1  Single-player,Steam Achievements,Full controll...         Action,Indie   \n",
       "\n",
       "                                                Tags  \\\n",
       "0                        Indie,Casual,Sports,Bowling   \n",
       "1  Indie,Action,Pixel Graphics,2D,Retro,Arcade,Sc...   \n",
       "\n",
       "                                         Screenshots  \\\n",
       "0  https://cdn.akamai.steamstatic.com/steam/apps/...   \n",
       "1  https://cdn.akamai.steamstatic.com/steam/apps/...   \n",
       "\n",
       "                                              Movies  \n",
       "0  http://cdn.akamai.steamstatic.com/steam/apps/2...  \n",
       "1  http://cdn.akamai.steamstatic.com/steam/apps/2...  \n",
       "\n",
       "[2 rows x 39 columns]"
      ]
     },
     "execution_count": 69,
     "metadata": {},
     "output_type": "execute_result"
    }
   ],
   "source": [
    "# ----  Lendo o arquivo ----\n",
    "\n",
    "df_principal = pd.read_csv('games.csv')\n",
    "\n",
    "columns = [col for col in df_principal.columns]\n",
    "\n",
    "print(f\"\\n> Colunas : {columns}\\n\")\n",
    "\n",
    "print(f\"\\n> Tamanho do dataset : {df_principal.shape}\\n\")\n",
    "\n",
    "print(f\"\\n> Primeiras linhas dataset : \\n\")\n",
    "df_principal.head(2)"
   ]
  },
  {
   "cell_type": "markdown",
   "metadata": {},
   "source": [
    "\n",
    "\n",
    "#### Descrevendo melhor a coluna Metacritic score"
   ]
  },
  {
   "cell_type": "code",
   "execution_count": 70,
   "metadata": {},
   "outputs": [
    {
     "name": "stdout",
     "output_type": "stream",
     "text": [
      "\n",
      "> Valores únicos presentes:\n",
      "\n",
      " [ 0 62 64 53 84 89 70 86 40 87 92 76 51 49 81 69 72 68 52 82 59 77 79 71\n",
      " 74 73 88 47 75 66 50 63 67 80 58 90 39 78 55 85 65 91 83 57 56 44 60 61\n",
      " 48 46 23 45 94 27 38 30 35 54 41 43 32 34 93 37 36 95 42 29 24 96 20 33\n",
      " 97]\n",
      "\n",
      "\n",
      "> Distribuição dos valores :\n",
      "\n",
      " 0     67938\n",
      "80      183\n",
      "77      165\n",
      "76      164\n",
      "78      161\n",
      "      ...  \n",
      "23        1\n",
      "27        1\n",
      "24        1\n",
      "20        1\n",
      "33        1\n",
      "Name: Metacritic score, Length: 73, dtype: int64\n",
      "\n",
      "\n",
      "> Descrição:\n",
      "\n",
      "count    71716.000000\n",
      "mean         3.834207\n",
      "std         16.437707\n",
      "min          0.000000\n",
      "25%          0.000000\n",
      "50%          0.000000\n",
      "75%          0.000000\n",
      "max         97.000000\n",
      "Name: Metacritic score, dtype: float64\n",
      "\n"
     ]
    }
   ],
   "source": [
    "print(f\"\\n> Valores únicos presentes:\\n\\n {df_principal['Metacritic score'].unique()}\\n\")\n",
    "\n",
    "print(f\"\\n> Distribuição dos valores :\\n\\n {df_principal['Metacritic score'].value_counts()}\\n\")\n",
    "\n",
    "print(f\"\\n> Descrição:\\n\\n{df_principal['Metacritic score'].describe()}\\n\")"
   ]
  },
  {
   "cell_type": "markdown",
   "metadata": {},
   "source": [
    "### LIMPANDO DATASET\n",
    "\n",
    "-------"
   ]
  },
  {
   "cell_type": "code",
   "execution_count": 71,
   "metadata": {},
   "outputs": [
    {
     "name": "stdout",
     "output_type": "stream",
     "text": [
      "\n",
      "> Tamanho do dataset pós limpeza:\n",
      " (299, 40)\n",
      "\n",
      "\n",
      "> Descrição coluna Metacritic score:\n",
      "\n",
      " count    299.000000\n",
      "mean      76.963211\n",
      "std        7.544186\n",
      "min       48.000000\n",
      "25%       73.000000\n",
      "50%       78.000000\n",
      "75%       82.000000\n",
      "max       97.000000\n",
      "Name: Metacritic score, dtype: float64\n",
      "\n"
     ]
    }
   ],
   "source": [
    "# ---- Retirando alguns valores nulos ----\n",
    "\n",
    "df_principal.dropna(subset=['Tags', 'Metacritic score'], inplace=True)\n",
    "df_principal = df_principal[df_principal['Metacritic score'] != 0]\n",
    "\n",
    "\n",
    "# ---- AMOSTRAGEM para anos > 2019 e < 2023 ----\n",
    "\n",
    "df_principal = df_principal[ df_principal[\"Release date\"].map(lambda date: \n",
    "                                                              ((int(date.split(' ')[-1]) > 2020) and \n",
    "                                                               int(date.split(' ')[-1]) < 2023))== True]\n",
    "df_principal.reset_index(inplace=True, drop=True)\n",
    "\n",
    "# Adicionando coluna ReleaseYear\n",
    "df_principal[\"ReleaseYear\"] = df_principal[\"Release date\"].map(lambda date: (int(date.split(' ')[-1])))\n",
    "\n",
    "print(f\"\\n> Tamanho do dataset pós limpeza:\\n {df_principal.shape}\\n\")\n",
    "\n",
    "print(f\"\\n> Descrição coluna Metacritic score:\\n\\n {df_principal['Metacritic score'].describe()}\\n\")"
   ]
  },
  {
   "cell_type": "code",
   "execution_count": 72,
   "metadata": {},
   "outputs": [
    {
     "data": {
      "text/html": [
       "<div>\n",
       "<style scoped>\n",
       "    .dataframe tbody tr th:only-of-type {\n",
       "        vertical-align: middle;\n",
       "    }\n",
       "\n",
       "    .dataframe tbody tr th {\n",
       "        vertical-align: top;\n",
       "    }\n",
       "\n",
       "    .dataframe thead th {\n",
       "        text-align: right;\n",
       "    }\n",
       "</style>\n",
       "<table border=\"1\" class=\"dataframe\">\n",
       "  <thead>\n",
       "    <tr style=\"text-align: right;\">\n",
       "      <th></th>\n",
       "      <th>AppID</th>\n",
       "      <th>Name</th>\n",
       "      <th>Release date</th>\n",
       "      <th>Estimated owners</th>\n",
       "      <th>Peak CCU</th>\n",
       "      <th>Required age</th>\n",
       "      <th>Price</th>\n",
       "      <th>DLC count</th>\n",
       "      <th>About the game</th>\n",
       "      <th>Supported languages</th>\n",
       "      <th>...</th>\n",
       "      <th>Median playtime forever</th>\n",
       "      <th>Median playtime two weeks</th>\n",
       "      <th>Developers</th>\n",
       "      <th>Publishers</th>\n",
       "      <th>Categories</th>\n",
       "      <th>Genres</th>\n",
       "      <th>Tags</th>\n",
       "      <th>Screenshots</th>\n",
       "      <th>Movies</th>\n",
       "      <th>ReleaseYear</th>\n",
       "    </tr>\n",
       "  </thead>\n",
       "  <tbody>\n",
       "    <tr>\n",
       "      <th>0</th>\n",
       "      <td>1345820</td>\n",
       "      <td>Ragnarock</td>\n",
       "      <td>Jul 15, 2021</td>\n",
       "      <td>50000 - 100000</td>\n",
       "      <td>44</td>\n",
       "      <td>0</td>\n",
       "      <td>16.24</td>\n",
       "      <td>17</td>\n",
       "      <td>Are you ready to rock? Ragnarock is a solo/mul...</td>\n",
       "      <td>['English', 'French', 'Italian', 'German', 'Sp...</td>\n",
       "      <td>...</td>\n",
       "      <td>281</td>\n",
       "      <td>0</td>\n",
       "      <td>WanadevStudio</td>\n",
       "      <td>WanadevStudio</td>\n",
       "      <td>Single-player,Multi-player,PvP,Online PvP,Stea...</td>\n",
       "      <td>Casual,Indie,Racing,Sports</td>\n",
       "      <td>Rhythm,VR,Multiplayer,Music,Racing,PvP,Casual,...</td>\n",
       "      <td>https://cdn.akamai.steamstatic.com/steam/apps/...</td>\n",
       "      <td>http://cdn.akamai.steamstatic.com/steam/apps/2...</td>\n",
       "      <td>2021</td>\n",
       "    </tr>\n",
       "    <tr>\n",
       "      <th>1</th>\n",
       "      <td>821880</td>\n",
       "      <td>Idol Manager</td>\n",
       "      <td>Jul 26, 2021</td>\n",
       "      <td>100000 - 200000</td>\n",
       "      <td>102</td>\n",
       "      <td>0</td>\n",
       "      <td>19.99</td>\n",
       "      <td>0</td>\n",
       "      <td>You take on the role of manager at a small (bu...</td>\n",
       "      <td>['English', 'Japanese', 'Russian', 'Simplified...</td>\n",
       "      <td>...</td>\n",
       "      <td>853</td>\n",
       "      <td>0</td>\n",
       "      <td>Glitch Pitch</td>\n",
       "      <td>PLAYISM</td>\n",
       "      <td>Single-player,Steam Achievements,Steam Worksho...</td>\n",
       "      <td>Indie,Simulation,Strategy</td>\n",
       "      <td>Management,Simulation,Anime,Sexual Content,Str...</td>\n",
       "      <td>https://cdn.akamai.steamstatic.com/steam/apps/...</td>\n",
       "      <td>http://cdn.akamai.steamstatic.com/steam/apps/2...</td>\n",
       "      <td>2021</td>\n",
       "    </tr>\n",
       "  </tbody>\n",
       "</table>\n",
       "<p>2 rows × 40 columns</p>\n",
       "</div>"
      ],
      "text/plain": [
       "     AppID          Name  Release date Estimated owners  Peak CCU  \\\n",
       "0  1345820     Ragnarock  Jul 15, 2021   50000 - 100000        44   \n",
       "1   821880  Idol Manager  Jul 26, 2021  100000 - 200000       102   \n",
       "\n",
       "   Required age  Price  DLC count  \\\n",
       "0             0  16.24         17   \n",
       "1             0  19.99          0   \n",
       "\n",
       "                                      About the game  \\\n",
       "0  Are you ready to rock? Ragnarock is a solo/mul...   \n",
       "1  You take on the role of manager at a small (bu...   \n",
       "\n",
       "                                 Supported languages  ...  \\\n",
       "0  ['English', 'French', 'Italian', 'German', 'Sp...  ...   \n",
       "1  ['English', 'Japanese', 'Russian', 'Simplified...  ...   \n",
       "\n",
       "  Median playtime forever Median playtime two weeks     Developers  \\\n",
       "0                     281                         0  WanadevStudio   \n",
       "1                     853                         0   Glitch Pitch   \n",
       "\n",
       "      Publishers                                         Categories  \\\n",
       "0  WanadevStudio  Single-player,Multi-player,PvP,Online PvP,Stea...   \n",
       "1        PLAYISM  Single-player,Steam Achievements,Steam Worksho...   \n",
       "\n",
       "                       Genres  \\\n",
       "0  Casual,Indie,Racing,Sports   \n",
       "1   Indie,Simulation,Strategy   \n",
       "\n",
       "                                                Tags  \\\n",
       "0  Rhythm,VR,Multiplayer,Music,Racing,PvP,Casual,...   \n",
       "1  Management,Simulation,Anime,Sexual Content,Str...   \n",
       "\n",
       "                                         Screenshots  \\\n",
       "0  https://cdn.akamai.steamstatic.com/steam/apps/...   \n",
       "1  https://cdn.akamai.steamstatic.com/steam/apps/...   \n",
       "\n",
       "                                              Movies  ReleaseYear  \n",
       "0  http://cdn.akamai.steamstatic.com/steam/apps/2...         2021  \n",
       "1  http://cdn.akamai.steamstatic.com/steam/apps/2...         2021  \n",
       "\n",
       "[2 rows x 40 columns]"
      ]
     },
     "execution_count": 72,
     "metadata": {},
     "output_type": "execute_result"
    }
   ],
   "source": [
    "df_principal.head(2)"
   ]
  },
  {
   "cell_type": "markdown",
   "metadata": {},
   "source": [
    "### ADICIONANDO DATASET AUXILIAR\n",
    "\n",
    "---"
   ]
  },
  {
   "cell_type": "code",
   "execution_count": 73,
   "metadata": {},
   "outputs": [
    {
     "data": {
      "text/html": [
       "<div>\n",
       "<style scoped>\n",
       "    .dataframe tbody tr th:only-of-type {\n",
       "        vertical-align: middle;\n",
       "    }\n",
       "\n",
       "    .dataframe tbody tr th {\n",
       "        vertical-align: top;\n",
       "    }\n",
       "\n",
       "    .dataframe thead th {\n",
       "        text-align: right;\n",
       "    }\n",
       "</style>\n",
       "<table border=\"1\" class=\"dataframe\">\n",
       "  <thead>\n",
       "    <tr style=\"text-align: right;\">\n",
       "      <th></th>\n",
       "      <th>Name</th>\n",
       "      <th>Total revenue</th>\n",
       "    </tr>\n",
       "  </thead>\n",
       "  <tbody>\n",
       "    <tr>\n",
       "      <th>0</th>\n",
       "      <td>Ubisoft</td>\n",
       "      <td>2.500000e+09</td>\n",
       "    </tr>\n",
       "    <tr>\n",
       "      <th>1</th>\n",
       "      <td>Valve</td>\n",
       "      <td>2.400000e+09</td>\n",
       "    </tr>\n",
       "    <tr>\n",
       "      <th>2</th>\n",
       "      <td>2K</td>\n",
       "      <td>2.300000e+09</td>\n",
       "    </tr>\n",
       "    <tr>\n",
       "      <th>3</th>\n",
       "      <td>Electronic Arts</td>\n",
       "      <td>2.100000e+09</td>\n",
       "    </tr>\n",
       "    <tr>\n",
       "      <th>4</th>\n",
       "      <td>SEGA</td>\n",
       "      <td>2.100000e+09</td>\n",
       "    </tr>\n",
       "  </tbody>\n",
       "</table>\n",
       "</div>"
      ],
      "text/plain": [
       "              Name  Total revenue\n",
       "0          Ubisoft   2.500000e+09\n",
       "1            Valve   2.400000e+09\n",
       "2               2K   2.300000e+09\n",
       "3  Electronic Arts   2.100000e+09\n",
       "4             SEGA   2.100000e+09"
      ]
     },
     "execution_count": 73,
     "metadata": {},
     "output_type": "execute_result"
    }
   ],
   "source": [
    "df_total_revenue = pd.read_csv('total_revenue.csv')\n",
    "df_total_revenue.head()"
   ]
  },
  {
   "cell_type": "code",
   "execution_count": 74,
   "metadata": {},
   "outputs": [
    {
     "name": "stdout",
     "output_type": "stream",
     "text": [
      "Worldwalker Games LLC,WhisperGames\n",
      "Running With Scissors,Hyperstrange\n",
      "Mixed Realms Pte Ltd,Coconut Island Games\n",
      "Humble Games,WhisperGames\n",
      "Foreign Gnomes,Surefire.Games\n",
      "CAPCOM Co., Ltd.\n",
      "Digixart,Ravenscourt\n",
      "United Label,CI Games\n",
      "Merge Games,Maple Whispering Limited\n",
      "EXOR Studios,Surefire.Games\n",
      "META Publishing,Owlcat Games\n",
      "Modern Wolf,Fractale,WhisperGames\n",
      "FromSoftware Inc.,Bandai Namco Entertainment\n",
      "Games Operators,Modus Games\n",
      "Assemble Entertainment,WhisperGames,Mayflower Entertainment\n",
      "DANGEN Entertainment,Gamera Games,Intragames\n",
      "SEGA,Feral Interactive\n",
      "Fishing Cactus,PID Games,2PGames\n",
      "Sneaky Yak Studio,WhisperGames\n",
      "Movie Games S.A.,HeartBeat Games\n",
      "XSEED Games,Marvelous USA, Inc.,Marvelous\n",
      "Canada Media Fund,Ontario Creates,The Games Institute\n",
      "JanduSoft,Game Seer Ventures\n",
      "M-Theory,Oddboy\n",
      "Ravenscourt,Maple Whispering Limited\n",
      "Warner Bros. Games,Warner Bros. Interactive Entertainment\n",
      "Future Friends Games,StudioInkyfox\n",
      "Whitethorn Games,Gamious\n",
      "Rose City Games,wiip\n",
      "Freedom Games,Maple Whispering Limited\n",
      "Maze Theory,Another Indie\n",
      "Whitethorn Games,WhisperGames\n",
      "HypeTrain Digital,RedRuins Softworks\n"
     ]
    }
   ],
   "source": [
    "ausentes = []\n",
    "presentes = []\n",
    "\n",
    "# Verificando se cada valor da coluna do df1 está presente no df2\n",
    "for publi in df_principal['Publishers'].tolist():\n",
    "    if publi.lower() not in [name.lower() for name in df_total_revenue[\"Name\"].tolist()]:\n",
    "        if publi.lower() not in [name.lower() for name in ausentes]:\n",
    "            print(publi)\n",
    "            ausentes.append(publi)\n",
    "    else:\n",
    "        if publi.lower() not in [name.lower() for name in presentes]:\n",
    "            presentes.append(publi)   "
   ]
  },
  {
   "cell_type": "markdown",
   "metadata": {},
   "source": [
    "#### Vamos considerar que, quando há mais de um publisher por jogo, o valor a ser inserido na nova coluna \"Total revenue\" será a soma do total revenue de cada publisher."
   ]
  },
  {
   "cell_type": "code",
   "execution_count": 75,
   "metadata": {},
   "outputs": [],
   "source": [
    " # Verificar se cada valor da coluna 'Publishers' do df_principal está presente no df_total_revenue\n",
    "for index, row in df_principal.iterrows():\n",
    "    publishers = row['Publishers']\n",
    "    total_revenue = 0\n",
    "    \n",
    "    # Verificar se o valor de 'publishers' está presente na coluna 'Name' do df_total_revenue\n",
    "    for name in publishers.split(','):\n",
    "        mask = df_total_revenue['Name'].str.lower() == name.lower().strip()\n",
    "        revenue = df_total_revenue.loc[mask, 'Total revenue'].sum()\n",
    "        total_revenue += revenue\n",
    "    \n",
    "    # Inserir o valor total de receita na coluna 'Total revenue' do df_principal\n",
    "    df_principal.at[index, 'Total revenue'] = total_revenue"
   ]
  },
  {
   "cell_type": "code",
   "execution_count": 76,
   "metadata": {},
   "outputs": [
    {
     "data": {
      "text/html": [
       "<div>\n",
       "<style scoped>\n",
       "    .dataframe tbody tr th:only-of-type {\n",
       "        vertical-align: middle;\n",
       "    }\n",
       "\n",
       "    .dataframe tbody tr th {\n",
       "        vertical-align: top;\n",
       "    }\n",
       "\n",
       "    .dataframe thead th {\n",
       "        text-align: right;\n",
       "    }\n",
       "</style>\n",
       "<table border=\"1\" class=\"dataframe\">\n",
       "  <thead>\n",
       "    <tr style=\"text-align: right;\">\n",
       "      <th></th>\n",
       "      <th>AppID</th>\n",
       "      <th>Name</th>\n",
       "      <th>Release date</th>\n",
       "      <th>Estimated owners</th>\n",
       "      <th>Peak CCU</th>\n",
       "      <th>Required age</th>\n",
       "      <th>Price</th>\n",
       "      <th>DLC count</th>\n",
       "      <th>About the game</th>\n",
       "      <th>Supported languages</th>\n",
       "      <th>...</th>\n",
       "      <th>Median playtime two weeks</th>\n",
       "      <th>Developers</th>\n",
       "      <th>Publishers</th>\n",
       "      <th>Categories</th>\n",
       "      <th>Genres</th>\n",
       "      <th>Tags</th>\n",
       "      <th>Screenshots</th>\n",
       "      <th>Movies</th>\n",
       "      <th>ReleaseYear</th>\n",
       "      <th>Total revenue</th>\n",
       "    </tr>\n",
       "  </thead>\n",
       "  <tbody>\n",
       "    <tr>\n",
       "      <th>0</th>\n",
       "      <td>1345820</td>\n",
       "      <td>Ragnarock</td>\n",
       "      <td>Jul 15, 2021</td>\n",
       "      <td>50000 - 100000</td>\n",
       "      <td>44</td>\n",
       "      <td>0</td>\n",
       "      <td>16.24</td>\n",
       "      <td>17</td>\n",
       "      <td>Are you ready to rock? Ragnarock is a solo/mul...</td>\n",
       "      <td>['English', 'French', 'Italian', 'German', 'Sp...</td>\n",
       "      <td>...</td>\n",
       "      <td>0</td>\n",
       "      <td>WanadevStudio</td>\n",
       "      <td>WanadevStudio</td>\n",
       "      <td>Single-player,Multi-player,PvP,Online PvP,Stea...</td>\n",
       "      <td>Casual,Indie,Racing,Sports</td>\n",
       "      <td>Rhythm,VR,Multiplayer,Music,Racing,PvP,Casual,...</td>\n",
       "      <td>https://cdn.akamai.steamstatic.com/steam/apps/...</td>\n",
       "      <td>http://cdn.akamai.steamstatic.com/steam/apps/2...</td>\n",
       "      <td>2021</td>\n",
       "      <td>1200000.0</td>\n",
       "    </tr>\n",
       "    <tr>\n",
       "      <th>1</th>\n",
       "      <td>821880</td>\n",
       "      <td>Idol Manager</td>\n",
       "      <td>Jul 26, 2021</td>\n",
       "      <td>100000 - 200000</td>\n",
       "      <td>102</td>\n",
       "      <td>0</td>\n",
       "      <td>19.99</td>\n",
       "      <td>0</td>\n",
       "      <td>You take on the role of manager at a small (bu...</td>\n",
       "      <td>['English', 'Japanese', 'Russian', 'Simplified...</td>\n",
       "      <td>...</td>\n",
       "      <td>0</td>\n",
       "      <td>Glitch Pitch</td>\n",
       "      <td>PLAYISM</td>\n",
       "      <td>Single-player,Steam Achievements,Steam Worksho...</td>\n",
       "      <td>Indie,Simulation,Strategy</td>\n",
       "      <td>Management,Simulation,Anime,Sexual Content,Str...</td>\n",
       "      <td>https://cdn.akamai.steamstatic.com/steam/apps/...</td>\n",
       "      <td>http://cdn.akamai.steamstatic.com/steam/apps/2...</td>\n",
       "      <td>2021</td>\n",
       "      <td>58600000.0</td>\n",
       "    </tr>\n",
       "  </tbody>\n",
       "</table>\n",
       "<p>2 rows × 41 columns</p>\n",
       "</div>"
      ],
      "text/plain": [
       "     AppID          Name  Release date Estimated owners  Peak CCU  \\\n",
       "0  1345820     Ragnarock  Jul 15, 2021   50000 - 100000        44   \n",
       "1   821880  Idol Manager  Jul 26, 2021  100000 - 200000       102   \n",
       "\n",
       "   Required age  Price  DLC count  \\\n",
       "0             0  16.24         17   \n",
       "1             0  19.99          0   \n",
       "\n",
       "                                      About the game  \\\n",
       "0  Are you ready to rock? Ragnarock is a solo/mul...   \n",
       "1  You take on the role of manager at a small (bu...   \n",
       "\n",
       "                                 Supported languages  ...  \\\n",
       "0  ['English', 'French', 'Italian', 'German', 'Sp...  ...   \n",
       "1  ['English', 'Japanese', 'Russian', 'Simplified...  ...   \n",
       "\n",
       "  Median playtime two weeks     Developers     Publishers  \\\n",
       "0                         0  WanadevStudio  WanadevStudio   \n",
       "1                         0   Glitch Pitch        PLAYISM   \n",
       "\n",
       "                                          Categories  \\\n",
       "0  Single-player,Multi-player,PvP,Online PvP,Stea...   \n",
       "1  Single-player,Steam Achievements,Steam Worksho...   \n",
       "\n",
       "                       Genres  \\\n",
       "0  Casual,Indie,Racing,Sports   \n",
       "1   Indie,Simulation,Strategy   \n",
       "\n",
       "                                                Tags  \\\n",
       "0  Rhythm,VR,Multiplayer,Music,Racing,PvP,Casual,...   \n",
       "1  Management,Simulation,Anime,Sexual Content,Str...   \n",
       "\n",
       "                                         Screenshots  \\\n",
       "0  https://cdn.akamai.steamstatic.com/steam/apps/...   \n",
       "1  https://cdn.akamai.steamstatic.com/steam/apps/...   \n",
       "\n",
       "                                              Movies  ReleaseYear  \\\n",
       "0  http://cdn.akamai.steamstatic.com/steam/apps/2...         2021   \n",
       "1  http://cdn.akamai.steamstatic.com/steam/apps/2...         2021   \n",
       "\n",
       "   Total revenue  \n",
       "0      1200000.0  \n",
       "1     58600000.0  \n",
       "\n",
       "[2 rows x 41 columns]"
      ]
     },
     "execution_count": 76,
     "metadata": {},
     "output_type": "execute_result"
    }
   ],
   "source": [
    "# ------ Dataset original com a adição do dataset auxiliar ------\n",
    "df_principal.head(2)"
   ]
  },
  {
   "cell_type": "markdown",
   "metadata": {},
   "source": [
    "### Tags\n",
    "\n",
    "-------"
   ]
  },
  {
   "cell_type": "code",
   "execution_count": 77,
   "metadata": {},
   "outputs": [
    {
     "name": "stdout",
     "output_type": "stream",
     "text": [
      "\n",
      "> dataset[Tags] como lista:\n",
      "\n",
      "0      [Rhythm, VR, Multiplayer, Music, Racing, PvP, ...\n",
      "1      [Management, Simulation, Anime, Sexual Content...\n",
      "2      [Casual, Simulation, Strategy, Indie, Manageme...\n",
      "3      [Puzzle, Difficult, Indie, Singleplayer, Sokob...\n",
      "4      [RPG, Choices Matter, Story Rich, Detective, T...\n",
      "                             ...                        \n",
      "294    [Strategy, Post-apocalyptic, Survival, Colony ...\n",
      "295    [Atmospheric, Resource Management, Simulation,...\n",
      "296    [Metroidvania, Female Protagonist, Shoot 'Em U...\n",
      "297    [Colony Sim, Indie, Pixel Graphics, Simulation...\n",
      "298    [Indie, Rhythm, Action, Hand-drawn, Colorful, ...\n",
      "Name: Tags, Length: 299, dtype: object\n"
     ]
    }
   ],
   "source": [
    "# ---- Tranforma a coluna de Tags em lista ----\n",
    "\n",
    "df_principal['Tags'] = df_principal.Tags.apply(lambda x: str(x).split(','))\n",
    "print(f\"\\n> dataset[Tags] como lista:\\n\\n{df_principal['Tags']}\")\n"
   ]
  },
  {
   "cell_type": "markdown",
   "metadata": {},
   "source": [
    "### Montando os Nós da Rede\n",
    "\n",
    "-------"
   ]
  },
  {
   "cell_type": "code",
   "execution_count": 78,
   "metadata": {},
   "outputs": [
    {
     "data": {
      "text/html": [
       "<div>\n",
       "<style scoped>\n",
       "    .dataframe tbody tr th:only-of-type {\n",
       "        vertical-align: middle;\n",
       "    }\n",
       "\n",
       "    .dataframe tbody tr th {\n",
       "        vertical-align: top;\n",
       "    }\n",
       "\n",
       "    .dataframe thead th {\n",
       "        text-align: right;\n",
       "    }\n",
       "</style>\n",
       "<table border=\"1\" class=\"dataframe\">\n",
       "  <thead>\n",
       "    <tr style=\"text-align: right;\">\n",
       "      <th></th>\n",
       "      <th>id</th>\n",
       "      <th>Tags</th>\n",
       "      <th>MetacriticScore</th>\n",
       "      <th>TotalRevenue</th>\n",
       "      <th>ReleaseYear</th>\n",
       "    </tr>\n",
       "  </thead>\n",
       "  <tbody>\n",
       "    <tr>\n",
       "      <th>0</th>\n",
       "      <td>0</td>\n",
       "      <td>[Rhythm, VR, Multiplayer, Music, Racing, PvP, ...</td>\n",
       "      <td>87</td>\n",
       "      <td>1.200000e+06</td>\n",
       "      <td>2021</td>\n",
       "    </tr>\n",
       "    <tr>\n",
       "      <th>1</th>\n",
       "      <td>1</td>\n",
       "      <td>[Management, Simulation, Anime, Sexual Content...</td>\n",
       "      <td>73</td>\n",
       "      <td>5.860000e+07</td>\n",
       "      <td>2021</td>\n",
       "    </tr>\n",
       "    <tr>\n",
       "      <th>2</th>\n",
       "      <td>2</td>\n",
       "      <td>[Casual, Simulation, Strategy, Indie, Manageme...</td>\n",
       "      <td>87</td>\n",
       "      <td>9.100000e+06</td>\n",
       "      <td>2021</td>\n",
       "    </tr>\n",
       "    <tr>\n",
       "      <th>3</th>\n",
       "      <td>3</td>\n",
       "      <td>[Puzzle, Difficult, Indie, Singleplayer, Sokob...</td>\n",
       "      <td>76</td>\n",
       "      <td>2.610500e+01</td>\n",
       "      <td>2021</td>\n",
       "    </tr>\n",
       "    <tr>\n",
       "      <th>4</th>\n",
       "      <td>4</td>\n",
       "      <td>[RPG, Choices Matter, Story Rich, Detective, T...</td>\n",
       "      <td>67</td>\n",
       "      <td>2.640000e+07</td>\n",
       "      <td>2021</td>\n",
       "    </tr>\n",
       "    <tr>\n",
       "      <th>...</th>\n",
       "      <td>...</td>\n",
       "      <td>...</td>\n",
       "      <td>...</td>\n",
       "      <td>...</td>\n",
       "      <td>...</td>\n",
       "    </tr>\n",
       "    <tr>\n",
       "      <th>294</th>\n",
       "      <td>294</td>\n",
       "      <td>[Strategy, Post-apocalyptic, Survival, Colony ...</td>\n",
       "      <td>76</td>\n",
       "      <td>3.120000e+07</td>\n",
       "      <td>2022</td>\n",
       "    </tr>\n",
       "    <tr>\n",
       "      <th>295</th>\n",
       "      <td>295</td>\n",
       "      <td>[Atmospheric, Resource Management, Simulation,...</td>\n",
       "      <td>78</td>\n",
       "      <td>4.540000e+07</td>\n",
       "      <td>2022</td>\n",
       "    </tr>\n",
       "    <tr>\n",
       "      <th>296</th>\n",
       "      <td>296</td>\n",
       "      <td>[Metroidvania, Female Protagonist, Shoot 'Em U...</td>\n",
       "      <td>82</td>\n",
       "      <td>2.238000e+08</td>\n",
       "      <td>2022</td>\n",
       "    </tr>\n",
       "    <tr>\n",
       "      <th>297</th>\n",
       "      <td>297</td>\n",
       "      <td>[Colony Sim, Indie, Pixel Graphics, Simulation...</td>\n",
       "      <td>93</td>\n",
       "      <td>2.140000e+07</td>\n",
       "      <td>2022</td>\n",
       "    </tr>\n",
       "    <tr>\n",
       "      <th>298</th>\n",
       "      <td>298</td>\n",
       "      <td>[Indie, Rhythm, Action, Hand-drawn, Colorful, ...</td>\n",
       "      <td>81</td>\n",
       "      <td>8.810000e+05</td>\n",
       "      <td>2022</td>\n",
       "    </tr>\n",
       "  </tbody>\n",
       "</table>\n",
       "<p>299 rows × 5 columns</p>\n",
       "</div>"
      ],
      "text/plain": [
       "      id                                               Tags  MetacriticScore  \\\n",
       "0      0  [Rhythm, VR, Multiplayer, Music, Racing, PvP, ...               87   \n",
       "1      1  [Management, Simulation, Anime, Sexual Content...               73   \n",
       "2      2  [Casual, Simulation, Strategy, Indie, Manageme...               87   \n",
       "3      3  [Puzzle, Difficult, Indie, Singleplayer, Sokob...               76   \n",
       "4      4  [RPG, Choices Matter, Story Rich, Detective, T...               67   \n",
       "..   ...                                                ...              ...   \n",
       "294  294  [Strategy, Post-apocalyptic, Survival, Colony ...               76   \n",
       "295  295  [Atmospheric, Resource Management, Simulation,...               78   \n",
       "296  296  [Metroidvania, Female Protagonist, Shoot 'Em U...               82   \n",
       "297  297  [Colony Sim, Indie, Pixel Graphics, Simulation...               93   \n",
       "298  298  [Indie, Rhythm, Action, Hand-drawn, Colorful, ...               81   \n",
       "\n",
       "     TotalRevenue  ReleaseYear  \n",
       "0    1.200000e+06         2021  \n",
       "1    5.860000e+07         2021  \n",
       "2    9.100000e+06         2021  \n",
       "3    2.610500e+01         2021  \n",
       "4    2.640000e+07         2021  \n",
       "..            ...          ...  \n",
       "294  3.120000e+07         2022  \n",
       "295  4.540000e+07         2022  \n",
       "296  2.238000e+08         2022  \n",
       "297  2.140000e+07         2022  \n",
       "298  8.810000e+05         2022  \n",
       "\n",
       "[299 rows x 5 columns]"
      ]
     },
     "execution_count": 78,
     "metadata": {},
     "output_type": "execute_result"
    }
   ],
   "source": [
    "id = 0\n",
    "unique_name_values = df_principal['Name'].unique().tolist()\n",
    "node_data = []\n",
    "\n",
    "for _ , linha in  df_principal.iterrows():\n",
    "    \n",
    "    if(linha['Name'] in unique_name_values):\n",
    "        node_data.append([id ,linha['Tags'], linha['Metacritic score'] , linha['Total revenue'], linha['ReleaseYear']])\n",
    "        id+=1\n",
    "\n",
    "df_nodes = pd.DataFrame(node_data,columns=['id','Tags', 'MetacriticScore' , 'TotalRevenue' , 'ReleaseYear']) \n",
    "df_nodes"
   ]
  },
  {
   "cell_type": "code",
   "execution_count": 79,
   "metadata": {},
   "outputs": [],
   "source": [
    "# ---- Criando os nós e adiciona atributos aos nós ----\n",
    "\n",
    "g.add_vp('MetacriticScore')\n",
    "\n",
    "aux = []\n",
    "for _, infos in df_nodes.iterrows():\n",
    "    \n",
    "    #Adiciona vértices:\n",
    "    infos = infos.astype(object)\n",
    "    g.add_vertex(infos['id'])\n",
    "    \n",
    "    # Adiciona atributos:\n",
    "    vertice = g.get_vertex(infos['id'])\n",
    "    vertice['MetacriticScore'] = infos['MetacriticScore']"
   ]
  },
  {
   "cell_type": "markdown",
   "metadata": {},
   "source": [
    "### Montando as Arestas da Rede\n",
    "\n",
    "-------"
   ]
  },
  {
   "cell_type": "code",
   "execution_count": 80,
   "metadata": {},
   "outputs": [],
   "source": [
    "def count_tags(lista_tags_1, lista_tags_2):\n",
    "    '''\n",
    "    Retorna o número de tags em comum entre duas listas\n",
    "    '''    \n",
    "    count_common_tags = 0\n",
    "        \n",
    "    for tag1 in lista_tags_1:\n",
    "        for tag2 in lista_tags_2:\n",
    "            \n",
    "            if(tag1 == tag2):\n",
    "                count_common_tags+=1\n",
    "    \n",
    "    return count_common_tags"
   ]
  },
  {
   "cell_type": "code",
   "execution_count": 81,
   "metadata": {},
   "outputs": [
    {
     "data": {
      "text/html": [
       "<div>\n",
       "<style scoped>\n",
       "    .dataframe tbody tr th:only-of-type {\n",
       "        vertical-align: middle;\n",
       "    }\n",
       "\n",
       "    .dataframe tbody tr th {\n",
       "        vertical-align: top;\n",
       "    }\n",
       "\n",
       "    .dataframe thead th {\n",
       "        text-align: right;\n",
       "    }\n",
       "</style>\n",
       "<table border=\"1\" class=\"dataframe\">\n",
       "  <thead>\n",
       "    <tr style=\"text-align: right;\">\n",
       "      <th></th>\n",
       "      <th>node_1</th>\n",
       "      <th>node_2</th>\n",
       "      <th>Tags_em_Comum</th>\n",
       "    </tr>\n",
       "  </thead>\n",
       "  <tbody>\n",
       "    <tr>\n",
       "      <th>0</th>\n",
       "      <td>91</td>\n",
       "      <td>205</td>\n",
       "      <td>9</td>\n",
       "    </tr>\n",
       "    <tr>\n",
       "      <th>1</th>\n",
       "      <td>42</td>\n",
       "      <td>287</td>\n",
       "      <td>2</td>\n",
       "    </tr>\n",
       "    <tr>\n",
       "      <th>2</th>\n",
       "      <td>148</td>\n",
       "      <td>199</td>\n",
       "      <td>1</td>\n",
       "    </tr>\n",
       "    <tr>\n",
       "      <th>3</th>\n",
       "      <td>103</td>\n",
       "      <td>166</td>\n",
       "      <td>5</td>\n",
       "    </tr>\n",
       "    <tr>\n",
       "      <th>4</th>\n",
       "      <td>107</td>\n",
       "      <td>236</td>\n",
       "      <td>5</td>\n",
       "    </tr>\n",
       "    <tr>\n",
       "      <th>...</th>\n",
       "      <td>...</td>\n",
       "      <td>...</td>\n",
       "      <td>...</td>\n",
       "    </tr>\n",
       "    <tr>\n",
       "      <th>44546</th>\n",
       "      <td>18</td>\n",
       "      <td>267</td>\n",
       "      <td>1</td>\n",
       "    </tr>\n",
       "    <tr>\n",
       "      <th>44547</th>\n",
       "      <td>132</td>\n",
       "      <td>231</td>\n",
       "      <td>1</td>\n",
       "    </tr>\n",
       "    <tr>\n",
       "      <th>44548</th>\n",
       "      <td>104</td>\n",
       "      <td>187</td>\n",
       "      <td>4</td>\n",
       "    </tr>\n",
       "    <tr>\n",
       "      <th>44549</th>\n",
       "      <td>88</td>\n",
       "      <td>98</td>\n",
       "      <td>3</td>\n",
       "    </tr>\n",
       "    <tr>\n",
       "      <th>44550</th>\n",
       "      <td>88</td>\n",
       "      <td>273</td>\n",
       "      <td>4</td>\n",
       "    </tr>\n",
       "  </tbody>\n",
       "</table>\n",
       "<p>44551 rows × 3 columns</p>\n",
       "</div>"
      ],
      "text/plain": [
       "       node_1  node_2  Tags_em_Comum\n",
       "0          91     205              9\n",
       "1          42     287              2\n",
       "2         148     199              1\n",
       "3         103     166              5\n",
       "4         107     236              5\n",
       "...       ...     ...            ...\n",
       "44546      18     267              1\n",
       "44547     132     231              1\n",
       "44548     104     187              4\n",
       "44549      88      98              3\n",
       "44550      88     273              4\n",
       "\n",
       "[44551 rows x 3 columns]"
      ]
     },
     "execution_count": 81,
     "metadata": {},
     "output_type": "execute_result"
    }
   ],
   "source": [
    "node_relation = set()\n",
    "data_relation = set()\n",
    "\n",
    "for _, linha1 in df_nodes.iterrows():\n",
    "    for _,linha2 in df_nodes.iterrows():\n",
    "        \n",
    "        proximidade = 0\n",
    "        \n",
    "        if(( (linha1['id'] , linha2['id']) not in node_relation) and \n",
    "           ( (linha2['id'] , linha1['id']) not in node_relation) and (linha2['id'] != linha1['id'])):\n",
    "            \n",
    "            # Calculando TAGS em comum\n",
    "            proximidade = count_tags(linha1['Tags'], linha2['Tags'])\n",
    "            \n",
    "            # Adiciona valor na relação de nós:\n",
    "            node_relation.add((linha1['id'] , linha2['id']))\n",
    "        \n",
    "            data_relation.add((linha1['id'], linha2['id'], proximidade))\n",
    "            \n",
    "df_relation = pd.DataFrame(data_relation,columns=['node_1', 'node_2' , 'Tags_em_Comum'] ) \n",
    "df_relation"
   ]
  },
  {
   "cell_type": "markdown",
   "metadata": {},
   "source": [
    "#### Threadhold para a construção das Arestas"
   ]
  },
  {
   "cell_type": "code",
   "execution_count": 82,
   "metadata": {},
   "outputs": [
    {
     "data": {
      "image/png": "[encoded data removed]",
      "text/plain": [
       "<Figure size 640x480 with 1 Axes>"
      ]
     },
     "metadata": {},
     "output_type": "display_data"
    }
   ],
   "source": [
    "df_relation['Tags_em_Comum'][df_relation['Tags_em_Comum'] != 0].value_counts().plot(kind='bar');"
   ]
  },
  {
   "cell_type": "code",
   "execution_count": 83,
   "metadata": {},
   "outputs": [
    {
     "name": "stdout",
     "output_type": "stream",
     "text": [
      "\n",
      "> Threshold num_tags para arestas :  4\n",
      "\n"
     ]
    }
   ],
   "source": [
    "# ---- Escolhendo threshold para a criação das arestas a depender da distribuição ----\n",
    "\n",
    "list_num_tags = df_relation['Tags_em_Comum'][df_relation['Tags_em_Comum'] != 0].value_counts().index\n",
    "lista_num_jogos = df_relation['Tags_em_Comum'][df_relation['Tags_em_Comum'] != 0].value_counts().values\n",
    "\n",
    "def media_ponderada(lista_pesos , lista_valor):\n",
    "    \n",
    "    nominador = 0\n",
    "    denominador = sum(lista_pesos)\n",
    "    \n",
    "    for num_tags , num_jogos in zip(list_num_tags , lista_num_jogos):\n",
    "        nominador += num_tags*num_jogos\n",
    "        \n",
    "    return nominador/denominador\n",
    "        \n",
    "threshold_proximidade = media_ponderada(lista_num_jogos , list_num_tags)\n",
    "\n",
    "print(f\"\\n> Threshold num_tags para arestas :  {round(threshold_proximidade)}\\n\")"
   ]
  },
  {
   "cell_type": "code",
   "execution_count": 84,
   "metadata": {},
   "outputs": [],
   "source": [
    "# ---- Criando arestas ----\n",
    "\n",
    "for _ , relacao in df_relation.iterrows():\n",
    "    \n",
    "    if(relacao['Tags_em_Comum'] > threshold_proximidade):\n",
    "        g.add_edge(relacao['node_1'], relacao['node_2'])"
   ]
  },
  {
   "cell_type": "markdown",
   "metadata": {},
   "source": [
    "### Métricas da Rede\n",
    "\n",
    "-------"
   ]
  },
  {
   "cell_type": "code",
   "execution_count": 85,
   "metadata": {},
   "outputs": [
    {
     "name": "stdout",
     "output_type": "stream",
     "text": [
      "\n",
      " > Número de vértices de g: 299\n",
      "\n",
      " > Número de arestas de g: 22331\n",
      "\n",
      " > Densidade: 0.5012457632825301\n"
     ]
    }
   ],
   "source": [
    "# ---- Número de arestas, nós e densidade ----\n",
    "\n",
    "n = g.num_vertices()\n",
    "m = g.num_edges()\n",
    "\n",
    "if g.is_directed():\n",
    "    max_edges = n * (n - 1)\n",
    "else:\n",
    "    max_edges = n * (n - 1) // 2\n",
    "d = m / max_edges\n",
    "\n",
    "print('\\n > Número de vértices de g:', n )\n",
    "print('\\n > Número de arestas de g:', m)\n",
    "print('\\n > Densidade:', d)"
   ]
  },
  {
   "cell_type": "markdown",
   "metadata": {},
   "source": [
    "### Calculando Degree\n",
    "\n",
    "-------"
   ]
  },
  {
   "cell_type": "code",
   "execution_count": 86,
   "metadata": {},
   "outputs": [
    {
     "data": {
      "text/plain": [
       "count    299.000000\n",
       "mean     149.371237\n",
       "std       53.975628\n",
       "min        2.000000\n",
       "25%      108.000000\n",
       "50%      159.000000\n",
       "75%      193.500000\n",
       "max      252.000000\n",
       "Name: degree, dtype: float64"
      ]
     },
     "execution_count": 86,
     "metadata": {},
     "output_type": "execute_result"
    }
   ],
   "source": [
    "# Propriedade dos vértices\n",
    "data = gt_data(g)\n",
    "\n",
    "# Calculando degrees\n",
    "in_degrees = []\n",
    "out_degrees = []\n",
    "degrees = []\n",
    "\n",
    "for v in g.all_vertices():\n",
    "    in_degrees.append(v.in_degree())\n",
    "for v in g.all_vertices():\n",
    "    out_degrees.append(v.out_degree())\n",
    "for v in g.all_vertices():\n",
    "    degrees.append(v.total_degree())\n",
    "    \n",
    "data['in_degree'] = in_degrees\n",
    "data['out_degree'] = out_degrees\n",
    "data['degree'] = degrees\n",
    "data['degree'].describe()"
   ]
  },
  {
   "cell_type": "code",
   "execution_count": 87,
   "metadata": {},
   "outputs": [
    {
     "data": {
      "text/plain": [
       "<AxesSubplot: xlabel='degree', ylabel='Count'>"
      ]
     },
     "execution_count": 87,
     "metadata": {},
     "output_type": "execute_result"
    },
    {
     "data": {
      "image/png": "[encoded data removed]",
      "text/plain": [
       "<Figure size 640x480 with 1 Axes>"
      ]
     },
     "metadata": {},
     "output_type": "display_data"
    }
   ],
   "source": [
    "sns.histplot(data['degree'])"
   ]
  },
  {
   "cell_type": "markdown",
   "metadata": {},
   "source": [
    "### Grafo\n",
    "\n",
    "-------"
   ]
  },
  {
   "cell_type": "code",
   "execution_count": 92,
   "metadata": {
    "collapsed": true
   },
   "outputs": [
    {
     "data": {
      "text/html": [
       "\n",
       "        <div id=\"7KEirJ6Du3QUrecoVSpuUF\"></div>\n",
       "        <script>netpixi.render('7KEirJ6Du3QUrecoVSpuUF', '/projeto.net.gz', 1.7777777777777777, true, false, false);</script>\n",
       "    "
      ],
      "text/plain": [
       "<IPython.core.display.HTML object>"
      ]
     },
     "metadata": {},
     "output_type": "display_data"
    }
   ],
   "source": [
    "# ----- Salva e renderiza grafo -----\n",
    "gt_save(g, 'projeto.net.gz')\n",
    "\n",
    "r = netpixi.render('/projeto.net.gz')"
   ]
  },
  {
   "cell_type": "code",
   "execution_count": 93,
   "metadata": {
    "collapsed": true
   },
   "outputs": [
    {
     "data": {
      "text/html": [
       "\n",
       "        <div id=\"gFGaBMTAQdGaHJJQshijMZ\"></div>\n",
       "        <script>netpixi.render('gFGaBMTAQdGaHJJQshijMZ', 'projeto_frunch.net.gz', 1.7777777777777777, true, false, false);</script>\n",
       "    "
      ],
      "text/plain": [
       "<IPython.core.display.HTML object>"
      ]
     },
     "metadata": {},
     "output_type": "display_data"
    }
   ],
   "source": [
    "# ----- Algoritmo Reingold Fruchterm -----\n",
    "m = gt_draw.fruchterman_reingold_layout(g)\n",
    "gt_move(g, m)\n",
    "gt_save(g, 'projeto_frunch.net.gz')\n",
    "r = netpixi.render('projeto_frunch.net.gz');"
   ]
  },
  {
   "cell_type": "code",
   "execution_count": null,
   "metadata": {},
   "outputs": [
    {
     "data": {
      "text/html": [
       "\n",
       "        <div id=\"G9imDjBknzovvemZ8y742C\"></div>\n",
       "        <script>netpixi.call('G9imDjBknzovvemZ8y742C', 'gFGaBMTAQdGaHJJQshijMZ', 'changeGraph', 'eyJpZCI6IDAsICJ0eXBlIjogInZlcnRleCIsICJwcm9wcyI6IHsiY29sb3IiOiA2NTI4MH19Cg==');</script>\n",
       "    "
      ],
      "text/plain": [
       "<IPython.core.display.HTML object>"
      ]
     },
     "metadata": {},
     "output_type": "display_data"
    },
    {
     "data": {
      "text/html": [
       "\n",
       "        <div id=\"oW6tZgtiv3bskckaEQTNYK\"></div>\n",
       "        <script>netpixi.call('oW6tZgtiv3bskckaEQTNYK', 'gFGaBMTAQdGaHJJQshijMZ', 'changeGraph', 'eyJpZCI6IDEsICJ0eXBlIjogInZlcnRleCIsICJwcm9wcyI6IHsiY29sb3IiOiA2NTI4MH19Cg==');</script>\n",
       "    "
      ],
      "text/plain": [
       "<IPython.core.display.HTML object>"
      ]
     },
     "metadata": {},
     "output_type": "display_data"
    },
    {
     "data": {
      "text/html": [
       "\n",
       "        <div id=\"WGDZxdfWZc4EBdtSpvV3p5\"></div>\n",
       "        <script>netpixi.call('WGDZxdfWZc4EBdtSpvV3p5', 'gFGaBMTAQdGaHJJQshijMZ', 'changeGraph', 'eyJpZCI6IDIsICJ0eXBlIjogInZlcnRleCIsICJwcm9wcyI6IHsiY29sb3IiOiA2NTI4MH19Cg==');</script>\n",
       "    "
      ],
      "text/plain": [
       "<IPython.core.display.HTML object>"
      ]
     },
     "metadata": {},
     "output_type": "display_data"
    },
    {
     "data": {
      "text/html": [
       "\n",
       "        <div id=\"43Vw6ukZAtYCgwhQRoaWuS\"></div>\n",
       "        <script>netpixi.call('43Vw6ukZAtYCgwhQRoaWuS', 'gFGaBMTAQdGaHJJQshijMZ', 'changeGraph', 'eyJpZCI6IDMsICJ0eXBlIjogInZlcnRleCIsICJwcm9wcyI6IHsiY29sb3IiOiA2NTI4MH19Cg==');</script>\n",
       "    "
      ],
      "text/plain": [
       "<IPython.core.display.HTML object>"
      ]
     },
     "metadata": {},
     "output_type": "display_data"
    },
    {
     "data": {
      "text/html": [
       "\n",
       "        <div id=\"2H8qcpHiwBVc5ZfsNrKswX\"></div>\n",
       "        <script>netpixi.call('2H8qcpHiwBVc5ZfsNrKswX', 'gFGaBMTAQdGaHJJQshijMZ', 'changeGraph', 'eyJpZCI6IDQsICJ0eXBlIjogInZlcnRleCIsICJwcm9wcyI6IHsiY29sb3IiOiAxNjcxMTY4MH19Cg==');</script>\n",
       "    "
      ],
      "text/plain": [
       "<IPython.core.display.HTML object>"
      ]
     },
     "metadata": {},
     "output_type": "display_data"
    },
    {
     "data": {
      "text/html": [
       "\n",
       "        <div id=\"UrUuUxeR7WiEtBgwevUNQ8\"></div>\n",
       "        <script>netpixi.call('UrUuUxeR7WiEtBgwevUNQ8', 'gFGaBMTAQdGaHJJQshijMZ', 'changeGraph', 'eyJpZCI6IDUsICJ0eXBlIjogInZlcnRleCIsICJwcm9wcyI6IHsiY29sb3IiOiA2NTI4MH19Cg==');</script>\n",
       "    "
      ],
      "text/plain": [
       "<IPython.core.display.HTML object>"
      ]
     },
     "metadata": {},
     "output_type": "display_data"
    },
    {
     "data": {
      "text/html": [
       "\n",
       "        <div id=\"KGF73byf46XLb6QyofVmeK\"></div>\n",
       "        <script>netpixi.call('KGF73byf46XLb6QyofVmeK', 'gFGaBMTAQdGaHJJQshijMZ', 'changeGraph', 'eyJpZCI6IDYsICJ0eXBlIjogInZlcnRleCIsICJwcm9wcyI6IHsiY29sb3IiOiA2NTI4MH19Cg==');</script>\n",
       "    "
      ],
      "text/plain": [
       "<IPython.core.display.HTML object>"
      ]
     },
     "metadata": {},
     "output_type": "display_data"
    },
    {
     "data": {
      "text/html": [
       "\n",
       "        <div id=\"WyAe58Xnh3WvR46Ugb2WGM\"></div>\n",
       "        <script>netpixi.call('WyAe58Xnh3WvR46Ugb2WGM', 'gFGaBMTAQdGaHJJQshijMZ', 'changeGraph', 'eyJpZCI6IDcsICJ0eXBlIjogInZlcnRleCIsICJwcm9wcyI6IHsiY29sb3IiOiAxNjcxMTY4MH19Cg==');</script>\n",
       "    "
      ],
      "text/plain": [
       "<IPython.core.display.HTML object>"
      ]
     },
     "metadata": {},
     "output_type": "display_data"
    },
    {
     "data": {
      "text/html": [
       "\n",
       "        <div id=\"T2BmPxhAZJPVQuEji4C8KA\"></div>\n",
       "        <script>netpixi.call('T2BmPxhAZJPVQuEji4C8KA', 'gFGaBMTAQdGaHJJQshijMZ', 'changeGraph', 'eyJpZCI6IDgsICJ0eXBlIjogInZlcnRleCIsICJwcm9wcyI6IHsiY29sb3IiOiA2NTI4MH19Cg==');</script>\n",
       "    "
      ],
      "text/plain": [
       "<IPython.core.display.HTML object>"
      ]
     },
     "metadata": {},
     "output_type": "display_data"
    },
    {
     "data": {
      "text/html": [
       "\n",
       "        <div id=\"a8MDCQEtHHsMmvqMuTTwNG\"></div>\n",
       "        <script>netpixi.call('a8MDCQEtHHsMmvqMuTTwNG', 'gFGaBMTAQdGaHJJQshijMZ', 'changeGraph', 'eyJpZCI6IDksICJ0eXBlIjogInZlcnRleCIsICJwcm9wcyI6IHsiY29sb3IiOiAxNjcxMTY4MH19Cg==');</script>\n",
       "    "
      ],
      "text/plain": [
       "<IPython.core.display.HTML object>"
      ]
     },
     "metadata": {},
     "output_type": "display_data"
    },
    {
     "data": {
      "text/html": [
       "\n",
       "        <div id=\"LZEXRFFvC3ozVv29UGuM2K\"></div>\n",
       "        <script>netpixi.call('LZEXRFFvC3ozVv29UGuM2K', 'gFGaBMTAQdGaHJJQshijMZ', 'changeGraph', 'eyJpZCI6IDEwLCAidHlwZSI6ICJ2ZXJ0ZXgiLCAicHJvcHMiOiB7ImNvbG9yIjogNjUyODB9fQo=');</script>\n",
       "    "
      ],
      "text/plain": [
       "<IPython.core.display.HTML object>"
      ]
     },
     "metadata": {},
     "output_type": "display_data"
    },
    {
     "data": {
      "text/html": [
       "\n",
       "        <div id=\"oQWeWNxGooKYbWfDAq58hV\"></div>\n",
       "        <script>netpixi.call('oQWeWNxGooKYbWfDAq58hV', 'gFGaBMTAQdGaHJJQshijMZ', 'changeGraph', 'eyJpZCI6IDExLCAidHlwZSI6ICJ2ZXJ0ZXgiLCAicHJvcHMiOiB7ImNvbG9yIjogNjUyODB9fQo=');</script>\n",
       "    "
      ],
      "text/plain": [
       "<IPython.core.display.HTML object>"
      ]
     },
     "metadata": {},
     "output_type": "display_data"
    },
    {
     "data": {
      "text/html": [
       "\n",
       "        <div id=\"QE3QVhZkuos2obx5sGUKUK\"></div>\n",
       "        <script>netpixi.call('QE3QVhZkuos2obx5sGUKUK', 'gFGaBMTAQdGaHJJQshijMZ', 'changeGraph', 'eyJpZCI6IDEyLCAidHlwZSI6ICJ2ZXJ0ZXgiLCAicHJvcHMiOiB7ImNvbG9yIjogMTY3MTE2ODB9fQo=');</script>\n",
       "    "
      ],
      "text/plain": [
       "<IPython.core.display.HTML object>"
      ]
     },
     "metadata": {},
     "output_type": "display_data"
    },
    {
     "data": {
      "text/html": [
       "\n",
       "        <div id=\"aGPtwYPWFTuJmSAqcAwQii\"></div>\n",
       "        <script>netpixi.call('aGPtwYPWFTuJmSAqcAwQii', 'gFGaBMTAQdGaHJJQshijMZ', 'changeGraph', 'eyJpZCI6IDEzLCAidHlwZSI6ICJ2ZXJ0ZXgiLCAicHJvcHMiOiB7ImNvbG9yIjogMTY3MTE2ODB9fQo=');</script>\n",
       "    "
      ],
      "text/plain": [
       "<IPython.core.display.HTML object>"
      ]
     },
     "metadata": {},
     "output_type": "display_data"
    },
    {
     "data": {
      "text/html": [
       "\n",
       "        <div id=\"a42RHUM9UTocfLGCzr3Vsz\"></div>\n",
       "        <script>netpixi.call('a42RHUM9UTocfLGCzr3Vsz', 'gFGaBMTAQdGaHJJQshijMZ', 'changeGraph', 'eyJpZCI6IDE0LCAidHlwZSI6ICJ2ZXJ0ZXgiLCAicHJvcHMiOiB7ImNvbG9yIjogNjUyODB9fQo=');</script>\n",
       "    "
      ],
      "text/plain": [
       "<IPython.core.display.HTML object>"
      ]
     },
     "metadata": {},
     "output_type": "display_data"
    },
    {
     "data": {
      "text/html": [
       "\n",
       "        <div id=\"B59buWytmHtqRax5gzMhdp\"></div>\n",
       "        <script>netpixi.call('B59buWytmHtqRax5gzMhdp', 'gFGaBMTAQdGaHJJQshijMZ', 'changeGraph', 'eyJpZCI6IDE1LCAidHlwZSI6ICJ2ZXJ0ZXgiLCAicHJvcHMiOiB7ImNvbG9yIjogNjUyODB9fQo=');</script>\n",
       "    "
      ],
      "text/plain": [
       "<IPython.core.display.HTML object>"
      ]
     },
     "metadata": {},
     "output_type": "display_data"
    },
    {
     "data": {
      "text/html": [
       "\n",
       "        <div id=\"KeDm79BEzEqJG4TmDq8gJC\"></div>\n",
       "        <script>netpixi.call('KeDm79BEzEqJG4TmDq8gJC', 'gFGaBMTAQdGaHJJQshijMZ', 'changeGraph', 'eyJpZCI6IDE2LCAidHlwZSI6ICJ2ZXJ0ZXgiLCAicHJvcHMiOiB7ImNvbG9yIjogMTY3MTE2ODB9fQo=');</script>\n",
       "    "
      ],
      "text/plain": [
       "<IPython.core.display.HTML object>"
      ]
     },
     "metadata": {},
     "output_type": "display_data"
    },
    {
     "data": {
      "text/html": [
       "\n",
       "        <div id=\"e5TQCFEhtA5CkoHtA3UgQu\"></div>\n",
       "        <script>netpixi.call('e5TQCFEhtA5CkoHtA3UgQu', 'gFGaBMTAQdGaHJJQshijMZ', 'changeGraph', 'eyJpZCI6IDE3LCAidHlwZSI6ICJ2ZXJ0ZXgiLCAicHJvcHMiOiB7ImNvbG9yIjogNjUyODB9fQo=');</script>\n",
       "    "
      ],
      "text/plain": [
       "<IPython.core.display.HTML object>"
      ]
     },
     "metadata": {},
     "output_type": "display_data"
    },
    {
     "data": {
      "text/html": [
       "\n",
       "        <div id=\"NekLiKfNw4FvFQNxuEEd2A\"></div>\n",
       "        <script>netpixi.call('NekLiKfNw4FvFQNxuEEd2A', 'gFGaBMTAQdGaHJJQshijMZ', 'changeGraph', 'eyJpZCI6IDE4LCAidHlwZSI6ICJ2ZXJ0ZXgiLCAicHJvcHMiOiB7ImNvbG9yIjogMTY3MTE2ODB9fQo=');</script>\n",
       "    "
      ],
      "text/plain": [
       "<IPython.core.display.HTML object>"
      ]
     },
     "metadata": {},
     "output_type": "display_data"
    },
    {
     "data": {
      "text/html": [
       "\n",
       "        <div id=\"ZhuD6x7uDVJwM6oZwgTZbA\"></div>\n",
       "        <script>netpixi.call('ZhuD6x7uDVJwM6oZwgTZbA', 'gFGaBMTAQdGaHJJQshijMZ', 'changeGraph', 'eyJpZCI6IDE5LCAidHlwZSI6ICJ2ZXJ0ZXgiLCAicHJvcHMiOiB7ImNvbG9yIjogMTY3MTE2ODB9fQo=');</script>\n",
       "    "
      ],
      "text/plain": [
       "<IPython.core.display.HTML object>"
      ]
     },
     "metadata": {},
     "output_type": "display_data"
    },
    {
     "data": {
      "text/html": [
       "\n",
       "        <div id=\"RyTHAr5X4y6cia8fBw8yfU\"></div>\n",
       "        <script>netpixi.call('RyTHAr5X4y6cia8fBw8yfU', 'gFGaBMTAQdGaHJJQshijMZ', 'changeGraph', 'eyJpZCI6IDIwLCAidHlwZSI6ICJ2ZXJ0ZXgiLCAicHJvcHMiOiB7ImNvbG9yIjogNjUyODB9fQo=');</script>\n",
       "    "
      ],
      "text/plain": [
       "<IPython.core.display.HTML object>"
      ]
     },
     "metadata": {},
     "output_type": "display_data"
    },
    {
     "data": {
      "text/html": [
       "\n",
       "        <div id=\"mVqSscohr3J2gwTo7vog9b\"></div>\n",
       "        <script>netpixi.call('mVqSscohr3J2gwTo7vog9b', 'gFGaBMTAQdGaHJJQshijMZ', 'changeGraph', 'eyJpZCI6IDIxLCAidHlwZSI6ICJ2ZXJ0ZXgiLCAicHJvcHMiOiB7ImNvbG9yIjogMTY3MTE2ODB9fQo=');</script>\n",
       "    "
      ],
      "text/plain": [
       "<IPython.core.display.HTML object>"
      ]
     },
     "metadata": {},
     "output_type": "display_data"
    },
    {
     "data": {
      "text/html": [
       "\n",
       "        <div id=\"X3E7jp9ZXYLNRuzQXBWnFH\"></div>\n",
       "        <script>netpixi.call('X3E7jp9ZXYLNRuzQXBWnFH', 'gFGaBMTAQdGaHJJQshijMZ', 'changeGraph', 'eyJpZCI6IDIyLCAidHlwZSI6ICJ2ZXJ0ZXgiLCAicHJvcHMiOiB7ImNvbG9yIjogMTY3MTE2ODB9fQo=');</script>\n",
       "    "
      ],
      "text/plain": [
       "<IPython.core.display.HTML object>"
      ]
     },
     "metadata": {},
     "output_type": "display_data"
    },
    {
     "data": {
      "text/html": [
       "\n",
       "        <div id=\"NbjzKBTGGAu2xY9Lo4Vz3b\"></div>\n",
       "        <script>netpixi.call('NbjzKBTGGAu2xY9Lo4Vz3b', 'gFGaBMTAQdGaHJJQshijMZ', 'changeGraph', 'eyJpZCI6IDIzLCAidHlwZSI6ICJ2ZXJ0ZXgiLCAicHJvcHMiOiB7ImNvbG9yIjogMTY3MTE2ODB9fQo=');</script>\n",
       "    "
      ],
      "text/plain": [
       "<IPython.core.display.HTML object>"
      ]
     },
     "metadata": {},
     "output_type": "display_data"
    },
    {
     "data": {
      "text/html": [
       "\n",
       "        <div id=\"ixHALsfVp2D3NJRpUZzfCL\"></div>\n",
       "        <script>netpixi.call('ixHALsfVp2D3NJRpUZzfCL', 'gFGaBMTAQdGaHJJQshijMZ', 'changeGraph', 'eyJpZCI6IDI0LCAidHlwZSI6ICJ2ZXJ0ZXgiLCAicHJvcHMiOiB7ImNvbG9yIjogMTY3MTE2ODB9fQo=');</script>\n",
       "    "
      ],
      "text/plain": [
       "<IPython.core.display.HTML object>"
      ]
     },
     "metadata": {},
     "output_type": "display_data"
    },
    {
     "data": {
      "text/html": [
       "\n",
       "        <div id=\"322uHfT3JhWQEWoLRe57TQ\"></div>\n",
       "        <script>netpixi.call('322uHfT3JhWQEWoLRe57TQ', 'gFGaBMTAQdGaHJJQshijMZ', 'changeGraph', 'eyJpZCI6IDI1LCAidHlwZSI6ICJ2ZXJ0ZXgiLCAicHJvcHMiOiB7ImNvbG9yIjogNjUyODB9fQo=');</script>\n",
       "    "
      ],
      "text/plain": [
       "<IPython.core.display.HTML object>"
      ]
     },
     "metadata": {},
     "output_type": "display_data"
    },
    {
     "data": {
      "text/html": [
       "\n",
       "        <div id=\"HwW5qLefXjJkT54uKdQpic\"></div>\n",
       "        <script>netpixi.call('HwW5qLefXjJkT54uKdQpic', 'gFGaBMTAQdGaHJJQshijMZ', 'changeGraph', 'eyJpZCI6IDI2LCAidHlwZSI6ICJ2ZXJ0ZXgiLCAicHJvcHMiOiB7ImNvbG9yIjogMTY3MTE2ODB9fQo=');</script>\n",
       "    "
      ],
      "text/plain": [
       "<IPython.core.display.HTML object>"
      ]
     },
     "metadata": {},
     "output_type": "display_data"
    },
    {
     "data": {
      "text/html": [
       "\n",
       "        <div id=\"EyoMNkj6weXgfhEUvtNDQ5\"></div>\n",
       "        <script>netpixi.call('EyoMNkj6weXgfhEUvtNDQ5', 'gFGaBMTAQdGaHJJQshijMZ', 'changeGraph', 'eyJpZCI6IDI3LCAidHlwZSI6ICJ2ZXJ0ZXgiLCAicHJvcHMiOiB7ImNvbG9yIjogMTY3MTE2ODB9fQo=');</script>\n",
       "    "
      ],
      "text/plain": [
       "<IPython.core.display.HTML object>"
      ]
     },
     "metadata": {},
     "output_type": "display_data"
    },
    {
     "data": {
      "text/html": [
       "\n",
       "        <div id=\"moTt6jZwWHYAutpBAtAt3w\"></div>\n",
       "        <script>netpixi.call('moTt6jZwWHYAutpBAtAt3w', 'gFGaBMTAQdGaHJJQshijMZ', 'changeGraph', 'eyJpZCI6IDI4LCAidHlwZSI6ICJ2ZXJ0ZXgiLCAicHJvcHMiOiB7ImNvbG9yIjogMTY3MTE2ODB9fQo=');</script>\n",
       "    "
      ],
      "text/plain": [
       "<IPython.core.display.HTML object>"
      ]
     },
     "metadata": {},
     "output_type": "display_data"
    },
    {
     "data": {
      "text/html": [
       "\n",
       "        <div id=\"BpfugmXAJJzKK6gbdqfTGn\"></div>\n",
       "        <script>netpixi.call('BpfugmXAJJzKK6gbdqfTGn', 'gFGaBMTAQdGaHJJQshijMZ', 'changeGraph', 'eyJpZCI6IDI5LCAidHlwZSI6ICJ2ZXJ0ZXgiLCAicHJvcHMiOiB7ImNvbG9yIjogMTY3MTE2ODB9fQo=');</script>\n",
       "    "
      ],
      "text/plain": [
       "<IPython.core.display.HTML object>"
      ]
     },
     "metadata": {},
     "output_type": "display_data"
    },
    {
     "data": {
      "text/html": [
       "\n",
       "        <div id=\"UpSAp9bXMSYMXpUSzdPznP\"></div>\n",
       "        <script>netpixi.call('UpSAp9bXMSYMXpUSzdPznP', 'gFGaBMTAQdGaHJJQshijMZ', 'changeGraph', 'eyJpZCI6IDMwLCAidHlwZSI6ICJ2ZXJ0ZXgiLCAicHJvcHMiOiB7ImNvbG9yIjogMTY3MTE2ODB9fQo=');</script>\n",
       "    "
      ],
      "text/plain": [
       "<IPython.core.display.HTML object>"
      ]
     },
     "metadata": {},
     "output_type": "display_data"
    },
    {
     "data": {
      "text/html": [
       "\n",
       "        <div id=\"EvKdjaZXgMpNK8P8F6bpyK\"></div>\n",
       "        <script>netpixi.call('EvKdjaZXgMpNK8P8F6bpyK', 'gFGaBMTAQdGaHJJQshijMZ', 'changeGraph', 'eyJpZCI6IDMxLCAidHlwZSI6ICJ2ZXJ0ZXgiLCAicHJvcHMiOiB7ImNvbG9yIjogMTY3MTE2ODB9fQo=');</script>\n",
       "    "
      ],
      "text/plain": [
       "<IPython.core.display.HTML object>"
      ]
     },
     "metadata": {},
     "output_type": "display_data"
    },
    {
     "data": {
      "text/html": [
       "\n",
       "        <div id=\"3BAhGksDwmFACdxpypbBfC\"></div>\n",
       "        <script>netpixi.call('3BAhGksDwmFACdxpypbBfC', 'gFGaBMTAQdGaHJJQshijMZ', 'changeGraph', 'eyJpZCI6IDMyLCAidHlwZSI6ICJ2ZXJ0ZXgiLCAicHJvcHMiOiB7ImNvbG9yIjogNjUyODB9fQo=');</script>\n",
       "    "
      ],
      "text/plain": [
       "<IPython.core.display.HTML object>"
      ]
     },
     "metadata": {},
     "output_type": "display_data"
    },
    {
     "data": {
      "text/html": [
       "\n",
       "        <div id=\"2wHNUxXHajyGtQPpeRwmQi\"></div>\n",
       "        <script>netpixi.call('2wHNUxXHajyGtQPpeRwmQi', 'gFGaBMTAQdGaHJJQshijMZ', 'changeGraph', 'eyJpZCI6IDMzLCAidHlwZSI6ICJ2ZXJ0ZXgiLCAicHJvcHMiOiB7ImNvbG9yIjogMTY3MTE2ODB9fQo=');</script>\n",
       "    "
      ],
      "text/plain": [
       "<IPython.core.display.HTML object>"
      ]
     },
     "metadata": {},
     "output_type": "display_data"
    },
    {
     "data": {
      "text/html": [
       "\n",
       "        <div id=\"eHceKtkPF44ZeioUSX2TP4\"></div>\n",
       "        <script>netpixi.call('eHceKtkPF44ZeioUSX2TP4', 'gFGaBMTAQdGaHJJQshijMZ', 'changeGraph', 'eyJpZCI6IDM0LCAidHlwZSI6ICJ2ZXJ0ZXgiLCAicHJvcHMiOiB7ImNvbG9yIjogMTY3MTE2ODB9fQo=');</script>\n",
       "    "
      ],
      "text/plain": [
       "<IPython.core.display.HTML object>"
      ]
     },
     "metadata": {},
     "output_type": "display_data"
    },
    {
     "data": {
      "text/html": [
       "\n",
       "        <div id=\"QKn4zunu96HBBzCarYRXf7\"></div>\n",
       "        <script>netpixi.call('QKn4zunu96HBBzCarYRXf7', 'gFGaBMTAQdGaHJJQshijMZ', 'changeGraph', 'eyJpZCI6IDM1LCAidHlwZSI6ICJ2ZXJ0ZXgiLCAicHJvcHMiOiB7ImNvbG9yIjogMTY3MTE2ODB9fQo=');</script>\n",
       "    "
      ],
      "text/plain": [
       "<IPython.core.display.HTML object>"
      ]
     },
     "metadata": {},
     "output_type": "display_data"
    },
    {
     "data": {
      "text/html": [
       "\n",
       "        <div id=\"k3sTgQa9wKtbzx8eASQ4ry\"></div>\n",
       "        <script>netpixi.call('k3sTgQa9wKtbzx8eASQ4ry', 'gFGaBMTAQdGaHJJQshijMZ', 'changeGraph', 'eyJpZCI6IDM2LCAidHlwZSI6ICJ2ZXJ0ZXgiLCAicHJvcHMiOiB7ImNvbG9yIjogNjUyODB9fQo=');</script>\n",
       "    "
      ],
      "text/plain": [
       "<IPython.core.display.HTML object>"
      ]
     },
     "metadata": {},
     "output_type": "display_data"
    },
    {
     "data": {
      "text/html": [
       "\n",
       "        <div id=\"WhdY3TdDBSbiTiWqdqbCCM\"></div>\n",
       "        <script>netpixi.call('WhdY3TdDBSbiTiWqdqbCCM', 'gFGaBMTAQdGaHJJQshijMZ', 'changeGraph', 'eyJpZCI6IDM3LCAidHlwZSI6ICJ2ZXJ0ZXgiLCAicHJvcHMiOiB7ImNvbG9yIjogMTY3MTE2ODB9fQo=');</script>\n",
       "    "
      ],
      "text/plain": [
       "<IPython.core.display.HTML object>"
      ]
     },
     "metadata": {},
     "output_type": "display_data"
    },
    {
     "data": {
      "text/html": [
       "\n",
       "        <div id=\"Xfg7sA5L6v2bt8yLzUCYvp\"></div>\n",
       "        <script>netpixi.call('Xfg7sA5L6v2bt8yLzUCYvp', 'gFGaBMTAQdGaHJJQshijMZ', 'changeGraph', 'eyJpZCI6IDM4LCAidHlwZSI6ICJ2ZXJ0ZXgiLCAicHJvcHMiOiB7ImNvbG9yIjogMTY3MTE2ODB9fQo=');</script>\n",
       "    "
      ],
      "text/plain": [
       "<IPython.core.display.HTML object>"
      ]
     },
     "metadata": {},
     "output_type": "display_data"
    },
    {
     "data": {
      "text/html": [
       "\n",
       "        <div id=\"HtdqJFJmvu65kPy5zNfMGa\"></div>\n",
       "        <script>netpixi.call('HtdqJFJmvu65kPy5zNfMGa', 'gFGaBMTAQdGaHJJQshijMZ', 'changeGraph', 'eyJpZCI6IDM5LCAidHlwZSI6ICJ2ZXJ0ZXgiLCAicHJvcHMiOiB7ImNvbG9yIjogNjUyODB9fQo=');</script>\n",
       "    "
      ],
      "text/plain": [
       "<IPython.core.display.HTML object>"
      ]
     },
     "metadata": {},
     "output_type": "display_data"
    },
    {
     "data": {
      "text/html": [
       "\n",
       "        <div id=\"naNiata272W9FhTUocpgmG\"></div>\n",
       "        <script>netpixi.call('naNiata272W9FhTUocpgmG', 'gFGaBMTAQdGaHJJQshijMZ', 'changeGraph', 'eyJpZCI6IDQwLCAidHlwZSI6ICJ2ZXJ0ZXgiLCAicHJvcHMiOiB7ImNvbG9yIjogNjUyODB9fQo=');</script>\n",
       "    "
      ],
      "text/plain": [
       "<IPython.core.display.HTML object>"
      ]
     },
     "metadata": {},
     "output_type": "display_data"
    },
    {
     "data": {
      "text/html": [
       "\n",
       "        <div id=\"5zvUjkuqHxPXUW9Bdt72qF\"></div>\n",
       "        <script>netpixi.call('5zvUjkuqHxPXUW9Bdt72qF', 'gFGaBMTAQdGaHJJQshijMZ', 'changeGraph', 'eyJpZCI6IDQxLCAidHlwZSI6ICJ2ZXJ0ZXgiLCAicHJvcHMiOiB7ImNvbG9yIjogNjUyODB9fQo=');</script>\n",
       "    "
      ],
      "text/plain": [
       "<IPython.core.display.HTML object>"
      ]
     },
     "metadata": {},
     "output_type": "display_data"
    },
    {
     "data": {
      "text/html": [
       "\n",
       "        <div id=\"oN8sjG32scK4VE3NMxNrML\"></div>\n",
       "        <script>netpixi.call('oN8sjG32scK4VE3NMxNrML', 'gFGaBMTAQdGaHJJQshijMZ', 'changeGraph', 'eyJpZCI6IDQyLCAidHlwZSI6ICJ2ZXJ0ZXgiLCAicHJvcHMiOiB7ImNvbG9yIjogMTY3MTE2ODB9fQo=');</script>\n",
       "    "
      ],
      "text/plain": [
       "<IPython.core.display.HTML object>"
      ]
     },
     "metadata": {},
     "output_type": "display_data"
    },
    {
     "data": {
      "text/html": [
       "\n",
       "        <div id=\"BE75LRFND3DaDACrDHS6Bv\"></div>\n",
       "        <script>netpixi.call('BE75LRFND3DaDACrDHS6Bv', 'gFGaBMTAQdGaHJJQshijMZ', 'changeGraph', 'eyJpZCI6IDQzLCAidHlwZSI6ICJ2ZXJ0ZXgiLCAicHJvcHMiOiB7ImNvbG9yIjogNjUyODB9fQo=');</script>\n",
       "    "
      ],
      "text/plain": [
       "<IPython.core.display.HTML object>"
      ]
     },
     "metadata": {},
     "output_type": "display_data"
    },
    {
     "data": {
      "text/html": [
       "\n",
       "        <div id=\"JdaYnQxyiMBC8srqnjSyPs\"></div>\n",
       "        <script>netpixi.call('JdaYnQxyiMBC8srqnjSyPs', 'gFGaBMTAQdGaHJJQshijMZ', 'changeGraph', 'eyJpZCI6IDQ0LCAidHlwZSI6ICJ2ZXJ0ZXgiLCAicHJvcHMiOiB7ImNvbG9yIjogNjUyODB9fQo=');</script>\n",
       "    "
      ],
      "text/plain": [
       "<IPython.core.display.HTML object>"
      ]
     },
     "metadata": {},
     "output_type": "display_data"
    },
    {
     "data": {
      "text/html": [
       "\n",
       "        <div id=\"ZMYQgbQhWCQU9M82dWV8e3\"></div>\n",
       "        <script>netpixi.call('ZMYQgbQhWCQU9M82dWV8e3', 'gFGaBMTAQdGaHJJQshijMZ', 'changeGraph', 'eyJpZCI6IDQ1LCAidHlwZSI6ICJ2ZXJ0ZXgiLCAicHJvcHMiOiB7ImNvbG9yIjogMTY3MTE2ODB9fQo=');</script>\n",
       "    "
      ],
      "text/plain": [
       "<IPython.core.display.HTML object>"
      ]
     },
     "metadata": {},
     "output_type": "display_data"
    },
    {
     "data": {
      "text/html": [
       "\n",
       "        <div id=\"LBbbVFjFXiGRpoAXm4MFPP\"></div>\n",
       "        <script>netpixi.call('LBbbVFjFXiGRpoAXm4MFPP', 'gFGaBMTAQdGaHJJQshijMZ', 'changeGraph', 'eyJpZCI6IDQ2LCAidHlwZSI6ICJ2ZXJ0ZXgiLCAicHJvcHMiOiB7ImNvbG9yIjogMTY3MTE2ODB9fQo=');</script>\n",
       "    "
      ],
      "text/plain": [
       "<IPython.core.display.HTML object>"
      ]
     },
     "metadata": {},
     "output_type": "display_data"
    },
    {
     "data": {
      "text/html": [
       "\n",
       "        <div id=\"dZ4Tr3k5pAh7Mrfd9sa3qn\"></div>\n",
       "        <script>netpixi.call('dZ4Tr3k5pAh7Mrfd9sa3qn', 'gFGaBMTAQdGaHJJQshijMZ', 'changeGraph', 'eyJpZCI6IDQ3LCAidHlwZSI6ICJ2ZXJ0ZXgiLCAicHJvcHMiOiB7ImNvbG9yIjogMTY3MTE2ODB9fQo=');</script>\n",
       "    "
      ],
      "text/plain": [
       "<IPython.core.display.HTML object>"
      ]
     },
     "metadata": {},
     "output_type": "display_data"
    },
    {
     "data": {
      "text/html": [
       "\n",
       "        <div id=\"jsP2KYjquag5odAsE5exZ9\"></div>\n",
       "        <script>netpixi.call('jsP2KYjquag5odAsE5exZ9', 'gFGaBMTAQdGaHJJQshijMZ', 'changeGraph', 'eyJpZCI6IDQ4LCAidHlwZSI6ICJ2ZXJ0ZXgiLCAicHJvcHMiOiB7ImNvbG9yIjogNjUyODB9fQo=');</script>\n",
       "    "
      ],
      "text/plain": [
       "<IPython.core.display.HTML object>"
      ]
     },
     "metadata": {},
     "output_type": "display_data"
    },
    {
     "data": {
      "text/html": [
       "\n",
       "        <div id=\"DNvfCrgv6ZMdCbjpPCzPxC\"></div>\n",
       "        <script>netpixi.call('DNvfCrgv6ZMdCbjpPCzPxC', 'gFGaBMTAQdGaHJJQshijMZ', 'changeGraph', 'eyJpZCI6IDQ5LCAidHlwZSI6ICJ2ZXJ0ZXgiLCAicHJvcHMiOiB7ImNvbG9yIjogMTY3MTE2ODB9fQo=');</script>\n",
       "    "
      ],
      "text/plain": [
       "<IPython.core.display.HTML object>"
      ]
     },
     "metadata": {},
     "output_type": "display_data"
    },
    {
     "data": {
      "text/html": [
       "\n",
       "        <div id=\"cc95wvanfTx2iZHGrPkAam\"></div>\n",
       "        <script>netpixi.call('cc95wvanfTx2iZHGrPkAam', 'gFGaBMTAQdGaHJJQshijMZ', 'changeGraph', 'eyJpZCI6IDUwLCAidHlwZSI6ICJ2ZXJ0ZXgiLCAicHJvcHMiOiB7ImNvbG9yIjogNjUyODB9fQo=');</script>\n",
       "    "
      ],
      "text/plain": [
       "<IPython.core.display.HTML object>"
      ]
     },
     "metadata": {},
     "output_type": "display_data"
    },
    {
     "data": {
      "text/html": [
       "\n",
       "        <div id=\"Ksy7BZDPWj4BkF4kFk2S7c\"></div>\n",
       "        <script>netpixi.call('Ksy7BZDPWj4BkF4kFk2S7c', 'gFGaBMTAQdGaHJJQshijMZ', 'changeGraph', 'eyJpZCI6IDUxLCAidHlwZSI6ICJ2ZXJ0ZXgiLCAicHJvcHMiOiB7ImNvbG9yIjogMTY3MTE2ODB9fQo=');</script>\n",
       "    "
      ],
      "text/plain": [
       "<IPython.core.display.HTML object>"
      ]
     },
     "metadata": {},
     "output_type": "display_data"
    },
    {
     "data": {
      "text/html": [
       "\n",
       "        <div id=\"4yr2J575jJGdwDWNKig7np\"></div>\n",
       "        <script>netpixi.call('4yr2J575jJGdwDWNKig7np', 'gFGaBMTAQdGaHJJQshijMZ', 'changeGraph', 'eyJpZCI6IDUyLCAidHlwZSI6ICJ2ZXJ0ZXgiLCAicHJvcHMiOiB7ImNvbG9yIjogNjUyODB9fQo=');</script>\n",
       "    "
      ],
      "text/plain": [
       "<IPython.core.display.HTML object>"
      ]
     },
     "metadata": {},
     "output_type": "display_data"
    },
    {
     "data": {
      "text/html": [
       "\n",
       "        <div id=\"8gHUouqy8hBEkFaJRwVXv4\"></div>\n",
       "        <script>netpixi.call('8gHUouqy8hBEkFaJRwVXv4', 'gFGaBMTAQdGaHJJQshijMZ', 'changeGraph', 'eyJpZCI6IDUzLCAidHlwZSI6ICJ2ZXJ0ZXgiLCAicHJvcHMiOiB7ImNvbG9yIjogMTY3MTE2ODB9fQo=');</script>\n",
       "    "
      ],
      "text/plain": [
       "<IPython.core.display.HTML object>"
      ]
     },
     "metadata": {},
     "output_type": "display_data"
    },
    {
     "data": {
      "text/html": [
       "\n",
       "        <div id=\"EC9dmNy66M7Td2nQ266F3f\"></div>\n",
       "        <script>netpixi.call('EC9dmNy66M7Td2nQ266F3f', 'gFGaBMTAQdGaHJJQshijMZ', 'changeGraph', 'eyJpZCI6IDU0LCAidHlwZSI6ICJ2ZXJ0ZXgiLCAicHJvcHMiOiB7ImNvbG9yIjogMTY3MTE2ODB9fQo=');</script>\n",
       "    "
      ],
      "text/plain": [
       "<IPython.core.display.HTML object>"
      ]
     },
     "metadata": {},
     "output_type": "display_data"
    },
    {
     "data": {
      "text/html": [
       "\n",
       "        <div id=\"TLA3W8BREQnFvkMZvvdgq5\"></div>\n",
       "        <script>netpixi.call('TLA3W8BREQnFvkMZvvdgq5', 'gFGaBMTAQdGaHJJQshijMZ', 'changeGraph', 'eyJpZCI6IDU1LCAidHlwZSI6ICJ2ZXJ0ZXgiLCAicHJvcHMiOiB7ImNvbG9yIjogNjUyODB9fQo=');</script>\n",
       "    "
      ],
      "text/plain": [
       "<IPython.core.display.HTML object>"
      ]
     },
     "metadata": {},
     "output_type": "display_data"
    },
    {
     "data": {
      "text/html": [
       "\n",
       "        <div id=\"MTH9PH2fpVedtAgqrCTinh\"></div>\n",
       "        <script>netpixi.call('MTH9PH2fpVedtAgqrCTinh', 'gFGaBMTAQdGaHJJQshijMZ', 'changeGraph', 'eyJpZCI6IDU2LCAidHlwZSI6ICJ2ZXJ0ZXgiLCAicHJvcHMiOiB7ImNvbG9yIjogNjUyODB9fQo=');</script>\n",
       "    "
      ],
      "text/plain": [
       "<IPython.core.display.HTML object>"
      ]
     },
     "metadata": {},
     "output_type": "display_data"
    },
    {
     "data": {
      "text/html": [
       "\n",
       "        <div id=\"QrtKrXwZuG33wmNHp4cegc\"></div>\n",
       "        <script>netpixi.call('QrtKrXwZuG33wmNHp4cegc', 'gFGaBMTAQdGaHJJQshijMZ', 'changeGraph', 'eyJpZCI6IDU3LCAidHlwZSI6ICJ2ZXJ0ZXgiLCAicHJvcHMiOiB7ImNvbG9yIjogNjUyODB9fQo=');</script>\n",
       "    "
      ],
      "text/plain": [
       "<IPython.core.display.HTML object>"
      ]
     },
     "metadata": {},
     "output_type": "display_data"
    },
    {
     "data": {
      "text/html": [
       "\n",
       "        <div id=\"YWjEsApWGhPNmCZUCymgJg\"></div>\n",
       "        <script>netpixi.call('YWjEsApWGhPNmCZUCymgJg', 'gFGaBMTAQdGaHJJQshijMZ', 'changeGraph', 'eyJpZCI6IDU4LCAidHlwZSI6ICJ2ZXJ0ZXgiLCAicHJvcHMiOiB7ImNvbG9yIjogMTY3MTE2ODB9fQo=');</script>\n",
       "    "
      ],
      "text/plain": [
       "<IPython.core.display.HTML object>"
      ]
     },
     "metadata": {},
     "output_type": "display_data"
    },
    {
     "data": {
      "text/html": [
       "\n",
       "        <div id=\"GxSCkcQeUStwDxKu5G6m92\"></div>\n",
       "        <script>netpixi.call('GxSCkcQeUStwDxKu5G6m92', 'gFGaBMTAQdGaHJJQshijMZ', 'changeGraph', 'eyJpZCI6IDU5LCAidHlwZSI6ICJ2ZXJ0ZXgiLCAicHJvcHMiOiB7ImNvbG9yIjogNjUyODB9fQo=');</script>\n",
       "    "
      ],
      "text/plain": [
       "<IPython.core.display.HTML object>"
      ]
     },
     "metadata": {},
     "output_type": "display_data"
    },
    {
     "data": {
      "text/html": [
       "\n",
       "        <div id=\"dAu58mjAS9ZymZKurzFkCf\"></div>\n",
       "        <script>netpixi.call('dAu58mjAS9ZymZKurzFkCf', 'gFGaBMTAQdGaHJJQshijMZ', 'changeGraph', 'eyJpZCI6IDYwLCAidHlwZSI6ICJ2ZXJ0ZXgiLCAicHJvcHMiOiB7ImNvbG9yIjogNjUyODB9fQo=');</script>\n",
       "    "
      ],
      "text/plain": [
       "<IPython.core.display.HTML object>"
      ]
     },
     "metadata": {},
     "output_type": "display_data"
    },
    {
     "data": {
      "text/html": [
       "\n",
       "        <div id=\"APBymF9uMENFSFszD9uPXw\"></div>\n",
       "        <script>netpixi.call('APBymF9uMENFSFszD9uPXw', 'gFGaBMTAQdGaHJJQshijMZ', 'changeGraph', 'eyJpZCI6IDYxLCAidHlwZSI6ICJ2ZXJ0ZXgiLCAicHJvcHMiOiB7ImNvbG9yIjogMTY3MTE2ODB9fQo=');</script>\n",
       "    "
      ],
      "text/plain": [
       "<IPython.core.display.HTML object>"
      ]
     },
     "metadata": {},
     "output_type": "display_data"
    },
    {
     "data": {
      "text/html": [
       "\n",
       "        <div id=\"g9zmJd8LGTrHdszG6nsQJX\"></div>\n",
       "        <script>netpixi.call('g9zmJd8LGTrHdszG6nsQJX', 'gFGaBMTAQdGaHJJQshijMZ', 'changeGraph', 'eyJpZCI6IDYyLCAidHlwZSI6ICJ2ZXJ0ZXgiLCAicHJvcHMiOiB7ImNvbG9yIjogMTY3MTE2ODB9fQo=');</script>\n",
       "    "
      ],
      "text/plain": [
       "<IPython.core.display.HTML object>"
      ]
     },
     "metadata": {},
     "output_type": "display_data"
    },
    {
     "data": {
      "text/html": [
       "\n",
       "        <div id=\"DAkPTvGC5pb8szwhncit82\"></div>\n",
       "        <script>netpixi.call('DAkPTvGC5pb8szwhncit82', 'gFGaBMTAQdGaHJJQshijMZ', 'changeGraph', 'eyJpZCI6IDYzLCAidHlwZSI6ICJ2ZXJ0ZXgiLCAicHJvcHMiOiB7ImNvbG9yIjogNjUyODB9fQo=');</script>\n",
       "    "
      ],
      "text/plain": [
       "<IPython.core.display.HTML object>"
      ]
     },
     "metadata": {},
     "output_type": "display_data"
    },
    {
     "data": {
      "text/html": [
       "\n",
       "        <div id=\"UGePsgHPgtf5QYU3ezXxPQ\"></div>\n",
       "        <script>netpixi.call('UGePsgHPgtf5QYU3ezXxPQ', 'gFGaBMTAQdGaHJJQshijMZ', 'changeGraph', 'eyJpZCI6IDY0LCAidHlwZSI6ICJ2ZXJ0ZXgiLCAicHJvcHMiOiB7ImNvbG9yIjogMTY3MTE2ODB9fQo=');</script>\n",
       "    "
      ],
      "text/plain": [
       "<IPython.core.display.HTML object>"
      ]
     },
     "metadata": {},
     "output_type": "display_data"
    },
    {
     "data": {
      "text/html": [
       "\n",
       "        <div id=\"9vp9ocSRyrMtQTycVEFGPE\"></div>\n",
       "        <script>netpixi.call('9vp9ocSRyrMtQTycVEFGPE', 'gFGaBMTAQdGaHJJQshijMZ', 'changeGraph', 'eyJpZCI6IDY1LCAidHlwZSI6ICJ2ZXJ0ZXgiLCAicHJvcHMiOiB7ImNvbG9yIjogMTY3MTE2ODB9fQo=');</script>\n",
       "    "
      ],
      "text/plain": [
       "<IPython.core.display.HTML object>"
      ]
     },
     "metadata": {},
     "output_type": "display_data"
    },
    {
     "data": {
      "text/html": [
       "\n",
       "        <div id=\"DciHeetG6uBML6WM5NKGWf\"></div>\n",
       "        <script>netpixi.call('DciHeetG6uBML6WM5NKGWf', 'gFGaBMTAQdGaHJJQshijMZ', 'changeGraph', 'eyJpZCI6IDY2LCAidHlwZSI6ICJ2ZXJ0ZXgiLCAicHJvcHMiOiB7ImNvbG9yIjogNjUyODB9fQo=');</script>\n",
       "    "
      ],
      "text/plain": [
       "<IPython.core.display.HTML object>"
      ]
     },
     "metadata": {},
     "output_type": "display_data"
    },
    {
     "data": {
      "text/html": [
       "\n",
       "        <div id=\"NDZ2N7rtS7ERXDqDFzeu6d\"></div>\n",
       "        <script>netpixi.call('NDZ2N7rtS7ERXDqDFzeu6d', 'gFGaBMTAQdGaHJJQshijMZ', 'changeGraph', 'eyJpZCI6IDY3LCAidHlwZSI6ICJ2ZXJ0ZXgiLCAicHJvcHMiOiB7ImNvbG9yIjogMTY3MTE2ODB9fQo=');</script>\n",
       "    "
      ],
      "text/plain": [
       "<IPython.core.display.HTML object>"
      ]
     },
     "metadata": {},
     "output_type": "display_data"
    },
    {
     "data": {
      "text/html": [
       "\n",
       "        <div id=\"E5QBsxCrHEaphygherZ2Kg\"></div>\n",
       "        <script>netpixi.call('E5QBsxCrHEaphygherZ2Kg', 'gFGaBMTAQdGaHJJQshijMZ', 'changeGraph', 'eyJpZCI6IDY4LCAidHlwZSI6ICJ2ZXJ0ZXgiLCAicHJvcHMiOiB7ImNvbG9yIjogNjUyODB9fQo=');</script>\n",
       "    "
      ],
      "text/plain": [
       "<IPython.core.display.HTML object>"
      ]
     },
     "metadata": {},
     "output_type": "display_data"
    },
    {
     "data": {
      "text/html": [
       "\n",
       "        <div id=\"ZFGTardsYBuaH5JBpRfHr8\"></div>\n",
       "        <script>netpixi.call('ZFGTardsYBuaH5JBpRfHr8', 'gFGaBMTAQdGaHJJQshijMZ', 'changeGraph', 'eyJpZCI6IDY5LCAidHlwZSI6ICJ2ZXJ0ZXgiLCAicHJvcHMiOiB7ImNvbG9yIjogNjUyODB9fQo=');</script>\n",
       "    "
      ],
      "text/plain": [
       "<IPython.core.display.HTML object>"
      ]
     },
     "metadata": {},
     "output_type": "display_data"
    },
    {
     "data": {
      "text/html": [
       "\n",
       "        <div id=\"3feDFM9mtHfK9SHS7raSyL\"></div>\n",
       "        <script>netpixi.call('3feDFM9mtHfK9SHS7raSyL', 'gFGaBMTAQdGaHJJQshijMZ', 'changeGraph', 'eyJpZCI6IDcwLCAidHlwZSI6ICJ2ZXJ0ZXgiLCAicHJvcHMiOiB7ImNvbG9yIjogNjUyODB9fQo=');</script>\n",
       "    "
      ],
      "text/plain": [
       "<IPython.core.display.HTML object>"
      ]
     },
     "metadata": {},
     "output_type": "display_data"
    },
    {
     "data": {
      "text/html": [
       "\n",
       "        <div id=\"6mTHRzH3XRjUScmiJNL4uG\"></div>\n",
       "        <script>netpixi.call('6mTHRzH3XRjUScmiJNL4uG', 'gFGaBMTAQdGaHJJQshijMZ', 'changeGraph', 'eyJpZCI6IDcxLCAidHlwZSI6ICJ2ZXJ0ZXgiLCAicHJvcHMiOiB7ImNvbG9yIjogMTY3MTE2ODB9fQo=');</script>\n",
       "    "
      ],
      "text/plain": [
       "<IPython.core.display.HTML object>"
      ]
     },
     "metadata": {},
     "output_type": "display_data"
    },
    {
     "data": {
      "text/html": [
       "\n",
       "        <div id=\"CHhfdLB6fA43XYFzZsRefs\"></div>\n",
       "        <script>netpixi.call('CHhfdLB6fA43XYFzZsRefs', 'gFGaBMTAQdGaHJJQshijMZ', 'changeGraph', 'eyJpZCI6IDcyLCAidHlwZSI6ICJ2ZXJ0ZXgiLCAicHJvcHMiOiB7ImNvbG9yIjogMTY3MTE2ODB9fQo=');</script>\n",
       "    "
      ],
      "text/plain": [
       "<IPython.core.display.HTML object>"
      ]
     },
     "metadata": {},
     "output_type": "display_data"
    },
    {
     "data": {
      "text/html": [
       "\n",
       "        <div id=\"EEZVMnhuNdzq2NTF9RXogT\"></div>\n",
       "        <script>netpixi.call('EEZVMnhuNdzq2NTF9RXogT', 'gFGaBMTAQdGaHJJQshijMZ', 'changeGraph', 'eyJpZCI6IDczLCAidHlwZSI6ICJ2ZXJ0ZXgiLCAicHJvcHMiOiB7ImNvbG9yIjogMTY3MTE2ODB9fQo=');</script>\n",
       "    "
      ],
      "text/plain": [
       "<IPython.core.display.HTML object>"
      ]
     },
     "metadata": {},
     "output_type": "display_data"
    },
    {
     "data": {
      "text/html": [
       "\n",
       "        <div id=\"6dG3rjrhKPVLjiqLgEs4WF\"></div>\n",
       "        <script>netpixi.call('6dG3rjrhKPVLjiqLgEs4WF', 'gFGaBMTAQdGaHJJQshijMZ', 'changeGraph', 'eyJpZCI6IDc0LCAidHlwZSI6ICJ2ZXJ0ZXgiLCAicHJvcHMiOiB7ImNvbG9yIjogNjUyODB9fQo=');</script>\n",
       "    "
      ],
      "text/plain": [
       "<IPython.core.display.HTML object>"
      ]
     },
     "metadata": {},
     "output_type": "display_data"
    },
    {
     "data": {
      "text/html": [
       "\n",
       "        <div id=\"5SA6cbdFFVAxqrXuKuXdVw\"></div>\n",
       "        <script>netpixi.call('5SA6cbdFFVAxqrXuKuXdVw', 'gFGaBMTAQdGaHJJQshijMZ', 'changeGraph', 'eyJpZCI6IDc1LCAidHlwZSI6ICJ2ZXJ0ZXgiLCAicHJvcHMiOiB7ImNvbG9yIjogMTY3MTE2ODB9fQo=');</script>\n",
       "    "
      ],
      "text/plain": [
       "<IPython.core.display.HTML object>"
      ]
     },
     "metadata": {},
     "output_type": "display_data"
    },
    {
     "data": {
      "text/html": [
       "\n",
       "        <div id=\"WT9DcjggmW9UYfe8XZtpPu\"></div>\n",
       "        <script>netpixi.call('WT9DcjggmW9UYfe8XZtpPu', 'gFGaBMTAQdGaHJJQshijMZ', 'changeGraph', 'eyJpZCI6IDc2LCAidHlwZSI6ICJ2ZXJ0ZXgiLCAicHJvcHMiOiB7ImNvbG9yIjogMTY3MTE2ODB9fQo=');</script>\n",
       "    "
      ],
      "text/plain": [
       "<IPython.core.display.HTML object>"
      ]
     },
     "metadata": {},
     "output_type": "display_data"
    },
    {
     "data": {
      "text/html": [
       "\n",
       "        <div id=\"kZbcLR8Sor4NuktTcHKwou\"></div>\n",
       "        <script>netpixi.call('kZbcLR8Sor4NuktTcHKwou', 'gFGaBMTAQdGaHJJQshijMZ', 'changeGraph', 'eyJpZCI6IDc3LCAidHlwZSI6ICJ2ZXJ0ZXgiLCAicHJvcHMiOiB7ImNvbG9yIjogMTY3MTE2ODB9fQo=');</script>\n",
       "    "
      ],
      "text/plain": [
       "<IPython.core.display.HTML object>"
      ]
     },
     "metadata": {},
     "output_type": "display_data"
    },
    {
     "data": {
      "text/html": [
       "\n",
       "        <div id=\"39zK78CbNYMToSZzXn2Tdb\"></div>\n",
       "        <script>netpixi.call('39zK78CbNYMToSZzXn2Tdb', 'gFGaBMTAQdGaHJJQshijMZ', 'changeGraph', 'eyJpZCI6IDc4LCAidHlwZSI6ICJ2ZXJ0ZXgiLCAicHJvcHMiOiB7ImNvbG9yIjogNjUyODB9fQo=');</script>\n",
       "    "
      ],
      "text/plain": [
       "<IPython.core.display.HTML object>"
      ]
     },
     "metadata": {},
     "output_type": "display_data"
    },
    {
     "data": {
      "text/html": [
       "\n",
       "        <div id=\"N6P566M2sUGiRDuagf7Arg\"></div>\n",
       "        <script>netpixi.call('N6P566M2sUGiRDuagf7Arg', 'gFGaBMTAQdGaHJJQshijMZ', 'changeGraph', 'eyJpZCI6IDc5LCAidHlwZSI6ICJ2ZXJ0ZXgiLCAicHJvcHMiOiB7ImNvbG9yIjogMTY3MTE2ODB9fQo=');</script>\n",
       "    "
      ],
      "text/plain": [
       "<IPython.core.display.HTML object>"
      ]
     },
     "metadata": {},
     "output_type": "display_data"
    },
    {
     "data": {
      "text/html": [
       "\n",
       "        <div id=\"ZmmKyS2ZMjTzMi8eAVEQfk\"></div>\n",
       "        <script>netpixi.call('ZmmKyS2ZMjTzMi8eAVEQfk', 'gFGaBMTAQdGaHJJQshijMZ', 'changeGraph', 'eyJpZCI6IDgwLCAidHlwZSI6ICJ2ZXJ0ZXgiLCAicHJvcHMiOiB7ImNvbG9yIjogMTY3MTE2ODB9fQo=');</script>\n",
       "    "
      ],
      "text/plain": [
       "<IPython.core.display.HTML object>"
      ]
     },
     "metadata": {},
     "output_type": "display_data"
    },
    {
     "data": {
      "text/html": [
       "\n",
       "        <div id=\"HWTZy8hnki9PqTNJmZcaMD\"></div>\n",
       "        <script>netpixi.call('HWTZy8hnki9PqTNJmZcaMD', 'gFGaBMTAQdGaHJJQshijMZ', 'changeGraph', 'eyJpZCI6IDgxLCAidHlwZSI6ICJ2ZXJ0ZXgiLCAicHJvcHMiOiB7ImNvbG9yIjogNjUyODB9fQo=');</script>\n",
       "    "
      ],
      "text/plain": [
       "<IPython.core.display.HTML object>"
      ]
     },
     "metadata": {},
     "output_type": "display_data"
    },
    {
     "data": {
      "text/html": [
       "\n",
       "        <div id=\"P5Wav6pLn8WxPEWxc3a2ZN\"></div>\n",
       "        <script>netpixi.call('P5Wav6pLn8WxPEWxc3a2ZN', 'gFGaBMTAQdGaHJJQshijMZ', 'changeGraph', 'eyJpZCI6IDgyLCAidHlwZSI6ICJ2ZXJ0ZXgiLCAicHJvcHMiOiB7ImNvbG9yIjogMTY3MTE2ODB9fQo=');</script>\n",
       "    "
      ],
      "text/plain": [
       "<IPython.core.display.HTML object>"
      ]
     },
     "metadata": {},
     "output_type": "display_data"
    },
    {
     "data": {
      "text/html": [
       "\n",
       "        <div id=\"3BuuG9Xm3LyfHaA7UMvKgw\"></div>\n",
       "        <script>netpixi.call('3BuuG9Xm3LyfHaA7UMvKgw', 'gFGaBMTAQdGaHJJQshijMZ', 'changeGraph', 'eyJpZCI6IDgzLCAidHlwZSI6ICJ2ZXJ0ZXgiLCAicHJvcHMiOiB7ImNvbG9yIjogNjUyODB9fQo=');</script>\n",
       "    "
      ],
      "text/plain": [
       "<IPython.core.display.HTML object>"
      ]
     },
     "metadata": {},
     "output_type": "display_data"
    },
    {
     "data": {
      "text/html": [
       "\n",
       "        <div id=\"RfeQ4qbDAEZ3bCH27kB7gi\"></div>\n",
       "        <script>netpixi.call('RfeQ4qbDAEZ3bCH27kB7gi', 'gFGaBMTAQdGaHJJQshijMZ', 'changeGraph', 'eyJpZCI6IDg0LCAidHlwZSI6ICJ2ZXJ0ZXgiLCAicHJvcHMiOiB7ImNvbG9yIjogNjUyODB9fQo=');</script>\n",
       "    "
      ],
      "text/plain": [
       "<IPython.core.display.HTML object>"
      ]
     },
     "metadata": {},
     "output_type": "display_data"
    },
    {
     "data": {
      "text/html": [
       "\n",
       "        <div id=\"oLkMRbARTfZdne77PXeNMA\"></div>\n",
       "        <script>netpixi.call('oLkMRbARTfZdne77PXeNMA', 'gFGaBMTAQdGaHJJQshijMZ', 'changeGraph', 'eyJpZCI6IDg1LCAidHlwZSI6ICJ2ZXJ0ZXgiLCAicHJvcHMiOiB7ImNvbG9yIjogMTY3MTE2ODB9fQo=');</script>\n",
       "    "
      ],
      "text/plain": [
       "<IPython.core.display.HTML object>"
      ]
     },
     "metadata": {},
     "output_type": "display_data"
    },
    {
     "data": {
      "text/html": [
       "\n",
       "        <div id=\"FRJPqiu7Jdks3RppRWoT2n\"></div>\n",
       "        <script>netpixi.call('FRJPqiu7Jdks3RppRWoT2n', 'gFGaBMTAQdGaHJJQshijMZ', 'changeGraph', 'eyJpZCI6IDg2LCAidHlwZSI6ICJ2ZXJ0ZXgiLCAicHJvcHMiOiB7ImNvbG9yIjogNjUyODB9fQo=');</script>\n",
       "    "
      ],
      "text/plain": [
       "<IPython.core.display.HTML object>"
      ]
     },
     "metadata": {},
     "output_type": "display_data"
    },
    {
     "data": {
      "text/html": [
       "\n",
       "        <div id=\"9YoWZTWJu45eN4RhyfPxbQ\"></div>\n",
       "        <script>netpixi.call('9YoWZTWJu45eN4RhyfPxbQ', 'gFGaBMTAQdGaHJJQshijMZ', 'changeGraph', 'eyJpZCI6IDg3LCAidHlwZSI6ICJ2ZXJ0ZXgiLCAicHJvcHMiOiB7ImNvbG9yIjogMTY3MTE2ODB9fQo=');</script>\n",
       "    "
      ],
      "text/plain": [
       "<IPython.core.display.HTML object>"
      ]
     },
     "metadata": {},
     "output_type": "display_data"
    },
    {
     "data": {
      "text/html": [
       "\n",
       "        <div id=\"WQfWWf2FJxCNeQWc3FrNui\"></div>\n",
       "        <script>netpixi.call('WQfWWf2FJxCNeQWc3FrNui', 'gFGaBMTAQdGaHJJQshijMZ', 'changeGraph', 'eyJpZCI6IDg4LCAidHlwZSI6ICJ2ZXJ0ZXgiLCAicHJvcHMiOiB7ImNvbG9yIjogMTY3MTE2ODB9fQo=');</script>\n",
       "    "
      ],
      "text/plain": [
       "<IPython.core.display.HTML object>"
      ]
     },
     "metadata": {},
     "output_type": "display_data"
    },
    {
     "data": {
      "text/html": [
       "\n",
       "        <div id=\"SNvELs8fXs4cZVQsobCeWR\"></div>\n",
       "        <script>netpixi.call('SNvELs8fXs4cZVQsobCeWR', 'gFGaBMTAQdGaHJJQshijMZ', 'changeGraph', 'eyJpZCI6IDg5LCAidHlwZSI6ICJ2ZXJ0ZXgiLCAicHJvcHMiOiB7ImNvbG9yIjogMTY3MTE2ODB9fQo=');</script>\n",
       "    "
      ],
      "text/plain": [
       "<IPython.core.display.HTML object>"
      ]
     },
     "metadata": {},
     "output_type": "display_data"
    },
    {
     "data": {
      "text/html": [
       "\n",
       "        <div id=\"2BpLJ4FvJfE6YbexBAftWc\"></div>\n",
       "        <script>netpixi.call('2BpLJ4FvJfE6YbexBAftWc', 'gFGaBMTAQdGaHJJQshijMZ', 'changeGraph', 'eyJpZCI6IDkwLCAidHlwZSI6ICJ2ZXJ0ZXgiLCAicHJvcHMiOiB7ImNvbG9yIjogMTY3MTE2ODB9fQo=');</script>\n",
       "    "
      ],
      "text/plain": [
       "<IPython.core.display.HTML object>"
      ]
     },
     "metadata": {},
     "output_type": "display_data"
    },
    {
     "data": {
      "text/html": [
       "\n",
       "        <div id=\"Ns6EQkTGjigFsHCEscBSqu\"></div>\n",
       "        <script>netpixi.call('Ns6EQkTGjigFsHCEscBSqu', 'gFGaBMTAQdGaHJJQshijMZ', 'changeGraph', 'eyJpZCI6IDkxLCAidHlwZSI6ICJ2ZXJ0ZXgiLCAicHJvcHMiOiB7ImNvbG9yIjogNjUyODB9fQo=');</script>\n",
       "    "
      ],
      "text/plain": [
       "<IPython.core.display.HTML object>"
      ]
     },
     "metadata": {},
     "output_type": "display_data"
    },
    {
     "data": {
      "text/html": [
       "\n",
       "        <div id=\"358N4KT7nBR8YTdRaQ6g2H\"></div>\n",
       "        <script>netpixi.call('358N4KT7nBR8YTdRaQ6g2H', 'gFGaBMTAQdGaHJJQshijMZ', 'changeGraph', 'eyJpZCI6IDkyLCAidHlwZSI6ICJ2ZXJ0ZXgiLCAicHJvcHMiOiB7ImNvbG9yIjogNjUyODB9fQo=');</script>\n",
       "    "
      ],
      "text/plain": [
       "<IPython.core.display.HTML object>"
      ]
     },
     "metadata": {},
     "output_type": "display_data"
    },
    {
     "data": {
      "text/html": [
       "\n",
       "        <div id=\"i8P3JG2tHe86UFjAi3bNZJ\"></div>\n",
       "        <script>netpixi.call('i8P3JG2tHe86UFjAi3bNZJ', 'gFGaBMTAQdGaHJJQshijMZ', 'changeGraph', 'eyJpZCI6IDkzLCAidHlwZSI6ICJ2ZXJ0ZXgiLCAicHJvcHMiOiB7ImNvbG9yIjogNjUyODB9fQo=');</script>\n",
       "    "
      ],
      "text/plain": [
       "<IPython.core.display.HTML object>"
      ]
     },
     "metadata": {},
     "output_type": "display_data"
    },
    {
     "data": {
      "text/html": [
       "\n",
       "        <div id=\"aNDhW9yHCSWT2fiHK5BzUJ\"></div>\n",
       "        <script>netpixi.call('aNDhW9yHCSWT2fiHK5BzUJ', 'gFGaBMTAQdGaHJJQshijMZ', 'changeGraph', 'eyJpZCI6IDk0LCAidHlwZSI6ICJ2ZXJ0ZXgiLCAicHJvcHMiOiB7ImNvbG9yIjogMTY3MTE2ODB9fQo=');</script>\n",
       "    "
      ],
      "text/plain": [
       "<IPython.core.display.HTML object>"
      ]
     },
     "metadata": {},
     "output_type": "display_data"
    },
    {
     "data": {
      "text/html": [
       "\n",
       "        <div id=\"nFebwDyNFohrMF6STKcFFk\"></div>\n",
       "        <script>netpixi.call('nFebwDyNFohrMF6STKcFFk', 'gFGaBMTAQdGaHJJQshijMZ', 'changeGraph', 'eyJpZCI6IDk1LCAidHlwZSI6ICJ2ZXJ0ZXgiLCAicHJvcHMiOiB7ImNvbG9yIjogNjUyODB9fQo=');</script>\n",
       "    "
      ],
      "text/plain": [
       "<IPython.core.display.HTML object>"
      ]
     },
     "metadata": {},
     "output_type": "display_data"
    },
    {
     "data": {
      "text/html": [
       "\n",
       "        <div id=\"VADV8nDaEjifbtxNeU8BzG\"></div>\n",
       "        <script>netpixi.call('VADV8nDaEjifbtxNeU8BzG', 'gFGaBMTAQdGaHJJQshijMZ', 'changeGraph', 'eyJpZCI6IDk2LCAidHlwZSI6ICJ2ZXJ0ZXgiLCAicHJvcHMiOiB7ImNvbG9yIjogMTY3MTE2ODB9fQo=');</script>\n",
       "    "
      ],
      "text/plain": [
       "<IPython.core.display.HTML object>"
      ]
     },
     "metadata": {},
     "output_type": "display_data"
    },
    {
     "data": {
      "text/html": [
       "\n",
       "        <div id=\"ZdCncEgXo3YtybTD4XnYcD\"></div>\n",
       "        <script>netpixi.call('ZdCncEgXo3YtybTD4XnYcD', 'gFGaBMTAQdGaHJJQshijMZ', 'changeGraph', 'eyJpZCI6IDk3LCAidHlwZSI6ICJ2ZXJ0ZXgiLCAicHJvcHMiOiB7ImNvbG9yIjogNjUyODB9fQo=');</script>\n",
       "    "
      ],
      "text/plain": [
       "<IPython.core.display.HTML object>"
      ]
     },
     "metadata": {},
     "output_type": "display_data"
    },
    {
     "data": {
      "text/html": [
       "\n",
       "        <div id=\"cgcbtPMJTXjAyBzzTYQpiW\"></div>\n",
       "        <script>netpixi.call('cgcbtPMJTXjAyBzzTYQpiW', 'gFGaBMTAQdGaHJJQshijMZ', 'changeGraph', 'eyJpZCI6IDk4LCAidHlwZSI6ICJ2ZXJ0ZXgiLCAicHJvcHMiOiB7ImNvbG9yIjogNjUyODB9fQo=');</script>\n",
       "    "
      ],
      "text/plain": [
       "<IPython.core.display.HTML object>"
      ]
     },
     "metadata": {},
     "output_type": "display_data"
    },
    {
     "data": {
      "text/html": [
       "\n",
       "        <div id=\"d7zi6g2G35Kcqua3tE47Jt\"></div>\n",
       "        <script>netpixi.call('d7zi6g2G35Kcqua3tE47Jt', 'gFGaBMTAQdGaHJJQshijMZ', 'changeGraph', 'eyJpZCI6IDk5LCAidHlwZSI6ICJ2ZXJ0ZXgiLCAicHJvcHMiOiB7ImNvbG9yIjogNjUyODB9fQo=');</script>\n",
       "    "
      ],
      "text/plain": [
       "<IPython.core.display.HTML object>"
      ]
     },
     "metadata": {},
     "output_type": "display_data"
    },
    {
     "data": {
      "text/html": [
       "\n",
       "        <div id=\"fo6a45L5gEZNSYg6B6XRxE\"></div>\n",
       "        <script>netpixi.call('fo6a45L5gEZNSYg6B6XRxE', 'gFGaBMTAQdGaHJJQshijMZ', 'changeGraph', 'eyJpZCI6IDEwMCwgInR5cGUiOiAidmVydGV4IiwgInByb3BzIjogeyJjb2xvciI6IDE2NzExNjgwfX0K');</script>\n",
       "    "
      ],
      "text/plain": [
       "<IPython.core.display.HTML object>"
      ]
     },
     "metadata": {},
     "output_type": "display_data"
    },
    {
     "data": {
      "text/html": [
       "\n",
       "        <div id=\"ELUwFdp5eANjFzZHgweHLJ\"></div>\n",
       "        <script>netpixi.call('ELUwFdp5eANjFzZHgweHLJ', 'gFGaBMTAQdGaHJJQshijMZ', 'changeGraph', 'eyJpZCI6IDEwMSwgInR5cGUiOiAidmVydGV4IiwgInByb3BzIjogeyJjb2xvciI6IDY1MjgwfX0K');</script>\n",
       "    "
      ],
      "text/plain": [
       "<IPython.core.display.HTML object>"
      ]
     },
     "metadata": {},
     "output_type": "display_data"
    },
    {
     "data": {
      "text/html": [
       "\n",
       "        <div id=\"YkyDcA7cefXy6eg6niHyoq\"></div>\n",
       "        <script>netpixi.call('YkyDcA7cefXy6eg6niHyoq', 'gFGaBMTAQdGaHJJQshijMZ', 'changeGraph', 'eyJpZCI6IDEwMiwgInR5cGUiOiAidmVydGV4IiwgInByb3BzIjogeyJjb2xvciI6IDY1MjgwfX0K');</script>\n",
       "    "
      ],
      "text/plain": [
       "<IPython.core.display.HTML object>"
      ]
     },
     "metadata": {},
     "output_type": "display_data"
    },
    {
     "data": {
      "text/html": [
       "\n",
       "        <div id=\"XpZufCsCozpQcHztzSxxN8\"></div>\n",
       "        <script>netpixi.call('XpZufCsCozpQcHztzSxxN8', 'gFGaBMTAQdGaHJJQshijMZ', 'changeGraph', 'eyJpZCI6IDEwMywgInR5cGUiOiAidmVydGV4IiwgInByb3BzIjogeyJjb2xvciI6IDE2NzExNjgwfX0K');</script>\n",
       "    "
      ],
      "text/plain": [
       "<IPython.core.display.HTML object>"
      ]
     },
     "metadata": {},
     "output_type": "display_data"
    },
    {
     "data": {
      "text/html": [
       "\n",
       "        <div id=\"TzrGqXxUgNcsrTXxwR4aFh\"></div>\n",
       "        <script>netpixi.call('TzrGqXxUgNcsrTXxwR4aFh', 'gFGaBMTAQdGaHJJQshijMZ', 'changeGraph', 'eyJpZCI6IDEwNCwgInR5cGUiOiAidmVydGV4IiwgInByb3BzIjogeyJjb2xvciI6IDE2NzExNjgwfX0K');</script>\n",
       "    "
      ],
      "text/plain": [
       "<IPython.core.display.HTML object>"
      ]
     },
     "metadata": {},
     "output_type": "display_data"
    },
    {
     "data": {
      "text/html": [
       "\n",
       "        <div id=\"K55anpwPPEJGbGfLSsyBfF\"></div>\n",
       "        <script>netpixi.call('K55anpwPPEJGbGfLSsyBfF', 'gFGaBMTAQdGaHJJQshijMZ', 'changeGraph', 'eyJpZCI6IDEwNSwgInR5cGUiOiAidmVydGV4IiwgInByb3BzIjogeyJjb2xvciI6IDE2NzExNjgwfX0K');</script>\n",
       "    "
      ],
      "text/plain": [
       "<IPython.core.display.HTML object>"
      ]
     },
     "metadata": {},
     "output_type": "display_data"
    },
    {
     "data": {
      "text/html": [
       "\n",
       "        <div id=\"cH8yja4iuLBBEsR9qKCV4H\"></div>\n",
       "        <script>netpixi.call('cH8yja4iuLBBEsR9qKCV4H', 'gFGaBMTAQdGaHJJQshijMZ', 'changeGraph', 'eyJpZCI6IDEwNiwgInR5cGUiOiAidmVydGV4IiwgInByb3BzIjogeyJjb2xvciI6IDE2NzExNjgwfX0K');</script>\n",
       "    "
      ],
      "text/plain": [
       "<IPython.core.display.HTML object>"
      ]
     },
     "metadata": {},
     "output_type": "display_data"
    },
    {
     "data": {
      "text/html": [
       "\n",
       "        <div id=\"RtoLuitqN8CtE9fGHTTcy8\"></div>\n",
       "        <script>netpixi.call('RtoLuitqN8CtE9fGHTTcy8', 'gFGaBMTAQdGaHJJQshijMZ', 'changeGraph', 'eyJpZCI6IDEwNywgInR5cGUiOiAidmVydGV4IiwgInByb3BzIjogeyJjb2xvciI6IDE2NzExNjgwfX0K');</script>\n",
       "    "
      ],
      "text/plain": [
       "<IPython.core.display.HTML object>"
      ]
     },
     "metadata": {},
     "output_type": "display_data"
    },
    {
     "data": {
      "text/html": [
       "\n",
       "        <div id=\"a9QCgGMmzhKXMXqZ9wFWd8\"></div>\n",
       "        <script>netpixi.call('a9QCgGMmzhKXMXqZ9wFWd8', 'gFGaBMTAQdGaHJJQshijMZ', 'changeGraph', 'eyJpZCI6IDEwOCwgInR5cGUiOiAidmVydGV4IiwgInByb3BzIjogeyJjb2xvciI6IDY1MjgwfX0K');</script>\n",
       "    "
      ],
      "text/plain": [
       "<IPython.core.display.HTML object>"
      ]
     },
     "metadata": {},
     "output_type": "display_data"
    },
    {
     "data": {
      "text/html": [
       "\n",
       "        <div id=\"R8XkxQSUez2ChEcQZjNC3X\"></div>\n",
       "        <script>netpixi.call('R8XkxQSUez2ChEcQZjNC3X', 'gFGaBMTAQdGaHJJQshijMZ', 'changeGraph', 'eyJpZCI6IDEwOSwgInR5cGUiOiAidmVydGV4IiwgInByb3BzIjogeyJjb2xvciI6IDE2NzExNjgwfX0K');</script>\n",
       "    "
      ],
      "text/plain": [
       "<IPython.core.display.HTML object>"
      ]
     },
     "metadata": {},
     "output_type": "display_data"
    },
    {
     "data": {
      "text/html": [
       "\n",
       "        <div id=\"eVZAL9RvCunFA7LPjHvAK8\"></div>\n",
       "        <script>netpixi.call('eVZAL9RvCunFA7LPjHvAK8', 'gFGaBMTAQdGaHJJQshijMZ', 'changeGraph', 'eyJpZCI6IDExMCwgInR5cGUiOiAidmVydGV4IiwgInByb3BzIjogeyJjb2xvciI6IDE2NzExNjgwfX0K');</script>\n",
       "    "
      ],
      "text/plain": [
       "<IPython.core.display.HTML object>"
      ]
     },
     "metadata": {},
     "output_type": "display_data"
    },
    {
     "data": {
      "text/html": [
       "\n",
       "        <div id=\"aXG7dTMPycWvoUCifj7yHq\"></div>\n",
       "        <script>netpixi.call('aXG7dTMPycWvoUCifj7yHq', 'gFGaBMTAQdGaHJJQshijMZ', 'changeGraph', 'eyJpZCI6IDExMSwgInR5cGUiOiAidmVydGV4IiwgInByb3BzIjogeyJjb2xvciI6IDE2NzExNjgwfX0K');</script>\n",
       "    "
      ],
      "text/plain": [
       "<IPython.core.display.HTML object>"
      ]
     },
     "metadata": {},
     "output_type": "display_data"
    },
    {
     "data": {
      "text/html": [
       "\n",
       "        <div id=\"TkqQCyZSM23Hb5BTmU5MSR\"></div>\n",
       "        <script>netpixi.call('TkqQCyZSM23Hb5BTmU5MSR', 'gFGaBMTAQdGaHJJQshijMZ', 'changeGraph', 'eyJpZCI6IDExMiwgInR5cGUiOiAidmVydGV4IiwgInByb3BzIjogeyJjb2xvciI6IDE2NzExNjgwfX0K');</script>\n",
       "    "
      ],
      "text/plain": [
       "<IPython.core.display.HTML object>"
      ]
     },
     "metadata": {},
     "output_type": "display_data"
    },
    {
     "data": {
      "text/html": [
       "\n",
       "        <div id=\"h2qo5uvcF6hGfRohAC6beM\"></div>\n",
       "        <script>netpixi.call('h2qo5uvcF6hGfRohAC6beM', 'gFGaBMTAQdGaHJJQshijMZ', 'changeGraph', 'eyJpZCI6IDExMywgInR5cGUiOiAidmVydGV4IiwgInByb3BzIjogeyJjb2xvciI6IDE2NzExNjgwfX0K');</script>\n",
       "    "
      ],
      "text/plain": [
       "<IPython.core.display.HTML object>"
      ]
     },
     "metadata": {},
     "output_type": "display_data"
    },
    {
     "data": {
      "text/html": [
       "\n",
       "        <div id=\"a3opyeUAEgB9tdotPYoDry\"></div>\n",
       "        <script>netpixi.call('a3opyeUAEgB9tdotPYoDry', 'gFGaBMTAQdGaHJJQshijMZ', 'changeGraph', 'eyJpZCI6IDExNCwgInR5cGUiOiAidmVydGV4IiwgInByb3BzIjogeyJjb2xvciI6IDE2NzExNjgwfX0K');</script>\n",
       "    "
      ],
      "text/plain": [
       "<IPython.core.display.HTML object>"
      ]
     },
     "metadata": {},
     "output_type": "display_data"
    },
    {
     "data": {
      "text/html": [
       "\n",
       "        <div id=\"JKmyFamQZSymJ4XLwb6wSG\"></div>\n",
       "        <script>netpixi.call('JKmyFamQZSymJ4XLwb6wSG', 'gFGaBMTAQdGaHJJQshijMZ', 'changeGraph', 'eyJpZCI6IDExNSwgInR5cGUiOiAidmVydGV4IiwgInByb3BzIjogeyJjb2xvciI6IDE2NzExNjgwfX0K');</script>\n",
       "    "
      ],
      "text/plain": [
       "<IPython.core.display.HTML object>"
      ]
     },
     "metadata": {},
     "output_type": "display_data"
    },
    {
     "data": {
      "text/html": [
       "\n",
       "        <div id=\"NgEJaimYfAJRbCK3rWBzb2\"></div>\n",
       "        <script>netpixi.call('NgEJaimYfAJRbCK3rWBzb2', 'gFGaBMTAQdGaHJJQshijMZ', 'changeGraph', 'eyJpZCI6IDExNiwgInR5cGUiOiAidmVydGV4IiwgInByb3BzIjogeyJjb2xvciI6IDE2NzExNjgwfX0K');</script>\n",
       "    "
      ],
      "text/plain": [
       "<IPython.core.display.HTML object>"
      ]
     },
     "metadata": {},
     "output_type": "display_data"
    },
    {
     "data": {
      "text/html": [
       "\n",
       "        <div id=\"evFg6hMrY9cQ6mPFe6W9DG\"></div>\n",
       "        <script>netpixi.call('evFg6hMrY9cQ6mPFe6W9DG', 'gFGaBMTAQdGaHJJQshijMZ', 'changeGraph', 'eyJpZCI6IDExNywgInR5cGUiOiAidmVydGV4IiwgInByb3BzIjogeyJjb2xvciI6IDY1MjgwfX0K');</script>\n",
       "    "
      ],
      "text/plain": [
       "<IPython.core.display.HTML object>"
      ]
     },
     "metadata": {},
     "output_type": "display_data"
    },
    {
     "data": {
      "text/html": [
       "\n",
       "        <div id=\"FcgvGdxa4ieyYBVXiSP4zU\"></div>\n",
       "        <script>netpixi.call('FcgvGdxa4ieyYBVXiSP4zU', 'gFGaBMTAQdGaHJJQshijMZ', 'changeGraph', 'eyJpZCI6IDExOCwgInR5cGUiOiAidmVydGV4IiwgInByb3BzIjogeyJjb2xvciI6IDE2NzExNjgwfX0K');</script>\n",
       "    "
      ],
      "text/plain": [
       "<IPython.core.display.HTML object>"
      ]
     },
     "metadata": {},
     "output_type": "display_data"
    },
    {
     "data": {
      "text/html": [
       "\n",
       "        <div id=\"g4wcUBbFpJrLRJdfCMh3wM\"></div>\n",
       "        <script>netpixi.call('g4wcUBbFpJrLRJdfCMh3wM', 'gFGaBMTAQdGaHJJQshijMZ', 'changeGraph', 'eyJpZCI6IDExOSwgInR5cGUiOiAidmVydGV4IiwgInByb3BzIjogeyJjb2xvciI6IDY1MjgwfX0K');</script>\n",
       "    "
      ],
      "text/plain": [
       "<IPython.core.display.HTML object>"
      ]
     },
     "metadata": {},
     "output_type": "display_data"
    },
    {
     "data": {
      "text/html": [
       "\n",
       "        <div id=\"VAKv7K7JeejDFzzptGWABK\"></div>\n",
       "        <script>netpixi.call('VAKv7K7JeejDFzzptGWABK', 'gFGaBMTAQdGaHJJQshijMZ', 'changeGraph', 'eyJpZCI6IDEyMCwgInR5cGUiOiAidmVydGV4IiwgInByb3BzIjogeyJjb2xvciI6IDY1MjgwfX0K');</script>\n",
       "    "
      ],
      "text/plain": [
       "<IPython.core.display.HTML object>"
      ]
     },
     "metadata": {},
     "output_type": "display_data"
    },
    {
     "data": {
      "text/html": [
       "\n",
       "        <div id=\"RULEZTsfz9sUqLzQP8gySJ\"></div>\n",
       "        <script>netpixi.call('RULEZTsfz9sUqLzQP8gySJ', 'gFGaBMTAQdGaHJJQshijMZ', 'changeGraph', 'eyJpZCI6IDEyMSwgInR5cGUiOiAidmVydGV4IiwgInByb3BzIjogeyJjb2xvciI6IDE2NzExNjgwfX0K');</script>\n",
       "    "
      ],
      "text/plain": [
       "<IPython.core.display.HTML object>"
      ]
     },
     "metadata": {},
     "output_type": "display_data"
    },
    {
     "data": {
      "text/html": [
       "\n",
       "        <div id=\"fHeVsxqBFCjmM8bYHRYWAr\"></div>\n",
       "        <script>netpixi.call('fHeVsxqBFCjmM8bYHRYWAr', 'gFGaBMTAQdGaHJJQshijMZ', 'changeGraph', 'eyJpZCI6IDEyMiwgInR5cGUiOiAidmVydGV4IiwgInByb3BzIjogeyJjb2xvciI6IDY1MjgwfX0K');</script>\n",
       "    "
      ],
      "text/plain": [
       "<IPython.core.display.HTML object>"
      ]
     },
     "metadata": {},
     "output_type": "display_data"
    },
    {
     "data": {
      "text/html": [
       "\n",
       "        <div id=\"WT2fFFfpFz2GsGTxSGiend\"></div>\n",
       "        <script>netpixi.call('WT2fFFfpFz2GsGTxSGiend', 'gFGaBMTAQdGaHJJQshijMZ', 'changeGraph', 'eyJpZCI6IDEyMywgInR5cGUiOiAidmVydGV4IiwgInByb3BzIjogeyJjb2xvciI6IDY1MjgwfX0K');</script>\n",
       "    "
      ],
      "text/plain": [
       "<IPython.core.display.HTML object>"
      ]
     },
     "metadata": {},
     "output_type": "display_data"
    },
    {
     "data": {
      "text/html": [
       "\n",
       "        <div id=\"XEsPQobGutXjMVhPH2ENFP\"></div>\n",
       "        <script>netpixi.call('XEsPQobGutXjMVhPH2ENFP', 'gFGaBMTAQdGaHJJQshijMZ', 'changeGraph', 'eyJpZCI6IDEyNCwgInR5cGUiOiAidmVydGV4IiwgInByb3BzIjogeyJjb2xvciI6IDE2NzExNjgwfX0K');</script>\n",
       "    "
      ],
      "text/plain": [
       "<IPython.core.display.HTML object>"
      ]
     },
     "metadata": {},
     "output_type": "display_data"
    },
    {
     "data": {
      "text/html": [
       "\n",
       "        <div id=\"WCSEciM7N6Yp5XgLDg9zup\"></div>\n",
       "        <script>netpixi.call('WCSEciM7N6Yp5XgLDg9zup', 'gFGaBMTAQdGaHJJQshijMZ', 'changeGraph', 'eyJpZCI6IDEyNSwgInR5cGUiOiAidmVydGV4IiwgInByb3BzIjogeyJjb2xvciI6IDY1MjgwfX0K');</script>\n",
       "    "
      ],
      "text/plain": [
       "<IPython.core.display.HTML object>"
      ]
     },
     "metadata": {},
     "output_type": "display_data"
    },
    {
     "data": {
      "text/html": [
       "\n",
       "        <div id=\"9rTtuPBYBCg8ofFCQyssab\"></div>\n",
       "        <script>netpixi.call('9rTtuPBYBCg8ofFCQyssab', 'gFGaBMTAQdGaHJJQshijMZ', 'changeGraph', 'eyJpZCI6IDEyNiwgInR5cGUiOiAidmVydGV4IiwgInByb3BzIjogeyJjb2xvciI6IDE2NzExNjgwfX0K');</script>\n",
       "    "
      ],
      "text/plain": [
       "<IPython.core.display.HTML object>"
      ]
     },
     "metadata": {},
     "output_type": "display_data"
    },
    {
     "data": {
      "text/html": [
       "\n",
       "        <div id=\"5SsqfQzFJtPBxsVSzPpcNW\"></div>\n",
       "        <script>netpixi.call('5SsqfQzFJtPBxsVSzPpcNW', 'gFGaBMTAQdGaHJJQshijMZ', 'changeGraph', 'eyJpZCI6IDEyNywgInR5cGUiOiAidmVydGV4IiwgInByb3BzIjogeyJjb2xvciI6IDY1MjgwfX0K');</script>\n",
       "    "
      ],
      "text/plain": [
       "<IPython.core.display.HTML object>"
      ]
     },
     "metadata": {},
     "output_type": "display_data"
    },
    {
     "data": {
      "text/html": [
       "\n",
       "        <div id=\"JKRSHtX9NmWeiMTSoaNudR\"></div>\n",
       "        <script>netpixi.call('JKRSHtX9NmWeiMTSoaNudR', 'gFGaBMTAQdGaHJJQshijMZ', 'changeGraph', 'eyJpZCI6IDEyOCwgInR5cGUiOiAidmVydGV4IiwgInByb3BzIjogeyJjb2xvciI6IDE2NzExNjgwfX0K');</script>\n",
       "    "
      ],
      "text/plain": [
       "<IPython.core.display.HTML object>"
      ]
     },
     "metadata": {},
     "output_type": "display_data"
    },
    {
     "data": {
      "text/html": [
       "\n",
       "        <div id=\"JGyhiHqvh2DhTuNuxvr4ri\"></div>\n",
       "        <script>netpixi.call('JGyhiHqvh2DhTuNuxvr4ri', 'gFGaBMTAQdGaHJJQshijMZ', 'changeGraph', 'eyJpZCI6IDEyOSwgInR5cGUiOiAidmVydGV4IiwgInByb3BzIjogeyJjb2xvciI6IDE2NzExNjgwfX0K');</script>\n",
       "    "
      ],
      "text/plain": [
       "<IPython.core.display.HTML object>"
      ]
     },
     "metadata": {},
     "output_type": "display_data"
    },
    {
     "data": {
      "text/html": [
       "\n",
       "        <div id=\"4jWYCL5uhEnnHxBu9hh9Ap\"></div>\n",
       "        <script>netpixi.call('4jWYCL5uhEnnHxBu9hh9Ap', 'gFGaBMTAQdGaHJJQshijMZ', 'changeGraph', 'eyJpZCI6IDEzMCwgInR5cGUiOiAidmVydGV4IiwgInByb3BzIjogeyJjb2xvciI6IDY1MjgwfX0K');</script>\n",
       "    "
      ],
      "text/plain": [
       "<IPython.core.display.HTML object>"
      ]
     },
     "metadata": {},
     "output_type": "display_data"
    },
    {
     "data": {
      "text/html": [
       "\n",
       "        <div id=\"aejydgq3fU5TJ4s8H3NaN2\"></div>\n",
       "        <script>netpixi.call('aejydgq3fU5TJ4s8H3NaN2', 'gFGaBMTAQdGaHJJQshijMZ', 'changeGraph', 'eyJpZCI6IDEzMSwgInR5cGUiOiAidmVydGV4IiwgInByb3BzIjogeyJjb2xvciI6IDE2NzExNjgwfX0K');</script>\n",
       "    "
      ],
      "text/plain": [
       "<IPython.core.display.HTML object>"
      ]
     },
     "metadata": {},
     "output_type": "display_data"
    },
    {
     "data": {
      "text/html": [
       "\n",
       "        <div id=\"hppN7CeKNMZVkuW4F8ph2v\"></div>\n",
       "        <script>netpixi.call('hppN7CeKNMZVkuW4F8ph2v', 'gFGaBMTAQdGaHJJQshijMZ', 'changeGraph', 'eyJpZCI6IDEzMiwgInR5cGUiOiAidmVydGV4IiwgInByb3BzIjogeyJjb2xvciI6IDE2NzExNjgwfX0K');</script>\n",
       "    "
      ],
      "text/plain": [
       "<IPython.core.display.HTML object>"
      ]
     },
     "metadata": {},
     "output_type": "display_data"
    },
    {
     "data": {
      "text/html": [
       "\n",
       "        <div id=\"VSrSmwNb3KGucTbejoTWcs\"></div>\n",
       "        <script>netpixi.call('VSrSmwNb3KGucTbejoTWcs', 'gFGaBMTAQdGaHJJQshijMZ', 'changeGraph', 'eyJpZCI6IDEzMywgInR5cGUiOiAidmVydGV4IiwgInByb3BzIjogeyJjb2xvciI6IDE2NzExNjgwfX0K');</script>\n",
       "    "
      ],
      "text/plain": [
       "<IPython.core.display.HTML object>"
      ]
     },
     "metadata": {},
     "output_type": "display_data"
    },
    {
     "data": {
      "text/html": [
       "\n",
       "        <div id=\"6L5htm2GjXJpYwzcAKdKQT\"></div>\n",
       "        <script>netpixi.call('6L5htm2GjXJpYwzcAKdKQT', 'gFGaBMTAQdGaHJJQshijMZ', 'changeGraph', 'eyJpZCI6IDEzNCwgInR5cGUiOiAidmVydGV4IiwgInByb3BzIjogeyJjb2xvciI6IDE2NzExNjgwfX0K');</script>\n",
       "    "
      ],
      "text/plain": [
       "<IPython.core.display.HTML object>"
      ]
     },
     "metadata": {},
     "output_type": "display_data"
    },
    {
     "data": {
      "text/html": [
       "\n",
       "        <div id=\"4YNQV3ze6KrZGCJECzEqBC\"></div>\n",
       "        <script>netpixi.call('4YNQV3ze6KrZGCJECzEqBC', 'gFGaBMTAQdGaHJJQshijMZ', 'changeGraph', 'eyJpZCI6IDEzNSwgInR5cGUiOiAidmVydGV4IiwgInByb3BzIjogeyJjb2xvciI6IDE2NzExNjgwfX0K');</script>\n",
       "    "
      ],
      "text/plain": [
       "<IPython.core.display.HTML object>"
      ]
     },
     "metadata": {},
     "output_type": "display_data"
    },
    {
     "data": {
      "text/html": [
       "\n",
       "        <div id=\"XdYrEsByBxUdWNrTt6VGsx\"></div>\n",
       "        <script>netpixi.call('XdYrEsByBxUdWNrTt6VGsx', 'gFGaBMTAQdGaHJJQshijMZ', 'changeGraph', 'eyJpZCI6IDEzNiwgInR5cGUiOiAidmVydGV4IiwgInByb3BzIjogeyJjb2xvciI6IDE2NzExNjgwfX0K');</script>\n",
       "    "
      ],
      "text/plain": [
       "<IPython.core.display.HTML object>"
      ]
     },
     "metadata": {},
     "output_type": "display_data"
    },
    {
     "data": {
      "text/html": [
       "\n",
       "        <div id=\"k8KTYM8EorDEyjkjMF3Lzd\"></div>\n",
       "        <script>netpixi.call('k8KTYM8EorDEyjkjMF3Lzd', 'gFGaBMTAQdGaHJJQshijMZ', 'changeGraph', 'eyJpZCI6IDEzNywgInR5cGUiOiAidmVydGV4IiwgInByb3BzIjogeyJjb2xvciI6IDY1MjgwfX0K');</script>\n",
       "    "
      ],
      "text/plain": [
       "<IPython.core.display.HTML object>"
      ]
     },
     "metadata": {},
     "output_type": "display_data"
    },
    {
     "data": {
      "text/html": [
       "\n",
       "        <div id=\"3pgSe9oaMgJAMKiEPvo7uQ\"></div>\n",
       "        <script>netpixi.call('3pgSe9oaMgJAMKiEPvo7uQ', 'gFGaBMTAQdGaHJJQshijMZ', 'changeGraph', 'eyJpZCI6IDEzOCwgInR5cGUiOiAidmVydGV4IiwgInByb3BzIjogeyJjb2xvciI6IDE2NzExNjgwfX0K');</script>\n",
       "    "
      ],
      "text/plain": [
       "<IPython.core.display.HTML object>"
      ]
     },
     "metadata": {},
     "output_type": "display_data"
    },
    {
     "data": {
      "text/html": [
       "\n",
       "        <div id=\"PtDZJPyobEJn5SKqAfNgAP\"></div>\n",
       "        <script>netpixi.call('PtDZJPyobEJn5SKqAfNgAP', 'gFGaBMTAQdGaHJJQshijMZ', 'changeGraph', 'eyJpZCI6IDEzOSwgInR5cGUiOiAidmVydGV4IiwgInByb3BzIjogeyJjb2xvciI6IDE2NzExNjgwfX0K');</script>\n",
       "    "
      ],
      "text/plain": [
       "<IPython.core.display.HTML object>"
      ]
     },
     "metadata": {},
     "output_type": "display_data"
    },
    {
     "data": {
      "text/html": [
       "\n",
       "        <div id=\"SdSuABf5ZCYKZv2Bcbi46V\"></div>\n",
       "        <script>netpixi.call('SdSuABf5ZCYKZv2Bcbi46V', 'gFGaBMTAQdGaHJJQshijMZ', 'changeGraph', 'eyJpZCI6IDE0MCwgInR5cGUiOiAidmVydGV4IiwgInByb3BzIjogeyJjb2xvciI6IDY1MjgwfX0K');</script>\n",
       "    "
      ],
      "text/plain": [
       "<IPython.core.display.HTML object>"
      ]
     },
     "metadata": {},
     "output_type": "display_data"
    },
    {
     "data": {
      "text/html": [
       "\n",
       "        <div id=\"RE56aXkeVchVP2FshMqKAv\"></div>\n",
       "        <script>netpixi.call('RE56aXkeVchVP2FshMqKAv', 'gFGaBMTAQdGaHJJQshijMZ', 'changeGraph', 'eyJpZCI6IDE0MSwgInR5cGUiOiAidmVydGV4IiwgInByb3BzIjogeyJjb2xvciI6IDY1MjgwfX0K');</script>\n",
       "    "
      ],
      "text/plain": [
       "<IPython.core.display.HTML object>"
      ]
     },
     "metadata": {},
     "output_type": "display_data"
    },
    {
     "data": {
      "text/html": [
       "\n",
       "        <div id=\"idLvMj85M4kAk7hFr7skDB\"></div>\n",
       "        <script>netpixi.call('idLvMj85M4kAk7hFr7skDB', 'gFGaBMTAQdGaHJJQshijMZ', 'changeGraph', 'eyJpZCI6IDE0MiwgInR5cGUiOiAidmVydGV4IiwgInByb3BzIjogeyJjb2xvciI6IDY1MjgwfX0K');</script>\n",
       "    "
      ],
      "text/plain": [
       "<IPython.core.display.HTML object>"
      ]
     },
     "metadata": {},
     "output_type": "display_data"
    },
    {
     "data": {
      "text/html": [
       "\n",
       "        <div id=\"mxSYsG9CyqT9rRxjcBRgde\"></div>\n",
       "        <script>netpixi.call('mxSYsG9CyqT9rRxjcBRgde', 'gFGaBMTAQdGaHJJQshijMZ', 'changeGraph', 'eyJpZCI6IDE0MywgInR5cGUiOiAidmVydGV4IiwgInByb3BzIjogeyJjb2xvciI6IDE2NzExNjgwfX0K');</script>\n",
       "    "
      ],
      "text/plain": [
       "<IPython.core.display.HTML object>"
      ]
     },
     "metadata": {},
     "output_type": "display_data"
    },
    {
     "data": {
      "text/html": [
       "\n",
       "        <div id=\"PrDy2Sm5sxcM3EXLRFddLD\"></div>\n",
       "        <script>netpixi.call('PrDy2Sm5sxcM3EXLRFddLD', 'gFGaBMTAQdGaHJJQshijMZ', 'changeGraph', 'eyJpZCI6IDE0NCwgInR5cGUiOiAidmVydGV4IiwgInByb3BzIjogeyJjb2xvciI6IDY1MjgwfX0K');</script>\n",
       "    "
      ],
      "text/plain": [
       "<IPython.core.display.HTML object>"
      ]
     },
     "metadata": {},
     "output_type": "display_data"
    },
    {
     "data": {
      "text/html": [
       "\n",
       "        <div id=\"fff2zGicugQdeMiahS8Hhf\"></div>\n",
       "        <script>netpixi.call('fff2zGicugQdeMiahS8Hhf', 'gFGaBMTAQdGaHJJQshijMZ', 'changeGraph', 'eyJpZCI6IDE0NSwgInR5cGUiOiAidmVydGV4IiwgInByb3BzIjogeyJjb2xvciI6IDE2NzExNjgwfX0K');</script>\n",
       "    "
      ],
      "text/plain": [
       "<IPython.core.display.HTML object>"
      ]
     },
     "metadata": {},
     "output_type": "display_data"
    },
    {
     "data": {
      "text/html": [
       "\n",
       "        <div id=\"nGniX3aZpuLiEgFaijWxL9\"></div>\n",
       "        <script>netpixi.call('nGniX3aZpuLiEgFaijWxL9', 'gFGaBMTAQdGaHJJQshijMZ', 'changeGraph', 'eyJpZCI6IDE0NiwgInR5cGUiOiAidmVydGV4IiwgInByb3BzIjogeyJjb2xvciI6IDY1MjgwfX0K');</script>\n",
       "    "
      ],
      "text/plain": [
       "<IPython.core.display.HTML object>"
      ]
     },
     "metadata": {},
     "output_type": "display_data"
    },
    {
     "data": {
      "text/html": [
       "\n",
       "        <div id=\"aQwrsKP6NiJf5jaBAiVY82\"></div>\n",
       "        <script>netpixi.call('aQwrsKP6NiJf5jaBAiVY82', 'gFGaBMTAQdGaHJJQshijMZ', 'changeGraph', 'eyJpZCI6IDE0NywgInR5cGUiOiAidmVydGV4IiwgInByb3BzIjogeyJjb2xvciI6IDY1MjgwfX0K');</script>\n",
       "    "
      ],
      "text/plain": [
       "<IPython.core.display.HTML object>"
      ]
     },
     "metadata": {},
     "output_type": "display_data"
    },
    {
     "data": {
      "text/html": [
       "\n",
       "        <div id=\"dbM9PL3nSu39bo2wZBMtu7\"></div>\n",
       "        <script>netpixi.call('dbM9PL3nSu39bo2wZBMtu7', 'gFGaBMTAQdGaHJJQshijMZ', 'changeGraph', 'eyJpZCI6IDE0OCwgInR5cGUiOiAidmVydGV4IiwgInByb3BzIjogeyJjb2xvciI6IDY1MjgwfX0K');</script>\n",
       "    "
      ],
      "text/plain": [
       "<IPython.core.display.HTML object>"
      ]
     },
     "metadata": {},
     "output_type": "display_data"
    },
    {
     "data": {
      "text/html": [
       "\n",
       "        <div id=\"h8AceJQLWNYFZ53hV2wWA8\"></div>\n",
       "        <script>netpixi.call('h8AceJQLWNYFZ53hV2wWA8', 'gFGaBMTAQdGaHJJQshijMZ', 'changeGraph', 'eyJpZCI6IDE0OSwgInR5cGUiOiAidmVydGV4IiwgInByb3BzIjogeyJjb2xvciI6IDE2NzExNjgwfX0K');</script>\n",
       "    "
      ],
      "text/plain": [
       "<IPython.core.display.HTML object>"
      ]
     },
     "metadata": {},
     "output_type": "display_data"
    },
    {
     "data": {
      "text/html": [
       "\n",
       "        <div id=\"Qf5sxnGLUpTzcz5gAscZb4\"></div>\n",
       "        <script>netpixi.call('Qf5sxnGLUpTzcz5gAscZb4', 'gFGaBMTAQdGaHJJQshijMZ', 'changeGraph', 'eyJpZCI6IDE1MCwgInR5cGUiOiAidmVydGV4IiwgInByb3BzIjogeyJjb2xvciI6IDE2NzExNjgwfX0K');</script>\n",
       "    "
      ],
      "text/plain": [
       "<IPython.core.display.HTML object>"
      ]
     },
     "metadata": {},
     "output_type": "display_data"
    },
    {
     "data": {
      "text/html": [
       "\n",
       "        <div id=\"DKYePbtH7j3KeEDMH7zzWi\"></div>\n",
       "        <script>netpixi.call('DKYePbtH7j3KeEDMH7zzWi', 'gFGaBMTAQdGaHJJQshijMZ', 'changeGraph', 'eyJpZCI6IDE1MSwgInR5cGUiOiAidmVydGV4IiwgInByb3BzIjogeyJjb2xvciI6IDE2NzExNjgwfX0K');</script>\n",
       "    "
      ],
      "text/plain": [
       "<IPython.core.display.HTML object>"
      ]
     },
     "metadata": {},
     "output_type": "display_data"
    },
    {
     "data": {
      "text/html": [
       "\n",
       "        <div id=\"MtfWj65JVB248viRHxn7Kj\"></div>\n",
       "        <script>netpixi.call('MtfWj65JVB248viRHxn7Kj', 'gFGaBMTAQdGaHJJQshijMZ', 'changeGraph', 'eyJpZCI6IDE1MiwgInR5cGUiOiAidmVydGV4IiwgInByb3BzIjogeyJjb2xvciI6IDY1MjgwfX0K');</script>\n",
       "    "
      ],
      "text/plain": [
       "<IPython.core.display.HTML object>"
      ]
     },
     "metadata": {},
     "output_type": "display_data"
    },
    {
     "data": {
      "text/html": [
       "\n",
       "        <div id=\"LGCVa7uShjeQHd7WYSZWBe\"></div>\n",
       "        <script>netpixi.call('LGCVa7uShjeQHd7WYSZWBe', 'gFGaBMTAQdGaHJJQshijMZ', 'changeGraph', 'eyJpZCI6IDE1MywgInR5cGUiOiAidmVydGV4IiwgInByb3BzIjogeyJjb2xvciI6IDY1MjgwfX0K');</script>\n",
       "    "
      ],
      "text/plain": [
       "<IPython.core.display.HTML object>"
      ]
     },
     "metadata": {},
     "output_type": "display_data"
    },
    {
     "data": {
      "text/html": [
       "\n",
       "        <div id=\"gtnRPwTBcyYhvheHQPu6FC\"></div>\n",
       "        <script>netpixi.call('gtnRPwTBcyYhvheHQPu6FC', 'gFGaBMTAQdGaHJJQshijMZ', 'changeGraph', 'eyJpZCI6IDE1NCwgInR5cGUiOiAidmVydGV4IiwgInByb3BzIjogeyJjb2xvciI6IDE2NzExNjgwfX0K');</script>\n",
       "    "
      ],
      "text/plain": [
       "<IPython.core.display.HTML object>"
      ]
     },
     "metadata": {},
     "output_type": "display_data"
    },
    {
     "data": {
      "text/html": [
       "\n",
       "        <div id=\"hM8rn6EXQKAjQovX68G3wY\"></div>\n",
       "        <script>netpixi.call('hM8rn6EXQKAjQovX68G3wY', 'gFGaBMTAQdGaHJJQshijMZ', 'changeGraph', 'eyJpZCI6IDE1NSwgInR5cGUiOiAidmVydGV4IiwgInByb3BzIjogeyJjb2xvciI6IDE2NzExNjgwfX0K');</script>\n",
       "    "
      ],
      "text/plain": [
       "<IPython.core.display.HTML object>"
      ]
     },
     "metadata": {},
     "output_type": "display_data"
    },
    {
     "data": {
      "text/html": [
       "\n",
       "        <div id=\"QAYgxwfMweQr38cjHyHMv2\"></div>\n",
       "        <script>netpixi.call('QAYgxwfMweQr38cjHyHMv2', 'gFGaBMTAQdGaHJJQshijMZ', 'changeGraph', 'eyJpZCI6IDE1NiwgInR5cGUiOiAidmVydGV4IiwgInByb3BzIjogeyJjb2xvciI6IDE2NzExNjgwfX0K');</script>\n",
       "    "
      ],
      "text/plain": [
       "<IPython.core.display.HTML object>"
      ]
     },
     "metadata": {},
     "output_type": "display_data"
    },
    {
     "data": {
      "text/html": [
       "\n",
       "        <div id=\"VSfc2wKqVjhxf2YvTeTf7L\"></div>\n",
       "        <script>netpixi.call('VSfc2wKqVjhxf2YvTeTf7L', 'gFGaBMTAQdGaHJJQshijMZ', 'changeGraph', 'eyJpZCI6IDE1NywgInR5cGUiOiAidmVydGV4IiwgInByb3BzIjogeyJjb2xvciI6IDY1MjgwfX0K');</script>\n",
       "    "
      ],
      "text/plain": [
       "<IPython.core.display.HTML object>"
      ]
     },
     "metadata": {},
     "output_type": "display_data"
    },
    {
     "data": {
      "text/html": [
       "\n",
       "        <div id=\"QPPQdLZoZrBKPLCPdD4bDR\"></div>\n",
       "        <script>netpixi.call('QPPQdLZoZrBKPLCPdD4bDR', 'gFGaBMTAQdGaHJJQshijMZ', 'changeGraph', 'eyJpZCI6IDE1OCwgInR5cGUiOiAidmVydGV4IiwgInByb3BzIjogeyJjb2xvciI6IDY1MjgwfX0K');</script>\n",
       "    "
      ],
      "text/plain": [
       "<IPython.core.display.HTML object>"
      ]
     },
     "metadata": {},
     "output_type": "display_data"
    },
    {
     "data": {
      "text/html": [
       "\n",
       "        <div id=\"28X2RB3BsAZxXmt4H2oPf7\"></div>\n",
       "        <script>netpixi.call('28X2RB3BsAZxXmt4H2oPf7', 'gFGaBMTAQdGaHJJQshijMZ', 'changeGraph', 'eyJpZCI6IDE1OSwgInR5cGUiOiAidmVydGV4IiwgInByb3BzIjogeyJjb2xvciI6IDY1MjgwfX0K');</script>\n",
       "    "
      ],
      "text/plain": [
       "<IPython.core.display.HTML object>"
      ]
     },
     "metadata": {},
     "output_type": "display_data"
    },
    {
     "data": {
      "text/html": [
       "\n",
       "        <div id=\"Mcv5dsYfdQ6a6Bmg8mJj6k\"></div>\n",
       "        <script>netpixi.call('Mcv5dsYfdQ6a6Bmg8mJj6k', 'gFGaBMTAQdGaHJJQshijMZ', 'changeGraph', 'eyJpZCI6IDE2MCwgInR5cGUiOiAidmVydGV4IiwgInByb3BzIjogeyJjb2xvciI6IDE2NzExNjgwfX0K');</script>\n",
       "    "
      ],
      "text/plain": [
       "<IPython.core.display.HTML object>"
      ]
     },
     "metadata": {},
     "output_type": "display_data"
    },
    {
     "data": {
      "text/html": [
       "\n",
       "        <div id=\"dv5MkYJ9PF99yFDewjPTy3\"></div>\n",
       "        <script>netpixi.call('dv5MkYJ9PF99yFDewjPTy3', 'gFGaBMTAQdGaHJJQshijMZ', 'changeGraph', 'eyJpZCI6IDE2MSwgInR5cGUiOiAidmVydGV4IiwgInByb3BzIjogeyJjb2xvciI6IDY1MjgwfX0K');</script>\n",
       "    "
      ],
      "text/plain": [
       "<IPython.core.display.HTML object>"
      ]
     },
     "metadata": {},
     "output_type": "display_data"
    },
    {
     "data": {
      "text/html": [
       "\n",
       "        <div id=\"KXWESk7oMefPaqfYZQg3uG\"></div>\n",
       "        <script>netpixi.call('KXWESk7oMefPaqfYZQg3uG', 'gFGaBMTAQdGaHJJQshijMZ', 'changeGraph', 'eyJpZCI6IDE2MiwgInR5cGUiOiAidmVydGV4IiwgInByb3BzIjogeyJjb2xvciI6IDE2NzExNjgwfX0K');</script>\n",
       "    "
      ],
      "text/plain": [
       "<IPython.core.display.HTML object>"
      ]
     },
     "metadata": {},
     "output_type": "display_data"
    },
    {
     "data": {
      "text/html": [
       "\n",
       "        <div id=\"KVnWSP5Fnd9xaJ3i4u7cUJ\"></div>\n",
       "        <script>netpixi.call('KVnWSP5Fnd9xaJ3i4u7cUJ', 'gFGaBMTAQdGaHJJQshijMZ', 'changeGraph', 'eyJpZCI6IDE2MywgInR5cGUiOiAidmVydGV4IiwgInByb3BzIjogeyJjb2xvciI6IDE2NzExNjgwfX0K');</script>\n",
       "    "
      ],
      "text/plain": [
       "<IPython.core.display.HTML object>"
      ]
     },
     "metadata": {},
     "output_type": "display_data"
    },
    {
     "data": {
      "text/html": [
       "\n",
       "        <div id=\"MLvMQLCG3xwnUMbG5zaKN6\"></div>\n",
       "        <script>netpixi.call('MLvMQLCG3xwnUMbG5zaKN6', 'gFGaBMTAQdGaHJJQshijMZ', 'changeGraph', 'eyJpZCI6IDE2NCwgInR5cGUiOiAidmVydGV4IiwgInByb3BzIjogeyJjb2xvciI6IDE2NzExNjgwfX0K');</script>\n",
       "    "
      ],
      "text/plain": [
       "<IPython.core.display.HTML object>"
      ]
     },
     "metadata": {},
     "output_type": "display_data"
    },
    {
     "data": {
      "text/html": [
       "\n",
       "        <div id=\"ezaNwPYRev5RT2563mdhBd\"></div>\n",
       "        <script>netpixi.call('ezaNwPYRev5RT2563mdhBd', 'gFGaBMTAQdGaHJJQshijMZ', 'changeGraph', 'eyJpZCI6IDE2NSwgInR5cGUiOiAidmVydGV4IiwgInByb3BzIjogeyJjb2xvciI6IDE2NzExNjgwfX0K');</script>\n",
       "    "
      ],
      "text/plain": [
       "<IPython.core.display.HTML object>"
      ]
     },
     "metadata": {},
     "output_type": "display_data"
    },
    {
     "data": {
      "text/html": [
       "\n",
       "        <div id=\"U4R8PUPzyVVShz6KNMv882\"></div>\n",
       "        <script>netpixi.call('U4R8PUPzyVVShz6KNMv882', 'gFGaBMTAQdGaHJJQshijMZ', 'changeGraph', 'eyJpZCI6IDE2NiwgInR5cGUiOiAidmVydGV4IiwgInByb3BzIjogeyJjb2xvciI6IDE2NzExNjgwfX0K');</script>\n",
       "    "
      ],
      "text/plain": [
       "<IPython.core.display.HTML object>"
      ]
     },
     "metadata": {},
     "output_type": "display_data"
    },
    {
     "data": {
      "text/html": [
       "\n",
       "        <div id=\"o5sGU56JSPQ94Yj9wrENn6\"></div>\n",
       "        <script>netpixi.call('o5sGU56JSPQ94Yj9wrENn6', 'gFGaBMTAQdGaHJJQshijMZ', 'changeGraph', 'eyJpZCI6IDE2NywgInR5cGUiOiAidmVydGV4IiwgInByb3BzIjogeyJjb2xvciI6IDE2NzExNjgwfX0K');</script>\n",
       "    "
      ],
      "text/plain": [
       "<IPython.core.display.HTML object>"
      ]
     },
     "metadata": {},
     "output_type": "display_data"
    },
    {
     "data": {
      "text/html": [
       "\n",
       "        <div id=\"AiHN2obfwTQnDfPoHCMtUE\"></div>\n",
       "        <script>netpixi.call('AiHN2obfwTQnDfPoHCMtUE', 'gFGaBMTAQdGaHJJQshijMZ', 'changeGraph', 'eyJpZCI6IDE2OCwgInR5cGUiOiAidmVydGV4IiwgInByb3BzIjogeyJjb2xvciI6IDY1MjgwfX0K');</script>\n",
       "    "
      ],
      "text/plain": [
       "<IPython.core.display.HTML object>"
      ]
     },
     "metadata": {},
     "output_type": "display_data"
    },
    {
     "data": {
      "text/html": [
       "\n",
       "        <div id=\"SsjVbrnHZSyKFCtucQcpex\"></div>\n",
       "        <script>netpixi.call('SsjVbrnHZSyKFCtucQcpex', 'gFGaBMTAQdGaHJJQshijMZ', 'changeGraph', 'eyJpZCI6IDE2OSwgInR5cGUiOiAidmVydGV4IiwgInByb3BzIjogeyJjb2xvciI6IDE2NzExNjgwfX0K');</script>\n",
       "    "
      ],
      "text/plain": [
       "<IPython.core.display.HTML object>"
      ]
     },
     "metadata": {},
     "output_type": "display_data"
    },
    {
     "data": {
      "text/html": [
       "\n",
       "        <div id=\"kadK9g5rFVJkeDxw2SXeD3\"></div>\n",
       "        <script>netpixi.call('kadK9g5rFVJkeDxw2SXeD3', 'gFGaBMTAQdGaHJJQshijMZ', 'changeGraph', 'eyJpZCI6IDE3MCwgInR5cGUiOiAidmVydGV4IiwgInByb3BzIjogeyJjb2xvciI6IDE2NzExNjgwfX0K');</script>\n",
       "    "
      ],
      "text/plain": [
       "<IPython.core.display.HTML object>"
      ]
     },
     "metadata": {},
     "output_type": "display_data"
    },
    {
     "data": {
      "text/html": [
       "\n",
       "        <div id=\"E79gmEsxAqfKbH77Ppu8S8\"></div>\n",
       "        <script>netpixi.call('E79gmEsxAqfKbH77Ppu8S8', 'gFGaBMTAQdGaHJJQshijMZ', 'changeGraph', 'eyJpZCI6IDE3MSwgInR5cGUiOiAidmVydGV4IiwgInByb3BzIjogeyJjb2xvciI6IDY1MjgwfX0K');</script>\n",
       "    "
      ],
      "text/plain": [
       "<IPython.core.display.HTML object>"
      ]
     },
     "metadata": {},
     "output_type": "display_data"
    },
    {
     "data": {
      "text/html": [
       "\n",
       "        <div id=\"5kwFUzvzG23b8TcdGTVHg7\"></div>\n",
       "        <script>netpixi.call('5kwFUzvzG23b8TcdGTVHg7', 'gFGaBMTAQdGaHJJQshijMZ', 'changeGraph', 'eyJpZCI6IDE3MiwgInR5cGUiOiAidmVydGV4IiwgInByb3BzIjogeyJjb2xvciI6IDY1MjgwfX0K');</script>\n",
       "    "
      ],
      "text/plain": [
       "<IPython.core.display.HTML object>"
      ]
     },
     "metadata": {},
     "output_type": "display_data"
    },
    {
     "data": {
      "text/html": [
       "\n",
       "        <div id=\"nftZraY68gToEidrTY95LB\"></div>\n",
       "        <script>netpixi.call('nftZraY68gToEidrTY95LB', 'gFGaBMTAQdGaHJJQshijMZ', 'changeGraph', 'eyJpZCI6IDE3MywgInR5cGUiOiAidmVydGV4IiwgInByb3BzIjogeyJjb2xvciI6IDE2NzExNjgwfX0K');</script>\n",
       "    "
      ],
      "text/plain": [
       "<IPython.core.display.HTML object>"
      ]
     },
     "metadata": {},
     "output_type": "display_data"
    },
    {
     "data": {
      "text/html": [
       "\n",
       "        <div id=\"dSGwmySiJN6NP2wkfEYqte\"></div>\n",
       "        <script>netpixi.call('dSGwmySiJN6NP2wkfEYqte', 'gFGaBMTAQdGaHJJQshijMZ', 'changeGraph', 'eyJpZCI6IDE3NCwgInR5cGUiOiAidmVydGV4IiwgInByb3BzIjogeyJjb2xvciI6IDE2NzExNjgwfX0K');</script>\n",
       "    "
      ],
      "text/plain": [
       "<IPython.core.display.HTML object>"
      ]
     },
     "metadata": {},
     "output_type": "display_data"
    },
    {
     "data": {
      "text/html": [
       "\n",
       "        <div id=\"TT5FS4TE4fZbzKrLfEvs6d\"></div>\n",
       "        <script>netpixi.call('TT5FS4TE4fZbzKrLfEvs6d', 'gFGaBMTAQdGaHJJQshijMZ', 'changeGraph', 'eyJpZCI6IDE3NSwgInR5cGUiOiAidmVydGV4IiwgInByb3BzIjogeyJjb2xvciI6IDE2NzExNjgwfX0K');</script>\n",
       "    "
      ],
      "text/plain": [
       "<IPython.core.display.HTML object>"
      ]
     },
     "metadata": {},
     "output_type": "display_data"
    },
    {
     "data": {
      "text/html": [
       "\n",
       "        <div id=\"4JpVu635ZNeCixHALgJa34\"></div>\n",
       "        <script>netpixi.call('4JpVu635ZNeCixHALgJa34', 'gFGaBMTAQdGaHJJQshijMZ', 'changeGraph', 'eyJpZCI6IDE3NiwgInR5cGUiOiAidmVydGV4IiwgInByb3BzIjogeyJjb2xvciI6IDE2NzExNjgwfX0K');</script>\n",
       "    "
      ],
      "text/plain": [
       "<IPython.core.display.HTML object>"
      ]
     },
     "metadata": {},
     "output_type": "display_data"
    },
    {
     "data": {
      "text/html": [
       "\n",
       "        <div id=\"eqQPHDpG2pyn8VJ9qCUShw\"></div>\n",
       "        <script>netpixi.call('eqQPHDpG2pyn8VJ9qCUShw', 'gFGaBMTAQdGaHJJQshijMZ', 'changeGraph', 'eyJpZCI6IDE3NywgInR5cGUiOiAidmVydGV4IiwgInByb3BzIjogeyJjb2xvciI6IDY1MjgwfX0K');</script>\n",
       "    "
      ],
      "text/plain": [
       "<IPython.core.display.HTML object>"
      ]
     },
     "metadata": {},
     "output_type": "display_data"
    },
    {
     "data": {
      "text/html": [
       "\n",
       "        <div id=\"Fvva655yuSfJSEodcLcJVm\"></div>\n",
       "        <script>netpixi.call('Fvva655yuSfJSEodcLcJVm', 'gFGaBMTAQdGaHJJQshijMZ', 'changeGraph', 'eyJpZCI6IDE3OCwgInR5cGUiOiAidmVydGV4IiwgInByb3BzIjogeyJjb2xvciI6IDE2NzExNjgwfX0K');</script>\n",
       "    "
      ],
      "text/plain": [
       "<IPython.core.display.HTML object>"
      ]
     },
     "metadata": {},
     "output_type": "display_data"
    },
    {
     "data": {
      "text/html": [
       "\n",
       "        <div id=\"CkKg6Snb4s3fcS83VFTLKi\"></div>\n",
       "        <script>netpixi.call('CkKg6Snb4s3fcS83VFTLKi', 'gFGaBMTAQdGaHJJQshijMZ', 'changeGraph', 'eyJpZCI6IDE3OSwgInR5cGUiOiAidmVydGV4IiwgInByb3BzIjogeyJjb2xvciI6IDE2NzExNjgwfX0K');</script>\n",
       "    "
      ],
      "text/plain": [
       "<IPython.core.display.HTML object>"
      ]
     },
     "metadata": {},
     "output_type": "display_data"
    },
    {
     "data": {
      "text/html": [
       "\n",
       "        <div id=\"Cha49QbVE7WQ4axx4z2FQz\"></div>\n",
       "        <script>netpixi.call('Cha49QbVE7WQ4axx4z2FQz', 'gFGaBMTAQdGaHJJQshijMZ', 'changeGraph', 'eyJpZCI6IDE4MCwgInR5cGUiOiAidmVydGV4IiwgInByb3BzIjogeyJjb2xvciI6IDE2NzExNjgwfX0K');</script>\n",
       "    "
      ],
      "text/plain": [
       "<IPython.core.display.HTML object>"
      ]
     },
     "metadata": {},
     "output_type": "display_data"
    },
    {
     "data": {
      "text/html": [
       "\n",
       "        <div id=\"Ps4mXQv3qZJwbSjZKKMxfM\"></div>\n",
       "        <script>netpixi.call('Ps4mXQv3qZJwbSjZKKMxfM', 'gFGaBMTAQdGaHJJQshijMZ', 'changeGraph', 'eyJpZCI6IDE4MSwgInR5cGUiOiAidmVydGV4IiwgInByb3BzIjogeyJjb2xvciI6IDY1MjgwfX0K');</script>\n",
       "    "
      ],
      "text/plain": [
       "<IPython.core.display.HTML object>"
      ]
     },
     "metadata": {},
     "output_type": "display_data"
    },
    {
     "data": {
      "text/html": [
       "\n",
       "        <div id=\"FRqK4cEJ9fMG9cHJDnmK3c\"></div>\n",
       "        <script>netpixi.call('FRqK4cEJ9fMG9cHJDnmK3c', 'gFGaBMTAQdGaHJJQshijMZ', 'changeGraph', 'eyJpZCI6IDE4MiwgInR5cGUiOiAidmVydGV4IiwgInByb3BzIjogeyJjb2xvciI6IDY1MjgwfX0K');</script>\n",
       "    "
      ],
      "text/plain": [
       "<IPython.core.display.HTML object>"
      ]
     },
     "metadata": {},
     "output_type": "display_data"
    },
    {
     "data": {
      "text/html": [
       "\n",
       "        <div id=\"TpBMgpadqRdEb2u3WmnbmA\"></div>\n",
       "        <script>netpixi.call('TpBMgpadqRdEb2u3WmnbmA', 'gFGaBMTAQdGaHJJQshijMZ', 'changeGraph', 'eyJpZCI6IDE4MywgInR5cGUiOiAidmVydGV4IiwgInByb3BzIjogeyJjb2xvciI6IDE2NzExNjgwfX0K');</script>\n",
       "    "
      ],
      "text/plain": [
       "<IPython.core.display.HTML object>"
      ]
     },
     "metadata": {},
     "output_type": "display_data"
    },
    {
     "data": {
      "text/html": [
       "\n",
       "        <div id=\"kXzruUFu4sxVnaUTBSdWew\"></div>\n",
       "        <script>netpixi.call('kXzruUFu4sxVnaUTBSdWew', 'gFGaBMTAQdGaHJJQshijMZ', 'changeGraph', 'eyJpZCI6IDE4NCwgInR5cGUiOiAidmVydGV4IiwgInByb3BzIjogeyJjb2xvciI6IDY1MjgwfX0K');</script>\n",
       "    "
      ],
      "text/plain": [
       "<IPython.core.display.HTML object>"
      ]
     },
     "metadata": {},
     "output_type": "display_data"
    },
    {
     "data": {
      "text/html": [
       "\n",
       "        <div id=\"CHHGyqSr3ys8rvVSzmXTLC\"></div>\n",
       "        <script>netpixi.call('CHHGyqSr3ys8rvVSzmXTLC', 'gFGaBMTAQdGaHJJQshijMZ', 'changeGraph', 'eyJpZCI6IDE4NSwgInR5cGUiOiAidmVydGV4IiwgInByb3BzIjogeyJjb2xvciI6IDE2NzExNjgwfX0K');</script>\n",
       "    "
      ],
      "text/plain": [
       "<IPython.core.display.HTML object>"
      ]
     },
     "metadata": {},
     "output_type": "display_data"
    },
    {
     "data": {
      "text/html": [
       "\n",
       "        <div id=\"Eq6gYfs8YUYMxdDMQjRSMd\"></div>\n",
       "        <script>netpixi.call('Eq6gYfs8YUYMxdDMQjRSMd', 'gFGaBMTAQdGaHJJQshijMZ', 'changeGraph', 'eyJpZCI6IDE4NiwgInR5cGUiOiAidmVydGV4IiwgInByb3BzIjogeyJjb2xvciI6IDE2NzExNjgwfX0K');</script>\n",
       "    "
      ],
      "text/plain": [
       "<IPython.core.display.HTML object>"
      ]
     },
     "metadata": {},
     "output_type": "display_data"
    },
    {
     "data": {
      "text/html": [
       "\n",
       "        <div id=\"ADDY5TSg3N2q9HWmSdHkso\"></div>\n",
       "        <script>netpixi.call('ADDY5TSg3N2q9HWmSdHkso', 'gFGaBMTAQdGaHJJQshijMZ', 'changeGraph', 'eyJpZCI6IDE4NywgInR5cGUiOiAidmVydGV4IiwgInByb3BzIjogeyJjb2xvciI6IDE2NzExNjgwfX0K');</script>\n",
       "    "
      ],
      "text/plain": [
       "<IPython.core.display.HTML object>"
      ]
     },
     "metadata": {},
     "output_type": "display_data"
    },
    {
     "data": {
      "text/html": [
       "\n",
       "        <div id=\"3VQzuiwDy5STE2gRVDtTgf\"></div>\n",
       "        <script>netpixi.call('3VQzuiwDy5STE2gRVDtTgf', 'gFGaBMTAQdGaHJJQshijMZ', 'changeGraph', 'eyJpZCI6IDE4OCwgInR5cGUiOiAidmVydGV4IiwgInByb3BzIjogeyJjb2xvciI6IDY1MjgwfX0K');</script>\n",
       "    "
      ],
      "text/plain": [
       "<IPython.core.display.HTML object>"
      ]
     },
     "metadata": {},
     "output_type": "display_data"
    },
    {
     "data": {
      "text/html": [
       "\n",
       "        <div id=\"LdLuaVuaYaefp4cTNMnfjn\"></div>\n",
       "        <script>netpixi.call('LdLuaVuaYaefp4cTNMnfjn', 'gFGaBMTAQdGaHJJQshijMZ', 'changeGraph', 'eyJpZCI6IDE4OSwgInR5cGUiOiAidmVydGV4IiwgInByb3BzIjogeyJjb2xvciI6IDY1MjgwfX0K');</script>\n",
       "    "
      ],
      "text/plain": [
       "<IPython.core.display.HTML object>"
      ]
     },
     "metadata": {},
     "output_type": "display_data"
    },
    {
     "data": {
      "text/html": [
       "\n",
       "        <div id=\"VRbetvJuzawDRbRDXUNaxk\"></div>\n",
       "        <script>netpixi.call('VRbetvJuzawDRbRDXUNaxk', 'gFGaBMTAQdGaHJJQshijMZ', 'changeGraph', 'eyJpZCI6IDE5MCwgInR5cGUiOiAidmVydGV4IiwgInByb3BzIjogeyJjb2xvciI6IDY1MjgwfX0K');</script>\n",
       "    "
      ],
      "text/plain": [
       "<IPython.core.display.HTML object>"
      ]
     },
     "metadata": {},
     "output_type": "display_data"
    },
    {
     "data": {
      "text/html": [
       "\n",
       "        <div id=\"2VgJefmd4LsytNVj8MSDWc\"></div>\n",
       "        <script>netpixi.call('2VgJefmd4LsytNVj8MSDWc', 'gFGaBMTAQdGaHJJQshijMZ', 'changeGraph', 'eyJpZCI6IDE5MSwgInR5cGUiOiAidmVydGV4IiwgInByb3BzIjogeyJjb2xvciI6IDY1MjgwfX0K');</script>\n",
       "    "
      ],
      "text/plain": [
       "<IPython.core.display.HTML object>"
      ]
     },
     "metadata": {},
     "output_type": "display_data"
    },
    {
     "data": {
      "text/html": [
       "\n",
       "        <div id=\"V3zBKM6FBKY6Fz72k5CBEx\"></div>\n",
       "        <script>netpixi.call('V3zBKM6FBKY6Fz72k5CBEx', 'gFGaBMTAQdGaHJJQshijMZ', 'changeGraph', 'eyJpZCI6IDE5MiwgInR5cGUiOiAidmVydGV4IiwgInByb3BzIjogeyJjb2xvciI6IDE2NzExNjgwfX0K');</script>\n",
       "    "
      ],
      "text/plain": [
       "<IPython.core.display.HTML object>"
      ]
     },
     "metadata": {},
     "output_type": "display_data"
    },
    {
     "data": {
      "text/html": [
       "\n",
       "        <div id=\"Gk8YvCeQtvxmDUCnWUWf73\"></div>\n",
       "        <script>netpixi.call('Gk8YvCeQtvxmDUCnWUWf73', 'gFGaBMTAQdGaHJJQshijMZ', 'changeGraph', 'eyJpZCI6IDE5MywgInR5cGUiOiAidmVydGV4IiwgInByb3BzIjogeyJjb2xvciI6IDY1MjgwfX0K');</script>\n",
       "    "
      ],
      "text/plain": [
       "<IPython.core.display.HTML object>"
      ]
     },
     "metadata": {},
     "output_type": "display_data"
    },
    {
     "data": {
      "text/html": [
       "\n",
       "        <div id=\"PTU2KdUW8aBsw7fkKxYmdD\"></div>\n",
       "        <script>netpixi.call('PTU2KdUW8aBsw7fkKxYmdD', 'gFGaBMTAQdGaHJJQshijMZ', 'changeGraph', 'eyJpZCI6IDE5NCwgInR5cGUiOiAidmVydGV4IiwgInByb3BzIjogeyJjb2xvciI6IDY1MjgwfX0K');</script>\n",
       "    "
      ],
      "text/plain": [
       "<IPython.core.display.HTML object>"
      ]
     },
     "metadata": {},
     "output_type": "display_data"
    },
    {
     "data": {
      "text/html": [
       "\n",
       "        <div id=\"D4RPdzG55oMxcz5ZumdJe4\"></div>\n",
       "        <script>netpixi.call('D4RPdzG55oMxcz5ZumdJe4', 'gFGaBMTAQdGaHJJQshijMZ', 'changeGraph', 'eyJpZCI6IDE5NSwgInR5cGUiOiAidmVydGV4IiwgInByb3BzIjogeyJjb2xvciI6IDE2NzExNjgwfX0K');</script>\n",
       "    "
      ],
      "text/plain": [
       "<IPython.core.display.HTML object>"
      ]
     },
     "metadata": {},
     "output_type": "display_data"
    },
    {
     "data": {
      "text/html": [
       "\n",
       "        <div id=\"EiFkoEdWzu56PAHz9tyRSa\"></div>\n",
       "        <script>netpixi.call('EiFkoEdWzu56PAHz9tyRSa', 'gFGaBMTAQdGaHJJQshijMZ', 'changeGraph', 'eyJpZCI6IDE5NiwgInR5cGUiOiAidmVydGV4IiwgInByb3BzIjogeyJjb2xvciI6IDE2NzExNjgwfX0K');</script>\n",
       "    "
      ],
      "text/plain": [
       "<IPython.core.display.HTML object>"
      ]
     },
     "metadata": {},
     "output_type": "display_data"
    },
    {
     "data": {
      "text/html": [
       "\n",
       "        <div id=\"dwEoCc3xjtjmy9TkbCtwMj\"></div>\n",
       "        <script>netpixi.call('dwEoCc3xjtjmy9TkbCtwMj', 'gFGaBMTAQdGaHJJQshijMZ', 'changeGraph', 'eyJpZCI6IDE5NywgInR5cGUiOiAidmVydGV4IiwgInByb3BzIjogeyJjb2xvciI6IDE2NzExNjgwfX0K');</script>\n",
       "    "
      ],
      "text/plain": [
       "<IPython.core.display.HTML object>"
      ]
     },
     "metadata": {},
     "output_type": "display_data"
    },
    {
     "data": {
      "text/html": [
       "\n",
       "        <div id=\"SHyFttTHqd9fMkoCrRG4Sk\"></div>\n",
       "        <script>netpixi.call('SHyFttTHqd9fMkoCrRG4Sk', 'gFGaBMTAQdGaHJJQshijMZ', 'changeGraph', 'eyJpZCI6IDE5OCwgInR5cGUiOiAidmVydGV4IiwgInByb3BzIjogeyJjb2xvciI6IDE2NzExNjgwfX0K');</script>\n",
       "    "
      ],
      "text/plain": [
       "<IPython.core.display.HTML object>"
      ]
     },
     "metadata": {},
     "output_type": "display_data"
    },
    {
     "data": {
      "text/html": [
       "\n",
       "        <div id=\"APZjApLmjfTQ9bMn4Z4nbs\"></div>\n",
       "        <script>netpixi.call('APZjApLmjfTQ9bMn4Z4nbs', 'gFGaBMTAQdGaHJJQshijMZ', 'changeGraph', 'eyJpZCI6IDE5OSwgInR5cGUiOiAidmVydGV4IiwgInByb3BzIjogeyJjb2xvciI6IDY1MjgwfX0K');</script>\n",
       "    "
      ],
      "text/plain": [
       "<IPython.core.display.HTML object>"
      ]
     },
     "metadata": {},
     "output_type": "display_data"
    },
    {
     "data": {
      "text/html": [
       "\n",
       "        <div id=\"GKJGfCkodQo8c2B7yNFKH3\"></div>\n",
       "        <script>netpixi.call('GKJGfCkodQo8c2B7yNFKH3', 'gFGaBMTAQdGaHJJQshijMZ', 'changeGraph', 'eyJpZCI6IDIwMCwgInR5cGUiOiAidmVydGV4IiwgInByb3BzIjogeyJjb2xvciI6IDY1MjgwfX0K');</script>\n",
       "    "
      ],
      "text/plain": [
       "<IPython.core.display.HTML object>"
      ]
     },
     "metadata": {},
     "output_type": "display_data"
    },
    {
     "data": {
      "text/html": [
       "\n",
       "        <div id=\"FdczBMQpybdoqHWbRUnkrk\"></div>\n",
       "        <script>netpixi.call('FdczBMQpybdoqHWbRUnkrk', 'gFGaBMTAQdGaHJJQshijMZ', 'changeGraph', 'eyJpZCI6IDIwMSwgInR5cGUiOiAidmVydGV4IiwgInByb3BzIjogeyJjb2xvciI6IDE2NzExNjgwfX0K');</script>\n",
       "    "
      ],
      "text/plain": [
       "<IPython.core.display.HTML object>"
      ]
     },
     "metadata": {},
     "output_type": "display_data"
    },
    {
     "data": {
      "text/html": [
       "\n",
       "        <div id=\"kdS8ktUbYjXToXS5rCpzYw\"></div>\n",
       "        <script>netpixi.call('kdS8ktUbYjXToXS5rCpzYw', 'gFGaBMTAQdGaHJJQshijMZ', 'changeGraph', 'eyJpZCI6IDIwMiwgInR5cGUiOiAidmVydGV4IiwgInByb3BzIjogeyJjb2xvciI6IDE2NzExNjgwfX0K');</script>\n",
       "    "
      ],
      "text/plain": [
       "<IPython.core.display.HTML object>"
      ]
     },
     "metadata": {},
     "output_type": "display_data"
    },
    {
     "data": {
      "text/html": [
       "\n",
       "        <div id=\"7J6cwas52rdDaoKUNyFTs5\"></div>\n",
       "        <script>netpixi.call('7J6cwas52rdDaoKUNyFTs5', 'gFGaBMTAQdGaHJJQshijMZ', 'changeGraph', 'eyJpZCI6IDIwMywgInR5cGUiOiAidmVydGV4IiwgInByb3BzIjogeyJjb2xvciI6IDY1MjgwfX0K');</script>\n",
       "    "
      ],
      "text/plain": [
       "<IPython.core.display.HTML object>"
      ]
     },
     "metadata": {},
     "output_type": "display_data"
    },
    {
     "data": {
      "text/html": [
       "\n",
       "        <div id=\"a6z2RAuxQVo7fH6L88a4Gj\"></div>\n",
       "        <script>netpixi.call('a6z2RAuxQVo7fH6L88a4Gj', 'gFGaBMTAQdGaHJJQshijMZ', 'changeGraph', 'eyJpZCI6IDIwNCwgInR5cGUiOiAidmVydGV4IiwgInByb3BzIjogeyJjb2xvciI6IDY1MjgwfX0K');</script>\n",
       "    "
      ],
      "text/plain": [
       "<IPython.core.display.HTML object>"
      ]
     },
     "metadata": {},
     "output_type": "display_data"
    },
    {
     "data": {
      "text/html": [
       "\n",
       "        <div id=\"BKyeSu6BQLSxybDeKtuEBB\"></div>\n",
       "        <script>netpixi.call('BKyeSu6BQLSxybDeKtuEBB', 'gFGaBMTAQdGaHJJQshijMZ', 'changeGraph', 'eyJpZCI6IDIwNSwgInR5cGUiOiAidmVydGV4IiwgInByb3BzIjogeyJjb2xvciI6IDE2NzExNjgwfX0K');</script>\n",
       "    "
      ],
      "text/plain": [
       "<IPython.core.display.HTML object>"
      ]
     },
     "metadata": {},
     "output_type": "display_data"
    },
    {
     "data": {
      "text/html": [
       "\n",
       "        <div id=\"Rje2gk75xE8nVYVfcyLjx5\"></div>\n",
       "        <script>netpixi.call('Rje2gk75xE8nVYVfcyLjx5', 'gFGaBMTAQdGaHJJQshijMZ', 'changeGraph', 'eyJpZCI6IDIwNiwgInR5cGUiOiAidmVydGV4IiwgInByb3BzIjogeyJjb2xvciI6IDE2NzExNjgwfX0K');</script>\n",
       "    "
      ],
      "text/plain": [
       "<IPython.core.display.HTML object>"
      ]
     },
     "metadata": {},
     "output_type": "display_data"
    },
    {
     "data": {
      "text/html": [
       "\n",
       "        <div id=\"2p7ZkuaH3WDQe5XKgNnuNa\"></div>\n",
       "        <script>netpixi.call('2p7ZkuaH3WDQe5XKgNnuNa', 'gFGaBMTAQdGaHJJQshijMZ', 'changeGraph', 'eyJpZCI6IDIwNywgInR5cGUiOiAidmVydGV4IiwgInByb3BzIjogeyJjb2xvciI6IDY1MjgwfX0K');</script>\n",
       "    "
      ],
      "text/plain": [
       "<IPython.core.display.HTML object>"
      ]
     },
     "metadata": {},
     "output_type": "display_data"
    },
    {
     "data": {
      "text/html": [
       "\n",
       "        <div id=\"34D9NFNu9K3CkQiziN3w7L\"></div>\n",
       "        <script>netpixi.call('34D9NFNu9K3CkQiziN3w7L', 'gFGaBMTAQdGaHJJQshijMZ', 'changeGraph', 'eyJpZCI6IDIwOCwgInR5cGUiOiAidmVydGV4IiwgInByb3BzIjogeyJjb2xvciI6IDY1MjgwfX0K');</script>\n",
       "    "
      ],
      "text/plain": [
       "<IPython.core.display.HTML object>"
      ]
     },
     "metadata": {},
     "output_type": "display_data"
    },
    {
     "data": {
      "text/html": [
       "\n",
       "        <div id=\"7Lf8AJJZ6oZ2q8mdEcAYBx\"></div>\n",
       "        <script>netpixi.call('7Lf8AJJZ6oZ2q8mdEcAYBx', 'gFGaBMTAQdGaHJJQshijMZ', 'changeGraph', 'eyJpZCI6IDIwOSwgInR5cGUiOiAidmVydGV4IiwgInByb3BzIjogeyJjb2xvciI6IDY1MjgwfX0K');</script>\n",
       "    "
      ],
      "text/plain": [
       "<IPython.core.display.HTML object>"
      ]
     },
     "metadata": {},
     "output_type": "display_data"
    },
    {
     "data": {
      "text/html": [
       "\n",
       "        <div id=\"LYLQu6TLCsVKmDYtB4BHXF\"></div>\n",
       "        <script>netpixi.call('LYLQu6TLCsVKmDYtB4BHXF', 'gFGaBMTAQdGaHJJQshijMZ', 'changeGraph', 'eyJpZCI6IDIxMCwgInR5cGUiOiAidmVydGV4IiwgInByb3BzIjogeyJjb2xvciI6IDE2NzExNjgwfX0K');</script>\n",
       "    "
      ],
      "text/plain": [
       "<IPython.core.display.HTML object>"
      ]
     },
     "metadata": {},
     "output_type": "display_data"
    },
    {
     "data": {
      "text/html": [
       "\n",
       "        <div id=\"Ydh9uZHzMoakctHFpvJvN5\"></div>\n",
       "        <script>netpixi.call('Ydh9uZHzMoakctHFpvJvN5', 'gFGaBMTAQdGaHJJQshijMZ', 'changeGraph', 'eyJpZCI6IDIxMSwgInR5cGUiOiAidmVydGV4IiwgInByb3BzIjogeyJjb2xvciI6IDY1MjgwfX0K');</script>\n",
       "    "
      ],
      "text/plain": [
       "<IPython.core.display.HTML object>"
      ]
     },
     "metadata": {},
     "output_type": "display_data"
    },
    {
     "data": {
      "text/html": [
       "\n",
       "        <div id=\"WQArgGZ7G85JEKU4hsAzNK\"></div>\n",
       "        <script>netpixi.call('WQArgGZ7G85JEKU4hsAzNK', 'gFGaBMTAQdGaHJJQshijMZ', 'changeGraph', 'eyJpZCI6IDIxMiwgInR5cGUiOiAidmVydGV4IiwgInByb3BzIjogeyJjb2xvciI6IDE2NzExNjgwfX0K');</script>\n",
       "    "
      ],
      "text/plain": [
       "<IPython.core.display.HTML object>"
      ]
     },
     "metadata": {},
     "output_type": "display_data"
    },
    {
     "data": {
      "text/html": [
       "\n",
       "        <div id=\"NqfTYJhPsqARzbPvb6DPqU\"></div>\n",
       "        <script>netpixi.call('NqfTYJhPsqARzbPvb6DPqU', 'gFGaBMTAQdGaHJJQshijMZ', 'changeGraph', 'eyJpZCI6IDIxMywgInR5cGUiOiAidmVydGV4IiwgInByb3BzIjogeyJjb2xvciI6IDY1MjgwfX0K');</script>\n",
       "    "
      ],
      "text/plain": [
       "<IPython.core.display.HTML object>"
      ]
     },
     "metadata": {},
     "output_type": "display_data"
    },
    {
     "data": {
      "text/html": [
       "\n",
       "        <div id=\"iWwx5MxzVgXcas2fEuuoSv\"></div>\n",
       "        <script>netpixi.call('iWwx5MxzVgXcas2fEuuoSv', 'gFGaBMTAQdGaHJJQshijMZ', 'changeGraph', 'eyJpZCI6IDIxNCwgInR5cGUiOiAidmVydGV4IiwgInByb3BzIjogeyJjb2xvciI6IDE2NzExNjgwfX0K');</script>\n",
       "    "
      ],
      "text/plain": [
       "<IPython.core.display.HTML object>"
      ]
     },
     "metadata": {},
     "output_type": "display_data"
    },
    {
     "data": {
      "text/html": [
       "\n",
       "        <div id=\"2FZqx2iM6JYXXAHuzeaLHg\"></div>\n",
       "        <script>netpixi.call('2FZqx2iM6JYXXAHuzeaLHg', 'gFGaBMTAQdGaHJJQshijMZ', 'changeGraph', 'eyJpZCI6IDIxNSwgInR5cGUiOiAidmVydGV4IiwgInByb3BzIjogeyJjb2xvciI6IDE2NzExNjgwfX0K');</script>\n",
       "    "
      ],
      "text/plain": [
       "<IPython.core.display.HTML object>"
      ]
     },
     "metadata": {},
     "output_type": "display_data"
    },
    {
     "data": {
      "text/html": [
       "\n",
       "        <div id=\"F8HxuEECVeK5SV5Vep6TE8\"></div>\n",
       "        <script>netpixi.call('F8HxuEECVeK5SV5Vep6TE8', 'gFGaBMTAQdGaHJJQshijMZ', 'changeGraph', 'eyJpZCI6IDIxNiwgInR5cGUiOiAidmVydGV4IiwgInByb3BzIjogeyJjb2xvciI6IDE2NzExNjgwfX0K');</script>\n",
       "    "
      ],
      "text/plain": [
       "<IPython.core.display.HTML object>"
      ]
     },
     "metadata": {},
     "output_type": "display_data"
    },
    {
     "data": {
      "text/html": [
       "\n",
       "        <div id=\"fscPzc92d78FQm4yAge6vb\"></div>\n",
       "        <script>netpixi.call('fscPzc92d78FQm4yAge6vb', 'gFGaBMTAQdGaHJJQshijMZ', 'changeGraph', 'eyJpZCI6IDIxNywgInR5cGUiOiAidmVydGV4IiwgInByb3BzIjogeyJjb2xvciI6IDE2NzExNjgwfX0K');</script>\n",
       "    "
      ],
      "text/plain": [
       "<IPython.core.display.HTML object>"
      ]
     },
     "metadata": {},
     "output_type": "display_data"
    },
    {
     "data": {
      "text/html": [
       "\n",
       "        <div id=\"RvJUTC25LCPGTm2BMqUJjo\"></div>\n",
       "        <script>netpixi.call('RvJUTC25LCPGTm2BMqUJjo', 'gFGaBMTAQdGaHJJQshijMZ', 'changeGraph', 'eyJpZCI6IDIxOCwgInR5cGUiOiAidmVydGV4IiwgInByb3BzIjogeyJjb2xvciI6IDE2NzExNjgwfX0K');</script>\n",
       "    "
      ],
      "text/plain": [
       "<IPython.core.display.HTML object>"
      ]
     },
     "metadata": {},
     "output_type": "display_data"
    },
    {
     "data": {
      "text/html": [
       "\n",
       "        <div id=\"aZPx2PY4DudDN8Yoh9fBn6\"></div>\n",
       "        <script>netpixi.call('aZPx2PY4DudDN8Yoh9fBn6', 'gFGaBMTAQdGaHJJQshijMZ', 'changeGraph', 'eyJpZCI6IDIxOSwgInR5cGUiOiAidmVydGV4IiwgInByb3BzIjogeyJjb2xvciI6IDE2NzExNjgwfX0K');</script>\n",
       "    "
      ],
      "text/plain": [
       "<IPython.core.display.HTML object>"
      ]
     },
     "metadata": {},
     "output_type": "display_data"
    },
    {
     "data": {
      "text/html": [
       "\n",
       "        <div id=\"Nk7boELgQMZwAiyPDeJXKy\"></div>\n",
       "        <script>netpixi.call('Nk7boELgQMZwAiyPDeJXKy', 'gFGaBMTAQdGaHJJQshijMZ', 'changeGraph', 'eyJpZCI6IDIyMCwgInR5cGUiOiAidmVydGV4IiwgInByb3BzIjogeyJjb2xvciI6IDE2NzExNjgwfX0K');</script>\n",
       "    "
      ],
      "text/plain": [
       "<IPython.core.display.HTML object>"
      ]
     },
     "metadata": {},
     "output_type": "display_data"
    },
    {
     "data": {
      "text/html": [
       "\n",
       "        <div id=\"ZiswXtNs2fE7k3YH45qRLZ\"></div>\n",
       "        <script>netpixi.call('ZiswXtNs2fE7k3YH45qRLZ', 'gFGaBMTAQdGaHJJQshijMZ', 'changeGraph', 'eyJpZCI6IDIyMSwgInR5cGUiOiAidmVydGV4IiwgInByb3BzIjogeyJjb2xvciI6IDE2NzExNjgwfX0K');</script>\n",
       "    "
      ],
      "text/plain": [
       "<IPython.core.display.HTML object>"
      ]
     },
     "metadata": {},
     "output_type": "display_data"
    },
    {
     "data": {
      "text/html": [
       "\n",
       "        <div id=\"agT7iNsnhmxL6QcTRerCmc\"></div>\n",
       "        <script>netpixi.call('agT7iNsnhmxL6QcTRerCmc', 'gFGaBMTAQdGaHJJQshijMZ', 'changeGraph', 'eyJpZCI6IDIyMiwgInR5cGUiOiAidmVydGV4IiwgInByb3BzIjogeyJjb2xvciI6IDE2NzExNjgwfX0K');</script>\n",
       "    "
      ],
      "text/plain": [
       "<IPython.core.display.HTML object>"
      ]
     },
     "metadata": {},
     "output_type": "display_data"
    },
    {
     "data": {
      "text/html": [
       "\n",
       "        <div id=\"JV3DpHHvswTUDkKC8PzyMJ\"></div>\n",
       "        <script>netpixi.call('JV3DpHHvswTUDkKC8PzyMJ', 'gFGaBMTAQdGaHJJQshijMZ', 'changeGraph', 'eyJpZCI6IDIyMywgInR5cGUiOiAidmVydGV4IiwgInByb3BzIjogeyJjb2xvciI6IDE2NzExNjgwfX0K');</script>\n",
       "    "
      ],
      "text/plain": [
       "<IPython.core.display.HTML object>"
      ]
     },
     "metadata": {},
     "output_type": "display_data"
    },
    {
     "data": {
      "text/html": [
       "\n",
       "        <div id=\"jsYu3Vo6JYEVG53aSVTASJ\"></div>\n",
       "        <script>netpixi.call('jsYu3Vo6JYEVG53aSVTASJ', 'gFGaBMTAQdGaHJJQshijMZ', 'changeGraph', 'eyJpZCI6IDIyNCwgInR5cGUiOiAidmVydGV4IiwgInByb3BzIjogeyJjb2xvciI6IDE2NzExNjgwfX0K');</script>\n",
       "    "
      ],
      "text/plain": [
       "<IPython.core.display.HTML object>"
      ]
     },
     "metadata": {},
     "output_type": "display_data"
    },
    {
     "data": {
      "text/html": [
       "\n",
       "        <div id=\"eo3hGDmRh4MEbcmxhzyCY8\"></div>\n",
       "        <script>netpixi.call('eo3hGDmRh4MEbcmxhzyCY8', 'gFGaBMTAQdGaHJJQshijMZ', 'changeGraph', 'eyJpZCI6IDIyNSwgInR5cGUiOiAidmVydGV4IiwgInByb3BzIjogeyJjb2xvciI6IDE2NzExNjgwfX0K');</script>\n",
       "    "
      ],
      "text/plain": [
       "<IPython.core.display.HTML object>"
      ]
     },
     "metadata": {},
     "output_type": "display_data"
    },
    {
     "data": {
      "text/html": [
       "\n",
       "        <div id=\"d6H8VPxpZ5g6UkKcR7Kmdw\"></div>\n",
       "        <script>netpixi.call('d6H8VPxpZ5g6UkKcR7Kmdw', 'gFGaBMTAQdGaHJJQshijMZ', 'changeGraph', 'eyJpZCI6IDIyNiwgInR5cGUiOiAidmVydGV4IiwgInByb3BzIjogeyJjb2xvciI6IDE2NzExNjgwfX0K');</script>\n",
       "    "
      ],
      "text/plain": [
       "<IPython.core.display.HTML object>"
      ]
     },
     "metadata": {},
     "output_type": "display_data"
    },
    {
     "data": {
      "text/html": [
       "\n",
       "        <div id=\"AVWjDK86enMY4WqQwavCxr\"></div>\n",
       "        <script>netpixi.call('AVWjDK86enMY4WqQwavCxr', 'gFGaBMTAQdGaHJJQshijMZ', 'changeGraph', 'eyJpZCI6IDIyNywgInR5cGUiOiAidmVydGV4IiwgInByb3BzIjogeyJjb2xvciI6IDY1MjgwfX0K');</script>\n",
       "    "
      ],
      "text/plain": [
       "<IPython.core.display.HTML object>"
      ]
     },
     "metadata": {},
     "output_type": "display_data"
    },
    {
     "data": {
      "text/html": [
       "\n",
       "        <div id=\"VtD3fa7ahS3pyRaMvwdeUA\"></div>\n",
       "        <script>netpixi.call('VtD3fa7ahS3pyRaMvwdeUA', 'gFGaBMTAQdGaHJJQshijMZ', 'changeGraph', 'eyJpZCI6IDIyOCwgInR5cGUiOiAidmVydGV4IiwgInByb3BzIjogeyJjb2xvciI6IDY1MjgwfX0K');</script>\n",
       "    "
      ],
      "text/plain": [
       "<IPython.core.display.HTML object>"
      ]
     },
     "metadata": {},
     "output_type": "display_data"
    },
    {
     "data": {
      "text/html": [
       "\n",
       "        <div id=\"DjFyESw4uCEv2qYt7syEXq\"></div>\n",
       "        <script>netpixi.call('DjFyESw4uCEv2qYt7syEXq', 'gFGaBMTAQdGaHJJQshijMZ', 'changeGraph', 'eyJpZCI6IDIyOSwgInR5cGUiOiAidmVydGV4IiwgInByb3BzIjogeyJjb2xvciI6IDE2NzExNjgwfX0K');</script>\n",
       "    "
      ],
      "text/plain": [
       "<IPython.core.display.HTML object>"
      ]
     },
     "metadata": {},
     "output_type": "display_data"
    },
    {
     "data": {
      "text/html": [
       "\n",
       "        <div id=\"GQqFyD4xQxWHcRoDBj6YH3\"></div>\n",
       "        <script>netpixi.call('GQqFyD4xQxWHcRoDBj6YH3', 'gFGaBMTAQdGaHJJQshijMZ', 'changeGraph', 'eyJpZCI6IDIzMCwgInR5cGUiOiAidmVydGV4IiwgInByb3BzIjogeyJjb2xvciI6IDE2NzExNjgwfX0K');</script>\n",
       "    "
      ],
      "text/plain": [
       "<IPython.core.display.HTML object>"
      ]
     },
     "metadata": {},
     "output_type": "display_data"
    },
    {
     "data": {
      "text/html": [
       "\n",
       "        <div id=\"BUu9wipa3dDzLR9RriqKJg\"></div>\n",
       "        <script>netpixi.call('BUu9wipa3dDzLR9RriqKJg', 'gFGaBMTAQdGaHJJQshijMZ', 'changeGraph', 'eyJpZCI6IDIzMSwgInR5cGUiOiAidmVydGV4IiwgInByb3BzIjogeyJjb2xvciI6IDY1MjgwfX0K');</script>\n",
       "    "
      ],
      "text/plain": [
       "<IPython.core.display.HTML object>"
      ]
     },
     "metadata": {},
     "output_type": "display_data"
    },
    {
     "data": {
      "text/html": [
       "\n",
       "        <div id=\"PKBeZRcTFBwtERZvtLZBvC\"></div>\n",
       "        <script>netpixi.call('PKBeZRcTFBwtERZvtLZBvC', 'gFGaBMTAQdGaHJJQshijMZ', 'changeGraph', 'eyJpZCI6IDIzMiwgInR5cGUiOiAidmVydGV4IiwgInByb3BzIjogeyJjb2xvciI6IDE2NzExNjgwfX0K');</script>\n",
       "    "
      ],
      "text/plain": [
       "<IPython.core.display.HTML object>"
      ]
     },
     "metadata": {},
     "output_type": "display_data"
    },
    {
     "data": {
      "text/html": [
       "\n",
       "        <div id=\"3b48B6rtQJzHMXXX9Xumco\"></div>\n",
       "        <script>netpixi.call('3b48B6rtQJzHMXXX9Xumco', 'gFGaBMTAQdGaHJJQshijMZ', 'changeGraph', 'eyJpZCI6IDIzMywgInR5cGUiOiAidmVydGV4IiwgInByb3BzIjogeyJjb2xvciI6IDE2NzExNjgwfX0K');</script>\n",
       "    "
      ],
      "text/plain": [
       "<IPython.core.display.HTML object>"
      ]
     },
     "metadata": {},
     "output_type": "display_data"
    },
    {
     "data": {
      "text/html": [
       "\n",
       "        <div id=\"3rvM2TTby7AtyNMEGYWyKh\"></div>\n",
       "        <script>netpixi.call('3rvM2TTby7AtyNMEGYWyKh', 'gFGaBMTAQdGaHJJQshijMZ', 'changeGraph', 'eyJpZCI6IDIzNCwgInR5cGUiOiAidmVydGV4IiwgInByb3BzIjogeyJjb2xvciI6IDE2NzExNjgwfX0K');</script>\n",
       "    "
      ],
      "text/plain": [
       "<IPython.core.display.HTML object>"
      ]
     },
     "metadata": {},
     "output_type": "display_data"
    },
    {
     "data": {
      "text/html": [
       "\n",
       "        <div id=\"QBcU8CZbUpF5ZZEnwbEnMM\"></div>\n",
       "        <script>netpixi.call('QBcU8CZbUpF5ZZEnwbEnMM', 'gFGaBMTAQdGaHJJQshijMZ', 'changeGraph', 'eyJpZCI6IDIzNSwgInR5cGUiOiAidmVydGV4IiwgInByb3BzIjogeyJjb2xvciI6IDY1MjgwfX0K');</script>\n",
       "    "
      ],
      "text/plain": [
       "<IPython.core.display.HTML object>"
      ]
     },
     "metadata": {},
     "output_type": "display_data"
    },
    {
     "data": {
      "text/html": [
       "\n",
       "        <div id=\"TxcMdtuRZbC57aiF66Nosg\"></div>\n",
       "        <script>netpixi.call('TxcMdtuRZbC57aiF66Nosg', 'gFGaBMTAQdGaHJJQshijMZ', 'changeGraph', 'eyJpZCI6IDIzNiwgInR5cGUiOiAidmVydGV4IiwgInByb3BzIjogeyJjb2xvciI6IDY1MjgwfX0K');</script>\n",
       "    "
      ],
      "text/plain": [
       "<IPython.core.display.HTML object>"
      ]
     },
     "metadata": {},
     "output_type": "display_data"
    },
    {
     "data": {
      "text/html": [
       "\n",
       "        <div id=\"7uKxWrESiavFfuunmSAmhq\"></div>\n",
       "        <script>netpixi.call('7uKxWrESiavFfuunmSAmhq', 'gFGaBMTAQdGaHJJQshijMZ', 'changeGraph', 'eyJpZCI6IDIzNywgInR5cGUiOiAidmVydGV4IiwgInByb3BzIjogeyJjb2xvciI6IDE2NzExNjgwfX0K');</script>\n",
       "    "
      ],
      "text/plain": [
       "<IPython.core.display.HTML object>"
      ]
     },
     "metadata": {},
     "output_type": "display_data"
    },
    {
     "data": {
      "text/html": [
       "\n",
       "        <div id=\"VzAWjBPsFmEMgYbnUirkP5\"></div>\n",
       "        <script>netpixi.call('VzAWjBPsFmEMgYbnUirkP5', 'gFGaBMTAQdGaHJJQshijMZ', 'changeGraph', 'eyJpZCI6IDIzOCwgInR5cGUiOiAidmVydGV4IiwgInByb3BzIjogeyJjb2xvciI6IDY1MjgwfX0K');</script>\n",
       "    "
      ],
      "text/plain": [
       "<IPython.core.display.HTML object>"
      ]
     },
     "metadata": {},
     "output_type": "display_data"
    },
    {
     "data": {
      "text/html": [
       "\n",
       "        <div id=\"AxTBXeSggNDDf9zg4hZPqA\"></div>\n",
       "        <script>netpixi.call('AxTBXeSggNDDf9zg4hZPqA', 'gFGaBMTAQdGaHJJQshijMZ', 'changeGraph', 'eyJpZCI6IDIzOSwgInR5cGUiOiAidmVydGV4IiwgInByb3BzIjogeyJjb2xvciI6IDE2NzExNjgwfX0K');</script>\n",
       "    "
      ],
      "text/plain": [
       "<IPython.core.display.HTML object>"
      ]
     },
     "metadata": {},
     "output_type": "display_data"
    },
    {
     "data": {
      "text/html": [
       "\n",
       "        <div id=\"M9CVpCx58TtLoL8dsVMgxJ\"></div>\n",
       "        <script>netpixi.call('M9CVpCx58TtLoL8dsVMgxJ', 'gFGaBMTAQdGaHJJQshijMZ', 'changeGraph', 'eyJpZCI6IDI0MCwgInR5cGUiOiAidmVydGV4IiwgInByb3BzIjogeyJjb2xvciI6IDY1MjgwfX0K');</script>\n",
       "    "
      ],
      "text/plain": [
       "<IPython.core.display.HTML object>"
      ]
     },
     "metadata": {},
     "output_type": "display_data"
    },
    {
     "data": {
      "text/html": [
       "\n",
       "        <div id=\"9tYp8dkjNPnRSCAynTQpbJ\"></div>\n",
       "        <script>netpixi.call('9tYp8dkjNPnRSCAynTQpbJ', 'gFGaBMTAQdGaHJJQshijMZ', 'changeGraph', 'eyJpZCI6IDI0MSwgInR5cGUiOiAidmVydGV4IiwgInByb3BzIjogeyJjb2xvciI6IDE2NzExNjgwfX0K');</script>\n",
       "    "
      ],
      "text/plain": [
       "<IPython.core.display.HTML object>"
      ]
     },
     "metadata": {},
     "output_type": "display_data"
    },
    {
     "data": {
      "text/html": [
       "\n",
       "        <div id=\"5ybi3dBEH7N5iFdVv6wiAQ\"></div>\n",
       "        <script>netpixi.call('5ybi3dBEH7N5iFdVv6wiAQ', 'gFGaBMTAQdGaHJJQshijMZ', 'changeGraph', 'eyJpZCI6IDI0MiwgInR5cGUiOiAidmVydGV4IiwgInByb3BzIjogeyJjb2xvciI6IDE2NzExNjgwfX0K');</script>\n",
       "    "
      ],
      "text/plain": [
       "<IPython.core.display.HTML object>"
      ]
     },
     "metadata": {},
     "output_type": "display_data"
    },
    {
     "data": {
      "text/html": [
       "\n",
       "        <div id=\"Cb4QaxcXPTWHHW5UEYpVEQ\"></div>\n",
       "        <script>netpixi.call('Cb4QaxcXPTWHHW5UEYpVEQ', 'gFGaBMTAQdGaHJJQshijMZ', 'changeGraph', 'eyJpZCI6IDI0MywgInR5cGUiOiAidmVydGV4IiwgInByb3BzIjogeyJjb2xvciI6IDE2NzExNjgwfX0K');</script>\n",
       "    "
      ],
      "text/plain": [
       "<IPython.core.display.HTML object>"
      ]
     },
     "metadata": {},
     "output_type": "display_data"
    },
    {
     "data": {
      "text/html": [
       "\n",
       "        <div id=\"XMpoterCo4QexG83iyreJW\"></div>\n",
       "        <script>netpixi.call('XMpoterCo4QexG83iyreJW', 'gFGaBMTAQdGaHJJQshijMZ', 'changeGraph', 'eyJpZCI6IDI0NCwgInR5cGUiOiAidmVydGV4IiwgInByb3BzIjogeyJjb2xvciI6IDE2NzExNjgwfX0K');</script>\n",
       "    "
      ],
      "text/plain": [
       "<IPython.core.display.HTML object>"
      ]
     },
     "metadata": {},
     "output_type": "display_data"
    },
    {
     "data": {
      "text/html": [
       "\n",
       "        <div id=\"fRZ6awcfukEkjJNmQ5bn2E\"></div>\n",
       "        <script>netpixi.call('fRZ6awcfukEkjJNmQ5bn2E', 'gFGaBMTAQdGaHJJQshijMZ', 'changeGraph', 'eyJpZCI6IDI0NSwgInR5cGUiOiAidmVydGV4IiwgInByb3BzIjogeyJjb2xvciI6IDY1MjgwfX0K');</script>\n",
       "    "
      ],
      "text/plain": [
       "<IPython.core.display.HTML object>"
      ]
     },
     "metadata": {},
     "output_type": "display_data"
    },
    {
     "data": {
      "text/html": [
       "\n",
       "        <div id=\"iEjLUBXXhMrxGDd4rnfjsX\"></div>\n",
       "        <script>netpixi.call('iEjLUBXXhMrxGDd4rnfjsX', 'gFGaBMTAQdGaHJJQshijMZ', 'changeGraph', 'eyJpZCI6IDI0NiwgInR5cGUiOiAidmVydGV4IiwgInByb3BzIjogeyJjb2xvciI6IDE2NzExNjgwfX0K');</script>\n",
       "    "
      ],
      "text/plain": [
       "<IPython.core.display.HTML object>"
      ]
     },
     "metadata": {},
     "output_type": "display_data"
    },
    {
     "data": {
      "text/html": [
       "\n",
       "        <div id=\"bm8nSp5tJDPJSiH8FFRnoy\"></div>\n",
       "        <script>netpixi.call('bm8nSp5tJDPJSiH8FFRnoy', 'gFGaBMTAQdGaHJJQshijMZ', 'changeGraph', 'eyJpZCI6IDI0NywgInR5cGUiOiAidmVydGV4IiwgInByb3BzIjogeyJjb2xvciI6IDE2NzExNjgwfX0K');</script>\n",
       "    "
      ],
      "text/plain": [
       "<IPython.core.display.HTML object>"
      ]
     },
     "metadata": {},
     "output_type": "display_data"
    },
    {
     "data": {
      "text/html": [
       "\n",
       "        <div id=\"SV9Do74KU4fzDr7PtnDMM9\"></div>\n",
       "        <script>netpixi.call('SV9Do74KU4fzDr7PtnDMM9', 'gFGaBMTAQdGaHJJQshijMZ', 'changeGraph', 'eyJpZCI6IDI0OCwgInR5cGUiOiAidmVydGV4IiwgInByb3BzIjogeyJjb2xvciI6IDE2NzExNjgwfX0K');</script>\n",
       "    "
      ],
      "text/plain": [
       "<IPython.core.display.HTML object>"
      ]
     },
     "metadata": {},
     "output_type": "display_data"
    },
    {
     "data": {
      "text/html": [
       "\n",
       "        <div id=\"BmDsCoz6w7hfaNvwMVeRT7\"></div>\n",
       "        <script>netpixi.call('BmDsCoz6w7hfaNvwMVeRT7', 'gFGaBMTAQdGaHJJQshijMZ', 'changeGraph', 'eyJpZCI6IDI0OSwgInR5cGUiOiAidmVydGV4IiwgInByb3BzIjogeyJjb2xvciI6IDE2NzExNjgwfX0K');</script>\n",
       "    "
      ],
      "text/plain": [
       "<IPython.core.display.HTML object>"
      ]
     },
     "metadata": {},
     "output_type": "display_data"
    },
    {
     "data": {
      "text/html": [
       "\n",
       "        <div id=\"CmGUPN4ZD9B5EbeB3tkkqc\"></div>\n",
       "        <script>netpixi.call('CmGUPN4ZD9B5EbeB3tkkqc', 'gFGaBMTAQdGaHJJQshijMZ', 'changeGraph', 'eyJpZCI6IDI1MCwgInR5cGUiOiAidmVydGV4IiwgInByb3BzIjogeyJjb2xvciI6IDE2NzExNjgwfX0K');</script>\n",
       "    "
      ],
      "text/plain": [
       "<IPython.core.display.HTML object>"
      ]
     },
     "metadata": {},
     "output_type": "display_data"
    },
    {
     "data": {
      "text/html": [
       "\n",
       "        <div id=\"eujGJybmouFHCXUuKJ2xNt\"></div>\n",
       "        <script>netpixi.call('eujGJybmouFHCXUuKJ2xNt', 'gFGaBMTAQdGaHJJQshijMZ', 'changeGraph', 'eyJpZCI6IDI1MSwgInR5cGUiOiAidmVydGV4IiwgInByb3BzIjogeyJjb2xvciI6IDE2NzExNjgwfX0K');</script>\n",
       "    "
      ],
      "text/plain": [
       "<IPython.core.display.HTML object>"
      ]
     },
     "metadata": {},
     "output_type": "display_data"
    },
    {
     "data": {
      "text/html": [
       "\n",
       "        <div id=\"DiaoUz9rbcqRwyG7jgHn8n\"></div>\n",
       "        <script>netpixi.call('DiaoUz9rbcqRwyG7jgHn8n', 'gFGaBMTAQdGaHJJQshijMZ', 'changeGraph', 'eyJpZCI6IDI1MiwgInR5cGUiOiAidmVydGV4IiwgInByb3BzIjogeyJjb2xvciI6IDE2NzExNjgwfX0K');</script>\n",
       "    "
      ],
      "text/plain": [
       "<IPython.core.display.HTML object>"
      ]
     },
     "metadata": {},
     "output_type": "display_data"
    },
    {
     "data": {
      "text/html": [
       "\n",
       "        <div id=\"2NsLu7KuTJjoPvtVU2AG28\"></div>\n",
       "        <script>netpixi.call('2NsLu7KuTJjoPvtVU2AG28', 'gFGaBMTAQdGaHJJQshijMZ', 'changeGraph', 'eyJpZCI6IDI1MywgInR5cGUiOiAidmVydGV4IiwgInByb3BzIjogeyJjb2xvciI6IDY1MjgwfX0K');</script>\n",
       "    "
      ],
      "text/plain": [
       "<IPython.core.display.HTML object>"
      ]
     },
     "metadata": {},
     "output_type": "display_data"
    },
    {
     "data": {
      "text/html": [
       "\n",
       "        <div id=\"3NzqELt4iLGPfoBfzWrexu\"></div>\n",
       "        <script>netpixi.call('3NzqELt4iLGPfoBfzWrexu', 'gFGaBMTAQdGaHJJQshijMZ', 'changeGraph', 'eyJpZCI6IDI1NCwgInR5cGUiOiAidmVydGV4IiwgInByb3BzIjogeyJjb2xvciI6IDE2NzExNjgwfX0K');</script>\n",
       "    "
      ],
      "text/plain": [
       "<IPython.core.display.HTML object>"
      ]
     },
     "metadata": {},
     "output_type": "display_data"
    },
    {
     "data": {
      "text/html": [
       "\n",
       "        <div id=\"NjkSJbB5JwVT6fRQksaXY7\"></div>\n",
       "        <script>netpixi.call('NjkSJbB5JwVT6fRQksaXY7', 'gFGaBMTAQdGaHJJQshijMZ', 'changeGraph', 'eyJpZCI6IDI1NSwgInR5cGUiOiAidmVydGV4IiwgInByb3BzIjogeyJjb2xvciI6IDY1MjgwfX0K');</script>\n",
       "    "
      ],
      "text/plain": [
       "<IPython.core.display.HTML object>"
      ]
     },
     "metadata": {},
     "output_type": "display_data"
    },
    {
     "data": {
      "text/html": [
       "\n",
       "        <div id=\"GJbP4kG55Wk7fBjtu6gXtw\"></div>\n",
       "        <script>netpixi.call('GJbP4kG55Wk7fBjtu6gXtw', 'gFGaBMTAQdGaHJJQshijMZ', 'changeGraph', 'eyJpZCI6IDI1NiwgInR5cGUiOiAidmVydGV4IiwgInByb3BzIjogeyJjb2xvciI6IDY1MjgwfX0K');</script>\n",
       "    "
      ],
      "text/plain": [
       "<IPython.core.display.HTML object>"
      ]
     },
     "metadata": {},
     "output_type": "display_data"
    },
    {
     "data": {
      "text/html": [
       "\n",
       "        <div id=\"KeWFGjiZsgrDFtAf7ZdiH3\"></div>\n",
       "        <script>netpixi.call('KeWFGjiZsgrDFtAf7ZdiH3', 'gFGaBMTAQdGaHJJQshijMZ', 'changeGraph', 'eyJpZCI6IDI1NywgInR5cGUiOiAidmVydGV4IiwgInByb3BzIjogeyJjb2xvciI6IDE2NzExNjgwfX0K');</script>\n",
       "    "
      ],
      "text/plain": [
       "<IPython.core.display.HTML object>"
      ]
     },
     "metadata": {},
     "output_type": "display_data"
    },
    {
     "data": {
      "text/html": [
       "\n",
       "        <div id=\"JPshUcRxGoizhT3JrjHDAy\"></div>\n",
       "        <script>netpixi.call('JPshUcRxGoizhT3JrjHDAy', 'gFGaBMTAQdGaHJJQshijMZ', 'changeGraph', 'eyJpZCI6IDI1OCwgInR5cGUiOiAidmVydGV4IiwgInByb3BzIjogeyJjb2xvciI6IDE2NzExNjgwfX0K');</script>\n",
       "    "
      ],
      "text/plain": [
       "<IPython.core.display.HTML object>"
      ]
     },
     "metadata": {},
     "output_type": "display_data"
    },
    {
     "data": {
      "text/html": [
       "\n",
       "        <div id=\"EwXPyP9NgNAf336mDD7YcP\"></div>\n",
       "        <script>netpixi.call('EwXPyP9NgNAf336mDD7YcP', 'gFGaBMTAQdGaHJJQshijMZ', 'changeGraph', 'eyJpZCI6IDI1OSwgInR5cGUiOiAidmVydGV4IiwgInByb3BzIjogeyJjb2xvciI6IDE2NzExNjgwfX0K');</script>\n",
       "    "
      ],
      "text/plain": [
       "<IPython.core.display.HTML object>"
      ]
     },
     "metadata": {},
     "output_type": "display_data"
    },
    {
     "data": {
      "text/html": [
       "\n",
       "        <div id=\"PtxiyxuQjRZeKC2yc4S786\"></div>\n",
       "        <script>netpixi.call('PtxiyxuQjRZeKC2yc4S786', 'gFGaBMTAQdGaHJJQshijMZ', 'changeGraph', 'eyJpZCI6IDI2MCwgInR5cGUiOiAidmVydGV4IiwgInByb3BzIjogeyJjb2xvciI6IDY1MjgwfX0K');</script>\n",
       "    "
      ],
      "text/plain": [
       "<IPython.core.display.HTML object>"
      ]
     },
     "metadata": {},
     "output_type": "display_data"
    },
    {
     "data": {
      "text/html": [
       "\n",
       "        <div id=\"HYUEv7pY2pHdPemUoWXvyZ\"></div>\n",
       "        <script>netpixi.call('HYUEv7pY2pHdPemUoWXvyZ', 'gFGaBMTAQdGaHJJQshijMZ', 'changeGraph', 'eyJpZCI6IDI2MSwgInR5cGUiOiAidmVydGV4IiwgInByb3BzIjogeyJjb2xvciI6IDE2NzExNjgwfX0K');</script>\n",
       "    "
      ],
      "text/plain": [
       "<IPython.core.display.HTML object>"
      ]
     },
     "metadata": {},
     "output_type": "display_data"
    },
    {
     "data": {
      "text/html": [
       "\n",
       "        <div id=\"a8a42T7si3jvW4DUR4CdCD\"></div>\n",
       "        <script>netpixi.call('a8a42T7si3jvW4DUR4CdCD', 'gFGaBMTAQdGaHJJQshijMZ', 'changeGraph', 'eyJpZCI6IDI2MiwgInR5cGUiOiAidmVydGV4IiwgInByb3BzIjogeyJjb2xvciI6IDE2NzExNjgwfX0K');</script>\n",
       "    "
      ],
      "text/plain": [
       "<IPython.core.display.HTML object>"
      ]
     },
     "metadata": {},
     "output_type": "display_data"
    },
    {
     "data": {
      "text/html": [
       "\n",
       "        <div id=\"2v3yumHVkSZs5JzFoe2Quo\"></div>\n",
       "        <script>netpixi.call('2v3yumHVkSZs5JzFoe2Quo', 'gFGaBMTAQdGaHJJQshijMZ', 'changeGraph', 'eyJpZCI6IDI2MywgInR5cGUiOiAidmVydGV4IiwgInByb3BzIjogeyJjb2xvciI6IDE2NzExNjgwfX0K');</script>\n",
       "    "
      ],
      "text/plain": [
       "<IPython.core.display.HTML object>"
      ]
     },
     "metadata": {},
     "output_type": "display_data"
    },
    {
     "data": {
      "text/html": [
       "\n",
       "        <div id=\"KzLBaSUvZgZa3tjCjDamKp\"></div>\n",
       "        <script>netpixi.call('KzLBaSUvZgZa3tjCjDamKp', 'gFGaBMTAQdGaHJJQshijMZ', 'changeGraph', 'eyJpZCI6IDI2NCwgInR5cGUiOiAidmVydGV4IiwgInByb3BzIjogeyJjb2xvciI6IDE2NzExNjgwfX0K');</script>\n",
       "    "
      ],
      "text/plain": [
       "<IPython.core.display.HTML object>"
      ]
     },
     "metadata": {},
     "output_type": "display_data"
    },
    {
     "data": {
      "text/html": [
       "\n",
       "        <div id=\"hUn9KcTVMvoJ66Po8pnCx6\"></div>\n",
       "        <script>netpixi.call('hUn9KcTVMvoJ66Po8pnCx6', 'gFGaBMTAQdGaHJJQshijMZ', 'changeGraph', 'eyJpZCI6IDI2NSwgInR5cGUiOiAidmVydGV4IiwgInByb3BzIjogeyJjb2xvciI6IDE2NzExNjgwfX0K');</script>\n",
       "    "
      ],
      "text/plain": [
       "<IPython.core.display.HTML object>"
      ]
     },
     "metadata": {},
     "output_type": "display_data"
    },
    {
     "data": {
      "text/html": [
       "\n",
       "        <div id=\"o9GeJaz7YifammKczCBYt2\"></div>\n",
       "        <script>netpixi.call('o9GeJaz7YifammKczCBYt2', 'gFGaBMTAQdGaHJJQshijMZ', 'changeGraph', 'eyJpZCI6IDI2NiwgInR5cGUiOiAidmVydGV4IiwgInByb3BzIjogeyJjb2xvciI6IDE2NzExNjgwfX0K');</script>\n",
       "    "
      ],
      "text/plain": [
       "<IPython.core.display.HTML object>"
      ]
     },
     "metadata": {},
     "output_type": "display_data"
    },
    {
     "data": {
      "text/html": [
       "\n",
       "        <div id=\"8ZczHPBgbhRWFzVAVAmYyM\"></div>\n",
       "        <script>netpixi.call('8ZczHPBgbhRWFzVAVAmYyM', 'gFGaBMTAQdGaHJJQshijMZ', 'changeGraph', 'eyJpZCI6IDI2NywgInR5cGUiOiAidmVydGV4IiwgInByb3BzIjogeyJjb2xvciI6IDY1MjgwfX0K');</script>\n",
       "    "
      ],
      "text/plain": [
       "<IPython.core.display.HTML object>"
      ]
     },
     "metadata": {},
     "output_type": "display_data"
    },
    {
     "data": {
      "text/html": [
       "\n",
       "        <div id=\"iNsmNmimJ5vLasxDwagJjz\"></div>\n",
       "        <script>netpixi.call('iNsmNmimJ5vLasxDwagJjz', 'gFGaBMTAQdGaHJJQshijMZ', 'changeGraph', 'eyJpZCI6IDI2OCwgInR5cGUiOiAidmVydGV4IiwgInByb3BzIjogeyJjb2xvciI6IDY1MjgwfX0K');</script>\n",
       "    "
      ],
      "text/plain": [
       "<IPython.core.display.HTML object>"
      ]
     },
     "metadata": {},
     "output_type": "display_data"
    },
    {
     "data": {
      "text/html": [
       "\n",
       "        <div id=\"25oYskUiF5WBv8SG6FF7xS\"></div>\n",
       "        <script>netpixi.call('25oYskUiF5WBv8SG6FF7xS', 'gFGaBMTAQdGaHJJQshijMZ', 'changeGraph', 'eyJpZCI6IDI2OSwgInR5cGUiOiAidmVydGV4IiwgInByb3BzIjogeyJjb2xvciI6IDY1MjgwfX0K');</script>\n",
       "    "
      ],
      "text/plain": [
       "<IPython.core.display.HTML object>"
      ]
     },
     "metadata": {},
     "output_type": "display_data"
    },
    {
     "data": {
      "text/html": [
       "\n",
       "        <div id=\"UHGbsLyB5wqYG2cWhVTWYq\"></div>\n",
       "        <script>netpixi.call('UHGbsLyB5wqYG2cWhVTWYq', 'gFGaBMTAQdGaHJJQshijMZ', 'changeGraph', 'eyJpZCI6IDI3MCwgInR5cGUiOiAidmVydGV4IiwgInByb3BzIjogeyJjb2xvciI6IDE2NzExNjgwfX0K');</script>\n",
       "    "
      ],
      "text/plain": [
       "<IPython.core.display.HTML object>"
      ]
     },
     "metadata": {},
     "output_type": "display_data"
    },
    {
     "data": {
      "text/html": [
       "\n",
       "        <div id=\"7BoUKn4CPqzxZqaieAKDyk\"></div>\n",
       "        <script>netpixi.call('7BoUKn4CPqzxZqaieAKDyk', 'gFGaBMTAQdGaHJJQshijMZ', 'changeGraph', 'eyJpZCI6IDI3MSwgInR5cGUiOiAidmVydGV4IiwgInByb3BzIjogeyJjb2xvciI6IDY1MjgwfX0K');</script>\n",
       "    "
      ],
      "text/plain": [
       "<IPython.core.display.HTML object>"
      ]
     },
     "metadata": {},
     "output_type": "display_data"
    },
    {
     "data": {
      "text/html": [
       "\n",
       "        <div id=\"jGh3qiRBoG5SiNnr8gMnTd\"></div>\n",
       "        <script>netpixi.call('jGh3qiRBoG5SiNnr8gMnTd', 'gFGaBMTAQdGaHJJQshijMZ', 'changeGraph', 'eyJpZCI6IDI3MiwgInR5cGUiOiAidmVydGV4IiwgInByb3BzIjogeyJjb2xvciI6IDY1MjgwfX0K');</script>\n",
       "    "
      ],
      "text/plain": [
       "<IPython.core.display.HTML object>"
      ]
     },
     "metadata": {},
     "output_type": "display_data"
    },
    {
     "data": {
      "text/html": [
       "\n",
       "        <div id=\"NLvbrymTt4amC8d4ztZhrk\"></div>\n",
       "        <script>netpixi.call('NLvbrymTt4amC8d4ztZhrk', 'gFGaBMTAQdGaHJJQshijMZ', 'changeGraph', 'eyJpZCI6IDI3MywgInR5cGUiOiAidmVydGV4IiwgInByb3BzIjogeyJjb2xvciI6IDY1MjgwfX0K');</script>\n",
       "    "
      ],
      "text/plain": [
       "<IPython.core.display.HTML object>"
      ]
     },
     "metadata": {},
     "output_type": "display_data"
    },
    {
     "data": {
      "text/html": [
       "\n",
       "        <div id=\"cFPXyWehaFdDe98t4DK8qm\"></div>\n",
       "        <script>netpixi.call('cFPXyWehaFdDe98t4DK8qm', 'gFGaBMTAQdGaHJJQshijMZ', 'changeGraph', 'eyJpZCI6IDI3NCwgInR5cGUiOiAidmVydGV4IiwgInByb3BzIjogeyJjb2xvciI6IDE2NzExNjgwfX0K');</script>\n",
       "    "
      ],
      "text/plain": [
       "<IPython.core.display.HTML object>"
      ]
     },
     "metadata": {},
     "output_type": "display_data"
    },
    {
     "data": {
      "text/html": [
       "\n",
       "        <div id=\"JKqZ8aaQg4LAoWJqKoURoL\"></div>\n",
       "        <script>netpixi.call('JKqZ8aaQg4LAoWJqKoURoL', 'gFGaBMTAQdGaHJJQshijMZ', 'changeGraph', 'eyJpZCI6IDI3NSwgInR5cGUiOiAidmVydGV4IiwgInByb3BzIjogeyJjb2xvciI6IDY1MjgwfX0K');</script>\n",
       "    "
      ],
      "text/plain": [
       "<IPython.core.display.HTML object>"
      ]
     },
     "metadata": {},
     "output_type": "display_data"
    },
    {
     "data": {
      "text/html": [
       "\n",
       "        <div id=\"B3pYqtuHDuuCUHCr4Z2jf6\"></div>\n",
       "        <script>netpixi.call('B3pYqtuHDuuCUHCr4Z2jf6', 'gFGaBMTAQdGaHJJQshijMZ', 'changeGraph', 'eyJpZCI6IDI3NiwgInR5cGUiOiAidmVydGV4IiwgInByb3BzIjogeyJjb2xvciI6IDY1MjgwfX0K');</script>\n",
       "    "
      ],
      "text/plain": [
       "<IPython.core.display.HTML object>"
      ]
     },
     "metadata": {},
     "output_type": "display_data"
    },
    {
     "data": {
      "text/html": [
       "\n",
       "        <div id=\"ZFYunTZV5SBy3rE9aCvaQg\"></div>\n",
       "        <script>netpixi.call('ZFYunTZV5SBy3rE9aCvaQg', 'gFGaBMTAQdGaHJJQshijMZ', 'changeGraph', 'eyJpZCI6IDI3NywgInR5cGUiOiAidmVydGV4IiwgInByb3BzIjogeyJjb2xvciI6IDE2NzExNjgwfX0K');</script>\n",
       "    "
      ],
      "text/plain": [
       "<IPython.core.display.HTML object>"
      ]
     },
     "metadata": {},
     "output_type": "display_data"
    },
    {
     "data": {
      "text/html": [
       "\n",
       "        <div id=\"Ps3bz5SCMtNjJGsgQSL5He\"></div>\n",
       "        <script>netpixi.call('Ps3bz5SCMtNjJGsgQSL5He', 'gFGaBMTAQdGaHJJQshijMZ', 'changeGraph', 'eyJpZCI6IDI3OCwgInR5cGUiOiAidmVydGV4IiwgInByb3BzIjogeyJjb2xvciI6IDY1MjgwfX0K');</script>\n",
       "    "
      ],
      "text/plain": [
       "<IPython.core.display.HTML object>"
      ]
     },
     "metadata": {},
     "output_type": "display_data"
    },
    {
     "data": {
      "text/html": [
       "\n",
       "        <div id=\"amHTtNKGw5wtfrukRoPid7\"></div>\n",
       "        <script>netpixi.call('amHTtNKGw5wtfrukRoPid7', 'gFGaBMTAQdGaHJJQshijMZ', 'changeGraph', 'eyJpZCI6IDI3OSwgInR5cGUiOiAidmVydGV4IiwgInByb3BzIjogeyJjb2xvciI6IDE2NzExNjgwfX0K');</script>\n",
       "    "
      ],
      "text/plain": [
       "<IPython.core.display.HTML object>"
      ]
     },
     "metadata": {},
     "output_type": "display_data"
    },
    {
     "data": {
      "text/html": [
       "\n",
       "        <div id=\"ZHtuh5owUXyuSmmNVfAKQo\"></div>\n",
       "        <script>netpixi.call('ZHtuh5owUXyuSmmNVfAKQo', 'gFGaBMTAQdGaHJJQshijMZ', 'changeGraph', 'eyJpZCI6IDI4MCwgInR5cGUiOiAidmVydGV4IiwgInByb3BzIjogeyJjb2xvciI6IDE2NzExNjgwfX0K');</script>\n",
       "    "
      ],
      "text/plain": [
       "<IPython.core.display.HTML object>"
      ]
     },
     "metadata": {},
     "output_type": "display_data"
    },
    {
     "data": {
      "text/html": [
       "\n",
       "        <div id=\"2cKQ8dd9zr9nL7Y965E7WY\"></div>\n",
       "        <script>netpixi.call('2cKQ8dd9zr9nL7Y965E7WY', 'gFGaBMTAQdGaHJJQshijMZ', 'changeGraph', 'eyJpZCI6IDI4MSwgInR5cGUiOiAidmVydGV4IiwgInByb3BzIjogeyJjb2xvciI6IDY1MjgwfX0K');</script>\n",
       "    "
      ],
      "text/plain": [
       "<IPython.core.display.HTML object>"
      ]
     },
     "metadata": {},
     "output_type": "display_data"
    },
    {
     "data": {
      "text/html": [
       "\n",
       "        <div id=\"nCgxSYrgnwBwdfFRqaznbA\"></div>\n",
       "        <script>netpixi.call('nCgxSYrgnwBwdfFRqaznbA', 'gFGaBMTAQdGaHJJQshijMZ', 'changeGraph', 'eyJpZCI6IDI4MiwgInR5cGUiOiAidmVydGV4IiwgInByb3BzIjogeyJjb2xvciI6IDE2NzExNjgwfX0K');</script>\n",
       "    "
      ],
      "text/plain": [
       "<IPython.core.display.HTML object>"
      ]
     },
     "metadata": {},
     "output_type": "display_data"
    },
    {
     "data": {
      "text/html": [
       "\n",
       "        <div id=\"efavvwvXzQnpfQnQo5AKaS\"></div>\n",
       "        <script>netpixi.call('efavvwvXzQnpfQnQo5AKaS', 'gFGaBMTAQdGaHJJQshijMZ', 'changeGraph', 'eyJpZCI6IDI4MywgInR5cGUiOiAidmVydGV4IiwgInByb3BzIjogeyJjb2xvciI6IDY1MjgwfX0K');</script>\n",
       "    "
      ],
      "text/plain": [
       "<IPython.core.display.HTML object>"
      ]
     },
     "metadata": {},
     "output_type": "display_data"
    },
    {
     "data": {
      "text/html": [
       "\n",
       "        <div id=\"U5CfpX7VaW396x49VthUo8\"></div>\n",
       "        <script>netpixi.call('U5CfpX7VaW396x49VthUo8', 'gFGaBMTAQdGaHJJQshijMZ', 'changeGraph', 'eyJpZCI6IDI4NCwgInR5cGUiOiAidmVydGV4IiwgInByb3BzIjogeyJjb2xvciI6IDY1MjgwfX0K');</script>\n",
       "    "
      ],
      "text/plain": [
       "<IPython.core.display.HTML object>"
      ]
     },
     "metadata": {},
     "output_type": "display_data"
    },
    {
     "data": {
      "text/html": [
       "\n",
       "        <div id=\"nzhC7VE6zUrCTLAthLRsPo\"></div>\n",
       "        <script>netpixi.call('nzhC7VE6zUrCTLAthLRsPo', 'gFGaBMTAQdGaHJJQshijMZ', 'changeGraph', 'eyJpZCI6IDI4NSwgInR5cGUiOiAidmVydGV4IiwgInByb3BzIjogeyJjb2xvciI6IDY1MjgwfX0K');</script>\n",
       "    "
      ],
      "text/plain": [
       "<IPython.core.display.HTML object>"
      ]
     },
     "metadata": {},
     "output_type": "display_data"
    },
    {
     "data": {
      "text/html": [
       "\n",
       "        <div id=\"eFWcmX2o9UpG4dUKQS5tB8\"></div>\n",
       "        <script>netpixi.call('eFWcmX2o9UpG4dUKQS5tB8', 'gFGaBMTAQdGaHJJQshijMZ', 'changeGraph', 'eyJpZCI6IDI4NiwgInR5cGUiOiAidmVydGV4IiwgInByb3BzIjogeyJjb2xvciI6IDE2NzExNjgwfX0K');</script>\n",
       "    "
      ],
      "text/plain": [
       "<IPython.core.display.HTML object>"
      ]
     },
     "metadata": {},
     "output_type": "display_data"
    },
    {
     "data": {
      "text/html": [
       "\n",
       "        <div id=\"4X2Y9LDUNXJma2z44WWngv\"></div>\n",
       "        <script>netpixi.call('4X2Y9LDUNXJma2z44WWngv', 'gFGaBMTAQdGaHJJQshijMZ', 'changeGraph', 'eyJpZCI6IDI4NywgInR5cGUiOiAidmVydGV4IiwgInByb3BzIjogeyJjb2xvciI6IDY1MjgwfX0K');</script>\n",
       "    "
      ],
      "text/plain": [
       "<IPython.core.display.HTML object>"
      ]
     },
     "metadata": {},
     "output_type": "display_data"
    },
    {
     "data": {
      "text/html": [
       "\n",
       "        <div id=\"FqVeEttbH7khWZU4FgggrD\"></div>\n",
       "        <script>netpixi.call('FqVeEttbH7khWZU4FgggrD', 'gFGaBMTAQdGaHJJQshijMZ', 'changeGraph', 'eyJpZCI6IDI4OCwgInR5cGUiOiAidmVydGV4IiwgInByb3BzIjogeyJjb2xvciI6IDY1MjgwfX0K');</script>\n",
       "    "
      ],
      "text/plain": [
       "<IPython.core.display.HTML object>"
      ]
     },
     "metadata": {},
     "output_type": "display_data"
    },
    {
     "data": {
      "text/html": [
       "\n",
       "        <div id=\"FapHn532ah5MdiCsidwR6p\"></div>\n",
       "        <script>netpixi.call('FapHn532ah5MdiCsidwR6p', 'gFGaBMTAQdGaHJJQshijMZ', 'changeGraph', 'eyJpZCI6IDI4OSwgInR5cGUiOiAidmVydGV4IiwgInByb3BzIjogeyJjb2xvciI6IDE2NzExNjgwfX0K');</script>\n",
       "    "
      ],
      "text/plain": [
       "<IPython.core.display.HTML object>"
      ]
     },
     "metadata": {},
     "output_type": "display_data"
    },
    {
     "data": {
      "text/html": [
       "\n",
       "        <div id=\"VHFbByWjZ9KXsdBaYvmRr8\"></div>\n",
       "        <script>netpixi.call('VHFbByWjZ9KXsdBaYvmRr8', 'gFGaBMTAQdGaHJJQshijMZ', 'changeGraph', 'eyJpZCI6IDI5MCwgInR5cGUiOiAidmVydGV4IiwgInByb3BzIjogeyJjb2xvciI6IDY1MjgwfX0K');</script>\n",
       "    "
      ],
      "text/plain": [
       "<IPython.core.display.HTML object>"
      ]
     },
     "metadata": {},
     "output_type": "display_data"
    },
    {
     "data": {
      "text/html": [
       "\n",
       "        <div id=\"aXHSUxFih6QtV3SZzKJAfE\"></div>\n",
       "        <script>netpixi.call('aXHSUxFih6QtV3SZzKJAfE', 'gFGaBMTAQdGaHJJQshijMZ', 'changeGraph', 'eyJpZCI6IDI5MSwgInR5cGUiOiAidmVydGV4IiwgInByb3BzIjogeyJjb2xvciI6IDE2NzExNjgwfX0K');</script>\n",
       "    "
      ],
      "text/plain": [
       "<IPython.core.display.HTML object>"
      ]
     },
     "metadata": {},
     "output_type": "display_data"
    },
    {
     "data": {
      "text/html": [
       "\n",
       "        <div id=\"aqGkQ9fhojPckXUZXVt3pv\"></div>\n",
       "        <script>netpixi.call('aqGkQ9fhojPckXUZXVt3pv', 'gFGaBMTAQdGaHJJQshijMZ', 'changeGraph', 'eyJpZCI6IDI5MiwgInR5cGUiOiAidmVydGV4IiwgInByb3BzIjogeyJjb2xvciI6IDE2NzExNjgwfX0K');</script>\n",
       "    "
      ],
      "text/plain": [
       "<IPython.core.display.HTML object>"
      ]
     },
     "metadata": {},
     "output_type": "display_data"
    },
    {
     "data": {
      "text/html": [
       "\n",
       "        <div id=\"oMgMhzWetooNxJyGUVA8Bf\"></div>\n",
       "        <script>netpixi.call('oMgMhzWetooNxJyGUVA8Bf', 'gFGaBMTAQdGaHJJQshijMZ', 'changeGraph', 'eyJpZCI6IDI5MywgInR5cGUiOiAidmVydGV4IiwgInByb3BzIjogeyJjb2xvciI6IDE2NzExNjgwfX0K');</script>\n",
       "    "
      ],
      "text/plain": [
       "<IPython.core.display.HTML object>"
      ]
     },
     "metadata": {},
     "output_type": "display_data"
    },
    {
     "data": {
      "text/html": [
       "\n",
       "        <div id=\"K6Z37Ek2tBaqFzLWnerkso\"></div>\n",
       "        <script>netpixi.call('K6Z37Ek2tBaqFzLWnerkso', 'gFGaBMTAQdGaHJJQshijMZ', 'changeGraph', 'eyJpZCI6IDI5NCwgInR5cGUiOiAidmVydGV4IiwgInByb3BzIjogeyJjb2xvciI6IDY1MjgwfX0K');</script>\n",
       "    "
      ],
      "text/plain": [
       "<IPython.core.display.HTML object>"
      ]
     },
     "metadata": {},
     "output_type": "display_data"
    },
    {
     "data": {
      "text/html": [
       "\n",
       "        <div id=\"MbN35d6bYCkNoLbQA5TBbj\"></div>\n",
       "        <script>netpixi.call('MbN35d6bYCkNoLbQA5TBbj', 'gFGaBMTAQdGaHJJQshijMZ', 'changeGraph', 'eyJpZCI6IDI5NSwgInR5cGUiOiAidmVydGV4IiwgInByb3BzIjogeyJjb2xvciI6IDY1MjgwfX0K');</script>\n",
       "    "
      ],
      "text/plain": [
       "<IPython.core.display.HTML object>"
      ]
     },
     "metadata": {},
     "output_type": "display_data"
    },
    {
     "data": {
      "text/html": [
       "\n",
       "        <div id=\"4mbzFQuMtdZWXAMo62EKjK\"></div>\n",
       "        <script>netpixi.call('4mbzFQuMtdZWXAMo62EKjK', 'gFGaBMTAQdGaHJJQshijMZ', 'changeGraph', 'eyJpZCI6IDI5NiwgInR5cGUiOiAidmVydGV4IiwgInByb3BzIjogeyJjb2xvciI6IDE2NzExNjgwfX0K');</script>\n",
       "    "
      ],
      "text/plain": [
       "<IPython.core.display.HTML object>"
      ]
     },
     "metadata": {},
     "output_type": "display_data"
    },
    {
     "data": {
      "text/html": [
       "\n",
       "        <div id=\"C7CMryozpuVUtH9bripBFv\"></div>\n",
       "        <script>netpixi.call('C7CMryozpuVUtH9bripBFv', 'gFGaBMTAQdGaHJJQshijMZ', 'changeGraph', 'eyJpZCI6IDI5NywgInR5cGUiOiAidmVydGV4IiwgInByb3BzIjogeyJjb2xvciI6IDY1MjgwfX0K');</script>\n",
       "    "
      ],
      "text/plain": [
       "<IPython.core.display.HTML object>"
      ]
     },
     "metadata": {},
     "output_type": "display_data"
    },
    {
     "data": {
      "text/html": [
       "\n",
       "        <div id=\"MbZYCGdfQk8aEfc76ESysc\"></div>\n",
       "        <script>netpixi.call('MbZYCGdfQk8aEfc76ESysc', 'gFGaBMTAQdGaHJJQshijMZ', 'changeGraph', 'eyJpZCI6IDI5OCwgInR5cGUiOiAidmVydGV4IiwgInByb3BzIjogeyJjb2xvciI6IDY1MjgwfX0K');</script>\n",
       "    "
      ],
      "text/plain": [
       "<IPython.core.display.HTML object>"
      ]
     },
     "metadata": {},
     "output_type": "display_data"
    },
    {
     "data": {
      "text/html": [
       "\n",
       "        <div id=\"mDbcBPNTyXiPnPzbWZ2HNm\"></div>\n",
       "        <script>netpixi.call('mDbcBPNTyXiPnPzbWZ2HNm', 'gFGaBMTAQdGaHJJQshijMZ', 'changeGraph', 'eyJpZCI6IDAsICJ0eXBlIjogInZlcnRleCIsICJwcm9wcyI6IHsic2l6ZSI6IDE0LjM1MTQ2NDQzNTE0NjQ0M319Cg==');</script>\n",
       "    "
      ],
      "text/plain": [
       "<IPython.core.display.HTML object>"
      ]
     },
     "metadata": {},
     "output_type": "display_data"
    },
    {
     "data": {
      "text/html": [
       "\n",
       "        <div id=\"g56YXf99iqXjx8pfXJ7GKQ\"></div>\n",
       "        <script>netpixi.call('g56YXf99iqXjx8pfXJ7GKQ', 'gFGaBMTAQdGaHJJQshijMZ', 'changeGraph', 'eyJpZCI6IDg3LCAidHlwZSI6ICJ2ZXJ0ZXgiLCAicHJvcHMiOiB7ImNvbG9yIjogMTY3MTE2ODB9fQo=');</script>\n",
       "    "
      ],
      "text/plain": [
       "<IPython.core.display.HTML object>"
      ]
     },
     "metadata": {},
     "output_type": "display_data"
    },
    {
     "data": {
      "text/html": [
       "\n",
       "        <div id=\"SYTJGx5t5nTiQP5kAqBAYb\"></div>\n",
       "        <script>netpixi.call('SYTJGx5t5nTiQP5kAqBAYb', 'gFGaBMTAQdGaHJJQshijMZ', 'changeGraph', 'eyJpZCI6IDEsICJ0eXBlIjogInZlcnRleCIsICJwcm9wcyI6IHsic2l6ZSI6IDEyLjM4NDkzNzIzODQ5MzcyM319Cg==');</script>\n",
       "    "
      ],
      "text/plain": [
       "<IPython.core.display.HTML object>"
      ]
     },
     "metadata": {},
     "output_type": "display_data"
    },
    {
     "data": {
      "text/html": [
       "\n",
       "        <div id=\"5vR2EuStjVmFvUisceBCXD\"></div>\n",
       "        <script>netpixi.call('5vR2EuStjVmFvUisceBCXD', 'gFGaBMTAQdGaHJJQshijMZ', 'changeGraph', 'eyJpZCI6IDczLCAidHlwZSI6ICJ2ZXJ0ZXgiLCAicHJvcHMiOiB7ImNvbG9yIjogMTY3MTE2ODB9fQo=');</script>\n",
       "    "
      ],
      "text/plain": [
       "<IPython.core.display.HTML object>"
      ]
     },
     "metadata": {},
     "output_type": "display_data"
    },
    {
     "data": {
      "text/html": [
       "\n",
       "        <div id=\"7F6tXuHSinuFUngQMQfijf\"></div>\n",
       "        <script>netpixi.call('7F6tXuHSinuFUngQMQfijf', 'gFGaBMTAQdGaHJJQshijMZ', 'changeGraph', 'eyJpZCI6IDIsICJ0eXBlIjogInZlcnRleCIsICJwcm9wcyI6IHsic2l6ZSI6IDEyLjQyNjc3ODI0MjY3NzgyM319Cg==');</script>\n",
       "    "
      ],
      "text/plain": [
       "<IPython.core.display.HTML object>"
      ]
     },
     "metadata": {},
     "output_type": "display_data"
    },
    {
     "data": {
      "text/html": [
       "\n",
       "        <div id=\"9zvopG9fViMgkPGrAZ9NzK\"></div>\n",
       "        <script>netpixi.call('9zvopG9fViMgkPGrAZ9NzK', 'gFGaBMTAQdGaHJJQshijMZ', 'changeGraph', 'eyJpZCI6IDg3LCAidHlwZSI6ICJ2ZXJ0ZXgiLCAicHJvcHMiOiB7ImNvbG9yIjogMTY3MTE2ODB9fQo=');</script>\n",
       "    "
      ],
      "text/plain": [
       "<IPython.core.display.HTML object>"
      ]
     },
     "metadata": {},
     "output_type": "display_data"
    },
    {
     "data": {
      "text/html": [
       "\n",
       "        <div id=\"eXXXUaQEmL2xxXeHso2o5p\"></div>\n",
       "        <script>netpixi.call('eXXXUaQEmL2xxXeHso2o5p', 'gFGaBMTAQdGaHJJQshijMZ', 'changeGraph', 'eyJpZCI6IDMsICJ0eXBlIjogInZlcnRleCIsICJwcm9wcyI6IHsic2l6ZSI6IDEyLjU5NDE0MjI1OTQxNDIyNX19Cg==');</script>\n",
       "    "
      ],
      "text/plain": [
       "<IPython.core.display.HTML object>"
      ]
     },
     "metadata": {},
     "output_type": "display_data"
    },
    {
     "data": {
      "text/html": [
       "\n",
       "        <div id=\"QRkamcBdYXPkMEaY6Jsw7E\"></div>\n",
       "        <script>netpixi.call('QRkamcBdYXPkMEaY6Jsw7E', 'gFGaBMTAQdGaHJJQshijMZ', 'changeGraph', 'eyJpZCI6IDc2LCAidHlwZSI6ICJ2ZXJ0ZXgiLCAicHJvcHMiOiB7ImNvbG9yIjogMTY3MTE2ODB9fQo=');</script>\n",
       "    "
      ],
      "text/plain": [
       "<IPython.core.display.HTML object>"
      ]
     },
     "metadata": {},
     "output_type": "display_data"
    },
    {
     "data": {
      "text/html": [
       "\n",
       "        <div id=\"npUN6EPpTJLPrx7EgGuZzi\"></div>\n",
       "        <script>netpixi.call('npUN6EPpTJLPrx7EgGuZzi', 'gFGaBMTAQdGaHJJQshijMZ', 'changeGraph', 'eyJpZCI6IDQsICJ0eXBlIjogInZlcnRleCIsICJwcm9wcyI6IHsic2l6ZSI6IDQ0LjE2NjY2NjY2NjY2NjY2NH19Cg==');</script>\n",
       "    "
      ],
      "text/plain": [
       "<IPython.core.display.HTML object>"
      ]
     },
     "metadata": {},
     "output_type": "display_data"
    },
    {
     "data": {
      "text/html": [
       "\n",
       "        <div id=\"PXHWEfLNF4nB5hyVMC83uW\"></div>\n",
       "        <script>netpixi.call('PXHWEfLNF4nB5hyVMC83uW', 'gFGaBMTAQdGaHJJQshijMZ', 'changeGraph', 'eyJpZCI6IDY3LCAidHlwZSI6ICJ2ZXJ0ZXgiLCAicHJvcHMiOiB7ImNvbG9yIjogMTY3MTE2ODB9fQo=');</script>\n",
       "    "
      ],
      "text/plain": [
       "<IPython.core.display.HTML object>"
      ]
     },
     "metadata": {},
     "output_type": "display_data"
    },
    {
     "data": {
      "text/html": [
       "\n",
       "        <div id=\"k4pCb5WFUqXDgahVYrvH9Y\"></div>\n",
       "        <script>netpixi.call('k4pCb5WFUqXDgahVYrvH9Y', 'gFGaBMTAQdGaHJJQshijMZ', 'changeGraph', 'eyJpZCI6IDUsICJ0eXBlIjogInZlcnRleCIsICJwcm9wcyI6IHsic2l6ZSI6IDExLjg0MTAwNDE4NDEwMDQxOH19Cg==');</script>\n",
       "    "
      ],
      "text/plain": [
       "<IPython.core.display.HTML object>"
      ]
     },
     "metadata": {},
     "output_type": "display_data"
    },
    {
     "data": {
      "text/html": [
       "\n",
       "        <div id=\"SRPrMGLqTciYMegxkcZASB\"></div>\n",
       "        <script>netpixi.call('SRPrMGLqTciYMegxkcZASB', 'gFGaBMTAQdGaHJJQshijMZ', 'changeGraph', 'eyJpZCI6IDcxLCAidHlwZSI6ICJ2ZXJ0ZXgiLCAicHJvcHMiOiB7ImNvbG9yIjogMTY3MTE2ODB9fQo=');</script>\n",
       "    "
      ],
      "text/plain": [
       "<IPython.core.display.HTML object>"
      ]
     },
     "metadata": {},
     "output_type": "display_data"
    },
    {
     "data": {
      "text/html": [
       "\n",
       "        <div id=\"gA4yp5TjonowrfJupwnpeK\"></div>\n",
       "        <script>netpixi.call('gA4yp5TjonowrfJupwnpeK', 'gFGaBMTAQdGaHJJQshijMZ', 'changeGraph', 'eyJpZCI6IDYsICJ0eXBlIjogInZlcnRleCIsICJwcm9wcyI6IHsic2l6ZSI6IDE1LjY5MDM3NjU2OTAzNzY1N319Cg==');</script>\n",
       "    "
      ],
      "text/plain": [
       "<IPython.core.display.HTML object>"
      ]
     },
     "metadata": {},
     "output_type": "display_data"
    },
    {
     "data": {
      "text/html": [
       "\n",
       "        <div id=\"FpxQD9MyoPCZBtPCBv2sMp\"></div>\n",
       "        <script>netpixi.call('FpxQD9MyoPCZBtPCBv2sMp', 'gFGaBMTAQdGaHJJQshijMZ', 'changeGraph', 'eyJpZCI6IDg3LCAidHlwZSI6ICJ2ZXJ0ZXgiLCAicHJvcHMiOiB7ImNvbG9yIjogMTY3MTE2ODB9fQo=');</script>\n",
       "    "
      ],
      "text/plain": [
       "<IPython.core.display.HTML object>"
      ]
     },
     "metadata": {},
     "output_type": "display_data"
    },
    {
     "data": {
      "text/html": [
       "\n",
       "        <div id=\"a4XYoU8T3kUdiKnjrBw5yo\"></div>\n",
       "        <script>netpixi.call('a4XYoU8T3kUdiKnjrBw5yo', 'gFGaBMTAQdGaHJJQshijMZ', 'changeGraph', 'eyJpZCI6IDcsICJ0eXBlIjogInZlcnRleCIsICJwcm9wcyI6IHsic2l6ZSI6IDE2LjQwMTY3MzY0MDE2NzM2M319Cg==');</script>\n",
       "    "
      ],
      "text/plain": [
       "<IPython.core.display.HTML object>"
      ]
     },
     "metadata": {},
     "output_type": "display_data"
    },
    {
     "data": {
      "text/html": [
       "\n",
       "        <div id=\"dHTtBmizG2B5NRW9UTf7Fn\"></div>\n",
       "        <script>netpixi.call('dHTtBmizG2B5NRW9UTf7Fn', 'gFGaBMTAQdGaHJJQshijMZ', 'changeGraph', 'eyJpZCI6IDcwLCAidHlwZSI6ICJ2ZXJ0ZXgiLCAicHJvcHMiOiB7ImNvbG9yIjogMTY3MTE2ODB9fQo=');</script>\n",
       "    "
      ],
      "text/plain": [
       "<IPython.core.display.HTML object>"
      ]
     },
     "metadata": {},
     "output_type": "display_data"
    },
    {
     "data": {
      "text/html": [
       "\n",
       "        <div id=\"k3Ej4byF5Lc7RZvRPR2LDq\"></div>\n",
       "        <script>netpixi.call('k3Ej4byF5Lc7RZvRPR2LDq', 'gFGaBMTAQdGaHJJQshijMZ', 'changeGraph', 'eyJpZCI6IDgsICJ0eXBlIjogInZlcnRleCIsICJwcm9wcyI6IHsic2l6ZSI6IDE0Ljg1MzU1NjQ4NTM1NTY0OH19Cg==');</script>\n",
       "    "
      ],
      "text/plain": [
       "<IPython.core.display.HTML object>"
      ]
     },
     "metadata": {},
     "output_type": "display_data"
    },
    {
     "data": {
      "text/html": [
       "\n",
       "        <div id=\"MdMaEkCMdqxs3MrLpnTJX4\"></div>\n",
       "        <script>netpixi.call('MdMaEkCMdqxs3MrLpnTJX4', 'gFGaBMTAQdGaHJJQshijMZ', 'changeGraph', 'eyJpZCI6IDc1LCAidHlwZSI6ICJ2ZXJ0ZXgiLCAicHJvcHMiOiB7ImNvbG9yIjogMTY3MTE2ODB9fQo=');</script>\n",
       "    "
      ],
      "text/plain": [
       "<IPython.core.display.HTML object>"
      ]
     },
     "metadata": {},
     "output_type": "display_data"
    },
    {
     "data": {
      "text/html": [
       "\n",
       "        <div id=\"TbTYpfZ6as9f8cMePhpQgE\"></div>\n",
       "        <script>netpixi.call('TbTYpfZ6as9f8cMePhpQgE', 'gFGaBMTAQdGaHJJQshijMZ', 'changeGraph', 'eyJpZCI6IDksICJ0eXBlIjogInZlcnRleCIsICJwcm9wcyI6IHsic2l6ZSI6IDE1Ljg5OTU4MTU4OTk1ODE1OH19Cg==');</script>\n",
       "    "
      ],
      "text/plain": [
       "<IPython.core.display.HTML object>"
      ]
     },
     "metadata": {},
     "output_type": "display_data"
    },
    {
     "data": {
      "text/html": [
       "\n",
       "        <div id=\"btbgckp3cePWMkKRQDxhyV\"></div>\n",
       "        <script>netpixi.call('btbgckp3cePWMkKRQDxhyV', 'gFGaBMTAQdGaHJJQshijMZ', 'changeGraph', 'eyJpZCI6IDY1LCAidHlwZSI6ICJ2ZXJ0ZXgiLCAicHJvcHMiOiB7ImNvbG9yIjogMTY3MTE2ODB9fQo=');</script>\n",
       "    "
      ],
      "text/plain": [
       "<IPython.core.display.HTML object>"
      ]
     },
     "metadata": {},
     "output_type": "display_data"
    },
    {
     "data": {
      "text/html": [
       "\n",
       "        <div id=\"9ZZmxtFkvTd8suQs3RLhbk\"></div>\n",
       "        <script>netpixi.call('9ZZmxtFkvTd8suQs3RLhbk', 'gFGaBMTAQdGaHJJQshijMZ', 'changeGraph', 'eyJpZCI6IDEwLCAidHlwZSI6ICJ2ZXJ0ZXgiLCAicHJvcHMiOiB7InNpemUiOiAxNC40NzY5ODc0NDc2OTg3NDN9fQo=');</script>\n",
       "    "
      ],
      "text/plain": [
       "<IPython.core.display.HTML object>"
      ]
     },
     "metadata": {},
     "output_type": "display_data"
    },
    {
     "data": {
      "text/html": [
       "\n",
       "        <div id=\"VpnxqWTDZ9RN64pLqSpDp2\"></div>\n",
       "        <script>netpixi.call('VpnxqWTDZ9RN64pLqSpDp2', 'gFGaBMTAQdGaHJJQshijMZ', 'changeGraph', 'eyJpZCI6IDgyLCAidHlwZSI6ICJ2ZXJ0ZXgiLCAicHJvcHMiOiB7ImNvbG9yIjogMTY3MTE2ODB9fQo=');</script>\n",
       "    "
      ],
      "text/plain": [
       "<IPython.core.display.HTML object>"
      ]
     },
     "metadata": {},
     "output_type": "display_data"
    },
    {
     "data": {
      "text/html": [
       "\n",
       "        <div id=\"NNs4xV4rmt8MPHaQSYBFvp\"></div>\n",
       "        <script>netpixi.call('NNs4xV4rmt8MPHaQSYBFvp', 'gFGaBMTAQdGaHJJQshijMZ', 'changeGraph', 'eyJpZCI6IDExLCAidHlwZSI6ICJ2ZXJ0ZXgiLCAicHJvcHMiOiB7InNpemUiOiAxNS4wMjA5MjA1MDIwOTIwNX19Cg==');</script>\n",
       "    "
      ],
      "text/plain": [
       "<IPython.core.display.HTML object>"
      ]
     },
     "metadata": {},
     "output_type": "display_data"
    },
    {
     "data": {
      "text/html": [
       "\n",
       "        <div id=\"NYCVnj8ejMtfWuBVDKEjCM\"></div>\n",
       "        <script>netpixi.call('NYCVnj8ejMtfWuBVDKEjCM', 'gFGaBMTAQdGaHJJQshijMZ', 'changeGraph', 'eyJpZCI6IDY0LCAidHlwZSI6ICJ2ZXJ0ZXgiLCAicHJvcHMiOiB7ImNvbG9yIjogMTY3MTE2ODB9fQo=');</script>\n",
       "    "
      ],
      "text/plain": [
       "<IPython.core.display.HTML object>"
      ]
     },
     "metadata": {},
     "output_type": "display_data"
    },
    {
     "data": {
      "text/html": [
       "\n",
       "        <div id=\"3iR6Y3EUhgzZ5HnKditixR\"></div>\n",
       "        <script>netpixi.call('3iR6Y3EUhgzZ5HnKditixR', 'gFGaBMTAQdGaHJJQshijMZ', 'changeGraph', 'eyJpZCI6IDEyLCAidHlwZSI6ICJ2ZXJ0ZXgiLCAicHJvcHMiOiB7InNpemUiOiAxNy41NzMyMjE3NTczMjIxNzN9fQo=');</script>\n",
       "    "
      ],
      "text/plain": [
       "<IPython.core.display.HTML object>"
      ]
     },
     "metadata": {},
     "output_type": "display_data"
    },
    {
     "data": {
      "text/html": [
       "\n",
       "        <div id=\"HPd8WsfhtmXgMvxby4imsY\"></div>\n",
       "        <script>netpixi.call('HPd8WsfhtmXgMvxby4imsY', 'gFGaBMTAQdGaHJJQshijMZ', 'changeGraph', 'eyJpZCI6IDgzLCAidHlwZSI6ICJ2ZXJ0ZXgiLCAicHJvcHMiOiB7ImNvbG9yIjogMTY3MTE2ODB9fQo=');</script>\n",
       "    "
      ],
      "text/plain": [
       "<IPython.core.display.HTML object>"
      ]
     },
     "metadata": {},
     "output_type": "display_data"
    },
    {
     "data": {
      "text/html": [
       "\n",
       "        <div id=\"3wUqDCwJWmCw7LS7j5MxDH\"></div>\n",
       "        <script>netpixi.call('3wUqDCwJWmCw7LS7j5MxDH', 'gFGaBMTAQdGaHJJQshijMZ', 'changeGraph', 'eyJpZCI6IDEzLCAidHlwZSI6ICJ2ZXJ0ZXgiLCAicHJvcHMiOiB7InNpemUiOiA0Ny4xNjY2NjY2NjY2NjY2N319Cg==');</script>\n",
       "    "
      ],
      "text/plain": [
       "<IPython.core.display.HTML object>"
      ]
     },
     "metadata": {},
     "output_type": "display_data"
    },
    {
     "data": {
      "text/html": [
       "\n",
       "        <div id=\"6PQXkVto3thvmUWC9Dmrpq\"></div>\n",
       "        <script>netpixi.call('6PQXkVto3thvmUWC9Dmrpq', 'gFGaBMTAQdGaHJJQshijMZ', 'changeGraph', 'eyJpZCI6IDc0LCAidHlwZSI6ICJ2ZXJ0ZXgiLCAicHJvcHMiOiB7ImNvbG9yIjogMTY3MTE2ODB9fQo=');</script>\n",
       "    "
      ],
      "text/plain": [
       "<IPython.core.display.HTML object>"
      ]
     },
     "metadata": {},
     "output_type": "display_data"
    },
    {
     "data": {
      "text/html": [
       "\n",
       "        <div id=\"3ZTv6onsAkvChPgLMdUWMb\"></div>\n",
       "        <script>netpixi.call('3ZTv6onsAkvChPgLMdUWMb', 'gFGaBMTAQdGaHJJQshijMZ', 'changeGraph', 'eyJpZCI6IDE0LCAidHlwZSI6ICJ2ZXJ0ZXgiLCAicHJvcHMiOiB7InNpemUiOiAxNC4wNTg1Nzc0MDU4NTc3NH19Cg==');</script>\n",
       "    "
      ],
      "text/plain": [
       "<IPython.core.display.HTML object>"
      ]
     },
     "metadata": {},
     "output_type": "display_data"
    },
    {
     "data": {
      "text/html": [
       "\n",
       "        <div id=\"CFhKmhemmRDkYYaJW2F9u5\"></div>\n",
       "        <script>netpixi.call('CFhKmhemmRDkYYaJW2F9u5', 'gFGaBMTAQdGaHJJQshijMZ', 'changeGraph', 'eyJpZCI6IDUyLCAidHlwZSI6ICJ2ZXJ0ZXgiLCAicHJvcHMiOiB7ImNvbG9yIjogMTY3MTE2ODB9fQo=');</script>\n",
       "    "
      ],
      "text/plain": [
       "<IPython.core.display.HTML object>"
      ]
     },
     "metadata": {},
     "output_type": "display_data"
    },
    {
     "data": {
      "text/html": [
       "\n",
       "        <div id=\"Gi86u4FmdHjavRaZkjz23B\"></div>\n",
       "        <script>netpixi.call('Gi86u4FmdHjavRaZkjz23B', 'gFGaBMTAQdGaHJJQshijMZ', 'changeGraph', 'eyJpZCI6IDE1LCAidHlwZSI6ICJ2ZXJ0ZXgiLCAicHJvcHMiOiB7InNpemUiOiAxMy40NzI4MDMzNDcyODAzMzN9fQo=');</script>\n",
       "    "
      ],
      "text/plain": [
       "<IPython.core.display.HTML object>"
      ]
     },
     "metadata": {},
     "output_type": "display_data"
    },
    {
     "data": {
      "text/html": [
       "\n",
       "        <div id=\"7HbZfLhNbX2B9AbMVrTExV\"></div>\n",
       "        <script>netpixi.call('7HbZfLhNbX2B9AbMVrTExV', 'gFGaBMTAQdGaHJJQshijMZ', 'changeGraph', 'eyJpZCI6IDg0LCAidHlwZSI6ICJ2ZXJ0ZXgiLCAicHJvcHMiOiB7ImNvbG9yIjogMTY3MTE2ODB9fQo=');</script>\n",
       "    "
      ],
      "text/plain": [
       "<IPython.core.display.HTML object>"
      ]
     },
     "metadata": {},
     "output_type": "display_data"
    },
    {
     "data": {
      "text/html": [
       "\n",
       "        <div id=\"EbrZNpaDUKdA3xSna7YkxJ\"></div>\n",
       "        <script>netpixi.call('EbrZNpaDUKdA3xSna7YkxJ', 'gFGaBMTAQdGaHJJQshijMZ', 'changeGraph', 'eyJpZCI6IDE2LCAidHlwZSI6ICJ2ZXJ0ZXgiLCAicHJvcHMiOiB7InNpemUiOiAxOS4xNjMxNzk5MTYzMTc5OX19Cg==');</script>\n",
       "    "
      ],
      "text/plain": [
       "<IPython.core.display.HTML object>"
      ]
     },
     "metadata": {},
     "output_type": "display_data"
    },
    {
     "data": {
      "text/html": [
       "\n",
       "        <div id=\"URTauC8k7hk7ywZs83hcze\"></div>\n",
       "        <script>netpixi.call('URTauC8k7hk7ywZs83hcze', 'gFGaBMTAQdGaHJJQshijMZ', 'changeGraph', 'eyJpZCI6IDg5LCAidHlwZSI6ICJ2ZXJ0ZXgiLCAicHJvcHMiOiB7ImNvbG9yIjogMTY3MTE2ODB9fQo=');</script>\n",
       "    "
      ],
      "text/plain": [
       "<IPython.core.display.HTML object>"
      ]
     },
     "metadata": {},
     "output_type": "display_data"
    },
    {
     "data": {
      "text/html": [
       "\n",
       "        <div id=\"TiZYhSjxCYHVopbXbUGnES\"></div>\n",
       "        <script>netpixi.call('TiZYhSjxCYHVopbXbUGnES', 'gFGaBMTAQdGaHJJQshijMZ', 'changeGraph', 'eyJpZCI6IDE3LCAidHlwZSI6ICJ2ZXJ0ZXgiLCAicHJvcHMiOiB7InNpemUiOiAxMi4wOTIwNTAyMDkyMDUwMn19Cg==');</script>\n",
       "    "
      ],
      "text/plain": [
       "<IPython.core.display.HTML object>"
      ]
     },
     "metadata": {},
     "output_type": "display_data"
    },
    {
     "data": {
      "text/html": [
       "\n",
       "        <div id=\"SDnkFk59HR4vSxWWe2hL5F\"></div>\n",
       "        <script>netpixi.call('SDnkFk59HR4vSxWWe2hL5F', 'gFGaBMTAQdGaHJJQshijMZ', 'changeGraph', 'eyJpZCI6IDgzLCAidHlwZSI6ICJ2ZXJ0ZXgiLCAicHJvcHMiOiB7ImNvbG9yIjogMTY3MTE2ODB9fQo=');</script>\n",
       "    "
      ],
      "text/plain": [
       "<IPython.core.display.HTML object>"
      ]
     },
     "metadata": {},
     "output_type": "display_data"
    },
    {
     "data": {
      "text/html": [
       "\n",
       "        <div id=\"DRe8kMmVcywiR4pkaU5oss\"></div>\n",
       "        <script>netpixi.call('DRe8kMmVcywiR4pkaU5oss', 'gFGaBMTAQdGaHJJQshijMZ', 'changeGraph', 'eyJpZCI6IDE4LCAidHlwZSI6ICJ2ZXJ0ZXgiLCAicHJvcHMiOiB7InNpemUiOiA0MC44MzMzMzMzMzMzMzMzMzZ9fQo=');</script>\n",
       "    "
      ],
      "text/plain": [
       "<IPython.core.display.HTML object>"
      ]
     },
     "metadata": {},
     "output_type": "display_data"
    },
    {
     "data": {
      "text/html": [
       "\n",
       "        <div id=\"5rknhFxHvETvLU6n6oSd9K\"></div>\n",
       "        <script>netpixi.call('5rknhFxHvETvLU6n6oSd9K', 'gFGaBMTAQdGaHJJQshijMZ', 'changeGraph', 'eyJpZCI6IDcyLCAidHlwZSI6ICJ2ZXJ0ZXgiLCAicHJvcHMiOiB7ImNvbG9yIjogMTY3MTE2ODB9fQo=');</script>\n",
       "    "
      ],
      "text/plain": [
       "<IPython.core.display.HTML object>"
      ]
     },
     "metadata": {},
     "output_type": "display_data"
    },
    {
     "data": {
      "text/html": [
       "\n",
       "        <div id=\"J9xihBmpUPFUdm9Us47ccu\"></div>\n",
       "        <script>netpixi.call('J9xihBmpUPFUdm9Us47ccu', 'gFGaBMTAQdGaHJJQshijMZ', 'changeGraph', 'eyJpZCI6IDE5LCAidHlwZSI6ICJ2ZXJ0ZXgiLCAicHJvcHMiOiB7InNpemUiOiAxOC45MTIxMzM4OTEyMTMzODd9fQo=');</script>\n",
       "    "
      ],
      "text/plain": [
       "<IPython.core.display.HTML object>"
      ]
     },
     "metadata": {},
     "output_type": "display_data"
    },
    {
     "data": {
      "text/html": [
       "\n",
       "        <div id=\"5Q9f4d9wLPuE5GAVwdspoh\"></div>\n",
       "        <script>netpixi.call('5Q9f4d9wLPuE5GAVwdspoh', 'gFGaBMTAQdGaHJJQshijMZ', 'changeGraph', 'eyJpZCI6IDY2LCAidHlwZSI6ICJ2ZXJ0ZXgiLCAicHJvcHMiOiB7ImNvbG9yIjogMTY3MTE2ODB9fQo=');</script>\n",
       "    "
      ],
      "text/plain": [
       "<IPython.core.display.HTML object>"
      ]
     },
     "metadata": {},
     "output_type": "display_data"
    },
    {
     "data": {
      "text/html": [
       "\n",
       "        <div id=\"jSqsXLTs4tmGTynqmPBa96\"></div>\n",
       "        <script>netpixi.call('jSqsXLTs4tmGTynqmPBa96', 'gFGaBMTAQdGaHJJQshijMZ', 'changeGraph', 'eyJpZCI6IDIwLCAidHlwZSI6ICJ2ZXJ0ZXgiLCAicHJvcHMiOiB7InNpemUiOiAxMy41OTgzMjYzNTk4MzI2Mzd9fQo=');</script>\n",
       "    "
      ],
      "text/plain": [
       "<IPython.core.display.HTML object>"
      ]
     },
     "metadata": {},
     "output_type": "display_data"
    },
    {
     "data": {
      "text/html": [
       "\n",
       "        <div id=\"eKEzhXchMy5x9sRBvNFete\"></div>\n",
       "        <script>netpixi.call('eKEzhXchMy5x9sRBvNFete', 'gFGaBMTAQdGaHJJQshijMZ', 'changeGraph', 'eyJpZCI6IDcwLCAidHlwZSI6ICJ2ZXJ0ZXgiLCAicHJvcHMiOiB7ImNvbG9yIjogMTY3MTE2ODB9fQo=');</script>\n",
       "    "
      ],
      "text/plain": [
       "<IPython.core.display.HTML object>"
      ]
     },
     "metadata": {},
     "output_type": "display_data"
    },
    {
     "data": {
      "text/html": [
       "\n",
       "        <div id=\"VnHvALueoX6iR65LjEEddM\"></div>\n",
       "        <script>netpixi.call('VnHvALueoX6iR65LjEEddM', 'gFGaBMTAQdGaHJJQshijMZ', 'changeGraph', 'eyJpZCI6IDIxLCAidHlwZSI6ICJ2ZXJ0ZXgiLCAicHJvcHMiOiB7InNpemUiOiAxOS4zMzA1NDM5MzMwNTQzOTN9fQo=');</script>\n",
       "    "
      ],
      "text/plain": [
       "<IPython.core.display.HTML object>"
      ]
     },
     "metadata": {},
     "output_type": "display_data"
    },
    {
     "data": {
      "text/html": [
       "\n",
       "        <div id=\"azkEDg9d7tGeE5gGCocaec\"></div>\n",
       "        <script>netpixi.call('azkEDg9d7tGeE5gGCocaec', 'gFGaBMTAQdGaHJJQshijMZ', 'changeGraph', 'eyJpZCI6IDg0LCAidHlwZSI6ICJ2ZXJ0ZXgiLCAicHJvcHMiOiB7ImNvbG9yIjogMTY3MTE2ODB9fQo=');</script>\n",
       "    "
      ],
      "text/plain": [
       "<IPython.core.display.HTML object>"
      ]
     },
     "metadata": {},
     "output_type": "display_data"
    },
    {
     "data": {
      "text/html": [
       "\n",
       "        <div id=\"N5vaE7GwpxgenoptpJxZS3\"></div>\n",
       "        <script>netpixi.call('N5vaE7GwpxgenoptpJxZS3', 'gFGaBMTAQdGaHJJQshijMZ', 'changeGraph', 'eyJpZCI6IDIyLCAidHlwZSI6ICJ2ZXJ0ZXgiLCAicHJvcHMiOiB7InNpemUiOiA0NC44MzMzMzMzMzMzMzMzMzZ9fQo=');</script>\n",
       "    "
      ],
      "text/plain": [
       "<IPython.core.display.HTML object>"
      ]
     },
     "metadata": {},
     "output_type": "display_data"
    },
    {
     "data": {
      "text/html": [
       "\n",
       "        <div id=\"LiewHUbQgVTaJwbhwWotw2\"></div>\n",
       "        <script>netpixi.call('LiewHUbQgVTaJwbhwWotw2', 'gFGaBMTAQdGaHJJQshijMZ', 'changeGraph', 'eyJpZCI6IDgwLCAidHlwZSI6ICJ2ZXJ0ZXgiLCAicHJvcHMiOiB7ImNvbG9yIjogMTY3MTE2ODB9fQo=');</script>\n",
       "    "
      ],
      "text/plain": [
       "<IPython.core.display.HTML object>"
      ]
     },
     "metadata": {},
     "output_type": "display_data"
    },
    {
     "data": {
      "text/html": [
       "\n",
       "        <div id=\"LxXyaA8hjCiYL5HqgoQMuq\"></div>\n",
       "        <script>netpixi.call('LxXyaA8hjCiYL5HqgoQMuq', 'gFGaBMTAQdGaHJJQshijMZ', 'changeGraph', 'eyJpZCI6IDIzLCAidHlwZSI6ICJ2ZXJ0ZXgiLCAicHJvcHMiOiB7InNpemUiOiAxNy4xNTQ4MTE3MTU0ODExN319Cg==');</script>\n",
       "    "
      ],
      "text/plain": [
       "<IPython.core.display.HTML object>"
      ]
     },
     "metadata": {},
     "output_type": "display_data"
    },
    {
     "data": {
      "text/html": [
       "\n",
       "        <div id=\"8r8TVWMzSM7MrKodJceK3X\"></div>\n",
       "        <script>netpixi.call('8r8TVWMzSM7MrKodJceK3X', 'gFGaBMTAQdGaHJJQshijMZ', 'changeGraph', 'eyJpZCI6IDcwLCAidHlwZSI6ICJ2ZXJ0ZXgiLCAicHJvcHMiOiB7ImNvbG9yIjogMTY3MTE2ODB9fQo=');</script>\n",
       "    "
      ],
      "text/plain": [
       "<IPython.core.display.HTML object>"
      ]
     },
     "metadata": {},
     "output_type": "display_data"
    },
    {
     "data": {
      "text/html": [
       "\n",
       "        <div id=\"Yk8PaY9GsPFS67CnRcwDpG\"></div>\n",
       "        <script>netpixi.call('Yk8PaY9GsPFS67CnRcwDpG', 'gFGaBMTAQdGaHJJQshijMZ', 'changeGraph', 'eyJpZCI6IDI0LCAidHlwZSI6ICJ2ZXJ0ZXgiLCAicHJvcHMiOiB7InNpemUiOiAxNy43NDA1ODU3NzQwNTg1Nzd9fQo=');</script>\n",
       "    "
      ],
      "text/plain": [
       "<IPython.core.display.HTML object>"
      ]
     },
     "metadata": {},
     "output_type": "display_data"
    },
    {
     "data": {
      "text/html": [
       "\n",
       "        <div id=\"2egEp3XFFXbds665yfSPCb\"></div>\n",
       "        <script>netpixi.call('2egEp3XFFXbds665yfSPCb', 'gFGaBMTAQdGaHJJQshijMZ', 'changeGraph', 'eyJpZCI6IDg0LCAidHlwZSI6ICJ2ZXJ0ZXgiLCAicHJvcHMiOiB7ImNvbG9yIjogMTY3MTE2ODB9fQo=');</script>\n",
       "    "
      ],
      "text/plain": [
       "<IPython.core.display.HTML object>"
      ]
     },
     "metadata": {},
     "output_type": "display_data"
    },
    {
     "data": {
      "text/html": [
       "\n",
       "        <div id=\"RX8HMnXRYNTNVzgQFDCbsF\"></div>\n",
       "        <script>netpixi.call('RX8HMnXRYNTNVzgQFDCbsF', 'gFGaBMTAQdGaHJJQshijMZ', 'changeGraph', 'eyJpZCI6IDI1LCAidHlwZSI6ICJ2ZXJ0ZXgiLCAicHJvcHMiOiB7InNpemUiOiAxMC43MTEyOTcwNzExMjk3MDd9fQo=');</script>\n",
       "    "
      ],
      "text/plain": [
       "<IPython.core.display.HTML object>"
      ]
     },
     "metadata": {},
     "output_type": "display_data"
    },
    {
     "data": {
      "text/html": [
       "\n",
       "        <div id=\"SnPxtbkQfJfor69WzDxT6t\"></div>\n",
       "        <script>netpixi.call('SnPxtbkQfJfor69WzDxT6t', 'gFGaBMTAQdGaHJJQshijMZ', 'changeGraph', 'eyJpZCI6IDcwLCAidHlwZSI6ICJ2ZXJ0ZXgiLCAicHJvcHMiOiB7ImNvbG9yIjogMTY3MTE2ODB9fQo=');</script>\n",
       "    "
      ],
      "text/plain": [
       "<IPython.core.display.HTML object>"
      ]
     },
     "metadata": {},
     "output_type": "display_data"
    }
   ],
   "source": [
    "lista_int_coreness = []\n",
    "lista_float_coreness = []\n",
    "\n",
    "# Adiciona propriedades ao nó\n",
    "g.add_vp('core')\n",
    "g.add_vp('coreness')\n",
    "\n",
    "# ---- Funções ----\n",
    "\n",
    "def surprise():\n",
    "    matrix = spectral.adjacency(g)\n",
    "    algorithm = cpnet.Surprise()\n",
    "    algorithm.detect(matrix)\n",
    "    return algorithm.get_coreness()\n",
    "\n",
    "def rombach():\n",
    "    matrix = spectral.adjacency(g)\n",
    "    algorithm = cpnet.Rombach()\n",
    "    algorithm.detect(matrix)\n",
    "    return algorithm.get_coreness()\n",
    "\n",
    "# ---- Roda Algorítimo ----\n",
    "c_core = surprise()\n",
    "c_coreness = rombach()\n",
    "\n",
    "\n",
    "for i, coreness in c_core.items():\n",
    "    v = g.get_vertex_by_index(i)\n",
    "    v['core'] = int(coreness)\n",
    "    lista_int_coreness.append(int(coreness))\n",
    "df_nodes['core'] = lista_int_coreness\n",
    "\n",
    "for i, coreness in c_coreness.items():\n",
    "    v = g.get_vertex_by_index(i)\n",
    "    v['coreness'] = float(coreness)\n",
    "    lista_float_coreness.append(float(coreness))\n",
    "df_nodes['coreness'] = lista_float_coreness\n",
    "\n",
    "\n",
    "# ---- Modifica cor ----\n",
    "for v in g.all_vertices():\n",
    "    if v['core'] == 1:\n",
    "        r.vertex(v['id'], color=0xff0000)\n",
    "    else:\n",
    "        r.vertex(v['id'], color=0x00ff00)\n",
    "        \n",
    "# ---- Modifica tamanho ----\n",
    "\n",
    "for v in g.all_vertices():\n",
    "    r.vertex(v['id'], size=(10 + 40 * v['coreness']))\n",
    "    r.vertex(v['MetacriticScore'], color=0xff0000)    "
   ]
  },
  {
   "cell_type": "markdown",
   "metadata": {},
   "source": [
    "### Regressão Linear\n",
    "\n",
    "-------"
   ]
  },
  {
   "cell_type": "code",
   "execution_count": null,
   "metadata": {},
   "outputs": [],
   "source": [
    "# Nodes\n",
    "df_nodes.head(2)"
   ]
  },
  {
   "cell_type": "code",
   "execution_count": 90,
   "metadata": {},
   "outputs": [
    {
     "ename": "KeyError",
     "evalue": "'coreness'",
     "output_type": "error",
     "traceback": [
      "\u001b[0;31m---------------------------------------------------------------------------\u001b[0m",
      "\u001b[0;31mKeyError\u001b[0m                                  Traceback (most recent call last)",
      "File \u001b[0;32m/usr/local/lib/python3.10/site-packages/pandas/core/indexes/base.py:3802\u001b[0m, in \u001b[0;36mIndex.get_loc\u001b[0;34m(self, key, method, tolerance)\u001b[0m\n\u001b[1;32m   3801\u001b[0m \u001b[38;5;28;01mtry\u001b[39;00m:\n\u001b[0;32m-> 3802\u001b[0m     \u001b[38;5;28;01mreturn\u001b[39;00m \u001b[38;5;28;43mself\u001b[39;49m\u001b[38;5;241;43m.\u001b[39;49m\u001b[43m_engine\u001b[49m\u001b[38;5;241;43m.\u001b[39;49m\u001b[43mget_loc\u001b[49m\u001b[43m(\u001b[49m\u001b[43mcasted_key\u001b[49m\u001b[43m)\u001b[49m\n\u001b[1;32m   3803\u001b[0m \u001b[38;5;28;01mexcept\u001b[39;00m \u001b[38;5;167;01mKeyError\u001b[39;00m \u001b[38;5;28;01mas\u001b[39;00m err:\n",
      "File \u001b[0;32m/usr/local/lib/python3.10/site-packages/pandas/_libs/index.pyx:138\u001b[0m, in \u001b[0;36mpandas._libs.index.IndexEngine.get_loc\u001b[0;34m()\u001b[0m\n",
      "File \u001b[0;32m/usr/local/lib/python3.10/site-packages/pandas/_libs/index.pyx:165\u001b[0m, in \u001b[0;36mpandas._libs.index.IndexEngine.get_loc\u001b[0;34m()\u001b[0m\n",
      "File \u001b[0;32mpandas/_libs/hashtable_class_helper.pxi:5745\u001b[0m, in \u001b[0;36mpandas._libs.hashtable.PyObjectHashTable.get_item\u001b[0;34m()\u001b[0m\n",
      "File \u001b[0;32mpandas/_libs/hashtable_class_helper.pxi:5753\u001b[0m, in \u001b[0;36mpandas._libs.hashtable.PyObjectHashTable.get_item\u001b[0;34m()\u001b[0m\n",
      "\u001b[0;31mKeyError\u001b[0m: 'coreness'",
      "\nThe above exception was the direct cause of the following exception:\n",
      "\u001b[0;31mKeyError\u001b[0m                                  Traceback (most recent call last)",
      "Cell \u001b[0;32mIn[90], line 1\u001b[0m\n\u001b[0;32m----> 1\u001b[0m sns\u001b[38;5;241m.\u001b[39mscatterplot(x\u001b[38;5;241m=\u001b[39m\u001b[43mdf_nodes\u001b[49m\u001b[43m[\u001b[49m\u001b[38;5;124;43m'\u001b[39;49m\u001b[38;5;124;43mcoreness\u001b[39;49m\u001b[38;5;124;43m'\u001b[39;49m\u001b[43m]\u001b[49m, y\u001b[38;5;241m=\u001b[39mdf_nodes[\u001b[38;5;124m'\u001b[39m\u001b[38;5;124mMetacriticScore\u001b[39m\u001b[38;5;124m'\u001b[39m]);\n",
      "File \u001b[0;32m/usr/local/lib/python3.10/site-packages/pandas/core/frame.py:3807\u001b[0m, in \u001b[0;36mDataFrame.__getitem__\u001b[0;34m(self, key)\u001b[0m\n\u001b[1;32m   3805\u001b[0m \u001b[38;5;28;01mif\u001b[39;00m \u001b[38;5;28mself\u001b[39m\u001b[38;5;241m.\u001b[39mcolumns\u001b[38;5;241m.\u001b[39mnlevels \u001b[38;5;241m>\u001b[39m \u001b[38;5;241m1\u001b[39m:\n\u001b[1;32m   3806\u001b[0m     \u001b[38;5;28;01mreturn\u001b[39;00m \u001b[38;5;28mself\u001b[39m\u001b[38;5;241m.\u001b[39m_getitem_multilevel(key)\n\u001b[0;32m-> 3807\u001b[0m indexer \u001b[38;5;241m=\u001b[39m \u001b[38;5;28;43mself\u001b[39;49m\u001b[38;5;241;43m.\u001b[39;49m\u001b[43mcolumns\u001b[49m\u001b[38;5;241;43m.\u001b[39;49m\u001b[43mget_loc\u001b[49m\u001b[43m(\u001b[49m\u001b[43mkey\u001b[49m\u001b[43m)\u001b[49m\n\u001b[1;32m   3808\u001b[0m \u001b[38;5;28;01mif\u001b[39;00m is_integer(indexer):\n\u001b[1;32m   3809\u001b[0m     indexer \u001b[38;5;241m=\u001b[39m [indexer]\n",
      "File \u001b[0;32m/usr/local/lib/python3.10/site-packages/pandas/core/indexes/base.py:3804\u001b[0m, in \u001b[0;36mIndex.get_loc\u001b[0;34m(self, key, method, tolerance)\u001b[0m\n\u001b[1;32m   3802\u001b[0m     \u001b[38;5;28;01mreturn\u001b[39;00m \u001b[38;5;28mself\u001b[39m\u001b[38;5;241m.\u001b[39m_engine\u001b[38;5;241m.\u001b[39mget_loc(casted_key)\n\u001b[1;32m   3803\u001b[0m \u001b[38;5;28;01mexcept\u001b[39;00m \u001b[38;5;167;01mKeyError\u001b[39;00m \u001b[38;5;28;01mas\u001b[39;00m err:\n\u001b[0;32m-> 3804\u001b[0m     \u001b[38;5;28;01mraise\u001b[39;00m \u001b[38;5;167;01mKeyError\u001b[39;00m(key) \u001b[38;5;28;01mfrom\u001b[39;00m \u001b[38;5;21;01merr\u001b[39;00m\n\u001b[1;32m   3805\u001b[0m \u001b[38;5;28;01mexcept\u001b[39;00m \u001b[38;5;167;01mTypeError\u001b[39;00m:\n\u001b[1;32m   3806\u001b[0m     \u001b[38;5;66;03m# If we have a listlike key, _check_indexing_error will raise\u001b[39;00m\n\u001b[1;32m   3807\u001b[0m     \u001b[38;5;66;03m#  InvalidIndexError. Otherwise we fall through and re-raise\u001b[39;00m\n\u001b[1;32m   3808\u001b[0m     \u001b[38;5;66;03m#  the TypeError.\u001b[39;00m\n\u001b[1;32m   3809\u001b[0m     \u001b[38;5;28mself\u001b[39m\u001b[38;5;241m.\u001b[39m_check_indexing_error(key)\n",
      "\u001b[0;31mKeyError\u001b[0m: 'coreness'"
     ]
    }
   ],
   "source": [
    "sns.scatterplot(x=df_nodes['coreness'], y=df_nodes['MetacriticScore']);"
   ]
  },
  {
   "cell_type": "code",
   "execution_count": 60,
   "metadata": {},
   "outputs": [
    {
     "data": {
      "image/png": "[encoded data removed]",
      "text/plain": [
       "<Figure size 640x480 with 1 Axes>"
      ]
     },
     "metadata": {},
     "output_type": "display_data"
    }
   ],
   "source": [
    "sns.regplot(x=df_nodes['coreness'], y=df_nodes['MetacriticScore']);"
   ]
  },
  {
   "cell_type": "code",
   "execution_count": 61,
   "metadata": {},
   "outputs": [
    {
     "ename": "PatsyError",
     "evalue": "Error evaluating factor: NameError: name 'TotalRevenue' is not defined\n    MetacriticScore ~ coreness + ReleaseYear + TotalRevenue\n                                               ^^^^^^^^^^^^",
     "output_type": "error",
     "traceback": [
      "\u001b[0;31m---------------------------------------------------------------------------\u001b[0m",
      "\u001b[0;31mNameError\u001b[0m                                 Traceback (most recent call last)",
      "File \u001b[0;32m/usr/local/lib/python3.10/site-packages/patsy/compat.py:36\u001b[0m, in \u001b[0;36mcall_and_wrap_exc\u001b[0;34m(msg, origin, f, *args, **kwargs)\u001b[0m\n\u001b[1;32m     35\u001b[0m \u001b[38;5;28;01mtry\u001b[39;00m:\n\u001b[0;32m---> 36\u001b[0m     \u001b[38;5;28;01mreturn\u001b[39;00m \u001b[43mf\u001b[49m\u001b[43m(\u001b[49m\u001b[38;5;241;43m*\u001b[39;49m\u001b[43margs\u001b[49m\u001b[43m,\u001b[49m\u001b[43m \u001b[49m\u001b[38;5;241;43m*\u001b[39;49m\u001b[38;5;241;43m*\u001b[39;49m\u001b[43mkwargs\u001b[49m\u001b[43m)\u001b[49m\n\u001b[1;32m     37\u001b[0m \u001b[38;5;28;01mexcept\u001b[39;00m \u001b[38;5;167;01mException\u001b[39;00m \u001b[38;5;28;01mas\u001b[39;00m e:\n",
      "File \u001b[0;32m/usr/local/lib/python3.10/site-packages/patsy/eval.py:169\u001b[0m, in \u001b[0;36mEvalEnvironment.eval\u001b[0;34m(self, expr, source_name, inner_namespace)\u001b[0m\n\u001b[1;32m    168\u001b[0m code \u001b[38;5;241m=\u001b[39m \u001b[38;5;28mcompile\u001b[39m(expr, source_name, \u001b[38;5;124m\"\u001b[39m\u001b[38;5;124meval\u001b[39m\u001b[38;5;124m\"\u001b[39m, \u001b[38;5;28mself\u001b[39m\u001b[38;5;241m.\u001b[39mflags, \u001b[38;5;28;01mFalse\u001b[39;00m)\n\u001b[0;32m--> 169\u001b[0m \u001b[38;5;28;01mreturn\u001b[39;00m \u001b[38;5;28;43meval\u001b[39;49m\u001b[43m(\u001b[49m\u001b[43mcode\u001b[49m\u001b[43m,\u001b[49m\u001b[43m \u001b[49m\u001b[43m{\u001b[49m\u001b[43m}\u001b[49m\u001b[43m,\u001b[49m\u001b[43m \u001b[49m\u001b[43mVarLookupDict\u001b[49m\u001b[43m(\u001b[49m\u001b[43m[\u001b[49m\u001b[43minner_namespace\u001b[49m\u001b[43m]\u001b[49m\n\u001b[1;32m    170\u001b[0m \u001b[43m                                    \u001b[49m\u001b[38;5;241;43m+\u001b[39;49m\u001b[43m \u001b[49m\u001b[38;5;28;43mself\u001b[39;49m\u001b[38;5;241;43m.\u001b[39;49m\u001b[43m_namespaces\u001b[49m\u001b[43m)\u001b[49m\u001b[43m)\u001b[49m\n",
      "File \u001b[0;32m<string>:1\u001b[0m\n",
      "\u001b[0;31mNameError\u001b[0m: name 'TotalRevenue' is not defined",
      "\nThe above exception was the direct cause of the following exception:\n",
      "\u001b[0;31mPatsyError\u001b[0m                                Traceback (most recent call last)",
      "Cell \u001b[0;32mIn[61], line 1\u001b[0m\n\u001b[0;32m----> 1\u001b[0m result \u001b[38;5;241m=\u001b[39m \u001b[43mreg\u001b[49m\u001b[38;5;241;43m.\u001b[39;49m\u001b[43mlinear\u001b[49m\u001b[43m(\u001b[49m\u001b[43mdata\u001b[49m\u001b[38;5;241;43m=\u001b[39;49m\u001b[43mdf_nodes\u001b[49m\u001b[43m,\u001b[49m\u001b[43m \u001b[49m\u001b[43mformula\u001b[49m\u001b[38;5;241;43m=\u001b[39;49m\u001b[38;5;124;43m\"\u001b[39;49m\u001b[38;5;124;43m MetacriticScore ~ coreness + ReleaseYear + TotalRevenue\u001b[39;49m\u001b[38;5;124;43m\"\u001b[39;49m\u001b[43m)\u001b[49m\n",
      "File \u001b[0;32m/home/packages/regression/__init__.py:10\u001b[0m, in \u001b[0;36mlinear\u001b[0;34m(**kwargs)\u001b[0m\n\u001b[1;32m      9\u001b[0m \u001b[38;5;28;01mdef\u001b[39;00m \u001b[38;5;21mlinear\u001b[39m(\u001b[38;5;241m*\u001b[39m\u001b[38;5;241m*\u001b[39mkwargs):\n\u001b[0;32m---> 10\u001b[0m     model \u001b[38;5;241m=\u001b[39m \u001b[43msmf\u001b[49m\u001b[38;5;241;43m.\u001b[39;49m\u001b[43mols\u001b[49m\u001b[43m(\u001b[49m\u001b[38;5;241;43m*\u001b[39;49m\u001b[38;5;241;43m*\u001b[39;49m\u001b[43mkwargs\u001b[49m\u001b[43m)\u001b[49m\n\u001b[1;32m     11\u001b[0m     results \u001b[38;5;241m=\u001b[39m model\u001b[38;5;241m.\u001b[39mfit()\n\u001b[1;32m     12\u001b[0m     \u001b[38;5;28;01mreturn\u001b[39;00m LinearProxy(results)\n",
      "File \u001b[0;32m/usr/local/lib/python3.10/site-packages/statsmodels/base/model.py:200\u001b[0m, in \u001b[0;36mModel.from_formula\u001b[0;34m(cls, formula, data, subset, drop_cols, *args, **kwargs)\u001b[0m\n\u001b[1;32m    197\u001b[0m \u001b[38;5;28;01mif\u001b[39;00m missing \u001b[38;5;241m==\u001b[39m \u001b[38;5;124m'\u001b[39m\u001b[38;5;124mnone\u001b[39m\u001b[38;5;124m'\u001b[39m:  \u001b[38;5;66;03m# with patsy it's drop or raise. let's raise.\u001b[39;00m\n\u001b[1;32m    198\u001b[0m     missing \u001b[38;5;241m=\u001b[39m \u001b[38;5;124m'\u001b[39m\u001b[38;5;124mraise\u001b[39m\u001b[38;5;124m'\u001b[39m\n\u001b[0;32m--> 200\u001b[0m tmp \u001b[38;5;241m=\u001b[39m \u001b[43mhandle_formula_data\u001b[49m\u001b[43m(\u001b[49m\u001b[43mdata\u001b[49m\u001b[43m,\u001b[49m\u001b[43m \u001b[49m\u001b[38;5;28;43;01mNone\u001b[39;49;00m\u001b[43m,\u001b[49m\u001b[43m \u001b[49m\u001b[43mformula\u001b[49m\u001b[43m,\u001b[49m\u001b[43m \u001b[49m\u001b[43mdepth\u001b[49m\u001b[38;5;241;43m=\u001b[39;49m\u001b[43meval_env\u001b[49m\u001b[43m,\u001b[49m\n\u001b[1;32m    201\u001b[0m \u001b[43m                          \u001b[49m\u001b[43mmissing\u001b[49m\u001b[38;5;241;43m=\u001b[39;49m\u001b[43mmissing\u001b[49m\u001b[43m)\u001b[49m\n\u001b[1;32m    202\u001b[0m ((endog, exog), missing_idx, design_info) \u001b[38;5;241m=\u001b[39m tmp\n\u001b[1;32m    203\u001b[0m max_endog \u001b[38;5;241m=\u001b[39m \u001b[38;5;28mcls\u001b[39m\u001b[38;5;241m.\u001b[39m_formula_max_endog\n",
      "File \u001b[0;32m/usr/local/lib/python3.10/site-packages/statsmodels/formula/formulatools.py:63\u001b[0m, in \u001b[0;36mhandle_formula_data\u001b[0;34m(Y, X, formula, depth, missing)\u001b[0m\n\u001b[1;32m     61\u001b[0m \u001b[38;5;28;01melse\u001b[39;00m:\n\u001b[1;32m     62\u001b[0m     \u001b[38;5;28;01mif\u001b[39;00m data_util\u001b[38;5;241m.\u001b[39m_is_using_pandas(Y, \u001b[38;5;28;01mNone\u001b[39;00m):\n\u001b[0;32m---> 63\u001b[0m         result \u001b[38;5;241m=\u001b[39m \u001b[43mdmatrices\u001b[49m\u001b[43m(\u001b[49m\u001b[43mformula\u001b[49m\u001b[43m,\u001b[49m\u001b[43m \u001b[49m\u001b[43mY\u001b[49m\u001b[43m,\u001b[49m\u001b[43m \u001b[49m\u001b[43mdepth\u001b[49m\u001b[43m,\u001b[49m\u001b[43m \u001b[49m\u001b[43mreturn_type\u001b[49m\u001b[38;5;241;43m=\u001b[39;49m\u001b[38;5;124;43m'\u001b[39;49m\u001b[38;5;124;43mdataframe\u001b[39;49m\u001b[38;5;124;43m'\u001b[39;49m\u001b[43m,\u001b[49m\n\u001b[1;32m     64\u001b[0m \u001b[43m                           \u001b[49m\u001b[43mNA_action\u001b[49m\u001b[38;5;241;43m=\u001b[39;49m\u001b[43mna_action\u001b[49m\u001b[43m)\u001b[49m\n\u001b[1;32m     65\u001b[0m     \u001b[38;5;28;01melse\u001b[39;00m:\n\u001b[1;32m     66\u001b[0m         result \u001b[38;5;241m=\u001b[39m dmatrices(formula, Y, depth, return_type\u001b[38;5;241m=\u001b[39m\u001b[38;5;124m'\u001b[39m\u001b[38;5;124mdataframe\u001b[39m\u001b[38;5;124m'\u001b[39m,\n\u001b[1;32m     67\u001b[0m                            NA_action\u001b[38;5;241m=\u001b[39mna_action)\n",
      "File \u001b[0;32m/usr/local/lib/python3.10/site-packages/patsy/highlevel.py:309\u001b[0m, in \u001b[0;36mdmatrices\u001b[0;34m(formula_like, data, eval_env, NA_action, return_type)\u001b[0m\n\u001b[1;32m    299\u001b[0m \u001b[38;5;250m\u001b[39m\u001b[38;5;124;03m\"\"\"Construct two design matrices given a formula_like and data.\u001b[39;00m\n\u001b[1;32m    300\u001b[0m \n\u001b[1;32m    301\u001b[0m \u001b[38;5;124;03mThis function is identical to :func:`dmatrix`, except that it requires\u001b[39;00m\n\u001b[0;32m   (...)\u001b[0m\n\u001b[1;32m    306\u001b[0m \u001b[38;5;124;03mSee :func:`dmatrix` for details.\u001b[39;00m\n\u001b[1;32m    307\u001b[0m \u001b[38;5;124;03m\"\"\"\u001b[39;00m\n\u001b[1;32m    308\u001b[0m eval_env \u001b[38;5;241m=\u001b[39m EvalEnvironment\u001b[38;5;241m.\u001b[39mcapture(eval_env, reference\u001b[38;5;241m=\u001b[39m\u001b[38;5;241m1\u001b[39m)\n\u001b[0;32m--> 309\u001b[0m (lhs, rhs) \u001b[38;5;241m=\u001b[39m \u001b[43m_do_highlevel_design\u001b[49m\u001b[43m(\u001b[49m\u001b[43mformula_like\u001b[49m\u001b[43m,\u001b[49m\u001b[43m \u001b[49m\u001b[43mdata\u001b[49m\u001b[43m,\u001b[49m\u001b[43m \u001b[49m\u001b[43meval_env\u001b[49m\u001b[43m,\u001b[49m\n\u001b[1;32m    310\u001b[0m \u001b[43m                                  \u001b[49m\u001b[43mNA_action\u001b[49m\u001b[43m,\u001b[49m\u001b[43m \u001b[49m\u001b[43mreturn_type\u001b[49m\u001b[43m)\u001b[49m\n\u001b[1;32m    311\u001b[0m \u001b[38;5;28;01mif\u001b[39;00m lhs\u001b[38;5;241m.\u001b[39mshape[\u001b[38;5;241m1\u001b[39m] \u001b[38;5;241m==\u001b[39m \u001b[38;5;241m0\u001b[39m:\n\u001b[1;32m    312\u001b[0m     \u001b[38;5;28;01mraise\u001b[39;00m PatsyError(\u001b[38;5;124m\"\u001b[39m\u001b[38;5;124mmodel is missing required outcome variables\u001b[39m\u001b[38;5;124m\"\u001b[39m)\n",
      "File \u001b[0;32m/usr/local/lib/python3.10/site-packages/patsy/highlevel.py:164\u001b[0m, in \u001b[0;36m_do_highlevel_design\u001b[0;34m(formula_like, data, eval_env, NA_action, return_type)\u001b[0m\n\u001b[1;32m    162\u001b[0m \u001b[38;5;28;01mdef\u001b[39;00m \u001b[38;5;21mdata_iter_maker\u001b[39m():\n\u001b[1;32m    163\u001b[0m     \u001b[38;5;28;01mreturn\u001b[39;00m \u001b[38;5;28miter\u001b[39m([data])\n\u001b[0;32m--> 164\u001b[0m design_infos \u001b[38;5;241m=\u001b[39m \u001b[43m_try_incr_builders\u001b[49m\u001b[43m(\u001b[49m\u001b[43mformula_like\u001b[49m\u001b[43m,\u001b[49m\u001b[43m \u001b[49m\u001b[43mdata_iter_maker\u001b[49m\u001b[43m,\u001b[49m\u001b[43m \u001b[49m\u001b[43meval_env\u001b[49m\u001b[43m,\u001b[49m\n\u001b[1;32m    165\u001b[0m \u001b[43m                                  \u001b[49m\u001b[43mNA_action\u001b[49m\u001b[43m)\u001b[49m\n\u001b[1;32m    166\u001b[0m \u001b[38;5;28;01mif\u001b[39;00m design_infos \u001b[38;5;129;01mis\u001b[39;00m \u001b[38;5;129;01mnot\u001b[39;00m \u001b[38;5;28;01mNone\u001b[39;00m:\n\u001b[1;32m    167\u001b[0m     \u001b[38;5;28;01mreturn\u001b[39;00m build_design_matrices(design_infos, data,\n\u001b[1;32m    168\u001b[0m                                  NA_action\u001b[38;5;241m=\u001b[39mNA_action,\n\u001b[1;32m    169\u001b[0m                                  return_type\u001b[38;5;241m=\u001b[39mreturn_type)\n",
      "File \u001b[0;32m/usr/local/lib/python3.10/site-packages/patsy/highlevel.py:66\u001b[0m, in \u001b[0;36m_try_incr_builders\u001b[0;34m(formula_like, data_iter_maker, eval_env, NA_action)\u001b[0m\n\u001b[1;32m     64\u001b[0m \u001b[38;5;28;01mif\u001b[39;00m \u001b[38;5;28misinstance\u001b[39m(formula_like, ModelDesc):\n\u001b[1;32m     65\u001b[0m     \u001b[38;5;28;01massert\u001b[39;00m \u001b[38;5;28misinstance\u001b[39m(eval_env, EvalEnvironment)\n\u001b[0;32m---> 66\u001b[0m     \u001b[38;5;28;01mreturn\u001b[39;00m \u001b[43mdesign_matrix_builders\u001b[49m\u001b[43m(\u001b[49m\u001b[43m[\u001b[49m\u001b[43mformula_like\u001b[49m\u001b[38;5;241;43m.\u001b[39;49m\u001b[43mlhs_termlist\u001b[49m\u001b[43m,\u001b[49m\n\u001b[1;32m     67\u001b[0m \u001b[43m                                   \u001b[49m\u001b[43mformula_like\u001b[49m\u001b[38;5;241;43m.\u001b[39;49m\u001b[43mrhs_termlist\u001b[49m\u001b[43m]\u001b[49m\u001b[43m,\u001b[49m\n\u001b[1;32m     68\u001b[0m \u001b[43m                                  \u001b[49m\u001b[43mdata_iter_maker\u001b[49m\u001b[43m,\u001b[49m\n\u001b[1;32m     69\u001b[0m \u001b[43m                                  \u001b[49m\u001b[43meval_env\u001b[49m\u001b[43m,\u001b[49m\n\u001b[1;32m     70\u001b[0m \u001b[43m                                  \u001b[49m\u001b[43mNA_action\u001b[49m\u001b[43m)\u001b[49m\n\u001b[1;32m     71\u001b[0m \u001b[38;5;28;01melse\u001b[39;00m:\n\u001b[1;32m     72\u001b[0m     \u001b[38;5;28;01mreturn\u001b[39;00m \u001b[38;5;28;01mNone\u001b[39;00m\n",
      "File \u001b[0;32m/usr/local/lib/python3.10/site-packages/patsy/build.py:693\u001b[0m, in \u001b[0;36mdesign_matrix_builders\u001b[0;34m(termlists, data_iter_maker, eval_env, NA_action)\u001b[0m\n\u001b[1;32m    689\u001b[0m factor_states \u001b[38;5;241m=\u001b[39m _factors_memorize(all_factors, data_iter_maker, eval_env)\n\u001b[1;32m    690\u001b[0m \u001b[38;5;66;03m# Now all the factors have working eval methods, so we can evaluate them\u001b[39;00m\n\u001b[1;32m    691\u001b[0m \u001b[38;5;66;03m# on some data to find out what type of data they return.\u001b[39;00m\n\u001b[1;32m    692\u001b[0m (num_column_counts,\n\u001b[0;32m--> 693\u001b[0m  cat_levels_contrasts) \u001b[38;5;241m=\u001b[39m \u001b[43m_examine_factor_types\u001b[49m\u001b[43m(\u001b[49m\u001b[43mall_factors\u001b[49m\u001b[43m,\u001b[49m\n\u001b[1;32m    694\u001b[0m \u001b[43m                                               \u001b[49m\u001b[43mfactor_states\u001b[49m\u001b[43m,\u001b[49m\n\u001b[1;32m    695\u001b[0m \u001b[43m                                               \u001b[49m\u001b[43mdata_iter_maker\u001b[49m\u001b[43m,\u001b[49m\n\u001b[1;32m    696\u001b[0m \u001b[43m                                               \u001b[49m\u001b[43mNA_action\u001b[49m\u001b[43m)\u001b[49m\n\u001b[1;32m    697\u001b[0m \u001b[38;5;66;03m# Now we need the factor infos, which encapsulate the knowledge of\u001b[39;00m\n\u001b[1;32m    698\u001b[0m \u001b[38;5;66;03m# how to turn any given factor into a chunk of data:\u001b[39;00m\n\u001b[1;32m    699\u001b[0m factor_infos \u001b[38;5;241m=\u001b[39m {}\n",
      "File \u001b[0;32m/usr/local/lib/python3.10/site-packages/patsy/build.py:443\u001b[0m, in \u001b[0;36m_examine_factor_types\u001b[0;34m(factors, factor_states, data_iter_maker, NA_action)\u001b[0m\n\u001b[1;32m    441\u001b[0m \u001b[38;5;28;01mfor\u001b[39;00m data \u001b[38;5;129;01min\u001b[39;00m data_iter_maker():\n\u001b[1;32m    442\u001b[0m     \u001b[38;5;28;01mfor\u001b[39;00m factor \u001b[38;5;129;01min\u001b[39;00m \u001b[38;5;28mlist\u001b[39m(examine_needed):\n\u001b[0;32m--> 443\u001b[0m         value \u001b[38;5;241m=\u001b[39m \u001b[43mfactor\u001b[49m\u001b[38;5;241;43m.\u001b[39;49m\u001b[43meval\u001b[49m\u001b[43m(\u001b[49m\u001b[43mfactor_states\u001b[49m\u001b[43m[\u001b[49m\u001b[43mfactor\u001b[49m\u001b[43m]\u001b[49m\u001b[43m,\u001b[49m\u001b[43m \u001b[49m\u001b[43mdata\u001b[49m\u001b[43m)\u001b[49m\n\u001b[1;32m    444\u001b[0m         \u001b[38;5;28;01mif\u001b[39;00m factor \u001b[38;5;129;01min\u001b[39;00m cat_sniffers \u001b[38;5;129;01mor\u001b[39;00m guess_categorical(value):\n\u001b[1;32m    445\u001b[0m             \u001b[38;5;28;01mif\u001b[39;00m factor \u001b[38;5;129;01mnot\u001b[39;00m \u001b[38;5;129;01min\u001b[39;00m cat_sniffers:\n",
      "File \u001b[0;32m/usr/local/lib/python3.10/site-packages/patsy/eval.py:568\u001b[0m, in \u001b[0;36mEvalFactor.eval\u001b[0;34m(self, memorize_state, data)\u001b[0m\n\u001b[1;32m    567\u001b[0m \u001b[38;5;28;01mdef\u001b[39;00m \u001b[38;5;21meval\u001b[39m(\u001b[38;5;28mself\u001b[39m, memorize_state, data):\n\u001b[0;32m--> 568\u001b[0m     \u001b[38;5;28;01mreturn\u001b[39;00m \u001b[38;5;28;43mself\u001b[39;49m\u001b[38;5;241;43m.\u001b[39;49m\u001b[43m_eval\u001b[49m\u001b[43m(\u001b[49m\u001b[43mmemorize_state\u001b[49m\u001b[43m[\u001b[49m\u001b[38;5;124;43m\"\u001b[39;49m\u001b[38;5;124;43meval_code\u001b[39;49m\u001b[38;5;124;43m\"\u001b[39;49m\u001b[43m]\u001b[49m\u001b[43m,\u001b[49m\n\u001b[1;32m    569\u001b[0m \u001b[43m                      \u001b[49m\u001b[43mmemorize_state\u001b[49m\u001b[43m,\u001b[49m\n\u001b[1;32m    570\u001b[0m \u001b[43m                      \u001b[49m\u001b[43mdata\u001b[49m\u001b[43m)\u001b[49m\n",
      "File \u001b[0;32m/usr/local/lib/python3.10/site-packages/patsy/eval.py:551\u001b[0m, in \u001b[0;36mEvalFactor._eval\u001b[0;34m(self, code, memorize_state, data)\u001b[0m\n\u001b[1;32m    549\u001b[0m \u001b[38;5;28;01mdef\u001b[39;00m \u001b[38;5;21m_eval\u001b[39m(\u001b[38;5;28mself\u001b[39m, code, memorize_state, data):\n\u001b[1;32m    550\u001b[0m     inner_namespace \u001b[38;5;241m=\u001b[39m VarLookupDict([data, memorize_state[\u001b[38;5;124m\"\u001b[39m\u001b[38;5;124mtransforms\u001b[39m\u001b[38;5;124m\"\u001b[39m]])\n\u001b[0;32m--> 551\u001b[0m     \u001b[38;5;28;01mreturn\u001b[39;00m \u001b[43mcall_and_wrap_exc\u001b[49m\u001b[43m(\u001b[49m\u001b[38;5;124;43m\"\u001b[39;49m\u001b[38;5;124;43mError evaluating factor\u001b[39;49m\u001b[38;5;124;43m\"\u001b[39;49m\u001b[43m,\u001b[49m\n\u001b[1;32m    552\u001b[0m \u001b[43m                             \u001b[49m\u001b[38;5;28;43mself\u001b[39;49m\u001b[43m,\u001b[49m\n\u001b[1;32m    553\u001b[0m \u001b[43m                             \u001b[49m\u001b[43mmemorize_state\u001b[49m\u001b[43m[\u001b[49m\u001b[38;5;124;43m\"\u001b[39;49m\u001b[38;5;124;43meval_env\u001b[39;49m\u001b[38;5;124;43m\"\u001b[39;49m\u001b[43m]\u001b[49m\u001b[38;5;241;43m.\u001b[39;49m\u001b[43meval\u001b[49m\u001b[43m,\u001b[49m\n\u001b[1;32m    554\u001b[0m \u001b[43m                             \u001b[49m\u001b[43mcode\u001b[49m\u001b[43m,\u001b[49m\n\u001b[1;32m    555\u001b[0m \u001b[43m                             \u001b[49m\u001b[43minner_namespace\u001b[49m\u001b[38;5;241;43m=\u001b[39;49m\u001b[43minner_namespace\u001b[49m\u001b[43m)\u001b[49m\n",
      "File \u001b[0;32m/usr/local/lib/python3.10/site-packages/patsy/compat.py:43\u001b[0m, in \u001b[0;36mcall_and_wrap_exc\u001b[0;34m(msg, origin, f, *args, **kwargs)\u001b[0m\n\u001b[1;32m     39\u001b[0m     new_exc \u001b[38;5;241m=\u001b[39m PatsyError(\u001b[38;5;124m\"\u001b[39m\u001b[38;5;132;01m%s\u001b[39;00m\u001b[38;5;124m: \u001b[39m\u001b[38;5;132;01m%s\u001b[39;00m\u001b[38;5;124m: \u001b[39m\u001b[38;5;132;01m%s\u001b[39;00m\u001b[38;5;124m\"\u001b[39m\n\u001b[1;32m     40\u001b[0m                          \u001b[38;5;241m%\u001b[39m (msg, e\u001b[38;5;241m.\u001b[39m\u001b[38;5;18m__class__\u001b[39m\u001b[38;5;241m.\u001b[39m\u001b[38;5;18m__name__\u001b[39m, e),\n\u001b[1;32m     41\u001b[0m                          origin)\n\u001b[1;32m     42\u001b[0m     \u001b[38;5;66;03m# Use 'exec' to hide this syntax from the Python 2 parser:\u001b[39;00m\n\u001b[0;32m---> 43\u001b[0m     \u001b[43mexec\u001b[49m\u001b[43m(\u001b[49m\u001b[38;5;124;43m\"\u001b[39;49m\u001b[38;5;124;43mraise new_exc from e\u001b[39;49m\u001b[38;5;124;43m\"\u001b[39;49m\u001b[43m)\u001b[49m\n\u001b[1;32m     44\u001b[0m \u001b[38;5;28;01melse\u001b[39;00m:\n\u001b[1;32m     45\u001b[0m     \u001b[38;5;66;03m# In python 2, we just let the original exception escape -- better\u001b[39;00m\n\u001b[1;32m     46\u001b[0m     \u001b[38;5;66;03m# than destroying the traceback. But if it's a PatsyError, we can\u001b[39;00m\n\u001b[1;32m     47\u001b[0m     \u001b[38;5;66;03m# at least set the origin properly.\u001b[39;00m\n\u001b[1;32m     48\u001b[0m     \u001b[38;5;28;01mif\u001b[39;00m \u001b[38;5;28misinstance\u001b[39m(e, PatsyError):\n",
      "File \u001b[0;32m<string>:1\u001b[0m\n",
      "\u001b[0;31mPatsyError\u001b[0m: Error evaluating factor: NameError: name 'TotalRevenue' is not defined\n    MetacriticScore ~ coreness + ReleaseYear + TotalRevenue\n                                               ^^^^^^^^^^^^"
     ]
    }
   ],
   "source": [
    "result = reg.linear(data=df_nodes, formula=\"MetacriticScore ~ coreness + ReleaseYear + TotalRevenue\")"
   ]
  },
  {
   "cell_type": "code",
   "execution_count": null,
   "metadata": {},
   "outputs": [],
   "source": [
    "result.summary()"
   ]
  },
  {
   "cell_type": "code",
   "execution_count": null,
   "metadata": {},
   "outputs": [],
   "source": [
    "result.micro_summary()"
   ]
  },
  {
   "cell_type": "code",
   "execution_count": null,
   "metadata": {},
   "outputs": [],
   "source": [
    "result.plot_residuals()"
   ]
  },
  {
   "cell_type": "code",
   "execution_count": null,
   "metadata": {},
   "outputs": [],
   "source": [
    "# Observa-se um treshold de divisão no coreness, dessa forma, podemos dividir esses dados em dois conjuntos\n",
    "# E assim aplicar uma regressão em cada metade.\n",
    "\n",
    "threshold_coreness = 0.5\n",
    "\n",
    "df_nodes_menor = df_nodes[df_nodes['coreness'] < threshold_coreness]\n",
    "df_nodes_maior =  df_nodes[df_nodes['coreness'] > threshold_coreness]"
   ]
  },
  {
   "cell_type": "code",
   "execution_count": null,
   "metadata": {},
   "outputs": [],
   "source": [
    "df_nodes_menor.head()"
   ]
  },
  {
   "cell_type": "code",
   "execution_count": null,
   "metadata": {},
   "outputs": [],
   "source": [
    "df_nodes_maior.head()"
   ]
  },
  {
   "cell_type": "code",
   "execution_count": null,
   "metadata": {},
   "outputs": [],
   "source": [
    "# ------- Para a primeira metade  -------\n",
    "\n",
    "sns.regplot(x=df_nodes_menor['coreness'], y=df_nodes_menor['MetacriticScore']);"
   ]
  },
  {
   "cell_type": "code",
   "execution_count": null,
   "metadata": {},
   "outputs": [],
   "source": [
    "result_menor = reg.linear(data=df_nodes_menor, formula='MetacriticScore ~ coreness + ReleaseYear + TotalRevenue')"
   ]
  },
  {
   "cell_type": "code",
   "execution_count": null,
   "metadata": {},
   "outputs": [],
   "source": [
    "result_menor.micro_summary()"
   ]
  },
  {
   "cell_type": "code",
   "execution_count": null,
   "metadata": {},
   "outputs": [],
   "source": [
    "result_menor.plot_residuals()"
   ]
  },
  {
   "cell_type": "code",
   "execution_count": null,
   "metadata": {},
   "outputs": [],
   "source": [
    "# ------- Para a segunda metade  -------\n",
    "\n",
    "sns.regplot(x=df_nodes_maior['coreness'], y=df_nodes_maior['MetacriticScore']);"
   ]
  },
  {
   "cell_type": "code",
   "execution_count": null,
   "metadata": {},
   "outputs": [],
   "source": [
    "result_maior = reg.linear(data=df_nodes_maior, formula='MetacriticScore ~ coreness + ReleaseYear + TotalRevenue')"
   ]
  },
  {
   "cell_type": "code",
   "execution_count": null,
   "metadata": {},
   "outputs": [],
   "source": [
    "result_maior.micro_summary()"
   ]
  },
  {
   "cell_type": "code",
   "execution_count": null,
   "metadata": {},
   "outputs": [],
   "source": [
    "result_menor.plot_residuals()"
   ]
  }
 ],
 "metadata": {
  "kernelspec": {
   "display_name": "Python 3 (ipykernel)",
   "language": "python",
   "name": "python3"
  },
  "language_info": {
   "codemirror_mode": {
    "name": "ipython",
    "version": 3
   },
   "file_extension": ".py",
   "mimetype": "text/x-python",
   "name": "python",
   "nbconvert_exporter": "python",
   "pygments_lexer": "ipython3",
   "version": "3.10.10"
  }
 },
 "nbformat": 4,
 "nbformat_minor": 4
}
